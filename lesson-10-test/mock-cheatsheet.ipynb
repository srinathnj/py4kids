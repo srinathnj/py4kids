{
 "cells": [
  {
   "cell_type": "markdown",
   "metadata": {},
   "source": [
    "https://medium.com/@yeraydiazdiaz/what-the-mock-cheatsheet-mocking-in-python-6a71db997832\n",
    "\n",
    "[unittest.mock](https://docs.python.org/3/library/unittest.mock.html) : for stubbing dependencies and mocking side effects\n",
    "-  a library for testing in Python. It allows you to replace parts of your system under test with mock objects and make assertions about how they have been used. "
   ]
  },
  {
   "cell_type": "code",
   "execution_count": 1,
   "metadata": {},
   "outputs": [],
   "source": [
    "from unittest import mock\n",
    "\n",
    "m = mock.Mock()\n",
    "assert isinstance(m.foo, mock.Mock)\n",
    "assert isinstance(m.bar, mock.Mock)\n",
    "assert isinstance(m(), mock.Mock)\n",
    "assert m.foo is not m.bar is not m()"
   ]
  },
  {
   "cell_type": "code",
   "execution_count": 2,
   "metadata": {},
   "outputs": [],
   "source": [
    "m.foo = 'bar'\n",
    "assert m.foo == 'bar'\n",
    "\n",
    "m.configure_mock(bar='baz')\n",
    "assert m.bar == 'baz'"
   ]
  },
  {
   "cell_type": "code",
   "execution_count": 3,
   "metadata": {},
   "outputs": [
    {
     "data": {
      "text/plain": [
       "'baz'"
      ]
     },
     "execution_count": 3,
     "metadata": {},
     "output_type": "execute_result"
    }
   ],
   "source": [
    "m.bar"
   ]
  },
  {
   "cell_type": "code",
   "execution_count": 6,
   "metadata": {},
   "outputs": [
    {
     "data": {
      "text/plain": [
       "<Mock name='mock()' id='139740659435024'>"
      ]
     },
     "execution_count": 6,
     "metadata": {},
     "output_type": "execute_result"
    }
   ],
   "source": [
    "x= m()\n",
    "x"
   ]
  },
  {
   "cell_type": "code",
   "execution_count": 7,
   "metadata": {},
   "outputs": [],
   "source": [
    "m.return_value = 42\n",
    "assert m() == 42"
   ]
  },
  {
   "cell_type": "code",
   "execution_count": 8,
   "metadata": {},
   "outputs": [
    {
     "data": {
      "text/plain": [
       "42"
      ]
     },
     "execution_count": 8,
     "metadata": {},
     "output_type": "execute_result"
    }
   ],
   "source": [
    "x= m()\n",
    "x"
   ]
  },
  {
   "cell_type": "code",
   "execution_count": 26,
   "metadata": {},
   "outputs": [],
   "source": [
    "m.side_effect = ['foo', 'bar', 'baz', \"boo\"]"
   ]
  },
  {
   "cell_type": "raw",
   "metadata": {},
   "source": [
    "m()"
   ]
  },
  {
   "cell_type": "code",
   "execution_count": null,
   "metadata": {},
   "outputs": [],
   "source": [
    "assert m() == 'foo'\n",
    "assert m() == 'bar'\n",
    "assert m() == 'baz'"
   ]
  },
  {
   "cell_type": "code",
   "execution_count": 28,
   "metadata": {},
   "outputs": [
    {
     "name": "stdout",
     "output_type": "stream",
     "text": [
      "Exception StopIteration\n"
     ]
    }
   ],
   "source": [
    "try:\n",
    "    m()\n",
    "except StopIteration:\n",
    "    print(\"Exception StopIteration\")\n",
    "    assert True, \"except True\"\n",
    "else:\n",
    "    print(\"No Exception StopIteration\")\n",
    "    assert False, \"else False\""
   ]
  },
  {
   "cell_type": "code",
   "execution_count": 29,
   "metadata": {},
   "outputs": [],
   "source": [
    "m.side_effect = RuntimeError('Boom')\n",
    "try:\n",
    "    m()\n",
    "except RuntimeError:\n",
    "    assert True\n",
    "else:\n",
    "    assert False"
   ]
  },
  {
   "cell_type": "code",
   "execution_count": 31,
   "metadata": {},
   "outputs": [
    {
     "name": "stdout",
     "output_type": "stream",
     "text": [
      "foo\n",
      "Not called: True\n"
     ]
    }
   ],
   "source": [
    "# m.assert_called()\n",
    "try:\n",
    "    m.assert_called_once()\n",
    "except AssertionError:\n",
    "    assert True\n",
    "    print(\"Not called: True\")\n",
    "else:\n",
    "    assert False\n",
    "    print(\"Not Called: False\")    "
   ]
  },
  {
   "cell_type": "code",
   "execution_count": 34,
   "metadata": {},
   "outputs": [
    {
     "name": "stdout",
     "output_type": "stream",
     "text": [
      "boo\n",
      "None\n"
     ]
    }
   ],
   "source": [
    "m.return_value = 100\n",
    "print(m())\n",
    "print(m.assert_called())"
   ]
  },
  {
   "cell_type": "code",
   "execution_count": 39,
   "metadata": {},
   "outputs": [
    {
     "name": "stdout",
     "output_type": "stream",
     "text": [
      "call_count = 41\n"
     ]
    }
   ],
   "source": [
    "m.assert_called()\n",
    "print(f\"call_count = {m.call_count}\")"
   ]
  },
  {
   "cell_type": "code",
   "execution_count": 11,
   "metadata": {},
   "outputs": [],
   "source": [
    "try:\n",
    "    m(1, foo='bar')\n",
    "except RuntimeError:\n",
    "    assert True\n",
    "else:\n",
    "    assert False\n",
    "assert m.call_args == mock.call(1, foo='bar')\n",
    "assert len(m.call_args_list) > 1\n",
    "\n",
    "m.reset_mock()\n",
    "assert m.call_args is None"
   ]
  },
  {
   "cell_type": "code",
   "execution_count": null,
   "metadata": {},
   "outputs": [],
   "source": []
  }
 ],
 "metadata": {
  "kernelspec": {
   "display_name": "Python 3",
   "language": "python",
   "name": "python3"
  },
  "language_info": {
   "codemirror_mode": {
    "name": "ipython",
    "version": 3
   },
   "file_extension": ".py",
   "mimetype": "text/x-python",
   "name": "python",
   "nbconvert_exporter": "python",
   "pygments_lexer": "ipython3",
   "version": "3.8.5"
  }
 },
 "nbformat": 4,
 "nbformat_minor": 4
}
