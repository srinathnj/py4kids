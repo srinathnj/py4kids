{
 "cells": [
  {
   "cell_type": "markdown",
   "metadata": {},
   "source": [
    "- [Introducing JupyterDash](https://medium.com/plotly/introducing-jupyterdash-811f1f57c02e)"
   ]
  },
  {
   "cell_type": "markdown",
   "metadata": {},
   "source": [
    "copy any [Dash example](https://dash.plotly.com/basic-callbacks) into a Jupyter notebook cell and replace the `dash.Dash` class with the `jupyter_dash.JupyterDash` class."
   ]
  },
  {
   "cell_type": "code",
   "execution_count": 1,
   "metadata": {
    "scrolled": true
   },
   "outputs": [
    {
     "name": "stdout",
     "output_type": "stream",
     "text": [
      "Requirement already satisfied: jupyter-dash in /home/wengong/anaconda3/lib/python3.7/site-packages (0.3.1)\n",
      "Requirement already satisfied: dash in /home/wengong/anaconda3/lib/python3.7/site-packages (from jupyter-dash) (1.17.0)\n",
      "Requirement already satisfied: requests in /home/wengong/anaconda3/lib/python3.7/site-packages (from jupyter-dash) (2.22.0)\n",
      "Requirement already satisfied: ipykernel in /home/wengong/anaconda3/lib/python3.7/site-packages (from jupyter-dash) (5.1.4)\n",
      "Requirement already satisfied: ansi2html in /home/wengong/anaconda3/lib/python3.7/site-packages (from jupyter-dash) (1.6.0)\n",
      "Requirement already satisfied: ipython in /home/wengong/anaconda3/lib/python3.7/site-packages (from jupyter-dash) (7.12.0)\n",
      "Requirement already satisfied: retrying in /home/wengong/anaconda3/lib/python3.7/site-packages (from jupyter-dash) (1.3.3)\n",
      "Requirement already satisfied: flask in /home/wengong/anaconda3/lib/python3.7/site-packages (from jupyter-dash) (1.1.2)\n",
      "Requirement already satisfied: dash-core-components==1.13.0 in /home/wengong/anaconda3/lib/python3.7/site-packages (from dash->jupyter-dash) (1.13.0)\n",
      "Requirement already satisfied: dash-table==4.11.0 in /home/wengong/anaconda3/lib/python3.7/site-packages (from dash->jupyter-dash) (4.11.0)\n",
      "Requirement already satisfied: flask-compress in /home/wengong/anaconda3/lib/python3.7/site-packages (from dash->jupyter-dash) (1.8.0)\n",
      "Requirement already satisfied: plotly in /home/wengong/anaconda3/lib/python3.7/site-packages (from dash->jupyter-dash) (4.12.0)\n",
      "Requirement already satisfied: dash-html-components==1.1.1 in /home/wengong/anaconda3/lib/python3.7/site-packages (from dash->jupyter-dash) (1.1.1)\n",
      "Requirement already satisfied: dash-renderer==1.8.3 in /home/wengong/anaconda3/lib/python3.7/site-packages (from dash->jupyter-dash) (1.8.3)\n",
      "Requirement already satisfied: future in /home/wengong/anaconda3/lib/python3.7/site-packages (from dash->jupyter-dash) (0.18.2)\n",
      "Requirement already satisfied: idna<2.9,>=2.5 in /home/wengong/anaconda3/lib/python3.7/site-packages (from requests->jupyter-dash) (2.8)\n",
      "Requirement already satisfied: certifi>=2017.4.17 in /home/wengong/anaconda3/lib/python3.7/site-packages (from requests->jupyter-dash) (2019.11.28)\n",
      "Requirement already satisfied: urllib3!=1.25.0,!=1.25.1,<1.26,>=1.21.1 in /home/wengong/anaconda3/lib/python3.7/site-packages (from requests->jupyter-dash) (1.25.8)\n",
      "Requirement already satisfied: chardet<3.1.0,>=3.0.2 in /home/wengong/anaconda3/lib/python3.7/site-packages (from requests->jupyter-dash) (3.0.4)\n",
      "Requirement already satisfied: jupyter-client in /home/wengong/anaconda3/lib/python3.7/site-packages (from ipykernel->jupyter-dash) (5.3.4)\n",
      "Requirement already satisfied: tornado>=4.2 in /home/wengong/anaconda3/lib/python3.7/site-packages (from ipykernel->jupyter-dash) (6.0.3)\n",
      "Requirement already satisfied: traitlets>=4.1.0 in /home/wengong/anaconda3/lib/python3.7/site-packages (from ipykernel->jupyter-dash) (4.3.3)\n",
      "Requirement already satisfied: decorator in /home/wengong/anaconda3/lib/python3.7/site-packages (from ipython->jupyter-dash) (4.4.1)\n",
      "Requirement already satisfied: backcall in /home/wengong/anaconda3/lib/python3.7/site-packages (from ipython->jupyter-dash) (0.1.0)\n",
      "Requirement already satisfied: setuptools>=18.5 in /home/wengong/anaconda3/lib/python3.7/site-packages (from ipython->jupyter-dash) (45.2.0.post20200210)\n",
      "Requirement already satisfied: pickleshare in /home/wengong/anaconda3/lib/python3.7/site-packages (from ipython->jupyter-dash) (0.7.5)\n",
      "Requirement already satisfied: pygments in /home/wengong/anaconda3/lib/python3.7/site-packages (from ipython->jupyter-dash) (2.5.2)\n",
      "Requirement already satisfied: pexpect; sys_platform != \"win32\" in /home/wengong/anaconda3/lib/python3.7/site-packages (from ipython->jupyter-dash) (4.8.0)\n",
      "Requirement already satisfied: prompt-toolkit!=3.0.0,!=3.0.1,<3.1.0,>=2.0.0 in /home/wengong/anaconda3/lib/python3.7/site-packages (from ipython->jupyter-dash) (3.0.3)\n",
      "Requirement already satisfied: jedi>=0.10 in /home/wengong/anaconda3/lib/python3.7/site-packages (from ipython->jupyter-dash) (0.14.1)\n",
      "Requirement already satisfied: six>=1.7.0 in /home/wengong/anaconda3/lib/python3.7/site-packages (from retrying->jupyter-dash) (1.15.0)\n",
      "Requirement already satisfied: Werkzeug>=0.15 in /home/wengong/anaconda3/lib/python3.7/site-packages (from flask->jupyter-dash) (0.16.1)\n",
      "Requirement already satisfied: Jinja2>=2.10.1 in /home/wengong/anaconda3/lib/python3.7/site-packages (from flask->jupyter-dash) (2.11.2)\n",
      "Requirement already satisfied: click>=5.1 in /home/wengong/anaconda3/lib/python3.7/site-packages (from flask->jupyter-dash) (6.7)\n",
      "Requirement already satisfied: itsdangerous>=0.24 in /home/wengong/anaconda3/lib/python3.7/site-packages (from flask->jupyter-dash) (1.1.0)\n",
      "Requirement already satisfied: brotli in /home/wengong/anaconda3/lib/python3.7/site-packages (from flask-compress->dash->jupyter-dash) (1.0.9)\n",
      "Requirement already satisfied: pyzmq>=13 in /home/wengong/anaconda3/lib/python3.7/site-packages (from jupyter-client->ipykernel->jupyter-dash) (18.1.1)\n",
      "Requirement already satisfied: python-dateutil>=2.1 in /home/wengong/anaconda3/lib/python3.7/site-packages (from jupyter-client->ipykernel->jupyter-dash) (2.8.1)\n",
      "Requirement already satisfied: jupyter-core>=4.6.0 in /home/wengong/anaconda3/lib/python3.7/site-packages (from jupyter-client->ipykernel->jupyter-dash) (4.6.1)\n",
      "Requirement already satisfied: ipython-genutils in /home/wengong/anaconda3/lib/python3.7/site-packages (from traitlets>=4.1.0->ipykernel->jupyter-dash) (0.2.0)\n",
      "Requirement already satisfied: ptyprocess>=0.5 in /home/wengong/anaconda3/lib/python3.7/site-packages (from pexpect; sys_platform != \"win32\"->ipython->jupyter-dash) (0.6.0)\n",
      "Requirement already satisfied: wcwidth in /home/wengong/anaconda3/lib/python3.7/site-packages (from prompt-toolkit!=3.0.0,!=3.0.1,<3.1.0,>=2.0.0->ipython->jupyter-dash) (0.1.8)\n",
      "Requirement already satisfied: parso>=0.5.0 in /home/wengong/anaconda3/lib/python3.7/site-packages (from jedi>=0.10->ipython->jupyter-dash) (0.5.2)\n",
      "Requirement already satisfied: MarkupSafe>=0.23 in /home/wengong/anaconda3/lib/python3.7/site-packages (from Jinja2>=2.10.1->flask->jupyter-dash) (1.1.1)\n"
     ]
    }
   ],
   "source": [
    "!pip install jupyter-dash"
   ]
  },
  {
   "cell_type": "code",
   "execution_count": 4,
   "metadata": {},
   "outputs": [
    {
     "data": {
      "text/html": [
       "\n",
       "        <iframe\n",
       "            width=\"100%\"\n",
       "            height=\"650\"\n",
       "            src=\"http://127.0.0.1:8050/\"\n",
       "            frameborder=\"0\"\n",
       "            allowfullscreen\n",
       "        ></iframe>\n",
       "        "
      ],
      "text/plain": [
       "<IPython.lib.display.IFrame at 0x7f213b3dab10>"
      ]
     },
     "metadata": {},
     "output_type": "display_data"
    }
   ],
   "source": [
    "import plotly.express as px\n",
    "from jupyter_dash import JupyterDash\n",
    "import dash_core_components as dcc\n",
    "import dash_html_components as html\n",
    "from dash.dependencies import Input, Output\n",
    "# Load Data\n",
    "df = px.data.tips()\n",
    "# Build App\n",
    "app = JupyterDash(__name__)\n",
    "app.layout = html.Div([\n",
    "    html.H1(\"JupyterDash Demo\"),\n",
    "    html.Label([\n",
    "        \"colorscale\",\n",
    "        dcc.Dropdown(\n",
    "            id='id-colorscale-dropdown', \n",
    "            clearable=False,\n",
    "            value='plasma', \n",
    "            options=[\n",
    "                {'label': c, 'value': c}\n",
    "                for c in px.colors.named_colorscales()\n",
    "            ]\n",
    "        )\n",
    "    ]),\n",
    "    dcc.Graph(id='id-graph'),\n",
    "])\n",
    "\n",
    "# Define callback to update graph\n",
    "@app.callback(\n",
    "    Output('id-graph', 'figure'),\n",
    "    [Input(\"id-colorscale-dropdown\", \"value\")]\n",
    ")\n",
    "def update_figure(colorscale):\n",
    "    return px.scatter(\n",
    "        df, \n",
    "        x=\"total_bill\", \n",
    "        y=\"tip\", \n",
    "        color=\"size\",\n",
    "        color_continuous_scale=colorscale,\n",
    "        render_mode=\"webgl\", \n",
    "        title=\"Tips\"\n",
    "    )\n",
    "\n",
    "# Run app and display result\n",
    "# use an IPython.display.IFrame to display the application inline in the notebook\n",
    "app.run_server(mode='inline')   "
   ]
  },
  {
   "cell_type": "code",
   "execution_count": 5,
   "metadata": {},
   "outputs": [
    {
     "name": "stdout",
     "output_type": "stream",
     "text": [
      "Dash app running on http://127.0.0.1:8050/\n"
     ]
    }
   ],
   "source": [
    "# default display mode external prints out the application’s URL\n",
    "app.run_server(mode='external')   "
   ]
  },
  {
   "cell_type": "markdown",
   "metadata": {},
   "source": [
    "## [Basic Dash Callbacks](https://dash.plotly.com/basic-callbacks)"
   ]
  },
  {
   "cell_type": "code",
   "execution_count": 8,
   "metadata": {},
   "outputs": [
    {
     "name": "stdout",
     "output_type": "stream",
     "text": [
      "Dash app running on http://127.0.0.1:8050/\n"
     ]
    }
   ],
   "source": [
    "import jupyter_dash\n",
    "import dash_core_components as dcc\n",
    "import dash_html_components as html\n",
    "from dash.dependencies import Input, Output\n",
    "\n",
    "external_stylesheets = ['https://codepen.io/chriddyp/pen/bWLwgP.css']\n",
    "\n",
    "app = jupyter_dash.JupyterDash(__name__, external_stylesheets=external_stylesheets)\n",
    "\n",
    "app.layout = html.Div([\n",
    "    html.H6(\"Change the value in the text box to see callbacks in action!\"),\n",
    "    html.Div([\"Input: \",\n",
    "              dcc.Input(id='my-input', value='initial value', type='text')]),\n",
    "    html.Br(),\n",
    "    html.Div(id='my-output'),\n",
    "\n",
    "])\n",
    "\n",
    "\n",
    "@app.callback(\n",
    "    Output(component_id='my-output', component_property='children'),\n",
    "    Input(component_id='my-input', component_property='value')\n",
    ")\n",
    "def update_output_div(input_value):\n",
    "    return 'Output: {}'.format(input_value)\n",
    "\n",
    "\n",
    "if __name__ == '__main__':\n",
    "    app.run_server(debug=True)"
   ]
  },
  {
   "cell_type": "markdown",
   "metadata": {},
   "source": [
    "### Dash App Layout With Figure and Slider"
   ]
  },
  {
   "cell_type": "code",
   "execution_count": 7,
   "metadata": {},
   "outputs": [
    {
     "name": "stdout",
     "output_type": "stream",
     "text": [
      "Dash app running on http://127.0.0.1:8050/\n"
     ]
    }
   ],
   "source": [
    "import jupyter_dash\n",
    "import dash_core_components as dcc\n",
    "import dash_html_components as html\n",
    "from dash.dependencies import Input, Output\n",
    "import plotly.express as px\n",
    "\n",
    "import pandas as pd\n",
    "\n",
    "df = pd.read_csv('https://raw.githubusercontent.com/plotly/datasets/master/gapminderDataFiveYear.csv')\n",
    "\n",
    "external_stylesheets = ['https://codepen.io/chriddyp/pen/bWLwgP.css']\n",
    "\n",
    "app = jupyter_dash.JupyterDash(__name__, external_stylesheets=external_stylesheets)\n",
    "\n",
    "app.layout = html.Div([\n",
    "    dcc.Graph(id='graph-with-slider'),\n",
    "    dcc.Slider(\n",
    "        id='year-slider',\n",
    "        min=df['year'].min(),\n",
    "        max=df['year'].max(),\n",
    "        value=df['year'].min(),\n",
    "        marks={str(year): str(year) for year in df['year'].unique()},\n",
    "        step=None\n",
    "    )\n",
    "])\n",
    "\n",
    "\n",
    "@app.callback(\n",
    "    Output('graph-with-slider', 'figure'),\n",
    "    Input('year-slider', 'value'))\n",
    "def update_figure(selected_year):\n",
    "    filtered_df = df[df.year == selected_year]\n",
    "\n",
    "    fig = px.scatter(filtered_df, x=\"gdpPercap\", y=\"lifeExp\",\n",
    "                     size=\"pop\", color=\"continent\", hover_name=\"country\",\n",
    "                     log_x=True, size_max=55)\n",
    "\n",
    "    fig.update_layout(transition_duration=500)\n",
    "\n",
    "    return fig\n",
    "\n",
    "\n",
    "if __name__ == '__main__':\n",
    "    app.run_server(debug=True)"
   ]
  },
  {
   "cell_type": "markdown",
   "metadata": {},
   "source": [
    "### Dash App With Multiple Inputs"
   ]
  },
  {
   "cell_type": "code",
   "execution_count": 9,
   "metadata": {},
   "outputs": [
    {
     "name": "stdout",
     "output_type": "stream",
     "text": [
      "Dash app running on http://127.0.0.1:8050/\n"
     ]
    }
   ],
   "source": [
    "import jupyter_dash\n",
    "import dash_core_components as dcc\n",
    "import dash_html_components as html\n",
    "from dash.dependencies import Input, Output\n",
    "import plotly.express as px\n",
    "\n",
    "import pandas as pd\n",
    "\n",
    "external_stylesheets = ['https://codepen.io/chriddyp/pen/bWLwgP.css']\n",
    "\n",
    "app = jupyter_dash.JupyterDash(__name__, external_stylesheets=external_stylesheets)\n",
    "\n",
    "df = pd.read_csv('https://plotly.github.io/datasets/country_indicators.csv')\n",
    "\n",
    "available_indicators = df['Indicator Name'].unique()\n",
    "\n",
    "app.layout = html.Div([\n",
    "    html.Div([\n",
    "\n",
    "        html.Div([\n",
    "            dcc.Dropdown(\n",
    "                id='xaxis-column',\n",
    "                options=[{'label': i, 'value': i} for i in available_indicators],\n",
    "                value='Fertility rate, total (births per woman)'\n",
    "            ),\n",
    "            dcc.RadioItems(\n",
    "                id='xaxis-type',\n",
    "                options=[{'label': i, 'value': i} for i in ['Linear', 'Log']],\n",
    "                value='Linear',\n",
    "                labelStyle={'display': 'inline-block'}\n",
    "            )\n",
    "        ],\n",
    "        style={'width': '48%', 'display': 'inline-block'}),\n",
    "\n",
    "        html.Div([\n",
    "            dcc.Dropdown(\n",
    "                id='yaxis-column',\n",
    "                options=[{'label': i, 'value': i} for i in available_indicators],\n",
    "                value='Life expectancy at birth, total (years)'\n",
    "            ),\n",
    "            dcc.RadioItems(\n",
    "                id='yaxis-type',\n",
    "                options=[{'label': i, 'value': i} for i in ['Linear', 'Log']],\n",
    "                value='Linear',\n",
    "                labelStyle={'display': 'inline-block'}\n",
    "            )\n",
    "        ],style={'width': '48%', 'float': 'right', 'display': 'inline-block'})\n",
    "    ]),\n",
    "\n",
    "    dcc.Graph(id='indicator-graphic'),\n",
    "\n",
    "    dcc.Slider(\n",
    "        id='year--slider',\n",
    "        min=df['Year'].min(),\n",
    "        max=df['Year'].max(),\n",
    "        value=df['Year'].max(),\n",
    "        marks={str(year): str(year) for year in df['Year'].unique()},\n",
    "        step=None\n",
    "    )\n",
    "])\n",
    "\n",
    "@app.callback(\n",
    "    Output('indicator-graphic', 'figure'),\n",
    "    Input('xaxis-column', 'value'),\n",
    "    Input('yaxis-column', 'value'),\n",
    "    Input('xaxis-type', 'value'),\n",
    "    Input('yaxis-type', 'value'),\n",
    "    Input('year--slider', 'value'))\n",
    "def update_graph(xaxis_column_name, yaxis_column_name,\n",
    "                 xaxis_type, yaxis_type,\n",
    "                 year_value):\n",
    "    dff = df[df['Year'] == year_value]\n",
    "\n",
    "    fig = px.scatter(x=dff[dff['Indicator Name'] == xaxis_column_name]['Value'],\n",
    "                     y=dff[dff['Indicator Name'] == yaxis_column_name]['Value'],\n",
    "                     hover_name=dff[dff['Indicator Name'] == yaxis_column_name]['Country Name'])\n",
    "\n",
    "    fig.update_layout(margin={'l': 40, 'b': 40, 't': 10, 'r': 0}, hovermode='closest')\n",
    "\n",
    "    fig.update_xaxes(title=xaxis_column_name,\n",
    "                     type='linear' if xaxis_type == 'Linear' else 'log')\n",
    "\n",
    "    fig.update_yaxes(title=yaxis_column_name,\n",
    "                     type='linear' if yaxis_type == 'Linear' else 'log')\n",
    "\n",
    "    return fig\n",
    "\n",
    "\n",
    "if __name__ == '__main__':\n",
    "    app.run_server(debug=True)"
   ]
  },
  {
   "cell_type": "markdown",
   "metadata": {},
   "source": [
    "### Dash App With Multiple Outputs"
   ]
  },
  {
   "cell_type": "code",
   "execution_count": 10,
   "metadata": {},
   "outputs": [
    {
     "name": "stdout",
     "output_type": "stream",
     "text": [
      "Dash app running on http://127.0.0.1:8050/\n"
     ]
    }
   ],
   "source": [
    "import jupyter_dash\n",
    "import dash_core_components as dcc\n",
    "import dash_html_components as html\n",
    "from dash.dependencies import Input, Output\n",
    "\n",
    "external_stylesheets = ['https://codepen.io/chriddyp/pen/bWLwgP.css']\n",
    "\n",
    "app = jupyter_dash.JupyterDash(__name__, external_stylesheets=external_stylesheets)\n",
    "\n",
    "app.layout = html.Div([\n",
    "    dcc.Input(\n",
    "        id='num-multi',\n",
    "        type='number',\n",
    "        value=5\n",
    "    ),\n",
    "    html.Table([\n",
    "        html.Tr([html.Td(['x', html.Sup(2)]), html.Td(id='square')]),\n",
    "        html.Tr([html.Td(['x', html.Sup(3)]), html.Td(id='cube')]),\n",
    "        html.Tr([html.Td([2, html.Sup('x')]), html.Td(id='twos')]),\n",
    "        html.Tr([html.Td([3, html.Sup('x')]), html.Td(id='threes')]),\n",
    "        html.Tr([html.Td(['x', html.Sup('x')]), html.Td(id='x^x')]),\n",
    "    ]),\n",
    "])\n",
    "\n",
    "\n",
    "@app.callback(\n",
    "    Output('square', 'children'),\n",
    "    Output('cube', 'children'),\n",
    "    Output('twos', 'children'),\n",
    "    Output('threes', 'children'),\n",
    "    Output('x^x', 'children'),\n",
    "    Input('num-multi', 'value'))\n",
    "def callback_a(x):\n",
    "    return x**2, x**3, 2**x, 3**x, x**x\n",
    "\n",
    "\n",
    "if __name__ == '__main__':\n",
    "    app.run_server(debug=True)"
   ]
  },
  {
   "cell_type": "markdown",
   "metadata": {},
   "source": [
    "### Dash App With Chained Callbacks"
   ]
  },
  {
   "cell_type": "code",
   "execution_count": 11,
   "metadata": {},
   "outputs": [
    {
     "name": "stdout",
     "output_type": "stream",
     "text": [
      "Dash app running on http://127.0.0.1:8050/\n"
     ]
    }
   ],
   "source": [
    "# -*- coding: utf-8 -*-\n",
    "import jupyter_dash\n",
    "import dash_core_components as dcc\n",
    "import dash_html_components as html\n",
    "from dash.dependencies import Input, Output\n",
    "\n",
    "external_stylesheets = ['https://codepen.io/chriddyp/pen/bWLwgP.css']\n",
    "\n",
    "app = jupyter_dash.JupyterDash(__name__, external_stylesheets=external_stylesheets)\n",
    "\n",
    "all_options = {\n",
    "    'America': ['New York City', 'San Francisco', 'Cincinnati'],\n",
    "    'Canada': [u'Montréal', 'Toronto', 'Ottawa']\n",
    "}\n",
    "app.layout = html.Div([\n",
    "    dcc.RadioItems(\n",
    "        id='countries-radio',\n",
    "        options=[{'label': k, 'value': k} for k in all_options.keys()],\n",
    "        value='America'\n",
    "    ),\n",
    "\n",
    "    html.Hr(),\n",
    "\n",
    "    dcc.RadioItems(id='cities-radio'),\n",
    "\n",
    "    html.Hr(),\n",
    "\n",
    "    html.Div(id='display-selected-values')\n",
    "])\n",
    "\n",
    "\n",
    "@app.callback(\n",
    "    Output('cities-radio', 'options'),\n",
    "    Input('countries-radio', 'value'))\n",
    "def set_cities_options(selected_country):\n",
    "    return [{'label': i, 'value': i} for i in all_options[selected_country]]\n",
    "\n",
    "\n",
    "@app.callback(\n",
    "    Output('cities-radio', 'value'),\n",
    "    Input('cities-radio', 'options'))\n",
    "def set_cities_value(available_options):\n",
    "    return available_options[0]['value']\n",
    "\n",
    "\n",
    "@app.callback(\n",
    "    Output('display-selected-values', 'children'),\n",
    "    Input('countries-radio', 'value'),\n",
    "    Input('cities-radio', 'value'))\n",
    "def set_display_children(selected_country, selected_city):\n",
    "    return u'{} is a city in {}'.format(\n",
    "        selected_city, selected_country,\n",
    "    )\n",
    "\n",
    "\n",
    "if __name__ == '__main__':\n",
    "    app.run_server(debug=True)"
   ]
  },
  {
   "cell_type": "markdown",
   "metadata": {},
   "source": [
    "### Dash App With State"
   ]
  },
  {
   "cell_type": "code",
   "execution_count": 13,
   "metadata": {},
   "outputs": [
    {
     "name": "stdout",
     "output_type": "stream",
     "text": [
      "Dash app running on http://127.0.0.1:8050/\n"
     ]
    }
   ],
   "source": [
    "# -*- coding: utf-8 -*-\n",
    "import jupyter_dash\n",
    "import dash_core_components as dcc\n",
    "import dash_html_components as html\n",
    "from dash.dependencies import Input, Output\n",
    "\n",
    "external_stylesheets = [\"https://codepen.io/chriddyp/pen/bWLwgP.css\"]\n",
    "\n",
    "app = jupyter_dash.JupyterDash(__name__, external_stylesheets=external_stylesheets)\n",
    "\n",
    "app.layout = html.Div(\n",
    "    [\n",
    "        dcc.Input(id=\"input-1\", type=\"text\", value=\"Montréal\"),\n",
    "        dcc.Input(id=\"input-2\", type=\"text\", value=\"Canada\"),\n",
    "        html.Div(id=\"number-output\"),\n",
    "    ]\n",
    ")\n",
    "\n",
    "\n",
    "@app.callback(\n",
    "    Output(\"number-output\", \"children\"),\n",
    "    Input(\"input-1\", \"value\"),\n",
    "    Input(\"input-2\", \"value\"),\n",
    ")\n",
    "def update_output(input1, input2):\n",
    "    return f'Input 1 is \"{input1}\" and Input 2 is \"{input2}\"'\n",
    "\n",
    "\n",
    "if __name__ == \"__main__\":\n",
    "    app.run_server(debug=True)"
   ]
  },
  {
   "cell_type": "code",
   "execution_count": 14,
   "metadata": {},
   "outputs": [
    {
     "name": "stdout",
     "output_type": "stream",
     "text": [
      "Dash app running on http://127.0.0.1:8050/\n"
     ]
    }
   ],
   "source": [
    "# -*- coding: utf-8 -*-\n",
    "import jupyter_dash\n",
    "import dash_core_components as dcc\n",
    "import dash_html_components as html\n",
    "from dash.dependencies import Input, Output, State\n",
    "\n",
    "external_stylesheets = ['https://codepen.io/chriddyp/pen/bWLwgP.css']\n",
    "\n",
    "app = jupyter_dash.JupyterDash(__name__, external_stylesheets=external_stylesheets)\n",
    "\n",
    "app.layout = html.Div([\n",
    "    dcc.Input(id='input-1-state', type='text', value='Montréal'),\n",
    "    dcc.Input(id='input-2-state', type='text', value='Canada'),\n",
    "    html.Button(id='submit-button-state', n_clicks=0, children='Submit'),\n",
    "    html.Div(id='output-state')\n",
    "])\n",
    "\n",
    "\n",
    "@app.callback(Output('output-state', 'children'),\n",
    "              Input('submit-button-state', 'n_clicks'),\n",
    "              State('input-1-state', 'value'),\n",
    "              State('input-2-state', 'value'))\n",
    "def update_output(n_clicks, input1, input2):\n",
    "    return u'''\n",
    "        The Button has been pressed {} times,\n",
    "        Input 1 is \"{}\",\n",
    "        and Input 2 is \"{}\"\n",
    "    '''.format(n_clicks, input1, input2)\n",
    "\n",
    "\n",
    "if __name__ == '__main__':\n",
    "    app.run_server(debug=True)"
   ]
  },
  {
   "cell_type": "code",
   "execution_count": null,
   "metadata": {},
   "outputs": [],
   "source": []
  }
 ],
 "metadata": {
  "kernelspec": {
   "display_name": "Python 3",
   "language": "python",
   "name": "python3"
  },
  "language_info": {
   "codemirror_mode": {
    "name": "ipython",
    "version": 3
   },
   "file_extension": ".py",
   "mimetype": "text/x-python",
   "name": "python",
   "nbconvert_exporter": "python",
   "pygments_lexer": "ipython3",
   "version": "3.7.6"
  }
 },
 "nbformat": 4,
 "nbformat_minor": 4
}
