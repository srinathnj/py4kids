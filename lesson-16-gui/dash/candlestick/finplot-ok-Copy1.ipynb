{
 "cells": [
  {
   "cell_type": "code",
   "execution_count": 1,
   "metadata": {},
   "outputs": [],
   "source": [
    "import finplot as fplt\n",
    "import pandas as pd"
   ]
  },
  {
   "cell_type": "code",
   "execution_count": 2,
   "metadata": {},
   "outputs": [],
   "source": [
    "symbol = \"AAPL\"\n",
    "df = pd.read_csv(f\"{symbol}.csv\")"
   ]
  },
  {
   "cell_type": "code",
   "execution_count": 3,
   "metadata": {},
   "outputs": [],
   "source": [
    "df = df.rename(columns={'Date':'time', 'Open':'open', 'Close':'close', 'High':'high', \n",
    "                        'Low':'low', 'Volume':'volume', 'Adj Close':'adj_close'})"
   ]
  },
  {
   "cell_type": "code",
   "execution_count": 4,
   "metadata": {},
   "outputs": [],
   "source": [
    "df = df.astype({'time':'datetime64[ns]'})"
   ]
  },
  {
   "cell_type": "code",
   "execution_count": 5,
   "metadata": {},
   "outputs": [],
   "source": [
    "df['ma15']  = df['close'].rolling(15).mean()\n",
    "df['ma50']  = df['close'].rolling(50).mean()\n",
    "df['ma200'] = df['close'].rolling(200).mean()"
   ]
  },
  {
   "cell_type": "code",
   "execution_count": 6,
   "metadata": {},
   "outputs": [],
   "source": [
    "factor1 = 2.0\n",
    "factor2 = 0.5\n",
    "df['macd1'] = df['ma15'] - df['ma50']\n",
    "df['macd1_avg'] = df['macd1'].rolling(10).mean()\n",
    "df['macd1_dif'] = factor1*(df['macd1'] - df['macd1_avg'])\n",
    "df['macd2'] = factor2*(df['ma50'] - df['ma200'])"
   ]
  },
  {
   "cell_type": "code",
   "execution_count": 7,
   "metadata": {
    "scrolled": true
   },
   "outputs": [
    {
     "data": {
      "text/html": [
       "<div>\n",
       "<style scoped>\n",
       "    .dataframe tbody tr th:only-of-type {\n",
       "        vertical-align: middle;\n",
       "    }\n",
       "\n",
       "    .dataframe tbody tr th {\n",
       "        vertical-align: top;\n",
       "    }\n",
       "\n",
       "    .dataframe thead th {\n",
       "        text-align: right;\n",
       "    }\n",
       "</style>\n",
       "<table border=\"1\" class=\"dataframe\">\n",
       "  <thead>\n",
       "    <tr style=\"text-align: right;\">\n",
       "      <th></th>\n",
       "      <th>time</th>\n",
       "      <th>open</th>\n",
       "      <th>high</th>\n",
       "      <th>low</th>\n",
       "      <th>close</th>\n",
       "      <th>adj_close</th>\n",
       "      <th>volume</th>\n",
       "      <th>ma15</th>\n",
       "      <th>ma50</th>\n",
       "      <th>ma200</th>\n",
       "      <th>macd1</th>\n",
       "      <th>macd1_avg</th>\n",
       "      <th>macd1_dif</th>\n",
       "      <th>macd2</th>\n",
       "    </tr>\n",
       "  </thead>\n",
       "  <tbody>\n",
       "    <tr>\n",
       "      <th>1500</th>\n",
       "      <td>2020-12-16</td>\n",
       "      <td>127.410004</td>\n",
       "      <td>128.369995</td>\n",
       "      <td>126.559998</td>\n",
       "      <td>127.809998</td>\n",
       "      <td>127.809998</td>\n",
       "      <td>98208600</td>\n",
       "      <td>122.379333</td>\n",
       "      <td>118.4432</td>\n",
       "      <td>97.338137</td>\n",
       "      <td>3.936133</td>\n",
       "      <td>2.574473</td>\n",
       "      <td>6.808300</td>\n",
       "      <td>4.221013</td>\n",
       "    </tr>\n",
       "    <tr>\n",
       "      <th>1501</th>\n",
       "      <td>2020-12-17</td>\n",
       "      <td>128.899994</td>\n",
       "      <td>129.580002</td>\n",
       "      <td>128.039993</td>\n",
       "      <td>128.699997</td>\n",
       "      <td>128.699997</td>\n",
       "      <td>94359800</td>\n",
       "      <td>123.224000</td>\n",
       "      <td>118.7156</td>\n",
       "      <td>97.615487</td>\n",
       "      <td>4.508400</td>\n",
       "      <td>2.811400</td>\n",
       "      <td>8.485000</td>\n",
       "      <td>4.220023</td>\n",
       "    </tr>\n",
       "    <tr>\n",
       "      <th>1502</th>\n",
       "      <td>2020-12-18</td>\n",
       "      <td>128.960007</td>\n",
       "      <td>129.100006</td>\n",
       "      <td>126.120003</td>\n",
       "      <td>126.660004</td>\n",
       "      <td>126.660004</td>\n",
       "      <td>192541500</td>\n",
       "      <td>123.895333</td>\n",
       "      <td>118.9494</td>\n",
       "      <td>97.887500</td>\n",
       "      <td>4.945933</td>\n",
       "      <td>3.099873</td>\n",
       "      <td>9.230302</td>\n",
       "      <td>4.212380</td>\n",
       "    </tr>\n",
       "    <tr>\n",
       "      <th>1503</th>\n",
       "      <td>2020-12-21</td>\n",
       "      <td>125.019997</td>\n",
       "      <td>128.309998</td>\n",
       "      <td>123.449997</td>\n",
       "      <td>128.229996</td>\n",
       "      <td>128.229996</td>\n",
       "      <td>121251600</td>\n",
       "      <td>124.507333</td>\n",
       "      <td>119.1746</td>\n",
       "      <td>98.195937</td>\n",
       "      <td>5.332733</td>\n",
       "      <td>3.420033</td>\n",
       "      <td>9.563501</td>\n",
       "      <td>4.195733</td>\n",
       "    </tr>\n",
       "    <tr>\n",
       "      <th>1504</th>\n",
       "      <td>2020-12-22</td>\n",
       "      <td>131.610001</td>\n",
       "      <td>134.410004</td>\n",
       "      <td>129.649994</td>\n",
       "      <td>131.880005</td>\n",
       "      <td>131.880005</td>\n",
       "      <td>168904800</td>\n",
       "      <td>125.118000</td>\n",
       "      <td>119.3242</td>\n",
       "      <td>98.498662</td>\n",
       "      <td>5.793800</td>\n",
       "      <td>3.777940</td>\n",
       "      <td>10.079301</td>\n",
       "      <td>4.165108</td>\n",
       "    </tr>\n",
       "  </tbody>\n",
       "</table>\n",
       "</div>"
      ],
      "text/plain": [
       "           time        open        high         low       close   adj_close  \\\n",
       "1500 2020-12-16  127.410004  128.369995  126.559998  127.809998  127.809998   \n",
       "1501 2020-12-17  128.899994  129.580002  128.039993  128.699997  128.699997   \n",
       "1502 2020-12-18  128.960007  129.100006  126.120003  126.660004  126.660004   \n",
       "1503 2020-12-21  125.019997  128.309998  123.449997  128.229996  128.229996   \n",
       "1504 2020-12-22  131.610001  134.410004  129.649994  131.880005  131.880005   \n",
       "\n",
       "         volume        ma15      ma50      ma200     macd1  macd1_avg  \\\n",
       "1500   98208600  122.379333  118.4432  97.338137  3.936133   2.574473   \n",
       "1501   94359800  123.224000  118.7156  97.615487  4.508400   2.811400   \n",
       "1502  192541500  123.895333  118.9494  97.887500  4.945933   3.099873   \n",
       "1503  121251600  124.507333  119.1746  98.195937  5.332733   3.420033   \n",
       "1504  168904800  125.118000  119.3242  98.498662  5.793800   3.777940   \n",
       "\n",
       "      macd1_dif     macd2  \n",
       "1500   6.808300  4.221013  \n",
       "1501   8.485000  4.220023  \n",
       "1502   9.230302  4.212380  \n",
       "1503   9.563501  4.195733  \n",
       "1504  10.079301  4.165108  "
      ]
     },
     "execution_count": 7,
     "metadata": {},
     "output_type": "execute_result"
    }
   ],
   "source": [
    "df.tail()"
   ]
  },
  {
   "cell_type": "code",
   "execution_count": 8,
   "metadata": {},
   "outputs": [],
   "source": [
    "import datetime\n",
    "# df2 = df[df['time'] > datetime.datetime(2018,12,1)]\n",
    "df2 = df[-400:]"
   ]
  },
  {
   "cell_type": "code",
   "execution_count": 9,
   "metadata": {},
   "outputs": [
    {
     "data": {
      "text/html": [
       "<div>\n",
       "<style scoped>\n",
       "    .dataframe tbody tr th:only-of-type {\n",
       "        vertical-align: middle;\n",
       "    }\n",
       "\n",
       "    .dataframe tbody tr th {\n",
       "        vertical-align: top;\n",
       "    }\n",
       "\n",
       "    .dataframe thead th {\n",
       "        text-align: right;\n",
       "    }\n",
       "</style>\n",
       "<table border=\"1\" class=\"dataframe\">\n",
       "  <thead>\n",
       "    <tr style=\"text-align: right;\">\n",
       "      <th></th>\n",
       "      <th>time</th>\n",
       "      <th>open</th>\n",
       "      <th>high</th>\n",
       "      <th>low</th>\n",
       "      <th>close</th>\n",
       "      <th>adj_close</th>\n",
       "      <th>volume</th>\n",
       "      <th>ma15</th>\n",
       "      <th>ma50</th>\n",
       "      <th>ma200</th>\n",
       "      <th>macd1</th>\n",
       "      <th>macd1_avg</th>\n",
       "      <th>macd1_dif</th>\n",
       "      <th>macd2</th>\n",
       "    </tr>\n",
       "  </thead>\n",
       "  <tbody>\n",
       "    <tr>\n",
       "      <th>1500</th>\n",
       "      <td>2020-12-16</td>\n",
       "      <td>127.410004</td>\n",
       "      <td>128.369995</td>\n",
       "      <td>126.559998</td>\n",
       "      <td>127.809998</td>\n",
       "      <td>127.809998</td>\n",
       "      <td>98208600</td>\n",
       "      <td>122.379333</td>\n",
       "      <td>118.4432</td>\n",
       "      <td>97.338137</td>\n",
       "      <td>3.936133</td>\n",
       "      <td>2.574473</td>\n",
       "      <td>6.808300</td>\n",
       "      <td>4.221013</td>\n",
       "    </tr>\n",
       "    <tr>\n",
       "      <th>1501</th>\n",
       "      <td>2020-12-17</td>\n",
       "      <td>128.899994</td>\n",
       "      <td>129.580002</td>\n",
       "      <td>128.039993</td>\n",
       "      <td>128.699997</td>\n",
       "      <td>128.699997</td>\n",
       "      <td>94359800</td>\n",
       "      <td>123.224000</td>\n",
       "      <td>118.7156</td>\n",
       "      <td>97.615487</td>\n",
       "      <td>4.508400</td>\n",
       "      <td>2.811400</td>\n",
       "      <td>8.485000</td>\n",
       "      <td>4.220023</td>\n",
       "    </tr>\n",
       "    <tr>\n",
       "      <th>1502</th>\n",
       "      <td>2020-12-18</td>\n",
       "      <td>128.960007</td>\n",
       "      <td>129.100006</td>\n",
       "      <td>126.120003</td>\n",
       "      <td>126.660004</td>\n",
       "      <td>126.660004</td>\n",
       "      <td>192541500</td>\n",
       "      <td>123.895333</td>\n",
       "      <td>118.9494</td>\n",
       "      <td>97.887500</td>\n",
       "      <td>4.945933</td>\n",
       "      <td>3.099873</td>\n",
       "      <td>9.230302</td>\n",
       "      <td>4.212380</td>\n",
       "    </tr>\n",
       "    <tr>\n",
       "      <th>1503</th>\n",
       "      <td>2020-12-21</td>\n",
       "      <td>125.019997</td>\n",
       "      <td>128.309998</td>\n",
       "      <td>123.449997</td>\n",
       "      <td>128.229996</td>\n",
       "      <td>128.229996</td>\n",
       "      <td>121251600</td>\n",
       "      <td>124.507333</td>\n",
       "      <td>119.1746</td>\n",
       "      <td>98.195937</td>\n",
       "      <td>5.332733</td>\n",
       "      <td>3.420033</td>\n",
       "      <td>9.563501</td>\n",
       "      <td>4.195733</td>\n",
       "    </tr>\n",
       "    <tr>\n",
       "      <th>1504</th>\n",
       "      <td>2020-12-22</td>\n",
       "      <td>131.610001</td>\n",
       "      <td>134.410004</td>\n",
       "      <td>129.649994</td>\n",
       "      <td>131.880005</td>\n",
       "      <td>131.880005</td>\n",
       "      <td>168904800</td>\n",
       "      <td>125.118000</td>\n",
       "      <td>119.3242</td>\n",
       "      <td>98.498662</td>\n",
       "      <td>5.793800</td>\n",
       "      <td>3.777940</td>\n",
       "      <td>10.079301</td>\n",
       "      <td>4.165108</td>\n",
       "    </tr>\n",
       "  </tbody>\n",
       "</table>\n",
       "</div>"
      ],
      "text/plain": [
       "           time        open        high         low       close   adj_close  \\\n",
       "1500 2020-12-16  127.410004  128.369995  126.559998  127.809998  127.809998   \n",
       "1501 2020-12-17  128.899994  129.580002  128.039993  128.699997  128.699997   \n",
       "1502 2020-12-18  128.960007  129.100006  126.120003  126.660004  126.660004   \n",
       "1503 2020-12-21  125.019997  128.309998  123.449997  128.229996  128.229996   \n",
       "1504 2020-12-22  131.610001  134.410004  129.649994  131.880005  131.880005   \n",
       "\n",
       "         volume        ma15      ma50      ma200     macd1  macd1_avg  \\\n",
       "1500   98208600  122.379333  118.4432  97.338137  3.936133   2.574473   \n",
       "1501   94359800  123.224000  118.7156  97.615487  4.508400   2.811400   \n",
       "1502  192541500  123.895333  118.9494  97.887500  4.945933   3.099873   \n",
       "1503  121251600  124.507333  119.1746  98.195937  5.332733   3.420033   \n",
       "1504  168904800  125.118000  119.3242  98.498662  5.793800   3.777940   \n",
       "\n",
       "      macd1_dif     macd2  \n",
       "1500   6.808300  4.221013  \n",
       "1501   8.485000  4.220023  \n",
       "1502   9.230302  4.212380  \n",
       "1503   9.563501  4.195733  \n",
       "1504  10.079301  4.165108  "
      ]
     },
     "execution_count": 9,
     "metadata": {},
     "output_type": "execute_result"
    }
   ],
   "source": [
    "df2.tail()"
   ]
  },
  {
   "cell_type": "code",
   "execution_count": 10,
   "metadata": {},
   "outputs": [],
   "source": [
    "df2.to_csv(f\"{symbol}-ta.csv\", index=False)"
   ]
  },
  {
   "cell_type": "code",
   "execution_count": 11,
   "metadata": {},
   "outputs": [],
   "source": [
    "df = pd.read_csv(f\"{symbol}-ta.csv\")"
   ]
  },
  {
   "cell_type": "code",
   "execution_count": 12,
   "metadata": {},
   "outputs": [],
   "source": [
    "df = df.astype({'time':'datetime64[ns]'})"
   ]
  },
  {
   "cell_type": "code",
   "execution_count": 13,
   "metadata": {},
   "outputs": [],
   "source": [
    "# create two axes\n",
    "ax,ax2 = fplt.create_plot(symbol, rows=2)"
   ]
  },
  {
   "cell_type": "code",
   "execution_count": 14,
   "metadata": {},
   "outputs": [
    {
     "data": {
      "text/plain": [
       "<pyqtgraph.graphicsItems.PlotDataItem.PlotDataItem at 0x7fc8d8cec9d0>"
      ]
     },
     "execution_count": 14,
     "metadata": {},
     "output_type": "execute_result"
    }
   ],
   "source": [
    "# plot candle sticks\n",
    "candles = df[['time','open','close','high','low']]\n",
    "fplt.candlestick_ochl(candles, ax=ax)\n",
    "\n",
    "# put 3 MA on the close price\n",
    "fplt.plot(df['time'], df['ma15'], ax=ax, legend='ma15')\n",
    "fplt.plot(df['time'], df['ma50'], ax=ax, legend='ma50')\n",
    "fplt.plot(df['time'], df['ma200'], ax=ax, legend='ma200')\n",
    "\n",
    "# overlay volume on the top plot\n",
    "volumes = df[['time','open','close','volume']]\n",
    "fplt.volume_ocv(volumes, ax=ax.overlay())\n",
    "\n",
    "# draw indicators on our second plot\n",
    "fplt.plot(df['time'], df['macd1_dif'], ax=ax2, color='#208349', legend='macd1_dif')\n",
    "fplt.plot(df['time'], df['macd1'], ax=ax2, color='#FF5E33', legend='macd1')\n",
    "fplt.plot(df['time'], df['macd1_avg'], ax=ax2, color='#336FFF', legend='macd1_avg')\n",
    "fplt.plot(df['time'], df['macd2'], ax=ax2, color='#DE58D5', legend='macd2')\n",
    "# fplt.set_y_range(-1.4, +3.7, ax=ax2) # hard-code y-axis range limitation"
   ]
  },
  {
   "cell_type": "raw",
   "metadata": {},
   "source": [
    "df['macd1'] = df['ma15'] - df['ma50']\n",
    "df['macd2'] = df['ma50'] - df['ma200']\n",
    "df['macd1_avg'] = df['macd1'].rolling(10).mean()\n",
    "df['macd1_dif'] = df['macd1'] - df['macd1_avg']"
   ]
  },
  {
   "cell_type": "code",
   "execution_count": 15,
   "metadata": {},
   "outputs": [],
   "source": [
    "# restore view (X-position and zoom) if we ever run this example again\n",
    "fplt.autoviewrestore()"
   ]
  },
  {
   "cell_type": "code",
   "execution_count": 16,
   "metadata": {},
   "outputs": [],
   "source": [
    "# we're done\n",
    "fplt.show()"
   ]
  },
  {
   "cell_type": "code",
   "execution_count": 23,
   "metadata": {},
   "outputs": [],
   "source": [
    "fplt.screenshot?"
   ]
  },
  {
   "cell_type": "code",
   "execution_count": 24,
   "metadata": {},
   "outputs": [],
   "source": [
    "import datetime"
   ]
  },
  {
   "cell_type": "code",
   "execution_count": 27,
   "metadata": {},
   "outputs": [],
   "source": [
    "png_file = f\"{symbol}_{datetime.datetime.now().strftime('%Y-%m-%d')}.png\""
   ]
  },
  {
   "cell_type": "code",
   "execution_count": 28,
   "metadata": {},
   "outputs": [
    {
     "data": {
      "text/plain": [
       "'AAPL_2020-12-24.png'"
      ]
     },
     "execution_count": 28,
     "metadata": {},
     "output_type": "execute_result"
    }
   ],
   "source": [
    "png_file"
   ]
  },
  {
   "cell_type": "code",
   "execution_count": 30,
   "metadata": {},
   "outputs": [
    {
     "data": {
      "text/plain": [
       "268"
      ]
     },
     "execution_count": 30,
     "metadata": {},
     "output_type": "execute_result"
    }
   ],
   "source": [
    "df.shape[0]"
   ]
  },
  {
   "cell_type": "code",
   "execution_count": 31,
   "metadata": {},
   "outputs": [
    {
     "data": {
      "text/plain": [
       "False"
      ]
     },
     "execution_count": 31,
     "metadata": {},
     "output_type": "execute_result"
    }
   ],
   "source": [
    "df.empty"
   ]
  },
  {
   "cell_type": "code",
   "execution_count": 33,
   "metadata": {},
   "outputs": [
    {
     "data": {
      "text/html": [
       "<div>\n",
       "<style scoped>\n",
       "    .dataframe tbody tr th:only-of-type {\n",
       "        vertical-align: middle;\n",
       "    }\n",
       "\n",
       "    .dataframe tbody tr th {\n",
       "        vertical-align: top;\n",
       "    }\n",
       "\n",
       "    .dataframe thead th {\n",
       "        text-align: right;\n",
       "    }\n",
       "</style>\n",
       "<table border=\"1\" class=\"dataframe\">\n",
       "  <thead>\n",
       "    <tr style=\"text-align: right;\">\n",
       "      <th></th>\n",
       "      <th>time</th>\n",
       "      <th>open</th>\n",
       "      <th>high</th>\n",
       "      <th>low</th>\n",
       "      <th>close</th>\n",
       "      <th>adj_close</th>\n",
       "      <th>volume</th>\n",
       "      <th>ma15</th>\n",
       "      <th>ma50</th>\n",
       "      <th>ma200</th>\n",
       "      <th>macd1</th>\n",
       "      <th>macd1_avg</th>\n",
       "      <th>macd1_dif</th>\n",
       "      <th>macd2</th>\n",
       "    </tr>\n",
       "  </thead>\n",
       "  <tbody>\n",
       "    <tr>\n",
       "      <th>0</th>\n",
       "      <td>2019-12-02</td>\n",
       "      <td>66.817497</td>\n",
       "      <td>67.062500</td>\n",
       "      <td>65.862503</td>\n",
       "      <td>66.040001</td>\n",
       "      <td>65.474564</td>\n",
       "      <td>94487200</td>\n",
       "      <td>66.121834</td>\n",
       "      <td>61.23135</td>\n",
       "      <td>52.276088</td>\n",
       "      <td>4.890484</td>\n",
       "      <td>5.253604</td>\n",
       "      <td>-1.815600</td>\n",
       "      <td>1.791053</td>\n",
       "    </tr>\n",
       "    <tr>\n",
       "      <th>1</th>\n",
       "      <td>2019-12-03</td>\n",
       "      <td>64.577499</td>\n",
       "      <td>64.882500</td>\n",
       "      <td>64.072502</td>\n",
       "      <td>64.862503</td>\n",
       "      <td>64.307152</td>\n",
       "      <td>114430400</td>\n",
       "      <td>66.076001</td>\n",
       "      <td>61.43500</td>\n",
       "      <td>52.386738</td>\n",
       "      <td>4.641001</td>\n",
       "      <td>5.196844</td>\n",
       "      <td>-2.779217</td>\n",
       "      <td>1.809653</td>\n",
       "    </tr>\n",
       "    <tr>\n",
       "      <th>2</th>\n",
       "      <td>2019-12-04</td>\n",
       "      <td>65.267502</td>\n",
       "      <td>65.827499</td>\n",
       "      <td>65.169998</td>\n",
       "      <td>65.434998</td>\n",
       "      <td>64.874741</td>\n",
       "      <td>67181600</td>\n",
       "      <td>66.072334</td>\n",
       "      <td>61.65530</td>\n",
       "      <td>52.498875</td>\n",
       "      <td>4.417034</td>\n",
       "      <td>5.104149</td>\n",
       "      <td>-3.435575</td>\n",
       "      <td>1.831285</td>\n",
       "    </tr>\n",
       "    <tr>\n",
       "      <th>3</th>\n",
       "      <td>2019-12-05</td>\n",
       "      <td>65.947502</td>\n",
       "      <td>66.472504</td>\n",
       "      <td>65.682503</td>\n",
       "      <td>66.394997</td>\n",
       "      <td>65.826523</td>\n",
       "      <td>74424400</td>\n",
       "      <td>66.090834</td>\n",
       "      <td>61.87805</td>\n",
       "      <td>52.617025</td>\n",
       "      <td>4.212784</td>\n",
       "      <td>4.977612</td>\n",
       "      <td>-3.824143</td>\n",
       "      <td>1.852205</td>\n",
       "    </tr>\n",
       "    <tr>\n",
       "      <th>4</th>\n",
       "      <td>2019-12-06</td>\n",
       "      <td>66.870003</td>\n",
       "      <td>67.750000</td>\n",
       "      <td>66.824997</td>\n",
       "      <td>67.677498</td>\n",
       "      <td>67.098030</td>\n",
       "      <td>106075600</td>\n",
       "      <td>66.225334</td>\n",
       "      <td>62.13215</td>\n",
       "      <td>52.739200</td>\n",
       "      <td>4.093183</td>\n",
       "      <td>4.836492</td>\n",
       "      <td>-3.716544</td>\n",
       "      <td>1.878590</td>\n",
       "    </tr>\n",
       "    <tr>\n",
       "      <th>...</th>\n",
       "      <td>...</td>\n",
       "      <td>...</td>\n",
       "      <td>...</td>\n",
       "      <td>...</td>\n",
       "      <td>...</td>\n",
       "      <td>...</td>\n",
       "      <td>...</td>\n",
       "      <td>...</td>\n",
       "      <td>...</td>\n",
       "      <td>...</td>\n",
       "      <td>...</td>\n",
       "      <td>...</td>\n",
       "      <td>...</td>\n",
       "      <td>...</td>\n",
       "    </tr>\n",
       "    <tr>\n",
       "      <th>263</th>\n",
       "      <td>2020-12-16</td>\n",
       "      <td>127.410004</td>\n",
       "      <td>128.369995</td>\n",
       "      <td>126.559998</td>\n",
       "      <td>127.809998</td>\n",
       "      <td>127.809998</td>\n",
       "      <td>98208600</td>\n",
       "      <td>122.379333</td>\n",
       "      <td>118.44320</td>\n",
       "      <td>97.338137</td>\n",
       "      <td>3.936133</td>\n",
       "      <td>2.574473</td>\n",
       "      <td>6.808300</td>\n",
       "      <td>4.221013</td>\n",
       "    </tr>\n",
       "    <tr>\n",
       "      <th>264</th>\n",
       "      <td>2020-12-17</td>\n",
       "      <td>128.899994</td>\n",
       "      <td>129.580002</td>\n",
       "      <td>128.039993</td>\n",
       "      <td>128.699997</td>\n",
       "      <td>128.699997</td>\n",
       "      <td>94359800</td>\n",
       "      <td>123.224000</td>\n",
       "      <td>118.71560</td>\n",
       "      <td>97.615487</td>\n",
       "      <td>4.508400</td>\n",
       "      <td>2.811400</td>\n",
       "      <td>8.485000</td>\n",
       "      <td>4.220023</td>\n",
       "    </tr>\n",
       "    <tr>\n",
       "      <th>265</th>\n",
       "      <td>2020-12-18</td>\n",
       "      <td>128.960007</td>\n",
       "      <td>129.100006</td>\n",
       "      <td>126.120003</td>\n",
       "      <td>126.660004</td>\n",
       "      <td>126.660004</td>\n",
       "      <td>192541500</td>\n",
       "      <td>123.895333</td>\n",
       "      <td>118.94940</td>\n",
       "      <td>97.887500</td>\n",
       "      <td>4.945933</td>\n",
       "      <td>3.099873</td>\n",
       "      <td>9.230302</td>\n",
       "      <td>4.212380</td>\n",
       "    </tr>\n",
       "    <tr>\n",
       "      <th>266</th>\n",
       "      <td>2020-12-21</td>\n",
       "      <td>125.019997</td>\n",
       "      <td>128.309998</td>\n",
       "      <td>123.449997</td>\n",
       "      <td>128.229996</td>\n",
       "      <td>128.229996</td>\n",
       "      <td>121251600</td>\n",
       "      <td>124.507333</td>\n",
       "      <td>119.17460</td>\n",
       "      <td>98.195937</td>\n",
       "      <td>5.332733</td>\n",
       "      <td>3.420033</td>\n",
       "      <td>9.563501</td>\n",
       "      <td>4.195733</td>\n",
       "    </tr>\n",
       "    <tr>\n",
       "      <th>267</th>\n",
       "      <td>2020-12-22</td>\n",
       "      <td>131.610001</td>\n",
       "      <td>134.410004</td>\n",
       "      <td>129.649994</td>\n",
       "      <td>131.880005</td>\n",
       "      <td>131.880005</td>\n",
       "      <td>168904800</td>\n",
       "      <td>125.118000</td>\n",
       "      <td>119.32420</td>\n",
       "      <td>98.498662</td>\n",
       "      <td>5.793800</td>\n",
       "      <td>3.777940</td>\n",
       "      <td>10.079301</td>\n",
       "      <td>4.165108</td>\n",
       "    </tr>\n",
       "  </tbody>\n",
       "</table>\n",
       "<p>268 rows × 14 columns</p>\n",
       "</div>"
      ],
      "text/plain": [
       "          time        open        high         low       close   adj_close  \\\n",
       "0   2019-12-02   66.817497   67.062500   65.862503   66.040001   65.474564   \n",
       "1   2019-12-03   64.577499   64.882500   64.072502   64.862503   64.307152   \n",
       "2   2019-12-04   65.267502   65.827499   65.169998   65.434998   64.874741   \n",
       "3   2019-12-05   65.947502   66.472504   65.682503   66.394997   65.826523   \n",
       "4   2019-12-06   66.870003   67.750000   66.824997   67.677498   67.098030   \n",
       "..         ...         ...         ...         ...         ...         ...   \n",
       "263 2020-12-16  127.410004  128.369995  126.559998  127.809998  127.809998   \n",
       "264 2020-12-17  128.899994  129.580002  128.039993  128.699997  128.699997   \n",
       "265 2020-12-18  128.960007  129.100006  126.120003  126.660004  126.660004   \n",
       "266 2020-12-21  125.019997  128.309998  123.449997  128.229996  128.229996   \n",
       "267 2020-12-22  131.610001  134.410004  129.649994  131.880005  131.880005   \n",
       "\n",
       "        volume        ma15       ma50      ma200     macd1  macd1_avg  \\\n",
       "0     94487200   66.121834   61.23135  52.276088  4.890484   5.253604   \n",
       "1    114430400   66.076001   61.43500  52.386738  4.641001   5.196844   \n",
       "2     67181600   66.072334   61.65530  52.498875  4.417034   5.104149   \n",
       "3     74424400   66.090834   61.87805  52.617025  4.212784   4.977612   \n",
       "4    106075600   66.225334   62.13215  52.739200  4.093183   4.836492   \n",
       "..         ...         ...        ...        ...       ...        ...   \n",
       "263   98208600  122.379333  118.44320  97.338137  3.936133   2.574473   \n",
       "264   94359800  123.224000  118.71560  97.615487  4.508400   2.811400   \n",
       "265  192541500  123.895333  118.94940  97.887500  4.945933   3.099873   \n",
       "266  121251600  124.507333  119.17460  98.195937  5.332733   3.420033   \n",
       "267  168904800  125.118000  119.32420  98.498662  5.793800   3.777940   \n",
       "\n",
       "     macd1_dif     macd2  \n",
       "0    -1.815600  1.791053  \n",
       "1    -2.779217  1.809653  \n",
       "2    -3.435575  1.831285  \n",
       "3    -3.824143  1.852205  \n",
       "4    -3.716544  1.878590  \n",
       "..         ...       ...  \n",
       "263   6.808300  4.221013  \n",
       "264   8.485000  4.220023  \n",
       "265   9.230302  4.212380  \n",
       "266   9.563501  4.195733  \n",
       "267  10.079301  4.165108  \n",
       "\n",
       "[268 rows x 14 columns]"
      ]
     },
     "execution_count": 33,
     "metadata": {},
     "output_type": "execute_result"
    }
   ],
   "source": [
    "df"
   ]
  },
  {
   "cell_type": "code",
   "execution_count": 43,
   "metadata": {},
   "outputs": [
    {
     "data": {
      "text/plain": [
       "'2020-12-22'"
      ]
     },
     "execution_count": 43,
     "metadata": {},
     "output_type": "execute_result"
    }
   ],
   "source": [
    "str(df.tail(1)['time'].values[0]).split(\"T\")[0]"
   ]
  },
  {
   "cell_type": "code",
   "execution_count": null,
   "metadata": {},
   "outputs": [],
   "source": []
  }
 ],
 "metadata": {
  "kernelspec": {
   "display_name": "Python 3",
   "language": "python",
   "name": "python3"
  },
  "language_info": {
   "codemirror_mode": {
    "name": "ipython",
    "version": 3
   },
   "file_extension": ".py",
   "mimetype": "text/x-python",
   "name": "python",
   "nbconvert_exporter": "python",
   "pygments_lexer": "ipython3",
   "version": "3.8.5"
  }
 },
 "nbformat": 4,
 "nbformat_minor": 4
}
