{
 "cells": [
  {
   "cell_type": "markdown",
   "metadata": {},
   "source": [
    "## Learn PySimpleGUI Notebook\n",
    "\n",
    "This jupyter notebook (NB) is a tutorial on learning PySimpleGUI based on [this YouTube playlist]( https://www.youtube.com/watch?v=36BdjuNcQJ4&list=PLl8dD0doyrvFfzzniWS7FXrZefWWExJ2e). \n",
    "\n",
    "### Resources:\n",
    "\n",
    "- http://www.PySimpleGUI.org - Documentation\n",
    "- http://Cookbook.PySimpleGUI.org - Cookbook \n",
    "- http://Calls.PySimpleGUI.org - detailed call reference\n",
    "- http://www.PySimpleGUI.com - GitHub\n",
    "- http://Demos.PySimpleGUI.org - Demo Programs\n",
    "- http://Trinket.PySimpleGUI.org - Run a bunch of demos online\n",
    "- http://YouTube.PySimpleGUI.org - Playlist of the current instructional videos\n",
    "- http://Issues.PySimpleGUI.org - File an issue, ask a question, report a bug"
   ]
  },
  {
   "cell_type": "markdown",
   "metadata": {},
   "source": [
    "## Video Links"
   ]
  },
  {
   "cell_type": "code",
   "execution_count": 6,
   "metadata": {
    "code_folding": [],
    "scrolled": true
   },
   "outputs": [
    {
     "data": {
      "text/html": [
       "<ol>\n",
       "    <li><h3>PySimpleGUI 2020 - START HERE - Whiteboard video overview</h3></li>\n",
       "    <p><a href=https://youtube.com/watch?v=36BdjuNcQJ4><img src=https://i.ytimg.com/vi/36BdjuNcQJ4/sddefault.jpg> </a></p>\n",
       "    \n",
       "    <li><h3>PySimpleGUI 2020  -  Part 0 - PSG For impatient people. A GUI in 5 minutes</h3></li>\n",
       "    <p><a href=https://youtube.com/watch?v=icvLQA1YvZo><img src=https://i.ytimg.com/vi/icvLQA1YvZo/sddefault.jpg> </a></p>\n",
       "    \n",
       "    <li><h3>PySimpleGUI 2020 - Part 1 Introduction of 17 overall videos in this series</h3></li>\n",
       "    <p><a href=https://youtube.com/watch?v=7FWQZ7WdVaY><img src=https://i.ytimg.com/vi/7FWQZ7WdVaY/sddefault.jpg> </a></p>\n",
       "    \n",
       "    <li><h3>PySimpleGUI 2020  - Part 1.5 -  PyCharm Setup</h3></li>\n",
       "    <p><a href=https://youtube.com/watch?v=Kvz3Ia2hN_Y><img src=https://i.ytimg.com/vi/Kvz3Ia2hN_Y/sddefault.jpg> </a></p>\n",
       "    \n",
       "    <li><h3>PySimpleGUI 2020   Part 2 Front ends - Add a GUI \"Font End\" to any command line program</h3></li>\n",
       "    <p><a href=https://youtube.com/watch?v=18WgN6R_MZI><img src=https://i.ytimg.com/vi/18WgN6R_MZI/sddefault.jpg> </a></p>\n",
       "    \n",
       "    <li><h3>PySimpleGUI 2020  Part 3 - Your First Window ! (THE one to watch)</h3></li>\n",
       "    <p><a href=https://youtube.com/watch?v=Ja1JD0hWkJQ><img src=https://i.ytimg.com/vi/Ja1JD0hWkJQ/sddefault.jpg> </a></p>\n",
       "    \n",
       "    <li><h3>PySimpleGUI 2020  Part 4 - Updating Windows</h3></li>\n",
       "    <p><a href=https://youtube.com/watch?v=5hTWdnFz2Ts><img src=https://i.ytimg.com/vi/5hTWdnFz2Ts/sddefault.jpg> </a></p>\n",
       "    \n",
       "    <li><h3>PySimpleGUI 2020  Part 5 - Shortcuts</h3></li>\n",
       "    <p><a href=https://youtube.com/watch?v=BdRM-QubuQA><img src=https://i.ytimg.com/vi/BdRM-QubuQA/sddefault.jpg> </a></p>\n",
       "    \n",
       "    <li><h3>PySimpleGUI 2020   Part 6 - Beautiful Windows</h3></li>\n",
       "    <p><a href=https://youtube.com/watch?v=uyvN7mlAG9g><img src=https://i.ytimg.com/vi/uyvN7mlAG9g/sddefault.jpg> </a></p>\n",
       "    \n",
       "    <li><h3>PySimpleGUI 2020   Part 7 - Button Targets (File, Calendar, Color Chooser Buttons)</h3></li>\n",
       "    <p><a href=https://youtube.com/watch?v=y7UZUccC2yU><img src=https://i.ytimg.com/vi/y7UZUccC2yU/hqdefault.jpg> </a></p>\n",
       "    \n",
       "    <li><h3>PySimpleGUI 2020   Part 8 - Async Windows (Periodically run your event loop)</h3></li>\n",
       "    <p><a href=https://youtube.com/watch?v=rif2RM5Tou8><img src=https://i.ytimg.com/vi/rif2RM5Tou8/sddefault.jpg> </a></p>\n",
       "    \n",
       "    <li><h3>PySimpleGUI 2020   Part 9 - Containers. Layouts within Layouts (Columns, Frames, Tabs, Panes)</h3></li>\n",
       "    <p><a href=https://youtube.com/watch?v=e1TR9Wq0QRs><img src=https://i.ytimg.com/vi/e1TR9Wq0QRs/sddefault.jpg> </a></p>\n",
       "    \n",
       "    <li><h3>PySimpleGUI 2020   Part 10 - Generated Layouts.  Writing code to create a layout</h3></li>\n",
       "    <p><a href=https://youtube.com/watch?v=KUW6khTdoC0><img src=https://i.ytimg.com/vi/KUW6khTdoC0/sddefault.jpg> </a></p>\n",
       "    \n",
       "    <li><h3>PySimpleGUI 2020   Part 11 - Justification (Left, Center, Right)</h3></li>\n",
       "    <p><a href=https://youtube.com/watch?v=lUBouyFBfWE><img src=https://i.ytimg.com/vi/lUBouyFBfWE/sddefault.jpg> </a></p>\n",
       "    \n",
       "    <li><h3>PySimpleGUI 2020   Part 12 - Menus (Menubar, Right Click Menu, ButtonMenus)</h3></li>\n",
       "    <p><a href=https://youtube.com/watch?v=xmG53Fwynps><img src=https://i.ytimg.com/vi/xmG53Fwynps/hqdefault.jpg> </a></p>\n",
       "    \n",
       "    <li><h3>PySimpleGUI 2020   Tools of the Trade - Snagit & ShareX</h3></li>\n",
       "    <p><a href=https://youtube.com/watch?v=i5dwJ6xFZbg><img src=https://i.ytimg.com/vi/i5dwJ6xFZbg/sddefault.jpg> </a></p>\n",
       "    \n",
       "    <li><h3>PySimpleGUI 2020 - How to add screenshots to your GitHub's Readme File</h3></li>\n",
       "    <p><a href=https://youtube.com/watch?v=Uby1O7vHEOA><img src=https://i.ytimg.com/vi/Uby1O7vHEOA/sddefault.jpg> </a></p>\n",
       "    </ol>"
      ],
      "text/plain": [
       "<IPython.core.display.HTML object>"
      ]
     },
     "metadata": {},
     "output_type": "display_data"
    }
   ],
   "source": [
    "# prepare a list of videos from the playlist\n",
    "from pytube import YouTube, Playlist\n",
    "from IPython.display import display, HTML\n",
    "url = \"https://www.youtube.com/watch?v=icvLQA1YvZo&list=PLl8dD0doyrvFfzzniWS7FXrZefWWExJ2e&index=2\"\n",
    "pl = [i for i in url.split(\"&\") if i.startswith(\"list=\")][0]\n",
    "if pl:\n",
    "    p = Playlist(f'https://www.youtube.com/playlist?{pl}')\n",
    "else:\n",
    "    raise Exception(\"Missing playlist\")\n",
    "    \n",
    "videos = []\n",
    "for v in p.videos:\n",
    "    videos.append(dict(video_id=v.video_id, \n",
    "                       watch_url=v.watch_url, \n",
    "                       title=v.title, \n",
    "                       thumbnail_url=v.thumbnail_url)\n",
    "                 )\n",
    "    \n",
    "tab_html_start = f\"\"\"\n",
    "<h3>Playlist: {p.title}</h3>\n",
    "<table> \n",
    "\"\"\"\n",
    "\n",
    "tab_html_rows = \"\"\n",
    "for v in videos:\n",
    "    tab_html_rows += f\"\"\"\n",
    "<tr>\n",
    "<td>\n",
    "<a href={v[\"watch_url\"]}>{v[\"title\"]}</a><br>\n",
    "<a href={v[\"watch_url\"]}><img src={v[\"thumbnail_url\"]}> </a>\n",
    "</td>\n",
    "</tr>\n",
    "\"\"\"\n",
    "\n",
    "tab_html_end = \"\"\"\n",
    "<table>\n",
    "\"\"\"\n",
    "\n",
    "tab_html = tab_html_start + tab_html_rows + tab_html_end\n",
    "# display(HTML(tab_html))\n",
    "li_html = \"<ol>\"\n",
    "for v in videos:\n",
    "    li_html += f\"\"\"\n",
    "    <li><h3>{v[\"title\"]}</h3></li>\n",
    "    <p><a href={v[\"watch_url\"]}><img src={v[\"thumbnail_url\"]}> </a></p>\n",
    "    \"\"\"\n",
    "li_html += \"</ol>\"\n",
    "display(HTML(li_html))"
   ]
  },
  {
   "cell_type": "raw",
   "metadata": {},
   "source": [
    "md_str = \"\"\n",
    "for v in videos:\n",
    "    md_str += f\"\"\"### [{v[\"title\"]}]({v[\"watch_url\"]})\\n\"\"\"\n",
    "\n",
    "print(md_str)"
   ]
  },
  {
   "cell_type": "markdown",
   "metadata": {},
   "source": [
    "### [PySimpleGUI 2020 - START HERE - Whiteboard video overview](https://youtube.com/watch?v=36BdjuNcQJ4)"
   ]
  },
  {
   "cell_type": "code",
   "execution_count": 12,
   "metadata": {},
   "outputs": [],
   "source": [
    "import PySimpleGUI as sg\n",
    "\n",
    "layout = [[sg.Text('Enter something:'), sg.Input(k='-IN-')],\n",
    "          [sg.Text('Our output will go here', size=(30,1), k='-OUT-')],\n",
    "          [sg.Button('OK'), sg.Button('Exit')]]\n",
    "\n",
    "window = sg.Window('Title', layout)\n",
    "\n",
    "while True:\n",
    "    event, values = window.read()\n",
    "\n",
    "    # if event == 'Exit' or event == sg.WIN_CLOSED:\n",
    "    if event in ('Exit', None):\n",
    "        break\n",
    "\n",
    "    window['-OUT-'].update(values['-IN-'])\n",
    "\n",
    "window.close()"
   ]
  },
  {
   "cell_type": "markdown",
   "metadata": {},
   "source": [
    "### [PySimpleGUI 2020  -  Part 0 - PSG For impatient people. A GUI in 5 minutes](https://youtube.com/watch?v=icvLQA1YvZo)"
   ]
  },
  {
   "cell_type": "markdown",
   "metadata": {},
   "source": [
    "### [PySimpleGUI 2020 - Part 1 Introduction of 17 overall videos in this series](https://youtube.com/watch?v=7FWQZ7WdVaY)\n",
    "\n",
    "Explain PySimpleGUI concept in general\n",
    "\n",
    "[Lesson PDF](https://github.com/PySimpleGUI/PySimpleGUI/blob/master/docs/PySimpleGUI%202020%20Lesson.pdf)"
   ]
  },
  {
   "cell_type": "markdown",
   "metadata": {},
   "source": [
    "### [PySimpleGUI 2020  - Part 1.5 -  PyCharm Setup](https://youtube.com/watch?v=Kvz3Ia2hN_Y)"
   ]
  },
  {
   "cell_type": "markdown",
   "metadata": {},
   "source": [
    "### [PySimpleGUI 2020   Part 2 Front ends - Add a GUI \"Font End\" to any command line program](https://youtube.com/watch?v=18WgN6R_MZI)\n",
    "\n",
    "- [Lesson 2 source code](\n",
    "https://github.com/PySimpleGUI/PySimpleGUI/blob/master/docs/YouTube_2020_Lesson%20-%20Source%20File%201.py)"
   ]
  },
  {
   "cell_type": "markdown",
   "metadata": {},
   "source": [
    "#### oneshot"
   ]
  },
  {
   "cell_type": "code",
   "execution_count": 2,
   "metadata": {},
   "outputs": [
    {
     "data": {
      "text/plain": [
       "'OK'"
      ]
     },
     "execution_count": 2,
     "metadata": {},
     "output_type": "execute_result"
    }
   ],
   "source": [
    "import PySimpleGUI as sg\n",
    "layout = [[sg.Text('Name:'), sg.Input(key='-NAME-')],\n",
    "          [sg.Text('Favorite Color:'), sg.Combo(['Red', 'Blue', 'Green', 'Purple'], key='-COLOR-')],\n",
    "          [sg.Button('Ok')]]\n",
    "\n",
    "event, values = sg.Window('One shot', layout).read(close=True)\n",
    "\n",
    "sg.popup(event, values)"
   ]
  },
  {
   "cell_type": "markdown",
   "metadata": {},
   "source": [
    "#### 5 sections"
   ]
  },
  {
   "cell_type": "code",
   "execution_count": 1,
   "metadata": {},
   "outputs": [
    {
     "name": "stdout",
     "output_type": "stream",
     "text": [
      "OK {'-INPUT-': 'hhhh'}\n",
      "OK {'-INPUT-': 'mmm'}\n",
      "Cancel {'-INPUT-': 'mmm'}\n"
     ]
    }
   ],
   "source": [
    "# 1 - The import\n",
    "import PySimpleGUI as sg\n",
    "\n",
    "# 2 - Layout definition\n",
    "layout = [[sg.Text('My layout')],\n",
    "          [sg.Input(key='-INPUT-')],\n",
    "          [sg.Button('OK'), sg.Button('Cancel')]]\n",
    "\n",
    "# 3 - Create window\n",
    "window = sg.Window('Design Pattern 3 - Persistent Window', layout)\n",
    "\n",
    "# 4 - Event Loop\n",
    "while True:\n",
    "    event, values = window.read()\n",
    "    print(event, values)\n",
    "    if event in (None, 'Cancel'):\n",
    "        break\n",
    "\n",
    "# 5 - Close window\n",
    "window.close()"
   ]
  },
  {
   "cell_type": "markdown",
   "metadata": {},
   "source": [
    "#### window update"
   ]
  },
  {
   "cell_type": "code",
   "execution_count": 3,
   "metadata": {},
   "outputs": [
    {
     "name": "stdout",
     "output_type": "stream",
     "text": [
      "OK {'-IN-': 'go cary'}\n",
      "OK {'-IN-': 'miami'}\n",
      "Cancel {'-IN-': 'miami'}\n"
     ]
    }
   ],
   "source": [
    "# 1 - The import\n",
    "import PySimpleGUI as sg\n",
    "\n",
    "# 2 - Layout definition\n",
    "layout = [[sg.Text('My layout')],\n",
    "          [sg.Input(key='-IN-')],\n",
    "          [sg.Text('You entered:'), sg.Text(size=(20,1), key='-OUT-')],\n",
    "          [sg.Button('OK'), sg.Button('Cancel')]]\n",
    "\n",
    "# 3 - Create window\n",
    "window = sg.Window('Update window with input value', layout)\n",
    "\n",
    "# 4 - Event Loop\n",
    "while True:\n",
    "    event, values = window.read()\n",
    "    print(event, values)\n",
    "    if event in (None, 'Cancel'):\n",
    "        break\n",
    "    window['-OUT-'].update(values['-IN-'])\n",
    "# 5 - Close window\n",
    "window.close()"
   ]
  },
  {
   "cell_type": "markdown",
   "metadata": {},
   "source": [
    "#### popup"
   ]
  },
  {
   "cell_type": "code",
   "execution_count": 14,
   "metadata": {},
   "outputs": [],
   "source": [
    "import PySimpleGUI as sg\n",
    "var = (1,2,3,4)\n",
    "\n",
    "sg.popup('This is a basic popup', 'I can have multiple item arguments', var)\n",
    "\n",
    "while True:\n",
    "    text = sg.popup_get_text('Enter \"exit\" to exit')\n",
    "    if text == 'exit':\n",
    "        break\n",
    "    sg.popup('You entered:', text)\n",
    "\n",
    "sg.popup_auto_close('Closing the program', background_color='red', text_color='white')\n",
    "\n",
    "# exit()"
   ]
  },
  {
   "cell_type": "markdown",
   "metadata": {},
   "source": [
    "#### one_line_progress_meter"
   ]
  },
  {
   "cell_type": "code",
   "execution_count": 2,
   "metadata": {},
   "outputs": [],
   "source": [
    "import PySimpleGUI as sg\n",
    "for i in range(1000):\n",
    "    sg.one_line_progress_meter('My meter', i+1, 1000, 'key', 'Message 1', 'Message 2')\n",
    "\n",
    "\n",
    "for i in range(1000):\n",
    "    if not sg.one_line_progress_meter('My meter', i+1, 1000, 'key', 'Message 1', 'Message 2'):\n",
    "        sg.popup('ABORTED')\n",
    "        break\n",
    "\n",
    "# exit()"
   ]
  },
  {
   "cell_type": "markdown",
   "metadata": {},
   "source": [
    "#### targets"
   ]
  },
  {
   "cell_type": "code",
   "execution_count": 6,
   "metadata": {},
   "outputs": [
    {
     "name": "stdout",
     "output_type": "stream",
     "text": [
      "Go {'Browse': 'C:/Users/w_gon/OneDrive/Pictures/avalon', '-IN3-': 'C:/Users/w_gon/OneDrive/Pictures/avalon', '-IN-': 'C:/Users/w_gon/OneDrive/Pictures/Happy-2022.odp', 'Browse0': 'C:/Users/w_gon/OneDrive/Pictures/Happy-2022.odp', '-IN2-': 'C:/Users/w_gon/OneDrive/Pictures/cary-att.jpg', 'Browse1': 'C:/Users/w_gon/OneDrive/Pictures/cary-att.jpg'}\n",
      "Exit {'Browse': 'C:/Users/w_gon/OneDrive/Pictures/avalon', '-IN3-': 'C:/Users/w_gon/OneDrive/Pictures/avalon', '-IN-': 'C:/Users/w_gon/OneDrive/Pictures/Happy-2022.odp', 'Browse0': 'C:/Users/w_gon/OneDrive/Pictures/Happy-2022.odp', '-IN2-': 'C:/Users/w_gon/OneDrive/Pictures/cary-att.jpg', 'Browse1': 'C:/Users/w_gon/OneDrive/Pictures/cary-att.jpg'}\n"
     ]
    }
   ],
   "source": [
    "import PySimpleGUI as sg\n",
    "\n",
    "layout = [  [sg.Text('Choose a file/Folder')],\n",
    "            [sg.Text('Choose output folder'), sg.FolderBrowse(target='-IN3-')],\n",
    "            [sg.Input(key='-IN3-')],\n",
    "            [sg.Input(key='-IN-'), sg.FileBrowse()],\n",
    "            [sg.Input(key='-IN2-', visible=False), sg.FileBrowse()],\n",
    "            [sg.Button('Go'), sg.Button('Exit')]  ]\n",
    "\n",
    "window = sg.Window('Window Title', layout)\n",
    "\n",
    "while True:             # Event Loop\n",
    "    event, values = window.read()\n",
    "    print(event, values)\n",
    "    if event in (None, 'Exit'):\n",
    "        break\n",
    "window.close()"
   ]
  },
  {
   "cell_type": "markdown",
   "metadata": {},
   "source": [
    "#### nice button"
   ]
  },
  {
   "cell_type": "code",
   "execution_count": 8,
   "metadata": {},
   "outputs": [
    {
     "name": "stdout",
     "output_type": "stream",
     "text": [
      "Go {}\n",
      "Exit {}\n"
     ]
    }
   ],
   "source": [
    "import PySimpleGUI as sg\n",
    "exit_button = b'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'\n",
    "\n",
    "layout = [  [sg.Text('My Window')],\n",
    "            [sg.Button('Go'),\n",
    "             sg.Button(image_data=exit_button, border_width=0,\n",
    "                       button_color=(sg.theme_background_color(), sg.theme_background_color()),\n",
    "                       key='Exit')]]\n",
    "\n",
    "window = sg.Window('Window Title', layout)\n",
    "\n",
    "while True:             # Event Loop\n",
    "    event, values = window.read()\n",
    "    print(event, values)\n",
    "    if event in (None, 'Exit'):\n",
    "        break\n",
    "window.close()"
   ]
  },
  {
   "cell_type": "markdown",
   "metadata": {},
   "source": [
    "#### columns\n",
    "\n",
    "Problem - How to get multiple rows next to an element that consumes multiple rows?"
   ]
  },
  {
   "cell_type": "code",
   "execution_count": 9,
   "metadata": {},
   "outputs": [
    {
     "name": "stdout",
     "output_type": "stream",
     "text": [
      "Go {'-LBOX-': [7], 0: 'Wen', 1: 'Merritt Drive'}\n",
      "Exit {'-LBOX-': [7], 0: 'Wen', 1: 'Merritt Drive'}\n"
     ]
    }
   ],
   "source": [
    "layout = [  [sg.Listbox(list(range(10)), size=(10,5), key='-LBOX-')],\n",
    "            [sg.T('Name'), sg.In()],\n",
    "            [sg.T('Address'), sg.In()],\n",
    "            [sg.Button('Go'), sg.Button('Exit')]  ]\n",
    "\n",
    "window = sg.Window('Window Title', layout,auto_size_text=False, default_element_size=(12,1))\n",
    "\n",
    "while True:             # Event Loop\n",
    "    event, values = window.read()\n",
    "    print(event, values)\n",
    "    if event in (None, 'Exit'):\n",
    "        break\n",
    "window.close()"
   ]
  },
  {
   "cell_type": "markdown",
   "metadata": {},
   "source": [
    "#### Elements\n"
   ]
  },
  {
   "cell_type": "code",
   "execution_count": null,
   "metadata": {},
   "outputs": [],
   "source": [
    "import PySimpleGUI as sg\n",
    "\n",
    "\n",
    "sg.theme('Dark Red')\n",
    "\n",
    "# ------ Menu Definition ------ #\n",
    "menu_def = [['&File', ['&Open', '&Save', 'E&xit', 'Properties']],\n",
    "            ['&Edit', ['Paste', ['Special', 'Normal', ], 'Undo'], ],\n",
    "            ['&Help', '&About...'], ]\n",
    "\n",
    "# ------ Column Definition ------ #\n",
    "column1 = [[sg.Text('Column 1', justification='center', size=(10, 1))],\n",
    "           [sg.Spin(values=('Spin Box 1', 'Spin Box 2', 'Spin Box 3'),\n",
    "                    initial_value='Spin Box 1')],\n",
    "           [sg.Spin(values=['Spin Box 1', 'Spin Box 2', 'Spin Box 3'],\n",
    "                    initial_value='Spin Box 2')],\n",
    "           [sg.Spin(values=('Spin Box 1', 'Spin Box 2', 'Spin Box 3'), \n",
    "                    initial_value='Spin Box 3')]]\n",
    "\n",
    "layout = [\n",
    "    [sg.Menu(menu_def, tearoff=True)],\n",
    "    [sg.Text('(Almost) All widgets in one Window!', size=(\n",
    "        30, 1), justification='center', font=(\"Helvetica\", 25), relief=sg.RELIEF_RIDGE)],\n",
    "    [sg.Text('Here is some text.... and a place to enter text')],\n",
    "    [sg.InputText('This is my text')],\n",
    "    [sg.Frame(layout=[\n",
    "        [sg.CBox('Checkbox', size=(10, 1)),\n",
    "         sg.CBox('My second checkbox!', default=True)],\n",
    "        [sg.Radio('My first Radio!     ', \"RADIO1\", default=True, size=(10, 1)),\n",
    "         sg.Radio('My second Radio!', \"RADIO1\")]], title='Options', relief=sg.RELIEF_SUNKEN, tooltip='Use these to set flags')],\n",
    "    [sg.MLine(default_text='This is the default Text should you decide not to type anything', size=(35, 3)),\n",
    "     sg.MLine(default_text='A second multi-line', size=(35, 3))],\n",
    "    [sg.Combo(('Combobox 1', 'Combobox 2'),default_value='Combobox 1', size=(20, 1)),\n",
    "     sg.Slider(range=(1, 100), orientation='h', size=(34, 20), default_value=85)],\n",
    "    [sg.OptionMenu(('Menu Option 1', 'Menu Option 2', 'Menu Option 3'))],\n",
    "    [sg.Listbox(values=('Listbox 1', 'Listbox 2', 'Listbox 3'), size=(30, 3)),\n",
    "     sg.Frame('Labelled Group', [[\n",
    "         sg.Slider(range=(1, 100), orientation='v', size=(5, 20), default_value=25, tick_interval=25),\n",
    "         sg.Slider(range=(1, 100), orientation='v', size=(5, 20), default_value=75),\n",
    "         sg.Slider(range=(1, 100), orientation='v', size=(5, 20), default_value=10),\n",
    "         sg.Col(column1)]])\n",
    "    ],\n",
    "    [sg.Text('_' * 80)],\n",
    "    [sg.Text('Choose A Folder', size=(35, 1))],\n",
    "    [sg.Text('Your Folder', size=(15, 1), justification='right'),\n",
    "     sg.InputText('Default Folder'), sg.FolderBrowse()],\n",
    "    [sg.Submit(tooltip='Click to submit this form'), sg.Cancel()]]\n",
    "\n",
    "window = sg.Window('Everything bagel', layout)\n",
    "\n",
    "event, values = window.read()\n",
    "sg.popup('Title',\n",
    "         'The results of the window.',\n",
    "         'The button clicked was \"{}\"'.format(event),\n",
    "         'The values are', values)\n",
    "window.close()"
   ]
  },
  {
   "cell_type": "markdown",
   "metadata": {},
   "source": [
    "### [PySimpleGUI 2020  Part 3 - Your First Window ! (THE one to watch)](https://youtube.com/watch?v=Ja1JD0hWkJQ)"
   ]
  },
  {
   "cell_type": "markdown",
   "metadata": {},
   "source": [
    "### [PySimpleGUI 2020  Part 4 - Updating Windows](https://youtube.com/watch?v=5hTWdnFz2Ts)"
   ]
  },
  {
   "cell_type": "markdown",
   "metadata": {},
   "source": [
    "### [PySimpleGUI 2020  Part 5 - Shortcuts](https://youtube.com/watch?v=BdRM-QubuQA)"
   ]
  },
  {
   "cell_type": "markdown",
   "metadata": {},
   "source": [
    "### [PySimpleGUI 2020   Part 6 - Beautiful Windows](https://youtube.com/watch?v=uyvN7mlAG9g)"
   ]
  },
  {
   "cell_type": "markdown",
   "metadata": {},
   "source": [
    "### [PySimpleGUI 2020   Part 7 - Button Targets (File, Calendar, Color Chooser Buttons)](https://youtube.com/watch?v=y7UZUccC2yU)"
   ]
  },
  {
   "cell_type": "markdown",
   "metadata": {},
   "source": [
    "### [PySimpleGUI 2020   Part 8 - Async Windows (Periodically run your event loop)](https://youtube.com/watch?v=rif2RM5Tou8)"
   ]
  },
  {
   "cell_type": "markdown",
   "metadata": {},
   "source": [
    "### [PySimpleGUI 2020   Part 9 - Containers. Layouts within Layouts (Columns, Frames, Tabs, Panes)](https://youtube.com/watch?v=e1TR9Wq0QRs)"
   ]
  },
  {
   "cell_type": "markdown",
   "metadata": {},
   "source": [
    "### [PySimpleGUI 2020   Part 10 - Generated Layouts.  Writing code to create a layout](https://youtube.com/watch?v=KUW6khTdoC0)"
   ]
  },
  {
   "cell_type": "markdown",
   "metadata": {},
   "source": [
    "### [PySimpleGUI 2020   Part 11 - Justification (Left, Center, Right)](https://youtube.com/watch?v=lUBouyFBfWE)"
   ]
  },
  {
   "cell_type": "markdown",
   "metadata": {},
   "source": [
    "### [PySimpleGUI 2020   Part 12 - Menus (Menubar, Right Click Menu, ButtonMenus)](https://youtube.com/watch?v=xmG53Fwynps)"
   ]
  },
  {
   "cell_type": "markdown",
   "metadata": {},
   "source": [
    "### [PySimpleGUI 2020   Tools of the Trade - Snagit & ShareX](https://youtube.com/watch?v=i5dwJ6xFZbg)"
   ]
  },
  {
   "cell_type": "markdown",
   "metadata": {},
   "source": [
    "### [PySimpleGUI 2020 - How to add screenshots to your GitHub's Readme File](https://youtube.com/watch?v=Uby1O7vHEOA)"
   ]
  },
  {
   "cell_type": "markdown",
   "metadata": {},
   "source": []
  }
 ],
 "metadata": {
  "kernelspec": {
   "display_name": "Python 3",
   "language": "python",
   "name": "python3"
  },
  "language_info": {
   "codemirror_mode": {
    "name": "ipython",
    "version": 3
   },
   "file_extension": ".py",
   "mimetype": "text/x-python",
   "name": "python",
   "nbconvert_exporter": "python",
   "pygments_lexer": "ipython3",
   "version": "3.8.5"
  },
  "toc": {
   "base_numbering": 1,
   "nav_menu": {},
   "number_sections": true,
   "sideBar": true,
   "skip_h1_title": false,
   "title_cell": "Table of Contents",
   "title_sidebar": "Contents",
   "toc_cell": false,
   "toc_position": {
    "height": "calc(100% - 180px)",
    "left": "10px",
    "top": "150px",
    "width": "194px"
   },
   "toc_section_display": true,
   "toc_window_display": true
  }
 },
 "nbformat": 4,
 "nbformat_minor": 4
}
