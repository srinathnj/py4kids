{
 "cells": [
  {
   "cell_type": "markdown",
   "metadata": {},
   "source": [
    "## Learn PySimpleGUI Notebook\n",
    "\n",
    "This jupyter notebook (NB) is a tutorial on learning PySimpleGUI based on [this YouTube playlist](https://www.youtube.com/playlist?list=PLl8dD0doyrvF1nLakJJ7sl8OX2YSHclqn). \n",
    "\n",
    "### Resources:\n",
    "\n",
    "- http://www.PySimpleGUI.org - Documentation\n",
    "- http://Cookbook.PySimpleGUI.org - Cookbook \n",
    "- http://Calls.PySimpleGUI.org - detailed call reference\n",
    "- http://www.PySimpleGUI.com - GitHub\n",
    "- http://Demos.PySimpleGUI.org - Demo Programs\n",
    "- http://Trinket.PySimpleGUI.org - Run a bunch of demos online\n",
    "- http://YouTube.PySimpleGUI.org - Playlist of the current instructional videos\n",
    "- http://Issues.PySimpleGUI.org - File an issue, ask a question, report a bug"
   ]
  },
  {
   "cell_type": "markdown",
   "metadata": {},
   "source": [
    "## Video Links"
   ]
  },
  {
   "cell_type": "code",
   "execution_count": 2,
   "metadata": {
    "code_folding": [],
    "scrolled": true
   },
   "outputs": [
    {
     "data": {
      "text/html": [
       "<ol>\n",
       "    <li><h3>PySimpleGUI 2020 - START HERE - Whiteboard video overview</h3></li>\n",
       "    <p><a href=https://youtube.com/watch?v=36BdjuNcQJ4><img src=https://i.ytimg.com/vi/36BdjuNcQJ4/sddefault.jpg> </a></p>\n",
       "    \n",
       "    <li><h3>PySimpleGUI 2020  -  Part 0 - For impatient people (EXPERIMENTAL FAST VERSION)</h3></li>\n",
       "    <p><a href=https://youtube.com/watch?v=diWo0nIjdD4><img src=https://i.ytimg.com/vi/diWo0nIjdD4/hqdefault.jpg> </a></p>\n",
       "    \n",
       "    <li><h3>PySimpleGUI 2020   Part 1 of ___  Introduction - FAST PACED VERSION</h3></li>\n",
       "    <p><a href=https://youtube.com/watch?v=gXr1bs8wRzw><img src=https://i.ytimg.com/vi/gXr1bs8wRzw/sddefault.jpg> </a></p>\n",
       "    \n",
       "    <li><h3>PySimpleGUI 2020   Part 1.5   PyCharm Setup EXPERIMENTAL FAST VERSION</h3></li>\n",
       "    <p><a href=https://youtube.com/watch?v=6lspF_ohQIE><img src=https://i.ytimg.com/vi/6lspF_ohQIE/sddefault.jpg> </a></p>\n",
       "    \n",
       "    <li><h3>PySimpleGUI 2020   Part 2 Front ends - Add a GUI \"Front End\" to CLI (EXPERIMENTAL VERSION)</h3></li>\n",
       "    <p><a href=https://youtube.com/watch?v=xBnuA5_VU3U><img src=https://i.ytimg.com/vi/xBnuA5_VU3U/sddefault.jpg> </a></p>\n",
       "    \n",
       "    <li><h3>PySimpleGUI 2020  Part 3 - Your First Window ! EXPERIMENTAL FAST VERSION</h3></li>\n",
       "    <p><a href=https://youtube.com/watch?v=2u6Mnl5RKUs><img src=https://i.ytimg.com/vi/2u6Mnl5RKUs/sddefault.jpg> </a></p>\n",
       "    \n",
       "    <li><h3>PySimpleGUI 2020   Part 4   Updating Windows   EXPERIMENTAL FASTER VERSION</h3></li>\n",
       "    <p><a href=https://youtube.com/watch?v=Uul33H7t13s><img src=https://i.ytimg.com/vi/Uul33H7t13s/sddefault.jpg> </a></p>\n",
       "    \n",
       "    <li><h3>PySimpleGUI 2020   Part 4   Updating Windows   EXPERIMENTAL FASTEST VERSION</h3></li>\n",
       "    <p><a href=https://youtube.com/watch?v=E3x06FAX4Ao><img src=https://i.ytimg.com/vi/E3x06FAX4Ao/sddefault.jpg> </a></p>\n",
       "    \n",
       "    <li><h3>PySimpleGUI 2020   Part 5  Shortcuts   EXPERIMENTAL FASTER VERSION</h3></li>\n",
       "    <p><a href=https://youtube.com/watch?v=i1qdAiTs1-A><img src=https://i.ytimg.com/vi/i1qdAiTs1-A/sddefault.jpg> </a></p>\n",
       "    \n",
       "    <li><h3>PySimpleGUI 2020   Part 6   Beautiful Windows   EXPERIMENTAL FASTER VERSION</h3></li>\n",
       "    <p><a href=https://youtube.com/watch?v=K5VpIZX1k9k><img src=https://i.ytimg.com/vi/K5VpIZX1k9k/sddefault.jpg> </a></p>\n",
       "    \n",
       "    <li><h3>PySimpleGUI 2020 Part 7 -  Button Targets (File & other choosers) EXPERIMENTAL FASTER VERSION</h3></li>\n",
       "    <p><a href=https://youtube.com/watch?v=enChywn0ruQ><img src=https://i.ytimg.com/vi/enChywn0ruQ/hqdefault.jpg> </a></p>\n",
       "    \n",
       "    <li><h3>PySimpleGUI 2020 Part 8 - Async Windows (Periodically runs event loop)  EXPERIMENTAL FASTER VERSION</h3></li>\n",
       "    <p><a href=https://youtube.com/watch?v=QABXSAc4BqE><img src=https://i.ytimg.com/vi/QABXSAc4BqE/sddefault.jpg> </a></p>\n",
       "    \n",
       "    <li><h3>PySimpleGUI 2020   Part 9  - Containers - Layouts within Layouts   EXPERIMENTAL FASTER VERSION</h3></li>\n",
       "    <p><a href=https://youtube.com/watch?v=647OGeyHFAY><img src=https://i.ytimg.com/vi/647OGeyHFAY/sddefault.jpg> </a></p>\n",
       "    \n",
       "    <li><h3>PySimpleGUI 2020  Part 10 - Generated Layouts (Using Code) EXPERIMENTAL FASTER VERSION</h3></li>\n",
       "    <p><a href=https://youtube.com/watch?v=2WwpzXMU2KQ><img src=https://i.ytimg.com/vi/2WwpzXMU2KQ/sddefault.jpg> </a></p>\n",
       "    \n",
       "    <li><h3>PySimpleGUI 2020 Part 11 - Justification (a little outdated) EXPERIMENTAL FASTER VERSION</h3></li>\n",
       "    <p><a href=https://youtube.com/watch?v=L1TYIiq-crg><img src=https://i.ytimg.com/vi/L1TYIiq-crg/sddefault.jpg> </a></p>\n",
       "    \n",
       "    <li><h3>PySimpleGUI 2020 Part 12 - Menus (Menubar, Right Click Menu,ButtonMenus) EXPERIMENTAL FASTER VERSION</h3></li>\n",
       "    <p><a href=https://youtube.com/watch?v=5QZcQ0sQ5eU><img src=https://i.ytimg.com/vi/5QZcQ0sQ5eU/hqdefault.jpg> </a></p>\n",
       "    \n",
       "    <li><h3>PySimpleGUI 2020   Tools of the Trade - Snagit & ShareX EXPERIMENTAL FASTER VERSION</h3></li>\n",
       "    <p><a href=https://youtube.com/watch?v=hNX5ik8-bbw><img src=https://i.ytimg.com/vi/hNX5ik8-bbw/sddefault.jpg> </a></p>\n",
       "    \n",
       "    <li><h3>PySimpleGUI 2020 Adding Screenshots Your GitHub's Readme.md EXPERIMENTAL FASTER VERSION</h3></li>\n",
       "    <p><a href=https://youtube.com/watch?v=C4PVKW756fo><img src=https://i.ytimg.com/vi/C4PVKW756fo/sddefault.jpg> </a></p>\n",
       "    </ol>"
      ],
      "text/plain": [
       "<IPython.core.display.HTML object>"
      ]
     },
     "metadata": {},
     "output_type": "display_data"
    }
   ],
   "source": [
    "# prepare a list of videos from the playlist\n",
    "from pytube import YouTube, Playlist\n",
    "from IPython.display import display, HTML\n",
    "url = \"https://www.youtube.com/watch?v=gXr1bs8wRzw&list=PLl8dD0doyrvF1nLakJJ7sl8OX2YSHclqn&index=3\"\n",
    "pl = [i for i in url.split(\"&\") if i.startswith(\"list=\")][0]\n",
    "if pl:\n",
    "    p = Playlist(f'https://www.youtube.com/playlist?{pl}')\n",
    "else:\n",
    "    raise Exception(\"Missing playlist\")\n",
    "    \n",
    "videos = []\n",
    "for v in p.videos:\n",
    "    videos.append(dict(video_id=v.video_id, \n",
    "                       watch_url=v.watch_url, \n",
    "                       title=v.title, \n",
    "                       thumbnail_url=v.thumbnail_url)\n",
    "                 )\n",
    "    \n",
    "tab_html_start = f\"\"\"\n",
    "<h3>Playlist: {p.title}</h3>\n",
    "<table> \n",
    "\"\"\"\n",
    "\n",
    "tab_html_rows = \"\"\n",
    "for v in videos:\n",
    "    tab_html_rows += f\"\"\"\n",
    "<tr>\n",
    "<td>\n",
    "<a href={v[\"watch_url\"]}>{v[\"title\"]}</a><br>\n",
    "<a href={v[\"watch_url\"]}><img src={v[\"thumbnail_url\"]}> </a>\n",
    "</td>\n",
    "</tr>\n",
    "\"\"\"\n",
    "\n",
    "tab_html_end = \"\"\"\n",
    "<table>\n",
    "\"\"\"\n",
    "\n",
    "tab_html = tab_html_start + tab_html_rows + tab_html_end\n",
    "# display(HTML(tab_html))\n",
    "li_html = \"<ol>\"\n",
    "for v in videos:\n",
    "    li_html += f\"\"\"\n",
    "    <li><h3>{v[\"title\"]}</h3></li>\n",
    "    <p><a href={v[\"watch_url\"]}><img src={v[\"thumbnail_url\"]}> </a></p>\n",
    "    \"\"\"\n",
    "li_html += \"</ol>\"\n",
    "display(HTML(li_html))"
   ]
  },
  {
   "cell_type": "raw",
   "metadata": {},
   "source": [
    "md_str = \"\"\n",
    "for v in videos:\n",
    "    md_str += f\"\"\"### [{v[\"title\"]}]({v[\"watch_url\"]})\\n\"\"\"\n",
    "\n",
    "print(md_str)"
   ]
  },
  {
   "cell_type": "markdown",
   "metadata": {},
   "source": [
    "### [PySimpleGUI 2020 - START HERE - Whiteboard video overview](https://youtube.com/watch?v=36BdjuNcQJ4)\n",
    "### [PySimpleGUI 2020  -  Part 0 - For impatient people (EXPERIMENTAL FAST VERSION)](https://youtube.com/watch?v=diWo0nIjdD4)\n",
    "### [PySimpleGUI 2020   Part 1 of ___  Introduction - FAST PACED VERSION](https://youtube.com/watch?v=gXr1bs8wRzw)\n",
    "### [PySimpleGUI 2020   Part 1.5   PyCharm Setup EXPERIMENTAL FAST VERSION](https://youtube.com/watch?v=6lspF_ohQIE)\n",
    "### [PySimpleGUI 2020   Part 2 Front ends - Add a GUI \"Front End\" to CLI (EXPERIMENTAL VERSION)](https://youtube.com/watch?v=xBnuA5_VU3U)\n",
    "### [PySimpleGUI 2020  Part 3 - Your First Window ! EXPERIMENTAL FAST VERSION](https://youtube.com/watch?v=2u6Mnl5RKUs)\n",
    "### [PySimpleGUI 2020   Part 4   Updating Windows   EXPERIMENTAL FASTER VERSION](https://youtube.com/watch?v=Uul33H7t13s)\n",
    "### [PySimpleGUI 2020   Part 4   Updating Windows   EXPERIMENTAL FASTEST VERSION](https://youtube.com/watch?v=E3x06FAX4Ao)\n",
    "### [PySimpleGUI 2020   Part 5  Shortcuts   EXPERIMENTAL FASTER VERSION](https://youtube.com/watch?v=i1qdAiTs1-A)\n",
    "### [PySimpleGUI 2020   Part 6   Beautiful Windows   EXPERIMENTAL FASTER VERSION](https://youtube.com/watch?v=K5VpIZX1k9k)\n",
    "### [PySimpleGUI 2020 Part 7 -  Button Targets (File & other choosers) EXPERIMENTAL FASTER VERSION](https://youtube.com/watch?v=enChywn0ruQ)\n",
    "### [PySimpleGUI 2020 Part 8 - Async Windows (Periodically runs event loop)  EXPERIMENTAL FASTER VERSION](https://youtube.com/watch?v=QABXSAc4BqE)\n",
    "### [PySimpleGUI 2020   Part 9  - Containers - Layouts within Layouts   EXPERIMENTAL FASTER VERSION](https://youtube.com/watch?v=647OGeyHFAY)\n",
    "### [PySimpleGUI 2020  Part 10 - Generated Layouts (Using Code) EXPERIMENTAL FASTER VERSION](https://youtube.com/watch?v=2WwpzXMU2KQ)\n",
    "### [PySimpleGUI 2020 Part 11 - Justification (a little outdated) EXPERIMENTAL FASTER VERSION](https://youtube.com/watch?v=L1TYIiq-crg)\n",
    "### [PySimpleGUI 2020 Part 12 - Menus (Menubar, Right Click Menu,ButtonMenus) EXPERIMENTAL FASTER VERSION](https://youtube.com/watch?v=5QZcQ0sQ5eU)\n",
    "### [PySimpleGUI 2020   Tools of the Trade - Snagit & ShareX EXPERIMENTAL FASTER VERSION](https://youtube.com/watch?v=hNX5ik8-bbw)\n",
    "### [PySimpleGUI 2020 Adding Screenshots Your GitHub's Readme.md EXPERIMENTAL FASTER VERSION](https://youtube.com/watch?v=C4PVKW756fo)"
   ]
  },
  {
   "cell_type": "markdown",
   "metadata": {},
   "source": []
  }
 ],
 "metadata": {
  "kernelspec": {
   "display_name": "Python 3",
   "language": "python",
   "name": "python3"
  },
  "language_info": {
   "codemirror_mode": {
    "name": "ipython",
    "version": 3
   },
   "file_extension": ".py",
   "mimetype": "text/x-python",
   "name": "python",
   "nbconvert_exporter": "python",
   "pygments_lexer": "ipython3",
   "version": "3.8.5"
  },
  "toc": {
   "base_numbering": 1,
   "nav_menu": {},
   "number_sections": true,
   "sideBar": true,
   "skip_h1_title": false,
   "title_cell": "Table of Contents",
   "title_sidebar": "Contents",
   "toc_cell": false,
   "toc_position": {
    "height": "calc(100% - 180px)",
    "left": "10px",
    "top": "150px",
    "width": "194px"
   },
   "toc_section_display": true,
   "toc_window_display": true
  }
 },
 "nbformat": 4,
 "nbformat_minor": 4
}
