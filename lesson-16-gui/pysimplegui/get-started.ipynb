{
 "cells": [
  {
   "cell_type": "markdown",
   "metadata": {},
   "source": [
    "## Cookbook\n",
    "[Cookbook](http://cookbook.pysimplegui.org/)"
   ]
  },
  {
   "cell_type": "markdown",
   "metadata": {},
   "source": [
    "## Tutorials\n",
    "[RealPython Tutorial](https://realpython.com/pysimplegui-python/)"
   ]
  },
  {
   "cell_type": "code",
   "execution_count": null,
   "metadata": {},
   "outputs": [],
   "source": []
  },
  {
   "cell_type": "code",
   "execution_count": null,
   "metadata": {},
   "outputs": [],
   "source": []
  },
  {
   "cell_type": "code",
   "execution_count": null,
   "metadata": {},
   "outputs": [],
   "source": []
  },
  {
   "cell_type": "markdown",
   "metadata": {},
   "source": [
    "## Demo Programs\n",
    "- [Demo Programs (github)](https://github.com/PySimpleGUI/PySimpleGUI/tree/master/DemoPrograms)\n",
    "- [Online Demo at trinket.io](https://pysimplegui.trinket.io/demo-programs#/demo-programs/intro-to-this-page)\n",
    "\n",
    "- To run demo-programs locally: \n",
    "```\n",
    "$ cd ~/projects/PySimpleGUI\n",
    "$ python DemoPrograms/Browser_START_HERE_Demo_Programs_Browser.py\n",
    "\n",
    "```"
   ]
  },
  {
   "cell_type": "code",
   "execution_count": 1,
   "metadata": {},
   "outputs": [
    {
     "data": {
      "text/plain": [
       "(None, [])"
      ]
     },
     "execution_count": 1,
     "metadata": {},
     "output_type": "execute_result"
    }
   ],
   "source": [
    "import PySimpleGUI as sg\n",
    "sg.Window(title=\"Hello World\", layout=[[]], margins=(100, 50)).read()"
   ]
  },
  {
   "cell_type": "code",
   "execution_count": 3,
   "metadata": {},
   "outputs": [],
   "source": [
    "import PySimpleGUI as sg\n",
    "\n",
    "layout = [[sg.Text(\"Hello from PySimpleGUI\")], [sg.Button(\"OK\")]]\n",
    "\n",
    "# Create the window\n",
    "window = sg.Window(\"Demo\", layout)\n",
    "\n",
    "# Create an event loop\n",
    "while True:\n",
    "    event, values = window.read()\n",
    "    # End program if user closes window or\n",
    "    # presses the OK button\n",
    "    if event == \"OK\" or event == sg.WIN_CLOSED:\n",
    "        break\n",
    "\n",
    "window.close()"
   ]
  },
  {
   "cell_type": "code",
   "execution_count": 6,
   "metadata": {},
   "outputs": [
    {
     "name": "stdout",
     "output_type": "stream",
     "text": [
      "OK {0: ''}\n",
      "You pressed the button OK\n",
      "OK {0: 'fff'}\n",
      "You pressed the button OK\n",
      "Exit {0: 'fff'}\n"
     ]
    }
   ],
   "source": [
    "import PySimpleGUI as sg\n",
    "\n",
    "sg.theme('Dark Amber')  # Let's set our own color theme\n",
    "\n",
    "# STEP 1 define the layout\n",
    "layout = [ \n",
    "            [sg.Text('This is a very basic PySimpleGUI layout')],\n",
    "            [sg.Input()],\n",
    "            [sg.Button('OK'), sg.Button('Exit')]\n",
    "         ]\n",
    "\n",
    "#STEP 2 - create the window\n",
    "window = sg.Window('My new window', layout)\n",
    "\n",
    "# STEP3 - the event loop\n",
    "while True:\n",
    "    event, values = window.read()   # Read the event that happened and the values dictionary\n",
    "    print(event, values)\n",
    "    if event == sg.WIN_CLOSED or event == 'Exit':     # If user closed window with X or if user clicked \"Exit\" button then exit\n",
    "        break\n",
    "    if event == 'OK':\n",
    "      print('You pressed the button OK')\n",
    "window.close()"
   ]
  },
  {
   "cell_type": "code",
   "execution_count": 7,
   "metadata": {},
   "outputs": [
    {
     "data": {
      "text/plain": [
       "'OK'"
      ]
     },
     "execution_count": 7,
     "metadata": {},
     "output_type": "execute_result"
    }
   ],
   "source": [
    "import PySimpleGUI as sg      \n",
    "\n",
    "layout = [\n",
    "            [sg.Text('My one-shot window.')],      \n",
    "            [sg.InputText(key='-text_in-')],      \n",
    "            [sg.Submit(), sg.Cancel()]\n",
    "         ]      \n",
    "\n",
    "window = sg.Window('Window Title', layout)    \n",
    "\n",
    "event, values = window.read()    \n",
    "window.close()\n",
    "\n",
    "text_input = values['-text_in-']    \n",
    "sg.popup('You entered', text_input)"
   ]
  },
  {
   "cell_type": "code",
   "execution_count": 8,
   "metadata": {},
   "outputs": [
    {
     "name": "stdout",
     "output_type": "stream",
     "text": [
      "Show {'-IN-': 'SimpleGui is easy'}\n",
      "Show {'-IN-': 'SimpleGui is good'}\n",
      "Exit {'-IN-': 'SimpleGui is good'}\n"
     ]
    }
   ],
   "source": [
    "import PySimpleGUI as sg\n",
    "\n",
    "sg.theme('BluePurple')\n",
    "\n",
    "layout = [[sg.Text('Your typed chars appear here:'), sg.Text(size=(15,1), key='-OUTPUT-')],\n",
    "          [sg.Input(key='-IN-')],\n",
    "          [sg.Button('Show'), sg.Button('Exit')]]\n",
    "\n",
    "window = sg.Window('Pattern 2B', layout)\n",
    "\n",
    "while True:  # Event Loop\n",
    "    event, values = window.read()\n",
    "    print(event, values)\n",
    "    if event == sg.WIN_CLOSED or event == 'Exit':\n",
    "        break\n",
    "    if event == 'Show':\n",
    "        # Update the \"output\" text element to be the value of \"input\" element\n",
    "        window['-OUTPUT-'].update(values['-IN-'])\n",
    "\n",
    "window.close()"
   ]
  },
  {
   "cell_type": "code",
   "execution_count": 9,
   "metadata": {},
   "outputs": [],
   "source": [
    "import random"
   ]
  },
  {
   "cell_type": "code",
   "execution_count": 14,
   "metadata": {},
   "outputs": [
    {
     "data": {
      "text/plain": [
       "1"
      ]
     },
     "execution_count": 14,
     "metadata": {},
     "output_type": "execute_result"
    }
   ],
   "source": [
    "random.randint(1,3)"
   ]
  },
  {
   "cell_type": "code",
   "execution_count": null,
   "metadata": {},
   "outputs": [],
   "source": []
  }
 ],
 "metadata": {
  "kernelspec": {
   "display_name": "Python 3",
   "language": "python",
   "name": "python3"
  },
  "language_info": {
   "codemirror_mode": {
    "name": "ipython",
    "version": 3
   },
   "file_extension": ".py",
   "mimetype": "text/x-python",
   "name": "python",
   "nbconvert_exporter": "python",
   "pygments_lexer": "ipython3",
   "version": "3.8.5"
  },
  "toc": {
   "base_numbering": 1,
   "nav_menu": {},
   "number_sections": true,
   "sideBar": true,
   "skip_h1_title": false,
   "title_cell": "Table of Contents",
   "title_sidebar": "Contents",
   "toc_cell": false,
   "toc_position": {},
   "toc_section_display": true,
   "toc_window_display": false
  }
 },
 "nbformat": 4,
 "nbformat_minor": 4
}
