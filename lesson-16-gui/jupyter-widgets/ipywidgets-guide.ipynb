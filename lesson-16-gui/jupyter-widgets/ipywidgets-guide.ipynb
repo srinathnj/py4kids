{
 "cells": [
  {
   "cell_type": "markdown",
   "id": "a530dfc5",
   "metadata": {},
   "source": [
    "[A Complete Guide To Ipywidget](https://analyticsindiamag.com/a-complete-guide-to-ipywidget-interactive-html-widgets-for-jupyter-notebook/)"
   ]
  },
  {
   "cell_type": "code",
   "execution_count": null,
   "id": "4d69f6f7",
   "metadata": {},
   "outputs": [],
   "source": [
    "import ipywidgets as widgets\n",
    "from IPython.display import display\n",
    "\n",
    "options = ['Option 1', 'Option 2', 'Option 3']"
   ]
  },
  {
   "cell_type": "code",
   "execution_count": 6,
   "id": "727f8817",
   "metadata": {},
   "outputs": [
    {
     "data": {
      "application/vnd.jupyter.widget-view+json": {
       "model_id": "a580d24dc066464fade28db1cb4498e5",
       "version_major": 2,
       "version_minor": 0
      },
      "text/plain": [
       "RadioButtons(description='Select:', index=2, options=('Option 1', 'Option 2', 'Option 3'), value='Option 3')"
      ]
     },
     "metadata": {},
     "output_type": "display_data"
    },
    {
     "name": "stdout",
     "output_type": "stream",
     "text": [
      "Option 1 is picked\n",
      "Option 2 is picked\n",
      "Option 3 is picked\n"
     ]
    }
   ],
   "source": [
    "radio_button = widgets.RadioButtons(\n",
    "    options=options,\n",
    "    description='Select:',\n",
    "    value='Option 3',\n",
    "    disabled=False\n",
    ")\n",
    "\n",
    "display(radio_button)\n",
    "\n",
    "def on_value_change(change):\n",
    "    val = change['new']\n",
    "    print(f\"{val} is picked\") \n",
    "\n",
    "radio_button.observe(on_value_change, names='value')"
   ]
  },
  {
   "cell_type": "code",
   "execution_count": null,
   "id": "436962e3",
   "metadata": {},
   "outputs": [],
   "source": []
  }
 ],
 "metadata": {
  "kernelspec": {
   "display_name": "Python 3 (ipykernel)",
   "language": "python",
   "name": "python3"
  },
  "language_info": {
   "codemirror_mode": {
    "name": "ipython",
    "version": 3
   },
   "file_extension": ".py",
   "mimetype": "text/x-python",
   "name": "python",
   "nbconvert_exporter": "python",
   "pygments_lexer": "ipython3",
   "version": "3.9.13"
  },
  "nbTranslate": {
   "displayLangs": [
    "*"
   ],
   "hotkey": "alt-t",
   "langInMainMenu": true,
   "sourceLang": "en",
   "targetLang": "fr",
   "useGoogleTranslate": true
  },
  "toc": {
   "base_numbering": 1,
   "nav_menu": {},
   "number_sections": true,
   "sideBar": true,
   "skip_h1_title": false,
   "title_cell": "Table of Contents",
   "title_sidebar": "Contents",
   "toc_cell": false,
   "toc_position": {},
   "toc_section_display": true,
   "toc_window_display": false
  }
 },
 "nbformat": 4,
 "nbformat_minor": 5
}
