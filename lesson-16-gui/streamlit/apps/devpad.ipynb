{
 "cells": [
  {
   "cell_type": "code",
   "execution_count": 1,
   "id": "a962b4c8",
   "metadata": {},
   "outputs": [],
   "source": [
    "from datetime import datetime"
   ]
  },
  {
   "cell_type": "code",
   "execution_count": 2,
   "id": "d6255840",
   "metadata": {},
   "outputs": [],
   "source": [
    "from pathlib import Path "
   ]
  },
  {
   "cell_type": "code",
   "execution_count": 21,
   "id": "04750dd1",
   "metadata": {},
   "outputs": [],
   "source": [
    "INPUT_FILENAME = \"data/languages.csv\""
   ]
  },
  {
   "cell_type": "code",
   "execution_count": 27,
   "id": "b3520392",
   "metadata": {},
   "outputs": [],
   "source": [
    "def rename_file_adding_ts(fn, do_rename=False, do_copy=False):\n",
    "    \"\"\" rename file by adding timestamp, useful for archiving\n",
    "    eg,\n",
    "    INPUT_FILENAME = \"data/languages.csv\"\n",
    "    output = rename_file_adding_ts(INPUT_FILENAME)\n",
    "    # WindowsPath('data/languages-20230716_220400.csv')\n",
    "    \"\"\"\n",
    "    p = Path(fn)\n",
    "    ts = datetime.strftime(datetime.now(),\"%Y%m%d_%H%M%S\")\n",
    "    new_fn = p.parent / f\"{p.stem}-{ts}{p.suffix}\"\n",
    "    if do_copy:\n",
    "        shutil.copy(p, new_fn)\n",
    "    if do_rename:\n",
    "        p.rename(new_fn)\n",
    "    return new_fn"
   ]
  },
  {
   "cell_type": "code",
   "execution_count": 28,
   "id": "668eda95",
   "metadata": {},
   "outputs": [],
   "source": [
    "new_fn = rename_file_adding_ts(INPUT_FILENAME)"
   ]
  },
  {
   "cell_type": "code",
   "execution_count": 29,
   "id": "a441822d",
   "metadata": {},
   "outputs": [
    {
     "data": {
      "text/plain": [
       "(WindowsPath('data/languages-20230716_223445.csv'),\n",
       " 'data\\\\languages-20230716_223445.csv',\n",
       " 'languages-20230716_223445.csv')"
      ]
     },
     "execution_count": 29,
     "metadata": {},
     "output_type": "execute_result"
    }
   ],
   "source": [
    "new_fn, str(new_fn), new_fn.name"
   ]
  },
  {
   "cell_type": "code",
   "execution_count": 11,
   "id": "efe73c02",
   "metadata": {},
   "outputs": [
    {
     "data": {
      "text/plain": [
       "('tmp', 'data', 'languages.csv')"
      ]
     },
     "execution_count": 11,
     "metadata": {},
     "output_type": "execute_result"
    }
   ],
   "source": [
    "Path(INPUT_FILENAME).parts"
   ]
  },
  {
   "cell_type": "code",
   "execution_count": 12,
   "id": "40ff5ed5",
   "metadata": {},
   "outputs": [
    {
     "data": {
      "text/plain": [
       "'20230716-215952'"
      ]
     },
     "execution_count": 12,
     "metadata": {},
     "output_type": "execute_result"
    }
   ],
   "source": [
    "ts = datetime.strftime(datetime.now(),\"%Y%m%d-%H%M%S\")\n",
    "ts"
   ]
  },
  {
   "cell_type": "code",
   "execution_count": null,
   "id": "293eca4f",
   "metadata": {},
   "outputs": [],
   "source": []
  }
 ],
 "metadata": {
  "kernelspec": {
   "display_name": "Python 3 (ipykernel)",
   "language": "python",
   "name": "python3"
  },
  "language_info": {
   "codemirror_mode": {
    "name": "ipython",
    "version": 3
   },
   "file_extension": ".py",
   "mimetype": "text/x-python",
   "name": "python",
   "nbconvert_exporter": "python",
   "pygments_lexer": "ipython3",
   "version": "3.9.13"
  },
  "nbTranslate": {
   "displayLangs": [
    "*"
   ],
   "hotkey": "alt-t",
   "langInMainMenu": true,
   "sourceLang": "en",
   "targetLang": "fr",
   "useGoogleTranslate": true
  },
  "toc": {
   "base_numbering": 1,
   "nav_menu": {},
   "number_sections": true,
   "sideBar": true,
   "skip_h1_title": false,
   "title_cell": "Table of Contents",
   "title_sidebar": "Contents",
   "toc_cell": false,
   "toc_position": {},
   "toc_section_display": true,
   "toc_window_display": false
  }
 },
 "nbformat": 4,
 "nbformat_minor": 5
}
