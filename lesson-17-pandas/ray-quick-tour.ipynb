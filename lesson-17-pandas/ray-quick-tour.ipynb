{
 "cells": [
  {
   "cell_type": "markdown",
   "metadata": {},
   "source": [
    "[Modern Parallel and Distributed Python: \n",
    "A Quick Tutorial on Ray](https://rise.cs.berkeley.edu/blog/modern-parallel-and-distributed-python-a-quick-tutorial-on-ray/)\n",
    "\n",
    "ROBERT NISHIHARA, FEBRUARY 11, 2019\n",
    "\n"
   ]
  },
  {
   "cell_type": "markdown",
   "metadata": {},
   "source": [
    "low-level primitives for sending/receiving msg:\n",
    "* OpenMPI\n",
    "* Python multiprocessing\n",
    "* ZeroMQ\n",
    "\n",
    "domain-specific tools:\n",
    "* TensorFlow for model training, \n",
    "* Spark for data processing and SQL, \n",
    "* Flink for stream processing\n",
    "\n",
    "Ray occupies a unique middle ground. Instead of introducing new concepts. Ray takes the existing concepts of **functions** and **classes** and translates them to the distributed setting as **tasks** and **actors**. This API choice allows serial applications to be parallelized without major modifications.\n",
    "\n",
    "To turn a Python function f into a “remote function” (a function that can be executed remotely and asynchronously), we declare the function with the @ray.remote decorator. Then function invocations via f.remote() will immediately return futures (a future is a reference to the eventual output), and the actual function execution will take place in the background (we refer to this execution as a task)."
   ]
  },
  {
   "cell_type": "markdown",
   "metadata": {},
   "source": [
    "### From Functions to Tasks"
   ]
  },
  {
   "cell_type": "code",
   "execution_count": 2,
   "metadata": {},
   "outputs": [
    {
     "name": "stderr",
     "output_type": "stream",
     "text": [
      "2019-08-18 10:57:19,251\tERROR worker.py:1379 -- Calling ray.init() again after it has already been called.\n"
     ]
    },
    {
     "name": "stdout",
     "output_type": "stream",
     "text": [
      "[(0, 1566140240.2645104), (1, 1566140240.266269), (2, 1566140240.2657173), (3, 1566140240.2644246)]\n"
     ]
    }
   ],
   "source": [
    "import ray\n",
    "import time\n",
    "\n",
    "# shutdown Ray\n",
    "#ray.shutdown()\n",
    "\n",
    "# Start Ray.\n",
    "ray.init(ignore_reinit_error=True)\n",
    "\n",
    "# decorate a function for remote execution\n",
    "@ray.remote\n",
    "def f(x):\n",
    "    time.sleep(1)\n",
    "    return x, time.time()\n",
    "\n",
    "# Start 4 tasks in parallel.\n",
    "task_ids = []\n",
    "for i in range(4):\n",
    "    task_ids.append(f.remote(i))\n",
    "    \n",
    "# Wait for the tasks to complete and retrieve the results.\n",
    "# With at least 4 cores, this will take 1 second.\n",
    "results = ray.get(task_ids)  # [0, 1, 2, 3]\n",
    "\n",
    "print(results)"
   ]
  },
  {
   "cell_type": "code",
   "execution_count": 3,
   "metadata": {},
   "outputs": [
    {
     "name": "stdout",
     "output_type": "stream",
     "text": [
      "(0, 1566140240.2645104)\n",
      "(1, 1566140240.266269)\n",
      "(2, 1566140240.2657173)\n",
      "(3, 1566140240.2644246)\n"
     ]
    }
   ],
   "source": [
    "for i in results:\n",
    "    print(i)"
   ]
  },
  {
   "cell_type": "markdown",
   "metadata": {},
   "source": [
    "##### Task dependencies"
   ]
  },
  {
   "cell_type": "code",
   "execution_count": 4,
   "metadata": {},
   "outputs": [
    {
     "data": {
      "text/plain": [
       "array([[-19.08510069,  43.13664083, -34.31825234, ..., -14.36481326,\n",
       "         14.19681818, -45.26217878],\n",
       "       [ -1.56324961,  52.23076381, -19.55718068, ..., -33.41550062,\n",
       "          4.24226204,  11.05515945],\n",
       "       [ 10.56462708,  38.07884699, -23.06211695, ..., -19.94282994,\n",
       "         35.09478634,   9.0282199 ],\n",
       "       ...,\n",
       "       [-12.02707733, -32.79849117,  32.38071694, ...,  10.82940165,\n",
       "        -37.6186476 ,  15.22729844],\n",
       "       [  7.76369977, -14.30707451, -10.87264475, ..., -47.1691431 ,\n",
       "         -2.69797863,  10.78312351],\n",
       "       [-51.69958277,  -0.20767613,   6.4782947 , ...,   7.42094039,\n",
       "         50.69998715, -37.6367722 ]])"
      ]
     },
     "execution_count": 4,
     "metadata": {},
     "output_type": "execute_result"
    }
   ],
   "source": [
    "import numpy as np\n",
    "\n",
    "@ray.remote\n",
    "def create_matrix(size):\n",
    "    return np.random.normal(size=size)\n",
    "\n",
    "@ray.remote\n",
    "def multiply_matrices(x, y):\n",
    "    return np.dot(x, y)\n",
    "\n",
    "x_id = create_matrix.remote([1000, 1000])\n",
    "y_id = create_matrix.remote([1000, 1000])\n",
    "z_id = multiply_matrices.remote(x_id, y_id)\n",
    "\n",
    "# Get the results.\n",
    "z = ray.get(z_id)\n",
    "z"
   ]
  },
  {
   "cell_type": "code",
   "execution_count": 5,
   "metadata": {},
   "outputs": [
    {
     "data": {
      "text/plain": [
       "(1000, 1000)"
      ]
     },
     "execution_count": 5,
     "metadata": {},
     "output_type": "execute_result"
    }
   ],
   "source": [
    "z.shape"
   ]
  },
  {
   "cell_type": "code",
   "execution_count": 6,
   "metadata": {},
   "outputs": [
    {
     "data": {
      "text/plain": [
       "(ObjectID(28db05a598a1e7eacd5d965b90d664eb01000000),\n",
       " ObjectID(9b598c91bd9f9703657015a5302eeb5101000000),\n",
       " ObjectID(91a79a584cdc65d65e4aea8f58d3bc5701000000))"
      ]
     },
     "execution_count": 6,
     "metadata": {},
     "output_type": "execute_result"
    }
   ],
   "source": [
    "x_id, y_id, z_id"
   ]
  },
  {
   "cell_type": "markdown",
   "metadata": {},
   "source": [
    "##### Aggregating Values Efficiently"
   ]
  },
  {
   "cell_type": "code",
   "execution_count": 19,
   "metadata": {},
   "outputs": [],
   "source": [
    "import time\n",
    "\n",
    "@ray.remote\n",
    "def add(x, y=None):\n",
    "    time.sleep(1)\n",
    "    return x + (y if y else 0)"
   ]
  },
  {
   "cell_type": "code",
   "execution_count": 20,
   "metadata": {},
   "outputs": [
    {
     "name": "stdout",
     "output_type": "stream",
     "text": [
      "36\n",
      "CPU times: user 255 ms, sys: 85.2 ms, total: 340 ms\n",
      "Wall time: 7.04 s\n"
     ]
    }
   ],
   "source": [
    "%%time\n",
    "# Aggregate the values slowly. This approach takes O(n) where n is the\n",
    "# number of values being aggregated. In this case, 7 seconds.\n",
    "id1 = add.remote(1, 2)\n",
    "id2 = add.remote(id1, 3)\n",
    "id3 = add.remote(id2, 4)\n",
    "id4 = add.remote(id3, 5)\n",
    "id5 = add.remote(id4, 6)\n",
    "id6 = add.remote(id5, 7)\n",
    "id7 = add.remote(id6, 8)\n",
    "result = ray.get(id7)\n",
    "print(result)"
   ]
  },
  {
   "cell_type": "code",
   "execution_count": 21,
   "metadata": {},
   "outputs": [
    {
     "name": "stdout",
     "output_type": "stream",
     "text": [
      "36\n",
      "CPU times: user 109 ms, sys: 36.3 ms, total: 145 ms\n",
      "Wall time: 3.01 s\n"
     ]
    }
   ],
   "source": [
    "%%time\n",
    "# Aggregate the values in a tree-structured pattern. This approach\n",
    "# takes O(log(n)). In this case, 3 seconds.\n",
    "id1 = add.remote(1, 2)\n",
    "id2 = add.remote(3, 4)\n",
    "id3 = add.remote(5, 6)\n",
    "id4 = add.remote(7, 8)\n",
    "id5 = add.remote(id1, id2)\n",
    "id6 = add.remote(id3, id4)\n",
    "id7 = add.remote(id5, id6)\n",
    "result = ray.get(id7)\n",
    "print(result)"
   ]
  },
  {
   "cell_type": "code",
   "execution_count": 26,
   "metadata": {},
   "outputs": [
    {
     "name": "stdout",
     "output_type": "stream",
     "text": [
      "45\n",
      "CPU times: user 317 ms, sys: 69 ms, total: 386 ms\n",
      "Wall time: 8.03 s\n"
     ]
    }
   ],
   "source": [
    "%%time\n",
    "# Slow approach.\n",
    "values = [1, 2, 3, 4, 5, 6, 7, 8, 9]\n",
    "while len(values) > 1:\n",
    "    values = [add.remote(values[0], values[1])] + values[2:]\n",
    "result = ray.get(values[0])\n",
    "print(result)"
   ]
  },
  {
   "cell_type": "code",
   "execution_count": 27,
   "metadata": {},
   "outputs": [
    {
     "name": "stdout",
     "output_type": "stream",
     "text": [
      "45\n",
      "CPU times: user 149 ms, sys: 46.7 ms, total: 195 ms\n",
      "Wall time: 4.02 s\n"
     ]
    }
   ],
   "source": [
    "%%time\n",
    "# Fast approach.\n",
    "values = [1, 2, 3, 4, 5, 6, 7, 8, 9]\n",
    "while len(values) > 1:\n",
    "    values = values[2:] + [add.remote(values[0], values[1])]\n",
    "result = ray.get(values[0])\n",
    "print(result)"
   ]
  },
  {
   "cell_type": "markdown",
   "metadata": {},
   "source": [
    "### From Classes to Actors"
   ]
  },
  {
   "cell_type": "code",
   "execution_count": 46,
   "metadata": {},
   "outputs": [
    {
     "name": "stdout",
     "output_type": "stream",
     "text": [
      "0\n",
      "45\n"
     ]
    }
   ],
   "source": [
    "@ray.remote\n",
    "class Adder(object):\n",
    "    def __init__(self, x=None, y=None):\n",
    "        self.x = x if x else 0\n",
    "        self.y = y if y else 0\n",
    "        self.sum = self.x + self.y\n",
    "\n",
    "    def clear(self):\n",
    "        self.x = 0\n",
    "        self.y = 0\n",
    "        self.sum = self.x + self.y\n",
    "        \n",
    "    def get_sum(self):\n",
    "        return self.sum\n",
    "    \n",
    "    def add(self, x=None, y=None):\n",
    "        self.x = x if x else 0\n",
    "        self.y = y if y else 0\n",
    "        self.sum += self.x + self.y\n",
    "        return self.sum\n",
    "    \n",
    "# Create an actor process.\n",
    "a = Adder.remote()\n",
    "\n",
    "# Check the actor's counter value.\n",
    "print(ray.get(a.get_sum.remote()))  \n",
    "\n",
    "# Increment the counter twice and check the value again.\n",
    "for _ in range(10):\n",
    "    a.add.remote(_)\n",
    "\n",
    "print(ray.get(a.get_sum.remote()))  # 45"
   ]
  },
  {
   "cell_type": "code",
   "execution_count": 93,
   "metadata": {},
   "outputs": [
    {
     "name": "stderr",
     "output_type": "stream",
     "text": [
      "2019-08-18 12:12:35,357\tERROR worker.py:1379 -- Calling ray.init() again after it has already been called.\n"
     ]
    },
    {
     "name": "stdout",
     "output_type": "stream",
     "text": [
      "result=499500 in 1.304793119430542 sec [actors=3]\n"
     ]
    }
   ],
   "source": [
    "# %%time  # this interfere with results\n",
    "\n",
    "ray.init(ignore_reinit_error=True)\n",
    "start_time = time.time()\n",
    "n_actors = 3\n",
    "n_numbers = 1000\n",
    "actors = []\n",
    "for i in range(n_actors):\n",
    "    actors.append(Adder.remote())\n",
    "\n",
    "for n in range(n_numbers):\n",
    "    i = n % n_actors\n",
    "    actors[i].add.remote(n)\n",
    "    \n",
    "result = sum(ray.get([actors[i].get_sum.remote() for i in range(n_actors)]))\n",
    "stop_time = time.time()\n",
    "print(f\"result={result} in {stop_time - start_time} sec [actors={n_actors}]\")\n"
   ]
  },
  {
   "cell_type": "markdown",
   "metadata": {},
   "source": [
    "result=499500 in 4.087217569351196 sec [actors=10]\n",
    "\n",
    "result=499500 in 2.583878993988037 sec [actors=5]\n",
    "\n",
    "result=499500 in 1.0627317428588867 sec [actors=2]"
   ]
  },
  {
   "cell_type": "code",
   "execution_count": 28,
   "metadata": {},
   "outputs": [
    {
     "name": "stdout",
     "output_type": "stream",
     "text": [
      "5\n",
      "9\n"
     ]
    }
   ],
   "source": [
    "@ray.remote\n",
    "class Counter(object):\n",
    "    def __init__(self, x):\n",
    "        self.x = x\n",
    "    \n",
    "    def inc(self):\n",
    "        self.x += 1\n",
    "    \n",
    "    def get_value(self):\n",
    "        return self.x\n",
    "\n",
    "# Create an actor process.\n",
    "c = Counter.remote(5)\n",
    "\n",
    "# Check the actor's counter value.\n",
    "print(ray.get(c.get_value.remote()))  # 5\n",
    "\n",
    "# Increment the counter twice and check the value again.\n",
    "for _ in range(4):\n",
    "    c.inc.remote()\n",
    "\n",
    "print(ray.get(c.get_value.remote()))  # 9"
   ]
  },
  {
   "cell_type": "markdown",
   "metadata": {},
   "source": [
    "#### Actor Handles\n",
    "\n",
    "One of the most powerful aspects of actors is that we can pass around handles to an actor, which allows other actors or other tasks to all invoke methods on the same actor.\n",
    "\n",
    "The following example creates an actor that stores messages. Several worker tasks repeatedly push messages to the actor, and the main Python script reads the messages periodically."
   ]
  },
  {
   "cell_type": "code",
   "execution_count": 21,
   "metadata": {},
   "outputs": [
    {
     "name": "stdout",
     "output_type": "stream",
     "text": [
      "New MSG:\n",
      " []\n",
      "New MSG:\n",
      " ['MSG 0 by WKR 0.', 'MSG 0 by WKR 1.']\n",
      "New MSG:\n",
      " ['MSG 1 by WKR 0.', 'MSG 1 by WKR 1.']\n",
      "New MSG:\n",
      " ['MSG 0 by WKR 2.', 'MSG 2 by WKR 0.', 'MSG 2 by WKR 1.']\n",
      "New MSG:\n",
      " ['MSG 1 by WKR 2.', 'MSG 3 by WKR 0.', 'MSG 3 by WKR 1.']\n",
      "New MSG:\n",
      " ['MSG 2 by WKR 2.', 'MSG 4 by WKR 0.', 'MSG 4 by WKR 1.']\n",
      "New MSG:\n",
      " ['MSG 3 by WKR 2.', 'MSG 5 by WKR 0.', 'MSG 5 by WKR 1.']\n",
      "New MSG:\n",
      " ['MSG 4 by WKR 2.', 'MSG 6 by WKR 0.', 'MSG 6 by WKR 1.']\n",
      "New MSG:\n",
      " ['MSG 5 by WKR 2.', 'MSG 7 by WKR 0.', 'MSG 7 by WKR 1.']\n",
      "New MSG:\n",
      " ['MSG 6 by WKR 2.', 'MSG 8 by WKR 0.', 'MSG 8 by WKR 1.']\n"
     ]
    }
   ],
   "source": [
    "import time\n",
    "\n",
    "\n",
    "@ray.remote\n",
    "class MessageActor(object):\n",
    "    def __init__(self):\n",
    "        self.messages = []\n",
    "    \n",
    "    def add_message(self, message):\n",
    "        self.messages.append(message)\n",
    "    \n",
    "    def get_and_clear_messages(self):\n",
    "        messages = self.messages\n",
    "        self.messages = []\n",
    "        return messages\n",
    "\n",
    "\n",
    "# Define a remote function which loops around and pushes\n",
    "# messages to the actor.\n",
    "@ray.remote\n",
    "def worker(message_actor, j):\n",
    "    for i in range(10):\n",
    "        time.sleep(1)\n",
    "        message_actor.add_message.remote(\n",
    "            \"MSG {} by WKR {}.\".format(i, j))\n",
    "\n",
    "\n",
    "# Create a message actor.\n",
    "message_actor = MessageActor.remote()\n",
    "\n",
    "# Start 3 tasks that push messages to the actor.\n",
    "[worker.remote(message_actor, j) for j in range(3)]\n",
    "\n",
    "# Periodically get the messages and print them.\n",
    "for _ in range(10):\n",
    "    new_messages = ray.get(message_actor.get_and_clear_messages.remote())\n",
    "    print(\"New MSG:\\n\", new_messages)\n",
    "    time.sleep(1)\n",
    "\n",
    "# This script prints something like the following:\n",
    "# New messages: []\n",
    "# New messages: ['Message 0 from worker 1.', 'Message 0 from worker 0.']\n",
    "# New messages: ['Message 0 from worker 2.', 'Message 1 from worker 1.', 'Message 1 from worker 0.', 'Message 1 from worker 2.']\n",
    "# New messages: ['Message 2 from worker 1.', 'Message 2 from worker 0.', 'Message 2 from worker 2.']\n",
    "# New messages: ['Message 3 from worker 2.', 'Message 3 from worker 1.', 'Message 3 from worker 0.']\n",
    "# New messages: ['Message 4 from worker 2.', 'Message 4 from worker 0.', 'Message 4 from worker 1.']\n",
    "# New messages: ['Message 5 from worker 2.', 'Message 5 from worker 0.', 'Message 5 from worker 1.']"
   ]
  },
  {
   "cell_type": "code",
   "execution_count": null,
   "metadata": {},
   "outputs": [],
   "source": []
  }
 ],
 "metadata": {
  "kernelspec": {
   "display_name": "Python 3",
   "language": "python",
   "name": "python3"
  },
  "language_info": {
   "codemirror_mode": {
    "name": "ipython",
    "version": 3
   },
   "file_extension": ".py",
   "mimetype": "text/x-python",
   "name": "python",
   "nbconvert_exporter": "python",
   "pygments_lexer": "ipython3",
   "version": "3.7.3"
  }
 },
 "nbformat": 4,
 "nbformat_minor": 2
}
