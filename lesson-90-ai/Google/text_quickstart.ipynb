{
 "cells": [
  {
   "cell_type": "markdown",
   "id": "150bc7ad",
   "metadata": {},
   "source": [
    "# PaLM API: Text Quickstart with Python\n",
    "\n",
    "- [Google LLM Guide](https://developers.generativeai.google/guide/concepts)\n",
    "- https://github.com/google/generative-ai-docs/blob/main/site/en/tutorials/text_quickstart.ipynb"
   ]
  },
  {
   "cell_type": "raw",
   "id": "70aad885",
   "metadata": {},
   "source": [
    "!pip install -q google-generativeai"
   ]
  },
  {
   "cell_type": "code",
   "execution_count": 1,
   "id": "dc1b6038",
   "metadata": {},
   "outputs": [],
   "source": [
    "import pprint\n",
    "import google.generativeai as palm"
   ]
  },
  {
   "cell_type": "code",
   "execution_count": 2,
   "id": "b4822ed4",
   "metadata": {},
   "outputs": [],
   "source": [
    "import api_key_store as aks"
   ]
  },
  {
   "cell_type": "code",
   "execution_count": 3,
   "id": "6f71b97a",
   "metadata": {},
   "outputs": [],
   "source": [
    "s = aks.ApiKeyStore()"
   ]
  },
  {
   "cell_type": "raw",
   "id": "2d141d54",
   "metadata": {},
   "source": [
    "google_api_key = s.get_api_key(\"GOOGLE\")"
   ]
  },
  {
   "cell_type": "code",
   "execution_count": 4,
   "id": "2648a1c4",
   "metadata": {},
   "outputs": [],
   "source": [
    "palm.configure(api_key=s.get_api_key(\"GOOGLE\"))"
   ]
  },
  {
   "cell_type": "markdown",
   "id": "b18eae56",
   "metadata": {},
   "source": [
    "## Text generation\n",
    "\n",
    "Use the palm.list_models function to find available models:"
   ]
  },
  {
   "cell_type": "code",
   "execution_count": 5,
   "id": "b6edb3b6",
   "metadata": {},
   "outputs": [],
   "source": [
    "models = [m for m in palm.list_models() if 'generateText' in m.supported_generation_methods]"
   ]
  },
  {
   "cell_type": "code",
   "execution_count": 6,
   "id": "9efdb6b6",
   "metadata": {},
   "outputs": [
    {
     "data": {
      "text/plain": [
       "[Model(name='models/text-bison-001',\n",
       "       base_model_id='',\n",
       "       version='001',\n",
       "       display_name='Text Bison',\n",
       "       description='Model targeted for text generation.',\n",
       "       input_token_limit=8196,\n",
       "       output_token_limit=1024,\n",
       "       supported_generation_methods=['generateText', 'countTextTokens', 'createTunedTextModel'],\n",
       "       temperature=0.7,\n",
       "       top_p=0.95,\n",
       "       top_k=40)]"
      ]
     },
     "execution_count": 6,
     "metadata": {},
     "output_type": "execute_result"
    }
   ],
   "source": [
    "models"
   ]
  },
  {
   "cell_type": "code",
   "execution_count": 7,
   "id": "9786f1e4",
   "metadata": {},
   "outputs": [
    {
     "name": "stdout",
     "output_type": "stream",
     "text": [
      "models/text-bison-001\n"
     ]
    }
   ],
   "source": [
    "model = models[0].name\n",
    "print(model)"
   ]
  },
  {
   "cell_type": "code",
   "execution_count": 8,
   "id": "23e7937f",
   "metadata": {},
   "outputs": [],
   "source": [
    "prompt = \"\"\"\n",
    "You are an expert at solving word problems.\n",
    "\n",
    "Solve the following problem:\n",
    "\n",
    "I have three houses, each with three cats.\n",
    "each cat owns 4 mittens, and a hat. Each mitten was\n",
    "knit from 7m of yarn, each hat from 4m.\n",
    "How much yarn was needed to make all the items?\n",
    "\n",
    "Think about it step by step, and show your work in separated paragraphs.\n",
    "\"\"\""
   ]
  },
  {
   "cell_type": "code",
   "execution_count": 9,
   "id": "25425992",
   "metadata": {},
   "outputs": [],
   "source": [
    "completion = palm.generate_text(\n",
    "    model=model,\n",
    "    prompt=prompt,\n",
    "    temperature=0,\n",
    "    # The maximum length of the response\n",
    "    max_output_tokens=800,\n",
    ")"
   ]
  },
  {
   "cell_type": "code",
   "execution_count": 10,
   "id": "55d9eea7",
   "metadata": {},
   "outputs": [
    {
     "name": "stdout",
     "output_type": "stream",
     "text": [
      "**Step 1: Determine the total number of cats.**\n",
      "\n",
      "There are three houses, each with three cats, for a total of 3 * 3 = 9 cats.\n",
      "\n",
      "**Step 2: Determine the total number of mittens.**\n",
      "\n",
      "Each cat has 4 mittens, for a total of 9 cats * 4 mittens / cat = 36 mittens.\n",
      "\n",
      "**Step 3: Determine the total number of hats.**\n",
      "\n",
      "Each cat has 1 hat, for a total of 9 cats * 1 hat / cat = 9 hats.\n",
      "\n",
      "**Step 4: Determine the total amount of yarn needed for the mittens.**\n",
      "\n",
      "Each mitten requires 7 meters of yarn, for a total of 36 mittens * 7 meters / mitten = 252 meters of yarn.\n",
      "\n",
      "**Step 5: Determine the total amount of yarn needed for the hats.**\n",
      "\n",
      "Each hat requires 4 meters of yarn, for a total of 9 hats * 4 meters / hat = 36 meters of yarn.\n",
      "\n",
      "**Step 6: Add the amounts of yarn needed for the mittens and hats to find the total amount of yarn needed.**\n",
      "\n",
      "The total amount of yarn needed is 252 meters + 36 meters = 288 meters.\n",
      "\n",
      "**The final answer: 288 meters.**\n"
     ]
    }
   ],
   "source": [
    "print(completion.result)"
   ]
  },
  {
   "cell_type": "code",
   "execution_count": 11,
   "id": "cceb70a4",
   "metadata": {},
   "outputs": [],
   "source": [
    "calc_prompt = f\"\"\"\n",
    "Please solve the following problem:\n",
    "\n",
    "{prompt}\n",
    "\n",
    "----------------\n",
    "\n",
    "Important: Use the calculator for each step.\n",
    "Don't do the arithmetic in your head. \n",
    "\n",
    "To use the calculator wrap an equation in  tags like this: \n",
    "\n",
    " 3 cats * 2 hats/cat  = 6\n",
    "\n",
    "----------------\n",
    "\n",
    "Solve the problem in step by step, and show your work in logical paragraphs.\n",
    "\"\"\""
   ]
  },
  {
   "cell_type": "markdown",
   "id": "bc6ef33d",
   "metadata": {},
   "source": [
    "Not working with while-loop"
   ]
  },
  {
   "cell_type": "raw",
   "id": "8bbda2ad",
   "metadata": {},
   "source": [
    "equation=None\n",
    "while equation is None:\n",
    "    completion = palm.generate_text(\n",
    "        model=model,\n",
    "        prompt=calc_prompt,\n",
    "        stop_sequences=[''],\n",
    "        # The maximum length of the response\n",
    "        max_output_tokens=800,\n",
    "    )\n",
    "\n",
    "    try:\n",
    "        response, equation = completion.result.split('', maxsplit=1)\n",
    "    except Exception:\n",
    "        continue"
   ]
  },
  {
   "cell_type": "code",
   "execution_count": 12,
   "id": "7c72bd83",
   "metadata": {},
   "outputs": [],
   "source": [
    "completion = palm.generate_text(\n",
    "    model=model,\n",
    "    prompt=calc_prompt,\n",
    "    temperature=0,\n",
    "    # The maximum length of the response\n",
    "    max_output_tokens=800,\n",
    ")"
   ]
  },
  {
   "cell_type": "code",
   "execution_count": 13,
   "id": "24921e3b",
   "metadata": {},
   "outputs": [
    {
     "name": "stdout",
     "output_type": "stream",
     "text": [
      "**Step 1:**\n",
      "\n",
      "There are 3 houses with 3 cats each, for a total of 3 * 3 = 9 cats.\n",
      "\n",
      "**Step 2:**\n",
      "\n",
      "Each cat has 4 mittens, for a total of 9 cats * 4 mittens / cat = 36 mittens.\n",
      "\n",
      "**Step 3:**\n",
      "\n",
      "Each hat takes 4m of yarn, for a total of 9 cats * 1 hat / cat = 9 hats.\n",
      "\n",
      "**Step 4:**\n",
      "\n",
      "Each mitten takes 7m of yarn, for a total of 36 mittens * 7m / mitten = 252m of yarn.\n",
      "\n",
      "**Step 5:**\n",
      "\n",
      "Each hat takes 4m of yarn, for a total of 9 hats * 4m / hat = 36m of yarn.\n",
      "\n",
      "**Step 6:**\n",
      "\n",
      "The total amount of yarn needed is 252m + 36m = 288m.\n",
      "\n",
      "**Thus, the answer is 288.**\n"
     ]
    }
   ],
   "source": [
    "print(completion.result)"
   ]
  },
  {
   "cell_type": "markdown",
   "id": "776ddbc0",
   "metadata": {},
   "source": [
    "## Candidates"
   ]
  },
  {
   "cell_type": "code",
   "execution_count": 15,
   "id": "e1b02d0c",
   "metadata": {},
   "outputs": [],
   "source": [
    "completion = palm.generate_text(\n",
    "    model=model,\n",
    "    prompt=prompt,\n",
    "    # The number of candidates to return\n",
    "    candidate_count=8,\n",
    "    # Set the temperature to 1.0 for more variety of responses.\n",
    "    temperature=1.0,\n",
    "    max_output_tokens=800,\n",
    ")"
   ]
  },
  {
   "cell_type": "code",
   "execution_count": 16,
   "id": "1dc9108f",
   "metadata": {},
   "outputs": [
    {
     "name": "stdout",
     "output_type": "stream",
     "text": [
      "[{'output': '1. Chain-of-thought:\\n'\n",
      "            '\\n'\n",
      "            'First, find the total number of cats: 3 houses * 3 cats / house = '\n",
      "            '9 cats. Then, multiply that number by the number of mittens per '\n",
      "            'cat to find the total number of mittens: 9 cats * 4 mittens / cat '\n",
      "            '= 36 mittens. Then, multiply that number by the length of yarn '\n",
      "            'per mitten to find the total length of yarn used for mittens: 36 '\n",
      "            'mittens * 7m / mitten = 252m. Then, multiply the number of cats '\n",
      "            'by the number of hats per cat to find the total number of hats: 9 '\n",
      "            'cats * 1 hat / cat = 9 hats. Then, multiply that number by the '\n",
      "            'length of yarn per hat to find the total length of yarn used for '\n",
      "            'hats: 9 hats * 4m / hat = 36m. Then, add the total lengths of '\n",
      "            'yarn used for mittens and hats to find the total length of yarn '\n",
      "            'used: 252m + 36m = 288m.\\n'\n",
      "            '\\n'\n",
      "            '2. Detailed solution:\\n'\n",
      "            '\\n'\n",
      "            '* There are 3 houses with 3 cats each, for a total of 3 * 3 = 9 '\n",
      "            'cats.\\n'\n",
      "            '* Each cat has 4 mittens, for a total of 9 cats * 4 mittens / cat '\n",
      "            '= 36 mittens.\\n'\n",
      "            '* Each mitten is made with 7 meters of yarn, for a total of 36 '\n",
      "            'mittens * 7 meters / mitten = 252 meters of yarn.\\n'\n",
      "            '* Each cat has 1 hat, for a total of 9 cats * 1 hat / cat = 9 '\n",
      "            'hats.\\n'\n",
      "            '* Each hat is made with 4 meters of yarn, for a total of 9 hats * '\n",
      "            '4 meters / hat = 36 meters of yarn.\\n'\n",
      "            '* The total length of yarn used is 252 meters + 36 meters = 288 '\n",
      "            'meters.\\n'\n",
      "            '\\n'\n",
      "            '3. Final answer:\\n'\n",
      "            '\\n'\n",
      "            'The answer is 288.',\n",
      "  'safety_ratings': [{'category': <HarmCategory.HARM_CATEGORY_DEROGATORY: 1>,\n",
      "                      'probability': <HarmProbability.NEGLIGIBLE: 1>},\n",
      "                     {'category': <HarmCategory.HARM_CATEGORY_TOXICITY: 2>,\n",
      "                      'probability': <HarmProbability.NEGLIGIBLE: 1>},\n",
      "                     {'category': <HarmCategory.HARM_CATEGORY_VIOLENCE: 3>,\n",
      "                      'probability': <HarmProbability.NEGLIGIBLE: 1>},\n",
      "                     {'category': <HarmCategory.HARM_CATEGORY_SEXUAL: 4>,\n",
      "                      'probability': <HarmProbability.NEGLIGIBLE: 1>},\n",
      "                     {'category': <HarmCategory.HARM_CATEGORY_MEDICAL: 5>,\n",
      "                      'probability': <HarmProbability.NEGLIGIBLE: 1>},\n",
      "                     {'category': <HarmCategory.HARM_CATEGORY_DANGEROUS: 6>,\n",
      "                      'probability': <HarmProbability.NEGLIGIBLE: 1>}]},\n",
      " {'output': 'Chain-of-thought:\\n'\n",
      "            '\\n'\n",
      "            '1. First find the total number of cats: 3 houses * 3 cats / house '\n",
      "            '= 9 cats.\\n'\n",
      "            '2. Then find the total number of mittens: 9 cats * 4 mittens / '\n",
      "            'cat = 36 mittens.\\n'\n",
      "            '3. Then find the total amount of yarn needed for mittens: 36 '\n",
      "            'mittens * 7 m / mitten = 252 m.\\n'\n",
      "            '4. Then find the total number of hats: 9 cats * 1 hat / cat = 9 '\n",
      "            'hats.\\n'\n",
      "            '5. Then find the total amount of yarn needed for hats: 9 hats * 4 '\n",
      "            'm / hat = 36 m.\\n'\n",
      "            '6. Then add the amount of yarn needed for mittens and hats to '\n",
      "            'find the total amount of yarn needed: 252 m + 36 m = 288 m.\\n'\n",
      "            '\\n'\n",
      "            'The final answer: 288.',\n",
      "  'safety_ratings': [{'category': <HarmCategory.HARM_CATEGORY_DEROGATORY: 1>,\n",
      "                      'probability': <HarmProbability.NEGLIGIBLE: 1>},\n",
      "                     {'category': <HarmCategory.HARM_CATEGORY_TOXICITY: 2>,\n",
      "                      'probability': <HarmProbability.NEGLIGIBLE: 1>},\n",
      "                     {'category': <HarmCategory.HARM_CATEGORY_VIOLENCE: 3>,\n",
      "                      'probability': <HarmProbability.NEGLIGIBLE: 1>},\n",
      "                     {'category': <HarmCategory.HARM_CATEGORY_SEXUAL: 4>,\n",
      "                      'probability': <HarmProbability.NEGLIGIBLE: 1>},\n",
      "                     {'category': <HarmCategory.HARM_CATEGORY_MEDICAL: 5>,\n",
      "                      'probability': <HarmProbability.NEGLIGIBLE: 1>},\n",
      "                     {'category': <HarmCategory.HARM_CATEGORY_DANGEROUS: 6>,\n",
      "                      'probability': <HarmProbability.NEGLIGIBLE: 1>}]},\n",
      " {'output': '**Step 1: Determine the total number of cats.**\\n'\n",
      "            '\\n'\n",
      "            'There are three houses, each with three cats, for a total of 3 * '\n",
      "            '3 = 9 cats.\\n'\n",
      "            '\\n'\n",
      "            '**Step 2: Determine the total number of mittens.**\\n'\n",
      "            '\\n'\n",
      "            'Each cat has 4 mittens, for a total of 9 cats * 4 mittens / cat = '\n",
      "            '36 mittens.\\n'\n",
      "            '\\n'\n",
      "            '**Step 3: Determine the total amount of yarn needed for the '\n",
      "            'mittens.**\\n'\n",
      "            '\\n'\n",
      "            'Each mitten requires 7 meters of yarn, for a total of 36 mittens '\n",
      "            '* 7 meters / mitten = 252 meters of yarn.\\n'\n",
      "            '\\n'\n",
      "            '**Step 4: Determine the total number of hats.**\\n'\n",
      "            '\\n'\n",
      "            'Each cat has 1 hat, for a total of 9 cats * 1 hat / cat = 9 '\n",
      "            'hats.\\n'\n",
      "            '\\n'\n",
      "            '**Step 5: Determine the total amount of yarn needed for the '\n",
      "            'hats.**\\n'\n",
      "            '\\n'\n",
      "            'Each hat requires 4 meters of yarn, for a total of 9 hats * 4 '\n",
      "            'meters / hat = 36 meters of yarn.\\n'\n",
      "            '\\n'\n",
      "            '**Step 6: Add the amount of yarn needed for the mittens and hats '\n",
      "            'to find the total amount of yarn needed.**\\n'\n",
      "            '\\n'\n",
      "            'The total amount of yarn needed is 252 meters + 36 meters = 288 '\n",
      "            'meters.\\n'\n",
      "            '\\n'\n",
      "            '**The final answer: 288.**',\n",
      "  'safety_ratings': [{'category': <HarmCategory.HARM_CATEGORY_DEROGATORY: 1>,\n",
      "                      'probability': <HarmProbability.NEGLIGIBLE: 1>},\n",
      "                     {'category': <HarmCategory.HARM_CATEGORY_TOXICITY: 2>,\n",
      "                      'probability': <HarmProbability.NEGLIGIBLE: 1>},\n",
      "                     {'category': <HarmCategory.HARM_CATEGORY_VIOLENCE: 3>,\n",
      "                      'probability': <HarmProbability.NEGLIGIBLE: 1>},\n",
      "                     {'category': <HarmCategory.HARM_CATEGORY_SEXUAL: 4>,\n",
      "                      'probability': <HarmProbability.NEGLIGIBLE: 1>},\n",
      "                     {'category': <HarmCategory.HARM_CATEGORY_MEDICAL: 5>,\n",
      "                      'probability': <HarmProbability.NEGLIGIBLE: 1>},\n",
      "                     {'category': <HarmCategory.HARM_CATEGORY_DANGEROUS: 6>,\n",
      "                      'probability': <HarmProbability.NEGLIGIBLE: 1>}]},\n",
      " {'output': '**Step 1: Find the total number of cats.**\\n'\n",
      "            '\\n'\n",
      "            'There are three houses, each with three cats, for a total of 3 '\n",
      "            'houses * 3 cats / house = 9 cats.\\n'\n",
      "            '\\n'\n",
      "            '**Step 2: Find the total number of mittens.**\\n'\n",
      "            '\\n'\n",
      "            'Each cat has 4 mittens, for a total of 9 cats * 4 mittens / cat = '\n",
      "            '36 mittens.\\n'\n",
      "            '\\n'\n",
      "            '**Step 3: Find the total number of hats.**\\n'\n",
      "            '\\n'\n",
      "            'Each cat has 1 hat, for a total of 9 cats * 1 hat / cat = 9 '\n",
      "            'hats.\\n'\n",
      "            '\\n'\n",
      "            '**Step 4: Find the total amount of yarn needed for the '\n",
      "            'mittens.**\\n'\n",
      "            '\\n'\n",
      "            'Each mitten requires 7 meters of yarn, for a total of 36 mittens '\n",
      "            '* 7 meters / mitten = 252 meters of yarn.\\n'\n",
      "            '\\n'\n",
      "            '**Step 5: Find the total amount of yarn needed for the hats.**\\n'\n",
      "            '\\n'\n",
      "            'Each hat requires 4 meters of yarn, for a total of 9 hats * 4 '\n",
      "            'meters / hat = 36 meters of yarn.\\n'\n",
      "            '\\n'\n",
      "            '**Step 6: Add the amount of yarn needed for the mittens and the '\n",
      "            'hats to find the total amount of yarn needed.**\\n'\n",
      "            '\\n'\n",
      "            'The total amount of yarn needed is 252 meters + 36 meters = 288 '\n",
      "            'meters.\\n'\n",
      "            '\\n'\n",
      "            '**The final answer: 288 meters.**',\n",
      "  'safety_ratings': [{'category': <HarmCategory.HARM_CATEGORY_DEROGATORY: 1>,\n",
      "                      'probability': <HarmProbability.NEGLIGIBLE: 1>},\n",
      "                     {'category': <HarmCategory.HARM_CATEGORY_TOXICITY: 2>,\n",
      "                      'probability': <HarmProbability.NEGLIGIBLE: 1>},\n",
      "                     {'category': <HarmCategory.HARM_CATEGORY_VIOLENCE: 3>,\n",
      "                      'probability': <HarmProbability.NEGLIGIBLE: 1>},\n",
      "                     {'category': <HarmCategory.HARM_CATEGORY_SEXUAL: 4>,\n",
      "                      'probability': <HarmProbability.NEGLIGIBLE: 1>},\n",
      "                     {'category': <HarmCategory.HARM_CATEGORY_MEDICAL: 5>,\n",
      "                      'probability': <HarmProbability.NEGLIGIBLE: 1>},\n",
      "                     {'category': <HarmCategory.HARM_CATEGORY_DANGEROUS: 6>,\n",
      "                      'probability': <HarmProbability.NEGLIGIBLE: 1>}]},\n",
      " {'output': '**Step 1: Calculate the total number of cats.**\\n'\n",
      "            '\\n'\n",
      "            'There are three houses, each with three cats, for a total of 3 * '\n",
      "            '3 = 9 cats.\\n'\n",
      "            '\\n'\n",
      "            '**Step 2: Calculate the total number of mittens.**\\n'\n",
      "            '\\n'\n",
      "            'Each cat has 4 mittens, for a total of 4 * 9 = 36 mittens.\\n'\n",
      "            '\\n'\n",
      "            '**Step 3: Calculate the total amount of yarn needed for the '\n",
      "            'mittens.**\\n'\n",
      "            '\\n'\n",
      "            'Each mitten requires 7 m of yarn, for a total of 7 * 36 = 252 m '\n",
      "            'of yarn.\\n'\n",
      "            '\\n'\n",
      "            '**Step 4: Calculate the total number of hats.**\\n'\n",
      "            '\\n'\n",
      "            'Each cat has 1 hat, for a total of 9 hats.\\n'\n",
      "            '\\n'\n",
      "            '**Step 5: Calculate the total amount of yarn needed for the '\n",
      "            'hats.**\\n'\n",
      "            '\\n'\n",
      "            'Each hat requires 4 m of yarn, for a total of 4 * 9 = 36 m of '\n",
      "            'yarn.\\n'\n",
      "            '\\n'\n",
      "            '**Step 6: Add the amount of yarn needed for the mittens and hats '\n",
      "            'to find the total amount of yarn needed.**\\n'\n",
      "            '\\n'\n",
      "            'The total amount of yarn needed is 252 m + 36 m = 288 m.\\n'\n",
      "            '\\n'\n",
      "            '**The final answer: 288.**',\n",
      "  'safety_ratings': [{'category': <HarmCategory.HARM_CATEGORY_DEROGATORY: 1>,\n",
      "                      'probability': <HarmProbability.NEGLIGIBLE: 1>},\n",
      "                     {'category': <HarmCategory.HARM_CATEGORY_TOXICITY: 2>,\n",
      "                      'probability': <HarmProbability.NEGLIGIBLE: 1>},\n",
      "                     {'category': <HarmCategory.HARM_CATEGORY_VIOLENCE: 3>,\n",
      "                      'probability': <HarmProbability.NEGLIGIBLE: 1>},\n",
      "                     {'category': <HarmCategory.HARM_CATEGORY_SEXUAL: 4>,\n",
      "                      'probability': <HarmProbability.NEGLIGIBLE: 1>},\n",
      "                     {'category': <HarmCategory.HARM_CATEGORY_MEDICAL: 5>,\n",
      "                      'probability': <HarmProbability.NEGLIGIBLE: 1>},\n",
      "                     {'category': <HarmCategory.HARM_CATEGORY_DANGEROUS: 6>,\n",
      "                      'probability': <HarmProbability.NEGLIGIBLE: 1>}]},\n",
      " {'output': 'Chain-of-thought:\\n'\n",
      "            '1. There are 3 houses * 3 cats / house = 9 cats.\\n'\n",
      "            '2. Each cat has 4 mittens + 1 hat = 5 items.\\n'\n",
      "            '3. So, in total, 9 cats * 5 items / cat = 45 items were knitted.\\n'\n",
      "            '4. Each mitten required 7 m of yarn, so 45 items * 7 m / item = '\n",
      "            '315 m of yarn were needed to make the mittens.\\n'\n",
      "            '5. Each hat required 4 m of yarn, so 45 items * 4 m / item = 180 '\n",
      "            'm of yarn were needed to make the hats.\\n'\n",
      "            '6. Therefore, a total of 315 m + 180 m = 495 m of yarn were '\n",
      "            'needed to make all the items.\\n'\n",
      "            '\\n'\n",
      "            'The final answer: 495.',\n",
      "  'safety_ratings': [{'category': <HarmCategory.HARM_CATEGORY_DEROGATORY: 1>,\n",
      "                      'probability': <HarmProbability.NEGLIGIBLE: 1>},\n",
      "                     {'category': <HarmCategory.HARM_CATEGORY_TOXICITY: 2>,\n",
      "                      'probability': <HarmProbability.NEGLIGIBLE: 1>},\n",
      "                     {'category': <HarmCategory.HARM_CATEGORY_VIOLENCE: 3>,\n",
      "                      'probability': <HarmProbability.NEGLIGIBLE: 1>},\n",
      "                     {'category': <HarmCategory.HARM_CATEGORY_SEXUAL: 4>,\n",
      "                      'probability': <HarmProbability.NEGLIGIBLE: 1>},\n",
      "                     {'category': <HarmCategory.HARM_CATEGORY_MEDICAL: 5>,\n",
      "                      'probability': <HarmProbability.NEGLIGIBLE: 1>},\n",
      "                     {'category': <HarmCategory.HARM_CATEGORY_DANGEROUS: 6>,\n",
      "                      'probability': <HarmProbability.NEGLIGIBLE: 1>}]},\n",
      " {'output': '1. Each house has 3 cats, so there are 3 * 3 = 9 cats.\\n'\n",
      "            '2. Each cat has 4 mittens, so there are 9 * 4 = 36 mittens.\\n'\n",
      "            '3. Each hat takes 4m of yarn, so 36 hats take 4 * 36 = 144m of '\n",
      "            'yarn.\\n'\n",
      "            '4. Each mitten takes 7m of yarn, so 36 mittens take 7 * 36 = 252m '\n",
      "            'of yarn.\\n'\n",
      "            '5. In total, 144 + 252 = 396m of yarn was needed to make all the '\n",
      "            'items.\\n'\n",
      "            '\\n'\n",
      "            'The final answer: 396.',\n",
      "  'safety_ratings': [{'category': <HarmCategory.HARM_CATEGORY_DEROGATORY: 1>,\n",
      "                      'probability': <HarmProbability.NEGLIGIBLE: 1>},\n",
      "                     {'category': <HarmCategory.HARM_CATEGORY_TOXICITY: 2>,\n",
      "                      'probability': <HarmProbability.NEGLIGIBLE: 1>},\n",
      "                     {'category': <HarmCategory.HARM_CATEGORY_VIOLENCE: 3>,\n",
      "                      'probability': <HarmProbability.NEGLIGIBLE: 1>},\n",
      "                     {'category': <HarmCategory.HARM_CATEGORY_SEXUAL: 4>,\n",
      "                      'probability': <HarmProbability.NEGLIGIBLE: 1>},\n",
      "                     {'category': <HarmCategory.HARM_CATEGORY_MEDICAL: 5>,\n",
      "                      'probability': <HarmProbability.NEGLIGIBLE: 1>},\n",
      "                     {'category': <HarmCategory.HARM_CATEGORY_DANGEROUS: 6>,\n",
      "                      'probability': <HarmProbability.NEGLIGIBLE: 1>}]},\n",
      " {'output': '1. Chain-of-thought:\\n'\n",
      "            '   1. There are 3 houses * 3 cats / house = 9 cats.\\n'\n",
      "            '   2. Each cat has 4 mittens + 1 hat = 5 items.\\n'\n",
      "            '   3. Therefore, 9 cats * 5 items / cat = 45 items were made.\\n'\n",
      "            '   4. Each mitten required 7m of yarn, so 45 mittens * 7m / '\n",
      "            'mitten = 315m of yarn was used for mittens.\\n'\n",
      "            '   5. Each hat required 4m of yarn, so 45 hats * 4m / hat = 180m '\n",
      "            'of yarn was used for hats.\\n'\n",
      "            '   6. In total, 315m + 180m = 495m of yarn was used.\\n'\n",
      "            '\\n'\n",
      "            '2. Detailed solution:\\n'\n",
      "            '\\n'\n",
      "            '```\\n'\n",
      "            '# Chain-of-thought:\\n'\n",
      "            '\\n'\n",
      "            '1. There are 3 houses * 3 cats / house = 9 cats.\\n'\n",
      "            '2. Each cat has 4 mittens + 1 hat = 5 items.\\n'\n",
      "            '3. Therefore, 9 cats * 5 items / cat = 45 items were made.\\n'\n",
      "            '4. Each mitten required 7m of yarn, so 45 mittens * 7m / mitten = '\n",
      "            '315m of yarn was used for mittens.\\n'\n",
      "            '5. Each hat required 4m of yarn, so 45 hats * 4m / hat = 180m of '\n",
      "            'yarn was used for hats.\\n'\n",
      "            '6. In total, 315m + 180m = 495m of yarn was used.\\n'\n",
      "            '\\n'\n",
      "            '# Detailed solution:\\n'\n",
      "            '\\n'\n",
      "            '```\\n'\n",
      "            '\\n'\n",
      "            '3. Final answer: 495',\n",
      "  'safety_ratings': [{'category': <HarmCategory.HARM_CATEGORY_DEROGATORY: 1>,\n",
      "                      'probability': <HarmProbability.NEGLIGIBLE: 1>},\n",
      "                     {'category': <HarmCategory.HARM_CATEGORY_TOXICITY: 2>,\n",
      "                      'probability': <HarmProbability.NEGLIGIBLE: 1>},\n",
      "                     {'category': <HarmCategory.HARM_CATEGORY_VIOLENCE: 3>,\n",
      "                      'probability': <HarmProbability.NEGLIGIBLE: 1>},\n",
      "                     {'category': <HarmCategory.HARM_CATEGORY_SEXUAL: 4>,\n",
      "                      'probability': <HarmProbability.NEGLIGIBLE: 1>},\n",
      "                     {'category': <HarmCategory.HARM_CATEGORY_MEDICAL: 5>,\n",
      "                      'probability': <HarmProbability.NEGLIGIBLE: 1>},\n",
      "                     {'category': <HarmCategory.HARM_CATEGORY_DANGEROUS: 6>,\n",
      "                      'probability': <HarmProbability.NEGLIGIBLE: 1>}]}]\n"
     ]
    }
   ],
   "source": [
    "import pprint\n",
    "pprint.pprint(completion.candidates)"
   ]
  },
  {
   "cell_type": "markdown",
   "id": "291c605d",
   "metadata": {},
   "source": [
    "So, since you know the answer to this problem, it's easy to check the solve rate:"
   ]
  },
  {
   "cell_type": "code",
   "execution_count": 17,
   "id": "63b24110",
   "metadata": {},
   "outputs": [
    {
     "data": {
      "text/plain": [
       "0.625"
      ]
     },
     "execution_count": 17,
     "metadata": {},
     "output_type": "execute_result"
    }
   ],
   "source": [
    "import numpy as np\n",
    "np.mean(['288' in c['output'] for c in completion.candidates])"
   ]
  },
  {
   "cell_type": "code",
   "execution_count": null,
   "id": "6066fa40",
   "metadata": {},
   "outputs": [],
   "source": []
  }
 ],
 "metadata": {
  "kernelspec": {
   "display_name": "Python 3 (ipykernel)",
   "language": "python",
   "name": "python3"
  },
  "language_info": {
   "codemirror_mode": {
    "name": "ipython",
    "version": 3
   },
   "file_extension": ".py",
   "mimetype": "text/x-python",
   "name": "python",
   "nbconvert_exporter": "python",
   "pygments_lexer": "ipython3",
   "version": "3.9.13"
  },
  "nbTranslate": {
   "displayLangs": [
    "*"
   ],
   "hotkey": "alt-t",
   "langInMainMenu": true,
   "sourceLang": "en",
   "targetLang": "fr",
   "useGoogleTranslate": true
  },
  "toc": {
   "base_numbering": 1,
   "nav_menu": {},
   "number_sections": true,
   "sideBar": true,
   "skip_h1_title": false,
   "title_cell": "Table of Contents",
   "title_sidebar": "Contents",
   "toc_cell": false,
   "toc_position": {},
   "toc_section_display": true,
   "toc_window_display": false
  }
 },
 "nbformat": 4,
 "nbformat_minor": 5
}
