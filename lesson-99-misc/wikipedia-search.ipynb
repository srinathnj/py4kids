{
 "cells": [
  {
   "cell_type": "markdown",
   "id": "438c7431",
   "metadata": {},
   "source": [
    "/home/wengong/projects/wgong/streamlit-searchbox/example.py"
   ]
  },
  {
   "cell_type": "code",
   "execution_count": 2,
   "id": "cdbec20c",
   "metadata": {},
   "outputs": [],
   "source": [
    "import requests"
   ]
  },
  {
   "cell_type": "code",
   "execution_count": 6,
   "id": "7692feb9",
   "metadata": {},
   "outputs": [],
   "source": [
    "searchterm = 'Large language model' # \"LLM\""
   ]
  },
  {
   "cell_type": "code",
   "execution_count": 7,
   "id": "1eb7cb2c",
   "metadata": {},
   "outputs": [],
   "source": [
    "response = requests.get(\n",
    "    \"http://en.wikipedia.org/w/api.php\",\n",
    "    params={\n",
    "        \"list\": \"search\",\n",
    "        \"format\": \"json\",\n",
    "        \"action\": \"query\",\n",
    "        \"srlimit\": 10,\n",
    "        \"limit\": 10,\n",
    "        \"srsearch\": searchterm,\n",
    "    },\n",
    "    timeout=5,\n",
    ").json()[\"query\"][\"search\"]"
   ]
  },
  {
   "cell_type": "code",
   "execution_count": 8,
   "id": "48788d1b",
   "metadata": {},
   "outputs": [
    {
     "data": {
      "text/plain": [
       "[{'ns': 0,\n",
       "  'title': 'Large language model',\n",
       "  'pageid': 73248112,\n",
       "  'size': 117506,\n",
       "  'wordcount': 10700,\n",
       "  'snippet': 'A <span class=\"searchmatch\">large</span> <span class=\"searchmatch\">language</span> <span class=\"searchmatch\">model</span> (LLM) is a computerized <span class=\"searchmatch\">language</span> <span class=\"searchmatch\">model</span>, embodied by an artificial neural network using an enormous amount of &quot;parameters&quot; (i.e',\n",
       "  'timestamp': '2023-07-08T15:27:40Z'},\n",
       " {'ns': 0,\n",
       "  'title': 'BLOOM (language model)',\n",
       "  'pageid': 71889610,\n",
       "  'size': 2378,\n",
       "  'wordcount': 238,\n",
       "  'snippet': 'BigScience <span class=\"searchmatch\">Large</span> Open-science Open-access Multilingual <span class=\"searchmatch\">Language</span> <span class=\"searchmatch\">Model</span> (BLOOM) is a transformer-based <span class=\"searchmatch\">large</span> <span class=\"searchmatch\">language</span> <span class=\"searchmatch\">model</span>. It was created by over 1000',\n",
       "  'timestamp': '2023-06-24T19:15:23Z'},\n",
       " {'ns': 0,\n",
       "  'title': 'Language model',\n",
       "  'pageid': 1911810,\n",
       "  'size': 21742,\n",
       "  'wordcount': 2692,\n",
       "  'snippet': 'A <span class=\"searchmatch\">language</span> <span class=\"searchmatch\">model</span> is a probability distribution over sequences of words. Given any sequence of words of length m, a <span class=\"searchmatch\">language</span> <span class=\"searchmatch\">model</span> assigns a probability',\n",
       "  'timestamp': '2023-06-21T18:45:11Z'},\n",
       " {'ns': 0,\n",
       "  'title': 'BERT (language model)',\n",
       "  'pageid': 62026514,\n",
       "  'size': 15783,\n",
       "  'wordcount': 1787,\n",
       "  'snippet': 'Bidirectional Encoder Representations from Transformers (BERT) is a family of <span class=\"searchmatch\">language</span> <span class=\"searchmatch\">models</span> introduced in 2018 by researchers at Google. A 2020 literature survey',\n",
       "  'timestamp': '2023-06-01T05:01:37Z'},\n",
       " {'ns': 0,\n",
       "  'title': 'LLaMA',\n",
       "  'pageid': 73306787,\n",
       "  'size': 11422,\n",
       "  'wordcount': 1215,\n",
       "  'snippet': 'LLaMA (<span class=\"searchmatch\">Large</span> <span class=\"searchmatch\">Language</span> <span class=\"searchmatch\">Model</span> Meta AI) is a <span class=\"searchmatch\">large</span> <span class=\"searchmatch\">language</span> <span class=\"searchmatch\">model</span> (LLM) released by Meta AI in February 2023. A variety of <span class=\"searchmatch\">model</span> sizes were trained ranging',\n",
       "  'timestamp': '2023-06-26T14:42:16Z'},\n",
       " {'ns': 0,\n",
       "  'title': 'Modeling language',\n",
       "  'pageid': 346781,\n",
       "  'size': 22311,\n",
       "  'wordcount': 2799,\n",
       "  'snippet': 'and distributed systems. A <span class=\"searchmatch\">large</span> number of <span class=\"searchmatch\">modeling</span> <span class=\"searchmatch\">languages</span> appear in the literature. Example of graphical <span class=\"searchmatch\">modeling</span> <span class=\"searchmatch\">languages</span> in the field of computer',\n",
       "  'timestamp': '2023-07-08T18:40:48Z'},\n",
       " {'ns': 0,\n",
       "  'title': 'Generative pre-trained transformer',\n",
       "  'pageid': 72970020,\n",
       "  'size': 40873,\n",
       "  'wordcount': 3575,\n",
       "  'snippet': 'Generative pre-trained transformers (GPT) are a type of <span class=\"searchmatch\">large</span> <span class=\"searchmatch\">language</span> <span class=\"searchmatch\">model</span> (LLM) and a prominent framework for generative artificial intelligence. The',\n",
       "  'timestamp': '2023-07-08T13:26:33Z'},\n",
       " {'ns': 0,\n",
       "  'title': 'GPT-3',\n",
       "  'pageid': 64695824,\n",
       "  'size': 54138,\n",
       "  'wordcount': 4821,\n",
       "  'snippet': 'Transformer 3 (GPT-3) is a <span class=\"searchmatch\">large</span> <span class=\"searchmatch\">language</span> <span class=\"searchmatch\">model</span> released by OpenAI in 2020. Like its predecessor GPT-2, it is a decoder-only transformer <span class=\"searchmatch\">model</span> of deep neural network',\n",
       "  'timestamp': '2023-07-08T18:00:54Z'},\n",
       " {'ns': 0,\n",
       "  'title': 'Foundation models',\n",
       "  'pageid': 70984276,\n",
       "  'size': 16326,\n",
       "  'wordcount': 1527,\n",
       "  'snippet': 'Research on Foundation <span class=\"searchmatch\">Models</span> (CRFM) popularized the term. Early examples of foundation <span class=\"searchmatch\">models</span> were pre-trained <span class=\"searchmatch\">large</span> <span class=\"searchmatch\">language</span> <span class=\"searchmatch\">models</span> (LLMs) including Google\\'s',\n",
       "  'timestamp': '2023-06-21T16:39:08Z'},\n",
       " {'ns': 0,\n",
       "  'title': 'Prompt engineering',\n",
       "  'pageid': 69071767,\n",
       "  'size': 39444,\n",
       "  'wordcount': 3998,\n",
       "  'snippet': 'likelihood scores. <span class=\"searchmatch\">Large</span> <span class=\"searchmatch\">language</span> <span class=\"searchmatch\">models</span> like GPT-4 can have accurately calibrated likelihood scores in their token predictions, and so the <span class=\"searchmatch\">model</span> output uncertainty',\n",
       "  'timestamp': '2023-07-07T12:55:37Z'}]"
      ]
     },
     "execution_count": 8,
     "metadata": {},
     "output_type": "execute_result"
    }
   ],
   "source": [
    "response"
   ]
  },
  {
   "cell_type": "code",
   "execution_count": null,
   "id": "783ab2fb",
   "metadata": {},
   "outputs": [],
   "source": []
  }
 ],
 "metadata": {
  "kernelspec": {
   "display_name": "Python 3 (ipykernel)",
   "language": "python",
   "name": "python3"
  },
  "language_info": {
   "codemirror_mode": {
    "name": "ipython",
    "version": 3
   },
   "file_extension": ".py",
   "mimetype": "text/x-python",
   "name": "python",
   "nbconvert_exporter": "python",
   "pygments_lexer": "ipython3",
   "version": "3.10.6"
  }
 },
 "nbformat": 4,
 "nbformat_minor": 5
}
