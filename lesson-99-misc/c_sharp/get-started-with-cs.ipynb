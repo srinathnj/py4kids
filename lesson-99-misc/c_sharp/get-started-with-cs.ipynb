{
 "cells": [
  {
   "cell_type": "markdown",
   "metadata": {},
   "source": [
    "## Install\n",
    "\n",
    "- https://developers.refinitiv.com/en/article-catalog/article/using--net-core-in-jupyter-notebook\n",
    "\n",
    "```\n",
    "Install .NET Core 3.1\n",
    "\n",
    "dotnet tool install --global Microsoft.dotnet-interactive --version 1.0.155302\n",
    "\n",
    "dotnet interactive jupyter install\n",
    "\n",
    "```"
   ]
  },
  {
   "cell_type": "code",
   "execution_count": 1,
   "metadata": {},
   "outputs": [
    {
     "data": {
      "text/html": [
       "\r\n",
       "<div>\r\n",
       "    <div id='dotnet-interactive-this-cell-756.Microsoft.DotNet.Interactive.Http.HttpPort' style='display: none'>\r\n",
       "        The below script needs to be able to find the current output cell; this is an easy method to get it.\r\n",
       "    </div>\r\n",
       "    <script type='text/javascript'>\r\n",
       "async function probeAddresses(probingAddresses) {\r\n",
       "    function timeout(ms, promise) {\r\n",
       "        return new Promise(function (resolve, reject) {\r\n",
       "            setTimeout(function () {\r\n",
       "                reject(new Error('timeout'))\r\n",
       "            }, ms)\r\n",
       "            promise.then(resolve, reject)\r\n",
       "        })\r\n",
       "    }\r\n",
       "\r\n",
       "    if (Array.isArray(probingAddresses)) {\r\n",
       "        for (let i = 0; i < probingAddresses.length; i++) {\r\n",
       "\r\n",
       "            let rootUrl = probingAddresses[i];\r\n",
       "\r\n",
       "            if (!rootUrl.endsWith('/')) {\r\n",
       "                rootUrl = `${rootUrl}/`;\r\n",
       "            }\r\n",
       "\r\n",
       "            try {\r\n",
       "                let response = await timeout(1000, fetch(`${rootUrl}discovery`, {\r\n",
       "                    method: 'POST',\r\n",
       "                    cache: 'no-cache',\r\n",
       "                    mode: 'cors',\r\n",
       "                    timeout: 1000,\r\n",
       "                    headers: {\r\n",
       "                        'Content-Type': 'text/plain'\r\n",
       "                    },\r\n",
       "                    body: probingAddresses[i]\r\n",
       "                }));\r\n",
       "\r\n",
       "                if (response.status == 200) {\r\n",
       "                    return rootUrl;\r\n",
       "                }\r\n",
       "            }\r\n",
       "            catch (e) { }\r\n",
       "        }\r\n",
       "    }\r\n",
       "}\r\n",
       "\r\n",
       "function loadDotnetInteractiveApi() {\r\n",
       "    probeAddresses([\"http://192.168.0.177:1000/\", \"http://127.0.0.1:1000/\"])\r\n",
       "        .then((root) => {\r\n",
       "        // use probing to find host url and api resources\r\n",
       "        // load interactive helpers and language services\r\n",
       "        let dotnetInteractiveRequire = require.config({\r\n",
       "        context: '756.Microsoft.DotNet.Interactive.Http.HttpPort',\r\n",
       "                paths:\r\n",
       "            {\r\n",
       "                'dotnet-interactive': `${root}resources`\r\n",
       "                }\r\n",
       "        }) || require;\r\n",
       "\r\n",
       "            window.dotnetInteractiveRequire = dotnetInteractiveRequire;\r\n",
       "\r\n",
       "            window.configureRequireFromExtension = function(extensionName, extensionCacheBuster) {\r\n",
       "                let paths = {};\r\n",
       "                paths[extensionName] = `${root}extensions/${extensionName}/resources/`;\r\n",
       "                \r\n",
       "                let internalRequire = require.config({\r\n",
       "                    context: extensionCacheBuster,\r\n",
       "                    paths: paths,\r\n",
       "                    urlArgs: `cacheBuster=${extensionCacheBuster}`\r\n",
       "                    }) || require;\r\n",
       "\r\n",
       "                return internalRequire\r\n",
       "            };\r\n",
       "        \r\n",
       "            dotnetInteractiveRequire([\r\n",
       "                    'dotnet-interactive/dotnet-interactive'\r\n",
       "                ],\r\n",
       "                function (dotnet) {\r\n",
       "                    dotnet.init(window);\r\n",
       "                },\r\n",
       "                function (error) {\r\n",
       "                    console.log(error);\r\n",
       "                }\r\n",
       "            );\r\n",
       "        })\r\n",
       "        .catch(error => {console.log(error);});\r\n",
       "    }\r\n",
       "\r\n",
       "// ensure `require` is available globally\r\n",
       "if ((typeof(require) !==  typeof(Function)) || (typeof(require.config) !== typeof(Function))) {\r\n",
       "    let require_script = document.createElement('script');\r\n",
       "    require_script.setAttribute('src', 'https://cdnjs.cloudflare.com/ajax/libs/require.js/2.3.6/require.min.js');\r\n",
       "    require_script.setAttribute('type', 'text/javascript');\r\n",
       "    \r\n",
       "    \r\n",
       "    require_script.onload = function() {\r\n",
       "        loadDotnetInteractiveApi();\r\n",
       "    };\r\n",
       "\r\n",
       "    document.getElementsByTagName('head')[0].appendChild(require_script);\r\n",
       "}\r\n",
       "else {\r\n",
       "    loadDotnetInteractiveApi();\r\n",
       "}\r\n",
       "\r\n",
       "    </script>\r\n",
       "</div>"
      ]
     },
     "metadata": {},
     "output_type": "display_data"
    }
   ],
   "source": [
    "using System;\n",
    "using System.Linq;"
   ]
  },
  {
   "cell_type": "code",
   "execution_count": 2,
   "metadata": {},
   "outputs": [
    {
     "name": "stdout",
     "output_type": "stream",
     "text": [
      "Hello world from C# Notebook\r\n"
     ]
    }
   ],
   "source": [
    "Console.WriteLine(\"Hello world from C# Notebook\")"
   ]
  },
  {
   "cell_type": "code",
   "execution_count": 26,
   "metadata": {},
   "outputs": [
    {
     "name": "stderr",
     "output_type": "stream",
     "text": [
      "\r\n",
      "(12,15): warning CS7022: The entry point of the program is global code; ignoring 'Car.Main(string[])' entry point.\r\n",
      "\r\n"
     ]
    }
   ],
   "source": [
    "using System;\n",
    "\n",
    "class Car \n",
    "{\n",
    "  // my first C# class\n",
    "  public string color = \"red\";\n",
    "  public int age = 10;\n",
    "  public double value = 10000.0;\n",
    "  public string owner = \"Wendy\";\n",
    "  public bool has_loan = true;\n",
    "\n",
    "  static void Main(string[] args)\n",
    "  {\n",
    "    // create an object of Car class\n",
    "    Car myObj = new Car();\n",
    "    Console.WriteLine(myObj.color);\n",
    "  }\n",
    "}"
   ]
  },
  {
   "cell_type": "code",
   "execution_count": 39,
   "metadata": {},
   "outputs": [
    {
     "name": "stdout",
     "output_type": "stream",
     "text": [
      "Properties of my car ...\n",
      "owner: Wendy\n",
      "age: 10\n",
      "value: 10000\n",
      "color: red\n",
      "has_loan: True\n",
      "new value: 9000\n",
      "sqrt of 9000 = 94.86832980505137\n",
      "Wendy likes red color, her initial is W \n",
      "-1\n",
      "4\n"
     ]
    }
   ],
   "source": [
    "static void MyMethod() \n",
    "{\n",
    "      Car myObj = new Car();\n",
    "      Console.WriteLine(\"Properties of my car ...\");\n",
    "      Console.WriteLine(\"owner: \" + myObj.owner);\n",
    "      Console.WriteLine(\"age: \" + myObj.age);\n",
    "      Console.WriteLine(\"value: \" + myObj.value);\n",
    "      myObj.value -= 1000;\n",
    "      Console.WriteLine(\"color: \" + myObj.color);\n",
    "      Console.WriteLine(\"has_loan: \" + myObj.has_loan);\n",
    "      \n",
    "      Console.WriteLine(\"new value: \" + myObj.value);\n",
    "      \n",
    "    // math\n",
    "    Console.WriteLine(\"sqrt of \" + myObj.value + \" = \" + Math.Sqrt(myObj.value));\n",
    "    \n",
    "    // string interpolation\n",
    "    Console.WriteLine($\"{myObj.owner} likes {myObj.color} color, her initial is {myObj.owner[0]} \");\n",
    "\n",
    "    Console.WriteLine(myObj.owner.IndexOf(\"z\")); \n",
    "    Console.WriteLine(myObj.owner.IndexOf(\"y\")); \n",
    "}\n",
    "\n",
    "MyMethod() ;"
   ]
  },
  {
   "cell_type": "code",
   "execution_count": 42,
   "metadata": {},
   "outputs": [
    {
     "name": "stdout",
     "output_type": "stream",
     "text": [
      " John Doe's lastName is Doe\r\n"
     ]
    }
   ],
   "source": [
    "static void str_method()\n",
    "{\n",
    "    // Full name\n",
    "    string name = \"John Doe\";\n",
    "\n",
    "    // Location of the letter D\n",
    "    int charPos = name.IndexOf(\"D\");\n",
    "\n",
    "    // Get last name\n",
    "    string lastName = name.Substring(charPos);\n",
    "\n",
    "    // Print the result\n",
    "    Console.WriteLine($\" {name}\\'s lastName is {lastName}\");\n",
    "\n",
    "}\n",
    "\n",
    "str_method();"
   ]
  },
  {
   "cell_type": "code",
   "execution_count": 46,
   "metadata": {},
   "outputs": [],
   "source": [
    "static void switch_method(int day)\n",
    "{\n",
    "    switch (day) \n",
    "    {\n",
    "      case 1:\n",
    "        Console.WriteLine(\"Monday\");\n",
    "        break;\n",
    "      case 2:\n",
    "        Console.WriteLine(\"Tuesday\");\n",
    "        break;\n",
    "      case 3:\n",
    "        Console.WriteLine(\"Wednesday\");\n",
    "        break;\n",
    "      case 4:\n",
    "        Console.WriteLine(\"Thursday\");\n",
    "        break;\n",
    "      case 5:\n",
    "        Console.WriteLine(\"Friday\");\n",
    "        break;\n",
    "      case 6:\n",
    "        Console.WriteLine(\"Saturday\");\n",
    "        break;\n",
    "      case 7:\n",
    "        Console.WriteLine(\"Sunday\");\n",
    "        break;\n",
    "      default:\n",
    "        Console.WriteLine(\"Out of week\");\n",
    "        break;\n",
    "    }\n",
    "\n",
    "}"
   ]
  },
  {
   "cell_type": "code",
   "execution_count": 49,
   "metadata": {},
   "outputs": [
    {
     "name": "stdout",
     "output_type": "stream",
     "text": [
      "Tuesday\n",
      "Out of week\n"
     ]
    }
   ],
   "source": [
    "switch_method(2); \n",
    "switch_method(12); "
   ]
  },
  {
   "cell_type": "markdown",
   "metadata": {},
   "source": [
    "## Tutorials\n",
    "\n",
    "- https://www.tutorialspoint.com/csharp/csharp_overview.htm\n",
    "- https://www.w3schools.com/cs/cs_getstarted.php"
   ]
  },
  {
   "cell_type": "markdown",
   "metadata": {},
   "source": [
    "## work with dataframe\n",
    "\n",
    "- https://developers.refinitiv.com/en/article-catalog/article/getting-started-with-c--dataframe-and-xplot-ploty"
   ]
  },
  {
   "cell_type": "code",
   "execution_count": null,
   "metadata": {},
   "outputs": [],
   "source": []
  }
 ],
 "metadata": {
  "kernelspec": {
   "display_name": ".NET (C#)",
   "language": "C#",
   "name": ".net-csharp"
  },
  "language_info": {
   "file_extension": ".cs",
   "mimetype": "text/x-csharp",
   "name": "C#",
   "pygments_lexer": "csharp",
   "version": "8.0"
  },
  "toc": {
   "base_numbering": 1,
   "nav_menu": {},
   "number_sections": true,
   "sideBar": true,
   "skip_h1_title": false,
   "title_cell": "Table of Contents",
   "title_sidebar": "Contents",
   "toc_cell": false,
   "toc_position": {},
   "toc_section_display": true,
   "toc_window_display": false
  }
 },
 "nbformat": 4,
 "nbformat_minor": 4
}
