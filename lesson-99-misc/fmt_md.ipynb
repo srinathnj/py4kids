{
 "cells": [
  {
   "cell_type": "code",
   "execution_count": 1,
   "id": "abb07f5a",
   "metadata": {},
   "outputs": [],
   "source": [
    "s = \"\"\"\n",
    "RAG Concept - https://docs.llamaindex.ai/en/stable/getting_started/concepts.html\n",
    "10 Ways to Improve RAG - https://towardsdatascience.com/10-ways-to-improve-the-performance-of-retrieval-augmented-generation-systems-5fa2cee7cd5c\n",
    "Claude RAG Demo - https://github.com/anthropics/anthropic-retrieval-demo#setting-up-and-using-an-embedding-database\n",
    "llamaIndex RAG - https://github.com/run-llama/rags\n",
    "llama-coder - https://github.com/ex3ndr/llama-coder\n",
    "\"\"\""
   ]
  },
  {
   "cell_type": "code",
   "execution_count": 2,
   "id": "5a40e0eb",
   "metadata": {},
   "outputs": [],
   "source": [
    "items = [i.strip() for i in s.split(\"\\n\") if i.strip()]"
   ]
  },
  {
   "cell_type": "code",
   "execution_count": 3,
   "id": "dca26d4a",
   "metadata": {},
   "outputs": [],
   "source": [
    "md = [i.split(\" - \") for i in items]"
   ]
  },
  {
   "cell_type": "code",
   "execution_count": 8,
   "id": "511b0562",
   "metadata": {},
   "outputs": [],
   "source": [
    "md_txt = \"\\n\".join([f\"- [{i[0]}]({i[1]})\"  for i in md])"
   ]
  },
  {
   "cell_type": "code",
   "execution_count": 9,
   "id": "b117139f",
   "metadata": {},
   "outputs": [
    {
     "name": "stdout",
     "output_type": "stream",
     "text": [
      "- [RAG Concept](https://docs.llamaindex.ai/en/stable/getting_started/concepts.html)\n",
      "- [10 Ways to Improve RAG](https://towardsdatascience.com/10-ways-to-improve-the-performance-of-retrieval-augmented-generation-systems-5fa2cee7cd5c)\n",
      "- [Claude RAG Demo](https://github.com/anthropics/anthropic-retrieval-demo#setting-up-and-using-an-embedding-database)\n",
      "- [llamaIndex RAG](https://github.com/run-llama/rags)\n",
      "- [llama-coder](https://github.com/ex3ndr/llama-coder)\n"
     ]
    }
   ],
   "source": [
    "print(md_txt)"
   ]
  },
  {
   "cell_type": "code",
   "execution_count": null,
   "id": "686f207e",
   "metadata": {},
   "outputs": [],
   "source": []
  }
 ],
 "metadata": {
  "kernelspec": {
   "display_name": "Python 3 (ipykernel)",
   "language": "python",
   "name": "python3"
  },
  "language_info": {
   "codemirror_mode": {
    "name": "ipython",
    "version": 3
   },
   "file_extension": ".py",
   "mimetype": "text/x-python",
   "name": "python",
   "nbconvert_exporter": "python",
   "pygments_lexer": "ipython3",
   "version": "3.9.13"
  },
  "nbTranslate": {
   "displayLangs": [
    "*"
   ],
   "hotkey": "alt-t",
   "langInMainMenu": true,
   "sourceLang": "en",
   "targetLang": "fr",
   "useGoogleTranslate": true
  },
  "toc": {
   "base_numbering": 1,
   "nav_menu": {},
   "number_sections": true,
   "sideBar": true,
   "skip_h1_title": false,
   "title_cell": "Table of Contents",
   "title_sidebar": "Contents",
   "toc_cell": false,
   "toc_position": {},
   "toc_section_display": true,
   "toc_window_display": false
  }
 },
 "nbformat": 4,
 "nbformat_minor": 5
}
