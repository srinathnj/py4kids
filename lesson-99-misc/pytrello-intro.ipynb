{
 "cells": [
  {
   "cell_type": "markdown",
   "metadata": {},
   "source": [
    "[Trello meets Python](https://towardsdatascience.com/trello-meets-python-2eab3459e9a4)\n",
    "\n",
    "[Trello Python API](https://pythonhosted.org/trello/trello.html)"
   ]
  },
  {
   "cell_type": "markdown",
   "metadata": {},
   "source": [
    "visit https://trello.com/app-key to get API Key and token"
   ]
  },
  {
   "cell_type": "code",
   "execution_count": 26,
   "metadata": {},
   "outputs": [],
   "source": [
    "TRELLO_APP_KEY = \"<your own key>\"\n",
    "TOKEN = '<your own token>'"
   ]
  },
  {
   "cell_type": "code",
   "execution_count": 27,
   "metadata": {},
   "outputs": [],
   "source": [
    "import trello\n",
    "\n",
    "B = trello.Boards(TRELLO_APP_KEY, TOKEN)\n",
    "L = trello.Lists(TRELLO_APP_KEY, TOKEN)\n",
    "C = trello.Cards(TRELLO_APP_KEY, TOKEN)"
   ]
  },
  {
   "cell_type": "markdown",
   "metadata": {},
   "source": [
    "visit Trello board,  append `.json` to board page URL in browser to see board_id\n",
    "\n",
    "e.g. `https://trello.com/b/c4cR8mtG/3practise.json`\n",
    "\n",
    "`\"id\":\"5c97d35353588541659a8452\",\"name\":\"3_PRACTISE\"`"
   ]
  },
  {
   "cell_type": "code",
   "execution_count": 31,
   "metadata": {
    "scrolled": true
   },
   "outputs": [],
   "source": [
    "board_ = B.get(\"5c97d35353588541659a8452\")"
   ]
  },
  {
   "cell_type": "code",
   "execution_count": 32,
   "metadata": {
    "scrolled": true
   },
   "outputs": [
    {
     "data": {
      "text/plain": [
       "('5c97d35353588541659a8452', '3_PRACTISE')"
      ]
     },
     "execution_count": 32,
     "metadata": {},
     "output_type": "execute_result"
    }
   ],
   "source": [
    "board_id, board_name = board_['id'], board_['name']\n",
    "board_id, board_name"
   ]
  },
  {
   "cell_type": "code",
   "execution_count": 41,
   "metadata": {},
   "outputs": [],
   "source": [
    "# get lists of this Board\n",
    "board_id = '5c97d35353588541659a8452'\n",
    "list_ = B.get_list(board_id)"
   ]
  },
  {
   "cell_type": "code",
   "execution_count": 42,
   "metadata": {},
   "outputs": [],
   "source": [
    "lists = [[i['id'], i['name']] for i in list_]"
   ]
  },
  {
   "cell_type": "code",
   "execution_count": 43,
   "metadata": {},
   "outputs": [
    {
     "data": {
      "text/plain": [
       "[['5ca0d24aa5ad27820ab6d25a', 'Certified Data Engineer'],\n",
       " ['5c97d38681b9627866baba7b', 'Business'],\n",
       " ['5c97d37979b76a1fe5614c06', 'Data-Engineering'],\n",
       " ['5c97d3903648b468fb6640a3', 'DevOps'],\n",
       " ['5ca4a2c0a0212475605fd154', 'Full Stack Developer'],\n",
       " ['5ca5809db46c1867ab648344', 'Secure Open Source'],\n",
       " ['5c9c88178089dc51091c8f0c', 'New Ideas'],\n",
       " ['5c9f513c3c3aed5f72486ee2', 'FUNS'],\n",
       " ['5cac75e7559e3b6f3a6daee3', 'Linux'],\n",
       " ['5cbd8b6d4068033c75e605dd', 'Journal']]"
      ]
     },
     "execution_count": 43,
     "metadata": {},
     "output_type": "execute_result"
    }
   ],
   "source": [
    "lists"
   ]
  },
  {
   "cell_type": "code",
   "execution_count": 44,
   "metadata": {},
   "outputs": [],
   "source": [
    "# get cards of this List\n",
    "list_id = '5ca0d24aa5ad27820ab6d25a'\n",
    "card_ = L.get_card(list_id)"
   ]
  },
  {
   "cell_type": "code",
   "execution_count": 45,
   "metadata": {},
   "outputs": [],
   "source": [
    "cards = [[i['id'], i['name']] for i in card_]"
   ]
  },
  {
   "cell_type": "code",
   "execution_count": 46,
   "metadata": {
    "scrolled": true
   },
   "outputs": [
    {
     "data": {
      "text/plain": [
       "[['5cb08850106eab6e43218f9c',\n",
       "  '5 Must-Have Data Engineering Skills To Land Big Data Engineer Job In 2019'],\n",
       " ['5ca0d94641be9587316d72da',\n",
       "  'Analytics Vidhya : Big Data Learning Path for all Engineers and Data Scientists : https://www.analyticsvidhya.com/blog/2017/03/big-data-learning-path-for-all-engineers-and-data-scientists-out-there/'],\n",
       " ['5ca0d499d5e56f8311424a63',\n",
       "  'Awesome Big Data : https://github.com/onurakpolat/awesome-bigdata'],\n",
       " ['5ca0d3c3b31bc68293c41133',\n",
       "  'AWS - https://www.whizlabs.com/blog/aws-certified-big-data-specialty-preparation/'],\n",
       " ['5ca0d3469a483f46cd9e8186',\n",
       "  'Google : https://www.globalknowledge.com/us-en/content/cert-prep-guides/a-complete-guide-how-to-become-a-google-certified-professional-data-engineer/'],\n",
       " ['5ca0d270f91ada82e0895a83',\n",
       "  'Cloudera : https://www.cloudera.com/about/training/certification/ccp-data-engineer.html'],\n",
       " ['5d0b694d0451f512578f13e5',\n",
       "  'Python vs R and biggest salaries: Top data science job trends | ZDNet'],\n",
       " ['5d16ab575a85467c7ae20daf',\n",
       "  'AWS Certified Architect Developer Bundle 2019 | Android Central Digital Offers'],\n",
       " ['5d17300ee441262a3465dafb',\n",
       "  '“Top Tutorials To Prepare For AWS Certification Exams”']]"
      ]
     },
     "execution_count": 46,
     "metadata": {},
     "output_type": "execute_result"
    }
   ],
   "source": [
    "cards"
   ]
  },
  {
   "cell_type": "code",
   "execution_count": null,
   "metadata": {},
   "outputs": [],
   "source": []
  }
 ],
 "metadata": {
  "kernelspec": {
   "display_name": "Python 3",
   "language": "python",
   "name": "python3"
  },
  "language_info": {
   "codemirror_mode": {
    "name": "ipython",
    "version": 3
   },
   "file_extension": ".py",
   "mimetype": "text/x-python",
   "name": "python",
   "nbconvert_exporter": "python",
   "pygments_lexer": "ipython3",
   "version": "3.8.5"
  },
  "toc": {
   "base_numbering": 1,
   "nav_menu": {},
   "number_sections": true,
   "sideBar": true,
   "skip_h1_title": false,
   "title_cell": "Table of Contents",
   "title_sidebar": "Contents",
   "toc_cell": false,
   "toc_position": {},
   "toc_section_display": true,
   "toc_window_display": false
  }
 },
 "nbformat": 4,
 "nbformat_minor": 2
}
