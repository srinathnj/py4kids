{
 "cells": [
  {
   "cell_type": "code",
   "execution_count": 6,
   "id": "53e39b70-f65d-4b89-91d5-a55606655120",
   "metadata": {},
   "outputs": [],
   "source": [
    "import re\n",
    "\n",
    "def remove_with_statements(text):\n",
    "    # Added re.IGNORECASE flag to make the pattern case-insensitive\n",
    "    pattern = r'with\\s+.*?:'\n",
    "    return re.sub(pattern, '', text, flags=re.IGNORECASE).strip()"
   ]
  },
  {
   "cell_type": "code",
   "execution_count": 7,
   "id": "2dcb011b-a3a6-45cf-94de-4cdac7c94f61",
   "metadata": {},
   "outputs": [
    {
     "name": "stdout",
     "output_type": "stream",
     "text": [
      "Some code here\n",
      "\n",
      "more code here\n",
      "\n",
      "\n",
      "final code\n"
     ]
    }
   ],
   "source": [
    "# Example usage\n",
    "text = \"\"\"Some code here\n",
    "With open('file.txt') as f:\n",
    "more code here\n",
    "WITH context_manager() as cm:\n",
    "wiTh another_context() as x:\n",
    "final code\"\"\"\n",
    "\n",
    "result = remove_with_statements(text)\n",
    "print(result)"
   ]
  },
  {
   "cell_type": "code",
   "execution_count": 8,
   "id": "6f361d00-64ec-471a-bd12-bcd4d94e83eb",
   "metadata": {},
   "outputs": [
    {
     "name": "stdout",
     "output_type": "stream",
     "text": [
      "with a as (\n",
      "    select * from b\n",
      ")\n",
      "select * from a\n",
      ";\n"
     ]
    }
   ],
   "source": [
    "# Example usage\n",
    "text = \"\"\"\n",
    "with a as (\n",
    "    select * from b\n",
    ")\n",
    "select * from a\n",
    ";\n",
    "\"\"\"\n",
    "\n",
    "result = remove_with_statements(text)\n",
    "print(result)"
   ]
  },
  {
   "cell_type": "code",
   "execution_count": 9,
   "id": "9b49d954-4d0f-4d79-af7c-6c7f673ea95f",
   "metadata": {},
   "outputs": [
    {
     "name": "stdout",
     "output_type": "stream",
     "text": [
      "with a as (\n",
      "    select * from b\n",
      ")\n",
      "select * from a\n",
      ";\n"
     ]
    }
   ],
   "source": [
    "# Example usage\n",
    "text = \"\"\"\n",
    "with the following CTE, you can build complext query:\n",
    "\n",
    "with a as (\n",
    "    select * from b\n",
    ")\n",
    "select * from a\n",
    ";\n",
    "\"\"\"\n",
    "\n",
    "result = remove_with_statements(text)\n",
    "print(result)"
   ]
  },
  {
   "cell_type": "code",
   "execution_count": 10,
   "id": "011cb6a9-626d-498e-8cfc-fce6ac3193a4",
   "metadata": {},
   "outputs": [
    {
     "name": "stdout",
     "output_type": "stream",
     "text": [
      "select * from a\n",
      ";\n"
     ]
    }
   ],
   "source": [
    "# Example usage\n",
    "text = \"\"\"\n",
    "with the following CTE, you can build complext query:\n",
    "\n",
    "select * from a\n",
    ";\n",
    "\"\"\"\n",
    "\n",
    "result = remove_with_statements(text)\n",
    "print(result)"
   ]
  },
  {
   "cell_type": "code",
   "execution_count": 4,
   "id": "566a0604-1ae4-41db-b2c3-c3ae2f822b75",
   "metadata": {},
   "outputs": [
    {
     "name": "stdout",
     "output_type": "stream",
     "text": [
      "/home/gongai/projects/wgong/py4kids/lesson-99-misc\n"
     ]
    }
   ],
   "source": [
    "!pwd"
   ]
  },
  {
   "cell_type": "code",
   "execution_count": 12,
   "id": "0fb6947a-af21-4954-b281-644301acbd55",
   "metadata": {},
   "outputs": [],
   "source": [
    "import re\n",
    "\n",
    "def remove_sql_noise(sql):\n",
    "    # First remove intermediate_sql and final_sql markers\n",
    "    if 'intermediate_sql' in sql or 'final_sql' in sql:\n",
    "        sql = sql.replace('intermediate_sql', '').replace('final_sql', '')\n",
    "    \n",
    "    # Remove \"with ... :\" explanation text at the start\n",
    "    sql = re.sub(r'with\\s+.*?:', '', sql, flags=re.IGNORECASE)\n",
    "    \n",
    "    return sql.strip()  # Added strip() to remove any extra whitespace"
   ]
  },
  {
   "cell_type": "code",
   "execution_count": 14,
   "id": "dec2818d-8de6-40f3-a189-9cf806df01bb",
   "metadata": {},
   "outputs": [
    {
     "name": "stdout",
     "output_type": "stream",
     "text": [
      "\n"
     ]
    }
   ],
   "source": [
    "# Test cases\n",
    "sql1 = \"With the following query, we can get the results:\"\n",
    "print(remove_sql_noise(sql1))  # \"SELECT * FROM table\""
   ]
  },
  {
   "cell_type": "code",
   "execution_count": 17,
   "id": "763c868d-1ffb-4c9e-8e38-e56faea2005b",
   "metadata": {},
   "outputs": [
    {
     "name": "stdout",
     "output_type": "stream",
     "text": [
      "select * from a;\n"
     ]
    }
   ],
   "source": [
    "# Test cases\n",
    "sql1 = \"\"\"\n",
    "With the following query, we can get the results:\n",
    "\n",
    "select * from a;\n",
    "\"\"\"\n",
    "print(remove_sql_noise(sql1))  # \"SELECT * FROM table\""
   ]
  },
  {
   "cell_type": "code",
   "execution_count": 18,
   "id": "8c53b2cb-e407-43a2-be8e-dfb1cd1914e9",
   "metadata": {},
   "outputs": [
    {
     "name": "stdout",
     "output_type": "stream",
     "text": [
      "with a as (\n",
      "    select * from b\n",
      ")\n",
      "select * from a;\n"
     ]
    }
   ],
   "source": [
    "# Test cases\n",
    "sql1 = \"\"\"\n",
    "With the following query, we can get the results:\n",
    "\n",
    "with a as (\n",
    "    select * from b\n",
    ")\n",
    "select * from a;\n",
    "\"\"\"\n",
    "print(remove_sql_noise(sql1))  # \"SELECT * FROM table\""
   ]
  },
  {
   "cell_type": "code",
   "execution_count": 15,
   "id": "6ab07c69-b4ce-48a3-91cf-14240528ea9f",
   "metadata": {},
   "outputs": [
    {
     "name": "stdout",
     "output_type": "stream",
     "text": [
      "SELECT * FROM table\n"
     ]
    }
   ],
   "source": [
    "sql2 = \"intermediate_sql SELECT * FROM table\"\n",
    "print(remove_sql_noise(sql2))  # \"SELECT * FROM table\""
   ]
  },
  {
   "cell_type": "code",
   "execution_count": 16,
   "id": "61ca7ed3-b670-4df1-b614-b32a322648b4",
   "metadata": {},
   "outputs": [
    {
     "name": "stdout",
     "output_type": "stream",
     "text": [
      "SELECT * FROM table\n"
     ]
    }
   ],
   "source": [
    "sql3 = \"WITH this explanation: SELECT * FROM table final_sql\"\n",
    "print(remove_sql_noise(sql3))  # \"SELECT * FROM table\""
   ]
  },
  {
   "cell_type": "code",
   "execution_count": null,
   "id": "f595f66f-0d2e-4051-8562-ef3901878612",
   "metadata": {},
   "outputs": [],
   "source": []
  }
 ],
 "metadata": {
  "kernelspec": {
   "display_name": "Python 3 (ipykernel)",
   "language": "python",
   "name": "python3"
  },
  "language_info": {
   "codemirror_mode": {
    "name": "ipython",
    "version": 3
   },
   "file_extension": ".py",
   "mimetype": "text/x-python",
   "name": "python",
   "nbconvert_exporter": "python",
   "pygments_lexer": "ipython3",
   "version": "3.11.5"
  }
 },
 "nbformat": 4,
 "nbformat_minor": 5
}
