{
 "cells": [
  {
   "cell_type": "code",
   "execution_count": 1,
   "metadata": {},
   "outputs": [
    {
     "name": "stdout",
     "output_type": "stream",
     "text": [
      "ncpu=4\n"
     ]
    }
   ],
   "source": [
    "from time import perf_counter\n",
    "from multiprocessing import Pool, cpu_count\n",
    "\n",
    "def square(n):\n",
    "    return n*n\n",
    "\n",
    "ncpu = cpu_count()\n",
    "print(f\"ncpu={ncpu}\")\n",
    "p = Pool(processes=ncpu)"
   ]
  },
  {
   "cell_type": "code",
   "execution_count": 6,
   "metadata": {},
   "outputs": [],
   "source": [
    "results = []\n",
    "for n in range(9):\n",
    "    N = 10**n\n",
    "    \n",
    "    # measure map\n",
    "    t1_start = perf_counter()\n",
    "    res = map(square, range(N))\n",
    "    t1_stop = perf_counter()\n",
    "    res = p.map(square, range(N))\n",
    "    t2_stop = perf_counter()\n",
    "    \n",
    "    results.append((N, t1_stop-t1_start, t2_stop-t1_stop))"
   ]
  },
  {
   "cell_type": "code",
   "execution_count": 7,
   "metadata": {},
   "outputs": [
    {
     "data": {
      "text/plain": [
       "[(1, 0.10464725699421251, 0.001112731006287504),\n",
       " (10, 1.706001057755202e-06, 0.0009187179966829717),\n",
       " (100, 1.3550015864893794e-06, 0.0015066800042404793),\n",
       " (1000, 2.5799963623285294e-06, 0.000545742004760541),\n",
       " (10000, 7.183996785897762e-06, 0.0011923720012418926),\n",
       " (100000, 6.111199763836339e-05, 0.013233099998615216),\n",
       " (1000000, 0.0006370109986164607, 0.11912585100071738),\n",
       " (10000000, 0.008241256000474095, 1.1261472120022518),\n",
       " (100000000, 0.08611733999714488, 11.767500766996818)]"
      ]
     },
     "execution_count": 7,
     "metadata": {},
     "output_type": "execute_result"
    }
   ],
   "source": [
    "results"
   ]
  },
  {
   "cell_type": "raw",
   "metadata": {},
   "source": [
    "[(1, 0.10464725699421251, 0.001112731006287504),\n",
    " (10, 1.706001057755202e-06, 0.0009187179966829717),\n",
    " (100, 1.3550015864893794e-06, 0.0015066800042404793),\n",
    " (1000, 2.5799963623285294e-06, 0.000545742004760541),\n",
    " (10000, 7.183996785897762e-06, 0.0011923720012418926),\n",
    " (100000, 6.111199763836339e-05, 0.013233099998615216),\n",
    " (1000000, 0.0006370109986164607, 0.11912585100071738),\n",
    " (10000000, 0.008241256000474095, 1.1261472120022518),\n",
    " (100000000, 0.08611733999714488, 11.767500766996818)]"
   ]
  },
  {
   "cell_type": "code",
   "execution_count": 8,
   "metadata": {},
   "outputs": [
    {
     "name": "stdout",
     "output_type": "stream",
     "text": [
      "/home/wengong/projects/algorithmic-trading-python/mom101\r\n"
     ]
    }
   ],
   "source": [
    "!pwd"
   ]
  },
  {
   "cell_type": "code",
   "execution_count": null,
   "metadata": {},
   "outputs": [],
   "source": []
  }
 ],
 "metadata": {
  "kernelspec": {
   "display_name": "Python 3",
   "language": "python",
   "name": "python3"
  },
  "language_info": {
   "codemirror_mode": {
    "name": "ipython",
    "version": 3
   },
   "file_extension": ".py",
   "mimetype": "text/x-python",
   "name": "python",
   "nbconvert_exporter": "python",
   "pygments_lexer": "ipython3",
   "version": "3.8.10"
  }
 },
 "nbformat": 4,
 "nbformat_minor": 4
}
