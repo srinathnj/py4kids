{
 "cells": [
  {
   "cell_type": "code",
   "execution_count": 1,
   "id": "2cf2db1d",
   "metadata": {},
   "outputs": [
    {
     "data": {
      "text/markdown": [
       "\n",
       "# Send SMS in python\n",
       "\n",
       "- [Sending SMS using Python](https://medium.com/@muhammadraza0047/sending-sms-using-python-muhammad-34c08ef506f5)\n",
       "\n",
       "- [Send Email Through Python Console With Gmail, Hotmail And Yahoo](https://www.c-sharpcorner.com/article/send-email-through-python-console-with-gmail-hotmail-and-ya/)\n",
       "\n",
       "- [Username and Password not accepted](https://stackoverflow.com/questions/72576024/smtplib-smtpauthenticationerror-535-b5-7-8-username-and-password-not-accepte)\n",
       "\n",
       "- [How to setup Google App Password](https://stackoverflow.com/questions/72478573/how-to-send-an-email-using-python-after-googles-policy-update-on-not-allowing-j)\n",
       "    - [Sign in using app passwords](https://support.google.com/mail/answer/185833?hl=en-GB)\n",
       "\n"
      ],
      "text/plain": [
       "<IPython.core.display.Markdown object>"
      ]
     },
     "metadata": {},
     "output_type": "display_data"
    }
   ],
   "source": [
    "from IPython.display import display, Markdown  # , Latex\n",
    "\n",
    "with open(\"readme.md\") as f:\n",
    "    readme_md = f.read()\n",
    "    display(Markdown(readme_md)) "
   ]
  },
  {
   "cell_type": "code",
   "execution_count": 2,
   "id": "3c617f94",
   "metadata": {},
   "outputs": [],
   "source": [
    "import smtplib \n",
    "from email.mime.text import MIMEText\n",
    "from email.mime.multipart import MIMEMultipart\n",
    "from config import settings\n",
    "import re "
   ]
  },
  {
   "cell_type": "code",
   "execution_count": 3,
   "id": "3df3ad7e",
   "metadata": {},
   "outputs": [],
   "source": [
    "def clean_number(number):\n",
    "    return re.sub(\"[^0-9]\", \"\", number)[-10:]\n",
    "\n",
    "def parse_gateway(s):\n",
    "    carrier, gateway = s.split(\": \")\n",
    "    return carrier.strip(), gateway.split(\"or\") if \"or\" in gateway else [gateway.strip()]\n",
    "\n",
    "def get_email(carrier, number):\n",
    "    fmts = carrier_dict.get(carrier, [])\n",
    "    if not fmts: return []\n",
    "    return [fmt.strip().format(number=clean_number(number)) for fmt in fmts if fmt.strip()]"
   ]
  },
  {
   "cell_type": "code",
   "execution_count": 4,
   "id": "c4c5c3f1",
   "metadata": {},
   "outputs": [],
   "source": [
    "carrier_gateways = \"\"\"\n",
    "AT&T: [number]@txt.att.net\n",
    "Sprint: [number]@messaging.sprintpcs.com or [number]@pm.sprint.com\n",
    "T-Mobile: [number]@tmomail.net\n",
    "Verizon: [number]@vtext.com\n",
    "Boost Mobile: [number]@myboostmobile.com\n",
    "Cricket: [number]@sms.mycricket.com\n",
    "Metro PCS: [number]@mymetropcs.com\n",
    "Tracfone: [number]@mmst5.tracfone.com\n",
    "U.S. Cellular: [number]@email.uscc.net\n",
    "Virgin Mobile: [number]@vmobl.com\n",
    "\"\"\".replace(\"[\",\"{\").replace(\"]\",\"}\")"
   ]
  },
  {
   "cell_type": "code",
   "execution_count": 5,
   "id": "67ef9933",
   "metadata": {},
   "outputs": [],
   "source": [
    "carrier_dict = {}\n",
    "for i in carrier_gateways.split(\"\\n\"):\n",
    "    if not i.strip(): continue\n",
    "    carrier, gateway = parse_gateway(i.strip())\n",
    "    # print(x)\n",
    "    carrier_dict.update({carrier: gateway})"
   ]
  },
  {
   "cell_type": "code",
   "execution_count": 6,
   "id": "47e94b8a",
   "metadata": {},
   "outputs": [
    {
     "data": {
      "text/plain": [
       "{'AT&T': ['{number}@txt.att.net'],\n",
       " 'Sprint': ['{number}@messaging.sprintpcs.com ', ' {number}@pm.sprint.com'],\n",
       " 'T-Mobile': ['{number}@tmomail.net'],\n",
       " 'Verizon': ['{number}@vtext.com'],\n",
       " 'Boost Mobile': ['{number}@myboostmobile.com'],\n",
       " 'Cricket': ['{number}@sms.mycricket.com'],\n",
       " 'Metro PCS': ['{number}@mymetropcs.com'],\n",
       " 'Tracfone': ['{number}@mmst5.tracfone.com'],\n",
       " 'U.S. Cellular': ['{number}@email.uscc.net'],\n",
       " 'Virgin Mobile': ['{number}@vmobl.com']}"
      ]
     },
     "execution_count": 6,
     "metadata": {},
     "output_type": "execute_result"
    }
   ],
   "source": [
    "carrier_dict"
   ]
  },
  {
   "cell_type": "raw",
   "id": "b5fac21d",
   "metadata": {},
   "source": [
    "'{number}@vmobl.com'.format(number=clean_number(\"1-888-123-4567\"))"
   ]
  },
  {
   "cell_type": "raw",
   "id": "360c0bbe",
   "metadata": {},
   "source": [
    "sms_gateway = \", \".join(get_email('T-Mobile',\"1-919-818-3113\"))\n",
    "print(sms_gateway)"
   ]
  },
  {
   "cell_type": "code",
   "execution_count": 7,
   "id": "63df98b1",
   "metadata": {},
   "outputs": [],
   "source": [
    "carrier_name = settings.get(\"carrier_name\")\n",
    "my_phone = settings.get(\"my_phone\")\n",
    "email = settings.get(\"my_email\")\n",
    "pas = settings.get(\"my_app_password\")\n",
    "\n",
    "# The server we use to send emails in our case it will be gmail but every email provider has a different smtp \n",
    "# and port is also provided by the email provider.\n",
    "smtp = settings.get(\"my_smtp\")\n",
    "port = settings.get(\"my_smtp_port\")\n",
    "\n",
    "sms_gateway = \", \".join(get_email(carrier_name,my_phone))"
   ]
  },
  {
   "cell_type": "raw",
   "id": "7893fc30",
   "metadata": {},
   "source": [
    "carrier_name, my_phone, email, pas, smtp, port"
   ]
  },
  {
   "cell_type": "code",
   "execution_count": 8,
   "id": "7cbfbb82",
   "metadata": {},
   "outputs": [
    {
     "data": {
      "text/plain": [
       "{}"
      ]
     },
     "execution_count": 8,
     "metadata": {},
     "output_type": "execute_result"
    }
   ],
   "source": [
    "# This will start our email server\n",
    "server = smtplib.SMTP(smtp,port)\n",
    "# Starting the server\n",
    "server.starttls()\n",
    "# Now we need to login\n",
    "server.login(email,pas)\n",
    "\n",
    "# Now we use the MIME module to structure our message.\n",
    "msg = MIMEMultipart()\n",
    "msg['From'] = email\n",
    "msg['To'] = sms_gateway\n",
    "# Make sure you add a new line in the subject\n",
    "msg['Subject'] = \"Greeting from Joe Plumber\\n\"\n",
    "# Make sure you also add new lines to your body\n",
    "body = \"\\n\".join([\n",
    "    \"Dear Client\", \n",
    "    \"What is going on today?\", \n",
    "    \"Do you need any help from me?\", \n",
    "    \"Best,\", \n",
    "    \"Data Guy\", \n",
    "    \"\\n\"\n",
    "])\n",
    "# and then attach that body furthermore you can also send html content.\n",
    "msg.attach(MIMEText(body, 'plain'))\n",
    "\n",
    "sms = msg.as_string()\n",
    "\n",
    "server.sendmail(email,sms_gateway,sms)"
   ]
  },
  {
   "cell_type": "markdown",
   "id": "f96abb28",
   "metadata": {},
   "source": [
    "# The End\n",
    "\n",
    "verified successfully"
   ]
  }
 ],
 "metadata": {
  "kernelspec": {
   "display_name": "Python 3 (ipykernel)",
   "language": "python",
   "name": "python3"
  },
  "language_info": {
   "codemirror_mode": {
    "name": "ipython",
    "version": 3
   },
   "file_extension": ".py",
   "mimetype": "text/x-python",
   "name": "python",
   "nbconvert_exporter": "python",
   "pygments_lexer": "ipython3",
   "version": "3.9.13"
  },
  "nbTranslate": {
   "displayLangs": [
    "*"
   ],
   "hotkey": "alt-t",
   "langInMainMenu": true,
   "sourceLang": "en",
   "targetLang": "fr",
   "useGoogleTranslate": true
  },
  "toc": {
   "base_numbering": 1,
   "nav_menu": {},
   "number_sections": true,
   "sideBar": true,
   "skip_h1_title": false,
   "title_cell": "Table of Contents",
   "title_sidebar": "Contents",
   "toc_cell": false,
   "toc_position": {},
   "toc_section_display": true,
   "toc_window_display": false
  }
 },
 "nbformat": 4,
 "nbformat_minor": 5
}
