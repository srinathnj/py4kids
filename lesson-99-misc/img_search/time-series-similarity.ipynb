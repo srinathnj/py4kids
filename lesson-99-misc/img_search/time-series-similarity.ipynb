{
 "cells": [
  {
   "cell_type": "markdown",
   "id": "23688254",
   "metadata": {},
   "source": [
    "- [How to statistically compare two time-series](https://www.quora.com/How-can-I-statistically-compare-two-time-series)\n",
    "\n",
    "- [Introduction to Time Series Analysis](https://www.itl.nist.gov/div898/handbook/pmc/section4/pmc4.htm)"
   ]
  },
  {
   "cell_type": "markdown",
   "id": "52fcaa00",
   "metadata": {},
   "source": [
    "## Matrix Profile\n",
    "\n",
    "- [Matrix Profile Foundation](https://github.com/matrix-profile-foundation)\n",
    "    - [my fork](https://github.com/wgong/matrixprofile/tree/master/docs)\n",
    "    - [TDAmeritrade/stumpy](https://github.com/TDAmeritrade/stumpy)\n",
    "        - [stumpy tutorial](https://stumpy.readthedocs.io/en/latest/tutorials.html)\n",
    "- [time series as deterministic pattern](http://www.cs.ucr.edu/~eamonn/) (Joseph Barr)\n",
    "    - [The UCR Matrix Profile Page](https://www.cs.ucr.edu/~eamonn/MatrixProfile.html)\n",
    "        - See also www.cs.ucr.edu/~eamonn/MatrixProfile.html and www.cs.unm.edu/~mueen/FastestSimilaritySearch.html\n",
    "        - PROJECTS_HOME\\time-series\\matrix-profile\n",
    "        - https://www.cs.ucr.edu/~eamonn/100_Time_Series_Data_Mining_Questions__with_Answers.pdf\n",
    "    - [tutorials](http://www.cs.ucr.edu/~eamonn/tutorials.html)\n",
    "    \n",
    "- [MASS](https://www.cs.unm.edu/~mueen/FastestSimilaritySearch.html)\n",
    "    - [python-v1](https://www.cs.unm.edu/~mueen/MASS.py)\n",
    "    - [mass-ts](https://github.com/tylerwmarrs/mass-ts)"
   ]
  },
  {
   "cell_type": "code",
   "execution_count": null,
   "id": "da2219a9",
   "metadata": {},
   "outputs": [],
   "source": []
  }
 ],
 "metadata": {
  "kernelspec": {
   "display_name": "Python 3 (ipykernel)",
   "language": "python",
   "name": "python3"
  },
  "language_info": {
   "codemirror_mode": {
    "name": "ipython",
    "version": 3
   },
   "file_extension": ".py",
   "mimetype": "text/x-python",
   "name": "python",
   "nbconvert_exporter": "python",
   "pygments_lexer": "ipython3",
   "version": "3.9.13"
  }
 },
 "nbformat": 4,
 "nbformat_minor": 5
}
