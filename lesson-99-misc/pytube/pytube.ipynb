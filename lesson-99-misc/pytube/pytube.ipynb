{
 "cells": [
  {
   "cell_type": "markdown",
   "metadata": {},
   "source": [
    "https://pytube.io/en/latest/user/streams.html\n",
    "\n",
    "\n",
    "The easiest way to download YouTube videos using Python\n",
    "- https://towardsdatascience.com/the-easiest-way-to-download-youtube-videos-using-python-2640958318ab\n",
    "- https://github.com/erykml/medium_articles/blob/master/Computer%20Vision/downloading_youtube_videos.ipynb\n"
   ]
  },
  {
   "cell_type": "markdown",
   "metadata": {},
   "source": [
    "Other youtube-downloaders\n",
    "\n",
    "- [YTDownloader](https://github.com/PySimpleGUI/YTDownloader)\n",
    "- \n",
    "- https://youtube-dl.org/\n",
    "\n",
    "BugFix - https://github.com/pytube/pytube/issues/1281"
   ]
  },
  {
   "cell_type": "markdown",
   "metadata": {},
   "source": [
    "### CLI\n",
    "```\n",
    "pytube https://www.youtube.com/watch?v=WFCQXLdgNQA\n",
    "\n",
    "```\n",
    "\n",
    "or \n",
    "```\n",
    "cd C:\\Users\\p2p2l\\Videos\n",
    "python download_youtube.py\n",
    "```"
   ]
  },
  {
   "cell_type": "code",
   "execution_count": 21,
   "metadata": {},
   "outputs": [],
   "source": [
    "from pytube import YouTube \n",
    "from time import time"
   ]
  },
  {
   "cell_type": "code",
   "execution_count": 22,
   "metadata": {},
   "outputs": [],
   "source": [
    "def _log(msg, file=\"pytube.log\", print_flag=True):\n",
    "    msg = f\"{msg}\\n\"\n",
    "    with open(file,\"a+\") as f:\n",
    "        f.write(msg)\n",
    "    if print_flag:\n",
    "        print(msg)"
   ]
  },
  {
   "cell_type": "code",
   "execution_count": 25,
   "metadata": {},
   "outputs": [
    {
     "name": "stdout",
     "output_type": "stream",
     "text": [
      "title=How to recover from depression\n",
      "Downloading url= https://youtube.com/watch?v=TVgQ_tgWMyU ...\n"
     ]
    }
   ],
   "source": [
    "itag_mp4_video_720p = 22\n",
    "# itag_mp4_audio_128kbps = 140\n",
    "SAVE_PATH = \"C:/Users/p2p2l/Videos\" # \"C:/Users/w_gon/Videos\"\n",
    "\n",
    "url_dict = {\n",
    "    \"todo\": [\n",
    "        \"https://youtube.com/watch?v=TVgQ_tgWMyU\"\n",
    "    ],\n",
    "    \"error\": [\n",
    "        \"https://youtu.be/JhyRiVTpwsw\",\n",
    "        \"https://www.youtube.com/watch?v=D9PsbmXUtmc\",\n",
    "    ],\n",
    "    \"done\": [\n",
    "        \"https://youtu.be/dxfyopfdt4c\",\n",
    "        \"https://www.youtube.com/watch?v=TVgQ_tgWMyU\",    \n",
    "        \"https://www.youtube.com/watch?v=vzMZqZSZqYU\",        \n",
    "    ],\n",
    "}\n",
    "\n",
    "\n",
    "for url in url_dict[\"todo\"]:\n",
    "    t1 = time()\n",
    "    yt = YouTube(url)\n",
    "    _log(f\"title={yt.title}\")  # , yt.thumbnail_url)\n",
    "    _log(f\"Downloading url= {url} ...\")\n",
    "    loc = yt.streams.get_by_itag(itag_mp4_video_720p).download(output_path=SAVE_PATH)\n",
    "    t2 = time()\n",
    "    _log(f\"... completed in {(t2-t1):.2f} sec, saved as: {loc}\")"
   ]
  },
  {
   "cell_type": "code",
   "execution_count": null,
   "metadata": {},
   "outputs": [],
   "source": []
  }
 ],
 "metadata": {
  "kernelspec": {
   "display_name": "Python 3 (ipykernel)",
   "language": "python",
   "name": "python3"
  },
  "language_info": {
   "codemirror_mode": {
    "name": "ipython",
    "version": 3
   },
   "file_extension": ".py",
   "mimetype": "text/x-python",
   "name": "python",
   "nbconvert_exporter": "python",
   "pygments_lexer": "ipython3",
   "version": "3.9.13"
  },
  "toc": {
   "base_numbering": 1,
   "nav_menu": {},
   "number_sections": true,
   "sideBar": true,
   "skip_h1_title": false,
   "title_cell": "Table of Contents",
   "title_sidebar": "Contents",
   "toc_cell": false,
   "toc_position": {},
   "toc_section_display": true,
   "toc_window_display": false
  }
 },
 "nbformat": 4,
 "nbformat_minor": 4
}
