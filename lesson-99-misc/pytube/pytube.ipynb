{
 "cells": [
  {
   "cell_type": "markdown",
   "metadata": {},
   "source": [
    "https://pytube.io/en/latest/user/streams.html\n",
    "\n",
    "\n",
    "The easiest way to download YouTube videos using Python\n",
    "- https://towardsdatascience.com/the-easiest-way-to-download-youtube-videos-using-python-2640958318ab\n",
    "- https://github.com/erykml/medium_articles/blob/master/Computer%20Vision/downloading_youtube_videos.ipynb\n"
   ]
  },
  {
   "cell_type": "markdown",
   "metadata": {},
   "source": [
    "Other youtube-downloaders\n",
    "\n",
    "- [YTDownloader](https://github.com/PySimpleGUI/YTDownloader)\n",
    "- \n",
    "- https://youtube-dl.org/\n",
    "\n",
    "BugFix - https://github.com/pytube/pytube/issues/1281"
   ]
  },
  {
   "cell_type": "markdown",
   "metadata": {},
   "source": [
    "### CLI\n",
    "```\n",
    "pytube https://www.youtube.com/watch?v=WFCQXLdgNQA\n",
    "```"
   ]
  },
  {
   "cell_type": "code",
   "execution_count": null,
   "metadata": {},
   "outputs": [],
   "source": [
    "from pytube import YouTube \n",
    "\n",
    "itag_mp4_video_720p = 22\n",
    "# itag_mp4_audio_128kbps = 140\n",
    "SAVE_PATH = \"C:/Users/w_gon/Videos\"\n",
    "url = \"https://www.youtube.com/watch?v=sIMu2GoerWU\"\n",
    "\n",
    "yt = YouTube(url)\n",
    "# yt.title, yt.thumbnail_url\n",
    "print(f\"Downloading video {yt.title} (url={url}) to '{SAVE_PATH}' ...\")\n",
    "yt.streams.get_by_itag(itag_mp4_video_720p).download(output_path=SAVE_PATH)"
   ]
  },
  {
   "cell_type": "code",
   "execution_count": null,
   "metadata": {},
   "outputs": [],
   "source": []
  }
 ],
 "metadata": {
  "kernelspec": {
   "display_name": "Python 3",
   "language": "python",
   "name": "python3"
  },
  "language_info": {
   "codemirror_mode": {
    "name": "ipython",
    "version": 3
   },
   "file_extension": ".py",
   "mimetype": "text/x-python",
   "name": "python",
   "nbconvert_exporter": "python",
   "pygments_lexer": "ipython3",
   "version": "3.8.5"
  },
  "toc": {
   "base_numbering": 1,
   "nav_menu": {},
   "number_sections": true,
   "sideBar": true,
   "skip_h1_title": false,
   "title_cell": "Table of Contents",
   "title_sidebar": "Contents",
   "toc_cell": false,
   "toc_position": {},
   "toc_section_display": true,
   "toc_window_display": false
  }
 },
 "nbformat": 4,
 "nbformat_minor": 4
}
