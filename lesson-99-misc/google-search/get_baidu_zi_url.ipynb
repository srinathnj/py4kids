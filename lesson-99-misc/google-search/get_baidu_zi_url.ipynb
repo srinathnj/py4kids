{
 "cells": [
  {
   "cell_type": "markdown",
   "id": "087c2923",
   "metadata": {},
   "source": [
    "python code given by `gemini`"
   ]
  },
  {
   "cell_type": "code",
   "execution_count": 1,
   "id": "73b0c40f",
   "metadata": {},
   "outputs": [
    {
     "name": "stdout",
     "output_type": "stream",
     "text": [
      "C:\\Users\\p2p2l\\projects\\wgong\\py4kids\\lesson-99-misc\\google-search\n"
     ]
    }
   ],
   "source": [
    "!cd "
   ]
  },
  {
   "cell_type": "markdown",
   "id": "5b64f28a",
   "metadata": {},
   "source": [
    "## Method 1: Using the google-search-results library\n",
    "\n",
    "\n",
    "Not Working"
   ]
  },
  {
   "cell_type": "code",
   "execution_count": 7,
   "id": "23f1ba74",
   "metadata": {},
   "outputs": [
    {
     "name": "stdout",
     "output_type": "stream",
     "text": [
      "Requirement already satisfied: google-search-results in c:\\users\\p2p2l\\anaconda3\\lib\\site-packages (2.4.2)\n",
      "Requirement already satisfied: requests in c:\\users\\p2p2l\\anaconda3\\lib\\site-packages (from google-search-results) (2.32.3)\n",
      "Requirement already satisfied: charset-normalizer<4,>=2 in c:\\users\\p2p2l\\anaconda3\\lib\\site-packages (from requests->google-search-results) (2.0.4)\n",
      "Requirement already satisfied: idna<4,>=2.5 in c:\\users\\p2p2l\\anaconda3\\lib\\site-packages (from requests->google-search-results) (2.10)\n",
      "Requirement already satisfied: urllib3<3,>=1.21.1 in c:\\users\\p2p2l\\anaconda3\\lib\\site-packages (from requests->google-search-results) (1.26.18)\n",
      "Requirement already satisfied: certifi>=2017.4.17 in c:\\users\\p2p2l\\anaconda3\\lib\\site-packages (from requests->google-search-results) (2022.9.14)\n"
     ]
    },
    {
     "name": "stderr",
     "output_type": "stream",
     "text": [
      "WARNING: Ignoring invalid distribution - (c:\\users\\p2p2l\\anaconda3\\lib\\site-packages)\n",
      "WARNING: Ignoring invalid distribution -illow (c:\\users\\p2p2l\\anaconda3\\lib\\site-packages)\n",
      "WARNING: Ignoring invalid distribution -radio (c:\\users\\p2p2l\\anaconda3\\lib\\site-packages)\n",
      "WARNING: Ignoring invalid distribution -rotobuf (c:\\users\\p2p2l\\anaconda3\\lib\\site-packages)\n",
      "WARNING: Ignoring invalid distribution -treamlit (c:\\users\\p2p2l\\anaconda3\\lib\\site-packages)\n",
      "WARNING: Ignoring invalid distribution - (c:\\users\\p2p2l\\anaconda3\\lib\\site-packages)\n",
      "WARNING: Ignoring invalid distribution -illow (c:\\users\\p2p2l\\anaconda3\\lib\\site-packages)\n",
      "WARNING: Ignoring invalid distribution -radio (c:\\users\\p2p2l\\anaconda3\\lib\\site-packages)\n",
      "WARNING: Ignoring invalid distribution -rotobuf (c:\\users\\p2p2l\\anaconda3\\lib\\site-packages)\n",
      "WARNING: Ignoring invalid distribution -treamlit (c:\\users\\p2p2l\\anaconda3\\lib\\site-packages)\n",
      "WARNING: Ignoring invalid distribution - (c:\\users\\p2p2l\\anaconda3\\lib\\site-packages)\n",
      "WARNING: Ignoring invalid distribution -illow (c:\\users\\p2p2l\\anaconda3\\lib\\site-packages)\n",
      "WARNING: Ignoring invalid distribution -radio (c:\\users\\p2p2l\\anaconda3\\lib\\site-packages)\n",
      "WARNING: Ignoring invalid distribution -rotobuf (c:\\users\\p2p2l\\anaconda3\\lib\\site-packages)\n",
      "WARNING: Ignoring invalid distribution -treamlit (c:\\users\\p2p2l\\anaconda3\\lib\\site-packages)\n"
     ]
    }
   ],
   "source": [
    "!pip install google-search-results"
   ]
  },
  {
   "cell_type": "code",
   "execution_count": 9,
   "id": "07f43450",
   "metadata": {},
   "outputs": [
    {
     "ename": "TypeError",
     "evalue": "__init__() got an unexpected keyword argument 'engine'",
     "output_type": "error",
     "traceback": [
      "\u001b[1;31m---------------------------------------------------------------------------\u001b[0m",
      "\u001b[1;31mTypeError\u001b[0m                                 Traceback (most recent call last)",
      "\u001b[1;32m~\\AppData\\Local\\Temp\\ipykernel_6252\\1562793325.py\u001b[0m in \u001b[0;36m<module>\u001b[1;34m\u001b[0m\n\u001b[0;32m      8\u001b[0m \u001b[1;33m\u001b[0m\u001b[0m\n\u001b[0;32m      9\u001b[0m \u001b[1;31m# Perform Google search\u001b[0m\u001b[1;33m\u001b[0m\u001b[1;33m\u001b[0m\u001b[0m\n\u001b[1;32m---> 10\u001b[1;33m \u001b[0msearch\u001b[0m \u001b[1;33m=\u001b[0m \u001b[0mGoogleSearch\u001b[0m\u001b[1;33m(\u001b[0m\u001b[0mengine\u001b[0m\u001b[1;33m=\u001b[0m\u001b[1;34m\"google\"\u001b[0m\u001b[1;33m)\u001b[0m\u001b[1;33m\u001b[0m\u001b[1;33m\u001b[0m\u001b[0m\n\u001b[0m\u001b[0;32m     11\u001b[0m \u001b[0mresults\u001b[0m \u001b[1;33m=\u001b[0m \u001b[0msearch\u001b[0m\u001b[1;33m.\u001b[0m\u001b[0mget_dict\u001b[0m\u001b[1;33m(\u001b[0m\u001b[0mq\u001b[0m\u001b[1;33m=\u001b[0m\u001b[0msearch_term\u001b[0m\u001b[1;33m)\u001b[0m\u001b[1;33m\u001b[0m\u001b[1;33m\u001b[0m\u001b[0m\n\u001b[0;32m     12\u001b[0m \u001b[1;33m\u001b[0m\u001b[0m\n",
      "\u001b[1;31mTypeError\u001b[0m: __init__() got an unexpected keyword argument 'engine'"
     ]
    }
   ],
   "source": [
    "from serpapi import GoogleSearch\n",
    "\n",
    "# Define your search query\n",
    "search_term = \"baidu 气\"  # Replace \"气\" with the desired character\n",
    "\n",
    "# Set API key (get yours from https://serpapi.com/)\n",
    "#api_key = \"6de3838115ca27eccc7c39e93fb8811fddff95d5\"\n",
    "\n",
    "# Perform Google search\n",
    "search = GoogleSearch(engine=\"google\")\n",
    "results = search.get_dict(q=search_term)\n",
    "\n",
    "# Extract the first Baidu search result URL (modify if needed)\n",
    "if results.get(\"organic_results\"):\n",
    "    first_result = results[\"organic_results\"][0]\n",
    "    if first_result.get(\"link\") and \"baidu.com\" in first_result[\"link\"]:\n",
    "        baidu_url = first_result[\"link\"]\n",
    "        print(f\"Baidu URL for character '{search_term[1]}': {baidu_url}\")\n",
    "else:\n",
    "    print(f\"No Baidu results found for '{search_term[1]}'\")"
   ]
  },
  {
   "cell_type": "markdown",
   "id": "3bcedc4c",
   "metadata": {},
   "source": [
    "## Method 2: Using the requests library and parsing HTML"
   ]
  },
  {
   "cell_type": "code",
   "execution_count": 1,
   "id": "6ac9200c",
   "metadata": {},
   "outputs": [
    {
     "name": "stdout",
     "output_type": "stream",
     "text": [
      "Requirement already satisfied: requests in c:\\users\\p2p2l\\anaconda3\\lib\\site-packages (2.32.3)\n",
      "Requirement already satisfied: charset-normalizer<4,>=2 in c:\\users\\p2p2l\\anaconda3\\lib\\site-packages (from requests) (2.0.4)\n",
      "Requirement already satisfied: idna<4,>=2.5 in c:\\users\\p2p2l\\anaconda3\\lib\\site-packages (from requests) (2.10)\n",
      "Requirement already satisfied: urllib3<3,>=1.21.1 in c:\\users\\p2p2l\\anaconda3\\lib\\site-packages (from requests) (1.26.18)\n",
      "Requirement already satisfied: certifi>=2017.4.17 in c:\\users\\p2p2l\\anaconda3\\lib\\site-packages (from requests) (2022.9.14)\n"
     ]
    },
    {
     "name": "stderr",
     "output_type": "stream",
     "text": [
      "WARNING: Ignoring invalid distribution - (c:\\users\\p2p2l\\anaconda3\\lib\\site-packages)\n",
      "WARNING: Ignoring invalid distribution -illow (c:\\users\\p2p2l\\anaconda3\\lib\\site-packages)\n",
      "WARNING: Ignoring invalid distribution -radio (c:\\users\\p2p2l\\anaconda3\\lib\\site-packages)\n",
      "WARNING: Ignoring invalid distribution -rotobuf (c:\\users\\p2p2l\\anaconda3\\lib\\site-packages)\n",
      "WARNING: Ignoring invalid distribution -treamlit (c:\\users\\p2p2l\\anaconda3\\lib\\site-packages)\n",
      "WARNING: Ignoring invalid distribution - (c:\\users\\p2p2l\\anaconda3\\lib\\site-packages)\n",
      "WARNING: Ignoring invalid distribution -illow (c:\\users\\p2p2l\\anaconda3\\lib\\site-packages)\n",
      "WARNING: Ignoring invalid distribution -radio (c:\\users\\p2p2l\\anaconda3\\lib\\site-packages)\n",
      "WARNING: Ignoring invalid distribution -rotobuf (c:\\users\\p2p2l\\anaconda3\\lib\\site-packages)\n",
      "WARNING: Ignoring invalid distribution -treamlit (c:\\users\\p2p2l\\anaconda3\\lib\\site-packages)\n",
      "WARNING: Ignoring invalid distribution - (c:\\users\\p2p2l\\anaconda3\\lib\\site-packages)\n",
      "WARNING: Ignoring invalid distribution -illow (c:\\users\\p2p2l\\anaconda3\\lib\\site-packages)\n",
      "WARNING: Ignoring invalid distribution -radio (c:\\users\\p2p2l\\anaconda3\\lib\\site-packages)\n",
      "WARNING: Ignoring invalid distribution -rotobuf (c:\\users\\p2p2l\\anaconda3\\lib\\site-packages)\n",
      "WARNING: Ignoring invalid distribution -treamlit (c:\\users\\p2p2l\\anaconda3\\lib\\site-packages)\n"
     ]
    }
   ],
   "source": [
    "!pip install requests"
   ]
  },
  {
   "cell_type": "code",
   "execution_count": 2,
   "id": "c65efaeb",
   "metadata": {},
   "outputs": [
    {
     "name": "stdout",
     "output_type": "stream",
     "text": [
      "Baidu URL for character 'a': /url?q=https://baike.baidu.com/item/%25E6%25B0%2594/35794&sa=U&ved=2ahUKEwi0oufen6OIAxU5QjABHa0HAbEQFnoECAsQAg&usg=AOvVaw05apJkqPki9BhcTO5m9w-Y\n"
     ]
    }
   ],
   "source": [
    "import requests\n",
    "from bs4 import BeautifulSoup  # For parsing HTML\n",
    "from time import sleep\n",
    "\n",
    "# Define your search query\n",
    "search_term = \"baidu 气\"  # Replace \"气\" with the desired character\n",
    "google_search_url = f\"https://www.google.com/search?q={search_term}\"\n",
    "\n",
    "# Perform Google search\n",
    "response = requests.get(google_search_url)\n",
    "\n",
    "# Parse HTML content\n",
    "soup = BeautifulSoup(response.content, \"html.parser\")\n",
    "\n",
    "# Find the first Baidu search result (modify logic if needed)\n",
    "for link in soup.find_all(\"a\"):\n",
    "    if link.get(\"href\") and \"baidu.com\" in link.get(\"href\"):\n",
    "        baidu_url = link.get(\"href\")\n",
    "        print(f\"Baidu URL for character '{search_term[1]}': {baidu_url}\")\n",
    "        break  # Stop after finding the first Baidu result\n",
    "else:\n",
    "    print(f\"No Baidu results found for '{search_term[1]}'\")"
   ]
  },
  {
   "cell_type": "markdown",
   "id": "c8e567b1",
   "metadata": {},
   "source": [
    "above URL does not work"
   ]
  },
  {
   "cell_type": "code",
   "execution_count": 3,
   "id": "422b8105",
   "metadata": {},
   "outputs": [
    {
     "data": {
      "text/plain": [
       "<!DOCTYPE html>\n",
       "<html lang=\"en\"><head><meta charset=\"utf-8\"/><meta content=\"/images/branding/googleg/1x/googleg_standard_color_128dp.png\" itemprop=\"image\"/><title>baidu 气 - Google Search</title><script nonce=\"pUTRbikb6BrAP-t4SwPVrQ\">(function(){\n",
       "document.documentElement.addEventListener(\"submit\",function(b){var a;if(a=b.target){var c=a.getAttribute(\"data-submitfalse\");a=c===\"1\"||c===\"q\"&&!a.elements.q.value?!0:!1}else a=!1;a&&(b.preventDefault(),b.stopPropagation())},!0);document.documentElement.addEventListener(\"click\",function(b){var a;a:{for(a=b.target;a&&a!==document.documentElement;a=a.parentElement)if(a.tagName===\"A\"){a=a.getAttribute(\"data-nohref\")===\"1\";break a}a=!1}a&&b.preventDefault()},!0);}).call(this);(function(){window.google=window.google||{};var a=window.performance&&window.performance.timing&&\"navigationStart\"in window.performance.timing,b=google.stvsc&&google.stvsc.ns,c=a?b||window.performance.timing.navigationStart:void 0,d=google.stvsc&&google.stvsc.rs,f=a?d||window.performance.timing.responseStart:void 0;window.start=Date.now();var h=window,k=window.performance;k&&(c&&f&&f>c&&f<=window.start?(window.start=f,h.wsrt=f-c):k.now&&(h.wsrt=Math.floor(window.performance.now()-(google.stvsc&&google.stvsc.pno||0))));var l=function(g){g&&g.target.setAttribute(\"data-iml\",String(Date.now()))};document.documentElement.addEventListener(\"load\",l,!0);google.rglh=function(){document.documentElement.removeEventListener(\"load\",l,!0)};}).call(this);(function(){window.google.erd={jsr:1,bv:2069,de:true};})();(function(){var sdo=false;var mei=10;\n",
       "var g=this||self;var k,l=(k=g.mei)!=null?k:1,n,p=(n=g.sdo)!=null?n:!0,q=0,r,t=google.erd,v=t.jsr;google.ml=function(a,b,d,m,e){e=e===void 0?2:e;b&&(r=a&&a.message);d===void 0&&(d={});d.cad=\"ple_\"+google.ple+\".aple_\"+google.aple;if(google.dl)return google.dl(a,e,d,!0),null;b=d;if(v<0){window.console&&console.error(a,b);if(v===-2)throw a;b=!1}else b=!a||!a.message||a.message===\"Error loading script\"||q>=l&&!m?!1:!0;if(!b)return null;q++;d=d||{};b=encodeURIComponent;var c=\"/gen_204?atyp=i&ei=\"+b(google.kEI);google.kEXPI&&(c+=\"&jexpid=\"+b(google.kEXPI));c+=\"&srcpg=\"+b(google.sn)+\"&jsr=\"+b(t.jsr)+\n",
       "\"&bver=\"+b(t.bv);t.dpf&&(c+=\"&dpf=\"+b(t.dpf));var f=a.lineNumber;f!==void 0&&(c+=\"&line=\"+f);var h=a.fileName;h&&(h.indexOf(\"-extension:/\")>0&&(e=3),c+=\"&script=\"+b(h),f&&h===window.location.href&&(f=document.documentElement.outerHTML.split(\"\\n\")[f],c+=\"&cad=\"+b(f?f.substring(0,300):\"No script found.\")));google.ple&&google.ple===1&&(e=2);c+=\"&jsel=\"+e;for(var u in d)c+=\"&\",c+=b(u),c+=\"=\",c+=b(d[u]);c=c+\"&emsg=\"+b(a.name+\": \"+a.message);c=c+\"&jsst=\"+b(a.stack||\"N/A\");c.length>=12288&&(c=c.substr(0,12288));a=c;m||google.log(0,\"\",a);return a};window.onerror=function(a,b,d,m,e){r!==a&&(a=e instanceof Error?e:Error(a),d===void 0||\"lineNumber\"in a||(a.lineNumber=d),b===void 0||\"fileName\"in a||(a.fileName=b),google.ml(a,!1,void 0,!1,a.name===\"SyntaxError\"||a.message.substring(0,11)===\"SyntaxError\"||a.message.indexOf(\"Script error\")!==-1?3:0));r=null;p&&q>=l&&(window.onerror=null)};})();(function(){var c=[],e=0;window.ping=function(b){b.indexOf(\"&zx\")==-1&&(b+=\"&zx=\"+Date.now());var a=new Image,d=e++;c[d]=a;a.onerror=a.onload=a.onabort=function(){delete c[d]};a.src=b};}).call(this);</script><style>a{color:#1a0dab;text-decoration:none;tap-highlight-color:rgba(0,0,0,.10)}a:visited{color:#4b11a8}a:hover{text-decoration:underline}img{border:0}html{font-family:arial,sans-serif;font-size:14px;line-height:20px;text-size-adjust:100%;color:#3c4043;word-wrap:break-word;background-color:#fff}.bz1lBb{background-color:#fff;height:93px;}.KP7LCb{background-color:#fff;padding-left:4px}.BsXmcf{position:absolute;height:1px;left:0;right:0;background-color:#dadce0}.cOl4Id{background-color:#fff}.bRsWnc{overflow:hidden}.N6RWV{height:51px}.Uv67qb{font-size:14px;line-height:20px;font-weight:bold;display:flex}.Uv67qb a,.Uv67qb span{color:#5e5e5e;height:20px;margin:4px 12px 1px;display:block;flex:none;text-align:center;}.OXXup{border-bottom:2px solid #1f1f1f}.Uv67qb .OXXup{font-weight:bold;color:#1f1f1f}a.eZt8xd:visited{color:#5e5e5e}.FElbsf{border-left:1px solid #dadce0}header article{overflow:visible}.Pg70bf{height:39px;display:box;display:flex;display:flex;width:100%}.H0PQec{position:relative;flex:1}.Pg70bf{height:26px}.hlm7Y{height:46px;margin-top:26px;border-radius:25px;width:auto;background:#fff;box-shadow:0px 2px 6px rgba(60,64,67,0.16)}.sbc{display:flex}.Pg70bf input{}.x{width:26px;color:#70757a;line-height:40px;margin-top:3px;font:27px/38px arial, sans-serif}#qdClwb{flex:0 0 auto;padding:0;height:33px;margin-top:5px;border-top-right-radius:25px;border-bottom-right-radius:25px;width:48px;background:#fff;border:0;border-left:1px solid #dadce0;background-repeat:no-repeat;background-image:url(data:image/gif;base64,R0lGODlhJAAjAOYAAP////7+//v8//b5//z9//H2//T4/9Xl/uTu/+ry/+zz/+/1/1GX+1aa+1mc+1+f+2ml+3eu/H6y/IK0/IO1/Iq5/JG9/ZG9/JfB/Z3E/Z7F/Z/F/ajL/anL/azN/bjU/rrV/b3X/sHa/sPb/sTc/sbd/svg/tDj/tfn/tzq/t/s/+bw/+ny/+vz//X5//r8/w9x+RV1+Rd2+Rh3+Rl3+Rp3+Rp4+Rt4+Rt5+Rx5+R16+R56+R96+R97+SB7+SF8+SJ8+SJ9+SN9+SR9+SV++SeA+Sh/+SmA+SqB+SuB+iuB+SyC+S2C+jKF+jKG+jSH+jWH+jWI+jqK+jyL+j+N+kSQ+kWR+kaR+keS+kmT+k6W+lOZ+1Sa+1ab+1eb+1ec+1ic+1md+1qd+1ue+1ye+12f+16f+2el+2mm+2un+26p/HSt+3au/IS2/IW3/Ia3/Iq6/JK+/JbB/JfB/JjC/JrD/KLI/anM/arN/b/Z/cHa/d/s/uLu/ufx//3+/////yH5BAUAAH8ALAAAAAAkACMAAAf4gACCg4SFhoeIiYqLjI2Oj5CRkpOUlZaXmAAJeXEUGyUEmYIBGlRENTE7S2UmohM8PVVoaw1OMlMjlwIWQUdvCoIDJV47UCiWKU02c4YFWDRnoZQXNmAuhyJHUXyVZDYViC5ZQCCVWjN4iH5hMXaVEDNyiAtXQyGVdDMPL4cmTE0qKp1Q4gODoRdfZES45MbGEwwGBh0wIwTKiksGIvjowYANHDVTcBSxUofFpQBtpOSgEePGDy4kwsAY0wLTngwS0mTQc82DER1igIkq1AGJDgc1hxLqkCSHgwRKCd1JoqNLn6iDOAjZchWroA8IvIodS7as2bOWAgEAOw==)}.sc{font-size:16px;position:absolute;top:48px;left:0;right:0;box-shadow:0 2px 5px rgba(0,0,0,.2);z-index:2;background-color:#fff}.sc>div{padding:10px 20px}.scs{background-color:#fafafa;}.noHIxc{display:block;font-size:16px;padding:0 0 0 8px;flex:1;height:35px;outline:none;border:none;width:100%;-webkit-tap-highlight-color:rgba(0,0,0,0);overflow:hidden;padding:4px 0 0 20px}.sbc input[type=text]{background:none}html{background-color:#fff;}body{padding:0;}body{margin:0 auto 0 156px;max-width:652px;min-width:652px;padding:0 8px}.cOl4Id{letter-spacing:-1px;text-align:center;font:22pt Futura, arial,sans-serif;font-smoothing:antialiased;padding:32px 28px 0 24px;position:absolute;left:0;top:0}.cOl4Id span{display:inline-block}.V6gwVd{color:#4285f4}.iWkuvd{color:#ea4335}.cDrQ7{color:#fcc934}.ntlR9{color:#34a853}.tJ3Myc{-webkit-transform:rotate(-20deg);position:relative;left:-1px;display:inline-block}footer{text-align:center;margin-top:18px}footer a,footer a:visited,.smiUbb{color:#70757a}.xeDNfc{margin:0 13px;display:inline-block}#EOlPnc{margin-top:36px}#EOlPnc>div{margin:20px}.Srfpq{color:#70757a}</style></head><body jsmodel=\"hspDDf \"><header id=\"hdr\"><script nonce=\"pUTRbikb6BrAP-t4SwPVrQ\">(function(){\n",
       "var k=this||self,l=function(a){var b=typeof a;return b==\"object\"&&a!=null||b==\"function\"},m=function(a,b){function c(){}c.prototype=b.prototype;a.l=b.prototype;a.prototype=new c;a.prototype.constructor=a;a.s=function(d,e,f){for(var g=Array(arguments.length-2),h=2;h<arguments.length;h++)g[h-2]=arguments[h];return b.prototype[e].apply(d,g)}};var n=Array.prototype.indexOf?function(a,b){return Array.prototype.indexOf.call(a,b,void 0)}:function(a,b){if(typeof a===\"string\")return typeof b!==\"string\"||b.length!=1?-1:a.indexOf(b,0);for(var c=0;c<a.length;c++)if(c in a&&a[c]===b)return c;return-1};var p=function(a){return typeof a.className==\"string\"?a.className:a.getAttribute&&a.getAttribute(\"class\")||\"\"},q=function(a,b){typeof a.className==\"string\"?a.className=b:a.setAttribute&&a.setAttribute(\"class\",b)},r=function(a,b){a.classList?b=a.classList.contains(b):(a=a.classList?a.classList:p(a).match(/\\S+/g)||[],b=n(a,b)>=0);return b},v=function(){var a=t,b=u;a.classList?a.classList.remove(b):r(a,b)&&q(a,Array.prototype.filter.call(a.classList?a.classList:p(a).match(/\\S+/g)||[],function(c){return c!=\n",
       "b}).join(\" \"))};var w=function(a,b){this.type=a;this.target=b};w.prototype.g=function(){};var x=function(){if(!k.addEventListener||!Object.defineProperty)return!1;var a=!1,b=Object.defineProperty({},\"passive\",{get:function(){a=!0}});try{var c=function(){};k.addEventListener(\"test\",c,b);k.removeEventListener(\"test\",c,b)}catch(d){}return a}();var y=function(a){w.call(this,a?a.type:\"\");this.relatedTarget=this.target=null;this.button=this.screenY=this.screenX=this.clientY=this.clientX=0;this.key=\"\";this.keyCode=0;this.metaKey=this.shiftKey=this.altKey=this.ctrlKey=!1;this.state=null;this.pointerId=0;this.pointerType=\"\";this.i=null;if(a){var b=this.type=a.type,c=a.changedTouches&&a.changedTouches.length?a.changedTouches[0]:null;this.target=a.target||a.srcElement;var d=a.relatedTarget;d||(b==\"mouseover\"?d=a.fromElement:b==\"mouseout\"&&(d=a.toElement));this.relatedTarget=d;c?(this.clientX=c.clientX!==void 0?c.clientX:c.pageX,this.clientY=c.clientY!==void 0?c.clientY:c.pageY,this.screenX=c.screenX||0,this.screenY=c.screenY||0):(this.clientX=a.clientX!==void 0?a.clientX:a.pageX,this.clientY=a.clientY!==void 0?a.clientY:a.pageY,this.screenX=a.screenX||0,this.screenY=a.screenY||0);this.button=a.button;this.keyCode=a.keyCode||0;this.key=a.key||\"\";this.ctrlKey=a.ctrlKey;this.altKey=a.altKey;this.shiftKey=a.shiftKey;this.metaKey=a.metaKey;this.pointerId=\n",
       "a.pointerId||0;this.pointerType=a.pointerType;this.state=a.state;this.i=a;a.defaultPrevented&&y.l.g.call(this)}};m(y,w);y.prototype.g=function(){y.l.g.call(this);var a=this.i;a.preventDefault?a.preventDefault():a.returnValue=!1};var z=\"closure_listenable_\"+(Math.random()*1E6|0);var A=0;var B=function(a,b,c,d,e){this.listener=a;this.proxy=null;this.src=b;this.type=c;this.capture=!!d;this.i=e;this.key=++A;this.g=this.j=!1},C=function(a){a.g=!0;a.listener=null;a.proxy=null;a.src=null;a.i=null};var D=function(a){this.src=a;this.g={};this.i=0};D.prototype.add=function(a,b,c,d,e){var f=a.toString();a=this.g[f];a||(a=this.g[f]=[],this.i++);var g;a:{for(g=0;g<a.length;++g){var h=a[g];if(!h.g&&h.listener==b&&h.capture==!!d&&h.i==e)break a}g=-1}g>-1?(b=a[g],c||(b.j=!1)):(b=new B(b,this.src,f,!!d,e),b.j=c,a.push(b));return b};var E=\"closure_lm_\"+(Math.random()*1E6|0),F={},G=0,I=function(a,b,c,d,e){if(d&&d.once)return H(a,b,c,d,e);if(Array.isArray(b)){for(var f=0;f<b.length;f++)I(a,b[f],c,d,e);return null}c=J(c);return a&&a[z]?a.g(b,c,l(d)?!!d.capture:!!d,e):K(a,b,c,!1,d,e)},K=function(a,b,c,d,e,f){if(!b)throw Error(\"a\");var g=l(e)?!!e.capture:!!e,h=L(a);h||(a[E]=h=new D(a));c=h.add(b,c,d,g,f);if(c.proxy)return c;d=M();c.proxy=d;d.src=a;d.listener=c;if(a.addEventListener)x||(e=g),e===void 0&&(e=!1),a.addEventListener(b.toString(),d,e);else if(a.attachEvent)a.attachEvent(N(b.toString()),d);else if(a.addListener&&a.removeListener)a.addListener(d);else throw Error(\"b\");G++;return c},M=function(){var a=O,b=function(c){return a.call(b.src,b.listener,c)};return b},H=function(a,b,c,d,e){if(Array.isArray(b)){for(var f=0;f<b.length;f++)H(a,b[f],c,d,e);return null}c=J(c);return a&&a[z]?a.i(b,c,l(d)?!!d.capture:!!d,e):K(a,b,c,!0,d,e)},P=function(a){if(typeof a!==\"number\"&&a&&!a.g){var b=a.src;if(b&&b[z])b.v(a);else{var c=a.type,d=a.proxy;b.removeEventListener?b.removeEventListener(c,d,a.capture):b.detachEvent?b.detachEvent(N(c),d):b.addListener&&b.removeListener&&b.removeListener(d);G--;if(c=L(b)){d=a.type;if(d in c.g){var e=c.g[d],f=n(e,a),g;(g=f>=0)&&Array.prototype.splice.call(e,f,1);g&&(C(a),c.g[d].length==0&&(delete c.g[d],c.i--))}c.i==0&&(c.src=null,b[E]=null)}else C(a)}}},N=function(a){return a in F?F[a]:F[a]=\"on\"+a},O=function(a,b){if(a.g)a=!0;else{b=new y(b,this);var c=a.listener,d=a.i||a.src;a.j&&P(a);a=c.call(d,b)}return a},L=function(a){a=a[E];return a instanceof D?a:null},Q=\"__closure_events_fn_\"+(Math.random()*1E9>>>0),J=function(a){if(typeof a===\"function\")return a;a[Q]||(a[Q]=function(b){return a.handleEvent(b)});return a[Q]};var R=[9],u,t=document.documentElement,S;function T(){P(S);S=H(t,\"mousedown\",function(){v();U()},{capture:!0})}function U(){P(S);S=I(t,\"keydown\",function(a){if(R.indexOf(a.keyCode)!==-1){a=t;var b=u;if(a.classList)a.classList.add(b);else if(!r(a,b)){var c=p(a);q(a,c+(c.length>0?\" \"+b:b))}T()}})};u=\"zAoYTe\";U();}).call(this);</script><div class=\"cOl4Id\"><a href=\"/?sa=X&amp;ved=0ahUKEwi0oufen6OIAxU5QjABHa0HAbEQOwgC\"><span class=\"V6gwVd\">G</span><span class=\"iWkuvd\">o</span><span class=\"cDrQ7\">o</span><span class=\"V6gwVd\">g</span><span class=\"ntlR9\">l</span><span class=\"iWkuvd tJ3Myc\">e</span></a></div><div class=\"bz1lBb\"><form class=\"Pg70bf hlm7Y\" id=\"sf\"><input name=\"sca_esv\" type=\"hidden\" value=\"ff35baf6a28594a4\"/><input name=\"sca_upv\" type=\"hidden\" value=\"1\"/><input name=\"ie\" type=\"hidden\" value=\"ISO-8859-1\"/><div class=\"H0PQec\"><div class=\"sbc esbc\"><input autocapitalize=\"none\" autocomplete=\"off\" class=\"noHIxc\" name=\"q\" spellcheck=\"false\" type=\"text\" value=\"baidu 气\"/><input name=\"oq\" type=\"hidden\"/><input name=\"aqs\" type=\"hidden\"/><div class=\"x\">×</div><div class=\"sc\"></div></div></div><button id=\"qdClwb\" type=\"submit\"></button></form></div><noscript><meta content=\"0;url=/search?q=baidu+%E6%B0%94&amp;sca_esv=ff35baf6a28594a4&amp;sca_upv=1&amp;ie=UTF-8&amp;gbv=1&amp;sei=nyfVZvTWH7mEwbkPrY-EiAs\" http-equiv=\"refresh\"/><style>table,div,span,p{display:none}</style><div style=\"display:block\">Please click <a href=\"/search?q=baidu+%E6%B0%94&amp;sca_esv=ff35baf6a28594a4&amp;sca_upv=1&amp;ie=UTF-8&amp;gbv=1&amp;sei=nyfVZvTWH7mEwbkPrY-EiAs\">here</a> if you are not redirected within a few seconds.</div></noscript></header><style>@view-transition{navigation:auto}::view-transition-old(sb){height:100%}::view-transition-new(sb){height:100%}</style><div id=\"main\"><div><div class=\"KP7LCb\"> <div class=\"bRsWnc\"> <div class=\"N6RWV\"> <div class=\"Pg70bf Uv67qb\"> <span class=\"OXXup\">All</span><a class=\"eZt8xd\" href=\"/search?q=baidu+%E6%B0%94&amp;sca_esv=ff35baf6a28594a4&amp;sca_upv=1&amp;ie=UTF-8&amp;tbm=isch&amp;source=lnms&amp;sa=X&amp;ved=0ahUKEwi0oufen6OIAxU5QjABHa0HAbEQ_AUIBigB\">Images</a><a class=\"eZt8xd\" href=\"/search?q=baidu+%E6%B0%94&amp;sca_esv=ff35baf6a28594a4&amp;sca_upv=1&amp;ie=UTF-8&amp;tbm=vid&amp;source=lnms&amp;sa=X&amp;ved=0ahUKEwi0oufen6OIAxU5QjABHa0HAbEQ_AUIBygC\">Videos</a><a class=\"eZt8xd\" href=\"/search?q=baidu+%E6%B0%94&amp;sca_esv=ff35baf6a28594a4&amp;sca_upv=1&amp;ie=UTF-8&amp;tbm=nws&amp;source=lnms&amp;sa=X&amp;ved=0ahUKEwi0oufen6OIAxU5QjABHa0HAbEQ_AUICCgD\">News</a> <a href=\"/url?q=https://maps.google.com/maps%3Fq%3Dbaidu%2B%25E6%25B0%2594%26um%3D1%26ie%3DUTF-8%26ved%3D1t:200713%26ictx%3D111&amp;opi=89978449&amp;sa=U&amp;ved=0ahUKEwi0oufen6OIAxU5QjABHa0HAbEQiaAMCAkoBA&amp;usg=AOvVaw2NBfbaBa76Wcgj1ip3fm8q\">Maps</a> <a href=\"/url?q=/search%3Fq%3Dbaidu%2B%25E6%25B0%2594%26sca_esv%3Dff35baf6a28594a4%26sca_upv%3D1%26ie%3DUTF-8%26tbm%3Dshop%26source%3Dlnms%26ved%3D1t:200713%26ictx%3D111&amp;opi=89978449&amp;sa=U&amp;ved=0ahUKEwi0oufen6OIAxU5QjABHa0HAbEQiaAMCAooBQ&amp;usg=AOvVaw1aI26abOW9natd1Jh3FUQf\">Shopping</a> <a href=\"/search?q=baidu+%E6%B0%94&amp;sca_esv=ff35baf6a28594a4&amp;sca_upv=1&amp;ie=UTF-8&amp;tbm=bks&amp;source=lnms&amp;sa=X&amp;ved=0ahUKEwi0oufen6OIAxU5QjABHa0HAbEQ_AUICygG\">Books</a> <div class=\"FElbsf\"><a href=\"/advanced_search\" id=\"st-toggle\" role=\"button\" style=\"white-space:nowrap\">Search tools</a></div> </div> </div> </div> </div><div class=\"Pg70bf wEsjbd Gx5Zad xpd EtOod pkphOe\" id=\"st-card\" style=\"display:none\"><style>.wEsjbd{height:44px;white-space:nowrap}.coPU8c{height:60px;overflow-scrolling:touch;overflow-x:auto;overflow-y:hidden}.Xj2aue{height:44px;overflow:hidden}.RnNGze{margin:11px 16px}.wEsjbd div,.wEsjbd a,.wEsjbd li{outline-width:0;outline:none}</style><div class=\"Xj2aue\"><div class=\"coPU8c\"><div class=\"RnNGze\"><style>.PA9J5{display:inline-block}.RXaOfd,.tbcPJb{display:inline-block;height:22px;position:relative;padding-top:0;padding-bottom:0;padding-right:16px;padding-left:0;line-height:22px;cursor:pointer;text-transform:uppercase;font-size:12px;color:#70757a}.sa1toc{background:#fff;display:none;position:absolute;border:1px solid #dadce0;box-shadow:0 2px 4px rgba(0,0,0,.3);margin:0;white-space:nowrap;z-index:103;line-height:17px;padding-top:5px;padding-bottom:5px;padding-left:0}.PA9J5:hover .sa1toc{display:block}.mGSy8d a:active,.RXaOfd:active{color:#4285f4}</style><div class=\"PA9J5\"><div class=\"RXaOfd\" role=\"button\" tabindex=\"0\"><style>.TWMOUc{display:inline-block;padding-right:14px;white-space:nowrap}.vQYuGf{font-weight:bold}.OmTIzf{border-color:#909090 transparent;border-style:solid;border-width:4px 4px 0 4px;width:0;height:0;margin-left:-10px;top:50%;margin-top:-2px;position:absolute}.RXaOfd:active .OmTIzf{border-color:#4285f4 transparent}</style><div class=\"TWMOUc\">Any time</div><span class=\"OmTIzf\"></span></div><ul class=\"sa1toc ozatM\"><style>.ozatM{font-size:12px;text-transform:uppercase}.ozatM .yNFsl,.ozatM li{list-style-type:none;list-style-position:outside;list-style-image:none}.yNFsl.SkUj4c,.yNFsl a{color:#70757a;text-decoration:none;padding:6px 44px 6px 14px;line-height:17px;display:block}.SkUj4c{background-image:url(//ssl.gstatic.com/ui/v1/menu/checkmark2.png);background-position:right center;background-repeat:no-repeat}.SkUj4c:active{background-color:#f8f9fa}</style><li class=\"yNFsl SkUj4c\"><style>.tbcPJb a{color:#70757a;text-decoration:none}</style>Any time</li><li class=\"yNFsl\"><a href=\"/search?q=baidu+%E6%B0%94&amp;sca_esv=ff35baf6a28594a4&amp;sca_upv=1&amp;ie=UTF-8&amp;source=lnt&amp;tbs=qdr:h&amp;sa=X&amp;ved=0ahUKEwi0oufen6OIAxU5QjABHa0HAbEQpwUIDQ\">Past hour</a></li><li class=\"yNFsl\"><a href=\"/search?q=baidu+%E6%B0%94&amp;sca_esv=ff35baf6a28594a4&amp;sca_upv=1&amp;ie=UTF-8&amp;source=lnt&amp;tbs=qdr:d&amp;sa=X&amp;ved=0ahUKEwi0oufen6OIAxU5QjABHa0HAbEQpwUIDg\">Past 24 hours</a></li><li class=\"yNFsl\"><a href=\"/search?q=baidu+%E6%B0%94&amp;sca_esv=ff35baf6a28594a4&amp;sca_upv=1&amp;ie=UTF-8&amp;source=lnt&amp;tbs=qdr:w&amp;sa=X&amp;ved=0ahUKEwi0oufen6OIAxU5QjABHa0HAbEQpwUIDw\">Past week</a></li><li class=\"yNFsl\"><a href=\"/search?q=baidu+%E6%B0%94&amp;sca_esv=ff35baf6a28594a4&amp;sca_upv=1&amp;ie=UTF-8&amp;source=lnt&amp;tbs=qdr:m&amp;sa=X&amp;ved=0ahUKEwi0oufen6OIAxU5QjABHa0HAbEQpwUIEA\">Past month</a></li><li class=\"yNFsl\"><a href=\"/search?q=baidu+%E6%B0%94&amp;sca_esv=ff35baf6a28594a4&amp;sca_upv=1&amp;ie=UTF-8&amp;source=lnt&amp;tbs=qdr:y&amp;sa=X&amp;ved=0ahUKEwi0oufen6OIAxU5QjABHa0HAbEQpwUIEQ\">Past year</a></li></ul></div><div class=\"PA9J5\"><div class=\"RXaOfd\" role=\"button\" tabindex=\"0\"><div class=\"TWMOUc\">All results</div><span class=\"OmTIzf\"></span></div><ul class=\"sa1toc ozatM\"><li class=\"yNFsl SkUj4c\">All results</li><li class=\"yNFsl\"><a href=\"/search?q=baidu+%E6%B0%94&amp;sca_esv=ff35baf6a28594a4&amp;sca_upv=1&amp;ie=UTF-8&amp;source=lnt&amp;tbs=li:1&amp;sa=X&amp;ved=0ahUKEwi0oufen6OIAxU5QjABHa0HAbEQpwUIEw\">Verbatim</a></li></ul></div></div></div></div><script nonce=\"pUTRbikb6BrAP-t4SwPVrQ\">(function(){var a=document.getElementById(\"st-toggle\"),b=document.getElementById(\"st-card\");a&&b&&a.addEventListener(\"click\",function(c){b.style.display=b.style.display?\"\":\"none\";c.preventDefault()},!1);}).call(this);</script></div></div><div class=\"BsXmcf\"></div><style>.Gx5Zad{margin-bottom:30px;margin:0px 0px 8px;}.pkphOe{font-size:14px;line-height:22px;}.EtOod>*:first-child{border-top-left-radius:8px;border-top-right-radius:8px}.EtOod>*:last-child{border-bottom-left-radius:8px;border-bottom-right-radius:8px}.EtOod.avPKgf>*:last-child{border-bottom-left-radius:4px}.fP1Qef{background:transparent !important;box-shadow:none !important;border:none !important}.rl7ilb{display:block;clear:both}.egMi0{margin-bottom:-23px}.kCrYT{padding:16px 14px 12px}a.fdYsqf{color:#4b11a8}.sCuL3{position:absolute;width:100%;top:0;left:0;padding-top:1px;margin-bottom:-1px}.j039Wc{padding-top:28px;margin-bottom:-1px}.DnJfK{position:relative}.l97dzf{font-weight:400}.zBAuLc{line-height:normal;margin:0;padding:0}.BNeawe{white-space:pre-line;word-wrap:break-word}.vvjwJb{color:#1a0dab;font-size:20px;line-height:26px}a:visited .vvjwJb,.vvjwJb a:visited{color:#4b11a8}.vvjwJb.HrGdeb{color:#fff}a:visited .vvjwJb.HrGdeb,.vvjwJb.HrGdeb a:visited{color:rgba(255,255,255,.70)}.UPmit{font-size:14px;line-height:22px}.UPmit.HrGdeb{color:rgba(255,255,255,.70)}.UPmit.AP7Wnd{color:#202124}.lRVwie{text-overflow:ellipsis;white-space:nowrap;overflow:hidden}.Ap5OSd{padding-bottom:12px}.s3v9rd{font-size:14px;line-height:22px}.s3v9rd.HrGdeb{color:#fff}.s3v9rd.AP7Wnd{color:#202124}.mSx1Ee{padding-left:48px;margin:0}.v9i61e{padding-bottom:8px}.K8tyEc{padding-bottom:12px}.mEUgP{font-size:20px;font-weight:bold;line-height:26px;color:#1f1f1f;height:14px;padding:16px 14px 0px 14px;margin:0}.FCUp0c{font-weight:bold}.nRlVm .FCUp0c{background-color:#d3e3fd;color:#040c28}.C7GS5b{margin-left:12px;display:table-cell;vertical-align:middle}.rkGIWe{padding:14px}.rxk4ae{padding-top:6px;padding-bottom:6px}.xpc .hwc,.xpx .hwx{display:none}.iIWm4b{box-sizing:border-box;min-height:48px}.fLtXsc{padding:14px;position:relative}.NtmAdb{width:40px;height:40px;overflow:hidden;margin-top:-10px;margin-bottom:-16px;margin-right:8px;border-radius:4px}.xpc .NtmAdb{display:inline-block}.xpx .NtmAdb{display:none}.Lt3Tzc{display:inline-block;padding-right:26px;color:#474747;font-size:16px}.Lym8W{width:14px;height:20px;position:relative;margin:0 auto}.xCgLUe{position:absolute;margin-top:-10px;top:50%;margin-right:-4px}.Lym8W div{position:absolute;border-left:7px solid transparent;border-right:7px solid transparent;width:0;height:0;left:0}.IyYaEd{top:7px;border-top:7px solid #70757a}.ECUHQe{top:4px;border-top:7px solid #fff}.AeQQub{bottom:7px;border-bottom:7px solid #70757a}.YCU7eb{bottom:4px;border-bottom:7px solid #fff}.v7Y0Ge{background-color:#f7f8f9;padding:10px;width:14px;height:15px;right:14px;margin-top:-18px;top:50%;position:absolute;border-radius:50%}.WZP0ub{display:inline-block;margin-left:5px;margin-top:-6px}.qxDOhb{border-radius:0}.EtOod>.qxDOhb>*:first-child{border-top-left-radius:8px;border-top-right-radius:8px}.EtOod>.qxDOhb>*:last-child{border-bottom-left-radius:8px;border-bottom-right-radius:8px}.yStFkb .xpd{box-shadow:none;border-radius:16px;background-color:#f7f8f9;}.oTWEpb{padding-top:16px}.n1Qedd{overflow:hidden;text-align:center}.KMAGC{margin:0 auto;display:block}.ho0sdc{margin:0 -50%;display:inline-block}.PqksIc{font-size:16px;line-height:20px}.x54gtf{height:1px;background-color:#dadce0;margin:0 14px}.Q0HXG{height:1px;background-color:#dadce0;}.Xb5VRe{color:#1a0dab}a:visited .Xb5VRe{color:#4b11a8}.Xb5VRe.tr0dw{color:#fff}a:visited .Xb5VRe.tr0dw{color:rgba(255,255,255,.70)}.P1NWSe{display:table;width:100%;padding-top:16px;padding-bottom:16px;margin-bottom:-12px}.wOMIed{display:table-cell;vertical-align:top}.nkPlDb{vertical-align:middle}.JhFlyf{color:#3c4043;font-size:14px;text-align:center}.VQFmSd{display:block;white-space:pre-line;word-wrap:break-word}.JhFlyf.VQFmSd{line-height:22px}.f4J0H{padding:18px}.gGQDvd{position:relative;padding:20px 14px 14px 14px;height:60px;}.Q71vJc{display:block;position:relative;width:100%}.kjGX2{position:absolute;vertical-align:bottom;display:inline-block;right:48px;left:0;color:#4d5156;}.Xe4YD{font-size:16px}.ieB2Dd{overflow:hidden;margin-top:-10px;margin-bottom:-16px;margin-right:8px;border-radius:4px;display:inline-block;border-radius:50%;padding:8px 7px 8px 9px;background-color:#f7f8f9;}.toMBf{position:absolute;right:0;margin-right:-8px;margin-top:-2px}.OEaqif{width:20px;height:20px;display:block}.RJI4s{vertical-align:middle}.rLshyf,.BmP5tf{padding-top:16px;padding-bottom:12px}.YOx3Ab{padding-left:14px;}.w1C3Le,.BmP5tf,.G5NbBd,.CS4w5b{padding-left:14px;padding-right:14px;}.G5NbBd{padding-bottom:12px}.CS4w5b{padding-top:12px}.nMymef{display:flex}.G5eFlf{flex:1;display:block}.nMymef span{text-align:center}.EYqSq{margin:6px 4px 9px 0;border-radius:100%;display:inline-block;height:10px;vertical-align:middle;width:10px}.dfB0uf{color:#3c4043;font-weight:bold}.IffyKc{word-wrap:break-word}</style><div></div><div><div class=\"Gx5Zad fP1Qef xpd EtOod pkphOe\"><div class=\"egMi0 kCrYT\"><a data-ved=\"2ahUKEwi0oufen6OIAxU5QjABHa0HAbEQFnoECAsQAg\" href=\"/url?q=https://baike.baidu.com/item/%25E6%25B0%2594/35794&amp;sa=U&amp;ved=2ahUKEwi0oufen6OIAxU5QjABHa0HAbEQFnoECAsQAg&amp;usg=AOvVaw05apJkqPki9BhcTO5m9w-Y\"><div class=\"DnJfK\"><div class=\"j039Wc\"><h3 class=\"zBAuLc l97dzf\"><div class=\"BNeawe vvjwJb AP7Wnd\">气_百度百科</div></h3></div><div class=\"sCuL3\"><div class=\"BNeawe UPmit AP7Wnd lRVwie\">baike.baidu.com › item › 气</div></div></div></a></div><div class=\"kCrYT\"><div><div class=\"BNeawe s3v9rd AP7Wnd\"><div><div><div class=\"BNeawe s3v9rd AP7Wnd\">气（拼音：qì）是汉语一级通用规范汉字（常用字）。“气”始见于商代甲骨文，其古字形像天上云气漂浮的样子，为三条长短不一的横线。“气”的繁体为“氣”。小篆“氣”是“饩”（xì，“餼” ...</div></div></div></div></div></div></div></div><div><div class=\"Gx5Zad fP1Qef xpd EtOod pkphOe\"><div class=\"egMi0 kCrYT\"><a data-ved=\"2ahUKEwi0oufen6OIAxU5QjABHa0HAbEQFnoECAQQAg\" href=\"/url?q=https://baike.baidu.com/item/%25E6%25B0%2594/13827085&amp;sa=U&amp;ved=2ahUKEwi0oufen6OIAxU5QjABHa0HAbEQFnoECAQQAg&amp;usg=AOvVaw2GFo00wsLbs31QfgEmddQj\"><div class=\"DnJfK\"><div class=\"j039Wc\"><h3 class=\"zBAuLc l97dzf\"><div class=\"BNeawe vvjwJb AP7Wnd\">气_百度百科</div></h3></div><div class=\"sCuL3\"><div class=\"BNeawe UPmit AP7Wnd lRVwie\">baike.baidu.com › item › 气</div></div></div></a></div><div class=\"kCrYT\"><div><div class=\"BNeawe s3v9rd AP7Wnd\"><div><div><div class=\"BNeawe s3v9rd AP7Wnd\">基本介绍. 生命体内隐藏的能量，还有正气、邪气、勇气、元气等精神力都属于「气」，「气」可使肉体超越极限。 ... 以太极拳为代表的中国拳法世界中，十分重视气的锻炼和控制。</div></div></div></div></div></div></div></div><div><div class=\"Gx5Zad fP1Qef xpd EtOod pkphOe\"><div class=\"egMi0 kCrYT\"><a data-ved=\"2ahUKEwi0oufen6OIAxU5QjABHa0HAbEQFnoECAkQAg\" href=\"/url?q=https://baike.baidu.com/item/%25E6%25B9%25BF%25E6%25B0%2594/2050090&amp;sa=U&amp;ved=2ahUKEwi0oufen6OIAxU5QjABHa0HAbEQFnoECAkQAg&amp;usg=AOvVaw2xauxdF_X1Y3F4YN14CpvD\"><div class=\"DnJfK\"><div class=\"j039Wc\"><h3 class=\"zBAuLc l97dzf\"><div class=\"BNeawe vvjwJb AP7Wnd\">湿气_百度百科</div></h3></div><div class=\"sCuL3\"><div class=\"BNeawe UPmit AP7Wnd lRVwie\">baike.baidu.com › item › 湿气</div></div></div></a></div><div class=\"kCrYT\"><div><div class=\"BNeawe s3v9rd AP7Wnd\"><div><div><div class=\"BNeawe s3v9rd AP7Wnd\">湿气是一种中医理论概念。中医认为自然界中气候潮湿、食肉等是湿气的来源，湿邪过重则易伤阳气。认为通过饮食、起居可以对湿气进行调节。</div></div></div></div></div></div></div></div><div><div class=\"Gx5Zad fP1Qef xpd EtOod pkphOe\"><div class=\"egMi0 kCrYT\"><a data-ved=\"2ahUKEwi0oufen6OIAxU5QjABHa0HAbEQFnoECAoQAg\" href=\"/url?q=https://baike.baidu.com/item/%25E6%2588%25BE%25E6%25B0%2594/5342383&amp;sa=U&amp;ved=2ahUKEwi0oufen6OIAxU5QjABHa0HAbEQFnoECAoQAg&amp;usg=AOvVaw30HtlYtzQ6Re5JtAkDp7fH\"><div class=\"DnJfK\"><div class=\"j039Wc\"><h3 class=\"zBAuLc l97dzf\"><div class=\"BNeawe vvjwJb AP7Wnd\">戾气_百度百科</div></h3></div><div class=\"sCuL3\"><div class=\"BNeawe UPmit AP7Wnd lRVwie\">baike.baidu.com › item › 戾气</div></div></div></a></div><div class=\"kCrYT\"><div><div class=\"BNeawe s3v9rd AP7Wnd\"><div><div><div class=\"BNeawe s3v9rd AP7Wnd\">戾气，是指暴戾之气的意思。即一种残忍，凡事要做得狠，偏向走极端的一种心理或风气；中医学中也有戾气一说，是和正气相反，和邪气相对应的。可以看做杀心重，或杀气的近义词， ...</div></div></div></div></div></div></div></div><div><div class=\"Gx5Zad fP1Qef xpd EtOod pkphOe\"><div class=\"egMi0 kCrYT\"><a data-ved=\"2ahUKEwi0oufen6OIAxU5QjABHa0HAbEQFnoECAIQAg\" href=\"/url?q=https://baike.baidu.com/item/%25E6%25B0%25A6%25E6%25B0%2594/8572782&amp;sa=U&amp;ved=2ahUKEwi0oufen6OIAxU5QjABHa0HAbEQFnoECAIQAg&amp;usg=AOvVaw1wkihpQt_84du8a2X5g3i5\"><div class=\"DnJfK\"><div class=\"j039Wc\"><h3 class=\"zBAuLc l97dzf\"><div class=\"BNeawe vvjwJb AP7Wnd\">氦气_百度百科</div></h3></div><div class=\"sCuL3\"><div class=\"BNeawe UPmit AP7Wnd lRVwie\">baike.baidu.com › item › 氦气</div></div></div></a></div><div class=\"kCrYT\"><div><div class=\"BNeawe s3v9rd AP7Wnd\"><div><div><div class=\"BNeawe s3v9rd AP7Wnd\">常温下，氦气是一种极轻的无色、无臭、无味的单原子气体。是所有气体中最难液化的，是不能在标准大气压下固化的物质。液化后温度降至2.174K时，具有表面张力很小、导热性很强 ...</div></div></div></div></div></div></div></div><div><div class=\"Gx5Zad fP1Qef xpd EtOod pkphOe\"><div class=\"egMi0 kCrYT\"><a data-ved=\"2ahUKEwi0oufen6OIAxU5QjABHa0HAbEQFnoECAAQAg\" href=\"/url?q=https://baike.baidu.com/item/%25E6%25B0%2594%25E5%259C%25BA/16253&amp;sa=U&amp;ved=2ahUKEwi0oufen6OIAxU5QjABHa0HAbEQFnoECAAQAg&amp;usg=AOvVaw1QecR6I_3O3yeGX_SzoICr\"><div class=\"DnJfK\"><div class=\"j039Wc\"><h3 class=\"zBAuLc l97dzf\"><div class=\"BNeawe vvjwJb AP7Wnd\">气场_百度百科</div></h3></div><div class=\"sCuL3\"><div class=\"BNeawe UPmit AP7Wnd lRVwie\">baike.baidu.com › item › 气场</div></div></div></a></div><div class=\"kCrYT\"><div><div class=\"BNeawe s3v9rd AP7Wnd\"><div><div><div class=\"BNeawe s3v9rd AP7Wnd\">气场是指一个人的气质对其周围人产生的影响，是对人散发的隐形能量的描述它反映人能把握到的自然规律的多少。人越顺应自然规律，气场就越大；越背离自然规律，气场就越小。</div></div></div></div></div></div></div></div><div><div class=\"Gx5Zad fP1Qef xpd EtOod pkphOe\"><div class=\"egMi0 kCrYT\"><a data-ved=\"2ahUKEwi0oufen6OIAxU5QjABHa0HAbEQFnoECAYQAg\" href=\"/url?q=https://weather.cma.cn/&amp;sa=U&amp;ved=2ahUKEwi0oufen6OIAxU5QjABHa0HAbEQFnoECAYQAg&amp;usg=AOvVaw2r2SYO-tZ5uxMqsoA8Y2fU\"><div class=\"DnJfK\"><div class=\"j039Wc\"><h3 class=\"zBAuLc l97dzf\"><div class=\"BNeawe vvjwJb AP7Wnd\">天气预报: 中国气象局</div></h3></div><div class=\"sCuL3\"><div class=\"BNeawe UPmit AP7Wnd lRVwie\">weather.cma.cn</div></div></div></a></div><div class=\"kCrYT\"><div><div class=\"BNeawe s3v9rd AP7Wnd\"><div><div><div class=\"BNeawe s3v9rd AP7Wnd\">今天 08/30. 33℃/23℃. 晴转多云 ; 明天 08/31. 29℃/22℃. 小雨 ; 后天 09/01. 31℃/19℃. 多云 ; 周一 09/02. 27℃/18℃. 晴 ; 周二 09/03. 27℃/19℃. 多云.</div></div></div></div></div></div></div></div><div><div class=\"Gx5Zad fP1Qef xpd EtOod pkphOe\"><div class=\"egMi0 kCrYT\"><a data-ved=\"2ahUKEwi0oufen6OIAxU5QjABHa0HAbEQFnoECAUQAg\" href=\"/url?q=https://baike.baidu.hk/item/%25E6%25B0%25A3/8053535&amp;sa=U&amp;ved=2ahUKEwi0oufen6OIAxU5QjABHa0HAbEQFnoECAUQAg&amp;usg=AOvVaw0ZYxjoyBUwKsRjxsVBryTd\"><div class=\"DnJfK\"><div class=\"j039Wc\"><h3 class=\"zBAuLc l97dzf\"><div class=\"BNeawe vvjwJb AP7Wnd\">氣_百度百科</div></h3></div><div class=\"sCuL3\"><div class=\"BNeawe UPmit AP7Wnd lRVwie\">baike.baidu.hk › item › 氣</div></div></div></a></div><div class=\"kCrYT\"><div><div class=\"BNeawe s3v9rd AP7Wnd\"><div><div><div class=\"BNeawe s3v9rd AP7Wnd\">氣，中國的哲學術語。通常是指微細物質（氣體），後來泛指物質，認為是萬物生成的本原。如古代王充提出“天地合氣，萬物自生。</div></div></div></div></div></div></div></div><div><div class=\"Gx5Zad fP1Qef xpd EtOod pkphOe\"><div class=\"egMi0 kCrYT\"><a data-ved=\"2ahUKEwi0oufen6OIAxU5QjABHa0HAbEQFnoECAMQAg\" href=\"/url?q=https://baike.baidu.com/item/%25E6%25B0%2594%25E5%25A3%25B0%25E5%2594%25B1%25E6%25B3%2595/645809&amp;sa=U&amp;ved=2ahUKEwi0oufen6OIAxU5QjABHa0HAbEQFnoECAMQAg&amp;usg=AOvVaw0aM4T54C4huYwst981np4l\"><div class=\"DnJfK\"><div class=\"j039Wc\"><h3 class=\"zBAuLc l97dzf\"><div class=\"BNeawe vvjwJb AP7Wnd\">气声唱法_百度百科</div></h3></div><div class=\"sCuL3\"><div class=\"BNeawe UPmit AP7Wnd lRVwie\">baike.baidu.com › item › 气声唱法</div></div></div></a></div><div class=\"kCrYT\"><div><div class=\"BNeawe s3v9rd AP7Wnd\"><div><div><div class=\"BNeawe s3v9rd AP7Wnd\">气声唱法一般用于稍慢速度的轻吟低唱歌曲中，特别是感叹、缠绵、如泣如诉或是温存的窃窃私语的段落，用上了气声唱法能使感情表达极为真切，更富有感染力，像是发自心底的声音。</div></div></div></div></div></div></div></div><div data-hveid=\"CAcQAA\"><div class=\"Gx5Zad xpd EtOod pkphOe\"><div class=\"K8tyEc\"><div class=\"mEUgP\"><span><div class=\"BNeawe\"><span class=\"FCUp0c rQMQod\">People also ask</span></div></span></div></div><div><div class=\"rxk4ae xpc\"><div class=\"duf-h\"><div aria-expanded=\"false\" class=\"fLtXsc iIWm4b\" data-ved=\"2ahUKEwi0oufen6OIAxU5QjABHa0HAbEQuk56BAgHEAI\" id=\"tsuid_1\" role=\"button\" tabindex=\"0\"><div class=\"Lt3Tzc\">戾气怎么读？</div><div class=\"v7Y0Ge\"><div class=\"Lym8W xCgLUe\"><div class=\"AeQQub hwc\"></div><div class=\"YCU7eb hwc\"></div><div class=\"IyYaEd hwx\"></div><div class=\"ECUHQe hwx\"></div></div></div></div></div><div class=\"qxDOhb\" id=\"accdef_1\"></div></div></div><div class=\"x54gtf\"></div><div><div class=\"rxk4ae xpc\"><div class=\"duf-h\"><div aria-expanded=\"false\" class=\"fLtXsc iIWm4b\" data-ved=\"2ahUKEwi0oufen6OIAxU5QjABHa0HAbEQuk56BAgHEAk\" id=\"tsuid_2\" role=\"button\" tabindex=\"0\"><div class=\"Lt3Tzc\">戾气是什么意思？</div><div class=\"v7Y0Ge\"><div class=\"Lym8W xCgLUe\"><div class=\"AeQQub hwc\"></div><div class=\"YCU7eb hwc\"></div><div class=\"IyYaEd hwx\"></div><div class=\"ECUHQe hwx\"></div></div></div></div></div><div class=\"qxDOhb\" id=\"accdef_3\"></div></div></div><div class=\"x54gtf\"></div><div><div class=\"rxk4ae xpc\"><div class=\"duf-h\"><div aria-expanded=\"false\" class=\"fLtXsc iIWm4b\" data-ved=\"2ahUKEwi0oufen6OIAxU5QjABHa0HAbEQuk56BAgHEBA\" id=\"tsuid_3\" role=\"button\" tabindex=\"0\"><div class=\"Lt3Tzc\">气是象形字吗？</div><div class=\"v7Y0Ge\"><div class=\"Lym8W xCgLUe\"><div class=\"AeQQub hwc\"></div><div class=\"YCU7eb hwc\"></div><div class=\"IyYaEd hwx\"></div><div class=\"ECUHQe hwx\"></div></div></div></div></div><div class=\"qxDOhb\" id=\"accdef_5\"></div></div></div><div class=\"x54gtf\"></div><div><div class=\"rxk4ae xpc\"><div class=\"duf-h\"><div aria-expanded=\"false\" class=\"fLtXsc iIWm4b\" data-ved=\"2ahUKEwi0oufen6OIAxU5QjABHa0HAbEQuk56BAgHEBc\" id=\"tsuid_4\" role=\"button\" tabindex=\"0\"><div class=\"Lt3Tzc\">厌气什么意思？</div><div class=\"v7Y0Ge\"><div class=\"Lym8W xCgLUe\"><div class=\"AeQQub hwc\"></div><div class=\"YCU7eb hwc\"></div><div class=\"IyYaEd hwx\"></div><div class=\"ECUHQe hwx\"></div></div></div></div></div><div class=\"qxDOhb\" id=\"accdef_7\"></div></div></div></div></div><div><div class=\"Gx5Zad fP1Qef xpd EtOod pkphOe\"><div class=\"egMi0 kCrYT\"><a data-ved=\"2ahUKEwi0oufen6OIAxU5QjABHa0HAbEQFnoECAEQAg\" href=\"/url?q=https://translate.google.com/%3Fhl%3Dzh-CN&amp;sa=U&amp;ved=2ahUKEwi0oufen6OIAxU5QjABHa0HAbEQFnoECAEQAg&amp;usg=AOvVaw1IjMXaLsOIffkrgTXpF0uY\"><div class=\"DnJfK\"><div class=\"j039Wc\"><h3 class=\"zBAuLc l97dzf\"><div class=\"BNeawe vvjwJb AP7Wnd\">Google 翻译</div></h3></div><div class=\"sCuL3\"><div class=\"BNeawe UPmit AP7Wnd lRVwie\">translate.google.com › ...</div></div></div></a></div><div class=\"kCrYT\"><div><div class=\"BNeawe s3v9rd AP7Wnd\"><div><div><div class=\"BNeawe s3v9rd AP7Wnd\">Google 免费提供的这项服务可在简体中文和其他100 多种语言之间即时翻译字词、短语和网页。</div></div></div></div></div></div></div></div><div><div class=\"Gx5Zad xpd EtOod pkphOe\"><div class=\"K8tyEc\"><div class=\"mEUgP\"><span><div class=\"BNeawe\">People also search for</div></span></div></div><div><div class=\"gGQDvd iIWm4b\"><a class=\"Q71vJc\" data-ved=\"2ahUKEwi0oufen6OIAxU5QjABHa0HAbEQ1QJ6BAgIEAI\" href=\"/search?sca_esv=ff35baf6a28594a4&amp;sca_upv=1&amp;ie=UTF-8&amp;q=%E6%B0%94%E8%AF%8D%E8%AF%AD&amp;sa=X&amp;ved=2ahUKEwi0oufen6OIAxU5QjABHa0HAbEQ1QJ6BAgIEAI\"><accordion-entry-search-icon class=\"toMBf\"><span><img alt=\"\" class=\"OEaqif\" data-deferred=\"1\" id=\"dimg_1\" src=\"data:image/gif;base64,R0lGODlhAQABAIAAAP///////yH5BAEKAAEALAAAAAABAAEAAAICTAEAOw==\" style=\"max-width:20px;max-height:20px\"/></span></accordion-entry-search-icon><div class=\"kjGX2\"><span class=\"Xe4YD\"><div class=\"BNeawe lRVwie\">气词语</div></span></div></a></div></div><div class=\"x54gtf\"></div><div><div class=\"gGQDvd iIWm4b\"><a class=\"Q71vJc\" data-ved=\"2ahUKEwi0oufen6OIAxU5QjABHa0HAbEQ1QJ6BAgIEAQ\" href=\"/search?sca_esv=ff35baf6a28594a4&amp;sca_upv=1&amp;ie=UTF-8&amp;q=%E6%B0%94%E7%9A%84%E6%8B%BC%E9%9F%B3&amp;sa=X&amp;ved=2ahUKEwi0oufen6OIAxU5QjABHa0HAbEQ1QJ6BAgIEAQ\"><accordion-entry-search-icon class=\"toMBf\"><span><img alt=\"\" class=\"OEaqif\" data-deferred=\"1\" id=\"dimg_3\" src=\"data:image/gif;base64,R0lGODlhAQABAIAAAP///////yH5BAEKAAEALAAAAAABAAEAAAICTAEAOw==\" style=\"max-width:20px;max-height:20px\"/></span></accordion-entry-search-icon><div class=\"kjGX2\"><span class=\"Xe4YD\"><div class=\"BNeawe lRVwie\">气的拼音</div></span></div></a></div></div><div class=\"x54gtf\"></div><div><div class=\"gGQDvd iIWm4b\"><a class=\"Q71vJc\" data-ved=\"2ahUKEwi0oufen6OIAxU5QjABHa0HAbEQ1QJ6BAgIEAY\" href=\"/search?sca_esv=ff35baf6a28594a4&amp;sca_upv=1&amp;ie=UTF-8&amp;q=%E6%B0%94%E7%9A%84%E7%AC%94%E7%94%BB&amp;sa=X&amp;ved=2ahUKEwi0oufen6OIAxU5QjABHa0HAbEQ1QJ6BAgIEAY\"><accordion-entry-search-icon class=\"toMBf\"><span><img alt=\"\" class=\"OEaqif\" data-deferred=\"1\" id=\"dimg_5\" src=\"data:image/gif;base64,R0lGODlhAQABAIAAAP///////yH5BAEKAAEALAAAAAABAAEAAAICTAEAOw==\" style=\"max-width:20px;max-height:20px\"/></span></accordion-entry-search-icon><div class=\"kjGX2\"><span class=\"Xe4YD\"><div class=\"BNeawe lRVwie\">气的笔画</div></span></div></a></div></div><div class=\"x54gtf\"></div><div><div class=\"gGQDvd iIWm4b\"><a class=\"Q71vJc\" data-ved=\"2ahUKEwi0oufen6OIAxU5QjABHa0HAbEQ1QJ6BAgIEAg\" href=\"/search?sca_esv=ff35baf6a28594a4&amp;sca_upv=1&amp;ie=UTF-8&amp;q=%E6%B0%A3&amp;sa=X&amp;ved=2ahUKEwi0oufen6OIAxU5QjABHa0HAbEQ1QJ6BAgIEAg\"><accordion-entry-search-icon class=\"toMBf\"><span><img alt=\"\" class=\"OEaqif\" data-deferred=\"1\" id=\"dimg_7\" src=\"data:image/gif;base64,R0lGODlhAQABAIAAAP///////yH5BAEKAAEALAAAAAABAAEAAAICTAEAOw==\" style=\"max-width:20px;max-height:20px\"/></span></accordion-entry-search-icon><div class=\"kjGX2\"><span class=\"Xe4YD\"><div class=\"BNeawe lRVwie\">氣</div></span></div></a></div></div><div class=\"x54gtf\"></div><div><div class=\"gGQDvd iIWm4b\"><a class=\"Q71vJc\" data-ved=\"2ahUKEwi0oufen6OIAxU5QjABHa0HAbEQ1QJ6BAgIEAo\" href=\"/search?sca_esv=ff35baf6a28594a4&amp;sca_upv=1&amp;ie=UTF-8&amp;q=%E6%B0%94%E9%81%93%E5%AE%B6&amp;sa=X&amp;ved=2ahUKEwi0oufen6OIAxU5QjABHa0HAbEQ1QJ6BAgIEAo\"><accordion-entry-search-icon class=\"toMBf\"><span><img alt=\"\" class=\"OEaqif\" data-deferred=\"1\" id=\"dimg_9\" src=\"data:image/gif;base64,R0lGODlhAQABAIAAAP///////yH5BAEKAAEALAAAAAABAAEAAAICTAEAOw==\" style=\"max-width:20px;max-height:20px\"/></span></accordion-entry-search-icon><div class=\"kjGX2\"><span class=\"Xe4YD\"><div class=\"BNeawe lRVwie\">气道家</div></span></div></a></div></div><div class=\"x54gtf\"></div><div><div class=\"gGQDvd iIWm4b\"><a class=\"Q71vJc\" data-ved=\"2ahUKEwi0oufen6OIAxU5QjABHa0HAbEQ1QJ6BAgIEAw\" href=\"/search?sca_esv=ff35baf6a28594a4&amp;sca_upv=1&amp;ie=UTF-8&amp;q=%E6%B0%94%E6%9E%84%E8%AF%8D&amp;sa=X&amp;ved=2ahUKEwi0oufen6OIAxU5QjABHa0HAbEQ1QJ6BAgIEAw\"><accordion-entry-search-icon class=\"toMBf\"><span><img alt=\"\" class=\"OEaqif\" data-deferred=\"1\" id=\"dimg_11\" src=\"data:image/gif;base64,R0lGODlhAQABAIAAAP///////yH5BAEKAAEALAAAAAABAAEAAAICTAEAOw==\" style=\"max-width:20px;max-height:20px\"/></span></accordion-entry-search-icon><div class=\"kjGX2\"><span class=\"Xe4YD\"><div class=\"BNeawe lRVwie\">气构词</div></span></div></a></div></div><div class=\"x54gtf\"></div><div><div class=\"gGQDvd iIWm4b\"><a class=\"Q71vJc\" data-ved=\"2ahUKEwi0oufen6OIAxU5QjABHa0HAbEQ1QJ6BAgIEA4\" href=\"/search?sca_esv=ff35baf6a28594a4&amp;sca_upv=1&amp;ie=UTF-8&amp;q=%E6%B0%94%E7%9A%84%E6%88%90%E8%AF%AD&amp;sa=X&amp;ved=2ahUKEwi0oufen6OIAxU5QjABHa0HAbEQ1QJ6BAgIEA4\"><accordion-entry-search-icon class=\"toMBf\"><span><img alt=\"\" class=\"OEaqif\" data-deferred=\"1\" id=\"dimg_13\" src=\"data:image/gif;base64,R0lGODlhAQABAIAAAP///////yH5BAEKAAEALAAAAAABAAEAAAICTAEAOw==\" style=\"max-width:20px;max-height:20px\"/></span></accordion-entry-search-icon><div class=\"kjGX2\"><span class=\"Xe4YD\"><div class=\"BNeawe lRVwie\">气的成语</div></span></div></a></div></div><div class=\"x54gtf\"></div><div><div class=\"gGQDvd iIWm4b\"><a class=\"Q71vJc\" data-ved=\"2ahUKEwi0oufen6OIAxU5QjABHa0HAbEQ1QJ6BAgIEBA\" href=\"/search?sca_esv=ff35baf6a28594a4&amp;sca_upv=1&amp;ie=UTF-8&amp;q=%E6%B0%94%E7%B9%81%E4%BD%93&amp;sa=X&amp;ved=2ahUKEwi0oufen6OIAxU5QjABHa0HAbEQ1QJ6BAgIEBA\"><accordion-entry-search-icon class=\"toMBf\"><span><img alt=\"\" class=\"OEaqif\" data-deferred=\"1\" id=\"dimg_15\" src=\"data:image/gif;base64,R0lGODlhAQABAIAAAP///////yH5BAEKAAEALAAAAAABAAEAAAICTAEAOw==\" style=\"max-width:20px;max-height:20px\"/></span></accordion-entry-search-icon><div class=\"kjGX2\"><span class=\"Xe4YD\"><div class=\"BNeawe lRVwie\">气繁体</div></span></div></a></div></div></div></div><footer> <div> <div class=\"Gx5Zad xpd EtOod pkphOe BmP5tf\"><div class=\"nMymef Va3FIb lVm3ye\"><a aria-label=\"Next page\" class=\"nBDE1b G5eFlf\" href=\"/search?q=baidu+%E6%B0%94&amp;sca_esv=ff35baf6a28594a4&amp;sca_upv=1&amp;ie=UTF-8&amp;ei=nyfVZvTWH7mEwbkPrY-EiAs&amp;start=10&amp;sa=N\">Next &gt;</a></div></div> </div> <div id=\"EOlPnc\"><div class=\"Srfpq\"><div><span class=\"EYqSq unknown_loc\"></span><span class=\"dfB0uf\">Morrisville, North Carolina</span></div><span>From your IP address</span><span> - </span><a aria-label=\"Learn more about this location\" class=\"IffyKc\" href=\"/url?q=https://support.google.com/websearch%3Fp%3Dws_settings_location%26hl%3Den&amp;opi=89978449&amp;sa=U&amp;ved=0ahUKEwi0oufen6OIAxU5QjABHa0HAbEQty4IbQ&amp;usg=AOvVaw3KJZnxhOG8q469EExFswZ_\" tabindex=\"0\">Learn more</a></div><div><a href=\"/url?q=https://accounts.google.com/ServiceLogin%3Fcontinue%3Dhttps://www.google.com/search%253Fq%253Dbaidu%252B%2525E6%2525B0%252594%26hl%3Den&amp;opi=89978449&amp;sa=U&amp;ved=0ahUKEwi0oufen6OIAxU5QjABHa0HAbEQxs8CCG4&amp;usg=AOvVaw3DiH3HWDbeq-6JudUIhYeb\">Sign in</a></div><div><a class=\"xeDNfc\" href=\"https://www.google.com/preferences?hl=en&amp;fg=1&amp;sa=X&amp;ved=0ahUKEwi0oufen6OIAxU5QjABHa0HAbEQ5fUCCG8\">Settings</a><a class=\"xeDNfc\" href=\"https://policies.google.com/privacy?hl=en&amp;fg=1\">Privacy</a><a class=\"xeDNfc\" href=\"https://policies.google.com/terms?hl=en&amp;fg=1\">Terms</a><a class=\"xeDNfc\" href=\"/setprefs?hl=en&amp;prev=https://www.google.com/search?q%3Dbaidu%2B%25E6%25B0%2594%26pccc%3D1&amp;sig=0_41yn9QLkMtAez2VRH9u1vGwMsro%3D&amp;cs=2&amp;sa=X&amp;ved=0ahUKEwi0oufen6OIAxU5QjABHa0HAbEQjcAJCHA\">Dark theme: Off</a></div></div> </footer><script nonce=\"pUTRbikb6BrAP-t4SwPVrQ\">(function(){var hl='en';(function(){\n",
       "var f=this||self,g=function(a){return a};var l=function(a,b){this.g=a===h&&b||\"\";this.i=k};l.prototype.toString=function(){return this.g};var m=function(a){return a instanceof l&&a.constructor===l&&a.i===k?a.g:\"type_error:Const\"},k={},h={};var p,q=function(){if(p===void 0){var a=null,b=f.trustedTypes;if(b&&b.createPolicy){try{a=b.createPolicy(\"goog#html\",{createHTML:g,createScript:g,createScriptURL:g})}catch(c){f.console&&f.console.error(c.message)}p=a}else p=a}return p};var r={},t=function(a){this.g=a};t.prototype.toString=function(){return this.g+\"\"};var u=function(a){return a instanceof t&&a.constructor===t?a.g:\"type_error:TrustedResourceUrl\"},y=function(){var a={},b=m(new l(h,\"/complete/search\"));if(!v.test(b))throw Error(\"e`\"+b);var c=b.replace(w,function(e,d){if(!Object.prototype.hasOwnProperty.call(a,d))throw Error(\"f`\"+d+\"`\"+b+\"`\"+JSON.stringify(a));e=a[d];return e instanceof l?m(e):encodeURIComponent(String(e))});return x(c)},w=/%{(\\w+)}/g,v=RegExp(\"^((https:)?//[0-9a-z.:[\\\\]-]+/|/[^/\\\\\\\\]|[^:/\\\\\\\\%]+/|[^:/\\\\\\\\%]*[?#]|about:blank#)\",\"i\"),z=/^([^?#]*)(\\?[^#]*)?(#[\\s\\S]*)?/,x=function(a){var b=q();a=b?b.createScriptURL(a):a;return new t(a,r)},A=function(a,b,c){if(c==null)return b;if(typeof c===\"string\")return c?a+encodeURIComponent(c):\"\";for(var e in c)if(Object.prototype.hasOwnProperty.call(c,e)){var d=c[e];d=Array.isArray(d)?d:[d];for(var n=0;n<d.length;n++){var O=d[n];O!=null&&(b||(b=a),b+=(b.length>a.length?\"&\":\"\")+encodeURIComponent(e)+\"=\"+encodeURIComponent(String(O)))}}return b};\n",
       "var B=function(a){this.g=a};B.prototype.toString=function(){return this.g+\"\"};function C(a,b){if(a.nodeType===1){var c=a.tagName;if(c===\"SCRIPT\"||c===\"STYLE\")throw Error(\"g\");}if(b instanceof B)b=b.g;else throw Error(\"g\");a.innerHTML=b};function D(a){a=a===null?\"null\":a===void 0?\"undefined\":a;var b=q();return new B(b?b.createHTML(a):a)};var E=document.querySelector(\".l\"),F=document.querySelector(\"#sf\"),G=F.querySelector(\".sbc\"),H=F.querySelector(\"[type=text]\"),I=F.querySelector(\"[type=submit]\"),J=F.querySelector(\".sc\"),K=F.querySelector(\".x\"),L=H.value,M=[],N=-1,P=L,Q,R,S;L||(K&&(K.style.display=\"none\"),T(!1));function T(a){if(G.classList.contains(\"esbc\")){var b=G.classList.contains(\"chsbc\"),c=G.classList.contains(\"rtlsbc\");a&&(J.style.display=\"block\",b?(F.style.borderRadius=\"20px 20px 0 0\",J.style.borderBottom=\"1px solid #DFE1E5\",I.style.borderRadius=c?\"20px 0 0 0\":\"0 20px 0 0\"):G.style.borderRadius=c?\"0 8px 0 0\":\"8px 0 0 0\");a||(J.style.display=\"none\",b?(F.style.borderRadius=\"20px\",J.style.borderBottom=\"none\",I.style.borderRadius=c?\"20px 0 0 20px\":\"0 20px 20px 0\"):G.style.borderRadius=c?\"0 8px 8px 0\":\"8px 0 0 8px\")}}function U(){F.querySelector(\"[name=oq]\").value=P;F.querySelector(\"[name=aqs]\").value=\"heirloom-srp.\"+(N>=0?N:\"\")+\".\"+(M.length>0?\"0l\"+M.length:\"\")}\n",
       "function V(){Q=null;if(R){var a={client:\"heirloom-srp\",hl:hl,json:\"t\",callback:\"hS\",q:R};typeof ds!==\"undefined\"&&ds&&(a.ds=ds);var b=document;var c=\"SCRIPT\";b.contentType===\"application/xhtml+xml\"&&(c=c.toLowerCase());c=b.createElement(c);b=y();b=z.exec(u(b).toString());var e=b[3]||\"\";a=x(b[1]+A(\"?\",b[2]||\"\",a)+A(\"#\",e));c.src=u(a);var d,n;(d=(a=(n=(d=(c.ownerDocument&&c.ownerDocument.defaultView||window).document).querySelector)==null?void 0:n.call(d,\"script[nonce]\"))?a.nonce||a.getAttribute(\"nonce\")||\n",
       "\"\":\"\")&&c.setAttribute(\"nonce\",d);document.body.appendChild(c);R=null;Q=setTimeout(V,500)}}function W(){for(;J.firstChild;)J.removeChild(J.firstChild);M=[];N=-1;T(!1)}function X(){var a=J.querySelector(\".scs\");a&&(a.className=\"\");N>=0?(a=J.childNodes[N],a.className=\"scs\",L=a.textContent):L=P;H.value=L}H.addEventListener(\"focus\",function(){E&&(E.style.display=\"none\")},!1);H.addEventListener(\"blur\",function(){W();E&&(E.style.display=\"\")},!1);H.addEventListener(\"keyup\",function(a){L=H.value;S=!1;a.which===13?U():a.which===27?(W(),E&&(E.style.display=\"\"),L=P,H.value=L):a.which===40?(N++,N>=M.length&&(N=-1),X()):a.which===38?(N--,N<-1&&(N=M.length-1),X()):(a=L)?(K&&(K.style.display=\"\"),R=a,Q||V(),P=a):(K&&(K.style.display=\"none\"),T(!1),W(),P=\"\",S=!0)},!1);I.addEventListener(\"click\",U,!1);K.addEventListener(\"click\",function(){H.value=\"\";K.style.display=\"none\";T(!1)},!1);G.addEventListener(\"click\",function(){H.focus()},!1);window.hS=function(a){if(!S){W();a[1].length===0&&T(!1);for(var b=0;b<a[1].length;b++){var c=a[1][b][0],e=document.createElement(\"div\");C(e,D(c));e.addEventListener(\"mousedown\",function(d){d.preventDefault();return!1},!1);c=c.replace(/<\\/?b>/g,\"\");e.addEventListener(\"click\",function(d){return function(){N=d;U();X();W();F.submit()}}(b),!1);e.addEventListener(\"mouseover\",function(d){return function(){N!==d&&(N=d,X())}}(b),!1);J.appendChild(e);T(!0);M.push(c)}}};}).call(this);})();(function(){function b(a){for(a=a.target||a.srcElement;a&&a.nodeName!==\"A\";)a=a.parentElement;a&&(a.href||\"\").match(/\\/search.*[?&]tbm=isch/)&&(a.href+=\"&biw=\"+document.documentElement.clientWidth,a.href+=\"&bih=\"+document.documentElement.clientHeight)}document.addEventListener(\"click\",b,!1);document.addEventListener(\"touchStart\",b,!1);}).call(this);</script></div><!-- cctlcm 5 cctlcm --><textarea class=\"csi\" name=\"csi\" style=\"display:none\"></textarea><script nonce=\"pUTRbikb6BrAP-t4SwPVrQ\">(function(){var e='nyfVZvTWH7mEwbkPrY-EiAs';var sn='web';var timl=false;(function(){function C(a){if(!a||D(a))return 0;if(!a.getBoundingClientRect)return 1;var c=function(b){return b.getBoundingClientRect()};return E(a,c)?0:K(a,c)}function E(a,c){var b;a:{for(b=a;b&&b!==null;b=b.parentElement)if(b.style.overflow===\"hidden\"||b.tagName===\"G-EXPANDABLE-CONTENT\"&&getComputedStyle(b).getPropertyValue(\"overflow\")===\"hidden\")break a;b=null}if(!b)return!1;a=c(a);c=c(b);return a.bottom<c.top||a.top>=c.bottom||a.right<c.left||a.left>=c.right}\n",
       "function D(a){return a.style.display===\"none\"?!0:document.defaultView&&document.defaultView.getComputedStyle?(a=document.defaultView.getComputedStyle(a),!!a&&(a.visibility===\"hidden\"||a.height===\"0px\"&&a.width===\"0px\")):!1}\n",
       "function K(a,c){var b=c(a);a=b.left+window.pageXOffset;c=b.top+window.pageYOffset;var d=b.width;b=b.height;var f=0;if(b<=0&&d<=0)return f;var q=window.innerHeight||document.documentElement.clientHeight;c+b<0?f=2:c>=q&&(f=4);if(a+d<0||a>=(window.innerWidth||document.documentElement.clientWidth))f|=8;f||(f=1,c+b>q&&(f|=4));return f};var L=e,M=sn,N=typeof de===\"undefined\"?!0:de!==!1,O=[];function P(a,c,b){a=\"/gen_204?atyp=csi&s=\"+M+\"&t=\"+a+(\"&lite=1&ei=\"+L+\"&conn=\"+(window.navigator&&window.navigator.connection?window.navigator.connection.type:-1)+c);c=\"&rt=\";for(var d in b)a+=\"\"+c+d+\".\"+b[d],c=\",\";return a}function Q(a){a={prt:a};window.wsrt&&(a.wsrt=window.wsrt);return a}function R(a){window.ping?window.ping(a):(new Image).src=a}\n",
       "(function(){for(var a=(new Date).getTime()-window.start,c=Q(a),b=0,d=0,f=0,q=document.getElementsByTagName(\"img\"),r=N?\"&biw=\"+window.innerWidth+\"&bih=\"+window.innerHeight:\"\",F=function(){r+=\"&ima=\"+f;c.aft=b;R(P(\"aft\",r,c))},y=0,S=function(g,t,u){var n=g.src;g.onload=function(){u&&n&&n===g.src||(d=(new Date).getTime()-window.start,t&&++y===f&&(b=d,F()),g.onload=null)}},T=0,h=void 0;h=q[T++];){var v=C(h),p=!!(v&1);p&&++f;var l=h.hasAttribute(\"data-ilite\"),w=h.hasAttribute(\"data-deferred\"),G=h.hasAttribute(\"data-src\")||\n",
       "h.hasAttribute(\"data-lzysrc\"),z=!w&&!l&&G;O.push([v,w||l,z,h.id,l&&G]);l=(v=h.complete&&!w&&!(p&&z))&&Number(h.getAttribute(\"data-iml\"))||0;v&&l?(p&&++y,l&&(h=l-window.start,p&&(b=Math.max(b,h)),d=Math.max(d,h))):S(h,p,w||z)}b||(b=a);d||(d=b);y===f&&F();google.rglh&&google.rglh();window.addEventListener(\"load\",function(){window.setTimeout(function(){c.ol=(new Date).getTime()-window.start;timl&&(c.iml=d);var g=window.performance&&window.performance.timing;g&&(c.rqst=g.responseEnd-g.requestStart,c.rspt=\n",
       "g.responseEnd-g.responseStart);for(var t=g=0,u=0,n=0,H=0,I=0,U=0,k;k=O[U++];){var m=k[0],A=k[1],J=k[2],x=k[3];k=k[4]||google.ldi&&x&&google.ldi[x];x=m==0;var V=m&8,B=m&1;m=!B&&m&4;B&&(A&&!k||++u,J&&++I);A&&(B&&k&&++g,m&&!k&&++t);x||V?J||++H:A||++n}r+=\"&ime=\"+u+\"&imel=\"+I+(\"&imex=\"+n+\"&imeh=\"+H)+(\"&imea=\"+g+\"&imeb=\"+t);R(P(\"all\",r,c))},0)},!1)})();}).call(this);})();(function(){window.google=window.google||{};window.google.ishk=[];function a(){return window.scrollY+window.document.documentElement.clientHeight>=Math.max(document.body.scrollHeight,document.body.offsetHeight)}function b(){a()&&window.google.ishk.length===0&&(window.google.bs=!0,window.removeEventListener(\"scroll\",b))}a()?window.google.bs=!0:(window.google.bs=!1,window.addEventListener(\"scroll\",b));}).call(this);</script><script nonce=\"pUTRbikb6BrAP-t4SwPVrQ\">window._setImagesSrc=function(k,e,n){function l(b){b.onerror=function(){b.style.display=\"none\"};b.setAttribute(\"data-deferred\",\"2\");e.substring(0,5)!==\"data:\"&&b.setAttribute(\"data-defe\",\"1\");b.src=e;var g;((g=google.c)==null?0:g.di)&&b.decode()}function m(b,g){google.iir=google.iir||{};google.iir[b]=g}for(var d={},h=0;h<k.length;d={g:void 0},++h){var f=k[h];d.g=document.getElementById(f)||document.querySelector('img[data-iid=\"'+f+'\"]');if(d.g){var c=void 0,a=void 0;if((a=google.c)==null?0:a.setup)c=\n",
       "google.c.setup(d.g);c=c!=null&&c&1;a=void 0;((a=google.c)==null?void 0:a.doiu)!==1||c?(a=void 0,((a=google.c)==null?void 0:a.doiu)!==2||n||c?(a=void 0,((a=google.c)==null?void 0:a.doiu)!==3||c?l(d.g):(google.doid=google.doid||{},google.doid[f]=e)):m(f,e)):google.caft(function(b){return function(){l(b.g)}}(d))}else m(f,e)}};typeof window.google===\"undefined\"&&(window.google={});</script><script nonce=\"pUTRbikb6BrAP-t4SwPVrQ\">(function(){var s='data:image/png;base64,iVBORw0KGgoAAAANSUhEUgAAABQAAAAUCAYAAACNiR0NAAABAUlEQVR4AWMYesChoYElLjkzPj4lY3d8csZjIL4MxPNjUzPcSTYsISFLAqj5NBD/h+LPQPwbiT87NCuLh2gDgRr2QzXuT0jNMoBYksARn5zuHJ+UcR0kB6RXE2VYXHJGOlTDZmzyIJcB5e+D1CSkZDgQNBAaZv+jU1JkcKpJygiGeZ0I76a/Byq8jU9NZFqaCNTA48SE33/iDcw8TIyBt0GKQTFN0Msp6f2EIyUpo57YSIlLSrMhIg0WCIBcCfXSdlzJBsheTHQ6jEnOUgEFOLaEDbMIlhZBOYrorAdJk+nroVnvPsSgdGdoOF7HZyhZ2XPoGQoqjbCpIbt0AiejIQMArVLI7k/DXFkAAAAASUVORK5CYII\\x3d';var i=['dimg_1','dimg_3','dimg_5','dimg_7','dimg_9','dimg_11','dimg_13','dimg_15'];_setImagesSrc(i,s);})();</script><script nonce=\"pUTRbikb6BrAP-t4SwPVrQ\">(function(){var e='nyfVZvTWH7mEwbkPrY-EiAs';(function(){var a=e;if((window.performance&&window.performance.navigation&&window.performance.navigation.type)===2){var b=\"\",c=[],d=window.google!==void 0&&window.google.kOPI!==void 0&&window.google.kOPI!==0?window.google.kOPI:null;d!=null&&c.push([\"opi\",d.toString()]);for(var f=0;f<c.length;f++){if(f===0||f>0)b+=\"&\";b+=c[f][0]+\"=\"+c[f][1]}window.ping(\"/gen_204?ct=backbutton&ei=\"+a+b)};}).call(this);})();(function(){function b(){for(var a=google.drc.shift();a;)a(),a=google.drc.shift()};google.drc=[function(){google.tick&&google.tick(\"load\",\"dcl\")}];google.dclc=function(a){google.drc.length?google.drc.push(a):a()};window.addEventListener?(document.addEventListener(\"DOMContentLoaded\",b,!1),window.addEventListener(\"load\",b,!1)):window.attachEvent&&window.attachEvent(\"onload\",b);}).call(this);(function(){var b=function(a){var c=0;return function(){return c<a.length?{done:!1,value:a[c++]}:{done:!0}}};\n",
       "var e=this||self;var g,h;a:{for(var k=[\"CLOSURE_FLAGS\"],l=e,n=0;n<k.length;n++)if(l=l[k[n]],l==null){h=null;break a}h=l}var p=h&&h[610401301];g=p!=null?p:!1;var q,r=e.navigator;q=r?r.userAgentData||null:null;function t(a){return g?q?q.brands.some(function(c){return(c=c.brand)&&c.indexOf(a)!=-1}):!1:!1}function u(a){var c;a:{if(c=e.navigator)if(c=c.userAgent)break a;c=\"\"}return c.indexOf(a)!=-1};function v(){return g?!!q&&q.brands.length>0:!1}function w(){return u(\"Safari\")&&!(x()||(v()?0:u(\"Coast\"))||(v()?0:u(\"Opera\"))||(v()?0:u(\"Edge\"))||(v()?t(\"Microsoft Edge\"):u(\"Edg/\"))||(v()?t(\"Opera\"):u(\"OPR\"))||u(\"Firefox\")||u(\"FxiOS\")||u(\"Silk\")||u(\"Android\"))}function x(){return v()?t(\"Chromium\"):(u(\"Chrome\")||u(\"CriOS\"))&&!(v()?0:u(\"Edge\"))||u(\"Silk\")}function y(){return u(\"Android\")&&!(x()||u(\"Firefox\")||u(\"FxiOS\")||(v()?0:u(\"Opera\"))||u(\"Silk\"))};var z=v()?!1:u(\"Trident\")||u(\"MSIE\");y();x();w();var A=!z&&!w(),D=function(a){if(/-[a-z]/.test(\"ved\"))return null;if(A&&a.dataset){if(y()&&!(\"ved\"in a.dataset))return null;a=a.dataset.ved;return a===void 0?null:a}return a.getAttribute(\"data-\"+\"ved\".replace(/([A-Z])/g,\"-$1\").toLowerCase())};var E=[],F=null;function G(a){a=a.target;var c=performance.now(),f=[],H=f.concat,d=E;if(!(d instanceof Array)){var m=typeof Symbol!=\"undefined\"&&Symbol.iterator&&d[Symbol.iterator];if(m)d=m.call(d);else if(typeof d.length==\"number\")d={next:b(d)};else throw Error(\"b`\"+String(d));for(var B=[];!(m=d.next()).done;)B.push(m.value);d=B}E=H.call(f,d,[c]);if(a&&a instanceof HTMLElement)if(a===F){if(c=E.length>=4)c=(E[E.length-1]-E[E.length-4])/1E3<5;if(c){c=google.getEI(a);a.hasAttribute(\"data-ved\")?f=a?D(a)||\"\":\"\":f=(f=\n",
       "a.closest(\"[data-ved]\"))?D(f)||\"\":\"\";f=f||\"\";if(a.hasAttribute(\"jsname\"))a=a.getAttribute(\"jsname\");else{var C;a=(C=a.closest(\"[jsname]\"))==null?void 0:C.getAttribute(\"jsname\")}google.log(\"rcm\",\"&ei=\"+c+\"&tgtved=\"+f+\"&jsname=\"+(a||\"\"))}}else F=a,E=[c]}window.document.addEventListener(\"DOMContentLoaded\",function(){document.body.addEventListener(\"click\",G)});}).call(this);var w=function(a){var b=0;return function(){return b<a.length?{done:!1,value:a[b++]}:{done:!0}}};window.jsl=window.jsl||{};window.jsl.dh=function(a,b,m){try{var h=document.getElementById(a),e;if(!h&&((e=google.stvsc)==null?0:e.dds)){e=[];var f=e.concat,c=google.stvsc.dds;if(c instanceof Array)var n=c;else{var p=typeof Symbol!=\"undefined\"&&Symbol.iterator&&c[Symbol.iterator];if(p)var g=p.call(c);else if(typeof c.length==\"number\")g={next:w(c)};else throw Error(String(c)+\" is not an iterable or ArrayLike\");c=g;var q;for(g=[];!(q=c.next()).done;)g.push(q.value);n=g}var r=f.call(e,n);for(f=0;f<r.length&&!(h=r[f].getElementById(a));f++);}if(h)h.innerHTML=b,m&&m();else{var d={id:a,script:String(!!m),milestone:String(google.jslm||0)};google.jsla&&(d.async=google.jsla);var t=a.indexOf(\"_\"),k=t>0?a.substring(0,t):\"\",u=document.createElement(\"div\");u.innerHTML=b;var l=u.children[0];if(l&&(d.tag=l.tagName,d[\"class\"]=String(l.className||null),d.name=String(l.getAttribute(\"jsname\")),k)){a=[];var v=document.querySelectorAll('[id^=\"'+k+'_\"]');for(b=0;b<v.length;++b)a.push(v[b].id);d.ids=a.join(\",\")}google.ml(Error(k?\"Missing ID with prefix \"+\n",
       "k:\"Missing ID\"),!1,d)}}catch(x){google.ml(x,!0,{\"jsl.dh\":!0})}};(function(){var x=false;google.jslm=x?2:1;})();(function(){(function(){google.csct={};google.csct.ps='AOvVaw3uanYDe5FIFVATJFFAm61q\\x26ust\\x3d1725331743543606';})();})();(function(){(function(){google.csct.rd=true;})();})();(function(){window.xp=function(b){function f(k,g,h){return\"xp\"+(g==\"x\"?\"c\":\"x\")+h}for(var c=/\\bxp(x|c)(\\d?)\\b/,a=b;a;){var e=a.className,d=e.match(c);if(d){d=d[1]==\"c\";a.className=e.replace(c,f);b&&b.setAttribute(\"aria-expanded\",d);if(d)for(b=a.getElementsByTagName(\"img\"),c=0;c<b.length;++c)if(a=b[c],e=a.getAttribute(\"data-ll\"))a.src=e,a.removeAttribute(\"data-ll\");break}a=a.parentElement}};})();(function(){(function(){window.logVe=function(a){a&&a.attributes[\"data-ved\"]&&window.ping(\"/gen_204?ved=\"+a.attributes[\"data-ved\"].value)};}).call(this);})();(function(){(function(){var id='tsuid_1';var lve=true;(function(){\n",
       "var e=typeof navigator!==\"undefined\"&&!/Opera/.test(navigator.userAgent)&&/WebKit/.test(navigator.userAgent),f={A:1,INPUT:1,TEXTAREA:1,SELECT:1,BUTTON:1},g={Enter:13,\" \":32},h={A:13,BUTTON:0,CHECKBOX:32,COMBOBOX:13,FILE:0,GRIDCELL:13,LINK:13,LISTBOX:13,MENU:0,MENUBAR:0,MENUITEM:0,MENUITEMCHECKBOX:0,MENUITEMRADIO:0,OPTION:0,RADIO:32,RADIOGROUP:32,RESET:0,SUBMIT:0,SWITCH:32,TAB:0,TREE:13,TREEITEM:13},k={CHECKBOX:!0,FILE:!0,OPTION:!0,RADIO:!0},l={COLOR:!0,DATE:!0,DATETIME:!0,\"DATETIME-LOCAL\":!0,EMAIL:!0,MONTH:!0,NUMBER:!0,PASSWORD:!0,RANGE:!0,SEARCH:!0,TEL:!0,TEXT:!0,TEXTAREA:!0,TIME:!0,URL:!0,WEEK:!0};document.getElementById(id).onclick=function(){window.xp(this);lve&&window.logVe(this)};document.getElementById(id).onkeydown=function(d){var c=d.which||d.keyCode;!c&&d.key&&(c=g[d.key]);e&&c===3&&(c=13);if(c!==13&&c!==32)c=!1;else{var a=d.target;!a.getAttribute&&a.parentNode&&(a=a.parentNode);var b;if(!(b=d.type!==\"keydown\")){if(b=\"getAttribute\"in a)b=!((a.getAttribute(\"type\")||a.tagName).toUpperCase()in l);b=!(b&&!(a.tagName.toUpperCase()===\"BUTTON\"||a.type&&a.type.toUpperCase()===\"FILE\")&&!a.isContentEditable)}(b=b||d.ctrlKey||d.shiftKey||d.altKey||d.metaKey||(a.getAttribute(\"type\")||\n",
       "a.tagName).toUpperCase()in k&&c===32)||((b=a.tagName in f)||(b=a.getAttributeNode(\"tabindex\"),b=b!=null&&b.specified),b=!(b&&!a.disabled));if(b)c=!1;else{b=(a.getAttribute(\"role\")||a.type||a.tagName).toUpperCase();var m=!(b in h)&&c===13;a=a.tagName.toUpperCase()!==\"INPUT\"||!!a.type;c=(h[b]%c===0||m)&&a}}c&&(d.preventDefault(),window.xp(this),lve&&window.logVe(this))};}).call(this);})();})();(function(){window.jsl=window.jsl||{};window.jsl.dh=window.jsl.dh||function(i,c,d){try{var e=document.getElementById(i);if(e){e.innerHTML=c;if(d){d();}}else{if(window.jsl.el){window.jsl.el(new Error('Missing ID.'),{'id':i});}}}catch(e){if(window.jsl.el){window.jsl.el(new Error('jsl.dh'));}}};})();(function(){window.jsl.dh('accdef_1','\\x3cdiv\\x3e\\x3cdiv style\\x3d\\x22padding-bottom:12px;padding-top:0px\\x22 class\\x3d\\x22hwc kCrYT\\x22\\x3e\\x3cdiv class\\x3d\\x22yStFkb\\x22\\x3e\\x3cdiv class\\x3d\\x22Gx5Zad xpd EtOod pkphOe\\x22\\x3e\\x3cdiv class\\x3d\\x22kCrYT\\x22\\x3e\\x3cdiv class\\x3d\\x22PqksIc nRlVm\\x22\\x3e\\x3cdiv class\\x3d\\x22BNeawe\\x22\\x3e\\x3cdiv\\x3e\\x3cdiv class\\x3d\\x22BNeawe\\x22\\x3e\\u623e\\u6c14\\uff0c\\u8bfb\\u97f3\\x3cspan class\\x3d\\x22FCUp0c rQMQod\\x22\\x3el\\xec q\\xec\\x3c/span\\x3e\\uff0c\\u4e2d\\u533b\\u5b66\\u4e2d\\u6709\\u623e\\u6c14\\u4e00\\u8bf4,\\u662f\\u548c\\u6b63\\u6c14\\u76f8\\u53cd,\\u548c\\u90aa\\u6c14\\u76f8\\u5bf9\\u5e94\\u7684\\u3002\\x3c/div\\x3e\\x3c/div\\x3e\\x3c/div\\x3e\\x3c/div\\x3e\\x3c/div\\x3e\\x3cdiv class\\x3d\\x22x54gtf\\x22\\x3e\\x3c/div\\x3e\\x3cdiv class\\x3d\\x22kCrYT\\x22\\x3e\\x3ca href\\x3d\\x22/url?q\\x3dhttps://www.foundertype.com/Unnewsdetails/id/192\\x26amp;sa\\x3dU\\x26amp;ved\\x3d2ahUKEwi0oufen6OIAxU5QjABHa0HAbEQFnoECAcQBg\\x26amp;usg\\x3dAOvVaw2_mDVfgdshdI66i2onaHlS\\x22 data-ved\\x3d\\x222ahUKEwi0oufen6OIAxU5QjABHa0HAbEQFnoECAcQBg\\x22\\x3e\\x3cspan\\x3e\\x3cdiv class\\x3d\\x22BNeawe vvjwJb AP7Wnd\\x22\\x3e\\x3cspan class\\x3d\\x22rQMQod Xb5VRe\\x22\\x3e\\u623e\\u6c14\\u600e\\u4e48\\u8bfb - \\u751f\\u50fb\\u5b57\\u51b7\\u50fb\\u5b57\\u76f8\\u5173\\u8d44\\u8baf_\\u65b9\\u6b63\\u5b57\\u5e93\\x3c/span\\x3e\\x3c/div\\x3e\\x3c/span\\x3e\\x3cspan\\x3e\\x3cdiv class\\x3d\\x22BNeawe UPmit AP7Wnd\\x22\\x3ewww.foundertype.com \\u203a Unnewsdetails\\x3c/div\\x3e\\x3c/span\\x3e\\x3c/a\\x3e\\x3c/div\\x3e\\x3c/div\\x3e\\x3c/div\\x3e\\x3cdiv\\x3e\\x3cdiv class\\x3d\\x22P1NWSe\\x22\\x3e\\x3cdiv class\\x3d\\x22wOMIed nkPlDb\\x22\\x3e\\x3cspan class\\x3d\\x22JhFlyf VQFmSd\\x22\\x3e\\x3ca class\\x3d\\x22f4J0H\\x22 href\\x3d\\x22https://www.google.com/search?sca_esv\\x3dff35baf6a28594a4\\x26amp;sca_upv\\x3d1\\x26amp;ie\\x3dUTF-8\\x26amp;ei\\x3dnyfVZvTWH7mEwbkPrY-EiAs\\x26amp;q\\x3d%E6%88%BE%E6%B0%94%E6%80%8E%E4%B9%88%E8%AF%BB%EF%BC%9F\\x26amp;sa\\x3dX\\x26amp;ved\\x3d2ahUKEwi0oufen6OIAxU5QjABHa0HAbEQzmd6BAgHEAc\\x22 data-ved\\x3d\\x222ahUKEwi0oufen6OIAxU5QjABHa0HAbEQzmd6BAgHEAc\\x22\\x3eMore results\\x3c/a\\x3e\\x3c/span\\x3e\\x3c/div\\x3e\\x3c/div\\x3e\\x3c/div\\x3e\\x3c/div\\x3e\\x3c/div\\x3e');})();(function(){(function(){var id='tsuid_2';var lve=true;(function(){\n",
       "var e=typeof navigator!==\"undefined\"&&!/Opera/.test(navigator.userAgent)&&/WebKit/.test(navigator.userAgent),f={A:1,INPUT:1,TEXTAREA:1,SELECT:1,BUTTON:1},g={Enter:13,\" \":32},h={A:13,BUTTON:0,CHECKBOX:32,COMBOBOX:13,FILE:0,GRIDCELL:13,LINK:13,LISTBOX:13,MENU:0,MENUBAR:0,MENUITEM:0,MENUITEMCHECKBOX:0,MENUITEMRADIO:0,OPTION:0,RADIO:32,RADIOGROUP:32,RESET:0,SUBMIT:0,SWITCH:32,TAB:0,TREE:13,TREEITEM:13},k={CHECKBOX:!0,FILE:!0,OPTION:!0,RADIO:!0},l={COLOR:!0,DATE:!0,DATETIME:!0,\"DATETIME-LOCAL\":!0,EMAIL:!0,MONTH:!0,NUMBER:!0,PASSWORD:!0,RANGE:!0,SEARCH:!0,TEL:!0,TEXT:!0,TEXTAREA:!0,TIME:!0,URL:!0,WEEK:!0};document.getElementById(id).onclick=function(){window.xp(this);lve&&window.logVe(this)};document.getElementById(id).onkeydown=function(d){var c=d.which||d.keyCode;!c&&d.key&&(c=g[d.key]);e&&c===3&&(c=13);if(c!==13&&c!==32)c=!1;else{var a=d.target;!a.getAttribute&&a.parentNode&&(a=a.parentNode);var b;if(!(b=d.type!==\"keydown\")){if(b=\"getAttribute\"in a)b=!((a.getAttribute(\"type\")||a.tagName).toUpperCase()in l);b=!(b&&!(a.tagName.toUpperCase()===\"BUTTON\"||a.type&&a.type.toUpperCase()===\"FILE\")&&!a.isContentEditable)}(b=b||d.ctrlKey||d.shiftKey||d.altKey||d.metaKey||(a.getAttribute(\"type\")||\n",
       "a.tagName).toUpperCase()in k&&c===32)||((b=a.tagName in f)||(b=a.getAttributeNode(\"tabindex\"),b=b!=null&&b.specified),b=!(b&&!a.disabled));if(b)c=!1;else{b=(a.getAttribute(\"role\")||a.type||a.tagName).toUpperCase();var m=!(b in h)&&c===13;a=a.tagName.toUpperCase()!==\"INPUT\"||!!a.type;c=(h[b]%c===0||m)&&a}}c&&(d.preventDefault(),window.xp(this),lve&&window.logVe(this))};}).call(this);})();})();(function(){window.jsl.dh('accdef_3','\\x3cdiv\\x3e\\x3cdiv style\\x3d\\x22padding-bottom:12px;padding-top:0px\\x22 class\\x3d\\x22hwc kCrYT\\x22\\x3e\\x3cdiv class\\x3d\\x22yStFkb\\x22\\x3e\\x3cdiv class\\x3d\\x22Gx5Zad xpd EtOod pkphOe\\x22\\x3e\\x3cdiv class\\x3d\\x22kCrYT\\x22\\x3e\\x3cdiv class\\x3d\\x22PqksIc nRlVm\\x22\\x3e\\x3cdiv class\\x3d\\x22BNeawe\\x22\\x3e\\x3cdiv\\x3e\\x3cdiv class\\x3d\\x22BNeawe\\x22\\x3e\\u623e\\u6c14\\uff0c\\u67d0\\u641c\\u7d22\\u5f15\\u64ce\\u4e0a\\u662f\\u8fd9\\u4e48\\u89e3\\u91ca\\u7684\\uff1a\\u662f\\x3cspan class\\x3d\\x22FCUp0c rQMQod\\x22\\x3e\\u66b4\\u623e\\u4e4b\\u6c14\\u7684\\u610f\\u601d\\x3c/span\\x3e\\u3002 \\u5373\\u4e00\\u79cd\\u6b8b\\u5fcd\\uff0c\\u51e1\\u4e8b\\u8981\\u505a\\u5f97\\u72e0\\uff0c\\u504f\\u5411\\u8d70\\u6781\\u7aef\\u7684\\u4e00\\u79cd\\u5fc3\\u7406\\u6216\\u98ce\\u6c14\\u3002 \\u53ef\\u4ee5\\u770b\\u505a\\u6740\\u5fc3\\u91cd\\uff0c\\u6216\\u6740\\u6c14\\u7684\\u8fd1\\u4e49\\u8bcd\\uff0c\\u4f46\\u66f4\\u6307\\u5411\\u5e7f\\u6cdb\\u4e00\\u4e9b\\uff0c\\u4e0d\\u4e00\\u5b9a\\u662f\\u7269\\u8d28\\u4e0a\\u7684\\u504f\\u7231\\u6740\\u622e\\u6b8b\\u5bb3\\uff0c\\u6bd4\\u5982\\u52a8\\u4e0d\\u52a8\\u7834\\u53e3\\u5927\\u9a82\\uff0c\\u6216\\u5bf9\\u4e00\\u4e9b\\u5c0f\\u7684\\u574f\\u4e8b\\u504f\\u5411\\u4e8e\\u975e\\u5e38\\u4e25\\u5389\\u5904\\u7f5a\\u3002\\x3c/div\\x3e\\x3c/div\\x3e\\x3c/div\\x3e\\x3c/div\\x3e\\x3c/div\\x3e\\x3cdiv class\\x3d\\x22x54gtf\\x22\\x3e\\x3c/div\\x3e\\x3cdiv class\\x3d\\x22kCrYT\\x22\\x3e\\x3ca href\\x3d\\x22/url?q\\x3dhttp://opinion.cctv.com/2018/08/28/ARTI22oVKCPz94sq2hStwYmP180828.shtml\\x26amp;sa\\x3dU\\x26amp;ved\\x3d2ahUKEwi0oufen6OIAxU5QjABHa0HAbEQFnoECAcQDQ\\x26amp;usg\\x3dAOvVaw2H5b1hrZEbFav7NbuQD4Vr\\x22 data-ved\\x3d\\x222ahUKEwi0oufen6OIAxU5QjABHa0HAbEQFnoECAcQDQ\\x22\\x3e\\x3cspan\\x3e\\x3cdiv class\\x3d\\x22BNeawe vvjwJb AP7Wnd\\x22\\x3e\\x3cspan class\\x3d\\x22rQMQod Xb5VRe\\x22\\x3e\\u9762\\u5bf9\\u751f\\u6d3b\\uff0c\\u8bf7\\u5c11\\u4e00\\u5206\\u623e\\u6c14\\uff0c\\u591a\\u4e00\\u4e9b\\u8c26\\u548c - \\u8bc4\\u8bba- \\u592e\\u89c6\\u7f51\\x3c/span\\x3e\\x3c/div\\x3e\\x3c/span\\x3e\\x3cspan\\x3e\\x3cdiv class\\x3d\\x22BNeawe UPmit AP7Wnd\\x22\\x3eopinion.cctv.com \\u203a 2018/08/28\\x3c/div\\x3e\\x3c/span\\x3e\\x3c/a\\x3e\\x3c/div\\x3e\\x3c/div\\x3e\\x3c/div\\x3e\\x3cdiv\\x3e\\x3cdiv class\\x3d\\x22P1NWSe\\x22\\x3e\\x3cdiv class\\x3d\\x22wOMIed nkPlDb\\x22\\x3e\\x3cspan class\\x3d\\x22JhFlyf VQFmSd\\x22\\x3e\\x3ca class\\x3d\\x22f4J0H\\x22 href\\x3d\\x22https://www.google.com/search?sca_esv\\x3dff35baf6a28594a4\\x26amp;sca_upv\\x3d1\\x26amp;ie\\x3dUTF-8\\x26amp;ei\\x3dnyfVZvTWH7mEwbkPrY-EiAs\\x26amp;q\\x3d%E6%88%BE%E6%B0%94%E6%98%AF%E4%BB%80%E4%B9%88%E6%84%8F%E6%80%9D%EF%BC%9F\\x26amp;sa\\x3dX\\x26amp;ved\\x3d2ahUKEwi0oufen6OIAxU5QjABHa0HAbEQzmd6BAgHEA4\\x22 data-ved\\x3d\\x222ahUKEwi0oufen6OIAxU5QjABHa0HAbEQzmd6BAgHEA4\\x22\\x3eMore results\\x3c/a\\x3e\\x3c/span\\x3e\\x3c/div\\x3e\\x3c/div\\x3e\\x3c/div\\x3e\\x3c/div\\x3e\\x3c/div\\x3e');})();(function(){(function(){var id='tsuid_3';var lve=true;(function(){\n",
       "var e=typeof navigator!==\"undefined\"&&!/Opera/.test(navigator.userAgent)&&/WebKit/.test(navigator.userAgent),f={A:1,INPUT:1,TEXTAREA:1,SELECT:1,BUTTON:1},g={Enter:13,\" \":32},h={A:13,BUTTON:0,CHECKBOX:32,COMBOBOX:13,FILE:0,GRIDCELL:13,LINK:13,LISTBOX:13,MENU:0,MENUBAR:0,MENUITEM:0,MENUITEMCHECKBOX:0,MENUITEMRADIO:0,OPTION:0,RADIO:32,RADIOGROUP:32,RESET:0,SUBMIT:0,SWITCH:32,TAB:0,TREE:13,TREEITEM:13},k={CHECKBOX:!0,FILE:!0,OPTION:!0,RADIO:!0},l={COLOR:!0,DATE:!0,DATETIME:!0,\"DATETIME-LOCAL\":!0,EMAIL:!0,MONTH:!0,NUMBER:!0,PASSWORD:!0,RANGE:!0,SEARCH:!0,TEL:!0,TEXT:!0,TEXTAREA:!0,TIME:!0,URL:!0,WEEK:!0};document.getElementById(id).onclick=function(){window.xp(this);lve&&window.logVe(this)};document.getElementById(id).onkeydown=function(d){var c=d.which||d.keyCode;!c&&d.key&&(c=g[d.key]);e&&c===3&&(c=13);if(c!==13&&c!==32)c=!1;else{var a=d.target;!a.getAttribute&&a.parentNode&&(a=a.parentNode);var b;if(!(b=d.type!==\"keydown\")){if(b=\"getAttribute\"in a)b=!((a.getAttribute(\"type\")||a.tagName).toUpperCase()in l);b=!(b&&!(a.tagName.toUpperCase()===\"BUTTON\"||a.type&&a.type.toUpperCase()===\"FILE\")&&!a.isContentEditable)}(b=b||d.ctrlKey||d.shiftKey||d.altKey||d.metaKey||(a.getAttribute(\"type\")||\n",
       "a.tagName).toUpperCase()in k&&c===32)||((b=a.tagName in f)||(b=a.getAttributeNode(\"tabindex\"),b=b!=null&&b.specified),b=!(b&&!a.disabled));if(b)c=!1;else{b=(a.getAttribute(\"role\")||a.type||a.tagName).toUpperCase();var m=!(b in h)&&c===13;a=a.tagName.toUpperCase()!==\"INPUT\"||!!a.type;c=(h[b]%c===0||m)&&a}}c&&(d.preventDefault(),window.xp(this),lve&&window.logVe(this))};}).call(this);})();})();(function(){window.jsl.dh('accdef_5','\\x3cdiv\\x3e\\x3cdiv style\\x3d\\x22padding-bottom:12px;padding-top:0px\\x22 class\\x3d\\x22hwc kCrYT\\x22\\x3e\\x3cdiv class\\x3d\\x22yStFkb\\x22\\x3e\\x3cdiv class\\x3d\\x22Gx5Zad xpd EtOod pkphOe\\x22\\x3e\\x3cdiv class\\x3d\\x22kCrYT\\x22\\x3e\\x3cdiv class\\x3d\\x22PqksIc nRlVm\\x22\\x3e\\x3cdiv class\\x3d\\x22BNeawe\\x22\\x3e\\x3cdiv\\x3e\\x3cdiv class\\x3d\\x22BNeawe\\x22\\x3e\\x3cspan class\\x3d\\x22FCUp0c rQMQod\\x22\\x3e\\u6c23\\u70ba\\u8c61\\u5f62\\u5b57\\x3c/span\\x3e\\uff0c\\u5176\\u539f\\u59cb\\u7684\\u610f\\u7fa9\\u70ba\\u300e\\u96f2\\u6c23\\u300f\\u3002\\u300d 28\\u3002\\x3c/div\\x3e\\x3c/div\\x3e\\x3c/div\\x3e\\x3c/div\\x3e\\x3c/div\\x3e\\x3cdiv class\\x3d\\x22x54gtf\\x22\\x3e\\x3c/div\\x3e\\x3cdiv class\\x3d\\x22kCrYT\\x22\\x3e\\x3ca href\\x3d\\x22/url?q\\x3dhttps://tpl.ncl.edu.tw/NclService/pdfdownload%3FfilePath%3DlV8OirTfsslWcCxIpLbUfhQHstx_oOBLmNq9wM68oFPsLHsg1rOqCtfh4rVQzh0_%26imgType%3DBn5sH4BGpJw%3D%26key%3DtwD_5UY580f0FwYM7iYvxJF2lmiPH861gdQ3s4dogy4eVVU9OyINO4qBZJhLTxWd%26xmlId%3D0007297472\\x26amp;sa\\x3dU\\x26amp;ved\\x3d2ahUKEwi0oufen6OIAxU5QjABHa0HAbEQFnoECAcQFA\\x26amp;usg\\x3dAOvVaw3uk5zIzbR2Q7lobITa_OWZ\\x22 data-ved\\x3d\\x222ahUKEwi0oufen6OIAxU5QjABHa0HAbEQFnoECAcQFA\\x22\\x3e\\x3cspan\\x3e\\x3cdiv class\\x3d\\x22BNeawe vvjwJb AP7Wnd\\x22\\x3e\\x3cspan class\\x3d\\x22rQMQod Xb5VRe\\x22\\x3e\\u300c\\u6c23\\u300d\\u6982\\u5ff5\\u8207\\u300c\\u6c14\\u300d\\u5b57\\u539f\\u578b\\u4e4b\\u8003\\u8fa8\\x3c/span\\x3e\\x3c/div\\x3e\\x3c/span\\x3e\\x3cspan\\x3e\\x3cdiv class\\x3d\\x22BNeawe UPmit AP7Wnd\\x22\\x3etpl.ncl.edu.tw \\u203a NclService \\u203a pdfdownload\\x3c/div\\x3e\\x3c/span\\x3e\\x3c/a\\x3e\\x3c/div\\x3e\\x3c/div\\x3e\\x3c/div\\x3e\\x3cdiv\\x3e\\x3cdiv class\\x3d\\x22P1NWSe\\x22\\x3e\\x3cdiv class\\x3d\\x22wOMIed nkPlDb\\x22\\x3e\\x3cspan class\\x3d\\x22JhFlyf VQFmSd\\x22\\x3e\\x3ca class\\x3d\\x22f4J0H\\x22 href\\x3d\\x22https://www.google.com/search?sca_esv\\x3dff35baf6a28594a4\\x26amp;sca_upv\\x3d1\\x26amp;ie\\x3dUTF-8\\x26amp;ei\\x3dnyfVZvTWH7mEwbkPrY-EiAs\\x26amp;q\\x3d%E6%B0%94%E6%98%AF%E8%B1%A1%E5%BD%A2%E5%AD%97%E5%90%97%EF%BC%9F\\x26amp;sa\\x3dX\\x26amp;ved\\x3d2ahUKEwi0oufen6OIAxU5QjABHa0HAbEQzmd6BAgHEBU\\x22 data-ved\\x3d\\x222ahUKEwi0oufen6OIAxU5QjABHa0HAbEQzmd6BAgHEBU\\x22\\x3eMore results\\x3c/a\\x3e\\x3c/span\\x3e\\x3c/div\\x3e\\x3c/div\\x3e\\x3c/div\\x3e\\x3c/div\\x3e\\x3c/div\\x3e');})();(function(){(function(){var id='tsuid_4';var lve=true;(function(){\n",
       "var e=typeof navigator!==\"undefined\"&&!/Opera/.test(navigator.userAgent)&&/WebKit/.test(navigator.userAgent),f={A:1,INPUT:1,TEXTAREA:1,SELECT:1,BUTTON:1},g={Enter:13,\" \":32},h={A:13,BUTTON:0,CHECKBOX:32,COMBOBOX:13,FILE:0,GRIDCELL:13,LINK:13,LISTBOX:13,MENU:0,MENUBAR:0,MENUITEM:0,MENUITEMCHECKBOX:0,MENUITEMRADIO:0,OPTION:0,RADIO:32,RADIOGROUP:32,RESET:0,SUBMIT:0,SWITCH:32,TAB:0,TREE:13,TREEITEM:13},k={CHECKBOX:!0,FILE:!0,OPTION:!0,RADIO:!0},l={COLOR:!0,DATE:!0,DATETIME:!0,\"DATETIME-LOCAL\":!0,EMAIL:!0,MONTH:!0,NUMBER:!0,PASSWORD:!0,RANGE:!0,SEARCH:!0,TEL:!0,TEXT:!0,TEXTAREA:!0,TIME:!0,URL:!0,WEEK:!0};document.getElementById(id).onclick=function(){window.xp(this);lve&&window.logVe(this)};document.getElementById(id).onkeydown=function(d){var c=d.which||d.keyCode;!c&&d.key&&(c=g[d.key]);e&&c===3&&(c=13);if(c!==13&&c!==32)c=!1;else{var a=d.target;!a.getAttribute&&a.parentNode&&(a=a.parentNode);var b;if(!(b=d.type!==\"keydown\")){if(b=\"getAttribute\"in a)b=!((a.getAttribute(\"type\")||a.tagName).toUpperCase()in l);b=!(b&&!(a.tagName.toUpperCase()===\"BUTTON\"||a.type&&a.type.toUpperCase()===\"FILE\")&&!a.isContentEditable)}(b=b||d.ctrlKey||d.shiftKey||d.altKey||d.metaKey||(a.getAttribute(\"type\")||\n",
       "a.tagName).toUpperCase()in k&&c===32)||((b=a.tagName in f)||(b=a.getAttributeNode(\"tabindex\"),b=b!=null&&b.specified),b=!(b&&!a.disabled));if(b)c=!1;else{b=(a.getAttribute(\"role\")||a.type||a.tagName).toUpperCase();var m=!(b in h)&&c===13;a=a.tagName.toUpperCase()!==\"INPUT\"||!!a.type;c=(h[b]%c===0||m)&&a}}c&&(d.preventDefault(),window.xp(this),lve&&window.logVe(this))};}).call(this);})();})();(function(){window.jsl.dh('accdef_7','\\x3cdiv\\x3e\\x3cdiv style\\x3d\\x22padding-bottom:12px;padding-top:0px\\x22 class\\x3d\\x22hwc kCrYT\\x22\\x3e\\x3cdiv class\\x3d\\x22yStFkb\\x22\\x3e\\x3cdiv class\\x3d\\x22Gx5Zad xpd EtOod pkphOe\\x22\\x3e\\x3cdiv class\\x3d\\x22kCrYT\\x22\\x3e\\x3cdiv class\\x3d\\x22PqksIc nRlVm\\x22\\x3e\\x3cdiv class\\x3d\\x22BNeawe\\x22\\x3e\\x3cdiv\\x3e\\x3cdiv class\\x3d\\x22BNeawe\\x22\\x3e\\u538c\\u6c14_\\u767e\\u5ea6\\u767e\\u79d1 \\u538c\\u6c14\\uff0c\\u6c49\\u8bed\\u8bcd\\u8bed\\uff0c\\u8bfb\\u97f3y\\xe0n q\\xec\\uff0c\\u610f\\u601d\\u662f\\x3cspan class\\x3d\\x22FCUp0c rQMQod\\x22\\x3e\\u8ba8\\u538c\\x3c/span\\x3e\\u3002\\x3c/div\\x3e\\x3c/div\\x3e\\x3c/div\\x3e\\x3c/div\\x3e\\x3c/div\\x3e\\x3cdiv class\\x3d\\x22x54gtf\\x22\\x3e\\x3c/div\\x3e\\x3cdiv class\\x3d\\x22kCrYT\\x22\\x3e\\x3ca href\\x3d\\x22/url?q\\x3dhttps://baike.baidu.com/item/%25E5%258E%258C%25E6%25B0%2594/54751512\\x26amp;sa\\x3dU\\x26amp;ved\\x3d2ahUKEwi0oufen6OIAxU5QjABHa0HAbEQFnoECAcQGw\\x26amp;usg\\x3dAOvVaw0ktSl8tNRpYlEpCbPsix5H\\x22 data-ved\\x3d\\x222ahUKEwi0oufen6OIAxU5QjABHa0HAbEQFnoECAcQGw\\x22\\x3e\\x3cspan\\x3e\\x3cdiv class\\x3d\\x22BNeawe vvjwJb AP7Wnd\\x22\\x3e\\x3cspan class\\x3d\\x22rQMQod Xb5VRe\\x22\\x3e\\u538c\\u6c14_\\u767e\\u5ea6\\u767e\\u79d1\\x3c/span\\x3e\\x3c/div\\x3e\\x3c/span\\x3e\\x3cspan\\x3e\\x3cdiv class\\x3d\\x22BNeawe UPmit AP7Wnd\\x22\\x3ebaike.baidu.com \\u203a item \\u203a \\u538c\\u6c14\\x3c/div\\x3e\\x3c/span\\x3e\\x3c/a\\x3e\\x3c/div\\x3e\\x3c/div\\x3e\\x3c/div\\x3e\\x3cdiv\\x3e\\x3cdiv class\\x3d\\x22P1NWSe\\x22\\x3e\\x3cdiv class\\x3d\\x22wOMIed nkPlDb\\x22\\x3e\\x3cspan class\\x3d\\x22JhFlyf VQFmSd\\x22\\x3e\\x3ca class\\x3d\\x22f4J0H\\x22 href\\x3d\\x22https://www.google.com/search?sca_esv\\x3dff35baf6a28594a4\\x26amp;sca_upv\\x3d1\\x26amp;ie\\x3dUTF-8\\x26amp;ei\\x3dnyfVZvTWH7mEwbkPrY-EiAs\\x26amp;q\\x3d%E5%8E%8C%E6%B0%94%E4%BB%80%E4%B9%88%E6%84%8F%E6%80%9D%EF%BC%9F\\x26amp;sa\\x3dX\\x26amp;ved\\x3d2ahUKEwi0oufen6OIAxU5QjABHa0HAbEQzmd6BAgHEBw\\x22 data-ved\\x3d\\x222ahUKEwi0oufen6OIAxU5QjABHa0HAbEQzmd6BAgHEBw\\x22\\x3eMore results\\x3c/a\\x3e\\x3c/span\\x3e\\x3c/div\\x3e\\x3c/div\\x3e\\x3c/div\\x3e\\x3c/div\\x3e\\x3c/div\\x3e');})();if (!google.stvsc){google.drty && google.drty(undefined,true);}\n",
       "</script></body></html>"
      ]
     },
     "execution_count": 3,
     "metadata": {},
     "output_type": "execute_result"
    }
   ],
   "source": [
    "soup "
   ]
  },
  {
   "cell_type": "code",
   "execution_count": 6,
   "id": "784a61c6",
   "metadata": {},
   "outputs": [],
   "source": [
    "with open(\"baidu.html\", \"w\", encoding=\"utf-8\") as f:\n",
    "    f.write(str(soup))"
   ]
  },
  {
   "cell_type": "markdown",
   "id": "27af537b",
   "metadata": {},
   "source": [
    "## Method-3: Ask Claude\n",
    "\n",
    "Revised by myself to get it working"
   ]
  },
  {
   "cell_type": "code",
   "execution_count": 59,
   "id": "302526d1",
   "metadata": {},
   "outputs": [],
   "source": [
    "import requests\n",
    "from urllib.parse import quote\n",
    "from time import sleep\n",
    "\n",
    "def parse_baidu_url(s):\n",
    "    return s.split(\"q=\")[1].split(\"&sa=\")[0]\n",
    "\n",
    "def get_baidu_url(character):\n",
    "    ret_val = \"\"\n",
    "    # Encode the Chinese character for use in the URL\n",
    "    encoded_char = quote(character)\n",
    "    \n",
    "    # Construct the Baidu search URL\n",
    "    search_url = f\"https://www.google.com/search?q={encoded_char}%09baidu\"\n",
    "    \n",
    "    # Send a GET request to the Baidu API\n",
    "    response = requests.get(search_url)\n",
    "    \n",
    "    # Check if the request was successful\n",
    "    if response.status_code == 200:\n",
    "        soup = BeautifulSoup(response.content, \"html.parser\")\n",
    "        a_list = soup.find_all(\"a\")\n",
    "        x = [link.get(\"href\") for link in a_list if link.text.startswith(f\"{character}_百度百科\")]\n",
    "        return parse_baidu_url(x[0]) if x else ret_val\n",
    "    \n",
    "    return ret_val"
   ]
  },
  {
   "cell_type": "raw",
   "id": "a27cfba9",
   "metadata": {},
   "source": [
    "character = \"多\"\n",
    "get_baidu_url(character)"
   ]
  },
  {
   "cell_type": "markdown",
   "id": "b8d5e0eb",
   "metadata": {},
   "source": [
    "### Testing"
   ]
  },
  {
   "cell_type": "code",
   "execution_count": 60,
   "id": "de5011ac",
   "metadata": {},
   "outputs": [],
   "source": [
    "# Example usage\n",
    "data = []\n",
    "for ch in [\"气\",  \"月\", \"女\", \"心\"]:\n",
    "    url = get_baidu_url(ch)\n",
    "    data.append([ch, url])\n",
    "    sleep(2)"
   ]
  },
  {
   "cell_type": "code",
   "execution_count": 61,
   "id": "4545f445",
   "metadata": {},
   "outputs": [
    {
     "data": {
      "text/plain": [
       "[['气', 'https://baike.baidu.com/item/%25E6%25B0%2594/35794'],\n",
       " ['月', ''],\n",
       " ['女', 'https://baike.baidu.com/item/%25E5%25A5%25B3/507533'],\n",
       " ['心', 'https://baike.baidu.com/item/%25E5%25BF%2583/32430']]"
      ]
     },
     "execution_count": 61,
     "metadata": {},
     "output_type": "execute_result"
    }
   ],
   "source": [
    "data"
   ]
  },
  {
   "cell_type": "markdown",
   "id": "c30e51c6",
   "metadata": {},
   "source": [
    "### get baidu zi URL\n",
    "\n",
    "after doing a few manual search, I was able to automate the process for the remaining Zi from \n",
    "\n",
    "file = C:\\Users\\p2p2l\\projects\\wgong\\zistory\\acap-book\\docs\\360-zi-category-v2.xlsx"
   ]
  },
  {
   "cell_type": "code",
   "execution_count": 62,
   "id": "eb85ba88",
   "metadata": {},
   "outputs": [],
   "source": [
    "s = \"\"\"央\n",
    "对\n",
    "少\n",
    "左\n",
    "幺\n",
    "弱\n",
    "强\n",
    "比\n",
    "热\n",
    "短\n",
    "老\n",
    "近\n",
    "远\n",
    "长\n",
    "高\n",
    "义\n",
    "之\n",
    "乎\n",
    "勿\n",
    "句\n",
    "吾\n",
    "它\n",
    "尔\n",
    "弗\n",
    "矣\n",
    "空\n",
    "者\n",
    "而\n",
    "词\n",
    "通\n",
    "章\n",
    "无\n",
    "字\n",
    "不\n",
    "兔\n",
    "兽\n",
    "灵\n",
    "牛\n",
    "禽\n",
    "虎\n",
    "蛇\n",
    "豕\n",
    "象\n",
    "鹿\n",
    "鼠\n",
    "龙\n",
    "飞\n",
    "了\n",
    "亡\n",
    "体\n",
    "唇\n",
    "头\n",
    "存\n",
    "尾\n",
    "死\n",
    "毛\n",
    "牙\n",
    "生\n",
    "皮\n",
    "眉\n",
    "肉\n",
    "脑\n",
    "臼\n",
    "舌\n",
    "血\n",
    "身\n",
    "颈\n",
    "骨\n",
    "鼻\n",
    "齿\n",
    "七\n",
    "万\n",
    "三\n",
    "丑\n",
    "丙\n",
    "乘\n",
    "乙\n",
    "九\n",
    "二\n",
    "五\n",
    "亥\n",
    "亿\n",
    "兆\n",
    "六\n",
    "减\n",
    "千\n",
    "午\n",
    "卯\n",
    "四\n",
    "壬\n",
    "寅\n",
    "巳\n",
    "庚\n",
    "戊\n",
    "戌\n",
    "数\n",
    "未\n",
    "法\n",
    "甲\n",
    "申\n",
    "癸\n",
    "百\n",
    "穷\n",
    "算\n",
    "辛\n",
    "辰\n",
    "除\n",
    "零\n",
    "云\n",
    "光\n",
    "声\n",
    "天\n",
    "川\n",
    "星\n",
    "气\n",
    "电\n",
    "风\n",
    "叶\n",
    "杉\n",
    "杨\n",
    "松\n",
    "林\n",
    "果\n",
    "枝\n",
    "柏\n",
    "柳\n",
    "树\n",
    "根\n",
    "瓜\n",
    "花\n",
    "芽\n",
    "茎\n",
    "豆\n",
    "麦\n",
    "业\n",
    "丰\n",
    "为\n",
    "乐\n",
    "书\n",
    "井\n",
    "产\n",
    "仓\n",
    "企\n",
    "住\n",
    "作\n",
    "写\n",
    "农\n",
    "出\n",
    "和\n",
    "品\n",
    "商\n",
    "器\n",
    "国\n",
    "学\n",
    "屯\n",
    "市\n",
    "乡\n",
    "文\n",
    "术\n",
    "机\n",
    "止\n",
    "永\n",
    "甘\n",
    "画\n",
    "省\n",
    "缶\n",
    "艺\n",
    "谷\n",
    "采\n",
    "音\n",
    "饮\n",
    "加\n",
    "兵\n",
    "行\n",
    "军\n",
    "刃\n",
    "勾\n",
    "匕\n",
    "卫\n",
    "叉\n",
    "太\n",
    "宁\n",
    "安\n",
    "将\n",
    "平\n",
    "矛\n",
    "矢\n",
    "求\n",
    "买\n",
    "亏\n",
    "兑\n",
    "利\n",
    "卖\n",
    "去\n",
    "失\n",
    "币\n",
    "应\n",
    "有\n",
    "来\n",
    "润\n",
    "舟\n",
    "运\n",
    "丫\n",
    "主\n",
    "亲\n",
    "仆\n",
    "仙\n",
    "儿\n",
    "兄\n",
    "公\n",
    "凡\n",
    "友\n",
    "君\n",
    "圣\n",
    "奴\n",
    "妹\n",
    "姐\n",
    "寻\n",
    "弟\n",
    "当\n",
    "情\n",
    "易\n",
    "朋\n",
    "母\n",
    "民\n",
    "父\n",
    "知\n",
    "神\n",
    "臣\n",
    "丁\n",
    "己\n",
    "自\n",
    "世\n",
    "东\n",
    "中\n",
    "久\n",
    "今\n",
    "冬\n",
    "北\n",
    "南\n",
    "历\n",
    "古\n",
    "史\n",
    "夏\n",
    "宇\n",
    "宙\n",
    "年\n",
    "春\n",
    "界\n",
    "秋\n",
    "西\n",
    "丈\n",
    "两\n",
    "个\n",
    "克\n",
    "包\n",
    "匹\n",
    "升\n",
    "单\n",
    "双\n",
    "尺\n",
    "度\n",
    "斗\n",
    "时\n",
    "秒\n",
    "计\n",
    "里\"\"\"\n"
   ]
  },
  {
   "cell_type": "code",
   "execution_count": 63,
   "id": "8d182019",
   "metadata": {},
   "outputs": [],
   "source": [
    "data2 = []\n",
    "for ch in s.split(\"\\n\"):\n",
    "    url = get_baidu_url(ch)\n",
    "    data2.append([ch, url])\n",
    "    sleep(2)"
   ]
  },
  {
   "cell_type": "code",
   "execution_count": 65,
   "id": "9a0b15ab",
   "metadata": {},
   "outputs": [
    {
     "data": {
      "text/plain": [
       "(267, 267)"
      ]
     },
     "execution_count": 65,
     "metadata": {},
     "output_type": "execute_result"
    }
   ],
   "source": [
    "len(data2), len(s.split(\"\\n\"))"
   ]
  },
  {
   "cell_type": "code",
   "execution_count": 66,
   "id": "74bd939b",
   "metadata": {},
   "outputs": [
    {
     "data": {
      "text/plain": [
       "[['央', 'https://baike.baidu.com/item/%25E5%25A4%25AE/6342485'],\n",
       " ['对', 'https://baike.baidu.com/item/%25E5%25AF%25B9/29687'],\n",
       " ['少', 'https://baike.baidu.com/item/%25E5%25B0%2591/1402355'],\n",
       " ['左', 'https://baike.baidu.com/item/%25E5%25B7%25A6/34238'],\n",
       " ['幺', 'https://baike.baidu.com/item/%25E5%25B9%25BA/189957'],\n",
       " ['弱', 'https://baike.baidu.com/item/%25E5%25BC%25B1/3633807'],\n",
       " ['强', 'https://baike.baidu.com/item/%25E5%25BC%25BA/4177'],\n",
       " ['比', 'https://baike.baidu.com/item/%25E6%25AF%2594/31911'],\n",
       " ['热', 'https://baike.baidu.com/item/%25E7%2583%25AD/84386'],\n",
       " ['短', 'https://baike.baidu.com/item/%25E7%259F%25AD/1402696'],\n",
       " ['老', 'https://baike.baidu.com/item/%25E8%2580%2581/6295260'],\n",
       " ['近', 'https://baike.baidu.com/item/%25E8%25BF%2591/18670'],\n",
       " ['远', 'https://baike.baidu.com/item/%25E8%25BF%259C/84526'],\n",
       " ['长', 'https://baike.baidu.com/item/%25E9%2595%25BF/24168'],\n",
       " ['高', 'https://baike.baidu.com/item/%25E9%25AB%2598/16270'],\n",
       " ['义', 'https://baike.baidu.com/item/%25E4%25B9%2589/34160'],\n",
       " ['之', 'https://baike.baidu.com/item/%25E4%25B9%258B/779277'],\n",
       " ['乎', 'https://baike.baidu.com/item/%25E4%25B9%258E/778995'],\n",
       " ['勿', 'https://baike.baidu.com/item/%25E5%258B%25BF/9261183'],\n",
       " ['句', 'https://baike.baidu.com/item/%25E5%258F%25A5/2618848'],\n",
       " ['吾', 'https://baike.baidu.com/item/%25E5%2590%25BE/6093722'],\n",
       " ['它', 'https://baike.baidu.com/item/%25E5%25AE%2583/46825'],\n",
       " ['尔', 'https://baike.baidu.com/item/%25E5%25B0%2594/3518651'],\n",
       " ['弗', 'https://baike.baidu.com/item/%25E5%25BC%2597/4770832'],\n",
       " ['矣', 'https://baike.baidu.hk/item/%25E7%259F%25A3/3104372'],\n",
       " ['空', 'https://baike.baidu.com/item/%25E7%25A9%25BA/2559'],\n",
       " ['者', 'https://baike.baidu.com/item/%25E8%2580%2585/779341'],\n",
       " ['而', 'https://baike.baidu.com/item/%25E8%2580%258C/778974'],\n",
       " ['词', 'https://baike.baidu.com/item/%25E8%25AF%258D/723530'],\n",
       " ['通', 'https://baike.baidu.com/item/%25E9%2580%259A/4676674'],\n",
       " ['章', 'https://baike.baidu.com/item/%25E7%25AB%25A0/3827'],\n",
       " ['无', 'https://baike.baidu.com/item/%25E6%2597%25A0/4550'],\n",
       " ['字', 'https://baike.baidu.com/item/%25E5%25AD%2597/1561105'],\n",
       " ['不', 'https://baike.baidu.com/item/%25E4%25B8%258D/64725'],\n",
       " ['兔', 'https://baike.baidu.com/item/%25E5%2585%2594/522910'],\n",
       " ['兽', 'https://baike.baidu.com/item/%25E5%2585%25BD/976899'],\n",
       " ['灵', 'https://baike.baidu.com/item/%25E7%2581%25B5/3046'],\n",
       " ['牛', 'https://baike.baidu.com/item/%25E7%2589%259B/1139'],\n",
       " ['禽', 'https://baike.baidu.com/item/%25E7%25A6%25BD/2029873'],\n",
       " ['虎', 'https://baike.baidu.com/item/%25E8%2599%258E/13222031'],\n",
       " ['蛇', 'https://baike.baidu.com/item/%25E8%259B%2587/68023'],\n",
       " ['豕', 'https://baike.baidu.hk/item/%25E8%25B1%2595/4560454'],\n",
       " ['象', 'https://baike.baidu.com/item/%25E8%25B1%25A1/2975447'],\n",
       " ['鹿', 'https://baike.baidu.com/item/%25E9%25B9%25BF/38428'],\n",
       " ['鼠', 'https://baike.baidu.com/item/%25E9%25BC%25A0/38430'],\n",
       " ['龙', 'https://baike.baidu.com/item/%25E9%25BE%2599/13027234'],\n",
       " ['飞', 'https://baike.baidu.com/item/%25E9%25A3%259E/3714'],\n",
       " ['了', 'https://baike.baidu.com/item/%25E4%25BA%2586/341748'],\n",
       " ['亡', 'https://baike.baidu.com/item/%25E4%25BA%25A1/4636661'],\n",
       " ['体', 'https://baike.baidu.com/item/%25E4%25BD%2593/5873654'],\n",
       " ['唇', 'https://baike.baidu.com/item/%25E5%2594%2587/3244232'],\n",
       " ['头', 'https://baike.baidu.com/item/%25E5%25A4%25B4/13033529'],\n",
       " ['存', ''],\n",
       " ['尾', 'https://baike.baidu.com/item/%25E5%25B0%25BE/34260'],\n",
       " ['死', 'https://baike.baidu.com/item/%25E6%25AD%25BB/74325'],\n",
       " ['毛', 'https://baike.baidu.com/item/%25E6%25AF%259B/65174'],\n",
       " ['牙', 'https://baike.baidu.com/item/%25E7%2589%2599/34244'],\n",
       " ['生', 'https://baike.baidu.com/item/%25E7%2594%259F/2654'],\n",
       " ['皮', 'https://baike.baidu.com/item/%25E7%259A%25AE/2651906'],\n",
       " ['眉', 'https://baike.baidu.com/item/%25E7%259C%2589/5875025'],\n",
       " ['肉', 'https://baike.baidu.com/item/%25E8%2582%2589/3463083'],\n",
       " ['脑', ''],\n",
       " ['臼', 'https://baike.baidu.com/item/%25E8%2587%25BC/5254495'],\n",
       " ['舌', 'https://baike.baidu.com/item/%25E8%2588%258C/7198674'],\n",
       " ['血', 'https://baike.baidu.com/item/%25E8%25A1%2580/5950662'],\n",
       " ['身', 'https://baike.baidu.com/item/%25E8%25BA%25AB/5472998'],\n",
       " ['颈', 'https://baike.baidu.com/item/%25E9%25A2%2588/3242811'],\n",
       " ['骨', 'https://baike.baidu.com/item/%25E9%25AA%25A8/2672729'],\n",
       " ['鼻', 'https://baike.baidu.com/item/%25E9%25BC%25BB/13024143'],\n",
       " ['齿', 'https://baike.baidu.com/item/%25E9%25BD%25BF/6399380'],\n",
       " ['七', 'https://baike.baidu.com/item/%25E4%25B8%2583/80825'],\n",
       " ['万', 'https://baike.baidu.com/item/%25E4%25B8%2587/34357'],\n",
       " ['三', 'https://baike.baidu.com/item/%25E4%25B8%2589/727133'],\n",
       " ['丑', 'https://baike.baidu.com/item/%25E4%25B8%2591/4310'],\n",
       " ['丙', 'https://baike.baidu.com/item/%25E4%25B8%2599/34248'],\n",
       " ['乘', 'https://baike.baidu.com/item/%25E4%25B9%2598/1074922'],\n",
       " ['乙', 'https://baike.baidu.com/item/%25E4%25B9%2599/34247'],\n",
       " ['九', 'https://baike.baidu.com/item/%25E4%25B9%259D/1328'],\n",
       " ['二', 'https://baike.baidu.com/item/%25E4%25BA%258C/329828'],\n",
       " ['五', 'https://baike.baidu.com/item/%25E4%25BA%2594/1817481'],\n",
       " ['亥', 'https://baike.baidu.com/item/%25E4%25BA%25A5/4824996'],\n",
       " ['亿', 'https://baike.baidu.com/item/%25E4%25BA%25BF/34426'],\n",
       " ['兆', 'https://baike.baidu.com/item/%25E5%2585%2586/2703255'],\n",
       " ['六', 'https://baike.baidu.com/item/%25E5%2585%25AD/1896293'],\n",
       " ['减', 'https://baike.baidu.com/item/%25E5%2587%258F/4678336'],\n",
       " ['千', 'https://baike.baidu.com/item/%25E5%258D%2583/1896443'],\n",
       " ['午', 'https://baike.baidu.com/item/%25E5%258D%2588/5291016'],\n",
       " ['卯', 'https://baike.baidu.hk/item/%25E5%258D%25AF/4849049'],\n",
       " ['四', 'https://baike.baidu.com/item/%25E5%259B%259B/727592'],\n",
       " ['壬', 'https://baike.baidu.com/item/%25E5%25A3%25AC/5878659'],\n",
       " ['寅', 'https://baike.baidu.com/item/%25E5%25AF%2585/5295525'],\n",
       " ['巳', 'https://baike.baidu.com/item/%25E5%25B7%25B3/5295347'],\n",
       " ['庚', 'https://baike.baidu.com/item/%25E5%25BA%259A/4645134'],\n",
       " ['戊', 'https://baike.baidu.com/item/%25E6%2588%258A/6237193'],\n",
       " ['戌', 'https://baike.baidu.com/item/%25E6%2588%258C/5163824'],\n",
       " ['数', 'https://baike.baidu.com/item/%25E6%2595%25B0/15507734'],\n",
       " ['未', 'https://baike.baidu.com/item/%25E6%259C%25AA/4793386'],\n",
       " ['法', 'https://baike.baidu.com/item/%25E6%25B3%2595/34274'],\n",
       " ['甲', 'https://baike.baidu.com/item/%25E7%2594%25B2/34246'],\n",
       " ['申', 'https://baike.baidu.com/item/%25E7%2594%25B3/34014'],\n",
       " ['癸', 'https://baike.baidu.com/item/%25E7%2599%25B8/4675420'],\n",
       " ['百', 'https://baike.baidu.com/item/%25E7%2599%25BE/1896426'],\n",
       " ['穷', 'https://baike.baidu.com/item/%25E7%25A9%25B7/343080'],\n",
       " ['算', 'https://baike.baidu.com/item/%25E7%25AE%2597/8988801'],\n",
       " ['辛', 'https://baike.baidu.com/item/%25E8%25BE%259B/34249'],\n",
       " ['辰', 'https://baike.baidu.com/item/%25E8%25BE%25B0/34250'],\n",
       " ['除', 'https://baike.baidu.com/item/%25E9%2599%25A4/6889191'],\n",
       " ['零', 'https://baike.baidu.com/item/%25E9%259B%25B6/36714'],\n",
       " ['云', 'https://baike.baidu.com/item/%25E4%25BA%2591/541794'],\n",
       " ['光', 'https://baike.baidu.com/item/%25E5%2585%2589/7310040'],\n",
       " ['声', 'https://baike.baidu.com/item/%25E5%25A3%25B0/34376'],\n",
       " ['天', 'https://baike.baidu.com/item/%25E5%25A4%25A9/34055'],\n",
       " ['川', 'https://baike.baidu.com/item/%25E5%25B7%259D/1190230'],\n",
       " ['星', 'https://baike.baidu.com/item/%25E6%2598%259F/1586'],\n",
       " ['气', 'https://baike.baidu.com/item/%25E6%25B0%2594/35794'],\n",
       " ['电', 'https://baike.baidu.com/item/%25E7%2594%25B5/22248'],\n",
       " ['风', 'https://baike.baidu.com/item/%25E9%25A3%258E/544114'],\n",
       " ['叶', 'https://baike.baidu.com/item/%25E5%258F%25B6/9539069'],\n",
       " ['杉', 'https://baike.baidu.com/item/%25E6%259D%2589/9498107'],\n",
       " ['杨', 'https://baike.baidu.com/item/%25E6%259D%25A8/53911'],\n",
       " ['松', 'https://baike.baidu.com/item/%25E6%259D%25BE/35367'],\n",
       " ['林', 'https://baike.baidu.com/item/%25E6%259E%2597/30282'],\n",
       " ['果', 'https://baike.baidu.com/item/%25E6%259E%259C/81328'],\n",
       " ['枝', 'https://baike.baidu.com/item/%25E6%259E%259D/6646179'],\n",
       " ['柏', 'https://baike.baidu.com/item/%25E6%259F%258F/4256'],\n",
       " ['柳', 'https://baike.baidu.com/item/%25E6%259F%25B3/4771'],\n",
       " ['树', 'https://baike.baidu.com/item/%25E6%25A0%2591/18483'],\n",
       " ['根', 'https://baike.baidu.com/item/%25E6%25A0%25B9/1177078'],\n",
       " ['瓜', 'https://baike.baidu.com/item/%25E7%2593%259C/4673010'],\n",
       " ['花', 'https://baike.baidu.com/item/%25E8%258A%25B1/9980053'],\n",
       " ['芽', 'https://baike.baidu.com/item/%25E8%258A%25BD/10364623'],\n",
       " ['茎', 'https://baike.baidu.com/item/%25E8%258C%258E/35355'],\n",
       " ['豆', 'https://baike.baidu.com/item/%25E8%25B1%2586/30235'],\n",
       " ['麦', 'https://baike.baidu.com/item/%25E9%25BA%25A6/34518'],\n",
       " ['业', 'https://baike.baidu.com/item/%25E4%25B8%259A/34381'],\n",
       " ['丰', 'https://baike.baidu.com/item/%25E4%25B8%25B0/84300'],\n",
       " ['为', 'https://baike.baidu.com/item/%25E4%25B8%25BA/779148'],\n",
       " ['乐', 'https://baike.baidu.com/item/%25E4%25B9%2590/34288'],\n",
       " ['书', 'https://baike.baidu.com/item/%25E4%25B9%25A6/130176'],\n",
       " ['井', 'https://baike.baidu.com/item/%25E4%25BA%2595/34307'],\n",
       " ['产', 'https://baike.baidu.com/item/%25E4%25BA%25A7/11031286'],\n",
       " ['仓', 'https://baike.baidu.com/item/%25E4%25BB%2593/34023'],\n",
       " ['企', 'https://baike.baidu.com/item/%25E4%25BC%2581/5956089'],\n",
       " ['住', 'https://baike.baidu.com/item/%25E4%25BD%258F/406125'],\n",
       " ['作', 'https://baike.baidu.com/item/%25E4%25BD%259C/5471931'],\n",
       " ['写', 'https://baike.baidu.com/item/%25E5%2586%2599/4944503'],\n",
       " ['农', 'https://baike.baidu.com/item/%25E5%2586%259C/4635472'],\n",
       " ['出', 'https://baike.baidu.com/item/%25E5%2587%25BA/2374464'],\n",
       " ['和', 'https://baike.baidu.com/item/%25E5%2592%258C/1692925'],\n",
       " ['品', 'https://baike.baidu.com/item/%25E5%2593%2581/5928260'],\n",
       " ['商', 'https://baike.baidu.com/item/%25E5%2595%2586/4729'],\n",
       " ['器', 'https://baike.baidu.com/item/%25E5%2599%25A8/4678062'],\n",
       " ['国', 'https://baike.baidu.com/item/%25E5%259B%25BD/904496'],\n",
       " ['学', 'https://baike.baidu.com/item/%25E5%25AD%25A6/4677908'],\n",
       " ['屯', 'https://baike.baidu.hk/item/%25E5%25B1%25AF/870272'],\n",
       " ['市', 'https://baike.baidu.com/item/%25E5%25B8%2582/7149823'],\n",
       " ['乡', 'https://baike.baidu.com/item/%25E4%25B9%25A1/34483'],\n",
       " ['文', 'https://baike.baidu.com/item/%25E6%2596%2587/3664'],\n",
       " ['术', 'https://baike.baidu.com/item/%25E6%259C%25AF/1168007'],\n",
       " ['机', 'https://baike.baidu.com/item/%25E6%259C%25BA/2619190'],\n",
       " ['止', 'https://baike.baidu.com/item/%25E6%25AD%25A2/5873994'],\n",
       " ['永', 'https://baike.baidu.com/item/%25E6%25B0%25B8/4676487'],\n",
       " ['甘', 'https://baike.baidu.com/item/%25E7%2594%2598/712054'],\n",
       " ['画', 'https://baike.baidu.com/item/%25E7%2594%25BB/10551'],\n",
       " ['省', 'https://baike.baidu.com/item/%25E7%259C%2581/7317775'],\n",
       " ['缶', 'https://baike.baidu.com/item/%25E7%25BC%25B6/2250408'],\n",
       " ['艺', 'https://baike.baidu.com/item/%25E8%2589%25BA/4015806'],\n",
       " ['谷', 'https://baike.baidu.com/item/%25E8%25B0%25B7/34282'],\n",
       " ['采', 'https://baike.baidu.com/item/%25E9%2587%2587/4352388'],\n",
       " ['音', 'https://baike.baidu.com/item/%25E9%259F%25B3/412966'],\n",
       " ['饮', 'https://baike.baidu.com/item/%25E9%25A5%25AE/4917783'],\n",
       " ['加', 'https://baike.baidu.com/item/%25E5%258A%25A0/5141286'],\n",
       " ['兵', 'https://baike.baidu.com/item/%25E5%2585%25B5/66575'],\n",
       " ['行', 'https://baike.baidu.com/item/%25E8%25A1%258C/2672431'],\n",
       " ['军', 'https://baike.baidu.com/item/%25E5%2586%259B/4150966'],\n",
       " ['刃', 'https://baike.baidu.com/item/%25E5%2588%2583/4378259'],\n",
       " ['勾', 'https://baike.baidu.com/item/%25E5%258B%25BE/2613284'],\n",
       " ['匕', 'https://baike.baidu.com/item/%25E5%258C%2595/2383798'],\n",
       " ['卫', 'https://baike.baidu.com/item/%25E5%258D%25AB/5253'],\n",
       " ['叉', 'https://baike.baidu.com/item/%25E5%258F%2589/31304'],\n",
       " ['太', 'https://baike.baidu.com/item/%25E5%25A4%25AA/2616342'],\n",
       " ['宁', 'https://baike.baidu.com/item/%25E5%25AE%2581/2883'],\n",
       " ['安', 'https://baike.baidu.com/item/%25E5%25AE%2589/60319'],\n",
       " ['将', 'https://baike.baidu.com/item/%25E5%25B0%2586/34308'],\n",
       " ['平', 'https://baike.baidu.com/item/%25E5%25B9%25B3/4160482'],\n",
       " ['矛', 'https://baike.baidu.com/item/%25E7%259F%259B/973984'],\n",
       " ['矢', 'https://baike.baidu.com/item/%25E7%259F%25A2/5430973'],\n",
       " ['求', 'https://baike.baidu.com/item/%25E6%25B1%2582/6435747'],\n",
       " ['买', 'https://baike.baidu.com/item/%25E4%25B9%25B0/81520'],\n",
       " ['亏', 'https://baike.baidu.com/item/%25E4%25BA%258F/5873123'],\n",
       " ['兑', 'https://baike.baidu.com/item/%25E5%2585%2591/16261210'],\n",
       " ['利', 'https://baike.baidu.com/item/%25E5%2588%25A9/34159'],\n",
       " ['卖', 'https://baike.baidu.com/item/%25E5%258D%2596/2178129'],\n",
       " ['去', 'https://baike.baidu.com/item/%25E5%258E%25BB/734133'],\n",
       " ['失', 'https://baike.baidu.com/item/%25E5%25A4%25B1/6394133'],\n",
       " ['币', ''],\n",
       " ['应', 'https://baike.baidu.com/item/%25E5%25BA%2594/5345934'],\n",
       " ['有', 'https://baike.baidu.com/item/%25E6%259C%2589/34161'],\n",
       " ['来', 'https://baike.baidu.com/item/%25E6%259D%25A5/734528'],\n",
       " ['润', 'https://baike.baidu.com/item/%25E6%25B6%25A6/5472297'],\n",
       " ['舟', 'https://baike.baidu.com/item/%25E8%2588%259F/10763501'],\n",
       " ['运', 'https://baike.baidu.com/item/%25E8%25BF%2590/5873387'],\n",
       " ['丫', 'https://baike.baidu.com/item/%25E4%25B8%25AB/756105'],\n",
       " ['主', 'https://baike.baidu.com/item/%25E4%25B8%25BB/2361193'],\n",
       " ['亲', 'https://baike.baidu.com/item/%25E4%25BA%25B2/6196'],\n",
       " ['仆', 'https://baike.baidu.com/item/%25E4%25BB%2586/5777515'],\n",
       " ['仙', 'https://baike.baidu.com/item/%25E4%25BB%2599/34325'],\n",
       " ['儿', 'https://baike.baidu.com/item/%25E5%2584%25BF/4709423'],\n",
       " ['兄', 'https://baike.baidu.com/item/%25E5%2585%2584/7866367'],\n",
       " ['公', 'https://baike.baidu.com/item/%25E5%2585%25AC/34286'],\n",
       " ['凡', 'https://baike.baidu.com/item/%25E5%2587%25A1/4520049'],\n",
       " ['友', 'https://baike.baidu.com/item/%25E5%258F%258B/34253'],\n",
       " ['君', 'https://baike.baidu.com/item/%25E5%2590%259B/5020895'],\n",
       " ['圣', 'https://baike.baidu.com/item/%25E5%259C%25A3/4633784'],\n",
       " ['奴', 'https://baike.baidu.com/item/%25E5%25A5%25B4/4993379'],\n",
       " ['妹', 'https://baike.baidu.com/item/%25E5%25A6%25B9/1524843'],\n",
       " ['姐', 'https://baike.baidu.hk/item/%25E5%25A7%2590/5214392'],\n",
       " ['寻', 'https://baike.baidu.com/item/%25E5%25AF%25BB/4151289'],\n",
       " ['弟', ''],\n",
       " ['当', 'https://baike.baidu.com/item/%25E5%25BD%2593/19866'],\n",
       " ['情', 'https://baike.baidu.com/item/%25E6%2583%2585/34327'],\n",
       " ['易', 'https://baike.baidu.com/item/%25E6%2598%2593/416877'],\n",
       " ['朋', 'https://baike.baidu.com/item/%25E6%259C%258B/10443265'],\n",
       " ['母', 'https://baike.baidu.com/item/%25E6%25AF%258D/34287'],\n",
       " ['民', 'https://baike.baidu.com/item/%25E6%25B0%2591/4946958'],\n",
       " ['父', 'https://baike.baidu.com/item/%25E7%2588%25B6/4635257'],\n",
       " ['知', 'https://baike.baidu.com/item/%25E7%259F%25A5/5430706'],\n",
       " ['神', 'https://baike.baidu.com/item/%25E7%25A5%259E/95846'],\n",
       " ['臣', 'https://baike.baidu.com/item/%25E8%2587%25A3/4638560'],\n",
       " ['丁', 'https://baike.baidu.com/item/%25E4%25B8%2581/5006'],\n",
       " ['己', 'https://baike.baidu.com/item/%25E5%25B7%25B1/5094945'],\n",
       " ['自', 'https://baike.baidu.com/item/%25E8%2587%25AA/5167299'],\n",
       " ['世', 'https://baike.baidu.com/item/%25E4%25B8%2596/4553887'],\n",
       " ['东', 'https://baike.baidu.com/item/%25E4%25B8%259C/5047'],\n",
       " ['中', 'https://baike.baidu.com/item/%25E4%25B8%25AD/977204'],\n",
       " ['久', 'https://baike.baidu.com/item/%25E4%25B9%2585/5257923'],\n",
       " ['今', 'https://baike.baidu.com/item/%25E4%25BB%258A/5217162'],\n",
       " ['冬', 'https://baike.baidu.com/item/%25E5%2586%25AC/1644'],\n",
       " ['北', 'https://baike.baidu.com/item/%25E5%258C%2597/627146'],\n",
       " ['南', 'https://baike.baidu.com/item/%25E5%258D%2597/34230'],\n",
       " ['历', 'https://baike.baidu.com/item/%25E5%258E%2586/5461569'],\n",
       " ['古', 'https://baike.baidu.com/item/%25E5%258F%25A4/706090'],\n",
       " ['史', 'https://baike.baidu.com/item/%25E5%258F%25B2/54699'],\n",
       " ['夏', 'https://baike.baidu.com/item/%25E5%25A4%258F/22298'],\n",
       " ['宇', 'https://baike.baidu.com/item/%25E5%25AE%2587/6986176'],\n",
       " ['宙', 'https://baike.baidu.com/item/%25E5%25AE%2599/19909860'],\n",
       " ['年', 'https://baike.baidu.com/item/%25E5%25B9%25B4/30052'],\n",
       " ['春', 'https://baike.baidu.com/item/%25E6%2598%25A5/22241'],\n",
       " ['界', 'https://baike.baidu.com/item/%25E7%2595%258C/1796296'],\n",
       " ['秋', 'https://baike.baidu.com/item/%25E7%25A7%258B/22247'],\n",
       " ['西', 'https://baike.baidu.com/item/%25E8%25A5%25BF/551738'],\n",
       " ['丈', 'https://baike.baidu.com/item/%25E4%25B8%2588/4689524'],\n",
       " ['两', 'https://baike.baidu.com/item/%25E4%25B8%25A4/6438879'],\n",
       " ['个', 'https://baike.baidu.com/item/%25E4%25B8%25AA/1793907'],\n",
       " ['克', 'https://baike.baidu.com/item/%25E5%2585%258B/1339351'],\n",
       " ['包', 'https://baike.baidu.com/item/%25E5%258C%2585/71107'],\n",
       " ['匹', 'https://baike.baidu.com/item/%25E5%258C%25B9/2617974'],\n",
       " ['升', 'https://baike.baidu.com/item/%25E5%258D%2587/34373'],\n",
       " ['单', 'https://baike.baidu.com/item/%25E5%258D%2595/67941'],\n",
       " ['双', 'https://baike.baidu.com/item/%25E5%258F%258C/34082'],\n",
       " ['尺', 'https://baike.baidu.com/item/%25E5%25B0%25BA/8677537'],\n",
       " ['度', 'https://baike.baidu.com/item/%25E5%25BA%25A6/5542'],\n",
       " ['斗', 'https://baike.baidu.com/item/%25E6%2596%2597/4501620'],\n",
       " ['时', 'https://baike.baidu.com/item/%25E6%2597%25B6/34075'],\n",
       " ['秒', 'https://baike.baidu.com/item/%25E7%25A7%2592/2924586'],\n",
       " ['计', 'https://baike.baidu.com/item/%25E8%25AE%25A1/4906165'],\n",
       " ['里', 'https://baike.baidu.com/item/%25E9%2587%258C/34270']]"
      ]
     },
     "execution_count": 66,
     "metadata": {},
     "output_type": "execute_result"
    }
   ],
   "source": [
    "data2"
   ]
  },
  {
   "cell_type": "markdown",
   "id": "53fb2e4b",
   "metadata": {},
   "source": [
    "### Save results \n",
    "\n",
    "file = C:\\Users\\p2p2l\\projects\\wgong\\zistory\\acap-book\\docs\\360-zi-category-v3.xlsx"
   ]
  },
  {
   "cell_type": "code",
   "execution_count": 69,
   "id": "ac3dfcf3",
   "metadata": {},
   "outputs": [],
   "source": [
    "import pandas as pd "
   ]
  },
  {
   "cell_type": "code",
   "execution_count": 70,
   "id": "4286b63c",
   "metadata": {},
   "outputs": [],
   "source": [
    "df = pd.DataFrame(data2, columns=[\"zi\", \"baidu_url\"])"
   ]
  },
  {
   "cell_type": "code",
   "execution_count": 72,
   "id": "9e8b6eed",
   "metadata": {},
   "outputs": [],
   "source": [
    "df.to_excel(\"360-zi-category-v3.xlsx\", index=False)"
   ]
  },
  {
   "cell_type": "code",
   "execution_count": 73,
   "id": "74c62888",
   "metadata": {},
   "outputs": [
    {
     "name": "stdout",
     "output_type": "stream",
     "text": [
      "C:\\Users\\p2p2l\\projects\\wgong\\py4kids\\lesson-99-misc\\google-search\n"
     ]
    }
   ],
   "source": [
    "!cd "
   ]
  },
  {
   "cell_type": "code",
   "execution_count": 67,
   "id": "8e2fb882",
   "metadata": {},
   "outputs": [],
   "source": [
    "manual_zi = [x[0] for x in data2 if not x[1]]"
   ]
  },
  {
   "cell_type": "code",
   "execution_count": 68,
   "id": "0413c178",
   "metadata": {},
   "outputs": [
    {
     "data": {
      "text/plain": [
       "['存', '脑', '币', '弟']"
      ]
     },
     "execution_count": 68,
     "metadata": {},
     "output_type": "execute_result"
    }
   ],
   "source": [
    "manual_zi"
   ]
  },
  {
   "cell_type": "raw",
   "id": "65ad313a",
   "metadata": {},
   "source": [
    "存, https://www.wikiwand.com/en/dictionary/%E5%AD%98\n",
    "\n",
    "脑, https://baike.baidu.com/item/%E5%A4%A7%E8%84%91/791360 \n",
    "\n",
    "货币\n",
    "https://baike.baidu.com/item/%E8%B4%A7%E5%B8%81/85299\n",
    "\n",
    "百度汉语：\n",
    "https://hanyu.baidu.com/zici/s?wd=%E5%BC%9F\n",
    "\n"
   ]
  },
  {
   "cell_type": "raw",
   "id": "ee60a7f0",
   "metadata": {},
   "source": [
    "https://baike.baidu.com/item/多/17805    \n",
    "https://baike.baidu.com/item/气/35794\n",
    "https://baike.baidu.com/item/月/1361265"
   ]
  },
  {
   "cell_type": "markdown",
   "id": "d891141f",
   "metadata": {},
   "source": [
    "## Unrelated to baidu URL, but `cnchar` is an excellent lib"
   ]
  },
  {
   "cell_type": "code",
   "execution_count": 32,
   "id": "7a307c31",
   "metadata": {},
   "outputs": [
    {
     "name": "stdout",
     "output_type": "stream",
     "text": [
      "cnchar-code\n",
      "cnchar-draw\n",
      "cnchar-explain\n",
      "cnchar-idiom\n",
      "cnchar-info\n",
      "cnchar-input\n",
      "cnchar-name\n",
      "cnchar-order\n",
      "cnchar-poly\n",
      "cnchar-radical\n",
      "cnchar-random\n",
      "cnchar-trad\n",
      "cnchar-voice\n",
      "cnchar-words\n",
      "cnchar-xhy\n"
     ]
    }
   ],
   "source": [
    "s = \"\"\"\n",
    "cnchar-poly cnchar-order cnchar-trad \n",
    "cnchar-draw cnchar-idiom cnchar-xhy \n",
    "cnchar-radical cnchar-words cnchar-explain \n",
    "cnchar-voice cnchar-random cnchar-code \n",
    "cnchar-input cnchar-info cnchar-name\n",
    "\"\"\"\n",
    "\n",
    "l = [x.strip() for x in s.split(\"\\n\") if x.strip()]\n",
    "\n",
    "l2 = []\n",
    "for x in l:\n",
    "    l2.extend(x.split())\n",
    "print(\"\\n\".join(sorted(l2)))"
   ]
  },
  {
   "cell_type": "code",
   "execution_count": null,
   "id": "4edf44fd",
   "metadata": {},
   "outputs": [],
   "source": []
  }
 ],
 "metadata": {
  "kernelspec": {
   "display_name": "Python 3 (ipykernel)",
   "language": "python",
   "name": "python3"
  },
  "language_info": {
   "codemirror_mode": {
    "name": "ipython",
    "version": 3
   },
   "file_extension": ".py",
   "mimetype": "text/x-python",
   "name": "python",
   "nbconvert_exporter": "python",
   "pygments_lexer": "ipython3",
   "version": "3.9.13"
  },
  "nbTranslate": {
   "displayLangs": [
    "*"
   ],
   "hotkey": "alt-t",
   "langInMainMenu": true,
   "sourceLang": "en",
   "targetLang": "fr",
   "useGoogleTranslate": true
  },
  "toc": {
   "base_numbering": 1,
   "nav_menu": {},
   "number_sections": true,
   "sideBar": true,
   "skip_h1_title": false,
   "title_cell": "Table of Contents",
   "title_sidebar": "Contents",
   "toc_cell": false,
   "toc_position": {},
   "toc_section_display": true,
   "toc_window_display": false
  }
 },
 "nbformat": 4,
 "nbformat_minor": 5
}
