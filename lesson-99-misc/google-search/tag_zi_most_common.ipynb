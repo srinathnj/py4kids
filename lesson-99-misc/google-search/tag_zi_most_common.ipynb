{
 "cells": [
  {
   "cell_type": "code",
   "execution_count": 1,
   "id": "3ec3ad6e",
   "metadata": {},
   "outputs": [],
   "source": [
    "import pandas as pd\n",
    "\n",
    "def tag_rows_from_sheet1(file_path):\n",
    "    \"\"\"\n",
    "    Reads two sheets from an Excel file, tags rows from Sheet 1 that exist in Sheet 2,\n",
    "    and returns a new DataFrame with an additional column indicating the tag.\n",
    "\n",
    "    Args:\n",
    "        file_path (str): The path to the Excel file.\n",
    "\n",
    "    Returns:\n",
    "        pandas.DataFrame: A DataFrame containing data from Sheet 1 with an additional column\n",
    "                         indicating if the row exists in Sheet 2.\n",
    "    \"\"\"\n",
    "\n",
    "    # Read both sheets into DataFrames\n",
    "    df1 = pd.read_excel(file_path, sheet_name='Sheet1', usecols=['key', 'value'])\n",
    "    df2 = pd.read_excel(file_path, sheet_name='Sheet2', usecols=['key', 'value'])\n",
    "\n",
    "    # Merge the DataFrames based on the 'key' column to find matching rows\n",
    "    merged_df = pd.merge(df1, df2, on='key', how='left', indicator='_merge')\n",
    "\n",
    "    # Create a new column to indicate if a row exists in Sheet 2\n",
    "    df1['exists_in_sheet2'] = (merged_df['_merge'] == 'both').astype(int)\n",
    "\n",
    "    # Drop the unnecessary '_merge' column\n",
    "    df1.drop(columns=['_merge'], inplace=True)\n",
    "\n",
    "    return df1"
   ]
  },
  {
   "cell_type": "code",
   "execution_count": 2,
   "id": "d048153e",
   "metadata": {},
   "outputs": [],
   "source": [
    "# Example usage:\n",
    "file_path = '360-zi-category.xlsx'\n",
    "sheets = [\"360-zi-category\", \"most-frequent-zi\"]"
   ]
  },
  {
   "cell_type": "code",
   "execution_count": 4,
   "id": "ae82c6c8",
   "metadata": {},
   "outputs": [],
   "source": [
    "df1 = pd.read_excel(file_path, sheet_name=sheets[0])\n",
    "df2 = pd.read_excel(file_path, sheet_name=sheets[1])"
   ]
  },
  {
   "cell_type": "code",
   "execution_count": 5,
   "id": "00e708e5",
   "metadata": {},
   "outputs": [
    {
     "data": {
      "text/plain": [
       "(Index(['Zi', 'Category'], dtype='object'), Index(['part'], dtype='object'))"
      ]
     },
     "execution_count": 5,
     "metadata": {},
     "output_type": "execute_result"
    }
   ],
   "source": [
    "df1.columns, df2.columns "
   ]
  },
  {
   "cell_type": "code",
   "execution_count": 6,
   "id": "ab9061e1",
   "metadata": {},
   "outputs": [],
   "source": [
    "tagged_zi = df2[\"part\"].to_list()"
   ]
  },
  {
   "cell_type": "code",
   "execution_count": 9,
   "id": "ab8b3aff",
   "metadata": {},
   "outputs": [],
   "source": [
    "tagged_zi_str = \"\"\n",
    "for i in \"\".join(tagged_zi):\n",
    "    if i.strip():\n",
    "        tagged_zi_str += i.strip()"
   ]
  },
  {
   "cell_type": "code",
   "execution_count": 10,
   "id": "0f1de8fa",
   "metadata": {},
   "outputs": [
    {
     "data": {
      "text/plain": [
       "'氵水木艹草口扌手亻人阝城月土地女虫忄心日王⺮竹纟讠言辶钅金火心目禾足疒病石一又山宀家鸟攵贝巾车衤衣犭力米隹十田酉页马大刂刀羽欠广人穴丿礻示羊殳言冖革罒白饣食刀厂耳立寸糸戈非皿子冫水雨八彳亠尸方丷衣丶夫分且鬼几工丨彡走鱼斤黑厶弓犬囗干门甫士由占小令'"
      ]
     },
     "execution_count": 10,
     "metadata": {},
     "output_type": "execute_result"
    }
   ],
   "source": [
    "tagged_zi_str"
   ]
  },
  {
   "cell_type": "code",
   "execution_count": 12,
   "id": "7ae41433",
   "metadata": {},
   "outputs": [],
   "source": [
    "df1[\"common_flag\"] = df1[\"Zi\"].map(lambda x: 'Y' if x in tagged_zi_str else '')"
   ]
  },
  {
   "cell_type": "code",
   "execution_count": 14,
   "id": "58e36456",
   "metadata": {},
   "outputs": [],
   "source": [
    "df1[\"baidu_url\"] = \"\""
   ]
  },
  {
   "cell_type": "code",
   "execution_count": 15,
   "id": "d944e540",
   "metadata": {},
   "outputs": [
    {
     "data": {
      "text/html": [
       "<div>\n",
       "<style scoped>\n",
       "    .dataframe tbody tr th:only-of-type {\n",
       "        vertical-align: middle;\n",
       "    }\n",
       "\n",
       "    .dataframe tbody tr th {\n",
       "        vertical-align: top;\n",
       "    }\n",
       "\n",
       "    .dataframe thead th {\n",
       "        text-align: right;\n",
       "    }\n",
       "</style>\n",
       "<table border=\"1\" class=\"dataframe\">\n",
       "  <thead>\n",
       "    <tr style=\"text-align: right;\">\n",
       "      <th></th>\n",
       "      <th>Zi</th>\n",
       "      <th>Category</th>\n",
       "      <th>common_flag</th>\n",
       "      <th>baidu_url</th>\n",
       "    </tr>\n",
       "  </thead>\n",
       "  <tbody>\n",
       "    <tr>\n",
       "      <th>0</th>\n",
       "      <td>金</td>\n",
       "      <td>Nature</td>\n",
       "      <td>Y</td>\n",
       "      <td></td>\n",
       "    </tr>\n",
       "    <tr>\n",
       "      <th>1</th>\n",
       "      <td>木</td>\n",
       "      <td>Nature</td>\n",
       "      <td>Y</td>\n",
       "      <td></td>\n",
       "    </tr>\n",
       "    <tr>\n",
       "      <th>2</th>\n",
       "      <td>水</td>\n",
       "      <td>Nature, Social-Activity</td>\n",
       "      <td>Y</td>\n",
       "      <td></td>\n",
       "    </tr>\n",
       "    <tr>\n",
       "      <th>3</th>\n",
       "      <td>火</td>\n",
       "      <td>Nature</td>\n",
       "      <td>Y</td>\n",
       "      <td></td>\n",
       "    </tr>\n",
       "    <tr>\n",
       "      <th>4</th>\n",
       "      <td>土</td>\n",
       "      <td>Nature</td>\n",
       "      <td>Y</td>\n",
       "      <td></td>\n",
       "    </tr>\n",
       "    <tr>\n",
       "      <th>...</th>\n",
       "      <td>...</td>\n",
       "      <td>...</td>\n",
       "      <td>...</td>\n",
       "      <td>...</td>\n",
       "    </tr>\n",
       "    <tr>\n",
       "      <th>346</th>\n",
       "      <td>之</td>\n",
       "      <td>Abstract-Literature</td>\n",
       "      <td></td>\n",
       "      <td></td>\n",
       "    </tr>\n",
       "    <tr>\n",
       "      <th>347</th>\n",
       "      <td>乎</td>\n",
       "      <td>Abstract-Literature</td>\n",
       "      <td></td>\n",
       "      <td></td>\n",
       "    </tr>\n",
       "    <tr>\n",
       "      <th>348</th>\n",
       "      <td>者</td>\n",
       "      <td>Abstract-Literature</td>\n",
       "      <td></td>\n",
       "      <td></td>\n",
       "    </tr>\n",
       "    <tr>\n",
       "      <th>349</th>\n",
       "      <td>矣</td>\n",
       "      <td>Abstract-Literature</td>\n",
       "      <td></td>\n",
       "      <td></td>\n",
       "    </tr>\n",
       "    <tr>\n",
       "      <th>350</th>\n",
       "      <td>通</td>\n",
       "      <td>Abstract-Literature</td>\n",
       "      <td></td>\n",
       "      <td></td>\n",
       "    </tr>\n",
       "  </tbody>\n",
       "</table>\n",
       "<p>351 rows × 4 columns</p>\n",
       "</div>"
      ],
      "text/plain": [
       "    Zi                 Category common_flag baidu_url\n",
       "0    金                   Nature           Y          \n",
       "1    木                   Nature           Y          \n",
       "2    水  Nature, Social-Activity           Y          \n",
       "3    火                   Nature           Y          \n",
       "4    土                   Nature           Y          \n",
       "..  ..                      ...         ...       ...\n",
       "346  之      Abstract-Literature                      \n",
       "347  乎      Abstract-Literature                      \n",
       "348  者      Abstract-Literature                      \n",
       "349  矣      Abstract-Literature                      \n",
       "350  通      Abstract-Literature                      \n",
       "\n",
       "[351 rows x 4 columns]"
      ]
     },
     "execution_count": 15,
     "metadata": {},
     "output_type": "execute_result"
    }
   ],
   "source": [
    "df1 "
   ]
  },
  {
   "cell_type": "code",
   "execution_count": 16,
   "id": "2e99f59b",
   "metadata": {},
   "outputs": [],
   "source": [
    "df1.to_excel('360-zi-category-v2.xlsx', index=False)"
   ]
  },
  {
   "cell_type": "code",
   "execution_count": null,
   "id": "d12b4068",
   "metadata": {},
   "outputs": [],
   "source": []
  }
 ],
 "metadata": {
  "kernelspec": {
   "display_name": "Python 3 (ipykernel)",
   "language": "python",
   "name": "python3"
  },
  "language_info": {
   "codemirror_mode": {
    "name": "ipython",
    "version": 3
   },
   "file_extension": ".py",
   "mimetype": "text/x-python",
   "name": "python",
   "nbconvert_exporter": "python",
   "pygments_lexer": "ipython3",
   "version": "3.9.13"
  },
  "nbTranslate": {
   "displayLangs": [
    "*"
   ],
   "hotkey": "alt-t",
   "langInMainMenu": true,
   "sourceLang": "en",
   "targetLang": "fr",
   "useGoogleTranslate": true
  },
  "toc": {
   "base_numbering": 1,
   "nav_menu": {},
   "number_sections": true,
   "sideBar": true,
   "skip_h1_title": false,
   "title_cell": "Table of Contents",
   "title_sidebar": "Contents",
   "toc_cell": false,
   "toc_position": {},
   "toc_section_display": true,
   "toc_window_display": false
  }
 },
 "nbformat": 4,
 "nbformat_minor": 5
}
