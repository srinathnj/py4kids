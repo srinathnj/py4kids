{
 "cells": [
  {
   "cell_type": "markdown",
   "id": "5b7103b4",
   "metadata": {},
   "source": [
    "use page number as breaker: \\d+ \\n"
   ]
  },
  {
   "cell_type": "code",
   "execution_count": 1,
   "id": "348a2c31",
   "metadata": {},
   "outputs": [],
   "source": [
    "import re \n",
    "from collections import OrderedDict"
   ]
  },
  {
   "cell_type": "code",
   "execution_count": 2,
   "id": "d8082d88",
   "metadata": {},
   "outputs": [],
   "source": [
    "def insert_extra_space_to_asci_sentences(txt):\n",
    "    \"\"\"remove extra space in non-ASCII sentences\n",
    "    \"\"\"\n",
    "    new_list = []\n",
    "    l = txt.split()\n",
    "    l.append(\" \")\n",
    "    for i in range(len(l)-1):\n",
    "        this_l = l[i]\n",
    "#         print(f\"this_l = {this_l}\")\n",
    "        next_l = l[i+1]\n",
    "        matched = False\n",
    "        if len(this_l) > 0 and len(next_l) > 0:\n",
    "            this_ending_char = this_l[-1]\n",
    "            next_starting_char = next_l[0]\n",
    "            this_match = re.match(r\"[a-z]\", this_ending_char, re.IGNORECASE)\n",
    "            next_match = re.match(r\"[a-z]\", next_starting_char, re.IGNORECASE)\n",
    "            if this_match is not None and next_match is not None:\n",
    "                matched = True\n",
    "        if matched:\n",
    "            new_list.extend([this_l, \" \"])\n",
    "        else:    \n",
    "            new_list.append(this_l)\n",
    "#         print(f\"new_list = {new_list}\")\n",
    "        \n",
    "    return \"\".join(new_list)"
   ]
  },
  {
   "cell_type": "code",
   "execution_count": 3,
   "id": "2ac63ce1",
   "metadata": {},
   "outputs": [
    {
     "name": "stdout",
     "output_type": "stream",
     "text": [
      " Volume in drive C is Windows\n",
      " Volume Serial Number is 6EA7-3DCA\n",
      "\n",
      " Directory of C:\\Users\\p2p2l\\Documents\\Dad\\0_Biz\\Duck-AI\\Projects\\meditation\n",
      "\n",
      "03/16/2024  11:52 AM    <DIR>          .\n",
      "03/14/2024  06:37 PM    <DIR>          ..\n",
      "03/16/2024  06:44 AM    <DIR>          .ipynb_checkpoints\n",
      "03/16/2024  06:41 AM           198,601 meditation-science.txt\n",
      "03/16/2024  11:46 AM           182,696 meditation-science_reformatted.md\n",
      "03/16/2024  11:49 AM           182,714 on_meditation_u1gwg.md\n",
      "03/16/2024  11:52 AM           199,892 parse-reformat-text.ipynb\n",
      "               4 File(s)        763,903 bytes\n",
      "               3 Dir(s)  158,006,960,128 bytes free\n"
     ]
    }
   ],
   "source": [
    "!dir "
   ]
  },
  {
   "cell_type": "code",
   "execution_count": 4,
   "id": "c0fb64df",
   "metadata": {},
   "outputs": [],
   "source": [
    "with open(\"meditation-science.txt\", encoding=\"utf8\") as f: \n",
    "    txt = f.read()\n",
    "    txt_list = txt.split(\"\\n\")"
   ]
  },
  {
   "cell_type": "code",
   "execution_count": 5,
   "id": "1eafc37b",
   "metadata": {
    "scrolled": true
   },
   "outputs": [],
   "source": [
    "debug_flag = False \n",
    "\n",
    "pages = OrderedDict()   # index on page number\n",
    "lines = []   # tmp array to store lines from current page \n",
    "\n",
    "reformated_lines = []\n",
    "i = 0\n",
    "n = 0\n",
    "while i < len(txt_list):\n",
    "    t = txt_list[i].strip()\n",
    "    lines.append(t)\n",
    "    \n",
    "    x = re.match(r\"\\d{1,3}\", t)\n",
    "    \n",
    "    if t == \"杜豔華女士\" and txt_list[i+1].strip() == \"夏業駿先生\":\n",
    "        lines.append(txt_list[i+1])\n",
    "        page_num = \"Preface\"\n",
    "        pages[page_num] = lines\n",
    "        reformated_lines.append(f\"#### {page_num}\")\n",
    "        reformated_lines.append(\" \".join(pages[page_num]))\n",
    "        if debug_flag:\n",
    "            print(f\"\\n#### {page_num}\")\n",
    "            print(pages[page_num])\n",
    "        n += 1\n",
    "        i += 1\n",
    "        lines = []\n",
    "    \n",
    "    elif t == \"演講\" and txt_list[i+1].strip() == \"219\" and txt_list[i+2] == \"\":\n",
    "        lines.append(txt_list[i+1])\n",
    "        lines.append(txt_list[i+2])\n",
    "        page_num = \"Table_of_content\"\n",
    "        pages[page_num] = lines\n",
    "        reformated_lines.append(f\"#### {page_num}\")\n",
    "        reformated_lines.append(\" \".join(pages[page_num]))\n",
    "        if debug_flag:\n",
    "            print(f\"\\n#### {page_num}\")\n",
    "            print(pages[page_num])\n",
    "        n += 1\n",
    "        i += 2\n",
    "        lines = []\n",
    "    \n",
    "    elif x is not None and x.string and txt_list[i+1] == \"\":\n",
    "        lines.append(txt_list[i+1])\n",
    "        page_num = x.string\n",
    "        txt_str = insert_extra_space_to_asci_sentences(\" \".join(lines))\n",
    "        if txt_str.endswith(page_num):\n",
    "            txt_str = txt_str[:-len(page_num)]\n",
    "        pages[page_num] = txt_str\n",
    "        reformated_lines.append(f\"#### {page_num}\")\n",
    "        reformated_lines.append(pages[page_num])\n",
    "        if debug_flag:\n",
    "            print(f\"\\n#### {page_num}\")\n",
    "            print(pages[page_num])\n",
    "        n += 1\n",
    "        i += 1\n",
    "        lines = []\n",
    "\n",
    "        # if n > 5: break\n",
    "            \n",
    "    else:\n",
    "        i += 1"
   ]
  },
  {
   "cell_type": "code",
   "execution_count": 6,
   "id": "74582189",
   "metadata": {},
   "outputs": [],
   "source": [
    "with open(\"meditation-science_reformatted.md\", \"w\", encoding=\"utf8\") as f: \n",
    "    f.write(\"\\n\".join(reformated_lines))"
   ]
  },
  {
   "cell_type": "raw",
   "id": "4db8826a",
   "metadata": {},
   "source": [
    "pages.keys()"
   ]
  },
  {
   "cell_type": "raw",
   "id": "faa13399",
   "metadata": {},
   "source": [
    "pages['table_of_content']"
   ]
  },
  {
   "cell_type": "code",
   "execution_count": null,
   "id": "f8f40f36",
   "metadata": {},
   "outputs": [],
   "source": []
  }
 ],
 "metadata": {
  "kernelspec": {
   "display_name": "Python 3 (ipykernel)",
   "language": "python",
   "name": "python3"
  },
  "language_info": {
   "codemirror_mode": {
    "name": "ipython",
    "version": 3
   },
   "file_extension": ".py",
   "mimetype": "text/x-python",
   "name": "python",
   "nbconvert_exporter": "python",
   "pygments_lexer": "ipython3",
   "version": "3.9.13"
  },
  "nbTranslate": {
   "displayLangs": [
    "*"
   ],
   "hotkey": "alt-t",
   "langInMainMenu": true,
   "sourceLang": "en",
   "targetLang": "fr",
   "useGoogleTranslate": true
  },
  "toc": {
   "base_numbering": 1,
   "nav_menu": {},
   "number_sections": true,
   "sideBar": true,
   "skip_h1_title": false,
   "title_cell": "Table of Contents",
   "title_sidebar": "Contents",
   "toc_cell": false,
   "toc_position": {},
   "toc_section_display": true,
   "toc_window_display": false
  }
 },
 "nbformat": 4,
 "nbformat_minor": 5
}
