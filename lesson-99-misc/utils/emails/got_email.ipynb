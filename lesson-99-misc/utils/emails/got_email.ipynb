{
 "cells": [
  {
   "cell_type": "code",
   "execution_count": 1,
   "id": "1963ce4f",
   "metadata": {},
   "outputs": [
    {
     "ename": "ModuleNotFoundError",
     "evalue": "No module named 'exchangelib'",
     "output_type": "error",
     "traceback": [
      "\u001b[1;31m---------------------------------------------------------------------------\u001b[0m",
      "\u001b[1;31mModuleNotFoundError\u001b[0m                       Traceback (most recent call last)",
      "\u001b[1;32m~\\AppData\\Local\\Temp\\ipykernel_18800\\185828343.py\u001b[0m in \u001b[0;36m<module>\u001b[1;34m\u001b[0m\n\u001b[1;32m----> 1\u001b[1;33m \u001b[1;32mfrom\u001b[0m \u001b[0mexchangelib\u001b[0m \u001b[1;32mimport\u001b[0m \u001b[0mCredentials\u001b[0m\u001b[1;33m,\u001b[0m \u001b[0mAccount\u001b[0m\u001b[1;33m,\u001b[0m \u001b[0mDELEGATE\u001b[0m\u001b[1;33m\u001b[0m\u001b[1;33m\u001b[0m\u001b[0m\n\u001b[0m\u001b[0;32m      2\u001b[0m \u001b[1;33m\u001b[0m\u001b[0m\n\u001b[0;32m      3\u001b[0m \u001b[1;32mfrom\u001b[0m \u001b[0mdotenv\u001b[0m \u001b[1;32mimport\u001b[0m \u001b[0mload_dotenv\u001b[0m\u001b[1;33m\u001b[0m\u001b[1;33m\u001b[0m\u001b[0m\n\u001b[0;32m      4\u001b[0m \u001b[1;33m\u001b[0m\u001b[0m\n\u001b[0;32m      5\u001b[0m \u001b[0mload_dotenv\u001b[0m\u001b[1;33m(\u001b[0m\u001b[1;33m)\u001b[0m  \u001b[1;31m# take environment variables from .env.\u001b[0m\u001b[1;33m\u001b[0m\u001b[1;33m\u001b[0m\u001b[0m\n",
      "\u001b[1;31mModuleNotFoundError\u001b[0m: No module named 'exchangelib'"
     ]
    }
   ],
   "source": [
    "from exchangelib import Credentials, Account, DELEGATE\n",
    "\n",
    "from dotenv import load_dotenv\n",
    "\n",
    "load_dotenv()  # take environment variables from .env."
   ]
  },
  {
   "cell_type": "code",
   "execution_count": null,
   "id": "d33a017d",
   "metadata": {},
   "outputs": [],
   "source": [
    "def get_outlook_emails_with_ews():\n",
    "    # Your credentials\n",
    "    username = 'your_email@domain.com'\n",
    "    password = 'your_password'\n",
    "    \n",
    "    # Connect to Exchange\n",
    "    credentials = Credentials(username, password)\n",
    "    account = Account(\n",
    "        primary_smtp_address=username,\n",
    "        credentials=credentials,\n",
    "        autodiscover=True,\n",
    "        access_type=DELEGATE\n",
    "    )\n",
    "    \n",
    "    # Access inbox\n",
    "    inbox = account.inbox\n",
    "    \n",
    "    # Get emails from inbox\n",
    "    emails = list(inbox.all().order_by('-datetime_received')[:10])  # Last 10 emails\n",
    "    \n",
    "    return emails\n",
    "\n",
    "# Usage\n",
    "emails = get_outlook_emails_with_ews()\n",
    "for email in emails:\n",
    "    print(f\"Subject: {email.subject}\")\n",
    "    print(f\"From: {email.sender.email_address}\")\n",
    "    print(f\"Received: {email.datetime_received}\")\n",
    "    print(\"-\" * 50)"
   ]
  }
 ],
 "metadata": {
  "kernelspec": {
   "display_name": "Python 3 (ipykernel)",
   "language": "python",
   "name": "python3"
  },
  "language_info": {
   "codemirror_mode": {
    "name": "ipython",
    "version": 3
   },
   "file_extension": ".py",
   "mimetype": "text/x-python",
   "name": "python",
   "nbconvert_exporter": "python",
   "pygments_lexer": "ipython3",
   "version": "3.9.13"
  },
  "nbTranslate": {
   "displayLangs": [
    "*"
   ],
   "hotkey": "alt-t",
   "langInMainMenu": true,
   "sourceLang": "en",
   "targetLang": "fr",
   "useGoogleTranslate": true
  },
  "toc": {
   "base_numbering": 1,
   "nav_menu": {},
   "number_sections": true,
   "sideBar": true,
   "skip_h1_title": false,
   "title_cell": "Table of Contents",
   "title_sidebar": "Contents",
   "toc_cell": false,
   "toc_position": {},
   "toc_section_display": true,
   "toc_window_display": false
  }
 },
 "nbformat": 4,
 "nbformat_minor": 5
}
