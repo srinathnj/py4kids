{
 "cells": [
  {
   "cell_type": "code",
   "execution_count": 1,
   "metadata": {},
   "outputs": [],
   "source": [
    "from pytube import YouTube, Playlist\n",
    "\n",
    "from IPython.display import display, HTML"
   ]
  },
  {
   "cell_type": "markdown",
   "metadata": {},
   "source": [
    "### Playlist"
   ]
  },
  {
   "cell_type": "code",
   "execution_count": 2,
   "metadata": {},
   "outputs": [],
   "source": [
    "url = \"https://www.youtube.com/watch?v=icvLQA1YvZo&list=PLl8dD0doyrvFfzzniWS7FXrZefWWExJ2e&index=2\""
   ]
  },
  {
   "cell_type": "code",
   "execution_count": 4,
   "metadata": {},
   "outputs": [
    {
     "data": {
      "text/plain": [
       "'list=PLl8dD0doyrvFfzzniWS7FXrZefWWExJ2e'"
      ]
     },
     "execution_count": 4,
     "metadata": {},
     "output_type": "execute_result"
    }
   ],
   "source": [
    "pl = [i for i in url.split(\"&\") if i.startswith(\"list=\")][0]"
   ]
  },
  {
   "cell_type": "code",
   "execution_count": 5,
   "metadata": {},
   "outputs": [],
   "source": [
    "if pl:\n",
    "    p = Playlist(f'https://www.youtube.com/playlist?{pl}')\n",
    "else:\n",
    "    raise Exception(\"Missing playlist\")"
   ]
  },
  {
   "cell_type": "code",
   "execution_count": 9,
   "metadata": {},
   "outputs": [],
   "source": [
    "videos = []\n",
    "for v in p.videos:\n",
    "    videos.append(dict(video_id=v.video_id, \n",
    "                       watch_url=v.watch_url, \n",
    "                       title=v.title, \n",
    "                       thumbnail_url=v.thumbnail_url)\n",
    "                 )"
   ]
  },
  {
   "cell_type": "raw",
   "metadata": {},
   "source": [
    "videos"
   ]
  },
  {
   "cell_type": "code",
   "execution_count": 18,
   "metadata": {},
   "outputs": [],
   "source": [
    "tab_html_start = f\"\"\"\n",
    "<h3>Playlist: {p.title}</h3>\n",
    "<table> \n",
    "\"\"\"\n",
    "\n",
    "tab_html_rows = \"\"\n",
    "for v in videos:\n",
    "    tab_html_rows += f\"\"\"\n",
    "<tr>\n",
    "<td>\n",
    "<a href={v[\"watch_url\"]}>{v[\"title\"]}</a><br>\n",
    "<a href={v[\"watch_url\"]}><img src={v[\"thumbnail_url\"]}> </a>\n",
    "</td>\n",
    "</tr>\n",
    "\"\"\"\n",
    "\n",
    "tab_html_end = \"\"\"\n",
    "<table>\n",
    "\"\"\"\n",
    "\n",
    "tab_html = tab_html_start + tab_html_rows + tab_html_end"
   ]
  },
  {
   "cell_type": "code",
   "execution_count": 19,
   "metadata": {
    "scrolled": false
   },
   "outputs": [
    {
     "data": {
      "text/html": [
       "\n",
       "<h3>Playlist: PySimpleGUI 2020</h3>\n",
       "<table> \n",
       "<tr>\n",
       "<td>\n",
       "Title\n",
       "</td>\n",
       "</tr>\n",
       "\n",
       "<tr>\n",
       "<td>\n",
       "<a href=https://youtube.com/watch?v=36BdjuNcQJ4>PySimpleGUI 2020 - START HERE - Whiteboard video overview</a><br>\n",
       "<a href=https://youtube.com/watch?v=36BdjuNcQJ4><img src=https://i.ytimg.com/vi/36BdjuNcQJ4/sddefault.jpg> </a>\n",
       "</td>\n",
       "</tr>\n",
       "\n",
       "<tr>\n",
       "<td>\n",
       "<a href=https://youtube.com/watch?v=icvLQA1YvZo>PySimpleGUI 2020  -  Part 0 - PSG For impatient people. A GUI in 5 minutes</a><br>\n",
       "<a href=https://youtube.com/watch?v=icvLQA1YvZo><img src=https://i.ytimg.com/vi/icvLQA1YvZo/sddefault.jpg> </a>\n",
       "</td>\n",
       "</tr>\n",
       "\n",
       "<tr>\n",
       "<td>\n",
       "<a href=https://youtube.com/watch?v=7FWQZ7WdVaY>PySimpleGUI 2020 - Part 1 Introduction of 17 overall videos in this series</a><br>\n",
       "<a href=https://youtube.com/watch?v=7FWQZ7WdVaY><img src=https://i.ytimg.com/vi/7FWQZ7WdVaY/sddefault.jpg> </a>\n",
       "</td>\n",
       "</tr>\n",
       "\n",
       "<tr>\n",
       "<td>\n",
       "<a href=https://youtube.com/watch?v=Kvz3Ia2hN_Y>PySimpleGUI 2020  - Part 1.5 -  PyCharm Setup</a><br>\n",
       "<a href=https://youtube.com/watch?v=Kvz3Ia2hN_Y><img src=https://i.ytimg.com/vi/Kvz3Ia2hN_Y/sddefault.jpg> </a>\n",
       "</td>\n",
       "</tr>\n",
       "\n",
       "<tr>\n",
       "<td>\n",
       "<a href=https://youtube.com/watch?v=18WgN6R_MZI>PySimpleGUI 2020   Part 2 Front ends - Add a GUI \"Font End\" to any command line program</a><br>\n",
       "<a href=https://youtube.com/watch?v=18WgN6R_MZI><img src=https://i.ytimg.com/vi/18WgN6R_MZI/sddefault.jpg> </a>\n",
       "</td>\n",
       "</tr>\n",
       "\n",
       "<tr>\n",
       "<td>\n",
       "<a href=https://youtube.com/watch?v=Ja1JD0hWkJQ>PySimpleGUI 2020  Part 3 - Your First Window ! (THE one to watch)</a><br>\n",
       "<a href=https://youtube.com/watch?v=Ja1JD0hWkJQ><img src=https://i.ytimg.com/vi/Ja1JD0hWkJQ/sddefault.jpg> </a>\n",
       "</td>\n",
       "</tr>\n",
       "\n",
       "<tr>\n",
       "<td>\n",
       "<a href=https://youtube.com/watch?v=5hTWdnFz2Ts>PySimpleGUI 2020  Part 4 - Updating Windows</a><br>\n",
       "<a href=https://youtube.com/watch?v=5hTWdnFz2Ts><img src=https://i.ytimg.com/vi/5hTWdnFz2Ts/sddefault.jpg> </a>\n",
       "</td>\n",
       "</tr>\n",
       "\n",
       "<tr>\n",
       "<td>\n",
       "<a href=https://youtube.com/watch?v=BdRM-QubuQA>PySimpleGUI 2020  Part 5 - Shortcuts</a><br>\n",
       "<a href=https://youtube.com/watch?v=BdRM-QubuQA><img src=https://i.ytimg.com/vi/BdRM-QubuQA/sddefault.jpg> </a>\n",
       "</td>\n",
       "</tr>\n",
       "\n",
       "<tr>\n",
       "<td>\n",
       "<a href=https://youtube.com/watch?v=uyvN7mlAG9g>PySimpleGUI 2020   Part 6 - Beautiful Windows</a><br>\n",
       "<a href=https://youtube.com/watch?v=uyvN7mlAG9g><img src=https://i.ytimg.com/vi/uyvN7mlAG9g/sddefault.jpg> </a>\n",
       "</td>\n",
       "</tr>\n",
       "\n",
       "<tr>\n",
       "<td>\n",
       "<a href=https://youtube.com/watch?v=y7UZUccC2yU>PySimpleGUI 2020   Part 7 - Button Targets (File, Calendar, Color Chooser Buttons)</a><br>\n",
       "<a href=https://youtube.com/watch?v=y7UZUccC2yU><img src=https://i.ytimg.com/vi/y7UZUccC2yU/hqdefault.jpg> </a>\n",
       "</td>\n",
       "</tr>\n",
       "\n",
       "<tr>\n",
       "<td>\n",
       "<a href=https://youtube.com/watch?v=rif2RM5Tou8>PySimpleGUI 2020   Part 8 - Async Windows (Periodically run your event loop)</a><br>\n",
       "<a href=https://youtube.com/watch?v=rif2RM5Tou8><img src=https://i.ytimg.com/vi/rif2RM5Tou8/sddefault.jpg> </a>\n",
       "</td>\n",
       "</tr>\n",
       "\n",
       "<tr>\n",
       "<td>\n",
       "<a href=https://youtube.com/watch?v=e1TR9Wq0QRs>PySimpleGUI 2020   Part 9 - Containers. Layouts within Layouts (Columns, Frames, Tabs, Panes)</a><br>\n",
       "<a href=https://youtube.com/watch?v=e1TR9Wq0QRs><img src=https://i.ytimg.com/vi/e1TR9Wq0QRs/sddefault.jpg> </a>\n",
       "</td>\n",
       "</tr>\n",
       "\n",
       "<tr>\n",
       "<td>\n",
       "<a href=https://youtube.com/watch?v=KUW6khTdoC0>PySimpleGUI 2020   Part 10 - Generated Layouts.  Writing code to create a layout</a><br>\n",
       "<a href=https://youtube.com/watch?v=KUW6khTdoC0><img src=https://i.ytimg.com/vi/KUW6khTdoC0/sddefault.jpg> </a>\n",
       "</td>\n",
       "</tr>\n",
       "\n",
       "<tr>\n",
       "<td>\n",
       "<a href=https://youtube.com/watch?v=lUBouyFBfWE>PySimpleGUI 2020   Part 11 - Justification (Left, Center, Right)</a><br>\n",
       "<a href=https://youtube.com/watch?v=lUBouyFBfWE><img src=https://i.ytimg.com/vi/lUBouyFBfWE/sddefault.jpg> </a>\n",
       "</td>\n",
       "</tr>\n",
       "\n",
       "<tr>\n",
       "<td>\n",
       "<a href=https://youtube.com/watch?v=xmG53Fwynps>PySimpleGUI 2020   Part 12 - Menus (Menubar, Right Click Menu, ButtonMenus)</a><br>\n",
       "<a href=https://youtube.com/watch?v=xmG53Fwynps><img src=https://i.ytimg.com/vi/xmG53Fwynps/hqdefault.jpg> </a>\n",
       "</td>\n",
       "</tr>\n",
       "\n",
       "<tr>\n",
       "<td>\n",
       "<a href=https://youtube.com/watch?v=i5dwJ6xFZbg>PySimpleGUI 2020   Tools of the Trade - Snagit & ShareX</a><br>\n",
       "<a href=https://youtube.com/watch?v=i5dwJ6xFZbg><img src=https://i.ytimg.com/vi/i5dwJ6xFZbg/sddefault.jpg> </a>\n",
       "</td>\n",
       "</tr>\n",
       "\n",
       "<tr>\n",
       "<td>\n",
       "<a href=https://youtube.com/watch?v=Uby1O7vHEOA>PySimpleGUI 2020 - How to add screenshots to your GitHub's Readme File</a><br>\n",
       "<a href=https://youtube.com/watch?v=Uby1O7vHEOA><img src=https://i.ytimg.com/vi/Uby1O7vHEOA/sddefault.jpg> </a>\n",
       "</td>\n",
       "</tr>\n",
       "\n",
       "<table>\n"
      ],
      "text/plain": [
       "<IPython.core.display.HTML object>"
      ]
     },
     "metadata": {},
     "output_type": "display_data"
    }
   ],
   "source": [
    "display(HTML(tab_html))"
   ]
  },
  {
   "cell_type": "code",
   "execution_count": null,
   "metadata": {},
   "outputs": [],
   "source": []
  },
  {
   "cell_type": "markdown",
   "metadata": {},
   "source": [
    "### Video"
   ]
  },
  {
   "cell_type": "code",
   "execution_count": 15,
   "metadata": {},
   "outputs": [],
   "source": [
    "yt = YouTube(v.watch_url)"
   ]
  },
  {
   "cell_type": "code",
   "execution_count": 16,
   "metadata": {},
   "outputs": [
    {
     "data": {
      "text/plain": [
       "('Peter Wang: Python and the Source Code of Humans, Computers, and Reality | Lex Fridman Podcast #250',\n",
       " 'https://i.ytimg.com/vi/X0-SXS6zdEQ/sddefault.jpg')"
      ]
     },
     "execution_count": 16,
     "metadata": {},
     "output_type": "execute_result"
    }
   ],
   "source": [
    "yt.title, yt.thumbnail_url"
   ]
  },
  {
   "cell_type": "code",
   "execution_count": 18,
   "metadata": {},
   "outputs": [
    {
     "data": {
      "text/plain": [
       "[<Stream: itag=\"18\" mime_type=\"video/mp4\" res=\"360p\" fps=\"30fps\" vcodec=\"avc1.42001E\" acodec=\"mp4a.40.2\" progressive=\"True\" type=\"video\">, <Stream: itag=\"22\" mime_type=\"video/mp4\" res=\"720p\" fps=\"30fps\" vcodec=\"avc1.64001F\" acodec=\"mp4a.40.2\" progressive=\"True\" type=\"video\">, <Stream: itag=\"137\" mime_type=\"video/mp4\" res=\"1080p\" fps=\"30fps\" vcodec=\"avc1.640028\" progressive=\"False\" type=\"video\">, <Stream: itag=\"136\" mime_type=\"video/mp4\" res=\"720p\" fps=\"30fps\" vcodec=\"avc1.4d401f\" progressive=\"False\" type=\"video\">, <Stream: itag=\"135\" mime_type=\"video/mp4\" res=\"480p\" fps=\"30fps\" vcodec=\"avc1.4d401f\" progressive=\"False\" type=\"video\">, <Stream: itag=\"134\" mime_type=\"video/mp4\" res=\"360p\" fps=\"30fps\" vcodec=\"avc1.4d401e\" progressive=\"False\" type=\"video\">, <Stream: itag=\"133\" mime_type=\"video/mp4\" res=\"240p\" fps=\"30fps\" vcodec=\"avc1.4d4015\" progressive=\"False\" type=\"video\">, <Stream: itag=\"160\" mime_type=\"video/mp4\" res=\"144p\" fps=\"30fps\" vcodec=\"avc1.4d400c\" progressive=\"False\" type=\"video\">, <Stream: itag=\"139\" mime_type=\"audio/mp4\" abr=\"48kbps\" acodec=\"mp4a.40.5\" progressive=\"False\" type=\"audio\">, <Stream: itag=\"140\" mime_type=\"audio/mp4\" abr=\"128kbps\" acodec=\"mp4a.40.2\" progressive=\"False\" type=\"audio\">]"
      ]
     },
     "execution_count": 18,
     "metadata": {},
     "output_type": "execute_result"
    }
   ],
   "source": [
    "yt.streams.filter(file_extension='mp4')"
   ]
  },
  {
   "cell_type": "code",
   "execution_count": 19,
   "metadata": {},
   "outputs": [],
   "source": [
    "itag_mp4_video_720p = 22\n",
    "itag_mp4_audio_128kbps = 140"
   ]
  },
  {
   "cell_type": "code",
   "execution_count": 20,
   "metadata": {},
   "outputs": [],
   "source": [
    "SAVE_PATH = \"C:/Users/w_gon/Videos\""
   ]
  },
  {
   "cell_type": "code",
   "execution_count": 21,
   "metadata": {},
   "outputs": [
    {
     "data": {
      "text/plain": [
       "'C:/Users/w_gon/Videos\\\\Peter Wang Python and the Source Code of Humans Computers and Reality  Lex Fridman Podcast 250.mp4'"
      ]
     },
     "execution_count": 21,
     "metadata": {},
     "output_type": "execute_result"
    }
   ],
   "source": [
    "yt.streams.get_by_itag(itag_mp4_audio_128kbps).download(output_path=SAVE_PATH)"
   ]
  },
  {
   "cell_type": "code",
   "execution_count": null,
   "metadata": {},
   "outputs": [],
   "source": []
  }
 ],
 "metadata": {
  "kernelspec": {
   "display_name": "Python 3",
   "language": "python",
   "name": "python3"
  },
  "language_info": {
   "codemirror_mode": {
    "name": "ipython",
    "version": 3
   },
   "file_extension": ".py",
   "mimetype": "text/x-python",
   "name": "python",
   "nbconvert_exporter": "python",
   "pygments_lexer": "ipython3",
   "version": "3.8.5"
  },
  "toc": {
   "base_numbering": 1,
   "nav_menu": {},
   "number_sections": true,
   "sideBar": true,
   "skip_h1_title": false,
   "title_cell": "Table of Contents",
   "title_sidebar": "Contents",
   "toc_cell": false,
   "toc_position": {},
   "toc_section_display": true,
   "toc_window_display": false
  }
 },
 "nbformat": 4,
 "nbformat_minor": 4
}
