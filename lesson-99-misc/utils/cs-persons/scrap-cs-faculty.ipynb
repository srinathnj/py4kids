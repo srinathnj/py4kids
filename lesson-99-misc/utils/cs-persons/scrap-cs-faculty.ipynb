{
 "cells": [
  {
   "cell_type": "markdown",
   "id": "fe199bf9",
   "metadata": {},
   "source": [
    "## US CS Faculty Dataset\n",
    "- [CS Faculty Composition and Hiring Trends (Blog)](https://jeffhuang.com/computer-science-open-data/#cs-faculty-composition-and-hiring-trends)\n",
    "- [2200 Computer Science Professors in 50 top US Graduate Programs](https://cs.brown.edu/people/apapouts/faculty_dataset.html)\n",
    "- [CS Professors (Data Explorer)](https://drafty.cs.brown.edu/csprofessors?src=csopendata)\n",
    "- [Drafty Project](https://drafty.cs.brown.edu/)"
   ]
  },
  {
   "cell_type": "code",
   "execution_count": 4,
   "id": "a859bd69",
   "metadata": {},
   "outputs": [],
   "source": [
    "def parser_cornell():\n",
    "    pass\n",
    "\n",
    "def parser_uiuc():\n",
    "    pass\n",
    "\n",
    "def parser_stanford():\n",
    "    pass\n",
    "\n",
    "def parser_mit():\n",
    "    pass\n",
    "\n",
    "def parser_ucb():\n",
    "    pass\n",
    "\n",
    "def parser_cmu():\n",
    "    pass"
   ]
  },
  {
   "cell_type": "code",
   "execution_count": 5,
   "id": "b74fd9db",
   "metadata": {},
   "outputs": [],
   "source": [
    "schools = {\n",
    "    \"cornell-cs\": {\n",
    "        \"url\": \"https://www.cs.cornell.edu/people/faculty\",\n",
    "        \"parser\": parser_cornell,\n",
    "    },\n",
    "    \"uiuc-cs\": {\n",
    "        \"url\": \"https://cs.illinois.edu/about/people/department-faculty\",\n",
    "        \"parser\": parser_uiuc,\n",
    "    },\n",
    "    \"stanford-cs\": {\n",
    "        \"url\": \"https://cs.stanford.edu/directory/faculty\",\n",
    "        \"parser\": parser_stanford,\n",
    "    },\n",
    "    \"mit-aid\": {\n",
    "        \"url\": \"https://www.eecs.mit.edu/role/faculty-aid/\",\n",
    "        \"parser\": parser_mit,\n",
    "    },\n",
    "    \"mit-cs\": {\n",
    "        \"url\": \"https://www.eecs.mit.edu/role/faculty-cs/\",\n",
    "        \"parser\": parser_mit,\n",
    "    },\n",
    "    \"ucb-cs\": {\n",
    "        \"url\": \"https://www2.eecs.berkeley.edu/Faculty/Lists/CS/faculty.html\",\n",
    "        \"parser\": parser_ucb,\n",
    "    },\n",
    "    \"cmu-cs\": {\n",
    "        \"url\": \"https://csd.cmu.edu/people/faculty\",\n",
    "        \"parser\": parser_cmu,\n",
    "    },\n",
    "}"
   ]
  },
  {
   "cell_type": "markdown",
   "id": "439416e6",
   "metadata": {},
   "source": [
    "Data attributes:\n",
    "- first_name\n",
    "- last_name\n",
    "- job_title\n",
    "- email\n",
    "- work_phone\n",
    "- cell_phone\n",
    "- university\n",
    "- department\n",
    "- office_address\n",
    "- website\n",
    "- personal_website\n",
    "- image_url\n",
    "- education\n",
    "    - phd\n",
    "    - bachelor\n",
    "    - postdoc\n",
    "- profile\n",
    "- join_year\n",
    "- research_area (research_interest)\n",
    "- research_focus\n",
    "- research_concentration\n",
    "- admin_assistant\n"
   ]
  },
  {
   "cell_type": "raw",
   "id": "e480d6c2",
   "metadata": {},
   "source": [
    "s = \"first_name, last_name, website, personal_website, job_title, email, education, research_area\"\n",
    "d = [i.strip() for i in s.split(\",\") if i.strip()]\n",
    "\n",
    "print(\"\\n- \".join(d))"
   ]
  },
  {
   "cell_type": "code",
   "execution_count": null,
   "id": "a3950d75",
   "metadata": {},
   "outputs": [],
   "source": []
  }
 ],
 "metadata": {
  "kernelspec": {
   "display_name": "Python 3 (ipykernel)",
   "language": "python",
   "name": "python3"
  },
  "language_info": {
   "codemirror_mode": {
    "name": "ipython",
    "version": 3
   },
   "file_extension": ".py",
   "mimetype": "text/x-python",
   "name": "python",
   "nbconvert_exporter": "python",
   "pygments_lexer": "ipython3",
   "version": "3.9.13"
  },
  "nbTranslate": {
   "displayLangs": [
    "*"
   ],
   "hotkey": "alt-t",
   "langInMainMenu": true,
   "sourceLang": "en",
   "targetLang": "fr",
   "useGoogleTranslate": true
  },
  "toc": {
   "base_numbering": 1,
   "nav_menu": {},
   "number_sections": true,
   "sideBar": true,
   "skip_h1_title": false,
   "title_cell": "Table of Contents",
   "title_sidebar": "Contents",
   "toc_cell": false,
   "toc_position": {},
   "toc_section_display": true,
   "toc_window_display": false
  }
 },
 "nbformat": 4,
 "nbformat_minor": 5
}
