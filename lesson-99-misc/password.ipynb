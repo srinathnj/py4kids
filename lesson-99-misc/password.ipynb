{
 "cells": [
  {
   "cell_type": "code",
   "execution_count": 1,
   "id": "c8bc3e13-0b33-45cf-98ef-59b2cf6c089c",
   "metadata": {},
   "outputs": [
    {
     "name": "stdout",
     "output_type": "stream",
     "text": [
      "Requirement already satisfied: bcrypt in /home/gongai/anaconda3/lib/python3.11/site-packages (4.1.2)\n"
     ]
    }
   ],
   "source": [
    "!pip install bcrypt"
   ]
  },
  {
   "cell_type": "code",
   "execution_count": null,
   "id": "2666a32c-6d35-40ce-b006-7659eca40aaf",
   "metadata": {},
   "outputs": [],
   "source": [
    "import bcrypt\n",
    "import re\n",
    "from typing import Tuple, Optional\n",
    "\n",
    "class PasswordError(Exception):\n",
    "    \"\"\"Custom exception for password-related errors\"\"\"\n",
    "    pass\n",
    "\n",
    "def validate_password_strength(password: str) -> Tuple[bool, Optional[str]]:\n",
    "    \"\"\"\n",
    "    Validate password strength against security requirements.\n",
    "    \n",
    "    Requirements:\n",
    "    - Minimum 8 characters\n",
    "    - At least one uppercase letter\n",
    "    - At least one lowercase letter\n",
    "    - At least one number\n",
    "    - At least one special character\n",
    "    \n",
    "    Args:\n",
    "        password: The password to validate\n",
    "        \n",
    "    Returns:\n",
    "        Tuple[bool, Optional[str]]: (is_valid, error_message)\n",
    "    \"\"\"\n",
    "    if len(password) < 8:\n",
    "        return False, \"Password must be at least 8 characters long\"\n",
    "    \n",
    "    if not re.search(r\"[A-Z]\", password):\n",
    "        return False, \"Password must contain at least one uppercase letter\"\n",
    "    \n",
    "    if not re.search(r\"[a-z]\", password):\n",
    "        return False, \"Password must contain at least one lowercase letter\"\n",
    "    \n",
    "    if not re.search(r\"\\d\", password):\n",
    "        return False, \"Password must contain at least one number\"\n",
    "    \n",
    "    if not re.search(r\"[!@#$%^&*(),.?\\\":{}|<>]\", password):\n",
    "        return False, \"Password must contain at least one special character\"\n",
    "    \n",
    "    return True, None\n",
    "\n",
    "def hash_password(password: str) -> bytes:\n",
    "    \"\"\"\n",
    "    Hash a password using bcrypt with salt.\n",
    "    \n",
    "    Args:\n",
    "        password: The plain text password to hash\n",
    "        \n",
    "    Returns:\n",
    "        bytes: The hashed password with salt\n",
    "        \n",
    "    Raises:\n",
    "        PasswordError: If password doesn't meet strength requirements\n",
    "    \"\"\"\n",
    "    # First validate password strength\n",
    "    is_valid, error_message = validate_password_strength(password)\n",
    "    if not is_valid:\n",
    "        raise PasswordError(error_message)\n",
    "    \n",
    "    # Generate a salt and hash the password\n",
    "    # WorkFactor of 12 is considered secure as of 2024 while still being reasonably fast\n",
    "    salt = bcrypt.gensalt(rounds=12)\n",
    "    hashed = bcrypt.hashpw(password.encode('utf-8'), salt)\n",
    "    return hashed\n",
    "\n",
    "def verify_password(password: str, hashed_password: bytes) -> bool:\n",
    "    \"\"\"\n",
    "    Verify a password against a hashed password.\n",
    "    \n",
    "    Args:\n",
    "        password: The plain text password to verify\n",
    "        hashed_password: The hashed password to check against\n",
    "        \n",
    "    Returns:\n",
    "        bool: True if password matches, False otherwise\n",
    "    \"\"\"\n",
    "    try:\n",
    "        return bcrypt.checkpw(password.encode('utf-8'), hashed_password)\n",
    "    except Exception:\n",
    "        return False"
   ]
  },
  {
   "cell_type": "code",
   "execution_count": 12,
   "id": "41289782-b821-4531-ba81-0ab07bb72b0e",
   "metadata": {},
   "outputs": [
    {
     "name": "stdout",
     "output_type": "stream",
     "text": [
      "\n",
      "Hashed password: MySecure123!@# --> b'$2b$12$/ED5UWfvfWW2KyrB41x71.JL/fdw0Mcgzdv8e161upQGk0EGDOaz6'\n",
      "...... Result: True\n",
      "\n",
      "Hashed password: WrongPassword123!@# --> b'$2b$12$/ED5UWfvfWW2KyrB41x71.JL/fdw0Mcgzdv8e161upQGk0EGDOaz6'\n",
      "Invalid password verification (should be False): False\n",
      "Weak password rejected: Password must be at least 8 characters long\n",
      "\n",
      "Hashed password: H7_Super_007@gmail.com --> b'$2b$12$B1wBS0lDL4eN7VwI97FSF.tvEnJnofd7QPeaZ1UNWM0V0iCyC.RKy'\n",
      "...... Result: True\n",
      "\n",
      "Hashed password: H7_User_131@gmail.com --> b'$2b$12$kz9iWqf2jgW/HOlZOC2jsuAXCdxjY9g5oQQC5a8NKodurQ1s2neBK'\n",
      "...... Result: True\n",
      "\n",
      "Hashed password: H7_User_212@gmail.com --> b'$2b$12$b0DpatShSnjdeam8vhVyu.ay59zaXdaXZXghl1F99/JyA1R.vVx7y'\n",
      "...... Result: True\n"
     ]
    }
   ],
   "source": [
    "# Example usage:\n",
    "def example_usage():\n",
    "    try:\n",
    "        # Hashing a password\n",
    "        password = \"MySecure123!@#\"\n",
    "        hashed_password = hash_password(password)\n",
    "        print(f\"\\nHashed password: {password} --> {hashed_password}\")\n",
    "        \n",
    "        # Verifying a password\n",
    "        is_valid = verify_password(password, hashed_password)\n",
    "        print(f\"...... Result: {is_valid}\")\n",
    "        \n",
    "        # Testing invalid password\n",
    "        password = \"WrongPassword123!@#\"\n",
    "        print(f\"\\nHashed password: {password} --> {hashed_password}\")\n",
    "        is_valid = verify_password(password, hashed_password)\n",
    "        print(f\"Invalid password verification (should be False): {is_valid}\")\n",
    "        \n",
    "        # Testing weak password\n",
    "        pwd_list = [\"weak\", 'H7_Super_007@gmail.com', 'H7_User_131@gmail.com', 'H7_User_212@gmail.com']    \n",
    "        for password in pwd_list:\n",
    "            try:\n",
    "                hashed_password = hash_password(password)\n",
    "                print(f\"\\nHashed password: {password} --> {hashed_password}\")\n",
    "                is_valid = verify_password(password, hashed_password)\n",
    "                print(f\"...... Result: {is_valid}\")\n",
    "            except PasswordError as e:\n",
    "                print(f\"Weak password rejected: {str(e)}\")\n",
    "            \n",
    "    except Exception as e:\n",
    "        print(f\"Error: {str(e)}\")\n",
    "\n",
    "if __name__ == \"__main__\":\n",
    "    example_usage()"
   ]
  },
  {
   "cell_type": "code",
   "execution_count": 11,
   "id": "11fc9c5c-28c4-4503-9470-454d7277dda1",
   "metadata": {},
   "outputs": [
    {
     "data": {
      "text/plain": [
       "['H7_Super_007@gmail.com', 'H7_User_131@gmail.com', 'H7_User_212@gmail.com']"
      ]
     },
     "execution_count": 11,
     "metadata": {},
     "output_type": "execute_result"
    }
   ],
   "source": [
    "s = \"\"\" \n",
    "H7_Super_007@gmail.com\n",
    "H7_User_131@gmail.com\n",
    "H7_User_212@gmail.com\n",
    "\n",
    "\"\"\"\n",
    "[i for i in s.split()]"
   ]
  },
  {
   "cell_type": "code",
   "execution_count": 10,
   "id": "9996d732-298d-49d2-a608-16ffb77aaf62",
   "metadata": {},
   "outputs": [
    {
     "name": "stdout",
     "output_type": "stream",
     "text": [
      "weak\n",
      "H7_Super_007@gmail.com\n",
      "H7_Usr_131@gmail.com\n",
      "H7_Usr_214@gmail.com\n"
     ]
    }
   ],
   "source": [
    "print(\"\\n\".join([\"weak\", 'H7_Super_007@gmail.com', 'H7_Usr_131@gmail.com', 'H7_Usr_214@gmail.com'] ))"
   ]
  },
  {
   "cell_type": "code",
   "execution_count": null,
   "id": "c6feaacd-b383-43af-abc7-03a30dff2db9",
   "metadata": {},
   "outputs": [],
   "source": []
  }
 ],
 "metadata": {
  "kernelspec": {
   "display_name": "Python 3 (ipykernel)",
   "language": "python",
   "name": "python3"
  },
  "language_info": {
   "codemirror_mode": {
    "name": "ipython",
    "version": 3
   },
   "file_extension": ".py",
   "mimetype": "text/x-python",
   "name": "python",
   "nbconvert_exporter": "python",
   "pygments_lexer": "ipython3",
   "version": "3.11.5"
  }
 },
 "nbformat": 4,
 "nbformat_minor": 5
}
