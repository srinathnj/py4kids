{
 "cells": [
  {
   "cell_type": "code",
   "execution_count": 1,
   "id": "a12f9c7c",
   "metadata": {},
   "outputs": [],
   "source": [
    "import pandas as pd"
   ]
  },
  {
   "cell_type": "code",
   "execution_count": 2,
   "id": "88ac16a0",
   "metadata": {},
   "outputs": [],
   "source": [
    "data = [\n",
    "    {\n",
    "        \"tweet\": \"What a great new feature! I love it!\",\n",
    "        \"author\": \"John Rose\",\n",
    "        \"sentiment\": \"🤩 Positive\",\n",
    "    },\n",
    "    {\n",
    "        \"tweet\": \"I don't like this feature. It's not useful. I prefer chart improvements.\",\n",
    "        \"author\": \"Will Hangu\",\n",
    "        \"sentiment\": \"\",\n",
    "    },\n",
    "    {\n",
    "        \"tweet\": \"Wow, the Streamlit team can be proud! What an achievement!\",\n",
    "        \"author\": \"Luca Masucco\",\n",
    "        \"sentiment\": \"\",\n",
    "    },\n",
    "    {\n",
    "        \"tweet\": \"The recent ChatGPT breakthrough is really exciting.\",\n",
    "        \"author\": \"Adrien Tree\",\n",
    "        \"sentiment\": \"\",\n",
    "    },\n",
    "]"
   ]
  },
  {
   "cell_type": "code",
   "execution_count": 3,
   "id": "fb0cf5e8",
   "metadata": {},
   "outputs": [],
   "source": [
    "df = pd.DataFrame(data)"
   ]
  },
  {
   "cell_type": "code",
   "execution_count": 4,
   "id": "c38caef2",
   "metadata": {},
   "outputs": [],
   "source": [
    "df.sentiment = df.sentiment.astype(\"category\")"
   ]
  },
  {
   "cell_type": "code",
   "execution_count": 5,
   "id": "64f043b7",
   "metadata": {},
   "outputs": [
    {
     "data": {
      "text/html": [
       "<div>\n",
       "<style scoped>\n",
       "    .dataframe tbody tr th:only-of-type {\n",
       "        vertical-align: middle;\n",
       "    }\n",
       "\n",
       "    .dataframe tbody tr th {\n",
       "        vertical-align: top;\n",
       "    }\n",
       "\n",
       "    .dataframe thead th {\n",
       "        text-align: right;\n",
       "    }\n",
       "</style>\n",
       "<table border=\"1\" class=\"dataframe\">\n",
       "  <thead>\n",
       "    <tr style=\"text-align: right;\">\n",
       "      <th></th>\n",
       "      <th>tweet</th>\n",
       "      <th>author</th>\n",
       "      <th>sentiment</th>\n",
       "    </tr>\n",
       "  </thead>\n",
       "  <tbody>\n",
       "    <tr>\n",
       "      <th>0</th>\n",
       "      <td>What a great new feature! I love it!</td>\n",
       "      <td>John Rose</td>\n",
       "      <td>🤩 Positive</td>\n",
       "    </tr>\n",
       "    <tr>\n",
       "      <th>1</th>\n",
       "      <td>I don't like this feature. It's not useful. I ...</td>\n",
       "      <td>Will Hangu</td>\n",
       "      <td></td>\n",
       "    </tr>\n",
       "    <tr>\n",
       "      <th>2</th>\n",
       "      <td>Wow, the Streamlit team can be proud! What an ...</td>\n",
       "      <td>Luca Masucco</td>\n",
       "      <td></td>\n",
       "    </tr>\n",
       "    <tr>\n",
       "      <th>3</th>\n",
       "      <td>The recent ChatGPT breakthrough is really exci...</td>\n",
       "      <td>Adrien Tree</td>\n",
       "      <td></td>\n",
       "    </tr>\n",
       "  </tbody>\n",
       "</table>\n",
       "</div>"
      ],
      "text/plain": [
       "                                               tweet        author   sentiment\n",
       "0               What a great new feature! I love it!     John Rose  🤩 Positive\n",
       "1  I don't like this feature. It's not useful. I ...    Will Hangu            \n",
       "2  Wow, the Streamlit team can be proud! What an ...  Luca Masucco            \n",
       "3  The recent ChatGPT breakthrough is really exci...   Adrien Tree            "
      ]
     },
     "execution_count": 5,
     "metadata": {},
     "output_type": "execute_result"
    }
   ],
   "source": [
    "df"
   ]
  },
  {
   "cell_type": "code",
   "execution_count": 10,
   "id": "70c87739",
   "metadata": {},
   "outputs": [
    {
     "data": {
      "text/plain": [
       "['🤩 Positive', '']\n",
       "Categories (2, object): ['', '🤩 Positive']"
      ]
     },
     "execution_count": 10,
     "metadata": {},
     "output_type": "execute_result"
    }
   ],
   "source": [
    "EXIST_SENTS = df.sentiment.unique()\n",
    "EXIST_SENTS"
   ]
  },
  {
   "cell_type": "code",
   "execution_count": 7,
   "id": "2ffd3c04",
   "metadata": {},
   "outputs": [],
   "source": [
    "LOV_SENTIMENTS = (\"🤩 Positive\", \"☯ Neutral\", \"😤 Negative\", \"\")"
   ]
  },
  {
   "cell_type": "code",
   "execution_count": 11,
   "id": "e8c4ec36",
   "metadata": {},
   "outputs": [
    {
     "data": {
      "text/plain": [
       "('😤 Negative', '☯ Neutral')"
      ]
     },
     "execution_count": 11,
     "metadata": {},
     "output_type": "execute_result"
    }
   ],
   "source": [
    "tuple(set(LOV_SENTIMENTS).difference(set(EXIST_SENTS)))"
   ]
  },
  {
   "cell_type": "code",
   "execution_count": null,
   "id": "ffef2719",
   "metadata": {},
   "outputs": [],
   "source": []
  }
 ],
 "metadata": {
  "kernelspec": {
   "display_name": "Python 3 (ipykernel)",
   "language": "python",
   "name": "python3"
  },
  "language_info": {
   "codemirror_mode": {
    "name": "ipython",
    "version": 3
   },
   "file_extension": ".py",
   "mimetype": "text/x-python",
   "name": "python",
   "nbconvert_exporter": "python",
   "pygments_lexer": "ipython3",
   "version": "3.10.6"
  }
 },
 "nbformat": 4,
 "nbformat_minor": 5
}
