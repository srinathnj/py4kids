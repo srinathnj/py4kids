{
 "cells": [
  {
   "cell_type": "markdown",
   "id": "179ba682",
   "metadata": {},
   "source": [
    "walk dir with fixed level"
   ]
  },
  {
   "cell_type": "code",
   "execution_count": 13,
   "id": "2b0a4c73",
   "metadata": {},
   "outputs": [],
   "source": [
    "import os\n",
    "\n",
    "def get_leaf_nodes(root_path, max_depth, debug=False):\n",
    "    file_paths = []\n",
    "    \n",
    "    def walk_directory(path, depth, debug=debug):\n",
    "        if debug: print(f\"path, depth = {path}, {depth}\")\n",
    "        if depth > max_depth:\n",
    "            return\n",
    "        \n",
    "        for entry in os.scandir(path): # os.walk(path) # \n",
    "            if debug: print(f\"entry = {entry.path}\")\n",
    "            if entry.is_dir():\n",
    "                walk_directory(entry.path, depth+1, debug=debug)\n",
    "\n",
    "            file_paths.append(entry.path)\n",
    "    \n",
    "    walk_directory(root_path, 0, debug=debug)\n",
    "    return file_paths"
   ]
  },
  {
   "cell_type": "code",
   "execution_count": 4,
   "id": "054284a4",
   "metadata": {},
   "outputs": [],
   "source": [
    "def un_snake_case(s, sep='_'):\n",
    "    return \" \".join([i.capitalize() for i in s.split(sep)])"
   ]
  },
  {
   "cell_type": "code",
   "execution_count": 8,
   "id": "dd8d74a3",
   "metadata": {},
   "outputs": [
    {
     "name": "stdout",
     "output_type": "stream",
     "text": [
      "Hello world\n"
     ]
    }
   ],
   "source": [
    "s = 'hello world'\n",
    "print(un_snake_case(s))"
   ]
  },
  {
   "cell_type": "code",
   "execution_count": 16,
   "id": "900c0d86",
   "metadata": {},
   "outputs": [],
   "source": [
    "file_list = get_leaf_nodes('.', 1, debug=False)"
   ]
  },
  {
   "cell_type": "code",
   "execution_count": 23,
   "id": "ef423fcb",
   "metadata": {
    "scrolled": true
   },
   "outputs": [],
   "source": [
    "out = []\n",
    "for x in file_list:\n",
    "    i = x.split('\\\\')\n",
    "    if len(i)>=2 and i[-2] != '.':\n",
    "        out.append((i[-2], i[-1]))"
   ]
  },
  {
   "cell_type": "code",
   "execution_count": 24,
   "id": "fe57ef8e",
   "metadata": {
    "scrolled": true
   },
   "outputs": [
    {
     "data": {
      "text/plain": [
       "[('.ipynb_checkpoints', 'Untitled-checkpoint.ipynb'),\n",
       " ('ai', 'gpt4all'),\n",
       " ('ai', 'langchain'),\n",
       " ('ai', 'readme.html'),\n",
       " ('ai', 'readme.md'),\n",
       " ('ai', 'readme_files'),\n",
       " ('ai', 'ShuaiGao16'),\n",
       " ('ai', 'Streamlit-Apps'),\n",
       " ('ai', 'streamlit-LLM.lnk'),\n",
       " ('ai', 'TREQS'),\n",
       " ('ai', 'vllm'),\n",
       " ('Duck-Analytics', 'fugue-tutorial_readme.md'),\n",
       " ('Duck-Analytics', 'tutorials'),\n",
       " ('gongwork', 'nicegui'),\n",
       " ('quarto', 'get-started-quarto'),\n",
       " ('quarto', 'pydata-book'),\n",
       " ('quarto', 'r-workflow'),\n",
       " ('quarto', 'r4ds'),\n",
       " ('quarto', 'visualization-curriculum'),\n",
       " ('research', 'scholarly'),\n",
       " ('tmp', 'flight-prices-streamlit-app-1-main'),\n",
       " ('tmp', 'flight-prices-streamlit-app-1-main.zip'),\n",
       " ('wgong', '.ipynb_checkpoints'),\n",
       " ('wgong', 'activate_venv_st_latest.bat'),\n",
       " ('wgong', 'AI'),\n",
       " ('wgong', 'CatGDP'),\n",
       " ('wgong', 'chat-records'),\n",
       " ('wgong', 'cs-faculty'),\n",
       " ('wgong', 'cs-faculty-dev-2023-04-02'),\n",
       " ('wgong', 'cs-faculty-test'),\n",
       " ('wgong', 'cs-faculty-v1.1-2023-06-04'),\n",
       " ('wgong', 'csinfo'),\n",
       " ('wgong', 'Data-Science-Topics'),\n",
       " ('wgong', 'demo-multipage-apps'),\n",
       " ('wgong', 'dimeachart'),\n",
       " ('wgong', 'duckdb'),\n",
       " ('wgong', 'fugue'),\n",
       " ('wgong', 'gpt3codex'),\n",
       " ('wgong', 'gpt3sql'),\n",
       " ('wgong', 'gradio'),\n",
       " ('wgong', 'localGPT'),\n",
       " ('wgong', 'mymedia'),\n",
       " ('wgong', 'nicegui_pr'),\n",
       " ('wgong', 'private'),\n",
       " ('wgong', 'privateGPT'),\n",
       " ('wgong', 'py4kids'),\n",
       " ('wgong', 'react-crm'),\n",
       " ('wgong', 'rust'),\n",
       " ('wgong', 'scholarly'),\n",
       " ('wgong', 'st-chat'),\n",
       " ('wgong', 'streamlit-aggrid'),\n",
       " ('wgong', 'streamlit-components'),\n",
       " ('wgong', 'streamlit-LLM'),\n",
       " ('wgong', 'streamlit-supabase-auth'),\n",
       " ('wgong', 'streamlit.README.md'),\n",
       " ('wgong', 'streamlitapp'),\n",
       " ('wgong', 'streamsync'),\n",
       " ('wgong', 'streamsync-demos'),\n",
       " ('wgong', 'techchart'),\n",
       " ('wgong', 'time-series'),\n",
       " ('wgong', 'watchetf'),\n",
       " ('wgong', 'watchetf-dev-2022-10-30'),\n",
       " ('wgong', 'watchetf-duckdb-2023-07-15'),\n",
       " ('wgong', 'wg-vscode.code-workspace'),\n",
       " ('wgong', 'zistory')]"
      ]
     },
     "execution_count": 24,
     "metadata": {},
     "output_type": "execute_result"
    }
   ],
   "source": [
    "out"
   ]
  },
  {
   "cell_type": "code",
   "execution_count": null,
   "id": "719c8d4b",
   "metadata": {},
   "outputs": [],
   "source": []
  }
 ],
 "metadata": {
  "kernelspec": {
   "display_name": "Python 3 (ipykernel)",
   "language": "python",
   "name": "python3"
  },
  "language_info": {
   "codemirror_mode": {
    "name": "ipython",
    "version": 3
   },
   "file_extension": ".py",
   "mimetype": "text/x-python",
   "name": "python",
   "nbconvert_exporter": "python",
   "pygments_lexer": "ipython3",
   "version": "3.9.13"
  },
  "nbTranslate": {
   "displayLangs": [
    "*"
   ],
   "hotkey": "alt-t",
   "langInMainMenu": true,
   "sourceLang": "en",
   "targetLang": "fr",
   "useGoogleTranslate": true
  },
  "toc": {
   "base_numbering": 1,
   "nav_menu": {},
   "number_sections": true,
   "sideBar": true,
   "skip_h1_title": false,
   "title_cell": "Table of Contents",
   "title_sidebar": "Contents",
   "toc_cell": false,
   "toc_position": {},
   "toc_section_display": true,
   "toc_window_display": false
  }
 },
 "nbformat": 4,
 "nbformat_minor": 5
}
