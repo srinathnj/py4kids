{
 "cells": [
  {
   "cell_type": "markdown",
   "metadata": {},
   "source": [
    "https://stackoverflow.com/questions/48438686/realistic-text-to-speech-with-python-that-doesnt-require-internet\n",
    "\n",
    "\n",
    "`gTTS` which works perfectly in python3 but it needs internet connection to work since it relies on google to get the audio data.But `Pyttsx` is completely offline and works seemlesly and has multiple tts-engine support.\n",
    "\n",
    "```\n",
    "pip install gtts\n",
    "pip install pyttsx3\n",
    "```"
   ]
  },
  {
   "cell_type": "markdown",
   "metadata": {},
   "source": [
    "## gtts "
   ]
  },
  {
   "cell_type": "code",
   "execution_count": 2,
   "metadata": {},
   "outputs": [],
   "source": [
    "from gtts import gTTS\n",
    "\n",
    "tts = gTTS(text='what to say', lang='en')\n",
    "tts.save('gtts-1.mp3')"
   ]
  },
  {
   "cell_type": "markdown",
   "metadata": {},
   "source": [
    "play audio in ipython\n",
    "- https://stackoverflow.com/questions/16241944/playing-a-sound-in-a-ipython-notebook"
   ]
  },
  {
   "cell_type": "code",
   "execution_count": 3,
   "metadata": {},
   "outputs": [
    {
     "data": {
      "text/html": [
       "\n",
       "                <audio  controls=\"controls\" >\n",
       "                    <source src=\"data:audio/mpeg;base64,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\" type=\"audio/mpeg\" />\n",
       "                    Your browser does not support the audio element.\n",
       "                </audio>\n",
       "              "
      ],
      "text/plain": [
       "<IPython.lib.display.Audio object>"
      ]
     },
     "execution_count": 3,
     "metadata": {},
     "output_type": "execute_result"
    }
   ],
   "source": [
    "import IPython\n",
    "IPython.display.Audio(\"gtts-1.mp3\")"
   ]
  },
  {
   "cell_type": "markdown",
   "metadata": {},
   "source": [
    "## pyttsx3 \n",
    "\n",
    "- https://pypi.org/project/pyttsx3/\n",
    "- https://pyttsx3.readthedocs.io/en/latest/engine.html"
   ]
  },
  {
   "cell_type": "code",
   "execution_count": 4,
   "metadata": {},
   "outputs": [],
   "source": [
    "import pyttsx3;\n",
    "engine = pyttsx3.init();\n",
    "engine.say(\"I will speak this text\");\n",
    "engine.runAndWait() ;"
   ]
  },
  {
   "cell_type": "code",
   "execution_count": 5,
   "metadata": {},
   "outputs": [],
   "source": [
    "voices = engine.getProperty('voices')"
   ]
  },
  {
   "cell_type": "code",
   "execution_count": 6,
   "metadata": {},
   "outputs": [
    {
     "data": {
      "text/plain": [
       "list"
      ]
     },
     "execution_count": 6,
     "metadata": {},
     "output_type": "execute_result"
    }
   ],
   "source": [
    "type(voices)"
   ]
  },
  {
   "cell_type": "code",
   "execution_count": 14,
   "metadata": {},
   "outputs": [
    {
     "data": {
      "text/plain": [
       "[<pyttsx3.voice.Voice at 0x280e17653d0>,\n",
       " <pyttsx3.voice.Voice at 0x280e1463ee0>]"
      ]
     },
     "execution_count": 14,
     "metadata": {},
     "output_type": "execute_result"
    }
   ],
   "source": [
    "voices  # 0 - male, 1 - female"
   ]
  },
  {
   "cell_type": "code",
   "execution_count": 11,
   "metadata": {},
   "outputs": [],
   "source": [
    "voice = voices[1]"
   ]
  },
  {
   "cell_type": "code",
   "execution_count": 12,
   "metadata": {},
   "outputs": [
    {
     "data": {
      "text/plain": [
       "'HKEY_LOCAL_MACHINE\\\\SOFTWARE\\\\Microsoft\\\\Speech\\\\Voices\\\\Tokens\\\\TTS_MS_EN-US_ZIRA_11.0'"
      ]
     },
     "execution_count": 12,
     "metadata": {},
     "output_type": "execute_result"
    }
   ],
   "source": [
    "voice.id"
   ]
  },
  {
   "cell_type": "code",
   "execution_count": 13,
   "metadata": {},
   "outputs": [],
   "source": [
    "engine.setProperty('voice', voice.id)\n",
    "engine.say(\"I will speak this text\");\n",
    "engine.runAndWait() ;"
   ]
  },
  {
   "cell_type": "code",
   "execution_count": null,
   "metadata": {},
   "outputs": [],
   "source": []
  }
 ],
 "metadata": {
  "kernelspec": {
   "display_name": "Python 3",
   "language": "python",
   "name": "python3"
  },
  "language_info": {
   "codemirror_mode": {
    "name": "ipython",
    "version": 3
   },
   "file_extension": ".py",
   "mimetype": "text/x-python",
   "name": "python",
   "nbconvert_exporter": "python",
   "pygments_lexer": "ipython3",
   "version": "3.8.5"
  },
  "toc": {
   "base_numbering": 1,
   "nav_menu": {},
   "number_sections": true,
   "sideBar": true,
   "skip_h1_title": false,
   "title_cell": "Table of Contents",
   "title_sidebar": "Contents",
   "toc_cell": false,
   "toc_position": {},
   "toc_section_display": true,
   "toc_window_display": false
  }
 },
 "nbformat": 4,
 "nbformat_minor": 4
}
