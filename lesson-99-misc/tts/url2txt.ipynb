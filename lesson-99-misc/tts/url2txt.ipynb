{
 "cells": [
  {
   "cell_type": "code",
   "execution_count": null,
   "metadata": {},
   "outputs": [],
   "source": [
    "import urllib\n",
    "from bs4 import BeautifulSoup"
   ]
  },
  {
   "cell_type": "code",
   "execution_count": 6,
   "metadata": {
    "scrolled": false
   },
   "outputs": [
    {
     "name": "stdout",
     "output_type": "stream",
     "text": [
      "toggle navigation   American LiteratureAuthorsMajor AuthorsAll AuthorsWomen WritersFind An AuthorPulitzer Prize WinnersAmerican BiographiesAfrican American LibraryMystery WritersAmbrose BierceAnton ChekhovMary E. Wilkins FreemanEdgar Allan PoeO. HenryH.H. Munro (SAKI)Jack LondonKate ChopinSherwood AndersonSusan GlaspellMark TwainNathaniel HawthorneHerman MelvilleLouisa May AlcottOscar WildeStephen CraneCharles DickensRudyard KiplingEdith WhartonShort StoriesShort Story of the Day100 Great Short Stories20 Great American Short StoriesChildren's StoriesFavorite Fairy TalesShort Stories for Middle SchoolShort Stories for High SchoolTeacher ResourcesUseful IdiomsStudy GuidesMystery StoriesScience FictionWomen WritersWinter Sports StoriesRussian StoriesMorality Tales75 Short Short Stories50 Great Feel-Good StoriesChristmas StoriesThanksgiving & Foodie StoriesCivil War StoriesAfrican American StoriesWorld War I StoriesGothic, Ghost, Horror & Weird LibraryHalloween StoriesDog StoriesFavorite Short Story CollectionsComplete Short Story LibraryChildrenShort Stories for ChildrenFairy Tales by AgeJack and the BeanstalkThe Tale of Peter RabbitThe Three Little PigsRapunzelRumpelstiltskinGrimm's Fairy TalesAesop's FablesLittle Red Riding HoodThe Velveteen RabbitMother GooseThe Bogey-BeastChildren's Christmas StoriesThanksgiving & Food StoriesChildren's PoemsThe Children's LibraryHalloween Stories for Children100s of Kids StoriesPre-K Wordplay!LullabiesFeel-Good Children's StoriesAmerican Biographies for KidsBooks for Young ReadersFavoritesAn Occurrence at Owl Creek BridgeThe Gift of the MagiThe Little Match GirlThe Monkey's PawA Dark Brown DogThe Story of an HourThe NecklaceThe Tell-Tale HeartA New England NunThe Selfish GiantThe Skylight RoomEve's DiaryThe Cask of AmontilladoTo Build a FireThe Lady, or the Tiger?The Hanging StrangerThe Luck of Roaring CampLost HeartsArabyA Jury of Her PeersGod Sees the Truth, But WaitsTransients in ArcadiaThe Reluctant DragonThe LotteryThe Split Cherry TreeThank You, M'amPoetsNovelsShow All Books25 Great American NovelsPulitzer Prize NovelsCivil War NovelsWorld War I NovelsDetective NovelsClassic Novels LibraryFoodie BooksUnreliable Narrator NovelsChapter Books for Young ReadersMoby Dick - Herman MelvilleThe Scarlet Letter - Nathaniel HawthorneThe Red Badge of Courage - Stephen CraneThe Awakening - Kate ChopinMy Antonia - Willa CatherWinesburg, Ohio - Sherwood AndersonAdventures of Tom Sawyer - Mark TwainLttle Women - Louisa May AlcottThe Call of the Wild - Jack LondonRobinson Crusoe - Daniel DefoeMain Street - Sinclair LewisThe Secret Garden - Frances Hodgson BurnettUncle Tom's Cabin - Harriet Beecher StoweSister Carrie - Theodore DreiserEthan Frome - Edith WhartonJane Eyre - Charlotte BronteFeaturesloginLoginCreate AccountPrivacy PolicyThe Three Little PigsThe story of The Three Little Pigs featured here has been adapted from different sources and from childhood memory. The primary sources are English Fairy Tales, retold by Flora Annie Steel (1922) with illustrations by L. Leslie Brooke from the 1904 version. This story is featured in our Favorite Fairy Tales and Children's Stories.  Once upon a time there was an old mother pig who had three little pigs and not enough food to feed them. So when they were old enough, she sent them out into the world to seek their fortunes.The first little pig was very lazy. He didn't want to work at all and he built his house out of straw. The second little pig worked a little bit harder but he was somewhat lazy too and he built his house out of sticks. Then, they sang and danced and played together the rest of the day.The third little pig worked hard all day and built his house with bricks. It was a sturdy house complete with a fine fireplace and chimney. It looked like it could withstand the strongest winds.The next day, a wolf happened to pass by the lane where the three little pigs lived; and he saw the straw house, and he smelled the pig inside. He thought the pig would make a mighty fine meal and his mouth began to water.So he knocked on the door and said:  Little pig! Little pig!\n",
      "  Let me in! Let me in!\n",
      "But the little pig saw the wolf's big paws through the keyhole, so he answered back:  No! No! No! \n",
      "  Not by the hairs on my chinny chin chin!\n",
      "Then the wolf showed his teeth and said:  Then I'll huff \n",
      "  and I'll puff \n",
      "  and I'll blow your house down.\n",
      "So he huffed and he puffed and he blew the house down! The wolf opened his jaws very wide and bit down as hard as he could, but the first little pig escaped and ran away to hide with the second little pig.The wolf continued down the lane and he passed by the second house made of sticks; and he saw the house, and he smelled the pigs inside, and his mouth began to water as he thought about the fine dinner they would make.So he knocked on the door and said:  Little pigs! Little pigs!\n",
      "  Let me in! Let me in!\n",
      "But the little pigs saw the wolf's pointy ears through the keyhole, so they answered back:  No! No! No!\n",
      "  Not by the hairs on our chinny chin chin!\n",
      "So the wolf showed his teeth and said:  Then I'll huff \n",
      "  and I'll puff \n",
      "  and I'll blow your house down!\n",
      "So he huffed and he puffed and he blew the house down! The wolf was greedy and he tried to catch both pigs at once, but he was too greedy and got neither! His big jaws clamped down on nothing but air and the two little pigs scrambled away as fast as their little hooves would carry them.The wolf chased them down the lane and he almost caught them. But they made it to the brick house and slammed the door closed before the wolf could catch them. The three little pigs they were very frightened, they knew the wolf wanted to eat them. And that was very, very true. The wolf hadn't eaten all day and he had worked up a large appetite chasing the pigs around and now he could smell all three of them inside and he knew that the three little pigs would make a lovely feast.So the wolf knocked on the door and said:  Little pigs! Little pigs!\n",
      "  Let me in! Let me in!\n",
      "But the little pigs saw the wolf's narrow eyes through the keyhole, so they answered back:  No! No! No! \n",
      "  Not by the hairs on our chinny chin chin!\n",
      "So the wolf showed his teeth and said:  Then I'll huff \n",
      "  and I'll puff \n",
      "  and I'll blow your house down.\n",
      "Well! he huffed and he puffed. He puffed and he huffed. And he huffed, huffed, and he puffed, puffed; but he could not blow the house down. At last, he was so out of breath that he couldn't huff and he couldn't puff anymore. So he stopped to rest and thought a bit.But this was too much. The wolf danced about with rage and swore he would come down the chimney and eat up the little pig for his supper. But while he was climbing on to the roof the little pig made up a blazing fire and put on a big pot full of water to boil. Then, just as the wolf was coming down the chimney, the little piggy pulled off the lid, and plop! in fell the wolf into the scalding water.So the little piggy put on the cover again, boiled the wolf up, and the three little pigs ate him for supper.If you enjoyed this story, you may be interested in our collection of Children's Stories or other titles from our library of Pre-K Read-Aloud Stories.      Return to the Children's Library\n"
     ]
    }
   ],
   "source": [
    "url = 'http://www.george-orwell.org/1984/0.html'\n",
    "url = \"https://americanliterature.com/childrens-stories/the-three-little-pigs\"\n",
    "request = urllib.request.Request(url)\n",
    "content = urllib.request.urlopen(request)\n",
    "soup = BeautifulSoup(content)\n",
    "\n",
    "# you can refine this even further if needed... ie. soup.body.div.get_text()\n",
    "text = soup.body.get_text()\n",
    "print(text)"
   ]
  },
  {
   "cell_type": "code",
   "execution_count": null,
   "metadata": {},
   "outputs": [],
   "source": []
  }
 ],
 "metadata": {
  "kernelspec": {
   "display_name": "Python 3",
   "language": "python",
   "name": "python3"
  },
  "language_info": {
   "codemirror_mode": {
    "name": "ipython",
    "version": 3
   },
   "file_extension": ".py",
   "mimetype": "text/x-python",
   "name": "python",
   "nbconvert_exporter": "python",
   "pygments_lexer": "ipython3",
   "version": "3.8.5"
  },
  "toc": {
   "base_numbering": 1,
   "nav_menu": {},
   "number_sections": true,
   "sideBar": true,
   "skip_h1_title": false,
   "title_cell": "Table of Contents",
   "title_sidebar": "Contents",
   "toc_cell": false,
   "toc_position": {},
   "toc_section_display": true,
   "toc_window_display": false
  }
 },
 "nbformat": 4,
 "nbformat_minor": 4
}
