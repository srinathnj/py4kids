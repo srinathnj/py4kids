{
 "cells": [
  {
   "cell_type": "markdown",
   "metadata": {},
   "source": [
    "pdf2txt - https://stackoverflow.com/questions/55767511/how-to-extract-text-from-pdf-in-python-3-7\n",
    "\n",
    "```\n",
    "pip install pdfplumber\n",
    "```"
   ]
  },
  {
   "cell_type": "raw",
   "metadata": {},
   "source": [
    "!pip install pdfplumber --user"
   ]
  },
  {
   "cell_type": "code",
   "execution_count": 2,
   "metadata": {},
   "outputs": [],
   "source": [
    "import sys"
   ]
  },
  {
   "cell_type": "code",
   "execution_count": 3,
   "metadata": {},
   "outputs": [
    {
     "data": {
      "text/plain": [
       "['C:\\\\Users\\\\w_gon\\\\projects\\\\wgong\\\\py4kids\\\\lesson-99-misc\\\\tts',\n",
       " 'C:\\\\Anaconda3\\\\python38.zip',\n",
       " 'C:\\\\Anaconda3\\\\DLLs',\n",
       " 'C:\\\\Anaconda3\\\\lib',\n",
       " 'C:\\\\Anaconda3',\n",
       " '',\n",
       " 'C:\\\\Users\\\\w_gon\\\\AppData\\\\Roaming\\\\Python\\\\Python38\\\\site-packages',\n",
       " 'C:\\\\Anaconda3\\\\lib\\\\site-packages',\n",
       " 'C:\\\\Anaconda3\\\\lib\\\\site-packages\\\\pystan-2.19.1.1-py3.8-win-amd64.egg',\n",
       " 'c:\\\\users\\\\w_gon\\\\projects\\\\pysimplesql',\n",
       " 'c:\\\\users\\\\w_gon\\\\projects\\\\streamlit_examples\\\\streamlit-awesome-table',\n",
       " 'c:\\\\users\\\\w_gon\\\\projects\\\\mplfinance\\\\src',\n",
       " 'c:\\\\users\\\\w_gon\\\\projects\\\\finplot',\n",
       " 'c:\\\\users\\\\w_gon\\\\projects\\\\wgong\\\\dspg_data-science-play-ground\\\\pyts',\n",
       " 'C:\\\\Anaconda3\\\\lib\\\\site-packages\\\\win32',\n",
       " 'C:\\\\Anaconda3\\\\lib\\\\site-packages\\\\win32\\\\lib',\n",
       " 'C:\\\\Anaconda3\\\\lib\\\\site-packages\\\\Pythonwin',\n",
       " 'C:\\\\Anaconda3\\\\lib\\\\site-packages\\\\IPython\\\\extensions',\n",
       " 'C:\\\\Users\\\\w_gon\\\\.ipython']"
      ]
     },
     "execution_count": 3,
     "metadata": {},
     "output_type": "execute_result"
    }
   ],
   "source": [
    "sys.path"
   ]
  },
  {
   "cell_type": "raw",
   "metadata": {},
   "source": [
    "sys.path.append(r\"c:\\users\\w_gon\\appdata\\roaming\\python\\python38\\site-packages\")"
   ]
  },
  {
   "cell_type": "code",
   "execution_count": 4,
   "metadata": {},
   "outputs": [],
   "source": [
    "import pdfplumber\n",
    "pdf = pdfplumber.open('3pigs.pdf')"
   ]
  },
  {
   "cell_type": "code",
   "execution_count": 9,
   "metadata": {},
   "outputs": [],
   "source": [
    "pdfplumber.open?"
   ]
  },
  {
   "cell_type": "code",
   "execution_count": 5,
   "metadata": {},
   "outputs": [
    {
     "data": {
      "text/plain": [
       "2"
      ]
     },
     "execution_count": 5,
     "metadata": {},
     "output_type": "execute_result"
    }
   ],
   "source": [
    "len(pdf.pages)"
   ]
  },
  {
   "cell_type": "code",
   "execution_count": 6,
   "metadata": {},
   "outputs": [],
   "source": [
    "texts = []\n",
    "for page in pdf.pages:\n",
    "    text = page.extract_text()\n",
    "    texts.append(text)\n",
    "pdf.close()"
   ]
  },
  {
   "cell_type": "code",
   "execution_count": 7,
   "metadata": {},
   "outputs": [
    {
     "data": {
      "text/plain": [
       "2"
      ]
     },
     "execution_count": 7,
     "metadata": {},
     "output_type": "execute_result"
    }
   ],
   "source": [
    "len(texts)"
   ]
  },
  {
   "cell_type": "code",
   "execution_count": 9,
   "metadata": {},
   "outputs": [
    {
     "name": "stdout",
     "output_type": "stream",
     "text": [
      "Three Little pigs\n",
      "Once upon a time there was an old mother pig who had three little pigs and not enough food to feed\n",
      "them. So when they were old enough, she sent them out into the world to seek their fortunes.The\n",
      "first little pig was very lazy. He didn't want to work at all and he built his house out of straw. The\n",
      "second little pig worked a little bit harder but he was somewhat lazy too and he built his house out of\n",
      "sticks. Then, they sang and danced and played together the rest of the day.The third little pig worked\n",
      "hard all day and built his house with bricks. It was a sturdy house complete with a fine fireplace and\n",
      "chimney. It looked like it could withstand the strongest winds.The next day, a wolf happened to pass\n",
      "by the lane where the three little pigs lived; and he saw the straw house, and he smelled the pig\n",
      "inside. He thought the pig would make a mighty fine meal and his mouth began to water.So he\n",
      "knocked on the door and said:  Little pig! Little pig!\n",
      "Let me in! Let me in!\n",
      "But the little pig saw the wolf's big paws through the keyhole, so he answered back:  No! No! No!\n",
      "Not by the hairs on my chinny chin chin!\n",
      "Then the wolf showed his teeth and said:  Then I'll huff\n",
      "and I'll puff\n",
      "and I'll blow your house down.\n",
      "So he huffed and he puffed and he blew the house down! The wolf opened his jaws very wide and\n",
      "bit down as hard as he could, but the first little pig escaped and ran away to hide with the second\n",
      "little pig.The wolf continued down the lane and he passed by the second house made of sticks; and\n",
      "he saw the house, and he smelled the pigs inside, and his mouth began to water as he thought\n",
      "about the fine dinner they would make.So he knocked on the door and said:  Little pigs! Little pigs!\n",
      "Let me in! Let me in!\n",
      "But the little pigs saw the wolf's pointy ears through the keyhole, so they answered back:  No! No!\n",
      "No!\n",
      "Not by the hairs on our chinny chin chin!\n",
      "So the wolf showed his teeth and said:  Then I'll huff\n",
      "and I'll puff\n",
      "and I'll blow your house down!\n",
      "So he huffed and he puffed and he blew the house down! The wolf was greedy and he tried to catch\n",
      "both pigs at once, but he was too greedy and got neither! His big jaws clamped down on nothing but\n",
      "air and the two little pigs scrambled away as fast as their little hooves would carry them.The wolf\n",
      "chased them down the lane and he almost caught them. But they made it to the brick house and\n",
      "slammed the door closed before the wolf could catch them. The three little pigs they were very\n",
      "frightened, they knew the wolf wanted to eat them. And that was very, very true. The wolf hadn't\n",
      "eaten all day and he had worked up a large appetite chasing the pigs around and now he could\n",
      "smell all three of them inside and he knew that the three little pigs would make a lovely feast.So the\n",
      "wolf knocked on the door and said:  Little pigs! Little pigs!\n",
      "Let me in! Let me in!\n",
      "But the little pigs saw the wolf's narrow eyes through the keyhole, so they answered back:  No! No!\n",
      "No!\n",
      "Not by the hairs on our chinny chin chin!\n",
      "So the wolf showed his teeth and said:  Then I'll huff\n",
      "and I'll puff\n",
      "and I'll blow your house down.\n",
      "Well! he huffed and he puffed. He puffed and he huffed. And he huffed, huffed, and he puffed,\n",
      "puffed; but he could not blow the house down. At last, he was so out of breath that he couldn't huff\n",
      "and he couldn't puff anymore. So he stopped to rest and thought a bit.But this was too much. The\n",
      "wolf danced about with rage and swore he would come down the chimney and eat up the little pig for\n",
      "his supper. But while he was climbing on to the roof the little pig made up a blazing fire and put on a\n",
      "big pot full of water to boil. Then, just as the wolf was coming down the chimney, the little piggy\n",
      "pulled off the lid, and plop! in fell the wolf into the scalding water.So the little piggy put on the cover\n",
      "again, boiled the wolf up, and the three little pigs ate him for supper.\n"
     ]
    }
   ],
   "source": [
    "for t in texts:\n",
    "    print(t)"
   ]
  },
  {
   "cell_type": "code",
   "execution_count": null,
   "metadata": {},
   "outputs": [],
   "source": []
  }
 ],
 "metadata": {
  "kernelspec": {
   "display_name": "Python 3",
   "language": "python",
   "name": "python3"
  },
  "language_info": {
   "codemirror_mode": {
    "name": "ipython",
    "version": 3
   },
   "file_extension": ".py",
   "mimetype": "text/x-python",
   "name": "python",
   "nbconvert_exporter": "python",
   "pygments_lexer": "ipython3",
   "version": "3.8.5"
  },
  "toc": {
   "base_numbering": 1,
   "nav_menu": {},
   "number_sections": true,
   "sideBar": true,
   "skip_h1_title": false,
   "title_cell": "Table of Contents",
   "title_sidebar": "Contents",
   "toc_cell": false,
   "toc_position": {},
   "toc_section_display": true,
   "toc_window_display": false
  }
 },
 "nbformat": 4,
 "nbformat_minor": 4
}
