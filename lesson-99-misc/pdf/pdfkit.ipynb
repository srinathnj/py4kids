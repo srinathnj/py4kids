{
 "cells": [
  {
   "cell_type": "markdown",
   "id": "30667fce",
   "metadata": {},
   "source": [
    "\n",
    "- [Convert HTML to PDF in Python with 5 Popular Libraries](https://apitemplate.io/blog/how-to-convert-html-to-pdf-using-python/)\n",
    "\n",
    "- [how to convert html to pdf](https://stackoverflow.com/questions/23359083/how-to-convert-webpage-into-pdf-by-using-python)\n",
    "    - OSError: No wkhtmltopdf executable found (fixed by installing https://wkhtmltopdf.org/downloads.html)\n"
   ]
  },
  {
   "cell_type": "raw",
   "id": "6eefb25f",
   "metadata": {},
   "source": [
    "!pip install pdfkit"
   ]
  },
  {
   "cell_type": "code",
   "execution_count": 1,
   "id": "e5ee9096",
   "metadata": {},
   "outputs": [],
   "source": [
    "import glob \n",
    "import pdfkit "
   ]
  },
  {
   "cell_type": "code",
   "execution_count": 2,
   "id": "74544191",
   "metadata": {},
   "outputs": [],
   "source": [
    "import subprocess"
   ]
  },
  {
   "cell_type": "code",
   "execution_count": 3,
   "id": "0e261c76",
   "metadata": {},
   "outputs": [],
   "source": [
    "files_html = glob.glob(\"*-v1.html\")"
   ]
  },
  {
   "cell_type": "code",
   "execution_count": 4,
   "id": "13725b6e",
   "metadata": {},
   "outputs": [
    {
     "data": {
      "text/plain": [
       "['WatchETF-2019-01-09-v1.html',\n",
       " 'WatchETF-2019-07-09-v1.html',\n",
       " 'WatchETF-2020-01-09-v1.html',\n",
       " 'WatchETF-2020-07-09-v1.html',\n",
       " 'WatchETF-2021-01-09-v1.html',\n",
       " 'WatchETF-2021-07-09-v1.html',\n",
       " 'WatchETF-2022-01-09-v1.html',\n",
       " 'WatchETF-2022-07-09-v1.html',\n",
       " 'WatchETF-2023-01-09-v1.html',\n",
       " 'WatchETF-2023-07-09-v1.html',\n",
       " 'WatchETF-2024-01-09-v1.html',\n",
       " 'WatchETF-2024-07-18-v1.html']"
      ]
     },
     "execution_count": 4,
     "metadata": {},
     "output_type": "execute_result"
    }
   ],
   "source": [
    "files_html"
   ]
  },
  {
   "cell_type": "code",
   "execution_count": 5,
   "id": "23ee3ec1",
   "metadata": {},
   "outputs": [],
   "source": [
    "def make_pdf_filename(html_filename):\n",
    "    x = html_filename.split(\".\")[0]\n",
    "    return f\"{x}.pdf\""
   ]
  },
  {
   "cell_type": "markdown",
   "id": "64811759",
   "metadata": {},
   "source": [
    "## apprach-1: subprocess.run()"
   ]
  },
  {
   "cell_type": "code",
   "execution_count": 6,
   "id": "afaea82e",
   "metadata": {},
   "outputs": [
    {
     "name": "stdout",
     "output_type": "stream",
     "text": [
      "wkhtmltopdf --enable-local-file-access WatchETF-2019-01-09-v1.html WatchETF-2019-01-09-v1.pdf\n",
      "wkhtmltopdf --enable-local-file-access WatchETF-2019-07-09-v1.html WatchETF-2019-07-09-v1.pdf\n",
      "wkhtmltopdf --enable-local-file-access WatchETF-2020-01-09-v1.html WatchETF-2020-01-09-v1.pdf\n",
      "wkhtmltopdf --enable-local-file-access WatchETF-2020-07-09-v1.html WatchETF-2020-07-09-v1.pdf\n",
      "wkhtmltopdf --enable-local-file-access WatchETF-2021-01-09-v1.html WatchETF-2021-01-09-v1.pdf\n",
      "wkhtmltopdf --enable-local-file-access WatchETF-2021-07-09-v1.html WatchETF-2021-07-09-v1.pdf\n",
      "wkhtmltopdf --enable-local-file-access WatchETF-2022-01-09-v1.html WatchETF-2022-01-09-v1.pdf\n",
      "wkhtmltopdf --enable-local-file-access WatchETF-2022-07-09-v1.html WatchETF-2022-07-09-v1.pdf\n",
      "wkhtmltopdf --enable-local-file-access WatchETF-2023-01-09-v1.html WatchETF-2023-01-09-v1.pdf\n",
      "wkhtmltopdf --enable-local-file-access WatchETF-2023-07-09-v1.html WatchETF-2023-07-09-v1.pdf\n",
      "wkhtmltopdf --enable-local-file-access WatchETF-2024-01-09-v1.html WatchETF-2024-01-09-v1.pdf\n",
      "wkhtmltopdf --enable-local-file-access WatchETF-2024-07-18-v1.html WatchETF-2024-07-18-v1.pdf\n"
     ]
    }
   ],
   "source": [
    "for f in files_html:\n",
    "    # pdfkit.from_url(f, make_pdf_filename(f))\n",
    "    # wkhtmltopdf --enable-local-file-access WatchETF-2019-01-09-v1.html t.pdf\n",
    "    f_pdf = make_pdf_filename(f)\n",
    "    cmd_list = ['wkhtmltopdf', \"--enable-local-file-access\", f, f_pdf]\n",
    "    subprocess.run(cmd_list, check=True)\n",
    "    cmd = \" \".join(cmd_list)\n",
    "    print(cmd)"
   ]
  },
  {
   "cell_type": "markdown",
   "id": "83b24b75",
   "metadata": {},
   "source": [
    "- Execute above commands\n",
    "- run pdf24 to merge individual pdf into one called wg_backtest_RSI_SCORE_TREND_2024-07-19.pdf"
   ]
  },
  {
   "cell_type": "markdown",
   "id": "d53005ad",
   "metadata": {},
   "source": [
    "## Approach-2: python"
   ]
  },
  {
   "cell_type": "code",
   "execution_count": 7,
   "id": "f9f80ee7",
   "metadata": {},
   "outputs": [
    {
     "name": "stdout",
     "output_type": "stream",
     "text": [
      "PDF file: WatchETF-2019-01-09-v1.pdf generated successfully!\n",
      "PDF file: WatchETF-2019-07-09-v1.pdf generated successfully!\n",
      "PDF file: WatchETF-2020-01-09-v1.pdf generated successfully!\n",
      "PDF file: WatchETF-2020-07-09-v1.pdf generated successfully!\n",
      "PDF file: WatchETF-2021-01-09-v1.pdf generated successfully!\n",
      "PDF file: WatchETF-2021-07-09-v1.pdf generated successfully!\n",
      "PDF file: WatchETF-2022-01-09-v1.pdf generated successfully!\n",
      "PDF file: WatchETF-2022-07-09-v1.pdf generated successfully!\n",
      "PDF file: WatchETF-2023-01-09-v1.pdf generated successfully!\n",
      "PDF file: WatchETF-2023-07-09-v1.pdf generated successfully!\n",
      "PDF file: WatchETF-2024-01-09-v1.pdf generated successfully!\n",
      "PDF file: WatchETF-2024-07-18-v1.pdf generated successfully!\n"
     ]
    }
   ],
   "source": [
    "options = {\n",
    "    'enable-local-file-access': True,\n",
    "}\n",
    "\n",
    "for html_file in files_html:\n",
    "    pdf_file = make_pdf_filename(html_file)    \n",
    "    try:\n",
    "        pdfkit.from_file(html_file, pdf_file, options=options)\n",
    "        print(f\"PDF file: {pdf_file} generated successfully!\")\n",
    "    except Exception as e:\n",
    "        print(f\"Error generating PDF: {pdf_file}\", e)"
   ]
  },
  {
   "cell_type": "code",
   "execution_count": 8,
   "id": "9f611830",
   "metadata": {},
   "outputs": [],
   "source": [
    "pdf_files = glob.glob(\"*-v1.pdf\")"
   ]
  },
  {
   "cell_type": "code",
   "execution_count": 9,
   "id": "98ac2137",
   "metadata": {},
   "outputs": [
    {
     "data": {
      "text/plain": [
       "['WatchETF-2019-01-09-v1.pdf',\n",
       " 'WatchETF-2019-07-09-v1.pdf',\n",
       " 'WatchETF-2020-01-09-v1.pdf',\n",
       " 'WatchETF-2020-07-09-v1.pdf',\n",
       " 'WatchETF-2021-01-09-v1.pdf',\n",
       " 'WatchETF-2021-07-09-v1.pdf',\n",
       " 'WatchETF-2022-01-09-v1.pdf',\n",
       " 'WatchETF-2022-07-09-v1.pdf',\n",
       " 'WatchETF-2023-01-09-v1.pdf',\n",
       " 'WatchETF-2023-07-09-v1.pdf',\n",
       " 'WatchETF-2024-01-09-v1.pdf',\n",
       " 'WatchETF-2024-07-18-v1.pdf']"
      ]
     },
     "execution_count": 9,
     "metadata": {},
     "output_type": "execute_result"
    }
   ],
   "source": [
    "pdf_files"
   ]
  },
  {
   "cell_type": "markdown",
   "id": "50cd6c1a",
   "metadata": {},
   "source": [
    "## Merge pdf files into one\n",
    "\n",
    "One can use pdf24 tool to merge them manually"
   ]
  },
  {
   "cell_type": "raw",
   "id": "10911669",
   "metadata": {},
   "source": [
    "!pip install PyPDF2"
   ]
  },
  {
   "cell_type": "code",
   "execution_count": 13,
   "id": "5f9d3be0",
   "metadata": {},
   "outputs": [],
   "source": [
    "from PyPDF2 import PdfReader, PdfMerger"
   ]
  },
  {
   "cell_type": "code",
   "execution_count": 14,
   "id": "781b29b2",
   "metadata": {},
   "outputs": [],
   "source": [
    "# Create a PdfMerger object\n",
    "merger = PdfMerger()"
   ]
  },
  {
   "cell_type": "code",
   "execution_count": 15,
   "id": "0172b61f",
   "metadata": {},
   "outputs": [
    {
     "name": "stdout",
     "output_type": "stream",
     "text": [
      "PDFs successfully merged into merged.pdf\n"
     ]
    }
   ],
   "source": [
    "for filename in pdf_files:\n",
    "    # Open the PDF file\n",
    "    with open(filename, 'rb') as pdf_file:\n",
    "        pdf_reader = PdfReader(pdf_file)\n",
    "        # Append pages from each PDF to the merger\n",
    "        merger.append(pdf_reader)\n",
    "\n",
    "# Define output file name\n",
    "output_filename = \"merged.pdf\"\n",
    "\n",
    "# Write the merged content to a new PDF\n",
    "with open(output_filename, 'wb') as output_file:\n",
    "    merger.write(output_file)\n",
    "\n",
    "print(f\"PDFs successfully merged into {output_filename}\")"
   ]
  },
  {
   "cell_type": "code",
   "execution_count": null,
   "id": "ded21ac4",
   "metadata": {},
   "outputs": [],
   "source": []
  }
 ],
 "metadata": {
  "kernelspec": {
   "display_name": "Python 3 (ipykernel)",
   "language": "python",
   "name": "python3"
  },
  "language_info": {
   "codemirror_mode": {
    "name": "ipython",
    "version": 3
   },
   "file_extension": ".py",
   "mimetype": "text/x-python",
   "name": "python",
   "nbconvert_exporter": "python",
   "pygments_lexer": "ipython3",
   "version": "3.9.13"
  },
  "nbTranslate": {
   "displayLangs": [
    "*"
   ],
   "hotkey": "alt-t",
   "langInMainMenu": true,
   "sourceLang": "en",
   "targetLang": "fr",
   "useGoogleTranslate": true
  },
  "toc": {
   "base_numbering": 1,
   "nav_menu": {},
   "number_sections": true,
   "sideBar": true,
   "skip_h1_title": false,
   "title_cell": "Table of Contents",
   "title_sidebar": "Contents",
   "toc_cell": false,
   "toc_position": {},
   "toc_section_display": true,
   "toc_window_display": false
  }
 },
 "nbformat": 4,
 "nbformat_minor": 5
}
