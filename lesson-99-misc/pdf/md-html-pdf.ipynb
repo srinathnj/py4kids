{
 "cells": [
  {
   "cell_type": "markdown",
   "id": "4b2cd7f7-e1f6-4121-a0d7-89d7d6dc3dfa",
   "metadata": {},
   "source": [
    "\n",
    "- https://pypi.org/project/markdown-pdf/\n",
    "\n",
    "- https://pymupdf.readthedocs.io/en/latest/rag.html"
   ]
  },
  {
   "cell_type": "code",
   "execution_count": 3,
   "id": "8586760b-c81f-40f2-a050-4198fa7039c9",
   "metadata": {},
   "outputs": [
    {
     "name": "stdout",
     "output_type": "stream",
     "text": [
      "Collecting mdit-py-plugins\n",
      "  Downloading mdit_py_plugins-0.4.1-py3-none-any.whl.metadata (2.8 kB)\n",
      "Requirement already satisfied: markdown-it-py<4.0.0,>=1.0.0 in /home/gongai/anaconda3/envs/pdf/lib/python3.11/site-packages (from mdit-py-plugins) (3.0.0)\n",
      "Requirement already satisfied: mdurl~=0.1 in /home/gongai/anaconda3/envs/pdf/lib/python3.11/site-packages (from markdown-it-py<4.0.0,>=1.0.0->mdit-py-plugins) (0.1.2)\n",
      "Downloading mdit_py_plugins-0.4.1-py3-none-any.whl (54 kB)\n",
      "\u001b[2K   \u001b[38;2;114;156;31m━━━━━━━━━━━━━━━━━━━━━━━━━━━━━━━━━━━━━━━━\u001b[0m \u001b[32m54.8/54.8 kB\u001b[0m \u001b[31m1.2 MB/s\u001b[0m eta \u001b[36m0:00:00\u001b[0m MB/s\u001b[0m eta \u001b[36m0:00:01\u001b[0m\n",
      "\u001b[?25hInstalling collected packages: mdit-py-plugins\n",
      "Successfully installed mdit-py-plugins-0.4.1\n"
     ]
    }
   ],
   "source": [
    "!pip install mdit-py-plugins"
   ]
  },
  {
   "cell_type": "markdown",
   "id": "281c5f3a-4e4e-43ea-a6e8-b5ee3e3fefaf",
   "metadata": {},
   "source": [
    "## markdown to html"
   ]
  },
  {
   "cell_type": "code",
   "execution_count": 4,
   "id": "743d4c17-4e88-4dab-b257-c0d8a486befb",
   "metadata": {},
   "outputs": [],
   "source": [
    "from markdown_it import MarkdownIt\n",
    "from mdit_py_plugins.front_matter import front_matter_plugin\n",
    "from mdit_py_plugins.footnote import footnote_plugin\n",
    "\n",
    "md = (\n",
    "    MarkdownIt('commonmark' ,{'breaks':True,'html':True})\n",
    "    .use(front_matter_plugin)\n",
    "    .use(footnote_plugin)\n",
    "    .enable('table')\n",
    ")"
   ]
  },
  {
   "cell_type": "code",
   "execution_count": 5,
   "id": "5caed3d9-d2b3-49d1-a6ac-dc6837133ba3",
   "metadata": {},
   "outputs": [],
   "source": [
    "filename = \"fake_resume\"\n",
    "md_file = f'{filename}.md'\n",
    "html_file = f'{filename}.html'\n",
    "pdf_file = f'{filename}.pdf'\n",
    "new_md_file = f'{filename}-new.md'"
   ]
  },
  {
   "cell_type": "code",
   "execution_count": 6,
   "id": "2d8adc3e-e32f-452d-bd10-3836b3ddc5e3",
   "metadata": {},
   "outputs": [],
   "source": [
    "txt = open(md_file, encoding=\"utf-8\").read()"
   ]
  },
  {
   "cell_type": "code",
   "execution_count": 7,
   "id": "567a1f6e-4ea0-4cdc-9d19-fa99e1be1eea",
   "metadata": {},
   "outputs": [],
   "source": [
    "html_text = md.render(txt)"
   ]
  },
  {
   "cell_type": "code",
   "execution_count": 8,
   "id": "4adcdeab-3f9e-4ca7-a7cb-b3246f924fcc",
   "metadata": {},
   "outputs": [
    {
     "data": {
      "text/plain": [
       "3283"
      ]
     },
     "execution_count": 8,
     "metadata": {},
     "output_type": "execute_result"
    }
   ],
   "source": [
    "from pathlib import Path\n",
    "Path(html_file).write_text(html_text)"
   ]
  },
  {
   "cell_type": "markdown",
   "id": "0e629274-e29c-4b0f-b09c-9956d5bd1f96",
   "metadata": {},
   "source": [
    "## html to pdf"
   ]
  },
  {
   "cell_type": "raw",
   "id": "4bf98d66-30cc-4a17-a29f-37f1bca1d864",
   "metadata": {},
   "source": [
    "!pip install weasyprint"
   ]
  },
  {
   "cell_type": "code",
   "execution_count": 9,
   "id": "ed3c3df4-2528-4f58-9dd1-704b8da13b23",
   "metadata": {},
   "outputs": [],
   "source": [
    "import weasyprint"
   ]
  },
  {
   "cell_type": "code",
   "execution_count": 10,
   "id": "914c8855-c9ed-4103-a431-4e9429be7952",
   "metadata": {},
   "outputs": [],
   "source": [
    "weasyprint.HTML(filename=html_file).write_pdf(pdf_file)"
   ]
  },
  {
   "cell_type": "markdown",
   "id": "c41ebe02-ab8c-4f1e-871c-5ebb2c45aa3c",
   "metadata": {},
   "source": [
    "## pdf to markdown"
   ]
  },
  {
   "cell_type": "code",
   "execution_count": 14,
   "id": "bb319975-14c2-496b-a024-8144e615e8a2",
   "metadata": {},
   "outputs": [
    {
     "name": "stdout",
     "output_type": "stream",
     "text": [
      "Collecting pymupdf4llm\n",
      "  Obtaining dependency information for pymupdf4llm from https://files.pythonhosted.org/packages/f7/21/9d31f47dbb8646b89f934a58a2f95a51671d691a7a46f3c9e71a3b2bf874/pymupdf4llm-0.0.10-py3-none-any.whl.metadata\n",
      "  Downloading pymupdf4llm-0.0.10-py3-none-any.whl.metadata (3.9 kB)\n",
      "Requirement already satisfied: pymupdf>=1.24.2 in /home/gongai/anaconda3/lib/python3.11/site-packages (from pymupdf4llm) (1.24.2)\n",
      "Requirement already satisfied: PyMuPDFb==1.24.1 in /home/gongai/anaconda3/lib/python3.11/site-packages (from pymupdf>=1.24.2->pymupdf4llm) (1.24.1)\n",
      "Downloading pymupdf4llm-0.0.10-py3-none-any.whl (22 kB)\n",
      "Installing collected packages: pymupdf4llm\n",
      "Successfully installed pymupdf4llm-0.0.10\n"
     ]
    }
   ],
   "source": [
    "!pip install pymupdf4llm"
   ]
  },
  {
   "cell_type": "code",
   "execution_count": 18,
   "id": "f999525e-9e51-4131-9a31-84a7a67d11b7",
   "metadata": {},
   "outputs": [
    {
     "name": "stdout",
     "output_type": "stream",
     "text": [
      "Requirement already satisfied: PyMuPDF in /home/gongai/anaconda3/lib/python3.11/site-packages (1.24.2)\n",
      "Requirement already satisfied: PyMuPDFb==1.24.1 in /home/gongai/anaconda3/lib/python3.11/site-packages (from PyMuPDF) (1.24.1)\n"
     ]
    }
   ],
   "source": [
    "!pip install PyMuPDF"
   ]
  },
  {
   "cell_type": "code",
   "execution_count": 20,
   "id": "86032510-1568-438e-8a67-2729eae1df28",
   "metadata": {},
   "outputs": [
    {
     "name": "stdout",
     "output_type": "stream",
     "text": [
      "Name: PyMuPDF\n",
      "Version: 1.24.2\n",
      "Summary: A high performance Python library for data extraction, analysis, conversion & manipulation of PDF (and other) documents.\n",
      "Home-page: \n",
      "Author: Artifex\n",
      "Author-email: support@artifex.com\n",
      "License: GNU AFFERO GPL 3.0\n",
      "Location: /home/gongai/anaconda3/lib/python3.11/site-packages\n",
      "Requires: PyMuPDFb\n",
      "Required-by: llama-index-readers-file, markdown_pdf, pymupdf4llm\n"
     ]
    }
   ],
   "source": [
    "!pip show pymupdf"
   ]
  },
  {
   "cell_type": "code",
   "execution_count": 11,
   "id": "f627ceec-2cfb-4aa6-837f-cf6323ca2606",
   "metadata": {},
   "outputs": [],
   "source": [
    "import pymupdf4llm"
   ]
  },
  {
   "cell_type": "raw",
   "id": "8eb394eb-a600-4f7b-85f9-5ad6af349ba8",
   "metadata": {},
   "source": [
    "import pymupdf"
   ]
  },
  {
   "cell_type": "code",
   "execution_count": 12,
   "id": "c0a88fb1-8eba-4333-b62e-0314c0c49fc6",
   "metadata": {},
   "outputs": [],
   "source": [
    "new_md_text = pymupdf4llm.to_markdown(pdf_file)"
   ]
  },
  {
   "cell_type": "raw",
   "id": "70cfd5be-86cf-48bb-baa3-ab8fd63da9ab",
   "metadata": {},
   "source": [
    "new_md_text"
   ]
  },
  {
   "cell_type": "code",
   "execution_count": 14,
   "id": "5d8cb3f8-cc82-4d60-854d-ed8f1c2b8728",
   "metadata": {},
   "outputs": [],
   "source": [
    "with open(new_md_file, \"w\", encoding=\"utf-8\") as f:\n",
    "    f.write(new_md_text)"
   ]
  },
  {
   "cell_type": "code",
   "execution_count": null,
   "id": "3b27d3dd-2317-4030-af06-3681ac448340",
   "metadata": {},
   "outputs": [],
   "source": []
  }
 ],
 "metadata": {
  "kernelspec": {
   "display_name": "Python 3 (ipykernel)",
   "language": "python",
   "name": "python3"
  },
  "language_info": {
   "codemirror_mode": {
    "name": "ipython",
    "version": 3
   },
   "file_extension": ".py",
   "mimetype": "text/x-python",
   "name": "python",
   "nbconvert_exporter": "python",
   "pygments_lexer": "ipython3",
   "version": "3.11.9"
  }
 },
 "nbformat": 4,
 "nbformat_minor": 5
}
