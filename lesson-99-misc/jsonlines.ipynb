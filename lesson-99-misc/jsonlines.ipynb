{
 "cells": [
  {
   "cell_type": "markdown",
   "id": "494a302c",
   "metadata": {},
   "source": [
    "https://jsonlines.readthedocs.io/en/latest/"
   ]
  },
  {
   "cell_type": "code",
   "execution_count": 1,
   "id": "3ccc7604",
   "metadata": {},
   "outputs": [],
   "source": [
    "import jsonlines"
   ]
  },
  {
   "cell_type": "code",
   "execution_count": 3,
   "id": "6c1f40cc",
   "metadata": {},
   "outputs": [],
   "source": [
    "items = [\n",
    "    {'a': 1, 'b': 2},\n",
    "    {'a': 123, 'b': 456},\n",
    "]"
   ]
  },
  {
   "cell_type": "markdown",
   "id": "eef12885",
   "metadata": {},
   "source": [
    "## write json lines file"
   ]
  },
  {
   "cell_type": "code",
   "execution_count": 4,
   "id": "9de79f24",
   "metadata": {},
   "outputs": [],
   "source": [
    "with jsonlines.open('output.jsonl', 'w') as writer:\n",
    "    writer.write_all(items)"
   ]
  },
  {
   "cell_type": "code",
   "execution_count": 6,
   "id": "2cd609a5",
   "metadata": {},
   "outputs": [
    {
     "name": "stdout",
     "output_type": "stream",
     "text": [
      "{\"a\": 1, \"b\": 2}\n",
      "{\"a\": 123, \"b\": 456}\n"
     ]
    }
   ],
   "source": [
    "!type output.jsonl"
   ]
  },
  {
   "cell_type": "markdown",
   "id": "7d8e518b",
   "metadata": {},
   "source": [
    "## read json lines file"
   ]
  },
  {
   "cell_type": "code",
   "execution_count": 12,
   "id": "b854d2a4",
   "metadata": {},
   "outputs": [],
   "source": [
    "with jsonlines.open('output.jsonl') as reader:\n",
    "    data = []\n",
    "    for line in reader: # f.iter():\n",
    "        # line is dict\n",
    "        data.append(line)\n",
    "        # print(type(line))"
   ]
  },
  {
   "cell_type": "code",
   "execution_count": 13,
   "id": "9ee09980",
   "metadata": {},
   "outputs": [
    {
     "data": {
      "text/plain": [
       "[{'a': 1, 'b': 2}, {'a': 123, 'b': 456}]"
      ]
     },
     "execution_count": 13,
     "metadata": {},
     "output_type": "execute_result"
    }
   ],
   "source": [
    "data"
   ]
  },
  {
   "cell_type": "code",
   "execution_count": 14,
   "id": "229527c8",
   "metadata": {},
   "outputs": [
    {
     "data": {
      "text/plain": [
       "{'a': 1, 'b': 2}"
      ]
     },
     "execution_count": 14,
     "metadata": {},
     "output_type": "execute_result"
    }
   ],
   "source": [
    "data[0]"
   ]
  },
  {
   "cell_type": "code",
   "execution_count": null,
   "id": "d8f9630a",
   "metadata": {},
   "outputs": [],
   "source": []
  }
 ],
 "metadata": {
  "kernelspec": {
   "display_name": "Python 3 (ipykernel)",
   "language": "python",
   "name": "python3"
  },
  "language_info": {
   "codemirror_mode": {
    "name": "ipython",
    "version": 3
   },
   "file_extension": ".py",
   "mimetype": "text/x-python",
   "name": "python",
   "nbconvert_exporter": "python",
   "pygments_lexer": "ipython3",
   "version": "3.9.13"
  },
  "nbTranslate": {
   "displayLangs": [
    "*"
   ],
   "hotkey": "alt-t",
   "langInMainMenu": true,
   "sourceLang": "en",
   "targetLang": "fr",
   "useGoogleTranslate": true
  },
  "toc": {
   "base_numbering": 1,
   "nav_menu": {},
   "number_sections": true,
   "sideBar": true,
   "skip_h1_title": false,
   "title_cell": "Table of Contents",
   "title_sidebar": "Contents",
   "toc_cell": false,
   "toc_position": {},
   "toc_section_display": true,
   "toc_window_display": false
  }
 },
 "nbformat": 4,
 "nbformat_minor": 5
}
