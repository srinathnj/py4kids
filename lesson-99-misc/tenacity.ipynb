{
 "cells": [
  {
   "cell_type": "markdown",
   "id": "6cdc9d4a",
   "metadata": {},
   "source": [
    "- [pip install tenacity](https://pypi.org/project/tenacity/)\n",
    "\n",
    "- [Retrying Made Easy with Tenacity in Python](https://www.opensourceforu.com/2022/12/retrying-made-easy-with-tenacity-in-python/)"
   ]
  },
  {
   "cell_type": "code",
   "execution_count": 46,
   "id": "bb743fd3",
   "metadata": {},
   "outputs": [],
   "source": [
    "import random\n",
    "from tenacity import retry, stop_after_attempt"
   ]
  },
  {
   "cell_type": "raw",
   "id": "962635de",
   "metadata": {},
   "source": [
    "do_something_unreliable(stop=stop_after_attempt(4))\n",
    "\n",
    "not working"
   ]
  },
  {
   "cell_type": "code",
   "execution_count": 47,
   "id": "bb8cfddd",
   "metadata": {},
   "outputs": [],
   "source": [
    "@retry\n",
    "def do_something_unreliable():\n",
    "    rnd_num = random.randint(0, 10)\n",
    "    if rnd_num > 1:\n",
    "        print(f\"failed: {rnd_num}\")\n",
    "        raise IOError(\"Broken sauce, everything is hosed!!!111one\")\n",
    "    else:\n",
    "        print(\"Awesome sauce!\")"
   ]
  },
  {
   "cell_type": "code",
   "execution_count": 57,
   "id": "f7ff9533",
   "metadata": {},
   "outputs": [
    {
     "name": "stdout",
     "output_type": "stream",
     "text": [
      "failed: 4\n",
      "failed: 2\n",
      "failed: 10\n",
      "failed: 4\n",
      "failed: 9\n",
      "failed: 7\n",
      "failed: 7\n",
      "Awesome sauce!\n"
     ]
    }
   ],
   "source": [
    "do_something_unreliable()"
   ]
  },
  {
   "cell_type": "code",
   "execution_count": null,
   "id": "f7a4e274",
   "metadata": {},
   "outputs": [],
   "source": []
  }
 ],
 "metadata": {
  "kernelspec": {
   "display_name": "Python 3 (ipykernel)",
   "language": "python",
   "name": "python3"
  },
  "language_info": {
   "codemirror_mode": {
    "name": "ipython",
    "version": 3
   },
   "file_extension": ".py",
   "mimetype": "text/x-python",
   "name": "python",
   "nbconvert_exporter": "python",
   "pygments_lexer": "ipython3",
   "version": "3.9.13"
  },
  "nbTranslate": {
   "displayLangs": [
    "*"
   ],
   "hotkey": "alt-t",
   "langInMainMenu": true,
   "sourceLang": "en",
   "targetLang": "fr",
   "useGoogleTranslate": true
  },
  "toc": {
   "base_numbering": 1,
   "nav_menu": {},
   "number_sections": true,
   "sideBar": true,
   "skip_h1_title": false,
   "title_cell": "Table of Contents",
   "title_sidebar": "Contents",
   "toc_cell": false,
   "toc_position": {},
   "toc_section_display": true,
   "toc_window_display": false
  }
 },
 "nbformat": 4,
 "nbformat_minor": 5
}
