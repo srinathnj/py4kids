{
 "cells": [
  {
   "cell_type": "markdown",
   "metadata": {},
   "source": [
    "### Reference\n",
    "\n",
    "[Mastering Oracle+Python by Przemyslaw Piotrowski](https://www.oracle.com/technetwork/articles/dsl/mastering-oracle-python-1391323.html)\n",
    "\n",
    "https://www.oracle.com/technetwork/articles/dsl/prez-python-queries-101587.html"
   ]
  },
  {
   "cell_type": "markdown",
   "metadata": {},
   "source": [
    "### Setup\n",
    "\n",
    "Install cx_Oracle on Windows\n",
    "\n",
    "https://www.cs.utexas.edu/~scohen/cs327e_spr15/cx_Oracle/windows.html\n",
    "\n",
    "use Anaconda python 3.6\n",
    "\n",
    "\n",
    "download cx_Oracle from https://pypi.org/project/cx_Oracle/#files\n",
    "\n",
    "[cx_Oracle-6.4.1-cp36-cp36m-win_amd64.whl](https://files.pythonhosted.org/packages/ae/ee/5e9704b60f99540a6b6f527f355b5e7025ba3f637f31566c5021e6e337c5/cx_Oracle-6.4.1-cp36-cp36m-win_amd64.whl) (164.8 kB)  Copy SHA256 hash SHA256\tWheel\tJul 9, 2018"
   ]
  },
  {
   "cell_type": "markdown",
   "metadata": {},
   "source": [
    "install wheel\n",
    "\n",
    "python -m pip install --upgrade pip setuptools wheel\n",
    "\n",
    "pip install cx_Oracle-6.4.1-cp36-cp36m-win_amd64.whl"
   ]
  },
  {
   "cell_type": "markdown",
   "metadata": {},
   "source": [
    "Install OracleXE\n",
    "\n",
    "unlock account=hr/hr\n",
    "\n",
    "other user passwords\n",
    "\n",
    "system/oracle101\n",
    "sys/oracle101\n",
    "hr/hr"
   ]
  },
  {
   "cell_type": "code",
   "execution_count": 1,
   "metadata": {},
   "outputs": [],
   "source": [
    "import cx_Oracle"
   ]
  },
  {
   "cell_type": "code",
   "execution_count": 2,
   "metadata": {},
   "outputs": [],
   "source": [
    "import pandas as pd"
   ]
  },
  {
   "cell_type": "code",
   "execution_count": 3,
   "metadata": {},
   "outputs": [],
   "source": [
    "con = cx_Oracle.connect('hr/hr@127.0.0.1/xe')"
   ]
  },
  {
   "cell_type": "code",
   "execution_count": 4,
   "metadata": {},
   "outputs": [
    {
     "name": "stdout",
     "output_type": "stream",
     "text": [
      "11.2.0.2.0\n"
     ]
    }
   ],
   "source": [
    "print(con.version)\n",
    "\n",
    "# 11.2.0.2.0"
   ]
  },
  {
   "cell_type": "markdown",
   "metadata": {},
   "source": [
    "### Basic \n",
    "\n",
    "\n",
    "https://www.oracle.com/technetwork/articles/dsl/prez-python-queries-101587.html"
   ]
  },
  {
   "cell_type": "markdown",
   "metadata": {},
   "source": [
    "#### Connection"
   ]
  },
  {
   "cell_type": "code",
   "execution_count": 8,
   "metadata": {},
   "outputs": [],
   "source": [
    "user_name = \"hr\"\n",
    "pwd = \"hr\"\n",
    "hostname = \"localhost\"\n",
    "port = \"1521\"\n",
    "service_name = \"XE\"\n",
    "conn_str = \"{0}/{1}@{2}:{3}/{4}\".format(user_name, pwd, hostname, port, service_name)\n"
   ]
  },
  {
   "cell_type": "code",
   "execution_count": 9,
   "metadata": {},
   "outputs": [
    {
     "data": {
      "text/plain": [
       "'hr/hr@localhost:1521/XE'"
      ]
     },
     "execution_count": 9,
     "metadata": {},
     "output_type": "execute_result"
    }
   ],
   "source": [
    "conn_str"
   ]
  },
  {
   "cell_type": "code",
   "execution_count": 10,
   "metadata": {},
   "outputs": [],
   "source": [
    "# 2 ways to create connection\n",
    "conn1 = cx_Oracle.connect(conn_str)"
   ]
  },
  {
   "cell_type": "code",
   "execution_count": 11,
   "metadata": {},
   "outputs": [
    {
     "data": {
      "text/plain": [
       "'(DESCRIPTION=(ADDRESS=(PROTOCOL=TCP)(HOST=localhost)(PORT=1521))(CONNECT_DATA=(SID=XE)))'"
      ]
     },
     "execution_count": 11,
     "metadata": {},
     "output_type": "execute_result"
    }
   ],
   "source": [
    "dsn_tns = cx_Oracle.makedsn(hostname, port, service_name)\n",
    "dsn_tns"
   ]
  },
  {
   "cell_type": "code",
   "execution_count": 12,
   "metadata": {},
   "outputs": [],
   "source": [
    "conn2 = cx_Oracle.connect(user_name, pwd, dsn_tns)"
   ]
  },
  {
   "cell_type": "code",
   "execution_count": 13,
   "metadata": {},
   "outputs": [
    {
     "name": "stdout",
     "output_type": "stream",
     "text": [
      "11.2.0.2.0\n"
     ]
    }
   ],
   "source": [
    "# get database version\n",
    "print(conn2.version)"
   ]
  },
  {
   "cell_type": "code",
   "execution_count": 15,
   "metadata": {},
   "outputs": [
    {
     "data": {
      "text/plain": [
       "'localhost:1521/XE'"
      ]
     },
     "execution_count": 15,
     "metadata": {},
     "output_type": "execute_result"
    }
   ],
   "source": [
    "conn1.dsn"
   ]
  },
  {
   "cell_type": "code",
   "execution_count": 16,
   "metadata": {},
   "outputs": [
    {
     "data": {
      "text/plain": [
       "'(DESCRIPTION=(ADDRESS=(PROTOCOL=TCP)(HOST=localhost)(PORT=1521))(CONNECT_DATA=(SID=XE)))'"
      ]
     },
     "execution_count": 16,
     "metadata": {},
     "output_type": "execute_result"
    }
   ],
   "source": [
    "conn2.dsn"
   ]
  },
  {
   "cell_type": "markdown",
   "metadata": {},
   "source": [
    "#### Cursor"
   ]
  },
  {
   "cell_type": "markdown",
   "metadata": {},
   "source": [
    "Application logic often requires clearly distinguishing the stages of processing a statement issued against the database. This will help understand performance bottlenecks better and allow writing faster, optimized code. The three stages of processing a statement are: \n",
    "\n",
    "* Parse (optional)\n",
    "    - cx_Oracle.Cursor.parse([statement]) \n",
    "Not really required to be called because SQL statements are automatically parsed at the Execute stage. It can be used to validate statements before executing them. When an error is detected in such a statement, a DatabaseError exception is raised with a corresponding error message, most likely \"ORA-00900: invalid SQL statement, ORA-01031: insufficient privileges or ORA-00921: unexpected end of SQL command.\"\n",
    "\n",
    "* Execute\n",
    "    - cx_Oracle.Cursor.execute(statement, [parameters], **keyword_parameters)\n",
    "This method can accept a single argument - a SQL statement - to be run directly against the database. Bind variables assigned through the parameters or keyword_parameters arguments can be specified as a dictionary, sequence, or a set of keyword arguments. If dictionary or keyword arguments are supplied then the values will be name-bound. If a sequence is given, the values will be resolved by their position. This method returns a list of variable objects if it is a query, and None when it's not.\n",
    "\n",
    "    - cx_Oracle.Cursor.executemany(statement, parameters)\n",
    "Especially useful for bulk inserts because it can limit the number of required Oracle execute operations to just a single one. For more information about how to use it please see the \"Many at once\" section below.\n",
    " \n",
    "* Fetch (optional)—Only used for queries (because DDL and DCL statements don't return results). On a cursor that didn't execute a query, these methods will raise an InterfaceError exception.\n",
    "\n",
    "    - cx_Oracle.Cursor.fetchall() \n",
    "Fetches all remaining rows of the result set as a list of tuples. If no more rows are available, it returns an empty list. Fetch actions can be fine-tuned by setting the arraysize attribute of the cursor which sets the number of rows to return from the database in each underlying request. The higher setting of arraysize, the fewer number of network round trips required. The default value for arraysize is 1.\n",
    "\n",
    "    - cx_Oracle.Cursor.fetchmany([rows_no]) \n",
    "Fetches the next rows_no rows from the database. If the parameter isn't specified it fetches the arraysize number of rows. In situations where rows_no is greater than the number of fetched rows, it simply gets the remaining number of rows.\n",
    "\n",
    "    - cx_Oracle.Cursor.fetchone() \n",
    "Fetches a single tuple from the database or none if no more rows are available."
   ]
  },
  {
   "cell_type": "code",
   "execution_count": 17,
   "metadata": {},
   "outputs": [],
   "source": [
    "cur = conn1.cursor()"
   ]
  },
  {
   "cell_type": "code",
   "execution_count": 19,
   "metadata": {},
   "outputs": [
    {
     "ename": "DatabaseError",
     "evalue": "ORA-00942: table or view does not exist",
     "output_type": "error",
     "traceback": [
      "\u001b[1;31m---------------------------------------------------------------------------\u001b[0m",
      "\u001b[1;31mDatabaseError\u001b[0m                             Traceback (most recent call last)",
      "\u001b[1;32m<ipython-input-19-a5f16b12c2b7>\u001b[0m in \u001b[0;36m<module>\u001b[1;34m()\u001b[0m\n\u001b[1;32m----> 1\u001b[1;33m \u001b[0mcur\u001b[0m\u001b[1;33m.\u001b[0m\u001b[0mparse\u001b[0m\u001b[1;33m(\u001b[0m\u001b[1;34m\"select * from emp\"\u001b[0m\u001b[1;33m)\u001b[0m\u001b[1;33m\u001b[0m\u001b[0m\n\u001b[0m",
      "\u001b[1;31mDatabaseError\u001b[0m: ORA-00942: table or view does not exist"
     ]
    }
   ],
   "source": [
    "cur.parse(\"select * from emp\")"
   ]
  },
  {
   "cell_type": "code",
   "execution_count": 20,
   "metadata": {},
   "outputs": [],
   "source": [
    "cur.parse(\"select * from employees\")"
   ]
  },
  {
   "cell_type": "code",
   "execution_count": 33,
   "metadata": {},
   "outputs": [],
   "source": [
    "column_data_types = cur.execute(\"select * from employees\")"
   ]
  },
  {
   "cell_type": "code",
   "execution_count": 34,
   "metadata": {},
   "outputs": [
    {
     "data": {
      "text/plain": [
       "<cx_Oracle.Cursor on <cx_Oracle.Connection to hr@localhost:1521/XE>>"
      ]
     },
     "execution_count": 34,
     "metadata": {},
     "output_type": "execute_result"
    }
   ],
   "source": [
    "column_data_types"
   ]
  },
  {
   "cell_type": "code",
   "execution_count": 37,
   "metadata": {},
   "outputs": [
    {
     "data": {
      "text/plain": [
       "[('EMPLOYEE_ID', cx_Oracle.NUMBER, 7, None, 6, 0, 0),\n",
       " ('FIRST_NAME', cx_Oracle.STRING, 20, 20, None, None, 1),\n",
       " ('LAST_NAME', cx_Oracle.STRING, 25, 25, None, None, 0),\n",
       " ('EMAIL', cx_Oracle.STRING, 25, 25, None, None, 0),\n",
       " ('PHONE_NUMBER', cx_Oracle.STRING, 20, 20, None, None, 1),\n",
       " ('HIRE_DATE', cx_Oracle.DATETIME, 23, None, None, None, 0),\n",
       " ('JOB_ID', cx_Oracle.STRING, 10, 10, None, None, 0),\n",
       " ('SALARY', cx_Oracle.NUMBER, 12, None, 8, 2, 1),\n",
       " ('COMMISSION_PCT', cx_Oracle.NUMBER, 6, None, 2, 2, 1),\n",
       " ('MANAGER_ID', cx_Oracle.NUMBER, 7, None, 6, 0, 1),\n",
       " ('DEPARTMENT_ID', cx_Oracle.NUMBER, 5, None, 4, 0, 1)]"
      ]
     },
     "execution_count": 37,
     "metadata": {},
     "output_type": "execute_result"
    }
   ],
   "source": [
    "# cx_Oracle.Cursor.execute* family of methods returns column data types for queries. \n",
    "# These are lists of Variable objects\n",
    "cur.description"
   ]
  },
  {
   "cell_type": "code",
   "execution_count": 22,
   "metadata": {},
   "outputs": [
    {
     "data": {
      "text/plain": [
       "(100,\n",
       " 'Steven',\n",
       " 'King',\n",
       " 'SKING',\n",
       " '515.123.4567',\n",
       " datetime.datetime(2003, 6, 17, 0, 0),\n",
       " 'AD_PRES',\n",
       " 24000.0,\n",
       " None,\n",
       " None,\n",
       " 90)"
      ]
     },
     "execution_count": 22,
     "metadata": {},
     "output_type": "execute_result"
    }
   ],
   "source": [
    "cur.fetchone()"
   ]
  },
  {
   "cell_type": "code",
   "execution_count": 27,
   "metadata": {},
   "outputs": [],
   "source": [
    "rows_3 = cur.fetchmany(3)"
   ]
  },
  {
   "cell_type": "code",
   "execution_count": 28,
   "metadata": {},
   "outputs": [
    {
     "data": {
      "text/plain": [
       "list"
      ]
     },
     "execution_count": 28,
     "metadata": {},
     "output_type": "execute_result"
    }
   ],
   "source": [
    "type(rows_3)"
   ]
  },
  {
   "cell_type": "code",
   "execution_count": 29,
   "metadata": {},
   "outputs": [
    {
     "data": {
      "text/plain": [
       "[(104,\n",
       "  'Bruce',\n",
       "  'Ernst',\n",
       "  'BERNST',\n",
       "  '590.423.4568',\n",
       "  datetime.datetime(2007, 5, 21, 0, 0),\n",
       "  'IT_PROG',\n",
       "  6000.0,\n",
       "  None,\n",
       "  103,\n",
       "  60),\n",
       " (105,\n",
       "  'David',\n",
       "  'Austin',\n",
       "  'DAUSTIN',\n",
       "  '590.423.4569',\n",
       "  datetime.datetime(2005, 6, 25, 0, 0),\n",
       "  'IT_PROG',\n",
       "  4800.0,\n",
       "  None,\n",
       "  103,\n",
       "  60),\n",
       " (106,\n",
       "  'Valli',\n",
       "  'Pataballa',\n",
       "  'VPATABAL',\n",
       "  '590.423.4560',\n",
       "  datetime.datetime(2006, 2, 5, 0, 0),\n",
       "  'IT_PROG',\n",
       "  4800.0,\n",
       "  None,\n",
       "  103,\n",
       "  60)]"
      ]
     },
     "execution_count": 29,
     "metadata": {},
     "output_type": "execute_result"
    }
   ],
   "source": [
    "rows_3"
   ]
  },
  {
   "cell_type": "code",
   "execution_count": 30,
   "metadata": {},
   "outputs": [],
   "source": [
    "rows_all = cur.fetchall()"
   ]
  },
  {
   "cell_type": "code",
   "execution_count": 31,
   "metadata": {},
   "outputs": [
    {
     "data": {
      "text/plain": [
       "[(107,\n",
       "  'Diana',\n",
       "  'Lorentz',\n",
       "  'DLORENTZ',\n",
       "  '590.423.5567',\n",
       "  datetime.datetime(2007, 2, 7, 0, 0),\n",
       "  'IT_PROG',\n",
       "  4200.0,\n",
       "  None,\n",
       "  103,\n",
       "  60)]"
      ]
     },
     "execution_count": 31,
     "metadata": {},
     "output_type": "execute_result"
    }
   ],
   "source": [
    "rows_all[:1]"
   ]
  },
  {
   "cell_type": "code",
   "execution_count": 32,
   "metadata": {},
   "outputs": [
    {
     "data": {
      "text/plain": [
       "100"
      ]
     },
     "execution_count": 32,
     "metadata": {},
     "output_type": "execute_result"
    }
   ],
   "source": [
    "len(rows_all)"
   ]
  },
  {
   "cell_type": "markdown",
   "metadata": {},
   "source": [
    "#### Bind Variable "
   ]
  },
  {
   "cell_type": "code",
   "execution_count": 39,
   "metadata": {},
   "outputs": [],
   "source": [
    "select_stmt = \"\"\"\n",
    "    SELECT * FROM employees \n",
    "    WHERE department_id= :dept_id \n",
    "    AND salary> :sal\n",
    "\"\"\""
   ]
  },
  {
   "cell_type": "code",
   "execution_count": 40,
   "metadata": {},
   "outputs": [],
   "source": [
    "cur.parse(select_stmt)"
   ]
  },
  {
   "cell_type": "code",
   "execution_count": 41,
   "metadata": {},
   "outputs": [],
   "source": [
    "named_params = {'dept_id':50, 'sal':1000}"
   ]
  },
  {
   "cell_type": "code",
   "execution_count": 43,
   "metadata": {},
   "outputs": [],
   "source": [
    "query1 = cur.execute(select_stmt, named_params)"
   ]
  },
  {
   "cell_type": "code",
   "execution_count": 56,
   "metadata": {},
   "outputs": [
    {
     "data": {
      "text/plain": [
       "[('EMPLOYEE_ID', cx_Oracle.NUMBER, 7, None, 6, 0, 0),\n",
       " ('FIRST_NAME', cx_Oracle.STRING, 20, 20, None, None, 1),\n",
       " ('LAST_NAME', cx_Oracle.STRING, 25, 25, None, None, 0),\n",
       " ('EMAIL', cx_Oracle.STRING, 25, 25, None, None, 0),\n",
       " ('PHONE_NUMBER', cx_Oracle.STRING, 20, 20, None, None, 1),\n",
       " ('HIRE_DATE', cx_Oracle.DATETIME, 23, None, None, None, 0),\n",
       " ('JOB_ID', cx_Oracle.STRING, 10, 10, None, None, 0),\n",
       " ('SALARY', cx_Oracle.NUMBER, 12, None, 8, 2, 1),\n",
       " ('COMMISSION_PCT', cx_Oracle.NUMBER, 6, None, 2, 2, 1),\n",
       " ('MANAGER_ID', cx_Oracle.NUMBER, 7, None, 6, 0, 1),\n",
       " ('DEPARTMENT_ID', cx_Oracle.NUMBER, 5, None, 4, 0, 1)]"
      ]
     },
     "execution_count": 56,
     "metadata": {},
     "output_type": "execute_result"
    }
   ],
   "source": [
    "query1.description"
   ]
  },
  {
   "cell_type": "code",
   "execution_count": 57,
   "metadata": {},
   "outputs": [],
   "source": [
    "col_names = [c[0] for c in query1.description]"
   ]
  },
  {
   "cell_type": "code",
   "execution_count": 58,
   "metadata": {},
   "outputs": [
    {
     "data": {
      "text/plain": [
       "['EMPLOYEE_ID',\n",
       " 'FIRST_NAME',\n",
       " 'LAST_NAME',\n",
       " 'EMAIL',\n",
       " 'PHONE_NUMBER',\n",
       " 'HIRE_DATE',\n",
       " 'JOB_ID',\n",
       " 'SALARY',\n",
       " 'COMMISSION_PCT',\n",
       " 'MANAGER_ID',\n",
       " 'DEPARTMENT_ID']"
      ]
     },
     "execution_count": 58,
     "metadata": {},
     "output_type": "execute_result"
    }
   ],
   "source": [
    "col_names"
   ]
  },
  {
   "cell_type": "code",
   "execution_count": 48,
   "metadata": {},
   "outputs": [],
   "source": [
    "rows = cur.fetchall()"
   ]
  },
  {
   "cell_type": "code",
   "execution_count": 50,
   "metadata": {},
   "outputs": [
    {
     "data": {
      "text/plain": [
       "45"
      ]
     },
     "execution_count": 50,
     "metadata": {},
     "output_type": "execute_result"
    }
   ],
   "source": [
    "len(rows)"
   ]
  },
  {
   "cell_type": "code",
   "execution_count": 59,
   "metadata": {},
   "outputs": [],
   "source": [
    "df = pd.DataFrame(columns=col_names, data=rows)"
   ]
  },
  {
   "cell_type": "code",
   "execution_count": 60,
   "metadata": {},
   "outputs": [
    {
     "data": {
      "text/html": [
       "<div>\n",
       "<style scoped>\n",
       "    .dataframe tbody tr th:only-of-type {\n",
       "        vertical-align: middle;\n",
       "    }\n",
       "\n",
       "    .dataframe tbody tr th {\n",
       "        vertical-align: top;\n",
       "    }\n",
       "\n",
       "    .dataframe thead th {\n",
       "        text-align: right;\n",
       "    }\n",
       "</style>\n",
       "<table border=\"1\" class=\"dataframe\">\n",
       "  <thead>\n",
       "    <tr style=\"text-align: right;\">\n",
       "      <th></th>\n",
       "      <th>EMPLOYEE_ID</th>\n",
       "      <th>FIRST_NAME</th>\n",
       "      <th>LAST_NAME</th>\n",
       "      <th>EMAIL</th>\n",
       "      <th>PHONE_NUMBER</th>\n",
       "      <th>HIRE_DATE</th>\n",
       "      <th>JOB_ID</th>\n",
       "      <th>SALARY</th>\n",
       "      <th>COMMISSION_PCT</th>\n",
       "      <th>MANAGER_ID</th>\n",
       "      <th>DEPARTMENT_ID</th>\n",
       "    </tr>\n",
       "  </thead>\n",
       "  <tbody>\n",
       "    <tr>\n",
       "      <th>0</th>\n",
       "      <td>120</td>\n",
       "      <td>Matthew</td>\n",
       "      <td>Weiss</td>\n",
       "      <td>MWEISS</td>\n",
       "      <td>650.123.1234</td>\n",
       "      <td>2004-07-18</td>\n",
       "      <td>ST_MAN</td>\n",
       "      <td>8000.0</td>\n",
       "      <td>None</td>\n",
       "      <td>100</td>\n",
       "      <td>50</td>\n",
       "    </tr>\n",
       "    <tr>\n",
       "      <th>1</th>\n",
       "      <td>121</td>\n",
       "      <td>Adam</td>\n",
       "      <td>Fripp</td>\n",
       "      <td>AFRIPP</td>\n",
       "      <td>650.123.2234</td>\n",
       "      <td>2005-04-10</td>\n",
       "      <td>ST_MAN</td>\n",
       "      <td>8200.0</td>\n",
       "      <td>None</td>\n",
       "      <td>100</td>\n",
       "      <td>50</td>\n",
       "    </tr>\n",
       "    <tr>\n",
       "      <th>2</th>\n",
       "      <td>122</td>\n",
       "      <td>Payam</td>\n",
       "      <td>Kaufling</td>\n",
       "      <td>PKAUFLIN</td>\n",
       "      <td>650.123.3234</td>\n",
       "      <td>2003-05-01</td>\n",
       "      <td>ST_MAN</td>\n",
       "      <td>7900.0</td>\n",
       "      <td>None</td>\n",
       "      <td>100</td>\n",
       "      <td>50</td>\n",
       "    </tr>\n",
       "    <tr>\n",
       "      <th>3</th>\n",
       "      <td>123</td>\n",
       "      <td>Shanta</td>\n",
       "      <td>Vollman</td>\n",
       "      <td>SVOLLMAN</td>\n",
       "      <td>650.123.4234</td>\n",
       "      <td>2005-10-10</td>\n",
       "      <td>ST_MAN</td>\n",
       "      <td>6500.0</td>\n",
       "      <td>None</td>\n",
       "      <td>100</td>\n",
       "      <td>50</td>\n",
       "    </tr>\n",
       "    <tr>\n",
       "      <th>4</th>\n",
       "      <td>124</td>\n",
       "      <td>Kevin</td>\n",
       "      <td>Mourgos</td>\n",
       "      <td>KMOURGOS</td>\n",
       "      <td>650.123.5234</td>\n",
       "      <td>2007-11-16</td>\n",
       "      <td>ST_MAN</td>\n",
       "      <td>5800.0</td>\n",
       "      <td>None</td>\n",
       "      <td>100</td>\n",
       "      <td>50</td>\n",
       "    </tr>\n",
       "  </tbody>\n",
       "</table>\n",
       "</div>"
      ],
      "text/plain": [
       "   EMPLOYEE_ID FIRST_NAME LAST_NAME     EMAIL  PHONE_NUMBER  HIRE_DATE  \\\n",
       "0          120    Matthew     Weiss    MWEISS  650.123.1234 2004-07-18   \n",
       "1          121       Adam     Fripp    AFRIPP  650.123.2234 2005-04-10   \n",
       "2          122      Payam  Kaufling  PKAUFLIN  650.123.3234 2003-05-01   \n",
       "3          123     Shanta   Vollman  SVOLLMAN  650.123.4234 2005-10-10   \n",
       "4          124      Kevin   Mourgos  KMOURGOS  650.123.5234 2007-11-16   \n",
       "\n",
       "   JOB_ID  SALARY COMMISSION_PCT  MANAGER_ID  DEPARTMENT_ID  \n",
       "0  ST_MAN  8000.0           None         100             50  \n",
       "1  ST_MAN  8200.0           None         100             50  \n",
       "2  ST_MAN  7900.0           None         100             50  \n",
       "3  ST_MAN  6500.0           None         100             50  \n",
       "4  ST_MAN  5800.0           None         100             50  "
      ]
     },
     "execution_count": 60,
     "metadata": {},
     "output_type": "execute_result"
    }
   ],
   "source": [
    "df.head()"
   ]
  },
  {
   "cell_type": "code",
   "execution_count": 64,
   "metadata": {},
   "outputs": [
    {
     "data": {
      "text/plain": [
       "<cx_Oracle.Cursor on <cx_Oracle.Connection to hr@localhost:1521/XE>>"
      ]
     },
     "execution_count": 64,
     "metadata": {},
     "output_type": "execute_result"
    }
   ],
   "source": [
    "cur.execute('SELECT * FROM locations WHERE country_id=:1 AND city=:2', ('US', 'Seattle'))"
   ]
  },
  {
   "cell_type": "code",
   "execution_count": 65,
   "metadata": {},
   "outputs": [
    {
     "data": {
      "text/plain": [
       "[(1700, '2004 Charade Rd', '98199', 'Seattle', 'Washington', 'US')]"
      ]
     },
     "execution_count": 65,
     "metadata": {},
     "output_type": "execute_result"
    }
   ],
   "source": [
    "cur.fetchmany(6)"
   ]
  },
  {
   "cell_type": "markdown",
   "metadata": {},
   "source": [
    "#### Many at Once"
   ]
  },
  {
   "cell_type": "code",
   "execution_count": 66,
   "metadata": {},
   "outputs": [],
   "source": [
    "create_table = \"\"\"\n",
    "    CREATE TABLE python_modules (\n",
    "    module_name VARCHAR2(50) NOT NULL,\n",
    "    file_path VARCHAR2(300) NOT NULL\n",
    ")\n",
    "\"\"\"\n",
    "cur.execute(create_table)"
   ]
  },
  {
   "cell_type": "code",
   "execution_count": 67,
   "metadata": {},
   "outputs": [
    {
     "data": {
      "text/plain": [
       "[]"
      ]
     },
     "execution_count": 67,
     "metadata": {},
     "output_type": "execute_result"
    }
   ],
   "source": [
    "cur.execute(\"select * from python_modules\")\n",
    "rows = cur.fetchall()\n",
    "rows"
   ]
  },
  {
   "cell_type": "code",
   "execution_count": 69,
   "metadata": {},
   "outputs": [
    {
     "data": {
      "text/plain": [
       "1100"
      ]
     },
     "execution_count": 69,
     "metadata": {},
     "output_type": "execute_result"
    }
   ],
   "source": [
    "from sys import modules\n",
    "M = []\n",
    "for m_name, m_info in modules.items():\n",
    "    try:\n",
    "        M.append((m_name, m_info.__file__))\n",
    "    except AttributeError:\n",
    "        pass\n",
    "\n",
    "len(M)"
   ]
  },
  {
   "cell_type": "code",
   "execution_count": 70,
   "metadata": {},
   "outputs": [
    {
     "data": {
      "text/plain": [
       "[('_frozen_importlib', 'C:\\\\Anaconda3\\\\lib\\\\importlib\\\\_bootstrap.py'),\n",
       " ('_frozen_importlib_external',\n",
       "  'C:\\\\Anaconda3\\\\lib\\\\importlib\\\\_bootstrap_external.py'),\n",
       " ('encodings', 'C:\\\\Anaconda3\\\\lib\\\\encodings\\\\__init__.py')]"
      ]
     },
     "execution_count": 70,
     "metadata": {},
     "output_type": "execute_result"
    }
   ],
   "source": [
    "M[:3]"
   ]
  },
  {
   "cell_type": "code",
   "execution_count": 71,
   "metadata": {},
   "outputs": [],
   "source": [
    "cur.prepare(\"INSERT INTO python_modules(module_name, file_path) VALUES (:1, :2)\")\n",
    "cur.executemany(None, M)\n",
    "conn1.commit()"
   ]
  },
  {
   "cell_type": "code",
   "execution_count": 72,
   "metadata": {},
   "outputs": [
    {
     "data": {
      "text/plain": [
       "(1100,)"
      ]
     },
     "execution_count": 72,
     "metadata": {},
     "output_type": "execute_result"
    }
   ],
   "source": [
    "cur.execute(\"SELECT COUNT(*) FROM python_modules\")\n",
    "cur.fetchone()"
   ]
  },
  {
   "cell_type": "code",
   "execution_count": 73,
   "metadata": {},
   "outputs": [],
   "source": [
    "# drop table\n",
    "\n",
    "#cur.execute(\"DROP TABLE python_modules PURGE\")"
   ]
  },
  {
   "cell_type": "code",
   "execution_count": null,
   "metadata": {},
   "outputs": [],
   "source": []
  },
  {
   "cell_type": "markdown",
   "metadata": {},
   "source": [
    "#### Pandas"
   ]
  },
  {
   "cell_type": "code",
   "execution_count": 74,
   "metadata": {},
   "outputs": [],
   "source": [
    "df = pd.read_sql(\"\"\"select * from python_modules\"\"\", con=conn1)"
   ]
  },
  {
   "cell_type": "code",
   "execution_count": 75,
   "metadata": {},
   "outputs": [
    {
     "data": {
      "text/html": [
       "<div>\n",
       "<style scoped>\n",
       "    .dataframe tbody tr th:only-of-type {\n",
       "        vertical-align: middle;\n",
       "    }\n",
       "\n",
       "    .dataframe tbody tr th {\n",
       "        vertical-align: top;\n",
       "    }\n",
       "\n",
       "    .dataframe thead th {\n",
       "        text-align: right;\n",
       "    }\n",
       "</style>\n",
       "<table border=\"1\" class=\"dataframe\">\n",
       "  <thead>\n",
       "    <tr style=\"text-align: right;\">\n",
       "      <th></th>\n",
       "      <th>MODULE_NAME</th>\n",
       "      <th>FILE_PATH</th>\n",
       "    </tr>\n",
       "  </thead>\n",
       "  <tbody>\n",
       "    <tr>\n",
       "      <th>0</th>\n",
       "      <td>pygments</td>\n",
       "      <td>C:\\Anaconda3\\lib\\site-packages\\pygments\\__init...</td>\n",
       "    </tr>\n",
       "    <tr>\n",
       "      <th>1</th>\n",
       "      <td>pygments.util</td>\n",
       "      <td>C:\\Anaconda3\\lib\\site-packages\\pygments\\util.py</td>\n",
       "    </tr>\n",
       "    <tr>\n",
       "      <th>2</th>\n",
       "      <td>IPython.utils.py3compat</td>\n",
       "      <td>C:\\Anaconda3\\lib\\site-packages\\IPython\\utils\\p...</td>\n",
       "    </tr>\n",
       "    <tr>\n",
       "      <th>3</th>\n",
       "      <td>IPython.utils.encoding</td>\n",
       "      <td>C:\\Anaconda3\\lib\\site-packages\\IPython\\utils\\e...</td>\n",
       "    </tr>\n",
       "    <tr>\n",
       "      <th>4</th>\n",
       "      <td>IPython.core.excolors</td>\n",
       "      <td>C:\\Anaconda3\\lib\\site-packages\\IPython\\core\\ex...</td>\n",
       "    </tr>\n",
       "  </tbody>\n",
       "</table>\n",
       "</div>"
      ],
      "text/plain": [
       "               MODULE_NAME                                          FILE_PATH\n",
       "0                 pygments  C:\\Anaconda3\\lib\\site-packages\\pygments\\__init...\n",
       "1            pygments.util    C:\\Anaconda3\\lib\\site-packages\\pygments\\util.py\n",
       "2  IPython.utils.py3compat  C:\\Anaconda3\\lib\\site-packages\\IPython\\utils\\p...\n",
       "3   IPython.utils.encoding  C:\\Anaconda3\\lib\\site-packages\\IPython\\utils\\e...\n",
       "4    IPython.core.excolors  C:\\Anaconda3\\lib\\site-packages\\IPython\\core\\ex..."
      ]
     },
     "execution_count": 75,
     "metadata": {},
     "output_type": "execute_result"
    }
   ],
   "source": [
    "df.head()"
   ]
  },
  {
   "cell_type": "code",
   "execution_count": 76,
   "metadata": {},
   "outputs": [
    {
     "data": {
      "text/html": [
       "<div>\n",
       "<style scoped>\n",
       "    .dataframe tbody tr th:only-of-type {\n",
       "        vertical-align: middle;\n",
       "    }\n",
       "\n",
       "    .dataframe tbody tr th {\n",
       "        vertical-align: top;\n",
       "    }\n",
       "\n",
       "    .dataframe thead th {\n",
       "        text-align: right;\n",
       "    }\n",
       "</style>\n",
       "<table border=\"1\" class=\"dataframe\">\n",
       "  <thead>\n",
       "    <tr style=\"text-align: right;\">\n",
       "      <th></th>\n",
       "      <th>MODULE_NAME</th>\n",
       "      <th>FILE_PATH</th>\n",
       "    </tr>\n",
       "  </thead>\n",
       "  <tbody>\n",
       "    <tr>\n",
       "      <th>0</th>\n",
       "      <td>pygments</td>\n",
       "      <td>C:\\Anaconda3\\lib\\site-packages\\pygments\\__init...</td>\n",
       "    </tr>\n",
       "    <tr>\n",
       "      <th>1</th>\n",
       "      <td>pygments.util</td>\n",
       "      <td>C:\\Anaconda3\\lib\\site-packages\\pygments\\util.py</td>\n",
       "    </tr>\n",
       "    <tr>\n",
       "      <th>2</th>\n",
       "      <td>IPython.utils.py3compat</td>\n",
       "      <td>C:\\Anaconda3\\lib\\site-packages\\IPython\\utils\\p...</td>\n",
       "    </tr>\n",
       "    <tr>\n",
       "      <th>3</th>\n",
       "      <td>IPython.utils.encoding</td>\n",
       "      <td>C:\\Anaconda3\\lib\\site-packages\\IPython\\utils\\e...</td>\n",
       "    </tr>\n",
       "    <tr>\n",
       "      <th>4</th>\n",
       "      <td>IPython.core.excolors</td>\n",
       "      <td>C:\\Anaconda3\\lib\\site-packages\\IPython\\core\\ex...</td>\n",
       "    </tr>\n",
       "    <tr>\n",
       "      <th>5</th>\n",
       "      <td>IPython.testing</td>\n",
       "      <td>C:\\Anaconda3\\lib\\site-packages\\IPython\\testing...</td>\n",
       "    </tr>\n",
       "    <tr>\n",
       "      <th>6</th>\n",
       "      <td>IPython.testing.skipdoctest</td>\n",
       "      <td>C:\\Anaconda3\\lib\\site-packages\\IPython\\testing...</td>\n",
       "    </tr>\n",
       "    <tr>\n",
       "      <th>7</th>\n",
       "      <td>pdb</td>\n",
       "      <td>C:\\Anaconda3\\lib\\pdb.py</td>\n",
       "    </tr>\n",
       "    <tr>\n",
       "      <th>8</th>\n",
       "      <td>cmd</td>\n",
       "      <td>C:\\Anaconda3\\lib\\cmd.py</td>\n",
       "    </tr>\n",
       "    <tr>\n",
       "      <th>9</th>\n",
       "      <td>code</td>\n",
       "      <td>C:\\Anaconda3\\lib\\code.py</td>\n",
       "    </tr>\n",
       "  </tbody>\n",
       "</table>\n",
       "</div>"
      ],
      "text/plain": [
       "                   MODULE_NAME  \\\n",
       "0                     pygments   \n",
       "1                pygments.util   \n",
       "2      IPython.utils.py3compat   \n",
       "3       IPython.utils.encoding   \n",
       "4        IPython.core.excolors   \n",
       "5              IPython.testing   \n",
       "6  IPython.testing.skipdoctest   \n",
       "7                          pdb   \n",
       "8                          cmd   \n",
       "9                         code   \n",
       "\n",
       "                                           FILE_PATH  \n",
       "0  C:\\Anaconda3\\lib\\site-packages\\pygments\\__init...  \n",
       "1    C:\\Anaconda3\\lib\\site-packages\\pygments\\util.py  \n",
       "2  C:\\Anaconda3\\lib\\site-packages\\IPython\\utils\\p...  \n",
       "3  C:\\Anaconda3\\lib\\site-packages\\IPython\\utils\\e...  \n",
       "4  C:\\Anaconda3\\lib\\site-packages\\IPython\\core\\ex...  \n",
       "5  C:\\Anaconda3\\lib\\site-packages\\IPython\\testing...  \n",
       "6  C:\\Anaconda3\\lib\\site-packages\\IPython\\testing...  \n",
       "7                            C:\\Anaconda3\\lib\\pdb.py  \n",
       "8                            C:\\Anaconda3\\lib\\cmd.py  \n",
       "9                           C:\\Anaconda3\\lib\\code.py  "
      ]
     },
     "execution_count": 76,
     "metadata": {},
     "output_type": "execute_result"
    }
   ],
   "source": [
    "# select columns\n",
    "df.head(10)[['MODULE_NAME','FILE_PATH']]"
   ]
  },
  {
   "cell_type": "code",
   "execution_count": 79,
   "metadata": {},
   "outputs": [
    {
     "name": "stdout",
     "output_type": "stream",
     "text": [
      "C:\\Anaconda3\\lib\\site-packages\\pygments\\__init__.py\n",
      "C:\\Anaconda3\\lib\\site-packages\\pygments\\util.py\n",
      "C:\\Anaconda3\\lib\\site-packages\\IPython\\utils\\py3compat.py\n",
      "C:\\Anaconda3\\lib\\site-packages\\IPython\\utils\\encoding.py\n",
      "C:\\Anaconda3\\lib\\site-packages\\IPython\\core\\excolors.py\n"
     ]
    }
   ],
   "source": [
    "for ix in range(5):\n",
    "    print(df.iloc[ix]['FILE_PATH'])"
   ]
  },
  {
   "cell_type": "markdown",
   "metadata": {},
   "source": [
    "#### connect to CRMAT"
   ]
  },
  {
   "cell_type": "code",
   "execution_count": 11,
   "metadata": {},
   "outputs": [],
   "source": [
    "user_name = \"intfc_gcm_dqms\"\n",
    "pwd = \"Xuvnkdyx0\"\n",
    "hostname = \"ubadx4013-vip.us.oracle.com\"\n",
    "port = \"1553\"\n",
    "service_name = \"crmat.us.oracle.com\"\n",
    "conn_str = \"{0}/{1}@{2}:{3}/{4}\".format(user_name, pwd, hostname, port, service_name)"
   ]
  },
  {
   "cell_type": "code",
   "execution_count": 12,
   "metadata": {},
   "outputs": [
    {
     "data": {
      "text/plain": [
       "'intfc_gcm_dqms/Xuvnkdyx0@ubadx4013-vip.us.oracle.com:1553/crmat.us.oracle.com'"
      ]
     },
     "execution_count": 12,
     "metadata": {},
     "output_type": "execute_result"
    }
   ],
   "source": [
    "conn_str"
   ]
  },
  {
   "cell_type": "code",
   "execution_count": 13,
   "metadata": {},
   "outputs": [],
   "source": [
    "crmat = cx_Oracle.connect(conn_str)"
   ]
  },
  {
   "cell_type": "code",
   "execution_count": 14,
   "metadata": {},
   "outputs": [],
   "source": [
    "sql_str = \"\"\"\n",
    "    select p.party_id,p.party_name,p.status \n",
    "    from fusion.hz_parties p where rownum < 15\n",
    "\"\"\"\n",
    "\n",
    "df = pd.read_sql(sql_str, con=crmat)"
   ]
  },
  {
   "cell_type": "code",
   "execution_count": 15,
   "metadata": {},
   "outputs": [
    {
     "data": {
      "text/html": [
       "<div>\n",
       "<style scoped>\n",
       "    .dataframe tbody tr th:only-of-type {\n",
       "        vertical-align: middle;\n",
       "    }\n",
       "\n",
       "    .dataframe tbody tr th {\n",
       "        vertical-align: top;\n",
       "    }\n",
       "\n",
       "    .dataframe thead th {\n",
       "        text-align: right;\n",
       "    }\n",
       "</style>\n",
       "<table border=\"1\" class=\"dataframe\">\n",
       "  <thead>\n",
       "    <tr style=\"text-align: right;\">\n",
       "      <th></th>\n",
       "      <th>PARTY_ID</th>\n",
       "      <th>PARTY_NAME</th>\n",
       "      <th>STATUS</th>\n",
       "    </tr>\n",
       "  </thead>\n",
       "  <tbody>\n",
       "    <tr>\n",
       "      <th>0</th>\n",
       "      <td>300000000463755</td>\n",
       "      <td>None</td>\n",
       "      <td>A</td>\n",
       "    </tr>\n",
       "    <tr>\n",
       "      <th>1</th>\n",
       "      <td>300000000463763</td>\n",
       "      <td>Other-Local</td>\n",
       "      <td>A</td>\n",
       "    </tr>\n",
       "    <tr>\n",
       "      <th>2</th>\n",
       "      <td>300000000463771</td>\n",
       "      <td>IBM</td>\n",
       "      <td>A</td>\n",
       "    </tr>\n",
       "    <tr>\n",
       "      <th>3</th>\n",
       "      <td>300000000463779</td>\n",
       "      <td>HP</td>\n",
       "      <td>A</td>\n",
       "    </tr>\n",
       "    <tr>\n",
       "      <th>4</th>\n",
       "      <td>300000000463787</td>\n",
       "      <td>SalesForce.com</td>\n",
       "      <td>A</td>\n",
       "    </tr>\n",
       "    <tr>\n",
       "      <th>5</th>\n",
       "      <td>300000000463795</td>\n",
       "      <td>EMC CORPORATION</td>\n",
       "      <td>A</td>\n",
       "    </tr>\n",
       "    <tr>\n",
       "      <th>6</th>\n",
       "      <td>300000000463803</td>\n",
       "      <td>TERADATA</td>\n",
       "      <td>A</td>\n",
       "    </tr>\n",
       "    <tr>\n",
       "      <th>7</th>\n",
       "      <td>300000000463811</td>\n",
       "      <td>NetApp</td>\n",
       "      <td>A</td>\n",
       "    </tr>\n",
       "    <tr>\n",
       "      <th>8</th>\n",
       "      <td>300000000463823</td>\n",
       "      <td>SAP Sybase</td>\n",
       "      <td>A</td>\n",
       "    </tr>\n",
       "    <tr>\n",
       "      <th>9</th>\n",
       "      <td>300000000463835</td>\n",
       "      <td>SAP Business Objects</td>\n",
       "      <td>A</td>\n",
       "    </tr>\n",
       "    <tr>\n",
       "      <th>10</th>\n",
       "      <td>300000000463843</td>\n",
       "      <td>Sas</td>\n",
       "      <td>A</td>\n",
       "    </tr>\n",
       "    <tr>\n",
       "      <th>11</th>\n",
       "      <td>300000000463851</td>\n",
       "      <td>NOVELL</td>\n",
       "      <td>A</td>\n",
       "    </tr>\n",
       "    <tr>\n",
       "      <th>12</th>\n",
       "      <td>100000000692232</td>\n",
       "      <td>Thomas Kurian</td>\n",
       "      <td>A</td>\n",
       "    </tr>\n",
       "    <tr>\n",
       "      <th>13</th>\n",
       "      <td>100000001410656</td>\n",
       "      <td>Keith Block</td>\n",
       "      <td>A</td>\n",
       "    </tr>\n",
       "  </tbody>\n",
       "</table>\n",
       "</div>"
      ],
      "text/plain": [
       "           PARTY_ID            PARTY_NAME STATUS\n",
       "0   300000000463755                  None      A\n",
       "1   300000000463763           Other-Local      A\n",
       "2   300000000463771                   IBM      A\n",
       "3   300000000463779                    HP      A\n",
       "4   300000000463787        SalesForce.com      A\n",
       "5   300000000463795       EMC CORPORATION      A\n",
       "6   300000000463803              TERADATA      A\n",
       "7   300000000463811                NetApp      A\n",
       "8   300000000463823            SAP Sybase      A\n",
       "9   300000000463835  SAP Business Objects      A\n",
       "10  300000000463843                   Sas      A\n",
       "11  300000000463851                NOVELL      A\n",
       "12  100000000692232         Thomas Kurian      A\n",
       "13  100000001410656           Keith Block      A"
      ]
     },
     "execution_count": 15,
     "metadata": {},
     "output_type": "execute_result"
    }
   ],
   "source": [
    "df"
   ]
  },
  {
   "cell_type": "markdown",
   "metadata": {},
   "source": [
    "### Managing database transactions\n",
    "\n",
    "https://www.oracle.com/technetwork/articles/dsl/prez-transactions-lobs-089563.html\n",
    "    \n",
    "It's All About ACID\n",
    "A database transaction is a logical group of statements characterized by four essential properties:\n",
    "\n",
    "- Atomicity: all of the operations succeed or fail as a whole\n",
    "- Consistency: committing transaction cannot result in data corruption\n",
    "- Isolation: other transactions remain unaware of transaction's execution\n",
    "- Durability: operations committed within transaction will prevail database crash."
   ]
  },
  {
   "cell_type": "code",
   "execution_count": 82,
   "metadata": {},
   "outputs": [],
   "source": [
    "import cx_Oracle\n",
    " \n",
    "class HR:\n",
    "  def __enter__(self):\n",
    "    self.__db = cx_Oracle.Connection(\"hr/hr@localhost:1521/XE\")\n",
    "    self.__cursor = self.__db.cursor()\n",
    "    return self \n",
    "  \n",
    "  def __exit__(self, type, value, traceback): \n",
    "    self.__db.close()\n",
    "  \n",
    "  def swapDepartments(self, employee_id1, employee_id2):\n",
    "    assert employee_id1!=employee_id2\n",
    "    \n",
    "    select_sql = \"\"\"select employee_id, department_id from employees\n",
    "      where employee_id in (:1, :2)\"\"\"\n",
    "    update_sql = \"update employees set department_id=:1 where employee_id=:2\"\n",
    "\n",
    "    self.__db.begin()\n",
    "    self.__cursor.execute(select_sql, (employee_id1, employee_id2))\n",
    "    D = dict(self.__cursor.fetchall())\n",
    "    self.__cursor.execute(update_sql, (D[employee_id2], employee_id1))\n",
    "    self.__cursor.execute(update_sql, (D[employee_id1], employee_id2))\n",
    "    self.__db.commit()\n",
    " \n",
    "  def raiseSalary(self, employee_ids, raise_pct):\n",
    "    update_sql = \"update employees set salary=salary*:1 where employee_id=:2\"\n",
    "    \n",
    "    self.__db.begin()\n",
    "\n",
    "    for employee_id in employee_ids:\n",
    "      try:\n",
    "        self.__cursor.execute(update_sql, [1+raise_pct/100, employee_id])\n",
    "        assert self.__cursor.rowcount==1\n",
    "      except AssertionError:\n",
    "        self.__db.rollback()\n",
    "        raise (Warning, \"invalid employee_id (%s)\" % employee_id)\n",
    "\n",
    "    self.__db.commit()\n",
    " \n",
    "if __name__ == \"__main__\":\n",
    "  with HR() as hr:\n",
    "    hr.swapDepartments(106, 116)\n",
    "    hr.raiseSalary([102, 106, 116], 20)"
   ]
  },
  {
   "cell_type": "code",
   "execution_count": 86,
   "metadata": {},
   "outputs": [
    {
     "data": {
      "text/plain": [
       "<cx_Oracle.Cursor on <cx_Oracle.Connection to hr@localhost:1521/XE>>"
      ]
     },
     "execution_count": 86,
     "metadata": {},
     "output_type": "execute_result"
    }
   ],
   "source": [
    "cur.execute(\"select employee_id, department_id, salary from employees where employee_id in (102, 106,116)\")\n",
    "\n",
    "cur.fetchall()"
   ]
  },
  {
   "cell_type": "code",
   "execution_count": 88,
   "metadata": {},
   "outputs": [],
   "source": [
    "with HR() as hr:\n",
    "    hr.swapDepartments(106, 116)\n",
    "    hr.raiseSalary([102, 106, 116], 20)"
   ]
  },
  {
   "cell_type": "code",
   "execution_count": null,
   "metadata": {},
   "outputs": [],
   "source": [
    "# verify after changes"
   ]
  },
  {
   "cell_type": "code",
   "execution_count": 89,
   "metadata": {},
   "outputs": [
    {
     "data": {
      "text/plain": [
       "[(102, 90, 24480.0), (106, 60, 6912.0), (116, 30, 4176.0)]"
      ]
     },
     "execution_count": 89,
     "metadata": {},
     "output_type": "execute_result"
    }
   ],
   "source": [
    "cur.execute(\"select employee_id, department_id, salary from employees where employee_id in (102, 106,116)\")\n",
    "\n",
    "cur.fetchall()"
   ]
  },
  {
   "cell_type": "code",
   "execution_count": 90,
   "metadata": {},
   "outputs": [],
   "source": [
    "with HR() as hr:\n",
    "    hr.raiseSalary([102, 106, 116], -20)"
   ]
  },
  {
   "cell_type": "code",
   "execution_count": 91,
   "metadata": {},
   "outputs": [
    {
     "data": {
      "text/plain": [
       "[(102, 90, 19584.0), (106, 60, 5529.6), (116, 30, 3340.8)]"
      ]
     },
     "execution_count": 91,
     "metadata": {},
     "output_type": "execute_result"
    }
   ],
   "source": [
    "cur.execute(\"select employee_id, department_id, salary from employees where employee_id in (102, 106,116)\")\n",
    "\n",
    "cur.fetchall()"
   ]
  },
  {
   "cell_type": "markdown",
   "metadata": {},
   "source": [
    "### Handling Large Objects\n",
    "\n",
    "https://www.oracle.com/technetwork/articles/dsl/prez-transactions-lobs-089563.html\n",
    "    \n",
    "    \n",
    "When it comes to data types available for table columns in the Oracle Database, VARCHAR2 can only store values up to 4000 bytes. This is where Large Objects chime in with its ability to store large data such as text, images, videos and other multimedia formats. And with what you can hardly call a limit—a LOB's maximum size is as much as 128 terabytes (as of 11g Release 2).\n",
    "\n",
    "\n",
    "There are several types of LOBs available in Oracle Database: \n",
    "- Binary Large Object (BLOB), \n",
    "- Character Large Object (CLOB), \n",
    "- National Character Set Large Object (NCLOB) and \n",
    "- External Binary File (BFILE). \n",
    "\n",
    "The latter one is used for accessing external operating system files in read-only mode while all the other ones enable storage of large data inside the database, in either persistent or temporary mode. Each LOB consists of an actual value and a small locator that points to the value. Passing a LOB around often simply means passing a LOB locator.\n",
    "\n",
    "\n",
    "At any given time, a LOB can be in one of the three defined states: NULL, empty or populated. This resembles the behavior of regular VARCHAR columns in other RDBMS engines (not treating empty string as NULL). And lastly there are several restrictions with the major ones being that LOBs:\n",
    "\n",
    "- Cannot be a primary key\n",
    "- Cannot be part of a cluster\n",
    "- Cannot be used in conjunction with DISTINCT, ORDER BY and GROUP BY clauses"
   ]
  },
  {
   "cell_type": "code",
   "execution_count": 92,
   "metadata": {},
   "outputs": [
    {
     "data": {
      "text/plain": [
       "['BFILE', 'BLOB', 'CLOB', 'LOB', 'NCLOB']"
      ]
     },
     "execution_count": 92,
     "metadata": {},
     "output_type": "execute_result"
    }
   ],
   "source": [
    "[i for i in dir(cx_Oracle) if i.endswith('LOB') or i=='BFILE'] "
   ]
  },
  {
   "cell_type": "code",
   "execution_count": 93,
   "metadata": {},
   "outputs": [],
   "source": [
    "clob = cur.var(cx_Oracle.CLOB)\n",
    "clob.setvalue(0, '#'*2**10) "
   ]
  },
  {
   "cell_type": "code",
   "execution_count": 95,
   "metadata": {},
   "outputs": [
    {
     "name": "stdout",
     "output_type": "stream",
     "text": [
      "################################################################################################################################################################################################################################################################################################################################################################################################################################################################################################################################################################################################################################################################################################################################################################################################################################################################################################################################################################################################################################################################\n"
     ]
    }
   ],
   "source": [
    "print(clob.getvalue(0))"
   ]
  },
  {
   "cell_type": "code",
   "execution_count": 96,
   "metadata": {},
   "outputs": [
    {
     "data": {
      "text/plain": [
       "<cx_Oracle.Cursor on <cx_Oracle.Connection to hr@localhost:1521/XE>>"
      ]
     },
     "execution_count": 96,
     "metadata": {},
     "output_type": "execute_result"
    }
   ],
   "source": [
    "# see cx_oracle_lob.py and c:/tmp/example.txt\n",
    "cur.execute(\"SELECT bf FROM v_lobs WHERE bf IS NOT NULL\") "
   ]
  },
  {
   "cell_type": "code",
   "execution_count": 97,
   "metadata": {},
   "outputs": [],
   "source": [
    "bf, = cur.fetchone()"
   ]
  },
  {
   "cell_type": "code",
   "execution_count": 98,
   "metadata": {},
   "outputs": [
    {
     "data": {
      "text/plain": [
       "cx_Oracle.LOB"
      ]
     },
     "execution_count": 98,
     "metadata": {},
     "output_type": "execute_result"
    }
   ],
   "source": [
    "type(bf)"
   ]
  },
  {
   "cell_type": "code",
   "execution_count": 107,
   "metadata": {},
   "outputs": [],
   "source": [
    "bfile_data = bf.read()"
   ]
  },
  {
   "cell_type": "code",
   "execution_count": 108,
   "metadata": {},
   "outputs": [
    {
     "data": {
      "text/plain": [
       "bytes"
      ]
     },
     "execution_count": 108,
     "metadata": {},
     "output_type": "execute_result"
    }
   ],
   "source": [
    "type(bfile_data)"
   ]
  },
  {
   "cell_type": "code",
   "execution_count": 110,
   "metadata": {},
   "outputs": [
    {
     "name": "stdout",
     "output_type": "stream",
     "text": [
      "LOB as in Large Objects\r\n",
      "When it comes to data types available for table columns in the Oracle Database, VARCHAR2 can only store values up to 4000 bytes. This is where Large Objects chime in with its ability to store large data such as text, images, videos and other multimedia formats. And with what you can hardly call a limit—a LOB's maximum size is as much as 128 terabytes (as of 11g Release 2).\r\n",
      "\r\n",
      "There are several types of LOBs available in Oracle Database: Binary Large Object (BLOB), Character Large Object (CLOB), National Character Set Large Object (NCLOB) and External Binary File (BFILE). The latter one is used for accessing external operating system files in read-only mode while all the other ones enable storage of large data inside the database, in either persistent or temporary mode. Each LOB consists of an actual value and a small locator that points to the value. Passing a LOB around often simply means passing a LOB locator.\r\n",
      "\r\n",
      "At any given time, a LOB can be in one of the three defined states: NULL, empty or populated. This resembles the behavior of regular VARCHAR columns in other RDBMS engines (not treating empty string as NULL). And lastly there are several restrictions with the major ones being that LOBs:\r\n",
      "\r\n",
      "Cannot be a primary key\r\n",
      "Cannot be part of a cluster\r\n",
      "Cannot be used in conjunction with DISTINCT, ORDER BY and GROUP BY clauses\r\n",
      "Extensive documentation of Large Objects is available in the Oracle Database Application Developer's Guide .\r\n",
      "\r\n",
      "Python's cx_Oracle module enables access to all types of LOBs:\r\n",
      "\r\n",
      ">>> [i for i in dir(cx_Oracle) if i.endswith('LOB') or i=='BFILE'] \r\n",
      "['BFILE', 'BLOB', 'CLOB', 'LOB', 'NCLOB'] \r\n",
      "\r\n",
      "A special datatype exists in cx_Oracle for all those Oracle types whose length or type cannot be deduced automatically. It was designed particularly for dealing with IN/OUT parameters of stored procedures. Let's consider a Variable object, filled with 1 megabyte of data (repeating a hash character 2∧20 times):\r\n",
      " \r\n",
      ">>> db = cx_Oracle.Connection('hr/hrpwd@localhost:1521/XE') \r\n",
      ">>> cursor = db.cursor() \r\n",
      ">>> clob = cursor.var(cx_Oracle.CLOB) \r\n",
      ">>> clob.setvalue(0, '#'*2**20) \r\n",
      "\r\n",
      "To create a LOB object in Python we've passed a cx_Oracle.CLOB type to the constructor of the Variable object which exposes two basic methods (among others):\r\n",
      "getvalue(pos=0) for getting value at a given position (0 by default)\r\n",
      "setvalue(pos, value) for setting value at a given position\r\n",
      "For some experiments with LOBs use the DDL below to create the objects listed below:\r\n",
      " \r\n",
      "CREATE TABLE lobs (\r\n",
      "  c CLOB,\r\n",
      "  nc NCLOB,\r\n",
      "  b BLOB,\r\n",
      "  bf BFILE\r\n",
      ");\r\n",
      "\r\n",
      "  \r\n",
      "CREATE VIEW v_lobs AS\r\n",
      "SELECT\r\n",
      "  ROWID id,\r\n",
      "  c,\r\n",
      "  nc,\r\n",
      "  b,\r\n",
      "  bf,\r\n",
      "  dbms_lob.getlength(c) c_len,\r\n",
      "  dbms_lob.getlength(nc) nc_len,\r\n",
      "  dbms_lob.getlength(b) b_len,\r\n",
      "  dbms_lob.getlength(bf) bf_len\r\n",
      "FROM lobs;\r\n",
      "\r\n",
      "For this example the BFILE locator will point to a file in the /tmp directory. As the SYSTEM user run:\r\n",
      " \r\n",
      "create directory lob_dir AS '/tmp';    (on unix)\r\n",
      "create directory lob_dir AS 'c:\\tmp';  (on windows)\r\n",
      "grant read on directory lob_dir to HR;\r\n",
      "\r\n",
      "Finally, use an editor and create the file /tmp/example.txt containing any dummy text of your choice.\r\n",
      "\r\n",
      "To get a closer insight into the default table creation options used for the LOBS table, try generating the full DDL with the DBMS_METADATA.GET_DDL procedure:\r\n",
      "\r\n",
      "SET LONG 5000\r\n",
      "SELECT \r\n",
      "  DBMS_METADATA.GET_DDL('TABLE', TABLE_NAME)\r\n",
      "FROM USER_TABLES\r\n",
      "WHERE TABLE_NAME = 'LOBS';\r\n",
      "\r\n",
      "Amongst the output there are two interesting parameters worth looking into:\r\n",
      "ENABLE STORAGE IN ROW instructs Oracle to try putting the LOB data together with table data under condition it fits into 4000 bytes minus system metadata (the opposite is DISABLE STORAGE IN ROW)\r\n",
      "CHUNK determines the number of bytes which are allocated while processing LOBs (this information is accessible in Python with the cx_Oracle.LOB.getchunksize() method)\r\n",
      "The options can be used when creating the table to tune its behavior and performance.\r\n",
      "For a more complete example of working with large objects consider the code below. It shows four different types of LOBs and four methods for inserting and selecting them into and from the database.\r\n",
      "\r\n",
      "# -*- coding: utf8 -*- \r\n",
      "import cx_Oracle\r\n",
      "import operator\r\n",
      "import os\r\n",
      "from hashlib import md5\r\n",
      "from random import randint \r\n",
      "  \r\n",
      "class LobExample:\r\n",
      "  def __enter__(self):\r\n",
      "    self.__db = cx_Oracle.Connection(\"hr/hrpwd@localhost:1521/XE\")\r\n",
      "    self.__cursor = self.__db.cursor()\r\n",
      "    return self \r\n",
      "  \r\n",
      "  def __exit__(self, type, value, traceback):\r\n",
      "    # calling close methods on cursor and connection -\r\n",
      "    # this technique can be used to close arbitrary number of cursors\r\n",
      "    map(operator.methodcaller(\"close\"), (self.__cursor, self.__db)) \r\n",
      "  \r\n",
      "  def clob(self):\r\n",
      "    # populate the table with large data (1MB per insert) and then\r\n",
      "    # select the data including dbms_lob.getlength for validating assertion\r\n",
      "    self.__cursor.execute(\"INSERT INTO lobs(c) VALUES(:1)\", [\"~\"*2**20])\r\n",
      "    self.__cursor.execute(\"SELECT c, c_len FROM v_lobs WHERE c IS NOT NULL\") \r\n",
      "    c, c_len = self.__cursor.fetchone()\r\n",
      "    clob_data = c.read()\r\n",
      "    assert len(clob_data)==c_len\r\n",
      "    self.__db.rollback()\r\n",
      "     \r\n",
      "  def nclob(self):\r\n",
      "    unicode_data = u\"€\"*2**20\r\n",
      "    # define variable object holding the nclob unicode data\r\n",
      "    nclob_var = self.__cursor.var(cx_Oracle.NCLOB)\r\n",
      "    nclob_var.setvalue(0, unicode_data) \r\n",
      "    self.__cursor.execute(\"INSERT INTO lobs(nc) VALUES(:1)\", [nclob_var])\r\n",
      "    self.__cursor.execute(\"SELECT nc, nc_len FROM v_lobs WHERE nc IS NOT NULL\") \r\n",
      "    nc, nc_len = self.__cursor.fetchone()\r\n",
      "    # reading only the first character just to check if encoding is right\r\n",
      "    nclob_substr = nc.read(1, 1)\r\n",
      "    assert nclob_substr==u\"€\"\r\n",
      "    self.__db.rollback() \r\n",
      "  \r\n",
      "  def blob(self):\r\n",
      "    # preparing the sample binary data with random 0-255 int and chr function\r\n",
      "    binary_data = \"\".join(chr(randint(0, 255)) for c in xrange(2**2))\r\n",
      "    binary_md5 = md5(binary_data).hexdigest()\r\n",
      "    binary_var = self.__cursor.var(cx_Oracle.BLOB)\r\n",
      "    binary_var.setvalue(0, binary_data) \r\n",
      "    self.__cursor.execute(\"INSERT INTO lobs(b) VALUES(:1)\", [binary_var])\r\n",
      "    self.__cursor.execute(\"SELECT b FROM v_lobs WHERE b IS NOT NULL\") \r\n",
      "    b, = self.__cursor.fetchone()\r\n",
      "    blob_data = b.read()\r\n",
      "    blob_md5 = md5(blob_data).hexdigest()\r\n",
      "    # data par is measured in hashes equality, what comes in must come out\r\n",
      "    assert binary_md5==blob_md5\r\n",
      "    self.__db.rollback() \r\n",
      "  \r\n",
      "  def bfile(self):\r\n",
      "    # to insert bfile we need to use the bfilename function\r\n",
      "    self.__cursor.execute(\"INSERT INTO lobs(bf) VALUES(BFILENAME(:1, :2))\",\r\n",
      "      [\"LOB_DIR\", \"example.txt\"])\r\n",
      "    self.__cursor.execute(\"SELECT bf FROM v_lobs WHERE bf IS NOT NULL\") \r\n",
      "    # selecting is as simple as reading other types of large objects\r\n",
      "    bf, = self.__cursor.fetchone()\r\n",
      "    bfile_data = bf.read()\r\n",
      "    assert bfile_data\r\n",
      "    self.__db.rollback() \r\n",
      "  \r\n",
      "if __name__ == \"__main__\":\r\n",
      "  with LobExample() as eg:\r\n",
      "    eg.clob()\r\n",
      "    eg.nclob()\r\n",
      "    eg.blob()\r\n",
      "    eg.bfile()\r\n",
      "\r\n",
      "The file contains UTF-8 characters so the first line contains Python's source code encoding declaration (PEP-0263). To ensure the data is transmitted with that encoding to the database the environment variable NLS_LANG should be set to \".AL32UTF8\". This instructs the Oracle Client libraries which character set should be used. This variable should be set before the Oracle Client initializes its internal data structures, which isn't guaranteed to occur at any specific point of the program. For safety, it is best to set it in the shell environment that invokes the program. Some other explanations and comments are included in the source code. \r\n",
      "\r\n",
      "A couple of things to note here. When it comes to the NCLOB example, unicode_data cannot be used as a bind variable because if it's greater than 4000 characters the \"ValueError: unicode data too large\" exception is raised. The similar problem would occur in BLOB example. If we didn't use binary_var, then the \"DatabaseError: ORA-01465: invalid hex number\" exception would be raised because the content of the bind must be declared explicitly.\r\n",
      "\r\n",
      "Calling stored procedures with LOB parameters (either IN or OUT) requires using cx_Oracle's Variable objects as well but this is a subject for another part of the series.\r\n",
      "\r\n",
      "source=https://www.oracle.com/technetwork/articles/dsl/prez-transactions-lobs-089563.html\r\n",
      "\n"
     ]
    }
   ],
   "source": [
    "# decode the bytes object to produce a string:\n",
    "print(bfile_data.decode(\"utf-8\"))"
   ]
  },
  {
   "cell_type": "markdown",
   "metadata": {},
   "source": [
    "### Stored Procedure\n",
    "\n",
    "[Mastering Oracle+Python, Part 5: Stored Procedures, Programming Python\n",
    "by Przemyslaw Piotrowski](https://www.oracle.com/technetwork/articles/prez-stored-proc-084100.html)"
   ]
  },
  {
   "cell_type": "code",
   "execution_count": 18,
   "metadata": {},
   "outputs": [],
   "source": [
    "xe_conn_str = \"hr/hr@//localhost:1521/XE\""
   ]
  },
  {
   "cell_type": "code",
   "execution_count": null,
   "metadata": {},
   "outputs": [],
   "source": [
    "db = cx_Oracle.connect(xe_conn_str)\n",
    "cursor = db.cursor()"
   ]
  },
  {
   "cell_type": "code",
   "execution_count": 19,
   "metadata": {},
   "outputs": [],
   "source": [
    "lst = cursor.arrayvar(cx_Oracle.NUMBER, [1, 2, 3])\n",
    "\n",
    "sum_result = cursor.callfunc(\"pkg_arrayvar.sum\", cx_Oracle.NUMBER, [lst])\n",
    "assert sum_result==6"
   ]
  },
  {
   "cell_type": "code",
   "execution_count": 20,
   "metadata": {},
   "outputs": [
    {
     "data": {
      "text/plain": [
       "6.0"
      ]
     },
     "execution_count": 20,
     "metadata": {},
     "output_type": "execute_result"
    }
   ],
   "source": [
    "sum_result"
   ]
  },
  {
   "cell_type": "code",
   "execution_count": 24,
   "metadata": {},
   "outputs": [],
   "source": [
    "lst2 = list(range(10))"
   ]
  },
  {
   "cell_type": "code",
   "execution_count": 25,
   "metadata": {},
   "outputs": [
    {
     "data": {
      "text/plain": [
       "45.0"
      ]
     },
     "execution_count": 25,
     "metadata": {},
     "output_type": "execute_result"
    }
   ],
   "source": [
    "sum_result = cursor.callfunc(\"pkg_arrayvar.sum\", cx_Oracle.NUMBER, [lst2])\n",
    "sum_result"
   ]
  },
  {
   "cell_type": "code",
   "execution_count": 17,
   "metadata": {},
   "outputs": [],
   "source": [
    "class HR:\n",
    "  def __enter__(self):\n",
    "    self.__db = cx_Oracle.Connection(\"hr/hr@//localhost:1521/XE\")\n",
    "    self.__cursor = self.__db.cursor()\n",
    "    return self \n",
    "  \n",
    "  def __exit__(self):\n",
    "    self.__cursor.close()\n",
    "    self.__db.close()\n",
    " \n",
    "  def add_department(self, p_department_name, p_manager_id, p_location_id):\n",
    "    l_department_id = self.__cursor.var(cx_Oracle.NUMBER)\n",
    "    self.__cursor.callproc(\"PKG_HR.ADD_DEPARTMENT\",\n",
    "      [l_department_id, p_department_name, p_manager_id, p_location_id]) \n",
    "  \n",
    "    # there are no OUT parameters in Python, regular return here\n",
    "    return l_department_id    \n",
    "  \n",
    "  def get_employee_count(self, p_department_id):\n",
    "    l_count = self.__cursor.callfunc(\"PKG_HR.GET_EMPLOYEE_COUNT\",\n",
    "      cx_Oracle.NUMBER, [p_department_id]) \n",
    "    return l_count \n",
    "  \n",
    "  def find_employees(self, p_query):\n",
    "    # as it comes to all complex types we need to tell Oracle Client\n",
    "    # what type to expect from an OUT parameter\n",
    "    l_cur = self.__cursor.var(cx_Oracle.CURSOR)\n",
    "    l_query, l_emp = self.__cursor.callproc(\"PKG_HR.FIND_EMPLOYEES\", [p_query, l_cur]) \n",
    "    return list(l_emp)\n",
    "\n",
    "  def find_employee_names(self, p_query):\n",
    "    # as it comes to all complex types we need to tell Oracle Client\n",
    "    # what type to expect from an OUT parameter\n",
    "    l_cur = self.__cursor.var(cx_Oracle.CURSOR)\n",
    "    l_query, l_emp = self.__cursor.callproc(\"PKG_HR.FIND_EMPLOYEE_NAMES\", [p_query, l_cur]) \n",
    "    return list(l_emp)"
   ]
  },
  {
   "cell_type": "code",
   "execution_count": 18,
   "metadata": {},
   "outputs": [],
   "source": [
    "hr1 = HR()\n",
    "hr1=hr1.__enter__()"
   ]
  },
  {
   "cell_type": "code",
   "execution_count": 19,
   "metadata": {},
   "outputs": [
    {
     "data": {
      "text/plain": [
       "6.0"
      ]
     },
     "execution_count": 19,
     "metadata": {},
     "output_type": "execute_result"
    }
   ],
   "source": [
    "hr1.get_employee_count(100)"
   ]
  },
  {
   "cell_type": "code",
   "execution_count": 20,
   "metadata": {},
   "outputs": [],
   "source": [
    "df = hr1.find_employees(\"K\")"
   ]
  },
  {
   "cell_type": "code",
   "execution_count": 21,
   "metadata": {},
   "outputs": [
    {
     "data": {
      "text/plain": [
       "23"
      ]
     },
     "execution_count": 21,
     "metadata": {},
     "output_type": "execute_result"
    }
   ],
   "source": [
    "len(df)"
   ]
  },
  {
   "cell_type": "code",
   "execution_count": 14,
   "metadata": {},
   "outputs": [
    {
     "data": {
      "text/plain": [
       "(100,\n",
       " 'Steven',\n",
       " 'King',\n",
       " 'SKING',\n",
       " '515.123.4567',\n",
       " datetime.datetime(2003, 6, 17, 0, 0),\n",
       " 'AD_PRES',\n",
       " 24000.0,\n",
       " None,\n",
       " None,\n",
       " 90)"
      ]
     },
     "execution_count": 14,
     "metadata": {},
     "output_type": "execute_result"
    }
   ],
   "source": [
    "df[0]"
   ]
  },
  {
   "cell_type": "code",
   "execution_count": 15,
   "metadata": {},
   "outputs": [],
   "source": [
    "# hr1.__exit__()"
   ]
  },
  {
   "cell_type": "code",
   "execution_count": 22,
   "metadata": {},
   "outputs": [],
   "source": [
    "df2 = hr1.find_employee_names(\"K\")"
   ]
  },
  {
   "cell_type": "code",
   "execution_count": 23,
   "metadata": {},
   "outputs": [
    {
     "data": {
      "text/plain": [
       "[('Steven', 'King', 'SKING', 100),\n",
       " ('Neena', 'Kochhar', 'NKOCHHAR', 101),\n",
       " ('Alexander', 'Khoo', 'AKHOO', 115),\n",
       " ('Karen', 'Colmenares', 'KCOLMENA', 119),\n",
       " ('Payam', 'Kaufling', 'PKAUFLIN', 122),\n",
       " ('Kevin', 'Mourgos', 'KMOURGOS', 124),\n",
       " ('Irene', 'Mikkilineni', 'IMIKKILI', 126),\n",
       " ('Steven', 'Markle', 'SMARKLE', 128),\n",
       " ('Mozhe', 'Atkinson', 'MATKINSO', 130),\n",
       " ('Ki', 'Gee', 'KGEE', 135),\n",
       " ('Hazel', 'Philtanker', 'HPHILTAN', 136),\n",
       " ('Renske', 'Ladwig', 'RLADWIG', 137),\n",
       " ('Karen', 'Partners', 'KPARTNER', 146),\n",
       " ('Eleni', 'Zlotkey', 'EZLOTKEY', 149),\n",
       " ('Peter', 'Tucker', 'PTUCKER', 150),\n",
       " ('Janette', 'King', 'JKING', 156),\n",
       " ('Patrick', 'Sully', 'PSULLY', 157),\n",
       " ('Sundita', 'Kumar', 'SKUMAR', 173),\n",
       " ('Jack', 'Livingston', 'JLIVINGS', 177),\n",
       " ('Kimberely', 'Grant', 'KGRANT', 178),\n",
       " ('Kelly', 'Chung', 'KCHUNG', 188),\n",
       " ('Randall', 'Perkins', 'RPERKINS', 191),\n",
       " ('Kevin', 'Feeney', 'KFEENEY', 197)]"
      ]
     },
     "execution_count": 23,
     "metadata": {},
     "output_type": "execute_result"
    }
   ],
   "source": [
    "df2"
   ]
  },
  {
   "cell_type": "markdown",
   "metadata": {},
   "source": [
    "#### Group by\n",
    "\n",
    "GROUP BY Outside the Database (Functional Programming)"
   ]
  },
  {
   "cell_type": "code",
   "execution_count": 24,
   "metadata": {},
   "outputs": [],
   "source": [
    "import cx_Oracle\n",
    "import itertools\n",
    "from operator import itemgetter\n",
    "\n",
    "with cx_Oracle.connect(\"hr/hr@//localhost:1521/XE\") as db:\n",
    "  cursor = db.cursor()\n",
    "  # fetch all employee data into local variable, no aggregation here\n",
    "  employees = cursor.execute(\"select * from employees\").fetchall()\n",
    "\n",
    "D = {}\n",
    "# department_id is 11-th column\n",
    "for dept, emp in itertools.groupby(employees, itemgetter(10)):\n",
    "  D[dept] = len(list(emp))"
   ]
  },
  {
   "cell_type": "code",
   "execution_count": 25,
   "metadata": {},
   "outputs": [
    {
     "data": {
      "text/plain": [
       "{90: 3,\n",
       " 60: 5,\n",
       " 100: 6,\n",
       " 30: 6,\n",
       " 50: 20,\n",
       " 80: 1,\n",
       " None: 1,\n",
       " 10: 1,\n",
       " 20: 2,\n",
       " 40: 1,\n",
       " 70: 1,\n",
       " 110: 2}"
      ]
     },
     "execution_count": 25,
     "metadata": {},
     "output_type": "execute_result"
    }
   ],
   "source": [
    "D"
   ]
  },
  {
   "cell_type": "code",
   "execution_count": 28,
   "metadata": {},
   "outputs": [],
   "source": [
    "sql_str=\"\"\" \n",
    "    select job_id,count(*) from employees group by job_id\n",
    "\"\"\"\n",
    "\n",
    "df = pd.read_sql(sql_str, con=con)"
   ]
  },
  {
   "cell_type": "code",
   "execution_count": 29,
   "metadata": {},
   "outputs": [
    {
     "data": {
      "text/html": [
       "<div>\n",
       "<style scoped>\n",
       "    .dataframe tbody tr th:only-of-type {\n",
       "        vertical-align: middle;\n",
       "    }\n",
       "\n",
       "    .dataframe tbody tr th {\n",
       "        vertical-align: top;\n",
       "    }\n",
       "\n",
       "    .dataframe thead th {\n",
       "        text-align: right;\n",
       "    }\n",
       "</style>\n",
       "<table border=\"1\" class=\"dataframe\">\n",
       "  <thead>\n",
       "    <tr style=\"text-align: right;\">\n",
       "      <th></th>\n",
       "      <th>JOB_ID</th>\n",
       "      <th>COUNT(*)</th>\n",
       "    </tr>\n",
       "  </thead>\n",
       "  <tbody>\n",
       "    <tr>\n",
       "      <th>0</th>\n",
       "      <td>AC_ACCOUNT</td>\n",
       "      <td>1</td>\n",
       "    </tr>\n",
       "    <tr>\n",
       "      <th>1</th>\n",
       "      <td>AC_MGR</td>\n",
       "      <td>1</td>\n",
       "    </tr>\n",
       "    <tr>\n",
       "      <th>2</th>\n",
       "      <td>AD_ASST</td>\n",
       "      <td>1</td>\n",
       "    </tr>\n",
       "    <tr>\n",
       "      <th>3</th>\n",
       "      <td>AD_PRES</td>\n",
       "      <td>1</td>\n",
       "    </tr>\n",
       "    <tr>\n",
       "      <th>4</th>\n",
       "      <td>AD_VP</td>\n",
       "      <td>2</td>\n",
       "    </tr>\n",
       "    <tr>\n",
       "      <th>5</th>\n",
       "      <td>FI_ACCOUNT</td>\n",
       "      <td>5</td>\n",
       "    </tr>\n",
       "    <tr>\n",
       "      <th>6</th>\n",
       "      <td>FI_MGR</td>\n",
       "      <td>1</td>\n",
       "    </tr>\n",
       "    <tr>\n",
       "      <th>7</th>\n",
       "      <td>HR_REP</td>\n",
       "      <td>1</td>\n",
       "    </tr>\n",
       "    <tr>\n",
       "      <th>8</th>\n",
       "      <td>IT_PROG</td>\n",
       "      <td>5</td>\n",
       "    </tr>\n",
       "    <tr>\n",
       "      <th>9</th>\n",
       "      <td>MK_MAN</td>\n",
       "      <td>1</td>\n",
       "    </tr>\n",
       "    <tr>\n",
       "      <th>10</th>\n",
       "      <td>MK_REP</td>\n",
       "      <td>1</td>\n",
       "    </tr>\n",
       "    <tr>\n",
       "      <th>11</th>\n",
       "      <td>PR_REP</td>\n",
       "      <td>1</td>\n",
       "    </tr>\n",
       "    <tr>\n",
       "      <th>12</th>\n",
       "      <td>PU_CLERK</td>\n",
       "      <td>5</td>\n",
       "    </tr>\n",
       "    <tr>\n",
       "      <th>13</th>\n",
       "      <td>PU_MAN</td>\n",
       "      <td>1</td>\n",
       "    </tr>\n",
       "    <tr>\n",
       "      <th>14</th>\n",
       "      <td>SA_MAN</td>\n",
       "      <td>5</td>\n",
       "    </tr>\n",
       "    <tr>\n",
       "      <th>15</th>\n",
       "      <td>SA_REP</td>\n",
       "      <td>30</td>\n",
       "    </tr>\n",
       "    <tr>\n",
       "      <th>16</th>\n",
       "      <td>SH_CLERK</td>\n",
       "      <td>20</td>\n",
       "    </tr>\n",
       "    <tr>\n",
       "      <th>17</th>\n",
       "      <td>ST_CLERK</td>\n",
       "      <td>20</td>\n",
       "    </tr>\n",
       "    <tr>\n",
       "      <th>18</th>\n",
       "      <td>ST_MAN</td>\n",
       "      <td>5</td>\n",
       "    </tr>\n",
       "  </tbody>\n",
       "</table>\n",
       "</div>"
      ],
      "text/plain": [
       "        JOB_ID  COUNT(*)\n",
       "0   AC_ACCOUNT         1\n",
       "1       AC_MGR         1\n",
       "2      AD_ASST         1\n",
       "3      AD_PRES         1\n",
       "4        AD_VP         2\n",
       "5   FI_ACCOUNT         5\n",
       "6       FI_MGR         1\n",
       "7       HR_REP         1\n",
       "8      IT_PROG         5\n",
       "9       MK_MAN         1\n",
       "10      MK_REP         1\n",
       "11      PR_REP         1\n",
       "12    PU_CLERK         5\n",
       "13      PU_MAN         1\n",
       "14      SA_MAN         5\n",
       "15      SA_REP        30\n",
       "16    SH_CLERK        20\n",
       "17    ST_CLERK        20\n",
       "18      ST_MAN         5"
      ]
     },
     "execution_count": 29,
     "metadata": {},
     "output_type": "execute_result"
    }
   ],
   "source": [
    "df"
   ]
  },
  {
   "cell_type": "code",
   "execution_count": 26,
   "metadata": {},
   "outputs": [],
   "source": [
    "jobs = {}\n",
    "# job_id is 6-th column\n",
    "for job, emp in itertools.groupby(employees, itemgetter(6)):\n",
    "  jobs[job] = len(list(emp))"
   ]
  },
  {
   "cell_type": "code",
   "execution_count": 27,
   "metadata": {},
   "outputs": [
    {
     "data": {
      "text/plain": [
       "{'AD_PRES': 1,\n",
       " 'AD_VP': 2,\n",
       " 'IT_PROG': 5,\n",
       " 'FI_MGR': 1,\n",
       " 'FI_ACCOUNT': 5,\n",
       " 'PU_MAN': 1,\n",
       " 'PU_CLERK': 5,\n",
       " 'ST_MAN': 5,\n",
       " 'ST_CLERK': 20,\n",
       " 'SA_MAN': 5,\n",
       " 'SA_REP': 30,\n",
       " 'SH_CLERK': 20,\n",
       " 'AD_ASST': 1,\n",
       " 'MK_MAN': 1,\n",
       " 'MK_REP': 1,\n",
       " 'HR_REP': 1,\n",
       " 'PR_REP': 1,\n",
       " 'AC_MGR': 1,\n",
       " 'AC_ACCOUNT': 1}"
      ]
     },
     "execution_count": 27,
     "metadata": {},
     "output_type": "execute_result"
    }
   ],
   "source": [
    "jobs"
   ]
  },
  {
   "cell_type": "markdown",
   "metadata": {},
   "source": [
    "### Install APEX on Oracle XE\n",
    "\n",
    "http://www.oracle.com/technetwork/developer-tools/apex/application-express/upgrade-apex-for-xe-154969.html\n",
    "\n",
    "Oracle Database 11g Express Edition Release 11.2.0.2.0 - 64bit Production"
   ]
  },
  {
   "cell_type": "markdown",
   "metadata": {},
   "source": [
    "1) download apex_18.1_en.zip\n",
    "\n",
    "unzip to APEX_HOME=C:\\oracle\n",
    "\n",
    "cd c:\\oracle\\apex\n",
    "\n",
    "2) start sqlplus:\n",
    "\n",
    "sqlplus /nolog\n",
    "\n",
    "SQL> CONNECT SYS as SYSDBA\n",
    "\n",
    "Enter Password:\toracle101\n",
    "\n",
    "3) Install Application Express:\n",
    "\n",
    "SQL> @apexins SYSAUX SYSAUX TEMP /i/\n",
    "\n",
    "Completed Installation in 00:06:06.35\n"
   ]
  },
  {
   "cell_type": "markdown",
   "metadata": {},
   "source": [
    "4) Log back into SQL*Plus (as above) and configure the Embedded PL/SQL Gateway (EPG):\n",
    "\n",
    "SQL> @apex_epg_config.sql C:\\oracle"
   ]
  },
  {
   "cell_type": "markdown",
   "metadata": {},
   "source": [
    "5) Change Application Express password:\n",
    "\n",
    "SQL> @apxchpwd\n",
    "\n",
    "email = wen.gong@oracle.com\n",
    "\n",
    "Enter password for Application Express ADMIN account => \"Oracle&101\""
   ]
  },
  {
   "cell_type": "markdown",
   "metadata": {},
   "source": [
    "6) login to apex via web browser to URL=http://localhost:8080/apex/apex_admin\n",
    "\n",
    "user/pwd = ADMIN/Oracle&101"
   ]
  },
  {
   "cell_type": "markdown",
   "metadata": {},
   "source": [
    "\n"
   ]
  },
  {
   "cell_type": "markdown",
   "metadata": {},
   "source": [
    "### hash"
   ]
  },
  {
   "cell_type": "code",
   "execution_count": 111,
   "metadata": {},
   "outputs": [
    {
     "data": {
      "text/plain": [
       "'2202ac9ea4be0e2fc737727ca898651e866f17af983bbf806860df76a542d725'"
      ]
     },
     "execution_count": 111,
     "metadata": {},
     "output_type": "execute_result"
    }
   ],
   "source": [
    "import random\n",
    "import hashlib\n",
    "hashlib.sha256(str(random.getrandbits(256)).encode('utf-8')).hexdigest()"
   ]
  },
  {
   "cell_type": "code",
   "execution_count": null,
   "metadata": {},
   "outputs": [],
   "source": []
  }
 ],
 "metadata": {
  "kernelspec": {
   "display_name": "Python 3",
   "language": "python",
   "name": "python3"
  },
  "language_info": {
   "codemirror_mode": {
    "name": "ipython",
    "version": 3
   },
   "file_extension": ".py",
   "mimetype": "text/x-python",
   "name": "python",
   "nbconvert_exporter": "python",
   "pygments_lexer": "ipython3",
   "version": "3.6.5"
  }
 },
 "nbformat": 4,
 "nbformat_minor": 2
}
