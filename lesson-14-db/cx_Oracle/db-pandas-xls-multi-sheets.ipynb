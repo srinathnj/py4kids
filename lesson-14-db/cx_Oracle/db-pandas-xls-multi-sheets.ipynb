{
 "cells": [
  {
   "cell_type": "code",
   "execution_count": 12,
   "metadata": {},
   "outputs": [],
   "source": [
    "import cx_Oracle\n",
    "import pandas as pd\n",
    "from pandas import ExcelWriter"
   ]
  },
  {
   "cell_type": "code",
   "execution_count": 13,
   "metadata": {},
   "outputs": [],
   "source": [
    "v_batch_id     = 180912213000\n",
    "\n",
    "filename_input = 'account.xlsx'\n",
    "filename_output = 'account-gsi_partynum.xlsx'"
   ]
  },
  {
   "cell_type": "code",
   "execution_count": 15,
   "metadata": {},
   "outputs": [],
   "source": [
    "# CRMAT connection\n",
    "user_name = \"username\"\n",
    "pwd = \"password\"\n",
    "hostname = \"localhost\"\n",
    "port = \"1553\"\n",
    "service_name = \"xe\"\n",
    "conn_str = \"{0}/{1}@{2}:{3}/{4}\".format(user_name, pwd, hostname, port, service_name)"
   ]
  },
  {
   "cell_type": "code",
   "execution_count": 17,
   "metadata": {},
   "outputs": [],
   "source": [
    "# open connection\n",
    "conn = cx_Oracle.connect(conn_str)\n",
    "\n",
    "# create cursor\n",
    "cursor = cx_Oracle.Cursor(conn)"
   ]
  },
  {
   "cell_type": "code",
   "execution_count": 18,
   "metadata": {},
   "outputs": [],
   "source": [
    "reader = pd.ExcelFile(filename_input)\n",
    "writer = ExcelWriter(filename_output)\n",
    "\n",
    "for sheet in reader.sheet_names:\n",
    "\taccounts = reader.parse(sheet)\n",
    "\taccount_regid = accounts['Registry Id']\n",
    "\tv_process_type = 'Enrich-%s' % sheet\n",
    "\t\n",
    "\trows = []\n",
    "\tfor x in account_regid.values:\n",
    "\t\trows.append( ( '%s' % x, v_batch_id, v_process_type ) )\n",
    "\n",
    "\t# populate this sheet\n",
    "\tinsert_stmt = \"\"\"\n",
    "\t\tinsert into MIS_STALE_ACCOUNTS (party_number,batch_id,process_type) \n",
    "\t\t\tvalues (:1, :2, :3)\n",
    "\t\t\"\"\"\n",
    "\t\t\n",
    "\tcursor.executemany(insert_stmt, rows)\n",
    "\tconn.commit()\n",
    "\t\n",
    "\t# run below query in SQL Developer:\n",
    "\tupdate_stmt = \"\"\"\n",
    "\t\tupdate mis_stale_accounts bg \n",
    "\t\t\tset (party_id,GSI_PARTY_NUM) = (\n",
    "\t\t\t\tselect OPF.party_id, OPF.extn_attribute_char001\n",
    "\t\t\t\tfrom HZ_ORGANIZATION_PROFILES opf\n",
    "\t\t\t\twhere opf.party_number = bg.party_number\n",
    "\t\t\t) where gsi_party_num is null and batch_id=%d and process_type='%s'\n",
    "\t\t\"\"\" % (v_batch_id, v_process_type)\n",
    "\t\t\n",
    "\tcursor.execute(update_stmt)\n",
    "\tconn.commit()\n",
    "\t\n",
    "\tselect_stmt = \"\"\"\n",
    "\t\tselect bg.party_number,bg.gsi_party_num from mis_stale_accounts bg \n",
    "\t\t\twhere batch_id=%d and process_type='%s'\n",
    "\t\"\"\" % (v_batch_id, v_process_type)\n",
    "\t\n",
    "\tcursor.execute(select_stmt)\n",
    "\trowset = cursor.fetchall() \n",
    "\t\n",
    "\tgsi_num = pd.DataFrame(columns=['Registry Id', 'GSI PartyNum'], data=rowset)\n",
    "\t\n",
    "\taccounts2 = pd.merge(accounts, gsi_num, on='Registry Id')\n",
    "\t\n",
    "\taccounts2.to_excel(writer, sheet_name=sheet, header=True, index=False)\n",
    "\n",
    "\n",
    "writer.save()\n",
    "\n",
    "conn.commit()\n",
    "cursor.close()\n",
    "conn.close()"
   ]
  },
  {
   "cell_type": "code",
   "execution_count": null,
   "metadata": {},
   "outputs": [],
   "source": []
  }
 ],
 "metadata": {
  "kernelspec": {
   "display_name": "Python 3",
   "language": "python",
   "name": "python3"
  },
  "language_info": {
   "codemirror_mode": {
    "name": "ipython",
    "version": 3
   },
   "file_extension": ".py",
   "mimetype": "text/x-python",
   "name": "python",
   "nbconvert_exporter": "python",
   "pygments_lexer": "ipython3",
   "version": "3.8.5"
  }
 },
 "nbformat": 4,
 "nbformat_minor": 2
}
