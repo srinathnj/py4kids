{
 "cells": [
  {
   "cell_type": "markdown",
   "metadata": {},
   "source": [
    "- https://nicolewhite.github.io/neo4j-jupyter/hello-world.html\n",
    "- https://medium.com/@technologydata25/connect-neo4j-to-jupyter-notebook-c178f716d6d5\n",
    "\n",
    "```\n",
    "pip install testresources py2neo ipython-cypher pandas networkx igraph jgraph\n",
    "```"
   ]
  },
  {
   "cell_type": "code",
   "execution_count": 1,
   "metadata": {},
   "outputs": [],
   "source": [
    "from py2neo import Graph,Node,Relationship"
   ]
  },
  {
   "cell_type": "code",
   "execution_count": 2,
   "metadata": {},
   "outputs": [],
   "source": [
    "url = 'http://localhost:7474/db/data'\n",
    "username = 'neo4j'\n",
    "password = 'graphalgo'\n",
    "\n",
    "graph = Graph(url, auth=(username, password))"
   ]
  },
  {
   "cell_type": "code",
   "execution_count": 4,
   "metadata": {},
   "outputs": [
    {
     "ename": "SyntaxError",
     "evalue": "invalid character in identifier (<ipython-input-4-b3d069bff18d>, line 2)",
     "output_type": "error",
     "traceback": [
      "\u001b[0;36m  File \u001b[0;32m\"<ipython-input-4-b3d069bff18d>\"\u001b[0;36m, line \u001b[0;32m2\u001b[0m\n\u001b[0;31m    number_of_person_nodes=”MATCH(p:Person) RETURN Count(p)”\u001b[0m\n\u001b[0m                                ^\u001b[0m\n\u001b[0;31mSyntaxError\u001b[0m\u001b[0;31m:\u001b[0m invalid character in identifier\n"
     ]
    }
   ],
   "source": [
    "#Cypher Query\n",
    "number_of_person_nodes=”MATCH(p:Person) RETURN Count(p)”\n",
    "number_of_movie_nodes=”MATCH(m:Movie) RETURN Count(m)”\n",
    "#Evaluate the Cypher query\n",
    "result_persons=graph.evaluate(number_of_person_nodes)\n",
    "result_movies=graph.evaluate(number_of_movie_nodes)\n",
    "#Print the result\n",
    "print(f”No of person node is {result_persons} & No of movie node is {result_movies}”)"
   ]
  },
  {
   "cell_type": "code",
   "execution_count": 5,
   "metadata": {},
   "outputs": [],
   "source": [
    "from py2neo import Node\n",
    "\n",
    "nicole = Node(\"Person\", name=\"Nicole\", age=24)\n",
    "drew = Node(\"Person\", name=\"Drew\", age=20)\n",
    "\n",
    "mtdew = Node(\"Drink\", name=\"Mountain Dew\", calories=9000)\n",
    "cokezero = Node(\"Drink\", name=\"Coke Zero\", calories=0)\n",
    "\n",
    "coke = Node(\"Manufacturer\", name=\"Coca Cola\")\n",
    "pepsi = Node(\"Manufacturer\", name=\"Pepsi\")\n",
    "\n",
    "graph.create(nicole | drew | mtdew | cokezero | coke | pepsi)"
   ]
  },
  {
   "cell_type": "code",
   "execution_count": 6,
   "metadata": {},
   "outputs": [
    {
     "ename": "ModuleNotFoundError",
     "evalue": "No module named 'scripts.vis'",
     "output_type": "error",
     "traceback": [
      "\u001b[0;31m---------------------------------------------------------------------------\u001b[0m",
      "\u001b[0;31mModuleNotFoundError\u001b[0m                       Traceback (most recent call last)",
      "\u001b[0;32m<ipython-input-6-67d2fa2a4dc8>\u001b[0m in \u001b[0;36m<module>\u001b[0;34m\u001b[0m\n\u001b[0;32m----> 1\u001b[0;31m \u001b[0;32mfrom\u001b[0m \u001b[0mscripts\u001b[0m\u001b[0;34m.\u001b[0m\u001b[0mvis\u001b[0m \u001b[0;32mimport\u001b[0m \u001b[0mdraw\u001b[0m\u001b[0;34m\u001b[0m\u001b[0;34m\u001b[0m\u001b[0m\n\u001b[0m\u001b[1;32m      2\u001b[0m \u001b[0;34m\u001b[0m\u001b[0m\n\u001b[1;32m      3\u001b[0m \u001b[0moptions\u001b[0m \u001b[0;34m=\u001b[0m \u001b[0;34m{\u001b[0m\u001b[0;34m\"Person\"\u001b[0m\u001b[0;34m:\u001b[0m \u001b[0;34m\"name\"\u001b[0m\u001b[0;34m,\u001b[0m \u001b[0;34m\"Drink\"\u001b[0m\u001b[0;34m:\u001b[0m \u001b[0;34m\"name\"\u001b[0m\u001b[0;34m,\u001b[0m \u001b[0;34m\"Manufacturer\"\u001b[0m\u001b[0;34m:\u001b[0m \u001b[0;34m\"name\"\u001b[0m\u001b[0;34m}\u001b[0m\u001b[0;34m\u001b[0m\u001b[0;34m\u001b[0m\u001b[0m\n\u001b[1;32m      4\u001b[0m \u001b[0mdraw\u001b[0m\u001b[0;34m(\u001b[0m\u001b[0mgraph\u001b[0m\u001b[0;34m,\u001b[0m \u001b[0moptions\u001b[0m\u001b[0;34m)\u001b[0m\u001b[0;34m\u001b[0m\u001b[0;34m\u001b[0m\u001b[0m\n",
      "\u001b[0;31mModuleNotFoundError\u001b[0m: No module named 'scripts.vis'"
     ]
    }
   ],
   "source": [
    "from scripts.vis import draw\n",
    "\n",
    "options = {\"Person\": \"name\", \"Drink\": \"name\", \"Manufacturer\": \"name\"}\n",
    "draw(graph, options)"
   ]
  },
  {
   "cell_type": "code",
   "execution_count": 9,
   "metadata": {},
   "outputs": [],
   "source": [
    "query = \"\"\"\n",
    "MATCH (p:Person)\n",
    "RETURN p\n",
    "\"\"\"\n",
    "\n",
    "data = graph.run(query)"
   ]
  },
  {
   "cell_type": "code",
   "execution_count": 22,
   "metadata": {},
   "outputs": [],
   "source": [
    "query = \"\"\"\n",
    "MATCH (p:Person)\n",
    "RETURN p.name\n",
    "\"\"\"\n",
    "\n",
    "data = graph.run(query)"
   ]
  },
  {
   "cell_type": "code",
   "execution_count": 23,
   "metadata": {},
   "outputs": [
    {
     "name": "stdout",
     "output_type": "stream",
     "text": [
      "'Keanu Reeves'\n",
      "'Carrie-Anne Moss'\n",
      "'Laurence Fishburne'\n",
      "'Hugo Weaving'\n",
      "'Lilly Wachowski'\n",
      "'Lana Wachowski'\n",
      "'Joel Silver'\n",
      "'Emil Eifrem'\n",
      "'Charlize Theron'\n",
      "'Al Pacino'\n",
      "'Taylor Hackford'\n",
      "'Tom Cruise'\n",
      "'Jack Nicholson'\n",
      "'Demi Moore'\n",
      "'Kevin Bacon'\n",
      "'Kiefer Sutherland'\n",
      "'Noah Wyle'\n",
      "'Cuba Gooding Jr.'\n",
      "'Kevin Pollak'\n",
      "'J.T. Walsh'\n",
      "'James Marshall'\n",
      "'Christopher Guest'\n",
      "'Rob Reiner'\n",
      "'Aaron Sorkin'\n",
      "'Kelly McGillis'\n",
      "'Val Kilmer'\n",
      "'Anthony Edwards'\n",
      "'Tom Skerritt'\n",
      "'Meg Ryan'\n",
      "'Tony Scott'\n",
      "'Jim Cash'\n",
      "'Renee Zellweger'\n",
      "'Kelly Preston'\n",
      "\"Jerry O'Connell\"\n",
      "'Jay Mohr'\n",
      "'Bonnie Hunt'\n",
      "'Regina King'\n",
      "'Jonathan Lipnicki'\n",
      "'Cameron Crowe'\n",
      "'River Phoenix'\n",
      "'Corey Feldman'\n",
      "'Wil Wheaton'\n",
      "'John Cusack'\n",
      "'Marshall Bell'\n",
      "'Helen Hunt'\n",
      "'Greg Kinnear'\n",
      "'James L. Brooks'\n",
      "'Annabella Sciorra'\n",
      "'Max von Sydow'\n",
      "'Werner Herzog'\n",
      "'Robin Williams'\n",
      "'Vincent Ward'\n",
      "'Ethan Hawke'\n",
      "'Rick Yune'\n",
      "'James Cromwell'\n",
      "'Scott Hicks'\n",
      "'Parker Posey'\n",
      "'Dave Chappelle'\n",
      "'Steve Zahn'\n",
      "'Tom Hanks'\n",
      "'Nora Ephron'\n",
      "'Rita Wilson'\n",
      "'Bill Pullman'\n",
      "'Victor Garber'\n",
      "\"Rosie O'Donnell\"\n",
      "'John Patrick Stanley'\n",
      "'Nathan Lane'\n",
      "'Billy Crystal'\n",
      "'Carrie Fisher'\n",
      "'Bruno Kirby'\n",
      "'Liv Tyler'\n",
      "'Brooke Langton'\n",
      "'Gene Hackman'\n",
      "'Orlando Jones'\n",
      "'Howard Deutch'\n",
      "'Christian Bale'\n",
      "'Zach Grenier'\n",
      "'Mike Nichols'\n",
      "'Richard Harris'\n",
      "'Clint Eastwood'\n",
      "'Takeshi Kitano'\n",
      "'Dina Meyer'\n",
      "'Ice-T'\n",
      "'Robert Longo'\n",
      "'Halle Berry'\n",
      "'Jim Broadbent'\n",
      "'Tom Tykwer'\n",
      "'David Mitchell'\n",
      "'Stefan Arndt'\n",
      "'Ian McKellen'\n",
      "'Audrey Tautou'\n",
      "'Paul Bettany'\n",
      "'Ron Howard'\n",
      "'Natalie Portman'\n",
      "'Stephen Rea'\n",
      "'John Hurt'\n",
      "'Ben Miles'\n",
      "'Emile Hirsch'\n",
      "'John Goodman'\n",
      "'Susan Sarandon'\n",
      "'Matthew Fox'\n",
      "'Christina Ricci'\n",
      "'Rain'\n",
      "'Naomie Harris'\n",
      "'Michael Clarke Duncan'\n",
      "'David Morse'\n",
      "'Sam Rockwell'\n",
      "'Gary Sinise'\n",
      "'Patricia Clarkson'\n",
      "'Frank Darabont'\n",
      "'Frank Langella'\n",
      "'Michael Sheen'\n",
      "'Oliver Platt'\n",
      "'Danny DeVito'\n",
      "'John C. Reilly'\n",
      "'Ed Harris'\n",
      "'Bill Paxton'\n",
      "'Philip Seymour Hoffman'\n",
      "'Jan de Bont'\n",
      "'Robert Zemeckis'\n",
      "'Milos Forman'\n",
      "'Diane Keaton'\n",
      "'Nancy Meyers'\n",
      "'Chris Columbus'\n",
      "'Julia Roberts'\n",
      "'Madonna'\n",
      "'Geena Davis'\n",
      "'Lori Petty'\n",
      "'Penny Marshall'\n",
      "'Paul Blythe'\n",
      "'Angela Scope'\n",
      "'Jessica Thompson'\n",
      "'James Thompson'\n",
      "'Nicole'\n",
      "'Drew'\n",
      "'Nicole'\n",
      "'Drew'\n",
      "'Drew'\n",
      "'Nicole'\n",
      "'Nicole'\n",
      "'Drew'\n"
     ]
    }
   ],
   "source": [
    "for d in data:\n",
    "    print(d)"
   ]
  },
  {
   "cell_type": "code",
   "execution_count": 13,
   "metadata": {},
   "outputs": [
    {
     "data": {
      "text/plain": [
       "py2neo.database.work.Cursor"
      ]
     },
     "execution_count": 13,
     "metadata": {},
     "output_type": "execute_result"
    }
   ],
   "source": [
    "type(data)"
   ]
  },
  {
   "cell_type": "code",
   "execution_count": 16,
   "metadata": {},
   "outputs": [
    {
     "ename": "AttributeError",
     "evalue": "'Cursor' object has no attribute 'get_dataframe'",
     "output_type": "error",
     "traceback": [
      "\u001b[0;31m---------------------------------------------------------------------------\u001b[0m",
      "\u001b[0;31mAttributeError\u001b[0m                            Traceback (most recent call last)",
      "\u001b[0;32m<ipython-input-16-7a4502c7b540>\u001b[0m in \u001b[0;36m<module>\u001b[0;34m\u001b[0m\n\u001b[0;32m----> 1\u001b[0;31m \u001b[0mdf\u001b[0m \u001b[0;34m=\u001b[0m \u001b[0mdata\u001b[0m\u001b[0;34m.\u001b[0m\u001b[0mget_dataframe\u001b[0m\u001b[0;34m(\u001b[0m\u001b[0;34m)\u001b[0m\u001b[0;34m\u001b[0m\u001b[0;34m\u001b[0m\u001b[0m\n\u001b[0m",
      "\u001b[0;31mAttributeError\u001b[0m: 'Cursor' object has no attribute 'get_dataframe'"
     ]
    }
   ],
   "source": [
    "df = data.get_dataframe()"
   ]
  },
  {
   "cell_type": "code",
   "execution_count": 11,
   "metadata": {},
   "outputs": [
    {
     "name": "stdout",
     "output_type": "stream",
     "text": [
      "{'born': 1964, 'name': 'Keanu Reeves'}\n",
      "{'born': 1967, 'name': 'Carrie-Anne Moss'}\n",
      "{'born': 1961, 'name': 'Laurence Fishburne'}\n",
      "Node('Person', born=1960, name='Hugo Weaving')\n",
      "Node('Person', born=1967, name='Lilly Wachowski')\n",
      "Node('Person', born=1965, name='Lana Wachowski')\n",
      "Node('Person', born=1952, name='Joel Silver')\n",
      "Node('Person', born=1978, name='Emil Eifrem')\n",
      "Node('Person', born=1975, name='Charlize Theron')\n",
      "Node('Person', born=1940, name='Al Pacino')\n",
      "Node('Person', born=1944, name='Taylor Hackford')\n",
      "Node('Person', born=1962, name='Tom Cruise')\n",
      "Node('Person', born=1937, name='Jack Nicholson')\n",
      "Node('Person', born=1962, name='Demi Moore')\n",
      "Node('Person', born=1958, name='Kevin Bacon')\n",
      "Node('Person', born=1966, name='Kiefer Sutherland')\n",
      "Node('Person', born=1971, name='Noah Wyle')\n",
      "Node('Person', born=1968, name='Cuba Gooding Jr.')\n",
      "Node('Person', born=1957, name='Kevin Pollak')\n",
      "Node('Person', born=1943, name='J.T. Walsh')\n",
      "Node('Person', born=1967, name='James Marshall')\n",
      "Node('Person', born=1948, name='Christopher Guest')\n",
      "Node('Person', born=1947, name='Rob Reiner')\n",
      "Node('Person', born=1961, name='Aaron Sorkin')\n",
      "Node('Person', born=1957, name='Kelly McGillis')\n",
      "Node('Person', born=1959, name='Val Kilmer')\n",
      "Node('Person', born=1962, name='Anthony Edwards')\n",
      "Node('Person', born=1933, name='Tom Skerritt')\n",
      "Node('Person', born=1961, name='Meg Ryan')\n",
      "Node('Person', born=1944, name='Tony Scott')\n",
      "Node('Person', born=1941, name='Jim Cash')\n",
      "Node('Person', born=1969, name='Renee Zellweger')\n",
      "Node('Person', born=1962, name='Kelly Preston')\n",
      "Node('Person', born=1974, name=\"Jerry O'Connell\")\n",
      "Node('Person', born=1970, name='Jay Mohr')\n",
      "Node('Person', born=1961, name='Bonnie Hunt')\n",
      "Node('Person', born=1971, name='Regina King')\n",
      "Node('Person', born=1996, name='Jonathan Lipnicki')\n",
      "Node('Person', born=1957, name='Cameron Crowe')\n",
      "Node('Person', born=1970, name='River Phoenix')\n",
      "Node('Person', born=1971, name='Corey Feldman')\n",
      "Node('Person', born=1972, name='Wil Wheaton')\n",
      "Node('Person', born=1966, name='John Cusack')\n",
      "Node('Person', born=1942, name='Marshall Bell')\n",
      "Node('Person', born=1963, name='Helen Hunt')\n",
      "Node('Person', born=1963, name='Greg Kinnear')\n",
      "Node('Person', born=1940, name='James L. Brooks')\n",
      "Node('Person', born=1960, name='Annabella Sciorra')\n",
      "Node('Person', born=1929, name='Max von Sydow')\n",
      "Node('Person', born=1942, name='Werner Herzog')\n",
      "Node('Person', born=1951, name='Robin Williams')\n",
      "Node('Person', born=1956, name='Vincent Ward')\n",
      "Node('Person', born=1970, name='Ethan Hawke')\n",
      "Node('Person', born=1971, name='Rick Yune')\n",
      "Node('Person', born=1940, name='James Cromwell')\n",
      "Node('Person', born=1953, name='Scott Hicks')\n",
      "Node('Person', born=1968, name='Parker Posey')\n",
      "Node('Person', born=1973, name='Dave Chappelle')\n",
      "Node('Person', born=1967, name='Steve Zahn')\n",
      "Node('Person', born=1956, name='Tom Hanks')\n",
      "Node('Person', born=1941, name='Nora Ephron')\n",
      "Node('Person', born=1956, name='Rita Wilson')\n",
      "Node('Person', born=1953, name='Bill Pullman')\n",
      "Node('Person', born=1949, name='Victor Garber')\n",
      "Node('Person', born=1962, name=\"Rosie O'Donnell\")\n",
      "Node('Person', born=1950, name='John Patrick Stanley')\n",
      "Node('Person', born=1956, name='Nathan Lane')\n",
      "Node('Person', born=1948, name='Billy Crystal')\n",
      "Node('Person', born=1956, name='Carrie Fisher')\n",
      "Node('Person', born=1949, name='Bruno Kirby')\n",
      "Node('Person', born=1977, name='Liv Tyler')\n",
      "Node('Person', born=1970, name='Brooke Langton')\n",
      "Node('Person', born=1930, name='Gene Hackman')\n",
      "Node('Person', born=1968, name='Orlando Jones')\n",
      "Node('Person', born=1950, name='Howard Deutch')\n",
      "Node('Person', born=1974, name='Christian Bale')\n",
      "Node('Person', born=1954, name='Zach Grenier')\n",
      "Node('Person', born=1931, name='Mike Nichols')\n",
      "Node('Person', born=1930, name='Richard Harris')\n",
      "Node('Person', born=1930, name='Clint Eastwood')\n",
      "Node('Person', born=1947, name='Takeshi Kitano')\n",
      "Node('Person', born=1968, name='Dina Meyer')\n",
      "Node('Person', born=1958, name='Ice-T')\n",
      "Node('Person', born=1953, name='Robert Longo')\n",
      "Node('Person', born=1966, name='Halle Berry')\n",
      "Node('Person', born=1949, name='Jim Broadbent')\n",
      "Node('Person', born=1965, name='Tom Tykwer')\n",
      "Node('Person', born=1969, name='David Mitchell')\n",
      "Node('Person', born=1961, name='Stefan Arndt')\n",
      "Node('Person', born=1939, name='Ian McKellen')\n",
      "Node('Person', born=1976, name='Audrey Tautou')\n",
      "Node('Person', born=1971, name='Paul Bettany')\n",
      "Node('Person', born=1954, name='Ron Howard')\n",
      "Node('Person', born=1981, name='Natalie Portman')\n",
      "Node('Person', born=1946, name='Stephen Rea')\n",
      "Node('Person', born=1940, name='John Hurt')\n",
      "Node('Person', born=1967, name='Ben Miles')\n",
      "Node('Person', born=1985, name='Emile Hirsch')\n",
      "Node('Person', born=1960, name='John Goodman')\n",
      "Node('Person', born=1946, name='Susan Sarandon')\n",
      "Node('Person', born=1966, name='Matthew Fox')\n",
      "Node('Person', born=1980, name='Christina Ricci')\n",
      "Node('Person', born=1982, name='Rain')\n",
      "Node('Person', name='Naomie Harris')\n",
      "Node('Person', born=1957, name='Michael Clarke Duncan')\n",
      "Node('Person', born=1953, name='David Morse')\n",
      "Node('Person', born=1968, name='Sam Rockwell')\n",
      "Node('Person', born=1955, name='Gary Sinise')\n",
      "Node('Person', born=1959, name='Patricia Clarkson')\n",
      "Node('Person', born=1959, name='Frank Darabont')\n",
      "Node('Person', born=1938, name='Frank Langella')\n",
      "Node('Person', born=1969, name='Michael Sheen')\n",
      "Node('Person', born=1960, name='Oliver Platt')\n",
      "Node('Person', born=1944, name='Danny DeVito')\n",
      "Node('Person', born=1965, name='John C. Reilly')\n",
      "Node('Person', born=1950, name='Ed Harris')\n",
      "Node('Person', born=1955, name='Bill Paxton')\n",
      "Node('Person', born=1967, name='Philip Seymour Hoffman')\n",
      "Node('Person', born=1943, name='Jan de Bont')\n",
      "Node('Person', born=1951, name='Robert Zemeckis')\n",
      "Node('Person', born=1932, name='Milos Forman')\n",
      "Node('Person', born=1946, name='Diane Keaton')\n",
      "Node('Person', born=1949, name='Nancy Meyers')\n",
      "Node('Person', born=1958, name='Chris Columbus')\n",
      "Node('Person', born=1967, name='Julia Roberts')\n",
      "Node('Person', born=1954, name='Madonna')\n",
      "Node('Person', born=1956, name='Geena Davis')\n",
      "Node('Person', born=1963, name='Lori Petty')\n",
      "Node('Person', born=1943, name='Penny Marshall')\n",
      "Node('Person', name='Paul Blythe')\n",
      "Node('Person', name='Angela Scope')\n",
      "Node('Person', name='Jessica Thompson')\n",
      "Node('Person', name='James Thompson')\n",
      "Node('Person', age=24, name='Nicole')\n",
      "Node('Person', age=20, name='Drew')\n",
      "Node('Person', age=24, name='Nicole')\n",
      "Node('Person', age=20, name='Drew')\n",
      "Node('Person', age=20, name='Drew')\n",
      "Node('Person', age=24, name='Nicole')\n",
      "Node('Person', age=24, name='Nicole')\n",
      "Node('Person', age=20, name='Drew')\n"
     ]
    }
   ],
   "source": [
    "for d in data:\n",
    "    print(d)"
   ]
  },
  {
   "cell_type": "code",
   "execution_count": 14,
   "metadata": {},
   "outputs": [],
   "source": [
    "%load_ext cypher"
   ]
  },
  {
   "cell_type": "code",
   "execution_count": 15,
   "metadata": {},
   "outputs": [
    {
     "name": "stdout",
     "output_type": "stream",
     "text": [
      "Format: (http|https)://username:password@hostname:port/db/name\n"
     ]
    },
    {
     "ename": "StatusException",
     "evalue": "Code [401]: Unauthorized. No permission -- see authorization schemes.\nAuthorization Required",
     "output_type": "error",
     "traceback": [
      "\u001b[0;31m---------------------------------------------------------------------------\u001b[0m",
      "\u001b[0;31mStatusException\u001b[0m                           Traceback (most recent call last)",
      "\u001b[0;32m<ipython-input-15-06cbbf92e4ea>\u001b[0m in \u001b[0;36m<module>\u001b[0;34m\u001b[0m\n\u001b[0;32m----> 1\u001b[0;31m \u001b[0mget_ipython\u001b[0m\u001b[0;34m(\u001b[0m\u001b[0;34m)\u001b[0m\u001b[0;34m.\u001b[0m\u001b[0mrun_cell_magic\u001b[0m\u001b[0;34m(\u001b[0m\u001b[0;34m'cypher'\u001b[0m\u001b[0;34m,\u001b[0m \u001b[0;34m''\u001b[0m\u001b[0;34m,\u001b[0m \u001b[0;34m'MATCH (person:Person)-[:LIKES]->(drink:Drink)\\nRETURN person.name, drink.name, drink.calories\\n'\u001b[0m\u001b[0;34m)\u001b[0m\u001b[0;34m\u001b[0m\u001b[0;34m\u001b[0m\u001b[0m\n\u001b[0m",
      "\u001b[0;32m~/.local/lib/python3.8/site-packages/IPython/core/interactiveshell.py\u001b[0m in \u001b[0;36mrun_cell_magic\u001b[0;34m(self, magic_name, line, cell)\u001b[0m\n\u001b[1;32m   2380\u001b[0m             \u001b[0;32mwith\u001b[0m \u001b[0mself\u001b[0m\u001b[0;34m.\u001b[0m\u001b[0mbuiltin_trap\u001b[0m\u001b[0;34m:\u001b[0m\u001b[0;34m\u001b[0m\u001b[0;34m\u001b[0m\u001b[0m\n\u001b[1;32m   2381\u001b[0m                 \u001b[0margs\u001b[0m \u001b[0;34m=\u001b[0m \u001b[0;34m(\u001b[0m\u001b[0mmagic_arg_s\u001b[0m\u001b[0;34m,\u001b[0m \u001b[0mcell\u001b[0m\u001b[0;34m)\u001b[0m\u001b[0;34m\u001b[0m\u001b[0;34m\u001b[0m\u001b[0m\n\u001b[0;32m-> 2382\u001b[0;31m                 \u001b[0mresult\u001b[0m \u001b[0;34m=\u001b[0m \u001b[0mfn\u001b[0m\u001b[0;34m(\u001b[0m\u001b[0;34m*\u001b[0m\u001b[0margs\u001b[0m\u001b[0;34m,\u001b[0m \u001b[0;34m**\u001b[0m\u001b[0mkwargs\u001b[0m\u001b[0;34m)\u001b[0m\u001b[0;34m\u001b[0m\u001b[0;34m\u001b[0m\u001b[0m\n\u001b[0m\u001b[1;32m   2383\u001b[0m             \u001b[0;32mreturn\u001b[0m \u001b[0mresult\u001b[0m\u001b[0;34m\u001b[0m\u001b[0;34m\u001b[0m\u001b[0m\n\u001b[1;32m   2384\u001b[0m \u001b[0;34m\u001b[0m\u001b[0m\n",
      "\u001b[0;32m<decorator-gen-864>\u001b[0m in \u001b[0;36mexecute\u001b[0;34m(self, line, cell, local_ns)\u001b[0m\n",
      "\u001b[0;32m~/.local/lib/python3.8/site-packages/IPython/core/magic.py\u001b[0m in \u001b[0;36m<lambda>\u001b[0;34m(f, *a, **k)\u001b[0m\n\u001b[1;32m    185\u001b[0m     \u001b[0;31m# but it's overkill for just that one bit of state.\u001b[0m\u001b[0;34m\u001b[0m\u001b[0;34m\u001b[0m\u001b[0;34m\u001b[0m\u001b[0m\n\u001b[1;32m    186\u001b[0m     \u001b[0;32mdef\u001b[0m \u001b[0mmagic_deco\u001b[0m\u001b[0;34m(\u001b[0m\u001b[0marg\u001b[0m\u001b[0;34m)\u001b[0m\u001b[0;34m:\u001b[0m\u001b[0;34m\u001b[0m\u001b[0;34m\u001b[0m\u001b[0m\n\u001b[0;32m--> 187\u001b[0;31m         \u001b[0mcall\u001b[0m \u001b[0;34m=\u001b[0m \u001b[0;32mlambda\u001b[0m \u001b[0mf\u001b[0m\u001b[0;34m,\u001b[0m \u001b[0;34m*\u001b[0m\u001b[0ma\u001b[0m\u001b[0;34m,\u001b[0m \u001b[0;34m**\u001b[0m\u001b[0mk\u001b[0m\u001b[0;34m:\u001b[0m \u001b[0mf\u001b[0m\u001b[0;34m(\u001b[0m\u001b[0;34m*\u001b[0m\u001b[0ma\u001b[0m\u001b[0;34m,\u001b[0m \u001b[0;34m**\u001b[0m\u001b[0mk\u001b[0m\u001b[0;34m)\u001b[0m\u001b[0;34m\u001b[0m\u001b[0;34m\u001b[0m\u001b[0m\n\u001b[0m\u001b[1;32m    188\u001b[0m \u001b[0;34m\u001b[0m\u001b[0m\n\u001b[1;32m    189\u001b[0m         \u001b[0;32mif\u001b[0m \u001b[0mcallable\u001b[0m\u001b[0;34m(\u001b[0m\u001b[0marg\u001b[0m\u001b[0;34m)\u001b[0m\u001b[0;34m:\u001b[0m\u001b[0;34m\u001b[0m\u001b[0;34m\u001b[0m\u001b[0m\n",
      "\u001b[0;32m<decorator-gen-863>\u001b[0m in \u001b[0;36mexecute\u001b[0;34m(self, line, cell, local_ns)\u001b[0m\n",
      "\u001b[0;32m~/.local/lib/python3.8/site-packages/IPython/core/magic.py\u001b[0m in \u001b[0;36m<lambda>\u001b[0;34m(f, *a, **k)\u001b[0m\n\u001b[1;32m    185\u001b[0m     \u001b[0;31m# but it's overkill for just that one bit of state.\u001b[0m\u001b[0;34m\u001b[0m\u001b[0;34m\u001b[0m\u001b[0;34m\u001b[0m\u001b[0m\n\u001b[1;32m    186\u001b[0m     \u001b[0;32mdef\u001b[0m \u001b[0mmagic_deco\u001b[0m\u001b[0;34m(\u001b[0m\u001b[0marg\u001b[0m\u001b[0;34m)\u001b[0m\u001b[0;34m:\u001b[0m\u001b[0;34m\u001b[0m\u001b[0;34m\u001b[0m\u001b[0m\n\u001b[0;32m--> 187\u001b[0;31m         \u001b[0mcall\u001b[0m \u001b[0;34m=\u001b[0m \u001b[0;32mlambda\u001b[0m \u001b[0mf\u001b[0m\u001b[0;34m,\u001b[0m \u001b[0;34m*\u001b[0m\u001b[0ma\u001b[0m\u001b[0;34m,\u001b[0m \u001b[0;34m**\u001b[0m\u001b[0mk\u001b[0m\u001b[0;34m:\u001b[0m \u001b[0mf\u001b[0m\u001b[0;34m(\u001b[0m\u001b[0;34m*\u001b[0m\u001b[0ma\u001b[0m\u001b[0;34m,\u001b[0m \u001b[0;34m**\u001b[0m\u001b[0mk\u001b[0m\u001b[0;34m)\u001b[0m\u001b[0;34m\u001b[0m\u001b[0;34m\u001b[0m\u001b[0m\n\u001b[0m\u001b[1;32m    188\u001b[0m \u001b[0;34m\u001b[0m\u001b[0m\n\u001b[1;32m    189\u001b[0m         \u001b[0;32mif\u001b[0m \u001b[0mcallable\u001b[0m\u001b[0;34m(\u001b[0m\u001b[0marg\u001b[0m\u001b[0;34m)\u001b[0m\u001b[0;34m:\u001b[0m\u001b[0;34m\u001b[0m\u001b[0;34m\u001b[0m\u001b[0m\n",
      "\u001b[0;32m~/.local/lib/python3.8/site-packages/cypher/magic.py\u001b[0m in \u001b[0;36mexecute\u001b[0;34m(self, line, cell, local_ns)\u001b[0m\n\u001b[1;32m    106\u001b[0m         \u001b[0muser_ns\u001b[0m\u001b[0;34m.\u001b[0m\u001b[0mupdate\u001b[0m\u001b[0;34m(\u001b[0m\u001b[0mlocal_ns\u001b[0m\u001b[0;34m)\u001b[0m\u001b[0;34m\u001b[0m\u001b[0;34m\u001b[0m\u001b[0m\n\u001b[1;32m    107\u001b[0m         \u001b[0mparsed\u001b[0m \u001b[0;34m=\u001b[0m \u001b[0mparse\u001b[0m\u001b[0;34m(\u001b[0m\u001b[0;34m\"\"\"{0}\\n{1}\"\"\"\u001b[0m\u001b[0;34m.\u001b[0m\u001b[0mformat\u001b[0m\u001b[0;34m(\u001b[0m\u001b[0mline\u001b[0m\u001b[0;34m,\u001b[0m \u001b[0mcell\u001b[0m\u001b[0;34m)\u001b[0m\u001b[0;34m,\u001b[0m \u001b[0mself\u001b[0m\u001b[0;34m)\u001b[0m\u001b[0;34m\u001b[0m\u001b[0;34m\u001b[0m\u001b[0m\n\u001b[0;32m--> 108\u001b[0;31m         \u001b[0mconn\u001b[0m \u001b[0;34m=\u001b[0m \u001b[0mConnection\u001b[0m\u001b[0;34m.\u001b[0m\u001b[0mget\u001b[0m\u001b[0;34m(\u001b[0m\u001b[0mparsed\u001b[0m\u001b[0;34m[\u001b[0m\u001b[0;34m'as'\u001b[0m\u001b[0;34m]\u001b[0m \u001b[0;32mor\u001b[0m \u001b[0mparsed\u001b[0m\u001b[0;34m[\u001b[0m\u001b[0;34m'uri'\u001b[0m\u001b[0;34m]\u001b[0m\u001b[0;34m,\u001b[0m \u001b[0mparsed\u001b[0m\u001b[0;34m[\u001b[0m\u001b[0;34m'as'\u001b[0m\u001b[0;34m]\u001b[0m\u001b[0;34m)\u001b[0m\u001b[0;34m\u001b[0m\u001b[0;34m\u001b[0m\u001b[0m\n\u001b[0m\u001b[1;32m    109\u001b[0m         \u001b[0mfirst_word\u001b[0m \u001b[0;34m=\u001b[0m \u001b[0mparsed\u001b[0m\u001b[0;34m[\u001b[0m\u001b[0;34m'cypher'\u001b[0m\u001b[0;34m]\u001b[0m\u001b[0;34m.\u001b[0m\u001b[0msplit\u001b[0m\u001b[0;34m(\u001b[0m\u001b[0;32mNone\u001b[0m\u001b[0;34m,\u001b[0m \u001b[0;36m1\u001b[0m\u001b[0;34m)\u001b[0m\u001b[0;34m[\u001b[0m\u001b[0;34m:\u001b[0m\u001b[0;36m1\u001b[0m\u001b[0;34m]\u001b[0m\u001b[0;34m\u001b[0m\u001b[0;34m\u001b[0m\u001b[0m\n\u001b[1;32m    110\u001b[0m         \u001b[0;32mif\u001b[0m \u001b[0mfirst_word\u001b[0m \u001b[0;32mand\u001b[0m \u001b[0mfirst_word\u001b[0m\u001b[0;34m[\u001b[0m\u001b[0;36m0\u001b[0m\u001b[0;34m]\u001b[0m\u001b[0;34m.\u001b[0m\u001b[0mlower\u001b[0m\u001b[0;34m(\u001b[0m\u001b[0;34m)\u001b[0m \u001b[0;34m==\u001b[0m \u001b[0;34m'persist'\u001b[0m\u001b[0;34m:\u001b[0m\u001b[0;34m\u001b[0m\u001b[0;34m\u001b[0m\u001b[0m\n",
      "\u001b[0;32m~/.local/lib/python3.8/site-packages/cypher/connection.py\u001b[0m in \u001b[0;36mget\u001b[0;34m(cls, descriptor, alias)\u001b[0m\n\u001b[1;32m     45\u001b[0m                 \u001b[0mcls\u001b[0m\u001b[0;34m.\u001b[0m\u001b[0mcurrent\u001b[0m \u001b[0;34m=\u001b[0m \u001b[0mconn\u001b[0m\u001b[0;34m\u001b[0m\u001b[0;34m\u001b[0m\u001b[0m\n\u001b[1;32m     46\u001b[0m             \u001b[0;32melse\u001b[0m\u001b[0;34m:\u001b[0m\u001b[0;34m\u001b[0m\u001b[0;34m\u001b[0m\u001b[0m\n\u001b[0;32m---> 47\u001b[0;31m                 \u001b[0mcls\u001b[0m\u001b[0;34m.\u001b[0m\u001b[0mcurrent\u001b[0m \u001b[0;34m=\u001b[0m \u001b[0mConnection\u001b[0m\u001b[0;34m(\u001b[0m\u001b[0mdescriptor\u001b[0m\u001b[0;34m,\u001b[0m \u001b[0malias\u001b[0m\u001b[0;34m)\u001b[0m\u001b[0;34m\u001b[0m\u001b[0;34m\u001b[0m\u001b[0m\n\u001b[0m\u001b[1;32m     48\u001b[0m         \u001b[0;32mif\u001b[0m \u001b[0mcls\u001b[0m\u001b[0;34m.\u001b[0m\u001b[0mcurrent\u001b[0m\u001b[0;34m:\u001b[0m\u001b[0;34m\u001b[0m\u001b[0;34m\u001b[0m\u001b[0m\n\u001b[1;32m     49\u001b[0m             \u001b[0;32mreturn\u001b[0m \u001b[0mcls\u001b[0m\u001b[0;34m.\u001b[0m\u001b[0mcurrent\u001b[0m\u001b[0;34m\u001b[0m\u001b[0;34m\u001b[0m\u001b[0m\n",
      "\u001b[0;32m~/.local/lib/python3.8/site-packages/cypher/connection.py\u001b[0m in \u001b[0;36m__init__\u001b[0;34m(self, connect_str, alias)\u001b[0m\n\u001b[1;32m     24\u001b[0m                 \u001b[0mgdb\u001b[0m \u001b[0;34m=\u001b[0m \u001b[0mGraphDatabase\u001b[0m\u001b[0;34m(\u001b[0m\u001b[0mself\u001b[0m\u001b[0;34m.\u001b[0m\u001b[0mconnections\u001b[0m\u001b[0;34m[\u001b[0m\u001b[0mconnect_str\u001b[0m\u001b[0;34m]\u001b[0m\u001b[0;34m)\u001b[0m\u001b[0;34m\u001b[0m\u001b[0;34m\u001b[0m\u001b[0m\n\u001b[1;32m     25\u001b[0m             \u001b[0;32melse\u001b[0m\u001b[0;34m:\u001b[0m\u001b[0;34m\u001b[0m\u001b[0;34m\u001b[0m\u001b[0m\n\u001b[0;32m---> 26\u001b[0;31m                 \u001b[0mgdb\u001b[0m \u001b[0;34m=\u001b[0m \u001b[0mGraphDatabase\u001b[0m\u001b[0;34m(\u001b[0m\u001b[0mconnect_str\u001b[0m\u001b[0;34m)\u001b[0m\u001b[0;34m\u001b[0m\u001b[0;34m\u001b[0m\u001b[0m\n\u001b[0m\u001b[1;32m     27\u001b[0m                 \u001b[0malias\u001b[0m \u001b[0;34m=\u001b[0m \u001b[0malias\u001b[0m \u001b[0;32mor\u001b[0m \u001b[0mconnect_str\u001b[0m\u001b[0;34m\u001b[0m\u001b[0;34m\u001b[0m\u001b[0m\n\u001b[1;32m     28\u001b[0m         \u001b[0;32mexcept\u001b[0m\u001b[0;34m:\u001b[0m\u001b[0;34m\u001b[0m\u001b[0;34m\u001b[0m\u001b[0m\n",
      "\u001b[0;32m~/.local/lib/python3.8/site-packages/neo4jrestclient/client.py\u001b[0m in \u001b[0;36m__init__\u001b[0;34m(self, url, username, password, cert_file, key_file)\u001b[0m\n\u001b[1;32m     77\u001b[0m         \u001b[0;32melse\u001b[0m\u001b[0;34m:\u001b[0m\u001b[0;34m\u001b[0m\u001b[0;34m\u001b[0m\u001b[0m\n\u001b[1;32m     78\u001b[0m             \u001b[0mself\u001b[0m\u001b[0;34m.\u001b[0m\u001b[0murl\u001b[0m \u001b[0;34m=\u001b[0m \u001b[0;34m\"%s/\"\u001b[0m \u001b[0;34m%\u001b[0m \u001b[0murl\u001b[0m\u001b[0;34m\u001b[0m\u001b[0;34m\u001b[0m\u001b[0m\n\u001b[0;32m---> 79\u001b[0;31m         \u001b[0mresponse\u001b[0m \u001b[0;34m=\u001b[0m \u001b[0mRequest\u001b[0m\u001b[0;34m(\u001b[0m\u001b[0;34m**\u001b[0m\u001b[0mself\u001b[0m\u001b[0;34m.\u001b[0m\u001b[0m_auth\u001b[0m\u001b[0;34m)\u001b[0m\u001b[0;34m.\u001b[0m\u001b[0mget\u001b[0m\u001b[0;34m(\u001b[0m\u001b[0mself\u001b[0m\u001b[0;34m.\u001b[0m\u001b[0murl\u001b[0m\u001b[0;34m)\u001b[0m\u001b[0;34m\u001b[0m\u001b[0;34m\u001b[0m\u001b[0m\n\u001b[0m\u001b[1;32m     80\u001b[0m         \u001b[0;32mif\u001b[0m \u001b[0mresponse\u001b[0m\u001b[0;34m.\u001b[0m\u001b[0mstatus_code\u001b[0m \u001b[0;34m==\u001b[0m \u001b[0;36m200\u001b[0m\u001b[0;34m:\u001b[0m\u001b[0;34m\u001b[0m\u001b[0;34m\u001b[0m\u001b[0m\n\u001b[1;32m     81\u001b[0m             \u001b[0mresponse_json\u001b[0m \u001b[0;34m=\u001b[0m \u001b[0mresponse\u001b[0m\u001b[0;34m.\u001b[0m\u001b[0mjson\u001b[0m\u001b[0;34m(\u001b[0m\u001b[0;34m)\u001b[0m\u001b[0;34m\u001b[0m\u001b[0;34m\u001b[0m\u001b[0m\n",
      "\u001b[0;32m~/.local/lib/python3.8/site-packages/neo4jrestclient/request.py\u001b[0m in \u001b[0;36mget\u001b[0;34m(self, url, headers)\u001b[0m\n\u001b[1;32m     61\u001b[0m         \u001b[0mReturns\u001b[0m \u001b[0mthe\u001b[0m \u001b[0mresponse\u001b[0m \u001b[0mobject\u001b[0m\u001b[0;34m.\u001b[0m\u001b[0;34m\u001b[0m\u001b[0;34m\u001b[0m\u001b[0m\n\u001b[1;32m     62\u001b[0m         \"\"\"\n\u001b[0;32m---> 63\u001b[0;31m         \u001b[0;32mreturn\u001b[0m \u001b[0mself\u001b[0m\u001b[0;34m.\u001b[0m\u001b[0m_request\u001b[0m\u001b[0;34m(\u001b[0m\u001b[0;34m'GET'\u001b[0m\u001b[0;34m,\u001b[0m \u001b[0murl\u001b[0m\u001b[0;34m,\u001b[0m \u001b[0mheaders\u001b[0m\u001b[0;34m=\u001b[0m\u001b[0mheaders\u001b[0m\u001b[0;34m)\u001b[0m\u001b[0;34m\u001b[0m\u001b[0;34m\u001b[0m\u001b[0m\n\u001b[0m\u001b[1;32m     64\u001b[0m \u001b[0;34m\u001b[0m\u001b[0m\n\u001b[1;32m     65\u001b[0m     \u001b[0;32mdef\u001b[0m \u001b[0mpost\u001b[0m\u001b[0;34m(\u001b[0m\u001b[0mself\u001b[0m\u001b[0;34m,\u001b[0m \u001b[0murl\u001b[0m\u001b[0;34m,\u001b[0m \u001b[0mdata\u001b[0m\u001b[0;34m,\u001b[0m \u001b[0mheaders\u001b[0m\u001b[0;34m=\u001b[0m\u001b[0;32mNone\u001b[0m\u001b[0;34m)\u001b[0m\u001b[0;34m:\u001b[0m\u001b[0;34m\u001b[0m\u001b[0;34m\u001b[0m\u001b[0m\n",
      "\u001b[0;32m~/.local/lib/python3.8/site-packages/neo4jrestclient/request.py\u001b[0m in \u001b[0;36m_request\u001b[0;34m(self, method, url, data, headers)\u001b[0m\n\u001b[1;32m    198\u001b[0m                                                 auth=auth, verify=verify)\n\u001b[1;32m    199\u001b[0m             \u001b[0;32mif\u001b[0m \u001b[0mresponse\u001b[0m\u001b[0;34m.\u001b[0m\u001b[0mstatus_code\u001b[0m \u001b[0;34m==\u001b[0m \u001b[0;36m401\u001b[0m\u001b[0;34m:\u001b[0m\u001b[0;34m\u001b[0m\u001b[0;34m\u001b[0m\u001b[0m\n\u001b[0;32m--> 200\u001b[0;31m                 \u001b[0;32mraise\u001b[0m \u001b[0mStatusException\u001b[0m\u001b[0;34m(\u001b[0m\u001b[0;36m401\u001b[0m\u001b[0;34m,\u001b[0m \u001b[0;34m\"Authorization Required\"\u001b[0m\u001b[0;34m)\u001b[0m\u001b[0;34m\u001b[0m\u001b[0;34m\u001b[0m\u001b[0m\n\u001b[0m\u001b[1;32m    201\u001b[0m             \u001b[0;32mreturn\u001b[0m \u001b[0mresponse\u001b[0m\u001b[0;34m\u001b[0m\u001b[0;34m\u001b[0m\u001b[0m\n\u001b[1;32m    202\u001b[0m         \u001b[0;32mexcept\u001b[0m \u001b[0mAttributeError\u001b[0m\u001b[0;34m:\u001b[0m\u001b[0;34m\u001b[0m\u001b[0;34m\u001b[0m\u001b[0m\n",
      "\u001b[0;31mStatusException\u001b[0m: Code [401]: Unauthorized. No permission -- see authorization schemes.\nAuthorization Required"
     ]
    }
   ],
   "source": [
    "%%cypher\n",
    "MATCH (person:Person)-[:LIKES]->(drink:Drink)\n",
    "RETURN person.name, drink.name, drink.calories"
   ]
  },
  {
   "cell_type": "code",
   "execution_count": null,
   "metadata": {},
   "outputs": [],
   "source": []
  }
 ],
 "metadata": {
  "kernelspec": {
   "display_name": "Python 3",
   "language": "python",
   "name": "python3"
  },
  "language_info": {
   "codemirror_mode": {
    "name": "ipython",
    "version": 3
   },
   "file_extension": ".py",
   "mimetype": "text/x-python",
   "name": "python",
   "nbconvert_exporter": "python",
   "pygments_lexer": "ipython3",
   "version": "3.8.5"
  }
 },
 "nbformat": 4,
 "nbformat_minor": 4
}
