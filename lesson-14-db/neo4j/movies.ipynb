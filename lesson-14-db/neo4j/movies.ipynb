{
 "cells": [
  {
   "cell_type": "markdown",
   "metadata": {},
   "source": [
    "# Learn Neo4j and Cypher in Notebook"
   ]
  },
  {
   "cell_type": "markdown",
   "metadata": {},
   "source": [
    "### References\n",
    "\n",
    "- https://github.com/elena/py2neo-quickstart\n",
    "- Cypher Fundamentals by Dave"
   ]
  },
  {
   "cell_type": "markdown",
   "metadata": {},
   "source": [
    "### Install Neo4j Desktop\n",
    "\n",
    "```\n",
    "$ cd ~/neo4j\n",
    "$ ./neo4j-desktop-1.4.1-x86_64.AppImage\n",
    "```\n",
    "\n",
    "Open `neo4j` browser, type:\n",
    "`:play movies`\n",
    "\n",
    "Run the script to create `Movies` graph database"
   ]
  },
  {
   "cell_type": "markdown",
   "metadata": {},
   "source": [
    "### [Cypher Styles](https://github.com/opencypher/openCypher/blob/master/docs/style-guide.adoc)\n",
    "- Case Sensitive\n",
    "    - Node labels\n",
    "    - Relationship types\n",
    "    - Property keys\n",
    "- Case Insensitive\n",
    "    - Cypher keywords\n",
    "    \n",
    "- Cypher keywords and clauses should be written in all caps and on their own line\n",
    "- Functions should be written in lower camel case."
   ]
  },
  {
   "cell_type": "code",
   "execution_count": 12,
   "metadata": {},
   "outputs": [],
   "source": [
    "from py2neo import Graph,Node,Relationship"
   ]
  },
  {
   "cell_type": "code",
   "execution_count": 13,
   "metadata": {},
   "outputs": [],
   "source": [
    "from _connstr import CONN_STR"
   ]
  },
  {
   "cell_type": "raw",
   "metadata": {},
   "source": [
    "CONN_STR = {\n",
    "    \"url\": \"http://localhost:7474/browser/\",\n",
    "    \"user\": \"neo4j\",\n",
    "    \"password\": \"my_password\"\n",
    "}"
   ]
  },
  {
   "cell_type": "code",
   "execution_count": 14,
   "metadata": {},
   "outputs": [],
   "source": [
    "url, username, password = CONN_STR[\"url\"],CONN_STR[\"user\"],CONN_STR[\"password\"]\n",
    "graph = Graph(url, auth=(username, password))"
   ]
  },
  {
   "cell_type": "markdown",
   "metadata": {},
   "source": [
    "### Cypher - Intro"
   ]
  },
  {
   "cell_type": "code",
   "execution_count": 38,
   "metadata": {},
   "outputs": [
    {
     "data": {
      "text/plain": [
       "py2neo.database.work.Cursor"
      ]
     },
     "execution_count": 38,
     "metadata": {},
     "output_type": "execute_result"
    }
   ],
   "source": [
    "query = \"\"\"\n",
    "MATCH (p:Person)\n",
    "RETURN p\n",
    "LIMIT 10\n",
    "\"\"\"\n",
    "\n",
    "results = graph.run(query)\n",
    "type(results)"
   ]
  },
  {
   "cell_type": "code",
   "execution_count": 34,
   "metadata": {},
   "outputs": [],
   "source": [
    "# results is serialized to dataframe\n",
    "df = results.to_data_frame()\n",
    "df"
   ]
  },
  {
   "cell_type": "code",
   "execution_count": 37,
   "metadata": {},
   "outputs": [
    {
     "data": {
      "text/plain": [
       "array([[Node('Person', born=1961, name='Aaron Sorkin')],\n",
       "       [Node('Person', born=1940, name='Al Pacino')],\n",
       "       [Node('Person', born=1960, name='Annabella Sciorra')],\n",
       "       [Node('Person', born=1962, name='Anthony Edwards')],\n",
       "       [Node('Person', born=1976, name='Audrey Tautou')],\n",
       "       [Node('Person', born=1967, name='Ben Miles')],\n",
       "       [Node('Person', born=1955, name='Bill Paxton')],\n",
       "       [Node('Person', born=1953, name='Bill Pullman')],\n",
       "       [Node('Person', born=1948, name='Billy Crystal')],\n",
       "       [Node('Person', born=1961, name='Bonnie Hunt')]], dtype=object)"
      ]
     },
     "execution_count": 37,
     "metadata": {},
     "output_type": "execute_result"
    }
   ],
   "source": [
    "query = \"\"\"\n",
    "MATCH (p:Person)\n",
    "RETURN p\n",
    "LIMIT 10\n",
    "\"\"\"\n",
    "\n",
    "results = graph.run(query)\n",
    "\n",
    "# results is serialized to numpy array\n",
    "results.to_ndarray()"
   ]
  },
  {
   "cell_type": "code",
   "execution_count": 39,
   "metadata": {},
   "outputs": [
    {
     "data": {
      "text/html": [
       "<table><tr><th>p</th></tr><tr><td style=\"text-align:left\">(_2:Person {born: 1961, name: &#039;Aaron Sorkin&#039;})</td></tr><tr><td style=\"text-align:left\">(_3:Person {born: 1940, name: &#039;Al Pacino&#039;})</td></tr><tr><td style=\"text-align:left\">(_4:Person {born: 1960, name: &#039;Annabella Sciorra&#039;})</td></tr><tr><td style=\"text-align:left\">(_5:Person {born: 1962, name: &#039;Anthony Edwards&#039;})</td></tr><tr><td style=\"text-align:left\">(_8:Person {born: 1976, name: &#039;Audrey Tautou&#039;})</td></tr><tr><td style=\"text-align:left\">(_9:Person {born: 1967, name: &#039;Ben Miles&#039;})</td></tr><tr><td style=\"text-align:left\">(_11:Person {born: 1955, name: &#039;Bill Paxton&#039;})</td></tr><tr><td style=\"text-align:left\">(_12:Person {born: 1953, name: &#039;Bill Pullman&#039;})</td></tr><tr><td style=\"text-align:left\">(_13:Person {born: 1948, name: &#039;Billy Crystal&#039;})</td></tr><tr><td style=\"text-align:left\">(_14:Person {born: 1961, name: &#039;Bonnie Hunt&#039;})</td></tr></table>"
      ],
      "text/plain": [
       " p                                                   \n",
       "-----------------------------------------------------\n",
       " (_2:Person {born: 1961, name: 'Aaron Sorkin'})      \n",
       " (_3:Person {born: 1940, name: 'Al Pacino'})         \n",
       " (_4:Person {born: 1960, name: 'Annabella Sciorra'}) \n",
       " (_5:Person {born: 1962, name: 'Anthony Edwards'})   \n",
       " (_8:Person {born: 1976, name: 'Audrey Tautou'})     \n",
       " (_9:Person {born: 1967, name: 'Ben Miles'})         \n",
       " (_11:Person {born: 1955, name: 'Bill Paxton'})      \n",
       " (_12:Person {born: 1953, name: 'Bill Pullman'})     \n",
       " (_13:Person {born: 1948, name: 'Billy Crystal'})    \n",
       " (_14:Person {born: 1961, name: 'Bonnie Hunt'})      "
      ]
     },
     "execution_count": 39,
     "metadata": {},
     "output_type": "execute_result"
    }
   ],
   "source": [
    "query = \"\"\"\n",
    "MATCH (p:Person)\n",
    "RETURN p\n",
    "LIMIT 10\n",
    "\"\"\"\n",
    "\n",
    "results = graph.run(query)\n",
    "\n",
    "# must re-run query\n",
    "results.to_table()"
   ]
  },
  {
   "cell_type": "code",
   "execution_count": 47,
   "metadata": {},
   "outputs": [
    {
     "data": {
      "text/html": [
       "<div>\n",
       "<style scoped>\n",
       "    .dataframe tbody tr th:only-of-type {\n",
       "        vertical-align: middle;\n",
       "    }\n",
       "\n",
       "    .dataframe tbody tr th {\n",
       "        vertical-align: top;\n",
       "    }\n",
       "\n",
       "    .dataframe thead th {\n",
       "        text-align: right;\n",
       "    }\n",
       "</style>\n",
       "<table border=\"1\" class=\"dataframe\">\n",
       "  <thead>\n",
       "    <tr style=\"text-align: right;\">\n",
       "      <th></th>\n",
       "      <th>Type</th>\n",
       "      <th>Name</th>\n",
       "      <th>Birth_Year</th>\n",
       "    </tr>\n",
       "  </thead>\n",
       "  <tbody>\n",
       "    <tr>\n",
       "      <th>0</th>\n",
       "      <td>Person</td>\n",
       "      <td>Aaron Sorkin</td>\n",
       "      <td>1961</td>\n",
       "    </tr>\n",
       "    <tr>\n",
       "      <th>1</th>\n",
       "      <td>Person</td>\n",
       "      <td>Al Pacino</td>\n",
       "      <td>1940</td>\n",
       "    </tr>\n",
       "    <tr>\n",
       "      <th>2</th>\n",
       "      <td>Person</td>\n",
       "      <td>Annabella Sciorra</td>\n",
       "      <td>1960</td>\n",
       "    </tr>\n",
       "    <tr>\n",
       "      <th>3</th>\n",
       "      <td>Person</td>\n",
       "      <td>Anthony Edwards</td>\n",
       "      <td>1962</td>\n",
       "    </tr>\n",
       "    <tr>\n",
       "      <th>4</th>\n",
       "      <td>Person</td>\n",
       "      <td>Audrey Tautou</td>\n",
       "      <td>1976</td>\n",
       "    </tr>\n",
       "  </tbody>\n",
       "</table>\n",
       "</div>"
      ],
      "text/plain": [
       "     Type               Name  Birth_Year\n",
       "0  Person       Aaron Sorkin        1961\n",
       "1  Person          Al Pacino        1940\n",
       "2  Person  Annabella Sciorra        1960\n",
       "3  Person    Anthony Edwards        1962\n",
       "4  Person      Audrey Tautou        1976"
      ]
     },
     "execution_count": 47,
     "metadata": {},
     "output_type": "execute_result"
    }
   ],
   "source": [
    "query = \"\"\"\n",
    "// read 10 persons\n",
    "MATCH (p:Person)\n",
    "RETURN \"Person\" as Type, p.name as Name, p.born as Birth_Year\n",
    "LIMIT 10;\n",
    "\"\"\"\n",
    "\n",
    "df = graph.run(query).to_data_frame()\n",
    "df.head(5)"
   ]
  },
  {
   "cell_type": "markdown",
   "metadata": {},
   "source": [
    "### Cypher - MATCH (Read/Query)"
   ]
  },
  {
   "cell_type": "code",
   "execution_count": 49,
   "metadata": {},
   "outputs": [
    {
     "data": {
      "text/html": [
       "<div>\n",
       "<style scoped>\n",
       "    .dataframe tbody tr th:only-of-type {\n",
       "        vertical-align: middle;\n",
       "    }\n",
       "\n",
       "    .dataframe tbody tr th {\n",
       "        vertical-align: top;\n",
       "    }\n",
       "\n",
       "    .dataframe thead th {\n",
       "        text-align: right;\n",
       "    }\n",
       "</style>\n",
       "<table border=\"1\" class=\"dataframe\">\n",
       "  <thead>\n",
       "    <tr style=\"text-align: right;\">\n",
       "      <th></th>\n",
       "      <th>p</th>\n",
       "      <th>r</th>\n",
       "      <th>m</th>\n",
       "    </tr>\n",
       "  </thead>\n",
       "  <tbody>\n",
       "    <tr>\n",
       "      <th>0</th>\n",
       "      <td>{'born': 1967, 'name': 'James Marshall'}</td>\n",
       "      <td>{'roles': ['Pfc. Louden Downey']}</td>\n",
       "      <td>{'tagline': 'In the heart of the nation's capi...</td>\n",
       "    </tr>\n",
       "    <tr>\n",
       "      <th>1</th>\n",
       "      <td>{'born': 1943, 'name': 'J.T. Walsh'}</td>\n",
       "      <td>{'roles': ['Lt. Col. Matthew Andrew Markinson']}</td>\n",
       "      <td>{'tagline': 'In the heart of the nation's capi...</td>\n",
       "    </tr>\n",
       "    <tr>\n",
       "      <th>2</th>\n",
       "      <td>{'born': 1962, 'name': 'Demi Moore'}</td>\n",
       "      <td>{'roles': ['Lt. Cdr. JoAnne Galloway']}</td>\n",
       "      <td>{'tagline': 'In the heart of the nation's capi...</td>\n",
       "    </tr>\n",
       "    <tr>\n",
       "      <th>3</th>\n",
       "      <td>{'born': 1968, 'name': 'Cuba Gooding Jr.'}</td>\n",
       "      <td>{'roles': ['Cpl. Carl Hammaker']}</td>\n",
       "      <td>{'tagline': 'In the heart of the nation's capi...</td>\n",
       "    </tr>\n",
       "    <tr>\n",
       "      <th>4</th>\n",
       "      <td>{'born': 1966, 'name': 'Kiefer Sutherland'}</td>\n",
       "      <td>{'roles': ['Lt. Jonathan Kendrick']}</td>\n",
       "      <td>{'tagline': 'In the heart of the nation's capi...</td>\n",
       "    </tr>\n",
       "  </tbody>\n",
       "</table>\n",
       "</div>"
      ],
      "text/plain": [
       "                                             p  \\\n",
       "0     {'born': 1967, 'name': 'James Marshall'}   \n",
       "1         {'born': 1943, 'name': 'J.T. Walsh'}   \n",
       "2         {'born': 1962, 'name': 'Demi Moore'}   \n",
       "3   {'born': 1968, 'name': 'Cuba Gooding Jr.'}   \n",
       "4  {'born': 1966, 'name': 'Kiefer Sutherland'}   \n",
       "\n",
       "                                                  r  \\\n",
       "0                 {'roles': ['Pfc. Louden Downey']}   \n",
       "1  {'roles': ['Lt. Col. Matthew Andrew Markinson']}   \n",
       "2           {'roles': ['Lt. Cdr. JoAnne Galloway']}   \n",
       "3                 {'roles': ['Cpl. Carl Hammaker']}   \n",
       "4              {'roles': ['Lt. Jonathan Kendrick']}   \n",
       "\n",
       "                                                   m  \n",
       "0  {'tagline': 'In the heart of the nation's capi...  \n",
       "1  {'tagline': 'In the heart of the nation's capi...  \n",
       "2  {'tagline': 'In the heart of the nation's capi...  \n",
       "3  {'tagline': 'In the heart of the nation's capi...  \n",
       "4  {'tagline': 'In the heart of the nation's capi...  "
      ]
     },
     "execution_count": 49,
     "metadata": {},
     "output_type": "execute_result"
    }
   ],
   "source": [
    "query = \"\"\"\n",
    "// find actors and their movies\n",
    "MATCH (p:Person)-[r:ACTED_IN]->(m:Movie)\n",
    "RETURN p, r, m\n",
    "LIMIT 10;\n",
    "\"\"\"\n",
    "\n",
    "df = graph.run(query).to_data_frame()\n",
    "df.head(5)"
   ]
  },
  {
   "cell_type": "code",
   "execution_count": 50,
   "metadata": {},
   "outputs": [
    {
     "data": {
      "text/plain": [
       "p             {'born': 1967, 'name': 'James Marshall'}\n",
       "r                    {'roles': ['Pfc. Louden Downey']}\n",
       "m    {'tagline': 'In the heart of the nation's capi...\n",
       "Name: 0, dtype: object"
      ]
     },
     "execution_count": 50,
     "metadata": {},
     "output_type": "execute_result"
    }
   ],
   "source": [
    "df.iloc[0]"
   ]
  },
  {
   "cell_type": "code",
   "execution_count": 52,
   "metadata": {},
   "outputs": [
    {
     "data": {
      "text/plain": [
       "('James Marshall', ['Pfc. Louden Downey'], 'A Few Good Men')"
      ]
     },
     "execution_count": 52,
     "metadata": {},
     "output_type": "execute_result"
    }
   ],
   "source": [
    "df.iloc[0].p[\"name\"], df.iloc[0].r[\"roles\"], df.iloc[0].m[\"title\"]  "
   ]
  },
  {
   "cell_type": "code",
   "execution_count": 55,
   "metadata": {},
   "outputs": [
    {
     "data": {
      "text/plain": [
       "[{'p': Path(Node('Person', born=1967, name='James Marshall'), ACTED_IN(Node('Person', born=1967, name='James Marshall'), Node('Movie', released=1992, tagline=\"In the heart of the nation's capital, in a courthouse of the U.S. government, one man will stop at nothing to keep his honor, and one will stop at nothing to find the truth.\", title='A Few Good Men')))},\n",
       " {'p': Path(Node('Person', born=1943, name='J.T. Walsh'), ACTED_IN(Node('Person', born=1943, name='J.T. Walsh'), Node('Movie', released=1992, tagline=\"In the heart of the nation's capital, in a courthouse of the U.S. government, one man will stop at nothing to keep his honor, and one will stop at nothing to find the truth.\", title='A Few Good Men')))}]"
      ]
     },
     "execution_count": 55,
     "metadata": {},
     "output_type": "execute_result"
    }
   ],
   "source": [
    "query = \"\"\"\n",
    "// variable\n",
    "MATCH p = (:Person)-[:ACTED_IN]->(:Movie)\n",
    "RETURN p\n",
    "LIMIT 2;\n",
    "\"\"\"\n",
    "\n",
    "graph.run(query).data()"
   ]
  },
  {
   "cell_type": "code",
   "execution_count": 65,
   "metadata": {},
   "outputs": [
    {
     "data": {
      "text/plain": [
       "[{'p': Node('Person', born=1956, name='Tom Hanks')}]"
      ]
     },
     "execution_count": 65,
     "metadata": {},
     "output_type": "execute_result"
    }
   ],
   "source": [
    "query = \"\"\"\n",
    "//WHERE\n",
    "MATCH (p:Person)\n",
    "WHERE p.name = 'Tom Hanks'\n",
    "RETURN p;\n",
    "\"\"\"\n",
    "\n",
    "graph.run(query).data()"
   ]
  },
  {
   "cell_type": "code",
   "execution_count": 66,
   "metadata": {},
   "outputs": [
    {
     "data": {
      "text/plain": [
       "[{'p.name': 'Cameron Crowe', 'm.title': 'Jerry Maguire'},\n",
       " {'p.name': 'Nora Ephron', 'm.title': 'When Harry Met Sally'},\n",
       " {'p.name': 'Lana Wachowski', 'm.title': 'V for Vendetta'}]"
      ]
     },
     "execution_count": 66,
     "metadata": {},
     "output_type": "execute_result"
    }
   ],
   "source": [
    "query = \"\"\"\n",
    "// WHERE with pattern\n",
    "MATCH (p:Person)-[:WROTE]->(m:Movie)\n",
    "WHERE (p)-[:PRODUCED]->(m)\n",
    "RETURN p.name, m.title\n",
    "LIMIT 3;\n",
    "\"\"\"\n",
    "\n",
    "graph.run(query).data()"
   ]
  },
  {
   "cell_type": "code",
   "execution_count": 67,
   "metadata": {},
   "outputs": [
    {
     "data": {
      "text/plain": [
       "[{'p.name': 'Aaron Sorkin', 'm.title': 'A Few Good Men'},\n",
       " {'p.name': 'Jim Cash', 'm.title': 'Top Gun'},\n",
       " {'p.name': 'David Mitchell', 'm.title': 'Cloud Atlas'}]"
      ]
     },
     "execution_count": 67,
     "metadata": {},
     "output_type": "execute_result"
    }
   ],
   "source": [
    "query = \"\"\"\n",
    "// WHERE with pattern\n",
    "MATCH (p:Person)-[:WROTE]->(m:Movie)\n",
    "WHERE NOT (p)-[:PRODUCED]->(m)\n",
    "RETURN p.name, m.title\n",
    "LIMIT 3;\n",
    "\"\"\"\n",
    "\n",
    "graph.run(query).data()"
   ]
  },
  {
   "cell_type": "code",
   "execution_count": 68,
   "metadata": {},
   "outputs": [
    {
     "data": {
      "text/plain": [
       "[{'p': Node('Person', born=1952, name='Joel Silver')},\n",
       " {'p': Node('Person', born=1941, name='Jim Cash')},\n",
       " {'p': Node('Person', born=1969, name='David Mitchell')}]"
      ]
     },
     "execution_count": 68,
     "metadata": {},
     "output_type": "execute_result"
    }
   ],
   "source": [
    "query = \"\"\"\n",
    "MATCH (p:Person)\n",
    "WHERE NOT (p)-[:ACTED_IN|:DIRECTED]->(:Movie)\n",
    "RETURN p\n",
    "LIMIT 3;\n",
    "\"\"\"\n",
    "\n",
    "graph.run(query).data()"
   ]
  },
  {
   "cell_type": "code",
   "execution_count": 73,
   "metadata": {},
   "outputs": [
    {
     "data": {
      "text/plain": [
       "[{'m.title': 'The Matrix'},\n",
       " {'m.title': 'The Matrix Reloaded'},\n",
       " {'m.title': 'The Matrix Revolutions'}]"
      ]
     },
     "execution_count": 73,
     "metadata": {},
     "output_type": "execute_result"
    }
   ],
   "source": [
    "query = \"\"\"\n",
    "MATCH (m:Movie)\n",
    "WHERE m.title CONTAINS 'Matrix'\n",
    "RETURN m.title\n",
    "LIMIT 3;\n",
    "\"\"\"\n",
    "\n",
    "graph.run(query).data()"
   ]
  },
  {
   "cell_type": "code",
   "execution_count": 70,
   "metadata": {},
   "outputs": [
    {
     "data": {
      "text/plain": [
       "[{'m.title': 'The Matrix'},\n",
       " {'m.title': 'The Matrix Reloaded'},\n",
       " {'m.title': 'The Matrix Revolutions'}]"
      ]
     },
     "execution_count": 70,
     "metadata": {},
     "output_type": "execute_result"
    }
   ],
   "source": [
    "query = \"\"\"\n",
    "// string functions\n",
    "MATCH (m:Movie)\n",
    "WHERE m.title STARTS WITH 'The Matrix'\n",
    "RETURN m.title\n",
    "LIMIT 4;\n",
    "\"\"\"\n",
    "\n",
    "graph.run(query).data()"
   ]
  },
  {
   "cell_type": "code",
   "execution_count": 74,
   "metadata": {},
   "outputs": [
    {
     "data": {
      "text/plain": [
       "[{'m.title': 'Sleepless in Seattle'}]"
      ]
     },
     "execution_count": 74,
     "metadata": {},
     "output_type": "execute_result"
    }
   ],
   "source": [
    "query = \"\"\"\n",
    "// string functions\n",
    "MATCH (m:Movie)\n",
    "WHERE m.title ENDS WITH 'Seattle'\n",
    "RETURN m.title\n",
    "LIMIT 4;\n",
    "\"\"\"\n",
    "\n",
    "graph.run(query).data()"
   ]
  },
  {
   "cell_type": "code",
   "execution_count": 72,
   "metadata": {},
   "outputs": [
    {
     "data": {
      "text/plain": [
       "[{'p': Node('Person', born=1962, name='Tom Cruise'),\n",
       "  'm': Node('Movie', released=2000, tagline='The rest of his life begins now.', title='Jerry Maguire')},\n",
       " {'p': Node('Person', born=1962, name='Tom Cruise'),\n",
       "  'm': Node('Movie', released=1986, tagline='I feel the need, the need for speed.', title='Top Gun')},\n",
       " {'p': Node('Person', born=1962, name='Tom Cruise'),\n",
       "  'm': Node('Movie', released=1992, tagline=\"In the heart of the nation's capital, in a courthouse of the U.S. government, one man will stop at nothing to keep his honor, and one will stop at nothing to find the truth.\", title='A Few Good Men')},\n",
       " {'p': Node('Person', born=1933, name='Tom Skerritt'),\n",
       "  'm': Node('Movie', released=1986, tagline='I feel the need, the need for speed.', title='Top Gun')}]"
      ]
     },
     "execution_count": 72,
     "metadata": {},
     "output_type": "execute_result"
    }
   ],
   "source": [
    "query = \"\"\"\n",
    "MATCH (p:Person)-[:ACTED_IN]->(m:Movie)\n",
    "WHERE p.name STARTS WITH 'Tom'\n",
    "RETURN p, m\n",
    "LIMIT 4;\n",
    "\"\"\"\n",
    "\n",
    "graph.run(query).data()"
   ]
  },
  {
   "cell_type": "code",
   "execution_count": 77,
   "metadata": {},
   "outputs": [
    {
     "data": {
      "text/plain": [
       "[{'m.title': 'Apollo 13'}]"
      ]
     },
     "execution_count": 77,
     "metadata": {},
     "output_type": "execute_result"
    }
   ],
   "source": [
    "query = \"\"\"\n",
    "// regex\n",
    "MATCH (m:Movie)\n",
    "WHERE m.title =~ '.*[0-9]+.*'\n",
    "RETURN m.title\n",
    "LIMIT 3;\n",
    "\"\"\"\n",
    "\n",
    "graph.run(query).data()"
   ]
  },
  {
   "cell_type": "code",
   "execution_count": 78,
   "metadata": {},
   "outputs": [
    {
     "data": {
      "text/plain": [
       "[{'p.name': 'Tom Hanks', 'movies': 12},\n",
       " {'p.name': 'Keanu Reeves', 'movies': 7},\n",
       " {'p.name': 'Jack Nicholson', 'movies': 5},\n",
       " {'p.name': 'Hugo Weaving', 'movies': 5},\n",
       " {'p.name': 'Meg Ryan', 'movies': 5}]"
      ]
     },
     "execution_count": 78,
     "metadata": {},
     "output_type": "execute_result"
    }
   ],
   "source": [
    "query = \"\"\"\n",
    "// aggregate, order by, limit\n",
    "MATCH (p:Person)-[:ACTED_IN]->(m:Movie)\n",
    "RETURN p.name, count(*) AS movies\n",
    "ORDER BY movies DESC\n",
    "LIMIT 5;\n",
    "\"\"\"\n",
    "\n",
    "graph.run(query).data()"
   ]
  },
  {
   "cell_type": "code",
   "execution_count": 79,
   "metadata": {},
   "outputs": [
    {
     "data": {
      "text/plain": [
       "[{'other.name': 'Anthony Edwards', 'm.title': 'Top Gun'},\n",
       " {'other.name': 'Bill Pullman', 'm.title': 'Sleepless in Seattle'},\n",
       " {'other.name': 'Billy Crystal', 'm.title': 'When Harry Met Sally'}]"
      ]
     },
     "execution_count": 79,
     "metadata": {},
     "output_type": "execute_result"
    }
   ],
   "source": [
    "query = \"\"\"\n",
    "// multiple match\n",
    "MATCH (p:Person)-[:ACTED_IN]->(m:Movie),\n",
    "      (other:Person)-[:ACTED_IN]->(m)\n",
    "WHERE p.name = 'Meg Ryan'\n",
    "RETURN other.name, m.title\n",
    "ORDER BY other.name\n",
    "LIMIT 3;\n",
    "\"\"\"\n",
    "\n",
    "graph.run(query).data()"
   ]
  },
  {
   "cell_type": "code",
   "execution_count": 80,
   "metadata": {},
   "outputs": [
    {
     "data": {
      "text/plain": [
       "[{'movie': 'Sleepless in Seattle',\n",
       "  'director': 'Nora Ephron',\n",
       "  'coActor': 'Victor Garber'},\n",
       " {'movie': 'Sleepless in Seattle',\n",
       "  'director': 'Nora Ephron',\n",
       "  'coActor': 'Tom Hanks'},\n",
       " {'movie': 'Sleepless in Seattle',\n",
       "  'director': 'Nora Ephron',\n",
       "  'coActor': 'Bill Pullman'}]"
      ]
     },
     "execution_count": 80,
     "metadata": {},
     "output_type": "execute_result"
    }
   ],
   "source": [
    "query = \"\"\"\n",
    "// multiple match\n",
    "MATCH (p:Person)-[:ACTED_IN]->(m:Movie),\n",
    "      (other:Person)-[:ACTED_IN]->(m),\n",
    "      (director:Person)-[:DIRECTED]->(m)\n",
    "WHERE p.name = 'Meg Ryan'\n",
    "RETURN m.title AS movie, \n",
    "       director.name AS director,\n",
    "       other.name AS coActor\n",
    "LIMIT 3;\n",
    "\"\"\"\n",
    "\n",
    "graph.run(query).data()"
   ]
  },
  {
   "cell_type": "code",
   "execution_count": 81,
   "metadata": {},
   "outputs": [
    {
     "data": {
      "text/plain": [
       "[{'p.name': 'Tom Cruise', 'm.title': None},\n",
       " {'p.name': 'Tom Skerritt', 'm.title': None},\n",
       " {'p.name': 'Tom Hanks', 'm.title': 'That Thing You Do'},\n",
       " {'p.name': 'Tom Tykwer', 'm.title': 'Cloud Atlas'}]"
      ]
     },
     "execution_count": 81,
     "metadata": {},
     "output_type": "execute_result"
    }
   ],
   "source": [
    "query = \"\"\"\n",
    "// OPTINOAL MATCH\n",
    "MATCH (p:Person)\n",
    "WHERE p.name STARTS WITH 'Tom'\n",
    "OPTIONAL MATCH (p)-[:DIRECTED]->(m:Movie)\n",
    "RETURN p.name, m.title\n",
    "LIMIT 5;\n",
    "\"\"\"\n",
    "\n",
    "graph.run(query).data()"
   ]
  },
  {
   "cell_type": "code",
   "execution_count": null,
   "metadata": {},
   "outputs": [],
   "source": []
  },
  {
   "cell_type": "code",
   "execution_count": null,
   "metadata": {},
   "outputs": [],
   "source": []
  },
  {
   "cell_type": "code",
   "execution_count": null,
   "metadata": {},
   "outputs": [],
   "source": []
  },
  {
   "cell_type": "code",
   "execution_count": null,
   "metadata": {},
   "outputs": [],
   "source": []
  },
  {
   "cell_type": "code",
   "execution_count": null,
   "metadata": {},
   "outputs": [],
   "source": []
  },
  {
   "cell_type": "markdown",
   "metadata": {},
   "source": [
    "### Cypher - DELETE"
   ]
  },
  {
   "cell_type": "code",
   "execution_count": 62,
   "metadata": {},
   "outputs": [
    {
     "data": {
      "text/plain": [
       " p                                             \n",
       "-----------------------------------------------\n",
       " (_8:Person {born: 1978, name: 'Emil Eifrem'}) "
      ]
     },
     "execution_count": 62,
     "metadata": {},
     "output_type": "execute_result"
    }
   ],
   "source": [
    "query = \"\"\"\n",
    "MATCH (p:Person)\n",
    "WHERE p.name = 'Emil Eifrem'\n",
    "RETURN p;\n",
    "\"\"\"\n",
    "\n",
    "graph.run(query)"
   ]
  },
  {
   "cell_type": "code",
   "execution_count": 64,
   "metadata": {},
   "outputs": [
    {
     "data": {
      "text/plain": [
       "(No data)"
      ]
     },
     "execution_count": 64,
     "metadata": {},
     "output_type": "execute_result"
    }
   ],
   "source": [
    "query = \"\"\"\n",
    "// delete one node and relationships\n",
    "MATCH (p:Person)\n",
    "WHERE p.name = 'Emil Eifrem'\n",
    "DETACH DELETE p;\n",
    "\"\"\"\n",
    "\n",
    "graph.run(query)"
   ]
  },
  {
   "cell_type": "code",
   "execution_count": 57,
   "metadata": {},
   "outputs": [
    {
     "data": {
      "text/plain": [
       "(No data)"
      ]
     },
     "execution_count": 57,
     "metadata": {},
     "output_type": "execute_result"
    }
   ],
   "source": [
    "query = \"\"\"\n",
    "//Delete all Movie and Person nodes, and their relationships\n",
    "MATCH (n) \n",
    "DETACH DELETE n;\n",
    "\"\"\"\n",
    "\n",
    "graph.run(query)"
   ]
  },
  {
   "cell_type": "code",
   "execution_count": 60,
   "metadata": {},
   "outputs": [
    {
     "data": {
      "text/plain": [
       " count(*) \n",
       "----------\n",
       "      171 "
      ]
     },
     "execution_count": 60,
     "metadata": {},
     "output_type": "execute_result"
    }
   ],
   "source": [
    "query = \"\"\"\n",
    "//Prove that the Movie Graph is gone\n",
    "MATCH (n) RETURN count(*);\n",
    "\"\"\"\n",
    "\n",
    "graph.run(query)"
   ]
  },
  {
   "cell_type": "code",
   "execution_count": null,
   "metadata": {},
   "outputs": [],
   "source": []
  }
 ],
 "metadata": {
  "kernelspec": {
   "display_name": "Python 3",
   "language": "python",
   "name": "python3"
  },
  "language_info": {
   "codemirror_mode": {
    "name": "ipython",
    "version": 3
   },
   "file_extension": ".py",
   "mimetype": "text/x-python",
   "name": "python",
   "nbconvert_exporter": "python",
   "pygments_lexer": "ipython3",
   "version": "3.8.5"
  }
 },
 "nbformat": 4,
 "nbformat_minor": 4
}
