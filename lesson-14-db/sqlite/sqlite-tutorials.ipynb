{
 "cells": [
  {
   "cell_type": "markdown",
   "metadata": {},
   "source": [
    "https://www.sqlitetutorial.net/\n",
    "    \n",
    "local folder = ~\\projects\\sqlite\n",
    "\n",
    "Query tools\n",
    "- [DB Browser for SQLite](https://sqlitebrowser.org/dl/)"
   ]
  },
  {
   "cell_type": "markdown",
   "metadata": {},
   "source": [
    "## command \n",
    "\n",
    "```\n",
    "$ cd ~/projects/sqlite\n",
    "$ sqlite3 chinook.db\n",
    "sqlite> .help  # list commands\n",
    "\n",
    "sqlite> .databases\n",
    "main: C:\\Users\\w_gon\\projects\\sqlite\\chinook.db\n",
    "\n",
    "sqlite> .tables\n",
    "albums          employees       invoices        playlists\n",
    "artists         genres          media_types     tracks\n",
    "customers       invoice_items   playlist_track\n",
    "\n",
    "sqlite> .indexes\n",
    "IFK_AlbumArtistId                  IFK_PlaylistTrackTrackId\n",
    "IFK_CustomerSupportRepId           IFK_TrackAlbumId\n",
    "IFK_EmployeeReportsTo              IFK_TrackGenreId\n",
    "IFK_InvoiceCustomerId              IFK_TrackMediaTypeId\n",
    "IFK_InvoiceLineInvoiceId           sqlite_autoindex_playlist_track_1\n",
    "IFK_InvoiceLineTrackId\n",
    "\n",
    "sqlite> .schema albums\n",
    "CREATE TABLE IF NOT EXISTS \"albums\"\n",
    "(\n",
    "    [AlbumId] INTEGER PRIMARY KEY AUTOINCREMENT NOT NULL,\n",
    "    [Title] NVARCHAR(160)  NOT NULL,\n",
    "    [ArtistId] INTEGER  NOT NULL,\n",
    "    FOREIGN KEY ([ArtistId]) REFERENCES \"artists\" ([ArtistId])\n",
    "                ON DELETE NO ACTION ON UPDATE NO ACTION\n",
    ");\n",
    "CREATE INDEX [IFK_AlbumArtistId] ON \"albums\" ([ArtistId]);\n",
    "\n",
    "sqlite> select 1+1;\n",
    "2\n",
    "```"
   ]
  },
  {
   "cell_type": "markdown",
   "metadata": {},
   "source": [
    "## DB Browser for Sqlite\n",
    "\n",
    "see files \n",
    "- sqlite-tutorials.sql\n",
    "- create-table.sql\n",
    "- sqlite-acid.sql"
   ]
  },
  {
   "cell_type": "code",
   "execution_count": null,
   "metadata": {},
   "outputs": [],
   "source": []
  }
 ],
 "metadata": {
  "kernelspec": {
   "display_name": "Python 3",
   "language": "python",
   "name": "python3"
  },
  "language_info": {
   "codemirror_mode": {
    "name": "ipython",
    "version": 3
   },
   "file_extension": ".py",
   "mimetype": "text/x-python",
   "name": "python",
   "nbconvert_exporter": "python",
   "pygments_lexer": "ipython3",
   "version": "3.8.5"
  },
  "toc": {
   "base_numbering": 1,
   "nav_menu": {},
   "number_sections": true,
   "sideBar": true,
   "skip_h1_title": false,
   "title_cell": "Table of Contents",
   "title_sidebar": "Contents",
   "toc_cell": false,
   "toc_position": {},
   "toc_section_display": true,
   "toc_window_display": false
  }
 },
 "nbformat": 4,
 "nbformat_minor": 4
}
