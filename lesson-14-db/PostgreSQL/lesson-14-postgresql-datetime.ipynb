{
 "cells": [
  {
   "cell_type": "markdown",
   "metadata": {},
   "source": [
    "# PostgreSQL Python\n",
    "\n",
    "- https://pynative.com/python-postgresql-tutorial/\n",
    "- https://www.postgresqltutorial.com/postgresql-python/\n",
    "    \n",
    "   \n",
    "- https://w3resource.com/PostgreSQL/constraint.php  \n",
    "- https://dataschool.com/learn-sql/export-to-csv-from-psql/"
   ]
  },
  {
   "cell_type": "code",
   "execution_count": 4,
   "metadata": {},
   "outputs": [],
   "source": [
    "import psycopg2\n",
    "from psycopg2 import Error\n",
    "import db_params\n",
    "import datetime"
   ]
  },
  {
   "cell_type": "code",
   "execution_count": 5,
   "metadata": {},
   "outputs": [],
   "source": [
    "db_kwargs = db_params.get_db_params(\n",
    "        db_name=\"demodb\", \n",
    "        db_type=\"postgresql\"\n",
    "    )"
   ]
  },
  {
   "cell_type": "code",
   "execution_count": 7,
   "metadata": {},
   "outputs": [
    {
     "name": "stdout",
     "output_type": "stream",
     "text": [
      "1 item inserted successfully\n",
      "Item Purchase date is   2020-12-20\n",
      "Item Purchase time is   13:02:14.842284\n",
      "PostgreSQL connection is closed\n"
     ]
    }
   ],
   "source": [
    "try:\n",
    "    # Connect to an existing database\n",
    "    connection = psycopg2.connect(**db_kwargs)\n",
    "\n",
    "    # Create a cursor to perform database operations\n",
    "    cursor = connection.cursor()\n",
    "\n",
    "    \n",
    "    # SQL query to create a new table\n",
    "    create_table_query = '''CREATE TABLE IF NOT EXISTS item ( \n",
    "        item_id serial NOT NULL PRIMARY KEY, \n",
    "        item_name VARCHAR (100) NOT NULL, \n",
    "        purchase_time timestamp NOT NULL,\n",
    "        price INTEGER NOT NULL\n",
    "    );\n",
    "    '''\n",
    "    # Execute a command: this creates a new table\n",
    "    cursor.execute(create_table_query)\n",
    "    connection.commit()\n",
    "    \n",
    "    # Executing a SQL query to insert datetime into table\n",
    "    insert_query = \"\"\" INSERT INTO item (\n",
    "        item_Id, item_name, purchase_time, price\n",
    "        ) VALUES (%s, %s, %s, %s)\n",
    "    \"\"\"\n",
    "    item_purchase_time = datetime.datetime.now()\n",
    "    item_tuple = (12, \"Keyboard\", item_purchase_time, 15)\n",
    "    cursor.execute(insert_query, item_tuple)\n",
    "\n",
    "    item_tuple = (21, \"Mouse\", item_purchase_time, 10)\n",
    "    cursor.execute(insert_query, item_tuple)\n",
    "\n",
    "    connection.commit()\n",
    "    print(\"1 item inserted successfully\")\n",
    "\n",
    "    # Read PostgreSQL purchase timestamp value into Python datetime\n",
    "    cursor.execute(\"SELECT purchase_time from item where item_id = 12\")\n",
    "    purchase_datetime = cursor.fetchone()\n",
    "    print(\"Item Purchase date is  \", purchase_datetime[0].date())\n",
    "    print(\"Item Purchase time is  \", purchase_datetime[0].time())\n",
    "\n",
    "    \n",
    "    \n",
    "\n",
    "except (Exception, Error) as error:\n",
    "    print(\"Error while connecting to PostgreSQL\", error)\n",
    "finally:\n",
    "    if (connection):\n",
    "        cursor.close()\n",
    "        connection.close()\n",
    "        print(\"PostgreSQL connection is closed\")"
   ]
  },
  {
   "cell_type": "code",
   "execution_count": null,
   "metadata": {},
   "outputs": [],
   "source": []
  }
 ],
 "metadata": {
  "kernelspec": {
   "display_name": "Python 3",
   "language": "python",
   "name": "python3"
  },
  "language_info": {
   "codemirror_mode": {
    "name": "ipython",
    "version": 3
   },
   "file_extension": ".py",
   "mimetype": "text/x-python",
   "name": "python",
   "nbconvert_exporter": "python",
   "pygments_lexer": "ipython3",
   "version": "3.8.5"
  }
 },
 "nbformat": 4,
 "nbformat_minor": 4
}
