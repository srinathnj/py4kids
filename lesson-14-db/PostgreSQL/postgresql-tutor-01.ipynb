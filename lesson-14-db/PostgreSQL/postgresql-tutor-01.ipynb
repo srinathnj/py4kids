{
 "cells": [
  {
   "cell_type": "markdown",
   "metadata": {},
   "source": [
    "https://www.postgresqltutorial.com/postgresql-python/\n",
    "\n",
    "How to change a user to superuser in PostgreSQL\n",
    "- https://chartio.com/resources/tutorials/how-to-change-a-user-to-superuser-in-postgresql/"
   ]
  },
  {
   "cell_type": "markdown",
   "metadata": {},
   "source": [
    "sudo -i -u postgres\n",
    "psql\n",
    "\n",
    "SELECT usename FROM pg_user;\n",
    "\n",
    "create user gwguser000;\n",
    "\n",
    "\\du  - view existing user permissions\n",
    "\n",
    "alter user gwguser000 with SUPERUSER CREATEDB CREATEROLE;\n",
    "\n",
    "alter user gwguser001 with CREATEDB CREATEROLE;\n",
    "\n",
    "ALTER USER user_name WITH PASSWORD 'new_password';"
   ]
  }
 ],
 "metadata": {
  "kernelspec": {
   "display_name": "Python 3",
   "language": "python",
   "name": "python3"
  },
  "language_info": {
   "codemirror_mode": {
    "name": "ipython",
    "version": 3
   },
   "file_extension": ".py",
   "mimetype": "text/x-python",
   "name": "python",
   "nbconvert_exporter": "python",
   "pygments_lexer": "ipython3",
   "version": "3.8.5"
  }
 },
 "nbformat": 4,
 "nbformat_minor": 4
}
