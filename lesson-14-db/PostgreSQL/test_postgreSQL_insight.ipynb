{
 "cells": [
  {
   "cell_type": "markdown",
   "metadata": {},
   "source": [
    "http://www.postgresqltutorial.com/postgresql-python/create-tables/"
   ]
  },
  {
   "cell_type": "code",
   "execution_count": 1,
   "metadata": {},
   "outputs": [
    {
     "name": "stderr",
     "output_type": "stream",
     "text": [
      "/home/devopsgong/anaconda3/lib/python3.6/site-packages/psycopg2/__init__.py:144: UserWarning: The psycopg2 wheel package will be renamed from release 2.8; in order to keep installing from binary please use \"pip install psycopg2-binary\" instead. For details see: <http://initd.org/psycopg/docs/install.html#binary-install-from-pypi>.\n",
      "  \"\"\")\n"
     ]
    }
   ],
   "source": [
    "import psycopg2\n",
    "\n",
    "import os"
   ]
  },
  {
   "cell_type": "code",
   "execution_count": 2,
   "metadata": {},
   "outputs": [],
   "source": [
    "from datetime import datetime"
   ]
  },
  {
   "cell_type": "code",
   "execution_count": 3,
   "metadata": {},
   "outputs": [],
   "source": [
    "db_host = os.environ.get('AWS_PG_DB_HOST')\n",
    "db_name = os.environ.get('AWS_PG_DB_NAME')\n",
    "db_user = os.environ.get('AWS_PG_DB_USER')\n",
    "password = os.environ.get('AWS_PG_DB_PASS')\n",
    "\n",
    "db_connection_string = f\"dbname='{db_name}' \" + \\\n",
    "    f\"user='{db_user}' \" + \\\n",
    "    f\"host='{db_host}' \" + \\\n",
    "    f\"password='{password}'\""
   ]
  },
  {
   "cell_type": "code",
   "execution_count": 4,
   "metadata": {},
   "outputs": [],
   "source": [
    "connection = psycopg2.connect(db_connection_string)"
   ]
  },
  {
   "cell_type": "code",
   "execution_count": 5,
   "metadata": {},
   "outputs": [],
   "source": [
    "cur = connection.cursor()"
   ]
  },
  {
   "cell_type": "code",
   "execution_count": 6,
   "metadata": {},
   "outputs": [
    {
     "name": "stdout",
     "output_type": "stream",
     "text": [
      "[('wen', 'gong', 'wen.gong@gmail.com'), ('anna', 'wang', 'anna.wang@yahoo.com'), ('albert', 'gong', 'al.gong@ncssm.org'), ('anna2', 'wang2', 'anna.wang2@yahoo.com')]\n"
     ]
    }
   ],
   "source": [
    "cur.execute(\"select * from person;\")\n",
    "\n",
    "rows = cur.fetchall()\n",
    "\n",
    "print(rows)"
   ]
  },
  {
   "cell_type": "code",
   "execution_count": 19,
   "metadata": {},
   "outputs": [
    {
     "name": "stdout",
     "output_type": "stream",
     "text": [
      "[(1, 'Traffic/2019-01-28/1839_Trafficspeed.gz', datetime.datetime(2019, 1, 28, 17, 44, 19), None, 0, 2), (2, 'Traffic/2019-01-28/1839_Trafficspeed.gz', datetime.datetime(2019, 1, 29, 3, 24, 32, 273341), None, 0, 2)]\n"
     ]
    }
   ],
   "source": [
    "cur.execute(\"select * from xml_txns;\")\n",
    "rows = cur.fetchall()\n",
    "print(rows)"
   ]
  },
  {
   "cell_type": "code",
   "execution_count": 14,
   "metadata": {},
   "outputs": [
    {
     "data": {
      "text/plain": [
       "datetime.datetime(2019, 1, 29, 3, 24, 32, 273341)"
      ]
     },
     "execution_count": 14,
     "metadata": {},
     "output_type": "execute_result"
    }
   ],
   "source": [
    "begin_datetime = datetime.utcnow()\n",
    "begin_datetime\n",
    "\n",
    "filename=\"Traffic/2019-01-28/1839_Trafficspeed.gz\"\n",
    "\n",
    "cur.execute(f\"\"\"\n",
    "    INSERT INTO xml_txns (filename, begin_datetime) \n",
    "    VALUES ('{filename}', '{begin_datetime}') \n",
    "    ;\n",
    "\"\"\")\n",
    "\n",
    "connection.commit()"
   ]
  },
  {
   "cell_type": "code",
   "execution_count": null,
   "metadata": {},
   "outputs": [],
   "source": [
    "begin_datetime = datetime.utcnow()\n",
    "begin_datetime\n",
    "\n",
    "filename=\"Traffic/2019-01-28/1859_Trafficspeed.gz\"\n",
    "\n",
    "cur.execute(f\"\"\"\n",
    "    INSERT INTO xml_txns (filename, begin_datetime) \n",
    "    VALUES ('{filename}', '{begin_datetime}') \n",
    "    returning id\n",
    "    ;\n",
    "\"\"\")"
   ]
  },
  {
   "cell_type": "code",
   "execution_count": 32,
   "metadata": {},
   "outputs": [],
   "source": [
    "connection.commit()"
   ]
  },
  {
   "cell_type": "code",
   "execution_count": 23,
   "metadata": {},
   "outputs": [
    {
     "name": "stdout",
     "output_type": "stream",
     "text": [
      "5\n"
     ]
    }
   ],
   "source": [
    "rows = cur.fetchall()\n",
    "id = rows[0][0]\n",
    "print(id)"
   ]
  },
  {
   "cell_type": "code",
   "execution_count": 24,
   "metadata": {},
   "outputs": [],
   "source": [
    "def add_txn(connection, filename, begin_datetime):\n",
    "    time_stamp = datetime.utcnow()\n",
    "    cur = connection.cursor()\n",
    "    cur.execute(f\"\"\"\n",
    "        INSERT INTO xml_txns (filename, begin_datetime) \n",
    "        VALUES ('{filename}', '{begin_datetime}') \n",
    "        returning id\n",
    "        ;\n",
    "    \"\"\")\n",
    "    connection.commit()\n",
    "    rows = cur.fetchall()\n",
    "    cur.close()\n",
    "    return rows[0][0]"
   ]
  },
  {
   "cell_type": "code",
   "execution_count": 29,
   "metadata": {},
   "outputs": [],
   "source": [
    "def upd_txn(connection, id, status, num_locations=0):\n",
    "    end_datetime = datetime.utcnow()\n",
    "    cur = connection.cursor()\n",
    "    cur.execute(f\"\"\"\n",
    "        UPDATE xml_txns \n",
    "        SET \n",
    "            end_datetime='{end_datetime}' \n",
    "            ,status={status}\n",
    "            ,num_locations={num_locations} \n",
    "        WHERE id = {id};\n",
    "    \"\"\")\n",
    "    connection.commit()\n",
    "    cur.close()"
   ]
  },
  {
   "cell_type": "code",
   "execution_count": 30,
   "metadata": {},
   "outputs": [],
   "source": [
    "filename, begin_datetime =\"Traffic/2019-01-28/1859_Trafficspeed.gz\", datetime.utcnow()"
   ]
  },
  {
   "cell_type": "code",
   "execution_count": 31,
   "metadata": {},
   "outputs": [
    {
     "ename": "InternalError",
     "evalue": "current transaction is aborted, commands ignored until end of transaction block\n",
     "output_type": "error",
     "traceback": [
      "\u001b[0;31m---------------------------------------------------------------------------\u001b[0m",
      "\u001b[0;31mInternalError\u001b[0m                             Traceback (most recent call last)",
      "\u001b[0;32m<ipython-input-31-b01c622a5165>\u001b[0m in \u001b[0;36m<module>\u001b[0;34m()\u001b[0m\n\u001b[0;32m----> 1\u001b[0;31m \u001b[0mprint\u001b[0m\u001b[0;34m(\u001b[0m\u001b[0madd_txn\u001b[0m\u001b[0;34m(\u001b[0m\u001b[0mconnection\u001b[0m\u001b[0;34m,\u001b[0m \u001b[0mfilename\u001b[0m\u001b[0;34m,\u001b[0m \u001b[0mbegin_datetime\u001b[0m\u001b[0;34m)\u001b[0m\u001b[0;34m)\u001b[0m\u001b[0;34m\u001b[0m\u001b[0m\n\u001b[0m",
      "\u001b[0;32m<ipython-input-24-cef938a74254>\u001b[0m in \u001b[0;36madd_txn\u001b[0;34m(connection, filename, begin_datetime)\u001b[0m\n\u001b[1;32m      7\u001b[0m         \u001b[0mreturning\u001b[0m \u001b[0mid\u001b[0m\u001b[0;34m\u001b[0m\u001b[0m\n\u001b[1;32m      8\u001b[0m         \u001b[0;34m;\u001b[0m\u001b[0;34m\u001b[0m\u001b[0m\n\u001b[0;32m----> 9\u001b[0;31m     \"\"\")\n\u001b[0m\u001b[1;32m     10\u001b[0m     \u001b[0mconnection\u001b[0m\u001b[0;34m.\u001b[0m\u001b[0mcommit\u001b[0m\u001b[0;34m(\u001b[0m\u001b[0;34m)\u001b[0m\u001b[0;34m\u001b[0m\u001b[0m\n\u001b[1;32m     11\u001b[0m     \u001b[0mrows\u001b[0m \u001b[0;34m=\u001b[0m \u001b[0mcur\u001b[0m\u001b[0;34m.\u001b[0m\u001b[0mfetchall\u001b[0m\u001b[0;34m(\u001b[0m\u001b[0;34m)\u001b[0m\u001b[0;34m\u001b[0m\u001b[0m\n",
      "\u001b[0;31mInternalError\u001b[0m: current transaction is aborted, commands ignored until end of transaction block\n"
     ]
    }
   ],
   "source": [
    "print(add_txn(connection, filename, begin_datetime))"
   ]
  },
  {
   "cell_type": "code",
   "execution_count": 33,
   "metadata": {
    "scrolled": true
   },
   "outputs": [],
   "source": [
    "upd_txn(connection, 6, 0, num_locations=100)"
   ]
  },
  {
   "cell_type": "code",
   "execution_count": 34,
   "metadata": {},
   "outputs": [
    {
     "name": "stdout",
     "output_type": "stream",
     "text": [
      "[(6, 'Traffic/2019-01-28/1859_Trafficspeed.gz', datetime.datetime(2019, 1, 29, 3, 31, 52, 147585), datetime.datetime(2019, 1, 29, 3, 43, 41, 368948), 100, 0)]\n"
     ]
    }
   ],
   "source": [
    "cur.execute(\"select * from xml_txns where id=6;\")\n",
    "rows = cur.fetchall()\n",
    "print(rows)"
   ]
  },
  {
   "cell_type": "code",
   "execution_count": 6,
   "metadata": {},
   "outputs": [],
   "source": [
    "cur.execute(\"\"\"CREATE TABLE IF NOT EXISTS person (\n",
    "\tfirst_name text, last_name text, email text,\n",
    "\tPRIMARY KEY (email)\n",
    "\t);\"\"\")"
   ]
  },
  {
   "cell_type": "code",
   "execution_count": 7,
   "metadata": {},
   "outputs": [],
   "source": [
    "connection.commit()"
   ]
  },
  {
   "cell_type": "code",
   "execution_count": 11,
   "metadata": {},
   "outputs": [],
   "source": [
    "cur.execute(\"\"\"insert into person (first_name, last_name, email) \n",
    "    values('anna2','wang2','anna.wang2@yahoo.com');\n",
    "\"\"\")"
   ]
  },
  {
   "cell_type": "code",
   "execution_count": 12,
   "metadata": {},
   "outputs": [],
   "source": [
    "connection.commit()"
   ]
  },
  {
   "cell_type": "code",
   "execution_count": 16,
   "metadata": {},
   "outputs": [],
   "source": [
    "cur.close()"
   ]
  },
  {
   "cell_type": "code",
   "execution_count": 17,
   "metadata": {},
   "outputs": [],
   "source": [
    "connection.close()"
   ]
  },
  {
   "cell_type": "code",
   "execution_count": null,
   "metadata": {},
   "outputs": [],
   "source": []
  }
 ],
 "metadata": {
  "kernelspec": {
   "display_name": "Python 3",
   "language": "python",
   "name": "python3"
  },
  "language_info": {
   "codemirror_mode": {
    "name": "ipython",
    "version": 3
   },
   "file_extension": ".py",
   "mimetype": "text/x-python",
   "name": "python",
   "nbconvert_exporter": "python",
   "pygments_lexer": "ipython3",
   "version": "3.8.5"
  }
 },
 "nbformat": 4,
 "nbformat_minor": 2
}
