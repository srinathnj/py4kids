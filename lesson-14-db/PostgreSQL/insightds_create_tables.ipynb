{
 "cells": [
  {
   "cell_type": "markdown",
   "metadata": {},
   "source": [
    "http://www.postgresqltutorial.com/postgresql-python/create-tables/"
   ]
  },
  {
   "cell_type": "markdown",
   "metadata": {},
   "source": [
    "### Create table in AWS RDS/Postgres"
   ]
  },
  {
   "cell_type": "code",
   "execution_count": 1,
   "metadata": {},
   "outputs": [
    {
     "name": "stderr",
     "output_type": "stream",
     "text": [
      "/home/devopsgong/anaconda3/lib/python3.6/site-packages/psycopg2/__init__.py:144: UserWarning: The psycopg2 wheel package will be renamed from release 2.8; in order to keep installing from binary please use \"pip install psycopg2-binary\" instead. For details see: <http://initd.org/psycopg/docs/install.html#binary-install-from-pypi>.\n",
      "  \"\"\")\n"
     ]
    }
   ],
   "source": [
    "import psycopg2\n",
    "import os"
   ]
  },
  {
   "cell_type": "code",
   "execution_count": 13,
   "metadata": {},
   "outputs": [],
   "source": [
    "db_host = os.environ.get('AWS_PG_DB_HOST')\n",
    "db_name = os.environ.get('AWS_PG_DB_NAME')\n",
    "db_user = os.environ.get('AWS_PG_DB_USER')\n",
    "password = os.environ.get('AWS_PG_DB_PASS')\n",
    "\n",
    "db_connection_string = f\"dbname='{db_name}' user='{db_user}' host='{db_host}' password='{password}'\"\n",
    "\n",
    "connection = psycopg2.connect(db_connection_string)"
   ]
  },
  {
   "cell_type": "markdown",
   "metadata": {},
   "source": [
    "### create table = 'xml_schemas'\n",
    "\n",
    "this table stores XML schema"
   ]
  },
  {
   "cell_type": "code",
   "execution_count": 10,
   "metadata": {},
   "outputs": [
    {
     "name": "stdout",
     "output_type": "stream",
     "text": [
      "Found # rows 1\n"
     ]
    }
   ],
   "source": [
    "#\n",
    "# The table for storing known schemas\n",
    "#\n",
    "\n",
    "xml_table_name = 'xml_schemas'\n",
    "file_pattern_field, file_pattern_props = 'file_pattern', 'text'\n",
    "schema_time_field, schema_time_props = 'schema_datetime_utc', 'timestamp without time zone'\n",
    "schema_desc_field, schema_desc_props = 'schema_description', 'text'\n",
    "proc_schema_field, proc_schema_props = 'processing_schema', 'json NOT NULL'\n",
    "xml_schemas_pk = f'{file_pattern_field}, {schema_time_field}'\n",
    "\n",
    "\n",
    "def create_schemas_meta_table(connection):\n",
    "    \"\"\"\n",
    "    Creates a meta info table for storing known schemas.\n",
    "\n",
    "    :param connection: a connection to the database\n",
    "    \"\"\"\n",
    "    cur = connection.cursor()\n",
    "    cur.execute(f\"CREATE TABLE IF NOT EXISTS {xml_table_name} (\"\n",
    "                f\"{file_pattern_field} {file_pattern_props},\"\n",
    "                f\"{schema_time_field} {schema_time_props},\"\n",
    "                f\"{schema_desc_field} {schema_desc_props},\"\n",
    "                f\"{proc_schema_field} {proc_schema_props},\"\n",
    "                f\"PRIMARY KEY ({xml_schemas_pk}));\")\n",
    "\n",
    "    connection.commit()\n",
    "\n",
    "create_schemas_meta_table(connection)\n",
    "\n",
    "# verify\n",
    "cur = connection.cursor()\n",
    "cur.execute(f\"select count(*) from {xml_table_name};\")\n",
    "rows = cur.fetchall()\n",
    "print(\"Found # rows\", rows[0][0])\n",
    "cur.close()"
   ]
  },
  {
   "cell_type": "markdown",
   "metadata": {},
   "source": [
    "### create table = 'xml_log'\n",
    "\n",
    "this table stores detailed log "
   ]
  },
  {
   "cell_type": "code",
   "execution_count": 11,
   "metadata": {},
   "outputs": [],
   "source": [
    "xml_table_name = 'xml_log'\n",
    "time_field, time_props = 'date_time_utc', 'timestamp without time zone'\n",
    "file_field, file_props = 'file', 'text'\n",
    "status_field, status_props = 'status', 'smallint'  # possible values: succeeded, failed, processing, other = -1\n",
    "msgs_field, msgs_props = 'messages', 'text[] NOT NULL'\n",
    "xml_log_pk = f'{time_field}'\n",
    "\n",
    "\n",
    "def create_xml_log_table(connection):\n",
    "    cur = connection.cursor()\n",
    "    cur.execute(\n",
    "        f\"CREATE TABLE IF NOT EXISTS {xml_table_name} (\"\n",
    "        f\"{time_field} {time_props},\"\n",
    "        f\"{file_field} {file_props},\"\n",
    "        f\"{status_field} {status_props},\"\n",
    "        f\"{msgs_field} {msgs_props},\"\n",
    "        f\"PRIMARY KEY ({xml_log_pk}));\")\n",
    "\n",
    "    connection.commit()\n",
    "\n",
    "create_xml_log_table(connection)\n",
    "\n",
    "# verify\n",
    "cur = connection.cursor()\n",
    "cur.execute(f\"select count(*) from {xml_table_name};\")\n",
    "rows = cur.fetchall()\n",
    "print(\"Found # rows\", rows[0][0])\n",
    "cur.close()"
   ]
  },
  {
   "cell_type": "markdown",
   "metadata": {},
   "source": [
    "### create table = 'xml_txns'\n",
    "\n",
    "this table stores data processing per file"
   ]
  },
  {
   "cell_type": "code",
   "execution_count": 14,
   "metadata": {},
   "outputs": [],
   "source": [
    "xml_table_name = \"xml_txns\"\n",
    "\n",
    "def create_xml_txns_table(connection, table_name):\n",
    "    cur = connection.cursor()\n",
    "    \n",
    "    cur.execute(f\"\"\"\n",
    "        CREATE TABLE IF NOT EXISTS {table_name} (\n",
    "          id              SERIAL PRIMARY KEY,\n",
    "          filename        varchar(100) NOT NULL,\n",
    "          begin_datetime  timestamp,\n",
    "          end_datetime    timestamp,\n",
    "          num_locations   int default 0,\n",
    "          status          SMALLINT  default 2,  /* 0 - success, 1 - failed, 2 - processing */\n",
    "          msg             VARCHAR(1000)\n",
    "        );\n",
    "    \"\"\")\n",
    "\n",
    "    connection.commit()\n",
    "\n",
    "create_xml_txns_table(connection, xml_table_name)"
   ]
  },
  {
   "cell_type": "code",
   "execution_count": 20,
   "metadata": {},
   "outputs": [],
   "source": [
    "# create unique index\n",
    "xml_table_name = \"xml_txns\"\n",
    "xml_table_index_name = \"xml_txns_n1\"\n",
    "xml_table_idx_col_name = \"filename\"\n",
    "\n",
    "def create_xml_txns_index(connection, table_name, index_name, idx_col_name):\n",
    "    cur = connection.cursor()\n",
    "    \n",
    "    cur.execute(f\"\"\"\n",
    "        CREATE UNIQUE INDEX IF NOT EXISTS {index_name} ON {table_name}({idx_col_name});\n",
    "    \"\"\")\n",
    "\n",
    "    connection.commit()\n",
    "\n",
    "create_xml_txns_index(connection, xml_table_name,xml_table_index_name,xml_table_idx_col_name)"
   ]
  },
  {
   "cell_type": "code",
   "execution_count": 22,
   "metadata": {},
   "outputs": [
    {
     "name": "stdout",
     "output_type": "stream",
     "text": [
      "Found # rows 40\n"
     ]
    }
   ],
   "source": [
    "# verify\n",
    "cur = connection.cursor()\n",
    "cur.execute(f\"select count(*) from {xml_table_name};\")\n",
    "rows = cur.fetchall()\n",
    "print(\"Found # rows\", rows[0][0])\n",
    "cur.close()"
   ]
  },
  {
   "cell_type": "code",
   "execution_count": 17,
   "metadata": {},
   "outputs": [],
   "source": [
    "# close connection\n",
    "connection.close()"
   ]
  },
  {
   "cell_type": "code",
   "execution_count": null,
   "metadata": {},
   "outputs": [],
   "source": []
  }
 ],
 "metadata": {
  "kernelspec": {
   "display_name": "Python 3",
   "language": "python",
   "name": "python3"
  },
  "language_info": {
   "codemirror_mode": {
    "name": "ipython",
    "version": 3
   },
   "file_extension": ".py",
   "mimetype": "text/x-python",
   "name": "python",
   "nbconvert_exporter": "python",
   "pygments_lexer": "ipython3",
   "version": "3.8.5"
  }
 },
 "nbformat": 4,
 "nbformat_minor": 2
}
