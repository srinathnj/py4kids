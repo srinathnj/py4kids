{
 "cells": [
  {
   "cell_type": "markdown",
   "metadata": {},
   "source": [
    "http://www.postgresqltutorial.com/postgresql-python/create-tables/"
   ]
  },
  {
   "cell_type": "code",
   "execution_count": 18,
   "metadata": {},
   "outputs": [],
   "source": [
    "import os, time\n",
    "import psycopg2\n",
    "import subprocess"
   ]
  },
  {
   "cell_type": "code",
   "execution_count": 19,
   "metadata": {},
   "outputs": [],
   "source": [
    "poll_freq = 10  # 10 sec\n",
    "poll_timeout = 5*60     # 5 min\n",
    "\n",
    "s3bucket = os.environ.get('AWS_S3_BUCKET')\n",
    "db_host = os.environ.get('AWS_PG_DB_HOST')\n",
    "db_name = os.environ.get('AWS_PG_DB_NAME')\n",
    "db_user = os.environ.get('AWS_PG_DB_USER')\n",
    "password = os.environ.get('AWS_PG_DB_PASS')\n",
    "\n",
    "db_connection_string = f\"dbname='{db_name}' user='{db_user}' host='{db_host}' password='{password}'\"\n",
    "\n",
    "connection = psycopg2.connect(db_connection_string)"
   ]
  },
  {
   "cell_type": "code",
   "execution_count": 20,
   "metadata": {},
   "outputs": [],
   "source": [
    "def get_txn_status(connection, s3_filename, poll_freq, poll_timeout):\n",
    "    cur = connection.cursor()\n",
    "    sql_statement = f\"select id,status from xml_txns where filename='{s3_filename}' order by status limit 1;\"\n",
    "    for i in range(int(poll_timeout/poll_freq)):\n",
    "        cur.execute(sql_statement)\n",
    "        rows = cur.fetchall()\n",
    "        if len(rows):\n",
    "            id_txn, status = rows[0][0], rows[0][1]\n",
    "            if status == 0 or status == 1: \n",
    "                break\n",
    "        time.sleep(poll_freq)\n",
    "\n",
    "    if status == 0:\n",
    "        ret_msg = \"Success\"\n",
    "    elif status == 1:\n",
    "        ret_msg = \"Failed\"\n",
    "    else:\n",
    "        ret_msg = \"Timeout\"\n",
    "\n",
    "    # beyond timeout to check Lambda if fired on test-event\n",
    "    cur.execute(sql_statement)\n",
    "    rows = cur.fetchall()\n",
    "    if len(rows) == 0:\n",
    "        status, ret_msg = 1, \"Lambda error\"\n",
    "    \n",
    "    cur.close()\n",
    "           \n",
    "    return status, ret_msg"
   ]
  },
  {
   "cell_type": "code",
   "execution_count": 21,
   "metadata": {},
   "outputs": [],
   "source": [
    "# download traffic data\n",
    "# !wget -O trafficspeed.xml.gz http://opendata.ndw.nu/trafficspeed.xml.gz\n",
    "cmd = \"wget -O trafficspeed.xml.gz http://opendata.ndw.nu/trafficspeed.xml.gz\"\n",
    "wget=subprocess.run(cmd.split(), stdout=subprocess.PIPE).stdout.decode('utf-8')"
   ]
  },
  {
   "cell_type": "code",
   "execution_count": 22,
   "metadata": {},
   "outputs": [],
   "source": [
    "# dt=!env TZ=Europe/Amsterdam date +%Y-%m-%d:%H%M\n",
    "cmd = \"env TZ=Europe/Amsterdam date +%Y-%m-%d:%H%M\"\n",
    "dt=subprocess.run(cmd.split(), stdout=subprocess.PIPE).stdout.decode('utf-8')\n",
    "# dt[:10],dt[11:15]"
   ]
  },
  {
   "cell_type": "code",
   "execution_count": 24,
   "metadata": {},
   "outputs": [
    {
     "name": "stdout",
     "output_type": "stream",
     "text": [
      "(0, 'Success')\n"
     ]
    }
   ],
   "source": [
    "s3_filename = f\"Traffic/{dt[:10]}/{dt[11:15]}_Trafficspeed.gz\"\n",
    "cmd = f\"aws s3 cp trafficspeed.xml.gz s3://{s3bucket}/{s3_filename}\"\n",
    "aws_s3_cp=subprocess.run(cmd.split(), stdout=subprocess.PIPE).stdout.decode('utf-8')\n",
    "\n",
    "print(get_txn_status(connection, s3_filename, poll_freq, poll_timeout))\n",
    "\n",
    "connection.close()"
   ]
  },
  {
   "cell_type": "code",
   "execution_count": null,
   "metadata": {},
   "outputs": [],
   "source": []
  }
 ],
 "metadata": {
  "kernelspec": {
   "display_name": "Python 3",
   "language": "python",
   "name": "python3"
  },
  "language_info": {
   "codemirror_mode": {
    "name": "ipython",
    "version": 3
   },
   "file_extension": ".py",
   "mimetype": "text/x-python",
   "name": "python",
   "nbconvert_exporter": "python",
   "pygments_lexer": "ipython3",
   "version": "3.8.5"
  }
 },
 "nbformat": 4,
 "nbformat_minor": 2
}
