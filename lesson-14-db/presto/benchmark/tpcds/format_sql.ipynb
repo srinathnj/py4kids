{
 "cells": [
  {
   "cell_type": "code",
   "execution_count": 28,
   "metadata": {},
   "outputs": [],
   "source": [
    "import glob\n",
    "from pathlib import Path"
   ]
  },
  {
   "cell_type": "code",
   "execution_count": 29,
   "metadata": {},
   "outputs": [],
   "source": [
    "database, schema = \"tpcds\", \"tiny\"\n",
    "\n",
    "p = Path(f\"{schema}\")\n",
    "p.mkdir(parents=True,exist_ok=True)"
   ]
  },
  {
   "cell_type": "code",
   "execution_count": 30,
   "metadata": {},
   "outputs": [],
   "source": [
    "for f in glob.glob(\"*.sql\"):\n",
    "    (p/f).open(\"w\").write(open(f).read().replace(\"$\",\"\")\\\n",
    "        .format(database=database, schema=schema))"
   ]
  },
  {
   "cell_type": "code",
   "execution_count": null,
   "metadata": {},
   "outputs": [],
   "source": []
  },
  {
   "cell_type": "code",
   "execution_count": 4,
   "metadata": {},
   "outputs": [
    {
     "data": {
      "text/plain": [
       "['q94.sql', 'q60.sql']"
      ]
     },
     "execution_count": 4,
     "metadata": {},
     "output_type": "execute_result"
    }
   ],
   "source": [
    "files_sql[:2]"
   ]
  },
  {
   "cell_type": "code",
   "execution_count": 25,
   "metadata": {},
   "outputs": [],
   "source": [
    "x = open(files_sql[0]).read()\n",
    "x.replace(\"$\",\"\").format(database=database, schema=schema)"
   ]
  },
  {
   "cell_type": "code",
   "execution_count": 26,
   "metadata": {},
   "outputs": [
    {
     "data": {
      "text/plain": [
       "'SELECT\\n  \"count\"(DISTINCT \"ws_order_number\") \"order count\"\\n, \"sum\"(\"ws_ext_ship_cost\") \"total shipping cost\"\\n, \"sum\"(\"ws_net_profit\") \"total net profit\"\\nFROM\\n  ${database}.${schema}.web_sales ws1\\n, ${database}.${schema}.date_dim\\n, ${database}.${schema}.customer_address\\n, ${database}.${schema}.web_site\\nWHERE (\"d_date\" BETWEEN CAST(\\'1999-2-01\\' AS DATE) AND (CAST(\\'1999-2-01\\' AS DATE) + INTERVAL  \\'60\\' DAY))\\n   AND (\"ws1\".\"ws_ship_date_sk\" = \"d_date_sk\")\\n   AND (\"ws1\".\"ws_ship_addr_sk\" = \"ca_address_sk\")\\n   AND (\"ca_state\" = \\'IL\\')\\n   AND (\"ws1\".\"ws_web_site_sk\" = \"web_site_sk\")\\n   AND (\"web_company_name\" = \\'pri\\')\\n   AND (EXISTS (\\n   SELECT *\\n   FROM\\n     ${database}.${schema}.web_sales ws2\\n   WHERE (\"ws1\".\"ws_order_number\" = \"ws2\".\"ws_order_number\")\\n      AND (\"ws1\".\"ws_warehouse_sk\" <> \"ws2\".\"ws_warehouse_sk\")\\n))\\n   AND (NOT (EXISTS (\\n   SELECT *\\n   FROM\\n     ${database}.${schema}.web_returns wr1\\n   WHERE (\"ws1\".\"ws_order_number\" = \"wr1\".\"wr_order_number\")\\n)))\\nORDER BY \"count\"(DISTINCT \"ws_order_number\") ASC\\nLIMIT 100\\n'"
      ]
     },
     "execution_count": 26,
     "metadata": {},
     "output_type": "execute_result"
    }
   ],
   "source": [
    "x"
   ]
  },
  {
   "cell_type": "code",
   "execution_count": 7,
   "metadata": {},
   "outputs": [],
   "source": [
    "sql_tiny = sql.replace(\"$\",\"\").format(database=database, schema=schema)"
   ]
  },
  {
   "cell_type": "code",
   "execution_count": 8,
   "metadata": {},
   "outputs": [
    {
     "name": "stdout",
     "output_type": "stream",
     "text": [
      "SELECT\n",
      "  \"count\"(DISTINCT \"ws_order_number\") \"order count\"\n",
      ", \"sum\"(\"ws_ext_ship_cost\") \"total shipping cost\"\n",
      ", \"sum\"(\"ws_net_profit\") \"total net profit\"\n",
      "FROM\n",
      "  tpcds.tiny.web_sales ws1\n",
      ", tpcds.tiny.date_dim\n",
      ", tpcds.tiny.customer_address\n",
      ", tpcds.tiny.web_site\n",
      "WHERE (\"d_date\" BETWEEN CAST('1999-2-01' AS DATE) AND (CAST('1999-2-01' AS DATE) + INTERVAL  '60' DAY))\n",
      "   AND (\"ws1\".\"ws_ship_date_sk\" = \"d_date_sk\")\n",
      "   AND (\"ws1\".\"ws_ship_addr_sk\" = \"ca_address_sk\")\n",
      "   AND (\"ca_state\" = 'IL')\n",
      "   AND (\"ws1\".\"ws_web_site_sk\" = \"web_site_sk\")\n",
      "   AND (\"web_company_name\" = 'pri')\n",
      "   AND (EXISTS (\n",
      "   SELECT *\n",
      "   FROM\n",
      "     tpcds.tiny.web_sales ws2\n",
      "   WHERE (\"ws1\".\"ws_order_number\" = \"ws2\".\"ws_order_number\")\n",
      "      AND (\"ws1\".\"ws_warehouse_sk\" <> \"ws2\".\"ws_warehouse_sk\")\n",
      "))\n",
      "   AND (NOT (EXISTS (\n",
      "   SELECT *\n",
      "   FROM\n",
      "     tpcds.tiny.web_returns wr1\n",
      "   WHERE (\"ws1\".\"ws_order_number\" = \"wr1\".\"wr_order_number\")\n",
      ")))\n",
      "ORDER BY \"count\"(DISTINCT \"ws_order_number\") ASC\n",
      "LIMIT 100\n",
      "\n"
     ]
    }
   ],
   "source": [
    "print(sql_tiny)"
   ]
  },
  {
   "cell_type": "code",
   "execution_count": 23,
   "metadata": {},
   "outputs": [
    {
     "data": {
      "text/plain": [
       "'tpcds/tiny/q94.sql'"
      ]
     },
     "execution_count": 23,
     "metadata": {},
     "output_type": "execute_result"
    }
   ],
   "source": [
    "f_out"
   ]
  },
  {
   "cell_type": "code",
   "execution_count": 24,
   "metadata": {},
   "outputs": [
    {
     "data": {
      "text/plain": [
       "964"
      ]
     },
     "execution_count": 24,
     "metadata": {},
     "output_type": "execute_result"
    }
   ],
   "source": [
    "(p/files_sql[0]).open(\"w\").write(sql_tiny)"
   ]
  },
  {
   "cell_type": "code",
   "execution_count": null,
   "metadata": {},
   "outputs": [],
   "source": []
  }
 ],
 "metadata": {
  "kernelspec": {
   "display_name": "Python 3",
   "language": "python",
   "name": "python3"
  },
  "language_info": {
   "codemirror_mode": {
    "name": "ipython",
    "version": 3
   },
   "file_extension": ".py",
   "mimetype": "text/x-python",
   "name": "python",
   "nbconvert_exporter": "python",
   "pygments_lexer": "ipython3",
   "version": "3.8.10"
  }
 },
 "nbformat": 4,
 "nbformat_minor": 4
}
