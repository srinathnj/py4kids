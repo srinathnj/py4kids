{
 "cells": [
  {
   "cell_type": "markdown",
   "id": "f7e8cb8b",
   "metadata": {},
   "source": [
    "\n",
    "Google Generative AI answers:\n",
    "\n",
    "Python cv2 is a library that provides numerous computer vision functionalities for Python. It is a cross-platform library that can be used on Windows, Linux, and Mac OS X. It is written in C++ and has bindings for Python, Java, and C.\n",
    "Python cv2 can be used for a variety of tasks, including:\n",
    "* Image processing\n",
    "* Video processing\n",
    "* Object detection\n",
    "* Facial recognition\n",
    "* License plate reading\n",
    "* Optical character recognition\n",
    "* And much more\n",
    "\n",
    "Python cv2 is a powerful tool for computer vision and can be used to solve a variety of problems. It is easy to learn and use, and there are many resources available online to help you get started.\n",
    "Here are some examples of how Python cv2 can be used:\n",
    "* You can use Python cv2 to process images and videos. For example, you can resize images, crop images, and apply filters to images. You can also use Python cv2 to extract features from images, such as edges and corners.\n",
    "* You can use Python cv2 to detect objects in images and videos. For example, you can detect faces, cars, and other objects. You can also use Python cv2 to track the movement of objects.\n",
    "* You can use Python cv2 to recognize faces. This can be used for security applications, such as access control.\n",
    "* You can use Python cv2 to read license plates. This can be used for traffic enforcement and other applications.\n",
    "* You can use Python cv2 to recognize text in images. This can be used for document processing and other applications.\n",
    "\n",
    "These are just a few examples of how Python cv2 can be used. If you are interested in computer vision, Python cv2 is a great tool to learn.\n",
    "\n",
    "```\n",
    "pip install opencv-python \n",
    "```\n",
    "\n",
    "\n",
    "https://www.geeksforgeeks.org/python-opencv-imdecode-function/"
   ]
  },
  {
   "cell_type": "code",
   "execution_count": 1,
   "id": "ce6f7028",
   "metadata": {},
   "outputs": [],
   "source": [
    "#import modules\n",
    "import numpy as np\n",
    "import urllib.request\n",
    "import cv2"
   ]
  },
  {
   "cell_type": "code",
   "execution_count": 2,
   "id": "118bd73e",
   "metadata": {},
   "outputs": [],
   "source": [
    "# read the image url\n",
    "url = 'https://media.geeksforgeeks.org/wp-content/uploads/20211003151646/geeks14.png'\n",
    "\n",
    "\n",
    "with urllib.request.urlopen(url) as resp:\n",
    "\t\n",
    "\t# read image as an numpy array\n",
    "\timage = np.asarray(bytearray(resp.read()), dtype=\"uint8\")\n",
    "\t\n",
    "\t# use imdecode function\n",
    "\timage = cv2.imdecode(image, cv2.IMREAD_COLOR)\n",
    "\n",
    "\t# display image\n",
    "\tcv2.imwrite(\"geek2geek.jpg\", image)"
   ]
  },
  {
   "cell_type": "code",
   "execution_count": 3,
   "id": "71d7d750",
   "metadata": {},
   "outputs": [
    {
     "name": "stdout",
     "output_type": "stream",
     "text": [
      "geek2geek.jpg\r\n"
     ]
    }
   ],
   "source": [
    "!ls *.jpg"
   ]
  },
  {
   "cell_type": "code",
   "execution_count": 4,
   "id": "f0596a8f",
   "metadata": {},
   "outputs": [
    {
     "name": "stdout",
     "output_type": "stream",
     "text": [
      "/home/wengong/projects/wgong/py4kids/lesson-99-misc/emoji\r\n"
     ]
    }
   ],
   "source": [
    "!pwd"
   ]
  },
  {
   "cell_type": "raw",
   "id": "1b34cff2",
   "metadata": {},
   "source": [
    "# Read the image\n",
    "image = cv2.imread(\"geek2geek.jpg\")\n",
    "\n",
    "# Display the image\n",
    "cv2.imshow(\"Image\", image)"
   ]
  },
  {
   "cell_type": "code",
   "execution_count": 1,
   "id": "c5e52c0c",
   "metadata": {},
   "outputs": [
    {
     "data": {
      "image/jpeg": "[encoded data removed]",
      "text/plain": [
       "<IPython.core.display.Image object>"
      ]
     },
     "metadata": {},
     "output_type": "display_data"
    }
   ],
   "source": [
    "import IPython.display\n",
    "\n",
    "image = IPython.display.Image(\"geek2geek.jpg\")\n",
    "\n",
    "IPython.display.display(image) "
   ]
  },
  {
   "cell_type": "code",
   "execution_count": null,
   "id": "c0522390",
   "metadata": {},
   "outputs": [],
   "source": []
  }
 ],
 "metadata": {
  "kernelspec": {
   "display_name": "Python 3 (ipykernel)",
   "language": "python",
   "name": "python3"
  },
  "language_info": {
   "codemirror_mode": {
    "name": "ipython",
    "version": 3
   },
   "file_extension": ".py",
   "mimetype": "text/x-python",
   "name": "python",
   "nbconvert_exporter": "python",
   "pygments_lexer": "ipython3",
   "version": "3.10.6"
  }
 },
 "nbformat": 4,
 "nbformat_minor": 5
}
