{
 "cells": [
  {
   "cell_type": "code",
   "execution_count": 5,
   "metadata": {},
   "outputs": [],
   "source": [
    "def sanitize(words, exception=None):\n",
    "    \"\"\"\n",
    "    Create a map of sensitive words using a simple rule: w[0] + len(w)-2 + w[-1]\n",
    "    \n",
    "    words (list): words to map\n",
    "    \n",
    "    exception (dict): initial map for special words\n",
    "    \n",
    "    \"\"\"\n",
    "    dic = exception.copy() if exception else {}\n",
    "    for w in words:\n",
    "        if w in dic: \n",
    "            continue\n",
    "        \n",
    "        if len(w) > 3:\n",
    "            dic[w] = w[0] + str(len(w)-2) + w[-1]\n",
    "        else:\n",
    "            dic[w] = w\n",
    "            \n",
    "    return dic"
   ]
  },
  {
   "cell_type": "code",
   "execution_count": 22,
   "metadata": {},
   "outputs": [],
   "source": [
    "sanmap = sanitize(['gong','vanguard','5782-4746-5916'], {'gmail':'email'})"
   ]
  },
  {
   "cell_type": "code",
   "execution_count": 23,
   "metadata": {},
   "outputs": [
    {
     "data": {
      "text/plain": [
       "{'gmail': 'email', 'gong': 'g2g', 'vanguard': 'v6d', '5782-4746-5916': '5126'}"
      ]
     },
     "execution_count": 23,
     "metadata": {},
     "output_type": "execute_result"
    }
   ],
   "source": [
    "sanmap"
   ]
  },
  {
   "cell_type": "code",
   "execution_count": 28,
   "metadata": {},
   "outputs": [],
   "source": [
    "import json\n",
    "with open(\"sanmap.json\", \"w\") as f:\n",
    "    f.write(json.dumps(sanmap))"
   ]
  },
  {
   "cell_type": "code",
   "execution_count": 29,
   "metadata": {},
   "outputs": [
    {
     "name": "stdout",
     "output_type": "stream",
     "text": [
      "sanmap.json\r\n"
     ]
    }
   ],
   "source": [
    "!ls sanmap.json"
   ]
  },
  {
   "cell_type": "code",
   "execution_count": 24,
   "metadata": {},
   "outputs": [],
   "source": [
    "def apply_sanmap(buf, sanmap):\n",
    "    for k,v in sanmap.items():\n",
    "        buf = buf.replace(k,v)\n",
    "    return buf"
   ]
  },
  {
   "cell_type": "code",
   "execution_count": 25,
   "metadata": {},
   "outputs": [],
   "source": [
    "s = \"\"\"\n",
    "wen.g.gong@gmail.com\n",
    "AWS account_ID 5782-4746-5916\n",
    "wen_gong@vanguard.com\n",
    "\"\"\""
   ]
  },
  {
   "cell_type": "code",
   "execution_count": 26,
   "metadata": {},
   "outputs": [
    {
     "name": "stdout",
     "output_type": "stream",
     "text": [
      "\n",
      "wen.g.g2g@email.com\n",
      "AWS account_ID 5126\n",
      "wen_g2g@v6d.com\n",
      "\n"
     ]
    }
   ],
   "source": [
    "print(apply_san_map(s, san_map))"
   ]
  },
  {
   "cell_type": "code",
   "execution_count": 10,
   "metadata": {},
   "outputs": [],
   "source": [
    "from pathlib import Path"
   ]
  },
  {
   "cell_type": "code",
   "execution_count": 11,
   "metadata": {},
   "outputs": [
    {
     "name": "stdout",
     "output_type": "stream",
     "text": [
      "/home/gong/projects/py4kids\r\n"
     ]
    }
   ],
   "source": [
    "!pwd"
   ]
  },
  {
   "cell_type": "code",
   "execution_count": 12,
   "metadata": {},
   "outputs": [],
   "source": [
    "file_exts = ['py', 'ipynb', 'md', 'txt']"
   ]
  },
  {
   "cell_type": "code",
   "execution_count": null,
   "metadata": {},
   "outputs": [],
   "source": [
    "for ext in file_exts:\n",
    "    for p in Path('.').rglob(\"*.\" + ext):\n",
    "        with open(p.name) as fi:\n",
    "            tmp = fi.read()\n",
    "        with open(p.name, 'w') as fo:\n",
    "            fo.write(apply_sanmap(tmp, sanmap))"
   ]
  },
  {
   "cell_type": "code",
   "execution_count": 32,
   "metadata": {},
   "outputs": [],
   "source": [
    "import os.path"
   ]
  },
  {
   "cell_type": "code",
   "execution_count": 37,
   "metadata": {},
   "outputs": [],
   "source": [
    "file_sanmap = \"/home/gong/bin/sanmap.json\"\n",
    "if os.path.exists(file_sanmap):\n",
    "    with open(file_sanmap) as f:\n",
    "        sanmap2 = json.load(f)"
   ]
  },
  {
   "cell_type": "code",
   "execution_count": 38,
   "metadata": {},
   "outputs": [
    {
     "data": {
      "text/plain": [
       "{'gmail': 'email', 'gong': 'g2g', 'vanguard': 'v6d', '5782-4746-5916': '5126'}"
      ]
     },
     "execution_count": 38,
     "metadata": {},
     "output_type": "execute_result"
    }
   ],
   "source": [
    "sanmap2"
   ]
  },
  {
   "cell_type": "code",
   "execution_count": 39,
   "metadata": {},
   "outputs": [
    {
     "data": {
      "text/plain": [
       "{'gmail': 'email', 'gong': 'g2g', 'vanguard': 'v6d', '5782-4746-5916': '5126'}"
      ]
     },
     "execution_count": 39,
     "metadata": {},
     "output_type": "execute_result"
    }
   ],
   "source": [
    "sanmap"
   ]
  },
  {
   "cell_type": "code",
   "execution_count": null,
   "metadata": {},
   "outputs": [],
   "source": []
  }
 ],
 "metadata": {
  "kernelspec": {
   "display_name": "Python 3",
   "language": "python",
   "name": "python3"
  },
  "language_info": {
   "codemirror_mode": {
    "name": "ipython",
    "version": 3
   },
   "file_extension": ".py",
   "mimetype": "text/x-python",
   "name": "python",
   "nbconvert_exporter": "python",
   "pygments_lexer": "ipython3",
   "version": "3.7.3"
  }
 },
 "nbformat": 4,
 "nbformat_minor": 2
}
