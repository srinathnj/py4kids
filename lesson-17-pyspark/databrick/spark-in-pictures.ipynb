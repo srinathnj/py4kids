{
 "cells": [
  {
   "cell_type": "markdown",
   "metadata": {},
   "source": [
    "Spark\n",
    "\n",
    "<img src=spark-images/what-is-spark.png>"
   ]
  },
  {
   "cell_type": "markdown",
   "metadata": {},
   "source": [
    "Spark components\n",
    "\n",
    "<img src=spark-images/spark-components.png>"
   ]
  },
  {
   "cell_type": "markdown",
   "metadata": {},
   "source": [
    "Spark Eco-system\n",
    "\n",
    "<img src=spark-images/arch-01.png>"
   ]
  },
  {
   "cell_type": "markdown",
   "metadata": {},
   "source": [
    "Spark application components\n",
    "\n",
    "<img src=spark-images/arch-02.png>"
   ]
  },
  {
   "cell_type": "markdown",
   "metadata": {},
   "source": [
    "Spark session\n",
    "\n",
    "<img src=spark-images/spark-session.png>"
   ]
  },
  {
   "cell_type": "markdown",
   "metadata": {},
   "source": [
    "Spark worker node\n",
    "\n",
    "One work node can start 1 or more executor JVM\n",
    "\n",
    "<img src=spark-images/worker-node.png>"
   ]
  },
  {
   "cell_type": "markdown",
   "metadata": {},
   "source": [
    "Spark client/cluster\n",
    "\n",
    "<img src=spark-images/jvm-driver.png>"
   ]
  },
  {
   "cell_type": "markdown",
   "metadata": {},
   "source": [
    "Spark Cluster\n",
    "\n",
    "No. of slots = (2-3) x No. cores in work node\n",
    "\n",
    "Task runs in a slot\n",
    "\n",
    "<img src=spark-images/spark-cluster.png>"
   ]
  },
  {
   "cell_type": "markdown",
   "metadata": {},
   "source": [
    "Spark architecture\n",
    "\n",
    "<img src=spark-images/spark-arch-2.png>"
   ]
  },
  {
   "cell_type": "markdown",
   "metadata": {},
   "source": [
    "Job > stage > task\n",
    "\n",
    "\n",
    "<img src=spark-images/job-stage-task.png>"
   ]
  },
  {
   "cell_type": "markdown",
   "metadata": {},
   "source": [
    "Action > job > stage > task\n",
    "\n",
    "Driver program splits a spark application into jobs (a job maps to an action), then schedules jobs and submit them to work nodes via cluster manager. A job is broken into stage(s) by shuffle boundry. Tasks run inside slots in parallel without shuffling. \n",
    "\n",
    "\n",
    "<img src=spark-images/action-job-stage-task.png>"
   ]
  },
  {
   "cell_type": "markdown",
   "metadata": {},
   "source": [
    "Spark runtime - Driver\n",
    "\n",
    "\n",
    "<img src=spark-images/spark-runtime.jpg>"
   ]
  },
  {
   "cell_type": "markdown",
   "metadata": {},
   "source": [
    "Spark DAG Scheduler\n",
    "\n",
    "\n",
    "<img src=spark-images/dag-scheduler.png>"
   ]
  },
  {
   "cell_type": "markdown",
   "metadata": {},
   "source": [
    "Optimization-Execution pipeline\n",
    "\n",
    "Application > Analysis > Logical Plan > Optimized Logical Plan > Physical Plans > CBO > Optimized Physical Plan > Code Generation > RDD > JVM\n",
    "\n",
    "<img src=spark-images/optimization-execution.png>"
   ]
  },
  {
   "cell_type": "markdown",
   "metadata": {},
   "source": [
    "Spark SQL\n",
    "\n",
    "<img src=spark-images/spark-sql.png>"
   ]
  },
  {
   "cell_type": "markdown",
   "metadata": {},
   "source": [
    "Spark cluster modes\n",
    "\n",
    "- Local\n",
    "- Standalone (spark)\n",
    "- YARN\n",
    "- Mesos\n",
    "\n",
    "<img src=spark-images/cluster-modes.png>"
   ]
  },
  {
   "cell_type": "markdown",
   "metadata": {},
   "source": [
    "Spark cluster / deployment modes\n",
    "\n",
    "<img src=spark-images/deploy-model.png>"
   ]
  },
  {
   "cell_type": "markdown",
   "metadata": {},
   "source": [
    "Spark submit master settings\n",
    "\n",
    "<img src=spark-images/spark-submit-master-options.png>"
   ]
  },
  {
   "cell_type": "markdown",
   "metadata": {},
   "source": [
    "Spark submit\n",
    "<img src=spark-images/spark-submit-options.png>"
   ]
  },
  {
   "cell_type": "markdown",
   "metadata": {},
   "source": [
    "Local mode\n",
    "\n",
    "<img src=spark-images/spark-local.png>"
   ]
  },
  {
   "cell_type": "markdown",
   "metadata": {},
   "source": [
    "Spark standalone\n",
    "\n",
    "<img src=spark-images/spark-standalone.png>"
   ]
  },
  {
   "cell_type": "markdown",
   "metadata": {},
   "source": [
    "Spark standalone settings\n",
    "\n",
    "<img src=spark-images/spark-standalone-settings.png>"
   ]
  },
  {
   "cell_type": "markdown",
   "metadata": {},
   "source": [
    "Spark yarn\n",
    "\n",
    "<img src=spark-images/spark-yarn.png>"
   ]
  },
  {
   "cell_type": "markdown",
   "metadata": {},
   "source": [
    "Spark yarn\n",
    "\n",
    "<img src=spark-images/spark-yarn-cluster.png>"
   ]
  },
  {
   "cell_type": "markdown",
   "metadata": {},
   "source": [
    "Spark yarn settings\n",
    "\n",
    "<img src=spark-images/spark-yarn-cluster-settings.png>"
   ]
  },
  {
   "cell_type": "markdown",
   "metadata": {},
   "source": [
    "Spark yarn - multi-apps\n",
    "\n",
    "<img src=spark-images/spark-yarn-2.png>"
   ]
  },
  {
   "cell_type": "markdown",
   "metadata": {},
   "source": [
    "Spark submit - yarn\n",
    "\n",
    "<img src=spark-images/spark-submit-yarn.png>"
   ]
  },
  {
   "cell_type": "markdown",
   "metadata": {},
   "source": [
    "Spark SQL/DataFrames API\n",
    "\n",
    "<img src=spark-images/pyspark3-docs.png>"
   ]
  },
  {
   "cell_type": "markdown",
   "metadata": {},
   "source": [
    "Spark action vs transformation\n",
    "\n",
    "<img src=spark-images/transformation-action.png>"
   ]
  },
  {
   "cell_type": "markdown",
   "metadata": {},
   "source": [
    "Spark actions\n",
    "\n",
    "<img src=spark-images/api-actions.png>"
   ]
  },
  {
   "cell_type": "markdown",
   "metadata": {},
   "source": [
    "Spark transformations: narrow vs wide\n",
    "\n",
    "<img src=spark-images/wide-vs-narrow-transformation.png>"
   ]
  },
  {
   "cell_type": "markdown",
   "metadata": {},
   "source": [
    "Spark StorageLevel\n",
    "\n",
    "5 controls:\n",
    "- Disk\n",
    "- Memory\n",
    "- (De)Serialization\n",
    "- JVM Heap\n",
    "- Replication\n",
    "\n",
    "<img src=spark-images/storage-level.png>"
   ]
  },
  {
   "cell_type": "markdown",
   "metadata": {},
   "source": [
    "Data types\n",
    "\n",
    "<img src=spark-images/datatypes.png>"
   ]
  },
  {
   "cell_type": "markdown",
   "metadata": {},
   "source": [
    "Data Sources\n",
    "\n",
    "<img src=spark-images/data-sources.png>"
   ]
  },
  {
   "cell_type": "markdown",
   "metadata": {},
   "source": [
    "Spark structured streaming\n",
    "\n",
    "<img src=spark-images/spark-structured-streaming.png>"
   ]
  },
  {
   "cell_type": "markdown",
   "metadata": {},
   "source": [
    "Spark Data stream as unbound table\n",
    "\n",
    "<img src=spark-images/spark-data-stream.png>"
   ]
  },
  {
   "cell_type": "markdown",
   "metadata": {},
   "source": [
    "Spark streaming\n",
    "\n",
    "<img src=spark-images/structured-stream.png>"
   ]
  },
  {
   "cell_type": "markdown",
   "metadata": {},
   "source": [
    "## Appendix"
   ]
  },
  {
   "cell_type": "markdown",
   "metadata": {},
   "source": [
    "Spark UI\n",
    "\n",
    "<img src=spark-images/spark-ui.png>"
   ]
  },
  {
   "cell_type": "markdown",
   "metadata": {},
   "source": [
    "Big data processing systems\n",
    "\n",
    "<img src=spark-images/big-data-engine.png>"
   ]
  },
  {
   "cell_type": "markdown",
   "metadata": {},
   "source": [
    "IO speeds\n",
    "\n",
    "<img src=spark-images/IO-speeds.png>"
   ]
  },
  {
   "cell_type": "markdown",
   "metadata": {},
   "source": [
    "### Resources\n",
    "\n",
    "- [7 steps to Spark](https://pages.databricks.com/rs/094-YMS-629/images/7-steps-for-a-developer-to-learn-apache-spark.pdf?mkt_tok=eyJpIjoiWWprMFpHVXlNV0ppWkRsaiIsInQiOiJ1cVBXVm1hbDE5VFlVbWdyMENveDRSYWJ1WHozUDFEVDBCanFzVzZMWTdkSUxVZlp2RElkQWlWaFZjeEE2ZDU3bU5kMk0wbUVSbVFOVG43K2RSN0JPcUVxbm52UzAwMFRWSStoWXViZGpXTmFcL2R3SGpEUnFQSEU4OThBK3V5ZnAifQ%3D%3D)\n",
    "- [Spark Certification Study Guide - Part 1 (Core)](https://www.rakirahman.me/spark-certification-study-guide-part-1/)\n",
    "- [Spark Certification Study Guide - Part 2 (Code)](https://www.rakirahman.me/spark-certification-study-guide-part-2)\n",
    "- [Spark study notes](https://docs.google.com/spreadsheets/d/1AuvsTCTxzx1wBMkG-rvfwNpuoQoG9ISuXqQZwj-GGgQ/edit#gid=257341626)"
   ]
  },
  {
   "cell_type": "code",
   "execution_count": null,
   "metadata": {},
   "outputs": [],
   "source": []
  }
 ],
 "metadata": {
  "kernelspec": {
   "display_name": "Python 3",
   "language": "python",
   "name": "python3"
  },
  "language_info": {
   "codemirror_mode": {
    "name": "ipython",
    "version": 3
   },
   "file_extension": ".py",
   "mimetype": "text/x-python",
   "name": "python",
   "nbconvert_exporter": "python",
   "pygments_lexer": "ipython3",
   "version": "3.8.5"
  }
 },
 "nbformat": 4,
 "nbformat_minor": 4
}
