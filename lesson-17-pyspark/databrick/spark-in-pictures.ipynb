{
 "cells": [
  {
   "cell_type": "markdown",
   "metadata": {},
   "source": [
    "Spark\n",
    "\n",
    "<img src=spark-images/what-is-spark.png>"
   ]
  },
  {
   "cell_type": "markdown",
   "metadata": {},
   "source": [
    "Spark components\n",
    "\n",
    "<img src=spark-images/spark-components.png>"
   ]
  },
  {
   "cell_type": "markdown",
   "metadata": {},
   "source": [
    "Spark Eco-system\n",
    "\n",
    "<img src=spark-images/arch-01.png>"
   ]
  },
  {
   "cell_type": "markdown",
   "metadata": {},
   "source": [
    "Spark Cluster\n",
    "\n",
    "<img src=spark-images/spark-cluster.png>"
   ]
  },
  {
   "cell_type": "markdown",
   "metadata": {},
   "source": [
    "Spark application components\n",
    "\n",
    "<img src=spark-images/arch-02.png>"
   ]
  },
  {
   "cell_type": "markdown",
   "metadata": {},
   "source": [
    "Spark session\n",
    "\n",
    "<img src=spark-images/spark-session.png>"
   ]
  },
  {
   "cell_type": "markdown",
   "metadata": {},
   "source": [
    "Spark worker node\n",
    "\n",
    "<img src=spark-images/worker-node.png>"
   ]
  },
  {
   "cell_type": "markdown",
   "metadata": {},
   "source": [
    "Spark architecture\n",
    "\n",
    "<img src=spark-images/spark-arch-2.png>"
   ]
  },
  {
   "cell_type": "markdown",
   "metadata": {},
   "source": [
    "Job > stage > task\n",
    "\n",
    "\n",
    "<img src=spark-images/job-stage-task.png>"
   ]
  },
  {
   "cell_type": "markdown",
   "metadata": {},
   "source": [
    "Action > job > stage > task\n",
    "\n",
    "\n",
    "<img src=spark-images/action-job-stage-task.png>"
   ]
  },
  {
   "cell_type": "markdown",
   "metadata": {},
   "source": [
    "Spark runtime - Driver\n",
    "\n",
    "\n",
    "<img src=spark-images/spark-runtime.jpg>"
   ]
  },
  {
   "cell_type": "markdown",
   "metadata": {},
   "source": [
    "Optimization-Execution pipeline\n",
    "\n",
    "<img src=spark-images/optimization-execution.png>"
   ]
  },
  {
   "cell_type": "markdown",
   "metadata": {},
   "source": [
    "Spark SQL\n",
    "\n",
    "<img src=spark-images/spark-sql.png>"
   ]
  },
  {
   "cell_type": "markdown",
   "metadata": {},
   "source": [
    "Spark cluster modes\n",
    "\n",
    "<img src=spark-images/cluster-modes.png>"
   ]
  },
  {
   "cell_type": "markdown",
   "metadata": {},
   "source": [
    "Deployment models\n",
    "\n",
    "<img src=spark-images/deploy-model.png>"
   ]
  },
  {
   "cell_type": "markdown",
   "metadata": {},
   "source": [
    "Spark submit\n",
    "<img src=spark-images/spark-submit-options.png>"
   ]
  },
  {
   "cell_type": "markdown",
   "metadata": {},
   "source": [
    "Spark submit master settings\n",
    "\n",
    "<img src=spark-images/spark-submit-master-options.png>"
   ]
  },
  {
   "cell_type": "markdown",
   "metadata": {},
   "source": [
    "Local mode\n",
    "\n",
    "<img src=spark-images/spark-local.png>"
   ]
  },
  {
   "cell_type": "markdown",
   "metadata": {},
   "source": [
    "Spark standalone\n",
    "\n",
    "<img src=spark-images/spark-standalone.png>"
   ]
  },
  {
   "cell_type": "markdown",
   "metadata": {},
   "source": [
    "Spark standalone settings\n",
    "\n",
    "<img src=spark-images/spark-standalone-settings.png>"
   ]
  },
  {
   "cell_type": "markdown",
   "metadata": {},
   "source": [
    "Spark yarn\n",
    "\n",
    "<img src=spark-images/spark-yarn.png>"
   ]
  },
  {
   "cell_type": "markdown",
   "metadata": {},
   "source": [
    "Spark yarn\n",
    "\n",
    "<img src=spark-images/spark-yarn-cluster.png>"
   ]
  },
  {
   "cell_type": "markdown",
   "metadata": {},
   "source": [
    "Spark yarn settings\n",
    "\n",
    "<img src=spark-images/spark-yarn-cluster-settings.png>"
   ]
  },
  {
   "cell_type": "markdown",
   "metadata": {},
   "source": [
    "Spark yarn - multi-apps\n",
    "\n",
    "<img src=spark-images/spark-yarn-2.png>"
   ]
  },
  {
   "cell_type": "markdown",
   "metadata": {},
   "source": [
    "Spark submit - yarn\n",
    "\n",
    "<img src=spark-images/spark-submit-yarn.png>"
   ]
  },
  {
   "cell_type": "markdown",
   "metadata": {},
   "source": [
    "Spark SQL and DataFrames API\n",
    "\n",
    "<img src=spark-images/pyspark3-docs.png>"
   ]
  },
  {
   "cell_type": "markdown",
   "metadata": {},
   "source": [
    "Data types\n",
    "\n",
    "<img src=spark-images/datatypes.png>"
   ]
  },
  {
   "cell_type": "markdown",
   "metadata": {},
   "source": [
    "Data Sources\n",
    "\n",
    "<img src=spark-images/data-sources.png>"
   ]
  },
  {
   "cell_type": "markdown",
   "metadata": {},
   "source": [
    "Spark structured streaming\n",
    "\n",
    "<img src=spark-images/spark-structured-streaming.png>"
   ]
  },
  {
   "cell_type": "markdown",
   "metadata": {},
   "source": [
    "Spark Data stream\n",
    "\n",
    "<img src=spark-images/spark-data-stream.png>"
   ]
  },
  {
   "cell_type": "markdown",
   "metadata": {},
   "source": [
    "Spark streaming\n",
    "\n",
    "<img src=spark-images/structured-stream.png>"
   ]
  },
  {
   "cell_type": "markdown",
   "metadata": {},
   "source": [
    "## Appendix"
   ]
  },
  {
   "cell_type": "markdown",
   "metadata": {},
   "source": [
    "Big data processing systems\n",
    "\n",
    "<img src=spark-images/big-data-engine.png>"
   ]
  },
  {
   "cell_type": "markdown",
   "metadata": {},
   "source": [
    "IO speeds\n",
    "\n",
    "<img src=spark-images/IO-speeds.png>"
   ]
  },
  {
   "cell_type": "code",
   "execution_count": null,
   "metadata": {},
   "outputs": [],
   "source": []
  }
 ],
 "metadata": {
  "kernelspec": {
   "display_name": "Python 3",
   "language": "python",
   "name": "python3"
  },
  "language_info": {
   "codemirror_mode": {
    "name": "ipython",
    "version": 3
   },
   "file_extension": ".py",
   "mimetype": "text/x-python",
   "name": "python",
   "nbconvert_exporter": "python",
   "pygments_lexer": "ipython3",
   "version": "3.8.5"
  }
 },
 "nbformat": 4,
 "nbformat_minor": 4
}
