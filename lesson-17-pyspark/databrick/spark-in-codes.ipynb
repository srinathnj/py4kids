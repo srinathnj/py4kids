{
 "cells": [
  {
   "cell_type": "code",
   "execution_count": 1,
   "metadata": {},
   "outputs": [],
   "source": [
    "from pyspark.sql import SparkSession\n",
    "from pyspark.sql import functions as F\n",
    "from pyspark.sql.types import *"
   ]
  },
  {
   "cell_type": "code",
   "execution_count": 2,
   "metadata": {},
   "outputs": [],
   "source": [
    "spark = SparkSession.builder.appName(\"spark-codes\").getOrCreate()"
   ]
  },
  {
   "cell_type": "code",
   "execution_count": 3,
   "metadata": {},
   "outputs": [
    {
     "data": {
      "text/html": [
       "\n",
       "            <div>\n",
       "                <p><b>SparkSession - in-memory</b></p>\n",
       "                \n",
       "        <div>\n",
       "            <p><b>SparkContext</b></p>\n",
       "\n",
       "            <p><a href=\"http://192.168.0.114:4040\">Spark UI</a></p>\n",
       "\n",
       "            <dl>\n",
       "              <dt>Version</dt>\n",
       "                <dd><code>v3.0.1</code></dd>\n",
       "              <dt>Master</dt>\n",
       "                <dd><code>local[*]</code></dd>\n",
       "              <dt>AppName</dt>\n",
       "                <dd><code>spark-codes</code></dd>\n",
       "            </dl>\n",
       "        </div>\n",
       "        \n",
       "            </div>\n",
       "        "
      ],
      "text/plain": [
       "<pyspark.sql.session.SparkSession at 0x7fea133ca0a0>"
      ]
     },
     "execution_count": 3,
     "metadata": {},
     "output_type": "execute_result"
    }
   ],
   "source": [
    "spark"
   ]
  },
  {
   "cell_type": "code",
   "execution_count": 4,
   "metadata": {},
   "outputs": [],
   "source": [
    "sc = spark.sparkContext"
   ]
  },
  {
   "cell_type": "code",
   "execution_count": 5,
   "metadata": {},
   "outputs": [
    {
     "data": {
      "text/html": [
       "\n",
       "        <div>\n",
       "            <p><b>SparkContext</b></p>\n",
       "\n",
       "            <p><a href=\"http://192.168.0.114:4040\">Spark UI</a></p>\n",
       "\n",
       "            <dl>\n",
       "              <dt>Version</dt>\n",
       "                <dd><code>v3.0.1</code></dd>\n",
       "              <dt>Master</dt>\n",
       "                <dd><code>local[*]</code></dd>\n",
       "              <dt>AppName</dt>\n",
       "                <dd><code>spark-codes</code></dd>\n",
       "            </dl>\n",
       "        </div>\n",
       "        "
      ],
      "text/plain": [
       "<SparkContext master=local[*] appName=spark-codes>"
      ]
     },
     "execution_count": 5,
     "metadata": {},
     "output_type": "execute_result"
    }
   ],
   "source": [
    "sc"
   ]
  },
  {
   "cell_type": "markdown",
   "metadata": {},
   "source": [
    "## Quick start"
   ]
  },
  {
   "cell_type": "code",
   "execution_count": 7,
   "metadata": {},
   "outputs": [
    {
     "name": "stdout",
     "output_type": "stream",
     "text": [
      "+---+\n",
      "| id|\n",
      "+---+\n",
      "|  0|\n",
      "|  1|\n",
      "|  2|\n",
      "|  3|\n",
      "|  4|\n",
      "+---+\n",
      "only showing top 5 rows\n",
      "\n"
     ]
    }
   ],
   "source": [
    "df1 = spark.range(100)\n",
    "df1.show(5)"
   ]
  },
  {
   "cell_type": "code",
   "execution_count": 20,
   "metadata": {},
   "outputs": [
    {
     "data": {
      "text/plain": [
       "100"
      ]
     },
     "execution_count": 20,
     "metadata": {},
     "output_type": "execute_result"
    }
   ],
   "source": [
    "df1.count()"
   ]
  },
  {
   "cell_type": "code",
   "execution_count": 21,
   "metadata": {},
   "outputs": [
    {
     "name": "stdout",
     "output_type": "stream",
     "text": [
      "root\n",
      " |-- id: long (nullable = false)\n",
      "\n"
     ]
    }
   ],
   "source": [
    "df1.printSchema()"
   ]
  },
  {
   "cell_type": "markdown",
   "metadata": {},
   "source": [
    "## SparkConf"
   ]
  },
  {
   "cell_type": "code",
   "execution_count": 14,
   "metadata": {},
   "outputs": [],
   "source": [
    "conf = sc.getConf()"
   ]
  },
  {
   "cell_type": "code",
   "execution_count": 15,
   "metadata": {},
   "outputs": [
    {
     "data": {
      "text/plain": [
       "[('spark.driver.host', '192.168.0.114'),\n",
       " ('spark.driver.extraClassPath',\n",
       "  '/home/wengong/spark/spark-3.0.1-bin-hadoop2.7/jars/sqlite-jdbc-3.27.2.1.jar'),\n",
       " ('spark.app.name', 'spark-codes'),\n",
       " ('spark.executor.id', 'driver'),\n",
       " ('spark.sql.warehouse.dir', '/tmp/hive/spark-warehouse'),\n",
       " ('spark.executor.extraClassPath',\n",
       "  '/home/wengong/spark/spark-3.0.1-bin-hadoop2.7/jars/sqlite-jdbc-3.27.2.1.jar'),\n",
       " ('spark.driver.port', '46013'),\n",
       " ('spark.rdd.compress', 'True'),\n",
       " ('spark.serializer.objectStreamReset', '100'),\n",
       " ('spark.master', 'local[*]'),\n",
       " ('spark.submit.pyFiles', ''),\n",
       " ('spark.submit.deployMode', 'client'),\n",
       " ('spark.app.id', 'local-1622079209929'),\n",
       " ('spark.ui.showConsoleProgress', 'true')]"
      ]
     },
     "execution_count": 15,
     "metadata": {},
     "output_type": "execute_result"
    }
   ],
   "source": [
    "conf.getAll()"
   ]
  },
  {
   "cell_type": "code",
   "execution_count": 16,
   "metadata": {},
   "outputs": [],
   "source": [
    "conf.get(\"spark.sql.shuffle.partitions\")"
   ]
  },
  {
   "cell_type": "code",
   "execution_count": 18,
   "metadata": {},
   "outputs": [
    {
     "data": {
      "text/plain": [
       "<pyspark.conf.SparkConf at 0x7fea12235d30>"
      ]
     },
     "execution_count": 18,
     "metadata": {},
     "output_type": "execute_result"
    }
   ],
   "source": [
    "conf.set(\"spark.executor.memory\", \"2g\")"
   ]
  },
  {
   "cell_type": "code",
   "execution_count": 19,
   "metadata": {},
   "outputs": [
    {
     "data": {
      "text/plain": [
       "'2g'"
      ]
     },
     "execution_count": 19,
     "metadata": {},
     "output_type": "execute_result"
    }
   ],
   "source": [
    "conf.get(\"spark.executor.memory\")"
   ]
  },
  {
   "cell_type": "markdown",
   "metadata": {},
   "source": [
    "## Create DataFrame"
   ]
  },
  {
   "cell_type": "code",
   "execution_count": 26,
   "metadata": {},
   "outputs": [
    {
     "name": "stdout",
     "output_type": "stream",
     "text": [
      "+---+\n",
      "|num|\n",
      "+---+\n",
      "|  0|\n",
      "|  1|\n",
      "|  2|\n",
      "|  3|\n",
      "|  4|\n",
      "+---+\n",
      "only showing top 5 rows\n",
      "\n"
     ]
    }
   ],
   "source": [
    "list_df = spark.createDataFrame(list(range(10)), IntegerType()).toDF(\"num\")\n",
    "list_df.show(5)"
   ]
  },
  {
   "cell_type": "code",
   "execution_count": 27,
   "metadata": {},
   "outputs": [],
   "source": [
    "from pyspark.sql import Row"
   ]
  },
  {
   "cell_type": "code",
   "execution_count": 28,
   "metadata": {},
   "outputs": [],
   "source": [
    "# Create the Employees\n",
    "Employee = Row(\"name\") # Define the Row `Employee' with one column/key\n",
    "employee1 = Employee('Bob') # Define against the Row 'Employee'\n",
    "employee2 = Employee('Sam') # Define against the Row 'Employee'\n",
    "\n",
    "# Create the Departments\n",
    "Department = Row(\"name\", \"department\") # Define the Row `Department' with two columns/keys\n",
    "department1 = Department('Bob', 'Accounts') # Define against the Row 'Department'\n",
    "department2 = Department('Alice', 'Sales') # Define against the Row 'Department'\n",
    "department3 = Department('Sam', 'HR') # Define against the Row 'Department'\n",
    "\n",
    "# Create DataFrames from rows\n",
    "employeeDF = spark.createDataFrame([employee1, employee2])\n",
    "departmentDF = spark.createDataFrame([department1, department2, department3])\n",
    "\n",
    "# Join employeeDF to departmentDF on \"name\"\n",
    "emp_dept_df = employeeDF.join(departmentDF, \"name\")"
   ]
  },
  {
   "cell_type": "code",
   "execution_count": 29,
   "metadata": {},
   "outputs": [
    {
     "name": "stdout",
     "output_type": "stream",
     "text": [
      "+----+\n",
      "|name|\n",
      "+----+\n",
      "| Bob|\n",
      "| Sam|\n",
      "+----+\n",
      "\n"
     ]
    }
   ],
   "source": [
    "employeeDF.show()"
   ]
  },
  {
   "cell_type": "code",
   "execution_count": 30,
   "metadata": {},
   "outputs": [
    {
     "name": "stdout",
     "output_type": "stream",
     "text": [
      "+-----+----------+\n",
      "| name|department|\n",
      "+-----+----------+\n",
      "|  Bob|  Accounts|\n",
      "|Alice|     Sales|\n",
      "|  Sam|        HR|\n",
      "+-----+----------+\n",
      "\n"
     ]
    }
   ],
   "source": [
    "departmentDF.show()"
   ]
  },
  {
   "cell_type": "code",
   "execution_count": 31,
   "metadata": {},
   "outputs": [
    {
     "name": "stdout",
     "output_type": "stream",
     "text": [
      "+----+----------+\n",
      "|name|department|\n",
      "+----+----------+\n",
      "| Bob|  Accounts|\n",
      "| Sam|        HR|\n",
      "+----+----------+\n",
      "\n"
     ]
    }
   ],
   "source": [
    "emp_dept_df.show()"
   ]
  },
  {
   "cell_type": "code",
   "execution_count": 32,
   "metadata": {},
   "outputs": [
    {
     "name": "stdout",
     "output_type": "stream",
     "text": [
      "+------+--------+\n",
      "|letter|position|\n",
      "+------+--------+\n",
      "|     A|       0|\n",
      "|     B|       1|\n",
      "|     C|       2|\n",
      "+------+--------+\n",
      "\n"
     ]
    }
   ],
   "source": [
    "# Create DataFrame from Row, with Schema specified\n",
    "\n",
    "schema = StructType([\n",
    "  StructField(\"letter\", StringType(), True),\n",
    "  StructField(\"position\", IntegerType(), True)])\n",
    "\n",
    "df = spark.createDataFrame([('A', 0),('B', 1),('C', 2)], schema)\n",
    "df.show()"
   ]
  },
  {
   "cell_type": "code",
   "execution_count": 33,
   "metadata": {},
   "outputs": [],
   "source": [
    "# Create Example Data - Departments and Employees\n",
    "\n",
    "# Create the Departments\n",
    "Department = Row(\"id\", \"name\")\n",
    "department1 = Department('123456', 'Computer Science')\n",
    "department2 = Department('789012', 'Mechanical Engineering')\n",
    "department3 = Department('345678', 'Theater and Drama')\n",
    "department4 = Department('901234', 'Indoor Recreation')\n",
    "department5 = Department('000000', 'All Students')\n",
    "\n",
    "# Create the Employees\n",
    "Employee = Row(\"firstName\", \"lastName\", \"email\", \"salary\")\n",
    "employee1 = Employee('michael', 'armbrust', 'no-reply@berkeley.edu', 100000)\n",
    "employee2 = Employee('xiangrui', 'meng', 'no-reply@stanford.edu', 120000)\n",
    "employee3 = Employee('matei', None, 'no-reply@waterloo.edu', 140000)\n",
    "employee4 = Employee(None, 'wendell', 'no-reply@berkeley.edu', 160000)\n",
    "employee5 = Employee('michael', 'jackson', 'no-reply@neverla.nd', 80000)\n",
    "\n",
    "# Create the DepartmentWithEmployees instances from Departments and Employees\n",
    "DepartmentWithEmployees = Row(\"department\", \"employees\")\n",
    "departmentWithEmployees1 = DepartmentWithEmployees(department1, [employee1, employee2])\n",
    "departmentWithEmployees2 = DepartmentWithEmployees(department2, [employee3, employee4])\n",
    "departmentWithEmployees3 = DepartmentWithEmployees(department3, [employee5, employee4])\n",
    "departmentWithEmployees4 = DepartmentWithEmployees(department4, [employee2, employee3])\n",
    "departmentWithEmployees5 = DepartmentWithEmployees(department5, [employee1, employee2, employee3, employee4, employee5])\n"
   ]
  },
  {
   "cell_type": "code",
   "execution_count": 34,
   "metadata": {},
   "outputs": [
    {
     "name": "stdout",
     "output_type": "stream",
     "text": [
      "Row(id='123456', name='Computer Science')\n",
      "Row(firstName='xiangrui', lastName='meng', email='no-reply@stanford.edu', salary=120000)\n",
      "no-reply@berkeley.edu\n"
     ]
    }
   ],
   "source": [
    "print(department1)\n",
    "print(employee2)\n",
    "print(departmentWithEmployees1.employees[0].email)"
   ]
  },
  {
   "cell_type": "code",
   "execution_count": 36,
   "metadata": {},
   "outputs": [
    {
     "name": "stdout",
     "output_type": "stream",
     "text": [
      "-RECORD 0------------------------------------------------------------------------------------------------------------------------------------------------------------------------------------------------------------------------------------------------\n",
      " department | [123456, Computer Science]                                                                                                                                                                                                                 \n",
      " employees  | [[michael, armbrust, no-reply@berkeley.edu, 100000], [xiangrui, meng, no-reply@stanford.edu, 120000]]                                                                                                                                      \n",
      "-RECORD 1------------------------------------------------------------------------------------------------------------------------------------------------------------------------------------------------------------------------------------------------\n",
      " department | [789012, Mechanical Engineering]                                                                                                                                                                                                           \n",
      " employees  | [[matei,, no-reply@waterloo.edu, 140000], [, wendell, no-reply@berkeley.edu, 160000]]                                                                                                                                                      \n",
      "-RECORD 2------------------------------------------------------------------------------------------------------------------------------------------------------------------------------------------------------------------------------------------------\n",
      " department | [345678, Theater and Drama]                                                                                                                                                                                                                \n",
      " employees  | [[michael, jackson, no-reply@neverla.nd, 80000], [, wendell, no-reply@berkeley.edu, 160000]]                                                                                                                                               \n",
      "-RECORD 3------------------------------------------------------------------------------------------------------------------------------------------------------------------------------------------------------------------------------------------------\n",
      " department | [901234, Indoor Recreation]                                                                                                                                                                                                                \n",
      " employees  | [[xiangrui, meng, no-reply@stanford.edu, 120000], [matei,, no-reply@waterloo.edu, 140000]]                                                                                                                                                 \n",
      "-RECORD 4------------------------------------------------------------------------------------------------------------------------------------------------------------------------------------------------------------------------------------------------\n",
      " department | [000000, All Students]                                                                                                                                                                                                                     \n",
      " employees  | [[michael, armbrust, no-reply@berkeley.edu, 100000], [xiangrui, meng, no-reply@stanford.edu, 120000], [matei,, no-reply@waterloo.edu, 140000], [, wendell, no-reply@berkeley.edu, 160000], [michael, jackson, no-reply@neverla.nd, 80000]] \n",
      "\n"
     ]
    }
   ],
   "source": [
    "departmentsWithEmployeesSeq1 = [departmentWithEmployees1, departmentWithEmployees2, departmentWithEmployees3, departmentWithEmployees4, departmentWithEmployees5]\n",
    "df1 = spark.createDataFrame(departmentsWithEmployeesSeq1)\n",
    "df1.show(truncate=False, vertical=True)"
   ]
  },
  {
   "cell_type": "markdown",
   "metadata": {},
   "source": [
    "## write DataFrame"
   ]
  },
  {
   "cell_type": "code",
   "execution_count": 38,
   "metadata": {},
   "outputs": [
    {
     "name": "stdout",
     "output_type": "stream",
     "text": [
      "+----+----------+\n",
      "|name|department|\n",
      "+----+----------+\n",
      "| Bob|  Accounts|\n",
      "| Sam|        HR|\n",
      "+----+----------+\n",
      "\n"
     ]
    }
   ],
   "source": [
    "emp_dept_df.show()\n",
    "emp_dept_df.write.mode(\"overwrite\").format(\"json\").save(\"emp_dept.json\")"
   ]
  },
  {
   "cell_type": "code",
   "execution_count": 39,
   "metadata": {},
   "outputs": [
    {
     "name": "stdout",
     "output_type": "stream",
     "text": [
      "part-00000-1f64fa43-dab8-46ba-b11e-37c3d3b95f53-c000.json\r\n",
      "part-00093-1f64fa43-dab8-46ba-b11e-37c3d3b95f53-c000.json\r\n",
      "part-00109-1f64fa43-dab8-46ba-b11e-37c3d3b95f53-c000.json\r\n",
      "_SUCCESS\r\n"
     ]
    }
   ],
   "source": [
    "!ls emp_dept.json"
   ]
  },
  {
   "cell_type": "code",
   "execution_count": 41,
   "metadata": {},
   "outputs": [
    {
     "name": "stdout",
     "output_type": "stream",
     "text": [
      "{\"name\":\"Bob\",\"department\":\"Accounts\"}\r\n"
     ]
    }
   ],
   "source": [
    "!cat emp_dept.json/part-00093-1f64fa43-dab8-46ba-b11e-37c3d3b95f53-c000.json"
   ]
  },
  {
   "cell_type": "code",
   "execution_count": null,
   "metadata": {},
   "outputs": [],
   "source": [
    "# use coalesce() to write a single file\n",
    "\n",
    "(\n",
    "    emp_dept_df\n",
    "    .coalesce(1)\n",
    "    .write.mode(\"overwrite\")\n",
    "    .format(\"json\")\n",
    "    .save(\"emp_dept1\")\n",
    ")"
   ]
  },
  {
   "cell_type": "code",
   "execution_count": 44,
   "metadata": {},
   "outputs": [
    {
     "name": "stdout",
     "output_type": "stream",
     "text": [
      "part-00000-5d1deace-f5d2-4b86-a26d-a5efe03b7cc2-c000.json  _SUCCESS\r\n"
     ]
    }
   ],
   "source": [
    "!ls emp_dept1"
   ]
  },
  {
   "cell_type": "code",
   "execution_count": 46,
   "metadata": {},
   "outputs": [
    {
     "name": "stdout",
     "output_type": "stream",
     "text": [
      "{\"name\":\"Bob\",\"department\":\"Accounts\"}\r\n",
      "{\"name\":\"Sam\",\"department\":\"HR\"}\r\n"
     ]
    }
   ],
   "source": [
    "!cat emp_dept1/part-00000-5d1deace-f5d2-4b86-a26d-a5efe03b7cc2-c000.json"
   ]
  },
  {
   "cell_type": "code",
   "execution_count": 49,
   "metadata": {},
   "outputs": [],
   "source": [
    "# default format - parquet\n",
    "\n",
    "(\n",
    "    emp_dept_df\n",
    "    .coalesce(1)\n",
    "    .write.mode(\"overwrite\")\n",
    "    .save(\"emp_dept2\")\n",
    ")"
   ]
  },
  {
   "cell_type": "code",
   "execution_count": 50,
   "metadata": {},
   "outputs": [
    {
     "name": "stdout",
     "output_type": "stream",
     "text": [
      "part-00000-984b261c-5972-4b91-9563-5d3eb084f068-c000.snappy.parquet  _SUCCESS\r\n"
     ]
    }
   ],
   "source": [
    "!ls emp_dept2"
   ]
  },
  {
   "cell_type": "markdown",
   "metadata": {},
   "source": [
    "## Read DataFrame"
   ]
  },
  {
   "cell_type": "code",
   "execution_count": 47,
   "metadata": {},
   "outputs": [],
   "source": [
    "df2 = spark.read.json(\"emp_dept1\")"
   ]
  },
  {
   "cell_type": "code",
   "execution_count": 48,
   "metadata": {},
   "outputs": [
    {
     "name": "stdout",
     "output_type": "stream",
     "text": [
      "+----------+----+\n",
      "|department|name|\n",
      "+----------+----+\n",
      "|  Accounts| Bob|\n",
      "|        HR| Sam|\n",
      "+----------+----+\n",
      "\n"
     ]
    }
   ],
   "source": [
    "df2.show()"
   ]
  },
  {
   "cell_type": "code",
   "execution_count": 51,
   "metadata": {},
   "outputs": [
    {
     "name": "stdout",
     "output_type": "stream",
     "text": [
      "+----+----------+\n",
      "|name|department|\n",
      "+----+----------+\n",
      "| Bob|  Accounts|\n",
      "| Sam|        HR|\n",
      "+----+----------+\n",
      "\n"
     ]
    }
   ],
   "source": [
    "df3 = spark.read.load(\"emp_dept2\")\n",
    "df3.show()"
   ]
  },
  {
   "cell_type": "code",
   "execution_count": 74,
   "metadata": {},
   "outputs": [
    {
     "name": "stdout",
     "output_type": "stream",
     "text": [
      "apache-spark-resources.xlsx\t      person.json\r\n",
      "emp_dept1\t\t\t      pyspark-cheat-sheet.ipynb\r\n",
      "emp_dept2\t\t\t      pyspark-tmp.ipynb\r\n",
      "emp_dept.json\t\t\t      spark-cert.README.md\r\n",
      "LearningApacheSpark-CheatSheet.ipynb  spark-images\r\n",
      "person-csv\t\t\t      spark-in-codes.ipynb\r\n",
      "person.csv\t\t\t      spark-in-pictures.ipynb\r\n"
     ]
    }
   ],
   "source": [
    "!ls"
   ]
  },
  {
   "cell_type": "raw",
   "metadata": {},
   "source": [
    "!cat spark-cert.README.md"
   ]
  },
  {
   "cell_type": "code",
   "execution_count": 79,
   "metadata": {},
   "outputs": [],
   "source": [
    "# read text file\n",
    "txt_df = (\n",
    "   spark\n",
    "    .read\n",
    "    .text(\"spark-cert.README.md\")\n",
    "    .toDF(\"text\")\n",
    ")"
   ]
  },
  {
   "cell_type": "code",
   "execution_count": 80,
   "metadata": {},
   "outputs": [
    {
     "data": {
      "text/plain": [
       "82"
      ]
     },
     "execution_count": 80,
     "metadata": {},
     "output_type": "execute_result"
    }
   ],
   "source": [
    "txt_df.count()"
   ]
  },
  {
   "cell_type": "code",
   "execution_count": 81,
   "metadata": {},
   "outputs": [
    {
     "data": {
      "text/plain": [
       "[Row(text='2021 Goal - Learn Graph and Spark'),\n",
       " Row(text=''),\n",
       " Row(text='# Graph '),\n",
       " Row(text=''),\n",
       " Row(text='## Graph Theory YouTube by William Fiset')]"
      ]
     },
     "execution_count": 81,
     "metadata": {},
     "output_type": "execute_result"
    }
   ],
   "source": [
    "txt_df.collect()[:5]"
   ]
  },
  {
   "cell_type": "code",
   "execution_count": 91,
   "metadata": {},
   "outputs": [
    {
     "name": "stdout",
     "output_type": "stream",
     "text": [
      "+-------+---------------------------------+\n",
      "|line_id|text                             |\n",
      "+-------+---------------------------------+\n",
      "|0      |2021 Goal - Learn Graph and Spark|\n",
      "|1      |                                 |\n",
      "|2      |# Graph                          |\n",
      "+-------+---------------------------------+\n",
      "only showing top 3 rows\n",
      "\n"
     ]
    }
   ],
   "source": [
    "csv_df = txt_df.withColumn(\"line_id\", F.monotonically_increasing_id())\n",
    "csv_df = csv_df.select(\"line_id\", \"text\").limit(10)\n",
    "csv_df.show(3, truncate=False)"
   ]
  },
  {
   "cell_type": "code",
   "execution_count": 92,
   "metadata": {},
   "outputs": [],
   "source": [
    "(\n",
    "    csv_df\n",
    "    .coalesce(1)\n",
    "    .write.mode(\"overwrite\")\n",
    "    .option(\"header\", \"true\")\n",
    "    .option(\"delimiter\", \"\\t\")\n",
    "    .csv(\"csv\")\n",
    ")"
   ]
  },
  {
   "cell_type": "code",
   "execution_count": 105,
   "metadata": {},
   "outputs": [
    {
     "data": {
      "text/plain": [
       "['part-00000-7f0d72bb-3a1a-407e-b3b1-0808c309512d-c000.csv', '_SUCCESS']"
      ]
     },
     "execution_count": 105,
     "metadata": {},
     "output_type": "execute_result"
    }
   ],
   "source": [
    "x = !ls csv\n",
    "x"
   ]
  },
  {
   "cell_type": "code",
   "execution_count": 106,
   "metadata": {},
   "outputs": [
    {
     "name": "stdout",
     "output_type": "stream",
     "text": [
      "line_id\ttext\n",
      "0\t2021 Goal - Learn Graph and Spark\n",
      "1\t\"\"\n",
      "2\t# Graph\n",
      "3\t\"\"\n",
      "4\t## Graph Theory YouTube by William Fiset\n",
      "5\t- see folder Graph-Algorithms\n",
      "6\t\"\"\n",
      "7\t## study book - Graph Algorithms\n",
      "8\t- /home/wengong/spark/databrick-cert/books/Graph-Algorithms/Neo4j_Graph_Algorithms_r3.pdf\n",
      "9\t- /home/wengong/projects/graph/graph-algo/Neo4j_Graph_Algorithms_r3.pdf\n",
      "\n"
     ]
    }
   ],
   "source": [
    "with open(f\"csv/{x[0]}\") as f:\n",
    "    print(f.read())"
   ]
  },
  {
   "cell_type": "code",
   "execution_count": 107,
   "metadata": {},
   "outputs": [],
   "source": [
    "csv_df2 = (\n",
    "    spark.read\n",
    "    .option(\"header\", \"true\")\n",
    "    .option(\"delimiter\", \"\\t\")\n",
    "    .option(\"inferSchema\", \"true\")\n",
    "    .csv(\"csv\")\n",
    ")"
   ]
  },
  {
   "cell_type": "code",
   "execution_count": 108,
   "metadata": {},
   "outputs": [
    {
     "name": "stdout",
     "output_type": "stream",
     "text": [
      "+-------+---------------------------------+\n",
      "|line_id|text                             |\n",
      "+-------+---------------------------------+\n",
      "|0      |2021 Goal - Learn Graph and Spark|\n",
      "|1      |null                             |\n",
      "|2      |# Graph                          |\n",
      "|3      |null                             |\n",
      "+-------+---------------------------------+\n",
      "only showing top 4 rows\n",
      "\n"
     ]
    }
   ],
   "source": [
    "csv_df2.show(4, truncate=False)"
   ]
  },
  {
   "cell_type": "markdown",
   "metadata": {},
   "source": [
    "## UDF\n",
    "### dataframe"
   ]
  },
  {
   "cell_type": "code",
   "execution_count": 52,
   "metadata": {},
   "outputs": [],
   "source": [
    "def square(s):\n",
    "    return s*s"
   ]
  },
  {
   "cell_type": "code",
   "execution_count": 53,
   "metadata": {},
   "outputs": [
    {
     "data": {
      "text/plain": [
       "100"
      ]
     },
     "execution_count": 53,
     "metadata": {},
     "output_type": "execute_result"
    }
   ],
   "source": [
    "square(10)"
   ]
  },
  {
   "cell_type": "code",
   "execution_count": 54,
   "metadata": {},
   "outputs": [],
   "source": [
    "squaredWithPython = F.udf(square, LongType())"
   ]
  },
  {
   "cell_type": "code",
   "execution_count": 55,
   "metadata": {},
   "outputs": [
    {
     "name": "stdout",
     "output_type": "stream",
     "text": [
      "+---+\n",
      "|num|\n",
      "+---+\n",
      "|  1|\n",
      "|  4|\n",
      "|  7|\n",
      "+---+\n",
      "\n"
     ]
    }
   ],
   "source": [
    "df = spark.range(1,10,3).toDF(\"num\")\n",
    "df.show()"
   ]
  },
  {
   "cell_type": "code",
   "execution_count": 57,
   "metadata": {},
   "outputs": [
    {
     "name": "stdout",
     "output_type": "stream",
     "text": [
      "+---+-------+\n",
      "|num|num*num|\n",
      "+---+-------+\n",
      "|  1|      1|\n",
      "|  4|     16|\n",
      "|  7|     49|\n",
      "+---+-------+\n",
      "\n"
     ]
    }
   ],
   "source": [
    "df.select(\"num\", squaredWithPython(\"num\").alias(\"num*num\")).show()"
   ]
  },
  {
   "cell_type": "markdown",
   "metadata": {},
   "source": [
    "### register to SQL"
   ]
  },
  {
   "cell_type": "code",
   "execution_count": 58,
   "metadata": {},
   "outputs": [],
   "source": [
    "df.createOrReplaceTempView(\"num_tab\")"
   ]
  },
  {
   "cell_type": "code",
   "execution_count": 60,
   "metadata": {},
   "outputs": [
    {
     "name": "stdout",
     "output_type": "stream",
     "text": [
      "+---+\n",
      "|num|\n",
      "+---+\n",
      "|  1|\n",
      "|  4|\n",
      "|  7|\n",
      "+---+\n",
      "\n"
     ]
    }
   ],
   "source": [
    "spark.sql(\"select * from num_tab\").show()"
   ]
  },
  {
   "cell_type": "code",
   "execution_count": 61,
   "metadata": {},
   "outputs": [
    {
     "data": {
      "text/plain": [
       "<function __main__.square(s)>"
      ]
     },
     "execution_count": 61,
     "metadata": {},
     "output_type": "execute_result"
    }
   ],
   "source": [
    "spark.udf.register(\"squaredWithPython\", square, LongType())"
   ]
  },
  {
   "cell_type": "code",
   "execution_count": 72,
   "metadata": {},
   "outputs": [
    {
     "name": "stdout",
     "output_type": "stream",
     "text": [
      "+---+------+\n",
      "|num|num_sq|\n",
      "+---+------+\n",
      "|  1|     1|\n",
      "|  4|    16|\n",
      "|  7|    49|\n",
      "+---+------+\n",
      "\n"
     ]
    }
   ],
   "source": [
    "spark.sql(\"\"\"select num, squaredWithPython(num) as num_sq from num_tab\"\"\").show()"
   ]
  },
  {
   "cell_type": "code",
   "execution_count": 73,
   "metadata": {},
   "outputs": [
    {
     "name": "stdout",
     "output_type": "stream",
     "text": [
      "+---+\n",
      "|num|\n",
      "+---+\n",
      "|  1|\n",
      "|  4|\n",
      "|  7|\n",
      "+---+\n",
      "\n"
     ]
    }
   ],
   "source": [
    "tab_df = spark.table(\"num_tab\")\n",
    "tab_df.show()"
   ]
  },
  {
   "cell_type": "code",
   "execution_count": null,
   "metadata": {},
   "outputs": [],
   "source": []
  },
  {
   "cell_type": "markdown",
   "metadata": {},
   "source": [
    "### Resources\n",
    "\n",
    "- [7 steps to Spark](https://pages.databricks.com/rs/094-YMS-629/images/7-steps-for-a-developer-to-learn-apache-spark.pdf?mkt_tok=eyJpIjoiWWprMFpHVXlNV0ppWkRsaiIsInQiOiJ1cVBXVm1hbDE5VFlVbWdyMENveDRSYWJ1WHozUDFEVDBCanFzVzZMWTdkSUxVZlp2RElkQWlWaFZjeEE2ZDU3bU5kMk0wbUVSbVFOVG43K2RSN0JPcUVxbm52UzAwMFRWSStoWXViZGpXTmFcL2R3SGpEUnFQSEU4OThBK3V5ZnAifQ%3D%3D)\n",
    "- [Spark Certification Study Guide - Part 1 (Core)](https://www.rakirahman.me/spark-certification-study-guide-part-1/)\n",
    "- [Spark Certification Study Guide - Part 2 (Code)](https://www.rakirahman.me/spark-certification-study-guide-part-2)\n",
    "- [Spark in pictures](https://github.com/wgong/py4kids/blob/master/lesson-17-pyspark/databrick/spark-in-pictures.ipynb)\n",
    "- [Spark study notes](https://docs.google.com/spreadsheets/d/1AuvsTCTxzx1wBMkG-rvfwNpuoQoG9ISuXqQZwj-GGgQ/edit#gid=257341626)"
   ]
  },
  {
   "cell_type": "code",
   "execution_count": null,
   "metadata": {},
   "outputs": [],
   "source": []
  }
 ],
 "metadata": {
  "kernelspec": {
   "display_name": "Python 3",
   "language": "python",
   "name": "python3"
  },
  "language_info": {
   "codemirror_mode": {
    "name": "ipython",
    "version": 3
   },
   "file_extension": ".py",
   "mimetype": "text/x-python",
   "name": "python",
   "nbconvert_exporter": "python",
   "pygments_lexer": "ipython3",
   "version": "3.8.5"
  }
 },
 "nbformat": 4,
 "nbformat_minor": 4
}
