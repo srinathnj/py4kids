{
 "cells": [
  {
   "cell_type": "code",
   "execution_count": 6,
   "metadata": {},
   "outputs": [],
   "source": [
    "from pyspark.sql import SparkSession\n",
    "import pyspark.sql.functions as F\n",
    "from pyspark.sql.types import *"
   ]
  },
  {
   "cell_type": "code",
   "execution_count": 1,
   "metadata": {},
   "outputs": [],
   "source": [
    "df = spark.range(100).toDF(\"cnt\")"
   ]
  },
  {
   "cell_type": "code",
   "execution_count": 2,
   "metadata": {},
   "outputs": [],
   "source": [
    "from pyspark.sql.functions import udf\n",
    "age_range = udf(lambda age: \n",
    "                   '< 20' if age < 20 else \n",
    "                   '20-40' if (age >= 20 and age < 40) else\n",
    "                   '40-60' if (age >= 40 and age < 60) else\n",
    "                   '60-80' if (age >= 60 and age < 80) else\n",
    "                   '80+'  if (age >= 80) else ''\n",
    ")"
   ]
  },
  {
   "cell_type": "code",
   "execution_count": 3,
   "metadata": {},
   "outputs": [],
   "source": [
    "df = df.withColumn('cnt_bin', age_range(df.cnt))"
   ]
  },
  {
   "cell_type": "code",
   "execution_count": 4,
   "metadata": {},
   "outputs": [
    {
     "name": "stdout",
     "output_type": "stream",
     "text": [
      "+---+-------+\n",
      "|cnt|cnt_bin|\n",
      "+---+-------+\n",
      "|  0|   < 20|\n",
      "|  1|   < 20|\n",
      "|  2|   < 20|\n",
      "|  3|   < 20|\n",
      "|  4|   < 20|\n",
      "|  5|   < 20|\n",
      "|  6|   < 20|\n",
      "|  7|   < 20|\n",
      "|  8|   < 20|\n",
      "|  9|   < 20|\n",
      "| 10|   < 20|\n",
      "| 11|   < 20|\n",
      "| 12|   < 20|\n",
      "| 13|   < 20|\n",
      "| 14|   < 20|\n",
      "| 15|   < 20|\n",
      "| 16|   < 20|\n",
      "| 17|   < 20|\n",
      "| 18|   < 20|\n",
      "| 19|   < 20|\n",
      "+---+-------+\n",
      "only showing top 20 rows\n",
      "\n"
     ]
    }
   ],
   "source": [
    "df.show()"
   ]
  },
  {
   "cell_type": "markdown",
   "metadata": {},
   "source": [
    "### instr() function"
   ]
  },
  {
   "cell_type": "code",
   "execution_count": 14,
   "metadata": {},
   "outputs": [],
   "source": [
    "df = spark.createDataFrame([('abcd',)], ['s',])\n",
    "res = df.select(F.instr(df.s, 'c').alias('ipos')).collect()"
   ]
  },
  {
   "cell_type": "code",
   "execution_count": 15,
   "metadata": {},
   "outputs": [
    {
     "data": {
      "text/plain": [
       "list"
      ]
     },
     "execution_count": 15,
     "metadata": {},
     "output_type": "execute_result"
    }
   ],
   "source": [
    "type(res)"
   ]
  },
  {
   "cell_type": "code",
   "execution_count": 16,
   "metadata": {},
   "outputs": [
    {
     "data": {
      "text/plain": [
       "3"
      ]
     },
     "execution_count": 16,
     "metadata": {},
     "output_type": "execute_result"
    }
   ],
   "source": [
    "res[0].ipos"
   ]
  },
  {
   "cell_type": "code",
   "execution_count": null,
   "metadata": {},
   "outputs": [],
   "source": []
  }
 ],
 "metadata": {
  "kernelspec": {
   "display_name": "Python 3",
   "language": "python",
   "name": "python3"
  },
  "language_info": {
   "codemirror_mode": {
    "name": "ipython",
    "version": 3
   },
   "file_extension": ".py",
   "mimetype": "text/x-python",
   "name": "python",
   "nbconvert_exporter": "python",
   "pygments_lexer": "ipython3",
   "version": "3.8.5"
  }
 },
 "nbformat": 4,
 "nbformat_minor": 4
}
