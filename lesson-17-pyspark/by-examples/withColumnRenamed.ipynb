{
 "cells": [
  {
   "cell_type": "code",
   "execution_count": 1,
   "metadata": {},
   "outputs": [],
   "source": [
    "from pyspark.sql import SparkSession\n",
    "from pyspark.sql import functions as F\n",
    "from pyspark.sql.types import *"
   ]
  },
  {
   "cell_type": "code",
   "execution_count": 2,
   "metadata": {},
   "outputs": [],
   "source": [
    "spark = SparkSession.builder.appName('SparkByExamples.com').getOrCreate()"
   ]
  },
  {
   "cell_type": "code",
   "execution_count": 16,
   "metadata": {},
   "outputs": [],
   "source": [
    "data = [(('James','','Smith'),'1991-04-01','M',3000.0),\n",
    "  (('Michael','Rose',''),'2000-05-19','M',3500.0),\n",
    "  (('Robert','','Williams'),'1978-09-05','M',7300.0),\n",
    "  (('Maria','Anne','Jones'),'1967-12-01','F',5004.0),\n",
    "  (('Jen','Mary','Brown'),'1980-02-17','F',10000.0)\n",
    "]"
   ]
  },
  {
   "cell_type": "code",
   "execution_count": 17,
   "metadata": {},
   "outputs": [],
   "source": [
    "schema = StructType([\n",
    "        StructField('name', StructType([\n",
    "             StructField('firstname', StringType(), True),\n",
    "             StructField('middlename', StringType(), True),\n",
    "             StructField('lastname', StringType(), True)\n",
    "             ])),\n",
    "         StructField('dob', StringType(), True),\n",
    "         StructField('gender', StringType(), True),\n",
    "         StructField('salary', DoubleType(), True)\n",
    "         ])"
   ]
  },
  {
   "cell_type": "code",
   "execution_count": 18,
   "metadata": {},
   "outputs": [],
   "source": [
    "df = spark.createDataFrame(data = data, schema = schema)"
   ]
  },
  {
   "cell_type": "code",
   "execution_count": 19,
   "metadata": {},
   "outputs": [
    {
     "name": "stdout",
     "output_type": "stream",
     "text": [
      "root\n",
      " |-- name: struct (nullable = true)\n",
      " |    |-- firstname: string (nullable = true)\n",
      " |    |-- middlename: string (nullable = true)\n",
      " |    |-- lastname: string (nullable = true)\n",
      " |-- dob: string (nullable = true)\n",
      " |-- gender: string (nullable = true)\n",
      " |-- salary: double (nullable = true)\n",
      "\n"
     ]
    }
   ],
   "source": [
    "df.printSchema()"
   ]
  },
  {
   "cell_type": "code",
   "execution_count": 20,
   "metadata": {},
   "outputs": [
    {
     "name": "stdout",
     "output_type": "stream",
     "text": [
      "+--------------------+----------+------+-------+\n",
      "|name                |dob       |gender|salary |\n",
      "+--------------------+----------+------+-------+\n",
      "|[James, , Smith]    |1991-04-01|M     |3000.0 |\n",
      "|[Michael, Rose, ]   |2000-05-19|M     |3500.0 |\n",
      "|[Robert, , Williams]|1978-09-05|M     |7300.0 |\n",
      "|[Maria, Anne, Jones]|1967-12-01|F     |5004.0 |\n",
      "|[Jen, Mary, Brown]  |1980-02-17|F     |10000.0|\n",
      "+--------------------+----------+------+-------+\n",
      "\n"
     ]
    }
   ],
   "source": [
    "df.show(truncate=False)"
   ]
  },
  {
   "cell_type": "code",
   "execution_count": 21,
   "metadata": {},
   "outputs": [
    {
     "name": "stdout",
     "output_type": "stream",
     "text": [
      "+---------+\n",
      "|firstname|\n",
      "+---------+\n",
      "|    James|\n",
      "|  Michael|\n",
      "|   Robert|\n",
      "|    Maria|\n",
      "|      Jen|\n",
      "+---------+\n",
      "\n"
     ]
    }
   ],
   "source": [
    "df.select(\"name.firstname\").show()"
   ]
  },
  {
   "cell_type": "code",
   "execution_count": 22,
   "metadata": {},
   "outputs": [
    {
     "name": "stdout",
     "output_type": "stream",
     "text": [
      "+--------------------+----------+------+-------+----------+\n",
      "|                name|       dob|gender| salary|first_name|\n",
      "+--------------------+----------+------+-------+----------+\n",
      "|    [James, , Smith]|1991-04-01|     M| 3000.0|     James|\n",
      "|   [Michael, Rose, ]|2000-05-19|     M| 3500.0|   Michael|\n",
      "|[Robert, , Williams]|1978-09-05|     M| 7300.0|    Robert|\n",
      "|[Maria, Anne, Jones]|1967-12-01|     F| 5004.0|     Maria|\n",
      "|  [Jen, Mary, Brown]|1980-02-17|     F|10000.0|       Jen|\n",
      "+--------------------+----------+------+-------+----------+\n",
      "\n"
     ]
    }
   ],
   "source": [
    "df.withColumn(\"first_name\", F.col(\"name.firstname\")).select(\"*\").show()"
   ]
  },
  {
   "cell_type": "code",
   "execution_count": 29,
   "metadata": {},
   "outputs": [],
   "source": [
    "df2 = (df\n",
    "       .withColumn(\"first_name\", F.col(\"name.firstname\"))\n",
    "       .withColumn(\"mid_name\", F.col(\"name.middlename\"))\n",
    "       .withColumn(\"last_name\", F.col(\"name.lastname\"))\n",
    "       .withColumn(\"uid\", F.monotonically_increasing_id())\n",
    "       .drop(\"name\")\n",
    "      )"
   ]
  },
  {
   "cell_type": "code",
   "execution_count": 30,
   "metadata": {},
   "outputs": [
    {
     "name": "stdout",
     "output_type": "stream",
     "text": [
      "+----------+------+-------+----------+--------+---------+-----------+\n",
      "|       dob|gender| salary|first_name|mid_name|last_name|        uid|\n",
      "+----------+------+-------+----------+--------+---------+-----------+\n",
      "|1991-04-01|     M| 3000.0|     James|        |    Smith|          0|\n",
      "|2000-05-19|     M| 3500.0|   Michael|    Rose|         | 8589934592|\n",
      "|1978-09-05|     M| 7300.0|    Robert|        | Williams|17179869184|\n",
      "|1967-12-01|     F| 5004.0|     Maria|    Anne|    Jones|25769803776|\n",
      "|1980-02-17|     F|10000.0|       Jen|    Mary|    Brown|25769803777|\n",
      "+----------+------+-------+----------+--------+---------+-----------+\n",
      "\n"
     ]
    }
   ],
   "source": [
    "df2.show()"
   ]
  },
  {
   "cell_type": "code",
   "execution_count": 25,
   "metadata": {},
   "outputs": [],
   "source": [
    "# rename multiple columns\n",
    "schema2 = StructType([\n",
    "    StructField(\"f_name\",StringType()),\n",
    "    StructField(\"m_name\",StringType()),\n",
    "    StructField(\"l_name\",StringType())])"
   ]
  },
  {
   "cell_type": "code",
   "execution_count": 26,
   "metadata": {},
   "outputs": [
    {
     "name": "stdout",
     "output_type": "stream",
     "text": [
      "root\n",
      " |-- name: struct (nullable = true)\n",
      " |    |-- f_name: string (nullable = true)\n",
      " |    |-- m_name: string (nullable = true)\n",
      " |    |-- l_name: string (nullable = true)\n",
      " |-- dob: string (nullable = true)\n",
      " |-- gender: string (nullable = true)\n",
      " |-- salary: double (nullable = true)\n",
      "\n"
     ]
    }
   ],
   "source": [
    "(\n",
    "df.select(\n",
    "    F.col(\"name\").cast(schema2), \n",
    "    F.col(\"dob\"), \n",
    "    F.col(\"gender\"),\n",
    "    F.col(\"salary\")) \n",
    "  .printSchema()  \n",
    ")"
   ]
  },
  {
   "cell_type": "code",
   "execution_count": 28,
   "metadata": {},
   "outputs": [
    {
     "name": "stdout",
     "output_type": "stream",
     "text": [
      "root\n",
      " |-- fname: string (nullable = true)\n",
      " |-- mname: string (nullable = true)\n",
      " |-- lname: string (nullable = true)\n",
      " |-- dob: string (nullable = true)\n",
      " |-- gender: string (nullable = true)\n",
      " |-- salary: double (nullable = true)\n",
      "\n"
     ]
    }
   ],
   "source": [
    "# use alias()\n",
    "(\n",
    "df.select(\n",
    "  F.col(\"name.firstname\").alias(\"fname\"), \n",
    "  F.col(\"name.middlename\").alias(\"mname\"),\n",
    "  F.col(\"name.lastname\").alias(\"lname\"),\n",
    "  F.col(\"dob\"),\n",
    "  F.col(\"gender\"),\n",
    "  F.col(\"salary\"))\n",
    "  .printSchema()\n",
    ")"
   ]
  },
  {
   "cell_type": "code",
   "execution_count": 33,
   "metadata": {},
   "outputs": [],
   "source": [
    "# change all columns\n",
    "newColumns = [f\"newCol{i+1}\" for i in range(len(df.columns))]\n",
    "newColumns"
   ]
  },
  {
   "cell_type": "code",
   "execution_count": 35,
   "metadata": {},
   "outputs": [
    {
     "name": "stdout",
     "output_type": "stream",
     "text": [
      "root\n",
      " |-- newCol1: struct (nullable = true)\n",
      " |    |-- firstname: string (nullable = true)\n",
      " |    |-- middlename: string (nullable = true)\n",
      " |    |-- lastname: string (nullable = true)\n",
      " |-- newCol2: string (nullable = true)\n",
      " |-- newCol3: string (nullable = true)\n",
      " |-- newCol4: double (nullable = true)\n",
      "\n"
     ]
    }
   ],
   "source": [
    "df.toDF(*newColumns).printSchema()"
   ]
  },
  {
   "cell_type": "code",
   "execution_count": 39,
   "metadata": {},
   "outputs": [
    {
     "data": {
      "text/plain": [
       "pyspark.rdd.PipelinedRDD"
      ]
     },
     "execution_count": 39,
     "metadata": {},
     "output_type": "execute_result"
    }
   ],
   "source": [
    "x = df.rdd.map(lambda x: x[0].firstname + ' ' + x[0].lastname)\n",
    "type(x)"
   ]
  },
  {
   "cell_type": "markdown",
   "metadata": {},
   "source": [
    "regular `RDD` has `toDF()` function to convert to DataFrame, but `PipelinedRDD` does not"
   ]
  },
  {
   "cell_type": "code",
   "execution_count": null,
   "metadata": {},
   "outputs": [],
   "source": []
  }
 ],
 "metadata": {
  "kernelspec": {
   "display_name": "Python 3",
   "language": "python",
   "name": "python3"
  },
  "language_info": {
   "codemirror_mode": {
    "name": "ipython",
    "version": 3
   },
   "file_extension": ".py",
   "mimetype": "text/x-python",
   "name": "python",
   "nbconvert_exporter": "python",
   "pygments_lexer": "ipython3",
   "version": "3.8.5"
  }
 },
 "nbformat": 4,
 "nbformat_minor": 4
}
