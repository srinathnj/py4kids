{
 "cells": [
  {
   "cell_type": "code",
   "execution_count": 2,
   "metadata": {},
   "outputs": [],
   "source": [
    "from pyspark.sql import SparkSession\n",
    "import pyspark.sql.functions as F\n",
    "from pyspark.sql.types import *"
   ]
  },
  {
   "cell_type": "code",
   "execution_count": 3,
   "metadata": {},
   "outputs": [],
   "source": [
    "spark = SparkSession.builder.appName(\"cheatsheet\").getOrCreate()"
   ]
  },
  {
   "cell_type": "code",
   "execution_count": 4,
   "metadata": {},
   "outputs": [
    {
     "data": {
      "text/html": [
       "\n",
       "            <div>\n",
       "                <p><b>SparkSession - in-memory</b></p>\n",
       "                \n",
       "        <div>\n",
       "            <p><b>SparkContext</b></p>\n",
       "\n",
       "            <p><a href=\"http://192.168.0.114:4050\">Spark UI</a></p>\n",
       "\n",
       "            <dl>\n",
       "              <dt>Version</dt>\n",
       "                <dd><code>v3.0.1</code></dd>\n",
       "              <dt>Master</dt>\n",
       "                <dd><code>local[*]</code></dd>\n",
       "              <dt>AppName</dt>\n",
       "                <dd><code>cheatsheet</code></dd>\n",
       "            </dl>\n",
       "        </div>\n",
       "        \n",
       "            </div>\n",
       "        "
      ],
      "text/plain": [
       "<pyspark.sql.session.SparkSession at 0x7fe7c287f2b0>"
      ]
     },
     "execution_count": 4,
     "metadata": {},
     "output_type": "execute_result"
    }
   ],
   "source": [
    "spark"
   ]
  },
  {
   "cell_type": "code",
   "execution_count": 5,
   "metadata": {},
   "outputs": [
    {
     "name": "stdout",
     "output_type": "stream",
     "text": [
      "+---+----+------+------+\n",
      "| Id|Name|Salary|DeptId|\n",
      "+---+----+------+------+\n",
      "|  1| Joe|100000|     1|\n",
      "|  2| Jen|110000|     1|\n",
      "+---+----+------+------+\n",
      "\n"
     ]
    }
   ],
   "source": [
    "# Loading Data\n",
    "\n",
    "## from RDD\n",
    "\n",
    "data = [\n",
    "    (\"1\", \"Joe\", \"100000\", \"1\"),\n",
    "    (\"2\", \"Jen\", \"110000\", \"1\")\n",
    "]\n",
    "columns = [\"Id\", \"Name\", \"Salary\", \"DeptId\"]\n",
    "\n",
    "df = spark.sparkContext.parallelize(data).toDF(columns)\n",
    "df.show()"
   ]
  },
  {
   "cell_type": "code",
   "execution_count": 11,
   "metadata": {},
   "outputs": [
    {
     "name": "stdout",
     "output_type": "stream",
     "text": [
      "root\n",
      " |-- Id: string (nullable = true)\n",
      " |-- Name: string (nullable = true)\n",
      " |-- Salary: string (nullable = true)\n",
      " |-- DeptId: string (nullable = true)\n",
      "\n"
     ]
    }
   ],
   "source": [
    "df.printSchema()"
   ]
  },
  {
   "cell_type": "code",
   "execution_count": 12,
   "metadata": {},
   "outputs": [
    {
     "data": {
      "text/plain": [
       "StructType(List(StructField(Id,StringType,true),StructField(Name,StringType,true),StructField(Salary,StringType,true),StructField(DeptId,StringType,true)))"
      ]
     },
     "execution_count": 12,
     "metadata": {},
     "output_type": "execute_result"
    }
   ],
   "source": [
    "df.schema"
   ]
  },
  {
   "cell_type": "code",
   "execution_count": 13,
   "metadata": {},
   "outputs": [
    {
     "data": {
      "text/plain": [
       "2"
      ]
     },
     "execution_count": 13,
     "metadata": {},
     "output_type": "execute_result"
    }
   ],
   "source": [
    "df.count()"
   ]
  },
  {
   "cell_type": "code",
   "execution_count": 6,
   "metadata": {},
   "outputs": [
    {
     "name": "stdout",
     "output_type": "stream",
     "text": [
      "+---+----+------+------+\n",
      "| Id|Name|Salary|DeptId|\n",
      "+---+----+------+------+\n",
      "| 10| Ana|200000|     2|\n",
      "| 12| Bob|210000|  null|\n",
      "+---+----+------+------+\n",
      "\n"
     ]
    }
   ],
   "source": [
    "## createDataFrame\n",
    "\n",
    "data = [\n",
    "    (\"10\", \"Ana\", \"200000\", \"2\"),\n",
    "    (\"12\", \"Bob\", \"210000\", None)\n",
    "]\n",
    "columns = [\"Id\", \"Name\", \"Salary\", \"DeptId\"]\n",
    "\n",
    "df2 = spark.createDataFrame(data=data, schema=columns)\n",
    "df2.show()"
   ]
  },
  {
   "cell_type": "code",
   "execution_count": 39,
   "metadata": {},
   "outputs": [
    {
     "name": "stdout",
     "output_type": "stream",
     "text": [
      "+---+----+\n",
      "| Id|Dept|\n",
      "+---+----+\n",
      "|  1| Dev|\n",
      "|  2|  HR|\n",
      "+---+----+\n",
      "\n"
     ]
    }
   ],
   "source": [
    "data = [\n",
    "    (1, \"Dev\"),\n",
    "    (2, \"HR\")\n",
    "]\n",
    "\n",
    "schema = \"Id INT, Dept STRING\"\n",
    "\n",
    "dept_df = spark.createDataFrame(data=data, schema=schema)\n",
    "dept_df.show()"
   ]
  },
  {
   "cell_type": "code",
   "execution_count": 45,
   "metadata": {},
   "outputs": [
    {
     "name": "stdout",
     "output_type": "stream",
     "text": [
      "+----+------+---+------+\n",
      "|Name|Salary| Id|DeptId|\n",
      "+----+------+---+------+\n",
      "| Joe|100000|  1|     1|\n",
      "| Jen|110000|  2|     1|\n",
      "+----+------+---+------+\n",
      "\n"
     ]
    }
   ],
   "source": [
    "df = (df\n",
    "    .withColumn(\"id_\", F.col(\"Id\").cast(IntegerType()))\n",
    "    .withColumn(\"dept_id_\", F.col(\"DeptId\").cast(IntegerType()))\n",
    "    .drop(\"Id\", \"DeptId\")\n",
    "    .withColumnRenamed(\"id_\", \"Id\")\n",
    "    .withColumnRenamed(\"dept_id_\", \"DeptId\")\n",
    ")\n",
    "\n",
    "df.show()"
   ]
  },
  {
   "cell_type": "code",
   "execution_count": 47,
   "metadata": {},
   "outputs": [
    {
     "name": "stdout",
     "output_type": "stream",
     "text": [
      "+----+------+---+------+\n",
      "|Name|Salary| Id|DeptId|\n",
      "+----+------+---+------+\n",
      "| Ana|200000| 10|     2|\n",
      "| Bob|210000| 12|  null|\n",
      "+----+------+---+------+\n",
      "\n"
     ]
    }
   ],
   "source": [
    "df2 = (df2\n",
    "    .withColumn(\"id_\", F.col(\"Id\").cast(IntegerType()))\n",
    "    .withColumn(\"dept_id_\", F.col(\"DeptId\").cast(IntegerType()))\n",
    "    .drop(\"Id\", \"DeptId\")\n",
    "    .withColumnRenamed(\"id_\", \"Id\")\n",
    "    .withColumnRenamed(\"dept_id_\", \"DeptId\")\n",
    ")\n",
    "\n",
    "df2.show()"
   ]
  },
  {
   "cell_type": "code",
   "execution_count": 46,
   "metadata": {},
   "outputs": [
    {
     "name": "stdout",
     "output_type": "stream",
     "text": [
      "root\n",
      " |-- Name: string (nullable = true)\n",
      " |-- Salary: string (nullable = true)\n",
      " |-- Id: integer (nullable = true)\n",
      " |-- DeptId: integer (nullable = true)\n",
      "\n"
     ]
    }
   ],
   "source": [
    "df.printSchema()"
   ]
  },
  {
   "cell_type": "code",
   "execution_count": 42,
   "metadata": {},
   "outputs": [
    {
     "name": "stdout",
     "output_type": "stream",
     "text": [
      "+---+----+------+------+\n",
      "| Id|Name|Salary|DeptId|\n",
      "+---+----+------+------+\n",
      "|  1| Joe|100000|     1|\n",
      "|  2| Jen|110000|     1|\n",
      "+---+----+------+------+\n",
      "\n"
     ]
    }
   ],
   "source": [
    "df.show()"
   ]
  },
  {
   "cell_type": "code",
   "execution_count": 48,
   "metadata": {},
   "outputs": [
    {
     "name": "stdout",
     "output_type": "stream",
     "text": [
      "+---+----+\n",
      "| Id|Dept|\n",
      "+---+----+\n",
      "|  1| Dev|\n",
      "|  2|  HR|\n",
      "+---+----+\n",
      "\n"
     ]
    }
   ],
   "source": [
    "dept_df.show()"
   ]
  },
  {
   "cell_type": "code",
   "execution_count": 52,
   "metadata": {},
   "outputs": [
    {
     "name": "stdout",
     "output_type": "stream",
     "text": [
      "+---+----+------+----+\n",
      "| Id|Name|Salary|Dept|\n",
      "+---+----+------+----+\n",
      "|  1| Joe|100000| Dev|\n",
      "|  2| Jen|110000| Dev|\n",
      "+---+----+------+----+\n",
      "\n"
     ]
    }
   ],
   "source": [
    "(\n",
    "    df.join(dept_df, df.DeptId == dept_df.Id, how=\"inner\")\n",
    "    .select(df.Id, df.Name, df.Salary, dept_df.Dept)\n",
    "    .show()\n",
    ")"
   ]
  },
  {
   "cell_type": "code",
   "execution_count": 55,
   "metadata": {},
   "outputs": [
    {
     "name": "stdout",
     "output_type": "stream",
     "text": [
      "+---+----+------+----+\n",
      "| Id|Name|Salary|Dept|\n",
      "+---+----+------+----+\n",
      "| 10| Ana|200000|  HR|\n",
      "| 12| Bob|210000|null|\n",
      "|  2| Jen|110000| Dev|\n",
      "|  1| Joe|100000| Dev|\n",
      "+---+----+------+----+\n",
      "\n"
     ]
    }
   ],
   "source": [
    "person_df = (\n",
    "    df\n",
    "    .union(df2)\n",
    "    .join(dept_df, df.DeptId == dept_df.Id, how=\"left\")\n",
    "    .select(df.Id, df.Name, df.Salary, dept_df.Dept)\n",
    "    .orderBy(F.col(\"Name\"))\n",
    ")\n",
    "\n",
    "person_df.show()"
   ]
  },
  {
   "cell_type": "code",
   "execution_count": 15,
   "metadata": {},
   "outputs": [
    {
     "name": "stdout",
     "output_type": "stream",
     "text": [
      "+---+----+------+------+\n",
      "| Id|Name|Salary|DeptId|\n",
      "+---+----+------+------+\n",
      "|  2|   2|     2|     1|\n",
      "+---+----+------+------+\n",
      "\n"
     ]
    }
   ],
   "source": [
    "df2.agg(*[F.count(c).alias(c) for c in df2.columns]).show()"
   ]
  },
  {
   "cell_type": "code",
   "execution_count": 16,
   "metadata": {},
   "outputs": [],
   "source": [
    "def my_count(df):\n",
    "    return df.agg(*[F.count(c).alias(c) for c in df.columns])"
   ]
  },
  {
   "cell_type": "code",
   "execution_count": 17,
   "metadata": {},
   "outputs": [
    {
     "name": "stdout",
     "output_type": "stream",
     "text": [
      "+---+----+------+------+\n",
      "| Id|Name|Salary|DeptId|\n",
      "+---+----+------+------+\n",
      "|  2|   2|     2|     2|\n",
      "+---+----+------+------+\n",
      "\n"
     ]
    }
   ],
   "source": [
    "my_count(df).show()"
   ]
  },
  {
   "cell_type": "code",
   "execution_count": 18,
   "metadata": {},
   "outputs": [
    {
     "name": "stdout",
     "output_type": "stream",
     "text": [
      "+---+----+------+------+\n",
      "| Id|Name|Salary|DeptId|\n",
      "+---+----+------+------+\n",
      "|  2|   2|     2|     1|\n",
      "+---+----+------+------+\n",
      "\n"
     ]
    }
   ],
   "source": [
    "my_count(df2).show()"
   ]
  },
  {
   "cell_type": "code",
   "execution_count": 20,
   "metadata": {},
   "outputs": [],
   "source": [
    "def raise_salary(sal: float, pct: float =0.2)-> float:\n",
    "    return sal*(1+pct)"
   ]
  },
  {
   "cell_type": "code",
   "execution_count": 21,
   "metadata": {},
   "outputs": [
    {
     "data": {
      "text/plain": [
       "120.0"
      ]
     },
     "execution_count": 21,
     "metadata": {},
     "output_type": "execute_result"
    }
   ],
   "source": [
    "raise_salary(100)"
   ]
  },
  {
   "cell_type": "code",
   "execution_count": 22,
   "metadata": {},
   "outputs": [],
   "source": [
    "fn_raise_salary = F.udf(raise_salary, FloatType())"
   ]
  },
  {
   "cell_type": "code",
   "execution_count": 29,
   "metadata": {},
   "outputs": [],
   "source": [
    "df_1 = df.withColumn(\"NewSalary\", fn_raise_salary(F.col(\"Salary\").cast(FloatType())))"
   ]
  },
  {
   "cell_type": "code",
   "execution_count": 30,
   "metadata": {},
   "outputs": [
    {
     "name": "stdout",
     "output_type": "stream",
     "text": [
      "+---+----+------+------+---------+\n",
      "| Id|Name|Salary|DeptId|NewSalary|\n",
      "+---+----+------+------+---------+\n",
      "|  1| Joe|100000|     1| 120000.0|\n",
      "|  2| Jen|110000|     1| 132000.0|\n",
      "+---+----+------+------+---------+\n",
      "\n"
     ]
    }
   ],
   "source": [
    "df_1.show()"
   ]
  },
  {
   "cell_type": "code",
   "execution_count": 33,
   "metadata": {},
   "outputs": [
    {
     "data": {
      "text/plain": [
       "<function __main__.raise_salary(sal: float, pct: float = 0.2) -> float>"
      ]
     },
     "execution_count": 33,
     "metadata": {},
     "output_type": "execute_result"
    }
   ],
   "source": [
    "spark.udf.register(\"fn_raise_salary\", raise_salary, FloatType())"
   ]
  },
  {
   "cell_type": "code",
   "execution_count": 34,
   "metadata": {},
   "outputs": [],
   "source": [
    "df.createOrReplaceTempView(\"person\")"
   ]
  },
  {
   "cell_type": "code",
   "execution_count": 35,
   "metadata": {},
   "outputs": [
    {
     "name": "stdout",
     "output_type": "stream",
     "text": [
      "+---+----+------+------+\n",
      "| Id|Name|Salary|DeptId|\n",
      "+---+----+------+------+\n",
      "|  1| Joe|100000|     1|\n",
      "|  2| Jen|110000|     1|\n",
      "+---+----+------+------+\n",
      "\n"
     ]
    }
   ],
   "source": [
    "spark.sql(\"select * from person\").show()"
   ]
  },
  {
   "cell_type": "code",
   "execution_count": 38,
   "metadata": {},
   "outputs": [
    {
     "name": "stdout",
     "output_type": "stream",
     "text": [
      "+---+----+------+------+---------+\n",
      "| Id|Name|Salary|DeptId|NewSalary|\n",
      "+---+----+------+------+---------+\n",
      "|  1| Joe|100000|     1| 120000.0|\n",
      "|  2| Jen|110000|     1| 132000.0|\n",
      "+---+----+------+------+---------+\n",
      "\n"
     ]
    }
   ],
   "source": [
    "spark.sql(\"select p.*, fn_raise_salary(CAST(p.Salary as FLOAT)) as NewSalary from person p\").show()"
   ]
  },
  {
   "cell_type": "code",
   "execution_count": null,
   "metadata": {},
   "outputs": [],
   "source": []
  },
  {
   "cell_type": "code",
   "execution_count": 18,
   "metadata": {},
   "outputs": [],
   "source": [
    "## Save data\n",
    "\n",
    "df.coalesce(1).write.mode(\"overwrite\").format(\"json\").save(\"person.json\")"
   ]
  },
  {
   "cell_type": "code",
   "execution_count": 19,
   "metadata": {},
   "outputs": [
    {
     "name": "stdout",
     "output_type": "stream",
     "text": [
      "/home/wengong/projects/py4kids/lesson-17-pyspark/databrick\r\n"
     ]
    }
   ],
   "source": [
    "!pwd"
   ]
  },
  {
   "cell_type": "code",
   "execution_count": 20,
   "metadata": {},
   "outputs": [
    {
     "name": "stdout",
     "output_type": "stream",
     "text": [
      "apache-spark-resources.xlsx\t      pyspark-tmp.ipynb\r\n",
      "LearningApacheSpark-CheatSheet.ipynb  spark-cert.README.md\r\n",
      "person.json\t\t\t      spark-summit-2015\r\n",
      "pyspark-cheat-sheet.ipynb\r\n"
     ]
    }
   ],
   "source": [
    "!ls"
   ]
  },
  {
   "cell_type": "code",
   "execution_count": 21,
   "metadata": {},
   "outputs": [
    {
     "name": "stdout",
     "output_type": "stream",
     "text": [
      "part-00000-90f0a19a-b2e6-440d-aebe-3d7cf18b6904-c000.json  _SUCCESS\r\n"
     ]
    }
   ],
   "source": [
    "!ls person.json/"
   ]
  },
  {
   "cell_type": "code",
   "execution_count": 22,
   "metadata": {},
   "outputs": [
    {
     "name": "stdout",
     "output_type": "stream",
     "text": [
      "{\"Id\":\"1\",\"Name\":\"Joe\",\"Salary\":\"100000\",\"DeptId\":\"1\"}\r\n",
      "{\"Id\":\"2\",\"Name\":\"Jen\",\"Salary\":\"110000\",\"DeptId\":\"1\"}\r\n"
     ]
    }
   ],
   "source": [
    "!cat person.json/part-00000-90f0a19a-b2e6-440d-aebe-3d7cf18b6904-c000.json"
   ]
  },
  {
   "cell_type": "code",
   "execution_count": 23,
   "metadata": {},
   "outputs": [],
   "source": [
    "df2.coalesce(1).write.mode(\"append\").format(\"json\").save(\"person.json\")"
   ]
  },
  {
   "cell_type": "code",
   "execution_count": 24,
   "metadata": {},
   "outputs": [
    {
     "name": "stdout",
     "output_type": "stream",
     "text": [
      "part-00000-263cf6a3-38e8-4c5a-9cc8-8cdee188463e-c000.json  _SUCCESS\r\n",
      "part-00000-90f0a19a-b2e6-440d-aebe-3d7cf18b6904-c000.json\r\n"
     ]
    }
   ],
   "source": [
    "!ls person.json/"
   ]
  },
  {
   "cell_type": "code",
   "execution_count": 26,
   "metadata": {},
   "outputs": [
    {
     "name": "stdout",
     "output_type": "stream",
     "text": [
      "{\"Id\":\"1\",\"Name\":\"Joe\",\"Salary\":\"100000\",\"DeptId\":\"1\"}\r\n",
      "{\"Id\":\"2\",\"Name\":\"Jen\",\"Salary\":\"110000\",\"DeptId\":\"1\"}\r\n"
     ]
    }
   ],
   "source": [
    "!cat person.json/part-00000-90f0a19a-b2e6-440d-aebe-3d7cf18b6904-c000.json"
   ]
  },
  {
   "cell_type": "code",
   "execution_count": 25,
   "metadata": {},
   "outputs": [
    {
     "name": "stdout",
     "output_type": "stream",
     "text": [
      "{\"Id\":\"10\",\"Name\":\"Ana\",\"Salary\":\"200000\",\"DeptId\":\"2\"}\r\n",
      "{\"Id\":\"12\",\"Name\":\"Bob\",\"Salary\":\"210000\"}\r\n"
     ]
    }
   ],
   "source": [
    "!cat person.json/part-00000-263cf6a3-38e8-4c5a-9cc8-8cdee188463e-c000.json"
   ]
  },
  {
   "cell_type": "code",
   "execution_count": 27,
   "metadata": {},
   "outputs": [],
   "source": [
    "## Read json\n",
    "df3 = spark.read.json(\"person.json\")"
   ]
  },
  {
   "cell_type": "code",
   "execution_count": 28,
   "metadata": {},
   "outputs": [
    {
     "name": "stdout",
     "output_type": "stream",
     "text": [
      "+------+---+----+------+\n",
      "|DeptId| Id|Name|Salary|\n",
      "+------+---+----+------+\n",
      "|     1|  1| Joe|100000|\n",
      "|     1|  2| Jen|110000|\n",
      "|     2| 10| Ana|200000|\n",
      "|  null| 12| Bob|210000|\n",
      "+------+---+----+------+\n",
      "\n"
     ]
    }
   ],
   "source": [
    "df3.show()"
   ]
  },
  {
   "cell_type": "code",
   "execution_count": 7,
   "metadata": {},
   "outputs": [],
   "source": [
    "df.coalesce(1).write.mode(\"overwrite\").csv(\"person-csv\",header=True)"
   ]
  },
  {
   "cell_type": "code",
   "execution_count": 8,
   "metadata": {},
   "outputs": [
    {
     "name": "stdout",
     "output_type": "stream",
     "text": [
      "apache-spark-resources.xlsx\t      pyspark-cheat-sheet.ipynb\r\n",
      "LearningApacheSpark-CheatSheet.ipynb  pyspark-tmp.ipynb\r\n",
      "person-csv\t\t\t      spark-cert.README.md\r\n",
      "person.csv\t\t\t      spark-summit-2015\r\n",
      "person.json\r\n"
     ]
    }
   ],
   "source": [
    "!ls"
   ]
  },
  {
   "cell_type": "code",
   "execution_count": 9,
   "metadata": {},
   "outputs": [
    {
     "name": "stdout",
     "output_type": "stream",
     "text": [
      "part-00000-6b313fba-f2ce-4e0a-b861-02f4f935483f-c000.csv  _SUCCESS\r\n"
     ]
    }
   ],
   "source": [
    "!ls person-csv/"
   ]
  },
  {
   "cell_type": "code",
   "execution_count": 10,
   "metadata": {},
   "outputs": [
    {
     "name": "stdout",
     "output_type": "stream",
     "text": [
      "Id,Name,Salary,DeptId\r\n",
      "1,Joe,100000,1\r\n",
      "2,Jen,110000,1\r\n"
     ]
    }
   ],
   "source": [
    "!cat person-csv/part-00000-6b313fba-f2ce-4e0a-b861-02f4f935483f-c000.csv"
   ]
  },
  {
   "cell_type": "code",
   "execution_count": 35,
   "metadata": {},
   "outputs": [],
   "source": [
    "spark.stop()"
   ]
  },
  {
   "cell_type": "code",
   "execution_count": null,
   "metadata": {},
   "outputs": [],
   "source": []
  }
 ],
 "metadata": {
  "kernelspec": {
   "display_name": "Python 3",
   "language": "python",
   "name": "python3"
  },
  "language_info": {
   "codemirror_mode": {
    "name": "ipython",
    "version": 3
   },
   "file_extension": ".py",
   "mimetype": "text/x-python",
   "name": "python",
   "nbconvert_exporter": "python",
   "pygments_lexer": "ipython3",
   "version": "3.8.5"
  }
 },
 "nbformat": 4,
 "nbformat_minor": 4
}
