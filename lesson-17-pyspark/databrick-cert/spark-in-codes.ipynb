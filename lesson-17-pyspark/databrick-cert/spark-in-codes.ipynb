{
 "cells": [
  {
   "cell_type": "markdown",
   "metadata": {},
   "source": [
    "https://www.rakirahman.me/spark-certification-study-guide-part-2"
   ]
  },
  {
   "cell_type": "code",
   "execution_count": 1,
   "metadata": {},
   "outputs": [],
   "source": [
    "from pyspark.sql import SparkSession\n",
    "from pyspark.sql import functions as F\n",
    "from pyspark.sql.types import *\n",
    "\n",
    "spark = SparkSession.builder.appName(\"spark-codes\").getOrCreate()"
   ]
  },
  {
   "cell_type": "code",
   "execution_count": 2,
   "metadata": {},
   "outputs": [
    {
     "data": {
      "text/html": [
       "\n",
       "            <div>\n",
       "                <p><b>SparkSession - in-memory</b></p>\n",
       "                \n",
       "        <div>\n",
       "            <p><b>SparkContext</b></p>\n",
       "\n",
       "            <p><a href=\"http://192.168.0.114:4044\">Spark UI</a></p>\n",
       "\n",
       "            <dl>\n",
       "              <dt>Version</dt>\n",
       "                <dd><code>v3.0.1</code></dd>\n",
       "              <dt>Master</dt>\n",
       "                <dd><code>local[*]</code></dd>\n",
       "              <dt>AppName</dt>\n",
       "                <dd><code>spark-codes</code></dd>\n",
       "            </dl>\n",
       "        </div>\n",
       "        \n",
       "            </div>\n",
       "        "
      ],
      "text/plain": [
       "<pyspark.sql.session.SparkSession at 0x7f691c27ef10>"
      ]
     },
     "execution_count": 2,
     "metadata": {},
     "output_type": "execute_result"
    }
   ],
   "source": [
    "spark"
   ]
  },
  {
   "cell_type": "code",
   "execution_count": 3,
   "metadata": {},
   "outputs": [],
   "source": [
    "sc = spark.sparkContext"
   ]
  },
  {
   "cell_type": "code",
   "execution_count": 4,
   "metadata": {},
   "outputs": [
    {
     "data": {
      "text/html": [
       "\n",
       "        <div>\n",
       "            <p><b>SparkContext</b></p>\n",
       "\n",
       "            <p><a href=\"http://192.168.0.114:4044\">Spark UI</a></p>\n",
       "\n",
       "            <dl>\n",
       "              <dt>Version</dt>\n",
       "                <dd><code>v3.0.1</code></dd>\n",
       "              <dt>Master</dt>\n",
       "                <dd><code>local[*]</code></dd>\n",
       "              <dt>AppName</dt>\n",
       "                <dd><code>spark-codes</code></dd>\n",
       "            </dl>\n",
       "        </div>\n",
       "        "
      ],
      "text/plain": [
       "<SparkContext master=local[*] appName=spark-codes>"
      ]
     },
     "execution_count": 4,
     "metadata": {},
     "output_type": "execute_result"
    }
   ],
   "source": [
    "sc"
   ]
  },
  {
   "cell_type": "markdown",
   "metadata": {},
   "source": [
    "## Quick start"
   ]
  },
  {
   "cell_type": "code",
   "execution_count": 5,
   "metadata": {},
   "outputs": [
    {
     "name": "stdout",
     "output_type": "stream",
     "text": [
      "+---+\n",
      "| id|\n",
      "+---+\n",
      "|  0|\n",
      "|  1|\n",
      "|  2|\n",
      "|  3|\n",
      "|  4|\n",
      "+---+\n",
      "only showing top 5 rows\n",
      "\n"
     ]
    }
   ],
   "source": [
    "df1 = spark.range(100)\n",
    "df1.show(5)"
   ]
  },
  {
   "cell_type": "code",
   "execution_count": 6,
   "metadata": {},
   "outputs": [
    {
     "data": {
      "text/plain": [
       "pyspark.sql.dataframe.DataFrame"
      ]
     },
     "execution_count": 6,
     "metadata": {},
     "output_type": "execute_result"
    }
   ],
   "source": [
    "type(df1)"
   ]
  },
  {
   "cell_type": "code",
   "execution_count": 7,
   "metadata": {},
   "outputs": [
    {
     "data": {
      "text/plain": [
       "100"
      ]
     },
     "execution_count": 7,
     "metadata": {},
     "output_type": "execute_result"
    }
   ],
   "source": [
    "df1.count()"
   ]
  },
  {
   "cell_type": "code",
   "execution_count": 8,
   "metadata": {},
   "outputs": [
    {
     "name": "stdout",
     "output_type": "stream",
     "text": [
      "root\n",
      " |-- id: long (nullable = false)\n",
      "\n"
     ]
    }
   ],
   "source": [
    "df1.printSchema()"
   ]
  },
  {
   "cell_type": "markdown",
   "metadata": {},
   "source": [
    "## SparkConf"
   ]
  },
  {
   "cell_type": "raw",
   "metadata": {},
   "source": [
    "spark.conf.get(\"spark.sql.shuffle.partitions\")\n",
    "# '200'"
   ]
  },
  {
   "cell_type": "markdown",
   "metadata": {},
   "source": [
    "either using `spark.conf.get()` or using `conf = sc.getConf()`, but don't mix because one will fail"
   ]
  },
  {
   "cell_type": "code",
   "execution_count": 10,
   "metadata": {},
   "outputs": [],
   "source": [
    "conf = sc.getConf()"
   ]
  },
  {
   "cell_type": "code",
   "execution_count": 11,
   "metadata": {},
   "outputs": [
    {
     "data": {
      "text/plain": [
       "[('spark.app.id', 'local-1623374481707'),\n",
       " ('spark.driver.port', '40715'),\n",
       " ('spark.driver.host', '192.168.0.114'),\n",
       " ('spark.driver.extraClassPath',\n",
       "  '/home/wengong/spark/spark-3.0.1-bin-hadoop2.7/jars/sqlite-jdbc-3.27.2.1.jar'),\n",
       " ('spark.app.name', 'spark-codes'),\n",
       " ('spark.executor.id', 'driver'),\n",
       " ('spark.sql.warehouse.dir', '/tmp/hive/spark-warehouse'),\n",
       " ('spark.executor.extraClassPath',\n",
       "  '/home/wengong/spark/spark-3.0.1-bin-hadoop2.7/jars/sqlite-jdbc-3.27.2.1.jar'),\n",
       " ('spark.rdd.compress', 'True'),\n",
       " ('spark.serializer.objectStreamReset', '100'),\n",
       " ('spark.master', 'local[*]'),\n",
       " ('spark.submit.pyFiles', ''),\n",
       " ('spark.submit.deployMode', 'client'),\n",
       " ('spark.ui.showConsoleProgress', 'true')]"
      ]
     },
     "execution_count": 11,
     "metadata": {},
     "output_type": "execute_result"
    }
   ],
   "source": [
    "conf.getAll()"
   ]
  },
  {
   "cell_type": "code",
   "execution_count": 12,
   "metadata": {},
   "outputs": [],
   "source": [
    "conf.get(\"spark.sql.shuffle.partitions\")"
   ]
  },
  {
   "cell_type": "code",
   "execution_count": 13,
   "metadata": {},
   "outputs": [
    {
     "data": {
      "text/plain": [
       "<pyspark.conf.SparkConf at 0x7fed42d59cd0>"
      ]
     },
     "execution_count": 13,
     "metadata": {},
     "output_type": "execute_result"
    }
   ],
   "source": [
    "conf.set(\"spark.executor.memory\", \"2g\")"
   ]
  },
  {
   "cell_type": "code",
   "execution_count": 13,
   "metadata": {},
   "outputs": [],
   "source": [
    "conf.get(\"spark.executor.memory\")"
   ]
  },
  {
   "cell_type": "code",
   "execution_count": 15,
   "metadata": {},
   "outputs": [
    {
     "ename": "Py4JJavaError",
     "evalue": "An error occurred while calling o29.get.\n: java.util.NoSuchElementException: spark.executor.memory\n\tat org.apache.spark.sql.internal.SQLConf.$anonfun$getConfString$3(SQLConf.scala:3196)\n\tat scala.Option.getOrElse(Option.scala:189)\n\tat org.apache.spark.sql.internal.SQLConf.getConfString(SQLConf.scala:3196)\n\tat org.apache.spark.sql.RuntimeConfig.get(RuntimeConfig.scala:73)\n\tat sun.reflect.NativeMethodAccessorImpl.invoke0(Native Method)\n\tat sun.reflect.NativeMethodAccessorImpl.invoke(NativeMethodAccessorImpl.java:62)\n\tat sun.reflect.DelegatingMethodAccessorImpl.invoke(DelegatingMethodAccessorImpl.java:43)\n\tat java.lang.reflect.Method.invoke(Method.java:498)\n\tat py4j.reflection.MethodInvoker.invoke(MethodInvoker.java:244)\n\tat py4j.reflection.ReflectionEngine.invoke(ReflectionEngine.java:357)\n\tat py4j.Gateway.invoke(Gateway.java:282)\n\tat py4j.commands.AbstractCommand.invokeMethod(AbstractCommand.java:132)\n\tat py4j.commands.CallCommand.execute(CallCommand.java:79)\n\tat py4j.GatewayConnection.run(GatewayConnection.java:238)\n\tat java.lang.Thread.run(Thread.java:748)\n",
     "output_type": "error",
     "traceback": [
      "\u001b[0;31m---------------------------------------------------------------------------\u001b[0m",
      "\u001b[0;31mPy4JJavaError\u001b[0m                             Traceback (most recent call last)",
      "\u001b[0;32m<ipython-input-15-5a6a97ae7227>\u001b[0m in \u001b[0;36m<module>\u001b[0;34m\u001b[0m\n\u001b[0;32m----> 1\u001b[0;31m \u001b[0mspark\u001b[0m\u001b[0;34m.\u001b[0m\u001b[0mconf\u001b[0m\u001b[0;34m.\u001b[0m\u001b[0mget\u001b[0m\u001b[0;34m(\u001b[0m\u001b[0;34m\"spark.executor.memory\"\u001b[0m\u001b[0;34m)\u001b[0m\u001b[0;34m\u001b[0m\u001b[0;34m\u001b[0m\u001b[0m\n\u001b[0m",
      "\u001b[0;32m~/.local/lib/python3.8/site-packages/pyspark/sql/conf.py\u001b[0m in \u001b[0;36mget\u001b[0;34m(self, key, default)\u001b[0m\n\u001b[1;32m     49\u001b[0m         \u001b[0mself\u001b[0m\u001b[0;34m.\u001b[0m\u001b[0m_checkType\u001b[0m\u001b[0;34m(\u001b[0m\u001b[0mkey\u001b[0m\u001b[0;34m,\u001b[0m \u001b[0;34m\"key\"\u001b[0m\u001b[0;34m)\u001b[0m\u001b[0;34m\u001b[0m\u001b[0;34m\u001b[0m\u001b[0m\n\u001b[1;32m     50\u001b[0m         \u001b[0;32mif\u001b[0m \u001b[0mdefault\u001b[0m \u001b[0;32mis\u001b[0m \u001b[0m_NoValue\u001b[0m\u001b[0;34m:\u001b[0m\u001b[0;34m\u001b[0m\u001b[0;34m\u001b[0m\u001b[0m\n\u001b[0;32m---> 51\u001b[0;31m             \u001b[0;32mreturn\u001b[0m \u001b[0mself\u001b[0m\u001b[0;34m.\u001b[0m\u001b[0m_jconf\u001b[0m\u001b[0;34m.\u001b[0m\u001b[0mget\u001b[0m\u001b[0;34m(\u001b[0m\u001b[0mkey\u001b[0m\u001b[0;34m)\u001b[0m\u001b[0;34m\u001b[0m\u001b[0;34m\u001b[0m\u001b[0m\n\u001b[0m\u001b[1;32m     52\u001b[0m         \u001b[0;32melse\u001b[0m\u001b[0;34m:\u001b[0m\u001b[0;34m\u001b[0m\u001b[0;34m\u001b[0m\u001b[0m\n\u001b[1;32m     53\u001b[0m             \u001b[0;32mif\u001b[0m \u001b[0mdefault\u001b[0m \u001b[0;32mis\u001b[0m \u001b[0;32mnot\u001b[0m \u001b[0;32mNone\u001b[0m\u001b[0;34m:\u001b[0m\u001b[0;34m\u001b[0m\u001b[0;34m\u001b[0m\u001b[0m\n",
      "\u001b[0;32m~/.local/lib/python3.8/site-packages/py4j/java_gateway.py\u001b[0m in \u001b[0;36m__call__\u001b[0;34m(self, *args)\u001b[0m\n\u001b[1;32m   1302\u001b[0m \u001b[0;34m\u001b[0m\u001b[0m\n\u001b[1;32m   1303\u001b[0m         \u001b[0manswer\u001b[0m \u001b[0;34m=\u001b[0m \u001b[0mself\u001b[0m\u001b[0;34m.\u001b[0m\u001b[0mgateway_client\u001b[0m\u001b[0;34m.\u001b[0m\u001b[0msend_command\u001b[0m\u001b[0;34m(\u001b[0m\u001b[0mcommand\u001b[0m\u001b[0;34m)\u001b[0m\u001b[0;34m\u001b[0m\u001b[0;34m\u001b[0m\u001b[0m\n\u001b[0;32m-> 1304\u001b[0;31m         return_value = get_return_value(\n\u001b[0m\u001b[1;32m   1305\u001b[0m             answer, self.gateway_client, self.target_id, self.name)\n\u001b[1;32m   1306\u001b[0m \u001b[0;34m\u001b[0m\u001b[0m\n",
      "\u001b[0;32m~/.local/lib/python3.8/site-packages/pyspark/sql/utils.py\u001b[0m in \u001b[0;36mdeco\u001b[0;34m(*a, **kw)\u001b[0m\n\u001b[1;32m    126\u001b[0m     \u001b[0;32mdef\u001b[0m \u001b[0mdeco\u001b[0m\u001b[0;34m(\u001b[0m\u001b[0;34m*\u001b[0m\u001b[0ma\u001b[0m\u001b[0;34m,\u001b[0m \u001b[0;34m**\u001b[0m\u001b[0mkw\u001b[0m\u001b[0;34m)\u001b[0m\u001b[0;34m:\u001b[0m\u001b[0;34m\u001b[0m\u001b[0;34m\u001b[0m\u001b[0m\n\u001b[1;32m    127\u001b[0m         \u001b[0;32mtry\u001b[0m\u001b[0;34m:\u001b[0m\u001b[0;34m\u001b[0m\u001b[0;34m\u001b[0m\u001b[0m\n\u001b[0;32m--> 128\u001b[0;31m             \u001b[0;32mreturn\u001b[0m \u001b[0mf\u001b[0m\u001b[0;34m(\u001b[0m\u001b[0;34m*\u001b[0m\u001b[0ma\u001b[0m\u001b[0;34m,\u001b[0m \u001b[0;34m**\u001b[0m\u001b[0mkw\u001b[0m\u001b[0;34m)\u001b[0m\u001b[0;34m\u001b[0m\u001b[0;34m\u001b[0m\u001b[0m\n\u001b[0m\u001b[1;32m    129\u001b[0m         \u001b[0;32mexcept\u001b[0m \u001b[0mpy4j\u001b[0m\u001b[0;34m.\u001b[0m\u001b[0mprotocol\u001b[0m\u001b[0;34m.\u001b[0m\u001b[0mPy4JJavaError\u001b[0m \u001b[0;32mas\u001b[0m \u001b[0me\u001b[0m\u001b[0;34m:\u001b[0m\u001b[0;34m\u001b[0m\u001b[0;34m\u001b[0m\u001b[0m\n\u001b[1;32m    130\u001b[0m             \u001b[0mconverted\u001b[0m \u001b[0;34m=\u001b[0m \u001b[0mconvert_exception\u001b[0m\u001b[0;34m(\u001b[0m\u001b[0me\u001b[0m\u001b[0;34m.\u001b[0m\u001b[0mjava_exception\u001b[0m\u001b[0;34m)\u001b[0m\u001b[0;34m\u001b[0m\u001b[0;34m\u001b[0m\u001b[0m\n",
      "\u001b[0;32m~/.local/lib/python3.8/site-packages/py4j/protocol.py\u001b[0m in \u001b[0;36mget_return_value\u001b[0;34m(answer, gateway_client, target_id, name)\u001b[0m\n\u001b[1;32m    324\u001b[0m             \u001b[0mvalue\u001b[0m \u001b[0;34m=\u001b[0m \u001b[0mOUTPUT_CONVERTER\u001b[0m\u001b[0;34m[\u001b[0m\u001b[0mtype\u001b[0m\u001b[0;34m]\u001b[0m\u001b[0;34m(\u001b[0m\u001b[0manswer\u001b[0m\u001b[0;34m[\u001b[0m\u001b[0;36m2\u001b[0m\u001b[0;34m:\u001b[0m\u001b[0;34m]\u001b[0m\u001b[0;34m,\u001b[0m \u001b[0mgateway_client\u001b[0m\u001b[0;34m)\u001b[0m\u001b[0;34m\u001b[0m\u001b[0;34m\u001b[0m\u001b[0m\n\u001b[1;32m    325\u001b[0m             \u001b[0;32mif\u001b[0m \u001b[0manswer\u001b[0m\u001b[0;34m[\u001b[0m\u001b[0;36m1\u001b[0m\u001b[0;34m]\u001b[0m \u001b[0;34m==\u001b[0m \u001b[0mREFERENCE_TYPE\u001b[0m\u001b[0;34m:\u001b[0m\u001b[0;34m\u001b[0m\u001b[0;34m\u001b[0m\u001b[0m\n\u001b[0;32m--> 326\u001b[0;31m                 raise Py4JJavaError(\n\u001b[0m\u001b[1;32m    327\u001b[0m                     \u001b[0;34m\"An error occurred while calling {0}{1}{2}.\\n\"\u001b[0m\u001b[0;34m.\u001b[0m\u001b[0;34m\u001b[0m\u001b[0;34m\u001b[0m\u001b[0m\n\u001b[1;32m    328\u001b[0m                     format(target_id, \".\", name), value)\n",
      "\u001b[0;31mPy4JJavaError\u001b[0m: An error occurred while calling o29.get.\n: java.util.NoSuchElementException: spark.executor.memory\n\tat org.apache.spark.sql.internal.SQLConf.$anonfun$getConfString$3(SQLConf.scala:3196)\n\tat scala.Option.getOrElse(Option.scala:189)\n\tat org.apache.spark.sql.internal.SQLConf.getConfString(SQLConf.scala:3196)\n\tat org.apache.spark.sql.RuntimeConfig.get(RuntimeConfig.scala:73)\n\tat sun.reflect.NativeMethodAccessorImpl.invoke0(Native Method)\n\tat sun.reflect.NativeMethodAccessorImpl.invoke(NativeMethodAccessorImpl.java:62)\n\tat sun.reflect.DelegatingMethodAccessorImpl.invoke(DelegatingMethodAccessorImpl.java:43)\n\tat java.lang.reflect.Method.invoke(Method.java:498)\n\tat py4j.reflection.MethodInvoker.invoke(MethodInvoker.java:244)\n\tat py4j.reflection.ReflectionEngine.invoke(ReflectionEngine.java:357)\n\tat py4j.Gateway.invoke(Gateway.java:282)\n\tat py4j.commands.AbstractCommand.invokeMethod(AbstractCommand.java:132)\n\tat py4j.commands.CallCommand.execute(CallCommand.java:79)\n\tat py4j.GatewayConnection.run(GatewayConnection.java:238)\n\tat java.lang.Thread.run(Thread.java:748)\n"
     ]
    }
   ],
   "source": [
    "spark.conf.get(\"spark.executor.memory\")"
   ]
  },
  {
   "cell_type": "markdown",
   "metadata": {},
   "source": [
    "## Create DataFrame"
   ]
  },
  {
   "cell_type": "code",
   "execution_count": 26,
   "metadata": {},
   "outputs": [
    {
     "name": "stdout",
     "output_type": "stream",
     "text": [
      "+---+\n",
      "|num|\n",
      "+---+\n",
      "|  0|\n",
      "|  1|\n",
      "|  2|\n",
      "|  3|\n",
      "|  4|\n",
      "+---+\n",
      "only showing top 5 rows\n",
      "\n"
     ]
    }
   ],
   "source": [
    "list_df = spark.createDataFrame(list(range(10)), IntegerType()).toDF(\"num\")\n",
    "list_df.show(5)"
   ]
  },
  {
   "cell_type": "code",
   "execution_count": 27,
   "metadata": {},
   "outputs": [],
   "source": [
    "from pyspark.sql import Row"
   ]
  },
  {
   "cell_type": "code",
   "execution_count": 28,
   "metadata": {},
   "outputs": [],
   "source": [
    "# Create the Employees\n",
    "Employee = Row(\"name\") # Define the Row `Employee' with one column/key\n",
    "employee1 = Employee('Bob') # Define against the Row 'Employee'\n",
    "employee2 = Employee('Sam') # Define against the Row 'Employee'\n",
    "\n",
    "# Create the Departments\n",
    "Department = Row(\"name\", \"department\") # Define the Row `Department' with two columns/keys\n",
    "department1 = Department('Bob', 'Accounts') # Define against the Row 'Department'\n",
    "department2 = Department('Alice', 'Sales') # Define against the Row 'Department'\n",
    "department3 = Department('Sam', 'HR') # Define against the Row 'Department'\n",
    "\n",
    "# Create DataFrames from rows\n",
    "employeeDF = spark.createDataFrame([employee1, employee2])\n",
    "departmentDF = spark.createDataFrame([department1, department2, department3])\n",
    "\n",
    "# Join employeeDF to departmentDF on \"name\"\n",
    "emp_dept_df = employeeDF.join(departmentDF, \"name\")"
   ]
  },
  {
   "cell_type": "code",
   "execution_count": 29,
   "metadata": {},
   "outputs": [
    {
     "name": "stdout",
     "output_type": "stream",
     "text": [
      "+----+\n",
      "|name|\n",
      "+----+\n",
      "| Bob|\n",
      "| Sam|\n",
      "+----+\n",
      "\n"
     ]
    }
   ],
   "source": [
    "employeeDF.show()"
   ]
  },
  {
   "cell_type": "code",
   "execution_count": 30,
   "metadata": {},
   "outputs": [
    {
     "name": "stdout",
     "output_type": "stream",
     "text": [
      "+-----+----------+\n",
      "| name|department|\n",
      "+-----+----------+\n",
      "|  Bob|  Accounts|\n",
      "|Alice|     Sales|\n",
      "|  Sam|        HR|\n",
      "+-----+----------+\n",
      "\n"
     ]
    }
   ],
   "source": [
    "departmentDF.show()"
   ]
  },
  {
   "cell_type": "code",
   "execution_count": 31,
   "metadata": {},
   "outputs": [
    {
     "name": "stdout",
     "output_type": "stream",
     "text": [
      "+----+----------+\n",
      "|name|department|\n",
      "+----+----------+\n",
      "| Bob|  Accounts|\n",
      "| Sam|        HR|\n",
      "+----+----------+\n",
      "\n"
     ]
    }
   ],
   "source": [
    "emp_dept_df.show()"
   ]
  },
  {
   "cell_type": "code",
   "execution_count": 32,
   "metadata": {},
   "outputs": [
    {
     "name": "stdout",
     "output_type": "stream",
     "text": [
      "+------+--------+\n",
      "|letter|position|\n",
      "+------+--------+\n",
      "|     A|       0|\n",
      "|     B|       1|\n",
      "|     C|       2|\n",
      "+------+--------+\n",
      "\n"
     ]
    }
   ],
   "source": [
    "# Create DataFrame from Row, with Schema specified\n",
    "\n",
    "schema = StructType([\n",
    "  StructField(\"letter\", StringType(), True),\n",
    "  StructField(\"position\", IntegerType(), True)])\n",
    "\n",
    "df = spark.createDataFrame([('A', 0),('B', 1),('C', 2)], schema)\n",
    "df.show()"
   ]
  },
  {
   "cell_type": "code",
   "execution_count": 33,
   "metadata": {},
   "outputs": [],
   "source": [
    "# Create Example Data - Departments and Employees\n",
    "\n",
    "# Create the Departments\n",
    "Department = Row(\"id\", \"name\")\n",
    "department1 = Department('123456', 'Computer Science')\n",
    "department2 = Department('789012', 'Mechanical Engineering')\n",
    "department3 = Department('345678', 'Theater and Drama')\n",
    "department4 = Department('901234', 'Indoor Recreation')\n",
    "department5 = Department('000000', 'All Students')\n",
    "\n",
    "# Create the Employees\n",
    "Employee = Row(\"firstName\", \"lastName\", \"email\", \"salary\")\n",
    "employee1 = Employee('michael', 'armbrust', 'no-reply@berkeley.edu', 100000)\n",
    "employee2 = Employee('xiangrui', 'meng', 'no-reply@stanford.edu', 120000)\n",
    "employee3 = Employee('matei', None, 'no-reply@waterloo.edu', 140000)\n",
    "employee4 = Employee(None, 'wendell', 'no-reply@berkeley.edu', 160000)\n",
    "employee5 = Employee('michael', 'jackson', 'no-reply@neverla.nd', 80000)\n",
    "\n",
    "# Create the DepartmentWithEmployees instances from Departments and Employees\n",
    "DepartmentWithEmployees = Row(\"department\", \"employees\")\n",
    "departmentWithEmployees1 = DepartmentWithEmployees(department1, [employee1, employee2])\n",
    "departmentWithEmployees2 = DepartmentWithEmployees(department2, [employee3, employee4])\n",
    "departmentWithEmployees3 = DepartmentWithEmployees(department3, [employee5, employee4])\n",
    "departmentWithEmployees4 = DepartmentWithEmployees(department4, [employee2, employee3])\n",
    "departmentWithEmployees5 = DepartmentWithEmployees(department5, [employee1, employee2, employee3, employee4, employee5])\n"
   ]
  },
  {
   "cell_type": "code",
   "execution_count": 34,
   "metadata": {},
   "outputs": [
    {
     "name": "stdout",
     "output_type": "stream",
     "text": [
      "Row(id='123456', name='Computer Science')\n",
      "Row(firstName='xiangrui', lastName='meng', email='no-reply@stanford.edu', salary=120000)\n",
      "no-reply@berkeley.edu\n"
     ]
    }
   ],
   "source": [
    "print(department1)\n",
    "print(employee2)\n",
    "print(departmentWithEmployees1.employees[0].email)"
   ]
  },
  {
   "cell_type": "code",
   "execution_count": 36,
   "metadata": {},
   "outputs": [
    {
     "name": "stdout",
     "output_type": "stream",
     "text": [
      "-RECORD 0------------------------------------------------------------------------------------------------------------------------------------------------------------------------------------------------------------------------------------------------\n",
      " department | [123456, Computer Science]                                                                                                                                                                                                                 \n",
      " employees  | [[michael, armbrust, no-reply@berkeley.edu, 100000], [xiangrui, meng, no-reply@stanford.edu, 120000]]                                                                                                                                      \n",
      "-RECORD 1------------------------------------------------------------------------------------------------------------------------------------------------------------------------------------------------------------------------------------------------\n",
      " department | [789012, Mechanical Engineering]                                                                                                                                                                                                           \n",
      " employees  | [[matei,, no-reply@waterloo.edu, 140000], [, wendell, no-reply@berkeley.edu, 160000]]                                                                                                                                                      \n",
      "-RECORD 2------------------------------------------------------------------------------------------------------------------------------------------------------------------------------------------------------------------------------------------------\n",
      " department | [345678, Theater and Drama]                                                                                                                                                                                                                \n",
      " employees  | [[michael, jackson, no-reply@neverla.nd, 80000], [, wendell, no-reply@berkeley.edu, 160000]]                                                                                                                                               \n",
      "-RECORD 3------------------------------------------------------------------------------------------------------------------------------------------------------------------------------------------------------------------------------------------------\n",
      " department | [901234, Indoor Recreation]                                                                                                                                                                                                                \n",
      " employees  | [[xiangrui, meng, no-reply@stanford.edu, 120000], [matei,, no-reply@waterloo.edu, 140000]]                                                                                                                                                 \n",
      "-RECORD 4------------------------------------------------------------------------------------------------------------------------------------------------------------------------------------------------------------------------------------------------\n",
      " department | [000000, All Students]                                                                                                                                                                                                                     \n",
      " employees  | [[michael, armbrust, no-reply@berkeley.edu, 100000], [xiangrui, meng, no-reply@stanford.edu, 120000], [matei,, no-reply@waterloo.edu, 140000], [, wendell, no-reply@berkeley.edu, 160000], [michael, jackson, no-reply@neverla.nd, 80000]] \n",
      "\n"
     ]
    }
   ],
   "source": [
    "departmentsWithEmployeesSeq1 = [departmentWithEmployees1, departmentWithEmployees2, departmentWithEmployees3, departmentWithEmployees4, departmentWithEmployees5]\n",
    "df1 = spark.createDataFrame(departmentsWithEmployeesSeq1)\n",
    "df1.show(truncate=False, vertical=True)"
   ]
  },
  {
   "cell_type": "markdown",
   "metadata": {},
   "source": [
    "## write DataFrame\n",
    "\n",
    "use `.coalesce(1)` to write with single partition\n",
    "\n",
    "```\n",
    "(\n",
    "    df.write\n",
    "    .format(\"<format>\")  # format: csv, json, parquet, orc, jdbc, text\n",
    "    .option(\"key\",\"val\")\n",
    "    .mode(\"<mode>\")      # mode: overwrite, append\n",
    "    .save(\"<path>\")\n",
    ")\n",
    "\n",
    "\n",
    "# Perform overwrite on SQL table\n",
    "spark.sql(\"\"\"SELECT * FROM CustomerAddressView\"\"\").write \\\n",
    "    .format(\"jdbc\") \\\n",
    "    .mode(\"overwrite\")  \\\n",
    "    .option(\"url\", jdbcUrl) \\\n",
    "    .option(\"dbtable\", \"SalesLT.CustomerAddress\") \\\n",
    "    .option(\"user\", jdbcUsername) \\\n",
    "    .option(\"password\", jdbcPassword) \\\n",
    "    .save()\n",
    "```\n",
    "\n"
   ]
  },
  {
   "cell_type": "code",
   "execution_count": 38,
   "metadata": {},
   "outputs": [
    {
     "name": "stdout",
     "output_type": "stream",
     "text": [
      "+----+----------+\n",
      "|name|department|\n",
      "+----+----------+\n",
      "| Bob|  Accounts|\n",
      "| Sam|        HR|\n",
      "+----+----------+\n",
      "\n"
     ]
    }
   ],
   "source": [
    "emp_dept_df.show()\n",
    "emp_dept_df.write.mode(\"overwrite\").format(\"json\").save(\"emp_dept.json\")"
   ]
  },
  {
   "cell_type": "code",
   "execution_count": 39,
   "metadata": {},
   "outputs": [
    {
     "name": "stdout",
     "output_type": "stream",
     "text": [
      "part-00000-1f64fa43-dab8-46ba-b11e-37c3d3b95f53-c000.json\r\n",
      "part-00093-1f64fa43-dab8-46ba-b11e-37c3d3b95f53-c000.json\r\n",
      "part-00109-1f64fa43-dab8-46ba-b11e-37c3d3b95f53-c000.json\r\n",
      "_SUCCESS\r\n"
     ]
    }
   ],
   "source": [
    "!ls emp_dept.json"
   ]
  },
  {
   "cell_type": "code",
   "execution_count": 41,
   "metadata": {},
   "outputs": [
    {
     "name": "stdout",
     "output_type": "stream",
     "text": [
      "{\"name\":\"Bob\",\"department\":\"Accounts\"}\r\n"
     ]
    }
   ],
   "source": [
    "!cat emp_dept.json/part-00093-1f64fa43-dab8-46ba-b11e-37c3d3b95f53-c000.json"
   ]
  },
  {
   "cell_type": "code",
   "execution_count": null,
   "metadata": {},
   "outputs": [],
   "source": [
    "# use coalesce() to write a single file\n",
    "\n",
    "(\n",
    "    emp_dept_df\n",
    "    .coalesce(1)\n",
    "    .write.mode(\"overwrite\")\n",
    "    .format(\"json\")\n",
    "    .save(\"emp_dept1\")\n",
    ")"
   ]
  },
  {
   "cell_type": "code",
   "execution_count": 44,
   "metadata": {},
   "outputs": [
    {
     "name": "stdout",
     "output_type": "stream",
     "text": [
      "part-00000-5d1deace-f5d2-4b86-a26d-a5efe03b7cc2-c000.json  _SUCCESS\r\n"
     ]
    }
   ],
   "source": [
    "!ls emp_dept1"
   ]
  },
  {
   "cell_type": "code",
   "execution_count": 46,
   "metadata": {},
   "outputs": [
    {
     "name": "stdout",
     "output_type": "stream",
     "text": [
      "{\"name\":\"Bob\",\"department\":\"Accounts\"}\r\n",
      "{\"name\":\"Sam\",\"department\":\"HR\"}\r\n"
     ]
    }
   ],
   "source": [
    "!cat emp_dept1/part-00000-5d1deace-f5d2-4b86-a26d-a5efe03b7cc2-c000.json"
   ]
  },
  {
   "cell_type": "code",
   "execution_count": 49,
   "metadata": {},
   "outputs": [],
   "source": [
    "# default format - parquet\n",
    "\n",
    "(\n",
    "    emp_dept_df\n",
    "    .coalesce(1)\n",
    "    .write.mode(\"overwrite\")\n",
    "    .save(\"emp_dept2\")\n",
    ")"
   ]
  },
  {
   "cell_type": "code",
   "execution_count": 50,
   "metadata": {},
   "outputs": [
    {
     "name": "stdout",
     "output_type": "stream",
     "text": [
      "part-00000-984b261c-5972-4b91-9563-5d3eb084f068-c000.snappy.parquet  _SUCCESS\r\n"
     ]
    }
   ],
   "source": [
    "!ls emp_dept2"
   ]
  },
  {
   "cell_type": "markdown",
   "metadata": {},
   "source": [
    "## Read DataFrame\n",
    "\n",
    "\n",
    "```\n",
    "df = (\n",
    "    spark.read\n",
    "    .format(\"<format>\")\n",
    "    .schema(<SchemaObj>)\n",
    "    .option(\"key\",\"val\")\n",
    "    .load(\"<path>\")\n",
    ")\n",
    "\n",
    "# CSV\n",
    "csvdf = spark.read.csv(\"/mnt/GoFast/bronze/airbnb-sf-listings.csv\", header=True, inferSchema=True)\n",
    "\n",
    "txtdf = (spark.read\n",
    "         .option(\"header\", \"false\")\n",
    "         .option(\"delimiter\", \"=\")\n",
    "         .csv(\"/mnt/GoFast/bronze/tweets.txt\")\n",
    "        ).toDF(\"Text\",\"Tweet\")\n",
    "\n",
    "# JSON\n",
    "jsondf = spark.read.json(\"/mnt/GoFast/bronze/zips.json\")\n",
    "\n",
    "# PARQUET\n",
    "parquetdf = spark.read.parquet(\"/mnt/GoFast/bronze/wine.parquet\")\n",
    "\n",
    "# ORC\n",
    "orcdf = spark.read.orc('/mnt/GoFast/bronze/TestVectorOrcFile.testLzo.orc')\n",
    "\n",
    "# TABLE\n",
    "tabledf = spark.sql(\"\"\"SELECT * FROM databricks.citydata\"\"\")\n",
    "\n",
    "# JDBC\n",
    "jdbcUsername = \"your--SQL--username\"\n",
    "jdbcPassword = \"your--SQL--password\"\n",
    "driverClass = \"com.microsoft.sqlserver.jdbc.SQLServerDriver\"\n",
    "jdbcHostname = \"your-sql-svr.database.windows.net\"\n",
    "jdbcPort = 1433\n",
    "jdbcDatabase = \"your-sql-db\"\n",
    "\n",
    "## Create the JDBC URL without passing in the user and password parameters.\n",
    "jdbcUrl = \"jdbc:sqlserver://{0}:{1};database={2}\".format(jdbcHostname, jdbcPort, jdbcDatabase)\n",
    "\n",
    "## Create a Properties() object to hold the parameters.\n",
    "connectionProperties = {\n",
    "  \"user\" : jdbcUsername,\n",
    "  \"password\" : jdbcPassword,\n",
    "  \"driver\" : driverClass\n",
    "}\n",
    "\n",
    "pushdown_query = \"(SELECT * FROM SalesLT.Customer) Customers\"\n",
    "jdbcdf = spark.read.jdbc(url=jdbcUrl, table=pushdown_query, properties=connectionProperties)\n",
    "\n",
    "```"
   ]
  },
  {
   "cell_type": "code",
   "execution_count": 47,
   "metadata": {},
   "outputs": [],
   "source": [
    "df2 = spark.read.json(\"emp_dept1\")"
   ]
  },
  {
   "cell_type": "code",
   "execution_count": 48,
   "metadata": {},
   "outputs": [
    {
     "name": "stdout",
     "output_type": "stream",
     "text": [
      "+----------+----+\n",
      "|department|name|\n",
      "+----------+----+\n",
      "|  Accounts| Bob|\n",
      "|        HR| Sam|\n",
      "+----------+----+\n",
      "\n"
     ]
    }
   ],
   "source": [
    "df2.show()"
   ]
  },
  {
   "cell_type": "code",
   "execution_count": 51,
   "metadata": {},
   "outputs": [
    {
     "name": "stdout",
     "output_type": "stream",
     "text": [
      "+----+----------+\n",
      "|name|department|\n",
      "+----+----------+\n",
      "| Bob|  Accounts|\n",
      "| Sam|        HR|\n",
      "+----+----------+\n",
      "\n"
     ]
    }
   ],
   "source": [
    "df3 = spark.read.load(\"emp_dept2\")\n",
    "df3.show()"
   ]
  },
  {
   "cell_type": "code",
   "execution_count": 74,
   "metadata": {},
   "outputs": [
    {
     "name": "stdout",
     "output_type": "stream",
     "text": [
      "apache-spark-resources.xlsx\t      person.json\r\n",
      "emp_dept1\t\t\t      pyspark-cheat-sheet.ipynb\r\n",
      "emp_dept2\t\t\t      pyspark-tmp.ipynb\r\n",
      "emp_dept.json\t\t\t      spark-cert.README.md\r\n",
      "LearningApacheSpark-CheatSheet.ipynb  spark-images\r\n",
      "person-csv\t\t\t      spark-in-codes.ipynb\r\n",
      "person.csv\t\t\t      spark-in-pictures.ipynb\r\n"
     ]
    }
   ],
   "source": [
    "!ls"
   ]
  },
  {
   "cell_type": "raw",
   "metadata": {},
   "source": [
    "!cat spark-cert.README.md"
   ]
  },
  {
   "cell_type": "code",
   "execution_count": 79,
   "metadata": {},
   "outputs": [],
   "source": [
    "# read text file\n",
    "txt_df = (\n",
    "   spark\n",
    "    .read\n",
    "    .text(\"spark-cert.README.md\")\n",
    "    .toDF(\"text\")\n",
    ")"
   ]
  },
  {
   "cell_type": "code",
   "execution_count": 80,
   "metadata": {},
   "outputs": [
    {
     "data": {
      "text/plain": [
       "82"
      ]
     },
     "execution_count": 80,
     "metadata": {},
     "output_type": "execute_result"
    }
   ],
   "source": [
    "txt_df.count()"
   ]
  },
  {
   "cell_type": "code",
   "execution_count": 81,
   "metadata": {},
   "outputs": [
    {
     "data": {
      "text/plain": [
       "[Row(text='2021 Goal - Learn Graph and Spark'),\n",
       " Row(text=''),\n",
       " Row(text='# Graph '),\n",
       " Row(text=''),\n",
       " Row(text='## Graph Theory YouTube by William Fiset')]"
      ]
     },
     "execution_count": 81,
     "metadata": {},
     "output_type": "execute_result"
    }
   ],
   "source": [
    "txt_df.collect()[:5]"
   ]
  },
  {
   "cell_type": "code",
   "execution_count": 91,
   "metadata": {},
   "outputs": [
    {
     "name": "stdout",
     "output_type": "stream",
     "text": [
      "+-------+---------------------------------+\n",
      "|line_id|text                             |\n",
      "+-------+---------------------------------+\n",
      "|0      |2021 Goal - Learn Graph and Spark|\n",
      "|1      |                                 |\n",
      "|2      |# Graph                          |\n",
      "+-------+---------------------------------+\n",
      "only showing top 3 rows\n",
      "\n"
     ]
    }
   ],
   "source": [
    "csv_df = txt_df.withColumn(\"line_id\", F.monotonically_increasing_id())\n",
    "csv_df = csv_df.select(\"line_id\", \"text\").limit(10)\n",
    "csv_df.show(3, truncate=False)"
   ]
  },
  {
   "cell_type": "code",
   "execution_count": 92,
   "metadata": {},
   "outputs": [],
   "source": [
    "(\n",
    "    csv_df\n",
    "    .coalesce(1)\n",
    "    .write.mode(\"overwrite\")\n",
    "    .option(\"header\", \"true\")\n",
    "    .option(\"delimiter\", \"\\t\")\n",
    "    .csv(\"csv\")\n",
    ")"
   ]
  },
  {
   "cell_type": "code",
   "execution_count": 105,
   "metadata": {},
   "outputs": [
    {
     "data": {
      "text/plain": [
       "['part-00000-7f0d72bb-3a1a-407e-b3b1-0808c309512d-c000.csv', '_SUCCESS']"
      ]
     },
     "execution_count": 105,
     "metadata": {},
     "output_type": "execute_result"
    }
   ],
   "source": [
    "x = !ls csv\n",
    "x"
   ]
  },
  {
   "cell_type": "code",
   "execution_count": 106,
   "metadata": {},
   "outputs": [
    {
     "name": "stdout",
     "output_type": "stream",
     "text": [
      "line_id\ttext\n",
      "0\t2021 Goal - Learn Graph and Spark\n",
      "1\t\"\"\n",
      "2\t# Graph\n",
      "3\t\"\"\n",
      "4\t## Graph Theory YouTube by William Fiset\n",
      "5\t- see folder Graph-Algorithms\n",
      "6\t\"\"\n",
      "7\t## study book - Graph Algorithms\n",
      "8\t- /home/wengong/spark/databrick-cert/books/Graph-Algorithms/Neo4j_Graph_Algorithms_r3.pdf\n",
      "9\t- /home/wengong/projects/graph/graph-algo/Neo4j_Graph_Algorithms_r3.pdf\n",
      "\n"
     ]
    }
   ],
   "source": [
    "with open(f\"csv/{x[0]}\") as f:\n",
    "    print(f.read())"
   ]
  },
  {
   "cell_type": "code",
   "execution_count": 107,
   "metadata": {},
   "outputs": [],
   "source": [
    "csv_df2 = (\n",
    "    spark.read\n",
    "    .option(\"header\", \"true\")\n",
    "    .option(\"delimiter\", \"\\t\")\n",
    "    .option(\"inferSchema\", \"true\")\n",
    "    .csv(\"csv\")\n",
    ")"
   ]
  },
  {
   "cell_type": "code",
   "execution_count": 108,
   "metadata": {},
   "outputs": [
    {
     "name": "stdout",
     "output_type": "stream",
     "text": [
      "+-------+---------------------------------+\n",
      "|line_id|text                             |\n",
      "+-------+---------------------------------+\n",
      "|0      |2021 Goal - Learn Graph and Spark|\n",
      "|1      |null                             |\n",
      "|2      |# Graph                          |\n",
      "|3      |null                             |\n",
      "+-------+---------------------------------+\n",
      "only showing top 4 rows\n",
      "\n"
     ]
    }
   ],
   "source": [
    "csv_df2.show(4, truncate=False)"
   ]
  },
  {
   "cell_type": "markdown",
   "metadata": {},
   "source": [
    "## UDF\n",
    "### dataframe"
   ]
  },
  {
   "cell_type": "code",
   "execution_count": 52,
   "metadata": {},
   "outputs": [],
   "source": [
    "def square(s):\n",
    "    return s*s"
   ]
  },
  {
   "cell_type": "code",
   "execution_count": 53,
   "metadata": {},
   "outputs": [
    {
     "data": {
      "text/plain": [
       "100"
      ]
     },
     "execution_count": 53,
     "metadata": {},
     "output_type": "execute_result"
    }
   ],
   "source": [
    "square(10)"
   ]
  },
  {
   "cell_type": "code",
   "execution_count": 54,
   "metadata": {},
   "outputs": [],
   "source": [
    "squaredWithPython = F.udf(square, LongType())"
   ]
  },
  {
   "cell_type": "code",
   "execution_count": 55,
   "metadata": {},
   "outputs": [
    {
     "name": "stdout",
     "output_type": "stream",
     "text": [
      "+---+\n",
      "|num|\n",
      "+---+\n",
      "|  1|\n",
      "|  4|\n",
      "|  7|\n",
      "+---+\n",
      "\n"
     ]
    }
   ],
   "source": [
    "df = spark.range(1,10,3).toDF(\"num\")\n",
    "df.show()"
   ]
  },
  {
   "cell_type": "code",
   "execution_count": 57,
   "metadata": {},
   "outputs": [
    {
     "name": "stdout",
     "output_type": "stream",
     "text": [
      "+---+-------+\n",
      "|num|num*num|\n",
      "+---+-------+\n",
      "|  1|      1|\n",
      "|  4|     16|\n",
      "|  7|     49|\n",
      "+---+-------+\n",
      "\n"
     ]
    }
   ],
   "source": [
    "df.select(\"num\", squaredWithPython(\"num\").alias(\"num*num\")).show()"
   ]
  },
  {
   "cell_type": "markdown",
   "metadata": {},
   "source": [
    "### register to SQL"
   ]
  },
  {
   "cell_type": "code",
   "execution_count": 58,
   "metadata": {},
   "outputs": [],
   "source": [
    "df.createOrReplaceTempView(\"num_tab\")"
   ]
  },
  {
   "cell_type": "code",
   "execution_count": 60,
   "metadata": {},
   "outputs": [
    {
     "name": "stdout",
     "output_type": "stream",
     "text": [
      "+---+\n",
      "|num|\n",
      "+---+\n",
      "|  1|\n",
      "|  4|\n",
      "|  7|\n",
      "+---+\n",
      "\n"
     ]
    }
   ],
   "source": [
    "spark.sql(\"select * from num_tab\").show()"
   ]
  },
  {
   "cell_type": "code",
   "execution_count": 61,
   "metadata": {},
   "outputs": [
    {
     "data": {
      "text/plain": [
       "<function __main__.square(s)>"
      ]
     },
     "execution_count": 61,
     "metadata": {},
     "output_type": "execute_result"
    }
   ],
   "source": [
    "spark.udf.register(\"squaredWithPython\", square, LongType())"
   ]
  },
  {
   "cell_type": "code",
   "execution_count": 72,
   "metadata": {},
   "outputs": [
    {
     "name": "stdout",
     "output_type": "stream",
     "text": [
      "+---+------+\n",
      "|num|num_sq|\n",
      "+---+------+\n",
      "|  1|     1|\n",
      "|  4|    16|\n",
      "|  7|    49|\n",
      "+---+------+\n",
      "\n"
     ]
    }
   ],
   "source": [
    "spark.sql(\"\"\"select num, squaredWithPython(num) as num_sq from num_tab\"\"\").show()"
   ]
  },
  {
   "cell_type": "code",
   "execution_count": 73,
   "metadata": {},
   "outputs": [
    {
     "name": "stdout",
     "output_type": "stream",
     "text": [
      "+---+\n",
      "|num|\n",
      "+---+\n",
      "|  1|\n",
      "|  4|\n",
      "|  7|\n",
      "+---+\n",
      "\n"
     ]
    }
   ],
   "source": [
    "tab_df = spark.table(\"num_tab\")   # table to df\n",
    "tab_df.show()"
   ]
  },
  {
   "cell_type": "markdown",
   "metadata": {},
   "source": [
    "## Hive Table\n",
    "\n",
    "```\n",
    "USE databricks;\n",
    "\n",
    "DROP TABLE IF EXISTS CustomerAddress;\n",
    "\n",
    "CREATE TABLE IF NOT EXISTS CustomerAddress\n",
    "USING parquet\n",
    "OPTIONS  (path \"/mnt/GoFast/silver/CustomerAddresses/Parquet\");\n",
    "\n",
    "SELECT COUNT(*) FROM databricks.CustomerAddress;\n",
    "\n",
    "```"
   ]
  },
  {
   "cell_type": "markdown",
   "metadata": {},
   "source": [
    "## SQL Functions"
   ]
  },
  {
   "cell_type": "code",
   "execution_count": 109,
   "metadata": {},
   "outputs": [
    {
     "name": "stdout",
     "output_type": "stream",
     "text": [
      "+------+--------+\n",
      "|letter|position|\n",
      "+------+--------+\n",
      "|     A|       0|\n",
      "|     B|       1|\n",
      "|     C|       2|\n",
      "|     D|    null|\n",
      "+------+--------+\n",
      "\n"
     ]
    }
   ],
   "source": [
    "schema = StructType([\n",
    "  StructField(\"letter\", StringType(), True),\n",
    "  StructField(\"position\", IntegerType(), True)])\n",
    "\n",
    "df = spark.createDataFrame([('A', 0),('B', 1),('C', 2),('D', None)], schema)\n",
    "df.show()"
   ]
  },
  {
   "cell_type": "code",
   "execution_count": 110,
   "metadata": {},
   "outputs": [
    {
     "name": "stdout",
     "output_type": "stream",
     "text": [
      "+--------+------------------+\n",
      "|position|(position IS NULL)|\n",
      "+--------+------------------+\n",
      "|       0|             false|\n",
      "|       1|             false|\n",
      "|       2|             false|\n",
      "|    null|              true|\n",
      "+--------+------------------+\n",
      "\n"
     ]
    }
   ],
   "source": [
    "df.createOrReplaceTempView(\"letter\")\n",
    "spark.sql(\"select position,isnull(position) from letter\").show()"
   ]
  },
  {
   "cell_type": "code",
   "execution_count": 111,
   "metadata": {},
   "outputs": [
    {
     "name": "stdout",
     "output_type": "stream",
     "text": [
      "+-------------+\n",
      "|first(letter)|\n",
      "+-------------+\n",
      "|            C|\n",
      "+-------------+\n",
      "\n"
     ]
    }
   ],
   "source": [
    "spark.sql(\"select first(letter) from (select * from letter order by position desc)\").show()"
   ]
  },
  {
   "cell_type": "code",
   "execution_count": 112,
   "metadata": {},
   "outputs": [
    {
     "name": "stdout",
     "output_type": "stream",
     "text": [
      "+---------------+\n",
      "|first(position)|\n",
      "+---------------+\n",
      "|              0|\n",
      "+---------------+\n",
      "\n"
     ]
    }
   ],
   "source": [
    "df.select(F.first(df.position, True)).show()"
   ]
  },
  {
   "cell_type": "code",
   "execution_count": 113,
   "metadata": {},
   "outputs": [
    {
     "name": "stdout",
     "output_type": "stream",
     "text": [
      "+--------------+\n",
      "|last(position)|\n",
      "+--------------+\n",
      "|          null|\n",
      "+--------------+\n",
      "\n"
     ]
    }
   ],
   "source": [
    "df.select(F.last(df.position, False)).show()"
   ]
  },
  {
   "cell_type": "code",
   "execution_count": 114,
   "metadata": {},
   "outputs": [
    {
     "name": "stdout",
     "output_type": "stream",
     "text": [
      "+---------+\n",
      "|year_only|\n",
      "+---------+\n",
      "|     2016|\n",
      "+---------+\n",
      "\n"
     ]
    }
   ],
   "source": [
    "spark.sql(\"SELECT date_format('2016-12-31T00:12:00.000+0000', 'y') AS year_only\").show()"
   ]
  },
  {
   "cell_type": "code",
   "execution_count": 115,
   "metadata": {},
   "outputs": [
    {
     "name": "stdout",
     "output_type": "stream",
     "text": [
      "+---+\n",
      "|cos|\n",
      "+---+\n",
      "|1.0|\n",
      "+---+\n",
      "\n"
     ]
    }
   ],
   "source": [
    "spark.sql(\"SELECT cos(0) as cos\").show()"
   ]
  },
  {
   "cell_type": "code",
   "execution_count": 116,
   "metadata": {},
   "outputs": [
    {
     "name": "stdout",
     "output_type": "stream",
     "text": [
      "-RECORD 0-----------------------------\n",
      " CAST(NaN AS DOUBLE)          | NaN   \n",
      " isnan(CAST(NaN AS DOUBLE))   | true  \n",
      " CAST(hello AS DOUBLE)        | null  \n",
      " isnan(CAST(hello AS DOUBLE)) | false \n",
      "\n"
     ]
    }
   ],
   "source": [
    "sql = \"\"\"\n",
    "SELECT \n",
    "    cast('NaN' as double), \n",
    "    isnan(cast('NaN' as double)), \n",
    "    cast('hello' as double), \n",
    "    isnan(cast('hello' as double))\n",
    "\"\"\"\n",
    "spark.sql(sql).show(vertical=True)"
   ]
  },
  {
   "cell_type": "code",
   "execution_count": 117,
   "metadata": {},
   "outputs": [
    {
     "name": "stdout",
     "output_type": "stream",
     "text": [
      "+------+--------+\n",
      "|letter|position|\n",
      "+------+--------+\n",
      "|     a|      10|\n",
      "|     a|      10|\n",
      "|     a|      20|\n",
      "|     b|       1|\n",
      "|     c|      40|\n",
      "|     c|      50|\n",
      "|     c|    null|\n",
      "+------+--------+\n",
      "\n"
     ]
    }
   ],
   "source": [
    "from pyspark.sql.window import Window\n",
    "schema = StructType([\n",
    "  StructField(\"letter\", StringType(), True),\n",
    "  StructField(\"position\", IntegerType(), True)])\n",
    "\n",
    "data = [(\"a\", 10), (\"a\", 10), (\"a\", 20), (\"b\", 1), (\"c\", 40) , (\"c\", 50), (\"c\", None)]\n",
    "df = spark.createDataFrame(data, schema)\n",
    "windowSpec = Window.partitionBy(\"letter\").orderBy(\"position\")\n",
    "df.show()"
   ]
  },
  {
   "cell_type": "code",
   "execution_count": 118,
   "metadata": {},
   "outputs": [
    {
     "name": "stdout",
     "output_type": "stream",
     "text": [
      "+------+--------+----+----------+----------+\n",
      "|letter|position|rank|dense_rank|row_number|\n",
      "+------+--------+----+----------+----------+\n",
      "|     a|      10|   1|         1|         1|\n",
      "|     a|      10|   1|         1|         2|\n",
      "|     a|      20|   3|         2|         3|\n",
      "|     b|       1|   1|         1|         1|\n",
      "|     c|    null|   1|         1|         1|\n",
      "|     c|      40|   2|         2|         2|\n",
      "|     c|      50|   3|         3|         3|\n",
      "+------+--------+----+----------+----------+\n",
      "\n"
     ]
    }
   ],
   "source": [
    "(\n",
    "df.withColumn(\"rank\", F.rank().over(windowSpec))\n",
    "  .withColumn(\"dense_rank\", F.dense_rank().over(windowSpec))\n",
    "  .withColumn(\"row_number\", F.row_number().over(windowSpec))\n",
    "  .orderBy([\"letter\",\"position\"])\n",
    "  .show()\n",
    ")"
   ]
  },
  {
   "cell_type": "code",
   "execution_count": 119,
   "metadata": {},
   "outputs": [],
   "source": [
    "from pyspark.sql import Row"
   ]
  },
  {
   "cell_type": "code",
   "execution_count": 120,
   "metadata": {},
   "outputs": [],
   "source": [
    "# Create the Products\n",
    "Product = Row(\"product\", \"category\", \"revenue\")\n",
    "\n",
    "\n",
    "# Create DataFrames from rows\n",
    "ProductDF = spark.createDataFrame([\n",
    "                                   Product('Thin', 'Cell phone', 6000),\n",
    "                                   Product('Normal', 'Tablet', 1500),\n",
    "                                   Product('Mini', 'Tablet', 5500),\n",
    "                                   Product('Ultra thin', 'Cell phone', 5500),\n",
    "                                   Product('Very thin', 'Cell phone', 6000),\n",
    "                                   Product('Big', 'Tablet', 2500),\n",
    "                                   Product('Bendable', 'Cell phone', 3000),\n",
    "                                   Product('Foldable', 'Cell phone', 3000),\n",
    "                                   Product('Pro', 'Tablet', 4500),\n",
    "                                   Product('Pro2', 'Tablet', 6500)\n",
    "                                  ])\n",
    "ProductDF.createOrReplaceTempView(\"productRevenue\")"
   ]
  },
  {
   "cell_type": "code",
   "execution_count": 121,
   "metadata": {},
   "outputs": [
    {
     "name": "stdout",
     "output_type": "stream",
     "text": [
      "+----------+----------+-------+\n",
      "|   product|  category|revenue|\n",
      "+----------+----------+-------+\n",
      "|      Pro2|    Tablet|   6500|\n",
      "|      Mini|    Tablet|   5500|\n",
      "|      Thin|Cell phone|   6000|\n",
      "| Very thin|Cell phone|   6000|\n",
      "|Ultra thin|Cell phone|   5500|\n",
      "+----------+----------+-------+\n",
      "\n"
     ]
    }
   ],
   "source": [
    "sql = \"\"\"\n",
    "\n",
    "SELECT\n",
    "  product,\n",
    "  category,\n",
    "  revenue\n",
    "FROM (\n",
    "  SELECT\n",
    "    product,\n",
    "    category,\n",
    "    revenue,\n",
    "    dense_rank() OVER (PARTITION BY category ORDER BY revenue DESC) as rank\n",
    "  FROM productRevenue) tmp\n",
    "WHERE\n",
    "  rank <= 2\n",
    "ORDER BY category DESC\n",
    "\n",
    "\"\"\"\n",
    "spark.sql(sql).show()"
   ]
  },
  {
   "cell_type": "code",
   "execution_count": null,
   "metadata": {},
   "outputs": [],
   "source": []
  },
  {
   "cell_type": "code",
   "execution_count": 122,
   "metadata": {},
   "outputs": [],
   "source": [
    "spark.stop()"
   ]
  },
  {
   "cell_type": "code",
   "execution_count": null,
   "metadata": {},
   "outputs": [],
   "source": []
  },
  {
   "cell_type": "markdown",
   "metadata": {},
   "source": [
    "### Resources\n",
    "\n",
    "- [7 steps to Spark](https://pages.databricks.com/rs/094-YMS-629/images/7-steps-for-a-developer-to-learn-apache-spark.pdf?mkt_tok=eyJpIjoiWWprMFpHVXlNV0ppWkRsaiIsInQiOiJ1cVBXVm1hbDE5VFlVbWdyMENveDRSYWJ1WHozUDFEVDBCanFzVzZMWTdkSUxVZlp2RElkQWlWaFZjeEE2ZDU3bU5kMk0wbUVSbVFOVG43K2RSN0JPcUVxbm52UzAwMFRWSStoWXViZGpXTmFcL2R3SGpEUnFQSEU4OThBK3V5ZnAifQ%3D%3D)\n",
    "- [Spark Certification Study Guide - Part 1 (Core)](https://www.rakirahman.me/spark-certification-study-guide-part-1/)\n",
    "- [Spark Certification Study Guide - Part 2 (Code)](https://www.rakirahman.me/spark-certification-study-guide-part-2)\n",
    "- [Spark in pictures](https://github.com/wgong/py4kids/blob/master/lesson-17-pyspark/databrick/spark-in-pictures.ipynb)\n",
    "- [Spark study notes](https://docs.google.com/spreadsheets/d/1AuvsTCTxzx1wBMkG-rvfwNpuoQoG9ISuXqQZwj-GGgQ/edit#gid=257341626)"
   ]
  },
  {
   "cell_type": "code",
   "execution_count": null,
   "metadata": {},
   "outputs": [],
   "source": []
  }
 ],
 "metadata": {
  "kernelspec": {
   "display_name": "Python 3",
   "language": "python",
   "name": "python3"
  },
  "language_info": {
   "codemirror_mode": {
    "name": "ipython",
    "version": 3
   },
   "file_extension": ".py",
   "mimetype": "text/x-python",
   "name": "python",
   "nbconvert_exporter": "python",
   "pygments_lexer": "ipython3",
   "version": "3.8.5"
  }
 },
 "nbformat": 4,
 "nbformat_minor": 4
}
