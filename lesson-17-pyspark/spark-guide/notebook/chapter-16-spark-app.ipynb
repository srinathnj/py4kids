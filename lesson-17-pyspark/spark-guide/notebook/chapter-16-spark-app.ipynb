{
 "cells": [
  {
   "cell_type": "code",
   "execution_count": null,
   "metadata": {},
   "outputs": [],
   "source": [
    "from __future__ import print_function\n",
    "if __name__ == '__main__':\n",
    "    from pyspark.sql import SparkSession\n",
    "    spark = SparkSession.builder \\\n",
    "        .master(\"local\") \\\n",
    "        .appName(\"Word Count\") \\\n",
    "        .config(\"spark.some.config.option\", \"some-value\") \\\n",
    "        .getOrCreate()\n",
    "\n",
    "    print(spark.range(5000).where(\"id > 500\").selectExpr(\"sum(id)\").collect())"
   ]
  },
  {
   "cell_type": "markdown",
   "metadata": {},
   "source": [
    "## how to run spark app\n",
    "\n",
    "save above to a file called spark-test.py\n",
    "\n",
    "```\n",
    "$ python spark-test.py\n",
    "\n",
    "[Row(sum(id)=12372250)]\n",
    "```"
   ]
  },
  {
   "cell_type": "markdown",
   "metadata": {},
   "source": [
    "got error with\n",
    "```\n",
    "$ spark-submit spark-test.py\n",
    "\n",
    "Exception: Jupyter command `jupyter-/home/wengong/projects/py4kids/lesson-17-pyspark/spark-guide/notebook/spark_test.py` not found.\n",
    "\n",
    "```"
   ]
  },
  {
   "cell_type": "code",
   "execution_count": null,
   "metadata": {},
   "outputs": [],
   "source": []
  }
 ],
 "metadata": {
  "kernelspec": {
   "display_name": "Python 3",
   "language": "python",
   "name": "python3"
  },
  "language_info": {
   "codemirror_mode": {
    "name": "ipython",
    "version": 3
   },
   "file_extension": ".py",
   "mimetype": "text/x-python",
   "name": "python",
   "nbconvert_exporter": "python",
   "pygments_lexer": "ipython3",
   "version": "3.8.5"
  }
 },
 "nbformat": 4,
 "nbformat_minor": 2
}
