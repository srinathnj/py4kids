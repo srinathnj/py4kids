{
 "cells": [
  {
   "cell_type": "markdown",
   "metadata": {},
   "source": [
    "### [Spark Developer Certification - Comprehensive Study Guide](https://github.com/mdrakiburrahman/databricks-certification)\n",
    "\n",
    "~/spark/databrick-cert/databricks-certification/Comprehensive_study_guide_for_Spark_Developer_Certification.html"
   ]
  },
  {
   "cell_type": "code",
   "execution_count": 2,
   "metadata": {},
   "outputs": [],
   "source": [
    "from pyspark.sql import *\n",
    "from pyspark.sql.types import *\n",
    "from pyspark.sql.functions import *\n",
    "from pyspark import *\n",
    "from pyspark import StorageLevel\n",
    "import sys"
   ]
  },
  {
   "cell_type": "code",
   "execution_count": 3,
   "metadata": {},
   "outputs": [],
   "source": [
    "from IPython.display import display"
   ]
  },
  {
   "cell_type": "code",
   "execution_count": 5,
   "metadata": {},
   "outputs": [],
   "source": [
    "spark = SparkSession.builder.getOrCreate()"
   ]
  },
  {
   "cell_type": "code",
   "execution_count": 8,
   "metadata": {},
   "outputs": [
    {
     "data": {
      "text/html": [
       "\n",
       "            <div>\n",
       "                <p><b>SparkSession - in-memory</b></p>\n",
       "                \n",
       "        <div>\n",
       "            <p><b>SparkContext</b></p>\n",
       "\n",
       "            <p><a href=\"http://192.168.0.114:4042\">Spark UI</a></p>\n",
       "\n",
       "            <dl>\n",
       "              <dt>Version</dt>\n",
       "                <dd><code>v3.0.1</code></dd>\n",
       "              <dt>Master</dt>\n",
       "                <dd><code>local[*]</code></dd>\n",
       "              <dt>AppName</dt>\n",
       "                <dd><code>pyspark-shell</code></dd>\n",
       "            </dl>\n",
       "        </div>\n",
       "        \n",
       "            </div>\n",
       "        "
      ],
      "text/plain": [
       "<pyspark.sql.session.SparkSession at 0x7f64f6698ee0>"
      ]
     },
     "execution_count": 8,
     "metadata": {},
     "output_type": "execute_result"
    }
   ],
   "source": [
    "spark"
   ]
  },
  {
   "cell_type": "code",
   "execution_count": 6,
   "metadata": {},
   "outputs": [],
   "source": [
    "list_df = spark.createDataFrame([1, 2, 3, 4], IntegerType())"
   ]
  },
  {
   "cell_type": "code",
   "execution_count": 7,
   "metadata": {},
   "outputs": [
    {
     "name": "stdout",
     "output_type": "stream",
     "text": [
      "+-----+\n",
      "|value|\n",
      "+-----+\n",
      "|    1|\n",
      "|    2|\n",
      "|    3|\n",
      "|    4|\n",
      "+-----+\n",
      "\n"
     ]
    }
   ],
   "source": [
    "list_df.show()"
   ]
  },
  {
   "cell_type": "code",
   "execution_count": 23,
   "metadata": {},
   "outputs": [],
   "source": [
    "# Create Example Data - Departments and Employees\n",
    "\n",
    "# Create the Employees\n",
    "Employee = Row(\"name\",\"gender\") # Define the Row `Employee' with one column/key\n",
    "employee1 = Employee('Bob',\"M\") # Define against the Row 'Employee'\n",
    "employee2 = Employee('Sam',\"M\") # Define against the Row 'Employee'\n",
    "employee3 = Employee('Jane',\"F\") # Define against the Row 'Employee'\n",
    "\n",
    "# Create the Departments\n",
    "Department = Row(\"name\", \"department\") # Define the Row `Department' with two columns/keys\n",
    "department1 = Department('Bob', 'Accounts') # Define against the Row 'Department'\n",
    "department2 = Department('Alice', 'Sales') # Define against the Row 'Department'\n",
    "department3 = Department('Sam', 'HR') # Define against the Row 'Department'\n",
    "\n",
    "# Create DataFrames from rows\n",
    "employeeDF = spark.createDataFrame([employee1, employee2]) \n",
    "departmentDF = spark.createDataFrame([department1, department2, department3])"
   ]
  },
  {
   "cell_type": "code",
   "execution_count": 30,
   "metadata": {},
   "outputs": [],
   "source": [
    "joinExpression = employeeDF[\"name\"] == departmentDF[\"name\"]"
   ]
  },
  {
   "cell_type": "code",
   "execution_count": 31,
   "metadata": {},
   "outputs": [
    {
     "name": "stdout",
     "output_type": "stream",
     "text": [
      "+----+------+----+----------+\n",
      "|name|gender|name|department|\n",
      "+----+------+----+----------+\n",
      "| Bob|     M| Bob|  Accounts|\n",
      "| Sam|     M| Sam|        HR|\n",
      "+----+------+----+----------+\n",
      "\n"
     ]
    }
   ],
   "source": [
    "employeeDF.join(departmentDF, joinExpression, how=\"inner\").show()"
   ]
  },
  {
   "cell_type": "code",
   "execution_count": 32,
   "metadata": {},
   "outputs": [
    {
     "name": "stdout",
     "output_type": "stream",
     "text": [
      "+----+------+----+----------+\n",
      "|name|gender|name|department|\n",
      "+----+------+----+----------+\n",
      "| Bob|     M| Bob|  Accounts|\n",
      "| Sam|     M| Sam|        HR|\n",
      "+----+------+----+----------+\n",
      "\n"
     ]
    }
   ],
   "source": [
    "employeeDF.join(departmentDF, joinExpression, how=\"left_outer\").show()"
   ]
  },
  {
   "cell_type": "code",
   "execution_count": 33,
   "metadata": {},
   "outputs": [
    {
     "name": "stdout",
     "output_type": "stream",
     "text": [
      "+----+------+\n",
      "|name|gender|\n",
      "+----+------+\n",
      "| Bob|     M|\n",
      "| Sam|     M|\n",
      "+----+------+\n",
      "\n"
     ]
    }
   ],
   "source": [
    "employeeDF.join(departmentDF, joinExpression, how=\"left_semi\").show()"
   ]
  },
  {
   "cell_type": "code",
   "execution_count": 34,
   "metadata": {},
   "outputs": [
    {
     "name": "stdout",
     "output_type": "stream",
     "text": [
      "+----+------+\n",
      "|name|gender|\n",
      "+----+------+\n",
      "+----+------+\n",
      "\n"
     ]
    }
   ],
   "source": [
    "employeeDF.join(departmentDF, joinExpression, how=\"left_anti\").show()"
   ]
  },
  {
   "cell_type": "code",
   "execution_count": 35,
   "metadata": {},
   "outputs": [
    {
     "name": "stdout",
     "output_type": "stream",
     "text": [
      "+----+------+-----+----------+\n",
      "|name|gender| name|department|\n",
      "+----+------+-----+----------+\n",
      "| Bob|     M|  Bob|  Accounts|\n",
      "| Sam|     M|  Sam|        HR|\n",
      "|null|  null|Alice|     Sales|\n",
      "+----+------+-----+----------+\n",
      "\n"
     ]
    }
   ],
   "source": [
    "employeeDF.join(departmentDF, joinExpression, how=\"right_outer\").show()"
   ]
  },
  {
   "cell_type": "code",
   "execution_count": 36,
   "metadata": {},
   "outputs": [
    {
     "name": "stdout",
     "output_type": "stream",
     "text": [
      "+----+------+----+----------+\n",
      "|name|gender|name|department|\n",
      "+----+------+----+----------+\n",
      "| Bob|     M| Bob|  Accounts|\n",
      "| Sam|     M| Sam|        HR|\n",
      "+----+------+----+----------+\n",
      "\n"
     ]
    }
   ],
   "source": [
    "employeeDF.join(departmentDF, joinExpression, how=\"cross\").show()"
   ]
  },
  {
   "cell_type": "code",
   "execution_count": 37,
   "metadata": {},
   "outputs": [
    {
     "name": "stdout",
     "output_type": "stream",
     "text": [
      "+----+------+-----+----------+\n",
      "|name|gender| name|department|\n",
      "+----+------+-----+----------+\n",
      "| Bob|     M|  Bob|  Accounts|\n",
      "| Sam|     M|  Sam|        HR|\n",
      "|null|  null|Alice|     Sales|\n",
      "+----+------+-----+----------+\n",
      "\n"
     ]
    }
   ],
   "source": [
    "employeeDF.join(departmentDF, joinExpression, how=\"outer\").show()"
   ]
  },
  {
   "cell_type": "code",
   "execution_count": 39,
   "metadata": {},
   "outputs": [
    {
     "name": "stdout",
     "output_type": "stream",
     "text": [
      "+----+------+-----+----------+\n",
      "|name|gender| name|department|\n",
      "+----+------+-----+----------+\n",
      "| Bob|     M|  Bob|  Accounts|\n",
      "| Sam|     M|  Sam|        HR|\n",
      "|null|  null|Alice|     Sales|\n",
      "+----+------+-----+----------+\n",
      "\n"
     ]
    }
   ],
   "source": [
    "employeeDF.join(departmentDF, joinExpression, how=\"full\").show()"
   ]
  },
  {
   "cell_type": "code",
   "execution_count": 40,
   "metadata": {},
   "outputs": [
    {
     "name": "stdout",
     "output_type": "stream",
     "text": [
      "+------+--------+\n",
      "|letter|position|\n",
      "+------+--------+\n",
      "|     A|       1|\n",
      "|     B|       2|\n",
      "|     C|       3|\n",
      "+------+--------+\n",
      "\n"
     ]
    }
   ],
   "source": [
    "schema = StructType(\n",
    "    [\n",
    "        StructField(\"letter\", StringType(), True),\n",
    "        StructField(\"position\", IntegerType(), True),\n",
    "    ]\n",
    ")\n",
    "\n",
    "data = [(\"A\", 1), (\"B\", 2), (\"C\", 3)]\n",
    "df = spark.createDataFrame(data=data, schema=schema)\n",
    "df.show()"
   ]
  },
  {
   "cell_type": "code",
   "execution_count": 41,
   "metadata": {},
   "outputs": [
    {
     "name": "stdout",
     "output_type": "stream",
     "text": [
      "Row(id='123456', name='Computer Science')\n",
      "Row(firstName='xiangrui', lastName='meng', email='no-reply@stanford.edu', salary=120000)\n",
      "no-reply@berkeley.edu\n"
     ]
    }
   ],
   "source": [
    "# Create Example Data - Departments and Employees\n",
    "\n",
    "# Create the Departments\n",
    "Department = Row(\"id\", \"name\")\n",
    "department1 = Department('123456', 'Computer Science')\n",
    "department2 = Department('789012', 'Mechanical Engineering')\n",
    "department3 = Department('345678', 'Theater and Drama')\n",
    "department4 = Department('901234', 'Indoor Recreation')\n",
    "department5 = Department('000000', 'All Students')\n",
    "\n",
    "# Create the Employees\n",
    "Employee = Row(\"firstName\", \"lastName\", \"email\", \"salary\")\n",
    "employee1 = Employee('michael', 'armbrust', 'no-reply@berkeley.edu', 100000)\n",
    "employee2 = Employee('xiangrui', 'meng', 'no-reply@stanford.edu', 120000)\n",
    "employee3 = Employee('matei', None, 'no-reply@waterloo.edu', 140000)\n",
    "employee4 = Employee(None, 'wendell', 'no-reply@berkeley.edu', 160000)\n",
    "employee5 = Employee('michael', 'jackson', 'no-reply@neverla.nd', 80000)\n",
    "\n",
    "# Create the DepartmentWithEmployees instances from Departments and Employees\n",
    "DepartmentWithEmployees = Row(\"department\", \"employees\")\n",
    "departmentWithEmployees1 = DepartmentWithEmployees(department1, [employee1, employee2])\n",
    "departmentWithEmployees2 = DepartmentWithEmployees(department2, [employee3, employee4])\n",
    "departmentWithEmployees3 = DepartmentWithEmployees(department3, [employee5, employee4])\n",
    "departmentWithEmployees4 = DepartmentWithEmployees(department4, [employee2, employee3])\n",
    "departmentWithEmployees5 = DepartmentWithEmployees(department5, [employee1, employee2, employee3, employee4, employee5])\n",
    "\n",
    "print(department1)\n",
    "print(employee2)\n",
    "print(departmentWithEmployees1.employees[0].email)"
   ]
  },
  {
   "cell_type": "code",
   "execution_count": 43,
   "metadata": {},
   "outputs": [
    {
     "name": "stdout",
     "output_type": "stream",
     "text": [
      "+--------------------------------+------------------------------------------------------------------------------------------------------------------------------------------------------------------------------------------------------------------------------------------+\n",
      "|department                      |employees                                                                                                                                                                                                                                 |\n",
      "+--------------------------------+------------------------------------------------------------------------------------------------------------------------------------------------------------------------------------------------------------------------------------------+\n",
      "|[123456, Computer Science]      |[[michael, armbrust, no-reply@berkeley.edu, 100000], [xiangrui, meng, no-reply@stanford.edu, 120000]]                                                                                                                                     |\n",
      "|[789012, Mechanical Engineering]|[[matei,, no-reply@waterloo.edu, 140000], [, wendell, no-reply@berkeley.edu, 160000]]                                                                                                                                                     |\n",
      "|[345678, Theater and Drama]     |[[michael, jackson, no-reply@neverla.nd, 80000], [, wendell, no-reply@berkeley.edu, 160000]]                                                                                                                                              |\n",
      "|[901234, Indoor Recreation]     |[[xiangrui, meng, no-reply@stanford.edu, 120000], [matei,, no-reply@waterloo.edu, 140000]]                                                                                                                                                |\n",
      "|[000000, All Students]          |[[michael, armbrust, no-reply@berkeley.edu, 100000], [xiangrui, meng, no-reply@stanford.edu, 120000], [matei,, no-reply@waterloo.edu, 140000], [, wendell, no-reply@berkeley.edu, 160000], [michael, jackson, no-reply@neverla.nd, 80000]]|\n",
      "+--------------------------------+------------------------------------------------------------------------------------------------------------------------------------------------------------------------------------------------------------------------------------------+\n",
      "\n"
     ]
    }
   ],
   "source": [
    "departmentsWithEmployeesSeq1 = [departmentWithEmployees1, departmentWithEmployees2, departmentWithEmployees3, departmentWithEmployees4, departmentWithEmployees5]\n",
    "df1 = spark.createDataFrame(departmentsWithEmployeesSeq1)\n",
    "df1.show(truncate=False)"
   ]
  },
  {
   "cell_type": "code",
   "execution_count": 45,
   "metadata": {},
   "outputs": [
    {
     "name": "stdout",
     "output_type": "stream",
     "text": [
      "-RECORD 0------------------------------------------------------------------------------------------------------------------------------------------------------------------------------------------------------------------------------------------------\n",
      " department | [123456, Computer Science]                                                                                                                                                                                                                 \n",
      " employees  | [[michael, armbrust, no-reply@berkeley.edu, 100000], [xiangrui, meng, no-reply@stanford.edu, 120000]]                                                                                                                                      \n",
      "-RECORD 1------------------------------------------------------------------------------------------------------------------------------------------------------------------------------------------------------------------------------------------------\n",
      " department | [789012, Mechanical Engineering]                                                                                                                                                                                                           \n",
      " employees  | [[matei,, no-reply@waterloo.edu, 140000], [, wendell, no-reply@berkeley.edu, 160000]]                                                                                                                                                      \n",
      "-RECORD 2------------------------------------------------------------------------------------------------------------------------------------------------------------------------------------------------------------------------------------------------\n",
      " department | [345678, Theater and Drama]                                                                                                                                                                                                                \n",
      " employees  | [[michael, jackson, no-reply@neverla.nd, 80000], [, wendell, no-reply@berkeley.edu, 160000]]                                                                                                                                               \n",
      "-RECORD 3------------------------------------------------------------------------------------------------------------------------------------------------------------------------------------------------------------------------------------------------\n",
      " department | [901234, Indoor Recreation]                                                                                                                                                                                                                \n",
      " employees  | [[xiangrui, meng, no-reply@stanford.edu, 120000], [matei,, no-reply@waterloo.edu, 140000]]                                                                                                                                                 \n",
      "-RECORD 4------------------------------------------------------------------------------------------------------------------------------------------------------------------------------------------------------------------------------------------------\n",
      " department | [000000, All Students]                                                                                                                                                                                                                     \n",
      " employees  | [[michael, armbrust, no-reply@berkeley.edu, 100000], [xiangrui, meng, no-reply@stanford.edu, 120000], [matei,, no-reply@waterloo.edu, 140000], [, wendell, no-reply@berkeley.edu, 160000], [michael, jackson, no-reply@neverla.nd, 80000]] \n",
      "\n"
     ]
    }
   ],
   "source": [
    "df1.show(vertical=True, truncate=False)"
   ]
  },
  {
   "cell_type": "code",
   "execution_count": 46,
   "metadata": {},
   "outputs": [
    {
     "name": "stdout",
     "output_type": "stream",
     "text": [
      "+------+\n",
      "|number|\n",
      "+------+\n",
      "|     1|\n",
      "|     3|\n",
      "|     5|\n",
      "|     7|\n",
      "+------+\n",
      "\n"
     ]
    }
   ],
   "source": [
    "df = spark.range(1,8,2).toDF(\"number\")\n",
    "df.show()"
   ]
  },
  {
   "cell_type": "code",
   "execution_count": null,
   "metadata": {},
   "outputs": [],
   "source": []
  }
 ],
 "metadata": {
  "kernelspec": {
   "display_name": "Python 3",
   "language": "python",
   "name": "python3"
  },
  "language_info": {
   "codemirror_mode": {
    "name": "ipython",
    "version": 3
   },
   "file_extension": ".py",
   "mimetype": "text/x-python",
   "name": "python",
   "nbconvert_exporter": "python",
   "pygments_lexer": "ipython3",
   "version": "3.8.5"
  }
 },
 "nbformat": 4,
 "nbformat_minor": 4
}
