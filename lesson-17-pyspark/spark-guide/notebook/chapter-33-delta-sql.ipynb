{
 "cells": [
  {
   "cell_type": "markdown",
   "metadata": {},
   "source": [
    "https://github.com/delta-io/delta/blob/master/examples/python/quickstart_sql.py\n",
    "\n",
    "fix permission\n",
    "\n",
    "```\n",
    "chmod -R a+w /tmp/hive\n",
    "```"
   ]
  },
  {
   "cell_type": "code",
   "execution_count": 1,
   "metadata": {},
   "outputs": [],
   "source": [
    "from pyspark.sql import SparkSession\n",
    "\n",
    "\n",
    "# Enable SQL/DML commands and Metastore tables for the current spark session.\n",
    "# We need to set the following configs\n",
    "\n",
    "spark = SparkSession.builder \\\n",
    "    .appName(\"quickstart_sql\") \\\n",
    "    .master(\"local[*]\") \\\n",
    "    .config(\"spark.sql.extensions\", \"io.delta.sql.DeltaSparkSessionExtension\") \\\n",
    "    .config(\"spark.sql.catalog.spark_catalog\", \"org.apache.spark.sql.delta.catalog.DeltaCatalog\") \\\n",
    "    .getOrCreate()"
   ]
  },
  {
   "cell_type": "code",
   "execution_count": 2,
   "metadata": {},
   "outputs": [
    {
     "data": {
      "text/plain": [
       "DataFrame[]"
      ]
     },
     "execution_count": 2,
     "metadata": {},
     "output_type": "execute_result"
    }
   ],
   "source": [
    "tableName = \"tbltestpython\"\n",
    "# Clear any previous runs\n",
    "spark.sql(f\"DROP TABLE IF EXISTS {tableName}\")\n",
    "spark.sql(\"DROP TABLE IF EXISTS newData\")"
   ]
  },
  {
   "cell_type": "code",
   "execution_count": 4,
   "metadata": {},
   "outputs": [
    {
     "name": "stdout",
     "output_type": "stream",
     "text": [
      "############# Creating a table ###############\n",
      "############ Reading the table ###############\n",
      "+---+\n",
      "| id|\n",
      "+---+\n",
      "|  0|\n",
      "|  1|\n",
      "|  2|\n",
      "|  3|\n",
      "|  4|\n",
      "+---+\n",
      "\n"
     ]
    }
   ],
   "source": [
    "# Create a table\n",
    "print(\"############# Creating a table ###############\")\n",
    "spark.sql(f\"CREATE TABLE {tableName}(id LONG) USING delta\")\n",
    "spark.sql(f\"INSERT INTO {tableName} VALUES 0, 1, 2, 3, 4\")\n",
    "\n",
    "# Read the table\n",
    "print(\"############ Reading the table ###############\")\n",
    "spark.sql(f\"SELECT * FROM {tableName} order by id\").show()"
   ]
  },
  {
   "cell_type": "code",
   "execution_count": 6,
   "metadata": {},
   "outputs": [
    {
     "name": "stdout",
     "output_type": "stream",
     "text": [
      "########### Upsert new data #############\n",
      "+---+\n",
      "| id|\n",
      "+---+\n",
      "|  0|\n",
      "|  1|\n",
      "|  2|\n",
      "|  3|\n",
      "|  4|\n",
      "|  5|\n",
      "|  6|\n",
      "+---+\n",
      "\n"
     ]
    }
   ],
   "source": [
    "# Upsert (merge) new data\n",
    "print(\"########### Upsert new data #############\")\n",
    "spark.sql(\"CREATE TABLE newData(id LONG) USING parquet\")\n",
    "spark.sql(\"INSERT INTO newData VALUES 3, 4, 5, 6\")\n",
    "\n",
    "spark.sql(f'''MERGE INTO {tableName} USING newData\n",
    "        ON {tableName}.id = newData.id\n",
    "        WHEN MATCHED THEN\n",
    "          UPDATE SET {tableName}.id = newData.id\n",
    "        WHEN NOT MATCHED THEN INSERT *\n",
    "    ''')\n",
    "\n",
    "spark.sql(f\"SELECT * FROM {tableName} order by id\").show()"
   ]
  },
  {
   "cell_type": "code",
   "execution_count": 9,
   "metadata": {},
   "outputs": [
    {
     "name": "stdout",
     "output_type": "stream",
     "text": [
      "########## Overwrite the table ###########\n",
      "+---+\n",
      "| id|\n",
      "+---+\n",
      "|  5|\n",
      "|  6|\n",
      "|  7|\n",
      "|  8|\n",
      "|  9|\n",
      "+---+\n",
      "\n"
     ]
    }
   ],
   "source": [
    "# Update table data\n",
    "print(\"########## Overwrite the table ###########\")\n",
    "spark.sql(f\"INSERT OVERWRITE {tableName} select * FROM (VALUES 5, 6, 7, 8, 9) x (id)\")\n",
    "spark.sql(f\"SELECT * FROM {tableName} order by id\").show()"
   ]
  },
  {
   "cell_type": "code",
   "execution_count": 10,
   "metadata": {},
   "outputs": [
    {
     "name": "stdout",
     "output_type": "stream",
     "text": [
      "########### Update to the table(add 100 to every even value) ##############\n",
      "+---+\n",
      "| id|\n",
      "+---+\n",
      "|  5|\n",
      "|  7|\n",
      "|  9|\n",
      "|106|\n",
      "|108|\n",
      "+---+\n",
      "\n"
     ]
    }
   ],
   "source": [
    "# Update every even value by adding 100 to it\n",
    "print(\"########### Update to the table(add 100 to every even value) ##############\")\n",
    "spark.sql(f\"UPDATE {tableName} SET id = (id + 100) WHERE (id % 2 == 0)\")\n",
    "spark.sql(f\"SELECT * FROM {tableName} order by id\").show()"
   ]
  },
  {
   "cell_type": "code",
   "execution_count": 11,
   "metadata": {},
   "outputs": [
    {
     "name": "stdout",
     "output_type": "stream",
     "text": [
      "######### Delete every even value ##############\n",
      "+---+\n",
      "| id|\n",
      "+---+\n",
      "|  5|\n",
      "|  7|\n",
      "|  9|\n",
      "+---+\n",
      "\n"
     ]
    }
   ],
   "source": [
    "# Delete every even value\n",
    "print(\"######### Delete every even value ##############\")\n",
    "spark.sql(f\"DELETE FROM {tableName} WHERE (id % 2 == 0)\")\n",
    "spark.sql(f\"SELECT * FROM {tableName} order by id\").show()"
   ]
  },
  {
   "cell_type": "code",
   "execution_count": 12,
   "metadata": {},
   "outputs": [
    {
     "name": "stdout",
     "output_type": "stream",
     "text": [
      "######## Read old data using time travel ############\n",
      "+---+\n",
      "| id|\n",
      "+---+\n",
      "|  5|\n",
      "|  7|\n",
      "|  9|\n",
      "+---+\n",
      "\n"
     ]
    }
   ],
   "source": [
    "# Read old version of data using time travel\n",
    "print(\"######## Read old data using time travel ############\")\n",
    "df = spark.read.format(\"delta\").option(\"versionAsOf\", 0).table(tableName)\n",
    "df.orderBy(\"id\").show()"
   ]
  },
  {
   "cell_type": "code",
   "execution_count": 13,
   "metadata": {},
   "outputs": [],
   "source": [
    "# cleanup\n",
    "spark.sql(f\"DROP TABLE {tableName}\")\n",
    "spark.sql(\"DROP TABLE IF EXISTS newData\")\n",
    "spark.stop()"
   ]
  },
  {
   "cell_type": "code",
   "execution_count": null,
   "metadata": {},
   "outputs": [],
   "source": []
  }
 ],
 "metadata": {
  "kernelspec": {
   "display_name": "Python 3",
   "language": "python",
   "name": "python3"
  },
  "language_info": {
   "codemirror_mode": {
    "name": "ipython",
    "version": 3
   },
   "file_extension": ".py",
   "mimetype": "text/x-python",
   "name": "python",
   "nbconvert_exporter": "python",
   "pygments_lexer": "ipython3",
   "version": "3.8.5"
  }
 },
 "nbformat": 4,
 "nbformat_minor": 4
}
