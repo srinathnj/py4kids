{
 "cells": [
  {
   "cell_type": "code",
   "execution_count": 1,
   "metadata": {},
   "outputs": [],
   "source": [
    "from pyspark.sql import SparkSession\n",
    "import pyspark.sql.functions as F\n",
    "from pyspark.sql.types import *\n",
    "\n",
    "spark = SparkSession\\\n",
    "    .builder\\\n",
    "    .appName(\"chapter-08-join\")\\\n",
    "    .getOrCreate()"
   ]
  },
  {
   "cell_type": "code",
   "execution_count": 2,
   "metadata": {},
   "outputs": [],
   "source": [
    "data = [\n",
    "    (100, 'Kathy', None),\n",
    "    (101, 'Ken', 100),\n",
    "    (102, 'Ben', 100),\n",
    "    (201, 'Dan', 101),\n",
    "    (202, 'Jane', 101),\n",
    "    (901, 'Wendy', None),\n",
    "]\n",
    "\n",
    "columns = [\"empId\", \"name\", \"mgrId\"]\n",
    "df = spark.createDataFrame(data=data, schema=columns)"
   ]
  },
  {
   "cell_type": "code",
   "execution_count": 3,
   "metadata": {},
   "outputs": [
    {
     "name": "stdout",
     "output_type": "stream",
     "text": [
      "+-----+-----+-----+\n",
      "|empId| name|mgrId|\n",
      "+-----+-----+-----+\n",
      "|  100|Kathy| null|\n",
      "|  101|  Ken|  100|\n",
      "|  102|  Ben|  100|\n",
      "|  201|  Dan|  101|\n",
      "|  202| Jane|  101|\n",
      "|  901|Wendy| null|\n",
      "+-----+-----+-----+\n",
      "\n"
     ]
    }
   ],
   "source": [
    "df.show()"
   ]
  },
  {
   "cell_type": "code",
   "execution_count": 11,
   "metadata": {},
   "outputs": [],
   "source": [
    "df1 = df.alias(\"df1\")\n",
    "df2 = df.alias(\"df2\")"
   ]
  },
  {
   "cell_type": "code",
   "execution_count": 5,
   "metadata": {},
   "outputs": [
    {
     "name": "stdout",
     "output_type": "stream",
     "text": [
      "+-----+-----+-----+\n",
      "|empId| name|mgrId|\n",
      "+-----+-----+-----+\n",
      "|  100|Kathy| null|\n",
      "|  101|  Ken|  100|\n",
      "|  102|  Ben|  100|\n",
      "|  201|  Dan|  101|\n",
      "|  202| Jane|  101|\n",
      "|  901|Wendy| null|\n",
      "+-----+-----+-----+\n",
      "\n"
     ]
    }
   ],
   "source": [
    "df2.show()"
   ]
  },
  {
   "cell_type": "code",
   "execution_count": 19,
   "metadata": {},
   "outputs": [
    {
     "name": "stdout",
     "output_type": "stream",
     "text": [
      "+-----+-----+--------+\n",
      "|empId| name|mgr_name|\n",
      "+-----+-----+--------+\n",
      "|  102|  Ben|   Kathy|\n",
      "|  201|  Dan|     Ken|\n",
      "|  202| Jane|     Ken|\n",
      "|  100|Kathy|    null|\n",
      "|  101|  Ken|   Kathy|\n",
      "|  901|Wendy|    null|\n",
      "+-----+-----+--------+\n",
      "\n"
     ]
    }
   ],
   "source": [
    "df3 = df1.join(df2, F.col(\"df1.mgrId\") == F.col(\"df2.empId\"), \"left\")\n",
    "(\n",
    "df3.select(\n",
    "        F.col(\"df1.empId\").alias(\"empId\"),\n",
    "        F.col(\"df1.name\").alias(\"name\"),\n",
    "        F.col(\"df2.name\").alias(\"mgr_name\"),\n",
    "    )\n",
    "    .sort(\"df1.name\")\n",
    "    .show()\n",
    ")\n"
   ]
  },
  {
   "cell_type": "code",
   "execution_count": 14,
   "metadata": {},
   "outputs": [],
   "source": [
    "empTab = df.createOrReplaceTempView(\"empTab\")"
   ]
  },
  {
   "cell_type": "code",
   "execution_count": 15,
   "metadata": {},
   "outputs": [
    {
     "name": "stdout",
     "output_type": "stream",
     "text": [
      "+-----+-----+-----+\n",
      "|empId| name|mgrId|\n",
      "+-----+-----+-----+\n",
      "|  100|Kathy| null|\n",
      "|  101|  Ken|  100|\n",
      "|  102|  Ben|  100|\n",
      "|  201|  Dan|  101|\n",
      "|  202| Jane|  101|\n",
      "|  901|Wendy| null|\n",
      "+-----+-----+-----+\n",
      "\n"
     ]
    }
   ],
   "source": [
    "spark.sql(\"select * from empTab\").show()"
   ]
  },
  {
   "cell_type": "code",
   "execution_count": 18,
   "metadata": {},
   "outputs": [
    {
     "name": "stdout",
     "output_type": "stream",
     "text": [
      "+-----+-----+-------+\n",
      "|empId| name|mgrName|\n",
      "+-----+-----+-------+\n",
      "|  102|  Ben|  Kathy|\n",
      "|  201|  Dan|    Ken|\n",
      "|  202| Jane|    Ken|\n",
      "|  100|Kathy|   null|\n",
      "|  101|  Ken|  Kathy|\n",
      "|  901|Wendy|   null|\n",
      "+-----+-----+-------+\n",
      "\n"
     ]
    }
   ],
   "source": [
    "spark.sql(\"\"\"\n",
    "    select \n",
    "        emp1.empId,\n",
    "        emp1.name,\n",
    "        emp2.name as mgrName\n",
    "    from empTab as emp1 \n",
    "    left join empTab as emp2 \n",
    "        on emp1.mgrId = emp2.empId\n",
    "    order by emp1.name\n",
    "\"\"\").show()"
   ]
  },
  {
   "cell_type": "code",
   "execution_count": null,
   "metadata": {},
   "outputs": [],
   "source": []
  },
  {
   "cell_type": "code",
   "execution_count": null,
   "metadata": {},
   "outputs": [],
   "source": []
  }
 ],
 "metadata": {
  "kernelspec": {
   "display_name": "Python 3",
   "language": "python",
   "name": "python3"
  },
  "language_info": {
   "codemirror_mode": {
    "name": "ipython",
    "version": 3
   },
   "file_extension": ".py",
   "mimetype": "text/x-python",
   "name": "python",
   "nbconvert_exporter": "python",
   "pygments_lexer": "ipython3",
   "version": "3.8.5"
  }
 },
 "nbformat": 4,
 "nbformat_minor": 4
}
