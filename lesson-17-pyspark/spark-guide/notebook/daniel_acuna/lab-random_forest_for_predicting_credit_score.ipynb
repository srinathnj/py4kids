{
 "cells": [
  {
   "cell_type": "markdown",
   "metadata": {},
   "source": [
    "# A problem with Logistic Regression"
   ]
  },
  {
   "cell_type": "markdown",
   "metadata": {},
   "source": [
    "While logistic regression is a simple, fast, and effective method. However, the predictions depend linearly on the features. This is, after we have learned the parameters $\\theta_0,\\theta_1,\\dots,\\theta_m$, given the features $X$, we have a prediction for the a new point $y$:\n",
    "\n",
    "\\begin{equation}\n",
    "p(y \\mid X) = \\frac{1}{1+\\exp(-(\\theta_0 + \\sum_{j>0} x_j \\theta_j))}\n",
    "\\end{equation}\n",
    "\n",
    "Let say we choose to predict that $y$ is 1 if $p(y \\mid X) > \\frac{1}{2}$, therefore, the decision boundary is given by:\n",
    "\n",
    "\\begin{equation}\n",
    "\\frac{1}{1+\\exp(-(\\theta_0 + \\sum_{j>0} x_j \\theta_j))} > \\frac{1}{2}\n",
    "\\end{equation}\n",
    "\n",
    "\\begin{equation}\n",
    "1 > \\frac{1+\\exp(-(\\theta_0 + \\sum_{j>0} x_j \\theta_j))}{2}\n",
    "\\end{equation}\n",
    "\n",
    "\\begin{equation}\n",
    "2 > 1+\\exp(-(\\theta_0 + \\sum_{j>0} x_j \\theta_j))\n",
    "\\end{equation}\n",
    "\n",
    "\\begin{equation}\n",
    "1 > \\exp(-(\\theta_0 + \\sum_{j>0} x_j \\theta_j))\n",
    "\\end{equation}\n",
    "\n",
    "By taking the log:\n",
    "\n",
    "\\begin{equation}\n",
    "0 > -(\\theta_0 + \\sum_{j>0} x_j \\theta_j)\n",
    "\\end{equation}\n",
    "\n",
    "therefore:\n",
    "\n",
    "\\begin{equation}\n",
    "0 < \\theta_0 + \\sum_{j>0} x_j \\theta_j\n",
    "\\end{equation}\n",
    "\n",
    "The decision boundary is exactly when the linear combination $X^T\\theta = 0$"
   ]
  },
  {
   "cell_type": "markdown",
   "metadata": {},
   "source": [
    "## The XOR function"
   ]
  },
  {
   "cell_type": "markdown",
   "metadata": {},
   "source": [
    "A problem of classic importance that clearly shows when linear boundaries do not work is the XOR function. The [XOR function](https://en.wikipedia.org/wiki/Exclusive_or) stands for eXclusive or and it means \"one or the other but not both\".\n",
    "\n",
    "Let's define the function now:"
   ]
  },
  {
   "cell_type": "code",
   "execution_count": 1,
   "metadata": {
    "collapsed": true
   },
   "outputs": [],
   "source": [
    "import pandas as pd\n",
    "import numpy as np"
   ]
  },
  {
   "cell_type": "code",
   "execution_count": 2,
   "metadata": {
    "collapsed": true
   },
   "outputs": [],
   "source": [
    "X = np.array([\n",
    "        [0, 0],\n",
    "        [0, 1],\n",
    "        [1, 0],\n",
    "        [1, 1]])\n",
    "y = np.array([0, 1, 1, 0])"
   ]
  },
  {
   "cell_type": "code",
   "execution_count": 3,
   "metadata": {
    "collapsed": false
   },
   "outputs": [
    {
     "data": {
      "text/html": [
       "<div>\n",
       "<table border=\"1\" class=\"dataframe\">\n",
       "  <thead>\n",
       "    <tr style=\"text-align: right;\">\n",
       "      <th></th>\n",
       "      <th>x1</th>\n",
       "      <th>x2</th>\n",
       "      <th>y</th>\n",
       "    </tr>\n",
       "  </thead>\n",
       "  <tbody>\n",
       "    <tr>\n",
       "      <th>0</th>\n",
       "      <td>0</td>\n",
       "      <td>0</td>\n",
       "      <td>0</td>\n",
       "    </tr>\n",
       "    <tr>\n",
       "      <th>1</th>\n",
       "      <td>0</td>\n",
       "      <td>1</td>\n",
       "      <td>1</td>\n",
       "    </tr>\n",
       "    <tr>\n",
       "      <th>2</th>\n",
       "      <td>1</td>\n",
       "      <td>0</td>\n",
       "      <td>1</td>\n",
       "    </tr>\n",
       "    <tr>\n",
       "      <th>3</th>\n",
       "      <td>1</td>\n",
       "      <td>1</td>\n",
       "      <td>0</td>\n",
       "    </tr>\n",
       "  </tbody>\n",
       "</table>\n",
       "</div>"
      ],
      "text/plain": [
       "   x1  x2  y\n",
       "0   0   0  0\n",
       "1   0   1  1\n",
       "2   1   0  1\n",
       "3   1   1  0"
      ]
     },
     "execution_count": 3,
     "metadata": {},
     "output_type": "execute_result"
    }
   ],
   "source": [
    "pd.DataFrame(np.hstack((X, y.reshape(-1, 1))), columns=['x1', 'x2', 'y'])"
   ]
  },
  {
   "cell_type": "code",
   "execution_count": 4,
   "metadata": {
    "collapsed": false
   },
   "outputs": [],
   "source": [
    "%matplotlib inline"
   ]
  },
  {
   "cell_type": "code",
   "execution_count": 5,
   "metadata": {
    "collapsed": true
   },
   "outputs": [],
   "source": [
    "import matplotlib.pyplot as plt"
   ]
  },
  {
   "cell_type": "code",
   "execution_count": 6,
   "metadata": {
    "collapsed": false
   },
   "outputs": [
    {
     "data": {
      "image/png": "[encoded data removed]",
      "text/plain": [
       "<matplotlib.figure.Figure at 0x1146a4cf8>"
      ]
     },
     "metadata": {},
     "output_type": "display_data"
    }
   ],
   "source": [
    "plt.scatter(X[y==0, 0], X[y==0, 1], c='red');\n",
    "plt.scatter(X[y==1, 0], X[y==1, 1], c='blue');\n",
    "plt.xlabel('x1');\n",
    "plt.ylabel('x2');\n",
    "plt.legend(['0', '1'], loc='center');"
   ]
  },
  {
   "cell_type": "markdown",
   "metadata": {},
   "source": [
    "The problem with this function is that there is no linear function that correctly can classify the data. It is non-separable."
   ]
  },
  {
   "cell_type": "markdown",
   "metadata": {},
   "source": [
    "## Other problems"
   ]
  },
  {
   "cell_type": "markdown",
   "metadata": {},
   "source": [
    "Sometimes we want to __combine__ features - make them __interact__. But we can't really test all possible combination of features. The space of possible combinations is too large."
   ]
  },
  {
   "cell_type": "markdown",
   "metadata": {},
   "source": [
    "## Decision tree"
   ]
  },
  {
   "cell_type": "markdown",
   "metadata": {},
   "source": [
    "Decision tree recursively partitions the feature space. The decisions are typically simple. Because of the recursive partitioning, the decision can be represented as a tree."
   ]
  },
  {
   "cell_type": "markdown",
   "metadata": {},
   "source": [
    "These techniques were originally created to display decisions in a human-redeable fashion. They are therefore easy to read and interpret."
   ]
  },
  {
   "cell_type": "markdown",
   "metadata": {},
   "source": [
    "For example, for the XOR problem, is very easy to create a decision tree that solves it with 100% accuracy."
   ]
  },
  {
   "cell_type": "code",
   "execution_count": 7,
   "metadata": {
    "collapsed": false
   },
   "outputs": [],
   "source": [
    "def xor_decision_tree(x):\n",
    "    x1, x2 = x\n",
    "    if x1 == 0:\n",
    "        if x2 == 0:\n",
    "            return 0\n",
    "        elif x2 == 1:\n",
    "            return 1\n",
    "    elif x1 == 1:\n",
    "        if x2 == 0:\n",
    "            return 1\n",
    "        elif x2 == 1:\n",
    "            return 0"
   ]
  },
  {
   "cell_type": "code",
   "execution_count": 8,
   "metadata": {
    "collapsed": false
   },
   "outputs": [
    {
     "data": {
      "text/plain": [
       "1.0"
      ]
     },
     "execution_count": 8,
     "metadata": {},
     "output_type": "execute_result"
    }
   ],
   "source": [
    "# accuracy\n",
    "(list(map(xor_decision_tree, X)) == y).mean()"
   ]
  },
  {
   "cell_type": "markdown",
   "metadata": {},
   "source": [
    "### Types of decision trees"
   ]
  },
  {
   "cell_type": "markdown",
   "metadata": {},
   "source": [
    "In mathematical terms, decision tress partition the feature space into, say, $M$ _regions_ $R_1, ..., R_M$. For each region, we build a prediction based on the training datapoints that fall into that region. \n",
    "\n",
    "#### Regression tree\n",
    "For a regression problem and a region $m$, for example, we may predict that the region value is the mean of the points that belong to that region, denoted by $\\hat{y}_{R_m}$. In this simple approach, we evaluate the performance of a regression tree by the squared error of the regression predictions\n",
    "\n",
    "\\begin{equation}\n",
    "\\sum_{m=1}^M \\sum_{i\\in R_m} (y_i - \\hat{y}_{R_m})^2\n",
    "\\end{equation}\n",
    "\n",
    "#### Classification tree\n",
    "\n",
    "A similar approach is taken for classification trees, where the dependent variable $y$ is categorical. The classification trees predicts a class $k$ for region $m$ as the _most common training class_ occuring in that region.\n",
    "\n",
    "To measure the performance of a classification tree, we often measure the proportion of training examples from class $k$ in region $m$, denoted as $\\hat{p}_{mk}$. For a particular region, one performance measure is the Gini index\n",
    "\n",
    "\\begin{equation}\n",
    "G_m = \\sum_{k=1}^K \\hat{p}_{mk} (1 - \\hat{p}_{mk})\n",
    "\\end{equation}\n",
    "\n",
    "Intuitively, the index is small when the values $\\hat{p}_{mk}$ are close to zero or one.\n",
    "\n",
    "Another measure of performance is cross entropy\n",
    "\n",
    "\\begin{equation}\n",
    "D_m = - \\sum_{k=1}^K \\hat{p}_{mk} \\text{log}(\\hat{p}_{mk})\n",
    "\\end{equation}\n",
    "\n",
    "where similarly distributions that are highly peaked have the lowest cross entropy.\n",
    "\n",
    "At the end, we want to minimize either $\\sum_m G_M$ or $\\sum_m D_m$."
   ]
  },
  {
   "cell_type": "markdown",
   "metadata": {},
   "source": [
    "### Building a decision tree\n",
    "\n",
    "The search of all possible recursive partitions is intractable. So typically the process is split into two steps.\n",
    "\n",
    "1. Building. The tree is build from the top down (from one feature to all features) in a greedy fashion until some criteria is met.\n",
    "\n",
    "    1. We start from a region that has every point\n",
    "    1. We select a feature and a cutting point that splits a region so that the loss is minimized.\n",
    "    1. We repeat recursively until a criteria, such as number of examples in a leaf, is met.\n",
    "\n",
    "1. Pruning or regularization. Given a regularization parameter $\\alpha$ and starting from the most complex tree found before, we find a new tree that optimizes the following loss function\n",
    "\n",
    "\\begin{equation}\n",
    "\\sum_{m=1}^M \\sum_{x_i \\in R_m} L(y_i, \\hat{f}(x_i)) + \\alpha M \n",
    "\\end{equation}\n",
    "\n",
    "where $L$ is the loss function either for a regression or classification problem. Since $M$ is the number regions, then $\\alpha \\mid M \\mid$ acts as an $L1$ regularization."
   ]
  },
  {
   "cell_type": "markdown",
   "metadata": {},
   "source": [
    "# Problems with decision trees\n",
    "\n",
    "In one word: __Overfitting__\n",
    "\n",
    "Question: how many ways can we build a tree for the same dataset?\n",
    "\n",
    "(from ISRL)"
   ]
  },
  {
   "cell_type": "markdown",
   "metadata": {},
   "source": [
    "1. The good\n",
    "    1. Trees are very easy to explain to people. In fact, they are even easier to explain than linear regression!\n",
    "    1. Some people believe that decision trees more closely mirror human decision-making than do the regression and classification approaches seen in previous chapters.\n",
    "    1. Trees can be displayed graphically, and are easily interpreted even by a non-expert (especially if they are small).\n",
    "    1. Trees can easily handle qualitative predictors without the need to create dummy variables.\n",
    "\n",
    "1. The bad\n",
    "    1. Unfortunately, trees generally do not have the same level of predictive accuracy as some of the other regression and classification approaches seen in this book.\n",
    "    1. Additionally, trees can be very non-robust. In other words, a small change in the data can cause a large change in the final estimated tree\n"
   ]
  },
  {
   "cell_type": "markdown",
   "metadata": {},
   "source": [
    "# Bagging"
   ]
  },
  {
   "cell_type": "markdown",
   "metadata": {},
   "source": [
    "The problem with decision trees and other learning methods is that they have _high variance_. If fit into two training set, they can produce very different fits.\n",
    "\n",
    "One solution to this problem is to _average_ the opinions of several models fit to different training sets. Given that we usually don't have many training sets, we use a technique called _bootstrap_ to produce them. In boostrap, we generate _fictitious_ training sets by _sampling with replacement_ the training set. We do this multiple times, fitting a model to each bootsrap sample, and producing a predicting based on the average of the trees. This is called __bagging__."
   ]
  },
  {
   "cell_type": "markdown",
   "metadata": {},
   "source": [
    "## The wisdom of the crowds\n",
    "\n",
    "One easy way to understand why bagging helps. Image asking $B$ people the opinion about the height of someone. Assume that each person has a high variance $\\sigma^2$ in their estimates and no biases. If we average their opinions, what is the variance of the resulting estimate?"
   ]
  },
  {
   "cell_type": "code",
   "execution_count": 9,
   "metadata": {
    "collapsed": false
   },
   "outputs": [],
   "source": [
    "import numpy as np"
   ]
  },
  {
   "cell_type": "code",
   "execution_count": 10,
   "metadata": {
    "collapsed": false
   },
   "outputs": [],
   "source": [
    "person_std = np.sqrt(10.)\n",
    "n_simulations = 10000\n",
    "B = 10\n",
    "opinions = np.random.normal(scale=person_std, size = (n_simulations, B))"
   ]
  },
  {
   "cell_type": "code",
   "execution_count": 11,
   "metadata": {
    "collapsed": true
   },
   "outputs": [],
   "source": [
    "# lets average opinions\n",
    "avg_opinions = opinions.mean(axis=1)"
   ]
  },
  {
   "cell_type": "code",
   "execution_count": 12,
   "metadata": {
    "collapsed": false
   },
   "outputs": [
    {
     "data": {
      "text/plain": [
       "1.0004557502423832"
      ]
     },
     "execution_count": 12,
     "metadata": {},
     "output_type": "execute_result"
    }
   ],
   "source": [
    "# let's look at the variance\n",
    "np.var(avg_opinions)"
   ]
  },
  {
   "cell_type": "code",
   "execution_count": null,
   "metadata": {
    "collapsed": false
   },
   "outputs": [],
   "source": []
  },
  {
   "cell_type": "code",
   "execution_count": 13,
   "metadata": {
    "collapsed": true
   },
   "outputs": [],
   "source": [
    "%matplotlib inline"
   ]
  },
  {
   "cell_type": "code",
   "execution_count": 14,
   "metadata": {
    "collapsed": true
   },
   "outputs": [],
   "source": [
    "import matplotlib.pyplot as plt"
   ]
  },
  {
   "cell_type": "code",
   "execution_count": 15,
   "metadata": {
    "collapsed": false
   },
   "outputs": [
    {
     "data": {
      "image/png": "[encoded data removed]",
      "text/plain": [
       "<matplotlib.figure.Figure at 0x1146a4860>"
      ]
     },
     "metadata": {},
     "output_type": "display_data"
    }
   ],
   "source": [
    "plt.plot(np.linspace(1, 10, num=10), 10/np.linspace(1, 10, num=10));\n",
    "plt.xlabel('B');\n",
    "plt.ylabel('Variance');\n",
    "plt.ylim([0, 12]);"
   ]
  },
  {
   "cell_type": "markdown",
   "metadata": {},
   "source": [
    "The variance seems to be a 10th of the original variance! Which is exacty right."
   ]
  },
  {
   "cell_type": "markdown",
   "metadata": {},
   "source": [
    "## Tree bagging\n",
    "\n",
    "Similarly to the wisdom of the crowds, you can think of the statistical estimation of models and then bagging as a way of lowering the variance of models!"
   ]
  },
  {
   "cell_type": "markdown",
   "metadata": {},
   "source": [
    "Therefore, if we fit ($\\hat{f}^{*b}$) different decision tree to boostrapped version $b$ of the data, then we can average those results for regression:\n",
    "\n",
    "\\begin{equation}\n",
    "\\hat{f}_{\\text{bagging}}(X) = \\frac{1}{B} \\sum_{b=1}^B  \\hat{f}^{*b}(X)\n",
    "\\end{equation}\n",
    "\n",
    "or in classification\n",
    "\n",
    "\\begin{equation}\n",
    "\\hat{f}_{\\text{bagging}}(X) = \\text{majority} \\{\\hat{f}^{*b}(X) \\mid b \\in \\{1, \\dots, B \\} \\}\n",
    "\\end{equation}"
   ]
  },
  {
   "cell_type": "markdown",
   "metadata": {},
   "source": [
    "The problem with tree bagging is that we have lost the interpretability of results because we are now averaging the prediction of several trees."
   ]
  },
  {
   "cell_type": "markdown",
   "metadata": {},
   "source": [
    "One solution to this is to compute, across all trees, how much on average a feature decreases the loss function. We can then use that measure to sort features by importance."
   ]
  },
  {
   "cell_type": "markdown",
   "metadata": {},
   "source": [
    "One convenient by-product of bagging is that we can compute the validaton performance of our model by computing the performance of the fit in the _out of bag_ datapoints. This is, every time we sample with replacement from the data, there is a set of datapoints that is not used in the data."
   ]
  },
  {
   "cell_type": "markdown",
   "metadata": {},
   "source": [
    "The argument goes like this. A single point has a chance of $1/n$ of being sampled. This means that the probability of a point not being sampled during a bootstrap sample is $(1-\\frac{1}{n})^n$. When $\\lim_{n\\rightarrow \\infty} (1-\\frac{1}{n})^n = \\frac{1}{e} \\approx 36% \\approx 1/3 $. So, in boostrapped estimators a point will be out of the fitting 1/3 of the time. \n",
    "\n",
    "At the end, we will have $B/3$ out of sample estimators for each data which gives us testing performance estimation for free!"
   ]
  },
  {
   "cell_type": "markdown",
   "metadata": {},
   "source": [
    "### Limitations of the wisdom of the crowds"
   ]
  },
  {
   "cell_type": "markdown",
   "metadata": {},
   "source": [
    "Now, the wisdom of the crowds assumes that _opinions are independent_, but boostrapping makes the trees dependent because we are resampling the same training data multiple times.\n",
    "\n",
    "What is the effect of making opinions dependent?"
   ]
  },
  {
   "cell_type": "code",
   "execution_count": 16,
   "metadata": {
    "collapsed": false
   },
   "outputs": [],
   "source": [
    "# wisdom of the crowds with opinion correlation\n",
    "corr = 0.9\n",
    "B = 1000\n",
    "cov = (np.ones((B, B)) * corr + np.eye(B)*(1-corr))*(person_std**2)\n",
    "mu = np.zeros(B)\n",
    "correlated_opinions = np.random.multivariate_normal(mu, cov, (n_simulations,))"
   ]
  },
  {
   "cell_type": "code",
   "execution_count": 17,
   "metadata": {
    "collapsed": false
   },
   "outputs": [
    {
     "data": {
      "text/plain": [
       "8.8626101979626046"
      ]
     },
     "execution_count": 17,
     "metadata": {},
     "output_type": "execute_result"
    }
   ],
   "source": [
    "correlated_opinions.mean(1).var()"
   ]
  },
  {
   "cell_type": "markdown",
   "metadata": {},
   "source": [
    "With 90% correlation, the crowd doesn't do much better than individuals! In general, the variance of correlated opinions is:\n",
    "\n",
    "\\begin{equation}\n",
    "\\text{var}(f) = \\bigl( \\frac{1-\\rho}{B} + \\rho \\bigr) \\sigma^2\n",
    "\\end{equation}"
   ]
  },
  {
   "cell_type": "code",
   "execution_count": 18,
   "metadata": {
    "collapsed": false
   },
   "outputs": [
    {
     "data": {
      "image/png": "[encoded data removed]",
      "text/plain": [
       "<matplotlib.figure.Figure at 0x1171e0cc0>"
      ]
     },
     "metadata": {},
     "output_type": "display_data"
    }
   ],
   "source": [
    "pl1 = plt.plot(np.linspace(1, 10, num=10), 10/np.linspace(1, 10, num=10));\n",
    "pl2 = plt.plot(np.linspace(1, 10, num=10), 10*((1-0.9)/np.linspace(1, 10, num=10) + 0.9));\n",
    "plt.xlabel('B');\n",
    "plt.ylabel('Variance');\n",
    "plt.ylim([0, 12]);\n",
    "plt.legend(['no correlation', '90% correlation']);"
   ]
  },
  {
   "cell_type": "markdown",
   "metadata": {},
   "source": [
    "## Random forest"
   ]
  },
  {
   "cell_type": "markdown",
   "metadata": {},
   "source": [
    "Random forest is a tweak to the boostrapped trees predictions that decorrelate trees. It does this by randomly sampling $m$ features during each split when bulding the tree. In this way, each of trees look at different features and become decorrelated. A typical value of $m = \\sqrt{p}$, where $p$ is the total number of variables."
   ]
  },
  {
   "cell_type": "markdown",
   "metadata": {},
   "source": [
    "## Gradient boosting"
   ]
  },
  {
   "cell_type": "markdown",
   "metadata": {},
   "source": [
    "Boosting _grows_ a model. It first fits a simple model and the next model focuses on samples poorly fit by the previous model. It is a way of _adaptively_ fitting the data. In a sense, boosting does not resample the data. \n",
    "\n",
    "Boosting is a technique whose theoretical workings go outside of the scope of this course. Roughly speaking, however, while bagging aims at lowering the variance in the learning process, boosting aims at reducing the bias."
   ]
  },
  {
   "cell_type": "markdown",
   "metadata": {},
   "source": [
    "# Application in Spark"
   ]
  },
  {
   "cell_type": "code",
   "execution_count": 19,
   "metadata": {
    "collapsed": false
   },
   "outputs": [],
   "source": [
    "import findspark\n",
    "\n",
    "# use the appropriate path to spark_home\n",
    "# for example, for cloudera:\n",
    "\n",
    "try:\n",
    "    findspark.init(spark_home=\"/opt/cloudera/parcels/SPARK2/lib/spark2\")\n",
    "except:\n",
    "    # or if you have it somewhere else\n",
    "    findspark.init(spark_home=\"/Users/danielacuna/Downloads/spark-2.0.0-bin-hadoop2.7\")\n",
    "\n",
    "import pyspark\n",
    "import numpy as np\n",
    "\n",
    "# conf = pyspark.SparkConf().\\\n",
    "#     setAppName('credit-score').\\\n",
    "#     setMaster('local[*]')\n",
    "\n",
    "from pyspark.sql import SparkSession\n",
    "\n",
    "spark = SparkSession.builder.\\\n",
    "    appName(\"credit-score\").\\\n",
    "    master('local[2]').\\\n",
    "    getOrCreate()\n",
    "\n",
    "# dataframe functions\n",
    "from pyspark.sql import functions as fn"
   ]
  },
  {
   "cell_type": "code",
   "execution_count": 20,
   "metadata": {
    "collapsed": false
   },
   "outputs": [
    {
     "name": "stdout",
     "output_type": "stream",
     "text": [
      "--2016-11-04 08:51:48--  https://github.com/daniel-acuna/python_data_science_intro/blob/master/data/cs-training.parquet.zip?raw=true\n",
      "Resolving github.com... 192.30.253.113, 192.30.253.112\n",
      "Connecting to github.com|192.30.253.113|:443... connected.\n",
      "HTTP request sent, awaiting response... 302 Found\n",
      "Location: https://github.com/daniel-acuna/python_data_science_intro/raw/master/data/cs-training.parquet.zip [following]\n",
      "--2016-11-04 08:51:49--  https://github.com/daniel-acuna/python_data_science_intro/raw/master/data/cs-training.parquet.zip\n",
      "Reusing existing connection to github.com:443.\n",
      "HTTP request sent, awaiting response... 302 Found\n",
      "Location: https://raw.githubusercontent.com/daniel-acuna/python_data_science_intro/master/data/cs-training.parquet.zip [following]\n",
      "--2016-11-04 08:51:49--  https://raw.githubusercontent.com/daniel-acuna/python_data_science_intro/master/data/cs-training.parquet.zip\n",
      "Resolving raw.githubusercontent.com... 151.101.32.133\n",
      "Connecting to raw.githubusercontent.com|151.101.32.133|:443... connected.\n",
      "HTTP request sent, awaiting response... 200 OK\n",
      "Length: 2444960 (2.3M) [application/zip]\n",
      "Saving to: ‘cs-training.parquet.zip’\n",
      "\n",
      "cs-training.parquet 100%[===================>]   2.33M  5.02MB/s    in 0.5s    \n",
      "\n",
      "2016-11-04 08:51:50 (5.02 MB/s) - ‘cs-training.parquet.zip’ saved [2444960/2444960]\n",
      "\n",
      "Archive:  cs-training.parquet.zip\n",
      "   creating: cs-training.parquet/\n",
      "  inflating: cs-training.parquet/.part-r-00000-74f5a5fb-f366-407c-aa73-963d4d366477.snappy.parquet.crc  \n",
      "  inflating: cs-training.parquet/.part-r-00001-74f5a5fb-f366-407c-aa73-963d4d366477.snappy.parquet.crc  \n",
      " extracting: cs-training.parquet/_SUCCESS  \n",
      "  inflating: cs-training.parquet/part-r-00000-74f5a5fb-f366-407c-aa73-963d4d366477.snappy.parquet  \n",
      "  inflating: cs-training.parquet/part-r-00001-74f5a5fb-f366-407c-aa73-963d4d366477.snappy.parquet  \n"
     ]
    }
   ],
   "source": [
    "!rm -rf cs-training.parquet && wget https://github.com/daniel-acuna/python_data_science_intro/blob/master/data/cs-training.parquet.zip?raw=true -O cs-training.parquet.zip && unzip cs-training.parquet.zip && rm cs-training.parquet.zip"
   ]
  },
  {
   "cell_type": "code",
   "execution_count": 21,
   "metadata": {
    "collapsed": true
   },
   "outputs": [],
   "source": [
    "import os"
   ]
  },
  {
   "cell_type": "code",
   "execution_count": 22,
   "metadata": {
    "collapsed": false
   },
   "outputs": [],
   "source": [
    "credit_score_df = spark.read.parquet('file:///' + os.path.join(os.getcwd(), 'cs-training.parquet'))\n",
    "# change type to double, drop NAs, and change dependent variable name to label\n",
    "credit_score_df = credit_score_df.withColumnRenamed('SeriousDlqin2yrs', 'label')"
   ]
  },
  {
   "cell_type": "markdown",
   "metadata": {},
   "source": [
    "| Variable Name                        | Description                                                                                                                                              | Type       |\n",
    "|--------------------------------------|----------------------------------------------------------------------------------------------------------------------------------------------------------|------------|\n",
    "| SeriousDlqin2yrs                     | Person experienced 90 days past due delinquency or worse                                                                                                 | Y/N        |\n",
    "| RevolvingUtilizationOfUnsecuredLines | Total balance on credit cards and personal lines of credit except real estate and no installment debt like car loans divided by the sum of credit limits | percentage |\n",
    "| age                                  | Age of borrower in years                                                                                                                                 | integer    |\n",
    "| NumberOfTime30-59DaysPastDueNotWorse | Number of times borrower has been 30-59 days past due but no worse in the last 2 years.                                                                  | integer    |\n",
    "| DebtRatio                            | Monthly debt payments, alimony,living costs divided by monthy gross income                                                                               | percentage |\n",
    "| MonthlyIncome                        | Monthly income                                                                                                                                           | real       |\n",
    "| NumberOfOpenCreditLinesAndLoans      | Number of Open loans (installment like car loan or mortgage) and Lines of credit (e.g. credit cards)                                                     | integer    |\n",
    "| NumberOfTimes90DaysLate              | Number of times borrower has been 90 days or more past due.                                                                                              | integer    |\n",
    "| NumberRealEstateLoansOrLines         | Number of mortgage and real estate loans including home equity lines of credit                                                                           | integer    |\n",
    "| NumberOfTime60-89DaysPastDueNotWorse | Number of times borrower has been 60-89 days past due but no worse in the last 2 years.                                                                  | integer    |\n",
    "| NumberOfDependents                   | Number of dependents in family excluding themselves (spouse, children etc.)                                                                              | integer    |"
   ]
  },
  {
   "cell_type": "markdown",
   "metadata": {},
   "source": [
    "We need to put the independent variables into one feature vector"
   ]
  },
  {
   "cell_type": "code",
   "execution_count": 23,
   "metadata": {
    "collapsed": true
   },
   "outputs": [],
   "source": [
    "from pyspark.ml.feature import VectorAssembler"
   ]
  },
  {
   "cell_type": "code",
   "execution_count": 24,
   "metadata": {
    "collapsed": false
   },
   "outputs": [],
   "source": [
    "training_df, validation_df, testing_df = credit_score_df.randomSplit([0.6, 0.3, 0.1])"
   ]
  },
  {
   "cell_type": "code",
   "execution_count": 25,
   "metadata": {
    "collapsed": true
   },
   "outputs": [],
   "source": [
    "# build a pipeline for analysis\n",
    "va = VectorAssembler().setInputCols(training_df.columns[2:]).setOutputCol('features')"
   ]
  },
  {
   "cell_type": "code",
   "execution_count": 26,
   "metadata": {
    "collapsed": true
   },
   "outputs": [],
   "source": [
    "from pyspark.ml.classification import LogisticRegression, RandomForestClassifier"
   ]
  },
  {
   "cell_type": "code",
   "execution_count": 27,
   "metadata": {
    "collapsed": true
   },
   "outputs": [],
   "source": [
    "from pyspark.ml import Pipeline"
   ]
  },
  {
   "cell_type": "code",
   "execution_count": 28,
   "metadata": {
    "collapsed": true
   },
   "outputs": [],
   "source": [
    "lr = LogisticRegression(regParam=0.1)"
   ]
  },
  {
   "cell_type": "code",
   "execution_count": 29,
   "metadata": {
    "collapsed": false,
    "scrolled": false
   },
   "outputs": [],
   "source": [
    "lr_pipeline = Pipeline(stages=[va, lr]).fit(training_df)"
   ]
  },
  {
   "cell_type": "code",
   "execution_count": 30,
   "metadata": {
    "collapsed": true
   },
   "outputs": [],
   "source": [
    "rf = RandomForestClassifier()"
   ]
  },
  {
   "cell_type": "code",
   "execution_count": 31,
   "metadata": {
    "collapsed": false,
    "scrolled": false
   },
   "outputs": [],
   "source": [
    "rf_pipeline = Pipeline(stages=[va, rf]).fit(training_df)"
   ]
  },
  {
   "cell_type": "code",
   "execution_count": 32,
   "metadata": {
    "collapsed": true
   },
   "outputs": [],
   "source": [
    "from pyspark.ml.evaluation import BinaryClassificationEvaluator"
   ]
  },
  {
   "cell_type": "code",
   "execution_count": 33,
   "metadata": {
    "collapsed": false
   },
   "outputs": [],
   "source": [
    "bce = BinaryClassificationEvaluator()"
   ]
  },
  {
   "cell_type": "code",
   "execution_count": 34,
   "metadata": {
    "collapsed": false
   },
   "outputs": [
    {
     "data": {
      "text/plain": [
       "0.6638844448026403"
      ]
     },
     "execution_count": 34,
     "metadata": {},
     "output_type": "execute_result"
    }
   ],
   "source": [
    "bce.evaluate(lr_pipeline.transform(validation_df))"
   ]
  },
  {
   "cell_type": "code",
   "execution_count": 35,
   "metadata": {
    "collapsed": false
   },
   "outputs": [
    {
     "data": {
      "text/plain": [
       "0.8544081804237617"
      ]
     },
     "execution_count": 35,
     "metadata": {},
     "output_type": "execute_result"
    }
   ],
   "source": [
    "bce.evaluate(rf_pipeline.transform(validation_df))"
   ]
  },
  {
   "cell_type": "markdown",
   "metadata": {},
   "source": [
    "Without much changes, Random Forest performs much better!"
   ]
  },
  {
   "cell_type": "markdown",
   "metadata": {},
   "source": [
    "# Try to interpret the results"
   ]
  },
  {
   "cell_type": "markdown",
   "metadata": {},
   "source": [
    "## Logistic regression"
   ]
  },
  {
   "cell_type": "code",
   "execution_count": 36,
   "metadata": {
    "collapsed": false
   },
   "outputs": [],
   "source": [
    "lr_model = lr_pipeline.stages[-1]"
   ]
  },
  {
   "cell_type": "code",
   "execution_count": 37,
   "metadata": {
    "collapsed": true
   },
   "outputs": [],
   "source": [
    "import pandas as pd"
   ]
  },
  {
   "cell_type": "code",
   "execution_count": 38,
   "metadata": {
    "collapsed": false
   },
   "outputs": [
    {
     "data": {
      "text/html": [
       "<div>\n",
       "<table border=\"1\" class=\"dataframe\">\n",
       "  <thead>\n",
       "    <tr style=\"text-align: right;\">\n",
       "      <th></th>\n",
       "      <th>column</th>\n",
       "      <th>weight</th>\n",
       "    </tr>\n",
       "  </thead>\n",
       "  <tbody>\n",
       "    <tr>\n",
       "      <th>1</th>\n",
       "      <td>age</td>\n",
       "      <td>-0.010155</td>\n",
       "    </tr>\n",
       "    <tr>\n",
       "      <th>5</th>\n",
       "      <td>NumberOfOpenCreditLinesAndLoans</td>\n",
       "      <td>-0.005847</td>\n",
       "    </tr>\n",
       "    <tr>\n",
       "      <th>3</th>\n",
       "      <td>DebtRatio</td>\n",
       "      <td>-0.000018</td>\n",
       "    </tr>\n",
       "    <tr>\n",
       "      <th>0</th>\n",
       "      <td>RevolvingUtilizationOfUnsecuredLines</td>\n",
       "      <td>-0.000008</td>\n",
       "    </tr>\n",
       "    <tr>\n",
       "      <th>4</th>\n",
       "      <td>MonthlyIncome</td>\n",
       "      <td>-0.000003</td>\n",
       "    </tr>\n",
       "    <tr>\n",
       "      <th>8</th>\n",
       "      <td>NumberOfTime60-89DaysPastDueNotWorse</td>\n",
       "      <td>0.001003</td>\n",
       "    </tr>\n",
       "    <tr>\n",
       "      <th>7</th>\n",
       "      <td>NumberRealEstateLoansOrLines</td>\n",
       "      <td>0.002961</td>\n",
       "    </tr>\n",
       "    <tr>\n",
       "      <th>6</th>\n",
       "      <td>NumberOfTimes90DaysLate</td>\n",
       "      <td>0.012715</td>\n",
       "    </tr>\n",
       "    <tr>\n",
       "      <th>2</th>\n",
       "      <td>NumberOfTime30-59DaysPastDueNotWorse</td>\n",
       "      <td>0.020933</td>\n",
       "    </tr>\n",
       "    <tr>\n",
       "      <th>9</th>\n",
       "      <td>NumberOfDependents</td>\n",
       "      <td>0.050313</td>\n",
       "    </tr>\n",
       "  </tbody>\n",
       "</table>\n",
       "</div>"
      ],
      "text/plain": [
       "                                 column    weight\n",
       "1                                   age -0.010155\n",
       "5       NumberOfOpenCreditLinesAndLoans -0.005847\n",
       "3                             DebtRatio -0.000018\n",
       "0  RevolvingUtilizationOfUnsecuredLines -0.000008\n",
       "4                         MonthlyIncome -0.000003\n",
       "8  NumberOfTime60-89DaysPastDueNotWorse  0.001003\n",
       "7          NumberRealEstateLoansOrLines  0.002961\n",
       "6               NumberOfTimes90DaysLate  0.012715\n",
       "2  NumberOfTime30-59DaysPastDueNotWorse  0.020933\n",
       "9                    NumberOfDependents  0.050313"
      ]
     },
     "execution_count": 38,
     "metadata": {},
     "output_type": "execute_result"
    }
   ],
   "source": [
    "pd.DataFrame(list(zip(credit_score_df.columns[2:], lr_model.coefficients.toArray())),\n",
    "            columns = ['column', 'weight']).sort_values('weight')"
   ]
  },
  {
   "cell_type": "markdown",
   "metadata": {},
   "source": [
    "## Random forest"
   ]
  },
  {
   "cell_type": "code",
   "execution_count": 39,
   "metadata": {
    "collapsed": true
   },
   "outputs": [],
   "source": [
    "rf_model = rf_pipeline.stages[-1]"
   ]
  },
  {
   "cell_type": "code",
   "execution_count": 40,
   "metadata": {
    "collapsed": false
   },
   "outputs": [
    {
     "data": {
      "text/html": [
       "<div>\n",
       "<table border=\"1\" class=\"dataframe\">\n",
       "  <thead>\n",
       "    <tr style=\"text-align: right;\">\n",
       "      <th></th>\n",
       "      <th>column</th>\n",
       "      <th>weight</th>\n",
       "    </tr>\n",
       "  </thead>\n",
       "  <tbody>\n",
       "    <tr>\n",
       "      <th>9</th>\n",
       "      <td>NumberOfDependents</td>\n",
       "      <td>0.004338</td>\n",
       "    </tr>\n",
       "    <tr>\n",
       "      <th>7</th>\n",
       "      <td>NumberRealEstateLoansOrLines</td>\n",
       "      <td>0.004882</td>\n",
       "    </tr>\n",
       "    <tr>\n",
       "      <th>1</th>\n",
       "      <td>age</td>\n",
       "      <td>0.010157</td>\n",
       "    </tr>\n",
       "    <tr>\n",
       "      <th>3</th>\n",
       "      <td>DebtRatio</td>\n",
       "      <td>0.012272</td>\n",
       "    </tr>\n",
       "    <tr>\n",
       "      <th>5</th>\n",
       "      <td>NumberOfOpenCreditLinesAndLoans</td>\n",
       "      <td>0.012705</td>\n",
       "    </tr>\n",
       "    <tr>\n",
       "      <th>4</th>\n",
       "      <td>MonthlyIncome</td>\n",
       "      <td>0.015520</td>\n",
       "    </tr>\n",
       "    <tr>\n",
       "      <th>2</th>\n",
       "      <td>NumberOfTime30-59DaysPastDueNotWorse</td>\n",
       "      <td>0.114192</td>\n",
       "    </tr>\n",
       "    <tr>\n",
       "      <th>0</th>\n",
       "      <td>RevolvingUtilizationOfUnsecuredLines</td>\n",
       "      <td>0.143338</td>\n",
       "    </tr>\n",
       "    <tr>\n",
       "      <th>8</th>\n",
       "      <td>NumberOfTime60-89DaysPastDueNotWorse</td>\n",
       "      <td>0.250695</td>\n",
       "    </tr>\n",
       "    <tr>\n",
       "      <th>6</th>\n",
       "      <td>NumberOfTimes90DaysLate</td>\n",
       "      <td>0.431902</td>\n",
       "    </tr>\n",
       "  </tbody>\n",
       "</table>\n",
       "</div>"
      ],
      "text/plain": [
       "                                 column    weight\n",
       "9                    NumberOfDependents  0.004338\n",
       "7          NumberRealEstateLoansOrLines  0.004882\n",
       "1                                   age  0.010157\n",
       "3                             DebtRatio  0.012272\n",
       "5       NumberOfOpenCreditLinesAndLoans  0.012705\n",
       "4                         MonthlyIncome  0.015520\n",
       "2  NumberOfTime30-59DaysPastDueNotWorse  0.114192\n",
       "0  RevolvingUtilizationOfUnsecuredLines  0.143338\n",
       "8  NumberOfTime60-89DaysPastDueNotWorse  0.250695\n",
       "6               NumberOfTimes90DaysLate  0.431902"
      ]
     },
     "execution_count": 40,
     "metadata": {},
     "output_type": "execute_result"
    }
   ],
   "source": [
    "pd.DataFrame(list(zip(credit_score_df.columns[2:], rf_model.featureImportances.toArray())),\n",
    "            columns = ['column', 'weight']).sort_values('weight')"
   ]
  },
  {
   "cell_type": "markdown",
   "metadata": {},
   "source": [
    "Let's take a look at one tree"
   ]
  },
  {
   "cell_type": "code",
   "execution_count": 41,
   "metadata": {
    "collapsed": false
   },
   "outputs": [
    {
     "data": {
      "text/plain": [
       "20"
      ]
     },
     "execution_count": 41,
     "metadata": {},
     "output_type": "execute_result"
    }
   ],
   "source": [
    "len(rf_model.trees)"
   ]
  },
  {
   "cell_type": "code",
   "execution_count": 42,
   "metadata": {
    "collapsed": false
   },
   "outputs": [
    {
     "name": "stdout",
     "output_type": "stream",
     "text": [
      "DecisionTreeClassificationModel (uid=dtc_fcb008986019) of depth 5 with 63 nodes\n",
      "  If (feature 8 <= 0.0)\n",
      "   If (feature 4 <= 6630.0)\n",
      "    If (feature 6 <= 0.0)\n",
      "     If (feature 9 <= 0.0)\n",
      "      If (feature 1 <= 58.0)\n",
      "       Predict: 0.0\n",
      "      Else (feature 1 > 58.0)\n",
      "       Predict: 0.0\n",
      "     Else (feature 9 > 0.0)\n",
      "      If (feature 2 <= 0.0)\n",
      "       Predict: 0.0\n",
      "      Else (feature 2 > 0.0)\n",
      "       Predict: 0.0\n",
      "    Else (feature 6 > 0.0)\n",
      "     If (feature 3 <= 0.182492806)\n",
      "      If (feature 0 <= 0.664650863)\n",
      "       Predict: 0.0\n",
      "      Else (feature 0 > 0.664650863)\n",
      "       Predict: 0.0\n",
      "     Else (feature 3 > 0.182492806)\n",
      "      If (feature 6 <= 1.0)\n",
      "       Predict: 0.0\n",
      "      Else (feature 6 > 1.0)\n",
      "       Predict: 1.0\n",
      "   Else (feature 4 > 6630.0)\n",
      "    If (feature 0 <= 0.503625677)\n",
      "     If (feature 6 <= 0.0)\n",
      "      If (feature 7 <= 11.0)\n",
      "       Predict: 0.0\n",
      "      Else (feature 7 > 11.0)\n",
      "       Predict: 0.0\n",
      "     Else (feature 6 > 0.0)\n",
      "      If (feature 9 <= 0.0)\n",
      "       Predict: 0.0\n",
      "      Else (feature 9 > 0.0)\n",
      "       Predict: 0.0\n",
      "    Else (feature 0 > 0.503625677)\n",
      "     If (feature 3 <= 0.786827404)\n",
      "      If (feature 1 <= 50.0)\n",
      "       Predict: 0.0\n",
      "      Else (feature 1 > 50.0)\n",
      "       Predict: 0.0\n",
      "     Else (feature 3 > 0.786827404)\n",
      "      If (feature 6 <= 0.0)\n",
      "       Predict: 0.0\n",
      "      Else (feature 6 > 0.0)\n",
      "       Predict: 1.0\n",
      "  Else (feature 8 > 0.0)\n",
      "   If (feature 8 <= 1.0)\n",
      "    If (feature 5 <= 6.0)\n",
      "     If (feature 6 <= 0.0)\n",
      "      If (feature 1 <= 40.0)\n",
      "       Predict: 0.0\n",
      "      Else (feature 1 > 40.0)\n",
      "       Predict: 0.0\n",
      "     Else (feature 6 > 0.0)\n",
      "      If (feature 2 <= 1.0)\n",
      "       Predict: 0.0\n",
      "      Else (feature 2 > 1.0)\n",
      "       Predict: 1.0\n",
      "    Else (feature 5 > 6.0)\n",
      "     If (feature 2 <= 1.0)\n",
      "      If (feature 0 <= 0.750812459)\n",
      "       Predict: 0.0\n",
      "      Else (feature 0 > 0.750812459)\n",
      "       Predict: 0.0\n",
      "     Else (feature 2 > 1.0)\n",
      "      If (feature 2 <= 5.0)\n",
      "       Predict: 0.0\n",
      "      Else (feature 2 > 5.0)\n",
      "       Predict: 1.0\n",
      "   Else (feature 8 > 1.0)\n",
      "    If (feature 0 <= 0.835729346)\n",
      "     If (feature 6 <= 0.0)\n",
      "      If (feature 9 <= 1.0)\n",
      "       Predict: 0.0\n",
      "      Else (feature 9 > 1.0)\n",
      "       Predict: 1.0\n",
      "     Else (feature 6 > 0.0)\n",
      "      If (feature 1 <= 52.0)\n",
      "       Predict: 1.0\n",
      "      Else (feature 1 > 52.0)\n",
      "       Predict: 1.0\n",
      "    Else (feature 0 > 0.835729346)\n",
      "     If (feature 6 <= 0.0)\n",
      "      If (feature 5 <= 9.0)\n",
      "       Predict: 0.0\n",
      "      Else (feature 5 > 9.0)\n",
      "       Predict: 1.0\n",
      "     Else (feature 6 > 0.0)\n",
      "      If (feature 3 <= 0.141429285)\n",
      "       Predict: 1.0\n",
      "      Else (feature 3 > 0.141429285)\n",
      "       Predict: 1.0\n",
      "\n"
     ]
    }
   ],
   "source": [
    "print(rf_model.trees[0].toDebugString)"
   ]
  }
 ],
 "metadata": {
  "kernelspec": {
   "display_name": "Python 3",
   "language": "python",
   "name": "python3"
  },
  "language_info": {
   "codemirror_mode": {
    "name": "ipython",
    "version": 3
   },
   "file_extension": ".py",
   "mimetype": "text/x-python",
   "name": "python",
   "nbconvert_exporter": "python",
   "pygments_lexer": "ipython3",
   "version": "3.5.2"
  }
 },
 "nbformat": 4,
 "nbformat_minor": 1
}
