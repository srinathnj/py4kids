{
 "cells": [
  {
   "cell_type": "markdown",
   "metadata": {},
   "source": [
    "#### how to import a local folder to Databricks cloud\n",
    "\n",
    "\n",
    "git clone https://github.com/databricks/Spark-The-Definitive-Guide\n",
    "\n",
    "replace data path inside `code` folder with `/databricks-datasets/definitive-guide/data` globally\n",
    "\n",
    "```\n",
    "$ zip -r spark_guide_code.dbc spark_guide_code/\n",
    "```\n",
    "\n",
    "login to https://community.cloud.databricks.com/\n",
    "\n",
    "create a cluster\n",
    "\n",
    "workspace > Import File\n",
    "\n",
    "Not working because file format are different!!!"
   ]
  },
  {
   "cell_type": "code",
   "execution_count": null,
   "metadata": {},
   "outputs": [],
   "source": []
  }
 ],
 "metadata": {
  "kernelspec": {
   "display_name": "Python 3",
   "language": "python",
   "name": "python3"
  },
  "language_info": {
   "codemirror_mode": {
    "name": "ipython",
    "version": 3
   },
   "file_extension": ".py",
   "mimetype": "text/x-python",
   "name": "python",
   "nbconvert_exporter": "python",
   "pygments_lexer": "ipython3",
   "version": "3.8.5"
  }
 },
 "nbformat": 4,
 "nbformat_minor": 2
}
