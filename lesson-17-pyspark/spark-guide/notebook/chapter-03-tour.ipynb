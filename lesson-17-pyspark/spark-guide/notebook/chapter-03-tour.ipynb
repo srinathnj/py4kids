{
 "cells": [
  {
   "cell_type": "code",
   "execution_count": 1,
   "metadata": {},
   "outputs": [],
   "source": [
    "from IPython.display import display, clear_output"
   ]
  },
  {
   "cell_type": "code",
   "execution_count": 2,
   "metadata": {},
   "outputs": [],
   "source": [
    "from pyspark.sql import SparkSession\n",
    "import pyspark.sql.functions as F\n",
    "from pyspark.sql.types import *\n",
    "\n",
    "spark = SparkSession\\\n",
    "    .builder\\\n",
    "    .appName(\"chapter-03-tour\")\\\n",
    "    .getOrCreate()\n",
    "\n",
    "import os\n",
    "SPARK_BOOK_DATA_PATH = os.environ['SPARK_BOOK_DATA_PATH']"
   ]
  },
  {
   "cell_type": "markdown",
   "metadata": {},
   "source": [
    "### Spark SQL"
   ]
  },
  {
   "cell_type": "code",
   "execution_count": 4,
   "metadata": {},
   "outputs": [],
   "source": [
    "file_path = SPARK_BOOK_DATA_PATH + \"/data/retail-data/by-day/*.csv\"\n",
    "\n",
    "retail_df = spark.read.csv(file_path, header=True, inferSchema=True)"
   ]
  },
  {
   "cell_type": "raw",
   "metadata": {},
   "source": [
    "retail_df = spark.read\\\n",
    "  .format(\"csv\")\\\n",
    "  .option(\"header\", \"true\")\\\n",
    "  .option(\"inferSchema\", \"true\")\\\n",
    "  .load(file_path)"
   ]
  },
  {
   "cell_type": "code",
   "execution_count": 5,
   "metadata": {},
   "outputs": [
    {
     "data": {
      "text/plain": [
       "541909"
      ]
     },
     "execution_count": 5,
     "metadata": {},
     "output_type": "execute_result"
    }
   ],
   "source": [
    "retail_df.count()"
   ]
  },
  {
   "cell_type": "code",
   "execution_count": 6,
   "metadata": {},
   "outputs": [
    {
     "name": "stdout",
     "output_type": "stream",
     "text": [
      "+---------+---------+-------------------------------+--------+-------------------+---------+----------+--------------+\n",
      "|InvoiceNo|StockCode|Description                    |Quantity|InvoiceDate        |UnitPrice|CustomerID|Country       |\n",
      "+---------+---------+-------------------------------+--------+-------------------+---------+----------+--------------+\n",
      "|580538   |23084    |RABBIT NIGHT LIGHT             |48      |2011-12-05 08:38:00|1.79     |14075.0   |United Kingdom|\n",
      "|580538   |23077    |DOUGHNUT LIP GLOSS             |20      |2011-12-05 08:38:00|1.25     |14075.0   |United Kingdom|\n",
      "|580538   |22906    |12 MESSAGE CARDS WITH ENVELOPES|24      |2011-12-05 08:38:00|1.65     |14075.0   |United Kingdom|\n",
      "|580538   |21914    |BLUE HARMONICA IN BOX          |24      |2011-12-05 08:38:00|1.25     |14075.0   |United Kingdom|\n",
      "|580538   |22467    |GUMBALL COAT RACK              |6       |2011-12-05 08:38:00|2.55     |14075.0   |United Kingdom|\n",
      "+---------+---------+-------------------------------+--------+-------------------+---------+----------+--------------+\n",
      "only showing top 5 rows\n",
      "\n"
     ]
    }
   ],
   "source": [
    "retail_df.show(5,False)"
   ]
  },
  {
   "cell_type": "code",
   "execution_count": 7,
   "metadata": {},
   "outputs": [
    {
     "data": {
      "text/html": [
       "<div>\n",
       "<style scoped>\n",
       "    .dataframe tbody tr th:only-of-type {\n",
       "        vertical-align: middle;\n",
       "    }\n",
       "\n",
       "    .dataframe tbody tr th {\n",
       "        vertical-align: top;\n",
       "    }\n",
       "\n",
       "    .dataframe thead th {\n",
       "        text-align: right;\n",
       "    }\n",
       "</style>\n",
       "<table border=\"1\" class=\"dataframe\">\n",
       "  <thead>\n",
       "    <tr style=\"text-align: right;\">\n",
       "      <th></th>\n",
       "      <th>InvoiceNo</th>\n",
       "      <th>StockCode</th>\n",
       "      <th>Description</th>\n",
       "      <th>Quantity</th>\n",
       "      <th>InvoiceDate</th>\n",
       "      <th>UnitPrice</th>\n",
       "      <th>CustomerID</th>\n",
       "      <th>Country</th>\n",
       "    </tr>\n",
       "  </thead>\n",
       "  <tbody>\n",
       "    <tr>\n",
       "      <th>0</th>\n",
       "      <td>580538</td>\n",
       "      <td>23084</td>\n",
       "      <td>RABBIT NIGHT LIGHT</td>\n",
       "      <td>48</td>\n",
       "      <td>2011-12-05 08:38:00</td>\n",
       "      <td>1.79</td>\n",
       "      <td>14075.0</td>\n",
       "      <td>United Kingdom</td>\n",
       "    </tr>\n",
       "    <tr>\n",
       "      <th>1</th>\n",
       "      <td>580538</td>\n",
       "      <td>23077</td>\n",
       "      <td>DOUGHNUT LIP GLOSS</td>\n",
       "      <td>20</td>\n",
       "      <td>2011-12-05 08:38:00</td>\n",
       "      <td>1.25</td>\n",
       "      <td>14075.0</td>\n",
       "      <td>United Kingdom</td>\n",
       "    </tr>\n",
       "    <tr>\n",
       "      <th>2</th>\n",
       "      <td>580538</td>\n",
       "      <td>22906</td>\n",
       "      <td>12 MESSAGE CARDS WITH ENVELOPES</td>\n",
       "      <td>24</td>\n",
       "      <td>2011-12-05 08:38:00</td>\n",
       "      <td>1.65</td>\n",
       "      <td>14075.0</td>\n",
       "      <td>United Kingdom</td>\n",
       "    </tr>\n",
       "    <tr>\n",
       "      <th>3</th>\n",
       "      <td>580538</td>\n",
       "      <td>21914</td>\n",
       "      <td>BLUE HARMONICA IN BOX</td>\n",
       "      <td>24</td>\n",
       "      <td>2011-12-05 08:38:00</td>\n",
       "      <td>1.25</td>\n",
       "      <td>14075.0</td>\n",
       "      <td>United Kingdom</td>\n",
       "    </tr>\n",
       "    <tr>\n",
       "      <th>4</th>\n",
       "      <td>580538</td>\n",
       "      <td>22467</td>\n",
       "      <td>GUMBALL COAT RACK</td>\n",
       "      <td>6</td>\n",
       "      <td>2011-12-05 08:38:00</td>\n",
       "      <td>2.55</td>\n",
       "      <td>14075.0</td>\n",
       "      <td>United Kingdom</td>\n",
       "    </tr>\n",
       "    <tr>\n",
       "      <th>...</th>\n",
       "      <td>...</td>\n",
       "      <td>...</td>\n",
       "      <td>...</td>\n",
       "      <td>...</td>\n",
       "      <td>...</td>\n",
       "      <td>...</td>\n",
       "      <td>...</td>\n",
       "      <td>...</td>\n",
       "    </tr>\n",
       "    <tr>\n",
       "      <th>541904</th>\n",
       "      <td>543282</td>\n",
       "      <td>22849</td>\n",
       "      <td>BREAD BIN DINER STYLE MINT</td>\n",
       "      <td>1</td>\n",
       "      <td>2011-02-06 16:08:00</td>\n",
       "      <td>16.95</td>\n",
       "      <td>12956.0</td>\n",
       "      <td>United Kingdom</td>\n",
       "    </tr>\n",
       "    <tr>\n",
       "      <th>541905</th>\n",
       "      <td>543282</td>\n",
       "      <td>84879</td>\n",
       "      <td>ASSORTED COLOUR BIRD ORNAMENT</td>\n",
       "      <td>8</td>\n",
       "      <td>2011-02-06 16:08:00</td>\n",
       "      <td>1.69</td>\n",
       "      <td>12956.0</td>\n",
       "      <td>United Kingdom</td>\n",
       "    </tr>\n",
       "    <tr>\n",
       "      <th>541906</th>\n",
       "      <td>543282</td>\n",
       "      <td>84659A</td>\n",
       "      <td>WHITE TRAVEL ALARM CLOCK</td>\n",
       "      <td>1</td>\n",
       "      <td>2011-02-06 16:08:00</td>\n",
       "      <td>2.55</td>\n",
       "      <td>12956.0</td>\n",
       "      <td>United Kingdom</td>\n",
       "    </tr>\n",
       "    <tr>\n",
       "      <th>541907</th>\n",
       "      <td>543282</td>\n",
       "      <td>82484</td>\n",
       "      <td>WOOD BLACK BOARD ANT WHITE FINISH</td>\n",
       "      <td>1</td>\n",
       "      <td>2011-02-06 16:08:00</td>\n",
       "      <td>7.95</td>\n",
       "      <td>12956.0</td>\n",
       "      <td>United Kingdom</td>\n",
       "    </tr>\n",
       "    <tr>\n",
       "      <th>541908</th>\n",
       "      <td>543282</td>\n",
       "      <td>22168</td>\n",
       "      <td>ORGANISER WOOD ANTIQUE WHITE</td>\n",
       "      <td>1</td>\n",
       "      <td>2011-02-06 16:08:00</td>\n",
       "      <td>8.50</td>\n",
       "      <td>12956.0</td>\n",
       "      <td>United Kingdom</td>\n",
       "    </tr>\n",
       "  </tbody>\n",
       "</table>\n",
       "<p>541909 rows × 8 columns</p>\n",
       "</div>"
      ],
      "text/plain": [
       "       InvoiceNo StockCode                        Description  Quantity  \\\n",
       "0         580538     23084                 RABBIT NIGHT LIGHT        48   \n",
       "1         580538     23077                DOUGHNUT LIP GLOSS         20   \n",
       "2         580538     22906    12 MESSAGE CARDS WITH ENVELOPES        24   \n",
       "3         580538     21914             BLUE HARMONICA IN BOX         24   \n",
       "4         580538     22467                  GUMBALL COAT RACK         6   \n",
       "...          ...       ...                                ...       ...   \n",
       "541904    543282     22849         BREAD BIN DINER STYLE MINT         1   \n",
       "541905    543282     84879      ASSORTED COLOUR BIRD ORNAMENT         8   \n",
       "541906    543282    84659A           WHITE TRAVEL ALARM CLOCK         1   \n",
       "541907    543282     82484  WOOD BLACK BOARD ANT WHITE FINISH         1   \n",
       "541908    543282     22168      ORGANISER WOOD ANTIQUE WHITE          1   \n",
       "\n",
       "                InvoiceDate  UnitPrice  CustomerID         Country  \n",
       "0       2011-12-05 08:38:00       1.79     14075.0  United Kingdom  \n",
       "1       2011-12-05 08:38:00       1.25     14075.0  United Kingdom  \n",
       "2       2011-12-05 08:38:00       1.65     14075.0  United Kingdom  \n",
       "3       2011-12-05 08:38:00       1.25     14075.0  United Kingdom  \n",
       "4       2011-12-05 08:38:00       2.55     14075.0  United Kingdom  \n",
       "...                     ...        ...         ...             ...  \n",
       "541904  2011-02-06 16:08:00      16.95     12956.0  United Kingdom  \n",
       "541905  2011-02-06 16:08:00       1.69     12956.0  United Kingdom  \n",
       "541906  2011-02-06 16:08:00       2.55     12956.0  United Kingdom  \n",
       "541907  2011-02-06 16:08:00       7.95     12956.0  United Kingdom  \n",
       "541908  2011-02-06 16:08:00       8.50     12956.0  United Kingdom  \n",
       "\n",
       "[541909 rows x 8 columns]"
      ]
     },
     "metadata": {},
     "output_type": "display_data"
    }
   ],
   "source": [
    "display(retail_df.toPandas())"
   ]
  },
  {
   "cell_type": "code",
   "execution_count": 8,
   "metadata": {},
   "outputs": [],
   "source": [
    "retail_df.createOrReplaceTempView(\"retail_table\")\n",
    "# retail_table is a SQL table for query"
   ]
  },
  {
   "cell_type": "code",
   "execution_count": 9,
   "metadata": {},
   "outputs": [],
   "source": [
    "staticSchema = retail_df.schema"
   ]
  },
  {
   "cell_type": "code",
   "execution_count": 10,
   "metadata": {},
   "outputs": [
    {
     "name": "stdout",
     "output_type": "stream",
     "text": [
      "StructType(List(StructField(InvoiceNo,StringType,true),StructField(StockCode,StringType,true),StructField(Description,StringType,true),StructField(Quantity,IntegerType,true),StructField(InvoiceDate,StringType,true),StructField(UnitPrice,DoubleType,true),StructField(CustomerID,DoubleType,true),StructField(Country,StringType,true)))\n"
     ]
    }
   ],
   "source": [
    "print(staticSchema)"
   ]
  },
  {
   "cell_type": "code",
   "execution_count": 11,
   "metadata": {},
   "outputs": [
    {
     "name": "stdout",
     "output_type": "stream",
     "text": [
      "root\n",
      " |-- InvoiceNo: string (nullable = true)\n",
      " |-- StockCode: string (nullable = true)\n",
      " |-- Description: string (nullable = true)\n",
      " |-- Quantity: integer (nullable = true)\n",
      " |-- InvoiceDate: string (nullable = true)\n",
      " |-- UnitPrice: double (nullable = true)\n",
      " |-- CustomerID: double (nullable = true)\n",
      " |-- Country: string (nullable = true)\n",
      "\n"
     ]
    }
   ],
   "source": [
    "retail_df.printSchema()"
   ]
  },
  {
   "cell_type": "code",
   "execution_count": 12,
   "metadata": {},
   "outputs": [
    {
     "data": {
      "text/html": [
       "<div>\n",
       "<style scoped>\n",
       "    .dataframe tbody tr th:only-of-type {\n",
       "        vertical-align: middle;\n",
       "    }\n",
       "\n",
       "    .dataframe tbody tr th {\n",
       "        vertical-align: top;\n",
       "    }\n",
       "\n",
       "    .dataframe thead th {\n",
       "        text-align: right;\n",
       "    }\n",
       "</style>\n",
       "<table border=\"1\" class=\"dataframe\">\n",
       "  <thead>\n",
       "    <tr style=\"text-align: right;\">\n",
       "      <th></th>\n",
       "      <th>summary</th>\n",
       "      <th>InvoiceNo</th>\n",
       "      <th>StockCode</th>\n",
       "      <th>Description</th>\n",
       "      <th>Quantity</th>\n",
       "      <th>InvoiceDate</th>\n",
       "      <th>UnitPrice</th>\n",
       "      <th>CustomerID</th>\n",
       "      <th>Country</th>\n",
       "    </tr>\n",
       "  </thead>\n",
       "  <tbody>\n",
       "    <tr>\n",
       "      <th>0</th>\n",
       "      <td>count</td>\n",
       "      <td>541909</td>\n",
       "      <td>541909</td>\n",
       "      <td>540455</td>\n",
       "      <td>541909</td>\n",
       "      <td>541909</td>\n",
       "      <td>541909</td>\n",
       "      <td>406829</td>\n",
       "      <td>541909</td>\n",
       "    </tr>\n",
       "    <tr>\n",
       "      <th>1</th>\n",
       "      <td>mean</td>\n",
       "      <td>559965.752026781</td>\n",
       "      <td>27623.240210938104</td>\n",
       "      <td>20713.0</td>\n",
       "      <td>9.55224954743324</td>\n",
       "      <td>None</td>\n",
       "      <td>4.611113626089641</td>\n",
       "      <td>15287.690570239585</td>\n",
       "      <td>None</td>\n",
       "    </tr>\n",
       "    <tr>\n",
       "      <th>2</th>\n",
       "      <td>stddev</td>\n",
       "      <td>13428.417280796697</td>\n",
       "      <td>16799.737628427683</td>\n",
       "      <td>NaN</td>\n",
       "      <td>218.0811578502335</td>\n",
       "      <td>None</td>\n",
       "      <td>96.75985306117963</td>\n",
       "      <td>1713.600303321597</td>\n",
       "      <td>None</td>\n",
       "    </tr>\n",
       "    <tr>\n",
       "      <th>3</th>\n",
       "      <td>min</td>\n",
       "      <td>536365</td>\n",
       "      <td>10002</td>\n",
       "      <td>4 PURPLE FLOCK DINNER CANDLES</td>\n",
       "      <td>-80995</td>\n",
       "      <td>2010-12-01 08:26:00</td>\n",
       "      <td>-11062.06</td>\n",
       "      <td>12346.0</td>\n",
       "      <td>Australia</td>\n",
       "    </tr>\n",
       "    <tr>\n",
       "      <th>4</th>\n",
       "      <td>max</td>\n",
       "      <td>C581569</td>\n",
       "      <td>m</td>\n",
       "      <td>wrongly sold sets</td>\n",
       "      <td>80995</td>\n",
       "      <td>2011-12-09 12:50:00</td>\n",
       "      <td>38970.0</td>\n",
       "      <td>18287.0</td>\n",
       "      <td>Unspecified</td>\n",
       "    </tr>\n",
       "  </tbody>\n",
       "</table>\n",
       "</div>"
      ],
      "text/plain": [
       "  summary           InvoiceNo           StockCode  \\\n",
       "0   count              541909              541909   \n",
       "1    mean    559965.752026781  27623.240210938104   \n",
       "2  stddev  13428.417280796697  16799.737628427683   \n",
       "3     min              536365               10002   \n",
       "4     max             C581569                   m   \n",
       "\n",
       "                      Description           Quantity          InvoiceDate  \\\n",
       "0                          540455             541909               541909   \n",
       "1                         20713.0   9.55224954743324                 None   \n",
       "2                             NaN  218.0811578502335                 None   \n",
       "3   4 PURPLE FLOCK DINNER CANDLES             -80995  2010-12-01 08:26:00   \n",
       "4               wrongly sold sets              80995  2011-12-09 12:50:00   \n",
       "\n",
       "           UnitPrice          CustomerID      Country  \n",
       "0             541909              406829       541909  \n",
       "1  4.611113626089641  15287.690570239585         None  \n",
       "2  96.75985306117963   1713.600303321597         None  \n",
       "3          -11062.06             12346.0    Australia  \n",
       "4            38970.0             18287.0  Unspecified  "
      ]
     },
     "metadata": {},
     "output_type": "display_data"
    }
   ],
   "source": [
    "display(retail_df.describe().toPandas())"
   ]
  },
  {
   "cell_type": "code",
   "execution_count": 13,
   "metadata": {},
   "outputs": [],
   "source": [
    "df = spark.sql(\"select * from retail_table limit 5\")"
   ]
  },
  {
   "cell_type": "code",
   "execution_count": 14,
   "metadata": {},
   "outputs": [
    {
     "name": "stdout",
     "output_type": "stream",
     "text": [
      "+---------+---------+-------------------------------+--------+-------------------+---------+----------+--------------+\n",
      "|InvoiceNo|StockCode|Description                    |Quantity|InvoiceDate        |UnitPrice|CustomerID|Country       |\n",
      "+---------+---------+-------------------------------+--------+-------------------+---------+----------+--------------+\n",
      "|580538   |23084    |RABBIT NIGHT LIGHT             |48      |2011-12-05 08:38:00|1.79     |14075.0   |United Kingdom|\n",
      "|580538   |23077    |DOUGHNUT LIP GLOSS             |20      |2011-12-05 08:38:00|1.25     |14075.0   |United Kingdom|\n",
      "|580538   |22906    |12 MESSAGE CARDS WITH ENVELOPES|24      |2011-12-05 08:38:00|1.65     |14075.0   |United Kingdom|\n",
      "|580538   |21914    |BLUE HARMONICA IN BOX          |24      |2011-12-05 08:38:00|1.25     |14075.0   |United Kingdom|\n",
      "|580538   |22467    |GUMBALL COAT RACK              |6       |2011-12-05 08:38:00|2.55     |14075.0   |United Kingdom|\n",
      "+---------+---------+-------------------------------+--------+-------------------+---------+----------+--------------+\n",
      "\n"
     ]
    }
   ],
   "source": [
    "df.show(truncate=False)   # disable truncate to show description in full"
   ]
  },
  {
   "cell_type": "code",
   "execution_count": 15,
   "metadata": {
    "scrolled": true
   },
   "outputs": [
    {
     "name": "stdout",
     "output_type": "stream",
     "text": [
      "+----------+------------------------------------------+------------------+\n",
      "|CustomerId|window                                    |sum(total_cost)   |\n",
      "+----------+------------------------------------------+------------------+\n",
      "|17450.0   |[2011-09-19 20:00:00, 2011-09-20 20:00:00]|71601.44          |\n",
      "|null      |[2011-11-13 19:00:00, 2011-11-14 19:00:00]|55316.08          |\n",
      "|null      |[2011-11-06 19:00:00, 2011-11-07 19:00:00]|42939.17          |\n",
      "|null      |[2011-03-28 20:00:00, 2011-03-29 20:00:00]|33521.39999999998 |\n",
      "|null      |[2011-12-07 19:00:00, 2011-12-08 19:00:00]|31975.590000000007|\n",
      "+----------+------------------------------------------+------------------+\n",
      "only showing top 5 rows\n",
      "\n"
     ]
    }
   ],
   "source": [
    "# COMMAND ----------\n",
    "\n",
    "from pyspark.sql.functions import window, column, desc, col\n",
    "\n",
    "(retail_df.selectExpr(\n",
    "    \"CustomerId\",\n",
    "    \"(UnitPrice * Quantity) as total_cost\",\n",
    "    \"InvoiceDate\")\n",
    "  .groupBy(col(\"CustomerId\"), window(col(\"InvoiceDate\"), \"1 day\"))\n",
    "  .sum(\"total_cost\")\n",
    "  .sort(desc(\"sum(total_cost)\"))\n",
    "  .show(5, False)\n",
    ")"
   ]
  },
  {
   "cell_type": "code",
   "execution_count": 16,
   "metadata": {
    "scrolled": true
   },
   "outputs": [
    {
     "name": "stdout",
     "output_type": "stream",
     "text": [
      "+----------+------------------------------------------+--------------+\n",
      "|CustomerId|InvoiceDateWindow                         |sum_total_cost|\n",
      "+----------+------------------------------------------+--------------+\n",
      "|17450.0   |[2011-09-19 20:00:00, 2011-09-20 20:00:00]|71601.44      |\n",
      "|null      |[2011-11-13 19:00:00, 2011-11-14 19:00:00]|55316.08      |\n",
      "|null      |[2011-11-06 19:00:00, 2011-11-07 19:00:00]|42939.17      |\n",
      "|null      |[2011-03-28 20:00:00, 2011-03-29 20:00:00]|33521.4       |\n",
      "|null      |[2011-12-07 19:00:00, 2011-12-08 19:00:00]|31975.59      |\n",
      "+----------+------------------------------------------+--------------+\n",
      "only showing top 5 rows\n",
      "\n"
     ]
    }
   ],
   "source": [
    "# col() can be omitted\n",
    "(\n",
    "retail_df.selectExpr(\n",
    "    \"CustomerId\",\n",
    "    \"(UnitPrice * Quantity) as total_cost\",\n",
    "    \"InvoiceDate\")\n",
    "  .groupBy(\"CustomerId\", window(\"InvoiceDate\", \"1 day\"))\n",
    "  .sum(\"total_cost\")\n",
    "  .withColumnRenamed(\"sum(total_cost)\", \"sum_total_cost\")\n",
    "  .withColumnRenamed(\"window\", \"InvoiceDateWindow\")\n",
    "  .sort(desc(\"sum_total_cost\"))\n",
    "  .withColumn(\"sum_total_cost\", F.round(\"sum_total_cost\",2))\n",
    "  .show(5, truncate=False)\n",
    ")"
   ]
  },
  {
   "cell_type": "markdown",
   "metadata": {},
   "source": [
    "### Spark Streaming"
   ]
  },
  {
   "cell_type": "code",
   "execution_count": 17,
   "metadata": {},
   "outputs": [],
   "source": [
    "## Extract\n",
    "streamingDataFrame = (spark\n",
    "    .readStream\n",
    "    .format(\"csv\")\n",
    "    .schema(staticSchema)\n",
    "    .option(\"maxFilesPerTrigger\", 1)\n",
    "    .option(\"header\", \"true\")\n",
    "    .load(SPARK_BOOK_DATA_PATH + \"/data/retail-data/by-day/*.csv\")\n",
    ")"
   ]
  },
  {
   "cell_type": "code",
   "execution_count": 18,
   "metadata": {},
   "outputs": [],
   "source": [
    "## Transform \n",
    "# cost per day\n",
    "purchaseByCustomerPerDay = (streamingDataFrame\n",
    "  .selectExpr(\n",
    "    \"CustomerId\",\n",
    "    \"(UnitPrice * Quantity) as total_cost\",\n",
    "    \"InvoiceDate\")\n",
    "  .groupBy(col(\"CustomerId\"), window(col(\"InvoiceDate\"), \"1 day\"))\n",
    "  .sum(\"total_cost\")\n",
    ")"
   ]
  },
  {
   "cell_type": "code",
   "execution_count": 19,
   "metadata": {},
   "outputs": [
    {
     "data": {
      "text/plain": [
       "<pyspark.sql.streaming.StreamingQuery at 0x7f452f78dd90>"
      ]
     },
     "execution_count": 19,
     "metadata": {},
     "output_type": "execute_result"
    }
   ],
   "source": [
    "## Load \n",
    "# store result into a SQL table `customer_purchases` is specified by `queryName`\n",
    "(\n",
    "purchaseByCustomerPerDay\n",
    "    .writeStream\n",
    "    .queryName(\"customer_purchases\")\n",
    "    .format(\"memory\")\n",
    "    .outputMode(\"complete\")\n",
    "    .start()\n",
    ")"
   ]
  },
  {
   "cell_type": "code",
   "execution_count": 26,
   "metadata": {},
   "outputs": [
    {
     "name": "stdout",
     "output_type": "stream",
     "text": [
      "+----------+------------------------------------------+------------------+\n",
      "|CustomerId|window                                    |sum(total_cost)   |\n",
      "+----------+------------------------------------------+------------------+\n",
      "|null      |[2011-11-06 19:00:00, 2011-11-07 19:00:00]|42939.17          |\n",
      "|null      |[2011-07-03 20:00:00, 2011-07-04 20:00:00]|13667.65999999993 |\n",
      "|18102.0   |[2011-07-03 20:00:00, 2011-07-04 20:00:00]|13282.0           |\n",
      "|null      |[2011-11-21 19:00:00, 2011-11-22 19:00:00]|13216.889999999894|\n",
      "|null      |[2010-11-30 19:00:00, 2010-12-01 19:00:00]|12584.299999999988|\n",
      "+----------+------------------------------------------+------------------+\n",
      "only showing top 5 rows\n",
      "\n"
     ]
    }
   ],
   "source": [
    "## Monitor stream\n",
    "# use `Ctrl-Enter` to execute below cell repeatly to see streaming result as more data are read\n",
    "spark.sql(\"\"\"\n",
    "  SELECT \n",
    "      *\n",
    "  FROM customer_purchases\n",
    "  ORDER BY `sum(total_cost)` DESC\n",
    "  \"\"\").show(5, False)"
   ]
  },
  {
   "cell_type": "code",
   "execution_count": 21,
   "metadata": {},
   "outputs": [
    {
     "name": "stdout",
     "output_type": "stream",
     "text": [
      "+----------+------------------------------------------+------------------+\n",
      "|CustomerId|window                                    |sum(total_cost)   |\n",
      "+----------+------------------------------------------+------------------+\n",
      "|12678.0   |[2011-10-27 20:00:00, 2011-10-28 20:00:00]|8947.960000000005 |\n",
      "|null      |[2011-05-18 20:00:00, 2011-05-19 20:00:00]|4012.6600000000067|\n",
      "|13694.0   |[2011-10-27 20:00:00, 2011-10-28 20:00:00]|3304.030000000001 |\n",
      "|null      |[2011-10-27 20:00:00, 2011-10-28 20:00:00]|3270.980000000003 |\n",
      "|13199.0   |[2011-10-27 20:00:00, 2011-10-28 20:00:00]|1912.7999999999997|\n",
      "+----------+------------------------------------------+------------------+\n",
      "only showing top 5 rows\n",
      "\n"
     ]
    }
   ],
   "source": [
    "spark.sql(\"\"\"\n",
    "  SELECT *\n",
    "  FROM customer_purchases\n",
    "  ORDER BY `sum(total_cost)` DESC\n",
    "  \"\"\").show(5,truncate=False)"
   ]
  },
  {
   "cell_type": "markdown",
   "metadata": {},
   "source": [
    "### Spark ML Pipeline"
   ]
  },
  {
   "cell_type": "code",
   "execution_count": 30,
   "metadata": {},
   "outputs": [
    {
     "name": "stdout",
     "output_type": "stream",
     "text": [
      "+---------+---------+-------------------------------+--------+-------------------+---------+----------+--------------+-----------+\n",
      "|InvoiceNo|StockCode|Description                    |Quantity|InvoiceDate        |UnitPrice|CustomerID|Country       |day_of_week|\n",
      "+---------+---------+-------------------------------+--------+-------------------+---------+----------+--------------+-----------+\n",
      "|580538   |23084    |RABBIT NIGHT LIGHT             |48      |2011-12-05 08:38:00|1.79     |14075.0   |United Kingdom|Monday     |\n",
      "|580538   |23077    |DOUGHNUT LIP GLOSS             |20      |2011-12-05 08:38:00|1.25     |14075.0   |United Kingdom|Monday     |\n",
      "|580538   |22906    |12 MESSAGE CARDS WITH ENVELOPES|24      |2011-12-05 08:38:00|1.65     |14075.0   |United Kingdom|Monday     |\n",
      "+---------+---------+-------------------------------+--------+-------------------+---------+----------+--------------+-----------+\n",
      "only showing top 3 rows\n",
      "\n"
     ]
    }
   ],
   "source": [
    "from pyspark.sql.functions import date_format, col\n",
    "\n",
    "preppedDataFrame = (retail_df\n",
    "  .na.fill(0)\n",
    "  .withColumn(\"day_of_week\", date_format(col(\"InvoiceDate\"), \"EEEE\"))\n",
    "  .coalesce(5)\n",
    ")\n",
    "\n",
    "preppedDataFrame.show(3, truncate=False)"
   ]
  },
  {
   "cell_type": "code",
   "execution_count": 32,
   "metadata": {},
   "outputs": [
    {
     "name": "stdout",
     "output_type": "stream",
     "text": [
      "+---------+---------+-----------+--------+-----------+---------+----------+-------+-----------+\n",
      "|InvoiceNo|StockCode|Description|Quantity|InvoiceDate|UnitPrice|CustomerID|Country|day_of_week|\n",
      "+---------+---------+-----------+--------+-----------+---------+----------+-------+-----------+\n",
      "+---------+---------+-----------+--------+-----------+---------+----------+-------+-----------+\n",
      "\n"
     ]
    }
   ],
   "source": [
    "preppedDataFrame.where(F.isnull(F.col(\"InvoiceDate\"))).show(4)"
   ]
  },
  {
   "cell_type": "code",
   "execution_count": 33,
   "metadata": {},
   "outputs": [],
   "source": [
    "# split data into (train,test)\n",
    "trainDataFrame = preppedDataFrame.where(\"InvoiceDate < '2011-07-01'\")\n",
    "\n",
    "testDataFrame = preppedDataFrame.where(\"InvoiceDate >= '2011-07-01'\")"
   ]
  },
  {
   "cell_type": "code",
   "execution_count": 34,
   "metadata": {},
   "outputs": [
    {
     "name": "stdout",
     "output_type": "stream",
     "text": [
      "+---------+---------+--------------------+--------+-------------------+---------+----------+--------------+-----------+\n",
      "|InvoiceNo|StockCode|         Description|Quantity|        InvoiceDate|UnitPrice|CustomerID|       Country|day_of_week|\n",
      "+---------+---------+--------------------+--------+-------------------+---------+----------+--------------+-----------+\n",
      "|   537226|    22811|SET OF 6 T-LIGHTS...|       6|2010-12-06 08:34:00|     2.95|   15987.0|United Kingdom|     Monday|\n",
      "|   537226|    21713|CITRONELLA CANDLE...|       8|2010-12-06 08:34:00|      2.1|   15987.0|United Kingdom|     Monday|\n",
      "|   537226|    22927|GREEN GIANT GARDE...|       2|2010-12-06 08:34:00|     5.95|   15987.0|United Kingdom|     Monday|\n",
      "+---------+---------+--------------------+--------+-------------------+---------+----------+--------------+-----------+\n",
      "only showing top 3 rows\n",
      "\n"
     ]
    }
   ],
   "source": [
    "trainDataFrame.show(3)"
   ]
  },
  {
   "cell_type": "code",
   "execution_count": 36,
   "metadata": {},
   "outputs": [
    {
     "data": {
      "text/html": [
       "<div>\n",
       "<style scoped>\n",
       "    .dataframe tbody tr th:only-of-type {\n",
       "        vertical-align: middle;\n",
       "    }\n",
       "\n",
       "    .dataframe tbody tr th {\n",
       "        vertical-align: top;\n",
       "    }\n",
       "\n",
       "    .dataframe thead th {\n",
       "        text-align: right;\n",
       "    }\n",
       "</style>\n",
       "<table border=\"1\" class=\"dataframe\">\n",
       "  <thead>\n",
       "    <tr style=\"text-align: right;\">\n",
       "      <th></th>\n",
       "      <th>InvoiceNo</th>\n",
       "      <th>StockCode</th>\n",
       "      <th>Description</th>\n",
       "      <th>Quantity</th>\n",
       "      <th>InvoiceDate</th>\n",
       "      <th>UnitPrice</th>\n",
       "      <th>CustomerID</th>\n",
       "      <th>Country</th>\n",
       "      <th>day_of_week</th>\n",
       "    </tr>\n",
       "  </thead>\n",
       "  <tbody>\n",
       "    <tr>\n",
       "      <th>0</th>\n",
       "      <td>580538</td>\n",
       "      <td>23084</td>\n",
       "      <td>RABBIT NIGHT LIGHT</td>\n",
       "      <td>48</td>\n",
       "      <td>2011-12-05 08:38:00</td>\n",
       "      <td>1.79</td>\n",
       "      <td>14075.0</td>\n",
       "      <td>United Kingdom</td>\n",
       "      <td>Monday</td>\n",
       "    </tr>\n",
       "    <tr>\n",
       "      <th>1</th>\n",
       "      <td>580538</td>\n",
       "      <td>23077</td>\n",
       "      <td>DOUGHNUT LIP GLOSS</td>\n",
       "      <td>20</td>\n",
       "      <td>2011-12-05 08:38:00</td>\n",
       "      <td>1.25</td>\n",
       "      <td>14075.0</td>\n",
       "      <td>United Kingdom</td>\n",
       "      <td>Monday</td>\n",
       "    </tr>\n",
       "    <tr>\n",
       "      <th>2</th>\n",
       "      <td>580538</td>\n",
       "      <td>22906</td>\n",
       "      <td>12 MESSAGE CARDS WITH ENVELOPES</td>\n",
       "      <td>24</td>\n",
       "      <td>2011-12-05 08:38:00</td>\n",
       "      <td>1.65</td>\n",
       "      <td>14075.0</td>\n",
       "      <td>United Kingdom</td>\n",
       "      <td>Monday</td>\n",
       "    </tr>\n",
       "    <tr>\n",
       "      <th>3</th>\n",
       "      <td>580538</td>\n",
       "      <td>21914</td>\n",
       "      <td>BLUE HARMONICA IN BOX</td>\n",
       "      <td>24</td>\n",
       "      <td>2011-12-05 08:38:00</td>\n",
       "      <td>1.25</td>\n",
       "      <td>14075.0</td>\n",
       "      <td>United Kingdom</td>\n",
       "      <td>Monday</td>\n",
       "    </tr>\n",
       "    <tr>\n",
       "      <th>4</th>\n",
       "      <td>580538</td>\n",
       "      <td>22467</td>\n",
       "      <td>GUMBALL COAT RACK</td>\n",
       "      <td>6</td>\n",
       "      <td>2011-12-05 08:38:00</td>\n",
       "      <td>2.55</td>\n",
       "      <td>14075.0</td>\n",
       "      <td>United Kingdom</td>\n",
       "      <td>Monday</td>\n",
       "    </tr>\n",
       "    <tr>\n",
       "      <th>...</th>\n",
       "      <td>...</td>\n",
       "      <td>...</td>\n",
       "      <td>...</td>\n",
       "      <td>...</td>\n",
       "      <td>...</td>\n",
       "      <td>...</td>\n",
       "      <td>...</td>\n",
       "      <td>...</td>\n",
       "      <td>...</td>\n",
       "    </tr>\n",
       "    <tr>\n",
       "      <th>296001</th>\n",
       "      <td>562595</td>\n",
       "      <td>84818</td>\n",
       "      <td>DANISH ROSE PHOTO FRAME</td>\n",
       "      <td>24</td>\n",
       "      <td>2011-08-07 15:52:00</td>\n",
       "      <td>0.79</td>\n",
       "      <td>17602.0</td>\n",
       "      <td>United Kingdom</td>\n",
       "      <td>Sunday</td>\n",
       "    </tr>\n",
       "    <tr>\n",
       "      <th>296002</th>\n",
       "      <td>562595</td>\n",
       "      <td>47343A</td>\n",
       "      <td>FUSCHIA FLOWER PURSE WITH BEADS</td>\n",
       "      <td>12</td>\n",
       "      <td>2011-08-07 15:52:00</td>\n",
       "      <td>0.83</td>\n",
       "      <td>17602.0</td>\n",
       "      <td>United Kingdom</td>\n",
       "      <td>Sunday</td>\n",
       "    </tr>\n",
       "    <tr>\n",
       "      <th>296003</th>\n",
       "      <td>562595</td>\n",
       "      <td>15044C</td>\n",
       "      <td>PURPLE PAPER PARASOL</td>\n",
       "      <td>6</td>\n",
       "      <td>2011-08-07 15:52:00</td>\n",
       "      <td>2.95</td>\n",
       "      <td>17602.0</td>\n",
       "      <td>United Kingdom</td>\n",
       "      <td>Sunday</td>\n",
       "    </tr>\n",
       "    <tr>\n",
       "      <th>296004</th>\n",
       "      <td>562595</td>\n",
       "      <td>15044D</td>\n",
       "      <td>RED PAPER PARASOL</td>\n",
       "      <td>12</td>\n",
       "      <td>2011-08-07 15:52:00</td>\n",
       "      <td>2.95</td>\n",
       "      <td>17602.0</td>\n",
       "      <td>United Kingdom</td>\n",
       "      <td>Sunday</td>\n",
       "    </tr>\n",
       "    <tr>\n",
       "      <th>296005</th>\n",
       "      <td>562595</td>\n",
       "      <td>15044A</td>\n",
       "      <td>PINK PAPER PARASOL</td>\n",
       "      <td>6</td>\n",
       "      <td>2011-08-07 15:52:00</td>\n",
       "      <td>2.95</td>\n",
       "      <td>17602.0</td>\n",
       "      <td>United Kingdom</td>\n",
       "      <td>Sunday</td>\n",
       "    </tr>\n",
       "  </tbody>\n",
       "</table>\n",
       "<p>296006 rows × 9 columns</p>\n",
       "</div>"
      ],
      "text/plain": [
       "       InvoiceNo StockCode                      Description  Quantity  \\\n",
       "0         580538     23084               RABBIT NIGHT LIGHT        48   \n",
       "1         580538     23077              DOUGHNUT LIP GLOSS         20   \n",
       "2         580538     22906  12 MESSAGE CARDS WITH ENVELOPES        24   \n",
       "3         580538     21914           BLUE HARMONICA IN BOX         24   \n",
       "4         580538     22467                GUMBALL COAT RACK         6   \n",
       "...          ...       ...                              ...       ...   \n",
       "296001    562595     84818          DANISH ROSE PHOTO FRAME        24   \n",
       "296002    562595    47343A  FUSCHIA FLOWER PURSE WITH BEADS        12   \n",
       "296003    562595    15044C             PURPLE PAPER PARASOL         6   \n",
       "296004    562595    15044D                RED PAPER PARASOL        12   \n",
       "296005    562595    15044A              PINK PAPER PARASOL          6   \n",
       "\n",
       "                InvoiceDate  UnitPrice  CustomerID         Country day_of_week  \n",
       "0       2011-12-05 08:38:00       1.79     14075.0  United Kingdom      Monday  \n",
       "1       2011-12-05 08:38:00       1.25     14075.0  United Kingdom      Monday  \n",
       "2       2011-12-05 08:38:00       1.65     14075.0  United Kingdom      Monday  \n",
       "3       2011-12-05 08:38:00       1.25     14075.0  United Kingdom      Monday  \n",
       "4       2011-12-05 08:38:00       2.55     14075.0  United Kingdom      Monday  \n",
       "...                     ...        ...         ...             ...         ...  \n",
       "296001  2011-08-07 15:52:00       0.79     17602.0  United Kingdom      Sunday  \n",
       "296002  2011-08-07 15:52:00       0.83     17602.0  United Kingdom      Sunday  \n",
       "296003  2011-08-07 15:52:00       2.95     17602.0  United Kingdom      Sunday  \n",
       "296004  2011-08-07 15:52:00       2.95     17602.0  United Kingdom      Sunday  \n",
       "296005  2011-08-07 15:52:00       2.95     17602.0  United Kingdom      Sunday  \n",
       "\n",
       "[296006 rows x 9 columns]"
      ]
     },
     "metadata": {},
     "output_type": "display_data"
    }
   ],
   "source": [
    "display(testDataFrame.toPandas())"
   ]
  },
  {
   "cell_type": "code",
   "execution_count": 37,
   "metadata": {},
   "outputs": [],
   "source": [
    "# pre-processing features\n",
    "\n",
    "from pyspark.ml.feature import StringIndexer\n",
    "from pyspark.ml.feature import OneHotEncoder\n",
    "from pyspark.ml.feature import VectorAssembler\n",
    "\n",
    "indexer = StringIndexer()\\\n",
    "  .setInputCol(\"day_of_week\")\\\n",
    "  .setOutputCol(\"day_of_week_index\")\n",
    "\n",
    "encoder = OneHotEncoder()\\\n",
    "  .setInputCol(\"day_of_week_index\")\\\n",
    "  .setOutputCol(\"day_of_week_encoded\")\n",
    "\n",
    "vectorAssembler = VectorAssembler()\\\n",
    "  .setInputCols([\"UnitPrice\", \"Quantity\", \"day_of_week_encoded\"])\\\n",
    "  .setOutputCol(\"features\")"
   ]
  },
  {
   "cell_type": "code",
   "execution_count": 38,
   "metadata": {},
   "outputs": [],
   "source": [
    "# setup pipeline\n",
    "\n",
    "from pyspark.ml import Pipeline\n",
    "\n",
    "transformationPipeline = Pipeline()\\\n",
    "  .setStages([indexer, encoder, vectorAssembler])"
   ]
  },
  {
   "cell_type": "code",
   "execution_count": 39,
   "metadata": {},
   "outputs": [],
   "source": [
    "# run pipeline on train data\n",
    "\n",
    "fittedPipeline = transformationPipeline.fit(trainDataFrame)"
   ]
  },
  {
   "cell_type": "code",
   "execution_count": 40,
   "metadata": {},
   "outputs": [],
   "source": [
    "# verify on train data\n",
    "\n",
    "transformedTraining = fittedPipeline.transform(trainDataFrame)"
   ]
  },
  {
   "cell_type": "code",
   "execution_count": 41,
   "metadata": {
    "scrolled": true
   },
   "outputs": [
    {
     "name": "stdout",
     "output_type": "stream",
     "text": [
      "-RECORD 0---------------------------------------------\n",
      " InvoiceNo           | 537226                         \n",
      " StockCode           | 22811                          \n",
      " Description         | SET OF 6 T-LIGHTS CACTI        \n",
      " Quantity            | 6                              \n",
      " InvoiceDate         | 2010-12-06 08:34:00            \n",
      " UnitPrice           | 2.95                           \n",
      " CustomerID          | 15987.0                        \n",
      " Country             | United Kingdom                 \n",
      " day_of_week         | Monday                         \n",
      " day_of_week_index   | 2.0                            \n",
      " day_of_week_encoded | (5,[2],[1.0])                  \n",
      " features            | (7,[0,1,4],[2.95,6.0,1.0])     \n",
      "-RECORD 1---------------------------------------------\n",
      " InvoiceNo           | 537226                         \n",
      " StockCode           | 21713                          \n",
      " Description         | CITRONELLA CANDLE FLOWERPOT    \n",
      " Quantity            | 8                              \n",
      " InvoiceDate         | 2010-12-06 08:34:00            \n",
      " UnitPrice           | 2.1                            \n",
      " CustomerID          | 15987.0                        \n",
      " Country             | United Kingdom                 \n",
      " day_of_week         | Monday                         \n",
      " day_of_week_index   | 2.0                            \n",
      " day_of_week_encoded | (5,[2],[1.0])                  \n",
      " features            | (7,[0,1,4],[2.1,8.0,1.0])      \n",
      "-RECORD 2---------------------------------------------\n",
      " InvoiceNo           | 537226                         \n",
      " StockCode           | 22927                          \n",
      " Description         | GREEN GIANT GARDEN THERMOMETER \n",
      " Quantity            | 2                              \n",
      " InvoiceDate         | 2010-12-06 08:34:00            \n",
      " UnitPrice           | 5.95                           \n",
      " CustomerID          | 15987.0                        \n",
      " Country             | United Kingdom                 \n",
      " day_of_week         | Monday                         \n",
      " day_of_week_index   | 2.0                            \n",
      " day_of_week_encoded | (5,[2],[1.0])                  \n",
      " features            | (7,[0,1,4],[5.95,2.0,1.0])     \n",
      "only showing top 3 rows\n",
      "\n"
     ]
    }
   ],
   "source": [
    "transformedTraining.show(3, truncate=False, vertical=True)"
   ]
  },
  {
   "cell_type": "markdown",
   "metadata": {},
   "source": [
    "### Spark ML Clustering"
   ]
  },
  {
   "cell_type": "code",
   "execution_count": 42,
   "metadata": {},
   "outputs": [],
   "source": [
    "# COMMAND ----------\n",
    "\n",
    "from pyspark.ml.clustering import KMeans\n",
    "\n",
    "kmeans = KMeans()\\\n",
    "  .setK(20)\\\n",
    "  .setSeed(10)"
   ]
  },
  {
   "cell_type": "code",
   "execution_count": 43,
   "metadata": {},
   "outputs": [],
   "source": [
    "# COMMAND ----------\n",
    "\n",
    "kmModel = kmeans.fit(transformedTraining)"
   ]
  },
  {
   "cell_type": "code",
   "execution_count": 44,
   "metadata": {},
   "outputs": [
    {
     "data": {
      "text/plain": [
       "pyspark.ml.clustering.KMeansModel"
      ]
     },
     "execution_count": 44,
     "metadata": {},
     "output_type": "execute_result"
    }
   ],
   "source": [
    "type(kmModel)"
   ]
  },
  {
   "cell_type": "code",
   "execution_count": 45,
   "metadata": {},
   "outputs": [
    {
     "data": {
      "text/plain": [
       "<pyspark.ml.clustering.KMeansSummary at 0x7f452f764a60>"
      ]
     },
     "execution_count": 45,
     "metadata": {},
     "output_type": "execute_result"
    }
   ],
   "source": [
    "kmModel.summary"
   ]
  },
  {
   "cell_type": "code",
   "execution_count": 46,
   "metadata": {},
   "outputs": [],
   "source": [
    "spark.stop()"
   ]
  },
  {
   "cell_type": "code",
   "execution_count": null,
   "metadata": {},
   "outputs": [],
   "source": []
  }
 ],
 "metadata": {
  "kernelspec": {
   "display_name": "Python 3",
   "language": "python",
   "name": "python3"
  },
  "language_info": {
   "codemirror_mode": {
    "name": "ipython",
    "version": 3
   },
   "file_extension": ".py",
   "mimetype": "text/x-python",
   "name": "python",
   "nbconvert_exporter": "python",
   "pygments_lexer": "ipython3",
   "version": "3.8.5"
  }
 },
 "nbformat": 4,
 "nbformat_minor": 2
}
