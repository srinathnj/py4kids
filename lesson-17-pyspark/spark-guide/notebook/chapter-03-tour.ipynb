{
 "cells": [
  {
   "cell_type": "code",
   "execution_count": 5,
   "metadata": {},
   "outputs": [],
   "source": [
    "from IPython.display import display, clear_output"
   ]
  },
  {
   "cell_type": "code",
   "execution_count": 1,
   "metadata": {},
   "outputs": [],
   "source": [
    "from pyspark.sql import SparkSession\n",
    "import pyspark.sql.functions as F\n",
    "from pyspark.sql.types import *\n",
    "\n",
    "spark = SparkSession\\\n",
    "    .builder\\\n",
    "    .appName(\"chapter-03-tour\")\\\n",
    "    .getOrCreate()\n",
    "\n",
    "import os\n",
    "SPARK_BOOK_DATA_PATH = os.environ['SPARK_BOOK_DATA_PATH']"
   ]
  },
  {
   "cell_type": "markdown",
   "metadata": {},
   "source": [
    "### Spark SQL"
   ]
  },
  {
   "cell_type": "code",
   "execution_count": 2,
   "metadata": {},
   "outputs": [],
   "source": [
    "file_path = SPARK_BOOK_DATA_PATH + \"/data/retail-data/by-day/*.csv\"\n",
    "\n",
    "retail_df = spark.read.csv(file_path, header=True, inferSchema=True)"
   ]
  },
  {
   "cell_type": "raw",
   "metadata": {},
   "source": [
    "retail_df = spark.read\\\n",
    "  .format(\"csv\")\\\n",
    "  .option(\"header\", \"true\")\\\n",
    "  .option(\"inferSchema\", \"true\")\\\n",
    "  .load(file_path)"
   ]
  },
  {
   "cell_type": "code",
   "execution_count": 3,
   "metadata": {},
   "outputs": [
    {
     "data": {
      "text/plain": [
       "541909"
      ]
     },
     "execution_count": 3,
     "metadata": {},
     "output_type": "execute_result"
    }
   ],
   "source": [
    "retail_df.count()"
   ]
  },
  {
   "cell_type": "code",
   "execution_count": 4,
   "metadata": {},
   "outputs": [
    {
     "name": "stdout",
     "output_type": "stream",
     "text": [
      "+---------+---------+-------------------------------+--------+-------------------+---------+----------+--------------+\n",
      "|InvoiceNo|StockCode|Description                    |Quantity|InvoiceDate        |UnitPrice|CustomerID|Country       |\n",
      "+---------+---------+-------------------------------+--------+-------------------+---------+----------+--------------+\n",
      "|580538   |23084    |RABBIT NIGHT LIGHT             |48      |2011-12-05 08:38:00|1.79     |14075.0   |United Kingdom|\n",
      "|580538   |23077    |DOUGHNUT LIP GLOSS             |20      |2011-12-05 08:38:00|1.25     |14075.0   |United Kingdom|\n",
      "|580538   |22906    |12 MESSAGE CARDS WITH ENVELOPES|24      |2011-12-05 08:38:00|1.65     |14075.0   |United Kingdom|\n",
      "|580538   |21914    |BLUE HARMONICA IN BOX          |24      |2011-12-05 08:38:00|1.25     |14075.0   |United Kingdom|\n",
      "|580538   |22467    |GUMBALL COAT RACK              |6       |2011-12-05 08:38:00|2.55     |14075.0   |United Kingdom|\n",
      "+---------+---------+-------------------------------+--------+-------------------+---------+----------+--------------+\n",
      "only showing top 5 rows\n",
      "\n"
     ]
    }
   ],
   "source": [
    "retail_df.show(5,False)"
   ]
  },
  {
   "cell_type": "code",
   "execution_count": 6,
   "metadata": {},
   "outputs": [
    {
     "data": {
      "text/html": [
       "<div>\n",
       "<style scoped>\n",
       "    .dataframe tbody tr th:only-of-type {\n",
       "        vertical-align: middle;\n",
       "    }\n",
       "\n",
       "    .dataframe tbody tr th {\n",
       "        vertical-align: top;\n",
       "    }\n",
       "\n",
       "    .dataframe thead th {\n",
       "        text-align: right;\n",
       "    }\n",
       "</style>\n",
       "<table border=\"1\" class=\"dataframe\">\n",
       "  <thead>\n",
       "    <tr style=\"text-align: right;\">\n",
       "      <th></th>\n",
       "      <th>InvoiceNo</th>\n",
       "      <th>StockCode</th>\n",
       "      <th>Description</th>\n",
       "      <th>Quantity</th>\n",
       "      <th>InvoiceDate</th>\n",
       "      <th>UnitPrice</th>\n",
       "      <th>CustomerID</th>\n",
       "      <th>Country</th>\n",
       "    </tr>\n",
       "  </thead>\n",
       "  <tbody>\n",
       "    <tr>\n",
       "      <th>0</th>\n",
       "      <td>580538</td>\n",
       "      <td>23084</td>\n",
       "      <td>RABBIT NIGHT LIGHT</td>\n",
       "      <td>48</td>\n",
       "      <td>2011-12-05 08:38:00</td>\n",
       "      <td>1.79</td>\n",
       "      <td>14075.0</td>\n",
       "      <td>United Kingdom</td>\n",
       "    </tr>\n",
       "    <tr>\n",
       "      <th>1</th>\n",
       "      <td>580538</td>\n",
       "      <td>23077</td>\n",
       "      <td>DOUGHNUT LIP GLOSS</td>\n",
       "      <td>20</td>\n",
       "      <td>2011-12-05 08:38:00</td>\n",
       "      <td>1.25</td>\n",
       "      <td>14075.0</td>\n",
       "      <td>United Kingdom</td>\n",
       "    </tr>\n",
       "    <tr>\n",
       "      <th>2</th>\n",
       "      <td>580538</td>\n",
       "      <td>22906</td>\n",
       "      <td>12 MESSAGE CARDS WITH ENVELOPES</td>\n",
       "      <td>24</td>\n",
       "      <td>2011-12-05 08:38:00</td>\n",
       "      <td>1.65</td>\n",
       "      <td>14075.0</td>\n",
       "      <td>United Kingdom</td>\n",
       "    </tr>\n",
       "    <tr>\n",
       "      <th>3</th>\n",
       "      <td>580538</td>\n",
       "      <td>21914</td>\n",
       "      <td>BLUE HARMONICA IN BOX</td>\n",
       "      <td>24</td>\n",
       "      <td>2011-12-05 08:38:00</td>\n",
       "      <td>1.25</td>\n",
       "      <td>14075.0</td>\n",
       "      <td>United Kingdom</td>\n",
       "    </tr>\n",
       "    <tr>\n",
       "      <th>4</th>\n",
       "      <td>580538</td>\n",
       "      <td>22467</td>\n",
       "      <td>GUMBALL COAT RACK</td>\n",
       "      <td>6</td>\n",
       "      <td>2011-12-05 08:38:00</td>\n",
       "      <td>2.55</td>\n",
       "      <td>14075.0</td>\n",
       "      <td>United Kingdom</td>\n",
       "    </tr>\n",
       "    <tr>\n",
       "      <th>...</th>\n",
       "      <td>...</td>\n",
       "      <td>...</td>\n",
       "      <td>...</td>\n",
       "      <td>...</td>\n",
       "      <td>...</td>\n",
       "      <td>...</td>\n",
       "      <td>...</td>\n",
       "      <td>...</td>\n",
       "    </tr>\n",
       "    <tr>\n",
       "      <th>541904</th>\n",
       "      <td>543282</td>\n",
       "      <td>22849</td>\n",
       "      <td>BREAD BIN DINER STYLE MINT</td>\n",
       "      <td>1</td>\n",
       "      <td>2011-02-06 16:08:00</td>\n",
       "      <td>16.95</td>\n",
       "      <td>12956.0</td>\n",
       "      <td>United Kingdom</td>\n",
       "    </tr>\n",
       "    <tr>\n",
       "      <th>541905</th>\n",
       "      <td>543282</td>\n",
       "      <td>84879</td>\n",
       "      <td>ASSORTED COLOUR BIRD ORNAMENT</td>\n",
       "      <td>8</td>\n",
       "      <td>2011-02-06 16:08:00</td>\n",
       "      <td>1.69</td>\n",
       "      <td>12956.0</td>\n",
       "      <td>United Kingdom</td>\n",
       "    </tr>\n",
       "    <tr>\n",
       "      <th>541906</th>\n",
       "      <td>543282</td>\n",
       "      <td>84659A</td>\n",
       "      <td>WHITE TRAVEL ALARM CLOCK</td>\n",
       "      <td>1</td>\n",
       "      <td>2011-02-06 16:08:00</td>\n",
       "      <td>2.55</td>\n",
       "      <td>12956.0</td>\n",
       "      <td>United Kingdom</td>\n",
       "    </tr>\n",
       "    <tr>\n",
       "      <th>541907</th>\n",
       "      <td>543282</td>\n",
       "      <td>82484</td>\n",
       "      <td>WOOD BLACK BOARD ANT WHITE FINISH</td>\n",
       "      <td>1</td>\n",
       "      <td>2011-02-06 16:08:00</td>\n",
       "      <td>7.95</td>\n",
       "      <td>12956.0</td>\n",
       "      <td>United Kingdom</td>\n",
       "    </tr>\n",
       "    <tr>\n",
       "      <th>541908</th>\n",
       "      <td>543282</td>\n",
       "      <td>22168</td>\n",
       "      <td>ORGANISER WOOD ANTIQUE WHITE</td>\n",
       "      <td>1</td>\n",
       "      <td>2011-02-06 16:08:00</td>\n",
       "      <td>8.50</td>\n",
       "      <td>12956.0</td>\n",
       "      <td>United Kingdom</td>\n",
       "    </tr>\n",
       "  </tbody>\n",
       "</table>\n",
       "<p>541909 rows × 8 columns</p>\n",
       "</div>"
      ],
      "text/plain": [
       "       InvoiceNo StockCode                        Description  Quantity  \\\n",
       "0         580538     23084                 RABBIT NIGHT LIGHT        48   \n",
       "1         580538     23077                DOUGHNUT LIP GLOSS         20   \n",
       "2         580538     22906    12 MESSAGE CARDS WITH ENVELOPES        24   \n",
       "3         580538     21914             BLUE HARMONICA IN BOX         24   \n",
       "4         580538     22467                  GUMBALL COAT RACK         6   \n",
       "...          ...       ...                                ...       ...   \n",
       "541904    543282     22849         BREAD BIN DINER STYLE MINT         1   \n",
       "541905    543282     84879      ASSORTED COLOUR BIRD ORNAMENT         8   \n",
       "541906    543282    84659A           WHITE TRAVEL ALARM CLOCK         1   \n",
       "541907    543282     82484  WOOD BLACK BOARD ANT WHITE FINISH         1   \n",
       "541908    543282     22168      ORGANISER WOOD ANTIQUE WHITE          1   \n",
       "\n",
       "                InvoiceDate  UnitPrice  CustomerID         Country  \n",
       "0       2011-12-05 08:38:00       1.79     14075.0  United Kingdom  \n",
       "1       2011-12-05 08:38:00       1.25     14075.0  United Kingdom  \n",
       "2       2011-12-05 08:38:00       1.65     14075.0  United Kingdom  \n",
       "3       2011-12-05 08:38:00       1.25     14075.0  United Kingdom  \n",
       "4       2011-12-05 08:38:00       2.55     14075.0  United Kingdom  \n",
       "...                     ...        ...         ...             ...  \n",
       "541904  2011-02-06 16:08:00      16.95     12956.0  United Kingdom  \n",
       "541905  2011-02-06 16:08:00       1.69     12956.0  United Kingdom  \n",
       "541906  2011-02-06 16:08:00       2.55     12956.0  United Kingdom  \n",
       "541907  2011-02-06 16:08:00       7.95     12956.0  United Kingdom  \n",
       "541908  2011-02-06 16:08:00       8.50     12956.0  United Kingdom  \n",
       "\n",
       "[541909 rows x 8 columns]"
      ]
     },
     "metadata": {},
     "output_type": "display_data"
    }
   ],
   "source": [
    "display(retail_df.toPandas())"
   ]
  },
  {
   "cell_type": "code",
   "execution_count": 7,
   "metadata": {},
   "outputs": [],
   "source": [
    "retail_df.createOrReplaceTempView(\"retail_table\")"
   ]
  },
  {
   "cell_type": "code",
   "execution_count": 8,
   "metadata": {},
   "outputs": [],
   "source": [
    "staticSchema = retail_df.schema"
   ]
  },
  {
   "cell_type": "code",
   "execution_count": 9,
   "metadata": {},
   "outputs": [
    {
     "name": "stdout",
     "output_type": "stream",
     "text": [
      "StructType(List(StructField(InvoiceNo,StringType,true),StructField(StockCode,StringType,true),StructField(Description,StringType,true),StructField(Quantity,IntegerType,true),StructField(InvoiceDate,StringType,true),StructField(UnitPrice,DoubleType,true),StructField(CustomerID,DoubleType,true),StructField(Country,StringType,true)))\n"
     ]
    }
   ],
   "source": [
    "print(staticSchema)"
   ]
  },
  {
   "cell_type": "code",
   "execution_count": 10,
   "metadata": {},
   "outputs": [
    {
     "name": "stdout",
     "output_type": "stream",
     "text": [
      "root\n",
      " |-- InvoiceNo: string (nullable = true)\n",
      " |-- StockCode: string (nullable = true)\n",
      " |-- Description: string (nullable = true)\n",
      " |-- Quantity: integer (nullable = true)\n",
      " |-- InvoiceDate: string (nullable = true)\n",
      " |-- UnitPrice: double (nullable = true)\n",
      " |-- CustomerID: double (nullable = true)\n",
      " |-- Country: string (nullable = true)\n",
      "\n"
     ]
    }
   ],
   "source": [
    "retail_df.printSchema()"
   ]
  },
  {
   "cell_type": "code",
   "execution_count": 11,
   "metadata": {},
   "outputs": [
    {
     "name": "stdout",
     "output_type": "stream",
     "text": [
      "+-------+------------------+------------------+--------------------+-----------------+-------------------+-----------------+------------------+-----------+\n",
      "|summary|         InvoiceNo|         StockCode|         Description|         Quantity|        InvoiceDate|        UnitPrice|        CustomerID|    Country|\n",
      "+-------+------------------+------------------+--------------------+-----------------+-------------------+-----------------+------------------+-----------+\n",
      "|  count|            541909|            541909|              540455|           541909|             541909|           541909|            406829|     541909|\n",
      "|   mean|  559965.752026781|27623.240210938104|             20713.0| 9.55224954743324|               null|4.611113626089641|15287.690570239585|       null|\n",
      "| stddev|13428.417280796697|16799.737628427683|                 NaN|218.0811578502335|               null|96.75985306117963| 1713.600303321597|       null|\n",
      "|    min|            536365|             10002| 4 PURPLE FLOCK D...|           -80995|2010-12-01 08:26:00|        -11062.06|           12346.0|  Australia|\n",
      "|    max|           C581569|                 m|   wrongly sold sets|            80995|2011-12-09 12:50:00|          38970.0|           18287.0|Unspecified|\n",
      "+-------+------------------+------------------+--------------------+-----------------+-------------------+-----------------+------------------+-----------+\n",
      "\n"
     ]
    }
   ],
   "source": [
    "retail_df.describe().show()"
   ]
  },
  {
   "cell_type": "code",
   "execution_count": 12,
   "metadata": {},
   "outputs": [],
   "source": [
    "df = spark.sql(\"select * from retail_table limit 5\")"
   ]
  },
  {
   "cell_type": "code",
   "execution_count": 13,
   "metadata": {},
   "outputs": [
    {
     "name": "stdout",
     "output_type": "stream",
     "text": [
      "+---------+---------+-------------------------------+--------+-------------------+---------+----------+--------------+\n",
      "|InvoiceNo|StockCode|Description                    |Quantity|InvoiceDate        |UnitPrice|CustomerID|Country       |\n",
      "+---------+---------+-------------------------------+--------+-------------------+---------+----------+--------------+\n",
      "|580538   |23084    |RABBIT NIGHT LIGHT             |48      |2011-12-05 08:38:00|1.79     |14075.0   |United Kingdom|\n",
      "|580538   |23077    |DOUGHNUT LIP GLOSS             |20      |2011-12-05 08:38:00|1.25     |14075.0   |United Kingdom|\n",
      "|580538   |22906    |12 MESSAGE CARDS WITH ENVELOPES|24      |2011-12-05 08:38:00|1.65     |14075.0   |United Kingdom|\n",
      "|580538   |21914    |BLUE HARMONICA IN BOX          |24      |2011-12-05 08:38:00|1.25     |14075.0   |United Kingdom|\n",
      "|580538   |22467    |GUMBALL COAT RACK              |6       |2011-12-05 08:38:00|2.55     |14075.0   |United Kingdom|\n",
      "+---------+---------+-------------------------------+--------+-------------------+---------+----------+--------------+\n",
      "\n"
     ]
    }
   ],
   "source": [
    "df.show(truncate=False)   # disable truncate to show description in full"
   ]
  },
  {
   "cell_type": "code",
   "execution_count": 15,
   "metadata": {
    "scrolled": true
   },
   "outputs": [
    {
     "name": "stdout",
     "output_type": "stream",
     "text": [
      "+----------+------------------------------------------+------------------+\n",
      "|CustomerId|window                                    |sum(total_cost)   |\n",
      "+----------+------------------------------------------+------------------+\n",
      "|17450.0   |[2011-09-19 20:00:00, 2011-09-20 20:00:00]|71601.44          |\n",
      "|null      |[2011-11-13 19:00:00, 2011-11-14 19:00:00]|55316.08          |\n",
      "|null      |[2011-11-06 19:00:00, 2011-11-07 19:00:00]|42939.17          |\n",
      "|null      |[2011-03-28 20:00:00, 2011-03-29 20:00:00]|33521.39999999998 |\n",
      "|null      |[2011-12-07 19:00:00, 2011-12-08 19:00:00]|31975.590000000007|\n",
      "+----------+------------------------------------------+------------------+\n",
      "only showing top 5 rows\n",
      "\n"
     ]
    }
   ],
   "source": [
    "# COMMAND ----------\n",
    "\n",
    "from pyspark.sql.functions import window, column, desc, col\n",
    "\n",
    "(retail_df.selectExpr(\n",
    "    \"CustomerId\",\n",
    "    \"(UnitPrice * Quantity) as total_cost\",\n",
    "    \"InvoiceDate\")\n",
    "  .groupBy(col(\"CustomerId\"), window(col(\"InvoiceDate\"), \"1 day\"))\n",
    "  .sum(\"total_cost\")\n",
    "  .sort(desc(\"sum(total_cost)\"))\n",
    "  .show(5, False)\n",
    ")"
   ]
  },
  {
   "cell_type": "code",
   "execution_count": 16,
   "metadata": {
    "scrolled": true
   },
   "outputs": [
    {
     "name": "stdout",
     "output_type": "stream",
     "text": [
      "+----------+------------------------------------------+------------------+\n",
      "|CustomerId|InvoiceDateWindow                         |sum_total_cost    |\n",
      "+----------+------------------------------------------+------------------+\n",
      "|17450.0   |[2011-09-19 20:00:00, 2011-09-20 20:00:00]|71601.44          |\n",
      "|null      |[2011-11-13 19:00:00, 2011-11-14 19:00:00]|55316.08          |\n",
      "|null      |[2011-11-06 19:00:00, 2011-11-07 19:00:00]|42939.17          |\n",
      "|null      |[2011-03-28 20:00:00, 2011-03-29 20:00:00]|33521.39999999998 |\n",
      "|null      |[2011-12-07 19:00:00, 2011-12-08 19:00:00]|31975.590000000007|\n",
      "+----------+------------------------------------------+------------------+\n",
      "only showing top 5 rows\n",
      "\n"
     ]
    }
   ],
   "source": [
    "# col() can be omitted\n",
    "retail_df.selectExpr(\n",
    "    \"CustomerId\",\n",
    "    \"(UnitPrice * Quantity) as total_cost\",\n",
    "    \"InvoiceDate\")\\\n",
    "  .groupBy(\"CustomerId\", window(\"InvoiceDate\", \"1 day\"))\\\n",
    "  .sum(\"total_cost\")\\\n",
    "  .sort(desc(\"sum(total_cost)\"))\\\n",
    "  .withColumnRenamed(\"sum(total_cost)\", \"sum_total_cost\")\\\n",
    "  .withColumnRenamed(\"window\", \"InvoiceDateWindow\")\\\n",
    "  .show(5, truncate=False)"
   ]
  },
  {
   "cell_type": "markdown",
   "metadata": {},
   "source": [
    "### Spark Streaming"
   ]
  },
  {
   "cell_type": "code",
   "execution_count": 17,
   "metadata": {},
   "outputs": [],
   "source": [
    "# COMMAND ----------\n",
    "\n",
    "streamingDataFrame = (\n",
    "    spark\n",
    "    .readStream\n",
    "    .format(\"csv\")\n",
    "    .schema(staticSchema)\n",
    "    .option(\"maxFilesPerTrigger\", 1)\n",
    "    .option(\"header\", \"true\")\n",
    "    .load(SPARK_BOOK_DATA_PATH + \"/data/retail-data/by-day/*.csv\")\n",
    ")"
   ]
  },
  {
   "cell_type": "code",
   "execution_count": 19,
   "metadata": {},
   "outputs": [],
   "source": [
    "# Transform \n",
    "purchaseByCustomerPerHour = (streamingDataFrame\n",
    "  .selectExpr(\n",
    "    \"CustomerId\",\n",
    "    \"(UnitPrice * Quantity) as total_cost\",\n",
    "    \"InvoiceDate\")\n",
    "  .groupBy(col(\"CustomerId\"), window(col(\"InvoiceDate\"), \"1 day\"))\n",
    "  .sum(\"total_cost\")\n",
    ")"
   ]
  },
  {
   "cell_type": "code",
   "execution_count": 20,
   "metadata": {},
   "outputs": [
    {
     "data": {
      "text/plain": [
       "<pyspark.sql.streaming.StreamingQuery at 0x7fd992895dc0>"
      ]
     },
     "execution_count": 20,
     "metadata": {},
     "output_type": "execute_result"
    }
   ],
   "source": [
    "(\n",
    "purchaseByCustomerPerHour\n",
    "    .writeStream.queryName(\"customer_purchases\")\n",
    "    .format(\"memory\")\n",
    "    .outputMode(\"complete\")\n",
    "    .start()\n",
    ")"
   ]
  },
  {
   "cell_type": "markdown",
   "metadata": {},
   "source": [
    "a SQL table `customer_purchases` is created by the `queryName`"
   ]
  },
  {
   "cell_type": "markdown",
   "metadata": {},
   "source": [
    "#### use `Ctrl-Enter` to execute below cell repeatly to see streaming result as more data are read"
   ]
  },
  {
   "cell_type": "code",
   "execution_count": 21,
   "metadata": {},
   "outputs": [
    {
     "name": "stdout",
     "output_type": "stream",
     "text": [
      "+----------+------+---------------+\n",
      "|CustomerId|window|sum(total_cost)|\n",
      "+----------+------+---------------+\n",
      "+----------+------+---------------+\n",
      "\n"
     ]
    }
   ],
   "source": [
    "spark.sql(\"\"\"\n",
    "  SELECT *\n",
    "  FROM customer_purchases\n",
    "  ORDER BY `sum(total_cost)` DESC\n",
    "  \"\"\").show(5, False)"
   ]
  },
  {
   "cell_type": "code",
   "execution_count": 22,
   "metadata": {},
   "outputs": [
    {
     "name": "stdout",
     "output_type": "stream",
     "text": [
      "+----------+------------------------------------------+------------------+\n",
      "|CustomerId|window                                    |sum(total_cost)   |\n",
      "+----------+------------------------------------------+------------------+\n",
      "|12678.0   |[2011-10-27 20:00:00, 2011-10-28 20:00:00]|8947.960000000005 |\n",
      "|13694.0   |[2011-10-27 20:00:00, 2011-10-28 20:00:00]|3304.030000000001 |\n",
      "|null      |[2011-10-27 20:00:00, 2011-10-28 20:00:00]|3270.980000000003 |\n",
      "|13199.0   |[2011-10-27 20:00:00, 2011-10-28 20:00:00]|1912.7999999999997|\n",
      "|15290.0   |[2011-10-27 20:00:00, 2011-10-28 20:00:00]|1510.3600000000001|\n",
      "+----------+------------------------------------------+------------------+\n",
      "only showing top 5 rows\n",
      "\n"
     ]
    }
   ],
   "source": [
    "# COMMAND ----------\n",
    "\n",
    "spark.sql(\"\"\"\n",
    "  SELECT *\n",
    "  FROM customer_purchases\n",
    "  ORDER BY `sum(total_cost)` DESC\n",
    "  \"\"\")\\\n",
    "  .show(5,truncate=False)"
   ]
  },
  {
   "cell_type": "code",
   "execution_count": 24,
   "metadata": {},
   "outputs": [
    {
     "name": "stdout",
     "output_type": "stream",
     "text": [
      "+----------+------------------------------------------+------------------+\n",
      "|CustomerId|window                                    |sum(total_cost)   |\n",
      "+----------+------------------------------------------+------------------+\n",
      "|null      |[2011-11-06 19:00:00, 2011-11-07 19:00:00]|42939.17          |\n",
      "|null      |[2011-07-03 20:00:00, 2011-07-04 20:00:00]|13667.65999999993 |\n",
      "|18102.0   |[2011-07-03 20:00:00, 2011-07-04 20:00:00]|13282.0           |\n",
      "|null      |[2010-11-30 19:00:00, 2010-12-01 19:00:00]|12584.299999999988|\n",
      "|null      |[2011-09-06 20:00:00, 2011-09-07 20:00:00]|12446.109999999957|\n",
      "+----------+------------------------------------------+------------------+\n",
      "only showing top 5 rows\n",
      "\n"
     ]
    }
   ],
   "source": [
    "# COMMAND ----------\n",
    "\n",
    "spark.sql(\"\"\"\n",
    "  SELECT *\n",
    "  FROM customer_purchases\n",
    "  ORDER BY `sum(total_cost)` DESC\n",
    "  \"\"\")\\\n",
    "  .show(5,truncate=False)"
   ]
  },
  {
   "cell_type": "markdown",
   "metadata": {},
   "source": [
    "### Spark ML Pipeline"
   ]
  },
  {
   "cell_type": "code",
   "execution_count": 25,
   "metadata": {},
   "outputs": [
    {
     "name": "stdout",
     "output_type": "stream",
     "text": [
      "+---------+---------+-------------------------------+--------+-------------------+---------+----------+--------------+-----------+\n",
      "|InvoiceNo|StockCode|Description                    |Quantity|InvoiceDate        |UnitPrice|CustomerID|Country       |day_of_week|\n",
      "+---------+---------+-------------------------------+--------+-------------------+---------+----------+--------------+-----------+\n",
      "|580538   |23084    |RABBIT NIGHT LIGHT             |48      |2011-12-05 08:38:00|1.79     |14075.0   |United Kingdom|Monday     |\n",
      "|580538   |23077    |DOUGHNUT LIP GLOSS             |20      |2011-12-05 08:38:00|1.25     |14075.0   |United Kingdom|Monday     |\n",
      "|580538   |22906    |12 MESSAGE CARDS WITH ENVELOPES|24      |2011-12-05 08:38:00|1.65     |14075.0   |United Kingdom|Monday     |\n",
      "+---------+---------+-------------------------------+--------+-------------------+---------+----------+--------------+-----------+\n",
      "only showing top 3 rows\n",
      "\n"
     ]
    }
   ],
   "source": [
    "# COMMAND ----------\n",
    "\n",
    "from pyspark.sql.functions import date_format, col\n",
    "\n",
    "preppedDataFrame = retail_df\\\n",
    "  .na.fill(0)\\\n",
    "  .withColumn(\"day_of_week\", date_format(col(\"InvoiceDate\"), \"EEEE\"))\\\n",
    "  .coalesce(5)\n",
    "\n",
    "preppedDataFrame.show(3, truncate=False)"
   ]
  },
  {
   "cell_type": "code",
   "execution_count": 26,
   "metadata": {},
   "outputs": [],
   "source": [
    "# COMMAND ----------\n",
    "\n",
    "trainDataFrame = preppedDataFrame\\\n",
    "  .where(\"InvoiceDate < '2011-07-01'\")\n",
    "\n",
    "testDataFrame = preppedDataFrame\\\n",
    "  .where(\"InvoiceDate >= '2011-07-01'\")"
   ]
  },
  {
   "cell_type": "code",
   "execution_count": 27,
   "metadata": {},
   "outputs": [
    {
     "name": "stdout",
     "output_type": "stream",
     "text": [
      "+---------+---------+--------------------+--------+-------------------+---------+----------+--------------+-----------+\n",
      "|InvoiceNo|StockCode|         Description|Quantity|        InvoiceDate|UnitPrice|CustomerID|       Country|day_of_week|\n",
      "+---------+---------+--------------------+--------+-------------------+---------+----------+--------------+-----------+\n",
      "|   537226|    22811|SET OF 6 T-LIGHTS...|       6|2010-12-06 08:34:00|     2.95|   15987.0|United Kingdom|     Monday|\n",
      "|   537226|    21713|CITRONELLA CANDLE...|       8|2010-12-06 08:34:00|      2.1|   15987.0|United Kingdom|     Monday|\n",
      "|   537226|    22927|GREEN GIANT GARDE...|       2|2010-12-06 08:34:00|     5.95|   15987.0|United Kingdom|     Monday|\n",
      "+---------+---------+--------------------+--------+-------------------+---------+----------+--------------+-----------+\n",
      "only showing top 3 rows\n",
      "\n"
     ]
    }
   ],
   "source": [
    "trainDataFrame.show(3)"
   ]
  },
  {
   "cell_type": "code",
   "execution_count": 28,
   "metadata": {},
   "outputs": [
    {
     "name": "stdout",
     "output_type": "stream",
     "text": [
      "+---------+---------+--------------------+--------+-------------------+---------+----------+--------------+-----------+\n",
      "|InvoiceNo|StockCode|         Description|Quantity|        InvoiceDate|UnitPrice|CustomerID|       Country|day_of_week|\n",
      "+---------+---------+--------------------+--------+-------------------+---------+----------+--------------+-----------+\n",
      "|   580538|    23084|  RABBIT NIGHT LIGHT|      48|2011-12-05 08:38:00|     1.79|   14075.0|United Kingdom|     Monday|\n",
      "|   580538|    23077| DOUGHNUT LIP GLOSS |      20|2011-12-05 08:38:00|     1.25|   14075.0|United Kingdom|     Monday|\n",
      "|   580538|    22906|12 MESSAGE CARDS ...|      24|2011-12-05 08:38:00|     1.65|   14075.0|United Kingdom|     Monday|\n",
      "+---------+---------+--------------------+--------+-------------------+---------+----------+--------------+-----------+\n",
      "only showing top 3 rows\n",
      "\n"
     ]
    }
   ],
   "source": [
    "testDataFrame.show(3)"
   ]
  },
  {
   "cell_type": "code",
   "execution_count": 29,
   "metadata": {},
   "outputs": [],
   "source": [
    "# COMMAND ----------\n",
    "\n",
    "from pyspark.ml.feature import StringIndexer\n",
    "\n",
    "indexer = StringIndexer()\\\n",
    "  .setInputCol(\"day_of_week\")\\\n",
    "  .setOutputCol(\"day_of_week_index\")"
   ]
  },
  {
   "cell_type": "code",
   "execution_count": 30,
   "metadata": {},
   "outputs": [],
   "source": [
    "# COMMAND ----------\n",
    "\n",
    "from pyspark.ml.feature import OneHotEncoder\n",
    "\n",
    "encoder = OneHotEncoder()\\\n",
    "  .setInputCol(\"day_of_week_index\")\\\n",
    "  .setOutputCol(\"day_of_week_encoded\")"
   ]
  },
  {
   "cell_type": "code",
   "execution_count": 31,
   "metadata": {},
   "outputs": [],
   "source": [
    "# COMMAND ----------\n",
    "\n",
    "from pyspark.ml.feature import VectorAssembler\n",
    "\n",
    "vectorAssembler = VectorAssembler()\\\n",
    "  .setInputCols([\"UnitPrice\", \"Quantity\", \"day_of_week_encoded\"])\\\n",
    "  .setOutputCol(\"features\")"
   ]
  },
  {
   "cell_type": "code",
   "execution_count": 32,
   "metadata": {},
   "outputs": [],
   "source": [
    "# COMMAND ----------\n",
    "\n",
    "from pyspark.ml import Pipeline\n",
    "\n",
    "transformationPipeline = Pipeline()\\\n",
    "  .setStages([indexer, encoder, vectorAssembler])"
   ]
  },
  {
   "cell_type": "code",
   "execution_count": 33,
   "metadata": {},
   "outputs": [],
   "source": [
    "# COMMAND ----------\n",
    "\n",
    "fittedPipeline = transformationPipeline.fit(trainDataFrame)"
   ]
  },
  {
   "cell_type": "code",
   "execution_count": 34,
   "metadata": {},
   "outputs": [],
   "source": [
    "# COMMAND ----------\n",
    "\n",
    "transformedTraining = fittedPipeline.transform(trainDataFrame)"
   ]
  },
  {
   "cell_type": "code",
   "execution_count": 35,
   "metadata": {
    "scrolled": true
   },
   "outputs": [
    {
     "name": "stdout",
     "output_type": "stream",
     "text": [
      "+---------+---------+------------------------------+--------+-------------------+---------+----------+--------------+-----------+-----------------+-------------------+---------------------------+\n",
      "|InvoiceNo|StockCode|Description                   |Quantity|InvoiceDate        |UnitPrice|CustomerID|Country       |day_of_week|day_of_week_index|day_of_week_encoded|features                   |\n",
      "+---------+---------+------------------------------+--------+-------------------+---------+----------+--------------+-----------+-----------------+-------------------+---------------------------+\n",
      "|537226   |22811    |SET OF 6 T-LIGHTS CACTI       |6       |2010-12-06 08:34:00|2.95     |15987.0   |United Kingdom|Monday     |2.0              |(5,[2],[1.0])      |(7,[0,1,4],[2.95,6.0,1.0]) |\n",
      "|537226   |21713    |CITRONELLA CANDLE FLOWERPOT   |8       |2010-12-06 08:34:00|2.1      |15987.0   |United Kingdom|Monday     |2.0              |(5,[2],[1.0])      |(7,[0,1,4],[2.1,8.0,1.0])  |\n",
      "|537226   |22927    |GREEN GIANT GARDEN THERMOMETER|2       |2010-12-06 08:34:00|5.95     |15987.0   |United Kingdom|Monday     |2.0              |(5,[2],[1.0])      |(7,[0,1,4],[5.95,2.0,1.0]) |\n",
      "|537226   |20802    |SMALL GLASS SUNDAE DISH CLEAR |6       |2010-12-06 08:34:00|1.65     |15987.0   |United Kingdom|Monday     |2.0              |(5,[2],[1.0])      |(7,[0,1,4],[1.65,6.0,1.0]) |\n",
      "|537226   |22052    |VINTAGE CARAVAN GIFT WRAP     |25      |2010-12-06 08:34:00|0.42     |15987.0   |United Kingdom|Monday     |2.0              |(5,[2],[1.0])      |(7,[0,1,4],[0.42,25.0,1.0])|\n",
      "+---------+---------+------------------------------+--------+-------------------+---------+----------+--------------+-----------+-----------------+-------------------+---------------------------+\n",
      "only showing top 5 rows\n",
      "\n"
     ]
    }
   ],
   "source": [
    "transformedTraining.show(5, truncate=False)"
   ]
  },
  {
   "cell_type": "markdown",
   "metadata": {},
   "source": [
    "### Spark ML Clustering"
   ]
  },
  {
   "cell_type": "code",
   "execution_count": 46,
   "metadata": {},
   "outputs": [],
   "source": [
    "# COMMAND ----------\n",
    "\n",
    "from pyspark.ml.clustering import KMeans\n",
    "\n",
    "kmeans = KMeans()\\\n",
    "  .setK(20)\\\n",
    "  .setSeed(10)"
   ]
  },
  {
   "cell_type": "code",
   "execution_count": 47,
   "metadata": {},
   "outputs": [],
   "source": [
    "# COMMAND ----------\n",
    "\n",
    "kmModel = kmeans.fit(transformedTraining)"
   ]
  },
  {
   "cell_type": "code",
   "execution_count": 48,
   "metadata": {},
   "outputs": [
    {
     "data": {
      "text/plain": [
       "pyspark.ml.clustering.KMeansModel"
      ]
     },
     "execution_count": 48,
     "metadata": {},
     "output_type": "execute_result"
    }
   ],
   "source": [
    "type(kmModel)"
   ]
  },
  {
   "cell_type": "code",
   "execution_count": 51,
   "metadata": {},
   "outputs": [
    {
     "data": {
      "text/plain": [
       "<pyspark.ml.clustering.KMeansSummary at 0x7f551744e1f0>"
      ]
     },
     "execution_count": 51,
     "metadata": {},
     "output_type": "execute_result"
    }
   ],
   "source": [
    "kmModel.summary"
   ]
  },
  {
   "cell_type": "code",
   "execution_count": null,
   "metadata": {},
   "outputs": [],
   "source": []
  }
 ],
 "metadata": {
  "kernelspec": {
   "display_name": "Python 3",
   "language": "python",
   "name": "python3"
  },
  "language_info": {
   "codemirror_mode": {
    "name": "ipython",
    "version": 3
   },
   "file_extension": ".py",
   "mimetype": "text/x-python",
   "name": "python",
   "nbconvert_exporter": "python",
   "pygments_lexer": "ipython3",
   "version": "3.8.5"
  }
 },
 "nbformat": 4,
 "nbformat_minor": 2
}
