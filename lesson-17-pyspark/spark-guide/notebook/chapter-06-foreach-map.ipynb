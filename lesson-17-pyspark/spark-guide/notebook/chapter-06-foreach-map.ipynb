{
 "cells": [
  {
   "cell_type": "markdown",
   "metadata": {},
   "source": [
    "Difference between `map` and `foreach`\n",
    "- https://stackoverflow.com/questions/41388597/difference-between-rdd-foreach-and-rdd-map\n",
    "\n",
    "*Map is a transformation*\n",
    "\n",
    "thus when you perform a map you apply a function to each element in the RDD and return a new RDD where additional transformations or actions can be called.\n",
    "\n",
    "*Foreach is an action*\n",
    "\n",
    "it takes each element and applies a function, but it does not return a value. This is particularly useful in you have to call perform some calculation on an RDD and log the result somewhere else, for example a database or call a REST API with each element in the RDD."
   ]
  },
  {
   "cell_type": "markdown",
   "metadata": {},
   "source": [
    "from pyspark.sql import SparkSession\n",
    "from pyspark.sql import functions as F\n",
    "from pyspark.sql.types import *"
   ]
  },
  {
   "cell_type": "code",
   "execution_count": 4,
   "metadata": {},
   "outputs": [],
   "source": [
    "spark = SparkSession.builder \\\n",
    "                    .appName('SparkByExamples.com') \\\n",
    "                    .getOrCreate()"
   ]
  },
  {
   "cell_type": "code",
   "execution_count": 68,
   "metadata": {},
   "outputs": [],
   "source": [
    "data = [\n",
    "    ('James','Smith','M',30),\n",
    "    ('Anna','Rose','F',41),\n",
    "    ('Robert','Williams','M',62), \n",
    "]"
   ]
  },
  {
   "cell_type": "code",
   "execution_count": 69,
   "metadata": {},
   "outputs": [],
   "source": [
    "columns = [\"firstname\",\"lastname\",\"gender\",\"salary\"]"
   ]
  },
  {
   "cell_type": "code",
   "execution_count": 70,
   "metadata": {},
   "outputs": [],
   "source": [
    "df = spark.createDataFrame(data=data, schema=columns)"
   ]
  },
  {
   "cell_type": "code",
   "execution_count": 71,
   "metadata": {},
   "outputs": [
    {
     "name": "stdout",
     "output_type": "stream",
     "text": [
      "+---------+--------+------+------+\n",
      "|firstname|lastname|gender|salary|\n",
      "+---------+--------+------+------+\n",
      "|    James|   Smith|     M|    30|\n",
      "|     Anna|    Rose|     F|    41|\n",
      "|   Robert|Williams|     M|    62|\n",
      "+---------+--------+------+------+\n",
      "\n"
     ]
    }
   ],
   "source": [
    "df.show()"
   ]
  },
  {
   "cell_type": "code",
   "execution_count": 13,
   "metadata": {},
   "outputs": [
    {
     "name": "stdout",
     "output_type": "stream",
     "text": [
      "+---------+--------+------+------+---------------+----------+\n",
      "|firstname|lastname|gender|salary|       fullname|new_salary|\n",
      "+---------+--------+------+------+---------------+----------+\n",
      "|    James|   Smith|     M|    30|    James,Smith|        60|\n",
      "|     Anna|    Rose|     F|    41|      Anna,Rose|        82|\n",
      "|   Robert|Williams|     M|    62|Robert,Williams|       124|\n",
      "+---------+--------+------+------+---------------+----------+\n",
      "\n"
     ]
    }
   ],
   "source": [
    "(\n",
    "    df.withColumn(\"fullname\", F.concat_ws(\",\",F.col(\"firstname\"),F.col(\"lastname\")))\n",
    "      .withColumn(\"new_salary\", F.lit(2*F.col(\"salary\")))\n",
    "    .select(\"*\")\n",
    "    .show()\n",
    ")"
   ]
  },
  {
   "cell_type": "code",
   "execution_count": 14,
   "metadata": {},
   "outputs": [],
   "source": [
    "rdd=df.rdd.map(lambda x: \n",
    "    (x[0]+\",\"+x[1],x[2],x[3]*2)\n",
    "    )  "
   ]
  },
  {
   "cell_type": "code",
   "execution_count": 17,
   "metadata": {},
   "outputs": [
    {
     "name": "stdout",
     "output_type": "stream",
     "text": [
      "+---------------+------+----------+\n",
      "|           name|gender|new_salary|\n",
      "+---------------+------+----------+\n",
      "|    James,Smith|     M|        60|\n",
      "|      Anna,Rose|     F|        82|\n",
      "|Robert,Williams|     M|       124|\n",
      "+---------------+------+----------+\n",
      "\n"
     ]
    }
   ],
   "source": [
    "df1 = rdd.toDF([\"name\",\"gender\",\"new_salary\"])\n",
    "df1.show()"
   ]
  },
  {
   "cell_type": "code",
   "execution_count": 19,
   "metadata": {},
   "outputs": [
    {
     "name": "stdout",
     "output_type": "stream",
     "text": [
      "+----------------+------+----------+\n",
      "|            name|gender|new_salary|\n",
      "+----------------+------+----------+\n",
      "|    James, Smith|     M|        60|\n",
      "|      Anna, Rose|     F|        82|\n",
      "|Robert, Williams|     M|       124|\n",
      "+----------------+------+----------+\n",
      "\n"
     ]
    }
   ],
   "source": [
    "rdd2=df.rdd.map(lambda x: \n",
    "    (x[\"firstname\"]+\", \"+x[\"lastname\"],x[\"gender\"],x[\"salary\"]*2)\n",
    "    )\n",
    "df2 = rdd2.toDF([\"name\",\"gender\",\"new_salary\"])\n",
    "df2.show()"
   ]
  },
  {
   "cell_type": "code",
   "execution_count": 20,
   "metadata": {},
   "outputs": [],
   "source": [
    "def f(x):\n",
    "    firstName=x.firstname\n",
    "    lastName=x.lastName\n",
    "    name=firstName+\", \"+lastName\n",
    "    gender=x.gender.lower()\n",
    "    salary=x.salary*2\n",
    "    return (name,gender,salary)"
   ]
  },
  {
   "cell_type": "code",
   "execution_count": 72,
   "metadata": {},
   "outputs": [
    {
     "data": {
      "text/plain": [
       "[('James', 'Smith', 'M', 30, 'James', 'Smith', 'M', 30),\n",
       " ('Anna', 'Rose', 'F', 41, 'Anna', 'Rose', 'F', 41),\n",
       " ('Robert', 'Williams', 'M', 62, 'Robert', 'Williams', 'M', 62)]"
      ]
     },
     "execution_count": 72,
     "metadata": {},
     "output_type": "execute_result"
    }
   ],
   "source": [
    "df.rdd.map(f).collect()"
   ]
  },
  {
   "cell_type": "code",
   "execution_count": 38,
   "metadata": {},
   "outputs": [
    {
     "name": "stdout",
     "output_type": "stream",
     "text": [
      "James M\n",
      "Anna F\n",
      "Robert M\n"
     ]
    },
    {
     "name": "stderr",
     "output_type": "stream",
     "text": [
      "/home/wengong/.local/lib/python3.8/site-packages/pyspark/sql/pandas/conversion.py:88: UserWarning: toPandas attempted Arrow optimization because 'spark.sql.execution.arrow.pyspark.enabled' is set to true; however, failed by the reason below:\n",
      "  PyArrow >= 0.15.1 must be installed; however, it was not found.\n",
      "Attempting non-optimization as 'spark.sql.execution.arrow.pyspark.fallback.enabled' is set to true.\n",
      "  warnings.warn(msg)\n"
     ]
    }
   ],
   "source": [
    "import pandas as pd\n",
    "spark.conf.set(\"spark.sql.execution.arrow.enabled\", \"true\")\n",
    "pandasDF = df.toPandas()\n",
    "for index, row in pandasDF.iterrows():\n",
    "    print(row['firstname'], row['gender'])"
   ]
  },
  {
   "cell_type": "code",
   "execution_count": 80,
   "metadata": {},
   "outputs": [
    {
     "name": "stdout",
     "output_type": "stream",
     "text": [
      "1\n",
      "file /tmp/foreach-1.txt\n",
      "x=1:  2\n",
      "2\n",
      "file /tmp/foreach-2.txt\n",
      "x=2:  4\n",
      "3\n",
      "file /tmp/foreach-3.txt\n",
      "x=3:  6\n",
      "4\n",
      "file /tmp/foreach-4.txt\n",
      "x=4:  8\n",
      "5\n",
      "file /tmp/foreach-5.txt\n",
      "x=5:  10\n"
     ]
    }
   ],
   "source": [
    "def f(x): \n",
    "    print(x)\n",
    "    with open(f\"/tmp/foreach-{x}.txt\", \"w\") as f:\n",
    "        f.write(f\"x={x}:  {2*x}\")\n",
    "rdd = spark.sparkContext.parallelize([1, 2, 3, 4, 5])\n",
    "rdd.foreach(f)\n",
    "for x in rdd.toLocalIterator():\n",
    "    print(x)\n",
    "    fn = f\"/tmp/foreach-{x}.txt\"\n",
    "    print(f\"file {fn}\")\n",
    "    with open(fn) as f:\n",
    "        print(f.read())\n",
    "    "
   ]
  },
  {
   "cell_type": "code",
   "execution_count": null,
   "metadata": {},
   "outputs": [],
   "source": []
  }
 ],
 "metadata": {
  "kernelspec": {
   "display_name": "Python 3",
   "language": "python",
   "name": "python3"
  },
  "language_info": {
   "codemirror_mode": {
    "name": "ipython",
    "version": 3
   },
   "file_extension": ".py",
   "mimetype": "text/x-python",
   "name": "python",
   "nbconvert_exporter": "python",
   "pygments_lexer": "ipython3",
   "version": "3.8.5"
  }
 },
 "nbformat": 4,
 "nbformat_minor": 4
}
