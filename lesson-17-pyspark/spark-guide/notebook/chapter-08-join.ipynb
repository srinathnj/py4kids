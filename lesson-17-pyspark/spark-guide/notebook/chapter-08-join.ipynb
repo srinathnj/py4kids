{
 "cells": [
  {
   "cell_type": "code",
   "execution_count": 1,
   "metadata": {},
   "outputs": [],
   "source": [
    "from pyspark.sql import SparkSession\n",
    "import pyspark.sql.functions as F\n",
    "from pyspark.sql.types import *\n",
    "\n",
    "spark = SparkSession\\\n",
    "    .builder\\\n",
    "    .appName(\"chapter-08-join\")\\\n",
    "    .getOrCreate()"
   ]
  },
  {
   "cell_type": "code",
   "execution_count": 2,
   "metadata": {},
   "outputs": [
    {
     "data": {
      "text/html": [
       "\n",
       "            <div>\n",
       "                <p><b>SparkSession - hive</b></p>\n",
       "                \n",
       "        <div>\n",
       "            <p><b>SparkContext</b></p>\n",
       "\n",
       "            <p><a href=\"http://172.17.0.1:4054\">Spark UI</a></p>\n",
       "\n",
       "            <dl>\n",
       "              <dt>Version</dt>\n",
       "                <dd><code>v3.0.1</code></dd>\n",
       "              <dt>Master</dt>\n",
       "                <dd><code>local[*]</code></dd>\n",
       "              <dt>AppName</dt>\n",
       "                <dd><code>PySparkShell</code></dd>\n",
       "            </dl>\n",
       "        </div>\n",
       "        \n",
       "            </div>\n",
       "        "
      ],
      "text/plain": [
       "<pyspark.sql.session.SparkSession at 0x7ff0e8147fa0>"
      ]
     },
     "execution_count": 2,
     "metadata": {},
     "output_type": "execute_result"
    }
   ],
   "source": [
    "spark"
   ]
  },
  {
   "cell_type": "code",
   "execution_count": 14,
   "metadata": {},
   "outputs": [],
   "source": [
    "person = spark.createDataFrame([\n",
    "    (0, \"Bill Chambers\", 0, [100]),\n",
    "    (1, \"Matei Zaharia\", 1, [500, 250, 100]),\n",
    "    (2, \"Michael Armbrust\", 1, [250, 100])])\\\n",
    "  .toDF(\"id\", \"name\", \"graduate_program\", \"spark_status\")\n",
    "\n",
    "graduateProgram = spark.createDataFrame([\n",
    "    (0, \"Masters\", \"School of Information\", \"UC Berkeley\"),\n",
    "    (2, \"Masters\", \"EECS\", \"UC Berkeley\"),\n",
    "    (1, \"Ph.D.\", \"EECS\", \"UC Berkeley\")])\\\n",
    "  .toDF(\"id_program\", \"degree\", \"department\", \"school\")\n",
    "\n",
    "sparkStatus = spark.createDataFrame([\n",
    "    (500, \"Vice President\"),\n",
    "    (250, \"PMC Member\"),\n",
    "    (100, \"Contributor\")])\\\n",
    "  .toDF(\"id_status\", \"status\")"
   ]
  },
  {
   "cell_type": "code",
   "execution_count": 15,
   "metadata": {},
   "outputs": [
    {
     "name": "stdout",
     "output_type": "stream",
     "text": [
      "+---+----------------+----------------+---------------+\n",
      "| id|            name|graduate_program|   spark_status|\n",
      "+---+----------------+----------------+---------------+\n",
      "|  0|   Bill Chambers|               0|          [100]|\n",
      "|  1|   Matei Zaharia|               1|[500, 250, 100]|\n",
      "|  2|Michael Armbrust|               1|     [250, 100]|\n",
      "+---+----------------+----------------+---------------+\n",
      "\n"
     ]
    }
   ],
   "source": [
    "person.show()"
   ]
  },
  {
   "cell_type": "code",
   "execution_count": 16,
   "metadata": {},
   "outputs": [
    {
     "name": "stdout",
     "output_type": "stream",
     "text": [
      "+----------+-------+--------------------+-----------+\n",
      "|id_program| degree|          department|     school|\n",
      "+----------+-------+--------------------+-----------+\n",
      "|         0|Masters|School of Informa...|UC Berkeley|\n",
      "|         2|Masters|                EECS|UC Berkeley|\n",
      "|         1|  Ph.D.|                EECS|UC Berkeley|\n",
      "+----------+-------+--------------------+-----------+\n",
      "\n"
     ]
    }
   ],
   "source": [
    "graduateProgram.show()"
   ]
  },
  {
   "cell_type": "code",
   "execution_count": 17,
   "metadata": {},
   "outputs": [
    {
     "name": "stdout",
     "output_type": "stream",
     "text": [
      "+---------+--------------+\n",
      "|id_status|        status|\n",
      "+---------+--------------+\n",
      "|      500|Vice President|\n",
      "|      250|    PMC Member|\n",
      "|      100|   Contributor|\n",
      "+---------+--------------+\n",
      "\n"
     ]
    }
   ],
   "source": [
    "sparkStatus.show()"
   ]
  },
  {
   "cell_type": "code",
   "execution_count": 18,
   "metadata": {},
   "outputs": [
    {
     "name": "stdout",
     "output_type": "stream",
     "text": [
      "+---+----------------+----------------+---------------+\n",
      "| id|            name|graduate_program|   spark_status|\n",
      "+---+----------------+----------------+---------------+\n",
      "|  0|   Bill Chambers|               0|          [100]|\n",
      "|  1|   Matei Zaharia|               1|[500, 250, 100]|\n",
      "|  2|Michael Armbrust|               1|     [250, 100]|\n",
      "+---+----------------+----------------+---------------+\n",
      "\n"
     ]
    }
   ],
   "source": [
    "person.createOrReplaceTempView(\"person\")\n",
    "spark.sql(\"select * from person\").show()"
   ]
  },
  {
   "cell_type": "code",
   "execution_count": 19,
   "metadata": {},
   "outputs": [
    {
     "name": "stdout",
     "output_type": "stream",
     "text": [
      "+----------+-------+--------------------+-----------+\n",
      "|id_program| degree|          department|     school|\n",
      "+----------+-------+--------------------+-----------+\n",
      "|         0|Masters|School of Informa...|UC Berkeley|\n",
      "|         2|Masters|                EECS|UC Berkeley|\n",
      "|         1|  Ph.D.|                EECS|UC Berkeley|\n",
      "+----------+-------+--------------------+-----------+\n",
      "\n"
     ]
    }
   ],
   "source": [
    "graduateProgram.createOrReplaceTempView(\"graduateProgram\")\n",
    "spark.sql(\"select * from graduateProgram\").show()"
   ]
  },
  {
   "cell_type": "code",
   "execution_count": 20,
   "metadata": {},
   "outputs": [
    {
     "name": "stdout",
     "output_type": "stream",
     "text": [
      "+---------+--------------+\n",
      "|id_status|        status|\n",
      "+---------+--------------+\n",
      "|      500|Vice President|\n",
      "|      250|    PMC Member|\n",
      "|      100|   Contributor|\n",
      "+---------+--------------+\n",
      "\n"
     ]
    }
   ],
   "source": [
    "sparkStatus.createOrReplaceTempView(\"sparkStatus\")\n",
    "spark.sql(\"select * from sparkStatus\").show()"
   ]
  },
  {
   "cell_type": "markdown",
   "metadata": {},
   "source": [
    "### Inner join"
   ]
  },
  {
   "cell_type": "code",
   "execution_count": 22,
   "metadata": {},
   "outputs": [],
   "source": [
    "# COMMAND ----------\n",
    "\n",
    "joinExpression = person[\"graduate_program\"] == graduateProgram['id_program']\n",
    "joinType = \"inner\""
   ]
  },
  {
   "cell_type": "code",
   "execution_count": 53,
   "metadata": {},
   "outputs": [
    {
     "name": "stdout",
     "output_type": "stream",
     "text": [
      "+---+----------------+---------------+-------+--------------------+-----------+\n",
      "| id|            name|   spark_status| degree|          department|     school|\n",
      "+---+----------------+---------------+-------+--------------------+-----------+\n",
      "|  0|   Bill Chambers|          [100]|Masters|School of Informa...|UC Berkeley|\n",
      "|  1|   Matei Zaharia|[500, 250, 100]|  Ph.D.|                EECS|UC Berkeley|\n",
      "|  2|Michael Armbrust|     [250, 100]|  Ph.D.|                EECS|UC Berkeley|\n",
      "+---+----------------+---------------+-------+--------------------+-----------+\n",
      "\n"
     ]
    }
   ],
   "source": [
    "# drop join columns\n",
    "person.join(graduateProgram, joinExpression, joinType).drop(\"graduate_program\",\"id_program\").show()"
   ]
  },
  {
   "cell_type": "code",
   "execution_count": 26,
   "metadata": {},
   "outputs": [
    {
     "name": "stdout",
     "output_type": "stream",
     "text": [
      "+---+----------------+----------------+---------------+-------+--------------------+-----------+\n",
      "| id|            name|graduate_program|   spark_status| degree|          department|     school|\n",
      "+---+----------------+----------------+---------------+-------+--------------------+-----------+\n",
      "|  0|   Bill Chambers|               0|          [100]|Masters|School of Informa...|UC Berkeley|\n",
      "|  1|   Matei Zaharia|               1|[500, 250, 100]|  Ph.D.|                EECS|UC Berkeley|\n",
      "|  2|Michael Armbrust|               1|     [250, 100]|  Ph.D.|                EECS|UC Berkeley|\n",
      "+---+----------------+----------------+---------------+-------+--------------------+-----------+\n",
      "\n"
     ]
    }
   ],
   "source": [
    "spark.sql(\"\"\"\n",
    "    select \n",
    "        p.*,\n",
    "        g.degree,\n",
    "        g.department,\n",
    "        g.school\n",
    "    from person p \n",
    "    inner join graduateProgram g\n",
    "    on p.graduate_program = g.id_program\n",
    "\"\"\").show()"
   ]
  },
  {
   "cell_type": "markdown",
   "metadata": {},
   "source": [
    "### Outer join"
   ]
  },
  {
   "cell_type": "code",
   "execution_count": 28,
   "metadata": {},
   "outputs": [],
   "source": [
    "joinType = \"outer\""
   ]
  },
  {
   "cell_type": "code",
   "execution_count": 29,
   "metadata": {},
   "outputs": [
    {
     "name": "stdout",
     "output_type": "stream",
     "text": [
      "+----+----------------+----------------+---------------+----------+-------+--------------------+-----------+\n",
      "|  id|            name|graduate_program|   spark_status|id_program| degree|          department|     school|\n",
      "+----+----------------+----------------+---------------+----------+-------+--------------------+-----------+\n",
      "|   0|   Bill Chambers|               0|          [100]|         0|Masters|School of Informa...|UC Berkeley|\n",
      "|   1|   Matei Zaharia|               1|[500, 250, 100]|         1|  Ph.D.|                EECS|UC Berkeley|\n",
      "|   2|Michael Armbrust|               1|     [250, 100]|         1|  Ph.D.|                EECS|UC Berkeley|\n",
      "|null|            null|            null|           null|         2|Masters|                EECS|UC Berkeley|\n",
      "+----+----------------+----------------+---------------+----------+-------+--------------------+-----------+\n",
      "\n"
     ]
    }
   ],
   "source": [
    "person.join(graduateProgram, joinExpression, joinType).show()"
   ]
  },
  {
   "cell_type": "code",
   "execution_count": 31,
   "metadata": {},
   "outputs": [
    {
     "name": "stdout",
     "output_type": "stream",
     "text": [
      "+----+----------------+----------------+---------------+----------+-------+--------------------+-----------+\n",
      "|  id|            name|graduate_program|   spark_status|id_program| degree|          department|     school|\n",
      "+----+----------------+----------------+---------------+----------+-------+--------------------+-----------+\n",
      "|   0|   Bill Chambers|               0|          [100]|         0|Masters|School of Informa...|UC Berkeley|\n",
      "|   1|   Matei Zaharia|               1|[500, 250, 100]|         1|  Ph.D.|                EECS|UC Berkeley|\n",
      "|   2|Michael Armbrust|               1|     [250, 100]|         1|  Ph.D.|                EECS|UC Berkeley|\n",
      "|null|            null|            null|           null|         2|Masters|                EECS|UC Berkeley|\n",
      "+----+----------------+----------------+---------------+----------+-------+--------------------+-----------+\n",
      "\n"
     ]
    }
   ],
   "source": [
    "spark.sql(\"\"\"\n",
    "    select \n",
    "        *\n",
    "    from person p \n",
    "    full outer join graduateProgram g\n",
    "    on p.graduate_program = g.id_program\n",
    "\"\"\").show()"
   ]
  },
  {
   "cell_type": "markdown",
   "metadata": {},
   "source": [
    "### Left Outer join"
   ]
  },
  {
   "cell_type": "code",
   "execution_count": 32,
   "metadata": {},
   "outputs": [
    {
     "name": "stdout",
     "output_type": "stream",
     "text": [
      "+---+----------------+----------------+---------------+----------+-------+--------------------+-----------+\n",
      "| id|            name|graduate_program|   spark_status|id_program| degree|          department|     school|\n",
      "+---+----------------+----------------+---------------+----------+-------+--------------------+-----------+\n",
      "|  0|   Bill Chambers|               0|          [100]|         0|Masters|School of Informa...|UC Berkeley|\n",
      "|  1|   Matei Zaharia|               1|[500, 250, 100]|         1|  Ph.D.|                EECS|UC Berkeley|\n",
      "|  2|Michael Armbrust|               1|     [250, 100]|         1|  Ph.D.|                EECS|UC Berkeley|\n",
      "+---+----------------+----------------+---------------+----------+-------+--------------------+-----------+\n",
      "\n"
     ]
    }
   ],
   "source": [
    "joinType = \"left_outer\"\n",
    "\n",
    "person.join(graduateProgram, joinExpression, joinType).show()"
   ]
  },
  {
   "cell_type": "code",
   "execution_count": 34,
   "metadata": {},
   "outputs": [
    {
     "name": "stdout",
     "output_type": "stream",
     "text": [
      "+---+----------------+----------------+---------------+----------+-------+--------------------+-----------+\n",
      "| id|            name|graduate_program|   spark_status|id_program| degree|          department|     school|\n",
      "+---+----------------+----------------+---------------+----------+-------+--------------------+-----------+\n",
      "|  0|   Bill Chambers|               0|          [100]|         0|Masters|School of Informa...|UC Berkeley|\n",
      "|  1|   Matei Zaharia|               1|[500, 250, 100]|         1|  Ph.D.|                EECS|UC Berkeley|\n",
      "|  2|Michael Armbrust|               1|     [250, 100]|         1|  Ph.D.|                EECS|UC Berkeley|\n",
      "+---+----------------+----------------+---------------+----------+-------+--------------------+-----------+\n",
      "\n"
     ]
    }
   ],
   "source": [
    "spark.sql(\"\"\"\n",
    "    select \n",
    "        *\n",
    "    from person p \n",
    "    left outer join graduateProgram g\n",
    "    on p.graduate_program = g.id_program\n",
    "\"\"\").show()"
   ]
  },
  {
   "cell_type": "code",
   "execution_count": 33,
   "metadata": {},
   "outputs": [
    {
     "name": "stdout",
     "output_type": "stream",
     "text": [
      "+----------+-------+--------------------+-----------+----+----------------+----------------+---------------+\n",
      "|id_program| degree|          department|     school|  id|            name|graduate_program|   spark_status|\n",
      "+----------+-------+--------------------+-----------+----+----------------+----------------+---------------+\n",
      "|         0|Masters|School of Informa...|UC Berkeley|   0|   Bill Chambers|               0|          [100]|\n",
      "|         1|  Ph.D.|                EECS|UC Berkeley|   1|   Matei Zaharia|               1|[500, 250, 100]|\n",
      "|         1|  Ph.D.|                EECS|UC Berkeley|   2|Michael Armbrust|               1|     [250, 100]|\n",
      "|         2|Masters|                EECS|UC Berkeley|null|            null|            null|           null|\n",
      "+----------+-------+--------------------+-----------+----+----------------+----------------+---------------+\n",
      "\n"
     ]
    }
   ],
   "source": [
    "joinType = \"left_outer\"\n",
    "\n",
    "graduateProgram.join(person, joinExpression, joinType).show()"
   ]
  },
  {
   "cell_type": "code",
   "execution_count": 35,
   "metadata": {},
   "outputs": [
    {
     "name": "stdout",
     "output_type": "stream",
     "text": [
      "+----------+-------+--------------------+-----------+----+----------------+----------------+---------------+\n",
      "|id_program| degree|          department|     school|  id|            name|graduate_program|   spark_status|\n",
      "+----------+-------+--------------------+-----------+----+----------------+----------------+---------------+\n",
      "|         0|Masters|School of Informa...|UC Berkeley|   0|   Bill Chambers|               0|          [100]|\n",
      "|         1|  Ph.D.|                EECS|UC Berkeley|   1|   Matei Zaharia|               1|[500, 250, 100]|\n",
      "|         1|  Ph.D.|                EECS|UC Berkeley|   2|Michael Armbrust|               1|     [250, 100]|\n",
      "|         2|Masters|                EECS|UC Berkeley|null|            null|            null|           null|\n",
      "+----------+-------+--------------------+-----------+----+----------------+----------------+---------------+\n",
      "\n"
     ]
    }
   ],
   "source": [
    "spark.sql(\"\"\"\n",
    "    select \n",
    "        *\n",
    "    from graduateProgram g \n",
    "    left outer join person p \n",
    "    on p.graduate_program = g.id_program\n",
    "\"\"\").show()"
   ]
  },
  {
   "cell_type": "markdown",
   "metadata": {},
   "source": [
    "### Right Outer join"
   ]
  },
  {
   "cell_type": "code",
   "execution_count": 36,
   "metadata": {},
   "outputs": [
    {
     "name": "stdout",
     "output_type": "stream",
     "text": [
      "+----+----------------+----------------+---------------+----------+-------+--------------------+-----------+\n",
      "|  id|            name|graduate_program|   spark_status|id_program| degree|          department|     school|\n",
      "+----+----------------+----------------+---------------+----------+-------+--------------------+-----------+\n",
      "|   0|   Bill Chambers|               0|          [100]|         0|Masters|School of Informa...|UC Berkeley|\n",
      "|   1|   Matei Zaharia|               1|[500, 250, 100]|         1|  Ph.D.|                EECS|UC Berkeley|\n",
      "|   2|Michael Armbrust|               1|     [250, 100]|         1|  Ph.D.|                EECS|UC Berkeley|\n",
      "|null|            null|            null|           null|         2|Masters|                EECS|UC Berkeley|\n",
      "+----+----------------+----------------+---------------+----------+-------+--------------------+-----------+\n",
      "\n"
     ]
    }
   ],
   "source": [
    "joinType = \"right_outer\"\n",
    "\n",
    "person.join(graduateProgram, joinExpression, joinType).show()"
   ]
  },
  {
   "cell_type": "markdown",
   "metadata": {},
   "source": [
    "### Left semi join\n",
    "\n",
    "think of it as filtering left table  by right table which exists"
   ]
  },
  {
   "cell_type": "code",
   "execution_count": 37,
   "metadata": {},
   "outputs": [
    {
     "name": "stdout",
     "output_type": "stream",
     "text": [
      "+----------+-------+--------------------+-----------+\n",
      "|id_program| degree|          department|     school|\n",
      "+----------+-------+--------------------+-----------+\n",
      "|         0|Masters|School of Informa...|UC Berkeley|\n",
      "|         1|  Ph.D.|                EECS|UC Berkeley|\n",
      "+----------+-------+--------------------+-----------+\n",
      "\n"
     ]
    }
   ],
   "source": [
    "joinType = \"left_semi\"\n",
    "\n",
    "graduateProgram.join(person, joinExpression, joinType).show()"
   ]
  },
  {
   "cell_type": "code",
   "execution_count": 38,
   "metadata": {},
   "outputs": [
    {
     "name": "stdout",
     "output_type": "stream",
     "text": [
      "+----------+-------+--------------------+-----------+\n",
      "|id_program| degree|          department|     school|\n",
      "+----------+-------+--------------------+-----------+\n",
      "|         0|Masters|School of Informa...|UC Berkeley|\n",
      "|         1|  Ph.D.|                EECS|UC Berkeley|\n",
      "+----------+-------+--------------------+-----------+\n",
      "\n"
     ]
    }
   ],
   "source": [
    "spark.sql(\"\"\"\n",
    "    select \n",
    "        *\n",
    "    from graduateProgram g \n",
    "    left semi join person p \n",
    "    on p.graduate_program = g.id_program\n",
    "\"\"\").show()"
   ]
  },
  {
   "cell_type": "markdown",
   "metadata": {},
   "source": [
    "#### union\n",
    "\n",
    "even duplicate rows in left table are kept with left-semi join"
   ]
  },
  {
   "cell_type": "code",
   "execution_count": 40,
   "metadata": {},
   "outputs": [],
   "source": [
    "# COMMAND ----------\n",
    "\n",
    "gradProgram2 = graduateProgram.union(spark.createDataFrame([\n",
    "    (0, \"Masters\", \"Duplicated Row\", \"Duplicated School\")]))\n",
    "\n",
    "gradProgram2.createOrReplaceTempView(\"gradProgram2\")"
   ]
  },
  {
   "cell_type": "code",
   "execution_count": 10,
   "metadata": {},
   "outputs": [
    {
     "name": "stdout",
     "output_type": "stream",
     "text": [
      "+---+-------+--------------------+-----------------+\n",
      "| id| degree|          department|           school|\n",
      "+---+-------+--------------------+-----------------+\n",
      "|  0|Masters|School of Informa...|      UC Berkeley|\n",
      "|  2|Masters|                EECS|      UC Berkeley|\n",
      "|  1|  Ph.D.|                EECS|      UC Berkeley|\n",
      "|  0|Masters|      Duplicated Row|Duplicated School|\n",
      "+---+-------+--------------------+-----------------+\n",
      "\n"
     ]
    }
   ],
   "source": [
    "spark.sql(\"select * from gradProgram2\").show()"
   ]
  },
  {
   "cell_type": "code",
   "execution_count": 41,
   "metadata": {},
   "outputs": [
    {
     "name": "stdout",
     "output_type": "stream",
     "text": [
      "+----------+-------+--------------------+-----------------+\n",
      "|id_program| degree|          department|           school|\n",
      "+----------+-------+--------------------+-----------------+\n",
      "|         0|Masters|School of Informa...|      UC Berkeley|\n",
      "|         1|  Ph.D.|                EECS|      UC Berkeley|\n",
      "|         0|Masters|      Duplicated Row|Duplicated School|\n",
      "+----------+-------+--------------------+-----------------+\n",
      "\n"
     ]
    }
   ],
   "source": [
    "joinType = \"left_semi\"\n",
    "\n",
    "gradProgram2.join(person, joinExpression, joinType).show()"
   ]
  },
  {
   "cell_type": "code",
   "execution_count": 42,
   "metadata": {},
   "outputs": [
    {
     "name": "stdout",
     "output_type": "stream",
     "text": [
      "+----------+-------+--------------------+-----------------+\n",
      "|id_program| degree|          department|           school|\n",
      "+----------+-------+--------------------+-----------------+\n",
      "|         0|Masters|School of Informa...|      UC Berkeley|\n",
      "|         1|  Ph.D.|                EECS|      UC Berkeley|\n",
      "|         0|Masters|      Duplicated Row|Duplicated School|\n",
      "+----------+-------+--------------------+-----------------+\n",
      "\n"
     ]
    }
   ],
   "source": [
    "spark.sql(\"\"\"\n",
    "    select \n",
    "        *\n",
    "    from gradProgram2 g \n",
    "    left semi join person p \n",
    "    on p.graduate_program = g.id_program\n",
    "\"\"\").show()"
   ]
  },
  {
   "cell_type": "markdown",
   "metadata": {},
   "source": [
    "### Left anti join\n",
    "\n",
    "think of it as filtering left table  by right table which does not exist"
   ]
  },
  {
   "cell_type": "code",
   "execution_count": 43,
   "metadata": {},
   "outputs": [
    {
     "name": "stdout",
     "output_type": "stream",
     "text": [
      "+----------+-------+----------+-----------+\n",
      "|id_program| degree|department|     school|\n",
      "+----------+-------+----------+-----------+\n",
      "|         2|Masters|      EECS|UC Berkeley|\n",
      "+----------+-------+----------+-----------+\n",
      "\n"
     ]
    }
   ],
   "source": [
    "joinType = \"left_anti\"\n",
    "\n",
    "graduateProgram.join(person, joinExpression, joinType).show()"
   ]
  },
  {
   "cell_type": "code",
   "execution_count": 44,
   "metadata": {},
   "outputs": [
    {
     "name": "stdout",
     "output_type": "stream",
     "text": [
      "+----------+-------+----------+-----------+\n",
      "|id_program| degree|department|     school|\n",
      "+----------+-------+----------+-----------+\n",
      "|         2|Masters|      EECS|UC Berkeley|\n",
      "+----------+-------+----------+-----------+\n",
      "\n"
     ]
    }
   ],
   "source": [
    "spark.sql(\"\"\"\n",
    "    select \n",
    "        *\n",
    "    from graduateProgram g \n",
    "    left anti join person p \n",
    "    on p.graduate_program = g.id_program\n",
    "\"\"\").show()"
   ]
  },
  {
   "cell_type": "markdown",
   "metadata": {},
   "source": [
    "### Cross (Cartisian) join"
   ]
  },
  {
   "cell_type": "code",
   "execution_count": 46,
   "metadata": {},
   "outputs": [
    {
     "name": "stdout",
     "output_type": "stream",
     "text": [
      "+----------+-------+--------------------+-----------+---+----------------+----------------+---------------+\n",
      "|id_program| degree|          department|     school| id|            name|graduate_program|   spark_status|\n",
      "+----------+-------+--------------------+-----------+---+----------------+----------------+---------------+\n",
      "|         0|Masters|School of Informa...|UC Berkeley|  0|   Bill Chambers|               0|          [100]|\n",
      "|         1|  Ph.D.|                EECS|UC Berkeley|  1|   Matei Zaharia|               1|[500, 250, 100]|\n",
      "|         1|  Ph.D.|                EECS|UC Berkeley|  2|Michael Armbrust|               1|     [250, 100]|\n",
      "+----------+-------+--------------------+-----------+---+----------------+----------------+---------------+\n",
      "\n"
     ]
    }
   ],
   "source": [
    "joinType = \"cross\"\n",
    "\n",
    "graduateProgram.join(person, joinExpression, joinType).show()"
   ]
  },
  {
   "cell_type": "code",
   "execution_count": 47,
   "metadata": {},
   "outputs": [
    {
     "name": "stdout",
     "output_type": "stream",
     "text": [
      "+----------+-------+--------------------+-----------+---+----------------+----------------+---------------+\n",
      "|id_program| degree|          department|     school| id|            name|graduate_program|   spark_status|\n",
      "+----------+-------+--------------------+-----------+---+----------------+----------------+---------------+\n",
      "|         0|Masters|School of Informa...|UC Berkeley|  0|   Bill Chambers|               0|          [100]|\n",
      "|         1|  Ph.D.|                EECS|UC Berkeley|  1|   Matei Zaharia|               1|[500, 250, 100]|\n",
      "|         1|  Ph.D.|                EECS|UC Berkeley|  2|Michael Armbrust|               1|     [250, 100]|\n",
      "+----------+-------+--------------------+-----------+---+----------------+----------------+---------------+\n",
      "\n"
     ]
    }
   ],
   "source": [
    "spark.sql(\"\"\"\n",
    "    select \n",
    "        *\n",
    "    from graduateProgram g \n",
    "    cross join person p \n",
    "    on p.graduate_program = g.id_program\n",
    "\"\"\").show()"
   ]
  },
  {
   "cell_type": "markdown",
   "metadata": {},
   "source": [
    "### join on complex type"
   ]
  },
  {
   "cell_type": "code",
   "execution_count": 50,
   "metadata": {},
   "outputs": [
    {
     "name": "stdout",
     "output_type": "stream",
     "text": [
      "+---------+----------------+----------------+---------------+---------+--------------+\n",
      "|id_person|            name|graduate_program|   spark_status|id_status|        status|\n",
      "+---------+----------------+----------------+---------------+---------+--------------+\n",
      "|        0|   Bill Chambers|               0|          [100]|      100|   Contributor|\n",
      "|        1|   Matei Zaharia|               1|[500, 250, 100]|      500|Vice President|\n",
      "|        1|   Matei Zaharia|               1|[500, 250, 100]|      250|    PMC Member|\n",
      "|        1|   Matei Zaharia|               1|[500, 250, 100]|      100|   Contributor|\n",
      "|        2|Michael Armbrust|               1|     [250, 100]|      250|    PMC Member|\n",
      "|        2|Michael Armbrust|               1|     [250, 100]|      100|   Contributor|\n",
      "+---------+----------------+----------------+---------------+---------+--------------+\n",
      "\n"
     ]
    }
   ],
   "source": [
    "person.withColumnRenamed(\"id\", \"id_person\")\\\n",
    "    .join(sparkStatus, F.expr(\"array_contains(spark_status, id_status)\"))\\\n",
    "    .show()"
   ]
  },
  {
   "cell_type": "code",
   "execution_count": 52,
   "metadata": {},
   "outputs": [
    {
     "name": "stdout",
     "output_type": "stream",
     "text": [
      "+---+----------------+----------------+---------------+---------+--------------+\n",
      "| id|            name|graduate_program|   spark_status|id_status|        status|\n",
      "+---+----------------+----------------+---------------+---------+--------------+\n",
      "|  0|   Bill Chambers|               0|          [100]|      100|   Contributor|\n",
      "|  1|   Matei Zaharia|               1|[500, 250, 100]|      500|Vice President|\n",
      "|  1|   Matei Zaharia|               1|[500, 250, 100]|      250|    PMC Member|\n",
      "|  1|   Matei Zaharia|               1|[500, 250, 100]|      100|   Contributor|\n",
      "|  2|Michael Armbrust|               1|     [250, 100]|      250|    PMC Member|\n",
      "|  2|Michael Armbrust|               1|     [250, 100]|      100|   Contributor|\n",
      "+---+----------------+----------------+---------------+---------+--------------+\n",
      "\n"
     ]
    }
   ],
   "source": [
    "spark.sql(\"\"\"\n",
    "    select \n",
    "        *\n",
    "    from person p\n",
    "    inner join sparkStatus s\n",
    "    on array_contains(p.spark_status, s.id_status)\n",
    "\"\"\").show()"
   ]
  },
  {
   "cell_type": "code",
   "execution_count": null,
   "metadata": {},
   "outputs": [],
   "source": []
  }
 ],
 "metadata": {
  "kernelspec": {
   "display_name": "Python 3",
   "language": "python",
   "name": "python3"
  },
  "language_info": {
   "codemirror_mode": {
    "name": "ipython",
    "version": 3
   },
   "file_extension": ".py",
   "mimetype": "text/x-python",
   "name": "python",
   "nbconvert_exporter": "python",
   "pygments_lexer": "ipython3",
   "version": "3.8.5"
  }
 },
 "nbformat": 4,
 "nbformat_minor": 2
}
