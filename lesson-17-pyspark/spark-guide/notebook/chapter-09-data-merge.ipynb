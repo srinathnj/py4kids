{
 "cells": [
  {
   "cell_type": "code",
   "execution_count": 1,
   "metadata": {},
   "outputs": [],
   "source": [
    "from pyspark.sql import SparkSession\n",
    "import pyspark.sql.functions as F\n",
    "from pyspark.sql.types import *\n",
    "\n",
    "spark = SparkSession\\\n",
    "    .builder\\\n",
    "    .appName(\"df-merge\")\\\n",
    "    .getOrCreate()"
   ]
  },
  {
   "cell_type": "code",
   "execution_count": 2,
   "metadata": {},
   "outputs": [],
   "source": [
    "mp_files = spark.read.format(\"csv\")\\\n",
    "  .option(\"header\", \"true\")\\\n",
    "  .option(\"inferSchema\", \"true\")\\\n",
    "  .load(\"mp_files.csv\")"
   ]
  },
  {
   "cell_type": "code",
   "execution_count": 3,
   "metadata": {},
   "outputs": [
    {
     "name": "stdout",
     "output_type": "stream",
     "text": [
      "+-------+-----------------------------------------------------------+\n",
      "|file_id|s3_location                                                |\n",
      "+-------+-----------------------------------------------------------+\n",
      "|0      |s3://bucket/prefix/367a3ab9-2b5a-4997-804b-8cea2d32b2e5.mp3|\n",
      "|1      |s3://bucket/prefix/1bb77dfa-8576-4f0c-a96a-027ac646b631.mp3|\n",
      "|2      |s3://bucket/prefix/edf7ea24-0287-4836-b286-fa769734d0a7.mp3|\n",
      "|3      |s3://bucket/prefix/8e7ae1ff-5b45-438e-ac09-23f30f3f63e2.mp3|\n",
      "|4      |s3://bucket/prefix/f80cf03c-4deb-4e65-9604-6e9ded2d1b68.mp3|\n",
      "+-------+-----------------------------------------------------------+\n",
      "only showing top 5 rows\n",
      "\n"
     ]
    }
   ],
   "source": [
    "mp_files.show(5, False)"
   ]
  },
  {
   "cell_type": "code",
   "execution_count": 4,
   "metadata": {},
   "outputs": [],
   "source": [
    "mp_meta = spark.read.format(\"csv\")\\\n",
    "  .option(\"header\", \"true\")\\\n",
    "  .option(\"inferSchema\", \"true\")\\\n",
    "  .load(\"mp_meta.csv\")"
   ]
  },
  {
   "cell_type": "code",
   "execution_count": 5,
   "metadata": {},
   "outputs": [
    {
     "name": "stdout",
     "output_type": "stream",
     "text": [
      "+-------+----+----------+----------+--------------------------+----+\n",
      "|file_id|lob |region    |cust_id   |created                   |uid |\n",
      "+-------+----+----------+----------+--------------------------+----+\n",
      "|0      |lob1|us-west   |8555632908|2020-07-23 21:55:36.587912|obhd|\n",
      "|1      |lob2|us-west   |7221348949|2020-07-23 21:55:36.587958|x62d|\n",
      "|2      |lob1|us-central|4218789251|2020-07-23 21:55:36.588151|oxjd|\n",
      "|3      |lob2|us-central|2473658569|2020-07-23 21:55:36.588178|33nd|\n",
      "|4      |lob1|us-central|3667278745|2020-07-23 21:55:36.588200|a1td|\n",
      "+-------+----+----------+----------+--------------------------+----+\n",
      "only showing top 5 rows\n",
      "\n"
     ]
    }
   ],
   "source": [
    "mp_meta.show(5, False)"
   ]
  },
  {
   "cell_type": "code",
   "execution_count": 6,
   "metadata": {},
   "outputs": [
    {
     "data": {
      "text/plain": [
       "['file_id',\n",
       " 'lob',\n",
       " 'region',\n",
       " 'cust_id',\n",
       " 'created',\n",
       " 'uid',\n",
       " 'file_id',\n",
       " 's3_location']"
      ]
     },
     "execution_count": 6,
     "metadata": {},
     "output_type": "execute_result"
    }
   ],
   "source": [
    "mp_meta.columns + mp_files.columns"
   ]
  },
  {
   "cell_type": "code",
   "execution_count": 7,
   "metadata": {},
   "outputs": [],
   "source": [
    "mp = mp_meta.alias('m').join(mp_files.alias('f'),\\\n",
    "        F.col('m.file_id')==F.col('f.file_id'))\\\n",
    "    .select([F.col('m.'+xx) for xx in mp_meta.columns] + [F.col('f.s3_location')])"
   ]
  },
  {
   "cell_type": "code",
   "execution_count": 8,
   "metadata": {},
   "outputs": [
    {
     "name": "stdout",
     "output_type": "stream",
     "text": [
      "+-------+----+----------+----------+--------------------------+----+-----------------------------------------------------------+\n",
      "|file_id|lob |region    |cust_id   |created                   |uid |s3_location                                                |\n",
      "+-------+----+----------+----------+--------------------------+----+-----------------------------------------------------------+\n",
      "|0      |lob1|us-west   |8555632908|2020-07-23 21:55:36.587912|obhd|s3://bucket/prefix/367a3ab9-2b5a-4997-804b-8cea2d32b2e5.mp3|\n",
      "|1      |lob2|us-west   |7221348949|2020-07-23 21:55:36.587958|x62d|s3://bucket/prefix/1bb77dfa-8576-4f0c-a96a-027ac646b631.mp3|\n",
      "|2      |lob1|us-central|4218789251|2020-07-23 21:55:36.588151|oxjd|s3://bucket/prefix/edf7ea24-0287-4836-b286-fa769734d0a7.mp3|\n",
      "|3      |lob2|us-central|2473658569|2020-07-23 21:55:36.588178|33nd|s3://bucket/prefix/8e7ae1ff-5b45-438e-ac09-23f30f3f63e2.mp3|\n",
      "|4      |lob1|us-central|3667278745|2020-07-23 21:55:36.588200|a1td|s3://bucket/prefix/f80cf03c-4deb-4e65-9604-6e9ded2d1b68.mp3|\n",
      "+-------+----+----------+----------+--------------------------+----+-----------------------------------------------------------+\n",
      "only showing top 5 rows\n",
      "\n"
     ]
    }
   ],
   "source": [
    "mp.show(5, False)"
   ]
  },
  {
   "cell_type": "code",
   "execution_count": 10,
   "metadata": {},
   "outputs": [],
   "source": [
    "mp.write.csv('mp_merge.csv',header=True, mode=\"overwrite\")"
   ]
  },
  {
   "cell_type": "code",
   "execution_count": 11,
   "metadata": {},
   "outputs": [
    {
     "name": "stdout",
     "output_type": "stream",
     "text": [
      "mp_files.csv  mp_meta.csv\r\n",
      "\r\n",
      "mp_merge.csv:\r\n",
      "part-00000-5ac967f6-a463-47a9-8d9f-aa1b219a76d5-c000.csv  _SUCCESS\r\n"
     ]
    }
   ],
   "source": [
    "!ls *.csv"
   ]
  },
  {
   "cell_type": "code",
   "execution_count": 14,
   "metadata": {},
   "outputs": [],
   "source": [
    "mp.write.mode(\"overwrite\").parquet('mp_merge.parquet')"
   ]
  },
  {
   "cell_type": "code",
   "execution_count": null,
   "metadata": {},
   "outputs": [],
   "source": []
  }
 ],
 "metadata": {
  "kernelspec": {
   "display_name": "Python 3",
   "language": "python",
   "name": "python3"
  },
  "language_info": {
   "codemirror_mode": {
    "name": "ipython",
    "version": 3
   },
   "file_extension": ".py",
   "mimetype": "text/x-python",
   "name": "python",
   "nbconvert_exporter": "python",
   "pygments_lexer": "ipython3",
   "version": "3.8.5"
  }
 },
 "nbformat": 4,
 "nbformat_minor": 4
}
