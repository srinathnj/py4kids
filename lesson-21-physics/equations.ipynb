{
 "cells": [
  {
   "cell_type": "markdown",
   "id": "4c874d83",
   "metadata": {},
   "source": [
    "https://claude.ai"
   ]
  },
  {
   "cell_type": "markdown",
   "id": "920cee64",
   "metadata": {},
   "source": [
    "## the Schrödinger equation\n",
    "\n",
    "$$ i\\hbar\\frac{\\partial}{\\partial t} \\Psi(\\vec{r},t) = \\hat{H}\\Psi(\\vec{r},t) $$\n",
    "\n",
    "Where:\n",
    "\n",
    "$\\hbar$ is the reduced Planck constant\n",
    "$\\Psi(\\vec{r},t)$ is the wavefunction of the quantum system\n",
    "$\\hat{H}$ is the Hamiltonian operator\n",
    "$i$ is the imaginary unit\n",
    "$\\frac{\\partial}{\\partial t}$ represents partial derivation with respect to time\n",
    "$\\vec{r}$ is the spatial coordinate\n",
    "$t$ is time\n",
    "This equation describes how the quantum state $\\Psi$ evolves over time. It is a foundational equation in quantum mechanics developed by Erwin Schrödinger in 1925.\n",
    "\n",
    "Some key points:\n",
    "\n",
    "It is a partial differential equation with time on one side, and the Hamiltonian operator acting on the wavefunction on the other side.\n",
    "The Hamiltonian contains the kinetic and potential energy of the specific quantum system.\n",
    "Solutions to the equation, the wavefunctions, contain the probabilistic information about the quantum system.\n",
    "So in essence, this equation describes how probabilities propagate through time in quantum systems according to the system's energies. It is one of the most important equations in all of physics."
   ]
  },
  {
   "cell_type": "markdown",
   "id": "117e7c07",
   "metadata": {},
   "source": [
    "## the 4 Maxwell equations\n",
    "\n",
    "\\begin{align*}\n",
    "\\nabla \\cdot \\vec{E} &= \\frac{\\rho}{\\epsilon_0} \\tag{Gauss's Law for Electricity}\\\\\n",
    "\\nabla \\cdot \\vec{B} &= 0 \\tag{Gauss's Law for Magnetism}\\\\\n",
    "\\nabla \\times \\vec{E} &= -\\frac{\\partial \\vec{B}}{\\partial t} \\tag{Faraday's Law of Induction}\\\\\n",
    "\\nabla \\times \\vec{B} &= \\mu_0\\vec{J} + \\mu_0\\epsilon_0\\frac{\\partial\\vec{E}}{\\partial t} \\tag{Ampère's Law}\n",
    "\\end{align*}\n",
    "\n",
    "Where:\n",
    "\n",
    "\\begin{align*}\n",
    "\\vec{E} &\\text{ is the electric field}\\\\\n",
    "\\vec{B} &\\text{ is the magnetic field}\\\\\n",
    "\\rho &\\text{ is the charge density}\\\\\n",
    "\\vec{J} &\\text{ is the current density}\\\\\n",
    "\\epsilon_0 &\\text{ is the permittivity of free space}\\\\\n",
    "\\mu_0 &\\text{ is the permeability of free space}\n",
    "\\end{align*}\n",
    "\n",
    "This presents each Maxwell equation on a new line, numbered and tagged with its name, along with aligned math formatting. The vector quantities are set in bold to distinguish them clearly. This provides a clean formatted version for reference or presentation."
   ]
  },
  {
   "cell_type": "markdown",
   "id": "a65f984f",
   "metadata": {},
   "source": [
    "The Maxwell equations are a set of four fundamental equations that describe the behavior of electric and magnetic fields. They were formulated by James Clerk Maxwell in the 19th century and revolutionized our understanding of electromagnetism. \n",
    "\n",
    "The four Maxwell equations are:\n",
    "\n",
    "1. Gauss's law for electricity: Describes how electric fields emanate from electric charges. Mathematically: ∇•E = ρ/ε0\n",
    "\n",
    "2. Gauss's law for magnetism: States that magnetic monopoles do not exist. Mathematically: ∇•B = 0 \n",
    "\n",
    "3. Faraday's law of induction: Describes how a changing magnetic field induces an electric field. Mathematically: ∇×E = -∂B/∂t\n",
    "\n",
    "4. Ampère's law: Describes how electric current and changing electric fields generate a magnetic field. Mathematically: ∇×B = μ0J + μ0ε0∂E/∂t\n",
    "\n",
    "Where:\n",
    "\n",
    "E is the electric field, B is the magnetic field, ρ is the charge density, J is the current density, ε0 is the permittivity of vacuum, and μ0 is the permeability of vacuum.\n",
    "\n",
    "Together, these four equations fully characterize classical electromagnetism and form the foundation of electricity and magnetism. They are one of the great triumphs of 19th century physics."
   ]
  },
  {
   "cell_type": "code",
   "execution_count": null,
   "id": "1f178dcb",
   "metadata": {},
   "outputs": [],
   "source": []
  }
 ],
 "metadata": {
  "kernelspec": {
   "display_name": "Python 3 (ipykernel)",
   "language": "python",
   "name": "python3"
  },
  "language_info": {
   "codemirror_mode": {
    "name": "ipython",
    "version": 3
   },
   "file_extension": ".py",
   "mimetype": "text/x-python",
   "name": "python",
   "nbconvert_exporter": "python",
   "pygments_lexer": "ipython3",
   "version": "3.9.13"
  },
  "nbTranslate": {
   "displayLangs": [
    "*"
   ],
   "hotkey": "alt-t",
   "langInMainMenu": true,
   "sourceLang": "en",
   "targetLang": "fr",
   "useGoogleTranslate": true
  },
  "toc": {
   "base_numbering": 1,
   "nav_menu": {},
   "number_sections": true,
   "sideBar": true,
   "skip_h1_title": false,
   "title_cell": "Table of Contents",
   "title_sidebar": "Contents",
   "toc_cell": false,
   "toc_position": {},
   "toc_section_display": true,
   "toc_window_display": false
  }
 },
 "nbformat": 4,
 "nbformat_minor": 5
}
