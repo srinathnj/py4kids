{
 "cells": [
  {
   "cell_type": "code",
   "execution_count": 1,
   "id": "8a22f6b5",
   "metadata": {},
   "outputs": [],
   "source": [
    "\"\"\"\n",
    "pip install opencv-python  # required for cv2\n",
    "\"\"\"\n",
    "\n",
    "import cv2\n",
    "import numpy as np\n",
    "from pathlib import Path\n",
    "from glob import glob"
   ]
  },
  {
   "cell_type": "code",
   "execution_count": 2,
   "id": "c3de566f",
   "metadata": {},
   "outputs": [],
   "source": [
    "def collate_images(background_path, image_paths, output_dir=Path(\"output\"), scale_factor=0.8, prefix=\"\", suffix=\"bgd\"):\n",
    "    \"\"\"\n",
    "    Collates images with a background, preserving aspect ratio and using a fixed scale factor.\n",
    "\n",
    "    Args:\n",
    "        background_path: Path to the background image.\n",
    "        image_paths: List of paths to images to be collated.\n",
    "        output_dir: Output directory Path for the collated images.\n",
    "        scale_factor: The scaling factor for the images (0.0 - 1.0).\n",
    "        suffix: added to the new output filename\n",
    "    \"\"\"\n",
    "    # Ensure output directory exists\n",
    "    output_dir.mkdir(parents=True, exist_ok=True)\n",
    "    \n",
    "    try:\n",
    "        background = cv2.imread(str(background_path))\n",
    "    except cv2.error as e:\n",
    "        print(f\"Error reading background image: {e}\")\n",
    "        return False\n",
    "\n",
    "    bg_height, bg_width, _ = background.shape\n",
    "\n",
    "    ok_images = 0\n",
    "    for image_path in image_paths:\n",
    "        print(f\"Collating {image_path} ...\")\n",
    "        try:\n",
    "            image = cv2.imread(str(image_path))\n",
    "        except cv2.error as e:\n",
    "            print(f\"Error reading image: {image_path}, {e}\")\n",
    "            continue  # Skip to the next image            \n",
    "\n",
    "        if image is None: \n",
    "            continue\n",
    "            \n",
    "        img_height, img_width, _ = image.shape\n",
    "\n",
    "        try:\n",
    "            # Determine the larger dimension and calculate new size based on scale factor\n",
    "            if img_width > img_height:\n",
    "                new_width = int(bg_width * scale_factor)\n",
    "                new_height = int(img_height * (new_width / img_width))\n",
    "            else:\n",
    "                new_height = int(bg_height * scale_factor)\n",
    "                new_width = int(img_width * (new_height / img_height))\n",
    "\n",
    "            # Resize image\n",
    "            resized_image = cv2.resize(image, (new_width, new_height))\n",
    "\n",
    "            # Create a mask for the image\n",
    "            mask = np.zeros_like(resized_image)\n",
    "            mask[0:new_height, 0:new_width] = 255\n",
    "\n",
    "            # Calculate position for placing the image on the background\n",
    "            x = (bg_width - new_width) // 2\n",
    "            y = (bg_height - new_height) // 2\n",
    "\n",
    "            # Create a copy of the background image\n",
    "            result = background.copy()\n",
    "\n",
    "            # Put the resized image on the background\n",
    "            result[y:y+new_height, x:x+new_width] = resized_image\n",
    "\n",
    "            # Save the resulting image\n",
    "            if prefix:\n",
    "                new_filename = f\"{prefix}__\" + Path(image_path).stem + f\"-{suffix}\" + Path(image_path).suffix\n",
    "            else:\n",
    "                new_filename = Path(image_path).stem + f\"-{suffix}\" + Path(image_path).suffix\n",
    "            output_path = output_dir / Path(new_filename)\n",
    "            print(f\"\\tOutput file: {output_path}\")\n",
    "            cv2.imwrite(str(output_path), result)\n",
    "            ok_images += 1\n",
    "        except Exception as e:\n",
    "            print(f\"\\t[ERROR] Failed processing '{image_path}'\\n {e}\")\n",
    "            continue  # Skip to the next image    \n",
    "            \n",
    "    return len(image_paths), ok_images"
   ]
  },
  {
   "cell_type": "code",
   "execution_count": 3,
   "id": "d5e07ec6",
   "metadata": {},
   "outputs": [],
   "source": [
    "background_path = \"00-background-stary-universe.png\""
   ]
  },
  {
   "cell_type": "code",
   "execution_count": 4,
   "id": "e0cf06d9",
   "metadata": {},
   "outputs": [],
   "source": [
    "ROOT_DIR = \"3-A-Beautiful-Soul\""
   ]
  },
  {
   "cell_type": "code",
   "execution_count": 5,
   "id": "54eef27b",
   "metadata": {},
   "outputs": [],
   "source": [
    "excluded_images = [\n",
    "    'archive',\n",
    "]\n",
    "excluded_images = [f\"{ROOT_DIR}\\\\{x}\" for x in excluded_images]"
   ]
  },
  {
   "cell_type": "code",
   "execution_count": 8,
   "id": "5103453f",
   "metadata": {
    "scrolled": false
   },
   "outputs": [
    {
     "name": "stdout",
     "output_type": "stream",
     "text": [
      "Collating 3-A-Beautiful-Soul/original\\02-candle-light-2024-08-04.png ...\n",
      "\tOutput file: 3-A-Beautiful-Soul\\02-candle-light-2024-08-04-bgd.png\n",
      "Collating 3-A-Beautiful-Soul/original\\03-01-UChicago-Campus.jpg ...\n",
      "\tOutput file: 3-A-Beautiful-Soul\\03-01-UChicago-Campus-bgd.jpg\n",
      "Collating 3-A-Beautiful-Soul/original\\03-sf-golden-gate-bridge.png ...\n",
      "\tOutput file: 3-A-Beautiful-Soul\\03-sf-golden-gate-bridge-bgd.png\n",
      "Collating 3-A-Beautiful-Soul/original\\04-pacific-ocean-01.png ...\n",
      "\tOutput file: 3-A-Beautiful-Soul\\04-pacific-ocean-01-bgd.png\n",
      "Collating 3-A-Beautiful-Soul/original\\05-sun-rise-ocean.jpg ...\n",
      "\tOutput file: 3-A-Beautiful-Soul\\05-sun-rise-ocean-bgd.jpg\n",
      "Collating 3-A-Beautiful-Soul/original\\06-tdlee-institute.png ...\n",
      "\tOutput file: 3-A-Beautiful-Soul\\06-tdlee-institute-bgd.png\n",
      "Collating 3-A-Beautiful-Soul/original\\07-tdlee-library.png ...\n",
      "\tOutput file: 3-A-Beautiful-Soul\\07-tdlee-library-bgd.png\n",
      "Collating 3-A-Beautiful-Soul/original\\08-Houses-Suzhou-canal-Jiangsu-China.webp ...\n",
      "\tOutput file: 3-A-Beautiful-Soul\\08-Houses-Suzhou-canal-Jiangsu-China-bgd.webp\n",
      "Collating 3-A-Beautiful-Soul/original\\09-bamboo.png ...\n",
      "\tOutput file: 3-A-Beautiful-Soul\\09-bamboo-bgd.png\n",
      "Collating 3-A-Beautiful-Soul/original\\10-Taihu_Lake,_Wuxi_20180428.jpg ...\n",
      "\t[ERROR] Failed processing '3-A-Beautiful-Soul/original\\10-Taihu_Lake,_Wuxi_20180428.jpg'\n",
      " could not broadcast input array from shape (1602,2137,3) into shape (66,2137,3)\n",
      "Collating 3-A-Beautiful-Soul/original\\11-Sunset_at_taihu_wuxi.jpg ...\n",
      "\t[ERROR] Failed processing '3-A-Beautiful-Soul/original\\11-Sunset_at_taihu_wuxi.jpg'\n",
      " could not broadcast input array from shape (1600,2137,3) into shape (65,2137,3)\n",
      "Collating 3-A-Beautiful-Soul/original\\12-yangtze-3984504_1280.jpg ...\n",
      "\tOutput file: 3-A-Beautiful-Soul\\12-yangtze-3984504_1280-bgd.jpg\n",
      "Collating 3-A-Beautiful-Soul/original\\13-huang-shan-4.jpg ...\n",
      "\t[ERROR] Failed processing '3-A-Beautiful-Soul/original\\13-huang-shan-4.jpg'\n",
      " could not broadcast input array from shape (1599,2137,3) into shape (64,2137,3)\n",
      "Collating 3-A-Beautiful-Soul/original\\14-First_Bend_of_Yangtze_River_Yunnan_China.jpg ...\n",
      "\tOutput file: 3-A-Beautiful-Soul\\14-First_Bend_of_Yangtze_River_Yunnan_China-bgd.jpg\n",
      "Collating 3-A-Beautiful-Soul/original\\15-Location-of-Himalayan.jpeg ...\n",
      "\tOutput file: 3-A-Beautiful-Soul\\15-Location-of-Himalayan-bgd.jpeg\n",
      "Collating 3-A-Beautiful-Soul/original\\16-himalaya-mountain.jpg ...\n",
      "\tOutput file: 3-A-Beautiful-Soul\\16-himalaya-mountain-bgd.jpg\n",
      "Collating 3-A-Beautiful-Soul/original\\17-1024px-Nasa_earth.jpg ...\n",
      "\t[ERROR] Failed processing '3-A-Beautiful-Soul/original\\17-1024px-Nasa_earth.jpg'\n",
      " could not broadcast input array from shape (1602,2137,3) into shape (66,2137,3)\n",
      "Collating 3-A-Beautiful-Soul/original\\18-total-solar-eclipse.jpg ...\n",
      "\tOutput file: 3-A-Beautiful-Soul\\18-total-solar-eclipse-bgd.jpg\n",
      "Collating 3-A-Beautiful-Soul/original\\19-01-planet-3443-named-after-TD-Lee.png ...\n",
      "\tOutput file: 3-A-Beautiful-Soul\\19-01-planet-3443-named-after-TD-Lee-bgd.png\n",
      "Collating 3-A-Beautiful-Soul/original\\19-galaxy-2.jpg ...\n",
      "\tOutput file: 3-A-Beautiful-Soul\\19-galaxy-2-bgd.jpg\n",
      "Collating 3-A-Beautiful-Soul/original\\20-galaxy-01.png ...\n",
      "\t[ERROR] Failed processing '3-A-Beautiful-Soul/original\\20-galaxy-01.png'\n",
      " could not broadcast input array from shape (1562,2137,3) into shape (46,2137,3)\n",
      "Collating 3-A-Beautiful-Soul/original\\21-universe.jpg ...\n",
      "\t[ERROR] Failed processing '3-A-Beautiful-Soul/original\\21-universe.jpg'\n",
      " could not broadcast input array from shape (1602,2137,3) into shape (66,2137,3)\n",
      "input_images, total_images, ok_images = 22, 22, 16\n"
     ]
    }
   ],
   "source": [
    "source_images = glob(f\"{ROOT_DIR}/original/*\")\n",
    "image_paths = [x for x in source_images if \"-bgd\" not in x]\n",
    "# minimum border\n",
    "total_images, ok_images = collate_images(Path(background_path), image_paths, output_dir=Path(f\"{ROOT_DIR}\"), scale_factor=0.98)\n",
    "print(f\"input_images, total_images, ok_images = {len(source_images)}, {total_images}, {ok_images}\")"
   ]
  },
  {
   "cell_type": "markdown",
   "id": "c6ffa0e4",
   "metadata": {},
   "source": [
    "### Fix failed image manually\n",
    "```\n",
    "[ERROR] Failed processing '2-A-Compassionate-Man/1-family/original\\01-3-family-photo.jpeg'\n",
    "\n",
    "[ERROR] Failed processing '2-A-Compassionate-Man/4-leader/original\\td-lee-qian-san-qiang.png'\n",
    "```\n",
    "\n",
    "```\n",
    "Collating 2-A-Compassionate-Man/2-teacher/original\\03-束星北.jpeg ...\n",
    "Collating 2-A-Compassionate-Man/2-teacher/original\\04-叶企孙.jpeg ...\n",
    "```\n",
    "ok after renaming unicode-characters\n"
   ]
  },
  {
   "cell_type": "markdown",
   "id": "a1540428",
   "metadata": {},
   "source": [
    "### Ignore"
   ]
  },
  {
   "cell_type": "code",
   "execution_count": null,
   "id": "bd1d151a",
   "metadata": {},
   "outputs": [],
   "source": []
  }
 ],
 "metadata": {
  "kernelspec": {
   "display_name": "Python 3 (ipykernel)",
   "language": "python",
   "name": "python3"
  },
  "language_info": {
   "codemirror_mode": {
    "name": "ipython",
    "version": 3
   },
   "file_extension": ".py",
   "mimetype": "text/x-python",
   "name": "python",
   "nbconvert_exporter": "python",
   "pygments_lexer": "ipython3",
   "version": "3.9.13"
  },
  "nbTranslate": {
   "displayLangs": [
    "*"
   ],
   "hotkey": "alt-t",
   "langInMainMenu": true,
   "sourceLang": "en",
   "targetLang": "fr",
   "useGoogleTranslate": true
  },
  "toc": {
   "base_numbering": 1,
   "nav_menu": {},
   "number_sections": true,
   "sideBar": true,
   "skip_h1_title": false,
   "title_cell": "Table of Contents",
   "title_sidebar": "Contents",
   "toc_cell": false,
   "toc_position": {},
   "toc_section_display": true,
   "toc_window_display": false
  }
 },
 "nbformat": 4,
 "nbformat_minor": 5
}
