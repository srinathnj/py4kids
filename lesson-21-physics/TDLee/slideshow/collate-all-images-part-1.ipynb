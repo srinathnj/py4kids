{
 "cells": [
  {
   "cell_type": "code",
   "execution_count": 1,
   "id": "9e08842d",
   "metadata": {},
   "outputs": [],
   "source": [
    "\"\"\"\n",
    "pip install opencv-python  # required for cv2\n",
    "\"\"\"\n",
    "\n",
    "import cv2\n",
    "import numpy as np\n",
    "from pathlib import Path\n",
    "from glob import glob"
   ]
  },
  {
   "cell_type": "code",
   "execution_count": 2,
   "id": "cc6614de",
   "metadata": {},
   "outputs": [],
   "source": [
    "def collate_images(background_path, image_paths, output_dir=Path(\"output\"), scale_factor=0.8, suffix=\"bgd\"):\n",
    "    \"\"\"\n",
    "    Collates images with a background, preserving aspect ratio and using a fixed scale factor.\n",
    "\n",
    "    Args:\n",
    "        background_path: Path to the background image.\n",
    "        image_paths: List of paths to images to be collated.\n",
    "        output_dir: Output directory Path for the collated images.\n",
    "        scale_factor: The scaling factor for the images (0.0 - 1.0).\n",
    "        suffix: added to the new output filename\n",
    "    \"\"\"\n",
    "    # Ensure output directory exists\n",
    "    output_dir.mkdir(parents=True, exist_ok=True)\n",
    "    \n",
    "    try:\n",
    "        background = cv2.imread(str(background_path))\n",
    "    except cv2.error as e:\n",
    "        print(f\"Error reading background image: {e}\")\n",
    "        return False\n",
    "\n",
    "    bg_height, bg_width, _ = background.shape\n",
    "\n",
    "    for image_path in image_paths:\n",
    "        print(f\"Collating {image_path} ...\")\n",
    "        try:\n",
    "            image = cv2.imread(str(image_path))\n",
    "        except cv2.error as e:\n",
    "            print(f\"Error reading image: {image_path}, {e}\")\n",
    "            continue  # Skip to the next image            \n",
    "\n",
    "        if image is None: \n",
    "            continue\n",
    "            \n",
    "        img_height, img_width, _ = image.shape\n",
    "\n",
    "        try:\n",
    "            # Determine the larger dimension and calculate new size based on scale factor\n",
    "            if img_width > img_height:\n",
    "                new_width = int(bg_width * scale_factor)\n",
    "                new_height = int(img_height * (new_width / img_width))\n",
    "            else:\n",
    "                new_height = int(bg_height * scale_factor)\n",
    "                new_width = int(img_width * (new_height / img_height))\n",
    "\n",
    "            # Resize image\n",
    "            resized_image = cv2.resize(image, (new_width, new_height))\n",
    "\n",
    "            # Create a mask for the image\n",
    "            mask = np.zeros_like(resized_image)\n",
    "            mask[0:new_height, 0:new_width] = 255\n",
    "\n",
    "            # Calculate position for placing the image on the background\n",
    "            x = (bg_width - new_width) // 2\n",
    "            y = (bg_height - new_height) // 2\n",
    "\n",
    "            # Create a copy of the background image\n",
    "            result = background.copy()\n",
    "\n",
    "            # Put the resized image on the background\n",
    "            result[y:y+new_height, x:x+new_width] = resized_image\n",
    "\n",
    "            # Save the resulting image\n",
    "            output_path = output_dir / (Path(image_path).stem + f\"-{suffix}\" + Path(image_path).suffix)\n",
    "            cv2.imwrite(str(output_path), result)\n",
    "            \n",
    "        except Exception as e:\n",
    "            print(f\"\\t[ERROR] Failed processing '{image_path}'\\n {e}\")\n",
    "            continue  # Skip to the next image    "
   ]
  },
  {
   "cell_type": "code",
   "execution_count": 3,
   "id": "16d5590b",
   "metadata": {},
   "outputs": [],
   "source": [
    "background_path = \"00-background-stary-universe.png\""
   ]
  },
  {
   "cell_type": "raw",
   "id": "43393166",
   "metadata": {},
   "source": [
    "!dir \"00-background-stary-universe.png\""
   ]
  },
  {
   "cell_type": "code",
   "execution_count": 4,
   "id": "2b8c49c2",
   "metadata": {},
   "outputs": [],
   "source": [
    "ROOT_DIR = \"1-A-Brilliant-Mind\""
   ]
  },
  {
   "cell_type": "code",
   "execution_count": 5,
   "id": "69be8326",
   "metadata": {},
   "outputs": [],
   "source": [
    "source_images = glob(f\"{ROOT_DIR}/*\")"
   ]
  },
  {
   "cell_type": "code",
   "execution_count": 6,
   "id": "f947327c",
   "metadata": {
    "scrolled": true
   },
   "outputs": [
    {
     "data": {
      "text/plain": [
       "['1-A-Brilliant-Mind\\\\00-I-A-Brilliant-Mind.png',\n",
       " '1-A-Brilliant-Mind\\\\01-1-uewb_06_img0421.jpg',\n",
       " '1-A-Brilliant-Mind\\\\01-2-fermi.png',\n",
       " '1-A-Brilliant-Mind\\\\02-fermi-td-lee-at-uchicago-bgd.png',\n",
       " '1-A-Brilliant-Mind\\\\03-in-chicago.png',\n",
       " '1-A-Brilliant-Mind\\\\04-1-td-lee-011.jpeg',\n",
       " '1-A-Brilliant-Mind\\\\04-2-NPG-NPG_98_112.jpg',\n",
       " '1-A-Brilliant-Mind\\\\05-lee-yang-ias-collabs-bgd.png',\n",
       " '1-A-Brilliant-Mind\\\\05-T.D. Lee-IAS-edu-cropped.png',\n",
       " '1-A-Brilliant-Mind\\\\06-lee-yang-niels-bohr.jpeg',\n",
       " '1-A-Brilliant-Mind\\\\07-1-td-lee-at-columbia-univ-cropped.png',\n",
       " '1-A-Brilliant-Mind\\\\07-2-parity-violation-paper.png',\n",
       " '1-A-Brilliant-Mind\\\\07-3-td-lee-at-work-cropped.png',\n",
       " '1-A-Brilliant-Mind\\\\08-01-cs-wu-td-lee.png',\n",
       " '1-A-Brilliant-Mind\\\\08-2-Bruno-Touschek-T-D-Lee-and-Wolfgang-Pauli-in-September-1957-On-the-right-Touscheks-bgd.png',\n",
       " '1-A-Brilliant-Mind\\\\09-1-Nobel_Prize_in_Physics-bgd.png',\n",
       " '1-A-Brilliant-Mind\\\\09-2-where-is-your-father-cropped.png',\n",
       " '1-A-Brilliant-Mind\\\\09-3-1957-lee-nobel-prize.png',\n",
       " '1-A-Brilliant-Mind\\\\09-4-lee-yang-nobel-prize.png',\n",
       " '1-A-Brilliant-Mind\\\\10-0-h4120174-800px-wm-cern.jpg',\n",
       " '1-A-Brilliant-Mind\\\\10-1-td-lee-with-other-great-physicists-4-cropped.png',\n",
       " '1-A-Brilliant-Mind\\\\10-2-td-lee-conference-cropped.png',\n",
       " '1-A-Brilliant-Mind\\\\10-3-td-lee-with-other-great-physicists-1-cropped.png',\n",
       " '1-A-Brilliant-Mind\\\\10-4-td-lee-with-other-great-physicists-2-cropped.png',\n",
       " '1-A-Brilliant-Mind\\\\11-1-1994-td-lee-columbia.png',\n",
       " '1-A-Brilliant-Mind\\\\11-2-td-lee-with-other-great-physicists-3-cropped.png',\n",
       " '1-A-Brilliant-Mind\\\\11-3-lee_lederman_schwartz_steinberger_ting_photo.jpg',\n",
       " '1-A-Brilliant-Mind\\\\11-4-td-lee-with-other-great-physicists-7-cropped.png',\n",
       " '1-A-Brilliant-Mind\\\\11-5-td-lee-with-other-great-physicists-6-cropped.png',\n",
       " '1-A-Brilliant-Mind\\\\13-td-lee-lectures-physics-in-china-1979.png',\n",
       " '1-A-Brilliant-Mind\\\\14-TDLee-office-ColumbiaU.jpg',\n",
       " '1-A-Brilliant-Mind\\\\15-td-lee-with-other-great-physicists-5-cropped.png',\n",
       " '1-A-Brilliant-Mind\\\\16-td-lee-010.jpg',\n",
       " '1-A-Brilliant-Mind\\\\17-1-TD-Lee-at-CERN-small.jpg',\n",
       " '1-A-Brilliant-Mind\\\\17-2-td-lee-at-cern-cropped.png',\n",
       " '1-A-Brilliant-Mind\\\\17-3-td-lee-cern-talk-cropped.png',\n",
       " '1-A-Brilliant-Mind\\\\18-TD-Lee-CERN-interview.png',\n",
       " '1-A-Brilliant-Mind\\\\19-TD-Lee-nobel-prize-interview.png',\n",
       " '1-A-Brilliant-Mind\\\\archive',\n",
       " '1-A-Brilliant-Mind\\\\collated',\n",
       " '1-A-Brilliant-Mind\\\\lee-yang-ias-collab',\n",
       " \"1-A-Brilliant-Mind\\\\T.D. Lee's view on neutrinos. [0pn5PCAFVv8].webm\"]"
      ]
     },
     "execution_count": 6,
     "metadata": {},
     "output_type": "execute_result"
    }
   ],
   "source": [
    "source_images"
   ]
  },
  {
   "cell_type": "code",
   "execution_count": 13,
   "id": "5347ea33",
   "metadata": {},
   "outputs": [],
   "source": [
    "excluded_images = [\n",
    "    '00-I-A-Brilliant-Mind.png',\n",
    "    'archive',\n",
    "    'collated',\n",
    "     'lee-yang-ias-collab',\n",
    "     \"T.D. Lee's view on neutrinos. [0pn5PCAFVv8].webm\",\n",
    "]\n",
    "excluded_images = [f\"{ROOT_DIR}\\\\{x}\" for x in excluded_images]"
   ]
  },
  {
   "cell_type": "code",
   "execution_count": 14,
   "id": "e6da671d",
   "metadata": {},
   "outputs": [
    {
     "data": {
      "text/plain": [
       "['1-A-Brilliant-Mind\\\\00-I-A-Brilliant-Mind.png',\n",
       " '1-A-Brilliant-Mind\\\\archive',\n",
       " '1-A-Brilliant-Mind\\\\collated',\n",
       " '1-A-Brilliant-Mind\\\\lee-yang-ias-collab',\n",
       " \"1-A-Brilliant-Mind\\\\T.D. Lee's view on neutrinos. [0pn5PCAFVv8].webm\"]"
      ]
     },
     "execution_count": 14,
     "metadata": {},
     "output_type": "execute_result"
    }
   ],
   "source": [
    "excluded_images"
   ]
  },
  {
   "cell_type": "code",
   "execution_count": 15,
   "id": "32419ce7",
   "metadata": {},
   "outputs": [],
   "source": [
    "image_paths = [x for x in source_images if x not in excluded_images and \"-bgd\" not in x]"
   ]
  },
  {
   "cell_type": "code",
   "execution_count": 16,
   "id": "c7f89dbe",
   "metadata": {
    "scrolled": true
   },
   "outputs": [
    {
     "data": {
      "text/plain": [
       "['1-A-Brilliant-Mind\\\\01-1-uewb_06_img0421.jpg',\n",
       " '1-A-Brilliant-Mind\\\\01-2-fermi.png',\n",
       " '1-A-Brilliant-Mind\\\\03-in-chicago.png',\n",
       " '1-A-Brilliant-Mind\\\\04-1-td-lee-011.jpeg',\n",
       " '1-A-Brilliant-Mind\\\\04-2-NPG-NPG_98_112.jpg',\n",
       " '1-A-Brilliant-Mind\\\\05-T.D. Lee-IAS-edu-cropped.png',\n",
       " '1-A-Brilliant-Mind\\\\06-lee-yang-niels-bohr.jpeg',\n",
       " '1-A-Brilliant-Mind\\\\07-1-td-lee-at-columbia-univ-cropped.png',\n",
       " '1-A-Brilliant-Mind\\\\07-2-parity-violation-paper.png',\n",
       " '1-A-Brilliant-Mind\\\\07-3-td-lee-at-work-cropped.png',\n",
       " '1-A-Brilliant-Mind\\\\08-01-cs-wu-td-lee.png',\n",
       " '1-A-Brilliant-Mind\\\\09-2-where-is-your-father-cropped.png',\n",
       " '1-A-Brilliant-Mind\\\\09-3-1957-lee-nobel-prize.png',\n",
       " '1-A-Brilliant-Mind\\\\09-4-lee-yang-nobel-prize.png',\n",
       " '1-A-Brilliant-Mind\\\\10-0-h4120174-800px-wm-cern.jpg',\n",
       " '1-A-Brilliant-Mind\\\\10-1-td-lee-with-other-great-physicists-4-cropped.png',\n",
       " '1-A-Brilliant-Mind\\\\10-2-td-lee-conference-cropped.png',\n",
       " '1-A-Brilliant-Mind\\\\10-3-td-lee-with-other-great-physicists-1-cropped.png',\n",
       " '1-A-Brilliant-Mind\\\\10-4-td-lee-with-other-great-physicists-2-cropped.png',\n",
       " '1-A-Brilliant-Mind\\\\11-1-1994-td-lee-columbia.png',\n",
       " '1-A-Brilliant-Mind\\\\11-2-td-lee-with-other-great-physicists-3-cropped.png',\n",
       " '1-A-Brilliant-Mind\\\\11-3-lee_lederman_schwartz_steinberger_ting_photo.jpg',\n",
       " '1-A-Brilliant-Mind\\\\11-4-td-lee-with-other-great-physicists-7-cropped.png',\n",
       " '1-A-Brilliant-Mind\\\\11-5-td-lee-with-other-great-physicists-6-cropped.png',\n",
       " '1-A-Brilliant-Mind\\\\13-td-lee-lectures-physics-in-china-1979.png',\n",
       " '1-A-Brilliant-Mind\\\\14-TDLee-office-ColumbiaU.jpg',\n",
       " '1-A-Brilliant-Mind\\\\15-td-lee-with-other-great-physicists-5-cropped.png',\n",
       " '1-A-Brilliant-Mind\\\\16-td-lee-010.jpg',\n",
       " '1-A-Brilliant-Mind\\\\17-1-TD-Lee-at-CERN-small.jpg',\n",
       " '1-A-Brilliant-Mind\\\\17-2-td-lee-at-cern-cropped.png',\n",
       " '1-A-Brilliant-Mind\\\\17-3-td-lee-cern-talk-cropped.png',\n",
       " '1-A-Brilliant-Mind\\\\18-TD-Lee-CERN-interview.png',\n",
       " '1-A-Brilliant-Mind\\\\19-TD-Lee-nobel-prize-interview.png']"
      ]
     },
     "execution_count": 16,
     "metadata": {},
     "output_type": "execute_result"
    }
   ],
   "source": [
    "image_paths"
   ]
  },
  {
   "cell_type": "code",
   "execution_count": 17,
   "id": "24e9fc1f",
   "metadata": {},
   "outputs": [
    {
     "name": "stdout",
     "output_type": "stream",
     "text": [
      "Collating 1-A-Brilliant-Mind\\01-1-uewb_06_img0421.jpg ...\n",
      "Collating 1-A-Brilliant-Mind\\01-2-fermi.png ...\n",
      "Collating 1-A-Brilliant-Mind\\03-in-chicago.png ...\n",
      "Collating 1-A-Brilliant-Mind\\04-1-td-lee-011.jpeg ...\n",
      "Collating 1-A-Brilliant-Mind\\04-2-NPG-NPG_98_112.jpg ...\n",
      "Collating 1-A-Brilliant-Mind\\05-T.D. Lee-IAS-edu-cropped.png ...\n",
      "Collating 1-A-Brilliant-Mind\\06-lee-yang-niels-bohr.jpeg ...\n",
      "Collating 1-A-Brilliant-Mind\\07-1-td-lee-at-columbia-univ-cropped.png ...\n",
      "Collating 1-A-Brilliant-Mind\\07-2-parity-violation-paper.png ...\n",
      "Collating 1-A-Brilliant-Mind\\07-3-td-lee-at-work-cropped.png ...\n",
      "Collating 1-A-Brilliant-Mind\\08-01-cs-wu-td-lee.png ...\n",
      "Collating 1-A-Brilliant-Mind\\09-2-where-is-your-father-cropped.png ...\n",
      "Collating 1-A-Brilliant-Mind\\09-3-1957-lee-nobel-prize.png ...\n",
      "Collating 1-A-Brilliant-Mind\\09-4-lee-yang-nobel-prize.png ...\n",
      "Collating 1-A-Brilliant-Mind\\10-0-h4120174-800px-wm-cern.jpg ...\n",
      "Collating 1-A-Brilliant-Mind\\10-1-td-lee-with-other-great-physicists-4-cropped.png ...\n",
      "Collating 1-A-Brilliant-Mind\\10-2-td-lee-conference-cropped.png ...\n",
      "Collating 1-A-Brilliant-Mind\\10-3-td-lee-with-other-great-physicists-1-cropped.png ...\n",
      "\t[ERROR] Failed processing '1-A-Brilliant-Mind\\10-3-td-lee-with-other-great-physicists-1-cropped.png'\n",
      " could not broadcast input array from shape (1473,1744,3) into shape (1,1744,3)\n",
      "Collating 1-A-Brilliant-Mind\\10-4-td-lee-with-other-great-physicists-2-cropped.png ...\n",
      "Collating 1-A-Brilliant-Mind\\11-1-1994-td-lee-columbia.png ...\n",
      "Collating 1-A-Brilliant-Mind\\11-2-td-lee-with-other-great-physicists-3-cropped.png ...\n",
      "Collating 1-A-Brilliant-Mind\\11-3-lee_lederman_schwartz_steinberger_ting_photo.jpg ...\n",
      "Collating 1-A-Brilliant-Mind\\11-4-td-lee-with-other-great-physicists-7-cropped.png ...\n",
      "Collating 1-A-Brilliant-Mind\\11-5-td-lee-with-other-great-physicists-6-cropped.png ...\n",
      "Collating 1-A-Brilliant-Mind\\13-td-lee-lectures-physics-in-china-1979.png ...\n",
      "Collating 1-A-Brilliant-Mind\\14-TDLee-office-ColumbiaU.jpg ...\n",
      "Collating 1-A-Brilliant-Mind\\15-td-lee-with-other-great-physicists-5-cropped.png ...\n",
      "Collating 1-A-Brilliant-Mind\\16-td-lee-010.jpg ...\n",
      "Collating 1-A-Brilliant-Mind\\17-1-TD-Lee-at-CERN-small.jpg ...\n",
      "Collating 1-A-Brilliant-Mind\\17-2-td-lee-at-cern-cropped.png ...\n",
      "Collating 1-A-Brilliant-Mind\\17-3-td-lee-cern-talk-cropped.png ...\n",
      "Collating 1-A-Brilliant-Mind\\18-TD-Lee-CERN-interview.png ...\n",
      "Collating 1-A-Brilliant-Mind\\19-TD-Lee-nobel-prize-interview.png ...\n"
     ]
    }
   ],
   "source": [
    "collate_images(Path(background_path), image_paths, output_dir=Path(f\"{ROOT_DIR}/collated\"))"
   ]
  },
  {
   "cell_type": "code",
   "execution_count": null,
   "id": "0ceec687",
   "metadata": {},
   "outputs": [],
   "source": []
  }
 ],
 "metadata": {
  "kernelspec": {
   "display_name": "Python 3 (ipykernel)",
   "language": "python",
   "name": "python3"
  },
  "language_info": {
   "codemirror_mode": {
    "name": "ipython",
    "version": 3
   },
   "file_extension": ".py",
   "mimetype": "text/x-python",
   "name": "python",
   "nbconvert_exporter": "python",
   "pygments_lexer": "ipython3",
   "version": "3.9.13"
  },
  "nbTranslate": {
   "displayLangs": [
    "*"
   ],
   "hotkey": "alt-t",
   "langInMainMenu": true,
   "sourceLang": "en",
   "targetLang": "fr",
   "useGoogleTranslate": true
  },
  "toc": {
   "base_numbering": 1,
   "nav_menu": {},
   "number_sections": true,
   "sideBar": true,
   "skip_h1_title": false,
   "title_cell": "Table of Contents",
   "title_sidebar": "Contents",
   "toc_cell": false,
   "toc_position": {},
   "toc_section_display": true,
   "toc_window_display": false
  }
 },
 "nbformat": 4,
 "nbformat_minor": 5
}
