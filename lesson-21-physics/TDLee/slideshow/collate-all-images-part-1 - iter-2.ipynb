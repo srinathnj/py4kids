{
 "cells": [
  {
   "cell_type": "code",
   "execution_count": 1,
   "id": "aeb49fa0",
   "metadata": {},
   "outputs": [],
   "source": [
    "\"\"\"\n",
    "pip install opencv-python  # required for cv2\n",
    "\"\"\"\n",
    "\n",
    "import cv2\n",
    "import numpy as np\n",
    "from pathlib import Path\n",
    "from glob import glob"
   ]
  },
  {
   "cell_type": "code",
   "execution_count": 2,
   "id": "237b7dd1",
   "metadata": {},
   "outputs": [],
   "source": [
    "def collate_images(background_path, image_paths, output_dir=Path(\"output\"), scale_factor=0.8, prefix=\"\", suffix=\"bgd\"):\n",
    "    \"\"\"\n",
    "    Collates images with a background, preserving aspect ratio and using a fixed scale factor.\n",
    "\n",
    "    Args:\n",
    "        background_path: Path to the background image.\n",
    "        image_paths: List of paths to images to be collated.\n",
    "        output_dir: Output directory Path for the collated images.\n",
    "        scale_factor: The scaling factor for the images (0.0 - 1.0).\n",
    "        suffix: added to the new output filename\n",
    "    \"\"\"\n",
    "    # Ensure output directory exists\n",
    "    output_dir.mkdir(parents=True, exist_ok=True)\n",
    "    \n",
    "    try:\n",
    "        background = cv2.imread(str(background_path))\n",
    "    except cv2.error as e:\n",
    "        print(f\"Error reading background image: {e}\")\n",
    "        return False\n",
    "\n",
    "    bg_height, bg_width, _ = background.shape\n",
    "\n",
    "    ok_images = 0\n",
    "    for image_path in image_paths:\n",
    "        print(f\"Collating {image_path} ...\")\n",
    "        try:\n",
    "            image = cv2.imread(str(image_path))\n",
    "        except cv2.error as e:\n",
    "            print(f\"Error reading image: {image_path}, {e}\")\n",
    "            continue  # Skip to the next image            \n",
    "\n",
    "        if image is None: \n",
    "            continue\n",
    "            \n",
    "        img_height, img_width, _ = image.shape\n",
    "\n",
    "        try:\n",
    "            # Determine the larger dimension and calculate new size based on scale factor\n",
    "            if img_width > img_height:\n",
    "                new_width = int(bg_width * scale_factor)\n",
    "                new_height = int(img_height * (new_width / img_width))\n",
    "            else:\n",
    "                new_height = int(bg_height * scale_factor)\n",
    "                new_width = int(img_width * (new_height / img_height))\n",
    "\n",
    "            # Resize image\n",
    "            resized_image = cv2.resize(image, (new_width, new_height))\n",
    "\n",
    "            # Create a mask for the image\n",
    "            mask = np.zeros_like(resized_image)\n",
    "            mask[0:new_height, 0:new_width] = 255\n",
    "\n",
    "            # Calculate position for placing the image on the background\n",
    "            x = (bg_width - new_width) // 2\n",
    "            y = (bg_height - new_height) // 2\n",
    "\n",
    "            # Create a copy of the background image\n",
    "            result = background.copy()\n",
    "\n",
    "            # Put the resized image on the background\n",
    "            result[y:y+new_height, x:x+new_width] = resized_image\n",
    "\n",
    "            # Save the resulting image\n",
    "            if prefix:\n",
    "                new_filename = f\"{prefix}__\" + Path(image_path).stem + f\"-{suffix}\" + Path(image_path).suffix\n",
    "            else:\n",
    "                new_filename = Path(image_path).stem + f\"-{suffix}\" + Path(image_path).suffix\n",
    "            output_path = output_dir / Path(new_filename)\n",
    "            print(f\"\\tOutput file: {output_path}\")\n",
    "            cv2.imwrite(str(output_path), result)\n",
    "            ok_images += 1\n",
    "        except Exception as e:\n",
    "            print(f\"\\t[ERROR] Failed processing '{image_path}'\\n {e}\")\n",
    "            continue  # Skip to the next image    \n",
    "            \n",
    "    return len(image_paths), ok_images"
   ]
  },
  {
   "cell_type": "code",
   "execution_count": 3,
   "id": "b64210ff",
   "metadata": {},
   "outputs": [],
   "source": [
    "background_path = \"00-background-stary-universe.png\""
   ]
  },
  {
   "cell_type": "raw",
   "id": "57d1aa7c",
   "metadata": {},
   "source": [
    "!dir \"00-background-stary-universe.png\""
   ]
  },
  {
   "cell_type": "code",
   "execution_count": 4,
   "id": "e8f33ff3",
   "metadata": {},
   "outputs": [],
   "source": [
    "ROOT_DIR = \"1-A-Brilliant-Mind\"\n",
    "ITER_DIR = \"iter-2\""
   ]
  },
  {
   "cell_type": "code",
   "execution_count": 5,
   "id": "60d560e1",
   "metadata": {},
   "outputs": [
    {
     "name": "stdout",
     "output_type": "stream",
     "text": [
      "Collating 1-A-Brilliant-Mind/original\\01-1-uewb_06_img0421.jpg ...\n",
      "\tOutput file: 1-A-Brilliant-Mind\\iter-2\\01-1-uewb_06_img0421-bgd.jpg\n",
      "Collating 1-A-Brilliant-Mind/original\\01-2-fermi.png ...\n",
      "\tOutput file: 1-A-Brilliant-Mind\\iter-2\\01-2-fermi-bgd.png\n",
      "Collating 1-A-Brilliant-Mind/original\\03-in-chicago.png ...\n",
      "\tOutput file: 1-A-Brilliant-Mind\\iter-2\\03-in-chicago-bgd.png\n",
      "Collating 1-A-Brilliant-Mind/original\\04-1-td-lee-011.jpeg ...\n",
      "\tOutput file: 1-A-Brilliant-Mind\\iter-2\\04-1-td-lee-011-bgd.jpeg\n",
      "Collating 1-A-Brilliant-Mind/original\\04-2-NPG-NPG_98_112.jpg ...\n",
      "\tOutput file: 1-A-Brilliant-Mind\\iter-2\\04-2-NPG-NPG_98_112-bgd.jpg\n",
      "Collating 1-A-Brilliant-Mind/original\\05-T.D. Lee-IAS-edu-cropped.png ...\n",
      "\tOutput file: 1-A-Brilliant-Mind\\iter-2\\05-T.D. Lee-IAS-edu-cropped-bgd.png\n",
      "Collating 1-A-Brilliant-Mind/original\\06-lee-yang-niels-bohr.jpeg ...\n",
      "\tOutput file: 1-A-Brilliant-Mind\\iter-2\\06-lee-yang-niels-bohr-bgd.jpeg\n",
      "Collating 1-A-Brilliant-Mind/original\\07-1-td-lee-at-columbia-univ-cropped.png ...\n",
      "\tOutput file: 1-A-Brilliant-Mind\\iter-2\\07-1-td-lee-at-columbia-univ-cropped-bgd.png\n",
      "Collating 1-A-Brilliant-Mind/original\\07-2-parity-violation-paper.png ...\n",
      "\tOutput file: 1-A-Brilliant-Mind\\iter-2\\07-2-parity-violation-paper-bgd.png\n",
      "Collating 1-A-Brilliant-Mind/original\\07-3-td-lee-at-work-cropped.png ...\n",
      "\tOutput file: 1-A-Brilliant-Mind\\iter-2\\07-3-td-lee-at-work-cropped-bgd.png\n",
      "Collating 1-A-Brilliant-Mind/original\\08-01-cs-wu-td-lee.png ...\n",
      "\tOutput file: 1-A-Brilliant-Mind\\iter-2\\08-01-cs-wu-td-lee-bgd.png\n",
      "Collating 1-A-Brilliant-Mind/original\\09-2-where-is-your-father-cropped.png ...\n",
      "\tOutput file: 1-A-Brilliant-Mind\\iter-2\\09-2-where-is-your-father-cropped-bgd.png\n",
      "Collating 1-A-Brilliant-Mind/original\\09-3-1957-lee-nobel-prize.png ...\n",
      "\tOutput file: 1-A-Brilliant-Mind\\iter-2\\09-3-1957-lee-nobel-prize-bgd.png\n",
      "Collating 1-A-Brilliant-Mind/original\\09-4-lee-yang-nobel-prize.png ...\n",
      "\tOutput file: 1-A-Brilliant-Mind\\iter-2\\09-4-lee-yang-nobel-prize-bgd.png\n",
      "Collating 1-A-Brilliant-Mind/original\\10-0-h4120174-800px-wm-cern.jpg ...\n",
      "\tOutput file: 1-A-Brilliant-Mind\\iter-2\\10-0-h4120174-800px-wm-cern-bgd.jpg\n",
      "Collating 1-A-Brilliant-Mind/original\\10-1-td-lee-with-other-great-physicists-4-cropped.png ...\n",
      "\tOutput file: 1-A-Brilliant-Mind\\iter-2\\10-1-td-lee-with-other-great-physicists-4-cropped-bgd.png\n",
      "Collating 1-A-Brilliant-Mind/original\\10-2-td-lee-conference-cropped.png ...\n",
      "\tOutput file: 1-A-Brilliant-Mind\\iter-2\\10-2-td-lee-conference-cropped-bgd.png\n",
      "Collating 1-A-Brilliant-Mind/original\\10-3-td-lee-with-other-great-physicists-1-cropped.png ...\n",
      "\t[ERROR] Failed processing '1-A-Brilliant-Mind/original\\10-3-td-lee-with-other-great-physicists-1-cropped.png'\n",
      " could not broadcast input array from shape (1447,1714,3) into shape (9,1714,3)\n",
      "Collating 1-A-Brilliant-Mind/original\\10-4-td-lee-with-other-great-physicists-2-cropped.png ...\n",
      "\tOutput file: 1-A-Brilliant-Mind\\iter-2\\10-4-td-lee-with-other-great-physicists-2-cropped-bgd.png\n",
      "Collating 1-A-Brilliant-Mind/original\\11-1-1994-td-lee-columbia.png ...\n",
      "\tOutput file: 1-A-Brilliant-Mind\\iter-2\\11-1-1994-td-lee-columbia-bgd.png\n",
      "Collating 1-A-Brilliant-Mind/original\\11-2-td-lee-with-other-great-physicists-3-cropped.png ...\n",
      "\tOutput file: 1-A-Brilliant-Mind\\iter-2\\11-2-td-lee-with-other-great-physicists-3-cropped-bgd.png\n",
      "Collating 1-A-Brilliant-Mind/original\\11-3-lee_lederman_schwartz_steinberger_ting_photo.jpg ...\n",
      "\tOutput file: 1-A-Brilliant-Mind\\iter-2\\11-3-lee_lederman_schwartz_steinberger_ting_photo-bgd.jpg\n",
      "Collating 1-A-Brilliant-Mind/original\\11-4-td-lee-with-other-great-physicists-7-cropped.png ...\n",
      "\tOutput file: 1-A-Brilliant-Mind\\iter-2\\11-4-td-lee-with-other-great-physicists-7-cropped-bgd.png\n",
      "Collating 1-A-Brilliant-Mind/original\\11-5-td-lee-with-other-great-physicists-6-cropped.png ...\n",
      "\tOutput file: 1-A-Brilliant-Mind\\iter-2\\11-5-td-lee-with-other-great-physicists-6-cropped-bgd.png\n",
      "Collating 1-A-Brilliant-Mind/original\\13-td-lee-lectures-physics-in-china-1979.png ...\n",
      "\tOutput file: 1-A-Brilliant-Mind\\iter-2\\13-td-lee-lectures-physics-in-china-1979-bgd.png\n",
      "Collating 1-A-Brilliant-Mind/original\\14-TDLee-office-ColumbiaU.jpg ...\n",
      "\tOutput file: 1-A-Brilliant-Mind\\iter-2\\14-TDLee-office-ColumbiaU-bgd.jpg\n",
      "Collating 1-A-Brilliant-Mind/original\\15-td-lee-with-other-great-physicists-5-cropped.png ...\n",
      "\tOutput file: 1-A-Brilliant-Mind\\iter-2\\15-td-lee-with-other-great-physicists-5-cropped-bgd.png\n",
      "Collating 1-A-Brilliant-Mind/original\\16-td-lee-010.jpg ...\n",
      "\tOutput file: 1-A-Brilliant-Mind\\iter-2\\16-td-lee-010-bgd.jpg\n",
      "Collating 1-A-Brilliant-Mind/original\\17-1-TD-Lee-at-CERN-small.jpg ...\n",
      "\tOutput file: 1-A-Brilliant-Mind\\iter-2\\17-1-TD-Lee-at-CERN-small-bgd.jpg\n",
      "Collating 1-A-Brilliant-Mind/original\\17-2-td-lee-at-cern-cropped.png ...\n",
      "\tOutput file: 1-A-Brilliant-Mind\\iter-2\\17-2-td-lee-at-cern-cropped-bgd.png\n",
      "Collating 1-A-Brilliant-Mind/original\\17-3-td-lee-cern-talk-cropped.png ...\n",
      "\tOutput file: 1-A-Brilliant-Mind\\iter-2\\17-3-td-lee-cern-talk-cropped-bgd.png\n",
      "Collating 1-A-Brilliant-Mind/original\\18-TD-Lee-CERN-interview.png ...\n",
      "\tOutput file: 1-A-Brilliant-Mind\\iter-2\\18-TD-Lee-CERN-interview-bgd.png\n",
      "Collating 1-A-Brilliant-Mind/original\\19-TD-Lee-nobel-prize-interview.png ...\n",
      "\tOutput file: 1-A-Brilliant-Mind\\iter-2\\19-TD-Lee-nobel-prize-interview-bgd.png\n",
      "input_images, total_images, ok_images = 33, 33, 32\n"
     ]
    }
   ],
   "source": [
    "source_images = glob(f\"{ROOT_DIR}/original/*\")\n",
    "image_paths = [x for x in source_images if \"-bgd\" not in x]\n",
    "total_images, ok_images = collate_images(Path(background_path), image_paths, output_dir=Path(f\"{ROOT_DIR}/{ITER_DIR}\"))\n",
    "print(f\"input_images, total_images, ok_images = {len(source_images)}, {total_images}, {ok_images}\")"
   ]
  },
  {
   "cell_type": "markdown",
   "id": "96b7ddcc",
   "metadata": {},
   "source": [
    "### Compare iter-2 vs iter-1"
   ]
  },
  {
   "cell_type": "code",
   "execution_count": 20,
   "id": "aec6704e",
   "metadata": {},
   "outputs": [
    {
     "data": {
      "text/plain": [
       "(40, 40)"
      ]
     },
     "execution_count": 20,
     "metadata": {},
     "output_type": "execute_result"
    }
   ],
   "source": [
    "iter1_images = glob(f\"{ROOT_DIR}/iter-1/*\")\n",
    "iter2_images = glob(f\"{ROOT_DIR}/iter-2/*\")\n",
    "len(iter1_images), len(iter2_images)"
   ]
  },
  {
   "cell_type": "code",
   "execution_count": 21,
   "id": "33b06d2a",
   "metadata": {},
   "outputs": [
    {
     "data": {
      "text/plain": [
       "set()"
      ]
     },
     "execution_count": 21,
     "metadata": {},
     "output_type": "execute_result"
    }
   ],
   "source": [
    "set([x.replace(\"/iter-1\", \"\") for x in iter1_images]).difference(set([x.replace(\"/iter-2\", \"\") for x in iter2_images]))"
   ]
  },
  {
   "cell_type": "code",
   "execution_count": 22,
   "id": "a8408ee1",
   "metadata": {},
   "outputs": [
    {
     "data": {
      "text/plain": [
       "set()"
      ]
     },
     "execution_count": 22,
     "metadata": {},
     "output_type": "execute_result"
    }
   ],
   "source": [
    "set([x.replace(\"/iter-2\", \"\") for x in iter2_images]).difference(set([x.replace(\"/iter-1\", \"\") for x in iter1_images]))"
   ]
  },
  {
   "cell_type": "code",
   "execution_count": null,
   "id": "5716682f",
   "metadata": {},
   "outputs": [],
   "source": []
  }
 ],
 "metadata": {
  "kernelspec": {
   "display_name": "Python 3 (ipykernel)",
   "language": "python",
   "name": "python3"
  },
  "language_info": {
   "codemirror_mode": {
    "name": "ipython",
    "version": 3
   },
   "file_extension": ".py",
   "mimetype": "text/x-python",
   "name": "python",
   "nbconvert_exporter": "python",
   "pygments_lexer": "ipython3",
   "version": "3.9.13"
  },
  "nbTranslate": {
   "displayLangs": [
    "*"
   ],
   "hotkey": "alt-t",
   "langInMainMenu": true,
   "sourceLang": "en",
   "targetLang": "fr",
   "useGoogleTranslate": true
  },
  "toc": {
   "base_numbering": 1,
   "nav_menu": {},
   "number_sections": true,
   "sideBar": true,
   "skip_h1_title": false,
   "title_cell": "Table of Contents",
   "title_sidebar": "Contents",
   "toc_cell": false,
   "toc_position": {},
   "toc_section_display": true,
   "toc_window_display": false
  }
 },
 "nbformat": 4,
 "nbformat_minor": 5
}
