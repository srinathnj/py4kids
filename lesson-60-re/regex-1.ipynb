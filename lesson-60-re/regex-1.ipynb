{
 "cells": [
  {
   "cell_type": "code",
   "execution_count": 1,
   "metadata": {},
   "outputs": [],
   "source": [
    "import re"
   ]
  },
  {
   "cell_type": "markdown",
   "metadata": {},
   "source": [
    "### match"
   ]
  },
  {
   "cell_type": "code",
   "execution_count": 2,
   "metadata": {},
   "outputs": [
    {
     "name": "stdout",
     "output_type": "stream",
     "text": [
      "No match was found\n"
     ]
    }
   ],
   "source": [
    "line = \"I think I understand regular expressions\"\n",
    "\n",
    "matchResult = re.match('think', line, re.M|re.I)\n",
    "if matchResult:\n",
    "   print(\"Match Found: \" + matchResult.group())\n",
    "else:\n",
    "   print(\"No match was found\")\n"
   ]
  },
  {
   "cell_type": "code",
   "execution_count": 3,
   "metadata": {},
   "outputs": [
    {
     "name": "stdout",
     "output_type": "stream",
     "text": [
      "Match Found: I think I understand regular expressions\n",
      "Match Found: I think I understand regular expressions\n",
      "Match Found: I \n",
      "Match Found:  I understand regular expressions\n"
     ]
    }
   ],
   "source": [
    "matchResult = re.match(r'(.*)think(.*)', line, re.M|re.I)\n",
    "if matchResult:\n",
    "   print(\"Match Found: \" + matchResult.group())\n",
    "   print(\"Match Found: \" + matchResult.group(0))\n",
    "   print(\"Match Found: \" + matchResult.group(1))\n",
    "   print(\"Match Found: \" + matchResult.group(2))\n",
    "else:\n",
    "   print(\"No match was found\")"
   ]
  },
  {
   "cell_type": "markdown",
   "metadata": {},
   "source": [
    "### search"
   ]
  },
  {
   "cell_type": "code",
   "execution_count": 4,
   "metadata": {},
   "outputs": [
    {
     "name": "stdout",
     "output_type": "stream",
     "text": [
      "Search Found: think\n"
     ]
    }
   ],
   "source": [
    "searchResult = re.search('Think', line, re.M|re.I)\n",
    "if searchResult:\n",
    "   print(\"Search Found: \"+searchResult.group())\n",
    "else:\n",
    "   print(\"Nothing found in search\")"
   ]
  },
  {
   "cell_type": "markdown",
   "metadata": {},
   "source": [
    "### parse weblog\n",
    "\n",
    "https://www.cloudera.com/developers/get-started-with-hadoop-tutorial/exercise-2.html\n",
    "```\n",
    "CREATE EXTERNAL TABLE intermediate_access_logs (\n",
    "    ip STRING,\n",
    "    date STRING,\n",
    "    method STRING,\n",
    "    url STRING,\n",
    "    http_version STRING,\n",
    "    code1 STRING,\n",
    "    code2 STRING,\n",
    "    dash STRING,\n",
    "    user_agent STRING)\n",
    "ROW FORMAT SERDE 'org.apache.hadoop.hive.contrib.serde2.RegexSerDe'\n",
    "WITH SERDEPROPERTIES (\n",
    "    'input.regex' = '([^ ]*) - - \\\\[([^\\\\]]*)\\\\] \"([^\\ ]*) ([^\\ ]*) ([^\\ ]*)\" (\\\\d*) (\\\\d*) \"([^\"]*)\" \"([^\"]*)\"',\n",
    "    'output.format.string' = \"%1$$s %2$$s %3$$s %4$$s %5$$s %6$$s %7$$s %8$$s %9$$s\")\n",
    "LOCATION '/user/hive/warehouse/original_access_logs';\n",
    "```"
   ]
  },
  {
   "cell_type": "code",
   "execution_count": 7,
   "metadata": {},
   "outputs": [],
   "source": [
    "web_log = 'local - - [24/Oct/1994:14:41:24 -0600] \"GET 36.html HTTP/1.0\" 200 822'\n",
    "rex = r'(\\w+) - - \\[([^\\]]*)\\] \"(\\w+) (.*) (.*)\" (\\d+) (\\d+)'"
   ]
  },
  {
   "cell_type": "code",
   "execution_count": 23,
   "metadata": {},
   "outputs": [
    {
     "name": "stdout",
     "output_type": "stream",
     "text": [
      "Match Found: local - - [24/Oct/1994:14:41:24 -0600] \"GET 36.html HTTP/1.0\" 200 822\n",
      "  source: local\n",
      "  datetime: 24/Oct/1994:14:41:24 -0600\n",
      "  req verb: GET\n",
      "  req path: 36.html\n",
      "  req proto: HTTP/1.0\n",
      "  status: 200\n",
      "  bytes: 822\n"
     ]
    }
   ],
   "source": [
    "matchResult = re.match(rex, web_log, re.M|re.I)\n",
    "if matchResult:\n",
    "    print(\"Match Found: \" + matchResult.group(0))\n",
    "    print(\"  source: \" + matchResult.group(1))\n",
    "    print(\"  datetime: \" + matchResult.group(2))\n",
    "    print(\"  req verb: \" + matchResult.group(3))\n",
    "    print(\"  req path: \" + matchResult.group(4))\n",
    "    print(\"  req proto: \" + matchResult.group(5))\n",
    "    print(\"  status: \" + matchResult.group(6))\n",
    "    print(\"  bytes: \" + matchResult.group(7))"
   ]
  },
  {
   "cell_type": "code",
   "execution_count": 1,
   "metadata": {},
   "outputs": [
    {
     "name": "stdout",
     "output_type": "stream",
     "text": [
      "international ('intern', 'ional')\n"
     ]
    }
   ],
   "source": [
    "import re\n",
    "\n",
    "pat_str, sample_str = \"-at-\", \"international\"\n",
    "\n",
    "# replace '-' with '(.*)'\n",
    "pat_str = \"\".join([i if len(i) > 0 else \"(.*)\" for i in pat_str.split('-')])\n",
    "\n",
    "# match\n",
    "match_grp = re.match(pat_str, sample_str)\n",
    "\n",
    "if match_grp:\n",
    "    print(match_grp.group(0), match_grp.groups())"
   ]
  },
  {
   "cell_type": "code",
   "execution_count": null,
   "metadata": {},
   "outputs": [],
   "source": []
  }
 ],
 "metadata": {
  "kernelspec": {
   "display_name": "Python 3",
   "language": "python",
   "name": "python3"
  },
  "language_info": {
   "codemirror_mode": {
    "name": "ipython",
    "version": 3
   },
   "file_extension": ".py",
   "mimetype": "text/x-python",
   "name": "python",
   "nbconvert_exporter": "python",
   "pygments_lexer": "ipython3",
   "version": "3.8.5"
  },
  "toc": {
   "base_numbering": 1,
   "nav_menu": {},
   "number_sections": false,
   "sideBar": false,
   "skip_h1_title": false,
   "title_cell": "Table of Contents",
   "title_sidebar": "Contents",
   "toc_cell": false,
   "toc_position": {},
   "toc_section_display": false,
   "toc_window_display": false
  }
 },
 "nbformat": 4,
 "nbformat_minor": 2
}
