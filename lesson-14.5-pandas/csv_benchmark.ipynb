{
 "cells": [
  {
   "cell_type": "markdown",
   "metadata": {},
   "source": [
    "https://softwarerecs.stackexchange.com/questions/7463/fastest-python-library-to-read-a-csv-file\n",
    "\n",
    "* pandas.io.parsers.read_csv beats everybody else, \n",
    "* NumPy's loadtxt is impressively slow and \n",
    "* NumPy's from_file and load impressively fast.\n",
    "\n",
    "```\n",
    "Windows: \n",
    "open_with_python_csv: 1.57318865672 seconds\n",
    "open_with_python_csv_list: 1.35567931732 seconds\n",
    "open_with_python_csv_cast_as_float: 3.0801260484 seconds\n",
    "open_with_numpy_loadtxt: 14.4942111801 seconds\n",
    "open_with_pandas_read_csv: 0.371965476805 seconds\n",
    "Numpy fromfile: 0.0130216095713 seconds\n",
    "Numpy load: 0.0245501650124 seconds\n",
    "\n",
    "Ubuntu:\n",
    "open_with_python_csv: 1.93 seconds\n",
    "open_with_python_csv_list: 1.52 seconds\n",
    "open_with_python_csv_cast_as_float: 3.19 seconds\n",
    "open_with_numpy_loadtxt: 7.47 seconds\n",
    "open_with_pandas_read_csv: 0.35 seconds\n",
    "Numpy fromfile: 0.01 seconds\n",
    "Numpy load: 0.02 seconds\n",
    "```"
   ]
  },
  {
   "cell_type": "code",
   "execution_count": 6,
   "metadata": {},
   "outputs": [],
   "source": [
    "import csv\n",
    "import os\n",
    "import cProfile\n",
    "import time\n",
    "import numpy\n",
    "import pandas\n",
    "import warnings\n",
    "\n",
    "# Make sure those files in the same folder as benchmark_python.py\n",
    "# As the name indicates:\n",
    "# - '1col.csv' is a CSV file with 1 column\n",
    "# - '3col.csv' is a CSV file with 3 column\n",
    "filename1 = '1col.csv'\n",
    "filename3 = '3col.csv'\n",
    "\n",
    "filename3 = \"pandas-cookbook/data/bikes-2.csv\"\n",
    "csv_encoding = \"latin-1\"\n",
    "\n",
    "filename3 = \"pandas-cookbook/data/weather_2012.csv\"\n",
    "csv_encoding = \"utf-8\"\n",
    "\n",
    "\n",
    "csv_delimiter = ','\n",
    "debug = False"
   ]
  },
  {
   "cell_type": "code",
   "execution_count": 9,
   "metadata": {},
   "outputs": [],
   "source": [
    "def open_with_python_csv(filename):\n",
    "    '''\n",
    "    https://docs.python.org/2/library/csv.html\n",
    "    \n",
    "    fastcsv is meant for python 2, with python 3, just use csv\n",
    "    https://github.com/draftcode/fastcsv\n",
    "    '''\n",
    "    data =[]\n",
    "    with open(filename, 'r', encoding=csv_encoding) as csvfile:\n",
    "        csvreader = csv.reader(csvfile, delimiter=csv_delimiter, quotechar='|')\n",
    "        for row in csvreader:\n",
    "            data.append(row)    \n",
    "    return data"
   ]
  },
  {
   "cell_type": "code",
   "execution_count": 39,
   "metadata": {},
   "outputs": [],
   "source": [
    "def open_with_python_csv_list(filename):\n",
    "    '''\n",
    "    https://docs.python.org/2/library/csv.html\n",
    "    '''\n",
    "    data =[]\n",
    "    with open(filename, 'r', encoding=csv_encoding) as csvfile:\n",
    "        csvreader = csv.reader(csvfile, delimiter=csv_delimiter, quotechar='|')\n",
    "        data = list(csvreader)    \n",
    "    return data"
   ]
  },
  {
   "cell_type": "code",
   "execution_count": null,
   "metadata": {},
   "outputs": [],
   "source": [
    "def open_with_python_csv_cast_as_float(filename):\n",
    "    '''\n",
    "    https://docs.python.org/2/library/csv.html\n",
    "    '''\n",
    "    data =[]\n",
    "    with open(filename, 'rb') as csvfile:\n",
    "        csvreader = csv.reader(csvfile, delimiter=csv_delimiter, quotechar='|')\n",
    "        for row in csvreader:\n",
    "            data.append(map(float, row))    \n",
    "    return data"
   ]
  },
  {
   "cell_type": "code",
   "execution_count": 30,
   "metadata": {},
   "outputs": [],
   "source": [
    "def open_with_numpy_loadtxt(filename):\n",
    "    '''\n",
    "    http://stackoverflow.com/questions/4315506/load-csv-into-2d-matrix-with-numpy-for-plotting\n",
    "    '''\n",
    "    data = numpy.loadtxt(open(filename,'rb'),delimiter=csv_delimiter,skiprows=0)\n",
    "    return data\n",
    "\n",
    "def open_with_pandas_read_csv(filename):\n",
    "    df = pandas.read_csv(filename, sep=csv_delimiter)\n",
    "    data = df.values\n",
    "    return data    \n",
    "\n",
    "\n",
    "def benchmark(function_name):  \n",
    "    start_time = time.clock()\n",
    "    #data = function_name(filename1)       \n",
    "    #if debug: print data[0] \n",
    "    data = function_name(filename3)\n",
    "    if debug: print (data[0])\n",
    "    print (function_name.__name__ + ': ' + str(time.clock() - start_time), \"seconds\")\n",
    "    return time.clock() - start_time\n",
    "\n",
    "\n",
    "def benchmark_numpy_fromfile():\n",
    "    '''\n",
    "    http://docs.scipy.org/doc/numpy/reference/generated/numpy.fromfile.html\n",
    "    Do not rely on the combination of tofile and fromfile for data storage, \n",
    "    as the binary files generated are are not platform independent.\n",
    "    In particular, no byte-order or data-type information is saved.\n",
    "    Data can be stored in the platform independent .npy format using\n",
    "    save and load instead.\n",
    "\n",
    "    Note that fromfile will create a one-dimensional array containing your data,\n",
    "    so you might need to reshape it afterward.\n",
    "    '''\n",
    "    #ignore the 'tmpnam is a potential security risk to your program' warning\n",
    "    with warnings.catch_warnings():\n",
    "        warnings.simplefilter('ignore', RuntimeWarning)\n",
    "        fname1 = os.tmpnam()\n",
    "        fname3 = os.tmpnam()\n",
    "\n",
    "    # data = open_with_numpy_loadtxt(filename1)\n",
    "    # if debug: print data[0]\n",
    "    data.tofile(fname1)\n",
    "    data = open_with_numpy_loadtxt(filename3)\n",
    "    if debug: print (data[0])\n",
    "    data.tofile(fname3)\n",
    "    if debug: print (data.shape)\n",
    "    fname3shape = data.shape\n",
    "    start_time = time.clock()\n",
    "    data = numpy.fromfile(fname1, dtype=numpy.float64) # you might need to switch to float32. List of types: http://docs.scipy.org/doc/numpy/reference/arrays.dtypes.html\n",
    "    if debug: print (len(data), data[0], data.shape)\n",
    "    data = numpy.fromfile(fname3, dtype=numpy.float64)\n",
    "    data = data.reshape(fname3shape)\n",
    "    if debug: print (len(data), data[0], data.shape)   \n",
    "    print ('Numpy fromfile: ' + str(time.clock() - start_time), \"seconds\")\n",
    "\n",
    "def benchmark_numpy_save_load():\n",
    "    '''\n",
    "    http://docs.scipy.org/doc/numpy/reference/generated/numpy.fromfile.html\n",
    "    Do not rely on the combination of tofile and fromfile for data storage, \n",
    "    as the binary files generated are are not platform independent.\n",
    "    In particular, no byte-order or data-type information is saved.\n",
    "    Data can be stored in the platform independent .npy format using\n",
    "    save and load instead.\n",
    "\n",
    "    Note that fromfile will create a one-dimensional array containing your data,\n",
    "    so you might need to reshape it afterward.\n",
    "    '''\n",
    "    #ignore the 'tmpnam is a potential security risk to your program' warning\n",
    "    with warnings.catch_warnings():\n",
    "        warnings.simplefilter('ignore', RuntimeWarning)\n",
    "        fname1 = os.tmpnam()\n",
    "        fname3 = os.tmpnam()\n",
    "\n",
    "    # data = open_with_numpy_loadtxt(filename1)\n",
    "    # if debug: print data[0]    \n",
    "    numpy.save(fname1, data)    \n",
    "    data = open_with_numpy_loadtxt(filename3)\n",
    "    if debug: print (data[0])    \n",
    "    numpy.save(fname3, data)    \n",
    "    if debug: print (data.shape)\n",
    "    fname3shape = data.shape\n",
    "    start_time = time.clock()\n",
    "    data = numpy.load(fname1 + '.npy')\n",
    "    if debug: print (len(data), data[0], data.shape)\n",
    "    data = numpy.load(fname3 + '.npy')\n",
    "    #data = data.reshape(fname3shape)\n",
    "    if debug: print (len(data), data[0], data.shape)   \n",
    "    print ('Numpy load: ' + str(time.clock() - start_time), \"seconds\")"
   ]
  },
  {
   "cell_type": "code",
   "execution_count": 31,
   "metadata": {},
   "outputs": [],
   "source": [
    "data = open_with_python_csv(filename3)\n",
    "\n",
    "data[:3]"
   ]
  },
  {
   "cell_type": "code",
   "execution_count": 33,
   "metadata": {},
   "outputs": [],
   "source": [
    "data = open_with_pandas_read_csv(filename3)\n",
    "\n",
    "data[:3]"
   ]
  },
  {
   "cell_type": "code",
   "execution_count": 40,
   "metadata": {},
   "outputs": [
    {
     "data": {
      "text/plain": [
       "[['Date/Time',\n",
       "  'Temp (C)',\n",
       "  'Dew Point Temp (C)',\n",
       "  'Rel Hum (%)',\n",
       "  'Wind Spd (km/h)',\n",
       "  'Visibility (km)',\n",
       "  'Stn Press (kPa)',\n",
       "  'Weather'],\n",
       " ['2012-01-01 00:00:00', '-1.8', '-3.9', '86', '4', '8.0', '101.24', 'Fog'],\n",
       " ['2012-01-01 01:00:00', '-1.8', '-3.7', '87', '4', '8.0', '101.24', 'Fog']]"
      ]
     },
     "execution_count": 40,
     "metadata": {},
     "output_type": "execute_result"
    }
   ],
   "source": [
    "data = open_with_python_csv_list(filename3)\n",
    "\n",
    "data[:3]"
   ]
  },
  {
   "cell_type": "code",
   "execution_count": 41,
   "metadata": {},
   "outputs": [],
   "source": [
    "def main():\n",
    "    number_of_runs = 3\n",
    "    results = []\n",
    "\n",
    "    benchmark_functions = ['benchmark(open_with_python_csv)', \n",
    "                           'benchmark(open_with_python_csv_list)',\n",
    "                           'benchmark(open_with_pandas_read_csv)'\n",
    "                           # 'benchmark(open_with_python_csv_cast_as_float)',\n",
    "                           # 'benchmark(open_with_numpy_loadtxt)',\n",
    "                           # 'benchmark_numpy_fromfile()',\n",
    "                           # 'benchmark_numpy_save_load()'\n",
    "                          ]\n",
    "    # Compute benchmark\n",
    "    for run_number in range(number_of_runs):\n",
    "        run_results = []\n",
    "        for benchmark_function in benchmark_functions:\n",
    "            run_results.append(eval(benchmark_function))\n",
    "            results.append(run_results)\n",
    "\n",
    "    # Display benchmark's results\n",
    "    print (results)\n",
    "    results = numpy.array(results)\n",
    "    # numpy.set_printoptions(precision=10) # http://stackoverflow.com/questions/2891790/pretty-printing-of-numpy-array\n",
    "    # numpy.set_printoptions(suppress=True)  # suppress suppresses the use of scientific notation for small numbers:\n",
    "    print (numpy.mean(results, axis=0))\n",
    "    print (numpy.std(results, axis=0))  \n",
    "\n",
    "    #Another library, but not free: https://store.continuum.io/cshop/iopro/"
   ]
  },
  {
   "cell_type": "code",
   "execution_count": 42,
   "metadata": {},
   "outputs": [
    {
     "name": "stdout",
     "output_type": "stream",
     "text": [
      "open_with_python_csv: 0.027123000000000452 seconds\n",
      "open_with_python_csv_list: 0.06939399999999996 seconds\n",
      "open_with_pandas_read_csv: 0.021934000000000786 seconds\n",
      "open_with_python_csv: 0.018088000000000548 seconds\n",
      "open_with_python_csv_list: 0.014740000000000641 seconds\n",
      "open_with_pandas_read_csv: 0.021769000000000815 seconds\n",
      "open_with_python_csv: 0.01655400000000018 seconds\n",
      "open_with_python_csv_list: 0.014777999999999736 seconds\n",
      "open_with_pandas_read_csv: 0.021938000000000457 seconds\n",
      "[[0.029633999999999716, 0.06950700000000065, 0.022029999999999994], [0.029633999999999716, 0.06950700000000065, 0.022029999999999994], [0.029633999999999716, 0.06950700000000065, 0.022029999999999994], [0.018207000000000306, 0.01484400000000008, 0.021862000000000492], [0.018207000000000306, 0.01484400000000008, 0.021862000000000492], [0.018207000000000306, 0.01484400000000008, 0.021862000000000492], [0.016655000000000086, 0.01499999999999968, 0.022104000000000568], [0.016655000000000086, 0.01499999999999968, 0.022104000000000568], [0.016655000000000086, 0.01499999999999968, 0.022104000000000568]]\n",
      "[0.0214986667 0.033117     0.0219986667]\n",
      "[0.0057873375 0.0257316946 0.00010125  ]\n"
     ]
    }
   ],
   "source": [
    "main()"
   ]
  },
  {
   "cell_type": "code",
   "execution_count": null,
   "metadata": {},
   "outputs": [],
   "source": []
  },
  {
   "cell_type": "code",
   "execution_count": null,
   "metadata": {},
   "outputs": [],
   "source": []
  }
 ],
 "metadata": {
  "kernelspec": {
   "display_name": "Python 3",
   "language": "python",
   "name": "python3"
  },
  "language_info": {
   "codemirror_mode": {
    "name": "ipython",
    "version": 3
   },
   "file_extension": ".py",
   "mimetype": "text/x-python",
   "name": "python",
   "nbconvert_exporter": "python",
   "pygments_lexer": "ipython3",
   "version": "3.6.5"
  },
  "toc": {
   "base_numbering": 1,
   "nav_menu": {},
   "number_sections": false,
   "sideBar": false,
   "skip_h1_title": false,
   "title_cell": "Table of Contents",
   "title_sidebar": "Contents",
   "toc_cell": false,
   "toc_position": {},
   "toc_section_display": false,
   "toc_window_display": false
  }
 },
 "nbformat": 4,
 "nbformat_minor": 2
}
