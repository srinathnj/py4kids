{
 "cells": [
  {
   "cell_type": "markdown",
   "metadata": {},
   "source": [
    "analysis of Yale summer internship data"
   ]
  },
  {
   "cell_type": "code",
   "execution_count": 1,
   "metadata": {},
   "outputs": [
    {
     "name": "stdout",
     "output_type": "stream",
     "text": [
      "Using matplotlib backend: Qt5Agg\n"
     ]
    }
   ],
   "source": [
    "%matplotlib\n",
    "import numpy as np\n",
    "import pandas as pd"
   ]
  },
  {
   "cell_type": "code",
   "execution_count": 2,
   "metadata": {},
   "outputs": [],
   "source": [
    "file_path = \"Summer_2019_Peer_List.xlsx\""
   ]
  },
  {
   "cell_type": "code",
   "execution_count": 3,
   "metadata": {},
   "outputs": [],
   "source": [
    "df = pd.read_excel(file_path,index_col=0)"
   ]
  },
  {
   "cell_type": "code",
   "execution_count": 4,
   "metadata": {},
   "outputs": [
    {
     "data": {
      "text/html": [
       "<div>\n",
       "<style scoped>\n",
       "    .dataframe tbody tr th:only-of-type {\n",
       "        vertical-align: middle;\n",
       "    }\n",
       "\n",
       "    .dataframe tbody tr th {\n",
       "        vertical-align: top;\n",
       "    }\n",
       "\n",
       "    .dataframe thead th {\n",
       "        text-align: right;\n",
       "    }\n",
       "</style>\n",
       "<table border=\"1\" class=\"dataframe\">\n",
       "  <thead>\n",
       "    <tr style=\"text-align: right;\">\n",
       "      <th></th>\n",
       "      <th>last_name</th>\n",
       "      <th>first_name</th>\n",
       "      <th>email</th>\n",
       "      <th>major</th>\n",
       "      <th>class_year</th>\n",
       "      <th>job_type</th>\n",
       "      <th>project_name</th>\n",
       "      <th>city</th>\n",
       "      <th>country</th>\n",
       "      <th>state</th>\n",
       "      <th>employer</th>\n",
       "      <th>industry</th>\n",
       "      <th>job_role</th>\n",
       "      <th>interview</th>\n",
       "      <th>work_info</th>\n",
       "      <th>work_culture</th>\n",
       "    </tr>\n",
       "  </thead>\n",
       "  <tbody>\n",
       "    <tr>\n",
       "      <th>0</th>\n",
       "      <td>Sung</td>\n",
       "      <td>Christopher</td>\n",
       "      <td>christopher.sung@yale.edu</td>\n",
       "      <td>History</td>\n",
       "      <td>Undergraduate: Junior</td>\n",
       "      <td>Internship, paid</td>\n",
       "      <td>NaN</td>\n",
       "      <td>Washington, D.C., and Annapolis</td>\n",
       "      <td>NaN</td>\n",
       "      <td>District of Columbia,Maryland</td>\n",
       "      <td>(Maryland) Governor's Summer Internship Program</td>\n",
       "      <td>Government (including local, state, federal an...</td>\n",
       "      <td>Research (Policy, Academic, Literary)</td>\n",
       "      <td>You submit an application to the Governor's Su...</td>\n",
       "      <td>I worked in the Governor's Office with Secreta...</td>\n",
       "      <td>The portions of the Program that were operated...</td>\n",
       "    </tr>\n",
       "    <tr>\n",
       "      <th>1</th>\n",
       "      <td>Model</td>\n",
       "      <td>Max</td>\n",
       "      <td>max.model@yale.edu</td>\n",
       "      <td>Computer Science &amp; Mathematics</td>\n",
       "      <td>Undergraduate: Junior</td>\n",
       "      <td>Internship, paid</td>\n",
       "      <td>NaN</td>\n",
       "      <td>Winston-Salem</td>\n",
       "      <td>NaN</td>\n",
       "      <td>North Carolina</td>\n",
       "      <td>100watt</td>\n",
       "      <td>Technology</td>\n",
       "      <td>Programming/Software Development</td>\n",
       "      <td>I applied by sending in only my resume (no cov...</td>\n",
       "      <td>I worked the entire summer on an app called “P...</td>\n",
       "      <td>The culture at 100watt is one that you dream f...</td>\n",
       "    </tr>\n",
       "    <tr>\n",
       "      <th>2</th>\n",
       "      <td>Zhou</td>\n",
       "      <td>Huahao</td>\n",
       "      <td>huahao.zhou@yale.edu</td>\n",
       "      <td>Computer Science</td>\n",
       "      <td>Undergraduate: Junior</td>\n",
       "      <td>Internship, paid</td>\n",
       "      <td>NaN</td>\n",
       "      <td>Winston-Salem</td>\n",
       "      <td>NaN</td>\n",
       "      <td>North Carolina</td>\n",
       "      <td>100watt</td>\n",
       "      <td>Technology</td>\n",
       "      <td>Engineering</td>\n",
       "      <td>went through interview with all the people in ...</td>\n",
       "      <td>Built a mobile app. Learned React Native.</td>\n",
       "      <td>Very friendly and supportive.</td>\n",
       "    </tr>\n",
       "    <tr>\n",
       "      <th>3</th>\n",
       "      <td>Baker</td>\n",
       "      <td>Morgan</td>\n",
       "      <td>morgan.baker@yale.edu</td>\n",
       "      <td>Women'sGender&amp;SexualityStudies</td>\n",
       "      <td>Undergraduate: Junior</td>\n",
       "      <td>Internship, unpaid</td>\n",
       "      <td>NaN</td>\n",
       "      <td>New Haven</td>\n",
       "      <td>NaN</td>\n",
       "      <td>Connecticut</td>\n",
       "      <td>108 Monkeys</td>\n",
       "      <td>Community Organizations Advocacy/Social Services</td>\n",
       "      <td>Writing / Editing</td>\n",
       "      <td>Almost no interview process, really. I reached...</td>\n",
       "      <td>I worked on a number of support tasks for the ...</td>\n",
       "      <td>I worked remotely or by myself in the office m...</td>\n",
       "    </tr>\n",
       "    <tr>\n",
       "      <th>4</th>\n",
       "      <td>Williams</td>\n",
       "      <td>Marina</td>\n",
       "      <td>marina.williams@yale.edu</td>\n",
       "      <td>Psychology</td>\n",
       "      <td>Undergraduate: Senior</td>\n",
       "      <td>Internship, paid</td>\n",
       "      <td>NaN</td>\n",
       "      <td>Los Angeles</td>\n",
       "      <td>NaN</td>\n",
       "      <td>California</td>\n",
       "      <td>20th Century Fox/Disney</td>\n",
       "      <td>Entertainment/Film/Television</td>\n",
       "      <td>Entertainment (Film/TV, Theatre, Music)</td>\n",
       "      <td>NaN</td>\n",
       "      <td>NaN</td>\n",
       "      <td>NaN</td>\n",
       "    </tr>\n",
       "  </tbody>\n",
       "</table>\n",
       "</div>"
      ],
      "text/plain": [
       "  last_name   first_name                      email  \\\n",
       "0      Sung  Christopher  christopher.sung@yale.edu   \n",
       "1     Model          Max         max.model@yale.edu   \n",
       "2      Zhou       Huahao       huahao.zhou@yale.edu   \n",
       "3     Baker       Morgan      morgan.baker@yale.edu   \n",
       "4  Williams       Marina   marina.williams@yale.edu   \n",
       "\n",
       "                            major             class_year            job_type  \\\n",
       "0                         History  Undergraduate: Junior    Internship, paid   \n",
       "1  Computer Science & Mathematics  Undergraduate: Junior    Internship, paid   \n",
       "2                Computer Science  Undergraduate: Junior    Internship, paid   \n",
       "3  Women'sGender&SexualityStudies  Undergraduate: Junior  Internship, unpaid   \n",
       "4                      Psychology  Undergraduate: Senior    Internship, paid   \n",
       "\n",
       "  project_name                             city country  \\\n",
       "0          NaN  Washington, D.C., and Annapolis     NaN   \n",
       "1          NaN                    Winston-Salem     NaN   \n",
       "2          NaN                    Winston-Salem     NaN   \n",
       "3          NaN                        New Haven     NaN   \n",
       "4          NaN                      Los Angeles     NaN   \n",
       "\n",
       "                           state  \\\n",
       "0  District of Columbia,Maryland   \n",
       "1                 North Carolina   \n",
       "2                 North Carolina   \n",
       "3                    Connecticut   \n",
       "4                     California   \n",
       "\n",
       "                                          employer  \\\n",
       "0  (Maryland) Governor's Summer Internship Program   \n",
       "1                                          100watt   \n",
       "2                                          100watt   \n",
       "3                                      108 Monkeys   \n",
       "4                          20th Century Fox/Disney   \n",
       "\n",
       "                                            industry  \\\n",
       "0  Government (including local, state, federal an...   \n",
       "1                                         Technology   \n",
       "2                                         Technology   \n",
       "3   Community Organizations Advocacy/Social Services   \n",
       "4                      Entertainment/Film/Television   \n",
       "\n",
       "                                  job_role  \\\n",
       "0    Research (Policy, Academic, Literary)   \n",
       "1         Programming/Software Development   \n",
       "2                              Engineering   \n",
       "3                        Writing / Editing   \n",
       "4  Entertainment (Film/TV, Theatre, Music)   \n",
       "\n",
       "                                           interview  \\\n",
       "0  You submit an application to the Governor's Su...   \n",
       "1  I applied by sending in only my resume (no cov...   \n",
       "2  went through interview with all the people in ...   \n",
       "3  Almost no interview process, really. I reached...   \n",
       "4                                                NaN   \n",
       "\n",
       "                                           work_info  \\\n",
       "0  I worked in the Governor's Office with Secreta...   \n",
       "1  I worked the entire summer on an app called “P...   \n",
       "2          Built a mobile app. Learned React Native.   \n",
       "3  I worked on a number of support tasks for the ...   \n",
       "4                                                NaN   \n",
       "\n",
       "                                        work_culture  \n",
       "0  The portions of the Program that were operated...  \n",
       "1  The culture at 100watt is one that you dream f...  \n",
       "2                      Very friendly and supportive.  \n",
       "3  I worked remotely or by myself in the office m...  \n",
       "4                                                NaN  "
      ]
     },
     "execution_count": 4,
     "metadata": {},
     "output_type": "execute_result"
    }
   ],
   "source": [
    "df.head()"
   ]
  },
  {
   "cell_type": "code",
   "execution_count": 5,
   "metadata": {},
   "outputs": [
    {
     "data": {
      "text/plain": [
       "(1708, 16)"
      ]
     },
     "execution_count": 5,
     "metadata": {},
     "output_type": "execute_result"
    }
   ],
   "source": [
    "df.shape"
   ]
  },
  {
   "cell_type": "code",
   "execution_count": 6,
   "metadata": {},
   "outputs": [
    {
     "data": {
      "text/plain": [
       "Index(['last_name', 'first_name', 'email', 'major', 'class_year', 'job_type',\n",
       "       'project_name', 'city', 'country', 'state', 'employer', 'industry',\n",
       "       'job_role', 'interview', 'work_info', 'work_culture'],\n",
       "      dtype='object')"
      ]
     },
     "execution_count": 6,
     "metadata": {},
     "output_type": "execute_result"
    }
   ],
   "source": [
    "df.columns"
   ]
  },
  {
   "cell_type": "code",
   "execution_count": 7,
   "metadata": {},
   "outputs": [],
   "source": [
    "#df.dtypes\n",
    "# rename columns\n",
    "df2 = df[['major','class_year', 'job_type','employer', 'industry',\n",
    "       'job_role', 'interview', 'work_info', 'work_culture']]"
   ]
  },
  {
   "cell_type": "code",
   "execution_count": 8,
   "metadata": {},
   "outputs": [
    {
     "data": {
      "text/html": [
       "<div>\n",
       "<style scoped>\n",
       "    .dataframe tbody tr th:only-of-type {\n",
       "        vertical-align: middle;\n",
       "    }\n",
       "\n",
       "    .dataframe tbody tr th {\n",
       "        vertical-align: top;\n",
       "    }\n",
       "\n",
       "    .dataframe thead th {\n",
       "        text-align: right;\n",
       "    }\n",
       "</style>\n",
       "<table border=\"1\" class=\"dataframe\">\n",
       "  <thead>\n",
       "    <tr style=\"text-align: right;\">\n",
       "      <th></th>\n",
       "      <th>major</th>\n",
       "      <th>class_year</th>\n",
       "      <th>job_type</th>\n",
       "      <th>employer</th>\n",
       "      <th>industry</th>\n",
       "      <th>job_role</th>\n",
       "      <th>interview</th>\n",
       "      <th>work_info</th>\n",
       "      <th>work_culture</th>\n",
       "    </tr>\n",
       "  </thead>\n",
       "  <tbody>\n",
       "    <tr>\n",
       "      <th>0</th>\n",
       "      <td>History</td>\n",
       "      <td>Undergraduate: Junior</td>\n",
       "      <td>Internship, paid</td>\n",
       "      <td>(Maryland) Governor's Summer Internship Program</td>\n",
       "      <td>Government (including local, state, federal an...</td>\n",
       "      <td>Research (Policy, Academic, Literary)</td>\n",
       "      <td>You submit an application to the Governor's Su...</td>\n",
       "      <td>I worked in the Governor's Office with Secreta...</td>\n",
       "      <td>The portions of the Program that were operated...</td>\n",
       "    </tr>\n",
       "    <tr>\n",
       "      <th>1</th>\n",
       "      <td>Computer Science &amp; Mathematics</td>\n",
       "      <td>Undergraduate: Junior</td>\n",
       "      <td>Internship, paid</td>\n",
       "      <td>100watt</td>\n",
       "      <td>Technology</td>\n",
       "      <td>Programming/Software Development</td>\n",
       "      <td>I applied by sending in only my resume (no cov...</td>\n",
       "      <td>I worked the entire summer on an app called “P...</td>\n",
       "      <td>The culture at 100watt is one that you dream f...</td>\n",
       "    </tr>\n",
       "    <tr>\n",
       "      <th>2</th>\n",
       "      <td>Computer Science</td>\n",
       "      <td>Undergraduate: Junior</td>\n",
       "      <td>Internship, paid</td>\n",
       "      <td>100watt</td>\n",
       "      <td>Technology</td>\n",
       "      <td>Engineering</td>\n",
       "      <td>went through interview with all the people in ...</td>\n",
       "      <td>Built a mobile app. Learned React Native.</td>\n",
       "      <td>Very friendly and supportive.</td>\n",
       "    </tr>\n",
       "    <tr>\n",
       "      <th>3</th>\n",
       "      <td>Women'sGender&amp;SexualityStudies</td>\n",
       "      <td>Undergraduate: Junior</td>\n",
       "      <td>Internship, unpaid</td>\n",
       "      <td>108 Monkeys</td>\n",
       "      <td>Community Organizations Advocacy/Social Services</td>\n",
       "      <td>Writing / Editing</td>\n",
       "      <td>Almost no interview process, really. I reached...</td>\n",
       "      <td>I worked on a number of support tasks for the ...</td>\n",
       "      <td>I worked remotely or by myself in the office m...</td>\n",
       "    </tr>\n",
       "    <tr>\n",
       "      <th>4</th>\n",
       "      <td>Psychology</td>\n",
       "      <td>Undergraduate: Senior</td>\n",
       "      <td>Internship, paid</td>\n",
       "      <td>20th Century Fox/Disney</td>\n",
       "      <td>Entertainment/Film/Television</td>\n",
       "      <td>Entertainment (Film/TV, Theatre, Music)</td>\n",
       "      <td>NaN</td>\n",
       "      <td>NaN</td>\n",
       "      <td>NaN</td>\n",
       "    </tr>\n",
       "  </tbody>\n",
       "</table>\n",
       "</div>"
      ],
      "text/plain": [
       "                            major             class_year            job_type  \\\n",
       "0                         History  Undergraduate: Junior    Internship, paid   \n",
       "1  Computer Science & Mathematics  Undergraduate: Junior    Internship, paid   \n",
       "2                Computer Science  Undergraduate: Junior    Internship, paid   \n",
       "3  Women'sGender&SexualityStudies  Undergraduate: Junior  Internship, unpaid   \n",
       "4                      Psychology  Undergraduate: Senior    Internship, paid   \n",
       "\n",
       "                                          employer  \\\n",
       "0  (Maryland) Governor's Summer Internship Program   \n",
       "1                                          100watt   \n",
       "2                                          100watt   \n",
       "3                                      108 Monkeys   \n",
       "4                          20th Century Fox/Disney   \n",
       "\n",
       "                                            industry  \\\n",
       "0  Government (including local, state, federal an...   \n",
       "1                                         Technology   \n",
       "2                                         Technology   \n",
       "3   Community Organizations Advocacy/Social Services   \n",
       "4                      Entertainment/Film/Television   \n",
       "\n",
       "                                  job_role  \\\n",
       "0    Research (Policy, Academic, Literary)   \n",
       "1         Programming/Software Development   \n",
       "2                              Engineering   \n",
       "3                        Writing / Editing   \n",
       "4  Entertainment (Film/TV, Theatre, Music)   \n",
       "\n",
       "                                           interview  \\\n",
       "0  You submit an application to the Governor's Su...   \n",
       "1  I applied by sending in only my resume (no cov...   \n",
       "2  went through interview with all the people in ...   \n",
       "3  Almost no interview process, really. I reached...   \n",
       "4                                                NaN   \n",
       "\n",
       "                                           work_info  \\\n",
       "0  I worked in the Governor's Office with Secreta...   \n",
       "1  I worked the entire summer on an app called “P...   \n",
       "2          Built a mobile app. Learned React Native.   \n",
       "3  I worked on a number of support tasks for the ...   \n",
       "4                                                NaN   \n",
       "\n",
       "                                        work_culture  \n",
       "0  The portions of the Program that were operated...  \n",
       "1  The culture at 100watt is one that you dream f...  \n",
       "2                      Very friendly and supportive.  \n",
       "3  I worked remotely or by myself in the office m...  \n",
       "4                                                NaN  "
      ]
     },
     "execution_count": 8,
     "metadata": {},
     "output_type": "execute_result"
    }
   ],
   "source": [
    "df2.head()"
   ]
  },
  {
   "cell_type": "code",
   "execution_count": 9,
   "metadata": {},
   "outputs": [
    {
     "name": "stderr",
     "output_type": "stream",
     "text": [
      "/home/gong/anaconda3/lib/python3.7/site-packages/pandas/core/frame.py:4034: SettingWithCopyWarning: \n",
      "A value is trying to be set on a copy of a slice from a DataFrame\n",
      "\n",
      "See the caveats in the documentation: http://pandas.pydata.org/pandas-docs/stable/indexing.html#indexing-view-versus-copy\n",
      "  downcast=downcast, **kwargs)\n"
     ]
    }
   ],
   "source": [
    "df2.fillna('', inplace=True)"
   ]
  },
  {
   "cell_type": "code",
   "execution_count": 10,
   "metadata": {},
   "outputs": [
    {
     "data": {
      "text/html": [
       "<div>\n",
       "<style scoped>\n",
       "    .dataframe tbody tr th:only-of-type {\n",
       "        vertical-align: middle;\n",
       "    }\n",
       "\n",
       "    .dataframe tbody tr th {\n",
       "        vertical-align: top;\n",
       "    }\n",
       "\n",
       "    .dataframe thead th {\n",
       "        text-align: right;\n",
       "    }\n",
       "</style>\n",
       "<table border=\"1\" class=\"dataframe\">\n",
       "  <thead>\n",
       "    <tr style=\"text-align: right;\">\n",
       "      <th></th>\n",
       "      <th>major</th>\n",
       "      <th>class_year</th>\n",
       "      <th>job_type</th>\n",
       "      <th>employer</th>\n",
       "      <th>industry</th>\n",
       "      <th>job_role</th>\n",
       "      <th>interview</th>\n",
       "      <th>work_info</th>\n",
       "      <th>work_culture</th>\n",
       "    </tr>\n",
       "  </thead>\n",
       "  <tbody>\n",
       "    <tr>\n",
       "      <th>0</th>\n",
       "      <td>History</td>\n",
       "      <td>Undergraduate: Junior</td>\n",
       "      <td>Internship, paid</td>\n",
       "      <td>(Maryland) Governor's Summer Internship Program</td>\n",
       "      <td>Government (including local, state, federal an...</td>\n",
       "      <td>Research (Policy, Academic, Literary)</td>\n",
       "      <td>You submit an application to the Governor's Su...</td>\n",
       "      <td>I worked in the Governor's Office with Secreta...</td>\n",
       "      <td>The portions of the Program that were operated...</td>\n",
       "    </tr>\n",
       "    <tr>\n",
       "      <th>1</th>\n",
       "      <td>Computer Science &amp; Mathematics</td>\n",
       "      <td>Undergraduate: Junior</td>\n",
       "      <td>Internship, paid</td>\n",
       "      <td>100watt</td>\n",
       "      <td>Technology</td>\n",
       "      <td>Programming/Software Development</td>\n",
       "      <td>I applied by sending in only my resume (no cov...</td>\n",
       "      <td>I worked the entire summer on an app called “P...</td>\n",
       "      <td>The culture at 100watt is one that you dream f...</td>\n",
       "    </tr>\n",
       "    <tr>\n",
       "      <th>2</th>\n",
       "      <td>Computer Science</td>\n",
       "      <td>Undergraduate: Junior</td>\n",
       "      <td>Internship, paid</td>\n",
       "      <td>100watt</td>\n",
       "      <td>Technology</td>\n",
       "      <td>Engineering</td>\n",
       "      <td>went through interview with all the people in ...</td>\n",
       "      <td>Built a mobile app. Learned React Native.</td>\n",
       "      <td>Very friendly and supportive.</td>\n",
       "    </tr>\n",
       "    <tr>\n",
       "      <th>3</th>\n",
       "      <td>Women'sGender&amp;SexualityStudies</td>\n",
       "      <td>Undergraduate: Junior</td>\n",
       "      <td>Internship, unpaid</td>\n",
       "      <td>108 Monkeys</td>\n",
       "      <td>Community Organizations Advocacy/Social Services</td>\n",
       "      <td>Writing / Editing</td>\n",
       "      <td>Almost no interview process, really. I reached...</td>\n",
       "      <td>I worked on a number of support tasks for the ...</td>\n",
       "      <td>I worked remotely or by myself in the office m...</td>\n",
       "    </tr>\n",
       "    <tr>\n",
       "      <th>4</th>\n",
       "      <td>Psychology</td>\n",
       "      <td>Undergraduate: Senior</td>\n",
       "      <td>Internship, paid</td>\n",
       "      <td>20th Century Fox/Disney</td>\n",
       "      <td>Entertainment/Film/Television</td>\n",
       "      <td>Entertainment (Film/TV, Theatre, Music)</td>\n",
       "      <td></td>\n",
       "      <td></td>\n",
       "      <td></td>\n",
       "    </tr>\n",
       "  </tbody>\n",
       "</table>\n",
       "</div>"
      ],
      "text/plain": [
       "                            major             class_year            job_type  \\\n",
       "0                         History  Undergraduate: Junior    Internship, paid   \n",
       "1  Computer Science & Mathematics  Undergraduate: Junior    Internship, paid   \n",
       "2                Computer Science  Undergraduate: Junior    Internship, paid   \n",
       "3  Women'sGender&SexualityStudies  Undergraduate: Junior  Internship, unpaid   \n",
       "4                      Psychology  Undergraduate: Senior    Internship, paid   \n",
       "\n",
       "                                          employer  \\\n",
       "0  (Maryland) Governor's Summer Internship Program   \n",
       "1                                          100watt   \n",
       "2                                          100watt   \n",
       "3                                      108 Monkeys   \n",
       "4                          20th Century Fox/Disney   \n",
       "\n",
       "                                            industry  \\\n",
       "0  Government (including local, state, federal an...   \n",
       "1                                         Technology   \n",
       "2                                         Technology   \n",
       "3   Community Organizations Advocacy/Social Services   \n",
       "4                      Entertainment/Film/Television   \n",
       "\n",
       "                                  job_role  \\\n",
       "0    Research (Policy, Academic, Literary)   \n",
       "1         Programming/Software Development   \n",
       "2                              Engineering   \n",
       "3                        Writing / Editing   \n",
       "4  Entertainment (Film/TV, Theatre, Music)   \n",
       "\n",
       "                                           interview  \\\n",
       "0  You submit an application to the Governor's Su...   \n",
       "1  I applied by sending in only my resume (no cov...   \n",
       "2  went through interview with all the people in ...   \n",
       "3  Almost no interview process, really. I reached...   \n",
       "4                                                      \n",
       "\n",
       "                                           work_info  \\\n",
       "0  I worked in the Governor's Office with Secreta...   \n",
       "1  I worked the entire summer on an app called “P...   \n",
       "2          Built a mobile app. Learned React Native.   \n",
       "3  I worked on a number of support tasks for the ...   \n",
       "4                                                      \n",
       "\n",
       "                                        work_culture  \n",
       "0  The portions of the Program that were operated...  \n",
       "1  The culture at 100watt is one that you dream f...  \n",
       "2                      Very friendly and supportive.  \n",
       "3  I worked remotely or by myself in the office m...  \n",
       "4                                                     "
      ]
     },
     "execution_count": 10,
     "metadata": {},
     "output_type": "execute_result"
    }
   ],
   "source": [
    "df2.head()"
   ]
  },
  {
   "cell_type": "markdown",
   "metadata": {},
   "source": [
    "### top 10 majors"
   ]
  },
  {
   "cell_type": "code",
   "execution_count": 11,
   "metadata": {},
   "outputs": [],
   "source": [
    "major = pd.value_counts(df2.major)"
   ]
  },
  {
   "cell_type": "code",
   "execution_count": 12,
   "metadata": {},
   "outputs": [
    {
     "data": {
      "text/plain": [
       "Undeclared                        368\n",
       "Political Science                 136\n",
       "Economics                         122\n",
       "History                            77\n",
       "Molecular,Cellular,Dev Biology     72\n",
       "Computer Science                   64\n",
       "Psychology                         53\n",
       "English                            50\n",
       "Global Affairs                     43\n",
       "Ethics,Politics & Economics        41\n",
       "Name: major, dtype: int64"
      ]
     },
     "execution_count": 12,
     "metadata": {},
     "output_type": "execute_result"
    }
   ],
   "source": [
    "major.head(10)"
   ]
  },
  {
   "cell_type": "code",
   "execution_count": 13,
   "metadata": {},
   "outputs": [
    {
     "data": {
      "text/plain": [
       "<matplotlib.axes._subplots.AxesSubplot at 0x7fec182d1748>"
      ]
     },
     "execution_count": 13,
     "metadata": {},
     "output_type": "execute_result"
    },
    {
     "data": {
      "image/png": "[encoded data removed]",
      "text/plain": [
       "<Figure size 432x288 with 1 Axes>"
      ]
     },
     "metadata": {
      "needs_background": "light"
     },
     "output_type": "display_data"
    }
   ],
   "source": [
    "major[:10].plot(kind='barh')"
   ]
  },
  {
   "cell_type": "markdown",
   "metadata": {},
   "source": [
    "### class distribution"
   ]
  },
  {
   "cell_type": "code",
   "execution_count": 14,
   "metadata": {},
   "outputs": [
    {
     "data": {
      "text/plain": [
       "Undergraduate: Junior       618\n",
       "Undergraduate: Senior       600\n",
       "Undergraduate: Sophomore    488\n",
       "-                             2\n",
       "Name: class_year, dtype: int64"
      ]
     },
     "execution_count": 14,
     "metadata": {},
     "output_type": "execute_result"
    }
   ],
   "source": [
    "class_year = pd.value_counts(df2.class_year)\n",
    "\n",
    "class_year.head()"
   ]
  },
  {
   "cell_type": "code",
   "execution_count": 15,
   "metadata": {},
   "outputs": [
    {
     "data": {
      "text/plain": [
       "<matplotlib.axes._subplots.AxesSubplot at 0x7fec15861e48>"
      ]
     },
     "execution_count": 15,
     "metadata": {},
     "output_type": "execute_result"
    },
    {
     "data": {
      "image/png": "[encoded data removed]",
      "text/plain": [
       "<Figure size 432x288 with 1 Axes>"
      ]
     },
     "metadata": {
      "needs_background": "light"
     },
     "output_type": "display_data"
    }
   ],
   "source": [
    "class_year.plot(kind='barh')"
   ]
  },
  {
   "cell_type": "markdown",
   "metadata": {},
   "source": [
    "### top 10 job types"
   ]
  },
  {
   "cell_type": "code",
   "execution_count": 16,
   "metadata": {},
   "outputs": [
    {
     "data": {
      "text/plain": [
       "Internship, paid                            659\n",
       "Internship, unpaid                          364\n",
       "Research in a laboratory                    232\n",
       "Paid job (e.g. camp counselor)              198\n",
       "Field research                               79\n",
       "Other                                        77\n",
       "Volunteer work                               46\n",
       "Performance (theater, music, dance, etc)     29\n",
       "Research in a library                        24\n",
       "Name: job_type, dtype: int64"
      ]
     },
     "execution_count": 16,
     "metadata": {},
     "output_type": "execute_result"
    }
   ],
   "source": [
    "job_type = pd.value_counts(df2.job_type)\n",
    "\n",
    "job_type.head(10)"
   ]
  },
  {
   "cell_type": "code",
   "execution_count": 17,
   "metadata": {},
   "outputs": [
    {
     "data": {
      "text/plain": [
       "<matplotlib.axes._subplots.AxesSubplot at 0x7fec150ac128>"
      ]
     },
     "execution_count": 17,
     "metadata": {},
     "output_type": "execute_result"
    },
    {
     "data": {
      "image/png": "[encoded data removed]",
      "text/plain": [
       "<Figure size 432x288 with 1 Axes>"
      ]
     },
     "metadata": {
      "needs_background": "light"
     },
     "output_type": "display_data"
    }
   ],
   "source": [
    "job_type[:10].plot(kind='barh')"
   ]
  },
  {
   "cell_type": "markdown",
   "metadata": {},
   "source": [
    "### top 20 Employers"
   ]
  },
  {
   "cell_type": "code",
   "execution_count": 18,
   "metadata": {},
   "outputs": [
    {
     "data": {
      "text/plain": [
       "                                  209\n",
       "Yale University                    47\n",
       "Facebook                           17\n",
       "Google                             11\n",
       "Yale School of Medicine             8\n",
       "Microsoft                           7\n",
       "Yale Summer Session                 6\n",
       "Yale Young Global Scholars          6\n",
       "Boston Consulting Group             5\n",
       "Morgan Stanley                      5\n",
       "Yale                                5\n",
       "Camp Kesem                          4\n",
       "Altman Vilandrie & Company          4\n",
       "The Blackstone Group                4\n",
       "Human Rights Watch                  4\n",
       "Chan Zuckerberg Initiative          4\n",
       "Yale Young African Scholars         4\n",
       "Pamir Law Group                     4\n",
       "Massachusetts General Hospital      4\n",
       "Bain & Company                      4\n",
       "Name: employer, dtype: int64"
      ]
     },
     "execution_count": 18,
     "metadata": {},
     "output_type": "execute_result"
    }
   ],
   "source": [
    "employer = pd.value_counts(df2.employer)\n",
    "\n",
    "employer.head(20)"
   ]
  },
  {
   "cell_type": "code",
   "execution_count": 19,
   "metadata": {},
   "outputs": [
    {
     "data": {
      "text/plain": [
       "<matplotlib.axes._subplots.AxesSubplot at 0x7fec150a3780>"
      ]
     },
     "execution_count": 19,
     "metadata": {},
     "output_type": "execute_result"
    },
    {
     "data": {
      "image/png": "[encoded data removed]",
      "text/plain": [
       "<Figure size 432x288 with 1 Axes>"
      ]
     },
     "metadata": {
      "needs_background": "light"
     },
     "output_type": "display_data"
    }
   ],
   "source": [
    "employer[1:20].plot(kind='barh')"
   ]
  },
  {
   "cell_type": "markdown",
   "metadata": {},
   "source": [
    "### top 20 Industries"
   ]
  },
  {
   "cell_type": "code",
   "execution_count": 20,
   "metadata": {},
   "outputs": [
    {
     "name": "stderr",
     "output_type": "stream",
     "text": [
      "/home/gong/anaconda3/lib/python3.7/site-packages/ipykernel_launcher.py:2: SettingWithCopyWarning: \n",
      "A value is trying to be set on a copy of a slice from a DataFrame.\n",
      "Try using .loc[row_indexer,col_indexer] = value instead\n",
      "\n",
      "See the caveats in the documentation: http://pandas.pydata.org/pandas-docs/stable/indexing.html#indexing-view-versus-copy\n",
      "  \n"
     ]
    }
   ],
   "source": [
    "# replace \"-\" with \"\"\n",
    "df2['industry'] = df2['industry'].apply(lambda x: \"\" if x.strip() == \"-\" else x)"
   ]
  },
  {
   "cell_type": "code",
   "execution_count": 21,
   "metadata": {},
   "outputs": [
    {
     "data": {
      "text/plain": [
       "                                                                     438\n",
       "Academia/Education  (including University research positions)        189\n",
       "Finance/Insurance/Real Estate                                        164\n",
       "Technology                                                           121\n",
       "Government (including local, state, federal and military service)    105\n",
       "Healthcare/Medical/Pharmaceutical                                     91\n",
       "Law/Legal Services                                                    76\n",
       "Community Organizations Advocacy/Social Services                      68\n",
       "Consulting                                                            65\n",
       "Publishing/Media/Journalism                                           45\n",
       "Environment                                                           33\n",
       "Entertainment/Film/Television                                         31\n",
       "Communications/Marketing/Advertising / PR                             29\n",
       "Engineering                                                           26\n",
       "Think Tank                                                            26\n",
       "Arts Administration                                                   22\n",
       "Food Systems                                                          21\n",
       "Hospitality                                                           21\n",
       "International Development                                             18\n",
       "Theatre/Music/Performing Arts                                         17\n",
       "Name: industry, dtype: int64"
      ]
     },
     "execution_count": 21,
     "metadata": {},
     "output_type": "execute_result"
    }
   ],
   "source": [
    "industry = pd.value_counts(df2.industry)\n",
    "\n",
    "industry.head(20)"
   ]
  },
  {
   "cell_type": "code",
   "execution_count": 22,
   "metadata": {},
   "outputs": [
    {
     "data": {
      "text/plain": [
       "<matplotlib.axes._subplots.AxesSubplot at 0x7fec14facf28>"
      ]
     },
     "execution_count": 22,
     "metadata": {},
     "output_type": "execute_result"
    },
    {
     "data": {
      "image/png": "[encoded data removed]",
      "text/plain": [
       "<Figure size 432x288 with 1 Axes>"
      ]
     },
     "metadata": {
      "needs_background": "light"
     },
     "output_type": "display_data"
    }
   ],
   "source": [
    "industry[1:20].plot(kind='barh')"
   ]
  },
  {
   "cell_type": "markdown",
   "metadata": {},
   "source": [
    "### top 20 Job Roles"
   ]
  },
  {
   "cell_type": "code",
   "execution_count": 23,
   "metadata": {},
   "outputs": [
    {
     "name": "stderr",
     "output_type": "stream",
     "text": [
      "/home/gong/anaconda3/lib/python3.7/site-packages/ipykernel_launcher.py:2: SettingWithCopyWarning: \n",
      "A value is trying to be set on a copy of a slice from a DataFrame.\n",
      "Try using .loc[row_indexer,col_indexer] = value instead\n",
      "\n",
      "See the caveats in the documentation: http://pandas.pydata.org/pandas-docs/stable/indexing.html#indexing-view-versus-copy\n",
      "  \n"
     ]
    }
   ],
   "source": [
    "# replace \"-\" with \"\"\n",
    "df2['job_role'] = df2['job_role'].apply(lambda x: \"\" if x.strip() == \"-\" else x)"
   ]
  },
  {
   "cell_type": "code",
   "execution_count": 24,
   "metadata": {},
   "outputs": [
    {
     "data": {
      "text/plain": [
       "                                          439\n",
       "Research (Policy, Academic, Literary)     152\n",
       "Finance                                   144\n",
       "Teaching/Curriculum Development            97\n",
       "Programming/Software Development           73\n",
       "Consulting                                 69\n",
       "Engineering                                68\n",
       "Law                                        62\n",
       "Office Administrative/Support Services     54\n",
       "Operations                                 51\n",
       "Marketing/Product Management               51\n",
       "Research: Laboratory                       51\n",
       "Writing / Editing                          48\n",
       "Health Services/Healthcare                 43\n",
       "Project Management                         37\n",
       "Advocacy/Campaigning/Lobbying              31\n",
       "Outdoor Education                          27\n",
       "Business Development                       26\n",
       "Sales                                      23\n",
       "Advertising/Public Relations               20\n",
       "Name: job_role, dtype: int64"
      ]
     },
     "execution_count": 24,
     "metadata": {},
     "output_type": "execute_result"
    }
   ],
   "source": [
    "job_role = pd.value_counts(df2.job_role)\n",
    "\n",
    "job_role.head(20)"
   ]
  },
  {
   "cell_type": "code",
   "execution_count": 25,
   "metadata": {},
   "outputs": [
    {
     "data": {
      "text/plain": [
       "<matplotlib.axes._subplots.AxesSubplot at 0x7fec14ece160>"
      ]
     },
     "execution_count": 25,
     "metadata": {},
     "output_type": "execute_result"
    },
    {
     "data": {
      "image/png": "[encoded data removed]",
      "text/plain": [
       "<Figure size 432x288 with 1 Axes>"
      ]
     },
     "metadata": {
      "needs_background": "light"
     },
     "output_type": "display_data"
    }
   ],
   "source": [
    "job_role[1:20].plot(kind='barh')"
   ]
  },
  {
   "cell_type": "code",
   "execution_count": 26,
   "metadata": {},
   "outputs": [],
   "source": [
    "df2.to_excel(\"Summer_2019_Intern.xlsx\")"
   ]
  },
  {
   "cell_type": "code",
   "execution_count": null,
   "metadata": {},
   "outputs": [],
   "source": []
  }
 ],
 "metadata": {
  "kernelspec": {
   "display_name": "Python 3",
   "language": "python",
   "name": "python3"
  },
  "language_info": {
   "codemirror_mode": {
    "name": "ipython",
    "version": 3
   },
   "file_extension": ".py",
   "mimetype": "text/x-python",
   "name": "python",
   "nbconvert_exporter": "python",
   "pygments_lexer": "ipython3",
   "version": "3.7.3"
  }
 },
 "nbformat": 4,
 "nbformat_minor": 2
}
