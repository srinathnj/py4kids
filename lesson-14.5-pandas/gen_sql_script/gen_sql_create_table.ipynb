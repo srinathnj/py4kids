{
 "cells": [
  {
   "cell_type": "code",
   "execution_count": 1,
   "metadata": {},
   "outputs": [],
   "source": [
    "import os"
   ]
  },
  {
   "cell_type": "code",
   "execution_count": 2,
   "metadata": {},
   "outputs": [],
   "source": [
    "filename_1 = \"create_table_1.sql\"\n",
    "filename_2 = \"columns.csv\""
   ]
  },
  {
   "cell_type": "markdown",
   "metadata": {},
   "source": [
    "prepare two mock files: sql script, list of columns to add"
   ]
  },
  {
   "cell_type": "code",
   "execution_count": 3,
   "metadata": {},
   "outputs": [],
   "source": [
    "if not os.path.exists(filename_1):\n",
    "    with open(filename_1, \"w\") as f:\n",
    "        for i in range(10):\n",
    "            col_name = f\"col_{i}\"\n",
    "            col_type = \"string\"\n",
    "            col_comment = f\"COMMENTS 'Column {i}'\"\n",
    "            f.write(f\"{col_name}\\t{col_type}\\t{col_comment}\\n\")"
   ]
  },
  {
   "cell_type": "code",
   "execution_count": 4,
   "metadata": {},
   "outputs": [],
   "source": [
    "if not os.path.exists(filename_2):\n",
    "    with open(filename_2, \"w\") as f:\n",
    "        for i in range(100):\n",
    "            col_name = f\"col_{i}\"\n",
    "            f.write(f\"{col_name}\\n\")"
   ]
  },
  {
   "cell_type": "markdown",
   "metadata": {},
   "source": [
    "merge two files"
   ]
  },
  {
   "cell_type": "code",
   "execution_count": 5,
   "metadata": {},
   "outputs": [
    {
     "name": "stdout",
     "output_type": "stream",
     "text": [
      "['col_0', 'col_1', 'col_2', 'col_3', 'col_4', 'col_5', 'col_6', 'col_7', 'col_8', 'col_9']\n",
      "{'col_0': ['string', \"COMMENTS 'Column 0'\"], 'col_1': ['string', \"COMMENTS 'Column 1'\"], 'col_2': ['string', \"COMMENTS 'Column 2'\"], 'col_3': ['string', \"COMMENTS 'Column 3'\"], 'col_4': ['string', \"COMMENTS 'Column 4'\"], 'col_5': ['string', \"COMMENTS 'Column 5'\"], 'col_6': ['string', \"COMMENTS 'Column 6'\"], 'col_7': ['string', \"COMMENTS 'Column 7'\"], 'col_8': ['string', \"COMMENTS 'Column 8'\"], 'col_9': ['string', \"COMMENTS 'Column 9'\"]}\n"
     ]
    }
   ],
   "source": [
    "col_name_list = []\n",
    "col_dict = {}\n",
    "with open(filename_1, \"r\") as f:\n",
    "    for line in f.readlines():\n",
    "        col_defs = line.strip().split('\\t')\n",
    "        col_name = col_defs[0]\n",
    "        col_name_list.append(col_name)\n",
    "        col_dict[col_name] = col_defs[1:]\n",
    "\n",
    "print(col_name_list)\n",
    "\n",
    "print(col_dict)"
   ]
  },
  {
   "cell_type": "code",
   "execution_count": 6,
   "metadata": {},
   "outputs": [
    {
     "name": "stdout",
     "output_type": "stream",
     "text": [
      "['col_0', 'col_1', 'col_2', 'col_3', 'col_4', 'col_5', 'col_6', 'col_7', 'col_8', 'col_9', 'col_10', 'col_11', 'col_12', 'col_13', 'col_14', 'col_15', 'col_16', 'col_17', 'col_18', 'col_19', 'col_20', 'col_21', 'col_22', 'col_23', 'col_24', 'col_25', 'col_26', 'col_27', 'col_28', 'col_29', 'col_30', 'col_31', 'col_32', 'col_33', 'col_34', 'col_35', 'col_36', 'col_37', 'col_38', 'col_39', 'col_40', 'col_41', 'col_42', 'col_43', 'col_44', 'col_45', 'col_46', 'col_47', 'col_48', 'col_49', 'col_50', 'col_51', 'col_52', 'col_53', 'col_54', 'col_55', 'col_56', 'col_57', 'col_58', 'col_59', 'col_60', 'col_61', 'col_62', 'col_63', 'col_64', 'col_65', 'col_66', 'col_67', 'col_68', 'col_69', 'col_70', 'col_71', 'col_72', 'col_73', 'col_74', 'col_75', 'col_76', 'col_77', 'col_78', 'col_79', 'col_80', 'col_81', 'col_82', 'col_83', 'col_84', 'col_85', 'col_86', 'col_87', 'col_88', 'col_89', 'col_90', 'col_91', 'col_92', 'col_93', 'col_94', 'col_95', 'col_96', 'col_97', 'col_98', 'col_99']\n"
     ]
    }
   ],
   "source": [
    "with open(filename_2, \"r\") as f:\n",
    "    new_col_list = [i.strip() for i in f.readlines()]\n",
    "\n",
    "print(new_col_list)"
   ]
  },
  {
   "cell_type": "code",
   "execution_count": 7,
   "metadata": {},
   "outputs": [],
   "source": [
    "for c in new_col_list:\n",
    "    if not c in col_dict:\n",
    "        col_name_list.append(c)\n",
    "        col_dict[c] = [\"string\", \"COMMENTS ''\"]"
   ]
  },
  {
   "cell_type": "code",
   "execution_count": 8,
   "metadata": {},
   "outputs": [],
   "source": [
    "filename_3 = \"create_table_2.sql\"\n",
    "with open(filename_3, \"w\") as f:\n",
    "    for i in range(len(col_name_list)):\n",
    "        c = col_name_list[i]\n",
    "        col_data = f\"{c}\\t{' '.join(col_dict[c])}\"\n",
    "        if i < len(col_name_list) - 1:\n",
    "            col_data += \" ,\"\n",
    "        col_data += \"\\n\"\n",
    "        f.write(col_data)"
   ]
  },
  {
   "cell_type": "code",
   "execution_count": null,
   "metadata": {},
   "outputs": [],
   "source": []
  }
 ],
 "metadata": {
  "kernelspec": {
   "display_name": "Python 3",
   "language": "python",
   "name": "python3"
  },
  "language_info": {
   "codemirror_mode": {
    "name": "ipython",
    "version": 3
   },
   "file_extension": ".py",
   "mimetype": "text/x-python",
   "name": "python",
   "nbconvert_exporter": "python",
   "pygments_lexer": "ipython3",
   "version": "3.6.5"
  },
  "toc": {
   "base_numbering": 1,
   "nav_menu": {},
   "number_sections": false,
   "sideBar": false,
   "skip_h1_title": false,
   "title_cell": "Table of Contents",
   "title_sidebar": "Contents",
   "toc_cell": false,
   "toc_position": {},
   "toc_section_display": false,
   "toc_window_display": false
  }
 },
 "nbformat": 4,
 "nbformat_minor": 2
}
