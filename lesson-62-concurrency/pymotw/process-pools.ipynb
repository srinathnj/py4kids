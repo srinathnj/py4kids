{
 "cells": [
  {
   "cell_type": "markdown",
   "metadata": {},
   "source": [
    "see https://pymotw.com/3/multiprocessing/communication.html#process-pools"
   ]
  },
  {
   "cell_type": "code",
   "execution_count": null,
   "metadata": {},
   "outputs": [],
   "source": [
    "import multiprocessing\n",
    "\n",
    "\n",
    "def do_calculation(data):\n",
    "    return data * 2\n",
    "\n",
    "\n",
    "def start_process():\n",
    "    print('Starting', multiprocessing.current_process().name)\n",
    "    \n",
    "\n",
    "def main(max_num):\n",
    "    inputs = list(range(max_num))\n",
    "    print('Input   :', inputs)\n",
    "\n",
    "#     builtin_outputs = map(do_calculation, inputs)\n",
    "#     print('Built-in:', builtin_outputs)\n",
    "\n",
    "    pool_size = multiprocessing.cpu_count() * 2\n",
    "    pool = multiprocessing.Pool(\n",
    "        processes=pool_size,\n",
    "        initializer=start_process,\n",
    "    )\n",
    "    pool_outputs = pool.map(do_calculation, inputs)\n",
    "    pool.close()  # no more tasks\n",
    "    pool.join()  # wrap up current tasks\n",
    "\n",
    "    print('Pool    :', pool_outputs)"
   ]
  },
  {
   "cell_type": "code",
   "execution_count": null,
   "metadata": {},
   "outputs": [],
   "source": [
    "print(f\"cpu_count = {multiprocessing.cpu_count()}\")"
   ]
  },
  {
   "cell_type": "code",
   "execution_count": null,
   "metadata": {},
   "outputs": [],
   "source": [
    "main(20)"
   ]
  },
  {
   "cell_type": "code",
   "execution_count": 1,
   "metadata": {},
   "outputs": [],
   "source": [
    "import random"
   ]
  },
  {
   "cell_type": "code",
   "execution_count": 2,
   "metadata": {},
   "outputs": [
    {
     "name": "stdout",
     "output_type": "stream",
     "text": [
      "0 : 9\n",
      "1 : 5\n",
      "2 : 8\n",
      "3 : 10\n",
      "4 : 4\n",
      "5 : 9\n",
      "6 : 7\n",
      "7 : 4\n",
      "8 : 6\n",
      "9 : 6\n"
     ]
    }
   ],
   "source": [
    "for i in range(10):\n",
    "    n = random.randint(4, 10)\n",
    "    print(f\"{i} : {n}\")"
   ]
  },
  {
   "cell_type": "code",
   "execution_count": null,
   "metadata": {},
   "outputs": [],
   "source": []
  }
 ],
 "metadata": {
  "kernelspec": {
   "display_name": "Python 3",
   "language": "python",
   "name": "python3"
  },
  "language_info": {
   "codemirror_mode": {
    "name": "ipython",
    "version": 3
   },
   "file_extension": ".py",
   "mimetype": "text/x-python",
   "name": "python",
   "nbconvert_exporter": "python",
   "pygments_lexer": "ipython3",
   "version": "3.8.5"
  },
  "toc": {
   "base_numbering": 1,
   "nav_menu": {},
   "number_sections": true,
   "sideBar": true,
   "skip_h1_title": false,
   "title_cell": "Table of Contents",
   "title_sidebar": "Contents",
   "toc_cell": false,
   "toc_position": {},
   "toc_section_display": true,
   "toc_window_display": false
  }
 },
 "nbformat": 4,
 "nbformat_minor": 4
}
