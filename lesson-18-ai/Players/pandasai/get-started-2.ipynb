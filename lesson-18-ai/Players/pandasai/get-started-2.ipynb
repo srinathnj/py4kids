{
 "cells": [
  {
   "cell_type": "markdown",
   "id": "0dace0fc-34a3-493c-806b-64f43c4550f5",
   "metadata": {},
   "source": [
    "PandasAI is still a work-in-progress"
   ]
  },
  {
   "cell_type": "code",
   "execution_count": 43,
   "id": "8fb8daaa-1798-4a21-ad82-20fddeb6ea07",
   "metadata": {},
   "outputs": [],
   "source": [
    "from api_key_store import ApiKeyStore\n",
    "import os"
   ]
  },
  {
   "cell_type": "code",
   "execution_count": 44,
   "id": "0560773c-fe83-401c-88f2-a7dffc4806bb",
   "metadata": {},
   "outputs": [],
   "source": [
    "import pandas as pd\n",
    "from pandasai import Agent, SmartDataframe"
   ]
  },
  {
   "cell_type": "code",
   "execution_count": 45,
   "id": "778a83be-a261-4dc5-9c1e-d2ee1e500322",
   "metadata": {},
   "outputs": [],
   "source": [
    "s = ApiKeyStore()\n",
    "# By default, unless you choose a different LLM, it will use BambooLLM.\n",
    "# You can get your free API key signing up at https://pandabi.ai (you can also configure it in your .env file)\n",
    "os.environ[\"PANDASAI_API_KEY\"] = s.get_api_key(provider=\"PANDASAI\") "
   ]
  },
  {
   "cell_type": "raw",
   "id": "28e1ddb4-5f71-444d-a4d2-6f49cc6baa97",
   "metadata": {},
   "source": [
    "s.get_api_key(provider=\"GITHUB\") "
   ]
  },
  {
   "cell_type": "markdown",
   "id": "a365435c-e3b2-4659-824e-dc4faf71340a",
   "metadata": {},
   "source": [
    "## Quick Demo"
   ]
  },
  {
   "cell_type": "code",
   "execution_count": 31,
   "id": "c0e05e63-a099-4518-a1a3-7afb9a61100f",
   "metadata": {},
   "outputs": [],
   "source": [
    "# Sample DataFrame\n",
    "sales_by_country = pd.DataFrame({\n",
    "    \"country\": [\"United States\", \"United Kingdom\", \"France\", \"Germany\", \"Italy\", \"Spain\", \"Canada\", \"Australia\", \"Japan\", \"China\"],\n",
    "    \"sales\": [5000, 3200, 2900, 4100, 2300, 2100, 2500, 2600, 4500, 7000]\n",
    "})"
   ]
  },
  {
   "cell_type": "code",
   "execution_count": 38,
   "id": "f01a8f19-ea77-4541-b4c7-9a25add29bea",
   "metadata": {},
   "outputs": [
    {
     "data": {
      "text/html": [
       "<div>\n",
       "<style scoped>\n",
       "    .dataframe tbody tr th:only-of-type {\n",
       "        vertical-align: middle;\n",
       "    }\n",
       "\n",
       "    .dataframe tbody tr th {\n",
       "        vertical-align: top;\n",
       "    }\n",
       "\n",
       "    .dataframe thead th {\n",
       "        text-align: right;\n",
       "    }\n",
       "</style>\n",
       "<table border=\"1\" class=\"dataframe\">\n",
       "  <thead>\n",
       "    <tr style=\"text-align: right;\">\n",
       "      <th></th>\n",
       "      <th>country</th>\n",
       "      <th>sales</th>\n",
       "    </tr>\n",
       "  </thead>\n",
       "  <tbody>\n",
       "    <tr>\n",
       "      <th>0</th>\n",
       "      <td>United States</td>\n",
       "      <td>5000</td>\n",
       "    </tr>\n",
       "    <tr>\n",
       "      <th>1</th>\n",
       "      <td>United Kingdom</td>\n",
       "      <td>3200</td>\n",
       "    </tr>\n",
       "    <tr>\n",
       "      <th>2</th>\n",
       "      <td>France</td>\n",
       "      <td>2900</td>\n",
       "    </tr>\n",
       "    <tr>\n",
       "      <th>3</th>\n",
       "      <td>Germany</td>\n",
       "      <td>4100</td>\n",
       "    </tr>\n",
       "    <tr>\n",
       "      <th>4</th>\n",
       "      <td>Italy</td>\n",
       "      <td>2300</td>\n",
       "    </tr>\n",
       "    <tr>\n",
       "      <th>5</th>\n",
       "      <td>Spain</td>\n",
       "      <td>2100</td>\n",
       "    </tr>\n",
       "    <tr>\n",
       "      <th>6</th>\n",
       "      <td>Canada</td>\n",
       "      <td>2500</td>\n",
       "    </tr>\n",
       "    <tr>\n",
       "      <th>7</th>\n",
       "      <td>Australia</td>\n",
       "      <td>2600</td>\n",
       "    </tr>\n",
       "    <tr>\n",
       "      <th>8</th>\n",
       "      <td>Japan</td>\n",
       "      <td>4500</td>\n",
       "    </tr>\n",
       "    <tr>\n",
       "      <th>9</th>\n",
       "      <td>China</td>\n",
       "      <td>7000</td>\n",
       "    </tr>\n",
       "  </tbody>\n",
       "</table>\n",
       "</div>"
      ],
      "text/plain": [
       "          country  sales\n",
       "0   United States   5000\n",
       "1  United Kingdom   3200\n",
       "2          France   2900\n",
       "3         Germany   4100\n",
       "4           Italy   2300\n",
       "5           Spain   2100\n",
       "6          Canada   2500\n",
       "7       Australia   2600\n",
       "8           Japan   4500\n",
       "9           China   7000"
      ]
     },
     "execution_count": 38,
     "metadata": {},
     "output_type": "execute_result"
    }
   ],
   "source": [
    "sales_by_country"
   ]
  },
  {
   "cell_type": "markdown",
   "id": "af8aa66d-3453-4aca-ad46-093b349e349d",
   "metadata": {},
   "source": [
    "### SmartDataframe"
   ]
  },
  {
   "cell_type": "code",
   "execution_count": 36,
   "id": "a815f469-bb87-4038-866c-e87a8788107e",
   "metadata": {},
   "outputs": [],
   "source": [
    "sdf = SmartDataframe(sales_by_country)"
   ]
  },
  {
   "cell_type": "code",
   "execution_count": 37,
   "id": "9384ae8e-ee06-46e2-9743-c248a1084524",
   "metadata": {},
   "outputs": [
    {
     "name": "stdout",
     "output_type": "stream",
     "text": [
      "          country  sales\n",
      "9           China   7000\n",
      "0   United States   5000\n",
      "8           Japan   4500\n",
      "3         Germany   4100\n",
      "1  United Kingdom   3200\n"
     ]
    }
   ],
   "source": [
    "response = sdf.chat('Which are the top 5 countries by sales?')\n",
    "# print(response)"
   ]
  },
  {
   "cell_type": "code",
   "execution_count": 39,
   "id": "dccf2753-3aab-45f1-b441-2adefefce2fd",
   "metadata": {},
   "outputs": [
    {
     "data": {
      "text/html": [
       "<div>\n",
       "<style scoped>\n",
       "    .dataframe tbody tr th:only-of-type {\n",
       "        vertical-align: middle;\n",
       "    }\n",
       "\n",
       "    .dataframe tbody tr th {\n",
       "        vertical-align: top;\n",
       "    }\n",
       "\n",
       "    .dataframe thead th {\n",
       "        text-align: right;\n",
       "    }\n",
       "</style>\n",
       "<table border=\"1\" class=\"dataframe\">\n",
       "  <thead>\n",
       "    <tr style=\"text-align: right;\">\n",
       "      <th></th>\n",
       "      <th>country</th>\n",
       "      <th>sales</th>\n",
       "    </tr>\n",
       "  </thead>\n",
       "  <tbody>\n",
       "    <tr>\n",
       "      <th>9</th>\n",
       "      <td>China</td>\n",
       "      <td>7000</td>\n",
       "    </tr>\n",
       "    <tr>\n",
       "      <th>0</th>\n",
       "      <td>United States</td>\n",
       "      <td>5000</td>\n",
       "    </tr>\n",
       "    <tr>\n",
       "      <th>8</th>\n",
       "      <td>Japan</td>\n",
       "      <td>4500</td>\n",
       "    </tr>\n",
       "    <tr>\n",
       "      <th>3</th>\n",
       "      <td>Germany</td>\n",
       "      <td>4100</td>\n",
       "    </tr>\n",
       "    <tr>\n",
       "      <th>1</th>\n",
       "      <td>United Kingdom</td>\n",
       "      <td>3200</td>\n",
       "    </tr>\n",
       "  </tbody>\n",
       "</table>\n",
       "</div>"
      ],
      "text/plain": [
       "          country  sales\n",
       "9           China   7000\n",
       "0   United States   5000\n",
       "8           Japan   4500\n",
       "3         Germany   4100\n",
       "1  United Kingdom   3200"
      ]
     },
     "execution_count": 39,
     "metadata": {},
     "output_type": "execute_result"
    }
   ],
   "source": [
    "response"
   ]
  },
  {
   "cell_type": "code",
   "execution_count": null,
   "id": "a8792a13-fa90-4c0c-9365-7a58efc98372",
   "metadata": {},
   "outputs": [],
   "source": []
  },
  {
   "cell_type": "markdown",
   "id": "ab841d55-bab6-4707-9fb0-79e25f124846",
   "metadata": {},
   "source": [
    "### Agent"
   ]
  },
  {
   "cell_type": "code",
   "execution_count": 32,
   "id": "cd60d284-4b58-4e53-a591-5188660a7c39",
   "metadata": {},
   "outputs": [
    {
     "data": {
      "text/html": [
       "<div>\n",
       "<style scoped>\n",
       "    .dataframe tbody tr th:only-of-type {\n",
       "        vertical-align: middle;\n",
       "    }\n",
       "\n",
       "    .dataframe tbody tr th {\n",
       "        vertical-align: top;\n",
       "    }\n",
       "\n",
       "    .dataframe thead th {\n",
       "        text-align: right;\n",
       "    }\n",
       "</style>\n",
       "<table border=\"1\" class=\"dataframe\">\n",
       "  <thead>\n",
       "    <tr style=\"text-align: right;\">\n",
       "      <th></th>\n",
       "      <th>country</th>\n",
       "      <th>sales</th>\n",
       "    </tr>\n",
       "  </thead>\n",
       "  <tbody>\n",
       "    <tr>\n",
       "      <th>9</th>\n",
       "      <td>China</td>\n",
       "      <td>7000</td>\n",
       "    </tr>\n",
       "    <tr>\n",
       "      <th>0</th>\n",
       "      <td>United States</td>\n",
       "      <td>5000</td>\n",
       "    </tr>\n",
       "    <tr>\n",
       "      <th>8</th>\n",
       "      <td>Japan</td>\n",
       "      <td>4500</td>\n",
       "    </tr>\n",
       "    <tr>\n",
       "      <th>3</th>\n",
       "      <td>Germany</td>\n",
       "      <td>4100</td>\n",
       "    </tr>\n",
       "    <tr>\n",
       "      <th>1</th>\n",
       "      <td>United Kingdom</td>\n",
       "      <td>3200</td>\n",
       "    </tr>\n",
       "  </tbody>\n",
       "</table>\n",
       "</div>"
      ],
      "text/plain": [
       "          country  sales\n",
       "9           China   7000\n",
       "0   United States   5000\n",
       "8           Japan   4500\n",
       "3         Germany   4100\n",
       "1  United Kingdom   3200"
      ]
     },
     "execution_count": 32,
     "metadata": {},
     "output_type": "execute_result"
    }
   ],
   "source": [
    "agent = Agent(sales_by_country)\n",
    "agent.chat('Which are the top 5 countries by sales?')"
   ]
  },
  {
   "cell_type": "code",
   "execution_count": 8,
   "id": "6dae2969-a8da-4381-a347-7564479abf1d",
   "metadata": {},
   "outputs": [
    {
     "data": {
      "text/html": [
       "<div>\n",
       "<style scoped>\n",
       "    .dataframe tbody tr th:only-of-type {\n",
       "        vertical-align: middle;\n",
       "    }\n",
       "\n",
       "    .dataframe tbody tr th {\n",
       "        vertical-align: top;\n",
       "    }\n",
       "\n",
       "    .dataframe thead th {\n",
       "        text-align: right;\n",
       "    }\n",
       "</style>\n",
       "<table border=\"1\" class=\"dataframe\">\n",
       "  <thead>\n",
       "    <tr style=\"text-align: right;\">\n",
       "      <th></th>\n",
       "      <th>country</th>\n",
       "      <th>sales</th>\n",
       "    </tr>\n",
       "  </thead>\n",
       "  <tbody>\n",
       "    <tr>\n",
       "      <th>9</th>\n",
       "      <td>China</td>\n",
       "      <td>7000</td>\n",
       "    </tr>\n",
       "    <tr>\n",
       "      <th>0</th>\n",
       "      <td>United States</td>\n",
       "      <td>5000</td>\n",
       "    </tr>\n",
       "    <tr>\n",
       "      <th>8</th>\n",
       "      <td>Japan</td>\n",
       "      <td>4500</td>\n",
       "    </tr>\n",
       "    <tr>\n",
       "      <th>3</th>\n",
       "      <td>Germany</td>\n",
       "      <td>4100</td>\n",
       "    </tr>\n",
       "    <tr>\n",
       "      <th>1</th>\n",
       "      <td>United Kingdom</td>\n",
       "      <td>3200</td>\n",
       "    </tr>\n",
       "    <tr>\n",
       "      <th>2</th>\n",
       "      <td>France</td>\n",
       "      <td>2900</td>\n",
       "    </tr>\n",
       "    <tr>\n",
       "      <th>7</th>\n",
       "      <td>Australia</td>\n",
       "      <td>2600</td>\n",
       "    </tr>\n",
       "    <tr>\n",
       "      <th>6</th>\n",
       "      <td>Canada</td>\n",
       "      <td>2500</td>\n",
       "    </tr>\n",
       "    <tr>\n",
       "      <th>4</th>\n",
       "      <td>Italy</td>\n",
       "      <td>2300</td>\n",
       "    </tr>\n",
       "    <tr>\n",
       "      <th>5</th>\n",
       "      <td>Spain</td>\n",
       "      <td>2100</td>\n",
       "    </tr>\n",
       "  </tbody>\n",
       "</table>\n",
       "</div>"
      ],
      "text/plain": [
       "          country  sales\n",
       "9           China   7000\n",
       "0   United States   5000\n",
       "8           Japan   4500\n",
       "3         Germany   4100\n",
       "1  United Kingdom   3200\n",
       "2          France   2900\n",
       "7       Australia   2600\n",
       "6          Canada   2500\n",
       "4           Italy   2300\n",
       "5           Spain   2100"
      ]
     },
     "execution_count": 8,
     "metadata": {},
     "output_type": "execute_result"
    }
   ],
   "source": [
    "agent.chat(\n",
    "    \"Sort the country by sales in descending order\"\n",
    ")"
   ]
  },
  {
   "cell_type": "code",
   "execution_count": 8,
   "id": "212a13a6-8538-4dc6-846d-715b02a998c5",
   "metadata": {},
   "outputs": [],
   "source": [
    "df1 = agent.chat('Please sort the dataframe by sales in descending order')"
   ]
  },
  {
   "cell_type": "code",
   "execution_count": 10,
   "id": "c74bbbe3-8ff2-4545-9098-8ba3c55d62da",
   "metadata": {},
   "outputs": [
    {
     "data": {
      "text/html": [
       "<div>\n",
       "<style scoped>\n",
       "    .dataframe tbody tr th:only-of-type {\n",
       "        vertical-align: middle;\n",
       "    }\n",
       "\n",
       "    .dataframe tbody tr th {\n",
       "        vertical-align: top;\n",
       "    }\n",
       "\n",
       "    .dataframe thead th {\n",
       "        text-align: right;\n",
       "    }\n",
       "</style>\n",
       "<table border=\"1\" class=\"dataframe\">\n",
       "  <thead>\n",
       "    <tr style=\"text-align: right;\">\n",
       "      <th></th>\n",
       "      <th>country</th>\n",
       "      <th>sales</th>\n",
       "    </tr>\n",
       "  </thead>\n",
       "  <tbody>\n",
       "    <tr>\n",
       "      <th>9</th>\n",
       "      <td>China</td>\n",
       "      <td>7000</td>\n",
       "    </tr>\n",
       "    <tr>\n",
       "      <th>0</th>\n",
       "      <td>United States</td>\n",
       "      <td>5000</td>\n",
       "    </tr>\n",
       "    <tr>\n",
       "      <th>8</th>\n",
       "      <td>Japan</td>\n",
       "      <td>4500</td>\n",
       "    </tr>\n",
       "  </tbody>\n",
       "</table>\n",
       "</div>"
      ],
      "text/plain": [
       "         country  sales\n",
       "9          China   7000\n",
       "0  United States   5000\n",
       "8          Japan   4500"
      ]
     },
     "execution_count": 10,
     "metadata": {},
     "output_type": "execute_result"
    }
   ],
   "source": [
    "df1[:3]"
   ]
  },
  {
   "cell_type": "code",
   "execution_count": 11,
   "id": "6657aa34-d4df-48f9-a87a-447e60921560",
   "metadata": {},
   "outputs": [
    {
     "data": {
      "text/plain": [
       "16500"
      ]
     },
     "execution_count": 11,
     "metadata": {},
     "output_type": "execute_result"
    }
   ],
   "source": [
    "agent.chat(\n",
    "    \"add the sales number for the top 3 countries by sales?\"\n",
    ")"
   ]
  },
  {
   "cell_type": "code",
   "execution_count": 12,
   "id": "2f59902b-0f62-47f2-9cbf-3a60cbffa6b1",
   "metadata": {},
   "outputs": [
    {
     "data": {
      "text/plain": [
       "16500"
      ]
     },
     "execution_count": 12,
     "metadata": {},
     "output_type": "execute_result"
    }
   ],
   "source": [
    "7000 + 5000 + 4500"
   ]
  },
  {
   "cell_type": "markdown",
   "id": "bb5d8994-d7a5-4a63-ba0f-7decb6963d0e",
   "metadata": {},
   "source": [
    "above answer is wrong"
   ]
  },
  {
   "cell_type": "code",
   "execution_count": 13,
   "id": "3d783c59-1a18-4703-b314-957e1b766646",
   "metadata": {},
   "outputs": [
    {
     "data": {
      "image/png": "[encoded data removed]",
      "text/plain": [
       "<Figure size 1000x600 with 1 Axes>"
      ]
     },
     "metadata": {},
     "output_type": "display_data"
    },
    {
     "name": "stderr",
     "output_type": "stream",
     "text": [
      "Traceback (most recent call last):\n",
      "  File \"/home/gongai/anaconda3/envs/pandasai/lib/python3.11/site-packages/pandasai/pipelines/chat/generate_chat_pipeline.py\", line 307, in run\n",
      "    output = (self.code_generation_pipeline | self.code_execution_pipeline).run(\n",
      "             ^^^^^^^^^^^^^^^^^^^^^^^^^^^^^^^^^^^^^^^^^^^^^^^^^^^^^^^^^^^^^^^^^^^\n",
      "  File \"/home/gongai/anaconda3/envs/pandasai/lib/python3.11/site-packages/pandasai/pipelines/pipeline.py\", line 137, in run\n",
      "    raise e\n",
      "  File \"/home/gongai/anaconda3/envs/pandasai/lib/python3.11/site-packages/pandasai/pipelines/pipeline.py\", line 101, in run\n",
      "    step_output = logic.execute(\n",
      "                  ^^^^^^^^^^^^^^\n",
      "  File \"/home/gongai/anaconda3/envs/pandasai/lib/python3.11/site-packages/pandasai/pipelines/chat/code_execution.py\", line 133, in execute\n",
      "    {\"content_type\": \"response\", \"value\": ResponseSerializer.serialize(result)},\n",
      "                                          ^^^^^^^^^^^^^^^^^^^^^^^^^^^^^^^^^^^^\n",
      "  File \"/home/gongai/anaconda3/envs/pandasai/lib/python3.11/site-packages/pandasai/responses/response_serializer.py\", line 35, in serialize\n",
      "    with open(result[\"value\"], \"rb\") as image_file:\n",
      "         ^^^^^^^^^^^^^^^^^^^^^^^^^^^\n",
      "FileNotFoundError: [Errno 2] No such file or directory: '/home/gongai/projects/wgong/py4kids/lesson-18-ai/pandasai/exports/charts/temp_chart.png'\n"
     ]
    },
    {
     "data": {
      "text/plain": [
       "\"Unfortunately, I was not able to answer your question, because of the following error:\\n\\n[Errno 2] No such file or directory: '/home/gongai/projects/wgong/py4kids/lesson-18-ai/pandasai/exports/charts/temp_chart.png'\\n\""
      ]
     },
     "execution_count": 13,
     "metadata": {},
     "output_type": "execute_result"
    }
   ],
   "source": [
    "agent.chat(\"\"\"\n",
    "First, Sort the country by sales in descending order;\n",
    "Then, Plot the histogram of countries showing for each the gdp, using different colors for each bar\n",
    "\"\"\"\n",
    ")"
   ]
  },
  {
   "cell_type": "markdown",
   "id": "5064661b-6e84-4671-b094-c91f18432639",
   "metadata": {},
   "source": [
    "## [Yahoo-Finance connector](https://docs.pandas-ai.com/connectors#yahoo-finance-connector)"
   ]
  },
  {
   "cell_type": "code",
   "execution_count": 1,
   "id": "82d4cea7-6ea8-4d32-89a1-e7f600a11ef9",
   "metadata": {},
   "outputs": [],
   "source": [
    "from pandasai import SmartDataframe\n",
    "from pandasai.connectors.yahoo_finance import YahooFinanceConnector\n",
    "\n",
    "yahoo_connector = YahooFinanceConnector(\"MSFT\")"
   ]
  },
  {
   "cell_type": "code",
   "execution_count": 6,
   "id": "bb32f87e-9c10-4794-8ee5-8ea079708c00",
   "metadata": {},
   "outputs": [
    {
     "data": {
      "text/plain": [
       "414.6700134277344"
      ]
     },
     "execution_count": 6,
     "metadata": {},
     "output_type": "execute_result"
    }
   ],
   "source": [
    "df = SmartDataframe(yahoo_connector)\n",
    "df.chat(\"What is the closing price for yesterday?\")"
   ]
  },
  {
   "cell_type": "code",
   "execution_count": 10,
   "id": "8671e594-ab82-4fad-92b6-4efdeac6d157",
   "metadata": {},
   "outputs": [
    {
     "data": {
      "text/html": [
       "<div>\n",
       "<style scoped>\n",
       "    .dataframe tbody tr th:only-of-type {\n",
       "        vertical-align: middle;\n",
       "    }\n",
       "\n",
       "    .dataframe tbody tr th {\n",
       "        vertical-align: top;\n",
       "    }\n",
       "\n",
       "    .dataframe thead th {\n",
       "        text-align: right;\n",
       "    }\n",
       "</style>\n",
       "<table border=\"1\" class=\"dataframe\">\n",
       "  <thead>\n",
       "    <tr style=\"text-align: right;\">\n",
       "      <th></th>\n",
       "      <th>Open</th>\n",
       "      <th>High</th>\n",
       "      <th>Low</th>\n",
       "      <th>Close</th>\n",
       "      <th>Volume</th>\n",
       "      <th>Dividends</th>\n",
       "      <th>Stock Splits</th>\n",
       "    </tr>\n",
       "    <tr>\n",
       "      <th>Date</th>\n",
       "      <th></th>\n",
       "      <th></th>\n",
       "      <th></th>\n",
       "      <th></th>\n",
       "      <th></th>\n",
       "      <th></th>\n",
       "      <th></th>\n",
       "    </tr>\n",
       "  </thead>\n",
       "  <tbody>\n",
       "    <tr>\n",
       "      <th>2024-05-23 00:00:00-04:00</th>\n",
       "      <td>432.970001</td>\n",
       "      <td>433.600006</td>\n",
       "      <td>425.420013</td>\n",
       "      <td>427.000000</td>\n",
       "      <td>17211700</td>\n",
       "      <td>0.0</td>\n",
       "      <td>0.0</td>\n",
       "    </tr>\n",
       "    <tr>\n",
       "      <th>2024-05-24 00:00:00-04:00</th>\n",
       "      <td>427.190002</td>\n",
       "      <td>431.059998</td>\n",
       "      <td>424.410004</td>\n",
       "      <td>430.160004</td>\n",
       "      <td>11845800</td>\n",
       "      <td>0.0</td>\n",
       "      <td>0.0</td>\n",
       "    </tr>\n",
       "    <tr>\n",
       "      <th>2024-05-28 00:00:00-04:00</th>\n",
       "      <td>429.630005</td>\n",
       "      <td>430.820007</td>\n",
       "      <td>426.600006</td>\n",
       "      <td>430.320007</td>\n",
       "      <td>15718000</td>\n",
       "      <td>0.0</td>\n",
       "      <td>0.0</td>\n",
       "    </tr>\n",
       "    <tr>\n",
       "      <th>2024-05-29 00:00:00-04:00</th>\n",
       "      <td>425.690002</td>\n",
       "      <td>430.940002</td>\n",
       "      <td>425.690002</td>\n",
       "      <td>429.170013</td>\n",
       "      <td>15517100</td>\n",
       "      <td>0.0</td>\n",
       "      <td>0.0</td>\n",
       "    </tr>\n",
       "    <tr>\n",
       "      <th>2024-05-30 00:00:00-04:00</th>\n",
       "      <td>424.041992</td>\n",
       "      <td>424.190002</td>\n",
       "      <td>414.239990</td>\n",
       "      <td>414.670013</td>\n",
       "      <td>28341303</td>\n",
       "      <td>0.0</td>\n",
       "      <td>0.0</td>\n",
       "    </tr>\n",
       "  </tbody>\n",
       "</table>\n",
       "</div>"
      ],
      "text/plain": [
       "                                 Open        High         Low       Close  \\\n",
       "Date                                                                        \n",
       "2024-05-23 00:00:00-04:00  432.970001  433.600006  425.420013  427.000000   \n",
       "2024-05-24 00:00:00-04:00  427.190002  431.059998  424.410004  430.160004   \n",
       "2024-05-28 00:00:00-04:00  429.630005  430.820007  426.600006  430.320007   \n",
       "2024-05-29 00:00:00-04:00  425.690002  430.940002  425.690002  429.170013   \n",
       "2024-05-30 00:00:00-04:00  424.041992  424.190002  414.239990  414.670013   \n",
       "\n",
       "                             Volume  Dividends  Stock Splits  \n",
       "Date                                                          \n",
       "2024-05-23 00:00:00-04:00  17211700        0.0           0.0  \n",
       "2024-05-24 00:00:00-04:00  11845800        0.0           0.0  \n",
       "2024-05-28 00:00:00-04:00  15718000        0.0           0.0  \n",
       "2024-05-29 00:00:00-04:00  15517100        0.0           0.0  \n",
       "2024-05-30 00:00:00-04:00  28341303        0.0           0.0  "
      ]
     },
     "execution_count": 10,
     "metadata": {},
     "output_type": "execute_result"
    }
   ],
   "source": [
    "df.chat(\"What are the latest 5 rows?\")"
   ]
  },
  {
   "cell_type": "markdown",
   "id": "616d8a6b-f0d9-43f1-a4d3-71ae10674173",
   "metadata": {},
   "source": [
    "## [SmartDataLake](https://docs.pandas-ai.com/examples#working-with-multiple-dataframes-using-the-smartdatalake)"
   ]
  },
  {
   "cell_type": "code",
   "execution_count": 46,
   "id": "e8b69957-8e35-4325-b45d-f8bace1d0c0a",
   "metadata": {},
   "outputs": [],
   "source": [
    "from pandasai import SmartDatalake\n",
    "import pandas as pd\n",
    "\n",
    "employees_data = {\n",
    "    'EmployeeID': [1, 2, 3, 4, 5],\n",
    "    'Name': ['John', 'Emma', 'Liam', 'Olivia', 'William'],\n",
    "    'Department': ['HR', 'Sales', 'IT', 'Marketing', 'Finance']\n",
    "}\n",
    "\n",
    "salaries_data = {\n",
    "    'EmployeeID': [1, 2, 3, 4, 5],\n",
    "    'Salary': [5000, 6000, 4500, 7000, 5500]\n",
    "}\n",
    "\n",
    "employees_df = pd.DataFrame(employees_data)\n",
    "salaries_df = pd.DataFrame(salaries_data)"
   ]
  },
  {
   "cell_type": "code",
   "execution_count": 47,
   "id": "6f95d0ca-6b79-4a72-980a-4d56ea201eff",
   "metadata": {},
   "outputs": [
    {
     "name": "stderr",
     "output_type": "stream",
     "text": [
      "Traceback (most recent call last):\n",
      "  File \"/home/gongai/anaconda3/envs/pandasai/lib/python3.11/site-packages/pandasai/pipelines/chat/generate_chat_pipeline.py\", line 307, in run\n",
      "    output = (self.code_generation_pipeline | self.code_execution_pipeline).run(\n",
      "             ^^^^^^^^^^^^^^^^^^^^^^^^^^^^^^^^^^^^^^^^^^^^^^^^^^^^^^^^^^^^^^^^^^^\n",
      "  File \"/home/gongai/anaconda3/envs/pandasai/lib/python3.11/site-packages/pandasai/pipelines/pipeline.py\", line 137, in run\n",
      "    raise e\n",
      "  File \"/home/gongai/anaconda3/envs/pandasai/lib/python3.11/site-packages/pandasai/pipelines/pipeline.py\", line 101, in run\n",
      "    step_output = logic.execute(\n",
      "                  ^^^^^^^^^^^^^^\n",
      "  File \"/home/gongai/anaconda3/envs/pandasai/lib/python3.11/site-packages/pandasai/pipelines/chat/code_generator.py\", line 33, in execute\n",
      "    code = pipeline_context.config.llm.generate_code(input, pipeline_context)\n",
      "           ^^^^^^^^^^^^^^^^^^^^^^^^^^^^^^^^^^^^^^^^^^^^^^^^^^^^^^^^^^^^^^^^^^\n",
      "  File \"/home/gongai/anaconda3/envs/pandasai/lib/python3.11/site-packages/pandasai/llm/base.py\", line 202, in generate_code\n",
      "    return self._extract_code(response)\n",
      "           ^^^^^^^^^^^^^^^^^^^^^^^^^^^^\n",
      "  File \"/home/gongai/anaconda3/envs/pandasai/lib/python3.11/site-packages/pandasai/llm/base.py\", line 127, in _extract_code\n",
      "    raise NoCodeFoundError(\"No code found in the response\")\n",
      "pandasai.exceptions.NoCodeFoundError: No code found in the response\n"
     ]
    }
   ],
   "source": [
    "lake = SmartDatalake([employees_df, salaries_df])\n",
    "response = lake.chat(\"Who gets paid the most?\")"
   ]
  },
  {
   "cell_type": "code",
   "execution_count": 48,
   "id": "f0c695ad-c832-479e-9ae9-80256f298be4",
   "metadata": {},
   "outputs": [
    {
     "data": {
      "text/plain": [
       "'Unfortunately, I was not able to answer your question, because of the following error:\\n\\nNo code found in the response\\n'"
      ]
     },
     "execution_count": 48,
     "metadata": {},
     "output_type": "execute_result"
    }
   ],
   "source": [
    "response"
   ]
  },
  {
   "cell_type": "markdown",
   "id": "f2299637-0eb5-466d-a612-d21a5c495461",
   "metadata": {},
   "source": [
    "## Agent\n",
    "\n",
    "- https://docs.pandas-ai.com/examples#working-with-agent"
   ]
  },
  {
   "cell_type": "code",
   "execution_count": 49,
   "id": "e57ba68c-e135-4f46-9a83-876a21529214",
   "metadata": {},
   "outputs": [],
   "source": [
    "agent = Agent([employees_df, salaries_df], memory_size=10)"
   ]
  },
  {
   "cell_type": "code",
   "execution_count": 50,
   "id": "bc279233-1289-4d4d-8606-7dd507b41f94",
   "metadata": {},
   "outputs": [],
   "source": [
    "query = \"Who gets paid the most?\""
   ]
  },
  {
   "cell_type": "code",
   "execution_count": 51,
   "id": "386a01ee-e141-4636-8173-826902542d2f",
   "metadata": {},
   "outputs": [
    {
     "data": {
      "text/plain": [
       "'The employee who gets paid the most is Olivia from the Marketing department with a salary of $7000.'"
      ]
     },
     "execution_count": 51,
     "metadata": {},
     "output_type": "execute_result"
    }
   ],
   "source": [
    "# Chat with the agent\n",
    "response = agent.chat(query)\n",
    "response"
   ]
  },
  {
   "cell_type": "code",
   "execution_count": 52,
   "id": "bd961ff0-780d-4a63-a1d6-77d16c5a0a81",
   "metadata": {},
   "outputs": [
    {
     "data": {
      "text/plain": [
       "'Unfortunately, I was not able to explain, because of the following error:\\n\\nImplementation required\\n'"
      ]
     },
     "execution_count": 52,
     "metadata": {},
     "output_type": "execute_result"
    }
   ],
   "source": [
    "response = agent.explain()\n",
    "response"
   ]
  },
  {
   "cell_type": "code",
   "execution_count": 53,
   "id": "f7917ef3-56da-42ee-a9f0-30ffa0ca3d0d",
   "metadata": {},
   "outputs": [
    {
     "ename": "NotImplementedError",
     "evalue": "Implementation required",
     "output_type": "error",
     "traceback": [
      "\u001b[0;31m---------------------------------------------------------------------------\u001b[0m",
      "\u001b[0;31mNotImplementedError\u001b[0m                       Traceback (most recent call last)",
      "Cell \u001b[0;32mIn[53], line 2\u001b[0m\n\u001b[1;32m      1\u001b[0m \u001b[38;5;66;03m# Get Clarification Questions\u001b[39;00m\n\u001b[0;32m----> 2\u001b[0m questions \u001b[38;5;241m=\u001b[39m \u001b[43magent\u001b[49m\u001b[38;5;241;43m.\u001b[39;49m\u001b[43mclarification_questions\u001b[49m\u001b[43m(\u001b[49m\u001b[43mquery\u001b[49m\u001b[43m)\u001b[49m\n\u001b[1;32m      4\u001b[0m \u001b[38;5;28;01mfor\u001b[39;00m question \u001b[38;5;129;01min\u001b[39;00m questions:\n\u001b[1;32m      5\u001b[0m     \u001b[38;5;28mprint\u001b[39m(question)\n",
      "File \u001b[0;32m~/anaconda3/envs/pandasai/lib/python3.11/site-packages/pandasai/agent/base.py:418\u001b[0m, in \u001b[0;36mAgent.clarification_questions\u001b[0;34m(self, query)\u001b[0m\n\u001b[1;32m    410\u001b[0m \u001b[38;5;250m\u001b[39m\u001b[38;5;124;03m\"\"\"\u001b[39;00m\n\u001b[1;32m    411\u001b[0m \u001b[38;5;124;03mGenerate clarification questions based on the data\u001b[39;00m\n\u001b[1;32m    412\u001b[0m \u001b[38;5;124;03m\"\"\"\u001b[39;00m\n\u001b[1;32m    413\u001b[0m prompt \u001b[38;5;241m=\u001b[39m ClarificationQuestionPrompt(\n\u001b[1;32m    414\u001b[0m     context\u001b[38;5;241m=\u001b[39m\u001b[38;5;28mself\u001b[39m\u001b[38;5;241m.\u001b[39mcontext,\n\u001b[1;32m    415\u001b[0m     query\u001b[38;5;241m=\u001b[39mquery,\n\u001b[1;32m    416\u001b[0m )\n\u001b[0;32m--> 418\u001b[0m result \u001b[38;5;241m=\u001b[39m \u001b[38;5;28;43mself\u001b[39;49m\u001b[38;5;241;43m.\u001b[39;49m\u001b[43mcall_llm_with_prompt\u001b[49m\u001b[43m(\u001b[49m\u001b[43mprompt\u001b[49m\u001b[43m)\u001b[49m\n\u001b[1;32m    419\u001b[0m \u001b[38;5;28mself\u001b[39m\u001b[38;5;241m.\u001b[39mlogger\u001b[38;5;241m.\u001b[39mlog(\n\u001b[1;32m    420\u001b[0m     \u001b[38;5;124mf\u001b[39m\u001b[38;5;124m\"\"\"\u001b[39m\u001b[38;5;124mClarification Questions:  \u001b[39m\u001b[38;5;132;01m{\u001b[39;00mresult\u001b[38;5;132;01m}\u001b[39;00m\n\u001b[1;32m    421\u001b[0m \u001b[38;5;124m    \u001b[39m\u001b[38;5;124m\"\"\"\u001b[39m\n\u001b[1;32m    422\u001b[0m )\n\u001b[1;32m    423\u001b[0m result \u001b[38;5;241m=\u001b[39m result\u001b[38;5;241m.\u001b[39mreplace(\u001b[38;5;124m\"\u001b[39m\u001b[38;5;124m```json\u001b[39m\u001b[38;5;124m\"\u001b[39m, \u001b[38;5;124m\"\u001b[39m\u001b[38;5;124m\"\u001b[39m)\u001b[38;5;241m.\u001b[39mreplace(\u001b[38;5;124m\"\u001b[39m\u001b[38;5;124m```\u001b[39m\u001b[38;5;124m\"\u001b[39m, \u001b[38;5;124m\"\u001b[39m\u001b[38;5;124m\"\u001b[39m)\n",
      "File \u001b[0;32m~/anaconda3/envs/pandasai/lib/python3.11/site-packages/pandasai/agent/base.py:238\u001b[0m, in \u001b[0;36mAgent.call_llm_with_prompt\u001b[0;34m(self, prompt)\u001b[0m\n\u001b[1;32m    236\u001b[0m \u001b[38;5;28;01mwhile\u001b[39;00m retry_count \u001b[38;5;241m<\u001b[39m \u001b[38;5;28mself\u001b[39m\u001b[38;5;241m.\u001b[39mcontext\u001b[38;5;241m.\u001b[39mconfig\u001b[38;5;241m.\u001b[39mmax_retries:\n\u001b[1;32m    237\u001b[0m     \u001b[38;5;28;01mtry\u001b[39;00m:\n\u001b[0;32m--> 238\u001b[0m         result: \u001b[38;5;28mstr\u001b[39m \u001b[38;5;241m=\u001b[39m \u001b[38;5;28;43mself\u001b[39;49m\u001b[38;5;241;43m.\u001b[39;49m\u001b[43mcontext\u001b[49m\u001b[38;5;241;43m.\u001b[39;49m\u001b[43mconfig\u001b[49m\u001b[38;5;241;43m.\u001b[39;49m\u001b[43mllm\u001b[49m\u001b[38;5;241;43m.\u001b[39;49m\u001b[43mcall\u001b[49m\u001b[43m(\u001b[49m\u001b[43mprompt\u001b[49m\u001b[43m)\u001b[49m\n\u001b[1;32m    239\u001b[0m         \u001b[38;5;28;01mif\u001b[39;00m prompt\u001b[38;5;241m.\u001b[39mvalidate(result):\n\u001b[1;32m    240\u001b[0m             \u001b[38;5;28;01mreturn\u001b[39;00m result\n",
      "File \u001b[0;32m~/anaconda3/envs/pandasai/lib/python3.11/site-packages/pandasai/llm/bamboo_llm.py:17\u001b[0m, in \u001b[0;36mBambooLLM.call\u001b[0;34m(self, instruction, _context)\u001b[0m\n\u001b[1;32m     16\u001b[0m \u001b[38;5;28;01mdef\u001b[39;00m \u001b[38;5;21mcall\u001b[39m(\u001b[38;5;28mself\u001b[39m, instruction: BasePrompt, _context\u001b[38;5;241m=\u001b[39m\u001b[38;5;28;01mNone\u001b[39;00m) \u001b[38;5;241m-\u001b[39m\u001b[38;5;241m>\u001b[39m \u001b[38;5;28mstr\u001b[39m:\n\u001b[0;32m---> 17\u001b[0m     data \u001b[38;5;241m=\u001b[39m \u001b[43minstruction\u001b[49m\u001b[38;5;241;43m.\u001b[39;49m\u001b[43mto_json\u001b[49m\u001b[43m(\u001b[49m\u001b[43m)\u001b[49m\n\u001b[1;32m     18\u001b[0m     response \u001b[38;5;241m=\u001b[39m \u001b[38;5;28mself\u001b[39m\u001b[38;5;241m.\u001b[39m_session\u001b[38;5;241m.\u001b[39mpost(\u001b[38;5;124m\"\u001b[39m\u001b[38;5;124m/llm/chat\u001b[39m\u001b[38;5;124m\"\u001b[39m, json\u001b[38;5;241m=\u001b[39mdata)\n\u001b[1;32m     19\u001b[0m     \u001b[38;5;28;01mreturn\u001b[39;00m response[\u001b[38;5;124m\"\u001b[39m\u001b[38;5;124mdata\u001b[39m\u001b[38;5;124m\"\u001b[39m]\n",
      "File \u001b[0;32m~/anaconda3/envs/pandasai/lib/python3.11/site-packages/pandasai/prompts/base.py:63\u001b[0m, in \u001b[0;36mBasePrompt.to_json\u001b[0;34m(self)\u001b[0m\n\u001b[1;32m     59\u001b[0m \u001b[38;5;28;01mdef\u001b[39;00m \u001b[38;5;21mto_json\u001b[39m(\u001b[38;5;28mself\u001b[39m):\n\u001b[1;32m     60\u001b[0m \u001b[38;5;250m    \u001b[39m\u001b[38;5;124;03m\"\"\"\u001b[39;00m\n\u001b[1;32m     61\u001b[0m \u001b[38;5;124;03m    Return Json Prompt\u001b[39;00m\n\u001b[1;32m     62\u001b[0m \u001b[38;5;124;03m    \"\"\"\u001b[39;00m\n\u001b[0;32m---> 63\u001b[0m     \u001b[38;5;28;01mraise\u001b[39;00m \u001b[38;5;167;01mNotImplementedError\u001b[39;00m(\u001b[38;5;124m\"\u001b[39m\u001b[38;5;124mImplementation required\u001b[39m\u001b[38;5;124m\"\u001b[39m)\n",
      "\u001b[0;31mNotImplementedError\u001b[0m: Implementation required"
     ]
    }
   ],
   "source": [
    "# Get Clarification Questions\n",
    "questions = agent.clarification_questions(query)\n",
    "\n",
    "for question in questions:\n",
    "    print(question)"
   ]
  },
  {
   "cell_type": "code",
   "execution_count": null,
   "id": "233e1cd7-2827-454b-883d-da2584c98495",
   "metadata": {},
   "outputs": [],
   "source": []
  },
  {
   "cell_type": "markdown",
   "id": "41a914df-16d4-4ac6-8372-dfa1cbf48993",
   "metadata": {},
   "source": [
    "## Use Ollama\n",
    "\n",
    "- https://docs.pandas-ai.com/llms#ollama"
   ]
  },
  {
   "cell_type": "code",
   "execution_count": 11,
   "id": "80812382-d84a-4ad6-8812-8e261faacb53",
   "metadata": {},
   "outputs": [],
   "source": [
    "from pandasai import SmartDataframe\n",
    "from pandasai.llm.local_llm import LocalLLM"
   ]
  },
  {
   "cell_type": "code",
   "execution_count": null,
   "id": "b2bd6482-28c5-40ae-ae5c-e6ef8992f467",
   "metadata": {},
   "outputs": [],
   "source": [
    "ollama_llm = LocalLLM(api_base=\"http://localhost:11434/v1\", model=\"codellama\")"
   ]
  },
  {
   "cell_type": "code",
   "execution_count": 33,
   "id": "4abf39a2-0c77-4199-95ad-5b342fc04577",
   "metadata": {},
   "outputs": [],
   "source": [
    "df_ollama = SmartDataframe(sales_by_country, config={\"llm\": ollama_llm})"
   ]
  },
  {
   "cell_type": "code",
   "execution_count": 34,
   "id": "b9feefb1-b38e-489d-9413-cb03260f010c",
   "metadata": {},
   "outputs": [
    {
     "name": "stderr",
     "output_type": "stream",
     "text": [
      "Traceback (most recent call last):\n",
      "  File \"/home/gongai/anaconda3/envs/pandasai/lib/python3.11/site-packages/pandasai/pipelines/chat/code_execution.py\", line 85, in execute\n",
      "    result = self.execute_code(code_to_run, code_context)\n",
      "             ^^^^^^^^^^^^^^^^^^^^^^^^^^^^^^^^^^^^^^^^^^^^\n",
      "  File \"/home/gongai/anaconda3/envs/pandasai/lib/python3.11/site-packages/pandasai/pipelines/chat/code_execution.py\", line 175, in execute_code\n",
      "    raise NoResultFoundError(\"No result returned\")\n",
      "pandasai.exceptions.NoResultFoundError: No result returned\n",
      "\n",
      "During handling of the above exception, another exception occurred:\n",
      "\n",
      "Traceback (most recent call last):\n",
      "  File \"/home/gongai/anaconda3/envs/pandasai/lib/python3.11/site-packages/pandasai/pipelines/chat/generate_chat_pipeline.py\", line 307, in run\n",
      "    output = (self.code_generation_pipeline | self.code_execution_pipeline).run(\n",
      "             ^^^^^^^^^^^^^^^^^^^^^^^^^^^^^^^^^^^^^^^^^^^^^^^^^^^^^^^^^^^^^^^^^^^\n",
      "  File \"/home/gongai/anaconda3/envs/pandasai/lib/python3.11/site-packages/pandasai/pipelines/pipeline.py\", line 137, in run\n",
      "    raise e\n",
      "  File \"/home/gongai/anaconda3/envs/pandasai/lib/python3.11/site-packages/pandasai/pipelines/pipeline.py\", line 101, in run\n",
      "    step_output = logic.execute(\n",
      "                  ^^^^^^^^^^^^^^\n",
      "  File \"/home/gongai/anaconda3/envs/pandasai/lib/python3.11/site-packages/pandasai/pipelines/chat/code_execution.py\", line 125, in execute\n",
      "    code_to_run = self._retry_run_code(\n",
      "                  ^^^^^^^^^^^^^^^^^^^^^\n",
      "  File \"/home/gongai/anaconda3/envs/pandasai/lib/python3.11/site-packages/pandasai/pipelines/chat/code_execution.py\", line 346, in _retry_run_code\n",
      "    return self.on_retry(code, e)\n",
      "           ^^^^^^^^^^^^^^^^^^^^^^\n",
      "  File \"/home/gongai/anaconda3/envs/pandasai/lib/python3.11/site-packages/pandasai/pipelines/chat/generate_chat_pipeline.py\", line 149, in on_code_retry\n",
      "    return self.code_exec_error_pipeline.run(correction_input)\n",
      "           ^^^^^^^^^^^^^^^^^^^^^^^^^^^^^^^^^^^^^^^^^^^^^^^^^^^\n",
      "  File \"/home/gongai/anaconda3/envs/pandasai/lib/python3.11/site-packages/pandasai/pipelines/chat/error_correction_pipeline/error_correction_pipeline.py\", line 48, in run\n",
      "    return self.pipeline.run(input)\n",
      "           ^^^^^^^^^^^^^^^^^^^^^^^^\n",
      "  File \"/home/gongai/anaconda3/envs/pandasai/lib/python3.11/site-packages/pandasai/pipelines/pipeline.py\", line 137, in run\n",
      "    raise e\n",
      "  File \"/home/gongai/anaconda3/envs/pandasai/lib/python3.11/site-packages/pandasai/pipelines/pipeline.py\", line 101, in run\n",
      "    step_output = logic.execute(\n",
      "                  ^^^^^^^^^^^^^^\n",
      "  File \"/home/gongai/anaconda3/envs/pandasai/lib/python3.11/site-packages/pandasai/pipelines/chat/code_generator.py\", line 33, in execute\n",
      "    code = pipeline_context.config.llm.generate_code(input, pipeline_context)\n",
      "           ^^^^^^^^^^^^^^^^^^^^^^^^^^^^^^^^^^^^^^^^^^^^^^^^^^^^^^^^^^^^^^^^^^\n",
      "  File \"/home/gongai/anaconda3/envs/pandasai/lib/python3.11/site-packages/pandasai/llm/base.py\", line 202, in generate_code\n",
      "    return self._extract_code(response)\n",
      "           ^^^^^^^^^^^^^^^^^^^^^^^^^^^^\n",
      "  File \"/home/gongai/anaconda3/envs/pandasai/lib/python3.11/site-packages/pandasai/llm/base.py\", line 127, in _extract_code\n",
      "    raise NoCodeFoundError(\"No code found in the response\")\n",
      "pandasai.exceptions.NoCodeFoundError: No code found in the response\n"
     ]
    },
    {
     "data": {
      "text/plain": [
       "'Unfortunately, I was not able to answer your question, because of the following error:\\n\\nNo code found in the response\\n'"
      ]
     },
     "execution_count": 34,
     "metadata": {},
     "output_type": "execute_result"
    }
   ],
   "source": [
    "df_ollama.chat(\"What are the top 5 countries by sales?\")"
   ]
  },
  {
   "cell_type": "code",
   "execution_count": null,
   "id": "d22da0cd-bb6e-4e3d-8b68-1b9f40b821d3",
   "metadata": {},
   "outputs": [],
   "source": []
  },
  {
   "cell_type": "code",
   "execution_count": null,
   "id": "7cb10470-7724-4b4c-b5e3-eb7c56a35c6b",
   "metadata": {},
   "outputs": [],
   "source": []
  },
  {
   "cell_type": "code",
   "execution_count": null,
   "id": "bd357f0f-801a-458e-ae15-5cd8851d7f82",
   "metadata": {},
   "outputs": [],
   "source": []
  },
  {
   "cell_type": "code",
   "execution_count": null,
   "id": "3598d730-48b7-4c8a-b3de-06f8eda69a34",
   "metadata": {},
   "outputs": [],
   "source": [
    "file_data = \"data/faculty-Cornell-CS.csv\""
   ]
  },
  {
   "cell_type": "code",
   "execution_count": 15,
   "id": "9e6d8523-359c-4a73-8b71-4e86e9914f38",
   "metadata": {},
   "outputs": [],
   "source": [
    "df_0 = pd.read_csv(file_data)"
   ]
  },
  {
   "cell_type": "code",
   "execution_count": 16,
   "id": "5167e75f-1724-44d2-a398-cd60911a12bc",
   "metadata": {},
   "outputs": [
    {
     "data": {
      "text/html": [
       "<div>\n",
       "<style scoped>\n",
       "    .dataframe tbody tr th:only-of-type {\n",
       "        vertical-align: middle;\n",
       "    }\n",
       "\n",
       "    .dataframe tbody tr th {\n",
       "        vertical-align: top;\n",
       "    }\n",
       "\n",
       "    .dataframe thead th {\n",
       "        text-align: right;\n",
       "    }\n",
       "</style>\n",
       "<table border=\"1\" class=\"dataframe\">\n",
       "  <thead>\n",
       "    <tr style=\"text-align: right;\">\n",
       "      <th></th>\n",
       "      <th>name</th>\n",
       "      <th>job_title</th>\n",
       "      <th>phd_univ</th>\n",
       "      <th>phd_year</th>\n",
       "      <th>research_area</th>\n",
       "      <th>research_concentration</th>\n",
       "      <th>research_focus</th>\n",
       "      <th>url</th>\n",
       "      <th>img_url</th>\n",
       "      <th>phone</th>\n",
       "      <th>email</th>\n",
       "      <th>cell_phone</th>\n",
       "      <th>office_address</th>\n",
       "      <th>department</th>\n",
       "      <th>school</th>\n",
       "    </tr>\n",
       "  </thead>\n",
       "  <tbody>\n",
       "    <tr>\n",
       "      <th>0</th>\n",
       "      <td>Mohamed Abdelfattah</td>\n",
       "      <td>Assistant Professor</td>\n",
       "      <td>Univ Toronto</td>\n",
       "      <td>2016.0</td>\n",
       "      <td>Artificial Intelligence, Machine Learning</td>\n",
       "      <td>Artificial Intelligence</td>\n",
       "      <td>NaN</td>\n",
       "      <td>https://www.mohsaied.com</td>\n",
       "      <td>https://www.cs.cornell.edu/sites/default/files...</td>\n",
       "      <td>NaN</td>\n",
       "      <td>NaN</td>\n",
       "      <td>NaN</td>\n",
       "      <td>NaN</td>\n",
       "      <td>Electrical and Computer Engineering, Cornell T...</td>\n",
       "      <td>NaN</td>\n",
       "    </tr>\n",
       "    <tr>\n",
       "      <th>1</th>\n",
       "      <td>Jayadev Acharya</td>\n",
       "      <td>Assistant Professor</td>\n",
       "      <td>Univ California San Diego</td>\n",
       "      <td>2014.0</td>\n",
       "      <td>Artificial Intelligence, Theory of Computing</td>\n",
       "      <td>Artificial Intelligence, Theory of Computation</td>\n",
       "      <td>Information theory, machine learning, and algo...</td>\n",
       "      <td>https://people.ece.cornell.edu/acharya/</td>\n",
       "      <td>https://www.cs.cornell.edu/sites/default/files...</td>\n",
       "      <td>NaN</td>\n",
       "      <td>NaN</td>\n",
       "      <td>NaN</td>\n",
       "      <td>NaN</td>\n",
       "      <td>Electrical and Computer Engineering, CS Field ...</td>\n",
       "      <td>NaN</td>\n",
       "    </tr>\n",
       "    <tr>\n",
       "      <th>2</th>\n",
       "      <td>Rachit Agarwal</td>\n",
       "      <td>Associate Professor</td>\n",
       "      <td>Univ Illinois Urbana-Champaign</td>\n",
       "      <td>2013.0</td>\n",
       "      <td>Systems and Networking, Theory of Computing</td>\n",
       "      <td>Systems, Theory of Computation</td>\n",
       "      <td>Distributed systems, systems for big data anal...</td>\n",
       "      <td>http://www.cs.cornell.edu/~ragarwal/</td>\n",
       "      <td>https://www.cs.cornell.edu/sites/default/files...</td>\n",
       "      <td>NaN</td>\n",
       "      <td>NaN</td>\n",
       "      <td>NaN</td>\n",
       "      <td>NaN</td>\n",
       "      <td>Computer Science, CS Field Member</td>\n",
       "      <td>NaN</td>\n",
       "    </tr>\n",
       "    <tr>\n",
       "      <th>3</th>\n",
       "      <td>David Albonesi</td>\n",
       "      <td>Professor</td>\n",
       "      <td>Univ Mass Amherst</td>\n",
       "      <td>1996.0</td>\n",
       "      <td>Computer Architecture &amp; VLSI, Systems and Netw...</td>\n",
       "      <td>Systems</td>\n",
       "      <td>Adaptive and reconfigurable multi-core and pro...</td>\n",
       "      <td>http://www.csl.cornell.edu/~albonesi/</td>\n",
       "      <td>https://www.cs.cornell.edu/sites/default/files...</td>\n",
       "      <td>NaN</td>\n",
       "      <td>NaN</td>\n",
       "      <td>NaN</td>\n",
       "      <td>NaN</td>\n",
       "      <td>Electrical and Computer Engineering, CS Field ...</td>\n",
       "      <td>NaN</td>\n",
       "    </tr>\n",
       "    <tr>\n",
       "      <th>4</th>\n",
       "      <td>Lorenzo Alvisi</td>\n",
       "      <td>Professor</td>\n",
       "      <td>Cornell Univ</td>\n",
       "      <td>1996.0</td>\n",
       "      <td>Systems and Networking</td>\n",
       "      <td>Systems</td>\n",
       "      <td>Theory and practice of dependable distributed ...</td>\n",
       "      <td>http://www.cs.cornell.edu/lorenzo/</td>\n",
       "      <td>https://www.cs.cornell.edu/sites/default/files...</td>\n",
       "      <td>NaN</td>\n",
       "      <td>NaN</td>\n",
       "      <td>NaN</td>\n",
       "      <td>NaN</td>\n",
       "      <td>Computer Science, CS Field Member, Tisch Unive...</td>\n",
       "      <td>NaN</td>\n",
       "    </tr>\n",
       "    <tr>\n",
       "      <th>...</th>\n",
       "      <td>...</td>\n",
       "      <td>...</td>\n",
       "      <td>...</td>\n",
       "      <td>...</td>\n",
       "      <td>...</td>\n",
       "      <td>...</td>\n",
       "      <td>...</td>\n",
       "      <td>...</td>\n",
       "      <td>...</td>\n",
       "      <td>...</td>\n",
       "      <td>...</td>\n",
       "      <td>...</td>\n",
       "      <td>...</td>\n",
       "      <td>...</td>\n",
       "      <td>...</td>\n",
       "    </tr>\n",
       "    <tr>\n",
       "      <th>117</th>\n",
       "      <td>Christina Lee Yu</td>\n",
       "      <td>Assistant Professor</td>\n",
       "      <td>MIT</td>\n",
       "      <td>NaN</td>\n",
       "      <td>Theory of Computing</td>\n",
       "      <td>Theory of Computation</td>\n",
       "      <td>Theory of Computing, Artificial Intelligence (...</td>\n",
       "      <td>https://people.orie.cornell.edu/cleeyu/</td>\n",
       "      <td>https://www.cs.cornell.edu/sites/default/files...</td>\n",
       "      <td>NaN</td>\n",
       "      <td>NaN</td>\n",
       "      <td>NaN</td>\n",
       "      <td>NaN</td>\n",
       "      <td>ORIE, CS Field Member</td>\n",
       "      <td>NaN</td>\n",
       "    </tr>\n",
       "    <tr>\n",
       "      <th>118</th>\n",
       "      <td>Haiyuan Yu</td>\n",
       "      <td>Professor</td>\n",
       "      <td>Yale</td>\n",
       "      <td>2005.0</td>\n",
       "      <td>Computational Biology</td>\n",
       "      <td>Scientific Computing and Applications</td>\n",
       "      <td>Biomedical systems biology, machine learning, ...</td>\n",
       "      <td>https://www.yulab.org</td>\n",
       "      <td>https://www.cs.cornell.edu/sites/default/files...</td>\n",
       "      <td>NaN</td>\n",
       "      <td>NaN</td>\n",
       "      <td>NaN</td>\n",
       "      <td>NaN</td>\n",
       "      <td>Biological Statistics &amp; Computational Biology,...</td>\n",
       "      <td>NaN</td>\n",
       "    </tr>\n",
       "    <tr>\n",
       "      <th>119</th>\n",
       "      <td>Ramin Zabih</td>\n",
       "      <td>Professor</td>\n",
       "      <td>Stanford Univ</td>\n",
       "      <td>1994.0</td>\n",
       "      <td>Human Interaction, Vision</td>\n",
       "      <td>Artificial Intelligence, Theory of Computation</td>\n",
       "      <td>Computer vision and its applications, especial...</td>\n",
       "      <td>http://www.cs.cornell.edu/~rdz</td>\n",
       "      <td>https://www.cs.cornell.edu/sites/default/files...</td>\n",
       "      <td>NaN</td>\n",
       "      <td>NaN</td>\n",
       "      <td>NaN</td>\n",
       "      <td>NaN</td>\n",
       "      <td>Computer Science, Cornell Tech, CS Field Member</td>\n",
       "      <td>NaN</td>\n",
       "    </tr>\n",
       "    <tr>\n",
       "      <th>120</th>\n",
       "      <td>Cheng Zhang</td>\n",
       "      <td>Assistant Professor</td>\n",
       "      <td>Georgia Institute Technology</td>\n",
       "      <td>2018.0</td>\n",
       "      <td>Artificial Intelligence</td>\n",
       "      <td>Systems</td>\n",
       "      <td>Ubiquitous Computing, Wearable Computing, Huma...</td>\n",
       "      <td>http://www.czhang.org/</td>\n",
       "      <td>https://www.cs.cornell.edu/sites/default/files...</td>\n",
       "      <td>NaN</td>\n",
       "      <td>NaN</td>\n",
       "      <td>NaN</td>\n",
       "      <td>NaN</td>\n",
       "      <td>Information Science, CS Field Member</td>\n",
       "      <td>NaN</td>\n",
       "    </tr>\n",
       "    <tr>\n",
       "      <th>121</th>\n",
       "      <td>Zhiru Zhang</td>\n",
       "      <td>Assistant Professor</td>\n",
       "      <td>Univ California LA</td>\n",
       "      <td>2007.0</td>\n",
       "      <td>Systems and Networking</td>\n",
       "      <td>Systems</td>\n",
       "      <td>Computer-aided design methodologies, optimizat...</td>\n",
       "      <td>http://www.csl.cornell.edu/~zhiruz/</td>\n",
       "      <td>https://www.cs.cornell.edu/sites/default/files...</td>\n",
       "      <td>NaN</td>\n",
       "      <td>NaN</td>\n",
       "      <td>NaN</td>\n",
       "      <td>NaN</td>\n",
       "      <td>Electrical and Computer Engineering, CS Field ...</td>\n",
       "      <td>NaN</td>\n",
       "    </tr>\n",
       "  </tbody>\n",
       "</table>\n",
       "<p>122 rows × 15 columns</p>\n",
       "</div>"
      ],
      "text/plain": [
       "                    name             job_title  \\\n",
       "0    Mohamed Abdelfattah   Assistant Professor   \n",
       "1        Jayadev Acharya   Assistant Professor   \n",
       "2         Rachit Agarwal  Associate Professor    \n",
       "3         David Albonesi             Professor   \n",
       "4         Lorenzo Alvisi             Professor   \n",
       "..                   ...                   ...   \n",
       "117     Christina Lee Yu   Assistant Professor   \n",
       "118           Haiyuan Yu             Professor   \n",
       "119          Ramin Zabih             Professor   \n",
       "120          Cheng Zhang   Assistant Professor   \n",
       "121          Zhiru Zhang   Assistant Professor   \n",
       "\n",
       "                           phd_univ  phd_year  \\\n",
       "0                      Univ Toronto    2016.0   \n",
       "1         Univ California San Diego    2014.0   \n",
       "2    Univ Illinois Urbana-Champaign    2013.0   \n",
       "3                 Univ Mass Amherst    1996.0   \n",
       "4                      Cornell Univ    1996.0   \n",
       "..                              ...       ...   \n",
       "117                             MIT       NaN   \n",
       "118                            Yale    2005.0   \n",
       "119                   Stanford Univ    1994.0   \n",
       "120    Georgia Institute Technology    2018.0   \n",
       "121              Univ California LA    2007.0   \n",
       "\n",
       "                                         research_area  \\\n",
       "0            Artificial Intelligence, Machine Learning   \n",
       "1         Artificial Intelligence, Theory of Computing   \n",
       "2          Systems and Networking, Theory of Computing   \n",
       "3    Computer Architecture & VLSI, Systems and Netw...   \n",
       "4                               Systems and Networking   \n",
       "..                                                 ...   \n",
       "117                                Theory of Computing   \n",
       "118                              Computational Biology   \n",
       "119                          Human Interaction, Vision   \n",
       "120                            Artificial Intelligence   \n",
       "121                             Systems and Networking   \n",
       "\n",
       "                             research_concentration  \\\n",
       "0                           Artificial Intelligence   \n",
       "1    Artificial Intelligence, Theory of Computation   \n",
       "2                    Systems, Theory of Computation   \n",
       "3                                           Systems   \n",
       "4                                           Systems   \n",
       "..                                              ...   \n",
       "117                           Theory of Computation   \n",
       "118           Scientific Computing and Applications   \n",
       "119  Artificial Intelligence, Theory of Computation   \n",
       "120                                         Systems   \n",
       "121                                         Systems   \n",
       "\n",
       "                                        research_focus  \\\n",
       "0                                                  NaN   \n",
       "1    Information theory, machine learning, and algo...   \n",
       "2    Distributed systems, systems for big data anal...   \n",
       "3    Adaptive and reconfigurable multi-core and pro...   \n",
       "4    Theory and practice of dependable distributed ...   \n",
       "..                                                 ...   \n",
       "117  Theory of Computing, Artificial Intelligence (...   \n",
       "118  Biomedical systems biology, machine learning, ...   \n",
       "119  Computer vision and its applications, especial...   \n",
       "120  Ubiquitous Computing, Wearable Computing, Huma...   \n",
       "121  Computer-aided design methodologies, optimizat...   \n",
       "\n",
       "                                         url  \\\n",
       "0                   https://www.mohsaied.com   \n",
       "1    https://people.ece.cornell.edu/acharya/   \n",
       "2       http://www.cs.cornell.edu/~ragarwal/   \n",
       "3      http://www.csl.cornell.edu/~albonesi/   \n",
       "4         http://www.cs.cornell.edu/lorenzo/   \n",
       "..                                       ...   \n",
       "117  https://people.orie.cornell.edu/cleeyu/   \n",
       "118                    https://www.yulab.org   \n",
       "119           http://www.cs.cornell.edu/~rdz   \n",
       "120                   http://www.czhang.org/   \n",
       "121      http://www.csl.cornell.edu/~zhiruz/   \n",
       "\n",
       "                                               img_url  phone  email  \\\n",
       "0    https://www.cs.cornell.edu/sites/default/files...    NaN    NaN   \n",
       "1    https://www.cs.cornell.edu/sites/default/files...    NaN    NaN   \n",
       "2    https://www.cs.cornell.edu/sites/default/files...    NaN    NaN   \n",
       "3    https://www.cs.cornell.edu/sites/default/files...    NaN    NaN   \n",
       "4    https://www.cs.cornell.edu/sites/default/files...    NaN    NaN   \n",
       "..                                                 ...    ...    ...   \n",
       "117  https://www.cs.cornell.edu/sites/default/files...    NaN    NaN   \n",
       "118  https://www.cs.cornell.edu/sites/default/files...    NaN    NaN   \n",
       "119  https://www.cs.cornell.edu/sites/default/files...    NaN    NaN   \n",
       "120  https://www.cs.cornell.edu/sites/default/files...    NaN    NaN   \n",
       "121  https://www.cs.cornell.edu/sites/default/files...    NaN    NaN   \n",
       "\n",
       "     cell_phone  office_address  \\\n",
       "0           NaN             NaN   \n",
       "1           NaN             NaN   \n",
       "2           NaN             NaN   \n",
       "3           NaN             NaN   \n",
       "4           NaN             NaN   \n",
       "..          ...             ...   \n",
       "117         NaN             NaN   \n",
       "118         NaN             NaN   \n",
       "119         NaN             NaN   \n",
       "120         NaN             NaN   \n",
       "121         NaN             NaN   \n",
       "\n",
       "                                            department  school  \n",
       "0    Electrical and Computer Engineering, Cornell T...     NaN  \n",
       "1    Electrical and Computer Engineering, CS Field ...     NaN  \n",
       "2                    Computer Science, CS Field Member     NaN  \n",
       "3    Electrical and Computer Engineering, CS Field ...     NaN  \n",
       "4    Computer Science, CS Field Member, Tisch Unive...     NaN  \n",
       "..                                                 ...     ...  \n",
       "117                              ORIE, CS Field Member     NaN  \n",
       "118  Biological Statistics & Computational Biology,...     NaN  \n",
       "119    Computer Science, Cornell Tech, CS Field Member     NaN  \n",
       "120               Information Science, CS Field Member     NaN  \n",
       "121  Electrical and Computer Engineering, CS Field ...     NaN  \n",
       "\n",
       "[122 rows x 15 columns]"
      ]
     },
     "execution_count": 16,
     "metadata": {},
     "output_type": "execute_result"
    }
   ],
   "source": [
    "df_0"
   ]
  },
  {
   "cell_type": "code",
   "execution_count": null,
   "id": "2c777038-317e-4825-942c-c1272b507ea9",
   "metadata": {},
   "outputs": [],
   "source": [
    "df = SmartDataframe(file_data, config={\"llm\": ollama_llm})"
   ]
  },
  {
   "cell_type": "code",
   "execution_count": 13,
   "id": "5d4a06c4-3767-4e8e-93bf-493e97aaf309",
   "metadata": {},
   "outputs": [
    {
     "name": "stderr",
     "output_type": "stream",
     "text": [
      "Traceback (most recent call last):\n",
      "  File \"/home/gongai/anaconda3/envs/pandasai/lib/python3.11/site-packages/pandasai/pipelines/chat/generate_chat_pipeline.py\", line 307, in run\n",
      "    output = (self.code_generation_pipeline | self.code_execution_pipeline).run(\n",
      "             ^^^^^^^^^^^^^^^^^^^^^^^^^^^^^^^^^^^^^^^^^^^^^^^^^^^^^^^^^^^^^^^^^^^\n",
      "  File \"/home/gongai/anaconda3/envs/pandasai/lib/python3.11/site-packages/pandasai/pipelines/pipeline.py\", line 137, in run\n",
      "    raise e\n",
      "  File \"/home/gongai/anaconda3/envs/pandasai/lib/python3.11/site-packages/pandasai/pipelines/pipeline.py\", line 101, in run\n",
      "    step_output = logic.execute(\n",
      "                  ^^^^^^^^^^^^^^\n",
      "  File \"/home/gongai/anaconda3/envs/pandasai/lib/python3.11/site-packages/pandasai/pipelines/chat/code_execution.py\", line 113, in execute\n",
      "    raise e\n",
      "  File \"/home/gongai/anaconda3/envs/pandasai/lib/python3.11/site-packages/pandasai/pipelines/chat/code_execution.py\", line 85, in execute\n",
      "    result = self.execute_code(code_to_run, code_context)\n",
      "             ^^^^^^^^^^^^^^^^^^^^^^^^^^^^^^^^^^^^^^^^^^^^\n",
      "  File \"/home/gongai/anaconda3/envs/pandasai/lib/python3.11/site-packages/pandasai/pipelines/chat/code_execution.py\", line 171, in execute_code\n",
      "    exec(code, environment)\n",
      "  File \"<string>\", line 3, in <module>\n",
      "  File \"/home/gongai/anaconda3/envs/pandasai/lib/python3.11/site-packages/pandas/util/_decorators.py\", line 211, in wrapper\n",
      "    return func(*args, **kwargs)\n",
      "           ^^^^^^^^^^^^^^^^^^^^^\n",
      "  File \"/home/gongai/anaconda3/envs/pandasai/lib/python3.11/site-packages/pandas/util/_decorators.py\", line 331, in wrapper\n",
      "    return func(*args, **kwargs)\n",
      "           ^^^^^^^^^^^^^^^^^^^^^\n",
      "  File \"/home/gongai/anaconda3/envs/pandasai/lib/python3.11/site-packages/pandas/io/parsers/readers.py\", line 950, in read_csv\n",
      "    return _read(filepath_or_buffer, kwds)\n",
      "           ^^^^^^^^^^^^^^^^^^^^^^^^^^^^^^^\n",
      "  File \"/home/gongai/anaconda3/envs/pandasai/lib/python3.11/site-packages/pandas/io/parsers/readers.py\", line 605, in _read\n",
      "    parser = TextFileReader(filepath_or_buffer, **kwds)\n",
      "             ^^^^^^^^^^^^^^^^^^^^^^^^^^^^^^^^^^^^^^^^^^\n",
      "  File \"/home/gongai/anaconda3/envs/pandasai/lib/python3.11/site-packages/pandas/io/parsers/readers.py\", line 1442, in __init__\n",
      "    self._engine = self._make_engine(f, self.engine)\n",
      "                   ^^^^^^^^^^^^^^^^^^^^^^^^^^^^^^^^^\n",
      "  File \"/home/gongai/anaconda3/envs/pandasai/lib/python3.11/site-packages/pandas/io/parsers/readers.py\", line 1735, in _make_engine\n",
      "    self.handles = get_handle(\n",
      "                   ^^^^^^^^^^^\n",
      "  File \"/home/gongai/anaconda3/envs/pandasai/lib/python3.11/site-packages/pandas/io/common.py\", line 856, in get_handle\n",
      "    handle = open(\n",
      "             ^^^^^\n",
      "FileNotFoundError: [Errno 2] No such file or directory: '/full/path/to/file1.csv'\n"
     ]
    },
    {
     "data": {
      "text/plain": [
       "\"Unfortunately, I was not able to answer your question, because of the following error:\\n\\n[Errno 2] No such file or directory: '/full/path/to/file1.csv'\\n\""
      ]
     },
     "execution_count": 13,
     "metadata": {},
     "output_type": "execute_result"
    }
   ],
   "source": [
    "df.chat(\"What are the column names\")"
   ]
  },
  {
   "cell_type": "code",
   "execution_count": 18,
   "id": "97d7a1b4-a901-4c42-aa82-6490df28f3e4",
   "metadata": {},
   "outputs": [
    {
     "data": {
      "text/plain": [
       "(122, 15)"
      ]
     },
     "execution_count": 18,
     "metadata": {},
     "output_type": "execute_result"
    }
   ],
   "source": [
    "df_0.shape"
   ]
  },
  {
   "cell_type": "code",
   "execution_count": 17,
   "id": "2e4d2a83-be7e-485b-b1ce-0774d3af295e",
   "metadata": {},
   "outputs": [
    {
     "data": {
      "text/plain": [
       "122"
      ]
     },
     "execution_count": 17,
     "metadata": {},
     "output_type": "execute_result"
    }
   ],
   "source": [
    "agent = Agent(df_0)\n",
    "agent.chat('How many rows?')"
   ]
  },
  {
   "cell_type": "code",
   "execution_count": 21,
   "id": "3264e5f7-5b58-45d0-b9a9-cff3aa1bcb5f",
   "metadata": {},
   "outputs": [
    {
     "data": {
      "text/plain": [
       "Index(['name', 'job_title', 'phd_univ', 'phd_year', 'research_area',\n",
       "       'research_concentration', 'research_focus', 'url', 'img_url', 'phone',\n",
       "       'email', 'cell_phone', 'office_address', 'department', 'school'],\n",
       "      dtype='object')"
      ]
     },
     "execution_count": 21,
     "metadata": {},
     "output_type": "execute_result"
    }
   ],
   "source": [
    "df_0.columns"
   ]
  },
  {
   "cell_type": "code",
   "execution_count": 20,
   "id": "4a7073ff-ffa3-43bf-9aa3-b907eb70e0ce",
   "metadata": {},
   "outputs": [
    {
     "name": "stdout",
     "output_type": "stream",
     "text": [
      "['name', 'job_title', 'phd_univ', 'phd_year', 'research_area', 'research_concentration', 'research_focus', 'url', 'img_url', 'phone', 'email', 'cell_phone', 'office_address', 'department', 'school']\n",
      "['name', 'job_title', 'phd_univ', 'phd_year', 'research_area', 'research_concentration', 'research_focus', 'url', 'img_url', 'phone', 'email', 'cell_phone', 'office_address', 'department', 'school']\n"
     ]
    },
    {
     "name": "stderr",
     "output_type": "stream",
     "text": [
      "Traceback (most recent call last):\n",
      "  File \"/home/gongai/anaconda3/envs/pandasai/lib/python3.11/site-packages/pandasai/pipelines/chat/generate_chat_pipeline.py\", line 307, in run\n",
      "    output = (self.code_generation_pipeline | self.code_execution_pipeline).run(\n",
      "             ^^^^^^^^^^^^^^^^^^^^^^^^^^^^^^^^^^^^^^^^^^^^^^^^^^^^^^^^^^^^^^^^^^^\n",
      "  File \"/home/gongai/anaconda3/envs/pandasai/lib/python3.11/site-packages/pandasai/pipelines/pipeline.py\", line 137, in run\n",
      "    raise e\n",
      "  File \"/home/gongai/anaconda3/envs/pandasai/lib/python3.11/site-packages/pandasai/pipelines/pipeline.py\", line 101, in run\n",
      "    step_output = logic.execute(\n",
      "                  ^^^^^^^^^^^^^^\n",
      "  File \"/home/gongai/anaconda3/envs/pandasai/lib/python3.11/site-packages/pandasai/pipelines/chat/code_execution.py\", line 113, in execute\n",
      "    raise e\n",
      "  File \"/home/gongai/anaconda3/envs/pandasai/lib/python3.11/site-packages/pandasai/pipelines/chat/code_execution.py\", line 85, in execute\n",
      "    result = self.execute_code(code_to_run, code_context)\n",
      "             ^^^^^^^^^^^^^^^^^^^^^^^^^^^^^^^^^^^^^^^^^^^^\n",
      "  File \"/home/gongai/anaconda3/envs/pandasai/lib/python3.11/site-packages/pandasai/pipelines/chat/code_execution.py\", line 175, in execute_code\n",
      "    raise NoResultFoundError(\"No result returned\")\n",
      "pandasai.exceptions.NoResultFoundError: No result returned\n"
     ]
    },
    {
     "data": {
      "text/plain": [
       "'Unfortunately, I was not able to answer your question, because of the following error:\\n\\nNo result returned\\n'"
      ]
     },
     "execution_count": 20,
     "metadata": {},
     "output_type": "execute_result"
    }
   ],
   "source": [
    "agent.chat('What are the data columns?')"
   ]
  },
  {
   "cell_type": "code",
   "execution_count": 24,
   "id": "020be25b-e644-4012-99ae-1313539520ae",
   "metadata": {},
   "outputs": [
    {
     "data": {
      "text/plain": [
       "13"
      ]
     },
     "execution_count": 24,
     "metadata": {},
     "output_type": "execute_result"
    }
   ],
   "source": [
    "agent.chat('How many professors have PhD from Stanford University?')"
   ]
  },
  {
   "cell_type": "code",
   "execution_count": 26,
   "id": "c7b8ebd4-915b-4dfe-a5e5-bfde43c5fea5",
   "metadata": {},
   "outputs": [
    {
     "name": "stderr",
     "output_type": "stream",
     "text": [
      "Traceback (most recent call last):\n",
      "  File \"/home/gongai/anaconda3/envs/pandasai/lib/python3.11/site-packages/pandasai/pipelines/chat/generate_chat_pipeline.py\", line 307, in run\n",
      "    output = (self.code_generation_pipeline | self.code_execution_pipeline).run(\n",
      "             ^^^^^^^^^^^^^^^^^^^^^^^^^^^^^^^^^^^^^^^^^^^^^^^^^^^^^^^^^^^^^^^^^^^\n",
      "  File \"/home/gongai/anaconda3/envs/pandasai/lib/python3.11/site-packages/pandasai/pipelines/pipeline.py\", line 137, in run\n",
      "    raise e\n",
      "  File \"/home/gongai/anaconda3/envs/pandasai/lib/python3.11/site-packages/pandasai/pipelines/pipeline.py\", line 101, in run\n",
      "    step_output = logic.execute(\n",
      "                  ^^^^^^^^^^^^^^\n",
      "  File \"/home/gongai/anaconda3/envs/pandasai/lib/python3.11/site-packages/pandasai/pipelines/chat/code_execution.py\", line 113, in execute\n",
      "    raise e\n",
      "  File \"/home/gongai/anaconda3/envs/pandasai/lib/python3.11/site-packages/pandasai/pipelines/chat/code_execution.py\", line 85, in execute\n",
      "    result = self.execute_code(code_to_run, code_context)\n",
      "             ^^^^^^^^^^^^^^^^^^^^^^^^^^^^^^^^^^^^^^^^^^^^\n",
      "  File \"/home/gongai/anaconda3/envs/pandasai/lib/python3.11/site-packages/pandasai/pipelines/chat/code_execution.py\", line 175, in execute_code\n",
      "    raise NoResultFoundError(\"No result returned\")\n",
      "pandasai.exceptions.NoResultFoundError: No result returned\n"
     ]
    },
    {
     "data": {
      "text/plain": [
       "'Unfortunately, I was not able to answer your question, because of the following error:\\n\\nNo result returned\\n'"
      ]
     },
     "execution_count": 26,
     "metadata": {},
     "output_type": "execute_result"
    }
   ],
   "source": [
    "agent.chat(\"\"\"List those professor's name who received PhD. from Stanford University?\"\"\")"
   ]
  },
  {
   "cell_type": "code",
   "execution_count": null,
   "id": "8cf8823a-f2a8-4d29-98d7-2f6304e11e54",
   "metadata": {},
   "outputs": [],
   "source": []
  }
 ],
 "metadata": {
  "kernelspec": {
   "display_name": "Python 3 (ipykernel)",
   "language": "python",
   "name": "python3"
  },
  "language_info": {
   "codemirror_mode": {
    "name": "ipython",
    "version": 3
   },
   "file_extension": ".py",
   "mimetype": "text/x-python",
   "name": "python",
   "nbconvert_exporter": "python",
   "pygments_lexer": "ipython3",
   "version": "3.11.9"
  }
 },
 "nbformat": 4,
 "nbformat_minor": 5
}
