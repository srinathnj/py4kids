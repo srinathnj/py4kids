{
 "cells": [
  {
   "cell_type": "code",
   "execution_count": 1,
   "id": "fb981acf",
   "metadata": {},
   "outputs": [],
   "source": [
    "from googletrans import Translator\n",
    "from IPython.display import display, Markdown, Latex"
   ]
  },
  {
   "cell_type": "code",
   "execution_count": 2,
   "id": "4dc45d18",
   "metadata": {},
   "outputs": [],
   "source": [
    "translator = Translator()"
   ]
  },
  {
   "cell_type": "code",
   "execution_count": 3,
   "id": "86657ac6",
   "metadata": {},
   "outputs": [
    {
     "name": "stdout",
     "output_type": "stream",
     "text": [
      "¡Hola Mundo!\n"
     ]
    }
   ],
   "source": [
    "text = \"Hello, world!\"\n",
    "translated_text = translator.translate(text, dest='es')\n",
    "print(translated_text.text)"
   ]
  },
  {
   "cell_type": "code",
   "execution_count": 8,
   "id": "3bec3f7e",
   "metadata": {},
   "outputs": [
    {
     "data": {
      "text/markdown": [
       "¡Hola Mundo!"
      ],
      "text/plain": [
       "<IPython.core.display.Markdown object>"
      ]
     },
     "metadata": {},
     "output_type": "display_data"
    }
   ],
   "source": [
    "display(Markdown(translated_text.text))"
   ]
  },
  {
   "cell_type": "code",
   "execution_count": 7,
   "id": "2083cf31",
   "metadata": {},
   "outputs": [
    {
     "data": {
      "text/markdown": [
       "*some markdown* $\\phi$"
      ],
      "text/plain": [
       "<IPython.core.display.Markdown object>"
      ]
     },
     "metadata": {},
     "output_type": "display_data"
    }
   ],
   "source": [
    "from IPython.display import display, Markdown, Latex\n",
    "display(Markdown('*some markdown* $\\phi$'))"
   ]
  },
  {
   "cell_type": "markdown",
   "id": "0b83a439",
   "metadata": {},
   "source": [
    "see `Translation-comparison-chart.csv` for list of translation services"
   ]
  }
 ],
 "metadata": {
  "kernelspec": {
   "display_name": "Python 3 (ipykernel)",
   "language": "python",
   "name": "python3"
  },
  "language_info": {
   "codemirror_mode": {
    "name": "ipython",
    "version": 3
   },
   "file_extension": ".py",
   "mimetype": "text/x-python",
   "name": "python",
   "nbconvert_exporter": "python",
   "pygments_lexer": "ipython3",
   "version": "3.9.13"
  },
  "nbTranslate": {
   "displayLangs": [
    "*"
   ],
   "hotkey": "alt-t",
   "langInMainMenu": true,
   "sourceLang": "en",
   "targetLang": "fr",
   "useGoogleTranslate": true
  },
  "toc": {
   "base_numbering": 1,
   "nav_menu": {},
   "number_sections": true,
   "sideBar": true,
   "skip_h1_title": false,
   "title_cell": "Table of Contents",
   "title_sidebar": "Contents",
   "toc_cell": false,
   "toc_position": {},
   "toc_section_display": true,
   "toc_window_display": false
  }
 },
 "nbformat": 4,
 "nbformat_minor": 5
}
