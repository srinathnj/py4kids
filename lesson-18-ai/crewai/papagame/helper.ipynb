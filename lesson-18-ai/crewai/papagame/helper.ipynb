{
 "cells": [
  {
   "cell_type": "code",
   "execution_count": 1,
   "id": "e06d3b9d-9f37-49fb-8b36-5404c4830fe7",
   "metadata": {},
   "outputs": [
    {
     "name": "stdout",
     "output_type": "stream",
     "text": [
      "this is a phrase with special characters----------\n"
     ]
    }
   ],
   "source": [
    "import re\n",
    "\n",
    "def normalize_text_1(text):\n",
    "  \"\"\"\n",
    "  Normalizes a text phrase into an alpha-numeric string.\n",
    "\n",
    "  Args:\n",
    "      text: The text phrase to normalize.\n",
    "\n",
    "  Returns:\n",
    "      A new string where any non-alphanumeric characters are replaced by hyphens.\n",
    "  \"\"\"\n",
    "  pattern = r\"[^\\w\\s]\"  # Match any non-alphanumeric character except whitespace\n",
    "  normalized_text = re.sub(pattern, \"-\", text).lower()\n",
    "  return normalized_text\n",
    "\n",
    "# Example usage\n",
    "text = \"This is a phrase with special characters!@#$%^&*()\"\n",
    "normalized_text = normalize_text_1(text)\n",
    "print(normalized_text)  # Output: this-is-a-phrase-with-special-characters\n"
   ]
  },
  {
   "cell_type": "code",
   "execution_count": 4,
   "id": "f2b97a4f-3113-4ca0-a4a5-64a194ccc307",
   "metadata": {},
   "outputs": [
    {
     "name": "stdout",
     "output_type": "stream",
     "text": [
      "This-is-a-phrase-with-special-characters\n"
     ]
    }
   ],
   "source": [
    "def normalize_text(text, delimitor=\"-\"):\n",
    "    \"\"\"\n",
    "    Normalizes a text phrase into an alpha-numeric string.\n",
    "    \n",
    "    Args:\n",
    "      text: The text phrase to normalize.\n",
    "    \n",
    "    Returns:\n",
    "      A new string where any non-alphanumeric characters are replaced by hyphens.\n",
    "    \"\"\"\n",
    "    new_text = \"\"\n",
    "    for char in text:\n",
    "        if char.isalnum() or char.isspace():\n",
    "            new_text += char\n",
    "        else:\n",
    "            new_text += ' '\n",
    "    return delimitor.join([w for w in new_text.split() if w])\n",
    "\n",
    "# Example usage\n",
    "text = \"This is a phrase $ with &special characters!@#$%^&*()\"\n",
    "normalized_text = normalize_text(text)\n",
    "print(normalized_text)  # Output: This-is-a-phrase-with-special-characters\n"
   ]
  },
  {
   "cell_type": "code",
   "execution_count": 2,
   "id": "9b1bd280-d5eb-4da3-89c6-f6ede9237c00",
   "metadata": {},
   "outputs": [
    {
     "name": "stdout",
     "output_type": "stream",
     "text": [
      "['This', '_', 'is', 'a', '_', 'phrase']\n"
     ]
    }
   ],
   "source": [
    "def split_by_pattern(text, pattern):\n",
    "  \"\"\"\n",
    "  Splits a text by a given pattern (excluding spaces).\n",
    "\n",
    "  Args:\n",
    "      text: The text to split.\n",
    "      pattern: The pattern to split on (excluding spaces).\n",
    "\n",
    "  Returns:\n",
    "      A list of substrings split by the pattern.\n",
    "  \"\"\"\n",
    "  words = []\n",
    "  current_word = \"\"\n",
    "  for char in text:\n",
    "    if char.isalnum() or char.isspace():\n",
    "      current_word += char\n",
    "    elif current_word:\n",
    "      words.append(current_word)\n",
    "      current_word = \"\"\n",
    "    if char == pattern:\n",
    "      words.append(pattern)\n",
    "  if current_word:\n",
    "    words.append(current_word)\n",
    "  return words\n",
    "\n",
    "# Example usage\n",
    "text = \"This_is-a_phrase!@#$%^&*()\"\n",
    "pattern = \"_\"\n",
    "split_text = split_by_pattern(text, pattern)\n",
    "print(split_text)  # Output: ['This', 'is', 'a', 'phrase', '!', '@', '#', '$', '%', '^', '&', '*()']\n"
   ]
  },
  {
   "cell_type": "code",
   "execution_count": null,
   "id": "4afdf5bc-3126-4c69-b1f4-68b6c6dc76e2",
   "metadata": {},
   "outputs": [],
   "source": []
  }
 ],
 "metadata": {
  "kernelspec": {
   "display_name": "Python 3 (ipykernel)",
   "language": "python",
   "name": "python3"
  },
  "language_info": {
   "codemirror_mode": {
    "name": "ipython",
    "version": 3
   },
   "file_extension": ".py",
   "mimetype": "text/x-python",
   "name": "python",
   "nbconvert_exporter": "python",
   "pygments_lexer": "ipython3",
   "version": "3.11.9"
  }
 },
 "nbformat": 4,
 "nbformat_minor": 5
}
