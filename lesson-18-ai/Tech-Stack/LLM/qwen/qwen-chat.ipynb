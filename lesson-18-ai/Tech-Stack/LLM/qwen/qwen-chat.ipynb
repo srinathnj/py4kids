{
 "cells": [
  {
   "cell_type": "markdown",
   "id": "ca54377c-0bf5-490b-b692-4fccf6a9ff66",
   "metadata": {},
   "source": [
    "https://chat.qwenlm.ai/c/34831210-794a-455f-b66b-48c191cf5b54"
   ]
  },
  {
   "cell_type": "code",
   "execution_count": 1,
   "id": "af8998ca-8eaa-4346-b65f-bf5a035d4114",
   "metadata": {},
   "outputs": [
    {
     "name": "stdout",
     "output_type": "stream",
     "text": [
      "Running test cases:\n",
      "Test Case 1: Fibonacci sequence up to 0 -> [0]\n",
      "Test Case 2: Fibonacci sequence up to 1 -> [0, 1, 1]\n",
      "Test Case 3: Fibonacci sequence up to 10 -> [0, 1, 1, 2, 3, 5, 8]\n",
      "Test Case 4: Fibonacci sequence up to 100 -> [0, 1, 1, 2, 3, 5, 8, 13, 21, 34, 55, 89]\n",
      "Test Case 5: Fibonacci sequence up to 1000 -> [0, 1, 1, 2, 3, 5, 8, 13, 21, 34, 55, 89, 144, 233, 377, 610, 987]\n"
     ]
    }
   ],
   "source": [
    "def fibonacci_up_to_limit(max_limit):\n",
    "    \"\"\"\n",
    "    Generate the Fibonacci sequence up to a specified maximum limit.\n",
    "\n",
    "    Parameters:\n",
    "    max_limit (int): The upper bound for the Fibonacci sequence. \n",
    "                     Must be a non-negative integer.\n",
    "\n",
    "    Returns:\n",
    "    list: A list containing the Fibonacci sequence up to the specified limit.\n",
    "    \"\"\"\n",
    "    if max_limit < 0:\n",
    "        raise ValueError(\"max_limit must be a non-negative integer.\")\n",
    "    \n",
    "    # Initialize the first two Fibonacci numbers\n",
    "    fib_sequence = [0, 1]\n",
    "    \n",
    "    # Generate the Fibonacci sequence until the last number is <= max_limit\n",
    "    while True:\n",
    "        next_fib = fib_sequence[-1] + fib_sequence[-2]\n",
    "        if next_fib > max_limit:\n",
    "            break\n",
    "        fib_sequence.append(next_fib)\n",
    "    \n",
    "    # Handle edge case where max_limit is 0\n",
    "    if max_limit == 0:\n",
    "        return [0]\n",
    "    \n",
    "    return fib_sequence\n",
    "\n",
    "\n",
    "def main():\n",
    "    \"\"\"\n",
    "    Main function to test the fibonacci_up_to_limit function with various test cases.\n",
    "    \"\"\"\n",
    "    # Test cases\n",
    "    test_cases = [\n",
    "        0,       # Edge case: max_limit is 0\n",
    "        1,       # Edge case: max_limit is 1\n",
    "        10,      # Small limit\n",
    "        100,     # Medium limit\n",
    "        1000     # Larger limit\n",
    "    ]\n",
    "    \n",
    "    print(\"Running test cases:\")\n",
    "    for i, max_limit in enumerate(test_cases, 1):\n",
    "        try:\n",
    "            result = fibonacci_up_to_limit(max_limit)\n",
    "            print(f\"Test Case {i}: Fibonacci sequence up to {max_limit} -> {result}\")\n",
    "        except ValueError as e:\n",
    "            print(f\"Test Case {i}: Error for max_limit={max_limit} -> {e}\")\n",
    "\n",
    "\n",
    "# Run the main function\n",
    "if __name__ == \"__main__\":\n",
    "    main()"
   ]
  },
  {
   "cell_type": "code",
   "execution_count": null,
   "id": "12f670fe-048d-44d0-86a8-0e1f71d0526e",
   "metadata": {},
   "outputs": [],
   "source": []
  }
 ],
 "metadata": {
  "kernelspec": {
   "display_name": "Python 3 (ipykernel)",
   "language": "python",
   "name": "python3"
  },
  "language_info": {
   "codemirror_mode": {
    "name": "ipython",
    "version": 3
   },
   "file_extension": ".py",
   "mimetype": "text/x-python",
   "name": "python",
   "nbconvert_exporter": "python",
   "pygments_lexer": "ipython3",
   "version": "3.11.9"
  }
 },
 "nbformat": 4,
 "nbformat_minor": 5
}
