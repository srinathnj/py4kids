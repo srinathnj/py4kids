{
 "cells": [
  {
   "cell_type": "markdown",
   "id": "4af46672-6ee7-48da-9388-a0d263007eb3",
   "metadata": {},
   "source": [
    "\n",
    "[Chroma DB User Guide](https://docs.trychroma.com/guides)\n",
    "\n",
    "[Embeddings and Vector Databases With ChromaDB](https://realpython.com/chromadb-vector-database/) \n",
    "\n",
    "- Representing unstructured objects with vectors\n",
    "- Using word and text embeddings in Python\n",
    "- Harnessing the power of vector databases\n",
    "- Encoding and querying over documents with ChromaDB\n",
    "- Providing context to LLMs like ChatGPT with ChromaDB\n",
    "\n",
    "[Ode to Joy](https://claude.ai/chat/3883912c-bae6-4f82-85de-2f09382f1c90) a fruitful chat session to be followed up"
   ]
  },
  {
   "cell_type": "markdown",
   "id": "f6f82536-2b03-4541-89d4-62c1aa8ae774",
   "metadata": {},
   "source": [
    "## Vector Basics\n",
    "\n",
    "\n",
    "A better way to compute the dot product is to use the at-operator (@), which can perform both vector and matrix multiplications, and the syntax is cleaner."
   ]
  },
  {
   "cell_type": "code",
   "execution_count": 6,
   "id": "ecb0a961-ba7b-4e9b-a73b-2dc2f39052ae",
   "metadata": {},
   "outputs": [
    {
     "data": {
      "text/plain": [
       "(2,)"
      ]
     },
     "execution_count": 6,
     "metadata": {},
     "output_type": "execute_result"
    }
   ],
   "source": [
    "import numpy as np\n",
    "\n",
    "v1 = np.array([1, 0])\n",
    "v2 = np.array([0, 1])\n",
    "v3 = np.array([np.sqrt(2), np.sqrt(2)])\n",
    "\n",
    "# Dimension\n",
    "v1.shape\n",
    "# (2,)"
   ]
  },
  {
   "cell_type": "code",
   "execution_count": 7,
   "id": "82b9a9e5-e3af-48fb-adaa-30196b2fff84",
   "metadata": {},
   "outputs": [
    {
     "data": {
      "text/plain": [
       "(np.float64(1.0), np.float64(1.0), np.float64(2.0))"
      ]
     },
     "execution_count": 7,
     "metadata": {},
     "output_type": "execute_result"
    }
   ],
   "source": [
    "# Magnitude\n",
    "np.sqrt(np.sum(v1**2)) ,  np.linalg.norm(v1) ,  np.linalg.norm(v3)\n",
    "# 1.0,  1.0, 2.0"
   ]
  },
  {
   "cell_type": "code",
   "execution_count": 8,
   "id": "7858dd54-f1ba-4c0f-9c2a-fccf41af94e1",
   "metadata": {},
   "outputs": [
    {
     "data": {
      "text/plain": [
       "np.int64(0)"
      ]
     },
     "execution_count": 8,
     "metadata": {},
     "output_type": "execute_result"
    }
   ],
   "source": [
    "# Dot product\n",
    "np.sum(v1 * v2)\n",
    "# 0"
   ]
  },
  {
   "cell_type": "code",
   "execution_count": 9,
   "id": "024d8595-8701-4a5d-b66b-ace51fe23c93",
   "metadata": {},
   "outputs": [
    {
     "data": {
      "text/plain": [
       "(np.int64(0), np.float64(1.4142135623730951))"
      ]
     },
     "execution_count": 9,
     "metadata": {},
     "output_type": "execute_result"
    }
   ],
   "source": [
    "v1 @ v2, v2 @ v3\n",
    "# 1.4142135623730951"
   ]
  },
  {
   "cell_type": "markdown",
   "id": "a0d0d13b-427a-4bdd-97cf-e3e9d07733c9",
   "metadata": {},
   "source": [
    "## Vector Similarity\n",
    "\n",
    "cosine similarity - a normalized form of the dot product. "
   ]
  },
  {
   "cell_type": "markdown",
   "id": "4ffc6324-4dbb-4b00-ada6-6216c99a816a",
   "metadata": {},
   "source": [
    "## Encode Objects in Embeddings\n",
    "\n",
    "Embeddings are a way to represent data such as words, text, images, and audio in a numerical format that computational algorithms can more easily process.\n",
    "\n",
    "More specifically, embeddings are dense vectors that characterize meaningful information about the objects that they encode. The most common kinds of embeddings are word and text embeddings, \n",
    "\n"
   ]
  },
  {
   "cell_type": "markdown",
   "id": "5094f925-73ea-4898-9434-a750f72c2a7f",
   "metadata": {},
   "source": [
    "### Word Embeddings\n",
    "\n",
    "A word embedding is a vector that captures the semantic meaning of word. Ideally, words that are semantically similar in natural language should have embeddings that are similar to each other in the encoded vector space. Analogously, words that are unrelated or opposite of one another should be further apart in the vector space. related words are clustered together, while unrelated words are far from each other.\n",
    "\n",
    "```\n",
    "conda create -n rag python=3.11\n",
    "conda activate rag\n",
    "python -m pip install spacy\n",
    "python -m spacy download en_core_web_md\n",
    "```"
   ]
  },
  {
   "cell_type": "code",
   "execution_count": 10,
   "id": "7ea018b1-8578-481b-b7c5-dc8e67579c15",
   "metadata": {},
   "outputs": [
    {
     "data": {
      "text/plain": [
       "(numpy.ndarray,\n",
       " (300,),\n",
       " array([-0.72483 ,  0.42538 ,  0.025489], dtype=float32))"
      ]
     },
     "execution_count": 10,
     "metadata": {},
     "output_type": "execute_result"
    }
   ],
   "source": [
    "import numpy as np\n",
    "import spacy\n",
    "nlp = spacy.load(\"en_core_web_md\")\n",
    "\n",
    "dog_embedding = nlp.vocab[\"dog\"].vector\n",
    "type(dog_embedding),  dog_embedding.shape,  dog_embedding[0:3]\n",
    "# (numpy.ndarray,  (300,), array([-0.72483 ,  0.42538 ,  0.025489], dtype=float32))"
   ]
  },
  {
   "cell_type": "code",
   "execution_count": 11,
   "id": "6135a0ce-8893-41c8-a1ab-b64539d8eaf6",
   "metadata": {},
   "outputs": [],
   "source": [
    "def compute_cosine_similarity(u: np.ndarray, v: np.ndarray) -> float:\n",
    "    \"\"\"Compute the cosine similarity between two vectors\"\"\"\n",
    "    return (u @ v) / (np.linalg.norm(u) * np.linalg.norm(v))"
   ]
  },
  {
   "cell_type": "code",
   "execution_count": 12,
   "id": "b5e4490d-8a14-40c4-9bf9-c736dc2ca296",
   "metadata": {},
   "outputs": [],
   "source": [
    "dog_embedding = nlp.vocab[\"dog\"].vector\n",
    "cat_embedding = nlp.vocab[\"cat\"].vector\n",
    "apple_embedding = nlp.vocab[\"apple\"].vector\n",
    "tasty_embedding = nlp.vocab[\"tasty\"].vector\n",
    "delicious_embedding = nlp.vocab[\"delicious\"].vector\n",
    "truck_embedding = nlp.vocab[\"truck\"].vector"
   ]
  },
  {
   "cell_type": "code",
   "execution_count": 13,
   "id": "57c79671-1b7f-4c45-8165-4319baebb7e9",
   "metadata": {},
   "outputs": [
    {
     "data": {
      "text/plain": [
       "np.float32(1.0000001)"
      ]
     },
     "execution_count": 13,
     "metadata": {},
     "output_type": "execute_result"
    }
   ],
   "source": [
    "compute_cosine_similarity(dog_embedding, cat_embedding)"
   ]
  },
  {
   "cell_type": "code",
   "execution_count": 22,
   "id": "79c4d800-3351-44a7-936e-cb2bd5c13ed1",
   "metadata": {},
   "outputs": [
    {
     "data": {
      "text/plain": [
       "np.float32(0.450864)"
      ]
     },
     "execution_count": 22,
     "metadata": {},
     "output_type": "execute_result"
    }
   ],
   "source": [
    "compute_cosine_similarity(delicious_embedding, tasty_embedding)"
   ]
  },
  {
   "cell_type": "code",
   "execution_count": 23,
   "id": "2906f741-be02-45e0-a4e6-53eb31d1cdba",
   "metadata": {},
   "outputs": [
    {
     "data": {
      "text/plain": [
       "np.float32(0.39558223)"
      ]
     },
     "execution_count": 23,
     "metadata": {},
     "output_type": "execute_result"
    }
   ],
   "source": [
    "compute_cosine_similarity(apple_embedding, delicious_embedding)"
   ]
  },
  {
   "cell_type": "code",
   "execution_count": 24,
   "id": "6b2b3dbc-9a7b-4b58-890c-ad98d3292d90",
   "metadata": {},
   "outputs": [
    {
     "data": {
      "text/plain": [
       "np.float32(0.2334378)"
      ]
     },
     "execution_count": 24,
     "metadata": {},
     "output_type": "execute_result"
    }
   ],
   "source": [
    "compute_cosine_similarity(dog_embedding, apple_embedding)"
   ]
  },
  {
   "cell_type": "code",
   "execution_count": 25,
   "id": "b4d05c1c-5f2a-458f-98e0-8d71f5cd164a",
   "metadata": {},
   "outputs": [
    {
     "data": {
      "text/plain": [
       "np.float32(0.036047027)"
      ]
     },
     "execution_count": 25,
     "metadata": {},
     "output_type": "execute_result"
    }
   ],
   "source": [
    "compute_cosine_similarity(truck_embedding, delicious_embedding)"
   ]
  },
  {
   "cell_type": "markdown",
   "id": "cf9ebd23-08b1-45ac-96ad-18ce12577e7c",
   "metadata": {},
   "source": [
    "### Text Embeddings\n",
    "\n",
    "Text embeddings encode information about sentences and documents, not just individual words, into vectors. This allows you to compare larger bodies of text to each other just like you did with word vectors. Because they encode more information than a single word embedding, text embeddings are a more powerful representation of information."
   ]
  },
  {
   "cell_type": "raw",
   "id": "dda09673-ed17-4a3b-9e44-a6772d5cfdaf",
   "metadata": {},
   "source": [
    "sudo nvidia-smi --gpu-reset\n",
    "# not working\n",
    "\n",
    "nvidia-smi\n",
    "# get PID then use \n",
    "kill 1219730"
   ]
  },
  {
   "cell_type": "code",
   "execution_count": 1,
   "id": "55206653-27b7-470f-94b5-8108b6204668",
   "metadata": {},
   "outputs": [
    {
     "name": "stderr",
     "output_type": "stream",
     "text": [
      "/home/gongai/anaconda3/envs/rag/lib/python3.11/site-packages/sentence_transformers/cross_encoder/CrossEncoder.py:11: TqdmWarning: IProgress not found. Please update jupyter and ipywidgets. See https://ipywidgets.readthedocs.io/en/stable/user_install.html\n",
      "  from tqdm.autonotebook import tqdm, trange\n"
     ]
    }
   ],
   "source": [
    "from sentence_transformers import SentenceTransformer"
   ]
  },
  {
   "cell_type": "code",
   "execution_count": 2,
   "id": "d6d48593-e5e5-4a58-b599-1533235f1c72",
   "metadata": {},
   "outputs": [],
   "source": [
    "import os\n",
    "os.environ['CUDA_LAUNCH_BLOCKING'] = '1'"
   ]
  },
  {
   "cell_type": "code",
   "execution_count": 3,
   "id": "bdec2055-3ed5-498a-a8cf-6e202f8b0977",
   "metadata": {},
   "outputs": [
    {
     "name": "stderr",
     "output_type": "stream",
     "text": [
      "/home/gongai/anaconda3/envs/rag/lib/python3.11/site-packages/torch/cuda/__init__.py:118: UserWarning: CUDA initialization: CUDA unknown error - this may be due to an incorrectly set up environment, e.g. changing env variable CUDA_VISIBLE_DEVICES after program start. Setting the available devices to be zero. (Triggered internally at ../c10/cuda/CUDAFunctions.cpp:108.)\n",
      "  return torch._C._cuda_getDeviceCount() > 0\n"
     ]
    }
   ],
   "source": [
    "# \"all-MiniLM-L6-v2\" encodes texts up to 256 words.\n",
    "#  is one of the smallest pretrained models available, but it’s a great one to start with.\n",
    "model = SentenceTransformer(\"all-MiniLM-L6-v2\")\n",
    "\n",
    "# model = SentenceTransformer(\"all-MiniLM-L6-v2\", device=\"cpu\")"
   ]
  },
  {
   "cell_type": "code",
   "execution_count": 4,
   "id": "dac5b28e-c0ec-4a1c-ae1b-0739691fa8f7",
   "metadata": {},
   "outputs": [
    {
     "data": {
      "text/plain": [
       "(numpy.ndarray, (4, 384))"
      ]
     },
     "execution_count": 4,
     "metadata": {},
     "output_type": "execute_result"
    }
   ],
   "source": [
    "texts = [\n",
    "         \"The canine barked loudly.\",\n",
    "         \"The dog made a noisy bark.\",\n",
    "         \"He ate a lot of pizza.\",\n",
    "         \"He devoured a large quantity of pizza pie.\",\n",
    "]\n",
    "\n",
    "text_embeddings = model.encode(texts)\n",
    "\n",
    "type(text_embeddings),  text_embeddings.shape\n",
    "# <class 'numpy.ndarray'>  ,  (4, 384)"
   ]
  },
  {
   "cell_type": "code",
   "execution_count": 14,
   "id": "d6dc2c7e-9d7f-4edf-95cf-ae2cb6a51a47",
   "metadata": {},
   "outputs": [],
   "source": [
    "text_embeddings_dict = dict(zip(texts, list(text_embeddings)))"
   ]
  },
  {
   "cell_type": "raw",
   "id": "3d7e95a8-a8cb-43b1-b984-a5f85571b47e",
   "metadata": {},
   "source": [
    "text_embeddings_dict"
   ]
  },
  {
   "cell_type": "code",
   "execution_count": 16,
   "id": "18d9ea2d-66d8-4e02-8766-cabf78310045",
   "metadata": {},
   "outputs": [
    {
     "data": {
      "text/plain": [
       "np.float32(0.77686167)"
      ]
     },
     "execution_count": 16,
     "metadata": {},
     "output_type": "execute_result"
    }
   ],
   "source": [
    "dog_text_1 = \"The canine barked loudly.\"\n",
    "dog_text_2 = \"The dog made a noisy bark.\"\n",
    "compute_cosine_similarity(text_embeddings_dict[dog_text_1],\n",
    "                          text_embeddings_dict[dog_text_2])"
   ]
  },
  {
   "cell_type": "code",
   "execution_count": 17,
   "id": "ff9778f7-43ac-43d0-857e-2269a9d48c0f",
   "metadata": {},
   "outputs": [
    {
     "data": {
      "text/plain": [
       "np.float32(0.78713405)"
      ]
     },
     "execution_count": 17,
     "metadata": {},
     "output_type": "execute_result"
    }
   ],
   "source": [
    "pizza_text_1 = \"He ate a lot of pizza.\"\n",
    "pizza_test_2 = \"He devoured a large quantity of pizza pie.\"\n",
    "compute_cosine_similarity(text_embeddings_dict[pizza_text_1],\n",
    "                          text_embeddings_dict[pizza_test_2])"
   ]
  },
  {
   "cell_type": "code",
   "execution_count": 18,
   "id": "21d4d568-888f-4b5f-955d-62fb739ef78e",
   "metadata": {},
   "outputs": [
    {
     "data": {
      "text/plain": [
       "np.float32(0.09128279)"
      ]
     },
     "execution_count": 18,
     "metadata": {},
     "output_type": "execute_result"
    }
   ],
   "source": [
    "compute_cosine_similarity(text_embeddings_dict[dog_text_1],\n",
    "                          text_embeddings_dict[pizza_text_1])"
   ]
  },
  {
   "cell_type": "markdown",
   "id": "f759f200-0c00-4135-9e6b-435f66ee8ce9",
   "metadata": {},
   "source": [
    "### Get Started With ChromaDB\n",
    "\n",
    "\n",
    "core components of a vector database\n",
    "- Embedding function:\n",
    "- Similarity metric (cosine similarity, the dot product, or Euclidean distance)\n",
    "- Indexing\n",
    "- Metadata - context similar relational db attributes, useful to filter queries on metadata.\n",
    "- CRUD operations: Most vector databases support create, read, update, and delete\n",
    "\n",
    "```\n",
    "pip install chromadb\n",
    "pip install sentence_transformers\n",
    "```\n"
   ]
  },
  {
   "cell_type": "code",
   "execution_count": 1,
   "id": "206f5387-650a-48bc-8e4a-51ca3a8d9931",
   "metadata": {},
   "outputs": [],
   "source": [
    "import chromadb\n",
    "from chromadb.utils import embedding_functions\n",
    "\n",
    "CHROMA_DATA_PATH = \"chroma_data/\"\n",
    "EMBED_MODEL = \"all-MiniLM-L6-v2\"\n",
    "COLLECTION_NAME = \"demo_docs\"\n",
    "\n",
    "client = chromadb.PersistentClient(path=CHROMA_DATA_PATH)"
   ]
  },
  {
   "cell_type": "code",
   "execution_count": null,
   "id": "6ea76cf6-1927-4a4b-9b1c-0d89631a96d4",
   "metadata": {},
   "outputs": [],
   "source": [
    "embedding_func = embedding_functions.SentenceTransformerEmbeddingFunction(\n",
    "    model_name=EMBED_MODEL\n",
    ")"
   ]
  },
  {
   "cell_type": "raw",
   "id": "577a88be-4df9-4285-a91d-e5e16d7dac60",
   "metadata": {},
   "source": [
    "# create collection by name\n",
    "collection = client.create_collection(\n",
    "    name=COLLECTION_NAME,\n",
    "    embedding_function=embedding_func,\n",
    "    metadata={\"hnsw:space\": \"cosine\"},\n",
    ")"
   ]
  },
  {
   "cell_type": "code",
   "execution_count": 15,
   "id": "c215504a-2cab-486b-958e-9ba11ed3cfbd",
   "metadata": {},
   "outputs": [],
   "source": [
    "# create collection by name\n",
    "collection = client.get_or_create_collection(\n",
    "    name=COLLECTION_NAME,\n",
    "    embedding_function=embedding_func,\n",
    "    metadata={\"hnsw:space\": \"cosine\"},\n",
    ")"
   ]
  },
  {
   "cell_type": "code",
   "execution_count": 17,
   "id": "052e49aa-5be4-46e9-968d-aebae56937dc",
   "metadata": {},
   "outputs": [
    {
     "data": {
      "text/plain": [
       "(Collection(name=demo_docs), 'demo_docs')"
      ]
     },
     "execution_count": 17,
     "metadata": {},
     "output_type": "execute_result"
    }
   ],
   "source": [
    "collection, collection.name"
   ]
  },
  {
   "cell_type": "code",
   "execution_count": 18,
   "id": "0a76c52e-8446-49d1-b057-bb69b35ecdb9",
   "metadata": {},
   "outputs": [
    {
     "data": {
      "text/plain": [
       "[Collection(name=demo_docs)]"
      ]
     },
     "execution_count": 18,
     "metadata": {},
     "output_type": "execute_result"
    }
   ],
   "source": [
    "client.list_collections()"
   ]
  },
  {
   "cell_type": "code",
   "execution_count": 19,
   "id": "95729c87-afcb-41af-82da-a2b3e7133ac3",
   "metadata": {},
   "outputs": [
    {
     "data": {
      "text/plain": [
       "1"
      ]
     },
     "execution_count": 19,
     "metadata": {},
     "output_type": "execute_result"
    }
   ],
   "source": [
    "client.count_collections()"
   ]
  },
  {
   "cell_type": "markdown",
   "id": "00d916ad-5737-442e-a4a9-46eddba8dc86",
   "metadata": {},
   "source": [
    "#### Adding data to collection"
   ]
  },
  {
   "cell_type": "code",
   "execution_count": null,
   "id": "1381fa9a-f770-4eca-94ba-c53ad13456d9",
   "metadata": {},
   "outputs": [],
   "source": [
    "# add documents\n",
    "documents = [\n",
    "    \"The latest iPhone model comes with impressive features and a powerful camera.\",\n",
    "    \"Exploring the beautiful beaches and vibrant culture of Bali is a dream for many travelers.\",\n",
    "    \"Einstein's theory of relativity revolutionized our understanding of space and time.\",\n",
    "    \"Traditional Italian pizza is famous for its thin crust, fresh ingredients, and wood-fired ovens.\",\n",
    "    \"The American Revolution had a profound impact on the birth of the United States as a nation.\",\n",
    "    \"Regular exercise and a balanced diet are essential for maintaining good physical health.\",\n",
    "    \"Leonardo da Vinci's Mona Lisa is considered one of the most iconic paintings in art history.\",\n",
    "    \"Climate change poses a significant threat to the planet's ecosystems and biodiversity.\",\n",
    "    \"Startup companies often face challenges in securing funding and scaling their operations.\",\n",
    "    \"Beethoven's Symphony No. 9 is celebrated for its powerful choral finale, 'Ode to Joy.'\",\n",
    "]\n",
    "\n",
    "genres = [\n",
    "    \"technology\",\n",
    "    \"travel\",\n",
    "    \"science\",\n",
    "    \"food\",\n",
    "    \"history\",\n",
    "    \"fitness\",\n",
    "    \"art\",\n",
    "    \"climate change\",\n",
    "    \"business\",\n",
    "    \"music\",\n",
    "]\n",
    "\n",
    "collection.add(\n",
    "    documents=documents,\n",
    "    ids=[f\"id{i}\" for i in range(len(documents))],\n",
    "    metadatas=[{\"genre\": g} for g in genres]       # useful for filtering\n",
    ")"
   ]
  },
  {
   "cell_type": "code",
   "execution_count": 20,
   "id": "636e59f0-8f5f-4058-9c25-168eb485bf5e",
   "metadata": {},
   "outputs": [],
   "source": [
    "data = collection.get()"
   ]
  },
  {
   "cell_type": "code",
   "execution_count": 21,
   "id": "8504ee1c-eb7d-40a7-86bb-c34cd048a80c",
   "metadata": {},
   "outputs": [
    {
     "data": {
      "text/plain": [
       "{'ids': ['id0', 'id1', 'id2', 'id3', 'id4', 'id5', 'id6', 'id7', 'id8', 'id9'],\n",
       " 'embeddings': None,\n",
       " 'documents': ['The latest iPhone model comes with impressive features and a powerful camera.',\n",
       "  'Exploring the beautiful beaches and vibrant culture of Bali is a dream for many travelers.',\n",
       "  \"Einstein's theory of relativity revolutionized our understanding of space and time.\",\n",
       "  'Traditional Italian pizza is famous for its thin crust, fresh ingredients, and wood-fired ovens.',\n",
       "  'The American Revolution had a profound impact on the birth of the United States as a nation.',\n",
       "  'Regular exercise and a balanced diet are essential for maintaining good physical health.',\n",
       "  \"Leonardo da Vinci's Mona Lisa is considered one of the most iconic paintings in art history.\",\n",
       "  \"Climate change poses a significant threat to the planet's ecosystems and biodiversity.\",\n",
       "  'Startup companies often face challenges in securing funding and scaling their operations.',\n",
       "  \"Beethoven's Symphony No. 9 is celebrated for its powerful choral finale, 'Ode to Joy.'\"],\n",
       " 'uris': None,\n",
       " 'data': None,\n",
       " 'metadatas': [{'genre': 'technology'},\n",
       "  {'genre': 'travel'},\n",
       "  {'genre': 'science'},\n",
       "  {'genre': 'food'},\n",
       "  {'genre': 'history'},\n",
       "  {'genre': 'fitness'},\n",
       "  {'genre': 'art'},\n",
       "  {'genre': 'climate change'},\n",
       "  {'genre': 'business'},\n",
       "  {'genre': 'music'}],\n",
       " 'included': [<IncludeEnum.documents: 'documents'>,\n",
       "  <IncludeEnum.metadatas: 'metadatas'>]}"
      ]
     },
     "execution_count": 21,
     "metadata": {},
     "output_type": "execute_result"
    }
   ],
   "source": [
    "data"
   ]
  },
  {
   "cell_type": "markdown",
   "id": "4945b14a-fe0f-45e5-aa99-df01cd5716e4",
   "metadata": {},
   "source": [
    "#### query doc"
   ]
  },
  {
   "cell_type": "code",
   "execution_count": null,
   "id": "bc6ce59b-3c8e-476a-b85a-facb4524bf61",
   "metadata": {},
   "outputs": [
    {
     "name": "stdout",
     "output_type": "stream",
     "text": [
      "dict_keys(['ids', 'embeddings', 'documents', 'uris', 'data', 'metadatas', 'distances', 'included'])\n",
      "[['Traditional Italian pizza is famous for its thin crust, fresh ingredients, and wood-fired ovens.']]\n"
     ]
    },
    {
     "data": {
      "text/plain": [
       "([['id3']], [[0.7638265181530919]], [[{'genre': 'food'}]])"
      ]
     },
     "execution_count": 4,
     "metadata": {},
     "output_type": "execute_result"
    }
   ],
   "source": [
    "query_results = collection.query(\n",
    "    query_texts=[\"Find me some delicious food!\"],\n",
    "    n_results=1,\n",
    ")\n",
    "\n",
    "print(query_results.keys())\n",
    "# dict_keys(['ids', 'distances', 'metadatas', 'embeddings', 'documents'])\n",
    "\n",
    "print(query_results[\"documents\"])\n",
    "# [['Traditional Italian pizza is famous for its thin crust, fresh ingredients, and wood-fired ovens.']]\n",
    "\n",
    "query_results[\"ids\"], query_results[\"distances\"], query_results[\"metadatas\"]\n",
    "# [['id3']], [[0.7638263782124082]], [[{'genre': 'food'}]]"
   ]
  },
  {
   "cell_type": "code",
   "execution_count": 5,
   "id": "35f9eed7-6657-4861-b97a-04faf34a06e5",
   "metadata": {},
   "outputs": [],
   "source": [
    "query_results = collection.query(\n",
    "    query_texts=[\"Teach me about history\",\n",
    "                 \"What's going on in the world?\"],\n",
    "    include=[\"documents\", \"distances\"],\n",
    "    n_results=2\n",
    ")"
   ]
  },
  {
   "cell_type": "code",
   "execution_count": 6,
   "id": "ead0b2f6-2592-46c4-b1a5-455bebfd68a6",
   "metadata": {},
   "outputs": [
    {
     "data": {
      "text/plain": [
       "([\"Einstein's theory of relativity revolutionized our understanding of space and time.\",\n",
       "  'The American Revolution had a profound impact on the birth of the United States as a nation.'],\n",
       " [\"Climate change poses a significant threat to the planet's ecosystems and biodiversity.\",\n",
       "  \"Einstein's theory of relativity revolutionized our understanding of space and time.\"])"
      ]
     },
     "execution_count": 6,
     "metadata": {},
     "output_type": "execute_result"
    }
   ],
   "source": [
    "query_results[\"documents\"][0], query_results[\"documents\"][1]"
   ]
  },
  {
   "cell_type": "code",
   "execution_count": 7,
   "id": "41041343-7ec4-44b4-81f4-df22ab561071",
   "metadata": {},
   "outputs": [
    {
     "data": {
      "text/plain": [
       "([0.6265882513801179, 0.6904193174467044],\n",
       " [0.800294374436915, 0.8882107236562582])"
      ]
     },
     "execution_count": 7,
     "metadata": {},
     "output_type": "execute_result"
    }
   ],
   "source": [
    "query_results[\"distances\"][0], query_results[\"distances\"][1]"
   ]
  },
  {
   "cell_type": "code",
   "execution_count": 8,
   "id": "06556cf9-a200-493d-b0c4-30e3d70ea5d5",
   "metadata": {},
   "outputs": [
    {
     "data": {
      "text/plain": [
       "{'ids': [['id2']],\n",
       " 'embeddings': None,\n",
       " 'documents': [[\"Einstein's theory of relativity revolutionized our understanding of space and time.\"]],\n",
       " 'uris': None,\n",
       " 'data': None,\n",
       " 'metadatas': [[{'genre': 'science'}]],\n",
       " 'distances': [[0.7625820240341616]],\n",
       " 'included': [<IncludeEnum.distances: 'distances'>,\n",
       "  <IncludeEnum.documents: 'documents'>,\n",
       "  <IncludeEnum.metadatas: 'metadatas'>]}"
      ]
     },
     "execution_count": 8,
     "metadata": {},
     "output_type": "execute_result"
    }
   ],
   "source": [
    "collection.query(\n",
    "    query_texts=[\"Teach me about music history\"],\n",
    "    n_results=1\n",
    ")"
   ]
  },
  {
   "cell_type": "markdown",
   "id": "a4512577-e727-497f-8491-feb35ed2cc03",
   "metadata": {},
   "source": [
    "#### [Using Where filters](https://docs.trychroma.com/guides#using-where-filters)\n",
    "\n",
    "\n",
    "Chroma supports filtering queries by `metadata` and `document` contents. \n",
    "\n",
    "The `where` filter is used to filter by metadata, \n",
    "\n",
    "operators: \n",
    "- `$eq` - equal to (string, int, float)\n",
    "- `$ne` - not equal to (string, int, float)\n",
    "- `$gt` - greater than (int, float)\n",
    "- `$gte` - greater than or equal to (int, float)\n",
    "- `$lt` - less than (int, float)\n",
    "- `$lte` - less than or equal to (int, float)\n",
    "\n",
    "\n",
    "Using inclusion operators (`$in` and `$nin`)\n",
    "- `$in` - compare against a list of values\n",
    "\n",
    "The `where_document` filter is used to filter by document contents.\n",
    "\n",
    "operators:\n",
    "\n",
    "- `$contains` \n",
    "- `$not_contains`"
   ]
  },
  {
   "cell_type": "code",
   "execution_count": 9,
   "id": "35964f9a-1072-4503-89b0-00e6739e2370",
   "metadata": {},
   "outputs": [
    {
     "data": {
      "text/plain": [
       "{'ids': [['id9']],\n",
       " 'embeddings': None,\n",
       " 'documents': [[\"Beethoven's Symphony No. 9 is celebrated for its powerful choral finale, 'Ode to Joy.'\"]],\n",
       " 'uris': None,\n",
       " 'data': None,\n",
       " 'metadatas': [[{'genre': 'music'}]],\n",
       " 'distances': [[0.8186328747075663]],\n",
       " 'included': [<IncludeEnum.distances: 'distances'>,\n",
       "  <IncludeEnum.documents: 'documents'>,\n",
       "  <IncludeEnum.metadatas: 'metadatas'>]}"
      ]
     },
     "execution_count": 9,
     "metadata": {},
     "output_type": "execute_result"
    }
   ],
   "source": [
    "collection.query(\n",
    "    query_texts=[\"Teach me about music history\"],\n",
    "    where={\"genre\": {\"$eq\": \"music\"}},   \n",
    "    # where={\"genre\": \"music\"},  # short form\n",
    "    n_results=1,\n",
    ")"
   ]
  },
  {
   "cell_type": "code",
   "execution_count": 12,
   "id": "24c808ca-732c-4da5-b665-695aea8710bf",
   "metadata": {},
   "outputs": [
    {
     "data": {
      "text/plain": [
       "{'ids': [['id9']],\n",
       " 'embeddings': None,\n",
       " 'documents': [[\"Beethoven's Symphony No. 9 is celebrated for its powerful choral finale, 'Ode to Joy.'\"]],\n",
       " 'uris': None,\n",
       " 'data': None,\n",
       " 'metadatas': [[{'genre': 'music'}]],\n",
       " 'distances': [[0.8186328747075663]],\n",
       " 'included': [<IncludeEnum.distances: 'distances'>,\n",
       "  <IncludeEnum.documents: 'documents'>,\n",
       "  <IncludeEnum.metadatas: 'metadatas'>]}"
      ]
     },
     "execution_count": 12,
     "metadata": {},
     "output_type": "execute_result"
    }
   ],
   "source": [
    "collection.query(\n",
    "    query_texts=[\"Teach me about music history\"],\n",
    "    where_document={\"$contains\": \"Symphony\"},\n",
    "    n_results=1,\n",
    ")"
   ]
  },
  {
   "cell_type": "code",
   "execution_count": 13,
   "id": "a1eeebeb-a93d-4627-ac5b-8c5f86f45054",
   "metadata": {},
   "outputs": [
    {
     "data": {
      "text/plain": [
       "{'ids': [['id2']],\n",
       " 'embeddings': None,\n",
       " 'documents': [[\"Einstein's theory of relativity revolutionized our understanding of space and time.\"]],\n",
       " 'uris': None,\n",
       " 'data': None,\n",
       " 'metadatas': [[{'genre': 'science'}]],\n",
       " 'distances': [[0.7625820240341616]],\n",
       " 'included': [<IncludeEnum.distances: 'distances'>,\n",
       "  <IncludeEnum.documents: 'documents'>,\n",
       "  <IncludeEnum.metadatas: 'metadatas'>]}"
      ]
     },
     "execution_count": 13,
     "metadata": {},
     "output_type": "execute_result"
    }
   ],
   "source": [
    "collection.query(\n",
    "    query_texts=[\"Teach me about music history\"],\n",
    "    where_document={\"$not_contains\": \"Symphony\"},\n",
    "    n_results=1,\n",
    ")"
   ]
  },
  {
   "cell_type": "code",
   "execution_count": 10,
   "id": "c0d7ace1-24e4-420f-b6e1-1cbd84744cee",
   "metadata": {},
   "outputs": [
    {
     "data": {
      "text/plain": [
       "([[\"Beethoven's Symphony No. 9 is celebrated for its powerful choral finale, 'Ode to Joy.'\",\n",
       "   'The American Revolution had a profound impact on the birth of the United States as a nation.']],\n",
       " [[0.8186328747075663, 0.8200413374548509]])"
      ]
     },
     "execution_count": 10,
     "metadata": {},
     "output_type": "execute_result"
    }
   ],
   "source": [
    "query_results = collection.query(\n",
    "    query_texts=[\"Teach me about music history\"],\n",
    "    where={\"genre\": {\"$in\": [\"music\", \"history\"]}},\n",
    "    n_results=2,\n",
    ")\n",
    "\n",
    "query_results[\"documents\"], query_results[\"distances\"]"
   ]
  },
  {
   "cell_type": "code",
   "execution_count": null,
   "id": "1b8a9c4b-6466-4ead-afda-8ba0a49c66c1",
   "metadata": {},
   "outputs": [],
   "source": []
  }
 ],
 "metadata": {
  "kernelspec": {
   "display_name": "Python 3 (ipykernel)",
   "language": "python",
   "name": "python3"
  },
  "language_info": {
   "codemirror_mode": {
    "name": "ipython",
    "version": 3
   },
   "file_extension": ".py",
   "mimetype": "text/x-python",
   "name": "python",
   "nbconvert_exporter": "python",
   "pygments_lexer": "ipython3",
   "version": "3.11.9"
  }
 },
 "nbformat": 4,
 "nbformat_minor": 5
}
