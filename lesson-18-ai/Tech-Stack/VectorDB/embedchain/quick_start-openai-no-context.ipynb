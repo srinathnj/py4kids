{
 "cells": [
  {
   "cell_type": "markdown",
   "id": "70b74e7e",
   "metadata": {},
   "source": [
    "https://docs.embedchain.ai/get-started/quickstart\n",
    "\n",
    "## Setup\n",
    "\n",
    "```\n",
    "pip install embedchain sentence_transformers\n",
    "```\n",
    "\n",
    "- `sentence_transformers` depends on `torch`"
   ]
  },
  {
   "cell_type": "code",
   "execution_count": 1,
   "id": "39023f84",
   "metadata": {},
   "outputs": [],
   "source": [
    "import os\n",
    "from embedchain import App\n",
    "# replace this with your HF key\n",
    "os.environ[\"OPENAI_API_KEY\"] = os.getenv(\"API_KEY_OPENAI\")"
   ]
  },
  {
   "cell_type": "code",
   "execution_count": 2,
   "id": "222f743e",
   "metadata": {},
   "outputs": [],
   "source": [
    "app = App.from_config(\"openai.yaml\")"
   ]
  },
  {
   "cell_type": "raw",
   "id": "fa1ce0ff",
   "metadata": {},
   "source": [
    "app.add(\"https://www.forbes.com/profile/elon-musk\")"
   ]
  },
  {
   "cell_type": "raw",
   "id": "827d48b5",
   "metadata": {},
   "source": [
    "app.add(\"https://en.wikipedia.org/wiki/Elon_Musk\")"
   ]
  },
  {
   "cell_type": "code",
   "execution_count": 3,
   "id": "cd1251d0",
   "metadata": {},
   "outputs": [],
   "source": [
    "resp = app.query(\"What is the net worth of Elon Musk today?\")"
   ]
  },
  {
   "cell_type": "code",
   "execution_count": 4,
   "id": "117e1a9f",
   "metadata": {},
   "outputs": [
    {
     "name": "stdout",
     "output_type": "stream",
     "text": [
      "As of September 2021, Elon Musk's net worth is estimated to be around $250 billion. However, please note that net worth can fluctuate due to various factors such as stock prices and investments, so it is always best to refer to the latest financial reports for the most accurate information.\n"
     ]
    }
   ],
   "source": [
    "print(resp)"
   ]
  },
  {
   "cell_type": "code",
   "execution_count": 5,
   "id": "8e8dc035",
   "metadata": {},
   "outputs": [
    {
     "name": "stdout",
     "output_type": "stream",
     "text": [
      "As of October 2021, Bill Gates has an estimated net worth of over $130 billion.\n"
     ]
    }
   ],
   "source": [
    "resp = app.query(\"What is the net worth of Bill Gates today?\")\n",
    "print(resp)"
   ]
  },
  {
   "cell_type": "code",
   "execution_count": 6,
   "id": "6b47e5d0",
   "metadata": {},
   "outputs": [
    {
     "name": "stdout",
     "output_type": "stream",
     "text": [
      "Barack Obama is a former President of the United States. He served as the 44th President from 2009 to 2017.\n"
     ]
    }
   ],
   "source": [
    "print(app.query(\"Who is Obama?\"))"
   ]
  },
  {
   "cell_type": "code",
   "execution_count": 7,
   "id": "6cd6c460",
   "metadata": {},
   "outputs": [],
   "source": [
    "resp = app.query(\"Does Bill Gates know the famous American inventor Thomas Edison?\")"
   ]
  },
  {
   "cell_type": "code",
   "execution_count": 8,
   "id": "3a685859",
   "metadata": {},
   "outputs": [
    {
     "name": "stdout",
     "output_type": "stream",
     "text": [
      "No, Bill Gates does not know Thomas Edison. Thomas Edison passed away in 1931, long before Bill Gates was born in 1955.\n"
     ]
    }
   ],
   "source": [
    "print(resp)"
   ]
  },
  {
   "cell_type": "code",
   "execution_count": 9,
   "id": "47383f8f",
   "metadata": {},
   "outputs": [
    {
     "name": "stdout",
     "output_type": "stream",
     "text": [
      "I'm sorry, but I don't have enough information to answer that question.\n"
     ]
    }
   ],
   "source": [
    "resp = app.query(\"Who is Wen Gong?\")\n",
    "print(resp)"
   ]
  },
  {
   "cell_type": "code",
   "execution_count": 10,
   "id": "ff02dc4d",
   "metadata": {},
   "outputs": [
    {
     "name": "stdout",
     "output_type": "stream",
     "text": [
      "I don't know Wen Gong's name in Chinese.\n"
     ]
    }
   ],
   "source": [
    "resp = app.query(\"What is Wen Gong's name in Chinese? You said he is the founder and chairman of the Wen Gong Foundation, a non-profit organization that supports education and social welfare programs in China. He is also the chairman of the Wen Gong Group, a conglomerate that operates in a variety of industries, including real estate, finance, and technology.\")\n",
    "print(resp)"
   ]
  },
  {
   "cell_type": "code",
   "execution_count": 11,
   "id": "76dc59a1",
   "metadata": {},
   "outputs": [
    {
     "name": "stdout",
     "output_type": "stream",
     "text": [
      "Yes, the name 'Wen Gong' can be translated into Chinese as '文功'.\n"
     ]
    }
   ],
   "source": [
    "resp = app.query(\"Can you translate the name 'Wen Gong' into Chinese?\")\n",
    "print(resp)"
   ]
  },
  {
   "cell_type": "code",
   "execution_count": null,
   "id": "1d864906",
   "metadata": {},
   "outputs": [],
   "source": []
  }
 ],
 "metadata": {
  "kernelspec": {
   "display_name": "Python 3 (ipykernel)",
   "language": "python",
   "name": "python3"
  },
  "language_info": {
   "codemirror_mode": {
    "name": "ipython",
    "version": 3
   },
   "file_extension": ".py",
   "mimetype": "text/x-python",
   "name": "python",
   "nbconvert_exporter": "python",
   "pygments_lexer": "ipython3",
   "version": "3.11.5"
  }
 },
 "nbformat": 4,
 "nbformat_minor": 5
}
