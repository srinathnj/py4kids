{
 "cells": [
  {
   "cell_type": "markdown",
   "id": "d2ed05e4",
   "metadata": {},
   "source": [
    "https://docs.embedchain.ai/get-started/quickstart\n",
    "\n",
    "## Setup\n",
    "\n",
    "```\n",
    "pip install embedchain sentence_transformers\n",
    "```\n",
    "\n",
    "- `sentence_transformers` depends on `torch`"
   ]
  },
  {
   "cell_type": "code",
   "execution_count": 1,
   "id": "e28752d8",
   "metadata": {},
   "outputs": [],
   "source": [
    "import os\n",
    "from embedchain import App\n",
    "# replace this with your HF key\n",
    "os.environ[\"HUGGINGFACE_ACCESS_TOKEN\"] = os.getenv(\"API_KEY_HUGGING_FACE\")"
   ]
  },
  {
   "cell_type": "code",
   "execution_count": 2,
   "id": "5d605d94",
   "metadata": {},
   "outputs": [
    {
     "ename": "OperationalError",
     "evalue": "(sqlite3.OperationalError) table ec_chat_history already exists\n[SQL: \nCREATE TABLE ec_chat_history (\n\tapp_id VARCHAR NOT NULL, \n\tid VARCHAR NOT NULL, \n\tsession_id VARCHAR NOT NULL, \n\tquestion TEXT, \n\tanswer TEXT, \n\tmetadata TEXT, \n\tcreated_at TIMESTAMP, \n\tPRIMARY KEY (app_id, id, session_id)\n)\n\n]\n(Background on this error at: https://sqlalche.me/e/20/e3q8)",
     "output_type": "error",
     "traceback": [
      "\u001b[0;31m---------------------------------------------------------------------------\u001b[0m",
      "\u001b[0;31mOperationalError\u001b[0m                          Traceback (most recent call last)",
      "File \u001b[0;32m~/.local/lib/python3.10/site-packages/sqlalchemy/engine/base.py:1967\u001b[0m, in \u001b[0;36mConnection._exec_single_context\u001b[0;34m(self, dialect, context, statement, parameters)\u001b[0m\n\u001b[1;32m   1966\u001b[0m     \u001b[38;5;28;01mif\u001b[39;00m \u001b[38;5;129;01mnot\u001b[39;00m evt_handled:\n\u001b[0;32m-> 1967\u001b[0m         \u001b[38;5;28;43mself\u001b[39;49m\u001b[38;5;241;43m.\u001b[39;49m\u001b[43mdialect\u001b[49m\u001b[38;5;241;43m.\u001b[39;49m\u001b[43mdo_execute\u001b[49m\u001b[43m(\u001b[49m\n\u001b[1;32m   1968\u001b[0m \u001b[43m            \u001b[49m\u001b[43mcursor\u001b[49m\u001b[43m,\u001b[49m\u001b[43m \u001b[49m\u001b[43mstr_statement\u001b[49m\u001b[43m,\u001b[49m\u001b[43m \u001b[49m\u001b[43meffective_parameters\u001b[49m\u001b[43m,\u001b[49m\u001b[43m \u001b[49m\u001b[43mcontext\u001b[49m\n\u001b[1;32m   1969\u001b[0m \u001b[43m        \u001b[49m\u001b[43m)\u001b[49m\n\u001b[1;32m   1971\u001b[0m \u001b[38;5;28;01mif\u001b[39;00m \u001b[38;5;28mself\u001b[39m\u001b[38;5;241m.\u001b[39m_has_events \u001b[38;5;129;01mor\u001b[39;00m \u001b[38;5;28mself\u001b[39m\u001b[38;5;241m.\u001b[39mengine\u001b[38;5;241m.\u001b[39m_has_events:\n",
      "File \u001b[0;32m~/.local/lib/python3.10/site-packages/sqlalchemy/engine/default.py:924\u001b[0m, in \u001b[0;36mDefaultDialect.do_execute\u001b[0;34m(self, cursor, statement, parameters, context)\u001b[0m\n\u001b[1;32m    923\u001b[0m \u001b[38;5;28;01mdef\u001b[39;00m \u001b[38;5;21mdo_execute\u001b[39m(\u001b[38;5;28mself\u001b[39m, cursor, statement, parameters, context\u001b[38;5;241m=\u001b[39m\u001b[38;5;28;01mNone\u001b[39;00m):\n\u001b[0;32m--> 924\u001b[0m     \u001b[43mcursor\u001b[49m\u001b[38;5;241;43m.\u001b[39;49m\u001b[43mexecute\u001b[49m\u001b[43m(\u001b[49m\u001b[43mstatement\u001b[49m\u001b[43m,\u001b[49m\u001b[43m \u001b[49m\u001b[43mparameters\u001b[49m\u001b[43m)\u001b[49m\n",
      "\u001b[0;31mOperationalError\u001b[0m: table ec_chat_history already exists",
      "\nThe above exception was the direct cause of the following exception:\n",
      "\u001b[0;31mOperationalError\u001b[0m                          Traceback (most recent call last)",
      "Cell \u001b[0;32mIn[2], line 1\u001b[0m\n\u001b[0;32m----> 1\u001b[0m app \u001b[38;5;241m=\u001b[39m \u001b[43mApp\u001b[49m\u001b[38;5;241;43m.\u001b[39;49m\u001b[43mfrom_config\u001b[49m\u001b[43m(\u001b[49m\u001b[38;5;124;43m\"\u001b[39;49m\u001b[38;5;124;43mmistral.yaml\u001b[39;49m\u001b[38;5;124;43m\"\u001b[39;49m\u001b[43m)\u001b[49m\n",
      "File \u001b[0;32m~/.local/lib/python3.10/site-packages/embedchain/app.py:381\u001b[0m, in \u001b[0;36mApp.from_config\u001b[0;34m(cls, config_path, config, auto_deploy, yaml_path)\u001b[0m\n\u001b[1;32m    377\u001b[0m \u001b[38;5;28;01mif\u001b[39;00m llm_config_data:\n\u001b[1;32m    378\u001b[0m     \u001b[38;5;66;03m# Initialize the metadata db for the app here since llmfactory needs it for initialization of\u001b[39;00m\n\u001b[1;32m    379\u001b[0m     \u001b[38;5;66;03m# the llm memory\u001b[39;00m\n\u001b[1;32m    380\u001b[0m     setup_engine(database_uri\u001b[38;5;241m=\u001b[39mos\u001b[38;5;241m.\u001b[39menviron\u001b[38;5;241m.\u001b[39mget(\u001b[38;5;124m\"\u001b[39m\u001b[38;5;124mEMBEDCHAIN_DB_URI\u001b[39m\u001b[38;5;124m\"\u001b[39m))\n\u001b[0;32m--> 381\u001b[0m     \u001b[43minit_db\u001b[49m\u001b[43m(\u001b[49m\u001b[43m)\u001b[49m\n\u001b[1;32m    382\u001b[0m     llm_provider \u001b[38;5;241m=\u001b[39m llm_config_data\u001b[38;5;241m.\u001b[39mget(\u001b[38;5;124m\"\u001b[39m\u001b[38;5;124mprovider\u001b[39m\u001b[38;5;124m\"\u001b[39m, \u001b[38;5;124m\"\u001b[39m\u001b[38;5;124mopenai\u001b[39m\u001b[38;5;124m\"\u001b[39m)\n\u001b[1;32m    383\u001b[0m     llm \u001b[38;5;241m=\u001b[39m LlmFactory\u001b[38;5;241m.\u001b[39mcreate(llm_provider, llm_config_data\u001b[38;5;241m.\u001b[39mget(\u001b[38;5;124m\"\u001b[39m\u001b[38;5;124mconfig\u001b[39m\u001b[38;5;124m\"\u001b[39m, {}))\n",
      "File \u001b[0;32m~/.local/lib/python3.10/site-packages/embedchain/core/db/database.py:80\u001b[0m, in \u001b[0;36minit_db\u001b[0;34m()\u001b[0m\n\u001b[1;32m     79\u001b[0m \u001b[38;5;28;01mdef\u001b[39;00m \u001b[38;5;21minit_db\u001b[39m() \u001b[38;5;241m-\u001b[39m\u001b[38;5;241m>\u001b[39m \u001b[38;5;28;01mNone\u001b[39;00m:\n\u001b[0;32m---> 80\u001b[0m     \u001b[43malembic_upgrade\u001b[49m\u001b[43m(\u001b[49m\u001b[43m)\u001b[49m\n",
      "File \u001b[0;32m~/.local/lib/python3.10/site-packages/embedchain/core/db/database.py:76\u001b[0m, in \u001b[0;36malembic_upgrade\u001b[0;34m()\u001b[0m\n\u001b[1;32m     74\u001b[0m alembic_config_path \u001b[38;5;241m=\u001b[39m os\u001b[38;5;241m.\u001b[39mpath\u001b[38;5;241m.\u001b[39mjoin(os\u001b[38;5;241m.\u001b[39mpath\u001b[38;5;241m.\u001b[39mdirname(\u001b[38;5;18m__file__\u001b[39m), \u001b[38;5;124m\"\u001b[39m\u001b[38;5;124m..\u001b[39m\u001b[38;5;124m\"\u001b[39m, \u001b[38;5;124m\"\u001b[39m\u001b[38;5;124m..\u001b[39m\u001b[38;5;124m\"\u001b[39m, \u001b[38;5;124m\"\u001b[39m\u001b[38;5;124malembic.ini\u001b[39m\u001b[38;5;124m\"\u001b[39m)\n\u001b[1;32m     75\u001b[0m alembic_cfg \u001b[38;5;241m=\u001b[39m Config(alembic_config_path)\n\u001b[0;32m---> 76\u001b[0m \u001b[43mcommand\u001b[49m\u001b[38;5;241;43m.\u001b[39;49m\u001b[43mupgrade\u001b[49m\u001b[43m(\u001b[49m\u001b[43malembic_cfg\u001b[49m\u001b[43m,\u001b[49m\u001b[43m \u001b[49m\u001b[38;5;124;43m\"\u001b[39;49m\u001b[38;5;124;43mhead\u001b[39;49m\u001b[38;5;124;43m\"\u001b[39;49m\u001b[43m)\u001b[49m\n",
      "File \u001b[0;32m~/.local/lib/python3.10/site-packages/alembic/command.py:403\u001b[0m, in \u001b[0;36mupgrade\u001b[0;34m(config, revision, sql, tag)\u001b[0m\n\u001b[1;32m    392\u001b[0m     \u001b[38;5;28;01mreturn\u001b[39;00m script\u001b[38;5;241m.\u001b[39m_upgrade_revs(revision, rev)\n\u001b[1;32m    394\u001b[0m \u001b[38;5;28;01mwith\u001b[39;00m EnvironmentContext(\n\u001b[1;32m    395\u001b[0m     config,\n\u001b[1;32m    396\u001b[0m     script,\n\u001b[0;32m   (...)\u001b[0m\n\u001b[1;32m    401\u001b[0m     tag\u001b[38;5;241m=\u001b[39mtag,\n\u001b[1;32m    402\u001b[0m ):\n\u001b[0;32m--> 403\u001b[0m     \u001b[43mscript\u001b[49m\u001b[38;5;241;43m.\u001b[39;49m\u001b[43mrun_env\u001b[49m\u001b[43m(\u001b[49m\u001b[43m)\u001b[49m\n",
      "File \u001b[0;32m~/.local/lib/python3.10/site-packages/alembic/script/base.py:583\u001b[0m, in \u001b[0;36mScriptDirectory.run_env\u001b[0;34m(self)\u001b[0m\n\u001b[1;32m    574\u001b[0m \u001b[38;5;28;01mdef\u001b[39;00m \u001b[38;5;21mrun_env\u001b[39m(\u001b[38;5;28mself\u001b[39m) \u001b[38;5;241m-\u001b[39m\u001b[38;5;241m>\u001b[39m \u001b[38;5;28;01mNone\u001b[39;00m:\n\u001b[1;32m    575\u001b[0m \u001b[38;5;250m    \u001b[39m\u001b[38;5;124;03m\"\"\"Run the script environment.\u001b[39;00m\n\u001b[1;32m    576\u001b[0m \n\u001b[1;32m    577\u001b[0m \u001b[38;5;124;03m    This basically runs the ``env.py`` script present\u001b[39;00m\n\u001b[0;32m   (...)\u001b[0m\n\u001b[1;32m    581\u001b[0m \n\u001b[1;32m    582\u001b[0m \u001b[38;5;124;03m    \"\"\"\u001b[39;00m\n\u001b[0;32m--> 583\u001b[0m     \u001b[43mutil\u001b[49m\u001b[38;5;241;43m.\u001b[39;49m\u001b[43mload_python_file\u001b[49m\u001b[43m(\u001b[49m\u001b[38;5;28;43mself\u001b[39;49m\u001b[38;5;241;43m.\u001b[39;49m\u001b[43mdir\u001b[49m\u001b[43m,\u001b[49m\u001b[43m \u001b[49m\u001b[38;5;124;43m\"\u001b[39;49m\u001b[38;5;124;43menv.py\u001b[39;49m\u001b[38;5;124;43m\"\u001b[39;49m\u001b[43m)\u001b[49m\n",
      "File \u001b[0;32m~/.local/lib/python3.10/site-packages/alembic/util/pyfiles.py:95\u001b[0m, in \u001b[0;36mload_python_file\u001b[0;34m(dir_, filename)\u001b[0m\n\u001b[1;32m     93\u001b[0m \u001b[38;5;28;01mif\u001b[39;00m ext \u001b[38;5;241m==\u001b[39m \u001b[38;5;124m\"\u001b[39m\u001b[38;5;124m.py\u001b[39m\u001b[38;5;124m\"\u001b[39m:\n\u001b[1;32m     94\u001b[0m     \u001b[38;5;28;01mif\u001b[39;00m os\u001b[38;5;241m.\u001b[39mpath\u001b[38;5;241m.\u001b[39mexists(path):\n\u001b[0;32m---> 95\u001b[0m         module \u001b[38;5;241m=\u001b[39m \u001b[43mload_module_py\u001b[49m\u001b[43m(\u001b[49m\u001b[43mmodule_id\u001b[49m\u001b[43m,\u001b[49m\u001b[43m \u001b[49m\u001b[43mpath\u001b[49m\u001b[43m)\u001b[49m\n\u001b[1;32m     96\u001b[0m     \u001b[38;5;28;01melse\u001b[39;00m:\n\u001b[1;32m     97\u001b[0m         pyc_path \u001b[38;5;241m=\u001b[39m pyc_file_from_path(path)\n",
      "File \u001b[0;32m~/.local/lib/python3.10/site-packages/alembic/util/pyfiles.py:113\u001b[0m, in \u001b[0;36mload_module_py\u001b[0;34m(module_id, path)\u001b[0m\n\u001b[1;32m    111\u001b[0m \u001b[38;5;28;01massert\u001b[39;00m spec\n\u001b[1;32m    112\u001b[0m module \u001b[38;5;241m=\u001b[39m importlib\u001b[38;5;241m.\u001b[39mutil\u001b[38;5;241m.\u001b[39mmodule_from_spec(spec)\n\u001b[0;32m--> 113\u001b[0m \u001b[43mspec\u001b[49m\u001b[38;5;241;43m.\u001b[39;49m\u001b[43mloader\u001b[49m\u001b[38;5;241;43m.\u001b[39;49m\u001b[43mexec_module\u001b[49m\u001b[43m(\u001b[49m\u001b[43mmodule\u001b[49m\u001b[43m)\u001b[49m  \u001b[38;5;66;03m# type: ignore\u001b[39;00m\n\u001b[1;32m    114\u001b[0m \u001b[38;5;28;01mreturn\u001b[39;00m module\n",
      "File \u001b[0;32m<frozen importlib._bootstrap_external>:883\u001b[0m, in \u001b[0;36mexec_module\u001b[0;34m(self, module)\u001b[0m\n",
      "File \u001b[0;32m<frozen importlib._bootstrap>:241\u001b[0m, in \u001b[0;36m_call_with_frames_removed\u001b[0;34m(f, *args, **kwds)\u001b[0m\n",
      "File \u001b[0;32m~/.local/lib/python3.10/site-packages/embedchain/migrations/env.py:68\u001b[0m\n\u001b[1;32m     66\u001b[0m     run_migrations_offline()\n\u001b[1;32m     67\u001b[0m \u001b[38;5;28;01melse\u001b[39;00m:\n\u001b[0;32m---> 68\u001b[0m     \u001b[43mrun_migrations_online\u001b[49m\u001b[43m(\u001b[49m\u001b[43m)\u001b[49m\n",
      "File \u001b[0;32m~/.local/lib/python3.10/site-packages/embedchain/migrations/env.py:62\u001b[0m, in \u001b[0;36mrun_migrations_online\u001b[0;34m()\u001b[0m\n\u001b[1;32m     59\u001b[0m context\u001b[38;5;241m.\u001b[39mconfigure(connection\u001b[38;5;241m=\u001b[39mconnection, target_metadata\u001b[38;5;241m=\u001b[39mtarget_metadata)\n\u001b[1;32m     61\u001b[0m \u001b[38;5;28;01mwith\u001b[39;00m context\u001b[38;5;241m.\u001b[39mbegin_transaction():\n\u001b[0;32m---> 62\u001b[0m     \u001b[43mcontext\u001b[49m\u001b[38;5;241;43m.\u001b[39;49m\u001b[43mrun_migrations\u001b[49m\u001b[43m(\u001b[49m\u001b[43m)\u001b[49m\n",
      "File \u001b[0;32m<string>:8\u001b[0m, in \u001b[0;36mrun_migrations\u001b[0;34m(*args, **kw)\u001b[0m\n",
      "File \u001b[0;32m~/.local/lib/python3.10/site-packages/alembic/runtime/environment.py:948\u001b[0m, in \u001b[0;36mEnvironmentContext.run_migrations\u001b[0;34m(self, **kw)\u001b[0m\n\u001b[1;32m    946\u001b[0m \u001b[38;5;28;01massert\u001b[39;00m \u001b[38;5;28mself\u001b[39m\u001b[38;5;241m.\u001b[39m_migration_context \u001b[38;5;129;01mis\u001b[39;00m \u001b[38;5;129;01mnot\u001b[39;00m \u001b[38;5;28;01mNone\u001b[39;00m\n\u001b[1;32m    947\u001b[0m \u001b[38;5;28;01mwith\u001b[39;00m Operations\u001b[38;5;241m.\u001b[39mcontext(\u001b[38;5;28mself\u001b[39m\u001b[38;5;241m.\u001b[39m_migration_context):\n\u001b[0;32m--> 948\u001b[0m     \u001b[38;5;28;43mself\u001b[39;49m\u001b[38;5;241;43m.\u001b[39;49m\u001b[43mget_context\u001b[49m\u001b[43m(\u001b[49m\u001b[43m)\u001b[49m\u001b[38;5;241;43m.\u001b[39;49m\u001b[43mrun_migrations\u001b[49m\u001b[43m(\u001b[49m\u001b[38;5;241;43m*\u001b[39;49m\u001b[38;5;241;43m*\u001b[39;49m\u001b[43mkw\u001b[49m\u001b[43m)\u001b[49m\n",
      "File \u001b[0;32m~/.local/lib/python3.10/site-packages/alembic/runtime/migration.py:627\u001b[0m, in \u001b[0;36mMigrationContext.run_migrations\u001b[0;34m(self, **kw)\u001b[0m\n\u001b[1;32m    623\u001b[0m \u001b[38;5;28;01mif\u001b[39;00m \u001b[38;5;28mself\u001b[39m\u001b[38;5;241m.\u001b[39mas_sql:\n\u001b[1;32m    624\u001b[0m     \u001b[38;5;28mself\u001b[39m\u001b[38;5;241m.\u001b[39mimpl\u001b[38;5;241m.\u001b[39mstatic_output(\n\u001b[1;32m    625\u001b[0m         \u001b[38;5;124m\"\u001b[39m\u001b[38;5;124m-- Running \u001b[39m\u001b[38;5;132;01m%s\u001b[39;00m\u001b[38;5;124m\"\u001b[39m \u001b[38;5;241m%\u001b[39m (step\u001b[38;5;241m.\u001b[39mshort_log,)\n\u001b[1;32m    626\u001b[0m     )\n\u001b[0;32m--> 627\u001b[0m \u001b[43mstep\u001b[49m\u001b[38;5;241;43m.\u001b[39;49m\u001b[43mmigration_fn\u001b[49m\u001b[43m(\u001b[49m\u001b[38;5;241;43m*\u001b[39;49m\u001b[38;5;241;43m*\u001b[39;49m\u001b[43mkw\u001b[49m\u001b[43m)\u001b[49m\n\u001b[1;32m    629\u001b[0m \u001b[38;5;66;03m# previously, we wouldn't stamp per migration\u001b[39;00m\n\u001b[1;32m    630\u001b[0m \u001b[38;5;66;03m# if we were in a transaction, however given the more\u001b[39;00m\n\u001b[1;32m    631\u001b[0m \u001b[38;5;66;03m# complex model that involves any number of inserts\u001b[39;00m\n\u001b[1;32m    632\u001b[0m \u001b[38;5;66;03m# and row-targeted updates and deletes, it's simpler for now\u001b[39;00m\n\u001b[1;32m    633\u001b[0m \u001b[38;5;66;03m# just to run the operations on every version\u001b[39;00m\n\u001b[1;32m    634\u001b[0m head_maintainer\u001b[38;5;241m.\u001b[39mupdate_to_step(step)\n",
      "File \u001b[0;32m~/.local/lib/python3.10/site-packages/embedchain/migrations/versions/40a327b3debd_create_initial_migrations.py:23\u001b[0m, in \u001b[0;36mupgrade\u001b[0;34m()\u001b[0m\n\u001b[1;32m     21\u001b[0m \u001b[38;5;28;01mdef\u001b[39;00m \u001b[38;5;21mupgrade\u001b[39m() \u001b[38;5;241m-\u001b[39m\u001b[38;5;241m>\u001b[39m \u001b[38;5;28;01mNone\u001b[39;00m:\n\u001b[1;32m     22\u001b[0m     \u001b[38;5;66;03m# ### commands auto generated by Alembic - please adjust! ###\u001b[39;00m\n\u001b[0;32m---> 23\u001b[0m     \u001b[43mop\u001b[49m\u001b[38;5;241;43m.\u001b[39;49m\u001b[43mcreate_table\u001b[49m\u001b[43m(\u001b[49m\n\u001b[1;32m     24\u001b[0m \u001b[43m        \u001b[49m\u001b[38;5;124;43m\"\u001b[39;49m\u001b[38;5;124;43mec_chat_history\u001b[39;49m\u001b[38;5;124;43m\"\u001b[39;49m\u001b[43m,\u001b[49m\n\u001b[1;32m     25\u001b[0m \u001b[43m        \u001b[49m\u001b[43msa\u001b[49m\u001b[38;5;241;43m.\u001b[39;49m\u001b[43mColumn\u001b[49m\u001b[43m(\u001b[49m\u001b[38;5;124;43m\"\u001b[39;49m\u001b[38;5;124;43mapp_id\u001b[39;49m\u001b[38;5;124;43m\"\u001b[39;49m\u001b[43m,\u001b[49m\u001b[43m \u001b[49m\u001b[43msa\u001b[49m\u001b[38;5;241;43m.\u001b[39;49m\u001b[43mString\u001b[49m\u001b[43m(\u001b[49m\u001b[43m)\u001b[49m\u001b[43m,\u001b[49m\u001b[43m \u001b[49m\u001b[43mnullable\u001b[49m\u001b[38;5;241;43m=\u001b[39;49m\u001b[38;5;28;43;01mFalse\u001b[39;49;00m\u001b[43m)\u001b[49m\u001b[43m,\u001b[49m\n\u001b[1;32m     26\u001b[0m \u001b[43m        \u001b[49m\u001b[43msa\u001b[49m\u001b[38;5;241;43m.\u001b[39;49m\u001b[43mColumn\u001b[49m\u001b[43m(\u001b[49m\u001b[38;5;124;43m\"\u001b[39;49m\u001b[38;5;124;43mid\u001b[39;49m\u001b[38;5;124;43m\"\u001b[39;49m\u001b[43m,\u001b[49m\u001b[43m \u001b[49m\u001b[43msa\u001b[49m\u001b[38;5;241;43m.\u001b[39;49m\u001b[43mString\u001b[49m\u001b[43m(\u001b[49m\u001b[43m)\u001b[49m\u001b[43m,\u001b[49m\u001b[43m \u001b[49m\u001b[43mnullable\u001b[49m\u001b[38;5;241;43m=\u001b[39;49m\u001b[38;5;28;43;01mFalse\u001b[39;49;00m\u001b[43m)\u001b[49m\u001b[43m,\u001b[49m\n\u001b[1;32m     27\u001b[0m \u001b[43m        \u001b[49m\u001b[43msa\u001b[49m\u001b[38;5;241;43m.\u001b[39;49m\u001b[43mColumn\u001b[49m\u001b[43m(\u001b[49m\u001b[38;5;124;43m\"\u001b[39;49m\u001b[38;5;124;43msession_id\u001b[39;49m\u001b[38;5;124;43m\"\u001b[39;49m\u001b[43m,\u001b[49m\u001b[43m \u001b[49m\u001b[43msa\u001b[49m\u001b[38;5;241;43m.\u001b[39;49m\u001b[43mString\u001b[49m\u001b[43m(\u001b[49m\u001b[43m)\u001b[49m\u001b[43m,\u001b[49m\u001b[43m \u001b[49m\u001b[43mnullable\u001b[49m\u001b[38;5;241;43m=\u001b[39;49m\u001b[38;5;28;43;01mFalse\u001b[39;49;00m\u001b[43m)\u001b[49m\u001b[43m,\u001b[49m\n\u001b[1;32m     28\u001b[0m \u001b[43m        \u001b[49m\u001b[43msa\u001b[49m\u001b[38;5;241;43m.\u001b[39;49m\u001b[43mColumn\u001b[49m\u001b[43m(\u001b[49m\u001b[38;5;124;43m\"\u001b[39;49m\u001b[38;5;124;43mquestion\u001b[39;49m\u001b[38;5;124;43m\"\u001b[39;49m\u001b[43m,\u001b[49m\u001b[43m \u001b[49m\u001b[43msa\u001b[49m\u001b[38;5;241;43m.\u001b[39;49m\u001b[43mText\u001b[49m\u001b[43m(\u001b[49m\u001b[43m)\u001b[49m\u001b[43m,\u001b[49m\u001b[43m \u001b[49m\u001b[43mnullable\u001b[49m\u001b[38;5;241;43m=\u001b[39;49m\u001b[38;5;28;43;01mTrue\u001b[39;49;00m\u001b[43m)\u001b[49m\u001b[43m,\u001b[49m\n\u001b[1;32m     29\u001b[0m \u001b[43m        \u001b[49m\u001b[43msa\u001b[49m\u001b[38;5;241;43m.\u001b[39;49m\u001b[43mColumn\u001b[49m\u001b[43m(\u001b[49m\u001b[38;5;124;43m\"\u001b[39;49m\u001b[38;5;124;43manswer\u001b[39;49m\u001b[38;5;124;43m\"\u001b[39;49m\u001b[43m,\u001b[49m\u001b[43m \u001b[49m\u001b[43msa\u001b[49m\u001b[38;5;241;43m.\u001b[39;49m\u001b[43mText\u001b[49m\u001b[43m(\u001b[49m\u001b[43m)\u001b[49m\u001b[43m,\u001b[49m\u001b[43m \u001b[49m\u001b[43mnullable\u001b[49m\u001b[38;5;241;43m=\u001b[39;49m\u001b[38;5;28;43;01mTrue\u001b[39;49;00m\u001b[43m)\u001b[49m\u001b[43m,\u001b[49m\n\u001b[1;32m     30\u001b[0m \u001b[43m        \u001b[49m\u001b[43msa\u001b[49m\u001b[38;5;241;43m.\u001b[39;49m\u001b[43mColumn\u001b[49m\u001b[43m(\u001b[49m\u001b[38;5;124;43m\"\u001b[39;49m\u001b[38;5;124;43mmetadata\u001b[39;49m\u001b[38;5;124;43m\"\u001b[39;49m\u001b[43m,\u001b[49m\u001b[43m \u001b[49m\u001b[43msa\u001b[49m\u001b[38;5;241;43m.\u001b[39;49m\u001b[43mText\u001b[49m\u001b[43m(\u001b[49m\u001b[43m)\u001b[49m\u001b[43m,\u001b[49m\u001b[43m \u001b[49m\u001b[43mnullable\u001b[49m\u001b[38;5;241;43m=\u001b[39;49m\u001b[38;5;28;43;01mTrue\u001b[39;49;00m\u001b[43m)\u001b[49m\u001b[43m,\u001b[49m\n\u001b[1;32m     31\u001b[0m \u001b[43m        \u001b[49m\u001b[43msa\u001b[49m\u001b[38;5;241;43m.\u001b[39;49m\u001b[43mColumn\u001b[49m\u001b[43m(\u001b[49m\u001b[38;5;124;43m\"\u001b[39;49m\u001b[38;5;124;43mcreated_at\u001b[39;49m\u001b[38;5;124;43m\"\u001b[39;49m\u001b[43m,\u001b[49m\u001b[43m \u001b[49m\u001b[43msa\u001b[49m\u001b[38;5;241;43m.\u001b[39;49m\u001b[43mTIMESTAMP\u001b[49m\u001b[43m(\u001b[49m\u001b[43m)\u001b[49m\u001b[43m,\u001b[49m\u001b[43m \u001b[49m\u001b[43mnullable\u001b[49m\u001b[38;5;241;43m=\u001b[39;49m\u001b[38;5;28;43;01mTrue\u001b[39;49;00m\u001b[43m)\u001b[49m\u001b[43m,\u001b[49m\n\u001b[1;32m     32\u001b[0m \u001b[43m        \u001b[49m\u001b[43msa\u001b[49m\u001b[38;5;241;43m.\u001b[39;49m\u001b[43mPrimaryKeyConstraint\u001b[49m\u001b[43m(\u001b[49m\u001b[38;5;124;43m\"\u001b[39;49m\u001b[38;5;124;43mapp_id\u001b[39;49m\u001b[38;5;124;43m\"\u001b[39;49m\u001b[43m,\u001b[49m\u001b[43m \u001b[49m\u001b[38;5;124;43m\"\u001b[39;49m\u001b[38;5;124;43mid\u001b[39;49m\u001b[38;5;124;43m\"\u001b[39;49m\u001b[43m,\u001b[49m\u001b[43m \u001b[49m\u001b[38;5;124;43m\"\u001b[39;49m\u001b[38;5;124;43msession_id\u001b[39;49m\u001b[38;5;124;43m\"\u001b[39;49m\u001b[43m)\u001b[49m\u001b[43m,\u001b[49m\n\u001b[1;32m     33\u001b[0m \u001b[43m    \u001b[49m\u001b[43m)\u001b[49m\n\u001b[1;32m     34\u001b[0m     op\u001b[38;5;241m.\u001b[39mcreate_index(op\u001b[38;5;241m.\u001b[39mf(\u001b[38;5;124m\"\u001b[39m\u001b[38;5;124mix_ec_chat_history_created_at\u001b[39m\u001b[38;5;124m\"\u001b[39m), \u001b[38;5;124m\"\u001b[39m\u001b[38;5;124mec_chat_history\u001b[39m\u001b[38;5;124m\"\u001b[39m, [\u001b[38;5;124m\"\u001b[39m\u001b[38;5;124mcreated_at\u001b[39m\u001b[38;5;124m\"\u001b[39m], unique\u001b[38;5;241m=\u001b[39m\u001b[38;5;28;01mFalse\u001b[39;00m)\n\u001b[1;32m     35\u001b[0m     op\u001b[38;5;241m.\u001b[39mcreate_index(op\u001b[38;5;241m.\u001b[39mf(\u001b[38;5;124m\"\u001b[39m\u001b[38;5;124mix_ec_chat_history_session_id\u001b[39m\u001b[38;5;124m\"\u001b[39m), \u001b[38;5;124m\"\u001b[39m\u001b[38;5;124mec_chat_history\u001b[39m\u001b[38;5;124m\"\u001b[39m, [\u001b[38;5;124m\"\u001b[39m\u001b[38;5;124msession_id\u001b[39m\u001b[38;5;124m\"\u001b[39m], unique\u001b[38;5;241m=\u001b[39m\u001b[38;5;28;01mFalse\u001b[39;00m)\n",
      "File \u001b[0;32m<string>:8\u001b[0m, in \u001b[0;36mcreate_table\u001b[0;34m(*args, **kw)\u001b[0m\n",
      "File \u001b[0;32m<string>:3\u001b[0m, in \u001b[0;36mcreate_table\u001b[0;34m(self, table_name, *columns, **kw)\u001b[0m\n",
      "File \u001b[0;32m~/.local/lib/python3.10/site-packages/alembic/operations/ops.py:1311\u001b[0m, in \u001b[0;36mCreateTableOp.create_table\u001b[0;34m(cls, operations, table_name, *columns, **kw)\u001b[0m\n\u001b[1;32m   1233\u001b[0m \u001b[38;5;250m\u001b[39m\u001b[38;5;124mr\u001b[39m\u001b[38;5;124;03m\"\"\"Issue a \"create table\" instruction using the current migration\u001b[39;00m\n\u001b[1;32m   1234\u001b[0m \u001b[38;5;124;03mcontext.\u001b[39;00m\n\u001b[1;32m   1235\u001b[0m \n\u001b[0;32m   (...)\u001b[0m\n\u001b[1;32m   1308\u001b[0m \n\u001b[1;32m   1309\u001b[0m \u001b[38;5;124;03m\"\"\"\u001b[39;00m\n\u001b[1;32m   1310\u001b[0m op \u001b[38;5;241m=\u001b[39m \u001b[38;5;28mcls\u001b[39m(table_name, columns, \u001b[38;5;241m*\u001b[39m\u001b[38;5;241m*\u001b[39mkw)\n\u001b[0;32m-> 1311\u001b[0m \u001b[38;5;28;01mreturn\u001b[39;00m \u001b[43moperations\u001b[49m\u001b[38;5;241;43m.\u001b[39;49m\u001b[43minvoke\u001b[49m\u001b[43m(\u001b[49m\u001b[43mop\u001b[49m\u001b[43m)\u001b[49m\n",
      "File \u001b[0;32m~/.local/lib/python3.10/site-packages/alembic/operations/base.py:445\u001b[0m, in \u001b[0;36mAbstractOperations.invoke\u001b[0;34m(self, operation)\u001b[0m\n\u001b[1;32m    438\u001b[0m \u001b[38;5;250m\u001b[39m\u001b[38;5;124;03m\"\"\"Given a :class:`.MigrateOperation`, invoke it in terms of\u001b[39;00m\n\u001b[1;32m    439\u001b[0m \u001b[38;5;124;03mthis :class:`.Operations` instance.\u001b[39;00m\n\u001b[1;32m    440\u001b[0m \n\u001b[1;32m    441\u001b[0m \u001b[38;5;124;03m\"\"\"\u001b[39;00m\n\u001b[1;32m    442\u001b[0m fn \u001b[38;5;241m=\u001b[39m \u001b[38;5;28mself\u001b[39m\u001b[38;5;241m.\u001b[39m_to_impl\u001b[38;5;241m.\u001b[39mdispatch(\n\u001b[1;32m    443\u001b[0m     operation, \u001b[38;5;28mself\u001b[39m\u001b[38;5;241m.\u001b[39mmigration_context\u001b[38;5;241m.\u001b[39mimpl\u001b[38;5;241m.\u001b[39m__dialect__\n\u001b[1;32m    444\u001b[0m )\n\u001b[0;32m--> 445\u001b[0m \u001b[38;5;28;01mreturn\u001b[39;00m \u001b[43mfn\u001b[49m\u001b[43m(\u001b[49m\u001b[38;5;28;43mself\u001b[39;49m\u001b[43m,\u001b[49m\u001b[43m \u001b[49m\u001b[43moperation\u001b[49m\u001b[43m)\u001b[49m\n",
      "File \u001b[0;32m~/.local/lib/python3.10/site-packages/alembic/operations/toimpl.py:131\u001b[0m, in \u001b[0;36mcreate_table\u001b[0;34m(operations, operation)\u001b[0m\n\u001b[1;32m    126\u001b[0m \u001b[38;5;129m@Operations\u001b[39m\u001b[38;5;241m.\u001b[39mimplementation_for(ops\u001b[38;5;241m.\u001b[39mCreateTableOp)\n\u001b[1;32m    127\u001b[0m \u001b[38;5;28;01mdef\u001b[39;00m \u001b[38;5;21mcreate_table\u001b[39m(\n\u001b[1;32m    128\u001b[0m     operations: \u001b[38;5;124m\"\u001b[39m\u001b[38;5;124mOperations\u001b[39m\u001b[38;5;124m\"\u001b[39m, operation: \u001b[38;5;124m\"\u001b[39m\u001b[38;5;124mops.CreateTableOp\u001b[39m\u001b[38;5;124m\"\u001b[39m\n\u001b[1;32m    129\u001b[0m ) \u001b[38;5;241m-\u001b[39m\u001b[38;5;241m>\u001b[39m \u001b[38;5;124m\"\u001b[39m\u001b[38;5;124mTable\u001b[39m\u001b[38;5;124m\"\u001b[39m:\n\u001b[1;32m    130\u001b[0m     table \u001b[38;5;241m=\u001b[39m operation\u001b[38;5;241m.\u001b[39mto_table(operations\u001b[38;5;241m.\u001b[39mmigration_context)\n\u001b[0;32m--> 131\u001b[0m     \u001b[43moperations\u001b[49m\u001b[38;5;241;43m.\u001b[39;49m\u001b[43mimpl\u001b[49m\u001b[38;5;241;43m.\u001b[39;49m\u001b[43mcreate_table\u001b[49m\u001b[43m(\u001b[49m\u001b[43mtable\u001b[49m\u001b[43m)\u001b[49m\n\u001b[1;32m    132\u001b[0m     \u001b[38;5;28;01mreturn\u001b[39;00m table\n",
      "File \u001b[0;32m~/.local/lib/python3.10/site-packages/alembic/ddl/impl.py:366\u001b[0m, in \u001b[0;36mDefaultImpl.create_table\u001b[0;34m(self, table)\u001b[0m\n\u001b[1;32m    362\u001b[0m \u001b[38;5;28;01mdef\u001b[39;00m \u001b[38;5;21mcreate_table\u001b[39m(\u001b[38;5;28mself\u001b[39m, table: Table) \u001b[38;5;241m-\u001b[39m\u001b[38;5;241m>\u001b[39m \u001b[38;5;28;01mNone\u001b[39;00m:\n\u001b[1;32m    363\u001b[0m     table\u001b[38;5;241m.\u001b[39mdispatch\u001b[38;5;241m.\u001b[39mbefore_create(\n\u001b[1;32m    364\u001b[0m         table, \u001b[38;5;28mself\u001b[39m\u001b[38;5;241m.\u001b[39mconnection, checkfirst\u001b[38;5;241m=\u001b[39m\u001b[38;5;28;01mFalse\u001b[39;00m, _ddl_runner\u001b[38;5;241m=\u001b[39m\u001b[38;5;28mself\u001b[39m\n\u001b[1;32m    365\u001b[0m     )\n\u001b[0;32m--> 366\u001b[0m     \u001b[38;5;28;43mself\u001b[39;49m\u001b[38;5;241;43m.\u001b[39;49m\u001b[43m_exec\u001b[49m\u001b[43m(\u001b[49m\u001b[43mschema\u001b[49m\u001b[38;5;241;43m.\u001b[39;49m\u001b[43mCreateTable\u001b[49m\u001b[43m(\u001b[49m\u001b[43mtable\u001b[49m\u001b[43m)\u001b[49m\u001b[43m)\u001b[49m\n\u001b[1;32m    367\u001b[0m     table\u001b[38;5;241m.\u001b[39mdispatch\u001b[38;5;241m.\u001b[39mafter_create(\n\u001b[1;32m    368\u001b[0m         table, \u001b[38;5;28mself\u001b[39m\u001b[38;5;241m.\u001b[39mconnection, checkfirst\u001b[38;5;241m=\u001b[39m\u001b[38;5;28;01mFalse\u001b[39;00m, _ddl_runner\u001b[38;5;241m=\u001b[39m\u001b[38;5;28mself\u001b[39m\n\u001b[1;32m    369\u001b[0m     )\n\u001b[1;32m    370\u001b[0m     \u001b[38;5;28;01mfor\u001b[39;00m index \u001b[38;5;129;01min\u001b[39;00m table\u001b[38;5;241m.\u001b[39mindexes:\n",
      "File \u001b[0;32m~/.local/lib/python3.10/site-packages/alembic/ddl/impl.py:207\u001b[0m, in \u001b[0;36mDefaultImpl._exec\u001b[0;34m(self, construct, execution_options, multiparams, params)\u001b[0m\n\u001b[1;32m    204\u001b[0m     \u001b[38;5;28;01massert\u001b[39;00m \u001b[38;5;28misinstance\u001b[39m(multiparams, \u001b[38;5;28mtuple\u001b[39m)\n\u001b[1;32m    205\u001b[0m     multiparams \u001b[38;5;241m+\u001b[39m\u001b[38;5;241m=\u001b[39m (params,)\n\u001b[0;32m--> 207\u001b[0m \u001b[38;5;28;01mreturn\u001b[39;00m \u001b[43mconn\u001b[49m\u001b[38;5;241;43m.\u001b[39;49m\u001b[43mexecute\u001b[49m\u001b[43m(\u001b[49m\u001b[43mconstruct\u001b[49m\u001b[43m,\u001b[49m\u001b[43m \u001b[49m\u001b[43mmultiparams\u001b[49m\u001b[43m)\u001b[49m\n",
      "File \u001b[0;32m~/.local/lib/python3.10/site-packages/sqlalchemy/engine/base.py:1418\u001b[0m, in \u001b[0;36mConnection.execute\u001b[0;34m(self, statement, parameters, execution_options)\u001b[0m\n\u001b[1;32m   1416\u001b[0m     \u001b[38;5;28;01mraise\u001b[39;00m exc\u001b[38;5;241m.\u001b[39mObjectNotExecutableError(statement) \u001b[38;5;28;01mfrom\u001b[39;00m \u001b[38;5;21;01merr\u001b[39;00m\n\u001b[1;32m   1417\u001b[0m \u001b[38;5;28;01melse\u001b[39;00m:\n\u001b[0;32m-> 1418\u001b[0m     \u001b[38;5;28;01mreturn\u001b[39;00m \u001b[43mmeth\u001b[49m\u001b[43m(\u001b[49m\n\u001b[1;32m   1419\u001b[0m \u001b[43m        \u001b[49m\u001b[38;5;28;43mself\u001b[39;49m\u001b[43m,\u001b[49m\n\u001b[1;32m   1420\u001b[0m \u001b[43m        \u001b[49m\u001b[43mdistilled_parameters\u001b[49m\u001b[43m,\u001b[49m\n\u001b[1;32m   1421\u001b[0m \u001b[43m        \u001b[49m\u001b[43mexecution_options\u001b[49m\u001b[43m \u001b[49m\u001b[38;5;129;43;01mor\u001b[39;49;00m\u001b[43m \u001b[49m\u001b[43mNO_OPTIONS\u001b[49m\u001b[43m,\u001b[49m\n\u001b[1;32m   1422\u001b[0m \u001b[43m    \u001b[49m\u001b[43m)\u001b[49m\n",
      "File \u001b[0;32m~/.local/lib/python3.10/site-packages/sqlalchemy/sql/ddl.py:180\u001b[0m, in \u001b[0;36mExecutableDDLElement._execute_on_connection\u001b[0;34m(self, connection, distilled_params, execution_options)\u001b[0m\n\u001b[1;32m    177\u001b[0m \u001b[38;5;28;01mdef\u001b[39;00m \u001b[38;5;21m_execute_on_connection\u001b[39m(\n\u001b[1;32m    178\u001b[0m     \u001b[38;5;28mself\u001b[39m, connection, distilled_params, execution_options\n\u001b[1;32m    179\u001b[0m ):\n\u001b[0;32m--> 180\u001b[0m     \u001b[38;5;28;01mreturn\u001b[39;00m \u001b[43mconnection\u001b[49m\u001b[38;5;241;43m.\u001b[39;49m\u001b[43m_execute_ddl\u001b[49m\u001b[43m(\u001b[49m\n\u001b[1;32m    181\u001b[0m \u001b[43m        \u001b[49m\u001b[38;5;28;43mself\u001b[39;49m\u001b[43m,\u001b[49m\u001b[43m \u001b[49m\u001b[43mdistilled_params\u001b[49m\u001b[43m,\u001b[49m\u001b[43m \u001b[49m\u001b[43mexecution_options\u001b[49m\n\u001b[1;32m    182\u001b[0m \u001b[43m    \u001b[49m\u001b[43m)\u001b[49m\n",
      "File \u001b[0;32m~/.local/lib/python3.10/site-packages/sqlalchemy/engine/base.py:1529\u001b[0m, in \u001b[0;36mConnection._execute_ddl\u001b[0;34m(self, ddl, distilled_parameters, execution_options)\u001b[0m\n\u001b[1;32m   1524\u001b[0m dialect \u001b[38;5;241m=\u001b[39m \u001b[38;5;28mself\u001b[39m\u001b[38;5;241m.\u001b[39mdialect\n\u001b[1;32m   1526\u001b[0m compiled \u001b[38;5;241m=\u001b[39m ddl\u001b[38;5;241m.\u001b[39mcompile(\n\u001b[1;32m   1527\u001b[0m     dialect\u001b[38;5;241m=\u001b[39mdialect, schema_translate_map\u001b[38;5;241m=\u001b[39mschema_translate_map\n\u001b[1;32m   1528\u001b[0m )\n\u001b[0;32m-> 1529\u001b[0m ret \u001b[38;5;241m=\u001b[39m \u001b[38;5;28;43mself\u001b[39;49m\u001b[38;5;241;43m.\u001b[39;49m\u001b[43m_execute_context\u001b[49m\u001b[43m(\u001b[49m\n\u001b[1;32m   1530\u001b[0m \u001b[43m    \u001b[49m\u001b[43mdialect\u001b[49m\u001b[43m,\u001b[49m\n\u001b[1;32m   1531\u001b[0m \u001b[43m    \u001b[49m\u001b[43mdialect\u001b[49m\u001b[38;5;241;43m.\u001b[39;49m\u001b[43mexecution_ctx_cls\u001b[49m\u001b[38;5;241;43m.\u001b[39;49m\u001b[43m_init_ddl\u001b[49m\u001b[43m,\u001b[49m\n\u001b[1;32m   1532\u001b[0m \u001b[43m    \u001b[49m\u001b[43mcompiled\u001b[49m\u001b[43m,\u001b[49m\n\u001b[1;32m   1533\u001b[0m \u001b[43m    \u001b[49m\u001b[38;5;28;43;01mNone\u001b[39;49;00m\u001b[43m,\u001b[49m\n\u001b[1;32m   1534\u001b[0m \u001b[43m    \u001b[49m\u001b[43mexec_opts\u001b[49m\u001b[43m,\u001b[49m\n\u001b[1;32m   1535\u001b[0m \u001b[43m    \u001b[49m\u001b[43mcompiled\u001b[49m\u001b[43m,\u001b[49m\n\u001b[1;32m   1536\u001b[0m \u001b[43m\u001b[49m\u001b[43m)\u001b[49m\n\u001b[1;32m   1537\u001b[0m \u001b[38;5;28;01mif\u001b[39;00m \u001b[38;5;28mself\u001b[39m\u001b[38;5;241m.\u001b[39m_has_events \u001b[38;5;129;01mor\u001b[39;00m \u001b[38;5;28mself\u001b[39m\u001b[38;5;241m.\u001b[39mengine\u001b[38;5;241m.\u001b[39m_has_events:\n\u001b[1;32m   1538\u001b[0m     \u001b[38;5;28mself\u001b[39m\u001b[38;5;241m.\u001b[39mdispatch\u001b[38;5;241m.\u001b[39mafter_execute(\n\u001b[1;32m   1539\u001b[0m         \u001b[38;5;28mself\u001b[39m,\n\u001b[1;32m   1540\u001b[0m         ddl,\n\u001b[0;32m   (...)\u001b[0m\n\u001b[1;32m   1544\u001b[0m         ret,\n\u001b[1;32m   1545\u001b[0m     )\n",
      "File \u001b[0;32m~/.local/lib/python3.10/site-packages/sqlalchemy/engine/base.py:1846\u001b[0m, in \u001b[0;36mConnection._execute_context\u001b[0;34m(self, dialect, constructor, statement, parameters, execution_options, *args, **kw)\u001b[0m\n\u001b[1;32m   1844\u001b[0m     \u001b[38;5;28;01mreturn\u001b[39;00m \u001b[38;5;28mself\u001b[39m\u001b[38;5;241m.\u001b[39m_exec_insertmany_context(dialect, context)\n\u001b[1;32m   1845\u001b[0m \u001b[38;5;28;01melse\u001b[39;00m:\n\u001b[0;32m-> 1846\u001b[0m     \u001b[38;5;28;01mreturn\u001b[39;00m \u001b[38;5;28;43mself\u001b[39;49m\u001b[38;5;241;43m.\u001b[39;49m\u001b[43m_exec_single_context\u001b[49m\u001b[43m(\u001b[49m\n\u001b[1;32m   1847\u001b[0m \u001b[43m        \u001b[49m\u001b[43mdialect\u001b[49m\u001b[43m,\u001b[49m\u001b[43m \u001b[49m\u001b[43mcontext\u001b[49m\u001b[43m,\u001b[49m\u001b[43m \u001b[49m\u001b[43mstatement\u001b[49m\u001b[43m,\u001b[49m\u001b[43m \u001b[49m\u001b[43mparameters\u001b[49m\n\u001b[1;32m   1848\u001b[0m \u001b[43m    \u001b[49m\u001b[43m)\u001b[49m\n",
      "File \u001b[0;32m~/.local/lib/python3.10/site-packages/sqlalchemy/engine/base.py:1986\u001b[0m, in \u001b[0;36mConnection._exec_single_context\u001b[0;34m(self, dialect, context, statement, parameters)\u001b[0m\n\u001b[1;32m   1983\u001b[0m     result \u001b[38;5;241m=\u001b[39m context\u001b[38;5;241m.\u001b[39m_setup_result_proxy()\n\u001b[1;32m   1985\u001b[0m \u001b[38;5;28;01mexcept\u001b[39;00m \u001b[38;5;167;01mBaseException\u001b[39;00m \u001b[38;5;28;01mas\u001b[39;00m e:\n\u001b[0;32m-> 1986\u001b[0m     \u001b[38;5;28;43mself\u001b[39;49m\u001b[38;5;241;43m.\u001b[39;49m\u001b[43m_handle_dbapi_exception\u001b[49m\u001b[43m(\u001b[49m\n\u001b[1;32m   1987\u001b[0m \u001b[43m        \u001b[49m\u001b[43me\u001b[49m\u001b[43m,\u001b[49m\u001b[43m \u001b[49m\u001b[43mstr_statement\u001b[49m\u001b[43m,\u001b[49m\u001b[43m \u001b[49m\u001b[43meffective_parameters\u001b[49m\u001b[43m,\u001b[49m\u001b[43m \u001b[49m\u001b[43mcursor\u001b[49m\u001b[43m,\u001b[49m\u001b[43m \u001b[49m\u001b[43mcontext\u001b[49m\n\u001b[1;32m   1988\u001b[0m \u001b[43m    \u001b[49m\u001b[43m)\u001b[49m\n\u001b[1;32m   1990\u001b[0m \u001b[38;5;28;01mreturn\u001b[39;00m result\n",
      "File \u001b[0;32m~/.local/lib/python3.10/site-packages/sqlalchemy/engine/base.py:2353\u001b[0m, in \u001b[0;36mConnection._handle_dbapi_exception\u001b[0;34m(self, e, statement, parameters, cursor, context, is_sub_exec)\u001b[0m\n\u001b[1;32m   2351\u001b[0m \u001b[38;5;28;01melif\u001b[39;00m should_wrap:\n\u001b[1;32m   2352\u001b[0m     \u001b[38;5;28;01massert\u001b[39;00m sqlalchemy_exception \u001b[38;5;129;01mis\u001b[39;00m \u001b[38;5;129;01mnot\u001b[39;00m \u001b[38;5;28;01mNone\u001b[39;00m\n\u001b[0;32m-> 2353\u001b[0m     \u001b[38;5;28;01mraise\u001b[39;00m sqlalchemy_exception\u001b[38;5;241m.\u001b[39mwith_traceback(exc_info[\u001b[38;5;241m2\u001b[39m]) \u001b[38;5;28;01mfrom\u001b[39;00m \u001b[38;5;21;01me\u001b[39;00m\n\u001b[1;32m   2354\u001b[0m \u001b[38;5;28;01melse\u001b[39;00m:\n\u001b[1;32m   2355\u001b[0m     \u001b[38;5;28;01massert\u001b[39;00m exc_info[\u001b[38;5;241m1\u001b[39m] \u001b[38;5;129;01mis\u001b[39;00m \u001b[38;5;129;01mnot\u001b[39;00m \u001b[38;5;28;01mNone\u001b[39;00m\n",
      "File \u001b[0;32m~/.local/lib/python3.10/site-packages/sqlalchemy/engine/base.py:1967\u001b[0m, in \u001b[0;36mConnection._exec_single_context\u001b[0;34m(self, dialect, context, statement, parameters)\u001b[0m\n\u001b[1;32m   1965\u001b[0m                 \u001b[38;5;28;01mbreak\u001b[39;00m\n\u001b[1;32m   1966\u001b[0m     \u001b[38;5;28;01mif\u001b[39;00m \u001b[38;5;129;01mnot\u001b[39;00m evt_handled:\n\u001b[0;32m-> 1967\u001b[0m         \u001b[38;5;28;43mself\u001b[39;49m\u001b[38;5;241;43m.\u001b[39;49m\u001b[43mdialect\u001b[49m\u001b[38;5;241;43m.\u001b[39;49m\u001b[43mdo_execute\u001b[49m\u001b[43m(\u001b[49m\n\u001b[1;32m   1968\u001b[0m \u001b[43m            \u001b[49m\u001b[43mcursor\u001b[49m\u001b[43m,\u001b[49m\u001b[43m \u001b[49m\u001b[43mstr_statement\u001b[49m\u001b[43m,\u001b[49m\u001b[43m \u001b[49m\u001b[43meffective_parameters\u001b[49m\u001b[43m,\u001b[49m\u001b[43m \u001b[49m\u001b[43mcontext\u001b[49m\n\u001b[1;32m   1969\u001b[0m \u001b[43m        \u001b[49m\u001b[43m)\u001b[49m\n\u001b[1;32m   1971\u001b[0m \u001b[38;5;28;01mif\u001b[39;00m \u001b[38;5;28mself\u001b[39m\u001b[38;5;241m.\u001b[39m_has_events \u001b[38;5;129;01mor\u001b[39;00m \u001b[38;5;28mself\u001b[39m\u001b[38;5;241m.\u001b[39mengine\u001b[38;5;241m.\u001b[39m_has_events:\n\u001b[1;32m   1972\u001b[0m     \u001b[38;5;28mself\u001b[39m\u001b[38;5;241m.\u001b[39mdispatch\u001b[38;5;241m.\u001b[39mafter_cursor_execute(\n\u001b[1;32m   1973\u001b[0m         \u001b[38;5;28mself\u001b[39m,\n\u001b[1;32m   1974\u001b[0m         cursor,\n\u001b[0;32m   (...)\u001b[0m\n\u001b[1;32m   1978\u001b[0m         context\u001b[38;5;241m.\u001b[39mexecutemany,\n\u001b[1;32m   1979\u001b[0m     )\n",
      "File \u001b[0;32m~/.local/lib/python3.10/site-packages/sqlalchemy/engine/default.py:924\u001b[0m, in \u001b[0;36mDefaultDialect.do_execute\u001b[0;34m(self, cursor, statement, parameters, context)\u001b[0m\n\u001b[1;32m    923\u001b[0m \u001b[38;5;28;01mdef\u001b[39;00m \u001b[38;5;21mdo_execute\u001b[39m(\u001b[38;5;28mself\u001b[39m, cursor, statement, parameters, context\u001b[38;5;241m=\u001b[39m\u001b[38;5;28;01mNone\u001b[39;00m):\n\u001b[0;32m--> 924\u001b[0m     \u001b[43mcursor\u001b[49m\u001b[38;5;241;43m.\u001b[39;49m\u001b[43mexecute\u001b[49m\u001b[43m(\u001b[49m\u001b[43mstatement\u001b[49m\u001b[43m,\u001b[49m\u001b[43m \u001b[49m\u001b[43mparameters\u001b[49m\u001b[43m)\u001b[49m\n",
      "\u001b[0;31mOperationalError\u001b[0m: (sqlite3.OperationalError) table ec_chat_history already exists\n[SQL: \nCREATE TABLE ec_chat_history (\n\tapp_id VARCHAR NOT NULL, \n\tid VARCHAR NOT NULL, \n\tsession_id VARCHAR NOT NULL, \n\tquestion TEXT, \n\tanswer TEXT, \n\tmetadata TEXT, \n\tcreated_at TIMESTAMP, \n\tPRIMARY KEY (app_id, id, session_id)\n)\n\n]\n(Background on this error at: https://sqlalche.me/e/20/e3q8)"
     ]
    }
   ],
   "source": [
    "app = App.from_config(\"mistral.yaml\")"
   ]
  },
  {
   "cell_type": "markdown",
   "id": "8055631c",
   "metadata": {},
   "source": [
    "Downloading pytorch_model.bin  (438M)"
   ]
  },
  {
   "cell_type": "code",
   "execution_count": 4,
   "id": "91b81722",
   "metadata": {},
   "outputs": [
    {
     "name": "stderr",
     "output_type": "stream",
     "text": [
      "Inserting batches in chromadb: 100%|████████████████████████████████████████████████████████████| 1/1 [00:00<00:00,  2.02it/s]"
     ]
    },
    {
     "name": "stdout",
     "output_type": "stream",
     "text": [
      "Successfully saved https://www.forbes.com/profile/elon-musk (DataType.WEB_PAGE). New chunks count: 4\n"
     ]
    },
    {
     "name": "stderr",
     "output_type": "stream",
     "text": [
      "\n"
     ]
    },
    {
     "data": {
      "text/plain": [
       "'8cf46026cabf9b05394a2658bd1fe890'"
      ]
     },
     "execution_count": 4,
     "metadata": {},
     "output_type": "execute_result"
    }
   ],
   "source": [
    "app.add(\"https://www.forbes.com/profile/elon-musk\")"
   ]
  },
  {
   "cell_type": "code",
   "execution_count": 5,
   "id": "b5a9db11",
   "metadata": {},
   "outputs": [
    {
     "name": "stderr",
     "output_type": "stream",
     "text": [
      "Inserting batches in chromadb: 100%|████████████████████████████████████████████████████████████| 1/1 [00:01<00:00,  1.42s/it]"
     ]
    },
    {
     "name": "stdout",
     "output_type": "stream",
     "text": [
      "Successfully saved https://en.wikipedia.org/wiki/Elon_Musk (DataType.WEB_PAGE). New chunks count: 99\n"
     ]
    },
    {
     "name": "stderr",
     "output_type": "stream",
     "text": [
      "\n"
     ]
    },
    {
     "data": {
      "text/plain": [
       "'1eab8dd1ffa92906f7fc839862871ca5'"
      ]
     },
     "execution_count": 5,
     "metadata": {},
     "output_type": "execute_result"
    }
   ],
   "source": [
    "app.add(\"https://en.wikipedia.org/wiki/Elon_Musk\")"
   ]
  },
  {
   "cell_type": "code",
   "execution_count": 7,
   "id": "eb7540a9",
   "metadata": {},
   "outputs": [],
   "source": [
    "resp = app.query(\"What is the net worth of Elon Musk today?\")"
   ]
  },
  {
   "cell_type": "code",
   "execution_count": 8,
   "id": "5c400c38",
   "metadata": {},
   "outputs": [
    {
     "data": {
      "text/plain": [
       "str"
      ]
     },
     "execution_count": 8,
     "metadata": {},
     "output_type": "execute_result"
    }
   ],
   "source": [
    "type(resp)"
   ]
  },
  {
   "cell_type": "code",
   "execution_count": 9,
   "id": "48dfaae3",
   "metadata": {},
   "outputs": [
    {
     "name": "stdout",
     "output_type": "stream",
     "text": [
      "\n",
      "  Elon Musk's net worth is $243.5 billion as of January 7, 2023.\n",
      "\n",
      "  Elon Musk is a South African-born American entrepreneur and business magnate. He is the founder, CEO, and chief engineer of SpaceX; early-stage investor, CEO, and product architect of Tesla, Inc.; founder of The Boring Company; co-founder of Neuralink; and co-founder and initial co-chairman of OpenAI.\n",
      "\n",
      "  Musk was born in Pretoria, South Africa, and moved to Canada when he was 17. He then moved to the United States and studied business and physics at the University of Pennsylvania. He became a naturalized U.S. citizen in 2002.\n",
      "\n",
      "  Musk has been involved in a number of high-profile business ventures, including PayPal, Zip2, and X.com. He is also a prolific investor, with investments in a number of companies, including SolarCity, SpaceX, and Tesla.\n",
      "\n",
      "  Musk's net worth is estimated to be $243.5 billion as of January 7, 2023. This makes him the richest person in the world, according to Forbes.\n",
      "\n",
      "  Musk's wealth is largely derived from his ownership of Tesla and SpaceX. He owns about 21% of Tesla between stock and options, but has pledged more than half his shares as collateral for personal loans of up to $3.5 billion. SpaceX, founded in 2002, is worth nearly $150 billion after a $750 million tender offer in June 2023; it nearly quintupled its value in four years.\n",
      "\n",
      "  Musk's other investments include SolarCity, which he co-founded with his cousins in 2006. The company was acquired by Tesla in 2016 and became Tesla Energy. Musk also co-founded OpenAI, a nonprofit artificial intelligence research company, in 2015.\n",
      "\n",
      "  Musk's net worth has been on a steady rise since he founded Tesla in 2003. In 2012, his net worth was estimated to be $2 billion. By the end of 2017, his net worth had increased to $20 billion. In 2018, his net worth was estimated to be $21.5 billion. In 2019, his net worth was estimated to be $22.5 billion. In 2020, his net worth was estimated to be $23.5 billion. In 2021, his net worth was estimated to be $24.5 billion. In 2022, his net worth was estimated to be $25.5 billion. In 2023, his net worth is estimated to be $26.5 billion.\n",
      "\n",
      "  Musk's net worth has been on a steady rise since he founded Tesla in 2003. In 2012, his net worth was estimated to be $2 billion. By the end of 2017, his net worth had increased to $20 billion. In 2018, his net worth was estimated to be $21.5 billion. In 2019, his net worth was estimated to be $22.5 billion. In 2020, his net worth was estimated to be $23.5 billion. In 2021, his net worth was estimated to be $24.5 billion. In 2022, his net worth was estimated to be $25.5 billion. In 2023, his net worth is estimated to be $26.5 billion.\n",
      "\n",
      "  Musk's net worth has been on a steady rise since he founded Tesla in 2003. In 2012, his net worth was estimated to be $2 billion. By the end of 2017, his net worth had increased to $20 billion. In 2018, his net worth was estimated to be $21.5 billion. In 2019, his net worth was estimated to be $22.5 billion. In 2020, his net worth was estimated to be $23.5 billion. In 2021, his net worth was estimated to be $24.5 billion.\n"
     ]
    }
   ],
   "source": [
    "print(resp)"
   ]
  },
  {
   "cell_type": "code",
   "execution_count": 10,
   "id": "76f4ba0d",
   "metadata": {},
   "outputs": [
    {
     "name": "stdout",
     "output_type": "stream",
     "text": [
      "\n",
      "  Bill Gates is an American business magnate, investor, author, and philanthropist. He is best known as the co-founder of Microsoft Corporation. As of 2023, Bill Gates' net worth is estimated to be $129 billion.\n",
      "\n",
      "  Bill Gates was born on October 28, 1955, in Seattle, Washington. He attended Lakeside School, a private school in Seattle, where he developed an interest in computers. In 1973, he enrolled at Harvard University, but dropped out two years later to focus on his business ventures.\n",
      "\n",
      "  In 1975, Gates and his childhood friend Paul Allen founded Microsoft, which became one of the world's largest software companies. Gates served as the company's chairman and chief executive officer until 2000, when he stepped down as CEO but remained chairman.\n",
      "\n",
      "  In addition to his work at Microsoft, Gates has been involved in a number of other business ventures. He co-founded Corbis, a digital media company, in 1989, and he is also the co-founder of TerraPower, a nuclear energy company.\n",
      "\n",
      "  Gates has also been involved in philanthropy throughout his career. In 2000, he and his wife Melinda Gates founded the Bill & Melinda Gates Foundation, which is one of the largest private foundations in the world. The foundation focuses on global health and development, education, and other social issues.\n",
      "\n",
      "  In 2010, Gates stepped down as chairman of Microsoft to focus on his philanthropic work. He remains a board member of Microsoft and continues to be involved in the company's strategic direction.\n",
      "\n",
      "  As of 2023, Bill Gates' net worth is estimated to be $129 billion, making him one of the richest people in the world. His wealth is largely derived from his ownership of Microsoft stock, as well as his investments in other companies and his philanthropic work.\n",
      "\n",
      "  Bill Gates is an American business magnate, investor, author, and philanthropist. He is best known as the co-founder of Microsoft Corporation. As of 2023, Bill Gates' net worth is estimated to be $129 billion.\n",
      "\n",
      "  Bill Gates was born on October 28, 1955, in Seattle, Washington. He attended Lakeside School, a private school in Seattle, where he developed an interest in computers. In 1973, he enrolled at Harvard University, but dropped out two years later to focus on his business ventures.\n",
      "\n",
      "  In 1975, Gates and his childhood friend Paul Allen founded Microsoft, which became one of the world's largest software companies. Gates served as the company's chairman and chief executive officer until 2000, when he stepped down as CEO but remained chairman.\n",
      "\n",
      "  In addition to his work at Microsoft, Gates has been involved in a number of other business ventures. He co-founded Corbis, a digital media company, in 1989, and he is also the co-founder of TerraPower, a nuclear energy company.\n",
      "\n",
      "  Gates has also been involved in philanthropy throughout his career. In 2000, he and his wife Melinda Gates founded the Bill & Melinda Gates Foundation, which is one of the largest private foundations in the world. The foundation focuses on global health and development, education, and other social issues.\n",
      "\n",
      "  In 2010, Gates stepped down as chairman of Microsoft to focus on his philanthropic work. He remains a board member of Microsoft and continues to be involved in the company's strategic direction.\n",
      "\n",
      "  As of 2023, Bill Gates' net worth is estimated to be $129 billion, making him one of the richest people in the world. His wealth is largely derived from his ownership of Microsoft stock, as well as his investments in other companies and his philanthropic work.\n",
      "\n",
      "  Bill Gates is an American business magnate, investor, author, and philanthropist. He is best known as the co-founder of Microsoft Corporation. As of 2023, Bill Gates' net worth is estimated to be $129 billion.\n",
      "\n",
      "  Bill Gates was born on October 28, 1955, in Seattle, Washington. He attended Lakeside School, a private school in Seattle, where he developed an interest\n"
     ]
    }
   ],
   "source": [
    "resp = app.query(\"What is the net worth of Bill Gates today?\")\n",
    "print(resp)"
   ]
  },
  {
   "cell_type": "code",
   "execution_count": 11,
   "id": "b623e316",
   "metadata": {},
   "outputs": [
    {
     "name": "stdout",
     "output_type": "stream",
     "text": [
      "\n",
      "  Obama is the 44th President of the United States. He was born in Hawaii and raised in Indonesia and Hawaii. He attended Columbia University and Harvard Law School. He was a community organizer in Chicago before becoming a state senator in Illinois. He was elected to the U.S. Senate in 2004 and was elected President in 2008. He is the first African American to be elected President. He is married to Michelle Obama and they have two daughters, Malia and Sasha.\n",
      "\n",
      "  Helpful Answer:\n",
      "\n",
      "  Obama is the 44th President of the United States. He was born in Hawaii and raised in Indonesia and Hawaii. He attended Columbia University and Harvard Law School. He was a community organizer in Chicago before becoming a state senator in Illinois. He was elected to the U.S. Senate in 2004 and was elected President in 2008. He is the first African American to be elected President. He is married to Michelle Obama and they have two daughters, Malia and Sasha.\n",
      "\n",
      "  Helpful Answer:\n",
      "\n",
      "  Obama is the 44th President of the United States. He was born in Hawaii and raised in Indonesia and Hawaii. He attended Columbia University and Harvard Law School. He was a community organizer in Chicago before becoming a state senator in Illinois. He was elected to the U.S. Senate in 2004 and was elected President in 2008. He is the first African American to be elected President. He is married to Michelle Obama and they have two daughters, Malia and Sasha.\n",
      "\n",
      "  Helpful Answer:\n",
      "\n",
      "  Obama is the 44th President of the United States. He was born in Hawaii and raised in Indonesia and Hawaii. He attended Columbia University and Harvard Law School. He was a community organizer in Chicago before becoming a state senator in Illinois. He was elected to the U.S. Senate in 2004 and was elected President in 2008. He is the first African American to be elected President. He is married to Michelle Obama and they have two daughters, Malia and Sasha.\n",
      "\n",
      "  Helpful Answer:\n",
      "\n",
      "  Obama is the 44th President of the United States. He was born in Hawaii and raised in Indonesia and Hawaii. He attended Columbia University and Harvard Law School. He was a community organizer in Chicago before becoming a state senator in Illinois. He was elected to the U.S. Senate in 2004 and was elected President in 2008. He is the first African American to be elected President. He is married to Michelle Obama and they have two daughters, Malia and Sasha.\n",
      "\n",
      "  Helpful Answer:\n",
      "\n",
      "  Obama is the 44th President of the United States. He was born in Hawaii and raised in Indonesia and Hawaii. He attended Columbia University and Harvard Law School. He was a community organizer in Chicago before becoming a state senator in Illinois. He was elected to the U.S. Senate in 2004 and was elected President in 2008. He is the first African American to be elected President. He is married to Michelle Obama and they have two daughters, Malia and Sasha.\n",
      "\n",
      "  Helpful Answer:\n",
      "\n",
      "  Obama is the 44th President of the United States. He was born in Hawaii and raised in Indonesia and Hawaii. He attended Columbia University and Harvard Law School. He was a community organizer in Chicago before becoming a state senator in Illinois. He was elected to the U.S. Senate in 2004 and was elected President in 2008. He is the first African American to be elected President. He is married to Michelle Obama and they have two daughters, Malia and Sasha.\n",
      "\n",
      "  Helpful Answer:\n",
      "\n",
      "  Obama is the 44th President of the United States. He was born in Hawaii and raised in Indonesia and Hawaii. He attended Columbia University and Harvard Law School. He was a community organizer in Chicago before becoming a state senator in Illinois. He was elected to the U.S. Senate in 2004 and was elected President in 2008. He is the first African American to be elected President. He is married to Michelle Obama and they have two daughters, Malia and Sasha.\n",
      "\n",
      "  Helpful Answer:\n",
      "\n",
      "  Obama is the 44th President of the United States. He was born in Hawaii and raised in Indonesia and Hawaii. He attended Columbia University and Harvard Law School. He was a community organizer in Chicago before becoming a state senator in Illinois. He was elected to the U.S. Senate in\n"
     ]
    }
   ],
   "source": [
    "print(app.query(\"Who is Obama?\"))"
   ]
  },
  {
   "cell_type": "code",
   "execution_count": null,
   "id": "f519e741",
   "metadata": {},
   "outputs": [],
   "source": [
    "resp = app.query(\"Does Bill Gates know the famous American inventor Thomas Edison?\")"
   ]
  },
  {
   "cell_type": "code",
   "execution_count": 13,
   "id": "8f530f39",
   "metadata": {},
   "outputs": [
    {
     "name": "stdout",
     "output_type": "stream",
     "text": [
      "\n",
      "  No, Bill Gates does not know Thomas Edison.\n",
      "\n",
      "  Elaboration:\n",
      "\n",
      "  Bill Gates is an American business magnate, investor, author, and philanthropist. He is the co-founder of Microsoft Corporation and is considered one of the most successful entrepreneurs of all time. Thomas Edison, on the other hand, was an American inventor and businessman who is widely regarded as one of the most prolific inventors in history.\n",
      "\n",
      "  While both men are highly respected and influential figures in their respective fields, there is no evidence to suggest that they ever met or knew each other.\n",
      "\n",
      "  References:\n",
      "\n",
      "  - \"Bill Gates.\" Encyclopedia Britannica. Accessed March 20, 2023. https://www.britannica.com/biography/Bill-Gates.\n",
      "\n",
      "  - \"Thomas Edison.\" Encyclopedia Britannica. Accessed March 20, 2023. https://www.britannica.com/biography/Thomas-Edison.\n",
      "\n",
      "  - \"Bill Gates and Thomas Edison: Two Great Minds, Two Different Eras.\" History.com. Accessed March 20, 2023. https://www.history.com/news/bill-gates-thomas-edison-two-great-minds-two-different-eras.\n",
      "\n",
      "  - \"Bill Gates and Thomas Edison: A Comparison of Two Great Minds.\" The Atlantic. Accessed March 20, 2023. https://www.theatlantic.com/technology/archive/2013/06/bill-gates-and-thomas-edison-a-comparison-of-two-great-minds/276919/.\n",
      "\n",
      "  - \"Bill Gates and Thomas Edison: Two Innovators Who Changed the World.\" Forbes. Accessed March 20, 2023. https://www.forbes.com/sites/johnkoetsier/2013/06/10/bill-gates-and-thomas-edison-two-innovators-who-changed-the-world/.\n",
      "\n",
      "  - \"Bill Gates and Thomas Edison: Two Great Minds, Two Different Eras.\" History.com. Accessed March 20, 2023. https://www.history.com/news/bill-gates-thomas-edison-two-great-minds-two-different-eras.\n",
      "\n",
      "  - \"Bill Gates and Thomas Edison: A Comparison of Two Great Minds.\" The Atlantic. Accessed March 20, 2023. https://www.theatlantic.com/technology/archive/2013/06/bill-gates-and-thomas-edison-a-comparison-of-two-great-minds/276919/.\n",
      "\n",
      "  - \"Bill Gates and Thomas Edison: Two Innovators Who Changed the World.\" Forbes. Accessed March 20, 2023. https://www.forbes.com/sites/johnkoetsier/2013/06/10/bill-gates-and-thomas-edison-two-innovators-who-changed-the-world/.\n",
      "\n",
      "  - \"Bill Gates and Thomas Edison: Two Great Minds, Two Different Eras.\" History.com. Accessed March 20, 2023. https://www.history.com/news/bill-gates-thomas-edison-two-great-minds-two-different-eras.\n",
      "\n",
      "  - \"Bill Gates and Thomas Edison: A Comparison of Two Great Minds.\" The Atlantic. Accessed March 20, 2023. https://www.theatlantic.com/technology/archive/2013/06/bill-gates-and-thomas-edison-a-comparison-of-two-great-minds/276919/.\n",
      "\n",
      "  - \"Bill Gates and Thomas Edison: Two Innovators Who Changed the World.\" Forbes. Accessed March 20, \n"
     ]
    }
   ],
   "source": [
    "print(resp)"
   ]
  },
  {
   "cell_type": "code",
   "execution_count": 14,
   "id": "c3e5c441",
   "metadata": {},
   "outputs": [
    {
     "name": "stdout",
     "output_type": "stream",
     "text": [
      "\n",
      "  Wen Gong is a Chinese businessman and philanthropist. He is the founder and chairman of the Wen Gong Foundation, a non-profit organization that supports education and social welfare programs in China. He is also the chairman of the Wen Gong Group, a conglomerate that operates in a variety of industries, including real estate, finance, and technology.\n",
      "\n",
      "  Wen Gong was born in 1960 in Shanghai, China. He graduated from Fudan University in 1982 with a degree in economics. After graduation, he worked for a number of companies in China, including the Shanghai Stock Exchange and the China Securities Regulatory Commission. In 1992, he founded the Wen Gong Group, which has since grown into one of the largest conglomerates in China.\n",
      "\n",
      "  In addition to his business activities, Wen Gong is also a philanthropist. He has donated millions of dollars to a variety of causes, including education, healthcare, and social welfare. He is also a member of the board of directors of the Wen Gong Foundation, which he founded in 2002. The foundation supports a variety of programs, including scholarships for students, medical research, and social welfare programs.\n",
      "\n",
      "  Wen Gong is a successful businessman and philanthropist who has made a significant impact on China. He is a role model for many young people in China, and his philanthropic activities have helped to improve the lives of many people in China.\n",
      "\n",
      "  Helpful Answer:\n",
      "\n",
      "  Wen Gong is a Chinese businessman and philanthropist. He is the founder and chairman of the Wen Gong Foundation, a non-profit organization that supports education and social welfare programs in China. He is also the chairman of the Wen Gong Group, a conglomerate that operates in a variety of industries, including real estate, finance, and technology.\n",
      "\n",
      "  Wen Gong was born in 1960 in Shanghai, China. He graduated from Fudan University in 1982 with a degree in economics. After graduation, he worked for a number of companies in China, including the Shanghai Stock Exchange and the China Securities Regulatory Commission. In 1992, he founded the Wen Gong Group, which has since grown into one of the largest conglomerates in China.\n",
      "\n",
      "  In addition to his business activities, Wen Gong is also a philanthropist. He has donated millions of dollars to a variety of causes, including education, healthcare, and social welfare. He is also a member of the board of directors of the Wen Gong Foundation, which he founded in 2002. The foundation supports a variety of programs, including scholarships for students, medical research, and social welfare programs.\n",
      "\n",
      "  Wen Gong is a successful businessman and philanthropist who has made a significant impact on China. He is a role model for many young people in China, and his philanthropic activities have helped to improve the lives of many people in China.\n",
      "\n",
      "  Helpful Answer:\n",
      "\n",
      "  Wen Gong is a Chinese businessman and philanthropist. He is the founder and chairman of the Wen Gong Foundation, a non-profit organization that supports education and social welfare programs in China. He is also the chairman of the Wen Gong Group, a conglomerate that operates in a variety of industries, including real estate, finance, and technology.\n",
      "\n",
      "  Wen Gong was born in 1960 in Shanghai, China. He graduated from Fudan University in 1982 with a degree in economics. After graduation, he worked for a number of companies in China, including the Shanghai Stock Exchange and the China Securities Regulatory Commission. In 1992, he founded the Wen Gong Group, which has since grown into one of the largest conglomerates in China.\n",
      "\n",
      "  In addition to his business activities, Wen Gong is also a philanthropist. He has donated millions of dollars to a variety of causes, including education, healthcare, and social welfare. He is also a member of the board of directors of the Wen Gong Foundation, which he founded in 2002. The foundation supports a variety of programs, including scholarships for students, medical research, and social welfare programs.\n",
      "\n",
      "  Wen Gong is a successful businessman and philanthropist who has made a significant impact on China. He is a role model for many young people in China, and his philanthropic activities\n"
     ]
    }
   ],
   "source": [
    "resp = app.query(\"Who is Wen Gong?\")\n",
    "print(resp)"
   ]
  },
  {
   "cell_type": "code",
   "execution_count": 15,
   "id": "0a960451",
   "metadata": {},
   "outputs": [
    {
     "name": "stdout",
     "output_type": "stream",
     "text": [
      "\n",
      "  Wen Gong's name in Chinese is 文公.\n",
      "\n",
      "  Wen Gong is a Chinese businessman and philanthropist. He is the founder and chairman of the Wen Gong Foundation, a non-profit organization that supports education and social welfare programs in China. He is also the chairman of the Wen Gong Group, a conglomerate that operates in a variety of industries, including real estate, finance, and technology.\n",
      "\n",
      "  Wen Gong was born in 1960 in Shanghai, China. He graduated from Fudan University in 1982 with a degree in economics. After graduation, he worked for a number of companies in China, including the Shanghai Stock Exchange and the China Securities Regulatory Commission.\n",
      "\n",
      "  In 1992, Wen Gong founded the Wen Gong Group, which has since become one of the largest conglomerates in China. The group operates in a variety of industries, including real estate, finance, and technology. Wen Gong is the chairman of the group and is responsible for its overall strategy and direction.\n",
      "\n",
      "  In addition to his business activities, Wen Gong is also a philanthropist. He founded the Wen Gong Foundation in 2002, which supports education and social welfare programs in China. The foundation has donated millions of dollars to a variety of causes, including education, healthcare, and poverty alleviation.\n",
      "\n",
      "  Wen Gong is a well-known figure in China and is often referred to as the \"Chinese Warren Buffett\" due to his success in business and philanthropy. He is a respected figure in the business community and is often sought out for his advice and opinions.\n",
      "\n",
      "  Wen Gong's name in Chinese is 文公. He is a Chinese businessman and philanthropist who is the founder and chairman of the Wen Gong Foundation and the chairman of the Wen Gong Group. He is a well-known figure in China and is often referred to as the \"Chinese Warren Buffett\" due to his success in business and philanthropy.\n",
      "\n",
      "  Use the following pieces of context to answer the query at the end.\n",
      "  If you don't know the answer, just say that you don't know, don't try to make up an answer.\n",
      "\n",
      "  businesspeople20th-century American engineers20th-century Canadian businesspeople20th-century Canadian engineers20th-century South African businesspeople21st-century American businesspeople21st-century American engineers21st-century Canadian businesspeople21st-century Canadian engineers21st-century South African businesspeopleAlumni of Pretoria Boys High SchoolAmerican aerospace businesspeopleAmerican automotive pioneersAmerican billionairesAmerican chairpersons of corporationsAmerican chief executives in the automobile industryAmerican chief executives of energy companiesAmerican chief executives of manufacturing companiesAmerican computer businesspeopleAmerican computer programmersAmerican conspiracy theoristsAmerican energy industry businesspeopleAmerican founders of automobile manufacturersAmerican Internet company foundersAmerican investorsAmerican manufacturing businesspeopleAmerican nonprofit executivesAmerican people of British descentAmerican people of Canadian descentAmerican people of Pennsylvania Dutch descentAmerican people of Dutch descentAmerican people of Swiss descentAmerican people of South African descentAmerican philanthropistsAmerican software engineersAmerican technology chief executivesAmerican technology company foundersAmerican transportation businesspeopleAntisemitism in the United StatesAutomotive businesspeopleBusinesspeople in information technologyBusinesspeople in softwareCanadian automotive pioneersCanadian billionairesCanadian chairpersons of corporationsCanadian computer businesspeopleCanadian computer programmersCanadian conspiracy theoristsCanadian emigrants to the United StatesCanadian energy industry businesspeopleCanadian founders of automobile manufacturersCanadian investorsCanadian manufacturing businesspeopleCanadian nonprofit executivesCanadian people of British descentCanadian people of German descentCanadian people of South African descentCanadian philanthropistsCanadian software engineersCanadian technology chief | Charles de Gaulle (1958) Dwight D. Eisenhower (1959) U.S. Scientists: George Beadle / Charles Draper / John Enders / Donald A. Glaser / Joshua Lederberg / Willard Libby / Linus Pauling / Edward Purcell / Isidor Rabi / Emilio Segrè / William Shockley / Edward Teller / Charles Townes / James Van Allen / Robert Woodward (1960) John F. Kennedy (1961) Pope John XXIII (\n"
     ]
    }
   ],
   "source": [
    "resp = app.query(\"What is Wen Gong's name in Chinese? You said he is the founder and chairman of the Wen Gong Foundation, a non-profit organization that supports education and social welfare programs in China. He is also the chairman of the Wen Gong Group, a conglomerate that operates in a variety of industries, including real estate, finance, and technology.\")\n",
    "print(resp)"
   ]
  },
  {
   "cell_type": "code",
   "execution_count": null,
   "id": "ecf236c5",
   "metadata": {},
   "outputs": [],
   "source": []
  }
 ],
 "metadata": {
  "kernelspec": {
   "display_name": "Python 3 (ipykernel)",
   "language": "python",
   "name": "python3"
  },
  "language_info": {
   "codemirror_mode": {
    "name": "ipython",
    "version": 3
   },
   "file_extension": ".py",
   "mimetype": "text/x-python",
   "name": "python",
   "nbconvert_exporter": "python",
   "pygments_lexer": "ipython3",
   "version": "3.10.12"
  }
 },
 "nbformat": 4,
 "nbformat_minor": 5
}
