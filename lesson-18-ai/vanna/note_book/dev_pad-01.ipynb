{
 "cells": [
  {
   "cell_type": "code",
   "execution_count": 2,
   "id": "6feb6fc9-b672-410d-8e50-add72badff94",
   "metadata": {},
   "outputs": [],
   "source": [
    "def fibonacci_sequence(max_num):\n",
    "    # Initialize the first two Fibonacci numbers\n",
    "    fib_seq = [0, 1]\n",
    "    \n",
    "    # Generate Fibonacci numbers until the last number is less than or equal to max_num\n",
    "    while True:\n",
    "        next_fib = fib_seq[-1] + fib_seq[-2]\n",
    "        if next_fib > max_num:\n",
    "            break\n",
    "        fib_seq.append(next_fib)\n",
    "    \n",
    "    return fib_seq"
   ]
  },
  {
   "cell_type": "code",
   "execution_count": 4,
   "id": "468daf11-13fe-4646-839c-d193cc0111e1",
   "metadata": {},
   "outputs": [
    {
     "name": "stdout",
     "output_type": "stream",
     "text": [
      "Fibonacci sequence up to 500: [0, 1, 1, 2, 3, 5, 8, 13, 21, 34, 55, 89, 144, 233, 377]\n"
     ]
    }
   ],
   "source": [
    "# Example usage:\n",
    "max_number = 500\n",
    "fib_nums = fibonacci_sequence(max_number)\n",
    "print(f\"Fibonacci sequence up to {max_number}: {fib_nums}\")"
   ]
  },
  {
   "cell_type": "code",
   "execution_count": 7,
   "id": "6ca3ca12-4319-4575-8171-25ef2989613a",
   "metadata": {},
   "outputs": [
    {
     "name": "stdout",
     "output_type": "stream",
     "text": [
      "{'0': '', '1': '', '2': '', '3': '', '5': '', '8': '', '13': '', '21': '', '34': '', '55': '', '89': '', '144': '', '233': '', '377': ''}\n"
     ]
    }
   ],
   "source": [
    "print({str(i):\"\" for i in fib_nums})"
   ]
  },
  {
   "cell_type": "markdown",
   "id": "cffdb672-2e60-47ee-847e-bc76d78cfaed",
   "metadata": {},
   "source": [
    "## Fibonacci sequence as the organizing principle for Chinese characters"
   ]
  },
  {
   "cell_type": "raw",
   "id": "526eb719-4bda-400a-b847-1355df050467",
   "metadata": {},
   "source": [
    "{\n",
    "'0': '', \n",
    "'1': 'qi', \n",
    "'2': 'yin-yang, sun-moon', \n",
    "'3': 'heaven-earth-man', \n",
    "'5': '5-elements', \n",
    "'8': '8-directions', \n",
    "'13': '12-animals', \n",
    "'21': '21-numbers and unit-of-measures', \n",
    "'34': '34-human bodies', \n",
    "'55': '', \n",
    "'89': '', \n",
    "'144': '', \n",
    "'233': '', \n",
    "'377': ''\n",
    "}"
   ]
  },
  {
   "cell_type": "code",
   "execution_count": null,
   "id": "269d36d8-ec32-482f-aba8-b02fc0455e8b",
   "metadata": {},
   "outputs": [],
   "source": []
  }
 ],
 "metadata": {
  "kernelspec": {
   "display_name": "Python 3 (ipykernel)",
   "language": "python",
   "name": "python3"
  },
  "language_info": {
   "codemirror_mode": {
    "name": "ipython",
    "version": 3
   },
   "file_extension": ".py",
   "mimetype": "text/x-python",
   "name": "python",
   "nbconvert_exporter": "python",
   "pygments_lexer": "ipython3",
   "version": "3.11.9"
  }
 },
 "nbformat": 4,
 "nbformat_minor": 5
}
