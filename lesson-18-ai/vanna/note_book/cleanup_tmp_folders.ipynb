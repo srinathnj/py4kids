{
 "cells": [
  {
   "cell_type": "code",
   "execution_count": 1,
   "id": "a7399aca-fbd7-4024-9b80-f1040b60bbab",
   "metadata": {},
   "outputs": [
    {
     "name": "stdout",
     "output_type": "stream",
     "text": [
      "/home/papagame/projects/wgong/py4kids/lesson-18-ai/vanna/note_book\n"
     ]
    }
   ],
   "source": [
    "!pwd"
   ]
  },
  {
   "cell_type": "code",
   "execution_count": 37,
   "id": "5cac7eb8-b0c9-4853-a0dd-f224b946f723",
   "metadata": {},
   "outputs": [
    {
     "name": "stdout",
     "output_type": "stream",
     "text": [
      "Removing directory: ./.ipynb_checkpoints\n"
     ]
    }
   ],
   "source": [
    "import os\n",
    "import re\n",
    "\n",
    "def remove_folders_by_pattern(start_dir, pattern=\"[a-z0-9]{8}-[a-z0-9]{4}-[a-z0-9]{4}-[a-z0-9]{4}-[a-z0-9]{12}\", rm_flag=False):\n",
    "  \"\"\"\n",
    "  Walks a folder structure starting from 'start_dir' and removes folders \n",
    "  whose names match the provided 'pattern' (regular expression).\n",
    "\n",
    "  Args:\n",
    "    start_dir: The directory path to start walking from.\n",
    "    pattern: A regular expression string to match folder names.\n",
    "  \"\"\"\n",
    "  pattern_regex = re.compile(pattern)\n",
    "  for dirpath, dirnames, filenames in os.walk(start_dir):\n",
    "    for dirname in dirnames:\n",
    "      if pattern_regex.match(dirname):\n",
    "        full_path = os.path.join(dirpath, dirname)\n",
    "        # Print the folder to be removed for confirmation (optional)\n",
    "        print(f\"Removing directory: {full_path}\")\n",
    "        # Uncomment the following line to actually remove the folder\n",
    "        if rm_flag:\n",
    "            # os.rmdir(full_path)\n",
    "            try:\n",
    "                remove_folder_tree(full_path)\n",
    "            except OSError as e:\n",
    "                print(f\"Error deleting {full_path}: {e}\")\n",
    "\n",
    "def remove_folder_tree(path):\n",
    "  \"\"\"\n",
    "  Recursively removes a folder and its entire contents.\n",
    "\n",
    "  Args:\n",
    "    path: The directory path to remove.\n",
    "\n",
    "  **Warning:** This function permanently deletes files and folders. \n",
    "             Use with caution and ensure you have backups.\n",
    "  \"\"\"\n",
    "  if os.path.isfile(path):\n",
    "    os.remove(path)  # Remove a file if it's the target\n",
    "  elif os.path.isdir(path):\n",
    "    for item in os.listdir(path):\n",
    "      itempath = os.path.join(path, item)\n",
    "      remove_folder_tree(itempath)  # Recursive call\n",
    "    os.rmdir(path)  # Remove the empty directory after subcontents are gone\n",
    "\n",
    "if __name__ == \"__main__\":\n",
    "    # clean up tmp folder like \"820fb7ca-dc6f-40d6-8657-268ed85b929f\"\n",
    "    remove_folders_by_pattern(\".\", rm_flag=True)\n",
    "\n",
    "    # clean up tmp jupyter notebook folder\n",
    "    pattern = \"\\.ipynb_checkpoints\"\n",
    "    remove_folders_by_pattern(\".\", pattern=pattern, rm_flag=True)\n"
   ]
  },
  {
   "cell_type": "raw",
   "id": "5ba78dc5-7b3e-4105-b47b-e15a499c138c",
   "metadata": {},
   "source": [
    "dirname = \"820fb7ca-dc6f-40d6-8657-268ed85b929f\"\n",
    "lst = []\n",
    "for s in dirname.split(\"-\"):\n",
    "    l = len(s)\n",
    "    lst.append(\"[a-z0-9]{\" + str(l) + \"}\" )\n",
    "\n",
    "pattern = \"-\".join(lst)\n",
    "print(pattern)"
   ]
  },
  {
   "cell_type": "code",
   "execution_count": null,
   "id": "4f9239ee-0688-4a85-930e-c7a75446c7fd",
   "metadata": {},
   "outputs": [],
   "source": []
  }
 ],
 "metadata": {
  "kernelspec": {
   "display_name": "Python 3 (ipykernel)",
   "language": "python",
   "name": "python3"
  },
  "language_info": {
   "codemirror_mode": {
    "name": "ipython",
    "version": 3
   },
   "file_extension": ".py",
   "mimetype": "text/x-python",
   "name": "python",
   "nbconvert_exporter": "python",
   "pygments_lexer": "ipython3",
   "version": "3.11.5"
  }
 },
 "nbformat": 4,
 "nbformat_minor": 5
}
