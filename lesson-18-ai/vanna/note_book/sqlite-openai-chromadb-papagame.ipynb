{
 "cells": [
  {
   "cell_type": "markdown",
   "id": "7b37d147-f805-5c69-b0b6-e9d5a004ad9b",
   "metadata": {},
   "source": [
    "# Generating SQL for SQLite using OpenAI, ChromaDB\n",
    "This notebook runs through the process of using the `vanna` Python package to generate SQL using AI (RAG + LLMs) including connecting to a database and training. If you're not ready to train on your own database, you can still try it using a sample [SQLite database](app.md)."
   ]
  },
  {
   "cell_type": "markdown",
   "id": "06f60982-173f-5fe4-ab70-1979f5fd6e4d",
   "metadata": {},
   "source": [
    "\n",
    "<h3 class=\"mb-5 text-lg font-medium text-gray-900 dark:text-white\">Which LLM do you want to use?</h3>\n",
    "<ul class=\"grid w-full gap-6 md:grid-cols-2\">\n",
    "    \n",
    "  <li>\n",
    "    <a href=\"../sqlite-openai-vanna-vannadb/\" class=\"inline-flex w-full cursor-pointer items-center justify-between rounded-lg border border-gray-200 bg-white p-5 text-gray-500 hover:bg-gray-100 hover:text-gray-600 peer-checked:border-blue-600 peer-checked:text-blue-600 dark:border-gray-700 dark:bg-gray-800 dark:text-gray-400 dark:hover:bg-gray-700 dark:hover:text-gray-300 dark:peer-checked:text-blue-500\">\n",
    "      <div class=\"block\">\n",
    "        <div class=\"w-full text-lg font-semibold\">OpenAI via Vanna.AI (Recommended)</div>\n",
    "        <small class=\"w-full\">Use Vanna.AI for free to generate your queries</small>\n",
    "      </div>\n",
    "    </a>\n",
    "  </li>\n",
    "    \n",
    "  <li>\n",
    "    <a href=\"../sqlite-openai-standard-chromadb/\" class=\"inline-flex w-full cursor-pointer items-center justify-between rounded-lg border border-gray-200 bg-white p-5 text-gray-500 hover:bg-gray-100 hover:text-gray-600 peer-checked:border-blue-600 peer-checked:text-blue-600 dark:border-gray-700 dark:bg-gray-800 dark:text-gray-400 dark:hover:bg-gray-700 dark:hover:text-gray-300 dark:peer-checked:text-blue-500\">\n",
    "      <div class=\"block\">\n",
    "        <div class=\"w-full text-lg font-semibold\">OpenAI</div>\n",
    "        <small class=\"w-full\">Use OpenAI with your own API key</small>\n",
    "      </div>\n",
    "    </a>\n",
    "  </li>\n",
    "    \n",
    "  <li>\n",
    "    <a href=\"../sqlite-openai-azure-chromadb/\" class=\"inline-flex w-full cursor-pointer items-center justify-between rounded-lg border border-gray-200 bg-white p-5 text-gray-500 hover:bg-gray-100 hover:text-gray-600 peer-checked:border-blue-600 peer-checked:text-blue-600 dark:border-gray-700 dark:bg-gray-800 dark:text-gray-400 dark:hover:bg-gray-700 dark:hover:text-gray-300 dark:peer-checked:text-blue-500\">\n",
    "      <div class=\"block\">\n",
    "        <div class=\"w-full text-lg font-semibold\">Azure OpenAI</div>\n",
    "        <small class=\"w-full\">If you have OpenAI models deployed on Azure</small>\n",
    "      </div>\n",
    "    </a>\n",
    "  </li>\n",
    "    \n",
    "  <li>\n",
    "    <span class=\"inline-flex w-full cursor-pointer items-center justify-between rounded-lg border bg-white p-5 border-blue-600 text-blue-600 dark:bg-gray-800 dark:text-blue-500\">\n",
    "      <div class=\"block\">\n",
    "        <div class=\"w-full text-lg font-semibold\"><span class=\"hidden\">[Selected]</span> Ollama</div>\n",
    "        <small class=\"w-full\">Use Ollama locally for free. Requires additional setup.</small>\n",
    "      </div>\n",
    "    </span>\n",
    "  </li>\n",
    "  \n",
    "  <li>\n",
    "    <a href=\"../sqlite-mistral-chromadb/\" class=\"inline-flex w-full cursor-pointer items-center justify-between rounded-lg border border-gray-200 bg-white p-5 text-gray-500 hover:bg-gray-100 hover:text-gray-600 peer-checked:border-blue-600 peer-checked:text-blue-600 dark:border-gray-700 dark:bg-gray-800 dark:text-gray-400 dark:hover:bg-gray-700 dark:hover:text-gray-300 dark:peer-checked:text-blue-500\">\n",
    "      <div class=\"block\">\n",
    "        <div class=\"w-full text-lg font-semibold\">Mistral via Mistral API</div>\n",
    "        <small class=\"w-full\">If you have a Mistral API key</small>\n",
    "      </div>\n",
    "    </a>\n",
    "  </li>\n",
    "    \n",
    "  <li>\n",
    "    <a href=\"../sqlite-other-llm-chromadb/\" class=\"inline-flex w-full cursor-pointer items-center justify-between rounded-lg border border-gray-200 bg-white p-5 text-gray-500 hover:bg-gray-100 hover:text-gray-600 peer-checked:border-blue-600 peer-checked:text-blue-600 dark:border-gray-700 dark:bg-gray-800 dark:text-gray-400 dark:hover:bg-gray-700 dark:hover:text-gray-300 dark:peer-checked:text-blue-500\">\n",
    "      <div class=\"block\">\n",
    "        <div class=\"w-full text-lg font-semibold\">Other LLM</div>\n",
    "        <small class=\"w-full\">If you have a different LLM model</small>\n",
    "      </div>\n",
    "    </a>\n",
    "  </li>\n",
    "    \n",
    "</ul>\n",
    "    "
   ]
  },
  {
   "cell_type": "markdown",
   "id": "c307a16b-3fd6-57e5-a905-49c414d94a55",
   "metadata": {},
   "source": [
    "\n",
    "<h3 class=\"mb-5 text-lg font-medium text-gray-900 dark:text-white\">Where do you want to store the 'training' data?</h3>\n",
    "<ul class=\"grid w-full gap-6 md:grid-cols-2\">\n",
    "    \n",
    "  <li>\n",
    "    <a href=\"../sqlite-ollama-vannadb/\" class=\"inline-flex w-full cursor-pointer items-center justify-between rounded-lg border border-gray-200 bg-white p-5 text-gray-500 hover:bg-gray-100 hover:text-gray-600 peer-checked:border-blue-600 peer-checked:text-blue-600 dark:border-gray-700 dark:bg-gray-800 dark:text-gray-400 dark:hover:bg-gray-700 dark:hover:text-gray-300 dark:peer-checked:text-blue-500\">\n",
    "      <div class=\"block\">\n",
    "        <div class=\"w-full text-lg font-semibold\">Vanna Hosted Vector DB (Recommended)</div>\n",
    "        <small class=\"w-full\">Use Vanna.AIs hosted vector database (pgvector) for free. This is usable across machines with no additional setup.</small>\n",
    "      </div>\n",
    "    </a>\n",
    "  </li>\n",
    "    \n",
    "  <li>\n",
    "    <span class=\"inline-flex w-full cursor-pointer items-center justify-between rounded-lg border bg-white p-5 border-blue-600 text-blue-600 dark:bg-gray-800 dark:text-blue-500\">\n",
    "      <div class=\"block\">\n",
    "        <div class=\"w-full text-lg font-semibold\"><span class=\"hidden\">[Selected]</span> ChromaDB</div>\n",
    "        <small class=\"w-full\">Use ChromaDBs open-source vector database for free locally. No additional setup is necessary -- all database files will be created and stored locally.</small>\n",
    "      </div>\n",
    "    </span>\n",
    "  </li>\n",
    "  \n",
    "  <li>\n",
    "    <a href=\"../sqlite-ollama-marqo/\" class=\"inline-flex w-full cursor-pointer items-center justify-between rounded-lg border border-gray-200 bg-white p-5 text-gray-500 hover:bg-gray-100 hover:text-gray-600 peer-checked:border-blue-600 peer-checked:text-blue-600 dark:border-gray-700 dark:bg-gray-800 dark:text-gray-400 dark:hover:bg-gray-700 dark:hover:text-gray-300 dark:peer-checked:text-blue-500\">\n",
    "      <div class=\"block\">\n",
    "        <div class=\"w-full text-lg font-semibold\">Marqo</div>\n",
    "        <small class=\"w-full\">Use Marqo locally for free. Requires additional setup. Or use their hosted option.</small>\n",
    "      </div>\n",
    "    </a>\n",
    "  </li>\n",
    "    \n",
    "  <li>\n",
    "    <a href=\"../sqlite-ollama-other-vectordb/\" class=\"inline-flex w-full cursor-pointer items-center justify-between rounded-lg border border-gray-200 bg-white p-5 text-gray-500 hover:bg-gray-100 hover:text-gray-600 peer-checked:border-blue-600 peer-checked:text-blue-600 dark:border-gray-700 dark:bg-gray-800 dark:text-gray-400 dark:hover:bg-gray-700 dark:hover:text-gray-300 dark:peer-checked:text-blue-500\">\n",
    "      <div class=\"block\">\n",
    "        <div class=\"w-full text-lg font-semibold\">Other VectorDB</div>\n",
    "        <small class=\"w-full\">Use any other vector database. Requires additional setup.</small>\n",
    "      </div>\n",
    "    </a>\n",
    "  </li>\n",
    "    \n",
    "</ul>\n",
    "    "
   ]
  },
  {
   "cell_type": "markdown",
   "id": "ee059407-58ac-50fa-843a-7b876328df13",
   "metadata": {},
   "source": [
    "## Setup"
   ]
  },
  {
   "cell_type": "code",
   "execution_count": 27,
   "id": "387b960a-b3d7-40d5-94d4-bd475be7195d",
   "metadata": {},
   "outputs": [
    {
     "name": "stdout",
     "output_type": "stream",
     "text": [
      "/home/papagame/projects/wgong/py4kids/lesson-18-ai/vanna/note_book\n"
     ]
    },
    {
     "name": "stderr",
     "output_type": "stream",
     "text": [
      "huggingface/tokenizers: The current process just got forked, after parallelism has already been used. Disabling parallelism to avoid deadlocks...\n",
      "To disable this warning, you can either:\n",
      "\t- Avoid using `tokenizers` before the fork if possible\n",
      "\t- Explicitly set the environment variable TOKENIZERS_PARALLELISM=(true | false)\n"
     ]
    }
   ],
   "source": [
    "!pwd"
   ]
  },
  {
   "cell_type": "code",
   "execution_count": 1,
   "id": "952e5688-56f9-406c-94c8-51711f79a191",
   "metadata": {},
   "outputs": [],
   "source": [
    "import sys"
   ]
  },
  {
   "cell_type": "code",
   "execution_count": 2,
   "id": "b9d4738d-52a2-4005-aae5-1c232e621cab",
   "metadata": {},
   "outputs": [
    {
     "data": {
      "text/plain": [
       "['/home/papagame/anaconda3/envs/vanna/lib/python311.zip',\n",
       " '/home/papagame/anaconda3/envs/vanna/lib/python3.11',\n",
       " '/home/papagame/anaconda3/envs/vanna/lib/python3.11/lib-dynload',\n",
       " '',\n",
       " '/home/papagame/anaconda3/envs/vanna/lib/python3.11/site-packages',\n",
       " '/home/papagame/Documents/Dad/0-vault/api_keys/apikeystore']"
      ]
     },
     "execution_count": 2,
     "metadata": {},
     "output_type": "execute_result"
    }
   ],
   "source": [
    "sys.path"
   ]
  },
  {
   "cell_type": "code",
   "execution_count": 1,
   "id": "ad9761c5-1c2f-44a3-9035-d444e182f388",
   "metadata": {
    "scrolled": true
   },
   "outputs": [
    {
     "name": "stdout",
     "output_type": "stream",
     "text": [
      "Requirement already satisfied: vanna in /home/papagame/anaconda3/envs/vanna/lib/python3.11/site-packages (0.5.5)\n",
      "Requirement already satisfied: requests in /home/papagame/anaconda3/envs/vanna/lib/python3.11/site-packages (from vanna) (2.32.3)\n",
      "Requirement already satisfied: tabulate in /home/papagame/anaconda3/envs/vanna/lib/python3.11/site-packages (from vanna) (0.9.0)\n",
      "Requirement already satisfied: plotly in /home/papagame/anaconda3/envs/vanna/lib/python3.11/site-packages (from vanna) (5.22.0)\n",
      "Requirement already satisfied: pandas in /home/papagame/anaconda3/envs/vanna/lib/python3.11/site-packages (from vanna) (2.2.2)\n",
      "Requirement already satisfied: sqlparse in /home/papagame/anaconda3/envs/vanna/lib/python3.11/site-packages (from vanna) (0.5.0)\n",
      "Requirement already satisfied: kaleido in /home/papagame/anaconda3/envs/vanna/lib/python3.11/site-packages (from vanna) (0.2.1)\n",
      "Requirement already satisfied: flask in /home/papagame/anaconda3/envs/vanna/lib/python3.11/site-packages (from vanna) (3.0.3)\n",
      "Requirement already satisfied: flask-sock in /home/papagame/anaconda3/envs/vanna/lib/python3.11/site-packages (from vanna) (0.7.0)\n",
      "Requirement already satisfied: sqlalchemy in /home/papagame/anaconda3/envs/vanna/lib/python3.11/site-packages (from vanna) (2.0.30)\n",
      "Requirement already satisfied: Werkzeug>=3.0.0 in /home/papagame/anaconda3/envs/vanna/lib/python3.11/site-packages (from flask->vanna) (3.0.3)\n",
      "Requirement already satisfied: Jinja2>=3.1.2 in /home/papagame/anaconda3/envs/vanna/lib/python3.11/site-packages (from flask->vanna) (3.1.4)\n",
      "Requirement already satisfied: itsdangerous>=2.1.2 in /home/papagame/anaconda3/envs/vanna/lib/python3.11/site-packages (from flask->vanna) (2.2.0)\n",
      "Requirement already satisfied: click>=8.1.3 in /home/papagame/anaconda3/envs/vanna/lib/python3.11/site-packages (from flask->vanna) (8.1.7)\n",
      "Requirement already satisfied: blinker>=1.6.2 in /home/papagame/anaconda3/envs/vanna/lib/python3.11/site-packages (from flask->vanna) (1.8.2)\n",
      "Requirement already satisfied: simple-websocket>=0.5.1 in /home/papagame/anaconda3/envs/vanna/lib/python3.11/site-packages (from flask-sock->vanna) (1.0.0)\n",
      "Requirement already satisfied: numpy>=1.23.2 in /home/papagame/anaconda3/envs/vanna/lib/python3.11/site-packages (from pandas->vanna) (1.26.4)\n",
      "Requirement already satisfied: python-dateutil>=2.8.2 in /home/papagame/anaconda3/envs/vanna/lib/python3.11/site-packages (from pandas->vanna) (2.9.0.post0)\n",
      "Requirement already satisfied: pytz>=2020.1 in /home/papagame/anaconda3/envs/vanna/lib/python3.11/site-packages (from pandas->vanna) (2024.1)\n",
      "Requirement already satisfied: tzdata>=2022.7 in /home/papagame/anaconda3/envs/vanna/lib/python3.11/site-packages (from pandas->vanna) (2024.1)\n",
      "Requirement already satisfied: tenacity>=6.2.0 in /home/papagame/anaconda3/envs/vanna/lib/python3.11/site-packages (from plotly->vanna) (8.3.0)\n",
      "Requirement already satisfied: packaging in /home/papagame/anaconda3/envs/vanna/lib/python3.11/site-packages (from plotly->vanna) (24.0)\n",
      "Requirement already satisfied: charset-normalizer<4,>=2 in /home/papagame/anaconda3/envs/vanna/lib/python3.11/site-packages (from requests->vanna) (3.3.2)\n",
      "Requirement already satisfied: idna<4,>=2.5 in /home/papagame/anaconda3/envs/vanna/lib/python3.11/site-packages (from requests->vanna) (3.7)\n",
      "Requirement already satisfied: urllib3<3,>=1.21.1 in /home/papagame/anaconda3/envs/vanna/lib/python3.11/site-packages (from requests->vanna) (2.2.1)\n",
      "Requirement already satisfied: certifi>=2017.4.17 in /home/papagame/anaconda3/envs/vanna/lib/python3.11/site-packages (from requests->vanna) (2024.6.2)\n",
      "Requirement already satisfied: typing-extensions>=4.6.0 in /home/papagame/anaconda3/envs/vanna/lib/python3.11/site-packages (from sqlalchemy->vanna) (4.12.1)\n",
      "Requirement already satisfied: greenlet!=0.4.17 in /home/papagame/anaconda3/envs/vanna/lib/python3.11/site-packages (from sqlalchemy->vanna) (3.0.3)\n",
      "Requirement already satisfied: MarkupSafe>=2.0 in /home/papagame/anaconda3/envs/vanna/lib/python3.11/site-packages (from Jinja2>=3.1.2->flask->vanna) (2.1.5)\n",
      "Requirement already satisfied: six>=1.5 in /home/papagame/anaconda3/envs/vanna/lib/python3.11/site-packages (from python-dateutil>=2.8.2->pandas->vanna) (1.16.0)\n",
      "Requirement already satisfied: wsproto in /home/papagame/anaconda3/envs/vanna/lib/python3.11/site-packages (from simple-websocket>=0.5.1->flask-sock->vanna) (1.2.0)\n",
      "Requirement already satisfied: h11<1,>=0.9.0 in /home/papagame/anaconda3/envs/vanna/lib/python3.11/site-packages (from wsproto->simple-websocket>=0.5.1->flask-sock->vanna) (0.14.0)\n"
     ]
    }
   ],
   "source": [
    "!pip install vanna"
   ]
  },
  {
   "cell_type": "code",
   "execution_count": 2,
   "id": "1e4cc45a-56a6-4e91-99db-109cd3bb2eaa",
   "metadata": {
    "scrolled": true
   },
   "outputs": [
    {
     "name": "stdout",
     "output_type": "stream",
     "text": [
      "Requirement already satisfied: vanna[chromadb] in /home/papagame/anaconda3/envs/vanna/lib/python3.11/site-packages (0.5.5)\n",
      "Requirement already satisfied: requests in /home/papagame/anaconda3/envs/vanna/lib/python3.11/site-packages (from vanna[chromadb]) (2.32.3)\n",
      "Requirement already satisfied: tabulate in /home/papagame/anaconda3/envs/vanna/lib/python3.11/site-packages (from vanna[chromadb]) (0.9.0)\n",
      "Requirement already satisfied: plotly in /home/papagame/anaconda3/envs/vanna/lib/python3.11/site-packages (from vanna[chromadb]) (5.22.0)\n",
      "Requirement already satisfied: pandas in /home/papagame/anaconda3/envs/vanna/lib/python3.11/site-packages (from vanna[chromadb]) (2.2.2)\n",
      "Requirement already satisfied: sqlparse in /home/papagame/anaconda3/envs/vanna/lib/python3.11/site-packages (from vanna[chromadb]) (0.5.0)\n",
      "Requirement already satisfied: kaleido in /home/papagame/anaconda3/envs/vanna/lib/python3.11/site-packages (from vanna[chromadb]) (0.2.1)\n",
      "Requirement already satisfied: flask in /home/papagame/anaconda3/envs/vanna/lib/python3.11/site-packages (from vanna[chromadb]) (3.0.3)\n",
      "Requirement already satisfied: flask-sock in /home/papagame/anaconda3/envs/vanna/lib/python3.11/site-packages (from vanna[chromadb]) (0.7.0)\n",
      "Requirement already satisfied: sqlalchemy in /home/papagame/anaconda3/envs/vanna/lib/python3.11/site-packages (from vanna[chromadb]) (2.0.30)\n",
      "Requirement already satisfied: chromadb in /home/papagame/anaconda3/envs/vanna/lib/python3.11/site-packages (from vanna[chromadb]) (0.5.0)\n",
      "Requirement already satisfied: build>=1.0.3 in /home/papagame/anaconda3/envs/vanna/lib/python3.11/site-packages (from chromadb->vanna[chromadb]) (1.2.1)\n",
      "Requirement already satisfied: pydantic>=1.9 in /home/papagame/anaconda3/envs/vanna/lib/python3.11/site-packages (from chromadb->vanna[chromadb]) (2.7.3)\n",
      "Requirement already satisfied: chroma-hnswlib==0.7.3 in /home/papagame/anaconda3/envs/vanna/lib/python3.11/site-packages (from chromadb->vanna[chromadb]) (0.7.3)\n",
      "Requirement already satisfied: fastapi>=0.95.2 in /home/papagame/anaconda3/envs/vanna/lib/python3.11/site-packages (from chromadb->vanna[chromadb]) (0.111.0)\n",
      "Requirement already satisfied: uvicorn>=0.18.3 in /home/papagame/anaconda3/envs/vanna/lib/python3.11/site-packages (from uvicorn[standard]>=0.18.3->chromadb->vanna[chromadb]) (0.30.1)\n",
      "Requirement already satisfied: numpy>=1.22.5 in /home/papagame/anaconda3/envs/vanna/lib/python3.11/site-packages (from chromadb->vanna[chromadb]) (1.26.4)\n",
      "Requirement already satisfied: posthog>=2.4.0 in /home/papagame/anaconda3/envs/vanna/lib/python3.11/site-packages (from chromadb->vanna[chromadb]) (3.5.0)\n",
      "Requirement already satisfied: typing-extensions>=4.5.0 in /home/papagame/anaconda3/envs/vanna/lib/python3.11/site-packages (from chromadb->vanna[chromadb]) (4.12.1)\n",
      "Requirement already satisfied: onnxruntime>=1.14.1 in /home/papagame/anaconda3/envs/vanna/lib/python3.11/site-packages (from chromadb->vanna[chromadb]) (1.18.0)\n",
      "Requirement already satisfied: opentelemetry-api>=1.2.0 in /home/papagame/anaconda3/envs/vanna/lib/python3.11/site-packages (from chromadb->vanna[chromadb]) (1.25.0)\n",
      "Requirement already satisfied: opentelemetry-exporter-otlp-proto-grpc>=1.2.0 in /home/papagame/anaconda3/envs/vanna/lib/python3.11/site-packages (from chromadb->vanna[chromadb]) (1.25.0)\n",
      "Requirement already satisfied: opentelemetry-instrumentation-fastapi>=0.41b0 in /home/papagame/anaconda3/envs/vanna/lib/python3.11/site-packages (from chromadb->vanna[chromadb]) (0.46b0)\n",
      "Requirement already satisfied: opentelemetry-sdk>=1.2.0 in /home/papagame/anaconda3/envs/vanna/lib/python3.11/site-packages (from chromadb->vanna[chromadb]) (1.25.0)\n",
      "Requirement already satisfied: tokenizers>=0.13.2 in /home/papagame/anaconda3/envs/vanna/lib/python3.11/site-packages (from chromadb->vanna[chromadb]) (0.19.1)\n",
      "Requirement already satisfied: pypika>=0.48.9 in /home/papagame/anaconda3/envs/vanna/lib/python3.11/site-packages (from chromadb->vanna[chromadb]) (0.48.9)\n",
      "Requirement already satisfied: tqdm>=4.65.0 in /home/papagame/anaconda3/envs/vanna/lib/python3.11/site-packages (from chromadb->vanna[chromadb]) (4.66.4)\n",
      "Requirement already satisfied: overrides>=7.3.1 in /home/papagame/anaconda3/envs/vanna/lib/python3.11/site-packages (from chromadb->vanna[chromadb]) (7.7.0)\n",
      "Requirement already satisfied: importlib-resources in /home/papagame/anaconda3/envs/vanna/lib/python3.11/site-packages (from chromadb->vanna[chromadb]) (6.4.0)\n",
      "Requirement already satisfied: grpcio>=1.58.0 in /home/papagame/anaconda3/envs/vanna/lib/python3.11/site-packages (from chromadb->vanna[chromadb]) (1.64.1)\n",
      "Requirement already satisfied: bcrypt>=4.0.1 in /home/papagame/anaconda3/envs/vanna/lib/python3.11/site-packages (from chromadb->vanna[chromadb]) (4.1.3)\n",
      "Requirement already satisfied: typer>=0.9.0 in /home/papagame/anaconda3/envs/vanna/lib/python3.11/site-packages (from chromadb->vanna[chromadb]) (0.12.3)\n",
      "Requirement already satisfied: kubernetes>=28.1.0 in /home/papagame/anaconda3/envs/vanna/lib/python3.11/site-packages (from chromadb->vanna[chromadb]) (29.0.0)\n",
      "Requirement already satisfied: tenacity>=8.2.3 in /home/papagame/anaconda3/envs/vanna/lib/python3.11/site-packages (from chromadb->vanna[chromadb]) (8.3.0)\n",
      "Requirement already satisfied: PyYAML>=6.0.0 in /home/papagame/anaconda3/envs/vanna/lib/python3.11/site-packages (from chromadb->vanna[chromadb]) (6.0.1)\n",
      "Requirement already satisfied: mmh3>=4.0.1 in /home/papagame/anaconda3/envs/vanna/lib/python3.11/site-packages (from chromadb->vanna[chromadb]) (4.1.0)\n",
      "Requirement already satisfied: orjson>=3.9.12 in /home/papagame/anaconda3/envs/vanna/lib/python3.11/site-packages (from chromadb->vanna[chromadb]) (3.10.3)\n",
      "Requirement already satisfied: charset-normalizer<4,>=2 in /home/papagame/anaconda3/envs/vanna/lib/python3.11/site-packages (from requests->vanna[chromadb]) (3.3.2)\n",
      "Requirement already satisfied: idna<4,>=2.5 in /home/papagame/anaconda3/envs/vanna/lib/python3.11/site-packages (from requests->vanna[chromadb]) (3.7)\n",
      "Requirement already satisfied: urllib3<3,>=1.21.1 in /home/papagame/anaconda3/envs/vanna/lib/python3.11/site-packages (from requests->vanna[chromadb]) (2.2.1)\n",
      "Requirement already satisfied: certifi>=2017.4.17 in /home/papagame/anaconda3/envs/vanna/lib/python3.11/site-packages (from requests->vanna[chromadb]) (2024.6.2)\n",
      "Requirement already satisfied: Werkzeug>=3.0.0 in /home/papagame/anaconda3/envs/vanna/lib/python3.11/site-packages (from flask->vanna[chromadb]) (3.0.3)\n",
      "Requirement already satisfied: Jinja2>=3.1.2 in /home/papagame/anaconda3/envs/vanna/lib/python3.11/site-packages (from flask->vanna[chromadb]) (3.1.4)\n",
      "Requirement already satisfied: itsdangerous>=2.1.2 in /home/papagame/anaconda3/envs/vanna/lib/python3.11/site-packages (from flask->vanna[chromadb]) (2.2.0)\n",
      "Requirement already satisfied: click>=8.1.3 in /home/papagame/anaconda3/envs/vanna/lib/python3.11/site-packages (from flask->vanna[chromadb]) (8.1.7)\n",
      "Requirement already satisfied: blinker>=1.6.2 in /home/papagame/anaconda3/envs/vanna/lib/python3.11/site-packages (from flask->vanna[chromadb]) (1.8.2)\n",
      "Requirement already satisfied: simple-websocket>=0.5.1 in /home/papagame/anaconda3/envs/vanna/lib/python3.11/site-packages (from flask-sock->vanna[chromadb]) (1.0.0)\n",
      "Requirement already satisfied: python-dateutil>=2.8.2 in /home/papagame/anaconda3/envs/vanna/lib/python3.11/site-packages (from pandas->vanna[chromadb]) (2.9.0.post0)\n",
      "Requirement already satisfied: pytz>=2020.1 in /home/papagame/anaconda3/envs/vanna/lib/python3.11/site-packages (from pandas->vanna[chromadb]) (2024.1)\n",
      "Requirement already satisfied: tzdata>=2022.7 in /home/papagame/anaconda3/envs/vanna/lib/python3.11/site-packages (from pandas->vanna[chromadb]) (2024.1)\n",
      "Requirement already satisfied: packaging in /home/papagame/anaconda3/envs/vanna/lib/python3.11/site-packages (from plotly->vanna[chromadb]) (24.0)\n",
      "Requirement already satisfied: greenlet!=0.4.17 in /home/papagame/anaconda3/envs/vanna/lib/python3.11/site-packages (from sqlalchemy->vanna[chromadb]) (3.0.3)\n",
      "Requirement already satisfied: pyproject_hooks in /home/papagame/anaconda3/envs/vanna/lib/python3.11/site-packages (from build>=1.0.3->chromadb->vanna[chromadb]) (1.1.0)\n",
      "Requirement already satisfied: starlette<0.38.0,>=0.37.2 in /home/papagame/anaconda3/envs/vanna/lib/python3.11/site-packages (from fastapi>=0.95.2->chromadb->vanna[chromadb]) (0.37.2)\n",
      "Requirement already satisfied: fastapi-cli>=0.0.2 in /home/papagame/anaconda3/envs/vanna/lib/python3.11/site-packages (from fastapi>=0.95.2->chromadb->vanna[chromadb]) (0.0.4)\n",
      "Requirement already satisfied: httpx>=0.23.0 in /home/papagame/anaconda3/envs/vanna/lib/python3.11/site-packages (from fastapi>=0.95.2->chromadb->vanna[chromadb]) (0.27.0)\n",
      "Requirement already satisfied: python-multipart>=0.0.7 in /home/papagame/anaconda3/envs/vanna/lib/python3.11/site-packages (from fastapi>=0.95.2->chromadb->vanna[chromadb]) (0.0.9)\n",
      "Requirement already satisfied: ujson!=4.0.2,!=4.1.0,!=4.2.0,!=4.3.0,!=5.0.0,!=5.1.0,>=4.0.1 in /home/papagame/anaconda3/envs/vanna/lib/python3.11/site-packages (from fastapi>=0.95.2->chromadb->vanna[chromadb]) (5.10.0)\n",
      "Requirement already satisfied: email_validator>=2.0.0 in /home/papagame/anaconda3/envs/vanna/lib/python3.11/site-packages (from fastapi>=0.95.2->chromadb->vanna[chromadb]) (2.1.1)\n",
      "Requirement already satisfied: MarkupSafe>=2.0 in /home/papagame/anaconda3/envs/vanna/lib/python3.11/site-packages (from Jinja2>=3.1.2->flask->vanna[chromadb]) (2.1.5)\n",
      "Requirement already satisfied: six>=1.9.0 in /home/papagame/anaconda3/envs/vanna/lib/python3.11/site-packages (from kubernetes>=28.1.0->chromadb->vanna[chromadb]) (1.16.0)\n",
      "Requirement already satisfied: google-auth>=1.0.1 in /home/papagame/anaconda3/envs/vanna/lib/python3.11/site-packages (from kubernetes>=28.1.0->chromadb->vanna[chromadb]) (2.29.0)\n",
      "Requirement already satisfied: websocket-client!=0.40.0,!=0.41.*,!=0.42.*,>=0.32.0 in /home/papagame/anaconda3/envs/vanna/lib/python3.11/site-packages (from kubernetes>=28.1.0->chromadb->vanna[chromadb]) (1.8.0)\n",
      "Requirement already satisfied: requests-oauthlib in /home/papagame/anaconda3/envs/vanna/lib/python3.11/site-packages (from kubernetes>=28.1.0->chromadb->vanna[chromadb]) (2.0.0)\n",
      "Requirement already satisfied: oauthlib>=3.2.2 in /home/papagame/anaconda3/envs/vanna/lib/python3.11/site-packages (from kubernetes>=28.1.0->chromadb->vanna[chromadb]) (3.2.2)\n",
      "Requirement already satisfied: coloredlogs in /home/papagame/anaconda3/envs/vanna/lib/python3.11/site-packages (from onnxruntime>=1.14.1->chromadb->vanna[chromadb]) (15.0.1)\n",
      "Requirement already satisfied: flatbuffers in /home/papagame/anaconda3/envs/vanna/lib/python3.11/site-packages (from onnxruntime>=1.14.1->chromadb->vanna[chromadb]) (24.3.25)\n",
      "Requirement already satisfied: protobuf in /home/papagame/anaconda3/envs/vanna/lib/python3.11/site-packages (from onnxruntime>=1.14.1->chromadb->vanna[chromadb]) (4.25.3)\n",
      "Requirement already satisfied: sympy in /home/papagame/anaconda3/envs/vanna/lib/python3.11/site-packages (from onnxruntime>=1.14.1->chromadb->vanna[chromadb]) (1.12.1)\n",
      "Requirement already satisfied: deprecated>=1.2.6 in /home/papagame/anaconda3/envs/vanna/lib/python3.11/site-packages (from opentelemetry-api>=1.2.0->chromadb->vanna[chromadb]) (1.2.14)\n",
      "Requirement already satisfied: importlib-metadata<=7.1,>=6.0 in /home/papagame/anaconda3/envs/vanna/lib/python3.11/site-packages (from opentelemetry-api>=1.2.0->chromadb->vanna[chromadb]) (7.1.0)\n",
      "Requirement already satisfied: googleapis-common-protos~=1.52 in /home/papagame/anaconda3/envs/vanna/lib/python3.11/site-packages (from opentelemetry-exporter-otlp-proto-grpc>=1.2.0->chromadb->vanna[chromadb]) (1.63.1)\n",
      "Requirement already satisfied: opentelemetry-exporter-otlp-proto-common==1.25.0 in /home/papagame/anaconda3/envs/vanna/lib/python3.11/site-packages (from opentelemetry-exporter-otlp-proto-grpc>=1.2.0->chromadb->vanna[chromadb]) (1.25.0)\n",
      "Requirement already satisfied: opentelemetry-proto==1.25.0 in /home/papagame/anaconda3/envs/vanna/lib/python3.11/site-packages (from opentelemetry-exporter-otlp-proto-grpc>=1.2.0->chromadb->vanna[chromadb]) (1.25.0)\n",
      "Requirement already satisfied: opentelemetry-instrumentation-asgi==0.46b0 in /home/papagame/anaconda3/envs/vanna/lib/python3.11/site-packages (from opentelemetry-instrumentation-fastapi>=0.41b0->chromadb->vanna[chromadb]) (0.46b0)\n",
      "Requirement already satisfied: opentelemetry-instrumentation==0.46b0 in /home/papagame/anaconda3/envs/vanna/lib/python3.11/site-packages (from opentelemetry-instrumentation-fastapi>=0.41b0->chromadb->vanna[chromadb]) (0.46b0)\n",
      "Requirement already satisfied: opentelemetry-semantic-conventions==0.46b0 in /home/papagame/anaconda3/envs/vanna/lib/python3.11/site-packages (from opentelemetry-instrumentation-fastapi>=0.41b0->chromadb->vanna[chromadb]) (0.46b0)\n",
      "Requirement already satisfied: opentelemetry-util-http==0.46b0 in /home/papagame/anaconda3/envs/vanna/lib/python3.11/site-packages (from opentelemetry-instrumentation-fastapi>=0.41b0->chromadb->vanna[chromadb]) (0.46b0)\n",
      "Requirement already satisfied: setuptools>=16.0 in /home/papagame/anaconda3/envs/vanna/lib/python3.11/site-packages (from opentelemetry-instrumentation==0.46b0->opentelemetry-instrumentation-fastapi>=0.41b0->chromadb->vanna[chromadb]) (69.5.1)\n",
      "Requirement already satisfied: wrapt<2.0.0,>=1.0.0 in /home/papagame/anaconda3/envs/vanna/lib/python3.11/site-packages (from opentelemetry-instrumentation==0.46b0->opentelemetry-instrumentation-fastapi>=0.41b0->chromadb->vanna[chromadb]) (1.16.0)\n",
      "Requirement already satisfied: asgiref~=3.0 in /home/papagame/anaconda3/envs/vanna/lib/python3.11/site-packages (from opentelemetry-instrumentation-asgi==0.46b0->opentelemetry-instrumentation-fastapi>=0.41b0->chromadb->vanna[chromadb]) (3.8.1)\n",
      "Requirement already satisfied: monotonic>=1.5 in /home/papagame/anaconda3/envs/vanna/lib/python3.11/site-packages (from posthog>=2.4.0->chromadb->vanna[chromadb]) (1.6)\n",
      "Requirement already satisfied: backoff>=1.10.0 in /home/papagame/anaconda3/envs/vanna/lib/python3.11/site-packages (from posthog>=2.4.0->chromadb->vanna[chromadb]) (2.2.1)\n",
      "Requirement already satisfied: annotated-types>=0.4.0 in /home/papagame/anaconda3/envs/vanna/lib/python3.11/site-packages (from pydantic>=1.9->chromadb->vanna[chromadb]) (0.7.0)\n",
      "Requirement already satisfied: pydantic-core==2.18.4 in /home/papagame/anaconda3/envs/vanna/lib/python3.11/site-packages (from pydantic>=1.9->chromadb->vanna[chromadb]) (2.18.4)\n",
      "Requirement already satisfied: wsproto in /home/papagame/anaconda3/envs/vanna/lib/python3.11/site-packages (from simple-websocket>=0.5.1->flask-sock->vanna[chromadb]) (1.2.0)\n",
      "Requirement already satisfied: huggingface-hub<1.0,>=0.16.4 in /home/papagame/anaconda3/envs/vanna/lib/python3.11/site-packages (from tokenizers>=0.13.2->chromadb->vanna[chromadb]) (0.23.2)\n",
      "Requirement already satisfied: shellingham>=1.3.0 in /home/papagame/anaconda3/envs/vanna/lib/python3.11/site-packages (from typer>=0.9.0->chromadb->vanna[chromadb]) (1.5.4)\n",
      "Requirement already satisfied: rich>=10.11.0 in /home/papagame/anaconda3/envs/vanna/lib/python3.11/site-packages (from typer>=0.9.0->chromadb->vanna[chromadb]) (13.7.1)\n",
      "Requirement already satisfied: h11>=0.8 in /home/papagame/anaconda3/envs/vanna/lib/python3.11/site-packages (from uvicorn>=0.18.3->uvicorn[standard]>=0.18.3->chromadb->vanna[chromadb]) (0.14.0)\n",
      "Requirement already satisfied: httptools>=0.5.0 in /home/papagame/anaconda3/envs/vanna/lib/python3.11/site-packages (from uvicorn[standard]>=0.18.3->chromadb->vanna[chromadb]) (0.6.1)\n",
      "Requirement already satisfied: python-dotenv>=0.13 in /home/papagame/anaconda3/envs/vanna/lib/python3.11/site-packages (from uvicorn[standard]>=0.18.3->chromadb->vanna[chromadb]) (1.0.1)\n",
      "Requirement already satisfied: uvloop!=0.15.0,!=0.15.1,>=0.14.0 in /home/papagame/anaconda3/envs/vanna/lib/python3.11/site-packages (from uvicorn[standard]>=0.18.3->chromadb->vanna[chromadb]) (0.19.0)\n",
      "Requirement already satisfied: watchfiles>=0.13 in /home/papagame/anaconda3/envs/vanna/lib/python3.11/site-packages (from uvicorn[standard]>=0.18.3->chromadb->vanna[chromadb]) (0.22.0)\n",
      "Requirement already satisfied: websockets>=10.4 in /home/papagame/anaconda3/envs/vanna/lib/python3.11/site-packages (from uvicorn[standard]>=0.18.3->chromadb->vanna[chromadb]) (12.0)\n",
      "Requirement already satisfied: dnspython>=2.0.0 in /home/papagame/anaconda3/envs/vanna/lib/python3.11/site-packages (from email_validator>=2.0.0->fastapi>=0.95.2->chromadb->vanna[chromadb]) (2.6.1)\n",
      "Requirement already satisfied: cachetools<6.0,>=2.0.0 in /home/papagame/anaconda3/envs/vanna/lib/python3.11/site-packages (from google-auth>=1.0.1->kubernetes>=28.1.0->chromadb->vanna[chromadb]) (5.3.3)\n",
      "Requirement already satisfied: pyasn1-modules>=0.2.1 in /home/papagame/anaconda3/envs/vanna/lib/python3.11/site-packages (from google-auth>=1.0.1->kubernetes>=28.1.0->chromadb->vanna[chromadb]) (0.4.0)\n",
      "Requirement already satisfied: rsa<5,>=3.1.4 in /home/papagame/anaconda3/envs/vanna/lib/python3.11/site-packages (from google-auth>=1.0.1->kubernetes>=28.1.0->chromadb->vanna[chromadb]) (4.9)\n",
      "Requirement already satisfied: anyio in /home/papagame/anaconda3/envs/vanna/lib/python3.11/site-packages (from httpx>=0.23.0->fastapi>=0.95.2->chromadb->vanna[chromadb]) (4.4.0)\n",
      "Requirement already satisfied: httpcore==1.* in /home/papagame/anaconda3/envs/vanna/lib/python3.11/site-packages (from httpx>=0.23.0->fastapi>=0.95.2->chromadb->vanna[chromadb]) (1.0.5)\n",
      "Requirement already satisfied: sniffio in /home/papagame/anaconda3/envs/vanna/lib/python3.11/site-packages (from httpx>=0.23.0->fastapi>=0.95.2->chromadb->vanna[chromadb]) (1.3.1)\n",
      "Requirement already satisfied: filelock in /home/papagame/anaconda3/envs/vanna/lib/python3.11/site-packages (from huggingface-hub<1.0,>=0.16.4->tokenizers>=0.13.2->chromadb->vanna[chromadb]) (3.14.0)\n",
      "Requirement already satisfied: fsspec>=2023.5.0 in /home/papagame/anaconda3/envs/vanna/lib/python3.11/site-packages (from huggingface-hub<1.0,>=0.16.4->tokenizers>=0.13.2->chromadb->vanna[chromadb]) (2024.6.0)\n",
      "Requirement already satisfied: zipp>=0.5 in /home/papagame/anaconda3/envs/vanna/lib/python3.11/site-packages (from importlib-metadata<=7.1,>=6.0->opentelemetry-api>=1.2.0->chromadb->vanna[chromadb]) (3.19.2)\n",
      "Requirement already satisfied: markdown-it-py>=2.2.0 in /home/papagame/anaconda3/envs/vanna/lib/python3.11/site-packages (from rich>=10.11.0->typer>=0.9.0->chromadb->vanna[chromadb]) (3.0.0)\n",
      "Requirement already satisfied: pygments<3.0.0,>=2.13.0 in /home/papagame/anaconda3/envs/vanna/lib/python3.11/site-packages (from rich>=10.11.0->typer>=0.9.0->chromadb->vanna[chromadb]) (2.18.0)\n",
      "Requirement already satisfied: humanfriendly>=9.1 in /home/papagame/anaconda3/envs/vanna/lib/python3.11/site-packages (from coloredlogs->onnxruntime>=1.14.1->chromadb->vanna[chromadb]) (10.0)\n",
      "Requirement already satisfied: mpmath<1.4.0,>=1.1.0 in /home/papagame/anaconda3/envs/vanna/lib/python3.11/site-packages (from sympy->onnxruntime>=1.14.1->chromadb->vanna[chromadb]) (1.3.0)\n",
      "Requirement already satisfied: mdurl~=0.1 in /home/papagame/anaconda3/envs/vanna/lib/python3.11/site-packages (from markdown-it-py>=2.2.0->rich>=10.11.0->typer>=0.9.0->chromadb->vanna[chromadb]) (0.1.2)\n",
      "Requirement already satisfied: pyasn1<0.7.0,>=0.4.6 in /home/papagame/anaconda3/envs/vanna/lib/python3.11/site-packages (from pyasn1-modules>=0.2.1->google-auth>=1.0.1->kubernetes>=28.1.0->chromadb->vanna[chromadb]) (0.6.0)\n"
     ]
    }
   ],
   "source": [
    "!pip install 'vanna[chromadb]'"
   ]
  },
  {
   "cell_type": "code",
   "execution_count": 3,
   "id": "fcdf27e1-252b-4ade-91e3-66b055ed0da8",
   "metadata": {},
   "outputs": [
    {
     "name": "stdout",
     "output_type": "stream",
     "text": [
      "Requirement already satisfied: ollama in /home/papagame/anaconda3/envs/vanna/lib/python3.11/site-packages (0.2.0)\n",
      "Requirement already satisfied: httpx<0.28.0,>=0.27.0 in /home/papagame/anaconda3/envs/vanna/lib/python3.11/site-packages (from ollama) (0.27.0)\n",
      "Requirement already satisfied: anyio in /home/papagame/anaconda3/envs/vanna/lib/python3.11/site-packages (from httpx<0.28.0,>=0.27.0->ollama) (4.4.0)\n",
      "Requirement already satisfied: certifi in /home/papagame/anaconda3/envs/vanna/lib/python3.11/site-packages (from httpx<0.28.0,>=0.27.0->ollama) (2024.6.2)\n",
      "Requirement already satisfied: httpcore==1.* in /home/papagame/anaconda3/envs/vanna/lib/python3.11/site-packages (from httpx<0.28.0,>=0.27.0->ollama) (1.0.5)\n",
      "Requirement already satisfied: idna in /home/papagame/anaconda3/envs/vanna/lib/python3.11/site-packages (from httpx<0.28.0,>=0.27.0->ollama) (3.7)\n",
      "Requirement already satisfied: sniffio in /home/papagame/anaconda3/envs/vanna/lib/python3.11/site-packages (from httpx<0.28.0,>=0.27.0->ollama) (1.3.1)\n",
      "Requirement already satisfied: h11<0.15,>=0.13 in /home/papagame/anaconda3/envs/vanna/lib/python3.11/site-packages (from httpcore==1.*->httpx<0.28.0,>=0.27.0->ollama) (0.14.0)\n"
     ]
    }
   ],
   "source": [
    "!pip install ollama"
   ]
  },
  {
   "cell_type": "code",
   "execution_count": 4,
   "id": "33a864c3-64e1-4402-8129-002546ccdfc9",
   "metadata": {},
   "outputs": [
    {
     "name": "stdout",
     "output_type": "stream",
     "text": [
      "Name: vanna\n",
      "Version: 0.5.5\n",
      "Summary: Generate SQL queries from natural language\n",
      "Home-page: \n",
      "Author: \n",
      "Author-email: Zain Hoda <zain@vanna.ai>\n",
      "License: \n",
      "Location: /home/papagame/anaconda3/envs/vanna/lib/python3.11/site-packages\n",
      "Requires: flask, flask-sock, kaleido, pandas, plotly, requests, sqlalchemy, sqlparse, tabulate\n",
      "Required-by: \n"
     ]
    }
   ],
   "source": [
    "!pip show vanna   # 0.5.5, 0.2.1"
   ]
  },
  {
   "cell_type": "code",
   "execution_count": 5,
   "id": "48507ae8-6b11-4cfc-8bec-968f43012723",
   "metadata": {},
   "outputs": [
    {
     "name": "stdout",
     "output_type": "stream",
     "text": [
      "Name: ollama\n",
      "Version: 0.2.0\n",
      "Summary: The official Python client for Ollama.\n",
      "Home-page: https://ollama.ai\n",
      "Author: Ollama\n",
      "Author-email: hello@ollama.com\n",
      "License: MIT\n",
      "Location: /home/papagame/anaconda3/envs/vanna/lib/python3.11/site-packages\n",
      "Requires: httpx\n",
      "Required-by: \n"
     ]
    }
   ],
   "source": [
    "!pip show ollama   # 0.2.0"
   ]
  },
  {
   "cell_type": "code",
   "execution_count": 3,
   "id": "09664e15-6f28-4359-a839-3ad9ae303465",
   "metadata": {},
   "outputs": [],
   "source": [
    "from api_key_store import ApiKeyStore\n",
    "s = ApiKeyStore()"
   ]
  },
  {
   "cell_type": "code",
   "execution_count": 4,
   "id": "09b8040f-6860-4149-a2aa-79a61592e92d",
   "metadata": {},
   "outputs": [],
   "source": [
    "openai_api_key = s.get_api_key(provider=\"OPENAI\")"
   ]
  },
  {
   "cell_type": "code",
   "execution_count": 5,
   "id": "134fa2b9-35a2-5279-8150-5becdf08fae3",
   "metadata": {},
   "outputs": [],
   "source": [
    "from vanna.openai import OpenAI_Chat\n",
    "from vanna.chromadb.chromadb_vector import ChromaDB_VectorStore"
   ]
  },
  {
   "cell_type": "raw",
   "id": "74aa561b-580d-484b-acce-e7f25040af4a",
   "metadata": {},
   "source": [
    "class MyVanna(ChromaDB_VectorStore, Ollama):\n",
    "    def __init__(self, config=None):\n",
    "        ChromaDB_VectorStore.__init__(self, config=config)\n",
    "        Ollama.__init__(self, config=config)\n",
    "\n",
    "config = {\n",
    "    'model': 'llama3'  # 'mistral' # \"starcoder2\"\n",
    "}\n",
    "vn = MyVanna(config=config)"
   ]
  },
  {
   "cell_type": "code",
   "execution_count": 6,
   "id": "4477df4f-6731-41b4-8ffa-3b7608e5da18",
   "metadata": {},
   "outputs": [],
   "source": [
    "class MyVanna(ChromaDB_VectorStore, OpenAI_Chat):\n",
    "    def __init__(self, config=None):\n",
    "        ChromaDB_VectorStore.__init__(self, config=config)\n",
    "        OpenAI_Chat.__init__(self, config=config)\n",
    "\n",
    "# vn = MyVanna(config={'api_key': 'sk-...', 'model': 'gpt-4-...'})\n",
    "vn = MyVanna(config={'api_key': openai_api_key, 'model': 'gpt-3.5-turbo'})"
   ]
  },
  {
   "cell_type": "markdown",
   "id": "04dc3b15-2534-5923-9d37-0c376134a15d",
   "metadata": {},
   "source": [
    "\n",
    "<h3 class=\"mb-5 text-lg font-medium text-gray-900 dark:text-white\">Which database do you want to query?</h3>\n",
    "<ul class=\"grid w-full gap-6 md:grid-cols-2\">\n",
    "    \n",
    "  <li>\n",
    "    <a href=\"../postgres-ollama-chromadb/\" class=\"inline-flex w-full cursor-pointer items-center justify-between rounded-lg border border-gray-200 bg-white p-5 text-gray-500 hover:bg-gray-100 hover:text-gray-600 peer-checked:border-blue-600 peer-checked:text-blue-600 dark:border-gray-700 dark:bg-gray-800 dark:text-gray-400 dark:hover:bg-gray-700 dark:hover:text-gray-300 dark:peer-checked:text-blue-500\">\n",
    "      <div class=\"block\">\n",
    "        <div class=\"w-full text-lg font-semibold\">Postgres</div>\n",
    "        <small class=\"w-full\"></small>\n",
    "      </div>\n",
    "    </a>\n",
    "  </li>\n",
    "    \n",
    "  <li>\n",
    "    <a href=\"../mssql-ollama-chromadb/\" class=\"inline-flex w-full cursor-pointer items-center justify-between rounded-lg border border-gray-200 bg-white p-5 text-gray-500 hover:bg-gray-100 hover:text-gray-600 peer-checked:border-blue-600 peer-checked:text-blue-600 dark:border-gray-700 dark:bg-gray-800 dark:text-gray-400 dark:hover:bg-gray-700 dark:hover:text-gray-300 dark:peer-checked:text-blue-500\">\n",
    "      <div class=\"block\">\n",
    "        <div class=\"w-full text-lg font-semibold\">Microsoft SQL Server</div>\n",
    "        <small class=\"w-full\"></small>\n",
    "      </div>\n",
    "    </a>\n",
    "  </li>\n",
    "    \n",
    "  <li>\n",
    "    <a href=\"../duckdb-ollama-chromadb/\" class=\"inline-flex w-full cursor-pointer items-center justify-between rounded-lg border border-gray-200 bg-white p-5 text-gray-500 hover:bg-gray-100 hover:text-gray-600 peer-checked:border-blue-600 peer-checked:text-blue-600 dark:border-gray-700 dark:bg-gray-800 dark:text-gray-400 dark:hover:bg-gray-700 dark:hover:text-gray-300 dark:peer-checked:text-blue-500\">\n",
    "      <div class=\"block\">\n",
    "        <div class=\"w-full text-lg font-semibold\">DuckDB</div>\n",
    "        <small class=\"w-full\"></small>\n",
    "      </div>\n",
    "    </a>\n",
    "  </li>\n",
    "    \n",
    "  <li>\n",
    "    <a href=\"../snowflake-ollama-chromadb/\" class=\"inline-flex w-full cursor-pointer items-center justify-between rounded-lg border border-gray-200 bg-white p-5 text-gray-500 hover:bg-gray-100 hover:text-gray-600 peer-checked:border-blue-600 peer-checked:text-blue-600 dark:border-gray-700 dark:bg-gray-800 dark:text-gray-400 dark:hover:bg-gray-700 dark:hover:text-gray-300 dark:peer-checked:text-blue-500\">\n",
    "      <div class=\"block\">\n",
    "        <div class=\"w-full text-lg font-semibold\">Snowflake</div>\n",
    "        <small class=\"w-full\"></small>\n",
    "      </div>\n",
    "    </a>\n",
    "  </li>\n",
    "    \n",
    "  <li>\n",
    "    <a href=\"../bigquery-ollama-chromadb/\" class=\"inline-flex w-full cursor-pointer items-center justify-between rounded-lg border border-gray-200 bg-white p-5 text-gray-500 hover:bg-gray-100 hover:text-gray-600 peer-checked:border-blue-600 peer-checked:text-blue-600 dark:border-gray-700 dark:bg-gray-800 dark:text-gray-400 dark:hover:bg-gray-700 dark:hover:text-gray-300 dark:peer-checked:text-blue-500\">\n",
    "      <div class=\"block\">\n",
    "        <div class=\"w-full text-lg font-semibold\">BigQuery</div>\n",
    "        <small class=\"w-full\"></small>\n",
    "      </div>\n",
    "    </a>\n",
    "  </li>\n",
    "    \n",
    "  <li>\n",
    "    <span class=\"inline-flex w-full cursor-pointer items-center justify-between rounded-lg border bg-white p-5 border-blue-600 text-blue-600 dark:bg-gray-800 dark:text-blue-500\">\n",
    "      <div class=\"block\">\n",
    "        <div class=\"w-full text-lg font-semibold\"><span class=\"hidden\">[Selected]</span> SQLite</div>\n",
    "        <small class=\"w-full\"></small>\n",
    "      </div>\n",
    "    </span>\n",
    "  </li>\n",
    "  \n",
    "  <li>\n",
    "    <a href=\"../other-database-ollama-chromadb/\" class=\"inline-flex w-full cursor-pointer items-center justify-between rounded-lg border border-gray-200 bg-white p-5 text-gray-500 hover:bg-gray-100 hover:text-gray-600 peer-checked:border-blue-600 peer-checked:text-blue-600 dark:border-gray-700 dark:bg-gray-800 dark:text-gray-400 dark:hover:bg-gray-700 dark:hover:text-gray-300 dark:peer-checked:text-blue-500\">\n",
    "      <div class=\"block\">\n",
    "        <div class=\"w-full text-lg font-semibold\">Other Database</div>\n",
    "        <small class=\"w-full\">Use Vanna to generate queries for any SQL database</small>\n",
    "      </div>\n",
    "    </a>\n",
    "  </li>\n",
    "    \n",
    "</ul>\n",
    "    "
   ]
  },
  {
   "cell_type": "code",
   "execution_count": 7,
   "id": "4bb60e4c-1036-5c5d-84c6-11c9f2e9c8d1",
   "metadata": {},
   "outputs": [],
   "source": [
    "import os.path\n",
    "# file_db = \"./db/gpt3sql.sqlite\"\n",
    "\n",
    "file_db = \"~/Downloads/chinook.sqlite\"\n",
    "file_db = os.path.abspath(os.path.expanduser(file_db))\n",
    "vn.connect_to_sqlite(file_db)"
   ]
  },
  {
   "cell_type": "code",
   "execution_count": 8,
   "id": "315df293-fa55-418e-a58e-48af01261045",
   "metadata": {},
   "outputs": [
    {
     "data": {
      "text/plain": [
       "True"
      ]
     },
     "execution_count": 8,
     "metadata": {},
     "output_type": "execute_result"
    }
   ],
   "source": [
    "vn.run_sql_is_set"
   ]
  },
  {
   "cell_type": "code",
   "execution_count": 9,
   "id": "35cf106d-2084-4551-b764-68dd02dea7f7",
   "metadata": {},
   "outputs": [],
   "source": [
    "def remove_collections(collection_name=None, ACCEPTED_TYPES = [\"sql\", \"ddl\", \"documentation\"]):\n",
    "    if not collection_name:\n",
    "        collections = ACCEPTED_TYPES\n",
    "    elif isinstance(collection_name, str):\n",
    "        collections = [collection_name]\n",
    "    elif isinstance(collection_name, list):\n",
    "        collections = collection_name\n",
    "    else:\n",
    "        print(f\"\\t{collection_name} is unknown: Skipped\")\n",
    "        return\n",
    "\n",
    "    for c in collections:\n",
    "        if not c in ACCEPTED_TYPES:\n",
    "            print(f\"\\t{c} is unknown: Skipped\")\n",
    "            continue\n",
    "            \n",
    "        # print(f\"vn.remove_collection('{c}')\")\n",
    "        vn.remove_collection(c)"
   ]
  },
  {
   "cell_type": "code",
   "execution_count": 10,
   "id": "e8e1ff2a-54b1-4c0a-becf-54fb9f449a4a",
   "metadata": {},
   "outputs": [],
   "source": [
    "if True:\n",
    "    remove_collections()"
   ]
  },
  {
   "cell_type": "markdown",
   "id": "f06c0e89-83f7-5ad1-8f6e-a64cf5bd8e60",
   "metadata": {},
   "source": [
    "## Training\n",
    "You only need to train once. Do not train again unless you want to add more training data."
   ]
  },
  {
   "cell_type": "code",
   "execution_count": 11,
   "id": "c7ea4def-5b99-440a-bb94-b6d79b30c669",
   "metadata": {},
   "outputs": [
    {
     "data": {
      "text/html": [
       "<div>\n",
       "<style scoped>\n",
       "    .dataframe tbody tr th:only-of-type {\n",
       "        vertical-align: middle;\n",
       "    }\n",
       "\n",
       "    .dataframe tbody tr th {\n",
       "        vertical-align: top;\n",
       "    }\n",
       "\n",
       "    .dataframe thead th {\n",
       "        text-align: right;\n",
       "    }\n",
       "</style>\n",
       "<table border=\"1\" class=\"dataframe\">\n",
       "  <thead>\n",
       "    <tr style=\"text-align: right;\">\n",
       "      <th></th>\n",
       "      <th>id</th>\n",
       "      <th>question</th>\n",
       "      <th>content</th>\n",
       "      <th>training_data_type</th>\n",
       "    </tr>\n",
       "  </thead>\n",
       "  <tbody>\n",
       "  </tbody>\n",
       "</table>\n",
       "</div>"
      ],
      "text/plain": [
       "Empty DataFrame\n",
       "Columns: [id, question, content, training_data_type]\n",
       "Index: []"
      ]
     },
     "execution_count": 11,
     "metadata": {},
     "output_type": "execute_result"
    }
   ],
   "source": [
    "# show training data\n",
    "training_data = vn.get_training_data()\n",
    "training_data"
   ]
  },
  {
   "cell_type": "code",
   "execution_count": 12,
   "id": "2bf1603d-cf22-4879-b215-59ddbefc034e",
   "metadata": {},
   "outputs": [],
   "source": [
    "df_ddl = vn.run_sql(\"SELECT type, sql FROM sqlite_master WHERE sql is not null\")"
   ]
  },
  {
   "cell_type": "code",
   "execution_count": 13,
   "id": "fd6f3c61-4b62-49e0-a9a3-a77abdcd53d3",
   "metadata": {
    "scrolled": true
   },
   "outputs": [
    {
     "data": {
      "text/html": [
       "<div>\n",
       "<style scoped>\n",
       "    .dataframe tbody tr th:only-of-type {\n",
       "        vertical-align: middle;\n",
       "    }\n",
       "\n",
       "    .dataframe tbody tr th {\n",
       "        vertical-align: top;\n",
       "    }\n",
       "\n",
       "    .dataframe thead th {\n",
       "        text-align: right;\n",
       "    }\n",
       "</style>\n",
       "<table border=\"1\" class=\"dataframe\">\n",
       "  <thead>\n",
       "    <tr style=\"text-align: right;\">\n",
       "      <th></th>\n",
       "      <th>type</th>\n",
       "      <th>sql</th>\n",
       "    </tr>\n",
       "  </thead>\n",
       "  <tbody>\n",
       "    <tr>\n",
       "      <th>0</th>\n",
       "      <td>table</td>\n",
       "      <td>CREATE TABLE [Album]\\n(\\n    [AlbumId] INTEGER...</td>\n",
       "    </tr>\n",
       "    <tr>\n",
       "      <th>1</th>\n",
       "      <td>table</td>\n",
       "      <td>CREATE TABLE [Artist]\\n(\\n    [ArtistId] INTEG...</td>\n",
       "    </tr>\n",
       "    <tr>\n",
       "      <th>2</th>\n",
       "      <td>table</td>\n",
       "      <td>CREATE TABLE [Customer]\\n(\\n    [CustomerId] I...</td>\n",
       "    </tr>\n",
       "    <tr>\n",
       "      <th>3</th>\n",
       "      <td>table</td>\n",
       "      <td>CREATE TABLE [Employee]\\n(\\n    [EmployeeId] I...</td>\n",
       "    </tr>\n",
       "    <tr>\n",
       "      <th>4</th>\n",
       "      <td>table</td>\n",
       "      <td>CREATE TABLE [Genre]\\n(\\n    [GenreId] INTEGER...</td>\n",
       "    </tr>\n",
       "    <tr>\n",
       "      <th>5</th>\n",
       "      <td>table</td>\n",
       "      <td>CREATE TABLE [Invoice]\\n(\\n    [InvoiceId] INT...</td>\n",
       "    </tr>\n",
       "    <tr>\n",
       "      <th>6</th>\n",
       "      <td>table</td>\n",
       "      <td>CREATE TABLE [InvoiceLine]\\n(\\n    [InvoiceLin...</td>\n",
       "    </tr>\n",
       "    <tr>\n",
       "      <th>7</th>\n",
       "      <td>table</td>\n",
       "      <td>CREATE TABLE [MediaType]\\n(\\n    [MediaTypeId]...</td>\n",
       "    </tr>\n",
       "    <tr>\n",
       "      <th>8</th>\n",
       "      <td>table</td>\n",
       "      <td>CREATE TABLE [Playlist]\\n(\\n    [PlaylistId] I...</td>\n",
       "    </tr>\n",
       "    <tr>\n",
       "      <th>9</th>\n",
       "      <td>table</td>\n",
       "      <td>CREATE TABLE [PlaylistTrack]\\n(\\n    [Playlist...</td>\n",
       "    </tr>\n",
       "    <tr>\n",
       "      <th>10</th>\n",
       "      <td>table</td>\n",
       "      <td>CREATE TABLE [Track]\\n(\\n    [TrackId] INTEGER...</td>\n",
       "    </tr>\n",
       "    <tr>\n",
       "      <th>11</th>\n",
       "      <td>index</td>\n",
       "      <td>CREATE INDEX [IFK_AlbumArtistId] ON [Album] ([...</td>\n",
       "    </tr>\n",
       "    <tr>\n",
       "      <th>12</th>\n",
       "      <td>index</td>\n",
       "      <td>CREATE INDEX [IFK_CustomerSupportRepId] ON [Cu...</td>\n",
       "    </tr>\n",
       "    <tr>\n",
       "      <th>13</th>\n",
       "      <td>index</td>\n",
       "      <td>CREATE INDEX [IFK_EmployeeReportsTo] ON [Emplo...</td>\n",
       "    </tr>\n",
       "    <tr>\n",
       "      <th>14</th>\n",
       "      <td>index</td>\n",
       "      <td>CREATE INDEX [IFK_InvoiceCustomerId] ON [Invoi...</td>\n",
       "    </tr>\n",
       "    <tr>\n",
       "      <th>15</th>\n",
       "      <td>index</td>\n",
       "      <td>CREATE INDEX [IFK_InvoiceLineInvoiceId] ON [In...</td>\n",
       "    </tr>\n",
       "    <tr>\n",
       "      <th>16</th>\n",
       "      <td>index</td>\n",
       "      <td>CREATE INDEX [IFK_InvoiceLineTrackId] ON [Invo...</td>\n",
       "    </tr>\n",
       "    <tr>\n",
       "      <th>17</th>\n",
       "      <td>index</td>\n",
       "      <td>CREATE INDEX [IFK_PlaylistTrackTrackId] ON [Pl...</td>\n",
       "    </tr>\n",
       "    <tr>\n",
       "      <th>18</th>\n",
       "      <td>index</td>\n",
       "      <td>CREATE INDEX [IFK_TrackAlbumId] ON [Track] ([A...</td>\n",
       "    </tr>\n",
       "    <tr>\n",
       "      <th>19</th>\n",
       "      <td>index</td>\n",
       "      <td>CREATE INDEX [IFK_TrackGenreId] ON [Track] ([G...</td>\n",
       "    </tr>\n",
       "    <tr>\n",
       "      <th>20</th>\n",
       "      <td>index</td>\n",
       "      <td>CREATE INDEX [IFK_TrackMediaTypeId] ON [Track]...</td>\n",
       "    </tr>\n",
       "  </tbody>\n",
       "</table>\n",
       "</div>"
      ],
      "text/plain": [
       "     type                                                sql\n",
       "0   table  CREATE TABLE [Album]\\n(\\n    [AlbumId] INTEGER...\n",
       "1   table  CREATE TABLE [Artist]\\n(\\n    [ArtistId] INTEG...\n",
       "2   table  CREATE TABLE [Customer]\\n(\\n    [CustomerId] I...\n",
       "3   table  CREATE TABLE [Employee]\\n(\\n    [EmployeeId] I...\n",
       "4   table  CREATE TABLE [Genre]\\n(\\n    [GenreId] INTEGER...\n",
       "5   table  CREATE TABLE [Invoice]\\n(\\n    [InvoiceId] INT...\n",
       "6   table  CREATE TABLE [InvoiceLine]\\n(\\n    [InvoiceLin...\n",
       "7   table  CREATE TABLE [MediaType]\\n(\\n    [MediaTypeId]...\n",
       "8   table  CREATE TABLE [Playlist]\\n(\\n    [PlaylistId] I...\n",
       "9   table  CREATE TABLE [PlaylistTrack]\\n(\\n    [Playlist...\n",
       "10  table  CREATE TABLE [Track]\\n(\\n    [TrackId] INTEGER...\n",
       "11  index  CREATE INDEX [IFK_AlbumArtistId] ON [Album] ([...\n",
       "12  index  CREATE INDEX [IFK_CustomerSupportRepId] ON [Cu...\n",
       "13  index  CREATE INDEX [IFK_EmployeeReportsTo] ON [Emplo...\n",
       "14  index  CREATE INDEX [IFK_InvoiceCustomerId] ON [Invoi...\n",
       "15  index  CREATE INDEX [IFK_InvoiceLineInvoiceId] ON [In...\n",
       "16  index  CREATE INDEX [IFK_InvoiceLineTrackId] ON [Invo...\n",
       "17  index  CREATE INDEX [IFK_PlaylistTrackTrackId] ON [Pl...\n",
       "18  index  CREATE INDEX [IFK_TrackAlbumId] ON [Track] ([A...\n",
       "19  index  CREATE INDEX [IFK_TrackGenreId] ON [Track] ([G...\n",
       "20  index  CREATE INDEX [IFK_TrackMediaTypeId] ON [Track]..."
      ]
     },
     "execution_count": 13,
     "metadata": {},
     "output_type": "execute_result"
    }
   ],
   "source": [
    "df_ddl"
   ]
  },
  {
   "cell_type": "code",
   "execution_count": 14,
   "id": "b1e0d7d6-cfc0-44f6-8773-2a442a42b4ca",
   "metadata": {
    "scrolled": true
   },
   "outputs": [
    {
     "name": "stdout",
     "output_type": "stream",
     "text": [
      "Adding ddl: CREATE TABLE [Album]\n",
      "(\n",
      "    [AlbumId] INTEGER  NOT NULL,\n",
      "    [Title] NVARCHAR(160)  NOT NULL,\n",
      "    [ArtistId] INTEGER  NOT NULL,\n",
      "    CONSTRAINT [PK_Album] PRIMARY KEY  ([AlbumId]),\n",
      "    FOREIGN KEY ([ArtistId]) REFERENCES [Artist] ([ArtistId]) \n",
      "\t\tON DELETE NO ACTION ON UPDATE NO ACTION\n",
      ")\n",
      "Adding ddl: CREATE TABLE [Artist]\n",
      "(\n",
      "    [ArtistId] INTEGER  NOT NULL,\n",
      "    [Name] NVARCHAR(120),\n",
      "    CONSTRAINT [PK_Artist] PRIMARY KEY  ([ArtistId])\n",
      ")\n",
      "Adding ddl: CREATE TABLE [Customer]\n",
      "(\n",
      "    [CustomerId] INTEGER  NOT NULL,\n",
      "    [FirstName] NVARCHAR(40)  NOT NULL,\n",
      "    [LastName] NVARCHAR(20)  NOT NULL,\n",
      "    [Company] NVARCHAR(80),\n",
      "    [Address] NVARCHAR(70),\n",
      "    [City] NVARCHAR(40),\n",
      "    [State] NVARCHAR(40),\n",
      "    [Country] NVARCHAR(40),\n",
      "    [PostalCode] NVARCHAR(10),\n",
      "    [Phone] NVARCHAR(24),\n",
      "    [Fax] NVARCHAR(24),\n",
      "    [Email] NVARCHAR(60)  NOT NULL,\n",
      "    [SupportRepId] INTEGER,\n",
      "    CONSTRAINT [PK_Customer] PRIMARY KEY  ([CustomerId]),\n",
      "    FOREIGN KEY ([SupportRepId]) REFERENCES [Employee] ([EmployeeId]) \n",
      "\t\tON DELETE NO ACTION ON UPDATE NO ACTION\n",
      ")\n",
      "Adding ddl: CREATE TABLE [Employee]\n",
      "(\n",
      "    [EmployeeId] INTEGER  NOT NULL,\n",
      "    [LastName] NVARCHAR(20)  NOT NULL,\n",
      "    [FirstName] NVARCHAR(20)  NOT NULL,\n",
      "    [Title] NVARCHAR(30),\n",
      "    [ReportsTo] INTEGER,\n",
      "    [BirthDate] DATETIME,\n",
      "    [HireDate] DATETIME,\n",
      "    [Address] NVARCHAR(70),\n",
      "    [City] NVARCHAR(40),\n",
      "    [State] NVARCHAR(40),\n",
      "    [Country] NVARCHAR(40),\n",
      "    [PostalCode] NVARCHAR(10),\n",
      "    [Phone] NVARCHAR(24),\n",
      "    [Fax] NVARCHAR(24),\n",
      "    [Email] NVARCHAR(60),\n",
      "    CONSTRAINT [PK_Employee] PRIMARY KEY  ([EmployeeId]),\n",
      "    FOREIGN KEY ([ReportsTo]) REFERENCES [Employee] ([EmployeeId]) \n",
      "\t\tON DELETE NO ACTION ON UPDATE NO ACTION\n",
      ")\n",
      "Adding ddl: CREATE TABLE [Genre]\n",
      "(\n",
      "    [GenreId] INTEGER  NOT NULL,\n",
      "    [Name] NVARCHAR(120),\n",
      "    CONSTRAINT [PK_Genre] PRIMARY KEY  ([GenreId])\n",
      ")\n",
      "Adding ddl: CREATE TABLE [Invoice]\n",
      "(\n",
      "    [InvoiceId] INTEGER  NOT NULL,\n",
      "    [CustomerId] INTEGER  NOT NULL,\n",
      "    [InvoiceDate] DATETIME  NOT NULL,\n",
      "    [BillingAddress] NVARCHAR(70),\n",
      "    [BillingCity] NVARCHAR(40),\n",
      "    [BillingState] NVARCHAR(40),\n",
      "    [BillingCountry] NVARCHAR(40),\n",
      "    [BillingPostalCode] NVARCHAR(10),\n",
      "    [Total] NUMERIC(10,2)  NOT NULL,\n",
      "    CONSTRAINT [PK_Invoice] PRIMARY KEY  ([InvoiceId]),\n",
      "    FOREIGN KEY ([CustomerId]) REFERENCES [Customer] ([CustomerId]) \n",
      "\t\tON DELETE NO ACTION ON UPDATE NO ACTION\n",
      ")\n",
      "Adding ddl: CREATE TABLE [InvoiceLine]\n",
      "(\n",
      "    [InvoiceLineId] INTEGER  NOT NULL,\n",
      "    [InvoiceId] INTEGER  NOT NULL,\n",
      "    [TrackId] INTEGER  NOT NULL,\n",
      "    [UnitPrice] NUMERIC(10,2)  NOT NULL,\n",
      "    [Quantity] INTEGER  NOT NULL,\n",
      "    CONSTRAINT [PK_InvoiceLine] PRIMARY KEY  ([InvoiceLineId]),\n",
      "    FOREIGN KEY ([InvoiceId]) REFERENCES [Invoice] ([InvoiceId]) \n",
      "\t\tON DELETE NO ACTION ON UPDATE NO ACTION,\n",
      "    FOREIGN KEY ([TrackId]) REFERENCES [Track] ([TrackId]) \n",
      "\t\tON DELETE NO ACTION ON UPDATE NO ACTION\n",
      ")\n",
      "Adding ddl: CREATE TABLE [MediaType]\n",
      "(\n",
      "    [MediaTypeId] INTEGER  NOT NULL,\n",
      "    [Name] NVARCHAR(120),\n",
      "    CONSTRAINT [PK_MediaType] PRIMARY KEY  ([MediaTypeId])\n",
      ")\n",
      "Adding ddl: CREATE TABLE [Playlist]\n",
      "(\n",
      "    [PlaylistId] INTEGER  NOT NULL,\n",
      "    [Name] NVARCHAR(120),\n",
      "    CONSTRAINT [PK_Playlist] PRIMARY KEY  ([PlaylistId])\n",
      ")\n",
      "Adding ddl: CREATE TABLE [PlaylistTrack]\n",
      "(\n",
      "    [PlaylistId] INTEGER  NOT NULL,\n",
      "    [TrackId] INTEGER  NOT NULL,\n",
      "    CONSTRAINT [PK_PlaylistTrack] PRIMARY KEY  ([PlaylistId], [TrackId]),\n",
      "    FOREIGN KEY ([PlaylistId]) REFERENCES [Playlist] ([PlaylistId]) \n",
      "\t\tON DELETE NO ACTION ON UPDATE NO ACTION,\n",
      "    FOREIGN KEY ([TrackId]) REFERENCES [Track] ([TrackId]) \n",
      "\t\tON DELETE NO ACTION ON UPDATE NO ACTION\n",
      ")\n",
      "Adding ddl: CREATE TABLE [Track]\n",
      "(\n",
      "    [TrackId] INTEGER  NOT NULL,\n",
      "    [Name] NVARCHAR(200)  NOT NULL,\n",
      "    [AlbumId] INTEGER,\n",
      "    [MediaTypeId] INTEGER  NOT NULL,\n",
      "    [GenreId] INTEGER,\n",
      "    [Composer] NVARCHAR(220),\n",
      "    [Milliseconds] INTEGER  NOT NULL,\n",
      "    [Bytes] INTEGER,\n",
      "    [UnitPrice] NUMERIC(10,2)  NOT NULL,\n",
      "    CONSTRAINT [PK_Track] PRIMARY KEY  ([TrackId]),\n",
      "    FOREIGN KEY ([AlbumId]) REFERENCES [Album] ([AlbumId]) \n",
      "\t\tON DELETE NO ACTION ON UPDATE NO ACTION,\n",
      "    FOREIGN KEY ([GenreId]) REFERENCES [Genre] ([GenreId]) \n",
      "\t\tON DELETE NO ACTION ON UPDATE NO ACTION,\n",
      "    FOREIGN KEY ([MediaTypeId]) REFERENCES [MediaType] ([MediaTypeId]) \n",
      "\t\tON DELETE NO ACTION ON UPDATE NO ACTION\n",
      ")\n",
      "Adding ddl: CREATE INDEX [IFK_AlbumArtistId] ON [Album] ([ArtistId])\n",
      "Adding ddl: CREATE INDEX [IFK_CustomerSupportRepId] ON [Customer] ([SupportRepId])\n",
      "Adding ddl: CREATE INDEX [IFK_EmployeeReportsTo] ON [Employee] ([ReportsTo])\n",
      "Adding ddl: CREATE INDEX [IFK_InvoiceCustomerId] ON [Invoice] ([CustomerId])\n",
      "Adding ddl: CREATE INDEX [IFK_InvoiceLineInvoiceId] ON [InvoiceLine] ([InvoiceId])\n",
      "Adding ddl: CREATE INDEX [IFK_InvoiceLineTrackId] ON [InvoiceLine] ([TrackId])\n",
      "Adding ddl: CREATE INDEX [IFK_PlaylistTrackTrackId] ON [PlaylistTrack] ([TrackId])\n",
      "Adding ddl: CREATE INDEX [IFK_TrackAlbumId] ON [Track] ([AlbumId])\n",
      "Adding ddl: CREATE INDEX [IFK_TrackGenreId] ON [Track] ([GenreId])\n",
      "Adding ddl: CREATE INDEX [IFK_TrackMediaTypeId] ON [Track] ([MediaTypeId])\n"
     ]
    }
   ],
   "source": [
    "for ddl in df_ddl['sql'].to_list():\n",
    "  vn.train(ddl=ddl)"
   ]
  },
  {
   "cell_type": "code",
   "execution_count": 15,
   "id": "1d863014-2fd0-466f-96a0-280acf155602",
   "metadata": {},
   "outputs": [],
   "source": [
    "new_table_name = \"t_person\""
   ]
  },
  {
   "cell_type": "code",
   "execution_count": 16,
   "id": "1a890234-c339-4e8b-9122-cfdd2c0312f5",
   "metadata": {},
   "outputs": [
    {
     "name": "stdout",
     "output_type": "stream",
     "text": [
      "Adding ddl: \n",
      "    CREATE TABLE IF NOT EXISTS t_person (\n",
      "        id INT PRIMARY KEY,\n",
      "        name VARCHAR(100),\n",
      "        email text,\n",
      "        age INT\n",
      "    )\n",
      "\n"
     ]
    },
    {
     "data": {
      "text/plain": [
       "'a4e8be30-d5dd-5a8a-aa99-64c74783e17d-ddl'"
      ]
     },
     "execution_count": 16,
     "metadata": {},
     "output_type": "execute_result"
    }
   ],
   "source": [
    "# The following are methods for adding training data. Make sure you modify the examples to match your database.\n",
    "\n",
    "# DDL statements are powerful because they specify table names, colume names, types, and potentially relationships\n",
    "\n",
    "vn.train(ddl=f\"\"\"\n",
    "    CREATE TABLE IF NOT EXISTS {new_table_name} (\n",
    "        id INT PRIMARY KEY,\n",
    "        name VARCHAR(100),\n",
    "        email text,\n",
    "        age INT\n",
    "    )\n",
    "\"\"\")"
   ]
  },
  {
   "cell_type": "code",
   "execution_count": 17,
   "id": "dbad2503-721d-4259-a6b9-9b58800cdea2",
   "metadata": {},
   "outputs": [
    {
     "name": "stdout",
     "output_type": "stream",
     "text": [
      "Adding documentation....\n"
     ]
    },
    {
     "data": {
      "text/plain": [
       "'51cf1d6d-7637-5b87-b9e7-31c577fbde59-doc'"
      ]
     },
     "execution_count": 17,
     "metadata": {},
     "output_type": "execute_result"
    }
   ],
   "source": [
    "# Sometimes you may want to add documentation about your business terminology or definitions.\n",
    "vn.train(documentation=\"Our business defines OTIF score as the percentage of orders that are delivered on time and in full\")"
   ]
  },
  {
   "cell_type": "code",
   "execution_count": 18,
   "id": "71bfc22f-1e5c-4537-899c-ce832e4fdc5c",
   "metadata": {},
   "outputs": [
    {
     "name": "stdout",
     "output_type": "stream",
     "text": [
      "Using model gpt-3.5-turbo for 65.0 tokens (approx)\n",
      "Question generated with sql: What are the details of the person with the name 'John Doe'? \n",
      "Adding SQL...\n"
     ]
    },
    {
     "data": {
      "text/plain": [
       "'56e5fd8c-22c4-5137-a55c-e4daa88eed15-sql'"
      ]
     },
     "execution_count": 18,
     "metadata": {},
     "output_type": "execute_result"
    }
   ],
   "source": [
    "# You can also add SQL queries to your training data. This is useful if you have some queries already laying around. You can just copy and paste those from your editor to begin generating new SQL.\n",
    "vn.train(sql=f\"SELECT * FROM {new_table_name} WHERE name = 'John Doe'\")"
   ]
  },
  {
   "cell_type": "code",
   "execution_count": 19,
   "id": "59fcb3b1-4434-583d-82be-ed8e9b04d699",
   "metadata": {
    "scrolled": true
   },
   "outputs": [
    {
     "data": {
      "text/html": [
       "<div>\n",
       "<style scoped>\n",
       "    .dataframe tbody tr th:only-of-type {\n",
       "        vertical-align: middle;\n",
       "    }\n",
       "\n",
       "    .dataframe tbody tr th {\n",
       "        vertical-align: top;\n",
       "    }\n",
       "\n",
       "    .dataframe thead th {\n",
       "        text-align: right;\n",
       "    }\n",
       "</style>\n",
       "<table border=\"1\" class=\"dataframe\">\n",
       "  <thead>\n",
       "    <tr style=\"text-align: right;\">\n",
       "      <th></th>\n",
       "      <th>id</th>\n",
       "      <th>question</th>\n",
       "      <th>content</th>\n",
       "      <th>training_data_type</th>\n",
       "    </tr>\n",
       "  </thead>\n",
       "  <tbody>\n",
       "    <tr>\n",
       "      <th>0</th>\n",
       "      <td>56e5fd8c-22c4-5137-a55c-e4daa88eed15-sql</td>\n",
       "      <td>What are the details of the person with the na...</td>\n",
       "      <td>SELECT * FROM t_person WHERE name = 'John Doe'</td>\n",
       "      <td>sql</td>\n",
       "    </tr>\n",
       "    <tr>\n",
       "      <th>0</th>\n",
       "      <td>044ba63a-a15d-5339-b4f1-950e93c541be-ddl</td>\n",
       "      <td>None</td>\n",
       "      <td>CREATE TABLE [Invoice]\\n(\\n    [InvoiceId] INT...</td>\n",
       "      <td>ddl</td>\n",
       "    </tr>\n",
       "    <tr>\n",
       "      <th>1</th>\n",
       "      <td>291a67cf-a386-5e8a-b858-dee5a9060a31-ddl</td>\n",
       "      <td>None</td>\n",
       "      <td>CREATE TABLE [Artist]\\n(\\n    [ArtistId] INTEG...</td>\n",
       "      <td>ddl</td>\n",
       "    </tr>\n",
       "    <tr>\n",
       "      <th>2</th>\n",
       "      <td>3337d9c1-6447-541d-b8d3-9a90f3f85fc8-ddl</td>\n",
       "      <td>None</td>\n",
       "      <td>CREATE INDEX [IFK_AlbumArtistId] ON [Album] ([...</td>\n",
       "      <td>ddl</td>\n",
       "    </tr>\n",
       "    <tr>\n",
       "      <th>3</th>\n",
       "      <td>344578ab-d80f-52d4-976e-78a3e54d3c6d-ddl</td>\n",
       "      <td>None</td>\n",
       "      <td>CREATE TABLE [Employee]\\n(\\n    [EmployeeId] I...</td>\n",
       "      <td>ddl</td>\n",
       "    </tr>\n",
       "    <tr>\n",
       "      <th>4</th>\n",
       "      <td>3858dfec-459a-53b5-afc9-8d854748161f-ddl</td>\n",
       "      <td>None</td>\n",
       "      <td>CREATE TABLE [MediaType]\\n(\\n    [MediaTypeId]...</td>\n",
       "      <td>ddl</td>\n",
       "    </tr>\n",
       "    <tr>\n",
       "      <th>5</th>\n",
       "      <td>52c8d5a3-d118-50af-bb23-2cd719fc02d2-ddl</td>\n",
       "      <td>None</td>\n",
       "      <td>CREATE INDEX [IFK_TrackMediaTypeId] ON [Track]...</td>\n",
       "      <td>ddl</td>\n",
       "    </tr>\n",
       "    <tr>\n",
       "      <th>6</th>\n",
       "      <td>5665d55f-7b6d-5d98-8e43-6653428695fa-ddl</td>\n",
       "      <td>None</td>\n",
       "      <td>CREATE TABLE [Album]\\n(\\n    [AlbumId] INTEGER...</td>\n",
       "      <td>ddl</td>\n",
       "    </tr>\n",
       "    <tr>\n",
       "      <th>7</th>\n",
       "      <td>5793b49d-25f0-56ac-8557-45389b6ad864-ddl</td>\n",
       "      <td>None</td>\n",
       "      <td>CREATE TABLE [InvoiceLine]\\n(\\n    [InvoiceLin...</td>\n",
       "      <td>ddl</td>\n",
       "    </tr>\n",
       "    <tr>\n",
       "      <th>8</th>\n",
       "      <td>58b2d5f7-d7a5-5c6c-8708-7eb383fabb4c-ddl</td>\n",
       "      <td>None</td>\n",
       "      <td>CREATE INDEX [IFK_PlaylistTrackTrackId] ON [Pl...</td>\n",
       "      <td>ddl</td>\n",
       "    </tr>\n",
       "    <tr>\n",
       "      <th>9</th>\n",
       "      <td>73b20f77-f874-5c2d-bf6f-94a43bdf5664-ddl</td>\n",
       "      <td>None</td>\n",
       "      <td>CREATE TABLE [PlaylistTrack]\\n(\\n    [Playlist...</td>\n",
       "      <td>ddl</td>\n",
       "    </tr>\n",
       "    <tr>\n",
       "      <th>10</th>\n",
       "      <td>7bd3c98d-b531-567d-b9c1-693c7cbbd5e3-ddl</td>\n",
       "      <td>None</td>\n",
       "      <td>CREATE TABLE [Genre]\\n(\\n    [GenreId] INTEGER...</td>\n",
       "      <td>ddl</td>\n",
       "    </tr>\n",
       "    <tr>\n",
       "      <th>11</th>\n",
       "      <td>898268bb-3aa1-5c1d-ab43-56a338bdef6f-ddl</td>\n",
       "      <td>None</td>\n",
       "      <td>CREATE TABLE [Customer]\\n(\\n    [CustomerId] I...</td>\n",
       "      <td>ddl</td>\n",
       "    </tr>\n",
       "    <tr>\n",
       "      <th>12</th>\n",
       "      <td>8dfd08d5-7eff-5b94-bb42-9a14d6a6501e-ddl</td>\n",
       "      <td>None</td>\n",
       "      <td>CREATE INDEX [IFK_InvoiceCustomerId] ON [Invoi...</td>\n",
       "      <td>ddl</td>\n",
       "    </tr>\n",
       "    <tr>\n",
       "      <th>13</th>\n",
       "      <td>93c72821-a041-5508-a9fc-ce75311da7fd-ddl</td>\n",
       "      <td>None</td>\n",
       "      <td>CREATE INDEX [IFK_CustomerSupportRepId] ON [Cu...</td>\n",
       "      <td>ddl</td>\n",
       "    </tr>\n",
       "    <tr>\n",
       "      <th>14</th>\n",
       "      <td>9444acf2-6428-5e3c-8ab1-24f92477e88e-ddl</td>\n",
       "      <td>None</td>\n",
       "      <td>CREATE TABLE [Playlist]\\n(\\n    [PlaylistId] I...</td>\n",
       "      <td>ddl</td>\n",
       "    </tr>\n",
       "    <tr>\n",
       "      <th>15</th>\n",
       "      <td>9ece6fd1-fa46-5372-b62e-cdffecc05ec3-ddl</td>\n",
       "      <td>None</td>\n",
       "      <td>CREATE INDEX [IFK_InvoiceLineInvoiceId] ON [In...</td>\n",
       "      <td>ddl</td>\n",
       "    </tr>\n",
       "    <tr>\n",
       "      <th>16</th>\n",
       "      <td>a4e8be30-d5dd-5a8a-aa99-64c74783e17d-ddl</td>\n",
       "      <td>None</td>\n",
       "      <td>\\n    CREATE TABLE IF NOT EXISTS t_person (\\n ...</td>\n",
       "      <td>ddl</td>\n",
       "    </tr>\n",
       "    <tr>\n",
       "      <th>17</th>\n",
       "      <td>a7b444d3-8364-5e23-bafc-3baabf6cb81e-ddl</td>\n",
       "      <td>None</td>\n",
       "      <td>CREATE INDEX [IFK_TrackAlbumId] ON [Track] ([A...</td>\n",
       "      <td>ddl</td>\n",
       "    </tr>\n",
       "    <tr>\n",
       "      <th>18</th>\n",
       "      <td>b1fd0669-8857-586b-a285-a7b64d74ad60-ddl</td>\n",
       "      <td>None</td>\n",
       "      <td>CREATE INDEX [IFK_EmployeeReportsTo] ON [Emplo...</td>\n",
       "      <td>ddl</td>\n",
       "    </tr>\n",
       "    <tr>\n",
       "      <th>19</th>\n",
       "      <td>bec00095-80eb-5b53-ba91-f82738314c17-ddl</td>\n",
       "      <td>None</td>\n",
       "      <td>CREATE INDEX [IFK_TrackGenreId] ON [Track] ([G...</td>\n",
       "      <td>ddl</td>\n",
       "    </tr>\n",
       "    <tr>\n",
       "      <th>20</th>\n",
       "      <td>cc32717f-78e3-5bea-a82e-de699b7a1d47-ddl</td>\n",
       "      <td>None</td>\n",
       "      <td>CREATE INDEX [IFK_InvoiceLineTrackId] ON [Invo...</td>\n",
       "      <td>ddl</td>\n",
       "    </tr>\n",
       "    <tr>\n",
       "      <th>21</th>\n",
       "      <td>e6de8429-fd12-5c09-9c76-7725ddda2664-ddl</td>\n",
       "      <td>None</td>\n",
       "      <td>CREATE TABLE [Track]\\n(\\n    [TrackId] INTEGER...</td>\n",
       "      <td>ddl</td>\n",
       "    </tr>\n",
       "    <tr>\n",
       "      <th>0</th>\n",
       "      <td>51cf1d6d-7637-5b87-b9e7-31c577fbde59-doc</td>\n",
       "      <td>None</td>\n",
       "      <td>Our business defines OTIF score as the percent...</td>\n",
       "      <td>documentation</td>\n",
       "    </tr>\n",
       "  </tbody>\n",
       "</table>\n",
       "</div>"
      ],
      "text/plain": [
       "                                          id  \\\n",
       "0   56e5fd8c-22c4-5137-a55c-e4daa88eed15-sql   \n",
       "0   044ba63a-a15d-5339-b4f1-950e93c541be-ddl   \n",
       "1   291a67cf-a386-5e8a-b858-dee5a9060a31-ddl   \n",
       "2   3337d9c1-6447-541d-b8d3-9a90f3f85fc8-ddl   \n",
       "3   344578ab-d80f-52d4-976e-78a3e54d3c6d-ddl   \n",
       "4   3858dfec-459a-53b5-afc9-8d854748161f-ddl   \n",
       "5   52c8d5a3-d118-50af-bb23-2cd719fc02d2-ddl   \n",
       "6   5665d55f-7b6d-5d98-8e43-6653428695fa-ddl   \n",
       "7   5793b49d-25f0-56ac-8557-45389b6ad864-ddl   \n",
       "8   58b2d5f7-d7a5-5c6c-8708-7eb383fabb4c-ddl   \n",
       "9   73b20f77-f874-5c2d-bf6f-94a43bdf5664-ddl   \n",
       "10  7bd3c98d-b531-567d-b9c1-693c7cbbd5e3-ddl   \n",
       "11  898268bb-3aa1-5c1d-ab43-56a338bdef6f-ddl   \n",
       "12  8dfd08d5-7eff-5b94-bb42-9a14d6a6501e-ddl   \n",
       "13  93c72821-a041-5508-a9fc-ce75311da7fd-ddl   \n",
       "14  9444acf2-6428-5e3c-8ab1-24f92477e88e-ddl   \n",
       "15  9ece6fd1-fa46-5372-b62e-cdffecc05ec3-ddl   \n",
       "16  a4e8be30-d5dd-5a8a-aa99-64c74783e17d-ddl   \n",
       "17  a7b444d3-8364-5e23-bafc-3baabf6cb81e-ddl   \n",
       "18  b1fd0669-8857-586b-a285-a7b64d74ad60-ddl   \n",
       "19  bec00095-80eb-5b53-ba91-f82738314c17-ddl   \n",
       "20  cc32717f-78e3-5bea-a82e-de699b7a1d47-ddl   \n",
       "21  e6de8429-fd12-5c09-9c76-7725ddda2664-ddl   \n",
       "0   51cf1d6d-7637-5b87-b9e7-31c577fbde59-doc   \n",
       "\n",
       "                                             question  \\\n",
       "0   What are the details of the person with the na...   \n",
       "0                                                None   \n",
       "1                                                None   \n",
       "2                                                None   \n",
       "3                                                None   \n",
       "4                                                None   \n",
       "5                                                None   \n",
       "6                                                None   \n",
       "7                                                None   \n",
       "8                                                None   \n",
       "9                                                None   \n",
       "10                                               None   \n",
       "11                                               None   \n",
       "12                                               None   \n",
       "13                                               None   \n",
       "14                                               None   \n",
       "15                                               None   \n",
       "16                                               None   \n",
       "17                                               None   \n",
       "18                                               None   \n",
       "19                                               None   \n",
       "20                                               None   \n",
       "21                                               None   \n",
       "0                                                None   \n",
       "\n",
       "                                              content training_data_type  \n",
       "0      SELECT * FROM t_person WHERE name = 'John Doe'                sql  \n",
       "0   CREATE TABLE [Invoice]\\n(\\n    [InvoiceId] INT...                ddl  \n",
       "1   CREATE TABLE [Artist]\\n(\\n    [ArtistId] INTEG...                ddl  \n",
       "2   CREATE INDEX [IFK_AlbumArtistId] ON [Album] ([...                ddl  \n",
       "3   CREATE TABLE [Employee]\\n(\\n    [EmployeeId] I...                ddl  \n",
       "4   CREATE TABLE [MediaType]\\n(\\n    [MediaTypeId]...                ddl  \n",
       "5   CREATE INDEX [IFK_TrackMediaTypeId] ON [Track]...                ddl  \n",
       "6   CREATE TABLE [Album]\\n(\\n    [AlbumId] INTEGER...                ddl  \n",
       "7   CREATE TABLE [InvoiceLine]\\n(\\n    [InvoiceLin...                ddl  \n",
       "8   CREATE INDEX [IFK_PlaylistTrackTrackId] ON [Pl...                ddl  \n",
       "9   CREATE TABLE [PlaylistTrack]\\n(\\n    [Playlist...                ddl  \n",
       "10  CREATE TABLE [Genre]\\n(\\n    [GenreId] INTEGER...                ddl  \n",
       "11  CREATE TABLE [Customer]\\n(\\n    [CustomerId] I...                ddl  \n",
       "12  CREATE INDEX [IFK_InvoiceCustomerId] ON [Invoi...                ddl  \n",
       "13  CREATE INDEX [IFK_CustomerSupportRepId] ON [Cu...                ddl  \n",
       "14  CREATE TABLE [Playlist]\\n(\\n    [PlaylistId] I...                ddl  \n",
       "15  CREATE INDEX [IFK_InvoiceLineInvoiceId] ON [In...                ddl  \n",
       "16  \\n    CREATE TABLE IF NOT EXISTS t_person (\\n ...                ddl  \n",
       "17  CREATE INDEX [IFK_TrackAlbumId] ON [Track] ([A...                ddl  \n",
       "18  CREATE INDEX [IFK_EmployeeReportsTo] ON [Emplo...                ddl  \n",
       "19  CREATE INDEX [IFK_TrackGenreId] ON [Track] ([G...                ddl  \n",
       "20  CREATE INDEX [IFK_InvoiceLineTrackId] ON [Invo...                ddl  \n",
       "21  CREATE TABLE [Track]\\n(\\n    [TrackId] INTEGER...                ddl  \n",
       "0   Our business defines OTIF score as the percent...      documentation  "
      ]
     },
     "execution_count": 19,
     "metadata": {},
     "output_type": "execute_result"
    }
   ],
   "source": [
    "# At any time you can inspect what training data the package is able to reference\n",
    "training_data = vn.get_training_data()\n",
    "training_data"
   ]
  },
  {
   "cell_type": "raw",
   "id": "b7bc00e3-98f8-48ac-8deb-f6eec86ab345",
   "metadata": {},
   "source": [
    "# You can remove training data if there's obsolete/incorrect information. \n",
    "vn.remove_training_data(id='ed865ea2-4448-5f8f-a669-71763628bebc-sql')"
   ]
  },
  {
   "cell_type": "raw",
   "id": "8416a975-0555-4e5c-8af1-7d04dbe2a39d",
   "metadata": {
    "scrolled": true
   },
   "source": [
    "# At any time you can inspect what training data the package is able to reference\n",
    "training_data = vn.get_training_data()\n",
    "training_data\n",
    "# removed !"
   ]
  },
  {
   "cell_type": "markdown",
   "id": "bf2fc121-a3ab-5a2e-95b0-383271e82d5f",
   "metadata": {},
   "source": [
    "## Asking the AI\n",
    "Whenever you ask a new question, it will find the 10 most relevant pieces of training data and use it as part of the LLM prompt to generate the SQL."
   ]
  },
  {
   "cell_type": "code",
   "execution_count": 20,
   "id": "edb6679e-a102-5efc-b890-81babca8f500",
   "metadata": {
    "scrolled": true
   },
   "outputs": [
    {
     "name": "stderr",
     "output_type": "stream",
     "text": [
      "Number of requested results 10 is greater than number of elements in index 1, updating n_results = 1\n",
      "Number of requested results 10 is greater than number of elements in index 1, updating n_results = 1\n"
     ]
    },
    {
     "name": "stdout",
     "output_type": "stream",
     "text": [
      "[{'role': 'system', 'content': \"You are a SQLite expert. Please help to generate a SQL query to answer the question. Your response should ONLY be based on the given context and follow the response guidelines and format instructions. \\n===Tables \\nCREATE TABLE [Playlist]\\n(\\n    [PlaylistId] INTEGER  NOT NULL,\\n    [Name] NVARCHAR(120),\\n    CONSTRAINT [PK_Playlist] PRIMARY KEY  ([PlaylistId])\\n)\\n\\n\\n    CREATE TABLE IF NOT EXISTS t_person (\\n        id INT PRIMARY KEY,\\n        name VARCHAR(100),\\n        email text,\\n        age INT\\n    )\\n\\n\\nCREATE TABLE [Artist]\\n(\\n    [ArtistId] INTEGER  NOT NULL,\\n    [Name] NVARCHAR(120),\\n    CONSTRAINT [PK_Artist] PRIMARY KEY  ([ArtistId])\\n)\\n\\nCREATE TABLE [PlaylistTrack]\\n(\\n    [PlaylistId] INTEGER  NOT NULL,\\n    [TrackId] INTEGER  NOT NULL,\\n    CONSTRAINT [PK_PlaylistTrack] PRIMARY KEY  ([PlaylistId], [TrackId]),\\n    FOREIGN KEY ([PlaylistId]) REFERENCES [Playlist] ([PlaylistId]) \\n\\t\\tON DELETE NO ACTION ON UPDATE NO ACTION,\\n    FOREIGN KEY ([TrackId]) REFERENCES [Track] ([TrackId]) \\n\\t\\tON DELETE NO ACTION ON UPDATE NO ACTION\\n)\\n\\nCREATE TABLE [MediaType]\\n(\\n    [MediaTypeId] INTEGER  NOT NULL,\\n    [Name] NVARCHAR(120),\\n    CONSTRAINT [PK_MediaType] PRIMARY KEY  ([MediaTypeId])\\n)\\n\\nCREATE TABLE [Album]\\n(\\n    [AlbumId] INTEGER  NOT NULL,\\n    [Title] NVARCHAR(160)  NOT NULL,\\n    [ArtistId] INTEGER  NOT NULL,\\n    CONSTRAINT [PK_Album] PRIMARY KEY  ([AlbumId]),\\n    FOREIGN KEY ([ArtistId]) REFERENCES [Artist] ([ArtistId]) \\n\\t\\tON DELETE NO ACTION ON UPDATE NO ACTION\\n)\\n\\nCREATE TABLE [Genre]\\n(\\n    [GenreId] INTEGER  NOT NULL,\\n    [Name] NVARCHAR(120),\\n    CONSTRAINT [PK_Genre] PRIMARY KEY  ([GenreId])\\n)\\n\\nCREATE TABLE [InvoiceLine]\\n(\\n    [InvoiceLineId] INTEGER  NOT NULL,\\n    [InvoiceId] INTEGER  NOT NULL,\\n    [TrackId] INTEGER  NOT NULL,\\n    [UnitPrice] NUMERIC(10,2)  NOT NULL,\\n    [Quantity] INTEGER  NOT NULL,\\n    CONSTRAINT [PK_InvoiceLine] PRIMARY KEY  ([InvoiceLineId]),\\n    FOREIGN KEY ([InvoiceId]) REFERENCES [Invoice] ([InvoiceId]) \\n\\t\\tON DELETE NO ACTION ON UPDATE NO ACTION,\\n    FOREIGN KEY ([TrackId]) REFERENCES [Track] ([TrackId]) \\n\\t\\tON DELETE NO ACTION ON UPDATE NO ACTION\\n)\\n\\nCREATE TABLE [Invoice]\\n(\\n    [InvoiceId] INTEGER  NOT NULL,\\n    [CustomerId] INTEGER  NOT NULL,\\n    [InvoiceDate] DATETIME  NOT NULL,\\n    [BillingAddress] NVARCHAR(70),\\n    [BillingCity] NVARCHAR(40),\\n    [BillingState] NVARCHAR(40),\\n    [BillingCountry] NVARCHAR(40),\\n    [BillingPostalCode] NVARCHAR(10),\\n    [Total] NUMERIC(10,2)  NOT NULL,\\n    CONSTRAINT [PK_Invoice] PRIMARY KEY  ([InvoiceId]),\\n    FOREIGN KEY ([CustomerId]) REFERENCES [Customer] ([CustomerId]) \\n\\t\\tON DELETE NO ACTION ON UPDATE NO ACTION\\n)\\n\\nCREATE TABLE [Track]\\n(\\n    [TrackId] INTEGER  NOT NULL,\\n    [Name] NVARCHAR(200)  NOT NULL,\\n    [AlbumId] INTEGER,\\n    [MediaTypeId] INTEGER  NOT NULL,\\n    [GenreId] INTEGER,\\n    [Composer] NVARCHAR(220),\\n    [Milliseconds] INTEGER  NOT NULL,\\n    [Bytes] INTEGER,\\n    [UnitPrice] NUMERIC(10,2)  NOT NULL,\\n    CONSTRAINT [PK_Track] PRIMARY KEY  ([TrackId]),\\n    FOREIGN KEY ([AlbumId]) REFERENCES [Album] ([AlbumId]) \\n\\t\\tON DELETE NO ACTION ON UPDATE NO ACTION,\\n    FOREIGN KEY ([GenreId]) REFERENCES [Genre] ([GenreId]) \\n\\t\\tON DELETE NO ACTION ON UPDATE NO ACTION,\\n    FOREIGN KEY ([MediaTypeId]) REFERENCES [MediaType] ([MediaTypeId]) \\n\\t\\tON DELETE NO ACTION ON UPDATE NO ACTION\\n)\\n\\n\\n===Additional Context \\n\\nOur business defines OTIF score as the percentage of orders that are delivered on time and in full\\n\\n===Response Guidelines \\n1. If the provided context is sufficient, please generate a valid SQL query without any explanations for the question. \\n2. If the provided context is almost sufficient but requires knowledge of a specific string in a particular column, please generate an intermediate SQL query to find the distinct strings in that column. Prepend the query with a comment saying intermediate_sql \\n3. If the provided context is insufficient, please explain why it can't be generated. \\n4. Please use the most relevant table(s). \\n5. If the question has been asked and answered before, please repeat the answer exactly as it was given before. \\n\"}, {'role': 'user', 'content': \"What are the details of the person with the name 'John Doe'?\"}, {'role': 'assistant', 'content': \"SELECT * FROM t_person WHERE name = 'John Doe'\"}, {'role': 'user', 'content': 'Show me a list of tables in the SQLite database'}]\n",
      "Using model gpt-3.5-turbo for 1054.5 tokens (approx)\n",
      "This question can't be answered with the given database schema as SQLite does not store the list of tables in a system table that can be queried directly.\n",
      "This question can't be answered with the given database schema as SQLite does not store the list of tables in a system table that can be queried directly.\n",
      "Couldn't run sql:  Execution failed on sql 'This question can't be answered with the given database schema as SQLite does not store the list of tables in a system table that can be queried directly.': near \"This\": syntax error\n"
     ]
    }
   ],
   "source": [
    "vn.ask(question=\"Show me a list of tables in the SQLite database\")"
   ]
  },
  {
   "cell_type": "code",
   "execution_count": 21,
   "id": "9aff398b-622e-41e5-86eb-3b3bd5fdc19c",
   "metadata": {},
   "outputs": [
    {
     "name": "stderr",
     "output_type": "stream",
     "text": [
      "Number of requested results 10 is greater than number of elements in index 1, updating n_results = 1\n",
      "Number of requested results 10 is greater than number of elements in index 1, updating n_results = 1\n"
     ]
    },
    {
     "name": "stdout",
     "output_type": "stream",
     "text": [
      "[{'role': 'system', 'content': \"You are a SQLite expert. Please help to generate a SQL query to answer the question. Your response should ONLY be based on the given context and follow the response guidelines and format instructions. \\n===Tables \\nCREATE TABLE [Invoice]\\n(\\n    [InvoiceId] INTEGER  NOT NULL,\\n    [CustomerId] INTEGER  NOT NULL,\\n    [InvoiceDate] DATETIME  NOT NULL,\\n    [BillingAddress] NVARCHAR(70),\\n    [BillingCity] NVARCHAR(40),\\n    [BillingState] NVARCHAR(40),\\n    [BillingCountry] NVARCHAR(40),\\n    [BillingPostalCode] NVARCHAR(10),\\n    [Total] NUMERIC(10,2)  NOT NULL,\\n    CONSTRAINT [PK_Invoice] PRIMARY KEY  ([InvoiceId]),\\n    FOREIGN KEY ([CustomerId]) REFERENCES [Customer] ([CustomerId]) \\n\\t\\tON DELETE NO ACTION ON UPDATE NO ACTION\\n)\\n\\nCREATE TABLE [Customer]\\n(\\n    [CustomerId] INTEGER  NOT NULL,\\n    [FirstName] NVARCHAR(40)  NOT NULL,\\n    [LastName] NVARCHAR(20)  NOT NULL,\\n    [Company] NVARCHAR(80),\\n    [Address] NVARCHAR(70),\\n    [City] NVARCHAR(40),\\n    [State] NVARCHAR(40),\\n    [Country] NVARCHAR(40),\\n    [PostalCode] NVARCHAR(10),\\n    [Phone] NVARCHAR(24),\\n    [Fax] NVARCHAR(24),\\n    [Email] NVARCHAR(60)  NOT NULL,\\n    [SupportRepId] INTEGER,\\n    CONSTRAINT [PK_Customer] PRIMARY KEY  ([CustomerId]),\\n    FOREIGN KEY ([SupportRepId]) REFERENCES [Employee] ([EmployeeId]) \\n\\t\\tON DELETE NO ACTION ON UPDATE NO ACTION\\n)\\n\\n\\n    CREATE TABLE IF NOT EXISTS t_person (\\n        id INT PRIMARY KEY,\\n        name VARCHAR(100),\\n        email text,\\n        age INT\\n    )\\n\\n\\nCREATE TABLE [InvoiceLine]\\n(\\n    [InvoiceLineId] INTEGER  NOT NULL,\\n    [InvoiceId] INTEGER  NOT NULL,\\n    [TrackId] INTEGER  NOT NULL,\\n    [UnitPrice] NUMERIC(10,2)  NOT NULL,\\n    [Quantity] INTEGER  NOT NULL,\\n    CONSTRAINT [PK_InvoiceLine] PRIMARY KEY  ([InvoiceLineId]),\\n    FOREIGN KEY ([InvoiceId]) REFERENCES [Invoice] ([InvoiceId]) \\n\\t\\tON DELETE NO ACTION ON UPDATE NO ACTION,\\n    FOREIGN KEY ([TrackId]) REFERENCES [Track] ([TrackId]) \\n\\t\\tON DELETE NO ACTION ON UPDATE NO ACTION\\n)\\n\\nCREATE TABLE [Employee]\\n(\\n    [EmployeeId] INTEGER  NOT NULL,\\n    [LastName] NVARCHAR(20)  NOT NULL,\\n    [FirstName] NVARCHAR(20)  NOT NULL,\\n    [Title] NVARCHAR(30),\\n    [ReportsTo] INTEGER,\\n    [BirthDate] DATETIME,\\n    [HireDate] DATETIME,\\n    [Address] NVARCHAR(70),\\n    [City] NVARCHAR(40),\\n    [State] NVARCHAR(40),\\n    [Country] NVARCHAR(40),\\n    [PostalCode] NVARCHAR(10),\\n    [Phone] NVARCHAR(24),\\n    [Fax] NVARCHAR(24),\\n    [Email] NVARCHAR(60),\\n    CONSTRAINT [PK_Employee] PRIMARY KEY  ([EmployeeId]),\\n    FOREIGN KEY ([ReportsTo]) REFERENCES [Employee] ([EmployeeId]) \\n\\t\\tON DELETE NO ACTION ON UPDATE NO ACTION\\n)\\n\\nCREATE TABLE [Album]\\n(\\n    [AlbumId] INTEGER  NOT NULL,\\n    [Title] NVARCHAR(160)  NOT NULL,\\n    [ArtistId] INTEGER  NOT NULL,\\n    CONSTRAINT [PK_Album] PRIMARY KEY  ([AlbumId]),\\n    FOREIGN KEY ([ArtistId]) REFERENCES [Artist] ([ArtistId]) \\n\\t\\tON DELETE NO ACTION ON UPDATE NO ACTION\\n)\\n\\nCREATE INDEX [IFK_InvoiceCustomerId] ON [Invoice] ([CustomerId])\\n\\nCREATE INDEX [IFK_CustomerSupportRepId] ON [Customer] ([SupportRepId])\\n\\nCREATE TABLE [Artist]\\n(\\n    [ArtistId] INTEGER  NOT NULL,\\n    [Name] NVARCHAR(120),\\n    CONSTRAINT [PK_Artist] PRIMARY KEY  ([ArtistId])\\n)\\n\\nCREATE TABLE [Track]\\n(\\n    [TrackId] INTEGER  NOT NULL,\\n    [Name] NVARCHAR(200)  NOT NULL,\\n    [AlbumId] INTEGER,\\n    [MediaTypeId] INTEGER  NOT NULL,\\n    [GenreId] INTEGER,\\n    [Composer] NVARCHAR(220),\\n    [Milliseconds] INTEGER  NOT NULL,\\n    [Bytes] INTEGER,\\n    [UnitPrice] NUMERIC(10,2)  NOT NULL,\\n    CONSTRAINT [PK_Track] PRIMARY KEY  ([TrackId]),\\n    FOREIGN KEY ([AlbumId]) REFERENCES [Album] ([AlbumId]) \\n\\t\\tON DELETE NO ACTION ON UPDATE NO ACTION,\\n    FOREIGN KEY ([GenreId]) REFERENCES [Genre] ([GenreId]) \\n\\t\\tON DELETE NO ACTION ON UPDATE NO ACTION,\\n    FOREIGN KEY ([MediaTypeId]) REFERENCES [MediaType] ([MediaTypeId]) \\n\\t\\tON DELETE NO ACTION ON UPDATE NO ACTION\\n)\\n\\n\\n===Additional Context \\n\\nOur business defines OTIF score as the percentage of orders that are delivered on time and in full\\n\\n===Response Guidelines \\n1. If the provided context is sufficient, please generate a valid SQL query without any explanations for the question. \\n2. If the provided context is almost sufficient but requires knowledge of a specific string in a particular column, please generate an intermediate SQL query to find the distinct strings in that column. Prepend the query with a comment saying intermediate_sql \\n3. If the provided context is insufficient, please explain why it can't be generated. \\n4. Please use the most relevant table(s). \\n5. If the question has been asked and answered before, please repeat the answer exactly as it was given before. \\n\"}, {'role': 'user', 'content': \"What are the details of the person with the name 'John Doe'?\"}, {'role': 'assistant', 'content': \"SELECT * FROM t_person WHERE name = 'John Doe'\"}, {'role': 'user', 'content': 'How many records are in table called customer'}]\n",
      "Using model gpt-3.5-turbo for 1187.5 tokens (approx)\n",
      "SELECT COUNT(*) FROM Customer;\n",
      "SELECT COUNT(*) FROM Customer;\n",
      "SELECT COUNT(*) FROM Customer;\n",
      "   COUNT(*)\n",
      "0        59\n",
      "Using model gpt-3.5-turbo for 163.25 tokens (approx)\n"
     ]
    },
    {
     "data": {
      "image/png": "[encoded data removed]",
      "text/plain": [
       "<IPython.core.display.Image object>"
      ]
     },
     "metadata": {},
     "output_type": "display_data"
    },
    {
     "data": {
      "text/plain": [
       "('SELECT COUNT(*) FROM Customer;',\n",
       "    COUNT(*)\n",
       " 0        59,\n",
       " Figure({\n",
       "     'data': [{'hovertemplate': 'variable=COUNT(*)<br>index=%{x}<br>value=%{y}<extra></extra>',\n",
       "               'legendgroup': 'COUNT(*)',\n",
       "               'line': {'color': '#636efa', 'dash': 'solid'},\n",
       "               'marker': {'symbol': 'circle'},\n",
       "               'mode': 'lines',\n",
       "               'name': 'COUNT(*)',\n",
       "               'orientation': 'v',\n",
       "               'showlegend': True,\n",
       "               'type': 'scatter',\n",
       "               'x': array([0]),\n",
       "               'xaxis': 'x',\n",
       "               'y': array([59]),\n",
       "               'yaxis': 'y'}],\n",
       "     'layout': {'legend': {'title': {'text': 'variable'}, 'tracegroupgap': 0},\n",
       "                'margin': {'t': 60},\n",
       "                'template': '...',\n",
       "                'xaxis': {'anchor': 'y', 'domain': [0.0, 1.0], 'title': {'text': 'index'}},\n",
       "                'yaxis': {'anchor': 'x', 'domain': [0.0, 1.0], 'title': {'text': 'value'}}}\n",
       " }))"
      ]
     },
     "execution_count": 21,
     "metadata": {},
     "output_type": "execute_result"
    }
   ],
   "source": [
    "vn.ask(question=\"How many records are in table called customer\")"
   ]
  },
  {
   "cell_type": "code",
   "execution_count": null,
   "id": "fd27c386-dfe7-43b3-8809-8ee8d4aea647",
   "metadata": {},
   "outputs": [],
   "source": []
  },
  {
   "cell_type": "code",
   "execution_count": 22,
   "id": "37faea99-f8d0-47f7-887e-ae370cc87782",
   "metadata": {
    "scrolled": true
   },
   "outputs": [
    {
     "name": "stderr",
     "output_type": "stream",
     "text": [
      "Number of requested results 10 is greater than number of elements in index 2, updating n_results = 2\n",
      "Number of requested results 10 is greater than number of elements in index 1, updating n_results = 1\n"
     ]
    },
    {
     "name": "stdout",
     "output_type": "stream",
     "text": [
      "[{'role': 'system', 'content': \"You are a SQLite expert. Please help to generate a SQL query to answer the question. Your response should ONLY be based on the given context and follow the response guidelines and format instructions. \\n===Tables \\nCREATE TABLE [Invoice]\\n(\\n    [InvoiceId] INTEGER  NOT NULL,\\n    [CustomerId] INTEGER  NOT NULL,\\n    [InvoiceDate] DATETIME  NOT NULL,\\n    [BillingAddress] NVARCHAR(70),\\n    [BillingCity] NVARCHAR(40),\\n    [BillingState] NVARCHAR(40),\\n    [BillingCountry] NVARCHAR(40),\\n    [BillingPostalCode] NVARCHAR(10),\\n    [Total] NUMERIC(10,2)  NOT NULL,\\n    CONSTRAINT [PK_Invoice] PRIMARY KEY  ([InvoiceId]),\\n    FOREIGN KEY ([CustomerId]) REFERENCES [Customer] ([CustomerId]) \\n\\t\\tON DELETE NO ACTION ON UPDATE NO ACTION\\n)\\n\\nCREATE TABLE [Customer]\\n(\\n    [CustomerId] INTEGER  NOT NULL,\\n    [FirstName] NVARCHAR(40)  NOT NULL,\\n    [LastName] NVARCHAR(20)  NOT NULL,\\n    [Company] NVARCHAR(80),\\n    [Address] NVARCHAR(70),\\n    [City] NVARCHAR(40),\\n    [State] NVARCHAR(40),\\n    [Country] NVARCHAR(40),\\n    [PostalCode] NVARCHAR(10),\\n    [Phone] NVARCHAR(24),\\n    [Fax] NVARCHAR(24),\\n    [Email] NVARCHAR(60)  NOT NULL,\\n    [SupportRepId] INTEGER,\\n    CONSTRAINT [PK_Customer] PRIMARY KEY  ([CustomerId]),\\n    FOREIGN KEY ([SupportRepId]) REFERENCES [Employee] ([EmployeeId]) \\n\\t\\tON DELETE NO ACTION ON UPDATE NO ACTION\\n)\\n\\nCREATE TABLE [Employee]\\n(\\n    [EmployeeId] INTEGER  NOT NULL,\\n    [LastName] NVARCHAR(20)  NOT NULL,\\n    [FirstName] NVARCHAR(20)  NOT NULL,\\n    [Title] NVARCHAR(30),\\n    [ReportsTo] INTEGER,\\n    [BirthDate] DATETIME,\\n    [HireDate] DATETIME,\\n    [Address] NVARCHAR(70),\\n    [City] NVARCHAR(40),\\n    [State] NVARCHAR(40),\\n    [Country] NVARCHAR(40),\\n    [PostalCode] NVARCHAR(10),\\n    [Phone] NVARCHAR(24),\\n    [Fax] NVARCHAR(24),\\n    [Email] NVARCHAR(60),\\n    CONSTRAINT [PK_Employee] PRIMARY KEY  ([EmployeeId]),\\n    FOREIGN KEY ([ReportsTo]) REFERENCES [Employee] ([EmployeeId]) \\n\\t\\tON DELETE NO ACTION ON UPDATE NO ACTION\\n)\\n\\nCREATE TABLE [InvoiceLine]\\n(\\n    [InvoiceLineId] INTEGER  NOT NULL,\\n    [InvoiceId] INTEGER  NOT NULL,\\n    [TrackId] INTEGER  NOT NULL,\\n    [UnitPrice] NUMERIC(10,2)  NOT NULL,\\n    [Quantity] INTEGER  NOT NULL,\\n    CONSTRAINT [PK_InvoiceLine] PRIMARY KEY  ([InvoiceLineId]),\\n    FOREIGN KEY ([InvoiceId]) REFERENCES [Invoice] ([InvoiceId]) \\n\\t\\tON DELETE NO ACTION ON UPDATE NO ACTION,\\n    FOREIGN KEY ([TrackId]) REFERENCES [Track] ([TrackId]) \\n\\t\\tON DELETE NO ACTION ON UPDATE NO ACTION\\n)\\n\\nCREATE TABLE [MediaType]\\n(\\n    [MediaTypeId] INTEGER  NOT NULL,\\n    [Name] NVARCHAR(120),\\n    CONSTRAINT [PK_MediaType] PRIMARY KEY  ([MediaTypeId])\\n)\\n\\nCREATE INDEX [IFK_CustomerSupportRepId] ON [Customer] ([SupportRepId])\\n\\nCREATE INDEX [IFK_InvoiceCustomerId] ON [Invoice] ([CustomerId])\\n\\nCREATE TABLE [Playlist]\\n(\\n    [PlaylistId] INTEGER  NOT NULL,\\n    [Name] NVARCHAR(120),\\n    CONSTRAINT [PK_Playlist] PRIMARY KEY  ([PlaylistId])\\n)\\n\\nCREATE TABLE [Track]\\n(\\n    [TrackId] INTEGER  NOT NULL,\\n    [Name] NVARCHAR(200)  NOT NULL,\\n    [AlbumId] INTEGER,\\n    [MediaTypeId] INTEGER  NOT NULL,\\n    [GenreId] INTEGER,\\n    [Composer] NVARCHAR(220),\\n    [Milliseconds] INTEGER  NOT NULL,\\n    [Bytes] INTEGER,\\n    [UnitPrice] NUMERIC(10,2)  NOT NULL,\\n    CONSTRAINT [PK_Track] PRIMARY KEY  ([TrackId]),\\n    FOREIGN KEY ([AlbumId]) REFERENCES [Album] ([AlbumId]) \\n\\t\\tON DELETE NO ACTION ON UPDATE NO ACTION,\\n    FOREIGN KEY ([GenreId]) REFERENCES [Genre] ([GenreId]) \\n\\t\\tON DELETE NO ACTION ON UPDATE NO ACTION,\\n    FOREIGN KEY ([MediaTypeId]) REFERENCES [MediaType] ([MediaTypeId]) \\n\\t\\tON DELETE NO ACTION ON UPDATE NO ACTION\\n)\\n\\nCREATE TABLE [Album]\\n(\\n    [AlbumId] INTEGER  NOT NULL,\\n    [Title] NVARCHAR(160)  NOT NULL,\\n    [ArtistId] INTEGER  NOT NULL,\\n    CONSTRAINT [PK_Album] PRIMARY KEY  ([AlbumId]),\\n    FOREIGN KEY ([ArtistId]) REFERENCES [Artist] ([ArtistId]) \\n\\t\\tON DELETE NO ACTION ON UPDATE NO ACTION\\n)\\n\\n\\n===Additional Context \\n\\nOur business defines OTIF score as the percentage of orders that are delivered on time and in full\\n\\n===Response Guidelines \\n1. If the provided context is sufficient, please generate a valid SQL query without any explanations for the question. \\n2. If the provided context is almost sufficient but requires knowledge of a specific string in a particular column, please generate an intermediate SQL query to find the distinct strings in that column. Prepend the query with a comment saying intermediate_sql \\n3. If the provided context is insufficient, please explain why it can't be generated. \\n4. Please use the most relevant table(s). \\n5. If the question has been asked and answered before, please repeat the answer exactly as it was given before. \\n\"}, {'role': 'user', 'content': 'How many records are in table called customer'}, {'role': 'assistant', 'content': 'SELECT COUNT(*) FROM Customer;'}, {'role': 'user', 'content': \"What are the details of the person with the name 'John Doe'?\"}, {'role': 'assistant', 'content': \"SELECT * FROM t_person WHERE name = 'John Doe'\"}, {'role': 'user', 'content': 'what are the top 5 countries that customers come from?'}]\n",
      "Using model gpt-3.5-turbo for 1213.0 tokens (approx)\n",
      "SELECT BillingCountry, COUNT(CustomerId) AS CustomerCount\n",
      "FROM Invoice\n",
      "GROUP BY BillingCountry\n",
      "ORDER BY CustomerCount DESC\n",
      "LIMIT 5;\n",
      "SELECT BillingCountry, COUNT(CustomerId) AS CustomerCount\n",
      "FROM Invoice\n",
      "GROUP BY BillingCountry\n",
      "ORDER BY CustomerCount DESC\n",
      "LIMIT 5;\n",
      "SELECT BillingCountry, COUNT(CustomerId) AS CustomerCount\n",
      "FROM Invoice\n",
      "GROUP BY BillingCountry\n",
      "ORDER BY CustomerCount DESC\n",
      "LIMIT 5;\n",
      "  BillingCountry  CustomerCount\n",
      "0            USA             91\n",
      "1         Canada             56\n",
      "2         France             35\n",
      "3         Brazil             35\n",
      "4        Germany             28\n",
      "Using model gpt-3.5-turbo for 198.75 tokens (approx)\n"
     ]
    },
    {
     "data": {
      "image/png": "[encoded data removed]",
      "text/plain": [
       "<IPython.core.display.Image object>"
      ]
     },
     "metadata": {},
     "output_type": "display_data"
    },
    {
     "data": {
      "text/plain": [
       "('SELECT BillingCountry, COUNT(CustomerId) AS CustomerCount\\nFROM Invoice\\nGROUP BY BillingCountry\\nORDER BY CustomerCount DESC\\nLIMIT 5;',\n",
       "   BillingCountry  CustomerCount\n",
       " 0            USA             91\n",
       " 1         Canada             56\n",
       " 2         France             35\n",
       " 3         Brazil             35\n",
       " 4        Germany             28,\n",
       " Figure({\n",
       "     'data': [{'alignmentgroup': 'True',\n",
       "               'hovertemplate': 'BillingCountry=%{x}<br>CustomerCount=%{y}<extra></extra>',\n",
       "               'legendgroup': '',\n",
       "               'marker': {'color': '#636efa', 'pattern': {'shape': ''}},\n",
       "               'name': '',\n",
       "               'offsetgroup': '',\n",
       "               'orientation': 'v',\n",
       "               'showlegend': False,\n",
       "               'textposition': 'auto',\n",
       "               'type': 'bar',\n",
       "               'x': array(['USA', 'Canada', 'France', 'Brazil', 'Germany'], dtype=object),\n",
       "               'xaxis': 'x',\n",
       "               'y': array([91, 56, 35, 35, 28]),\n",
       "               'yaxis': 'y'}],\n",
       "     'layout': {'barmode': 'relative',\n",
       "                'legend': {'tracegroupgap': 0},\n",
       "                'template': '...',\n",
       "                'title': {'text': 'Top 5 Countries by Customer Count'},\n",
       "                'xaxis': {'anchor': 'y', 'domain': [0.0, 1.0], 'title': {'text': 'BillingCountry'}},\n",
       "                'yaxis': {'anchor': 'x', 'domain': [0.0, 1.0], 'title': {'text': 'CustomerCount'}}}\n",
       " }))"
      ]
     },
     "execution_count": 22,
     "metadata": {},
     "output_type": "execute_result"
    }
   ],
   "source": [
    "vn.ask(question=\"what are the top 5 countries that customers come from?\")"
   ]
  },
  {
   "cell_type": "code",
   "execution_count": 23,
   "id": "6a4955cd-1743-4867-8e4a-7ff4be068cce",
   "metadata": {},
   "outputs": [
    {
     "name": "stderr",
     "output_type": "stream",
     "text": [
      "Number of requested results 10 is greater than number of elements in index 3, updating n_results = 3\n",
      "Number of requested results 10 is greater than number of elements in index 1, updating n_results = 1\n"
     ]
    },
    {
     "name": "stdout",
     "output_type": "stream",
     "text": [
      "[{'role': 'system', 'content': \"You are a SQLite expert. Please help to generate a SQL query to answer the question. Your response should ONLY be based on the given context and follow the response guidelines and format instructions. \\n===Tables \\nCREATE TABLE [Invoice]\\n(\\n    [InvoiceId] INTEGER  NOT NULL,\\n    [CustomerId] INTEGER  NOT NULL,\\n    [InvoiceDate] DATETIME  NOT NULL,\\n    [BillingAddress] NVARCHAR(70),\\n    [BillingCity] NVARCHAR(40),\\n    [BillingState] NVARCHAR(40),\\n    [BillingCountry] NVARCHAR(40),\\n    [BillingPostalCode] NVARCHAR(10),\\n    [Total] NUMERIC(10,2)  NOT NULL,\\n    CONSTRAINT [PK_Invoice] PRIMARY KEY  ([InvoiceId]),\\n    FOREIGN KEY ([CustomerId]) REFERENCES [Customer] ([CustomerId]) \\n\\t\\tON DELETE NO ACTION ON UPDATE NO ACTION\\n)\\n\\nCREATE INDEX [IFK_CustomerSupportRepId] ON [Customer] ([SupportRepId])\\n\\nCREATE INDEX [IFK_InvoiceCustomerId] ON [Invoice] ([CustomerId])\\n\\nCREATE TABLE [Customer]\\n(\\n    [CustomerId] INTEGER  NOT NULL,\\n    [FirstName] NVARCHAR(40)  NOT NULL,\\n    [LastName] NVARCHAR(20)  NOT NULL,\\n    [Company] NVARCHAR(80),\\n    [Address] NVARCHAR(70),\\n    [City] NVARCHAR(40),\\n    [State] NVARCHAR(40),\\n    [Country] NVARCHAR(40),\\n    [PostalCode] NVARCHAR(10),\\n    [Phone] NVARCHAR(24),\\n    [Fax] NVARCHAR(24),\\n    [Email] NVARCHAR(60)  NOT NULL,\\n    [SupportRepId] INTEGER,\\n    CONSTRAINT [PK_Customer] PRIMARY KEY  ([CustomerId]),\\n    FOREIGN KEY ([SupportRepId]) REFERENCES [Employee] ([EmployeeId]) \\n\\t\\tON DELETE NO ACTION ON UPDATE NO ACTION\\n)\\n\\nCREATE INDEX [IFK_InvoiceLineInvoiceId] ON [InvoiceLine] ([InvoiceId])\\n\\nCREATE TABLE [Employee]\\n(\\n    [EmployeeId] INTEGER  NOT NULL,\\n    [LastName] NVARCHAR(20)  NOT NULL,\\n    [FirstName] NVARCHAR(20)  NOT NULL,\\n    [Title] NVARCHAR(30),\\n    [ReportsTo] INTEGER,\\n    [BirthDate] DATETIME,\\n    [HireDate] DATETIME,\\n    [Address] NVARCHAR(70),\\n    [City] NVARCHAR(40),\\n    [State] NVARCHAR(40),\\n    [Country] NVARCHAR(40),\\n    [PostalCode] NVARCHAR(10),\\n    [Phone] NVARCHAR(24),\\n    [Fax] NVARCHAR(24),\\n    [Email] NVARCHAR(60),\\n    CONSTRAINT [PK_Employee] PRIMARY KEY  ([EmployeeId]),\\n    FOREIGN KEY ([ReportsTo]) REFERENCES [Employee] ([EmployeeId]) \\n\\t\\tON DELETE NO ACTION ON UPDATE NO ACTION\\n)\\n\\n\\n    CREATE TABLE IF NOT EXISTS t_person (\\n        id INT PRIMARY KEY,\\n        name VARCHAR(100),\\n        email text,\\n        age INT\\n    )\\n\\n\\nCREATE INDEX [IFK_EmployeeReportsTo] ON [Employee] ([ReportsTo])\\n\\nCREATE TABLE [InvoiceLine]\\n(\\n    [InvoiceLineId] INTEGER  NOT NULL,\\n    [InvoiceId] INTEGER  NOT NULL,\\n    [TrackId] INTEGER  NOT NULL,\\n    [UnitPrice] NUMERIC(10,2)  NOT NULL,\\n    [Quantity] INTEGER  NOT NULL,\\n    CONSTRAINT [PK_InvoiceLine] PRIMARY KEY  ([InvoiceLineId]),\\n    FOREIGN KEY ([InvoiceId]) REFERENCES [Invoice] ([InvoiceId]) \\n\\t\\tON DELETE NO ACTION ON UPDATE NO ACTION,\\n    FOREIGN KEY ([TrackId]) REFERENCES [Track] ([TrackId]) \\n\\t\\tON DELETE NO ACTION ON UPDATE NO ACTION\\n)\\n\\nCREATE INDEX [IFK_InvoiceLineTrackId] ON [InvoiceLine] ([TrackId])\\n\\n\\n===Additional Context \\n\\nOur business defines OTIF score as the percentage of orders that are delivered on time and in full\\n\\n===Response Guidelines \\n1. If the provided context is sufficient, please generate a valid SQL query without any explanations for the question. \\n2. If the provided context is almost sufficient but requires knowledge of a specific string in a particular column, please generate an intermediate SQL query to find the distinct strings in that column. Prepend the query with a comment saying intermediate_sql \\n3. If the provided context is insufficient, please explain why it can't be generated. \\n4. Please use the most relevant table(s). \\n5. If the question has been asked and answered before, please repeat the answer exactly as it was given before. \\n\"}, {'role': 'user', 'content': 'what are the top 5 countries that customers come from?'}, {'role': 'assistant', 'content': 'SELECT BillingCountry, COUNT(CustomerId) AS CustomerCount\\nFROM Invoice\\nGROUP BY BillingCountry\\nORDER BY CustomerCount DESC\\nLIMIT 5;'}, {'role': 'user', 'content': 'How many records are in table called customer'}, {'role': 'assistant', 'content': 'SELECT COUNT(*) FROM Customer;'}, {'role': 'user', 'content': \"What are the details of the person with the name 'John Doe'?\"}, {'role': 'assistant', 'content': \"SELECT * FROM t_person WHERE name = 'John Doe'\"}, {'role': 'user', 'content': 'what are the top 5 customers that purchased the most in last year?'}]\n",
      "Using model gpt-3.5-turbo for 1032.5 tokens (approx)\n",
      "Due to the schema provided, there is no direct information available in the tables to determine the top customers based on the total purchase amount. The \"Invoice\" table contains information about individual invoices, but there is no direct linkage to aggregate the total purchases of each customer over the last year. Additional tables or columns related to customer purchases over time would be needed to calculate the top customers based on total purchase amounts in the last year.\n",
      "Due to the schema provided, there is no direct information available in the tables to determine the top customers based on the total purchase amount. The \"Invoice\" table contains information about individual invoices, but there is no direct linkage to aggregate the total purchases of each customer over the last year. Additional tables or columns related to customer purchases over time would be needed to calculate the top customers based on total purchase amounts in the last year.\n",
      "Couldn't run sql:  Execution failed on sql 'Due to the schema provided, there is no direct information available in the tables to determine the top customers based on the total purchase amount. The \"Invoice\" table contains information about individual invoices, but there is no direct linkage to aggregate the total purchases of each customer over the last year. Additional tables or columns related to customer purchases over time would be needed to calculate the top customers based on total purchase amounts in the last year.': near \"Due\": syntax error\n"
     ]
    }
   ],
   "source": [
    "vn.ask(question=\"what are the top 5 customers that purchased the most in last year?\")"
   ]
  },
  {
   "cell_type": "markdown",
   "id": "8c49dd68-3bc6-5098-93f1-2d4d8617badb",
   "metadata": {},
   "source": [
    "## Launch the User Interface\n",
    "![vanna-flask](https://vanna.ai/blog/img/vanna-flask.gif)"
   ]
  },
  {
   "cell_type": "code",
   "execution_count": 26,
   "id": "b87d140b-ef56-5795-b489-46bb11d01459",
   "metadata": {},
   "outputs": [
    {
     "name": "stdout",
     "output_type": "stream",
     "text": [
      "Your app is running at:\n",
      "http://localhost:8084\n",
      " * Serving Flask app 'vanna.flask'\n",
      " * Debug mode: on\n"
     ]
    },
    {
     "name": "stderr",
     "output_type": "stream",
     "text": [
      "Traceback (most recent call last):\n",
      "  File \"<frozen runpy>\", line 198, in _run_module_as_main\n",
      "  File \"<frozen runpy>\", line 88, in _run_code\n",
      "  File \"/home/papagame/anaconda3/envs/vanna/lib/python3.11/site-packages/ipykernel_launcher.py\", line 18, in <module>\n",
      "    app.launch_new_instance()\n",
      "  File \"/home/papagame/anaconda3/envs/vanna/lib/python3.11/site-packages/traitlets/config/application.py\", line 1074, in launch_instance\n",
      "    app.initialize(argv)\n",
      "  File \"/home/papagame/anaconda3/envs/vanna/lib/python3.11/site-packages/traitlets/config/application.py\", line 118, in inner\n",
      "    return method(app, *args, **kwargs)\n",
      "           ^^^^^^^^^^^^^^^^^^^^^^^^^^^^\n",
      "  File \"/home/papagame/anaconda3/envs/vanna/lib/python3.11/site-packages/ipykernel/kernelapp.py\", line 692, in initialize\n",
      "    self.init_sockets()\n",
      "  File \"/home/papagame/anaconda3/envs/vanna/lib/python3.11/site-packages/ipykernel/kernelapp.py\", line 331, in init_sockets\n",
      "    self.shell_port = self._bind_socket(self.shell_socket, self.shell_port)\n",
      "                      ^^^^^^^^^^^^^^^^^^^^^^^^^^^^^^^^^^^^^^^^^^^^^^^^^^^^^\n",
      "  File \"/home/papagame/anaconda3/envs/vanna/lib/python3.11/site-packages/ipykernel/kernelapp.py\", line 253, in _bind_socket\n",
      "    return self._try_bind_socket(s, port)\n",
      "           ^^^^^^^^^^^^^^^^^^^^^^^^^^^^^^\n",
      "  File \"/home/papagame/anaconda3/envs/vanna/lib/python3.11/site-packages/ipykernel/kernelapp.py\", line 229, in _try_bind_socket\n",
      "    s.bind(\"tcp://%s:%i\" % (self.ip, port))\n",
      "  File \"/home/papagame/anaconda3/envs/vanna/lib/python3.11/site-packages/zmq/sugar/socket.py\", line 311, in bind\n",
      "    super().bind(addr)\n",
      "  File \"_zmq.py\", line 898, in zmq.backend.cython._zmq.Socket.bind\n",
      "  File \"_zmq.py\", line 160, in zmq.backend.cython._zmq._check_rc\n",
      "zmq.error.ZMQError: Address already in use (addr='tcp://127.0.0.1:34095')\n"
     ]
    },
    {
     "ename": "SystemExit",
     "evalue": "1",
     "output_type": "error",
     "traceback": [
      "An exception has occurred, use %tb to see the full traceback.\n",
      "\u001b[0;31mSystemExit\u001b[0m\u001b[0;31m:\u001b[0m 1\n"
     ]
    },
    {
     "name": "stderr",
     "output_type": "stream",
     "text": [
      "/home/papagame/anaconda3/envs/vanna/lib/python3.11/site-packages/IPython/core/interactiveshell.py:3585: UserWarning:\n",
      "\n",
      "To exit: use 'exit', 'quit', or Ctrl-D.\n",
      "\n"
     ]
    }
   ],
   "source": [
    "from vanna.flask import VannaFlaskApp\n",
    "app = VannaFlaskApp(vn)\n",
    "app.run()"
   ]
  },
  {
   "cell_type": "markdown",
   "id": "29793859-c3c8-50da-994a-c8f6348d6730",
   "metadata": {},
   "source": [
    "## Next Steps\n",
    "Using Vanna via Jupyter notebooks is great for getting started but check out additional customizable interfaces like the \n",
    "- [Streamlit app](https://github.com/vanna-ai/vanna-streamlit)\n",
    "- [Flask app](https://github.com/vanna-ai/vanna-flask)\n",
    "- [Slackbot](https://github.com/vanna-ai/vanna-slack)\n"
   ]
  }
 ],
 "metadata": {
  "kernelspec": {
   "display_name": "Python 3 (ipykernel)",
   "language": "python",
   "name": "python3"
  },
  "language_info": {
   "codemirror_mode": {
    "name": "ipython",
    "version": 3
   },
   "file_extension": ".py",
   "mimetype": "text/x-python",
   "name": "python",
   "nbconvert_exporter": "python",
   "pygments_lexer": "ipython3",
   "version": "3.11.9"
  }
 },
 "nbformat": 4,
 "nbformat_minor": 5
}
