{
 "cells": [
  {
   "cell_type": "markdown",
   "id": "7b37d147-f805-5c69-b0b6-e9d5a004ad9b",
   "metadata": {},
   "source": [
    "# Analyze CSV data files with Vanna\n",
    "\n",
    "world top companies\n",
    "- https://www.kaggle.com/datasets/patricklford/largest-companies-analysis-worldwide\n",
    "    -  https://www.kaggle.com/code/nil2012/top-company-key-metrics-analysis"
   ]
  },
  {
   "cell_type": "markdown",
   "id": "ee059407-58ac-50fa-843a-7b876328df13",
   "metadata": {},
   "source": [
    "## Setup"
   ]
  },
  {
   "cell_type": "code",
   "execution_count": 1,
   "id": "6828eded-28e6-4a9f-ad16-f1fe9e15b2fd",
   "metadata": {},
   "outputs": [
    {
     "name": "stdout",
     "output_type": "stream",
     "text": [
      "/home/gongai/projects/wgong/py4kids/lesson-18-ai/vanna/note_book/csv_source\n"
     ]
    }
   ],
   "source": [
    "!pwd"
   ]
  },
  {
   "cell_type": "raw",
   "id": "a05319c4-0be1-435c-836a-57bbf79011f9",
   "metadata": {
    "scrolled": true
   },
   "source": [
    "!pip install vanna"
   ]
  },
  {
   "cell_type": "raw",
   "id": "c3b83638-726c-4195-8337-1c9a5b0cde73",
   "metadata": {
    "scrolled": true
   },
   "source": [
    "!pip install 'vanna[chromadb]'"
   ]
  },
  {
   "cell_type": "raw",
   "id": "8c387e36-66d4-4a2a-a040-ad6cda83da2b",
   "metadata": {},
   "source": [
    "!pip install ollama"
   ]
  },
  {
   "cell_type": "code",
   "execution_count": 2,
   "id": "29dcb2fa-33cf-4110-99fd-23c459a68495",
   "metadata": {},
   "outputs": [],
   "source": [
    "from glob import glob\n",
    "import os\n",
    "import re\n",
    "from time import time\n",
    "from datetime import datetime \n",
    "\n",
    "import pandas as pd\n",
    "import sqlite3\n",
    "\n",
    "from vanna.ollama import Ollama\n",
    "from vanna.chromadb.chromadb_vector import ChromaDB_VectorStore\n",
    "from vanna.utils import snake_case\n",
    "\n",
    "import warnings\n",
    "warnings.filterwarnings('ignore', category=DeprecationWarning, message='^Number of requested results')\n",
    "# warnings.filterwarnings('ignore', category=DeprecationWarning, message=re.escape(r'^Some regex pattern'))"
   ]
  },
  {
   "cell_type": "code",
   "execution_count": 3,
   "id": "699a293a-8349-4dbc-837d-e63e24925e81",
   "metadata": {},
   "outputs": [],
   "source": [
    "class MyVanna(ChromaDB_VectorStore, Ollama):\n",
    "    def __init__(self, config=None):\n",
    "        ChromaDB_VectorStore.__init__(self, config=config)\n",
    "        Ollama.__init__(self, config=config)"
   ]
  },
  {
   "cell_type": "markdown",
   "id": "ed4594ae-3476-4899-b6d1-05479b3a1475",
   "metadata": {},
   "source": [
    "### load SQLite db with CSV data"
   ]
  },
  {
   "cell_type": "code",
   "execution_count": 4,
   "id": "8ca0b037-c00f-431e-9533-4b35908310e8",
   "metadata": {},
   "outputs": [
    {
     "name": "stdout",
     "output_type": "stream",
     "text": [
      "/home/gongai/projects/wgong/py4kids/lesson-18-ai/vanna/note_book/data/company_rank.sqlite\n"
     ]
    }
   ],
   "source": [
    "dataset = \"stock\"\n",
    "file_db_path = \"../data/company_rank.sqlite\"\n",
    "file_db = os.path.abspath(os.path.expanduser(file_db_path))\n",
    "print(file_db)"
   ]
  },
  {
   "cell_type": "code",
   "execution_count": 5,
   "id": "af7d1ea4-5df6-46d8-bb9c-925b9b7d5cf5",
   "metadata": {},
   "outputs": [
    {
     "name": "stdout",
     "output_type": "stream",
     "text": [
      "['../data/company_rank/Companies_ranked_by_P_E_ratio.csv', '../data/company_rank/bus_term.csv', '../data/company_rank/Companies_ranked_by_Market_Cap.csv', '../data/company_rank/Companies_ranked_by_Dividend_Yield.csv', '../data/company_rank/Companies_ranked_by_Earnings.csv', '../data/company_rank/Companies_ranked_by_Revenue.csv', '../data/company_rank/country_region.csv']\n",
      "\n",
      " Loading data from file: '../data/company_rank/Companies_ranked_by_P_E_ratio.csv' \n",
      " into table_name: 't_p_e_ratio'\n",
      "\n",
      " Loading data from file: '../data/company_rank/bus_term.csv' \n",
      " into table_name: 't_bus_term'\n",
      "\n",
      " Loading data from file: '../data/company_rank/Companies_ranked_by_Market_Cap.csv' \n",
      " into table_name: 't_market_cap'\n",
      "\n",
      " Loading data from file: '../data/company_rank/Companies_ranked_by_Dividend_Yield.csv' \n",
      " into table_name: 't_dividend_yield'\n",
      "\n",
      " Loading data from file: '../data/company_rank/Companies_ranked_by_Earnings.csv' \n",
      " into table_name: 't_earnings'\n",
      "\n",
      " Loading data from file: '../data/company_rank/Companies_ranked_by_Revenue.csv' \n",
      " into table_name: 't_revenue'\n",
      "\n",
      " Loading data from file: '../data/company_rank/country_region.csv' \n",
      " into table_name: 't_country_region'\n"
     ]
    }
   ],
   "source": [
    "LOAD_CSV = True # False\n",
    "if LOAD_CSV:\n",
    "    csv_files = glob(\"../data/company_rank/*.csv\")\n",
    "    print(csv_files)\n",
    "    \n",
    "    conn = sqlite3.connect(file_db)\n",
    "    df_dict = {}\n",
    "    col_map = {}\n",
    "    for i in csv_files:\n",
    "        t = i.split(\"/\")[-1].lower().replace(\"companies_ranked_by_\",\"\").replace(\".csv\",\"\")\n",
    "        df = pd.read_csv(i)\n",
    "        c_map = {c:snake_case(c) for c in df.columns}\n",
    "        # print(f\"col_map: {c_map}\")\n",
    "        table_name = f\"t_{t}\"\n",
    "        print(f\"\\n Loading data from file: '{i}' \\n into table_name: '{table_name}'\")\n",
    "        col_map[table_name] = c_map\n",
    "        df.rename(columns=c_map, inplace=True)\n",
    "        df.to_sql(table_name, conn, if_exists='replace', index=False)\n",
    "        df_dict[table_name] = df\n",
    "    conn.close()"
   ]
  },
  {
   "cell_type": "code",
   "execution_count": 6,
   "id": "126b2a31-857d-4215-8e15-9b68dedd0c64",
   "metadata": {},
   "outputs": [],
   "source": [
    "# verify\n",
    "VERIFY_DB = True # False # \n",
    "if VERIFY_DB:\n",
    "    conn = sqlite3.connect(file_db)\n",
    "    sql_stmt = f\"select name from {table_name} limit 10\"\n",
    "    sql_stmt = \"\"\" \n",
    "    select country from t_revenue\n",
    "     UNION \n",
    "    select country from t_earnings\n",
    "     UNION \n",
    "    select country from t_market_cap\n",
    "     UNION \n",
    "    select country from t_p_e_ratio\n",
    "     UNION \n",
    "    select country from t_dividend_yield\n",
    "    \"\"\"\n",
    "    df_2 = pd.read_sql_query(sql_stmt, conn).fillna(\"\")\n",
    "    country_list = df_2[\"country\"].to_list()\n",
    "    # print(df_2)\n",
    "    conn.close()"
   ]
  },
  {
   "cell_type": "code",
   "execution_count": 7,
   "id": "0cea28ef-e395-45aa-abb3-939fe45091d3",
   "metadata": {
    "scrolled": true
   },
   "outputs": [
    {
     "data": {
      "text/plain": [
       "['',\n",
       " 'Argentina',\n",
       " 'Australia',\n",
       " 'Austria',\n",
       " 'Bahamas',\n",
       " 'Bahrain',\n",
       " 'Belgium',\n",
       " 'Bermuda',\n",
       " 'Brazil',\n",
       " 'British Virgin Islands',\n",
       " 'Cambodia',\n",
       " 'Canada',\n",
       " 'Cayman Islands',\n",
       " 'Chile',\n",
       " 'China',\n",
       " 'Colombia',\n",
       " 'Costa Rica',\n",
       " 'Cyprus',\n",
       " 'Czech Republic',\n",
       " 'Denmark',\n",
       " 'Egypt',\n",
       " 'Estonia',\n",
       " 'Finland',\n",
       " 'France',\n",
       " 'Germany',\n",
       " 'Gibraltar',\n",
       " 'Greece',\n",
       " 'Guernsey',\n",
       " 'Hong Kong',\n",
       " 'Hungary',\n",
       " 'Iceland',\n",
       " 'India',\n",
       " 'Indonesia',\n",
       " 'Ireland',\n",
       " 'Isle of Man',\n",
       " 'Israel',\n",
       " 'Italy',\n",
       " 'Japan',\n",
       " 'Jersey',\n",
       " 'Jordan',\n",
       " 'Kazakhstan',\n",
       " 'Kuwait',\n",
       " 'Lithuania',\n",
       " 'Luxembourg',\n",
       " 'Macau',\n",
       " 'Malaysia',\n",
       " 'Malta',\n",
       " 'Mexico',\n",
       " 'Monaco',\n",
       " 'Netherlands',\n",
       " 'New Zealand',\n",
       " 'Nigeria',\n",
       " 'Norway',\n",
       " 'Oman',\n",
       " 'Pakistan',\n",
       " 'Panama',\n",
       " 'Peru',\n",
       " 'Philippines',\n",
       " 'Poland',\n",
       " 'Portugal',\n",
       " 'Qatar',\n",
       " 'Romania',\n",
       " 'Russia',\n",
       " 'Saudi Arabia',\n",
       " 'Singapore',\n",
       " 'South Africa',\n",
       " 'South Korea',\n",
       " 'Spain',\n",
       " 'Sudan',\n",
       " 'Sweden',\n",
       " 'Switzerland',\n",
       " 'Taiwan',\n",
       " 'Thailand',\n",
       " 'Turkey',\n",
       " 'United Arab Emirates',\n",
       " 'United Kingdom',\n",
       " 'United States',\n",
       " 'Uruguay',\n",
       " 'Vietnam']"
      ]
     },
     "execution_count": 7,
     "metadata": {},
     "output_type": "execute_result"
    }
   ],
   "source": [
    "country_list"
   ]
  },
  {
   "cell_type": "markdown",
   "id": "10ba06d7-06c5-4369-82d3-9e30c26eafe2",
   "metadata": {},
   "source": [
    "### Fix country"
   ]
  },
  {
   "cell_type": "markdown",
   "id": "734c41fa-b05c-4142-9006-a0e367e8ed0a",
   "metadata": {},
   "source": [
    "### Setup LLM"
   ]
  },
  {
   "cell_type": "code",
   "execution_count": 8,
   "id": "c83a1c4e-c730-4819-b8d2-77709553df6d",
   "metadata": {},
   "outputs": [],
   "source": [
    "model_name = \"qwen2.5-coder\"  # 'deepseek-coder-v2'\n",
    "config = {\n",
    "    'model': model_name,   # 'mistral' # \"starcoder2\"\n",
    "    \"dataset\": dataset,\n",
    "    \"path\": \"./vector_db\",\n",
    "}\n",
    "\n",
    "clean_and_train = True  # False  \n",
    "\n",
    "sql_id = 1\n",
    "\n",
    "allow_llm_to_see_data = True\n",
    "# allow_llm_to_see_data (bool): Whether to allow the LLM to see the data (for the purposes of introspecting the data to generate the final SQL)."
   ]
  },
  {
   "cell_type": "code",
   "execution_count": 9,
   "id": "995b5b61-ea0d-449f-9c58-f33c9e487bbc",
   "metadata": {},
   "outputs": [],
   "source": [
    "vn = MyVanna(config=config)"
   ]
  },
  {
   "cell_type": "code",
   "execution_count": 10,
   "id": "819c223d-594e-4405-b171-0f495be261a4",
   "metadata": {},
   "outputs": [
    {
     "name": "stdout",
     "output_type": "stream",
     "text": [
      "Hostname: ducklover1\n"
     ]
    }
   ],
   "source": [
    "hostname = os.uname().nodename\n",
    "print(\"Hostname:\", hostname)"
   ]
  },
  {
   "cell_type": "code",
   "execution_count": 11,
   "id": "b050a816-18f6-41e5-a387-0460939e093e",
   "metadata": {},
   "outputs": [],
   "source": [
    "# file_db = os.path.abspath(os.path.expanduser(file_db))\n",
    "vn.connect_to_sqlite(file_db)"
   ]
  },
  {
   "cell_type": "code",
   "execution_count": 12,
   "id": "315df293-fa55-418e-a58e-48af01261045",
   "metadata": {},
   "outputs": [
    {
     "data": {
      "text/plain": [
       "True"
      ]
     },
     "execution_count": 12,
     "metadata": {},
     "output_type": "execute_result"
    }
   ],
   "source": [
    "vn.run_sql_is_set"
   ]
  },
  {
   "cell_type": "code",
   "execution_count": 13,
   "id": "e8e1ff2a-54b1-4c0a-becf-54fb9f449a4a",
   "metadata": {},
   "outputs": [],
   "source": [
    "if clean_and_train:\n",
    "    # vn.remove_collections(dataset=dataset)\n",
    "    vn.remove_collection()"
   ]
  },
  {
   "cell_type": "markdown",
   "id": "f06c0e89-83f7-5ad1-8f6e-a64cf5bd8e60",
   "metadata": {},
   "source": [
    "## Prepare Training Data\n",
    "\n",
    "### Add DDL SQL statements\n",
    "\n",
    "You only need to train once. Do not train again unless you want to add more training data."
   ]
  },
  {
   "cell_type": "code",
   "execution_count": 14,
   "id": "e34bc892-c217-4df6-b2ea-c00543d41527",
   "metadata": {},
   "outputs": [],
   "source": [
    "df_ddl = vn.run_sql(\"SELECT type, sql FROM sqlite_master WHERE sql is not null\")"
   ]
  },
  {
   "cell_type": "code",
   "execution_count": 15,
   "id": "350467c7-a8a5-4b8c-a445-4757210a11a1",
   "metadata": {
    "scrolled": true
   },
   "outputs": [
    {
     "data": {
      "text/html": [
       "<div>\n",
       "<style scoped>\n",
       "    .dataframe tbody tr th:only-of-type {\n",
       "        vertical-align: middle;\n",
       "    }\n",
       "\n",
       "    .dataframe tbody tr th {\n",
       "        vertical-align: top;\n",
       "    }\n",
       "\n",
       "    .dataframe thead th {\n",
       "        text-align: right;\n",
       "    }\n",
       "</style>\n",
       "<table border=\"1\" class=\"dataframe\">\n",
       "  <thead>\n",
       "    <tr style=\"text-align: right;\">\n",
       "      <th></th>\n",
       "      <th>type</th>\n",
       "      <th>sql</th>\n",
       "    </tr>\n",
       "  </thead>\n",
       "  <tbody>\n",
       "    <tr>\n",
       "      <th>0</th>\n",
       "      <td>table</td>\n",
       "      <td>CREATE TABLE \"t_p_e_ratio\" (\\n\"rank\" INTEGER,\\...</td>\n",
       "    </tr>\n",
       "    <tr>\n",
       "      <th>1</th>\n",
       "      <td>table</td>\n",
       "      <td>CREATE TABLE \"t_bus_term\" (\\n\"business_term\" T...</td>\n",
       "    </tr>\n",
       "    <tr>\n",
       "      <th>2</th>\n",
       "      <td>table</td>\n",
       "      <td>CREATE TABLE \"t_market_cap\" (\\n\"rank\" INTEGER,...</td>\n",
       "    </tr>\n",
       "    <tr>\n",
       "      <th>3</th>\n",
       "      <td>table</td>\n",
       "      <td>CREATE TABLE \"t_dividend_yield\" (\\n\"rank\" INTE...</td>\n",
       "    </tr>\n",
       "    <tr>\n",
       "      <th>4</th>\n",
       "      <td>table</td>\n",
       "      <td>CREATE TABLE \"t_earnings\" (\\n\"rank\" INTEGER,\\n...</td>\n",
       "    </tr>\n",
       "    <tr>\n",
       "      <th>5</th>\n",
       "      <td>table</td>\n",
       "      <td>CREATE TABLE \"t_revenue\" (\\n\"rank\" INTEGER,\\n ...</td>\n",
       "    </tr>\n",
       "    <tr>\n",
       "      <th>6</th>\n",
       "      <td>table</td>\n",
       "      <td>CREATE TABLE \"t_country_region\" (\\n\"country\" T...</td>\n",
       "    </tr>\n",
       "  </tbody>\n",
       "</table>\n",
       "</div>"
      ],
      "text/plain": [
       "    type                                                sql\n",
       "0  table  CREATE TABLE \"t_p_e_ratio\" (\\n\"rank\" INTEGER,\\...\n",
       "1  table  CREATE TABLE \"t_bus_term\" (\\n\"business_term\" T...\n",
       "2  table  CREATE TABLE \"t_market_cap\" (\\n\"rank\" INTEGER,...\n",
       "3  table  CREATE TABLE \"t_dividend_yield\" (\\n\"rank\" INTE...\n",
       "4  table  CREATE TABLE \"t_earnings\" (\\n\"rank\" INTEGER,\\n...\n",
       "5  table  CREATE TABLE \"t_revenue\" (\\n\"rank\" INTEGER,\\n ...\n",
       "6  table  CREATE TABLE \"t_country_region\" (\\n\"country\" T..."
      ]
     },
     "execution_count": 15,
     "metadata": {},
     "output_type": "execute_result"
    }
   ],
   "source": [
    "df_ddl"
   ]
  },
  {
   "cell_type": "raw",
   "id": "74290f7b-f2fa-457c-bd81-b646cd93d03b",
   "metadata": {},
   "source": [
    "tables = \"t_revenue t_earnings t_market_cap t_p_e_ratio t_dividend_yield\"\n",
    "sql_stmts = []\n",
    "for t in tables.split():\n",
    "    sql_stmts.append(f\"select country from {t}\")\n",
    "print(\"\\n UNION \\n\".join(sql_stmts))"
   ]
  },
  {
   "cell_type": "markdown",
   "id": "3018d7c2-5544-4210-9695-20778cbb1917",
   "metadata": {},
   "source": [
    "### Add business terms"
   ]
  },
  {
   "cell_type": "code",
   "execution_count": 16,
   "id": "a6bcd4cd-dc79-4944-8a1b-ad078f8e5148",
   "metadata": {},
   "outputs": [],
   "source": [
    "business_docs = [\n",
    "\"\"\"\n",
    "Introduction:\n",
    "This dataset ranks top companies in the world.\n",
    "Its analysis delves into the financial performance of top companies by examining key metrics such as \n",
    "- revenue, \n",
    "- earnings, \n",
    "- market capitalisation, \n",
    "- P/E ratio, \n",
    "- dividend yield. \n",
    "\n",
    "By comparing these metrics, we gain a comprehensive understanding of a company's scale, \n",
    "profitability, market value, and growth potential. \n",
    "Through visualisations, the analysis also explores correlations between these metrics and offers \n",
    "insights into country-level performance, highlighting economic dominance across various sectors. \n",
    "This holistic approach provides a multi-dimensional view of global financial powerhouses, investor confidence, \n",
    "and regional economic trends.\n",
    "\"\"\",\n",
    "\n",
    "\"\"\"\n",
    "Terminologies:\n",
    "TTM : Trailing Twelve Months\n",
    "PE : Price over Earning Raio\n",
    "LOV : List-of-Values\n",
    "\"\"\",\n",
    "\n",
    "\"\"\"\n",
    "Key Metrics 1. Revenue (TTM):\n",
    "Table Name: t_revenue ;\n",
    "Definition: This is the total income generated by a company from its operations in the last twelve months ;\n",
    "Potential Insights: High revenue often indicates market dominance or high sales volume. Comparing revenues can reveal which companies are the largest in terms of business volume.\n",
    "\"\"\",\n",
    "\n",
    "\"\"\"\n",
    "Key Metrics 2. Earnings (TTM):\n",
    "Table Name: t_earnings\n",
    "Definition: This refers to the company's profit after taxes and expenses over the trailing twelve months.\n",
    "Potential Insights: Companies with high earnings are more efficient at converting revenue into profit, suggesting better profitability or cost management. A comparison of earnings provides insight into profitability rather than just scale.\n",
    "\"\"\",\n",
    "\n",
    "\"\"\"\n",
    "Key Metrics 3. Market Capitalisation (Market Cap):\n",
    "Table Name: t_market_cap\n",
    "Definition: Market cap is the total value of a company's outstanding shares of stock, calculated as stock price multiplied by the number of shares. It indicates the company’s size in the stock market.\n",
    "Potential Insights: High market cap usually indicates investor confidence in the company. Comparing market cap among the top 15 companies reveals their relative size in financial markets.\n",
    "\"\"\",\n",
    "\n",
    "\"\"\"\n",
    "Key Metrics 4. P/E Ratio (TTM):\n",
    "Table Name: t_p_e_ratio\n",
    "Definition: Price-to-Earnings (P/E) ratio measures a company's current share price relative to its per-share earnings.\n",
    "Potential Insights: A high P/E ratio may indicate that investors expect high growth in the future, while a low P/E ratio could imply undervaluation or scepticism about growth. Companies are compared by their growth prospects or current valuation.\n",
    "\"\"\",\n",
    "\n",
    "\"\"\"\n",
    "Key Metrics 5. Dividend Yield (TTM):\n",
    "Table Name: t_dividend_yield\n",
    "Definition: Dividend yield is a financial ratio that shows how much a company pays out in dividends each year relative to its share price.\n",
    "Potential Insights: High dividend yield may indicate that a company returns more income to shareholders. It’s particularly useful for income-focused investors.\n",
    "\"\"\",\n",
    "\n",
    "\"\"\"\n",
    "List-of-Value (LOV) mapping: Country to Region\n",
    "Table Name: t_country_region\n",
    "Definition: This table translate country to region, can be used to join on country column with other tables to rollup metrics at region-level\n",
    "\"\"\",\n",
    "]"
   ]
  },
  {
   "cell_type": "code",
   "execution_count": 17,
   "id": "4549fa43-7d79-4538-bd91-4c5803c3508e",
   "metadata": {},
   "outputs": [
    {
     "data": {
      "text/html": [
       "<div>\n",
       "<style scoped>\n",
       "    .dataframe tbody tr th:only-of-type {\n",
       "        vertical-align: middle;\n",
       "    }\n",
       "\n",
       "    .dataframe tbody tr th {\n",
       "        vertical-align: top;\n",
       "    }\n",
       "\n",
       "    .dataframe thead th {\n",
       "        text-align: right;\n",
       "    }\n",
       "</style>\n",
       "<table border=\"1\" class=\"dataframe\">\n",
       "  <thead>\n",
       "    <tr style=\"text-align: right;\">\n",
       "      <th></th>\n",
       "      <th>type</th>\n",
       "      <th>sql</th>\n",
       "    </tr>\n",
       "  </thead>\n",
       "  <tbody>\n",
       "    <tr>\n",
       "      <th>0</th>\n",
       "      <td>table</td>\n",
       "      <td>CREATE TABLE \"t_p_e_ratio\" (\\n\"rank\" INTEGER,\\...</td>\n",
       "    </tr>\n",
       "    <tr>\n",
       "      <th>1</th>\n",
       "      <td>table</td>\n",
       "      <td>CREATE TABLE \"t_bus_term\" (\\n\"business_term\" T...</td>\n",
       "    </tr>\n",
       "    <tr>\n",
       "      <th>2</th>\n",
       "      <td>table</td>\n",
       "      <td>CREATE TABLE \"t_market_cap\" (\\n\"rank\" INTEGER,...</td>\n",
       "    </tr>\n",
       "    <tr>\n",
       "      <th>3</th>\n",
       "      <td>table</td>\n",
       "      <td>CREATE TABLE \"t_dividend_yield\" (\\n\"rank\" INTE...</td>\n",
       "    </tr>\n",
       "    <tr>\n",
       "      <th>4</th>\n",
       "      <td>table</td>\n",
       "      <td>CREATE TABLE \"t_earnings\" (\\n\"rank\" INTEGER,\\n...</td>\n",
       "    </tr>\n",
       "    <tr>\n",
       "      <th>5</th>\n",
       "      <td>table</td>\n",
       "      <td>CREATE TABLE \"t_revenue\" (\\n\"rank\" INTEGER,\\n ...</td>\n",
       "    </tr>\n",
       "    <tr>\n",
       "      <th>6</th>\n",
       "      <td>table</td>\n",
       "      <td>CREATE TABLE \"t_country_region\" (\\n\"country\" T...</td>\n",
       "    </tr>\n",
       "  </tbody>\n",
       "</table>\n",
       "</div>"
      ],
      "text/plain": [
       "    type                                                sql\n",
       "0  table  CREATE TABLE \"t_p_e_ratio\" (\\n\"rank\" INTEGER,\\...\n",
       "1  table  CREATE TABLE \"t_bus_term\" (\\n\"business_term\" T...\n",
       "2  table  CREATE TABLE \"t_market_cap\" (\\n\"rank\" INTEGER,...\n",
       "3  table  CREATE TABLE \"t_dividend_yield\" (\\n\"rank\" INTE...\n",
       "4  table  CREATE TABLE \"t_earnings\" (\\n\"rank\" INTEGER,\\n...\n",
       "5  table  CREATE TABLE \"t_revenue\" (\\n\"rank\" INTEGER,\\n ...\n",
       "6  table  CREATE TABLE \"t_country_region\" (\\n\"country\" T..."
      ]
     },
     "execution_count": 17,
     "metadata": {},
     "output_type": "execute_result"
    }
   ],
   "source": [
    "df_ddl"
   ]
  },
  {
   "cell_type": "code",
   "execution_count": 18,
   "id": "e30acacc-567f-4cd9-88ee-b3b2102fa580",
   "metadata": {
    "scrolled": true
   },
   "outputs": [],
   "source": [
    "if clean_and_train:\n",
    "    for ddl in df_ddl['sql'].to_list():\n",
    "        # ddl = strip_brackets(ddl)\n",
    "        vn.add_ddl(ddl=ddl, dataset=dataset)\n",
    "\n",
    "    # Sometimes you may want to add documentation about your business terminology or definitions.\n",
    "    # vn.train(documentation=\"In the chinook database invoice means order\")\n",
    "    for bus_doc in business_docs:\n",
    "        vn.add_documentation(documentation=bus_doc, dataset=dataset)"
   ]
  },
  {
   "cell_type": "code",
   "execution_count": 19,
   "id": "ed84088d-8f81-4193-99e0-c601743fae4c",
   "metadata": {},
   "outputs": [],
   "source": [
    "# show training data\n",
    "training_data = vn.get_training_data(dataset=dataset)\n"
   ]
  },
  {
   "cell_type": "code",
   "execution_count": 20,
   "id": "b6ff00a5-0795-4daf-bb7f-3683b01b48ca",
   "metadata": {},
   "outputs": [
    {
     "data": {
      "text/html": [
       "<div>\n",
       "<style scoped>\n",
       "    .dataframe tbody tr th:only-of-type {\n",
       "        vertical-align: middle;\n",
       "    }\n",
       "\n",
       "    .dataframe tbody tr th {\n",
       "        vertical-align: top;\n",
       "    }\n",
       "\n",
       "    .dataframe thead th {\n",
       "        text-align: right;\n",
       "    }\n",
       "</style>\n",
       "<table border=\"1\" class=\"dataframe\">\n",
       "  <thead>\n",
       "    <tr style=\"text-align: right;\">\n",
       "      <th></th>\n",
       "      <th>id</th>\n",
       "      <th>dataset</th>\n",
       "      <th>question</th>\n",
       "      <th>content</th>\n",
       "      <th>training_data_type</th>\n",
       "    </tr>\n",
       "  </thead>\n",
       "  <tbody>\n",
       "    <tr>\n",
       "      <th>0</th>\n",
       "      <td>565be15c-ce5f-5f8b-84f3-8b9be8877d44-doc</td>\n",
       "      <td>stock</td>\n",
       "      <td>None</td>\n",
       "      <td>\\nKey Metrics 4. P/E Ratio (TTM):\\nTable Name:...</td>\n",
       "      <td>documentation</td>\n",
       "    </tr>\n",
       "    <tr>\n",
       "      <th>1</th>\n",
       "      <td>631f837e-c0bc-5332-b356-2f37452d8c3b-ddl</td>\n",
       "      <td>stock</td>\n",
       "      <td>None</td>\n",
       "      <td>CREATE TABLE \"t_bus_term\" (\\n\"business_term\" T...</td>\n",
       "      <td>ddl</td>\n",
       "    </tr>\n",
       "    <tr>\n",
       "      <th>2</th>\n",
       "      <td>6b904db6-8236-5d9a-a46c-70789c058fa5-ddl</td>\n",
       "      <td>stock</td>\n",
       "      <td>None</td>\n",
       "      <td>CREATE TABLE \"t_earnings\" (\\n\"rank\" INTEGER,\\n...</td>\n",
       "      <td>ddl</td>\n",
       "    </tr>\n",
       "    <tr>\n",
       "      <th>3</th>\n",
       "      <td>78a9d307-88e3-5832-a4ad-51ea399a00fc-doc</td>\n",
       "      <td>stock</td>\n",
       "      <td>None</td>\n",
       "      <td>\\nKey Metrics 5. Dividend Yield (TTM):\\nTable ...</td>\n",
       "      <td>documentation</td>\n",
       "    </tr>\n",
       "    <tr>\n",
       "      <th>4</th>\n",
       "      <td>7e8c23a3-e8fa-5518-a92b-436cd5ec7d12-ddl</td>\n",
       "      <td>stock</td>\n",
       "      <td>None</td>\n",
       "      <td>CREATE TABLE \"t_market_cap\" (\\n\"rank\" INTEGER,...</td>\n",
       "      <td>ddl</td>\n",
       "    </tr>\n",
       "    <tr>\n",
       "      <th>5</th>\n",
       "      <td>8fc7373d-a5c4-5c64-90a4-3f56dccaaf4a-doc</td>\n",
       "      <td>stock</td>\n",
       "      <td>None</td>\n",
       "      <td>\\nIntroduction:\\nThis dataset ranks top compan...</td>\n",
       "      <td>documentation</td>\n",
       "    </tr>\n",
       "    <tr>\n",
       "      <th>6</th>\n",
       "      <td>9c9372e6-60b0-5694-8d8b-9f2e8dabd9d2-doc</td>\n",
       "      <td>stock</td>\n",
       "      <td>None</td>\n",
       "      <td>\\nKey Metrics 2. Earnings (TTM):\\nTable Name: ...</td>\n",
       "      <td>documentation</td>\n",
       "    </tr>\n",
       "    <tr>\n",
       "      <th>7</th>\n",
       "      <td>ac7f7c95-4297-50c7-87bc-1073178b7dac-doc</td>\n",
       "      <td>stock</td>\n",
       "      <td>None</td>\n",
       "      <td>\\nTerminologies:\\nTTM : Trailing Twelve Months...</td>\n",
       "      <td>documentation</td>\n",
       "    </tr>\n",
       "    <tr>\n",
       "      <th>8</th>\n",
       "      <td>b3ca6b22-ebf4-5165-a258-7f4006b93370-ddl</td>\n",
       "      <td>stock</td>\n",
       "      <td>None</td>\n",
       "      <td>CREATE TABLE \"t_p_e_ratio\" (\\n\"rank\" INTEGER,\\...</td>\n",
       "      <td>ddl</td>\n",
       "    </tr>\n",
       "    <tr>\n",
       "      <th>9</th>\n",
       "      <td>b7063b98-81ba-530c-b617-63545026a26e-doc</td>\n",
       "      <td>stock</td>\n",
       "      <td>None</td>\n",
       "      <td>\\nList-of-Value (LOV) mapping: Country to Regi...</td>\n",
       "      <td>documentation</td>\n",
       "    </tr>\n",
       "    <tr>\n",
       "      <th>10</th>\n",
       "      <td>ce8c5f10-2089-5a18-bb77-f5eed9b35b5f-doc</td>\n",
       "      <td>stock</td>\n",
       "      <td>None</td>\n",
       "      <td>\\nKey Metrics 3. Market Capitalisation (Market...</td>\n",
       "      <td>documentation</td>\n",
       "    </tr>\n",
       "    <tr>\n",
       "      <th>11</th>\n",
       "      <td>d0338522-e9e1-5ae4-9016-e1e268d12786-ddl</td>\n",
       "      <td>stock</td>\n",
       "      <td>None</td>\n",
       "      <td>CREATE TABLE \"t_dividend_yield\" (\\n\"rank\" INTE...</td>\n",
       "      <td>ddl</td>\n",
       "    </tr>\n",
       "    <tr>\n",
       "      <th>12</th>\n",
       "      <td>d0955057-8832-5101-b5a2-8747b4711d60-ddl</td>\n",
       "      <td>stock</td>\n",
       "      <td>None</td>\n",
       "      <td>CREATE TABLE \"t_country_region\" (\\n\"country\" T...</td>\n",
       "      <td>ddl</td>\n",
       "    </tr>\n",
       "    <tr>\n",
       "      <th>13</th>\n",
       "      <td>d535160e-a2f6-5fa1-b3a4-143a76a55a1f-doc</td>\n",
       "      <td>stock</td>\n",
       "      <td>None</td>\n",
       "      <td>\\nKey Metrics 1. Revenue (TTM):\\nTable Name: t...</td>\n",
       "      <td>documentation</td>\n",
       "    </tr>\n",
       "    <tr>\n",
       "      <th>14</th>\n",
       "      <td>fc924794-f009-5ad6-8dc8-bc083c3a30c9-ddl</td>\n",
       "      <td>stock</td>\n",
       "      <td>None</td>\n",
       "      <td>CREATE TABLE \"t_revenue\" (\\n\"rank\" INTEGER,\\n ...</td>\n",
       "      <td>ddl</td>\n",
       "    </tr>\n",
       "  </tbody>\n",
       "</table>\n",
       "</div>"
      ],
      "text/plain": [
       "                                          id dataset question  \\\n",
       "0   565be15c-ce5f-5f8b-84f3-8b9be8877d44-doc   stock     None   \n",
       "1   631f837e-c0bc-5332-b356-2f37452d8c3b-ddl   stock     None   \n",
       "2   6b904db6-8236-5d9a-a46c-70789c058fa5-ddl   stock     None   \n",
       "3   78a9d307-88e3-5832-a4ad-51ea399a00fc-doc   stock     None   \n",
       "4   7e8c23a3-e8fa-5518-a92b-436cd5ec7d12-ddl   stock     None   \n",
       "5   8fc7373d-a5c4-5c64-90a4-3f56dccaaf4a-doc   stock     None   \n",
       "6   9c9372e6-60b0-5694-8d8b-9f2e8dabd9d2-doc   stock     None   \n",
       "7   ac7f7c95-4297-50c7-87bc-1073178b7dac-doc   stock     None   \n",
       "8   b3ca6b22-ebf4-5165-a258-7f4006b93370-ddl   stock     None   \n",
       "9   b7063b98-81ba-530c-b617-63545026a26e-doc   stock     None   \n",
       "10  ce8c5f10-2089-5a18-bb77-f5eed9b35b5f-doc   stock     None   \n",
       "11  d0338522-e9e1-5ae4-9016-e1e268d12786-ddl   stock     None   \n",
       "12  d0955057-8832-5101-b5a2-8747b4711d60-ddl   stock     None   \n",
       "13  d535160e-a2f6-5fa1-b3a4-143a76a55a1f-doc   stock     None   \n",
       "14  fc924794-f009-5ad6-8dc8-bc083c3a30c9-ddl   stock     None   \n",
       "\n",
       "                                              content training_data_type  \n",
       "0   \\nKey Metrics 4. P/E Ratio (TTM):\\nTable Name:...      documentation  \n",
       "1   CREATE TABLE \"t_bus_term\" (\\n\"business_term\" T...                ddl  \n",
       "2   CREATE TABLE \"t_earnings\" (\\n\"rank\" INTEGER,\\n...                ddl  \n",
       "3   \\nKey Metrics 5. Dividend Yield (TTM):\\nTable ...      documentation  \n",
       "4   CREATE TABLE \"t_market_cap\" (\\n\"rank\" INTEGER,...                ddl  \n",
       "5   \\nIntroduction:\\nThis dataset ranks top compan...      documentation  \n",
       "6   \\nKey Metrics 2. Earnings (TTM):\\nTable Name: ...      documentation  \n",
       "7   \\nTerminologies:\\nTTM : Trailing Twelve Months...      documentation  \n",
       "8   CREATE TABLE \"t_p_e_ratio\" (\\n\"rank\" INTEGER,\\...                ddl  \n",
       "9   \\nList-of-Value (LOV) mapping: Country to Regi...      documentation  \n",
       "10  \\nKey Metrics 3. Market Capitalisation (Market...      documentation  \n",
       "11  CREATE TABLE \"t_dividend_yield\" (\\n\"rank\" INTE...                ddl  \n",
       "12  CREATE TABLE \"t_country_region\" (\\n\"country\" T...                ddl  \n",
       "13  \\nKey Metrics 1. Revenue (TTM):\\nTable Name: t...      documentation  \n",
       "14  CREATE TABLE \"t_revenue\" (\\n\"rank\" INTEGER,\\n ...                ddl  "
      ]
     },
     "execution_count": 20,
     "metadata": {},
     "output_type": "execute_result"
    }
   ],
   "source": [
    "training_data"
   ]
  },
  {
   "cell_type": "raw",
   "id": "56b72c24-aae4-49e8-8d2d-f0d0e8acc14d",
   "metadata": {},
   "source": [
    "HAVE_BREAK = True\n",
    "if HAVE_BREAK:\n",
    "    raise Exception(\"Pause\")"
   ]
  },
  {
   "cell_type": "markdown",
   "id": "bf2fc121-a3ab-5a2e-95b0-383271e82d5f",
   "metadata": {},
   "source": [
    "## Asking the AI\n",
    "Whenever you ask a new question, it will find the 10 most relevant pieces of training data and use it as part of the LLM prompt to generate the SQL."
   ]
  },
  {
   "cell_type": "code",
   "execution_count": 21,
   "id": "5b080d9a-507b-479d-9647-55b097e95310",
   "metadata": {},
   "outputs": [],
   "source": [
    "ts_start = time()"
   ]
  },
  {
   "cell_type": "markdown",
   "id": "b9da8355-6024-42b4-bf50-22f8a2db5f09",
   "metadata": {},
   "source": [
    "```sql\n",
    "SELECT name FROM sqlite_master WHERE type = 'table';\n",
    "```\n"
   ]
  },
  {
   "cell_type": "code",
   "execution_count": 22,
   "id": "24ab8412-c755-47fb-aea9-a1d8a69165f2",
   "metadata": {},
   "outputs": [
    {
     "name": "stdout",
     "output_type": "stream",
     "text": [
      "\n",
      "[( <LLM> )]\n",
      "Can you list all tables in the SQLite database catalog?\n",
      "================================================================================\n",
      "\n",
      "\n",
      "Ollama parameters:\n",
      "model=qwen2.5-coder:latest,\n",
      "options={'gpu': True, 'num_ctx': 2048, 'top_p': 0.9, 'top_k': 40, 'seed': 42, 'stop': ['STOP'], 'temperature': 0.2, 'repeat_penalty': 1.1, 'num_predict': 500},\n",
      "keep_alive=None\n",
      "================================================================================\n",
      "\n",
      "\n",
      "Prompt Content:\n",
      "[{\"role\": \"system\", \"content\": \"You are an expert AI assistant, answer me the following question:\\n\"}, {\"role\": \"user\", \"content\": \"Can you list all tables in the SQLite database catalog?\"}]\n",
      "================================================================================\n",
      "\n",
      "\n",
      "Ollama Response:\n",
      "{'model': 'qwen2.5-coder:latest', 'created_at': '2024-12-16T05:29:54.93296479Z', 'message': {'role': 'assistant', 'content': \"To list all tables in the SQLite database catalog, you can use the following SQL query:\\n\\n```sql\\nSELECT name FROM sqlite_master WHERE type='table';\\n```\\n\\nThis query selects the names of all objects from the `sqlite_master` table where the type is 'table'. The `sqlite_master` table is a special table in SQLite that keeps metadata about other tables and indexes.\"}, 'done_reason': 'stop', 'done': True, 'total_duration': 13564467566, 'load_duration': 783850170, 'prompt_eval_count': 37, 'prompt_eval_duration': 1051346000, 'eval_count': 77, 'eval_duration': 11678988000}\n",
      "================================================================================\n",
      "\n",
      "\n",
      "[( LLM RESPONSE )]\n",
      "To list all tables in the SQLite database catalog, you can use the following SQL query:\n",
      "\n",
      "```sql\n",
      "SELECT name FROM sqlite_master WHERE type='table';\n",
      "```\n",
      "\n",
      "This query selects the names of all objects from the `sqlite_master` table where the type is 'table'. The `sqlite_master` table is a special table in SQLite that keeps metadata about other tables and indexes.\n",
      "================================================================================\n",
      "\n"
     ]
    }
   ],
   "source": [
    "question = \"What is 5!\"\n",
    "question = \"Can you list all tables in the SQLite database catalog?\"\n",
    "\n",
    "# resp = vn.ask_adaptive(question=question)\n",
    "resp = vn.ask_llm(question=question)"
   ]
  },
  {
   "cell_type": "code",
   "execution_count": 23,
   "id": "085ad247-259e-4f8b-9759-bf42fd76e6dd",
   "metadata": {},
   "outputs": [
    {
     "data": {
      "text/plain": [
       "\"To list all tables in the SQLite database catalog, you can use the following SQL query:\\n\\n```sql\\nSELECT name FROM sqlite_master WHERE type='table';\\n```\\n\\nThis query selects the names of all objects from the `sqlite_master` table where the type is 'table'. The `sqlite_master` table is a special table in SQLite that keeps metadata about other tables and indexes.\""
      ]
     },
     "execution_count": 23,
     "metadata": {},
     "output_type": "execute_result"
    }
   ],
   "source": [
    "resp"
   ]
  },
  {
   "cell_type": "raw",
   "id": "a6081f66-aa77-4463-b603-9ef189725edf",
   "metadata": {},
   "source": [
    "raise Exception(\"PAUSE\")"
   ]
  },
  {
   "cell_type": "code",
   "execution_count": 24,
   "id": "54d86830-6fa1-4428-88bc-fa0fd572504b",
   "metadata": {},
   "outputs": [
    {
     "name": "stdout",
     "output_type": "stream",
     "text": [
      "\n",
      "\n",
      "\n",
      "================================================================================\n",
      "\n",
      "# QUESTION :  Can you list all tables in the SQLite database catalog?\n",
      "\n",
      "================================================================================\n",
      "\n",
      "\n",
      "Ollama parameters:\n",
      "model=qwen2.5-coder:latest,\n",
      "options={'gpu': True, 'num_ctx': 2048, 'top_p': 0.9, 'top_k': 40, 'seed': 42, 'stop': ['STOP'], 'temperature': 0.2, 'repeat_penalty': 1.1, 'num_predict': 500},\n",
      "keep_alive=None\n",
      "================================================================================\n",
      "\n",
      "\n",
      "[( EXTRACTED SQL )]\n",
      "SELECT name FROM sqlite_master WHERE type='table';\n",
      "================================================================================\n",
      "\n",
      "\n",
      "[( <SQL> )]\n",
      "generated SQL statement\n",
      "================================================================================\n",
      "\n"
     ]
    },
    {
     "data": {
      "text/html": [
       "<style>pre { line-height: 125%; }\n",
       "td.linenos .normal { color: inherit; background-color: transparent; padding-left: 5px; padding-right: 5px; }\n",
       "span.linenos { color: inherit; background-color: transparent; padding-left: 5px; padding-right: 5px; }\n",
       "td.linenos .special { color: #000000; background-color: #ffffc0; padding-left: 5px; padding-right: 5px; }\n",
       "span.linenos.special { color: #000000; background-color: #ffffc0; padding-left: 5px; padding-right: 5px; }\n",
       ".output_html .hll { background-color: #ffffcc }\n",
       ".output_html { background: #f8f8f8; }\n",
       ".output_html .c { color: #3D7B7B; font-style: italic } /* Comment */\n",
       ".output_html .err { border: 1px solid #FF0000 } /* Error */\n",
       ".output_html .k { color: #008000; font-weight: bold } /* Keyword */\n",
       ".output_html .o { color: #666666 } /* Operator */\n",
       ".output_html .ch { color: #3D7B7B; font-style: italic } /* Comment.Hashbang */\n",
       ".output_html .cm { color: #3D7B7B; font-style: italic } /* Comment.Multiline */\n",
       ".output_html .cp { color: #9C6500 } /* Comment.Preproc */\n",
       ".output_html .cpf { color: #3D7B7B; font-style: italic } /* Comment.PreprocFile */\n",
       ".output_html .c1 { color: #3D7B7B; font-style: italic } /* Comment.Single */\n",
       ".output_html .cs { color: #3D7B7B; font-style: italic } /* Comment.Special */\n",
       ".output_html .gd { color: #A00000 } /* Generic.Deleted */\n",
       ".output_html .ge { font-style: italic } /* Generic.Emph */\n",
       ".output_html .ges { font-weight: bold; font-style: italic } /* Generic.EmphStrong */\n",
       ".output_html .gr { color: #E40000 } /* Generic.Error */\n",
       ".output_html .gh { color: #000080; font-weight: bold } /* Generic.Heading */\n",
       ".output_html .gi { color: #008400 } /* Generic.Inserted */\n",
       ".output_html .go { color: #717171 } /* Generic.Output */\n",
       ".output_html .gp { color: #000080; font-weight: bold } /* Generic.Prompt */\n",
       ".output_html .gs { font-weight: bold } /* Generic.Strong */\n",
       ".output_html .gu { color: #800080; font-weight: bold } /* Generic.Subheading */\n",
       ".output_html .gt { color: #0044DD } /* Generic.Traceback */\n",
       ".output_html .kc { color: #008000; font-weight: bold } /* Keyword.Constant */\n",
       ".output_html .kd { color: #008000; font-weight: bold } /* Keyword.Declaration */\n",
       ".output_html .kn { color: #008000; font-weight: bold } /* Keyword.Namespace */\n",
       ".output_html .kp { color: #008000 } /* Keyword.Pseudo */\n",
       ".output_html .kr { color: #008000; font-weight: bold } /* Keyword.Reserved */\n",
       ".output_html .kt { color: #B00040 } /* Keyword.Type */\n",
       ".output_html .m { color: #666666 } /* Literal.Number */\n",
       ".output_html .s { color: #BA2121 } /* Literal.String */\n",
       ".output_html .na { color: #687822 } /* Name.Attribute */\n",
       ".output_html .nb { color: #008000 } /* Name.Builtin */\n",
       ".output_html .nc { color: #0000FF; font-weight: bold } /* Name.Class */\n",
       ".output_html .no { color: #880000 } /* Name.Constant */\n",
       ".output_html .nd { color: #AA22FF } /* Name.Decorator */\n",
       ".output_html .ni { color: #717171; font-weight: bold } /* Name.Entity */\n",
       ".output_html .ne { color: #CB3F38; font-weight: bold } /* Name.Exception */\n",
       ".output_html .nf { color: #0000FF } /* Name.Function */\n",
       ".output_html .nl { color: #767600 } /* Name.Label */\n",
       ".output_html .nn { color: #0000FF; font-weight: bold } /* Name.Namespace */\n",
       ".output_html .nt { color: #008000; font-weight: bold } /* Name.Tag */\n",
       ".output_html .nv { color: #19177C } /* Name.Variable */\n",
       ".output_html .ow { color: #AA22FF; font-weight: bold } /* Operator.Word */\n",
       ".output_html .w { color: #bbbbbb } /* Text.Whitespace */\n",
       ".output_html .mb { color: #666666 } /* Literal.Number.Bin */\n",
       ".output_html .mf { color: #666666 } /* Literal.Number.Float */\n",
       ".output_html .mh { color: #666666 } /* Literal.Number.Hex */\n",
       ".output_html .mi { color: #666666 } /* Literal.Number.Integer */\n",
       ".output_html .mo { color: #666666 } /* Literal.Number.Oct */\n",
       ".output_html .sa { color: #BA2121 } /* Literal.String.Affix */\n",
       ".output_html .sb { color: #BA2121 } /* Literal.String.Backtick */\n",
       ".output_html .sc { color: #BA2121 } /* Literal.String.Char */\n",
       ".output_html .dl { color: #BA2121 } /* Literal.String.Delimiter */\n",
       ".output_html .sd { color: #BA2121; font-style: italic } /* Literal.String.Doc */\n",
       ".output_html .s2 { color: #BA2121 } /* Literal.String.Double */\n",
       ".output_html .se { color: #AA5D1F; font-weight: bold } /* Literal.String.Escape */\n",
       ".output_html .sh { color: #BA2121 } /* Literal.String.Heredoc */\n",
       ".output_html .si { color: #A45A77; font-weight: bold } /* Literal.String.Interpol */\n",
       ".output_html .sx { color: #008000 } /* Literal.String.Other */\n",
       ".output_html .sr { color: #A45A77 } /* Literal.String.Regex */\n",
       ".output_html .s1 { color: #BA2121 } /* Literal.String.Single */\n",
       ".output_html .ss { color: #19177C } /* Literal.String.Symbol */\n",
       ".output_html .bp { color: #008000 } /* Name.Builtin.Pseudo */\n",
       ".output_html .fm { color: #0000FF } /* Name.Function.Magic */\n",
       ".output_html .vc { color: #19177C } /* Name.Variable.Class */\n",
       ".output_html .vg { color: #19177C } /* Name.Variable.Global */\n",
       ".output_html .vi { color: #19177C } /* Name.Variable.Instance */\n",
       ".output_html .vm { color: #19177C } /* Name.Variable.Magic */\n",
       ".output_html .il { color: #666666 } /* Literal.Number.Integer.Long */</style><div class=\"highlight\"><pre><span></span><span class=\"k\">SELECT</span><span class=\"w\"> </span><span class=\"n\">name</span><span class=\"w\"> </span><span class=\"k\">FROM</span><span class=\"w\"> </span><span class=\"n\">sqlite_master</span><span class=\"w\"> </span><span class=\"k\">WHERE</span><span class=\"w\"> </span><span class=\"k\">type</span><span class=\"o\">=</span><span class=\"s1\">&#39;table&#39;</span><span class=\"p\">;</span>\n",
       "</pre></div>\n"
      ],
      "text/latex": [
       "\\begin{Verbatim}[commandchars=\\\\\\{\\}]\n",
       "\\PY{k}{SELECT}\\PY{+w}{ }\\PY{n}{name}\\PY{+w}{ }\\PY{k}{FROM}\\PY{+w}{ }\\PY{n}{sqlite\\PYZus{}master}\\PY{+w}{ }\\PY{k}{WHERE}\\PY{+w}{ }\\PY{k}{type}\\PY{o}{=}\\PY{l+s+s1}{\\PYZsq{}table\\PYZsq{}}\\PY{p}{;}\n",
       "\\end{Verbatim}\n"
      ],
      "text/plain": [
       "SELECT name FROM sqlite_master WHERE type='table';"
      ]
     },
     "metadata": {},
     "output_type": "display_data"
    },
    {
     "name": "stdout",
     "output_type": "stream",
     "text": [
      "\n",
      "[( <DataFrame> )]\n",
      "queried dataframe\n",
      "================================================================================\n",
      "\n"
     ]
    },
    {
     "data": {
      "text/html": [
       "<div>\n",
       "<style scoped>\n",
       "    .dataframe tbody tr th:only-of-type {\n",
       "        vertical-align: middle;\n",
       "    }\n",
       "\n",
       "    .dataframe tbody tr th {\n",
       "        vertical-align: top;\n",
       "    }\n",
       "\n",
       "    .dataframe thead th {\n",
       "        text-align: right;\n",
       "    }\n",
       "</style>\n",
       "<table border=\"1\" class=\"dataframe\">\n",
       "  <thead>\n",
       "    <tr style=\"text-align: right;\">\n",
       "      <th></th>\n",
       "      <th>name</th>\n",
       "    </tr>\n",
       "  </thead>\n",
       "  <tbody>\n",
       "    <tr>\n",
       "      <th>0</th>\n",
       "      <td>t_p_e_ratio</td>\n",
       "    </tr>\n",
       "    <tr>\n",
       "      <th>1</th>\n",
       "      <td>t_bus_term</td>\n",
       "    </tr>\n",
       "    <tr>\n",
       "      <th>2</th>\n",
       "      <td>t_market_cap</td>\n",
       "    </tr>\n",
       "    <tr>\n",
       "      <th>3</th>\n",
       "      <td>t_dividend_yield</td>\n",
       "    </tr>\n",
       "    <tr>\n",
       "      <th>4</th>\n",
       "      <td>t_earnings</td>\n",
       "    </tr>\n",
       "    <tr>\n",
       "      <th>5</th>\n",
       "      <td>t_revenue</td>\n",
       "    </tr>\n",
       "    <tr>\n",
       "      <th>6</th>\n",
       "      <td>t_country_region</td>\n",
       "    </tr>\n",
       "  </tbody>\n",
       "</table>\n",
       "</div>"
      ],
      "text/plain": [
       "               name\n",
       "0       t_p_e_ratio\n",
       "1        t_bus_term\n",
       "2      t_market_cap\n",
       "3  t_dividend_yield\n",
       "4        t_earnings\n",
       "5         t_revenue\n",
       "6  t_country_region"
      ]
     },
     "metadata": {},
     "output_type": "display_data"
    },
    {
     "name": "stdout",
     "output_type": "stream",
     "text": [
      "\n",
      "Ollama parameters:\n",
      "model=qwen2.5-coder:latest,\n",
      "options={'gpu': True, 'num_ctx': 2048, 'top_p': 0.9, 'top_k': 40, 'seed': 42, 'stop': ['STOP'], 'temperature': 0.2, 'repeat_penalty': 1.1, 'num_predict': 500},\n",
      "keep_alive=None\n",
      "================================================================================\n",
      "\n",
      "\n",
      "[( <Python> )]\n",
      "generated Plotly code\n",
      "================================================================================\n",
      "\n"
     ]
    },
    {
     "data": {
      "text/html": [
       "<style>pre { line-height: 125%; }\n",
       "td.linenos .normal { color: inherit; background-color: transparent; padding-left: 5px; padding-right: 5px; }\n",
       "span.linenos { color: inherit; background-color: transparent; padding-left: 5px; padding-right: 5px; }\n",
       "td.linenos .special { color: #000000; background-color: #ffffc0; padding-left: 5px; padding-right: 5px; }\n",
       "span.linenos.special { color: #000000; background-color: #ffffc0; padding-left: 5px; padding-right: 5px; }\n",
       ".output_html .hll { background-color: #ffffcc }\n",
       ".output_html { background: #f8f8f8; }\n",
       ".output_html .c { color: #3D7B7B; font-style: italic } /* Comment */\n",
       ".output_html .err { border: 1px solid #FF0000 } /* Error */\n",
       ".output_html .k { color: #008000; font-weight: bold } /* Keyword */\n",
       ".output_html .o { color: #666666 } /* Operator */\n",
       ".output_html .ch { color: #3D7B7B; font-style: italic } /* Comment.Hashbang */\n",
       ".output_html .cm { color: #3D7B7B; font-style: italic } /* Comment.Multiline */\n",
       ".output_html .cp { color: #9C6500 } /* Comment.Preproc */\n",
       ".output_html .cpf { color: #3D7B7B; font-style: italic } /* Comment.PreprocFile */\n",
       ".output_html .c1 { color: #3D7B7B; font-style: italic } /* Comment.Single */\n",
       ".output_html .cs { color: #3D7B7B; font-style: italic } /* Comment.Special */\n",
       ".output_html .gd { color: #A00000 } /* Generic.Deleted */\n",
       ".output_html .ge { font-style: italic } /* Generic.Emph */\n",
       ".output_html .ges { font-weight: bold; font-style: italic } /* Generic.EmphStrong */\n",
       ".output_html .gr { color: #E40000 } /* Generic.Error */\n",
       ".output_html .gh { color: #000080; font-weight: bold } /* Generic.Heading */\n",
       ".output_html .gi { color: #008400 } /* Generic.Inserted */\n",
       ".output_html .go { color: #717171 } /* Generic.Output */\n",
       ".output_html .gp { color: #000080; font-weight: bold } /* Generic.Prompt */\n",
       ".output_html .gs { font-weight: bold } /* Generic.Strong */\n",
       ".output_html .gu { color: #800080; font-weight: bold } /* Generic.Subheading */\n",
       ".output_html .gt { color: #0044DD } /* Generic.Traceback */\n",
       ".output_html .kc { color: #008000; font-weight: bold } /* Keyword.Constant */\n",
       ".output_html .kd { color: #008000; font-weight: bold } /* Keyword.Declaration */\n",
       ".output_html .kn { color: #008000; font-weight: bold } /* Keyword.Namespace */\n",
       ".output_html .kp { color: #008000 } /* Keyword.Pseudo */\n",
       ".output_html .kr { color: #008000; font-weight: bold } /* Keyword.Reserved */\n",
       ".output_html .kt { color: #B00040 } /* Keyword.Type */\n",
       ".output_html .m { color: #666666 } /* Literal.Number */\n",
       ".output_html .s { color: #BA2121 } /* Literal.String */\n",
       ".output_html .na { color: #687822 } /* Name.Attribute */\n",
       ".output_html .nb { color: #008000 } /* Name.Builtin */\n",
       ".output_html .nc { color: #0000FF; font-weight: bold } /* Name.Class */\n",
       ".output_html .no { color: #880000 } /* Name.Constant */\n",
       ".output_html .nd { color: #AA22FF } /* Name.Decorator */\n",
       ".output_html .ni { color: #717171; font-weight: bold } /* Name.Entity */\n",
       ".output_html .ne { color: #CB3F38; font-weight: bold } /* Name.Exception */\n",
       ".output_html .nf { color: #0000FF } /* Name.Function */\n",
       ".output_html .nl { color: #767600 } /* Name.Label */\n",
       ".output_html .nn { color: #0000FF; font-weight: bold } /* Name.Namespace */\n",
       ".output_html .nt { color: #008000; font-weight: bold } /* Name.Tag */\n",
       ".output_html .nv { color: #19177C } /* Name.Variable */\n",
       ".output_html .ow { color: #AA22FF; font-weight: bold } /* Operator.Word */\n",
       ".output_html .w { color: #bbbbbb } /* Text.Whitespace */\n",
       ".output_html .mb { color: #666666 } /* Literal.Number.Bin */\n",
       ".output_html .mf { color: #666666 } /* Literal.Number.Float */\n",
       ".output_html .mh { color: #666666 } /* Literal.Number.Hex */\n",
       ".output_html .mi { color: #666666 } /* Literal.Number.Integer */\n",
       ".output_html .mo { color: #666666 } /* Literal.Number.Oct */\n",
       ".output_html .sa { color: #BA2121 } /* Literal.String.Affix */\n",
       ".output_html .sb { color: #BA2121 } /* Literal.String.Backtick */\n",
       ".output_html .sc { color: #BA2121 } /* Literal.String.Char */\n",
       ".output_html .dl { color: #BA2121 } /* Literal.String.Delimiter */\n",
       ".output_html .sd { color: #BA2121; font-style: italic } /* Literal.String.Doc */\n",
       ".output_html .s2 { color: #BA2121 } /* Literal.String.Double */\n",
       ".output_html .se { color: #AA5D1F; font-weight: bold } /* Literal.String.Escape */\n",
       ".output_html .sh { color: #BA2121 } /* Literal.String.Heredoc */\n",
       ".output_html .si { color: #A45A77; font-weight: bold } /* Literal.String.Interpol */\n",
       ".output_html .sx { color: #008000 } /* Literal.String.Other */\n",
       ".output_html .sr { color: #A45A77 } /* Literal.String.Regex */\n",
       ".output_html .s1 { color: #BA2121 } /* Literal.String.Single */\n",
       ".output_html .ss { color: #19177C } /* Literal.String.Symbol */\n",
       ".output_html .bp { color: #008000 } /* Name.Builtin.Pseudo */\n",
       ".output_html .fm { color: #0000FF } /* Name.Function.Magic */\n",
       ".output_html .vc { color: #19177C } /* Name.Variable.Class */\n",
       ".output_html .vg { color: #19177C } /* Name.Variable.Global */\n",
       ".output_html .vi { color: #19177C } /* Name.Variable.Instance */\n",
       ".output_html .vm { color: #19177C } /* Name.Variable.Magic */\n",
       ".output_html .il { color: #666666 } /* Literal.Number.Integer.Long */</style><div class=\"highlight\"><pre><span></span><span class=\"kn\">import</span> <span class=\"nn\">plotly.express</span> <span class=\"k\">as</span> <span class=\"nn\">px</span>\n",
       "\n",
       "<span class=\"k\">if</span> <span class=\"nb\">len</span><span class=\"p\">(</span><span class=\"n\">df</span><span class=\"p\">)</span> <span class=\"o\">&gt;</span> <span class=\"mi\">1</span><span class=\"p\">:</span>\n",
       "    <span class=\"n\">fig</span> <span class=\"o\">=</span> <span class=\"n\">px</span><span class=\"o\">.</span><span class=\"n\">bar</span><span class=\"p\">(</span><span class=\"n\">df</span><span class=\"o\">.</span><span class=\"n\">head</span><span class=\"p\">(</span><span class=\"mi\">20</span><span class=\"p\">),</span> <span class=\"n\">x</span><span class=\"o\">=</span><span class=\"s1\">&#39;name&#39;</span><span class=\"p\">,</span> <span class=\"n\">title</span><span class=\"o\">=</span><span class=\"s1\">&#39;Tables in SQLite Database Catalog&#39;</span><span class=\"p\">)</span>\n",
       "<span class=\"k\">else</span><span class=\"p\">:</span>\n",
       "    <span class=\"n\">fig</span> <span class=\"o\">=</span> <span class=\"n\">px</span><span class=\"o\">.</span><span class=\"n\">indicator</span><span class=\"p\">(</span><span class=\"n\">name</span><span class=\"o\">=</span><span class=\"n\">df</span><span class=\"p\">[</span><span class=\"s1\">&#39;name&#39;</span><span class=\"p\">]</span><span class=\"o\">.</span><span class=\"n\">values</span><span class=\"p\">[</span><span class=\"mi\">0</span><span class=\"p\">],</span> <span class=\"n\">value</span><span class=\"o\">=</span><span class=\"mi\">1</span><span class=\"p\">,</span> <span class=\"n\">title</span><span class=\"o\">=</span><span class=\"s1\">&#39;Single Table in SQLite Database Catalog&#39;</span><span class=\"p\">)</span>\n",
       "</pre></div>\n"
      ],
      "text/latex": [
       "\\begin{Verbatim}[commandchars=\\\\\\{\\}]\n",
       "\\PY{k+kn}{import} \\PY{n+nn}{plotly}\\PY{n+nn}{.}\\PY{n+nn}{express} \\PY{k}{as} \\PY{n+nn}{px}\n",
       "\n",
       "\\PY{k}{if} \\PY{n+nb}{len}\\PY{p}{(}\\PY{n}{df}\\PY{p}{)} \\PY{o}{\\PYZgt{}} \\PY{l+m+mi}{1}\\PY{p}{:}\n",
       "    \\PY{n}{fig} \\PY{o}{=} \\PY{n}{px}\\PY{o}{.}\\PY{n}{bar}\\PY{p}{(}\\PY{n}{df}\\PY{o}{.}\\PY{n}{head}\\PY{p}{(}\\PY{l+m+mi}{20}\\PY{p}{)}\\PY{p}{,} \\PY{n}{x}\\PY{o}{=}\\PY{l+s+s1}{\\PYZsq{}}\\PY{l+s+s1}{name}\\PY{l+s+s1}{\\PYZsq{}}\\PY{p}{,} \\PY{n}{title}\\PY{o}{=}\\PY{l+s+s1}{\\PYZsq{}}\\PY{l+s+s1}{Tables in SQLite Database Catalog}\\PY{l+s+s1}{\\PYZsq{}}\\PY{p}{)}\n",
       "\\PY{k}{else}\\PY{p}{:}\n",
       "    \\PY{n}{fig} \\PY{o}{=} \\PY{n}{px}\\PY{o}{.}\\PY{n}{indicator}\\PY{p}{(}\\PY{n}{name}\\PY{o}{=}\\PY{n}{df}\\PY{p}{[}\\PY{l+s+s1}{\\PYZsq{}}\\PY{l+s+s1}{name}\\PY{l+s+s1}{\\PYZsq{}}\\PY{p}{]}\\PY{o}{.}\\PY{n}{values}\\PY{p}{[}\\PY{l+m+mi}{0}\\PY{p}{]}\\PY{p}{,} \\PY{n}{value}\\PY{o}{=}\\PY{l+m+mi}{1}\\PY{p}{,} \\PY{n}{title}\\PY{o}{=}\\PY{l+s+s1}{\\PYZsq{}}\\PY{l+s+s1}{Single Table in SQLite Database Catalog}\\PY{l+s+s1}{\\PYZsq{}}\\PY{p}{)}\n",
       "\\end{Verbatim}\n"
      ],
      "text/plain": [
       "import plotly.express as px\n",
       "\n",
       "if len(df) > 1:\n",
       "    fig = px.bar(df.head(20), x='name', title='Tables in SQLite Database Catalog')\n",
       "else:\n",
       "    fig = px.indicator(name=df['name'].values[0], value=1, title='Single Table in SQLite Database Catalog')\n"
      ]
     },
     "metadata": {},
     "output_type": "display_data"
    },
    {
     "data": {
      "image/png": "[encoded data removed]",
      "text/plain": [
       "<IPython.core.display.Image object>"
      ]
     },
     "metadata": {},
     "output_type": "display_data"
    }
   ],
   "source": [
    "question = \"Can you list all tables in the SQLite database catalog?\"\n",
    "resp = vn.ask_adaptive(question=question)"
   ]
  },
  {
   "cell_type": "code",
   "execution_count": 25,
   "id": "81d54f50-5fcf-41ac-af70-5dfdd3c399e6",
   "metadata": {},
   "outputs": [
    {
     "name": "stdout",
     "output_type": "stream",
     "text": [
      "\n",
      "\n",
      "\n",
      "================================================================================\n",
      "\n",
      "# QUESTION :  Find top 10 companyies with the heighest market cap in country named 'United States' \n",
      "\n",
      "================================================================================\n",
      "\n",
      "\n",
      "Ollama parameters:\n",
      "model=qwen2.5-coder:latest,\n",
      "options={'gpu': True, 'num_ctx': 2048, 'top_p': 0.9, 'top_k': 40, 'seed': 42, 'stop': ['STOP'], 'temperature': 0.2, 'repeat_penalty': 1.1, 'num_predict': 500},\n",
      "keep_alive=None\n",
      "================================================================================\n",
      "\n",
      "\n",
      "[( EXTRACTED SQL )]\n",
      "SELECT c.name AS CompanyName, c.market_cap AS MarketCap\n",
      "FROM companies c\n",
      "JOIN countries co ON c.country_id = co.id\n",
      "WHERE co.name = 'United States'\n",
      "ORDER BY c.market_cap DESC\n",
      "LIMIT 10;\n",
      "================================================================================\n",
      "\n",
      "\n",
      "[( <SQL> )]\n",
      "generated SQL statement\n",
      "================================================================================\n",
      "\n"
     ]
    },
    {
     "data": {
      "text/html": [
       "<style>pre { line-height: 125%; }\n",
       "td.linenos .normal { color: inherit; background-color: transparent; padding-left: 5px; padding-right: 5px; }\n",
       "span.linenos { color: inherit; background-color: transparent; padding-left: 5px; padding-right: 5px; }\n",
       "td.linenos .special { color: #000000; background-color: #ffffc0; padding-left: 5px; padding-right: 5px; }\n",
       "span.linenos.special { color: #000000; background-color: #ffffc0; padding-left: 5px; padding-right: 5px; }\n",
       ".output_html .hll { background-color: #ffffcc }\n",
       ".output_html { background: #f8f8f8; }\n",
       ".output_html .c { color: #3D7B7B; font-style: italic } /* Comment */\n",
       ".output_html .err { border: 1px solid #FF0000 } /* Error */\n",
       ".output_html .k { color: #008000; font-weight: bold } /* Keyword */\n",
       ".output_html .o { color: #666666 } /* Operator */\n",
       ".output_html .ch { color: #3D7B7B; font-style: italic } /* Comment.Hashbang */\n",
       ".output_html .cm { color: #3D7B7B; font-style: italic } /* Comment.Multiline */\n",
       ".output_html .cp { color: #9C6500 } /* Comment.Preproc */\n",
       ".output_html .cpf { color: #3D7B7B; font-style: italic } /* Comment.PreprocFile */\n",
       ".output_html .c1 { color: #3D7B7B; font-style: italic } /* Comment.Single */\n",
       ".output_html .cs { color: #3D7B7B; font-style: italic } /* Comment.Special */\n",
       ".output_html .gd { color: #A00000 } /* Generic.Deleted */\n",
       ".output_html .ge { font-style: italic } /* Generic.Emph */\n",
       ".output_html .ges { font-weight: bold; font-style: italic } /* Generic.EmphStrong */\n",
       ".output_html .gr { color: #E40000 } /* Generic.Error */\n",
       ".output_html .gh { color: #000080; font-weight: bold } /* Generic.Heading */\n",
       ".output_html .gi { color: #008400 } /* Generic.Inserted */\n",
       ".output_html .go { color: #717171 } /* Generic.Output */\n",
       ".output_html .gp { color: #000080; font-weight: bold } /* Generic.Prompt */\n",
       ".output_html .gs { font-weight: bold } /* Generic.Strong */\n",
       ".output_html .gu { color: #800080; font-weight: bold } /* Generic.Subheading */\n",
       ".output_html .gt { color: #0044DD } /* Generic.Traceback */\n",
       ".output_html .kc { color: #008000; font-weight: bold } /* Keyword.Constant */\n",
       ".output_html .kd { color: #008000; font-weight: bold } /* Keyword.Declaration */\n",
       ".output_html .kn { color: #008000; font-weight: bold } /* Keyword.Namespace */\n",
       ".output_html .kp { color: #008000 } /* Keyword.Pseudo */\n",
       ".output_html .kr { color: #008000; font-weight: bold } /* Keyword.Reserved */\n",
       ".output_html .kt { color: #B00040 } /* Keyword.Type */\n",
       ".output_html .m { color: #666666 } /* Literal.Number */\n",
       ".output_html .s { color: #BA2121 } /* Literal.String */\n",
       ".output_html .na { color: #687822 } /* Name.Attribute */\n",
       ".output_html .nb { color: #008000 } /* Name.Builtin */\n",
       ".output_html .nc { color: #0000FF; font-weight: bold } /* Name.Class */\n",
       ".output_html .no { color: #880000 } /* Name.Constant */\n",
       ".output_html .nd { color: #AA22FF } /* Name.Decorator */\n",
       ".output_html .ni { color: #717171; font-weight: bold } /* Name.Entity */\n",
       ".output_html .ne { color: #CB3F38; font-weight: bold } /* Name.Exception */\n",
       ".output_html .nf { color: #0000FF } /* Name.Function */\n",
       ".output_html .nl { color: #767600 } /* Name.Label */\n",
       ".output_html .nn { color: #0000FF; font-weight: bold } /* Name.Namespace */\n",
       ".output_html .nt { color: #008000; font-weight: bold } /* Name.Tag */\n",
       ".output_html .nv { color: #19177C } /* Name.Variable */\n",
       ".output_html .ow { color: #AA22FF; font-weight: bold } /* Operator.Word */\n",
       ".output_html .w { color: #bbbbbb } /* Text.Whitespace */\n",
       ".output_html .mb { color: #666666 } /* Literal.Number.Bin */\n",
       ".output_html .mf { color: #666666 } /* Literal.Number.Float */\n",
       ".output_html .mh { color: #666666 } /* Literal.Number.Hex */\n",
       ".output_html .mi { color: #666666 } /* Literal.Number.Integer */\n",
       ".output_html .mo { color: #666666 } /* Literal.Number.Oct */\n",
       ".output_html .sa { color: #BA2121 } /* Literal.String.Affix */\n",
       ".output_html .sb { color: #BA2121 } /* Literal.String.Backtick */\n",
       ".output_html .sc { color: #BA2121 } /* Literal.String.Char */\n",
       ".output_html .dl { color: #BA2121 } /* Literal.String.Delimiter */\n",
       ".output_html .sd { color: #BA2121; font-style: italic } /* Literal.String.Doc */\n",
       ".output_html .s2 { color: #BA2121 } /* Literal.String.Double */\n",
       ".output_html .se { color: #AA5D1F; font-weight: bold } /* Literal.String.Escape */\n",
       ".output_html .sh { color: #BA2121 } /* Literal.String.Heredoc */\n",
       ".output_html .si { color: #A45A77; font-weight: bold } /* Literal.String.Interpol */\n",
       ".output_html .sx { color: #008000 } /* Literal.String.Other */\n",
       ".output_html .sr { color: #A45A77 } /* Literal.String.Regex */\n",
       ".output_html .s1 { color: #BA2121 } /* Literal.String.Single */\n",
       ".output_html .ss { color: #19177C } /* Literal.String.Symbol */\n",
       ".output_html .bp { color: #008000 } /* Name.Builtin.Pseudo */\n",
       ".output_html .fm { color: #0000FF } /* Name.Function.Magic */\n",
       ".output_html .vc { color: #19177C } /* Name.Variable.Class */\n",
       ".output_html .vg { color: #19177C } /* Name.Variable.Global */\n",
       ".output_html .vi { color: #19177C } /* Name.Variable.Instance */\n",
       ".output_html .vm { color: #19177C } /* Name.Variable.Magic */\n",
       ".output_html .il { color: #666666 } /* Literal.Number.Integer.Long */</style><div class=\"highlight\"><pre><span></span><span class=\"k\">SELECT</span><span class=\"w\"> </span><span class=\"k\">c</span><span class=\"p\">.</span><span class=\"n\">name</span><span class=\"w\"> </span><span class=\"k\">AS</span><span class=\"w\"> </span><span class=\"n\">CompanyName</span><span class=\"p\">,</span><span class=\"w\"> </span><span class=\"k\">c</span><span class=\"p\">.</span><span class=\"n\">market_cap</span><span class=\"w\"> </span><span class=\"k\">AS</span><span class=\"w\"> </span><span class=\"n\">MarketCap</span>\n",
       "<span class=\"k\">FROM</span><span class=\"w\"> </span><span class=\"n\">companies</span><span class=\"w\"> </span><span class=\"k\">c</span>\n",
       "<span class=\"k\">JOIN</span><span class=\"w\"> </span><span class=\"n\">countries</span><span class=\"w\"> </span><span class=\"n\">co</span><span class=\"w\"> </span><span class=\"k\">ON</span><span class=\"w\"> </span><span class=\"k\">c</span><span class=\"p\">.</span><span class=\"n\">country_id</span><span class=\"w\"> </span><span class=\"o\">=</span><span class=\"w\"> </span><span class=\"n\">co</span><span class=\"p\">.</span><span class=\"n\">id</span>\n",
       "<span class=\"k\">WHERE</span><span class=\"w\"> </span><span class=\"n\">co</span><span class=\"p\">.</span><span class=\"n\">name</span><span class=\"w\"> </span><span class=\"o\">=</span><span class=\"w\"> </span><span class=\"s1\">&#39;United States&#39;</span>\n",
       "<span class=\"k\">ORDER</span><span class=\"w\"> </span><span class=\"k\">BY</span><span class=\"w\"> </span><span class=\"k\">c</span><span class=\"p\">.</span><span class=\"n\">market_cap</span><span class=\"w\"> </span><span class=\"k\">DESC</span>\n",
       "<span class=\"k\">LIMIT</span><span class=\"w\"> </span><span class=\"mi\">10</span><span class=\"p\">;</span>\n",
       "</pre></div>\n"
      ],
      "text/latex": [
       "\\begin{Verbatim}[commandchars=\\\\\\{\\}]\n",
       "\\PY{k}{SELECT}\\PY{+w}{ }\\PY{k}{c}\\PY{p}{.}\\PY{n}{name}\\PY{+w}{ }\\PY{k}{AS}\\PY{+w}{ }\\PY{n}{CompanyName}\\PY{p}{,}\\PY{+w}{ }\\PY{k}{c}\\PY{p}{.}\\PY{n}{market\\PYZus{}cap}\\PY{+w}{ }\\PY{k}{AS}\\PY{+w}{ }\\PY{n}{MarketCap}\n",
       "\\PY{k}{FROM}\\PY{+w}{ }\\PY{n}{companies}\\PY{+w}{ }\\PY{k}{c}\n",
       "\\PY{k}{JOIN}\\PY{+w}{ }\\PY{n}{countries}\\PY{+w}{ }\\PY{n}{co}\\PY{+w}{ }\\PY{k}{ON}\\PY{+w}{ }\\PY{k}{c}\\PY{p}{.}\\PY{n}{country\\PYZus{}id}\\PY{+w}{ }\\PY{o}{=}\\PY{+w}{ }\\PY{n}{co}\\PY{p}{.}\\PY{n}{id}\n",
       "\\PY{k}{WHERE}\\PY{+w}{ }\\PY{n}{co}\\PY{p}{.}\\PY{n}{name}\\PY{+w}{ }\\PY{o}{=}\\PY{+w}{ }\\PY{l+s+s1}{\\PYZsq{}United States\\PYZsq{}}\n",
       "\\PY{k}{ORDER}\\PY{+w}{ }\\PY{k}{BY}\\PY{+w}{ }\\PY{k}{c}\\PY{p}{.}\\PY{n}{market\\PYZus{}cap}\\PY{+w}{ }\\PY{k}{DESC}\n",
       "\\PY{k}{LIMIT}\\PY{+w}{ }\\PY{l+m+mi}{10}\\PY{p}{;}\n",
       "\\end{Verbatim}\n"
      ],
      "text/plain": [
       "SELECT c.name AS CompanyName, c.market_cap AS MarketCap\n",
       "FROM companies c\n",
       "JOIN countries co ON c.country_id = co.id\n",
       "WHERE co.name = 'United States'\n",
       "ORDER BY c.market_cap DESC\n",
       "LIMIT 10;"
      ]
     },
     "metadata": {},
     "output_type": "display_data"
    },
    {
     "name": "stdout",
     "output_type": "stream",
     "text": [
      "\n",
      "[( RETRY )]\n",
      "***** 1 *****\n",
      "================================================================================\n",
      "\n",
      "\n",
      "Ollama parameters:\n",
      "model=qwen2.5-coder:latest,\n",
      "options={'gpu': True, 'num_ctx': 2048, 'top_p': 0.9, 'top_k': 40, 'seed': 42, 'stop': ['STOP'], 'temperature': 0.2, 'repeat_penalty': 1.1, 'num_predict': 500},\n",
      "keep_alive=None\n",
      "================================================================================\n",
      "\n",
      "\n",
      "[( RETRY )]\n",
      "***** 2 *****\n",
      "================================================================================\n",
      "\n",
      "\n",
      "Ollama parameters:\n",
      "model=qwen2.5-coder:latest,\n",
      "options={'gpu': True, 'num_ctx': 2048, 'top_p': 0.9, 'top_k': 40, 'seed': 42, 'stop': ['STOP'], 'temperature': 0.2, 'repeat_penalty': 1.1, 'num_predict': 500},\n",
      "keep_alive=None\n",
      "================================================================================\n",
      "\n",
      "\n",
      "[( RETRY )]\n",
      "***** 3 *****\n",
      "================================================================================\n",
      "\n",
      "\n",
      "Ollama parameters:\n",
      "model=qwen2.5-coder:latest,\n",
      "options={'gpu': True, 'num_ctx': 2048, 'top_p': 0.9, 'top_k': 40, 'seed': 42, 'stop': ['STOP'], 'temperature': 0.2, 'repeat_penalty': 1.1, 'num_predict': 500},\n",
      "keep_alive=None\n",
      "================================================================================\n",
      "\n"
     ]
    }
   ],
   "source": [
    "question = \"Find top 10 companyies with the heighest market cap in country named 'United States' \"\n",
    "resp = vn.ask_adaptive(question=question)"
   ]
  },
  {
   "cell_type": "code",
   "execution_count": null,
   "id": "2a49add6-85ab-4711-8aca-8eeb67276d77",
   "metadata": {},
   "outputs": [],
   "source": []
  },
  {
   "cell_type": "code",
   "execution_count": null,
   "id": "b5463646-4453-4038-9883-c717324b7471",
   "metadata": {},
   "outputs": [],
   "source": []
  },
  {
   "cell_type": "code",
   "execution_count": null,
   "id": "7b880e88-8700-4a79-a7ea-8f5af472162d",
   "metadata": {},
   "outputs": [],
   "source": [
    "BREAK_HERE = True\n",
    "if BREAK_HERE:\n",
    "    raise Exception(\"Take a break\")"
   ]
  },
  {
   "cell_type": "code",
   "execution_count": null,
   "id": "87758c45-03f9-4fc7-b8ec-fc94496abe03",
   "metadata": {},
   "outputs": [],
   "source": [
    "questions = [\n",
    "\"Can you list all tables in the SQLite database catalog?\",\n",
    "\n",
    "\"which table stores Company P/E Ratio, Hint: No need to generate SQL\",\n",
    "\n",
    "\"which table stores Company Dividend Yield, Hint: No need to generate SQL\",\n",
    "\n",
    "\"which table stores Company Market Cap, Hint: No need to generate SQL\",\n",
    "\n",
    "\"which table stores Company Revenue, Hint: No need to generate SQL\",\n",
    "\n",
    "\"which table stores Company Earnings\",\n",
    "\n",
    "\"Find 10 companyies with the lowest PE Ratio above 10 in Germany\",   \n",
    "\n",
    "\n",
    "\n",
    "\"Find the customer with the most invoices \",  # negative test\n",
    "\n",
    "\"\"\"\n",
    "Find top 5 companyies in Asia with the hightes PE Ratio above 40, list company name and PE ratio,\n",
    "Hint: \"Asia\" is a region name, you need to join \"t_p_e_ratio\" table with \"t_country_region\" table \n",
    "on \"country\" columns to answer this question .\n",
    "\"\"\",\n",
    "\n",
    "\"\"\"\n",
    "Find top 5 companyies with the lowest PE Ratio in the range of 20-30, list their names and respective PE ratios,\n",
    "\"\"\",\n",
    "\n",
    "\"\"\" \n",
    "\"What are the Top 20 companies in the United States ranked by Dividend Yield\"\n",
    "\"\"\",\n",
    "\n",
    "\"\"\" \n",
    "\"What are the Top 20 companies in the United States ranked by Revenue\"\n",
    "\"\"\",\n",
    "\n",
    "\"\"\"\n",
    "Find Top 10 Company by Dividend Yield in each country\n",
    "\"\"\",\n",
    "\n",
    "\n",
    "]"
   ]
  },
  {
   "cell_type": "code",
   "execution_count": null,
   "id": "c766296c-39f4-4a2d-b174-2c14e037b763",
   "metadata": {},
   "outputs": [],
   "source": [
    "ts_start = time()\n",
    "\n",
    "for n, question in enumerate(questions):\n",
    "    # if n != 4: continue\n",
    "    # if n > 5: continue\n",
    "\n",
    "    resp = vn.ask_adaptive(question=question, tag_id=n+2)\n",
    "\n",
    "ts_stop = time()\n",
    "elapsed_time = ts_stop - ts_start"
   ]
  },
  {
   "cell_type": "code",
   "execution_count": null,
   "id": "93235302-a8ba-485f-9f53-4109fd11da3b",
   "metadata": {},
   "outputs": [],
   "source": []
  },
  {
   "cell_type": "code",
   "execution_count": null,
   "id": "57d9493e-065e-4d12-bd99-3c641e7ed22d",
   "metadata": {},
   "outputs": [],
   "source": []
  },
  {
   "cell_type": "markdown",
   "id": "20b90444-8d0e-4da6-bee1-0be4e3cf7723",
   "metadata": {},
   "source": [
    "### Check completion time"
   ]
  },
  {
   "cell_type": "code",
   "execution_count": null,
   "id": "b166a495-acf3-42f5-a182-6293e2520f8d",
   "metadata": {},
   "outputs": [],
   "source": [
    "\n",
    "print(f\"Completed tests:\\n================\\n run on host '{hostname}' \\n with LLM model '{model_name}' \\n took {elapsed_time:.2f} sec\")"
   ]
  },
  {
   "cell_type": "code",
   "execution_count": null,
   "id": "d01cf981-e104-44a6-b6c9-bf0b979b1d50",
   "metadata": {},
   "outputs": [],
   "source": []
  },
  {
   "cell_type": "code",
   "execution_count": null,
   "id": "6685c34a-3332-4667-94cc-baa1afe63319",
   "metadata": {},
   "outputs": [],
   "source": []
  },
  {
   "cell_type": "code",
   "execution_count": null,
   "id": "ae9f079e-a17b-4478-a124-0db9e47fed33",
   "metadata": {},
   "outputs": [],
   "source": [
    "import re\n",
    "def snake_case(s):\n",
    "    \"\"\"Convert string to snake_case.\"\"\"\n",
    "    s = re.sub(r'[^a-zA-Z0-9]', '_', s)\n",
    "    s = re.sub('([a-z0-9])([A-Z])', r'\\1_\\2', s)\n",
    "    return re.sub('_+', '_', s.lower()).strip('_')"
   ]
  },
  {
   "cell_type": "code",
   "execution_count": null,
   "id": "7e43c37f-1e9f-4e53-abc4-87584a5a71f5",
   "metadata": {},
   "outputs": [],
   "source": [
    "snake_case(\"Price (USD)\")"
   ]
  },
  {
   "cell_type": "code",
   "execution_count": null,
   "id": "9f777891-958f-40be-ab7e-2746368a19bc",
   "metadata": {},
   "outputs": [],
   "source": []
  }
 ],
 "metadata": {
  "kernelspec": {
   "display_name": "Python 3 (ipykernel)",
   "language": "python",
   "name": "python3"
  },
  "language_info": {
   "codemirror_mode": {
    "name": "ipython",
    "version": 3
   },
   "file_extension": ".py",
   "mimetype": "text/x-python",
   "name": "python",
   "nbconvert_exporter": "python",
   "pygments_lexer": "ipython3",
   "version": "3.11.9"
  }
 },
 "nbformat": 4,
 "nbformat_minor": 5
}
