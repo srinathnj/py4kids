{
 "cells": [
  {
   "cell_type": "markdown",
   "id": "7b37d147-f805-5c69-b0b6-e9d5a004ad9b",
   "metadata": {},
   "source": [
    "# Analyze CSV data files with Vanna\n",
    "\n",
    "world top companies\n",
    "- https://www.kaggle.com/datasets/patricklford/largest-companies-analysis-worldwide\n",
    "    -  https://www.kaggle.com/code/nil2012/top-company-key-metrics-analysis"
   ]
  },
  {
   "cell_type": "markdown",
   "id": "ee059407-58ac-50fa-843a-7b876328df13",
   "metadata": {},
   "source": [
    "## Setup"
   ]
  },
  {
   "cell_type": "raw",
   "id": "236aaae4-b743-4d47-993f-27b9ad1b5ca4",
   "metadata": {},
   "source": [
    "!pwd"
   ]
  },
  {
   "cell_type": "raw",
   "id": "a05319c4-0be1-435c-836a-57bbf79011f9",
   "metadata": {
    "scrolled": true
   },
   "source": [
    "!pip install vanna"
   ]
  },
  {
   "cell_type": "raw",
   "id": "c3b83638-726c-4195-8337-1c9a5b0cde73",
   "metadata": {
    "scrolled": true
   },
   "source": [
    "!pip install 'vanna[chromadb]'"
   ]
  },
  {
   "cell_type": "raw",
   "id": "8c387e36-66d4-4a2a-a040-ad6cda83da2b",
   "metadata": {},
   "source": [
    "!pip install ollama"
   ]
  },
  {
   "cell_type": "code",
   "execution_count": 1,
   "id": "29dcb2fa-33cf-4110-99fd-23c459a68495",
   "metadata": {},
   "outputs": [],
   "source": [
    "from glob import glob\n",
    "import os\n",
    "import re\n",
    "from time import time\n",
    "from datetime import datetime \n",
    "\n",
    "import pandas as pd\n",
    "import sqlite3\n",
    "\n",
    "from vanna.ollama import Ollama\n",
    "from vanna.chromadb.chromadb_vector import ChromaDB_VectorStore\n",
    "\n",
    "import warnings\n",
    "warnings.filterwarnings('ignore', category=DeprecationWarning, message='^Number of requested results')\n",
    "# warnings.filterwarnings('ignore', category=DeprecationWarning, message=re.escape(r'^Some regex pattern'))"
   ]
  },
  {
   "cell_type": "code",
   "execution_count": 2,
   "id": "699a293a-8349-4dbc-837d-e63e24925e81",
   "metadata": {},
   "outputs": [],
   "source": [
    "class MyVanna(ChromaDB_VectorStore, Ollama):\n",
    "    def __init__(self, config=None):\n",
    "        ChromaDB_VectorStore.__init__(self, config=config)\n",
    "        Ollama.__init__(self, config=config)"
   ]
  },
  {
   "cell_type": "markdown",
   "id": "ed4594ae-3476-4899-b6d1-05479b3a1475",
   "metadata": {},
   "source": [
    "### load SQLite db with CSV data"
   ]
  },
  {
   "cell_type": "code",
   "execution_count": 3,
   "id": "8ca0b037-c00f-431e-9533-4b35908310e8",
   "metadata": {},
   "outputs": [
    {
     "name": "stdout",
     "output_type": "stream",
     "text": [
      "/home/gongai/projects/wgong/py4kids/lesson-18-ai/vanna/note_book/data/company_rank.sqlite\n"
     ]
    }
   ],
   "source": [
    "file_db_path = \"../data/company_rank.sqlite\"\n",
    "file_db = os.path.abspath(os.path.expanduser(file_db_path))\n",
    "print(file_db)"
   ]
  },
  {
   "cell_type": "code",
   "execution_count": 4,
   "id": "af7d1ea4-5df6-46d8-bb9c-925b9b7d5cf5",
   "metadata": {},
   "outputs": [
    {
     "name": "stdout",
     "output_type": "stream",
     "text": [
      "['../data/company_rank/Companies_ranked_by_P_E_ratio.csv', '../data/company_rank/Companies_ranked_by_Market_Cap.csv', '../data/company_rank/Companies_ranked_by_Dividend_Yield.csv', '../data/company_rank/Companies_ranked_by_Earnings.csv', '../data/company_rank/Companies_ranked_by_Revenue.csv', '../data/company_rank/country_region.csv']\n",
      "\n",
      " Loading data from file: '../data/company_rank/Companies_ranked_by_P_E_ratio.csv' \n",
      " into table_name: 't_p_e_ratio'\n",
      "\n",
      " Loading data from file: '../data/company_rank/Companies_ranked_by_Market_Cap.csv' \n",
      " into table_name: 't_market_cap'\n",
      "\n",
      " Loading data from file: '../data/company_rank/Companies_ranked_by_Dividend_Yield.csv' \n",
      " into table_name: 't_dividend_yield'\n",
      "\n",
      " Loading data from file: '../data/company_rank/Companies_ranked_by_Earnings.csv' \n",
      " into table_name: 't_earnings'\n",
      "\n",
      " Loading data from file: '../data/company_rank/Companies_ranked_by_Revenue.csv' \n",
      " into table_name: 't_revenue'\n",
      "\n",
      " Loading data from file: '../data/company_rank/country_region.csv' \n",
      " into table_name: 't_country_region'\n"
     ]
    }
   ],
   "source": [
    "LOAD_CSV = True # False\n",
    "if LOAD_CSV:\n",
    "    csv_files = glob(\"../data/company_rank/*.csv\")\n",
    "    print(csv_files)\n",
    "    \n",
    "    conn = sqlite3.connect(file_db)\n",
    "    df_dict = {}\n",
    "    col_map = {}\n",
    "    for i in csv_files:\n",
    "        t = i.split(\"/\")[-1].lower().replace(\"companies_ranked_by_\",\"\").replace(\".csv\",\"\")\n",
    "        df = pd.read_csv(i)\n",
    "        c_map = {c:c.lower() for c in df.columns}\n",
    "        c_map['price (GBP)'] = 'price_gbp'\n",
    "        # print(f\"col_map: {c_map}\")\n",
    "        table_name = f\"t_{t}\"\n",
    "        print(f\"\\n Loading data from file: '{i}' \\n into table_name: '{table_name}'\")\n",
    "        col_map[table_name] = c_map\n",
    "        df.rename(columns=c_map, inplace=True)\n",
    "        df.to_sql(table_name, conn, if_exists='replace', index=False)\n",
    "        df_dict[table_name] = df\n",
    "    conn.close()"
   ]
  },
  {
   "cell_type": "code",
   "execution_count": 5,
   "id": "126b2a31-857d-4215-8e15-9b68dedd0c64",
   "metadata": {},
   "outputs": [],
   "source": [
    "# verify\n",
    "VERIFY_DB = True # False # \n",
    "if VERIFY_DB:\n",
    "    conn = sqlite3.connect(file_db)\n",
    "    sql_stmt = f\"select name from {table_name} limit 10\"\n",
    "    sql_stmt = \"\"\" \n",
    "    select country from t_revenue\n",
    "     UNION \n",
    "    select country from t_earnings\n",
    "     UNION \n",
    "    select country from t_market_cap\n",
    "     UNION \n",
    "    select country from t_p_e_ratio\n",
    "     UNION \n",
    "    select country from t_dividend_yield\n",
    "    \"\"\"\n",
    "    df_2 = pd.read_sql_query(sql_stmt, conn).fillna(\"\")\n",
    "    country_list = df_2[\"country\"].to_list()\n",
    "    # print(df_2)\n",
    "    conn.close()"
   ]
  },
  {
   "cell_type": "code",
   "execution_count": 6,
   "id": "0cea28ef-e395-45aa-abb3-939fe45091d3",
   "metadata": {
    "scrolled": true
   },
   "outputs": [
    {
     "data": {
      "text/plain": [
       "['',\n",
       " 'Argentina',\n",
       " 'Australia',\n",
       " 'Austria',\n",
       " 'Bahamas',\n",
       " 'Bahrain',\n",
       " 'Belgium',\n",
       " 'Bermuda',\n",
       " 'Brazil',\n",
       " 'British Virgin Islands',\n",
       " 'Cambodia',\n",
       " 'Canada',\n",
       " 'Cayman Islands',\n",
       " 'Chile',\n",
       " 'China',\n",
       " 'Colombia',\n",
       " 'Costa Rica',\n",
       " 'Cyprus',\n",
       " 'Czech Republic',\n",
       " 'Denmark',\n",
       " 'Egypt',\n",
       " 'Estonia',\n",
       " 'Finland',\n",
       " 'France',\n",
       " 'Germany',\n",
       " 'Gibraltar',\n",
       " 'Greece',\n",
       " 'Guernsey',\n",
       " 'Hong Kong',\n",
       " 'Hungary',\n",
       " 'Iceland',\n",
       " 'India',\n",
       " 'Indonesia',\n",
       " 'Ireland',\n",
       " 'Isle of Man',\n",
       " 'Israel',\n",
       " 'Italy',\n",
       " 'Japan',\n",
       " 'Jersey',\n",
       " 'Jordan',\n",
       " 'Kazakhstan',\n",
       " 'Kuwait',\n",
       " 'Lithuania',\n",
       " 'Luxembourg',\n",
       " 'Macau',\n",
       " 'Malaysia',\n",
       " 'Malta',\n",
       " 'Mexico',\n",
       " 'Monaco',\n",
       " 'Netherlands',\n",
       " 'New Zealand',\n",
       " 'Nigeria',\n",
       " 'Norway',\n",
       " 'Oman',\n",
       " 'Pakistan',\n",
       " 'Panama',\n",
       " 'Peru',\n",
       " 'Philippines',\n",
       " 'Poland',\n",
       " 'Portugal',\n",
       " 'Qatar',\n",
       " 'Romania',\n",
       " 'Russia',\n",
       " 'Saudi Arabia',\n",
       " 'Singapore',\n",
       " 'South Africa',\n",
       " 'South Korea',\n",
       " 'Spain',\n",
       " 'Sudan',\n",
       " 'Sweden',\n",
       " 'Switzerland',\n",
       " 'Taiwan',\n",
       " 'Thailand',\n",
       " 'Turkey',\n",
       " 'United Arab Emirates',\n",
       " 'United Kingdom',\n",
       " 'United States',\n",
       " 'Uruguay',\n",
       " 'Vietnam']"
      ]
     },
     "execution_count": 6,
     "metadata": {},
     "output_type": "execute_result"
    }
   ],
   "source": [
    "country_list"
   ]
  },
  {
   "cell_type": "markdown",
   "id": "10ba06d7-06c5-4369-82d3-9e30c26eafe2",
   "metadata": {},
   "source": [
    "### Fix country"
   ]
  },
  {
   "cell_type": "markdown",
   "id": "734c41fa-b05c-4142-9006-a0e367e8ed0a",
   "metadata": {},
   "source": [
    "### Setup LLM"
   ]
  },
  {
   "cell_type": "code",
   "execution_count": 7,
   "id": "c83a1c4e-c730-4819-b8d2-77709553df6d",
   "metadata": {},
   "outputs": [],
   "source": [
    "model_name = 'deepseek-coder-v2'\n",
    "config = {\n",
    "    'model': model_name,   # 'mistral' # \"starcoder2\"\n",
    "}\n",
    "\n",
    "clean_and_train = True  # False  \n",
    "\n",
    "sql_id = 1\n",
    "\n",
    "allow_llm_to_see_data = True\n",
    "# allow_llm_to_see_data (bool): Whether to allow the LLM to see the data (for the purposes of introspecting the data to generate the final SQL)."
   ]
  },
  {
   "cell_type": "code",
   "execution_count": 8,
   "id": "995b5b61-ea0d-449f-9c58-f33c9e487bbc",
   "metadata": {},
   "outputs": [],
   "source": [
    "vn = MyVanna(config=config)"
   ]
  },
  {
   "cell_type": "code",
   "execution_count": 9,
   "id": "819c223d-594e-4405-b171-0f495be261a4",
   "metadata": {},
   "outputs": [
    {
     "name": "stdout",
     "output_type": "stream",
     "text": [
      "Hostname: ducklover1\n"
     ]
    }
   ],
   "source": [
    "hostname = os.uname().nodename\n",
    "print(\"Hostname:\", hostname)"
   ]
  },
  {
   "cell_type": "code",
   "execution_count": 10,
   "id": "b050a816-18f6-41e5-a387-0460939e093e",
   "metadata": {},
   "outputs": [],
   "source": [
    "# file_db = os.path.abspath(os.path.expanduser(file_db))\n",
    "vn.connect_to_sqlite(file_db)"
   ]
  },
  {
   "cell_type": "code",
   "execution_count": 11,
   "id": "315df293-fa55-418e-a58e-48af01261045",
   "metadata": {},
   "outputs": [
    {
     "data": {
      "text/plain": [
       "True"
      ]
     },
     "execution_count": 11,
     "metadata": {},
     "output_type": "execute_result"
    }
   ],
   "source": [
    "vn.run_sql_is_set"
   ]
  },
  {
   "cell_type": "code",
   "execution_count": 12,
   "id": "e8e1ff2a-54b1-4c0a-becf-54fb9f449a4a",
   "metadata": {},
   "outputs": [],
   "source": [
    "if clean_and_train:\n",
    "    vn.remove_collections()"
   ]
  },
  {
   "cell_type": "markdown",
   "id": "f06c0e89-83f7-5ad1-8f6e-a64cf5bd8e60",
   "metadata": {},
   "source": [
    "## Prepare Training Data\n",
    "\n",
    "### Add DDL SQL statements\n",
    "\n",
    "You only need to train once. Do not train again unless you want to add more training data."
   ]
  },
  {
   "cell_type": "code",
   "execution_count": 13,
   "id": "e34bc892-c217-4df6-b2ea-c00543d41527",
   "metadata": {},
   "outputs": [],
   "source": [
    "df_ddl = vn.run_sql(\"SELECT type, sql FROM sqlite_master WHERE sql is not null\")"
   ]
  },
  {
   "cell_type": "code",
   "execution_count": 14,
   "id": "350467c7-a8a5-4b8c-a445-4757210a11a1",
   "metadata": {
    "scrolled": true
   },
   "outputs": [
    {
     "data": {
      "text/html": [
       "<div>\n",
       "<style scoped>\n",
       "    .dataframe tbody tr th:only-of-type {\n",
       "        vertical-align: middle;\n",
       "    }\n",
       "\n",
       "    .dataframe tbody tr th {\n",
       "        vertical-align: top;\n",
       "    }\n",
       "\n",
       "    .dataframe thead th {\n",
       "        text-align: right;\n",
       "    }\n",
       "</style>\n",
       "<table border=\"1\" class=\"dataframe\">\n",
       "  <thead>\n",
       "    <tr style=\"text-align: right;\">\n",
       "      <th></th>\n",
       "      <th>type</th>\n",
       "      <th>sql</th>\n",
       "    </tr>\n",
       "  </thead>\n",
       "  <tbody>\n",
       "    <tr>\n",
       "      <th>0</th>\n",
       "      <td>table</td>\n",
       "      <td>CREATE TABLE \"t_p_e_ratio\" (\\n\"rank\" INTEGER,\\...</td>\n",
       "    </tr>\n",
       "    <tr>\n",
       "      <th>1</th>\n",
       "      <td>table</td>\n",
       "      <td>CREATE TABLE \"t_market_cap\" (\\n\"rank\" INTEGER,...</td>\n",
       "    </tr>\n",
       "    <tr>\n",
       "      <th>2</th>\n",
       "      <td>table</td>\n",
       "      <td>CREATE TABLE \"t_dividend_yield\" (\\n\"rank\" INTE...</td>\n",
       "    </tr>\n",
       "    <tr>\n",
       "      <th>3</th>\n",
       "      <td>table</td>\n",
       "      <td>CREATE TABLE \"t_earnings\" (\\n\"rank\" INTEGER,\\n...</td>\n",
       "    </tr>\n",
       "    <tr>\n",
       "      <th>4</th>\n",
       "      <td>table</td>\n",
       "      <td>CREATE TABLE \"t_revenue\" (\\n\"rank\" INTEGER,\\n ...</td>\n",
       "    </tr>\n",
       "    <tr>\n",
       "      <th>5</th>\n",
       "      <td>table</td>\n",
       "      <td>CREATE TABLE \"t_country_region\" (\\n\"country\" T...</td>\n",
       "    </tr>\n",
       "  </tbody>\n",
       "</table>\n",
       "</div>"
      ],
      "text/plain": [
       "    type                                                sql\n",
       "0  table  CREATE TABLE \"t_p_e_ratio\" (\\n\"rank\" INTEGER,\\...\n",
       "1  table  CREATE TABLE \"t_market_cap\" (\\n\"rank\" INTEGER,...\n",
       "2  table  CREATE TABLE \"t_dividend_yield\" (\\n\"rank\" INTE...\n",
       "3  table  CREATE TABLE \"t_earnings\" (\\n\"rank\" INTEGER,\\n...\n",
       "4  table  CREATE TABLE \"t_revenue\" (\\n\"rank\" INTEGER,\\n ...\n",
       "5  table  CREATE TABLE \"t_country_region\" (\\n\"country\" T..."
      ]
     },
     "execution_count": 14,
     "metadata": {},
     "output_type": "execute_result"
    }
   ],
   "source": [
    "df_ddl"
   ]
  },
  {
   "cell_type": "raw",
   "id": "74290f7b-f2fa-457c-bd81-b646cd93d03b",
   "metadata": {},
   "source": [
    "tables = \"t_revenue t_earnings t_market_cap t_p_e_ratio t_dividend_yield\"\n",
    "sql_stmts = []\n",
    "for t in tables.split():\n",
    "    sql_stmts.append(f\"select country from {t}\")\n",
    "print(\"\\n UNION \\n\".join(sql_stmts))"
   ]
  },
  {
   "cell_type": "markdown",
   "id": "3018d7c2-5544-4210-9695-20778cbb1917",
   "metadata": {},
   "source": [
    "### Add business terms"
   ]
  },
  {
   "cell_type": "code",
   "execution_count": 15,
   "id": "a6bcd4cd-dc79-4944-8a1b-ad078f8e5148",
   "metadata": {},
   "outputs": [],
   "source": [
    "business_docs = [\n",
    "\"\"\"\n",
    "Introduction:\n",
    "This dataset ranks top companies in the world.\n",
    "Its analysis delves into the financial performance of top companies by examining key metrics such as \n",
    "- revenue, \n",
    "- earnings, \n",
    "- market capitalisation, \n",
    "- P/E ratio, \n",
    "- dividend yield. \n",
    "\n",
    "By comparing these metrics, we gain a comprehensive understanding of a company's scale, \n",
    "profitability, market value, and growth potential. \n",
    "Through visualisations, the analysis also explores correlations between these metrics and offers \n",
    "insights into country-level performance, highlighting economic dominance across various sectors. \n",
    "This holistic approach provides a multi-dimensional view of global financial powerhouses, investor confidence, \n",
    "and regional economic trends.\n",
    "\"\"\",\n",
    "\n",
    "\"\"\"\n",
    "Terminologies:\n",
    "TTM : Trailing Twelve Months\n",
    "PE : Price over Earning Raio\n",
    "LOV : List-of-Values\n",
    "\"\"\",\n",
    "\n",
    "\"\"\"\n",
    "Key Metrics 1. Revenue (TTM):\n",
    "Table Name: t_revenue ;\n",
    "Definition: This is the total income generated by a company from its operations in the last twelve months ;\n",
    "Potential Insights: High revenue often indicates market dominance or high sales volume. Comparing revenues can reveal which companies are the largest in terms of business volume.\n",
    "\"\"\",\n",
    "\n",
    "\"\"\"\n",
    "Key Metrics 2. Earnings (TTM):\n",
    "Table Name: t_earnings\n",
    "Definition: This refers to the company's profit after taxes and expenses over the trailing twelve months.\n",
    "Potential Insights: Companies with high earnings are more efficient at converting revenue into profit, suggesting better profitability or cost management. A comparison of earnings provides insight into profitability rather than just scale.\n",
    "\"\"\",\n",
    "\n",
    "\"\"\"\n",
    "Key Metrics 3. Market Capitalisation (Market Cap):\n",
    "Table Name: t_market_cap\n",
    "Definition: Market cap is the total value of a company's outstanding shares of stock, calculated as stock price multiplied by the number of shares. It indicates the company’s size in the stock market.\n",
    "Potential Insights: High market cap usually indicates investor confidence in the company. Comparing market cap among the top 15 companies reveals their relative size in financial markets.\n",
    "\"\"\",\n",
    "\n",
    "\"\"\"\n",
    "Key Metrics 4. P/E Ratio (TTM):\n",
    "Table Name: t_p_e_ratio\n",
    "Definition: Price-to-Earnings (P/E) ratio measures a company's current share price relative to its per-share earnings.\n",
    "Potential Insights: A high P/E ratio may indicate that investors expect high growth in the future, while a low P/E ratio could imply undervaluation or scepticism about growth. Companies are compared by their growth prospects or current valuation.\n",
    "\"\"\",\n",
    "\n",
    "\"\"\"\n",
    "Key Metrics 5. Dividend Yield (TTM):\n",
    "Table Name: t_dividend_yield\n",
    "Definition: Dividend yield is a financial ratio that shows how much a company pays out in dividends each year relative to its share price.\n",
    "Potential Insights: High dividend yield may indicate that a company returns more income to shareholders. It’s particularly useful for income-focused investors.\n",
    "\"\"\",\n",
    "\n",
    "\"\"\"\n",
    "List-of-Value (LOV) mapping: Country to Region\n",
    "Table Name: t_country_region\n",
    "Definition: This table translate country to region, can be used to join on country column with other tables to rollup metrics at region-level\n",
    "\"\"\",\n",
    "]"
   ]
  },
  {
   "cell_type": "code",
   "execution_count": 16,
   "id": "e30acacc-567f-4cd9-88ee-b3b2102fa580",
   "metadata": {
    "scrolled": true
   },
   "outputs": [
    {
     "name": "stdout",
     "output_type": "stream",
     "text": [
      "Adding ddl: CREATE TABLE \"t_p_e_ratio\" (\n",
      "\"rank\" INTEGER,\n",
      "  \"name\" TEXT,\n",
      "  \"symbol\" TEXT,\n",
      "  \"pe_ratio_ttm\" REAL,\n",
      "  \"price_gbp\" REAL,\n",
      "  \"country\" TEXT\n",
      ")\n",
      "Adding ddl: CREATE TABLE \"t_market_cap\" (\n",
      "\"rank\" INTEGER,\n",
      "  \"name\" TEXT,\n",
      "  \"symbol\" TEXT,\n",
      "  \"marketcap\" REAL,\n",
      "  \"price_gbp\" REAL,\n",
      "  \"country\" TEXT\n",
      ")\n",
      "Adding ddl: CREATE TABLE \"t_dividend_yield\" (\n",
      "\"rank\" INTEGER,\n",
      "  \"name\" TEXT,\n",
      "  \"symbol\" TEXT,\n",
      "  \"dividend_yield_ttm\" REAL,\n",
      "  \"price_gbp\" REAL,\n",
      "  \"country\" TEXT\n",
      ")\n",
      "Adding ddl: CREATE TABLE \"t_earnings\" (\n",
      "\"rank\" INTEGER,\n",
      "  \"name\" TEXT,\n",
      "  \"symbol\" TEXT,\n",
      "  \"earnings_ttm\" REAL,\n",
      "  \"price_gbp\" REAL,\n",
      "  \"country\" TEXT\n",
      ")\n",
      "Adding ddl: CREATE TABLE \"t_revenue\" (\n",
      "\"rank\" INTEGER,\n",
      "  \"name\" TEXT,\n",
      "  \"symbol\" TEXT,\n",
      "  \"revenue_ttm\" INTEGER,\n",
      "  \"price_gbp\" REAL,\n",
      "  \"country\" TEXT\n",
      ")\n",
      "Adding ddl: CREATE TABLE \"t_country_region\" (\n",
      "\"country\" TEXT,\n",
      "  \"region\" TEXT,\n",
      "  \"sub_region\" TEXT,\n",
      "  \"country_code_2\" TEXT,\n",
      "  \"country_code_3\" TEXT,\n",
      "  \"note\" TEXT\n",
      ")\n",
      "Adding documentation....\n",
      "Adding documentation....\n",
      "Adding documentation....\n",
      "Adding documentation....\n",
      "Adding documentation....\n",
      "Adding documentation....\n",
      "Adding documentation....\n",
      "Adding documentation....\n"
     ]
    }
   ],
   "source": [
    "if clean_and_train:\n",
    "    for ddl in df_ddl['sql'].to_list():\n",
    "        # ddl = strip_brackets(ddl)\n",
    "        vn.train(ddl=ddl)\n",
    "\n",
    "    # Sometimes you may want to add documentation about your business terminology or definitions.\n",
    "    # vn.train(documentation=\"In the chinook database invoice means order\")\n",
    "    for bus_doc in business_docs:\n",
    "        vn.train(documentation=bus_doc)"
   ]
  },
  {
   "cell_type": "code",
   "execution_count": 17,
   "id": "ed84088d-8f81-4193-99e0-c601743fae4c",
   "metadata": {
    "scrolled": true
   },
   "outputs": [
    {
     "data": {
      "text/html": [
       "<div>\n",
       "<style scoped>\n",
       "    .dataframe tbody tr th:only-of-type {\n",
       "        vertical-align: middle;\n",
       "    }\n",
       "\n",
       "    .dataframe tbody tr th {\n",
       "        vertical-align: top;\n",
       "    }\n",
       "\n",
       "    .dataframe thead th {\n",
       "        text-align: right;\n",
       "    }\n",
       "</style>\n",
       "<table border=\"1\" class=\"dataframe\">\n",
       "  <thead>\n",
       "    <tr style=\"text-align: right;\">\n",
       "      <th></th>\n",
       "      <th>id</th>\n",
       "      <th>question</th>\n",
       "      <th>content</th>\n",
       "      <th>training_data_type</th>\n",
       "    </tr>\n",
       "  </thead>\n",
       "  <tbody>\n",
       "    <tr>\n",
       "      <th>0</th>\n",
       "      <td>051f4399-1594-56de-b0bd-9f74053fd5ff-ddl</td>\n",
       "      <td>None</td>\n",
       "      <td>CREATE TABLE \"t_country_region\" (\\n\"country\" T...</td>\n",
       "      <td>ddl</td>\n",
       "    </tr>\n",
       "    <tr>\n",
       "      <th>1</th>\n",
       "      <td>75de6b21-b3df-53ea-a36f-9af69e40913b-ddl</td>\n",
       "      <td>None</td>\n",
       "      <td>CREATE TABLE \"t_revenue\" (\\n\"rank\" INTEGER,\\n ...</td>\n",
       "      <td>ddl</td>\n",
       "    </tr>\n",
       "    <tr>\n",
       "      <th>2</th>\n",
       "      <td>87669f00-5543-579a-a95c-fec096be48ed-ddl</td>\n",
       "      <td>None</td>\n",
       "      <td>CREATE TABLE \"t_dividend_yield\" (\\n\"rank\" INTE...</td>\n",
       "      <td>ddl</td>\n",
       "    </tr>\n",
       "    <tr>\n",
       "      <th>3</th>\n",
       "      <td>b94bb579-73d6-521b-86de-5d5e599bbde5-ddl</td>\n",
       "      <td>None</td>\n",
       "      <td>CREATE TABLE \"t_market_cap\" (\\n\"rank\" INTEGER,...</td>\n",
       "      <td>ddl</td>\n",
       "    </tr>\n",
       "    <tr>\n",
       "      <th>4</th>\n",
       "      <td>e0a92066-0804-52fd-be4e-437ac10622de-ddl</td>\n",
       "      <td>None</td>\n",
       "      <td>CREATE TABLE \"t_earnings\" (\\n\"rank\" INTEGER,\\n...</td>\n",
       "      <td>ddl</td>\n",
       "    </tr>\n",
       "    <tr>\n",
       "      <th>5</th>\n",
       "      <td>f68c7d4a-806f-55f0-962d-74de7018e372-ddl</td>\n",
       "      <td>None</td>\n",
       "      <td>CREATE TABLE \"t_p_e_ratio\" (\\n\"rank\" INTEGER,\\...</td>\n",
       "      <td>ddl</td>\n",
       "    </tr>\n",
       "    <tr>\n",
       "      <th>0</th>\n",
       "      <td>160dc6f8-f66d-56f9-bf0d-f924c831f5fd-doc</td>\n",
       "      <td>None</td>\n",
       "      <td>\\nTerminologies:\\nTTM : Trailing Twelve Months...</td>\n",
       "      <td>documentation</td>\n",
       "    </tr>\n",
       "    <tr>\n",
       "      <th>1</th>\n",
       "      <td>29b133c0-6d77-5089-b7f4-d74f133c70d3-doc</td>\n",
       "      <td>None</td>\n",
       "      <td>\\nKey Metrics 4. P/E Ratio (TTM):\\nTable Name:...</td>\n",
       "      <td>documentation</td>\n",
       "    </tr>\n",
       "    <tr>\n",
       "      <th>2</th>\n",
       "      <td>5d1a1060-01ff-5a14-8fb8-6a79f1cbff38-doc</td>\n",
       "      <td>None</td>\n",
       "      <td>\\nKey Metrics 2. Earnings (TTM):\\nTable Name: ...</td>\n",
       "      <td>documentation</td>\n",
       "    </tr>\n",
       "    <tr>\n",
       "      <th>3</th>\n",
       "      <td>5ec048b8-d9ec-56c9-8ea3-bc955617643e-doc</td>\n",
       "      <td>None</td>\n",
       "      <td>\\nKey Metrics 3. Market Capitalisation (Market...</td>\n",
       "      <td>documentation</td>\n",
       "    </tr>\n",
       "    <tr>\n",
       "      <th>4</th>\n",
       "      <td>d29df893-36db-5891-a6e7-eea218938b1a-doc</td>\n",
       "      <td>None</td>\n",
       "      <td>\\nList-of-Value (LOV) mapping: Country to Regi...</td>\n",
       "      <td>documentation</td>\n",
       "    </tr>\n",
       "    <tr>\n",
       "      <th>5</th>\n",
       "      <td>d392adc0-ae2b-556a-a9c5-ae679ccb2ef0-doc</td>\n",
       "      <td>None</td>\n",
       "      <td>\\nKey Metrics 5. Dividend Yield (TTM):\\nTable ...</td>\n",
       "      <td>documentation</td>\n",
       "    </tr>\n",
       "    <tr>\n",
       "      <th>6</th>\n",
       "      <td>e5c03032-b9a5-5a1a-97b2-86ab75fa48e4-doc</td>\n",
       "      <td>None</td>\n",
       "      <td>\\nKey Metrics 1. Revenue (TTM):\\nTable Name: t...</td>\n",
       "      <td>documentation</td>\n",
       "    </tr>\n",
       "    <tr>\n",
       "      <th>7</th>\n",
       "      <td>f4c3144a-aa8a-5a09-9e75-0927811de802-doc</td>\n",
       "      <td>None</td>\n",
       "      <td>\\nIntroduction:\\nThis dataset ranks top compan...</td>\n",
       "      <td>documentation</td>\n",
       "    </tr>\n",
       "  </tbody>\n",
       "</table>\n",
       "</div>"
      ],
      "text/plain": [
       "                                         id question  \\\n",
       "0  051f4399-1594-56de-b0bd-9f74053fd5ff-ddl     None   \n",
       "1  75de6b21-b3df-53ea-a36f-9af69e40913b-ddl     None   \n",
       "2  87669f00-5543-579a-a95c-fec096be48ed-ddl     None   \n",
       "3  b94bb579-73d6-521b-86de-5d5e599bbde5-ddl     None   \n",
       "4  e0a92066-0804-52fd-be4e-437ac10622de-ddl     None   \n",
       "5  f68c7d4a-806f-55f0-962d-74de7018e372-ddl     None   \n",
       "0  160dc6f8-f66d-56f9-bf0d-f924c831f5fd-doc     None   \n",
       "1  29b133c0-6d77-5089-b7f4-d74f133c70d3-doc     None   \n",
       "2  5d1a1060-01ff-5a14-8fb8-6a79f1cbff38-doc     None   \n",
       "3  5ec048b8-d9ec-56c9-8ea3-bc955617643e-doc     None   \n",
       "4  d29df893-36db-5891-a6e7-eea218938b1a-doc     None   \n",
       "5  d392adc0-ae2b-556a-a9c5-ae679ccb2ef0-doc     None   \n",
       "6  e5c03032-b9a5-5a1a-97b2-86ab75fa48e4-doc     None   \n",
       "7  f4c3144a-aa8a-5a09-9e75-0927811de802-doc     None   \n",
       "\n",
       "                                             content training_data_type  \n",
       "0  CREATE TABLE \"t_country_region\" (\\n\"country\" T...                ddl  \n",
       "1  CREATE TABLE \"t_revenue\" (\\n\"rank\" INTEGER,\\n ...                ddl  \n",
       "2  CREATE TABLE \"t_dividend_yield\" (\\n\"rank\" INTE...                ddl  \n",
       "3  CREATE TABLE \"t_market_cap\" (\\n\"rank\" INTEGER,...                ddl  \n",
       "4  CREATE TABLE \"t_earnings\" (\\n\"rank\" INTEGER,\\n...                ddl  \n",
       "5  CREATE TABLE \"t_p_e_ratio\" (\\n\"rank\" INTEGER,\\...                ddl  \n",
       "0  \\nTerminologies:\\nTTM : Trailing Twelve Months...      documentation  \n",
       "1  \\nKey Metrics 4. P/E Ratio (TTM):\\nTable Name:...      documentation  \n",
       "2  \\nKey Metrics 2. Earnings (TTM):\\nTable Name: ...      documentation  \n",
       "3  \\nKey Metrics 3. Market Capitalisation (Market...      documentation  \n",
       "4  \\nList-of-Value (LOV) mapping: Country to Regi...      documentation  \n",
       "5  \\nKey Metrics 5. Dividend Yield (TTM):\\nTable ...      documentation  \n",
       "6  \\nKey Metrics 1. Revenue (TTM):\\nTable Name: t...      documentation  \n",
       "7  \\nIntroduction:\\nThis dataset ranks top compan...      documentation  "
      ]
     },
     "execution_count": 17,
     "metadata": {},
     "output_type": "execute_result"
    }
   ],
   "source": [
    "# show training data\n",
    "training_data = vn.get_training_data()\n",
    "training_data"
   ]
  },
  {
   "cell_type": "markdown",
   "id": "bf2fc121-a3ab-5a2e-95b0-383271e82d5f",
   "metadata": {},
   "source": [
    "## Asking the AI\n",
    "Whenever you ask a new question, it will find the 10 most relevant pieces of training data and use it as part of the LLM prompt to generate the SQL."
   ]
  },
  {
   "cell_type": "code",
   "execution_count": 18,
   "id": "5b080d9a-507b-479d-9647-55b097e95310",
   "metadata": {},
   "outputs": [],
   "source": [
    "ts_start = time()"
   ]
  },
  {
   "cell_type": "markdown",
   "id": "b9da8355-6024-42b4-bf50-22f8a2db5f09",
   "metadata": {},
   "source": [
    "```sql\n",
    "SELECT name FROM sqlite_master WHERE type = 'table';\n",
    "```\n"
   ]
  },
  {
   "cell_type": "raw",
   "id": "b1a9a64d-2527-4436-b764-f831a71d4799",
   "metadata": {},
   "source": [
    "import os\n",
    "import sys\n",
    "from contextlib import contextmanager\n",
    "\n",
    "@contextmanager\n",
    "def suppress_warnings_only():\n",
    "    class WarningFilter:\n",
    "        FILTERED_MESSAGES = [\n",
    "            \"Number of requested results\",\n",
    "            \"Insert of existing embedding ID\",\n",
    "            \"Add of existing embedding ID\"\n",
    "        ]\n",
    "        \n",
    "        def write(self, x): \n",
    "            # Only write if none of the filtered messages are in x\n",
    "            if not any(msg in x for msg in self.FILTERED_MESSAGES):\n",
    "                old_stderr.write(x)\n",
    "                \n",
    "        def flush(self): \n",
    "            pass\n",
    "    \n",
    "    old_stderr = sys.stderr\n",
    "    sys.stderr = WarningFilter()\n",
    "    try:\n",
    "        yield\n",
    "    finally:\n",
    "        sys.stderr = old_stderr\n",
    "\n",
    "# Use it like this:\n",
    "with suppress_warnings_only():\n",
    "    question = \"Can you list all tables in the SQLite database catalog?\"\n",
    "    resp = vn.ask_adaptive(question=question)"
   ]
  },
  {
   "cell_type": "code",
   "execution_count": 19,
   "id": "24ab8412-c755-47fb-aea9-a1d8a69165f2",
   "metadata": {},
   "outputs": [
    {
     "name": "stdout",
     "output_type": "stream",
     "text": [
      "\n",
      "\n",
      "\n",
      "================================================================================\n",
      "\n",
      "# QUESTION :  Can you list all tables in the SQLite database catalog?\n",
      "\n",
      "================================================================================\n",
      "\n",
      "\n",
      "================================================================================\n",
      "\n",
      "\n",
      "Ollama parameters:\n",
      "model=deepseek-coder-v2:latest,\n",
      "options={},\n",
      "keep_alive=None\n",
      "================================================================================\n",
      "\n",
      "\n",
      "[( <SQL> )]\n",
      "generated SQL statement\n",
      "================================================================================\n",
      "\n"
     ]
    },
    {
     "data": {
      "text/html": [
       "<style>pre { line-height: 125%; }\n",
       "td.linenos .normal { color: inherit; background-color: transparent; padding-left: 5px; padding-right: 5px; }\n",
       "span.linenos { color: inherit; background-color: transparent; padding-left: 5px; padding-right: 5px; }\n",
       "td.linenos .special { color: #000000; background-color: #ffffc0; padding-left: 5px; padding-right: 5px; }\n",
       "span.linenos.special { color: #000000; background-color: #ffffc0; padding-left: 5px; padding-right: 5px; }\n",
       ".output_html .hll { background-color: #ffffcc }\n",
       ".output_html { background: #f8f8f8; }\n",
       ".output_html .c { color: #3D7B7B; font-style: italic } /* Comment */\n",
       ".output_html .err { border: 1px solid #FF0000 } /* Error */\n",
       ".output_html .k { color: #008000; font-weight: bold } /* Keyword */\n",
       ".output_html .o { color: #666666 } /* Operator */\n",
       ".output_html .ch { color: #3D7B7B; font-style: italic } /* Comment.Hashbang */\n",
       ".output_html .cm { color: #3D7B7B; font-style: italic } /* Comment.Multiline */\n",
       ".output_html .cp { color: #9C6500 } /* Comment.Preproc */\n",
       ".output_html .cpf { color: #3D7B7B; font-style: italic } /* Comment.PreprocFile */\n",
       ".output_html .c1 { color: #3D7B7B; font-style: italic } /* Comment.Single */\n",
       ".output_html .cs { color: #3D7B7B; font-style: italic } /* Comment.Special */\n",
       ".output_html .gd { color: #A00000 } /* Generic.Deleted */\n",
       ".output_html .ge { font-style: italic } /* Generic.Emph */\n",
       ".output_html .ges { font-weight: bold; font-style: italic } /* Generic.EmphStrong */\n",
       ".output_html .gr { color: #E40000 } /* Generic.Error */\n",
       ".output_html .gh { color: #000080; font-weight: bold } /* Generic.Heading */\n",
       ".output_html .gi { color: #008400 } /* Generic.Inserted */\n",
       ".output_html .go { color: #717171 } /* Generic.Output */\n",
       ".output_html .gp { color: #000080; font-weight: bold } /* Generic.Prompt */\n",
       ".output_html .gs { font-weight: bold } /* Generic.Strong */\n",
       ".output_html .gu { color: #800080; font-weight: bold } /* Generic.Subheading */\n",
       ".output_html .gt { color: #0044DD } /* Generic.Traceback */\n",
       ".output_html .kc { color: #008000; font-weight: bold } /* Keyword.Constant */\n",
       ".output_html .kd { color: #008000; font-weight: bold } /* Keyword.Declaration */\n",
       ".output_html .kn { color: #008000; font-weight: bold } /* Keyword.Namespace */\n",
       ".output_html .kp { color: #008000 } /* Keyword.Pseudo */\n",
       ".output_html .kr { color: #008000; font-weight: bold } /* Keyword.Reserved */\n",
       ".output_html .kt { color: #B00040 } /* Keyword.Type */\n",
       ".output_html .m { color: #666666 } /* Literal.Number */\n",
       ".output_html .s { color: #BA2121 } /* Literal.String */\n",
       ".output_html .na { color: #687822 } /* Name.Attribute */\n",
       ".output_html .nb { color: #008000 } /* Name.Builtin */\n",
       ".output_html .nc { color: #0000FF; font-weight: bold } /* Name.Class */\n",
       ".output_html .no { color: #880000 } /* Name.Constant */\n",
       ".output_html .nd { color: #AA22FF } /* Name.Decorator */\n",
       ".output_html .ni { color: #717171; font-weight: bold } /* Name.Entity */\n",
       ".output_html .ne { color: #CB3F38; font-weight: bold } /* Name.Exception */\n",
       ".output_html .nf { color: #0000FF } /* Name.Function */\n",
       ".output_html .nl { color: #767600 } /* Name.Label */\n",
       ".output_html .nn { color: #0000FF; font-weight: bold } /* Name.Namespace */\n",
       ".output_html .nt { color: #008000; font-weight: bold } /* Name.Tag */\n",
       ".output_html .nv { color: #19177C } /* Name.Variable */\n",
       ".output_html .ow { color: #AA22FF; font-weight: bold } /* Operator.Word */\n",
       ".output_html .w { color: #bbbbbb } /* Text.Whitespace */\n",
       ".output_html .mb { color: #666666 } /* Literal.Number.Bin */\n",
       ".output_html .mf { color: #666666 } /* Literal.Number.Float */\n",
       ".output_html .mh { color: #666666 } /* Literal.Number.Hex */\n",
       ".output_html .mi { color: #666666 } /* Literal.Number.Integer */\n",
       ".output_html .mo { color: #666666 } /* Literal.Number.Oct */\n",
       ".output_html .sa { color: #BA2121 } /* Literal.String.Affix */\n",
       ".output_html .sb { color: #BA2121 } /* Literal.String.Backtick */\n",
       ".output_html .sc { color: #BA2121 } /* Literal.String.Char */\n",
       ".output_html .dl { color: #BA2121 } /* Literal.String.Delimiter */\n",
       ".output_html .sd { color: #BA2121; font-style: italic } /* Literal.String.Doc */\n",
       ".output_html .s2 { color: #BA2121 } /* Literal.String.Double */\n",
       ".output_html .se { color: #AA5D1F; font-weight: bold } /* Literal.String.Escape */\n",
       ".output_html .sh { color: #BA2121 } /* Literal.String.Heredoc */\n",
       ".output_html .si { color: #A45A77; font-weight: bold } /* Literal.String.Interpol */\n",
       ".output_html .sx { color: #008000 } /* Literal.String.Other */\n",
       ".output_html .sr { color: #A45A77 } /* Literal.String.Regex */\n",
       ".output_html .s1 { color: #BA2121 } /* Literal.String.Single */\n",
       ".output_html .ss { color: #19177C } /* Literal.String.Symbol */\n",
       ".output_html .bp { color: #008000 } /* Name.Builtin.Pseudo */\n",
       ".output_html .fm { color: #0000FF } /* Name.Function.Magic */\n",
       ".output_html .vc { color: #19177C } /* Name.Variable.Class */\n",
       ".output_html .vg { color: #19177C } /* Name.Variable.Global */\n",
       ".output_html .vi { color: #19177C } /* Name.Variable.Instance */\n",
       ".output_html .vm { color: #19177C } /* Name.Variable.Magic */\n",
       ".output_html .il { color: #666666 } /* Literal.Number.Integer.Long */</style><div class=\"highlight\"><pre><span></span><span class=\"k\">SELECT</span><span class=\"w\"> </span><span class=\"n\">name</span><span class=\"w\"> </span><span class=\"k\">FROM</span><span class=\"w\"> </span><span class=\"n\">sqlite_master</span><span class=\"w\"> </span><span class=\"k\">WHERE</span><span class=\"w\"> </span><span class=\"k\">type</span><span class=\"o\">=</span><span class=\"s1\">&#39;table&#39;</span>\n",
       "</pre></div>\n"
      ],
      "text/latex": [
       "\\begin{Verbatim}[commandchars=\\\\\\{\\}]\n",
       "\\PY{k}{SELECT}\\PY{+w}{ }\\PY{n}{name}\\PY{+w}{ }\\PY{k}{FROM}\\PY{+w}{ }\\PY{n}{sqlite\\PYZus{}master}\\PY{+w}{ }\\PY{k}{WHERE}\\PY{+w}{ }\\PY{k}{type}\\PY{o}{=}\\PY{l+s+s1}{\\PYZsq{}table\\PYZsq{}}\n",
       "\\end{Verbatim}\n"
      ],
      "text/plain": [
       "SELECT name FROM sqlite_master WHERE type='table'"
      ]
     },
     "metadata": {},
     "output_type": "display_data"
    },
    {
     "name": "stdout",
     "output_type": "stream",
     "text": [
      "\n",
      "[( <DataFrame> )]\n",
      "queried dataframe\n",
      "================================================================================\n",
      "\n"
     ]
    },
    {
     "data": {
      "text/html": [
       "<div>\n",
       "<style scoped>\n",
       "    .dataframe tbody tr th:only-of-type {\n",
       "        vertical-align: middle;\n",
       "    }\n",
       "\n",
       "    .dataframe tbody tr th {\n",
       "        vertical-align: top;\n",
       "    }\n",
       "\n",
       "    .dataframe thead th {\n",
       "        text-align: right;\n",
       "    }\n",
       "</style>\n",
       "<table border=\"1\" class=\"dataframe\">\n",
       "  <thead>\n",
       "    <tr style=\"text-align: right;\">\n",
       "      <th></th>\n",
       "      <th>name</th>\n",
       "    </tr>\n",
       "  </thead>\n",
       "  <tbody>\n",
       "    <tr>\n",
       "      <th>0</th>\n",
       "      <td>t_p_e_ratio</td>\n",
       "    </tr>\n",
       "    <tr>\n",
       "      <th>1</th>\n",
       "      <td>t_market_cap</td>\n",
       "    </tr>\n",
       "    <tr>\n",
       "      <th>2</th>\n",
       "      <td>t_dividend_yield</td>\n",
       "    </tr>\n",
       "    <tr>\n",
       "      <th>3</th>\n",
       "      <td>t_earnings</td>\n",
       "    </tr>\n",
       "    <tr>\n",
       "      <th>4</th>\n",
       "      <td>t_revenue</td>\n",
       "    </tr>\n",
       "    <tr>\n",
       "      <th>5</th>\n",
       "      <td>t_country_region</td>\n",
       "    </tr>\n",
       "  </tbody>\n",
       "</table>\n",
       "</div>"
      ],
      "text/plain": [
       "               name\n",
       "0       t_p_e_ratio\n",
       "1      t_market_cap\n",
       "2  t_dividend_yield\n",
       "3        t_earnings\n",
       "4         t_revenue\n",
       "5  t_country_region"
      ]
     },
     "metadata": {},
     "output_type": "display_data"
    },
    {
     "name": "stdout",
     "output_type": "stream",
     "text": [
      "\n",
      "Ollama parameters:\n",
      "model=deepseek-coder-v2:latest,\n",
      "options={},\n",
      "keep_alive=None\n",
      "================================================================================\n",
      "\n",
      "\n",
      "[( <Python> )]\n",
      "generated Plotly code\n",
      "================================================================================\n",
      "\n"
     ]
    },
    {
     "data": {
      "text/html": [
       "<style>pre { line-height: 125%; }\n",
       "td.linenos .normal { color: inherit; background-color: transparent; padding-left: 5px; padding-right: 5px; }\n",
       "span.linenos { color: inherit; background-color: transparent; padding-left: 5px; padding-right: 5px; }\n",
       "td.linenos .special { color: #000000; background-color: #ffffc0; padding-left: 5px; padding-right: 5px; }\n",
       "span.linenos.special { color: #000000; background-color: #ffffc0; padding-left: 5px; padding-right: 5px; }\n",
       ".output_html .hll { background-color: #ffffcc }\n",
       ".output_html { background: #f8f8f8; }\n",
       ".output_html .c { color: #3D7B7B; font-style: italic } /* Comment */\n",
       ".output_html .err { border: 1px solid #FF0000 } /* Error */\n",
       ".output_html .k { color: #008000; font-weight: bold } /* Keyword */\n",
       ".output_html .o { color: #666666 } /* Operator */\n",
       ".output_html .ch { color: #3D7B7B; font-style: italic } /* Comment.Hashbang */\n",
       ".output_html .cm { color: #3D7B7B; font-style: italic } /* Comment.Multiline */\n",
       ".output_html .cp { color: #9C6500 } /* Comment.Preproc */\n",
       ".output_html .cpf { color: #3D7B7B; font-style: italic } /* Comment.PreprocFile */\n",
       ".output_html .c1 { color: #3D7B7B; font-style: italic } /* Comment.Single */\n",
       ".output_html .cs { color: #3D7B7B; font-style: italic } /* Comment.Special */\n",
       ".output_html .gd { color: #A00000 } /* Generic.Deleted */\n",
       ".output_html .ge { font-style: italic } /* Generic.Emph */\n",
       ".output_html .ges { font-weight: bold; font-style: italic } /* Generic.EmphStrong */\n",
       ".output_html .gr { color: #E40000 } /* Generic.Error */\n",
       ".output_html .gh { color: #000080; font-weight: bold } /* Generic.Heading */\n",
       ".output_html .gi { color: #008400 } /* Generic.Inserted */\n",
       ".output_html .go { color: #717171 } /* Generic.Output */\n",
       ".output_html .gp { color: #000080; font-weight: bold } /* Generic.Prompt */\n",
       ".output_html .gs { font-weight: bold } /* Generic.Strong */\n",
       ".output_html .gu { color: #800080; font-weight: bold } /* Generic.Subheading */\n",
       ".output_html .gt { color: #0044DD } /* Generic.Traceback */\n",
       ".output_html .kc { color: #008000; font-weight: bold } /* Keyword.Constant */\n",
       ".output_html .kd { color: #008000; font-weight: bold } /* Keyword.Declaration */\n",
       ".output_html .kn { color: #008000; font-weight: bold } /* Keyword.Namespace */\n",
       ".output_html .kp { color: #008000 } /* Keyword.Pseudo */\n",
       ".output_html .kr { color: #008000; font-weight: bold } /* Keyword.Reserved */\n",
       ".output_html .kt { color: #B00040 } /* Keyword.Type */\n",
       ".output_html .m { color: #666666 } /* Literal.Number */\n",
       ".output_html .s { color: #BA2121 } /* Literal.String */\n",
       ".output_html .na { color: #687822 } /* Name.Attribute */\n",
       ".output_html .nb { color: #008000 } /* Name.Builtin */\n",
       ".output_html .nc { color: #0000FF; font-weight: bold } /* Name.Class */\n",
       ".output_html .no { color: #880000 } /* Name.Constant */\n",
       ".output_html .nd { color: #AA22FF } /* Name.Decorator */\n",
       ".output_html .ni { color: #717171; font-weight: bold } /* Name.Entity */\n",
       ".output_html .ne { color: #CB3F38; font-weight: bold } /* Name.Exception */\n",
       ".output_html .nf { color: #0000FF } /* Name.Function */\n",
       ".output_html .nl { color: #767600 } /* Name.Label */\n",
       ".output_html .nn { color: #0000FF; font-weight: bold } /* Name.Namespace */\n",
       ".output_html .nt { color: #008000; font-weight: bold } /* Name.Tag */\n",
       ".output_html .nv { color: #19177C } /* Name.Variable */\n",
       ".output_html .ow { color: #AA22FF; font-weight: bold } /* Operator.Word */\n",
       ".output_html .w { color: #bbbbbb } /* Text.Whitespace */\n",
       ".output_html .mb { color: #666666 } /* Literal.Number.Bin */\n",
       ".output_html .mf { color: #666666 } /* Literal.Number.Float */\n",
       ".output_html .mh { color: #666666 } /* Literal.Number.Hex */\n",
       ".output_html .mi { color: #666666 } /* Literal.Number.Integer */\n",
       ".output_html .mo { color: #666666 } /* Literal.Number.Oct */\n",
       ".output_html .sa { color: #BA2121 } /* Literal.String.Affix */\n",
       ".output_html .sb { color: #BA2121 } /* Literal.String.Backtick */\n",
       ".output_html .sc { color: #BA2121 } /* Literal.String.Char */\n",
       ".output_html .dl { color: #BA2121 } /* Literal.String.Delimiter */\n",
       ".output_html .sd { color: #BA2121; font-style: italic } /* Literal.String.Doc */\n",
       ".output_html .s2 { color: #BA2121 } /* Literal.String.Double */\n",
       ".output_html .se { color: #AA5D1F; font-weight: bold } /* Literal.String.Escape */\n",
       ".output_html .sh { color: #BA2121 } /* Literal.String.Heredoc */\n",
       ".output_html .si { color: #A45A77; font-weight: bold } /* Literal.String.Interpol */\n",
       ".output_html .sx { color: #008000 } /* Literal.String.Other */\n",
       ".output_html .sr { color: #A45A77 } /* Literal.String.Regex */\n",
       ".output_html .s1 { color: #BA2121 } /* Literal.String.Single */\n",
       ".output_html .ss { color: #19177C } /* Literal.String.Symbol */\n",
       ".output_html .bp { color: #008000 } /* Name.Builtin.Pseudo */\n",
       ".output_html .fm { color: #0000FF } /* Name.Function.Magic */\n",
       ".output_html .vc { color: #19177C } /* Name.Variable.Class */\n",
       ".output_html .vg { color: #19177C } /* Name.Variable.Global */\n",
       ".output_html .vi { color: #19177C } /* Name.Variable.Instance */\n",
       ".output_html .vm { color: #19177C } /* Name.Variable.Magic */\n",
       ".output_html .il { color: #666666 } /* Literal.Number.Integer.Long */</style><div class=\"highlight\"><pre><span></span><span class=\"kn\">import</span> <span class=\"nn\">plotly.graph_objects</span> <span class=\"k\">as</span> <span class=\"nn\">go</span>\n",
       "<span class=\"kn\">import</span> <span class=\"nn\">pandas</span> <span class=\"k\">as</span> <span class=\"nn\">pd</span>\n",
       "\n",
       "<span class=\"c1\"># Assuming df is already defined and contains the results from your query</span>\n",
       "<span class=\"k\">if</span> <span class=\"nb\">len</span><span class=\"p\">(</span><span class=\"n\">df</span><span class=\"p\">)</span> <span class=\"o\">==</span> <span class=\"mi\">1</span><span class=\"p\">:</span>\n",
       "    <span class=\"n\">fig</span> <span class=\"o\">=</span> <span class=\"n\">go</span><span class=\"o\">.</span><span class=\"n\">Figure</span><span class=\"p\">(</span><span class=\"n\">go</span><span class=\"o\">.</span><span class=\"n\">Indicator</span><span class=\"p\">(</span>\n",
       "        <span class=\"n\">mode</span><span class=\"o\">=</span><span class=\"s2\">&quot;number&quot;</span><span class=\"p\">,</span>\n",
       "        <span class=\"n\">value</span><span class=\"o\">=</span><span class=\"n\">df</span><span class=\"p\">[</span><span class=\"s1\">&#39;name&#39;</span><span class=\"p\">]</span><span class=\"o\">.</span><span class=\"n\">iloc</span><span class=\"p\">[</span><span class=\"mi\">0</span><span class=\"p\">],</span>\n",
       "        <span class=\"n\">title</span><span class=\"o\">=</span><span class=\"p\">{</span><span class=\"s2\">&quot;text&quot;</span><span class=\"p\">:</span> <span class=\"s2\">&quot;Table Name&quot;</span><span class=\"p\">}</span>\n",
       "    <span class=\"p\">))</span>\n",
       "<span class=\"k\">else</span><span class=\"p\">:</span>\n",
       "    <span class=\"n\">fig</span> <span class=\"o\">=</span> <span class=\"n\">go</span><span class=\"o\">.</span><span class=\"n\">Figure</span><span class=\"p\">(</span><span class=\"n\">data</span><span class=\"o\">=</span><span class=\"p\">[</span><span class=\"n\">go</span><span class=\"o\">.</span><span class=\"n\">Bar</span><span class=\"p\">(</span><span class=\"n\">x</span><span class=\"o\">=</span><span class=\"n\">df</span><span class=\"p\">[</span><span class=\"s1\">&#39;name&#39;</span><span class=\"p\">],</span> <span class=\"n\">y</span><span class=\"o\">=</span><span class=\"n\">df</span><span class=\"p\">[</span><span class=\"s1\">&#39;name&#39;</span><span class=\"p\">])])</span>\n",
       "\n",
       "<span class=\"n\">fig</span><span class=\"o\">.</span><span class=\"n\">update_layout</span><span class=\"p\">(</span><span class=\"n\">title_text</span><span class=\"o\">=</span><span class=\"s2\">&quot;List of Tables in the SQLite Database&quot;</span><span class=\"p\">)</span>\n",
       "</pre></div>\n"
      ],
      "text/latex": [
       "\\begin{Verbatim}[commandchars=\\\\\\{\\}]\n",
       "\\PY{k+kn}{import} \\PY{n+nn}{plotly}\\PY{n+nn}{.}\\PY{n+nn}{graph\\PYZus{}objects} \\PY{k}{as} \\PY{n+nn}{go}\n",
       "\\PY{k+kn}{import} \\PY{n+nn}{pandas} \\PY{k}{as} \\PY{n+nn}{pd}\n",
       "\n",
       "\\PY{c+c1}{\\PYZsh{} Assuming df is already defined and contains the results from your query}\n",
       "\\PY{k}{if} \\PY{n+nb}{len}\\PY{p}{(}\\PY{n}{df}\\PY{p}{)} \\PY{o}{==} \\PY{l+m+mi}{1}\\PY{p}{:}\n",
       "    \\PY{n}{fig} \\PY{o}{=} \\PY{n}{go}\\PY{o}{.}\\PY{n}{Figure}\\PY{p}{(}\\PY{n}{go}\\PY{o}{.}\\PY{n}{Indicator}\\PY{p}{(}\n",
       "        \\PY{n}{mode}\\PY{o}{=}\\PY{l+s+s2}{\\PYZdq{}}\\PY{l+s+s2}{number}\\PY{l+s+s2}{\\PYZdq{}}\\PY{p}{,}\n",
       "        \\PY{n}{value}\\PY{o}{=}\\PY{n}{df}\\PY{p}{[}\\PY{l+s+s1}{\\PYZsq{}}\\PY{l+s+s1}{name}\\PY{l+s+s1}{\\PYZsq{}}\\PY{p}{]}\\PY{o}{.}\\PY{n}{iloc}\\PY{p}{[}\\PY{l+m+mi}{0}\\PY{p}{]}\\PY{p}{,}\n",
       "        \\PY{n}{title}\\PY{o}{=}\\PY{p}{\\PYZob{}}\\PY{l+s+s2}{\\PYZdq{}}\\PY{l+s+s2}{text}\\PY{l+s+s2}{\\PYZdq{}}\\PY{p}{:} \\PY{l+s+s2}{\\PYZdq{}}\\PY{l+s+s2}{Table Name}\\PY{l+s+s2}{\\PYZdq{}}\\PY{p}{\\PYZcb{}}\n",
       "    \\PY{p}{)}\\PY{p}{)}\n",
       "\\PY{k}{else}\\PY{p}{:}\n",
       "    \\PY{n}{fig} \\PY{o}{=} \\PY{n}{go}\\PY{o}{.}\\PY{n}{Figure}\\PY{p}{(}\\PY{n}{data}\\PY{o}{=}\\PY{p}{[}\\PY{n}{go}\\PY{o}{.}\\PY{n}{Bar}\\PY{p}{(}\\PY{n}{x}\\PY{o}{=}\\PY{n}{df}\\PY{p}{[}\\PY{l+s+s1}{\\PYZsq{}}\\PY{l+s+s1}{name}\\PY{l+s+s1}{\\PYZsq{}}\\PY{p}{]}\\PY{p}{,} \\PY{n}{y}\\PY{o}{=}\\PY{n}{df}\\PY{p}{[}\\PY{l+s+s1}{\\PYZsq{}}\\PY{l+s+s1}{name}\\PY{l+s+s1}{\\PYZsq{}}\\PY{p}{]}\\PY{p}{)}\\PY{p}{]}\\PY{p}{)}\n",
       "\n",
       "\\PY{n}{fig}\\PY{o}{.}\\PY{n}{update\\PYZus{}layout}\\PY{p}{(}\\PY{n}{title\\PYZus{}text}\\PY{o}{=}\\PY{l+s+s2}{\\PYZdq{}}\\PY{l+s+s2}{List of Tables in the SQLite Database}\\PY{l+s+s2}{\\PYZdq{}}\\PY{p}{)}\n",
       "\\end{Verbatim}\n"
      ],
      "text/plain": [
       "import plotly.graph_objects as go\n",
       "import pandas as pd\n",
       "\n",
       "# Assuming df is already defined and contains the results from your query\n",
       "if len(df) == 1:\n",
       "    fig = go.Figure(go.Indicator(\n",
       "        mode=\"number\",\n",
       "        value=df['name'].iloc[0],\n",
       "        title={\"text\": \"Table Name\"}\n",
       "    ))\n",
       "else:\n",
       "    fig = go.Figure(data=[go.Bar(x=df['name'], y=df['name'])])\n",
       "\n",
       "fig.update_layout(title_text=\"List of Tables in the SQLite Database\")"
      ]
     },
     "metadata": {},
     "output_type": "display_data"
    },
    {
     "data": {
      "image/png": "[encoded data removed]",
      "text/plain": [
       "<IPython.core.display.Image object>"
      ]
     },
     "metadata": {},
     "output_type": "display_data"
    }
   ],
   "source": [
    "question = \"Can you list all tables in the SQLite database catalog?\"\n",
    "resp = vn.ask_adaptive(question=question)"
   ]
  },
  {
   "cell_type": "code",
   "execution_count": 20,
   "id": "7b880e88-8700-4a79-a7ea-8f5af472162d",
   "metadata": {},
   "outputs": [
    {
     "ename": "Exception",
     "evalue": "Take a break",
     "output_type": "error",
     "traceback": [
      "\u001b[0;31m---------------------------------------------------------------------------\u001b[0m",
      "\u001b[0;31mException\u001b[0m                                 Traceback (most recent call last)",
      "Cell \u001b[0;32mIn[20], line 3\u001b[0m\n\u001b[1;32m      1\u001b[0m BREAK_HERE \u001b[38;5;241m=\u001b[39m \u001b[38;5;28;01mTrue\u001b[39;00m\n\u001b[1;32m      2\u001b[0m \u001b[38;5;28;01mif\u001b[39;00m BREAK_HERE:\n\u001b[0;32m----> 3\u001b[0m     \u001b[38;5;28;01mraise\u001b[39;00m \u001b[38;5;167;01mException\u001b[39;00m(\u001b[38;5;124m\"\u001b[39m\u001b[38;5;124mTake a break\u001b[39m\u001b[38;5;124m\"\u001b[39m)\n",
      "\u001b[0;31mException\u001b[0m: Take a break"
     ]
    }
   ],
   "source": [
    "BREAK_HERE = True\n",
    "if BREAK_HERE:\n",
    "    raise Exception(\"Take a break\")"
   ]
  },
  {
   "cell_type": "code",
   "execution_count": null,
   "id": "87758c45-03f9-4fc7-b8ec-fc94496abe03",
   "metadata": {},
   "outputs": [],
   "source": [
    "questions = [\n",
    "\"Can you list all tables in the SQLite database catalog?\",\n",
    "\n",
    "\"which table stores Company P/E Ratio, Hint: No need to generate SQL\",\n",
    "\n",
    "\"which table stores Company Dividend Yield, Hint: No need to generate SQL\",\n",
    "\n",
    "\"which table stores Company Market Cap, Hint: No need to generate SQL\",\n",
    "\n",
    "\"which table stores Company Revenue, Hint: No need to generate SQL\",\n",
    "\n",
    "\"which table stores Company Earnings\",\n",
    "\n",
    "\"Find 10 companyies with the lowest PE Ratio above 10 in Germany\",   \n",
    "\n",
    "\"Find top 10 companyies in the United States with the heighest market cap\",\n",
    "\n",
    "\"Find the customer with the most invoices \",  # negative test\n",
    "\n",
    "\"\"\"\n",
    "Find top 5 companyies in Asia with the hightes PE Ratio above 40, list company name and PE ratio,\n",
    "Hint: \"Asia\" is a region name, you need to join \"t_p_e_ratio\" table with \"t_country_region\" table \n",
    "on \"country\" columns to answer this question .\n",
    "\"\"\",\n",
    "\n",
    "\"\"\"\n",
    "Find top 5 companyies with the lowest PE Ratio in the range of 20-30, list their names and respective PE ratios,\n",
    "\"\"\",\n",
    "\n",
    "\"\"\" \n",
    "\"What are the Top 20 companies in the United States ranked by Dividend Yield\"\n",
    "\"\"\",\n",
    "\n",
    "\"\"\" \n",
    "\"What are the Top 20 companies in the United States ranked by Revenue\"\n",
    "\"\"\",\n",
    "\n",
    "\"\"\"\n",
    "Find Top 10 Company by Dividend Yield in each country\n",
    "\"\"\",\n",
    "\n",
    "\n",
    "]"
   ]
  },
  {
   "cell_type": "code",
   "execution_count": null,
   "id": "c766296c-39f4-4a2d-b174-2c14e037b763",
   "metadata": {
    "scrolled": true
   },
   "outputs": [],
   "source": [
    "for n, question in enumerate(questions):\n",
    "    # if n != 4: continue\n",
    "    # if n > 5: continue\n",
    "\n",
    "    resp = vn.ask_adaptive(question=question, tag_id=n+2)"
   ]
  },
  {
   "cell_type": "code",
   "execution_count": null,
   "id": "93235302-a8ba-485f-9f53-4109fd11da3b",
   "metadata": {},
   "outputs": [],
   "source": []
  },
  {
   "cell_type": "code",
   "execution_count": null,
   "id": "57d9493e-065e-4d12-bd99-3c641e7ed22d",
   "metadata": {},
   "outputs": [],
   "source": []
  },
  {
   "cell_type": "markdown",
   "id": "20b90444-8d0e-4da6-bee1-0be4e3cf7723",
   "metadata": {},
   "source": [
    "### Check completion time"
   ]
  },
  {
   "cell_type": "code",
   "execution_count": null,
   "id": "b166a495-acf3-42f5-a182-6293e2520f8d",
   "metadata": {},
   "outputs": [],
   "source": [
    "ts_stop = time()\n",
    "elapsed_time = ts_stop - ts_start\n",
    "print(f\"Completed tests:\\n================\\n run on host '{hostname}' \\n with LLM model '{model_name}' \\n took {elapsed_time:.2f} sec\")"
   ]
  },
  {
   "cell_type": "code",
   "execution_count": null,
   "id": "ae9f079e-a17b-4478-a124-0db9e47fed33",
   "metadata": {},
   "outputs": [],
   "source": []
  }
 ],
 "metadata": {
  "kernelspec": {
   "display_name": "Python 3 (ipykernel)",
   "language": "python",
   "name": "python3"
  },
  "language_info": {
   "codemirror_mode": {
    "name": "ipython",
    "version": 3
   },
   "file_extension": ".py",
   "mimetype": "text/x-python",
   "name": "python",
   "nbconvert_exporter": "python",
   "pygments_lexer": "ipython3",
   "version": "3.11.9"
  }
 },
 "nbformat": 4,
 "nbformat_minor": 5
}
