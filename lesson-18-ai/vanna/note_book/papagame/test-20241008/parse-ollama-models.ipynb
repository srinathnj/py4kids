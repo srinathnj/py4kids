{
 "cells": [
  {
   "cell_type": "code",
   "execution_count": 1,
   "id": "3f631c8a-0a65-4ad7-bb99-2cb4cb80291b",
   "metadata": {},
   "outputs": [],
   "source": [
    "x = \"\"\"\n",
    "starcoder2:15b             21ae152d49e0    9.1 GB    8 minutes ago     \n",
    "starcoder2:7b              1550ab21b10d    4.0 GB    15 minutes ago    \n",
    "starcoder2:latest          9f4ae0aff61e    1.7 GB    21 minutes ago    \n",
    "codegeex4:latest           867b8e81d038    5.5 GB    21 minutes ago    \n",
    "qwen2.5:latest             845dbda0ea48    4.7 GB    7 days ago        \n",
    "phi3.5:latest              61819fb370a3    2.2 GB    7 days ago        \n",
    "gemma2:latest              ff02c3702f32    5.4 GB    7 days ago        \n",
    "llama3.2:latest            a80c4f17acd5    2.0 GB    7 days ago        \n",
    "qwen2.5:14b                7cdf5a0187d5    9.0 GB    3 weeks ago       \n",
    "qwen2.5:3b                 357c53fb659c    1.9 GB    3 weeks ago       \n",
    "gemma:latest               a72c7f4d0a15    5.0 GB    3 weeks ago       \n",
    "llama3.1:latest            42182419e950    4.7 GB    3 weeks ago       \n",
    "nemotron-mini:latest       ed76ab18784f    2.7 GB    3 weeks ago       \n",
    "qwen2:latest               e0d4e1163c58    4.4 GB    3 months ago      \n",
    "deepseek-coder:latest      3ddd2d3fc8d2    776 MB    5 months ago      \n",
    "codellama:latest           8fdf8f752f6e    3.8 GB    5 months ago      \n",
    "codegemma:7b               0c96700aaada    5.0 GB    5 months ago      \n",
    "codegemma:2b               757806401a36    1.6 GB    5 months ago      \n",
    "stable-code:latest         37681d29a55a    1.6 GB    5 months ago      \n",
    "zephyr:latest              bbe38b81adec    4.1 GB    5 months ago      \n",
    "dolphin-mistral:latest     5dc8c5a2be65    4.1 GB    5 months ago      \n",
    "gemma:7b                   a72c7f4d0a15    5.0 GB    5 months ago      \n",
    "gemma:2b                   b50d6c999e59    1.7 GB    5 months ago      \n",
    "llama3:latest              a6990ed6be41    4.7 GB    5 months ago      \n",
    "phi3:latest                a2c89ceaed85    2.3 GB    5 months ago      \n",
    "nomic-embed-text:latest    0a109f422b47    274 MB    5 months ago      \n",
    "wizard-math:latest         5ab8dc2115d3    4.1 GB    5 months ago      \n",
    "meditron:latest            ad11a6250f54    3.8 GB    5 months ago      \n",
    "samantha-mistral:latest    f7c8c9be1da0    4.1 GB    5 months ago      \n",
    "llava:latest               8dd30f6b0cb1    4.7 GB    5 months ago      \n",
    "stablelm2:latest           714a6116cffa    982 MB    5 months ago      \n",
    "llama2-chinese:latest      cee11d703eee    3.8 GB    5 months ago      \n",
    "yi:latest                  a7f031bb846f    3.5 GB    5 months ago      \n",
    "duckdb-nsql:latest         3ed734989690    3.8 GB    5 months ago      \n",
    "sqlcoder:latest            77ac14348387    4.1 GB    5 months ago      \n",
    "wizardcoder:latest         de9d848c1323    3.8 GB    5 months ago      \n",
    "llama3-chatqa:latest       b37a98d204b2    4.7 GB    5 months ago      \n",
    "openchat:latest            537a4e03b649    4.1 GB    5 months ago      \n",
    "neural-chat:latest         89fa737d3b85    4.1 GB    5 months ago      \n",
    "wizardlm2:latest           c9b1aff820f2    4.1 GB    5 months ago      \n",
    "mistral:latest             61e88e884507    4.1 GB    5 months ago      \n",
    "dolphin-llama3:latest      613f068e29f8    4.7 GB    5 months ago      \n",
    "all-minilm:latest          1b226e2802db    45 MB     5 months ago \n",
    "\"\"\""
   ]
  },
  {
   "cell_type": "code",
   "execution_count": 2,
   "id": "7cd9f0f0-9747-4dc2-bfb4-9c71d5d92ef7",
   "metadata": {},
   "outputs": [],
   "source": [
    "x1 = \"mistral:latest             61e88e884507    4.1 GB    5 months ago \""
   ]
  },
  {
   "cell_type": "code",
   "execution_count": 4,
   "id": "3a2c0e32-100f-46d2-8628-7fc93434cbcd",
   "metadata": {},
   "outputs": [
    {
     "data": {
      "text/plain": [
       "['mistral:latest', '61e88e884507', '4.1', 'GB', '5', 'months', 'ago']"
      ]
     },
     "execution_count": 4,
     "metadata": {},
     "output_type": "execute_result"
    }
   ],
   "source": [
    "x1.split()"
   ]
  },
  {
   "cell_type": "code",
   "execution_count": 5,
   "id": "59ad9939-58d3-4569-aeb4-76d806bd2053",
   "metadata": {},
   "outputs": [],
   "source": [
    "models = []\n",
    "for i in x.split(\"\\n\"):\n",
    "    if not i.strip(): continue\n",
    "\n",
    "    j = i.strip().split()\n",
    "\n",
    "    if j[-2] == \"months\":\n",
    "        models.append(j[0])"
   ]
  },
  {
   "cell_type": "code",
   "execution_count": 6,
   "id": "da360b69-6a5d-44b0-bd93-7d1494c63093",
   "metadata": {},
   "outputs": [
    {
     "data": {
      "text/plain": [
       "['qwen2:latest',\n",
       " 'deepseek-coder:latest',\n",
       " 'codellama:latest',\n",
       " 'codegemma:7b',\n",
       " 'codegemma:2b',\n",
       " 'stable-code:latest',\n",
       " 'zephyr:latest',\n",
       " 'dolphin-mistral:latest',\n",
       " 'gemma:7b',\n",
       " 'gemma:2b',\n",
       " 'llama3:latest',\n",
       " 'phi3:latest',\n",
       " 'nomic-embed-text:latest',\n",
       " 'wizard-math:latest',\n",
       " 'meditron:latest',\n",
       " 'samantha-mistral:latest',\n",
       " 'llava:latest',\n",
       " 'stablelm2:latest',\n",
       " 'llama2-chinese:latest',\n",
       " 'yi:latest',\n",
       " 'duckdb-nsql:latest',\n",
       " 'sqlcoder:latest',\n",
       " 'wizardcoder:latest',\n",
       " 'llama3-chatqa:latest',\n",
       " 'openchat:latest',\n",
       " 'neural-chat:latest',\n",
       " 'wizardlm2:latest',\n",
       " 'mistral:latest',\n",
       " 'dolphin-llama3:latest',\n",
       " 'all-minilm:latest']"
      ]
     },
     "execution_count": 6,
     "metadata": {},
     "output_type": "execute_result"
    }
   ],
   "source": [
    "models"
   ]
  },
  {
   "cell_type": "code",
   "execution_count": 7,
   "id": "eecd82d6-913f-4ea5-ad44-edb180b4bf02",
   "metadata": {},
   "outputs": [],
   "source": [
    "models_2 = [\n",
    "    \"starcoder2:15b\",\n",
    "    \"starcoder2:latest\",\n",
    "    'qwen2:latest',\n",
    "    \"gemma:latest\",\n",
    "\"qwen2:latest\",\n",
    "    'deepseek-coder:latest',\n",
    " 'codellama:latest',\n",
    " 'codegemma:7b',\n",
    " 'codegemma:2b',\n",
    " 'stable-code:latest',\n",
    " 'zephyr:latest',\n",
    " 'dolphin-mistral:latest',\n",
    " 'gemma:7b',\n",
    " 'gemma:2b',\n",
    "#  'llama3:latest',\n",
    " 'phi3:latest',\n",
    " # 'nomic-embed-text:latest',\n",
    " # 'wizard-math:latest',\n",
    " 'meditron:latest',\n",
    " 'samantha-mistral:latest',\n",
    " 'llava:latest',\n",
    " 'stablelm2:latest',\n",
    " 'llama2-chinese:latest',\n",
    " 'yi:latest',\n",
    " # 'duckdb-nsql:latest',\n",
    " 'sqlcoder:latest',\n",
    " 'wizardcoder:latest',\n",
    " 'llama3-chatqa:latest',\n",
    " 'openchat:latest',\n",
    " 'neural-chat:latest',\n",
    " 'wizardlm2:latest',\n",
    " 'mistral:latest',\n",
    " 'dolphin-llama3:latest',\n",
    " 'all-minilm:latest']"
   ]
  },
  {
   "cell_type": "code",
   "execution_count": null,
   "id": "23f3ee29-75ff-409f-96be-2535d18bc845",
   "metadata": {},
   "outputs": [],
   "source": []
  }
 ],
 "metadata": {
  "kernelspec": {
   "display_name": "Python 3 (ipykernel)",
   "language": "python",
   "name": "python3"
  },
  "language_info": {
   "codemirror_mode": {
    "name": "ipython",
    "version": 3
   },
   "file_extension": ".py",
   "mimetype": "text/x-python",
   "name": "python",
   "nbconvert_exporter": "python",
   "pygments_lexer": "ipython3",
   "version": "3.11.9"
  }
 },
 "nbformat": 4,
 "nbformat_minor": 5
}
