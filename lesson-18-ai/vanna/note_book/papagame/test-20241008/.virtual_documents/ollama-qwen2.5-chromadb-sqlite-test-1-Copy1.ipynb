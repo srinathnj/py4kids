





























import warnings
import re

warnings.filterwarnings('ignore', category=DeprecationWarning, message='^Number of requested results')
# warnings.filterwarnings('ignore', category=DeprecationWarning, message=re.escape(r'^Some regex pattern'))

import os

import re
from time import time

from vanna.ollama import Ollama
from vanna.chromadb.chromadb_vector import ChromaDB_VectorStore


class MyVanna(ChromaDB_VectorStore, Ollama):
    def __init__(self, config=None):
        ChromaDB_VectorStore.__init__(self, config=config)
        Ollama.__init__(self, config=config)


file_db = "~/Downloads/chinook.sqlite"
model_name = 'deepseek-coder'

clean_and_train = True  # False  


config = {
    'model': model_name,   # 'mistral' # "starcoder2"
}
vn = MyVanna(config=config)


hostname = os.uname().nodename
print("Hostname:", hostname)


file_db = os.path.abspath(os.path.expanduser(file_db))
vn.connect_to_sqlite(file_db)


vn.run_sql_is_set


def remove_collections(collection_name=None, ACCEPTED_TYPES = ["sql", "ddl", "documentation"]):
    if not collection_name:
        collections = ACCEPTED_TYPES
    elif isinstance(collection_name, str):
        collections = [collection_name]
    elif isinstance(collection_name, list):
        collections = collection_name
    else:
        print(f"\t{collection_name} is unknown: Skipped")
        return

    for c in collections:
        if not c in ACCEPTED_TYPES:
            print(f"\t{c} is unknown: Skipped")
            continue
            
        # print(f"vn.remove_collection('{c}')")
        vn.remove_collection(c)


def strip_brackets(ddl):
    """
    This function removes square brackets from table and column names in a DDL script.
    
    Args:
        ddl (str): The DDL script containing square brackets.
    
    Returns:
        str: The DDL script with square brackets removed.
    """
    # Use regular expressions to match and replace square brackets
    pattern = r"\[([^\]]+)]"  # Match any character except ] within square brackets
    return re.sub(pattern, r"\1", ddl)


if clean_and_train:
    remove_collections()





df_ddl = vn.run_sql("SELECT type, sql FROM sqlite_master WHERE sql is not null")


df_ddl


if clean_and_train:
    for ddl in df_ddl['sql'].to_list():
        ddl = strip_brackets(ddl)
        vn.train(ddl=ddl)

    # Sometimes you may want to add documentation about your business terminology or definitions.
    vn.train(documentation="In the chinook database invoice means order")



# show training data
training_data = vn.get_training_data()
training_data





ts_start = time()





vn.ask(question="Can you list all tables in the SQLite database catalog?")


vn.ask(question="which table stores customer's orders")


vn.ask(question="How many customers are there")





vn.ask(question="what are the top 5 countries that customers come from?")








question = """  
    List all albums and their corresponding artist names  
"""

vn.ask(question=question)


question = """  
    Find all tracks with a name containing "What" (case-insensitive)
"""

vn.ask(question=question)


question = """  
    Get the total number of invoices for each customer
"""

vn.ask(question=question)


question = """  
    Find the total number of invoices per country:
"""

vn.ask(question=question)


question = """  
    List all invoices with a total exceeding $10:
"""

vn.ask(question=question)


question = """  
    Find all invoices since 2010 and the total amount invoiced:
"""

vn.ask(question=question)


question = """  
    List all employees and their reporting manager's name (if any):
"""

vn.ask(question=question)


question = """  
    Get the average invoice total for each customer:
"""

vn.ask(question=question)


question = """  
    Find the top 5 most expensive tracks (based on unit price):
"""

vn.ask(question=question)


question = """  
    List all genres and the number of tracks in each genre:
"""

vn.ask(question=question)


question = """  
    Get all genres that do not have any tracks associated with them:
"""

vn.ask(question=question)


question = """  
    List all customers who have not placed any orders:
"""

vn.ask(question=question)


question = """ 
    There are 3 tables: artists, albums and tracks, where albums and artists are linked by ArtistId, albums and tracks are linked by AlbumId,
    Can you find the top 10 most popular artists based on the number of tracks
"""

vn.ask(question=question)


question = """  
     List all customers from Canada and their email addresses:
"""

vn.ask(question=question)


question = """  
     Find the customer with the most invoices 
"""

vn.ask(question=question)








question = """  
     Find the customer who bought the most albums in total quantity (across all invoices): 
"""

vn.ask(question=question)


question = """  
    Hint: album quantity is found in invoice_items, 
    
    Find the top 5 customers who bought the most albums in total quantity (across all invoices):
"""

vn.ask(question=question)





question = """  
     Find the top 5 customers who spent the most money overall, 
     
     Hint: order total can be found on invoices table, calculation using invoice_items detail table is unnecessary 
"""

vn.ask(question=question)


question = """  
     Get all playlists containing at least 10 tracks and the total duration of those tracks:
"""

vn.ask(question=question)


question = """  
     Identify artists who have albums with tracks appearing in multiple genres:


"""

vn.ask(question=question)








ts_stop = time()

elapsed_time = ts_stop - ts_start
print(f"test running on '{hostname}' with '{model_name}' LLM took : {elapsed_time:.2f} sec")












