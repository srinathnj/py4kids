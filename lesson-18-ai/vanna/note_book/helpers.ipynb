{
 "cells": [
  {
   "cell_type": "code",
   "execution_count": 6,
   "id": "0783ad6c-9203-4780-8e7c-ab871124c4ae",
   "metadata": {},
   "outputs": [
    {
     "name": "stdout",
     "output_type": "stream",
     "text": [
      "{'id': 'Id', 'task_name': 'Task Name', 'description': 'Description', 'task_group': 'Task Group', 'is_urgent': 'Is Urgent', 'is_important': 'Is Important', 'status': 'Status', 'pct_completed': 'Pct Completed', 'due_date': 'Due Date', 'category': 'Category', 'note': 'Note', 'created_by': 'Created By', 'created_at': 'Created At', 'updated_by': 'Updated By', 'updated_at': 'Updated At'}\n"
     ]
    }
   ],
   "source": [
    "import re\n",
    "\n",
    "def ddl_to_label_dict(ddl, reserved_words=['if', 'not', 'exists', 'table', 'create', 'primary', 'constraint', 'foreign', 'references']):\n",
    "    # Convert reserved words to lowercase for case-insensitive comparison\n",
    "    reserved_words = [word.strip().lower() for word in reserved_words if word.strip()]\n",
    "    \n",
    "    # Extract column definitions from DDL\n",
    "    # This regex now captures column names that might include underscores\n",
    "    column_defs = re.findall(r'(\\w+(?:_\\w+)*)\\s+[\\w()]+', ddl)\n",
    "    \n",
    "    # Function to convert snake_case to Title Case\n",
    "    def to_title_case(string):\n",
    "        return ' '.join(word.capitalize() for word in string.split('_'))\n",
    "    \n",
    "    # Create dictionary with column names as keys and title-cased labels as values\n",
    "    return {col: to_title_case(col) for col in column_defs if col.lower() not in reserved_words}\n",
    "\n",
    "\n",
    "# Example usage:\n",
    "ddl = \"\"\"\n",
    "CREATE TABLE IF NOT EXISTS {TABLE_H7_TASK} (\n",
    "    id INTEGER PRIMARY KEY AUTOINCREMENT,\n",
    "    task_name TEXT NOT NULL,\n",
    "    description TEXT,\n",
    "    task_group TEXT DEFAULT 'Personal' CHECK(task_group IN ('','Work', 'Personal')),\n",
    "    is_urgent TEXT DEFAULT 'N' CHECK(is_urgent IN ('Y', 'N')),\n",
    "    is_important TEXT DEFAULT 'N' CHECK(is_important IN ('Y', 'N')),\n",
    "    status TEXT DEFAULT '' CHECK(status IN ('', 'ToDo', 'Doing', 'Done')),\n",
    "    pct_completed TEXT DEFAULT '0%' CHECK(pct_completed IN ('0%', '25%', '50%', '75%', '100%')),\n",
    "    due_date TEXT,\n",
    "    category TEXT DEFAULT '' CHECK(category IN ('', 'learning', 'research', 'project', 'fun')),\n",
    "    note TEXT,\n",
    "    created_by TEXT,\n",
    "    created_at TEXT,\n",
    "    updated_by TEXT,\n",
    "    updated_at TEXT\n",
    ")\n",
    "\"\"\"\n",
    "\n",
    "result = ddl_to_label_dict(ddl)\n",
    "print(result)"
   ]
  },
  {
   "cell_type": "code",
   "execution_count": 4,
   "id": "5c2fccb9-8c9b-4658-a004-ff8882b8c7db",
   "metadata": {},
   "outputs": [
    {
     "name": "stdout",
     "output_type": "stream",
     "text": [
      "['constraint', 'foreign', 'references']\n"
     ]
    }
   ],
   "source": [
    "s = \"\"\"\n",
    "CONSTRAINT fk_departments\n",
    "    FOREIGN KEY (department_id)\n",
    "    REFERENCES\n",
    "\"\"\"\n",
    "l = [i.strip().split()[0].lower() for i in s.split(\"\\n\") if i.strip()]\n",
    "print(l)"
   ]
  },
  {
   "cell_type": "code",
   "execution_count": 7,
   "id": "35560302-c215-4945-bf13-6cc46a1cb7a7",
   "metadata": {},
   "outputs": [],
   "source": [
    "TABLE_H7_TASK = \"habits7_task\"\n",
    "TABLE_H7_USER = \"habits7_user\"\n",
    "ddl_statements = {\n",
    "    TABLE_H7_USER: f'''\n",
    "    CREATE TABLE IF NOT EXISTS {TABLE_H7_USER} (\n",
    "        id INTEGER PRIMARY KEY AUTOINCREMENT,\n",
    "        email TEXT NOT NULL UNIQUE,\n",
    "        password TEXT NOT NULL,\n",
    "        username TEXT,\n",
    "        is_admin INTEGER DEFAULT 0 CHECK(is_admin IN (0, 1)),\n",
    "        is_active INTEGER DEFAULT 1 CHECK(is_active IN (0, 1)),\n",
    "        profile TEXT,\n",
    "        note TEXT,\n",
    "        created_by TEXT,\n",
    "        created_at TEXT,\n",
    "        updated_by TEXT,\n",
    "        updated_at TEXT\n",
    "    )\n",
    "    ''',\n",
    "    TABLE_H7_TASK: f'''\n",
    "    CREATE TABLE IF NOT EXISTS {TABLE_H7_TASK} (\n",
    "        id INTEGER PRIMARY KEY AUTOINCREMENT,\n",
    "        task_name TEXT NOT NULL,\n",
    "        description TEXT,\n",
    "        task_group TEXT DEFAULT 'Personal' CHECK(task_group IN ('','Work', 'Personal')),\n",
    "        is_urgent TEXT DEFAULT 'N' CHECK(is_urgent IN ('Y', 'N')),\n",
    "        is_important TEXT DEFAULT 'N' CHECK(is_important IN ('Y', 'N')),\n",
    "        status TEXT DEFAULT '' CHECK(status IN ('', 'ToDo', 'Doing', 'Done')),\n",
    "        pct_completed TEXT DEFAULT '0%' CHECK(pct_completed IN ('0%', '25%', '50%', '75%', '100%')),\n",
    "        due_date TEXT,\n",
    "        category TEXT DEFAULT '' CHECK(category IN ('', 'learning', 'research', 'project', 'fun')),\n",
    "        note TEXT,\n",
    "        created_by TEXT,\n",
    "        created_at TEXT,\n",
    "        updated_by TEXT,\n",
    "        updated_at TEXT\n",
    "    ''',\n",
    "}"
   ]
  },
  {
   "cell_type": "code",
   "execution_count": 8,
   "id": "1ef4632e-ecb8-4e2b-9fbe-8f157a7dbb29",
   "metadata": {},
   "outputs": [],
   "source": [
    "def ddl_to_label_dict(ddl, reserved_words=['if', 'not', 'exists', 'table', 'create', 'primary', 'constraint', 'foreign', 'references', 'DEFAULT']):\n",
    "    # Convert reserved words to lowercase for case-insensitive comparison\n",
    "    reserved_words = [word.strip().lower() for word in reserved_words if word.strip()]\n",
    "    \n",
    "    # Extract column definitions from DDL\n",
    "    # This regex now captures column names that might include underscores\n",
    "    column_defs = re.findall(r'(\\w+(?:_\\w+)*)\\s+[\\w()]+', ddl)\n",
    "    \n",
    "    # Function to convert snake_case to Title Case\n",
    "    def to_title_case(string):\n",
    "        return ' '.join(word.capitalize() for word in string.split('_'))\n",
    "    \n",
    "    # Create dictionary with column names as keys and title-cased labels as values\n",
    "    return {col: to_title_case(col) for col in column_defs if col.lower() not in reserved_words}\n",
    "\n",
    "COL_LABELS = {k: ddl_to_label_dict(v) for k,v in ddl_statements.items() }\n"
   ]
  },
  {
   "cell_type": "code",
   "execution_count": 9,
   "id": "91f8a281-d4c8-4ab4-b664-fc3753354409",
   "metadata": {},
   "outputs": [
    {
     "data": {
      "text/plain": [
       "{'habits7_user': {'id': 'Id',\n",
       "  'email': 'Email',\n",
       "  'password': 'Password',\n",
       "  'username': 'Username',\n",
       "  'is_admin': 'Is Admin',\n",
       "  'DEFAULT': 'Default',\n",
       "  'is_active': 'Is Active',\n",
       "  'profile': 'Profile',\n",
       "  'note': 'Note',\n",
       "  'created_by': 'Created By',\n",
       "  'created_at': 'Created At',\n",
       "  'updated_by': 'Updated By',\n",
       "  'updated_at': 'Updated At'},\n",
       " 'habits7_task': {'id': 'Id',\n",
       "  'task_name': 'Task Name',\n",
       "  'description': 'Description',\n",
       "  'task_group': 'Task Group',\n",
       "  'is_urgent': 'Is Urgent',\n",
       "  'is_important': 'Is Important',\n",
       "  'status': 'Status',\n",
       "  'pct_completed': 'Pct Completed',\n",
       "  'due_date': 'Due Date',\n",
       "  'category': 'Category',\n",
       "  'note': 'Note',\n",
       "  'created_by': 'Created By',\n",
       "  'created_at': 'Created At',\n",
       "  'updated_by': 'Updated By',\n",
       "  'updated_at': 'Updated At'}}"
      ]
     },
     "execution_count": 9,
     "metadata": {},
     "output_type": "execute_result"
    }
   ],
   "source": [
    "COL_LABELS"
   ]
  },
  {
   "cell_type": "code",
   "execution_count": 10,
   "id": "ddfadb45-9c6d-4dc2-93e5-f56a31f26b88",
   "metadata": {},
   "outputs": [],
   "source": [
    "prompt_json = [{'role': 'system', 'content': 'You are a SQLite expert. Please help to generate a SQL query to answer the question. Your response should ONLY be based on the given context and follow the response guidelines and format instructions. \\n===Tables \\nCREATE TABLE \"t_revenue\" (\\n\"rank\" INTEGER,\\n  \"name\" TEXT,\\n  \"symbol\" TEXT,\\n  \"revenue_ttm\" INTEGER,\\n  \"price_gbp\" REAL,\\n  \"country\" TEXT\\n)\\n\\nCREATE TABLE \"t_earnings\" (\\n\"rank\" INTEGER,\\n  \"name\" TEXT,\\n  \"symbol\" TEXT,\\n  \"earnings_ttm\" REAL,\\n  \"price_gbp\" REAL,\\n  \"country\" TEXT\\n)\\n\\nCREATE TABLE \"t_market_cap\" (\\n\"rank\" INTEGER,\\n  \"name\" TEXT,\\n  \"symbol\" TEXT,\\n  \"marketcap\" REAL,\\n  \"price_gbp\" REAL,\\n  \"country\" TEXT\\n)\\n\\nCREATE TABLE \"t_p_e_ratio\" (\\n\"rank\" INTEGER,\\n  \"name\" TEXT,\\n  \"symbol\" TEXT,\\n  \"pe_ratio_ttm\" REAL,\\n  \"price_gbp\" REAL,\\n  \"country\" TEXT\\n)\\n\\nCREATE TABLE \"t_dividend_yield\" (\\n\"rank\" INTEGER,\\n  \"name\" TEXT,\\n  \"symbol\" TEXT,\\n  \"dividend_yield_ttm\" REAL,\\n  \"price_gbp\" REAL,\\n  \"country\" TEXT\\n)\\n\\nCREATE TABLE \"t_country_region\" (\\n\"country\" TEXT,\\n  \"code_2\" TEXT,\\n  \"code_3\" TEXT,\\n  \"region\" TEXT,\\n  \"sub_region\" TEXT,\\n  \"country_name\" TEXT\\n)\\n\\n\\n===Additional Context \\n\\n\\nIntroduction:\\nThis dataset ranks top companies in the world.\\nIts analysis delves into the financial performance of top companies by examining key metrics such as revenue, earnings, market capitalisation, P/E ratio, and dividend yield. By comparing these metrics, we gain a comprehensive understanding of a company\\'s scale, profitability, market value, and growth potential. Through visualisations, the analysis also explores correlations between these metrics and offers insights into country-level performance, highlighting economic dominance across various sectors. This holistic approach provides a multi-dimensional view of global financial powerhouses, investor confidence, and regional economic trends.\\n\\nKey Metrics Used:\\n1. Revenue (Trailing Twelve Months - TTM):\\nTable Name: t_revenue ;\\nDefinition: This is the total income generated by a company from its operations in the last twelve months ;\\nPotential Insights: High revenue often indicates market dominance or high sales volume. Comparing revenues can reveal which companies are the largest in terms of business volume.\\n\\n2. Earnings (TTM):\\nTable Name: t_earnings\\nDefinition: This refers to the company\\'s profit after taxes and expenses over the trailing twelve months.\\nPotential Insights: Companies with high earnings are more efficient at converting revenue into profit, suggesting better profitability or cost management. A comparison of earnings provides insight into profitability rather than just scale.\\n\\n3. Market Capitalisation (Market Cap):\\nTable Name: t_market_cap\\nDefinition: Market cap is the total value of a company\\'s outstanding shares of stock, calculated as stock price multiplied by the number of shares. It indicates the company’s size in the stock market.\\nPotential Insights: High market cap usually indicates investor confidence in the company. Comparing market cap among the top 15 companies reveals their relative size in financial markets.\\n\\n4. P/E Ratio (TTM):\\nTable Name: t_p_e_ratio\\nDefinition: Price-to-Earnings (P/E) ratio measures a company\\'s current share price relative to its per-share earnings.\\nPotential Insights: A high P/E ratio may indicate that investors expect high growth in the future, while a low P/E ratio could imply undervaluation or scepticism about growth. Companies are compared by their growth prospects or current valuation.\\n\\n5. Dividend Yield (TTM):\\nTable Name: t_dividend_yield\\nDefinition: Dividend yield is a financial ratio that shows how much a company pays out in dividends each year relative to its share price.\\nPotential Insights: High dividend yield may indicate that a company returns more income to shareholders. It’s particularly useful for income-focused investors.\\n\\n6. Country-Region Map:\\nTable Name: t_country_region\\nDefinition: This table translate country to region\\n\\n\\n===Response Guidelines \\n1. If the provided context is sufficient, please generate a valid SQL query without any explanations for the question. \\n2. If the provided context is almost sufficient but requires knowledge of a specific string in a particular column, please generate an intermediate SQL query to find the distinct strings in that column. Prepend the query with a comment saying intermediate_sql \\n3. If the provided context is insufficient, please explain why it can\\'t be generated. \\n4. Please use the most relevant table(s). \\n5. If the question has been asked and answered before, please repeat the answer exactly as it was given before. \\n6. Ensure that the output SQL is SQLite-compliant and executable, and free of syntax errors. \\n'}, {'role': 'user', 'content': \"\\n                For this question: which table stores Company Market Cap, \\n                your generated SQL statement:  The table that stores information about a company's market cap is `t_market_cap`. results in the following exception: [ERROR-SQL] the generated SQL :  The table that stores information about a company's market cap is `t_market_cap`.\\n does not starts with ('select','with') .\\n                Can you please fix the error and re-generate the SQL statement?\\n            \"}, {'role': 'assistant', 'content': \"SELECT 't_market_cap' AS table_name\"}, {'role': 'user', 'content': \"\\n                For this question: \\n                For this question: which table stores Company Dividend Yield, \\n                your generated SQL statement: The LLM is not allowed to see the data in your database. Your question requires database introspection to generate the necessary SQL. Please set allow_llm_to_see_data=True to enable this. results in the following exception: [ERROR-SQL] the generated SQL : The LLM is not allowed to see the data in your database. Your question requires database introspection to generate the necessary SQL. Please set allow_llm_to_see_data=True to enable this.\\n does not starts with ('select','with') .\\n                Can you please fix the error and re-generate the SQL statement?\\n            , \\n                your generated SQL statement:  The table that stores information about a company's dividend yield is `t_dividend_yield`. results in the following exception: [ERROR-SQL] the generated SQL :  The table that stores information about a company's dividend yield is `t_dividend_yield`.\\n does not starts with ('select','with') .\\n                Can you please fix the error and re-generate the SQL statement?\\n            \"}, {'role': 'assistant', 'content': \" SELECT name FROM sqlite_master WHERE type='table'\"}, {'role': 'user', 'content': \"\\n                For this question: which table stores Company P/E Ratio, \\n                your generated SQL statement: The LLM is not allowed to see the data in your database. Your question requires database introspection to generate the necessary SQL. Please set allow_llm_to_see_data=True to enable this. results in the following exception: [ERROR-SQL] the generated SQL : The LLM is not allowed to see the data in your database. Your question requires database introspection to generate the necessary SQL. Please set allow_llm_to_see_data=True to enable this.\\n does not starts with ('select','with') .\\n                Can you please fix the error and re-generate the SQL statement?\\n            \"}, {'role': 'assistant', 'content': \"SELECT name FROM sqlite_master WHERE type='table'\"}, {'role': 'user', 'content': 'Can you list all tables in the SQLite database catalog?'}, {'role': 'assistant', 'content': \"SELECT name FROM sqlite_master WHERE type='table'\"}, {'role': 'user', 'content': \"\\n                For this question: which table stores Company Revenue, \\n                your generated SQL statement:  The table that stores information about a company's revenue is `t_revenue`. results in the following exception: [ERROR-SQL] the generated SQL :  The table that stores information about a company's revenue is `t_revenue`.\\n does not starts with ('select','with') .\\n                Can you please fix the error and re-generate the SQL statement?\\n            \"}]"
   ]
  },
  {
   "cell_type": "code",
   "execution_count": 13,
   "id": "5df1a5ea-3de1-46ca-921c-26f08c96ac06",
   "metadata": {},
   "outputs": [],
   "source": [
    "out_json = []\n",
    "for m in prompt_json:\n",
    "    m['content'] = m['content'][:50] + \"...\"\n",
    "    out_json.append(m)"
   ]
  },
  {
   "cell_type": "code",
   "execution_count": 14,
   "id": "aa4b8a1d-5504-4674-9346-27eaebdab9ac",
   "metadata": {},
   "outputs": [
    {
     "data": {
      "text/plain": [
       "[{'role': 'system',\n",
       "  'content': 'You are a SQLite expert. Please help to generate a...'},\n",
       " {'role': 'user',\n",
       "  'content': '\\n                For this question: which table st...'},\n",
       " {'role': 'assistant', 'content': \"SELECT 't_market_cap' AS table_name...\"},\n",
       " {'role': 'user',\n",
       "  'content': '\\n                For this question: \\n             ...'},\n",
       " {'role': 'assistant',\n",
       "  'content': \" SELECT name FROM sqlite_master WHERE type='table'...\"},\n",
       " {'role': 'user',\n",
       "  'content': '\\n                For this question: which table st...'},\n",
       " {'role': 'assistant',\n",
       "  'content': \"SELECT name FROM sqlite_master WHERE type='table'...\"},\n",
       " {'role': 'user',\n",
       "  'content': 'Can you list all tables in the SQLite database cat...'},\n",
       " {'role': 'assistant',\n",
       "  'content': \"SELECT name FROM sqlite_master WHERE type='table'...\"},\n",
       " {'role': 'user',\n",
       "  'content': '\\n                For this question: which table st...'}]"
      ]
     },
     "execution_count": 14,
     "metadata": {},
     "output_type": "execute_result"
    }
   ],
   "source": [
    "out_json"
   ]
  },
  {
   "cell_type": "code",
   "execution_count": 15,
   "id": "5ec44972-866c-4e5c-ad37-db695bf29462",
   "metadata": {},
   "outputs": [],
   "source": [
    "def keep_latest_messages(prompt_json):\n",
    "    latest_messages = {}\n",
    "    \n",
    "    for message in reversed(prompt_json):\n",
    "        role = message['role']\n",
    "        if role not in latest_messages:\n",
    "            latest_messages[role] = message\n",
    "    \n",
    "    return [latest_messages[role] for role in ['system', 'assistant', 'user'] if role in latest_messages]"
   ]
  },
  {
   "cell_type": "code",
   "execution_count": 17,
   "id": "d14daaf8-1368-43be-a0e8-808a73e0a2eb",
   "metadata": {},
   "outputs": [
    {
     "data": {
      "text/plain": [
       "[{'role': 'system',\n",
       "  'content': 'You are a SQLite expert. Please help to generate a...'},\n",
       " {'role': 'assistant',\n",
       "  'content': \"SELECT name FROM sqlite_master WHERE type='table'...\"},\n",
       " {'role': 'user',\n",
       "  'content': '\\n                For this question: which table st...'}]"
      ]
     },
     "execution_count": 17,
     "metadata": {},
     "output_type": "execute_result"
    }
   ],
   "source": [
    "updated_prompt = keep_latest_messages(out_json)\n",
    "updated_prompt"
   ]
  },
  {
   "cell_type": "code",
   "execution_count": null,
   "id": "137d2700-2de0-465f-853a-d2741725fb93",
   "metadata": {},
   "outputs": [],
   "source": []
  }
 ],
 "metadata": {
  "kernelspec": {
   "display_name": "Python 3 (ipykernel)",
   "language": "python",
   "name": "python3"
  },
  "language_info": {
   "codemirror_mode": {
    "name": "ipython",
    "version": 3
   },
   "file_extension": ".py",
   "mimetype": "text/x-python",
   "name": "python",
   "nbconvert_exporter": "python",
   "pygments_lexer": "ipython3",
   "version": "3.11.9"
  }
 },
 "nbformat": 4,
 "nbformat_minor": 5
}
