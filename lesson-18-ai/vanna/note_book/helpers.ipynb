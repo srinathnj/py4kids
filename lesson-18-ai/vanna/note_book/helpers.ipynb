{
 "cells": [
  {
   "cell_type": "code",
   "execution_count": 6,
   "id": "0783ad6c-9203-4780-8e7c-ab871124c4ae",
   "metadata": {},
   "outputs": [
    {
     "name": "stdout",
     "output_type": "stream",
     "text": [
      "{'id': 'Id', 'task_name': 'Task Name', 'description': 'Description', 'task_group': 'Task Group', 'is_urgent': 'Is Urgent', 'is_important': 'Is Important', 'status': 'Status', 'pct_completed': 'Pct Completed', 'due_date': 'Due Date', 'category': 'Category', 'note': 'Note', 'created_by': 'Created By', 'created_at': 'Created At', 'updated_by': 'Updated By', 'updated_at': 'Updated At'}\n"
     ]
    }
   ],
   "source": [
    "import re\n",
    "\n",
    "def ddl_to_label_dict(ddl, reserved_words=['if', 'not', 'exists', 'table', 'create', 'primary', 'constraint', 'foreign', 'references']):\n",
    "    # Convert reserved words to lowercase for case-insensitive comparison\n",
    "    reserved_words = [word.strip().lower() for word in reserved_words if word.strip()]\n",
    "    \n",
    "    # Extract column definitions from DDL\n",
    "    # This regex now captures column names that might include underscores\n",
    "    column_defs = re.findall(r'(\\w+(?:_\\w+)*)\\s+[\\w()]+', ddl)\n",
    "    \n",
    "    # Function to convert snake_case to Title Case\n",
    "    def to_title_case(string):\n",
    "        return ' '.join(word.capitalize() for word in string.split('_'))\n",
    "    \n",
    "    # Create dictionary with column names as keys and title-cased labels as values\n",
    "    return {col: to_title_case(col) for col in column_defs if col.lower() not in reserved_words}\n",
    "\n",
    "\n",
    "# Example usage:\n",
    "ddl = \"\"\"\n",
    "CREATE TABLE IF NOT EXISTS {TABLE_H7_TASK} (\n",
    "    id INTEGER PRIMARY KEY AUTOINCREMENT,\n",
    "    task_name TEXT NOT NULL,\n",
    "    description TEXT,\n",
    "    task_group TEXT DEFAULT 'Personal' CHECK(task_group IN ('','Work', 'Personal')),\n",
    "    is_urgent TEXT DEFAULT 'N' CHECK(is_urgent IN ('Y', 'N')),\n",
    "    is_important TEXT DEFAULT 'N' CHECK(is_important IN ('Y', 'N')),\n",
    "    status TEXT DEFAULT '' CHECK(status IN ('', 'ToDo', 'Doing', 'Done')),\n",
    "    pct_completed TEXT DEFAULT '0%' CHECK(pct_completed IN ('0%', '25%', '50%', '75%', '100%')),\n",
    "    due_date TEXT,\n",
    "    category TEXT DEFAULT '' CHECK(category IN ('', 'learning', 'research', 'project', 'fun')),\n",
    "    note TEXT,\n",
    "    created_by TEXT,\n",
    "    created_at TEXT,\n",
    "    updated_by TEXT,\n",
    "    updated_at TEXT\n",
    ")\n",
    "\"\"\"\n",
    "\n",
    "result = ddl_to_label_dict(ddl)\n",
    "print(result)"
   ]
  },
  {
   "cell_type": "code",
   "execution_count": 4,
   "id": "5c2fccb9-8c9b-4658-a004-ff8882b8c7db",
   "metadata": {},
   "outputs": [
    {
     "name": "stdout",
     "output_type": "stream",
     "text": [
      "['constraint', 'foreign', 'references']\n"
     ]
    }
   ],
   "source": [
    "s = \"\"\"\n",
    "CONSTRAINT fk_departments\n",
    "    FOREIGN KEY (department_id)\n",
    "    REFERENCES\n",
    "\"\"\"\n",
    "l = [i.strip().split()[0].lower() for i in s.split(\"\\n\") if i.strip()]\n",
    "print(l)"
   ]
  },
  {
   "cell_type": "code",
   "execution_count": 7,
   "id": "35560302-c215-4945-bf13-6cc46a1cb7a7",
   "metadata": {},
   "outputs": [],
   "source": [
    "TABLE_H7_TASK = \"habits7_task\"\n",
    "TABLE_H7_USER = \"habits7_user\"\n",
    "ddl_statements = {\n",
    "    TABLE_H7_USER: f'''\n",
    "    CREATE TABLE IF NOT EXISTS {TABLE_H7_USER} (\n",
    "        id INTEGER PRIMARY KEY AUTOINCREMENT,\n",
    "        email TEXT NOT NULL UNIQUE,\n",
    "        password TEXT NOT NULL,\n",
    "        username TEXT,\n",
    "        is_admin INTEGER DEFAULT 0 CHECK(is_admin IN (0, 1)),\n",
    "        is_active INTEGER DEFAULT 1 CHECK(is_active IN (0, 1)),\n",
    "        profile TEXT,\n",
    "        note TEXT,\n",
    "        created_by TEXT,\n",
    "        created_at TEXT,\n",
    "        updated_by TEXT,\n",
    "        updated_at TEXT\n",
    "    )\n",
    "    ''',\n",
    "    TABLE_H7_TASK: f'''\n",
    "    CREATE TABLE IF NOT EXISTS {TABLE_H7_TASK} (\n",
    "        id INTEGER PRIMARY KEY AUTOINCREMENT,\n",
    "        task_name TEXT NOT NULL,\n",
    "        description TEXT,\n",
    "        task_group TEXT DEFAULT 'Personal' CHECK(task_group IN ('','Work', 'Personal')),\n",
    "        is_urgent TEXT DEFAULT 'N' CHECK(is_urgent IN ('Y', 'N')),\n",
    "        is_important TEXT DEFAULT 'N' CHECK(is_important IN ('Y', 'N')),\n",
    "        status TEXT DEFAULT '' CHECK(status IN ('', 'ToDo', 'Doing', 'Done')),\n",
    "        pct_completed TEXT DEFAULT '0%' CHECK(pct_completed IN ('0%', '25%', '50%', '75%', '100%')),\n",
    "        due_date TEXT,\n",
    "        category TEXT DEFAULT '' CHECK(category IN ('', 'learning', 'research', 'project', 'fun')),\n",
    "        note TEXT,\n",
    "        created_by TEXT,\n",
    "        created_at TEXT,\n",
    "        updated_by TEXT,\n",
    "        updated_at TEXT\n",
    "    ''',\n",
    "}"
   ]
  },
  {
   "cell_type": "code",
   "execution_count": 8,
   "id": "1ef4632e-ecb8-4e2b-9fbe-8f157a7dbb29",
   "metadata": {},
   "outputs": [],
   "source": [
    "def ddl_to_label_dict(ddl, reserved_words=['if', 'not', 'exists', 'table', 'create', 'primary', 'constraint', 'foreign', 'references', 'DEFAULT']):\n",
    "    # Convert reserved words to lowercase for case-insensitive comparison\n",
    "    reserved_words = [word.strip().lower() for word in reserved_words if word.strip()]\n",
    "    \n",
    "    # Extract column definitions from DDL\n",
    "    # This regex now captures column names that might include underscores\n",
    "    column_defs = re.findall(r'(\\w+(?:_\\w+)*)\\s+[\\w()]+', ddl)\n",
    "    \n",
    "    # Function to convert snake_case to Title Case\n",
    "    def to_title_case(string):\n",
    "        return ' '.join(word.capitalize() for word in string.split('_'))\n",
    "    \n",
    "    # Create dictionary with column names as keys and title-cased labels as values\n",
    "    return {col: to_title_case(col) for col in column_defs if col.lower() not in reserved_words}\n",
    "\n",
    "COL_LABELS = {k: ddl_to_label_dict(v) for k,v in ddl_statements.items() }\n"
   ]
  },
  {
   "cell_type": "code",
   "execution_count": 9,
   "id": "91f8a281-d4c8-4ab4-b664-fc3753354409",
   "metadata": {},
   "outputs": [
    {
     "data": {
      "text/plain": [
       "{'habits7_user': {'id': 'Id',\n",
       "  'email': 'Email',\n",
       "  'password': 'Password',\n",
       "  'username': 'Username',\n",
       "  'is_admin': 'Is Admin',\n",
       "  'DEFAULT': 'Default',\n",
       "  'is_active': 'Is Active',\n",
       "  'profile': 'Profile',\n",
       "  'note': 'Note',\n",
       "  'created_by': 'Created By',\n",
       "  'created_at': 'Created At',\n",
       "  'updated_by': 'Updated By',\n",
       "  'updated_at': 'Updated At'},\n",
       " 'habits7_task': {'id': 'Id',\n",
       "  'task_name': 'Task Name',\n",
       "  'description': 'Description',\n",
       "  'task_group': 'Task Group',\n",
       "  'is_urgent': 'Is Urgent',\n",
       "  'is_important': 'Is Important',\n",
       "  'status': 'Status',\n",
       "  'pct_completed': 'Pct Completed',\n",
       "  'due_date': 'Due Date',\n",
       "  'category': 'Category',\n",
       "  'note': 'Note',\n",
       "  'created_by': 'Created By',\n",
       "  'created_at': 'Created At',\n",
       "  'updated_by': 'Updated By',\n",
       "  'updated_at': 'Updated At'}}"
      ]
     },
     "execution_count": 9,
     "metadata": {},
     "output_type": "execute_result"
    }
   ],
   "source": [
    "COL_LABELS"
   ]
  },
  {
   "cell_type": "code",
   "execution_count": null,
   "id": "ddfadb45-9c6d-4dc2-93e5-f56a31f26b88",
   "metadata": {},
   "outputs": [],
   "source": []
  }
 ],
 "metadata": {
  "kernelspec": {
   "display_name": "Python 3 (ipykernel)",
   "language": "python",
   "name": "python3"
  },
  "language_info": {
   "codemirror_mode": {
    "name": "ipython",
    "version": 3
   },
   "file_extension": ".py",
   "mimetype": "text/x-python",
   "name": "python",
   "nbconvert_exporter": "python",
   "pygments_lexer": "ipython3",
   "version": "3.11.9"
  }
 },
 "nbformat": 4,
 "nbformat_minor": 5
}
