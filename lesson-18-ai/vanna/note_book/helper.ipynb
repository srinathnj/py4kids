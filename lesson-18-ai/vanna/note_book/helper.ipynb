{
 "cells": [
  {
   "cell_type": "code",
   "execution_count": 1,
   "id": "515882db-1c7f-4849-bc76-63ddc7bd642f",
   "metadata": {},
   "outputs": [],
   "source": [
    "import re\n",
    "\n",
    "def strip_brackets(ddl):\n",
    "  \"\"\"\n",
    "  This function removes square brackets from table and column names in a DDL script.\n",
    "\n",
    "  Args:\n",
    "      ddl (str): The DDL script containing square brackets.\n",
    "\n",
    "  Returns:\n",
    "      str: The DDL script with square brackets removed.\n",
    "  \"\"\"\n",
    "  # Use regular expressions to match and replace square brackets\n",
    "  pattern = r\"\\[([^\\]]+)]\"  # Match any character except ] within square brackets\n",
    "  return re.sub(pattern, r\"\\1\", ddl)"
   ]
  },
  {
   "cell_type": "code",
   "execution_count": 2,
   "id": "f5ab01f5-bf75-41be-a18d-43086979704e",
   "metadata": {},
   "outputs": [
    {
     "name": "stdout",
     "output_type": "stream",
     "text": [
      "\n",
      "  Adding ddl: CREATE TABLE Album\n",
      "  (\n",
      "      AlbumId INTEGER  NOT NULL,\n",
      "      Title NVARCHAR(160)  NOT NULL,\n",
      "      ArtistId INTEGER  NOT NULL,\n",
      "      CONSTRAINT PK_Album PRIMARY KEY  (AlbumId),\n",
      "      FOREIGN KEY (ArtistId) REFERENCES Artist (ArtistId) \n",
      "\t\t\tON DELETE NO ACTION ON UPDATE NO ACTION\n",
      "  ) \n"
     ]
    }
   ],
   "source": [
    "# Example usage\n",
    "ddl_with_brackets = \"\"\"\n",
    "  Adding ddl: CREATE TABLE [Album]\n",
    "  (\n",
    "      [AlbumId] INTEGER  NOT NULL,\n",
    "      [Title] NVARCHAR(160)  NOT NULL,\n",
    "      [ArtistId] INTEGER  NOT NULL,\n",
    "      CONSTRAINT [PK_Album] PRIMARY KEY  ([AlbumId]),\n",
    "      FOREIGN KEY ([ArtistId]) REFERENCES [Artist] ([ArtistId]) \n",
    "\t\t\tON DELETE NO ACTION ON UPDATE NO ACTION\n",
    "  ) \"\"\"\n",
    "\n",
    "cleaned_ddl = strip_brackets(ddl_with_brackets)\n",
    "print(cleaned_ddl)"
   ]
  },
  {
   "cell_type": "code",
   "execution_count": null,
   "id": "8dbb4746-006f-4a53-a406-ae6c0e10735d",
   "metadata": {},
   "outputs": [],
   "source": []
  }
 ],
 "metadata": {
  "kernelspec": {
   "display_name": "Python 3 (ipykernel)",
   "language": "python",
   "name": "python3"
  },
  "language_info": {
   "codemirror_mode": {
    "name": "ipython",
    "version": 3
   },
   "file_extension": ".py",
   "mimetype": "text/x-python",
   "name": "python",
   "nbconvert_exporter": "python",
   "pygments_lexer": "ipython3",
   "version": "3.11.9"
  }
 },
 "nbformat": 4,
 "nbformat_minor": 5
}
