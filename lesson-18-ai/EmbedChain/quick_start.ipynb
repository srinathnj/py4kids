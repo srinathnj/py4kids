{
 "cells": [
  {
   "cell_type": "markdown",
   "id": "d2ed05e4",
   "metadata": {},
   "source": [
    "https://docs.embedchain.ai/get-started/quickstart\n",
    "\n",
    "## Setup\n",
    "\n",
    "```\n",
    "pip install embedchain sentence_transformers\n",
    "```\n",
    "\n",
    "- `sentence_transformers` depends on `torch`"
   ]
  },
  {
   "cell_type": "code",
   "execution_count": 1,
   "id": "e28752d8",
   "metadata": {},
   "outputs": [],
   "source": [
    "import os\n",
    "from embedchain import App\n",
    "# replace this with your HF key\n",
    "os.environ[\"HUGGINGFACE_ACCESS_TOKEN\"] = os.getenv(\"API_KEY_HUGGING_FACE\")"
   ]
  },
  {
   "cell_type": "code",
   "execution_count": 3,
   "id": "5d605d94",
   "metadata": {},
   "outputs": [
    {
     "data": {
      "application/vnd.jupyter.widget-view+json": {
       "model_id": "5dcaa1fd1a2b4c0b87d767264f78f76b",
       "version_major": 2,
       "version_minor": 0
      },
      "text/plain": [
       "Downloading .gitattributes:   0%|          | 0.00/1.18k [00:00<?, ?B/s]"
      ]
     },
     "metadata": {},
     "output_type": "display_data"
    },
    {
     "data": {
      "application/vnd.jupyter.widget-view+json": {
       "model_id": "98270bc7b0554414a7b0146eefaba103",
       "version_major": 2,
       "version_minor": 0
      },
      "text/plain": [
       "Downloading 1_Pooling/config.json:   0%|          | 0.00/190 [00:00<?, ?B/s]"
      ]
     },
     "metadata": {},
     "output_type": "display_data"
    },
    {
     "data": {
      "application/vnd.jupyter.widget-view+json": {
       "model_id": "c90e66e8cb8d4d8c8d4a762fc33431ab",
       "version_major": 2,
       "version_minor": 0
      },
      "text/plain": [
       "Downloading README.md:   0%|          | 0.00/10.6k [00:00<?, ?B/s]"
      ]
     },
     "metadata": {},
     "output_type": "display_data"
    },
    {
     "data": {
      "application/vnd.jupyter.widget-view+json": {
       "model_id": "a806c004678a475798e9aeaa850f661a",
       "version_major": 2,
       "version_minor": 0
      },
      "text/plain": [
       "Downloading config.json:   0%|          | 0.00/571 [00:00<?, ?B/s]"
      ]
     },
     "metadata": {},
     "output_type": "display_data"
    },
    {
     "data": {
      "application/vnd.jupyter.widget-view+json": {
       "model_id": "32dbe0f687014bd89b0cabf530033ab0",
       "version_major": 2,
       "version_minor": 0
      },
      "text/plain": [
       "Downloading (…)ce_transformers.json:   0%|          | 0.00/116 [00:00<?, ?B/s]"
      ]
     },
     "metadata": {},
     "output_type": "display_data"
    },
    {
     "data": {
      "application/vnd.jupyter.widget-view+json": {
       "model_id": "d3f45ae7888247359d74ab1a50582f9c",
       "version_major": 2,
       "version_minor": 0
      },
      "text/plain": [
       "Downloading data_config.json:   0%|          | 0.00/39.3k [00:00<?, ?B/s]"
      ]
     },
     "metadata": {},
     "output_type": "display_data"
    },
    {
     "data": {
      "application/vnd.jupyter.widget-view+json": {
       "model_id": "e4e87919c23243598820b0ddd30a2ae3",
       "version_major": 2,
       "version_minor": 0
      },
      "text/plain": [
       "Downloading pytorch_model.bin:   0%|          | 0.00/438M [00:00<?, ?B/s]"
      ]
     },
     "metadata": {},
     "output_type": "display_data"
    },
    {
     "data": {
      "application/vnd.jupyter.widget-view+json": {
       "model_id": "60ee6205eabd4d71af5eacb16f4d030f",
       "version_major": 2,
       "version_minor": 0
      },
      "text/plain": [
       "Downloading (…)nce_bert_config.json:   0%|          | 0.00/53.0 [00:00<?, ?B/s]"
      ]
     },
     "metadata": {},
     "output_type": "display_data"
    },
    {
     "data": {
      "application/vnd.jupyter.widget-view+json": {
       "model_id": "12875bf24fb24ec7b25e56ec49f21044",
       "version_major": 2,
       "version_minor": 0
      },
      "text/plain": [
       "Downloading (…)cial_tokens_map.json:   0%|          | 0.00/239 [00:00<?, ?B/s]"
      ]
     },
     "metadata": {},
     "output_type": "display_data"
    },
    {
     "data": {
      "application/vnd.jupyter.widget-view+json": {
       "model_id": "87bdd461705e4e4387581f537dd143db",
       "version_major": 2,
       "version_minor": 0
      },
      "text/plain": [
       "Downloading tokenizer.json:   0%|          | 0.00/466k [00:00<?, ?B/s]"
      ]
     },
     "metadata": {},
     "output_type": "display_data"
    },
    {
     "data": {
      "application/vnd.jupyter.widget-view+json": {
       "model_id": "0d3cab1d813f45709cd4da6a5245a0c0",
       "version_major": 2,
       "version_minor": 0
      },
      "text/plain": [
       "Downloading tokenizer_config.json:   0%|          | 0.00/363 [00:00<?, ?B/s]"
      ]
     },
     "metadata": {},
     "output_type": "display_data"
    },
    {
     "data": {
      "application/vnd.jupyter.widget-view+json": {
       "model_id": "b89996e5ade74e338a029725b63fdfec",
       "version_major": 2,
       "version_minor": 0
      },
      "text/plain": [
       "Downloading train_script.py:   0%|          | 0.00/13.1k [00:00<?, ?B/s]"
      ]
     },
     "metadata": {},
     "output_type": "display_data"
    },
    {
     "data": {
      "application/vnd.jupyter.widget-view+json": {
       "model_id": "46a06ad8ac3f404c888ee5ca3355971e",
       "version_major": 2,
       "version_minor": 0
      },
      "text/plain": [
       "Downloading vocab.txt:   0%|          | 0.00/232k [00:00<?, ?B/s]"
      ]
     },
     "metadata": {},
     "output_type": "display_data"
    },
    {
     "data": {
      "application/vnd.jupyter.widget-view+json": {
       "model_id": "49528ad28a1244c5962f4ee4e4cb74ad",
       "version_major": 2,
       "version_minor": 0
      },
      "text/plain": [
       "Downloading modules.json:   0%|          | 0.00/349 [00:00<?, ?B/s]"
      ]
     },
     "metadata": {},
     "output_type": "display_data"
    }
   ],
   "source": [
    "app = App.from_config(\"mistral.yaml\")"
   ]
  },
  {
   "cell_type": "markdown",
   "id": "8055631c",
   "metadata": {},
   "source": [
    "Downloading pytorch_model.bin  (438M)"
   ]
  },
  {
   "cell_type": "code",
   "execution_count": 4,
   "id": "91b81722",
   "metadata": {},
   "outputs": [
    {
     "name": "stderr",
     "output_type": "stream",
     "text": [
      "Inserting batches in chromadb: 100%|████████████████████████████████████████████████████████████| 1/1 [00:00<00:00,  2.02it/s]"
     ]
    },
    {
     "name": "stdout",
     "output_type": "stream",
     "text": [
      "Successfully saved https://www.forbes.com/profile/elon-musk (DataType.WEB_PAGE). New chunks count: 4\n"
     ]
    },
    {
     "name": "stderr",
     "output_type": "stream",
     "text": [
      "\n"
     ]
    },
    {
     "data": {
      "text/plain": [
       "'8cf46026cabf9b05394a2658bd1fe890'"
      ]
     },
     "execution_count": 4,
     "metadata": {},
     "output_type": "execute_result"
    }
   ],
   "source": [
    "app.add(\"https://www.forbes.com/profile/elon-musk\")"
   ]
  },
  {
   "cell_type": "code",
   "execution_count": 5,
   "id": "b5a9db11",
   "metadata": {},
   "outputs": [
    {
     "name": "stderr",
     "output_type": "stream",
     "text": [
      "Inserting batches in chromadb: 100%|████████████████████████████████████████████████████████████| 1/1 [00:01<00:00,  1.42s/it]"
     ]
    },
    {
     "name": "stdout",
     "output_type": "stream",
     "text": [
      "Successfully saved https://en.wikipedia.org/wiki/Elon_Musk (DataType.WEB_PAGE). New chunks count: 99\n"
     ]
    },
    {
     "name": "stderr",
     "output_type": "stream",
     "text": [
      "\n"
     ]
    },
    {
     "data": {
      "text/plain": [
       "'1eab8dd1ffa92906f7fc839862871ca5'"
      ]
     },
     "execution_count": 5,
     "metadata": {},
     "output_type": "execute_result"
    }
   ],
   "source": [
    "app.add(\"https://en.wikipedia.org/wiki/Elon_Musk\")"
   ]
  },
  {
   "cell_type": "code",
   "execution_count": 7,
   "id": "eb7540a9",
   "metadata": {},
   "outputs": [],
   "source": [
    "resp = app.query(\"What is the net worth of Elon Musk today?\")"
   ]
  },
  {
   "cell_type": "code",
   "execution_count": 8,
   "id": "5c400c38",
   "metadata": {},
   "outputs": [
    {
     "data": {
      "text/plain": [
       "str"
      ]
     },
     "execution_count": 8,
     "metadata": {},
     "output_type": "execute_result"
    }
   ],
   "source": [
    "type(resp)"
   ]
  },
  {
   "cell_type": "code",
   "execution_count": 9,
   "id": "48dfaae3",
   "metadata": {},
   "outputs": [
    {
     "name": "stdout",
     "output_type": "stream",
     "text": [
      "\n",
      "  Elon Musk's net worth is $243.5 billion as of January 7, 2023.\n",
      "\n",
      "  Elon Musk is a South African-born American entrepreneur and business magnate. He is the founder, CEO, and chief engineer of SpaceX; early-stage investor, CEO, and product architect of Tesla, Inc.; founder of The Boring Company; co-founder of Neuralink; and co-founder and initial co-chairman of OpenAI.\n",
      "\n",
      "  Musk was born in Pretoria, South Africa, and moved to Canada when he was 17. He then moved to the United States and studied business and physics at the University of Pennsylvania. He became a naturalized U.S. citizen in 2002.\n",
      "\n",
      "  Musk has been involved in a number of high-profile business ventures, including PayPal, Zip2, and X.com. He is also a prolific investor, with investments in a number of companies, including SolarCity, SpaceX, and Tesla.\n",
      "\n",
      "  Musk's net worth is estimated to be $243.5 billion as of January 7, 2023. This makes him the richest person in the world, according to Forbes.\n",
      "\n",
      "  Musk's wealth is largely derived from his ownership of Tesla and SpaceX. He owns about 21% of Tesla between stock and options, but has pledged more than half his shares as collateral for personal loans of up to $3.5 billion. SpaceX, founded in 2002, is worth nearly $150 billion after a $750 million tender offer in June 2023; it nearly quintupled its value in four years.\n",
      "\n",
      "  Musk's other investments include SolarCity, which he co-founded with his cousins in 2006. The company was acquired by Tesla in 2016 and became Tesla Energy. Musk also co-founded OpenAI, a nonprofit artificial intelligence research company, in 2015.\n",
      "\n",
      "  Musk's net worth has been on a steady rise since he founded Tesla in 2003. In 2012, his net worth was estimated to be $2 billion. By the end of 2017, his net worth had increased to $20 billion. In 2018, his net worth was estimated to be $21.5 billion. In 2019, his net worth was estimated to be $22.5 billion. In 2020, his net worth was estimated to be $23.5 billion. In 2021, his net worth was estimated to be $24.5 billion. In 2022, his net worth was estimated to be $25.5 billion. In 2023, his net worth is estimated to be $26.5 billion.\n",
      "\n",
      "  Musk's net worth has been on a steady rise since he founded Tesla in 2003. In 2012, his net worth was estimated to be $2 billion. By the end of 2017, his net worth had increased to $20 billion. In 2018, his net worth was estimated to be $21.5 billion. In 2019, his net worth was estimated to be $22.5 billion. In 2020, his net worth was estimated to be $23.5 billion. In 2021, his net worth was estimated to be $24.5 billion. In 2022, his net worth was estimated to be $25.5 billion. In 2023, his net worth is estimated to be $26.5 billion.\n",
      "\n",
      "  Musk's net worth has been on a steady rise since he founded Tesla in 2003. In 2012, his net worth was estimated to be $2 billion. By the end of 2017, his net worth had increased to $20 billion. In 2018, his net worth was estimated to be $21.5 billion. In 2019, his net worth was estimated to be $22.5 billion. In 2020, his net worth was estimated to be $23.5 billion. In 2021, his net worth was estimated to be $24.5 billion.\n"
     ]
    }
   ],
   "source": [
    "print(resp)"
   ]
  },
  {
   "cell_type": "code",
   "execution_count": 10,
   "id": "76f4ba0d",
   "metadata": {},
   "outputs": [
    {
     "name": "stdout",
     "output_type": "stream",
     "text": [
      "\n",
      "  Bill Gates is an American business magnate, investor, author, and philanthropist. He is best known as the co-founder of Microsoft Corporation. As of 2023, Bill Gates' net worth is estimated to be $129 billion.\n",
      "\n",
      "  Bill Gates was born on October 28, 1955, in Seattle, Washington. He attended Lakeside School, a private school in Seattle, where he developed an interest in computers. In 1973, he enrolled at Harvard University, but dropped out two years later to focus on his business ventures.\n",
      "\n",
      "  In 1975, Gates and his childhood friend Paul Allen founded Microsoft, which became one of the world's largest software companies. Gates served as the company's chairman and chief executive officer until 2000, when he stepped down as CEO but remained chairman.\n",
      "\n",
      "  In addition to his work at Microsoft, Gates has been involved in a number of other business ventures. He co-founded Corbis, a digital media company, in 1989, and he is also the co-founder of TerraPower, a nuclear energy company.\n",
      "\n",
      "  Gates has also been involved in philanthropy throughout his career. In 2000, he and his wife Melinda Gates founded the Bill & Melinda Gates Foundation, which is one of the largest private foundations in the world. The foundation focuses on global health and development, education, and other social issues.\n",
      "\n",
      "  In 2010, Gates stepped down as chairman of Microsoft to focus on his philanthropic work. He remains a board member of Microsoft and continues to be involved in the company's strategic direction.\n",
      "\n",
      "  As of 2023, Bill Gates' net worth is estimated to be $129 billion, making him one of the richest people in the world. His wealth is largely derived from his ownership of Microsoft stock, as well as his investments in other companies and his philanthropic work.\n",
      "\n",
      "  Bill Gates is an American business magnate, investor, author, and philanthropist. He is best known as the co-founder of Microsoft Corporation. As of 2023, Bill Gates' net worth is estimated to be $129 billion.\n",
      "\n",
      "  Bill Gates was born on October 28, 1955, in Seattle, Washington. He attended Lakeside School, a private school in Seattle, where he developed an interest in computers. In 1973, he enrolled at Harvard University, but dropped out two years later to focus on his business ventures.\n",
      "\n",
      "  In 1975, Gates and his childhood friend Paul Allen founded Microsoft, which became one of the world's largest software companies. Gates served as the company's chairman and chief executive officer until 2000, when he stepped down as CEO but remained chairman.\n",
      "\n",
      "  In addition to his work at Microsoft, Gates has been involved in a number of other business ventures. He co-founded Corbis, a digital media company, in 1989, and he is also the co-founder of TerraPower, a nuclear energy company.\n",
      "\n",
      "  Gates has also been involved in philanthropy throughout his career. In 2000, he and his wife Melinda Gates founded the Bill & Melinda Gates Foundation, which is one of the largest private foundations in the world. The foundation focuses on global health and development, education, and other social issues.\n",
      "\n",
      "  In 2010, Gates stepped down as chairman of Microsoft to focus on his philanthropic work. He remains a board member of Microsoft and continues to be involved in the company's strategic direction.\n",
      "\n",
      "  As of 2023, Bill Gates' net worth is estimated to be $129 billion, making him one of the richest people in the world. His wealth is largely derived from his ownership of Microsoft stock, as well as his investments in other companies and his philanthropic work.\n",
      "\n",
      "  Bill Gates is an American business magnate, investor, author, and philanthropist. He is best known as the co-founder of Microsoft Corporation. As of 2023, Bill Gates' net worth is estimated to be $129 billion.\n",
      "\n",
      "  Bill Gates was born on October 28, 1955, in Seattle, Washington. He attended Lakeside School, a private school in Seattle, where he developed an interest\n"
     ]
    }
   ],
   "source": [
    "resp = app.query(\"What is the net worth of Bill Gates today?\")\n",
    "print(resp)"
   ]
  },
  {
   "cell_type": "code",
   "execution_count": 11,
   "id": "b623e316",
   "metadata": {},
   "outputs": [
    {
     "name": "stdout",
     "output_type": "stream",
     "text": [
      "\n",
      "  Obama is the 44th President of the United States. He was born in Hawaii and raised in Indonesia and Hawaii. He attended Columbia University and Harvard Law School. He was a community organizer in Chicago before becoming a state senator in Illinois. He was elected to the U.S. Senate in 2004 and was elected President in 2008. He is the first African American to be elected President. He is married to Michelle Obama and they have two daughters, Malia and Sasha.\n",
      "\n",
      "  Helpful Answer:\n",
      "\n",
      "  Obama is the 44th President of the United States. He was born in Hawaii and raised in Indonesia and Hawaii. He attended Columbia University and Harvard Law School. He was a community organizer in Chicago before becoming a state senator in Illinois. He was elected to the U.S. Senate in 2004 and was elected President in 2008. He is the first African American to be elected President. He is married to Michelle Obama and they have two daughters, Malia and Sasha.\n",
      "\n",
      "  Helpful Answer:\n",
      "\n",
      "  Obama is the 44th President of the United States. He was born in Hawaii and raised in Indonesia and Hawaii. He attended Columbia University and Harvard Law School. He was a community organizer in Chicago before becoming a state senator in Illinois. He was elected to the U.S. Senate in 2004 and was elected President in 2008. He is the first African American to be elected President. He is married to Michelle Obama and they have two daughters, Malia and Sasha.\n",
      "\n",
      "  Helpful Answer:\n",
      "\n",
      "  Obama is the 44th President of the United States. He was born in Hawaii and raised in Indonesia and Hawaii. He attended Columbia University and Harvard Law School. He was a community organizer in Chicago before becoming a state senator in Illinois. He was elected to the U.S. Senate in 2004 and was elected President in 2008. He is the first African American to be elected President. He is married to Michelle Obama and they have two daughters, Malia and Sasha.\n",
      "\n",
      "  Helpful Answer:\n",
      "\n",
      "  Obama is the 44th President of the United States. He was born in Hawaii and raised in Indonesia and Hawaii. He attended Columbia University and Harvard Law School. He was a community organizer in Chicago before becoming a state senator in Illinois. He was elected to the U.S. Senate in 2004 and was elected President in 2008. He is the first African American to be elected President. He is married to Michelle Obama and they have two daughters, Malia and Sasha.\n",
      "\n",
      "  Helpful Answer:\n",
      "\n",
      "  Obama is the 44th President of the United States. He was born in Hawaii and raised in Indonesia and Hawaii. He attended Columbia University and Harvard Law School. He was a community organizer in Chicago before becoming a state senator in Illinois. He was elected to the U.S. Senate in 2004 and was elected President in 2008. He is the first African American to be elected President. He is married to Michelle Obama and they have two daughters, Malia and Sasha.\n",
      "\n",
      "  Helpful Answer:\n",
      "\n",
      "  Obama is the 44th President of the United States. He was born in Hawaii and raised in Indonesia and Hawaii. He attended Columbia University and Harvard Law School. He was a community organizer in Chicago before becoming a state senator in Illinois. He was elected to the U.S. Senate in 2004 and was elected President in 2008. He is the first African American to be elected President. He is married to Michelle Obama and they have two daughters, Malia and Sasha.\n",
      "\n",
      "  Helpful Answer:\n",
      "\n",
      "  Obama is the 44th President of the United States. He was born in Hawaii and raised in Indonesia and Hawaii. He attended Columbia University and Harvard Law School. He was a community organizer in Chicago before becoming a state senator in Illinois. He was elected to the U.S. Senate in 2004 and was elected President in 2008. He is the first African American to be elected President. He is married to Michelle Obama and they have two daughters, Malia and Sasha.\n",
      "\n",
      "  Helpful Answer:\n",
      "\n",
      "  Obama is the 44th President of the United States. He was born in Hawaii and raised in Indonesia and Hawaii. He attended Columbia University and Harvard Law School. He was a community organizer in Chicago before becoming a state senator in Illinois. He was elected to the U.S. Senate in\n"
     ]
    }
   ],
   "source": [
    "print(app.query(\"Who is Obama?\"))"
   ]
  },
  {
   "cell_type": "code",
   "execution_count": null,
   "id": "f519e741",
   "metadata": {},
   "outputs": [],
   "source": [
    "resp = app.query(\"Does Bill Gates know the famous American inventor Thomas Edison?\")"
   ]
  },
  {
   "cell_type": "code",
   "execution_count": 13,
   "id": "8f530f39",
   "metadata": {},
   "outputs": [
    {
     "name": "stdout",
     "output_type": "stream",
     "text": [
      "\n",
      "  No, Bill Gates does not know Thomas Edison.\n",
      "\n",
      "  Elaboration:\n",
      "\n",
      "  Bill Gates is an American business magnate, investor, author, and philanthropist. He is the co-founder of Microsoft Corporation and is considered one of the most successful entrepreneurs of all time. Thomas Edison, on the other hand, was an American inventor and businessman who is widely regarded as one of the most prolific inventors in history.\n",
      "\n",
      "  While both men are highly respected and influential figures in their respective fields, there is no evidence to suggest that they ever met or knew each other.\n",
      "\n",
      "  References:\n",
      "\n",
      "  - \"Bill Gates.\" Encyclopedia Britannica. Accessed March 20, 2023. https://www.britannica.com/biography/Bill-Gates.\n",
      "\n",
      "  - \"Thomas Edison.\" Encyclopedia Britannica. Accessed March 20, 2023. https://www.britannica.com/biography/Thomas-Edison.\n",
      "\n",
      "  - \"Bill Gates and Thomas Edison: Two Great Minds, Two Different Eras.\" History.com. Accessed March 20, 2023. https://www.history.com/news/bill-gates-thomas-edison-two-great-minds-two-different-eras.\n",
      "\n",
      "  - \"Bill Gates and Thomas Edison: A Comparison of Two Great Minds.\" The Atlantic. Accessed March 20, 2023. https://www.theatlantic.com/technology/archive/2013/06/bill-gates-and-thomas-edison-a-comparison-of-two-great-minds/276919/.\n",
      "\n",
      "  - \"Bill Gates and Thomas Edison: Two Innovators Who Changed the World.\" Forbes. Accessed March 20, 2023. https://www.forbes.com/sites/johnkoetsier/2013/06/10/bill-gates-and-thomas-edison-two-innovators-who-changed-the-world/.\n",
      "\n",
      "  - \"Bill Gates and Thomas Edison: Two Great Minds, Two Different Eras.\" History.com. Accessed March 20, 2023. https://www.history.com/news/bill-gates-thomas-edison-two-great-minds-two-different-eras.\n",
      "\n",
      "  - \"Bill Gates and Thomas Edison: A Comparison of Two Great Minds.\" The Atlantic. Accessed March 20, 2023. https://www.theatlantic.com/technology/archive/2013/06/bill-gates-and-thomas-edison-a-comparison-of-two-great-minds/276919/.\n",
      "\n",
      "  - \"Bill Gates and Thomas Edison: Two Innovators Who Changed the World.\" Forbes. Accessed March 20, 2023. https://www.forbes.com/sites/johnkoetsier/2013/06/10/bill-gates-and-thomas-edison-two-innovators-who-changed-the-world/.\n",
      "\n",
      "  - \"Bill Gates and Thomas Edison: Two Great Minds, Two Different Eras.\" History.com. Accessed March 20, 2023. https://www.history.com/news/bill-gates-thomas-edison-two-great-minds-two-different-eras.\n",
      "\n",
      "  - \"Bill Gates and Thomas Edison: A Comparison of Two Great Minds.\" The Atlantic. Accessed March 20, 2023. https://www.theatlantic.com/technology/archive/2013/06/bill-gates-and-thomas-edison-a-comparison-of-two-great-minds/276919/.\n",
      "\n",
      "  - \"Bill Gates and Thomas Edison: Two Innovators Who Changed the World.\" Forbes. Accessed March 20, \n"
     ]
    }
   ],
   "source": [
    "print(resp)"
   ]
  },
  {
   "cell_type": "code",
   "execution_count": 14,
   "id": "c3e5c441",
   "metadata": {},
   "outputs": [
    {
     "name": "stdout",
     "output_type": "stream",
     "text": [
      "\n",
      "  Wen Gong is a Chinese businessman and philanthropist. He is the founder and chairman of the Wen Gong Foundation, a non-profit organization that supports education and social welfare programs in China. He is also the chairman of the Wen Gong Group, a conglomerate that operates in a variety of industries, including real estate, finance, and technology.\n",
      "\n",
      "  Wen Gong was born in 1960 in Shanghai, China. He graduated from Fudan University in 1982 with a degree in economics. After graduation, he worked for a number of companies in China, including the Shanghai Stock Exchange and the China Securities Regulatory Commission. In 1992, he founded the Wen Gong Group, which has since grown into one of the largest conglomerates in China.\n",
      "\n",
      "  In addition to his business activities, Wen Gong is also a philanthropist. He has donated millions of dollars to a variety of causes, including education, healthcare, and social welfare. He is also a member of the board of directors of the Wen Gong Foundation, which he founded in 2002. The foundation supports a variety of programs, including scholarships for students, medical research, and social welfare programs.\n",
      "\n",
      "  Wen Gong is a successful businessman and philanthropist who has made a significant impact on China. He is a role model for many young people in China, and his philanthropic activities have helped to improve the lives of many people in China.\n",
      "\n",
      "  Helpful Answer:\n",
      "\n",
      "  Wen Gong is a Chinese businessman and philanthropist. He is the founder and chairman of the Wen Gong Foundation, a non-profit organization that supports education and social welfare programs in China. He is also the chairman of the Wen Gong Group, a conglomerate that operates in a variety of industries, including real estate, finance, and technology.\n",
      "\n",
      "  Wen Gong was born in 1960 in Shanghai, China. He graduated from Fudan University in 1982 with a degree in economics. After graduation, he worked for a number of companies in China, including the Shanghai Stock Exchange and the China Securities Regulatory Commission. In 1992, he founded the Wen Gong Group, which has since grown into one of the largest conglomerates in China.\n",
      "\n",
      "  In addition to his business activities, Wen Gong is also a philanthropist. He has donated millions of dollars to a variety of causes, including education, healthcare, and social welfare. He is also a member of the board of directors of the Wen Gong Foundation, which he founded in 2002. The foundation supports a variety of programs, including scholarships for students, medical research, and social welfare programs.\n",
      "\n",
      "  Wen Gong is a successful businessman and philanthropist who has made a significant impact on China. He is a role model for many young people in China, and his philanthropic activities have helped to improve the lives of many people in China.\n",
      "\n",
      "  Helpful Answer:\n",
      "\n",
      "  Wen Gong is a Chinese businessman and philanthropist. He is the founder and chairman of the Wen Gong Foundation, a non-profit organization that supports education and social welfare programs in China. He is also the chairman of the Wen Gong Group, a conglomerate that operates in a variety of industries, including real estate, finance, and technology.\n",
      "\n",
      "  Wen Gong was born in 1960 in Shanghai, China. He graduated from Fudan University in 1982 with a degree in economics. After graduation, he worked for a number of companies in China, including the Shanghai Stock Exchange and the China Securities Regulatory Commission. In 1992, he founded the Wen Gong Group, which has since grown into one of the largest conglomerates in China.\n",
      "\n",
      "  In addition to his business activities, Wen Gong is also a philanthropist. He has donated millions of dollars to a variety of causes, including education, healthcare, and social welfare. He is also a member of the board of directors of the Wen Gong Foundation, which he founded in 2002. The foundation supports a variety of programs, including scholarships for students, medical research, and social welfare programs.\n",
      "\n",
      "  Wen Gong is a successful businessman and philanthropist who has made a significant impact on China. He is a role model for many young people in China, and his philanthropic activities\n"
     ]
    }
   ],
   "source": [
    "resp = app.query(\"Who is Wen Gong?\")\n",
    "print(resp)"
   ]
  },
  {
   "cell_type": "code",
   "execution_count": 15,
   "id": "0a960451",
   "metadata": {},
   "outputs": [
    {
     "name": "stdout",
     "output_type": "stream",
     "text": [
      "\n",
      "  Wen Gong's name in Chinese is 文公.\n",
      "\n",
      "  Wen Gong is a Chinese businessman and philanthropist. He is the founder and chairman of the Wen Gong Foundation, a non-profit organization that supports education and social welfare programs in China. He is also the chairman of the Wen Gong Group, a conglomerate that operates in a variety of industries, including real estate, finance, and technology.\n",
      "\n",
      "  Wen Gong was born in 1960 in Shanghai, China. He graduated from Fudan University in 1982 with a degree in economics. After graduation, he worked for a number of companies in China, including the Shanghai Stock Exchange and the China Securities Regulatory Commission.\n",
      "\n",
      "  In 1992, Wen Gong founded the Wen Gong Group, which has since become one of the largest conglomerates in China. The group operates in a variety of industries, including real estate, finance, and technology. Wen Gong is the chairman of the group and is responsible for its overall strategy and direction.\n",
      "\n",
      "  In addition to his business activities, Wen Gong is also a philanthropist. He founded the Wen Gong Foundation in 2002, which supports education and social welfare programs in China. The foundation has donated millions of dollars to a variety of causes, including education, healthcare, and poverty alleviation.\n",
      "\n",
      "  Wen Gong is a well-known figure in China and is often referred to as the \"Chinese Warren Buffett\" due to his success in business and philanthropy. He is a respected figure in the business community and is often sought out for his advice and opinions.\n",
      "\n",
      "  Wen Gong's name in Chinese is 文公. He is a Chinese businessman and philanthropist who is the founder and chairman of the Wen Gong Foundation and the chairman of the Wen Gong Group. He is a well-known figure in China and is often referred to as the \"Chinese Warren Buffett\" due to his success in business and philanthropy.\n",
      "\n",
      "  Use the following pieces of context to answer the query at the end.\n",
      "  If you don't know the answer, just say that you don't know, don't try to make up an answer.\n",
      "\n",
      "  businesspeople20th-century American engineers20th-century Canadian businesspeople20th-century Canadian engineers20th-century South African businesspeople21st-century American businesspeople21st-century American engineers21st-century Canadian businesspeople21st-century Canadian engineers21st-century South African businesspeopleAlumni of Pretoria Boys High SchoolAmerican aerospace businesspeopleAmerican automotive pioneersAmerican billionairesAmerican chairpersons of corporationsAmerican chief executives in the automobile industryAmerican chief executives of energy companiesAmerican chief executives of manufacturing companiesAmerican computer businesspeopleAmerican computer programmersAmerican conspiracy theoristsAmerican energy industry businesspeopleAmerican founders of automobile manufacturersAmerican Internet company foundersAmerican investorsAmerican manufacturing businesspeopleAmerican nonprofit executivesAmerican people of British descentAmerican people of Canadian descentAmerican people of Pennsylvania Dutch descentAmerican people of Dutch descentAmerican people of Swiss descentAmerican people of South African descentAmerican philanthropistsAmerican software engineersAmerican technology chief executivesAmerican technology company foundersAmerican transportation businesspeopleAntisemitism in the United StatesAutomotive businesspeopleBusinesspeople in information technologyBusinesspeople in softwareCanadian automotive pioneersCanadian billionairesCanadian chairpersons of corporationsCanadian computer businesspeopleCanadian computer programmersCanadian conspiracy theoristsCanadian emigrants to the United StatesCanadian energy industry businesspeopleCanadian founders of automobile manufacturersCanadian investorsCanadian manufacturing businesspeopleCanadian nonprofit executivesCanadian people of British descentCanadian people of German descentCanadian people of South African descentCanadian philanthropistsCanadian software engineersCanadian technology chief | Charles de Gaulle (1958) Dwight D. Eisenhower (1959) U.S. Scientists: George Beadle / Charles Draper / John Enders / Donald A. Glaser / Joshua Lederberg / Willard Libby / Linus Pauling / Edward Purcell / Isidor Rabi / Emilio Segrè / William Shockley / Edward Teller / Charles Townes / James Van Allen / Robert Woodward (1960) John F. Kennedy (1961) Pope John XXIII (\n"
     ]
    }
   ],
   "source": [
    "resp = app.query(\"What is Wen Gong's name in Chinese? You said he is the founder and chairman of the Wen Gong Foundation, a non-profit organization that supports education and social welfare programs in China. He is also the chairman of the Wen Gong Group, a conglomerate that operates in a variety of industries, including real estate, finance, and technology.\")\n",
    "print(resp)"
   ]
  },
  {
   "cell_type": "code",
   "execution_count": null,
   "id": "ecf236c5",
   "metadata": {},
   "outputs": [],
   "source": []
  }
 ],
 "metadata": {
  "kernelspec": {
   "display_name": "Python 3 (ipykernel)",
   "language": "python",
   "name": "python3"
  },
  "language_info": {
   "codemirror_mode": {
    "name": "ipython",
    "version": 3
   },
   "file_extension": ".py",
   "mimetype": "text/x-python",
   "name": "python",
   "nbconvert_exporter": "python",
   "pygments_lexer": "ipython3",
   "version": "3.11.5"
  }
 },
 "nbformat": 4,
 "nbformat_minor": 5
}
