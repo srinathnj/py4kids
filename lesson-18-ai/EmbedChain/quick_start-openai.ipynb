{
 "cells": [
  {
   "cell_type": "markdown",
   "id": "70b74e7e",
   "metadata": {},
   "source": [
    "https://docs.embedchain.ai/get-started/quickstart\n",
    "\n",
    "## Setup\n",
    "\n",
    "```\n",
    "pip install embedchain sentence_transformers\n",
    "```\n",
    "\n",
    "- `sentence_transformers` depends on `torch`"
   ]
  },
  {
   "cell_type": "code",
   "execution_count": 1,
   "id": "39023f84",
   "metadata": {},
   "outputs": [],
   "source": [
    "import os\n",
    "from embedchain import App\n",
    "# replace this with your HF key\n",
    "os.environ[\"OPENAI_API_KEY\"] = os.getenv(\"API_KEY_OPENAI\")"
   ]
  },
  {
   "cell_type": "code",
   "execution_count": 2,
   "id": "222f743e",
   "metadata": {},
   "outputs": [],
   "source": [
    "app = App.from_config(\"openai.yaml\")"
   ]
  },
  {
   "cell_type": "code",
   "execution_count": 3,
   "id": "24e51384",
   "metadata": {},
   "outputs": [
    {
     "name": "stderr",
     "output_type": "stream",
     "text": [
      "Inserting batches in chromadb: 100%|████████████████████████████████████████████████████████████| 1/1 [00:00<00:00,  1.95it/s]"
     ]
    },
    {
     "name": "stdout",
     "output_type": "stream",
     "text": [
      "Successfully saved https://www.forbes.com/profile/elon-musk (DataType.WEB_PAGE). New chunks count: 4\n"
     ]
    },
    {
     "name": "stderr",
     "output_type": "stream",
     "text": [
      "\n"
     ]
    },
    {
     "data": {
      "text/plain": [
       "'8cf46026cabf9b05394a2658bd1fe890'"
      ]
     },
     "execution_count": 3,
     "metadata": {},
     "output_type": "execute_result"
    }
   ],
   "source": [
    "app.add(\"https://www.forbes.com/profile/elon-musk\")"
   ]
  },
  {
   "cell_type": "code",
   "execution_count": 4,
   "id": "8aa1d320",
   "metadata": {},
   "outputs": [
    {
     "name": "stderr",
     "output_type": "stream",
     "text": [
      "Inserting batches in chromadb: 100%|████████████████████████████████████████████████████████████| 1/1 [00:01<00:00,  1.43s/it]"
     ]
    },
    {
     "name": "stdout",
     "output_type": "stream",
     "text": [
      "Successfully saved https://en.wikipedia.org/wiki/Elon_Musk (DataType.WEB_PAGE). New chunks count: 99\n"
     ]
    },
    {
     "name": "stderr",
     "output_type": "stream",
     "text": [
      "\n"
     ]
    },
    {
     "data": {
      "text/plain": [
       "'1eab8dd1ffa92906f7fc839862871ca5'"
      ]
     },
     "execution_count": 4,
     "metadata": {},
     "output_type": "execute_result"
    }
   ],
   "source": [
    "app.add(\"https://en.wikipedia.org/wiki/Elon_Musk\")"
   ]
  },
  {
   "cell_type": "code",
   "execution_count": 5,
   "id": "cd1251d0",
   "metadata": {},
   "outputs": [],
   "source": [
    "resp = app.query(\"What is the net worth of Elon Musk today?\")"
   ]
  },
  {
   "cell_type": "code",
   "execution_count": 6,
   "id": "c4ed3b37",
   "metadata": {},
   "outputs": [
    {
     "data": {
      "text/plain": [
       "str"
      ]
     },
     "execution_count": 6,
     "metadata": {},
     "output_type": "execute_result"
    }
   ],
   "source": [
    "type(resp)"
   ]
  },
  {
   "cell_type": "code",
   "execution_count": 7,
   "id": "117e1a9f",
   "metadata": {},
   "outputs": [
    {
     "name": "stdout",
     "output_type": "stream",
     "text": [
      "As of January 7, 2024, Elon Musk's net worth is $243.5 billion.\n"
     ]
    }
   ],
   "source": [
    "print(resp)"
   ]
  },
  {
   "cell_type": "code",
   "execution_count": 8,
   "id": "8e8dc035",
   "metadata": {},
   "outputs": [
    {
     "name": "stdout",
     "output_type": "stream",
     "text": [
      "The provided context does not contain information about the current net worth of Bill Gates.\n"
     ]
    }
   ],
   "source": [
    "resp = app.query(\"What is the net worth of Bill Gates today?\")\n",
    "print(resp)"
   ]
  },
  {
   "cell_type": "code",
   "execution_count": 9,
   "id": "6b47e5d0",
   "metadata": {},
   "outputs": [
    {
     "name": "stdout",
     "output_type": "stream",
     "text": [
      "Barack Obama is a former President of the United States.\n"
     ]
    }
   ],
   "source": [
    "print(app.query(\"Who is Obama?\"))"
   ]
  },
  {
   "cell_type": "code",
   "execution_count": 10,
   "id": "6cd6c460",
   "metadata": {},
   "outputs": [],
   "source": [
    "resp = app.query(\"Does Bill Gates know the famous American inventor Thomas Edison?\")"
   ]
  },
  {
   "cell_type": "code",
   "execution_count": 11,
   "id": "3a685859",
   "metadata": {},
   "outputs": [
    {
     "name": "stdout",
     "output_type": "stream",
     "text": [
      "There is no information provided in the given context about whether Bill Gates knows Thomas Edison. Therefore, it is not possible to determine if Bill Gates knows the famous American inventor Thomas Edison based on the given information.\n"
     ]
    }
   ],
   "source": [
    "print(resp)"
   ]
  },
  {
   "cell_type": "code",
   "execution_count": 12,
   "id": "47383f8f",
   "metadata": {},
   "outputs": [
    {
     "name": "stdout",
     "output_type": "stream",
     "text": [
      "There is no information provided about Wen Gong in the given context.\n"
     ]
    }
   ],
   "source": [
    "resp = app.query(\"Who is Wen Gong?\")\n",
    "print(resp)"
   ]
  },
  {
   "cell_type": "code",
   "execution_count": 13,
   "id": "ff02dc4d",
   "metadata": {},
   "outputs": [
    {
     "name": "stdout",
     "output_type": "stream",
     "text": [
      "I don't have enough information to provide the Chinese name of Wen Gong.\n"
     ]
    }
   ],
   "source": [
    "resp = app.query(\"What is Wen Gong's name in Chinese? You said he is the founder and chairman of the Wen Gong Foundation, a non-profit organization that supports education and social welfare programs in China. He is also the chairman of the Wen Gong Group, a conglomerate that operates in a variety of industries, including real estate, finance, and technology.\")\n",
    "print(resp)"
   ]
  },
  {
   "cell_type": "code",
   "execution_count": null,
   "id": "1d864906",
   "metadata": {},
   "outputs": [],
   "source": []
  }
 ],
 "metadata": {
  "kernelspec": {
   "display_name": "Python 3 (ipykernel)",
   "language": "python",
   "name": "python3"
  },
  "language_info": {
   "codemirror_mode": {
    "name": "ipython",
    "version": 3
   },
   "file_extension": ".py",
   "mimetype": "text/x-python",
   "name": "python",
   "nbconvert_exporter": "python",
   "pygments_lexer": "ipython3",
   "version": "3.11.5"
  }
 },
 "nbformat": 4,
 "nbformat_minor": 5
}
