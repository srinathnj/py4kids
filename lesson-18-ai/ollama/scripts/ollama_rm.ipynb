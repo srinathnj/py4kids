{
 "cells": [
  {
   "cell_type": "code",
   "execution_count": 1,
   "id": "be80d5c8",
   "metadata": {},
   "outputs": [],
   "source": [
    "pull_str = open(\"ollama-models.txt\").read()"
   ]
  },
  {
   "cell_type": "code",
   "execution_count": 2,
   "id": "d674cc97",
   "metadata": {},
   "outputs": [],
   "source": [
    "llms = [i.strip().split()[0] for i in pull_str.split(\"\\n\") if i.strip()]"
   ]
  },
  {
   "cell_type": "code",
   "execution_count": 3,
   "id": "cafc6591",
   "metadata": {},
   "outputs": [
    {
     "data": {
      "text/plain": [
       "['NAME',\n",
       " 'gemma2:2b',\n",
       " 'codegemma:latest',\n",
       " 'mistral:latest',\n",
       " 'phi3:14b',\n",
       " 'phi3:latest',\n",
       " 'mistral-nemo:latest',\n",
       " 'gemma2:latest',\n",
       " 'llama3.1:latest',\n",
       " 'gemma:latest',\n",
       " 'llama3:latest',\n",
       " 'qwen2:latest',\n",
       " 'qwen2:7b',\n",
       " 'aya:latest',\n",
       " 'gemma:7b',\n",
       " 'gemma:2b',\n",
       " 'openchat:latest',\n",
       " 'neural-chat:latest',\n",
       " 'mistral-openorca:latest']"
      ]
     },
     "execution_count": 3,
     "metadata": {},
     "output_type": "execute_result"
    }
   ],
   "source": [
    "llms"
   ]
  },
  {
   "cell_type": "code",
   "execution_count": 4,
   "id": "711d00dd",
   "metadata": {},
   "outputs": [
    {
     "name": "stdout",
     "output_type": "stream",
     "text": [
      "ollama rm gemma2:2b\n",
      "ollama rm codegemma:latest\n",
      "ollama rm mistral:latest\n",
      "ollama rm phi3:14b\n",
      "ollama rm phi3:latest\n",
      "ollama rm mistral-nemo:latest\n",
      "ollama rm gemma2:latest\n",
      "ollama rm llama3.1:latest\n",
      "ollama rm gemma:latest\n",
      "ollama rm llama3:latest\n",
      "ollama rm qwen2:latest\n",
      "ollama rm qwen2:7b\n",
      "ollama rm aya:latest\n",
      "ollama rm gemma:7b\n",
      "ollama rm gemma:2b\n",
      "ollama rm openchat:latest\n",
      "ollama rm neural-chat:latest\n",
      "ollama rm mistral-openorca:latest\n"
     ]
    }
   ],
   "source": [
    "cmd = [f\"ollama rm {m}\" for m in llms if m != 'NAME']\n",
    "print(f\"\\n\".join(cmd))"
   ]
  },
  {
   "cell_type": "code",
   "execution_count": 5,
   "id": "f600eec3",
   "metadata": {},
   "outputs": [],
   "source": [
    "with open(\"ollama-rm.sh\", \"w\") as f:\n",
    "    f.write(f\"\\n\".join(cmd))"
   ]
  },
  {
   "cell_type": "code",
   "execution_count": 7,
   "id": "9902c015",
   "metadata": {},
   "outputs": [
    {
     "name": "stdout",
     "output_type": "stream",
     "text": [
      "ollama rm gemma2:2b\n",
      "ollama rm codegemma:latest\n",
      "ollama rm mistral:latest\n",
      "ollama rm phi3:14b\n",
      "ollama rm phi3:latest\n",
      "ollama rm mistral-nemo:latest\n",
      "ollama rm gemma2:latest\n",
      "ollama rm llama3.1:latest\n",
      "ollama rm gemma:latest\n",
      "ollama rm llama3:latest\n",
      "ollama rm qwen2:latest\n",
      "ollama rm qwen2:7b\n",
      "ollama rm aya:latest\n",
      "ollama rm gemma:7b\n",
      "ollama rm gemma:2b\n",
      "ollama rm openchat:latest\n",
      "ollama rm neural-chat:latest\n",
      "ollama rm mistral-openorca:latest\n",
      "\u001b[7mollama-rm.sh (END)\u001b[m\u001b[K\u0007\u001b[H\u001b[2J\u001b[H\u001b[H\u001b[2J\u001b[Hollama rm gemma2:2b\n",
      "ollama rm codegemma:latest\n",
      "ollama rm mistral:latest\n",
      "ollama rm phi3:14b\n",
      "ollama rm phi3:latest\n",
      "ollama rm mistral-nemo:latest\n",
      "ollama rm gemma2:latest\n",
      "ollama rm llama3.1:latest\n",
      "ollama rm gemma:latest\n",
      "ollama rm llama3:latest\n",
      "ollama rm qwen2:latest\n",
      "ollama rm qwen2:7b\n",
      "ollama rm aya:latest\n",
      "ollama rm gemma:7b\n",
      "ollama rm gemma:2b\n",
      "ollama rm openchat:latest\n",
      "ollama rm neural-chat:latest\n",
      "ollama rm mistral-openorca:latest\n",
      "\u001b[1m~\u001b[m\n",
      "\u001b[1m~\u001b[m\n",
      "\u001b[1m~\u001b[m\n",
      "\u001b[1m~\u001b[m\n",
      "\u001b[1m~\u001b[m\n",
      "\u001b[7m(END)\u001b[m\u001b[K"
     ]
    }
   ],
   "source": [
    "!less ollama-rm.sh"
   ]
  },
  {
   "cell_type": "code",
   "execution_count": null,
   "id": "09f58f8c",
   "metadata": {},
   "outputs": [],
   "source": []
  }
 ],
 "metadata": {
  "kernelspec": {
   "display_name": "Python 3 (ipykernel)",
   "language": "python",
   "name": "python3"
  },
  "language_info": {
   "codemirror_mode": {
    "name": "ipython",
    "version": 3
   },
   "file_extension": ".py",
   "mimetype": "text/x-python",
   "name": "python",
   "nbconvert_exporter": "python",
   "pygments_lexer": "ipython3",
   "version": "3.11.5"
  }
 },
 "nbformat": 4,
 "nbformat_minor": 5
}
