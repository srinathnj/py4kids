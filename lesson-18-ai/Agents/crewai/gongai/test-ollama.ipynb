{
 "cells": [
  {
   "cell_type": "code",
   "execution_count": 1,
   "id": "c0f877ee-faf0-4799-bd03-be0afca08520",
   "metadata": {},
   "outputs": [],
   "source": [
    "from time import time"
   ]
  },
  {
   "cell_type": "code",
   "execution_count": 2,
   "id": "640becf2-31d7-4dd8-9e8f-8715af76c8ee",
   "metadata": {},
   "outputs": [],
   "source": [
    "from crewai import Agent, Task, Crew\n",
    "from langchain_openai import ChatOpenAI\n",
    "import os\n",
    "os.environ[\"OPENAI_API_KEY\"] = \"NA\"\n",
    "\n",
    "llm = ChatOpenAI(\n",
    "    model = \"crewai-llama3\",  # make sure this model exists: $ ollama list\n",
    "    base_url = \"http://localhost:11434/v1\")"
   ]
  },
  {
   "cell_type": "code",
   "execution_count": 3,
   "id": "ebd46e55-3ef2-48bc-bf18-bc96f7f070cd",
   "metadata": {},
   "outputs": [],
   "source": [
    "general_agent = Agent(role = \"Math Professor\",\n",
    "                      goal = \"\"\"Provide the solution to the students that are asking mathematical questions and give them the answer.\"\"\",\n",
    "                      backstory = \"\"\"You are an excellent math professor that likes to solve math questions in a way that everyone can understand your solution\"\"\",\n",
    "                      allow_delegation = False,\n",
    "                      verbose = True,\n",
    "                      llm = llm)"
   ]
  },
  {
   "cell_type": "code",
   "execution_count": 4,
   "id": "4789f9e1-0aa8-49ab-888b-c4b33162e953",
   "metadata": {},
   "outputs": [],
   "source": [
    "task = Task(description=\"\"\"what is 3 + 5\"\"\",\n",
    "             agent = general_agent,\n",
    "             expected_output=\"A numerical answer.\")"
   ]
  },
  {
   "cell_type": "code",
   "execution_count": 5,
   "id": "7f66f908-615d-42fb-bd62-2a50412b3767",
   "metadata": {},
   "outputs": [],
   "source": [
    "crew = Crew(\n",
    "            agents=[general_agent],\n",
    "            tasks=[task],\n",
    "            verbose=2\n",
    "        )"
   ]
  },
  {
   "cell_type": "code",
   "execution_count": 6,
   "id": "e168332a-66cb-430e-9fa5-2600bfee0bf8",
   "metadata": {},
   "outputs": [
    {
     "name": "stdout",
     "output_type": "stream",
     "text": [
      "\u001b[1m\u001b[95m [DEBUG]: == Working Agent: Math Professor\u001b[00m\n",
      "\u001b[1m\u001b[95m [INFO]: == Starting Task: what is 3 + 5\u001b[00m\n",
      "\n",
      "\n",
      "\u001b[1m> Entering new CrewAgentExecutor chain...\u001b[0m\n",
      "\u001b[32;1m\u001b[1;3mWhat a delightful question!\n",
      "\n",
      "As a Math Professor, my thought process is always to break down the problem into manageable pieces. When faced with a simple arithmetic operation like 3 + 5, I know that the key to a great answer is to start by understanding the fundamental concept of addition.\n",
      "\n",
      "Addition is a binary operation that takes two numbers as input and returns their sum. In this case, we're adding 3 and 5 together. My thought process would be:\n",
      "\n",
      "\"Okay, let me see... 3 + 5... Hmm, what's the next step?\"\n",
      "\n",
      "And then I'd remember that when adding two numbers, I can think of it like combining groups of objects. For example, if I have 3 apples and someone gives me 5 more apples, how many apples do I have now?\n",
      "\n",
      "In this case, I have 3 apples initially and then add 5 more. So, I'd count the total number of apples: 3 + 1 (first apple added) = 4, then 4 + 1 (second apple added) = 5, then 5 + 1 (third apple added) = 6, and so on until... Ah, yes! The final answer is... 8!\n",
      "\n",
      "And that's when I'd write down my Final Answer:\n",
      "\n",
      "Final Answer:\n",
      "8\u001b[0m\n",
      "\n",
      "\u001b[1m> Finished chain.\u001b[0m\n",
      "\u001b[1m\u001b[92m [DEBUG]: == [Math Professor] Task output: 8\n",
      "\n",
      "\u001b[00m\n"
     ]
    }
   ],
   "source": [
    "ts_start = time()\n",
    "result = crew.kickoff()\n",
    "ts_stop = time()"
   ]
  },
  {
   "cell_type": "code",
   "execution_count": 7,
   "id": "f83e93cb-66bb-4c10-93b3-7b2020c22ec7",
   "metadata": {},
   "outputs": [
    {
     "name": "stdout",
     "output_type": "stream",
     "text": [
      "8\n"
     ]
    }
   ],
   "source": [
    "print(result)"
   ]
  },
  {
   "cell_type": "code",
   "execution_count": 8,
   "id": "9034e6e0-7c19-4142-ae07-8100bbc721ef",
   "metadata": {},
   "outputs": [
    {
     "name": "stdout",
     "output_type": "stream",
     "text": [
      "\n",
      "\n",
      "Elapsed time: 105.60 sec\n"
     ]
    }
   ],
   "source": [
    "print(f\"\\n\\nElapsed time: {(ts_stop-ts_start):.2f} sec\") "
   ]
  },
  {
   "cell_type": "markdown",
   "id": "1b4f4546-1008-4832-9dd4-a95eae47ed9b",
   "metadata": {},
   "source": [
    "- Elapsed time: 92.63 sec when using llama3 directly\n",
    "\n",
    "- Elapsed time: 105.60 sec using crewai-llama3"
   ]
  },
  {
   "cell_type": "code",
   "execution_count": null,
   "id": "bce1eedb-9e16-44e6-ae6b-a895afa0840e",
   "metadata": {},
   "outputs": [],
   "source": []
  }
 ],
 "metadata": {
  "kernelspec": {
   "display_name": "Python 3 (ipykernel)",
   "language": "python",
   "name": "python3"
  },
  "language_info": {
   "codemirror_mode": {
    "name": "ipython",
    "version": 3
   },
   "file_extension": ".py",
   "mimetype": "text/x-python",
   "name": "python",
   "nbconvert_exporter": "python",
   "pygments_lexer": "ipython3",
   "version": "3.11.9"
  }
 },
 "nbformat": 4,
 "nbformat_minor": 5
}
