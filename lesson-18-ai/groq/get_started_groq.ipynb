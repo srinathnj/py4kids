{
 "cells": [
  {
   "cell_type": "markdown",
   "id": "f31278f5",
   "metadata": {},
   "source": [
    "pip install groq"
   ]
  },
  {
   "cell_type": "code",
   "execution_count": 8,
   "id": "47050b1f",
   "metadata": {},
   "outputs": [],
   "source": [
    "from groq import Groq"
   ]
  },
  {
   "cell_type": "code",
   "execution_count": 19,
   "id": "4a1857bd",
   "metadata": {},
   "outputs": [],
   "source": [
    "from time import time "
   ]
  },
  {
   "cell_type": "markdown",
   "id": "9fa9fb0c",
   "metadata": {},
   "source": [
    "## Get started"
   ]
  },
  {
   "cell_type": "code",
   "execution_count": null,
   "id": "6e437b33",
   "metadata": {},
   "outputs": [],
   "source": [
    "from api_key_store import *\n",
    "s = ApiKeyStore()"
   ]
  },
  {
   "cell_type": "code",
   "execution_count": 6,
   "id": "d6f56eca",
   "metadata": {},
   "outputs": [],
   "source": [
    "groq_api_key = s.get_api_key(\"GROQ\")"
   ]
  },
  {
   "cell_type": "raw",
   "id": "e255a991",
   "metadata": {},
   "source": [
    "groq_api_key.get('GROQ_API_KEY')"
   ]
  },
  {
   "cell_type": "code",
   "execution_count": 9,
   "id": "01c2919a",
   "metadata": {},
   "outputs": [],
   "source": [
    "client = Groq(\n",
    "    # This is the default and can be omitted\n",
    "#     api_key=os.environ.get(\"GROQ_API_KEY\"),\n",
    "    api_key=groq_api_key.get('GROQ_API_KEY'),\n",
    ")\n",
    "\n",
    "chat_completion = client.chat.completions.create(\n",
    "    messages=[\n",
    "        {\n",
    "            \"role\": \"system\",\n",
    "            \"content\": \"you are a helpful assistant.\"\n",
    "        },\n",
    "        {\n",
    "            \"role\": \"user\",\n",
    "            \"content\": \"Explain the importance of fast language models\",\n",
    "        }\n",
    "    ],\n",
    "    model=\"llama3-8b-8192\",\n",
    ")"
   ]
  },
  {
   "cell_type": "code",
   "execution_count": 10,
   "id": "1bf2b853",
   "metadata": {},
   "outputs": [
    {
     "name": "stdout",
     "output_type": "stream",
     "text": [
      "Fast language models have become increasingly important in recent years due to their significant impact on various fields, including but not limited to:\n",
      "\n",
      "1. **Natural Language Processing (NLP)**: Fast language models enable efficient and accurate text analysis, allowing for tasks such as language translation, sentiment analysis, and text summarization to be performed quickly and at scale.\n",
      "2. **AI and Machine Learning**: Fast language models can be used as building blocks for AI and machine learning models, enabling faster and more accurate training and inference. This is particularly important for applications that require real-time processing, such as chatbots, voice assistants, and autonomous vehicles.\n",
      "3. **Customer Service**: Fast language models can provide instant responses to customer inquiries, improving customer satisfaction and reducing the workload of human customer service representatives.\n",
      "4. **Search and Retrieval**: Fast language models can facilitate fast and relevant search results, making it easier for users to find what they're looking for quickly and efficiently.\n",
      "5. **Entertainment and Creative Industries**: Fast language models can be used to generate high-quality content, such as dialogue for movies and TV shows, or even entire scripts.\n",
      "6. **Education**: Fast language models can aid in language learning, providing personalized feedback and correction, and enabling more efficient language learning.\n",
      "7. **Healthcare**: Fast language models can be used for medical documentation, patient communication, and disease diagnosis, making medical care more efficient and effective.\n",
      "8. **Financial Services**: Fast language models can facilitate fast and accurate text processing, such as stock market analysis, portfolio management, and fraud detection.\n",
      "9. **Social Media**: Fast language models can help moderate social media platforms, detecting and removing harmful content, and preventing online harassment.\n",
      "10. **Research and Development**: Fast language models enable researchers to explore new ideas and test hypotheses more quickly, accelerating advancements in AI and NLP.\n",
      "\n",
      "The importance of fast language models can be attributed to several factors, including:\n",
      "\n",
      "1. **Speed and Accuracy**: Fast language models can process and analyze large amounts of text data quickly and accurately, making them ideal for applications that require fast response times.\n",
      "2. **Scalability**: Fast language models can be used for large-scale applications, handling massive amounts of text data and providing efficient processing capabilities.\n",
      "3. **Flexibility**: Fast language models can be trained on various datasets and tasks, enabling their application in diverse domains and industries.\n",
      "4. **Interpretability**: Fast language models can provide insights into language patterns and relationships, helping developers improve their models and understanding of language.\n",
      "5. **Continuous Improvement**: Fast language models can be continuously updated and fine-tuned, allowing them to stay up-to-date with changing language patterns and trends.\n",
      "\n",
      "In summary, fast language models have revolutionized various fields by enabling efficient and accurate text processing, analysis, and generation. Their importance lies in their ability to provide speed, accuracy, scalability, flexibility, interpretability, and continuous improvement, making them a vital component of many applications.\n"
     ]
    }
   ],
   "source": [
    "print(chat_completion.choices[0].message.content)"
   ]
  },
  {
   "cell_type": "markdown",
   "id": "ccf73940",
   "metadata": {},
   "source": [
    "## test Zi"
   ]
  },
  {
   "cell_type": "code",
   "execution_count": 11,
   "id": "0e17f5ac",
   "metadata": {},
   "outputs": [],
   "source": [
    "prompt_zi = \"\"\"\n",
    "You are an expert in Chinese language, \n",
    "\n",
    "can you generate a holistic view on this chinese character  {zi}\n",
    "in terms of the following attributes:\n",
    "含义\n",
    "字形\n",
    "读音 \n",
    "字源\n",
    "常用词组\n",
    "成语\n",
    "例句\n",
    "短故事\n",
    "诗词\n",
    "图片\n",
    "音频 \n",
    "视频 \n",
    "电影\n",
    "参考资料\n",
    "有趣网站\n",
    "\n",
    "(1) give the answer in Chinese \n",
    "(2) format the answer in valid json and ensure quotes are properly escaped (specifically avoid double-quotes nested in doube-quotes)\n",
    "(3) whenever possible, give 5 or more examples for the following attributes:\n",
    "\n",
    "常用词组\n",
    "成语\n",
    "例句\n",
    "短故事\n",
    "诗词\n",
    "图片\n",
    "音频 \n",
    "视频 \n",
    "电影\n",
    "参考资料\n",
    "有趣网站\n",
    "\"\"\""
   ]
  },
  {
   "cell_type": "code",
   "execution_count": 15,
   "id": "e9fe5db6",
   "metadata": {},
   "outputs": [],
   "source": [
    "zi = \"人\""
   ]
  },
  {
   "cell_type": "code",
   "execution_count": 16,
   "id": "b1cfdefd",
   "metadata": {},
   "outputs": [],
   "source": [
    "user_msg = prompt_zi.format(zi=zi)"
   ]
  },
  {
   "cell_type": "code",
   "execution_count": 17,
   "id": "d72e858f",
   "metadata": {},
   "outputs": [
    {
     "data": {
      "text/plain": [
       "'\\nYou are an expert in Chinese language, \\n\\ncan you generate a holistic view on this chinese character  人\\nin terms of the following attributes:\\n含义\\n字形\\n读音 \\n字源\\n常用词组\\n成语\\n例句\\n短故事\\n诗词\\n图片\\n音频 \\n视频 \\n电影\\n参考资料\\n有趣网站\\n\\n(1) give the answer in Chinese \\n(2) format the answer in valid json and ensure quotes are properly escaped (specifically avoid double-quotes nested in doube-quotes)\\n(3) whenever possible, give 5 or more examples for the following attributes:\\n\\n常用词组\\n成语\\n例句\\n短故事\\n诗词\\n图片\\n音频 \\n视频 \\n电影\\n参考资料\\n有趣网站\\n'"
      ]
     },
     "execution_count": 17,
     "metadata": {},
     "output_type": "execute_result"
    }
   ],
   "source": [
    "user_msg"
   ]
  },
  {
   "cell_type": "code",
   "execution_count": 27,
   "id": "088efecc",
   "metadata": {},
   "outputs": [],
   "source": [
    "groq_models = [\n",
    "    \"llama-3.1-70b-versatile\",\n",
    "    \"llama-3.1-8b-instant\",\n",
    "    \"llama3-8b-8192\",\n",
    "    \"gemma2-9b-it\",\n",
    "    \"mixtral-8x7b-32768\",\n",
    "]"
   ]
  },
  {
   "cell_type": "code",
   "execution_count": 31,
   "id": "9dc61bcf",
   "metadata": {},
   "outputs": [],
   "source": [
    "answers = {}"
   ]
  },
  {
   "cell_type": "code",
   "execution_count": 32,
   "id": "17d997ce",
   "metadata": {},
   "outputs": [
    {
     "name": "stdout",
     "output_type": "stream",
     "text": [
      "model_name: llama-3.1-70b-versatile completed in 6.952 sec\n",
      "model_name: llama-3.1-8b-instant completed in 2.371 sec\n",
      "model_name: llama3-8b-8192 completed in 0.705 sec\n",
      "model_name: gemma2-9b-it completed in 2.107 sec\n",
      "model_name: mixtral-8x7b-32768 completed in 1.388 sec\n"
     ]
    }
   ],
   "source": [
    "for model_name in groq_models:\n",
    "\n",
    "    ts_1 = time()\n",
    "    chat_completion = client.chat.completions.create(\n",
    "        messages=[\n",
    "            {\n",
    "                \"role\": \"system\",\n",
    "                \"content\": \"You are an expert in Chinese language.\"\n",
    "            },\n",
    "            {\n",
    "                \"role\": \"user\",\n",
    "                \"content\": user_msg,\n",
    "            }\n",
    "        ],\n",
    "        model=model_name,\n",
    "    )\n",
    "    ts_2 = time()\n",
    "    print(f\"model_name: {model_name} completed in {(ts_2-ts_1):.3f} sec\")\n",
    "    answers[model_name] = dict(answer=chat_completion.choices[0].message.content, elapsed=f\"{(ts_2-ts_1):.3f} s\")"
   ]
  },
  {
   "cell_type": "code",
   "execution_count": 33,
   "id": "59ad6cfc",
   "metadata": {},
   "outputs": [
    {
     "data": {
      "text/plain": [
       "{'llama-3.1-70b-versatile': {'answer': '```\\n{\\n  \"含义\": \"人类、人、人类的本质\",\\n  \"字形\": \"人字是由两条legs组成的象形文字。\",\\n  \"读音\": \"rén\",\\n  \"字源\": \"甲骨文中的人字形象是一个站立的人,两条腿相连。\",\\n  \"常用词组\": [\\n    \"{\\\\\"word\\\\\": \\\\\"一个人\\\\\", \\\\\"meaning\\\\\": \\\\\"一个人一种生活方式\\\\\"}\",\\n    \"{\\\\\"word\\\\\": \\\\\"人生\\\\\", \\\\\"meaning\\\\\": \\\\\"一生\\\\\"}\",\\n    \"{\\\\\"word\\\\\": \\\\\"人间\\\\\", \\\\\"meaning\\\\\": \\\\\"人的世界\\\\\"}\",\\n    \"{\\\\\"word\\\\\": \\\\\"人心\\\\\", \\\\\"meaning\\\\\": \\\\\"人性的本质\\\\\"}\",\\n    \"{\\\\\"word\\\\\": \\\\\"人性\\\\\", \\\\\"meaning\\\\\": \\\\\"人的本质和天性\\\\\"}\",\\n    \"{\\\\\"word\\\\\": \\\\\"人类\\\\\", \\\\\"meaning\\\\\": \\\\\"整个人类\\\\\"}\"\\n  ],\\n  \"成语\": [\\n    \"{\\\\\"word\\\\\": \\\\\"人云亦云\\\\\", \\\\\"meaning\\\\\": \\\\\"人都这样说,我也这样说\\\\\"}\",\\n    \"{\\\\\"word\\\\\": \\\\\"人之初\\\\\", \\\\\"meaning\\\\\": \\\\\"从人开始\\\\\"}\",\\n    \"{\\\\\"word\\\\\": \\\\\"人非圣贤\\\\\", \\\\\"meaning\\\\\": \\\\\"人不能圣贤\\\\\"}\",\\n    \"{\\\\\"word\\\\\": \\\\\"人微言轻\\\\\", \\\\\"meaning\\\\\": \\\\\"地位低下,的话语不受重视\\\\\"}\",\\n    \"{\\\\\"word\\\\\": \\\\\"人约离别\\\\\", \\\\\"meaning\\\\\": \\\\\"人要分离\\\\\"}\",\\n    \"{\\\\\"word\\\\\": \\\\\"人治不如人\\\\\", \\\\\"meaning\\\\\": \\\\\"人的法则不如人的圣贤\\\\\"}\"\\n  ],\\n  \"例句\": [\\n    \"{\\\\\"sentence\\\\\": \\\\\"这个世界是人类的家园。\\\\\", \\\\\"meaning\\\\\": \\\\\"这个世界是人类的家园.\\\\\"}\",\\n    \"{\\\\\"sentence\\\\\": \\\\\"我们是人类社会的一部分。\\\\\", \\\\\"meaning\\\\\": \\\\\"我们是人类社会的一部分.\\\\\"}\",\\n    \"{\\\\\"sentence\\\\\": \\\\\"人生的道路充满挑战。\\\\\", \\\\\"meaning\\\\\": \\\\\"人生的道路充满挑战.\\\\\"}\",\\n    \"{\\\\\"sentence\\\\\": \\\\\"我们应该尊重人权。\\\\\", \\\\\"meaning\\\\\": \\\\\"我们应该尊重人权.\\\\\"}\",\\n    \"{\\\\\"sentence\\\\\": \\\\\"人的生命非常宝贵。\\\\\", \\\\\"meaning\\\\\": \\\\\"人的生命非常宝贵.\\\\\"}\"\\n  ],\\n  \"短故事\": [\\n    \"{\\\\\"title\\\\\": \\\\\"师徒恋\\\\\", \\\\\"content\\\\\": \\\\\"师父对徒弟说：\\'你是我的徒弟,也是我的家人,我恨你不能成为我的伴侣。\\'徒弟听后,心中涌起了复杂的感情。\\\\\"}\",\\n    \"{\\\\\"title\\\\\": \\\\\"人生的道路\\\\\", \\\\\"content\\\\\": \\\\\"一个年轻人问一位长者：\\'人生的道路是什么样的?\\'长者回答：\\'人生的道路充满挑战,但也充满希望。\\'\\\\\"}\",\\n    \"{\\\\\"title\\\\\": \\\\\"人性的弱点\\\\\", \\\\\"content\\\\\": \\\\\"一个国王问一位哲学家：\\'人性的弱点是什么?\\'哲学家回答：\\'人性的弱点是贪婪和懦弱。\\'\\\\\"}\",\\n    \"{\\\\\"title\\\\\": \\\\\"人类的希望\\\\\", \\\\\"content\\\\\": \\\\\"一个年轻人问一位科学家：\\'人类的希望是什么?\\'科学家回答：\\'人类的希望是科技的进步和人类的团结。\\'\\\\\"}\",\\n    \"{\\\\\"title\\\\\": \\\\\"人与自然\\\\\", \\\\\"content\\\\\": \\\\\"一个诗人写道：\\'人与自然是密不可分的,人要尊重自然,自然也会报答人类。\\'\\\\\"}\"\\n  ],\\n  \"诗词\": [\\n    \"{\\\\\"title\\\\\": \\\\\"《人间词话》\\\\\", \\\\\"content\\\\\": \\\\\"人生七十古来稀,能开风气,曾引诗骚。\\\\\"}\",\\n    \"{\\\\\"title\\\\\": \\\\\"《人之初》\\\\\", \\\\\"content\\\\\": \\\\\"人之初,性本善。\\\\\"}\",\\n    \"{\\\\\"title\\\\\": \\\\\"《人生之旅》\\\\\", \\\\\"content\\\\\": \\\\\"人生如路,崎岖不平。\\\\\"}\",\\n    \"{\\\\\"title\\\\\": \\\\\"《人间》\\\\\", \\\\\"content\\\\\": \\\\\"人间有情天地宽。\\\\\"}\",\\n    \"{\\\\\"title\\\\\": \\\\\"《人性的弱点》\\\\\", \\\\\"content\\\\\": \\\\\"人性的弱点,是贪婪和懦弱。\\\\\"}\"\\n  ],\\n  \"图片\": [\\n    \"{\\\\\"url\\\\\": \\\\\"https://example.com/people.jpg\\\\\", \\\\\"description\\\\\": \\\\\"一群人在公园里散步.\\\\\"}\",\\n    \"{\\\\\"url\\\\\": \\\\\"https://example.com/children.jpg\\\\\", \\\\\"description\\\\\": \\\\\"一群孩子在玩耍.\\\\\"}\",\\n    \"{\\\\\"url\\\\\": \\\\\"https://example.com/family.jpg\\\\\", \\\\\"description\\\\\": \\\\\"一家人在一起.\\\\\"}\",\\n    \"{\\\\\"url\\\\\": \\\\\"https://example.com/friends.jpg\\\\\", \\\\\"description\\\\\": \\\\\"一群朋友在聚会.\\\\\"}\",\\n    \"{\\\\\"url\\\\\": \\\\\"https://example.com/love.jpg\\\\\", \\\\\"description\\\\\": \\\\\"一对恋人在拥抱.\\\\\"}\"\\n  ],\\n  \"音频\": [\\n    \"{\\\\\"url\\\\\": \\\\\"https://example.com/human.mp3\\\\\", \\\\\"description\\\\\": \\\\\"人生的声音.\\\\\"}\",\\n    \"{\\\\\"url\\\\\": \\\\\"https://example.com/people_speech.mp3\\\\\", \\\\\"description\\\\\": \\\\\"人群的说话声.\\\\\"}\",\\n    \"{\\\\\"url\\\\\": \\\\\"https://example.com/nature_sounds.mp3\\\\\", \\\\\"description\\\\\": \\\\\"自然的声音.\\\\\"}\",\\n    \"{\\\\\"url\\\\\": \\\\\"https://example.com/love_song.mp3\\\\\", \\\\\"description\\\\\": \\\\\"情歌.\\\\\"}\",\\n    \"{\\\\\"url\\\\\": \\\\\"https://example.com/inspirational.mp3\\\\\", \\\\\"description\\\\\": \\\\\"激励人心的音乐.\\\\\"}\"\\n  ],\\n  \"视频\": [\\n    \"{\\\\\"url\\\\\": \\\\\"https://example.com/people_video.mp4\\\\\", \\\\\"description\\\\\": \\\\\"人生的视频.\\\\\"}\",\\n    \"{\\\\\"url\\\\\": \\\\\"https://example.com/nature_video.mp4\\\\\", \\\\\"description\\\\\": \\\\\"自然的视频.\\\\\"}\",\\n    \"{\\\\\"url\\\\\": \\\\\"https://example.com/love_story.mp4\\\\\", \\\\\"description\\\\\": \\\\\"爱情故事的视频.\\\\\"}\",\\n    \"{\\\\\"url\\\\\": \\\\\"https://example.com/family_video.mp4\\\\\", \\\\\"description\\\\\": \\\\\"家庭的视频.\\\\\"}\",\\n    \"{\\\\\"url\\\\\": \\\\\"https://example.com/friends_video.mp4\\\\\", \\\\\"description\\\\\": \\\\\"朋友的视频.\\\\\"}\"\\n  ],\\n  \"电影\": [\\n    \"{\\\\\"title\\\\\": \\\\\"《泰坦尼克号》\\\\\", \\\\\"description\\\\\": \\\\\" Titanic的一个爱情故事.\\\\\"}\",\\n    \"{\\\\\"title\\\\\": \\\\\"《阿凡达》\\\\\", \\\\\"description\\\\\": \\\\\"一部关于人与自然的电影.\\\\\"}\",\\n    \"{\\\\\"title\\\\\": \\\\\"《肖申克的救赎》\\\\\", \\\\\"description\\\\\": \\\\\"两个男人在监狱中的挣扎.\\\\\"}\",\\n    \"{\\\\\"title\\\\\": \\\\\"《追随》\\\\\", \\\\\"description\\\\\": \\\\\"一个关于人性的电影.\\\\\"}\",\\n    \"{\\\\\"title\\\\\": \\\\\"《人工智能》\\\\\", \\\\\"description\\\\\": \\\\\"未来人工智能的电影.\\\\\"}\"\\n  ],\\n  \"参考资料\": [\\n    \"{\\\\\"title\\\\\": \\\\\"《汉语辞海》\\\\\", \\\\\"author\\\\\": \\\\\"中华书局\\\\\"}\",\\n    \"{\\\\\"title\\\\\": \\\\\"《百度百科》\\\\\", \\\\\"author\\\\\": \\\\\"百度公司\\\\\"}\",\\n    \"{\\\\\"title\\\\\": \\\\\"《维基百科》\\\\\", \\\\\"author\\\\\": \\\\\"维基媒体基金会\\\\\"}\",\\n    \"{\\\\\"title\\\\\": \\\\\"《汉语词典》\\\\\", \\\\\"author\\\\\": \\\\\"汉语词典出版社\\\\\"}\",\\n    \"{\\\\\"title\\\\\": \\\\\"《现代汉语词典》\\\\\", \\\\\"author\\\\\": \\\\\"现代汉语词典出版社\\\\\"}\"\\n  ],\\n  \"有趣网站\": [\\n    \"{\\\\\"url\\\\\": \\\\\"https://www.bilibili.com\\\\\", \\\\\"description\\\\\": \\\\\"一个视频网站.\\\\\"}\",\\n    \"{\\\\\"url\\\\\": \\\\\"https://www.zhihu.com\\\\\", \\\\\"description\\\\\": \\\\\"一个问答网站.\\\\\"}\",\\n    \"{\\\\\"url\\\\\": \\\\\"https://www.weibo.com\\\\\", \\\\\"description\\\\\": \\\\\"一个微博网站.\\\\\"}\",\\n    \"{\\\\\"url\\\\\": \\\\\"https://www.douban.com\\\\\", \\\\\"description\\\\\": \\\\\"一个豆瓣网站.\\\\\"}\",\\n    \"{\\\\\"url\\\\\": \\\\\"https://www.ximalaya.com\\\\\", \\\\\"description\\\\\": \\\\\"一个 Himalaya网站.\\\\\"}\"\\n  ]\\n}\\n```',\n",
       "  'elapsed': '6.952 s'},\n",
       " 'llama-3.1-8b-instant': {'answer': '以下是关于汉字的人的全方面介绍：\\n\\n```json\\n{\\n  \"含义\": \"指人类，同类生物，人世之人，反映人类形象之美\",\\n  \"字形\": \"\\\\u4eba\",\\n  \"读音\": \"r\\\\u00fén\",\\n  \"字源\": \"\\\\u52a8\\\\u984c\\\\u4eca\\\\u82f9\\\\u4e00\\\\u65b9\\\\u62cc\\\\u4e2d\\\\u5761\\\\u4f2f\\\\u5e38\",\\n  \"常用词组\": [\\n    \"\\\\u4eba\\\\u5417\\\\u661f\",\\n    \"\\\\u4eba\\\\u5bf9\\\\u5b50\",\\n    \"\\\\u4eba\\\\u623f\\\\u4eab\",\\n    \"\\\\u4eba\\\\u81f3\\\\u623f\",\\n    \"\\\\u4eba\\\\u81f3\\\\u6dd0\",\\n    \"\\\\u4eba\\\\u529f\\\\u62a5\",\\n    \"\\\\u4eba\\\\u6709\\\\u6d88\",\\n    \"\\\\u4eba\\\\u5c11\\\\u5b50\"\\n  ],\\n  \"成语\": [\\n    \"\\\\u4eba\\\\u4e8e\\\\u4e00\\\\u4e2a\\\\u5927\\\\u9a86\",\\n    \"\\\\u4eba\\\\u6709\\\\u514a\\\\u5927\",\\n    \"\\\\u4eba\\\\u4e8e\\\\u4e00\\\\u4e2a\\\\u5c3d\\\\u6c77\",\\n    \"\\\\u4eba\\\\u5c3d\\\\u6c77\\\\u6240\\\\u6ed9\",\\n    \"\\\\u4eba\\\\u53d1\\\\u542b\\\\u8d77\\\\u611b\",\\n    \"\\\\u4eba\\\\u53d1\\\\u542b\\\\u8d77\\\\u5927\\\\u5757\"\\n  ],\\n  \"例句\": [\\n    \"\\\\u4eba\\\\u4e8e\\\\u4e00\\\\u4e2a\\\\u5927\\\\u9a86\\\\u662f\\\\u6709\\\\u83dc\\\\u7684\\\\u4eba\\\\u4e00\\\\u4e2a\\\\u5927\\\\u9a86.\\\\u3002\\\\u300d\\\\u4eba\\\\u4e8e\\\\u4e01\\\\u4e2a\\\\u5927\\\\u9a86\\\\u662f\\\\u6709\\\\u83dc\\\\u7684\\\\u4eba\\\\u4e01\\\\u4e2a\\\\u5927\\\\u9a86.\"\\n  ],\\n  \"短故事\": [\\n    {\\n      \"name\": \"\\\\u5954\\\\u6e81\\\\u5361\",\\n      \"story\": \"\\\\u5954\\\\u6750\\\\u4e00\\\\u4e2a\\\\u5954\\\\u6e81\\\\u5361\\\\u5c3d\\\\u6c77\\\\u6240\\\\u6ed9\\\\u3002\"\\n    },\\n    {\\n      \"name\": \"\\\\u4eba\\\\u5bf9\\\\u5b50\",\\n      \"story\": \"\\\\u4eba\\\\u6750\\\\u4e00\\\\u4e2a\\\\u4eba\\\\u5bf9\\\\u5b50\\\\u4e4b\\\\u6ce2\\\\u5185\\\\u6b65\\\\u300d\\\\u6709\\\\u9664\\\\u5c31\\\\u662f\\\\u4eba\\\\u5bf9\\\\u5b50\\\\u306f\\\\u60ac\\\\u300d\"\\n    },\\n    {\\n      \"name\": \"\\\\u4eba\\\\u841e\\\\u542b\",\\n      \"story\": \"\\\\u4eba\\\\u6750\\\\u4e00\\\\u4e2a\\\\u4eba\\\\u841e\\\\u542b\\\\u5e38\\\\u5747\\\\u5232\\\\u4e01\\\\u56db\\\\u628a\\\\u5f53\\\\u3002\\\\u4eba\\\\u6750\\\\u4e00\\\\u4e2a\\\\u4eba\\\\u841e\\\\u542b\\\\u5e38\\\\u5747\\\\u5232\\\\u4e01\\\\u56db\\\\u5400\\\\u5bf9\\\\u4e00\\\\u4e2a\\\\u6b63\\\\u78c1\\\\u307f\\\\u5f53\\\\u8005\\\\u4e91\\\\u4e8b\\\\u5232\\\\u4e01\\\\u56db\\\\u6274\\\\u63cd\\\\u5400\\\\u524d\\\\u57fa\\\\u4e3c\\\\u5747\\\\u4e00\\\\u4e2a\\\\u5e38\\\\u5747\\\\u3002\"\\n    }\\n  ],\\n  \"诗词\": [\\n    {\\n      \"name\": \"《人生在世》\",\\n      \"poem\": \"\\\\u4eba\\\\u5927\\\\u5f53\\\\u542b\\\\u539f\\\\u72d6\\\\u3002\\\\u4eba\\\\u5927\\\\u5f53\\\\u542b\\\\u9002\\\\u5417\\\\u3002...\"\\n    },\\n    {\\n      \"name\": \"《失业人的泪》\",\\n      \"poem\": \"\\\\u4eba\\\\u5bf9\\\\u5b50\\\\u5927\\\\u5178\\\\u5384\\\\u3001\\\\u5927\\\\u91ce\\\\u65f6\\\\u674c\\\\u3002\\\\u4eba\\\\u5bf9\\\\u5b50\\\\u5927\\\\u5178\\\\u5384\\\\u3001\\\\u5927\\\\u4e0b\\\\u674c\\\\u3002...\"\\n    },\\n    {\\n      \"name\": \"《人在江湖走一回》\",\\n      \"poem\": \"\\\\u4eba\\\\u5927\\\\u53d1\\\\u6e08\\\\u542b\\\\u4e1c\\\\u505a\\\\u3002\\\\u4eba\\\\u5927\\\\u53d1\\\\u6e08\\\\u542b\\\\u590d\\\\u5403\\\\u3002...\"\\n    }\\n  ],\\n  \"图片\": [\\n    \"https://example.com/image1.jpg\",\\n    \"https://example.com/image2.jpg\",\\n    \"https://example.com/image3.jpg\"\\n  ],\\n  \"音频\": [\\n    \"https://example.com/audio1.mp3\",\\n    \"https://example.com/audio2.mp3\",\\n    \"https://example.com/audio3.mp3\"\\n  ],\\n  \"视频\": [\\n    \"https://example.com/video1.mp4\",\\n    \"https://example.com/video2.mp4\",\\n    \"https://example.com/video3.mp4\"\\n  ],\\n  \"电影\": [\\n    {\\n      \"name\": \"\\\\u4eba\\\\u5927\\\\u5f53\\\\u542b\\\\u59ce\",\\n      \"link\": \"https://example.com/movie1.mp4\"\\n    },\\n    {\\n      \"name\": \"\\\\u4eba\\\\u5bf9\\\\u5b50\\\\u59ce\",\\n      \"link\": \"https://example.com/movie2.mp4\"\\n    },\\n    {\\n      \"name\": \"\\\\u4eba\\\\u841e\\\\u542b\\\\u59ce\",\\n      \"link\": \"https://example.com/movie3.mp4\"\\n    }\\n  ],\\n  \"参考资料\": [\\n    {\\n      \"name\": \"\\\\u75ab\\\\u963f\\\\u8ba4\\\\u5b66\",\\n      \"link\": \"https://example.com/ref1.pdf\"\\n    },\\n    {\\n      \"name\": \"\\\\u4eba\\\\u5bf9\\\\u5b50\",\\n      \"link\": \"https://example.com/ref2.pdf\"\\n    },\\n    {\\n      \"name\": \"\\\\u4eba\\\\u841e\\\\u542b\",\\n      \"link\": \"https://example.com/ref3.pdf\"\\n    }\\n  ],\\n  \"有趣网站\": [\\n    {\\n      \"name\": \"\\\\u4eba\\\\u5916\\\\u5361\",\\n      \"link\": \"https://example.com/website1.com\"\\n    },\\n    {\\n      \"name\": \"\\\\u4eba\\\\u5bf9\\\\u5b50\",\\n      \"link\": \"https://example.com/website2.com\"\\n    },\\n    {\\n      \"name\": \"\\\\u4eba\\\\u841e\\\\u542b\",\\n      \"link\": \"https://example.com/website3.com\"\\n    }\\n  ]\\n}\\n```\\n\\nNote: 示例图片、音频、视频、电影和参考资料均为假设值，实际链接请更改为实际值。',\n",
       "  'elapsed': '2.371 s'},\n",
       " 'llama3-8b-8192': {'answer': 'Here is the holistic view of the Chinese character 人:\\n\\n```json\\n{\\n  \"含义\": \"人指人類，意指一個具有思想、知覺和行為的有機體。\",\\n  \"字形\": \"\"\",\\n  \"读音\": \"/rén/\",\\n  \"字源\": \"人字可能是象形符號，意指人類的形狀。\",\\n  \"常用词组\": [\\n    \"人家\", \"人民\", \"人类\", \"人生\",\\n    \"人际关系\", \"人权\", \"人本主义\",\\n    \"人类世\", \"人类命运\",\\n    \"人力\", \"人美\"\\n  ],\\n  \"成语\": [\\n    \"人情世故\", \"人闲事多\", \"人财两旺\",\\n    \"人以群分\", \"人比/tags\", \"人无病\"\\n  ],\\n  \"例句\": [\\n    \"这个人很友善。\"/zhè ge rén hěn yǒu shàn。\",\\n    \"他是一个非常有智慧的人。\"/tā shì yī gè fēi cháng yǒu zhì huì de rén。\",\\n    \"我们是一个团队。\"/wǒmen shì yī gè tuán duì rén\"\\n  ],\\n  \"短故事\": [\\n    \"{故事：一个人从山沟下来，找到一袋钱包，决定返还给银行。}\",\\n    \"{故事：有一個人向经理请辞，他问这是否是因為他不合作和没有将工作完成于未來？员工回答：根本不是由我發生的}，\"\\n    \"{故事：一个人问明月是白的吗？朋友回答：是的！这个人微笑着说：那我便不爱它了。}\"\\n  ],\\n  \"诗词\": [\\n    \"\"人生如歌，歌声高远响/\"\",\\n    \"\"人生是一个快乐的梦，梦醒了，人就孤独/\"\",\\n    \"\"亲人已逝，人还在，回忆是痛苦的/\"\\n  ],\\n  \"图片\": [\\n    \"\", \"\",\"\"\\n  ],\\n  \"音频\": [\\n    \"https://example.com/rene.mp3\",\\n    \"https://example.com/ren.pcm\"\\n  ],\\n  \"视频\": [\\n    \"https://example.com/ren.mp4\",\\n    \"https://example.com/ren.flv\"\\n  ],\\n  \"电影\": [\\n    \"人生quests\", \"人际关系\",\\n    \"人权捍卫战\"\\n  ],\\n  \"参考资料\": [\\n    \" Zhōnghuá Shūjī bǎokuài, 1988.\", \\n    \" 中华语文词语典, 2010.\"\\n  ],\\n  \"有趣网站\": [\\n    \" Peoplesdaily.com\", \\n    \"China.org.cn/language/index.htm\",\\n    \" Wikiwi.cn/ren\"\\n  ]\\n}\\n```\\n\\nPlease note that some attributes like \"图片\" and \"音频\" are filled with example URLs, and you should replace them with actual resources.',\n",
       "  'elapsed': '0.705 s'},\n",
       " 'gemma2-9b-it': {'answer': '```json\\n{\\n  \"含义\": \"人这个汉字指的是人类，泛指所有人的总称或者个体的抽象概念。\",\\n  \"字形\": \"人字由两部分组成: 上方是口，寓意口头表达，下方是足，代表行走，构成了一个人站立的姿态。它直接描绘了人最基本的特征: 拥有嘴巴和双脚。\",\\n  \"读音\": [\\n    \"rén\",\\n    \"rén\",\\n    \"rén\",\\n    \"rén\",\\n    \"rén\"\\n  ],\\n  \"字源\": \"人字的历史非常久远，最早的甲骨文上的\"人\"字形，又像天人，后来逐渐演化成现在的形态。\",\\n  \"常用词组\": [\\n    \"人際關係\",\\n    \"個人差異\",\\n    \"人類歷史\",\\n    \"人口數量\",\\n    \"人格魅力\",\\n    \"人身安全\"\\n  ],\\n  \"成语\": [\\n    \"人山人海\",\\n    \"众人皆醉\",\\n    \"唯我独尊\",\\n    \"仁者见仁\",\\n    \"人之初性本善\"\\n  ],\\n  \"例句\": [\\n    \"他是一個善良的人。\",\\n    \"我们需要照顾老人和小孩。\",\\n    \"城市里的人口众多。\",\\n    \"人们都对这场演出感到兴奋。\",\\n    \"这位老师对学生很有耐心。\"\\n  ],\\n  \"短故事\": [\\n    \"从前，有一位好心老人帮了一位迷路的小孩，小孩开心地对老人说：\\\\\"你是好人！\\\\\"老人笑了笑，说：\\\\\"每个人都可以是好人，只要你愿意帮助别人。\\\\\"\\\\n\",\\n    \"小明看到许多人排队买菜，便主动请妈妈放了他的玩具车，帮着站在队伍最后面帮助老人照顾小孩。\",\\n    \"一位游子出远门，路过一个破落村庄，看到了村民们苦苦挣扎，便留下几天帮助他们修缮房子，种植田地。村民们感谢他的帮助，说：\\\\\"你是我们的超人！\\\\\"\\\\n\"\\n  ],\\n  \"诗词\": [\\n    \"天生我材必有用，千金散尽还复来。\",\\n    \"人有悲欢离合，月有阴晴圆缺，此事古难全。\",\\n    \"一寸光阴一寸金，寸金难买寸光阴。\",\\n    \"人生如梦，何苦劳碌；\",\\n    \"人生短，爱短暂，何必忧愁烦恼\"\\n  ],\\n  \"图片\": [\\n    \"https://upload.wikimedia.org/wikipedia/commons/thumb/9/9a/Man_Character.svg/800px-Man_Character.svg.png\",\\n    \"https://www.chineselearning.com.au/blog/wp-content/uploads/2020/03/hanzi-human.jpg\",\\n    \"https://www.tofugu.com/images/blog/2014/06/17/word-of-the-day-ren-%E4%BA%BA-person.jpg\",\\n    \"https://www.thoughtco.com/thmb/uGqZ9twfK4jW69K4_qYt5Z9879o=/768x0/filters:no_upscale():max_bytes(150000):strip_icc()/GettyImages-183782594-5a71c71546e0fb00114698ae.jpg\",\\n    \"https://www.calligraphymagazine.com/wp-content/uploads/2014/09/Human-Calligraphy01.jpg\"\\n  ],\\n  \"音频\": [\\n    \"\",\\n    \"\",\\n    \"\",\\n    \"\",\\n    \"\"\\n  ],\\n  \"视频\": [\\n    \"\",\\n    \"\",\\n    \"\",\\n    \"\",\\n    \"\"\\n  ],\\n  \"电影\": [\\n    \"英雄\",\\n    \"卧虎藏龙\",\\n    \"大红灯笼高高挂\",\\n    \"千与千寻\",\\n    \"盗梦空间\"\\n  ],\\n  \"参考资料\": [\\n    \"《康熙字典》\",\\n    \"《广韵字典》\",\\n    \"《中华大字典》\",\\n    \"《说文解字》\",\\n    \"http://www.mdbg.net/\"\\n  ],\\n  \"有趣网站\": [\\n    \"http://www.zdic.net/\",\\n    \"http://www.chineselearningforadults.com/\",\\n    \"http://www.mandarincorner.com/\",\\n    \"https://www.skritter.com/\",\\n    \"https://www.hellochinese.com/\"\\n  ]\\n}\\n```\\n\\n \\n\\n\\n',\n",
       "  'elapsed': '2.107 s'},\n",
       " 'mixtral-8x7b-32768': {'answer': '{\\n\"含义\": \"人：meaning \\'person\\' or \\'people\\'.\",\\n\"字形\": \"人：character form, composed of two strokes, representing a person standing upright.\",\\n\"读音\": \"rén : Pronounced \\'ren\\' in Mandarin Chinese.\",\\n\"字源\": \"Oracle bone script form of the character \\'ren\\' shows a person with outstretched arms.\",\\n\"常用词组\": [\"一 bunch of people\": \"一群人\", \"the human race\": \"人类\", \"an excellent person\": \"一位出色的人\", \"every person\": \"每个人\", \"this person here\": \"这个人\"],\\n\"成语\": [\"人山人海\": \"a sea of people\", \"人情�� channels human sentiment\", \"桀骜不驯\": \"unruly and unmanageable\", \"人定胜天\": \"man can conquer nature\", \"众人皆敌\": \"everyone is an enemy\"],\\n\"例句\": [\"这个人很可爱\", \"这家店的员工是最好的人\", \"他是一个伟大的人\", \"请问，这是您的人吗？\", \"那个人在干什么？\"],\\n\"短故事\": \" once upon a time, there was a kind person who helped everyone in need. one day, he fell into a deep well and couldn\\'t get out. many people passed by but no one helped. finally, a poor man who had little but a thin rope came by. he threw the rope into the well and pulled the kind man out. the kind man was very grateful and asked the poor man why he helped when no one else did. the poor man replied, \\'because i am a person, and you are a person too.\\'\",\\n\"诗词\": \"人生得意须尽欢\",\\n\"图片\": \"[\\\\<img src=\\'https:\\\\/\\\\/image.shutterstock.com\\\\/image-vector\\\\/people-cartoon-character-vector-illustration-260nw-485384884.jpg\\'\\\\>\", \"\\\\<img src=\\'https:\\\\/\\\\/cdn.iconscout.com\\\\/public\\\\/images\\\\/icon\\\\/free\\\\/png-256\\\\/chinese-character-people-human-man-woman-person-115792.png\\'\\\\>\", \"\\\\<img src=\\'https:\\\\/\\\\/www.chineseetymology.org\\\\/characterimagedetails.php?char=人\\'\\\\>\"],\\n\"音频\": \"[\\\\<a href=\\'https:\\\\/\\\\/zh.forvo.com\\\\/word\\\\/人\\\\#zh\\'\\\\>forvo\\\\<\\\\\\\\/a>\\\\]\",\\n\"视频\": \"[\\\\<a href=\\'https:\\\\/\\\\/www.youtube.com\\\\/results?search\\\\_query=learn+chinese+character+人\\'\\\\>youtube\\\\<\\\\\\\\/a>\\\\]\",\\n\"电影\": \"《� Olywood 人》\",\\n\"参考资料\": \"[\\\\<a href=\\'https:\\\\/\\\\/en.wikipedia.org\\\\/wiki\\\\/Chinese\\\\_characters\\'\\\\>wikipedia\\\\<\\\\\\\\/a>\\\\]\",\\n\"有趣网站\": \"[\\\\<a href=\\'https:\\\\/\\\\/www.chinese-lessons.com\\'\\\\>chinese-lessons.com\\\\<\\\\\\\\/a>\\\\]\",\\n\"备注\": \"please note that the audio and video links may require additional steps to access the actual media.\"\\n}',\n",
       "  'elapsed': '1.388 s'}}"
      ]
     },
     "execution_count": 33,
     "metadata": {},
     "output_type": "execute_result"
    }
   ],
   "source": [
    "answers"
   ]
  },
  {
   "cell_type": "code",
   "execution_count": 34,
   "id": "a1c25f1d",
   "metadata": {},
   "outputs": [],
   "source": [
    "for k in answers.keys():\n",
    "    file_txt = f\"tmp/{zi}-{k}.txt\" \n",
    "    \n",
    "    with open(file_txt, \"w\", encoding=\"utf-8\") as f:\n",
    "        msg = answers[k]['answer']\n",
    "        f.write(msg)"
   ]
  },
  {
   "cell_type": "code",
   "execution_count": 35,
   "id": "d15f2cae",
   "metadata": {},
   "outputs": [
    {
     "name": "stdout",
     "output_type": "stream",
     "text": [
      "人于一个大骆\n"
     ]
    }
   ],
   "source": [
    "print(\"\\u4eba\\u4e8e\\u4e00\\u4e2a\\u5927\\u9a86\")"
   ]
  },
  {
   "cell_type": "code",
   "execution_count": 36,
   "id": "8abfe8ad",
   "metadata": {},
   "outputs": [],
   "source": [
    "x = [\"<img src='https://image.shutterstock.com/image-vector/people-cartoon-character-vector-illustration-260nw-485384884.jpg'>\", \"<img src='https://cdn.iconscout.com/public/images/icon/free/png-256/chinese-character-people-human-man-woman-person-115792.png'>\", \"<img src='https://www.chineseetymology.org/characterimagedetails.php?char=人'>\"]"
   ]
  },
  {
   "cell_type": "code",
   "execution_count": 37,
   "id": "aafba6f7",
   "metadata": {},
   "outputs": [
    {
     "name": "stdout",
     "output_type": "stream",
     "text": [
      "<img src='https://image.shutterstock.com/image-vector/people-cartoon-character-vector-illustration-260nw-485384884.jpg'>\n",
      "<img src='https://cdn.iconscout.com/public/images/icon/free/png-256/chinese-character-people-human-man-woman-person-115792.png'>\n",
      "<img src='https://www.chineseetymology.org/characterimagedetails.php?char=人'>\n"
     ]
    }
   ],
   "source": [
    "print(\"\\n\".join(x))"
   ]
  },
  {
   "cell_type": "code",
   "execution_count": null,
   "id": "a7c12e51",
   "metadata": {},
   "outputs": [],
   "source": []
  }
 ],
 "metadata": {
  "kernelspec": {
   "display_name": "Python 3 (ipykernel)",
   "language": "python",
   "name": "python3"
  },
  "language_info": {
   "codemirror_mode": {
    "name": "ipython",
    "version": 3
   },
   "file_extension": ".py",
   "mimetype": "text/x-python",
   "name": "python",
   "nbconvert_exporter": "python",
   "pygments_lexer": "ipython3",
   "version": "3.9.13"
  },
  "nbTranslate": {
   "displayLangs": [
    "*"
   ],
   "hotkey": "alt-t",
   "langInMainMenu": true,
   "sourceLang": "en",
   "targetLang": "fr",
   "useGoogleTranslate": true
  },
  "toc": {
   "base_numbering": 1,
   "nav_menu": {},
   "number_sections": true,
   "sideBar": true,
   "skip_h1_title": false,
   "title_cell": "Table of Contents",
   "title_sidebar": "Contents",
   "toc_cell": false,
   "toc_position": {},
   "toc_section_display": true,
   "toc_window_display": false
  }
 },
 "nbformat": 4,
 "nbformat_minor": 5
}
