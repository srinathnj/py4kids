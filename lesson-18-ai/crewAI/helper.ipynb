{
 "cells": [
  {
   "cell_type": "code",
   "execution_count": 16,
   "id": "ab4c117b-8b98-4689-8351-1b0841096657",
   "metadata": {},
   "outputs": [
    {
     "name": "stdout",
     "output_type": "stream",
     "text": [
      "this-is-a-title_with-special-chars.txt\n"
     ]
    }
   ],
   "source": [
    "import string\n",
    "\n",
    "def convert_to_filename(text, join_char=\"_\", file_ext=\"md\"):\n",
    "  \"\"\"\n",
    "  Converts a text string into a valid OS filename with the .md extension.\n",
    "\n",
    "  Args:\n",
    "      text: The text string to convert.\n",
    "\n",
    "  Returns:\n",
    "      A valid OS filename with the .md extension.\n",
    "  \"\"\"\n",
    "\n",
    "  # Replace special characters with underscores\n",
    "  valid_chars = \"-_ %s%s\" % (string.ascii_letters, string.digits)\n",
    "  filename = ''.join(c for c in text if c in valid_chars)\n",
    "\n",
    "  # Remove leading/trailing whitespace\n",
    "  filename = join_char.join(filename.strip().lower().split())\n",
    "\n",
    "  # Add .md extension\n",
    "  filename = f\"{filename}.{file_ext}\"\n",
    "\n",
    "  return filename\n",
    "\n",
    "if __name__ == \"__main__\":\n",
    "    # Example usage\n",
    "    text = \"This is a Title_with-Special Chars (#&*)\"\n",
    "    filename = convert_to_filename(text, \"-\", \"txt\")\n",
    "    print(filename)   # this_is_a_title_with-special_chars.md"
   ]
  },
  {
   "cell_type": "code",
   "execution_count": null,
   "id": "d19795a2-3e5d-46a5-aff7-e27edc20541c",
   "metadata": {},
   "outputs": [],
   "source": []
  }
 ],
 "metadata": {
  "kernelspec": {
   "display_name": "Python 3 (ipykernel)",
   "language": "python",
   "name": "python3"
  },
  "language_info": {
   "codemirror_mode": {
    "name": "ipython",
    "version": 3
   },
   "file_extension": ".py",
   "mimetype": "text/x-python",
   "name": "python",
   "nbconvert_exporter": "python",
   "pygments_lexer": "ipython3",
   "version": "3.10.12"
  }
 },
 "nbformat": 4,
 "nbformat_minor": 5
}
