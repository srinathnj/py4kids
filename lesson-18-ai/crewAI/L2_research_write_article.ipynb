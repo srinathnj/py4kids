{
 "cells": [
  {
   "cell_type": "markdown",
   "metadata": {},
   "source": [
    "You can download the `requirements.txt` for this course from the workspace of this lab. `File --> Open...`"
   ]
  },
  {
   "cell_type": "markdown",
   "metadata": {},
   "source": [
    "# L2: Create Agents to Research and Write an Article\n",
    "\n",
    "In this lesson, you will be introduced to the foundational concepts of multi-agent systems and get an overview of the crewAI framework."
   ]
  },
  {
   "cell_type": "markdown",
   "metadata": {},
   "source": [
    "The libraries are already installed in the classroom. If you're running this notebook on your own machine, you can install the following:\n",
    "```Python\n",
    "!pip install crewai==0.28.8 crewai_tools==0.1.6 langchain_community==0.0.29\n",
    "```"
   ]
  },
  {
   "cell_type": "code",
   "execution_count": 1,
   "metadata": {},
   "outputs": [],
   "source": [
    "from api_key_store import ApiKeyStore\n",
    "s = ApiKeyStore()"
   ]
  },
  {
   "cell_type": "code",
   "execution_count": 2,
   "metadata": {
    "height": 64
   },
   "outputs": [],
   "source": [
    "# Warning control\n",
    "import warnings\n",
    "warnings.filterwarnings('ignore')"
   ]
  },
  {
   "cell_type": "code",
   "execution_count": 3,
   "metadata": {},
   "outputs": [],
   "source": [
    "from time import time"
   ]
  },
  {
   "cell_type": "markdown",
   "metadata": {},
   "source": [
    "- Import from the crewAI libray."
   ]
  },
  {
   "cell_type": "code",
   "execution_count": 4,
   "metadata": {
    "height": 30
   },
   "outputs": [],
   "source": [
    "from crewai import Agent, Task, Crew"
   ]
  },
  {
   "cell_type": "markdown",
   "metadata": {},
   "source": [
    "- As a LLM for your agents, you'll be using OpenAI's `gpt-3.5-turbo`.\n",
    "\n",
    "**Optional Note:** crewAI also allow other popular models to be used as a LLM for your Agents. You can see some of the examples at the [bottom of the notebook](#1)."
   ]
  },
  {
   "cell_type": "code",
   "execution_count": 5,
   "metadata": {
    "height": 98
   },
   "outputs": [],
   "source": [
    "import os"
   ]
  },
  {
   "cell_type": "raw",
   "metadata": {
    "height": 98
   },
   "source": [
    "from utils import get_openai_api_key\n",
    "\n",
    "openai_api_key = get_openai_api_key()"
   ]
  },
  {
   "cell_type": "code",
   "execution_count": 6,
   "metadata": {},
   "outputs": [],
   "source": [
    "os.environ[\"OPENAI_API_KEY\"] = s.get_api_key(provider=\"OPENAI\")  # os.environ[\"API_KEY_OPENAI\"]\n",
    "os.environ[\"SERPER_API_KEY\"] = s.get_api_key(provider=\"SerpApi\")  # os.environ[\"API_KEY_SERPAPI\"]"
   ]
  },
  {
   "cell_type": "code",
   "execution_count": 7,
   "metadata": {
    "height": 98
   },
   "outputs": [],
   "source": [
    "os.environ[\"OPENAI_MODEL_NAME\"] = 'gpt-3.5-turbo'"
   ]
  },
  {
   "cell_type": "markdown",
   "metadata": {},
   "source": [
    "## Creating Agents\n",
    "\n",
    "- Define your Agents, and provide them a `role`, `goal` and `backstory`.\n",
    "- It has been seen that LLMs perform better when they are role playing."
   ]
  },
  {
   "cell_type": "markdown",
   "metadata": {},
   "source": [
    "### Agent: Planner\n",
    "\n",
    "**Note**: The benefit of using _multiple strings_ :\n",
    "```Python\n",
    "varname = \"line 1 of text\"\n",
    "          \"line 2 of text\"\n",
    "```\n",
    "\n",
    "versus the _triple quote docstring_:\n",
    "```Python\n",
    "varname = \"\"\"line 1 of text\n",
    "             line 2 of text\n",
    "          \"\"\"\n",
    "```\n",
    "is that it can avoid adding those whitespaces and newline characters, making it better formatted to be passed to the LLM."
   ]
  },
  {
   "cell_type": "code",
   "execution_count": 8,
   "metadata": {
    "height": 234
   },
   "outputs": [],
   "source": [
    "planner = Agent(\n",
    "    role=\"Content Planner\",\n",
    "    goal=\"Plan engaging and factually accurate content on {topic}\",\n",
    "    backstory=\"You're working on planning a blog article \"\n",
    "              \"about the topic: {topic}.\"\n",
    "              \"You collect information that helps the \"\n",
    "              \"audience learn something \"\n",
    "              \"and make informed decisions. \"\n",
    "              \"Your work is the basis for \"\n",
    "              \"the Content Writer to write an article on this topic.\",\n",
    "    allow_delegation=False,\n",
    "\tverbose=True\n",
    ")"
   ]
  },
  {
   "cell_type": "markdown",
   "metadata": {},
   "source": [
    "### Agent: Writer"
   ]
  },
  {
   "cell_type": "code",
   "execution_count": 9,
   "metadata": {
    "height": 370
   },
   "outputs": [],
   "source": [
    "writer = Agent(\n",
    "    role=\"Content Writer\",\n",
    "    goal=\"Write insightful and factually accurate \"\n",
    "         \"opinion piece about the topic: {topic}\",\n",
    "    backstory=\"You're working on a writing \"\n",
    "              \"a new opinion piece about the topic: {topic}. \"\n",
    "              \"You base your writing on the work of \"\n",
    "              \"the Content Planner, who provides an outline \"\n",
    "              \"and relevant context about the topic. \"\n",
    "              \"You follow the main objectives and \"\n",
    "              \"direction of the outline, \"\n",
    "              \"as provide by the Content Planner. \"\n",
    "              \"You also provide objective and impartial insights \"\n",
    "              \"and back them up with information \"\n",
    "              \"provide by the Content Planner. \"\n",
    "              \"You acknowledge in your opinion piece \"\n",
    "              \"when your statements are opinions \"\n",
    "              \"as opposed to objective statements.\",\n",
    "    allow_delegation=False,\n",
    "    verbose=True\n",
    ")"
   ]
  },
  {
   "cell_type": "markdown",
   "metadata": {},
   "source": [
    "### Agent: Editor"
   ]
  },
  {
   "cell_type": "code",
   "execution_count": 10,
   "metadata": {
    "height": 268
   },
   "outputs": [],
   "source": [
    "editor = Agent(\n",
    "    role=\"Editor\",\n",
    "    goal=\"Edit a given blog post to align with \"\n",
    "         \"the writing style of the organization. \",\n",
    "    backstory=\"You are an editor who receives a blog post \"\n",
    "              \"from the Content Writer. \"\n",
    "              \"Your goal is to review the blog post \"\n",
    "              \"to ensure that it follows journalistic best practices,\"\n",
    "              \"provides balanced viewpoints \"\n",
    "              \"when providing opinions or assertions, \"\n",
    "              \"and also avoids major controversial topics \"\n",
    "              \"or opinions when possible.\",\n",
    "    allow_delegation=False,\n",
    "    verbose=True\n",
    ")"
   ]
  },
  {
   "cell_type": "markdown",
   "metadata": {},
   "source": [
    "## Creating Tasks\n",
    "\n",
    "- Define your Tasks, and provide them a `description`, `expected_output` and `agent`."
   ]
  },
  {
   "cell_type": "markdown",
   "metadata": {},
   "source": [
    "### Task: Plan"
   ]
  },
  {
   "cell_type": "code",
   "execution_count": 11,
   "metadata": {
    "height": 268
   },
   "outputs": [],
   "source": [
    "plan = Task(\n",
    "    description=(\n",
    "        \"1. Prioritize the latest trends, key players, \"\n",
    "            \"and noteworthy news on {topic}.\\n\"\n",
    "        \"2. Identify the target audience, considering \"\n",
    "            \"their interests and pain points.\\n\"\n",
    "        \"3. Develop a detailed content outline including \"\n",
    "            \"an introduction, key points, and a call to action.\\n\"\n",
    "        \"4. Include SEO keywords and relevant data or sources.\"\n",
    "    ),\n",
    "    expected_output=\"A comprehensive content plan document \"\n",
    "        \"with an outline, audience analysis, \"\n",
    "        \"SEO keywords, and resources.\",\n",
    "    agent=planner,\n",
    ")"
   ]
  },
  {
   "cell_type": "markdown",
   "metadata": {},
   "source": [
    "### Task: Write"
   ]
  },
  {
   "cell_type": "code",
   "execution_count": 12,
   "metadata": {
    "height": 319
   },
   "outputs": [],
   "source": [
    "write = Task(\n",
    "    description=(\n",
    "        \"1. Use the content plan to craft a compelling \"\n",
    "            \"blog post on {topic}.\\n\"\n",
    "        \"2. Incorporate SEO keywords naturally.\\n\"\n",
    "\t\t\"3. Sections/Subtitles are properly named \"\n",
    "            \"in an engaging manner.\\n\"\n",
    "        \"4. Ensure the post is structured with an \"\n",
    "            \"engaging introduction, insightful body, \"\n",
    "            \"and a summarizing conclusion.\\n\"\n",
    "        \"5. Proofread for grammatical errors and \"\n",
    "            \"alignment with the brand's voice.\\n\"\n",
    "    ),\n",
    "    expected_output=\"A well-written blog post \"\n",
    "        \"in markdown format, ready for publication, \"\n",
    "        \"each section should have 2 or 3 paragraphs.\",\n",
    "    agent=writer,\n",
    ")"
   ]
  },
  {
   "cell_type": "markdown",
   "metadata": {},
   "source": [
    "### Task: Edit"
   ]
  },
  {
   "cell_type": "code",
   "execution_count": 13,
   "metadata": {
    "height": 166
   },
   "outputs": [],
   "source": [
    "edit = Task(\n",
    "    description=(\"Proofread the given blog post for \"\n",
    "                 \"grammatical errors and \"\n",
    "                 \"alignment with the brand's voice.\"),\n",
    "    expected_output=\"A well-written blog post in markdown format, \"\n",
    "                    \"ready for publication, \"\n",
    "                    \"each section should have 2 or 3 paragraphs.\",\n",
    "    agent=editor\n",
    ")"
   ]
  },
  {
   "cell_type": "markdown",
   "metadata": {},
   "source": [
    "## Creating the Crew\n",
    "\n",
    "- Create your crew of Agents\n",
    "- Pass the tasks to be performed by those agents.\n",
    "    - **Note**: *For this simple example*, the tasks will be performed sequentially (i.e they are dependent on each other), so the _order_ of the task in the list _matters_.\n",
    "- `verbose=2` allows you to see all the logs of the execution. "
   ]
  },
  {
   "cell_type": "code",
   "execution_count": 14,
   "metadata": {
    "height": 98
   },
   "outputs": [],
   "source": [
    "crew = Crew(\n",
    "    agents=[planner, writer, editor],\n",
    "    tasks=[plan, write, edit],\n",
    "    verbose=2\n",
    ")"
   ]
  },
  {
   "cell_type": "markdown",
   "metadata": {},
   "source": [
    "## Running the Crew"
   ]
  },
  {
   "cell_type": "markdown",
   "metadata": {},
   "source": [
    "**Note**: LLMs can provide different outputs for they same input, so what you get might be different than what you see in the video."
   ]
  },
  {
   "cell_type": "code",
   "execution_count": 15,
   "metadata": {
    "height": 30
   },
   "outputs": [
    {
     "name": "stdout",
     "output_type": "stream",
     "text": [
      "\u001b[1m\u001b[95m [DEBUG]: == Working Agent: Content Planner\u001b[00m\n",
      "\u001b[1m\u001b[95m [INFO]: == Starting Task: 1. Prioritize the latest trends, key players, and noteworthy news on Artificial Intelligence.\n",
      "2. Identify the target audience, considering their interests and pain points.\n",
      "3. Develop a detailed content outline including an introduction, key points, and a call to action.\n",
      "4. Include SEO keywords and relevant data or sources.\u001b[00m\n",
      "\n",
      "\n",
      "\u001b[1m> Entering new CrewAgentExecutor chain...\u001b[0m\n",
      "\u001b[32;1m\u001b[1;3mI now can give a great answer\n",
      "\n",
      "Final Answer:\n",
      "Content Plan: The Rise of Artificial Intelligence\n",
      "\n",
      "I. Introduction\n",
      "- Brief overview of artificial intelligence (AI) and its increasing impact on various industries.\n",
      "- Mention of the latest trends in AI technology and its potential benefits.\n",
      "- Introduction of key players in the AI industry and their contributions.\n",
      "\n",
      "II. Key Points\n",
      "A. Latest Trends in AI\n",
      "1. Machine learning advancements\n",
      "2. Natural language processing developments\n",
      "3. Automation and robotics integration\n",
      "4. AI ethics and regulation updates\n",
      "\n",
      "B. Key Players in the AI Industry\n",
      "1. Google DeepMind\n",
      "2. IBM Watson\n",
      "3. Amazon Web Services (AWS)\n",
      "4. Microsoft AI\n",
      "5. OpenAI\n",
      "\n",
      "C. Noteworthy News in AI\n",
      "1. Breakthroughs in AI healthcare applications\n",
      "2. AI-driven cybersecurity advancements\n",
      "3. AI impact on the future of work\n",
      "4. Ethical considerations in AI development\n",
      "\n",
      "III. Target Audience Analysis\n",
      "- Target audience includes professionals in tech, business leaders, educators, and individuals interested in AI.\n",
      "- Interests: staying updated on AI trends, understanding AI applications in different fields, and ethical considerations in AI development.\n",
      "- Pain Points: navigating the complexities of AI technology, staying informed on the latest news, and understanding the implications of AI on society.\n",
      "\n",
      "IV. SEO Keywords\n",
      "- Artificial intelligence trends 2021\n",
      "- Key players in AI industry\n",
      "- AI news and updates\n",
      "- Machine learning advancements\n",
      "- Ethical AI development\n",
      "- AI applications in healthcare\n",
      "\n",
      "V. Resources\n",
      "- Forbes article on AI trends to watch in 2021\n",
      "- TechCrunch report on latest advancements in natural language processing\n",
      "- Harvard Business Review study on the impact of AI on cybersecurity\n",
      "- World Economic Forum article on ethical considerations in AI development\n",
      "\n",
      "Call to Action: Stay informed on the latest trends and developments in artificial intelligence by following our blog for regular updates and insights.\n",
      "\n",
      "This comprehensive content plan will serve as a solid foundation for the Content Writer to create an engaging and informative blog article on the topic of artificial intelligence.\u001b[0m\n",
      "\n",
      "\u001b[1m> Finished chain.\u001b[0m\n",
      "\u001b[1m\u001b[92m [DEBUG]: == [Content Planner] Task output: Content Plan: The Rise of Artificial Intelligence\n",
      "\n",
      "I. Introduction\n",
      "- Brief overview of artificial intelligence (AI) and its increasing impact on various industries.\n",
      "- Mention of the latest trends in AI technology and its potential benefits.\n",
      "- Introduction of key players in the AI industry and their contributions.\n",
      "\n",
      "II. Key Points\n",
      "A. Latest Trends in AI\n",
      "1. Machine learning advancements\n",
      "2. Natural language processing developments\n",
      "3. Automation and robotics integration\n",
      "4. AI ethics and regulation updates\n",
      "\n",
      "B. Key Players in the AI Industry\n",
      "1. Google DeepMind\n",
      "2. IBM Watson\n",
      "3. Amazon Web Services (AWS)\n",
      "4. Microsoft AI\n",
      "5. OpenAI\n",
      "\n",
      "C. Noteworthy News in AI\n",
      "1. Breakthroughs in AI healthcare applications\n",
      "2. AI-driven cybersecurity advancements\n",
      "3. AI impact on the future of work\n",
      "4. Ethical considerations in AI development\n",
      "\n",
      "III. Target Audience Analysis\n",
      "- Target audience includes professionals in tech, business leaders, educators, and individuals interested in AI.\n",
      "- Interests: staying updated on AI trends, understanding AI applications in different fields, and ethical considerations in AI development.\n",
      "- Pain Points: navigating the complexities of AI technology, staying informed on the latest news, and understanding the implications of AI on society.\n",
      "\n",
      "IV. SEO Keywords\n",
      "- Artificial intelligence trends 2021\n",
      "- Key players in AI industry\n",
      "- AI news and updates\n",
      "- Machine learning advancements\n",
      "- Ethical AI development\n",
      "- AI applications in healthcare\n",
      "\n",
      "V. Resources\n",
      "- Forbes article on AI trends to watch in 2021\n",
      "- TechCrunch report on latest advancements in natural language processing\n",
      "- Harvard Business Review study on the impact of AI on cybersecurity\n",
      "- World Economic Forum article on ethical considerations in AI development\n",
      "\n",
      "Call to Action: Stay informed on the latest trends and developments in artificial intelligence by following our blog for regular updates and insights.\n",
      "\n",
      "This comprehensive content plan will serve as a solid foundation for the Content Writer to create an engaging and informative blog article on the topic of artificial intelligence.\n",
      "\n",
      "\u001b[00m\n",
      "\u001b[1m\u001b[95m [DEBUG]: == Working Agent: Content Writer\u001b[00m\n",
      "\u001b[1m\u001b[95m [INFO]: == Starting Task: 1. Use the content plan to craft a compelling blog post on Artificial Intelligence.\n",
      "2. Incorporate SEO keywords naturally.\n",
      "3. Sections/Subtitles are properly named in an engaging manner.\n",
      "4. Ensure the post is structured with an engaging introduction, insightful body, and a summarizing conclusion.\n",
      "5. Proofread for grammatical errors and alignment with the brand's voice.\n",
      "\u001b[00m\n",
      "\n",
      "\n",
      "\u001b[1m> Entering new CrewAgentExecutor chain...\u001b[0m\n",
      "\u001b[32;1m\u001b[1;3mI have a clear understanding of the content plan and the key points to cover in the blog post about Artificial Intelligence. By incorporating relevant SEO keywords and structuring the post with engaging sections, I can create a compelling piece that will resonate with the target audience.\n",
      "\n",
      "Final Answer:\n",
      "# The Rise of Artificial Intelligence: Latest Trends and Key Players\n",
      "\n",
      "## Introduction\n",
      "\n",
      "Artificial intelligence (AI) has become a prominent force reshaping various industries, with its impact continually growing. The latest trends in AI technology are revolutionizing the way we work and interact with machines, offering potential benefits such as increased efficiency, improved decision-making, and enhanced customer experiences. Key players in the AI industry, including Google DeepMind, IBM Watson, Amazon Web Services (AWS), Microsoft AI, and OpenAI, are driving innovation and pushing the boundaries of what AI can achieve.\n",
      "\n",
      "## Key Points\n",
      "\n",
      "### Latest Trends in AI\n",
      "\n",
      "#### Machine Learning Advancements\n",
      "One of the most significant trends in AI is the rapid advancements in machine learning algorithms. These algorithms enable machines to learn from data, identify patterns, and make predictions without explicit programming. As a result, AI systems can continuously improve their performance and adapt to new information, leading to more accurate and efficient outcomes.\n",
      "\n",
      "#### Natural Language Processing Developments\n",
      "Natural language processing (NLP) is another area experiencing significant advancements in AI technology. NLP allows machines to understand, interpret, and generate human language, enabling applications such as chatbots, language translation, and sentiment analysis. With the development of more sophisticated NLP models, AI systems can communicate more effectively and provide more personalized experiences to users.\n",
      "\n",
      "#### Automation and Robotics Integration\n",
      "AI-powered automation and robotics are transforming industries by streamlining processes, increasing productivity, and reducing human error. From autonomous vehicles to robotic process automation, AI technologies are revolutionizing how tasks are performed, leading to greater efficiency and cost savings for businesses.\n",
      "\n",
      "#### AI Ethics and Regulation Updates\n",
      "As AI technology continues to advance, ethical considerations and regulatory frameworks are becoming increasingly important. Issues such as bias in AI algorithms, data privacy concerns, and the impact of AI on employment are shaping the conversation around responsible AI development. Organizations and policymakers are working to establish guidelines and standards to ensure that AI is developed and deployed in a way that benefits society as a whole.\n",
      "\n",
      "### Key Players in the AI Industry\n",
      "\n",
      "#### Google DeepMind\n",
      "Google DeepMind is known for its groundbreaking research in AI, particularly in the fields of deep learning and reinforcement learning. Their work has led to advancements in healthcare, gaming, and natural language understanding, demonstrating the potential of AI to solve complex problems and improve human lives.\n",
      "\n",
      "#### IBM Watson\n",
      "IBM Watson is a pioneer in cognitive computing, with a focus on building AI systems that can understand, reason, and learn from data. Watson's applications span various industries, including healthcare, finance, and customer service, showcasing the versatility and power of AI to transform business operations.\n",
      "\n",
      "#### Amazon Web Services (AWS)\n",
      "Amazon Web Services (AWS) offers a range of AI services and tools that enable businesses to integrate AI capabilities into their applications easily. From speech recognition to image analysis, AWS's AI offerings empower organizations to harness the full potential of AI and drive innovation in their products and services.\n",
      "\n",
      "#### Microsoft AI\n",
      "Microsoft AI is at the forefront of democratizing AI technology, making it accessible to developers and organizations of all sizes. Their AI solutions, such as Azure Cognitive Services and Microsoft Bot Framework, enable businesses to build intelligent applications and services that enhance customer experiences and drive digital transformation.\n",
      "\n",
      "#### OpenAI\n",
      "OpenAI is a research organization dedicated to advancing AI in a way that benefits humanity. Their work focuses on developing safe and beneficial AI systems that can be used to address global challenges and improve people's lives. By promoting transparency, collaboration, and ethical AI development, OpenAI is shaping the future of AI in a responsible and sustainable manner.\n",
      "\n",
      "### Noteworthy News in AI\n",
      "\n",
      "#### Breakthroughs in AI Healthcare Applications\n",
      "AI is revolutionizing healthcare by enabling more accurate diagnoses, personalized treatment plans, and improved patient outcomes. From medical imaging analysis to drug discovery, AI technologies are transforming the way healthcare is delivered, leading to better quality care and reduced costs for patients and providers.\n",
      "\n",
      "#### AI-Driven Cybersecurity Advancements\n",
      "The rise of cyber threats has made cybersecurity a top priority for organizations worldwide. AI-powered cybersecurity solutions can detect and respond to threats in real-time, helping to prevent data breaches, identify vulnerabilities, and protect sensitive information. By leveraging AI capabilities, businesses can enhance their security posture and safeguard their digital assets from cyber attacks.\n",
      "\n",
      "#### AI Impact on the Future of Work\n",
      "As AI technology continues to advance, its impact on the future of work is becoming more apparent. Automation and AI-driven technologies are reshaping job roles, creating new opportunities, and transforming the way we work. While AI has the potential to increase productivity and efficiency in the workplace, it also raises concerns about job displacement, skills training, and workforce readiness in the digital age.\n",
      "\n",
      "#### Ethical Considerations in AI Development\n",
      "Ethical considerations play a crucial role in AI development, ensuring that AI systems are designed and deployed responsibly. Issues such as bias, transparency, accountability, and data privacy require careful attention to prevent unintended consequences and societal harm. By addressing ethical considerations upfront, organizations can build trust, mitigate risks, and foster positive outcomes from AI technologies.\n",
      "\n",
      "## Target Audience Analysis\n",
      "\n",
      "Professionals in the tech industry, business leaders, educators, and individuals interested in AI form the target audience for this blog post. They are keen on staying updated on the latest AI trends, understanding AI applications in different fields, and exploring ethical considerations in AI development. Navigating the complexities of AI technology, staying informed on the latest news, and understanding the implications of AI on society are key pain points for this audience.\n",
      "\n",
      "## Conclusion\n",
      "\n",
      "Artificial intelligence is continuously evolving, with the latest trends and advancements shaping the future of technology and innovation. Key players in the AI industry are driving progress and pushing the boundaries of what AI can achieve, while ethical considerations and regulatory updates are shaping the responsible development of AI systems. By staying informed on the latest news and developments in AI, professionals can navigate the complexities of this transformative technology and harness its potential for positive impact. Stay tuned for more insights and updates on artificial intelligence by following our blog for regular content and analysis.\u001b[0m\n",
      "\n",
      "\u001b[1m> Finished chain.\u001b[0m\n",
      "\u001b[1m\u001b[92m [DEBUG]: == [Content Writer] Task output: # The Rise of Artificial Intelligence: Latest Trends and Key Players\n",
      "\n",
      "## Introduction\n",
      "\n",
      "Artificial intelligence (AI) has become a prominent force reshaping various industries, with its impact continually growing. The latest trends in AI technology are revolutionizing the way we work and interact with machines, offering potential benefits such as increased efficiency, improved decision-making, and enhanced customer experiences. Key players in the AI industry, including Google DeepMind, IBM Watson, Amazon Web Services (AWS), Microsoft AI, and OpenAI, are driving innovation and pushing the boundaries of what AI can achieve.\n",
      "\n",
      "## Key Points\n",
      "\n",
      "### Latest Trends in AI\n",
      "\n",
      "#### Machine Learning Advancements\n",
      "One of the most significant trends in AI is the rapid advancements in machine learning algorithms. These algorithms enable machines to learn from data, identify patterns, and make predictions without explicit programming. As a result, AI systems can continuously improve their performance and adapt to new information, leading to more accurate and efficient outcomes.\n",
      "\n",
      "#### Natural Language Processing Developments\n",
      "Natural language processing (NLP) is another area experiencing significant advancements in AI technology. NLP allows machines to understand, interpret, and generate human language, enabling applications such as chatbots, language translation, and sentiment analysis. With the development of more sophisticated NLP models, AI systems can communicate more effectively and provide more personalized experiences to users.\n",
      "\n",
      "#### Automation and Robotics Integration\n",
      "AI-powered automation and robotics are transforming industries by streamlining processes, increasing productivity, and reducing human error. From autonomous vehicles to robotic process automation, AI technologies are revolutionizing how tasks are performed, leading to greater efficiency and cost savings for businesses.\n",
      "\n",
      "#### AI Ethics and Regulation Updates\n",
      "As AI technology continues to advance, ethical considerations and regulatory frameworks are becoming increasingly important. Issues such as bias in AI algorithms, data privacy concerns, and the impact of AI on employment are shaping the conversation around responsible AI development. Organizations and policymakers are working to establish guidelines and standards to ensure that AI is developed and deployed in a way that benefits society as a whole.\n",
      "\n",
      "### Key Players in the AI Industry\n",
      "\n",
      "#### Google DeepMind\n",
      "Google DeepMind is known for its groundbreaking research in AI, particularly in the fields of deep learning and reinforcement learning. Their work has led to advancements in healthcare, gaming, and natural language understanding, demonstrating the potential of AI to solve complex problems and improve human lives.\n",
      "\n",
      "#### IBM Watson\n",
      "IBM Watson is a pioneer in cognitive computing, with a focus on building AI systems that can understand, reason, and learn from data. Watson's applications span various industries, including healthcare, finance, and customer service, showcasing the versatility and power of AI to transform business operations.\n",
      "\n",
      "#### Amazon Web Services (AWS)\n",
      "Amazon Web Services (AWS) offers a range of AI services and tools that enable businesses to integrate AI capabilities into their applications easily. From speech recognition to image analysis, AWS's AI offerings empower organizations to harness the full potential of AI and drive innovation in their products and services.\n",
      "\n",
      "#### Microsoft AI\n",
      "Microsoft AI is at the forefront of democratizing AI technology, making it accessible to developers and organizations of all sizes. Their AI solutions, such as Azure Cognitive Services and Microsoft Bot Framework, enable businesses to build intelligent applications and services that enhance customer experiences and drive digital transformation.\n",
      "\n",
      "#### OpenAI\n",
      "OpenAI is a research organization dedicated to advancing AI in a way that benefits humanity. Their work focuses on developing safe and beneficial AI systems that can be used to address global challenges and improve people's lives. By promoting transparency, collaboration, and ethical AI development, OpenAI is shaping the future of AI in a responsible and sustainable manner.\n",
      "\n",
      "### Noteworthy News in AI\n",
      "\n",
      "#### Breakthroughs in AI Healthcare Applications\n",
      "AI is revolutionizing healthcare by enabling more accurate diagnoses, personalized treatment plans, and improved patient outcomes. From medical imaging analysis to drug discovery, AI technologies are transforming the way healthcare is delivered, leading to better quality care and reduced costs for patients and providers.\n",
      "\n",
      "#### AI-Driven Cybersecurity Advancements\n",
      "The rise of cyber threats has made cybersecurity a top priority for organizations worldwide. AI-powered cybersecurity solutions can detect and respond to threats in real-time, helping to prevent data breaches, identify vulnerabilities, and protect sensitive information. By leveraging AI capabilities, businesses can enhance their security posture and safeguard their digital assets from cyber attacks.\n",
      "\n",
      "#### AI Impact on the Future of Work\n",
      "As AI technology continues to advance, its impact on the future of work is becoming more apparent. Automation and AI-driven technologies are reshaping job roles, creating new opportunities, and transforming the way we work. While AI has the potential to increase productivity and efficiency in the workplace, it also raises concerns about job displacement, skills training, and workforce readiness in the digital age.\n",
      "\n",
      "#### Ethical Considerations in AI Development\n",
      "Ethical considerations play a crucial role in AI development, ensuring that AI systems are designed and deployed responsibly. Issues such as bias, transparency, accountability, and data privacy require careful attention to prevent unintended consequences and societal harm. By addressing ethical considerations upfront, organizations can build trust, mitigate risks, and foster positive outcomes from AI technologies.\n",
      "\n",
      "## Target Audience Analysis\n",
      "\n",
      "Professionals in the tech industry, business leaders, educators, and individuals interested in AI form the target audience for this blog post. They are keen on staying updated on the latest AI trends, understanding AI applications in different fields, and exploring ethical considerations in AI development. Navigating the complexities of AI technology, staying informed on the latest news, and understanding the implications of AI on society are key pain points for this audience.\n",
      "\n",
      "## Conclusion\n",
      "\n",
      "Artificial intelligence is continuously evolving, with the latest trends and advancements shaping the future of technology and innovation. Key players in the AI industry are driving progress and pushing the boundaries of what AI can achieve, while ethical considerations and regulatory updates are shaping the responsible development of AI systems. By staying informed on the latest news and developments in AI, professionals can navigate the complexities of this transformative technology and harness its potential for positive impact. Stay tuned for more insights and updates on artificial intelligence by following our blog for regular content and analysis.\n",
      "\n",
      "\u001b[00m\n",
      "\u001b[1m\u001b[95m [DEBUG]: == Working Agent: Editor\u001b[00m\n",
      "\u001b[1m\u001b[95m [INFO]: == Starting Task: Proofread the given blog post for grammatical errors and alignment with the brand's voice.\u001b[00m\n",
      "\n",
      "\n",
      "\u001b[1m> Entering new CrewAgentExecutor chain...\u001b[0m\n",
      "\u001b[32;1m\u001b[1;3mI now can give a great answer\n",
      "\n",
      "Final Answer:\n",
      "# The Rise of Artificial Intelligence: Latest Trends and Key Players\n",
      "\n",
      "## Introduction\n",
      "\n",
      "Artificial intelligence (AI) has become a prominent force reshaping various industries, with its impact continually growing. The latest trends in AI technology are revolutionizing the way we work and interact with machines, offering potential benefits such as increased efficiency, improved decision-making, and enhanced customer experiences. Key players in the AI industry, including Google DeepMind, IBM Watson, Amazon Web Services (AWS), Microsoft AI, and OpenAI, are driving innovation and pushing the boundaries of what AI can achieve.\n",
      "\n",
      "## Key Points\n",
      "\n",
      "### Latest Trends in AI\n",
      "\n",
      "One of the most significant trends in AI is the rapid advancements in machine learning algorithms. These algorithms enable machines to learn from data, identify patterns, and make predictions without explicit programming. As a result, AI systems can continuously improve their performance and adapt to new information, leading to more accurate and efficient outcomes.\n",
      "\n",
      "Natural language processing (NLP) is another area experiencing significant advancements in AI technology. NLP allows machines to understand, interpret, and generate human language, enabling applications such as chatbots, language translation, and sentiment analysis. With the development of more sophisticated NLP models, AI systems can communicate more effectively and provide more personalized experiences to users.\n",
      "\n",
      "AI-powered automation and robotics are transforming industries by streamlining processes, increasing productivity, and reducing human error. From autonomous vehicles to robotic process automation, AI technologies are revolutionizing how tasks are performed, leading to greater efficiency and cost savings for businesses.\n",
      "\n",
      "As AI technology continues to advance, ethical considerations and regulatory frameworks are becoming increasingly important. Issues such as bias in AI algorithms, data privacy concerns, and the impact of AI on employment are shaping the conversation around responsible AI development. Organizations and policymakers are working to establish guidelines and standards to ensure that AI is developed and deployed in a way that benefits society as a whole.\n",
      "\n",
      "### Key Players in the AI Industry\n",
      "\n",
      "Google DeepMind is known for its groundbreaking research in AI, particularly in the fields of deep learning and reinforcement learning. Their work has led to advancements in healthcare, gaming, and natural language understanding, demonstrating the potential of AI to solve complex problems and improve human lives.\n",
      "\n",
      "IBM Watson is a pioneer in cognitive computing, with a focus on building AI systems that can understand, reason, and learn from data. Watson's applications span various industries, including healthcare, finance, and customer service, showcasing the versatility and power of AI to transform business operations.\n",
      "\n",
      "Amazon Web Services (AWS) offers a range of AI services and tools that enable businesses to integrate AI capabilities into their applications easily. From speech recognition to image analysis, AWS's AI offerings empower organizations to harness the full potential of AI and drive innovation in their products and services.\n",
      "\n",
      "Microsoft AI is at the forefront of democratizing AI technology, making it accessible to developers and organizations of all sizes. Their AI solutions, such as Azure Cognitive Services and Microsoft Bot Framework, enable businesses to build intelligent applications and services that enhance customer experiences and drive digital transformation.\n",
      "\n",
      "OpenAI is a research organization dedicated to advancing AI in a way that benefits humanity. Their work focuses on developing safe and beneficial AI systems that can be used to address global challenges and improve people's lives. By promoting transparency, collaboration, and ethical AI development, OpenAI is shaping the future of AI in a responsible and sustainable manner.\n",
      "\n",
      "### Noteworthy News in AI\n",
      "\n",
      "AI is revolutionizing healthcare by enabling more accurate diagnoses, personalized treatment plans, and improved patient outcomes. From medical imaging analysis to drug discovery, AI technologies are transforming the way healthcare is delivered, leading to better quality care and reduced costs for patients and providers.\n",
      "\n",
      "The rise of cyber threats has made cybersecurity a top priority for organizations worldwide. AI-powered cybersecurity solutions can detect and respond to threats in real-time, helping to prevent data breaches, identify vulnerabilities, and protect sensitive information. By leveraging AI capabilities, businesses can enhance their security posture and safeguard their digital assets from cyber attacks.\n",
      "\n",
      "As AI technology continues to advance, its impact on the future of work is becoming more apparent. Automation and AI-driven technologies are reshaping job roles, creating new opportunities, and transforming the way we work. While AI has the potential to increase productivity and efficiency in the workplace, it also raises concerns about job displacement, skills training, and workforce readiness in the digital age.\n",
      "\n",
      "Ethical considerations play a crucial role in AI development, ensuring that AI systems are designed and deployed responsibly. Issues such as bias, transparency, accountability, and data privacy require careful attention to prevent unintended consequences and societal harm. By addressing ethical considerations upfront, organizations can build trust, mitigate risks, and foster positive outcomes from AI technologies.\n",
      "\n",
      "## Target Audience Analysis\n",
      "\n",
      "Professionals in the tech industry, business leaders, educators, and individuals interested in AI form the target audience for this blog post. They are keen on staying updated on the latest AI trends, understanding AI applications in different fields, and exploring ethical considerations in AI development. Navigating the complexities of AI technology, staying informed on the latest news, and understanding the implications of AI on society are key pain points for this audience.\n",
      "\n",
      "## Conclusion\n",
      "\n",
      "Artificial intelligence is continuously evolving, with the latest trends and advancements shaping the future of technology and innovation. Key players in the AI industry are driving progress and pushing the boundaries of what AI can achieve, while ethical considerations and regulatory updates are shaping the responsible development of AI systems. By staying informed on the latest news and developments in AI, professionals can navigate the complexities of this transformative technology and harness its potential for positive impact. Stay tuned for more insights and updates on artificial intelligence by following our blog for regular content and analysis.\u001b[0m\n",
      "\n",
      "\u001b[1m> Finished chain.\u001b[0m\n",
      "\u001b[1m\u001b[92m [DEBUG]: == [Editor] Task output: # The Rise of Artificial Intelligence: Latest Trends and Key Players\n",
      "\n",
      "## Introduction\n",
      "\n",
      "Artificial intelligence (AI) has become a prominent force reshaping various industries, with its impact continually growing. The latest trends in AI technology are revolutionizing the way we work and interact with machines, offering potential benefits such as increased efficiency, improved decision-making, and enhanced customer experiences. Key players in the AI industry, including Google DeepMind, IBM Watson, Amazon Web Services (AWS), Microsoft AI, and OpenAI, are driving innovation and pushing the boundaries of what AI can achieve.\n",
      "\n",
      "## Key Points\n",
      "\n",
      "### Latest Trends in AI\n",
      "\n",
      "One of the most significant trends in AI is the rapid advancements in machine learning algorithms. These algorithms enable machines to learn from data, identify patterns, and make predictions without explicit programming. As a result, AI systems can continuously improve their performance and adapt to new information, leading to more accurate and efficient outcomes.\n",
      "\n",
      "Natural language processing (NLP) is another area experiencing significant advancements in AI technology. NLP allows machines to understand, interpret, and generate human language, enabling applications such as chatbots, language translation, and sentiment analysis. With the development of more sophisticated NLP models, AI systems can communicate more effectively and provide more personalized experiences to users.\n",
      "\n",
      "AI-powered automation and robotics are transforming industries by streamlining processes, increasing productivity, and reducing human error. From autonomous vehicles to robotic process automation, AI technologies are revolutionizing how tasks are performed, leading to greater efficiency and cost savings for businesses.\n",
      "\n",
      "As AI technology continues to advance, ethical considerations and regulatory frameworks are becoming increasingly important. Issues such as bias in AI algorithms, data privacy concerns, and the impact of AI on employment are shaping the conversation around responsible AI development. Organizations and policymakers are working to establish guidelines and standards to ensure that AI is developed and deployed in a way that benefits society as a whole.\n",
      "\n",
      "### Key Players in the AI Industry\n",
      "\n",
      "Google DeepMind is known for its groundbreaking research in AI, particularly in the fields of deep learning and reinforcement learning. Their work has led to advancements in healthcare, gaming, and natural language understanding, demonstrating the potential of AI to solve complex problems and improve human lives.\n",
      "\n",
      "IBM Watson is a pioneer in cognitive computing, with a focus on building AI systems that can understand, reason, and learn from data. Watson's applications span various industries, including healthcare, finance, and customer service, showcasing the versatility and power of AI to transform business operations.\n",
      "\n",
      "Amazon Web Services (AWS) offers a range of AI services and tools that enable businesses to integrate AI capabilities into their applications easily. From speech recognition to image analysis, AWS's AI offerings empower organizations to harness the full potential of AI and drive innovation in their products and services.\n",
      "\n",
      "Microsoft AI is at the forefront of democratizing AI technology, making it accessible to developers and organizations of all sizes. Their AI solutions, such as Azure Cognitive Services and Microsoft Bot Framework, enable businesses to build intelligent applications and services that enhance customer experiences and drive digital transformation.\n",
      "\n",
      "OpenAI is a research organization dedicated to advancing AI in a way that benefits humanity. Their work focuses on developing safe and beneficial AI systems that can be used to address global challenges and improve people's lives. By promoting transparency, collaboration, and ethical AI development, OpenAI is shaping the future of AI in a responsible and sustainable manner.\n",
      "\n",
      "### Noteworthy News in AI\n",
      "\n",
      "AI is revolutionizing healthcare by enabling more accurate diagnoses, personalized treatment plans, and improved patient outcomes. From medical imaging analysis to drug discovery, AI technologies are transforming the way healthcare is delivered, leading to better quality care and reduced costs for patients and providers.\n",
      "\n",
      "The rise of cyber threats has made cybersecurity a top priority for organizations worldwide. AI-powered cybersecurity solutions can detect and respond to threats in real-time, helping to prevent data breaches, identify vulnerabilities, and protect sensitive information. By leveraging AI capabilities, businesses can enhance their security posture and safeguard their digital assets from cyber attacks.\n",
      "\n",
      "As AI technology continues to advance, its impact on the future of work is becoming more apparent. Automation and AI-driven technologies are reshaping job roles, creating new opportunities, and transforming the way we work. While AI has the potential to increase productivity and efficiency in the workplace, it also raises concerns about job displacement, skills training, and workforce readiness in the digital age.\n",
      "\n",
      "Ethical considerations play a crucial role in AI development, ensuring that AI systems are designed and deployed responsibly. Issues such as bias, transparency, accountability, and data privacy require careful attention to prevent unintended consequences and societal harm. By addressing ethical considerations upfront, organizations can build trust, mitigate risks, and foster positive outcomes from AI technologies.\n",
      "\n",
      "## Target Audience Analysis\n",
      "\n",
      "Professionals in the tech industry, business leaders, educators, and individuals interested in AI form the target audience for this blog post. They are keen on staying updated on the latest AI trends, understanding AI applications in different fields, and exploring ethical considerations in AI development. Navigating the complexities of AI technology, staying informed on the latest news, and understanding the implications of AI on society are key pain points for this audience.\n",
      "\n",
      "## Conclusion\n",
      "\n",
      "Artificial intelligence is continuously evolving, with the latest trends and advancements shaping the future of technology and innovation. Key players in the AI industry are driving progress and pushing the boundaries of what AI can achieve, while ethical considerations and regulatory updates are shaping the responsible development of AI systems. By staying informed on the latest news and developments in AI, professionals can navigate the complexities of this transformative technology and harness its potential for positive impact. Stay tuned for more insights and updates on artificial intelligence by following our blog for regular content and analysis.\n",
      "\n",
      "\u001b[00m\n",
      "Elapsed time: 38.442201137542725 sec\n"
     ]
    }
   ],
   "source": [
    "ts_start = time()\n",
    "result = crew.kickoff(inputs={\"topic\": \"Artificial Intelligence\"})\n",
    "ts_stop = time()\n",
    "print(f\"Elapsed time: {ts_stop-ts_start} sec\")   # Elapsed time: 38.442201137542725 sec on papagame"
   ]
  },
  {
   "cell_type": "markdown",
   "metadata": {},
   "source": [
    "- Display the results of your execution as markdown in the notebook."
   ]
  },
  {
   "cell_type": "code",
   "execution_count": 16,
   "metadata": {
    "height": 47
   },
   "outputs": [
    {
     "data": {
      "text/markdown": [
       "# The Rise of Artificial Intelligence: Latest Trends and Key Players\n",
       "\n",
       "## Introduction\n",
       "\n",
       "Artificial intelligence (AI) has become a prominent force reshaping various industries, with its impact continually growing. The latest trends in AI technology are revolutionizing the way we work and interact with machines, offering potential benefits such as increased efficiency, improved decision-making, and enhanced customer experiences. Key players in the AI industry, including Google DeepMind, IBM Watson, Amazon Web Services (AWS), Microsoft AI, and OpenAI, are driving innovation and pushing the boundaries of what AI can achieve.\n",
       "\n",
       "## Key Points\n",
       "\n",
       "### Latest Trends in AI\n",
       "\n",
       "One of the most significant trends in AI is the rapid advancements in machine learning algorithms. These algorithms enable machines to learn from data, identify patterns, and make predictions without explicit programming. As a result, AI systems can continuously improve their performance and adapt to new information, leading to more accurate and efficient outcomes.\n",
       "\n",
       "Natural language processing (NLP) is another area experiencing significant advancements in AI technology. NLP allows machines to understand, interpret, and generate human language, enabling applications such as chatbots, language translation, and sentiment analysis. With the development of more sophisticated NLP models, AI systems can communicate more effectively and provide more personalized experiences to users.\n",
       "\n",
       "AI-powered automation and robotics are transforming industries by streamlining processes, increasing productivity, and reducing human error. From autonomous vehicles to robotic process automation, AI technologies are revolutionizing how tasks are performed, leading to greater efficiency and cost savings for businesses.\n",
       "\n",
       "As AI technology continues to advance, ethical considerations and regulatory frameworks are becoming increasingly important. Issues such as bias in AI algorithms, data privacy concerns, and the impact of AI on employment are shaping the conversation around responsible AI development. Organizations and policymakers are working to establish guidelines and standards to ensure that AI is developed and deployed in a way that benefits society as a whole.\n",
       "\n",
       "### Key Players in the AI Industry\n",
       "\n",
       "Google DeepMind is known for its groundbreaking research in AI, particularly in the fields of deep learning and reinforcement learning. Their work has led to advancements in healthcare, gaming, and natural language understanding, demonstrating the potential of AI to solve complex problems and improve human lives.\n",
       "\n",
       "IBM Watson is a pioneer in cognitive computing, with a focus on building AI systems that can understand, reason, and learn from data. Watson's applications span various industries, including healthcare, finance, and customer service, showcasing the versatility and power of AI to transform business operations.\n",
       "\n",
       "Amazon Web Services (AWS) offers a range of AI services and tools that enable businesses to integrate AI capabilities into their applications easily. From speech recognition to image analysis, AWS's AI offerings empower organizations to harness the full potential of AI and drive innovation in their products and services.\n",
       "\n",
       "Microsoft AI is at the forefront of democratizing AI technology, making it accessible to developers and organizations of all sizes. Their AI solutions, such as Azure Cognitive Services and Microsoft Bot Framework, enable businesses to build intelligent applications and services that enhance customer experiences and drive digital transformation.\n",
       "\n",
       "OpenAI is a research organization dedicated to advancing AI in a way that benefits humanity. Their work focuses on developing safe and beneficial AI systems that can be used to address global challenges and improve people's lives. By promoting transparency, collaboration, and ethical AI development, OpenAI is shaping the future of AI in a responsible and sustainable manner.\n",
       "\n",
       "### Noteworthy News in AI\n",
       "\n",
       "AI is revolutionizing healthcare by enabling more accurate diagnoses, personalized treatment plans, and improved patient outcomes. From medical imaging analysis to drug discovery, AI technologies are transforming the way healthcare is delivered, leading to better quality care and reduced costs for patients and providers.\n",
       "\n",
       "The rise of cyber threats has made cybersecurity a top priority for organizations worldwide. AI-powered cybersecurity solutions can detect and respond to threats in real-time, helping to prevent data breaches, identify vulnerabilities, and protect sensitive information. By leveraging AI capabilities, businesses can enhance their security posture and safeguard their digital assets from cyber attacks.\n",
       "\n",
       "As AI technology continues to advance, its impact on the future of work is becoming more apparent. Automation and AI-driven technologies are reshaping job roles, creating new opportunities, and transforming the way we work. While AI has the potential to increase productivity and efficiency in the workplace, it also raises concerns about job displacement, skills training, and workforce readiness in the digital age.\n",
       "\n",
       "Ethical considerations play a crucial role in AI development, ensuring that AI systems are designed and deployed responsibly. Issues such as bias, transparency, accountability, and data privacy require careful attention to prevent unintended consequences and societal harm. By addressing ethical considerations upfront, organizations can build trust, mitigate risks, and foster positive outcomes from AI technologies.\n",
       "\n",
       "## Target Audience Analysis\n",
       "\n",
       "Professionals in the tech industry, business leaders, educators, and individuals interested in AI form the target audience for this blog post. They are keen on staying updated on the latest AI trends, understanding AI applications in different fields, and exploring ethical considerations in AI development. Navigating the complexities of AI technology, staying informed on the latest news, and understanding the implications of AI on society are key pain points for this audience.\n",
       "\n",
       "## Conclusion\n",
       "\n",
       "Artificial intelligence is continuously evolving, with the latest trends and advancements shaping the future of technology and innovation. Key players in the AI industry are driving progress and pushing the boundaries of what AI can achieve, while ethical considerations and regulatory updates are shaping the responsible development of AI systems. By staying informed on the latest news and developments in AI, professionals can navigate the complexities of this transformative technology and harness its potential for positive impact. Stay tuned for more insights and updates on artificial intelligence by following our blog for regular content and analysis."
      ],
      "text/plain": [
       "<IPython.core.display.Markdown object>"
      ]
     },
     "execution_count": 16,
     "metadata": {},
     "output_type": "execute_result"
    }
   ],
   "source": [
    "from IPython.display import Markdown\n",
    "Markdown(result)"
   ]
  },
  {
   "cell_type": "code",
   "execution_count": null,
   "metadata": {},
   "outputs": [],
   "source": []
  },
  {
   "cell_type": "code",
   "execution_count": null,
   "metadata": {},
   "outputs": [],
   "source": []
  },
  {
   "cell_type": "markdown",
   "metadata": {},
   "source": [
    "## Try it Yourself\n",
    "\n",
    "- Pass in a topic of your choice and see what the agents come up with!"
   ]
  },
  {
   "cell_type": "code",
   "execution_count": null,
   "metadata": {
    "height": 47
   },
   "outputs": [],
   "source": [
    "topic = \"YOUR TOPIC HERE\"\n",
    "\n",
    "topic = \"Text to SQL\"\n",
    "result = crew.kickoff(inputs={\"topic\": topic})"
   ]
  },
  {
   "cell_type": "code",
   "execution_count": null,
   "metadata": {
    "height": 30
   },
   "outputs": [],
   "source": [
    "Markdown(result)"
   ]
  },
  {
   "cell_type": "markdown",
   "metadata": {},
   "source": [
    "<a name='1'></a>\n",
    " ## Other Popular Models as LLM for your Agents"
   ]
  },
  {
   "cell_type": "markdown",
   "metadata": {},
   "source": [
    "#### Hugging Face (HuggingFaceHub endpoint)\n",
    "\n",
    "```Python\n",
    "from langchain_community.llms import HuggingFaceHub\n",
    "\n",
    "llm = HuggingFaceHub(\n",
    "    repo_id=\"HuggingFaceH4/zephyr-7b-beta\",\n",
    "    huggingfacehub_api_token=\"<HF_TOKEN_HERE>\",\n",
    "    task=\"text-generation\",\n",
    ")\n",
    "\n",
    "### you will pass \"llm\" to your agent function\n",
    "```"
   ]
  },
  {
   "cell_type": "markdown",
   "metadata": {},
   "source": [
    "#### Mistral API\n",
    "\n",
    "```Python\n",
    "OPENAI_API_KEY=your-mistral-api-key\n",
    "OPENAI_API_BASE=https://api.mistral.ai/v1\n",
    "OPENAI_MODEL_NAME=\"mistral-small\"\n",
    "```"
   ]
  },
  {
   "cell_type": "markdown",
   "metadata": {},
   "source": [
    "#### Cohere\n",
    "\n",
    "```Python\n",
    "from langchain_community.chat_models import ChatCohere\n",
    "# Initialize language model\n",
    "os.environ[\"COHERE_API_KEY\"] = \"your-cohere-api-key\"\n",
    "llm = ChatCohere()\n",
    "\n",
    "### you will pass \"llm\" to your agent function\n",
    "```"
   ]
  },
  {
   "cell_type": "markdown",
   "metadata": {},
   "source": [
    "### For using Llama locally with Ollama and more, checkout the crewAI documentation on [Connecting to any LLM](https://docs.crewai.com/how-to/LLM-Connections/)."
   ]
  },
  {
   "cell_type": "code",
   "execution_count": null,
   "metadata": {
    "height": 30
   },
   "outputs": [],
   "source": []
  },
  {
   "cell_type": "code",
   "execution_count": null,
   "metadata": {
    "height": 30
   },
   "outputs": [],
   "source": []
  },
  {
   "cell_type": "code",
   "execution_count": null,
   "metadata": {
    "height": 30
   },
   "outputs": [],
   "source": []
  }
 ],
 "metadata": {
  "colab": {
   "gpuType": "T4",
   "provenance": []
  },
  "kernelspec": {
   "display_name": "Python 3 (ipykernel)",
   "language": "python",
   "name": "python3"
  },
  "language_info": {
   "codemirror_mode": {
    "name": "ipython",
    "version": 3
   },
   "file_extension": ".py",
   "mimetype": "text/x-python",
   "name": "python",
   "nbconvert_exporter": "python",
   "pygments_lexer": "ipython3",
   "version": "3.10.12"
  }
 },
 "nbformat": 4,
 "nbformat_minor": 4
}
