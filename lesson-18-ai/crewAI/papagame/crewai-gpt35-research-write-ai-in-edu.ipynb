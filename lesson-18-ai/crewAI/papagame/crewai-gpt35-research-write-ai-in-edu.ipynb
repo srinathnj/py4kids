{
 "cells": [
  {
   "cell_type": "markdown",
   "id": "ebd9f70a-3768-4cf3-8dfb-a8d7460da280",
   "metadata": {},
   "source": [
    "## Use CrewAI\n",
    "\n",
    "- https://docs.crewai.com/how-to/Creating-a-Crew-and-kick-it-off/\n",
    "\n",
    "```\n",
    "conda create -n crewai\n",
    "conda activate crewai\n",
    "sudo apt install python3-pip\n",
    "pip3 install crewai\n",
    "pip3 install \"crewai[tools]\"\n",
    "pip3 install notebook\n",
    "```\n",
    "\n",
    "pkg versions\n",
    "- api_key_store        # 0.1 (2024-05-27)\n",
    "- langchain_community  # 0.0.38 (2024-05-27)\n",
    "- crewai               # 0.30.11 (2024-05-27)\n",
    "- crewai_tools         # 0.2.6 (2024-05-27)"
   ]
  },
  {
   "cell_type": "code",
   "execution_count": 1,
   "id": "358bb964-5a4a-455b-a7bd-a47b3cf96db9",
   "metadata": {},
   "outputs": [],
   "source": [
    "from IPython.display import Markdown\n",
    "import os\n",
    "from time import time\n",
    "\n",
    "from crewai import Agent\n",
    "from crewai_tools import SerperDevTool\n",
    "\n",
    "# import crewai   # Version: 0.30.11\n",
    "from crewai import Task\n",
    "from crewai import Crew, Process\n",
    "\n",
    "from api_key_store import ApiKeyStore\n",
    "from helper import convert_to_filename"
   ]
  },
  {
   "cell_type": "raw",
   "id": "79cac312-766d-4ffa-a695-03a7468f9142",
   "metadata": {},
   "source": [
    "!pwd"
   ]
  },
  {
   "cell_type": "markdown",
   "id": "b2daa1fb-41fd-43be-8272-fc0996737dbc",
   "metadata": {},
   "source": [
    "### Step 0: Configure"
   ]
  },
  {
   "cell_type": "code",
   "execution_count": 2,
   "id": "24e539c6-b657-41dd-816a-9c068a94497a",
   "metadata": {},
   "outputs": [
    {
     "name": "stdout",
     "output_type": "stream",
     "text": [
      "Output filename: blog-ai_in_education.md\n"
     ]
    }
   ],
   "source": [
    "topic = 'AI in education'\n",
    "filename_md = convert_to_filename(topic, file_ext=\"md\")\n",
    "output_filename = f\"blog-{filename_md}\"\n",
    "\n",
    "print(f\"Output filename: {output_filename}\")"
   ]
  },
  {
   "cell_type": "code",
   "execution_count": 3,
   "id": "4a86c3a8-93ac-4df4-832b-76afe1a18e0f",
   "metadata": {},
   "outputs": [],
   "source": [
    "s = ApiKeyStore()"
   ]
  },
  {
   "cell_type": "raw",
   "id": "a13a2a9d-8692-4b14-ae5c-0de60cadd7bc",
   "metadata": {},
   "source": [
    "p = \"SerpApi\"\n",
    "key = s.get_api_key(provider=p)\n",
    "print(f\"{p} : {key}\")"
   ]
  },
  {
   "cell_type": "code",
   "execution_count": 4,
   "id": "53c423be-6d51-43dc-a014-ad9aa3708f8d",
   "metadata": {},
   "outputs": [],
   "source": [
    "os.environ[\"OPENAI_API_KEY\"] = s.get_api_key(provider=\"OPENAI\")  # os.environ[\"API_KEY_OPENAI\"]\n",
    "os.environ[\"SERPER_API_KEY\"] = s.get_api_key(provider=\"SerpApi\")  # os.environ[\"API_KEY_SERPAPI\"]\n",
    "\n",
    "os.environ[\"OPENAI_MODEL_NAME\"] = 'gpt-3.5-turbo'   # gpt-4 was default, throws rate-limit error "
   ]
  },
  {
   "cell_type": "code",
   "execution_count": 5,
   "id": "1f9ea438-a84e-4ba1-8a0d-ca8e6d678438",
   "metadata": {},
   "outputs": [],
   "source": [
    "search_tool = SerperDevTool()"
   ]
  },
  {
   "cell_type": "markdown",
   "id": "3f5bf496-99a9-40e8-ab42-5aea8de04049",
   "metadata": {},
   "source": [
    "### Step 1: Assemble Your Agents"
   ]
  },
  {
   "cell_type": "raw",
   "id": "deb04d02-e5d9-48ce-abbd-15ff39c6e174",
   "metadata": {},
   "source": [
    "# Creating a senior researcher agent with memory and verbose mode\n",
    "researcher = Agent(\n",
    "  role='Senior Researcher',\n",
    "  goal='Uncover groundbreaking technologies in {topic}',\n",
    "  verbose=True,\n",
    "  memory=True,\n",
    "  backstory=(\n",
    "    \"Driven by curiosity, you're at the forefront of\"\n",
    "    \"innovation, eager to explore and share knowledge that could change\"\n",
    "    \"the world.\"\n",
    "  ),\n",
    "  tools=[search_tool],\n",
    "  allow_delegation=True\n",
    ")"
   ]
  },
  {
   "cell_type": "code",
   "execution_count": 6,
   "id": "60ff1ec4-d480-4042-b671-f7d28e1096db",
   "metadata": {},
   "outputs": [],
   "source": [
    "# Creating a senior researcher agent with memory and verbose mode\n",
    "researcher = Agent(\n",
    "  role='Senior Researcher',\n",
    "  goal='Uncover groundbreaking technologies in {topic}',\n",
    "  verbose=True,\n",
    "  memory=True,\n",
    "  backstory=\"\"\"\n",
    "    Driven by curiosity, you're at the forefront of innovation, \n",
    "    eager to explore and share knowledge that could change the world.\n",
    "  \"\"\",\n",
    "  tools=[search_tool],\n",
    "  allow_delegation=True\n",
    ")"
   ]
  },
  {
   "cell_type": "code",
   "execution_count": 7,
   "id": "f6a85614-81fc-4b1a-8755-ee4a8d2e69ce",
   "metadata": {},
   "outputs": [],
   "source": [
    "# Creating a writer agent with custom tools and delegation capability\n",
    "writer = Agent(\n",
    "  role='Writer',\n",
    "  goal='Narrate compelling tech stories about {topic}',\n",
    "  verbose=True,\n",
    "  memory=True,\n",
    "  backstory=\"\"\"\n",
    "    With a flair for simplifying complex topics, you craft engaging narratives that captivate and educate, \n",
    "    bringing new discoveries to light in an accessible manner.\n",
    "  \"\"\",\n",
    "  tools=[search_tool],\n",
    "  allow_delegation=False\n",
    ")"
   ]
  },
  {
   "cell_type": "markdown",
   "id": "ad10f2df-3f8f-46d6-ba99-eb8c02aee3e5",
   "metadata": {},
   "source": [
    "### Step 2: Define the Tasks"
   ]
  },
  {
   "cell_type": "code",
   "execution_count": 8,
   "id": "d6b8fe0c-1ec0-4037-b038-d268f3caabbe",
   "metadata": {},
   "outputs": [],
   "source": [
    "\n",
    "\n",
    "# Research task\n",
    "research_task = Task(\n",
    "  description=\"\"\"\n",
    "    Identify the next big trend in {topic}.\n",
    "    Focus on identifying pros and cons and the overall narrative.\n",
    "    Your final report should clearly articulate the key points,\n",
    "    its market opportunities, and potential risks.\n",
    "  \"\"\",\n",
    "  expected_output='A comprehensive 3 paragraphs long report on the latest AI trends.',\n",
    "  tools=[search_tool],\n",
    "  agent=researcher,\n",
    ")\n",
    "\n",
    "# Writing task with language model configuration\n",
    "write_task = Task(\n",
    "  description=\"\"\"\n",
    "    Compose an insightful article on {topic}.\n",
    "    Focus on the latest trends and how it's impacting the industry.\n",
    "    This article should be easy to understand, engaging, and positive.\n",
    "  \"\"\",\n",
    "  expected_output='A 4 paragraph article on {topic} advancements formatted as markdown.',\n",
    "  tools=[search_tool],\n",
    "  agent=writer,\n",
    "  async_execution=False,\n",
    "  output_file=output_filename,  # 'new-blog-post.md'  # Example of output customization\n",
    ")"
   ]
  },
  {
   "cell_type": "markdown",
   "id": "30d7ea12-3e11-44e8-8b2b-39edbb353497",
   "metadata": {},
   "source": [
    "### Step 3: Form the Crew"
   ]
  },
  {
   "cell_type": "code",
   "execution_count": 9,
   "id": "f463a9dd-0b8b-49c0-a913-25f03f052043",
   "metadata": {},
   "outputs": [],
   "source": [
    "\n",
    "\n",
    "# Forming the tech-focused crew with some enhanced configurations\n",
    "crew = Crew(\n",
    "  agents=[researcher, writer],\n",
    "  tasks=[research_task, write_task],\n",
    "  process=Process.sequential,  # Optional: Sequential task execution is default\n",
    "  memory=True, # False,  # \n",
    "  cache=True, # False,   # \n",
    "  max_rpm=100,\n",
    "  # share_crew=True\n",
    ")"
   ]
  },
  {
   "cell_type": "markdown",
   "id": "7776915d-c82d-4f4d-802a-db21c260febc",
   "metadata": {},
   "source": [
    "### Step 4: Kick It Off"
   ]
  },
  {
   "cell_type": "code",
   "execution_count": null,
   "id": "4f457c73-f268-42d8-9d9d-62f04a36b069",
   "metadata": {},
   "outputs": [],
   "source": []
  },
  {
   "cell_type": "code",
   "execution_count": 10,
   "id": "ecf682b9-5cd5-4eb0-a10b-50add150882e",
   "metadata": {},
   "outputs": [
    {
     "name": "stdout",
     "output_type": "stream",
     "text": [
      "\n",
      "\n",
      "\u001b[1m> Entering new CrewAgentExecutor chain...\u001b[0m\n",
      "\u001b[32;1m\u001b[1;3mI need to gather as much information as possible on the latest trends in AI in education, including the pros and cons, market opportunities, and potential risks. I should use the tools available to me to conduct thorough research and analysis to provide a comprehensive report.\n",
      "\n",
      "Action:\n",
      "Search the internet\n",
      "\n",
      "Action Input:\n",
      "{\n",
      "  \"search_query\": \"latest trends in AI in education 2021\"\n",
      "}\n",
      "\u001b[0m\u001b[95m \n",
      "\n",
      "\n",
      "Search results: Title: [PDF] Artificial Intelligence and the Future of Teaching and Learning (PDF)\n",
      "Link: https://www2.ed.gov/documents/ai-report/ai-report.pdf\n",
      "Snippet: Recently, through its activities with constituents, the Department noticed a sharp rise in interest and concern about AI. For example, a 2021 field scan found ...\n",
      "---\n",
      "Title: 5 AI Trends Changing Education In 2022 - EDGEucating\n",
      "Link: https://edgeucating.com/5-artificial-intelligence-trends-in-education-in-2022/\n",
      "Snippet: In 2022, Artificial Intelligence trends in education are showing up in everything from classroom management tools to cybersecurity.\n",
      "---\n",
      "Title: Artificial intelligence in education - UNESCO\n",
      "Link: https://www.unesco.org/en/digital-education/artificial-intelligence\n",
      "Snippet: Artificial Intelligence (AI) has the potential to address some of the biggest challenges in education today, innovate teaching and learning practices, ...\n",
      "---\n",
      "Title: AI Trends In Education And The Workforce That You Should Know ...\n",
      "Link: https://www.forbes.com/sites/sergeirevzin/2023/04/27/ai-trends-in-education-and-the-workforce-that-you-should-know-about-in-2023/\n",
      "Snippet: The effect of AI on Education in particular, from K-12 through adult learning, has been written about for years, but has officially gone ...\n",
      "---\n",
      "Title: 3 AI Trends to Watch in K–12 Educational Technology for 2022\n",
      "Link: https://edtechmagazine.com/k12/article/2021/12/3-ai-trends-watch-k-12-educational-technology-2022\n",
      "Snippet: 1. AI in Digital Assistants Helps K–12 Teachers Manage Classrooms · 2. Next-Generation Cybersecurity Solutions Integrate AI Technology · 3.\n",
      "---\n",
      "Title: The Hype and Hope of Generative AI in Education\n",
      "Link: https://www.ifl-news.pitt.edu/2024/02/the-hype-and-hope-of-generative-ai-in-education/\n",
      "Snippet: In 2021, 45 percent of schools reported ... trend. The views are given ... North Carolina is the latest state to release AI guidance for schools.\n",
      "---\n",
      "Title: The AI Index: Emerging Trends in AI Education - CRN\n",
      "Link: https://cra.org/crn/2021/04/the-ai-index-emerging-trends-in-ai-education/\n",
      "Snippet: This article is published in the April 2021 issue. The AI Index: Emerging Trends in AI Education. By: Saurabh Mishra, Stanford UniversityIn: April 2021, Vol.\n",
      "---\n",
      "Title: Top Artificial Intelligence Trends for The Future Of Education - Medium\n",
      "Link: https://medium.com/@menubia/top-artificial-intelligence-trends-for-the-future-of-education-3003023f9abe\n",
      "Snippet: Some bold predictions from 2021 about AI. · AI Will Drive Efficiency · AI Personalized Learning · AI and Cloud Computing will Promote MOOC · Grading ...\n",
      "---\n",
      "Title: AI in Education: The Future of Teaching 2021 - Global Tech Council\n",
      "Link: https://www.globaltechcouncil.org/artificial-intelligence/ai-in-education-the-future-of-teaching-2021/\n",
      "Snippet: Need of AI in education for futuristic teaching: · 1. Decrease the teacher shortage: · 2. Conducting exam: · 3. Improve teaching technique: · 4.\n",
      "---\n",
      "Title: AI technologies for education: Recent research & future directions\n",
      "Link: https://www.sciencedirect.com/science/article/pii/S2666920X21000199\n",
      "Snippet: This article reports the current state of AIEd research, highlights selected AIEd technologies and applications, reviews their proven and potential benefits ...\n",
      "---\n",
      "\n",
      "\u001b[00m\n",
      "\u001b[32;1m\u001b[1;3mThought:\n",
      "I have found several relevant sources that discuss the latest trends in AI in education. I need to review these sources to extract key information on the pros and cons, market opportunities, and potential risks associated with these trends.\n",
      "\n",
      "Action:\n",
      "Search the internet\n",
      "\n",
      "Action Input:\n",
      "{\n",
      "  \"search_query\": \"pros and cons of AI trends in education 2021\"\n",
      "}\n",
      "\u001b[0m\u001b[95m \n",
      "\n",
      "\n",
      "Search results: Title: 5 Pros and Cons of AI in the Education Sector | Walden University\n",
      "Link: https://www.waldenu.edu/programs/education/resource/five-pros-and-cons-of-ai-in-the-education-sector\n",
      "Snippet: Using artificial intelligence in education offers potential opportunities and advantages—but it also comes with challenges and potential drawbacks.\n",
      "---\n",
      "Title: AI in Education - Education Next\n",
      "Link: https://www.educationnext.org/a-i-in-education-leap-into-new-era-machine-intelligence-carries-risks-challenges-promises/\n",
      "Snippet: Students might use AI to solve homework problems or take quizzes. AI-generated essays threaten to undermine learning as well as the college- ...\n",
      "---\n",
      "Title: Pros and Cons of Artificial Intelligence in Education - ResearchGate\n",
      "Link: https://www.researchgate.net/publication/379020574_Pros_and_Cons_of_Artificial_Intelligence_in_Education\n",
      "Snippet: The conclusion depicts the future trends, including AI-enhanced personalization, integration of VR/AR, ethical AI education, and AI-driven ...\n",
      "---\n",
      "Title: Advantages and benefits of AI in Education. Explore Pros and Cons\n",
      "Link: https://www.jamf.com/blog/pros-cons-ai-in-education/\n",
      "Snippet: AI-driven platforms can provide students with access to a wealth of educational content and resources, from interactive simulations to online ...\n",
      "---\n",
      "Title: [PDF] Artificial Intelligence and the Future of Teaching and Learning (PDF)\n",
      "Link: https://www2.ed.gov/documents/ai-report/ai-report.pdf\n",
      "Snippet: Ethical problems will occur in education, too.3 ... (November 8, 2021) Safe AI in education needs you. ... potential benefits of AI? • Is classroom AI use ...\n",
      "---\n",
      "Title: AI in education: Use cases, benefits, solution and implementation\n",
      "Link: https://www.leewayhertz.com/ai-use-cases-in-education/\n",
      "Snippet: Discover how AI transforms the education industry with smarter classrooms. Read about the benefits, use cases, and future trends in our latest article.\n",
      "---\n",
      "Title: “Exploring the Pros and Cons of AI in Education: A Critical Analysis ...\n",
      "Link: https://sdo-meycauayan.com/2023/04/13/exploring-the-pros-and-cons-of-ai-in-education-a-critical-analysis/\n",
      "Snippet: AI has transformed traditional teaching and learning methods by offering personalized learning experiences and efficient grading and feedback ...\n",
      "---\n",
      "Title: What are the Advantages and Disadvantages of AI in Education?\n",
      "Link: https://www.careerera.com/blog/advantages-and-disadvantages-of-ai-in-education\n",
      "Snippet: The use of artificial intelligence in schools has numerous drawbacks. The biggest one is that it reduces kids' ability to think critically and ...\n",
      "---\n",
      "Title: AI in education: where we are and what happens next\n",
      "Link: https://corp.oup.com/feature/ai-in-education-where-we-are-and-what-happens-next/\n",
      "Snippet: There are two sides to using AI in education: as a topic and as a tool. Our research shows that the topic of AI is already part of many national ...\n",
      "---\n",
      "Title: Artificial Intelligence (AI) — Top 3 Pros and Cons - ProCon.org\n",
      "Link: https://www.procon.org/headlines/artificial-intelligence-ai-top-3-pros-and-cons/\n",
      "Snippet: Artificial Intelligence (AI) — Top 3 Pros and Cons ; Pro 1. AI can make everyday life more convenient and enjoyable, improving our health and standard of living.\n",
      "---\n",
      "\n",
      "\u001b[00m\n",
      "\u001b[32;1m\u001b[1;3mThought:\n",
      "I have gathered valuable information on the latest trends in AI in education and the pros and cons associated with these trends. Now, I need to analyze this data and synthesize it into a comprehensive report that clearly articulates the key points, market opportunities, and potential risks in the field of AI in education.\n",
      "\n",
      "Action:\n",
      "Search the internet\n",
      "\n",
      "Action Input:\n",
      "{\n",
      "  \"search_query\": \"market opportunities and potential risks of AI trends in education 2021\"\n",
      "}\n",
      "\u001b[0m\u001b[95m \n",
      "\n",
      "\n",
      "Search results: Title: AI in Education Market Trends and Growth Perspectives: Top Key ...\n",
      "Link: https://www.linkedin.com/pulse/ai-education-market-trends-growth-perspectives-top-49fse\n",
      "Snippet: According to the latest research, the global AI in Education market size was valued at USD XX million in 2022 and is expected to expand at a ...\n",
      "---\n",
      "Title: [PDF] Artificial Intelligence and the Future of Teaching and Learning (PDF)\n",
      "Link: https://www2.ed.gov/documents/ai-report/ai-report.pdf\n",
      "Snippet: Of the highest importance, AI brings new risks in addition to the well-known data privacy and data security risks, such as the risk of scaling pattern ...\n",
      "---\n",
      "Title: AI in Education - Education Next\n",
      "Link: https://www.educationnext.org/a-i-in-education-leap-into-new-era-machine-intelligence-carries-risks-challenges-promises/\n",
      "Snippet: As a result, AI could intensify and worsen the public health crisis of loneliness, isolation, and lack of connection identified by the U.S. ...\n",
      "---\n",
      "Title: Artificial Intelligence in Education Market: Opportunities and ...\n",
      "Link: https://www.linkedin.com/pulse/artificial-intelligence-education-market-opportunities-\n",
      "Snippet: Global Artificial intelligence In Education Market is valued at USD 1.75 Billion in 2021 and expected to reach USD 17.\n",
      "---\n",
      "Title: AI in Education Market Statistics, Trends & Growth Opportunity 2032\n",
      "Link: https://www.gminsights.com/industry-analysis/artificial-intelligence-ai-in-education-market\n",
      "Snippet: Pitfalls & Challenges: Data safety & security issues; Limitation of ITS; Lack of skilled professionals. What are the growth opportunities in this market?\n",
      "---\n",
      "Title: Six generative AI trends in education for 2024: opportunities and risks\n",
      "Link: https://blogs.uoc.edu/elearning-innovation-center/six-generative-ai-trends-in-education-for-2024-opportunities-and-risks/\n",
      "Snippet: Trend 5: Adaptive learning based on student performance · Possible biases in the algorithms used to adapt the learning experience. · Dependence on ...\n",
      "---\n",
      "Title: Potential Risks of Artificial Intelligence Integration into School ...\n",
      "Link: https://journals.sagepub.com/doi/10.1177/02704676231224705\n",
      "Snippet: Murphy (2019) identified several potential risks of AI in school including data privacy, security, access to appropriate data to train AI, ...\n",
      "---\n",
      "Title: (PDF) Artificial Intelligence in Education: Exploring the Potential ...\n",
      "Link: https://www.researchgate.net/publication/370474286_Artificial_Intelligence_in_Education_Exploring_the_Potential_Benefits_and_Risks\n",
      "Snippet: This paper explores AI's potential benefits and risks in education, including personalized learning, improved assessment, reduced planning time for teachers, ...\n",
      "---\n",
      "Title: Systematic literature review on opportunities, challenges, and future ...\n",
      "Link: https://www.sciencedirect.com/science/article/pii/S2666920X2200073X\n",
      "Snippet: The impact of AI on education remains unclear (Holmes et al., 2021), and more research is needed to understand whether and how these emerging technologies ...\n",
      "---\n",
      "Title: Generative AI in Education: Past, Present, and Future\n",
      "Link: https://er.educause.edu/articles/sponsored/2023/9/generative-ai-in-education-past-present-and-future\n",
      "Snippet: Despite the real and potential promise of generative AI applications in higher education, several risks remain. \"Hallucinations\"—False answers ...\n",
      "---\n",
      "\n",
      "\u001b[00m\n",
      "\u001b[32;1m\u001b[1;3mThought: I now have all the necessary information to compile a comprehensive report on the latest trends in AI in education, including the pros and cons, market opportunities, and potential risks.\n",
      "\n",
      "Final Answer:\n",
      "\n",
      "Artificial Intelligence (AI) has been making significant strides in the field of education, with several key trends emerging in 2021 and beyond. Some of the latest trends include the integration of AI in classroom management tools, cybersecurity, digital assistants for teachers, and next-generation cybersecurity solutions. These advancements are aimed at enhancing teaching and learning practices, improving classroom efficiency, and providing personalized learning experiences to students. Additionally, the use of AI in education is expected to drive efficiency, promote personalized learning, and leverage cloud computing to enhance Massive Open Online Courses (MOOCs). However, with these advancements come challenges and potential risks that need to be carefully considered.\n",
      "\n",
      "When exploring the pros and cons of AI in the education sector, it becomes clear that while AI offers significant opportunities such as personalized learning experiences, efficient grading, and access to a wealth of educational resources, it also presents challenges. Some of the cons associated with AI in education include the risk of undermining traditional learning methods, ethical concerns related to AI-generated content, and the potential reduction in critical thinking abilities among students. Therefore, a balanced approach must be taken to leverage the benefits of AI in education while mitigating its drawbacks.\n",
      "\n",
      "In terms of market opportunities and potential risks, the global AI in Education market is experiencing rapid growth, with opportunities for innovation and technological advancements in the sector. The market size was valued at USD XX million in 2022 and is expected to expand further. However, along with these opportunities come risks such as data privacy and security concerns, potential biases in algorithms, and the need for skilled professionals to navigate the complex landscape of AI in education. It is crucial for stakeholders to be aware of these risks and work towards developing strategies to maximize the benefits of AI while minimizing its potential negative impacts.\u001b[0m\n",
      "\n",
      "\u001b[1m> Finished chain.\u001b[0m\n",
      "\n",
      "\n",
      "\u001b[1m> Entering new CrewAgentExecutor chain...\u001b[0m\n",
      "\u001b[32;1m\u001b[1;3mI need to gather the latest trends and advancements in AI in education to create an insightful article.\n",
      "\n",
      "Action: Search the internet\n",
      "Action Input: {\"latest trends in AI in education 2021\"}\u001b[0m\u001b[32;1m\u001b[1;3mThought: I need to refine my search query to gather the latest trends and advancements in AI in education.\n",
      "\n",
      "Action: Search the internet\n",
      "Action Input: {\"latest trends in AI in education 2021\"}\u001b[0m\u001b[32;1m\u001b[1;3mThought: I need to adjust my search query format to successfully gather information on the latest trends in AI in education.\n",
      "\n",
      "Action: Search the internet\n",
      "Action Input: \"latest trends in AI in education 2021\"\u001b[0m\u001b[95m \n",
      "\n",
      "I tried reusing the same input, I must stop using this action input. I'll try something else instead.\n",
      "\n",
      "\n",
      "\u001b[00m\n",
      "\u001b[32;1m\u001b[1;3mThought: I need to adjust my search query format to successfully gather information on the latest trends in AI in education.\n",
      "\n",
      "Action: Search the internet\n",
      "Action Input: {\"query\": \"latest trends in AI in education 2021\"}\u001b[0m\u001b[95m \n",
      "\n",
      "{'message': 'Missing query parameter', 'statusCode': 400}\n",
      "\u001b[00m\n"
     ]
    },
    {
     "name": "stderr",
     "output_type": "stream",
     "text": [
      "2024-05-27 09:51:08,587 - 124614223450112 - sqlite.py-sqlite:284 - WARNING: Insert of existing embedding ID: default-app-id--83f2f7ec8caefb27c539ba00af0140f9de7c4b57f53638eea1faa8c8d5c2e610\n"
     ]
    },
    {
     "name": "stdout",
     "output_type": "stream",
     "text": [
      "\u001b[32;1m\u001b[1;3mThought: I need to adjust my search query format to successfully gather information on the latest trends in AI in education.\n",
      "\n",
      "Action: Search the internet\n",
      "Action Input: \"latest trends in AI in education 2021\"\u001b[0m\u001b[95m \n",
      "\n",
      "{'message': 'Missing query parameter', 'statusCode': 400}\n",
      "\u001b[00m\n",
      "\u001b[32;1m\u001b[1;3mThought: I need to adjust my search query format to successfully gather information on the latest trends in AI in education.\n",
      "\n",
      "Action: Search the internet\n",
      "Action Input: \"latest trends in AI in education\"\u001b[0m\u001b[95m \n",
      "\n",
      "{'message': 'Missing query parameter', 'statusCode': 400}\n",
      "\u001b[00m\n"
     ]
    },
    {
     "name": "stderr",
     "output_type": "stream",
     "text": [
      "2024-05-27 09:51:12,036 - 124614223450112 - sqlite.py-sqlite:284 - WARNING: Insert of existing embedding ID: default-app-id--706843010f279314f58144ddbf78acccb248fab2df110af71be0f55b4db3cceb\n"
     ]
    },
    {
     "name": "stdout",
     "output_type": "stream",
     "text": [
      "\u001b[32;1m\u001b[1;3mThought: I need to adjust my search query format to successfully gather information on the latest trends in AI in education.\n",
      "\n",
      "Action: Search the internet\n",
      "Action Input: \"latest trends in AI in education\"\u001b[0m\u001b[95m \n",
      "\n",
      "{'message': 'Missing query parameter', 'statusCode': 400}\n",
      "\u001b[00m\n",
      "\u001b[32;1m\u001b[1;3mThought: I need to adjust my search query format to successfully gather information on the latest trends in AI in education.\n",
      "\n",
      "Action: Search the internet\n",
      "Action Input: {\"search_query\": \"latest trends in AI in education 2021\"}\u001b[0m\u001b[95m \n",
      "\n",
      "\n",
      "Search results: Title: [PDF] Artificial Intelligence and the Future of Teaching and Learning (PDF)\n",
      "Link: https://www2.ed.gov/documents/ai-report/ai-report.pdf\n",
      "Snippet: Recently, through its activities with constituents, the Department noticed a sharp rise in interest and concern about AI. For example, a 2021 field scan found ...\n",
      "---\n",
      "Title: 5 AI Trends Changing Education In 2022 - EDGEucating\n",
      "Link: https://edgeucating.com/5-artificial-intelligence-trends-in-education-in-2022/\n",
      "Snippet: In 2022, Artificial Intelligence trends in education are showing up in everything from classroom management tools to cybersecurity.\n",
      "---\n",
      "Title: Artificial intelligence in education - UNESCO\n",
      "Link: https://www.unesco.org/en/digital-education/artificial-intelligence\n",
      "Snippet: Artificial Intelligence (AI) has the potential to address some of the biggest challenges in education today, innovate teaching and learning practices, ...\n",
      "---\n",
      "Title: AI Trends In Education And The Workforce That You Should Know ...\n",
      "Link: https://www.forbes.com/sites/sergeirevzin/2023/04/27/ai-trends-in-education-and-the-workforce-that-you-should-know-about-in-2023/\n",
      "Snippet: The effect of AI on Education in particular, from K-12 through adult learning, has been written about for years, but has officially gone ...\n",
      "---\n",
      "Title: 3 AI Trends to Watch in K–12 Educational Technology for 2022\n",
      "Link: https://edtechmagazine.com/k12/article/2021/12/3-ai-trends-watch-k-12-educational-technology-2022\n",
      "Snippet: 1. AI in Digital Assistants Helps K–12 Teachers Manage Classrooms · 2. Next-Generation Cybersecurity Solutions Integrate AI Technology · 3.\n",
      "---\n",
      "Title: The Hype and Hope of Generative AI in Education\n",
      "Link: https://www.ifl-news.pitt.edu/2024/02/the-hype-and-hope-of-generative-ai-in-education/\n",
      "Snippet: In 2021, 45 percent of schools reported ... trend. The views are given ... North Carolina is the latest state to release AI guidance for schools.\n",
      "---\n",
      "Title: The AI Index: Emerging Trends in AI Education - CRN\n",
      "Link: https://cra.org/crn/2021/04/the-ai-index-emerging-trends-in-ai-education/\n",
      "Snippet: This article is published in the April 2021 issue. The AI Index: Emerging Trends in AI Education. By: Saurabh Mishra, Stanford UniversityIn: April 2021, Vol.\n",
      "---\n",
      "Title: Top Artificial Intelligence Trends for The Future Of Education - Medium\n",
      "Link: https://medium.com/@menubia/top-artificial-intelligence-trends-for-the-future-of-education-3003023f9abe\n",
      "Snippet: Some bold predictions from 2021 about AI. · AI Will Drive Efficiency · AI Personalized Learning · AI and Cloud Computing will Promote MOOC · Grading ...\n",
      "---\n",
      "Title: AI in Education: The Future of Teaching 2021 - Global Tech Council\n",
      "Link: https://www.globaltechcouncil.org/artificial-intelligence/ai-in-education-the-future-of-teaching-2021/\n",
      "Snippet: Need of AI in education for futuristic teaching: · 1. Decrease the teacher shortage: · 2. Conducting exam: · 3. Improve teaching technique: · 4.\n",
      "---\n",
      "Title: AI technologies for education: Recent research & future directions\n",
      "Link: https://www.sciencedirect.com/science/article/pii/S2666920X21000199\n",
      "Snippet: This article reports the current state of AIEd research, highlights selected AIEd technologies and applications, reviews their proven and potential benefits ...\n",
      "---\n",
      "\n",
      "\u001b[00m\n",
      "\u001b[32;1m\u001b[1;3mFinal Answer:\n",
      "\n",
      "# The Impact of Artificial Intelligence in Education\n",
      "\n",
      "Artificial Intelligence (AI) has been revolutionizing the education sector with its innovative applications. In 2021 and beyond, several key trends have emerged, showcasing the potential of AI in transforming teaching and learning practices. From integrating AI into classroom management tools to leveraging digital assistants for teachers, the advancements in AI are aimed at enhancing educational experiences for both educators and students alike.\n",
      "\n",
      "One of the significant trends in AI in education is the focus on personalized learning experiences. AI algorithms can analyze student data to create tailored learning paths, catering to individual strengths and weaknesses. This personalized approach not only enhances student engagement but also improves learning outcomes. Additionally, AI is being used to streamline grading processes, freeing up educators to focus on more impactful teaching strategies.\n",
      "\n",
      "While AI in education offers numerous benefits, it also poses challenges that need to be addressed. Ethical concerns surrounding AI-generated content, the risk of replacing traditional teaching methods entirely, and the potential impact on students' critical thinking skills are some of the cons associated with AI integration. It is crucial for stakeholders to adopt a balanced approach, leveraging AI's benefits while mitigating its drawbacks to ensure a well-rounded educational experience.\n",
      "\n",
      "As the global AI in Education market continues to expand, opportunities for innovation and technological advancements are on the rise. Market size valuations are increasing, indicating a growing interest in AI-driven solutions within the education sector. However, along with these opportunities come risks such as data privacy concerns, algorithm biases, and the need for skilled professionals to navigate the evolving landscape of AI in education. Stakeholders must stay informed about these risks and collaborate to develop strategies that maximize the benefits of AI while minimizing potential negative impacts.\n",
      "\n",
      "In conclusion, the integration of AI in education represents a significant step towards enhancing teaching and learning practices. By embracing the latest trends and advancements in AI, educators and students can benefit from personalized learning experiences, improved efficiency, and innovative teaching methods. While challenges exist, a proactive approach to AI implementation can lead to a more effective and engaging educational environment for all.\u001b[0m\n",
      "\n",
      "\u001b[1m> Finished chain.\u001b[0m\n"
     ]
    },
    {
     "data": {
      "text/markdown": [
       "# The Impact of Artificial Intelligence in Education\n",
       "\n",
       "Artificial Intelligence (AI) has been revolutionizing the education sector with its innovative applications. In 2021 and beyond, several key trends have emerged, showcasing the potential of AI in transforming teaching and learning practices. From integrating AI into classroom management tools to leveraging digital assistants for teachers, the advancements in AI are aimed at enhancing educational experiences for both educators and students alike.\n",
       "\n",
       "One of the significant trends in AI in education is the focus on personalized learning experiences. AI algorithms can analyze student data to create tailored learning paths, catering to individual strengths and weaknesses. This personalized approach not only enhances student engagement but also improves learning outcomes. Additionally, AI is being used to streamline grading processes, freeing up educators to focus on more impactful teaching strategies.\n",
       "\n",
       "While AI in education offers numerous benefits, it also poses challenges that need to be addressed. Ethical concerns surrounding AI-generated content, the risk of replacing traditional teaching methods entirely, and the potential impact on students' critical thinking skills are some of the cons associated with AI integration. It is crucial for stakeholders to adopt a balanced approach, leveraging AI's benefits while mitigating its drawbacks to ensure a well-rounded educational experience.\n",
       "\n",
       "As the global AI in Education market continues to expand, opportunities for innovation and technological advancements are on the rise. Market size valuations are increasing, indicating a growing interest in AI-driven solutions within the education sector. However, along with these opportunities come risks such as data privacy concerns, algorithm biases, and the need for skilled professionals to navigate the evolving landscape of AI in education. Stakeholders must stay informed about these risks and collaborate to develop strategies that maximize the benefits of AI while minimizing potential negative impacts.\n",
       "\n",
       "In conclusion, the integration of AI in education represents a significant step towards enhancing teaching and learning practices. By embracing the latest trends and advancements in AI, educators and students can benefit from personalized learning experiences, improved efficiency, and innovative teaching methods. While challenges exist, a proactive approach to AI implementation can lead to a more effective and engaging educational environment for all."
      ],
      "text/plain": [
       "<IPython.core.display.Markdown object>"
      ]
     },
     "execution_count": 10,
     "metadata": {},
     "output_type": "execute_result"
    }
   ],
   "source": [
    "# Starting the task execution process with enhanced feedback\n",
    "ts_start = time()\n",
    "result = crew.kickoff(inputs={'topic': topic})\n",
    "ts_stop = time()\n",
    "\n",
    "Markdown(result)"
   ]
  },
  {
   "cell_type": "code",
   "execution_count": 11,
   "id": "bee38d0f-dfac-4bcc-9f84-742d7f9e0ea5",
   "metadata": {},
   "outputs": [
    {
     "name": "stdout",
     "output_type": "stream",
     "text": [
      "\n",
      "\n",
      "Elapsed time: 40.523688077926636 sec\n"
     ]
    }
   ],
   "source": [
    "print(f\"\\n\\nElapsed time: {ts_stop-ts_start} sec\")"
   ]
  },
  {
   "cell_type": "code",
   "execution_count": 13,
   "id": "eee7fcf3-0211-4649-ab67-307c9121b69f",
   "metadata": {},
   "outputs": [
    {
     "data": {
      "text/plain": [
       "['blog-ai-healthcare.md']"
      ]
     },
     "execution_count": 13,
     "metadata": {},
     "output_type": "execute_result"
    }
   ],
   "source": [
    "import glob\n",
    "glob.glob(\"blog-*\")"
   ]
  },
  {
   "cell_type": "code",
   "execution_count": null,
   "id": "6079ff35-0d3e-4bca-a977-16bb22271485",
   "metadata": {},
   "outputs": [],
   "source": []
  }
 ],
 "metadata": {
  "kernelspec": {
   "display_name": "Python 3 (ipykernel)",
   "language": "python",
   "name": "python3"
  },
  "language_info": {
   "codemirror_mode": {
    "name": "ipython",
    "version": 3
   },
   "file_extension": ".py",
   "mimetype": "text/x-python",
   "name": "python",
   "nbconvert_exporter": "python",
   "pygments_lexer": "ipython3",
   "version": "3.10.12"
  }
 },
 "nbformat": 4,
 "nbformat_minor": 5
}
