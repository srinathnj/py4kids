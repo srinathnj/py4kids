{
 "cells": [
  {
   "cell_type": "code",
   "execution_count": 1,
   "id": "0747057d",
   "metadata": {},
   "outputs": [],
   "source": [
    "def selection_sort(arr):\n",
    "    # Get length of array\n",
    "    n = len(arr)\n",
    "    \n",
    "    # Traverse through all array elements\n",
    "    for i in range(n):\n",
    "        # Find the minimum element in remaining unsorted array\n",
    "        min_idx = i\n",
    "        for j in range(i+1, n):\n",
    "            if arr[j] < arr[min_idx]:\n",
    "                min_idx = j\n",
    "                \n",
    "        # Swap the found minimum element with the first element\n",
    "        arr[i], arr[min_idx] = arr[min_idx], arr[i]\n",
    "    \n",
    "    return arr\n",
    "\n",
    "# Helper function to demonstrate usage\n",
    "def demonstrate_selection_sort():\n",
    "    # Example usage\n",
    "    test_array = [64, 34, 25, 12, 22, 11, 90]\n",
    "    print(\"Original array:\", test_array)\n",
    "    \n",
    "    sorted_array = selection_sort(test_array.copy())\n",
    "    print(\"Sorted array:\", sorted_array)\n",
    "    \n",
    "    # Step by step demonstration\n",
    "    arr = test_array.copy()\n",
    "    print(\"\\nStep by step sorting process:\")\n",
    "    for i in range(len(arr)):\n",
    "        min_idx = i\n",
    "        for j in range(i+1, len(arr)):\n",
    "            if arr[j] < arr[min_idx]:\n",
    "                min_idx = j\n",
    "        arr[i], arr[min_idx] = arr[min_idx], arr[i]\n",
    "        print(f\"Step {i+1}: {arr}\")"
   ]
  },
  {
   "cell_type": "code",
   "execution_count": 2,
   "id": "951e05d2",
   "metadata": {},
   "outputs": [
    {
     "name": "stdout",
     "output_type": "stream",
     "text": [
      "Original array: [64, 34, 25, 12, 22, 11, 90]\n",
      "Sorted array: [11, 12, 22, 25, 34, 64, 90]\n",
      "\n",
      "Step by step sorting process:\n",
      "Step 1: [11, 34, 25, 12, 22, 64, 90]\n",
      "Step 2: [11, 12, 25, 34, 22, 64, 90]\n",
      "Step 3: [11, 12, 22, 34, 25, 64, 90]\n",
      "Step 4: [11, 12, 22, 25, 34, 64, 90]\n",
      "Step 5: [11, 12, 22, 25, 34, 64, 90]\n",
      "Step 6: [11, 12, 22, 25, 34, 64, 90]\n",
      "Step 7: [11, 12, 22, 25, 34, 64, 90]\n"
     ]
    }
   ],
   "source": [
    "demonstrate_selection_sort() "
   ]
  },
  {
   "cell_type": "code",
   "execution_count": null,
   "id": "adb8333b",
   "metadata": {},
   "outputs": [],
   "source": []
  }
 ],
 "metadata": {
  "kernelspec": {
   "display_name": "Python 3 (ipykernel)",
   "language": "python",
   "name": "python3"
  },
  "language_info": {
   "codemirror_mode": {
    "name": "ipython",
    "version": 3
   },
   "file_extension": ".py",
   "mimetype": "text/x-python",
   "name": "python",
   "nbconvert_exporter": "python",
   "pygments_lexer": "ipython3",
   "version": "3.9.13"
  },
  "nbTranslate": {
   "displayLangs": [
    "*"
   ],
   "hotkey": "alt-t",
   "langInMainMenu": true,
   "sourceLang": "en",
   "targetLang": "fr",
   "useGoogleTranslate": true
  },
  "toc": {
   "base_numbering": 1,
   "nav_menu": {},
   "number_sections": true,
   "sideBar": true,
   "skip_h1_title": false,
   "title_cell": "Table of Contents",
   "title_sidebar": "Contents",
   "toc_cell": false,
   "toc_position": {},
   "toc_section_display": true,
   "toc_window_display": false
  }
 },
 "nbformat": 4,
 "nbformat_minor": 5
}
