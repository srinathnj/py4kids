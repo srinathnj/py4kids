{
 "cells": [
  {
   "cell_type": "code",
   "execution_count": 25,
   "id": "78b6479b-2c8c-4295-bf83-050c0bfb41eb",
   "metadata": {},
   "outputs": [
    {
     "name": "stdout",
     "output_type": "stream",
     "text": [
      "/home/gongai/projects/wgong/py4kids/lesson-18-ai/vanna/note_book/gongai\n"
     ]
    }
   ],
   "source": [
    "!pwd"
   ]
  },
  {
   "cell_type": "markdown",
   "id": "d2939896-2f5a-4fa5-85e9-e072df643b78",
   "metadata": {},
   "source": [
    "Quick-and-Dirty"
   ]
  },
  {
   "cell_type": "code",
   "execution_count": 17,
   "id": "e1e28644-057e-4f6f-b05c-12e434bbf5c7",
   "metadata": {},
   "outputs": [],
   "source": [
    "s = \"export API_KEY_VENDOR=123_456\""
   ]
  },
  {
   "cell_type": "code",
   "execution_count": 18,
   "id": "4368e93c-f009-44ac-ba71-e47c6ba342f3",
   "metadata": {},
   "outputs": [],
   "source": [
    "def revise_exp_str(s):\n",
    "    '''\n",
    "    rename environ var \n",
    "    from \n",
    "        export API_KEY_VENDOR=123_456\n",
    "    to \n",
    "        export VENDOR_API_KEY=123_456\n",
    "    '''\n",
    "    s2 = s.replace(\"export API_KEY_\", \"\").replace('\"','')\n",
    "    x = s2.split(\"=\")\n",
    "    if len(x) != 2:\n",
    "        raise Exception(f\"Unexcepted string pattern: {s}\")\n",
    "    return f\"export {x[0]}_API_KEY={x[1]}\""
   ]
  },
  {
   "cell_type": "code",
   "execution_count": 19,
   "id": "473654f7-5ec7-47a8-a159-e83b50473884",
   "metadata": {},
   "outputs": [
    {
     "data": {
      "text/plain": [
       "'export VENDOR_API_KEY=123_456'"
      ]
     },
     "execution_count": 19,
     "metadata": {},
     "output_type": "execute_result"
    }
   ],
   "source": [
    "revise_exp_str(s)"
   ]
  },
  {
   "cell_type": "code",
   "execution_count": 20,
   "id": "1c102303-b2c2-43d6-b451-ea3a5f49c25b",
   "metadata": {},
   "outputs": [],
   "source": [
    "ss = \"\"\" \n",
    "\"export API_KEY_VENDOR_1=123_456\"\n",
    "export API_KEY_VENDOR_2=abc_xyz\n",
    "\"\"\""
   ]
  },
  {
   "cell_type": "code",
   "execution_count": 21,
   "id": "1445996f-25c0-434a-b6f2-c750c0108f9f",
   "metadata": {},
   "outputs": [
    {
     "name": "stdout",
     "output_type": "stream",
     "text": [
      "export VENDOR_1_API_KEY=123_456\n",
      "export VENDOR_2_API_KEY=abc_xyz\n"
     ]
    }
   ],
   "source": [
    "out = []\n",
    "for s in [i.strip() for i in ss.split(\"\\n\") if i.strip()]:\n",
    "    try:\n",
    "        s_out = revise_exp_str(s)\n",
    "        out.append(s_out)\n",
    "    except Exception as e:\n",
    "        print(str(e))\n",
    "print(\"\\n\".join(out))"
   ]
  },
  {
   "cell_type": "markdown",
   "id": "f148e100-ced6-424c-997b-ea545da3567d",
   "metadata": {},
   "source": [
    "Claude suggests"
   ]
  },
  {
   "cell_type": "code",
   "execution_count": 24,
   "id": "d3644496-b6e7-4021-ba8d-a4ad2cd57ee3",
   "metadata": {},
   "outputs": [
    {
     "name": "stdout",
     "output_type": "stream",
     "text": [
      "Test passed: export API_KEY_VENDOR=123_456\n",
      "Test passed: export MY_API_KEY_VENDOR=123_456\n",
      "Test passed: export VENDOR_API_KEY=123_456\n",
      "Test passed: export SOMETHING_ELSE=value\n",
      "Test passed: export API_VENDOR=value\n",
      "Test passed: not_an_export_statement\n",
      "Test passed: \n"
     ]
    }
   ],
   "source": [
    "def revise_exp_str(s):\n",
    "    '''\n",
    "    rename environ var \n",
    "    from \n",
    "        export API_KEY_VENDOR=123_456\n",
    "    to \n",
    "        export VENDOR_API_KEY=123_456\n",
    "    \n",
    "    Args:\n",
    "        s (str): Input string containing export statement\n",
    "        \n",
    "    Returns:\n",
    "        str: Modified export statement with reordered variable name\n",
    "    '''\n",
    "    # Handle empty or invalid input\n",
    "    if not s or 'export' not in s:\n",
    "        return s\n",
    "        \n",
    "    # Split into export command and the rest\n",
    "    parts = s.split('=', 1)\n",
    "    if len(parts) != 2:\n",
    "        return s\n",
    "        \n",
    "    # Split the variable name part\n",
    "    command_parts = parts[0].split()\n",
    "    if len(command_parts) != 2:\n",
    "        return s\n",
    "        \n",
    "    export_cmd, var_name = command_parts\n",
    "    \n",
    "    # If already in VENDOR_API_KEY format, return as is\n",
    "    if var_name.endswith('_API_KEY'):\n",
    "        return s\n",
    "    \n",
    "    # If name contains API_KEY, reorder it\n",
    "    if 'API_KEY' in var_name:\n",
    "        # Split into components\n",
    "        components = var_name.split('_')\n",
    "        if len(components) >= 3:\n",
    "            # Find API and KEY indices\n",
    "            try:\n",
    "                api_idx = components.index('API')\n",
    "                key_idx = components.index('KEY')\n",
    "                if api_idx + 1 == key_idx:  # If API_KEY is together\n",
    "                    # Find VENDOR component (it's the last one in this case)\n",
    "                    vendor = components[-1]\n",
    "                    # Create new variable name with VENDOR_API_KEY format\n",
    "                    new_var_name = f\"{vendor}_API_KEY\"\n",
    "                    return f\"{export_cmd} {new_var_name}={parts[1]}\"\n",
    "            except ValueError:\n",
    "                pass\n",
    "    \n",
    "    return s\n",
    "\n",
    "# Test cases\n",
    "def test_revise_exp_str():\n",
    "    tests = [\n",
    "        (\"export API_KEY_VENDOR=123_456\", \"export VENDOR_API_KEY=123_456\"),\n",
    "        (\"export MY_API_KEY_VENDOR=123_456\", \"export VENDOR_API_KEY=123_456\"),\n",
    "        (\"export VENDOR_API_KEY=123_456\", \"export VENDOR_API_KEY=123_456\"),\n",
    "        (\"export SOMETHING_ELSE=value\", \"export SOMETHING_ELSE=value\"),\n",
    "        (\"export API_VENDOR=value\", \"export API_VENDOR=value\"),\n",
    "        (\"not_an_export_statement\", \"not_an_export_statement\"),\n",
    "        (\"\", \"\"),\n",
    "    ]\n",
    "    \n",
    "    for input_str, expected in tests:\n",
    "        result = revise_exp_str(input_str)\n",
    "        assert result == expected, f\"\\nInput:    {input_str}\\nExpected: {expected}\\nGot:      {result}\"\n",
    "        print(f\"Test passed: {input_str}\")\n",
    "\n",
    "if __name__ == \"__main__\":\n",
    "    test_revise_exp_str()"
   ]
  },
  {
   "cell_type": "code",
   "execution_count": null,
   "id": "f8c81c8a-4754-4afd-be8c-595b243c9d5c",
   "metadata": {},
   "outputs": [],
   "source": []
  }
 ],
 "metadata": {
  "kernelspec": {
   "display_name": "Python 3 (ipykernel)",
   "language": "python",
   "name": "python3"
  },
  "language_info": {
   "codemirror_mode": {
    "name": "ipython",
    "version": 3
   },
   "file_extension": ".py",
   "mimetype": "text/x-python",
   "name": "python",
   "nbconvert_exporter": "python",
   "pygments_lexer": "ipython3",
   "version": "3.11.9"
  }
 },
 "nbformat": 4,
 "nbformat_minor": 5
}
