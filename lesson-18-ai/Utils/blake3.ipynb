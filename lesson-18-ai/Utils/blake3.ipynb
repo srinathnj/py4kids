{
 "cells": [
  {
   "cell_type": "markdown",
   "id": "1f7cfd6c",
   "metadata": {},
   "source": [
    "## normalize and generate unique id for text\n",
    "\n",
    "- [bard-chat](https://g.co/gemini/share/3eadea583db2)\n",
    "\n",
    "- [blake hash function](https://www.wikiwand.com/en/BLAKE_(hash_function))"
   ]
  },
  {
   "cell_type": "code",
   "execution_count": 1,
   "id": "ec3b689c",
   "metadata": {},
   "outputs": [],
   "source": [
    "from blake3 import blake3"
   ]
  },
  {
   "cell_type": "code",
   "execution_count": 2,
   "id": "1cd099af",
   "metadata": {},
   "outputs": [],
   "source": [
    "sql_str = \"select first_name, last_name from t_customers limit 10\""
   ]
  },
  {
   "cell_type": "code",
   "execution_count": 4,
   "id": "9aa0d3be",
   "metadata": {},
   "outputs": [
    {
     "data": {
      "text/plain": [
       "b'\\xcd\\xe0w\\xe0\\xc5\\x1a-3\\xe4\\xeb^\\xe8\\x0bb2\\xb9Q\\xc6\\x05\\x95\\x8c3\\xe3\\xf6\\xac\\x13\\xb0\\xef \\xe2\\xa1\\x9b'"
      ]
     },
     "execution_count": 4,
     "metadata": {},
     "output_type": "execute_result"
    }
   ],
   "source": [
    "hash1 = blake3(sql_str.encode(encoding=\"utf-8\")).digest()\n",
    "hash1"
   ]
  },
  {
   "cell_type": "code",
   "execution_count": 8,
   "id": "68c9447e",
   "metadata": {},
   "outputs": [
    {
     "data": {
      "text/plain": [
       "\"b'\\\\xcd\\\\xe0w\\\\xe0\\\\xc5\\\\x1a-3\\\\xe4\\\\xeb^\\\\xe8\\\\x0bb2\\\\xb9Q\\\\xc6\\\\x05\\\\x95\\\\x8c3\\\\xe3\\\\xf6\\\\xac\\\\x13\\\\xb0\\\\xef \\\\xe2\\\\xa1\\\\x9b'\""
      ]
     },
     "execution_count": 8,
     "metadata": {},
     "output_type": "execute_result"
    }
   ],
   "source": [
    "str(hash1)"
   ]
  },
  {
   "cell_type": "code",
   "execution_count": 9,
   "id": "b16dabb8",
   "metadata": {},
   "outputs": [
    {
     "data": {
      "text/plain": [
       "bytes"
      ]
     },
     "execution_count": 9,
     "metadata": {},
     "output_type": "execute_result"
    }
   ],
   "source": [
    "type(hash1)"
   ]
  },
  {
   "cell_type": "code",
   "execution_count": 10,
   "id": "b4921dba",
   "metadata": {},
   "outputs": [],
   "source": [
    "import codecs"
   ]
  },
  {
   "cell_type": "code",
   "execution_count": 11,
   "id": "70d627e2",
   "metadata": {},
   "outputs": [
    {
     "ename": "UnicodeDecodeError",
     "evalue": "'utf-8' codec can't decode byte 0xcd in position 0: invalid continuation byte",
     "output_type": "error",
     "traceback": [
      "\u001b[0;31m---------------------------------------------------------------------------\u001b[0m",
      "\u001b[0;31mUnicodeDecodeError\u001b[0m                        Traceback (most recent call last)",
      "Cell \u001b[0;32mIn[11], line 1\u001b[0m\n\u001b[0;32m----> 1\u001b[0m codecs\u001b[38;5;241m.\u001b[39mdecode(hash1, \u001b[38;5;124m\"\u001b[39m\u001b[38;5;124mutf-8\u001b[39m\u001b[38;5;124m\"\u001b[39m)\n",
      "File \u001b[0;32m~/anaconda3/lib/python3.11/encodings/utf_8.py:16\u001b[0m, in \u001b[0;36mdecode\u001b[0;34m(input, errors)\u001b[0m\n\u001b[1;32m     15\u001b[0m \u001b[38;5;28;01mdef\u001b[39;00m \u001b[38;5;21mdecode\u001b[39m(\u001b[38;5;28minput\u001b[39m, errors\u001b[38;5;241m=\u001b[39m\u001b[38;5;124m'\u001b[39m\u001b[38;5;124mstrict\u001b[39m\u001b[38;5;124m'\u001b[39m):\n\u001b[0;32m---> 16\u001b[0m     \u001b[38;5;28;01mreturn\u001b[39;00m codecs\u001b[38;5;241m.\u001b[39mutf_8_decode(\u001b[38;5;28minput\u001b[39m, errors, \u001b[38;5;28;01mTrue\u001b[39;00m)\n",
      "\u001b[0;31mUnicodeDecodeError\u001b[0m: 'utf-8' codec can't decode byte 0xcd in position 0: invalid continuation byte"
     ]
    }
   ],
   "source": [
    "codecs.decode(hash1, \"utf-8\")"
   ]
  },
  {
   "cell_type": "code",
   "execution_count": null,
   "id": "e3e91d3b",
   "metadata": {},
   "outputs": [],
   "source": []
  }
 ],
 "metadata": {
  "kernelspec": {
   "display_name": "Python 3 (ipykernel)",
   "language": "python",
   "name": "python3"
  },
  "language_info": {
   "codemirror_mode": {
    "name": "ipython",
    "version": 3
   },
   "file_extension": ".py",
   "mimetype": "text/x-python",
   "name": "python",
   "nbconvert_exporter": "python",
   "pygments_lexer": "ipython3",
   "version": "3.11.5"
  }
 },
 "nbformat": 4,
 "nbformat_minor": 5
}
