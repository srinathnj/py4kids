{
 "cells": [
  {
   "cell_type": "raw",
   "id": "a5180157",
   "metadata": {},
   "source": [
    "!pip install bidict"
   ]
  },
  {
   "cell_type": "code",
   "execution_count": 1,
   "id": "a30bd7b0",
   "metadata": {},
   "outputs": [],
   "source": [
    "import re\n",
    "import uuid\n",
    "from bidict import bidict"
   ]
  },
  {
   "cell_type": "code",
   "execution_count": 2,
   "id": "06ee42ab",
   "metadata": {},
   "outputs": [
    {
     "name": "stdout",
     "output_type": "stream",
     "text": [
      "positive test:\n",
      "True\n",
      "True\n",
      "hydrogen\n",
      "H\n",
      "negative test:\n",
      "False\n",
      "False\n",
      "None\n",
      "None\n"
     ]
    }
   ],
   "source": [
    "element_by_symbol = bidict({'H': 'hydrogen'})\n",
    "print(\"positive test:\")\n",
    "print(\"H\" in element_by_symbol)\n",
    "print(\"hydrogen\" in element_by_symbol.inverse)\n",
    "print(element_by_symbol.get('H'))\n",
    "print(element_by_symbol.inverse.get('hydrogen'))\n",
    "\n",
    "print(\"negative test:\")\n",
    "print(\"He\" in element_by_symbol)\n",
    "print(\"helium\" in element_by_symbol.inverse)\n",
    "print(element_by_symbol.get('He'))\n",
    "print(element_by_symbol.inverse.get('helium'))"
   ]
  },
  {
   "cell_type": "code",
   "execution_count": 17,
   "id": "5559b546",
   "metadata": {},
   "outputs": [],
   "source": [
    "def normalize_text(s, ignore_case=True, ignore_space=True, \n",
    "                   ignore_non_ascii=True, strip_semi_colon_at_end=True):\n",
    "    \"\"\"Normalize text by removing noise and normalizing whitespace/punctuation.\n",
    "\n",
    "    Args:\n",
    "      s: The text string to preprocess.\n",
    "\n",
    "    Returns:\n",
    "      The preprocessed text string.\n",
    "    \"\"\"\n",
    "    text = str(s)\n",
    "    \n",
    "    if ignore_case:\n",
    "        text = text.lower()\n",
    "        \n",
    "    if ignore_non_ascii:\n",
    "        # Remove punctuation (ASCII and non-ASCII)\n",
    "        text = re.sub(r\"[^\\w\\s]\", \"\", text)\n",
    "\n",
    "    if ignore_space:\n",
    "        # replace various whitespace characters (ASCII and non-ASCII) with a single whitespace\n",
    "        text = re.sub(r\"\\s+\", \" \", text)\n",
    "\n",
    "    text = text.strip()\n",
    "    if strip_semi_colon_at_end and text.endswith(\";\"):\n",
    "        text = text[:-1]\n",
    "        \n",
    "    return text.strip()"
   ]
  },
  {
   "cell_type": "code",
   "execution_count": 18,
   "id": "86ebad7d",
   "metadata": {},
   "outputs": [
    {
     "data": {
      "text/plain": [
       "'this is a string 人工智能 with extra spaces and 非 ascii punctuation a newline'"
      ]
     },
     "execution_count": 18,
     "metadata": {},
     "output_type": "execute_result"
    }
   ],
   "source": [
    "s = \"This is  a string ~ 人工智能 ~ with \\t extra spaces and 非 ascii punctuation, a newline.\\n !!!\"\n",
    "normalize_text(s)"
   ]
  },
  {
   "cell_type": "code",
   "execution_count": 19,
   "id": "3bbd8f63",
   "metadata": {},
   "outputs": [
    {
     "data": {
      "text/plain": [
       "'This is a string ~ 人工智能 ~ with extra spaces and 非 ascii punctuation, a newline. !!!'"
      ]
     },
     "execution_count": 19,
     "metadata": {},
     "output_type": "execute_result"
    }
   ],
   "source": [
    "normalize_text(s, ignore_case=False, ignore_space=True, ignore_non_ascii=False)"
   ]
  },
  {
   "cell_type": "code",
   "execution_count": 20,
   "id": "72c71f9e",
   "metadata": {},
   "outputs": [],
   "source": [
    "# Create a bidirectional map to store SQL queries and their IDs\n",
    "sql_index = bidict()         # key-SQL: value-ID"
   ]
  },
  {
   "cell_type": "code",
   "execution_count": 21,
   "id": "98e66b22",
   "metadata": {},
   "outputs": [],
   "source": [
    "def add_query(sql_query, ignore_case=True, ignore_space=True, \n",
    "              ignore_non_ascii=False, strip_semi_colon_at_end=True):\n",
    "    \"\"\"\n",
    "    Adds an SQL query to the index and returns its unique ID.\n",
    "\n",
    "    Args:\n",
    "      sql_query: The SQL query string.\n",
    "\n",
    "    Returns:\n",
    "      The unique ID assigned to the SQL query.\n",
    "    \"\"\"\n",
    "    # Normalize the SQL query (remove unnecessary characters, etc.)\n",
    "    normalized_query = normalize_text(sql_query, \n",
    "                                      ignore_case=ignore_case, \n",
    "                                      ignore_space=ignore_space, \n",
    "                                      ignore_non_ascii=ignore_non_ascii,\n",
    "                                      strip_semi_colon_at_end=strip_semi_colon_at_end)\n",
    "\n",
    "    # Check if the query already exists in the bidict\n",
    "    if normalized_query in sql_index:\n",
    "        return sql_index.get(normalized_query)  # return ID\n",
    "    \n",
    "    # Generate a unique ID (using UUID)\n",
    "    unique_id = str(uuid.uuid4())\n",
    "    # Add the query and ID to the bidict\n",
    "    sql_index[normalized_query] = unique_id\n",
    "    return unique_id"
   ]
  },
  {
   "cell_type": "code",
   "execution_count": 22,
   "id": "de5327e0",
   "metadata": {},
   "outputs": [],
   "source": [
    "def get_query_by_id(unique_id):\n",
    "    \"\"\"\n",
    "    Retrieves the SQL query for a given unique ID using the forward lookup method.\n",
    "\n",
    "    Args:\n",
    "      unique_id: The unique ID of the SQL query.\n",
    "\n",
    "    Returns:\n",
    "      The corresponding SQL query string, or None if not found.\n",
    "    \"\"\"\n",
    "    return sql_index.inverse.get(unique_id)"
   ]
  },
  {
   "cell_type": "code",
   "execution_count": 23,
   "id": "e162bdd6",
   "metadata": {},
   "outputs": [],
   "source": [
    "def get_id_by_query(query, ignore_case=True, ignore_space=True, \n",
    "                    ignore_non_ascii=False, strip_semi_colon_at_end=True):\n",
    "    \"\"\"\n",
    "    Retrieves the unique ID for a given normalized SQL query using the inverse lookup method.\n",
    "\n",
    "    Args:\n",
    "      normalized_query: The normalized SQL query string.\n",
    "\n",
    "    Returns:\n",
    "      The unique ID associated with the query, or None if not found.\n",
    "    \"\"\"\n",
    "    normalized_query = normalize_text(query, \n",
    "                                      ignore_case=ignore_case, \n",
    "                                      ignore_space=ignore_space, \n",
    "                                      ignore_non_ascii=ignore_non_ascii,\n",
    "                                      strip_semi_colon_at_end=strip_semi_colon_at_end)\n",
    "    \n",
    "    return sql_index.get(normalized_query)"
   ]
  },
  {
   "cell_type": "code",
   "execution_count": 24,
   "id": "7e62bf89",
   "metadata": {},
   "outputs": [],
   "source": [
    "# Example usage\n",
    "sql_query1 = \" SELECT * FROM users WHERE id = 10; \"\n",
    "sql_query2 = \" SELECT name, email FROM customers ORDER BY name ASC; \"\n",
    "\n",
    "unique_id1 = add_query(sql_query1)\n",
    "unique_id2 = add_query(sql_query2)"
   ]
  },
  {
   "cell_type": "code",
   "execution_count": 25,
   "id": "5869be2c",
   "metadata": {},
   "outputs": [
    {
     "data": {
      "text/plain": [
       "('bc983740-ab6b-49e9-931f-c5f8e5783401',\n",
       " '498fed83-bd18-4d5c-89dc-5a1a67c2a116')"
      ]
     },
     "execution_count": 25,
     "metadata": {},
     "output_type": "execute_result"
    }
   ],
   "source": [
    "unique_id1, unique_id2"
   ]
  },
  {
   "cell_type": "code",
   "execution_count": 26,
   "id": "d4e17792",
   "metadata": {},
   "outputs": [
    {
     "data": {
      "text/plain": [
       "'select * from users where id = 10'"
      ]
     },
     "execution_count": 26,
     "metadata": {},
     "output_type": "execute_result"
    }
   ],
   "source": [
    "get_query_by_id(unique_id1)"
   ]
  },
  {
   "cell_type": "code",
   "execution_count": 27,
   "id": "5ee07dfe",
   "metadata": {},
   "outputs": [
    {
     "data": {
      "text/plain": [
       "'select name, email from customers order by name asc'"
      ]
     },
     "execution_count": 27,
     "metadata": {},
     "output_type": "execute_result"
    }
   ],
   "source": [
    "get_query_by_id(unique_id2)"
   ]
  },
  {
   "cell_type": "code",
   "execution_count": 28,
   "id": "632d2af2",
   "metadata": {},
   "outputs": [],
   "source": [
    "sql3 = \"\"\"\n",
    "    SELECT \n",
    "        name, \n",
    "        email \n",
    "    FROM customers \n",
    "    ORDER BY name ASC\n",
    "    ; \n",
    "\"\"\"\n",
    "id3 = get_id_by_query(sql3, ignore_non_ascii=False)"
   ]
  },
  {
   "cell_type": "code",
   "execution_count": 29,
   "id": "002e0561",
   "metadata": {},
   "outputs": [
    {
     "data": {
      "text/plain": [
       "'498fed83-bd18-4d5c-89dc-5a1a67c2a116'"
      ]
     },
     "execution_count": 29,
     "metadata": {},
     "output_type": "execute_result"
    }
   ],
   "source": [
    "id3"
   ]
  },
  {
   "cell_type": "code",
   "execution_count": 30,
   "id": "581ad72a",
   "metadata": {},
   "outputs": [
    {
     "data": {
      "text/plain": [
       "'select name, email from customers order by name asc'"
      ]
     },
     "execution_count": 30,
     "metadata": {},
     "output_type": "execute_result"
    }
   ],
   "source": [
    "normalize_text(sql3, ignore_non_ascii=False)"
   ]
  },
  {
   "cell_type": "code",
   "execution_count": null,
   "id": "45b267b2",
   "metadata": {},
   "outputs": [],
   "source": []
  }
 ],
 "metadata": {
  "kernelspec": {
   "display_name": "Python 3 (ipykernel)",
   "language": "python",
   "name": "python3"
  },
  "language_info": {
   "codemirror_mode": {
    "name": "ipython",
    "version": 3
   },
   "file_extension": ".py",
   "mimetype": "text/x-python",
   "name": "python",
   "nbconvert_exporter": "python",
   "pygments_lexer": "ipython3",
   "version": "3.11.5"
  }
 },
 "nbformat": 4,
 "nbformat_minor": 5
}
