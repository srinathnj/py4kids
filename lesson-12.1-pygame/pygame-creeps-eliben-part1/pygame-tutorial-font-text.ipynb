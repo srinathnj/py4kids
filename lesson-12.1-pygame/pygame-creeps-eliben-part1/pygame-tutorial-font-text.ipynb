{
 "cells": [
  {
   "cell_type": "markdown",
   "metadata": {},
   "source": [
    "http://www.nerdparadise.com/programming/pygame/part5"
   ]
  },
  {
   "cell_type": "code",
   "execution_count": 1,
   "metadata": {
    "collapsed": true
   },
   "outputs": [],
   "source": [
    "import pygame\n",
    "\n",
    "def make_font(fonts, size):\n",
    "    available = pygame.font.get_fonts()\n",
    "    # get_fonts() returns a list of lowercase spaceless font names \n",
    "    choices = map(lambda x:x.lower().replace(' ', ''), fonts)\n",
    "    for choice in choices:\n",
    "        if choice in available:\n",
    "            return pygame.font.SysFont(choice, size)\n",
    "    return pygame.font.Font(None, size)\n",
    "    \n",
    "_cached_fonts = {}\n",
    "def get_font(font_preferences, size):\n",
    "    global _cached_fonts\n",
    "    key = str(font_preferences) + '|' + str(size)\n",
    "    font = _cached_fonts.get(key, None)\n",
    "    if font == None:\n",
    "        font = make_font(font_preferences, size)\n",
    "        _cached_fonts[key] = font\n",
    "    return font\n",
    "\n",
    "_cached_text = {}\n",
    "def create_text(text, fonts, size, color):\n",
    "    global _cached_text\n",
    "    key = '|'.join(map(str, (fonts, size, color, text)))\n",
    "    image = _cached_text.get(key, None)\n",
    "    if image == None:\n",
    "        font = get_font(fonts, size)\n",
    "        image = font.render(text, True, color)\n",
    "        _cached_text[key] = image\n",
    "    return image\n",
    "\n",
    "pygame.init()\n",
    "screen = pygame.display.set_mode((640, 480))\n",
    "clock = pygame.time.Clock()\n",
    "done = False\n",
    "\n",
    "font_preferences = [\n",
    "        \"Bizarre-Ass Font Sans Serif\",\n",
    "        \"They definitely dont have this installed Gothic\",\n",
    "        \"Papyrus\",\n",
    "        \"Comic Sans MS\"]\n",
    "\n",
    "text = create_text(\"Hello, World\", font_preferences, 72, (0, 128, 0))\n",
    "\n",
    "while not done:\n",
    "    for event in pygame.event.get():\n",
    "        if event.type == pygame.QUIT:\n",
    "            done = True\n",
    "        if event.type == pygame.KEYDOWN and event.key == pygame.K_ESCAPE:\n",
    "            done = True\n",
    "    \n",
    "    screen.fill((255, 255, 255))\n",
    "    screen.blit(text,\n",
    "        (320 - text.get_width() // 2, 240 - text.get_height() // 2))\n",
    "    \n",
    "    pygame.display.flip()\n",
    "    clock.tick(60)"
   ]
  },
  {
   "cell_type": "code",
   "execution_count": null,
   "metadata": {
    "collapsed": true
   },
   "outputs": [],
   "source": []
  }
 ],
 "metadata": {
  "anaconda-cloud": {},
  "kernelspec": {
   "display_name": "Python [default]",
   "language": "python",
   "name": "python3"
  },
  "language_info": {
   "codemirror_mode": {
    "name": "ipython",
    "version": 3
   },
   "file_extension": ".py",
   "mimetype": "text/x-python",
   "name": "python",
   "nbconvert_exporter": "python",
   "pygments_lexer": "ipython3",
   "version": "3.5.2"
  }
 },
 "nbformat": 4,
 "nbformat_minor": 1
}
