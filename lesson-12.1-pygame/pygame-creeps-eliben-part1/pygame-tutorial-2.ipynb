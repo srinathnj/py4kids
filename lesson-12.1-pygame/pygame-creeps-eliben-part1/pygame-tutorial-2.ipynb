{
 "cells": [
  {
   "cell_type": "markdown",
   "metadata": {},
   "source": [
    "http://www.nerdparadise.com/programming/pygame/part2"
   ]
  },
  {
   "cell_type": "code",
   "execution_count": 2,
   "metadata": {
    "collapsed": false
   },
   "outputs": [],
   "source": [
    "import pygame\n",
    "import os\n",
    "\n",
    "_image_library = {}\n",
    "def get_image(path):\n",
    "        global _image_library\n",
    "        image = _image_library.get(path)\n",
    "        if image == None:\n",
    "                canonicalized_path = path.replace('/', os.sep).replace('\\\\', os.sep)\n",
    "                image = pygame.image.load(canonicalized_path)\n",
    "                _image_library[path] = image\n",
    "        return image\n",
    "\n",
    "pygame.init()\n",
    "screen = pygame.display.set_mode((400, 300))\n",
    "done = False\n",
    "clock = pygame.time.Clock()\n",
    "\n",
    "while not done:\n",
    "        for event in pygame.event.get():\n",
    "                if event.type == pygame.QUIT:\n",
    "                        done = True\n",
    "        \n",
    "        screen.fill((255, 255, 255))\n",
    "        \n",
    "        screen.blit(get_image('ball.png'), (20, 20))\n",
    "        \n",
    "        pygame.display.flip()\n",
    "        clock.tick(60)"
   ]
  },
  {
   "cell_type": "code",
   "execution_count": null,
   "metadata": {
    "collapsed": true
   },
   "outputs": [],
   "source": []
  }
 ],
 "metadata": {
  "anaconda-cloud": {},
  "kernelspec": {
   "display_name": "Python [default]",
   "language": "python",
   "name": "python3"
  },
  "language_info": {
   "codemirror_mode": {
    "name": "ipython",
    "version": 3
   },
   "file_extension": ".py",
   "mimetype": "text/x-python",
   "name": "python",
   "nbconvert_exporter": "python",
   "pygments_lexer": "ipython3",
   "version": "3.5.2"
  }
 },
 "nbformat": 4,
 "nbformat_minor": 1
}
