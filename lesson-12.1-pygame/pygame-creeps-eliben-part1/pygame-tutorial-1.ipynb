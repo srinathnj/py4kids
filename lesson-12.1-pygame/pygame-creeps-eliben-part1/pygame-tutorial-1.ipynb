{
 "cells": [
  {
   "cell_type": "markdown",
   "metadata": {},
   "source": [
    "http://www.nerdparadise.com/programming/pygame/part1"
   ]
  },
  {
   "cell_type": "code",
   "execution_count": 1,
   "metadata": {
    "collapsed": true
   },
   "outputs": [],
   "source": [
    "import pygame\n",
    "\n",
    "pygame.init()\n",
    "screen = pygame.display.set_mode((400, 300))\n",
    "done = False\n",
    "is_blue = True\n",
    "x = 30\n",
    "y = 30\n",
    "\n",
    "clock = pygame.time.Clock()\n",
    "\n",
    "while not done:\n",
    "        for event in pygame.event.get():\n",
    "                if event.type == pygame.QUIT:\n",
    "                        done = True\n",
    "                if event.type == pygame.KEYDOWN and event.key == pygame.K_SPACE:\n",
    "                        is_blue = not is_blue\n",
    "        \n",
    "        pressed = pygame.key.get_pressed()\n",
    "        if pressed[pygame.K_UP]: y -= 3\n",
    "        if pressed[pygame.K_DOWN]: y += 3\n",
    "        if pressed[pygame.K_LEFT]: x -= 3\n",
    "        if pressed[pygame.K_RIGHT]: x += 3\n",
    "        \n",
    "        screen.fill((0, 0, 0))\n",
    "        if is_blue: color = (0, 128, 255)\n",
    "        else: color = (255, 100, 0)\n",
    "        pygame.draw.rect(screen, color, pygame.Rect(x, y, 60, 60))\n",
    "        \n",
    "        pygame.display.flip()\n",
    "        clock.tick(60)"
   ]
  },
  {
   "cell_type": "code",
   "execution_count": null,
   "metadata": {
    "collapsed": true
   },
   "outputs": [],
   "source": []
  }
 ],
 "metadata": {
  "anaconda-cloud": {},
  "kernelspec": {
   "display_name": "Python [default]",
   "language": "python",
   "name": "python3"
  },
  "language_info": {
   "codemirror_mode": {
    "name": "ipython",
    "version": 3
   },
   "file_extension": ".py",
   "mimetype": "text/x-python",
   "name": "python",
   "nbconvert_exporter": "python",
   "pygments_lexer": "ipython3",
   "version": "3.5.2"
  }
 },
 "nbformat": 4,
 "nbformat_minor": 1
}
