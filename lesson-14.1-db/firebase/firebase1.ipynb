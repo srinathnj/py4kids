{
 "cells": [
  {
   "cell_type": "markdown",
   "id": "f1c4a1e4",
   "metadata": {},
   "source": [
    "# Pyrebase - Python API to Firebase\n",
    "\n",
    "- [pyrebase github](https://github.com/thisbejim/Pyrebase)\n",
    "\n",
    "\n",
    "# Resources\n",
    "- [Using Firebase with Python](https://medium.com/@drkaojha/using-firebase-with-python-8bb01d04815e)\n",
    "\n",
    "- [Firebase Console](https://console.firebase.google.com/)\n",
    "\n",
    "- [Code First with Hala tutorial playlist](https://www.youtube.com/watch?v=LaGYxQWYmmc&list=PLs3IFJPw3G9Jwaimh5yTKot1kV5zmzupt)\n",
    "\n",
    "- [Build Streamlit Python LOGIN-SIGNUP -Authentication Web App](https://www.youtube.com/watch?v=KLmSfHcOXlc)"
   ]
  },
  {
   "cell_type": "code",
   "execution_count": 1,
   "id": "3c37d77d",
   "metadata": {},
   "outputs": [],
   "source": [
    "import pyrebase\n",
    "from pathlib import Path"
   ]
  },
  {
   "cell_type": "markdown",
   "id": "2bbe098a",
   "metadata": {},
   "source": [
    "# Firebase config"
   ]
  },
  {
   "cell_type": "code",
   "execution_count": 2,
   "id": "486f6369",
   "metadata": {},
   "outputs": [],
   "source": [
    "def _parse_firebase_cfg(file_cfg=r\"C:\\Users\\w_gon\\pip\\firebase\\firebase_cfg_sample.txt\"):\n",
    "    firebaseConfig = {}\n",
    "    for i in [i.strip() for i in open(Path(file_cfg)).read().split(\"\\n\") if i.strip()]:\n",
    "        k, v = i.split(\": \")\n",
    "        firebaseConfig[k.strip()]=v.split(\",\")[0].strip().replace('\"','')\n",
    "    return firebaseConfig"
   ]
  },
  {
   "cell_type": "code",
   "execution_count": 3,
   "id": "63740089",
   "metadata": {},
   "outputs": [
    {
     "data": {
      "text/plain": [
       "{'apiKey': 'XXX-Your-API-Key-XXX',\n",
       " 'projectId': 'your_app_name-id_string',\n",
       " 'authDomain': '<projectId>.firebaseapp.com',\n",
       " 'databaseURL': 'https://<projectId>-default-rtdb.firebaseio.com',\n",
       " 'storageBucket': '<projectId>.appspot.com',\n",
       " 'messagingSenderId': '431258247041',\n",
       " 'appId': '1:<messagingSenderId>:web:<unique_id>',\n",
       " 'measurementId': 'G-<generated_ID>'}"
      ]
     },
     "execution_count": 3,
     "metadata": {},
     "output_type": "execute_result"
    }
   ],
   "source": [
    "firebaseConfig_sample = _parse_firebase_cfg()\n",
    "firebaseConfig_sample"
   ]
  },
  {
   "cell_type": "code",
   "execution_count": null,
   "id": "d35518ff",
   "metadata": {},
   "outputs": [],
   "source": [
    "firebaseConfig = _parse_firebase_cfg(r\"C:\\Users\\w_gon\\pip\\firebase\\firebase_cfg.txt\")"
   ]
  },
  {
   "cell_type": "raw",
   "id": "511d22dc",
   "metadata": {},
   "source": [
    "firebaseConfig"
   ]
  },
  {
   "cell_type": "code",
   "execution_count": null,
   "id": "ea61ceda",
   "metadata": {},
   "outputs": [],
   "source": [
    "firebase = pyrebase.initialize_app(firebaseConfig)"
   ]
  },
  {
   "cell_type": "code",
   "execution_count": null,
   "id": "47296063",
   "metadata": {},
   "outputs": [],
   "source": [
    "auth = firebase.auth()\n",
    "storage = firebase.storage()\n",
    "database = firebase.database()"
   ]
  },
  {
   "cell_type": "markdown",
   "id": "ac3927ba",
   "metadata": {},
   "source": [
    "# Authentication"
   ]
  },
  {
   "cell_type": "code",
   "execution_count": null,
   "id": "581ce5de",
   "metadata": {},
   "outputs": [],
   "source": [
    "email, password = \"dummy_user@gmail.com\", \"dummy_pwd\""
   ]
  },
  {
   "cell_type": "markdown",
   "id": "c37df89e",
   "metadata": {},
   "source": [
    "## Sign up"
   ]
  },
  {
   "cell_type": "code",
   "execution_count": null,
   "id": "92216c62",
   "metadata": {},
   "outputs": [],
   "source": [
    "resp = auth.create_user_with_email_and_password(email, password)\n",
    "# resp"
   ]
  },
  {
   "cell_type": "markdown",
   "id": "4d20f5b0",
   "metadata": {},
   "source": [
    "## Sign in"
   ]
  },
  {
   "cell_type": "code",
   "execution_count": null,
   "id": "99cdfed4",
   "metadata": {},
   "outputs": [],
   "source": [
    "user = auth.sign_in_with_email_and_password(email, password)"
   ]
  },
  {
   "cell_type": "code",
   "execution_count": null,
   "id": "d0bfb46a",
   "metadata": {},
   "outputs": [],
   "source": [
    "resp = auth.get_account_info(user['idToken'])\n",
    "# resp"
   ]
  },
  {
   "cell_type": "code",
   "execution_count": null,
   "id": "8db24cbc",
   "metadata": {},
   "outputs": [],
   "source": [
    "user = auth.refresh(user['refreshToken'])\n",
    "# user"
   ]
  },
  {
   "cell_type": "markdown",
   "id": "6541fc9a",
   "metadata": {},
   "source": [
    "## Verify by email"
   ]
  },
  {
   "cell_type": "code",
   "execution_count": null,
   "id": "b97c05db",
   "metadata": {},
   "outputs": [],
   "source": [
    "resp = auth.send_email_verification(user['idToken'])\n",
    "# resp"
   ]
  },
  {
   "cell_type": "markdown",
   "id": "352d0893",
   "metadata": {},
   "source": [
    "## Reset pwd"
   ]
  },
  {
   "cell_type": "code",
   "execution_count": null,
   "id": "ce09b2e1",
   "metadata": {},
   "outputs": [],
   "source": [
    "resp=auth.send_password_reset_email(email)\n",
    "# resp"
   ]
  },
  {
   "cell_type": "markdown",
   "id": "bfc1c1d6",
   "metadata": {},
   "source": [
    "# Realtime Database"
   ]
  },
  {
   "cell_type": "markdown",
   "id": "5c0f4130",
   "metadata": {},
   "source": [
    "## Create"
   ]
  },
  {
   "cell_type": "code",
   "execution_count": null,
   "id": "ed69ce48",
   "metadata": {},
   "outputs": [],
   "source": [
    "database.child(\"test_DB\")\n",
    "data = {\"Key1\": \"Value1\", \"Key2\": \"Value2\"}\n",
    "database.set(data)"
   ]
  },
  {
   "cell_type": "markdown",
   "id": "f1483ea6",
   "metadata": {},
   "source": [
    "## Update"
   ]
  },
  {
   "cell_type": "code",
   "execution_count": null,
   "id": "d41cfe19",
   "metadata": {},
   "outputs": [],
   "source": [
    "database.child(\"test_DB\").update({\"Key1\": \"Value1_UPDATED\"})"
   ]
  },
  {
   "cell_type": "markdown",
   "id": "562f340b",
   "metadata": {},
   "source": [
    "## Read"
   ]
  },
  {
   "cell_type": "code",
   "execution_count": null,
   "id": "296fac42",
   "metadata": {},
   "outputs": [],
   "source": [
    "test_DB = database.child(\"test_DB\").get().val()"
   ]
  },
  {
   "cell_type": "code",
   "execution_count": null,
   "id": "089d80a0",
   "metadata": {},
   "outputs": [],
   "source": [
    "test_DB"
   ]
  },
  {
   "cell_type": "code",
   "execution_count": null,
   "id": "214bae95",
   "metadata": {},
   "outputs": [],
   "source": []
  },
  {
   "cell_type": "markdown",
   "id": "e425ff13",
   "metadata": {},
   "source": [
    "# Storage"
   ]
  },
  {
   "cell_type": "markdown",
   "id": "4e6cb5c1",
   "metadata": {},
   "source": [
    "## upload"
   ]
  },
  {
   "cell_type": "code",
   "execution_count": null,
   "id": "f3b154ca",
   "metadata": {},
   "outputs": [],
   "source": [
    "!dir merlin_orig.PNG"
   ]
  },
  {
   "cell_type": "code",
   "execution_count": null,
   "id": "42e1f1ee",
   "metadata": {},
   "outputs": [],
   "source": [
    "# storage.child(\"<cloud_storage_path>\").put(\"<local_path>\")\n",
    "storage.child(\"images/merlin.png\").put(\"merlin_orig.png\")"
   ]
  },
  {
   "cell_type": "markdown",
   "id": "8f4dfc85",
   "metadata": {},
   "source": [
    "## download"
   ]
  },
  {
   "cell_type": "code",
   "execution_count": null,
   "id": "f13d5f47",
   "metadata": {},
   "outputs": [],
   "source": [
    "# storage.child(\"<cloud_storage_path>\").download(\"<local_path>\")\n",
    "storage.child(\"images/merlin.png\").download(\"merlin_download.png\")"
   ]
  },
  {
   "cell_type": "markdown",
   "id": "762a3513",
   "metadata": {},
   "source": [
    "## get_url"
   ]
  },
  {
   "cell_type": "code",
   "execution_count": null,
   "id": "60258734",
   "metadata": {},
   "outputs": [],
   "source": [
    "# 'downloadTokens': 'a3e73cf7-94dd-4efe-8615-09b74a1af6fd'  (from put call)\n",
    "img_url = storage.child(\"images/merlin.png\").get_url('a3e73cf7-94dd-4efe-8615-09b74a1af6fd')"
   ]
  },
  {
   "cell_type": "code",
   "execution_count": null,
   "id": "a9880fda",
   "metadata": {},
   "outputs": [],
   "source": [
    "img_url"
   ]
  },
  {
   "cell_type": "markdown",
   "id": "15163f74",
   "metadata": {},
   "source": [
    "above img_url does not render in browser"
   ]
  },
  {
   "cell_type": "code",
   "execution_count": null,
   "id": "7c150501",
   "metadata": {},
   "outputs": [],
   "source": []
  }
 ],
 "metadata": {
  "kernelspec": {
   "display_name": "Python 3 (ipykernel)",
   "language": "python",
   "name": "python3"
  },
  "language_info": {
   "codemirror_mode": {
    "name": "ipython",
    "version": 3
   },
   "file_extension": ".py",
   "mimetype": "text/x-python",
   "name": "python",
   "nbconvert_exporter": "python",
   "pygments_lexer": "ipython3",
   "version": "3.8.5"
  },
  "toc": {
   "base_numbering": 1,
   "nav_menu": {},
   "number_sections": true,
   "sideBar": true,
   "skip_h1_title": false,
   "title_cell": "Table of Contents",
   "title_sidebar": "Contents",
   "toc_cell": false,
   "toc_position": {},
   "toc_section_display": true,
   "toc_window_display": false
  }
 },
 "nbformat": 4,
 "nbformat_minor": 5
}
