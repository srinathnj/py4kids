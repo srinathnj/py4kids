{
 "cells": [
  {
   "cell_type": "markdown",
   "metadata": {},
   "source": [
    "Mastering Oracle+Python, Part 6: Python Meets XML\n",
    "by Przemyslaw Piotrowski \n",
    "\n",
    "https://www.oracle.com/technetwork/articles/dsl/mastering-oracle-python-xml-1391344.html"
   ]
  },
  {
   "cell_type": "code",
   "execution_count": 1,
   "metadata": {},
   "outputs": [],
   "source": [
    "from xml.dom.minidom import parseString"
   ]
  },
  {
   "cell_type": "code",
   "execution_count": 2,
   "metadata": {},
   "outputs": [],
   "source": [
    "import cx_Oracle"
   ]
  },
  {
   "cell_type": "code",
   "execution_count": 3,
   "metadata": {},
   "outputs": [],
   "source": [
    "def to_minidom(sql):\n",
    "    with cx_Oracle.connect(\"hr/hr@127.0.0.1/xe\") as db:\n",
    "        cursor = db.cursor()\n",
    "        cursor.execute(\"select dbms_xmlgen.getxml('%s') from dual\" % sql)\n",
    "        return parseString(cursor.fetchone()[0].read())"
   ]
  },
  {
   "cell_type": "code",
   "execution_count": 5,
   "metadata": {},
   "outputs": [
    {
     "data": {
      "text/plain": [
       "xml.dom.minicompat.NodeList"
      ]
     },
     "execution_count": 5,
     "metadata": {},
     "output_type": "execute_result"
    }
   ],
   "source": [
    "md = to_minidom(\"select * from departments\")\n",
    "rows = md.getElementsByTagName(\"ROW\")\n",
    "type(rows) "
   ]
  },
  {
   "cell_type": "code",
   "execution_count": 6,
   "metadata": {},
   "outputs": [
    {
     "data": {
      "text/plain": [
       "27"
      ]
     },
     "execution_count": 6,
     "metadata": {},
     "output_type": "execute_result"
    }
   ],
   "source": [
    "len(rows)"
   ]
  },
  {
   "cell_type": "code",
   "execution_count": 9,
   "metadata": {},
   "outputs": [],
   "source": [
    "import os"
   ]
  },
  {
   "cell_type": "code",
   "execution_count": 10,
   "metadata": {},
   "outputs": [
    {
     "data": {
      "text/plain": [
       "'C:\\\\GitHub\\\\py4kids\\\\lesson-14-db'"
      ]
     },
     "execution_count": 10,
     "metadata": {},
     "output_type": "execute_result"
    }
   ],
   "source": [
    "os.getcwd()"
   ]
  },
  {
   "cell_type": "markdown",
   "metadata": {},
   "source": [
    " parse departments into dictionary "
   ]
  },
  {
   "cell_type": "code",
   "execution_count": 13,
   "metadata": {},
   "outputs": [],
   "source": [
    "from xml.dom.minidom import parse\n",
    "\n",
    "class ParseDept(dict):\n",
    "  def __init__(self, xmlfile):\n",
    "    dict.__init__(self)\n",
    "    self.dom = parse(xmlfile)\n",
    "\n",
    "    for i in self.dom.getElementsByTagName(\"ROW\"):\n",
    "      dept_id = i.getElementsByTagName(\"DEPARTMENT_ID\").pop().firstChild.data\n",
    "      self[dept_id] = {}\n",
    "      for j in i.childNodes:\n",
    "        if j.nodeType==self.dom.ELEMENT_NODE:\n",
    "          self[dept_id][j.tagName.lower()] = j.firstChild.data"
   ]
  },
  {
   "cell_type": "code",
   "execution_count": 14,
   "metadata": {},
   "outputs": [],
   "source": [
    "dept = ParseDept(\"./cx_Oracle/dept.xml\")"
   ]
  },
  {
   "cell_type": "code",
   "execution_count": 15,
   "metadata": {},
   "outputs": [
    {
     "data": {
      "text/plain": [
       "{'10': {'department_id': '10',\n",
       "  'department_name': 'Administration',\n",
       "  'manager_id': '200',\n",
       "  'location_id': '1700'},\n",
       " '20': {'department_id': '20',\n",
       "  'department_name': 'Marketing',\n",
       "  'manager_id': '201',\n",
       "  'location_id': '1800'},\n",
       " '30': {'department_id': '30',\n",
       "  'department_name': 'Purchasing',\n",
       "  'manager_id': '114',\n",
       "  'location_id': '1700'},\n",
       " '40': {'department_id': '40',\n",
       "  'department_name': 'Human Resources',\n",
       "  'manager_id': '203',\n",
       "  'location_id': '2400'},\n",
       " '50': {'department_id': '50',\n",
       "  'department_name': 'Shipping',\n",
       "  'manager_id': '121',\n",
       "  'location_id': '1500'},\n",
       " '60': {'department_id': '60',\n",
       "  'department_name': 'IT',\n",
       "  'manager_id': '103',\n",
       "  'location_id': '1400'},\n",
       " '70': {'department_id': '70',\n",
       "  'department_name': 'Public Relations',\n",
       "  'manager_id': '204',\n",
       "  'location_id': '2700'},\n",
       " '80': {'department_id': '80',\n",
       "  'department_name': 'Sales',\n",
       "  'manager_id': '145',\n",
       "  'location_id': '2500'},\n",
       " '90': {'department_id': '90',\n",
       "  'department_name': 'Executive',\n",
       "  'manager_id': '100',\n",
       "  'location_id': '1700'},\n",
       " '100': {'department_id': '100',\n",
       "  'department_name': 'Finance',\n",
       "  'manager_id': '108',\n",
       "  'location_id': '1700'},\n",
       " '110': {'department_id': '110',\n",
       "  'department_name': 'Accounting',\n",
       "  'manager_id': '205',\n",
       "  'location_id': '1700'},\n",
       " '120': {'department_id': '120',\n",
       "  'department_name': 'Treasury',\n",
       "  'location_id': '1700'},\n",
       " '130': {'department_id': '130',\n",
       "  'department_name': 'Corporate Tax',\n",
       "  'location_id': '1700'},\n",
       " '140': {'department_id': '140',\n",
       "  'department_name': 'Control And Credit',\n",
       "  'location_id': '1700'},\n",
       " '150': {'department_id': '150',\n",
       "  'department_name': 'Shareholder Services',\n",
       "  'location_id': '1700'},\n",
       " '160': {'department_id': '160',\n",
       "  'department_name': 'Benefits',\n",
       "  'location_id': '1700'},\n",
       " '170': {'department_id': '170',\n",
       "  'department_name': 'Manufacturing',\n",
       "  'location_id': '1700'},\n",
       " '180': {'department_id': '180',\n",
       "  'department_name': 'Construction',\n",
       "  'location_id': '1700'},\n",
       " '190': {'department_id': '190',\n",
       "  'department_name': 'Contracting',\n",
       "  'location_id': '1700'},\n",
       " '200': {'department_id': '200',\n",
       "  'department_name': 'Operations',\n",
       "  'location_id': '1700'},\n",
       " '210': {'department_id': '210',\n",
       "  'department_name': 'IT Support',\n",
       "  'location_id': '1700'},\n",
       " '220': {'department_id': '220',\n",
       "  'department_name': 'NOC',\n",
       "  'location_id': '1700'},\n",
       " '230': {'department_id': '230',\n",
       "  'department_name': 'IT Helpdesk',\n",
       "  'location_id': '1700'},\n",
       " '240': {'department_id': '240',\n",
       "  'department_name': 'Government Sales',\n",
       "  'location_id': '1700'},\n",
       " '250': {'department_id': '250',\n",
       "  'department_name': 'Retail Sales',\n",
       "  'location_id': '1700'},\n",
       " '260': {'department_id': '260',\n",
       "  'department_name': 'Recruiting',\n",
       "  'location_id': '1700'},\n",
       " '270': {'department_id': '270',\n",
       "  'department_name': 'Payroll',\n",
       "  'location_id': '1700'}}"
      ]
     },
     "execution_count": 15,
     "metadata": {},
     "output_type": "execute_result"
    }
   ],
   "source": [
    "dept"
   ]
  },
  {
   "cell_type": "markdown",
   "metadata": {},
   "source": [
    "Processing department data with xml.sax"
   ]
  },
  {
   "cell_type": "code",
   "execution_count": 16,
   "metadata": {},
   "outputs": [],
   "source": [
    "from xml.sax import make_parser\n",
    "from xml.sax.handler import ContentHandler\n",
    "\n",
    "class DeptHandler(ContentHandler):\n",
    "  dept = {}\n",
    "  \n",
    "  def startElement(self, name, attrs):\n",
    "    self.text = \"\"\n",
    "    return\n",
    "\n",
    "  def characters(self, ch):\n",
    "    self.text += ch\n",
    "    return\n",
    "\n",
    "  def endElement(self, name):\n",
    "    if name==\"DEPARTMENT_ID\":\n",
    "      self.curr = self.text\n",
    "      self.dept[self.text] = {}\n",
    "    elif name!=\"ROW\":\n",
    "      self.dept[self.curr][name.lower()] = self.text\n",
    "\n",
    "  def __del__(self):\n",
    "    print(self.dept)"
   ]
  },
  {
   "cell_type": "code",
   "execution_count": 17,
   "metadata": {},
   "outputs": [],
   "source": [
    "parser = make_parser()\n",
    "parser.setContentHandler(DeptHandler())\n"
   ]
  },
  {
   "cell_type": "code",
   "execution_count": 18,
   "metadata": {},
   "outputs": [],
   "source": [
    "xdoc=parser.parse(open(\"./cx_Oracle/dept.xml\"))"
   ]
  },
  {
   "cell_type": "code",
   "execution_count": 20,
   "metadata": {},
   "outputs": [
    {
     "data": {
      "text/plain": [
       "NoneType"
      ]
     },
     "execution_count": 20,
     "metadata": {},
     "output_type": "execute_result"
    }
   ],
   "source": [
    "type(xdoc)"
   ]
  },
  {
   "cell_type": "markdown",
   "metadata": {},
   "source": [
    "Parsing XML with ElementTree module"
   ]
  },
  {
   "cell_type": "code",
   "execution_count": 21,
   "metadata": {},
   "outputs": [],
   "source": [
    "from xml.etree.ElementTree import ElementTree\n",
    "\n",
    "class DeptTree:\n",
    "  def __init__(self, xmlfile):\n",
    "    self.tree = ElementTree()\n",
    "    self.tree.parse(xmlfile)\n",
    "\n",
    "  def traverse(self):\n",
    "    dept = {}\n",
    "    rows = self.tree.findall(\"ROW\")\n",
    "    for row in rows:\n",
    "      for elem in row.findall(\"*\"):\n",
    "        if elem.tag==\"DEPARTMENT_ID\":\n",
    "          dept_id = elem.text\n",
    "          dept[dept_id] = {}\n",
    "        else:\n",
    "          dept[dept_id][elem.tag.lower()] = elem.text\n",
    "    return dept "
   ]
  },
  {
   "cell_type": "code",
   "execution_count": 22,
   "metadata": {},
   "outputs": [],
   "source": [
    "dt = DeptTree(\"./cx_Oracle/dept.xml\").traverse()"
   ]
  },
  {
   "cell_type": "code",
   "execution_count": 23,
   "metadata": {},
   "outputs": [
    {
     "data": {
      "text/plain": [
       "{'10': {'department_name': 'Administration',\n",
       "  'manager_id': '200',\n",
       "  'location_id': '1700'},\n",
       " '20': {'department_name': 'Marketing',\n",
       "  'manager_id': '201',\n",
       "  'location_id': '1800'},\n",
       " '30': {'department_name': 'Purchasing',\n",
       "  'manager_id': '114',\n",
       "  'location_id': '1700'},\n",
       " '40': {'department_name': 'Human Resources',\n",
       "  'manager_id': '203',\n",
       "  'location_id': '2400'},\n",
       " '50': {'department_name': 'Shipping',\n",
       "  'manager_id': '121',\n",
       "  'location_id': '1500'},\n",
       " '60': {'department_name': 'IT', 'manager_id': '103', 'location_id': '1400'},\n",
       " '70': {'department_name': 'Public Relations',\n",
       "  'manager_id': '204',\n",
       "  'location_id': '2700'},\n",
       " '80': {'department_name': 'Sales',\n",
       "  'manager_id': '145',\n",
       "  'location_id': '2500'},\n",
       " '90': {'department_name': 'Executive',\n",
       "  'manager_id': '100',\n",
       "  'location_id': '1700'},\n",
       " '100': {'department_name': 'Finance',\n",
       "  'manager_id': '108',\n",
       "  'location_id': '1700'},\n",
       " '110': {'department_name': 'Accounting',\n",
       "  'manager_id': '205',\n",
       "  'location_id': '1700'},\n",
       " '120': {'department_name': 'Treasury', 'location_id': '1700'},\n",
       " '130': {'department_name': 'Corporate Tax', 'location_id': '1700'},\n",
       " '140': {'department_name': 'Control And Credit', 'location_id': '1700'},\n",
       " '150': {'department_name': 'Shareholder Services', 'location_id': '1700'},\n",
       " '160': {'department_name': 'Benefits', 'location_id': '1700'},\n",
       " '170': {'department_name': 'Manufacturing', 'location_id': '1700'},\n",
       " '180': {'department_name': 'Construction', 'location_id': '1700'},\n",
       " '190': {'department_name': 'Contracting', 'location_id': '1700'},\n",
       " '200': {'department_name': 'Operations', 'location_id': '1700'},\n",
       " '210': {'department_name': 'IT Support', 'location_id': '1700'},\n",
       " '220': {'department_name': 'NOC', 'location_id': '1700'},\n",
       " '230': {'department_name': 'IT Helpdesk', 'location_id': '1700'},\n",
       " '240': {'department_name': 'Government Sales', 'location_id': '1700'},\n",
       " '250': {'department_name': 'Retail Sales', 'location_id': '1700'},\n",
       " '260': {'department_name': 'Recruiting', 'location_id': '1700'},\n",
       " '270': {'department_name': 'Payroll', 'location_id': '1700'}}"
      ]
     },
     "execution_count": 23,
     "metadata": {},
     "output_type": "execute_result"
    }
   ],
   "source": [
    "dt"
   ]
  },
  {
   "cell_type": "markdown",
   "metadata": {},
   "source": [
    "Judging from these implementations, ElementTree is clearly a winner in areas of usability and development speed. It complements Python with powerful processing capabilities that are easy to use and just feel very natural. And then there's its C implementation called cElementTree (remember cPickle?), which makes it perform really efficiently. "
   ]
  },
  {
   "cell_type": "code",
   "execution_count": null,
   "metadata": {},
   "outputs": [],
   "source": []
  }
 ],
 "metadata": {
  "kernelspec": {
   "display_name": "Python 3",
   "language": "python",
   "name": "python3"
  },
  "language_info": {
   "codemirror_mode": {
    "name": "ipython",
    "version": 3
   },
   "file_extension": ".py",
   "mimetype": "text/x-python",
   "name": "python",
   "nbconvert_exporter": "python",
   "pygments_lexer": "ipython3",
   "version": "3.6.5"
  }
 },
 "nbformat": 4,
 "nbformat_minor": 2
}
