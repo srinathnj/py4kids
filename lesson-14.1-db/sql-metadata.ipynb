{
 "cells": [
  {
   "cell_type": "code",
   "execution_count": 1,
   "metadata": {},
   "outputs": [
    {
     "name": "stdout",
     "output_type": "stream",
     "text": [
      "Requirement already satisfied: sql-metadata in c:\\anaconda3\\lib\\site-packages (2.4.0)\n",
      "Requirement already satisfied: sqlparse<0.5.0,>=0.4.1 in c:\\anaconda3\\lib\\site-packages (from sql-metadata) (0.4.2)\n"
     ]
    }
   ],
   "source": [
    "!pip install sql-metadata"
   ]
  },
  {
   "cell_type": "markdown",
   "metadata": {},
   "source": [
    "0) sql_metadata\n",
    "https://pypi.org/project/sql-metadata/\n",
    "https://github.com/macbre/sql-metadata\n",
    "\n",
    "1) re\n",
    "https://grisha.org/blog/2016/11/14/table-names-from-sql/\n",
    "\n",
    "2) sqlparse\n",
    "https://github.com/andialbrecht/sqlparse/blob/master/examples/extract_table_names.py\n",
    "\n",
    "3) stackoverflow\n",
    "https://stackoverflow.com/questions/60822203/how-to-parse-any-sql-get-columns-names-and-table-name-using-sql-parser-in-python"
   ]
  },
  {
   "cell_type": "code",
   "execution_count": 20,
   "metadata": {},
   "outputs": [],
   "source": [
    "# This allows multiple outputs from a single jupyter notebook cell:\n",
    "from IPython.core.interactiveshell import InteractiveShell\n",
    "InteractiveShell.ast_node_interactivity = \"all\""
   ]
  },
  {
   "cell_type": "code",
   "execution_count": 4,
   "metadata": {},
   "outputs": [],
   "source": [
    "from sql_metadata import Parser\n",
    "\n",
    "# extract raw sql-metadata tokens\n",
    "tokens = Parser(\"SELECT * FROM foo\").tokens\n",
    "# ['SELECT', '*', 'FROM', 'foo']"
   ]
  },
  {
   "cell_type": "code",
   "execution_count": 5,
   "metadata": {},
   "outputs": [
    {
     "data": {
      "text/plain": [
       "4"
      ]
     },
     "execution_count": 5,
     "metadata": {},
     "output_type": "execute_result"
    }
   ],
   "source": [
    "len(tokens)"
   ]
  },
  {
   "cell_type": "code",
   "execution_count": 6,
   "metadata": {},
   "outputs": [
    {
     "data": {
      "text/plain": [
       "SQLToken(position=0,value=SELECT,is_keyword=True,is_name=False,is_punctuation=False,is_dot=False,is_wildcard=False,is_integer=False,is_float=False,is_comment=False,is_as_keyword=False,is_left_parenthesis=False,is_right_parenthesis=False,last_keyword=None,next_token=*,previous_token=,subquery_level=0,token_type=None,is_in_nested_function=False,parenthesis_level=0,is_subquery_start=False,is_subquery_end=False,is_with_query_start=False,is_with_query_end=False,is_with_columns_start=False,is_with_columns_end=False,is_nested_function_start=False,is_nested_function_end=False,is_column_definition_start=False,is_column_definition_end=False,is_create_table_columns_declaration_start=False,is_create_table_columns_declaration_end=False,is_partition_clause_start=False,is_partition_clause_end=False)"
      ]
     },
     "execution_count": 6,
     "metadata": {},
     "output_type": "execute_result"
    }
   ],
   "source": [
    "tokens[0]"
   ]
  },
  {
   "cell_type": "code",
   "execution_count": 7,
   "metadata": {},
   "outputs": [
    {
     "data": {
      "text/plain": [
       "[('SELECT', True), ('*', False), ('FROM', True), ('foo', False)]"
      ]
     },
     "execution_count": 7,
     "metadata": {},
     "output_type": "execute_result"
    }
   ],
   "source": [
    "[(t.value, t.is_keyword) for t in tokens]"
   ]
  },
  {
   "cell_type": "markdown",
   "metadata": {},
   "source": [
    "## Extracting columns/alias from query"
   ]
  },
  {
   "cell_type": "code",
   "execution_count": 8,
   "metadata": {},
   "outputs": [
    {
     "data": {
      "text/plain": [
       "['test', 'id']"
      ]
     },
     "execution_count": 8,
     "metadata": {},
     "output_type": "execute_result"
    }
   ],
   "source": [
    "# get columns from query - for more examples see `tests/test_getting_columns.py`\n",
    "Parser(\"SELECT test, id FROM foo, bar\").columns\n",
    "# ['test', 'id']"
   ]
  },
  {
   "cell_type": "code",
   "execution_count": 9,
   "metadata": {},
   "outputs": [
    {
     "data": {
      "text/plain": [
       "['article_id', 'user_id', 'time']"
      ]
     },
     "execution_count": 9,
     "metadata": {},
     "output_type": "execute_result"
    }
   ],
   "source": [
    "Parser(\"INSERT /* VoteHelper::addVote xxx */  INTO `page_vote` (article_id,user_id,`time`) VALUES ('442001','27574631','20180228130846')\").columns\n",
    "# ['article_id', 'user_id', 'time']"
   ]
  },
  {
   "cell_type": "code",
   "execution_count": 10,
   "metadata": {},
   "outputs": [
    {
     "data": {
      "text/plain": [
       "['product_a.users.*',\n",
       " 'product_a.users.ip_address',\n",
       " 'product_b.users.ip_address']"
      ]
     },
     "execution_count": 10,
     "metadata": {},
     "output_type": "execute_result"
    }
   ],
   "source": [
    "parser = Parser(\"SELECT a.* FROM product_a.users AS a JOIN product_b.users AS b ON a.ip_address = b.ip_address\")\n",
    "\n",
    "# note that aliases are auto-resolved\n",
    "parser.columns\n",
    "# ['product_a.*', 'product_a.users.ip_address', 'product_b.users.ip_address']"
   ]
  },
  {
   "cell_type": "code",
   "execution_count": 11,
   "metadata": {},
   "outputs": [
    {
     "data": {
      "text/plain": [
       "{'select': ['product_a.users.*'],\n",
       " 'join': ['product_a.users.ip_address', 'product_b.users.ip_address']}"
      ]
     },
     "execution_count": 11,
     "metadata": {},
     "output_type": "execute_result"
    }
   ],
   "source": [
    "# note that you can also extract columns with their place in the query\n",
    "# which will return dict with lists divided into select, where, order_by, group_by, join, insert and update\n",
    "parser.columns_dict\n",
    "# {'select': ['product_a.users.*'], 'join': ['product_a.users.ip_address', 'product_b.users.ip_address']}"
   ]
  },
  {
   "cell_type": "code",
   "execution_count": 12,
   "metadata": {},
   "outputs": [
    {
     "data": {
      "text/plain": [
       "['a', 'b', 'c', 'u', 'd']"
      ]
     },
     "execution_count": 12,
     "metadata": {},
     "output_type": "execute_result"
    }
   ],
   "source": [
    "parser = Parser(\"SELECT a, (b + c - u) as alias1, custome_func(d) alias2 from aa, bb order by alias1\")\n",
    "\n",
    "# note that columns list do not contain aliases of the columns\n",
    "parser.columns\n",
    "# [\"a\", \"b\", \"c\", \"u\", \"d\"]"
   ]
  },
  {
   "cell_type": "code",
   "execution_count": 13,
   "metadata": {},
   "outputs": [
    {
     "data": {
      "text/plain": [
       "['alias1', 'alias2']"
      ]
     },
     "execution_count": 13,
     "metadata": {},
     "output_type": "execute_result"
    }
   ],
   "source": [
    "# but you can still extract aliases names\n",
    "parser.columns_aliases_names\n",
    "# [\"alias1\", \"alias2\"]"
   ]
  },
  {
   "cell_type": "code",
   "execution_count": 14,
   "metadata": {},
   "outputs": [
    {
     "data": {
      "text/plain": [
       "{'alias1': ['b', 'c', 'u'], 'alias2': 'd'}"
      ]
     },
     "execution_count": 14,
     "metadata": {},
     "output_type": "execute_result"
    }
   ],
   "source": [
    "# aliases are resolved to the columns which they refer to\n",
    "parser.columns_aliases\n",
    "# {\"alias1\": [\"b\", \"c\", \"u\"], \"alias2\": \"d\"}"
   ]
  },
  {
   "cell_type": "code",
   "execution_count": 15,
   "metadata": {},
   "outputs": [
    {
     "data": {
      "text/plain": [
       "{'select': ['alias1', 'alias2'], 'order_by': ['alias1']}"
      ]
     },
     "execution_count": 15,
     "metadata": {},
     "output_type": "execute_result"
    }
   ],
   "source": [
    "# you can also extract aliases used by section of the query in which they are used\n",
    "parser.columns_aliases_dict\n",
    "# {\"order_by\": [\"alias1\"], \"select\": [\"alias1\", \"alias2\"]}"
   ]
  },
  {
   "cell_type": "code",
   "execution_count": 16,
   "metadata": {},
   "outputs": [],
   "source": [
    "# the same applies to aliases used in queries section when you extract columns_dict\n",
    "# here only the alias is used in order by but it's resolved to actual columns\n",
    "assert parser.columns_dict == {'order_by': ['b', 'c', 'u'],\n",
    "                               'select': ['a', 'b', 'c', 'u', 'd']}"
   ]
  },
  {
   "cell_type": "markdown",
   "metadata": {},
   "source": [
    "## Extracting tables from query"
   ]
  },
  {
   "cell_type": "code",
   "execution_count": 17,
   "metadata": {},
   "outputs": [
    {
     "data": {
      "text/plain": [
       "['product_a.users', 'product_b.users']"
      ]
     },
     "execution_count": 17,
     "metadata": {},
     "output_type": "execute_result"
    }
   ],
   "source": [
    "# get tables from query - for more examples see `tests/test_getting_tables.py`\n",
    "Parser(\"SELECT a.* FROM product_a.users AS a JOIN product_b.users AS b ON a.ip_address = b.ip_address\").tables\n",
    "# ['product_a.users', 'product_b.users']"
   ]
  },
  {
   "cell_type": "code",
   "execution_count": 18,
   "metadata": {},
   "outputs": [
    {
     "data": {
      "text/plain": [
       "['foo', 'bar']"
      ]
     },
     "execution_count": 18,
     "metadata": {},
     "output_type": "execute_result"
    }
   ],
   "source": [
    "Parser(\"SELECT test, id FROM foo, bar\").tables\n",
    "# ['foo', 'bar']"
   ]
  },
  {
   "cell_type": "code",
   "execution_count": 21,
   "metadata": {},
   "outputs": [
    {
     "data": {
      "text/plain": [
       "{'f': 'foo'}"
      ]
     },
     "execution_count": 21,
     "metadata": {},
     "output_type": "execute_result"
    },
    {
     "data": {
      "text/plain": [
       "['foo.test']"
      ]
     },
     "execution_count": 21,
     "metadata": {},
     "output_type": "execute_result"
    }
   ],
   "source": [
    "# you can also extract aliases of the tables as a dictionary\n",
    "parser = Parser(\"SELECT f.test FROM foo AS f\")\n",
    "\n",
    "# get table aliases\n",
    "parser.tables_aliases\n",
    "# {'f': 'foo'}\n",
    "\n",
    "# note that aliases are auto-resolved for columns\n",
    "parser.columns\n",
    "# [\"foo.test\"]"
   ]
  },
  {
   "cell_type": "markdown",
   "metadata": {},
   "source": [
    "## Extracting values from insert query"
   ]
  },
  {
   "cell_type": "code",
   "execution_count": 24,
   "metadata": {},
   "outputs": [],
   "source": [
    "parser = Parser(\n",
    "    \"INSERT /* VoteHelper::addVote xxx */  INTO `db_test.page_vote` (article_id,user_id,`time`) \" \n",
    "    \"VALUES ('442001','27574631','20180228130846')\"\n",
    ")"
   ]
  },
  {
   "cell_type": "code",
   "execution_count": 25,
   "metadata": {},
   "outputs": [
    {
     "data": {
      "text/plain": [
       "['db_test.page_vote']"
      ]
     },
     "execution_count": 25,
     "metadata": {},
     "output_type": "execute_result"
    }
   ],
   "source": [
    "parser.tables"
   ]
  },
  {
   "cell_type": "code",
   "execution_count": 26,
   "metadata": {},
   "outputs": [
    {
     "data": {
      "text/plain": [
       "['442001', '27574631', '20180228130846']"
      ]
     },
     "execution_count": 26,
     "metadata": {},
     "output_type": "execute_result"
    },
    {
     "data": {
      "text/plain": [
       "{'article_id': '442001', 'user_id': '27574631', 'time': '20180228130846'}"
      ]
     },
     "execution_count": 26,
     "metadata": {},
     "output_type": "execute_result"
    },
    {
     "data": {
      "text/plain": [
       "['table']"
      ]
     },
     "execution_count": 26,
     "metadata": {},
     "output_type": "execute_result"
    },
    {
     "data": {
      "text/plain": [
       "[9, 2.15, '123', '2017-01-01']"
      ]
     },
     "execution_count": 26,
     "metadata": {},
     "output_type": "execute_result"
    },
    {
     "data": {
      "text/plain": [
       "{'column_1': 9, 'column_2': 2.15, 'column_3': '123', 'column_4': '2017-01-01'}"
      ]
     },
     "execution_count": 26,
     "metadata": {},
     "output_type": "execute_result"
    }
   ],
   "source": [
    "# extract values from query\n",
    "parser.values\n",
    "# [\"442001\", \"27574631\", \"20180228130846\"]\n",
    "\n",
    "# extract a dictionary with column-value pairs\n",
    "parser.values_dict\n",
    "#{\"article_id\": \"442001\", \"user_id\": \"27574631\", \"time\": \"20180228130846\"}\n",
    "\n",
    "# if column names are not set auto-add placeholders\n",
    "parser = Parser(\n",
    "    \"INSERT IGNORE INTO `table` VALUES (9, 2.15, '123', '2017-01-01');\"\n",
    ")\n",
    "\n",
    "parser.tables\n",
    "\n",
    "parser.values\n",
    "# [9, 2.15, \"123\", \"2017-01-01\"]\n",
    "\n",
    "parser.values_dict\n",
    "#{\"column_1\": 9, \"column_2\": 2.15, \"column_3\": \"123\", \"column_4\": \"2017-01-01\"}"
   ]
  },
  {
   "cell_type": "code",
   "execution_count": 27,
   "metadata": {},
   "outputs": [
    {
     "data": {
      "text/plain": [
       "['db.table', 'dual']"
      ]
     },
     "execution_count": 27,
     "metadata": {},
     "output_type": "execute_result"
    }
   ],
   "source": [
    "parser = Parser(\n",
    "    \"INSERT INTO `db.table` select (9, 2.15, '123', '2017-01-01') from dual;\"\n",
    ")\n",
    "\n",
    "parser.tables"
   ]
  },
  {
   "cell_type": "markdown",
   "metadata": {},
   "source": [
    "## Extracting limit and offset"
   ]
  },
  {
   "cell_type": "code",
   "execution_count": 28,
   "metadata": {},
   "outputs": [
    {
     "data": {
      "text/plain": [
       "(50, 1000)"
      ]
     },
     "execution_count": 28,
     "metadata": {},
     "output_type": "execute_result"
    },
    {
     "data": {
      "text/plain": [
       "(50, 2000)"
      ]
     },
     "execution_count": 28,
     "metadata": {},
     "output_type": "execute_result"
    }
   ],
   "source": [
    "Parser('SELECT foo_limit FROM bar_offset LIMIT 50 OFFSET 1000').limit_and_offset\n",
    "# (50, 1000)\n",
    "\n",
    "Parser('SELECT foo_limit FROM bar_offset limit 2000,50').limit_and_offset\n",
    "# (50, 2000)"
   ]
  },
  {
   "cell_type": "markdown",
   "metadata": {},
   "source": [
    "## Extracting with names"
   ]
  },
  {
   "cell_type": "code",
   "execution_count": 29,
   "metadata": {},
   "outputs": [
    {
     "data": {
      "text/plain": [
       "['database1.tableFromWith', 'test']"
      ]
     },
     "execution_count": 29,
     "metadata": {},
     "output_type": "execute_result"
    },
    {
     "data": {
      "text/plain": [
       "{'database1.tableFromWith': 'SELECT aa.* FROM db2.table3 as aa left join table4 on aa.col1 = table4.col2',\n",
       " 'test': 'SELECT * from db3.table3'}"
      ]
     },
     "execution_count": 29,
     "metadata": {},
     "output_type": "execute_result"
    },
    {
     "data": {
      "text/plain": [
       "['db2.table3',\n",
       " 'table4',\n",
       " 'db3.table3',\n",
       " 'catalog.database1.tableFromWith',\n",
       " 'database2.table2']"
      ]
     },
     "execution_count": 29,
     "metadata": {},
     "output_type": "execute_result"
    }
   ],
   "source": [
    "parser = Parser(\n",
    "    \"\"\"\n",
    "WITH\n",
    "    database1.tableFromWith AS (SELECT aa.* FROM db2.table3 as aa \n",
    "                                left join table4 on aa.col1=table4.col2),\n",
    "    test as (SELECT * from db3.table3)\n",
    "SELECT\n",
    "  \"xxxxx\"\n",
    "FROM\n",
    "  catalog.database1.tableFromWith alias\n",
    "LEFT JOIN database2.table2 ON (\"tt\".\"ttt\".\"fff\" = \"xx\".\"xxx\")\n",
    "\"\"\"\n",
    ")\n",
    "\n",
    "# get names/ aliases of with statements\n",
    "parser.with_names\n",
    "# [\"database1.tableFromWith\", \"test\"]\n",
    "\n",
    "# get definition of with queries\n",
    "parser.with_queries\n",
    "# {\"database1.tableFromWith\": \"SELECT aa.* FROM table3 as aa left join table4 on aa.col1=table4.col2\"\n",
    "#  \"test\": \"SELECT * from table3\"}\n",
    "\n",
    "# note that names of with statements do not appear in tables\n",
    "parser.tables\n",
    "# [\"table3\", \"table4\", \"database2.table2\"]"
   ]
  },
  {
   "cell_type": "markdown",
   "metadata": {},
   "source": [
    "## Extracting sub-queries"
   ]
  },
  {
   "cell_type": "code",
   "execution_count": 30,
   "metadata": {},
   "outputs": [
    {
     "data": {
      "text/plain": [
       "['some_task_detail', 'some_task']"
      ]
     },
     "execution_count": 30,
     "metadata": {},
     "output_type": "execute_result"
    },
    {
     "data": {
      "text/plain": [
       "{'a': 'SELECT std.task_id FROM some_task_detail std WHERE std.STATUS = 1',\n",
       " 'b': 'SELECT st.task_id FROM some_task st WHERE task_type_id = 80'}"
      ]
     },
     "execution_count": 30,
     "metadata": {},
     "output_type": "execute_result"
    },
    {
     "data": {
      "text/plain": [
       "['a', 'b']"
      ]
     },
     "execution_count": 30,
     "metadata": {},
     "output_type": "execute_result"
    },
    {
     "data": {
      "text/plain": [
       "['some_task_detail.task_id',\n",
       " 'some_task_detail.STATUS',\n",
       " 'some_task.task_id',\n",
       " 'task_type_id']"
      ]
     },
     "execution_count": 30,
     "metadata": {},
     "output_type": "execute_result"
    },
    {
     "data": {
      "text/plain": [
       "{'select': ['some_task_detail.task_id', 'some_task.task_id'],\n",
       " 'where': ['some_task_detail.STATUS', 'task_type_id'],\n",
       " 'join': ['some_task_detail.task_id', 'some_task.task_id']}"
      ]
     },
     "execution_count": 30,
     "metadata": {},
     "output_type": "execute_result"
    }
   ],
   "source": [
    "parser = Parser(\n",
    "\"\"\"\n",
    "SELECT COUNT(1) FROM\n",
    "(SELECT std.task_id FROM some_task_detail std WHERE std.STATUS = 1) a\n",
    "JOIN (SELECT st.task_id FROM some_task st WHERE task_type_id = 80) b\n",
    "ON a.task_id = b.task_id;\n",
    "\"\"\"\n",
    ")\n",
    "parser.tables\n",
    "\n",
    "# get sub-queries dictionary\n",
    "parser.subqueries\n",
    "# {\"a\": \"SELECT std.task_id FROM some_task_detail std WHERE std.STATUS = 1\",\n",
    "#  \"b\": \"SELECT st.task_id FROM some_task st WHERE task_type_id = 80\"}\n",
    "\n",
    "\n",
    "# get names/ aliases of sub-queries / derived tables\n",
    "parser.subqueries_names\n",
    "# [\"a\", \"b\"]\n",
    "\n",
    "# note that columns coming from sub-queries are resolved to real columns\n",
    "parser.columns\n",
    "#[\"some_task_detail.task_id\", \"some_task_detail.STATUS\", \"some_task.task_id\", \n",
    "# \"task_type_id\"]\n",
    "\n",
    "# same applies for columns_dict, note the join columns are resolved\n",
    "parser.columns_dict\n",
    "#{'join': ['some_task_detail.task_id', 'some_task.task_id'],\n",
    "# 'select': ['some_task_detail.task_id', 'some_task.task_id'],\n",
    "# 'where': ['some_task_detail.STATUS', 'task_type_id']}"
   ]
  },
  {
   "cell_type": "markdown",
   "metadata": {},
   "source": [
    "## Queries normalization and comments extraction"
   ]
  },
  {
   "cell_type": "code",
   "execution_count": 31,
   "metadata": {},
   "outputs": [
    {
     "data": {
      "text/plain": [
       "['bar']"
      ]
     },
     "execution_count": 31,
     "metadata": {},
     "output_type": "execute_result"
    },
    {
     "data": {
      "text/plain": [
       "'SELECT foo FROM bar WHERE id in (XYZ)'"
      ]
     },
     "execution_count": 31,
     "metadata": {},
     "output_type": "execute_result"
    },
    {
     "data": {
      "text/plain": [
       "'SELECT foo FROM bar WHERE id in (1, 2, 56)'"
      ]
     },
     "execution_count": 31,
     "metadata": {},
     "output_type": "execute_result"
    },
    {
     "data": {
      "text/plain": [
       "['/* Test */']"
      ]
     },
     "execution_count": 31,
     "metadata": {},
     "output_type": "execute_result"
    }
   ],
   "source": [
    "parser = Parser('SELECT /* Test */ foo FROM bar WHERE id in (1, 2, 56)')\n",
    "\n",
    "parser.tables\n",
    "\n",
    "# generalize query\n",
    "parser.generalize\n",
    "# 'SELECT foo FROM bar WHERE id in (XYZ)'\n",
    "\n",
    "# remove comments\n",
    "parser.without_comments\n",
    "# 'SELECT foo FROM bar WHERE id in (1, 2, 56)'\n",
    "\n",
    "# extract comments\n",
    "parser.comments\n",
    "# ['/* Test */']"
   ]
  },
  {
   "cell_type": "code",
   "execution_count": null,
   "metadata": {},
   "outputs": [],
   "source": []
  }
 ],
 "metadata": {
  "kernelspec": {
   "display_name": "Python 3",
   "language": "python",
   "name": "python3"
  },
  "language_info": {
   "codemirror_mode": {
    "name": "ipython",
    "version": 3
   },
   "file_extension": ".py",
   "mimetype": "text/x-python",
   "name": "python",
   "nbconvert_exporter": "python",
   "pygments_lexer": "ipython3",
   "version": "3.8.5"
  },
  "toc": {
   "base_numbering": 1,
   "nav_menu": {},
   "number_sections": true,
   "sideBar": true,
   "skip_h1_title": false,
   "title_cell": "Table of Contents",
   "title_sidebar": "Contents",
   "toc_cell": false,
   "toc_position": {},
   "toc_section_display": true,
   "toc_window_display": false
  }
 },
 "nbformat": 4,
 "nbformat_minor": 4
}
