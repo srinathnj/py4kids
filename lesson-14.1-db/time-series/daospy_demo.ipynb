{
 "cells": [
  {
   "cell_type": "markdown",
   "id": "439e50ab-c0c2-4ddf-8ef9-f3371c49ce0c",
   "metadata": {},
   "source": [
    "# TDengine Python Client Library\n",
    "\n",
    "- https://docs.tdengine.com/cloud/programming/client-libraries/python/"
   ]
  },
  {
   "cell_type": "code",
   "execution_count": 2,
   "id": "b2e200bf-413d-4511-8477-d26153bc9257",
   "metadata": {},
   "outputs": [
    {
     "data": {
      "text/plain": [
       "True"
      ]
     },
     "execution_count": 2,
     "metadata": {},
     "output_type": "execute_result"
    }
   ],
   "source": [
    "from dotenv import load_dotenv\n",
    "\n",
    "load_dotenv()  # take environment variables from .env."
   ]
  },
  {
   "cell_type": "markdown",
   "id": "dfb2697d-4f39-45c7-be70-555d381450e1",
   "metadata": {},
   "source": [
    " [一条SQL，带你进入AI时代](https://mp.weixin.qq.com/s?__biz=MzIzNzg5MTcxNA==&mid=2247485195&idx=1&sn=58e0ad69b0e81462679b67568f8a4dd0&chksm=e9a3165aba10a3d786b7ef0608f9d15edcbc49db73067bcf039fde2ac91312e10eaeb24b39f3&mpshare=1&srcid=0801Q5hoXvcDgW8onnQcV8uw&sharer_shareinfo=09d603f86dea4467fcb60f79988765bb&sharer_shareinfo_first=9453b7bc95c51669decc72997a0c8f7f&from=singlemessage&scene=1&subscene=10000&clicktime=1727575085&enterid=1727575085&sessionid=0&ascene=1&fasttmpl_type=0&fasttmpl_fullversion=7402152-en_US-zip&fasttmpl_flag=0&realreporttime=1727575085484#rd) \n",
    "\n",
    " Two new SQL functions\n",
    "\n",
    " - select _rowts, forecast(ts, val, 300) from demo.d100;\n",
    " - select _rowts, anomaly(ts, val, 99) as anomaly from demo.d100;"
   ]
  },
  {
   "cell_type": "markdown",
   "id": "cac23a37-304c-4a36-836c-c6881b7e819e",
   "metadata": {},
   "source": [
    "### Check server version"
   ]
  },
  {
   "cell_type": "code",
   "execution_count": 3,
   "id": "6d95f183-0ab3-45e6-bb39-9e9254d06b10",
   "metadata": {},
   "outputs": [
    {
     "name": "stdout",
     "output_type": "stream",
     "text": [
      "server version: 3.3.2.11.202409060825\n"
     ]
    }
   ],
   "source": [
    "import taosrest\n",
    "import os\n",
    "\n",
    "url = os.environ[\"TDENGINE_CLOUD_URL\"]\n",
    "token = os.environ[\"TDENGINE_CLOUD_TOKEN\"]\n",
    "\n",
    "conn = taosrest.connect(url=url, token=token)\n",
    "# test the connection by getting version info\n",
    "print(\"server version:\", conn.server_info)"
   ]
  },
  {
   "cell_type": "markdown",
   "id": "3e2c0c8e-7937-4e98-a0e1-1c7bc41239c3",
   "metadata": {},
   "source": [
    "### Simple Query"
   ]
  },
  {
   "cell_type": "code",
   "execution_count": 5,
   "id": "cc032a78-5877-4921-92f1-7ec5287587ef",
   "metadata": {},
   "outputs": [],
   "source": [
    "import os\n",
    "from taosrest import RestClient\n",
    "\n",
    "url = os.environ[\"TDENGINE_CLOUD_URL\"]\n",
    "token = os.environ[\"TDENGINE_CLOUD_TOKEN\"]"
   ]
  },
  {
   "cell_type": "code",
   "execution_count": 6,
   "id": "3256bd03-1f9c-4e4a-b282-5728ef0536be",
   "metadata": {},
   "outputs": [],
   "source": [
    "sql_stmt = \"\"\"\n",
    "select * from test.meters limit 10;\n",
    "\"\"\""
   ]
  },
  {
   "cell_type": "code",
   "execution_count": 7,
   "id": "62dc4f1e-8416-40f7-b4fd-ef0281cd4510",
   "metadata": {},
   "outputs": [
    {
     "name": "stdout",
     "output_type": "stream",
     "text": [
      "{'code': 0, 'column_meta': [['ts', 'TIMESTAMP', 8], ['current', 'FLOAT', 4], ['voltage', 'INT', 4], ['phase', 'FLOAT', 4], ['groupid', 'INT', 4], ['location', 'VARCHAR', 24]], 'data': [[datetime.datetime(2017, 7, 13, 22, 40), 6.735898, 253, 145.5, 7, 'California.SanFrancisco'], [datetime.datetime(2017, 7, 13, 22, 40, 1), 6.674768, 243, 146.5, 7, 'California.SanFrancisco'], [datetime.datetime(2017, 7, 13, 22, 40, 2), 6.441229, 241, 146, 7, 'California.SanFrancisco'], [datetime.datetime(2017, 7, 13, 22, 40, 3), 6.436296, 237, 146.5, 7, 'California.SanFrancisco'], [datetime.datetime(2017, 7, 13, 22, 40, 4), 6.460769, 255, 148, 7, 'California.SanFrancisco'], [datetime.datetime(2017, 7, 13, 22, 40, 5), 6.315221, 243, 147.5, 7, 'California.SanFrancisco'], [datetime.datetime(2017, 7, 13, 22, 40, 6), 6.2, 241, 148, 7, 'California.SanFrancisco'], [datetime.datetime(2017, 7, 13, 22, 40, 7), 6.115221, 240, 148, 7, 'California.SanFrancisco'], [datetime.datetime(2017, 7, 13, 22, 40, 8), 6.360769, 251, 145.5, 7, 'California.SanFrancisco'], [datetime.datetime(2017, 7, 13, 22, 40, 9), 6.336297, 235, 146.5, 7, 'California.SanFrancisco']], 'rows': 10}\n"
     ]
    }
   ],
   "source": [
    "client = RestClient(url, token)\n",
    "res: dict = client.sql(sql_stmt)\n",
    "print(res)\n",
    "\n",
    "# output:\n",
    "# {'status': 'succ', 'head': ['ts', 'current'], 'column_meta': [['ts', 9, 8], ['current', 6, 4]], 'data': [[datetime.datetime(2018, 10, 3, 14, 38, 5, tzinfo=datetime.timezone(datetime.timedelta(seconds=28800), '+08:00')), 10.3]], 'rows': 1}"
   ]
  },
  {
   "cell_type": "code",
   "execution_count": 8,
   "id": "6f6ab4e1-1850-4d96-b987-c23719608eab",
   "metadata": {},
   "outputs": [
    {
     "data": {
      "text/plain": [
       "dict_keys(['code', 'column_meta', 'data', 'rows'])"
      ]
     },
     "execution_count": 8,
     "metadata": {},
     "output_type": "execute_result"
    }
   ],
   "source": [
    "res.keys()"
   ]
  },
  {
   "cell_type": "code",
   "execution_count": 9,
   "id": "09cb3369-ed55-40b2-8369-31f29cf0dd60",
   "metadata": {
    "scrolled": true
   },
   "outputs": [
    {
     "data": {
      "text/plain": [
       "[[datetime.datetime(2017, 7, 13, 22, 40),\n",
       "  6.735898,\n",
       "  253,\n",
       "  145.5,\n",
       "  7,\n",
       "  'California.SanFrancisco'],\n",
       " [datetime.datetime(2017, 7, 13, 22, 40, 1),\n",
       "  6.674768,\n",
       "  243,\n",
       "  146.5,\n",
       "  7,\n",
       "  'California.SanFrancisco'],\n",
       " [datetime.datetime(2017, 7, 13, 22, 40, 2),\n",
       "  6.441229,\n",
       "  241,\n",
       "  146,\n",
       "  7,\n",
       "  'California.SanFrancisco'],\n",
       " [datetime.datetime(2017, 7, 13, 22, 40, 3),\n",
       "  6.436296,\n",
       "  237,\n",
       "  146.5,\n",
       "  7,\n",
       "  'California.SanFrancisco'],\n",
       " [datetime.datetime(2017, 7, 13, 22, 40, 4),\n",
       "  6.460769,\n",
       "  255,\n",
       "  148,\n",
       "  7,\n",
       "  'California.SanFrancisco'],\n",
       " [datetime.datetime(2017, 7, 13, 22, 40, 5),\n",
       "  6.315221,\n",
       "  243,\n",
       "  147.5,\n",
       "  7,\n",
       "  'California.SanFrancisco'],\n",
       " [datetime.datetime(2017, 7, 13, 22, 40, 6),\n",
       "  6.2,\n",
       "  241,\n",
       "  148,\n",
       "  7,\n",
       "  'California.SanFrancisco'],\n",
       " [datetime.datetime(2017, 7, 13, 22, 40, 7),\n",
       "  6.115221,\n",
       "  240,\n",
       "  148,\n",
       "  7,\n",
       "  'California.SanFrancisco'],\n",
       " [datetime.datetime(2017, 7, 13, 22, 40, 8),\n",
       "  6.360769,\n",
       "  251,\n",
       "  145.5,\n",
       "  7,\n",
       "  'California.SanFrancisco'],\n",
       " [datetime.datetime(2017, 7, 13, 22, 40, 9),\n",
       "  6.336297,\n",
       "  235,\n",
       "  146.5,\n",
       "  7,\n",
       "  'California.SanFrancisco']]"
      ]
     },
     "execution_count": 9,
     "metadata": {},
     "output_type": "execute_result"
    }
   ],
   "source": [
    "res['data']"
   ]
  },
  {
   "cell_type": "markdown",
   "id": "dfc659eb-d1b2-4f02-8b0e-28eec98389a0",
   "metadata": {},
   "source": [
    "### TaosRestConnection"
   ]
  },
  {
   "cell_type": "code",
   "execution_count": 10,
   "id": "72d1bef3-f7b8-4dff-b6aa-88525b25b387",
   "metadata": {},
   "outputs": [
    {
     "name": "stdout",
     "output_type": "stream",
     "text": [
      "affected_row 0\n"
     ]
    }
   ],
   "source": [
    "affected_row = conn.execute(\"DROP DATABASE IF EXISTS power\")\n",
    "print(\"affected_row\", affected_row)  # 0"
   ]
  },
  {
   "cell_type": "code",
   "execution_count": 12,
   "id": "d408b7c1-c2c8-4f1d-9d21-04ddd1dd0833",
   "metadata": {},
   "outputs": [
    {
     "ename": "ConnectError",
     "evalue": "[0x0303]: Insufficient privilege for operation",
     "output_type": "error",
     "traceback": [
      "\u001b[0;31m---------------------------------------------------------------------------\u001b[0m",
      "\u001b[0;31mConnectError\u001b[0m                              Traceback (most recent call last)",
      "Cell \u001b[0;32mIn[12], line 1\u001b[0m\n\u001b[0;32m----> 1\u001b[0m affected_row \u001b[38;5;241m=\u001b[39m conn\u001b[38;5;241m.\u001b[39mexecute(\u001b[38;5;124m\"\u001b[39m\u001b[38;5;124mCREATE DATABASE power\u001b[39m\u001b[38;5;124m\"\u001b[39m)\n\u001b[1;32m      2\u001b[0m \u001b[38;5;28mprint\u001b[39m(\u001b[38;5;124m\"\u001b[39m\u001b[38;5;124maffected_row\u001b[39m\u001b[38;5;124m\"\u001b[39m, affected_row)\n",
      "File \u001b[0;32m~/anaconda3/lib/python3.11/site-packages/taosrest/connection.py:131\u001b[0m, in \u001b[0;36mTaosRestConnection.execute\u001b[0;34m(self, sql, req_id)\u001b[0m\n\u001b[1;32m    126\u001b[0m \u001b[38;5;28;01mdef\u001b[39;00m \u001b[38;5;21mexecute\u001b[39m(\u001b[38;5;28mself\u001b[39m, sql: \u001b[38;5;28mstr\u001b[39m, req_id: Optional[\u001b[38;5;28mint\u001b[39m] \u001b[38;5;241m=\u001b[39m \u001b[38;5;28;01mNone\u001b[39;00m) \u001b[38;5;241m-\u001b[39m\u001b[38;5;241m>\u001b[39m Optional[\u001b[38;5;28mint\u001b[39m]:\n\u001b[1;32m    127\u001b[0m \u001b[38;5;250m    \u001b[39m\u001b[38;5;124;03m\"\"\"\u001b[39;00m\n\u001b[1;32m    128\u001b[0m \u001b[38;5;124;03m    execute none query statement and return affected row count.\u001b[39;00m\n\u001b[1;32m    129\u001b[0m \u001b[38;5;124;03m    If there is not a column named \"affected_rows\" in response, then None is returned.\u001b[39;00m\n\u001b[1;32m    130\u001b[0m \u001b[38;5;124;03m    \"\"\"\u001b[39;00m\n\u001b[0;32m--> 131\u001b[0m     resp \u001b[38;5;241m=\u001b[39m \u001b[38;5;28mself\u001b[39m\u001b[38;5;241m.\u001b[39m_client\u001b[38;5;241m.\u001b[39msql(sql, req_id\u001b[38;5;241m=\u001b[39mreq_id)\n\u001b[1;32m    132\u001b[0m     \u001b[38;5;28;01mif\u001b[39;00m resp[\u001b[38;5;124m\"\u001b[39m\u001b[38;5;124mcolumn_meta\u001b[39m\u001b[38;5;124m\"\u001b[39m][\u001b[38;5;241m0\u001b[39m][\u001b[38;5;241m0\u001b[39m] \u001b[38;5;241m==\u001b[39m \u001b[38;5;124m\"\u001b[39m\u001b[38;5;124maffected_rows\u001b[39m\u001b[38;5;124m\"\u001b[39m:\n\u001b[1;32m    133\u001b[0m         \u001b[38;5;28;01mreturn\u001b[39;00m resp[\u001b[38;5;124m\"\u001b[39m\u001b[38;5;124mdata\u001b[39m\u001b[38;5;124m\"\u001b[39m][\u001b[38;5;241m0\u001b[39m][\u001b[38;5;241m0\u001b[39m]\n",
      "File \u001b[0;32m~/anaconda3/lib/python3.11/site-packages/taosrest/restclient.py:147\u001b[0m, in \u001b[0;36mRestClient.sql\u001b[0;34m(self, q, req_id)\u001b[0m\n\u001b[1;32m    145\u001b[0m \u001b[38;5;28;01melse\u001b[39;00m:\n\u001b[1;32m    146\u001b[0m     \u001b[38;5;28;01mif\u001b[39;00m resp[\u001b[38;5;124m\"\u001b[39m\u001b[38;5;124mcode\u001b[39m\u001b[38;5;124m\"\u001b[39m] \u001b[38;5;241m!=\u001b[39m \u001b[38;5;241m0\u001b[39m:\n\u001b[0;32m--> 147\u001b[0m         \u001b[38;5;28;01mraise\u001b[39;00m ConnectError(resp[\u001b[38;5;124m\"\u001b[39m\u001b[38;5;124mdesc\u001b[39m\u001b[38;5;124m\"\u001b[39m], resp[\u001b[38;5;124m\"\u001b[39m\u001b[38;5;124mcode\u001b[39m\u001b[38;5;124m\"\u001b[39m])\n\u001b[1;32m    148\u001b[0m \u001b[38;5;28;01mif\u001b[39;00m \u001b[38;5;28mself\u001b[39m\u001b[38;5;241m.\u001b[39m_convert_timestamp:\n\u001b[1;32m    149\u001b[0m     \u001b[38;5;28mself\u001b[39m\u001b[38;5;241m.\u001b[39m_convert_time(resp)\n",
      "\u001b[0;31mConnectError\u001b[0m: [0x0303]: Insufficient privilege for operation"
     ]
    }
   ],
   "source": [
    "affected_row = conn.execute(\"CREATE DATABASE power\")\n",
    "print(\"affected_row\", affected_row)  # 0"
   ]
  },
  {
   "cell_type": "code",
   "execution_count": 13,
   "id": "6f757f8d-f1de-4c1a-807a-311bf3194063",
   "metadata": {},
   "outputs": [],
   "source": [
    "db_name = \"test\"\n",
    "table_name = \"iot_sensor\"\n",
    "sql_stmt = f\"\"\" \n",
    "CREATE STABLE {db_name}.{table_name} (\n",
    "    ts TIMESTAMP, \n",
    "    current FLOAT, \n",
    "    voltage INT, \n",
    "    phase FLOAT\n",
    ") \n",
    "TAGS (\n",
    "    location BINARY(64), \n",
    "    groupId INT\n",
    ")\n",
    ";\n",
    "\"\"\""
   ]
  },
  {
   "cell_type": "code",
   "execution_count": 14,
   "id": "82daf700-3be8-4450-a97c-166bb7d9085e",
   "metadata": {},
   "outputs": [
    {
     "name": "stdout",
     "output_type": "stream",
     "text": [
      "affected_row 0\n"
     ]
    }
   ],
   "source": [
    "conn.execute(sql_stmt)\n",
    "print(\"affected_row\", affected_row)  # 0"
   ]
  },
  {
   "cell_type": "code",
   "execution_count": 16,
   "id": "1ac63f37-9f38-4b56-98f3-d5a3e8b046f3",
   "metadata": {},
   "outputs": [
    {
     "name": "stdout",
     "output_type": "stream",
     "text": [
      "affected_row 8\n"
     ]
    }
   ],
   "source": [
    "sql_stmt = f\"\"\"\n",
    "INSERT INTO \n",
    "{db_name}.d1001 \n",
    "USING {db_name}.{table_name} \n",
    "TAGS('California.SanFrancisco', 2) \n",
    "VALUES \n",
    "('2018-10-03 14:38:05.000', 10.30000, 219, 0.31000) \n",
    "('2018-10-03 14:38:15.000', 12.60000, 218, 0.33000) \n",
    "('2018-10-03 14:38:16.800', 12.30000, 221, 0.31000)\n",
    "{db_name}.d1002 \n",
    "USING {db_name}.{table_name} \n",
    "TAGS('California.SanFrancisco', 3) \n",
    "VALUES \n",
    "('2018-10-03 14:38:16.650', 10.30000, 218, 0.25000)\n",
    "{db_name}.d1003 \n",
    "USING {db_name}.{table_name} \n",
    "TAGS('California.LA', 2) \n",
    "VALUES \n",
    "('2018-10-03 14:38:05.500', 11.80000, 221, 0.28000) \n",
    "('2018-10-03 14:38:16.600', 13.40000, 223, 0.29000)\n",
    "{db_name}.d1004 \n",
    "USING {db_name}.{table_name} \n",
    "TAGS('California.LA', 3) \n",
    "VALUES \n",
    "('2018-10-03 14:38:05.000', 10.80000, 223, 0.29000) \n",
    "('2018-10-03 14:38:06.500', 11.50000, 221, 0.35000)\n",
    ";\n",
    "\"\"\"\n",
    "\n",
    "affected_row = conn.execute(sql_stmt)\n",
    "print(\"affected_row\", affected_row)  # 8"
   ]
  },
  {
   "cell_type": "code",
   "execution_count": 18,
   "id": "737e0131-c2fd-4386-a4dc-c5911291a118",
   "metadata": {},
   "outputs": [
    {
     "name": "stdout",
     "output_type": "stream",
     "text": [
      "metadata of each column:\n",
      " [{'name': 'ts', 'type': 'TIMESTAMP', 'bytes': 8}, {'name': 'current', 'type': 'FLOAT', 'bytes': 4}]\n"
     ]
    }
   ],
   "source": [
    "sql_stmt = f\"SELECT ts, current FROM {db_name}.{table_name}  LIMIT 2\"\n",
    "\n",
    "result = conn.query(sql_stmt)\n",
    "\n",
    "print(\"metadata of each column:\\n\", result.fields)  # [{'name': 'ts', 'type': 9, 'bytes': 8}, {'name': 'current', 'type': 6, 'bytes': 4}]"
   ]
  },
  {
   "cell_type": "code",
   "execution_count": 19,
   "id": "9d50264a-50e1-4802-824a-c290e31f21f4",
   "metadata": {},
   "outputs": [
    {
     "name": "stdout",
     "output_type": "stream",
     "text": [
      "total rows: 2\n"
     ]
    }
   ],
   "source": [
    "print(\"total rows:\", result.rows)  # 2"
   ]
  },
  {
   "cell_type": "code",
   "execution_count": 20,
   "id": "2f2ec171-897b-43b2-89b5-275e28ddfa66",
   "metadata": {},
   "outputs": [
    {
     "name": "stdout",
     "output_type": "stream",
     "text": [
      "[datetime.datetime(2018, 10, 3, 10, 38, 5), 10.3]\n",
      "[datetime.datetime(2018, 10, 3, 10, 38, 15), 12.6]\n"
     ]
    }
   ],
   "source": [
    "# Iterate over result.\n",
    "for row in result:\n",
    "    print(row)\n",
    "# output:\n",
    "# [datetime.datetime(2018, 10, 3, 14, 38, 5, tzinfo=datetime.timezone.utc), 10.3]\n",
    "# [datetime.datetime(2018, 10, 3, 14, 38, 15, tzinfo=datetime.timezone.utc), 12.6]"
   ]
  },
  {
   "cell_type": "code",
   "execution_count": 21,
   "id": "54c9d369-3336-440a-b65e-4170ae31a166",
   "metadata": {},
   "outputs": [
    {
     "name": "stdout",
     "output_type": "stream",
     "text": [
      "[[datetime.datetime(2018, 10, 3, 10, 38, 5), 10.3], [datetime.datetime(2018, 10, 3, 10, 38, 15), 12.6]]\n"
     ]
    }
   ],
   "source": [
    "# Or get all rows as a list\n",
    "print(result.data)  # [[datetime.datetime(2018, 10, 3, 14, 38, 5, tzinfo=datetime.timezone.utc), 10.3], [datetime.datetime(2018, 10, 3, 14, 38, 15, tzinfo=datetime.timezone.utc), 12.6]]"
   ]
  },
  {
   "cell_type": "code",
   "execution_count": null,
   "id": "843df773-c50f-41af-9bad-0b77552260bc",
   "metadata": {},
   "outputs": [],
   "source": []
  }
 ],
 "metadata": {
  "kernelspec": {
   "display_name": "Python 3 (ipykernel)",
   "language": "python",
   "name": "python3"
  },
  "language_info": {
   "codemirror_mode": {
    "name": "ipython",
    "version": 3
   },
   "file_extension": ".py",
   "mimetype": "text/x-python",
   "name": "python",
   "nbconvert_exporter": "python",
   "pygments_lexer": "ipython3",
   "version": "3.11.5"
  }
 },
 "nbformat": 4,
 "nbformat_minor": 5
}
