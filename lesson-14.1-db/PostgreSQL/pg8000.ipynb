{
 "cells": [
  {
   "cell_type": "markdown",
   "id": "b71c5f89",
   "metadata": {},
   "source": [
    "# pg8000 - pure python interface for PostgreSQL\n",
    "- https://github.com/tlocke/pg8000\n",
    "- https://pypi.org/project/pg8000/"
   ]
  },
  {
   "cell_type": "markdown",
   "id": "128f2ea9",
   "metadata": {},
   "source": [
    "https://www.whatismyip.com/reverse-dns-lookup/"
   ]
  },
  {
   "cell_type": "code",
   "execution_count": 1,
   "id": "e9facd4e",
   "metadata": {},
   "outputs": [],
   "source": [
    "user = \"postgresql\""
   ]
  },
  {
   "cell_type": "code",
   "execution_count": 2,
   "id": "8d1a268d",
   "metadata": {},
   "outputs": [
    {
     "data": {
      "text/plain": [
       "'postgres'"
      ]
     },
     "execution_count": 2,
     "metadata": {},
     "output_type": "execute_result"
    }
   ],
   "source": [
    "usr = user[:-2] \n",
    "usr"
   ]
  },
  {
   "cell_type": "code",
   "execution_count": 3,
   "id": "0b04f0e2",
   "metadata": {},
   "outputs": [],
   "source": [
    "import pg8000.dbapi"
   ]
  },
  {
   "cell_type": "code",
   "execution_count": 4,
   "id": "d066cef6",
   "metadata": {},
   "outputs": [],
   "source": [
    "conn = pg8000.dbapi.connect(user=usr, password=user)"
   ]
  },
  {
   "cell_type": "code",
   "execution_count": 5,
   "id": "97f0dfd8",
   "metadata": {},
   "outputs": [],
   "source": [
    "cursor = conn.cursor()"
   ]
  },
  {
   "cell_type": "code",
   "execution_count": 6,
   "id": "b5c8f960",
   "metadata": {},
   "outputs": [],
   "source": [
    "cursor.execute(\"CREATE TEMPORARY TABLE book (id SERIAL, title TEXT)\")"
   ]
  },
  {
   "cell_type": "code",
   "execution_count": 7,
   "id": "336ec592",
   "metadata": {},
   "outputs": [],
   "source": [
    "cursor.execute(\n",
    "    \"INSERT INTO book (title) VALUES (%s), (%s) RETURNING id, title\",\n",
    "    (\"Ender's Game\", \"Speaker for the Dead\")\n",
    ")"
   ]
  },
  {
   "cell_type": "code",
   "execution_count": 8,
   "id": "34dc3718",
   "metadata": {},
   "outputs": [],
   "source": [
    "results = cursor.fetchall()"
   ]
  },
  {
   "cell_type": "code",
   "execution_count": 9,
   "id": "19aea0f4",
   "metadata": {},
   "outputs": [
    {
     "name": "stdout",
     "output_type": "stream",
     "text": [
      "id = 1, title = Ender's Game\n",
      "id = 2, title = Speaker for the Dead\n"
     ]
    }
   ],
   "source": [
    "for row in results:\n",
    "    id, title = row\n",
    "    print(\"id = %s, title = %s\" % (id, title))"
   ]
  },
  {
   "cell_type": "code",
   "execution_count": 10,
   "id": "7c6ec018",
   "metadata": {},
   "outputs": [],
   "source": [
    "conn.commit()"
   ]
  },
  {
   "cell_type": "code",
   "execution_count": 11,
   "id": "4cb42016",
   "metadata": {},
   "outputs": [],
   "source": [
    "conn.close()"
   ]
  },
  {
   "cell_type": "markdown",
   "id": "1b0ff85d",
   "metadata": {},
   "source": [
    "##  [Retrieve Column Names From Results](https://pypi.org/project/pg8000/#toc-entry-36)"
   ]
  },
  {
   "cell_type": "code",
   "execution_count": 29,
   "id": "56494ecb",
   "metadata": {},
   "outputs": [],
   "source": [
    "import pg8000\n",
    "conn = pg8000.dbapi.connect(user=usr, password=user)\n",
    "c = conn.cursor()\n",
    "c.execute(\"create temporary table quark (id serial, name text)\")\n",
    "c.executemany(\"INSERT INTO quark (name) VALUES (%s)\", ((\"Up\",), (\"Down\",)))"
   ]
  },
  {
   "cell_type": "code",
   "execution_count": 30,
   "id": "0118bbff",
   "metadata": {},
   "outputs": [
    {
     "data": {
      "text/plain": [
       "([1, 'Up'], [2, 'Down'])"
      ]
     },
     "execution_count": 30,
     "metadata": {},
     "output_type": "execute_result"
    }
   ],
   "source": [
    "#\n",
    "# Now retrieve the results\n",
    "#\n",
    "c.execute(\"select * from quark\")\n",
    "rows = c.fetchall()\n",
    "rows"
   ]
  },
  {
   "cell_type": "code",
   "execution_count": 31,
   "id": "4453c18b",
   "metadata": {},
   "outputs": [
    {
     "data": {
      "text/plain": [
       "['id', 'name']"
      ]
     },
     "execution_count": 31,
     "metadata": {},
     "output_type": "execute_result"
    }
   ],
   "source": [
    "keys = [k[0] for k in c.description]\n",
    "keys"
   ]
  },
  {
   "cell_type": "code",
   "execution_count": 32,
   "id": "73c323be",
   "metadata": {},
   "outputs": [],
   "source": [
    "results = [dict(zip(keys, row)) for row in rows]\n",
    "assert results == [{'id': 1, 'name': 'Up'}, {'id': 2, 'name': 'Down'}]"
   ]
  },
  {
   "cell_type": "code",
   "execution_count": null,
   "id": "f3ee76bb",
   "metadata": {},
   "outputs": [],
   "source": [
    "conn.close()"
   ]
  },
  {
   "cell_type": "code",
   "execution_count": null,
   "id": "d44b3c41",
   "metadata": {},
   "outputs": [],
   "source": []
  },
  {
   "cell_type": "code",
   "execution_count": null,
   "id": "e3446206",
   "metadata": {},
   "outputs": [],
   "source": []
  },
  {
   "cell_type": "code",
   "execution_count": null,
   "id": "884121bc",
   "metadata": {},
   "outputs": [],
   "source": []
  },
  {
   "cell_type": "markdown",
   "id": "4a016354",
   "metadata": {},
   "source": [
    "# connect to dvdrental"
   ]
  },
  {
   "cell_type": "code",
   "execution_count": 12,
   "id": "d5ccf89b",
   "metadata": {},
   "outputs": [],
   "source": [
    "conn = pg8000.dbapi.connect(user=usr, password=user, database=\"dvdrental\")\n",
    "\n",
    "cursor = conn.cursor()\n",
    "\n",
    "cursor.execute(\"select count(*) from public.actor;\")\n",
    "result = cursor.fetchall()\n",
    "print(result)"
   ]
  },
  {
   "cell_type": "code",
   "execution_count": 15,
   "id": "32d987a7",
   "metadata": {},
   "outputs": [
    {
     "name": "stdout",
     "output_type": "stream",
     "text": [
      "([1, 'Penelope', 'Guiness', datetime.datetime(2013, 5, 26, 14, 47, 57, 620000)], [2, 'Nick', 'Wahlberg', datetime.datetime(2013, 5, 26, 14, 47, 57, 620000)], [3, 'Ed', 'Chase', datetime.datetime(2013, 5, 26, 14, 47, 57, 620000)], [4, 'Jennifer', 'Davis', datetime.datetime(2013, 5, 26, 14, 47, 57, 620000)], [5, 'Johnny', 'Lollobrigida', datetime.datetime(2013, 5, 26, 14, 47, 57, 620000)], [6, 'Bette', 'Nicholson', datetime.datetime(2013, 5, 26, 14, 47, 57, 620000)], [7, 'Grace', 'Mostel', datetime.datetime(2013, 5, 26, 14, 47, 57, 620000)], [8, 'Matthew', 'Johansson', datetime.datetime(2013, 5, 26, 14, 47, 57, 620000)], [9, 'Joe', 'Swank', datetime.datetime(2013, 5, 26, 14, 47, 57, 620000)], [10, 'Christian', 'Gable', datetime.datetime(2013, 5, 26, 14, 47, 57, 620000)])\n"
     ]
    }
   ],
   "source": [
    "cursor.execute(\"select * from public.actor limit 10;\")\n",
    "result = cursor.fetchall()\n",
    "print(result)"
   ]
  },
  {
   "cell_type": "code",
   "execution_count": 16,
   "id": "94b89174",
   "metadata": {},
   "outputs": [],
   "source": [
    "conn.close()"
   ]
  },
  {
   "cell_type": "code",
   "execution_count": 21,
   "id": "f959536b",
   "metadata": {},
   "outputs": [
    {
     "name": "stdout",
     "output_type": "stream",
     "text": [
      "([200],)\n"
     ]
    }
   ],
   "source": [
    "conn = pg8000.dbapi.connect(user=usr, \n",
    "                            password=user, \n",
    "                            database=database)\n",
    "\n",
    "cursor = conn.cursor()\n",
    "\n",
    "cursor.execute(\"select count(*) from public.actor;\")\n",
    "result = cursor.fetchall()\n",
    "print(result)"
   ]
  },
  {
   "cell_type": "code",
   "execution_count": 24,
   "id": "eaa9a4f9",
   "metadata": {},
   "outputs": [
    {
     "name": "stdout",
     "output_type": "stream",
     "text": [
      "([200],)\n"
     ]
    }
   ],
   "source": [
    "conn = pg8000.dbapi.connect(user=usr, \n",
    "                            password=user, \n",
    "                            database=database,\n",
    "                            host=\"localhost\")\n",
    "\n",
    "cursor = conn.cursor()\n",
    "\n",
    "cursor.execute(\"select count(*) from public.actor;\")\n",
    "result = cursor.fetchall()\n",
    "print(result)"
   ]
  },
  {
   "cell_type": "code",
   "execution_count": 25,
   "id": "b17b8963",
   "metadata": {},
   "outputs": [
    {
     "name": "stdout",
     "output_type": "stream",
     "text": [
      "([200],)\n"
     ]
    }
   ],
   "source": [
    "conn = pg8000.dbapi.connect(user=usr, \n",
    "                            password=user, \n",
    "                            database=database,\n",
    "                            host=\"127.0.0.1\")\n",
    "\n",
    "cursor = conn.cursor()\n",
    "\n",
    "cursor.execute(\"select count(*) from public.actor;\")\n",
    "result = cursor.fetchall()\n",
    "print(result)"
   ]
  },
  {
   "cell_type": "code",
   "execution_count": 26,
   "id": "12bd8569",
   "metadata": {},
   "outputs": [
    {
     "ename": "DatabaseError",
     "evalue": "{'S': 'FATAL', 'V': 'FATAL', 'C': '28000', 'M': 'no pg_hba.conf entry for host \"172.20.14.254\", user \"postgres\", database \"dvdrental\", no encryption', 'F': 'auth.c', 'L': '543', 'R': 'ClientAuthentication'}",
     "output_type": "error",
     "traceback": [
      "\u001b[1;31m---------------------------------------------------------------------------\u001b[0m",
      "\u001b[1;31mDatabaseError\u001b[0m                             Traceback (most recent call last)",
      "\u001b[1;32m~\\AppData\\Local\\Temp\\ipykernel_14680\\2798236638.py\u001b[0m in \u001b[0;36m<module>\u001b[1;34m\u001b[0m\n\u001b[1;32m----> 1\u001b[1;33m conn = pg8000.dbapi.connect(user=usr, \n\u001b[0m\u001b[0;32m      2\u001b[0m                             \u001b[0mpassword\u001b[0m\u001b[1;33m=\u001b[0m\u001b[0muser\u001b[0m\u001b[1;33m,\u001b[0m\u001b[1;33m\u001b[0m\u001b[1;33m\u001b[0m\u001b[0m\n\u001b[0;32m      3\u001b[0m                             \u001b[0mdatabase\u001b[0m\u001b[1;33m=\u001b[0m\u001b[0mdatabase\u001b[0m\u001b[1;33m,\u001b[0m\u001b[1;33m\u001b[0m\u001b[1;33m\u001b[0m\u001b[0m\n\u001b[0;32m      4\u001b[0m                             host=\"172.20.14.254\")\n\u001b[0;32m      5\u001b[0m \u001b[1;33m\u001b[0m\u001b[0m\n",
      "\u001b[1;32m~\\anaconda3\\lib\\site-packages\\pg8000\\dbapi.py\u001b[0m in \u001b[0;36mconnect\u001b[1;34m(user, host, database, port, password, source_address, unix_sock, ssl_context, timeout, tcp_keepalive, application_name, replication)\u001b[0m\n\u001b[0;32m    208\u001b[0m     \u001b[0mreplication\u001b[0m\u001b[1;33m=\u001b[0m\u001b[1;32mNone\u001b[0m\u001b[1;33m,\u001b[0m\u001b[1;33m\u001b[0m\u001b[1;33m\u001b[0m\u001b[0m\n\u001b[0;32m    209\u001b[0m ):\n\u001b[1;32m--> 210\u001b[1;33m     return Connection(\n\u001b[0m\u001b[0;32m    211\u001b[0m         \u001b[0muser\u001b[0m\u001b[1;33m,\u001b[0m\u001b[1;33m\u001b[0m\u001b[1;33m\u001b[0m\u001b[0m\n\u001b[0;32m    212\u001b[0m         \u001b[0mhost\u001b[0m\u001b[1;33m=\u001b[0m\u001b[0mhost\u001b[0m\u001b[1;33m,\u001b[0m\u001b[1;33m\u001b[0m\u001b[1;33m\u001b[0m\u001b[0m\n",
      "\u001b[1;32m~\\anaconda3\\lib\\site-packages\\pg8000\\dbapi.py\u001b[0m in \u001b[0;36m__init__\u001b[1;34m(self, *args, **kwargs)\u001b[0m\n\u001b[0;32m    640\u001b[0m \u001b[1;32mclass\u001b[0m \u001b[0mConnection\u001b[0m\u001b[1;33m(\u001b[0m\u001b[0mCoreConnection\u001b[0m\u001b[1;33m)\u001b[0m\u001b[1;33m:\u001b[0m\u001b[1;33m\u001b[0m\u001b[1;33m\u001b[0m\u001b[0m\n\u001b[0;32m    641\u001b[0m     \u001b[1;32mdef\u001b[0m \u001b[0m__init__\u001b[0m\u001b[1;33m(\u001b[0m\u001b[0mself\u001b[0m\u001b[1;33m,\u001b[0m \u001b[1;33m*\u001b[0m\u001b[0margs\u001b[0m\u001b[1;33m,\u001b[0m \u001b[1;33m**\u001b[0m\u001b[0mkwargs\u001b[0m\u001b[1;33m)\u001b[0m\u001b[1;33m:\u001b[0m\u001b[1;33m\u001b[0m\u001b[1;33m\u001b[0m\u001b[0m\n\u001b[1;32m--> 642\u001b[1;33m         \u001b[0msuper\u001b[0m\u001b[1;33m(\u001b[0m\u001b[1;33m)\u001b[0m\u001b[1;33m.\u001b[0m\u001b[0m__init__\u001b[0m\u001b[1;33m(\u001b[0m\u001b[1;33m*\u001b[0m\u001b[0margs\u001b[0m\u001b[1;33m,\u001b[0m \u001b[1;33m**\u001b[0m\u001b[0mkwargs\u001b[0m\u001b[1;33m)\u001b[0m\u001b[1;33m\u001b[0m\u001b[1;33m\u001b[0m\u001b[0m\n\u001b[0m\u001b[0;32m    643\u001b[0m         \u001b[0mself\u001b[0m\u001b[1;33m.\u001b[0m\u001b[0mautocommit\u001b[0m \u001b[1;33m=\u001b[0m \u001b[1;32mFalse\u001b[0m\u001b[1;33m\u001b[0m\u001b[1;33m\u001b[0m\u001b[0m\n\u001b[0;32m    644\u001b[0m \u001b[1;33m\u001b[0m\u001b[0m\n",
      "\u001b[1;32m~\\anaconda3\\lib\\site-packages\\pg8000\\core.py\u001b[0m in \u001b[0;36m__init__\u001b[1;34m(self, user, host, database, port, password, source_address, unix_sock, ssl_context, timeout, tcp_keepalive, application_name, replication)\u001b[0m\n\u001b[0;32m    360\u001b[0m         \u001b[1;32mexcept\u001b[0m \u001b[0mError\u001b[0m \u001b[1;32mas\u001b[0m \u001b[0me\u001b[0m\u001b[1;33m:\u001b[0m\u001b[1;33m\u001b[0m\u001b[1;33m\u001b[0m\u001b[0m\n\u001b[0;32m    361\u001b[0m             \u001b[0mself\u001b[0m\u001b[1;33m.\u001b[0m\u001b[0mclose\u001b[0m\u001b[1;33m(\u001b[0m\u001b[1;33m)\u001b[0m\u001b[1;33m\u001b[0m\u001b[1;33m\u001b[0m\u001b[0m\n\u001b[1;32m--> 362\u001b[1;33m             \u001b[1;32mraise\u001b[0m \u001b[0me\u001b[0m\u001b[1;33m\u001b[0m\u001b[1;33m\u001b[0m\u001b[0m\n\u001b[0m\u001b[0;32m    363\u001b[0m \u001b[1;33m\u001b[0m\u001b[0m\n\u001b[0;32m    364\u001b[0m         \u001b[0mself\u001b[0m\u001b[1;33m.\u001b[0m\u001b[0m_transaction_status\u001b[0m \u001b[1;33m=\u001b[0m \u001b[1;32mNone\u001b[0m\u001b[1;33m\u001b[0m\u001b[1;33m\u001b[0m\u001b[0m\n",
      "\u001b[1;32m~\\anaconda3\\lib\\site-packages\\pg8000\\core.py\u001b[0m in \u001b[0;36m__init__\u001b[1;34m(self, user, host, database, port, password, source_address, unix_sock, ssl_context, timeout, tcp_keepalive, application_name, replication)\u001b[0m\n\u001b[0;32m    356\u001b[0m \u001b[1;33m\u001b[0m\u001b[0m\n\u001b[0;32m    357\u001b[0m             \u001b[1;32mif\u001b[0m \u001b[0mcontext\u001b[0m\u001b[1;33m.\u001b[0m\u001b[0merror\u001b[0m \u001b[1;32mis\u001b[0m \u001b[1;32mnot\u001b[0m \u001b[1;32mNone\u001b[0m\u001b[1;33m:\u001b[0m\u001b[1;33m\u001b[0m\u001b[1;33m\u001b[0m\u001b[0m\n\u001b[1;32m--> 358\u001b[1;33m                 \u001b[1;32mraise\u001b[0m \u001b[0mcontext\u001b[0m\u001b[1;33m.\u001b[0m\u001b[0merror\u001b[0m\u001b[1;33m\u001b[0m\u001b[1;33m\u001b[0m\u001b[0m\n\u001b[0m\u001b[0;32m    359\u001b[0m \u001b[1;33m\u001b[0m\u001b[0m\n\u001b[0;32m    360\u001b[0m         \u001b[1;32mexcept\u001b[0m \u001b[0mError\u001b[0m \u001b[1;32mas\u001b[0m \u001b[0me\u001b[0m\u001b[1;33m:\u001b[0m\u001b[1;33m\u001b[0m\u001b[1;33m\u001b[0m\u001b[0m\n",
      "\u001b[1;31mDatabaseError\u001b[0m: {'S': 'FATAL', 'V': 'FATAL', 'C': '28000', 'M': 'no pg_hba.conf entry for host \"172.20.14.254\", user \"postgres\", database \"dvdrental\", no encryption', 'F': 'auth.c', 'L': '543', 'R': 'ClientAuthentication'}"
     ]
    }
   ],
   "source": [
    "conn = pg8000.dbapi.connect(user=usr, \n",
    "                            password=user, \n",
    "                            database=database,\n",
    "                            host=\"172.20.14.254\")\n",
    "\n",
    "cursor = conn.cursor()\n",
    "\n",
    "cursor.execute(\"select count(*) from public.actor;\")\n",
    "result = cursor.fetchall()\n",
    "print(result)"
   ]
  },
  {
   "cell_type": "markdown",
   "id": "a0babd5b",
   "metadata": {},
   "source": [
    "use https://www.whatismyip.com/ to lookup my IP = 216.54.0.170"
   ]
  },
  {
   "cell_type": "code",
   "execution_count": 28,
   "id": "f88b609b",
   "metadata": {},
   "outputs": [
    {
     "name": "stdout",
     "output_type": "stream",
     "text": [
      "\n",
      "Pinging 216.54.0.170 with 32 bytes of data:\n",
      "Reply from 216.54.0.170: bytes=32 time=60ms TTL=64\n",
      "Reply from 216.54.0.170: bytes=32 time=2ms TTL=64\n",
      "Reply from 216.54.0.170: bytes=32 time=2ms TTL=64\n",
      "Reply from 216.54.0.170: bytes=32 time=2ms TTL=64\n",
      "\n",
      "Ping statistics for 216.54.0.170:\n",
      "    Packets: Sent = 4, Received = 4, Lost = 0 (0% loss),\n",
      "Approximate round trip times in milli-seconds:\n",
      "    Minimum = 2ms, Maximum = 60ms, Average = 16ms\n"
     ]
    }
   ],
   "source": [
    "!ping 216.54.0.170"
   ]
  },
  {
   "cell_type": "code",
   "execution_count": 27,
   "id": "1dfa112c",
   "metadata": {},
   "outputs": [
    {
     "ename": "InterfaceError",
     "evalue": "Can't create a connection to host 216.54.0.170 and port 5432 (timeout is None and source_address is None).",
     "output_type": "error",
     "traceback": [
      "\u001b[1;31m---------------------------------------------------------------------------\u001b[0m",
      "\u001b[1;31mTimeoutError\u001b[0m                              Traceback (most recent call last)",
      "\u001b[1;32m~\\anaconda3\\lib\\site-packages\\pg8000\\core.py\u001b[0m in \u001b[0;36m__init__\u001b[1;34m(self, user, host, database, port, password, source_address, unix_sock, ssl_context, timeout, tcp_keepalive, application_name, replication)\u001b[0m\n\u001b[0;32m    242\u001b[0m             \u001b[1;32mtry\u001b[0m\u001b[1;33m:\u001b[0m\u001b[1;33m\u001b[0m\u001b[1;33m\u001b[0m\u001b[0m\n\u001b[1;32m--> 243\u001b[1;33m                 self._usock = socket.create_connection(\n\u001b[0m\u001b[0;32m    244\u001b[0m                     \u001b[1;33m(\u001b[0m\u001b[0mhost\u001b[0m\u001b[1;33m,\u001b[0m \u001b[0mport\u001b[0m\u001b[1;33m)\u001b[0m\u001b[1;33m,\u001b[0m \u001b[0mtimeout\u001b[0m\u001b[1;33m,\u001b[0m \u001b[0msource_address\u001b[0m\u001b[1;33m\u001b[0m\u001b[1;33m\u001b[0m\u001b[0m\n",
      "\u001b[1;32m~\\anaconda3\\lib\\socket.py\u001b[0m in \u001b[0;36mcreate_connection\u001b[1;34m(address, timeout, source_address)\u001b[0m\n\u001b[0;32m    843\u001b[0m         \u001b[1;32mtry\u001b[0m\u001b[1;33m:\u001b[0m\u001b[1;33m\u001b[0m\u001b[1;33m\u001b[0m\u001b[0m\n\u001b[1;32m--> 844\u001b[1;33m             \u001b[1;32mraise\u001b[0m \u001b[0merr\u001b[0m\u001b[1;33m\u001b[0m\u001b[1;33m\u001b[0m\u001b[0m\n\u001b[0m\u001b[0;32m    845\u001b[0m         \u001b[1;32mfinally\u001b[0m\u001b[1;33m:\u001b[0m\u001b[1;33m\u001b[0m\u001b[1;33m\u001b[0m\u001b[0m\n",
      "\u001b[1;32m~\\anaconda3\\lib\\socket.py\u001b[0m in \u001b[0;36mcreate_connection\u001b[1;34m(address, timeout, source_address)\u001b[0m\n\u001b[0;32m    831\u001b[0m                 \u001b[0msock\u001b[0m\u001b[1;33m.\u001b[0m\u001b[0mbind\u001b[0m\u001b[1;33m(\u001b[0m\u001b[0msource_address\u001b[0m\u001b[1;33m)\u001b[0m\u001b[1;33m\u001b[0m\u001b[1;33m\u001b[0m\u001b[0m\n\u001b[1;32m--> 832\u001b[1;33m             \u001b[0msock\u001b[0m\u001b[1;33m.\u001b[0m\u001b[0mconnect\u001b[0m\u001b[1;33m(\u001b[0m\u001b[0msa\u001b[0m\u001b[1;33m)\u001b[0m\u001b[1;33m\u001b[0m\u001b[1;33m\u001b[0m\u001b[0m\n\u001b[0m\u001b[0;32m    833\u001b[0m             \u001b[1;31m# Break explicitly a reference cycle\u001b[0m\u001b[1;33m\u001b[0m\u001b[1;33m\u001b[0m\u001b[0m\n",
      "\u001b[1;31mTimeoutError\u001b[0m: [WinError 10060] A connection attempt failed because the connected party did not properly respond after a period of time, or established connection failed because connected host has failed to respond",
      "\nThe above exception was the direct cause of the following exception:\n",
      "\u001b[1;31mInterfaceError\u001b[0m                            Traceback (most recent call last)",
      "\u001b[1;32m~\\AppData\\Local\\Temp\\ipykernel_14680\\572996304.py\u001b[0m in \u001b[0;36m<module>\u001b[1;34m\u001b[0m\n\u001b[1;32m----> 1\u001b[1;33m conn = pg8000.dbapi.connect(user=usr, \n\u001b[0m\u001b[0;32m      2\u001b[0m                             \u001b[0mpassword\u001b[0m\u001b[1;33m=\u001b[0m\u001b[0muser\u001b[0m\u001b[1;33m,\u001b[0m\u001b[1;33m\u001b[0m\u001b[1;33m\u001b[0m\u001b[0m\n\u001b[0;32m      3\u001b[0m                             \u001b[0mdatabase\u001b[0m\u001b[1;33m=\u001b[0m\u001b[0mdatabase\u001b[0m\u001b[1;33m,\u001b[0m\u001b[1;33m\u001b[0m\u001b[1;33m\u001b[0m\u001b[0m\n\u001b[0;32m      4\u001b[0m                             host=\"216.54.0.170\")\n\u001b[0;32m      5\u001b[0m \u001b[1;33m\u001b[0m\u001b[0m\n",
      "\u001b[1;32m~\\anaconda3\\lib\\site-packages\\pg8000\\dbapi.py\u001b[0m in \u001b[0;36mconnect\u001b[1;34m(user, host, database, port, password, source_address, unix_sock, ssl_context, timeout, tcp_keepalive, application_name, replication)\u001b[0m\n\u001b[0;32m    208\u001b[0m     \u001b[0mreplication\u001b[0m\u001b[1;33m=\u001b[0m\u001b[1;32mNone\u001b[0m\u001b[1;33m,\u001b[0m\u001b[1;33m\u001b[0m\u001b[1;33m\u001b[0m\u001b[0m\n\u001b[0;32m    209\u001b[0m ):\n\u001b[1;32m--> 210\u001b[1;33m     return Connection(\n\u001b[0m\u001b[0;32m    211\u001b[0m         \u001b[0muser\u001b[0m\u001b[1;33m,\u001b[0m\u001b[1;33m\u001b[0m\u001b[1;33m\u001b[0m\u001b[0m\n\u001b[0;32m    212\u001b[0m         \u001b[0mhost\u001b[0m\u001b[1;33m=\u001b[0m\u001b[0mhost\u001b[0m\u001b[1;33m,\u001b[0m\u001b[1;33m\u001b[0m\u001b[1;33m\u001b[0m\u001b[0m\n",
      "\u001b[1;32m~\\anaconda3\\lib\\site-packages\\pg8000\\dbapi.py\u001b[0m in \u001b[0;36m__init__\u001b[1;34m(self, *args, **kwargs)\u001b[0m\n\u001b[0;32m    640\u001b[0m \u001b[1;32mclass\u001b[0m \u001b[0mConnection\u001b[0m\u001b[1;33m(\u001b[0m\u001b[0mCoreConnection\u001b[0m\u001b[1;33m)\u001b[0m\u001b[1;33m:\u001b[0m\u001b[1;33m\u001b[0m\u001b[1;33m\u001b[0m\u001b[0m\n\u001b[0;32m    641\u001b[0m     \u001b[1;32mdef\u001b[0m \u001b[0m__init__\u001b[0m\u001b[1;33m(\u001b[0m\u001b[0mself\u001b[0m\u001b[1;33m,\u001b[0m \u001b[1;33m*\u001b[0m\u001b[0margs\u001b[0m\u001b[1;33m,\u001b[0m \u001b[1;33m**\u001b[0m\u001b[0mkwargs\u001b[0m\u001b[1;33m)\u001b[0m\u001b[1;33m:\u001b[0m\u001b[1;33m\u001b[0m\u001b[1;33m\u001b[0m\u001b[0m\n\u001b[1;32m--> 642\u001b[1;33m         \u001b[0msuper\u001b[0m\u001b[1;33m(\u001b[0m\u001b[1;33m)\u001b[0m\u001b[1;33m.\u001b[0m\u001b[0m__init__\u001b[0m\u001b[1;33m(\u001b[0m\u001b[1;33m*\u001b[0m\u001b[0margs\u001b[0m\u001b[1;33m,\u001b[0m \u001b[1;33m**\u001b[0m\u001b[0mkwargs\u001b[0m\u001b[1;33m)\u001b[0m\u001b[1;33m\u001b[0m\u001b[1;33m\u001b[0m\u001b[0m\n\u001b[0m\u001b[0;32m    643\u001b[0m         \u001b[0mself\u001b[0m\u001b[1;33m.\u001b[0m\u001b[0mautocommit\u001b[0m \u001b[1;33m=\u001b[0m \u001b[1;32mFalse\u001b[0m\u001b[1;33m\u001b[0m\u001b[1;33m\u001b[0m\u001b[0m\n\u001b[0;32m    644\u001b[0m \u001b[1;33m\u001b[0m\u001b[0m\n",
      "\u001b[1;32m~\\anaconda3\\lib\\site-packages\\pg8000\\core.py\u001b[0m in \u001b[0;36m__init__\u001b[1;34m(self, user, host, database, port, password, source_address, unix_sock, ssl_context, timeout, tcp_keepalive, application_name, replication)\u001b[0m\n\u001b[0;32m    245\u001b[0m                 )\n\u001b[0;32m    246\u001b[0m             \u001b[1;32mexcept\u001b[0m \u001b[0msocket\u001b[0m\u001b[1;33m.\u001b[0m\u001b[0merror\u001b[0m \u001b[1;32mas\u001b[0m \u001b[0me\u001b[0m\u001b[1;33m:\u001b[0m\u001b[1;33m\u001b[0m\u001b[1;33m\u001b[0m\u001b[0m\n\u001b[1;32m--> 247\u001b[1;33m                 raise InterfaceError(\n\u001b[0m\u001b[0;32m    248\u001b[0m                     \u001b[1;34mf\"Can't create a connection to host {host} and port {port} \"\u001b[0m\u001b[1;33m\u001b[0m\u001b[1;33m\u001b[0m\u001b[0m\n\u001b[0;32m    249\u001b[0m                     \u001b[1;34mf\"(timeout is {timeout} and source_address is {source_address}).\"\u001b[0m\u001b[1;33m\u001b[0m\u001b[1;33m\u001b[0m\u001b[0m\n",
      "\u001b[1;31mInterfaceError\u001b[0m: Can't create a connection to host 216.54.0.170 and port 5432 (timeout is None and source_address is None)."
     ]
    }
   ],
   "source": [
    "conn = pg8000.dbapi.connect(user=usr, \n",
    "                            password=user, \n",
    "                            database=database,\n",
    "                            host=\"216.54.0.170\")\n",
    "\n",
    "cursor = conn.cursor()\n",
    "\n",
    "cursor.execute(\"select count(*) from public.actor;\")\n",
    "result = cursor.fetchall()\n",
    "print(result)"
   ]
  },
  {
   "cell_type": "code",
   "execution_count": null,
   "id": "5291908b",
   "metadata": {},
   "outputs": [],
   "source": []
  }
 ],
 "metadata": {
  "kernelspec": {
   "display_name": "Python 3 (ipykernel)",
   "language": "python",
   "name": "python3"
  },
  "language_info": {
   "codemirror_mode": {
    "name": "ipython",
    "version": 3
   },
   "file_extension": ".py",
   "mimetype": "text/x-python",
   "name": "python",
   "nbconvert_exporter": "python",
   "pygments_lexer": "ipython3",
   "version": "3.9.13"
  },
  "nbTranslate": {
   "displayLangs": [
    "*"
   ],
   "hotkey": "alt-t",
   "langInMainMenu": true,
   "sourceLang": "en",
   "targetLang": "fr",
   "useGoogleTranslate": true
  },
  "toc": {
   "base_numbering": 1,
   "nav_menu": {},
   "number_sections": true,
   "sideBar": true,
   "skip_h1_title": false,
   "title_cell": "Table of Contents",
   "title_sidebar": "Contents",
   "toc_cell": false,
   "toc_position": {},
   "toc_section_display": true,
   "toc_window_display": false
  }
 },
 "nbformat": 4,
 "nbformat_minor": 5
}
