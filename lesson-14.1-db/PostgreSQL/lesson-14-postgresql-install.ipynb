{
 "cells": [
  {
   "cell_type": "markdown",
   "metadata": {},
   "source": [
    "# PostgreSQL Python\n",
    "\n",
    "- https://pynative.com/python-postgresql-tutorial/\n",
    "- https://www.postgresqltutorial.com/postgresql-python/\n",
    "    \n",
    "   \n",
    "- https://w3resource.com/PostgreSQL/constraint.php  \n",
    "- https://dataschool.com/learn-sql/export-to-csv-from-psql/"
   ]
  },
  {
   "cell_type": "markdown",
   "metadata": {},
   "source": [
    "## install psycopg2 on ubuntu 20.04\n",
    "\n",
    "https://zoomadmin.com/HowToInstall/UbuntuPackage/python3-psycopg2\n",
    "\n",
    "```\n",
    "sudo apt-get update -y\n",
    "sudo apt-get install -y python3-psycopg2\n",
    "```\n",
    "version = (2.8.4-2)"
   ]
  },
  {
   "cell_type": "code",
   "execution_count": 1,
   "metadata": {},
   "outputs": [],
   "source": [
    "import psycopg2\n",
    "from psycopg2 import Error\n",
    "import db_params"
   ]
  },
  {
   "cell_type": "code",
   "execution_count": 2,
   "metadata": {},
   "outputs": [],
   "source": [
    "db_kwargs = db_params.get_db_params(\n",
    "        db_name=\"demodb\", \n",
    "        db_type=\"postgresql\"\n",
    "    )"
   ]
  },
  {
   "cell_type": "code",
   "execution_count": 4,
   "metadata": {},
   "outputs": [
    {
     "name": "stdout",
     "output_type": "stream",
     "text": [
      "PostgreSQL server information\n",
      "{'user': 'gwguser001', 'dbname': 'demodb', 'host': '127.0.0.1', 'port': '5432', 'tty': '', 'options': '', 'sslmode': 'prefer', 'sslcompression': '0', 'gssencmode': 'prefer', 'krbsrvname': 'postgres', 'target_session_attrs': 'any'} \n",
      "\n",
      "You are connected to -  ('PostgreSQL 12.5 (Ubuntu 12.5-0ubuntu0.20.04.1) on x86_64-pc-linux-gnu, compiled by gcc (Ubuntu 9.3.0-17ubuntu1~20.04) 9.3.0, 64-bit',) \n",
      "\n",
      "productlist records:\n",
      "[('Iphone', '6', 500, 500), ('Iphone', '7', 600, 870), ('Galaxy', 's20', 1200, 3000), ('Galaxy', 's10', 1000, 2000)]\n",
      "\n",
      "PostgreSQL connection is closed\n"
     ]
    }
   ],
   "source": [
    "try:\n",
    "    # Connect to an existing database\n",
    "    connection = psycopg2.connect(**db_kwargs)\n",
    "\n",
    "    # Create a cursor to perform database operations\n",
    "    cursor = connection.cursor()\n",
    "    # Print PostgreSQL details\n",
    "    print(\"PostgreSQL server information\")\n",
    "    print(connection.get_dsn_parameters(), \"\\n\")\n",
    "    # Executing a SQL query\n",
    "    cursor.execute(\"SELECT version();\")\n",
    "    # Fetch result\n",
    "    record = cursor.fetchone()\n",
    "    print(\"You are connected to - \", record, \"\\n\")\n",
    "    \n",
    "    \n",
    "    cursor.execute(\"SELECT * from productlist;\")\n",
    "    # Fetch result\n",
    "    record = cursor.fetchall()\n",
    "    print(f\"productlist records:\\n{record}\\n\")\n",
    "    \n",
    "    \n",
    "\n",
    "except (Exception, Error) as error:\n",
    "    print(\"Error while connecting to PostgreSQL\", error)\n",
    "finally:\n",
    "    if (connection):\n",
    "        cursor.close()\n",
    "        connection.close()\n",
    "        print(\"PostgreSQL connection is closed\")"
   ]
  },
  {
   "cell_type": "code",
   "execution_count": null,
   "metadata": {},
   "outputs": [],
   "source": []
  }
 ],
 "metadata": {
  "kernelspec": {
   "display_name": "Python 3",
   "language": "python",
   "name": "python3"
  },
  "language_info": {
   "codemirror_mode": {
    "name": "ipython",
    "version": 3
   },
   "file_extension": ".py",
   "mimetype": "text/x-python",
   "name": "python",
   "nbconvert_exporter": "python",
   "pygments_lexer": "ipython3",
   "version": "3.8.5"
  }
 },
 "nbformat": 4,
 "nbformat_minor": 4
}
