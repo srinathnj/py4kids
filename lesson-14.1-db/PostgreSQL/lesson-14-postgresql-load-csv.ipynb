{
 "cells": [
  {
   "cell_type": "markdown",
   "metadata": {},
   "source": [
    "# PostgreSQL Python\n",
    "\n",
    "- https://pynative.com/python-postgresql-tutorial/\n",
    "- https://www.postgresqltutorial.com/postgresql-python/\n",
    "    \n",
    "   \n",
    "- https://w3resource.com/PostgreSQL/constraint.php  \n",
    "- https://dataschool.com/learn-sql/export-to-csv-from-psql/"
   ]
  },
  {
   "cell_type": "code",
   "execution_count": 15,
   "metadata": {},
   "outputs": [],
   "source": [
    "import psycopg2\n",
    "from psycopg2 import Error"
   ]
  },
  {
   "cell_type": "code",
   "execution_count": 1,
   "metadata": {},
   "outputs": [],
   "source": [
    "import db_params"
   ]
  },
  {
   "cell_type": "code",
   "execution_count": 2,
   "metadata": {},
   "outputs": [],
   "source": [
    "import pandas as pd"
   ]
  },
  {
   "cell_type": "code",
   "execution_count": 3,
   "metadata": {},
   "outputs": [],
   "source": [
    "db_kwargs = db_params.get_db_params(\n",
    "        db_name=\"gwgdb\", \n",
    "        db_type=\"postgresql\"\n",
    "    )"
   ]
  },
  {
   "cell_type": "code",
   "execution_count": 4,
   "metadata": {},
   "outputs": [],
   "source": [
    "# connection = psycopg2.connect(**db_kwargs)"
   ]
  },
  {
   "cell_type": "raw",
   "metadata": {},
   "source": [
    "!pip3 install sqlalchemy"
   ]
  },
  {
   "cell_type": "code",
   "execution_count": 5,
   "metadata": {},
   "outputs": [],
   "source": [
    "from sqlalchemy import create_engine"
   ]
  },
  {
   "cell_type": "code",
   "execution_count": 6,
   "metadata": {},
   "outputs": [],
   "source": [
    "engine = create_engine(f'postgresql://{db_kwargs[\"user\"]}:{db_kwargs[\"password\"]}@{db_kwargs[\"host\"]}:{db_kwargs[\"port\"]}/{db_kwargs[\"database\"]}')"
   ]
  },
  {
   "cell_type": "markdown",
   "metadata": {},
   "source": [
    "### Yahoo Fiancial\n",
    "\n",
    "\n",
    "- https://towardsdatascience.com/a-comprehensive-guide-to-downloading-stock-prices-in-python-2cd93ff821d4\n",
    "\n",
    "- https://pypi.org/project/yfinance/\n",
    "\n",
    "- https://aroussi.com/post/python-yahoo-finance\n",
    "\n",
    "- https://algotrading101.com/learn/yahoo-finance-api-guide/\n"
   ]
  },
  {
   "cell_type": "code",
   "execution_count": 6,
   "metadata": {},
   "outputs": [
    {
     "name": "stdout",
     "output_type": "stream",
     "text": [
      "AAPL-2020-12-22.csv\t\t      lesson-14-postgresql-create-table.ipynb\r\n",
      "config.py\t\t\t      lesson-14-postgresql-crud.ipynb\r\n",
      "connect.py\t\t\t      lesson-14-postgresql-datetime.ipynb\r\n",
      "database.ini\t\t\t      lesson-14-postgresql-install.ipynb\r\n",
      "db_params.ipynb\t\t\t      lesson-14-postgresql-load-csv.ipynb\r\n",
      "db_params.py\t\t\t      postgresql-tutor-01.ipynb\r\n",
      "insightds_create_tables.ipynb\t      __pycache__\r\n",
      "insightds_test.ipynb\t\t      Untitled1.ipynb\r\n",
      "insightds_test_xml_processing2.ipynb  Untitled.ipynb\r\n"
     ]
    }
   ],
   "source": [
    "!ls"
   ]
  },
  {
   "cell_type": "code",
   "execution_count": 7,
   "metadata": {},
   "outputs": [],
   "source": [
    "df = pd.read_csv(\"AAPL-2020-12-22.csv\")"
   ]
  },
  {
   "cell_type": "code",
   "execution_count": 8,
   "metadata": {},
   "outputs": [],
   "source": [
    "df['ticker'] = 'AAPL'"
   ]
  },
  {
   "cell_type": "code",
   "execution_count": 9,
   "metadata": {},
   "outputs": [
    {
     "data": {
      "text/plain": [
       "Index(['Date', 'Open', 'High', 'Low', 'Close', 'Adj Close', 'Volume',\n",
       "       'ticker'],\n",
       "      dtype='object')"
      ]
     },
     "execution_count": 9,
     "metadata": {},
     "output_type": "execute_result"
    }
   ],
   "source": [
    "df.columns"
   ]
  },
  {
   "cell_type": "code",
   "execution_count": 12,
   "metadata": {},
   "outputs": [],
   "source": [
    "df = df.rename(columns={'Date':\"date\", 'Open':\"open\", 'High':\"high\", \n",
    "                   'Low':\"low\", 'Close':\"close\", 'Adj Close':\"adj_close\", \n",
    "                   'Volume':\"volume\"})"
   ]
  },
  {
   "cell_type": "code",
   "execution_count": 17,
   "metadata": {},
   "outputs": [
    {
     "data": {
      "text/html": [
       "<div>\n",
       "<style scoped>\n",
       "    .dataframe tbody tr th:only-of-type {\n",
       "        vertical-align: middle;\n",
       "    }\n",
       "\n",
       "    .dataframe tbody tr th {\n",
       "        vertical-align: top;\n",
       "    }\n",
       "\n",
       "    .dataframe thead th {\n",
       "        text-align: right;\n",
       "    }\n",
       "</style>\n",
       "<table border=\"1\" class=\"dataframe\">\n",
       "  <thead>\n",
       "    <tr style=\"text-align: right;\">\n",
       "      <th></th>\n",
       "      <th>date</th>\n",
       "      <th>open</th>\n",
       "      <th>high</th>\n",
       "      <th>low</th>\n",
       "      <th>close</th>\n",
       "      <th>adj_close</th>\n",
       "      <th>volume</th>\n",
       "      <th>ticker</th>\n",
       "    </tr>\n",
       "  </thead>\n",
       "  <tbody>\n",
       "    <tr>\n",
       "      <th>0</th>\n",
       "      <td>1980-12-12</td>\n",
       "      <td>0.128348</td>\n",
       "      <td>0.128906</td>\n",
       "      <td>0.128348</td>\n",
       "      <td>0.128348</td>\n",
       "      <td>0.101087</td>\n",
       "      <td>469033600</td>\n",
       "      <td>AAPL</td>\n",
       "    </tr>\n",
       "    <tr>\n",
       "      <th>1</th>\n",
       "      <td>1980-12-15</td>\n",
       "      <td>0.122210</td>\n",
       "      <td>0.122210</td>\n",
       "      <td>0.121652</td>\n",
       "      <td>0.121652</td>\n",
       "      <td>0.095813</td>\n",
       "      <td>175884800</td>\n",
       "      <td>AAPL</td>\n",
       "    </tr>\n",
       "    <tr>\n",
       "      <th>2</th>\n",
       "      <td>1980-12-16</td>\n",
       "      <td>0.113281</td>\n",
       "      <td>0.113281</td>\n",
       "      <td>0.112723</td>\n",
       "      <td>0.112723</td>\n",
       "      <td>0.088780</td>\n",
       "      <td>105728000</td>\n",
       "      <td>AAPL</td>\n",
       "    </tr>\n",
       "    <tr>\n",
       "      <th>3</th>\n",
       "      <td>1980-12-17</td>\n",
       "      <td>0.115513</td>\n",
       "      <td>0.116071</td>\n",
       "      <td>0.115513</td>\n",
       "      <td>0.115513</td>\n",
       "      <td>0.090978</td>\n",
       "      <td>86441600</td>\n",
       "      <td>AAPL</td>\n",
       "    </tr>\n",
       "    <tr>\n",
       "      <th>4</th>\n",
       "      <td>1980-12-18</td>\n",
       "      <td>0.118862</td>\n",
       "      <td>0.119420</td>\n",
       "      <td>0.118862</td>\n",
       "      <td>0.118862</td>\n",
       "      <td>0.093615</td>\n",
       "      <td>73449600</td>\n",
       "      <td>AAPL</td>\n",
       "    </tr>\n",
       "    <tr>\n",
       "      <th>...</th>\n",
       "      <td>...</td>\n",
       "      <td>...</td>\n",
       "      <td>...</td>\n",
       "      <td>...</td>\n",
       "      <td>...</td>\n",
       "      <td>...</td>\n",
       "      <td>...</td>\n",
       "      <td>...</td>\n",
       "    </tr>\n",
       "    <tr>\n",
       "      <th>10088</th>\n",
       "      <td>2020-12-16</td>\n",
       "      <td>127.410004</td>\n",
       "      <td>128.369995</td>\n",
       "      <td>126.559998</td>\n",
       "      <td>127.809998</td>\n",
       "      <td>127.809998</td>\n",
       "      <td>98208600</td>\n",
       "      <td>AAPL</td>\n",
       "    </tr>\n",
       "    <tr>\n",
       "      <th>10089</th>\n",
       "      <td>2020-12-17</td>\n",
       "      <td>128.899994</td>\n",
       "      <td>129.580002</td>\n",
       "      <td>128.039993</td>\n",
       "      <td>128.699997</td>\n",
       "      <td>128.699997</td>\n",
       "      <td>94359800</td>\n",
       "      <td>AAPL</td>\n",
       "    </tr>\n",
       "    <tr>\n",
       "      <th>10090</th>\n",
       "      <td>2020-12-18</td>\n",
       "      <td>128.960007</td>\n",
       "      <td>129.100006</td>\n",
       "      <td>126.120003</td>\n",
       "      <td>126.660004</td>\n",
       "      <td>126.660004</td>\n",
       "      <td>192541500</td>\n",
       "      <td>AAPL</td>\n",
       "    </tr>\n",
       "    <tr>\n",
       "      <th>10091</th>\n",
       "      <td>2020-12-21</td>\n",
       "      <td>125.019997</td>\n",
       "      <td>128.309998</td>\n",
       "      <td>123.449997</td>\n",
       "      <td>128.229996</td>\n",
       "      <td>128.229996</td>\n",
       "      <td>121251600</td>\n",
       "      <td>AAPL</td>\n",
       "    </tr>\n",
       "    <tr>\n",
       "      <th>10092</th>\n",
       "      <td>2020-12-22</td>\n",
       "      <td>131.610001</td>\n",
       "      <td>134.410004</td>\n",
       "      <td>129.649994</td>\n",
       "      <td>131.880005</td>\n",
       "      <td>131.880005</td>\n",
       "      <td>168904800</td>\n",
       "      <td>AAPL</td>\n",
       "    </tr>\n",
       "  </tbody>\n",
       "</table>\n",
       "<p>10093 rows × 8 columns</p>\n",
       "</div>"
      ],
      "text/plain": [
       "             date        open        high         low       close   adj_close  \\\n",
       "0      1980-12-12    0.128348    0.128906    0.128348    0.128348    0.101087   \n",
       "1      1980-12-15    0.122210    0.122210    0.121652    0.121652    0.095813   \n",
       "2      1980-12-16    0.113281    0.113281    0.112723    0.112723    0.088780   \n",
       "3      1980-12-17    0.115513    0.116071    0.115513    0.115513    0.090978   \n",
       "4      1980-12-18    0.118862    0.119420    0.118862    0.118862    0.093615   \n",
       "...           ...         ...         ...         ...         ...         ...   \n",
       "10088  2020-12-16  127.410004  128.369995  126.559998  127.809998  127.809998   \n",
       "10089  2020-12-17  128.899994  129.580002  128.039993  128.699997  128.699997   \n",
       "10090  2020-12-18  128.960007  129.100006  126.120003  126.660004  126.660004   \n",
       "10091  2020-12-21  125.019997  128.309998  123.449997  128.229996  128.229996   \n",
       "10092  2020-12-22  131.610001  134.410004  129.649994  131.880005  131.880005   \n",
       "\n",
       "          volume ticker  \n",
       "0      469033600   AAPL  \n",
       "1      175884800   AAPL  \n",
       "2      105728000   AAPL  \n",
       "3       86441600   AAPL  \n",
       "4       73449600   AAPL  \n",
       "...          ...    ...  \n",
       "10088   98208600   AAPL  \n",
       "10089   94359800   AAPL  \n",
       "10090  192541500   AAPL  \n",
       "10091  121251600   AAPL  \n",
       "10092  168904800   AAPL  \n",
       "\n",
       "[10093 rows x 8 columns]"
      ]
     },
     "execution_count": 17,
     "metadata": {},
     "output_type": "execute_result"
    }
   ],
   "source": [
    "df"
   ]
  },
  {
   "cell_type": "code",
   "execution_count": 14,
   "metadata": {},
   "outputs": [],
   "source": [
    "# https://datatofish.com/pandas-dataframe-to-sql/\n",
    "df.to_sql('quote_daily', engine, if_exists='append', index=False)"
   ]
  },
  {
   "cell_type": "raw",
   "metadata": {},
   "source": [
    "-- Table: public.quote_daily\n",
    "\n",
    "-- DROP TABLE public.quote_daily;\n",
    "\n",
    "CREATE TABLE public.quote_daily\n",
    "(\n",
    "    date text COLLATE pg_catalog.\"default\",\n",
    "    open double precision,\n",
    "    high double precision,\n",
    "    low double precision,\n",
    "    close double precision,\n",
    "    adj_close double precision,\n",
    "    volume bigint,\n",
    "    ticker text COLLATE pg_catalog.\"default\"\n",
    ")\n",
    "\n",
    "TABLESPACE pg_default;\n",
    "\n",
    "ALTER TABLE public.quote_daily\n",
    "    OWNER to gwguser001;"
   ]
  },
  {
   "cell_type": "code",
   "execution_count": 16,
   "metadata": {},
   "outputs": [
    {
     "name": "stdout",
     "output_type": "stream",
     "text": [
      "Result  [(10093,)]\n",
      "PostgreSQL connection is closed\n"
     ]
    }
   ],
   "source": [
    "try:\n",
    "    # Connect to an existing database\n",
    "    connection = psycopg2.connect(**db_kwargs)\n",
    "\n",
    "    # Create a cursor to perform database operations\n",
    "    cursor = connection.cursor()\n",
    "\n",
    "    \n",
    "    # Fetch result\n",
    "    cursor.execute(\"SELECT count(*) from quote_daily;\")\n",
    "    record = cursor.fetchall()\n",
    "    print(\"Result \", record)\n",
    "\n",
    "\n",
    "except (Exception, Error) as error:\n",
    "    print(\"Error while connecting to PostgreSQL\", error)\n",
    "finally:\n",
    "    if (connection):\n",
    "        cursor.close()\n",
    "        connection.close()\n",
    "        print(\"PostgreSQL connection is closed\")"
   ]
  },
  {
   "cell_type": "code",
   "execution_count": null,
   "metadata": {},
   "outputs": [],
   "source": []
  }
 ],
 "metadata": {
  "kernelspec": {
   "display_name": "Python 3",
   "language": "python",
   "name": "python3"
  },
  "language_info": {
   "codemirror_mode": {
    "name": "ipython",
    "version": 3
   },
   "file_extension": ".py",
   "mimetype": "text/x-python",
   "name": "python",
   "nbconvert_exporter": "python",
   "pygments_lexer": "ipython3",
   "version": "3.8.5"
  }
 },
 "nbformat": 4,
 "nbformat_minor": 4
}
