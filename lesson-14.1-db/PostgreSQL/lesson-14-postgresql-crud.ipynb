{
 "cells": [
  {
   "cell_type": "markdown",
   "metadata": {},
   "source": [
    "# PostgreSQL Python\n",
    "\n",
    "- https://pynative.com/python-postgresql-tutorial/\n",
    "- https://www.postgresqltutorial.com/postgresql-python/\n",
    "    \n",
    "   \n",
    "- https://w3resource.com/PostgreSQL/constraint.php  \n",
    "- https://dataschool.com/learn-sql/export-to-csv-from-psql/"
   ]
  },
  {
   "cell_type": "code",
   "execution_count": 1,
   "metadata": {},
   "outputs": [],
   "source": [
    "import psycopg2\n",
    "from psycopg2 import Error\n",
    "import db_params"
   ]
  },
  {
   "cell_type": "code",
   "execution_count": 2,
   "metadata": {},
   "outputs": [],
   "source": [
    "db_kwargs = db_params.get_db_params(\n",
    "        db_name=\"demodb\", \n",
    "        db_type=\"postgresql\"\n",
    "    )"
   ]
  },
  {
   "cell_type": "code",
   "execution_count": 3,
   "metadata": {},
   "outputs": [
    {
     "name": "stdout",
     "output_type": "stream",
     "text": [
      "1 Record inserted successfully\n",
      "Result  [(1, 'Iphone12', 1100.0), (2, 'Samsung-s9', 600.0)]\n",
      "1 Record updated successfully \n",
      "Result  [(2, 'Samsung-s9', 600.0), (1, 'Iphone12', 1500.0)]\n",
      "1 Record deleted successfully \n",
      "Result  [(2, 'Samsung-s9', 600.0)]\n",
      "PostgreSQL connection is closed\n"
     ]
    }
   ],
   "source": [
    "try:\n",
    "    # Connect to an existing database\n",
    "    connection = psycopg2.connect(**db_kwargs)\n",
    "\n",
    "    # Create a cursor to perform database operations\n",
    "    cursor = connection.cursor()\n",
    "\n",
    "    \n",
    "    # Executing a SQL query to insert data into  table\n",
    "    insert_query = \"\"\" INSERT INTO mobile (ID, MODEL, PRICE) \n",
    "        VALUES (1, 'Iphone12', 1100), \n",
    "               (2, 'Samsung-s9', 600)\n",
    "    \"\"\"\n",
    "    cursor.execute(insert_query)\n",
    "    connection.commit()\n",
    "    print(\"1 Record inserted successfully\")\n",
    "    # Fetch result\n",
    "    cursor.execute(\"SELECT * from mobile\")\n",
    "    record = cursor.fetchall()\n",
    "    print(\"Result \", record)\n",
    "\n",
    "    # Executing a SQL query to update table\n",
    "    update_query = \"\"\"Update mobile set price = 1500 where id = 1\"\"\"\n",
    "    cursor.execute(update_query)\n",
    "    connection.commit()\n",
    "    count = cursor.rowcount\n",
    "    print(count, \"Record updated successfully \")\n",
    "    # Fetch result\n",
    "    cursor.execute(\"SELECT * from mobile\")\n",
    "    print(\"Result \", cursor.fetchall())\n",
    "\n",
    "    # Executing a SQL query to delete table\n",
    "    delete_query = \"\"\"Delete from mobile where id = 1\"\"\"\n",
    "    cursor.execute(delete_query)\n",
    "    connection.commit()\n",
    "    count = cursor.rowcount\n",
    "    print(count, \"Record deleted successfully \")\n",
    "    # Fetch result\n",
    "    cursor.execute(\"SELECT * from mobile\")\n",
    "    print(\"Result \", cursor.fetchall())    \n",
    "    \n",
    "    \n",
    "\n",
    "except (Exception, Error) as error:\n",
    "    print(\"Error while connecting to PostgreSQL\", error)\n",
    "finally:\n",
    "    if (connection):\n",
    "        cursor.close()\n",
    "        connection.close()\n",
    "        print(\"PostgreSQL connection is closed\")"
   ]
  },
  {
   "cell_type": "code",
   "execution_count": null,
   "metadata": {},
   "outputs": [],
   "source": []
  }
 ],
 "metadata": {
  "kernelspec": {
   "display_name": "Python 3",
   "language": "python",
   "name": "python3"
  },
  "language_info": {
   "codemirror_mode": {
    "name": "ipython",
    "version": 3
   },
   "file_extension": ".py",
   "mimetype": "text/x-python",
   "name": "python",
   "nbconvert_exporter": "python",
   "pygments_lexer": "ipython3",
   "version": "3.8.5"
  }
 },
 "nbformat": 4,
 "nbformat_minor": 4
}
