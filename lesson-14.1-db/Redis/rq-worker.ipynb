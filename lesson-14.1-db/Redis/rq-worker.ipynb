{
 "cells": [
  {
   "cell_type": "code",
   "execution_count": 5,
   "metadata": {},
   "outputs": [],
   "source": [
    "import redis\n",
    "from rq import Worker, Queue, Connection"
   ]
  },
  {
   "cell_type": "code",
   "execution_count": 6,
   "metadata": {},
   "outputs": [],
   "source": [
    "from rq_func import *"
   ]
  },
  {
   "cell_type": "code",
   "execution_count": 7,
   "metadata": {},
   "outputs": [],
   "source": [
    "listen = ['default']\n",
    "\n",
    "# redis_url = 'redis://localhost:6379'\n",
    "# conn = redis.from_url(redis_url)\n",
    "conn = redis.Redis()\n",
    "q = Queue(connection=conn)"
   ]
  },
  {
   "cell_type": "code",
   "execution_count": 9,
   "metadata": {
    "scrolled": true
   },
   "outputs": [
    {
     "name": "stderr",
     "output_type": "stream",
     "text": [
      "15:41:14 Worker rq:worker:a1e1c5d43ae646f49927bed02ba9ccfa: started, version 1.4.1\n",
      "15:41:14 *** Listening on default...\n",
      "15:41:14 Cleaning registries for queue: default\n",
      "15:41:34 default: rq_func.sum_list(range(0, 20)) (fdfe76ab-5c6b-4409-8fd0-45c8719e3d58)\n",
      "15:41:34 default: Job OK (fdfe76ab-5c6b-4409-8fd0-45c8719e3d58)\n",
      "15:41:34 Result is kept for 5000 seconds\n",
      "15:41:34 default: rq_func.sum_list(range(0, 30)) (bfe24f03-1249-4e2a-9cf8-6c4ada5e18d0)\n",
      "15:41:34 default: Job OK (bfe24f03-1249-4e2a-9cf8-6c4ada5e18d0)\n",
      "15:41:34 Result is kept for 5000 seconds\n",
      "15:41:34 default: rq_func.sum_list(range(0, 40)) (4317978d-95b2-4b2b-90dd-215a1f670510)\n",
      "15:41:34 default: Job OK (4317978d-95b2-4b2b-90dd-215a1f670510)\n",
      "15:41:34 Result is kept for 5000 seconds\n",
      "15:41:34 default: rq_func.sum_list(range(0, 50)) (e2a9927c-d39f-4527-b80e-c5b3a8704529)\n",
      "15:41:34 default: Job OK (e2a9927c-d39f-4527-b80e-c5b3a8704529)\n",
      "15:41:34 Result is kept for 5000 seconds\n",
      "15:41:34 default: rq_func.sum_list(range(0, 60)) (5b6b9de3-c2a0-4cf0-b49c-82a3d826deb4)\n",
      "15:41:34 default: Job OK (5b6b9de3-c2a0-4cf0-b49c-82a3d826deb4)\n",
      "15:41:34 Result is kept for 5000 seconds\n",
      "15:41:34 default: rq_func.sum_list(range(0, 70)) (8a3ccdad-99cd-41bc-a431-bbc0349402e4)\n",
      "15:41:34 default: Job OK (8a3ccdad-99cd-41bc-a431-bbc0349402e4)\n",
      "15:41:34 Result is kept for 5000 seconds\n",
      "15:41:34 default: rq_func.sum_list(range(0, 80)) (eefc54a5-d69c-4235-8b04-66542ccfdf46)\n",
      "15:41:34 default: Job OK (eefc54a5-d69c-4235-8b04-66542ccfdf46)\n",
      "15:41:34 Result is kept for 5000 seconds\n",
      "15:41:34 default: rq_func.sum_list(range(0, 90)) (32a853c1-1543-4b97-801e-24d785256c6c)\n",
      "15:41:34 default: Job OK (32a853c1-1543-4b97-801e-24d785256c6c)\n",
      "15:41:34 Result is kept for 5000 seconds\n",
      "15:43:28 default: rq_func.sum_list(range(0, 10)) (d03650fb-4a5a-4b72-95b3-6c410ccc248c)\n",
      "15:43:28 default: Job OK (d03650fb-4a5a-4b72-95b3-6c410ccc248c)\n",
      "15:43:28 Result is kept for 5000 seconds\n",
      "15:43:28 default: rq_func.sum_list(range(0, 30)) (cf85aa9a-acf2-46f4-8172-c2ebf6481cb6)\n",
      "15:43:29 default: Job OK (cf85aa9a-acf2-46f4-8172-c2ebf6481cb6)\n",
      "15:43:29 Result is kept for 5000 seconds\n",
      "15:43:29 default: rq_func.sum_list(range(0, 40)) (b14b49e7-05a5-4038-8e48-a0359ca65a8e)\n",
      "15:43:29 default: Job OK (b14b49e7-05a5-4038-8e48-a0359ca65a8e)\n",
      "15:43:29 Result is kept for 5000 seconds\n",
      "15:43:29 default: rq_func.sum_list(range(0, 50)) (6c5456ce-ecde-4842-a3c2-60097836484b)\n",
      "15:43:29 default: Job OK (6c5456ce-ecde-4842-a3c2-60097836484b)\n",
      "15:43:29 Result is kept for 5000 seconds\n",
      "15:43:29 default: rq_func.sum_list(range(0, 60)) (c3aa4837-79b4-4183-a711-5c8adf1d93d8)\n",
      "15:43:29 default: Job OK (c3aa4837-79b4-4183-a711-5c8adf1d93d8)\n",
      "15:43:29 Result is kept for 5000 seconds\n",
      "15:43:29 default: rq_func.sum_list(range(0, 70)) (d3380f29-07c3-46af-bf1a-98b51b80d852)\n",
      "15:43:29 default: Job OK (d3380f29-07c3-46af-bf1a-98b51b80d852)\n",
      "15:43:29 Result is kept for 5000 seconds\n",
      "15:43:29 default: rq_func.sum_list(range(0, 80)) (d7e38f11-7e7e-4714-a50b-ead7df8fef5f)\n",
      "15:43:29 default: Job OK (d7e38f11-7e7e-4714-a50b-ead7df8fef5f)\n",
      "15:43:29 Result is kept for 5000 seconds\n",
      "15:43:29 default: rq_func.sum_list(range(0, 90)) (28fa9441-61c2-4bf9-aac1-4699212ae943)\n",
      "15:43:29 default: Job OK (28fa9441-61c2-4bf9-aac1-4699212ae943)\n",
      "15:43:29 Result is kept for 5000 seconds\n",
      "15:54:32 Warm shut down requested\n"
     ]
    }
   ],
   "source": [
    "with Connection(conn):\n",
    "    worker = Worker(list(map(Queue, listen)))\n",
    "    worker.work()"
   ]
  },
  {
   "cell_type": "code",
   "execution_count": null,
   "metadata": {},
   "outputs": [],
   "source": []
  }
 ],
 "metadata": {
  "kernelspec": {
   "display_name": "Python 3",
   "language": "python",
   "name": "python3"
  },
  "language_info": {
   "codemirror_mode": {
    "name": "ipython",
    "version": 3
   },
   "file_extension": ".py",
   "mimetype": "text/x-python",
   "name": "python",
   "nbconvert_exporter": "python",
   "pygments_lexer": "ipython3",
   "version": "3.7.1"
  }
 },
 "nbformat": 4,
 "nbformat_minor": 2
}
