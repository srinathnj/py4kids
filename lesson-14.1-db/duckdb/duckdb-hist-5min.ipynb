{
 "cells": [
  {
   "cell_type": "markdown",
   "id": "a08780de",
   "metadata": {},
   "source": [
    "https://stackoverflow.com/questions/2186525/how-to-use-glob-to-find-files-recursively"
   ]
  },
  {
   "cell_type": "code",
   "execution_count": 1,
   "id": "35cc28ec",
   "metadata": {},
   "outputs": [],
   "source": [
    "import os\n",
    "import glob\n",
    "import time\n",
    "from pathlib import Path\n",
    "import pandas as pd\n",
    "import duckdb\n",
    "\n",
    "conn = duckdb.connect()"
   ]
  },
  {
   "cell_type": "code",
   "execution_count": null,
   "id": "ca2c3ab2",
   "metadata": {},
   "outputs": [],
   "source": []
  },
  {
   "cell_type": "code",
   "execution_count": 11,
   "id": "ddd308e3",
   "metadata": {},
   "outputs": [],
   "source": [
    "txt_files = []\n",
    "for p in Path('downloads/5min').rglob(\"*.txt\"): \n",
    "    txt_files.append(p)"
   ]
  },
  {
   "cell_type": "code",
   "execution_count": 12,
   "id": "d3451170",
   "metadata": {},
   "outputs": [
    {
     "data": {
      "text/plain": [
       "12123"
      ]
     },
     "execution_count": 12,
     "metadata": {},
     "output_type": "execute_result"
    }
   ],
   "source": [
    "len(txt_files)"
   ]
  },
  {
   "cell_type": "code",
   "execution_count": 13,
   "id": "d7a2bd70",
   "metadata": {},
   "outputs": [
    {
     "data": {
      "text/plain": [
       "[WindowsPath('downloads/5min/data/5 min/us/nasdaq etfs/aadr.us.txt'),\n",
       " WindowsPath('downloads/5min/data/5 min/us/nasdaq etfs/aaxj.us.txt'),\n",
       " WindowsPath('downloads/5min/data/5 min/us/nasdaq etfs/acwi.us.txt'),\n",
       " WindowsPath('downloads/5min/data/5 min/us/nasdaq etfs/acwx.us.txt'),\n",
       " WindowsPath('downloads/5min/data/5 min/us/nasdaq etfs/adre.us.txt')]"
      ]
     },
     "execution_count": 13,
     "metadata": {},
     "output_type": "execute_result"
    }
   ],
   "source": [
    "txt_files[:5]"
   ]
  },
  {
   "cell_type": "code",
   "execution_count": 15,
   "id": "3e910f06",
   "metadata": {},
   "outputs": [],
   "source": [
    "txt_files = []\n",
    "for p in glob.glob('downloads/5min/**/*.txt', recursive=True):\n",
    "    txt_files.append(p)"
   ]
  },
  {
   "cell_type": "code",
   "execution_count": 16,
   "id": "9178a4b4",
   "metadata": {},
   "outputs": [
    {
     "data": {
      "text/plain": [
       "12123"
      ]
     },
     "execution_count": 16,
     "metadata": {},
     "output_type": "execute_result"
    }
   ],
   "source": [
    "len(txt_files)"
   ]
  },
  {
   "cell_type": "code",
   "execution_count": 17,
   "id": "cd632e72",
   "metadata": {},
   "outputs": [
    {
     "data": {
      "text/plain": [
       "['downloads/5min\\\\data\\\\5 min\\\\us\\\\nasdaq etfs\\\\aadr.us.txt',\n",
       " 'downloads/5min\\\\data\\\\5 min\\\\us\\\\nasdaq etfs\\\\aaxj.us.txt',\n",
       " 'downloads/5min\\\\data\\\\5 min\\\\us\\\\nasdaq etfs\\\\acwi.us.txt',\n",
       " 'downloads/5min\\\\data\\\\5 min\\\\us\\\\nasdaq etfs\\\\acwx.us.txt',\n",
       " 'downloads/5min\\\\data\\\\5 min\\\\us\\\\nasdaq etfs\\\\adre.us.txt']"
      ]
     },
     "execution_count": 17,
     "metadata": {},
     "output_type": "execute_result"
    }
   ],
   "source": [
    "txt_files[:5]"
   ]
  },
  {
   "cell_type": "code",
   "execution_count": 19,
   "id": "0cc18098",
   "metadata": {},
   "outputs": [
    {
     "name": "stdout",
     "output_type": "stream",
     "text": [
      "time: 0.005845546722412109\n",
      "  <TICKER> <PER>    <DATE>  <TIME>   <OPEN>   <HIGH>    <LOW>  <CLOSE> <VOL>  \\\n",
      "0  AADR.US     5  20221230  153000    47.29  47.4082    47.29  47.4082   200   \n",
      "1  AADR.US     5  20221230  154500  47.6899  47.6899  47.6899  47.6899   116   \n",
      "2  AADR.US     5  20221230  170000    47.41    47.41    47.41    47.41   150   \n",
      "3  AADR.US     5  20221230  174500  47.4134  47.4134  47.4134  47.4134   100   \n",
      "4  AADR.US     5  20230103  154000    47.84    47.84    47.84    47.84   104   \n",
      "5  AADR.US     5  20230103  160000     47.6     47.6     47.6     47.6   139   \n",
      "6  AADR.US     5  20230103  173500  47.2291  47.2291  47.2291  47.2291   118   \n",
      "7  AADR.US     5  20230103  194500  47.1599  47.1599  47.1599  47.1599   714   \n",
      "8  AADR.US     5  20230103  201000    47.17    47.17    47.14    47.14   906   \n",
      "9  AADR.US     5  20230104  195500    47.32    47.32    47.31    47.32   656   \n",
      "\n",
      "  <OPENINT>  \n",
      "0         0  \n",
      "1         0  \n",
      "2         0  \n",
      "3         0  \n",
      "4         0  \n",
      "5         0  \n",
      "6         0  \n",
      "7         0  \n",
      "8         0  \n",
      "9         0  \n"
     ]
    }
   ],
   "source": [
    "cur_time = time.time()\n",
    "df = conn.execute(f\"\"\"\n",
    "\tSELECT *\n",
    "\tFROM read_csv_auto('{txt_files[0]}', ALL_VARCHAR=1)\n",
    "\"\"\").df()\n",
    "print(f\"time: {(time.time() - cur_time)}\")\n",
    "print(df.head(10))"
   ]
  },
  {
   "cell_type": "code",
   "execution_count": null,
   "id": "a8230908",
   "metadata": {},
   "outputs": [],
   "source": []
  }
 ],
 "metadata": {
  "kernelspec": {
   "display_name": "Python 3 (ipykernel)",
   "language": "python",
   "name": "python3"
  },
  "language_info": {
   "codemirror_mode": {
    "name": "ipython",
    "version": 3
   },
   "file_extension": ".py",
   "mimetype": "text/x-python",
   "name": "python",
   "nbconvert_exporter": "python",
   "pygments_lexer": "ipython3",
   "version": "3.9.13"
  },
  "nbTranslate": {
   "displayLangs": [
    "*"
   ],
   "hotkey": "alt-t",
   "langInMainMenu": true,
   "sourceLang": "en",
   "targetLang": "fr",
   "useGoogleTranslate": true
  },
  "toc": {
   "base_numbering": 1,
   "nav_menu": {},
   "number_sections": true,
   "sideBar": true,
   "skip_h1_title": false,
   "title_cell": "Table of Contents",
   "title_sidebar": "Contents",
   "toc_cell": false,
   "toc_position": {},
   "toc_section_display": true,
   "toc_window_display": false
  }
 },
 "nbformat": 4,
 "nbformat_minor": 5
}
