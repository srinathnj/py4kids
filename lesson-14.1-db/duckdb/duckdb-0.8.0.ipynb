{
 "cells": [
  {
   "cell_type": "markdown",
   "id": "6943ccd4",
   "metadata": {},
   "source": [
    "# [What's new in 0.8.0](https://duckdb.org/2023/05/17/announcing-duckdb-080.html)\n",
    "\n",
    "To use duckdb-0.8.0 and evaluate its new features\n",
    "\n",
    "```\n",
    "$ cd projects\\wgong\n",
    "$ cs-faculty\\venv\\Scripts\\activate\n",
    "$ cd py4kids\n",
    "$ jupyter notebook\n",
    "```"
   ]
  },
  {
   "cell_type": "code",
   "execution_count": 1,
   "id": "088dc21d",
   "metadata": {},
   "outputs": [],
   "source": [
    "import duckdb \n",
    "\n",
    "from duckdb.typing import *"
   ]
  },
  {
   "cell_type": "code",
   "execution_count": 2,
   "id": "c7c7d5c1",
   "metadata": {},
   "outputs": [],
   "source": [
    "from faker import Faker"
   ]
  },
  {
   "cell_type": "code",
   "execution_count": 3,
   "id": "561f4273",
   "metadata": {},
   "outputs": [],
   "source": [
    "import sys"
   ]
  },
  {
   "cell_type": "code",
   "execution_count": 4,
   "id": "d2b142ff",
   "metadata": {},
   "outputs": [
    {
     "data": {
      "text/plain": [
       "['C:\\\\Users\\\\p2p2l\\\\projects\\\\wgong\\\\py4kids\\\\lesson-14.1-db\\\\duckdb',\n",
       " 'C:\\\\Users\\\\p2p2l\\\\anaconda3\\\\python39.zip',\n",
       " 'C:\\\\Users\\\\p2p2l\\\\anaconda3\\\\DLLs',\n",
       " 'C:\\\\Users\\\\p2p2l\\\\anaconda3\\\\lib',\n",
       " 'C:\\\\Users\\\\p2p2l\\\\anaconda3',\n",
       " 'C:\\\\Users\\\\p2p2l\\\\projects\\\\wgong\\\\cs-faculty\\\\venv',\n",
       " '',\n",
       " 'C:\\\\Users\\\\p2p2l\\\\projects\\\\wgong\\\\cs-faculty\\\\venv\\\\lib\\\\site-packages',\n",
       " 'C:\\\\Users\\\\p2p2l\\\\projects\\\\wgong\\\\cs-faculty\\\\venv\\\\lib\\\\site-packages\\\\win32',\n",
       " 'C:\\\\Users\\\\p2p2l\\\\projects\\\\wgong\\\\cs-faculty\\\\venv\\\\lib\\\\site-packages\\\\win32\\\\lib',\n",
       " 'C:\\\\Users\\\\p2p2l\\\\projects\\\\wgong\\\\cs-faculty\\\\venv\\\\lib\\\\site-packages\\\\Pythonwin']"
      ]
     },
     "execution_count": 4,
     "metadata": {},
     "output_type": "execute_result"
    }
   ],
   "source": [
    "sys.path "
   ]
  },
  {
   "cell_type": "code",
   "execution_count": null,
   "id": "bae10f9e",
   "metadata": {},
   "outputs": [],
   "source": []
  },
  {
   "cell_type": "code",
   "execution_count": 5,
   "id": "84b6f7ee",
   "metadata": {},
   "outputs": [
    {
     "name": "stdout",
     "output_type": "stream",
     "text": [
      "0.8.0\n"
     ]
    }
   ],
   "source": [
    "print(duckdb.__version__)"
   ]
  },
  {
   "cell_type": "code",
   "execution_count": 6,
   "id": "d740977b",
   "metadata": {},
   "outputs": [],
   "source": [
    "# Import jupysql Jupyter extension to create SQL cells\n",
    "%load_ext sql\n",
    "\n",
    "# Set configrations on jupysql to directly output data to Pandas and to simplify the output that is printed to the notebook.\n",
    "%config SqlMagic.autopandas = True\n",
    "%config SqlMagic.feedback = False\n",
    "%config SqlMagic.displaycon = False"
   ]
  },
  {
   "cell_type": "code",
   "execution_count": 4,
   "id": "c8787acb",
   "metadata": {},
   "outputs": [
    {
     "name": "stdout",
     "output_type": "stream",
     "text": [
      "Collecting jupysql\n",
      "  Downloading jupysql-0.7.5-py3-none-any.whl (50 kB)\n",
      "     ---------------------------------------- 50.0/50.0 kB 1.3 MB/s eta 0:00:00\n",
      "Collecting prettytable (from jupysql)\n",
      "  Downloading prettytable-3.7.0-py3-none-any.whl (27 kB)\n",
      "Collecting ipython (from jupysql)\n",
      "  Downloading ipython-8.13.2-py3-none-any.whl (797 kB)\n",
      "     ------------------------------------- 797.7/797.7 kB 10.1 MB/s eta 0:00:00\n",
      "Collecting sqlalchemy (from jupysql)\n",
      "  Downloading SQLAlchemy-2.0.15-cp39-cp39-win_amd64.whl (2.0 MB)\n",
      "     ---------------------------------------- 2.0/2.0 MB 21.2 MB/s eta 0:00:00\n",
      "Collecting sqlparse (from jupysql)\n",
      "  Downloading sqlparse-0.4.4-py3-none-any.whl (41 kB)\n",
      "     ---------------------------------------- 41.2/41.2 kB 2.1 MB/s eta 0:00:00\n",
      "Collecting ipython-genutils>=0.1.0 (from jupysql)\n",
      "  Downloading ipython_genutils-0.2.0-py2.py3-none-any.whl (26 kB)\n",
      "Collecting sqlglot (from jupysql)\n",
      "  Downloading sqlglot-14.1.1-py3-none-any.whl (263 kB)\n",
      "     ------------------------------------- 263.7/263.7 kB 15.8 MB/s eta 0:00:00\n",
      "Requirement already satisfied: jinja2 in c:\\users\\p2p2l\\projects\\wgong\\cs-faculty\\venv\\lib\\site-packages (from jupysql) (3.1.2)\n",
      "Collecting ploomber-core>=0.2.7 (from jupysql)\n",
      "  Downloading ploomber_core-0.2.11-py3-none-any.whl (20 kB)\n",
      "Requirement already satisfied: click in c:\\users\\p2p2l\\projects\\wgong\\cs-faculty\\venv\\lib\\site-packages (from ploomber-core>=0.2.7->jupysql) (8.1.3)\n",
      "Collecting pyyaml (from ploomber-core>=0.2.7->jupysql)\n",
      "  Downloading PyYAML-6.0-cp39-cp39-win_amd64.whl (151 kB)\n",
      "     -------------------------------------- 151.6/151.6 kB 9.4 MB/s eta 0:00:00\n",
      "Collecting posthog (from ploomber-core>=0.2.7->jupysql)\n",
      "  Downloading posthog-3.0.1-py2.py3-none-any.whl (37 kB)\n",
      "Collecting backcall (from ipython->jupysql)\n",
      "  Downloading backcall-0.2.0-py2.py3-none-any.whl (11 kB)\n",
      "Requirement already satisfied: decorator in c:\\users\\p2p2l\\projects\\wgong\\cs-faculty\\venv\\lib\\site-packages (from ipython->jupysql) (5.1.1)\n",
      "Collecting jedi>=0.16 (from ipython->jupysql)\n",
      "  Downloading jedi-0.18.2-py2.py3-none-any.whl (1.6 MB)\n",
      "     ---------------------------------------- 1.6/1.6 MB 24.7 MB/s eta 0:00:00\n",
      "Collecting matplotlib-inline (from ipython->jupysql)\n",
      "  Downloading matplotlib_inline-0.1.6-py3-none-any.whl (9.4 kB)\n",
      "Collecting pickleshare (from ipython->jupysql)\n",
      "  Downloading pickleshare-0.7.5-py2.py3-none-any.whl (6.9 kB)\n",
      "Collecting prompt-toolkit!=3.0.37,<3.1.0,>=3.0.30 (from ipython->jupysql)\n",
      "  Downloading prompt_toolkit-3.0.38-py3-none-any.whl (385 kB)\n",
      "     ------------------------------------- 385.8/385.8 kB 12.1 MB/s eta 0:00:00\n",
      "Requirement already satisfied: pygments>=2.4.0 in c:\\users\\p2p2l\\projects\\wgong\\cs-faculty\\venv\\lib\\site-packages (from ipython->jupysql) (2.15.1)\n",
      "Collecting stack-data (from ipython->jupysql)\n",
      "  Downloading stack_data-0.6.2-py3-none-any.whl (24 kB)\n",
      "Collecting traitlets>=5 (from ipython->jupysql)\n",
      "  Downloading traitlets-5.9.0-py3-none-any.whl (117 kB)\n",
      "     -------------------------------------- 117.4/117.4 kB 6.7 MB/s eta 0:00:00\n",
      "Requirement already satisfied: typing-extensions in c:\\users\\p2p2l\\projects\\wgong\\cs-faculty\\venv\\lib\\site-packages (from ipython->jupysql) (4.6.2)\n",
      "Requirement already satisfied: colorama in c:\\users\\p2p2l\\projects\\wgong\\cs-faculty\\venv\\lib\\site-packages (from ipython->jupysql) (0.4.6)\n",
      "Requirement already satisfied: MarkupSafe>=2.0 in c:\\users\\p2p2l\\projects\\wgong\\cs-faculty\\venv\\lib\\site-packages (from jinja2->jupysql) (2.1.2)\n",
      "Collecting wcwidth (from prettytable->jupysql)\n",
      "  Downloading wcwidth-0.2.6-py2.py3-none-any.whl (29 kB)\n",
      "Collecting greenlet!=0.4.17 (from sqlalchemy->jupysql)\n",
      "  Downloading greenlet-2.0.2-cp39-cp39-win_amd64.whl (192 kB)\n",
      "     ------------------------------------- 192.1/192.1 kB 11.4 MB/s eta 0:00:00\n",
      "Collecting parso<0.9.0,>=0.8.0 (from jedi>=0.16->ipython->jupysql)\n",
      "  Downloading parso-0.8.3-py2.py3-none-any.whl (100 kB)\n",
      "     -------------------------------------- 100.8/100.8 kB 6.0 MB/s eta 0:00:00\n",
      "Requirement already satisfied: requests<3.0,>=2.7 in c:\\users\\p2p2l\\projects\\wgong\\cs-faculty\\venv\\lib\\site-packages (from posthog->ploomber-core>=0.2.7->jupysql) (2.31.0)\n",
      "Requirement already satisfied: six>=1.5 in c:\\users\\p2p2l\\projects\\wgong\\cs-faculty\\venv\\lib\\site-packages (from posthog->ploomber-core>=0.2.7->jupysql) (1.16.0)\n",
      "Collecting monotonic>=1.5 (from posthog->ploomber-core>=0.2.7->jupysql)\n",
      "  Using cached monotonic-1.6-py2.py3-none-any.whl (8.2 kB)\n",
      "Collecting backoff>=1.10.0 (from posthog->ploomber-core>=0.2.7->jupysql)\n",
      "  Using cached backoff-2.2.1-py3-none-any.whl (15 kB)\n",
      "Requirement already satisfied: python-dateutil>2.1 in c:\\users\\p2p2l\\projects\\wgong\\cs-faculty\\venv\\lib\\site-packages (from posthog->ploomber-core>=0.2.7->jupysql) (2.8.2)\n",
      "Collecting executing>=1.2.0 (from stack-data->ipython->jupysql)\n",
      "  Downloading executing-1.2.0-py2.py3-none-any.whl (24 kB)\n",
      "Collecting asttokens>=2.1.0 (from stack-data->ipython->jupysql)\n",
      "  Downloading asttokens-2.2.1-py2.py3-none-any.whl (26 kB)\n",
      "Collecting pure-eval (from stack-data->ipython->jupysql)\n",
      "  Downloading pure_eval-0.2.2-py3-none-any.whl (11 kB)\n",
      "Requirement already satisfied: charset-normalizer<4,>=2 in c:\\users\\p2p2l\\projects\\wgong\\cs-faculty\\venv\\lib\\site-packages (from requests<3.0,>=2.7->posthog->ploomber-core>=0.2.7->jupysql) (3.1.0)\n",
      "Requirement already satisfied: idna<4,>=2.5 in c:\\users\\p2p2l\\projects\\wgong\\cs-faculty\\venv\\lib\\site-packages (from requests<3.0,>=2.7->posthog->ploomber-core>=0.2.7->jupysql) (3.4)\n",
      "Requirement already satisfied: urllib3<3,>=1.21.1 in c:\\users\\p2p2l\\projects\\wgong\\cs-faculty\\venv\\lib\\site-packages (from requests<3.0,>=2.7->posthog->ploomber-core>=0.2.7->jupysql) (2.0.2)\n",
      "Requirement already satisfied: certifi>=2017.4.17 in c:\\users\\p2p2l\\projects\\wgong\\cs-faculty\\venv\\lib\\site-packages (from requests<3.0,>=2.7->posthog->ploomber-core>=0.2.7->jupysql) (2023.5.7)\n",
      "Installing collected packages: wcwidth, sqlglot, pure-eval, pickleshare, monotonic, ipython-genutils, executing, backcall, traitlets, sqlparse, pyyaml, prompt-toolkit, prettytable, parso, greenlet, backoff, asttokens, stack-data, sqlalchemy, posthog, matplotlib-inline, jedi, ploomber-core, ipython, jupysql\n",
      "Successfully installed asttokens-2.2.1 backcall-0.2.0 backoff-2.2.1 executing-1.2.0 greenlet-2.0.2 ipython-8.13.2 ipython-genutils-0.2.0 jedi-0.18.2 jupysql-0.7.5 matplotlib-inline-0.1.6 monotonic-1.6 parso-0.8.3 pickleshare-0.7.5 ploomber-core-0.2.11 posthog-3.0.1 prettytable-3.7.0 prompt-toolkit-3.0.38 pure-eval-0.2.2 pyyaml-6.0 sqlalchemy-2.0.15 sqlglot-14.1.1 sqlparse-0.4.4 stack-data-0.6.2 traitlets-5.9.0 wcwidth-0.2.6\n"
     ]
    }
   ],
   "source": [
    "!pip install jupysql --upgrade"
   ]
  },
  {
   "cell_type": "code",
   "execution_count": 4,
   "id": "c1cac4c5",
   "metadata": {},
   "outputs": [
    {
     "name": "stdout",
     "output_type": "stream",
     "text": [
      "Requirement already satisfied: faker in c:\\users\\p2p2l\\projects\\wgong\\cs-faculty\\venv\\lib\\site-packages (18.9.0)\n",
      "Requirement already satisfied: python-dateutil>=2.4 in c:\\users\\p2p2l\\projects\\wgong\\cs-faculty\\venv\\lib\\site-packages (from faker) (2.8.2)\n",
      "Requirement already satisfied: six>=1.5 in c:\\users\\p2p2l\\projects\\wgong\\cs-faculty\\venv\\lib\\site-packages (from python-dateutil>=2.4->faker) (1.16.0)\n"
     ]
    }
   ],
   "source": [
    "!pip install faker "
   ]
  },
  {
   "cell_type": "code",
   "execution_count": 9,
   "id": "1340a4fa",
   "metadata": {},
   "outputs": [
    {
     "name": "stdout",
     "output_type": "stream",
     "text": [
      "Collecting duckdb-engine\n",
      "  Downloading duckdb_engine-0.7.3-py3-none-any.whl (40 kB)\n",
      "                                              0.0/40.8 kB ? eta -:--:--\n",
      "     ---------------------------------------- 40.8/40.8 kB 1.9 MB/s eta 0:00:00\n",
      "Requirement already satisfied: duckdb>=0.4.0 in c:\\users\\p2p2l\\projects\\wgong\\cs-faculty\\venv\\lib\\site-packages (from duckdb-engine) (0.8.0)\n",
      "Requirement already satisfied: numpy in c:\\users\\p2p2l\\projects\\wgong\\cs-faculty\\venv\\lib\\site-packages (from duckdb-engine) (1.24.3)\n",
      "Requirement already satisfied: sqlalchemy>=1.3.22 in c:\\users\\p2p2l\\projects\\wgong\\cs-faculty\\venv\\lib\\site-packages (from duckdb-engine) (2.0.15)\n",
      "Requirement already satisfied: typing-extensions>=4.2.0 in c:\\users\\p2p2l\\projects\\wgong\\cs-faculty\\venv\\lib\\site-packages (from sqlalchemy>=1.3.22->duckdb-engine) (4.6.2)\n",
      "Requirement already satisfied: greenlet!=0.4.17 in c:\\users\\p2p2l\\projects\\wgong\\cs-faculty\\venv\\lib\\site-packages (from sqlalchemy>=1.3.22->duckdb-engine) (2.0.2)\n",
      "Installing collected packages: duckdb-engine\n",
      "Successfully installed duckdb-engine-0.7.3\n"
     ]
    }
   ],
   "source": [
    "!pip install duckdb-engine "
   ]
  },
  {
   "cell_type": "code",
   "execution_count": 10,
   "id": "b8f8541a",
   "metadata": {},
   "outputs": [],
   "source": [
    "%sql duckdb:///:memory:"
   ]
  },
  {
   "cell_type": "code",
   "execution_count": 11,
   "id": "2927eebe",
   "metadata": {},
   "outputs": [
    {
     "data": {
      "text/html": [
       "<div>\n",
       "<style scoped>\n",
       "    .dataframe tbody tr th:only-of-type {\n",
       "        vertical-align: middle;\n",
       "    }\n",
       "\n",
       "    .dataframe tbody tr th {\n",
       "        vertical-align: top;\n",
       "    }\n",
       "\n",
       "    .dataframe thead th {\n",
       "        text-align: right;\n",
       "    }\n",
       "</style>\n",
       "<table border=\"1\" class=\"dataframe\">\n",
       "  <thead>\n",
       "    <tr style=\"text-align: right;\">\n",
       "      <th></th>\n",
       "      <th>float_div</th>\n",
       "      <th>int_div</th>\n",
       "    </tr>\n",
       "  </thead>\n",
       "  <tbody>\n",
       "    <tr>\n",
       "      <th>0</th>\n",
       "      <td>1.25</td>\n",
       "      <td>1</td>\n",
       "    </tr>\n",
       "  </tbody>\n",
       "</table>\n",
       "</div>"
      ],
      "text/plain": [
       "   float_div  int_div\n",
       "0       1.25        1"
      ]
     },
     "execution_count": 11,
     "metadata": {},
     "output_type": "execute_result"
    }
   ],
   "source": [
    "%sql SELECT 5/4 as float_div, 5//4 as int_div;"
   ]
  },
  {
   "cell_type": "code",
   "execution_count": 13,
   "id": "3f767c57",
   "metadata": {},
   "outputs": [
    {
     "data": {
      "text/html": [
       "<div>\n",
       "<style scoped>\n",
       "    .dataframe tbody tr th:only-of-type {\n",
       "        vertical-align: middle;\n",
       "    }\n",
       "\n",
       "    .dataframe tbody tr th {\n",
       "        vertical-align: top;\n",
       "    }\n",
       "\n",
       "    .dataframe thead th {\n",
       "        text-align: right;\n",
       "    }\n",
       "</style>\n",
       "<table border=\"1\" class=\"dataframe\">\n",
       "  <thead>\n",
       "    <tr style=\"text-align: right;\">\n",
       "      <th></th>\n",
       "      <th>col</th>\n",
       "    </tr>\n",
       "  </thead>\n",
       "  <tbody>\n",
       "    <tr>\n",
       "      <th>0</th>\n",
       "      <td>43.0</td>\n",
       "    </tr>\n",
       "    <tr>\n",
       "      <th>1</th>\n",
       "      <td>42.0</td>\n",
       "    </tr>\n",
       "    <tr>\n",
       "      <th>2</th>\n",
       "      <td>NaN</td>\n",
       "    </tr>\n",
       "  </tbody>\n",
       "</table>\n",
       "</div>"
      ],
      "text/plain": [
       "    col\n",
       "0  43.0\n",
       "1  42.0\n",
       "2   NaN"
      ]
     },
     "execution_count": 13,
     "metadata": {},
     "output_type": "execute_result"
    }
   ],
   "source": [
    "%sql DROP TABLE IF EXISTS bigdata;\n",
    "%sql -- CREATE OR REPLACE TABLE bigdata(col INTEGER);\n",
    "%sql CREATE TABLE IF NOT EXISTS bigdata(col INTEGER);\n",
    "%sql INSERT INTO bigdata VALUES (NULL), (42), (NULL), (43);\n",
    "%sql FROM bigdata ORDER BY col DESC LIMIT 3;"
   ]
  },
  {
   "cell_type": "code",
   "execution_count": 12,
   "id": "51671d41",
   "metadata": {},
   "outputs": [
    {
     "ename": "AttributeError",
     "evalue": "'duckdb.DuckDBPyConnection' object has no attribute 'dialect'",
     "output_type": "error",
     "traceback": [
      "\u001b[1;31m---------------------------------------------------------------------------\u001b[0m",
      "\u001b[1;31mAttributeError\u001b[0m                            Traceback (most recent call last)",
      "Cell \u001b[1;32mIn[12], line 1\u001b[0m\n\u001b[1;32m----> 1\u001b[0m \u001b[43mget_ipython\u001b[49m\u001b[43m(\u001b[49m\u001b[43m)\u001b[49m\u001b[38;5;241;43m.\u001b[39;49m\u001b[43mrun_cell_magic\u001b[49m\u001b[43m(\u001b[49m\u001b[38;5;124;43m'\u001b[39;49m\u001b[38;5;124;43msql\u001b[39;49m\u001b[38;5;124;43m'\u001b[39;49m\u001b[43m,\u001b[49m\u001b[43m \u001b[49m\u001b[38;5;124;43m'\u001b[39;49m\u001b[38;5;124;43m'\u001b[39;49m\u001b[43m,\u001b[49m\u001b[43m \u001b[49m\u001b[38;5;124;43m'\u001b[39;49m\u001b[38;5;130;43;01m\\n\u001b[39;49;00m\u001b[38;5;124;43mDROP TABLE IF EXISTS bigdata;\u001b[39;49m\u001b[38;5;130;43;01m\\n\u001b[39;49;00m\u001b[38;5;124;43m-- CREATE OR REPLACE TABLE bigdata(col INTEGER);\u001b[39;49m\u001b[38;5;130;43;01m\\n\u001b[39;49;00m\u001b[38;5;124;43mCREATE TABLE IF NOT EXISTS bigdata(col INTEGER);\u001b[39;49m\u001b[38;5;130;43;01m\\n\u001b[39;49;00m\u001b[38;5;124;43mINSERT INTO bigdata VALUES (NULL), (42), (NULL), (43);\u001b[39;49m\u001b[38;5;130;43;01m\\n\u001b[39;49;00m\u001b[38;5;124;43mFROM bigdata ORDER BY col DESC LIMIT 3;\u001b[39;49m\u001b[38;5;130;43;01m\\n\u001b[39;49;00m\u001b[38;5;124;43m'\u001b[39;49m\u001b[43m)\u001b[49m\n",
      "File \u001b[1;32m~\\projects\\wgong\\cs-faculty\\venv\\lib\\site-packages\\IPython\\core\\interactiveshell.py:2478\u001b[0m, in \u001b[0;36mInteractiveShell.run_cell_magic\u001b[1;34m(self, magic_name, line, cell)\u001b[0m\n\u001b[0;32m   2476\u001b[0m \u001b[38;5;28;01mwith\u001b[39;00m \u001b[38;5;28mself\u001b[39m\u001b[38;5;241m.\u001b[39mbuiltin_trap:\n\u001b[0;32m   2477\u001b[0m     args \u001b[38;5;241m=\u001b[39m (magic_arg_s, cell)\n\u001b[1;32m-> 2478\u001b[0m     result \u001b[38;5;241m=\u001b[39m fn(\u001b[38;5;241m*\u001b[39margs, \u001b[38;5;241m*\u001b[39m\u001b[38;5;241m*\u001b[39mkwargs)\n\u001b[0;32m   2480\u001b[0m \u001b[38;5;66;03m# The code below prevents the output from being displayed\u001b[39;00m\n\u001b[0;32m   2481\u001b[0m \u001b[38;5;66;03m# when using magics with decodator @output_can_be_silenced\u001b[39;00m\n\u001b[0;32m   2482\u001b[0m \u001b[38;5;66;03m# when the last Python token in the expression is a ';'.\u001b[39;00m\n\u001b[0;32m   2483\u001b[0m \u001b[38;5;28;01mif\u001b[39;00m \u001b[38;5;28mgetattr\u001b[39m(fn, magic\u001b[38;5;241m.\u001b[39mMAGIC_OUTPUT_CAN_BE_SILENCED, \u001b[38;5;28;01mFalse\u001b[39;00m):\n",
      "File \u001b[1;32m~\\projects\\wgong\\cs-faculty\\venv\\lib\\site-packages\\sql\\magic.py:280\u001b[0m, in \u001b[0;36mSqlMagic.execute\u001b[1;34m(self, line, cell, local_ns)\u001b[0m\n\u001b[0;32m    178\u001b[0m \u001b[38;5;129m@no_var_expand\u001b[39m\n\u001b[0;32m    179\u001b[0m \u001b[38;5;129m@needs_local_scope\u001b[39m\n\u001b[0;32m    180\u001b[0m \u001b[38;5;129m@line_magic\u001b[39m(\u001b[38;5;124m\"\u001b[39m\u001b[38;5;124msql\u001b[39m\u001b[38;5;124m\"\u001b[39m)\n\u001b[1;32m   (...)\u001b[0m\n\u001b[0;32m    252\u001b[0m )\n\u001b[0;32m    253\u001b[0m \u001b[38;5;28;01mdef\u001b[39;00m \u001b[38;5;21mexecute\u001b[39m(\u001b[38;5;28mself\u001b[39m, line\u001b[38;5;241m=\u001b[39m\u001b[38;5;124m\"\u001b[39m\u001b[38;5;124m\"\u001b[39m, cell\u001b[38;5;241m=\u001b[39m\u001b[38;5;124m\"\u001b[39m\u001b[38;5;124m\"\u001b[39m, local_ns\u001b[38;5;241m=\u001b[39m\u001b[38;5;28;01mNone\u001b[39;00m):\n\u001b[0;32m    254\u001b[0m \u001b[38;5;250m    \u001b[39m\u001b[38;5;124;03m\"\"\"\u001b[39;00m\n\u001b[0;32m    255\u001b[0m \u001b[38;5;124;03m    Runs SQL statement against a database, specified by\u001b[39;00m\n\u001b[0;32m    256\u001b[0m \u001b[38;5;124;03m    SQLAlchemy connect string.\u001b[39;00m\n\u001b[1;32m   (...)\u001b[0m\n\u001b[0;32m    278\u001b[0m \n\u001b[0;32m    279\u001b[0m \u001b[38;5;124;03m    \"\"\"\u001b[39;00m\n\u001b[1;32m--> 280\u001b[0m     \u001b[38;5;28;01mreturn\u001b[39;00m \u001b[38;5;28;43mself\u001b[39;49m\u001b[38;5;241;43m.\u001b[39;49m\u001b[43m_execute\u001b[49m\u001b[43m(\u001b[49m\n\u001b[0;32m    281\u001b[0m \u001b[43m        \u001b[49m\u001b[43mline\u001b[49m\u001b[38;5;241;43m=\u001b[39;49m\u001b[43mline\u001b[49m\u001b[43m,\u001b[49m\u001b[43m \u001b[49m\u001b[43mcell\u001b[49m\u001b[38;5;241;43m=\u001b[39;49m\u001b[43mcell\u001b[49m\u001b[43m,\u001b[49m\u001b[43m \u001b[49m\u001b[43mlocal_ns\u001b[49m\u001b[38;5;241;43m=\u001b[39;49m\u001b[43mlocal_ns\u001b[49m\u001b[43m,\u001b[49m\u001b[43m \u001b[49m\u001b[43mis_interactive_mode\u001b[49m\u001b[38;5;241;43m=\u001b[39;49m\u001b[38;5;28;43;01mFalse\u001b[39;49;00m\n\u001b[0;32m    282\u001b[0m \u001b[43m    \u001b[49m\u001b[43m)\u001b[49m\n",
      "File \u001b[1;32m~\\projects\\wgong\\cs-faculty\\venv\\lib\\site-packages\\ploomber_core\\telemetry\\telemetry.py:740\u001b[0m, in \u001b[0;36mTelemetry.log_call.<locals>._log_call.<locals>.wrapper\u001b[1;34m(*args, **kwargs)\u001b[0m\n\u001b[0;32m    738\u001b[0m     injected_args \u001b[38;5;241m=\u001b[39m \u001b[38;5;28mlist\u001b[39m(args)\n\u001b[0;32m    739\u001b[0m     injected_args\u001b[38;5;241m.\u001b[39minsert(\u001b[38;5;241m1\u001b[39m, _payload)\n\u001b[1;32m--> 740\u001b[0m     result \u001b[38;5;241m=\u001b[39m func(\u001b[38;5;241m*\u001b[39minjected_args, \u001b[38;5;241m*\u001b[39m\u001b[38;5;241m*\u001b[39mkwargs)\n\u001b[0;32m    741\u001b[0m \u001b[38;5;28;01melse\u001b[39;00m:\n\u001b[0;32m    742\u001b[0m     result \u001b[38;5;241m=\u001b[39m func(_payload, \u001b[38;5;241m*\u001b[39margs, \u001b[38;5;241m*\u001b[39m\u001b[38;5;241m*\u001b[39mkwargs)\n",
      "File \u001b[1;32m~\\projects\\wgong\\cs-faculty\\venv\\lib\\site-packages\\ploomber_core\\exceptions.py:109\u001b[0m, in \u001b[0;36mmodify_exceptions.<locals>.wrapper\u001b[1;34m(*args, **kwargs)\u001b[0m\n\u001b[0;32m    106\u001b[0m \u001b[38;5;129m@wraps\u001b[39m(fn)\n\u001b[0;32m    107\u001b[0m \u001b[38;5;28;01mdef\u001b[39;00m \u001b[38;5;21mwrapper\u001b[39m(\u001b[38;5;241m*\u001b[39margs, \u001b[38;5;241m*\u001b[39m\u001b[38;5;241m*\u001b[39mkwargs):\n\u001b[0;32m    108\u001b[0m     \u001b[38;5;28;01mtry\u001b[39;00m:\n\u001b[1;32m--> 109\u001b[0m         \u001b[38;5;28;01mreturn\u001b[39;00m fn(\u001b[38;5;241m*\u001b[39margs, \u001b[38;5;241m*\u001b[39m\u001b[38;5;241m*\u001b[39mkwargs)\n\u001b[0;32m    110\u001b[0m     \u001b[38;5;28;01mexcept\u001b[39;00m (\u001b[38;5;167;01mValueError\u001b[39;00m, \u001b[38;5;167;01mTypeError\u001b[39;00m) \u001b[38;5;28;01mas\u001b[39;00m e:\n\u001b[0;32m    111\u001b[0m         _add_community_link(e)\n",
      "File \u001b[1;32m~\\projects\\wgong\\cs-faculty\\venv\\lib\\site-packages\\sql\\magic.py:399\u001b[0m, in \u001b[0;36mSqlMagic._execute\u001b[1;34m(self, payload, line, cell, local_ns, is_interactive_mode)\u001b[0m\n\u001b[0;32m    396\u001b[0m     \u001b[38;5;28;01mreturn\u001b[39;00m\n\u001b[0;32m    398\u001b[0m \u001b[38;5;28;01mtry\u001b[39;00m:\n\u001b[1;32m--> 399\u001b[0m     result \u001b[38;5;241m=\u001b[39m \u001b[43msql\u001b[49m\u001b[38;5;241;43m.\u001b[39;49m\u001b[43mrun\u001b[49m\u001b[38;5;241;43m.\u001b[39;49m\u001b[43mrun\u001b[49m\u001b[43m(\u001b[49m\u001b[43mconn\u001b[49m\u001b[43m,\u001b[49m\u001b[43m \u001b[49m\u001b[43mcommand\u001b[49m\u001b[38;5;241;43m.\u001b[39;49m\u001b[43msql\u001b[49m\u001b[43m,\u001b[49m\u001b[43m \u001b[49m\u001b[38;5;28;43mself\u001b[39;49m\u001b[43m)\u001b[49m\n\u001b[0;32m    401\u001b[0m     \u001b[38;5;28;01mif\u001b[39;00m (\n\u001b[0;32m    402\u001b[0m         result \u001b[38;5;129;01mis\u001b[39;00m \u001b[38;5;129;01mnot\u001b[39;00m \u001b[38;5;28;01mNone\u001b[39;00m\n\u001b[0;32m    403\u001b[0m         \u001b[38;5;129;01mand\u001b[39;00m \u001b[38;5;129;01mnot\u001b[39;00m \u001b[38;5;28misinstance\u001b[39m(result, \u001b[38;5;28mstr\u001b[39m)\n\u001b[1;32m   (...)\u001b[0m\n\u001b[0;32m    406\u001b[0m         \u001b[38;5;66;03m# Instead of returning values, set variables directly in the\u001b[39;00m\n\u001b[0;32m    407\u001b[0m         \u001b[38;5;66;03m# users namespace. Variable names given by column names\u001b[39;00m\n\u001b[0;32m    409\u001b[0m         \u001b[38;5;28;01mif\u001b[39;00m \u001b[38;5;28mself\u001b[39m\u001b[38;5;241m.\u001b[39mautopandas \u001b[38;5;129;01mor\u001b[39;00m \u001b[38;5;28mself\u001b[39m\u001b[38;5;241m.\u001b[39mautopolars:\n",
      "File \u001b[1;32m~\\projects\\wgong\\cs-faculty\\venv\\lib\\site-packages\\sql\\run.py:536\u001b[0m, in \u001b[0;36mrun\u001b[1;34m(conn, sql, config)\u001b[0m\n\u001b[0;32m    532\u001b[0m     result \u001b[38;5;241m=\u001b[39m handle_postgres_special(conn, statement)\n\u001b[0;32m    534\u001b[0m \u001b[38;5;66;03m# regular query\u001b[39;00m\n\u001b[0;32m    535\u001b[0m \u001b[38;5;28;01melse\u001b[39;00m:\n\u001b[1;32m--> 536\u001b[0m     manual_commit \u001b[38;5;241m=\u001b[39m \u001b[43mset_autocommit\u001b[49m\u001b[43m(\u001b[49m\u001b[43mconn\u001b[49m\u001b[43m,\u001b[49m\u001b[43m \u001b[49m\u001b[43mconfig\u001b[49m\u001b[43m)\u001b[49m\n\u001b[0;32m    537\u001b[0m     is_custom_connection \u001b[38;5;241m=\u001b[39m Connection\u001b[38;5;241m.\u001b[39mis_custom_connection(conn)\n\u001b[0;32m    539\u001b[0m     \u001b[38;5;66;03m# if regular sqlalchemy, pass a text object\u001b[39;00m\n",
      "File \u001b[1;32m~\\projects\\wgong\\cs-faculty\\venv\\lib\\site-packages\\sql\\run.py:466\u001b[0m, in \u001b[0;36mset_autocommit\u001b[1;34m(conn, config)\u001b[0m\n\u001b[0;32m    464\u001b[0m \u001b[38;5;28;01mdef\u001b[39;00m \u001b[38;5;21mset_autocommit\u001b[39m(conn, config):\n\u001b[0;32m    465\u001b[0m \u001b[38;5;250m    \u001b[39m\u001b[38;5;124;03m\"\"\"Sets the autocommit setting for a database connection.\"\"\"\u001b[39;00m\n\u001b[1;32m--> 466\u001b[0m     \u001b[38;5;28;01mif\u001b[39;00m is_pytds(\u001b[43mconn\u001b[49m\u001b[38;5;241;43m.\u001b[39;49m\u001b[43mdialect\u001b[49m):\n\u001b[0;32m    467\u001b[0m         warnings\u001b[38;5;241m.\u001b[39mwarn(\n\u001b[0;32m    468\u001b[0m             \u001b[38;5;124m\"\u001b[39m\u001b[38;5;124mAutocommit is not supported for pytds, thus is automatically disabled\u001b[39m\u001b[38;5;124m\"\u001b[39m\n\u001b[0;32m    469\u001b[0m         )\n\u001b[0;32m    470\u001b[0m         \u001b[38;5;28;01mreturn\u001b[39;00m \u001b[38;5;28;01mFalse\u001b[39;00m\n",
      "File \u001b[1;32m~\\projects\\wgong\\cs-faculty\\venv\\lib\\site-packages\\sqlalchemy\\pool\\base.py:1494\u001b[0m, in \u001b[0;36m_ConnectionFairy.__getattr__\u001b[1;34m(self, key)\u001b[0m\n\u001b[0;32m   1493\u001b[0m \u001b[38;5;28;01mdef\u001b[39;00m \u001b[38;5;21m__getattr__\u001b[39m(\u001b[38;5;28mself\u001b[39m, key: \u001b[38;5;28mstr\u001b[39m) \u001b[38;5;241m-\u001b[39m\u001b[38;5;241m>\u001b[39m Any:\n\u001b[1;32m-> 1494\u001b[0m     \u001b[38;5;28;01mreturn\u001b[39;00m \u001b[38;5;28;43mgetattr\u001b[39;49m\u001b[43m(\u001b[49m\u001b[38;5;28;43mself\u001b[39;49m\u001b[38;5;241;43m.\u001b[39;49m\u001b[43mdbapi_connection\u001b[49m\u001b[43m,\u001b[49m\u001b[43m \u001b[49m\u001b[43mkey\u001b[49m\u001b[43m)\u001b[49m\n",
      "File \u001b[1;32m~\\projects\\wgong\\cs-faculty\\venv\\lib\\site-packages\\duckdb_engine\\__init__.py:104\u001b[0m, in \u001b[0;36mConnectionWrapper.__getattr__\u001b[1;34m(self, name)\u001b[0m\n\u001b[0;32m    103\u001b[0m \u001b[38;5;28;01mdef\u001b[39;00m \u001b[38;5;21m__getattr__\u001b[39m(\u001b[38;5;28mself\u001b[39m, name: \u001b[38;5;28mstr\u001b[39m) \u001b[38;5;241m-\u001b[39m\u001b[38;5;241m>\u001b[39m Any:\n\u001b[1;32m--> 104\u001b[0m     \u001b[38;5;28;01mreturn\u001b[39;00m \u001b[38;5;28;43mgetattr\u001b[39;49m\u001b[43m(\u001b[49m\u001b[38;5;28;43mself\u001b[39;49m\u001b[38;5;241;43m.\u001b[39;49m\u001b[43m__c\u001b[49m\u001b[43m,\u001b[49m\u001b[43m \u001b[49m\u001b[43mname\u001b[49m\u001b[43m)\u001b[49m\n",
      "\u001b[1;31mAttributeError\u001b[0m: 'duckdb.DuckDBPyConnection' object has no attribute 'dialect'"
     ]
    }
   ],
   "source": [
    "%%sql \n",
    "\n",
    "DROP TABLE IF EXISTS bigdata;\n",
    "-- CREATE OR REPLACE TABLE bigdata(col INTEGER);\n",
    "CREATE TABLE IF NOT EXISTS bigdata(col INTEGER);\n",
    "INSERT INTO bigdata VALUES (NULL), (42), (NULL), (43);\n",
    "FROM bigdata ORDER BY col DESC LIMIT 3;"
   ]
  },
  {
   "cell_type": "code",
   "execution_count": 14,
   "id": "41ef9606",
   "metadata": {},
   "outputs": [
    {
     "data": {
      "text/html": [
       "<div>\n",
       "<style scoped>\n",
       "    .dataframe tbody tr th:only-of-type {\n",
       "        vertical-align: middle;\n",
       "    }\n",
       "\n",
       "    .dataframe tbody tr th {\n",
       "        vertical-align: top;\n",
       "    }\n",
       "\n",
       "    .dataframe thead th {\n",
       "        text-align: right;\n",
       "    }\n",
       "</style>\n",
       "<table border=\"1\" class=\"dataframe\">\n",
       "  <thead>\n",
       "    <tr style=\"text-align: right;\">\n",
       "      <th></th>\n",
       "      <th>2021</th>\n",
       "      <th>2022</th>\n",
       "    </tr>\n",
       "  </thead>\n",
       "  <tbody>\n",
       "    <tr>\n",
       "      <th>0</th>\n",
       "      <td>84.0</td>\n",
       "      <td>100.0</td>\n",
       "    </tr>\n",
       "  </tbody>\n",
       "</table>\n",
       "</div>"
      ],
      "text/plain": [
       "   2021   2022\n",
       "0  84.0  100.0"
      ]
     },
     "execution_count": 14,
     "metadata": {},
     "output_type": "execute_result"
    }
   ],
   "source": [
    "%sql CREATE TABLE sales(year INT, amount INT);\n",
    "%sql INSERT INTO sales VALUES (2021, 42), (2022, 100), (2021, 42);\n",
    "%sql PIVOT sales ON year USING SUM(amount);"
   ]
  },
  {
   "cell_type": "markdown",
   "id": "20bc7298",
   "metadata": {},
   "source": [
    "## User-Defined Scalar Functions for Python"
   ]
  },
  {
   "cell_type": "code",
   "execution_count": 15,
   "id": "78f7ad3f",
   "metadata": {},
   "outputs": [
    {
     "name": "stdout",
     "output_type": "stream",
     "text": [
      "[(datetime.date(1996, 1, 20),)]\n"
     ]
    }
   ],
   "source": [
    "def random_date():\n",
    "     fake = Faker()\n",
    "     return fake.date_between()\n",
    "\n",
    "duckdb.create_function('random_date', random_date, [], DATE)\n",
    "res = duckdb.sql('select random_date()').fetchall()\n",
    "print(res)\n",
    "# [(datetime.date(2019, 5, 15),)]"
   ]
  },
  {
   "cell_type": "code",
   "execution_count": 19,
   "id": "eafb13e1",
   "metadata": {},
   "outputs": [
    {
     "name": "stdout",
     "output_type": "stream",
     "text": [
      "[(datetime.date(1994, 6, 4),)]\n"
     ]
    }
   ],
   "source": [
    "res = duckdb.sql('select random_date()').fetchall()\n",
    "print(res)"
   ]
  },
  {
   "cell_type": "code",
   "execution_count": null,
   "id": "786cb13e",
   "metadata": {},
   "outputs": [],
   "source": []
  }
 ],
 "metadata": {
  "kernelspec": {
   "display_name": "Python 3 (ipykernel)",
   "language": "python",
   "name": "python3"
  },
  "language_info": {
   "codemirror_mode": {
    "name": "ipython",
    "version": 3
   },
   "file_extension": ".py",
   "mimetype": "text/x-python",
   "name": "python",
   "nbconvert_exporter": "python",
   "pygments_lexer": "ipython3",
   "version": "3.9.13"
  },
  "nbTranslate": {
   "displayLangs": [
    "*"
   ],
   "hotkey": "alt-t",
   "langInMainMenu": true,
   "sourceLang": "en",
   "targetLang": "fr",
   "useGoogleTranslate": true
  },
  "toc": {
   "base_numbering": 1,
   "nav_menu": {},
   "number_sections": true,
   "sideBar": true,
   "skip_h1_title": false,
   "title_cell": "Table of Contents",
   "title_sidebar": "Contents",
   "toc_cell": false,
   "toc_position": {},
   "toc_section_display": true,
   "toc_window_display": false
  }
 },
 "nbformat": 4,
 "nbformat_minor": 5
}
