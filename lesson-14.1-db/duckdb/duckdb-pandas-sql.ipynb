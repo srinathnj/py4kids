{
 "cells": [
  {
   "cell_type": "markdown",
   "id": "25861b1a",
   "metadata": {},
   "source": [
    "\n",
    "DuckDB tutorial by Data with Marc\n",
    "- https://youtu.be/AjsB6lM2-zw \n",
    "- https://robust-dinosaur-2ef.notion.site/DuckDB-Tutorial-Getting-started-for-beginners-b80bf0de8d6142d6979e78e59ffbbefe\n",
    "- [DuckDB vs SQLite](https://db-engines.com/en/system/DuckDB%3BSQLite)\n",
    "\n",
    "GUI tool supporting DuckDB\n",
    "- https://dbeaver.io/  Universal DB tool\n",
    "- https://blog.ouseful.info/2022/02/11/sql-databases-in-the-browser-via-wasm-sqlite-and-duckdb/"
   ]
  },
  {
   "cell_type": "code",
   "execution_count": null,
   "id": "ae2d604d",
   "metadata": {},
   "outputs": [],
   "source": []
  },
  {
   "cell_type": "code",
   "execution_count": 71,
   "id": "5b4fba63",
   "metadata": {},
   "outputs": [],
   "source": [
    "import os\n",
    "import glob\n",
    "import time\n",
    "from pathlib import Path\n",
    "import pandas as pd\n",
    "import duckdb\n",
    "\n",
    "conn = duckdb.connect() # create an in-memory database"
   ]
  },
  {
   "cell_type": "code",
   "execution_count": 2,
   "id": "30340bd3",
   "metadata": {},
   "outputs": [
    {
     "name": "stdout",
     "output_type": "stream",
     "text": [
      "C:\\Users\\p2p2l\\projects\\wgong\\py4kids\\lesson-14.1-db\\duckdb\n"
     ]
    }
   ],
   "source": [
    "!cd"
   ]
  },
  {
   "cell_type": "code",
   "execution_count": 8,
   "id": "b59529c4",
   "metadata": {},
   "outputs": [],
   "source": [
    "data_dir = \"../data/sales\""
   ]
  },
  {
   "cell_type": "code",
   "execution_count": 9,
   "id": "cfc97cd2",
   "metadata": {},
   "outputs": [
    {
     "data": {
      "text/plain": [
       "['Sales_April_2019.csv',\n",
       " 'Sales_August_2019.csv',\n",
       " 'Sales_December_2019.csv',\n",
       " 'Sales_February_2019.csv',\n",
       " 'Sales_January_2019.csv',\n",
       " 'Sales_July_2019.csv',\n",
       " 'Sales_June_2019.csv',\n",
       " 'Sales_March_2019.csv',\n",
       " 'Sales_May_2019.csv',\n",
       " 'Sales_November_2019.csv',\n",
       " 'Sales_October_2019.csv',\n",
       " 'Sales_September_2019.csv']"
      ]
     },
     "execution_count": 9,
     "metadata": {},
     "output_type": "execute_result"
    }
   ],
   "source": [
    "os.listdir(data_dir)"
   ]
  },
  {
   "cell_type": "markdown",
   "id": "6cb0f3df",
   "metadata": {},
   "source": [
    "## Read CSV files\n",
    "\n",
    "- pandas: 0.321530 s\n",
    "- duckdb: 0.267112 s"
   ]
  },
  {
   "cell_type": "markdown",
   "id": "51f8884e",
   "metadata": {},
   "source": [
    "### with pandas"
   ]
  },
  {
   "cell_type": "code",
   "execution_count": 10,
   "id": "619502a6",
   "metadata": {
    "scrolled": true
   },
   "outputs": [
    {
     "name": "stdout",
     "output_type": "stream",
     "text": [
      "time: 0.3215305805206299\n",
      "  Order ID                     Product Quantity Ordered Price Each  \\\n",
      "0   176558        USB-C Charging Cable                2      11.95   \n",
      "1      NaN                         NaN              NaN        NaN   \n",
      "2   176559  Bose SoundSport Headphones                1      99.99   \n",
      "3   176560                Google Phone                1        600   \n",
      "4   176560            Wired Headphones                1      11.99   \n",
      "5   176561            Wired Headphones                1      11.99   \n",
      "6   176562        USB-C Charging Cable                1      11.95   \n",
      "7   176563  Bose SoundSport Headphones                1      99.99   \n",
      "8   176564        USB-C Charging Cable                1      11.95   \n",
      "9   176565          Macbook Pro Laptop                1       1700   \n",
      "\n",
      "       Order Date                        Purchase Address  \n",
      "0  04/19/19 08:46            917 1st St, Dallas, TX 75001  \n",
      "1             NaN                                     NaN  \n",
      "2  04/07/19 22:30       682 Chestnut St, Boston, MA 02215  \n",
      "3  04/12/19 14:38    669 Spruce St, Los Angeles, CA 90001  \n",
      "4  04/12/19 14:38    669 Spruce St, Los Angeles, CA 90001  \n",
      "5  04/30/19 09:27       333 8th St, Los Angeles, CA 90001  \n",
      "6  04/29/19 13:03  381 Wilson St, San Francisco, CA 94016  \n",
      "7  04/02/19 07:46        668 Center St, Seattle, WA 98101  \n",
      "8  04/12/19 10:58         790 Ridge St, Atlanta, GA 30301  \n",
      "9  04/24/19 10:38  915 Willow St, San Francisco, CA 94016  \n"
     ]
    }
   ],
   "source": [
    "\n",
    "cur_time = time.time()\n",
    "df = pd.concat([pd.read_csv(f) for f in glob.glob(f'{data_dir}/*.csv')])\n",
    "print(f\"time: {(time.time() - cur_time)}\")\n",
    "print(df.head(10))"
   ]
  },
  {
   "cell_type": "code",
   "execution_count": 11,
   "id": "0211d156",
   "metadata": {},
   "outputs": [
    {
     "data": {
      "text/plain": [
       "(186850, 6)"
      ]
     },
     "execution_count": 11,
     "metadata": {},
     "output_type": "execute_result"
    }
   ],
   "source": [
    "df.shape"
   ]
  },
  {
   "cell_type": "markdown",
   "id": "b7768293",
   "metadata": {},
   "source": [
    "### with duckdb"
   ]
  },
  {
   "cell_type": "code",
   "execution_count": 20,
   "id": "018e8ca5",
   "metadata": {
    "scrolled": true
   },
   "outputs": [
    {
     "name": "stdout",
     "output_type": "stream",
     "text": [
      "time: 0.26711201667785645\n",
      "    column0                     column1           column2     column3  \\\n",
      "0  Order ID                     Product  Quantity Ordered  Price Each   \n",
      "1    176558        USB-C Charging Cable                 2       11.95   \n",
      "2       NaN                         NaN               NaN         NaN   \n",
      "3    176559  Bose SoundSport Headphones                 1       99.99   \n",
      "4    176560                Google Phone                 1         600   \n",
      "5    176560            Wired Headphones                 1       11.99   \n",
      "6    176561            Wired Headphones                 1       11.99   \n",
      "7    176562        USB-C Charging Cable                 1       11.95   \n",
      "8    176563  Bose SoundSport Headphones                 1       99.99   \n",
      "9    176564        USB-C Charging Cable                 1       11.95   \n",
      "\n",
      "          column4                                 column5  \n",
      "0      Order Date                        Purchase Address  \n",
      "1  04/19/19 08:46            917 1st St, Dallas, TX 75001  \n",
      "2             NaN                                     NaN  \n",
      "3  04/07/19 22:30       682 Chestnut St, Boston, MA 02215  \n",
      "4  04/12/19 14:38    669 Spruce St, Los Angeles, CA 90001  \n",
      "5  04/12/19 14:38    669 Spruce St, Los Angeles, CA 90001  \n",
      "6  04/30/19 09:27       333 8th St, Los Angeles, CA 90001  \n",
      "7  04/29/19 13:03  381 Wilson St, San Francisco, CA 94016  \n",
      "8  04/02/19 07:46        668 Center St, Seattle, WA 98101  \n",
      "9  04/12/19 10:58         790 Ridge St, Atlanta, GA 30301  \n"
     ]
    }
   ],
   "source": [
    "cur_time = time.time()\n",
    "df = conn.execute(f\"\"\"\n",
    "\tSELECT *\n",
    "\tFROM '{data_dir}/*.csv'\n",
    "\t-- LIMIT 10\n",
    "\"\"\").df()\n",
    "print(f\"time: {(time.time() - cur_time)}\")\n",
    "print(df.head(10))"
   ]
  },
  {
   "cell_type": "code",
   "execution_count": 21,
   "id": "d7dbadf4",
   "metadata": {},
   "outputs": [
    {
     "data": {
      "text/plain": [
       "(186862, 6)"
      ]
     },
     "execution_count": 21,
     "metadata": {},
     "output_type": "execute_result"
    }
   ],
   "source": [
    "df.shape"
   ]
  },
  {
   "cell_type": "code",
   "execution_count": 22,
   "id": "3a672554",
   "metadata": {},
   "outputs": [
    {
     "data": {
      "text/plain": [
       "pandas.core.frame.DataFrame"
      ]
     },
     "execution_count": 22,
     "metadata": {},
     "output_type": "execute_result"
    }
   ],
   "source": [
    "type(df)"
   ]
  },
  {
   "cell_type": "code",
   "execution_count": 23,
   "id": "9da6cfed",
   "metadata": {},
   "outputs": [
    {
     "data": {
      "text/plain": [
       "column0    object\n",
       "column1    object\n",
       "column2    object\n",
       "column3    object\n",
       "column4    object\n",
       "column5    object\n",
       "dtype: object"
      ]
     },
     "execution_count": 23,
     "metadata": {},
     "output_type": "execute_result"
    }
   ],
   "source": [
    "df.dtypes"
   ]
  },
  {
   "cell_type": "markdown",
   "id": "7472439e",
   "metadata": {},
   "source": [
    "register dataframe as view"
   ]
  },
  {
   "cell_type": "markdown",
   "id": "7f3f3411",
   "metadata": {},
   "source": [
    "### Register dataframe as DuckDB view"
   ]
  },
  {
   "cell_type": "code",
   "execution_count": 24,
   "id": "adba24fb",
   "metadata": {},
   "outputs": [
    {
     "data": {
      "text/html": [
       "<div>\n",
       "<style scoped>\n",
       "    .dataframe tbody tr th:only-of-type {\n",
       "        vertical-align: middle;\n",
       "    }\n",
       "\n",
       "    .dataframe tbody tr th {\n",
       "        vertical-align: top;\n",
       "    }\n",
       "\n",
       "    .dataframe thead th {\n",
       "        text-align: right;\n",
       "    }\n",
       "</style>\n",
       "<table border=\"1\" class=\"dataframe\">\n",
       "  <thead>\n",
       "    <tr style=\"text-align: right;\">\n",
       "      <th></th>\n",
       "      <th>column_name</th>\n",
       "      <th>column_type</th>\n",
       "      <th>null</th>\n",
       "      <th>key</th>\n",
       "      <th>default</th>\n",
       "      <th>extra</th>\n",
       "    </tr>\n",
       "  </thead>\n",
       "  <tbody>\n",
       "    <tr>\n",
       "      <th>0</th>\n",
       "      <td>column0</td>\n",
       "      <td>VARCHAR</td>\n",
       "      <td>YES</td>\n",
       "      <td>NaN</td>\n",
       "      <td>NaN</td>\n",
       "      <td>NaN</td>\n",
       "    </tr>\n",
       "    <tr>\n",
       "      <th>1</th>\n",
       "      <td>column1</td>\n",
       "      <td>VARCHAR</td>\n",
       "      <td>YES</td>\n",
       "      <td>NaN</td>\n",
       "      <td>NaN</td>\n",
       "      <td>NaN</td>\n",
       "    </tr>\n",
       "    <tr>\n",
       "      <th>2</th>\n",
       "      <td>column2</td>\n",
       "      <td>VARCHAR</td>\n",
       "      <td>YES</td>\n",
       "      <td>NaN</td>\n",
       "      <td>NaN</td>\n",
       "      <td>NaN</td>\n",
       "    </tr>\n",
       "    <tr>\n",
       "      <th>3</th>\n",
       "      <td>column3</td>\n",
       "      <td>VARCHAR</td>\n",
       "      <td>YES</td>\n",
       "      <td>NaN</td>\n",
       "      <td>NaN</td>\n",
       "      <td>NaN</td>\n",
       "    </tr>\n",
       "    <tr>\n",
       "      <th>4</th>\n",
       "      <td>column4</td>\n",
       "      <td>VARCHAR</td>\n",
       "      <td>YES</td>\n",
       "      <td>NaN</td>\n",
       "      <td>NaN</td>\n",
       "      <td>NaN</td>\n",
       "    </tr>\n",
       "    <tr>\n",
       "      <th>5</th>\n",
       "      <td>column5</td>\n",
       "      <td>VARCHAR</td>\n",
       "      <td>YES</td>\n",
       "      <td>NaN</td>\n",
       "      <td>NaN</td>\n",
       "      <td>NaN</td>\n",
       "    </tr>\n",
       "  </tbody>\n",
       "</table>\n",
       "</div>"
      ],
      "text/plain": [
       "  column_name column_type null  key default  extra\n",
       "0     column0     VARCHAR  YES  NaN     NaN    NaN\n",
       "1     column1     VARCHAR  YES  NaN     NaN    NaN\n",
       "2     column2     VARCHAR  YES  NaN     NaN    NaN\n",
       "3     column3     VARCHAR  YES  NaN     NaN    NaN\n",
       "4     column4     VARCHAR  YES  NaN     NaN    NaN\n",
       "5     column5     VARCHAR  YES  NaN     NaN    NaN"
      ]
     },
     "execution_count": 24,
     "metadata": {},
     "output_type": "execute_result"
    }
   ],
   "source": [
    "conn.register(\"df_view\", df)\n",
    "conn.execute(\"DESCRIBE df_view\").df() # doesn't work if you don't register df as a virtual table"
   ]
  },
  {
   "cell_type": "markdown",
   "id": "dc9cc842",
   "metadata": {},
   "source": [
    "### Rename columns\n",
    "\n",
    "replacing space with underscore"
   ]
  },
  {
   "cell_type": "code",
   "execution_count": 25,
   "id": "5fc29502",
   "metadata": {},
   "outputs": [
    {
     "data": {
      "text/html": [
       "<div>\n",
       "<style scoped>\n",
       "    .dataframe tbody tr th:only-of-type {\n",
       "        vertical-align: middle;\n",
       "    }\n",
       "\n",
       "    .dataframe tbody tr th {\n",
       "        vertical-align: top;\n",
       "    }\n",
       "\n",
       "    .dataframe thead th {\n",
       "        text-align: right;\n",
       "    }\n",
       "</style>\n",
       "<table border=\"1\" class=\"dataframe\">\n",
       "  <thead>\n",
       "    <tr style=\"text-align: right;\">\n",
       "      <th></th>\n",
       "      <th>column0</th>\n",
       "      <th>column1</th>\n",
       "      <th>column2</th>\n",
       "      <th>column3</th>\n",
       "      <th>column4</th>\n",
       "      <th>column5</th>\n",
       "    </tr>\n",
       "  </thead>\n",
       "  <tbody>\n",
       "    <tr>\n",
       "      <th>0</th>\n",
       "      <td>Order ID</td>\n",
       "      <td>Product</td>\n",
       "      <td>Quantity Ordered</td>\n",
       "      <td>Price Each</td>\n",
       "      <td>Order Date</td>\n",
       "      <td>Purchase Address</td>\n",
       "    </tr>\n",
       "  </tbody>\n",
       "</table>\n",
       "</div>"
      ],
      "text/plain": [
       "    column0  column1           column2     column3     column4  \\\n",
       "0  Order ID  Product  Quantity Ordered  Price Each  Order Date   \n",
       "\n",
       "            column5  \n",
       "0  Purchase Address  "
      ]
     },
     "execution_count": 25,
     "metadata": {},
     "output_type": "execute_result"
    }
   ],
   "source": [
    "df.head(1)"
   ]
  },
  {
   "cell_type": "code",
   "execution_count": 34,
   "id": "9204a32b",
   "metadata": {},
   "outputs": [],
   "source": [
    "col_map = {k:v.replace(\" \",\"_\")     for k,v in df.iloc[0].to_dict().items()}"
   ]
  },
  {
   "cell_type": "code",
   "execution_count": 35,
   "id": "d25318d9",
   "metadata": {},
   "outputs": [
    {
     "data": {
      "text/plain": [
       "{'column0': 'Order_ID',\n",
       " 'column1': 'Product',\n",
       " 'column2': 'Quantity_Ordered',\n",
       " 'column3': 'Price_Each',\n",
       " 'column4': 'Order_Date',\n",
       " 'column5': 'Purchase_Address'}"
      ]
     },
     "execution_count": 35,
     "metadata": {},
     "output_type": "execute_result"
    }
   ],
   "source": [
    "col_map"
   ]
  },
  {
   "cell_type": "code",
   "execution_count": 36,
   "id": "58eb2418",
   "metadata": {},
   "outputs": [
    {
     "name": "stderr",
     "output_type": "stream",
     "text": [
      "C:\\Users\\p2p2l\\AppData\\Local\\Temp\\ipykernel_3424\\2482554459.py:1: SettingWithCopyWarning: \n",
      "A value is trying to be set on a copy of a slice from a DataFrame\n",
      "\n",
      "See the caveats in the documentation: https://pandas.pydata.org/pandas-docs/stable/user_guide/indexing.html#returning-a-view-versus-a-copy\n",
      "  df.rename(columns=col_map, inplace=True)\n"
     ]
    }
   ],
   "source": [
    "df.rename(columns=col_map, inplace=True)"
   ]
  },
  {
   "cell_type": "code",
   "execution_count": 40,
   "id": "2d21f29b",
   "metadata": {},
   "outputs": [
    {
     "name": "stderr",
     "output_type": "stream",
     "text": [
      "C:\\Users\\p2p2l\\AppData\\Local\\Temp\\ipykernel_3424\\3368073958.py:1: SettingWithCopyWarning: \n",
      "A value is trying to be set on a copy of a slice from a DataFrame\n",
      "\n",
      "See the caveats in the documentation: https://pandas.pydata.org/pandas-docs/stable/user_guide/indexing.html#returning-a-view-versus-a-copy\n",
      "  df.drop(0, inplace=True)\n"
     ]
    }
   ],
   "source": [
    "df.drop(0, inplace=True)"
   ]
  },
  {
   "cell_type": "code",
   "execution_count": 41,
   "id": "6e95dc47",
   "metadata": {},
   "outputs": [
    {
     "data": {
      "text/html": [
       "<div>\n",
       "<style scoped>\n",
       "    .dataframe tbody tr th:only-of-type {\n",
       "        vertical-align: middle;\n",
       "    }\n",
       "\n",
       "    .dataframe tbody tr th {\n",
       "        vertical-align: top;\n",
       "    }\n",
       "\n",
       "    .dataframe thead th {\n",
       "        text-align: right;\n",
       "    }\n",
       "</style>\n",
       "<table border=\"1\" class=\"dataframe\">\n",
       "  <thead>\n",
       "    <tr style=\"text-align: right;\">\n",
       "      <th></th>\n",
       "      <th>Order_ID</th>\n",
       "      <th>Product</th>\n",
       "      <th>Quantity_Ordered</th>\n",
       "      <th>Price_Each</th>\n",
       "      <th>Order_Date</th>\n",
       "      <th>Purchase_Address</th>\n",
       "    </tr>\n",
       "  </thead>\n",
       "  <tbody>\n",
       "    <tr>\n",
       "      <th>1</th>\n",
       "      <td>176558</td>\n",
       "      <td>USB-C Charging Cable</td>\n",
       "      <td>2</td>\n",
       "      <td>11.95</td>\n",
       "      <td>04/19/19 08:46</td>\n",
       "      <td>917 1st St, Dallas, TX 75001</td>\n",
       "    </tr>\n",
       "    <tr>\n",
       "      <th>3</th>\n",
       "      <td>176559</td>\n",
       "      <td>Bose SoundSport Headphones</td>\n",
       "      <td>1</td>\n",
       "      <td>99.99</td>\n",
       "      <td>04/07/19 22:30</td>\n",
       "      <td>682 Chestnut St, Boston, MA 02215</td>\n",
       "    </tr>\n",
       "    <tr>\n",
       "      <th>4</th>\n",
       "      <td>176560</td>\n",
       "      <td>Google Phone</td>\n",
       "      <td>1</td>\n",
       "      <td>600</td>\n",
       "      <td>04/12/19 14:38</td>\n",
       "      <td>669 Spruce St, Los Angeles, CA 90001</td>\n",
       "    </tr>\n",
       "    <tr>\n",
       "      <th>5</th>\n",
       "      <td>176560</td>\n",
       "      <td>Wired Headphones</td>\n",
       "      <td>1</td>\n",
       "      <td>11.99</td>\n",
       "      <td>04/12/19 14:38</td>\n",
       "      <td>669 Spruce St, Los Angeles, CA 90001</td>\n",
       "    </tr>\n",
       "  </tbody>\n",
       "</table>\n",
       "</div>"
      ],
      "text/plain": [
       "  Order_ID                     Product Quantity_Ordered Price_Each  \\\n",
       "1   176558        USB-C Charging Cable                2      11.95   \n",
       "3   176559  Bose SoundSport Headphones                1      99.99   \n",
       "4   176560                Google Phone                1        600   \n",
       "5   176560            Wired Headphones                1      11.99   \n",
       "\n",
       "       Order_Date                      Purchase_Address  \n",
       "1  04/19/19 08:46          917 1st St, Dallas, TX 75001  \n",
       "3  04/07/19 22:30     682 Chestnut St, Boston, MA 02215  \n",
       "4  04/12/19 14:38  669 Spruce St, Los Angeles, CA 90001  \n",
       "5  04/12/19 14:38  669 Spruce St, Los Angeles, CA 90001  "
      ]
     },
     "execution_count": 41,
     "metadata": {},
     "output_type": "execute_result"
    }
   ],
   "source": [
    "df.head(4)"
   ]
  },
  {
   "cell_type": "code",
   "execution_count": 27,
   "id": "f5057690",
   "metadata": {},
   "outputs": [
    {
     "data": {
      "text/plain": [
       "column0    545\n",
       "column1    545\n",
       "column2    545\n",
       "column3    545\n",
       "column4    545\n",
       "column5    545\n",
       "dtype: int64"
      ]
     },
     "execution_count": 27,
     "metadata": {},
     "output_type": "execute_result"
    }
   ],
   "source": [
    "df.isnull().sum()"
   ]
  },
  {
   "cell_type": "code",
   "execution_count": 28,
   "id": "3f2d43ab",
   "metadata": {},
   "outputs": [],
   "source": [
    "df = df.dropna(how='all')"
   ]
  },
  {
   "cell_type": "code",
   "execution_count": 44,
   "id": "3abfb953",
   "metadata": {},
   "outputs": [
    {
     "data": {
      "text/plain": [
       "(186316, 6)"
      ]
     },
     "execution_count": 44,
     "metadata": {},
     "output_type": "execute_result"
    }
   ],
   "source": [
    "df.shape"
   ]
  },
  {
   "cell_type": "markdown",
   "id": "90e55074",
   "metadata": {},
   "source": [
    "- With DuckDB you can run SQL queries on top of Pandas dataframes\n",
    "- use doubles quotes if your column name contains spaces"
   ]
  },
  {
   "cell_type": "code",
   "execution_count": 42,
   "id": "d6dc8a14",
   "metadata": {},
   "outputs": [
    {
     "data": {
      "text/html": [
       "<div>\n",
       "<style scoped>\n",
       "    .dataframe tbody tr th:only-of-type {\n",
       "        vertical-align: middle;\n",
       "    }\n",
       "\n",
       "    .dataframe tbody tr th {\n",
       "        vertical-align: top;\n",
       "    }\n",
       "\n",
       "    .dataframe thead th {\n",
       "        text-align: right;\n",
       "    }\n",
       "</style>\n",
       "<table border=\"1\" class=\"dataframe\">\n",
       "  <thead>\n",
       "    <tr style=\"text-align: right;\">\n",
       "      <th></th>\n",
       "      <th>Order_ID</th>\n",
       "      <th>Product</th>\n",
       "      <th>Quantity_Ordered</th>\n",
       "      <th>Price_Each</th>\n",
       "      <th>Order_Date</th>\n",
       "      <th>Purchase_Address</th>\n",
       "    </tr>\n",
       "  </thead>\n",
       "  <tbody>\n",
       "    <tr>\n",
       "      <th>0</th>\n",
       "      <td>176560</td>\n",
       "      <td>Google Phone</td>\n",
       "      <td>1</td>\n",
       "      <td>600</td>\n",
       "      <td>04/12/19 14:38</td>\n",
       "      <td>669 Spruce St, Los Angeles, CA 90001</td>\n",
       "    </tr>\n",
       "    <tr>\n",
       "      <th>1</th>\n",
       "      <td>176560</td>\n",
       "      <td>Wired Headphones</td>\n",
       "      <td>1</td>\n",
       "      <td>11.99</td>\n",
       "      <td>04/12/19 14:38</td>\n",
       "      <td>669 Spruce St, Los Angeles, CA 90001</td>\n",
       "    </tr>\n",
       "  </tbody>\n",
       "</table>\n",
       "</div>"
      ],
      "text/plain": [
       "  Order_ID           Product Quantity_Ordered Price_Each      Order_Date  \\\n",
       "0   176560      Google Phone                1        600  04/12/19 14:38   \n",
       "1   176560  Wired Headphones                1      11.99  04/12/19 14:38   \n",
       "\n",
       "                       Purchase_Address  \n",
       "0  669 Spruce St, Los Angeles, CA 90001  \n",
       "1  669 Spruce St, Los Angeles, CA 90001  "
      ]
     },
     "execution_count": 42,
     "metadata": {},
     "output_type": "execute_result"
    }
   ],
   "source": [
    "conn.execute(\"\"\"\n",
    "    SELECT * FROM df WHERE order_id='176560'\n",
    "\"\"\").df()"
   ]
  },
  {
   "cell_type": "code",
   "execution_count": 43,
   "id": "a1588e00",
   "metadata": {},
   "outputs": [
    {
     "data": {
      "text/html": [
       "<div>\n",
       "<style scoped>\n",
       "    .dataframe tbody tr th:only-of-type {\n",
       "        vertical-align: middle;\n",
       "    }\n",
       "\n",
       "    .dataframe tbody tr th {\n",
       "        vertical-align: top;\n",
       "    }\n",
       "\n",
       "    .dataframe thead th {\n",
       "        text-align: right;\n",
       "    }\n",
       "</style>\n",
       "<table border=\"1\" class=\"dataframe\">\n",
       "  <thead>\n",
       "    <tr style=\"text-align: right;\">\n",
       "      <th></th>\n",
       "      <th>count_star()</th>\n",
       "    </tr>\n",
       "  </thead>\n",
       "  <tbody>\n",
       "    <tr>\n",
       "      <th>0</th>\n",
       "      <td>186316</td>\n",
       "    </tr>\n",
       "  </tbody>\n",
       "</table>\n",
       "</div>"
      ],
      "text/plain": [
       "   count_star()\n",
       "0        186316"
      ]
     },
     "execution_count": 43,
     "metadata": {},
     "output_type": "execute_result"
    }
   ],
   "source": [
    "conn.execute(\"\"\"\n",
    "    SELECT COUNT(*) FROM df\n",
    "\"\"\").df()"
   ]
  },
  {
   "cell_type": "markdown",
   "id": "4a2bbd12",
   "metadata": {},
   "source": [
    "## Create table\n",
    "\n",
    "A View/Virtual Table is a SELECT statement. That statement is run every time the view is referenced in a query. Views are great for abstracting the complexity of the underlying tables they reference."
   ]
  },
  {
   "cell_type": "code",
   "execution_count": 45,
   "id": "2740407a",
   "metadata": {},
   "outputs": [
    {
     "data": {
      "text/plain": [
       "<duckdb.DuckDBPyConnection at 0x1d1a8378470>"
      ]
     },
     "execution_count": 45,
     "metadata": {},
     "output_type": "execute_result"
    }
   ],
   "source": [
    "conn.execute(\"\"\"\n",
    "CREATE OR REPLACE TABLE sales AS\n",
    "\tSELECT\n",
    "\t\t\"Order_ID\"::INTEGER AS order_id,\n",
    "\t\tProduct AS product,\n",
    "\t\t\"Quantity_Ordered\"::INTEGER AS quantity,\n",
    "\t\t\"Price_Each\"::DECIMAL AS price_each,\n",
    "\t\tstrptime(\"Order_Date\", '%m/%d/%Y %H:%M')::DATE as order_date,\n",
    "\t\t\"Purchase_Address\" AS purchase_address\n",
    "\tFROM df\n",
    "\tWHERE\n",
    "\t\tTRY_CAST(\"Order_ID\" AS INTEGER) NOTNULL\n",
    "\"\"\")"
   ]
  },
  {
   "cell_type": "code",
   "execution_count": 46,
   "id": "0c85b239",
   "metadata": {},
   "outputs": [
    {
     "data": {
      "text/html": [
       "<div>\n",
       "<style scoped>\n",
       "    .dataframe tbody tr th:only-of-type {\n",
       "        vertical-align: middle;\n",
       "    }\n",
       "\n",
       "    .dataframe tbody tr th {\n",
       "        vertical-align: top;\n",
       "    }\n",
       "\n",
       "    .dataframe thead th {\n",
       "        text-align: right;\n",
       "    }\n",
       "</style>\n",
       "<table border=\"1\" class=\"dataframe\">\n",
       "  <thead>\n",
       "    <tr style=\"text-align: right;\">\n",
       "      <th></th>\n",
       "      <th>count_star()</th>\n",
       "    </tr>\n",
       "  </thead>\n",
       "  <tbody>\n",
       "    <tr>\n",
       "      <th>0</th>\n",
       "      <td>185950</td>\n",
       "    </tr>\n",
       "  </tbody>\n",
       "</table>\n",
       "</div>"
      ],
      "text/plain": [
       "   count_star()\n",
       "0        185950"
      ]
     },
     "execution_count": 46,
     "metadata": {},
     "output_type": "execute_result"
    }
   ],
   "source": [
    "conn.execute(\"\"\"\n",
    "    SELECT COUNT(*) FROM sales\n",
    "\"\"\").df()"
   ]
  },
  {
   "cell_type": "code",
   "execution_count": 48,
   "id": "18aa400d",
   "metadata": {},
   "outputs": [
    {
     "data": {
      "text/html": [
       "<div>\n",
       "<style scoped>\n",
       "    .dataframe tbody tr th:only-of-type {\n",
       "        vertical-align: middle;\n",
       "    }\n",
       "\n",
       "    .dataframe tbody tr th {\n",
       "        vertical-align: top;\n",
       "    }\n",
       "\n",
       "    .dataframe thead th {\n",
       "        text-align: right;\n",
       "    }\n",
       "</style>\n",
       "<table border=\"1\" class=\"dataframe\">\n",
       "  <thead>\n",
       "    <tr style=\"text-align: right;\">\n",
       "      <th></th>\n",
       "      <th>column_name</th>\n",
       "      <th>column_type</th>\n",
       "      <th>null</th>\n",
       "      <th>key</th>\n",
       "      <th>default</th>\n",
       "      <th>extra</th>\n",
       "    </tr>\n",
       "  </thead>\n",
       "  <tbody>\n",
       "    <tr>\n",
       "      <th>0</th>\n",
       "      <td>column0</td>\n",
       "      <td>VARCHAR</td>\n",
       "      <td>YES</td>\n",
       "      <td>NaN</td>\n",
       "      <td>NaN</td>\n",
       "      <td>NaN</td>\n",
       "    </tr>\n",
       "    <tr>\n",
       "      <th>1</th>\n",
       "      <td>column1</td>\n",
       "      <td>VARCHAR</td>\n",
       "      <td>YES</td>\n",
       "      <td>NaN</td>\n",
       "      <td>NaN</td>\n",
       "      <td>NaN</td>\n",
       "    </tr>\n",
       "    <tr>\n",
       "      <th>2</th>\n",
       "      <td>column2</td>\n",
       "      <td>VARCHAR</td>\n",
       "      <td>YES</td>\n",
       "      <td>NaN</td>\n",
       "      <td>NaN</td>\n",
       "      <td>NaN</td>\n",
       "    </tr>\n",
       "    <tr>\n",
       "      <th>3</th>\n",
       "      <td>column3</td>\n",
       "      <td>VARCHAR</td>\n",
       "      <td>YES</td>\n",
       "      <td>NaN</td>\n",
       "      <td>NaN</td>\n",
       "      <td>NaN</td>\n",
       "    </tr>\n",
       "    <tr>\n",
       "      <th>4</th>\n",
       "      <td>column4</td>\n",
       "      <td>VARCHAR</td>\n",
       "      <td>YES</td>\n",
       "      <td>NaN</td>\n",
       "      <td>NaN</td>\n",
       "      <td>NaN</td>\n",
       "    </tr>\n",
       "    <tr>\n",
       "      <th>5</th>\n",
       "      <td>column5</td>\n",
       "      <td>VARCHAR</td>\n",
       "      <td>YES</td>\n",
       "      <td>NaN</td>\n",
       "      <td>NaN</td>\n",
       "      <td>NaN</td>\n",
       "    </tr>\n",
       "  </tbody>\n",
       "</table>\n",
       "</div>"
      ],
      "text/plain": [
       "  column_name column_type null  key default  extra\n",
       "0     column0     VARCHAR  YES  NaN     NaN    NaN\n",
       "1     column1     VARCHAR  YES  NaN     NaN    NaN\n",
       "2     column2     VARCHAR  YES  NaN     NaN    NaN\n",
       "3     column3     VARCHAR  YES  NaN     NaN    NaN\n",
       "4     column4     VARCHAR  YES  NaN     NaN    NaN\n",
       "5     column5     VARCHAR  YES  NaN     NaN    NaN"
      ]
     },
     "execution_count": 48,
     "metadata": {},
     "output_type": "execute_result"
    }
   ],
   "source": [
    "conn.execute(\"DESCRIBE df_view\").df()"
   ]
  },
  {
   "cell_type": "code",
   "execution_count": 49,
   "id": "4b85733a",
   "metadata": {},
   "outputs": [
    {
     "ename": "CatalogException",
     "evalue": "Catalog Error: Table with name df does not exist!\nDid you mean \"df_view\"?",
     "output_type": "error",
     "traceback": [
      "\u001b[1;31m---------------------------------------------------------------------------\u001b[0m",
      "\u001b[1;31mCatalogException\u001b[0m                          Traceback (most recent call last)",
      "\u001b[1;32m~\\AppData\\Local\\Temp\\ipykernel_3424\\2206192225.py\u001b[0m in \u001b[0;36m<module>\u001b[1;34m\u001b[0m\n\u001b[1;32m----> 1\u001b[1;33m \u001b[0mconn\u001b[0m\u001b[1;33m.\u001b[0m\u001b[0mexecute\u001b[0m\u001b[1;33m(\u001b[0m\u001b[1;34m\"DESCRIBE df\"\u001b[0m\u001b[1;33m)\u001b[0m\u001b[1;33m.\u001b[0m\u001b[0mdf\u001b[0m\u001b[1;33m(\u001b[0m\u001b[1;33m)\u001b[0m\u001b[1;33m\u001b[0m\u001b[1;33m\u001b[0m\u001b[0m\n\u001b[0m",
      "\u001b[1;31mCatalogException\u001b[0m: Catalog Error: Table with name df does not exist!\nDid you mean \"df_view\"?"
     ]
    }
   ],
   "source": [
    "conn.execute(\"DESCRIBE df\").df()"
   ]
  },
  {
   "cell_type": "code",
   "execution_count": 47,
   "id": "28c9fe4c",
   "metadata": {},
   "outputs": [
    {
     "data": {
      "text/html": [
       "<div>\n",
       "<style scoped>\n",
       "    .dataframe tbody tr th:only-of-type {\n",
       "        vertical-align: middle;\n",
       "    }\n",
       "\n",
       "    .dataframe tbody tr th {\n",
       "        vertical-align: top;\n",
       "    }\n",
       "\n",
       "    .dataframe thead th {\n",
       "        text-align: right;\n",
       "    }\n",
       "</style>\n",
       "<table border=\"1\" class=\"dataframe\">\n",
       "  <thead>\n",
       "    <tr style=\"text-align: right;\">\n",
       "      <th></th>\n",
       "      <th>column_name</th>\n",
       "      <th>column_type</th>\n",
       "      <th>null</th>\n",
       "      <th>key</th>\n",
       "      <th>default</th>\n",
       "      <th>extra</th>\n",
       "    </tr>\n",
       "  </thead>\n",
       "  <tbody>\n",
       "    <tr>\n",
       "      <th>0</th>\n",
       "      <td>order_id</td>\n",
       "      <td>INTEGER</td>\n",
       "      <td>YES</td>\n",
       "      <td>NaN</td>\n",
       "      <td>NaN</td>\n",
       "      <td>NaN</td>\n",
       "    </tr>\n",
       "    <tr>\n",
       "      <th>1</th>\n",
       "      <td>product</td>\n",
       "      <td>VARCHAR</td>\n",
       "      <td>YES</td>\n",
       "      <td>NaN</td>\n",
       "      <td>NaN</td>\n",
       "      <td>NaN</td>\n",
       "    </tr>\n",
       "    <tr>\n",
       "      <th>2</th>\n",
       "      <td>quantity</td>\n",
       "      <td>INTEGER</td>\n",
       "      <td>YES</td>\n",
       "      <td>NaN</td>\n",
       "      <td>NaN</td>\n",
       "      <td>NaN</td>\n",
       "    </tr>\n",
       "    <tr>\n",
       "      <th>3</th>\n",
       "      <td>price_each</td>\n",
       "      <td>DECIMAL(18,3)</td>\n",
       "      <td>YES</td>\n",
       "      <td>NaN</td>\n",
       "      <td>NaN</td>\n",
       "      <td>NaN</td>\n",
       "    </tr>\n",
       "    <tr>\n",
       "      <th>4</th>\n",
       "      <td>order_date</td>\n",
       "      <td>DATE</td>\n",
       "      <td>YES</td>\n",
       "      <td>NaN</td>\n",
       "      <td>NaN</td>\n",
       "      <td>NaN</td>\n",
       "    </tr>\n",
       "    <tr>\n",
       "      <th>5</th>\n",
       "      <td>purchase_address</td>\n",
       "      <td>VARCHAR</td>\n",
       "      <td>YES</td>\n",
       "      <td>NaN</td>\n",
       "      <td>NaN</td>\n",
       "      <td>NaN</td>\n",
       "    </tr>\n",
       "  </tbody>\n",
       "</table>\n",
       "</div>"
      ],
      "text/plain": [
       "        column_name    column_type null  key default  extra\n",
       "0          order_id        INTEGER  YES  NaN     NaN    NaN\n",
       "1           product        VARCHAR  YES  NaN     NaN    NaN\n",
       "2          quantity        INTEGER  YES  NaN     NaN    NaN\n",
       "3        price_each  DECIMAL(18,3)  YES  NaN     NaN    NaN\n",
       "4        order_date           DATE  YES  NaN     NaN    NaN\n",
       "5  purchase_address        VARCHAR  YES  NaN     NaN    NaN"
      ]
     },
     "execution_count": 47,
     "metadata": {},
     "output_type": "execute_result"
    }
   ],
   "source": [
    "conn.execute(\"DESCRIBE sales\").df()"
   ]
  },
  {
   "cell_type": "markdown",
   "id": "7b31e9b1",
   "metadata": {},
   "source": [
    "### FROM"
   ]
  },
  {
   "cell_type": "code",
   "execution_count": 51,
   "id": "47afa3e6",
   "metadata": {},
   "outputs": [
    {
     "data": {
      "text/html": [
       "<div>\n",
       "<style scoped>\n",
       "    .dataframe tbody tr th:only-of-type {\n",
       "        vertical-align: middle;\n",
       "    }\n",
       "\n",
       "    .dataframe tbody tr th {\n",
       "        vertical-align: top;\n",
       "    }\n",
       "\n",
       "    .dataframe thead th {\n",
       "        text-align: right;\n",
       "    }\n",
       "</style>\n",
       "<table border=\"1\" class=\"dataframe\">\n",
       "  <thead>\n",
       "    <tr style=\"text-align: right;\">\n",
       "      <th></th>\n",
       "      <th>order_id</th>\n",
       "      <th>product</th>\n",
       "      <th>quantity</th>\n",
       "      <th>price_each</th>\n",
       "      <th>order_date</th>\n",
       "      <th>purchase_address</th>\n",
       "    </tr>\n",
       "  </thead>\n",
       "  <tbody>\n",
       "    <tr>\n",
       "      <th>0</th>\n",
       "      <td>176558</td>\n",
       "      <td>USB-C Charging Cable</td>\n",
       "      <td>2</td>\n",
       "      <td>11.95</td>\n",
       "      <td>1772-12-15 22:43:41.128654848</td>\n",
       "      <td>917 1st St, Dallas, TX 75001</td>\n",
       "    </tr>\n",
       "    <tr>\n",
       "      <th>1</th>\n",
       "      <td>176559</td>\n",
       "      <td>Bose SoundSport Headphones</td>\n",
       "      <td>1</td>\n",
       "      <td>99.99</td>\n",
       "      <td>1772-12-03 22:43:41.128654848</td>\n",
       "      <td>682 Chestnut St, Boston, MA 02215</td>\n",
       "    </tr>\n",
       "    <tr>\n",
       "      <th>2</th>\n",
       "      <td>176560</td>\n",
       "      <td>Google Phone</td>\n",
       "      <td>1</td>\n",
       "      <td>600.00</td>\n",
       "      <td>1772-12-08 22:43:41.128654848</td>\n",
       "      <td>669 Spruce St, Los Angeles, CA 90001</td>\n",
       "    </tr>\n",
       "    <tr>\n",
       "      <th>3</th>\n",
       "      <td>176560</td>\n",
       "      <td>Wired Headphones</td>\n",
       "      <td>1</td>\n",
       "      <td>11.99</td>\n",
       "      <td>1772-12-08 22:43:41.128654848</td>\n",
       "      <td>669 Spruce St, Los Angeles, CA 90001</td>\n",
       "    </tr>\n",
       "    <tr>\n",
       "      <th>4</th>\n",
       "      <td>176561</td>\n",
       "      <td>Wired Headphones</td>\n",
       "      <td>1</td>\n",
       "      <td>11.99</td>\n",
       "      <td>1772-12-26 22:43:41.128654848</td>\n",
       "      <td>333 8th St, Los Angeles, CA 90001</td>\n",
       "    </tr>\n",
       "    <tr>\n",
       "      <th>5</th>\n",
       "      <td>176562</td>\n",
       "      <td>USB-C Charging Cable</td>\n",
       "      <td>1</td>\n",
       "      <td>11.95</td>\n",
       "      <td>1772-12-25 22:43:41.128654848</td>\n",
       "      <td>381 Wilson St, San Francisco, CA 94016</td>\n",
       "    </tr>\n",
       "    <tr>\n",
       "      <th>6</th>\n",
       "      <td>176563</td>\n",
       "      <td>Bose SoundSport Headphones</td>\n",
       "      <td>1</td>\n",
       "      <td>99.99</td>\n",
       "      <td>1772-11-28 22:43:41.128654848</td>\n",
       "      <td>668 Center St, Seattle, WA 98101</td>\n",
       "    </tr>\n",
       "    <tr>\n",
       "      <th>7</th>\n",
       "      <td>176564</td>\n",
       "      <td>USB-C Charging Cable</td>\n",
       "      <td>1</td>\n",
       "      <td>11.95</td>\n",
       "      <td>1772-12-08 22:43:41.128654848</td>\n",
       "      <td>790 Ridge St, Atlanta, GA 30301</td>\n",
       "    </tr>\n",
       "    <tr>\n",
       "      <th>8</th>\n",
       "      <td>176565</td>\n",
       "      <td>Macbook Pro Laptop</td>\n",
       "      <td>1</td>\n",
       "      <td>1700.00</td>\n",
       "      <td>1772-12-20 22:43:41.128654848</td>\n",
       "      <td>915 Willow St, San Francisco, CA 94016</td>\n",
       "    </tr>\n",
       "    <tr>\n",
       "      <th>9</th>\n",
       "      <td>176566</td>\n",
       "      <td>Wired Headphones</td>\n",
       "      <td>1</td>\n",
       "      <td>11.99</td>\n",
       "      <td>1772-12-04 22:43:41.128654848</td>\n",
       "      <td>83 7th St, Boston, MA 02215</td>\n",
       "    </tr>\n",
       "  </tbody>\n",
       "</table>\n",
       "</div>"
      ],
      "text/plain": [
       "   order_id                     product  quantity  price_each  \\\n",
       "0    176558        USB-C Charging Cable         2       11.95   \n",
       "1    176559  Bose SoundSport Headphones         1       99.99   \n",
       "2    176560                Google Phone         1      600.00   \n",
       "3    176560            Wired Headphones         1       11.99   \n",
       "4    176561            Wired Headphones         1       11.99   \n",
       "5    176562        USB-C Charging Cable         1       11.95   \n",
       "6    176563  Bose SoundSport Headphones         1       99.99   \n",
       "7    176564        USB-C Charging Cable         1       11.95   \n",
       "8    176565          Macbook Pro Laptop         1     1700.00   \n",
       "9    176566            Wired Headphones         1       11.99   \n",
       "\n",
       "                     order_date                        purchase_address  \n",
       "0 1772-12-15 22:43:41.128654848            917 1st St, Dallas, TX 75001  \n",
       "1 1772-12-03 22:43:41.128654848       682 Chestnut St, Boston, MA 02215  \n",
       "2 1772-12-08 22:43:41.128654848    669 Spruce St, Los Angeles, CA 90001  \n",
       "3 1772-12-08 22:43:41.128654848    669 Spruce St, Los Angeles, CA 90001  \n",
       "4 1772-12-26 22:43:41.128654848       333 8th St, Los Angeles, CA 90001  \n",
       "5 1772-12-25 22:43:41.128654848  381 Wilson St, San Francisco, CA 94016  \n",
       "6 1772-11-28 22:43:41.128654848        668 Center St, Seattle, WA 98101  \n",
       "7 1772-12-08 22:43:41.128654848         790 Ridge St, Atlanta, GA 30301  \n",
       "8 1772-12-20 22:43:41.128654848  915 Willow St, San Francisco, CA 94016  \n",
       "9 1772-12-04 22:43:41.128654848             83 7th St, Boston, MA 02215  "
      ]
     },
     "execution_count": 51,
     "metadata": {},
     "output_type": "execute_result"
    }
   ],
   "source": [
    "conn.execute(\"FROM sales limit 10\").df()  # short-hand"
   ]
  },
  {
   "cell_type": "markdown",
   "id": "077fc6c8",
   "metadata": {},
   "source": [
    "### EXCLUDE"
   ]
  },
  {
   "cell_type": "code",
   "execution_count": 52,
   "id": "484d819c",
   "metadata": {},
   "outputs": [
    {
     "data": {
      "text/html": [
       "<div>\n",
       "<style scoped>\n",
       "    .dataframe tbody tr th:only-of-type {\n",
       "        vertical-align: middle;\n",
       "    }\n",
       "\n",
       "    .dataframe tbody tr th {\n",
       "        vertical-align: top;\n",
       "    }\n",
       "\n",
       "    .dataframe thead th {\n",
       "        text-align: right;\n",
       "    }\n",
       "</style>\n",
       "<table border=\"1\" class=\"dataframe\">\n",
       "  <thead>\n",
       "    <tr style=\"text-align: right;\">\n",
       "      <th></th>\n",
       "      <th>order_id</th>\n",
       "      <th>product</th>\n",
       "      <th>quantity</th>\n",
       "      <th>price_each</th>\n",
       "    </tr>\n",
       "  </thead>\n",
       "  <tbody>\n",
       "    <tr>\n",
       "      <th>0</th>\n",
       "      <td>176558</td>\n",
       "      <td>USB-C Charging Cable</td>\n",
       "      <td>2</td>\n",
       "      <td>11.95</td>\n",
       "    </tr>\n",
       "    <tr>\n",
       "      <th>1</th>\n",
       "      <td>176559</td>\n",
       "      <td>Bose SoundSport Headphones</td>\n",
       "      <td>1</td>\n",
       "      <td>99.99</td>\n",
       "    </tr>\n",
       "    <tr>\n",
       "      <th>2</th>\n",
       "      <td>176560</td>\n",
       "      <td>Google Phone</td>\n",
       "      <td>1</td>\n",
       "      <td>600.00</td>\n",
       "    </tr>\n",
       "    <tr>\n",
       "      <th>3</th>\n",
       "      <td>176560</td>\n",
       "      <td>Wired Headphones</td>\n",
       "      <td>1</td>\n",
       "      <td>11.99</td>\n",
       "    </tr>\n",
       "    <tr>\n",
       "      <th>4</th>\n",
       "      <td>176561</td>\n",
       "      <td>Wired Headphones</td>\n",
       "      <td>1</td>\n",
       "      <td>11.99</td>\n",
       "    </tr>\n",
       "    <tr>\n",
       "      <th>...</th>\n",
       "      <td>...</td>\n",
       "      <td>...</td>\n",
       "      <td>...</td>\n",
       "      <td>...</td>\n",
       "    </tr>\n",
       "    <tr>\n",
       "      <th>185945</th>\n",
       "      <td>259353</td>\n",
       "      <td>AAA Batteries (4-pack)</td>\n",
       "      <td>3</td>\n",
       "      <td>2.99</td>\n",
       "    </tr>\n",
       "    <tr>\n",
       "      <th>185946</th>\n",
       "      <td>259354</td>\n",
       "      <td>iPhone</td>\n",
       "      <td>1</td>\n",
       "      <td>700.00</td>\n",
       "    </tr>\n",
       "    <tr>\n",
       "      <th>185947</th>\n",
       "      <td>259355</td>\n",
       "      <td>iPhone</td>\n",
       "      <td>1</td>\n",
       "      <td>700.00</td>\n",
       "    </tr>\n",
       "    <tr>\n",
       "      <th>185948</th>\n",
       "      <td>259356</td>\n",
       "      <td>34in Ultrawide Monitor</td>\n",
       "      <td>1</td>\n",
       "      <td>379.99</td>\n",
       "    </tr>\n",
       "    <tr>\n",
       "      <th>185949</th>\n",
       "      <td>259357</td>\n",
       "      <td>USB-C Charging Cable</td>\n",
       "      <td>1</td>\n",
       "      <td>11.95</td>\n",
       "    </tr>\n",
       "  </tbody>\n",
       "</table>\n",
       "<p>185950 rows × 4 columns</p>\n",
       "</div>"
      ],
      "text/plain": [
       "        order_id                     product  quantity  price_each\n",
       "0         176558        USB-C Charging Cable         2       11.95\n",
       "1         176559  Bose SoundSport Headphones         1       99.99\n",
       "2         176560                Google Phone         1      600.00\n",
       "3         176560            Wired Headphones         1       11.99\n",
       "4         176561            Wired Headphones         1       11.99\n",
       "...          ...                         ...       ...         ...\n",
       "185945    259353      AAA Batteries (4-pack)         3        2.99\n",
       "185946    259354                      iPhone         1      700.00\n",
       "185947    259355                      iPhone         1      700.00\n",
       "185948    259356      34in Ultrawide Monitor         1      379.99\n",
       "185949    259357        USB-C Charging Cable         1       11.95\n",
       "\n",
       "[185950 rows x 4 columns]"
      ]
     },
     "execution_count": 52,
     "metadata": {},
     "output_type": "execute_result"
    }
   ],
   "source": [
    "conn.execute(\"\"\"\n",
    "\tSELECT \n",
    "\t\t* EXCLUDE ( order_date, purchase_address)\n",
    "\tFROM sales\n",
    "\t\"\"\").df()"
   ]
  },
  {
   "cell_type": "markdown",
   "id": "1d5e6bbd",
   "metadata": {},
   "source": [
    "### COLUMNS expression"
   ]
  },
  {
   "cell_type": "code",
   "execution_count": 55,
   "id": "bb1353ab",
   "metadata": {},
   "outputs": [],
   "source": [
    "df_1 = conn.execute(\"\"\"\n",
    "\tSELECT \n",
    "\t\tMIN(COLUMNS(* EXCLUDE (product, purchase_address))),\n",
    "\t\tMax(COLUMNS(* EXCLUDE (product, purchase_address))) \n",
    "\tFROM sales\n",
    "\t\"\"\").df()"
   ]
  },
  {
   "cell_type": "code",
   "execution_count": 56,
   "id": "9ca31a4e",
   "metadata": {},
   "outputs": [
    {
     "data": {
      "text/html": [
       "<div>\n",
       "<style scoped>\n",
       "    .dataframe tbody tr th:only-of-type {\n",
       "        vertical-align: middle;\n",
       "    }\n",
       "\n",
       "    .dataframe tbody tr th {\n",
       "        vertical-align: top;\n",
       "    }\n",
       "\n",
       "    .dataframe thead th {\n",
       "        text-align: right;\n",
       "    }\n",
       "</style>\n",
       "<table border=\"1\" class=\"dataframe\">\n",
       "  <thead>\n",
       "    <tr style=\"text-align: right;\">\n",
       "      <th></th>\n",
       "      <th>min(sales.order_id)</th>\n",
       "      <th>min(sales.quantity)</th>\n",
       "      <th>min(sales.price_each)</th>\n",
       "      <th>min(sales.order_date)</th>\n",
       "      <th>max(sales.order_id)</th>\n",
       "      <th>max(sales.quantity)</th>\n",
       "      <th>max(sales.price_each)</th>\n",
       "      <th>max(sales.order_date)</th>\n",
       "    </tr>\n",
       "  </thead>\n",
       "  <tbody>\n",
       "    <tr>\n",
       "      <th>0</th>\n",
       "      <td>141234</td>\n",
       "      <td>1</td>\n",
       "      <td>2.99</td>\n",
       "      <td>1772-08-29 22:43:41.128654848</td>\n",
       "      <td>319670</td>\n",
       "      <td>9</td>\n",
       "      <td>1700.0</td>\n",
       "      <td>1773-08-29 22:43:41.128654848</td>\n",
       "    </tr>\n",
       "  </tbody>\n",
       "</table>\n",
       "</div>"
      ],
      "text/plain": [
       "   min(sales.order_id)  min(sales.quantity)  min(sales.price_each)  \\\n",
       "0               141234                    1                   2.99   \n",
       "\n",
       "          min(sales.order_date)  max(sales.order_id)  max(sales.quantity)  \\\n",
       "0 1772-08-29 22:43:41.128654848               319670                    9   \n",
       "\n",
       "   max(sales.price_each)         max(sales.order_date)  \n",
       "0                 1700.0 1773-08-29 22:43:41.128654848  "
      ]
     },
     "execution_count": 56,
     "metadata": {},
     "output_type": "execute_result"
    }
   ],
   "source": [
    "df_1"
   ]
  },
  {
   "cell_type": "code",
   "execution_count": 57,
   "id": "f9d9caff",
   "metadata": {},
   "outputs": [
    {
     "data": {
      "text/plain": [
       "Index(['min(sales.order_id)', 'min(sales.quantity)', 'min(sales.price_each)',\n",
       "       'min(sales.order_date)', 'max(sales.order_id)', 'max(sales.quantity)',\n",
       "       'max(sales.price_each)', 'max(sales.order_date)'],\n",
       "      dtype='object')"
      ]
     },
     "execution_count": 57,
     "metadata": {},
     "output_type": "execute_result"
    }
   ],
   "source": [
    "df_1.columns"
   ]
  },
  {
   "cell_type": "code",
   "execution_count": 58,
   "id": "b785878a",
   "metadata": {},
   "outputs": [
    {
     "data": {
      "text/plain": [
       "pandas.core.frame.DataFrame"
      ]
     },
     "execution_count": 58,
     "metadata": {},
     "output_type": "execute_result"
    }
   ],
   "source": [
    "type(df_1)"
   ]
  },
  {
   "cell_type": "markdown",
   "id": "ed892241",
   "metadata": {},
   "source": [
    "## Create VIEW\n",
    "\n",
    "Since VIEWS are recreated each time a query reference them, if new data is added to the sales table, the VIEW gets updated as well"
   ]
  },
  {
   "cell_type": "code",
   "execution_count": 63,
   "id": "8686331a",
   "metadata": {},
   "outputs": [
    {
     "data": {
      "text/html": [
       "<div>\n",
       "<style scoped>\n",
       "    .dataframe tbody tr th:only-of-type {\n",
       "        vertical-align: middle;\n",
       "    }\n",
       "\n",
       "    .dataframe tbody tr th {\n",
       "        vertical-align: top;\n",
       "    }\n",
       "\n",
       "    .dataframe thead th {\n",
       "        text-align: right;\n",
       "    }\n",
       "</style>\n",
       "<table border=\"1\" class=\"dataframe\">\n",
       "  <thead>\n",
       "    <tr style=\"text-align: right;\">\n",
       "      <th></th>\n",
       "      <th>order_id</th>\n",
       "      <th>nb_orders</th>\n",
       "      <th>month</th>\n",
       "      <th>city</th>\n",
       "      <th>revenue</th>\n",
       "    </tr>\n",
       "  </thead>\n",
       "  <tbody>\n",
       "    <tr>\n",
       "      <th>0</th>\n",
       "      <td>220468</td>\n",
       "      <td>1</td>\n",
       "      <td>6</td>\n",
       "      <td>Seattle</td>\n",
       "      <td>999.99</td>\n",
       "    </tr>\n",
       "    <tr>\n",
       "      <th>1</th>\n",
       "      <td>220485</td>\n",
       "      <td>1</td>\n",
       "      <td>6</td>\n",
       "      <td>Los Angeles</td>\n",
       "      <td>14.95</td>\n",
       "    </tr>\n",
       "    <tr>\n",
       "      <th>2</th>\n",
       "      <td>220486</td>\n",
       "      <td>1</td>\n",
       "      <td>6</td>\n",
       "      <td>San Francisco</td>\n",
       "      <td>149.99</td>\n",
       "    </tr>\n",
       "    <tr>\n",
       "      <th>3</th>\n",
       "      <td>220490</td>\n",
       "      <td>1</td>\n",
       "      <td>6</td>\n",
       "      <td>San Francisco</td>\n",
       "      <td>400.00</td>\n",
       "    </tr>\n",
       "    <tr>\n",
       "      <th>4</th>\n",
       "      <td>220495</td>\n",
       "      <td>1</td>\n",
       "      <td>6</td>\n",
       "      <td>San Francisco</td>\n",
       "      <td>999.99</td>\n",
       "    </tr>\n",
       "    <tr>\n",
       "      <th>5</th>\n",
       "      <td>220498</td>\n",
       "      <td>1</td>\n",
       "      <td>6</td>\n",
       "      <td>Boston</td>\n",
       "      <td>11.99</td>\n",
       "    </tr>\n",
       "    <tr>\n",
       "      <th>6</th>\n",
       "      <td>220514</td>\n",
       "      <td>1</td>\n",
       "      <td>6</td>\n",
       "      <td>Los Angeles</td>\n",
       "      <td>3.84</td>\n",
       "    </tr>\n",
       "    <tr>\n",
       "      <th>7</th>\n",
       "      <td>220517</td>\n",
       "      <td>1</td>\n",
       "      <td>6</td>\n",
       "      <td>San Francisco</td>\n",
       "      <td>700.00</td>\n",
       "    </tr>\n",
       "    <tr>\n",
       "      <th>8</th>\n",
       "      <td>220524</td>\n",
       "      <td>1</td>\n",
       "      <td>6</td>\n",
       "      <td>Atlanta</td>\n",
       "      <td>3.84</td>\n",
       "    </tr>\n",
       "    <tr>\n",
       "      <th>9</th>\n",
       "      <td>220562</td>\n",
       "      <td>1</td>\n",
       "      <td>6</td>\n",
       "      <td>San Francisco</td>\n",
       "      <td>11.99</td>\n",
       "    </tr>\n",
       "  </tbody>\n",
       "</table>\n",
       "</div>"
      ],
      "text/plain": [
       "   order_id  nb_orders  month            city  revenue\n",
       "0    220468          1      6         Seattle   999.99\n",
       "1    220485          1      6     Los Angeles    14.95\n",
       "2    220486          1      6   San Francisco   149.99\n",
       "3    220490          1      6   San Francisco   400.00\n",
       "4    220495          1      6   San Francisco   999.99\n",
       "5    220498          1      6          Boston    11.99\n",
       "6    220514          1      6     Los Angeles     3.84\n",
       "7    220517          1      6   San Francisco   700.00\n",
       "8    220524          1      6         Atlanta     3.84\n",
       "9    220562          1      6   San Francisco    11.99"
      ]
     },
     "execution_count": 63,
     "metadata": {},
     "output_type": "execute_result"
    }
   ],
   "source": [
    "conn.execute(\"\"\"\n",
    "\tCREATE OR REPLACE VIEW aggregated_sales AS\n",
    "\tSELECT\n",
    "\t\torder_id,\n",
    "\t\tCOUNT(1) as nb_orders,\n",
    "\t\tMONTH(order_date) as month,\n",
    "\t\tstr_split(purchase_address, ',')[2] AS city,\n",
    "\t\tSUM(quantity * price_each) AS revenue\n",
    "\tFROM sales\n",
    "\tGROUP BY ALL\n",
    "\"\"\")\n",
    "\n",
    "conn.execute(\"\"\"\n",
    "from aggregated_sales limit 10\n",
    "\"\"\").df()"
   ]
  },
  {
   "cell_type": "code",
   "execution_count": 64,
   "id": "1825a1b6",
   "metadata": {},
   "outputs": [
    {
     "data": {
      "text/html": [
       "<div>\n",
       "<style scoped>\n",
       "    .dataframe tbody tr th:only-of-type {\n",
       "        vertical-align: middle;\n",
       "    }\n",
       "\n",
       "    .dataframe tbody tr th {\n",
       "        vertical-align: top;\n",
       "    }\n",
       "\n",
       "    .dataframe thead th {\n",
       "        text-align: right;\n",
       "    }\n",
       "</style>\n",
       "<table border=\"1\" class=\"dataframe\">\n",
       "  <thead>\n",
       "    <tr style=\"text-align: right;\">\n",
       "      <th></th>\n",
       "      <th>order_id</th>\n",
       "      <th>product</th>\n",
       "      <th>quantity</th>\n",
       "      <th>price_each</th>\n",
       "      <th>order_date</th>\n",
       "      <th>purchase_address</th>\n",
       "    </tr>\n",
       "  </thead>\n",
       "  <tbody>\n",
       "    <tr>\n",
       "      <th>0</th>\n",
       "      <td>211058</td>\n",
       "      <td>Apple Airpods Headphones</td>\n",
       "      <td>1</td>\n",
       "      <td>150.00</td>\n",
       "      <td>1773-02-17 22:43:41.128654848</td>\n",
       "      <td>438 13th St, Austin, TX 73301</td>\n",
       "    </tr>\n",
       "    <tr>\n",
       "      <th>1</th>\n",
       "      <td>211058</td>\n",
       "      <td>Macbook Pro Laptop</td>\n",
       "      <td>1</td>\n",
       "      <td>1700.00</td>\n",
       "      <td>1773-02-17 22:43:41.128654848</td>\n",
       "      <td>438 13th St, Austin, TX 73301</td>\n",
       "    </tr>\n",
       "    <tr>\n",
       "      <th>2</th>\n",
       "      <td>220468</td>\n",
       "      <td>ThinkPad Laptop</td>\n",
       "      <td>1</td>\n",
       "      <td>999.99</td>\n",
       "      <td>1773-02-21 22:43:41.128654848</td>\n",
       "      <td>487 Washington St, Seattle, WA 98101</td>\n",
       "    </tr>\n",
       "  </tbody>\n",
       "</table>\n",
       "</div>"
      ],
      "text/plain": [
       "   order_id                   product  quantity  price_each  \\\n",
       "0    211058  Apple Airpods Headphones         1      150.00   \n",
       "1    211058        Macbook Pro Laptop         1     1700.00   \n",
       "2    220468           ThinkPad Laptop         1      999.99   \n",
       "\n",
       "                     order_date                      purchase_address  \n",
       "0 1773-02-17 22:43:41.128654848         438 13th St, Austin, TX 73301  \n",
       "1 1773-02-17 22:43:41.128654848         438 13th St, Austin, TX 73301  \n",
       "2 1773-02-21 22:43:41.128654848  487 Washington St, Seattle, WA 98101  "
      ]
     },
     "execution_count": 64,
     "metadata": {},
     "output_type": "execute_result"
    }
   ],
   "source": [
    "conn.execute(\"\"\"\n",
    "    select * from sales where order_id in (220468,211058)\n",
    "\"\"\").df()"
   ]
  },
  {
   "cell_type": "markdown",
   "id": "3bc74d57",
   "metadata": {},
   "source": [
    "## Save and read parquet files\n",
    "\n",
    "Querying Parquet files give much better performances than with CSV files"
   ]
  },
  {
   "cell_type": "code",
   "execution_count": 67,
   "id": "e1f86ca0",
   "metadata": {},
   "outputs": [],
   "source": [
    "file_out = '../data/sales/agg_sales.parquet'"
   ]
  },
  {
   "cell_type": "code",
   "execution_count": 68,
   "id": "7bf911fe",
   "metadata": {},
   "outputs": [
    {
     "data": {
      "text/plain": [
       "<duckdb.DuckDBPyConnection at 0x1d1a8378470>"
      ]
     },
     "execution_count": 68,
     "metadata": {},
     "output_type": "execute_result"
    }
   ],
   "source": [
    "conn.execute(f\"\"\"\n",
    "    COPY (FROM aggregated_sales) TO '{file_out}' (FORMAT 'parquet')\n",
    "\"\"\")"
   ]
  },
  {
   "cell_type": "code",
   "execution_count": 70,
   "id": "c42d71d2",
   "metadata": {},
   "outputs": [
    {
     "data": {
      "text/html": [
       "<div>\n",
       "<style scoped>\n",
       "    .dataframe tbody tr th:only-of-type {\n",
       "        vertical-align: middle;\n",
       "    }\n",
       "\n",
       "    .dataframe tbody tr th {\n",
       "        vertical-align: top;\n",
       "    }\n",
       "\n",
       "    .dataframe thead th {\n",
       "        text-align: right;\n",
       "    }\n",
       "</style>\n",
       "<table border=\"1\" class=\"dataframe\">\n",
       "  <thead>\n",
       "    <tr style=\"text-align: right;\">\n",
       "      <th></th>\n",
       "      <th>order_id</th>\n",
       "      <th>nb_orders</th>\n",
       "      <th>month</th>\n",
       "      <th>city</th>\n",
       "      <th>revenue</th>\n",
       "    </tr>\n",
       "  </thead>\n",
       "  <tbody>\n",
       "    <tr>\n",
       "      <th>0</th>\n",
       "      <td>220468</td>\n",
       "      <td>1</td>\n",
       "      <td>6</td>\n",
       "      <td>Seattle</td>\n",
       "      <td>999.99</td>\n",
       "    </tr>\n",
       "    <tr>\n",
       "      <th>1</th>\n",
       "      <td>220485</td>\n",
       "      <td>1</td>\n",
       "      <td>6</td>\n",
       "      <td>Los Angeles</td>\n",
       "      <td>14.95</td>\n",
       "    </tr>\n",
       "    <tr>\n",
       "      <th>2</th>\n",
       "      <td>220486</td>\n",
       "      <td>1</td>\n",
       "      <td>6</td>\n",
       "      <td>San Francisco</td>\n",
       "      <td>149.99</td>\n",
       "    </tr>\n",
       "    <tr>\n",
       "      <th>3</th>\n",
       "      <td>220490</td>\n",
       "      <td>1</td>\n",
       "      <td>6</td>\n",
       "      <td>San Francisco</td>\n",
       "      <td>400.00</td>\n",
       "    </tr>\n",
       "    <tr>\n",
       "      <th>4</th>\n",
       "      <td>220495</td>\n",
       "      <td>1</td>\n",
       "      <td>6</td>\n",
       "      <td>San Francisco</td>\n",
       "      <td>999.99</td>\n",
       "    </tr>\n",
       "    <tr>\n",
       "      <th>5</th>\n",
       "      <td>220498</td>\n",
       "      <td>1</td>\n",
       "      <td>6</td>\n",
       "      <td>Boston</td>\n",
       "      <td>11.99</td>\n",
       "    </tr>\n",
       "    <tr>\n",
       "      <th>6</th>\n",
       "      <td>220514</td>\n",
       "      <td>1</td>\n",
       "      <td>6</td>\n",
       "      <td>Los Angeles</td>\n",
       "      <td>3.84</td>\n",
       "    </tr>\n",
       "    <tr>\n",
       "      <th>7</th>\n",
       "      <td>220517</td>\n",
       "      <td>1</td>\n",
       "      <td>6</td>\n",
       "      <td>San Francisco</td>\n",
       "      <td>700.00</td>\n",
       "    </tr>\n",
       "    <tr>\n",
       "      <th>8</th>\n",
       "      <td>220524</td>\n",
       "      <td>1</td>\n",
       "      <td>6</td>\n",
       "      <td>Atlanta</td>\n",
       "      <td>3.84</td>\n",
       "    </tr>\n",
       "    <tr>\n",
       "      <th>9</th>\n",
       "      <td>220562</td>\n",
       "      <td>1</td>\n",
       "      <td>6</td>\n",
       "      <td>San Francisco</td>\n",
       "      <td>11.99</td>\n",
       "    </tr>\n",
       "  </tbody>\n",
       "</table>\n",
       "</div>"
      ],
      "text/plain": [
       "   order_id  nb_orders  month            city  revenue\n",
       "0    220468          1      6         Seattle   999.99\n",
       "1    220485          1      6     Los Angeles    14.95\n",
       "2    220486          1      6   San Francisco   149.99\n",
       "3    220490          1      6   San Francisco   400.00\n",
       "4    220495          1      6   San Francisco   999.99\n",
       "5    220498          1      6          Boston    11.99\n",
       "6    220514          1      6     Los Angeles     3.84\n",
       "7    220517          1      6   San Francisco   700.00\n",
       "8    220524          1      6         Atlanta     3.84\n",
       "9    220562          1      6   San Francisco    11.99"
      ]
     },
     "execution_count": 70,
     "metadata": {},
     "output_type": "execute_result"
    }
   ],
   "source": [
    "conn.execute(f\"FROM '{file_out}'\").df().head(10)"
   ]
  },
  {
   "cell_type": "code",
   "execution_count": null,
   "id": "0c6112e2",
   "metadata": {},
   "outputs": [],
   "source": []
  }
 ],
 "metadata": {
  "kernelspec": {
   "display_name": "Python 3 (ipykernel)",
   "language": "python",
   "name": "python3"
  },
  "language_info": {
   "codemirror_mode": {
    "name": "ipython",
    "version": 3
   },
   "file_extension": ".py",
   "mimetype": "text/x-python",
   "name": "python",
   "nbconvert_exporter": "python",
   "pygments_lexer": "ipython3",
   "version": "3.9.13"
  },
  "nbTranslate": {
   "displayLangs": [
    "*"
   ],
   "hotkey": "alt-t",
   "langInMainMenu": true,
   "sourceLang": "en",
   "targetLang": "fr",
   "useGoogleTranslate": true
  },
  "toc": {
   "base_numbering": 1,
   "nav_menu": {},
   "number_sections": true,
   "sideBar": true,
   "skip_h1_title": false,
   "title_cell": "Table of Contents",
   "title_sidebar": "Contents",
   "toc_cell": false,
   "toc_position": {},
   "toc_section_display": true,
   "toc_window_display": false
  }
 },
 "nbformat": 4,
 "nbformat_minor": 5
}
