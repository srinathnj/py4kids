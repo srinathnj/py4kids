{
 "cells": [
  {
   "cell_type": "markdown",
   "id": "ed731894",
   "metadata": {},
   "source": [
    "## Fugue and DuckDB: Fast SQL Code in Python\n",
    "\n",
    "### Why Fugue and DuckDB\n",
    "\n",
    "Fugue also allows you to scale your SQL code using Spark or Dask\n",
    "\n",
    "### Docs\n",
    "- [FugueSQL](https://fugue-tutorials.readthedocs.io/tutorials/fugue_sql/index.html)\n",
    "- [DuckDB with Fugue](https://duckdb.org/docs/guides/python/fugue)\n",
    "- [Introducing FugueSQL — SQL for Pandas, Spark, and Dask DataFrames](https://towardsdatascience.com/introducing-fuguesql-sql-for-pandas-spark-and-dask-dataframes-63d461a16b27)\n",
    "- [Optimize Your SQL Code with Python and DuckDB](https://medium.com/towards-data-science/fugue-and-duckdb-fast-sql-code-in-python-e2e2dfc0f8eb)\n",
    "\n",
    "\n",
    "### Setup\n",
    "```\n",
    "pip install -U fugue[duckdb,sql] \n",
    "```"
   ]
  },
  {
   "cell_type": "markdown",
   "id": "c3b46384",
   "metadata": {},
   "source": [
    "### Use in Jupyter"
   ]
  },
  {
   "cell_type": "code",
   "execution_count": 1,
   "id": "d712a751",
   "metadata": {},
   "outputs": [
    {
     "name": "stderr",
     "output_type": "stream",
     "text": [
      "C:\\Users\\p2p2l\\anaconda3\\lib\\site-packages\\fugue_sql\\__init__.py:8: UserWarning: fsql and FugueSQLWorkflow now should be imported directly from fugue, fugue_sql will be removed in 0.9.0\n",
      "  warnings.warn(\n"
     ]
    },
    {
     "data": {
      "application/javascript": [
       "\n",
       "require([\"codemirror/lib/codemirror\"]);\n",
       "function set(str) {\n",
       "    var obj = {}, words = str.split(\" \");\n",
       "    for (var i = 0; i < words.length; ++i) obj[words[i]] = true;\n",
       "    return obj;\n",
       "  }\n",
       "var fugue_keywords = \"fill hash rand even presort persist broadcast params process output outtransform rowcount concurrency prepartition zip print title save append parquet csv json single checkpoint weak strong deterministic yield connect sample seed take sub callback dataframe file\";\n",
       "CodeMirror.defineMIME(\"text/x-fsql\", {\n",
       "    name: \"sql\",\n",
       "    keywords: set(fugue_keywords + \" add after all alter analyze and anti archive array as asc at between bucket buckets by cache cascade case cast change clear cluster clustered codegen collection column columns comment commit compact compactions compute concatenate cost create cross cube current current_date current_timestamp database databases data dbproperties defined delete delimited deny desc describe dfs directories distinct distribute drop else end escaped except exchange exists explain export extended external false fields fileformat first following for format formatted from full function functions global grant group grouping having if ignore import in index indexes inner inpath inputformat insert intersect interval into is items join keys last lateral lazy left like limit lines list load local location lock locks logical macro map minus msck natural no not null nulls of on optimize option options or order out outer outputformat over overwrite partition partitioned partitions percent preceding principals purge range recordreader recordwriter recover reduce refresh regexp rename repair replace reset restrict revoke right rlike role roles rollback rollup row rows schema schemas select semi separated serde serdeproperties set sets show skewed sort sorted start statistics stored stratify struct table tables tablesample tblproperties temp temporary terminated then to touch transaction transactions transform true truncate unarchive unbounded uncache union unlock unset use using values view when where window with\"),\n",
       "    builtin: set(\"date datetime tinyint smallint int bigint boolean float double string binary timestamp decimal array map struct uniontype delimited serde sequencefile textfile rcfile inputformat outputformat\"),\n",
       "    atoms: set(\"false true null\"),\n",
       "    operatorChars: /^[*\\/+\\-%<>!=~&|^]/,\n",
       "    dateSQL: set(\"time\"),\n",
       "    support: set(\"ODBCdotTable doubleQuote zerolessFloat\")\n",
       "  });\n",
       "\n",
       "CodeMirror.modeInfo.push( {\n",
       "            name: \"Fugue SQL\",\n",
       "            mime: \"text/x-fsql\",\n",
       "            mode: \"sql\"\n",
       "          } );\n",
       "\n",
       "require(['notebook/js/codecell'], function(codecell) {\n",
       "    codecell.CodeCell.options_default.highlight_modes['magic_text/x-fsql'] = {'reg':[/%%fsql/]} ;\n",
       "    Jupyter.notebook.events.on('kernel_ready.Kernel', function(){\n",
       "    Jupyter.notebook.get_cells().map(function(cell){\n",
       "        if (cell.cell_type == 'code'){ cell.auto_highlight(); } }) ;\n",
       "    });\n",
       "  });\n"
      ],
      "text/plain": [
       "<IPython.core.display.Javascript object>"
      ]
     },
     "metadata": {},
     "output_type": "display_data"
    }
   ],
   "source": [
    "from fugue_notebook import setup\n",
    "import fugue_duckdb\n",
    "\n",
    "setup()"
   ]
  },
  {
   "cell_type": "markdown",
   "id": "c206ed3e",
   "metadata": {},
   "source": [
    "#### Quick start"
   ]
  },
  {
   "cell_type": "code",
   "execution_count": 6,
   "id": "1adc32cc",
   "metadata": {},
   "outputs": [],
   "source": [
    "import pandas as pd \n",
    "max_n = 5\n",
    "df = pd.DataFrame(\n",
    "    {\n",
    "        \"col_int\": range(max_n),\n",
    "        \"col_char\": [chr(97+i) for i in range(max_n)]\n",
    "    }\n",
    ")"
   ]
  },
  {
   "cell_type": "code",
   "execution_count": 7,
   "id": "a3328f68",
   "metadata": {},
   "outputs": [
    {
     "data": {
      "text/html": [
       "<div>\n",
       "<style scoped>\n",
       "    .dataframe tbody tr th:only-of-type {\n",
       "        vertical-align: middle;\n",
       "    }\n",
       "\n",
       "    .dataframe tbody tr th {\n",
       "        vertical-align: top;\n",
       "    }\n",
       "\n",
       "    .dataframe thead th {\n",
       "        text-align: right;\n",
       "    }\n",
       "</style>\n",
       "<table border=\"1\" class=\"dataframe\">\n",
       "  <thead>\n",
       "    <tr style=\"text-align: right;\">\n",
       "      <th></th>\n",
       "      <th>col_int</th>\n",
       "      <th>col_char</th>\n",
       "    </tr>\n",
       "  </thead>\n",
       "  <tbody>\n",
       "    <tr>\n",
       "      <th>0</th>\n",
       "      <td>0</td>\n",
       "      <td>a</td>\n",
       "    </tr>\n",
       "    <tr>\n",
       "      <th>1</th>\n",
       "      <td>1</td>\n",
       "      <td>b</td>\n",
       "    </tr>\n",
       "    <tr>\n",
       "      <th>2</th>\n",
       "      <td>2</td>\n",
       "      <td>c</td>\n",
       "    </tr>\n",
       "    <tr>\n",
       "      <th>3</th>\n",
       "      <td>3</td>\n",
       "      <td>d</td>\n",
       "    </tr>\n",
       "    <tr>\n",
       "      <th>4</th>\n",
       "      <td>4</td>\n",
       "      <td>e</td>\n",
       "    </tr>\n",
       "  </tbody>\n",
       "</table>\n",
       "</div>"
      ],
      "text/plain": [
       "   col_int col_char\n",
       "0        0        a\n",
       "1        1        b\n",
       "2        2        c\n",
       "3        3        d\n",
       "4        4        e"
      ]
     },
     "execution_count": 7,
     "metadata": {},
     "output_type": "execute_result"
    }
   ],
   "source": [
    "df"
   ]
  },
  {
   "cell_type": "code",
   "execution_count": 9,
   "id": "e5647897",
   "metadata": {},
   "outputs": [
    {
     "data": {
      "text/html": [
       "<div>\n",
       "<style scoped>\n",
       "    .dataframe tbody tr th:only-of-type {\n",
       "        vertical-align: middle;\n",
       "    }\n",
       "\n",
       "    .dataframe tbody tr th {\n",
       "        vertical-align: top;\n",
       "    }\n",
       "\n",
       "    .dataframe thead th {\n",
       "        text-align: right;\n",
       "    }\n",
       "</style>\n",
       "<table border=\"1\" class=\"dataframe\">\n",
       "  <thead>\n",
       "    <tr style=\"text-align: right;\">\n",
       "      <th></th>\n",
       "      <th>col_int:long</th>\n",
       "      <th>col_char:str</th>\n",
       "    </tr>\n",
       "  </thead>\n",
       "  <tbody>\n",
       "    <tr>\n",
       "      <th>0</th>\n",
       "      <td>0</td>\n",
       "      <td>a</td>\n",
       "    </tr>\n",
       "    <tr>\n",
       "      <th>1</th>\n",
       "      <td>1</td>\n",
       "      <td>b</td>\n",
       "    </tr>\n",
       "    <tr>\n",
       "      <th>2</th>\n",
       "      <td>2</td>\n",
       "      <td>c</td>\n",
       "    </tr>\n",
       "    <tr>\n",
       "      <th>3</th>\n",
       "      <td>3</td>\n",
       "      <td>d</td>\n",
       "    </tr>\n",
       "    <tr>\n",
       "      <th>4</th>\n",
       "      <td>4</td>\n",
       "      <td>e</td>\n",
       "    </tr>\n",
       "  </tbody>\n",
       "</table>\n",
       "</div>\n",
       "<font size=\"-1\">PandasDataFrame: col_int:long,col_char:str</font>"
      ],
      "text/plain": [
       "<IPython.core.display.HTML object>"
      ]
     },
     "metadata": {},
     "output_type": "display_data"
    }
   ],
   "source": [
    "%%fsql\n",
    "\n",
    "SELECT * FROM df\n",
    "PRINT"
   ]
  },
  {
   "cell_type": "markdown",
   "id": "4916b8f4",
   "metadata": {},
   "source": [
    "- [Ignore case in FugueSQL](https://fugue-tutorials.readthedocs.io/tutorials/advanced/useful_config.html)"
   ]
  },
  {
   "cell_type": "code",
   "execution_count": 10,
   "id": "6565e94c",
   "metadata": {},
   "outputs": [
    {
     "data": {
      "text/html": [
       "<div>\n",
       "<style scoped>\n",
       "    .dataframe tbody tr th:only-of-type {\n",
       "        vertical-align: middle;\n",
       "    }\n",
       "\n",
       "    .dataframe tbody tr th {\n",
       "        vertical-align: top;\n",
       "    }\n",
       "\n",
       "    .dataframe thead th {\n",
       "        text-align: right;\n",
       "    }\n",
       "</style>\n",
       "<table border=\"1\" class=\"dataframe\">\n",
       "  <thead>\n",
       "    <tr style=\"text-align: right;\">\n",
       "      <th></th>\n",
       "      <th>col_int:long</th>\n",
       "      <th>col_char:str</th>\n",
       "    </tr>\n",
       "  </thead>\n",
       "  <tbody>\n",
       "    <tr>\n",
       "      <th>0</th>\n",
       "      <td>0</td>\n",
       "      <td>a</td>\n",
       "    </tr>\n",
       "    <tr>\n",
       "      <th>1</th>\n",
       "      <td>1</td>\n",
       "      <td>b</td>\n",
       "    </tr>\n",
       "    <tr>\n",
       "      <th>2</th>\n",
       "      <td>2</td>\n",
       "      <td>c</td>\n",
       "    </tr>\n",
       "    <tr>\n",
       "      <th>3</th>\n",
       "      <td>3</td>\n",
       "      <td>d</td>\n",
       "    </tr>\n",
       "    <tr>\n",
       "      <th>4</th>\n",
       "      <td>4</td>\n",
       "      <td>e</td>\n",
       "    </tr>\n",
       "  </tbody>\n",
       "</table>\n",
       "</div>\n",
       "<font size=\"-1\">PandasDataFrame: col_int:long,col_char:str</font>"
      ],
      "text/plain": [
       "<IPython.core.display.HTML object>"
      ]
     },
     "metadata": {},
     "output_type": "display_data"
    }
   ],
   "source": [
    "from fugue.api import fugue_sql_flow\n",
    "\n",
    "fugue_sql_flow(\"\"\"\n",
    "               select * from df\n",
    "               print\n",
    "               \"\"\", fsql_ignore_case=True).run();"
   ]
  },
  {
   "cell_type": "markdown",
   "id": "cb373c94",
   "metadata": {},
   "source": [
    "#### Data Science Topics\n",
    "\n",
    "- https://github.com/khuyentran1401/Data-science\n",
    "\n",
    "- https://github.com/khuyentran1401/Data-science/tree/master/productive_tools/Fugue_and_Duckdb"
   ]
  },
  {
   "cell_type": "code",
   "execution_count": 2,
   "id": "785d1d2f",
   "metadata": {},
   "outputs": [],
   "source": [
    "import os \n",
    "save_path = os.getcwd() + '/raw.parquet'"
   ]
  },
  {
   "cell_type": "code",
   "execution_count": 2,
   "id": "89c75600",
   "metadata": {},
   "outputs": [
    {
     "data": {
      "text/plain": [
       "'C:\\\\Users\\\\p2p2l\\\\projects\\\\wgong\\\\py4kids\\\\lesson-14.1-db\\\\duckdb\\\\fugue/raw.parquet'"
      ]
     },
     "execution_count": 2,
     "metadata": {},
     "output_type": "execute_result"
    }
   ],
   "source": [
    "save_path"
   ]
  },
  {
   "cell_type": "code",
   "execution_count": 3,
   "id": "bd7cca99",
   "metadata": {},
   "outputs": [],
   "source": [
    "import pandas as pd "
   ]
  },
  {
   "cell_type": "code",
   "execution_count": 4,
   "id": "57263cbb",
   "metadata": {},
   "outputs": [],
   "source": [
    "df = pd.read_parquet(save_path)"
   ]
  },
  {
   "cell_type": "code",
   "execution_count": 5,
   "id": "93e3ea38",
   "metadata": {},
   "outputs": [
    {
     "data": {
      "text/plain": [
       "((46674268, 12),\n",
       " Index(['Open', 'High', 'Low', 'Close', 'Volume', 'Close_time',\n",
       "        'Quote_asset_volume', 'Number_of_trades', 'Taker_buy_base_asset_volume',\n",
       "        'Taker_buy_quote_asset_volume', 'symbol', 'time'],\n",
       "       dtype='object'))"
      ]
     },
     "execution_count": 5,
     "metadata": {},
     "output_type": "execute_result"
    }
   ],
   "source": [
    "df.shape, df.columns"
   ]
  },
  {
   "cell_type": "code",
   "execution_count": 6,
   "id": "dd00ac31",
   "metadata": {},
   "outputs": [
    {
     "data": {
      "text/html": [
       "<div>\n",
       "<style scoped>\n",
       "    .dataframe tbody tr th:only-of-type {\n",
       "        vertical-align: middle;\n",
       "    }\n",
       "\n",
       "    .dataframe tbody tr th {\n",
       "        vertical-align: top;\n",
       "    }\n",
       "\n",
       "    .dataframe thead th {\n",
       "        text-align: right;\n",
       "    }\n",
       "</style>\n",
       "<table border=\"1\" class=\"dataframe\">\n",
       "  <thead>\n",
       "    <tr style=\"text-align: right;\">\n",
       "      <th></th>\n",
       "      <th>Open</th>\n",
       "      <th>High</th>\n",
       "      <th>Low</th>\n",
       "      <th>Close</th>\n",
       "      <th>Volume</th>\n",
       "      <th>Close_time</th>\n",
       "      <th>Quote_asset_volume</th>\n",
       "      <th>Number_of_trades</th>\n",
       "      <th>Taker_buy_base_asset_volume</th>\n",
       "      <th>Taker_buy_quote_asset_volume</th>\n",
       "      <th>symbol</th>\n",
       "      <th>time</th>\n",
       "    </tr>\n",
       "  </thead>\n",
       "  <tbody>\n",
       "    <tr>\n",
       "      <th>0</th>\n",
       "      <td>0.000436</td>\n",
       "      <td>0.000436</td>\n",
       "      <td>0.000436</td>\n",
       "      <td>0.000436</td>\n",
       "      <td>2018.0</td>\n",
       "      <td>1509494459999</td>\n",
       "      <td>0.880400</td>\n",
       "      <td>4</td>\n",
       "      <td>0.0</td>\n",
       "      <td>0.000000</td>\n",
       "      <td>SNGLSETH</td>\n",
       "      <td>2017-11-01 00:00:00</td>\n",
       "    </tr>\n",
       "    <tr>\n",
       "      <th>1</th>\n",
       "      <td>0.000436</td>\n",
       "      <td>0.000436</td>\n",
       "      <td>0.000421</td>\n",
       "      <td>0.000425</td>\n",
       "      <td>2497.0</td>\n",
       "      <td>1509494519999</td>\n",
       "      <td>1.074549</td>\n",
       "      <td>8</td>\n",
       "      <td>893.0</td>\n",
       "      <td>0.379605</td>\n",
       "      <td>SNGLSETH</td>\n",
       "      <td>2017-11-01 00:01:00</td>\n",
       "    </tr>\n",
       "    <tr>\n",
       "      <th>2</th>\n",
       "      <td>0.000425</td>\n",
       "      <td>0.000428</td>\n",
       "      <td>0.000425</td>\n",
       "      <td>0.000428</td>\n",
       "      <td>2671.0</td>\n",
       "      <td>1509494579999</td>\n",
       "      <td>1.139313</td>\n",
       "      <td>3</td>\n",
       "      <td>2671.0</td>\n",
       "      <td>1.139313</td>\n",
       "      <td>SNGLSETH</td>\n",
       "      <td>2017-11-01 00:02:00</td>\n",
       "    </tr>\n",
       "    <tr>\n",
       "      <th>3</th>\n",
       "      <td>0.000428</td>\n",
       "      <td>0.000428</td>\n",
       "      <td>0.000428</td>\n",
       "      <td>0.000428</td>\n",
       "      <td>1773.0</td>\n",
       "      <td>1509494639999</td>\n",
       "      <td>0.758578</td>\n",
       "      <td>4</td>\n",
       "      <td>1773.0</td>\n",
       "      <td>0.758578</td>\n",
       "      <td>SNGLSETH</td>\n",
       "      <td>2017-11-01 00:03:00</td>\n",
       "    </tr>\n",
       "    <tr>\n",
       "      <th>4</th>\n",
       "      <td>0.000428</td>\n",
       "      <td>0.000428</td>\n",
       "      <td>0.000428</td>\n",
       "      <td>0.000428</td>\n",
       "      <td>887.0</td>\n",
       "      <td>1509494699999</td>\n",
       "      <td>0.379715</td>\n",
       "      <td>4</td>\n",
       "      <td>887.0</td>\n",
       "      <td>0.379715</td>\n",
       "      <td>SNGLSETH</td>\n",
       "      <td>2017-11-01 00:04:00</td>\n",
       "    </tr>\n",
       "  </tbody>\n",
       "</table>\n",
       "</div>"
      ],
      "text/plain": [
       "       Open      High       Low     Close  Volume     Close_time  \\\n",
       "0  0.000436  0.000436  0.000436  0.000436  2018.0  1509494459999   \n",
       "1  0.000436  0.000436  0.000421  0.000425  2497.0  1509494519999   \n",
       "2  0.000425  0.000428  0.000425  0.000428  2671.0  1509494579999   \n",
       "3  0.000428  0.000428  0.000428  0.000428  1773.0  1509494639999   \n",
       "4  0.000428  0.000428  0.000428  0.000428   887.0  1509494699999   \n",
       "\n",
       "   Quote_asset_volume  Number_of_trades  Taker_buy_base_asset_volume  \\\n",
       "0            0.880400                 4                          0.0   \n",
       "1            1.074549                 8                        893.0   \n",
       "2            1.139313                 3                       2671.0   \n",
       "3            0.758578                 4                       1773.0   \n",
       "4            0.379715                 4                        887.0   \n",
       "\n",
       "   Taker_buy_quote_asset_volume    symbol                time  \n",
       "0                      0.000000  SNGLSETH 2017-11-01 00:00:00  \n",
       "1                      0.379605  SNGLSETH 2017-11-01 00:01:00  \n",
       "2                      1.139313  SNGLSETH 2017-11-01 00:02:00  \n",
       "3                      0.758578  SNGLSETH 2017-11-01 00:03:00  \n",
       "4                      0.379715  SNGLSETH 2017-11-01 00:04:00  "
      ]
     },
     "execution_count": 6,
     "metadata": {},
     "output_type": "execute_result"
    }
   ],
   "source": [
    "df.head(5)"
   ]
  },
  {
   "cell_type": "raw",
   "id": "4a751889",
   "metadata": {},
   "source": [
    "usdt = df[df.symbol.str.endswith(\"USDT\")]"
   ]
  },
  {
   "cell_type": "code",
   "execution_count": 7,
   "id": "28c1c825",
   "metadata": {},
   "outputs": [],
   "source": [
    "btcusdt = df[df.symbol == \"BTCUSDT\"]"
   ]
  },
  {
   "cell_type": "code",
   "execution_count": 8,
   "id": "44d3313d",
   "metadata": {},
   "outputs": [
    {
     "data": {
      "text/plain": [
       "(207985, 12)"
      ]
     },
     "execution_count": 8,
     "metadata": {},
     "output_type": "execute_result"
    }
   ],
   "source": [
    "btcusdt.shape"
   ]
  },
  {
   "cell_type": "code",
   "execution_count": 9,
   "id": "6b7bd39a",
   "metadata": {},
   "outputs": [],
   "source": [
    "btcusdt.to_parquet('BTCUSDT.parquet',\n",
    "              compression='snappy') "
   ]
  },
  {
   "cell_type": "code",
   "execution_count": 13,
   "id": "b0a2a2ee",
   "metadata": {},
   "outputs": [],
   "source": [
    "from pathlib import Path"
   ]
  },
  {
   "cell_type": "code",
   "execution_count": 10,
   "id": "71ada362",
   "metadata": {},
   "outputs": [],
   "source": [
    "btcusdt_path = os.getcwd() + '/BTCUSDT.parquet'"
   ]
  },
  {
   "cell_type": "code",
   "execution_count": 12,
   "id": "e83a9abd",
   "metadata": {},
   "outputs": [
    {
     "data": {
      "text/plain": [
       "'C:\\\\Users\\\\p2p2l\\\\projects\\\\wgong\\\\py4kids\\\\lesson-14.1-db\\\\duckdb\\\\fugue/BTCUSDT.parquet'"
      ]
     },
     "execution_count": 12,
     "metadata": {},
     "output_type": "execute_result"
    }
   ],
   "source": [
    "btcusdt_path"
   ]
  },
  {
   "cell_type": "markdown",
   "id": "b8a4ffd1",
   "metadata": {},
   "source": [
    "https://stackoverflow.com/questions/37400974/error-unicode-error-unicodeescape-codec-cant-decode-bytes-in-position-2-3"
   ]
  },
  {
   "cell_type": "code",
   "execution_count": 14,
   "id": "3693d218",
   "metadata": {},
   "outputs": [],
   "source": [
    "btcusdt_path_2 = Path(os.getcwd()) / 'BTCUSDT.parquet'"
   ]
  },
  {
   "cell_type": "code",
   "execution_count": 15,
   "id": "2773bd1e",
   "metadata": {},
   "outputs": [
    {
     "data": {
      "text/plain": [
       "WindowsPath('C:/Users/p2p2l/projects/wgong/py4kids/lesson-14.1-db/duckdb/fugue/BTCUSDT.parquet')"
      ]
     },
     "execution_count": 15,
     "metadata": {},
     "output_type": "execute_result"
    }
   ],
   "source": [
    "btcusdt_path_2"
   ]
  },
  {
   "cell_type": "code",
   "execution_count": 17,
   "id": "9287c67f",
   "metadata": {},
   "outputs": [
    {
     "data": {
      "text/html": [
       "<div>\n",
       "<style scoped>\n",
       "    .dataframe tbody tr th:only-of-type {\n",
       "        vertical-align: middle;\n",
       "    }\n",
       "\n",
       "    .dataframe tbody tr th {\n",
       "        vertical-align: top;\n",
       "    }\n",
       "\n",
       "    .dataframe thead th {\n",
       "        text-align: right;\n",
       "    }\n",
       "</style>\n",
       "<table border=\"1\" class=\"dataframe\">\n",
       "  <thead>\n",
       "    <tr style=\"text-align: right;\">\n",
       "      <th></th>\n",
       "      <th>Open:double</th>\n",
       "      <th>High:double</th>\n",
       "      <th>Low:double</th>\n",
       "      <th>Close:double</th>\n",
       "      <th>Volume:double</th>\n",
       "      <th>Close_time:long</th>\n",
       "      <th>Quote_asset_volume:double</th>\n",
       "      <th>Number_of_trades:long</th>\n",
       "      <th>Taker_buy_base_asset_volume:double</th>\n",
       "      <th>Taker_buy_quote_asset_volume:double</th>\n",
       "      <th>symbol:str</th>\n",
       "      <th>time:datetime</th>\n",
       "      <th>__index_level_0__:long</th>\n",
       "    </tr>\n",
       "  </thead>\n",
       "  <tbody>\n",
       "    <tr>\n",
       "      <th>0</th>\n",
       "      <td>6463.00</td>\n",
       "      <td>6463.07</td>\n",
       "      <td>6463.00</td>\n",
       "      <td>6463.06</td>\n",
       "      <td>0.471863</td>\n",
       "      <td>1960939103</td>\n",
       "      <td>3049.655132</td>\n",
       "      <td>9</td>\n",
       "      <td>0.065039</td>\n",
       "      <td>420.351608</td>\n",
       "      <td>BTCUSDT</td>\n",
       "      <td>2017-11-01 00:00:00</td>\n",
       "      <td>3215665</td>\n",
       "    </tr>\n",
       "    <tr>\n",
       "      <th>1</th>\n",
       "      <td>6463.07</td>\n",
       "      <td>6463.07</td>\n",
       "      <td>6421.13</td>\n",
       "      <td>6463.07</td>\n",
       "      <td>1.191819</td>\n",
       "      <td>1960999103</td>\n",
       "      <td>7683.421756</td>\n",
       "      <td>21</td>\n",
       "      <td>0.397939</td>\n",
       "      <td>2571.883760</td>\n",
       "      <td>BTCUSDT</td>\n",
       "      <td>2017-11-01 00:01:00</td>\n",
       "      <td>3215666</td>\n",
       "    </tr>\n",
       "    <tr>\n",
       "      <th>2</th>\n",
       "      <td>6463.00</td>\n",
       "      <td>6463.00</td>\n",
       "      <td>6421.15</td>\n",
       "      <td>6422.07</td>\n",
       "      <td>0.316035</td>\n",
       "      <td>1961059103</td>\n",
       "      <td>2030.005697</td>\n",
       "      <td>5</td>\n",
       "      <td>0.000000</td>\n",
       "      <td>0.000000</td>\n",
       "      <td>BTCUSDT</td>\n",
       "      <td>2017-11-01 00:02:00</td>\n",
       "      <td>3215667</td>\n",
       "    </tr>\n",
       "    <tr>\n",
       "      <th>3</th>\n",
       "      <td>6430.00</td>\n",
       "      <td>6430.00</td>\n",
       "      <td>6421.15</td>\n",
       "      <td>6421.15</td>\n",
       "      <td>0.837717</td>\n",
       "      <td>1961119103</td>\n",
       "      <td>5379.397652</td>\n",
       "      <td>5</td>\n",
       "      <td>0.756465</td>\n",
       "      <td>4857.375235</td>\n",
       "      <td>BTCUSDT</td>\n",
       "      <td>2017-11-01 00:03:00</td>\n",
       "      <td>3215668</td>\n",
       "    </tr>\n",
       "    <tr>\n",
       "      <th>4</th>\n",
       "      <td>6421.15</td>\n",
       "      <td>6421.15</td>\n",
       "      <td>6421.13</td>\n",
       "      <td>6421.13</td>\n",
       "      <td>0.029332</td>\n",
       "      <td>1961179103</td>\n",
       "      <td>188.345152</td>\n",
       "      <td>2</td>\n",
       "      <td>0.000000</td>\n",
       "      <td>0.000000</td>\n",
       "      <td>BTCUSDT</td>\n",
       "      <td>2017-11-01 00:04:00</td>\n",
       "      <td>3215669</td>\n",
       "    </tr>\n",
       "    <tr>\n",
       "      <th>5</th>\n",
       "      <td>6421.13</td>\n",
       "      <td>6421.15</td>\n",
       "      <td>6421.10</td>\n",
       "      <td>6421.15</td>\n",
       "      <td>3.747058</td>\n",
       "      <td>1961239103</td>\n",
       "      <td>24060.355411</td>\n",
       "      <td>8</td>\n",
       "      <td>1.155313</td>\n",
       "      <td>7418.437797</td>\n",
       "      <td>BTCUSDT</td>\n",
       "      <td>2017-11-01 00:05:00</td>\n",
       "      <td>3215670</td>\n",
       "    </tr>\n",
       "    <tr>\n",
       "      <th>6</th>\n",
       "      <td>6421.15</td>\n",
       "      <td>6421.15</td>\n",
       "      <td>6421.15</td>\n",
       "      <td>6421.15</td>\n",
       "      <td>0.000000</td>\n",
       "      <td>1961299103</td>\n",
       "      <td>0.000000</td>\n",
       "      <td>0</td>\n",
       "      <td>0.000000</td>\n",
       "      <td>0.000000</td>\n",
       "      <td>BTCUSDT</td>\n",
       "      <td>2017-11-01 00:06:00</td>\n",
       "      <td>3215671</td>\n",
       "    </tr>\n",
       "    <tr>\n",
       "      <th>7</th>\n",
       "      <td>6438.43</td>\n",
       "      <td>6459.94</td>\n",
       "      <td>6422.00</td>\n",
       "      <td>6422.00</td>\n",
       "      <td>2.850467</td>\n",
       "      <td>1961359103</td>\n",
       "      <td>18358.363787</td>\n",
       "      <td>7</td>\n",
       "      <td>1.954536</td>\n",
       "      <td>12604.694905</td>\n",
       "      <td>BTCUSDT</td>\n",
       "      <td>2017-11-01 00:07:00</td>\n",
       "      <td>3215672</td>\n",
       "    </tr>\n",
       "    <tr>\n",
       "      <th>8</th>\n",
       "      <td>6459.95</td>\n",
       "      <td>6459.96</td>\n",
       "      <td>6422.00</td>\n",
       "      <td>6422.01</td>\n",
       "      <td>0.359784</td>\n",
       "      <td>1961419103</td>\n",
       "      <td>2314.752211</td>\n",
       "      <td>5</td>\n",
       "      <td>0.111118</td>\n",
       "      <td>717.816725</td>\n",
       "      <td>BTCUSDT</td>\n",
       "      <td>2017-11-01 00:08:00</td>\n",
       "      <td>3215673</td>\n",
       "    </tr>\n",
       "    <tr>\n",
       "      <th>9</th>\n",
       "      <td>6422.04</td>\n",
       "      <td>6422.04</td>\n",
       "      <td>6422.04</td>\n",
       "      <td>6422.04</td>\n",
       "      <td>0.033390</td>\n",
       "      <td>1961479103</td>\n",
       "      <td>214.431916</td>\n",
       "      <td>2</td>\n",
       "      <td>0.000000</td>\n",
       "      <td>0.000000</td>\n",
       "      <td>BTCUSDT</td>\n",
       "      <td>2017-11-01 00:09:00</td>\n",
       "      <td>3215674</td>\n",
       "    </tr>\n",
       "  </tbody>\n",
       "</table>\n",
       "</div>\n",
       "<font size=\"-1\">DuckDataFrame: Open:double,High:double,Low:double,Close:double,Volume:double,Close_time:long,Quote_asset_volume:double,Number_of_trades:long,Taker_buy_base_asset_volume:double,Taker_buy_quote_asset_volume:double,symbol:str,time:datetime,__index_level_0__:long</font>"
      ],
      "text/plain": [
       "<IPython.core.display.HTML object>"
      ]
     },
     "metadata": {},
     "output_type": "display_data"
    }
   ],
   "source": [
    "%%fsql duck\n",
    "\n",
    "LOAD 'BTCUSDT.parquet'\n",
    "PRINT"
   ]
  },
  {
   "cell_type": "code",
   "execution_count": null,
   "id": "3fc9a2a5",
   "metadata": {},
   "outputs": [],
   "source": []
  },
  {
   "cell_type": "markdown",
   "id": "0dadab82",
   "metadata": {},
   "source": [
    "### Fugue + DuckDB in Production"
   ]
  },
  {
   "cell_type": "code",
   "execution_count": null,
   "id": "9dc24547",
   "metadata": {},
   "outputs": [],
   "source": []
  }
 ],
 "metadata": {
  "kernelspec": {
   "display_name": "Python 3 (ipykernel)",
   "language": "python",
   "name": "python3"
  },
  "language_info": {
   "codemirror_mode": {
    "name": "ipython",
    "version": 3
   },
   "file_extension": ".py",
   "mimetype": "text/x-python",
   "name": "python",
   "nbconvert_exporter": "python",
   "pygments_lexer": "ipython3",
   "version": "3.9.13"
  },
  "nbTranslate": {
   "displayLangs": [
    "*"
   ],
   "hotkey": "alt-t",
   "langInMainMenu": true,
   "sourceLang": "en",
   "targetLang": "fr",
   "useGoogleTranslate": true
  },
  "toc": {
   "base_numbering": 1,
   "nav_menu": {},
   "number_sections": true,
   "sideBar": true,
   "skip_h1_title": false,
   "title_cell": "Table of Contents",
   "title_sidebar": "Contents",
   "toc_cell": false,
   "toc_position": {},
   "toc_section_display": true,
   "toc_window_display": false
  }
 },
 "nbformat": 4,
 "nbformat_minor": 5
}
