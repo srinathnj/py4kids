{
 "cells": [
  {
   "cell_type": "markdown",
   "id": "cc310fba",
   "metadata": {},
   "source": [
    "# DuckDB Tutorial for Beginners (40 minutes)\n",
    "\n",
    "- https://duckdb.org/docs/\n",
    "\n",
    "- https://claude.ai/chat/2d11d485-b4bd-435a-976f-c25b4a03f0c0\n",
    "\n",
    "## Part 1: Introduction (10 minutes)\n",
    "\n",
    "### What is DuckDB?\n",
    "DuckDB is an embedded analytical database engine, similar to SQLite but optimized for analytical queries (OLAP) rather than transactional workloads (OLTP). Think of it as \"SQLite for analytics.\"\n",
    "\n",
    "### Key Features and Advantages over Pandas\n",
    "1. **Performance**: \n",
    "   - Executes queries much faster than Pandas, especially for large datasets\n",
    "   - Efficient columnar storage and vectorized query execution\n",
    "   - Better memory management - doesn't need to load entire dataset into RAM\n",
    "\n",
    "2. **SQL-first Approach**:\n",
    "   - Write familiar SQL queries instead of chaining Pandas operations\n",
    "   - More readable and maintainable code\n",
    "   - Easier transition for those with SQL background\n",
    "\n",
    "3. **Integration**:\n",
    "   - Seamless integration with Pandas (read/write DataFrames)\n",
    "   - Direct reading of Parquet, CSV, JSON files\n",
    "   - Can query data directly from files without loading into memory\n",
    "\n",
    "4. **Scale**:\n",
    "   - Handles larger-than-memory datasets efficiently\n",
    "   - Parallel query execution\n",
    "   - Better resource utilization"
   ]
  },
  {
   "cell_type": "markdown",
   "id": "4a1defb3",
   "metadata": {},
   "source": [
    "## Part 2: Setup (5 minutes)\n",
    "\n",
    "### Creating a Conda Environment\n",
    "```bash\n",
    "# Create new environment with Python 3.11\n",
    "conda create -n duckdb python=3.11\n",
    "\n",
    "# Activate environment\n",
    "conda activate duckdb\n",
    "\n",
    "# Install required packages\n",
    "pip install duckdb pandas jupyter notebook pyarrow\n",
    "```\n",
    "\n",
    "### Verifying Installation\n",
    "```python\n",
    "import duckdb\n",
    "print(duckdb.__version__)\n",
    "```"
   ]
  },
  {
   "cell_type": "code",
   "execution_count": 1,
   "id": "42e62ff3",
   "metadata": {},
   "outputs": [
    {
     "name": "stdout",
     "output_type": "stream",
     "text": [
      "1.2.0\n"
     ]
    }
   ],
   "source": [
    "import duckdb\n",
    "print(duckdb.__version__)"
   ]
  },
  {
   "cell_type": "markdown",
   "id": "ea73c946",
   "metadata": {},
   "source": [
    "## Part 3: Hands-on Tutorial (20 minutes)\n",
    "\n",
    "### demo-01"
   ]
  },
  {
   "cell_type": "code",
   "execution_count": 2,
   "id": "4e2a0dcf",
   "metadata": {},
   "outputs": [],
   "source": [
    "import duckdb\n",
    "import pandas as pd\n",
    "\n",
    "# Create a simple DataFrame\n",
    "df = pd.DataFrame({\n",
    "    'id': range(1, 6),\n",
    "    'name': ['Alice', 'Bob', 'Charlie', 'David', 'Eve'],\n",
    "    'age': [25, 30, 35, 28, 22],\n",
    "    'department': ['IT', 'HR', 'IT', 'Finance', 'HR']\n",
    "})"
   ]
  },
  {
   "cell_type": "code",
   "execution_count": 3,
   "id": "f3e9ddd7",
   "metadata": {},
   "outputs": [
    {
     "data": {
      "text/html": [
       "<div>\n",
       "<style scoped>\n",
       "    .dataframe tbody tr th:only-of-type {\n",
       "        vertical-align: middle;\n",
       "    }\n",
       "\n",
       "    .dataframe tbody tr th {\n",
       "        vertical-align: top;\n",
       "    }\n",
       "\n",
       "    .dataframe thead th {\n",
       "        text-align: right;\n",
       "    }\n",
       "</style>\n",
       "<table border=\"1\" class=\"dataframe\">\n",
       "  <thead>\n",
       "    <tr style=\"text-align: right;\">\n",
       "      <th></th>\n",
       "      <th>id</th>\n",
       "      <th>name</th>\n",
       "      <th>age</th>\n",
       "      <th>department</th>\n",
       "    </tr>\n",
       "  </thead>\n",
       "  <tbody>\n",
       "    <tr>\n",
       "      <th>0</th>\n",
       "      <td>1</td>\n",
       "      <td>Alice</td>\n",
       "      <td>25</td>\n",
       "      <td>IT</td>\n",
       "    </tr>\n",
       "    <tr>\n",
       "      <th>1</th>\n",
       "      <td>2</td>\n",
       "      <td>Bob</td>\n",
       "      <td>30</td>\n",
       "      <td>HR</td>\n",
       "    </tr>\n",
       "    <tr>\n",
       "      <th>2</th>\n",
       "      <td>3</td>\n",
       "      <td>Charlie</td>\n",
       "      <td>35</td>\n",
       "      <td>IT</td>\n",
       "    </tr>\n",
       "    <tr>\n",
       "      <th>3</th>\n",
       "      <td>4</td>\n",
       "      <td>David</td>\n",
       "      <td>28</td>\n",
       "      <td>Finance</td>\n",
       "    </tr>\n",
       "    <tr>\n",
       "      <th>4</th>\n",
       "      <td>5</td>\n",
       "      <td>Eve</td>\n",
       "      <td>22</td>\n",
       "      <td>HR</td>\n",
       "    </tr>\n",
       "  </tbody>\n",
       "</table>\n",
       "</div>"
      ],
      "text/plain": [
       "   id     name  age department\n",
       "0   1    Alice   25         IT\n",
       "1   2      Bob   30         HR\n",
       "2   3  Charlie   35         IT\n",
       "3   4    David   28    Finance\n",
       "4   5      Eve   22         HR"
      ]
     },
     "execution_count": 3,
     "metadata": {},
     "output_type": "execute_result"
    }
   ],
   "source": [
    "df "
   ]
  },
  {
   "cell_type": "code",
   "execution_count": 4,
   "id": "d64e7aaa",
   "metadata": {},
   "outputs": [],
   "source": [
    "sql_1 = \"\"\"\n",
    "SELECT department, \n",
    "           COUNT(*) as count, \n",
    "           AVG(age) as avg_age\n",
    "    FROM employees\n",
    "    GROUP BY department\n",
    "    ORDER BY count DESC\n",
    "\"\"\""
   ]
  },
  {
   "cell_type": "code",
   "execution_count": 5,
   "id": "1512069c",
   "metadata": {},
   "outputs": [
    {
     "name": "stdout",
     "output_type": "stream",
     "text": [
      "  department  count  avg_age\n",
      "0         IT      2     30.0\n",
      "1         HR      2     26.0\n",
      "2    Finance      1     28.0\n"
     ]
    }
   ],
   "source": [
    "# Create a DuckDB connection\n",
    "con = duckdb.connect()\n",
    "\n",
    "# Register DataFrame as a table\n",
    "con.register('employees', df)\n",
    "\n",
    "# Simple query\n",
    "result = con.execute(sql_1).fetchdf()\n",
    "\n",
    "print(result)"
   ]
  },
  {
   "cell_type": "code",
   "execution_count": 6,
   "id": "cb978959",
   "metadata": {},
   "outputs": [],
   "source": [
    "sql_1_1 = \"\"\"\n",
    "SELECT department, \n",
    "           COUNT(*) as count, \n",
    "           AVG(age) as avg_age\n",
    "    FROM df  -- employees\n",
    "    GROUP BY department\n",
    "    ORDER BY count DESC\n",
    "\"\"\""
   ]
  },
  {
   "cell_type": "code",
   "execution_count": 7,
   "id": "0123f781",
   "metadata": {},
   "outputs": [
    {
     "data": {
      "text/html": [
       "<div>\n",
       "<style scoped>\n",
       "    .dataframe tbody tr th:only-of-type {\n",
       "        vertical-align: middle;\n",
       "    }\n",
       "\n",
       "    .dataframe tbody tr th {\n",
       "        vertical-align: top;\n",
       "    }\n",
       "\n",
       "    .dataframe thead th {\n",
       "        text-align: right;\n",
       "    }\n",
       "</style>\n",
       "<table border=\"1\" class=\"dataframe\">\n",
       "  <thead>\n",
       "    <tr style=\"text-align: right;\">\n",
       "      <th></th>\n",
       "      <th>department</th>\n",
       "      <th>count</th>\n",
       "      <th>avg_age</th>\n",
       "    </tr>\n",
       "  </thead>\n",
       "  <tbody>\n",
       "    <tr>\n",
       "      <th>0</th>\n",
       "      <td>IT</td>\n",
       "      <td>2</td>\n",
       "      <td>30.0</td>\n",
       "    </tr>\n",
       "    <tr>\n",
       "      <th>1</th>\n",
       "      <td>HR</td>\n",
       "      <td>2</td>\n",
       "      <td>26.0</td>\n",
       "    </tr>\n",
       "    <tr>\n",
       "      <th>2</th>\n",
       "      <td>Finance</td>\n",
       "      <td>1</td>\n",
       "      <td>28.0</td>\n",
       "    </tr>\n",
       "  </tbody>\n",
       "</table>\n",
       "</div>"
      ],
      "text/plain": [
       "  department  count  avg_age\n",
       "0         IT      2     30.0\n",
       "1         HR      2     26.0\n",
       "2    Finance      1     28.0"
      ]
     },
     "execution_count": 7,
     "metadata": {},
     "output_type": "execute_result"
    }
   ],
   "source": [
    "result_2 = duckdb.sql(sql_1_1).df()\n",
    "result_2"
   ]
  },
  {
   "cell_type": "code",
   "execution_count": 8,
   "id": "a3530d45",
   "metadata": {},
   "outputs": [],
   "source": [
    "file_csv_emp = \"employee.csv\""
   ]
  },
  {
   "cell_type": "code",
   "execution_count": 9,
   "id": "734bcc30",
   "metadata": {},
   "outputs": [],
   "source": [
    "df.to_csv(file_csv_emp, index=False)"
   ]
  },
  {
   "cell_type": "markdown",
   "id": "97ae2f7a",
   "metadata": {},
   "source": [
    "### demo-02 - Import CSV"
   ]
  },
  {
   "cell_type": "code",
   "execution_count": 10,
   "id": "ea55f84f",
   "metadata": {},
   "outputs": [],
   "source": [
    "df_emp = duckdb.read_csv(file_csv_emp)"
   ]
  },
  {
   "cell_type": "code",
   "execution_count": 11,
   "id": "284aa3b0",
   "metadata": {},
   "outputs": [
    {
     "data": {
      "text/plain": [
       "┌───────┬─────────┬───────┬────────────┐\n",
       "│  id   │  name   │  age  │ department │\n",
       "│ int64 │ varchar │ int64 │  varchar   │\n",
       "├───────┼─────────┼───────┼────────────┤\n",
       "│     1 │ Alice   │    25 │ IT         │\n",
       "│     2 │ Bob     │    30 │ HR         │\n",
       "│     3 │ Charlie │    35 │ IT         │\n",
       "│     4 │ David   │    28 │ Finance    │\n",
       "│     5 │ Eve     │    22 │ HR         │\n",
       "└───────┴─────────┴───────┴────────────┘"
      ]
     },
     "execution_count": 11,
     "metadata": {},
     "output_type": "execute_result"
    }
   ],
   "source": [
    "df_emp"
   ]
  },
  {
   "cell_type": "code",
   "execution_count": null,
   "id": "2a5e7ce4",
   "metadata": {},
   "outputs": [],
   "source": []
  },
  {
   "cell_type": "code",
   "execution_count": null,
   "id": "fcea9bb9",
   "metadata": {},
   "outputs": [],
   "source": []
  },
  {
   "cell_type": "markdown",
   "id": "b3ccaa04",
   "metadata": {},
   "source": [
    "### demo-04 - DuckDB beats Pandas"
   ]
  },
  {
   "cell_type": "code",
   "execution_count": 12,
   "id": "3c91b0b9",
   "metadata": {},
   "outputs": [],
   "source": [
    "import duckdb\n",
    "import pandas as pd\n",
    "import time"
   ]
  },
  {
   "cell_type": "code",
   "execution_count": 13,
   "id": "146e43b4",
   "metadata": {},
   "outputs": [],
   "source": [
    "def panda_way(df):\n",
    "    \n",
    "    # Method 1: Pandas\n",
    "    start_time = time.time()\n",
    "    try:\n",
    "        # Create modulo column first\n",
    "        df['id_mod'] = df['id'] % 1000\n",
    "        result_pd = df.groupby('id_mod')['value'].mean()\n",
    "        pd_time = time.time() - start_time\n",
    "#         print(f\"Pandas time: {pd_time:.2f} seconds\")\n",
    "        return 0, f\"Pandas time: {pd_time:.2f} seconds\"\n",
    "    except MemoryError:\n",
    "#         print(\"Pandas crashed - Out of memory!\")\n",
    "        return -1, \"Pandas crashed - Out of memory!\"\n",
    "\n",
    "def duck_way(df):\n",
    "    # Method 2: DuckDB    \n",
    "    start_time = time.time()\n",
    "    try:\n",
    "        result_duck = duckdb.sql(f\"\"\"\n",
    "            WITH d0 AS (\n",
    "                SELECT *, (id - (id/1000)*1000) as id_mod FROM df\n",
    "            )\n",
    "            SELECT id_mod, avg(value) as avg_value\n",
    "            FROM d0\n",
    "            GROUP BY id_mod\n",
    "        \"\"\").df()\n",
    "        duck_time = time.time() - start_time\n",
    "#         print(f\"DuckDB time: {duck_time:.2f} seconds\")\n",
    "        return 0, f\"DuckDB time: {duck_time:.2f} seconds\"\n",
    "    except Exception as e: \n",
    "        return -1, str(e)"
   ]
  },
  {
   "cell_type": "code",
   "execution_count": 14,
   "id": "df9e3a22",
   "metadata": {},
   "outputs": [
    {
     "name": "stdout",
     "output_type": "stream",
     "text": [
      "n_rows: 10000000 ...\n",
      "0 DuckDB time: 0.03 seconds\n",
      "0 Pandas time: 0.29 seconds\n",
      "n_rows: 50000000 ...\n",
      "0 DuckDB time: 0.13 seconds\n",
      "0 Pandas time: 1.74 seconds\n",
      "n_rows: 100000000 ...\n",
      "0 DuckDB time: 0.26 seconds\n",
      "0 Pandas time: 3.65 seconds\n",
      "n_rows: 500000000 ...\n",
      "0 DuckDB time: 2.01 seconds\n",
      "0 Pandas time: 64.29 seconds\n"
     ]
    }
   ],
   "source": [
    "# Generate a large dataset (adjust size based on your demo machine)\n",
    "for n_rows in [10_000_000, 50_000_000, 100_000_000, \n",
    "               500_000_000, \n",
    "               # 1_000_000_000,\n",
    "              ]:\n",
    "    \n",
    "    print(f\"n_rows: {n_rows} ...\")\n",
    "    \n",
    "    # prepare dataframe \n",
    "    df = pd.DataFrame({\n",
    "        'id': range(n_rows),\n",
    "        'value': range(n_rows)\n",
    "    })\n",
    "\n",
    "    # test duck\n",
    "    ncode, msg = duck_way(df)\n",
    "    print(ncode, msg)\n",
    "    \n",
    "    # test panda\n",
    "    ncode, msg = panda_way(df)\n",
    "    print(ncode, msg)"
   ]
  },
  {
   "cell_type": "markdown",
   "id": "76119ddf",
   "metadata": {},
   "source": [
    "**Pandas - Out-of-Memory Error** \n",
    "\n",
    "\n",
    "- Running: \n",
    "![Duck Beats Panda](panda-vs-duck-01.png)\n",
    "\n",
    "- Failing: \n",
    "![Out-of-Memory](panda-vs-duck-01-out-of-memory.png)"
   ]
  },
  {
   "cell_type": "raw",
   "id": "85343bf2",
   "metadata": {},
   "source": [
    "~\\anaconda3\\lib\\site-packages\\pandas\\core\\internals\\managers.py in _stack_arrays(tuples, dtype)\n",
    "   2310     shape = (len(arrays),) + first.shape\n",
    "   2311 \n",
    "-> 2312     stacked = np.empty(shape, dtype=dtype)\n",
    "   2313     for i, arr in enumerate(arrays):\n",
    "   2314         stacked[i] = arr\n",
    "\n",
    "MemoryError: Unable to allocate 14.9 GiB for an array with shape (2, 1000000000) and data type int64"
   ]
  },
  {
   "cell_type": "markdown",
   "id": "614f760c",
   "metadata": {},
   "source": [
    "This is a fantastic demonstration of the performance differences between Pandas and DuckDB! Let me analyze the key insights from your results:\n",
    "\n",
    "Dataset Size Progression:\n",
    "- 10M rows: Pandas (0.28s) vs DuckDB (0.10s) - ~2.8x faster\n",
    "- 50M rows: Pandas (1.44s) vs DuckDB (0.10s) - ~14.4x faster\n",
    "- 100M rows: Pandas (3.80s) vs DuckDB (0.15s) - ~25.3x faster\n",
    "- 500M rows: Pandas (76.95s) vs DuckDB (1.93s) - ~39.9x faster\n",
    "- 1B rows: Pandas (MemoryError) vs DuckDB (would likely work)\n",
    "\n",
    "Key Observations:\n",
    "1. The performance gap widens dramatically as data size increases\n",
    "2. Pandas hit a memory error trying to allocate 14.9 GB for an array with shape (2, 1000000000)\n",
    "3. DuckDB maintains near-linear scaling with data size\n",
    "4. Pandas performance degradation is super-linear with size\n",
    "\n",
    "This clearly demonstrates:\n",
    "- DuckDB's superior memory efficiency through out-of-core processing\n",
    "- The limitations of Pandas' in-memory model\n",
    "- Why DuckDB is better suited for large-scale data analysis\n",
    "\n",
    "It's particularly interesting that DuckDB maintained sub-2-second performance even at 500M rows while Pandas took over a minute before failing completely at 1B rows. This is exactly the kind of real-world benchmark that helps people understand when to choose each tool."
   ]
  },
  {
   "cell_type": "markdown",
   "id": "44d3057e",
   "metadata": {},
   "source": [
    "## Part 3: Hands-on Tutorial (20 minutes)\n",
    "\n",
    "### A. Data Import\n",
    "```python\n",
    "import duckdb\n",
    "import pandas as pd\n",
    "\n",
    "# Create a connection\n",
    "con = duckdb.connect()\n",
    "\n",
    "# CSV Import\n",
    "con.sql(\"\"\"\n",
    "    CREATE TABLE users AS \n",
    "    SELECT * FROM read_csv_auto('users.csv')\n",
    "\"\"\")\n",
    "\n",
    "# Parquet Import\n",
    "con.sql(\"\"\"\n",
    "    CREATE TABLE transactions AS \n",
    "    SELECT * FROM read_parquet('transactions.parquet')\n",
    "\"\"\")\n",
    "\n",
    "# JSON Import\n",
    "con.sql(\"\"\"\n",
    "    CREATE TABLE events AS \n",
    "    SELECT * FROM read_json_auto('events.json')\n",
    "\"\"\")\n",
    "\n",
    "# From Pandas DataFrame\n",
    "df = pd.read_csv('data.csv')\n",
    "con.sql(\"SELECT * FROM df\")  # Direct query on DataFrame\n",
    "```"
   ]
  },
  {
   "cell_type": "markdown",
   "id": "d8eaa4bb",
   "metadata": {},
   "source": [
    "### B. SQL Operations on DataFrames\n",
    "```python\n",
    "# Basic queries\n",
    "result = con.sql(\"\"\"\n",
    "    SELECT \n",
    "        user_id,\n",
    "        COUNT(*) as transaction_count,\n",
    "        SUM(amount) as total_spent\n",
    "    FROM transactions\n",
    "    GROUP BY user_id\n",
    "    ORDER BY total_spent DESC\n",
    "    LIMIT 5\n",
    "\"\"\").df()\n",
    "\n",
    "# Joins\n",
    "result = con.sql(\"\"\"\n",
    "    SELECT \n",
    "        u.name,\n",
    "        t.transaction_date,\n",
    "        t.amount\n",
    "    FROM users u\n",
    "    JOIN transactions t ON u.id = t.user_id\n",
    "    WHERE t.amount > 1000\n",
    "\"\"\").df()\n",
    "\n",
    "# Window Functions\n",
    "result = con.sql(\"\"\"\n",
    "    SELECT \n",
    "        *,\n",
    "        ROW_NUMBER() OVER (PARTITION BY user_id ORDER BY amount DESC) as rank\n",
    "    FROM transactions\n",
    "\"\"\").df()\n",
    "```"
   ]
  },
  {
   "cell_type": "markdown",
   "id": "89b9c81c",
   "metadata": {},
   "source": [
    "### C. Large Dataset Analysis\n",
    "```python\n",
    "# Reading a large Parquet file (>RAM size)\n",
    "con.sql(\"\"\"\n",
    "    SELECT \n",
    "        date_trunc('month', transaction_date) as month,\n",
    "        COUNT(*) as transaction_count,\n",
    "        SUM(amount) as total_amount,\n",
    "        AVG(amount) as avg_amount\n",
    "    FROM read_parquet('large_transactions.parquet')\n",
    "    GROUP BY month\n",
    "    ORDER BY month\n",
    "\"\"\").df()\n",
    "\n",
    "# Efficient joins with large datasets\n",
    "con.sql(\"\"\"\n",
    "    SELECT \n",
    "        category,\n",
    "        COUNT(DISTINCT user_id) as unique_users,\n",
    "        SUM(amount) as total_spent\n",
    "    FROM read_parquet('large_transactions.parquet') t\n",
    "    JOIN read_parquet('large_users.parquet') u \n",
    "        ON t.user_id = u.id\n",
    "    GROUP BY category\n",
    "    HAVING total_spent > 1000000\n",
    "\"\"\").df()\n",
    "```"
   ]
  },
  {
   "cell_type": "markdown",
   "id": "8ffd04f6",
   "metadata": {},
   "source": [
    "## Part 4: Resources (5 minutes)\n",
    "\n",
    "### GitHub \n",
    "- DuckDB Main Repository: https://github.com/duckdb/duckdb\n",
    "- [Awesome DuckDB](https://github.com/davidgasquez/awesome-duckdb)\n",
    "\n",
    "\n",
    "### Blog Posts\n",
    "- [DuckDB vs Pandas vs Polars](https://motherduck.com/blog/duckdb-versus-pandas-versus-polars/)\n",
    "- [DuckDB for Data Engineers by 10x](https://www.datacamp.com/tutorial/duckdb-to-speed-up-data-pipelines)\n",
    "- [Using DuckDB in Python: A Comprehensive Guide](https://medium.com/@anshubantra/using-duckdb-in-python-a-comprehensive-guide-d14bc0b06546)\n",
    "\n",
    "### YouTube Videos\n",
    "- [Deep dive into DuckDB](https://duckdb.org/media/deepdive-into-duckdb/)\n",
    "\n",
    "### Documentation\n",
    "- Official Documentation: https://duckdb.org/docs/\n",
    "- SQL Reference: https://duckdb.org/docs/sql/introduction\n",
    "- Python API: https://duckdb.org/docs/api/python/overview\n",
    "\n",
    "### Books\n",
    "- [DuckDB in Action](https://github.com/duckdb-in-action/examples)\n",
    "\n"
   ]
  },
  {
   "cell_type": "code",
   "execution_count": null,
   "id": "de473283",
   "metadata": {},
   "outputs": [],
   "source": []
  }
 ],
 "metadata": {
  "kernelspec": {
   "display_name": "Python 3 (ipykernel)",
   "language": "python",
   "name": "python3"
  },
  "language_info": {
   "codemirror_mode": {
    "name": "ipython",
    "version": 3
   },
   "file_extension": ".py",
   "mimetype": "text/x-python",
   "name": "python",
   "nbconvert_exporter": "python",
   "pygments_lexer": "ipython3",
   "version": "3.9.13"
  },
  "nbTranslate": {
   "displayLangs": [
    "*"
   ],
   "hotkey": "alt-t",
   "langInMainMenu": true,
   "sourceLang": "en",
   "targetLang": "fr",
   "useGoogleTranslate": true
  },
  "toc": {
   "base_numbering": 1,
   "nav_menu": {},
   "number_sections": true,
   "sideBar": true,
   "skip_h1_title": false,
   "title_cell": "Table of Contents",
   "title_sidebar": "Contents",
   "toc_cell": false,
   "toc_position": {},
   "toc_section_display": true,
   "toc_window_display": false
  }
 },
 "nbformat": 4,
 "nbformat_minor": 5
}
