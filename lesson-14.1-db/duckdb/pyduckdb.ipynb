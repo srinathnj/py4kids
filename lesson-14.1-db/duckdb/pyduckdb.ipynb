{
 "cells": [
  {
   "cell_type": "markdown",
   "metadata": {},
   "source": [
    "## DuckDB\n",
    "\n",
    "- [DuckDB-Web](https://duckdb.org/)\n",
    "- [GitHub](https://github.com/duckdb/duckdb)\n",
    "- [get started with](https://github.com/duckdb/duckdb/blob/master/examples/python/duckdb-python.py)\n",
    "\n",
    "- [The Guide to Data Analysis with DuckDB](https://www.analyticsvidhya.com/blog/2021/12/the-guide-to-data-analysis-with-duckdb/)\n",
    "\n",
    "```\n",
    "$ pip install duckdb\n",
    "```"
   ]
  },
  {
   "cell_type": "code",
   "execution_count": 1,
   "metadata": {},
   "outputs": [],
   "source": [
    "import duckdb\n",
    "import pandas as pd"
   ]
  },
  {
   "cell_type": "code",
   "execution_count": 2,
   "metadata": {},
   "outputs": [],
   "source": [
    "# basic SQL API\n",
    "\n",
    "# connect to an in-memory temporary database\n",
    "# when a file name is given, DuckDB will be created (if new) and connection established \n",
    "conn = duckdb.connect(\"test.duckdb\")\n",
    "\n",
    "# if you want, you can create a cursor() like described in PEP 249 but its fully redundant\n",
    "cursor = conn.cursor()"
   ]
  },
  {
   "cell_type": "markdown",
   "metadata": {},
   "source": [
    "### base table & dataframe"
   ]
  },
  {
   "cell_type": "markdown",
   "metadata": {},
   "source": [
    "#### Create"
   ]
  },
  {
   "cell_type": "code",
   "execution_count": 4,
   "metadata": {},
   "outputs": [
    {
     "data": {
      "text/plain": [
       "<duckdb.DuckDBPyConnection at 0x1c7e6ce07b0>"
      ]
     },
     "execution_count": 4,
     "metadata": {},
     "output_type": "execute_result"
    }
   ],
   "source": [
    "# run arbitrary SQL commands\n",
    "conn.execute(\"CREATE TABLE if not exists test_table (i INTEGER, j STRING)\")"
   ]
  },
  {
   "cell_type": "code",
   "execution_count": 5,
   "metadata": {},
   "outputs": [
    {
     "data": {
      "text/plain": [
       "<duckdb.DuckDBPyConnection at 0x24436fbb330>"
      ]
     },
     "execution_count": 5,
     "metadata": {},
     "output_type": "execute_result"
    }
   ],
   "source": [
    "# add some data\n",
    "conn.execute(\"INSERT INTO test_table VALUES (1, 'one')\")\n",
    "\n",
    "# we can use placeholders for parameters\n",
    "conn.execute(\"INSERT INTO test_table VALUES (?, ?)\", [2, 'two'])\n",
    "\n",
    "# we can provide multiple sets of parameters to executemany()\n",
    "conn.executemany(\"INSERT INTO test_table VALUES (?, ?)\", [[3, 'three'], [4, 'four']])"
   ]
  },
  {
   "cell_type": "code",
   "execution_count": 5,
   "metadata": {},
   "outputs": [
    {
     "data": {
      "text/html": [
       "<div>\n",
       "<style scoped>\n",
       "    .dataframe tbody tr th:only-of-type {\n",
       "        vertical-align: middle;\n",
       "    }\n",
       "\n",
       "    .dataframe tbody tr th {\n",
       "        vertical-align: top;\n",
       "    }\n",
       "\n",
       "    .dataframe thead th {\n",
       "        text-align: right;\n",
       "    }\n",
       "</style>\n",
       "<table border=\"1\" class=\"dataframe\">\n",
       "  <thead>\n",
       "    <tr style=\"text-align: right;\">\n",
       "      <th></th>\n",
       "      <th>i</th>\n",
       "      <th>j</th>\n",
       "    </tr>\n",
       "  </thead>\n",
       "  <tbody>\n",
       "    <tr>\n",
       "      <th>0</th>\n",
       "      <td>1</td>\n",
       "      <td>one</td>\n",
       "    </tr>\n",
       "    <tr>\n",
       "      <th>1</th>\n",
       "      <td>2</td>\n",
       "      <td>two</td>\n",
       "    </tr>\n",
       "    <tr>\n",
       "      <th>2</th>\n",
       "      <td>3</td>\n",
       "      <td>three</td>\n",
       "    </tr>\n",
       "    <tr>\n",
       "      <th>3</th>\n",
       "      <td>4</td>\n",
       "      <td>four</td>\n",
       "    </tr>\n",
       "    <tr>\n",
       "      <th>4</th>\n",
       "      <td>6</td>\n",
       "      <td></td>\n",
       "    </tr>\n",
       "  </tbody>\n",
       "</table>\n",
       "</div>"
      ],
      "text/plain": [
       "   i      j\n",
       "0  1    one\n",
       "1  2    two\n",
       "2  3  three\n",
       "3  4   four\n",
       "4  6       "
      ]
     },
     "execution_count": 5,
     "metadata": {},
     "output_type": "execute_result"
    }
   ],
   "source": [
    "# fetch as pandas data frame\n",
    "df = conn.execute(\"SELECT * FROM test_table\").fetchdf()\n",
    "df"
   ]
  },
  {
   "cell_type": "code",
   "execution_count": 6,
   "metadata": {},
   "outputs": [
    {
     "data": {
      "text/plain": [
       "{'i': array([1, 2, 3, 4, 6]),\n",
       " 'j': array(['one', 'two', 'three', 'four', ''], dtype=object)}"
      ]
     },
     "execution_count": 6,
     "metadata": {},
     "output_type": "execute_result"
    }
   ],
   "source": [
    "# fetch as list of masked numpy arrays, cleaner when handling NULLs\n",
    "res = conn.execute(\"SELECT * FROM test_table\").fetchnumpy()\n",
    "res"
   ]
  },
  {
   "cell_type": "markdown",
   "metadata": {},
   "source": [
    "#### Insert"
   ]
  },
  {
   "cell_type": "code",
   "execution_count": 7,
   "metadata": {},
   "outputs": [
    {
     "data": {
      "text/html": [
       "<div>\n",
       "<style scoped>\n",
       "    .dataframe tbody tr th:only-of-type {\n",
       "        vertical-align: middle;\n",
       "    }\n",
       "\n",
       "    .dataframe tbody tr th {\n",
       "        vertical-align: top;\n",
       "    }\n",
       "\n",
       "    .dataframe thead th {\n",
       "        text-align: right;\n",
       "    }\n",
       "</style>\n",
       "<table border=\"1\" class=\"dataframe\">\n",
       "  <thead>\n",
       "    <tr style=\"text-align: right;\">\n",
       "      <th></th>\n",
       "      <th>i</th>\n",
       "      <th>j</th>\n",
       "    </tr>\n",
       "  </thead>\n",
       "  <tbody>\n",
       "    <tr>\n",
       "      <th>0</th>\n",
       "      <td>1</td>\n",
       "      <td>one</td>\n",
       "    </tr>\n",
       "    <tr>\n",
       "      <th>1</th>\n",
       "      <td>2</td>\n",
       "      <td>two</td>\n",
       "    </tr>\n",
       "    <tr>\n",
       "      <th>2</th>\n",
       "      <td>3</td>\n",
       "      <td>three</td>\n",
       "    </tr>\n",
       "    <tr>\n",
       "      <th>3</th>\n",
       "      <td>4</td>\n",
       "      <td>four</td>\n",
       "    </tr>\n",
       "    <tr>\n",
       "      <th>4</th>\n",
       "      <td>6</td>\n",
       "      <td></td>\n",
       "    </tr>\n",
       "    <tr>\n",
       "      <th>5</th>\n",
       "      <td>5</td>\n",
       "      <td>NaN</td>\n",
       "    </tr>\n",
       "    <tr>\n",
       "      <th>6</th>\n",
       "      <td>6</td>\n",
       "      <td></td>\n",
       "    </tr>\n",
       "  </tbody>\n",
       "</table>\n",
       "</div>"
      ],
      "text/plain": [
       "   i      j\n",
       "0  1    one\n",
       "1  2    two\n",
       "2  3  three\n",
       "3  4   four\n",
       "4  6       \n",
       "5  5    NaN\n",
       "6  6       "
      ]
     },
     "execution_count": 7,
     "metadata": {},
     "output_type": "execute_result"
    }
   ],
   "source": [
    "conn.executemany(\"INSERT INTO test_table VALUES (?, ?)\", [[5, None], [6, '']])\n",
    "\n",
    "# fetch as dataframe\n",
    "df = conn.execute(\"SELECT * FROM test_table\").fetchdf()\n",
    "df"
   ]
  },
  {
   "cell_type": "code",
   "execution_count": 8,
   "metadata": {},
   "outputs": [
    {
     "data": {
      "text/plain": [
       "{'i': array([1, 2, 3, 4, 6, 5, 6]),\n",
       " 'j': masked_array(data=['one', 'two', 'three', 'four', '', --, ''],\n",
       "              mask=[False, False, False, False, False,  True, False],\n",
       "        fill_value='?',\n",
       "             dtype=object)}"
      ]
     },
     "execution_count": 8,
     "metadata": {},
     "output_type": "execute_result"
    }
   ],
   "source": [
    "# fetch as list of masked numpy arrays, cleaner when handling NULLs\n",
    "res = conn.execute(\"SELECT * FROM test_table\").fetchnumpy()\n",
    "res"
   ]
  },
  {
   "cell_type": "markdown",
   "metadata": {},
   "source": [
    "#### Update"
   ]
  },
  {
   "cell_type": "code",
   "execution_count": 9,
   "metadata": {},
   "outputs": [
    {
     "data": {
      "text/html": [
       "<div>\n",
       "<style scoped>\n",
       "    .dataframe tbody tr th:only-of-type {\n",
       "        vertical-align: middle;\n",
       "    }\n",
       "\n",
       "    .dataframe tbody tr th {\n",
       "        vertical-align: top;\n",
       "    }\n",
       "\n",
       "    .dataframe thead th {\n",
       "        text-align: right;\n",
       "    }\n",
       "</style>\n",
       "<table border=\"1\" class=\"dataframe\">\n",
       "  <thead>\n",
       "    <tr style=\"text-align: right;\">\n",
       "      <th></th>\n",
       "      <th>Count</th>\n",
       "    </tr>\n",
       "  </thead>\n",
       "  <tbody>\n",
       "    <tr>\n",
       "      <th>0</th>\n",
       "      <td>1</td>\n",
       "    </tr>\n",
       "  </tbody>\n",
       "</table>\n",
       "</div>"
      ],
      "text/plain": [
       "   Count\n",
       "0      1"
      ]
     },
     "execution_count": 9,
     "metadata": {},
     "output_type": "execute_result"
    }
   ],
   "source": [
    "test_df_3 = conn.execute(\"update test_table set j = 'NULL' where i=5;\").fetchdf()\n",
    "test_df_3"
   ]
  },
  {
   "cell_type": "code",
   "execution_count": 10,
   "metadata": {},
   "outputs": [
    {
     "data": {
      "text/html": [
       "<div>\n",
       "<style scoped>\n",
       "    .dataframe tbody tr th:only-of-type {\n",
       "        vertical-align: middle;\n",
       "    }\n",
       "\n",
       "    .dataframe tbody tr th {\n",
       "        vertical-align: top;\n",
       "    }\n",
       "\n",
       "    .dataframe thead th {\n",
       "        text-align: right;\n",
       "    }\n",
       "</style>\n",
       "<table border=\"1\" class=\"dataframe\">\n",
       "  <thead>\n",
       "    <tr style=\"text-align: right;\">\n",
       "      <th></th>\n",
       "      <th>i</th>\n",
       "      <th>j</th>\n",
       "    </tr>\n",
       "  </thead>\n",
       "  <tbody>\n",
       "    <tr>\n",
       "      <th>0</th>\n",
       "      <td>1</td>\n",
       "      <td>one</td>\n",
       "    </tr>\n",
       "    <tr>\n",
       "      <th>1</th>\n",
       "      <td>2</td>\n",
       "      <td>two</td>\n",
       "    </tr>\n",
       "    <tr>\n",
       "      <th>2</th>\n",
       "      <td>3</td>\n",
       "      <td>three</td>\n",
       "    </tr>\n",
       "    <tr>\n",
       "      <th>3</th>\n",
       "      <td>4</td>\n",
       "      <td>four</td>\n",
       "    </tr>\n",
       "    <tr>\n",
       "      <th>4</th>\n",
       "      <td>6</td>\n",
       "      <td></td>\n",
       "    </tr>\n",
       "    <tr>\n",
       "      <th>5</th>\n",
       "      <td>5</td>\n",
       "      <td>NULL</td>\n",
       "    </tr>\n",
       "    <tr>\n",
       "      <th>6</th>\n",
       "      <td>6</td>\n",
       "      <td></td>\n",
       "    </tr>\n",
       "  </tbody>\n",
       "</table>\n",
       "</div>"
      ],
      "text/plain": [
       "   i      j\n",
       "0  1    one\n",
       "1  2    two\n",
       "2  3  three\n",
       "3  4   four\n",
       "4  6       \n",
       "5  5   NULL\n",
       "6  6       "
      ]
     },
     "execution_count": 10,
     "metadata": {},
     "output_type": "execute_result"
    }
   ],
   "source": [
    "test_df_3a = conn.execute(\"SELECT * from test_table;\").fetchdf()\n",
    "test_df_3a"
   ]
  },
  {
   "cell_type": "markdown",
   "metadata": {},
   "source": [
    "#### Delete"
   ]
  },
  {
   "cell_type": "code",
   "execution_count": 11,
   "metadata": {},
   "outputs": [
    {
     "data": {
      "text/html": [
       "<div>\n",
       "<style scoped>\n",
       "    .dataframe tbody tr th:only-of-type {\n",
       "        vertical-align: middle;\n",
       "    }\n",
       "\n",
       "    .dataframe tbody tr th {\n",
       "        vertical-align: top;\n",
       "    }\n",
       "\n",
       "    .dataframe thead th {\n",
       "        text-align: right;\n",
       "    }\n",
       "</style>\n",
       "<table border=\"1\" class=\"dataframe\">\n",
       "  <thead>\n",
       "    <tr style=\"text-align: right;\">\n",
       "      <th></th>\n",
       "      <th>Count</th>\n",
       "    </tr>\n",
       "  </thead>\n",
       "  <tbody>\n",
       "    <tr>\n",
       "      <th>0</th>\n",
       "      <td>1</td>\n",
       "    </tr>\n",
       "  </tbody>\n",
       "</table>\n",
       "</div>"
      ],
      "text/plain": [
       "   Count\n",
       "0      1"
      ]
     },
     "execution_count": 11,
     "metadata": {},
     "output_type": "execute_result"
    }
   ],
   "source": [
    "test_df_4 = conn.execute(\"delete from test_table where i=5;\").fetchdf()\n",
    "test_df_4"
   ]
  },
  {
   "cell_type": "code",
   "execution_count": 12,
   "metadata": {},
   "outputs": [
    {
     "data": {
      "text/html": [
       "<div>\n",
       "<style scoped>\n",
       "    .dataframe tbody tr th:only-of-type {\n",
       "        vertical-align: middle;\n",
       "    }\n",
       "\n",
       "    .dataframe tbody tr th {\n",
       "        vertical-align: top;\n",
       "    }\n",
       "\n",
       "    .dataframe thead th {\n",
       "        text-align: right;\n",
       "    }\n",
       "</style>\n",
       "<table border=\"1\" class=\"dataframe\">\n",
       "  <thead>\n",
       "    <tr style=\"text-align: right;\">\n",
       "      <th></th>\n",
       "      <th>i</th>\n",
       "      <th>j</th>\n",
       "    </tr>\n",
       "  </thead>\n",
       "  <tbody>\n",
       "    <tr>\n",
       "      <th>0</th>\n",
       "      <td>1</td>\n",
       "      <td>one</td>\n",
       "    </tr>\n",
       "    <tr>\n",
       "      <th>1</th>\n",
       "      <td>2</td>\n",
       "      <td>two</td>\n",
       "    </tr>\n",
       "    <tr>\n",
       "      <th>2</th>\n",
       "      <td>3</td>\n",
       "      <td>three</td>\n",
       "    </tr>\n",
       "    <tr>\n",
       "      <th>3</th>\n",
       "      <td>4</td>\n",
       "      <td>four</td>\n",
       "    </tr>\n",
       "    <tr>\n",
       "      <th>4</th>\n",
       "      <td>6</td>\n",
       "      <td></td>\n",
       "    </tr>\n",
       "    <tr>\n",
       "      <th>5</th>\n",
       "      <td>6</td>\n",
       "      <td></td>\n",
       "    </tr>\n",
       "  </tbody>\n",
       "</table>\n",
       "</div>"
      ],
      "text/plain": [
       "   i      j\n",
       "0  1    one\n",
       "1  2    two\n",
       "2  3  three\n",
       "3  4   four\n",
       "4  6       \n",
       "5  6       "
      ]
     },
     "execution_count": 12,
     "metadata": {},
     "output_type": "execute_result"
    }
   ],
   "source": [
    "test_df_4a = conn.execute(\"SELECT * from test_table;\").fetchdf()\n",
    "test_df_4a"
   ]
  },
  {
   "cell_type": "code",
   "execution_count": 13,
   "metadata": {},
   "outputs": [
    {
     "data": {
      "text/html": [
       "<div>\n",
       "<style scoped>\n",
       "    .dataframe tbody tr th:only-of-type {\n",
       "        vertical-align: middle;\n",
       "    }\n",
       "\n",
       "    .dataframe tbody tr th {\n",
       "        vertical-align: top;\n",
       "    }\n",
       "\n",
       "    .dataframe thead th {\n",
       "        text-align: right;\n",
       "    }\n",
       "</style>\n",
       "<table border=\"1\" class=\"dataframe\">\n",
       "  <thead>\n",
       "    <tr style=\"text-align: right;\">\n",
       "      <th></th>\n",
       "      <th>i</th>\n",
       "      <th>j</th>\n",
       "    </tr>\n",
       "  </thead>\n",
       "  <tbody>\n",
       "    <tr>\n",
       "      <th>0</th>\n",
       "      <td>6</td>\n",
       "      <td></td>\n",
       "    </tr>\n",
       "    <tr>\n",
       "      <th>1</th>\n",
       "      <td>6</td>\n",
       "      <td></td>\n",
       "    </tr>\n",
       "  </tbody>\n",
       "</table>\n",
       "</div>"
      ],
      "text/plain": [
       "   i j\n",
       "0  6  \n",
       "1  6  "
      ]
     },
     "execution_count": 13,
     "metadata": {},
     "output_type": "execute_result"
    }
   ],
   "source": [
    "test_df_5 = conn.execute(\"SELECT * from test_table where j = '';\").fetchdf()\n",
    "test_df_5"
   ]
  },
  {
   "cell_type": "markdown",
   "metadata": {},
   "source": [
    "#### Support Common Table Expression\n",
    "\n",
    "https://github.com/duckdb/duckdb/pull/404"
   ]
  },
  {
   "cell_type": "code",
   "execution_count": 19,
   "metadata": {},
   "outputs": [
    {
     "data": {
      "text/html": [
       "<div>\n",
       "<style scoped>\n",
       "    .dataframe tbody tr th:only-of-type {\n",
       "        vertical-align: middle;\n",
       "    }\n",
       "\n",
       "    .dataframe tbody tr th {\n",
       "        vertical-align: top;\n",
       "    }\n",
       "\n",
       "    .dataframe thead th {\n",
       "        text-align: right;\n",
       "    }\n",
       "</style>\n",
       "<table border=\"1\" class=\"dataframe\">\n",
       "  <thead>\n",
       "    <tr style=\"text-align: right;\">\n",
       "      <th></th>\n",
       "      <th>min(a1.x)</th>\n",
       "      <th>max(a2.x)</th>\n",
       "    </tr>\n",
       "  </thead>\n",
       "  <tbody>\n",
       "    <tr>\n",
       "      <th>0</th>\n",
       "      <td>1</td>\n",
       "      <td>5</td>\n",
       "    </tr>\n",
       "  </tbody>\n",
       "</table>\n",
       "</div>"
      ],
      "text/plain": [
       "   min(a1.x)  max(a2.x)\n",
       "0          1          5"
      ]
     },
     "execution_count": 19,
     "metadata": {},
     "output_type": "execute_result"
    }
   ],
   "source": [
    "sql_stmt = \"\"\"\n",
    "--with recursive t as (select 42 as x union all select 42) select * from t;\n",
    "with recursive t as (select 1 as x union all select x+1 from t where x < 5) select min(a1.x), max(a2.x) from t a1, t a2;\n",
    "\"\"\"\n",
    "\n",
    "test_df_cte = conn.execute(sql_stmt).fetchdf()\n",
    "test_df_cte"
   ]
  },
  {
   "cell_type": "markdown",
   "metadata": {},
   "source": [
    "### dataframe & view"
   ]
  },
  {
   "cell_type": "code",
   "execution_count": 14,
   "metadata": {},
   "outputs": [
    {
     "data": {
      "text/html": [
       "<div>\n",
       "<style scoped>\n",
       "    .dataframe tbody tr th:only-of-type {\n",
       "        vertical-align: middle;\n",
       "    }\n",
       "\n",
       "    .dataframe tbody tr th {\n",
       "        vertical-align: top;\n",
       "    }\n",
       "\n",
       "    .dataframe thead th {\n",
       "        text-align: right;\n",
       "    }\n",
       "</style>\n",
       "<table border=\"1\" class=\"dataframe\">\n",
       "  <thead>\n",
       "    <tr style=\"text-align: right;\">\n",
       "      <th></th>\n",
       "      <th>i</th>\n",
       "      <th>j</th>\n",
       "    </tr>\n",
       "  </thead>\n",
       "  <tbody>\n",
       "    <tr>\n",
       "      <th>0</th>\n",
       "      <td>1</td>\n",
       "      <td>one</td>\n",
       "    </tr>\n",
       "    <tr>\n",
       "      <th>1</th>\n",
       "      <td>2</td>\n",
       "      <td>two</td>\n",
       "    </tr>\n",
       "    <tr>\n",
       "      <th>2</th>\n",
       "      <td>3</td>\n",
       "      <td>three</td>\n",
       "    </tr>\n",
       "    <tr>\n",
       "      <th>3</th>\n",
       "      <td>4</td>\n",
       "      <td>four</td>\n",
       "    </tr>\n",
       "    <tr>\n",
       "      <th>4</th>\n",
       "      <td>5</td>\n",
       "      <td>None</td>\n",
       "    </tr>\n",
       "    <tr>\n",
       "      <th>5</th>\n",
       "      <td>6</td>\n",
       "      <td></td>\n",
       "    </tr>\n",
       "  </tbody>\n",
       "</table>\n",
       "</div>"
      ],
      "text/plain": [
       "   i      j\n",
       "0  1    one\n",
       "1  2    two\n",
       "2  3  three\n",
       "3  4   four\n",
       "4  5   None\n",
       "5  6       "
      ]
     },
     "execution_count": 14,
     "metadata": {},
     "output_type": "execute_result"
    }
   ],
   "source": [
    "# we can query pandas data frames as if they were SQL views\n",
    "# create a sample pandas data frame\n",
    "\n",
    "test_df = pd.DataFrame.from_dict({\"i\":[1, 2, 3, 4,5,6], \"j\":[\"one\", \"two\", \"three\", \"four\", None, \"\"]})\n",
    "test_df"
   ]
  },
  {
   "cell_type": "code",
   "execution_count": 15,
   "metadata": {},
   "outputs": [
    {
     "data": {
      "text/html": [
       "<div>\n",
       "<style scoped>\n",
       "    .dataframe tbody tr th:only-of-type {\n",
       "        vertical-align: middle;\n",
       "    }\n",
       "\n",
       "    .dataframe tbody tr th {\n",
       "        vertical-align: top;\n",
       "    }\n",
       "\n",
       "    .dataframe thead th {\n",
       "        text-align: right;\n",
       "    }\n",
       "</style>\n",
       "<table border=\"1\" class=\"dataframe\">\n",
       "  <thead>\n",
       "    <tr style=\"text-align: right;\">\n",
       "      <th></th>\n",
       "      <th>i</th>\n",
       "      <th>j</th>\n",
       "    </tr>\n",
       "  </thead>\n",
       "  <tbody>\n",
       "    <tr>\n",
       "      <th>0</th>\n",
       "      <td>1</td>\n",
       "      <td>one</td>\n",
       "    </tr>\n",
       "    <tr>\n",
       "      <th>1</th>\n",
       "      <td>2</td>\n",
       "      <td>two</td>\n",
       "    </tr>\n",
       "    <tr>\n",
       "      <th>2</th>\n",
       "      <td>3</td>\n",
       "      <td>three</td>\n",
       "    </tr>\n",
       "    <tr>\n",
       "      <th>3</th>\n",
       "      <td>4</td>\n",
       "      <td>four</td>\n",
       "    </tr>\n",
       "    <tr>\n",
       "      <th>4</th>\n",
       "      <td>5</td>\n",
       "      <td>NaN</td>\n",
       "    </tr>\n",
       "    <tr>\n",
       "      <th>5</th>\n",
       "      <td>6</td>\n",
       "      <td></td>\n",
       "    </tr>\n",
       "  </tbody>\n",
       "</table>\n",
       "</div>"
      ],
      "text/plain": [
       "   i      j\n",
       "0  1    one\n",
       "1  2    two\n",
       "2  3  three\n",
       "3  4   four\n",
       "4  5    NaN\n",
       "5  6       "
      ]
     },
     "execution_count": 15,
     "metadata": {},
     "output_type": "execute_result"
    }
   ],
   "source": [
    "# make this data frame available as a view in duckdb\n",
    "conn.register(\"test_df\", test_df)\n",
    "test_df_2 = conn.execute(\"SELECT * from test_df;\").fetchdf()\n",
    "test_df_2"
   ]
  },
  {
   "cell_type": "markdown",
   "metadata": {},
   "source": [
    "dataframe view cannot be updated"
   ]
  },
  {
   "cell_type": "code",
   "execution_count": 13,
   "metadata": {},
   "outputs": [
    {
     "ename": "BinderException",
     "evalue": "Binder Error: Can only update base table!",
     "output_type": "error",
     "traceback": [
      "\u001b[1;31m---------------------------------------------------------------------------\u001b[0m",
      "\u001b[1;31mBinderException\u001b[0m                           Traceback (most recent call last)",
      "\u001b[1;32m~\\AppData\\Local\\Temp\\ipykernel_9932\\1022052797.py\u001b[0m in \u001b[0;36m<module>\u001b[1;34m\u001b[0m\n\u001b[1;32m----> 1\u001b[1;33m \u001b[0mtest_df_3\u001b[0m \u001b[1;33m=\u001b[0m \u001b[0mconn\u001b[0m\u001b[1;33m.\u001b[0m\u001b[0mexecute\u001b[0m\u001b[1;33m(\u001b[0m\u001b[1;34m\"update test_df set j = 'NULL' where i=5;\"\u001b[0m\u001b[1;33m)\u001b[0m\u001b[1;33m.\u001b[0m\u001b[0mfetchdf\u001b[0m\u001b[1;33m(\u001b[0m\u001b[1;33m)\u001b[0m\u001b[1;33m\u001b[0m\u001b[1;33m\u001b[0m\u001b[0m\n\u001b[0m\u001b[0;32m      2\u001b[0m \u001b[0mtest_df_3\u001b[0m\u001b[1;33m\u001b[0m\u001b[1;33m\u001b[0m\u001b[0m\n",
      "\u001b[1;31mBinderException\u001b[0m: Binder Error: Can only update base table!"
     ]
    }
   ],
   "source": [
    "test_df_3 = conn.execute(\"update test_df set j = 'NULL' where i=5;\").fetchdf()\n",
    "test_df_3"
   ]
  },
  {
   "cell_type": "markdown",
   "metadata": {},
   "source": [
    "### Relation API"
   ]
  },
  {
   "cell_type": "code",
   "execution_count": 16,
   "metadata": {},
   "outputs": [
    {
     "name": "stdout",
     "output_type": "stream",
     "text": [
      "---------------------\n",
      "--- Relation Tree ---\n",
      "---------------------\n",
      "pandas_scan(0x2cfb9088df0)\n",
      "\n",
      "---------------------\n",
      "-- Result Columns  --\n",
      "---------------------\n",
      "- i (BIGINT)\n",
      "- j (VARCHAR)\n",
      "\n",
      "---------------------\n",
      "-- Result Preview  --\n",
      "---------------------\n",
      "i\tj\t\n",
      "BIGINT\tVARCHAR\t\n",
      "[ Rows: 6]\n",
      "1\tone\n",
      "2\ttwo\n",
      "3\tthree\n",
      "4\tfour\n",
      "5\tNULL\n",
      "6\t\n",
      "\n",
      "\n",
      "\n"
     ]
    }
   ],
   "source": [
    "# relation API, programmatic querying. relations are lazily evaluated chains of relational operators\n",
    "\n",
    "# create a \"relation\" from a pandas data frame with an existing connection\n",
    "rel = conn.from_df(test_df)\n",
    "print(rel)"
   ]
  },
  {
   "cell_type": "code",
   "execution_count": 17,
   "metadata": {},
   "outputs": [
    {
     "name": "stdout",
     "output_type": "stream",
     "text": [
      "---------------------\n",
      "--- Relation Tree ---\n",
      "---------------------\n",
      "pandas_scan(0x2cfb9088a60)\n",
      "\n",
      "---------------------\n",
      "-- Result Columns  --\n",
      "---------------------\n",
      "- i (BIGINT)\n",
      "- j (VARCHAR)\n",
      "\n",
      "---------------------\n",
      "-- Result Preview  --\n",
      "---------------------\n",
      "i\tj\t\n",
      "BIGINT\tVARCHAR\t\n",
      "[ Rows: 6]\n",
      "1\tone\n",
      "2\ttwo\n",
      "3\tthree\n",
      "4\tfour\n",
      "5\tNULL\n",
      "6\t\n",
      "\n",
      "\n",
      "\n"
     ]
    }
   ],
   "source": [
    "# alternative shorthand, use a built-in default connection to create a relation from a pandas data frame\n",
    "rel = duckdb.df(test_df)\n",
    "print(rel)"
   ]
  },
  {
   "cell_type": "code",
   "execution_count": 18,
   "metadata": {},
   "outputs": [],
   "source": [
    "# create a relation from a CSV file\n",
    "\n",
    "# first create a CSV file from our pandas example \n",
    "import tempfile, os\n",
    "temp_file_name = os.path.join(tempfile.mkdtemp(), next(tempfile._get_candidate_names()))\n",
    "test_df.to_csv(temp_file_name, index=False)"
   ]
  },
  {
   "cell_type": "code",
   "execution_count": 20,
   "metadata": {},
   "outputs": [
    {
     "data": {
      "text/plain": [
       "'C:\\\\Users\\\\w_gon\\\\AppData\\\\Local\\\\Temp\\\\tmpprkfi2ih\\\\pr4pgac8'"
      ]
     },
     "execution_count": 20,
     "metadata": {},
     "output_type": "execute_result"
    }
   ],
   "source": [
    "temp_file_name"
   ]
  },
  {
   "cell_type": "markdown",
   "metadata": {},
   "source": [
    "<img src=tmpcsv.png>"
   ]
  },
  {
   "cell_type": "code",
   "execution_count": 21,
   "metadata": {},
   "outputs": [
    {
     "name": "stdout",
     "output_type": "stream",
     "text": [
      "---------------------\n",
      "--- Relation Tree ---\n",
      "---------------------\n",
      "read_csv_auto(C:\\Users\\w_gon\\AppData\\Local\\Temp\\tmpprkfi2ih\\pr4pgac8)\n",
      "\n",
      "---------------------\n",
      "-- Result Columns  --\n",
      "---------------------\n",
      "- i (INTEGER)\n",
      "- j (VARCHAR)\n",
      "\n",
      "---------------------\n",
      "-- Result Preview  --\n",
      "---------------------\n",
      "i\tj\t\n",
      "INTEGER\tVARCHAR\t\n",
      "[ Rows: 6]\n",
      "1\tone\n",
      "2\ttwo\n",
      "3\tthree\n",
      "4\tfour\n",
      "5\tNULL\n",
      "6\tNULL\n",
      "\n",
      "\n",
      "\n"
     ]
    }
   ],
   "source": [
    "# now create a relation from it\n",
    "rel = duckdb.from_csv_auto(temp_file_name)\n",
    "print(rel)"
   ]
  },
  {
   "cell_type": "code",
   "execution_count": 22,
   "metadata": {},
   "outputs": [
    {
     "name": "stdout",
     "output_type": "stream",
     "text": [
      "---------------------\n",
      "--- Relation Tree ---\n",
      "---------------------\n",
      "Scan Table [test_table]\n",
      "\n",
      "---------------------\n",
      "-- Result Columns  --\n",
      "---------------------\n",
      "- i (INTEGER)\n",
      "- j (VARCHAR)\n",
      "\n",
      "---------------------\n",
      "-- Result Preview  --\n",
      "---------------------\n",
      "i\tj\t\n",
      "INTEGER\tVARCHAR\t\n",
      "[ Rows: 6]\n",
      "1\tone\n",
      "2\ttwo\n",
      "3\tthree\n",
      "4\tfour\n",
      "5\tNULL\n",
      "6\t\n",
      "\n",
      "\n",
      "\n"
     ]
    }
   ],
   "source": [
    "# create a relation from an existing table\n",
    "rel = conn.table(\"test_table\")\n",
    "print(rel)"
   ]
  },
  {
   "cell_type": "code",
   "execution_count": 25,
   "metadata": {},
   "outputs": [
    {
     "name": "stdout",
     "output_type": "stream",
     "text": [
      "test_table\n"
     ]
    }
   ],
   "source": [
    "# a relation has an alias (like a table name)\n",
    "print(rel.alias)"
   ]
  },
  {
   "cell_type": "code",
   "execution_count": 26,
   "metadata": {},
   "outputs": [
    {
     "name": "stdout",
     "output_type": "stream",
     "text": [
      "new_alias\n"
     ]
    }
   ],
   "source": [
    "# we can change the alias, useful for (self)joins for example\n",
    "rel2 = rel.set_alias('new_alias')\n",
    "print(rel2.alias)"
   ]
  },
  {
   "cell_type": "code",
   "execution_count": 27,
   "metadata": {},
   "outputs": [
    {
     "name": "stdout",
     "output_type": "stream",
     "text": [
      "TABLE_RELATION\n"
     ]
    }
   ],
   "source": [
    "# we can inspect the type of a relation\n",
    "print(rel.type)"
   ]
  },
  {
   "cell_type": "code",
   "execution_count": 28,
   "metadata": {},
   "outputs": [
    {
     "name": "stdout",
     "output_type": "stream",
     "text": [
      "['i', 'j']\n"
     ]
    }
   ],
   "source": [
    "# or the column names that are in it\n",
    "print(rel.columns)"
   ]
  },
  {
   "cell_type": "code",
   "execution_count": 29,
   "metadata": {},
   "outputs": [
    {
     "name": "stdout",
     "output_type": "stream",
     "text": [
      "['INTEGER', 'VARCHAR']\n"
     ]
    }
   ],
   "source": [
    "# or the types of those columns\n",
    "print(rel.types)"
   ]
  },
  {
   "cell_type": "code",
   "execution_count": 30,
   "metadata": {},
   "outputs": [
    {
     "name": "stdout",
     "output_type": "stream",
     "text": [
      "---------------------\n",
      "--- Relation Tree ---\n",
      "---------------------\n",
      "Filter [(i > 1)]\n",
      "  Scan Table [test_table]\n",
      "\n",
      "---------------------\n",
      "-- Result Columns  --\n",
      "---------------------\n",
      "- i (INTEGER)\n",
      "- j (VARCHAR)\n",
      "\n",
      "---------------------\n",
      "-- Result Preview  --\n",
      "---------------------\n",
      "i\tj\t\n",
      "INTEGER\tVARCHAR\t\n",
      "[ Rows: 5]\n",
      "2\ttwo\n",
      "3\tthree\n",
      "4\tfour\n",
      "5\tNULL\n",
      "6\t\n",
      "\n",
      "\n",
      "\n"
     ]
    }
   ],
   "source": [
    "# now we can apply some operators to the relation\n",
    "# filter the relation\n",
    "print(rel.filter('i > 1'))"
   ]
  },
  {
   "cell_type": "code",
   "execution_count": 31,
   "metadata": {},
   "outputs": [
    {
     "data": {
      "text/plain": [
       "---------------------\n",
       "--- Relation Tree ---\n",
       "---------------------\n",
       "Filter [(j IS NOT NULL)]\n",
       "  Scan Table [test_table]\n",
       "\n",
       "---------------------\n",
       "-- Result Columns  --\n",
       "---------------------\n",
       "- i (INTEGER)\n",
       "- j (VARCHAR)\n",
       "\n",
       "---------------------\n",
       "-- Result Preview  --\n",
       "---------------------\n",
       "i\tj\t\n",
       "INTEGER\tVARCHAR\t\n",
       "[ Rows: 5]\n",
       "1\tone\n",
       "2\ttwo\n",
       "3\tthree\n",
       "4\tfour\n",
       "6\t\n",
       "\n"
      ]
     },
     "execution_count": 31,
     "metadata": {},
     "output_type": "execute_result"
    }
   ],
   "source": [
    "rel.filter(\"j is not null\")"
   ]
  },
  {
   "cell_type": "code",
   "execution_count": 32,
   "metadata": {},
   "outputs": [
    {
     "name": "stdout",
     "output_type": "stream",
     "text": [
      "---------------------\n",
      "--- Relation Tree ---\n",
      "---------------------\n",
      "Projection [i as , j as ]\n",
      "  Scan Table [test_table]\n",
      "\n",
      "---------------------\n",
      "-- Result Columns  --\n",
      "---------------------\n",
      "- i (INTEGER)\n",
      "- j (VARCHAR)\n",
      "\n",
      "---------------------\n",
      "-- Result Preview  --\n",
      "---------------------\n",
      "i\tj\t\n",
      "INTEGER\tVARCHAR\t\n",
      "[ Rows: 6]\n",
      "1\tone\n",
      "2\ttwo\n",
      "3\tthree\n",
      "4\tfour\n",
      "5\tNULL\n",
      "6\t\n",
      "\n",
      "\n",
      "\n"
     ]
    }
   ],
   "source": [
    "# project the relation, get some columns\n",
    "print(rel.project('i, j'))"
   ]
  },
  {
   "cell_type": "code",
   "execution_count": 33,
   "metadata": {},
   "outputs": [
    {
     "name": "stdout",
     "output_type": "stream",
     "text": [
      "---------------------\n",
      "--- Relation Tree ---\n",
      "---------------------\n",
      "Projection [(i + 1) as ]\n",
      "  Scan Table [test_table]\n",
      "\n",
      "---------------------\n",
      "-- Result Columns  --\n",
      "---------------------\n",
      "- (i + 1) (INTEGER)\n",
      "\n",
      "---------------------\n",
      "-- Result Preview  --\n",
      "---------------------\n",
      "(i + 1)\t\n",
      "INTEGER\t\n",
      "[ Rows: 6]\n",
      "2\n",
      "3\n",
      "4\n",
      "5\n",
      "6\n",
      "7\n",
      "\n",
      "\n",
      "\n"
     ]
    }
   ],
   "source": [
    "# or transform them\n",
    "print(rel.project('i + 1'))"
   ]
  },
  {
   "cell_type": "code",
   "execution_count": 34,
   "metadata": {},
   "outputs": [
    {
     "name": "stdout",
     "output_type": "stream",
     "text": [
      "---------------------\n",
      "--- Relation Tree ---\n",
      "---------------------\n",
      "Order [j DESC]\n",
      "  Scan Table [test_table]\n",
      "\n",
      "---------------------\n",
      "-- Result Columns  --\n",
      "---------------------\n",
      "- i (INTEGER)\n",
      "- j (VARCHAR)\n",
      "\n",
      "---------------------\n",
      "-- Result Preview  --\n",
      "---------------------\n",
      "i\tj\t\n",
      "INTEGER\tVARCHAR\t\n",
      "[ Rows: 6]\n",
      "5\tNULL\n",
      "6\t\n",
      "4\tfour\n",
      "1\tone\n",
      "3\tthree\n",
      "2\ttwo\n",
      "\n",
      "\n",
      "\n"
     ]
    }
   ],
   "source": [
    "# order the relation\n",
    "print(rel.order('j'))"
   ]
  },
  {
   "cell_type": "code",
   "execution_count": 35,
   "metadata": {},
   "outputs": [
    {
     "name": "stdout",
     "output_type": "stream",
     "text": [
      "---------------------\n",
      "--- Relation Tree ---\n",
      "---------------------\n",
      "Limit 2\n",
      "  Scan Table [test_table]\n",
      "\n",
      "---------------------\n",
      "-- Result Columns  --\n",
      "---------------------\n",
      "- i (INTEGER)\n",
      "- j (VARCHAR)\n",
      "\n",
      "---------------------\n",
      "-- Result Preview  --\n",
      "---------------------\n",
      "i\tj\t\n",
      "INTEGER\tVARCHAR\t\n",
      "[ Rows: 2]\n",
      "1\tone\n",
      "2\ttwo\n",
      "\n",
      "\n",
      "\n"
     ]
    }
   ],
   "source": [
    "# limit the rows returned\n",
    "print(rel.limit(2))"
   ]
  },
  {
   "cell_type": "code",
   "execution_count": 36,
   "metadata": {},
   "outputs": [
    {
     "name": "stdout",
     "output_type": "stream",
     "text": [
      "---------------------\n",
      "--- Relation Tree ---\n",
      "---------------------\n",
      "Limit 2 Offset 1\n",
      "  Scan Table [test_table]\n",
      "\n",
      "---------------------\n",
      "-- Result Columns  --\n",
      "---------------------\n",
      "- i (INTEGER)\n",
      "- j (VARCHAR)\n",
      "\n",
      "---------------------\n",
      "-- Result Preview  --\n",
      "---------------------\n",
      "i\tj\t\n",
      "INTEGER\tVARCHAR\t\n",
      "[ Rows: 2]\n",
      "2\ttwo\n",
      "3\tthree\n",
      "\n",
      "\n",
      "\n"
     ]
    }
   ],
   "source": [
    "# skip the first row and limit the number of results\n",
    "print(rel.limit(2, offset=1))"
   ]
  },
  {
   "cell_type": "code",
   "execution_count": 39,
   "metadata": {},
   "outputs": [
    {
     "name": "stdout",
     "output_type": "stream",
     "text": [
      "---------------------\n",
      "--- Relation Tree ---\n",
      "---------------------\n",
      "Limit 2\n",
      "  Order [j DESC]\n",
      "    Projection [(i + 1) as , j as ]\n",
      "      Filter [(i > 1)]\n",
      "        Scan Table [test_table]\n",
      "\n",
      "---------------------\n",
      "-- Result Columns  --\n",
      "---------------------\n",
      "- (i + 1) (INTEGER)\n",
      "- j (VARCHAR)\n",
      "\n",
      "---------------------\n",
      "-- Result Preview  --\n",
      "---------------------\n",
      "(i + 1)\tj\t\n",
      "INTEGER\tVARCHAR\t\n",
      "[ Rows: 2]\n",
      "6\tNULL\n",
      "7\t\n",
      "\n",
      "\n",
      "\n"
     ]
    }
   ],
   "source": [
    "# of course these things can be chained\n",
    "print(rel.filter('i > 1').project('i + 1, j').order('j').limit(2))"
   ]
  },
  {
   "cell_type": "code",
   "execution_count": 40,
   "metadata": {},
   "outputs": [
    {
     "name": "stdout",
     "output_type": "stream",
     "text": [
      "---------------------\n",
      "--- Relation Tree ---\n",
      "---------------------\n",
      "Aggregate [sum(i)]\n",
      "  Scan Table [test_table]\n",
      "\n",
      "---------------------\n",
      "-- Result Columns  --\n",
      "---------------------\n",
      "- sum(i) (HUGEINT)\n",
      "\n",
      "---------------------\n",
      "-- Result Preview  --\n",
      "---------------------\n",
      "sum(i)\t\n",
      "HUGEINT\t\n",
      "[ Rows: 1]\n",
      "21\n",
      "\n",
      "\n",
      "\n"
     ]
    }
   ],
   "source": [
    "# aggregate the relation\n",
    "print(rel.aggregate(\"sum(i)\"))"
   ]
  },
  {
   "cell_type": "code",
   "execution_count": 41,
   "metadata": {},
   "outputs": [
    {
     "name": "stdout",
     "output_type": "stream",
     "text": [
      "---------------------\n",
      "--- Relation Tree ---\n",
      "---------------------\n",
      "Aggregate [j, sum(i)]\n",
      "  Scan Table [test_table]\n",
      "\n",
      "---------------------\n",
      "-- Result Columns  --\n",
      "---------------------\n",
      "- j (VARCHAR)\n",
      "- sum(i) (HUGEINT)\n",
      "\n",
      "---------------------\n",
      "-- Result Preview  --\n",
      "---------------------\n",
      "j\tsum(i)\t\n",
      "VARCHAR\tHUGEINT\t\n",
      "[ Rows: 6]\n",
      "one\t1\n",
      "two\t2\n",
      "three\t3\n",
      "four\t4\n",
      "NULL\t5\n",
      "\t6\n",
      "\n",
      "\n",
      "\n"
     ]
    }
   ],
   "source": [
    "# non-aggregated columns create implicit grouping\n",
    "print(rel.aggregate(\"j, sum(i)\"))"
   ]
  },
  {
   "cell_type": "code",
   "execution_count": 42,
   "metadata": {},
   "outputs": [
    {
     "name": "stdout",
     "output_type": "stream",
     "text": [
      "---------------------\n",
      "--- Relation Tree ---\n",
      "---------------------\n",
      "Aggregate [sum(i)]\n",
      "  Scan Table [test_table]\n",
      "\n",
      "---------------------\n",
      "-- Result Columns  --\n",
      "---------------------\n",
      "- sum(i) (HUGEINT)\n",
      "\n",
      "---------------------\n",
      "-- Result Preview  --\n",
      "---------------------\n",
      "sum(i)\t\n",
      "HUGEINT\t\n",
      "[ Rows: 6]\n",
      "1\n",
      "2\n",
      "3\n",
      "4\n",
      "5\n",
      "6\n",
      "\n",
      "\n",
      "\n"
     ]
    }
   ],
   "source": [
    "# we can also explicit group the relation before aggregating\n",
    "print(rel.aggregate(\"sum(i)\", \"j\"))"
   ]
  },
  {
   "cell_type": "code",
   "execution_count": 43,
   "metadata": {},
   "outputs": [
    {
     "name": "stdout",
     "output_type": "stream",
     "text": [
      "---------------------\n",
      "--- Relation Tree ---\n",
      "---------------------\n",
      "Distinct\n",
      "  Scan Table [test_table]\n",
      "\n",
      "---------------------\n",
      "-- Result Columns  --\n",
      "---------------------\n",
      "- i (INTEGER)\n",
      "- j (VARCHAR)\n",
      "\n",
      "---------------------\n",
      "-- Result Preview  --\n",
      "---------------------\n",
      "i\tj\t\n",
      "INTEGER\tVARCHAR\t\n",
      "[ Rows: 6]\n",
      "1\tone\n",
      "2\ttwo\n",
      "3\tthree\n",
      "4\tfour\n",
      "5\tNULL\n",
      "6\t\n",
      "\n",
      "\n",
      "\n"
     ]
    }
   ],
   "source": [
    "# distinct values\n",
    "print(rel.distinct())"
   ]
  },
  {
   "cell_type": "code",
   "execution_count": 44,
   "metadata": {},
   "outputs": [
    {
     "name": "stdout",
     "output_type": "stream",
     "text": [
      "---------------------\n",
      "--- Relation Tree ---\n",
      "---------------------\n",
      "Union\n",
      "  Scan Table [test_table]  Scan Table [test_table]\n",
      "\n",
      "---------------------\n",
      "-- Result Columns  --\n",
      "---------------------\n",
      "- i (INTEGER)\n",
      "- j (VARCHAR)\n",
      "\n",
      "---------------------\n",
      "-- Result Preview  --\n",
      "---------------------\n",
      "i\tj\t\n",
      "INTEGER\tVARCHAR\t\n",
      "[ Rows: 10]\n",
      "1\tone\n",
      "2\ttwo\n",
      "3\tthree\n",
      "4\tfour\n",
      "5\tNULL\n",
      "6\t\n",
      "1\tone\n",
      "2\ttwo\n",
      "3\tthree\n",
      "4\tfour\n",
      "\n",
      "\n",
      "\n"
     ]
    }
   ],
   "source": [
    "# multi-relation operators are also supported, e.g union\n",
    "print(rel.union(rel))"
   ]
  },
  {
   "cell_type": "code",
   "execution_count": 45,
   "metadata": {},
   "outputs": [
    {
     "name": "stdout",
     "output_type": "stream",
     "text": [
      "---------------------\n",
      "--- Relation Tree ---\n",
      "---------------------\n",
      "Join INNER\n",
      "  Scan Table [test_table]\n",
      "  pandas_scan(0x2cfb90b0f70)\n",
      "\n",
      "---------------------\n",
      "-- Result Columns  --\n",
      "---------------------\n",
      "- i (INTEGER)\n",
      "- j (VARCHAR)\n",
      "- j (VARCHAR)\n",
      "\n",
      "---------------------\n",
      "-- Result Preview  --\n",
      "---------------------\n",
      "i\tj\tj\t\n",
      "INTEGER\tVARCHAR\tVARCHAR\t\n",
      "[ Rows: 6]\n",
      "1\tone\tone\n",
      "2\ttwo\ttwo\n",
      "3\tthree\tthree\n",
      "4\tfour\tfour\n",
      "5\tNULL\tNULL\n",
      "6\t\t\n",
      "\n",
      "\n",
      "\n"
     ]
    }
   ],
   "source": [
    "# join rel with itself on i\n",
    "rel2 = conn.from_df(test_df)\n",
    "print(rel.join(rel2, 'i'))"
   ]
  },
  {
   "cell_type": "code",
   "execution_count": 46,
   "metadata": {},
   "outputs": [
    {
     "name": "stdout",
     "output_type": "stream",
     "text": [
      "---------------------\n",
      "--- Relation Tree ---\n",
      "---------------------\n",
      "Join INNER (a.i = b.i)\n",
      "  Scan Table [test_table]\n",
      "  Scan Table [test_table]\n",
      "\n",
      "---------------------\n",
      "-- Result Columns  --\n",
      "---------------------\n",
      "- i (INTEGER)\n",
      "- j (VARCHAR)\n",
      "- i (INTEGER)\n",
      "- j (VARCHAR)\n",
      "\n",
      "---------------------\n",
      "-- Result Preview  --\n",
      "---------------------\n",
      "i\tj\ti\tj\t\n",
      "INTEGER\tVARCHAR\tINTEGER\tVARCHAR\t\n",
      "[ Rows: 6]\n",
      "1\tone\t1\tone\n",
      "2\ttwo\t2\ttwo\n",
      "3\tthree\t3\tthree\n",
      "4\tfour\t4\tfour\n",
      "5\tNULL\t5\tNULL\n",
      "6\t\t6\t\n",
      "\n",
      "\n",
      "\n"
     ]
    }
   ],
   "source": [
    "# for explicit join conditions the relations can be named using alias()\n",
    "print(rel.set_alias('a').join(rel.set_alias('b'), 'a.i=b.i'))"
   ]
  },
  {
   "cell_type": "code",
   "execution_count": 49,
   "metadata": {},
   "outputs": [
    {
     "name": "stdout",
     "output_type": "stream",
     "text": [
      "---------------------\n",
      "--- Relation Tree ---\n",
      "---------------------\n",
      "Filter [(i > 1)]\n",
      "  pandas_scan(0x2cfb90b0b20)\n",
      "\n",
      "---------------------\n",
      "-- Result Columns  --\n",
      "---------------------\n",
      "- i (BIGINT)\n",
      "- j (VARCHAR)\n",
      "\n",
      "---------------------\n",
      "-- Result Preview  --\n",
      "---------------------\n",
      "i\tj\t\n",
      "BIGINT\tVARCHAR\t\n",
      "[ Rows: 5]\n",
      "2\ttwo\n",
      "3\tthree\n",
      "4\tfour\n",
      "5\tNULL\n",
      "6\t\n",
      "\n",
      "\n",
      "\n"
     ]
    }
   ],
   "source": [
    "# there are also shorthand methods to directly create a relation and apply an operator from pandas data frame objects\n",
    "print(duckdb.filter(test_df, 'i > 1'))"
   ]
  },
  {
   "cell_type": "code",
   "execution_count": 50,
   "metadata": {},
   "outputs": [
    {
     "name": "stdout",
     "output_type": "stream",
     "text": [
      "---------------------\n",
      "--- Relation Tree ---\n",
      "---------------------\n",
      "Projection [(i + 1) as ]\n",
      "  pandas_scan(0x2cfb90dd700)\n",
      "\n",
      "---------------------\n",
      "-- Result Columns  --\n",
      "---------------------\n",
      "- (i + 1) (BIGINT)\n",
      "\n",
      "---------------------\n",
      "-- Result Preview  --\n",
      "---------------------\n",
      "(i + 1)\t\n",
      "BIGINT\t\n",
      "[ Rows: 6]\n",
      "2\n",
      "3\n",
      "4\n",
      "5\n",
      "6\n",
      "7\n",
      "\n",
      "\n",
      "\n",
      "---------------------\n",
      "--- Relation Tree ---\n",
      "---------------------\n",
      "Order [j DESC]\n",
      "  pandas_scan(0x2cfb90a4fa0)\n",
      "\n",
      "---------------------\n",
      "-- Result Columns  --\n",
      "---------------------\n",
      "- i (BIGINT)\n",
      "- j (VARCHAR)\n",
      "\n",
      "---------------------\n",
      "-- Result Preview  --\n",
      "---------------------\n",
      "i\tj\t\n",
      "BIGINT\tVARCHAR\t\n",
      "[ Rows: 6]\n",
      "5\tNULL\n",
      "6\t\n",
      "4\tfour\n",
      "1\tone\n",
      "3\tthree\n",
      "2\ttwo\n",
      "\n",
      "\n",
      "\n",
      "---------------------\n",
      "--- Relation Tree ---\n",
      "---------------------\n",
      "Limit 2\n",
      "  pandas_scan(0x2cfb097d490)\n",
      "\n",
      "---------------------\n",
      "-- Result Columns  --\n",
      "---------------------\n",
      "- i (BIGINT)\n",
      "- j (VARCHAR)\n",
      "\n",
      "---------------------\n",
      "-- Result Preview  --\n",
      "---------------------\n",
      "i\tj\t\n",
      "BIGINT\tVARCHAR\t\n",
      "[ Rows: 2]\n",
      "1\tone\n",
      "2\ttwo\n",
      "\n",
      "\n",
      "\n",
      "---------------------\n",
      "--- Relation Tree ---\n",
      "---------------------\n",
      "Aggregate [sum(i)]\n",
      "  pandas_scan(0x2cfb90a4130)\n",
      "\n",
      "---------------------\n",
      "-- Result Columns  --\n",
      "---------------------\n",
      "- sum(i) (HUGEINT)\n",
      "\n",
      "---------------------\n",
      "-- Result Preview  --\n",
      "---------------------\n",
      "sum(i)\t\n",
      "HUGEINT\t\n",
      "[ Rows: 1]\n",
      "21\n",
      "\n",
      "\n",
      "\n",
      "---------------------\n",
      "--- Relation Tree ---\n",
      "---------------------\n",
      "Distinct\n",
      "  pandas_scan(0x2cfb097d490)\n",
      "\n",
      "---------------------\n",
      "-- Result Columns  --\n",
      "---------------------\n",
      "- i (BIGINT)\n",
      "- j (VARCHAR)\n",
      "\n",
      "---------------------\n",
      "-- Result Preview  --\n",
      "---------------------\n",
      "i\tj\t\n",
      "BIGINT\tVARCHAR\t\n",
      "[ Rows: 6]\n",
      "1\tone\n",
      "2\ttwo\n",
      "3\tthree\n",
      "4\tfour\n",
      "5\tNULL\n",
      "6\t\n",
      "\n",
      "\n",
      "\n",
      "---------------------\n",
      "--- Relation Tree ---\n",
      "---------------------\n",
      "Limit 2\n",
      "  Order [j DESC]\n",
      "    Projection [(i + 1) as , j as ]\n",
      "      Filter [(i > 1)]\n",
      "        pandas_scan(0x2cfb90a4070)\n",
      "\n",
      "---------------------\n",
      "-- Result Columns  --\n",
      "---------------------\n",
      "- (i + 1) (BIGINT)\n",
      "- j (VARCHAR)\n",
      "\n",
      "---------------------\n",
      "-- Result Preview  --\n",
      "---------------------\n",
      "(i + 1)\tj\t\n",
      "BIGINT\tVARCHAR\t\n",
      "[ Rows: 2]\n",
      "6\tNULL\n",
      "7\t\n",
      "\n",
      "\n",
      "\n"
     ]
    }
   ],
   "source": [
    "print(duckdb.project(test_df, 'i +1'))\n",
    "print(duckdb.order(test_df, 'j'))\n",
    "print(duckdb.limit(test_df, 2))\n",
    "\n",
    "print(duckdb.aggregate(test_df, \"sum(i)\"))\n",
    "print(duckdb.distinct(test_df))\n",
    "\n",
    "# when chaining only the first call needs to include the data frame parameter\n",
    "print(duckdb.filter(test_df, 'i > 1').project('i + 1,j').order('j').limit(2))\n",
    "\n",
    "# turn the relation into something else again"
   ]
  },
  {
   "cell_type": "code",
   "execution_count": 51,
   "metadata": {},
   "outputs": [
    {
     "name": "stdout",
     "output_type": "stream",
     "text": [
      "<duckdb.DuckDBPyResult object at 0x000002CFB90AEBB0>\n",
      "(1, 'one')\n",
      "[(2, 'two'), (3, 'three'), (4, 'four'), (5, None), (6, '')]\n",
      "   i      j\n",
      "0  1    one\n",
      "1  2    two\n",
      "2  3  three\n",
      "3  4   four\n",
      "4  5    NaN\n",
      "5  6       \n",
      "   i      j\n",
      "0  1    one\n",
      "1  2    two\n",
      "2  3  three\n",
      "3  4   four\n",
      "4  5    NaN\n",
      "5  6       \n"
     ]
    }
   ],
   "source": [
    "# compute the query result from the relation \n",
    "res = rel.execute()\n",
    "print(res)\n",
    "# res is a query result, you can call fetchdf() or fetchnumpy() or fetchone() on it\n",
    "print(res.fetchone())\n",
    "print(res.fetchall())\n",
    "\n",
    "# convert a relation back to a pandas data frame\n",
    "print(rel.to_df())\n",
    "\n",
    "# df() is shorthand for to_df() on relations\n",
    "print(rel.df())"
   ]
  },
  {
   "cell_type": "code",
   "execution_count": 52,
   "metadata": {},
   "outputs": [
    {
     "name": "stdout",
     "output_type": "stream",
     "text": [
      "None\n"
     ]
    }
   ],
   "source": [
    "# create a table in duckdb from the relation\n",
    "print(rel.create(\"test_table2\"))"
   ]
  },
  {
   "cell_type": "code",
   "execution_count": 53,
   "metadata": {},
   "outputs": [
    {
     "name": "stdout",
     "output_type": "stream",
     "text": [
      "None\n"
     ]
    }
   ],
   "source": [
    "# insert the relation's data into an existing table\n",
    "conn.execute(\"CREATE TABLE test_table3 (i INTEGER, j STRING)\")\n",
    "print(rel.insert_into(\"test_table3\"))"
   ]
  },
  {
   "cell_type": "code",
   "execution_count": 54,
   "metadata": {
    "scrolled": true
   },
   "outputs": [
    {
     "name": "stdout",
     "output_type": "stream",
     "text": [
      "None\n",
      "---------------------\n",
      "--- Relation Tree ---\n",
      "---------------------\n",
      "Scan Table [test_table]\n",
      "\n",
      "---------------------\n",
      "-- Result Columns  --\n",
      "---------------------\n",
      "- i (INTEGER)\n",
      "- j (VARCHAR)\n",
      "\n",
      "---------------------\n",
      "-- Result Preview  --\n",
      "---------------------\n",
      "i\tj\t\n",
      "INTEGER\tVARCHAR\t\n",
      "[ Rows: 6]\n",
      "1\tone\n",
      "2\ttwo\n",
      "3\tthree\n",
      "4\tfour\n",
      "5\tNULL\n",
      "6\t\n",
      "\n",
      "\n",
      "\n",
      "---------------------\n",
      "--- Relation Tree ---\n",
      "---------------------\n",
      "Subquery\n",
      "\n",
      "---------------------\n",
      "-- Result Columns  --\n",
      "---------------------\n",
      "- i (INTEGER)\n",
      "- j (VARCHAR)\n",
      "\n",
      "---------------------\n",
      "-- Result Preview  --\n",
      "---------------------\n",
      "i\tj\t\n",
      "INTEGER\tVARCHAR\t\n",
      "[ Rows: 6]\n",
      "1\tone\n",
      "2\ttwo\n",
      "3\tthree\n",
      "4\tfour\n",
      "5\tNULL\n",
      "6\t\n",
      "\n",
      "\n",
      "\n"
     ]
    }
   ],
   "source": [
    "# Inserting elements into table_3\n",
    "print(conn.values([5, 'five']).insert_into(\"test_table3\"))\n",
    "rel_3 = conn.table(\"test_table3\")\n",
    "rel_3.insert([6,'six'])\n",
    "\n",
    "# create a SQL-accessible view of the relation\n",
    "print(rel.create_view('test_view'))\n",
    "\n",
    "\n",
    "# we can also directly run SQL queries on relation objects without explicitly creating a view\n",
    "# the first parameter gives the rel object a view name so we can refer to it in queries\n",
    "res = rel.query('my_name_for_rel', 'SELECT * FROM my_name_for_rel')\n",
    "print(res)"
   ]
  },
  {
   "cell_type": "code",
   "execution_count": 56,
   "metadata": {},
   "outputs": [
    {
     "name": "stdout",
     "output_type": "stream",
     "text": [
      "(1, 'one')\n",
      "[(1, 'one'), (2, 'two'), (3, 'three'), (4, 'four'), (5, None), (6, '')]\n",
      "   i      j\n",
      "0  1    one\n",
      "1  2    two\n",
      "2  3  three\n",
      "3  4   four\n",
      "4  5    NaN\n",
      "5  6       \n"
     ]
    }
   ],
   "source": [
    "# res is a query result, we can fetch with the methods described above, e.g.\n",
    "print(res.fetchone())\n",
    "print(res.fetchall())\n",
    "# or just use df(), a shorthand for fetchdf() on query results\n",
    "print(res.df())"
   ]
  },
  {
   "cell_type": "code",
   "execution_count": 57,
   "metadata": {},
   "outputs": [
    {
     "data": {
      "text/html": [
       "<div>\n",
       "<style scoped>\n",
       "    .dataframe tbody tr th:only-of-type {\n",
       "        vertical-align: middle;\n",
       "    }\n",
       "\n",
       "    .dataframe tbody tr th {\n",
       "        vertical-align: top;\n",
       "    }\n",
       "\n",
       "    .dataframe thead th {\n",
       "        text-align: right;\n",
       "    }\n",
       "</style>\n",
       "<table border=\"1\" class=\"dataframe\">\n",
       "  <thead>\n",
       "    <tr style=\"text-align: right;\">\n",
       "      <th></th>\n",
       "      <th>i</th>\n",
       "      <th>j</th>\n",
       "    </tr>\n",
       "  </thead>\n",
       "  <tbody>\n",
       "    <tr>\n",
       "      <th>0</th>\n",
       "      <td>1</td>\n",
       "      <td>one</td>\n",
       "    </tr>\n",
       "    <tr>\n",
       "      <th>1</th>\n",
       "      <td>2</td>\n",
       "      <td>two</td>\n",
       "    </tr>\n",
       "    <tr>\n",
       "      <th>2</th>\n",
       "      <td>3</td>\n",
       "      <td>three</td>\n",
       "    </tr>\n",
       "    <tr>\n",
       "      <th>3</th>\n",
       "      <td>4</td>\n",
       "      <td>four</td>\n",
       "    </tr>\n",
       "    <tr>\n",
       "      <th>4</th>\n",
       "      <td>5</td>\n",
       "      <td>None</td>\n",
       "    </tr>\n",
       "    <tr>\n",
       "      <th>5</th>\n",
       "      <td>6</td>\n",
       "      <td></td>\n",
       "    </tr>\n",
       "  </tbody>\n",
       "</table>\n",
       "</div>"
      ],
      "text/plain": [
       "   i      j\n",
       "0  1    one\n",
       "1  2    two\n",
       "2  3  three\n",
       "3  4   four\n",
       "4  5   None\n",
       "5  6       "
      ]
     },
     "execution_count": 57,
     "metadata": {},
     "output_type": "execute_result"
    }
   ],
   "source": [
    "test_df"
   ]
  },
  {
   "cell_type": "code",
   "execution_count": 60,
   "metadata": {},
   "outputs": [],
   "source": [
    "conn.close()"
   ]
  },
  {
   "cell_type": "code",
   "execution_count": null,
   "metadata": {},
   "outputs": [],
   "source": []
  }
 ],
 "metadata": {
  "kernelspec": {
   "display_name": "Python 3 (ipykernel)",
   "language": "python",
   "name": "python3"
  },
  "language_info": {
   "codemirror_mode": {
    "name": "ipython",
    "version": 3
   },
   "file_extension": ".py",
   "mimetype": "text/x-python",
   "name": "python",
   "nbconvert_exporter": "python",
   "pygments_lexer": "ipython3",
   "version": "3.10.6"
  },
  "nbTranslate": {
   "displayLangs": [
    "*"
   ],
   "hotkey": "alt-t",
   "langInMainMenu": true,
   "sourceLang": "en",
   "targetLang": "fr",
   "useGoogleTranslate": true
  },
  "toc": {
   "base_numbering": 1,
   "nav_menu": {},
   "number_sections": true,
   "sideBar": true,
   "skip_h1_title": false,
   "title_cell": "Table of Contents",
   "title_sidebar": "Contents",
   "toc_cell": false,
   "toc_position": {
    "height": "calc(100% - 180px)",
    "left": "10px",
    "top": "150px",
    "width": "255.6px"
   },
   "toc_section_display": true,
   "toc_window_display": true
  }
 },
 "nbformat": 4,
 "nbformat_minor": 4
}
