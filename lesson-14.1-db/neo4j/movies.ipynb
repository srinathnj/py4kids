{
 "cells": [
  {
   "cell_type": "markdown",
   "metadata": {},
   "source": [
    "# Learn Neo4j and Cypher in Notebook"
   ]
  },
  {
   "cell_type": "markdown",
   "metadata": {},
   "source": [
    "### References\n",
    "\n",
    "- https://github.com/elena/py2neo-quickstart\n",
    "- Cypher Fundamentals by Dave"
   ]
  },
  {
   "cell_type": "markdown",
   "metadata": {},
   "source": [
    "### Install Neo4j Desktop\n",
    "\n",
    "```\n",
    "$ cd ~/neo4j\n",
    "$ ./neo4j-desktop-1.4.1-x86_64.AppImage\n",
    "```\n",
    "\n",
    "Open `neo4j` browser, type:\n",
    "`:play movies`\n",
    "\n",
    "Run the script to create `Movies` graph database"
   ]
  },
  {
   "cell_type": "markdown",
   "metadata": {},
   "source": [
    "### [Cypher Styles](https://github.com/opencypher/openCypher/blob/master/docs/style-guide.adoc)\n",
    "- Case Sensitive\n",
    "    - Node labels\n",
    "    - Relationship types\n",
    "    - Property keys\n",
    "- Case Insensitive\n",
    "    - Cypher keywords\n",
    "    \n",
    "- Cypher keywords and clauses should be written in all caps and on their own line\n",
    "- Functions should be written in lower camel case."
   ]
  },
  {
   "cell_type": "code",
   "execution_count": 1,
   "metadata": {},
   "outputs": [],
   "source": [
    "from py2neo import Graph,Node,Relationship"
   ]
  },
  {
   "cell_type": "code",
   "execution_count": 15,
   "metadata": {},
   "outputs": [],
   "source": [
    "import pandas as pd\n",
    "pd.set_option('display.max_colwidth', None)   # column value displayed in full"
   ]
  },
  {
   "cell_type": "code",
   "execution_count": 2,
   "metadata": {},
   "outputs": [],
   "source": [
    "from _connstr import CONN_STR"
   ]
  },
  {
   "cell_type": "raw",
   "metadata": {},
   "source": [
    "CONN_STR = {\n",
    "    \"url\": \"http://localhost:7474/browser/\",\n",
    "    \"user\": \"neo4j\",\n",
    "    \"password\": \"my_password\"\n",
    "}"
   ]
  },
  {
   "cell_type": "code",
   "execution_count": 3,
   "metadata": {},
   "outputs": [],
   "source": [
    "url, username, password = CONN_STR[\"url\"],CONN_STR[\"user\"],CONN_STR[\"password\"]\n",
    "graph = Graph(url, auth=(username, password))"
   ]
  },
  {
   "cell_type": "markdown",
   "metadata": {},
   "source": [
    "### Cypher - Intro\n",
    "\n",
    "find 10 persons"
   ]
  },
  {
   "cell_type": "code",
   "execution_count": 6,
   "metadata": {},
   "outputs": [
    {
     "data": {
      "text/plain": [
       "py2neo.database.work.Cursor"
      ]
     },
     "execution_count": 6,
     "metadata": {},
     "output_type": "execute_result"
    }
   ],
   "source": [
    "query = \"\"\"\n",
    "MATCH (p:Person)\n",
    "RETURN p\n",
    "LIMIT 10\n",
    "\"\"\"\n",
    "\n",
    "results = graph.run(query)\n",
    "type(results)"
   ]
  },
  {
   "cell_type": "code",
   "execution_count": 7,
   "metadata": {},
   "outputs": [
    {
     "data": {
      "text/html": [
       "<div>\n",
       "<style scoped>\n",
       "    .dataframe tbody tr th:only-of-type {\n",
       "        vertical-align: middle;\n",
       "    }\n",
       "\n",
       "    .dataframe tbody tr th {\n",
       "        vertical-align: top;\n",
       "    }\n",
       "\n",
       "    .dataframe thead th {\n",
       "        text-align: right;\n",
       "    }\n",
       "</style>\n",
       "<table border=\"1\" class=\"dataframe\">\n",
       "  <thead>\n",
       "    <tr style=\"text-align: right;\">\n",
       "      <th></th>\n",
       "      <th>p</th>\n",
       "    </tr>\n",
       "  </thead>\n",
       "  <tbody>\n",
       "    <tr>\n",
       "      <th>0</th>\n",
       "      <td>{'born': 1964, 'name': 'Keanu Reeves'}</td>\n",
       "    </tr>\n",
       "    <tr>\n",
       "      <th>1</th>\n",
       "      <td>{'born': 1967, 'name': 'Carrie-Anne Moss'}</td>\n",
       "    </tr>\n",
       "    <tr>\n",
       "      <th>2</th>\n",
       "      <td>{'born': 1961, 'name': 'Laurence Fishburne'}</td>\n",
       "    </tr>\n",
       "    <tr>\n",
       "      <th>3</th>\n",
       "      <td>{'born': 1960, 'name': 'Hugo Weaving'}</td>\n",
       "    </tr>\n",
       "    <tr>\n",
       "      <th>4</th>\n",
       "      <td>{'born': 1967, 'name': 'Lilly Wachowski'}</td>\n",
       "    </tr>\n",
       "    <tr>\n",
       "      <th>5</th>\n",
       "      <td>{'born': 1965, 'name': 'Lana Wachowski'}</td>\n",
       "    </tr>\n",
       "    <tr>\n",
       "      <th>6</th>\n",
       "      <td>{'born': 1952, 'name': 'Joel Silver'}</td>\n",
       "    </tr>\n",
       "    <tr>\n",
       "      <th>7</th>\n",
       "      <td>{'born': 1975, 'name': 'Charlize Theron'}</td>\n",
       "    </tr>\n",
       "    <tr>\n",
       "      <th>8</th>\n",
       "      <td>{'born': 1940, 'name': 'Al Pacino'}</td>\n",
       "    </tr>\n",
       "    <tr>\n",
       "      <th>9</th>\n",
       "      <td>{'born': 1944, 'name': 'Taylor Hackford'}</td>\n",
       "    </tr>\n",
       "  </tbody>\n",
       "</table>\n",
       "</div>"
      ],
      "text/plain": [
       "                                              p\n",
       "0        {'born': 1964, 'name': 'Keanu Reeves'}\n",
       "1    {'born': 1967, 'name': 'Carrie-Anne Moss'}\n",
       "2  {'born': 1961, 'name': 'Laurence Fishburne'}\n",
       "3        {'born': 1960, 'name': 'Hugo Weaving'}\n",
       "4     {'born': 1967, 'name': 'Lilly Wachowski'}\n",
       "5      {'born': 1965, 'name': 'Lana Wachowski'}\n",
       "6         {'born': 1952, 'name': 'Joel Silver'}\n",
       "7     {'born': 1975, 'name': 'Charlize Theron'}\n",
       "8           {'born': 1940, 'name': 'Al Pacino'}\n",
       "9     {'born': 1944, 'name': 'Taylor Hackford'}"
      ]
     },
     "execution_count": 7,
     "metadata": {},
     "output_type": "execute_result"
    }
   ],
   "source": [
    "# results is serialized to dataframe\n",
    "df = results.to_data_frame()\n",
    "df"
   ]
  },
  {
   "cell_type": "code",
   "execution_count": 8,
   "metadata": {},
   "outputs": [
    {
     "data": {
      "text/plain": [
       "array([[Node('Person', born=1964, name='Keanu Reeves')],\n",
       "       [Node('Person', born=1967, name='Carrie-Anne Moss')],\n",
       "       [Node('Person', born=1961, name='Laurence Fishburne')],\n",
       "       [Node('Person', born=1960, name='Hugo Weaving')],\n",
       "       [Node('Person', born=1967, name='Lilly Wachowski')],\n",
       "       [Node('Person', born=1965, name='Lana Wachowski')],\n",
       "       [Node('Person', born=1952, name='Joel Silver')],\n",
       "       [Node('Person', born=1975, name='Charlize Theron')],\n",
       "       [Node('Person', born=1940, name='Al Pacino')],\n",
       "       [Node('Person', born=1944, name='Taylor Hackford')]], dtype=object)"
      ]
     },
     "execution_count": 8,
     "metadata": {},
     "output_type": "execute_result"
    }
   ],
   "source": [
    "query = \"\"\"\n",
    "MATCH (p:Person)\n",
    "RETURN p\n",
    "LIMIT 10\n",
    "\"\"\"\n",
    "\n",
    "results = graph.run(query)\n",
    "\n",
    "# results is serialized to numpy array\n",
    "results.to_ndarray()"
   ]
  },
  {
   "cell_type": "code",
   "execution_count": 9,
   "metadata": {},
   "outputs": [
    {
     "data": {
      "text/html": [
       "<table><tr><th>p</th></tr><tr><td style=\"text-align:left\">(_1:Person {born: 1964, name: &#039;Keanu Reeves&#039;})</td></tr><tr><td style=\"text-align:left\">(_2:Person {born: 1967, name: &#039;Carrie-Anne Moss&#039;})</td></tr><tr><td style=\"text-align:left\">(_3:Person {born: 1961, name: &#039;Laurence Fishburne&#039;})</td></tr><tr><td style=\"text-align:left\">(_4:Person {born: 1960, name: &#039;Hugo Weaving&#039;})</td></tr><tr><td style=\"text-align:left\">(_5:Person {born: 1967, name: &#039;Lilly Wachowski&#039;})</td></tr><tr><td style=\"text-align:left\">(_6:Person {born: 1965, name: &#039;Lana Wachowski&#039;})</td></tr><tr><td style=\"text-align:left\">(_7:Person {born: 1952, name: &#039;Joel Silver&#039;})</td></tr><tr><td style=\"text-align:left\">(_12:Person {born: 1975, name: &#039;Charlize Theron&#039;})</td></tr><tr><td style=\"text-align:left\">(_13:Person {born: 1940, name: &#039;Al Pacino&#039;})</td></tr><tr><td style=\"text-align:left\">(_14:Person {born: 1944, name: &#039;Taylor Hackford&#039;})</td></tr></table>"
      ],
      "text/plain": [
       " p                                                    \n",
       "------------------------------------------------------\n",
       " (_1:Person {born: 1964, name: 'Keanu Reeves'})       \n",
       " (_2:Person {born: 1967, name: 'Carrie-Anne Moss'})   \n",
       " (_3:Person {born: 1961, name: 'Laurence Fishburne'}) \n",
       " (_4:Person {born: 1960, name: 'Hugo Weaving'})       \n",
       " (_5:Person {born: 1967, name: 'Lilly Wachowski'})    \n",
       " (_6:Person {born: 1965, name: 'Lana Wachowski'})     \n",
       " (_7:Person {born: 1952, name: 'Joel Silver'})        \n",
       " (_12:Person {born: 1975, name: 'Charlize Theron'})   \n",
       " (_13:Person {born: 1940, name: 'Al Pacino'})         \n",
       " (_14:Person {born: 1944, name: 'Taylor Hackford'})   "
      ]
     },
     "execution_count": 9,
     "metadata": {},
     "output_type": "execute_result"
    }
   ],
   "source": [
    "query = \"\"\"\n",
    "MATCH (p:Person)\n",
    "RETURN p\n",
    "LIMIT 10\n",
    "\"\"\"\n",
    "\n",
    "results = graph.run(query)\n",
    "\n",
    "# must re-run query\n",
    "results.to_table()"
   ]
  },
  {
   "cell_type": "code",
   "execution_count": 10,
   "metadata": {},
   "outputs": [
    {
     "data": {
      "text/html": [
       "<div>\n",
       "<style scoped>\n",
       "    .dataframe tbody tr th:only-of-type {\n",
       "        vertical-align: middle;\n",
       "    }\n",
       "\n",
       "    .dataframe tbody tr th {\n",
       "        vertical-align: top;\n",
       "    }\n",
       "\n",
       "    .dataframe thead th {\n",
       "        text-align: right;\n",
       "    }\n",
       "</style>\n",
       "<table border=\"1\" class=\"dataframe\">\n",
       "  <thead>\n",
       "    <tr style=\"text-align: right;\">\n",
       "      <th></th>\n",
       "      <th>Type</th>\n",
       "      <th>Name</th>\n",
       "      <th>Birth_Year</th>\n",
       "    </tr>\n",
       "  </thead>\n",
       "  <tbody>\n",
       "    <tr>\n",
       "      <th>0</th>\n",
       "      <td>Person</td>\n",
       "      <td>Keanu Reeves</td>\n",
       "      <td>1964</td>\n",
       "    </tr>\n",
       "    <tr>\n",
       "      <th>1</th>\n",
       "      <td>Person</td>\n",
       "      <td>Carrie-Anne Moss</td>\n",
       "      <td>1967</td>\n",
       "    </tr>\n",
       "    <tr>\n",
       "      <th>2</th>\n",
       "      <td>Person</td>\n",
       "      <td>Laurence Fishburne</td>\n",
       "      <td>1961</td>\n",
       "    </tr>\n",
       "    <tr>\n",
       "      <th>3</th>\n",
       "      <td>Person</td>\n",
       "      <td>Hugo Weaving</td>\n",
       "      <td>1960</td>\n",
       "    </tr>\n",
       "    <tr>\n",
       "      <th>4</th>\n",
       "      <td>Person</td>\n",
       "      <td>Lilly Wachowski</td>\n",
       "      <td>1967</td>\n",
       "    </tr>\n",
       "  </tbody>\n",
       "</table>\n",
       "</div>"
      ],
      "text/plain": [
       "     Type                Name  Birth_Year\n",
       "0  Person        Keanu Reeves        1964\n",
       "1  Person    Carrie-Anne Moss        1967\n",
       "2  Person  Laurence Fishburne        1961\n",
       "3  Person        Hugo Weaving        1960\n",
       "4  Person     Lilly Wachowski        1967"
      ]
     },
     "execution_count": 10,
     "metadata": {},
     "output_type": "execute_result"
    }
   ],
   "source": [
    "query = \"\"\"\n",
    "// read 10 persons\n",
    "MATCH (p:Person)\n",
    "RETURN \"Person\" as Type, p.name as Name, p.born as Birth_Year\n",
    "LIMIT 10;\n",
    "\"\"\"\n",
    "\n",
    "df = graph.run(query).to_data_frame()\n",
    "df.head(5)"
   ]
  },
  {
   "cell_type": "markdown",
   "metadata": {},
   "source": [
    "### Cypher - MATCH (Read/Query\n",
    "\n",
    "Find 10 actors with their roles played in the movie"
   ]
  },
  {
   "cell_type": "code",
   "execution_count": 14,
   "metadata": {},
   "outputs": [
    {
     "data": {
      "text/html": [
       "<div>\n",
       "<style scoped>\n",
       "    .dataframe tbody tr th:only-of-type {\n",
       "        vertical-align: middle;\n",
       "    }\n",
       "\n",
       "    .dataframe tbody tr th {\n",
       "        vertical-align: top;\n",
       "    }\n",
       "\n",
       "    .dataframe thead th {\n",
       "        text-align: right;\n",
       "    }\n",
       "</style>\n",
       "<table border=\"1\" class=\"dataframe\">\n",
       "  <thead>\n",
       "    <tr style=\"text-align: right;\">\n",
       "      <th></th>\n",
       "      <th>p</th>\n",
       "      <th>r</th>\n",
       "      <th>m</th>\n",
       "    </tr>\n",
       "  </thead>\n",
       "  <tbody>\n",
       "    <tr>\n",
       "      <th>0</th>\n",
       "      <td>{'born': 1960, 'name': 'Hugo Weaving'}</td>\n",
       "      <td>{'roles': ['Agent Smith']}</td>\n",
       "      <td>{'tagline': 'Welcome to the Real World', 'title': 'The Matrix', 'released': 1999}</td>\n",
       "    </tr>\n",
       "    <tr>\n",
       "      <th>1</th>\n",
       "      <td>{'born': 1961, 'name': 'Laurence Fishburne'}</td>\n",
       "      <td>{'roles': ['Morpheus']}</td>\n",
       "      <td>{'tagline': 'Welcome to the Real World', 'title': 'The Matrix', 'released': 1999}</td>\n",
       "    </tr>\n",
       "    <tr>\n",
       "      <th>2</th>\n",
       "      <td>{'born': 1967, 'name': 'Carrie-Anne Moss'}</td>\n",
       "      <td>{'roles': ['Trinity']}</td>\n",
       "      <td>{'tagline': 'Welcome to the Real World', 'title': 'The Matrix', 'released': 1999}</td>\n",
       "    </tr>\n",
       "    <tr>\n",
       "      <th>3</th>\n",
       "      <td>{'born': 1964, 'name': 'Keanu Reeves'}</td>\n",
       "      <td>{'roles': ['Neo']}</td>\n",
       "      <td>{'tagline': 'Welcome to the Real World', 'title': 'The Matrix', 'released': 1999}</td>\n",
       "    </tr>\n",
       "    <tr>\n",
       "      <th>4</th>\n",
       "      <td>{'born': 1960, 'name': 'Hugo Weaving'}</td>\n",
       "      <td>{'roles': ['Agent Smith']}</td>\n",
       "      <td>{'tagline': 'Free your mind', 'title': 'The Matrix Reloaded', 'released': 2003}</td>\n",
       "    </tr>\n",
       "  </tbody>\n",
       "</table>\n",
       "</div>"
      ],
      "text/plain": [
       "                                              p                           r  \\\n",
       "0        {'born': 1960, 'name': 'Hugo Weaving'}  {'roles': ['Agent Smith']}   \n",
       "1  {'born': 1961, 'name': 'Laurence Fishburne'}     {'roles': ['Morpheus']}   \n",
       "2    {'born': 1967, 'name': 'Carrie-Anne Moss'}      {'roles': ['Trinity']}   \n",
       "3        {'born': 1964, 'name': 'Keanu Reeves'}          {'roles': ['Neo']}   \n",
       "4        {'born': 1960, 'name': 'Hugo Weaving'}  {'roles': ['Agent Smith']}   \n",
       "\n",
       "                                                                                   m  \n",
       "0  {'tagline': 'Welcome to the Real World', 'title': 'The Matrix', 'released': 1999}  \n",
       "1  {'tagline': 'Welcome to the Real World', 'title': 'The Matrix', 'released': 1999}  \n",
       "2  {'tagline': 'Welcome to the Real World', 'title': 'The Matrix', 'released': 1999}  \n",
       "3  {'tagline': 'Welcome to the Real World', 'title': 'The Matrix', 'released': 1999}  \n",
       "4    {'tagline': 'Free your mind', 'title': 'The Matrix Reloaded', 'released': 2003}  "
      ]
     },
     "execution_count": 14,
     "metadata": {},
     "output_type": "execute_result"
    }
   ],
   "source": [
    "query = \"\"\"\n",
    "// find actors and their movies\n",
    "MATCH (p:Person)-[r:ACTED_IN]->(m:Movie)\n",
    "RETURN p, r, m\n",
    "LIMIT 10;\n",
    "\"\"\"\n",
    "\n",
    "df = graph.run(query).to_data_frame()\n",
    "df.head(5)"
   ]
  },
  {
   "cell_type": "code",
   "execution_count": 50,
   "metadata": {},
   "outputs": [
    {
     "data": {
      "text/plain": [
       "p             {'born': 1967, 'name': 'James Marshall'}\n",
       "r                    {'roles': ['Pfc. Louden Downey']}\n",
       "m    {'tagline': 'In the heart of the nation's capi...\n",
       "Name: 0, dtype: object"
      ]
     },
     "execution_count": 50,
     "metadata": {},
     "output_type": "execute_result"
    }
   ],
   "source": [
    "df.iloc[0]"
   ]
  },
  {
   "cell_type": "code",
   "execution_count": 52,
   "metadata": {},
   "outputs": [
    {
     "data": {
      "text/plain": [
       "('James Marshall', ['Pfc. Louden Downey'], 'A Few Good Men')"
      ]
     },
     "execution_count": 52,
     "metadata": {},
     "output_type": "execute_result"
    }
   ],
   "source": [
    "df.iloc[0].p[\"name\"], df.iloc[0].r[\"roles\"], df.iloc[0].m[\"title\"]  "
   ]
  },
  {
   "cell_type": "code",
   "execution_count": 55,
   "metadata": {},
   "outputs": [
    {
     "data": {
      "text/plain": [
       "[{'p': Path(Node('Person', born=1967, name='James Marshall'), ACTED_IN(Node('Person', born=1967, name='James Marshall'), Node('Movie', released=1992, tagline=\"In the heart of the nation's capital, in a courthouse of the U.S. government, one man will stop at nothing to keep his honor, and one will stop at nothing to find the truth.\", title='A Few Good Men')))},\n",
       " {'p': Path(Node('Person', born=1943, name='J.T. Walsh'), ACTED_IN(Node('Person', born=1943, name='J.T. Walsh'), Node('Movie', released=1992, tagline=\"In the heart of the nation's capital, in a courthouse of the U.S. government, one man will stop at nothing to keep his honor, and one will stop at nothing to find the truth.\", title='A Few Good Men')))}]"
      ]
     },
     "execution_count": 55,
     "metadata": {},
     "output_type": "execute_result"
    }
   ],
   "source": [
    "query = \"\"\"\n",
    "// variable\n",
    "MATCH p = (:Person)-[:ACTED_IN]->(:Movie)\n",
    "RETURN p\n",
    "LIMIT 2;\n",
    "\"\"\"\n",
    "\n",
    "graph.run(query).data()"
   ]
  },
  {
   "cell_type": "code",
   "execution_count": 65,
   "metadata": {},
   "outputs": [
    {
     "data": {
      "text/plain": [
       "[{'p': Node('Person', born=1956, name='Tom Hanks')}]"
      ]
     },
     "execution_count": 65,
     "metadata": {},
     "output_type": "execute_result"
    }
   ],
   "source": [
    "query = \"\"\"\n",
    "//WHERE\n",
    "MATCH (p:Person)\n",
    "WHERE p.name = 'Tom Hanks'\n",
    "RETURN p;\n",
    "\"\"\"\n",
    "\n",
    "graph.run(query).data()"
   ]
  },
  {
   "cell_type": "code",
   "execution_count": 66,
   "metadata": {},
   "outputs": [
    {
     "data": {
      "text/plain": [
       "[{'p.name': 'Cameron Crowe', 'm.title': 'Jerry Maguire'},\n",
       " {'p.name': 'Nora Ephron', 'm.title': 'When Harry Met Sally'},\n",
       " {'p.name': 'Lana Wachowski', 'm.title': 'V for Vendetta'}]"
      ]
     },
     "execution_count": 66,
     "metadata": {},
     "output_type": "execute_result"
    }
   ],
   "source": [
    "query = \"\"\"\n",
    "// WHERE with pattern\n",
    "MATCH (p:Person)-[:WROTE]->(m:Movie)\n",
    "WHERE (p)-[:PRODUCED]->(m)\n",
    "RETURN p.name, m.title\n",
    "LIMIT 3;\n",
    "\"\"\"\n",
    "\n",
    "graph.run(query).data()"
   ]
  },
  {
   "cell_type": "code",
   "execution_count": 67,
   "metadata": {},
   "outputs": [
    {
     "data": {
      "text/plain": [
       "[{'p.name': 'Aaron Sorkin', 'm.title': 'A Few Good Men'},\n",
       " {'p.name': 'Jim Cash', 'm.title': 'Top Gun'},\n",
       " {'p.name': 'David Mitchell', 'm.title': 'Cloud Atlas'}]"
      ]
     },
     "execution_count": 67,
     "metadata": {},
     "output_type": "execute_result"
    }
   ],
   "source": [
    "query = \"\"\"\n",
    "// WHERE with pattern\n",
    "MATCH (p:Person)-[:WROTE]->(m:Movie)\n",
    "WHERE NOT (p)-[:PRODUCED]->(m)\n",
    "RETURN p.name, m.title\n",
    "LIMIT 3;\n",
    "\"\"\"\n",
    "\n",
    "graph.run(query).data()"
   ]
  },
  {
   "cell_type": "code",
   "execution_count": 68,
   "metadata": {},
   "outputs": [
    {
     "data": {
      "text/plain": [
       "[{'p': Node('Person', born=1952, name='Joel Silver')},\n",
       " {'p': Node('Person', born=1941, name='Jim Cash')},\n",
       " {'p': Node('Person', born=1969, name='David Mitchell')}]"
      ]
     },
     "execution_count": 68,
     "metadata": {},
     "output_type": "execute_result"
    }
   ],
   "source": [
    "query = \"\"\"\n",
    "MATCH (p:Person)\n",
    "WHERE NOT (p)-[:ACTED_IN|:DIRECTED]->(:Movie)\n",
    "RETURN p\n",
    "LIMIT 3;\n",
    "\"\"\"\n",
    "\n",
    "graph.run(query).data()"
   ]
  },
  {
   "cell_type": "code",
   "execution_count": 73,
   "metadata": {},
   "outputs": [
    {
     "data": {
      "text/plain": [
       "[{'m.title': 'The Matrix'},\n",
       " {'m.title': 'The Matrix Reloaded'},\n",
       " {'m.title': 'The Matrix Revolutions'}]"
      ]
     },
     "execution_count": 73,
     "metadata": {},
     "output_type": "execute_result"
    }
   ],
   "source": [
    "query = \"\"\"\n",
    "MATCH (m:Movie)\n",
    "WHERE m.title CONTAINS 'Matrix'\n",
    "RETURN m.title\n",
    "LIMIT 3;\n",
    "\"\"\"\n",
    "\n",
    "graph.run(query).data()"
   ]
  },
  {
   "cell_type": "code",
   "execution_count": 70,
   "metadata": {},
   "outputs": [
    {
     "data": {
      "text/plain": [
       "[{'m.title': 'The Matrix'},\n",
       " {'m.title': 'The Matrix Reloaded'},\n",
       " {'m.title': 'The Matrix Revolutions'}]"
      ]
     },
     "execution_count": 70,
     "metadata": {},
     "output_type": "execute_result"
    }
   ],
   "source": [
    "query = \"\"\"\n",
    "// string functions\n",
    "MATCH (m:Movie)\n",
    "WHERE m.title STARTS WITH 'The Matrix'\n",
    "RETURN m.title\n",
    "LIMIT 4;\n",
    "\"\"\"\n",
    "\n",
    "graph.run(query).data()"
   ]
  },
  {
   "cell_type": "code",
   "execution_count": 74,
   "metadata": {},
   "outputs": [
    {
     "data": {
      "text/plain": [
       "[{'m.title': 'Sleepless in Seattle'}]"
      ]
     },
     "execution_count": 74,
     "metadata": {},
     "output_type": "execute_result"
    }
   ],
   "source": [
    "query = \"\"\"\n",
    "// string functions\n",
    "MATCH (m:Movie)\n",
    "WHERE m.title ENDS WITH 'Seattle'\n",
    "RETURN m.title\n",
    "LIMIT 4;\n",
    "\"\"\"\n",
    "\n",
    "graph.run(query).data()"
   ]
  },
  {
   "cell_type": "code",
   "execution_count": 72,
   "metadata": {},
   "outputs": [
    {
     "data": {
      "text/plain": [
       "[{'p': Node('Person', born=1962, name='Tom Cruise'),\n",
       "  'm': Node('Movie', released=2000, tagline='The rest of his life begins now.', title='Jerry Maguire')},\n",
       " {'p': Node('Person', born=1962, name='Tom Cruise'),\n",
       "  'm': Node('Movie', released=1986, tagline='I feel the need, the need for speed.', title='Top Gun')},\n",
       " {'p': Node('Person', born=1962, name='Tom Cruise'),\n",
       "  'm': Node('Movie', released=1992, tagline=\"In the heart of the nation's capital, in a courthouse of the U.S. government, one man will stop at nothing to keep his honor, and one will stop at nothing to find the truth.\", title='A Few Good Men')},\n",
       " {'p': Node('Person', born=1933, name='Tom Skerritt'),\n",
       "  'm': Node('Movie', released=1986, tagline='I feel the need, the need for speed.', title='Top Gun')}]"
      ]
     },
     "execution_count": 72,
     "metadata": {},
     "output_type": "execute_result"
    }
   ],
   "source": [
    "query = \"\"\"\n",
    "MATCH (p:Person)-[:ACTED_IN]->(m:Movie)\n",
    "WHERE p.name STARTS WITH 'Tom'\n",
    "RETURN p, m\n",
    "LIMIT 4;\n",
    "\"\"\"\n",
    "\n",
    "graph.run(query).data()"
   ]
  },
  {
   "cell_type": "code",
   "execution_count": 77,
   "metadata": {},
   "outputs": [
    {
     "data": {
      "text/plain": [
       "[{'m.title': 'Apollo 13'}]"
      ]
     },
     "execution_count": 77,
     "metadata": {},
     "output_type": "execute_result"
    }
   ],
   "source": [
    "query = \"\"\"\n",
    "// regex\n",
    "MATCH (m:Movie)\n",
    "WHERE m.title =~ '.*[0-9]+.*'\n",
    "RETURN m.title\n",
    "LIMIT 3;\n",
    "\"\"\"\n",
    "\n",
    "graph.run(query).data()"
   ]
  },
  {
   "cell_type": "code",
   "execution_count": 78,
   "metadata": {},
   "outputs": [
    {
     "data": {
      "text/plain": [
       "[{'p.name': 'Tom Hanks', 'movies': 12},\n",
       " {'p.name': 'Keanu Reeves', 'movies': 7},\n",
       " {'p.name': 'Jack Nicholson', 'movies': 5},\n",
       " {'p.name': 'Hugo Weaving', 'movies': 5},\n",
       " {'p.name': 'Meg Ryan', 'movies': 5}]"
      ]
     },
     "execution_count": 78,
     "metadata": {},
     "output_type": "execute_result"
    }
   ],
   "source": [
    "query = \"\"\"\n",
    "// aggregate, order by, limit\n",
    "MATCH (p:Person)-[:ACTED_IN]->(m:Movie)\n",
    "RETURN p.name, count(*) AS movies\n",
    "ORDER BY movies DESC\n",
    "LIMIT 5;\n",
    "\"\"\"\n",
    "\n",
    "graph.run(query).data()"
   ]
  },
  {
   "cell_type": "code",
   "execution_count": 79,
   "metadata": {},
   "outputs": [
    {
     "data": {
      "text/plain": [
       "[{'other.name': 'Anthony Edwards', 'm.title': 'Top Gun'},\n",
       " {'other.name': 'Bill Pullman', 'm.title': 'Sleepless in Seattle'},\n",
       " {'other.name': 'Billy Crystal', 'm.title': 'When Harry Met Sally'}]"
      ]
     },
     "execution_count": 79,
     "metadata": {},
     "output_type": "execute_result"
    }
   ],
   "source": [
    "query = \"\"\"\n",
    "// multiple match\n",
    "MATCH (p:Person)-[:ACTED_IN]->(m:Movie),\n",
    "      (other:Person)-[:ACTED_IN]->(m)\n",
    "WHERE p.name = 'Meg Ryan'\n",
    "RETURN other.name, m.title\n",
    "ORDER BY other.name\n",
    "LIMIT 3;\n",
    "\"\"\"\n",
    "\n",
    "graph.run(query).data()"
   ]
  },
  {
   "cell_type": "code",
   "execution_count": 80,
   "metadata": {},
   "outputs": [
    {
     "data": {
      "text/plain": [
       "[{'movie': 'Sleepless in Seattle',\n",
       "  'director': 'Nora Ephron',\n",
       "  'coActor': 'Victor Garber'},\n",
       " {'movie': 'Sleepless in Seattle',\n",
       "  'director': 'Nora Ephron',\n",
       "  'coActor': 'Tom Hanks'},\n",
       " {'movie': 'Sleepless in Seattle',\n",
       "  'director': 'Nora Ephron',\n",
       "  'coActor': 'Bill Pullman'}]"
      ]
     },
     "execution_count": 80,
     "metadata": {},
     "output_type": "execute_result"
    }
   ],
   "source": [
    "query = \"\"\"\n",
    "// multiple match\n",
    "MATCH (p:Person)-[:ACTED_IN]->(m:Movie),\n",
    "      (other:Person)-[:ACTED_IN]->(m),\n",
    "      (director:Person)-[:DIRECTED]->(m)\n",
    "WHERE p.name = 'Meg Ryan'\n",
    "RETURN m.title AS movie, \n",
    "       director.name AS director,\n",
    "       other.name AS coActor\n",
    "LIMIT 3;\n",
    "\"\"\"\n",
    "\n",
    "graph.run(query).data()"
   ]
  },
  {
   "cell_type": "code",
   "execution_count": 81,
   "metadata": {},
   "outputs": [
    {
     "data": {
      "text/plain": [
       "[{'p.name': 'Tom Cruise', 'm.title': None},\n",
       " {'p.name': 'Tom Skerritt', 'm.title': None},\n",
       " {'p.name': 'Tom Hanks', 'm.title': 'That Thing You Do'},\n",
       " {'p.name': 'Tom Tykwer', 'm.title': 'Cloud Atlas'}]"
      ]
     },
     "execution_count": 81,
     "metadata": {},
     "output_type": "execute_result"
    }
   ],
   "source": [
    "query = \"\"\"\n",
    "// OPTINOAL MATCH\n",
    "MATCH (p:Person)\n",
    "WHERE p.name STARTS WITH 'Tom'\n",
    "OPTIONAL MATCH (p)-[:DIRECTED]->(m:Movie)\n",
    "RETURN p.name, m.title\n",
    "LIMIT 5;\n",
    "\"\"\"\n",
    "\n",
    "graph.run(query).data()"
   ]
  },
  {
   "cell_type": "markdown",
   "metadata": {},
   "source": [
    "Find actors with more than 5 movies"
   ]
  },
  {
   "cell_type": "code",
   "execution_count": 16,
   "metadata": {},
   "outputs": [
    {
     "data": {
      "text/plain": [
       "[{'p.name': 'Keanu Reeves',\n",
       "  'movies': ['The Matrix',\n",
       "   'The Matrix Reloaded',\n",
       "   'The Matrix Revolutions',\n",
       "   \"The Devil's Advocate\",\n",
       "   'The Replacements',\n",
       "   'Johnny Mnemonic',\n",
       "   \"Something's Gotta Give\"]},\n",
       " {'p.name': 'Tom Hanks',\n",
       "  'movies': [\"You've Got Mail\",\n",
       "   'Sleepless in Seattle',\n",
       "   'Joe Versus the Volcano',\n",
       "   'That Thing You Do',\n",
       "   'Cloud Atlas',\n",
       "   'The Da Vinci Code',\n",
       "   'The Green Mile',\n",
       "   'Apollo 13',\n",
       "   'Cast Away',\n",
       "   \"Charlie Wilson's War\",\n",
       "   'The Polar Express',\n",
       "   'A League of Their Own']}]"
      ]
     },
     "execution_count": 16,
     "metadata": {},
     "output_type": "execute_result"
    }
   ],
   "source": [
    "query = \"\"\"\n",
    "// WITH Clause\n",
    "MATCH (p:Person)-[:ACTED_IN]->(m:Movie)\n",
    "WITH p, collect(m.title) AS movies\n",
    "WHERE size(movies) > 5\n",
    "RETURN p.name, movies;\n",
    "\"\"\"\n",
    "\n",
    "graph.run(query).data()"
   ]
  },
  {
   "cell_type": "code",
   "execution_count": 18,
   "metadata": {},
   "outputs": [
    {
     "data": {
      "text/html": [
       "<table><tr><th>Name</th><th>movies</th></tr><tr><td style=\"text-align:left\">Tom Hanks</td><td style=\"text-align:left\">[&#039;A League of Their Own&#039;, &#039;Apollo 13&#039;, &#039;Cast Away&#039;, &quot;Charlie Wilson&#039;s War&quot;, &#039;Cloud Atlas&#039;, &#039;Joe Versus the Volcano&#039;, &#039;Sleepless in Seattle&#039;, &#039;That Thing You Do&#039;, &#039;The Da Vinci Code&#039;, &#039;The Green Mile&#039;, &#039;The Polar Express&#039;, &quot;You&#039;ve Got Mail&quot;]</td></tr><tr><td style=\"text-align:left\">Keanu Reeves</td><td style=\"text-align:left\">[&#039;Johnny Mnemonic&#039;, &quot;Something&#039;s Gotta Give&quot;, &quot;The Devil&#039;s Advocate&quot;, &#039;The Matrix&#039;, &#039;The Matrix Reloaded&#039;, &#039;The Matrix Revolutions&#039;, &#039;The Replacements&#039;]</td></tr></table>"
      ],
      "text/plain": [
       " Name         | movies                                                                                                                                                                                                                                           \n",
       "--------------|--------------------------------------------------------------------------------------------------------------------------------------------------------------------------------------------------------------------------------------------------\n",
       " Tom Hanks    | ['A League of Their Own', 'Apollo 13', 'Cast Away', \"Charlie Wilson's War\", 'Cloud Atlas', 'Joe Versus the Volcano', 'Sleepless in Seattle', 'That Thing You Do', 'The Da Vinci Code', 'The Green Mile', 'The Polar Express', \"You've Got Mail\"] \n",
       " Keanu Reeves | ['Johnny Mnemonic', \"Something's Gotta Give\", \"The Devil's Advocate\", 'The Matrix', 'The Matrix Reloaded', 'The Matrix Revolutions', 'The Replacements']                                                                                         "
      ]
     },
     "execution_count": 18,
     "metadata": {},
     "output_type": "execute_result"
    }
   ],
   "source": [
    "query = \"\"\"\n",
    "// WITH Clause\n",
    "MATCH (p:Person)-[:ACTED_IN]->(m:Movie)\n",
    "WITH p, m\n",
    "ORDER BY m.title\n",
    "WITH p, collect(m.title) AS movies\n",
    "WHERE size(movies) > 5\n",
    "RETURN p.name as Name, movies;\n",
    "\"\"\"\n",
    "\n",
    "graph.run(query).to_table()"
   ]
  },
  {
   "cell_type": "markdown",
   "metadata": {},
   "source": [
    "Get the two oldest people and their three most recent movies."
   ]
  },
  {
   "cell_type": "code",
   "execution_count": 23,
   "metadata": {},
   "outputs": [
    {
     "data": {
      "text/html": [
       "<table><tr><th>actor.name</th><th>age</th><th>movies</th></tr><tr><td style=\"text-align:left\">Gene Hackman</td><td style=\"text-align:right\">86</td><td style=\"text-align:left\">[&#039;The Replacements&#039;, &#039;The Birdcage&#039;, &#039;Unforgiven&#039;]</td></tr><tr><td style=\"text-align:left\">Max von Sydow</td><td style=\"text-align:right\">87</td><td style=\"text-align:left\">[&#039;Snow Falling on Cedars&#039;, &#039;What Dreams May Come&#039;]</td></tr></table>"
      ],
      "text/plain": [
       " actor.name    | age | movies                                             \n",
       "---------------|-----|----------------------------------------------------\n",
       " Gene Hackman  |  86 | ['The Replacements', 'The Birdcage', 'Unforgiven'] \n",
       " Max von Sydow |  87 | ['Snow Falling on Cedars', 'What Dreams May Come'] "
      ]
     },
     "execution_count": 23,
     "metadata": {},
     "output_type": "execute_result"
    }
   ],
   "source": [
    "query = \"\"\"\n",
    "// Get the two oldest people and their three most recent movies.\n",
    "MATCH (actor:Person) \n",
    "WITH actor \n",
    "ORDER BY actor.born \n",
    "LIMIT 2 \n",
    "MATCH (actor)-[:ACTED_IN]->(movie:Movie) \n",
    "WITH actor, movie \n",
    "ORDER BY movie.released DESC \n",
    "RETURN actor.name, \n",
    "       2016 - actor.born AS age, \n",
    "       collect(movie.title)[..3] AS movies;\n",
    "\"\"\"\n",
    "\n",
    "graph.run(query).to_table()"
   ]
  },
  {
   "cell_type": "code",
   "execution_count": 27,
   "metadata": {},
   "outputs": [
    {
     "data": {
      "text/html": [
       "<table><tr><th>actor.name</th><th>age</th><th>movie.released</th><th>movie.title</th></tr><tr><td style=\"text-align:left\">Gene Hackman</td><td style=\"text-align:right\">86</td><td style=\"text-align:right\">2000</td><td style=\"text-align:left\">The Replacements</td></tr><tr><td style=\"text-align:left\">Gene Hackman</td><td style=\"text-align:right\">86</td><td style=\"text-align:right\">1996</td><td style=\"text-align:left\">The Birdcage</td></tr><tr><td style=\"text-align:left\">Gene Hackman</td><td style=\"text-align:right\">86</td><td style=\"text-align:right\">1992</td><td style=\"text-align:left\">Unforgiven</td></tr><tr><td style=\"text-align:left\">Max von Sydow</td><td style=\"text-align:right\">87</td><td style=\"text-align:right\">1999</td><td style=\"text-align:left\">Snow Falling on Cedars</td></tr><tr><td style=\"text-align:left\">Max von Sydow</td><td style=\"text-align:right\">87</td><td style=\"text-align:right\">1998</td><td style=\"text-align:left\">What Dreams May Come</td></tr></table>"
      ],
      "text/plain": [
       " actor.name    | age | movie.released | movie.title            \n",
       "---------------|-----|----------------|------------------------\n",
       " Gene Hackman  |  86 |           2000 | The Replacements       \n",
       " Gene Hackman  |  86 |           1996 | The Birdcage           \n",
       " Gene Hackman  |  86 |           1992 | Unforgiven             \n",
       " Max von Sydow |  87 |           1999 | Snow Falling on Cedars \n",
       " Max von Sydow |  87 |           1998 | What Dreams May Come   "
      ]
     },
     "execution_count": 27,
     "metadata": {},
     "output_type": "execute_result"
    }
   ],
   "source": [
    "query = \"\"\"\n",
    "// Get the two oldest people and their three most recent movies.\n",
    "MATCH (actor:Person) \n",
    "WITH actor \n",
    "ORDER BY actor.born \n",
    "LIMIT 2 \n",
    "MATCH (actor)-[:ACTED_IN]->(movie:Movie) \n",
    "WITH actor, movie \n",
    "ORDER BY movie.released DESC \n",
    "RETURN actor.name, \n",
    "       2016 - actor.born AS age,\n",
    "       movie.released,\n",
    "       movie.title\n",
    "ORDER BY actor.name;\n",
    "\"\"\"\n",
    "\n",
    "graph.run(query).to_table()"
   ]
  },
  {
   "cell_type": "code",
   "execution_count": 36,
   "metadata": {},
   "outputs": [
    {
     "data": {
      "text/html": [
       "<table><tr><th>co_stars</th></tr><tr><td style=\"text-align:left\">[&#039;Victor Garber&#039;, &#039;Tom Hanks&#039;, &#039;Bill Pullman&#039;, &#039;Rita Wilson&#039;, &quot;Rosie O&#039;Donnell&quot;, &#039;Parker Posey&#039;, &#039;Greg Kinnear&#039;, &#039;Steve Zahn&#039;, &#039;Dave Chappelle&#039;, &#039;Val Kilmer&#039;, &#039;Tom Skerritt&#039;, &#039;Kelly McGillis&#039;, &#039;Tom Cruise&#039;, &#039;Anthony Edwards&#039;, &#039;Carrie Fisher&#039;, &#039;Billy Crystal&#039;, &#039;Bruno Kirby&#039;, &#039;Nathan Lane&#039;]</td></tr></table>"
      ],
      "text/plain": [
       " co_stars                                                                                                                                                                                                                                                                                          \n",
       "---------------------------------------------------------------------------------------------------------------------------------------------------------------------------------------------------------------------------------------------------------------------------------------------------\n",
       " ['Victor Garber', 'Tom Hanks', 'Bill Pullman', 'Rita Wilson', \"Rosie O'Donnell\", 'Parker Posey', 'Greg Kinnear', 'Steve Zahn', 'Dave Chappelle', 'Val Kilmer', 'Tom Skerritt', 'Kelly McGillis', 'Tom Cruise', 'Anthony Edwards', 'Carrie Fisher', 'Billy Crystal', 'Bruno Kirby', 'Nathan Lane'] "
      ]
     },
     "execution_count": 36,
     "metadata": {},
     "output_type": "execute_result"
    }
   ],
   "source": [
    "query = \"\"\"\n",
    "// distinct\n",
    "MATCH (p:Person)-[:ACTED_IN]->(m:Movie),\n",
    "      (other:Person)-[:ACTED_IN]->(m)\n",
    "WHERE p.name = 'Meg Ryan'\n",
    "RETURN collect(DISTINCT other.name) as co_stars\n",
    ";\n",
    "\"\"\"\n",
    "\n",
    "graph.run(query).to_table()"
   ]
  },
  {
   "cell_type": "code",
   "execution_count": 37,
   "metadata": {},
   "outputs": [
    {
     "data": {
      "text/html": [
       "<table><tr><th>m.title</th><th>actors</th></tr><tr><td style=\"text-align:left\">The Matrix</td><td style=\"text-align:left\">[&#039;Hugo Weaving&#039;, &#039;Laurence Fishburne&#039;, &#039;Carrie-Anne Moss&#039;, &#039;Keanu Reeves&#039;]</td></tr><tr><td style=\"text-align:left\">The Matrix Reloaded</td><td style=\"text-align:left\">[&#039;Hugo Weaving&#039;, &#039;Laurence Fishburne&#039;, &#039;Carrie-Anne Moss&#039;, &#039;Keanu Reeves&#039;]</td></tr><tr><td style=\"text-align:left\">The Matrix Revolutions</td><td style=\"text-align:left\">[&#039;Hugo Weaving&#039;, &#039;Laurence Fishburne&#039;, &#039;Carrie-Anne Moss&#039;, &#039;Keanu Reeves&#039;]</td></tr></table>"
      ],
      "text/plain": [
       " m.title                | actors                                                                     \n",
       "------------------------|----------------------------------------------------------------------------\n",
       " The Matrix             | ['Hugo Weaving', 'Laurence Fishburne', 'Carrie-Anne Moss', 'Keanu Reeves'] \n",
       " The Matrix Reloaded    | ['Hugo Weaving', 'Laurence Fishburne', 'Carrie-Anne Moss', 'Keanu Reeves'] \n",
       " The Matrix Revolutions | ['Hugo Weaving', 'Laurence Fishburne', 'Carrie-Anne Moss', 'Keanu Reeves'] "
      ]
     },
     "execution_count": 37,
     "metadata": {},
     "output_type": "execute_result"
    }
   ],
   "source": [
    "query = \"\"\"\n",
    "// collect to array\n",
    "MATCH (p:Person)-[:ACTED_IN]->(m:Movie)\n",
    "WHERE m.title STARTS WITH 'The Matrix'\n",
    "RETURN m.title, collect(p.name) AS actors;\n",
    "\"\"\"\n",
    "\n",
    "graph.run(query).to_table()"
   ]
  },
  {
   "cell_type": "markdown",
   "metadata": {},
   "source": [
    "Get top producers"
   ]
  },
  {
   "cell_type": "code",
   "execution_count": 38,
   "metadata": {},
   "outputs": [
    {
     "data": {
      "text/html": [
       "<table><tr><th>p.name</th><th>prod</th></tr><tr><td style=\"text-align:left\">Joel Silver</td><td style=\"text-align:right\">6</td></tr><tr><td style=\"text-align:left\">Lilly Wachowski</td><td style=\"text-align:right\">2</td></tr><tr><td style=\"text-align:left\">Lana Wachowski</td><td style=\"text-align:right\">2</td></tr><tr><td style=\"text-align:left\">Rob Reiner</td><td style=\"text-align:right\">1</td></tr><tr><td style=\"text-align:left\">Cameron Crowe</td><td style=\"text-align:right\">1</td></tr></table>"
      ],
      "text/plain": [
       " p.name          | prod \n",
       "-----------------|------\n",
       " Joel Silver     |    6 \n",
       " Lilly Wachowski |    2 \n",
       " Lana Wachowski  |    2 \n",
       " Rob Reiner      |    1 \n",
       " Cameron Crowe   |    1 "
      ]
     },
     "execution_count": 38,
     "metadata": {},
     "output_type": "execute_result"
    }
   ],
   "source": [
    "query = \"\"\"\n",
    "// size\n",
    "MATCH (p:Person)\n",
    "RETURN p.name, \n",
    "       size((p)-[:PRODUCED]->(:Movie)) AS prod\n",
    "ORDER BY prod DESC\n",
    "LIMIT 5;\n",
    "\"\"\"\n",
    "\n",
    "graph.run(query).to_table()"
   ]
  },
  {
   "cell_type": "markdown",
   "metadata": {},
   "source": [
    "Find producers with more than 5 movie titles"
   ]
  },
  {
   "cell_type": "code",
   "execution_count": 40,
   "metadata": {},
   "outputs": [
    {
     "data": {
      "text/html": [
       "<table><tr><th>p.name</th></tr><tr><td style=\"text-align:left\">Joel Silver</td></tr></table>"
      ],
      "text/plain": [
       " p.name      \n",
       "-------------\n",
       " Joel Silver "
      ]
     },
     "execution_count": 40,
     "metadata": {},
     "output_type": "execute_result"
    }
   ],
   "source": [
    "query = \"\"\"\n",
    "MATCH (p:Person)\n",
    "WHERE size((p)-[:PRODUCED]->(:Movie)) > 5\n",
    "RETURN p.name;\n",
    "\"\"\"\n",
    "\n",
    "graph.run(query).to_table()"
   ]
  },
  {
   "cell_type": "code",
   "execution_count": 49,
   "metadata": {},
   "outputs": [
    {
     "data": {
      "text/html": [
       "<table><tr><th>p.name</th><th>movies</th><th>collect(m.title)</th><th>m2.title</th></tr><tr><td style=\"text-align:left\">Tom Hanks</td><td style=\"text-align:right\">12</td><td style=\"text-align:left\">[&#039;Apollo 13&#039;, &quot;You&#039;ve Got Mail&quot;, &#039;A League of Their Own&#039;, &#039;Joe Versus the Volcano&#039;, &#039;That Thing You Do&#039;, &#039;The Da Vinci Code&#039;, &#039;Cloud Atlas&#039;, &#039;Cast Away&#039;, &#039;The Green Mile&#039;, &#039;Sleepless in Seattle&#039;, &#039;The Polar Express&#039;, &quot;Charlie Wilson&#039;s War&quot;]</td><td style=\"text-align:left\">That Thing You Do</td></tr><tr><td style=\"text-align:left\">Keanu Reeves</td><td style=\"text-align:right\">7</td><td style=\"text-align:left\">[&quot;Something&#039;s Gotta Give&quot;, &#039;The Replacements&#039;, &#039;Johnny Mnemonic&#039;, &quot;The Devil&#039;s Advocate&quot;, &#039;The Matrix Revolutions&#039;, &#039;The Matrix Reloaded&#039;, &#039;The Matrix&#039;]</td><td style=\"text-align:left\">null</td></tr><tr><td style=\"text-align:left\">Meg Ryan</td><td style=\"text-align:right\">5</td><td style=\"text-align:left\">[&#039;Sleepless in Seattle&#039;, &quot;You&#039;ve Got Mail&quot;, &#039;Top Gun&#039;, &#039;When Harry Met Sally&#039;, &#039;Joe Versus the Volcano&#039;]</td><td style=\"text-align:left\">null</td></tr><tr><td style=\"text-align:left\">Hugo Weaving</td><td style=\"text-align:right\">5</td><td style=\"text-align:left\">[&#039;Cloud Atlas&#039;, &#039;V for Vendetta&#039;, &#039;The Matrix Revolutions&#039;, &#039;The Matrix Reloaded&#039;, &#039;The Matrix&#039;]</td><td style=\"text-align:left\">null</td></tr><tr><td style=\"text-align:left\">Jack Nicholson</td><td style=\"text-align:right\">5</td><td style=\"text-align:left\">[&#039;As Good as It Gets&#039;, &quot;One Flew Over the Cuckoo&#039;s Nest&quot;, &quot;Something&#039;s Gotta Give&quot;, &#039;Hoffa&#039;, &#039;A Few Good Men&#039;]</td><td style=\"text-align:left\">null</td></tr></table>"
      ],
      "text/plain": [
       " p.name         | movies | collect(m.title)                                                                                                                                                                                                                                 | m2.title          \n",
       "----------------|--------|--------------------------------------------------------------------------------------------------------------------------------------------------------------------------------------------------------------------------------------------------|-------------------\n",
       " Tom Hanks      |     12 | ['Apollo 13', \"You've Got Mail\", 'A League of Their Own', 'Joe Versus the Volcano', 'That Thing You Do', 'The Da Vinci Code', 'Cloud Atlas', 'Cast Away', 'The Green Mile', 'Sleepless in Seattle', 'The Polar Express', \"Charlie Wilson's War\"] | That Thing You Do \n",
       " Keanu Reeves   |      7 | [\"Something's Gotta Give\", 'The Replacements', 'Johnny Mnemonic', \"The Devil's Advocate\", 'The Matrix Revolutions', 'The Matrix Reloaded', 'The Matrix']                                                                                         | null              \n",
       " Meg Ryan       |      5 | ['Sleepless in Seattle', \"You've Got Mail\", 'Top Gun', 'When Harry Met Sally', 'Joe Versus the Volcano']                                                                                                                                         | null              \n",
       " Hugo Weaving   |      5 | ['Cloud Atlas', 'V for Vendetta', 'The Matrix Revolutions', 'The Matrix Reloaded', 'The Matrix']                                                                                                                                                 | null              \n",
       " Jack Nicholson |      5 | ['As Good as It Gets', \"One Flew Over the Cuckoo's Nest\", \"Something's Gotta Give\", 'Hoffa', 'A Few Good Men']                                                                                                                                   | null              "
      ]
     },
     "execution_count": 49,
     "metadata": {},
     "output_type": "execute_result"
    }
   ],
   "source": [
    "query = \"\"\"\n",
    "// Find the top five actors by how many movies they’ve acted in and movies they’ve directed, if any\n",
    "MATCH (p:Person)\n",
    "WITH p, size((p)-[:ACTED_IN]->(:Movie)) AS movies\n",
    "ORDER BY movies DESC\n",
    "LIMIT 5\n",
    "OPTIONAL MATCH (p)-[:ACTED_IN]->(m:Movie)\n",
    "OPTIONAL MATCH (p)-[:DIRECTED]->(m2:Movie)\n",
    "RETURN p.name, movies, collect(m.title), m2.title;\n",
    "\"\"\"\n",
    "\n",
    "graph.run(query).to_table()"
   ]
  },
  {
   "cell_type": "markdown",
   "metadata": {},
   "source": [
    "#### UNWIND: list into row"
   ]
  },
  {
   "cell_type": "code",
   "execution_count": 50,
   "metadata": {},
   "outputs": [
    {
     "data": {
      "text/html": [
       "<table><tr><th>list</th></tr><tr><td style=\"text-align:left\">[1, 2, 3]</td></tr></table>"
      ],
      "text/plain": [
       " list      \n",
       "-----------\n",
       " [1, 2, 3] "
      ]
     },
     "execution_count": 50,
     "metadata": {},
     "output_type": "execute_result"
    }
   ],
   "source": [
    "query = \"\"\"\n",
    "WITH [1, 2, 3] AS list\n",
    "RETURN list;\n",
    "\"\"\"\n",
    "\n",
    "graph.run(query).to_table()"
   ]
  },
  {
   "cell_type": "code",
   "execution_count": 53,
   "metadata": {},
   "outputs": [
    {
     "data": {
      "text/html": [
       "<table><tr><th>row</th></tr><tr><td style=\"text-align:right\">1</td></tr><tr><td style=\"text-align:right\">2</td></tr><tr><td style=\"text-align:right\">3</td></tr></table>"
      ],
      "text/plain": [
       " row \n",
       "-----\n",
       "   1 \n",
       "   2 \n",
       "   3 "
      ]
     },
     "execution_count": 53,
     "metadata": {},
     "output_type": "execute_result"
    }
   ],
   "source": [
    "query = \"\"\"\n",
    "// list to row\n",
    "WITH [1, 2, 3] AS list\n",
    "UNWIND list AS row\n",
    "RETURN row;\n",
    "\"\"\"\n",
    "\n",
    "graph.run(query).to_table()"
   ]
  },
  {
   "cell_type": "code",
   "execution_count": 57,
   "metadata": {},
   "outputs": [
    {
     "data": {
      "text/html": [
       "<table><tr><th>p.name</th><th>m.title</th><th>dir.name</th></tr><tr><td style=\"text-align:left\">Danny DeVito</td><td style=\"text-align:left\">One Flew Over the Cuckoo&#039;s Nest</td><td style=\"text-align:left\">Milos Forman</td></tr><tr><td style=\"text-align:left\">Danny DeVito</td><td style=\"text-align:left\">Hoffa</td><td style=\"text-align:left\">Danny DeVito</td></tr><tr><td style=\"text-align:left\">Jack Nicholson</td><td style=\"text-align:left\">One Flew Over the Cuckoo&#039;s Nest</td><td style=\"text-align:left\">Milos Forman</td></tr><tr><td style=\"text-align:left\">Jack Nicholson</td><td style=\"text-align:left\">A Few Good Men</td><td style=\"text-align:left\">Rob Reiner</td></tr><tr><td style=\"text-align:left\">Jack Nicholson</td><td style=\"text-align:left\">Hoffa</td><td style=\"text-align:left\">Danny DeVito</td></tr><tr><td style=\"text-align:left\">Val Kilmer</td><td style=\"text-align:left\">Top Gun</td><td style=\"text-align:left\">Tony Scott</td></tr><tr><td style=\"text-align:left\">Meg Ryan</td><td style=\"text-align:left\">Top Gun</td><td style=\"text-align:left\">Tony Scott</td></tr></table>"
      ],
      "text/plain": [
       " p.name         | m.title                         | dir.name     \n",
       "----------------|---------------------------------|--------------\n",
       " Danny DeVito   | One Flew Over the Cuckoo's Nest | Milos Forman \n",
       " Danny DeVito   | Hoffa                           | Danny DeVito \n",
       " Jack Nicholson | One Flew Over the Cuckoo's Nest | Milos Forman \n",
       " Jack Nicholson | A Few Good Men                  | Rob Reiner   \n",
       " Jack Nicholson | Hoffa                           | Danny DeVito \n",
       " Val Kilmer     | Top Gun                         | Tony Scott   \n",
       " Meg Ryan       | Top Gun                         | Tony Scott   "
      ]
     },
     "execution_count": 57,
     "metadata": {},
     "output_type": "execute_result"
    }
   ],
   "source": [
    "query = \"\"\"\n",
    "MATCH (p:Person)-[:ACTED_IN]->(m:Movie)\n",
    "WITH p, m\n",
    "ORDER BY m.released\n",
    "WITH p, collect(m)[..3] AS topThree\n",
    "UNWIND topThree AS m\n",
    "MATCH (dir:Person)-[:DIRECTED]->(m)\n",
    "RETURN p.name, m.title, dir.name\n",
    "LIMIT 7;\n",
    "\"\"\"\n",
    "\n",
    "graph.run(query).to_table()"
   ]
  },
  {
   "cell_type": "code",
   "execution_count": 58,
   "metadata": {},
   "outputs": [
    {
     "data": {
      "text/html": [
       "<table><tr><th>p</th></tr><tr><td style=\"text-align:left\">(Tom Cruise)-[:ACTED_IN {}]-&gt;(_37)&lt;-[:ACTED_IN {}]-(Cuba Gooding Jr.)-[:ACTED_IN {}]-&gt;(_15)&lt;-[:ACTED_IN {}]-(Kevin Bacon)</td></tr><tr><td style=\"text-align:left\">(Tom Cruise)-[:ACTED_IN {}]-&gt;(_15)&lt;-[:ACTED_IN {}]-(Kevin Bacon)</td></tr></table>"
      ],
      "text/plain": [
       " p                                                                                                                         \n",
       "---------------------------------------------------------------------------------------------------------------------------\n",
       " (Tom Cruise)-[:ACTED_IN {}]->(_37)<-[:ACTED_IN {}]-(Cuba Gooding Jr.)-[:ACTED_IN {}]->(_15)<-[:ACTED_IN {}]-(Kevin Bacon) \n",
       " (Tom Cruise)-[:ACTED_IN {}]->(_15)<-[:ACTED_IN {}]-(Kevin Bacon)                                                          "
      ]
     },
     "execution_count": 58,
     "metadata": {},
     "output_type": "execute_result"
    }
   ],
   "source": [
    "query = \"\"\"\n",
    "// Variable length paths between two persons\n",
    "MATCH p = (p1:Person)-[:ACTED_IN*..4]-(p2:Person)\n",
    "WHERE p1.name = 'Tom Cruise' AND      \n",
    "      p2.name = 'Kevin Bacon'\n",
    "RETURN p;\n",
    "\"\"\"\n",
    "\n",
    "graph.run(query).to_table()"
   ]
  },
  {
   "cell_type": "code",
   "execution_count": 59,
   "metadata": {},
   "outputs": [
    {
     "data": {
      "text/html": [
       "<table><tr><th>p</th></tr><tr><td style=\"text-align:left\">(Tom Hanks)-[:ACTED_IN {}]-&gt;(_144)&lt;-[:ACTED_IN {}]-(Gary Sinise)-[:ACTED_IN {}]-&gt;(_130)&lt;-[:ACTED_IN {}]-(Sam Rockwell)-[:ACTED_IN {}]-&gt;(_137)&lt;-[:ACTED_IN {}]-(Kevin Bacon)</td></tr><tr><td style=\"text-align:left\">(Tom Hanks)-[:ACTED_IN {}]-&gt;(_67)&lt;-[:ACTED_IN {}]-(Greg Kinnear)-[:ACTED_IN {}]-&gt;(_52)&lt;-[:ACTED_IN {}]-(Jack Nicholson)-[:ACTED_IN {}]-&gt;(_15)&lt;-[:ACTED_IN {}]-(Kevin Bacon)</td></tr><tr><td style=\"text-align:left\">(Tom Hanks)-[:ACTED_IN {}]-&gt;(_67)&lt;-[:ACTED_IN {}]-(Greg Kinnear)-[:ACTED_IN {}]-&gt;(_52)&lt;-[:ACTED_IN {}]-(Cuba Gooding Jr.)-[:ACTED_IN {}]-&gt;(_15)&lt;-[:ACTED_IN {}]-(Kevin Bacon)</td></tr><tr><td style=\"text-align:left\">(Tom Hanks)-[:ACTED_IN {}]-&gt;(_67)&lt;-[:ACTED_IN {}]-(Meg Ryan)-[:ACTED_IN {}]-&gt;(_73)&lt;-[:ACTED_IN {}]-(Tom Hanks)-[:ACTED_IN {}]-&gt;(_144)&lt;-[:ACTED_IN {}]-(Kevin Bacon)</td></tr><tr><td style=\"text-align:left\">(Tom Hanks)-[:ACTED_IN {}]-&gt;(_67)&lt;-[:ACTED_IN {}]-(Meg Ryan)-[:ACTED_IN {}]-&gt;(_29)&lt;-[:ACTED_IN {}]-(Tom Cruise)-[:ACTED_IN {}]-&gt;(_15)&lt;-[:ACTED_IN {}]-(Kevin Bacon)</td></tr><tr><td style=\"text-align:left\">(Tom Hanks)-[:ACTED_IN {}]-&gt;(_67)&lt;-[:ACTED_IN {}]-(Meg Ryan)-[:ACTED_IN {}]-&gt;(_78)&lt;-[:ACTED_IN {}]-(Tom Hanks)-[:ACTED_IN {}]-&gt;(_144)&lt;-[:ACTED_IN {}]-(Kevin Bacon)</td></tr><tr><td style=\"text-align:left\">(Tom Hanks)-[:ACTED_IN {}]-&gt;(_162)&lt;-[:ACTED_IN {}]-(Rosie O&#039;Donnell)-[:ACTED_IN {}]-&gt;(_73)&lt;-[:ACTED_IN {}]-(Tom Hanks)-[:ACTED_IN {}]-&gt;(_144)&lt;-[:ACTED_IN {}]-(Kevin Bacon)</td></tr><tr><td style=\"text-align:left\">(Tom Hanks)-[:ACTED_IN {}]-&gt;(_162)&lt;-[:ACTED_IN {}]-(Bill Paxton)-[:ACTED_IN {}]-&gt;(_144)&lt;-[:ACTED_IN {}]-(Kevin Bacon)</td></tr><tr><td style=\"text-align:left\">(Tom Hanks)-[:ACTED_IN {}]-&gt;(_78)&lt;-[:ACTED_IN {}]-(Meg Ryan)-[:ACTED_IN {}]-&gt;(_73)&lt;-[:ACTED_IN {}]-(Tom Hanks)-[:ACTED_IN {}]-&gt;(_144)&lt;-[:ACTED_IN {}]-(Kevin Bacon)</td></tr><tr><td style=\"text-align:left\">(Tom Hanks)-[:ACTED_IN {}]-&gt;(_78)&lt;-[:ACTED_IN {}]-(Meg Ryan)-[:ACTED_IN {}]-&gt;(_67)&lt;-[:ACTED_IN {}]-(Tom Hanks)-[:ACTED_IN {}]-&gt;(_144)&lt;-[:ACTED_IN {}]-(Kevin Bacon)</td></tr><tr><td style=\"text-align:left\">(Tom Hanks)-[:ACTED_IN {}]-&gt;(_78)&lt;-[:ACTED_IN {}]-(Meg Ryan)-[:ACTED_IN {}]-&gt;(_29)&lt;-[:ACTED_IN {}]-(Tom Cruise)-[:ACTED_IN {}]-&gt;(_15)&lt;-[:ACTED_IN {}]-(Kevin Bacon)</td></tr><tr><td style=\"text-align:left\">(Tom Hanks)-[:ACTED_IN {}]-&gt;(_150)&lt;-[:ACTED_IN {}]-(Helen Hunt)-[:ACTED_IN {}]-&gt;(_52)&lt;-[:ACTED_IN {}]-(Jack Nicholson)-[:ACTED_IN {}]-&gt;(_15)&lt;-[:ACTED_IN {}]-(Kevin Bacon)</td></tr><tr><td style=\"text-align:left\">(Tom Hanks)-[:ACTED_IN {}]-&gt;(_150)&lt;-[:ACTED_IN {}]-(Helen Hunt)-[:ACTED_IN {}]-&gt;(_52)&lt;-[:ACTED_IN {}]-(Cuba Gooding Jr.)-[:ACTED_IN {}]-&gt;(_15)&lt;-[:ACTED_IN {}]-(Kevin Bacon)</td></tr><tr><td style=\"text-align:left\">(Tom Hanks)-[:ACTED_IN {}]-&gt;(_150)&lt;-[:ACTED_IN {}]-(Helen Hunt)-[:ACTED_IN {}]-&gt;(_147)&lt;-[:ACTED_IN {}]-(Bill Paxton)-[:ACTED_IN {}]-&gt;(_144)&lt;-[:ACTED_IN {}]-(Kevin Bacon)</td></tr><tr><td style=\"text-align:left\">(Tom Hanks)-[:ACTED_IN {}]-&gt;(_130)&lt;-[:ACTED_IN {}]-(Sam Rockwell)-[:ACTED_IN {}]-&gt;(_137)&lt;-[:ACTED_IN {}]-(Kevin Bacon)</td></tr><tr><td style=\"text-align:left\">(Tom Hanks)-[:ACTED_IN {}]-&gt;(_130)&lt;-[:ACTED_IN {}]-(Bonnie Hunt)-[:ACTED_IN {}]-&gt;(_37)&lt;-[:ACTED_IN {}]-(Cuba Gooding Jr.)-[:ACTED_IN {}]-&gt;(_15)&lt;-[:ACTED_IN {}]-(Kevin Bacon)</td></tr><tr><td style=\"text-align:left\">(Tom Hanks)-[:ACTED_IN {}]-&gt;(_130)&lt;-[:ACTED_IN {}]-(Bonnie Hunt)-[:ACTED_IN {}]-&gt;(_37)&lt;-[:ACTED_IN {}]-(Tom Cruise)-[:ACTED_IN {}]-&gt;(_15)&lt;-[:ACTED_IN {}]-(Kevin Bacon)</td></tr><tr><td style=\"text-align:left\">(Tom Hanks)-[:ACTED_IN {}]-&gt;(_130)&lt;-[:ACTED_IN {}]-(Gary Sinise)-[:ACTED_IN {}]-&gt;(_144)&lt;-[:ACTED_IN {}]-(Kevin Bacon)</td></tr><tr><td style=\"text-align:left\">(Tom Hanks)-[:ACTED_IN {}]-&gt;(_73)&lt;-[:ACTED_IN {}]-(Meg Ryan)-[:ACTED_IN {}]-&gt;(_67)&lt;-[:ACTED_IN {}]-(Tom Hanks)-[:ACTED_IN {}]-&gt;(_144)&lt;-[:ACTED_IN {}]-(Kevin Bacon)</td></tr><tr><td style=\"text-align:left\">(Tom Hanks)-[:ACTED_IN {}]-&gt;(_73)&lt;-[:ACTED_IN {}]-(Meg Ryan)-[:ACTED_IN {}]-&gt;(_29)&lt;-[:ACTED_IN {}]-(Tom Cruise)-[:ACTED_IN {}]-&gt;(_15)&lt;-[:ACTED_IN {}]-(Kevin Bacon)</td></tr><tr><td style=\"text-align:left\">(Tom Hanks)-[:ACTED_IN {}]-&gt;(_73)&lt;-[:ACTED_IN {}]-(Meg Ryan)-[:ACTED_IN {}]-&gt;(_78)&lt;-[:ACTED_IN {}]-(Tom Hanks)-[:ACTED_IN {}]-&gt;(_144)&lt;-[:ACTED_IN {}]-(Kevin Bacon)</td></tr><tr><td style=\"text-align:left\">(Tom Hanks)-[:ACTED_IN {}]-&gt;(_73)&lt;-[:ACTED_IN {}]-(Rosie O&#039;Donnell)-[:ACTED_IN {}]-&gt;(_162)&lt;-[:ACTED_IN {}]-(Tom Hanks)-[:ACTED_IN {}]-&gt;(_144)&lt;-[:ACTED_IN {}]-(Kevin Bacon)</td></tr><tr><td style=\"text-align:left\">(Tom Hanks)-[:ACTED_IN {}]-&gt;(_73)&lt;-[:ACTED_IN {}]-(Rosie O&#039;Donnell)-[:ACTED_IN {}]-&gt;(_162)&lt;-[:ACTED_IN {}]-(Bill Paxton)-[:ACTED_IN {}]-&gt;(_144)&lt;-[:ACTED_IN {}]-(Kevin Bacon)</td></tr><tr><td style=\"text-align:left\">(Tom Hanks)-[:ACTED_IN {}]-&gt;(_159)&lt;-[:ACTED_IN {}]-(Philip Seymour Hoffman)-[:ACTED_IN {}]-&gt;(_147)&lt;-[:ACTED_IN {}]-(Bill Paxton)-[:ACTED_IN {}]-&gt;(_144)&lt;-[:ACTED_IN {}]-(Kevin Bacon)</td></tr></table>"
      ],
      "text/plain": [
       " p                                                                                                                                                                                     \n",
       "---------------------------------------------------------------------------------------------------------------------------------------------------------------------------------------\n",
       " (Tom Hanks)-[:ACTED_IN {}]->(_144)<-[:ACTED_IN {}]-(Gary Sinise)-[:ACTED_IN {}]->(_130)<-[:ACTED_IN {}]-(Sam Rockwell)-[:ACTED_IN {}]->(_137)<-[:ACTED_IN {}]-(Kevin Bacon)           \n",
       " (Tom Hanks)-[:ACTED_IN {}]->(_67)<-[:ACTED_IN {}]-(Greg Kinnear)-[:ACTED_IN {}]->(_52)<-[:ACTED_IN {}]-(Jack Nicholson)-[:ACTED_IN {}]->(_15)<-[:ACTED_IN {}]-(Kevin Bacon)           \n",
       " (Tom Hanks)-[:ACTED_IN {}]->(_67)<-[:ACTED_IN {}]-(Greg Kinnear)-[:ACTED_IN {}]->(_52)<-[:ACTED_IN {}]-(Cuba Gooding Jr.)-[:ACTED_IN {}]->(_15)<-[:ACTED_IN {}]-(Kevin Bacon)         \n",
       " (Tom Hanks)-[:ACTED_IN {}]->(_67)<-[:ACTED_IN {}]-(Meg Ryan)-[:ACTED_IN {}]->(_73)<-[:ACTED_IN {}]-(Tom Hanks)-[:ACTED_IN {}]->(_144)<-[:ACTED_IN {}]-(Kevin Bacon)                   \n",
       " (Tom Hanks)-[:ACTED_IN {}]->(_67)<-[:ACTED_IN {}]-(Meg Ryan)-[:ACTED_IN {}]->(_29)<-[:ACTED_IN {}]-(Tom Cruise)-[:ACTED_IN {}]->(_15)<-[:ACTED_IN {}]-(Kevin Bacon)                   \n",
       " (Tom Hanks)-[:ACTED_IN {}]->(_67)<-[:ACTED_IN {}]-(Meg Ryan)-[:ACTED_IN {}]->(_78)<-[:ACTED_IN {}]-(Tom Hanks)-[:ACTED_IN {}]->(_144)<-[:ACTED_IN {}]-(Kevin Bacon)                   \n",
       " (Tom Hanks)-[:ACTED_IN {}]->(_162)<-[:ACTED_IN {}]-(Rosie O'Donnell)-[:ACTED_IN {}]->(_73)<-[:ACTED_IN {}]-(Tom Hanks)-[:ACTED_IN {}]->(_144)<-[:ACTED_IN {}]-(Kevin Bacon)           \n",
       " (Tom Hanks)-[:ACTED_IN {}]->(_162)<-[:ACTED_IN {}]-(Bill Paxton)-[:ACTED_IN {}]->(_144)<-[:ACTED_IN {}]-(Kevin Bacon)                                                                 \n",
       " (Tom Hanks)-[:ACTED_IN {}]->(_78)<-[:ACTED_IN {}]-(Meg Ryan)-[:ACTED_IN {}]->(_73)<-[:ACTED_IN {}]-(Tom Hanks)-[:ACTED_IN {}]->(_144)<-[:ACTED_IN {}]-(Kevin Bacon)                   \n",
       " (Tom Hanks)-[:ACTED_IN {}]->(_78)<-[:ACTED_IN {}]-(Meg Ryan)-[:ACTED_IN {}]->(_67)<-[:ACTED_IN {}]-(Tom Hanks)-[:ACTED_IN {}]->(_144)<-[:ACTED_IN {}]-(Kevin Bacon)                   \n",
       " (Tom Hanks)-[:ACTED_IN {}]->(_78)<-[:ACTED_IN {}]-(Meg Ryan)-[:ACTED_IN {}]->(_29)<-[:ACTED_IN {}]-(Tom Cruise)-[:ACTED_IN {}]->(_15)<-[:ACTED_IN {}]-(Kevin Bacon)                   \n",
       " (Tom Hanks)-[:ACTED_IN {}]->(_150)<-[:ACTED_IN {}]-(Helen Hunt)-[:ACTED_IN {}]->(_52)<-[:ACTED_IN {}]-(Jack Nicholson)-[:ACTED_IN {}]->(_15)<-[:ACTED_IN {}]-(Kevin Bacon)            \n",
       " (Tom Hanks)-[:ACTED_IN {}]->(_150)<-[:ACTED_IN {}]-(Helen Hunt)-[:ACTED_IN {}]->(_52)<-[:ACTED_IN {}]-(Cuba Gooding Jr.)-[:ACTED_IN {}]->(_15)<-[:ACTED_IN {}]-(Kevin Bacon)          \n",
       " (Tom Hanks)-[:ACTED_IN {}]->(_150)<-[:ACTED_IN {}]-(Helen Hunt)-[:ACTED_IN {}]->(_147)<-[:ACTED_IN {}]-(Bill Paxton)-[:ACTED_IN {}]->(_144)<-[:ACTED_IN {}]-(Kevin Bacon)             \n",
       " (Tom Hanks)-[:ACTED_IN {}]->(_130)<-[:ACTED_IN {}]-(Sam Rockwell)-[:ACTED_IN {}]->(_137)<-[:ACTED_IN {}]-(Kevin Bacon)                                                                \n",
       " (Tom Hanks)-[:ACTED_IN {}]->(_130)<-[:ACTED_IN {}]-(Bonnie Hunt)-[:ACTED_IN {}]->(_37)<-[:ACTED_IN {}]-(Cuba Gooding Jr.)-[:ACTED_IN {}]->(_15)<-[:ACTED_IN {}]-(Kevin Bacon)         \n",
       " (Tom Hanks)-[:ACTED_IN {}]->(_130)<-[:ACTED_IN {}]-(Bonnie Hunt)-[:ACTED_IN {}]->(_37)<-[:ACTED_IN {}]-(Tom Cruise)-[:ACTED_IN {}]->(_15)<-[:ACTED_IN {}]-(Kevin Bacon)               \n",
       " (Tom Hanks)-[:ACTED_IN {}]->(_130)<-[:ACTED_IN {}]-(Gary Sinise)-[:ACTED_IN {}]->(_144)<-[:ACTED_IN {}]-(Kevin Bacon)                                                                 \n",
       " (Tom Hanks)-[:ACTED_IN {}]->(_73)<-[:ACTED_IN {}]-(Meg Ryan)-[:ACTED_IN {}]->(_67)<-[:ACTED_IN {}]-(Tom Hanks)-[:ACTED_IN {}]->(_144)<-[:ACTED_IN {}]-(Kevin Bacon)                   \n",
       " (Tom Hanks)-[:ACTED_IN {}]->(_73)<-[:ACTED_IN {}]-(Meg Ryan)-[:ACTED_IN {}]->(_29)<-[:ACTED_IN {}]-(Tom Cruise)-[:ACTED_IN {}]->(_15)<-[:ACTED_IN {}]-(Kevin Bacon)                   \n",
       " (Tom Hanks)-[:ACTED_IN {}]->(_73)<-[:ACTED_IN {}]-(Meg Ryan)-[:ACTED_IN {}]->(_78)<-[:ACTED_IN {}]-(Tom Hanks)-[:ACTED_IN {}]->(_144)<-[:ACTED_IN {}]-(Kevin Bacon)                   \n",
       " (Tom Hanks)-[:ACTED_IN {}]->(_73)<-[:ACTED_IN {}]-(Rosie O'Donnell)-[:ACTED_IN {}]->(_162)<-[:ACTED_IN {}]-(Tom Hanks)-[:ACTED_IN {}]->(_144)<-[:ACTED_IN {}]-(Kevin Bacon)           \n",
       " (Tom Hanks)-[:ACTED_IN {}]->(_73)<-[:ACTED_IN {}]-(Rosie O'Donnell)-[:ACTED_IN {}]->(_162)<-[:ACTED_IN {}]-(Bill Paxton)-[:ACTED_IN {}]->(_144)<-[:ACTED_IN {}]-(Kevin Bacon)         \n",
       " (Tom Hanks)-[:ACTED_IN {}]->(_159)<-[:ACTED_IN {}]-(Philip Seymour Hoffman)-[:ACTED_IN {}]->(_147)<-[:ACTED_IN {}]-(Bill Paxton)-[:ACTED_IN {}]->(_144)<-[:ACTED_IN {}]-(Kevin Bacon) "
      ]
     },
     "execution_count": 59,
     "metadata": {},
     "output_type": "execute_result"
    }
   ],
   "source": [
    "query = \"\"\"\n",
    "MATCH p = (p1:Person)-[:ACTED_IN*4..6]-(p2:Person)\n",
    "WHERE p1.name = 'Tom Hanks' AND      \n",
    "      p2.name = 'Kevin Bacon'\n",
    "RETURN p;\n",
    "\"\"\"\n",
    "\n",
    "graph.run(query).to_table()"
   ]
  },
  {
   "cell_type": "code",
   "execution_count": 66,
   "metadata": {},
   "outputs": [
    {
     "data": {
      "text/html": [
       "<table><tr><th>[x IN nodes(p) |  \n",
       "  CASE WHEN x:Person THEN &#039;(p) &#039;+x.name       \n",
       "       WHEN x:Movie  THEN &#039;(m) &#039;+x.title  \n",
       "  ELSE &#039;&#039; END\n",
       "]</th></tr><tr><td style=\"text-align:left\">[&#039;(p) Tom Cruise&#039;, &#039;(m) Jerry Maguire&#039;, &quot;(p) Jerry O&#039;Connell&quot;, &#039;(m) Stand By Me&#039;, &#039;(p) Kiefer Sutherland&#039;, &#039;(m) A Few Good Men&#039;, &#039;(p) Kevin Bacon&#039;]</td></tr><tr><td style=\"text-align:left\">[&#039;(p) Tom Cruise&#039;, &#039;(m) Jerry Maguire&#039;, &#039;(p) Bonnie Hunt&#039;, &#039;(m) The Green Mile&#039;, &#039;(p) Sam Rockwell&#039;, &#039;(m) Frost/Nixon&#039;, &#039;(p) Kevin Bacon&#039;]</td></tr><tr><td style=\"text-align:left\">[&#039;(p) Tom Cruise&#039;, &#039;(m) Jerry Maguire&#039;, &#039;(p) Bonnie Hunt&#039;, &#039;(m) The Green Mile&#039;, &#039;(p) Tom Hanks&#039;, &#039;(m) Apollo 13&#039;, &#039;(p) Kevin Bacon&#039;]</td></tr><tr><td style=\"text-align:left\">[&#039;(p) Tom Cruise&#039;, &#039;(m) Jerry Maguire&#039;, &#039;(p) Bonnie Hunt&#039;, &#039;(m) The Green Mile&#039;, &#039;(p) Gary Sinise&#039;, &#039;(m) Apollo 13&#039;, &#039;(p) Kevin Bacon&#039;]</td></tr><tr><td style=\"text-align:left\">[&#039;(p) Tom Cruise&#039;, &#039;(m) Jerry Maguire&#039;, &#039;(p) Cuba Gooding Jr.&#039;, &#039;(m) As Good as It Gets&#039;, &#039;(p) Jack Nicholson&#039;, &#039;(m) A Few Good Men&#039;, &#039;(p) Kevin Bacon&#039;]</td></tr><tr><td style=\"text-align:left\">[&#039;(p) Tom Cruise&#039;, &#039;(m) Jerry Maguire&#039;, &#039;(p) Cuba Gooding Jr.&#039;, &#039;(m) A Few Good Men&#039;, &#039;(p) Kevin Bacon&#039;]</td></tr><tr><td style=\"text-align:left\">[&#039;(p) Tom Cruise&#039;, &#039;(m) Top Gun&#039;, &#039;(p) Meg Ryan&#039;, &#039;(m) Sleepless in Seattle&#039;, &#039;(p) Tom Hanks&#039;, &#039;(m) Apollo 13&#039;, &#039;(p) Kevin Bacon&#039;]</td></tr><tr><td style=\"text-align:left\">[&#039;(p) Tom Cruise&#039;, &#039;(m) Top Gun&#039;, &#039;(p) Meg Ryan&#039;, &quot;(m) You&#039;ve Got Mail&quot;, &#039;(p) Tom Hanks&#039;, &#039;(m) Apollo 13&#039;, &#039;(p) Kevin Bacon&#039;]</td></tr><tr><td style=\"text-align:left\">[&#039;(p) Tom Cruise&#039;, &#039;(m) Top Gun&#039;, &#039;(p) Meg Ryan&#039;, &#039;(m) Joe Versus the Volcano&#039;, &#039;(p) Tom Hanks&#039;, &#039;(m) Apollo 13&#039;, &#039;(p) Kevin Bacon&#039;]</td></tr><tr><td style=\"text-align:left\">[&#039;(p) Tom Cruise&#039;, &#039;(m) A Few Good Men&#039;, &#039;(p) J.T. Walsh&#039;, &#039;(m) Hoffa&#039;, &#039;(p) Jack Nicholson&#039;, &#039;(m) A Few Good Men&#039;, &#039;(p) Kevin Bacon&#039;]</td></tr><tr><td style=\"text-align:left\">[&#039;(p) Tom Cruise&#039;, &#039;(m) A Few Good Men&#039;, &#039;(p) Cuba Gooding Jr.&#039;, &#039;(m) As Good as It Gets&#039;, &#039;(p) Jack Nicholson&#039;, &#039;(m) A Few Good Men&#039;, &#039;(p) Kevin Bacon&#039;]</td></tr><tr><td style=\"text-align:left\">[&#039;(p) Tom Cruise&#039;, &#039;(m) A Few Good Men&#039;, &#039;(p) Jack Nicholson&#039;, &#039;(m) As Good as It Gets&#039;, &#039;(p) Cuba Gooding Jr.&#039;, &#039;(m) A Few Good Men&#039;, &#039;(p) Kevin Bacon&#039;]</td></tr><tr><td style=\"text-align:left\">[&#039;(p) Tom Cruise&#039;, &#039;(m) A Few Good Men&#039;, &#039;(p) Jack Nicholson&#039;, &#039;(m) Hoffa&#039;, &#039;(p) J.T. Walsh&#039;, &#039;(m) A Few Good Men&#039;, &#039;(p) Kevin Bacon&#039;]</td></tr></table>"
      ],
      "text/plain": [
       " [x IN nodes(p) |                                                                                                                                          \n",
       "-----------------------------------------------------------------------------------------------------------------------------------------------------------\n",
       "   CASE WHEN x:Person THEN '(p) '+x.name                                                                                                                   \n",
       "-----------------------------------------------------------------------------------------------------------------------------------------------------------\n",
       "        WHEN x:Movie  THEN '(m) '+x.title                                                                                                                  \n",
       "-----------------------------------------------------------------------------------------------------------------------------------------------------------\n",
       "   ELSE '' END                                                                                                                                             \n",
       "-----------------------------------------------------------------------------------------------------------------------------------------------------------\n",
       " ]                                                                                                                                                         \n",
       "-----------------------------------------------------------------------------------------------------------------------------------------------------------\n",
       " ['(p) Tom Cruise', '(m) Jerry Maguire', \"(p) Jerry O'Connell\", '(m) Stand By Me', '(p) Kiefer Sutherland', '(m) A Few Good Men', '(p) Kevin Bacon']       \n",
       " ['(p) Tom Cruise', '(m) Jerry Maguire', '(p) Bonnie Hunt', '(m) The Green Mile', '(p) Sam Rockwell', '(m) Frost/Nixon', '(p) Kevin Bacon']                \n",
       " ['(p) Tom Cruise', '(m) Jerry Maguire', '(p) Bonnie Hunt', '(m) The Green Mile', '(p) Tom Hanks', '(m) Apollo 13', '(p) Kevin Bacon']                     \n",
       " ['(p) Tom Cruise', '(m) Jerry Maguire', '(p) Bonnie Hunt', '(m) The Green Mile', '(p) Gary Sinise', '(m) Apollo 13', '(p) Kevin Bacon']                   \n",
       " ['(p) Tom Cruise', '(m) Jerry Maguire', '(p) Cuba Gooding Jr.', '(m) As Good as It Gets', '(p) Jack Nicholson', '(m) A Few Good Men', '(p) Kevin Bacon']  \n",
       " ['(p) Tom Cruise', '(m) Jerry Maguire', '(p) Cuba Gooding Jr.', '(m) A Few Good Men', '(p) Kevin Bacon']                                                  \n",
       " ['(p) Tom Cruise', '(m) Top Gun', '(p) Meg Ryan', '(m) Sleepless in Seattle', '(p) Tom Hanks', '(m) Apollo 13', '(p) Kevin Bacon']                        \n",
       " ['(p) Tom Cruise', '(m) Top Gun', '(p) Meg Ryan', \"(m) You've Got Mail\", '(p) Tom Hanks', '(m) Apollo 13', '(p) Kevin Bacon']                             \n",
       " ['(p) Tom Cruise', '(m) Top Gun', '(p) Meg Ryan', '(m) Joe Versus the Volcano', '(p) Tom Hanks', '(m) Apollo 13', '(p) Kevin Bacon']                      \n",
       " ['(p) Tom Cruise', '(m) A Few Good Men', '(p) J.T. Walsh', '(m) Hoffa', '(p) Jack Nicholson', '(m) A Few Good Men', '(p) Kevin Bacon']                    \n",
       " ['(p) Tom Cruise', '(m) A Few Good Men', '(p) Cuba Gooding Jr.', '(m) As Good as It Gets', '(p) Jack Nicholson', '(m) A Few Good Men', '(p) Kevin Bacon'] \n",
       " ['(p) Tom Cruise', '(m) A Few Good Men', '(p) Jack Nicholson', '(m) As Good as It Gets', '(p) Cuba Gooding Jr.', '(m) A Few Good Men', '(p) Kevin Bacon'] \n",
       " ['(p) Tom Cruise', '(m) A Few Good Men', '(p) Jack Nicholson', '(m) Hoffa', '(p) J.T. Walsh', '(m) A Few Good Men', '(p) Kevin Bacon']                    "
      ]
     },
     "execution_count": 66,
     "metadata": {},
     "output_type": "execute_result"
    }
   ],
   "source": [
    "query = \"\"\"\n",
    "MATCH p = (p1:Person)-[:ACTED_IN*4..6]-(p2:Person)\n",
    "WHERE p1.name = 'Tom Cruise' AND            \n",
    "      p2.name = 'Kevin Bacon'\n",
    "RETURN [x IN nodes(p) |  \n",
    "  CASE WHEN x:Person THEN '(p) '+x.name       \n",
    "       WHEN x:Movie  THEN '(m) '+x.title  \n",
    "  ELSE '' END\n",
    "];\n",
    "\"\"\"\n",
    "\n",
    "graph.run(query).to_table()"
   ]
  },
  {
   "cell_type": "markdown",
   "metadata": {},
   "source": [
    "#### Shortest path"
   ]
  },
  {
   "cell_type": "code",
   "execution_count": 67,
   "metadata": {},
   "outputs": [
    {
     "data": {
      "text/html": [
       "<table><tr><th>p</th></tr><tr><td style=\"text-align:left\">(Tom Cruise)-[:ACTED_IN {}]-&gt;(_15)&lt;-[:ACTED_IN {}]-(Kevin Bacon)</td></tr></table>"
      ],
      "text/plain": [
       " p                                                                \n",
       "------------------------------------------------------------------\n",
       " (Tom Cruise)-[:ACTED_IN {}]->(_15)<-[:ACTED_IN {}]-(Kevin Bacon) "
      ]
     },
     "execution_count": 67,
     "metadata": {},
     "output_type": "execute_result"
    }
   ],
   "source": [
    "query = \"\"\"\n",
    "// shortest path\n",
    "MATCH p = shortestPath((p1:Person)-[*]-(p2:Person))\n",
    "WHERE p1.name = 'Tom Cruise' AND      \n",
    "      p2.name = 'Kevin Bacon'\n",
    "RETURN p;\n",
    "\"\"\"\n",
    "\n",
    "graph.run(query).to_table()"
   ]
  },
  {
   "cell_type": "code",
   "execution_count": 68,
   "metadata": {},
   "outputs": [
    {
     "data": {
      "text/html": [
       "<table><tr><th>p</th></tr><tr><td style=\"text-align:left\">(_29)&lt;-[:ACTED_IN {}]-(Tom Cruise)-[:ACTED_IN {}]-&gt;(_15)&lt;-[:ACTED_IN {}]-(James Marshall)-[:DIRECTED {}]-&gt;(_116)&lt;-[:PRODUCED {}]-(Joel Silver)-[:PRODUCED {}]-&gt;(_0)</td></tr></table>"
      ],
      "text/plain": [
       " p                                                                                                                                                                   \n",
       "---------------------------------------------------------------------------------------------------------------------------------------------------------------------\n",
       " (_29)<-[:ACTED_IN {}]-(Tom Cruise)-[:ACTED_IN {}]->(_15)<-[:ACTED_IN {}]-(James Marshall)-[:DIRECTED {}]->(_116)<-[:PRODUCED {}]-(Joel Silver)-[:PRODUCED {}]->(_0) "
      ]
     },
     "execution_count": 68,
     "metadata": {},
     "output_type": "execute_result"
    }
   ],
   "source": [
    "query = \"\"\"\n",
    "// shortest path between two movies via any rel type\n",
    "MATCH p = shortestPath((m1:Movie)-[*]-(m2:Movie))\n",
    "WHERE m1.title = 'Top Gun' AND      \n",
    "      m2.title = 'The Matrix'\n",
    "RETURN p;\n",
    "\"\"\"\n",
    "\n",
    "graph.run(query).to_table()"
   ]
  },
  {
   "cell_type": "code",
   "execution_count": 70,
   "metadata": {},
   "outputs": [
    {
     "data": {
      "text/html": [
       "<table></table>"
      ],
      "text/plain": []
     },
     "execution_count": 70,
     "metadata": {},
     "output_type": "execute_result"
    }
   ],
   "source": [
    "query = \"\"\"\n",
    "// Bacon_Number\n",
    "MATCH p = shortestPath((c:Person)-[:KNOWS*]->(bacon:Person))\n",
    "WHERE c.name = 'Tom Hanks' AND      \n",
    "      bacon.name = 'Kevin Bacon'\n",
    "RETURN length(p) AS Bacon_Number, [n IN nodes(p) | n.name] AS Names;\n",
    "\"\"\"\n",
    "\n",
    "graph.run(query).to_table()"
   ]
  },
  {
   "cell_type": "code",
   "execution_count": 71,
   "metadata": {},
   "outputs": [
    {
     "data": {
      "text/html": [
       "<table><tr><th>Colleague_of_colleague</th><th>Weight</th></tr><tr><td style=\"text-align:left\">Tom Hanks</td><td style=\"text-align:right\">4</td></tr><tr><td style=\"text-align:left\">Jim Broadbent</td><td style=\"text-align:right\">3</td></tr><tr><td style=\"text-align:left\">Halle Berry</td><td style=\"text-align:right\">3</td></tr></table>"
      ],
      "text/plain": [
       " Colleague_of_colleague | Weight \n",
       "------------------------|--------\n",
       " Tom Hanks              |      4 \n",
       " Jim Broadbent          |      3 \n",
       " Halle Berry            |      3 "
      ]
     },
     "execution_count": 71,
     "metadata": {},
     "output_type": "execute_result"
    }
   ],
   "source": [
    "query = \"\"\"\n",
    "// Recommend: 3 actors that Keanu Reeves should work with, but hasn’t\n",
    "MATCH (p:Person)-[:ACTED_IN]->()<-[:ACTED_IN]-(c),\n",
    "(c)-[:ACTED_IN]->()<-[:ACTED_IN]-(coc)\n",
    "WHERE p.name = 'Keanu Reeves' \n",
    "\tAND coc <> p\n",
    " \tAND NOT (p)-[:ACTED_IN]->()<-[:ACTED_IN]-(coc) \n",
    "RETURN coc.name as Colleague_of_colleague, count(coc) as \n",
    "Weight\n",
    "ORDER BY Weight DESC\n",
    "LIMIT 3;\n",
    "\"\"\"\n",
    "\n",
    "graph.run(query).to_table()"
   ]
  },
  {
   "cell_type": "markdown",
   "metadata": {},
   "source": [
    "### CREATE & MERGE (Write) - CU"
   ]
  },
  {
   "cell_type": "code",
   "execution_count": 85,
   "metadata": {},
   "outputs": [
    {
     "data": {
      "text/html": [
       "<table><tr><th>m</th></tr><tr><td style=\"text-align:left\">(_174:Movie {released: 2003, title: &#039;Mystic River&#039;})</td></tr></table>"
      ],
      "text/plain": [
       " m                                                    \n",
       "------------------------------------------------------\n",
       " (_174:Movie {released: 2003, title: 'Mystic River'}) "
      ]
     },
     "execution_count": 85,
     "metadata": {},
     "output_type": "execute_result"
    }
   ],
   "source": [
    "query = \"\"\"\n",
    "// CREATE (INSERT)\n",
    "CREATE (m:Movie {title:'Mystic River', released:2003})\n",
    "RETURN m;\n",
    "\"\"\"\n",
    "\n",
    "graph.run(query).to_table()"
   ]
  },
  {
   "cell_type": "code",
   "execution_count": 86,
   "metadata": {},
   "outputs": [
    {
     "data": {
      "text/html": [
       "<table><tr><th>p</th><th>r</th><th>m</th></tr><tr><td style=\"text-align:left\">(_19:Person {born: 1958, name: &#039;Kevin Bacon&#039;})</td><td style=\"text-align:left\">(Kevin Bacon)-[:ACTED_IN {roles: [&#039;Sean&#039;]}]-&gt;(_174)</td><td style=\"text-align:left\">(_174:Movie {released: 2003, title: &#039;Mystic River&#039;})</td></tr></table>"
      ],
      "text/plain": [
       " p                                              | r                                                   | m                                                    \n",
       "------------------------------------------------|-----------------------------------------------------|------------------------------------------------------\n",
       " (_19:Person {born: 1958, name: 'Kevin Bacon'}) | (Kevin Bacon)-[:ACTED_IN {roles: ['Sean']}]->(_174) | (_174:Movie {released: 2003, title: 'Mystic River'}) "
      ]
     },
     "execution_count": 86,
     "metadata": {},
     "output_type": "execute_result"
    }
   ],
   "source": [
    "query = \"\"\"\n",
    "// CREATE Rel\n",
    "MATCH (m:Movie {title: 'Mystic River'})\n",
    "MATCH (p:Person {name: 'Kevin Bacon'})\n",
    "CREATE (p)-[r:ACTED_IN {roles: ['Sean']}]->(m)\n",
    "RETURN p, r, m;\n",
    "\"\"\"\n",
    "\n",
    "graph.run(query).to_table()"
   ]
  },
  {
   "cell_type": "code",
   "execution_count": 87,
   "metadata": {},
   "outputs": [
    {
     "data": {
      "text/html": [
       "<table><tr><th>m</th></tr><tr><td style=\"text-align:left\">(_174:Movie {released: 2003, tagline: &#039;We bury our sins here, Dave. We wash them clean.&#039;, title: &#039;Mystic River&#039;})</td></tr></table>"
      ],
      "text/plain": [
       " m                                                                                                                 \n",
       "-------------------------------------------------------------------------------------------------------------------\n",
       " (_174:Movie {released: 2003, tagline: 'We bury our sins here, Dave. We wash them clean.', title: 'Mystic River'}) "
      ]
     },
     "execution_count": 87,
     "metadata": {},
     "output_type": "execute_result"
    }
   ],
   "source": [
    "query = \"\"\"\n",
    "// SET (UPDATE)\n",
    "MATCH (m:Movie {title: 'Mystic River'})\n",
    "SET m.tagline = 'We bury our sins here, Dave. We wash them clean.' \n",
    "RETURN m;\n",
    "\"\"\"\n",
    "\n",
    "graph.run(query).to_table()"
   ]
  },
  {
   "cell_type": "code",
   "execution_count": 88,
   "metadata": {},
   "outputs": [
    {
     "data": {
      "text/html": [
       "<table><tr><th>p</th></tr><tr><td style=\"text-align:left\">(_71:Person {born: 1956, name: &#039;Tom Hanks&#039;})</td></tr></table>"
      ],
      "text/plain": [
       " p                                            \n",
       "----------------------------------------------\n",
       " (_71:Person {born: 1956, name: 'Tom Hanks'}) "
      ]
     },
     "execution_count": 88,
     "metadata": {},
     "output_type": "execute_result"
    }
   ],
   "source": [
    "query = \"\"\"\n",
    "// MERGE\n",
    "MERGE (p:Person {name: 'Tom Hanks'})\n",
    "RETURN p;\n",
    "\"\"\"\n",
    "\n",
    "graph.run(query).to_table()"
   ]
  },
  {
   "cell_type": "code",
   "execution_count": 89,
   "metadata": {},
   "outputs": [
    {
     "data": {
      "text/html": [
       "<table><tr><th>p</th></tr><tr><td style=\"text-align:left\">(_175:Person {name: &#039;Tom Hanks&#039;, oscar: true})</td></tr></table>"
      ],
      "text/plain": [
       " p                                              \n",
       "------------------------------------------------\n",
       " (_175:Person {name: 'Tom Hanks', oscar: true}) "
      ]
     },
     "execution_count": 89,
     "metadata": {},
     "output_type": "execute_result"
    }
   ],
   "source": [
    "query = \"\"\"\n",
    "// Update node property\n",
    "MERGE (p:Person {name: 'Tom Hanks', oscar: true})\n",
    "RETURN p;\n",
    "\"\"\"\n",
    "\n",
    "graph.run(query).to_table()"
   ]
  },
  {
   "cell_type": "code",
   "execution_count": 90,
   "metadata": {},
   "outputs": [
    {
     "data": {
      "text/html": [
       "<table><tr><th>p</th></tr><tr><td style=\"text-align:left\">(_71:Person {born: 1956, name: &#039;Tom Hanks&#039;, oscar: false})</td></tr><tr><td style=\"text-align:left\">(_175:Person {name: &#039;Tom Hanks&#039;, oscar: false})</td></tr></table>"
      ],
      "text/plain": [
       " p                                                          \n",
       "------------------------------------------------------------\n",
       " (_71:Person {born: 1956, name: 'Tom Hanks', oscar: false}) \n",
       " (_175:Person {name: 'Tom Hanks', oscar: false})            "
      ]
     },
     "execution_count": 90,
     "metadata": {},
     "output_type": "execute_result"
    }
   ],
   "source": [
    "query = \"\"\"\n",
    "MERGE (p:Person {name: 'Tom Hanks'})\n",
    "SET p.oscar = false\n",
    "RETURN p;\n",
    "\"\"\"\n",
    "\n",
    "graph.run(query).to_table()"
   ]
  },
  {
   "cell_type": "code",
   "execution_count": 91,
   "metadata": {},
   "outputs": [
    {
     "data": {
      "text/html": [
       "<table><tr><th>p</th><th>m</th></tr><tr><td style=\"text-align:left\">(_176:Person {name: &#039;Tom Hanks&#039;})</td><td style=\"text-align:left\">(_177:Movie {title: &#039;The Terminal&#039;})</td></tr></table>"
      ],
      "text/plain": [
       " p                                 | m                                    \n",
       "-----------------------------------|--------------------------------------\n",
       " (_176:Person {name: 'Tom Hanks'}) | (_177:Movie {title: 'The Terminal'}) "
      ]
     },
     "execution_count": 91,
     "metadata": {},
     "output_type": "execute_result"
    }
   ],
   "source": [
    "query = \"\"\"\n",
    "// Create a new movie and rel\n",
    "MERGE (p:Person {name: 'Tom Hanks'})-[:ACTED_IN]->(m:Movie {title: 'The Terminal'})\n",
    "RETURN p, m;\n",
    "\"\"\"\n",
    "\n",
    "graph.run(query).to_table()"
   ]
  },
  {
   "cell_type": "code",
   "execution_count": 92,
   "metadata": {},
   "outputs": [
    {
     "data": {
      "text/html": [
       "<table><tr><th>p</th><th>r</th><th>m</th></tr><tr><td style=\"text-align:left\">(_71:Person {born: 1956, name: &#039;Tom Hanks&#039;, oscar: false})</td><td style=\"text-align:left\">(Tom Hanks)-[:ACTED_IN {}]-&gt;(_177)</td><td style=\"text-align:left\">(_177:Movie {title: &#039;The Terminal&#039;})</td></tr><tr><td style=\"text-align:left\">(_175:Person {name: &#039;Tom Hanks&#039;, oscar: false})</td><td style=\"text-align:left\">(Tom Hanks)-[:ACTED_IN {}]-&gt;(_177)</td><td style=\"text-align:left\">(_177:Movie {title: &#039;The Terminal&#039;})</td></tr><tr><td style=\"text-align:left\">(_176:Person {name: &#039;Tom Hanks&#039;})</td><td style=\"text-align:left\">(Tom Hanks)-[:ACTED_IN {}]-&gt;(_177)</td><td style=\"text-align:left\">(_177:Movie {title: &#039;The Terminal&#039;})</td></tr></table>"
      ],
      "text/plain": [
       " p                                                          | r                                  | m                                    \n",
       "------------------------------------------------------------|------------------------------------|--------------------------------------\n",
       " (_71:Person {born: 1956, name: 'Tom Hanks', oscar: false}) | (Tom Hanks)-[:ACTED_IN {}]->(_177) | (_177:Movie {title: 'The Terminal'}) \n",
       " (_175:Person {name: 'Tom Hanks', oscar: false})            | (Tom Hanks)-[:ACTED_IN {}]->(_177) | (_177:Movie {title: 'The Terminal'}) \n",
       " (_176:Person {name: 'Tom Hanks'})                          | (Tom Hanks)-[:ACTED_IN {}]->(_177) | (_177:Movie {title: 'The Terminal'}) "
      ]
     },
     "execution_count": 92,
     "metadata": {},
     "output_type": "execute_result"
    }
   ],
   "source": [
    "query = \"\"\"\n",
    "MERGE (p:Person {name: 'Tom Hanks'})\n",
    "MERGE (m:Movie {title: 'The Terminal'})\n",
    "MERGE (p)-[r:ACTED_IN]->(m)\n",
    "RETURN p, r, m;\n",
    "\"\"\"\n",
    "\n",
    "graph.run(query).to_table()"
   ]
  },
  {
   "cell_type": "code",
   "execution_count": 93,
   "metadata": {},
   "outputs": [
    {
     "data": {
      "text/html": [
       "<table><tr><th>p</th><th>r</th><th>m</th></tr><tr><td style=\"text-align:left\">(_71:Person {born: 1956, name: &#039;Tom Hanks&#039;, oscar: false})</td><td style=\"text-align:left\">(Tom Hanks)-[:DIRECTED {}]-&gt;(_177)</td><td style=\"text-align:left\">(_177:Movie {title: &#039;The Terminal&#039;})</td></tr><tr><td style=\"text-align:left\">(_175:Person {name: &#039;Tom Hanks&#039;, oscar: false})</td><td style=\"text-align:left\">(Tom Hanks)-[:DIRECTED {}]-&gt;(_177)</td><td style=\"text-align:left\">(_177:Movie {title: &#039;The Terminal&#039;})</td></tr><tr><td style=\"text-align:left\">(_176:Person {name: &#039;Tom Hanks&#039;})</td><td style=\"text-align:left\">(Tom Hanks)-[:DIRECTED {}]-&gt;(_177)</td><td style=\"text-align:left\">(_177:Movie {title: &#039;The Terminal&#039;})</td></tr></table>"
      ],
      "text/plain": [
       " p                                                          | r                                  | m                                    \n",
       "------------------------------------------------------------|------------------------------------|--------------------------------------\n",
       " (_71:Person {born: 1956, name: 'Tom Hanks', oscar: false}) | (Tom Hanks)-[:DIRECTED {}]->(_177) | (_177:Movie {title: 'The Terminal'}) \n",
       " (_175:Person {name: 'Tom Hanks', oscar: false})            | (Tom Hanks)-[:DIRECTED {}]->(_177) | (_177:Movie {title: 'The Terminal'}) \n",
       " (_176:Person {name: 'Tom Hanks'})                          | (Tom Hanks)-[:DIRECTED {}]->(_177) | (_177:Movie {title: 'The Terminal'}) "
      ]
     },
     "execution_count": 93,
     "metadata": {},
     "output_type": "execute_result"
    }
   ],
   "source": [
    "query = \"\"\"\n",
    "MERGE (p:Person {name: 'Tom Hanks'})\n",
    "MERGE (m:Movie {title: 'The Terminal'})\n",
    "MERGE (p)-[r:DIRECTED]->(m)\n",
    "RETURN p, r, m;\n",
    "\"\"\"\n",
    "\n",
    "graph.run(query).to_table()"
   ]
  },
  {
   "cell_type": "code",
   "execution_count": 102,
   "metadata": {},
   "outputs": [
    {
     "data": {
      "text/plain": [
       "(No data)"
      ]
     },
     "execution_count": 102,
     "metadata": {},
     "output_type": "execute_result"
    }
   ],
   "source": [
    "query = \"\"\"\n",
    "MATCH (p:Person)\n",
    "WHERE p.name = 'Your Name'\n",
    "DELETE p;\n",
    "\"\"\"\n",
    "\n",
    "graph.run(query)"
   ]
  },
  {
   "cell_type": "markdown",
   "metadata": {},
   "source": [
    "Use `Ctrl-Enter` to execute below cell to see `updated` attribute changes"
   ]
  },
  {
   "cell_type": "code",
   "execution_count": 112,
   "metadata": {},
   "outputs": [
    {
     "data": {
      "text/html": [
       "<table><tr><th>p.created_at</th><th>p.updated_at</th><th>p.updated</th></tr><tr><td style=\"text-align:right\">1615347851788</td><td style=\"text-align:right\">1615347923029</td><td style=\"text-align:right\">9</td></tr></table>"
      ],
      "text/plain": [
       "  p.created_at |  p.updated_at | p.updated \n",
       "---------------|---------------|-----------\n",
       " 1615347851788 | 1615347923029 |         9 "
      ]
     },
     "execution_count": 112,
     "metadata": {},
     "output_type": "execute_result"
    }
   ],
   "source": [
    "query = \"\"\"\n",
    "// MERGE ON CREATE / ON MATCH\n",
    "MERGE (p:Person {name: 'Your Name'})\n",
    "  ON CREATE SET p.created_at = timestamp(),\n",
    "                p.updated_at = timestamp(),\n",
    "                p.updated = 0 \n",
    "  ON MATCH SET p.updated = p.updated + 1,\n",
    "               p.updated_at = timestamp()\n",
    "RETURN p.created_at, p.updated_at, p.updated;\n",
    "\"\"\"\n",
    "\n",
    "graph.run(query).to_table()"
   ]
  },
  {
   "cell_type": "code",
   "execution_count": 114,
   "metadata": {},
   "outputs": [
    {
     "data": {
      "text/plain": [
       "(No data)"
      ]
     },
     "execution_count": 114,
     "metadata": {},
     "output_type": "execute_result"
    }
   ],
   "source": [
    "query = \"\"\"\n",
    "// Create KNOWS relationships between all actors who have worked together on the same movie\n",
    "MATCH (a:Person)-[:ACTED_IN]->()<-[:ACTED_IN]-(b:Person)\n",
    "MERGE (a)-[:KNOWS]-(b);\n",
    "\"\"\"\n",
    "\n",
    "graph.run(query)"
   ]
  },
  {
   "cell_type": "code",
   "execution_count": 119,
   "metadata": {},
   "outputs": [
    {
     "data": {
      "text/html": [
       "<table><tr><th>a</th><th>b</th></tr><tr><td style=\"text-align:left\">(_1:Person {born: 1964, name: &#039;Keanu Reeves&#039;})</td><td style=\"text-align:left\">(_155:Person {born: 1946, name: &#039;Diane Keaton&#039;})</td></tr><tr><td style=\"text-align:left\">(_1:Person {born: 1964, name: &#039;Keanu Reeves&#039;})</td><td style=\"text-align:left\">(_3:Person {born: 1961, name: &#039;Laurence Fishburne&#039;})</td></tr><tr><td style=\"text-align:left\">(_1:Person {born: 1964, name: &#039;Keanu Reeves&#039;})</td><td style=\"text-align:left\">(_101:Person {born: 1947, name: &#039;Takeshi Kitano&#039;})</td></tr></table>"
      ],
      "text/plain": [
       " a                                              | b                                                    \n",
       "------------------------------------------------|------------------------------------------------------\n",
       " (_1:Person {born: 1964, name: 'Keanu Reeves'}) | (_155:Person {born: 1946, name: 'Diane Keaton'})     \n",
       " (_1:Person {born: 1964, name: 'Keanu Reeves'}) | (_3:Person {born: 1961, name: 'Laurence Fishburne'}) \n",
       " (_1:Person {born: 1964, name: 'Keanu Reeves'}) | (_101:Person {born: 1947, name: 'Takeshi Kitano'})   "
      ]
     },
     "execution_count": 119,
     "metadata": {},
     "output_type": "execute_result"
    }
   ],
   "source": [
    "query = \"\"\"\n",
    "MATCH (a:Person)-[:KNOWS]-(b:Person)\n",
    "RETURN a, b\n",
    "LIMIT 3;\n",
    "\"\"\"\n",
    "\n",
    "graph.run(query).to_table()"
   ]
  },
  {
   "cell_type": "markdown",
   "metadata": {},
   "source": [
    "### CONSTRAINT and INDEX"
   ]
  },
  {
   "cell_type": "raw",
   "metadata": {},
   "source": [
    ":schema \n",
    "\n",
    "// unique\n",
    "CREATE CONSTRAINT ON (p:Person) ASSERT p.name IS UNIQUE;\n",
    "\n",
    "// exists\n",
    "CREATE CONSTRAINT ON (p:Person) ASSERT exists(p.name);\n",
    "\n",
    "// INDEX\n",
    "CREATE INDEX ON :Person(born);\n",
    "CREATE INDEX ON :Movie(released);"
   ]
  },
  {
   "cell_type": "code",
   "execution_count": null,
   "metadata": {},
   "outputs": [],
   "source": []
  },
  {
   "cell_type": "markdown",
   "metadata": {},
   "source": [
    "### DELETE"
   ]
  },
  {
   "cell_type": "code",
   "execution_count": 81,
   "metadata": {},
   "outputs": [
    {
     "data": {
      "text/plain": [
       " p                                   \n",
       "-------------------------------------\n",
       " (_173:Person {name: 'Emil Eifrem'}) "
      ]
     },
     "execution_count": 81,
     "metadata": {},
     "output_type": "execute_result"
    }
   ],
   "source": [
    "query = \"\"\"\n",
    "// CREATE (INSERT)\n",
    "CREATE (p:Person {name:'Emil Eifrem'})\n",
    "RETURN p;\n",
    "\"\"\"\n",
    "\n",
    "graph.run(query)"
   ]
  },
  {
   "cell_type": "code",
   "execution_count": 83,
   "metadata": {},
   "outputs": [
    {
     "data": {
      "text/plain": [
       "(No data)"
      ]
     },
     "execution_count": 83,
     "metadata": {},
     "output_type": "execute_result"
    }
   ],
   "source": [
    "query = \"\"\"\n",
    "MATCH (p:Person)\n",
    "WHERE p.name = 'Emil Eifrem'\n",
    "DELETE p;\n",
    "\"\"\"\n",
    "\n",
    "graph.run(query)"
   ]
  },
  {
   "cell_type": "code",
   "execution_count": 84,
   "metadata": {},
   "outputs": [
    {
     "data": {
      "text/html": [
       "<table></table>"
      ],
      "text/plain": []
     },
     "execution_count": 84,
     "metadata": {},
     "output_type": "execute_result"
    }
   ],
   "source": [
    "query = \"\"\"\n",
    "MATCH (p:Person)\n",
    "WHERE p.name = 'Emil Eifrem'\n",
    "RETURN p;\n",
    "\"\"\"\n",
    "\n",
    "graph.run(query).to_table()"
   ]
  },
  {
   "cell_type": "code",
   "execution_count": null,
   "metadata": {},
   "outputs": [],
   "source": []
  },
  {
   "cell_type": "markdown",
   "metadata": {},
   "source": [
    "### Cypher - DELETE"
   ]
  },
  {
   "cell_type": "code",
   "execution_count": 62,
   "metadata": {},
   "outputs": [
    {
     "data": {
      "text/plain": [
       " p                                             \n",
       "-----------------------------------------------\n",
       " (_8:Person {born: 1978, name: 'Emil Eifrem'}) "
      ]
     },
     "execution_count": 62,
     "metadata": {},
     "output_type": "execute_result"
    }
   ],
   "source": [
    "query = \"\"\"\n",
    "MATCH (p:Person)\n",
    "WHERE p.name = 'Emil Eifrem'\n",
    "RETURN p;\n",
    "\"\"\"\n",
    "\n",
    "graph.run(query)"
   ]
  },
  {
   "cell_type": "code",
   "execution_count": 64,
   "metadata": {},
   "outputs": [
    {
     "data": {
      "text/plain": [
       "(No data)"
      ]
     },
     "execution_count": 64,
     "metadata": {},
     "output_type": "execute_result"
    }
   ],
   "source": [
    "query = \"\"\"\n",
    "// delete one node and relationships\n",
    "MATCH (p:Person)\n",
    "WHERE p.name = 'Emil Eifrem'\n",
    "DETACH DELETE p;\n",
    "\"\"\"\n",
    "\n",
    "graph.run(query)"
   ]
  },
  {
   "cell_type": "code",
   "execution_count": 57,
   "metadata": {},
   "outputs": [
    {
     "data": {
      "text/plain": [
       "(No data)"
      ]
     },
     "execution_count": 57,
     "metadata": {},
     "output_type": "execute_result"
    }
   ],
   "source": [
    "query = \"\"\"\n",
    "//Delete all Movie and Person nodes, and their relationships\n",
    "MATCH (n) \n",
    "DETACH DELETE n;\n",
    "\"\"\"\n",
    "\n",
    "graph.run(query)"
   ]
  },
  {
   "cell_type": "code",
   "execution_count": 60,
   "metadata": {},
   "outputs": [
    {
     "data": {
      "text/plain": [
       " count(*) \n",
       "----------\n",
       "      171 "
      ]
     },
     "execution_count": 60,
     "metadata": {},
     "output_type": "execute_result"
    }
   ],
   "source": [
    "query = \"\"\"\n",
    "//Prove that the Movie Graph is gone\n",
    "MATCH (n) RETURN count(*);\n",
    "\"\"\"\n",
    "\n",
    "graph.run(query)"
   ]
  },
  {
   "cell_type": "markdown",
   "metadata": {},
   "source": [
    "### Data Import"
   ]
  },
  {
   "cell_type": "code",
   "execution_count": null,
   "metadata": {},
   "outputs": [],
   "source": []
  }
 ],
 "metadata": {
  "kernelspec": {
   "display_name": "Python 3",
   "language": "python",
   "name": "python3"
  },
  "language_info": {
   "codemirror_mode": {
    "name": "ipython",
    "version": 3
   },
   "file_extension": ".py",
   "mimetype": "text/x-python",
   "name": "python",
   "nbconvert_exporter": "python",
   "pygments_lexer": "ipython3",
   "version": "3.8.5"
  }
 },
 "nbformat": 4,
 "nbformat_minor": 4
}
