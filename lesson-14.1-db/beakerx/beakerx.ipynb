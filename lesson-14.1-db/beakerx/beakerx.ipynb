{
 "cells": [
  {
   "cell_type": "markdown",
   "metadata": {},
   "source": [
    "## Jupyter Magics with SQL\n",
    "\n",
    "https://towardsdatascience.com/jupyter-magics-with-sql-921370099589\n",
    "\n",
    "[SQL Kernel](https://nbviewer.jupyter.org/github/twosigma/beakerx/blob/master/doc/sql/Sql.ipynb)"
   ]
  },
  {
   "cell_type": "code",
   "execution_count": 5,
   "metadata": {},
   "outputs": [],
   "source": [
    "%defaultDatasource jdbc:h2:mem:db"
   ]
  },
  {
   "cell_type": "code",
   "execution_count": 8,
   "metadata": {},
   "outputs": [
    {
     "data": {
      "application/vnd.jupyter.widget-view+json": {
       "model_id": "89559835-d2d3-4d5b-9073-a0803d3bde8d",
       "version_major": 2,
       "version_minor": 0
      },
      "method": "display_data"
     },
     "metadata": {},
     "output_type": "display_data"
    }
   ],
   "source": [
    "SELECT\n",
    "    m3,y30,y1,m6,y2,y10,y3,time,y5,y7,spread\n",
    "FROM CSVREAD('interest-rates-small.csv')"
   ]
  },
  {
   "cell_type": "code",
   "execution_count": 11,
   "metadata": {},
   "outputs": [],
   "source": [
    "DROP TABLE IF EXISTS int_rates;\n",
    "CREATE TABLE int_rates(\n",
    "    m3 float,\n",
    "    y30  float,\n",
    "    y1  float,\n",
    "    m6  float,\n",
    "    y2  float,\n",
    "    y10  float,\n",
    "    y3  float,\n",
    "    time  varchar2(40),\n",
    "    y5  float,\n",
    "    y7  float,\n",
    "    spread float\n",
    ") AS SELECT\n",
    "    m3,y30,y1,m6,y2,y10,y3,time,y5,y7,spread\n",
    "FROM CSVREAD('interest-rates-small.csv')"
   ]
  },
  {
   "cell_type": "code",
   "execution_count": 16,
   "metadata": {},
   "outputs": [
    {
     "data": {
      "application/vnd.jupyter.widget-view+json": {
       "model_id": "b6067cc9-230a-46fc-ae07-8d5c79a963e1",
       "version_major": 2,
       "version_minor": 0
      },
      "method": "display_data"
     },
     "metadata": {},
     "output_type": "display_data"
    }
   ],
   "source": [
    "select * from int_rates where m3 < 1;"
   ]
  },
  {
   "cell_type": "code",
   "execution_count": 18,
   "metadata": {},
   "outputs": [],
   "source": [
    "SELECT * INTO ${int_rates_data} FROM int_rates WHERE m3 < 1;"
   ]
  },
  {
   "cell_type": "code",
   "execution_count": 19,
   "metadata": {},
   "outputs": [
    {
     "data": {
      "text/plain": [
       "[0.9447, NaN, 1.2437, 1.0111, 1.74, 4.0842, 2.2468, 2004-02-28 19:00:00.000 -0500, 3.0679, 3.5853, 3.1395]"
      ]
     },
     "execution_count": 1,
     "metadata": {},
     "output_type": "execute_result"
    }
   ],
   "source": [
    "%%groovy\n",
    "beakerx.int_rates_data.values[0]   # first-row"
   ]
  },
  {
   "cell_type": "code",
   "execution_count": null,
   "metadata": {},
   "outputs": [],
   "source": []
  },
  {
   "cell_type": "code",
   "execution_count": 20,
   "metadata": {},
   "outputs": [
    {
     "data": {
      "text/plain": [
       "M3                               0.9447\n",
       "Y30                                 NaN\n",
       "Y1                               1.2437\n",
       "M6                               1.0111\n",
       "Y2                                 1.74\n",
       "Y10                              4.0842\n",
       "Y3                               2.2468\n",
       "TIME      2004-02-28 19:00:00.000 -0500\n",
       "Y5                               3.0679\n",
       "Y7                               3.5853\n",
       "SPREAD                           3.1395\n",
       "Name: 0, dtype: object"
      ]
     },
     "execution_count": 2,
     "metadata": {},
     "output_type": "execute_result"
    }
   ],
   "source": [
    "%%python\n",
    "from beakerx.object import beakerx\n",
    "beakerx.int_rates_data.loc[0]"
   ]
  },
  {
   "cell_type": "markdown",
   "metadata": {},
   "source": [
    "### Pandas"
   ]
  },
  {
   "cell_type": "code",
   "execution_count": 28,
   "metadata": {},
   "outputs": [
    {
     "data": {
      "application/vnd.jupyter.widget-view+json": {
       "model_id": "2e55cd85192b452e8593dcd008ff7eff",
       "version_major": 2,
       "version_minor": 0
      }
     },
     "metadata": {},
     "output_type": "display_data"
    }
   ],
   "source": [
    "%%python\n",
    "import pandas as pd\n",
    "\n",
    "from sqlalchemy.engine import create_engine\n",
    "\n",
    "# SQLite\n",
    "engine = create_engine('sqlite:///flights.db') \n",
    "\n",
    "#Read into a DataFrame\n",
    "df = pd.read_sql('select * from airlines', engine)\n",
    "df.head(10)"
   ]
  },
  {
   "cell_type": "code",
   "execution_count": 29,
   "metadata": {},
   "outputs": [
    {
     "data": {
      "application/vnd.jupyter.widget-view+json": {
       "model_id": "7524a75a38454762b3c12633b12837fb",
       "version_major": 2,
       "version_minor": 0
      }
     },
     "metadata": {},
     "output_type": "display_data"
    }
   ],
   "source": [
    "%%python \n",
    "df"
   ]
  },
  {
   "cell_type": "code",
   "execution_count": null,
   "metadata": {},
   "outputs": [],
   "source": []
  }
 ],
 "metadata": {
  "kernelspec": {
   "display_name": "SQL",
   "language": "SQL",
   "name": "sql"
  },
  "language_info": {
   "codemirror_mode": "sql",
   "file_extension": ".sql",
   "mimetype": "",
   "name": "SQL",
   "nbconverter_exporter": "",
   "version": ""
  },
  "toc": {
   "base_numbering": 1,
   "nav_menu": {},
   "number_sections": false,
   "sideBar": false,
   "skip_h1_title": false,
   "title_cell": "Table of Contents",
   "title_sidebar": "Contents",
   "toc_cell": false,
   "toc_position": {},
   "toc_section_display": false,
   "toc_window_display": false
  }
 },
 "nbformat": 4,
 "nbformat_minor": 2
}
