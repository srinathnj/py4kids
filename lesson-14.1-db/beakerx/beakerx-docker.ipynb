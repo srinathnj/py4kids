{
 "cells": [
  {
   "cell_type": "markdown",
   "metadata": {},
   "source": [
    "Running BeakerX in Docker\n",
    "\n",
    "`$ docker run -p 8888:8888 beakerx/beakerx`\n",
    "\n",
    "```\n",
    "Status: Downloaded newer image for beakerx/beakerx:latest\n",
    "Execute the command\n",
    "[I 13:59:59.061 NotebookApp] Writing notebook server cookie secret to /home/beakerx/.local/share/jupyter/runtime/notebook_cookie_secret\n",
    "[W 13:59:59.128 NotebookApp] WARNING: The notebook server is listening on all IP addresses and not using encryption. This is not recommended.\n",
    "[I 13:59:59.147 NotebookApp] [beakerx] enabled\n",
    "[I 13:59:59.213 NotebookApp] JupyterLab beta preview extension loaded from /opt/conda/envs/beakerx/lib/python3.6/site-packages/jupyterlab\n",
    "[I 13:59:59.215 NotebookApp] JupyterLab application directory is /opt/conda/envs/beakerx/share/jupyter/lab\n",
    "[I 13:59:59.408 NotebookApp] Serving notebooks from local directory: /home/beakerx\n",
    "[I 13:59:59.409 NotebookApp] 0 active kernels\n",
    "[I 13:59:59.409 NotebookApp] The Jupyter Notebook is running at:\n",
    "[I 13:59:59.409 NotebookApp] http://05da8eeb9cab:8888/?token=02d69b23143ab8020795532db8d6defec3e8cd15869a3587\n",
    "[I 13:59:59.409 NotebookApp] Use Control-C to stop this server and shut down all kernels (twice to skip confirmation).\n",
    "[C 13:59:59.410 NotebookApp] \n",
    "```\n",
    "\n",
    "open browser at http://localhost:8888 \n",
    "\n",
    "login with token = 02d69b23143ab8020795532db8d6defec3e8cd15869a3587"
   ]
  },
  {
   "cell_type": "markdown",
   "metadata": {},
   "source": [
    "![BeakerX-localHome](./beakerx-localhome.JPG \"BeakerX\")"
   ]
  },
  {
   "cell_type": "markdown",
   "metadata": {},
   "source": [
    "Run thru the \"StartHere\" notebook \n",
    "\n",
    "![StartHere](./start_here.JPG \"StartHere\")"
   ]
  },
  {
   "cell_type": "code",
   "execution_count": null,
   "metadata": {},
   "outputs": [],
   "source": []
  }
 ],
 "metadata": {
  "kernelspec": {
   "display_name": "SQL",
   "language": "SQL",
   "name": "sql"
  },
  "language_info": {
   "codemirror_mode": "sql",
   "file_extension": ".sql",
   "mimetype": "",
   "name": "SQL",
   "nbconverter_exporter": "",
   "version": ""
  },
  "toc": {
   "base_numbering": 1,
   "nav_menu": {},
   "number_sections": false,
   "sideBar": false,
   "skip_h1_title": false,
   "title_cell": "Table of Contents",
   "title_sidebar": "Contents",
   "toc_cell": false,
   "toc_position": {},
   "toc_section_display": false,
   "toc_window_display": false
  }
 },
 "nbformat": 4,
 "nbformat_minor": 2
}
