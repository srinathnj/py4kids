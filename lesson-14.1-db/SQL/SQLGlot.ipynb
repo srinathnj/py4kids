{
 "cells": [
  {
   "cell_type": "markdown",
   "id": "193049df",
   "metadata": {},
   "source": [
    "https://sqlglot.com/sqlglot.html#install"
   ]
  },
  {
   "cell_type": "code",
   "execution_count": 1,
   "id": "fe8e87ef",
   "metadata": {},
   "outputs": [],
   "source": [
    "import sqlglot"
   ]
  },
  {
   "cell_type": "markdown",
   "id": "7bff4c40",
   "metadata": {},
   "source": [
    "### Examples\n",
    "\n",
    "#### Translate from one dialect to another"
   ]
  },
  {
   "cell_type": "code",
   "execution_count": 2,
   "id": "10e5d35d",
   "metadata": {},
   "outputs": [
    {
     "data": {
      "text/plain": [
       "'SELECT FROM_UNIXTIME(1618088028295 / 1000)'"
      ]
     },
     "execution_count": 2,
     "metadata": {},
     "output_type": "execute_result"
    }
   ],
   "source": [
    "sqlglot.transpile(\"SELECT EPOCH_MS(1618088028295)\", read=\"duckdb\", write=\"hive\")[0]"
   ]
  },
  {
   "cell_type": "code",
   "execution_count": 3,
   "id": "4c96b67c",
   "metadata": {},
   "outputs": [
    {
     "data": {
      "text/plain": [
       "'SELECT UNIX_TO_TIME(1618088028295 / 1000)'"
      ]
     },
     "execution_count": 3,
     "metadata": {},
     "output_type": "execute_result"
    }
   ],
   "source": [
    "sqlglot.transpile(\"SELECT EPOCH_MS(1618088028295)\", read=\"duckdb\", write=\"sqlite\")[0]"
   ]
  },
  {
   "cell_type": "code",
   "execution_count": 4,
   "id": "838f1a5e",
   "metadata": {},
   "outputs": [
    {
     "data": {
      "text/plain": [
       "\"SELECT DATE_FORMAT(x, 'yy-M-ss')\""
      ]
     },
     "execution_count": 4,
     "metadata": {},
     "output_type": "execute_result"
    }
   ],
   "source": [
    "sqlglot.transpile(\"SELECT STRFTIME(x, '%y-%-m-%S')\", read=\"duckdb\", write=\"hive\")[0]"
   ]
  },
  {
   "cell_type": "code",
   "execution_count": 5,
   "id": "42175710",
   "metadata": {},
   "outputs": [
    {
     "name": "stdout",
     "output_type": "stream",
     "text": [
      "WITH `baz` AS (\n",
      "  SELECT\n",
      "    `a`,\n",
      "    `c`\n",
      "  FROM `foo`\n",
      "  WHERE\n",
      "    `a` = 1\n",
      ")\n",
      "SELECT\n",
      "  `f`.`a`,\n",
      "  `b`.`b`,\n",
      "  `baz`.`c`,\n",
      "  CAST(`b`.`a` AS FLOAT) AS `d`\n",
      "FROM `foo` AS `f`\n",
      "JOIN `bar` AS `b`\n",
      "  ON `f`.`a` = `b`.`a`\n",
      "LEFT JOIN `baz`\n",
      "  ON `f`.`a` = `baz`.`a`\n"
     ]
    }
   ],
   "source": [
    "sql = \"\"\"WITH baz AS (SELECT a, c FROM foo WHERE a = 1) SELECT f.a, b.b, baz.c, CAST(\"b\".\"a\" AS REAL) d FROM foo f JOIN bar b ON f.a = b.a LEFT JOIN baz ON f.a = baz.a\"\"\"\n",
    "print(sqlglot.transpile(sql, write=\"spark\", identify=True, pretty=True)[0])"
   ]
  },
  {
   "cell_type": "code",
   "execution_count": 6,
   "id": "432e1047",
   "metadata": {},
   "outputs": [
    {
     "name": "stdout",
     "output_type": "stream",
     "text": [
      "/* multi\n",
      "   line\n",
      "   comment\n",
      "*/\n",
      "SELECT\n",
      "  tbl.cola /* comment 1 */ + tbl.colb /* comment 2 */,\n",
      "  CAST(x AS INT), /* comment 3 */\n",
      "  y /* comment 4 */\n",
      "FROM bar /* comment 5 */, tbl /*          comment 6 */\n"
     ]
    }
   ],
   "source": [
    "sql = \"\"\"\n",
    "/* multi\n",
    "   line\n",
    "   comment\n",
    "*/\n",
    "SELECT\n",
    "  tbl.cola /* comment 1 */ + tbl.colb /* comment 2 */,\n",
    "  CAST(x AS INT), # comment 3\n",
    "  y               -- comment 4\n",
    "FROM\n",
    "  bar /* comment 5 */,\n",
    "  tbl #          comment 6\n",
    "\"\"\"\n",
    "\n",
    "print(sqlglot.transpile(sql, read='mysql', pretty=True)[0])"
   ]
  },
  {
   "cell_type": "markdown",
   "id": "fb67e66e",
   "metadata": {},
   "source": [
    "#### Metadata"
   ]
  },
  {
   "cell_type": "code",
   "execution_count": 7,
   "id": "8a6c0aef",
   "metadata": {},
   "outputs": [
    {
     "name": "stdout",
     "output_type": "stream",
     "text": [
      "a\n",
      "b\n"
     ]
    }
   ],
   "source": [
    "from sqlglot import parse_one, exp\n",
    "\n",
    "# print all column references (a and b)\n",
    "for column in parse_one(\"SELECT a, b + 1 AS c FROM d\").find_all(exp.Column):\n",
    "    print(column.alias_or_name)"
   ]
  },
  {
   "cell_type": "code",
   "execution_count": 8,
   "id": "89d8bae2",
   "metadata": {},
   "outputs": [
    {
     "name": "stdout",
     "output_type": "stream",
     "text": [
      "a\n",
      "c\n"
     ]
    }
   ],
   "source": [
    "# find all projections in select statements (a and c)\n",
    "for select in parse_one(\"SELECT a, b + 1 AS c FROM d\").find_all(exp.Select):\n",
    "    for projection in select.expressions:\n",
    "        print(projection.alias_or_name)\n"
   ]
  },
  {
   "cell_type": "code",
   "execution_count": 9,
   "id": "08bbf968",
   "metadata": {},
   "outputs": [
    {
     "name": "stdout",
     "output_type": "stream",
     "text": [
      "x\n",
      "y\n",
      "z\n"
     ]
    }
   ],
   "source": [
    "# find all tables (x, y, z)\n",
    "for table in parse_one(\"SELECT * FROM x JOIN y JOIN z\").find_all(exp.Table):\n",
    "    print(table.name)"
   ]
  },
  {
   "cell_type": "markdown",
   "id": "85214fb1",
   "metadata": {},
   "source": [
    "#### Build and Modify SQL"
   ]
  },
  {
   "cell_type": "code",
   "execution_count": 11,
   "id": "893d0adc",
   "metadata": {},
   "outputs": [
    {
     "name": "stdout",
     "output_type": "stream",
     "text": [
      "SELECT * FROM y WHERE x = 1 AND y = 1\n"
     ]
    }
   ],
   "source": [
    "from sqlglot import select, condition\n",
    "\n",
    "where = condition(\"x=1\").and_(\"y=1\")\n",
    "s = select(\"*\").from_(\"y\").where(where).sql()\n",
    "print(s)"
   ]
  },
  {
   "cell_type": "code",
   "execution_count": 12,
   "id": "3320fe6e",
   "metadata": {},
   "outputs": [
    {
     "data": {
      "text/plain": [
       "'SELECT x FROM y, z'"
      ]
     },
     "execution_count": 12,
     "metadata": {},
     "output_type": "execute_result"
    }
   ],
   "source": [
    "from sqlglot import parse_one\n",
    "parse_one(\"SELECT x FROM y\").from_(\"z\").sql()"
   ]
  },
  {
   "cell_type": "code",
   "execution_count": null,
   "id": "26997149",
   "metadata": {},
   "outputs": [],
   "source": []
  }
 ],
 "metadata": {
  "kernelspec": {
   "display_name": "Python 3 (ipykernel)",
   "language": "python",
   "name": "python3"
  },
  "language_info": {
   "codemirror_mode": {
    "name": "ipython",
    "version": 3
   },
   "file_extension": ".py",
   "mimetype": "text/x-python",
   "name": "python",
   "nbconvert_exporter": "python",
   "pygments_lexer": "ipython3",
   "version": "3.9.13"
  },
  "nbTranslate": {
   "displayLangs": [
    "*"
   ],
   "hotkey": "alt-t",
   "langInMainMenu": true,
   "sourceLang": "en",
   "targetLang": "fr",
   "useGoogleTranslate": true
  },
  "toc": {
   "base_numbering": 1,
   "nav_menu": {},
   "number_sections": true,
   "sideBar": true,
   "skip_h1_title": false,
   "title_cell": "Table of Contents",
   "title_sidebar": "Contents",
   "toc_cell": false,
   "toc_position": {},
   "toc_section_display": true,
   "toc_window_display": false
  }
 },
 "nbformat": 4,
 "nbformat_minor": 5
}
