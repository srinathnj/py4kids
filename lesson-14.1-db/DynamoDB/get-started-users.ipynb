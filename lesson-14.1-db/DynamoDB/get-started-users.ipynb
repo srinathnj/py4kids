{
 "cells": [
  {
   "cell_type": "markdown",
   "metadata": {},
   "source": [
    "[Get Started](https://docs.aws.amazon.com/amazondynamodb/latest/developerguide/getting-started-step-1.html)\n",
    "\n",
    "[Python and DynamoDB](https://docs.aws.amazon.com/amazondynamodb/latest/developerguide/GettingStarted.Python.html)"
   ]
  },
  {
   "cell_type": "markdown",
   "metadata": {},
   "source": [
    "### Create a table "
   ]
  },
  {
   "cell_type": "code",
   "execution_count": 1,
   "metadata": {},
   "outputs": [],
   "source": [
    "import boto3\n",
    "# Get the service resource.\n",
    "dynamodb = boto3.resource('dynamodb')"
   ]
  },
  {
   "cell_type": "markdown",
   "metadata": {},
   "source": [
    "\n",
    "#### CLI\n",
    "\n",
    "```\n",
    "aws dynamodb create-table \\\n",
    "    --table-name users \\\n",
    "    --attribute-definitions \\\n",
    "        AttributeName=username,AttributeType=S \\\n",
    "        AttributeName=last_name,AttributeType=S \\\n",
    "    --key-schema \\\n",
    "        AttributeName=username,KeyType=HASH \\\n",
    "        AttributeName=last_name,KeyType=RANGE \\\n",
    "    --provisioned-throughput \\\n",
    "            ReadCapacityUnits=2,WriteCapacityUnits=2\n",
    "\n",
    "aws dynamodb describe-table --table-name users \n",
    "```"
   ]
  },
  {
   "cell_type": "code",
   "execution_count": 2,
   "metadata": {},
   "outputs": [
    {
     "name": "stdout",
     "output_type": "stream",
     "text": [
      "0\n"
     ]
    }
   ],
   "source": [
    "try:\n",
    "    # Create the DynamoDB table.\n",
    "    table = dynamodb.create_table(\n",
    "        TableName='users',\n",
    "        KeySchema=[\n",
    "            {\n",
    "                'AttributeName': 'username',\n",
    "                'KeyType': 'HASH'\n",
    "            },\n",
    "            {\n",
    "                'AttributeName': 'last_name',\n",
    "                'KeyType': 'RANGE'\n",
    "            }\n",
    "        ],\n",
    "        AttributeDefinitions=[\n",
    "            {\n",
    "                'AttributeName': 'username',\n",
    "                'AttributeType': 'S'\n",
    "            },\n",
    "            {\n",
    "                'AttributeName': 'last_name',\n",
    "                'AttributeType': 'S'\n",
    "            },\n",
    "\n",
    "        ],\n",
    "        ProvisionedThroughput={\n",
    "            'ReadCapacityUnits': 2,\n",
    "            'WriteCapacityUnits': 2\n",
    "        }\n",
    "    )\n",
    "    \n",
    "    # Wait until the table exists.\n",
    "    table.meta.client.get_waiter('table_exists').wait(TableName='users')\n",
    "\n",
    "    # Print out some data about the table.\n",
    "    print(table.item_count)\n",
    "\n",
    "except Exception as e:\n",
    "    if \"Table already exists\" in str(e):\n",
    "        print(\"Table already exists\")\n",
    "    else:\n",
    "        raise e"
   ]
  },
  {
   "cell_type": "code",
   "execution_count": 3,
   "metadata": {},
   "outputs": [],
   "source": [
    "table = dynamodb.Table('users')"
   ]
  },
  {
   "cell_type": "code",
   "execution_count": 5,
   "metadata": {},
   "outputs": [
    {
     "name": "stdout",
     "output_type": "stream",
     "text": [
      "2020-08-02 07:06:50.643000-04:00\n"
     ]
    }
   ],
   "source": [
    "print(table.creation_date_time)"
   ]
  },
  {
   "cell_type": "markdown",
   "metadata": {},
   "source": [
    "### Insert"
   ]
  },
  {
   "cell_type": "code",
   "execution_count": 6,
   "metadata": {},
   "outputs": [
    {
     "data": {
      "text/plain": [
       "{'ResponseMetadata': {'RequestId': 'QNUV3I6F9KLA798D1J5P1JUC47VV4KQNSO5AEMVJF66Q9ASUAAJG',\n",
       "  'HTTPStatusCode': 200,\n",
       "  'HTTPHeaders': {'server': 'Server',\n",
       "   'date': 'Sun, 02 Aug 2020 11:13:38 GMT',\n",
       "   'content-type': 'application/x-amz-json-1.0',\n",
       "   'content-length': '2',\n",
       "   'connection': 'keep-alive',\n",
       "   'x-amzn-requestid': 'QNUV3I6F9KLA798D1J5P1JUC47VV4KQNSO5AEMVJF66Q9ASUAAJG',\n",
       "   'x-amz-crc32': '2745614147'},\n",
       "  'RetryAttempts': 0}}"
      ]
     },
     "execution_count": 6,
     "metadata": {},
     "output_type": "execute_result"
    }
   ],
   "source": [
    "table.put_item(\n",
    "   Item={\n",
    "        'username': 'john-smith',\n",
    "        'first_name': 'John',\n",
    "        'last_name': 'Smith',\n",
    "        'age': 15,\n",
    "        'account_type': 'standard_user',\n",
    "    }\n",
    ")"
   ]
  },
  {
   "cell_type": "code",
   "execution_count": 7,
   "metadata": {},
   "outputs": [
    {
     "data": {
      "text/plain": [
       "{'ResponseMetadata': {'RequestId': 'TM1R1VD7N1E4CIA1GQVPPA1917VV4KQNSO5AEMVJF66Q9ASUAAJG',\n",
       "  'HTTPStatusCode': 200,\n",
       "  'HTTPHeaders': {'server': 'Server',\n",
       "   'date': 'Sun, 02 Aug 2020 11:13:42 GMT',\n",
       "   'content-type': 'application/x-amz-json-1.0',\n",
       "   'content-length': '2',\n",
       "   'connection': 'keep-alive',\n",
       "   'x-amzn-requestid': 'TM1R1VD7N1E4CIA1GQVPPA1917VV4KQNSO5AEMVJF66Q9ASUAAJG',\n",
       "   'x-amz-crc32': '2745614147'},\n",
       "  'RetryAttempts': 0}}"
      ]
     },
     "execution_count": 7,
     "metadata": {},
     "output_type": "execute_result"
    }
   ],
   "source": [
    "table.put_item(\n",
    "   Item={\n",
    "        'username': 'janedoe',\n",
    "        'first_name': 'Jane',\n",
    "        'last_name': 'Doe',\n",
    "        'age': 25,\n",
    "        'account_type': 'standard_user',\n",
    "    }\n",
    ")"
   ]
  },
  {
   "cell_type": "code",
   "execution_count": 25,
   "metadata": {},
   "outputs": [
    {
     "data": {
      "text/plain": [
       "{'ResponseMetadata': {'RequestId': 'D0KUUEU0JMT6QVHMCHUDHIL51RVV4KQNSO5AEMVJF66Q9ASUAAJG',\n",
       "  'HTTPStatusCode': 200,\n",
       "  'HTTPHeaders': {'server': 'Server',\n",
       "   'date': 'Sun, 02 Aug 2020 11:41:56 GMT',\n",
       "   'content-type': 'application/x-amz-json-1.0',\n",
       "   'content-length': '2',\n",
       "   'connection': 'keep-alive',\n",
       "   'x-amzn-requestid': 'D0KUUEU0JMT6QVHMCHUDHIL51RVV4KQNSO5AEMVJF66Q9ASUAAJG',\n",
       "   'x-amz-crc32': '2745614147'},\n",
       "  'RetryAttempts': 0}}"
      ]
     },
     "execution_count": 25,
     "metadata": {},
     "output_type": "execute_result"
    }
   ],
   "source": [
    "table.put_item(\n",
    "    Item={\n",
    "            'account_type': 'standard_user',\n",
    "            'username': 'johnydan',\n",
    "            'first_name': 'Josh',\n",
    "            'last_name': 'Danny',\n",
    "            'age': 25,\n",
    "            'address': {\n",
    "                'road': '1 Main Street',\n",
    "                'city': 'San Jose',\n",
    "                'state': 'CA',\n",
    "                'zipcode': 90001\n",
    "            }\n",
    "        }\n",
    ")\n",
    "\n"
   ]
  },
  {
   "cell_type": "code",
   "execution_count": 9,
   "metadata": {},
   "outputs": [
    {
     "name": "stdout",
     "output_type": "stream",
     "text": [
      "0\n"
     ]
    }
   ],
   "source": [
    "print(table.item_count)"
   ]
  },
  {
   "cell_type": "markdown",
   "metadata": {},
   "source": [
    "Count number of rows in a table\n",
    "```\n",
    "aws dynamodb scan --table-name users --select \"COUNT\"\n",
    "```"
   ]
  },
  {
   "cell_type": "markdown",
   "metadata": {},
   "source": [
    "### read\n",
    "\n",
    "\n",
    "#### CLI\n",
    "```\n",
    "aws dynamodb get-item --consistent-read \\\n",
    "    --table-name users \\\n",
    "    --key '{ \"username\": {\"S\": \"janedoe\"}, \"last_name\": {\"S\": \"Doe\"}}'\n",
    "\n",
    "```"
   ]
  },
  {
   "cell_type": "code",
   "execution_count": 14,
   "metadata": {},
   "outputs": [
    {
     "data": {
      "text/plain": [
       "{'username': 'janedoe',\n",
       " 'account_type': 'standard_user',\n",
       " 'last_name': 'Doe',\n",
       " 'age': Decimal('20'),\n",
       " 'first_name': 'Jane'}"
      ]
     },
     "execution_count": 14,
     "metadata": {},
     "output_type": "execute_result"
    }
   ],
   "source": [
    "response = table.get_item(\n",
    "    Key={\n",
    "        'username': 'janedoe',\n",
    "        'last_name': 'Doe'\n",
    "    }\n",
    ")\n",
    "item = response['Item']\n",
    "item"
   ]
  },
  {
   "cell_type": "markdown",
   "metadata": {},
   "source": [
    "### update"
   ]
  },
  {
   "cell_type": "code",
   "execution_count": 10,
   "metadata": {},
   "outputs": [
    {
     "data": {
      "text/plain": [
       "{'ResponseMetadata': {'RequestId': '6QGRURB2VUDQ6H99SE0VL1G5PFVV4KQNSO5AEMVJF66Q9ASUAAJG',\n",
       "  'HTTPStatusCode': 200,\n",
       "  'HTTPHeaders': {'server': 'Server',\n",
       "   'date': 'Sun, 02 Aug 2020 11:23:48 GMT',\n",
       "   'content-type': 'application/x-amz-json-1.0',\n",
       "   'content-length': '2',\n",
       "   'connection': 'keep-alive',\n",
       "   'x-amzn-requestid': '6QGRURB2VUDQ6H99SE0VL1G5PFVV4KQNSO5AEMVJF66Q9ASUAAJG',\n",
       "   'x-amz-crc32': '2745614147'},\n",
       "  'RetryAttempts': 0}}"
      ]
     },
     "execution_count": 10,
     "metadata": {},
     "output_type": "execute_result"
    }
   ],
   "source": [
    "table.update_item(\n",
    "    Key={\n",
    "        'username': 'janedoe',\n",
    "        'last_name': 'Doe'\n",
    "    },\n",
    "    UpdateExpression='SET age = :val1',\n",
    "    ExpressionAttributeValues={\n",
    "        ':val1': 20\n",
    "    }\n",
    ")"
   ]
  },
  {
   "cell_type": "code",
   "execution_count": 13,
   "metadata": {},
   "outputs": [
    {
     "data": {
      "text/plain": [
       "{'username': 'janedoe',\n",
       " 'account_type': 'standard_user',\n",
       " 'last_name': 'Doe',\n",
       " 'age': Decimal('20'),\n",
       " 'first_name': 'Jane'}"
      ]
     },
     "execution_count": 13,
     "metadata": {},
     "output_type": "execute_result"
    }
   ],
   "source": [
    "response = table.get_item(\n",
    "    Key={\n",
    "        'username': 'janedoe',\n",
    "        'last_name': 'Doe'\n",
    "    }\n",
    ")\n",
    "item = response['Item']\n",
    "\n",
    "item"
   ]
  },
  {
   "cell_type": "markdown",
   "metadata": {},
   "source": [
    "### delete"
   ]
  },
  {
   "cell_type": "code",
   "execution_count": 15,
   "metadata": {},
   "outputs": [
    {
     "data": {
      "text/plain": [
       "{'ResponseMetadata': {'RequestId': 'HEH3U3U446GMMLD6MVRPRQVMPJVV4KQNSO5AEMVJF66Q9ASUAAJG',\n",
       "  'HTTPStatusCode': 200,\n",
       "  'HTTPHeaders': {'server': 'Server',\n",
       "   'date': 'Sun, 02 Aug 2020 11:25:26 GMT',\n",
       "   'content-type': 'application/x-amz-json-1.0',\n",
       "   'content-length': '2',\n",
       "   'connection': 'keep-alive',\n",
       "   'x-amzn-requestid': 'HEH3U3U446GMMLD6MVRPRQVMPJVV4KQNSO5AEMVJF66Q9ASUAAJG',\n",
       "   'x-amz-crc32': '2745614147'},\n",
       "  'RetryAttempts': 0}}"
      ]
     },
     "execution_count": 15,
     "metadata": {},
     "output_type": "execute_result"
    }
   ],
   "source": [
    "table.delete_item(\n",
    "    Key={\n",
    "        'username': 'janedoe',\n",
    "        'last_name': 'Doe'\n",
    "    }\n",
    ")"
   ]
  },
  {
   "cell_type": "code",
   "execution_count": 16,
   "metadata": {},
   "outputs": [
    {
     "ename": "KeyError",
     "evalue": "'Item'",
     "output_type": "error",
     "traceback": [
      "\u001b[0;31m---------------------------------------------------------------------------\u001b[0m",
      "\u001b[0;31mKeyError\u001b[0m                                  Traceback (most recent call last)",
      "\u001b[0;32m<ipython-input-16-178b0389b32a>\u001b[0m in \u001b[0;36m<module>\u001b[0;34m\u001b[0m\n\u001b[1;32m      5\u001b[0m     }\n\u001b[1;32m      6\u001b[0m )\n\u001b[0;32m----> 7\u001b[0;31m \u001b[0mitem\u001b[0m \u001b[0;34m=\u001b[0m \u001b[0mresponse\u001b[0m\u001b[0;34m[\u001b[0m\u001b[0;34m'Item'\u001b[0m\u001b[0;34m]\u001b[0m\u001b[0;34m\u001b[0m\u001b[0;34m\u001b[0m\u001b[0m\n\u001b[0m\u001b[1;32m      8\u001b[0m \u001b[0mitem\u001b[0m\u001b[0;34m\u001b[0m\u001b[0;34m\u001b[0m\u001b[0m\n",
      "\u001b[0;31mKeyError\u001b[0m: 'Item'"
     ]
    }
   ],
   "source": [
    "response = table.get_item(\n",
    "    Key={\n",
    "        'username': 'janedoe',\n",
    "        'last_name': 'Doe'\n",
    "    }\n",
    ")\n",
    "item = response['Item']\n",
    "item"
   ]
  },
  {
   "cell_type": "code",
   "execution_count": 18,
   "metadata": {},
   "outputs": [
    {
     "data": {
      "text/plain": [
       "{'username': 'john-smith',\n",
       " 'account_type': 'standard_user',\n",
       " 'last_name': 'Smith',\n",
       " 'first_name': 'John',\n",
       " 'age': Decimal('15')}"
      ]
     },
     "execution_count": 18,
     "metadata": {},
     "output_type": "execute_result"
    }
   ],
   "source": [
    "response = table.get_item(\n",
    "    Key={\n",
    "        'username': 'john-smith',\n",
    "        'last_name': 'Smith'\n",
    "    }\n",
    ")\n",
    "item = response['Item']\n",
    "item"
   ]
  },
  {
   "cell_type": "markdown",
   "metadata": {},
   "source": [
    "### Batch Writing"
   ]
  },
  {
   "cell_type": "code",
   "execution_count": 19,
   "metadata": {},
   "outputs": [],
   "source": [
    "with table.batch_writer() as batch:\n",
    "    batch.put_item(\n",
    "        Item={\n",
    "            'account_type': 'standard_user',\n",
    "            'username': 'johnydan',\n",
    "            'first_name': 'Johny',\n",
    "            'last_name': 'Dan',\n",
    "            'age': 25,\n",
    "            'address': {\n",
    "                'road': '1 Jefferson Street',\n",
    "                'city': 'Los Angeles',\n",
    "                'state': 'CA',\n",
    "                'zipcode': 90001\n",
    "            }\n",
    "        }\n",
    "    )\n",
    "    batch.put_item(\n",
    "        Item={\n",
    "            'account_type': 'super_user',\n",
    "            'username': 'janedoering',\n",
    "            'first_name': 'Jane',\n",
    "            'last_name': 'Doering',\n",
    "            'age': 40,\n",
    "            'address': {\n",
    "                'road': '2 Washington Avenue',\n",
    "                'city': 'Seattle',\n",
    "                'state': 'WA',\n",
    "                'zipcode': 98109\n",
    "            }\n",
    "        }\n",
    "    )\n",
    "    batch.put_item(\n",
    "        Item={\n",
    "            'account_type': 'standard_user',\n",
    "            'username': 'bobsmith',\n",
    "            'first_name': 'Bob',\n",
    "            'last_name':  'Smith',\n",
    "            'age': 18,\n",
    "            'address': {\n",
    "                'road': '3 Madison Lane',\n",
    "                'city': 'Louisville',\n",
    "                'state': 'KY',\n",
    "                'zipcode': 40213\n",
    "            }\n",
    "        }\n",
    "    )\n",
    "    batch.put_item(\n",
    "        Item={\n",
    "            'account_type': 'super_user',\n",
    "            'username': 'alicedoe',\n",
    "            'first_name': 'Alice',\n",
    "            'last_name': 'Doe',\n",
    "            'age': 27,\n",
    "            'address': {\n",
    "                'road': '1 Jefferson Street',\n",
    "                'city': 'Los Angeles',\n",
    "                'state': 'CA',\n",
    "                'zipcode': 90001\n",
    "            }\n",
    "        }\n",
    "    )"
   ]
  },
  {
   "cell_type": "code",
   "execution_count": 20,
   "metadata": {},
   "outputs": [],
   "source": [
    "with table.batch_writer() as batch:\n",
    "    for i in range(50):\n",
    "        batch.put_item(\n",
    "            Item={\n",
    "                'account_type': 'anonymous',\n",
    "                'username': 'user' + str(i),\n",
    "                'first_name': 'unknown',\n",
    "                'last_name': 'unknown'\n",
    "            }\n",
    "        )"
   ]
  },
  {
   "cell_type": "markdown",
   "metadata": {},
   "source": [
    "### Querying and Scanning"
   ]
  },
  {
   "cell_type": "code",
   "execution_count": 22,
   "metadata": {},
   "outputs": [],
   "source": [
    "from boto3.dynamodb.conditions import Key, Attr"
   ]
  },
  {
   "cell_type": "code",
   "execution_count": 23,
   "metadata": {},
   "outputs": [],
   "source": [
    "import pprint\n",
    "pp = pprint.PrettyPrinter(indent=4)"
   ]
  },
  {
   "cell_type": "code",
   "execution_count": 26,
   "metadata": {},
   "outputs": [
    {
     "name": "stdout",
     "output_type": "stream",
     "text": [
      "[   {   'account_type': 'standard_user',\n",
      "        'address': {   'city': 'Los Angeles',\n",
      "                       'road': '1 Jefferson Street',\n",
      "                       'state': 'CA',\n",
      "                       'zipcode': Decimal('90001')},\n",
      "        'age': Decimal('25'),\n",
      "        'first_name': 'Johny',\n",
      "        'last_name': 'Dan',\n",
      "        'username': 'johnydan'},\n",
      "    {   'account_type': 'standard_user',\n",
      "        'address': {   'city': 'San Jose',\n",
      "                       'road': '1 Main Street',\n",
      "                       'state': 'CA',\n",
      "                       'zipcode': Decimal('90001')},\n",
      "        'age': Decimal('25'),\n",
      "        'first_name': 'Josh',\n",
      "        'last_name': 'Danny',\n",
      "        'username': 'johnydan'}]\n"
     ]
    }
   ],
   "source": [
    "response = table.query(\n",
    "    KeyConditionExpression=Key('username').eq('johnydan')\n",
    ")\n",
    "items = response['Items']\n",
    "pp.pprint(items)"
   ]
  },
  {
   "cell_type": "code",
   "execution_count": 28,
   "metadata": {},
   "outputs": [
    {
     "data": {
      "text/plain": [
       "[{'username': 'johnydan',\n",
       "  'address': {'zipcode': Decimal('90001'),\n",
       "   'state': 'CA',\n",
       "   'road': '1 Main Street',\n",
       "   'city': 'San Jose'},\n",
       "  'account_type': 'standard_user',\n",
       "  'last_name': 'Danny',\n",
       "  'first_name': 'Josh',\n",
       "  'age': Decimal('25')}]"
      ]
     },
     "execution_count": 28,
     "metadata": {},
     "output_type": "execute_result"
    }
   ],
   "source": [
    "response = table.scan(\n",
    "    FilterExpression=Attr('address.city').eq('San Jose')\n",
    ")\n",
    "items = response['Items']\n",
    "items"
   ]
  },
  {
   "cell_type": "code",
   "execution_count": 29,
   "metadata": {},
   "outputs": [
    {
     "data": {
      "text/plain": [
       "[{'username': 'janedoering',\n",
       "  'address': {'zipcode': Decimal('98109'),\n",
       "   'state': 'WA',\n",
       "   'road': '2 Washington Avenue',\n",
       "   'city': 'Seattle'},\n",
       "  'account_type': 'super_user',\n",
       "  'last_name': 'Doering',\n",
       "  'first_name': 'Jane',\n",
       "  'age': Decimal('40')}]"
      ]
     },
     "execution_count": 29,
     "metadata": {},
     "output_type": "execute_result"
    }
   ],
   "source": [
    "response = table.scan(\n",
    "    FilterExpression=Attr('first_name').begins_with('J') & Attr('account_type').eq('super_user')\n",
    ")\n",
    "items = response['Items']\n",
    "items"
   ]
  },
  {
   "cell_type": "code",
   "execution_count": 30,
   "metadata": {},
   "outputs": [
    {
     "data": {
      "text/plain": [
       "[{'username': 'user12',\n",
       "  'account_type': 'anonymous',\n",
       "  'last_name': 'unknown',\n",
       "  'first_name': 'unknown'},\n",
       " {'username': 'user11',\n",
       "  'account_type': 'anonymous',\n",
       "  'last_name': 'unknown',\n",
       "  'first_name': 'unknown'},\n",
       " {'username': 'user26',\n",
       "  'account_type': 'anonymous',\n",
       "  'last_name': 'unknown',\n",
       "  'first_name': 'unknown'},\n",
       " {'username': 'user44',\n",
       "  'account_type': 'anonymous',\n",
       "  'last_name': 'unknown',\n",
       "  'first_name': 'unknown'},\n",
       " {'username': 'user1',\n",
       "  'account_type': 'anonymous',\n",
       "  'last_name': 'unknown',\n",
       "  'first_name': 'unknown'},\n",
       " {'username': 'user19',\n",
       "  'account_type': 'anonymous',\n",
       "  'last_name': 'unknown',\n",
       "  'first_name': 'unknown'},\n",
       " {'username': 'user16',\n",
       "  'account_type': 'anonymous',\n",
       "  'last_name': 'unknown',\n",
       "  'first_name': 'unknown'},\n",
       " {'username': 'user8',\n",
       "  'account_type': 'anonymous',\n",
       "  'last_name': 'unknown',\n",
       "  'first_name': 'unknown'},\n",
       " {'username': 'user14',\n",
       "  'account_type': 'anonymous',\n",
       "  'last_name': 'unknown',\n",
       "  'first_name': 'unknown'},\n",
       " {'username': 'user30',\n",
       "  'account_type': 'anonymous',\n",
       "  'last_name': 'unknown',\n",
       "  'first_name': 'unknown'},\n",
       " {'username': 'user25',\n",
       "  'account_type': 'anonymous',\n",
       "  'last_name': 'unknown',\n",
       "  'first_name': 'unknown'},\n",
       " {'username': 'user15',\n",
       "  'account_type': 'anonymous',\n",
       "  'last_name': 'unknown',\n",
       "  'first_name': 'unknown'},\n",
       " {'username': 'user35',\n",
       "  'account_type': 'anonymous',\n",
       "  'last_name': 'unknown',\n",
       "  'first_name': 'unknown'},\n",
       " {'username': 'user4',\n",
       "  'account_type': 'anonymous',\n",
       "  'last_name': 'unknown',\n",
       "  'first_name': 'unknown'},\n",
       " {'username': 'user7',\n",
       "  'account_type': 'anonymous',\n",
       "  'last_name': 'unknown',\n",
       "  'first_name': 'unknown'},\n",
       " {'username': 'user46',\n",
       "  'account_type': 'anonymous',\n",
       "  'last_name': 'unknown',\n",
       "  'first_name': 'unknown'},\n",
       " {'username': 'user20',\n",
       "  'account_type': 'anonymous',\n",
       "  'last_name': 'unknown',\n",
       "  'first_name': 'unknown'},\n",
       " {'username': 'user29',\n",
       "  'account_type': 'anonymous',\n",
       "  'last_name': 'unknown',\n",
       "  'first_name': 'unknown'},\n",
       " {'username': 'user27',\n",
       "  'account_type': 'anonymous',\n",
       "  'last_name': 'unknown',\n",
       "  'first_name': 'unknown'},\n",
       " {'username': 'user49',\n",
       "  'account_type': 'anonymous',\n",
       "  'last_name': 'unknown',\n",
       "  'first_name': 'unknown'},\n",
       " {'username': 'user28',\n",
       "  'account_type': 'anonymous',\n",
       "  'last_name': 'unknown',\n",
       "  'first_name': 'unknown'},\n",
       " {'username': 'user24',\n",
       "  'account_type': 'anonymous',\n",
       "  'last_name': 'unknown',\n",
       "  'first_name': 'unknown'},\n",
       " {'username': 'user37',\n",
       "  'account_type': 'anonymous',\n",
       "  'last_name': 'unknown',\n",
       "  'first_name': 'unknown'},\n",
       " {'username': 'user36',\n",
       "  'account_type': 'anonymous',\n",
       "  'last_name': 'unknown',\n",
       "  'first_name': 'unknown'},\n",
       " {'username': 'user9',\n",
       "  'account_type': 'anonymous',\n",
       "  'last_name': 'unknown',\n",
       "  'first_name': 'unknown'},\n",
       " {'username': 'user40',\n",
       "  'account_type': 'anonymous',\n",
       "  'last_name': 'unknown',\n",
       "  'first_name': 'unknown'},\n",
       " {'username': 'user13',\n",
       "  'account_type': 'anonymous',\n",
       "  'last_name': 'unknown',\n",
       "  'first_name': 'unknown'},\n",
       " {'username': 'user33',\n",
       "  'account_type': 'anonymous',\n",
       "  'last_name': 'unknown',\n",
       "  'first_name': 'unknown'},\n",
       " {'username': 'user42',\n",
       "  'account_type': 'anonymous',\n",
       "  'last_name': 'unknown',\n",
       "  'first_name': 'unknown'},\n",
       " {'username': 'user5',\n",
       "  'account_type': 'anonymous',\n",
       "  'last_name': 'unknown',\n",
       "  'first_name': 'unknown'},\n",
       " {'username': 'user10',\n",
       "  'account_type': 'anonymous',\n",
       "  'last_name': 'unknown',\n",
       "  'first_name': 'unknown'},\n",
       " {'username': 'user43',\n",
       "  'account_type': 'anonymous',\n",
       "  'last_name': 'unknown',\n",
       "  'first_name': 'unknown'},\n",
       " {'username': 'user22',\n",
       "  'account_type': 'anonymous',\n",
       "  'last_name': 'unknown',\n",
       "  'first_name': 'unknown'},\n",
       " {'username': 'user2',\n",
       "  'account_type': 'anonymous',\n",
       "  'last_name': 'unknown',\n",
       "  'first_name': 'unknown'},\n",
       " {'username': 'user17',\n",
       "  'account_type': 'anonymous',\n",
       "  'last_name': 'unknown',\n",
       "  'first_name': 'unknown'},\n",
       " {'username': 'user41',\n",
       "  'account_type': 'anonymous',\n",
       "  'last_name': 'unknown',\n",
       "  'first_name': 'unknown'},\n",
       " {'username': 'user45',\n",
       "  'account_type': 'anonymous',\n",
       "  'last_name': 'unknown',\n",
       "  'first_name': 'unknown'},\n",
       " {'username': 'user48',\n",
       "  'account_type': 'anonymous',\n",
       "  'last_name': 'unknown',\n",
       "  'first_name': 'unknown'},\n",
       " {'username': 'user23',\n",
       "  'account_type': 'anonymous',\n",
       "  'last_name': 'unknown',\n",
       "  'first_name': 'unknown'},\n",
       " {'username': 'user0',\n",
       "  'account_type': 'anonymous',\n",
       "  'last_name': 'unknown',\n",
       "  'first_name': 'unknown'},\n",
       " {'username': 'user47',\n",
       "  'account_type': 'anonymous',\n",
       "  'last_name': 'unknown',\n",
       "  'first_name': 'unknown'},\n",
       " {'username': 'user39',\n",
       "  'account_type': 'anonymous',\n",
       "  'last_name': 'unknown',\n",
       "  'first_name': 'unknown'},\n",
       " {'username': 'user38',\n",
       "  'account_type': 'anonymous',\n",
       "  'last_name': 'unknown',\n",
       "  'first_name': 'unknown'},\n",
       " {'username': 'user21',\n",
       "  'account_type': 'anonymous',\n",
       "  'last_name': 'unknown',\n",
       "  'first_name': 'unknown'},\n",
       " {'username': 'user34',\n",
       "  'account_type': 'anonymous',\n",
       "  'last_name': 'unknown',\n",
       "  'first_name': 'unknown'},\n",
       " {'username': 'user18',\n",
       "  'account_type': 'anonymous',\n",
       "  'last_name': 'unknown',\n",
       "  'first_name': 'unknown'},\n",
       " {'username': 'user32',\n",
       "  'account_type': 'anonymous',\n",
       "  'last_name': 'unknown',\n",
       "  'first_name': 'unknown'},\n",
       " {'username': 'user6',\n",
       "  'account_type': 'anonymous',\n",
       "  'last_name': 'unknown',\n",
       "  'first_name': 'unknown'},\n",
       " {'username': 'user31',\n",
       "  'account_type': 'anonymous',\n",
       "  'last_name': 'unknown',\n",
       "  'first_name': 'unknown'},\n",
       " {'username': 'user3',\n",
       "  'account_type': 'anonymous',\n",
       "  'last_name': 'unknown',\n",
       "  'first_name': 'unknown'}]"
      ]
     },
     "execution_count": 30,
     "metadata": {},
     "output_type": "execute_result"
    }
   ],
   "source": [
    "response = table.scan(\n",
    "    FilterExpression=Key('username').begins_with('user')\n",
    ")\n",
    "items = response['Items']\n",
    "items"
   ]
  },
  {
   "cell_type": "code",
   "execution_count": 34,
   "metadata": {
    "scrolled": true
   },
   "outputs": [
    {
     "data": {
      "text/plain": [
       "[{'username': 'user26',\n",
       "  'account_type': 'anonymous',\n",
       "  'last_name': 'unknown',\n",
       "  'first_name': 'unknown'},\n",
       " {'username': 'user25',\n",
       "  'account_type': 'anonymous',\n",
       "  'last_name': 'unknown',\n",
       "  'first_name': 'unknown'},\n",
       " {'username': 'user20',\n",
       "  'account_type': 'anonymous',\n",
       "  'last_name': 'unknown',\n",
       "  'first_name': 'unknown'},\n",
       " {'username': 'user29',\n",
       "  'account_type': 'anonymous',\n",
       "  'last_name': 'unknown',\n",
       "  'first_name': 'unknown'},\n",
       " {'username': 'user27',\n",
       "  'account_type': 'anonymous',\n",
       "  'last_name': 'unknown',\n",
       "  'first_name': 'unknown'},\n",
       " {'username': 'user28',\n",
       "  'account_type': 'anonymous',\n",
       "  'last_name': 'unknown',\n",
       "  'first_name': 'unknown'},\n",
       " {'username': 'user24',\n",
       "  'account_type': 'anonymous',\n",
       "  'last_name': 'unknown',\n",
       "  'first_name': 'unknown'},\n",
       " {'username': 'user22',\n",
       "  'account_type': 'anonymous',\n",
       "  'last_name': 'unknown',\n",
       "  'first_name': 'unknown'},\n",
       " {'username': 'user2',\n",
       "  'account_type': 'anonymous',\n",
       "  'last_name': 'unknown',\n",
       "  'first_name': 'unknown'},\n",
       " {'username': 'user23',\n",
       "  'account_type': 'anonymous',\n",
       "  'last_name': 'unknown',\n",
       "  'first_name': 'unknown'},\n",
       " {'username': 'user21',\n",
       "  'account_type': 'anonymous',\n",
       "  'last_name': 'unknown',\n",
       "  'first_name': 'unknown'}]"
      ]
     },
     "execution_count": 34,
     "metadata": {},
     "output_type": "execute_result"
    }
   ],
   "source": [
    "response = table.scan(\n",
    "    FilterExpression=Key('username').begins_with('user2')\n",
    ")\n",
    "items = response['Items']\n",
    "items"
   ]
  },
  {
   "cell_type": "markdown",
   "metadata": {},
   "source": [
    "### Deleting a Table"
   ]
  },
  {
   "cell_type": "code",
   "execution_count": 35,
   "metadata": {},
   "outputs": [
    {
     "data": {
      "text/plain": [
       "{'TableDescription': {'TableName': 'users',\n",
       "  'TableStatus': 'DELETING',\n",
       "  'ProvisionedThroughput': {'NumberOfDecreasesToday': 0,\n",
       "   'ReadCapacityUnits': 2,\n",
       "   'WriteCapacityUnits': 2},\n",
       "  'TableSizeBytes': 0,\n",
       "  'ItemCount': 0,\n",
       "  'TableArn': 'arn:aws:dynamodb:us-east-1:578247465916:table/users',\n",
       "  'TableId': '886c9956-4f9e-4d11-b83d-63708024c4df'},\n",
       " 'ResponseMetadata': {'RequestId': 'IS10K80N5R0P6GNAUHEKAOK0KVVV4KQNSO5AEMVJF66Q9ASUAAJG',\n",
       "  'HTTPStatusCode': 200,\n",
       "  'HTTPHeaders': {'server': 'Server',\n",
       "   'date': 'Sun, 02 Aug 2020 11:52:48 GMT',\n",
       "   'content-type': 'application/x-amz-json-1.0',\n",
       "   'content-length': '312',\n",
       "   'connection': 'keep-alive',\n",
       "   'x-amzn-requestid': 'IS10K80N5R0P6GNAUHEKAOK0KVVV4KQNSO5AEMVJF66Q9ASUAAJG',\n",
       "   'x-amz-crc32': '3141352462'},\n",
       "  'RetryAttempts': 0}}"
      ]
     },
     "execution_count": 35,
     "metadata": {},
     "output_type": "execute_result"
    }
   ],
   "source": [
    "table.delete()"
   ]
  },
  {
   "cell_type": "code",
   "execution_count": null,
   "metadata": {},
   "outputs": [],
   "source": []
  }
 ],
 "metadata": {
  "kernelspec": {
   "display_name": "Python 3",
   "language": "python",
   "name": "python3"
  },
  "language_info": {
   "codemirror_mode": {
    "name": "ipython",
    "version": 3
   },
   "file_extension": ".py",
   "mimetype": "text/x-python",
   "name": "python",
   "nbconvert_exporter": "python",
   "pygments_lexer": "ipython3",
   "version": "3.7.6"
  }
 },
 "nbformat": 4,
 "nbformat_minor": 2
}
