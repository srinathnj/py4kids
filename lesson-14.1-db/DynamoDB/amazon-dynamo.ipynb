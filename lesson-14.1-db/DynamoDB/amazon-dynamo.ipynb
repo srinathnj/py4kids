{
 "cells": [
  {
   "cell_type": "markdown",
   "metadata": {},
   "source": [
    "[Python and DynamoDB](https://docs.aws.amazon.com/amazondynamodb/latest/developerguide/GettingStarted.Python.html)"
   ]
  },
  {
   "cell_type": "markdown",
   "metadata": {},
   "source": [
    "### Create a table \n",
    "\n",
    "table=Movies and load sample data in JSON format."
   ]
  },
  {
   "cell_type": "code",
   "execution_count": 38,
   "metadata": {},
   "outputs": [],
   "source": [
    "import boto3\n",
    "# Get the service resource.\n",
    "dynamodb = boto3.resource('dynamodb')"
   ]
  },
  {
   "cell_type": "code",
   "execution_count": 39,
   "metadata": {},
   "outputs": [
    {
     "name": "stdout",
     "output_type": "stream",
     "text": [
      "0\n"
     ]
    }
   ],
   "source": [
    "try:\n",
    "    # Create the DynamoDB table.\n",
    "    table = dynamodb.create_table(\n",
    "        TableName='users',\n",
    "        KeySchema=[\n",
    "            {\n",
    "                'AttributeName': 'username',\n",
    "                'KeyType': 'HASH'\n",
    "            },\n",
    "            {\n",
    "                'AttributeName': 'last_name',\n",
    "                'KeyType': 'RANGE'\n",
    "            }\n",
    "        ],\n",
    "        AttributeDefinitions=[\n",
    "            {\n",
    "                'AttributeName': 'username',\n",
    "                'AttributeType': 'S'\n",
    "            },\n",
    "            {\n",
    "                'AttributeName': 'last_name',\n",
    "                'AttributeType': 'S'\n",
    "            },\n",
    "\n",
    "        ],\n",
    "        ProvisionedThroughput={\n",
    "            'ReadCapacityUnits': 5,\n",
    "            'WriteCapacityUnits': 5\n",
    "        }\n",
    "    )\n",
    "    \n",
    "    # Wait until the table exists.\n",
    "    table.meta.client.get_waiter('table_exists').wait(TableName='users')\n",
    "\n",
    "    # Print out some data about the table.\n",
    "    print(table.item_count)\n",
    "\n",
    "except Exception as e:\n",
    "    if \"Table already exists\" in str(e):\n",
    "        print(\"Table already exists\")\n",
    "    else:\n",
    "        raise e"
   ]
  },
  {
   "cell_type": "code",
   "execution_count": 40,
   "metadata": {},
   "outputs": [],
   "source": [
    "table = dynamodb.Table('users')"
   ]
  },
  {
   "cell_type": "code",
   "execution_count": 41,
   "metadata": {},
   "outputs": [
    {
     "name": "stdout",
     "output_type": "stream",
     "text": [
      "2019-01-25 22:39:29.301000-05:00\n"
     ]
    }
   ],
   "source": [
    "print(table.creation_date_time)"
   ]
  },
  {
   "cell_type": "markdown",
   "metadata": {},
   "source": [
    "### Insert"
   ]
  },
  {
   "cell_type": "code",
   "execution_count": 42,
   "metadata": {},
   "outputs": [
    {
     "data": {
      "text/plain": [
       "{'ResponseMetadata': {'RequestId': 'AS7F1UPS1I839AQOJD9UVFNADNVV4KQNSO5AEMVJF66Q9ASUAAJG',\n",
       "  'HTTPStatusCode': 200,\n",
       "  'HTTPHeaders': {'server': 'Server',\n",
       "   'date': 'Sat, 26 Jan 2019 03:40:21 GMT',\n",
       "   'content-type': 'application/x-amz-json-1.0',\n",
       "   'content-length': '2',\n",
       "   'connection': 'keep-alive',\n",
       "   'x-amzn-requestid': 'AS7F1UPS1I839AQOJD9UVFNADNVV4KQNSO5AEMVJF66Q9ASUAAJG',\n",
       "   'x-amz-crc32': '2745614147'},\n",
       "  'RetryAttempts': 0}}"
      ]
     },
     "execution_count": 42,
     "metadata": {},
     "output_type": "execute_result"
    }
   ],
   "source": [
    "table.put_item(\n",
    "   Item={\n",
    "        'username': 'john-smith',\n",
    "        'first_name': 'John',\n",
    "        'last_name': 'Smith',\n",
    "        'age': 15,\n",
    "        'account_type': 'standard_user',\n",
    "    }\n",
    ")"
   ]
  },
  {
   "cell_type": "code",
   "execution_count": 43,
   "metadata": {},
   "outputs": [
    {
     "data": {
      "text/plain": [
       "{'ResponseMetadata': {'RequestId': 'R1JNAMI2JUIUH10N2ILNKCCLQNVV4KQNSO5AEMVJF66Q9ASUAAJG',\n",
       "  'HTTPStatusCode': 200,\n",
       "  'HTTPHeaders': {'server': 'Server',\n",
       "   'date': 'Sat, 26 Jan 2019 03:40:22 GMT',\n",
       "   'content-type': 'application/x-amz-json-1.0',\n",
       "   'content-length': '2',\n",
       "   'connection': 'keep-alive',\n",
       "   'x-amzn-requestid': 'R1JNAMI2JUIUH10N2ILNKCCLQNVV4KQNSO5AEMVJF66Q9ASUAAJG',\n",
       "   'x-amz-crc32': '2745614147'},\n",
       "  'RetryAttempts': 0}}"
      ]
     },
     "execution_count": 43,
     "metadata": {},
     "output_type": "execute_result"
    }
   ],
   "source": [
    "table.put_item(\n",
    "   Item={\n",
    "        'username': 'janedoe',\n",
    "        'first_name': 'Jane',\n",
    "        'last_name': 'Doe',\n",
    "        'age': 25,\n",
    "        'account_type': 'standard_user',\n",
    "    }\n",
    ")"
   ]
  },
  {
   "cell_type": "code",
   "execution_count": 44,
   "metadata": {},
   "outputs": [
    {
     "name": "stdout",
     "output_type": "stream",
     "text": [
      "0\n"
     ]
    }
   ],
   "source": [
    "print(table.item_count)"
   ]
  },
  {
   "cell_type": "markdown",
   "metadata": {},
   "source": [
    "### read"
   ]
  },
  {
   "cell_type": "code",
   "execution_count": 45,
   "metadata": {},
   "outputs": [
    {
     "name": "stdout",
     "output_type": "stream",
     "text": [
      "{'username': 'janedoe', 'account_type': 'standard_user', 'last_name': 'Doe', 'first_name': 'Jane', 'age': Decimal('25')}\n"
     ]
    }
   ],
   "source": [
    "response = table.get_item(\n",
    "    Key={\n",
    "        'username': 'janedoe',\n",
    "        'last_name': 'Doe'\n",
    "    }\n",
    ")\n",
    "item = response['Item']\n",
    "print(item)"
   ]
  },
  {
   "cell_type": "markdown",
   "metadata": {},
   "source": [
    "### update"
   ]
  },
  {
   "cell_type": "code",
   "execution_count": 46,
   "metadata": {},
   "outputs": [
    {
     "data": {
      "text/plain": [
       "{'ResponseMetadata': {'RequestId': '6V3RHN7PVOAPA2SRLQICSSR23RVV4KQNSO5AEMVJF66Q9ASUAAJG',\n",
       "  'HTTPStatusCode': 200,\n",
       "  'HTTPHeaders': {'server': 'Server',\n",
       "   'date': 'Sat, 26 Jan 2019 03:40:32 GMT',\n",
       "   'content-type': 'application/x-amz-json-1.0',\n",
       "   'content-length': '2',\n",
       "   'connection': 'keep-alive',\n",
       "   'x-amzn-requestid': '6V3RHN7PVOAPA2SRLQICSSR23RVV4KQNSO5AEMVJF66Q9ASUAAJG',\n",
       "   'x-amz-crc32': '2745614147'},\n",
       "  'RetryAttempts': 0}}"
      ]
     },
     "execution_count": 46,
     "metadata": {},
     "output_type": "execute_result"
    }
   ],
   "source": [
    "table.update_item(\n",
    "    Key={\n",
    "        'username': 'janedoe',\n",
    "        'last_name': 'Doe'\n",
    "    },\n",
    "    UpdateExpression='SET age = :val1',\n",
    "    ExpressionAttributeValues={\n",
    "        ':val1': 26\n",
    "    }\n",
    ")"
   ]
  },
  {
   "cell_type": "code",
   "execution_count": 47,
   "metadata": {},
   "outputs": [
    {
     "name": "stdout",
     "output_type": "stream",
     "text": [
      "{'username': 'janedoe', 'account_type': 'standard_user', 'last_name': 'Doe', 'age': Decimal('26'), 'first_name': 'Jane'}\n"
     ]
    }
   ],
   "source": [
    "response = table.get_item(\n",
    "    Key={\n",
    "        'username': 'janedoe',\n",
    "        'last_name': 'Doe'\n",
    "    }\n",
    ")\n",
    "item = response['Item']\n",
    "print(item)"
   ]
  },
  {
   "cell_type": "markdown",
   "metadata": {},
   "source": [
    "### delete"
   ]
  },
  {
   "cell_type": "code",
   "execution_count": 48,
   "metadata": {},
   "outputs": [
    {
     "data": {
      "text/plain": [
       "{'ResponseMetadata': {'RequestId': 'UITIKGKPGIJKQ44O1OB0FIP0K7VV4KQNSO5AEMVJF66Q9ASUAAJG',\n",
       "  'HTTPStatusCode': 200,\n",
       "  'HTTPHeaders': {'server': 'Server',\n",
       "   'date': 'Sat, 26 Jan 2019 03:40:37 GMT',\n",
       "   'content-type': 'application/x-amz-json-1.0',\n",
       "   'content-length': '2',\n",
       "   'connection': 'keep-alive',\n",
       "   'x-amzn-requestid': 'UITIKGKPGIJKQ44O1OB0FIP0K7VV4KQNSO5AEMVJF66Q9ASUAAJG',\n",
       "   'x-amz-crc32': '2745614147'},\n",
       "  'RetryAttempts': 0}}"
      ]
     },
     "execution_count": 48,
     "metadata": {},
     "output_type": "execute_result"
    }
   ],
   "source": [
    "table.delete_item(\n",
    "    Key={\n",
    "        'username': 'janedoe',\n",
    "        'last_name': 'Doe'\n",
    "    }\n",
    ")"
   ]
  },
  {
   "cell_type": "code",
   "execution_count": 49,
   "metadata": {},
   "outputs": [
    {
     "ename": "KeyError",
     "evalue": "'Item'",
     "output_type": "error",
     "traceback": [
      "\u001b[0;31m---------------------------------------------------------------------------\u001b[0m",
      "\u001b[0;31mKeyError\u001b[0m                                  Traceback (most recent call last)",
      "\u001b[0;32m<ipython-input-49-7a78339ab864>\u001b[0m in \u001b[0;36m<module>\u001b[0;34m()\u001b[0m\n\u001b[1;32m      5\u001b[0m     }\n\u001b[1;32m      6\u001b[0m )\n\u001b[0;32m----> 7\u001b[0;31m \u001b[0mitem\u001b[0m \u001b[0;34m=\u001b[0m \u001b[0mresponse\u001b[0m\u001b[0;34m[\u001b[0m\u001b[0;34m'Item'\u001b[0m\u001b[0;34m]\u001b[0m\u001b[0;34m\u001b[0m\u001b[0m\n\u001b[0m\u001b[1;32m      8\u001b[0m \u001b[0mprint\u001b[0m\u001b[0;34m(\u001b[0m\u001b[0mitem\u001b[0m\u001b[0;34m)\u001b[0m\u001b[0;34m\u001b[0m\u001b[0m\n",
      "\u001b[0;31mKeyError\u001b[0m: 'Item'"
     ]
    }
   ],
   "source": [
    "response = table.get_item(\n",
    "    Key={\n",
    "        'username': 'janedoe',\n",
    "        'last_name': 'Doe'\n",
    "    }\n",
    ")\n",
    "item = response['Item']\n",
    "print(item)"
   ]
  },
  {
   "cell_type": "code",
   "execution_count": 50,
   "metadata": {},
   "outputs": [
    {
     "name": "stdout",
     "output_type": "stream",
     "text": [
      "{'username': 'john-smith', 'account_type': 'standard_user', 'last_name': 'Smith', 'first_name': 'John', 'age': Decimal('15')}\n"
     ]
    }
   ],
   "source": [
    "response = table.get_item(\n",
    "    Key={\n",
    "        'username': 'john-smith',\n",
    "        'last_name': 'Smith'\n",
    "    }\n",
    ")\n",
    "item = response['Item']\n",
    "print(item)"
   ]
  },
  {
   "cell_type": "markdown",
   "metadata": {},
   "source": [
    "### Batch Writing"
   ]
  },
  {
   "cell_type": "code",
   "execution_count": 51,
   "metadata": {},
   "outputs": [],
   "source": [
    "with table.batch_writer() as batch:\n",
    "    batch.put_item(\n",
    "        Item={\n",
    "            'account_type': 'standard_user',\n",
    "            'username': 'johndoe',\n",
    "            'first_name': 'John',\n",
    "            'last_name': 'Doe',\n",
    "            'age': 25,\n",
    "            'address': {\n",
    "                'road': '1 Jefferson Street',\n",
    "                'city': 'Los Angeles',\n",
    "                'state': 'CA',\n",
    "                'zipcode': 90001\n",
    "            }\n",
    "        }\n",
    "    )\n",
    "    batch.put_item(\n",
    "        Item={\n",
    "            'account_type': 'super_user',\n",
    "            'username': 'janedoering',\n",
    "            'first_name': 'Jane',\n",
    "            'last_name': 'Doering',\n",
    "            'age': 40,\n",
    "            'address': {\n",
    "                'road': '2 Washington Avenue',\n",
    "                'city': 'Seattle',\n",
    "                'state': 'WA',\n",
    "                'zipcode': 98109\n",
    "            }\n",
    "        }\n",
    "    )\n",
    "    batch.put_item(\n",
    "        Item={\n",
    "            'account_type': 'standard_user',\n",
    "            'username': 'bobsmith',\n",
    "            'first_name': 'Bob',\n",
    "            'last_name':  'Smith',\n",
    "            'age': 18,\n",
    "            'address': {\n",
    "                'road': '3 Madison Lane',\n",
    "                'city': 'Louisville',\n",
    "                'state': 'KY',\n",
    "                'zipcode': 40213\n",
    "            }\n",
    "        }\n",
    "    )\n",
    "    batch.put_item(\n",
    "        Item={\n",
    "            'account_type': 'super_user',\n",
    "            'username': 'alicedoe',\n",
    "            'first_name': 'Alice',\n",
    "            'last_name': 'Doe',\n",
    "            'age': 27,\n",
    "            'address': {\n",
    "                'road': '1 Jefferson Street',\n",
    "                'city': 'Los Angeles',\n",
    "                'state': 'CA',\n",
    "                'zipcode': 90001\n",
    "            }\n",
    "        }\n",
    "    )"
   ]
  },
  {
   "cell_type": "code",
   "execution_count": 53,
   "metadata": {},
   "outputs": [],
   "source": [
    "with table.batch_writer() as batch:\n",
    "    for i in range(50):\n",
    "        batch.put_item(\n",
    "            Item={\n",
    "                'account_type': 'anonymous',\n",
    "                'username': 'user' + str(i),\n",
    "                'first_name': 'unknown',\n",
    "                'last_name': 'unknown'\n",
    "            }\n",
    "        )"
   ]
  },
  {
   "cell_type": "markdown",
   "metadata": {},
   "source": [
    "### Querying and Scanning"
   ]
  },
  {
   "cell_type": "code",
   "execution_count": 54,
   "metadata": {},
   "outputs": [],
   "source": [
    "from boto3.dynamodb.conditions import Key, Attr"
   ]
  },
  {
   "cell_type": "code",
   "execution_count": 55,
   "metadata": {},
   "outputs": [],
   "source": [
    "import pprint\n",
    "pp = pprint.PrettyPrinter(indent=4)"
   ]
  },
  {
   "cell_type": "code",
   "execution_count": 57,
   "metadata": {},
   "outputs": [
    {
     "name": "stdout",
     "output_type": "stream",
     "text": [
      "[   {   'account_type': 'standard_user',\n",
      "        'address': {   'city': 'Los Angeles',\n",
      "                       'road': '1 Jefferson Street',\n",
      "                       'state': 'CA',\n",
      "                       'zipcode': Decimal('90001')},\n",
      "        'age': Decimal('25'),\n",
      "        'first_name': 'John',\n",
      "        'last_name': 'Doe',\n",
      "        'username': 'johndoe'}]\n"
     ]
    }
   ],
   "source": [
    "response = table.query(\n",
    "    KeyConditionExpression=Key('username').eq('johndoe')\n",
    ")\n",
    "items = response['Items']\n",
    "pp.pprint(items)"
   ]
  },
  {
   "cell_type": "code",
   "execution_count": 58,
   "metadata": {},
   "outputs": [
    {
     "data": {
      "text/plain": [
       "list"
      ]
     },
     "execution_count": 58,
     "metadata": {},
     "output_type": "execute_result"
    }
   ],
   "source": [
    "type(items)"
   ]
  },
  {
   "cell_type": "code",
   "execution_count": 60,
   "metadata": {},
   "outputs": [
    {
     "name": "stdout",
     "output_type": "stream",
     "text": [
      "[{'username': 'john-smith', 'account_type': 'standard_user', 'last_name': 'Smith', 'first_name': 'John', 'age': Decimal('15')}, {'username': 'johndoe', 'address': {'zipcode': Decimal('90001'), 'state': 'CA', 'road': '1 Jefferson Street', 'city': 'Los Angeles'}, 'account_type': 'standard_user', 'last_name': 'Doe', 'first_name': 'John', 'age': Decimal('25')}, {'username': 'bobsmith', 'address': {'zipcode': Decimal('40213'), 'state': 'KY', 'road': '3 Madison Lane', 'city': 'Louisville'}, 'account_type': 'standard_user', 'last_name': 'Smith', 'first_name': 'Bob', 'age': Decimal('18')}]\n"
     ]
    }
   ],
   "source": [
    "response = table.scan(\n",
    "    FilterExpression=Attr('age').lt(27)\n",
    ")\n",
    "items = response['Items']\n",
    "print(items)"
   ]
  },
  {
   "cell_type": "code",
   "execution_count": 61,
   "metadata": {},
   "outputs": [
    {
     "name": "stdout",
     "output_type": "stream",
     "text": [
      "[   {   'account_type': 'standard_user',\n",
      "        'age': Decimal('15'),\n",
      "        'first_name': 'John',\n",
      "        'last_name': 'Smith',\n",
      "        'username': 'john-smith'},\n",
      "    {   'account_type': 'standard_user',\n",
      "        'address': {   'city': 'Los Angeles',\n",
      "                       'road': '1 Jefferson Street',\n",
      "                       'state': 'CA',\n",
      "                       'zipcode': Decimal('90001')},\n",
      "        'age': Decimal('25'),\n",
      "        'first_name': 'John',\n",
      "        'last_name': 'Doe',\n",
      "        'username': 'johndoe'},\n",
      "    {   'account_type': 'standard_user',\n",
      "        'address': {   'city': 'Louisville',\n",
      "                       'road': '3 Madison Lane',\n",
      "                       'state': 'KY',\n",
      "                       'zipcode': Decimal('40213')},\n",
      "        'age': Decimal('18'),\n",
      "        'first_name': 'Bob',\n",
      "        'last_name': 'Smith',\n",
      "        'username': 'bobsmith'}]\n"
     ]
    }
   ],
   "source": [
    "pp.pprint(items)"
   ]
  },
  {
   "cell_type": "code",
   "execution_count": 62,
   "metadata": {},
   "outputs": [
    {
     "name": "stdout",
     "output_type": "stream",
     "text": [
      "[   {   'account_type': 'super_user',\n",
      "        'address': {   'city': 'Seattle',\n",
      "                       'road': '2 Washington Avenue',\n",
      "                       'state': 'WA',\n",
      "                       'zipcode': Decimal('98109')},\n",
      "        'age': Decimal('40'),\n",
      "        'first_name': 'Jane',\n",
      "        'last_name': 'Doering',\n",
      "        'username': 'janedoering'}]\n"
     ]
    }
   ],
   "source": [
    "response = table.scan(\n",
    "    FilterExpression=Attr('first_name').begins_with('J') & Attr('account_type').eq('super_user')\n",
    ")\n",
    "items = response['Items']\n",
    "pp.pprint(items)"
   ]
  },
  {
   "cell_type": "code",
   "execution_count": 63,
   "metadata": {},
   "outputs": [
    {
     "name": "stdout",
     "output_type": "stream",
     "text": [
      "[   {   'account_type': 'anonymous',\n",
      "        'first_name': 'unknown',\n",
      "        'last_name': 'unknown',\n",
      "        'username': 'user12'},\n",
      "    {   'account_type': 'anonymous',\n",
      "        'first_name': 'unknown',\n",
      "        'last_name': 'unknown',\n",
      "        'username': 'user11'},\n",
      "    {   'account_type': 'anonymous',\n",
      "        'first_name': 'unknown',\n",
      "        'last_name': 'unknown',\n",
      "        'username': 'user26'},\n",
      "    {   'account_type': 'anonymous',\n",
      "        'first_name': 'unknown',\n",
      "        'last_name': 'unknown',\n",
      "        'username': 'user44'},\n",
      "    {   'account_type': 'anonymous',\n",
      "        'first_name': 'unknown',\n",
      "        'last_name': 'unknown',\n",
      "        'username': 'user1'},\n",
      "    {   'account_type': 'anonymous',\n",
      "        'first_name': 'unknown',\n",
      "        'last_name': 'unknown',\n",
      "        'username': 'user19'},\n",
      "    {   'account_type': 'anonymous',\n",
      "        'first_name': 'unknown',\n",
      "        'last_name': 'unknown',\n",
      "        'username': 'user16'},\n",
      "    {   'account_type': 'anonymous',\n",
      "        'first_name': 'unknown',\n",
      "        'last_name': 'unknown',\n",
      "        'username': 'user8'},\n",
      "    {   'account_type': 'anonymous',\n",
      "        'first_name': 'unknown',\n",
      "        'last_name': 'unknown',\n",
      "        'username': 'user14'},\n",
      "    {   'account_type': 'anonymous',\n",
      "        'first_name': 'unknown',\n",
      "        'last_name': 'unknown',\n",
      "        'username': 'user30'},\n",
      "    {   'account_type': 'anonymous',\n",
      "        'first_name': 'unknown',\n",
      "        'last_name': 'unknown',\n",
      "        'username': 'user25'},\n",
      "    {   'account_type': 'anonymous',\n",
      "        'first_name': 'unknown',\n",
      "        'last_name': 'unknown',\n",
      "        'username': 'user15'},\n",
      "    {   'account_type': 'anonymous',\n",
      "        'first_name': 'unknown',\n",
      "        'last_name': 'unknown',\n",
      "        'username': 'user35'},\n",
      "    {   'account_type': 'anonymous',\n",
      "        'first_name': 'unknown',\n",
      "        'last_name': 'unknown',\n",
      "        'username': 'user4'},\n",
      "    {   'account_type': 'anonymous',\n",
      "        'first_name': 'unknown',\n",
      "        'last_name': 'unknown',\n",
      "        'username': 'user7'},\n",
      "    {   'account_type': 'anonymous',\n",
      "        'first_name': 'unknown',\n",
      "        'last_name': 'unknown',\n",
      "        'username': 'user46'},\n",
      "    {   'account_type': 'anonymous',\n",
      "        'first_name': 'unknown',\n",
      "        'last_name': 'unknown',\n",
      "        'username': 'user20'},\n",
      "    {   'account_type': 'anonymous',\n",
      "        'first_name': 'unknown',\n",
      "        'last_name': 'unknown',\n",
      "        'username': 'user29'},\n",
      "    {   'account_type': 'anonymous',\n",
      "        'first_name': 'unknown',\n",
      "        'last_name': 'unknown',\n",
      "        'username': 'user27'},\n",
      "    {   'account_type': 'anonymous',\n",
      "        'first_name': 'unknown',\n",
      "        'last_name': 'unknown',\n",
      "        'username': 'user49'},\n",
      "    {   'account_type': 'anonymous',\n",
      "        'first_name': 'unknown',\n",
      "        'last_name': 'unknown',\n",
      "        'username': 'user28'},\n",
      "    {   'account_type': 'anonymous',\n",
      "        'first_name': 'unknown',\n",
      "        'last_name': 'unknown',\n",
      "        'username': 'user24'},\n",
      "    {   'account_type': 'anonymous',\n",
      "        'first_name': 'unknown',\n",
      "        'last_name': 'unknown',\n",
      "        'username': 'user37'},\n",
      "    {   'account_type': 'anonymous',\n",
      "        'first_name': 'unknown',\n",
      "        'last_name': 'unknown',\n",
      "        'username': 'user36'},\n",
      "    {   'account_type': 'anonymous',\n",
      "        'first_name': 'unknown',\n",
      "        'last_name': 'unknown',\n",
      "        'username': 'user9'},\n",
      "    {   'account_type': 'anonymous',\n",
      "        'first_name': 'unknown',\n",
      "        'last_name': 'unknown',\n",
      "        'username': 'user40'},\n",
      "    {   'account_type': 'anonymous',\n",
      "        'first_name': 'unknown',\n",
      "        'last_name': 'unknown',\n",
      "        'username': 'user13'},\n",
      "    {   'account_type': 'anonymous',\n",
      "        'first_name': 'unknown',\n",
      "        'last_name': 'unknown',\n",
      "        'username': 'user33'},\n",
      "    {   'account_type': 'anonymous',\n",
      "        'first_name': 'unknown',\n",
      "        'last_name': 'unknown',\n",
      "        'username': 'user42'},\n",
      "    {   'account_type': 'anonymous',\n",
      "        'first_name': 'unknown',\n",
      "        'last_name': 'unknown',\n",
      "        'username': 'user5'},\n",
      "    {   'account_type': 'anonymous',\n",
      "        'first_name': 'unknown',\n",
      "        'last_name': 'unknown',\n",
      "        'username': 'user10'},\n",
      "    {   'account_type': 'anonymous',\n",
      "        'first_name': 'unknown',\n",
      "        'last_name': 'unknown',\n",
      "        'username': 'user43'},\n",
      "    {   'account_type': 'anonymous',\n",
      "        'first_name': 'unknown',\n",
      "        'last_name': 'unknown',\n",
      "        'username': 'user22'},\n",
      "    {   'account_type': 'anonymous',\n",
      "        'first_name': 'unknown',\n",
      "        'last_name': 'unknown',\n",
      "        'username': 'user2'},\n",
      "    {   'account_type': 'anonymous',\n",
      "        'first_name': 'unknown',\n",
      "        'last_name': 'unknown',\n",
      "        'username': 'user17'},\n",
      "    {   'account_type': 'anonymous',\n",
      "        'first_name': 'unknown',\n",
      "        'last_name': 'unknown',\n",
      "        'username': 'user41'},\n",
      "    {   'account_type': 'anonymous',\n",
      "        'first_name': 'unknown',\n",
      "        'last_name': 'unknown',\n",
      "        'username': 'user45'},\n",
      "    {   'account_type': 'anonymous',\n",
      "        'first_name': 'unknown',\n",
      "        'last_name': 'unknown',\n",
      "        'username': 'user48'},\n",
      "    {   'account_type': 'anonymous',\n",
      "        'first_name': 'unknown',\n",
      "        'last_name': 'unknown',\n",
      "        'username': 'user23'},\n",
      "    {   'account_type': 'anonymous',\n",
      "        'first_name': 'unknown',\n",
      "        'last_name': 'unknown',\n",
      "        'username': 'user0'},\n",
      "    {   'account_type': 'anonymous',\n",
      "        'first_name': 'unknown',\n",
      "        'last_name': 'unknown',\n",
      "        'username': 'user47'},\n",
      "    {   'account_type': 'anonymous',\n",
      "        'first_name': 'unknown',\n",
      "        'last_name': 'unknown',\n",
      "        'username': 'user39'},\n",
      "    {   'account_type': 'anonymous',\n",
      "        'first_name': 'unknown',\n",
      "        'last_name': 'unknown',\n",
      "        'username': 'user38'},\n",
      "    {   'account_type': 'anonymous',\n",
      "        'first_name': 'unknown',\n",
      "        'last_name': 'unknown',\n",
      "        'username': 'user21'},\n",
      "    {   'account_type': 'anonymous',\n",
      "        'first_name': 'unknown',\n",
      "        'last_name': 'unknown',\n",
      "        'username': 'user34'},\n",
      "    {   'account_type': 'anonymous',\n",
      "        'first_name': 'unknown',\n",
      "        'last_name': 'unknown',\n",
      "        'username': 'user18'},\n",
      "    {   'account_type': 'anonymous',\n",
      "        'first_name': 'unknown',\n",
      "        'last_name': 'unknown',\n",
      "        'username': 'user32'},\n",
      "    {   'account_type': 'anonymous',\n",
      "        'first_name': 'unknown',\n",
      "        'last_name': 'unknown',\n",
      "        'username': 'user6'},\n",
      "    {   'account_type': 'anonymous',\n",
      "        'first_name': 'unknown',\n",
      "        'last_name': 'unknown',\n",
      "        'username': 'user31'},\n",
      "    {   'account_type': 'anonymous',\n",
      "        'first_name': 'unknown',\n",
      "        'last_name': 'unknown',\n",
      "        'username': 'user3'}]\n"
     ]
    }
   ],
   "source": [
    "response = table.scan(\n",
    "    FilterExpression=Key('username').begins_with('user')\n",
    ")\n",
    "items = response['Items']\n",
    "pp.pprint(items)"
   ]
  },
  {
   "cell_type": "markdown",
   "metadata": {},
   "source": [
    "### Deleting a Table"
   ]
  },
  {
   "cell_type": "code",
   "execution_count": 64,
   "metadata": {},
   "outputs": [],
   "source": [
    "# table.delete()"
   ]
  },
  {
   "cell_type": "code",
   "execution_count": null,
   "metadata": {},
   "outputs": [],
   "source": []
  }
 ],
 "metadata": {
  "kernelspec": {
   "display_name": "Python 3",
   "language": "python",
   "name": "python3"
  },
  "language_info": {
   "codemirror_mode": {
    "name": "ipython",
    "version": 3
   },
   "file_extension": ".py",
   "mimetype": "text/x-python",
   "name": "python",
   "nbconvert_exporter": "python",
   "pygments_lexer": "ipython3",
   "version": "3.7.6"
  }
 },
 "nbformat": 4,
 "nbformat_minor": 2
}
