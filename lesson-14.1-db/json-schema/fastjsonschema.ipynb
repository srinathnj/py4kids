{
 "cells": [
  {
   "cell_type": "markdown",
   "metadata": {},
   "source": [
    "https://horejsek.github.io/python-fastjsonschema/\n",
    "\n",
    "### setup\n",
    "`pip install fastjsonschema`\n",
    "\n",
    "\n",
    "### docs\n",
    "https://json-schema.org/understanding-json-schema/about.html"
   ]
  },
  {
   "cell_type": "code",
   "execution_count": 1,
   "metadata": {},
   "outputs": [],
   "source": [
    "import fastjsonschema as fjs"
   ]
  },
  {
   "cell_type": "code",
   "execution_count": 2,
   "metadata": {},
   "outputs": [],
   "source": [
    "def is_valid(schema, data):\n",
    "    try:\n",
    "        validate = fjs.compile(schema)\n",
    "        return validate(data) == data, None\n",
    "    except fjs.JsonSchemaException as ex:\n",
    "        return False, ex"
   ]
  },
  {
   "cell_type": "markdown",
   "metadata": {},
   "source": [
    "#### compile() is faster"
   ]
  },
  {
   "cell_type": "code",
   "execution_count": 3,
   "metadata": {},
   "outputs": [
    {
     "name": "stdout",
     "output_type": "stream",
     "text": [
      "CPU times: user 568 µs, sys: 53 µs, total: 621 µs\n",
      "Wall time: 626 µs\n"
     ]
    },
    {
     "data": {
      "text/plain": [
       "'hello'"
      ]
     },
     "execution_count": 3,
     "metadata": {},
     "output_type": "execute_result"
    }
   ],
   "source": [
    "%time fjs.validate({'type': 'string'}, 'hello')"
   ]
  },
  {
   "cell_type": "code",
   "execution_count": 4,
   "metadata": {},
   "outputs": [
    {
     "name": "stdout",
     "output_type": "stream",
     "text": [
      "CPU times: user 783 µs, sys: 0 ns, total: 783 µs\n",
      "Wall time: 796 µs\n"
     ]
    },
    {
     "data": {
      "text/plain": [
       "'hello'"
      ]
     },
     "execution_count": 4,
     "metadata": {},
     "output_type": "execute_result"
    }
   ],
   "source": [
    "%time fjs.compile({'type': 'string'})('hello')"
   ]
  },
  {
   "cell_type": "markdown",
   "metadata": {},
   "source": [
    "### basic type"
   ]
  },
  {
   "cell_type": "code",
   "execution_count": 5,
   "metadata": {},
   "outputs": [],
   "source": [
    "schema = {'type': 'string'}\n",
    "data = 'hello'"
   ]
  },
  {
   "cell_type": "code",
   "execution_count": 6,
   "metadata": {},
   "outputs": [
    {
     "data": {
      "text/plain": [
       "(True, None)"
      ]
     },
     "execution_count": 6,
     "metadata": {},
     "output_type": "execute_result"
    }
   ],
   "source": [
    "is_valid(schema, data)"
   ]
  },
  {
   "cell_type": "code",
   "execution_count": 7,
   "metadata": {},
   "outputs": [],
   "source": [
    "schema = {\n",
    "    'type': 'object',\n",
    "    'properties': {\n",
    "        'a': {'type': 'number', 'default': 42},\n",
    "    },\n",
    "}\n",
    "data = {'a': 42}"
   ]
  },
  {
   "cell_type": "code",
   "execution_count": 8,
   "metadata": {},
   "outputs": [
    {
     "data": {
      "text/plain": [
       "(True, None)"
      ]
     },
     "execution_count": 8,
     "metadata": {},
     "output_type": "execute_result"
    }
   ],
   "source": [
    "is_valid(schema, data)"
   ]
  },
  {
   "cell_type": "code",
   "execution_count": 9,
   "metadata": {},
   "outputs": [],
   "source": [
    "schema = {\n",
    "    'type': 'object',\n",
    "    'properties': {\n",
    "        'a': {'type': 'number', 'default': 42},\n",
    "    },\n",
    "}\n",
    "data = {}"
   ]
  },
  {
   "cell_type": "code",
   "execution_count": 10,
   "metadata": {},
   "outputs": [
    {
     "data": {
      "text/plain": [
       "(True, None)"
      ]
     },
     "execution_count": 10,
     "metadata": {},
     "output_type": "execute_result"
    }
   ],
   "source": [
    "is_valid(schema, data)"
   ]
  },
  {
   "cell_type": "code",
   "execution_count": null,
   "metadata": {},
   "outputs": [],
   "source": []
  },
  {
   "cell_type": "code",
   "execution_count": 11,
   "metadata": {},
   "outputs": [],
   "source": [
    "schema = {\n",
    "    '$schema': 'http://json-schema.org/draft-04/schema',\n",
    "    'type': 'number',\n",
    "}\n",
    "data = 100"
   ]
  },
  {
   "cell_type": "code",
   "execution_count": 12,
   "metadata": {},
   "outputs": [
    {
     "data": {
      "text/plain": [
       "(True, None)"
      ]
     },
     "execution_count": 12,
     "metadata": {},
     "output_type": "execute_result"
    }
   ],
   "source": [
    "is_valid(schema, data)"
   ]
  },
  {
   "cell_type": "code",
   "execution_count": 13,
   "metadata": {},
   "outputs": [],
   "source": [
    "schema = {\n",
    "    '$schema': 'http://json-schema.org/draft-04/schema',\n",
    "    'type': 'number',\n",
    "}\n",
    "data = 'abc'"
   ]
  },
  {
   "cell_type": "code",
   "execution_count": 14,
   "metadata": {},
   "outputs": [
    {
     "data": {
      "text/plain": [
       "(False, fastjsonschema.exceptions.JsonSchemaException('data must be number'))"
      ]
     },
     "execution_count": 14,
     "metadata": {},
     "output_type": "execute_result"
    }
   ],
   "source": [
    "is_valid(schema, data)"
   ]
  },
  {
   "cell_type": "code",
   "execution_count": 52,
   "metadata": {},
   "outputs": [
    {
     "name": "stdout",
     "output_type": "stream",
     "text": [
      "(True, None)\n",
      "(True, None)\n",
      "(False, JsonSchemaException('data must match pattern ^(\\\\([0-9]{3}\\\\))?[0-9]{3}-[0-9]{4}$'))\n"
     ]
    }
   ],
   "source": [
    "schema = {\n",
    "    '$schema': 'http://json-schema.org/draft-04/schema',\n",
    "   \"type\": \"string\",\n",
    "   \"pattern\": \"^(\\\\([0-9]{3}\\\\))?[0-9]{3}-[0-9]{4}$\",\n",
    "}\n",
    "\n",
    "data = [\n",
    "    \"555-1212\",  \"(888)555-1212\" , \"(888)555-1212 ext. 532\"\n",
    "]\n",
    "\n",
    "for d in data:\n",
    "    print(is_valid(schema, d))"
   ]
  },
  {
   "cell_type": "code",
   "execution_count": 55,
   "metadata": {},
   "outputs": [
    {
     "name": "stdout",
     "output_type": "stream",
     "text": [
      "(True, None)\n",
      "(False, JsonSchemaException('data must match pattern ^[0-9]{4}-[0-9]{2}-[0-9]{2}$'))\n"
     ]
    }
   ],
   "source": [
    "schema = {\n",
    "    '$schema': 'http://json-schema.org/draft-04/schema',\n",
    "   \"type\": \"string\",\n",
    "   \"pattern\": \"^[0-9]{4}-[0-9]{2}-[0-9]{2}$\",\n",
    "}\n",
    "\n",
    "data = [\n",
    "    \"2020-01-01\",  \"2020/01/01\"\n",
    "]\n",
    "\n",
    "for d in data:\n",
    "    print(is_valid(schema, d))"
   ]
  },
  {
   "cell_type": "markdown",
   "metadata": {},
   "source": [
    "### complex schema: `nested`, `$ref`\n",
    "\n",
    "https://json-schema.org/understanding-json-schema/structuring.html"
   ]
  },
  {
   "cell_type": "code",
   "execution_count": 15,
   "metadata": {},
   "outputs": [],
   "source": [
    "schema = {\n",
    "  \"$schema\": \"http://json-schema.org/draft-07/schema#\",\n",
    "\n",
    "  \"definitions\": {\n",
    "    \"address\": {\n",
    "      \"type\": \"object\",\n",
    "      \"properties\": {\n",
    "        \"street_address\": { \"type\": \"string\" },\n",
    "        \"city\":           { \"type\": \"string\" },\n",
    "        \"state\":          { \"type\": \"string\" }\n",
    "      },\n",
    "      \"required\": [\"street_address\", \"city\", \"state\"]\n",
    "    }\n",
    "  },\n",
    "\n",
    "  \"type\": \"object\",\n",
    "\n",
    "  \"properties\": {\n",
    "    \"name\": { \"type\": \"string\" },\n",
    "    \"billing_address\": { \"$ref\": \"#/definitions/address\" },\n",
    "    \"shipping_address\": { \"$ref\": \"#/definitions/address\" }\n",
    "  },\n",
    "  \"required\": [\"name\", \"billing_address\"],\n",
    "}\n",
    "\n",
    "data = {\n",
    "  \"name\": \"Jose Goodman\",\n",
    "  \"shipping_address\": {\n",
    "    \"street_address\": \"1600 Pennsylvania Avenue NW\",\n",
    "    \"city\": \"Washington\",\n",
    "    \"state\": \"DC\"\n",
    "  },\n",
    "  \"billing_address\": {\n",
    "    \"street_address\": \"1st Street SE\",\n",
    "    \"city\": \"Washington\",\n",
    "    \"state\": \"DC\"\n",
    "  }\n",
    "}"
   ]
  },
  {
   "cell_type": "code",
   "execution_count": 16,
   "metadata": {},
   "outputs": [
    {
     "data": {
      "text/plain": [
       "(True, None)"
      ]
     },
     "execution_count": 16,
     "metadata": {},
     "output_type": "execute_result"
    }
   ],
   "source": [
    "is_valid(schema, data)"
   ]
  },
  {
   "cell_type": "code",
   "execution_count": 56,
   "metadata": {},
   "outputs": [],
   "source": [
    "schema = {\n",
    "    \"$schema\": \"http://json-schema.org/draft-07/schema#\",\n",
    "  \"type\": \"object\",\n",
    "  \"properties\": {\n",
    "    \"first_name\": { \"type\": \"string\" },\n",
    "    \"last_name\": { \"type\": \"string\" },\n",
    "    \"birthday\": {    \n",
    "            \"type\": \"string\",\n",
    "           \"pattern\": \"^[0-9]{4}-[0-9]{2}-[0-9]{2}$\",\n",
    "        },\n",
    "    \"address\": {\n",
    "      \"type\": \"object\",\n",
    "      \"properties\": {\n",
    "        \"street_address\": { \"type\": \"string\" },\n",
    "        \"city\": { \"type\": \"string\" },\n",
    "        \"state\": { \"type\": \"string\" },\n",
    "        \"country\": { \"type\" : \"string\" },\n",
    "      },\n",
    "    },\n",
    "  },\n",
    "  \"required\" : [\"first_name\", \"last_name\", \"address\"],\n",
    "}\n",
    "\n",
    "data = [\n",
    "    {\n",
    "      \"name\": \"George Washington\",\n",
    "      \"birthday\": \"February 22, 1732\",\n",
    "      \"address\": \"Mount Vernon, Virginia, United States\",\n",
    "    },    \n",
    "    {\n",
    "      \"first_name\": \"George\",\n",
    "      \"last_name\": \"Washington\",\n",
    "      \"birthday\": \"2000/01/01\",\n",
    "      \"address\": {\n",
    "        \"street_address\": \"3200 Mount Vernon Memorial Highway\",\n",
    "        \"city\": \"Mount Vernon\",\n",
    "        \"state\": \"Virginia\",\n",
    "        \"country\": \"United States\",\n",
    "      }\n",
    "    },    \n",
    "    {\n",
    "      \"first_name\": \"George\",\n",
    "      \"last_name\": \"Washington\",\n",
    "      \"birthday\": \"2000-01-01\",\n",
    "      \"address\": {\n",
    "        \"street_address\": \"3200 Mount Vernon Memorial Highway\",\n",
    "        \"city\": \"Mount Vernon\",\n",
    "        \"state\": \"Virginia\",\n",
    "        \"country\": \"United States\",\n",
    "      }\n",
    "    }    \n",
    "]"
   ]
  },
  {
   "cell_type": "code",
   "execution_count": 57,
   "metadata": {},
   "outputs": [
    {
     "name": "stdout",
     "output_type": "stream",
     "text": [
      "(False, JsonSchemaException(\"data must contain ['first_name', 'last_name', 'address'] properties\"))\n",
      "(False, JsonSchemaException('data.birthday must match pattern ^[0-9]{4}-[0-9]{2}-[0-9]{2}$'))\n",
      "(True, None)\n"
     ]
    }
   ],
   "source": [
    "for d in data:\n",
    "    print(is_valid(schema, d))"
   ]
  },
  {
   "cell_type": "code",
   "execution_count": null,
   "metadata": {},
   "outputs": [],
   "source": []
  },
  {
   "cell_type": "markdown",
   "metadata": {},
   "source": [
    "### conditional\n",
    "\n",
    "https://json-schema.org/understanding-json-schema/reference/conditionals.html"
   ]
  },
  {
   "cell_type": "code",
   "execution_count": 17,
   "metadata": {},
   "outputs": [],
   "source": [
    "schema = {\n",
    "  \"type\": \"object\",\n",
    "  \"properties\": {\n",
    "    \"street_address\": {\n",
    "      \"type\": \"string\"\n",
    "    },\n",
    "    \"country\": {\n",
    "      \"enum\": [\"United States of America\", \"Canada\"]\n",
    "    }\n",
    "  },\n",
    "  \"if\": {\n",
    "    \"properties\": { \"country\": { \"const\": \"United States of America\" } }\n",
    "  },\n",
    "  \"then\": {\n",
    "    \"properties\": { \"postal_code\": { \"pattern\": \"[0-9]{5}(-[0-9]{4})?\" } }\n",
    "  },\n",
    "  \"else\": {\n",
    "    \"properties\": { \"postal_code\": { \"pattern\": \"[A-Z][0-9][A-Z] [0-9][A-Z][0-9]\" } }\n",
    "  }\n",
    "}"
   ]
  },
  {
   "cell_type": "code",
   "execution_count": 18,
   "metadata": {},
   "outputs": [],
   "source": [
    "data = [\n",
    "    {\n",
    "      \"street_address\": \"1600 Pennsylvania Avenue NW\",\n",
    "      \"country\": \"United States of America\",\n",
    "      \"postal_code\": \"20500\"\n",
    "    },\n",
    "    {\n",
    "      \"street_address\": \"24 Sussex Drive\",\n",
    "      \"country\": \"Canada\",\n",
    "      \"postal_code\": \"K1M 1M4\"\n",
    "    },    \n",
    "    {\n",
    "      \"street_address\": \"24 Sussex Drive\",\n",
    "      \"country\": \"Canada\",\n",
    "      \"postal_code\": \"10000\"\n",
    "    }\n",
    "]"
   ]
  },
  {
   "cell_type": "code",
   "execution_count": 20,
   "metadata": {},
   "outputs": [
    {
     "name": "stdout",
     "output_type": "stream",
     "text": [
      "(True, None)\n",
      "(True, None)\n",
      "(False, JsonSchemaException('data.postal_code must match pattern [A-Z][0-9][A-Z] [0-9][A-Z][0-9]'))\n"
     ]
    }
   ],
   "source": [
    "for d in data:\n",
    "    print(is_valid(schema, d))"
   ]
  },
  {
   "cell_type": "code",
   "execution_count": null,
   "metadata": {},
   "outputs": [],
   "source": []
  }
 ],
 "metadata": {
  "kernelspec": {
   "display_name": "Python 3",
   "language": "python",
   "name": "python3"
  },
  "language_info": {
   "codemirror_mode": {
    "name": "ipython",
    "version": 3
   },
   "file_extension": ".py",
   "mimetype": "text/x-python",
   "name": "python",
   "nbconvert_exporter": "python",
   "pygments_lexer": "ipython3",
   "version": "3.7.1"
  }
 },
 "nbformat": 4,
 "nbformat_minor": 2
}
