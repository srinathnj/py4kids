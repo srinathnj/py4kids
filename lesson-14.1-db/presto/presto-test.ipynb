{
 "cells": [
  {
   "cell_type": "code",
   "execution_count": 1,
   "id": "d91b83dd",
   "metadata": {},
   "outputs": [],
   "source": [
    "import sys"
   ]
  },
  {
   "cell_type": "code",
   "execution_count": 2,
   "id": "211216ca",
   "metadata": {},
   "outputs": [
    {
     "data": {
      "text/plain": [
       "['/home/wengong/projects/py4kids/lesson-14-db/presto',\n",
       " '/home/wengong/anaconda3/envs/py39/lib/python39.zip',\n",
       " '/home/wengong/anaconda3/envs/py39/lib/python3.9',\n",
       " '/home/wengong/anaconda3/envs/py39/lib/python3.9/lib-dynload',\n",
       " '',\n",
       " '/home/wengong/anaconda3/envs/py39/lib/python3.9/site-packages',\n",
       " '/home/wengong/anaconda3/envs/py39/lib/python3.9/site-packages/IPython/extensions',\n",
       " '/home/wengong/.ipython']"
      ]
     },
     "execution_count": 2,
     "metadata": {},
     "output_type": "execute_result"
    }
   ],
   "source": [
    "sys.path"
   ]
  },
  {
   "cell_type": "code",
   "execution_count": 3,
   "id": "9aae7123",
   "metadata": {},
   "outputs": [
    {
     "name": "stdout",
     "output_type": "stream",
     "text": [
      "('2021-10-21 02:09:58.311 UTC',)\n"
     ]
    }
   ],
   "source": [
    "# presto-test.py\n",
    "# simple python script to run a query on a presto cluster and display the result set \n",
    "from sqlalchemy import *\n",
    "from sqlalchemy.engine import create_engine\n",
    "from sqlalchemy.schema import *\n",
    "engine = create_engine(\"presto://localhost:8080/ahana_hive\", connect_args={'protocol': 'http'})\n",
    " \n",
    "with engine.connect() as con:\n",
    "    rs = con.execute('SELECT now()')\n",
    "    for row in rs:\n",
    "        print(row)"
   ]
  },
  {
   "cell_type": "code",
   "execution_count": 4,
   "id": "6b75fe4d",
   "metadata": {},
   "outputs": [],
   "source": [
    "catalog,schema,table = \"tpcds.tiny.customer\".split(\".\")"
   ]
  },
  {
   "cell_type": "code",
   "execution_count": 5,
   "id": "1bf6d56d",
   "metadata": {},
   "outputs": [
    {
     "data": {
      "text/plain": [
       "('tpcds', 'tiny', 'customer')"
      ]
     },
     "execution_count": 5,
     "metadata": {},
     "output_type": "execute_result"
    }
   ],
   "source": [
    "catalog,schema,table"
   ]
  },
  {
   "cell_type": "code",
   "execution_count": 7,
   "id": "c705e432",
   "metadata": {},
   "outputs": [
    {
     "name": "stdout",
     "output_type": "stream",
     "text": [
      "('c_customer_sk', 'bigint', '', '')\n",
      "('c_customer_id', 'char(16)', '', '')\n",
      "('c_current_cdemo_sk', 'bigint', '', '')\n",
      "('c_current_hdemo_sk', 'bigint', '', '')\n",
      "('c_current_addr_sk', 'bigint', '', '')\n",
      "('c_first_shipto_date_sk', 'bigint', '', '')\n",
      "('c_first_sales_date_sk', 'bigint', '', '')\n",
      "('c_salutation', 'char(10)', '', '')\n",
      "('c_first_name', 'char(20)', '', '')\n",
      "('c_last_name', 'char(30)', '', '')\n",
      "('c_preferred_cust_flag', 'char(1)', '', '')\n",
      "('c_birth_day', 'integer', '', '')\n",
      "('c_birth_month', 'integer', '', '')\n",
      "('c_birth_year', 'integer', '', '')\n",
      "('c_birth_country', 'varchar(20)', '', '')\n",
      "('c_login', 'char(13)', '', '')\n",
      "('c_email_address', 'char(50)', '', '')\n",
      "('c_last_review_date_sk', 'bigint', '', '')\n"
     ]
    }
   ],
   "source": [
    "sql = f\"\"\"\n",
    "describe {catalog}.{schema}.{table}\n",
    "\"\"\"\n",
    "\n",
    "with engine.connect() as con:\n",
    "    rs = con.execute(sql)\n",
    "    for row in rs:\n",
    "        print(row)"
   ]
  },
  {
   "cell_type": "code",
   "execution_count": 6,
   "id": "3b94ac30",
   "metadata": {},
   "outputs": [
    {
     "name": "stdout",
     "output_type": "stream",
     "text": [
      "(1, 'AAAAAAAABAAAAAAA', 980124, 7135, 946, 2452238, 2452208, 'Mr.       ', 'Javier              ', 'Lewis                         ', 'Y', 9, 12, 1936, 'CHILE', None, 'Javier.Lewis@VFAxlnZEvOx.org                      ', 2452508)\n",
      "(2, 'AAAAAAAACAAAAAAA', 819667, 1461, 655, 2452318, 2452288, 'Dr.       ', 'Amy                 ', 'Moses                         ', 'Y', 9, 4, 1966, 'TOGO', None, 'Amy.Moses@Ovk9KjHH.com                            ', 2452318)\n",
      "(3, 'AAAAAAAADAAAAAAA', 1473522, 6247, 572, 2449130, 2449100, 'Miss      ', 'Latisha             ', 'Hamilton                      ', 'N', 18, 9, 1979, 'NIUE', None, 'Latisha.Hamilton@V.com                            ', 2452313)\n",
      "(4, 'AAAAAAAAEAAAAAAA', 1703214, 3986, 558, 2450030, 2450000, 'Dr.       ', 'Michael             ', 'White                         ', 'N', 7, 6, 1983, 'MEXICO', None, 'Michael.White@i.org                               ', 2452361)\n",
      "(5, 'AAAAAAAAFAAAAAAA', 953372, 4470, 368, 2449438, 2449408, 'Sir       ', 'Robert              ', 'Moran                         ', 'N', 8, 5, 1956, 'FIJI', None, 'Robert.Moran@Hh.edu                               ', 2452469)\n",
      "(6, 'AAAAAAAAGAAAAAAA', 213219, 6374, 82, 2451883, 2451853, 'Ms.       ', 'Brunilda            ', 'Sharp                         ', 'N', 4, 12, 1925, 'SURINAME', None, 'Brunilda.Sharp@T3pylZEUQjm.org                    ', 2452430)\n",
      "(7, 'AAAAAAAAHAAAAAAA', 68377, 3219, 814, 2451438, 2451408, 'Ms.       ', 'Fonda               ', 'Wiles                         ', 'Y', 24, 4, 1985, 'GAMBIA', None, 'Fonda.Wiles@S9KnyEtz9hv.org                       ', 2452360)\n",
      "(8, 'AAAAAAAAIAAAAAAA', 1215897, 2471, 598, 2449406, 2449376, 'Sir       ', 'Ollie               ', 'Shipman                       ', 'N', 26, 12, 1938, 'KOREA, REPUBLIC OF', None, 'Ollie.Shipman@be.org                              ', 2452334)\n",
      "(9, 'AAAAAAAAJAAAAAAA', 1168667, 1404, 388, 2452275, 2452245, 'Sir       ', 'Karl                ', 'Gilbert                       ', 'N', 26, 10, 1966, 'MONTSERRAT', None, 'Karl.Gilbert@Crg5KyP2IxX9C4d6.edu                 ', 2452454)\n",
      "(10, 'AAAAAAAAKAAAAAAA', 1207553, 5143, 580, 2451353, 2451323, 'Ms.       ', 'Albert              ', 'Brunson                       ', 'N', 15, 10, 1973, 'JORDAN', None, 'Albert.Brunson@62.com                             ', 2452641)\n"
     ]
    }
   ],
   "source": [
    "sql = f\"\"\"\n",
    "select * from {catalog}.{schema}.{table} limit 10\n",
    "\"\"\"\n",
    "\n",
    "with engine.connect() as con:\n",
    "    rs = con.execute(sql)\n",
    "    for row in rs:\n",
    "        print(row)"
   ]
  },
  {
   "cell_type": "code",
   "execution_count": 8,
   "id": "67a2ec10",
   "metadata": {},
   "outputs": [],
   "source": [
    "import datetime"
   ]
  },
  {
   "cell_type": "code",
   "execution_count": 9,
   "id": "26743960",
   "metadata": {},
   "outputs": [],
   "source": [
    "start = datetime.datetime.now()"
   ]
  },
  {
   "cell_type": "code",
   "execution_count": 10,
   "id": "713e29b2",
   "metadata": {},
   "outputs": [],
   "source": [
    "stop = datetime.datetime.now()"
   ]
  },
  {
   "cell_type": "code",
   "execution_count": 13,
   "id": "c9ed2648",
   "metadata": {},
   "outputs": [
    {
     "data": {
      "text/plain": [
       "datetime.timedelta(seconds=9, microseconds=811046)"
      ]
     },
     "execution_count": 13,
     "metadata": {},
     "output_type": "execute_result"
    }
   ],
   "source": [
    "(stop - start).seconds"
   ]
  },
  {
   "cell_type": "code",
   "execution_count": null,
   "id": "24f473bd",
   "metadata": {},
   "outputs": [],
   "source": []
  }
 ],
 "metadata": {
  "kernelspec": {
   "display_name": "Python 3",
   "language": "python",
   "name": "python3"
  },
  "language_info": {
   "codemirror_mode": {
    "name": "ipython",
    "version": 3
   },
   "file_extension": ".py",
   "mimetype": "text/x-python",
   "name": "python",
   "nbconvert_exporter": "python",
   "pygments_lexer": "ipython3",
   "version": "3.9.7"
  }
 },
 "nbformat": 4,
 "nbformat_minor": 5
}
