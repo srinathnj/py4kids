{
 "cells": [
  {
   "cell_type": "code",
   "execution_count": 1,
   "metadata": {},
   "outputs": [],
   "source": [
    "from pyspark.sql.types import *\n",
    "from graphframes import *"
   ]
  },
  {
   "cell_type": "code",
   "execution_count": 2,
   "metadata": {},
   "outputs": [],
   "source": [
    "def create_transport_graph():\n",
    "    node_fields = [\n",
    "        StructField(\"id\", StringType(), True),\n",
    "        StructField(\"latitude\", FloatType(), True),\n",
    "        StructField(\"longitude\", FloatType(), True),\n",
    "        StructField(\"population\", IntegerType(), True)\n",
    "    ]\n",
    "    nodes = spark.read.csv(\"../data/transport-nodes.csv\", header=True,\n",
    "        schema=StructType(node_fields))\n",
    "    rels = spark.read.csv(\"../data/transport-relationships.csv\", header=True)\n",
    "    reversed_rels = (rels.withColumn(\"newSrc\", rels.dst)\n",
    "        .withColumn(\"newDst\", rels.src)\n",
    "        .drop(\"dst\", \"src\")\n",
    "        .withColumnRenamed(\"newSrc\", \"src\")\n",
    "        .withColumnRenamed(\"newDst\", \"dst\")\n",
    "        .select(\"src\", \"dst\", \"relationship\", \"cost\"))\n",
    "    relationships = rels.union(reversed_rels)\n",
    "    return GraphFrame(nodes, relationships)"
   ]
  },
  {
   "cell_type": "code",
   "execution_count": 3,
   "metadata": {},
   "outputs": [],
   "source": [
    "g = create_transport_graph()"
   ]
  },
  {
   "cell_type": "code",
   "execution_count": 4,
   "metadata": {},
   "outputs": [
    {
     "name": "stdout",
     "output_type": "stream",
     "text": [
      "+----------+--------+---------+----------+\n",
      "|        id|latitude|longitude|population|\n",
      "+----------+--------+---------+----------+\n",
      "|Colchester|51.88921|  0.90421|    104390|\n",
      "|   Ipswich|52.05917|  1.15545|    133384|\n",
      "+----------+--------+---------+----------+\n",
      "\n"
     ]
    }
   ],
   "source": [
    "(g.vertices\n",
    ".filter(\"population > 100000 and population < 300000\")\n",
    ".sort(\"population\")\n",
    ".show())"
   ]
  },
  {
   "cell_type": "code",
   "execution_count": 5,
   "metadata": {},
   "outputs": [],
   "source": [
    "from_expr = \"id='Den Haag'\"\n",
    "to_expr = \"population > 100000 and population < 300000 and id <> 'Den Haag'\"\n",
    "result = g.bfs(from_expr, to_expr)"
   ]
  },
  {
   "cell_type": "code",
   "execution_count": 6,
   "metadata": {},
   "outputs": [
    {
     "name": "stdout",
     "output_type": "stream",
     "text": [
      "['from', 'e0', 'v1', 'e1', 'v2', 'e2', 'to']\n"
     ]
    }
   ],
   "source": [
    "print(result.columns)"
   ]
  },
  {
   "cell_type": "code",
   "execution_count": 7,
   "metadata": {},
   "outputs": [
    {
     "name": "stdout",
     "output_type": "stream",
     "text": [
      "+--------------------+--------------------+--------------------+--------------------+\n",
      "|                from|                  v1|                  v2|                  to|\n",
      "+--------------------+--------------------+--------------------+--------------------+\n",
      "|[Den Haag, 52.078...|[Hoek van Holland...|[Felixstowe, 51.9...|[Ipswich, 52.0591...|\n",
      "+--------------------+--------------------+--------------------+--------------------+\n",
      "\n"
     ]
    }
   ],
   "source": [
    "columns = [column for column in result.columns if not column.startswith(\"e\")]\n",
    "result.select(columns).show()"
   ]
  },
  {
   "cell_type": "code",
   "execution_count": null,
   "metadata": {},
   "outputs": [],
   "source": []
  }
 ],
 "metadata": {
  "kernelspec": {
   "display_name": "Python 3",
   "language": "python",
   "name": "python3"
  },
  "language_info": {
   "codemirror_mode": {
    "name": "ipython",
    "version": 3
   },
   "file_extension": ".py",
   "mimetype": "text/x-python",
   "name": "python",
   "nbconvert_exporter": "python",
   "pygments_lexer": "ipython3",
   "version": "3.8.5"
  }
 },
 "nbformat": 4,
 "nbformat_minor": 4
}
