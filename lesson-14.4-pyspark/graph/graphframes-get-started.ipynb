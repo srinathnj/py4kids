{
 "cells": [
  {
   "cell_type": "markdown",
   "metadata": {},
   "source": [
    "## Setup\n",
    "\n",
    "### Install Open JDK 8:\n",
    "\n",
    "\n",
    "```\n",
    "apt-get install openjdk-8-jdk-headless \n",
    "echo $JAVA_HOME\n",
    "/home/wengong/jdk-11.0.8+10\n",
    "```\n",
    "\n",
    "\n",
    "### Install Apache Spark\n",
    "\n",
    "```\n",
    "$ tar xvf ~/Downloads/tmp/spark-3.0.1-bin-hadoop2.7.tgz\n",
    "```\n",
    "\n",
    "add to .bash_path\n",
    "```\n",
    "export SPARK_HOME=~/spark/spark-2.4.7-bin-hadoop2.7\n",
    "export SPARK_VERSION=spark-2.4.7-bin-hadoop2.7\n",
    "export PYSPARK_PYTHON=python3\n",
    "if [ -d \"$SPARK_HOME/bin\" ] ; then\n",
    "    PATH=\"$SPARK_HOME/bin:$PATH\"\n",
    "fi\n",
    "```\n",
    "\n",
    "```\n",
    "pip3 install pyspark\n",
    "```\n",
    "\n",
    "Download graphframes jar from https://spark-packages.org/package/graphframes/graphframes\n",
    "into $SPARK_HOME/jars/\n",
    "\n",
    "\n",
    "To check which scala version is compatible with spark, type\n",
    "$ spark-submit --version\n",
    "version 3.0.1\n",
    "Using Scala version 2.12.10, OpenJDK 64-Bit Server VM, 11.0.8\n",
    "\n",
    "\n",
    "### Install Scala\n",
    "\n",
    "cd ~/scala\n",
    "tar xvf ~/Downloads/tmp/scala-2.12.10.tgz\n",
    "\n",
    "add to .bash_path\n",
    "```\n",
    "export SCALA_HOME=~/scala/scala-2.12.10\n",
    "if [ -d \"$SCALA_HOME/bin\" ] ; then\n",
    "    PATH=\"$SCALA_HOME/bin:$PATH\"\n",
    "fi\n",
    "```\n",
    "\n",
    "### Run pyspark in Jupyter Notebook\n",
    "\n",
    "```\n",
    "$ cd ~/projects/graph/graph-algo/Graph-Algo-git/notebooks\n",
    "$ export PYSPARK_DRIVER_PYTHON=jupyter\n",
    "$ export PYSPARK_DRIVER_PYTHON_OPTS=notebook\n",
    "$ pyspark \\\n",
    "--driver-memory 2g \\\n",
    "--executor-memory 6g \\\n",
    "--packages graphframes:graphframes:0.8.1-spark3.0-s_2.12\n",
    "```"
   ]
  },
  {
   "cell_type": "code",
   "execution_count": 1,
   "metadata": {},
   "outputs": [],
   "source": [
    "from pyspark import *\n",
    "from pyspark.sql import *"
   ]
  },
  {
   "cell_type": "code",
   "execution_count": 2,
   "metadata": {},
   "outputs": [],
   "source": [
    "from graphframes import *"
   ]
  },
  {
   "cell_type": "code",
   "execution_count": 3,
   "metadata": {},
   "outputs": [],
   "source": [
    "spark = SparkSession.builder.appName('fun').getOrCreate()\n",
    "vertices = spark.createDataFrame([('1', 'Carter', 'Derrick', 50), \n",
    "                                  ('2', 'May', 'Derrick', 26),\n",
    "                                 ('3', 'Mills', 'Jeff', 80),\n",
    "                                  ('4', 'Hood', 'Robert', 65),\n",
    "                                  ('5', 'Banks', 'Mike', 93),\n",
    "                                 ('98', 'Berg', 'Tim', 28),\n",
    "                                 ('99', 'Page', 'Allan', 16)],\n",
    "                                 ['id', 'name', 'firstname', 'age'])\n",
    "edges = spark.createDataFrame([('1', '2', 'friend'), \n",
    "                               ('2', '1', 'friend'),\n",
    "                              ('3', '1', 'friend'),\n",
    "                              ('1', '3', 'friend'),\n",
    "                               ('2', '3', 'follows'),\n",
    "                               ('3', '4', 'friend'),\n",
    "                               ('4', '3', 'friend'),\n",
    "                               ('5', '3', 'friend'),\n",
    "                               ('3', '5', 'friend'),\n",
    "                               ('4', '5', 'follows'),\n",
    "                              ('98', '99', 'friend'),\n",
    "                              ('99', '98', 'friend')],\n",
    "                              ['src', 'dst', 'type'])"
   ]
  },
  {
   "cell_type": "code",
   "execution_count": 4,
   "metadata": {},
   "outputs": [
    {
     "name": "stdout",
     "output_type": "stream",
     "text": [
      "+---+------+---------+---+\n",
      "| id|  name|firstname|age|\n",
      "+---+------+---------+---+\n",
      "|  1|Carter|  Derrick| 50|\n",
      "|  2|   May|  Derrick| 26|\n",
      "|  3| Mills|     Jeff| 80|\n",
      "|  4|  Hood|   Robert| 65|\n",
      "|  5| Banks|     Mike| 93|\n",
      "| 98|  Berg|      Tim| 28|\n",
      "| 99|  Page|    Allan| 16|\n",
      "+---+------+---------+---+\n",
      "\n"
     ]
    }
   ],
   "source": [
    "vertices.show()"
   ]
  },
  {
   "cell_type": "code",
   "execution_count": 5,
   "metadata": {},
   "outputs": [],
   "source": [
    "g = GraphFrame(vertices, edges)"
   ]
  },
  {
   "cell_type": "markdown",
   "metadata": {},
   "source": [
    "## Ref\n",
    "\n",
    "https://github.com/wgong/py4kids/blob/master/lesson-17-pyspark/spark-guide/notebook/chapter-30-graph.ipynb"
   ]
  },
  {
   "cell_type": "code",
   "execution_count": null,
   "metadata": {},
   "outputs": [],
   "source": []
  }
 ],
 "metadata": {
  "kernelspec": {
   "display_name": "Python 3",
   "language": "python",
   "name": "python3"
  },
  "language_info": {
   "codemirror_mode": {
    "name": "ipython",
    "version": 3
   },
   "file_extension": ".py",
   "mimetype": "text/x-python",
   "name": "python",
   "nbconvert_exporter": "python",
   "pygments_lexer": "ipython3",
   "version": "3.8.5"
  }
 },
 "nbformat": 4,
 "nbformat_minor": 4
}
