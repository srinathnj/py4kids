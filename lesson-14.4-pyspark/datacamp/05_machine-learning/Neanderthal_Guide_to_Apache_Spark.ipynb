{
 "cells": [
  {
   "cell_type": "markdown",
   "metadata": {
    "colab_type": "text",
    "id": "bGUQ27pJGKbe"
   },
   "source": [
    "# Neanderthal's Guide to Apache Spark\n",
    "\n",
    "https://towardsdatascience.com/a-neanderthals-guide-to-apache-spark-in-python-9ef1f156d427"
   ]
  },
  {
   "cell_type": "markdown",
   "metadata": {
    "colab_type": "text",
    "id": "LCtLeGkKGYhk"
   },
   "source": [
    "## Getting PySpark Running \n",
    "\n",
    "for Colab env"
   ]
  },
  {
   "cell_type": "raw",
   "metadata": {
    "colab": {},
    "colab_type": "code",
    "id": "vf17N3KFGd8t"
   },
   "source": [
    "!apt-get install openjdk-8-jdk-headless -qq > /dev/null\n",
    "!wget -q https://www-us.apache.org/dist/spark/spark-2.4.3/spark-2.4.3-bin-hadoop2.7.tgz\n",
    "!tar xf spark-2.4.3-bin-hadoop2.7.tgz\n",
    "!pip install -q findspark\n",
    "import os\n",
    "os.environ[\"JAVA_HOME\"] = \"/usr/lib/jvm/java-8-openjdk-amd64\"\n",
    "os.environ[\"SPARK_HOME\"] = \"/content/spark-2.4.3-bin-hadoop2.7\"\n",
    "import findspark\n",
    "findspark.init()\n",
    "\n",
    "# tried $ pip install pyspark, however, df.count() throws error, issue with installation"
   ]
  },
  {
   "cell_type": "raw",
   "metadata": {},
   "source": [
    "# upload csv to Colab\n",
    "from google.colab import files\n",
    "files.upload()"
   ]
  },
  {
   "cell_type": "markdown",
   "metadata": {
    "colab_type": "text",
    "id": "PSVlwhLuGgCN"
   },
   "source": [
    "## Setting up"
   ]
  },
  {
   "cell_type": "code",
   "execution_count": 1,
   "metadata": {
    "colab": {},
    "colab_type": "code",
    "id": "yB_MItdYGmZk"
   },
   "outputs": [],
   "source": [
    "from pyspark.sql import SparkSession\n",
    "spark = SparkSession.builder \\\n",
    "    .master(\"local\") \\\n",
    "    .appName(\"test1\") \\\n",
    "    .getOrCreate()"
   ]
  },
  {
   "cell_type": "markdown",
   "metadata": {
    "colab_type": "text",
    "id": "rxUYgAp7GtCb"
   },
   "source": [
    "## Load Data"
   ]
  },
  {
   "cell_type": "code",
   "execution_count": 2,
   "metadata": {
    "colab": {},
    "colab_type": "code",
    "id": "Oj-2MEKsGzBj"
   },
   "outputs": [],
   "source": [
    "data = spark.read.csv('./data/video_game_sales.csv.gz',inferSchema=True, header =True)"
   ]
  },
  {
   "cell_type": "code",
   "execution_count": 3,
   "metadata": {
    "colab": {
     "base_uri": "https://localhost:8080/",
     "height": 289
    },
    "colab_type": "code",
    "id": "adW5tJCh4slL",
    "outputId": "631b6cb6-e1f9-4908-c2ef-50012b0b7a45"
   },
   "outputs": [
    {
     "data": {
      "text/plain": [
       "['Name',\n",
       " 'Platform',\n",
       " 'Year_of_Release',\n",
       " 'Genre',\n",
       " 'Publisher',\n",
       " 'NA_Sales',\n",
       " 'EU_Sales',\n",
       " 'JP_Sales',\n",
       " 'Other_Sales',\n",
       " 'Global_Sales',\n",
       " 'Critic_Score',\n",
       " 'Critic_Count',\n",
       " 'User_Score',\n",
       " 'User_Count',\n",
       " 'Developer',\n",
       " 'Rating']"
      ]
     },
     "execution_count": 3,
     "metadata": {},
     "output_type": "execute_result"
    }
   ],
   "source": [
    "data.columns"
   ]
  },
  {
   "cell_type": "code",
   "execution_count": 4,
   "metadata": {
    "colab": {
     "base_uri": "https://localhost:8080/",
     "height": 34
    },
    "colab_type": "code",
    "id": "hmVPc-Gn8AAp",
    "outputId": "f40b0924-a2df-48c4-eff3-441a3bbae5e1"
   },
   "outputs": [
    {
     "data": {
      "text/plain": [
       "(16720, 16)"
      ]
     },
     "execution_count": 4,
     "metadata": {},
     "output_type": "execute_result"
    }
   ],
   "source": [
    "data.count(), len(data.columns)\n"
   ]
  },
  {
   "cell_type": "markdown",
   "metadata": {
    "colab_type": "text",
    "id": "_G9NRlVfDU1b"
   },
   "source": [
    "## Viewing DataFrames"
   ]
  },
  {
   "cell_type": "code",
   "execution_count": 5,
   "metadata": {
    "colab": {
     "base_uri": "https://localhost:8080/",
     "height": 224
    },
    "colab_type": "code",
    "id": "sFWtwW4YXOrF",
    "outputId": "8376d3d1-1577-4d95-ed73-3a9ad4e3dd7e"
   },
   "outputs": [
    {
     "name": "stdout",
     "output_type": "stream",
     "text": [
      "+--------------------+--------+---------------+------------+---------+--------+--------+--------+-----------+------------+------------+------------+----------+----------+---------+------+\n",
      "|                Name|Platform|Year_of_Release|       Genre|Publisher|NA_Sales|EU_Sales|JP_Sales|Other_Sales|Global_Sales|Critic_Score|Critic_Count|User_Score|User_Count|Developer|Rating|\n",
      "+--------------------+--------+---------------+------------+---------+--------+--------+--------+-----------+------------+------------+------------+----------+----------+---------+------+\n",
      "|          Wii Sports|     Wii|           2006|      Sports| Nintendo|   41.36|   28.96|    3.77|       8.45|       82.53|          76|          51|         8|       322| Nintendo|     E|\n",
      "|   Super Mario Bros.|     NES|           1985|    Platform| Nintendo|   29.08|    3.58|    6.81|       0.77|       40.24|        null|        null|      null|      null|     null|  null|\n",
      "|      Mario Kart Wii|     Wii|           2008|      Racing| Nintendo|   15.68|   12.76|    3.79|       3.29|       35.52|          82|          73|       8.3|       709| Nintendo|     E|\n",
      "|   Wii Sports Resort|     Wii|           2009|      Sports| Nintendo|   15.61|   10.93|    3.28|       2.95|       32.77|          80|          73|         8|       192| Nintendo|     E|\n",
      "|Pokemon Red/Pokem...|      GB|           1996|Role-Playing| Nintendo|   11.27|    8.89|   10.22|        1.0|       31.37|        null|        null|      null|      null|     null|  null|\n",
      "+--------------------+--------+---------------+------------+---------+--------+--------+--------+-----------+------------+------------+------------+----------+----------+---------+------+\n",
      "only showing top 5 rows\n",
      "\n"
     ]
    }
   ],
   "source": [
    "data.show(5)"
   ]
  },
  {
   "cell_type": "code",
   "execution_count": 6,
   "metadata": {
    "colab": {
     "base_uri": "https://localhost:8080/",
     "height": 323
    },
    "colab_type": "code",
    "id": "hy5hh7IUXSj0",
    "outputId": "4b1cb3da-9a9f-46d0-a08d-0b6d701ee541"
   },
   "outputs": [
    {
     "name": "stdout",
     "output_type": "stream",
     "text": [
      "root\n",
      " |-- Name: string (nullable = true)\n",
      " |-- Platform: string (nullable = true)\n",
      " |-- Year_of_Release: string (nullable = true)\n",
      " |-- Genre: string (nullable = true)\n",
      " |-- Publisher: string (nullable = true)\n",
      " |-- NA_Sales: double (nullable = true)\n",
      " |-- EU_Sales: double (nullable = true)\n",
      " |-- JP_Sales: double (nullable = true)\n",
      " |-- Other_Sales: double (nullable = true)\n",
      " |-- Global_Sales: double (nullable = true)\n",
      " |-- Critic_Score: integer (nullable = true)\n",
      " |-- Critic_Count: integer (nullable = true)\n",
      " |-- User_Score: string (nullable = true)\n",
      " |-- User_Count: integer (nullable = true)\n",
      " |-- Developer: string (nullable = true)\n",
      " |-- Rating: string (nullable = true)\n",
      "\n"
     ]
    }
   ],
   "source": [
    "data.printSchema()"
   ]
  },
  {
   "cell_type": "code",
   "execution_count": 7,
   "metadata": {
    "colab": {
     "base_uri": "https://localhost:8080/",
     "height": 289
    },
    "colab_type": "code",
    "id": "Qw67FD7A5lOn",
    "outputId": "e9d48ba9-1c7a-4c64-8e71-9da05212e282"
   },
   "outputs": [
    {
     "data": {
      "text/plain": [
       "[('Name', 'string'),\n",
       " ('Platform', 'string'),\n",
       " ('Year_of_Release', 'string'),\n",
       " ('Genre', 'string'),\n",
       " ('Publisher', 'string'),\n",
       " ('NA_Sales', 'double'),\n",
       " ('EU_Sales', 'double'),\n",
       " ('JP_Sales', 'double'),\n",
       " ('Other_Sales', 'double'),\n",
       " ('Global_Sales', 'double'),\n",
       " ('Critic_Score', 'int'),\n",
       " ('Critic_Count', 'int'),\n",
       " ('User_Score', 'string'),\n",
       " ('User_Count', 'int'),\n",
       " ('Developer', 'string'),\n",
       " ('Rating', 'string')]"
      ]
     },
     "execution_count": 7,
     "metadata": {},
     "output_type": "execute_result"
    }
   ],
   "source": [
    "data.dtypes"
   ]
  },
  {
   "cell_type": "code",
   "execution_count": 8,
   "metadata": {
    "colab": {
     "base_uri": "https://localhost:8080/",
     "height": 374
    },
    "colab_type": "code",
    "id": "CYdqE-WXhIUK",
    "outputId": "5c84e4dc-66c2-487d-988e-975b54f62074"
   },
   "outputs": [
    {
     "name": "stdout",
     "output_type": "stream",
     "text": [
      "+---------------------------+--------+----------+----------+\n",
      "|Name                       |Platform|User_Score|User_Count|\n",
      "+---------------------------+--------+----------+----------+\n",
      "|Wii Sports                 |Wii     |8         |322       |\n",
      "|Super Mario Bros.          |NES     |null      |null      |\n",
      "|Mario Kart Wii             |Wii     |8.3       |709       |\n",
      "|Wii Sports Resort          |Wii     |8         |192       |\n",
      "|Pokemon Red/Pokemon Blue   |GB      |null      |null      |\n",
      "|Tetris                     |GB      |null      |null      |\n",
      "|New Super Mario Bros.      |DS      |8.5       |431       |\n",
      "|Wii Play                   |Wii     |6.6       |129       |\n",
      "|New Super Mario Bros. Wii  |Wii     |8.4       |594       |\n",
      "|Duck Hunt                  |NES     |null      |null      |\n",
      "|Nintendogs                 |DS      |null      |null      |\n",
      "|Mario Kart DS              |DS      |8.6       |464       |\n",
      "|Pokemon Gold/Pokemon Silver|GB      |null      |null      |\n",
      "|Wii Fit                    |Wii     |7.7       |146       |\n",
      "|Kinect Adventures!         |X360    |6.3       |106       |\n",
      "+---------------------------+--------+----------+----------+\n",
      "only showing top 15 rows\n",
      "\n"
     ]
    }
   ],
   "source": [
    "data.select(\"Name\",\"Platform\",\"User_Score\",\"User_Count\").show(15, truncate=False)"
   ]
  },
  {
   "cell_type": "markdown",
   "metadata": {
    "colab_type": "text",
    "id": "eKURgIm7Djl0"
   },
   "source": [
    "## Summary Statistics"
   ]
  },
  {
   "cell_type": "code",
   "execution_count": 9,
   "metadata": {
    "colab": {
     "base_uri": "https://localhost:8080/",
     "height": 187
    },
    "colab_type": "code",
    "id": "ViA9w7jHDmfI",
    "outputId": "fcda4beb-f512-4c01-fb54-8cf9e521d757"
   },
   "outputs": [
    {
     "name": "stdout",
     "output_type": "stream",
     "text": [
      "+-------+------------------+------------------+\n",
      "|summary|        User_Score|        User_Count|\n",
      "+-------+------------------+------------------+\n",
      "|  count|             10015|              7590|\n",
      "|   mean|7.1250461133070315|162.22990777338603|\n",
      "| stddev|1.5000060936257986| 561.2823262473789|\n",
      "|    min|                 0|                 4|\n",
      "|    max|               tbd|             10665|\n",
      "+-------+------------------+------------------+\n",
      "\n"
     ]
    }
   ],
   "source": [
    "data.describe([\"User_Score\",\"User_Count\"]).show()"
   ]
  },
  {
   "cell_type": "code",
   "execution_count": 11,
   "metadata": {
    "colab": {
     "base_uri": "https://localhost:8080/",
     "height": 629
    },
    "colab_type": "code",
    "id": "LLJjO4t0S84d",
    "outputId": "d5c61870-ab68-4253-f9f6-9565d0d4b993"
   },
   "outputs": [
    {
     "name": "stdout",
     "output_type": "stream",
     "text": [
      "+--------+-----+\n",
      "|Platform|count|\n",
      "+--------+-----+\n",
      "|     PS2| 2161|\n",
      "|      DS| 2152|\n",
      "|     PS3| 1331|\n",
      "|     Wii| 1320|\n",
      "|    X360| 1262|\n",
      "|     PSP| 1209|\n",
      "|      PS| 1197|\n",
      "|      PC|  974|\n",
      "|      XB|  824|\n",
      "|     GBA|  822|\n",
      "|      GC|  556|\n",
      "|     3DS|  520|\n",
      "|     PSV|  432|\n",
      "|     PS4|  393|\n",
      "|     N64|  319|\n",
      "|    XOne|  247|\n",
      "|    SNES|  239|\n",
      "|     SAT|  173|\n",
      "|    WiiU|  147|\n",
      "|    2600|  133|\n",
      "+--------+-----+\n",
      "only showing top 20 rows\n",
      "\n"
     ]
    }
   ],
   "source": [
    "from pyspark.sql.functions import desc\n",
    "data.groupBy(\"Platform\").count().orderBy(desc(\"count\")).show()"
   ]
  },
  {
   "cell_type": "code",
   "execution_count": 12,
   "metadata": {
    "colab": {
     "base_uri": "https://localhost:8080/",
     "height": 289
    },
    "colab_type": "code",
    "id": "3LeONo26Exfh",
    "outputId": "d461987f-3ab2-477f-95f7-bf51e032775e"
   },
   "outputs": [
    {
     "name": "stdout",
     "output_type": "stream",
     "text": [
      "+--------+-----+\n",
      "|Platform|count|\n",
      "+--------+-----+\n",
      "|     PS2| 2161|\n",
      "|      DS| 2152|\n",
      "|     PS3| 1331|\n",
      "|     Wii| 1320|\n",
      "|    X360| 1262|\n",
      "|     PSP| 1209|\n",
      "|      PS| 1197|\n",
      "|      PC|  974|\n",
      "|      XB|  824|\n",
      "|     GBA|  822|\n",
      "|      GC|  556|\n",
      "|     3DS|  520|\n",
      "|     PSV|  432|\n",
      "|     PS4|  393|\n",
      "|     N64|  319|\n",
      "|    XOne|  247|\n",
      "|    SNES|  239|\n",
      "|     SAT|  173|\n",
      "|    WiiU|  147|\n",
      "|    2600|  133|\n",
      "+--------+-----+\n",
      "only showing top 20 rows\n",
      "\n"
     ]
    }
   ],
   "source": [
    "data.groupBy(\"Platform\").count().orderBy(\"count\", ascending=False).show()"
   ]
  },
  {
   "cell_type": "code",
   "execution_count": 13,
   "metadata": {
    "colab": {
     "base_uri": "https://localhost:8080/",
     "height": 969
    },
    "colab_type": "code",
    "id": "QpUW0wGcBfW4",
    "outputId": "22aac76e-7280-41f2-9f39-6fc04be0b4f9"
   },
   "outputs": [
    {
     "name": "stdout",
     "output_type": "stream",
     "text": [
      "+--------------------------------------+-----+\n",
      "|Publisher                             |count|\n",
      "+--------------------------------------+-----+\n",
      "|Electronic Arts                       |1356 |\n",
      "|Activision                            |985  |\n",
      "|Namco Bandai Games                    |939  |\n",
      "|Ubisoft                               |933  |\n",
      "|Konami Digital Entertainment          |834  |\n",
      "|THQ                                   |715  |\n",
      "|Nintendo                              |706  |\n",
      "|Sony Computer Entertainment           |687  |\n",
      "|Sega                                  |638  |\n",
      "|Take-Two Interactive                  |422  |\n",
      "|Capcom                                |386  |\n",
      "|Atari                                 |367  |\n",
      "|Tecmo Koei                            |348  |\n",
      "|Square Enix                           |236  |\n",
      "|Warner Bros. Interactive Entertainment|235  |\n",
      "|Disney Interactive Studios            |218  |\n",
      "|Unknown                               |201  |\n",
      "|Eidos Interactive                     |198  |\n",
      "|Midway Games                          |198  |\n",
      "|Microsoft Game Studios                |191  |\n",
      "+--------------------------------------+-----+\n",
      "only showing top 20 rows\n",
      "\n"
     ]
    }
   ],
   "source": [
    "data.groupBy(\"Publisher\").count().orderBy(\"count\",ascending=False).show(20,False)"
   ]
  },
  {
   "cell_type": "markdown",
   "metadata": {
    "colab_type": "text",
    "id": "54O2knx-Dg7w"
   },
   "source": [
    "## Filtering DataFrames"
   ]
  },
  {
   "cell_type": "code",
   "execution_count": 30,
   "metadata": {
    "colab": {
     "base_uri": "https://localhost:8080/",
     "height": 394
    },
    "colab_type": "code",
    "id": "xNhthIIIkDxG",
    "outputId": "6f183037-70a9-43b9-ad97-26bb8c29183f"
   },
   "outputs": [
    {
     "name": "stdout",
     "output_type": "stream",
     "text": [
      "+---------------------+--------+---------------+--------+---------+--------+--------+--------+-----------+------------+------------+------------+----------+----------+---------+------+\n",
      "|Name                 |Platform|Year_of_Release|Genre   |Publisher|NA_Sales|EU_Sales|JP_Sales|Other_Sales|Global_Sales|Critic_Score|Critic_Count|User_Score|User_Count|Developer|Rating|\n",
      "+---------------------+--------+---------------+--------+---------+--------+--------+--------+-----------+------------+------------+------------+----------+----------+---------+------+\n",
      "|Wii Sports           |Wii     |2006           |Sports  |Nintendo |41.36   |28.96   |3.77    |8.45       |82.53       |76          |51          |8         |322       |Nintendo |E     |\n",
      "|Mario Kart Wii       |Wii     |2008           |Racing  |Nintendo |15.68   |12.76   |3.79    |3.29       |35.52       |82          |73          |8.3       |709       |Nintendo |E     |\n",
      "|Wii Sports Resort    |Wii     |2009           |Sports  |Nintendo |15.61   |10.93   |3.28    |2.95       |32.77       |80          |73          |8         |192       |Nintendo |E     |\n",
      "|New Super Mario Bros.|DS      |2006           |Platform|Nintendo |11.28   |9.14    |6.5     |2.88       |29.8        |89          |65          |8.5       |431       |Nintendo |E     |\n",
      "|Wii Play             |Wii     |2006           |Misc    |Nintendo |13.96   |9.18    |2.93    |2.84       |28.92       |58          |41          |6.6       |129       |Nintendo |E     |\n",
      "+---------------------+--------+---------------+--------+---------+--------+--------+--------+-----------+------------+------------+------------+----------+----------+---------+------+\n",
      "only showing top 5 rows\n",
      "\n"
     ]
    }
   ],
   "source": [
    "condition1 = (data.User_Score.isNotNull()) & (data.User_Count.isNotNull()) \\\n",
    "            & (data.Global_Sales.isNotNull()) & (data.Critic_Score.isNotNull())\n",
    "condition2 = data.User_Score != \"tbd\"\n",
    "data2 = data.filter(condition1).filter(condition2)\n",
    "\n",
    "data2.show(5,False)"
   ]
  },
  {
   "cell_type": "code",
   "execution_count": 32,
   "metadata": {},
   "outputs": [
    {
     "data": {
      "text/plain": [
       "7017"
      ]
     },
     "execution_count": 32,
     "metadata": {},
     "output_type": "execute_result"
    }
   ],
   "source": [
    "data2.count()   # 7463  \n",
    "# after filtering 7017"
   ]
  },
  {
   "cell_type": "code",
   "execution_count": 16,
   "metadata": {
    "colab": {
     "base_uri": "https://localhost:8080/",
     "height": 459
    },
    "colab_type": "code",
    "id": "3LWrofp53Kbq",
    "outputId": "b732978d-d3a8-4740-a1c4-e72d1718b0ea"
   },
   "outputs": [
    {
     "name": "stdout",
     "output_type": "stream",
     "text": [
      "+-----------------------------------------+--------+----------+----------+\n",
      "|Name                                     |Platform|User_Score|User_Count|\n",
      "+-----------------------------------------+--------+----------+----------+\n",
      "|Zumba Fitness                            |Wii     |tbd       |null      |\n",
      "|Namco Museum: 50th Anniversary           |PS2     |tbd       |null      |\n",
      "|Zumba Fitness 2                          |Wii     |tbd       |null      |\n",
      "|uDraw Studio                             |Wii     |tbd       |null      |\n",
      "|Frogger\\'s Adventures: Temple of the Frog|GBA     |tbd       |null      |\n",
      "|Just Dance Kids                          |Wii     |tbd       |null      |\n",
      "|Dance Dance Revolution X2                |PS2     |tbd       |null      |\n",
      "|The Incredibles                          |GBA     |tbd       |null      |\n",
      "|Who wants to be a millionaire            |PC      |tbd       |null      |\n",
      "|Tetris Worlds                            |GBA     |tbd       |null      |\n",
      "|Imagine: Teacher                         |DS      |tbd       |null      |\n",
      "|Personal Trainer: Math                   |DS      |tbd       |null      |\n",
      "|Game Party 3                             |Wii     |tbd       |null      |\n",
      "|Monsters,Inc.                            |GBA     |tbd       |null      |\n",
      "|SpongeBob\\'s Atlantis SquarePantis       |DS      |tbd       |null      |\n",
      "|MySims Kingdom                           |DS      |tbd       |null      |\n",
      "|Moshi Monsters: Moshling Zoo             |DS      |tbd       |null      |\n",
      "|Disney Sing It: Pop Hits                 |Wii     |tbd       |null      |\n",
      "|Imagine: Master Chef                     |DS      |tbd       |null      |\n",
      "|Disney Princess                          |GBA     |tbd       |null      |\n",
      "+-----------------------------------------+--------+----------+----------+\n",
      "only showing top 20 rows\n",
      "\n"
     ]
    }
   ],
   "source": [
    "data.select(\"Name\",\"Platform\",\"User_Score\",\"User_Count\").filter(data.User_Score == \"tbd\").show(truncate=False)"
   ]
  },
  {
   "cell_type": "code",
   "execution_count": 17,
   "metadata": {
    "colab": {
     "base_uri": "https://localhost:8080/",
     "height": 187
    },
    "colab_type": "code",
    "id": "mxNyEJWdEDc7",
    "outputId": "f7afa359-760c-4b0d-b191-b423a504a8c3"
   },
   "outputs": [
    {
     "name": "stdout",
     "output_type": "stream",
     "text": [
      "+-------+------------------+------------------+\n",
      "|summary|        User_Score|        User_Count|\n",
      "+-------+------------------+------------------+\n",
      "|  count|              7590|              7590|\n",
      "|   mean|7.1250461133070315|162.22990777338603|\n",
      "| stddev|1.5000060936257986| 561.2823262473789|\n",
      "|    min|                 0|                 4|\n",
      "|    max|               9.7|             10665|\n",
      "+-------+------------------+------------------+\n",
      "\n"
     ]
    }
   ],
   "source": [
    "data2.select(\"Name\",\"Platform\",\"User_Score\",\"User_Count\").describe([\"User_Score\",\"User_Count\"]).show()"
   ]
  },
  {
   "cell_type": "code",
   "execution_count": 18,
   "metadata": {
    "colab": {
     "base_uri": "https://localhost:8080/",
     "height": 374
    },
    "colab_type": "code",
    "id": "esN-k8kgHdPM",
    "outputId": "b9c4fae1-953b-4fe4-c549-cc530ad70672"
   },
   "outputs": [
    {
     "name": "stdout",
     "output_type": "stream",
     "text": [
      "+-------------------------------------+--------+----------+----------+\n",
      "|Name                                 |Platform|User_Score|User_Count|\n",
      "+-------------------------------------+--------+----------+----------+\n",
      "|Breath of Fire III                   |PSP     |9.7       |6         |\n",
      "|Boktai: The Sun is in Your Hand      |GBA     |9.6       |16        |\n",
      "|Harvest Moon: Friends of Mineral Town|GBA     |9.6       |116       |\n",
      "|Golden Sun: The Lost Age             |GBA     |9.5       |150       |\n",
      "|MLB SlugFest Loaded                  |PS2     |9.5       |4         |\n",
      "+-------------------------------------+--------+----------+----------+\n",
      "only showing top 5 rows\n",
      "\n"
     ]
    }
   ],
   "source": [
    "data2.select(\"Name\",\"Platform\",\"User_Score\",\"User_Count\").orderBy(\"User_Score\", ascending=False).show(5, truncate=False)"
   ]
  },
  {
   "cell_type": "code",
   "execution_count": 19,
   "metadata": {
    "colab": {
     "base_uri": "https://localhost:8080/",
     "height": 479
    },
    "colab_type": "code",
    "id": "TtICrZjfpklS",
    "outputId": "d497b932-bfe0-44e3-aae7-0ab9e8fce682"
   },
   "outputs": [],
   "source": [
    "# data2.show()"
   ]
  },
  {
   "cell_type": "markdown",
   "metadata": {
    "colab_type": "text",
    "id": "U2K4RdLqqwiX"
   },
   "source": [
    "## Building a Model in PySpark"
   ]
  },
  {
   "cell_type": "markdown",
   "metadata": {
    "colab_type": "text",
    "id": "j_JNCHFOCODS"
   },
   "source": [
    "### Linear Regression"
   ]
  },
  {
   "cell_type": "code",
   "execution_count": 20,
   "metadata": {
    "colab": {
     "base_uri": "https://localhost:8080/",
     "height": 224
    },
    "colab_type": "code",
    "id": "Ht5KdxxYq1Z3",
    "outputId": "0d7f2d88-3b36-462c-b4b3-1a1c4b38918d"
   },
   "outputs": [
    {
     "name": "stdout",
     "output_type": "stream",
     "text": [
      "+--------------------+--------+---------------+--------+---------+--------+--------+--------+-----------+------------+------------+------------+----------+----------+---------+------+\n",
      "|                Name|Platform|Year_of_Release|   Genre|Publisher|NA_Sales|EU_Sales|JP_Sales|Other_Sales|Global_Sales|Critic_Score|Critic_Count|User_Score|User_Count|Developer|Rating|\n",
      "+--------------------+--------+---------------+--------+---------+--------+--------+--------+-----------+------------+------------+------------+----------+----------+---------+------+\n",
      "|          Wii Sports|     Wii|           2006|  Sports| Nintendo|   41.36|   28.96|    3.77|       8.45|       82.53|          76|          51|         8|       322| Nintendo|     E|\n",
      "|      Mario Kart Wii|     Wii|           2008|  Racing| Nintendo|   15.68|   12.76|    3.79|       3.29|       35.52|          82|          73|       8.3|       709| Nintendo|     E|\n",
      "|   Wii Sports Resort|     Wii|           2009|  Sports| Nintendo|   15.61|   10.93|    3.28|       2.95|       32.77|          80|          73|         8|       192| Nintendo|     E|\n",
      "|New Super Mario B...|      DS|           2006|Platform| Nintendo|   11.28|    9.14|     6.5|       2.88|        29.8|          89|          65|       8.5|       431| Nintendo|     E|\n",
      "|            Wii Play|     Wii|           2006|    Misc| Nintendo|   13.96|    9.18|    2.93|       2.84|       28.92|          58|          41|       6.6|       129| Nintendo|     E|\n",
      "+--------------------+--------+---------------+--------+---------+--------+--------+--------+-----------+------------+------------+------------+----------+----------+---------+------+\n",
      "only showing top 5 rows\n",
      "\n"
     ]
    }
   ],
   "source": [
    "data2.show(5)"
   ]
  },
  {
   "cell_type": "code",
   "execution_count": 21,
   "metadata": {
    "colab": {
     "base_uri": "https://localhost:8080/",
     "height": 544
    },
    "colab_type": "code",
    "id": "b7kDd-wSsCF5",
    "outputId": "562f6974-9640-48df-8e83-d62a8b998613"
   },
   "outputs": [
    {
     "name": "stdout",
     "output_type": "stream",
     "text": [
      "+---------------+\n",
      "|Year_of_Release|\n",
      "+---------------+\n",
      "|1985           |\n",
      "|1988           |\n",
      "|1992           |\n",
      "|1994           |\n",
      "|1996           |\n",
      "|1997           |\n",
      "|1998           |\n",
      "|1999           |\n",
      "|2000           |\n",
      "|2001           |\n",
      "|2002           |\n",
      "|2003           |\n",
      "|2004           |\n",
      "|2005           |\n",
      "|2006           |\n",
      "|2007           |\n",
      "|2008           |\n",
      "|2009           |\n",
      "|2010           |\n",
      "|2011           |\n",
      "+---------------+\n",
      "only showing top 20 rows\n",
      "\n"
     ]
    }
   ],
   "source": [
    "data2.select(\"Year_of_Release\").distinct().orderBy(\"Year_of_Release\", ascending=True).show(20,False)"
   ]
  },
  {
   "cell_type": "code",
   "execution_count": 22,
   "metadata": {
    "colab": {
     "base_uri": "https://localhost:8080/",
     "height": 459
    },
    "colab_type": "code",
    "id": "4NyZ4AmmsRhQ",
    "outputId": "db0713a8-c3c0-45fd-9b5e-8d8386398a5c"
   },
   "outputs": [
    {
     "name": "stdout",
     "output_type": "stream",
     "text": [
      "+--------------------+-----+\n",
      "|           Publisher|count|\n",
      "+--------------------+-----+\n",
      "|     Electronic Arts| 1026|\n",
      "|          Activision|  573|\n",
      "|             Ubisoft|  557|\n",
      "|                 THQ|  342|\n",
      "|Sony Computer Ent...|  327|\n",
      "|Take-Two Interactive|  302|\n",
      "|                Sega|  297|\n",
      "|            Nintendo|  294|\n",
      "|Konami Digital En...|  270|\n",
      "|  Namco Bandai Games|  265|\n",
      "|              Capcom|  204|\n",
      "|               Atari|  186|\n",
      "|Warner Bros. Inte...|  169|\n",
      "|Microsoft Game St...|  146|\n",
      "|          Tecmo Koei|  144|\n",
      "|         Square Enix|  142|\n",
      "|   Eidos Interactive|  131|\n",
      "|       Vivendi Games|  123|\n",
      "|         Codemasters|  116|\n",
      "|        Midway Games|  111|\n",
      "+--------------------+-----+\n",
      "only showing top 20 rows\n",
      "\n"
     ]
    }
   ],
   "source": [
    "data2.groupBy(\"Publisher\").count().orderBy(\"count\",ascending=False).show()"
   ]
  },
  {
   "cell_type": "code",
   "execution_count": 23,
   "metadata": {
    "colab": {
     "base_uri": "https://localhost:8080/",
     "height": 527
    },
    "colab_type": "code",
    "id": "7g2iTUi2t4hn",
    "outputId": "d35843e0-ec25-4ad2-a9ca-da5f92aa076e"
   },
   "outputs": [
    {
     "name": "stdout",
     "output_type": "stream",
     "text": [
      "+---------------+\n",
      "|Year_of_Release|\n",
      "+---------------+\n",
      "|1985           |\n",
      "|1988           |\n",
      "|1992           |\n",
      "|1994           |\n",
      "|1996           |\n",
      "|1997           |\n",
      "|1998           |\n",
      "|1999           |\n",
      "|2000           |\n",
      "|2001           |\n",
      "|2002           |\n",
      "|2003           |\n",
      "|2004           |\n",
      "|2005           |\n",
      "|2006           |\n",
      "|2007           |\n",
      "|2008           |\n",
      "|2009           |\n",
      "|2010           |\n",
      "|2011           |\n",
      "+---------------+\n",
      "only showing top 20 rows\n",
      "\n"
     ]
    }
   ],
   "source": [
    "data2 = data2.filter(data2.Year_of_Release != \"N/A\")\n",
    "data2.select(\"Year_of_Release\").distinct().orderBy(\"Year_of_Release\", ascending=True).show(20,False)"
   ]
  },
  {
   "cell_type": "code",
   "execution_count": 34,
   "metadata": {
    "colab": {
     "base_uri": "https://localhost:8080/",
     "height": 289
    },
    "colab_type": "code",
    "id": "O4CKcb54uPkl",
    "outputId": "f8793cce-5dd8-4dd6-cbee-a6824d421388"
   },
   "outputs": [
    {
     "data": {
      "text/plain": [
       "[('Name', 'string'),\n",
       " ('Platform', 'string'),\n",
       " ('Year_of_Release', 'double'),\n",
       " ('Genre', 'string'),\n",
       " ('Publisher', 'string'),\n",
       " ('NA_Sales', 'double'),\n",
       " ('EU_Sales', 'double'),\n",
       " ('JP_Sales', 'double'),\n",
       " ('Other_Sales', 'double'),\n",
       " ('Global_Sales', 'double'),\n",
       " ('Critic_Score', 'double'),\n",
       " ('Critic_Count', 'int'),\n",
       " ('User_Score', 'double'),\n",
       " ('User_Count', 'double'),\n",
       " ('Developer', 'string'),\n",
       " ('Rating', 'string')]"
      ]
     },
     "execution_count": 34,
     "metadata": {},
     "output_type": "execute_result"
    }
   ],
   "source": [
    "from pyspark.sql.types import IntegerType\n",
    "from pyspark.sql.types import DoubleType\n",
    "data2 = data2.withColumn(\"Year_of_Release\", data2[\"Year_of_Release\"].cast(DoubleType()))\n",
    "data2 = data2.withColumn(\"User_Score\", data2[\"User_Score\"].cast(DoubleType()))\n",
    "data2 = data2.withColumn(\"User_Count\", data2[\"User_Count\"].cast(DoubleType()))\n",
    "data2 = data2.withColumn(\"Critic_Score\", data2[\"Critic_Score\"].cast(DoubleType()))\n",
    "\n",
    "data2.dtypes"
   ]
  },
  {
   "cell_type": "code",
   "execution_count": 38,
   "metadata": {
    "colab": {
     "base_uri": "https://localhost:8080/",
     "height": 221
    },
    "colab_type": "code",
    "id": "NzNmIKxMdnlh",
    "outputId": "4ee1ff8f-aa67-4002-ce30-992c5e99756d"
   },
   "outputs": [
    {
     "name": "stdout",
     "output_type": "stream",
     "text": [
      "+--------------------+----------+\n",
      "|          predictors|User_Score|\n",
      "+--------------------+----------+\n",
      "|[2006.0,82.53,76....|       8.0|\n",
      "|[2008.0,35.52,82....|       8.3|\n",
      "|[2009.0,32.77,80....|       8.0|\n",
      "|[2006.0,29.8,89.0...|       8.5|\n",
      "|[2006.0,28.92,58....|       6.6|\n",
      "+--------------------+----------+\n",
      "only showing top 5 rows\n",
      "\n"
     ]
    }
   ],
   "source": [
    "#Input all the features in one vector column\n",
    "from pyspark.ml.feature import VectorAssembler\n",
    "assembler = VectorAssembler(inputCols=['Year_of_Release', 'Global_Sales', 'Critic_Score', 'User_Count'], outputCol = 'predictors')\n",
    "output = assembler.setHandleInvalid(\"skip\").transform(data2)\n",
    "#Input vs Output\n",
    "finalized_data = output.select(\"predictors\",\"User_Score\")\n",
    "finalized_data.show(5)\n"
   ]
  },
  {
   "cell_type": "markdown",
   "metadata": {},
   "source": [
    "https://towardsdatascience.com/building-a-linear-regression-with-pyspark-and-mllib-d065c3ba246a"
   ]
  },
  {
   "cell_type": "code",
   "execution_count": 39,
   "metadata": {
    "colab": {
     "base_uri": "https://localhost:8080/",
     "height": 204
    },
    "colab_type": "code",
    "id": "uN1b0qGOeok4",
    "outputId": "b32f8b30-9d32-4a4b-b017-59328360afd0"
   },
   "outputs": [
    {
     "name": "stdout",
     "output_type": "stream",
     "text": [
      "+--------------------+----------+-----------------+\n",
      "|          predictors|User_Score|       prediction|\n",
      "+--------------------+----------+-----------------+\n",
      "|[1996.0,1.03,86.0...|       8.5| 8.27690619563333|\n",
      "|[1997.0,1.01,86.0...|       8.3| 8.98898155666734|\n",
      "|[1997.0,1.24,85.0...|       9.0| 8.90331257820202|\n",
      "|[1997.0,1.27,93.0...|       9.4|9.347113052990125|\n",
      "|[1997.0,1.99,87.0...|       8.8|9.028103965035967|\n",
      "+--------------------+----------+-----------------+\n",
      "only showing top 5 rows\n",
      "\n"
     ]
    }
   ],
   "source": [
    "from pyspark.ml.regression import LinearRegression\n",
    "#Split training and testing data\n",
    "train_data,test_data = finalized_data.randomSplit([0.8,0.2])\n",
    "\n",
    "lr = LinearRegression(\n",
    "    featuresCol = 'predictors', \n",
    "    labelCol = 'User_Score')\n",
    "\n",
    "lrModel = lr.fit(train_data)\n",
    "\n",
    "pred = lrModel.evaluate(test_data)\n",
    "\n",
    "pred.predictions.show(5)"
   ]
  },
  {
   "cell_type": "code",
   "execution_count": 40,
   "metadata": {
    "colab": {
     "base_uri": "https://localhost:8080/",
     "height": 561
    },
    "colab_type": "code",
    "id": "ZDNjTyKCfRet",
    "outputId": "3dcfac75-f2b2-4f22-8ea4-c734fe590536"
   },
   "outputs": [
    {
     "name": "stdout",
     "output_type": "stream",
     "text": [
      "Coefficients: [-0.07563992236487724,-0.01623812905426233,0.06281631358508365,-0.00022230110695025141]\n",
      "Intercept: 154.65832707242427\n",
      "numIterations: 1\n",
      "objectiveHistory: [0.0]\n",
      "+--------------------+\n",
      "|           residuals|\n",
      "+--------------------+\n",
      "|  -2.414532814759224|\n",
      "|  -5.089557675645483|\n",
      "| -0.7232484443666358|\n",
      "|  -1.845135885903102|\n",
      "| -1.4914112160889257|\n",
      "| -0.8144536411395116|\n",
      "| -0.6710009430232056|\n",
      "| -2.0182952210392155|\n",
      "| -0.6894657681290202|\n",
      "| -0.2561919221991502|\n",
      "| -0.2558123675213775|\n",
      "| -0.7658650095244299|\n",
      "|0.005244036985800449|\n",
      "|  -1.512199018520886|\n",
      "|  0.4588409681097225|\n",
      "| -0.5998135781151923|\n",
      "| -0.8967630899122465|\n",
      "| -0.5371355108228961|\n",
      "|  0.2338266768408399|\n",
      "|  0.2583216739254901|\n",
      "+--------------------+\n",
      "only showing top 20 rows\n",
      "\n",
      "RMSE: 1.121484\n",
      "r2: 0.397971\n"
     ]
    }
   ],
   "source": [
    "# Print the coefficients and intercept for linear regression\n",
    "print(\"Coefficients: %s\" % str(lrModel.coefficients))\n",
    "print(\"Intercept: %s\" % str(lrModel.intercept))\n",
    "\n",
    "# Summarize the model over the training set and print out some metrics\n",
    "trainingSummary = lrModel.summary\n",
    "print(\"numIterations: %d\" % trainingSummary.totalIterations)\n",
    "print(\"objectiveHistory: %s\" % str(trainingSummary.objectiveHistory))\n",
    "trainingSummary.residuals.show()\n",
    "print(\"RMSE: %f\" % trainingSummary.rootMeanSquaredError)\n",
    "print(\"r2: %f\" % trainingSummary.r2)"
   ]
  },
  {
   "cell_type": "markdown",
   "metadata": {
    "colab_type": "text",
    "id": "tMlcp3eGf7Wt"
   },
   "source": [
    "### Evaluating model"
   ]
  },
  {
   "cell_type": "code",
   "execution_count": 41,
   "metadata": {
    "colab": {
     "base_uri": "https://localhost:8080/",
     "height": 85
    },
    "colab_type": "code",
    "id": "pS5nveEJkLx4",
    "outputId": "848dd7be-3213-472c-9f75-8971fff4055f"
   },
   "outputs": [
    {
     "name": "stdout",
     "output_type": "stream",
     "text": [
      "RMSE: 1.065\n",
      "MSE: 1.134\n",
      "MAE: 0.812\n",
      "r2: 0.434\n"
     ]
    }
   ],
   "source": [
    "from pyspark.ml.evaluation import RegressionEvaluator\n",
    "eval = RegressionEvaluator(\n",
    "    labelCol=\"User_Score\", \n",
    "    predictionCol=\"prediction\", \n",
    "    metricName=\"rmse\")\n",
    "# Root Mean Square Error\n",
    "rmse = eval.evaluate(pred.predictions)\n",
    "print(\"RMSE: %.3f\" % rmse)\n",
    "# Mean Square Error\n",
    "mse = eval.evaluate(pred.predictions, {eval.metricName: \"mse\"})\n",
    "print(\"MSE: %.3f\" % mse)\n",
    "# Mean Absolute Error\n",
    "mae = eval.evaluate(pred.predictions, {eval.metricName: \"mae\"})\n",
    "print(\"MAE: %.3f\" % mae)\n",
    "# r2 - coefficient of determination\n",
    "r2 = eval.evaluate(pred.predictions, {eval.metricName: \"r2\"})\n",
    "print(\"r2: %.3f\" %r2)"
   ]
  },
  {
   "cell_type": "code",
   "execution_count": null,
   "metadata": {},
   "outputs": [],
   "source": []
  }
 ],
 "metadata": {
  "colab": {
   "collapsed_sections": [],
   "name": "Neanderthal's Guide to Apache Spark.ipynb",
   "provenance": [],
   "version": "0.3.2"
  },
  "kernelspec": {
   "display_name": "Python 3",
   "language": "python",
   "name": "python3"
  },
  "language_info": {
   "codemirror_mode": {
    "name": "ipython",
    "version": 3
   },
   "file_extension": ".py",
   "mimetype": "text/x-python",
   "name": "python",
   "nbconvert_exporter": "python",
   "pygments_lexer": "ipython3",
   "version": "3.7.3"
  }
 },
 "nbformat": 4,
 "nbformat_minor": 1
}
