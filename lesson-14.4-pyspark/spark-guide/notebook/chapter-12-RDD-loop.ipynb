{
 "cells": [
  {
   "cell_type": "markdown",
   "metadata": {},
   "source": [
    "https://runawayhorse001.github.io/LearningApacheSpark/rdd.html\n",
    "\n",
    "https://github.com/spark-examples/pyspark-examples.git"
   ]
  },
  {
   "cell_type": "code",
   "execution_count": 1,
   "metadata": {},
   "outputs": [],
   "source": [
    "from pyspark.sql import SparkSession\n",
    "import pyspark.sql.functions as F\n",
    "from pyspark.sql.types import *\n",
    "\n",
    "spark = SparkSession\\\n",
    "    .builder\\\n",
    "    .appName(\"chapter-12-RDD-loop\")\\\n",
    "    .getOrCreate()\n",
    "\n",
    "import os\n",
    "SPARK_BOOK_DATA_PATH = os.environ['SPARK_BOOK_DATA_PATH']"
   ]
  },
  {
   "cell_type": "code",
   "execution_count": 17,
   "metadata": {},
   "outputs": [],
   "source": [
    "columns = [\"firstname\", \"lastname\",\"gender\",\"age\", \"salary\"]\n",
    "data = [\n",
    "    ('James','Smith','M',30, 55000.0),\n",
    "    ('Anna','Rose','F',41, 95000.0),\n",
    "    ('Robert','Williams','m',62, 75000.0),     \n",
    "    ('Frank','Coleman',None, 22, 45000.0),     \n",
    "]"
   ]
  },
  {
   "cell_type": "code",
   "execution_count": 12,
   "metadata": {},
   "outputs": [
    {
     "name": "stdout",
     "output_type": "stream",
     "text": [
      "+---------+--------+------+---+-------+\n",
      "|firstname|lastname|gender|age| salary|\n",
      "+---------+--------+------+---+-------+\n",
      "|    James|   Smith|     M| 30|55000.0|\n",
      "|     Anna|    Rose|     F| 41|95000.0|\n",
      "|   Robert|Williams|     M| 62|75000.0|\n",
      "|    Frank| Coleman|  null| 22|45000.0|\n",
      "+---------+--------+------+---+-------+\n",
      "\n"
     ]
    }
   ],
   "source": [
    "df = spark.createDataFrame(data=data, schema = columns)\n",
    "df.show()"
   ]
  },
  {
   "cell_type": "code",
   "execution_count": 4,
   "metadata": {},
   "outputs": [
    {
     "name": "stdout",
     "output_type": "stream",
     "text": [
      "+---------+--------+------+---+-------+\n",
      "|firstname|lastname|gender|age| salary|\n",
      "+---------+--------+------+---+-------+\n",
      "|    James|   Smith|     M| 30|55000.0|\n",
      "|     Anna|    Rose|     F| 41|95000.0|\n",
      "|   Robert|Williams|     M| 62|75000.0|\n",
      "+---------+--------+------+---+-------+\n",
      "\n"
     ]
    }
   ],
   "source": [
    "rdd = spark.sparkContext.parallelize(data)\n",
    "df2 = rdd.toDF(columns)\n",
    "df2.show()"
   ]
  },
  {
   "cell_type": "code",
   "execution_count": 5,
   "metadata": {},
   "outputs": [
    {
     "name": "stdout",
     "output_type": "stream",
     "text": [
      "+---------+--------+---------------+------+---+-------+----------+\n",
      "|firstname|lastname|           name|gender|age| salary|new_salary|\n",
      "+---------+--------+---------------+------+---+-------+----------+\n",
      "|    James|   Smith|    James,Smith|     M| 30|55000.0|   66000.0|\n",
      "|     Anna|    Rose|      Anna,Rose|     F| 41|95000.0|  114000.0|\n",
      "|   Robert|Williams|Robert,Williams|     M| 62|75000.0|   90000.0|\n",
      "+---------+--------+---------------+------+---+-------+----------+\n",
      "\n"
     ]
    }
   ],
   "source": [
    "rdd=df.rdd.map(\n",
    "    lambda x: (x[0], x[1], x[0]+\",\"+x[1], x[2], x[3], x[4], x[4]*1.2)\n",
    ")\n",
    "df2 = rdd.toDF([\"firstname\", \"lastname\",\"name\", \"gender\",\"age\", \"salary\", \"new_salary\"])\n",
    "df2.show()"
   ]
  },
  {
   "cell_type": "code",
   "execution_count": 7,
   "metadata": {},
   "outputs": [
    {
     "name": "stdout",
     "output_type": "stream",
     "text": [
      "+---------------+------+----------+\n",
      "|           name|gender|new_salary|\n",
      "+---------------+------+----------+\n",
      "|    James,Smith|     M|   66000.0|\n",
      "|      Anna,Rose|     F|  114000.0|\n",
      "|Robert,Williams|     M|   90000.0|\n",
      "+---------------+------+----------+\n",
      "\n"
     ]
    }
   ],
   "source": [
    "#Referring Column Names\n",
    "rdd2=df.rdd.map(lambda x: \n",
    "    # (x[\"firstname\"]+\",\"+x[\"lastname\"],x[\"gender\"],x[\"salary\"]*1.2)\n",
    "    (x.firstname+\",\"+x.lastname,x.gender,x.salary*1.2)\n",
    "    )\n",
    "df2 = rdd2.toDF([\"name\", \"gender\",\"new_salary\"])\n",
    "df2.show()"
   ]
  },
  {
   "cell_type": "code",
   "execution_count": 18,
   "metadata": {},
   "outputs": [
    {
     "name": "stdout",
     "output_type": "stream",
     "text": [
      "+---------------+-------+----------+\n",
      "|           name| gender|new_salary|\n",
      "+---------------+-------+----------+\n",
      "|    James,Smith|   Male|  110000.0|\n",
      "|      Anna,Rose| Female|  190000.0|\n",
      "|Robert,Williams|   Male|  150000.0|\n",
      "|  Frank,Coleman|Unknown|   90000.0|\n",
      "+---------------+-------+----------+\n",
      "\n"
     ]
    }
   ],
   "source": [
    "def func1(x):\n",
    "    m = {\"M\": \"Male\", \"F\": \"Female\"}\n",
    "    firstName=x.firstname\n",
    "    lastName=x.lastname\n",
    "    name=firstName+\",\"+lastName\n",
    "    gender = x.gender.upper() if x.gender else x.gender\n",
    "    gender=m.get(gender, \"Unknown\")\n",
    "    salary=x.salary*2\n",
    "    return (name,gender,salary)\n",
    "\n",
    "rdd2=df.rdd.map(lambda x: func1(x))\n",
    "df2 = rdd2.toDF([\"name\", \"gender\",\"new_salary\"])\n",
    "df2.show()"
   ]
  },
  {
   "cell_type": "code",
   "execution_count": 22,
   "metadata": {},
   "outputs": [],
   "source": [
    "# print occurs in Executor, one does not see the result\n",
    "df.rdd.foreach(lambda x: \n",
    "    print(\"Data ==>\"+x[\"firstname\"]+\",\"+x[\"lastname\"]+\",\"+str(x[\"gender\"])+\",\"+str(x[\"salary\"]*1.2))\n",
    "    )"
   ]
  },
  {
   "cell_type": "code",
   "execution_count": 27,
   "metadata": {},
   "outputs": [
    {
     "name": "stdout",
     "output_type": "stream",
     "text": [
      "Row => James, Smith, M, 66000.0\n",
      "Row => Anna, Rose, F, 114000.0\n",
      "Row => Robert, Williams, M, 90000.0\n",
      "Row => Frank, Coleman, None, 54000.0\n"
     ]
    }
   ],
   "source": [
    "dataCollect=df.rdd.toLocalIterator()\n",
    "for x in dataCollect:\n",
    "    print(\"Row => \"+x[\"firstname\"]+\", \"+x[\"lastname\"]+\", \"+str(x[\"gender\"])+\", \"+str(x[\"salary\"]*1.2))"
   ]
  },
  {
   "cell_type": "code",
   "execution_count": 28,
   "metadata": {},
   "outputs": [
    {
     "name": "stdout",
     "output_type": "stream",
     "text": [
      "James M\n",
      "Anna F\n",
      "Robert M\n",
      "Frank None\n"
     ]
    }
   ],
   "source": [
    "import pandas as pd\n",
    "pandasDF = df.toPandas()\n",
    "for index, x in pandasDF.iterrows():\n",
    "    print(x['firstname'], x['gender'])"
   ]
  },
  {
   "cell_type": "code",
   "execution_count": null,
   "metadata": {},
   "outputs": [],
   "source": []
  }
 ],
 "metadata": {
  "kernelspec": {
   "display_name": "Python 3",
   "language": "python",
   "name": "python3"
  },
  "language_info": {
   "codemirror_mode": {
    "name": "ipython",
    "version": 3
   },
   "file_extension": ".py",
   "mimetype": "text/x-python",
   "name": "python",
   "nbconvert_exporter": "python",
   "pygments_lexer": "ipython3",
   "version": "3.8.5"
  }
 },
 "nbformat": 4,
 "nbformat_minor": 4
}
