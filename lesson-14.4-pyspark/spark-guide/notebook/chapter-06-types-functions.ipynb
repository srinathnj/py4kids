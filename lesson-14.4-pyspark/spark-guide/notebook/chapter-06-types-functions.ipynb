{
 "cells": [
  {
   "cell_type": "markdown",
   "metadata": {},
   "source": [
    "- [Spark Data Operations](https://github.com/PacktPublishing/Mastering-Big-Data-Analytics-with-PySpark/blob/master/Section%202%20-%20Working%20with%20PySpark/2.5/2.5%20-%20Spark%20Data%20Operations.ipynb)\n",
    "\n",
    "- [Spark SQL functions](https://docs.google.com/spreadsheets/d/1AuvsTCTxzx1wBMkG-rvfwNpuoQoG9ISuXqQZwj-GGgQ/edit#gid=451439913)"
   ]
  },
  {
   "cell_type": "code",
   "execution_count": 1,
   "metadata": {},
   "outputs": [],
   "source": [
    "from pyspark.sql import SparkSession\n",
    "import pyspark.sql.functions as F\n",
    "from pyspark.sql.types import *\n",
    "\n",
    "spark = SparkSession.builder.appName(\"chapter-06-types-functions\").getOrCreate()\n",
    "\n",
    "import os\n",
    "SPARK_BOOK_DATA_PATH = os.environ['SPARK_BOOK_DATA_PATH']"
   ]
  },
  {
   "cell_type": "code",
   "execution_count": 2,
   "metadata": {},
   "outputs": [],
   "source": [
    "from IPython.display import display, clear_output"
   ]
  },
  {
   "cell_type": "code",
   "execution_count": 3,
   "metadata": {},
   "outputs": [],
   "source": [
    "file_path = SPARK_BOOK_DATA_PATH + \"/data/retail-data/by-day/2010-12-01.csv\"\n",
    "df = spark.read.format(\"csv\")\\\n",
    "    .option(\"header\", \"true\")\\\n",
    "    .option(\"inferSchema\", \"true\")\\\n",
    "    .load(file_path)"
   ]
  },
  {
   "cell_type": "code",
   "execution_count": 4,
   "metadata": {},
   "outputs": [
    {
     "name": "stdout",
     "output_type": "stream",
     "text": [
      "root\n",
      " |-- InvoiceNo: string (nullable = true)\n",
      " |-- StockCode: string (nullable = true)\n",
      " |-- Description: string (nullable = true)\n",
      " |-- Quantity: integer (nullable = true)\n",
      " |-- InvoiceDate: string (nullable = true)\n",
      " |-- UnitPrice: double (nullable = true)\n",
      " |-- CustomerID: double (nullable = true)\n",
      " |-- Country: string (nullable = true)\n",
      "\n"
     ]
    }
   ],
   "source": [
    "df.printSchema()\n",
    "df.createOrReplaceTempView(\"dfTable\")"
   ]
  },
  {
   "cell_type": "code",
   "execution_count": 5,
   "metadata": {},
   "outputs": [
    {
     "name": "stdout",
     "output_type": "stream",
     "text": [
      "+---------+---------+-----------------------------------+--------+-------------------+---------+----------+--------------+\n",
      "|InvoiceNo|StockCode|Description                        |Quantity|InvoiceDate        |UnitPrice|CustomerID|Country       |\n",
      "+---------+---------+-----------------------------------+--------+-------------------+---------+----------+--------------+\n",
      "|536365   |85123A   |WHITE HANGING HEART T-LIGHT HOLDER |6       |2010-12-01 08:26:00|2.55     |17850.0   |United Kingdom|\n",
      "|536365   |71053    |WHITE METAL LANTERN                |6       |2010-12-01 08:26:00|3.39     |17850.0   |United Kingdom|\n",
      "|536365   |84406B   |CREAM CUPID HEARTS COAT HANGER     |8       |2010-12-01 08:26:00|2.75     |17850.0   |United Kingdom|\n",
      "|536365   |84029G   |KNITTED UNION FLAG HOT WATER BOTTLE|6       |2010-12-01 08:26:00|3.39     |17850.0   |United Kingdom|\n",
      "|536365   |84029E   |RED WOOLLY HOTTIE WHITE HEART.     |6       |2010-12-01 08:26:00|3.39     |17850.0   |United Kingdom|\n",
      "|536365   |22752    |SET 7 BABUSHKA NESTING BOXES       |2       |2010-12-01 08:26:00|7.65     |17850.0   |United Kingdom|\n",
      "|536365   |21730    |GLASS STAR FROSTED T-LIGHT HOLDER  |6       |2010-12-01 08:26:00|4.25     |17850.0   |United Kingdom|\n",
      "|536366   |22633    |HAND WARMER UNION JACK             |6       |2010-12-01 08:28:00|1.85     |17850.0   |United Kingdom|\n",
      "|536366   |22632    |HAND WARMER RED POLKA DOT          |6       |2010-12-01 08:28:00|1.85     |17850.0   |United Kingdom|\n",
      "|536367   |84879    |ASSORTED COLOUR BIRD ORNAMENT      |32      |2010-12-01 08:34:00|1.69     |13047.0   |United Kingdom|\n",
      "+---------+---------+-----------------------------------+--------+-------------------+---------+----------+--------------+\n",
      "only showing top 10 rows\n",
      "\n"
     ]
    }
   ],
   "source": [
    "df.show(10,False)"
   ]
  },
  {
   "cell_type": "code",
   "execution_count": 6,
   "metadata": {},
   "outputs": [
    {
     "data": {
      "text/plain": [
       "3108"
      ]
     },
     "execution_count": 6,
     "metadata": {},
     "output_type": "execute_result"
    }
   ],
   "source": [
    "df.count()"
   ]
  },
  {
   "cell_type": "code",
   "execution_count": 7,
   "metadata": {},
   "outputs": [
    {
     "name": "stdout",
     "output_type": "stream",
     "text": [
      "+--------+\n",
      "|count(1)|\n",
      "+--------+\n",
      "|    3108|\n",
      "+--------+\n",
      "\n"
     ]
    }
   ],
   "source": [
    "spark.sql(\"select count(*) from dfTable\").show()"
   ]
  },
  {
   "cell_type": "markdown",
   "metadata": {},
   "source": [
    "#### lit()"
   ]
  },
  {
   "cell_type": "code",
   "execution_count": 8,
   "metadata": {},
   "outputs": [
    {
     "name": "stdout",
     "output_type": "stream",
     "text": [
      "+---+----+---+\n",
      "|  5|five|5.0|\n",
      "+---+----+---+\n",
      "|  5|five|5.0|\n",
      "|  5|five|5.0|\n",
      "+---+----+---+\n",
      "only showing top 2 rows\n",
      "\n"
     ]
    }
   ],
   "source": [
    "df.select(F.lit(5), F.lit(\"five\"), F.lit(5.0)).show(2)"
   ]
  },
  {
   "cell_type": "code",
   "execution_count": 9,
   "metadata": {},
   "outputs": [
    {
     "name": "stdout",
     "output_type": "stream",
     "text": [
      "+---------------+--------------+\n",
      "|round(2.515, 2)|bround(2.5, 0)|\n",
      "+---------------+--------------+\n",
      "|           2.52|           2.0|\n",
      "|           2.52|           2.0|\n",
      "+---------------+--------------+\n",
      "only showing top 2 rows\n",
      "\n"
     ]
    }
   ],
   "source": [
    "df.select(F.round(F.lit(\"2.515\"), 2), F.bround(F.lit(\"2.5\"))).show(2)"
   ]
  },
  {
   "cell_type": "code",
   "execution_count": 10,
   "metadata": {},
   "outputs": [
    {
     "name": "stdout",
     "output_type": "stream",
     "text": [
      "+---------+-----------------------------+\n",
      "|InvoiceNo|Description                  |\n",
      "+---------+-----------------------------+\n",
      "|536366   |HAND WARMER UNION JACK       |\n",
      "|536366   |HAND WARMER RED POLKA DOT    |\n",
      "|536367   |ASSORTED COLOUR BIRD ORNAMENT|\n",
      "|536367   |POPPY'S PLAYHOUSE BEDROOM    |\n",
      "|536367   |POPPY'S PLAYHOUSE KITCHEN    |\n",
      "+---------+-----------------------------+\n",
      "only showing top 5 rows\n",
      "\n"
     ]
    }
   ],
   "source": [
    "df.where(F.col(\"InvoiceNo\") != 536365).select(\"InvoiceNo\", \"Description\").show(5, False)"
   ]
  },
  {
   "cell_type": "code",
   "execution_count": 11,
   "metadata": {},
   "outputs": [
    {
     "name": "stdout",
     "output_type": "stream",
     "text": [
      "+---------+---------+--------------+--------+-------------------+---------+----------+--------------+\n",
      "|InvoiceNo|StockCode|   Description|Quantity|        InvoiceDate|UnitPrice|CustomerID|       Country|\n",
      "+---------+---------+--------------+--------+-------------------+---------+----------+--------------+\n",
      "|   536544|      DOT|DOTCOM POSTAGE|       1|2010-12-01 14:32:00|   569.77|      null|United Kingdom|\n",
      "|   536592|      DOT|DOTCOM POSTAGE|       1|2010-12-01 17:06:00|   607.49|      null|United Kingdom|\n",
      "+---------+---------+--------------+--------+-------------------+---------+----------+--------------+\n",
      "\n"
     ]
    }
   ],
   "source": [
    "# complex filter\n",
    "priceFilter = F.col(\"UnitPrice\") > 600\n",
    "descripFilter = F.instr(df.Description, \"POSTAGE\") > 0\n",
    "df.where(df.StockCode.isin(\"DOT\") & (priceFilter | descripFilter)).show(5)"
   ]
  },
  {
   "cell_type": "code",
   "execution_count": 12,
   "metadata": {},
   "outputs": [
    {
     "name": "stdout",
     "output_type": "stream",
     "text": [
      "+---------+---------+--------------+--------+-------------------+---------+----------+--------------+-----------+\n",
      "|InvoiceNo|StockCode|   Description|Quantity|        InvoiceDate|UnitPrice|CustomerID|       Country|isExpensive|\n",
      "+---------+---------+--------------+--------+-------------------+---------+----------+--------------+-----------+\n",
      "|   536544|      DOT|DOTCOM POSTAGE|       1|2010-12-01 14:32:00|   569.77|      null|United Kingdom|       true|\n",
      "|   536592|      DOT|DOTCOM POSTAGE|       1|2010-12-01 17:06:00|   607.49|      null|United Kingdom|       true|\n",
      "+---------+---------+--------------+--------+-------------------+---------+----------+--------------+-----------+\n",
      "\n"
     ]
    }
   ],
   "source": [
    "DOTCodeFilter = F.col(\"StockCode\") == \"DOT\"\n",
    "priceFilter = F.col(\"UnitPrice\") > 600\n",
    "descripFilter = F.instr(F.col(\"Description\"), \"POSTAGE\") >= 1\n",
    "df2 = (df.withColumn(\"isExpensive\", DOTCodeFilter & (priceFilter | descripFilter))\n",
    "    .where(\"isExpensive\")\n",
    "    .select(\"*\")\n",
    "      )\n",
    "df2.show(5)"
   ]
  },
  {
   "cell_type": "code",
   "execution_count": 13,
   "metadata": {},
   "outputs": [
    {
     "name": "stdout",
     "output_type": "stream",
     "text": [
      "+---------+---------+--------------+--------+-------------------+---------+----------+--------------+-----------+--------+\n",
      "|InvoiceNo|StockCode|   Description|Quantity|        InvoiceDate|UnitPrice|CustomerID|       Country|isExpensive|below600|\n",
      "+---------+---------+--------------+--------+-------------------+---------+----------+--------------+-----------+--------+\n",
      "|   536544|      DOT|DOTCOM POSTAGE|       1|2010-12-01 14:32:00|   569.77|      null|United Kingdom|       true|    true|\n",
      "|   536592|      DOT|DOTCOM POSTAGE|       1|2010-12-01 17:06:00|   607.49|      null|United Kingdom|       true|   false|\n",
      "+---------+---------+--------------+--------+-------------------+---------+----------+--------------+-----------+--------+\n",
      "\n"
     ]
    }
   ],
   "source": [
    "df3 = df2.withColumn(\"below600\", F.expr(\"UnitPrice < 600\")).select(\"*\")\n",
    "\n",
    "df3.show(5)"
   ]
  },
  {
   "cell_type": "code",
   "execution_count": 14,
   "metadata": {},
   "outputs": [
    {
     "name": "stdout",
     "output_type": "stream",
     "text": [
      "+---------+---------+--------------+--------+-------------------+---------+----------+--------------+-----------+--------+\n",
      "|InvoiceNo|StockCode|   Description|Quantity|        InvoiceDate|UnitPrice|CustomerID|       Country|isExpensive|below600|\n",
      "+---------+---------+--------------+--------+-------------------+---------+----------+--------------+-----------+--------+\n",
      "|   536544|      DOT|DOTCOM POSTAGE|       1|2010-12-01 14:32:00|   569.77|      null|United Kingdom|       true|    true|\n",
      "+---------+---------+--------------+--------+-------------------+---------+----------+--------------+-----------+--------+\n",
      "\n"
     ]
    }
   ],
   "source": [
    "df3.where(F.col(\"isExpensive\") & F.col(\"below600\")).select(\"*\").show()"
   ]
  },
  {
   "cell_type": "code",
   "execution_count": 15,
   "metadata": {},
   "outputs": [
    {
     "name": "stdout",
     "output_type": "stream",
     "text": [
      "+----------+--------+---------+------------+\n",
      "|CustomerId|Quantity|UnitPrice|fakeQuantity|\n",
      "+----------+--------+---------+------------+\n",
      "|   17850.0|       6|     2.55|      239.09|\n",
      "|   17850.0|       6|     3.39|      418.72|\n",
      "+----------+--------+---------+------------+\n",
      "only showing top 2 rows\n",
      "\n"
     ]
    }
   ],
   "source": [
    "fabricatedQuantity = F.pow(F.col(\"Quantity\") * F.col(\"UnitPrice\"), 2) + 5\n",
    "(df.select(\"CustomerId\", \"Quantity\", \"UnitPrice\", \n",
    "           F.round(fabricatedQuantity,2).alias(\"fakeQuantity\"))\n",
    "    .show(2))"
   ]
  },
  {
   "cell_type": "code",
   "execution_count": 16,
   "metadata": {},
   "outputs": [
    {
     "name": "stdout",
     "output_type": "stream",
     "text": [
      "+----------+--------+---------+------------+\n",
      "|CustomerId|Quantity|UnitPrice|fakeQuantity|\n",
      "+----------+--------+---------+------------+\n",
      "|   17850.0|       6|     2.55|      239.09|\n",
      "|   17850.0|       6|     3.39|     418.716|\n",
      "+----------+--------+---------+------------+\n",
      "only showing top 2 rows\n",
      "\n"
     ]
    }
   ],
   "source": [
    "df.selectExpr(\n",
    "    \"CustomerId\",\n",
    "    \"Quantity\", \n",
    "    \"UnitPrice\",\n",
    "    \"round((POWER((Quantity * UnitPrice), 2.0) + 5),3) as fakeQuantity\"\n",
    ").show(2)"
   ]
  },
  {
   "cell_type": "code",
   "execution_count": 17,
   "metadata": {},
   "outputs": [
    {
     "name": "stdout",
     "output_type": "stream",
     "text": [
      "+----------+--------+---------+------------+\n",
      "|CustomerId|Quantity|UnitPrice|fakeQuantity|\n",
      "+----------+--------+---------+------------+\n",
      "|   17850.0|       6|     2.55|      239.09|\n",
      "|   17850.0|       6|     3.39|     418.716|\n",
      "+----------+--------+---------+------------+\n",
      "only showing top 2 rows\n",
      "\n"
     ]
    }
   ],
   "source": [
    "sql_stmt = \"\"\"\n",
    "select \n",
    "    CustomerId,\n",
    "    Quantity, \n",
    "    UnitPrice,\n",
    "    round(POWER((Quantity * UnitPrice), 2.0) + 5,3) as fakeQuantity\n",
    "from \n",
    "    dfTable\n",
    "\"\"\"\n",
    "spark.sql(sql_stmt).show(2)"
   ]
  },
  {
   "cell_type": "markdown",
   "metadata": {},
   "source": [
    "#### describe()"
   ]
  },
  {
   "cell_type": "code",
   "execution_count": 18,
   "metadata": {},
   "outputs": [
    {
     "data": {
      "text/html": [
       "<div>\n",
       "<style scoped>\n",
       "    .dataframe tbody tr th:only-of-type {\n",
       "        vertical-align: middle;\n",
       "    }\n",
       "\n",
       "    .dataframe tbody tr th {\n",
       "        vertical-align: top;\n",
       "    }\n",
       "\n",
       "    .dataframe thead th {\n",
       "        text-align: right;\n",
       "    }\n",
       "</style>\n",
       "<table border=\"1\" class=\"dataframe\">\n",
       "  <thead>\n",
       "    <tr style=\"text-align: right;\">\n",
       "      <th></th>\n",
       "      <th>summary</th>\n",
       "      <th>InvoiceNo</th>\n",
       "      <th>StockCode</th>\n",
       "      <th>Description</th>\n",
       "      <th>Quantity</th>\n",
       "      <th>InvoiceDate</th>\n",
       "      <th>UnitPrice</th>\n",
       "      <th>CustomerID</th>\n",
       "      <th>Country</th>\n",
       "    </tr>\n",
       "  </thead>\n",
       "  <tbody>\n",
       "    <tr>\n",
       "      <th>0</th>\n",
       "      <td>count</td>\n",
       "      <td>3108</td>\n",
       "      <td>3108</td>\n",
       "      <td>3098</td>\n",
       "      <td>3108</td>\n",
       "      <td>3108</td>\n",
       "      <td>3108</td>\n",
       "      <td>1968</td>\n",
       "      <td>3108</td>\n",
       "    </tr>\n",
       "    <tr>\n",
       "      <th>1</th>\n",
       "      <td>mean</td>\n",
       "      <td>536516.684944841</td>\n",
       "      <td>27834.304044117645</td>\n",
       "      <td>None</td>\n",
       "      <td>8.627413127413128</td>\n",
       "      <td>None</td>\n",
       "      <td>4.151946589446603</td>\n",
       "      <td>15661.388719512195</td>\n",
       "      <td>None</td>\n",
       "    </tr>\n",
       "    <tr>\n",
       "      <th>2</th>\n",
       "      <td>stddev</td>\n",
       "      <td>72.89447869788873</td>\n",
       "      <td>17407.897548583845</td>\n",
       "      <td>None</td>\n",
       "      <td>26.371821677029203</td>\n",
       "      <td>None</td>\n",
       "      <td>15.638659854603892</td>\n",
       "      <td>1854.4496996893627</td>\n",
       "      <td>None</td>\n",
       "    </tr>\n",
       "    <tr>\n",
       "      <th>3</th>\n",
       "      <td>min</td>\n",
       "      <td>536365</td>\n",
       "      <td>10002</td>\n",
       "      <td>4 PURPLE FLOCK DINNER CANDLES</td>\n",
       "      <td>-24</td>\n",
       "      <td>2010-12-01 08:26:00</td>\n",
       "      <td>0.0</td>\n",
       "      <td>12431.0</td>\n",
       "      <td>Australia</td>\n",
       "    </tr>\n",
       "    <tr>\n",
       "      <th>4</th>\n",
       "      <td>max</td>\n",
       "      <td>C536548</td>\n",
       "      <td>POST</td>\n",
       "      <td>ZINC WILLIE WINKIE  CANDLE STICK</td>\n",
       "      <td>600</td>\n",
       "      <td>2010-12-01 17:35:00</td>\n",
       "      <td>607.49</td>\n",
       "      <td>18229.0</td>\n",
       "      <td>United Kingdom</td>\n",
       "    </tr>\n",
       "  </tbody>\n",
       "</table>\n",
       "</div>"
      ],
      "text/plain": [
       "  summary          InvoiceNo           StockCode  \\\n",
       "0   count               3108                3108   \n",
       "1    mean   536516.684944841  27834.304044117645   \n",
       "2  stddev  72.89447869788873  17407.897548583845   \n",
       "3     min             536365               10002   \n",
       "4     max            C536548                POST   \n",
       "\n",
       "                        Description            Quantity          InvoiceDate  \\\n",
       "0                              3098                3108                 3108   \n",
       "1                              None   8.627413127413128                 None   \n",
       "2                              None  26.371821677029203                 None   \n",
       "3     4 PURPLE FLOCK DINNER CANDLES                 -24  2010-12-01 08:26:00   \n",
       "4  ZINC WILLIE WINKIE  CANDLE STICK                 600  2010-12-01 17:35:00   \n",
       "\n",
       "            UnitPrice          CustomerID         Country  \n",
       "0                3108                1968            3108  \n",
       "1   4.151946589446603  15661.388719512195            None  \n",
       "2  15.638659854603892  1854.4496996893627            None  \n",
       "3                 0.0             12431.0       Australia  \n",
       "4              607.49             18229.0  United Kingdom  "
      ]
     },
     "metadata": {},
     "output_type": "display_data"
    }
   ],
   "source": [
    "display(df.describe().toPandas())"
   ]
  },
  {
   "cell_type": "markdown",
   "metadata": {},
   "source": [
    "#### stat.corr()  and crosstab()"
   ]
  },
  {
   "cell_type": "code",
   "execution_count": 19,
   "metadata": {},
   "outputs": [
    {
     "data": {
      "text/plain": [
       "-0.04112314436835551"
      ]
     },
     "execution_count": 19,
     "metadata": {},
     "output_type": "execute_result"
    }
   ],
   "source": [
    "df.stat.corr(\"Quantity\", \"UnitPrice\")"
   ]
  },
  {
   "cell_type": "code",
   "execution_count": 20,
   "metadata": {},
   "outputs": [
    {
     "name": "stdout",
     "output_type": "stream",
     "text": [
      "+--------------------+\n",
      "|      qty_price_corr|\n",
      "+--------------------+\n",
      "|-0.04112314436835551|\n",
      "+--------------------+\n",
      "\n"
     ]
    }
   ],
   "source": [
    "df.select(F.corr(\"Quantity\", \"UnitPrice\").alias(\"qty_price_corr\")).show()"
   ]
  },
  {
   "cell_type": "code",
   "execution_count": 21,
   "metadata": {},
   "outputs": [
    {
     "data": {
      "text/plain": [
       "[2.51]"
      ]
     },
     "execution_count": 21,
     "metadata": {},
     "output_type": "execute_result"
    }
   ],
   "source": [
    "colName = \"UnitPrice\"\n",
    "quantileProbs = [0.5]\n",
    "relError = 0.05\n",
    "df.stat.approxQuantile(\"UnitPrice\", quantileProbs, relError) # 2.51"
   ]
  },
  {
   "cell_type": "code",
   "execution_count": 22,
   "metadata": {},
   "outputs": [
    {
     "data": {
      "text/html": [
       "<div>\n",
       "<style scoped>\n",
       "    .dataframe tbody tr th:only-of-type {\n",
       "        vertical-align: middle;\n",
       "    }\n",
       "\n",
       "    .dataframe tbody tr th {\n",
       "        vertical-align: top;\n",
       "    }\n",
       "\n",
       "    .dataframe thead th {\n",
       "        text-align: right;\n",
       "    }\n",
       "</style>\n",
       "<table border=\"1\" class=\"dataframe\">\n",
       "  <thead>\n",
       "    <tr style=\"text-align: right;\">\n",
       "      <th></th>\n",
       "      <th>StockCode_Quantity</th>\n",
       "      <th>-1</th>\n",
       "      <th>-10</th>\n",
       "      <th>-12</th>\n",
       "      <th>-2</th>\n",
       "      <th>-24</th>\n",
       "      <th>-3</th>\n",
       "      <th>-4</th>\n",
       "      <th>-5</th>\n",
       "      <th>-6</th>\n",
       "      <th>...</th>\n",
       "      <th>60</th>\n",
       "      <th>600</th>\n",
       "      <th>64</th>\n",
       "      <th>7</th>\n",
       "      <th>70</th>\n",
       "      <th>72</th>\n",
       "      <th>8</th>\n",
       "      <th>80</th>\n",
       "      <th>9</th>\n",
       "      <th>96</th>\n",
       "    </tr>\n",
       "  </thead>\n",
       "  <tbody>\n",
       "    <tr>\n",
       "      <th>0</th>\n",
       "      <td>22578</td>\n",
       "      <td>0</td>\n",
       "      <td>0</td>\n",
       "      <td>0</td>\n",
       "      <td>0</td>\n",
       "      <td>0</td>\n",
       "      <td>0</td>\n",
       "      <td>0</td>\n",
       "      <td>0</td>\n",
       "      <td>0</td>\n",
       "      <td>...</td>\n",
       "      <td>0</td>\n",
       "      <td>0</td>\n",
       "      <td>0</td>\n",
       "      <td>0</td>\n",
       "      <td>0</td>\n",
       "      <td>0</td>\n",
       "      <td>0</td>\n",
       "      <td>0</td>\n",
       "      <td>0</td>\n",
       "      <td>0</td>\n",
       "    </tr>\n",
       "    <tr>\n",
       "      <th>1</th>\n",
       "      <td>21327</td>\n",
       "      <td>0</td>\n",
       "      <td>0</td>\n",
       "      <td>0</td>\n",
       "      <td>0</td>\n",
       "      <td>0</td>\n",
       "      <td>0</td>\n",
       "      <td>0</td>\n",
       "      <td>0</td>\n",
       "      <td>0</td>\n",
       "      <td>...</td>\n",
       "      <td>0</td>\n",
       "      <td>0</td>\n",
       "      <td>0</td>\n",
       "      <td>0</td>\n",
       "      <td>0</td>\n",
       "      <td>0</td>\n",
       "      <td>0</td>\n",
       "      <td>0</td>\n",
       "      <td>0</td>\n",
       "      <td>0</td>\n",
       "    </tr>\n",
       "    <tr>\n",
       "      <th>2</th>\n",
       "      <td>22064</td>\n",
       "      <td>0</td>\n",
       "      <td>0</td>\n",
       "      <td>0</td>\n",
       "      <td>0</td>\n",
       "      <td>0</td>\n",
       "      <td>0</td>\n",
       "      <td>0</td>\n",
       "      <td>0</td>\n",
       "      <td>0</td>\n",
       "      <td>...</td>\n",
       "      <td>0</td>\n",
       "      <td>0</td>\n",
       "      <td>0</td>\n",
       "      <td>0</td>\n",
       "      <td>0</td>\n",
       "      <td>0</td>\n",
       "      <td>0</td>\n",
       "      <td>0</td>\n",
       "      <td>0</td>\n",
       "      <td>0</td>\n",
       "    </tr>\n",
       "    <tr>\n",
       "      <th>3</th>\n",
       "      <td>21080</td>\n",
       "      <td>0</td>\n",
       "      <td>0</td>\n",
       "      <td>0</td>\n",
       "      <td>0</td>\n",
       "      <td>0</td>\n",
       "      <td>0</td>\n",
       "      <td>0</td>\n",
       "      <td>0</td>\n",
       "      <td>0</td>\n",
       "      <td>...</td>\n",
       "      <td>0</td>\n",
       "      <td>0</td>\n",
       "      <td>0</td>\n",
       "      <td>0</td>\n",
       "      <td>0</td>\n",
       "      <td>0</td>\n",
       "      <td>0</td>\n",
       "      <td>0</td>\n",
       "      <td>0</td>\n",
       "      <td>1</td>\n",
       "    </tr>\n",
       "    <tr>\n",
       "      <th>4</th>\n",
       "      <td>22219</td>\n",
       "      <td>0</td>\n",
       "      <td>0</td>\n",
       "      <td>0</td>\n",
       "      <td>0</td>\n",
       "      <td>0</td>\n",
       "      <td>0</td>\n",
       "      <td>0</td>\n",
       "      <td>0</td>\n",
       "      <td>0</td>\n",
       "      <td>...</td>\n",
       "      <td>0</td>\n",
       "      <td>0</td>\n",
       "      <td>0</td>\n",
       "      <td>0</td>\n",
       "      <td>0</td>\n",
       "      <td>0</td>\n",
       "      <td>0</td>\n",
       "      <td>0</td>\n",
       "      <td>0</td>\n",
       "      <td>0</td>\n",
       "    </tr>\n",
       "    <tr>\n",
       "      <th>...</th>\n",
       "      <td>...</td>\n",
       "      <td>...</td>\n",
       "      <td>...</td>\n",
       "      <td>...</td>\n",
       "      <td>...</td>\n",
       "      <td>...</td>\n",
       "      <td>...</td>\n",
       "      <td>...</td>\n",
       "      <td>...</td>\n",
       "      <td>...</td>\n",
       "      <td>...</td>\n",
       "      <td>...</td>\n",
       "      <td>...</td>\n",
       "      <td>...</td>\n",
       "      <td>...</td>\n",
       "      <td>...</td>\n",
       "      <td>...</td>\n",
       "      <td>...</td>\n",
       "      <td>...</td>\n",
       "      <td>...</td>\n",
       "      <td>...</td>\n",
       "    </tr>\n",
       "    <tr>\n",
       "      <th>1346</th>\n",
       "      <td>47563A</td>\n",
       "      <td>0</td>\n",
       "      <td>0</td>\n",
       "      <td>0</td>\n",
       "      <td>0</td>\n",
       "      <td>0</td>\n",
       "      <td>0</td>\n",
       "      <td>0</td>\n",
       "      <td>0</td>\n",
       "      <td>0</td>\n",
       "      <td>...</td>\n",
       "      <td>0</td>\n",
       "      <td>0</td>\n",
       "      <td>0</td>\n",
       "      <td>0</td>\n",
       "      <td>0</td>\n",
       "      <td>0</td>\n",
       "      <td>0</td>\n",
       "      <td>0</td>\n",
       "      <td>0</td>\n",
       "      <td>0</td>\n",
       "    </tr>\n",
       "    <tr>\n",
       "      <th>1347</th>\n",
       "      <td>22224</td>\n",
       "      <td>0</td>\n",
       "      <td>0</td>\n",
       "      <td>0</td>\n",
       "      <td>0</td>\n",
       "      <td>0</td>\n",
       "      <td>0</td>\n",
       "      <td>0</td>\n",
       "      <td>0</td>\n",
       "      <td>0</td>\n",
       "      <td>...</td>\n",
       "      <td>0</td>\n",
       "      <td>0</td>\n",
       "      <td>0</td>\n",
       "      <td>0</td>\n",
       "      <td>0</td>\n",
       "      <td>0</td>\n",
       "      <td>0</td>\n",
       "      <td>0</td>\n",
       "      <td>0</td>\n",
       "      <td>0</td>\n",
       "    </tr>\n",
       "    <tr>\n",
       "      <th>1348</th>\n",
       "      <td>46000S</td>\n",
       "      <td>0</td>\n",
       "      <td>0</td>\n",
       "      <td>0</td>\n",
       "      <td>0</td>\n",
       "      <td>0</td>\n",
       "      <td>0</td>\n",
       "      <td>0</td>\n",
       "      <td>0</td>\n",
       "      <td>0</td>\n",
       "      <td>...</td>\n",
       "      <td>0</td>\n",
       "      <td>0</td>\n",
       "      <td>0</td>\n",
       "      <td>0</td>\n",
       "      <td>0</td>\n",
       "      <td>0</td>\n",
       "      <td>0</td>\n",
       "      <td>0</td>\n",
       "      <td>0</td>\n",
       "      <td>0</td>\n",
       "    </tr>\n",
       "    <tr>\n",
       "      <th>1349</th>\n",
       "      <td>22680</td>\n",
       "      <td>0</td>\n",
       "      <td>0</td>\n",
       "      <td>0</td>\n",
       "      <td>0</td>\n",
       "      <td>0</td>\n",
       "      <td>0</td>\n",
       "      <td>0</td>\n",
       "      <td>0</td>\n",
       "      <td>0</td>\n",
       "      <td>...</td>\n",
       "      <td>0</td>\n",
       "      <td>0</td>\n",
       "      <td>0</td>\n",
       "      <td>0</td>\n",
       "      <td>0</td>\n",
       "      <td>0</td>\n",
       "      <td>0</td>\n",
       "      <td>0</td>\n",
       "      <td>0</td>\n",
       "      <td>0</td>\n",
       "    </tr>\n",
       "    <tr>\n",
       "      <th>1350</th>\n",
       "      <td>22136</td>\n",
       "      <td>0</td>\n",
       "      <td>0</td>\n",
       "      <td>0</td>\n",
       "      <td>0</td>\n",
       "      <td>0</td>\n",
       "      <td>0</td>\n",
       "      <td>0</td>\n",
       "      <td>0</td>\n",
       "      <td>0</td>\n",
       "      <td>...</td>\n",
       "      <td>0</td>\n",
       "      <td>0</td>\n",
       "      <td>0</td>\n",
       "      <td>0</td>\n",
       "      <td>0</td>\n",
       "      <td>0</td>\n",
       "      <td>0</td>\n",
       "      <td>0</td>\n",
       "      <td>0</td>\n",
       "      <td>0</td>\n",
       "    </tr>\n",
       "  </tbody>\n",
       "</table>\n",
       "<p>1351 rows × 67 columns</p>\n",
       "</div>"
      ],
      "text/plain": [
       "     StockCode_Quantity  -1  -10  -12  -2  -24  -3  -4  -5  -6  ...  60  600  \\\n",
       "0                 22578   0    0    0   0    0   0   0   0   0  ...   0    0   \n",
       "1                 21327   0    0    0   0    0   0   0   0   0  ...   0    0   \n",
       "2                 22064   0    0    0   0    0   0   0   0   0  ...   0    0   \n",
       "3                 21080   0    0    0   0    0   0   0   0   0  ...   0    0   \n",
       "4                 22219   0    0    0   0    0   0   0   0   0  ...   0    0   \n",
       "...                 ...  ..  ...  ...  ..  ...  ..  ..  ..  ..  ...  ..  ...   \n",
       "1346             47563A   0    0    0   0    0   0   0   0   0  ...   0    0   \n",
       "1347              22224   0    0    0   0    0   0   0   0   0  ...   0    0   \n",
       "1348             46000S   0    0    0   0    0   0   0   0   0  ...   0    0   \n",
       "1349              22680   0    0    0   0    0   0   0   0   0  ...   0    0   \n",
       "1350              22136   0    0    0   0    0   0   0   0   0  ...   0    0   \n",
       "\n",
       "      64  7  70  72  8  80  9  96  \n",
       "0      0  0   0   0  0   0  0   0  \n",
       "1      0  0   0   0  0   0  0   0  \n",
       "2      0  0   0   0  0   0  0   0  \n",
       "3      0  0   0   0  0   0  0   1  \n",
       "4      0  0   0   0  0   0  0   0  \n",
       "...   .. ..  ..  .. ..  .. ..  ..  \n",
       "1346   0  0   0   0  0   0  0   0  \n",
       "1347   0  0   0   0  0   0  0   0  \n",
       "1348   0  0   0   0  0   0  0   0  \n",
       "1349   0  0   0   0  0   0  0   0  \n",
       "1350   0  0   0   0  0   0  0   0  \n",
       "\n",
       "[1351 rows x 67 columns]"
      ]
     },
     "metadata": {},
     "output_type": "display_data"
    }
   ],
   "source": [
    "display(df.stat.crosstab(\"StockCode\", \"Quantity\").toPandas())"
   ]
  },
  {
   "cell_type": "code",
   "execution_count": 25,
   "metadata": {},
   "outputs": [],
   "source": [
    "df_1 = df.filter(F.isnull(F.col(\"StockCode\"))).select(\"*\")"
   ]
  },
  {
   "cell_type": "code",
   "execution_count": 26,
   "metadata": {},
   "outputs": [
    {
     "data": {
      "text/plain": [
       "0"
      ]
     },
     "execution_count": 26,
     "metadata": {},
     "output_type": "execute_result"
    }
   ],
   "source": [
    "df_1.count()"
   ]
  },
  {
   "cell_type": "code",
   "execution_count": 28,
   "metadata": {},
   "outputs": [
    {
     "data": {
      "text/plain": [
       "3108"
      ]
     },
     "execution_count": 28,
     "metadata": {},
     "output_type": "execute_result"
    }
   ],
   "source": [
    "df.count()"
   ]
  },
  {
   "cell_type": "code",
   "execution_count": 29,
   "metadata": {},
   "outputs": [
    {
     "data": {
      "text/plain": [
       "27"
      ]
     },
     "execution_count": 29,
     "metadata": {},
     "output_type": "execute_result"
    }
   ],
   "source": [
    "df_1 = df.filter(F.expr(\"Quantity < 0\")).select(\"*\")\n",
    "df_1.count()"
   ]
  },
  {
   "cell_type": "code",
   "execution_count": 32,
   "metadata": {},
   "outputs": [
    {
     "data": {
      "text/plain": [
       "3081"
      ]
     },
     "execution_count": 32,
     "metadata": {},
     "output_type": "execute_result"
    }
   ],
   "source": [
    "df_1 = df.filter(\"Quantity > 0\").select(\"*\")\n",
    "df_1.count()"
   ]
  },
  {
   "cell_type": "code",
   "execution_count": 33,
   "metadata": {},
   "outputs": [
    {
     "data": {
      "text/html": [
       "<div>\n",
       "<style scoped>\n",
       "    .dataframe tbody tr th:only-of-type {\n",
       "        vertical-align: middle;\n",
       "    }\n",
       "\n",
       "    .dataframe tbody tr th {\n",
       "        vertical-align: top;\n",
       "    }\n",
       "\n",
       "    .dataframe thead th {\n",
       "        text-align: right;\n",
       "    }\n",
       "</style>\n",
       "<table border=\"1\" class=\"dataframe\">\n",
       "  <thead>\n",
       "    <tr style=\"text-align: right;\">\n",
       "      <th></th>\n",
       "      <th>StockCode_Quantity</th>\n",
       "      <th>1</th>\n",
       "      <th>10</th>\n",
       "      <th>100</th>\n",
       "      <th>11</th>\n",
       "      <th>12</th>\n",
       "      <th>120</th>\n",
       "      <th>128</th>\n",
       "      <th>13</th>\n",
       "      <th>14</th>\n",
       "      <th>...</th>\n",
       "      <th>60</th>\n",
       "      <th>600</th>\n",
       "      <th>64</th>\n",
       "      <th>7</th>\n",
       "      <th>70</th>\n",
       "      <th>72</th>\n",
       "      <th>8</th>\n",
       "      <th>80</th>\n",
       "      <th>9</th>\n",
       "      <th>96</th>\n",
       "    </tr>\n",
       "  </thead>\n",
       "  <tbody>\n",
       "    <tr>\n",
       "      <th>0</th>\n",
       "      <td>22578</td>\n",
       "      <td>0</td>\n",
       "      <td>0</td>\n",
       "      <td>0</td>\n",
       "      <td>0</td>\n",
       "      <td>0</td>\n",
       "      <td>0</td>\n",
       "      <td>0</td>\n",
       "      <td>0</td>\n",
       "      <td>0</td>\n",
       "      <td>...</td>\n",
       "      <td>0</td>\n",
       "      <td>0</td>\n",
       "      <td>0</td>\n",
       "      <td>0</td>\n",
       "      <td>0</td>\n",
       "      <td>0</td>\n",
       "      <td>0</td>\n",
       "      <td>0</td>\n",
       "      <td>0</td>\n",
       "      <td>0</td>\n",
       "    </tr>\n",
       "    <tr>\n",
       "      <th>1</th>\n",
       "      <td>21327</td>\n",
       "      <td>2</td>\n",
       "      <td>0</td>\n",
       "      <td>0</td>\n",
       "      <td>0</td>\n",
       "      <td>0</td>\n",
       "      <td>0</td>\n",
       "      <td>0</td>\n",
       "      <td>0</td>\n",
       "      <td>0</td>\n",
       "      <td>...</td>\n",
       "      <td>0</td>\n",
       "      <td>0</td>\n",
       "      <td>0</td>\n",
       "      <td>0</td>\n",
       "      <td>0</td>\n",
       "      <td>0</td>\n",
       "      <td>0</td>\n",
       "      <td>0</td>\n",
       "      <td>0</td>\n",
       "      <td>0</td>\n",
       "    </tr>\n",
       "    <tr>\n",
       "      <th>2</th>\n",
       "      <td>22064</td>\n",
       "      <td>1</td>\n",
       "      <td>0</td>\n",
       "      <td>0</td>\n",
       "      <td>0</td>\n",
       "      <td>1</td>\n",
       "      <td>0</td>\n",
       "      <td>0</td>\n",
       "      <td>0</td>\n",
       "      <td>0</td>\n",
       "      <td>...</td>\n",
       "      <td>0</td>\n",
       "      <td>0</td>\n",
       "      <td>0</td>\n",
       "      <td>0</td>\n",
       "      <td>0</td>\n",
       "      <td>0</td>\n",
       "      <td>0</td>\n",
       "      <td>0</td>\n",
       "      <td>0</td>\n",
       "      <td>0</td>\n",
       "    </tr>\n",
       "    <tr>\n",
       "      <th>3</th>\n",
       "      <td>21080</td>\n",
       "      <td>1</td>\n",
       "      <td>0</td>\n",
       "      <td>0</td>\n",
       "      <td>0</td>\n",
       "      <td>0</td>\n",
       "      <td>0</td>\n",
       "      <td>0</td>\n",
       "      <td>0</td>\n",
       "      <td>0</td>\n",
       "      <td>...</td>\n",
       "      <td>0</td>\n",
       "      <td>0</td>\n",
       "      <td>0</td>\n",
       "      <td>0</td>\n",
       "      <td>0</td>\n",
       "      <td>0</td>\n",
       "      <td>0</td>\n",
       "      <td>0</td>\n",
       "      <td>0</td>\n",
       "      <td>1</td>\n",
       "    </tr>\n",
       "    <tr>\n",
       "      <th>4</th>\n",
       "      <td>22219</td>\n",
       "      <td>0</td>\n",
       "      <td>0</td>\n",
       "      <td>0</td>\n",
       "      <td>0</td>\n",
       "      <td>3</td>\n",
       "      <td>0</td>\n",
       "      <td>0</td>\n",
       "      <td>0</td>\n",
       "      <td>0</td>\n",
       "      <td>...</td>\n",
       "      <td>0</td>\n",
       "      <td>0</td>\n",
       "      <td>0</td>\n",
       "      <td>0</td>\n",
       "      <td>0</td>\n",
       "      <td>0</td>\n",
       "      <td>0</td>\n",
       "      <td>0</td>\n",
       "      <td>0</td>\n",
       "      <td>0</td>\n",
       "    </tr>\n",
       "    <tr>\n",
       "      <th>...</th>\n",
       "      <td>...</td>\n",
       "      <td>...</td>\n",
       "      <td>...</td>\n",
       "      <td>...</td>\n",
       "      <td>...</td>\n",
       "      <td>...</td>\n",
       "      <td>...</td>\n",
       "      <td>...</td>\n",
       "      <td>...</td>\n",
       "      <td>...</td>\n",
       "      <td>...</td>\n",
       "      <td>...</td>\n",
       "      <td>...</td>\n",
       "      <td>...</td>\n",
       "      <td>...</td>\n",
       "      <td>...</td>\n",
       "      <td>...</td>\n",
       "      <td>...</td>\n",
       "      <td>...</td>\n",
       "      <td>...</td>\n",
       "      <td>...</td>\n",
       "    </tr>\n",
       "    <tr>\n",
       "      <th>1343</th>\n",
       "      <td>47563A</td>\n",
       "      <td>2</td>\n",
       "      <td>0</td>\n",
       "      <td>0</td>\n",
       "      <td>0</td>\n",
       "      <td>0</td>\n",
       "      <td>0</td>\n",
       "      <td>0</td>\n",
       "      <td>0</td>\n",
       "      <td>0</td>\n",
       "      <td>...</td>\n",
       "      <td>0</td>\n",
       "      <td>0</td>\n",
       "      <td>0</td>\n",
       "      <td>0</td>\n",
       "      <td>0</td>\n",
       "      <td>0</td>\n",
       "      <td>0</td>\n",
       "      <td>0</td>\n",
       "      <td>0</td>\n",
       "      <td>0</td>\n",
       "    </tr>\n",
       "    <tr>\n",
       "      <th>1344</th>\n",
       "      <td>22224</td>\n",
       "      <td>1</td>\n",
       "      <td>0</td>\n",
       "      <td>0</td>\n",
       "      <td>0</td>\n",
       "      <td>0</td>\n",
       "      <td>0</td>\n",
       "      <td>0</td>\n",
       "      <td>0</td>\n",
       "      <td>0</td>\n",
       "      <td>...</td>\n",
       "      <td>0</td>\n",
       "      <td>0</td>\n",
       "      <td>0</td>\n",
       "      <td>0</td>\n",
       "      <td>0</td>\n",
       "      <td>0</td>\n",
       "      <td>0</td>\n",
       "      <td>0</td>\n",
       "      <td>0</td>\n",
       "      <td>0</td>\n",
       "    </tr>\n",
       "    <tr>\n",
       "      <th>1345</th>\n",
       "      <td>46000S</td>\n",
       "      <td>1</td>\n",
       "      <td>0</td>\n",
       "      <td>0</td>\n",
       "      <td>0</td>\n",
       "      <td>0</td>\n",
       "      <td>0</td>\n",
       "      <td>0</td>\n",
       "      <td>0</td>\n",
       "      <td>0</td>\n",
       "      <td>...</td>\n",
       "      <td>0</td>\n",
       "      <td>0</td>\n",
       "      <td>0</td>\n",
       "      <td>0</td>\n",
       "      <td>0</td>\n",
       "      <td>0</td>\n",
       "      <td>0</td>\n",
       "      <td>0</td>\n",
       "      <td>0</td>\n",
       "      <td>0</td>\n",
       "    </tr>\n",
       "    <tr>\n",
       "      <th>1346</th>\n",
       "      <td>22680</td>\n",
       "      <td>0</td>\n",
       "      <td>0</td>\n",
       "      <td>0</td>\n",
       "      <td>0</td>\n",
       "      <td>0</td>\n",
       "      <td>0</td>\n",
       "      <td>0</td>\n",
       "      <td>0</td>\n",
       "      <td>0</td>\n",
       "      <td>...</td>\n",
       "      <td>0</td>\n",
       "      <td>0</td>\n",
       "      <td>0</td>\n",
       "      <td>0</td>\n",
       "      <td>0</td>\n",
       "      <td>0</td>\n",
       "      <td>0</td>\n",
       "      <td>0</td>\n",
       "      <td>0</td>\n",
       "      <td>0</td>\n",
       "    </tr>\n",
       "    <tr>\n",
       "      <th>1347</th>\n",
       "      <td>22136</td>\n",
       "      <td>1</td>\n",
       "      <td>0</td>\n",
       "      <td>0</td>\n",
       "      <td>0</td>\n",
       "      <td>0</td>\n",
       "      <td>0</td>\n",
       "      <td>0</td>\n",
       "      <td>0</td>\n",
       "      <td>0</td>\n",
       "      <td>...</td>\n",
       "      <td>0</td>\n",
       "      <td>0</td>\n",
       "      <td>0</td>\n",
       "      <td>0</td>\n",
       "      <td>0</td>\n",
       "      <td>0</td>\n",
       "      <td>0</td>\n",
       "      <td>0</td>\n",
       "      <td>0</td>\n",
       "      <td>0</td>\n",
       "    </tr>\n",
       "  </tbody>\n",
       "</table>\n",
       "<p>1348 rows × 57 columns</p>\n",
       "</div>"
      ],
      "text/plain": [
       "     StockCode_Quantity  1  10  100  11  12  120  128  13  14  ...  60  600  \\\n",
       "0                 22578  0   0    0   0   0    0    0   0   0  ...   0    0   \n",
       "1                 21327  2   0    0   0   0    0    0   0   0  ...   0    0   \n",
       "2                 22064  1   0    0   0   1    0    0   0   0  ...   0    0   \n",
       "3                 21080  1   0    0   0   0    0    0   0   0  ...   0    0   \n",
       "4                 22219  0   0    0   0   3    0    0   0   0  ...   0    0   \n",
       "...                 ... ..  ..  ...  ..  ..  ...  ...  ..  ..  ...  ..  ...   \n",
       "1343             47563A  2   0    0   0   0    0    0   0   0  ...   0    0   \n",
       "1344              22224  1   0    0   0   0    0    0   0   0  ...   0    0   \n",
       "1345             46000S  1   0    0   0   0    0    0   0   0  ...   0    0   \n",
       "1346              22680  0   0    0   0   0    0    0   0   0  ...   0    0   \n",
       "1347              22136  1   0    0   0   0    0    0   0   0  ...   0    0   \n",
       "\n",
       "      64  7  70  72  8  80  9  96  \n",
       "0      0  0   0   0  0   0  0   0  \n",
       "1      0  0   0   0  0   0  0   0  \n",
       "2      0  0   0   0  0   0  0   0  \n",
       "3      0  0   0   0  0   0  0   1  \n",
       "4      0  0   0   0  0   0  0   0  \n",
       "...   .. ..  ..  .. ..  .. ..  ..  \n",
       "1343   0  0   0   0  0   0  0   0  \n",
       "1344   0  0   0   0  0   0  0   0  \n",
       "1345   0  0   0   0  0   0  0   0  \n",
       "1346   0  0   0   0  0   0  0   0  \n",
       "1347   0  0   0   0  0   0  0   0  \n",
       "\n",
       "[1348 rows x 57 columns]"
      ]
     },
     "metadata": {},
     "output_type": "display_data"
    }
   ],
   "source": [
    "display(df_1.stat.crosstab(\"StockCode\", \"Quantity\").toPandas())"
   ]
  },
  {
   "cell_type": "code",
   "execution_count": null,
   "metadata": {},
   "outputs": [],
   "source": []
  },
  {
   "cell_type": "code",
   "execution_count": 26,
   "metadata": {},
   "outputs": [
    {
     "name": "stdout",
     "output_type": "stream",
     "text": [
      "+-----------------------------------------------------------------------------------------------------------------------------------------------------------------------------------------------------------------------------------------------------------------------------------------------------------------------------------------------------------------------------------------------------------------------------------------------------------------------------------------------------------------------------------------------------------------------------+-------------------------------------------------------------------------------------------------------------------------------------------------------------------------------------------------------------------------------------------------------------------------------+\n",
      "|StockCode_freqItems                                                                                                                                                                                                                                                                                                                                                                                                                                                                                                                                                          |Quantity_freqItems                                                                                                                                                                                                                                                             |\n",
      "+-----------------------------------------------------------------------------------------------------------------------------------------------------------------------------------------------------------------------------------------------------------------------------------------------------------------------------------------------------------------------------------------------------------------------------------------------------------------------------------------------------------------------------------------------------------------------------+-------------------------------------------------------------------------------------------------------------------------------------------------------------------------------------------------------------------------------------------------------------------------------+\n",
      "|[90214E, 20728, 20755, 21703, 22113, 22524, 22041, 72803A, 72798C, 90181B, 21756, 22694, 90206C, 20970, 21624, 90209C, 84744, 82494L, 22952, 20682, 22583, 21705, 20679, 22220, 90177E, 90214A, 22448, 90214S, 22121, 22802, 84970L, 72818, 90192, 90200C, 22910, 21380, 90211A, 21137, 35271S, 84926A, 20765, 22384, 21524, 22165, 22366, 21221, 21704, 22519, 85035C, 21967, 22114, 22909, 22900, 22447, 21577, 21877, 20726, 85034A, DOT, 84658, 21472, 22804, 22222, 72802C, 21739, 22467, 90214H, 22785, 22446, 22197, 20665, 21733, 22731, 21709, 22086, 40001, 85123A]|[200, 128, 23, 32, 50, 600, 8, 17, 80, -1, -10, 11, 56, 47, 20, -7, 2, 5, 480, -4, 14, 432, 100, 64, 40, 13, 4, -5, 22, 16, -2, 7, 70, 384, 25, 34, 10, 1, 288, 216, 28, 252, 19, 120, 192, 60, 96, 72, 144, 36, 27, 9, 18, 48, 21, 12, 3, -6, -24, 30, 15, 33, 6, 24, -12, -3]|\n",
      "+-----------------------------------------------------------------------------------------------------------------------------------------------------------------------------------------------------------------------------------------------------------------------------------------------------------------------------------------------------------------------------------------------------------------------------------------------------------------------------------------------------------------------------------------------------------------------------+-------------------------------------------------------------------------------------------------------------------------------------------------------------------------------------------------------------------------------------------------------------------------------+\n",
      "\n"
     ]
    }
   ],
   "source": [
    "df.stat.freqItems([\"StockCode\", \"Quantity\"]).show(truncate=False)"
   ]
  },
  {
   "cell_type": "markdown",
   "metadata": {},
   "source": [
    "#### monotonically_increasing_id()"
   ]
  },
  {
   "cell_type": "code",
   "execution_count": 34,
   "metadata": {},
   "outputs": [
    {
     "name": "stdout",
     "output_type": "stream",
     "text": [
      "+-----------------------------+\n",
      "|monotonically_increasing_id()|\n",
      "+-----------------------------+\n",
      "|                            0|\n",
      "|                            1|\n",
      "|                            2|\n",
      "|                            3|\n",
      "|                            4|\n",
      "|                            5|\n",
      "|                            6|\n",
      "|                            7|\n",
      "|                            8|\n",
      "|                            9|\n",
      "+-----------------------------+\n",
      "only showing top 10 rows\n",
      "\n"
     ]
    }
   ],
   "source": [
    "df.select(F.monotonically_increasing_id()).show(10)"
   ]
  },
  {
   "cell_type": "code",
   "execution_count": 35,
   "metadata": {},
   "outputs": [
    {
     "data": {
      "text/html": [
       "<div>\n",
       "<style scoped>\n",
       "    .dataframe tbody tr th:only-of-type {\n",
       "        vertical-align: middle;\n",
       "    }\n",
       "\n",
       "    .dataframe tbody tr th {\n",
       "        vertical-align: top;\n",
       "    }\n",
       "\n",
       "    .dataframe thead th {\n",
       "        text-align: right;\n",
       "    }\n",
       "</style>\n",
       "<table border=\"1\" class=\"dataframe\">\n",
       "  <thead>\n",
       "    <tr style=\"text-align: right;\">\n",
       "      <th></th>\n",
       "      <th>InvoiceNo</th>\n",
       "      <th>StockCode</th>\n",
       "      <th>Description</th>\n",
       "      <th>Quantity</th>\n",
       "      <th>InvoiceDate</th>\n",
       "      <th>UnitPrice</th>\n",
       "      <th>CustomerID</th>\n",
       "      <th>Country</th>\n",
       "      <th>Id</th>\n",
       "    </tr>\n",
       "  </thead>\n",
       "  <tbody>\n",
       "    <tr>\n",
       "      <th>0</th>\n",
       "      <td>536365</td>\n",
       "      <td>85123A</td>\n",
       "      <td>WHITE HANGING HEART T-LIGHT HOLDER</td>\n",
       "      <td>6</td>\n",
       "      <td>2010-12-01 08:26:00</td>\n",
       "      <td>2.55</td>\n",
       "      <td>17850.0</td>\n",
       "      <td>United Kingdom</td>\n",
       "      <td>0</td>\n",
       "    </tr>\n",
       "    <tr>\n",
       "      <th>1</th>\n",
       "      <td>536365</td>\n",
       "      <td>71053</td>\n",
       "      <td>WHITE METAL LANTERN</td>\n",
       "      <td>6</td>\n",
       "      <td>2010-12-01 08:26:00</td>\n",
       "      <td>3.39</td>\n",
       "      <td>17850.0</td>\n",
       "      <td>United Kingdom</td>\n",
       "      <td>1</td>\n",
       "    </tr>\n",
       "    <tr>\n",
       "      <th>2</th>\n",
       "      <td>536365</td>\n",
       "      <td>84406B</td>\n",
       "      <td>CREAM CUPID HEARTS COAT HANGER</td>\n",
       "      <td>8</td>\n",
       "      <td>2010-12-01 08:26:00</td>\n",
       "      <td>2.75</td>\n",
       "      <td>17850.0</td>\n",
       "      <td>United Kingdom</td>\n",
       "      <td>2</td>\n",
       "    </tr>\n",
       "    <tr>\n",
       "      <th>3</th>\n",
       "      <td>536365</td>\n",
       "      <td>84029G</td>\n",
       "      <td>KNITTED UNION FLAG HOT WATER BOTTLE</td>\n",
       "      <td>6</td>\n",
       "      <td>2010-12-01 08:26:00</td>\n",
       "      <td>3.39</td>\n",
       "      <td>17850.0</td>\n",
       "      <td>United Kingdom</td>\n",
       "      <td>3</td>\n",
       "    </tr>\n",
       "    <tr>\n",
       "      <th>4</th>\n",
       "      <td>536365</td>\n",
       "      <td>84029E</td>\n",
       "      <td>RED WOOLLY HOTTIE WHITE HEART.</td>\n",
       "      <td>6</td>\n",
       "      <td>2010-12-01 08:26:00</td>\n",
       "      <td>3.39</td>\n",
       "      <td>17850.0</td>\n",
       "      <td>United Kingdom</td>\n",
       "      <td>4</td>\n",
       "    </tr>\n",
       "    <tr>\n",
       "      <th>...</th>\n",
       "      <td>...</td>\n",
       "      <td>...</td>\n",
       "      <td>...</td>\n",
       "      <td>...</td>\n",
       "      <td>...</td>\n",
       "      <td>...</td>\n",
       "      <td>...</td>\n",
       "      <td>...</td>\n",
       "      <td>...</td>\n",
       "    </tr>\n",
       "    <tr>\n",
       "      <th>3103</th>\n",
       "      <td>536597</td>\n",
       "      <td>35271S</td>\n",
       "      <td>GOLD PRINT PAPER BAG</td>\n",
       "      <td>14</td>\n",
       "      <td>2010-12-01 17:35:00</td>\n",
       "      <td>0.19</td>\n",
       "      <td>18011.0</td>\n",
       "      <td>United Kingdom</td>\n",
       "      <td>3103</td>\n",
       "    </tr>\n",
       "    <tr>\n",
       "      <th>3104</th>\n",
       "      <td>536597</td>\n",
       "      <td>21380</td>\n",
       "      <td>WOODEN HAPPY BIRTHDAY GARLAND</td>\n",
       "      <td>1</td>\n",
       "      <td>2010-12-01 17:35:00</td>\n",
       "      <td>2.95</td>\n",
       "      <td>18011.0</td>\n",
       "      <td>United Kingdom</td>\n",
       "      <td>3104</td>\n",
       "    </tr>\n",
       "    <tr>\n",
       "      <th>3105</th>\n",
       "      <td>536597</td>\n",
       "      <td>22909</td>\n",
       "      <td>SET OF 20 VINTAGE CHRISTMAS NAPKINS</td>\n",
       "      <td>1</td>\n",
       "      <td>2010-12-01 17:35:00</td>\n",
       "      <td>0.85</td>\n",
       "      <td>18011.0</td>\n",
       "      <td>United Kingdom</td>\n",
       "      <td>3105</td>\n",
       "    </tr>\n",
       "    <tr>\n",
       "      <th>3106</th>\n",
       "      <td>536597</td>\n",
       "      <td>21221</td>\n",
       "      <td>SET/4 BADGES CUTE CREATURES</td>\n",
       "      <td>5</td>\n",
       "      <td>2010-12-01 17:35:00</td>\n",
       "      <td>1.25</td>\n",
       "      <td>18011.0</td>\n",
       "      <td>United Kingdom</td>\n",
       "      <td>3106</td>\n",
       "    </tr>\n",
       "    <tr>\n",
       "      <th>3107</th>\n",
       "      <td>536597</td>\n",
       "      <td>20755</td>\n",
       "      <td>BLUE PAISLEY POCKET BOOK</td>\n",
       "      <td>6</td>\n",
       "      <td>2010-12-01 17:35:00</td>\n",
       "      <td>0.85</td>\n",
       "      <td>18011.0</td>\n",
       "      <td>United Kingdom</td>\n",
       "      <td>3107</td>\n",
       "    </tr>\n",
       "  </tbody>\n",
       "</table>\n",
       "<p>3108 rows × 9 columns</p>\n",
       "</div>"
      ],
      "text/plain": [
       "     InvoiceNo StockCode                          Description  Quantity  \\\n",
       "0       536365    85123A   WHITE HANGING HEART T-LIGHT HOLDER         6   \n",
       "1       536365     71053                  WHITE METAL LANTERN         6   \n",
       "2       536365    84406B       CREAM CUPID HEARTS COAT HANGER         8   \n",
       "3       536365    84029G  KNITTED UNION FLAG HOT WATER BOTTLE         6   \n",
       "4       536365    84029E       RED WOOLLY HOTTIE WHITE HEART.         6   \n",
       "...        ...       ...                                  ...       ...   \n",
       "3103    536597    35271S                 GOLD PRINT PAPER BAG        14   \n",
       "3104    536597     21380        WOODEN HAPPY BIRTHDAY GARLAND         1   \n",
       "3105    536597     22909  SET OF 20 VINTAGE CHRISTMAS NAPKINS         1   \n",
       "3106    536597     21221          SET/4 BADGES CUTE CREATURES         5   \n",
       "3107    536597     20755             BLUE PAISLEY POCKET BOOK         6   \n",
       "\n",
       "              InvoiceDate  UnitPrice  CustomerID         Country    Id  \n",
       "0     2010-12-01 08:26:00       2.55     17850.0  United Kingdom     0  \n",
       "1     2010-12-01 08:26:00       3.39     17850.0  United Kingdom     1  \n",
       "2     2010-12-01 08:26:00       2.75     17850.0  United Kingdom     2  \n",
       "3     2010-12-01 08:26:00       3.39     17850.0  United Kingdom     3  \n",
       "4     2010-12-01 08:26:00       3.39     17850.0  United Kingdom     4  \n",
       "...                   ...        ...         ...             ...   ...  \n",
       "3103  2010-12-01 17:35:00       0.19     18011.0  United Kingdom  3103  \n",
       "3104  2010-12-01 17:35:00       2.95     18011.0  United Kingdom  3104  \n",
       "3105  2010-12-01 17:35:00       0.85     18011.0  United Kingdom  3105  \n",
       "3106  2010-12-01 17:35:00       1.25     18011.0  United Kingdom  3106  \n",
       "3107  2010-12-01 17:35:00       0.85     18011.0  United Kingdom  3107  \n",
       "\n",
       "[3108 rows x 9 columns]"
      ]
     },
     "metadata": {},
     "output_type": "display_data"
    }
   ],
   "source": [
    "df = df.withColumn(\"Id\", F.monotonically_increasing_id())\n",
    "\n",
    "display(df.toPandas())"
   ]
  },
  {
   "cell_type": "code",
   "execution_count": 54,
   "metadata": {},
   "outputs": [
    {
     "name": "stdout",
     "output_type": "stream",
     "text": [
      "+-----------------------------------------------------------------------+\n",
      "|collect_set(Country)                                                   |\n",
      "+-----------------------------------------------------------------------+\n",
      "|[France, Australia, EIRE, Norway, Germany, United Kingdom, Netherlands]|\n",
      "+-----------------------------------------------------------------------+\n",
      "\n"
     ]
    }
   ],
   "source": [
    "df.select(F.collect_set(\"Country\")).show(truncate=False)"
   ]
  },
  {
   "cell_type": "code",
   "execution_count": 36,
   "metadata": {},
   "outputs": [
    {
     "data": {
      "text/plain": [
       "3108"
      ]
     },
     "execution_count": 36,
     "metadata": {},
     "output_type": "execute_result"
    }
   ],
   "source": [
    "df.count()"
   ]
  },
  {
   "cell_type": "code",
   "execution_count": 37,
   "metadata": {},
   "outputs": [
    {
     "name": "stdout",
     "output_type": "stream",
     "text": [
      "+-------+\n",
      "|max(Id)|\n",
      "+-------+\n",
      "|   3107|\n",
      "+-------+\n",
      "\n"
     ]
    }
   ],
   "source": [
    "df.select(F.max(\"Id\")).show()"
   ]
  },
  {
   "cell_type": "code",
   "execution_count": 40,
   "metadata": {},
   "outputs": [
    {
     "data": {
      "text/plain": [
       "1"
      ]
     },
     "execution_count": 40,
     "metadata": {},
     "output_type": "execute_result"
    }
   ],
   "source": [
    "df.rdd.getNumPartitions()"
   ]
  },
  {
   "cell_type": "code",
   "execution_count": 41,
   "metadata": {},
   "outputs": [],
   "source": [
    "df = df.repartition(3)"
   ]
  },
  {
   "cell_type": "code",
   "execution_count": 42,
   "metadata": {},
   "outputs": [
    {
     "data": {
      "text/plain": [
       "3"
      ]
     },
     "execution_count": 42,
     "metadata": {},
     "output_type": "execute_result"
    }
   ],
   "source": [
    "df.rdd.getNumPartitions()"
   ]
  },
  {
   "cell_type": "code",
   "execution_count": 43,
   "metadata": {},
   "outputs": [],
   "source": [
    "df = df.withColumn(\"Id2\", F.monotonically_increasing_id())"
   ]
  },
  {
   "cell_type": "code",
   "execution_count": 44,
   "metadata": {},
   "outputs": [
    {
     "name": "stdout",
     "output_type": "stream",
     "text": [
      "+-------+-----------+\n",
      "|max(Id)|   max(Id2)|\n",
      "+-------+-----------+\n",
      "|   3107|17179870219|\n",
      "+-------+-----------+\n",
      "\n"
     ]
    }
   ],
   "source": [
    "df.select(F.max(\"Id\"), F.max(\"Id2\")).show()"
   ]
  },
  {
   "cell_type": "markdown",
   "metadata": {},
   "source": [
    "when df has more than 1 partitions, monotonically_increasing_id() produces gap"
   ]
  },
  {
   "cell_type": "raw",
   "metadata": {},
   "source": [
    "from pyspark.sql.window import Window\n",
    "windowSpec = Window.partitionBy(\"Id2\").orderBy(\"Id2\")\n",
    "df = df.withColumn(\"Id3\", F.row_number().over(windowSpec))\n",
    "df.select(F.max(\"Id\"), F.max(\"Id2\"), F.max(\"Id3\")).show()"
   ]
  },
  {
   "cell_type": "code",
   "execution_count": 55,
   "metadata": {},
   "outputs": [],
   "source": [
    "df = df.drop(\"Id3\")"
   ]
  },
  {
   "cell_type": "markdown",
   "metadata": {},
   "source": [
    "#### initcap, lower, upper"
   ]
  },
  {
   "cell_type": "code",
   "execution_count": 56,
   "metadata": {},
   "outputs": [
    {
     "name": "stdout",
     "output_type": "stream",
     "text": [
      "+----------------------------------+\n",
      "|initcap(Description)              |\n",
      "+----------------------------------+\n",
      "|Modern Floral Stationery Set      |\n",
      "|Ceramic Strawberry Cake Money Bank|\n",
      "|Ceramic Strawberry Cake Money Bank|\n",
      "|Sweetheart Ceramic Trinket Box    |\n",
      "|Sweetheart Ceramic Trinket Box    |\n",
      "+----------------------------------+\n",
      "only showing top 5 rows\n",
      "\n"
     ]
    }
   ],
   "source": [
    "df.select(F.initcap(F.col(\"Description\"))).show(5, False)  # False - display column with unlimited width"
   ]
  },
  {
   "cell_type": "code",
   "execution_count": 57,
   "metadata": {},
   "outputs": [
    {
     "name": "stdout",
     "output_type": "stream",
     "text": [
      "+----------------------------------+----------------------------------+----------------------------------+----------------------------------+\n",
      "|Description                       |initcap(Description)              |lower(Description)                |upper(Description)                |\n",
      "+----------------------------------+----------------------------------+----------------------------------+----------------------------------+\n",
      "|MODERN FLORAL STATIONERY SET      |Modern Floral Stationery Set      |modern floral stationery set      |MODERN FLORAL STATIONERY SET      |\n",
      "|CERAMIC STRAWBERRY CAKE MONEY BANK|Ceramic Strawberry Cake Money Bank|ceramic strawberry cake money bank|CERAMIC STRAWBERRY CAKE MONEY BANK|\n",
      "+----------------------------------+----------------------------------+----------------------------------+----------------------------------+\n",
      "only showing top 2 rows\n",
      "\n"
     ]
    }
   ],
   "source": [
    "(\n",
    "df.select(F.col(\"Description\"),\n",
    "    F.initcap(F.col(\"Description\")),\n",
    "    F.lower(F.col(\"Description\")),\n",
    "    F.upper(F.col(\"Description\")))\n",
    "    .show(2, False)\n",
    ")\n"
   ]
  },
  {
   "cell_type": "markdown",
   "metadata": {},
   "source": [
    "#### ltrim(), rtrim(), trim()\n",
    "\n",
    "strip spaces (leading, trailing or both)\n",
    "\n",
    "#### lpad(), rpad()\n",
    "\n",
    "pad `char` left or right"
   ]
  },
  {
   "cell_type": "code",
   "execution_count": 58,
   "metadata": {},
   "outputs": [
    {
     "name": "stdout",
     "output_type": "stream",
     "text": [
      "+---------+---------+-----+-------+-----+\n",
      "|    ltrim|    rtrim| trim|     lp|   rp|\n",
      "+---------+---------+-----+-------+-----+\n",
      "|HELLO    |    HELLO|HELLO|  Hello|Hi   |\n",
      "+---------+---------+-----+-------+-----+\n",
      "only showing top 1 row\n",
      "\n"
     ]
    }
   ],
   "source": [
    "(df.select(\n",
    "    F.ltrim(F.lit(\"    HELLO    \")).alias(\"ltrim\"),\n",
    "    F.rtrim(F.lit(\"    HELLO    \")).alias(\"rtrim\"),\n",
    "    F.trim(F.lit(\"    HELLO    \")).alias(\"trim\"),\n",
    "    F.lpad(F.lit(\"Hello\"), 7, \" \").alias(\"lp\"),\n",
    "    F.rpad(F.lit(\"Hi\"), 5, \" \").alias(\"rp\"))\n",
    "    .show(1))"
   ]
  },
  {
   "cell_type": "markdown",
   "metadata": {},
   "source": [
    "#### translate()\n",
    "map char to new one"
   ]
  },
  {
   "cell_type": "code",
   "execution_count": 59,
   "metadata": {},
   "outputs": [
    {
     "name": "stdout",
     "output_type": "stream",
     "text": [
      "+----------------------------------+----------------------------------+\n",
      "|Description                       |translate(Description, LEET, 1337)|\n",
      "+----------------------------------+----------------------------------+\n",
      "|MODERN FLORAL STATIONERY SET      |MOD3RN F1ORA1 S7A7ION3RY S37      |\n",
      "|CERAMIC STRAWBERRY CAKE MONEY BANK|C3RAMIC S7RAWB3RRY CAK3 MON3Y BANK|\n",
      "+----------------------------------+----------------------------------+\n",
      "only showing top 2 rows\n",
      "\n"
     ]
    }
   ],
   "source": [
    "(df.select(F.col(\"Description\"), \n",
    "           F.translate(F.col(\"Description\"), \"LEET\", \"1337\"))\n",
    "  .show(2,False))"
   ]
  },
  {
   "cell_type": "markdown",
   "metadata": {},
   "source": [
    "#### rlike()\n",
    "\n",
    "#### regexp_replace()\n",
    "\n",
    "match and replace\n",
    "\n",
    "#### regexp_extract()\n",
    "\n",
    "match and extract"
   ]
  },
  {
   "cell_type": "code",
   "execution_count": 68,
   "metadata": {},
   "outputs": [],
   "source": [
    "regex_string = \"BLACK|WHITE|RED|GREEN|BLUE|PINK\""
   ]
  },
  {
   "cell_type": "code",
   "execution_count": 69,
   "metadata": {},
   "outputs": [
    {
     "name": "stdout",
     "output_type": "stream",
     "text": [
      "+-----------------------------------+\n",
      "|Description                        |\n",
      "+-----------------------------------+\n",
      "|CHARLOTTE BAG PINK POLKADOT        |\n",
      "|FRENCH BLUE METAL DOOR SIGN 3      |\n",
      "|FELTCRAFT HAIRBANDS PINK AND WHITE |\n",
      "|SET OF 72 GREEN PAPER DOILIES      |\n",
      "|WOODEN ADVENT CALENDAR RED         |\n",
      "+-----------------------------------+\n",
      "only showing top 5 rows\n",
      "\n"
     ]
    }
   ],
   "source": [
    "df.filter(F.col(\"Description\").rlike(f\"^.*{regex_string}.*$\")).select(\"Description\").show(5, truncate=False)"
   ]
  },
  {
   "cell_type": "code",
   "execution_count": 70,
   "metadata": {},
   "outputs": [
    {
     "name": "stdout",
     "output_type": "stream",
     "text": [
      "+-----------------------------------+----------------------------------------+\n",
      "|Description                        |color_clean                             |\n",
      "+-----------------------------------+----------------------------------------+\n",
      "|CHARLOTTE BAG PINK POLKADOT        |CHARLOTTE BAG <COLOR> POLKADOT          |\n",
      "|FRENCH BLUE METAL DOOR SIGN 3      |FRENCH <COLOR> METAL DOOR SIGN 3        |\n",
      "|FELTCRAFT HAIRBANDS PINK AND WHITE |FELTCRAFT HAIRBANDS <COLOR> AND <COLOR> |\n",
      "|SET OF 72 GREEN PAPER DOILIES      |SET OF 72 <COLOR> PAPER DOILIES         |\n",
      "|WOODEN ADVENT CALENDAR RED         |WOODEN ADVENT CALENDAR <COLOR>          |\n",
      "+-----------------------------------+----------------------------------------+\n",
      "only showing top 5 rows\n",
      "\n"
     ]
    }
   ],
   "source": [
    "(df\n",
    " .filter(F.col(\"Description\").rlike(f\"^.*{regex_string}.*$\"))\n",
    " .select(\n",
    "    F.col(\"Description\"),\n",
    "    F.regexp_replace(F.col(\"Description\"), regex_string, \"<COLOR>\").alias(\"color_clean\"))\n",
    "  .show(5, False))"
   ]
  },
  {
   "cell_type": "code",
   "execution_count": 36,
   "metadata": {},
   "outputs": [
    {
     "name": "stdout",
     "output_type": "stream",
     "text": [
      "+-----------------------------------+-----------+\n",
      "|Description                        |color_clean|\n",
      "+-----------------------------------+-----------+\n",
      "|WHITE HANGING HEART T-LIGHT HOLDER |WHITE      |\n",
      "|WHITE METAL LANTERN                |WHITE      |\n",
      "|CREAM CUPID HEARTS COAT HANGER     |           |\n",
      "|KNITTED UNION FLAG HOT WATER BOTTLE|           |\n",
      "|RED WOOLLY HOTTIE WHITE HEART.     |RED        |\n",
      "+-----------------------------------+-----------+\n",
      "only showing top 5 rows\n",
      "\n"
     ]
    }
   ],
   "source": [
    "extract_str = \"(BLACK|WHITE|RED|GREEN|BLUE)\"\n",
    "(df.select(\n",
    "    F.col(\"Description\"),\n",
    "    F.regexp_extract(F.col(\"Description\"), extract_str, 1).alias(\"color_clean\"))\n",
    "  .show(5,False))"
   ]
  },
  {
   "cell_type": "markdown",
   "metadata": {},
   "source": [
    "#### instr() \n",
    "find a subsring"
   ]
  },
  {
   "cell_type": "code",
   "execution_count": 71,
   "metadata": {},
   "outputs": [
    {
     "name": "stdout",
     "output_type": "stream",
     "text": [
      "+-----------------------------------+--------------+\n",
      "|Description                        |hasSimpleColor|\n",
      "+-----------------------------------+--------------+\n",
      "|FELTCRAFT HAIRBANDS PINK AND WHITE |true          |\n",
      "|WOOD S/3 CABINET ANT WHITE FINISH  |true          |\n",
      "|WOOD S/3 CABINET ANT WHITE FINISH  |true          |\n",
      "|EDWARDIAN PARASOL BLACK            |true          |\n",
      "|WHITE LOVEBIRD LANTERN             |true          |\n",
      "+-----------------------------------+--------------+\n",
      "only showing top 5 rows\n",
      "\n"
     ]
    }
   ],
   "source": [
    "containsBlack = F.instr(F.col(\"Description\"), \"BLACK\") > 0\n",
    "containsWhite = F.instr(F.col(\"Description\"), \"WHITE\") > 0\n",
    "(df.withColumn(\"hasSimpleColor\", containsBlack | containsWhite)\n",
    "   .where(\"hasSimpleColor\")\n",
    "   .select(\"Description\", \"hasSimpleColor\")\n",
    "   .show(5, False))"
   ]
  },
  {
   "cell_type": "markdown",
   "metadata": {},
   "source": [
    "#### locate() - construct columns dynamically"
   ]
  },
  {
   "cell_type": "code",
   "execution_count": 72,
   "metadata": {},
   "outputs": [],
   "source": [
    "simpleColors = [\"black\", \"white\", \"red\", \"green\", \"blue\"]\n",
    "def color_locator(column, color_string):\n",
    "    return F.locate(color_string.upper(), column)\\\n",
    "          .cast(\"boolean\")\\\n",
    "          .alias(\"is_\" + color_string)\n",
    "selectedColumns = [color_locator(df.Description, c) for c in simpleColors]\n",
    "selectedColumns.append(F.expr(\"*\")) # has to a be Column type"
   ]
  },
  {
   "cell_type": "code",
   "execution_count": 73,
   "metadata": {},
   "outputs": [
    {
     "name": "stdout",
     "output_type": "stream",
     "text": [
      "+-----------------------------------+--------+------+\n",
      "|Description                        |is_white|is_red|\n",
      "+-----------------------------------+--------+------+\n",
      "|FELTCRAFT HAIRBANDS PINK AND WHITE |true    |false |\n",
      "|WOODEN ADVENT CALENDAR RED         |false   |true  |\n",
      "|WOOD S/3 CABINET ANT WHITE FINISH  |true    |false |\n",
      "+-----------------------------------+--------+------+\n",
      "only showing top 3 rows\n",
      "\n"
     ]
    }
   ],
   "source": [
    "(df.select(*selectedColumns)\n",
    "   .where(F.expr(\"is_white OR is_red\"))\n",
    "   .select(\"Description\",\"is_white\",\"is_red\")\n",
    "   .show(3, False))"
   ]
  },
  {
   "cell_type": "markdown",
   "metadata": {},
   "source": [
    "#### Datetime\n",
    "\n",
    "- current_date()  \n",
    "- current_timestamp()"
   ]
  },
  {
   "cell_type": "code",
   "execution_count": 74,
   "metadata": {},
   "outputs": [
    {
     "name": "stdout",
     "output_type": "stream",
     "text": [
      "+---+----------+-----------------------+\n",
      "|id |today     |now                    |\n",
      "+---+----------+-----------------------+\n",
      "|0  |2021-06-04|2021-06-04 20:25:36.507|\n",
      "|1  |2021-06-04|2021-06-04 20:25:36.507|\n",
      "|2  |2021-06-04|2021-06-04 20:25:36.507|\n",
      "|3  |2021-06-04|2021-06-04 20:25:36.507|\n",
      "+---+----------+-----------------------+\n",
      "only showing top 4 rows\n",
      "\n"
     ]
    }
   ],
   "source": [
    "# from pyspark.sql.functions import current_date, current_timestamp\n",
    "\n",
    "dateDF = (\n",
    "    spark.range(10)\n",
    "    .withColumn(\"today\", F.current_date())\n",
    "    .withColumn(\"now\", F.current_timestamp())\n",
    ")\n",
    "\n",
    "dateDF.createOrReplaceTempView(\"dateTable\")\n",
    "\n",
    "dateDF.show(4, False)"
   ]
  },
  {
   "cell_type": "markdown",
   "metadata": {},
   "source": [
    "#### to_date(), to_timestamp(), date_add(), date_sub(), datediff(), months_between()\n",
    "\n",
    "see [additional examples](https://github.com/wgong/py4kids/blob/master/lesson-17-pyspark/spark-guide/notebook/chapter-06-udf_datetime.ipynb) using `udf` to parse datetime"
   ]
  },
  {
   "cell_type": "code",
   "execution_count": 75,
   "metadata": {},
   "outputs": [
    {
     "name": "stdout",
     "output_type": "stream",
     "text": [
      "+---+----------+----------+\n",
      "| id|     today|      past|\n",
      "+---+----------+----------+\n",
      "|  0|2021-06-04|2021-06-01|\n",
      "|  1|2021-06-04|2021-06-01|\n",
      "|  2|2021-06-04|2021-06-01|\n",
      "+---+----------+----------+\n",
      "\n"
     ]
    }
   ],
   "source": [
    "spark.sql(\"select id, today, date_add(today, -3) as past from dateTable limit 3\").show()"
   ]
  },
  {
   "cell_type": "code",
   "execution_count": 76,
   "metadata": {},
   "outputs": [
    {
     "name": "stdout",
     "output_type": "stream",
     "text": [
      "+---+----------+----------+----------+\n",
      "| id|      past|     today|    future|\n",
      "+---+----------+----------+----------+\n",
      "|  0|2021-06-01|2021-06-04|2021-06-09|\n",
      "|  1|2021-06-01|2021-06-04|2021-06-09|\n",
      "|  2|2021-06-01|2021-06-04|2021-06-09|\n",
      "+---+----------+----------+----------+\n",
      "only showing top 3 rows\n",
      "\n"
     ]
    }
   ],
   "source": [
    "(\n",
    "dateDF\n",
    "    .select(\"id\", \n",
    "            F.date_sub(F.col(\"today\"), 3).alias(\"past\"), \n",
    "            \"today\", \n",
    "            F.date_add(F.col(\"today\"), 5).alias(\"future\"))\n",
    "    .show(3)\n",
    ")"
   ]
  },
  {
   "cell_type": "markdown",
   "metadata": {},
   "source": [
    "How to work around limitation that 2nd arg of date_add() must be literal `int` value\n",
    "\n",
    "https://stackoverflow.com/questions/46956026/how-to-convert-column-with-string-type-to-int-form-in-pyspark-data-frame"
   ]
  },
  {
   "cell_type": "code",
   "execution_count": 78,
   "metadata": {},
   "outputs": [
    {
     "name": "stdout",
     "output_type": "stream",
     "text": [
      "+---+----------+----------+----------+\n",
      "| id|      past|     today|    future|\n",
      "+---+----------+----------+----------+\n",
      "|  0|2021-06-03|2021-06-04|2021-06-06|\n",
      "|  1|2021-06-02|2021-06-04|2021-06-08|\n",
      "|  2|2021-06-01|2021-06-04|2021-06-10|\n",
      "|  3|2021-05-31|2021-06-04|2021-06-12|\n",
      "|  4|2021-05-30|2021-06-04|2021-06-14|\n",
      "|  5|2021-05-29|2021-06-04|2021-06-16|\n",
      "|  6|2021-05-28|2021-06-04|2021-06-18|\n",
      "|  7|2021-05-27|2021-06-04|2021-06-20|\n",
      "|  8|2021-05-26|2021-06-04|2021-06-22|\n",
      "|  9|2021-05-25|2021-06-04|2021-06-24|\n",
      "+---+----------+----------+----------+\n",
      "\n"
     ]
    }
   ],
   "source": [
    "(\n",
    "dateDF\n",
    "    .withColumn(\"id_days\", (F.col(\"id\")+1).cast(IntegerType()))\n",
    "    .withColumn(\"past\", F.expr(\"date_sub(today, id_days)\"))\n",
    "    .withColumn(\"future\", F.expr(\"date_add(today, 2*id_days)\"))\n",
    "    .select(\"id\", \n",
    "            \"past\", \n",
    "            \"today\", \n",
    "            \"future\")\n",
    "    .show(10)\n",
    ")"
   ]
  },
  {
   "cell_type": "code",
   "execution_count": 79,
   "metadata": {},
   "outputs": [
    {
     "name": "stdout",
     "output_type": "stream",
     "text": [
      "+-------------------------+\n",
      "|datediff(week_ago, today)|\n",
      "+-------------------------+\n",
      "|                       -7|\n",
      "+-------------------------+\n",
      "only showing top 1 row\n",
      "\n"
     ]
    }
   ],
   "source": [
    "dateDF.withColumn(\"week_ago\", F.date_sub(F.col(\"today\"), 7))\\\n",
    "    .select(F.datediff(F.col(\"week_ago\"), F.col(\"today\")))\\\n",
    "    .show(1)"
   ]
  },
  {
   "cell_type": "code",
   "execution_count": 83,
   "metadata": {},
   "outputs": [
    {
     "name": "stdout",
     "output_type": "stream",
     "text": [
      "+----------+----------+------------+\n",
      "|     start|       end|  month_diff|\n",
      "+----------+----------+------------+\n",
      "|2016-01-01|2017-05-22|-16.67741935|\n",
      "+----------+----------+------------+\n",
      "only showing top 1 row\n",
      "\n"
     ]
    }
   ],
   "source": [
    "(dateDF\n",
    "    .withColumn(\"start\", F.to_date(F.lit(\"2016-01-01\")))\n",
    "    .withColumn(\"end\", F.to_date(F.lit(\"2017-05-22\")))\n",
    "    .withColumn(\"month_diff\", F.expr(\"months_between(start, end)\"))\n",
    "    .select(\"start\", \"end\", \"month_diff\")\n",
    "    .show(1)\n",
    ")"
   ]
  },
  {
   "cell_type": "markdown",
   "metadata": {},
   "source": [
    "reformat date"
   ]
  },
  {
   "cell_type": "code",
   "execution_count": 64,
   "metadata": {},
   "outputs": [
    {
     "name": "stdout",
     "output_type": "stream",
     "text": [
      "+----------+----------+\n",
      "|     date1|     date2|\n",
      "+----------+----------+\n",
      "|2017-11-12|2017-12-20|\n",
      "+----------+----------+\n",
      "\n"
     ]
    }
   ],
   "source": [
    "dateFormat = \"yyyy-dd-MM\"\n",
    "cleanDateDF = spark.range(1).select(\n",
    "    F.to_date(F.lit(\"2017-12-11\"), dateFormat).alias(\"date1\"),\n",
    "    F.to_date(F.lit(\"2017-20-12\"), dateFormat).alias(\"date2\"))\n",
    "cleanDateDF.createOrReplaceTempView(\"dateTable2\")\n",
    "cleanDateDF.show()"
   ]
  },
  {
   "cell_type": "code",
   "execution_count": 65,
   "metadata": {},
   "outputs": [
    {
     "name": "stdout",
     "output_type": "stream",
     "text": [
      "+----------+----------+\n",
      "|     date1|     date2|\n",
      "+----------+----------+\n",
      "|2017-11-12|2017-12-20|\n",
      "+----------+----------+\n",
      "\n"
     ]
    }
   ],
   "source": [
    "spark.sql(\"select * from dateTable2\").show()"
   ]
  },
  {
   "cell_type": "code",
   "execution_count": 66,
   "metadata": {},
   "outputs": [
    {
     "name": "stdout",
     "output_type": "stream",
     "text": [
      "+-----------------------------------+\n",
      "|to_timestamp(`date1`, 'yyyy-dd-MM')|\n",
      "+-----------------------------------+\n",
      "|                2017-11-12 00:00:00|\n",
      "+-----------------------------------+\n",
      "\n"
     ]
    }
   ],
   "source": [
    "cleanDateDF.select(F.to_timestamp(F.col(\"date1\"), dateFormat))\\\n",
    "    .show()"
   ]
  },
  {
   "cell_type": "markdown",
   "metadata": {},
   "source": [
    "#### na.drop()\n",
    "\n",
    "remove rows with missing values\n",
    "\n",
    "#### na.fill(), na.replace()\n",
    "\n",
    "replace missing values"
   ]
  },
  {
   "cell_type": "code",
   "execution_count": 6,
   "metadata": {},
   "outputs": [
    {
     "data": {
      "text/html": [
       "<div>\n",
       "<style scoped>\n",
       "    .dataframe tbody tr th:only-of-type {\n",
       "        vertical-align: middle;\n",
       "    }\n",
       "\n",
       "    .dataframe tbody tr th {\n",
       "        vertical-align: top;\n",
       "    }\n",
       "\n",
       "    .dataframe thead th {\n",
       "        text-align: right;\n",
       "    }\n",
       "</style>\n",
       "<table border=\"1\" class=\"dataframe\">\n",
       "  <thead>\n",
       "    <tr style=\"text-align: right;\">\n",
       "      <th></th>\n",
       "      <th>summary</th>\n",
       "      <th>InvoiceNo</th>\n",
       "      <th>StockCode</th>\n",
       "      <th>Description</th>\n",
       "      <th>Quantity</th>\n",
       "      <th>InvoiceDate</th>\n",
       "      <th>UnitPrice</th>\n",
       "      <th>CustomerID</th>\n",
       "      <th>Country</th>\n",
       "    </tr>\n",
       "  </thead>\n",
       "  <tbody>\n",
       "    <tr>\n",
       "      <th>0</th>\n",
       "      <td>count</td>\n",
       "      <td>3108</td>\n",
       "      <td>3108</td>\n",
       "      <td>3098</td>\n",
       "      <td>3108</td>\n",
       "      <td>3108</td>\n",
       "      <td>3108</td>\n",
       "      <td>1968</td>\n",
       "      <td>3108</td>\n",
       "    </tr>\n",
       "    <tr>\n",
       "      <th>1</th>\n",
       "      <td>mean</td>\n",
       "      <td>536516.684944841</td>\n",
       "      <td>27834.304044117645</td>\n",
       "      <td>None</td>\n",
       "      <td>8.627413127413128</td>\n",
       "      <td>None</td>\n",
       "      <td>4.151946589446603</td>\n",
       "      <td>15661.388719512195</td>\n",
       "      <td>None</td>\n",
       "    </tr>\n",
       "    <tr>\n",
       "      <th>2</th>\n",
       "      <td>stddev</td>\n",
       "      <td>72.89447869788873</td>\n",
       "      <td>17407.897548583845</td>\n",
       "      <td>None</td>\n",
       "      <td>26.371821677029203</td>\n",
       "      <td>None</td>\n",
       "      <td>15.638659854603892</td>\n",
       "      <td>1854.4496996893627</td>\n",
       "      <td>None</td>\n",
       "    </tr>\n",
       "    <tr>\n",
       "      <th>3</th>\n",
       "      <td>min</td>\n",
       "      <td>536365</td>\n",
       "      <td>10002</td>\n",
       "      <td>4 PURPLE FLOCK DINNER CANDLES</td>\n",
       "      <td>-24</td>\n",
       "      <td>2010-12-01 08:26:00</td>\n",
       "      <td>0.0</td>\n",
       "      <td>12431.0</td>\n",
       "      <td>Australia</td>\n",
       "    </tr>\n",
       "    <tr>\n",
       "      <th>4</th>\n",
       "      <td>max</td>\n",
       "      <td>C536548</td>\n",
       "      <td>POST</td>\n",
       "      <td>ZINC WILLIE WINKIE  CANDLE STICK</td>\n",
       "      <td>600</td>\n",
       "      <td>2010-12-01 17:35:00</td>\n",
       "      <td>607.49</td>\n",
       "      <td>18229.0</td>\n",
       "      <td>United Kingdom</td>\n",
       "    </tr>\n",
       "  </tbody>\n",
       "</table>\n",
       "</div>"
      ],
      "text/plain": [
       "  summary          InvoiceNo           StockCode  \\\n",
       "0   count               3108                3108   \n",
       "1    mean   536516.684944841  27834.304044117645   \n",
       "2  stddev  72.89447869788873  17407.897548583845   \n",
       "3     min             536365               10002   \n",
       "4     max            C536548                POST   \n",
       "\n",
       "                        Description            Quantity          InvoiceDate  \\\n",
       "0                              3098                3108                 3108   \n",
       "1                              None   8.627413127413128                 None   \n",
       "2                              None  26.371821677029203                 None   \n",
       "3     4 PURPLE FLOCK DINNER CANDLES                 -24  2010-12-01 08:26:00   \n",
       "4  ZINC WILLIE WINKIE  CANDLE STICK                 600  2010-12-01 17:35:00   \n",
       "\n",
       "            UnitPrice          CustomerID         Country  \n",
       "0                3108                1968            3108  \n",
       "1   4.151946589446603  15661.388719512195            None  \n",
       "2  15.638659854603892  1854.4496996893627            None  \n",
       "3                 0.0             12431.0       Australia  \n",
       "4              607.49             18229.0  United Kingdom  "
      ]
     },
     "metadata": {},
     "output_type": "display_data"
    }
   ],
   "source": [
    "display(df.describe().toPandas())"
   ]
  },
  {
   "cell_type": "markdown",
   "metadata": {},
   "source": [
    "`CustomerID` has many `na` value"
   ]
  },
  {
   "cell_type": "code",
   "execution_count": 84,
   "metadata": {},
   "outputs": [
    {
     "name": "stdout",
     "output_type": "stream",
     "text": [
      "+---------+---------+--------------------+--------+-------------------+---------+----------+--------------+----+---+\n",
      "|InvoiceNo|StockCode|         Description|Quantity|        InvoiceDate|UnitPrice|CustomerID|       Country|  Id|Id2|\n",
      "+---------+---------+--------------------+--------+-------------------+---------+----------+--------------+----+---+\n",
      "|   536544|    22375|AIRLINE BAG VINTA...|       2|2010-12-01 14:32:00|     8.47|      null|United Kingdom|1564|  3|\n",
      "|   536544|   35095A|BLUE VICTORIAN FA...|       2|2010-12-01 14:32:00|     0.84|      null|United Kingdom|1713|  6|\n",
      "|   536592|    22174|          PHOTO CUBE|       5|2010-12-01 17:06:00|     3.36|      null|United Kingdom|2666|  8|\n",
      "|   536544|    22335|HEART DECORATION ...|       4|2010-12-01 14:32:00|     1.28|      null|United Kingdom|1552|  9|\n",
      "|   536592|    85227|SET OF 6 3D KIT C...|       2|2010-12-01 17:06:00|     1.66|      null|United Kingdom|3009| 10|\n",
      "+---------+---------+--------------------+--------+-------------------+---------+----------+--------------+----+---+\n",
      "\n"
     ]
    }
   ],
   "source": [
    "df.where(\"CustomerID is null\").select(\"*\").limit(5).show()"
   ]
  },
  {
   "cell_type": "code",
   "execution_count": 85,
   "metadata": {},
   "outputs": [],
   "source": [
    "df_na = df.where(\"CustomerID is null\")"
   ]
  },
  {
   "cell_type": "code",
   "execution_count": 86,
   "metadata": {},
   "outputs": [
    {
     "name": "stdout",
     "output_type": "stream",
     "text": [
      "+---------+---------+--------------------+--------+-------------------+---------+----------+--------------+----+---+\n",
      "|InvoiceNo|StockCode|         Description|Quantity|        InvoiceDate|UnitPrice|CustomerID|       Country|  Id|Id2|\n",
      "+---------+---------+--------------------+--------+-------------------+---------+----------+--------------+----+---+\n",
      "|   536544|    22375|AIRLINE BAG VINTA...|       2|2010-12-01 14:32:00|     8.47|      null|United Kingdom|1564|  3|\n",
      "|   536544|   35095A|BLUE VICTORIAN FA...|       2|2010-12-01 14:32:00|     0.84|      null|United Kingdom|1713|  6|\n",
      "|   536592|    22174|          PHOTO CUBE|       5|2010-12-01 17:06:00|     3.36|      null|United Kingdom|2666|  8|\n",
      "|   536544|    22335|HEART DECORATION ...|       4|2010-12-01 14:32:00|     1.28|      null|United Kingdom|1552|  9|\n",
      "|   536592|    85227|SET OF 6 3D KIT C...|       2|2010-12-01 17:06:00|     1.66|      null|United Kingdom|3009| 10|\n",
      "+---------+---------+--------------------+--------+-------------------+---------+----------+--------------+----+---+\n",
      "only showing top 5 rows\n",
      "\n"
     ]
    }
   ],
   "source": [
    "df_na.show(5)"
   ]
  },
  {
   "cell_type": "code",
   "execution_count": 87,
   "metadata": {},
   "outputs": [
    {
     "data": {
      "text/plain": [
       "1140"
      ]
     },
     "execution_count": 87,
     "metadata": {},
     "output_type": "execute_result"
    }
   ],
   "source": [
    "df_na.count()"
   ]
  },
  {
   "cell_type": "code",
   "execution_count": 88,
   "metadata": {},
   "outputs": [
    {
     "data": {
      "text/plain": [
       "10"
      ]
     },
     "execution_count": 88,
     "metadata": {},
     "output_type": "execute_result"
    }
   ],
   "source": [
    "df_na.where(\"Description is null\").count()"
   ]
  },
  {
   "cell_type": "code",
   "execution_count": 89,
   "metadata": {},
   "outputs": [
    {
     "name": "stdout",
     "output_type": "stream",
     "text": [
      "root\n",
      " |-- InvoiceNo: string (nullable = true)\n",
      " |-- StockCode: string (nullable = true)\n",
      " |-- Description: string (nullable = true)\n",
      " |-- Quantity: integer (nullable = true)\n",
      " |-- InvoiceDate: string (nullable = true)\n",
      " |-- UnitPrice: double (nullable = true)\n",
      " |-- CustomerID: double (nullable = true)\n",
      " |-- Country: string (nullable = true)\n",
      " |-- Id: long (nullable = false)\n",
      " |-- Id2: long (nullable = false)\n",
      "\n"
     ]
    }
   ],
   "source": [
    "df_na.printSchema()"
   ]
  },
  {
   "cell_type": "code",
   "execution_count": 90,
   "metadata": {},
   "outputs": [],
   "source": [
    "fill_cols_vals = {\"CustomerID\": -9999, \"Description\" : \"MISSING_VALUE\"}\n",
    "df_na = df_na.na.fill(fill_cols_vals)"
   ]
  },
  {
   "cell_type": "code",
   "execution_count": 91,
   "metadata": {},
   "outputs": [
    {
     "data": {
      "text/plain": [
       "0"
      ]
     },
     "execution_count": 91,
     "metadata": {},
     "output_type": "execute_result"
    }
   ],
   "source": [
    "df_na.where(\"Description is null\").count()"
   ]
  },
  {
   "cell_type": "code",
   "execution_count": 92,
   "metadata": {},
   "outputs": [
    {
     "data": {
      "text/plain": [
       "0"
      ]
     },
     "execution_count": 92,
     "metadata": {},
     "output_type": "execute_result"
    }
   ],
   "source": [
    "df_na.where(\"CustomerID is null\").count()"
   ]
  },
  {
   "cell_type": "code",
   "execution_count": 93,
   "metadata": {},
   "outputs": [
    {
     "data": {
      "text/plain": [
       "DataFrame[InvoiceNo: string, StockCode: string, Description: string, Quantity: int, InvoiceDate: string, UnitPrice: double, CustomerID: double, Country: string, Id: bigint, Id2: bigint]"
      ]
     },
     "execution_count": 93,
     "metadata": {},
     "output_type": "execute_result"
    }
   ],
   "source": [
    "df_na.na.fill(\"all\", subset=[\"StockCode\", \"InvoiceNo\"])"
   ]
  },
  {
   "cell_type": "code",
   "execution_count": 94,
   "metadata": {},
   "outputs": [
    {
     "name": "stdout",
     "output_type": "stream",
     "text": [
      "+---------+---------+-------------+--------+-------------------+---------+----------+--------------+----+----------+\n",
      "|InvoiceNo|StockCode|Description  |Quantity|InvoiceDate        |UnitPrice|CustomerID|Country       |Id  |Id2       |\n",
      "+---------+---------+-------------+--------+-------------------+---------+----------+--------------+----+----------+\n",
      "|536554   |84670    |MISSING_VALUE|23      |2010-12-01 14:35:00|0.0      |-9999.0   |United Kingdom|2026|132       |\n",
      "|536547   |37509    |MISSING_VALUE|1       |2010-12-01 14:33:00|0.0      |-9999.0   |United Kingdom|1972|166       |\n",
      "|536550   |85044    |MISSING_VALUE|1       |2010-12-01 14:34:00|0.0      |-9999.0   |United Kingdom|1988|232       |\n",
      "|536549   |85226A   |MISSING_VALUE|1       |2010-12-01 14:34:00|0.0      |-9999.0   |United Kingdom|1987|345       |\n",
      "|536589   |21777    |MISSING_VALUE|-10     |2010-12-01 16:50:00|0.0      |-9999.0   |United Kingdom|2406|8589934739|\n",
      "+---------+---------+-------------+--------+-------------------+---------+----------+--------------+----+----------+\n",
      "only showing top 5 rows\n",
      "\n"
     ]
    }
   ],
   "source": [
    "df_na.filter(F.col(\"Description\") == \"MISSING_VALUE\").show(5,False)"
   ]
  },
  {
   "cell_type": "code",
   "execution_count": 95,
   "metadata": {},
   "outputs": [],
   "source": [
    "df_na = df_na.na.replace([-9999.0], [-11111], \"CustomerID\")"
   ]
  },
  {
   "cell_type": "code",
   "execution_count": 96,
   "metadata": {},
   "outputs": [
    {
     "name": "stdout",
     "output_type": "stream",
     "text": [
      "+---------+---------+---------------------------------+--------+-------------------+---------+----------+--------------+----+---+\n",
      "|InvoiceNo|StockCode|Description                      |Quantity|InvoiceDate        |UnitPrice|CustomerID|Country       |Id  |Id2|\n",
      "+---------+---------+---------------------------------+--------+-------------------+---------+----------+--------------+----+---+\n",
      "|536544   |22375    |AIRLINE BAG VINTAGE JET SET BROWN|2       |2010-12-01 14:32:00|8.47     |-11111.0  |United Kingdom|1564|3  |\n",
      "|536544   |35095A   |BLUE VICTORIAN FABRIC OVAL BOX   |2       |2010-12-01 14:32:00|0.84     |-11111.0  |United Kingdom|1713|6  |\n",
      "|536592   |22174    |PHOTO CUBE                       |5       |2010-12-01 17:06:00|3.36     |-11111.0  |United Kingdom|2666|8  |\n",
      "|536544   |22335    |HEART DECORATION PAINTED ZINC    |4       |2010-12-01 14:32:00|1.28     |-11111.0  |United Kingdom|1552|9  |\n",
      "|536592   |85227    |SET OF 6 3D KIT CARDS FOR KIDS   |2       |2010-12-01 17:06:00|1.66     |-11111.0  |United Kingdom|3009|10 |\n",
      "+---------+---------+---------------------------------+--------+-------------------+---------+----------+--------------+----+---+\n",
      "only showing top 5 rows\n",
      "\n"
     ]
    }
   ],
   "source": [
    "df_na.filter(F.col(\"CustomerID\") == -11111).show(5,False)"
   ]
  },
  {
   "cell_type": "markdown",
   "metadata": {},
   "source": [
    "### Complex type\n",
    "\n",
    "\n",
    "#### struct()\n",
    "\n",
    "combine multiple columns into array"
   ]
  },
  {
   "cell_type": "code",
   "execution_count": 97,
   "metadata": {},
   "outputs": [],
   "source": [
    "complexDF = df.select(F.struct(\"InvoiceNo\", \"Description\").alias(\"complex\"))\n",
    "\n",
    "complexDF.createOrReplaceTempView(\"complexDF\")"
   ]
  },
  {
   "cell_type": "code",
   "execution_count": 98,
   "metadata": {},
   "outputs": [
    {
     "name": "stdout",
     "output_type": "stream",
     "text": [
      "+----------------------------------------+\n",
      "|complex                                 |\n",
      "+----------------------------------------+\n",
      "|[536551, PLASTERS IN TIN STRONGMAN]     |\n",
      "|[536544, CREAM SWEETHEART LETTER RACK]  |\n",
      "|[536538, DOORMAT SPOTTY HOME SWEET HOME]|\n",
      "|[536592, LIPSTICK PEN BABY PINK]        |\n",
      "|[536544, RED BABY BUNTING ]             |\n",
      "+----------------------------------------+\n",
      "only showing top 5 rows\n",
      "\n"
     ]
    }
   ],
   "source": [
    "spark.sql(\"select * from complexDF\").show(5, False)"
   ]
  },
  {
   "cell_type": "markdown",
   "metadata": {},
   "source": [
    "#### split\n",
    "\n",
    "convert one column into array type"
   ]
  },
  {
   "cell_type": "code",
   "execution_count": 99,
   "metadata": {},
   "outputs": [
    {
     "name": "stdout",
     "output_type": "stream",
     "text": [
      "+----------------------------------+----------------------------------------+\n",
      "|Description                       |desc_words                              |\n",
      "+----------------------------------+----------------------------------------+\n",
      "|MODERN FLORAL STATIONERY SET      |[MODERN, FLORAL, STATIONERY, SET]       |\n",
      "|CERAMIC STRAWBERRY CAKE MONEY BANK|[CERAMIC, STRAWBERRY, CAKE, MONEY, BANK]|\n",
      "+----------------------------------+----------------------------------------+\n",
      "only showing top 2 rows\n",
      "\n"
     ]
    }
   ],
   "source": [
    "df.select(\"Description\", F.split(F.col(\"Description\"), \" \").alias(\"desc_words\")).show(2, False)"
   ]
  },
  {
   "cell_type": "code",
   "execution_count": 100,
   "metadata": {},
   "outputs": [
    {
     "data": {
      "text/html": [
       "<div>\n",
       "<style scoped>\n",
       "    .dataframe tbody tr th:only-of-type {\n",
       "        vertical-align: middle;\n",
       "    }\n",
       "\n",
       "    .dataframe tbody tr th {\n",
       "        vertical-align: top;\n",
       "    }\n",
       "\n",
       "    .dataframe thead th {\n",
       "        text-align: right;\n",
       "    }\n",
       "</style>\n",
       "<table border=\"1\" class=\"dataframe\">\n",
       "  <thead>\n",
       "    <tr style=\"text-align: right;\">\n",
       "      <th></th>\n",
       "      <th>Description</th>\n",
       "      <th>array_col</th>\n",
       "      <th>array_col[0]</th>\n",
       "      <th>array_col[1]</th>\n",
       "    </tr>\n",
       "  </thead>\n",
       "  <tbody>\n",
       "    <tr>\n",
       "      <th>0</th>\n",
       "      <td>MODERN FLORAL STATIONERY SET</td>\n",
       "      <td>[MODERN, FLORAL, STATIONERY, SET]</td>\n",
       "      <td>MODERN</td>\n",
       "      <td>FLORAL</td>\n",
       "    </tr>\n",
       "    <tr>\n",
       "      <th>1</th>\n",
       "      <td>CERAMIC STRAWBERRY CAKE MONEY BANK</td>\n",
       "      <td>[CERAMIC, STRAWBERRY, CAKE, MONEY, BANK]</td>\n",
       "      <td>CERAMIC</td>\n",
       "      <td>STRAWBERRY</td>\n",
       "    </tr>\n",
       "    <tr>\n",
       "      <th>2</th>\n",
       "      <td>CERAMIC STRAWBERRY CAKE MONEY BANK</td>\n",
       "      <td>[CERAMIC, STRAWBERRY, CAKE, MONEY, BANK]</td>\n",
       "      <td>CERAMIC</td>\n",
       "      <td>STRAWBERRY</td>\n",
       "    </tr>\n",
       "    <tr>\n",
       "      <th>3</th>\n",
       "      <td>SWEETHEART CERAMIC TRINKET BOX</td>\n",
       "      <td>[SWEETHEART, CERAMIC, TRINKET, BOX]</td>\n",
       "      <td>SWEETHEART</td>\n",
       "      <td>CERAMIC</td>\n",
       "    </tr>\n",
       "    <tr>\n",
       "      <th>4</th>\n",
       "      <td>SWEETHEART CERAMIC TRINKET BOX</td>\n",
       "      <td>[SWEETHEART, CERAMIC, TRINKET, BOX]</td>\n",
       "      <td>SWEETHEART</td>\n",
       "      <td>CERAMIC</td>\n",
       "    </tr>\n",
       "    <tr>\n",
       "      <th>...</th>\n",
       "      <td>...</td>\n",
       "      <td>...</td>\n",
       "      <td>...</td>\n",
       "      <td>...</td>\n",
       "    </tr>\n",
       "    <tr>\n",
       "      <th>3103</th>\n",
       "      <td>PAPER CHAIN KIT VINTAGE CHRISTMAS</td>\n",
       "      <td>[PAPER, CHAIN, KIT, VINTAGE, CHRISTMAS]</td>\n",
       "      <td>PAPER</td>\n",
       "      <td>CHAIN</td>\n",
       "    </tr>\n",
       "    <tr>\n",
       "      <th>3104</th>\n",
       "      <td>PAPER CHAIN KIT VINTAGE CHRISTMAS</td>\n",
       "      <td>[PAPER, CHAIN, KIT, VINTAGE, CHRISTMAS]</td>\n",
       "      <td>PAPER</td>\n",
       "      <td>CHAIN</td>\n",
       "    </tr>\n",
       "    <tr>\n",
       "      <th>3105</th>\n",
       "      <td>PAPER CHAIN KIT VINTAGE CHRISTMAS</td>\n",
       "      <td>[PAPER, CHAIN, KIT, VINTAGE, CHRISTMAS]</td>\n",
       "      <td>PAPER</td>\n",
       "      <td>CHAIN</td>\n",
       "    </tr>\n",
       "    <tr>\n",
       "      <th>3106</th>\n",
       "      <td>PACK OF 6 BIRDY GIFT TAGS</td>\n",
       "      <td>[PACK, OF, 6, BIRDY, GIFT, TAGS]</td>\n",
       "      <td>PACK</td>\n",
       "      <td>OF</td>\n",
       "    </tr>\n",
       "    <tr>\n",
       "      <th>3107</th>\n",
       "      <td>METAL SIGN EMPIRE TEA</td>\n",
       "      <td>[METAL, SIGN, EMPIRE, TEA]</td>\n",
       "      <td>METAL</td>\n",
       "      <td>SIGN</td>\n",
       "    </tr>\n",
       "  </tbody>\n",
       "</table>\n",
       "<p>3108 rows × 4 columns</p>\n",
       "</div>"
      ],
      "text/plain": [
       "                             Description  \\\n",
       "0           MODERN FLORAL STATIONERY SET   \n",
       "1     CERAMIC STRAWBERRY CAKE MONEY BANK   \n",
       "2     CERAMIC STRAWBERRY CAKE MONEY BANK   \n",
       "3         SWEETHEART CERAMIC TRINKET BOX   \n",
       "4         SWEETHEART CERAMIC TRINKET BOX   \n",
       "...                                  ...   \n",
       "3103   PAPER CHAIN KIT VINTAGE CHRISTMAS   \n",
       "3104   PAPER CHAIN KIT VINTAGE CHRISTMAS   \n",
       "3105   PAPER CHAIN KIT VINTAGE CHRISTMAS   \n",
       "3106           PACK OF 6 BIRDY GIFT TAGS   \n",
       "3107               METAL SIGN EMPIRE TEA   \n",
       "\n",
       "                                     array_col array_col[0] array_col[1]  \n",
       "0            [MODERN, FLORAL, STATIONERY, SET]       MODERN       FLORAL  \n",
       "1     [CERAMIC, STRAWBERRY, CAKE, MONEY, BANK]      CERAMIC   STRAWBERRY  \n",
       "2     [CERAMIC, STRAWBERRY, CAKE, MONEY, BANK]      CERAMIC   STRAWBERRY  \n",
       "3          [SWEETHEART, CERAMIC, TRINKET, BOX]   SWEETHEART      CERAMIC  \n",
       "4          [SWEETHEART, CERAMIC, TRINKET, BOX]   SWEETHEART      CERAMIC  \n",
       "...                                        ...          ...          ...  \n",
       "3103   [PAPER, CHAIN, KIT, VINTAGE, CHRISTMAS]        PAPER        CHAIN  \n",
       "3104   [PAPER, CHAIN, KIT, VINTAGE, CHRISTMAS]        PAPER        CHAIN  \n",
       "3105   [PAPER, CHAIN, KIT, VINTAGE, CHRISTMAS]        PAPER        CHAIN  \n",
       "3106          [PACK, OF, 6, BIRDY, GIFT, TAGS]         PACK           OF  \n",
       "3107                [METAL, SIGN, EMPIRE, TEA]        METAL         SIGN  \n",
       "\n",
       "[3108 rows x 4 columns]"
      ]
     },
     "metadata": {},
     "output_type": "display_data"
    }
   ],
   "source": [
    "df_tmp = (df.withColumn(\"array_col\", F.split(F.col(\"Description\"), \" \"))\n",
    "    .selectExpr(\"Description\", \"array_col\", \"array_col[0]\",\"array_col[1]\"))\n",
    "display(df_tmp.toPandas())"
   ]
  },
  {
   "cell_type": "markdown",
   "metadata": {},
   "source": [
    "#### size()\n",
    "\n",
    "array size"
   ]
  },
  {
   "cell_type": "code",
   "execution_count": 101,
   "metadata": {},
   "outputs": [
    {
     "name": "stdout",
     "output_type": "stream",
     "text": [
      "+----------------------------------+--------+\n",
      "|Description                       |arr_size|\n",
      "+----------------------------------+--------+\n",
      "|MODERN FLORAL STATIONERY SET      |4       |\n",
      "|CERAMIC STRAWBERRY CAKE MONEY BANK|5       |\n",
      "+----------------------------------+--------+\n",
      "only showing top 2 rows\n",
      "\n"
     ]
    }
   ],
   "source": [
    "df.select(\"Description\",\n",
    "    F.size(F.split(F.col(\"Description\"), \" \")).alias(\"arr_size\"))\\\n",
    "    .show(2, False) # shows 5 and 3"
   ]
  },
  {
   "cell_type": "markdown",
   "metadata": {},
   "source": [
    "#### array_contains\n",
    "\n",
    "find an element in an array"
   ]
  },
  {
   "cell_type": "code",
   "execution_count": 102,
   "metadata": {},
   "outputs": [
    {
     "name": "stdout",
     "output_type": "stream",
     "text": [
      "+----------------------------------+---------+\n",
      "|Description                       |has_white|\n",
      "+----------------------------------+---------+\n",
      "|MODERN FLORAL STATIONERY SET      |false    |\n",
      "|CERAMIC STRAWBERRY CAKE MONEY BANK|false    |\n",
      "+----------------------------------+---------+\n",
      "only showing top 2 rows\n",
      "\n"
     ]
    }
   ],
   "source": [
    "df.select(\"Description\",\n",
    "        F.array_contains(F.split(F.col(\"Description\"), \" \"), \"WHITE\").alias(\"has_white\")\n",
    "    ).show(2,False)"
   ]
  },
  {
   "cell_type": "markdown",
   "metadata": {},
   "source": [
    "#### explode\n",
    "\n",
    "denorm array column"
   ]
  },
  {
   "cell_type": "code",
   "execution_count": 103,
   "metadata": {},
   "outputs": [
    {
     "name": "stdout",
     "output_type": "stream",
     "text": [
      "+------------------------------+---------+----------+\n",
      "|Description                   |InvoiceNo|exploded  |\n",
      "+------------------------------+---------+----------+\n",
      "|PLASTERS IN TIN STRONGMAN     |536551   |PLASTERS  |\n",
      "|PLASTERS IN TIN STRONGMAN     |536551   |IN        |\n",
      "|PLASTERS IN TIN STRONGMAN     |536551   |TIN       |\n",
      "|PLASTERS IN TIN STRONGMAN     |536551   |STRONGMAN |\n",
      "|CREAM SWEETHEART LETTER RACK  |536544   |CREAM     |\n",
      "|CREAM SWEETHEART LETTER RACK  |536544   |SWEETHEART|\n",
      "|CREAM SWEETHEART LETTER RACK  |536544   |LETTER    |\n",
      "|CREAM SWEETHEART LETTER RACK  |536544   |RACK      |\n",
      "|DOORMAT SPOTTY HOME SWEET HOME|536538   |DOORMAT   |\n",
      "|DOORMAT SPOTTY HOME SWEET HOME|536538   |SPOTTY    |\n",
      "+------------------------------+---------+----------+\n",
      "only showing top 10 rows\n",
      "\n"
     ]
    }
   ],
   "source": [
    "df.withColumn(\"splitted\", F.split(F.col(\"Description\"), \" \"))\\\n",
    "  .withColumn(\"exploded\", F.explode(F.col(\"splitted\")))\\\n",
    "  .select(\"Description\", \"InvoiceNo\", \"exploded\")\\\n",
    "  .show(10, False)"
   ]
  },
  {
   "cell_type": "markdown",
   "metadata": {},
   "source": [
    "#### map\n",
    "\n",
    "create a hash map between 2 columns"
   ]
  },
  {
   "cell_type": "code",
   "execution_count": 104,
   "metadata": {},
   "outputs": [
    {
     "name": "stdout",
     "output_type": "stream",
     "text": [
      "+------------------------------+---------+------------------------------------------+\n",
      "|Description                   |InvoiceNo|complex_map                               |\n",
      "+------------------------------+---------+------------------------------------------+\n",
      "|PLASTERS IN TIN STRONGMAN     |536551   |[PLASTERS IN TIN STRONGMAN -> 536551]     |\n",
      "|CREAM SWEETHEART LETTER RACK  |536544   |[CREAM SWEETHEART LETTER RACK -> 536544]  |\n",
      "|DOORMAT SPOTTY HOME SWEET HOME|536538   |[DOORMAT SPOTTY HOME SWEET HOME -> 536538]|\n",
      "|LIPSTICK PEN BABY PINK        |536592   |[LIPSTICK PEN BABY PINK -> 536592]        |\n",
      "|RED BABY BUNTING              |536544   |[RED BABY BUNTING  -> 536544]             |\n",
      "+------------------------------+---------+------------------------------------------+\n",
      "only showing top 5 rows\n",
      "\n"
     ]
    }
   ],
   "source": [
    "df.select(\"Description\", \"InvoiceNo\", F.create_map(F.col(\"Description\"), F.col(\"InvoiceNo\")).alias(\"complex_map\"))\\\n",
    "  .show(5, False)"
   ]
  },
  {
   "cell_type": "code",
   "execution_count": 105,
   "metadata": {},
   "outputs": [
    {
     "name": "stdout",
     "output_type": "stream",
     "text": [
      "+--------------------------------+\n",
      "|complex_map[WHITE METAL LANTERN]|\n",
      "+--------------------------------+\n",
      "|                            null|\n",
      "|                            null|\n",
      "+--------------------------------+\n",
      "only showing top 2 rows\n",
      "\n"
     ]
    }
   ],
   "source": [
    "df.select(F.create_map(F.col(\"Description\"), F.col(\"InvoiceNo\")).alias(\"complex_map\"))\\\n",
    "  .selectExpr(\"complex_map['WHITE METAL LANTERN']\")\\\n",
    "    .show(2)"
   ]
  },
  {
   "cell_type": "code",
   "execution_count": 106,
   "metadata": {},
   "outputs": [
    {
     "name": "stdout",
     "output_type": "stream",
     "text": [
      "+----------------------------+---------+----------------------------+------+\n",
      "|Description                 |InvoiceNo|key                         |value |\n",
      "+----------------------------+---------+----------------------------+------+\n",
      "|PLASTERS IN TIN STRONGMAN   |536551   |PLASTERS IN TIN STRONGMAN   |536551|\n",
      "|CREAM SWEETHEART LETTER RACK|536544   |CREAM SWEETHEART LETTER RACK|536544|\n",
      "+----------------------------+---------+----------------------------+------+\n",
      "only showing top 2 rows\n",
      "\n"
     ]
    }
   ],
   "source": [
    "df.withColumn(\"complex_map\", F.create_map(F.col(\"Description\"), F.col(\"InvoiceNo\")))\\\n",
    "    .selectExpr(\"Description\", \"InvoiceNo\", \"explode(complex_map)\")\\\n",
    "    .show(2, False)"
   ]
  },
  {
   "cell_type": "markdown",
   "metadata": {},
   "source": [
    "### Json"
   ]
  },
  {
   "cell_type": "code",
   "execution_count": 52,
   "metadata": {},
   "outputs": [],
   "source": [
    "jsonDF = spark.range(1).selectExpr(\"\"\"\n",
    "  '{\"myJSONKey\" : {\"myJSONValue\" : [1, 2, 3]}}' as jsonString\"\"\")\n"
   ]
  },
  {
   "cell_type": "code",
   "execution_count": 53,
   "metadata": {},
   "outputs": [
    {
     "name": "stdout",
     "output_type": "stream",
     "text": [
      "+-------------------------------------------+\n",
      "|jsonString                                 |\n",
      "+-------------------------------------------+\n",
      "|{\"myJSONKey\" : {\"myJSONValue\" : [1, 2, 3]}}|\n",
      "+-------------------------------------------+\n",
      "\n"
     ]
    }
   ],
   "source": [
    "jsonDF.show(2, False)"
   ]
  },
  {
   "cell_type": "code",
   "execution_count": 33,
   "metadata": {},
   "outputs": [
    {
     "name": "stdout",
     "output_type": "stream",
     "text": [
      "+------+-----------------------+\n",
      "|column|c0                     |\n",
      "+------+-----------------------+\n",
      "|2     |{\"myJSONValue\":[1,2,3]}|\n",
      "+------+-----------------------+\n",
      "\n"
     ]
    }
   ],
   "source": [
    "jsonDF.select(\n",
    "    F.get_json_object(F.col(\"jsonString\"), \"$.myJSONKey.myJSONValue[1]\").alias(\"column\"),\n",
    "    F.json_tuple(F.col(\"jsonString\"), \"myJSONKey\")\n",
    "    ).show(2, False)"
   ]
  },
  {
   "cell_type": "markdown",
   "metadata": {},
   "source": [
    "### pack columns into json"
   ]
  },
  {
   "cell_type": "code",
   "execution_count": 34,
   "metadata": {},
   "outputs": [
    {
     "name": "stdout",
     "output_type": "stream",
     "text": [
      "+-------------------------------------------------------------------------+\n",
      "|structstojson(myStruct)                                                  |\n",
      "+-------------------------------------------------------------------------+\n",
      "|{\"InvoiceNo\":\"536365\",\"Description\":\"WHITE HANGING HEART T-LIGHT HOLDER\"}|\n",
      "|{\"InvoiceNo\":\"536365\",\"Description\":\"WHITE METAL LANTERN\"}               |\n",
      "|{\"InvoiceNo\":\"536365\",\"Description\":\"CREAM CUPID HEARTS COAT HANGER\"}    |\n",
      "+-------------------------------------------------------------------------+\n",
      "only showing top 3 rows\n",
      "\n"
     ]
    }
   ],
   "source": [
    "df.selectExpr(\"(InvoiceNo, Description) as myStruct\")\\\n",
    "  .select(F.to_json(F.col(\"myStruct\")))\\\n",
    "  .show(3, False)"
   ]
  },
  {
   "cell_type": "code",
   "execution_count": 35,
   "metadata": {},
   "outputs": [
    {
     "name": "stdout",
     "output_type": "stream",
     "text": [
      "+--------------------------------------------+-------------------------------------------------------------------------+\n",
      "|old_json                                    |newJSON                                                                  |\n",
      "+--------------------------------------------+-------------------------------------------------------------------------+\n",
      "|[536365, WHITE HANGING HEART T-LIGHT HOLDER]|{\"InvoiceNo\":\"536365\",\"Description\":\"WHITE HANGING HEART T-LIGHT HOLDER\"}|\n",
      "|[536365, WHITE METAL LANTERN]               |{\"InvoiceNo\":\"536365\",\"Description\":\"WHITE METAL LANTERN\"}               |\n",
      "+--------------------------------------------+-------------------------------------------------------------------------+\n",
      "only showing top 2 rows\n",
      "\n"
     ]
    }
   ],
   "source": [
    "parseSchema = StructType((\n",
    "  StructField(\"InvoiceNo\",StringType(),True),\n",
    "  StructField(\"Description\",StringType(),True)))\n",
    "\n",
    "df.selectExpr(\"(InvoiceNo, Description) as myStruct\")\\\n",
    "  .select(F.to_json(F.col(\"myStruct\")).alias(\"newJSON\"))\\\n",
    "  .select(F.from_json(F.col(\"newJSON\"), parseSchema).alias(\"old_json\"), F.col(\"newJSON\"))\\\n",
    "    .show(2, False)"
   ]
  },
  {
   "cell_type": "markdown",
   "metadata": {},
   "source": [
    "### udf()\n",
    "\n",
    "user-defined function"
   ]
  },
  {
   "cell_type": "code",
   "execution_count": 108,
   "metadata": {},
   "outputs": [],
   "source": [
    "udfExampleDF = spark.range(5).toDF(\"num\")"
   ]
  },
  {
   "cell_type": "code",
   "execution_count": 109,
   "metadata": {},
   "outputs": [
    {
     "data": {
      "text/plain": [
       "8.0"
      ]
     },
     "execution_count": 109,
     "metadata": {},
     "output_type": "execute_result"
    }
   ],
   "source": [
    "def power3(double_value):\n",
    "  return float(double_value ** 3)\n",
    "power3(2.0)"
   ]
  },
  {
   "cell_type": "code",
   "execution_count": 119,
   "metadata": {},
   "outputs": [],
   "source": [
    "power3udf = F.udf(power3, FloatType())\n",
    "# this udf is available to dataframe, not to SQL"
   ]
  },
  {
   "cell_type": "code",
   "execution_count": 120,
   "metadata": {},
   "outputs": [
    {
     "name": "stdout",
     "output_type": "stream",
     "text": [
      "+--------+\n",
      "|function|\n",
      "+--------+\n",
      "|power3py|\n",
      "+--------+\n",
      "\n"
     ]
    }
   ],
   "source": [
    "spark.sql(\"show user functions like 'power*'\").show()"
   ]
  },
  {
   "cell_type": "code",
   "execution_count": 114,
   "metadata": {},
   "outputs": [
    {
     "name": "stdout",
     "output_type": "stream",
     "text": [
      "+---+---------+\n",
      "|num|num_cubed|\n",
      "+---+---------+\n",
      "|  0|      0.0|\n",
      "|  1|      1.0|\n",
      "|  2|      8.0|\n",
      "|  3|     27.0|\n",
      "|  4|     64.0|\n",
      "+---+---------+\n",
      "\n"
     ]
    }
   ],
   "source": [
    "udfExampleDF\\\n",
    "    .select(\"num\", power3udf(F.col(\"num\")).alias(\"num_cubed\"))\\\n",
    "    .show(6)"
   ]
  },
  {
   "cell_type": "markdown",
   "metadata": {},
   "source": [
    "register `udf` to be available to SQL query"
   ]
  },
  {
   "cell_type": "code",
   "execution_count": 115,
   "metadata": {},
   "outputs": [
    {
     "data": {
      "text/plain": [
       "<function __main__.power3(double_value)>"
      ]
     },
     "execution_count": 115,
     "metadata": {},
     "output_type": "execute_result"
    }
   ],
   "source": [
    "spark.udf.register(\"power3py\", power3, DoubleType())\n",
    "# this udf is available to SQL"
   ]
  },
  {
   "cell_type": "code",
   "execution_count": 116,
   "metadata": {},
   "outputs": [
    {
     "name": "stdout",
     "output_type": "stream",
     "text": [
      "+--------+\n",
      "|function|\n",
      "+--------+\n",
      "|power3py|\n",
      "+--------+\n",
      "\n"
     ]
    }
   ],
   "source": [
    "spark.sql(\"show user functions like 'power*'\").show()"
   ]
  },
  {
   "cell_type": "code",
   "execution_count": 117,
   "metadata": {},
   "outputs": [
    {
     "name": "stdout",
     "output_type": "stream",
     "text": [
      "+---+-------------+\n",
      "| 10|power3py(100)|\n",
      "+---+-------------+\n",
      "| 10|    1000000.0|\n",
      "+---+-------------+\n",
      "\n"
     ]
    }
   ],
   "source": [
    "spark.sql(\"select 10, power3py(100)\").show()"
   ]
  },
  {
   "cell_type": "code",
   "execution_count": 118,
   "metadata": {},
   "outputs": [
    {
     "name": "stdout",
     "output_type": "stream",
     "text": [
      "+-------------+\n",
      "|power3py(num)|\n",
      "+-------------+\n",
      "|          0.0|\n",
      "|          1.0|\n",
      "|          8.0|\n",
      "|         27.0|\n",
      "|         64.0|\n",
      "+-------------+\n",
      "\n"
     ]
    }
   ],
   "source": [
    "udfExampleDF.selectExpr(\"power3py(num)\").show(5)"
   ]
  },
  {
   "cell_type": "code",
   "execution_count": null,
   "metadata": {},
   "outputs": [],
   "source": []
  }
 ],
 "metadata": {
  "kernelspec": {
   "display_name": "Python 3",
   "language": "python",
   "name": "python3"
  },
  "language_info": {
   "codemirror_mode": {
    "name": "ipython",
    "version": 3
   },
   "file_extension": ".py",
   "mimetype": "text/x-python",
   "name": "python",
   "nbconvert_exporter": "python",
   "pygments_lexer": "ipython3",
   "version": "3.8.5"
  }
 },
 "nbformat": 4,
 "nbformat_minor": 2
}
