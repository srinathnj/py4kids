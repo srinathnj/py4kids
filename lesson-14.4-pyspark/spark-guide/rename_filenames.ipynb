{
 "cells": [
  {
   "cell_type": "code",
   "execution_count": 1,
   "metadata": {},
   "outputs": [],
   "source": [
    "import glob"
   ]
  },
  {
   "cell_type": "code",
   "execution_count": 15,
   "metadata": {},
   "outputs": [],
   "source": [
    "import os"
   ]
  },
  {
   "cell_type": "code",
   "execution_count": 16,
   "metadata": {},
   "outputs": [],
   "source": [
    "files = glob.glob(\"*\")"
   ]
  },
  {
   "cell_type": "code",
   "execution_count": 17,
   "metadata": {},
   "outputs": [],
   "source": [
    "for f in files:\n",
    "    has_chapter = False\n",
    "    lst = f.split(\"_\")\n",
    "    for j in range(len(lst)):\n",
    "        if \"Chapter\" in lst[j]:\n",
    "            chapter_str = lst[j]\n",
    "            chapter_j = j\n",
    "            has_chapter = True\n",
    "            break\n",
    "    if has_chapter:\n",
    "        chapter_str = chapter_str.replace(\"Chapter\", \"\")\n",
    "        chapter_str = chapter_str.replace(\"-\", \"\")\n",
    "        chapter_id = lst[chapter_j+1]\n",
    "        chapter_id = chapter_id.zfill(2)\n",
    "        words = lst[:chapter_j] + [chapter_str] + lst[(chapter_j+2):]\n",
    "        f_new = \"Chapter_\" + chapter_id + \"_\" + \"_\".join(words)\n",
    "        # print(f\"\\n>>> os.rename {f} {f_new}\")\n",
    "        os.rename(f, f_new)\n",
    "    "
   ]
  },
  {
   "cell_type": "code",
   "execution_count": 4,
   "metadata": {},
   "outputs": [],
   "source": [
    "l1 = [1,2,3]\n",
    "l2 = ['a','b']"
   ]
  },
  {
   "cell_type": "code",
   "execution_count": 5,
   "metadata": {},
   "outputs": [
    {
     "data": {
      "text/plain": [
       "[1, 2, 3, 'a', 'b']"
      ]
     },
     "execution_count": 5,
     "metadata": {},
     "output_type": "execute_result"
    }
   ],
   "source": [
    "l1 + l2"
   ]
  },
  {
   "cell_type": "code",
   "execution_count": null,
   "metadata": {},
   "outputs": [],
   "source": []
  }
 ],
 "metadata": {
  "kernelspec": {
   "display_name": "Python 3",
   "language": "python",
   "name": "python3"
  },
  "language_info": {
   "codemirror_mode": {
    "name": "ipython",
    "version": 3
   },
   "file_extension": ".py",
   "mimetype": "text/x-python",
   "name": "python",
   "nbconvert_exporter": "python",
   "pygments_lexer": "ipython3",
   "version": "3.7.3"
  }
 },
 "nbformat": 4,
 "nbformat_minor": 2
}
