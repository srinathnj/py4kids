{
 "cells": [
  {
   "cell_type": "markdown",
   "metadata": {},
   "source": [
    "change rsi_avg color \n",
    "- https://code.luasoftware.com/tutorials/algo-trading/mplfinance-change-color-depending-on-value-is-positive-or-negative/"
   ]
  },
  {
   "cell_type": "markdown",
   "metadata": {},
   "source": [
    "---\n",
    "\n",
    "# RSI study of  winning stocks \n",
    "\n",
    "---\n"
   ]
  },
  {
   "cell_type": "code",
   "execution_count": 1,
   "metadata": {},
   "outputs": [],
   "source": [
    "# This allows multiple outputs from a single jupyter notebook cell:\n",
    "from IPython.core.interactiveshell import InteractiveShell\n",
    "InteractiveShell.ast_node_interactivity = \"all\""
   ]
  },
  {
   "cell_type": "code",
   "execution_count": 2,
   "metadata": {},
   "outputs": [],
   "source": [
    "%matplotlib inline\n",
    "import pandas as pd\n",
    "import numpy as np"
   ]
  },
  {
   "cell_type": "code",
   "execution_count": 3,
   "metadata": {
    "scrolled": false
   },
   "outputs": [
    {
     "data": {
      "text/plain": [
       "'0.12.8b9'"
      ]
     },
     "execution_count": 3,
     "metadata": {},
     "output_type": "execute_result"
    }
   ],
   "source": [
    "import mplfinance as mpf\n",
    "mpf.__version__\n",
    "# mpf.plot(df,volume=True,type='candle')\n"
   ]
  },
  {
   "cell_type": "code",
   "execution_count": 4,
   "metadata": {},
   "outputs": [],
   "source": [
    "\n",
    "RSI_PERIOD, RSI_AVG = 100, 25\n",
    "band_width = 1.0\n",
    "EMA_FAST, EMA_SLOW, EMA_LONG = 15, 50, 150\n",
    "EMA_FAST_SCALE = 1.1  # EMA10 band half-width factor\n",
    "EMA_SLOW_SCALE = 2.0 \n",
    "MA_VOL = 20\n",
    "PANID_PRICE, PANID_VOL, PANID_RSI = 0, 1, 2"
   ]
  },
  {
   "cell_type": "code",
   "execution_count": 8,
   "metadata": {},
   "outputs": [],
   "source": [
    "def _ta_RSI(df, n=14):\n",
    "    # https://github.com/wgong/mplfinance/blob/master/examples/rsi.py\n",
    "    diff = df.w_p.diff().values\n",
    "    gains = diff\n",
    "    losses = -diff\n",
    "    with np.errstate(invalid='ignore'):\n",
    "        gains[(gains<0)|np.isnan(gains)] = 0.0\n",
    "        losses[(losses<=0)|np.isnan(losses)] = 1e-10 # we don't want divide by zero/NaN\n",
    "    m = (n-1) / n\n",
    "    ni = 1 / n\n",
    "    g = gains[n] = np.nanmean(gains[:n])\n",
    "    l = losses[n] = np.nanmean(losses[:n])\n",
    "    gains[:n] = losses[:n] = np.nan\n",
    "    for i,v in enumerate(gains[n:],n):\n",
    "        g = gains[i] = ni*v + m*g\n",
    "    for i,v in enumerate(losses[n:],n):\n",
    "        l = losses[i] = ni*v + m*l\n",
    "    rs = gains / losses\n",
    "    return 100 - (100/(1+rs)) - 50\n",
    "\n",
    "def load_stooq_data(ticker):\n",
    "    df = pd.read_csv(f'data/{ticker}.us.txt',index_col=2,parse_dates=True)\n",
    "    df.reset_index(inplace=True)\n",
    "    df.drop(columns=['<TICKER>', '<PER>', '<TIME>','<OPENINT>'], axis=1, inplace=True)\n",
    "    df.rename(columns={'<DATE>' : \"Date\", '<OPEN>': \"Open\", '<HIGH>':\"High\", \n",
    "                   '<LOW>':\"Low\", '<CLOSE>':\"Close\", '<VOL>':\"Volume\"} ,inplace=True)\n",
    "    df.set_index(\"Date\", inplace=True)\n",
    "    return df\n",
    "\n",
    "\n",
    "\n",
    "def calculate_ta(df):\n",
    "    \n",
    "    df[\"w_p\"] = 0.25*(2*df[\"Close\"] + df[\"High\"] + df[\"Low\"])\n",
    "    df[\"ema_fast\"] = df.w_p.ewm(span=EMA_FAST).mean()\n",
    "    df[\"ema_slow\"] = df.w_p.ewm(span=EMA_SLOW).mean()\n",
    "    df[\"ema_long\"] = df.w_p.ewm(span=EMA_LONG).mean()\n",
    "\n",
    "    # range\n",
    "    hl_mean_fast = (df.High - df.Low).ewm(span=int(EMA_FAST/2)).mean()\n",
    "    df[\"ema_fast_u\"] =  df.ema_fast + 0.5*hl_mean_fast * EMA_FAST_SCALE\n",
    "    df[\"ema_fast_d\"] =  df.ema_fast - 0.5*hl_mean_fast * EMA_FAST_SCALE\n",
    "\n",
    "    hl_mean_slow = (df.High - df.Low).ewm(span=int(EMA_SLOW/2)).mean()\n",
    "    df[\"ema_slow_u\"] =  df.ema_slow + 0.5*hl_mean_slow * EMA_SLOW_SCALE\n",
    "    df[\"ema_slow_d\"] =  df.ema_slow - 0.5*hl_mean_slow * EMA_SLOW_SCALE\n",
    "\n",
    "    # trim volume to avoid exponential form\n",
    "    df['Volume'] = df['Volume'] / 1000000\n",
    "    df[\"vol_avg\"] = df.Volume.ewm(span=MA_VOL).mean()\n",
    "\n",
    "    df[\"rsi\"] = _ta_RSI(df,n=RSI_PERIOD)\n",
    "\n",
    "    df[\"rsi_avg\"] = df.rsi.ewm(span=RSI_AVG).mean()\n",
    "    df[\"rsi_u\"] = df[\"rsi_avg\"] + band_width \n",
    "    df[\"rsi_d\"] = df['rsi_avg'] - band_width \n",
    "\n",
    "    return df\n",
    "\n",
    "def _title_xy(ticker):\n",
    "    # position title manually\n",
    "    return {\"title\": f\"{ticker.upper()}\",  \"x\": 0.75, \"y\": 0.95}\n",
    "\n",
    "def gen_chart(df_1, ticker, num, panid_price=PANID_PRICE, panid_vol=PANID_VOL, panid_rsi=PANID_RSI):\n",
    "    light_black = '#8F8E83'\n",
    "\n",
    "    ema_fast_u_plot = mpf.make_addplot(df_1[\"ema_fast_u\"], panel=panid_price, color=light_black, linestyle=\"solid\")\n",
    "    ema_fast_d_plot = mpf.make_addplot(df_1[\"ema_fast_d\"], panel=panid_price, color=light_black, linestyle=\"solid\")\n",
    "    ema_slow_plot = mpf.make_addplot(df_1[\"ema_slow\"], panel=panid_price, color='red', linestyle=\"solid\")\n",
    "\n",
    "    ema_long_plot = mpf.make_addplot(df_1[\"ema_long\"], panel=panid_price, width=3, color='b')  # magenta\n",
    "    \n",
    "    rsi_min = df_1.min(axis=0)[[\"rsi\"]].min()\n",
    "    rsi_max = df_1.max(axis=0)[[\"rsi\"]].max()\n",
    "\n",
    "    # change rsi_avg color \n",
    "    rsi_colors = ['#DCF7E5' if v >= 0 else '#F7D0CA'  for v in df_1[\"rsi_avg\"]]\n",
    "    rsi_avg_plot = mpf.make_addplot(df_1[\"rsi_avg\"], panel=panid_rsi, type=\"bar\", color=rsi_colors, \n",
    "                                    ylim=(rsi_min,rsi_max))\n",
    "    rsi_avg_plot2 = mpf.make_addplot(df_1[\"rsi_avg\"], panel=panid_rsi, color=\"r\", width=2, linestyle=\"solid\",\n",
    "                                    ylim=(rsi_min,rsi_max))\n",
    "    \n",
    "    rsi_plot = mpf.make_addplot(df_1[\"rsi\"], panel=panid_rsi, color='black', width=1, #title=f\"{ticker}-RSI\",\n",
    "                                fill_between=dict(y1=df_1[\"rsi_d\"].values,y2=df_1[\"rsi_u\"].values,alpha=0.15,color='b'),\n",
    "                                ylim=(rsi_min,rsi_max))\n",
    "    # volume\n",
    "    vol_avg_plot = mpf.make_addplot(df_1[\"vol_avg\"], panel=panid_vol, color='k')\n",
    "\n",
    "    plots = [\n",
    "            # panel-0\n",
    "            ema_fast_u_plot, ema_fast_d_plot, \n",
    "            ema_slow_plot, ema_long_plot , # ema_slow_u_plot, ema_slow_d_plot, \n",
    "            # panel-1\n",
    "            # rsi_50_plot, \n",
    "            rsi_avg_plot, rsi_plot, rsi_avg_plot2, # , rsi_u_plot, rsi_d_plot \n",
    "            vol_avg_plot\n",
    "        ]\n",
    "    file_img = f\"images/{ticker}-{str(num).zfill(2)}.png\"\n",
    "    print(file_img)\n",
    "    mpf.plot(df_1, type='candle', \n",
    "            style='yahoo', \n",
    "            fill_between=dict(y1=df_1[\"ema_slow_d\"].values,y2=df_1[\"ema_slow_u\"].values,alpha=0.15,color='b'),\n",
    "            panel_ratios=(6,1,6),\n",
    "            addplot=plots, \n",
    "            title=_title_xy(ticker),\n",
    "            volume=True, volume_panel=panid_vol, \n",
    "            ylabel=\"\", ylabel_lower='',\n",
    "            xrotation=0,\n",
    "            datetime_format='%Y-%m-%d',\n",
    "            savefig=file_img,\n",
    "            figsize=(FIGURE_WIDTH,FIGURE_HEIGHT),\n",
    "            tight_layout=True,\n",
    "            show_nontrading=True\n",
    "        )  "
   ]
  },
  {
   "cell_type": "raw",
   "metadata": {},
   "source": [
    "# del [df]\n",
    "\n",
    "df = load_stooq_data(ticker)\n",
    "\n",
    "df.head(3)\n",
    "df.tail(3)\n",
    "\n",
    "mpf.plot(df,volume=False,type='candle')"
   ]
  },
  {
   "cell_type": "raw",
   "metadata": {},
   "source": [
    "ticker = \"googl\""
   ]
  },
  {
   "cell_type": "code",
   "execution_count": 10,
   "metadata": {
    "scrolled": false
   },
   "outputs": [
    {
     "name": "stdout",
     "output_type": "stream",
     "text": [
      "images/googl-01.png\n",
      "images/googl-02.png\n",
      "images/googl-03.png\n",
      "images/googl-04.png\n",
      "images/googl-05.png\n"
     ]
    }
   ],
   "source": [
    "for ticker in [\"googl\", \"aapl\", \"adbe\", \"amd\", \"amzn\"]:\n",
    "\n",
    "    # test\n",
    "    if ticker != \"googl\" : continue\n",
    "\n",
    "    df = load_stooq_data(ticker)\n",
    "    df = calculate_ta(df)\n",
    "    \n",
    "    LEN = df.shape[0]\n",
    "    SPAN, OVERLAP = 200, 40\n",
    "    FIGURE_WIDTH, FIGURE_HEIGHT =  16, 14\n",
    "\n",
    "    num = 0\n",
    "    intervals = []\n",
    "    for ix_stop in range(LEN, RSI_PERIOD, -SPAN):\n",
    "        ix_start = ix_stop - SPAN -int(OVERLAP/2)\n",
    "        intervals.append((ix_start if ix_start > 0 else 0, ix_stop+int(OVERLAP/2)))    \n",
    "\n",
    "    for ix_start,ix_stop in intervals[::-1]:\n",
    "        num += 1\n",
    "\n",
    "        # test\n",
    "        if num > 10:  break\n",
    "        \n",
    "        df_1 = df.iloc[ix_start : ix_stop]\n",
    "        gen_chart(df_1, ticker, num)"
   ]
  },
  {
   "cell_type": "code",
   "execution_count": null,
   "metadata": {},
   "outputs": [],
   "source": []
  },
  {
   "cell_type": "code",
   "execution_count": null,
   "metadata": {},
   "outputs": [],
   "source": []
  },
  {
   "cell_type": "code",
   "execution_count": null,
   "metadata": {},
   "outputs": [],
   "source": []
  },
  {
   "cell_type": "code",
   "execution_count": null,
   "metadata": {},
   "outputs": [],
   "source": []
  },
  {
   "cell_type": "code",
   "execution_count": null,
   "metadata": {},
   "outputs": [],
   "source": []
  },
  {
   "cell_type": "code",
   "execution_count": null,
   "metadata": {},
   "outputs": [],
   "source": []
  },
  {
   "cell_type": "code",
   "execution_count": null,
   "metadata": {},
   "outputs": [],
   "source": []
  },
  {
   "cell_type": "markdown",
   "metadata": {},
   "source": [
    "## resample"
   ]
  },
  {
   "cell_type": "raw",
   "metadata": {},
   "source": [
    "aggregation = {'Open'  :'first',\n",
    "               'High'  :'max',\n",
    "               'Low'   :'min',\n",
    "               'Close' :'last',\n",
    "               'Volume':'sum'}\n",
    "dfw = df.resample('1W').agg(aggregation)\n",
    "dfm = df.resample('1M').agg(aggregation)\n",
    "dfq = df.resample('1Q').agg(aggregation)\n",
    "\n",
    "kwargs=dict(volume=True,type='candle',tight_layout=True)\n",
    "mpf.plot(df,**kwargs,title='\\nINTC Daily   ')\n",
    "mpf.plot(dfw,**kwargs,title='\\nINTC Weekly     ')\n",
    "mpf.plot(dfm,**kwargs,title='\\nINTC Monthly        ')\n",
    "mpf.plot(dfq,**kwargs,title='\\nINTC Quarterly         ')"
   ]
  },
  {
   "cell_type": "code",
   "execution_count": null,
   "metadata": {},
   "outputs": [],
   "source": []
  }
 ],
 "metadata": {
  "kernelspec": {
   "display_name": "Python 3",
   "language": "python",
   "name": "python3"
  },
  "language_info": {
   "codemirror_mode": {
    "name": "ipython",
    "version": 3
   },
   "file_extension": ".py",
   "mimetype": "text/x-python",
   "name": "python",
   "nbconvert_exporter": "python",
   "pygments_lexer": "ipython3",
   "version": "3.8.5"
  },
  "toc": {
   "base_numbering": 1,
   "nav_menu": {},
   "number_sections": true,
   "sideBar": true,
   "skip_h1_title": false,
   "title_cell": "Table of Contents",
   "title_sidebar": "Contents",
   "toc_cell": false,
   "toc_position": {},
   "toc_section_display": true,
   "toc_window_display": false
  }
 },
 "nbformat": 4,
 "nbformat_minor": 2
}
