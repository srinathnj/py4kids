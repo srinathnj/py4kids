{
 "cells": [
  {
   "cell_type": "markdown",
   "id": "ec637b9d",
   "metadata": {},
   "source": [
    "Prompt:\n",
    "\n",
    "I tried your first suggestion at https://www.investor.gov/financial-tools-calculators/calculators/compound-interest-calculator. It is pretty good. Can you show me how to build a similar compound interest calculator using the streamlit framework in python ? \n",
    "\n",
    "It should have the following required input fields: \n",
    "- Initial investment\n",
    "- monthly contribution\n",
    "- Length of Time in Years\n",
    "- Estimated Interest Rate\n",
    "- Interest rate variance range\n",
    "- Compound Frequency: annually, quarterly, monthly\n",
    "\n",
    "It should display the result in both chart and table format.\n",
    "\n",
    "Thank you"
   ]
  },
  {
   "cell_type": "code",
   "execution_count": 11,
   "id": "0fec6295",
   "metadata": {},
   "outputs": [],
   "source": [
    "from datetime import datetime \n",
    "from dateutil.relativedelta import relativedelta"
   ]
  },
  {
   "cell_type": "code",
   "execution_count": 2,
   "id": "7f34e854",
   "metadata": {},
   "outputs": [],
   "source": [
    "curr_yr = datetime.now().year"
   ]
  },
  {
   "cell_type": "code",
   "execution_count": 3,
   "id": "8e712244",
   "metadata": {},
   "outputs": [
    {
     "data": {
      "text/plain": [
       "2023"
      ]
     },
     "execution_count": 3,
     "metadata": {},
     "output_type": "execute_result"
    }
   ],
   "source": [
    "curr_yr"
   ]
  },
  {
   "cell_type": "code",
   "execution_count": 5,
   "id": "e044acda",
   "metadata": {},
   "outputs": [],
   "source": [
    "num_yrs = 5"
   ]
  },
  {
   "cell_type": "code",
   "execution_count": 8,
   "id": "0a3aadcb",
   "metadata": {},
   "outputs": [],
   "source": [
    "dt = [f\"{curr_yr+y}.{str(m).zfill(2)}\" for y in range(num_yrs) for m in range(1,13) ]"
   ]
  },
  {
   "cell_type": "code",
   "execution_count": 10,
   "id": "f471c19b",
   "metadata": {},
   "outputs": [
    {
     "data": {
      "text/plain": [
       "(60,\n",
       " ['2023.01',\n",
       "  '2023.02',\n",
       "  '2023.03',\n",
       "  '2023.04',\n",
       "  '2023.05',\n",
       "  '2023.06',\n",
       "  '2023.07',\n",
       "  '2023.08',\n",
       "  '2023.09',\n",
       "  '2023.10',\n",
       "  '2023.11',\n",
       "  '2023.12',\n",
       "  '2024.01',\n",
       "  '2024.02',\n",
       "  '2024.03',\n",
       "  '2024.04',\n",
       "  '2024.05',\n",
       "  '2024.06',\n",
       "  '2024.07',\n",
       "  '2024.08',\n",
       "  '2024.09',\n",
       "  '2024.10',\n",
       "  '2024.11',\n",
       "  '2024.12',\n",
       "  '2025.01',\n",
       "  '2025.02',\n",
       "  '2025.03',\n",
       "  '2025.04',\n",
       "  '2025.05',\n",
       "  '2025.06',\n",
       "  '2025.07',\n",
       "  '2025.08',\n",
       "  '2025.09',\n",
       "  '2025.10',\n",
       "  '2025.11',\n",
       "  '2025.12',\n",
       "  '2026.01',\n",
       "  '2026.02',\n",
       "  '2026.03',\n",
       "  '2026.04',\n",
       "  '2026.05',\n",
       "  '2026.06',\n",
       "  '2026.07',\n",
       "  '2026.08',\n",
       "  '2026.09',\n",
       "  '2026.10',\n",
       "  '2026.11',\n",
       "  '2026.12',\n",
       "  '2027.01',\n",
       "  '2027.02',\n",
       "  '2027.03',\n",
       "  '2027.04',\n",
       "  '2027.05',\n",
       "  '2027.06',\n",
       "  '2027.07',\n",
       "  '2027.08',\n",
       "  '2027.09',\n",
       "  '2027.10',\n",
       "  '2027.11',\n",
       "  '2027.12'])"
      ]
     },
     "execution_count": 10,
     "metadata": {},
     "output_type": "execute_result"
    }
   ],
   "source": [
    "len(dt), dt"
   ]
  },
  {
   "cell_type": "code",
   "execution_count": 12,
   "id": "812c36f4",
   "metadata": {},
   "outputs": [
    {
     "name": "stdout",
     "output_type": "stream",
     "text": [
      "['2024.12', '2024.12', '2024.12', '2024.12', '2024.12']\n"
     ]
    }
   ],
   "source": [
    "import datetime\n",
    "from dateutil.relativedelta import relativedelta\n",
    "\n",
    "current_month = datetime.datetime.today()\n",
    "future_months = []\n",
    "\n",
    "for year in range(current_month.year, current_month.year + 5):\n",
    "    for _ in range(current_month.month, 13):\n",
    "        future_month = current_month + relativedelta(months=_)\n",
    "        future_month = future_month.replace(day=1)\n",
    "        future_month_formatted = f\"{future_month.year}.{future_month.month:02d}\"\n",
    "        future_months.append(future_month_formatted)\n",
    "\n",
    "print(future_months)"
   ]
  },
  {
   "cell_type": "code",
   "execution_count": 31,
   "id": "80fbaeb2",
   "metadata": {},
   "outputs": [
    {
     "name": "stdout",
     "output_type": "stream",
     "text": [
      "{'Annually': {'multiplier': 1, 'n_month': 12}, 'Quarterly': {'multiplier': 4, 'n_month': 3}, 'Monthly': {'multiplier': 12, 'n_month': 1, 'rate': 0.4166666666666667, 'months': ['2023.12', '2024.01', '2024.02', '2024.03', '2024.04', '2024.05', '2024.06', '2024.07', '2024.08', '2024.09', '2024.10', '2024.11', '2024.12', '2025.01', '2025.02', '2025.03', '2025.04', '2025.05', '2025.06', '2025.07', '2025.08', '2025.09', '2025.10', '2025.11']}}\n"
     ]
    }
   ],
   "source": [
    "import datetime\n",
    "from dateutil.relativedelta import relativedelta\n",
    "current_month = datetime.datetime.today()\n",
    "\n",
    "compound_dict = {\n",
    "    \"Annually\": {\"multiplier\": 1, \"n_month\":12},\n",
    "    \"Quarterly\": {\"multiplier\": 4, \"n_month\":3}, \n",
    "    \"Monthly\": {\"multiplier\": 12, \"n_month\":1},\n",
    "}\n",
    "num_yrs = 2\n",
    "interest = 5\n",
    "\n",
    "def update_compound_dict(compound_dict, interest=5.0, num_yrs=2, freq=\"Monthly\"):\n",
    "    \n",
    "    future_months = []\n",
    "    compound = compound_dict[freq]\n",
    "    for _ in range(num_yrs*compound[\"multiplier\"]):\n",
    "        future_month = current_month + relativedelta(months=_*compound[\"n_month\"])\n",
    "        future_month_formatted = f\"{future_month.year}.{future_month.month:02d}\"\n",
    "        future_months.append(future_month_formatted)\n",
    "\n",
    "    compound_dict[freq][\"rate\"] = interest / compound[\"multiplier\"]\n",
    "    compound_dict[freq][\"months\"] = future_months\n",
    "    # print(f\"freq = {freq}:\\n num_x = {len(future_months)}, {str(future_months)}\")\n",
    "    return compound_dict\n",
    "    \n",
    "print(update_compound_dict(compound_dict, interest=interest, num_yrs=num_yrs))"
   ]
  },
  {
   "cell_type": "code",
   "execution_count": null,
   "id": "b81270a2",
   "metadata": {},
   "outputs": [],
   "source": []
  }
 ],
 "metadata": {
  "kernelspec": {
   "display_name": "Python 3 (ipykernel)",
   "language": "python",
   "name": "python3"
  },
  "language_info": {
   "codemirror_mode": {
    "name": "ipython",
    "version": 3
   },
   "file_extension": ".py",
   "mimetype": "text/x-python",
   "name": "python",
   "nbconvert_exporter": "python",
   "pygments_lexer": "ipython3",
   "version": "3.9.13"
  },
  "nbTranslate": {
   "displayLangs": [
    "*"
   ],
   "hotkey": "alt-t",
   "langInMainMenu": true,
   "sourceLang": "en",
   "targetLang": "fr",
   "useGoogleTranslate": true
  },
  "toc": {
   "base_numbering": 1,
   "nav_menu": {},
   "number_sections": true,
   "sideBar": true,
   "skip_h1_title": false,
   "title_cell": "Table of Contents",
   "title_sidebar": "Contents",
   "toc_cell": false,
   "toc_position": {},
   "toc_section_display": true,
   "toc_window_display": false
  }
 },
 "nbformat": 4,
 "nbformat_minor": 5
}
