{
 "cells": [
  {
   "cell_type": "markdown",
   "metadata": {},
   "source": [
    "\n",
    "- [Python mplfinance Plot yfinance Candle Chart, Moving Average, MACD and Volume (Multi Panel)](https://code.luasoftware.com/tutorials/algo-trading/python-mplfinance-plot-yfinance-candle-chart-moving-average-macd-and-volume/)\n",
    "\n",
    "- [mplfinance — plotting financial data](https://towardsdatascience.com/mplfinance-matplolibs-relatively-unknown-library-for-plotting-financial-data-62c1c23177fd)\n",
    "    \n",
    "- [Stock Market Data Visualization Using Mplfinance](https://medium.com/mlearning-ai/stock-market-data-visualization-using-mplfinance-1d35a8d48e4#id_token=eyJhbGciOiJSUzI1NiIsImtpZCI6ImQ2M2RiZTczYWFkODhjODU0ZGUwZDhkNmMwMTRjMzZkYzI1YzQyOTIiLCJ0eXAiOiJKV1QifQ.eyJpc3MiOiJodHRwczovL2FjY291bnRzLmdvb2dsZS5jb20iLCJuYmYiOjE2NDcxMzcyMTMsImF1ZCI6IjIxNjI5NjAzNTgzNC1rMWs2cWUwNjBzMnRwMmEyamFtNGxqZGNtczAwc3R0Zy5hcHBzLmdvb2dsZXVzZXJjb250ZW50LmNvbSIsInN1YiI6IjEwMzgwMTUyNzUxMjY3NzAyMjMyNCIsImVtYWlsIjoid2VuLmcuZ29uZ0BnbWFpbC5jb20iLCJlbWFpbF92ZXJpZmllZCI6dHJ1ZSwiYXpwIjoiMjE2Mjk2MDM1ODM0LWsxazZxZTA2MHMydHAyYTJqYW00bGpkY21zMDBzdHRnLmFwcHMuZ29vZ2xldXNlcmNvbnRlbnQuY29tIiwibmFtZSI6IlcgR29uZyIsInBpY3R1cmUiOiJodHRwczovL2xoMy5nb29nbGV1c2VyY29udGVudC5jb20vYS0vQU9oMTRHaEZqLU90M2tnQVZLQWpOQkVrVVFYbVhacVdRRFVPTkU3TWlDTmpmUT1zOTYtYyIsImdpdmVuX25hbWUiOiJXIiwiZmFtaWx5X25hbWUiOiJHb25nIiwiaWF0IjoxNjQ3MTM3NTEzLCJleHAiOjE2NDcxNDExMTMsImp0aSI6IjU4OGY4MWJkNDk5ZjJiNzhkZGQ0ZDA0NjhjZTY0MmY2NmY3MjhlNWQifQ.Br1skeC1qHudywRwl4sJvjiC_kzBFPaITJVEjWpprBrV9ZSeCXYARiPb98VONFS77m3pGi3ZcDOgkva3GYU-TusoedJxx8Gz0noA6n0zHYOpBChg8He-66F9hsyAZ_nHWqNlnwRyHWA6ALq_LOVLoeu7GTeq56a5DD_sI0kbbrdJmhTcRzL1Kka33wwA533c7RhIxS8UbnabflIZiuA9MOcLWMcaRgjS93kExOCHeF4G-01_wjRjhFk-Ujz_p9t93fFUjuOT_WlosWrIkA8l3KEB-PKo4Mdlqr62cLiiBY_au1M0ICpEXLywbACT5i3ZnuW8DTJFcQ3BD6ubD7cDzA)"
   ]
  },
  {
   "cell_type": "code",
   "execution_count": 1,
   "metadata": {},
   "outputs": [],
   "source": [
    "import pickle\n",
    "import yfinance as yf"
   ]
  },
  {
   "cell_type": "code",
   "execution_count": 2,
   "metadata": {},
   "outputs": [],
   "source": [
    "import matplotlib.pyplot as plt\n",
    "from mplfinance.original_flavor import candlestick_ohlc\n",
    "import pandas as pd\n",
    "import matplotlib.dates as mpl_dates\n",
    "\n",
    "plt.style.use('ggplot')"
   ]
  },
  {
   "cell_type": "code",
   "execution_count": 21,
   "metadata": {},
   "outputs": [],
   "source": [
    "import os.path"
   ]
  },
  {
   "cell_type": "code",
   "execution_count": 23,
   "metadata": {},
   "outputs": [],
   "source": [
    "NUM_OF_DAYS_QUOTE = 400\n",
    "FILE_CACHE_QUOTES = os.path.expanduser(\"~/df_quotes_cache.pickle\")"
   ]
  },
  {
   "cell_type": "code",
   "execution_count": 8,
   "metadata": {},
   "outputs": [],
   "source": [
    "def download_quote(symbol, num_days=NUM_OF_DAYS_QUOTE):\n",
    "    return yf.Ticker(symbol).history(f\"{num_days}d\")\n",
    "\n",
    "def get_quotes(symbol, num_days=NUM_OF_DAYS_QUOTE, cache=False):\n",
    "    \"\"\"\n",
    "    check cache:\n",
    "        import pickle\n",
    "        data = pickle.load(open(\"df_quotes_cache.pickle\", \"rb\"))\n",
    "        data.keys()\n",
    "    \"\"\"\n",
    "    if not cache:\n",
    "        return download_quote(symbol, num_days=num_days)\n",
    "        \n",
    "    if os.path.exists(FILE_CACHE_QUOTES):\n",
    "        quote_data = pickle.load(open(FILE_CACHE_QUOTES, \"rb\"))\n",
    "        if symbol in quote_data and num_days == quote_data[symbol][\"num_days\"]:\n",
    "            df = quote_data[symbol][\"df\"]\n",
    "        else:\n",
    "            df = download_quote(symbol, num_days=num_days)\n",
    "            quote_data[symbol] = dict(num_days=num_days, df=df)\n",
    "            pickle.dump(quote_data, open(FILE_CACHE_QUOTES, \"wb\"))\n",
    "    else:\n",
    "        df = download_quote(symbol, num_days=num_days)\n",
    "        quote_data = {}\n",
    "        quote_data[symbol] = dict(num_days=num_days, df=df)\n",
    "        pickle.dump(quote_data, open(FILE_CACHE_QUOTES, \"wb\"))\n",
    "\n",
    "    return df\n"
   ]
  },
  {
   "cell_type": "code",
   "execution_count": 9,
   "metadata": {},
   "outputs": [],
   "source": [
    "data = get_quotes(\"QQQ\", cache=True)\n",
    "\n",
    "data.reset_index(inplace=True)    # change index=Date to regular column"
   ]
  },
  {
   "cell_type": "code",
   "execution_count": 12,
   "metadata": {},
   "outputs": [],
   "source": [
    "ohlc = data.loc[:, ['Date', 'Open', 'High', 'Low', 'Close']]"
   ]
  },
  {
   "cell_type": "code",
   "execution_count": 13,
   "metadata": {},
   "outputs": [],
   "source": [
    "ohlc['Date'] = pd.to_datetime(ohlc['Date'])"
   ]
  },
  {
   "cell_type": "code",
   "execution_count": 14,
   "metadata": {},
   "outputs": [],
   "source": [
    "ohlc['Date'] = ohlc['Date'].apply(mpl_dates.date2num)"
   ]
  },
  {
   "cell_type": "code",
   "execution_count": 15,
   "metadata": {},
   "outputs": [
    {
     "data": {
      "text/html": [
       "<div>\n",
       "<style scoped>\n",
       "    .dataframe tbody tr th:only-of-type {\n",
       "        vertical-align: middle;\n",
       "    }\n",
       "\n",
       "    .dataframe tbody tr th {\n",
       "        vertical-align: top;\n",
       "    }\n",
       "\n",
       "    .dataframe thead th {\n",
       "        text-align: right;\n",
       "    }\n",
       "</style>\n",
       "<table border=\"1\" class=\"dataframe\">\n",
       "  <thead>\n",
       "    <tr style=\"text-align: right;\">\n",
       "      <th></th>\n",
       "      <th>Date</th>\n",
       "      <th>Open</th>\n",
       "      <th>High</th>\n",
       "      <th>Low</th>\n",
       "      <th>Close</th>\n",
       "    </tr>\n",
       "  </thead>\n",
       "  <tbody>\n",
       "    <tr>\n",
       "      <th>0</th>\n",
       "      <td>18485.0</td>\n",
       "      <td>267.335170</td>\n",
       "      <td>268.656416</td>\n",
       "      <td>262.884736</td>\n",
       "      <td>263.441040</td>\n",
       "    </tr>\n",
       "    <tr>\n",
       "      <th>1</th>\n",
       "      <td>18486.0</td>\n",
       "      <td>265.656327</td>\n",
       "      <td>271.040564</td>\n",
       "      <td>265.606639</td>\n",
       "      <td>270.067017</td>\n",
       "    </tr>\n",
       "    <tr>\n",
       "      <th>2</th>\n",
       "      <td>18487.0</td>\n",
       "      <td>270.861758</td>\n",
       "      <td>273.017430</td>\n",
       "      <td>269.719349</td>\n",
       "      <td>270.682953</td>\n",
       "    </tr>\n",
       "    <tr>\n",
       "      <th>3</th>\n",
       "      <td>18488.0</td>\n",
       "      <td>271.318742</td>\n",
       "      <td>271.596894</td>\n",
       "      <td>268.934576</td>\n",
       "      <td>270.365082</td>\n",
       "    </tr>\n",
       "    <tr>\n",
       "      <th>4</th>\n",
       "      <td>18491.0</td>\n",
       "      <td>272.123395</td>\n",
       "      <td>274.020802</td>\n",
       "      <td>270.404824</td>\n",
       "      <td>273.504242</td>\n",
       "    </tr>\n",
       "  </tbody>\n",
       "</table>\n",
       "</div>"
      ],
      "text/plain": [
       "      Date        Open        High         Low       Close\n",
       "0  18485.0  267.335170  268.656416  262.884736  263.441040\n",
       "1  18486.0  265.656327  271.040564  265.606639  270.067017\n",
       "2  18487.0  270.861758  273.017430  269.719349  270.682953\n",
       "3  18488.0  271.318742  271.596894  268.934576  270.365082\n",
       "4  18491.0  272.123395  274.020802  270.404824  273.504242"
      ]
     },
     "execution_count": 15,
     "metadata": {},
     "output_type": "execute_result"
    }
   ],
   "source": [
    "ohlc.head()"
   ]
  },
  {
   "cell_type": "code",
   "execution_count": 16,
   "metadata": {},
   "outputs": [],
   "source": [
    "ohlc = ohlc.astype(float)"
   ]
  },
  {
   "cell_type": "code",
   "execution_count": 17,
   "metadata": {},
   "outputs": [],
   "source": [
    "# Creating Subplots\n",
    "fig, axs = plt.subplots(nrows=2, ncols=1, sharex=True)"
   ]
  },
  {
   "cell_type": "code",
   "execution_count": 18,
   "metadata": {},
   "outputs": [
    {
     "data": {
      "text/plain": [
       "Text(0.5, 0.98, 'Daily Candlestick Chart of QQQ')"
      ]
     },
     "execution_count": 18,
     "metadata": {},
     "output_type": "execute_result"
    }
   ],
   "source": [
    "candlestick_ohlc(axs[0,0], ohlc.values, width=0.6, colorup='green', colordown='red', alpha=0.8)\n",
    "# Setting labels & titles\n",
    "axs[0,0].set_xlabel('Date')\n",
    "axs[0,0].set_ylabel('Price')\n",
    "fig.suptitle('Daily Candlestick Chart of QQQ')"
   ]
  },
  {
   "cell_type": "code",
   "execution_count": 19,
   "metadata": {},
   "outputs": [
    {
     "data": {
      "image/png": "[encoded data removed]",
      "text/plain": [
       "<Figure size 640x480 with 1 Axes>"
      ]
     },
     "metadata": {},
     "output_type": "display_data"
    }
   ],
   "source": [
    "# Formatting Date\n",
    "# date_format = mpl_dates.DateFormatter('%m-%d-%Y')\n",
    "date_format = mpl_dates.DateFormatter('%m-%d')\n",
    "axs[0,0].xaxis.set_major_formatter(date_format)\n",
    "fig.autofmt_xdate()\n",
    "\n",
    "fig.tight_layout()\n",
    "\n",
    "plt.show()"
   ]
  },
  {
   "cell_type": "code",
   "execution_count": 26,
   "metadata": {},
   "outputs": [],
   "source": [
    "import glob"
   ]
  },
  {
   "cell_type": "code",
   "execution_count": 28,
   "metadata": {},
   "outputs": [
    {
     "data": {
      "text/plain": [
       "['ema-range-rsi-obv-qqq.png',\n",
       " 'ICLN-0.3.png',\n",
       " 'ema-range-rsi-obv-spy.png',\n",
       " 'ema-range-rsi-obv-TSN.png',\n",
       " 'SPY.png',\n",
       " 'XLE.png',\n",
       " 'GDX.png',\n",
       " 'ema-range-rsi-obv-gdx.png',\n",
       " 'QQQ.png',\n",
       " 'ICLN-0.2.png']"
      ]
     },
     "execution_count": 28,
     "metadata": {},
     "output_type": "execute_result"
    }
   ],
   "source": [
    "glob.glob(\"*.png\")"
   ]
  },
  {
   "cell_type": "code",
   "execution_count": 33,
   "metadata": {},
   "outputs": [
    {
     "data": {
      "text/plain": [
       "['UNG.png',\n",
       " 'trading-times.png',\n",
       " 'WEAT.png',\n",
       " 'QQQ-1.png',\n",
       " 'ung.png',\n",
       " 'gdx.png',\n",
       " 'GDX.png',\n",
       " 'QQQ.png']"
      ]
     },
     "execution_count": 33,
     "metadata": {},
     "output_type": "execute_result"
    }
   ],
   "source": [
    "[f for f in os.listdir(os.path.expanduser(\"~\")) if f.endswith(\".png\")]"
   ]
  },
  {
   "cell_type": "code",
   "execution_count": null,
   "metadata": {},
   "outputs": [],
   "source": []
  }
 ],
 "metadata": {
  "kernelspec": {
   "display_name": "Python 3",
   "language": "python",
   "name": "python3"
  },
  "language_info": {
   "codemirror_mode": {
    "name": "ipython",
    "version": 3
   },
   "file_extension": ".py",
   "mimetype": "text/x-python",
   "name": "python",
   "nbconvert_exporter": "python",
   "pygments_lexer": "ipython3",
   "version": "3.8.10"
  }
 },
 "nbformat": 4,
 "nbformat_minor": 4
}
