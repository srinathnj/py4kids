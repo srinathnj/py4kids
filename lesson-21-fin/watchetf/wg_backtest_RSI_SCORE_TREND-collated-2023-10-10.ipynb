{
 "cells": [
  {
   "cell_type": "code",
   "execution_count": 7,
   "id": "53fb2efd",
   "metadata": {},
   "outputs": [],
   "source": [
    "from datetime import datetime\n",
    "from IPython.core.display import display, HTML"
   ]
  },
  {
   "cell_type": "code",
   "execution_count": 36,
   "id": "e4344da4",
   "metadata": {},
   "outputs": [],
   "source": [
    "from glob import glob\n",
    "import os \n",
    "from pathlib import Path"
   ]
  },
  {
   "cell_type": "raw",
   "id": "bb4f95f7",
   "metadata": {},
   "source": [
    "dates = \"\"\"\n",
    "2023/10/10\n",
    "2023/04/10\n",
    "2022/10/10\n",
    "2022/04/10\n",
    "2021/10/10\n",
    "2021/04/10\n",
    "2020/10/10\n",
    "2020/04/10\n",
    "2019/10/10\n",
    "2019/04/10\n",
    "2018/10/10\n",
    "2018/04/10\n",
    "2017/10/10\n",
    "2017/04/10\n",
    "2016/10/10\n",
    "2016/04/10\n",
    "2015/10/10\n",
    "2015/04/10\n",
    "2014/10/10\n",
    "2014/04/10\n",
    "\"\"\"\n",
    "all_dates = [d.strip().replace(\"/\",\"\") for d in dates.split(\"\\n\") if d.strip()]"
   ]
  },
  {
   "cell_type": "code",
   "execution_count": 28,
   "id": "18b8f1e9",
   "metadata": {},
   "outputs": [],
   "source": [
    "all_files = glob(\"images/20*\")"
   ]
  },
  {
   "cell_type": "code",
   "execution_count": 31,
   "id": "934a9a3b",
   "metadata": {},
   "outputs": [],
   "source": [
    "files = [dt.split('\\\\')[-1]  for dt in all_files if datetime.fromtimestamp(os.path.getctime(dt)).date() == datetime.now().date()]"
   ]
  },
  {
   "cell_type": "code",
   "execution_count": 32,
   "id": "34ea8c37",
   "metadata": {},
   "outputs": [
    {
     "data": {
      "text/plain": [
       "['20131010',\n",
       " '20140410',\n",
       " '20141010',\n",
       " '20150410',\n",
       " '20151009',\n",
       " '20160408',\n",
       " '20161010',\n",
       " '20170410',\n",
       " '20171010',\n",
       " '20180410',\n",
       " '20181010',\n",
       " '20190410',\n",
       " '20191010',\n",
       " '20200410',\n",
       " '20201009',\n",
       " '20210409',\n",
       " '20211008',\n",
       " '20220408',\n",
       " '20221010',\n",
       " '20231010']"
      ]
     },
     "execution_count": 32,
     "metadata": {},
     "output_type": "execute_result"
    }
   ],
   "source": [
    "files"
   ]
  },
  {
   "cell_type": "code",
   "execution_count": 33,
   "id": "109bf589",
   "metadata": {},
   "outputs": [],
   "source": [
    "all_dates = ['20131010',\n",
    " '20140410',\n",
    " '20141010',\n",
    " '20150410',\n",
    " '20151009',\n",
    " '20160408',\n",
    " '20161010',\n",
    " '20170410',\n",
    " '20171010',\n",
    " '20180410',\n",
    " '20181010',\n",
    " '20190410',\n",
    " '20191010',\n",
    " '20200410',\n",
    " '20201009',\n",
    " '20210409',\n",
    " '20211008',\n",
    " '20220408',\n",
    " '20221010', '20230410',\n",
    " '20231010']"
   ]
  },
  {
   "cell_type": "code",
   "execution_count": 40,
   "id": "12d5fb57",
   "metadata": {},
   "outputs": [],
   "source": [
    "def _get_img_path(dt, nday=210):\n",
    "#     dt = dt.replace(\"/\",\"\")\n",
    "    trend_img = f\"images/{dt}/Trend/RSI_Score_Trend-{nday}-v3.png\"\n",
    "    spy_img = f\"images/{dt}/Trend/SPY-{nday}.png\"\n",
    "    return spy_img, trend_img\n",
    "\n",
    "def trow(dt, width=800, height=1000):\n",
    "    ret_err = []\n",
    "    spy_img, trend_img = _get_img_path(dt)\n",
    "    ret = \"\"\n",
    "    if Path(spy_img).exists():\n",
    "        ret += f\"\"\"\n",
    "        <tr> \n",
    "        <img src='{spy_img}' width={width} height={height} />\n",
    "        </tr>\"\"\"\n",
    "    else:\n",
    "        ret_err.append(spy_img)\n",
    "        # print(f\"{spy_img} not found\")\n",
    "        \n",
    "    if Path(trend_img).exists():\n",
    "        ret += f\"\"\"\n",
    "        <tr> \n",
    "        <img src='{trend_img}' width={width} height={height} />\n",
    "        </tr>\"\"\"\n",
    "    else:\n",
    "        ret_err.append(trend_img)\n",
    "        # print(f\"{trend_img} not found\")\n",
    "\n",
    "    return ret, ret_err"
   ]
  },
  {
   "cell_type": "code",
   "execution_count": 41,
   "id": "95cb8648",
   "metadata": {
    "scrolled": false
   },
   "outputs": [
    {
     "data": {
      "text/html": [
       "<table>\n",
       "        <tr> \n",
       "        <img src='images/20140410/Trend/SPY-210.png' width=800 height=1000 />\n",
       "        </tr>\n",
       "        <tr> \n",
       "        <img src='images/20140410/Trend/RSI_Score_Trend-210-v3.png' width=800 height=1000 />\n",
       "        </tr>\n",
       "        <tr> \n",
       "        <img src='images/20141010/Trend/SPY-210.png' width=800 height=1000 />\n",
       "        </tr>\n",
       "        <tr> \n",
       "        <img src='images/20141010/Trend/RSI_Score_Trend-210-v3.png' width=800 height=1000 />\n",
       "        </tr>\n",
       "        <tr> \n",
       "        <img src='images/20150410/Trend/SPY-210.png' width=800 height=1000 />\n",
       "        </tr>\n",
       "        <tr> \n",
       "        <img src='images/20150410/Trend/RSI_Score_Trend-210-v3.png' width=800 height=1000 />\n",
       "        </tr>\n",
       "        <tr> \n",
       "        <img src='images/20151009/Trend/SPY-210.png' width=800 height=1000 />\n",
       "        </tr>\n",
       "        <tr> \n",
       "        <img src='images/20151009/Trend/RSI_Score_Trend-210-v3.png' width=800 height=1000 />\n",
       "        </tr>\n",
       "        <tr> \n",
       "        <img src='images/20160408/Trend/SPY-210.png' width=800 height=1000 />\n",
       "        </tr>\n",
       "        <tr> \n",
       "        <img src='images/20160408/Trend/RSI_Score_Trend-210-v3.png' width=800 height=1000 />\n",
       "        </tr>\n",
       "        <tr> \n",
       "        <img src='images/20161010/Trend/SPY-210.png' width=800 height=1000 />\n",
       "        </tr>\n",
       "        <tr> \n",
       "        <img src='images/20161010/Trend/RSI_Score_Trend-210-v3.png' width=800 height=1000 />\n",
       "        </tr>\n",
       "        <tr> \n",
       "        <img src='images/20170410/Trend/SPY-210.png' width=800 height=1000 />\n",
       "        </tr>\n",
       "        <tr> \n",
       "        <img src='images/20170410/Trend/RSI_Score_Trend-210-v3.png' width=800 height=1000 />\n",
       "        </tr>\n",
       "        <tr> \n",
       "        <img src='images/20171010/Trend/SPY-210.png' width=800 height=1000 />\n",
       "        </tr>\n",
       "        <tr> \n",
       "        <img src='images/20171010/Trend/RSI_Score_Trend-210-v3.png' width=800 height=1000 />\n",
       "        </tr>\n",
       "        <tr> \n",
       "        <img src='images/20180410/Trend/SPY-210.png' width=800 height=1000 />\n",
       "        </tr>\n",
       "        <tr> \n",
       "        <img src='images/20180410/Trend/RSI_Score_Trend-210-v3.png' width=800 height=1000 />\n",
       "        </tr>\n",
       "        <tr> \n",
       "        <img src='images/20181010/Trend/SPY-210.png' width=800 height=1000 />\n",
       "        </tr>\n",
       "        <tr> \n",
       "        <img src='images/20181010/Trend/RSI_Score_Trend-210-v3.png' width=800 height=1000 />\n",
       "        </tr>\n",
       "        <tr> \n",
       "        <img src='images/20190410/Trend/SPY-210.png' width=800 height=1000 />\n",
       "        </tr>\n",
       "        <tr> \n",
       "        <img src='images/20190410/Trend/RSI_Score_Trend-210-v3.png' width=800 height=1000 />\n",
       "        </tr>\n",
       "        <tr> \n",
       "        <img src='images/20191010/Trend/SPY-210.png' width=800 height=1000 />\n",
       "        </tr>\n",
       "        <tr> \n",
       "        <img src='images/20191010/Trend/RSI_Score_Trend-210-v3.png' width=800 height=1000 />\n",
       "        </tr>\n",
       "        <tr> \n",
       "        <img src='images/20200410/Trend/SPY-210.png' width=800 height=1000 />\n",
       "        </tr>\n",
       "        <tr> \n",
       "        <img src='images/20200410/Trend/RSI_Score_Trend-210-v3.png' width=800 height=1000 />\n",
       "        </tr>\n",
       "        <tr> \n",
       "        <img src='images/20201009/Trend/SPY-210.png' width=800 height=1000 />\n",
       "        </tr>\n",
       "        <tr> \n",
       "        <img src='images/20201009/Trend/RSI_Score_Trend-210-v3.png' width=800 height=1000 />\n",
       "        </tr>\n",
       "        <tr> \n",
       "        <img src='images/20210409/Trend/SPY-210.png' width=800 height=1000 />\n",
       "        </tr>\n",
       "        <tr> \n",
       "        <img src='images/20210409/Trend/RSI_Score_Trend-210-v3.png' width=800 height=1000 />\n",
       "        </tr>\n",
       "        <tr> \n",
       "        <img src='images/20211008/Trend/SPY-210.png' width=800 height=1000 />\n",
       "        </tr>\n",
       "        <tr> \n",
       "        <img src='images/20211008/Trend/RSI_Score_Trend-210-v3.png' width=800 height=1000 />\n",
       "        </tr>\n",
       "        <tr> \n",
       "        <img src='images/20220408/Trend/SPY-210.png' width=800 height=1000 />\n",
       "        </tr>\n",
       "        <tr> \n",
       "        <img src='images/20220408/Trend/RSI_Score_Trend-210-v3.png' width=800 height=1000 />\n",
       "        </tr>\n",
       "        <tr> \n",
       "        <img src='images/20221010/Trend/SPY-210.png' width=800 height=1000 />\n",
       "        </tr>\n",
       "        <tr> \n",
       "        <img src='images/20221010/Trend/RSI_Score_Trend-210-v3.png' width=800 height=1000 />\n",
       "        </tr>\n",
       "        <tr> \n",
       "        <img src='images/20230410/Trend/SPY-210.png' width=800 height=1000 />\n",
       "        </tr>\n",
       "        <tr> \n",
       "        <img src='images/20230410/Trend/RSI_Score_Trend-210-v3.png' width=800 height=1000 />\n",
       "        </tr>\n",
       "        <tr> \n",
       "        <img src='images/20231010/Trend/SPY-210.png' width=800 height=1000 />\n",
       "        </tr>\n",
       "        <tr> \n",
       "        <img src='images/20231010/Trend/RSI_Score_Trend-210-v3.png' width=800 height=1000 />\n",
       "        </tr></table>"
      ],
      "text/plain": [
       "<IPython.core.display.HTML object>"
      ]
     },
     "metadata": {},
     "output_type": "display_data"
    },
    {
     "name": "stdout",
     "output_type": "stream",
     "text": [
      "['images/20131010/Trend/SPY-210.png', 'images/20131010/Trend/RSI_Score_Trend-210-v3.png']\n"
     ]
    }
   ],
   "source": [
    "errors = []\n",
    "html = \"<table>\"\n",
    "for dt in all_dates:\n",
    "    ret, ret_err = trow(dt)\n",
    "    if ret_err: \n",
    "        errors += ret_err\n",
    "    if ret:    \n",
    "        html += ret\n",
    "html += \"</table>\"\n",
    "display(HTML(html))\n",
    "\n",
    "print(errors)"
   ]
  },
  {
   "cell_type": "code",
   "execution_count": null,
   "id": "dbd86a11",
   "metadata": {},
   "outputs": [],
   "source": []
  }
 ],
 "metadata": {
  "kernelspec": {
   "display_name": "Python 3 (ipykernel)",
   "language": "python",
   "name": "python3"
  },
  "language_info": {
   "codemirror_mode": {
    "name": "ipython",
    "version": 3
   },
   "file_extension": ".py",
   "mimetype": "text/x-python",
   "name": "python",
   "nbconvert_exporter": "python",
   "pygments_lexer": "ipython3",
   "version": "3.9.13"
  },
  "nbTranslate": {
   "displayLangs": [
    "*"
   ],
   "hotkey": "alt-t",
   "langInMainMenu": true,
   "sourceLang": "en",
   "targetLang": "fr",
   "useGoogleTranslate": true
  },
  "toc": {
   "base_numbering": 1,
   "nav_menu": {},
   "number_sections": true,
   "sideBar": true,
   "skip_h1_title": false,
   "title_cell": "Table of Contents",
   "title_sidebar": "Contents",
   "toc_cell": false,
   "toc_position": {},
   "toc_section_display": true,
   "toc_window_display": false
  }
 },
 "nbformat": 4,
 "nbformat_minor": 5
}
