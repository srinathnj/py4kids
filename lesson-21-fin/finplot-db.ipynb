{
 "cells": [
  {
   "cell_type": "code",
   "execution_count": 1,
   "metadata": {},
   "outputs": [],
   "source": [
    "from gwg_utils import *\n",
    "import pandas as pd\n",
    "import finplot as fplt"
   ]
  },
  {
   "cell_type": "code",
   "execution_count": 2,
   "metadata": {},
   "outputs": [],
   "source": [
    "for symbol in ['QQQ', 'IWM', 'SPY']:\n",
    "    select_sql = f\"\"\"\n",
    "        with quote_ta as (\n",
    "            select \n",
    "                q.date,q.symbol, q.open,q.close,q.high,q.low,q.volume,\n",
    "                t.ema15, t.ema50, t.ema200,\n",
    "                t.macd, t.sig, t.diff, t.trend\n",
    "            from quote_daily q, quote_ta t\n",
    "            where q.date = t.date\n",
    "            and q.symbol = t.symbol\n",
    "            and t.symbol = '{symbol}'\n",
    "            order by q.date desc\n",
    "            limit {QUOTE_TA_LIMIT}\n",
    "        )\n",
    "        select * from quote_ta\n",
    "        order by date\n",
    "        ;\n",
    "\n",
    "    \"\"\"\n",
    "    df = pd.read_sql(select_sql, engine)\n",
    "\n",
    "    df[\"date\"] = pd.to_datetime(df['date']).astype('int64')\n",
    "\n",
    "    #df2.columns\n",
    "    #df[\"date\"] = df.index.strftime(\"%Y-%m-%d\")\n",
    "    #df.set_index('date')\n",
    "\n",
    "    # df.to_csv(\"qqq-ta-test.csv\", index=False)\n",
    "    # df2 = pd.read_csv(\"qqq-ta-test.csv\")\n",
    "\n",
    "    ax,ax2 = fplt.create_plot(f'{symbol}', rows=2)\n",
    "\n",
    "    fplt.candlestick_ochl(df[['date','open','close','high','low']], ax=ax)\n",
    "    fplt.plot(df[[\"ema15\"]], ax=ax)\n",
    "    fplt.plot(df[[\"ema50\"]], ax=ax, width=2)\n",
    "    fplt.plot(df[[\"ema200\"]], ax=ax, width=3)\n",
    "\n",
    "    # axo = ax.overlay()\n",
    "    # fplt.volume_ocv(df[['date','open','close','volume']], ax=axo)\n",
    "\n",
    "    fplt.plot(df[[\"macd\"]], ax=ax2, width=2, legend='MACD')\n",
    "    fplt.plot(df[[\"sig\"]], ax=ax2, legend='Signal')\n",
    "    fplt.plot(df[[\"diff\"]], ax=ax2, legend='Diff')\n",
    "    fplt.plot(2*df[[\"trend\"]], ax=ax2, width=2, legend='Trend')\n",
    "    fplt.volume_ocv(df[['date','open','close','diff']], ax=ax2, colorfunc=fplt.strength_colorfilter)\n",
    "\n",
    "    fplt.show()"
   ]
  },
  {
   "cell_type": "code",
   "execution_count": 41,
   "metadata": {},
   "outputs": [],
   "source": []
  },
  {
   "cell_type": "code",
   "execution_count": null,
   "metadata": {},
   "outputs": [],
   "source": []
  }
 ],
 "metadata": {
  "kernelspec": {
   "display_name": "Python 3",
   "language": "python",
   "name": "python3"
  },
  "language_info": {
   "codemirror_mode": {
    "name": "ipython",
    "version": 3
   },
   "file_extension": ".py",
   "mimetype": "text/x-python",
   "name": "python",
   "nbconvert_exporter": "python",
   "pygments_lexer": "ipython3",
   "version": "3.8.10"
  }
 },
 "nbformat": 4,
 "nbformat_minor": 4
}
