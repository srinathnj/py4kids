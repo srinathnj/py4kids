{
 "cells": [
  {
   "cell_type": "code",
   "execution_count": 1,
   "metadata": {},
   "outputs": [],
   "source": [
    "from finplot_watchlist import *"
   ]
  },
  {
   "cell_type": "code",
   "execution_count": 2,
   "metadata": {},
   "outputs": [],
   "source": [
    "symbols = [\"GDX\"]"
   ]
  },
  {
   "cell_type": "code",
   "execution_count": 3,
   "metadata": {},
   "outputs": [
    {
     "data": {
      "text/plain": [
       "{'database': 'gwgdb',\n",
       " 'host': '127.0.0.1',\n",
       " 'port': '5432',\n",
       " 'user': 'gwguser001',\n",
       " 'password': 'gwgSecret101'}"
      ]
     },
     "execution_count": 3,
     "metadata": {},
     "output_type": "execute_result"
    }
   ],
   "source": [
    "db_kwargs"
   ]
  },
  {
   "cell_type": "code",
   "execution_count": 4,
   "metadata": {},
   "outputs": [],
   "source": [
    "connection = psycopg2.connect(**db_kwargs)"
   ]
  },
  {
   "cell_type": "code",
   "execution_count": 5,
   "metadata": {},
   "outputs": [],
   "source": [
    "cursor = connection.cursor()"
   ]
  },
  {
   "cell_type": "code",
   "execution_count": 6,
   "metadata": {},
   "outputs": [],
   "source": [
    "symbols_str = gwg.quote_tickers(symbols)"
   ]
  },
  {
   "cell_type": "code",
   "execution_count": 7,
   "metadata": {},
   "outputs": [
    {
     "data": {
      "text/plain": [
       "\"('GDX')\""
      ]
     },
     "execution_count": 7,
     "metadata": {},
     "output_type": "execute_result"
    }
   ],
   "source": [
    "symbols_str"
   ]
  },
  {
   "cell_type": "code",
   "execution_count": 8,
   "metadata": {},
   "outputs": [],
   "source": [
    "select_sql = f\"\"\"select \n",
    "    symbol --,sector,industry,website,num_emp,profile \n",
    "    from ticker\n",
    "    where symbol in {symbols_str}\n",
    "    --order by sector,industry\n",
    "    ;\n",
    "\"\"\"\n",
    "cursor.execute(select_sql)\n",
    "query_results = cursor.fetchall()\n",
    "symbols_db = [i[0] for i in query_results]"
   ]
  },
  {
   "cell_type": "code",
   "execution_count": 9,
   "metadata": {},
   "outputs": [
    {
     "data": {
      "text/plain": [
       "['GDX']"
      ]
     },
     "execution_count": 9,
     "metadata": {},
     "output_type": "execute_result"
    }
   ],
   "source": [
    "symbols_db"
   ]
  },
  {
   "cell_type": "code",
   "execution_count": 10,
   "metadata": {},
   "outputs": [],
   "source": [
    "symbols_new = list(set(symbols).difference(set(symbols_db)))"
   ]
  },
  {
   "cell_type": "code",
   "execution_count": 11,
   "metadata": {},
   "outputs": [
    {
     "data": {
      "text/plain": [
       "[]"
      ]
     },
     "execution_count": 11,
     "metadata": {},
     "output_type": "execute_result"
    }
   ],
   "source": [
    "symbols_new"
   ]
  },
  {
   "cell_type": "code",
   "execution_count": 12,
   "metadata": {},
   "outputs": [],
   "source": [
    "select_sql2 = f\"\"\"select \n",
    "    symbol,sector,industry,website,num_emp,profile \n",
    "    from ticker\n",
    "    where symbol in {symbols_str}\n",
    "    order by sector,industry,symbol\n",
    "    ;\n",
    "\"\"\"\n",
    "cursor.execute(select_sql2)\n",
    "query_results = cursor.fetchall()"
   ]
  },
  {
   "cell_type": "code",
   "execution_count": 13,
   "metadata": {},
   "outputs": [
    {
     "data": {
      "text/plain": [
       "[('GDX',\n",
       "  None,\n",
       "  None,\n",
       "  None,\n",
       "  None,\n",
       "  'The investment seeks to replicate as closely as possible, before fees and expenses, the price and yield performance of the NYSEÂ® Arca Gold Miners IndexÂ®.\\n The fund normally invests at least 80% of its total assets in common stocks and depositary receipts of companies involved in the gold mining industry. The index is a modified market-capitalization weighted index primarily comprised of publicly traded companies involved in the mining for gold and silver. The fund is non-diversified.')]"
      ]
     },
     "execution_count": 13,
     "metadata": {},
     "output_type": "execute_result"
    }
   ],
   "source": [
    "query_results"
   ]
  },
  {
   "cell_type": "code",
   "execution_count": 14,
   "metadata": {},
   "outputs": [
    {
     "name": "stdout",
     "output_type": "stream",
     "text": [
      "symbols_new = []\n"
     ]
    }
   ],
   "source": [
    "fa_dict = {}\n",
    "fa_results = get_sector_profiles(symbols, connection)\n",
    "for row in fa_results:\n",
    "    fa_dict[row[0]] = row"
   ]
  },
  {
   "cell_type": "code",
   "execution_count": 15,
   "metadata": {},
   "outputs": [
    {
     "data": {
      "text/plain": [
       "{'GDX': ('GDX',\n",
       "  None,\n",
       "  None,\n",
       "  None,\n",
       "  None,\n",
       "  'The investment seeks to replicate as closely as possible, before fees and expenses, the price and yield performance of the NYSEÂ® Arca Gold Miners IndexÂ®.\\n The fund normally invests at least 80% of its total assets in common stocks and depositary receipts of companies involved in the gold mining industry. The index is a modified market-capitalization weighted index primarily comprised of publicly traded companies involved in the mining for gold and silver. The fund is non-diversified.')}"
      ]
     },
     "execution_count": 15,
     "metadata": {},
     "output_type": "execute_result"
    }
   ],
   "source": [
    "fa_dict"
   ]
  },
  {
   "cell_type": "code",
   "execution_count": 16,
   "metadata": {},
   "outputs": [],
   "source": [
    "symbol = \"GDX\""
   ]
  },
  {
   "cell_type": "code",
   "execution_count": 17,
   "metadata": {},
   "outputs": [],
   "source": [
    "fa_info = fa_dict.get(symbol, [symbol,\"N/A\",\"N/A\",\"N/A\",0,\"N/A\"])"
   ]
  },
  {
   "cell_type": "code",
   "execution_count": 18,
   "metadata": {},
   "outputs": [
    {
     "data": {
      "text/plain": [
       "('GDX',\n",
       " None,\n",
       " None,\n",
       " None,\n",
       " None,\n",
       " 'The investment seeks to replicate as closely as possible, before fees and expenses, the price and yield performance of the NYSEÂ® Arca Gold Miners IndexÂ®.\\n The fund normally invests at least 80% of its total assets in common stocks and depositary receipts of companies involved in the gold mining industry. The index is a modified market-capitalization weighted index primarily comprised of publicly traded companies involved in the mining for gold and silver. The fund is non-diversified.')"
      ]
     },
     "execution_count": 18,
     "metadata": {},
     "output_type": "execute_result"
    }
   ],
   "source": [
    "fa_info"
   ]
  },
  {
   "cell_type": "code",
   "execution_count": 19,
   "metadata": {},
   "outputs": [
    {
     "data": {
      "text/plain": [
       "365"
      ]
     },
     "execution_count": 19,
     "metadata": {},
     "output_type": "execute_result"
    }
   ],
   "source": [
    "NUM_OF_DAYS"
   ]
  },
  {
   "cell_type": "raw",
   "metadata": {},
   "source": [
    "end_t = int(time()) \n",
    "start_t = end_t - NUM_OF_MONTHS*30*24*60*60 # twelve months\n",
    "interval = '1d'\n",
    "\n",
    "url = 'https://query1.finance.yahoo.com/v7/finance/download/%s?period1=%s&period2=%s&interval=%s&events=history' % (symbol, start_t, end_t, interval)\n",
    "\n",
    "# https://github.com/ranaroussi/yfinance/blob/main/CHANGELOG.rst\n",
    "# 0.1.61\n",
    "url = 'https://query2.finance.yahoo.com/v8/finance/download/%s?period1=%s&period2=%s&interval=%s&events=history' % (symbol, start_t, end_t, interval)\n",
    "\n",
    "\n",
    "\n",
    "r = requests.get(url)\n",
    "\n",
    "df = pd.read_csv(StringIO(r.text))"
   ]
  },
  {
   "cell_type": "code",
   "execution_count": 20,
   "metadata": {},
   "outputs": [],
   "source": [
    "yticker = yf.Ticker(symbol)\n",
    "df = yticker.history(f\"{NUM_OF_DAYS}d\")"
   ]
  },
  {
   "cell_type": "code",
   "execution_count": 21,
   "metadata": {},
   "outputs": [
    {
     "data": {
      "text/html": [
       "<div>\n",
       "<style scoped>\n",
       "    .dataframe tbody tr th:only-of-type {\n",
       "        vertical-align: middle;\n",
       "    }\n",
       "\n",
       "    .dataframe tbody tr th {\n",
       "        vertical-align: top;\n",
       "    }\n",
       "\n",
       "    .dataframe thead th {\n",
       "        text-align: right;\n",
       "    }\n",
       "</style>\n",
       "<table border=\"1\" class=\"dataframe\">\n",
       "  <thead>\n",
       "    <tr style=\"text-align: right;\">\n",
       "      <th></th>\n",
       "      <th>Open</th>\n",
       "      <th>High</th>\n",
       "      <th>Low</th>\n",
       "      <th>Close</th>\n",
       "      <th>Volume</th>\n",
       "      <th>Dividends</th>\n",
       "      <th>Stock Splits</th>\n",
       "    </tr>\n",
       "    <tr>\n",
       "      <th>Date</th>\n",
       "      <th></th>\n",
       "      <th></th>\n",
       "      <th></th>\n",
       "      <th></th>\n",
       "      <th></th>\n",
       "      <th></th>\n",
       "      <th></th>\n",
       "    </tr>\n",
       "  </thead>\n",
       "  <tbody>\n",
       "    <tr>\n",
       "      <th>2020-06-05</th>\n",
       "      <td>31.873584</td>\n",
       "      <td>32.291401</td>\n",
       "      <td>31.057842</td>\n",
       "      <td>32.291401</td>\n",
       "      <td>50291100</td>\n",
       "      <td>0.0</td>\n",
       "      <td>0</td>\n",
       "    </tr>\n",
       "    <tr>\n",
       "      <th>2020-06-08</th>\n",
       "      <td>32.400829</td>\n",
       "      <td>32.639584</td>\n",
       "      <td>31.923323</td>\n",
       "      <td>32.609737</td>\n",
       "      <td>21180400</td>\n",
       "      <td>0.0</td>\n",
       "      <td>0</td>\n",
       "    </tr>\n",
       "    <tr>\n",
       "      <th>2020-06-09</th>\n",
       "      <td>32.878336</td>\n",
       "      <td>33.296157</td>\n",
       "      <td>32.490363</td>\n",
       "      <td>32.888287</td>\n",
       "      <td>21745400</td>\n",
       "      <td>0.0</td>\n",
       "      <td>0</td>\n",
       "    </tr>\n",
       "    <tr>\n",
       "      <th>2020-06-10</th>\n",
       "      <td>33.316052</td>\n",
       "      <td>34.350647</td>\n",
       "      <td>32.271502</td>\n",
       "      <td>34.350647</td>\n",
       "      <td>46916400</td>\n",
       "      <td>0.0</td>\n",
       "      <td>0</td>\n",
       "    </tr>\n",
       "    <tr>\n",
       "      <th>2020-06-11</th>\n",
       "      <td>34.241219</td>\n",
       "      <td>34.738622</td>\n",
       "      <td>32.221764</td>\n",
       "      <td>32.659481</td>\n",
       "      <td>50214100</td>\n",
       "      <td>0.0</td>\n",
       "      <td>0</td>\n",
       "    </tr>\n",
       "    <tr>\n",
       "      <th>...</th>\n",
       "      <td>...</td>\n",
       "      <td>...</td>\n",
       "      <td>...</td>\n",
       "      <td>...</td>\n",
       "      <td>...</td>\n",
       "      <td>...</td>\n",
       "      <td>...</td>\n",
       "    </tr>\n",
       "    <tr>\n",
       "      <th>2021-11-08</th>\n",
       "      <td>33.090000</td>\n",
       "      <td>33.139999</td>\n",
       "      <td>32.660000</td>\n",
       "      <td>32.900002</td>\n",
       "      <td>16769000</td>\n",
       "      <td>0.0</td>\n",
       "      <td>0</td>\n",
       "    </tr>\n",
       "    <tr>\n",
       "      <th>2021-11-09</th>\n",
       "      <td>33.029999</td>\n",
       "      <td>33.320000</td>\n",
       "      <td>32.570000</td>\n",
       "      <td>33.320000</td>\n",
       "      <td>15970100</td>\n",
       "      <td>0.0</td>\n",
       "      <td>0</td>\n",
       "    </tr>\n",
       "    <tr>\n",
       "      <th>2021-11-10</th>\n",
       "      <td>34.139999</td>\n",
       "      <td>34.500000</td>\n",
       "      <td>33.689999</td>\n",
       "      <td>33.910000</td>\n",
       "      <td>41093000</td>\n",
       "      <td>0.0</td>\n",
       "      <td>0</td>\n",
       "    </tr>\n",
       "    <tr>\n",
       "      <th>2021-11-11</th>\n",
       "      <td>34.720001</td>\n",
       "      <td>34.830002</td>\n",
       "      <td>34.310001</td>\n",
       "      <td>34.700001</td>\n",
       "      <td>25332800</td>\n",
       "      <td>0.0</td>\n",
       "      <td>0</td>\n",
       "    </tr>\n",
       "    <tr>\n",
       "      <th>2021-11-12</th>\n",
       "      <td>34.450001</td>\n",
       "      <td>35.009998</td>\n",
       "      <td>34.220001</td>\n",
       "      <td>34.770000</td>\n",
       "      <td>16470900</td>\n",
       "      <td>0.0</td>\n",
       "      <td>0</td>\n",
       "    </tr>\n",
       "  </tbody>\n",
       "</table>\n",
       "<p>365 rows × 7 columns</p>\n",
       "</div>"
      ],
      "text/plain": [
       "                 Open       High        Low      Close    Volume  Dividends  \\\n",
       "Date                                                                          \n",
       "2020-06-05  31.873584  32.291401  31.057842  32.291401  50291100        0.0   \n",
       "2020-06-08  32.400829  32.639584  31.923323  32.609737  21180400        0.0   \n",
       "2020-06-09  32.878336  33.296157  32.490363  32.888287  21745400        0.0   \n",
       "2020-06-10  33.316052  34.350647  32.271502  34.350647  46916400        0.0   \n",
       "2020-06-11  34.241219  34.738622  32.221764  32.659481  50214100        0.0   \n",
       "...               ...        ...        ...        ...       ...        ...   \n",
       "2021-11-08  33.090000  33.139999  32.660000  32.900002  16769000        0.0   \n",
       "2021-11-09  33.029999  33.320000  32.570000  33.320000  15970100        0.0   \n",
       "2021-11-10  34.139999  34.500000  33.689999  33.910000  41093000        0.0   \n",
       "2021-11-11  34.720001  34.830002  34.310001  34.700001  25332800        0.0   \n",
       "2021-11-12  34.450001  35.009998  34.220001  34.770000  16470900        0.0   \n",
       "\n",
       "            Stock Splits  \n",
       "Date                      \n",
       "2020-06-05             0  \n",
       "2020-06-08             0  \n",
       "2020-06-09             0  \n",
       "2020-06-10             0  \n",
       "2020-06-11             0  \n",
       "...                  ...  \n",
       "2021-11-08             0  \n",
       "2021-11-09             0  \n",
       "2021-11-10             0  \n",
       "2021-11-11             0  \n",
       "2021-11-12             0  \n",
       "\n",
       "[365 rows x 7 columns]"
      ]
     },
     "execution_count": 21,
     "metadata": {},
     "output_type": "execute_result"
    }
   ],
   "source": [
    "df"
   ]
  },
  {
   "cell_type": "code",
   "execution_count": 23,
   "metadata": {},
   "outputs": [],
   "source": [
    "df.reset_index(inplace=True)"
   ]
  },
  {
   "cell_type": "code",
   "execution_count": 24,
   "metadata": {},
   "outputs": [
    {
     "data": {
      "text/html": [
       "<div>\n",
       "<style scoped>\n",
       "    .dataframe tbody tr th:only-of-type {\n",
       "        vertical-align: middle;\n",
       "    }\n",
       "\n",
       "    .dataframe tbody tr th {\n",
       "        vertical-align: top;\n",
       "    }\n",
       "\n",
       "    .dataframe thead th {\n",
       "        text-align: right;\n",
       "    }\n",
       "</style>\n",
       "<table border=\"1\" class=\"dataframe\">\n",
       "  <thead>\n",
       "    <tr style=\"text-align: right;\">\n",
       "      <th></th>\n",
       "      <th>Date</th>\n",
       "      <th>Open</th>\n",
       "      <th>High</th>\n",
       "      <th>Low</th>\n",
       "      <th>Close</th>\n",
       "      <th>Volume</th>\n",
       "      <th>Dividends</th>\n",
       "      <th>Stock Splits</th>\n",
       "    </tr>\n",
       "  </thead>\n",
       "  <tbody>\n",
       "    <tr>\n",
       "      <th>0</th>\n",
       "      <td>2020-06-05</td>\n",
       "      <td>31.873584</td>\n",
       "      <td>32.291401</td>\n",
       "      <td>31.057842</td>\n",
       "      <td>32.291401</td>\n",
       "      <td>50291100</td>\n",
       "      <td>0.0</td>\n",
       "      <td>0</td>\n",
       "    </tr>\n",
       "    <tr>\n",
       "      <th>1</th>\n",
       "      <td>2020-06-08</td>\n",
       "      <td>32.400829</td>\n",
       "      <td>32.639584</td>\n",
       "      <td>31.923323</td>\n",
       "      <td>32.609737</td>\n",
       "      <td>21180400</td>\n",
       "      <td>0.0</td>\n",
       "      <td>0</td>\n",
       "    </tr>\n",
       "    <tr>\n",
       "      <th>2</th>\n",
       "      <td>2020-06-09</td>\n",
       "      <td>32.878336</td>\n",
       "      <td>33.296157</td>\n",
       "      <td>32.490363</td>\n",
       "      <td>32.888287</td>\n",
       "      <td>21745400</td>\n",
       "      <td>0.0</td>\n",
       "      <td>0</td>\n",
       "    </tr>\n",
       "    <tr>\n",
       "      <th>3</th>\n",
       "      <td>2020-06-10</td>\n",
       "      <td>33.316052</td>\n",
       "      <td>34.350647</td>\n",
       "      <td>32.271502</td>\n",
       "      <td>34.350647</td>\n",
       "      <td>46916400</td>\n",
       "      <td>0.0</td>\n",
       "      <td>0</td>\n",
       "    </tr>\n",
       "    <tr>\n",
       "      <th>4</th>\n",
       "      <td>2020-06-11</td>\n",
       "      <td>34.241219</td>\n",
       "      <td>34.738622</td>\n",
       "      <td>32.221764</td>\n",
       "      <td>32.659481</td>\n",
       "      <td>50214100</td>\n",
       "      <td>0.0</td>\n",
       "      <td>0</td>\n",
       "    </tr>\n",
       "    <tr>\n",
       "      <th>...</th>\n",
       "      <td>...</td>\n",
       "      <td>...</td>\n",
       "      <td>...</td>\n",
       "      <td>...</td>\n",
       "      <td>...</td>\n",
       "      <td>...</td>\n",
       "      <td>...</td>\n",
       "      <td>...</td>\n",
       "    </tr>\n",
       "    <tr>\n",
       "      <th>360</th>\n",
       "      <td>2021-11-08</td>\n",
       "      <td>33.090000</td>\n",
       "      <td>33.139999</td>\n",
       "      <td>32.660000</td>\n",
       "      <td>32.900002</td>\n",
       "      <td>16769000</td>\n",
       "      <td>0.0</td>\n",
       "      <td>0</td>\n",
       "    </tr>\n",
       "    <tr>\n",
       "      <th>361</th>\n",
       "      <td>2021-11-09</td>\n",
       "      <td>33.029999</td>\n",
       "      <td>33.320000</td>\n",
       "      <td>32.570000</td>\n",
       "      <td>33.320000</td>\n",
       "      <td>15970100</td>\n",
       "      <td>0.0</td>\n",
       "      <td>0</td>\n",
       "    </tr>\n",
       "    <tr>\n",
       "      <th>362</th>\n",
       "      <td>2021-11-10</td>\n",
       "      <td>34.139999</td>\n",
       "      <td>34.500000</td>\n",
       "      <td>33.689999</td>\n",
       "      <td>33.910000</td>\n",
       "      <td>41093000</td>\n",
       "      <td>0.0</td>\n",
       "      <td>0</td>\n",
       "    </tr>\n",
       "    <tr>\n",
       "      <th>363</th>\n",
       "      <td>2021-11-11</td>\n",
       "      <td>34.720001</td>\n",
       "      <td>34.830002</td>\n",
       "      <td>34.310001</td>\n",
       "      <td>34.700001</td>\n",
       "      <td>25332800</td>\n",
       "      <td>0.0</td>\n",
       "      <td>0</td>\n",
       "    </tr>\n",
       "    <tr>\n",
       "      <th>364</th>\n",
       "      <td>2021-11-12</td>\n",
       "      <td>34.450001</td>\n",
       "      <td>35.009998</td>\n",
       "      <td>34.220001</td>\n",
       "      <td>34.770000</td>\n",
       "      <td>16470900</td>\n",
       "      <td>0.0</td>\n",
       "      <td>0</td>\n",
       "    </tr>\n",
       "  </tbody>\n",
       "</table>\n",
       "<p>365 rows × 8 columns</p>\n",
       "</div>"
      ],
      "text/plain": [
       "          Date       Open       High        Low      Close    Volume  \\\n",
       "0   2020-06-05  31.873584  32.291401  31.057842  32.291401  50291100   \n",
       "1   2020-06-08  32.400829  32.639584  31.923323  32.609737  21180400   \n",
       "2   2020-06-09  32.878336  33.296157  32.490363  32.888287  21745400   \n",
       "3   2020-06-10  33.316052  34.350647  32.271502  34.350647  46916400   \n",
       "4   2020-06-11  34.241219  34.738622  32.221764  32.659481  50214100   \n",
       "..         ...        ...        ...        ...        ...       ...   \n",
       "360 2021-11-08  33.090000  33.139999  32.660000  32.900002  16769000   \n",
       "361 2021-11-09  33.029999  33.320000  32.570000  33.320000  15970100   \n",
       "362 2021-11-10  34.139999  34.500000  33.689999  33.910000  41093000   \n",
       "363 2021-11-11  34.720001  34.830002  34.310001  34.700001  25332800   \n",
       "364 2021-11-12  34.450001  35.009998  34.220001  34.770000  16470900   \n",
       "\n",
       "     Dividends  Stock Splits  \n",
       "0          0.0             0  \n",
       "1          0.0             0  \n",
       "2          0.0             0  \n",
       "3          0.0             0  \n",
       "4          0.0             0  \n",
       "..         ...           ...  \n",
       "360        0.0             0  \n",
       "361        0.0             0  \n",
       "362        0.0             0  \n",
       "363        0.0             0  \n",
       "364        0.0             0  \n",
       "\n",
       "[365 rows x 8 columns]"
      ]
     },
     "execution_count": 24,
     "metadata": {},
     "output_type": "execute_result"
    }
   ],
   "source": [
    "df"
   ]
  },
  {
   "cell_type": "code",
   "execution_count": null,
   "metadata": {},
   "outputs": [],
   "source": []
  }
 ],
 "metadata": {
  "kernelspec": {
   "display_name": "Python 3",
   "language": "python",
   "name": "python3"
  },
  "language_info": {
   "codemirror_mode": {
    "name": "ipython",
    "version": 3
   },
   "file_extension": ".py",
   "mimetype": "text/x-python",
   "name": "python",
   "nbconvert_exporter": "python",
   "pygments_lexer": "ipython3",
   "version": "3.8.10"
  }
 },
 "nbformat": 4,
 "nbformat_minor": 4
}
