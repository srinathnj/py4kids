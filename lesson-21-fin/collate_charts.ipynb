{
 "cells": [
  {
   "cell_type": "markdown",
   "metadata": {},
   "source": [
    "# Import Lib"
   ]
  },
  {
   "cell_type": "code",
   "execution_count": 1,
   "metadata": {},
   "outputs": [],
   "source": [
    "import datetime, glob, os, re\n",
    "from IPython.core.display import display, HTML\n",
    "from pathlib import Path\n",
    "\n",
    "def get_orig_png_files(strategy_files_png):\n",
    "    results = []\n",
    "    files = [f.parts[-1] for f in strategy_files_png]\n",
    "    for f in files:\n",
    "        z = re.match(\".*(NQ.*\\.png)\", f)\n",
    "        if z:\n",
    "            results.append(z.groups()[0])\n",
    "    return results\n",
    "\n",
    "def img_str(f_img, f_img_path, id_img, width=800, height=600):\n",
    "    return f'<tr><td><img src=\"{f_img_path}\" width={width} height={height}></td></tr><tr><td>{f_img} ({id_img})</td></tr>'\n",
    "\n",
    "def gen_img_table_html(files_png, title=\"charts\", excludes=[], width=800, height=600):\n",
    "    if len(files_png):\n",
    "        display(HTML(f'<h3>{title} - {str(datetime.datetime.now())}</h3>'))\n",
    "\n",
    "        display(HTML(\"<table>\"))\n",
    "        \n",
    "        # remove annotated files\n",
    "        files_img = []\n",
    "        for p in files_png.copy():\n",
    "            f_img1 = p.parts[-1]\n",
    "            if not f_img1 in excludes:\n",
    "                files_img.append(p)\n",
    "\n",
    "        num_imgs = len(files_img)\n",
    "        for i in range(0, num_imgs, 2):\n",
    "            # if i > 1: break\n",
    "            f_img1 = files_img[i].parts[-1]\n",
    "            f_img1_path = files_img[i].as_uri()\n",
    "            display(HTML(img_str(f_img1, f_img1_path, f\"{i}/{num_imgs}\", width=width, height=height)))\n",
    "            try:\n",
    "                f_img2 = files_img[i+1].parts[-1]\n",
    "                f_img2_path = files_img[i+1].as_uri()\n",
    "                display(HTML(img_str(f_img2, f_img2_path, f\"{i+1}/{num_imgs}\", width=width, height=height)))\n",
    "            except:\n",
    "                pass\n",
    "\n",
    "        display(HTML(\"</table>\"))    \n",
    "\n",
    "def gen_img_table_html_v2(files_png, title=\"charts\", excludes=[], width=800, height=600):\n",
    "    if len(files_png):\n",
    "        display(HTML(f'<h3>{title} - {str(datetime.datetime.now())}</h3>'))\n",
    "\n",
    "        display(HTML(\"<table>\"))\n",
    "        \n",
    "        # remove annotated files\n",
    "        files_img = []\n",
    "        for p in files_png.copy():\n",
    "            f_img1 = p.parts[-1]\n",
    "            if not f_img1 in excludes:\n",
    "                files_img.append(p)\n",
    "\n",
    "        num_imgs = len(files_img)\n",
    "        for i in range(num_imgs):\n",
    "            f_img1 = files_img[i].parts[-1]\n",
    "            f_img1_path = files_img[i].as_uri()\n",
    "            display(HTML(img_str(f_img1, f_img1_path, f\"{i}/{num_imgs}\", width=width, height=height)))\n",
    "\n",
    "        display(HTML(\"</table>\"))    "
   ]
  },
  {
   "cell_type": "markdown",
   "metadata": {},
   "source": [
    "# Chart Patterns"
   ]
  },
  {
   "cell_type": "raw",
   "metadata": {},
   "source": [
    "for p in strategy_files_png:\n",
    "    n = p.parts[-1].replace(\"INTC-\", \"\").replace(\".png\", \"\")\n",
    "    if int(n) < 10:\n",
    "        p.rename(Path.joinpath(p.parent, f\"INTC-{n.zfill(2)}.png\"))\n",
    "\n",
    "strategy_files_png = list(Path(CWD).glob(\"INTC-*.png\"))"
   ]
  },
  {
   "cell_type": "code",
   "execution_count": 2,
   "metadata": {},
   "outputs": [
    {
     "data": {
      "text/html": [
       "<h3>winner aapl chart patterns - 2022-03-20 22:19:02.459283</h3>"
      ],
      "text/plain": [
       "<IPython.core.display.HTML object>"
      ]
     },
     "metadata": {},
     "output_type": "display_data"
    },
    {
     "data": {
      "text/html": [
       "<table>"
      ],
      "text/plain": [
       "<IPython.core.display.HTML object>"
      ]
     },
     "metadata": {},
     "output_type": "display_data"
    },
    {
     "data": {
      "text/html": [
       "<tr><td><img src=\"file:///C:/Users/w_gon/projects/mplfinance/examples/images/aapl-01.png\" width=800 height=800></td></tr><tr><td>aapl-01.png (0/47)</td></tr>"
      ],
      "text/plain": [
       "<IPython.core.display.HTML object>"
      ]
     },
     "metadata": {},
     "output_type": "display_data"
    },
    {
     "data": {
      "text/html": [
       "<tr><td><img src=\"file:///C:/Users/w_gon/projects/mplfinance/examples/images/aapl-02.png\" width=800 height=800></td></tr><tr><td>aapl-02.png (1/47)</td></tr>"
      ],
      "text/plain": [
       "<IPython.core.display.HTML object>"
      ]
     },
     "metadata": {},
     "output_type": "display_data"
    },
    {
     "data": {
      "text/html": [
       "<tr><td><img src=\"file:///C:/Users/w_gon/projects/mplfinance/examples/images/aapl-03.png\" width=800 height=800></td></tr><tr><td>aapl-03.png (2/47)</td></tr>"
      ],
      "text/plain": [
       "<IPython.core.display.HTML object>"
      ]
     },
     "metadata": {},
     "output_type": "display_data"
    },
    {
     "data": {
      "text/html": [
       "<tr><td><img src=\"file:///C:/Users/w_gon/projects/mplfinance/examples/images/aapl-04.png\" width=800 height=800></td></tr><tr><td>aapl-04.png (3/47)</td></tr>"
      ],
      "text/plain": [
       "<IPython.core.display.HTML object>"
      ]
     },
     "metadata": {},
     "output_type": "display_data"
    },
    {
     "data": {
      "text/html": [
       "<tr><td><img src=\"file:///C:/Users/w_gon/projects/mplfinance/examples/images/aapl-05.png\" width=800 height=800></td></tr><tr><td>aapl-05.png (4/47)</td></tr>"
      ],
      "text/plain": [
       "<IPython.core.display.HTML object>"
      ]
     },
     "metadata": {},
     "output_type": "display_data"
    },
    {
     "data": {
      "text/html": [
       "<tr><td><img src=\"file:///C:/Users/w_gon/projects/mplfinance/examples/images/aapl-06.png\" width=800 height=800></td></tr><tr><td>aapl-06.png (5/47)</td></tr>"
      ],
      "text/plain": [
       "<IPython.core.display.HTML object>"
      ]
     },
     "metadata": {},
     "output_type": "display_data"
    },
    {
     "data": {
      "text/html": [
       "<tr><td><img src=\"file:///C:/Users/w_gon/projects/mplfinance/examples/images/aapl-07.png\" width=800 height=800></td></tr><tr><td>aapl-07.png (6/47)</td></tr>"
      ],
      "text/plain": [
       "<IPython.core.display.HTML object>"
      ]
     },
     "metadata": {},
     "output_type": "display_data"
    },
    {
     "data": {
      "text/html": [
       "<tr><td><img src=\"file:///C:/Users/w_gon/projects/mplfinance/examples/images/aapl-08.png\" width=800 height=800></td></tr><tr><td>aapl-08.png (7/47)</td></tr>"
      ],
      "text/plain": [
       "<IPython.core.display.HTML object>"
      ]
     },
     "metadata": {},
     "output_type": "display_data"
    },
    {
     "data": {
      "text/html": [
       "<tr><td><img src=\"file:///C:/Users/w_gon/projects/mplfinance/examples/images/aapl-09.png\" width=800 height=800></td></tr><tr><td>aapl-09.png (8/47)</td></tr>"
      ],
      "text/plain": [
       "<IPython.core.display.HTML object>"
      ]
     },
     "metadata": {},
     "output_type": "display_data"
    },
    {
     "data": {
      "text/html": [
       "<tr><td><img src=\"file:///C:/Users/w_gon/projects/mplfinance/examples/images/aapl-10.png\" width=800 height=800></td></tr><tr><td>aapl-10.png (9/47)</td></tr>"
      ],
      "text/plain": [
       "<IPython.core.display.HTML object>"
      ]
     },
     "metadata": {},
     "output_type": "display_data"
    },
    {
     "data": {
      "text/html": [
       "<tr><td><img src=\"file:///C:/Users/w_gon/projects/mplfinance/examples/images/aapl-11.png\" width=800 height=800></td></tr><tr><td>aapl-11.png (10/47)</td></tr>"
      ],
      "text/plain": [
       "<IPython.core.display.HTML object>"
      ]
     },
     "metadata": {},
     "output_type": "display_data"
    },
    {
     "data": {
      "text/html": [
       "<tr><td><img src=\"file:///C:/Users/w_gon/projects/mplfinance/examples/images/aapl-12.png\" width=800 height=800></td></tr><tr><td>aapl-12.png (11/47)</td></tr>"
      ],
      "text/plain": [
       "<IPython.core.display.HTML object>"
      ]
     },
     "metadata": {},
     "output_type": "display_data"
    },
    {
     "data": {
      "text/html": [
       "<tr><td><img src=\"file:///C:/Users/w_gon/projects/mplfinance/examples/images/aapl-13.png\" width=800 height=800></td></tr><tr><td>aapl-13.png (12/47)</td></tr>"
      ],
      "text/plain": [
       "<IPython.core.display.HTML object>"
      ]
     },
     "metadata": {},
     "output_type": "display_data"
    },
    {
     "data": {
      "text/html": [
       "<tr><td><img src=\"file:///C:/Users/w_gon/projects/mplfinance/examples/images/aapl-14.png\" width=800 height=800></td></tr><tr><td>aapl-14.png (13/47)</td></tr>"
      ],
      "text/plain": [
       "<IPython.core.display.HTML object>"
      ]
     },
     "metadata": {},
     "output_type": "display_data"
    },
    {
     "data": {
      "text/html": [
       "<tr><td><img src=\"file:///C:/Users/w_gon/projects/mplfinance/examples/images/aapl-15.png\" width=800 height=800></td></tr><tr><td>aapl-15.png (14/47)</td></tr>"
      ],
      "text/plain": [
       "<IPython.core.display.HTML object>"
      ]
     },
     "metadata": {},
     "output_type": "display_data"
    },
    {
     "data": {
      "text/html": [
       "<tr><td><img src=\"file:///C:/Users/w_gon/projects/mplfinance/examples/images/aapl-16.png\" width=800 height=800></td></tr><tr><td>aapl-16.png (15/47)</td></tr>"
      ],
      "text/plain": [
       "<IPython.core.display.HTML object>"
      ]
     },
     "metadata": {},
     "output_type": "display_data"
    },
    {
     "data": {
      "text/html": [
       "<tr><td><img src=\"file:///C:/Users/w_gon/projects/mplfinance/examples/images/aapl-17.png\" width=800 height=800></td></tr><tr><td>aapl-17.png (16/47)</td></tr>"
      ],
      "text/plain": [
       "<IPython.core.display.HTML object>"
      ]
     },
     "metadata": {},
     "output_type": "display_data"
    },
    {
     "data": {
      "text/html": [
       "<tr><td><img src=\"file:///C:/Users/w_gon/projects/mplfinance/examples/images/aapl-18.png\" width=800 height=800></td></tr><tr><td>aapl-18.png (17/47)</td></tr>"
      ],
      "text/plain": [
       "<IPython.core.display.HTML object>"
      ]
     },
     "metadata": {},
     "output_type": "display_data"
    },
    {
     "data": {
      "text/html": [
       "<tr><td><img src=\"file:///C:/Users/w_gon/projects/mplfinance/examples/images/aapl-19.png\" width=800 height=800></td></tr><tr><td>aapl-19.png (18/47)</td></tr>"
      ],
      "text/plain": [
       "<IPython.core.display.HTML object>"
      ]
     },
     "metadata": {},
     "output_type": "display_data"
    },
    {
     "data": {
      "text/html": [
       "<tr><td><img src=\"file:///C:/Users/w_gon/projects/mplfinance/examples/images/aapl-20.png\" width=800 height=800></td></tr><tr><td>aapl-20.png (19/47)</td></tr>"
      ],
      "text/plain": [
       "<IPython.core.display.HTML object>"
      ]
     },
     "metadata": {},
     "output_type": "display_data"
    },
    {
     "data": {
      "text/html": [
       "<tr><td><img src=\"file:///C:/Users/w_gon/projects/mplfinance/examples/images/aapl-21.png\" width=800 height=800></td></tr><tr><td>aapl-21.png (20/47)</td></tr>"
      ],
      "text/plain": [
       "<IPython.core.display.HTML object>"
      ]
     },
     "metadata": {},
     "output_type": "display_data"
    },
    {
     "data": {
      "text/html": [
       "<tr><td><img src=\"file:///C:/Users/w_gon/projects/mplfinance/examples/images/aapl-22.png\" width=800 height=800></td></tr><tr><td>aapl-22.png (21/47)</td></tr>"
      ],
      "text/plain": [
       "<IPython.core.display.HTML object>"
      ]
     },
     "metadata": {},
     "output_type": "display_data"
    },
    {
     "data": {
      "text/html": [
       "<tr><td><img src=\"file:///C:/Users/w_gon/projects/mplfinance/examples/images/aapl-23.png\" width=800 height=800></td></tr><tr><td>aapl-23.png (22/47)</td></tr>"
      ],
      "text/plain": [
       "<IPython.core.display.HTML object>"
      ]
     },
     "metadata": {},
     "output_type": "display_data"
    },
    {
     "data": {
      "text/html": [
       "<tr><td><img src=\"file:///C:/Users/w_gon/projects/mplfinance/examples/images/aapl-24.png\" width=800 height=800></td></tr><tr><td>aapl-24.png (23/47)</td></tr>"
      ],
      "text/plain": [
       "<IPython.core.display.HTML object>"
      ]
     },
     "metadata": {},
     "output_type": "display_data"
    },
    {
     "data": {
      "text/html": [
       "<tr><td><img src=\"file:///C:/Users/w_gon/projects/mplfinance/examples/images/aapl-25.png\" width=800 height=800></td></tr><tr><td>aapl-25.png (24/47)</td></tr>"
      ],
      "text/plain": [
       "<IPython.core.display.HTML object>"
      ]
     },
     "metadata": {},
     "output_type": "display_data"
    },
    {
     "data": {
      "text/html": [
       "<tr><td><img src=\"file:///C:/Users/w_gon/projects/mplfinance/examples/images/aapl-26.png\" width=800 height=800></td></tr><tr><td>aapl-26.png (25/47)</td></tr>"
      ],
      "text/plain": [
       "<IPython.core.display.HTML object>"
      ]
     },
     "metadata": {},
     "output_type": "display_data"
    },
    {
     "data": {
      "text/html": [
       "<tr><td><img src=\"file:///C:/Users/w_gon/projects/mplfinance/examples/images/aapl-27.png\" width=800 height=800></td></tr><tr><td>aapl-27.png (26/47)</td></tr>"
      ],
      "text/plain": [
       "<IPython.core.display.HTML object>"
      ]
     },
     "metadata": {},
     "output_type": "display_data"
    },
    {
     "data": {
      "text/html": [
       "<tr><td><img src=\"file:///C:/Users/w_gon/projects/mplfinance/examples/images/aapl-28.png\" width=800 height=800></td></tr><tr><td>aapl-28.png (27/47)</td></tr>"
      ],
      "text/plain": [
       "<IPython.core.display.HTML object>"
      ]
     },
     "metadata": {},
     "output_type": "display_data"
    },
    {
     "data": {
      "text/html": [
       "<tr><td><img src=\"file:///C:/Users/w_gon/projects/mplfinance/examples/images/aapl-29.png\" width=800 height=800></td></tr><tr><td>aapl-29.png (28/47)</td></tr>"
      ],
      "text/plain": [
       "<IPython.core.display.HTML object>"
      ]
     },
     "metadata": {},
     "output_type": "display_data"
    },
    {
     "data": {
      "text/html": [
       "<tr><td><img src=\"file:///C:/Users/w_gon/projects/mplfinance/examples/images/aapl-30.png\" width=800 height=800></td></tr><tr><td>aapl-30.png (29/47)</td></tr>"
      ],
      "text/plain": [
       "<IPython.core.display.HTML object>"
      ]
     },
     "metadata": {},
     "output_type": "display_data"
    },
    {
     "data": {
      "text/html": [
       "<tr><td><img src=\"file:///C:/Users/w_gon/projects/mplfinance/examples/images/aapl-31.png\" width=800 height=800></td></tr><tr><td>aapl-31.png (30/47)</td></tr>"
      ],
      "text/plain": [
       "<IPython.core.display.HTML object>"
      ]
     },
     "metadata": {},
     "output_type": "display_data"
    },
    {
     "data": {
      "text/html": [
       "<tr><td><img src=\"file:///C:/Users/w_gon/projects/mplfinance/examples/images/aapl-32.png\" width=800 height=800></td></tr><tr><td>aapl-32.png (31/47)</td></tr>"
      ],
      "text/plain": [
       "<IPython.core.display.HTML object>"
      ]
     },
     "metadata": {},
     "output_type": "display_data"
    },
    {
     "data": {
      "text/html": [
       "<tr><td><img src=\"file:///C:/Users/w_gon/projects/mplfinance/examples/images/aapl-33.png\" width=800 height=800></td></tr><tr><td>aapl-33.png (32/47)</td></tr>"
      ],
      "text/plain": [
       "<IPython.core.display.HTML object>"
      ]
     },
     "metadata": {},
     "output_type": "display_data"
    },
    {
     "data": {
      "text/html": [
       "<tr><td><img src=\"file:///C:/Users/w_gon/projects/mplfinance/examples/images/aapl-34.png\" width=800 height=800></td></tr><tr><td>aapl-34.png (33/47)</td></tr>"
      ],
      "text/plain": [
       "<IPython.core.display.HTML object>"
      ]
     },
     "metadata": {},
     "output_type": "display_data"
    },
    {
     "data": {
      "text/html": [
       "<tr><td><img src=\"file:///C:/Users/w_gon/projects/mplfinance/examples/images/aapl-35.png\" width=800 height=800></td></tr><tr><td>aapl-35.png (34/47)</td></tr>"
      ],
      "text/plain": [
       "<IPython.core.display.HTML object>"
      ]
     },
     "metadata": {},
     "output_type": "display_data"
    },
    {
     "data": {
      "text/html": [
       "<tr><td><img src=\"file:///C:/Users/w_gon/projects/mplfinance/examples/images/aapl-36.png\" width=800 height=800></td></tr><tr><td>aapl-36.png (35/47)</td></tr>"
      ],
      "text/plain": [
       "<IPython.core.display.HTML object>"
      ]
     },
     "metadata": {},
     "output_type": "display_data"
    },
    {
     "data": {
      "text/html": [
       "<tr><td><img src=\"file:///C:/Users/w_gon/projects/mplfinance/examples/images/aapl-37.png\" width=800 height=800></td></tr><tr><td>aapl-37.png (36/47)</td></tr>"
      ],
      "text/plain": [
       "<IPython.core.display.HTML object>"
      ]
     },
     "metadata": {},
     "output_type": "display_data"
    },
    {
     "data": {
      "text/html": [
       "<tr><td><img src=\"file:///C:/Users/w_gon/projects/mplfinance/examples/images/aapl-38.png\" width=800 height=800></td></tr><tr><td>aapl-38.png (37/47)</td></tr>"
      ],
      "text/plain": [
       "<IPython.core.display.HTML object>"
      ]
     },
     "metadata": {},
     "output_type": "display_data"
    },
    {
     "data": {
      "text/html": [
       "<tr><td><img src=\"file:///C:/Users/w_gon/projects/mplfinance/examples/images/aapl-39.png\" width=800 height=800></td></tr><tr><td>aapl-39.png (38/47)</td></tr>"
      ],
      "text/plain": [
       "<IPython.core.display.HTML object>"
      ]
     },
     "metadata": {},
     "output_type": "display_data"
    },
    {
     "data": {
      "text/html": [
       "<tr><td><img src=\"file:///C:/Users/w_gon/projects/mplfinance/examples/images/aapl-40.png\" width=800 height=800></td></tr><tr><td>aapl-40.png (39/47)</td></tr>"
      ],
      "text/plain": [
       "<IPython.core.display.HTML object>"
      ]
     },
     "metadata": {},
     "output_type": "display_data"
    },
    {
     "data": {
      "text/html": [
       "<tr><td><img src=\"file:///C:/Users/w_gon/projects/mplfinance/examples/images/aapl-41.png\" width=800 height=800></td></tr><tr><td>aapl-41.png (40/47)</td></tr>"
      ],
      "text/plain": [
       "<IPython.core.display.HTML object>"
      ]
     },
     "metadata": {},
     "output_type": "display_data"
    },
    {
     "data": {
      "text/html": [
       "<tr><td><img src=\"file:///C:/Users/w_gon/projects/mplfinance/examples/images/aapl-42.png\" width=800 height=800></td></tr><tr><td>aapl-42.png (41/47)</td></tr>"
      ],
      "text/plain": [
       "<IPython.core.display.HTML object>"
      ]
     },
     "metadata": {},
     "output_type": "display_data"
    },
    {
     "data": {
      "text/html": [
       "<tr><td><img src=\"file:///C:/Users/w_gon/projects/mplfinance/examples/images/aapl-43.png\" width=800 height=800></td></tr><tr><td>aapl-43.png (42/47)</td></tr>"
      ],
      "text/plain": [
       "<IPython.core.display.HTML object>"
      ]
     },
     "metadata": {},
     "output_type": "display_data"
    },
    {
     "data": {
      "text/html": [
       "<tr><td><img src=\"file:///C:/Users/w_gon/projects/mplfinance/examples/images/aapl-44.png\" width=800 height=800></td></tr><tr><td>aapl-44.png (43/47)</td></tr>"
      ],
      "text/plain": [
       "<IPython.core.display.HTML object>"
      ]
     },
     "metadata": {},
     "output_type": "display_data"
    },
    {
     "data": {
      "text/html": [
       "<tr><td><img src=\"file:///C:/Users/w_gon/projects/mplfinance/examples/images/aapl-45.png\" width=800 height=800></td></tr><tr><td>aapl-45.png (44/47)</td></tr>"
      ],
      "text/plain": [
       "<IPython.core.display.HTML object>"
      ]
     },
     "metadata": {},
     "output_type": "display_data"
    },
    {
     "data": {
      "text/html": [
       "<tr><td><img src=\"file:///C:/Users/w_gon/projects/mplfinance/examples/images/aapl-46.png\" width=800 height=800></td></tr><tr><td>aapl-46.png (45/47)</td></tr>"
      ],
      "text/plain": [
       "<IPython.core.display.HTML object>"
      ]
     },
     "metadata": {},
     "output_type": "display_data"
    },
    {
     "data": {
      "text/html": [
       "<tr><td><img src=\"file:///C:/Users/w_gon/projects/mplfinance/examples/images/aapl-47.png\" width=800 height=800></td></tr><tr><td>aapl-47.png (46/47)</td></tr>"
      ],
      "text/plain": [
       "<IPython.core.display.HTML object>"
      ]
     },
     "metadata": {},
     "output_type": "display_data"
    },
    {
     "data": {
      "text/html": [
       "</table>"
      ],
      "text/plain": [
       "<IPython.core.display.HTML object>"
      ]
     },
     "metadata": {},
     "output_type": "display_data"
    },
    {
     "data": {
      "text/html": [
       "<h3>winner adbe chart patterns - 2022-03-20 22:19:02.629188</h3>"
      ],
      "text/plain": [
       "<IPython.core.display.HTML object>"
      ]
     },
     "metadata": {},
     "output_type": "display_data"
    },
    {
     "data": {
      "text/html": [
       "<table>"
      ],
      "text/plain": [
       "<IPython.core.display.HTML object>"
      ]
     },
     "metadata": {},
     "output_type": "display_data"
    },
    {
     "data": {
      "text/html": [
       "<tr><td><img src=\"file:///C:/Users/w_gon/projects/mplfinance/examples/images/adbe-01.png\" width=800 height=800></td></tr><tr><td>adbe-01.png (0/44)</td></tr>"
      ],
      "text/plain": [
       "<IPython.core.display.HTML object>"
      ]
     },
     "metadata": {},
     "output_type": "display_data"
    },
    {
     "data": {
      "text/html": [
       "<tr><td><img src=\"file:///C:/Users/w_gon/projects/mplfinance/examples/images/adbe-02.png\" width=800 height=800></td></tr><tr><td>adbe-02.png (1/44)</td></tr>"
      ],
      "text/plain": [
       "<IPython.core.display.HTML object>"
      ]
     },
     "metadata": {},
     "output_type": "display_data"
    },
    {
     "data": {
      "text/html": [
       "<tr><td><img src=\"file:///C:/Users/w_gon/projects/mplfinance/examples/images/adbe-03.png\" width=800 height=800></td></tr><tr><td>adbe-03.png (2/44)</td></tr>"
      ],
      "text/plain": [
       "<IPython.core.display.HTML object>"
      ]
     },
     "metadata": {},
     "output_type": "display_data"
    },
    {
     "data": {
      "text/html": [
       "<tr><td><img src=\"file:///C:/Users/w_gon/projects/mplfinance/examples/images/adbe-04.png\" width=800 height=800></td></tr><tr><td>adbe-04.png (3/44)</td></tr>"
      ],
      "text/plain": [
       "<IPython.core.display.HTML object>"
      ]
     },
     "metadata": {},
     "output_type": "display_data"
    },
    {
     "data": {
      "text/html": [
       "<tr><td><img src=\"file:///C:/Users/w_gon/projects/mplfinance/examples/images/adbe-05.png\" width=800 height=800></td></tr><tr><td>adbe-05.png (4/44)</td></tr>"
      ],
      "text/plain": [
       "<IPython.core.display.HTML object>"
      ]
     },
     "metadata": {},
     "output_type": "display_data"
    },
    {
     "data": {
      "text/html": [
       "<tr><td><img src=\"file:///C:/Users/w_gon/projects/mplfinance/examples/images/adbe-06.png\" width=800 height=800></td></tr><tr><td>adbe-06.png (5/44)</td></tr>"
      ],
      "text/plain": [
       "<IPython.core.display.HTML object>"
      ]
     },
     "metadata": {},
     "output_type": "display_data"
    },
    {
     "data": {
      "text/html": [
       "<tr><td><img src=\"file:///C:/Users/w_gon/projects/mplfinance/examples/images/adbe-07.png\" width=800 height=800></td></tr><tr><td>adbe-07.png (6/44)</td></tr>"
      ],
      "text/plain": [
       "<IPython.core.display.HTML object>"
      ]
     },
     "metadata": {},
     "output_type": "display_data"
    },
    {
     "data": {
      "text/html": [
       "<tr><td><img src=\"file:///C:/Users/w_gon/projects/mplfinance/examples/images/adbe-08.png\" width=800 height=800></td></tr><tr><td>adbe-08.png (7/44)</td></tr>"
      ],
      "text/plain": [
       "<IPython.core.display.HTML object>"
      ]
     },
     "metadata": {},
     "output_type": "display_data"
    },
    {
     "data": {
      "text/html": [
       "<tr><td><img src=\"file:///C:/Users/w_gon/projects/mplfinance/examples/images/adbe-09.png\" width=800 height=800></td></tr><tr><td>adbe-09.png (8/44)</td></tr>"
      ],
      "text/plain": [
       "<IPython.core.display.HTML object>"
      ]
     },
     "metadata": {},
     "output_type": "display_data"
    },
    {
     "data": {
      "text/html": [
       "<tr><td><img src=\"file:///C:/Users/w_gon/projects/mplfinance/examples/images/adbe-10.png\" width=800 height=800></td></tr><tr><td>adbe-10.png (9/44)</td></tr>"
      ],
      "text/plain": [
       "<IPython.core.display.HTML object>"
      ]
     },
     "metadata": {},
     "output_type": "display_data"
    },
    {
     "data": {
      "text/html": [
       "<tr><td><img src=\"file:///C:/Users/w_gon/projects/mplfinance/examples/images/adbe-11.png\" width=800 height=800></td></tr><tr><td>adbe-11.png (10/44)</td></tr>"
      ],
      "text/plain": [
       "<IPython.core.display.HTML object>"
      ]
     },
     "metadata": {},
     "output_type": "display_data"
    },
    {
     "data": {
      "text/html": [
       "<tr><td><img src=\"file:///C:/Users/w_gon/projects/mplfinance/examples/images/adbe-12.png\" width=800 height=800></td></tr><tr><td>adbe-12.png (11/44)</td></tr>"
      ],
      "text/plain": [
       "<IPython.core.display.HTML object>"
      ]
     },
     "metadata": {},
     "output_type": "display_data"
    },
    {
     "data": {
      "text/html": [
       "<tr><td><img src=\"file:///C:/Users/w_gon/projects/mplfinance/examples/images/adbe-13.png\" width=800 height=800></td></tr><tr><td>adbe-13.png (12/44)</td></tr>"
      ],
      "text/plain": [
       "<IPython.core.display.HTML object>"
      ]
     },
     "metadata": {},
     "output_type": "display_data"
    },
    {
     "data": {
      "text/html": [
       "<tr><td><img src=\"file:///C:/Users/w_gon/projects/mplfinance/examples/images/adbe-14.png\" width=800 height=800></td></tr><tr><td>adbe-14.png (13/44)</td></tr>"
      ],
      "text/plain": [
       "<IPython.core.display.HTML object>"
      ]
     },
     "metadata": {},
     "output_type": "display_data"
    },
    {
     "data": {
      "text/html": [
       "<tr><td><img src=\"file:///C:/Users/w_gon/projects/mplfinance/examples/images/adbe-15.png\" width=800 height=800></td></tr><tr><td>adbe-15.png (14/44)</td></tr>"
      ],
      "text/plain": [
       "<IPython.core.display.HTML object>"
      ]
     },
     "metadata": {},
     "output_type": "display_data"
    },
    {
     "data": {
      "text/html": [
       "<tr><td><img src=\"file:///C:/Users/w_gon/projects/mplfinance/examples/images/adbe-16.png\" width=800 height=800></td></tr><tr><td>adbe-16.png (15/44)</td></tr>"
      ],
      "text/plain": [
       "<IPython.core.display.HTML object>"
      ]
     },
     "metadata": {},
     "output_type": "display_data"
    },
    {
     "data": {
      "text/html": [
       "<tr><td><img src=\"file:///C:/Users/w_gon/projects/mplfinance/examples/images/adbe-17.png\" width=800 height=800></td></tr><tr><td>adbe-17.png (16/44)</td></tr>"
      ],
      "text/plain": [
       "<IPython.core.display.HTML object>"
      ]
     },
     "metadata": {},
     "output_type": "display_data"
    },
    {
     "data": {
      "text/html": [
       "<tr><td><img src=\"file:///C:/Users/w_gon/projects/mplfinance/examples/images/adbe-18.png\" width=800 height=800></td></tr><tr><td>adbe-18.png (17/44)</td></tr>"
      ],
      "text/plain": [
       "<IPython.core.display.HTML object>"
      ]
     },
     "metadata": {},
     "output_type": "display_data"
    },
    {
     "data": {
      "text/html": [
       "<tr><td><img src=\"file:///C:/Users/w_gon/projects/mplfinance/examples/images/adbe-19.png\" width=800 height=800></td></tr><tr><td>adbe-19.png (18/44)</td></tr>"
      ],
      "text/plain": [
       "<IPython.core.display.HTML object>"
      ]
     },
     "metadata": {},
     "output_type": "display_data"
    },
    {
     "data": {
      "text/html": [
       "<tr><td><img src=\"file:///C:/Users/w_gon/projects/mplfinance/examples/images/adbe-20.png\" width=800 height=800></td></tr><tr><td>adbe-20.png (19/44)</td></tr>"
      ],
      "text/plain": [
       "<IPython.core.display.HTML object>"
      ]
     },
     "metadata": {},
     "output_type": "display_data"
    },
    {
     "data": {
      "text/html": [
       "<tr><td><img src=\"file:///C:/Users/w_gon/projects/mplfinance/examples/images/adbe-21.png\" width=800 height=800></td></tr><tr><td>adbe-21.png (20/44)</td></tr>"
      ],
      "text/plain": [
       "<IPython.core.display.HTML object>"
      ]
     },
     "metadata": {},
     "output_type": "display_data"
    },
    {
     "data": {
      "text/html": [
       "<tr><td><img src=\"file:///C:/Users/w_gon/projects/mplfinance/examples/images/adbe-22.png\" width=800 height=800></td></tr><tr><td>adbe-22.png (21/44)</td></tr>"
      ],
      "text/plain": [
       "<IPython.core.display.HTML object>"
      ]
     },
     "metadata": {},
     "output_type": "display_data"
    },
    {
     "data": {
      "text/html": [
       "<tr><td><img src=\"file:///C:/Users/w_gon/projects/mplfinance/examples/images/adbe-23.png\" width=800 height=800></td></tr><tr><td>adbe-23.png (22/44)</td></tr>"
      ],
      "text/plain": [
       "<IPython.core.display.HTML object>"
      ]
     },
     "metadata": {},
     "output_type": "display_data"
    },
    {
     "data": {
      "text/html": [
       "<tr><td><img src=\"file:///C:/Users/w_gon/projects/mplfinance/examples/images/adbe-24.png\" width=800 height=800></td></tr><tr><td>adbe-24.png (23/44)</td></tr>"
      ],
      "text/plain": [
       "<IPython.core.display.HTML object>"
      ]
     },
     "metadata": {},
     "output_type": "display_data"
    },
    {
     "data": {
      "text/html": [
       "<tr><td><img src=\"file:///C:/Users/w_gon/projects/mplfinance/examples/images/adbe-25.png\" width=800 height=800></td></tr><tr><td>adbe-25.png (24/44)</td></tr>"
      ],
      "text/plain": [
       "<IPython.core.display.HTML object>"
      ]
     },
     "metadata": {},
     "output_type": "display_data"
    },
    {
     "data": {
      "text/html": [
       "<tr><td><img src=\"file:///C:/Users/w_gon/projects/mplfinance/examples/images/adbe-26.png\" width=800 height=800></td></tr><tr><td>adbe-26.png (25/44)</td></tr>"
      ],
      "text/plain": [
       "<IPython.core.display.HTML object>"
      ]
     },
     "metadata": {},
     "output_type": "display_data"
    },
    {
     "data": {
      "text/html": [
       "<tr><td><img src=\"file:///C:/Users/w_gon/projects/mplfinance/examples/images/adbe-27.png\" width=800 height=800></td></tr><tr><td>adbe-27.png (26/44)</td></tr>"
      ],
      "text/plain": [
       "<IPython.core.display.HTML object>"
      ]
     },
     "metadata": {},
     "output_type": "display_data"
    },
    {
     "data": {
      "text/html": [
       "<tr><td><img src=\"file:///C:/Users/w_gon/projects/mplfinance/examples/images/adbe-28.png\" width=800 height=800></td></tr><tr><td>adbe-28.png (27/44)</td></tr>"
      ],
      "text/plain": [
       "<IPython.core.display.HTML object>"
      ]
     },
     "metadata": {},
     "output_type": "display_data"
    },
    {
     "data": {
      "text/html": [
       "<tr><td><img src=\"file:///C:/Users/w_gon/projects/mplfinance/examples/images/adbe-29.png\" width=800 height=800></td></tr><tr><td>adbe-29.png (28/44)</td></tr>"
      ],
      "text/plain": [
       "<IPython.core.display.HTML object>"
      ]
     },
     "metadata": {},
     "output_type": "display_data"
    },
    {
     "data": {
      "text/html": [
       "<tr><td><img src=\"file:///C:/Users/w_gon/projects/mplfinance/examples/images/adbe-30.png\" width=800 height=800></td></tr><tr><td>adbe-30.png (29/44)</td></tr>"
      ],
      "text/plain": [
       "<IPython.core.display.HTML object>"
      ]
     },
     "metadata": {},
     "output_type": "display_data"
    },
    {
     "data": {
      "text/html": [
       "<tr><td><img src=\"file:///C:/Users/w_gon/projects/mplfinance/examples/images/adbe-31.png\" width=800 height=800></td></tr><tr><td>adbe-31.png (30/44)</td></tr>"
      ],
      "text/plain": [
       "<IPython.core.display.HTML object>"
      ]
     },
     "metadata": {},
     "output_type": "display_data"
    },
    {
     "data": {
      "text/html": [
       "<tr><td><img src=\"file:///C:/Users/w_gon/projects/mplfinance/examples/images/adbe-32.png\" width=800 height=800></td></tr><tr><td>adbe-32.png (31/44)</td></tr>"
      ],
      "text/plain": [
       "<IPython.core.display.HTML object>"
      ]
     },
     "metadata": {},
     "output_type": "display_data"
    },
    {
     "data": {
      "text/html": [
       "<tr><td><img src=\"file:///C:/Users/w_gon/projects/mplfinance/examples/images/adbe-33.png\" width=800 height=800></td></tr><tr><td>adbe-33.png (32/44)</td></tr>"
      ],
      "text/plain": [
       "<IPython.core.display.HTML object>"
      ]
     },
     "metadata": {},
     "output_type": "display_data"
    },
    {
     "data": {
      "text/html": [
       "<tr><td><img src=\"file:///C:/Users/w_gon/projects/mplfinance/examples/images/adbe-34.png\" width=800 height=800></td></tr><tr><td>adbe-34.png (33/44)</td></tr>"
      ],
      "text/plain": [
       "<IPython.core.display.HTML object>"
      ]
     },
     "metadata": {},
     "output_type": "display_data"
    },
    {
     "data": {
      "text/html": [
       "<tr><td><img src=\"file:///C:/Users/w_gon/projects/mplfinance/examples/images/adbe-35.png\" width=800 height=800></td></tr><tr><td>adbe-35.png (34/44)</td></tr>"
      ],
      "text/plain": [
       "<IPython.core.display.HTML object>"
      ]
     },
     "metadata": {},
     "output_type": "display_data"
    },
    {
     "data": {
      "text/html": [
       "<tr><td><img src=\"file:///C:/Users/w_gon/projects/mplfinance/examples/images/adbe-36.png\" width=800 height=800></td></tr><tr><td>adbe-36.png (35/44)</td></tr>"
      ],
      "text/plain": [
       "<IPython.core.display.HTML object>"
      ]
     },
     "metadata": {},
     "output_type": "display_data"
    },
    {
     "data": {
      "text/html": [
       "<tr><td><img src=\"file:///C:/Users/w_gon/projects/mplfinance/examples/images/adbe-37.png\" width=800 height=800></td></tr><tr><td>adbe-37.png (36/44)</td></tr>"
      ],
      "text/plain": [
       "<IPython.core.display.HTML object>"
      ]
     },
     "metadata": {},
     "output_type": "display_data"
    },
    {
     "data": {
      "text/html": [
       "<tr><td><img src=\"file:///C:/Users/w_gon/projects/mplfinance/examples/images/adbe-38.png\" width=800 height=800></td></tr><tr><td>adbe-38.png (37/44)</td></tr>"
      ],
      "text/plain": [
       "<IPython.core.display.HTML object>"
      ]
     },
     "metadata": {},
     "output_type": "display_data"
    },
    {
     "data": {
      "text/html": [
       "<tr><td><img src=\"file:///C:/Users/w_gon/projects/mplfinance/examples/images/adbe-39.png\" width=800 height=800></td></tr><tr><td>adbe-39.png (38/44)</td></tr>"
      ],
      "text/plain": [
       "<IPython.core.display.HTML object>"
      ]
     },
     "metadata": {},
     "output_type": "display_data"
    },
    {
     "data": {
      "text/html": [
       "<tr><td><img src=\"file:///C:/Users/w_gon/projects/mplfinance/examples/images/adbe-40.png\" width=800 height=800></td></tr><tr><td>adbe-40.png (39/44)</td></tr>"
      ],
      "text/plain": [
       "<IPython.core.display.HTML object>"
      ]
     },
     "metadata": {},
     "output_type": "display_data"
    },
    {
     "data": {
      "text/html": [
       "<tr><td><img src=\"file:///C:/Users/w_gon/projects/mplfinance/examples/images/adbe-41.png\" width=800 height=800></td></tr><tr><td>adbe-41.png (40/44)</td></tr>"
      ],
      "text/plain": [
       "<IPython.core.display.HTML object>"
      ]
     },
     "metadata": {},
     "output_type": "display_data"
    },
    {
     "data": {
      "text/html": [
       "<tr><td><img src=\"file:///C:/Users/w_gon/projects/mplfinance/examples/images/adbe-42.png\" width=800 height=800></td></tr><tr><td>adbe-42.png (41/44)</td></tr>"
      ],
      "text/plain": [
       "<IPython.core.display.HTML object>"
      ]
     },
     "metadata": {},
     "output_type": "display_data"
    },
    {
     "data": {
      "text/html": [
       "<tr><td><img src=\"file:///C:/Users/w_gon/projects/mplfinance/examples/images/adbe-43.png\" width=800 height=800></td></tr><tr><td>adbe-43.png (42/44)</td></tr>"
      ],
      "text/plain": [
       "<IPython.core.display.HTML object>"
      ]
     },
     "metadata": {},
     "output_type": "display_data"
    },
    {
     "data": {
      "text/html": [
       "<tr><td><img src=\"file:///C:/Users/w_gon/projects/mplfinance/examples/images/adbe-44.png\" width=800 height=800></td></tr><tr><td>adbe-44.png (43/44)</td></tr>"
      ],
      "text/plain": [
       "<IPython.core.display.HTML object>"
      ]
     },
     "metadata": {},
     "output_type": "display_data"
    },
    {
     "data": {
      "text/html": [
       "</table>"
      ],
      "text/plain": [
       "<IPython.core.display.HTML object>"
      ]
     },
     "metadata": {},
     "output_type": "display_data"
    },
    {
     "data": {
      "text/html": [
       "<h3>winner amd chart patterns - 2022-03-20 22:19:02.770104</h3>"
      ],
      "text/plain": [
       "<IPython.core.display.HTML object>"
      ]
     },
     "metadata": {},
     "output_type": "display_data"
    },
    {
     "data": {
      "text/html": [
       "<table>"
      ],
      "text/plain": [
       "<IPython.core.display.HTML object>"
      ]
     },
     "metadata": {},
     "output_type": "display_data"
    },
    {
     "data": {
      "text/html": [
       "<tr><td><img src=\"file:///C:/Users/w_gon/projects/mplfinance/examples/images/amd-01.png\" width=800 height=800></td></tr><tr><td>amd-01.png (0/49)</td></tr>"
      ],
      "text/plain": [
       "<IPython.core.display.HTML object>"
      ]
     },
     "metadata": {},
     "output_type": "display_data"
    },
    {
     "data": {
      "text/html": [
       "<tr><td><img src=\"file:///C:/Users/w_gon/projects/mplfinance/examples/images/amd-02.png\" width=800 height=800></td></tr><tr><td>amd-02.png (1/49)</td></tr>"
      ],
      "text/plain": [
       "<IPython.core.display.HTML object>"
      ]
     },
     "metadata": {},
     "output_type": "display_data"
    },
    {
     "data": {
      "text/html": [
       "<tr><td><img src=\"file:///C:/Users/w_gon/projects/mplfinance/examples/images/amd-03.png\" width=800 height=800></td></tr><tr><td>amd-03.png (2/49)</td></tr>"
      ],
      "text/plain": [
       "<IPython.core.display.HTML object>"
      ]
     },
     "metadata": {},
     "output_type": "display_data"
    },
    {
     "data": {
      "text/html": [
       "<tr><td><img src=\"file:///C:/Users/w_gon/projects/mplfinance/examples/images/amd-04.png\" width=800 height=800></td></tr><tr><td>amd-04.png (3/49)</td></tr>"
      ],
      "text/plain": [
       "<IPython.core.display.HTML object>"
      ]
     },
     "metadata": {},
     "output_type": "display_data"
    },
    {
     "data": {
      "text/html": [
       "<tr><td><img src=\"file:///C:/Users/w_gon/projects/mplfinance/examples/images/amd-05.png\" width=800 height=800></td></tr><tr><td>amd-05.png (4/49)</td></tr>"
      ],
      "text/plain": [
       "<IPython.core.display.HTML object>"
      ]
     },
     "metadata": {},
     "output_type": "display_data"
    },
    {
     "data": {
      "text/html": [
       "<tr><td><img src=\"file:///C:/Users/w_gon/projects/mplfinance/examples/images/amd-06.png\" width=800 height=800></td></tr><tr><td>amd-06.png (5/49)</td></tr>"
      ],
      "text/plain": [
       "<IPython.core.display.HTML object>"
      ]
     },
     "metadata": {},
     "output_type": "display_data"
    },
    {
     "data": {
      "text/html": [
       "<tr><td><img src=\"file:///C:/Users/w_gon/projects/mplfinance/examples/images/amd-07.png\" width=800 height=800></td></tr><tr><td>amd-07.png (6/49)</td></tr>"
      ],
      "text/plain": [
       "<IPython.core.display.HTML object>"
      ]
     },
     "metadata": {},
     "output_type": "display_data"
    },
    {
     "data": {
      "text/html": [
       "<tr><td><img src=\"file:///C:/Users/w_gon/projects/mplfinance/examples/images/amd-08.png\" width=800 height=800></td></tr><tr><td>amd-08.png (7/49)</td></tr>"
      ],
      "text/plain": [
       "<IPython.core.display.HTML object>"
      ]
     },
     "metadata": {},
     "output_type": "display_data"
    },
    {
     "data": {
      "text/html": [
       "<tr><td><img src=\"file:///C:/Users/w_gon/projects/mplfinance/examples/images/amd-09.png\" width=800 height=800></td></tr><tr><td>amd-09.png (8/49)</td></tr>"
      ],
      "text/plain": [
       "<IPython.core.display.HTML object>"
      ]
     },
     "metadata": {},
     "output_type": "display_data"
    },
    {
     "data": {
      "text/html": [
       "<tr><td><img src=\"file:///C:/Users/w_gon/projects/mplfinance/examples/images/amd-10.png\" width=800 height=800></td></tr><tr><td>amd-10.png (9/49)</td></tr>"
      ],
      "text/plain": [
       "<IPython.core.display.HTML object>"
      ]
     },
     "metadata": {},
     "output_type": "display_data"
    },
    {
     "data": {
      "text/html": [
       "<tr><td><img src=\"file:///C:/Users/w_gon/projects/mplfinance/examples/images/amd-11.png\" width=800 height=800></td></tr><tr><td>amd-11.png (10/49)</td></tr>"
      ],
      "text/plain": [
       "<IPython.core.display.HTML object>"
      ]
     },
     "metadata": {},
     "output_type": "display_data"
    },
    {
     "data": {
      "text/html": [
       "<tr><td><img src=\"file:///C:/Users/w_gon/projects/mplfinance/examples/images/amd-12.png\" width=800 height=800></td></tr><tr><td>amd-12.png (11/49)</td></tr>"
      ],
      "text/plain": [
       "<IPython.core.display.HTML object>"
      ]
     },
     "metadata": {},
     "output_type": "display_data"
    },
    {
     "data": {
      "text/html": [
       "<tr><td><img src=\"file:///C:/Users/w_gon/projects/mplfinance/examples/images/amd-13.png\" width=800 height=800></td></tr><tr><td>amd-13.png (12/49)</td></tr>"
      ],
      "text/plain": [
       "<IPython.core.display.HTML object>"
      ]
     },
     "metadata": {},
     "output_type": "display_data"
    },
    {
     "data": {
      "text/html": [
       "<tr><td><img src=\"file:///C:/Users/w_gon/projects/mplfinance/examples/images/amd-14.png\" width=800 height=800></td></tr><tr><td>amd-14.png (13/49)</td></tr>"
      ],
      "text/plain": [
       "<IPython.core.display.HTML object>"
      ]
     },
     "metadata": {},
     "output_type": "display_data"
    },
    {
     "data": {
      "text/html": [
       "<tr><td><img src=\"file:///C:/Users/w_gon/projects/mplfinance/examples/images/amd-15.png\" width=800 height=800></td></tr><tr><td>amd-15.png (14/49)</td></tr>"
      ],
      "text/plain": [
       "<IPython.core.display.HTML object>"
      ]
     },
     "metadata": {},
     "output_type": "display_data"
    },
    {
     "data": {
      "text/html": [
       "<tr><td><img src=\"file:///C:/Users/w_gon/projects/mplfinance/examples/images/amd-16.png\" width=800 height=800></td></tr><tr><td>amd-16.png (15/49)</td></tr>"
      ],
      "text/plain": [
       "<IPython.core.display.HTML object>"
      ]
     },
     "metadata": {},
     "output_type": "display_data"
    },
    {
     "data": {
      "text/html": [
       "<tr><td><img src=\"file:///C:/Users/w_gon/projects/mplfinance/examples/images/amd-17.png\" width=800 height=800></td></tr><tr><td>amd-17.png (16/49)</td></tr>"
      ],
      "text/plain": [
       "<IPython.core.display.HTML object>"
      ]
     },
     "metadata": {},
     "output_type": "display_data"
    },
    {
     "data": {
      "text/html": [
       "<tr><td><img src=\"file:///C:/Users/w_gon/projects/mplfinance/examples/images/amd-18.png\" width=800 height=800></td></tr><tr><td>amd-18.png (17/49)</td></tr>"
      ],
      "text/plain": [
       "<IPython.core.display.HTML object>"
      ]
     },
     "metadata": {},
     "output_type": "display_data"
    },
    {
     "data": {
      "text/html": [
       "<tr><td><img src=\"file:///C:/Users/w_gon/projects/mplfinance/examples/images/amd-19.png\" width=800 height=800></td></tr><tr><td>amd-19.png (18/49)</td></tr>"
      ],
      "text/plain": [
       "<IPython.core.display.HTML object>"
      ]
     },
     "metadata": {},
     "output_type": "display_data"
    },
    {
     "data": {
      "text/html": [
       "<tr><td><img src=\"file:///C:/Users/w_gon/projects/mplfinance/examples/images/amd-20.png\" width=800 height=800></td></tr><tr><td>amd-20.png (19/49)</td></tr>"
      ],
      "text/plain": [
       "<IPython.core.display.HTML object>"
      ]
     },
     "metadata": {},
     "output_type": "display_data"
    },
    {
     "data": {
      "text/html": [
       "<tr><td><img src=\"file:///C:/Users/w_gon/projects/mplfinance/examples/images/amd-21.png\" width=800 height=800></td></tr><tr><td>amd-21.png (20/49)</td></tr>"
      ],
      "text/plain": [
       "<IPython.core.display.HTML object>"
      ]
     },
     "metadata": {},
     "output_type": "display_data"
    },
    {
     "data": {
      "text/html": [
       "<tr><td><img src=\"file:///C:/Users/w_gon/projects/mplfinance/examples/images/amd-22.png\" width=800 height=800></td></tr><tr><td>amd-22.png (21/49)</td></tr>"
      ],
      "text/plain": [
       "<IPython.core.display.HTML object>"
      ]
     },
     "metadata": {},
     "output_type": "display_data"
    },
    {
     "data": {
      "text/html": [
       "<tr><td><img src=\"file:///C:/Users/w_gon/projects/mplfinance/examples/images/amd-23.png\" width=800 height=800></td></tr><tr><td>amd-23.png (22/49)</td></tr>"
      ],
      "text/plain": [
       "<IPython.core.display.HTML object>"
      ]
     },
     "metadata": {},
     "output_type": "display_data"
    },
    {
     "data": {
      "text/html": [
       "<tr><td><img src=\"file:///C:/Users/w_gon/projects/mplfinance/examples/images/amd-24.png\" width=800 height=800></td></tr><tr><td>amd-24.png (23/49)</td></tr>"
      ],
      "text/plain": [
       "<IPython.core.display.HTML object>"
      ]
     },
     "metadata": {},
     "output_type": "display_data"
    },
    {
     "data": {
      "text/html": [
       "<tr><td><img src=\"file:///C:/Users/w_gon/projects/mplfinance/examples/images/amd-25.png\" width=800 height=800></td></tr><tr><td>amd-25.png (24/49)</td></tr>"
      ],
      "text/plain": [
       "<IPython.core.display.HTML object>"
      ]
     },
     "metadata": {},
     "output_type": "display_data"
    },
    {
     "data": {
      "text/html": [
       "<tr><td><img src=\"file:///C:/Users/w_gon/projects/mplfinance/examples/images/amd-26.png\" width=800 height=800></td></tr><tr><td>amd-26.png (25/49)</td></tr>"
      ],
      "text/plain": [
       "<IPython.core.display.HTML object>"
      ]
     },
     "metadata": {},
     "output_type": "display_data"
    },
    {
     "data": {
      "text/html": [
       "<tr><td><img src=\"file:///C:/Users/w_gon/projects/mplfinance/examples/images/amd-27.png\" width=800 height=800></td></tr><tr><td>amd-27.png (26/49)</td></tr>"
      ],
      "text/plain": [
       "<IPython.core.display.HTML object>"
      ]
     },
     "metadata": {},
     "output_type": "display_data"
    },
    {
     "data": {
      "text/html": [
       "<tr><td><img src=\"file:///C:/Users/w_gon/projects/mplfinance/examples/images/amd-28.png\" width=800 height=800></td></tr><tr><td>amd-28.png (27/49)</td></tr>"
      ],
      "text/plain": [
       "<IPython.core.display.HTML object>"
      ]
     },
     "metadata": {},
     "output_type": "display_data"
    },
    {
     "data": {
      "text/html": [
       "<tr><td><img src=\"file:///C:/Users/w_gon/projects/mplfinance/examples/images/amd-29.png\" width=800 height=800></td></tr><tr><td>amd-29.png (28/49)</td></tr>"
      ],
      "text/plain": [
       "<IPython.core.display.HTML object>"
      ]
     },
     "metadata": {},
     "output_type": "display_data"
    },
    {
     "data": {
      "text/html": [
       "<tr><td><img src=\"file:///C:/Users/w_gon/projects/mplfinance/examples/images/amd-30.png\" width=800 height=800></td></tr><tr><td>amd-30.png (29/49)</td></tr>"
      ],
      "text/plain": [
       "<IPython.core.display.HTML object>"
      ]
     },
     "metadata": {},
     "output_type": "display_data"
    },
    {
     "data": {
      "text/html": [
       "<tr><td><img src=\"file:///C:/Users/w_gon/projects/mplfinance/examples/images/amd-31.png\" width=800 height=800></td></tr><tr><td>amd-31.png (30/49)</td></tr>"
      ],
      "text/plain": [
       "<IPython.core.display.HTML object>"
      ]
     },
     "metadata": {},
     "output_type": "display_data"
    },
    {
     "data": {
      "text/html": [
       "<tr><td><img src=\"file:///C:/Users/w_gon/projects/mplfinance/examples/images/amd-32.png\" width=800 height=800></td></tr><tr><td>amd-32.png (31/49)</td></tr>"
      ],
      "text/plain": [
       "<IPython.core.display.HTML object>"
      ]
     },
     "metadata": {},
     "output_type": "display_data"
    },
    {
     "data": {
      "text/html": [
       "<tr><td><img src=\"file:///C:/Users/w_gon/projects/mplfinance/examples/images/amd-33.png\" width=800 height=800></td></tr><tr><td>amd-33.png (32/49)</td></tr>"
      ],
      "text/plain": [
       "<IPython.core.display.HTML object>"
      ]
     },
     "metadata": {},
     "output_type": "display_data"
    },
    {
     "data": {
      "text/html": [
       "<tr><td><img src=\"file:///C:/Users/w_gon/projects/mplfinance/examples/images/amd-34.png\" width=800 height=800></td></tr><tr><td>amd-34.png (33/49)</td></tr>"
      ],
      "text/plain": [
       "<IPython.core.display.HTML object>"
      ]
     },
     "metadata": {},
     "output_type": "display_data"
    },
    {
     "data": {
      "text/html": [
       "<tr><td><img src=\"file:///C:/Users/w_gon/projects/mplfinance/examples/images/amd-35.png\" width=800 height=800></td></tr><tr><td>amd-35.png (34/49)</td></tr>"
      ],
      "text/plain": [
       "<IPython.core.display.HTML object>"
      ]
     },
     "metadata": {},
     "output_type": "display_data"
    },
    {
     "data": {
      "text/html": [
       "<tr><td><img src=\"file:///C:/Users/w_gon/projects/mplfinance/examples/images/amd-36.png\" width=800 height=800></td></tr><tr><td>amd-36.png (35/49)</td></tr>"
      ],
      "text/plain": [
       "<IPython.core.display.HTML object>"
      ]
     },
     "metadata": {},
     "output_type": "display_data"
    },
    {
     "data": {
      "text/html": [
       "<tr><td><img src=\"file:///C:/Users/w_gon/projects/mplfinance/examples/images/amd-37.png\" width=800 height=800></td></tr><tr><td>amd-37.png (36/49)</td></tr>"
      ],
      "text/plain": [
       "<IPython.core.display.HTML object>"
      ]
     },
     "metadata": {},
     "output_type": "display_data"
    },
    {
     "data": {
      "text/html": [
       "<tr><td><img src=\"file:///C:/Users/w_gon/projects/mplfinance/examples/images/amd-38.png\" width=800 height=800></td></tr><tr><td>amd-38.png (37/49)</td></tr>"
      ],
      "text/plain": [
       "<IPython.core.display.HTML object>"
      ]
     },
     "metadata": {},
     "output_type": "display_data"
    },
    {
     "data": {
      "text/html": [
       "<tr><td><img src=\"file:///C:/Users/w_gon/projects/mplfinance/examples/images/amd-39.png\" width=800 height=800></td></tr><tr><td>amd-39.png (38/49)</td></tr>"
      ],
      "text/plain": [
       "<IPython.core.display.HTML object>"
      ]
     },
     "metadata": {},
     "output_type": "display_data"
    },
    {
     "data": {
      "text/html": [
       "<tr><td><img src=\"file:///C:/Users/w_gon/projects/mplfinance/examples/images/amd-40.png\" width=800 height=800></td></tr><tr><td>amd-40.png (39/49)</td></tr>"
      ],
      "text/plain": [
       "<IPython.core.display.HTML object>"
      ]
     },
     "metadata": {},
     "output_type": "display_data"
    },
    {
     "data": {
      "text/html": [
       "<tr><td><img src=\"file:///C:/Users/w_gon/projects/mplfinance/examples/images/amd-41.png\" width=800 height=800></td></tr><tr><td>amd-41.png (40/49)</td></tr>"
      ],
      "text/plain": [
       "<IPython.core.display.HTML object>"
      ]
     },
     "metadata": {},
     "output_type": "display_data"
    },
    {
     "data": {
      "text/html": [
       "<tr><td><img src=\"file:///C:/Users/w_gon/projects/mplfinance/examples/images/amd-42.png\" width=800 height=800></td></tr><tr><td>amd-42.png (41/49)</td></tr>"
      ],
      "text/plain": [
       "<IPython.core.display.HTML object>"
      ]
     },
     "metadata": {},
     "output_type": "display_data"
    },
    {
     "data": {
      "text/html": [
       "<tr><td><img src=\"file:///C:/Users/w_gon/projects/mplfinance/examples/images/amd-43.png\" width=800 height=800></td></tr><tr><td>amd-43.png (42/49)</td></tr>"
      ],
      "text/plain": [
       "<IPython.core.display.HTML object>"
      ]
     },
     "metadata": {},
     "output_type": "display_data"
    },
    {
     "data": {
      "text/html": [
       "<tr><td><img src=\"file:///C:/Users/w_gon/projects/mplfinance/examples/images/amd-44.png\" width=800 height=800></td></tr><tr><td>amd-44.png (43/49)</td></tr>"
      ],
      "text/plain": [
       "<IPython.core.display.HTML object>"
      ]
     },
     "metadata": {},
     "output_type": "display_data"
    },
    {
     "data": {
      "text/html": [
       "<tr><td><img src=\"file:///C:/Users/w_gon/projects/mplfinance/examples/images/amd-45.png\" width=800 height=800></td></tr><tr><td>amd-45.png (44/49)</td></tr>"
      ],
      "text/plain": [
       "<IPython.core.display.HTML object>"
      ]
     },
     "metadata": {},
     "output_type": "display_data"
    },
    {
     "data": {
      "text/html": [
       "<tr><td><img src=\"file:///C:/Users/w_gon/projects/mplfinance/examples/images/amd-46.png\" width=800 height=800></td></tr><tr><td>amd-46.png (45/49)</td></tr>"
      ],
      "text/plain": [
       "<IPython.core.display.HTML object>"
      ]
     },
     "metadata": {},
     "output_type": "display_data"
    },
    {
     "data": {
      "text/html": [
       "<tr><td><img src=\"file:///C:/Users/w_gon/projects/mplfinance/examples/images/amd-47.png\" width=800 height=800></td></tr><tr><td>amd-47.png (46/49)</td></tr>"
      ],
      "text/plain": [
       "<IPython.core.display.HTML object>"
      ]
     },
     "metadata": {},
     "output_type": "display_data"
    },
    {
     "data": {
      "text/html": [
       "<tr><td><img src=\"file:///C:/Users/w_gon/projects/mplfinance/examples/images/amd-48.png\" width=800 height=800></td></tr><tr><td>amd-48.png (47/49)</td></tr>"
      ],
      "text/plain": [
       "<IPython.core.display.HTML object>"
      ]
     },
     "metadata": {},
     "output_type": "display_data"
    },
    {
     "data": {
      "text/html": [
       "<tr><td><img src=\"file:///C:/Users/w_gon/projects/mplfinance/examples/images/amd-49.png\" width=800 height=800></td></tr><tr><td>amd-49.png (48/49)</td></tr>"
      ],
      "text/plain": [
       "<IPython.core.display.HTML object>"
      ]
     },
     "metadata": {},
     "output_type": "display_data"
    },
    {
     "data": {
      "text/html": [
       "</table>"
      ],
      "text/plain": [
       "<IPython.core.display.HTML object>"
      ]
     },
     "metadata": {},
     "output_type": "display_data"
    },
    {
     "data": {
      "text/html": [
       "<h3>winner amzn chart patterns - 2022-03-20 22:19:02.922017</h3>"
      ],
      "text/plain": [
       "<IPython.core.display.HTML object>"
      ]
     },
     "metadata": {},
     "output_type": "display_data"
    },
    {
     "data": {
      "text/html": [
       "<table>"
      ],
      "text/plain": [
       "<IPython.core.display.HTML object>"
      ]
     },
     "metadata": {},
     "output_type": "display_data"
    },
    {
     "data": {
      "text/html": [
       "<tr><td><img src=\"file:///C:/Users/w_gon/projects/mplfinance/examples/images/amzn-01.png\" width=800 height=800></td></tr><tr><td>amzn-01.png (0/31)</td></tr>"
      ],
      "text/plain": [
       "<IPython.core.display.HTML object>"
      ]
     },
     "metadata": {},
     "output_type": "display_data"
    },
    {
     "data": {
      "text/html": [
       "<tr><td><img src=\"file:///C:/Users/w_gon/projects/mplfinance/examples/images/amzn-02.png\" width=800 height=800></td></tr><tr><td>amzn-02.png (1/31)</td></tr>"
      ],
      "text/plain": [
       "<IPython.core.display.HTML object>"
      ]
     },
     "metadata": {},
     "output_type": "display_data"
    },
    {
     "data": {
      "text/html": [
       "<tr><td><img src=\"file:///C:/Users/w_gon/projects/mplfinance/examples/images/amzn-03.png\" width=800 height=800></td></tr><tr><td>amzn-03.png (2/31)</td></tr>"
      ],
      "text/plain": [
       "<IPython.core.display.HTML object>"
      ]
     },
     "metadata": {},
     "output_type": "display_data"
    },
    {
     "data": {
      "text/html": [
       "<tr><td><img src=\"file:///C:/Users/w_gon/projects/mplfinance/examples/images/amzn-04.png\" width=800 height=800></td></tr><tr><td>amzn-04.png (3/31)</td></tr>"
      ],
      "text/plain": [
       "<IPython.core.display.HTML object>"
      ]
     },
     "metadata": {},
     "output_type": "display_data"
    },
    {
     "data": {
      "text/html": [
       "<tr><td><img src=\"file:///C:/Users/w_gon/projects/mplfinance/examples/images/amzn-05.png\" width=800 height=800></td></tr><tr><td>amzn-05.png (4/31)</td></tr>"
      ],
      "text/plain": [
       "<IPython.core.display.HTML object>"
      ]
     },
     "metadata": {},
     "output_type": "display_data"
    },
    {
     "data": {
      "text/html": [
       "<tr><td><img src=\"file:///C:/Users/w_gon/projects/mplfinance/examples/images/amzn-06.png\" width=800 height=800></td></tr><tr><td>amzn-06.png (5/31)</td></tr>"
      ],
      "text/plain": [
       "<IPython.core.display.HTML object>"
      ]
     },
     "metadata": {},
     "output_type": "display_data"
    },
    {
     "data": {
      "text/html": [
       "<tr><td><img src=\"file:///C:/Users/w_gon/projects/mplfinance/examples/images/amzn-07.png\" width=800 height=800></td></tr><tr><td>amzn-07.png (6/31)</td></tr>"
      ],
      "text/plain": [
       "<IPython.core.display.HTML object>"
      ]
     },
     "metadata": {},
     "output_type": "display_data"
    },
    {
     "data": {
      "text/html": [
       "<tr><td><img src=\"file:///C:/Users/w_gon/projects/mplfinance/examples/images/amzn-08.png\" width=800 height=800></td></tr><tr><td>amzn-08.png (7/31)</td></tr>"
      ],
      "text/plain": [
       "<IPython.core.display.HTML object>"
      ]
     },
     "metadata": {},
     "output_type": "display_data"
    },
    {
     "data": {
      "text/html": [
       "<tr><td><img src=\"file:///C:/Users/w_gon/projects/mplfinance/examples/images/amzn-09.png\" width=800 height=800></td></tr><tr><td>amzn-09.png (8/31)</td></tr>"
      ],
      "text/plain": [
       "<IPython.core.display.HTML object>"
      ]
     },
     "metadata": {},
     "output_type": "display_data"
    },
    {
     "data": {
      "text/html": [
       "<tr><td><img src=\"file:///C:/Users/w_gon/projects/mplfinance/examples/images/amzn-10.png\" width=800 height=800></td></tr><tr><td>amzn-10.png (9/31)</td></tr>"
      ],
      "text/plain": [
       "<IPython.core.display.HTML object>"
      ]
     },
     "metadata": {},
     "output_type": "display_data"
    },
    {
     "data": {
      "text/html": [
       "<tr><td><img src=\"file:///C:/Users/w_gon/projects/mplfinance/examples/images/amzn-11.png\" width=800 height=800></td></tr><tr><td>amzn-11.png (10/31)</td></tr>"
      ],
      "text/plain": [
       "<IPython.core.display.HTML object>"
      ]
     },
     "metadata": {},
     "output_type": "display_data"
    },
    {
     "data": {
      "text/html": [
       "<tr><td><img src=\"file:///C:/Users/w_gon/projects/mplfinance/examples/images/amzn-12.png\" width=800 height=800></td></tr><tr><td>amzn-12.png (11/31)</td></tr>"
      ],
      "text/plain": [
       "<IPython.core.display.HTML object>"
      ]
     },
     "metadata": {},
     "output_type": "display_data"
    },
    {
     "data": {
      "text/html": [
       "<tr><td><img src=\"file:///C:/Users/w_gon/projects/mplfinance/examples/images/amzn-13.png\" width=800 height=800></td></tr><tr><td>amzn-13.png (12/31)</td></tr>"
      ],
      "text/plain": [
       "<IPython.core.display.HTML object>"
      ]
     },
     "metadata": {},
     "output_type": "display_data"
    },
    {
     "data": {
      "text/html": [
       "<tr><td><img src=\"file:///C:/Users/w_gon/projects/mplfinance/examples/images/amzn-14.png\" width=800 height=800></td></tr><tr><td>amzn-14.png (13/31)</td></tr>"
      ],
      "text/plain": [
       "<IPython.core.display.HTML object>"
      ]
     },
     "metadata": {},
     "output_type": "display_data"
    },
    {
     "data": {
      "text/html": [
       "<tr><td><img src=\"file:///C:/Users/w_gon/projects/mplfinance/examples/images/amzn-15.png\" width=800 height=800></td></tr><tr><td>amzn-15.png (14/31)</td></tr>"
      ],
      "text/plain": [
       "<IPython.core.display.HTML object>"
      ]
     },
     "metadata": {},
     "output_type": "display_data"
    },
    {
     "data": {
      "text/html": [
       "<tr><td><img src=\"file:///C:/Users/w_gon/projects/mplfinance/examples/images/amzn-16.png\" width=800 height=800></td></tr><tr><td>amzn-16.png (15/31)</td></tr>"
      ],
      "text/plain": [
       "<IPython.core.display.HTML object>"
      ]
     },
     "metadata": {},
     "output_type": "display_data"
    },
    {
     "data": {
      "text/html": [
       "<tr><td><img src=\"file:///C:/Users/w_gon/projects/mplfinance/examples/images/amzn-17.png\" width=800 height=800></td></tr><tr><td>amzn-17.png (16/31)</td></tr>"
      ],
      "text/plain": [
       "<IPython.core.display.HTML object>"
      ]
     },
     "metadata": {},
     "output_type": "display_data"
    },
    {
     "data": {
      "text/html": [
       "<tr><td><img src=\"file:///C:/Users/w_gon/projects/mplfinance/examples/images/amzn-18.png\" width=800 height=800></td></tr><tr><td>amzn-18.png (17/31)</td></tr>"
      ],
      "text/plain": [
       "<IPython.core.display.HTML object>"
      ]
     },
     "metadata": {},
     "output_type": "display_data"
    },
    {
     "data": {
      "text/html": [
       "<tr><td><img src=\"file:///C:/Users/w_gon/projects/mplfinance/examples/images/amzn-19.png\" width=800 height=800></td></tr><tr><td>amzn-19.png (18/31)</td></tr>"
      ],
      "text/plain": [
       "<IPython.core.display.HTML object>"
      ]
     },
     "metadata": {},
     "output_type": "display_data"
    },
    {
     "data": {
      "text/html": [
       "<tr><td><img src=\"file:///C:/Users/w_gon/projects/mplfinance/examples/images/amzn-20.png\" width=800 height=800></td></tr><tr><td>amzn-20.png (19/31)</td></tr>"
      ],
      "text/plain": [
       "<IPython.core.display.HTML object>"
      ]
     },
     "metadata": {},
     "output_type": "display_data"
    },
    {
     "data": {
      "text/html": [
       "<tr><td><img src=\"file:///C:/Users/w_gon/projects/mplfinance/examples/images/amzn-21.png\" width=800 height=800></td></tr><tr><td>amzn-21.png (20/31)</td></tr>"
      ],
      "text/plain": [
       "<IPython.core.display.HTML object>"
      ]
     },
     "metadata": {},
     "output_type": "display_data"
    },
    {
     "data": {
      "text/html": [
       "<tr><td><img src=\"file:///C:/Users/w_gon/projects/mplfinance/examples/images/amzn-22.png\" width=800 height=800></td></tr><tr><td>amzn-22.png (21/31)</td></tr>"
      ],
      "text/plain": [
       "<IPython.core.display.HTML object>"
      ]
     },
     "metadata": {},
     "output_type": "display_data"
    },
    {
     "data": {
      "text/html": [
       "<tr><td><img src=\"file:///C:/Users/w_gon/projects/mplfinance/examples/images/amzn-23.png\" width=800 height=800></td></tr><tr><td>amzn-23.png (22/31)</td></tr>"
      ],
      "text/plain": [
       "<IPython.core.display.HTML object>"
      ]
     },
     "metadata": {},
     "output_type": "display_data"
    },
    {
     "data": {
      "text/html": [
       "<tr><td><img src=\"file:///C:/Users/w_gon/projects/mplfinance/examples/images/amzn-24.png\" width=800 height=800></td></tr><tr><td>amzn-24.png (23/31)</td></tr>"
      ],
      "text/plain": [
       "<IPython.core.display.HTML object>"
      ]
     },
     "metadata": {},
     "output_type": "display_data"
    },
    {
     "data": {
      "text/html": [
       "<tr><td><img src=\"file:///C:/Users/w_gon/projects/mplfinance/examples/images/amzn-25.png\" width=800 height=800></td></tr><tr><td>amzn-25.png (24/31)</td></tr>"
      ],
      "text/plain": [
       "<IPython.core.display.HTML object>"
      ]
     },
     "metadata": {},
     "output_type": "display_data"
    },
    {
     "data": {
      "text/html": [
       "<tr><td><img src=\"file:///C:/Users/w_gon/projects/mplfinance/examples/images/amzn-26.png\" width=800 height=800></td></tr><tr><td>amzn-26.png (25/31)</td></tr>"
      ],
      "text/plain": [
       "<IPython.core.display.HTML object>"
      ]
     },
     "metadata": {},
     "output_type": "display_data"
    },
    {
     "data": {
      "text/html": [
       "<tr><td><img src=\"file:///C:/Users/w_gon/projects/mplfinance/examples/images/amzn-27.png\" width=800 height=800></td></tr><tr><td>amzn-27.png (26/31)</td></tr>"
      ],
      "text/plain": [
       "<IPython.core.display.HTML object>"
      ]
     },
     "metadata": {},
     "output_type": "display_data"
    },
    {
     "data": {
      "text/html": [
       "<tr><td><img src=\"file:///C:/Users/w_gon/projects/mplfinance/examples/images/amzn-28.png\" width=800 height=800></td></tr><tr><td>amzn-28.png (27/31)</td></tr>"
      ],
      "text/plain": [
       "<IPython.core.display.HTML object>"
      ]
     },
     "metadata": {},
     "output_type": "display_data"
    },
    {
     "data": {
      "text/html": [
       "<tr><td><img src=\"file:///C:/Users/w_gon/projects/mplfinance/examples/images/amzn-29.png\" width=800 height=800></td></tr><tr><td>amzn-29.png (28/31)</td></tr>"
      ],
      "text/plain": [
       "<IPython.core.display.HTML object>"
      ]
     },
     "metadata": {},
     "output_type": "display_data"
    },
    {
     "data": {
      "text/html": [
       "<tr><td><img src=\"file:///C:/Users/w_gon/projects/mplfinance/examples/images/amzn-30.png\" width=800 height=800></td></tr><tr><td>amzn-30.png (29/31)</td></tr>"
      ],
      "text/plain": [
       "<IPython.core.display.HTML object>"
      ]
     },
     "metadata": {},
     "output_type": "display_data"
    },
    {
     "data": {
      "text/html": [
       "<tr><td><img src=\"file:///C:/Users/w_gon/projects/mplfinance/examples/images/amzn-31.png\" width=800 height=800></td></tr><tr><td>amzn-31.png (30/31)</td></tr>"
      ],
      "text/plain": [
       "<IPython.core.display.HTML object>"
      ]
     },
     "metadata": {},
     "output_type": "display_data"
    },
    {
     "data": {
      "text/html": [
       "</table>"
      ],
      "text/plain": [
       "<IPython.core.display.HTML object>"
      ]
     },
     "metadata": {},
     "output_type": "display_data"
    },
    {
     "data": {
      "text/html": [
       "<h3>winner googl chart patterns - 2022-03-20 22:19:03.012965</h3>"
      ],
      "text/plain": [
       "<IPython.core.display.HTML object>"
      ]
     },
     "metadata": {},
     "output_type": "display_data"
    },
    {
     "data": {
      "text/html": [
       "<table>"
      ],
      "text/plain": [
       "<IPython.core.display.HTML object>"
      ]
     },
     "metadata": {},
     "output_type": "display_data"
    },
    {
     "data": {
      "text/html": [
       "<tr><td><img src=\"file:///C:/Users/w_gon/projects/mplfinance/examples/images/googl-01.png\" width=800 height=800></td></tr><tr><td>googl-01.png (0/22)</td></tr>"
      ],
      "text/plain": [
       "<IPython.core.display.HTML object>"
      ]
     },
     "metadata": {},
     "output_type": "display_data"
    },
    {
     "data": {
      "text/html": [
       "<tr><td><img src=\"file:///C:/Users/w_gon/projects/mplfinance/examples/images/googl-02.png\" width=800 height=800></td></tr><tr><td>googl-02.png (1/22)</td></tr>"
      ],
      "text/plain": [
       "<IPython.core.display.HTML object>"
      ]
     },
     "metadata": {},
     "output_type": "display_data"
    },
    {
     "data": {
      "text/html": [
       "<tr><td><img src=\"file:///C:/Users/w_gon/projects/mplfinance/examples/images/googl-03.png\" width=800 height=800></td></tr><tr><td>googl-03.png (2/22)</td></tr>"
      ],
      "text/plain": [
       "<IPython.core.display.HTML object>"
      ]
     },
     "metadata": {},
     "output_type": "display_data"
    },
    {
     "data": {
      "text/html": [
       "<tr><td><img src=\"file:///C:/Users/w_gon/projects/mplfinance/examples/images/googl-04.png\" width=800 height=800></td></tr><tr><td>googl-04.png (3/22)</td></tr>"
      ],
      "text/plain": [
       "<IPython.core.display.HTML object>"
      ]
     },
     "metadata": {},
     "output_type": "display_data"
    },
    {
     "data": {
      "text/html": [
       "<tr><td><img src=\"file:///C:/Users/w_gon/projects/mplfinance/examples/images/googl-05.png\" width=800 height=800></td></tr><tr><td>googl-05.png (4/22)</td></tr>"
      ],
      "text/plain": [
       "<IPython.core.display.HTML object>"
      ]
     },
     "metadata": {},
     "output_type": "display_data"
    },
    {
     "data": {
      "text/html": [
       "<tr><td><img src=\"file:///C:/Users/w_gon/projects/mplfinance/examples/images/googl-06.png\" width=800 height=800></td></tr><tr><td>googl-06.png (5/22)</td></tr>"
      ],
      "text/plain": [
       "<IPython.core.display.HTML object>"
      ]
     },
     "metadata": {},
     "output_type": "display_data"
    },
    {
     "data": {
      "text/html": [
       "<tr><td><img src=\"file:///C:/Users/w_gon/projects/mplfinance/examples/images/googl-07.png\" width=800 height=800></td></tr><tr><td>googl-07.png (6/22)</td></tr>"
      ],
      "text/plain": [
       "<IPython.core.display.HTML object>"
      ]
     },
     "metadata": {},
     "output_type": "display_data"
    },
    {
     "data": {
      "text/html": [
       "<tr><td><img src=\"file:///C:/Users/w_gon/projects/mplfinance/examples/images/googl-08.png\" width=800 height=800></td></tr><tr><td>googl-08.png (7/22)</td></tr>"
      ],
      "text/plain": [
       "<IPython.core.display.HTML object>"
      ]
     },
     "metadata": {},
     "output_type": "display_data"
    },
    {
     "data": {
      "text/html": [
       "<tr><td><img src=\"file:///C:/Users/w_gon/projects/mplfinance/examples/images/googl-09.png\" width=800 height=800></td></tr><tr><td>googl-09.png (8/22)</td></tr>"
      ],
      "text/plain": [
       "<IPython.core.display.HTML object>"
      ]
     },
     "metadata": {},
     "output_type": "display_data"
    },
    {
     "data": {
      "text/html": [
       "<tr><td><img src=\"file:///C:/Users/w_gon/projects/mplfinance/examples/images/googl-10.png\" width=800 height=800></td></tr><tr><td>googl-10.png (9/22)</td></tr>"
      ],
      "text/plain": [
       "<IPython.core.display.HTML object>"
      ]
     },
     "metadata": {},
     "output_type": "display_data"
    },
    {
     "data": {
      "text/html": [
       "<tr><td><img src=\"file:///C:/Users/w_gon/projects/mplfinance/examples/images/googl-11.png\" width=800 height=800></td></tr><tr><td>googl-11.png (10/22)</td></tr>"
      ],
      "text/plain": [
       "<IPython.core.display.HTML object>"
      ]
     },
     "metadata": {},
     "output_type": "display_data"
    },
    {
     "data": {
      "text/html": [
       "<tr><td><img src=\"file:///C:/Users/w_gon/projects/mplfinance/examples/images/googl-12.png\" width=800 height=800></td></tr><tr><td>googl-12.png (11/22)</td></tr>"
      ],
      "text/plain": [
       "<IPython.core.display.HTML object>"
      ]
     },
     "metadata": {},
     "output_type": "display_data"
    },
    {
     "data": {
      "text/html": [
       "<tr><td><img src=\"file:///C:/Users/w_gon/projects/mplfinance/examples/images/googl-13.png\" width=800 height=800></td></tr><tr><td>googl-13.png (12/22)</td></tr>"
      ],
      "text/plain": [
       "<IPython.core.display.HTML object>"
      ]
     },
     "metadata": {},
     "output_type": "display_data"
    },
    {
     "data": {
      "text/html": [
       "<tr><td><img src=\"file:///C:/Users/w_gon/projects/mplfinance/examples/images/googl-14.png\" width=800 height=800></td></tr><tr><td>googl-14.png (13/22)</td></tr>"
      ],
      "text/plain": [
       "<IPython.core.display.HTML object>"
      ]
     },
     "metadata": {},
     "output_type": "display_data"
    },
    {
     "data": {
      "text/html": [
       "<tr><td><img src=\"file:///C:/Users/w_gon/projects/mplfinance/examples/images/googl-15.png\" width=800 height=800></td></tr><tr><td>googl-15.png (14/22)</td></tr>"
      ],
      "text/plain": [
       "<IPython.core.display.HTML object>"
      ]
     },
     "metadata": {},
     "output_type": "display_data"
    },
    {
     "data": {
      "text/html": [
       "<tr><td><img src=\"file:///C:/Users/w_gon/projects/mplfinance/examples/images/googl-16.png\" width=800 height=800></td></tr><tr><td>googl-16.png (15/22)</td></tr>"
      ],
      "text/plain": [
       "<IPython.core.display.HTML object>"
      ]
     },
     "metadata": {},
     "output_type": "display_data"
    },
    {
     "data": {
      "text/html": [
       "<tr><td><img src=\"file:///C:/Users/w_gon/projects/mplfinance/examples/images/googl-17.png\" width=800 height=800></td></tr><tr><td>googl-17.png (16/22)</td></tr>"
      ],
      "text/plain": [
       "<IPython.core.display.HTML object>"
      ]
     },
     "metadata": {},
     "output_type": "display_data"
    },
    {
     "data": {
      "text/html": [
       "<tr><td><img src=\"file:///C:/Users/w_gon/projects/mplfinance/examples/images/googl-18.png\" width=800 height=800></td></tr><tr><td>googl-18.png (17/22)</td></tr>"
      ],
      "text/plain": [
       "<IPython.core.display.HTML object>"
      ]
     },
     "metadata": {},
     "output_type": "display_data"
    },
    {
     "data": {
      "text/html": [
       "<tr><td><img src=\"file:///C:/Users/w_gon/projects/mplfinance/examples/images/googl-19.png\" width=800 height=800></td></tr><tr><td>googl-19.png (18/22)</td></tr>"
      ],
      "text/plain": [
       "<IPython.core.display.HTML object>"
      ]
     },
     "metadata": {},
     "output_type": "display_data"
    },
    {
     "data": {
      "text/html": [
       "<tr><td><img src=\"file:///C:/Users/w_gon/projects/mplfinance/examples/images/googl-20.png\" width=800 height=800></td></tr><tr><td>googl-20.png (19/22)</td></tr>"
      ],
      "text/plain": [
       "<IPython.core.display.HTML object>"
      ]
     },
     "metadata": {},
     "output_type": "display_data"
    },
    {
     "data": {
      "text/html": [
       "<tr><td><img src=\"file:///C:/Users/w_gon/projects/mplfinance/examples/images/googl-21.png\" width=800 height=800></td></tr><tr><td>googl-21.png (20/22)</td></tr>"
      ],
      "text/plain": [
       "<IPython.core.display.HTML object>"
      ]
     },
     "metadata": {},
     "output_type": "display_data"
    },
    {
     "data": {
      "text/html": [
       "<tr><td><img src=\"file:///C:/Users/w_gon/projects/mplfinance/examples/images/googl-22.png\" width=800 height=800></td></tr><tr><td>googl-22.png (21/22)</td></tr>"
      ],
      "text/plain": [
       "<IPython.core.display.HTML object>"
      ]
     },
     "metadata": {},
     "output_type": "display_data"
    },
    {
     "data": {
      "text/html": [
       "</table>"
      ],
      "text/plain": [
       "<IPython.core.display.HTML object>"
      ]
     },
     "metadata": {},
     "output_type": "display_data"
    }
   ],
   "source": [
    "width,height = 800, 800\n",
    "\n",
    "CWD = r\"C:\\Users\\w_gon\\projects\\mplfinance\\examples\\images\"\n",
    "\n",
    "for ticker in [\"aapl\", \"adbe\", \"amd\", \"amzn\", \"googl\"]:\n",
    "    files_png = list(Path(CWD).glob(f\"{ticker}-*.png\"))\n",
    "\n",
    "    gen_img_table_html_v2(files_png, title=f\"winner {ticker} chart patterns\", width=width, height=height)"
   ]
  },
  {
   "cell_type": "markdown",
   "metadata": {},
   "source": [
    "# Tips"
   ]
  },
  {
   "cell_type": "markdown",
   "metadata": {},
   "source": [
    "How to collate many images of similar names into one single PDF file\n",
    "\n",
    "- run this notebook\n",
    "- export result into html\n",
    "- open the html page and print to pdf"
   ]
  },
  {
   "cell_type": "code",
   "execution_count": null,
   "metadata": {},
   "outputs": [],
   "source": []
  }
 ],
 "metadata": {
  "kernelspec": {
   "display_name": "Python 3",
   "language": "python",
   "name": "python3"
  },
  "language_info": {
   "codemirror_mode": {
    "name": "ipython",
    "version": 3
   },
   "file_extension": ".py",
   "mimetype": "text/x-python",
   "name": "python",
   "nbconvert_exporter": "python",
   "pygments_lexer": "ipython3",
   "version": "3.8.5"
  },
  "toc": {
   "base_numbering": 1,
   "nav_menu": {},
   "number_sections": true,
   "sideBar": true,
   "skip_h1_title": false,
   "title_cell": "Table of Contents",
   "title_sidebar": "Contents",
   "toc_cell": false,
   "toc_position": {
    "height": "calc(100% - 180px)",
    "left": "10px",
    "top": "150px",
    "width": "165px"
   },
   "toc_section_display": true,
   "toc_window_display": true
  }
 },
 "nbformat": 4,
 "nbformat_minor": 4
}
