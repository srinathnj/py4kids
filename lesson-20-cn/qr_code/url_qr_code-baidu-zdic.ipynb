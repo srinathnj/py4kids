{
 "cells": [
  {
   "cell_type": "markdown",
   "id": "4c3e99a3",
   "metadata": {},
   "source": [
    "generate QR Code in python\n",
    "- https://pypi.org/project/PyQRCode/\n",
    "- https://pypi.org/project/pypng/"
   ]
  },
  {
   "cell_type": "code",
   "execution_count": 17,
   "id": "95f75755",
   "metadata": {},
   "outputs": [
    {
     "name": "stdout",
     "output_type": "stream",
     "text": [
      "C:\\Users\\p2p2l\\projects\\wgong\\py4kids\\lesson-99-misc\\qrcode\n"
     ]
    }
   ],
   "source": [
    "!cd "
   ]
  },
  {
   "cell_type": "raw",
   "id": "30f0472c",
   "metadata": {},
   "source": [
    "!pip install pyqrcode"
   ]
  },
  {
   "cell_type": "raw",
   "id": "5b63088f",
   "metadata": {},
   "source": [
    "!pip install pypng"
   ]
  },
  {
   "cell_type": "code",
   "execution_count": 3,
   "id": "4c00987b",
   "metadata": {},
   "outputs": [],
   "source": [
    "from PIL import Image\n",
    "import png\n",
    "import pyqrcode\n",
    "\n",
    "from urllib.parse import quote"
   ]
  },
  {
   "cell_type": "markdown",
   "id": "38283f57",
   "metadata": {},
   "source": [
    "## QR code + logo"
   ]
  },
  {
   "cell_type": "raw",
   "id": "3c8a3717",
   "metadata": {},
   "source": [
    "\n",
    "\n",
    "logo_png = 'logo-orig.png'\n",
    "qr_code_png = \"sun-qrcode.png\"\n",
    "qr_code_logo_png = \"sun-qrcode-logo.png\"\n",
    "URL = \"https://baike.baidu.com/item/%E6%97%A5/35262\"\n",
    "\n",
    "\n",
    "# Generate the QR code\n",
    "qr_code = pyqrcode.create(URL)\n",
    "qr_code.png(qr_code_png, scale=10)\n",
    "\n",
    "# Open the generated QR code image\n",
    "img = Image.open(qr_code_png).convert('RGBA')\n",
    "\n",
    "# Calculate the region for the logo\n",
    "width, height = img.size\n",
    "logo_size = int(width*0.25)\n",
    "xmin = ymin = int((width / 2) - (logo_size / 2))\n",
    "xmax = ymax = int((width / 2) + (logo_size / 2))\n",
    "\n",
    "# Open the logo image and check its mode\n",
    "logo = Image.open(logo_png)\n",
    "print(f\"Logo image mode: {logo.mode}\")\n",
    "print(f\"Logo image color profile: {logo.info.get('icc_profile')}\")\n",
    "\n",
    "if logo.mode != 'RGBA':\n",
    "    print(\"Warning: Logo image mode is not RGBA. Converting to RGBA.\")\n",
    "    logo = logo.convert('RGBA')\n",
    "\n",
    "logo = logo.resize((xmax - xmin, ymax - ymin))\n",
    "\n",
    "# Paste the logo onto the QR code\n",
    "img.paste(logo, (xmin, ymin, xmax, ymax), mask=logo)\n",
    "\n",
    "# Save the resulting image\n",
    "img.save(qr_code_logo_png, format=\"PNG\")"
   ]
  },
  {
   "cell_type": "raw",
   "id": "74aa2941",
   "metadata": {},
   "source": [
    "print(f\"Logo image mode: {logo.mode}\")\n",
    "print(f\"Logo image color profile: {logo.info.get('icc_profile')}\")"
   ]
  },
  {
   "cell_type": "markdown",
   "id": "5a6356ba",
   "metadata": {},
   "source": [
    "### Ask Claude to fix logo-color issue"
   ]
  },
  {
   "cell_type": "code",
   "execution_count": 4,
   "id": "b2daa7d3",
   "metadata": {},
   "outputs": [],
   "source": [
    "zi_char = \"日\"\n",
    "encoded_char = quote(zi_char)\n",
    "\n",
    "URL_dict = {\n",
    "    \"baidu\": f\"https://baike.baidu.com/item/{encoded_char}/35262\",   # last digit varies from Zi\n",
    "    \"zdic\": f\"https://www.zdic.net/hans/{encoded_char}\" \n",
    "}\n",
    "\n",
    "for url_src in [\"baidu\", \"zdic\"]:\n",
    "\n",
    "    log_png = f\"logo-{zi_char}.png\"\n",
    "    qr_code_png = f\"qr_code-{url_src}-{zi_char}.png\"\n",
    "    qr_code_logo_png = f\"qr_code_logo-{url_src}-{zi_char}.png\"\n",
    "    URL = URL_dict[url_src]\n",
    "\n",
    "    # Generate the QR code\n",
    "    qr_code_baidu = pyqrcode.create(URL)\n",
    "    qr_code_baidu.png(qr_code_png, scale=10)\n",
    "\n",
    "    # Open the generated QR code image\n",
    "    img = Image.open(qr_code_png).convert(\"RGBA\")\n",
    "\n",
    "    # Calculate the region for the logo\n",
    "    width, height = img.size\n",
    "    logo_size = 100\n",
    "    xmin = ymin = int((width / 2) - (logo_size / 2))\n",
    "    xmax = ymax = int((width / 2) + (logo_size / 2))\n",
    "\n",
    "    # Open the logo image\n",
    "    logo = Image.open(log_png).convert(\"RGBA\")\n",
    "    logo = logo.resize((xmax - xmin, ymax - ymin))\n",
    "\n",
    "    # Create a new image with an alpha channel\n",
    "    new_img = Image.new(\"RGBA\", img.size, (0, 0, 0, 0))\n",
    "\n",
    "    # Paste the QR code onto the new image\n",
    "    new_img.paste(img, (0, 0))\n",
    "\n",
    "    # Paste the logo onto the new image\n",
    "    new_img.paste(logo, (xmin, ymin, xmax, ymax), logo)\n",
    "\n",
    "    # Save the resulting image\n",
    "    new_img.save(qr_code_logo_png, format=\"PNG\")"
   ]
  },
  {
   "cell_type": "code",
   "execution_count": null,
   "id": "304d8293",
   "metadata": {},
   "outputs": [],
   "source": []
  }
 ],
 "metadata": {
  "kernelspec": {
   "display_name": "Python 3 (ipykernel)",
   "language": "python",
   "name": "python3"
  },
  "language_info": {
   "codemirror_mode": {
    "name": "ipython",
    "version": 3
   },
   "file_extension": ".py",
   "mimetype": "text/x-python",
   "name": "python",
   "nbconvert_exporter": "python",
   "pygments_lexer": "ipython3",
   "version": "3.9.13"
  },
  "nbTranslate": {
   "displayLangs": [
    "*"
   ],
   "hotkey": "alt-t",
   "langInMainMenu": true,
   "sourceLang": "en",
   "targetLang": "fr",
   "useGoogleTranslate": true
  },
  "toc": {
   "base_numbering": 1,
   "nav_menu": {},
   "number_sections": true,
   "sideBar": true,
   "skip_h1_title": false,
   "title_cell": "Table of Contents",
   "title_sidebar": "Contents",
   "toc_cell": false,
   "toc_position": {},
   "toc_section_display": true,
   "toc_window_display": false
  }
 },
 "nbformat": 4,
 "nbformat_minor": 5
}
