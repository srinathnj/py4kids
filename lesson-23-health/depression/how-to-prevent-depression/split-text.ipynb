{
 "cells": [
  {
   "cell_type": "code",
   "execution_count": 47,
   "id": "95adcd0d",
   "metadata": {},
   "outputs": [],
   "source": [
    "import re\n",
    "file_txt = \"transcript-en-v1.txt\""
   ]
  },
  {
   "cell_type": "code",
   "execution_count": 48,
   "id": "21622f34",
   "metadata": {},
   "outputs": [],
   "source": [
    "ts_pattern = r\"\\d{2}:\\d{2}:\\d{2}\""
   ]
  },
  {
   "cell_type": "code",
   "execution_count": 49,
   "id": "95ed8a37",
   "metadata": {},
   "outputs": [],
   "source": [
    "with open(file_txt, encoding=\"utf-8\") as f:\n",
    "    data = re.split(ts_pattern, f.read())"
   ]
  },
  {
   "cell_type": "code",
   "execution_count": 50,
   "id": "59f79c38",
   "metadata": {},
   "outputs": [
    {
     "data": {
      "text/plain": [
       "(80,\n",
       " ['The practical skills you needs to prevent and overcome depression\\n\\nhttps://psychlopaedia.org/health/how-to-prevent-depression-full-transcript/\\n\\nBY MICHAEL YAPKO ( https://psychlopaedia.org/author/michael-yapko/ )\\n\\n\\n\\n',\n",
       "  '               Thanks so much. Well, that was a very nice introduction. Thank you. I want to say I’m very grateful to Anthony for arranging this program, this idea of his of bringing psychology to the public, to me, is the most important thing that we, as psychologists, can do. The volume of information is so great, and the quality of information has improved so markedly over time, that there are a lot to share, and we have a relatively short time this evening, but I hope to give you a lot of good perspective about things that matter the most in learning to manage depression.\\n\\n',\n",
       "  '               So, let me say I will be speaking for roughly 45 minutes or so and then I will open it up to questions. Let me start with a story and get you thinking about this topic. When I was a young psychologist, back in 1928, my first job was working in a psychiatric facility, and I was the admissions person. It was my job to admit new patients to the unit. Now, this was a locked facility. People aren’t getting locked up because they’re doing well. They’re not really doing very well at all. So my job was to interview them, find out why they were there, what was going on in their lives, what the expectation was for their hospitalisation, what medications they were on, what the treatment plan was, all those kinds of things.\\n\\n'])"
      ]
     },
     "execution_count": 50,
     "metadata": {},
     "output_type": "execute_result"
    }
   ],
   "source": [
    "len(data), data[:3]"
   ]
  },
  {
   "cell_type": "code",
   "execution_count": 51,
   "id": "482d998e",
   "metadata": {},
   "outputs": [],
   "source": [
    "data = [d.strip() for d in data if d.strip()]"
   ]
  },
  {
   "cell_type": "code",
   "execution_count": 52,
   "id": "ba835c2a",
   "metadata": {},
   "outputs": [],
   "source": [
    "def split_by_length(data, max_length=5000):\n",
    "    data_new = []\n",
    "    x = []\n",
    "    for d in data:\n",
    "        x.append(d)\n",
    "        if len(str(x)) > max_length:\n",
    "            data_new.append(x[:-1])\n",
    "            x = x[-1:]\n",
    "    return data_new"
   ]
  },
  {
   "cell_type": "raw",
   "id": "cbebc175",
   "metadata": {},
   "source": []
  },
  {
   "cell_type": "code",
   "execution_count": 53,
   "id": "1259e92b",
   "metadata": {},
   "outputs": [],
   "source": [
    "with open(\"transcript-en-v1-split.txt\", \"w\", encoding=\"utf-8\") as f:\n",
    "    for d in split_by_length(data):\n",
    "        f.write(\"\\n\\n\".join(d))\n",
    "        f.write(\"\\n\\n......\\n\\n\")\n"
   ]
  },
  {
   "cell_type": "code",
   "execution_count": null,
   "id": "f2b0b4e1",
   "metadata": {},
   "outputs": [],
   "source": []
  }
 ],
 "metadata": {
  "kernelspec": {
   "display_name": "Python 3 (ipykernel)",
   "language": "python",
   "name": "python3"
  },
  "language_info": {
   "codemirror_mode": {
    "name": "ipython",
    "version": 3
   },
   "file_extension": ".py",
   "mimetype": "text/x-python",
   "name": "python",
   "nbconvert_exporter": "python",
   "pygments_lexer": "ipython3",
   "version": "3.9.13"
  }
 },
 "nbformat": 4,
 "nbformat_minor": 5
}
