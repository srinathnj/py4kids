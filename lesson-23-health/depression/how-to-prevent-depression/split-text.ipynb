{
 "cells": [
  {
   "cell_type": "code",
   "execution_count": 1,
   "id": "c880bc68",
   "metadata": {},
   "outputs": [],
   "source": [
    "import re\n",
    "file_txt = \"transcript-en-v1.txt\""
   ]
  },
  {
   "cell_type": "code",
   "execution_count": 15,
   "id": "55425558",
   "metadata": {},
   "outputs": [],
   "source": [
    "ts_pattern = r\"\\d{2}:\\d{2}:\\d{2}\""
   ]
  },
  {
   "cell_type": "code",
   "execution_count": 19,
   "id": "cb8ffb8f",
   "metadata": {},
   "outputs": [
    {
     "data": {
      "text/plain": [
       "<re.Match object; span=(0, 8), match='00:00:51'>"
      ]
     },
     "execution_count": 19,
     "metadata": {},
     "output_type": "execute_result"
    }
   ],
   "source": [
    "ts = \"00:00:51\"\n",
    "x = re.match(ts_pattern, ts)\n",
    "x"
   ]
  },
  {
   "cell_type": "code",
   "execution_count": 21,
   "id": "16b01bef",
   "metadata": {},
   "outputs": [],
   "source": [
    "with open(file_txt, encoding=\"utf-8\") as f:\n",
    "    data = re.split(ts_pattern, f.read())"
   ]
  },
  {
   "cell_type": "code",
   "execution_count": 24,
   "id": "3273bc2c",
   "metadata": {},
   "outputs": [
    {
     "data": {
      "text/plain": [
       "(80,\n",
       " ['The practical skills you needs to prevent and overcome depression\\n\\nBY MICHAEL YAPKO',\n",
       "  'Thanks. Thanks so much. Well, that was a very nice introduction. Thank you. I want to say I’m very grateful to Anthony for arranging this, this program, this idea of his of bringing psychology to the public, to me, is the most important thing that we, as psychologists, can do. The volume of information is so great, and the quality of information has improved so markedly over time, that there’s a lot to share, and we have a relatively short time this evening, but I hope to give you a lot of good perspective about things that matter the most in learning to manage depression.',\n",
       "  'So, let me say I will be speaking for roughly 45 minutes or so and then I will open it up to questions. Let me start with a story and get you thinking about this topic. When I was a young psychologist, back in 1928, my first job was working in a psychiatric facility, and I was the admissions person. It was my job to admit new patients to the unit. Now, this was a locked facility. People aren’t getting locked up because they’re doing well. They’re not really doing very well at all. So my job was to interview them, find out why they were there, what was going on in their lives, what the expectation was for their hospitalisation, what medications they were on, what the treatment plan was, all those kinds of things.'])"
      ]
     },
     "execution_count": 24,
     "metadata": {},
     "output_type": "execute_result"
    }
   ],
   "source": [
    "len(data), data[:3]"
   ]
  },
  {
   "cell_type": "code",
   "execution_count": 23,
   "id": "de2ce351",
   "metadata": {},
   "outputs": [],
   "source": [
    "data = [d.strip() for d in data if d.strip()]"
   ]
  },
  {
   "cell_type": "code",
   "execution_count": 32,
   "id": "2a395f20",
   "metadata": {},
   "outputs": [],
   "source": [
    "def split_by_length(data, max_length=5000):\n",
    "    data_new = []\n",
    "    x = []\n",
    "    for d in data:\n",
    "        x.append(d)\n",
    "        if len(str(x)) > max_length:\n",
    "            data_new.append(x[:-1])\n",
    "            x = x[-1:]\n",
    "    return data_new"
   ]
  },
  {
   "cell_type": "raw",
   "id": "6326ba49",
   "metadata": {},
   "source": []
  },
  {
   "cell_type": "code",
   "execution_count": 46,
   "id": "340d0b17",
   "metadata": {},
   "outputs": [],
   "source": [
    "with open(\"transcript-en-v1-split.txt\", \"w\", encoding=\"utf-8\") as f:\n",
    "    for d in split_by_length(data):\n",
    "        f.write(\"\\n\\n\".join(d))\n",
    "        f.write(\"\\n\\n......\\n\\n\")\n"
   ]
  },
  {
   "cell_type": "code",
   "execution_count": null,
   "id": "981986b8",
   "metadata": {},
   "outputs": [],
   "source": []
  }
 ],
 "metadata": {
  "kernelspec": {
   "display_name": "Python 3 (ipykernel)",
   "language": "python",
   "name": "python3"
  },
  "language_info": {
   "codemirror_mode": {
    "name": "ipython",
    "version": 3
   },
   "file_extension": ".py",
   "mimetype": "text/x-python",
   "name": "python",
   "nbconvert_exporter": "python",
   "pygments_lexer": "ipython3",
   "version": "3.9.13"
  }
 },
 "nbformat": 4,
 "nbformat_minor": 5
}
