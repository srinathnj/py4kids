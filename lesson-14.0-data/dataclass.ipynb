{
 "cells": [
  {
   "cell_type": "markdown",
   "id": "000ce29e",
   "metadata": {},
   "source": [
    "https://pypi.org/project/dataclasses/\n",
    "\n",
    "```\n",
    "pip install dataclasses\n",
    "```"
   ]
  },
  {
   "cell_type": "code",
   "execution_count": 12,
   "id": "b6c517b6",
   "metadata": {},
   "outputs": [
    {
     "name": "stdout",
     "output_type": "stream",
     "text": [
      "Requirement already satisfied: tabulate in c:\\users\\p2p2l\\anaconda3\\lib\\site-packages (0.9.0)\n"
     ]
    },
    {
     "name": "stderr",
     "output_type": "stream",
     "text": [
      "WARNING: Ignoring invalid distribution - (c:\\users\\p2p2l\\anaconda3\\lib\\site-packages)\n",
      "WARNING: Ignoring invalid distribution -illow (c:\\users\\p2p2l\\anaconda3\\lib\\site-packages)\n",
      "WARNING: Ignoring invalid distribution -radio (c:\\users\\p2p2l\\anaconda3\\lib\\site-packages)\n",
      "WARNING: Ignoring invalid distribution -rotobuf (c:\\users\\p2p2l\\anaconda3\\lib\\site-packages)\n",
      "WARNING: Ignoring invalid distribution -treamlit (c:\\users\\p2p2l\\anaconda3\\lib\\site-packages)\n",
      "WARNING: Ignoring invalid distribution - (c:\\users\\p2p2l\\anaconda3\\lib\\site-packages)\n",
      "WARNING: Ignoring invalid distribution -illow (c:\\users\\p2p2l\\anaconda3\\lib\\site-packages)\n",
      "WARNING: Ignoring invalid distribution -radio (c:\\users\\p2p2l\\anaconda3\\lib\\site-packages)\n",
      "WARNING: Ignoring invalid distribution -rotobuf (c:\\users\\p2p2l\\anaconda3\\lib\\site-packages)\n",
      "WARNING: Ignoring invalid distribution -treamlit (c:\\users\\p2p2l\\anaconda3\\lib\\site-packages)\n"
     ]
    }
   ],
   "source": [
    "!pip install tabulate "
   ]
  },
  {
   "cell_type": "code",
   "execution_count": 9,
   "id": "ef0a939e",
   "metadata": {},
   "outputs": [],
   "source": [
    "from dataclasses import dataclass\n",
    "import dataclasses"
   ]
  },
  {
   "cell_type": "code",
   "execution_count": 1,
   "id": "ad740267",
   "metadata": {},
   "outputs": [
    {
     "name": "stdout",
     "output_type": "stream",
     "text": [
      "125.88\n"
     ]
    }
   ],
   "source": [
    "@dataclass\n",
    "class InventoryItem:\n",
    "    name: str\n",
    "    unit_price: float\n",
    "    quantity_on_hand: int = 0\n",
    "\n",
    "    def total_cost(self) -> float:\n",
    "        return self.unit_price * self.quantity_on_hand\n",
    "\n",
    "item = InventoryItem('hammers', 10.49, 12)\n",
    "print(item.total_cost())"
   ]
  },
  {
   "cell_type": "code",
   "execution_count": 2,
   "id": "86ae524f",
   "metadata": {},
   "outputs": [
    {
     "data": {
      "text/plain": [
       "'hammers'"
      ]
     },
     "execution_count": 2,
     "metadata": {},
     "output_type": "execute_result"
    }
   ],
   "source": [
    "item.name"
   ]
  },
  {
   "cell_type": "code",
   "execution_count": 3,
   "id": "21c9660b",
   "metadata": {},
   "outputs": [],
   "source": [
    "item = InventoryItem('nails', 0.49, 1000)"
   ]
  },
  {
   "cell_type": "code",
   "execution_count": 4,
   "id": "e079d320",
   "metadata": {},
   "outputs": [
    {
     "data": {
      "text/plain": [
       "InventoryItem(name='nails', unit_price=0.49, quantity_on_hand=1000)"
      ]
     },
     "execution_count": 4,
     "metadata": {},
     "output_type": "execute_result"
    }
   ],
   "source": [
    "item "
   ]
  },
  {
   "cell_type": "code",
   "execution_count": 6,
   "id": "79ffa137",
   "metadata": {},
   "outputs": [
    {
     "data": {
      "text/plain": [
       "(1000, 490.0)"
      ]
     },
     "execution_count": 6,
     "metadata": {},
     "output_type": "execute_result"
    }
   ],
   "source": [
    "item.quantity_on_hand, item.total_cost()"
   ]
  },
  {
   "cell_type": "code",
   "execution_count": 10,
   "id": "2199cab5",
   "metadata": {},
   "outputs": [
    {
     "data": {
      "text/plain": [
       "{'name': 'nails', 'unit_price': 0.49, 'quantity_on_hand': 1000}"
      ]
     },
     "execution_count": 10,
     "metadata": {},
     "output_type": "execute_result"
    }
   ],
   "source": [
    "dataclasses.asdict(item)"
   ]
  },
  {
   "cell_type": "code",
   "execution_count": 11,
   "id": "9f4f000e",
   "metadata": {},
   "outputs": [
    {
     "name": "stdout",
     "output_type": "stream",
     "text": [
      "InventoryItem(name='nails', unit_price=0.49, quantity_on_hand=1000)\n"
     ]
    }
   ],
   "source": [
    "print(item)"
   ]
  },
  {
   "cell_type": "code",
   "execution_count": 13,
   "id": "ca434c1d",
   "metadata": {},
   "outputs": [],
   "source": [
    "from tabulate import tabulate"
   ]
  },
  {
   "cell_type": "code",
   "execution_count": 17,
   "id": "dd502a0a",
   "metadata": {},
   "outputs": [],
   "source": [
    "table = [[\"Object\", \"Mass\", \"Distance\"], \n",
    "         [\"Sun\",696000,1989100000],[\"Earth\",6371,5973.6],\n",
    "         [\"Moon\",1737,73.5],[\"Mars\",3390,641.85]]"
   ]
  },
  {
   "cell_type": "code",
   "execution_count": 18,
   "id": "f3dcb27f",
   "metadata": {},
   "outputs": [
    {
     "name": "stdout",
     "output_type": "stream",
     "text": [
      "------  ------  ----------\n",
      "Object  Mass    Distance\n",
      "Sun     696000  1989100000\n",
      "Earth   6371    5973.6\n",
      "Moon    1737    73.5\n",
      "Mars    3390    641.85\n",
      "------  ------  ----------\n"
     ]
    }
   ],
   "source": [
    "print(tabulate(table))"
   ]
  },
  {
   "cell_type": "code",
   "execution_count": null,
   "id": "ff503c1e",
   "metadata": {},
   "outputs": [],
   "source": []
  }
 ],
 "metadata": {
  "kernelspec": {
   "display_name": "Python 3 (ipykernel)",
   "language": "python",
   "name": "python3"
  },
  "language_info": {
   "codemirror_mode": {
    "name": "ipython",
    "version": 3
   },
   "file_extension": ".py",
   "mimetype": "text/x-python",
   "name": "python",
   "nbconvert_exporter": "python",
   "pygments_lexer": "ipython3",
   "version": "3.9.13"
  },
  "nbTranslate": {
   "displayLangs": [
    "*"
   ],
   "hotkey": "alt-t",
   "langInMainMenu": true,
   "sourceLang": "en",
   "targetLang": "fr",
   "useGoogleTranslate": true
  },
  "toc": {
   "base_numbering": 1,
   "nav_menu": {},
   "number_sections": true,
   "sideBar": true,
   "skip_h1_title": false,
   "title_cell": "Table of Contents",
   "title_sidebar": "Contents",
   "toc_cell": false,
   "toc_position": {},
   "toc_section_display": true,
   "toc_window_display": false
  }
 },
 "nbformat": 4,
 "nbformat_minor": 5
}
