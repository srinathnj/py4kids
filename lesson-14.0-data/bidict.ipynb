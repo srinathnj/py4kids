{
 "cells": [
  {
   "cell_type": "markdown",
   "id": "fa9104f4",
   "metadata": {},
   "source": [
    "https://bidict.readthedocs.io/en/main/index.html\n",
    "\n",
    "`bidict` behaves just like a `dict`, but maintains a special `inverse` attribute giving access to inverse items:\n",
    "\n",
    "- The inverse is automatically kept up-to-date.\n",
    "- Values Must Be Hashable\n",
    "- Values Must Be Unique\n",
    "- frozenbidict is an immutable, hashable bidirectional mapping type."
   ]
  },
  {
   "cell_type": "code",
   "execution_count": 1,
   "id": "db48784e",
   "metadata": {},
   "outputs": [
    {
     "data": {
      "text/plain": [
       "'H'"
      ]
     },
     "execution_count": 1,
     "metadata": {},
     "output_type": "execute_result"
    }
   ],
   "source": [
    "from bidict import bidict\n",
    "element_by_symbol = bidict({'H': 'hydrogen'})\n",
    "element_by_symbol['H']\n",
    "element_by_symbol.inverse['hydrogen']"
   ]
  },
  {
   "cell_type": "code",
   "execution_count": 6,
   "id": "ef509ebb",
   "metadata": {},
   "outputs": [
    {
     "data": {
      "text/plain": [
       "(bidict({'H': 'hydrogen'}), bidict({'hydrogen': 'H'}))"
      ]
     },
     "execution_count": 6,
     "metadata": {},
     "output_type": "execute_result"
    }
   ],
   "source": [
    "element_by_symbol, element_by_symbol.inv"
   ]
  },
  {
   "cell_type": "code",
   "execution_count": 4,
   "id": "510ea53e",
   "metadata": {},
   "outputs": [
    {
     "data": {
      "text/plain": [
       "(dict_keys(['H']), dict_keys(['hydrogen']))"
      ]
     },
     "execution_count": 4,
     "metadata": {},
     "output_type": "execute_result"
    }
   ],
   "source": [
    "element_by_symbol.keys(), element_by_symbol.values()"
   ]
  },
  {
   "cell_type": "code",
   "execution_count": null,
   "id": "d4441926",
   "metadata": {},
   "outputs": [],
   "source": []
  }
 ],
 "metadata": {
  "kernelspec": {
   "display_name": "Python 3 (ipykernel)",
   "language": "python",
   "name": "python3"
  },
  "language_info": {
   "codemirror_mode": {
    "name": "ipython",
    "version": 3
   },
   "file_extension": ".py",
   "mimetype": "text/x-python",
   "name": "python",
   "nbconvert_exporter": "python",
   "pygments_lexer": "ipython3",
   "version": "3.11.5"
  }
 },
 "nbformat": 4,
 "nbformat_minor": 5
}
