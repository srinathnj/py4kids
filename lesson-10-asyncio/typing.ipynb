{
 "cells": [
  {
   "cell_type": "code",
   "execution_count": 1,
   "id": "7a47c25f",
   "metadata": {},
   "outputs": [],
   "source": [
    "from typing import Optional"
   ]
  },
  {
   "cell_type": "markdown",
   "id": "b46a1d1f",
   "metadata": {},
   "source": [
    " `Optional[T]` represents either `T` or `None`, and the typing module lets you add type hints to Python code."
   ]
  },
  {
   "cell_type": "code",
   "execution_count": 11,
   "id": "d322e02f",
   "metadata": {},
   "outputs": [],
   "source": [
    "def get_name(person: Optional[str]) -> None:\n",
    "    if person is None:\n",
    "        print(\"No name provided\")\n",
    "    else:\n",
    "        if not person:\n",
    "            print(f\"What is your name?\")\n",
    "        else:\n",
    "            print(f\"Hello '{person}'\")"
   ]
  },
  {
   "cell_type": "code",
   "execution_count": 12,
   "id": "83798ff8",
   "metadata": {},
   "outputs": [
    {
     "name": "stdout",
     "output_type": "stream",
     "text": [
      "No name provided\n"
     ]
    }
   ],
   "source": [
    "get_name(None)"
   ]
  },
  {
   "cell_type": "code",
   "execution_count": 13,
   "id": "3b2fcb15",
   "metadata": {},
   "outputs": [
    {
     "name": "stdout",
     "output_type": "stream",
     "text": [
      "What is your name?\n"
     ]
    }
   ],
   "source": [
    "get_name(\"\")"
   ]
  },
  {
   "cell_type": "code",
   "execution_count": 14,
   "id": "ba67cfc6",
   "metadata": {},
   "outputs": [
    {
     "name": "stdout",
     "output_type": "stream",
     "text": [
      "Hello 'Claude'\n"
     ]
    }
   ],
   "source": [
    "get_name(\"Claude\")"
   ]
  },
  {
   "cell_type": "code",
   "execution_count": 52,
   "id": "f06dc26d",
   "metadata": {},
   "outputs": [
    {
     "name": "stdout",
     "output_type": "stream",
     "text": [
      "[foo] kwargs: {'num': 5, 's': 'bar'}\n",
      "[my_func_1] kwargs: {'num': 5, 's': 'bar'}\n",
      "Result: True\n"
     ]
    }
   ],
   "source": [
    "from typing import Callable, Any\n",
    "\n",
    "def executor(func: Callable[[dict], Any], **kwargs) -> None:\n",
    "    print(f\"[executor] kwargs: {kwargs}\")\n",
    "    # kwargs = func.__annotations__.get(\"kwargs\", {})\n",
    "    result = func(**kwargs)\n",
    "    print(f\"Result: {result}\")\n",
    "\n",
    "def my_func_1(**kwargs) -> bool:\n",
    "    print(f\"[my_func_1] kwargs: {kwargs}\")\n",
    "    num = kwargs.get(\"num\", 5)\n",
    "    text = kwargs.get(\"s\", \"bar\")\n",
    "    return num == 5 and text == \"bar\"\n",
    "\n",
    "def my_func_2(**kwargs) -> int:\n",
    "    print(f\"[my_func_2] kwargs: {kwargs}\")\n",
    "    x = kwargs.get(\"x\", 0)\n",
    "    y = kwargs.get(\"y\", 0)\n",
    "    return x+y\n",
    "    \n",
    "executor(my_func_1, num=5, s=\"bar\")"
   ]
  },
  {
   "cell_type": "code",
   "execution_count": 53,
   "id": "0e4c9d56",
   "metadata": {},
   "outputs": [
    {
     "name": "stdout",
     "output_type": "stream",
     "text": [
      "[foo] kwargs: {'num': 15, 's': 'bar'}\n",
      "[my_func_1] kwargs: {'num': 15, 's': 'bar'}\n",
      "Result: False\n"
     ]
    }
   ],
   "source": [
    "executor(my_func_1, num=15, s=\"bar\")"
   ]
  },
  {
   "cell_type": "code",
   "execution_count": 54,
   "id": "576d2a81",
   "metadata": {},
   "outputs": [
    {
     "name": "stdout",
     "output_type": "stream",
     "text": [
      "[foo] kwargs: {'x': 5, 'y': 10}\n",
      "[my_func_2] kwargs: {'x': 5, 'y': 10}\n",
      "Result: 15\n"
     ]
    }
   ],
   "source": [
    "executor(my_func_2, x=5, y=10)"
   ]
  },
  {
   "cell_type": "code",
   "execution_count": null,
   "id": "a4308f54",
   "metadata": {},
   "outputs": [],
   "source": []
  }
 ],
 "metadata": {
  "kernelspec": {
   "display_name": "Python 3 (ipykernel)",
   "language": "python",
   "name": "python3"
  },
  "language_info": {
   "codemirror_mode": {
    "name": "ipython",
    "version": 3
   },
   "file_extension": ".py",
   "mimetype": "text/x-python",
   "name": "python",
   "nbconvert_exporter": "python",
   "pygments_lexer": "ipython3",
   "version": "3.9.13"
  },
  "nbTranslate": {
   "displayLangs": [
    "*"
   ],
   "hotkey": "alt-t",
   "langInMainMenu": true,
   "sourceLang": "en",
   "targetLang": "fr",
   "useGoogleTranslate": true
  },
  "toc": {
   "base_numbering": 1,
   "nav_menu": {},
   "number_sections": true,
   "sideBar": true,
   "skip_h1_title": false,
   "title_cell": "Table of Contents",
   "title_sidebar": "Contents",
   "toc_cell": false,
   "toc_position": {},
   "toc_section_display": true,
   "toc_window_display": false
  }
 },
 "nbformat": 4,
 "nbformat_minor": 5
}
