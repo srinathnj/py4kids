{
 "cells": [
  {
   "cell_type": "markdown",
   "metadata": {},
   "source": [
    "https://lxml.de/tutorial.html"
   ]
  },
  {
   "cell_type": "markdown",
   "metadata": {},
   "source": [
    "## lxml"
   ]
  },
  {
   "cell_type": "code",
   "execution_count": 106,
   "metadata": {},
   "outputs": [],
   "source": [
    "from lxml import etree"
   ]
  },
  {
   "cell_type": "code",
   "execution_count": 107,
   "metadata": {},
   "outputs": [],
   "source": [
    "root = etree.Element(\"root\")"
   ]
  },
  {
   "cell_type": "code",
   "execution_count": 108,
   "metadata": {},
   "outputs": [
    {
     "data": {
      "text/plain": [
       "'root'"
      ]
     },
     "execution_count": 108,
     "metadata": {},
     "output_type": "execute_result"
    }
   ],
   "source": [
    "root.tag"
   ]
  },
  {
   "cell_type": "code",
   "execution_count": 109,
   "metadata": {},
   "outputs": [],
   "source": [
    "root.append(etree.Element(\"child1\"))"
   ]
  },
  {
   "cell_type": "code",
   "execution_count": 110,
   "metadata": {},
   "outputs": [
    {
     "data": {
      "text/plain": [
       "<Element root at 0x7f7b68a592c8>"
      ]
     },
     "execution_count": 110,
     "metadata": {},
     "output_type": "execute_result"
    }
   ],
   "source": [
    "root"
   ]
  },
  {
   "cell_type": "code",
   "execution_count": 111,
   "metadata": {},
   "outputs": [],
   "source": [
    "child2 = etree.SubElement(root, \"child2\")\n",
    "child3 = etree.SubElement(root, \"child3\")"
   ]
  },
  {
   "cell_type": "code",
   "execution_count": 112,
   "metadata": {},
   "outputs": [
    {
     "name": "stdout",
     "output_type": "stream",
     "text": [
      "b'<root>\\n  <child1/>\\n  <child2/>\\n  <child3/>\\n</root>\\n'\n"
     ]
    }
   ],
   "source": [
    "print(str(etree.tostring(root, pretty_print=True)))"
   ]
  },
  {
   "cell_type": "code",
   "execution_count": 118,
   "metadata": {},
   "outputs": [
    {
     "data": {
      "text/plain": [
       "b'<root><child1/><child2/><child3/></root>'"
      ]
     },
     "metadata": {},
     "output_type": "display_data"
    }
   ],
   "source": [
    "from IPython.display import Image, display\n",
    "display(etree.tostring(root))"
   ]
  },
  {
   "cell_type": "code",
   "execution_count": 114,
   "metadata": {},
   "outputs": [],
   "source": [
    "import pprint as pp"
   ]
  },
  {
   "cell_type": "code",
   "execution_count": 116,
   "metadata": {},
   "outputs": [
    {
     "name": "stdout",
     "output_type": "stream",
     "text": [
      "b'<root><child1/><child2/><child3/></root>'\n"
     ]
    }
   ],
   "source": [
    "pp.pprint(etree.tostring(root))"
   ]
  },
  {
   "cell_type": "code",
   "execution_count": 15,
   "metadata": {},
   "outputs": [
    {
     "data": {
      "text/plain": [
       "('child1', 'child2')"
      ]
     },
     "execution_count": 15,
     "metadata": {},
     "output_type": "execute_result"
    }
   ],
   "source": [
    "root[0].tag,root[1].tag"
   ]
  },
  {
   "cell_type": "code",
   "execution_count": 17,
   "metadata": {},
   "outputs": [
    {
     "data": {
      "text/plain": [
       "3"
      ]
     },
     "execution_count": 17,
     "metadata": {},
     "output_type": "execute_result"
    }
   ],
   "source": [
    "len(root)"
   ]
  },
  {
   "cell_type": "code",
   "execution_count": 18,
   "metadata": {},
   "outputs": [
    {
     "name": "stdout",
     "output_type": "stream",
     "text": [
      "child1\n",
      "child2\n",
      "child3\n"
     ]
    }
   ],
   "source": [
    ">>> for child in root:\n",
    "...     print(child.tag)"
   ]
  },
  {
   "cell_type": "code",
   "execution_count": 20,
   "metadata": {},
   "outputs": [
    {
     "data": {
      "text/plain": [
       "'root'"
      ]
     },
     "execution_count": 20,
     "metadata": {},
     "output_type": "execute_result"
    }
   ],
   "source": [
    "root[0].getparent().tag"
   ]
  },
  {
   "cell_type": "code",
   "execution_count": 21,
   "metadata": {},
   "outputs": [
    {
     "data": {
      "text/plain": [
       "b'<root interesting=\"totally\"/>'"
      ]
     },
     "execution_count": 21,
     "metadata": {},
     "output_type": "execute_result"
    }
   ],
   "source": [
    ">>> root = etree.Element(\"root\", interesting=\"totally\")\n",
    ">>> etree.tostring(root)"
   ]
  },
  {
   "cell_type": "code",
   "execution_count": 22,
   "metadata": {},
   "outputs": [
    {
     "name": "stdout",
     "output_type": "stream",
     "text": [
      "totally\n"
     ]
    }
   ],
   "source": [
    "print(root.get(\"interesting\"))"
   ]
  },
  {
   "cell_type": "code",
   "execution_count": 24,
   "metadata": {},
   "outputs": [
    {
     "name": "stdout",
     "output_type": "stream",
     "text": [
      "Huhu\n",
      "Huhu\n"
     ]
    }
   ],
   "source": [
    ">>> print(root.get(\"hello\"))\n",
    ">>> root.set(\"hello\", \"Huhu\")\n",
    ">>> print(root.get(\"hello\"))"
   ]
  },
  {
   "cell_type": "code",
   "execution_count": 25,
   "metadata": {},
   "outputs": [
    {
     "data": {
      "text/plain": [
       "b'<root interesting=\"totally\" hello=\"Huhu\"/>'"
      ]
     },
     "execution_count": 25,
     "metadata": {},
     "output_type": "execute_result"
    }
   ],
   "source": [
    "etree.tostring(root)"
   ]
  },
  {
   "cell_type": "code",
   "execution_count": 26,
   "metadata": {},
   "outputs": [
    {
     "name": "stdout",
     "output_type": "stream",
     "text": [
      "hello = 'Huhu'\n",
      "interesting = 'totally'\n"
     ]
    }
   ],
   "source": [
    ">>> for name, value in sorted(root.items()):\n",
    "...     print('%s = %r' % (name, value))"
   ]
  },
  {
   "cell_type": "code",
   "execution_count": 27,
   "metadata": {},
   "outputs": [
    {
     "data": {
      "text/plain": [
       "[('hello', 'Huhu'), ('interesting', 'totally')]"
      ]
     },
     "execution_count": 27,
     "metadata": {},
     "output_type": "execute_result"
    }
   ],
   "source": [
    ">>> d = dict(root.attrib)\n",
    ">>> sorted(d.items())"
   ]
  },
  {
   "cell_type": "code",
   "execution_count": 28,
   "metadata": {},
   "outputs": [
    {
     "name": "stdout",
     "output_type": "stream",
     "text": [
      "TEXT\n"
     ]
    },
    {
     "data": {
      "text/plain": [
       "b'<root>TEXT</root>'"
      ]
     },
     "execution_count": 28,
     "metadata": {},
     "output_type": "execute_result"
    }
   ],
   "source": [
    ">>> root = etree.Element(\"root\")\n",
    ">>> root.text = \"TEXT\"\n",
    "\n",
    ">>> print(root.text)\n",
    "\n",
    ">>> etree.tostring(root)"
   ]
  },
  {
   "cell_type": "code",
   "execution_count": 29,
   "metadata": {},
   "outputs": [
    {
     "name": "stdout",
     "output_type": "stream",
     "text": [
      "b'<root>\\n  <child>Child 1</child>\\n  <child>Child 2</child>\\n  <another>Child 3</another>\\n</root>\\n'\n"
     ]
    }
   ],
   "source": [
    ">>> root = etree.Element(\"root\")\n",
    ">>> etree.SubElement(root, \"child\").text = \"Child 1\"\n",
    ">>> etree.SubElement(root, \"child\").text = \"Child 2\"\n",
    ">>> etree.SubElement(root, \"another\").text = \"Child 3\"\n",
    "\n",
    ">>> print(etree.tostring(root, pretty_print=True))"
   ]
  },
  {
   "cell_type": "code",
   "execution_count": 30,
   "metadata": {},
   "outputs": [
    {
     "name": "stdout",
     "output_type": "stream",
     "text": [
      "root - None\n",
      "child - Child 1\n",
      "child - Child 2\n",
      "another - Child 3\n"
     ]
    }
   ],
   "source": [
    ">>> for element in root.iter():\n",
    "...     print(\"%s - %s\" % (element.tag, element.text))"
   ]
  },
  {
   "cell_type": "code",
   "execution_count": 31,
   "metadata": {},
   "outputs": [
    {
     "name": "stdout",
     "output_type": "stream",
     "text": [
      "child - Child 1\n",
      "child - Child 2\n"
     ]
    }
   ],
   "source": [
    ">>> for element in root.iter(\"child\"):\n",
    "...     print(\"%s - %s\" % (element.tag, element.text))"
   ]
  },
  {
   "cell_type": "code",
   "execution_count": 32,
   "metadata": {},
   "outputs": [
    {
     "name": "stdout",
     "output_type": "stream",
     "text": [
      "child - Child 1\n",
      "child - Child 2\n",
      "another - Child 3\n"
     ]
    }
   ],
   "source": [
    ">>> for element in root.iter(\"another\", \"child\"):\n",
    "...     print(\"%s - %s\" % (element.tag, element.text))"
   ]
  },
  {
   "cell_type": "code",
   "execution_count": 33,
   "metadata": {},
   "outputs": [],
   "source": [
    ">>> root.append(etree.Entity(\"#234\"))\n",
    ">>> root.append(etree.Comment(\"some comment\"))"
   ]
  },
  {
   "cell_type": "code",
   "execution_count": 34,
   "metadata": {},
   "outputs": [
    {
     "data": {
      "text/plain": [
       "b'<root><child>Child 1</child><child>Child 2</child><another>Child 3</another>&#234;<!--some comment--></root>'"
      ]
     },
     "execution_count": 34,
     "metadata": {},
     "output_type": "execute_result"
    }
   ],
   "source": [
    "etree.tostring(root)"
   ]
  },
  {
   "cell_type": "code",
   "execution_count": 36,
   "metadata": {},
   "outputs": [
    {
     "name": "stdout",
     "output_type": "stream",
     "text": [
      "root - None\n",
      "child - Child 1\n",
      "child - Child 2\n",
      "another - Child 3\n",
      "SPECIAL: &#234; - &#234;\n",
      "SPECIAL: <!--some comment--> - some comment\n"
     ]
    }
   ],
   "source": [
    ">>> for element in root.iter():\n",
    "...     if isinstance(element.tag, str):  # or 'str' in Python 3\n",
    "...         print(\"%s - %s\" % (element.tag, element.text))\n",
    "...     else:\n",
    "...         print(\"SPECIAL: %s - %s\" % (element, element.text))"
   ]
  },
  {
   "cell_type": "code",
   "execution_count": 37,
   "metadata": {},
   "outputs": [
    {
     "name": "stdout",
     "output_type": "stream",
     "text": [
      "root - None\n",
      "child - Child 1\n",
      "child - Child 2\n",
      "another - Child 3\n"
     ]
    }
   ],
   "source": [
    ">>> for element in root.iter(tag=etree.Element):\n",
    "...     print(\"%s - %s\" % (element.tag, element.text))"
   ]
  },
  {
   "cell_type": "code",
   "execution_count": 38,
   "metadata": {},
   "outputs": [],
   "source": [
    ">>> root2 = etree.XML('<root><a><b/></a></root>')"
   ]
  },
  {
   "cell_type": "code",
   "execution_count": 39,
   "metadata": {},
   "outputs": [
    {
     "data": {
      "text/plain": [
       "<Element root at 0x7f7b6802e2c8>"
      ]
     },
     "execution_count": 39,
     "metadata": {},
     "output_type": "execute_result"
    }
   ],
   "source": [
    "root2"
   ]
  },
  {
   "cell_type": "code",
   "execution_count": 40,
   "metadata": {},
   "outputs": [
    {
     "data": {
      "text/plain": [
       "b'<root><a><b/></a></root>'"
      ]
     },
     "execution_count": 40,
     "metadata": {},
     "output_type": "execute_result"
    }
   ],
   "source": [
    "etree.tostring(root2)"
   ]
  },
  {
   "cell_type": "code",
   "execution_count": 42,
   "metadata": {},
   "outputs": [
    {
     "name": "stdout",
     "output_type": "stream",
     "text": [
      "b'<root>\\n  <a>\\n    <b/>\\n  </a>\\n</root>\\n'\n"
     ]
    }
   ],
   "source": [
    "print(etree.tostring(root2, pretty_print=True))"
   ]
  },
  {
   "cell_type": "code",
   "execution_count": 43,
   "metadata": {},
   "outputs": [],
   "source": [
    ">>> root = etree.XML(\n",
    "...    '<html><head/><body><p>Hello<br/>World</p></body></html>')"
   ]
  },
  {
   "cell_type": "code",
   "execution_count": 45,
   "metadata": {},
   "outputs": [
    {
     "data": {
      "text/plain": [
       "b'<html>\\n  <head/>\\n  <body>\\n    <p>Hello<br/>World</p>\\n  </body>\\n</html>\\n'"
      ]
     },
     "execution_count": 45,
     "metadata": {},
     "output_type": "execute_result"
    }
   ],
   "source": [
    "etree.tostring(root, pretty_print=True)"
   ]
  },
  {
   "cell_type": "code",
   "execution_count": 46,
   "metadata": {},
   "outputs": [],
   "source": [
    ">>> root3 = etree.XML('''\\\n",
    "... <?xml version=\"1.0\"?>\n",
    "... <!DOCTYPE root SYSTEM \"test\" [ <!ENTITY tasty \"parsnips\"> ]>\n",
    "... <root>\n",
    "...   <a>&tasty;</a>\n",
    "... </root>\n",
    "... ''')"
   ]
  },
  {
   "cell_type": "code",
   "execution_count": 47,
   "metadata": {},
   "outputs": [
    {
     "data": {
      "text/plain": [
       "b'<root>\\n  <a>parsnips</a>\\n</root>'"
      ]
     },
     "execution_count": 47,
     "metadata": {},
     "output_type": "execute_result"
    }
   ],
   "source": [
    "etree.tostring(root3)"
   ]
  },
  {
   "cell_type": "code",
   "execution_count": 48,
   "metadata": {},
   "outputs": [
    {
     "name": "stdout",
     "output_type": "stream",
     "text": [
      "root\n"
     ]
    },
    {
     "data": {
      "text/plain": [
       "b'<root>data</root>'"
      ]
     },
     "execution_count": 48,
     "metadata": {},
     "output_type": "execute_result"
    }
   ],
   "source": [
    ">>> some_xml_data = \"<root>data</root>\"\n",
    "\n",
    ">>> root = etree.fromstring(some_xml_data)\n",
    ">>> print(root.tag)\n",
    "\n",
    ">>> etree.tostring(root)"
   ]
  },
  {
   "cell_type": "code",
   "execution_count": 49,
   "metadata": {},
   "outputs": [
    {
     "name": "stdout",
     "output_type": "stream",
     "text": [
      "root\n"
     ]
    }
   ],
   "source": [
    ">>> root = etree.XML(\"<root>data</root>\")\n",
    ">>> print(root.tag)"
   ]
  },
  {
   "cell_type": "markdown",
   "metadata": {},
   "source": [
    "### Namespaces"
   ]
  },
  {
   "cell_type": "code",
   "execution_count": 50,
   "metadata": {},
   "outputs": [],
   "source": [
    ">>> from lxml.builder import E\n",
    "\n",
    ">>> def CLASS(*args): # class is a reserved word in Python\n",
    "...     return {\"class\":' '.join(args)}\n",
    "\n",
    ">>> html = page = (\n",
    "...   E.html(       # create an Element called \"html\"\n",
    "...     E.head(\n",
    "...       E.title(\"This is a sample document\")\n",
    "...     ),\n",
    "...     E.body(\n",
    "...       E.h1(\"Hello!\", CLASS(\"title\")),\n",
    "...       E.p(\"This is a paragraph with \", E.b(\"bold\"), \" text in it!\"),\n",
    "...       E.p(\"This is another paragraph, with a\", \"\\n      \",\n",
    "...         E.a(\"link\", href=\"http://www.python.org\"), \".\"),\n",
    "...       E.p(\"Here are some reserved characters: <spam&egg>.\"),\n",
    "...       etree.XML(\"<p>And finally an embedded XHTML fragment.</p>\"),\n",
    "...     )\n",
    "...   )\n",
    "... )"
   ]
  },
  {
   "cell_type": "code",
   "execution_count": 51,
   "metadata": {},
   "outputs": [
    {
     "name": "stdout",
     "output_type": "stream",
     "text": [
      "b'<html>\\n  <head>\\n    <title>This is a sample document</title>\\n  </head>\\n  <body>\\n    <h1 class=\"title\">Hello!</h1>\\n    <p>This is a paragraph with <b>bold</b> text in it!</p>\\n    <p>This is another paragraph, with a\\n      <a href=\"http://www.python.org\">link</a>.</p>\\n    <p>Here are some reserved characters: &lt;spam&amp;egg&gt;.</p>\\n    <p>And finally an embedded XHTML fragment.</p>\\n  </body>\\n</html>\\n'\n"
     ]
    }
   ],
   "source": [
    "print(etree.tostring(page, pretty_print=True))"
   ]
  },
  {
   "cell_type": "code",
   "execution_count": 78,
   "metadata": {},
   "outputs": [],
   "source": [
    ">>> from lxml.builder import ElementMaker # lxml only !\n",
    "\n",
    ">>> E = ElementMaker(namespace=\"http://my.de/fault/namespace\",\n",
    "...                  nsmap={'p' : \"http://my.de/fault/namespace\"})\n",
    "\n",
    ">>> DOC = E.doc\n",
    ">>> TITLE = E.title\n",
    ">>> SECTION = E.section\n",
    ">>> PAR = E.par\n",
    "\n",
    ">>> my_doc = DOC(\n",
    "...   TITLE(\"The dog and the hog\"),\n",
    "...   SECTION(\n",
    "...     TITLE(\"The dog\"),\n",
    "...     PAR(\"Once upon a time, ...\"),\n",
    "...     PAR(\"And then ...\")\n",
    "...   ),\n",
    "...   SECTION(\n",
    "...     TITLE(\"The hog\"),\n",
    "...     PAR(\"Sooner or later ...\")\n",
    "...   )\n",
    "... )"
   ]
  },
  {
   "cell_type": "code",
   "execution_count": 79,
   "metadata": {},
   "outputs": [
    {
     "name": "stdout",
     "output_type": "stream",
     "text": [
      "b'<p:doc xmlns:p=\"http://my.de/fault/namespace\">\\n  <p:title>The dog and the hog</p:title>\\n  <p:section>\\n    <p:title>The dog</p:title>\\n    <p:par>Once upon a time, ...</p:par>\\n    <p:par>And then ...</p:par>\\n  </p:section>\\n  <p:section>\\n    <p:title>The hog</p:title>\\n    <p:par>Sooner or later ...</p:par>\\n  </p:section>\\n</p:doc>\\n'\n"
     ]
    }
   ],
   "source": [
    "print(etree.tostring(my_doc, pretty_print=True))"
   ]
  },
  {
   "cell_type": "code",
   "execution_count": 80,
   "metadata": {},
   "outputs": [],
   "source": [
    "root = etree.XML(etree.tostring(my_doc, pretty_print=True))"
   ]
  },
  {
   "cell_type": "code",
   "execution_count": 81,
   "metadata": {},
   "outputs": [
    {
     "data": {
      "text/plain": [
       "b'<p:doc xmlns:p=\"http://my.de/fault/namespace\">\\n  <p:title>The dog and the hog</p:title>\\n  <p:section>\\n    <p:title>The dog</p:title>\\n    <p:par>Once upon a time, ...</p:par>\\n    <p:par>And then ...</p:par>\\n  </p:section>\\n  <p:section>\\n    <p:title>The hog</p:title>\\n    <p:par>Sooner or later ...</p:par>\\n  </p:section>\\n</p:doc>'"
      ]
     },
     "execution_count": 81,
     "metadata": {},
     "output_type": "execute_result"
    }
   ],
   "source": [
    "etree.tostring(root)"
   ]
  },
  {
   "cell_type": "code",
   "execution_count": 82,
   "metadata": {},
   "outputs": [
    {
     "data": {
      "text/plain": [
       "{'p': 'http://my.de/fault/namespace'}"
      ]
     },
     "execution_count": 82,
     "metadata": {},
     "output_type": "execute_result"
    }
   ],
   "source": [
    "root.nsmap"
   ]
  },
  {
   "cell_type": "code",
   "execution_count": 83,
   "metadata": {},
   "outputs": [
    {
     "name": "stdout",
     "output_type": "stream",
     "text": [
      "{http://my.de/fault/namespace}doc\n",
      "{http://my.de/fault/namespace}title\n",
      "{http://my.de/fault/namespace}section\n",
      "{http://my.de/fault/namespace}title\n",
      "{http://my.de/fault/namespace}par\n",
      "{http://my.de/fault/namespace}par\n",
      "{http://my.de/fault/namespace}section\n",
      "{http://my.de/fault/namespace}title\n",
      "{http://my.de/fault/namespace}par\n"
     ]
    }
   ],
   "source": [
    "for el in root.iter('*'):\n",
    "    print(el.tag)"
   ]
  },
  {
   "cell_type": "code",
   "execution_count": 97,
   "metadata": {},
   "outputs": [
    {
     "name": "stdout",
     "output_type": "stream",
     "text": [
      "{http://my.de/fault/namespace}title\n",
      "{http://my.de/fault/namespace}title\n",
      "{http://my.de/fault/namespace}title\n"
     ]
    }
   ],
   "source": [
    "# iter() - iterate thru all matching elements in the doc\n",
    "for el in root.iter('{http://my.de/fault/namespace}title'):\n",
    "    print(el.tag)"
   ]
  },
  {
   "cell_type": "code",
   "execution_count": 96,
   "metadata": {},
   "outputs": [
    {
     "data": {
      "text/plain": [
       "['{http://my.de/fault/namespace}title']"
      ]
     },
     "execution_count": 96,
     "metadata": {},
     "output_type": "execute_result"
    }
   ],
   "source": [
    "# findall() returns a list of matching elements under root\n",
    "[ b.tag for b in root.findall(\"{http://my.de/fault/namespace}title\") ]"
   ]
  },
  {
   "cell_type": "code",
   "execution_count": 98,
   "metadata": {},
   "outputs": [
    {
     "data": {
      "text/plain": [
       "[]"
      ]
     },
     "execution_count": 98,
     "metadata": {},
     "output_type": "execute_result"
    }
   ],
   "source": [
    "[ b.tag for b in root.find(\"{http://my.de/fault/namespace}title\") ]"
   ]
  },
  {
   "cell_type": "code",
   "execution_count": 99,
   "metadata": {},
   "outputs": [
    {
     "data": {
      "text/plain": [
       "['{http://my.de/fault/namespace}title']"
      ]
     },
     "execution_count": 99,
     "metadata": {},
     "output_type": "execute_result"
    }
   ],
   "source": [
    "[ b.tag for b in root.iterfind(\"{http://my.de/fault/namespace}title\") ]"
   ]
  },
  {
   "cell_type": "code",
   "execution_count": 103,
   "metadata": {},
   "outputs": [
    {
     "data": {
      "text/plain": [
       "['{http://my.de/fault/namespace}title',\n",
       " '{http://my.de/fault/namespace}title',\n",
       " '{http://my.de/fault/namespace}title']"
      ]
     },
     "execution_count": 103,
     "metadata": {},
     "output_type": "execute_result"
    }
   ],
   "source": [
    "[ b.tag for b in root.iterfind(\".//{http://my.de/fault/namespace}title\") ]"
   ]
  },
  {
   "cell_type": "code",
   "execution_count": 69,
   "metadata": {},
   "outputs": [],
   "source": [
    "root = etree.XML(\"<root><a x='123'>aText<b/><c/><b/></a></root>\")"
   ]
  },
  {
   "cell_type": "code",
   "execution_count": 72,
   "metadata": {},
   "outputs": [
    {
     "name": "stdout",
     "output_type": "stream",
     "text": [
      "a\n"
     ]
    }
   ],
   "source": [
    "print(root.find(\"a\").tag)"
   ]
  },
  {
   "cell_type": "code",
   "execution_count": 73,
   "metadata": {},
   "outputs": [
    {
     "data": {
      "text/plain": [
       "['b', 'b']"
      ]
     },
     "execution_count": 73,
     "metadata": {},
     "output_type": "execute_result"
    }
   ],
   "source": [
    ">>> [ b.tag for b in root.iterfind(\".//b\") ]"
   ]
  },
  {
   "cell_type": "markdown",
   "metadata": {},
   "source": [
    "## parse XML using Beautifulsoup"
   ]
  },
  {
   "cell_type": "markdown",
   "metadata": {},
   "source": [
    "https://linuxhint.com/parse_xml_python_beautifulsoup/"
   ]
  },
  {
   "cell_type": "code",
   "execution_count": 1,
   "metadata": {},
   "outputs": [],
   "source": [
    "# import bs4, lxml\n",
    "from bs4 import BeautifulSoup as bs"
   ]
  },
  {
   "cell_type": "code",
   "execution_count": 2,
   "metadata": {},
   "outputs": [],
   "source": [
    "xml_doc = \"\"\"\n",
    "<?xml version=\"1.0\" encoding=\"UTF-8\"?>\n",
    "<root testAttr=\"testValue\">\n",
    "The Tree\n",
    "<children>\n",
    "<child name=\"Jack\">First</child>\n",
    "<child name=\"Rose\">Second</child>\n",
    "<child name=\"Blue Ivy\">\n",
    "Third\n",
    "<grandchildren>\n",
    "<data>One</data>\n",
    "<data>Two</data>\n",
    "<unique>Twins</unique>\n",
    "</grandchildren>\n",
    "</child>\n",
    "<child name=\"Jane\">Fourth</child>\n",
    "</children>\n",
    "</root>\n",
    "\"\"\""
   ]
  },
  {
   "cell_type": "code",
   "execution_count": 3,
   "metadata": {},
   "outputs": [],
   "source": [
    "file_xml = \"sample.xml\"\n",
    "with open(file_xml, \"w\") as f:\n",
    "    f.write(xml_doc)"
   ]
  },
  {
   "cell_type": "code",
   "execution_count": 4,
   "metadata": {},
   "outputs": [
    {
     "name": "stdout",
     "output_type": "stream",
     "text": [
      "-rw-r--r-- 1 gong gong 338 Feb 15 11:40 sample.xml\r\n"
     ]
    }
   ],
   "source": [
    "!ls -l {file_xml}"
   ]
  },
  {
   "cell_type": "code",
   "execution_count": 5,
   "metadata": {},
   "outputs": [],
   "source": [
    "\n",
    "\n",
    "# Read the XML file\n",
    "with open(file_xml) as f:\n",
    "    bs_content = bs(f.read(), \"lxml\")"
   ]
  },
  {
   "cell_type": "code",
   "execution_count": 6,
   "metadata": {},
   "outputs": [
    {
     "data": {
      "text/plain": [
       "bs4.BeautifulSoup"
      ]
     },
     "execution_count": 6,
     "metadata": {},
     "output_type": "execute_result"
    }
   ],
   "source": [
    "type(bs_content)"
   ]
  },
  {
   "cell_type": "code",
   "execution_count": 14,
   "metadata": {},
   "outputs": [
    {
     "name": "stdout",
     "output_type": "stream",
     "text": [
      "<?xml version=\"1.0\" encoding=\"UTF-8\"?>\n",
      "<html>\n",
      " <body>\n",
      "  <root testattr=\"testValue\">\n",
      "   The Tree\n",
      "   <children>\n",
      "    <child name=\"Jack\">\n",
      "     First\n",
      "    </child>\n",
      "    <child name=\"Rose\">\n",
      "     Second\n",
      "    </child>\n",
      "    <child name=\"Blue Ivy\">\n",
      "     Third\n",
      "     <grandchildren>\n",
      "      <data>\n",
      "       One\n",
      "      </data>\n",
      "      <data>\n",
      "       Two\n",
      "      </data>\n",
      "      <unique>\n",
      "       Twins\n",
      "      </unique>\n",
      "     </grandchildren>\n",
      "    </child>\n",
      "    <child name=\"Jane\">\n",
      "     Fourth\n",
      "    </child>\n",
      "   </children>\n",
      "  </root>\n",
      " </body>\n",
      "</html>\n"
     ]
    }
   ],
   "source": [
    "print(bs_content.prettify())"
   ]
  },
  {
   "cell_type": "code",
   "execution_count": 7,
   "metadata": {},
   "outputs": [
    {
     "name": "stdout",
     "output_type": "stream",
     "text": [
      "<data>One</data>\n"
     ]
    }
   ],
   "source": [
    "# 1st matching element\n",
    "e = bs_content.find(\"data\")\n",
    "print(e)"
   ]
  },
  {
   "cell_type": "code",
   "execution_count": 8,
   "metadata": {},
   "outputs": [
    {
     "name": "stdout",
     "output_type": "stream",
     "text": [
      "<data>\n",
      " One\n",
      "</data>\n",
      "\n"
     ]
    }
   ],
   "source": [
    "print(e.prettify())"
   ]
  },
  {
   "cell_type": "code",
   "execution_count": 12,
   "metadata": {},
   "outputs": [
    {
     "name": "stdout",
     "output_type": "stream",
     "text": [
      "<data>\n",
      " One\n",
      "</data>\n",
      "\n",
      "<data>\n",
      " Two\n",
      "</data>\n",
      "\n"
     ]
    }
   ],
   "source": [
    "# all matching elements\n",
    "for e in bs_content.find_all(\"data\"):\n",
    "    print(e.prettify())"
   ]
  },
  {
   "cell_type": "code",
   "execution_count": 13,
   "metadata": {},
   "outputs": [
    {
     "name": "stdout",
     "output_type": "stream",
     "text": [
      "<child name=\"Jack\">\n",
      " First\n",
      "</child>\n",
      "\n",
      "<child name=\"Rose\">\n",
      " Second\n",
      "</child>\n",
      "\n",
      "<child name=\"Blue Ivy\">\n",
      " Third\n",
      " <grandchildren>\n",
      "  <data>\n",
      "   One\n",
      "  </data>\n",
      "  <data>\n",
      "   Two\n",
      "  </data>\n",
      "  <unique>\n",
      "   Twins\n",
      "  </unique>\n",
      " </grandchildren>\n",
      "</child>\n",
      "\n",
      "<child name=\"Jane\">\n",
      " Fourth\n",
      "</child>\n",
      "\n"
     ]
    }
   ],
   "source": [
    "for e in bs_content.find_all(\"child\"):\n",
    "    print(e.prettify())"
   ]
  },
  {
   "cell_type": "code",
   "execution_count": 15,
   "metadata": {},
   "outputs": [
    {
     "name": "stdout",
     "output_type": "stream",
     "text": [
      "<child name=\"Jane\">\n",
      " Fourth\n",
      "</child>\n",
      "\n"
     ]
    }
   ],
   "source": [
    "for e in bs_content.find_all(\"child\", {\"name\": \"Jane\"}):\n",
    "    print(e.prettify())"
   ]
  },
  {
   "cell_type": "code",
   "execution_count": 18,
   "metadata": {},
   "outputs": [
    {
     "name": "stdout",
     "output_type": "stream",
     "text": [
      "<child name=\"Blue Ivy\">\n",
      " Third\n",
      " <grandchildren>\n",
      "  <data>\n",
      "   One\n",
      "  </data>\n",
      "  <data>\n",
      "   Two\n",
      "  </data>\n",
      "  <unique>\n",
      "   Twins\n",
      "  </unique>\n",
      " </grandchildren>\n",
      "</child>\n",
      "\n"
     ]
    }
   ],
   "source": [
    "# parent\n",
    "third_child = bs_content.find(\"child\", {\"name\": \"Blue Ivy\"})\n",
    "print(third_child.prettify())"
   ]
  },
  {
   "cell_type": "code",
   "execution_count": 19,
   "metadata": {},
   "outputs": [
    {
     "name": "stdout",
     "output_type": "stream",
     "text": [
      "<children>\n",
      " <child name=\"Jack\">\n",
      "  First\n",
      " </child>\n",
      " <child name=\"Rose\">\n",
      "  Second\n",
      " </child>\n",
      " <child name=\"Blue Ivy\">\n",
      "  Third\n",
      "  <grandchildren>\n",
      "   <data>\n",
      "    One\n",
      "   </data>\n",
      "   <data>\n",
      "    Two\n",
      "   </data>\n",
      "   <unique>\n",
      "    Twins\n",
      "   </unique>\n",
      "  </grandchildren>\n",
      " </child>\n",
      " <child name=\"Jane\">\n",
      "  Fourth\n",
      " </child>\n",
      "</children>\n",
      "\n"
     ]
    }
   ],
   "source": [
    "print(third_child.parent.prettify())"
   ]
  },
  {
   "cell_type": "code",
   "execution_count": 20,
   "metadata": {},
   "outputs": [
    {
     "name": "stdout",
     "output_type": "stream",
     "text": [
      "['\\nThird\\n', <grandchildren>\n",
      "<data>One</data>\n",
      "<data>Two</data>\n",
      "<unique>Twins</unique>\n",
      "</grandchildren>, '\\n']\n"
     ]
    }
   ],
   "source": [
    "# children\n",
    "print(list(third_child.children))"
   ]
  },
  {
   "cell_type": "code",
   "execution_count": 21,
   "metadata": {},
   "outputs": [
    {
     "name": "stdout",
     "output_type": "stream",
     "text": [
      "['\\n', <child name=\"Rose\">Second</child>, '\\n', <child name=\"Jack\">First</child>, '\\n']\n"
     ]
    }
   ],
   "source": [
    "# siblings\n",
    "print(list(third_child.previous_siblings))"
   ]
  },
  {
   "cell_type": "code",
   "execution_count": 22,
   "metadata": {},
   "outputs": [
    {
     "name": "stdout",
     "output_type": "stream",
     "text": [
      "['\\n', <child name=\"Jane\">Fourth</child>, '\\n']\n"
     ]
    }
   ],
   "source": [
    "print(list(third_child.next_siblings))"
   ]
  },
  {
   "cell_type": "markdown",
   "metadata": {},
   "source": [
    "```Tag Attribute Values\n",
    "Tag Text\n",
    "Tag Content```"
   ]
  },
  {
   "cell_type": "code",
   "execution_count": 23,
   "metadata": {},
   "outputs": [
    {
     "name": "stdout",
     "output_type": "stream",
     "text": [
      "Blue Ivy , None\n"
     ]
    }
   ],
   "source": [
    "print(third_child.get(\"name\"), \",\", third_child.get(\"age\"))"
   ]
  },
  {
   "cell_type": "code",
   "execution_count": 24,
   "metadata": {},
   "outputs": [
    {
     "name": "stdout",
     "output_type": "stream",
     "text": [
      "\n",
      "Third\n",
      "\n",
      "One\n",
      "Two\n",
      "Twins\n",
      "\n",
      "\n"
     ]
    }
   ],
   "source": [
    "print(third_child.text)"
   ]
  },
  {
   "cell_type": "code",
   "execution_count": 25,
   "metadata": {},
   "outputs": [
    {
     "name": "stdout",
     "output_type": "stream",
     "text": [
      "['\\nThird\\n', '\\n', 'One', '\\n', 'Two', '\\n', 'Twins', '\\n', '\\n']\n"
     ]
    }
   ],
   "source": [
    "print(list(third_child.strings))"
   ]
  },
  {
   "cell_type": "code",
   "execution_count": 26,
   "metadata": {},
   "outputs": [
    {
     "data": {
      "text/plain": [
       "['\\nThird\\n', <grandchildren>\n",
       " <data>One</data>\n",
       " <data>Two</data>\n",
       " <unique>Twins</unique>\n",
       " </grandchildren>, '\\n']"
      ]
     },
     "execution_count": 26,
     "metadata": {},
     "output_type": "execute_result"
    }
   ],
   "source": [
    "third_child.contents"
   ]
  },
  {
   "cell_type": "markdown",
   "metadata": {},
   "source": []
  },
  {
   "cell_type": "code",
   "execution_count": 155,
   "metadata": {},
   "outputs": [],
   "source": []
  },
  {
   "cell_type": "code",
   "execution_count": null,
   "metadata": {},
   "outputs": [],
   "source": []
  }
 ],
 "metadata": {
  "kernelspec": {
   "display_name": "Python 3",
   "language": "python",
   "name": "python3"
  },
  "language_info": {
   "codemirror_mode": {
    "name": "ipython",
    "version": 3
   },
   "file_extension": ".py",
   "mimetype": "text/x-python",
   "name": "python",
   "nbconvert_exporter": "python",
   "pygments_lexer": "ipython3",
   "version": "3.7.3"
  }
 },
 "nbformat": 4,
 "nbformat_minor": 2
}
