{
 "cells": [
  {
   "cell_type": "code",
   "execution_count": 1,
   "metadata": {},
   "outputs": [],
   "source": [
    "import yaml"
   ]
  },
  {
   "cell_type": "code",
   "execution_count": 2,
   "metadata": {},
   "outputs": [],
   "source": [
    "config_file = \"config-etl.yml\""
   ]
  },
  {
   "cell_type": "code",
   "execution_count": 3,
   "metadata": {},
   "outputs": [
    {
     "name": "stderr",
     "output_type": "stream",
     "text": [
      "<ipython-input-3-a79de4eb3a8e>:2: YAMLLoadWarning: calling yaml.load() without Loader=... is deprecated, as the default Loader is unsafe. Please read https://msg.pyyaml.org/load for full details.\n",
      "  config = yaml.load(stream)\n"
     ]
    }
   ],
   "source": [
    "with open(config_file, 'r') as stream:\n",
    "\tconfig = yaml.load(stream)"
   ]
  },
  {
   "cell_type": "code",
   "execution_count": 4,
   "metadata": {},
   "outputs": [
    {
     "data": {
      "text/plain": [
       "dict"
      ]
     },
     "execution_count": 4,
     "metadata": {},
     "output_type": "execute_result"
    }
   ],
   "source": [
    "type(config)"
   ]
  },
  {
   "cell_type": "code",
   "execution_count": 5,
   "metadata": {},
   "outputs": [
    {
     "data": {
      "text/plain": [
       "{'name': 'multi_stage_sql_test',\n",
       " 'jobs': [{'name': 'get_data',\n",
       "   'sources': [{'table': 'tickit.users',\n",
       "     'view': 'vw_users',\n",
       "     'columns': ['userid', 'username', 'firstname', 'lastname', 'city'],\n",
       "     'filters': [\"city = 'San Diego'\"]},\n",
       "    {'table': 'tickit.date',\n",
       "     'view': 'vw_dates',\n",
       "     'columns': ['dateid', 'year'],\n",
       "     'filters': ['year = 2008']},\n",
       "    {'table': 'tickit.sales', 'view': 'vw_sales'}],\n",
       "   'transforms': [{'sql': 'CREATE TEMPORARY VIEW vw_sales_dates AS SELECT s.sellerid, s.qtysold FROM vw_sales s INNER JOIN vw_dates d ON s.dateid = d.dateid'},\n",
       "    {'sql': \"CREATE TEMPORARY VIEW vw_sales_users AS SELECT s.sellerid, u.username, (u.firstname ||' '|| u.lastname) AS name, u.city, s.qtysold FROM vw_sales_dates s INNER JOIN vw_users u ON s.sellerid = u.userid\"},\n",
       "    {'sql': 'CREATE TEMPORARY VIEW vw_final AS SELECT sellerid, username, name, city, SUM(qtysold) as total_sales FROM vw_sales_users GROUP BY sellerid, username, name, city'}],\n",
       "   'targets': {'final_object': 'vw_final',\n",
       "    'target_location': 's3://<yourbucket>/sales_by_users'}},\n",
       "  {'name': 'remove_dups',\n",
       "   'sources': [{'object': 's3://<yourbucket>/sales_by_users',\n",
       "     'view': 'vw_sales'}],\n",
       "   'transforms': [{'sql': 'CREATE OR REPLACE TEMPORARY VIEW vw_final AS SELECT DISTINCT * FROM vw_sales'}],\n",
       "   'targets': {'final_object': 'vw_final',\n",
       "    'target_location': 's3://<yourbucket>/sales_by_users_deduped'}}]}"
      ]
     },
     "execution_count": 5,
     "metadata": {},
     "output_type": "execute_result"
    }
   ],
   "source": [
    "config"
   ]
  },
  {
   "cell_type": "code",
   "execution_count": 6,
   "metadata": {},
   "outputs": [
    {
     "data": {
      "text/plain": [
       "dict_keys(['name', 'jobs'])"
      ]
     },
     "execution_count": 6,
     "metadata": {},
     "output_type": "execute_result"
    }
   ],
   "source": [
    "config.keys()"
   ]
  },
  {
   "cell_type": "code",
   "execution_count": 8,
   "metadata": {},
   "outputs": [
    {
     "data": {
      "text/plain": [
       "('multi_stage_sql_test', 2)"
      ]
     },
     "execution_count": 8,
     "metadata": {},
     "output_type": "execute_result"
    }
   ],
   "source": [
    "config[\"name\"], len(config[\"jobs\"])"
   ]
  },
  {
   "cell_type": "code",
   "execution_count": null,
   "metadata": {},
   "outputs": [],
   "source": []
  }
 ],
 "metadata": {
  "kernelspec": {
   "display_name": "Python 3",
   "language": "python",
   "name": "python3"
  },
  "language_info": {
   "codemirror_mode": {
    "name": "ipython",
    "version": 3
   },
   "file_extension": ".py",
   "mimetype": "text/x-python",
   "name": "python",
   "nbconvert_exporter": "python",
   "pygments_lexer": "ipython3",
   "version": "3.8.5"
  }
 },
 "nbformat": 4,
 "nbformat_minor": 4
}
