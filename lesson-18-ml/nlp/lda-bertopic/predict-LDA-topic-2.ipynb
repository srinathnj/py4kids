{
 "cells": [
  {
   "cell_type": "markdown",
   "metadata": {},
   "source": [
    "Gensim LDA predict topic\n",
    "\n",
    "https://pythonhosted.org/lda/getting_started.html"
   ]
  },
  {
   "cell_type": "markdown",
   "metadata": {},
   "source": [
    "Beginners Guide to Topic Modeling in Python\n",
    "- https://www.analyticsvidhya.com/blog/2016/08/beginners-guide-to-topic-modeling-in-python/"
   ]
  },
  {
   "cell_type": "markdown",
   "metadata": {},
   "source": [
    "How to use gensim topic modeling to predict new document?\n",
    "- https://stackoverflow.com/questions/59419123/how-to-use-gensim-topic-modeling-to-predict-new-document\n",
    "\n",
    "How to predict the topic of a new query using a trained LDA model using gensim?\n",
    "- https://stackoverflow.com/questions/16262016/how-to-predict-the-topic-of-a-new-query-using-a-trained-lda-model-using-gensim/29218397"
   ]
  },
  {
   "cell_type": "code",
   "execution_count": 1,
   "metadata": {},
   "outputs": [],
   "source": [
    "# Importing Gensim\n",
    "import gensim\n",
    "from gensim import corpora\n",
    "\n",
    "import pandas as pd"
   ]
  },
  {
   "cell_type": "code",
   "execution_count": 3,
   "metadata": {},
   "outputs": [],
   "source": [
    "train=pd.DataFrame({'text':['find the most representative document for each topic',\n",
    "                        'topic distribution across documents',\n",
    "                        'to help with understanding the topic',\n",
    "                        'one of the practical application of topic modeling is to determine']})\n",
    "text=pd.DataFrame({'text':['how to find the optimal number of topics for topic modeling']})"
   ]
  },
  {
   "cell_type": "code",
   "execution_count": 4,
   "metadata": {},
   "outputs": [],
   "source": [
    "def sent_to_words(sentences):\n",
    "    for sentence in sentences:\n",
    "        yield(gensim.utils.simple_preprocess(str(sentence), deacc=True))"
   ]
  },
  {
   "cell_type": "code",
   "execution_count": 5,
   "metadata": {},
   "outputs": [],
   "source": [
    "#using your train data to train the model with 4 topics\n",
    "\n",
    "data_words = list(sent_to_words(train['text']))\n",
    "id2word = corpora.Dictionary(data_words)\n",
    "corpus = [id2word.doc2bow(text) for text in data_words]\n",
    "\n",
    "lda_model = gensim.models.ldamodel.LdaModel(corpus=corpus,\n",
    "                                        id2word=id2word,\n",
    "                                        num_topics=4)"
   ]
  },
  {
   "cell_type": "code",
   "execution_count": 6,
   "metadata": {},
   "outputs": [
    {
     "name": "stdout",
     "output_type": "stream",
     "text": [
      "[(0, '0.093*\"topic\" + 0.092*\"the\" + 0.092*\"document\"'), (1, '0.145*\"topic\" + 0.081*\"the\" + 0.081*\"with\"'), (2, '0.047*\"topic\" + 0.046*\"the\" + 0.046*\"documents\"'), (3, '0.136*\"of\" + 0.076*\"topic\" + 0.076*\"to\"')]\n"
     ]
    }
   ],
   "source": [
    "print(lda_model.print_topics(num_topics=4, num_words=3))"
   ]
  },
  {
   "cell_type": "code",
   "execution_count": null,
   "metadata": {},
   "outputs": [],
   "source": []
  },
  {
   "cell_type": "code",
   "execution_count": 7,
   "metadata": {},
   "outputs": [
    {
     "data": {
      "text/plain": [
       "[(0, 0.3957174), (1, 0.033027895), (2, 0.031424023), (3, 0.5398307)]"
      ]
     },
     "execution_count": 7,
     "metadata": {},
     "output_type": "execute_result"
    }
   ],
   "source": [
    "#  predicting new text which is in text dataframe  \n",
    "new_text_corpus =  id2word.doc2bow(text['text'][0].split())\n",
    "lda_model[new_text_corpus]"
   ]
  },
  {
   "cell_type": "code",
   "execution_count": null,
   "metadata": {},
   "outputs": [],
   "source": []
  }
 ],
 "metadata": {
  "kernelspec": {
   "display_name": "Python 3",
   "language": "python",
   "name": "python3"
  },
  "language_info": {
   "codemirror_mode": {
    "name": "ipython",
    "version": 3
   },
   "file_extension": ".py",
   "mimetype": "text/x-python",
   "name": "python",
   "nbconvert_exporter": "python",
   "pygments_lexer": "ipython3",
   "version": "3.8.10"
  }
 },
 "nbformat": 4,
 "nbformat_minor": 4
}
