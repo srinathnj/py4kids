{
 "cells": [
  {
   "cell_type": "code",
   "execution_count": 1,
   "metadata": {},
   "outputs": [
    {
     "data": {
      "application/vnd.jupyter.widget-view+json": {
       "model_id": "8d67910249384290afe62ee7694bcfc1",
       "version_major": 2,
       "version_minor": 0
      },
      "text/plain": [
       "Batches:   0%|          | 0/589 [00:00<?, ?it/s]"
      ]
     },
     "metadata": {},
     "output_type": "display_data"
    }
   ],
   "source": [
    "from bertopic import BERTopic\n",
    "from sklearn.datasets import fetch_20newsgroups\n",
    "from sentence_transformers import SentenceTransformer\n",
    "\n",
    "# Create embeddings\n",
    "docs = fetch_20newsgroups(subset='all',  remove=('headers', 'footers', 'quotes'))['data']\n",
    "sentence_model = SentenceTransformer(\"paraphrase-MiniLM-L6-v2\")\n",
    "embeddings = sentence_model.encode(docs, show_progress_bar=True)"
   ]
  },
  {
   "cell_type": "code",
   "execution_count": 2,
   "metadata": {},
   "outputs": [
    {
     "name": "stdout",
     "output_type": "stream",
     "text": [
      "CPU times: user 55.1 s, sys: 819 ms, total: 55.9 s\n",
      "Wall time: 45.7 s\n"
     ]
    }
   ],
   "source": [
    "%%time\n",
    "# Create topic model\n",
    "topic_model = BERTopic(calculate_probabilities=True).fit(docs, embeddings)"
   ]
  },
  {
   "cell_type": "code",
   "execution_count": 3,
   "metadata": {},
   "outputs": [
    {
     "name": "stdout",
     "output_type": "stream",
     "text": [
      "CPU times: user 27.9 s, sys: 11.1 ms, total: 28 s\n",
      "Wall time: 27.9 s\n"
     ]
    }
   ],
   "source": [
    "%%time\n",
    "topics, probs = topic_model.transform(docs, embeddings)"
   ]
  },
  {
   "cell_type": "code",
   "execution_count": 4,
   "metadata": {},
   "outputs": [],
   "source": [
    "def format_topic(t, num_words=10):\n",
    "    \"format get_topic() return into a string\"\n",
    "    m = \"\"\n",
    "    for i in t[:num_words]:\n",
    "        m += f\" \\t{i[0]:<20} *{i[1]:.4f} \\n\"\n",
    "    return m"
   ]
  },
  {
   "cell_type": "code",
   "execution_count": 5,
   "metadata": {},
   "outputs": [
    {
     "data": {
      "text/html": [
       "<div>\n",
       "<style scoped>\n",
       "    .dataframe tbody tr th:only-of-type {\n",
       "        vertical-align: middle;\n",
       "    }\n",
       "\n",
       "    .dataframe tbody tr th {\n",
       "        vertical-align: top;\n",
       "    }\n",
       "\n",
       "    .dataframe thead th {\n",
       "        text-align: right;\n",
       "    }\n",
       "</style>\n",
       "<table border=\"1\" class=\"dataframe\">\n",
       "  <thead>\n",
       "    <tr style=\"text-align: right;\">\n",
       "      <th></th>\n",
       "      <th>Topic</th>\n",
       "      <th>Count</th>\n",
       "      <th>Name</th>\n",
       "    </tr>\n",
       "  </thead>\n",
       "  <tbody>\n",
       "    <tr>\n",
       "      <th>0</th>\n",
       "      <td>-1</td>\n",
       "      <td>7108</td>\n",
       "      <td>-1_file_use_does_may</td>\n",
       "    </tr>\n",
       "    <tr>\n",
       "      <th>1</th>\n",
       "      <td>0</td>\n",
       "      <td>1783</td>\n",
       "      <td>0_game_team_games_players</td>\n",
       "    </tr>\n",
       "    <tr>\n",
       "      <th>2</th>\n",
       "      <td>1</td>\n",
       "      <td>746</td>\n",
       "      <td>1_space_launch_shuttle_nasa</td>\n",
       "    </tr>\n",
       "    <tr>\n",
       "      <th>3</th>\n",
       "      <td>2</td>\n",
       "      <td>520</td>\n",
       "      <td>2_critus_art_problems_each</td>\n",
       "    </tr>\n",
       "    <tr>\n",
       "      <th>4</th>\n",
       "      <td>3</td>\n",
       "      <td>293</td>\n",
       "      <td>3_car_cars_engine_ford</td>\n",
       "    </tr>\n",
       "    <tr>\n",
       "      <th>...</th>\n",
       "      <td>...</td>\n",
       "      <td>...</td>\n",
       "      <td>...</td>\n",
       "    </tr>\n",
       "    <tr>\n",
       "      <th>203</th>\n",
       "      <td>202</td>\n",
       "      <td>10</td>\n",
       "      <td>202_essence_godhead_son_holy</td>\n",
       "    </tr>\n",
       "    <tr>\n",
       "      <th>204</th>\n",
       "      <td>203</td>\n",
       "      <td>10</td>\n",
       "      <td>203_memory_pixmaps_offscreen_shared</td>\n",
       "    </tr>\n",
       "    <tr>\n",
       "      <th>205</th>\n",
       "      <td>204</td>\n",
       "      <td>10</td>\n",
       "      <td>204_kirlian_photography_krillean_object</td>\n",
       "    </tr>\n",
       "    <tr>\n",
       "      <th>206</th>\n",
       "      <td>205</td>\n",
       "      <td>10</td>\n",
       "      <td>205_life_god_kendigianism_believe</td>\n",
       "    </tr>\n",
       "    <tr>\n",
       "      <th>207</th>\n",
       "      <td>206</td>\n",
       "      <td>10</td>\n",
       "      <td>206_floptical_floppies_floppy_drives</td>\n",
       "    </tr>\n",
       "  </tbody>\n",
       "</table>\n",
       "<p>208 rows × 3 columns</p>\n",
       "</div>"
      ],
      "text/plain": [
       "     Topic  Count                                     Name\n",
       "0       -1   7108                     -1_file_use_does_may\n",
       "1        0   1783                0_game_team_games_players\n",
       "2        1    746              1_space_launch_shuttle_nasa\n",
       "3        2    520               2_critus_art_problems_each\n",
       "4        3    293                   3_car_cars_engine_ford\n",
       "..     ...    ...                                      ...\n",
       "203    202     10             202_essence_godhead_son_holy\n",
       "204    203     10      203_memory_pixmaps_offscreen_shared\n",
       "205    204     10  204_kirlian_photography_krillean_object\n",
       "206    205     10        205_life_god_kendigianism_believe\n",
       "207    206     10     206_floptical_floppies_floppy_drives\n",
       "\n",
       "[208 rows x 3 columns]"
      ]
     },
     "execution_count": 5,
     "metadata": {},
     "output_type": "execute_result"
    }
   ],
   "source": [
    "topic_model.get_topic_info()"
   ]
  },
  {
   "cell_type": "code",
   "execution_count": 6,
   "metadata": {},
   "outputs": [
    {
     "name": "stdout",
     "output_type": "stream",
     "text": [
      "Topic-0:\n",
      "  \tgame                 *0.0102 \n",
      " \tteam                 *0.0090 \n",
      " \tgames                *0.0069 \n",
      " \tplayers              *0.0064 \n",
      " \thockey               *0.0061 \n",
      " \tseason               *0.0058 \n",
      " \tplay                 *0.0058 \n",
      " \t25                   *0.0056 \n",
      " \tyear                 *0.0054 \n",
      " \tleague               *0.0050 \n",
      "\n",
      "Topic-1:\n",
      "  \tspace                *0.0152 \n",
      " \tlaunch               *0.0090 \n",
      " \tshuttle              *0.0074 \n",
      " \tnasa                 *0.0070 \n",
      " \torbit                *0.0069 \n",
      " \tmission              *0.0065 \n",
      " \tsatellite            *0.0059 \n",
      " \tlunar                *0.0057 \n",
      " \tmoon                 *0.0055 \n",
      " \tsolar                *0.0049 \n",
      "\n",
      "Topic-2:\n",
      "  \tcritus               *1.3769 \n",
      " \tart                  *0.5524 \n",
      " \tproblems             *0.3696 \n",
      " \teach                 *0.3054 \n",
      " \tvery                 *0.1989 \n",
      " \tgood                 *0.1964 \n",
      " \tno                   *0.0934 \n",
      " \tergonomicallycorrect *0.0000 \n",
      " \tergonomically        *0.0000 \n",
      " \tergonomic            *0.0000 \n",
      "\n",
      "Topic-3:\n",
      "  \tcar                  *0.0247 \n",
      " \tcars                 *0.0128 \n",
      " \tengine               *0.0128 \n",
      " \tford                 *0.0127 \n",
      " \tmustang              *0.0086 \n",
      " \tmiles                *0.0086 \n",
      " \ttoyota               *0.0086 \n",
      " \tv8                   *0.0069 \n",
      " \tsho                  *0.0065 \n",
      " \tv6                   *0.0053 \n",
      "\n",
      "Topic-4:\n",
      "  \tisrael               *0.0262 \n",
      " \tisraeli              *0.0215 \n",
      " \tarab                 *0.0135 \n",
      " \tarabs                *0.0105 \n",
      " \tpalestinian          *0.0101 \n",
      " \tjews                 *0.0099 \n",
      " \tgaza                 *0.0080 \n",
      " \tlebanese             *0.0077 \n",
      " \tpalestinians         *0.0076 \n",
      " \tlebanon              *0.0075 \n",
      "\n"
     ]
    }
   ],
   "source": [
    "for i in range(5):\n",
    "    t = format_topic(topic_model.get_topic(i))\n",
    "    print(f\"Topic-{i}:\\n {t}\")"
   ]
  },
  {
   "cell_type": "code",
   "execution_count": 7,
   "metadata": {},
   "outputs": [
    {
     "name": "stderr",
     "output_type": "stream",
     "text": [
      "/home/wengong/.local/lib/python3.8/site-packages/scipy/sparse/_index.py:125: SparseEfficiencyWarning: Changing the sparsity structure of a csr_matrix is expensive. lil_matrix is more efficient.\n",
      "  self._set_arrayXarray(i, j, x)\n"
     ]
    },
    {
     "name": "stdout",
     "output_type": "stream",
     "text": [
      "         Is it realistic for the government to try to keep the details\n",
      "of the encrytion algorithm secret if it intends to use evidence from\n",
      "wiretaps in court?  Won't defense attorneys attempt to obtain the\n",
      "details of the method if the prosecution attempts to present evidence\n",
      "from wiretaps in court?  Is it certain that such attempts will fail?\n",
      "                          James B. Shearer\n",
      "\n",
      "[41]\n"
     ]
    },
    {
     "data": {
      "text/plain": [
       "[('clipper', 0.015035910028752961),\n",
       " ('phone', 0.014697869373130461),\n",
       " ('court', 0.01413495586555134),\n",
       " ('warrant', 0.01335045476155279),\n",
       " ('tap', 0.013349254322070117),\n",
       " ('keys', 0.013295228586139273),\n",
       " ('wiretap', 0.011610314789961268),\n",
       " ('escrow', 0.010037754631361308),\n",
       " ('key', 0.009977286413985636),\n",
       " ('law', 0.00995886642603661),\n",
       " ('phones', 0.008894786024778457),\n",
       " ('police', 0.008519452929256516),\n",
       " ('fbi', 0.008464918635980602),\n",
       " ('order', 0.008395375049655545),\n",
       " ('enforcement', 0.008056636905430348),\n",
       " ('wiretaps', 0.007305818538178417),\n",
       " ('legal', 0.007211177164608828),\n",
       " ('record', 0.006660303472348839),\n",
       " ('conversation', 0.006038511650764977),\n",
       " ('number', 0.005954999665890386),\n",
       " ('conversations', 0.005818151100132647),\n",
       " ('line', 0.005814478195772962),\n",
       " ('calls', 0.005793149528824517),\n",
       " ('government', 0.005790729227912907),\n",
       " ('without', 0.005289143228903475),\n",
       " ('pen', 0.005149974988852202),\n",
       " ('tapped', 0.005022127133206295),\n",
       " ('records', 0.005016456521953595),\n",
       " ('crooks', 0.004943708886571019),\n",
       " ('serial', 0.0049086003457279375)]"
      ]
     },
     "execution_count": 7,
     "metadata": {},
     "output_type": "execute_result"
    }
   ],
   "source": [
    "idoc = 1005\n",
    "\n",
    "embeddings = sentence_model.encode([docs[idoc]], show_progress_bar=False)\n",
    "topics_, probs_ = topic_model.transform([docs[idoc]], embeddings)\n",
    "\n",
    "print(docs[idoc])\n",
    "print(topics_)\n",
    "\n",
    "topic_model.get_topic(topics_[0])"
   ]
  },
  {
   "cell_type": "code",
   "execution_count": 12,
   "metadata": {},
   "outputs": [
    {
     "data": {
      "text/plain": [
       "{'calculate_probabilities': True,\n",
       " 'embedding_model': None,\n",
       " 'hdbscan_model': HDBSCAN(min_cluster_size=10, prediction_data=True),\n",
       " 'language': 'english',\n",
       " 'low_memory': False,\n",
       " 'min_topic_size': 10,\n",
       " 'n_gram_range': (1, 1),\n",
       " 'nr_topics': None,\n",
       " 'seed_topic_list': None,\n",
       " 'top_n_words': 10,\n",
       " 'umap_model': UMAP(angular_rp_forest=True, dens_frac=0.0, dens_lambda=0.0, low_memory=False,\n",
       "      metric='cosine', min_dist=0.0, n_components=5),\n",
       " 'vectorizer_model': CountVectorizer(),\n",
       " 'verbose': False}"
      ]
     },
     "execution_count": 12,
     "metadata": {},
     "output_type": "execute_result"
    }
   ],
   "source": [
    "topic_model.get_params()"
   ]
  },
  {
   "cell_type": "code",
   "execution_count": 13,
   "metadata": {},
   "outputs": [
    {
     "ename": "Exception",
     "evalue": "This method can only be used if you did not use custom embeddings.",
     "output_type": "error",
     "traceback": [
      "\u001b[0;31m---------------------------------------------------------------------------\u001b[0m",
      "\u001b[0;31mException\u001b[0m                                 Traceback (most recent call last)",
      "\u001b[0;32m<ipython-input-13-8184d3acb0c8>\u001b[0m in \u001b[0;36m<module>\u001b[0;34m\u001b[0m\n\u001b[0;32m----> 1\u001b[0;31m \u001b[0msimilar_topics\u001b[0m\u001b[0;34m,\u001b[0m \u001b[0msimilarity\u001b[0m \u001b[0;34m=\u001b[0m \u001b[0mtopic_model\u001b[0m\u001b[0;34m.\u001b[0m\u001b[0mfind_topics\u001b[0m\u001b[0;34m(\u001b[0m\u001b[0;34m\"court\"\u001b[0m\u001b[0;34m,\u001b[0m \u001b[0mtop_n\u001b[0m\u001b[0;34m=\u001b[0m\u001b[0;36m5\u001b[0m\u001b[0;34m)\u001b[0m\u001b[0;34m\u001b[0m\u001b[0;34m\u001b[0m\u001b[0m\n\u001b[0m\u001b[1;32m      2\u001b[0m \u001b[0msimilar_topics\u001b[0m\u001b[0;34m\u001b[0m\u001b[0;34m\u001b[0m\u001b[0m\n",
      "\u001b[0;32m~/projects/NLP/BERTopic/bertopic/_bertopic.py\u001b[0m in \u001b[0;36mfind_topics\u001b[0;34m(self, search_term, top_n)\u001b[0m\n\u001b[1;32m    625\u001b[0m         \"\"\"\n\u001b[1;32m    626\u001b[0m         \u001b[0;32mif\u001b[0m \u001b[0mself\u001b[0m\u001b[0;34m.\u001b[0m\u001b[0membedding_model\u001b[0m \u001b[0;32mis\u001b[0m \u001b[0;32mNone\u001b[0m\u001b[0;34m:\u001b[0m\u001b[0;34m\u001b[0m\u001b[0;34m\u001b[0m\u001b[0m\n\u001b[0;32m--> 627\u001b[0;31m             \u001b[0;32mraise\u001b[0m \u001b[0mException\u001b[0m\u001b[0;34m(\u001b[0m\u001b[0;34m\"This method can only be used if you did not use custom embeddings.\"\u001b[0m\u001b[0;34m)\u001b[0m\u001b[0;34m\u001b[0m\u001b[0;34m\u001b[0m\u001b[0m\n\u001b[0m\u001b[1;32m    628\u001b[0m \u001b[0;34m\u001b[0m\u001b[0m\n\u001b[1;32m    629\u001b[0m         \u001b[0mtopic_list\u001b[0m \u001b[0;34m=\u001b[0m \u001b[0mlist\u001b[0m\u001b[0;34m(\u001b[0m\u001b[0mself\u001b[0m\u001b[0;34m.\u001b[0m\u001b[0mtopics\u001b[0m\u001b[0;34m.\u001b[0m\u001b[0mkeys\u001b[0m\u001b[0;34m(\u001b[0m\u001b[0;34m)\u001b[0m\u001b[0;34m)\u001b[0m\u001b[0;34m\u001b[0m\u001b[0;34m\u001b[0m\u001b[0m\n",
      "\u001b[0;31mException\u001b[0m: This method can only be used if you did not use custom embeddings."
     ]
    }
   ],
   "source": [
    "similar_topics, similarity = topic_model.find_topics(\"court\", top_n=5)\n",
    "similar_topics"
   ]
  },
  {
   "cell_type": "code",
   "execution_count": null,
   "metadata": {},
   "outputs": [],
   "source": []
  }
 ],
 "metadata": {
  "kernelspec": {
   "display_name": "Python 3",
   "language": "python",
   "name": "python3"
  },
  "language_info": {
   "codemirror_mode": {
    "name": "ipython",
    "version": 3
   },
   "file_extension": ".py",
   "mimetype": "text/x-python",
   "name": "python",
   "nbconvert_exporter": "python",
   "pygments_lexer": "ipython3",
   "version": "3.8.10"
  }
 },
 "nbformat": 4,
 "nbformat_minor": 4
}
