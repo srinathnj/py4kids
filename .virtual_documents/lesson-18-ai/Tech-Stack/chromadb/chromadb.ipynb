import chromadb
chroma_client = chromadb.Client()


import json


collection = chroma_client.create_collection(name="my_collection")


collection.add(
    documents=[
        "This is a document about pineapple",
        "This is a document about oranges"
    ],
    ids=["id1", "id2"]
)


results = collection.query(
    query_texts=["This is a query document about hawaii"], # Chroma will embed this for you
    n_results=2 # how many results to return
)
print(results)



ddl = "create table x"


doc_type = "ddl"
document = {
    "dataset": "default",
    doc_type: ddl,
}


document


doc_json = json.dumps(document, ensure_ascii=False)


doc_json


collection.get()



