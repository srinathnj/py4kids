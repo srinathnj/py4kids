{
 "cells": [
  {
   "cell_type": "markdown",
   "metadata": {},
   "source": [
    "## [Data structures in Python](https://medium.com/@kojinoshiba/data-structures-in-python-series-1-linked-lists-d9f848537b4d)"
   ]
  },
  {
   "cell_type": "markdown",
   "metadata": {},
   "source": [
    "### [Linked List](https://medium.com/@kojinoshiba/data-structures-in-python-series-1-linked-lists-d9f848537b4d)\n",
    "\n",
    "consistes of nodes, each node consists of value and pointer to another node\n",
    "\n",
    "a linked list can have its elements to be dynamically allocated\n",
    "\n",
    "Pros:\n",
    "* save memory (vs array)\n",
    "* flexible with its location in memory\n",
    "* add/remove item from front is O(1)\n",
    "\n",
    "Cons:\n",
    "* lookup time in O(n) (array is O(1))"
   ]
  },
  {
   "cell_type": "code",
   "execution_count": 5,
   "metadata": {},
   "outputs": [],
   "source": [
    "class Node:\n",
    "    def __init__(self,val):\n",
    "        self.val = val\n",
    "        self.next = None  # the pointer initially points to nothing\n",
    "        \n",
    "    def traverse(self):\n",
    "        node = self # start from self\n",
    "        while node:\n",
    "            print(node.val)  # access the node value\n",
    "            node = node.next # move on to the next node"
   ]
  },
  {
   "cell_type": "code",
   "execution_count": 6,
   "metadata": {},
   "outputs": [],
   "source": [
    "node1 = Node(12) \n",
    "node2 = Node(99) \n",
    "node3 = Node(37) \n",
    "node1.next = node2 # 12->99\n",
    "node2.next = node3 # 99->37\n",
    "# the entire linked list now looks like: 12->99->37"
   ]
  },
  {
   "cell_type": "code",
   "execution_count": 7,
   "metadata": {},
   "outputs": [
    {
     "data": {
      "text/plain": [
       "(12, <__main__.Node at 0x7f7b3e7e26a0>)"
      ]
     },
     "execution_count": 7,
     "metadata": {},
     "output_type": "execute_result"
    }
   ],
   "source": [
    "node1.val, node1.next"
   ]
  },
  {
   "cell_type": "code",
   "execution_count": 8,
   "metadata": {},
   "outputs": [
    {
     "name": "stdout",
     "output_type": "stream",
     "text": [
      "12\n",
      "99\n",
      "37\n"
     ]
    }
   ],
   "source": [
    "node1.traverse()"
   ]
  },
  {
   "cell_type": "code",
   "execution_count": 9,
   "metadata": {},
   "outputs": [],
   "source": [
    "def convert_to_int_l2r(node):\n",
    "    s = \"\"  # convert node value to string, then back to number\n",
    "    n = node\n",
    "    while n != None:\n",
    "        s = str(n.val) + s   # add from left\n",
    "        n = n.next\n",
    "    return int(s)\n",
    "\n",
    "def convert_to_int_r2l(node):\n",
    "    s = \"\"  # convert node value to string, then back to number\n",
    "    n = node\n",
    "    while n != None:\n",
    "        s = s + str(n.val)   # add from right\n",
    "        n = n.next\n",
    "    return int(s)"
   ]
  },
  {
   "cell_type": "code",
   "execution_count": 10,
   "metadata": {},
   "outputs": [
    {
     "name": "stdout",
     "output_type": "stream",
     "text": [
      "1\n",
      "2\n",
      "3\n",
      "8\n",
      "7\n"
     ]
    },
    {
     "data": {
      "text/plain": [
       "(None, None)"
      ]
     },
     "execution_count": 10,
     "metadata": {},
     "output_type": "execute_result"
    }
   ],
   "source": [
    "# initializing two linked lists\n",
    "\n",
    "n1 = Node(1); n2 = Node(2); n3 = Node(3)\n",
    "n1.next=n2; n2.next=n3\n",
    "# 1 > 2 > 3\n",
    "\n",
    "n4 = Node(8); n5 = Node(7); \n",
    "n4.next=n5\n",
    "# 8 > 7\n",
    "\n",
    "n1.traverse(), n4.traverse()"
   ]
  },
  {
   "cell_type": "code",
   "execution_count": 11,
   "metadata": {},
   "outputs": [
    {
     "name": "stdout",
     "output_type": "stream",
     "text": [
      "399\n",
      "210\n"
     ]
    }
   ],
   "source": [
    "print(convert_to_int_l2r(n1) + convert_to_int_l2r(n4))\n",
    "\n",
    "print(convert_to_int_r2l(n1) + convert_to_int_r2l(n4))"
   ]
  },
  {
   "cell_type": "markdown",
   "metadata": {},
   "source": [
    "#### Doubly linked list\n",
    "\n",
    "each node points to two nodes : prev and next\n",
    "\n",
    "Pros:\n",
    "* traverse in both forward/backward direction\n",
    "* delete is more efficient \n",
    "\n",
    "Cons:\n",
    "* extra space for prev pointer"
   ]
  },
  {
   "cell_type": "code",
   "execution_count": 18,
   "metadata": {},
   "outputs": [],
   "source": [
    "class DoublyNode:\n",
    "    def __init__(self, val):\n",
    "        self.val = val\n",
    "        self.next = None\n",
    "        self.prev = None"
   ]
  },
  {
   "cell_type": "markdown",
   "metadata": {},
   "source": [
    "### [Stacks/Queues](https://medium.com/@kojinoshiba/data-structures-in-python-series-2-stacks-queues-8e2a1703d67b)\n",
    "\n",
    "\n",
    "#### stack \n",
    "\n",
    "a data structure with two main operations: push and pop.\n",
    "\n"
   ]
  },
  {
   "cell_type": "code",
   "execution_count": 33,
   "metadata": {},
   "outputs": [],
   "source": [
    "class Stack:\n",
    "    def __init__(self):\n",
    "        self.stack = []   # implement stack as list\n",
    "        \n",
    "    def pop(self):\n",
    "        if self.is_empty():\n",
    "            return None\n",
    "        else:\n",
    "            return self.stack.pop()\n",
    "        \n",
    "    def push(self,val):\n",
    "        return self.stack.append(val)\n",
    "    \n",
    "    def peak(self):\n",
    "        if self.is_empty():\n",
    "            return None\n",
    "        else:\n",
    "            return self.stack[-1]\n",
    "        \n",
    "    def size(self):\n",
    "        return len(self.stack)\n",
    "    \n",
    "    def is_empty(self):\n",
    "        return self.size() == 0"
   ]
  },
  {
   "cell_type": "code",
   "execution_count": 34,
   "metadata": {},
   "outputs": [],
   "source": [
    "s = Stack()\n",
    "s.push(1)\n",
    "s.push(2)"
   ]
  },
  {
   "cell_type": "code",
   "execution_count": 36,
   "metadata": {},
   "outputs": [
    {
     "data": {
      "text/plain": [
       "2"
      ]
     },
     "execution_count": 36,
     "metadata": {},
     "output_type": "execute_result"
    }
   ],
   "source": [
    "s.peak()"
   ]
  },
  {
   "cell_type": "code",
   "execution_count": 38,
   "metadata": {},
   "outputs": [
    {
     "data": {
      "text/plain": [
       "[1, 2]"
      ]
     },
     "execution_count": 38,
     "metadata": {},
     "output_type": "execute_result"
    }
   ],
   "source": [
    "s.stack"
   ]
  },
  {
   "cell_type": "code",
   "execution_count": 39,
   "metadata": {},
   "outputs": [],
   "source": [
    "s.push(100)"
   ]
  },
  {
   "cell_type": "code",
   "execution_count": 40,
   "metadata": {},
   "outputs": [
    {
     "data": {
      "text/plain": [
       "3"
      ]
     },
     "execution_count": 40,
     "metadata": {},
     "output_type": "execute_result"
    }
   ],
   "source": [
    "s.size()"
   ]
  },
  {
   "cell_type": "code",
   "execution_count": 41,
   "metadata": {},
   "outputs": [
    {
     "data": {
      "text/plain": [
       "100"
      ]
     },
     "execution_count": 41,
     "metadata": {},
     "output_type": "execute_result"
    }
   ],
   "source": [
    "s.pop()"
   ]
  },
  {
   "cell_type": "code",
   "execution_count": 42,
   "metadata": {},
   "outputs": [
    {
     "data": {
      "text/plain": [
       "[1, 2]"
      ]
     },
     "execution_count": 42,
     "metadata": {},
     "output_type": "execute_result"
    }
   ],
   "source": [
    "s.stack"
   ]
  },
  {
   "cell_type": "markdown",
   "metadata": {},
   "source": [
    "#### Queue\n",
    "\n",
    "data structure with two main operations: \n",
    "   * enqueue - append from tail\n",
    "   * dequeue - remove from head"
   ]
  },
  {
   "cell_type": "code",
   "execution_count": 43,
   "metadata": {},
   "outputs": [],
   "source": [
    "class Queue:\n",
    "    def __init__(self):\n",
    "        self.queue = []\n",
    "    def enqueue(self,val):\n",
    "        self.queue.insert(0,val)\n",
    "    def dequeue(self):\n",
    "        if self.is_empty():\n",
    "            return None\n",
    "        else:\n",
    "            return self.queue.pop()\n",
    "    def size(self):\n",
    "        return len(self.queue)\n",
    "    def is_empty(self):\n",
    "        return self.size() == 0"
   ]
  },
  {
   "cell_type": "code",
   "execution_count": 45,
   "metadata": {},
   "outputs": [],
   "source": [
    "q = Queue()\n",
    "q.enqueue(100)\n",
    "q.enqueue(200)\n",
    "q.enqueue(300)"
   ]
  },
  {
   "cell_type": "code",
   "execution_count": 46,
   "metadata": {},
   "outputs": [
    {
     "data": {
      "text/plain": [
       "[300, 200, 100]"
      ]
     },
     "execution_count": 46,
     "metadata": {},
     "output_type": "execute_result"
    }
   ],
   "source": [
    "q.queue"
   ]
  },
  {
   "cell_type": "code",
   "execution_count": 47,
   "metadata": {},
   "outputs": [
    {
     "data": {
      "text/plain": [
       "100"
      ]
     },
     "execution_count": 47,
     "metadata": {},
     "output_type": "execute_result"
    }
   ],
   "source": [
    "q.dequeue()"
   ]
  },
  {
   "cell_type": "code",
   "execution_count": null,
   "metadata": {},
   "outputs": [],
   "source": []
  },
  {
   "cell_type": "markdown",
   "metadata": {},
   "source": [
    "#### Stack Queue\n",
    "\n",
    "Queue implementation in 2 stacks"
   ]
  },
  {
   "cell_type": "code",
   "execution_count": 103,
   "metadata": {},
   "outputs": [],
   "source": [
    "class StackQueue:\n",
    "    def __init__(self):\n",
    "        self.stack_enq = Stack()     # used for enqueue\n",
    "        self.stack_deq = Stack()     # used for dequeue\n",
    "    def enqueue(self,val):\n",
    "        self.stack_enq.push(val)\n",
    "    def dequeue(self):\n",
    "        if self.is_empty():\n",
    "            return None\n",
    "        else:\n",
    "            if self.stack_deq.size() == 0:\n",
    "                # copy from stack_enq\n",
    "                for i in range(self.stack_enq.size()):\n",
    "                    self.stack_deq.push(self.stack_enq.pop())\n",
    "            return self.stack_deq.pop()\n",
    "       \n",
    "    def size(self):\n",
    "        return self.stack_enq.size() + self.stack_deq.size()\n",
    "    def is_empty(self):\n",
    "        return self.size() == 0"
   ]
  },
  {
   "cell_type": "code",
   "execution_count": 111,
   "metadata": {},
   "outputs": [
    {
     "name": "stdout",
     "output_type": "stream",
     "text": [
      "0\n",
      "1\n",
      "2\n",
      "3\n",
      "4\n",
      "[0, 1, 2, 3, 4] []\n",
      "0\n",
      "1\n",
      "2\n",
      "3\n",
      "4\n"
     ]
    }
   ],
   "source": [
    "sq = StackQueue()\n",
    "\n",
    "for i in range(5):\n",
    "    print(i)\n",
    "    sq.enqueue(i)\n",
    "\n",
    "print(sq.stack_enq.stack, sq.stack_deq.stack)\n",
    "\n",
    "for i in range(5):\n",
    "    print(sq.dequeue())\n"
   ]
  },
  {
   "cell_type": "code",
   "execution_count": 112,
   "metadata": {},
   "outputs": [
    {
     "name": "stdout",
     "output_type": "stream",
     "text": [
      "0\n",
      "1\n",
      "2\n",
      "3\n",
      "4\n",
      "0\n",
      "1\n",
      "2\n",
      "3\n",
      "4\n"
     ]
    }
   ],
   "source": [
    "q = Queue()\n",
    "\n",
    "for i in range(5):\n",
    "    print(i)\n",
    "    q.enqueue(i)\n",
    "\n",
    "for i in range(5):\n",
    "    print(q.dequeue())\n"
   ]
  },
  {
   "cell_type": "code",
   "execution_count": 113,
   "metadata": {},
   "outputs": [
    {
     "name": "stdout",
     "output_type": "stream",
     "text": [
      "0\n",
      "1\n",
      "2\n",
      "3\n",
      "4\n",
      "4\n",
      "3\n",
      "2\n",
      "1\n",
      "0\n"
     ]
    }
   ],
   "source": [
    "sk = Stack()\n",
    "\n",
    "for i in range(5):\n",
    "    print(i)\n",
    "    sk.push(i)\n",
    "\n",
    "for i in range(5):\n",
    "    print(sk.pop())\n"
   ]
  },
  {
   "cell_type": "code",
   "execution_count": 109,
   "metadata": {},
   "outputs": [
    {
     "data": {
      "text/plain": [
       "1"
      ]
     },
     "execution_count": 109,
     "metadata": {},
     "output_type": "execute_result"
    }
   ],
   "source": [
    "sq.dequeue()"
   ]
  },
  {
   "cell_type": "markdown",
   "metadata": {},
   "source": [
    "#### practice"
   ]
  },
  {
   "cell_type": "markdown",
   "metadata": {},
   "source": [
    "Given a string of brackets, determine if the string is balanced"
   ]
  },
  {
   "cell_type": "code",
   "execution_count": 57,
   "metadata": {},
   "outputs": [],
   "source": [
    "# check brackets to be balanced\n",
    "def balanced_brackets(s):\n",
    "    bra_stack = Stack()\n",
    "    for c in s:\n",
    "        if c == '(':\n",
    "            bra_stack.push(c)\n",
    "        elif c == ')':\n",
    "            if bra_stack.size() < 1: # empty\n",
    "                return \"brackets unbalanced - found more ')'\"\n",
    "            else:\n",
    "                bra_stack.pop()\n",
    "\n",
    "    if bra_stack.size(): # remaining\n",
    "        return \"brackets unbalanced - found more '('\"\n",
    "    else:\n",
    "        return \"brackets balanced\""
   ]
  },
  {
   "cell_type": "code",
   "execution_count": 58,
   "metadata": {},
   "outputs": [
    {
     "data": {
      "text/plain": [
       "\"brackets unbalanced - found more '('\""
      ]
     },
     "execution_count": 58,
     "metadata": {},
     "output_type": "execute_result"
    }
   ],
   "source": [
    "s = \"((((( )))\"\n",
    "balanced_brackets(s)"
   ]
  },
  {
   "cell_type": "code",
   "execution_count": 59,
   "metadata": {},
   "outputs": [
    {
     "data": {
      "text/plain": [
       "\"brackets unbalanced - found more ')'\""
      ]
     },
     "execution_count": 59,
     "metadata": {},
     "output_type": "execute_result"
    }
   ],
   "source": [
    "s = \"( )))\"\n",
    "balanced_brackets(s)"
   ]
  },
  {
   "cell_type": "code",
   "execution_count": 60,
   "metadata": {},
   "outputs": [
    {
     "data": {
      "text/plain": [
       "'brackets balanced'"
      ]
     },
     "execution_count": 60,
     "metadata": {},
     "output_type": "execute_result"
    }
   ],
   "source": [
    "s = \"(( ))\"\n",
    "balanced_brackets(s)"
   ]
  },
  {
   "cell_type": "markdown",
   "metadata": {},
   "source": [
    "Write a program to sort a stack in ascending order (with biggest items on top). Only use one additional stack."
   ]
  },
  {
   "cell_type": "code",
   "execution_count": 98,
   "metadata": {},
   "outputs": [],
   "source": [
    "l = [1000, -1, 6,1,5, 0, 100]\n",
    "\n",
    "def sort_stack(l):\n",
    "    sk1 = Stack()\n",
    "    for i in l:\n",
    "        sk1.push(i)\n",
    "\n",
    "    sk2 = Stack()  # sorted   \n",
    "\n",
    "    while sk1.size():\n",
    "        print(\"==> \", sk1.stack, sk2.stack)        \n",
    "        n1 = sk1.pop()\n",
    "        print(\"*******\\nn1=\",n1)\n",
    "\n",
    "        n2 = sk2.peak()\n",
    "        if n2 is None or n1 >= n2:\n",
    "            sk2.push(n1)\n",
    "            continue\n",
    "\n",
    "        # insert n1 into stack2 in right order\n",
    "        n_tmp_push = 0\n",
    "        for i in range(sk2.size()+1):\n",
    "            n2 = sk2.peak()\n",
    "            print(\"\\t peak n2=\",n2)\n",
    "            if n2 is None or n1 >= n2:\n",
    "                sk2.push(n1)\n",
    "                # copy back from sk1\n",
    "                for j in range(n_tmp_push):\n",
    "                    n1t = sk1.pop()\n",
    "                    print(\"\\t push back=\",n1t)\n",
    "                    sk2.push(n1t)\n",
    "                n_tmp_push = 0\n",
    "                break\n",
    "\n",
    "            n2 = sk2.pop()\n",
    "            print(\"\\t pop n2=\",n2)\n",
    "            sk1.push(n2)  # store n2 in stack1 temporarily\n",
    "            n_tmp_push += 1\n",
    "            print(\"\\t n_tmp_push=\",n_tmp_push)\n",
    "\n",
    "\n",
    "    return sk2.stack       "
   ]
  },
  {
   "cell_type": "code",
   "execution_count": 99,
   "metadata": {},
   "outputs": [
    {
     "name": "stdout",
     "output_type": "stream",
     "text": [
      "==>  [1000, -1, 6, 1, 5, 0, 100] []\n",
      "*******\n",
      "n1= 100\n",
      "==>  [1000, -1, 6, 1, 5, 0] [100]\n",
      "*******\n",
      "n1= 0\n",
      "\t peak n2= 100\n",
      "\t pop n2= 100\n",
      "\t n_tmp_push= 1\n",
      "\t peak n2= None\n",
      "\t push back= 100\n",
      "==>  [1000, -1, 6, 1, 5] [0, 100]\n",
      "*******\n",
      "n1= 5\n",
      "\t peak n2= 100\n",
      "\t pop n2= 100\n",
      "\t n_tmp_push= 1\n",
      "\t peak n2= 0\n",
      "\t push back= 100\n",
      "==>  [1000, -1, 6, 1] [0, 5, 100]\n",
      "*******\n",
      "n1= 1\n",
      "\t peak n2= 100\n",
      "\t pop n2= 100\n",
      "\t n_tmp_push= 1\n",
      "\t peak n2= 5\n",
      "\t pop n2= 5\n",
      "\t n_tmp_push= 2\n",
      "\t peak n2= 0\n",
      "\t push back= 5\n",
      "\t push back= 100\n",
      "==>  [1000, -1, 6] [0, 1, 5, 100]\n",
      "*******\n",
      "n1= 6\n",
      "\t peak n2= 100\n",
      "\t pop n2= 100\n",
      "\t n_tmp_push= 1\n",
      "\t peak n2= 5\n",
      "\t push back= 100\n",
      "==>  [1000, -1] [0, 1, 5, 6, 100]\n",
      "*******\n",
      "n1= -1\n",
      "\t peak n2= 100\n",
      "\t pop n2= 100\n",
      "\t n_tmp_push= 1\n",
      "\t peak n2= 6\n",
      "\t pop n2= 6\n",
      "\t n_tmp_push= 2\n",
      "\t peak n2= 5\n",
      "\t pop n2= 5\n",
      "\t n_tmp_push= 3\n",
      "\t peak n2= 1\n",
      "\t pop n2= 1\n",
      "\t n_tmp_push= 4\n",
      "\t peak n2= 0\n",
      "\t pop n2= 0\n",
      "\t n_tmp_push= 5\n",
      "\t peak n2= None\n",
      "\t push back= 0\n",
      "\t push back= 1\n",
      "\t push back= 5\n",
      "\t push back= 6\n",
      "\t push back= 100\n",
      "==>  [1000] [-1, 0, 1, 5, 6, 100]\n",
      "*******\n",
      "n1= 1000\n",
      "[-1, 0, 1, 5, 6, 100, 1000]\n"
     ]
    }
   ],
   "source": [
    "print(sort_stack(l))"
   ]
  },
  {
   "cell_type": "markdown",
   "metadata": {},
   "source": [
    "### Heap\n",
    "\n",
    "https://www.geeksforgeeks.org/heap-queue-or-heapq-in-python/"
   ]
  },
  {
   "cell_type": "code",
   "execution_count": 100,
   "metadata": {},
   "outputs": [],
   "source": [
    "import heapq"
   ]
  },
  {
   "cell_type": "code",
   "execution_count": 102,
   "metadata": {},
   "outputs": [
    {
     "name": "stdout",
     "output_type": "stream",
     "text": [
      "The created heap is : [1, 3, 9, 7, 5]\n",
      "The modified heap after push is : [1, 3, 4, 7, 5, 9]\n",
      "The popped and smallest element is : 1\n",
      "The modified heap after push is : [3, 5, 4, 7, 9]\n"
     ]
    }
   ],
   "source": [
    "# Python code to demonstrate working of  \n",
    "# heapify(), heappush() and heappop() \n",
    "  \n",
    "# importing \"heapq\" to implement heap queue \n",
    "import heapq \n",
    "  \n",
    "# initializing list \n",
    "li = [5, 7, 9, 1, 3] \n",
    "  \n",
    "# using heapify to convert list into heap \n",
    "heapq.heapify(li) \n",
    "  \n",
    "# printing created heap \n",
    "print (\"The created heap is : \",end=\"\") \n",
    "print (list(li)) \n",
    "  \n",
    "# using heappush() to push elements into heap \n",
    "# pushes 4 \n",
    "heapq.heappush(li,4) \n",
    "  \n",
    "# printing modified heap \n",
    "print (\"The modified heap after push is : \",end=\"\") \n",
    "print (list(li)) \n",
    "  \n",
    "# using heappop() to pop smallest element \n",
    "print (\"The popped and smallest element is : \",end=\"\") \n",
    "print (heapq.heappop(li)) \n",
    "\n",
    "print (\"The modified heap after push is : \",end=\"\") \n",
    "print (list(li)) \n"
   ]
  },
  {
   "cell_type": "code",
   "execution_count": null,
   "metadata": {},
   "outputs": [],
   "source": []
  }
 ],
 "metadata": {
  "kernelspec": {
   "display_name": "Python 3",
   "language": "python",
   "name": "python3"
  },
  "language_info": {
   "codemirror_mode": {
    "name": "ipython",
    "version": 3
   },
   "file_extension": ".py",
   "mimetype": "text/x-python",
   "name": "python",
   "nbconvert_exporter": "python",
   "pygments_lexer": "ipython3",
   "version": "3.6.5"
  }
 },
 "nbformat": 4,
 "nbformat_minor": 2
}
