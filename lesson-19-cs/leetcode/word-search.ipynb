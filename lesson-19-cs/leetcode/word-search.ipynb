{
 "cells": [
  {
   "cell_type": "code",
   "execution_count": 6,
   "metadata": {},
   "outputs": [],
   "source": [
    "def word_search(board, word):\n",
    "    \"\"\"\n",
    "    https://leetcode.com/problems/word-search/\n",
    "    \"\"\"\n",
    "    \n",
    "    matched = [False for _ in word]   # track which char is matched\n",
    "    visited = []                      # track visited char\n",
    "    \n",
    "    X,Y = len(board[0]), len(board)  # width, length\n",
    "\n",
    "    def valid_xy(x_y):\n",
    "        x,y = x_y\n",
    "        if (x,y) in visited:\n",
    "            return False\n",
    "        return x > -1 and x < X and y > -1 and y < Y\n",
    "\n",
    "    def neighbors(x_y):\n",
    "        x,y = x_y\n",
    "        return [i for i in [(x+1,y), (x-1,y), (x, y+1), (x,y-1)] if valid_xy(i)]\n",
    "\n",
    "    # build a map to lookup positions for a given char\n",
    "    pos = {}\n",
    "    for j in range(Y):\n",
    "        for i in range(X):\n",
    "            ch = board[j][i]\n",
    "            # print(f\"i,j,ch = {i}, {j}, {ch}\")\n",
    "            x_y = pos.get(ch, None)\n",
    "            if not x_y:\n",
    "                pos[ch] = [(i,j)]\n",
    "            else:\n",
    "                x_y.append((i,j))\n",
    "\n",
    "    # special case: a letter in word but not on board\n",
    "    if set(word).difference(set(pos.keys())):\n",
    "        print(\"no match because word char not on board\")\n",
    "        return False\n",
    "    \n",
    "    matched[0] = True     \n",
    "    to_visit = pos[word[0]]\n",
    "    for i in range(1, len(word)):\n",
    "        ch = word[i]\n",
    "        for x_y in to_visit:             # traverse possible squares\n",
    "            for (x,y) in neighbors(x_y):     # check each neighbor\n",
    "                if ch == board[y][x]:\n",
    "                    matched[i] = True\n",
    "                    visited.append(x_y)\n",
    "\n",
    "        if not matched[i]:\n",
    "            return False\n",
    "        \n",
    "        to_visit = pos[ch]\n",
    "\n",
    "    return all(matched)"
   ]
  },
  {
   "cell_type": "code",
   "execution_count": 7,
   "metadata": {},
   "outputs": [
    {
     "data": {
      "text/plain": [
       "True"
      ]
     },
     "execution_count": 7,
     "metadata": {},
     "output_type": "execute_result"
    }
   ],
   "source": [
    "board = [[\"A\",\"B\",\"C\",\"E\"],[\"S\",\"F\",\"C\",\"S\"],[\"A\",\"D\",\"E\",\"E\"]]\n",
    "word = \"ABCCED\"\n",
    "word_search(board, word)"
   ]
  },
  {
   "cell_type": "code",
   "execution_count": 8,
   "metadata": {},
   "outputs": [
    {
     "data": {
      "text/plain": [
       "True"
      ]
     },
     "execution_count": 8,
     "metadata": {},
     "output_type": "execute_result"
    }
   ],
   "source": [
    "board = [[\"A\",\"B\",\"C\",\"E\"],[\"S\",\"F\",\"C\",\"S\"],[\"A\",\"D\",\"E\",\"E\"]]\n",
    "word = \"SEE\"\n",
    "word_search(board, word)"
   ]
  },
  {
   "cell_type": "code",
   "execution_count": 9,
   "metadata": {},
   "outputs": [
    {
     "data": {
      "text/plain": [
       "False"
      ]
     },
     "execution_count": 9,
     "metadata": {},
     "output_type": "execute_result"
    }
   ],
   "source": [
    "board = [[\"A\",\"B\",\"C\",\"E\"],[\"S\",\"F\",\"C\",\"S\"],[\"A\",\"D\",\"E\",\"E\"]]\n",
    "word = \"ABCB\"\n",
    "word_search(board, word)"
   ]
  },
  {
   "cell_type": "code",
   "execution_count": 10,
   "metadata": {},
   "outputs": [
    {
     "name": "stdout",
     "output_type": "stream",
     "text": [
      "no match because word char not on board\n"
     ]
    },
    {
     "data": {
      "text/plain": [
       "False"
      ]
     },
     "execution_count": 10,
     "metadata": {},
     "output_type": "execute_result"
    }
   ],
   "source": [
    "board = [[\"A\",\"B\",\"C\",\"E\"],[\"S\",\"F\",\"C\",\"S\"],[\"A\",\"D\",\"E\",\"E\"]]\n",
    "word = \"ABX\"\n",
    "word_search(board, word)"
   ]
  },
  {
   "cell_type": "code",
   "execution_count": null,
   "metadata": {},
   "outputs": [],
   "source": []
  },
  {
   "cell_type": "code",
   "execution_count": null,
   "metadata": {},
   "outputs": [],
   "source": []
  }
 ],
 "metadata": {
  "kernelspec": {
   "display_name": "Python 3",
   "language": "python",
   "name": "python3"
  },
  "language_info": {
   "codemirror_mode": {
    "name": "ipython",
    "version": 3
   },
   "file_extension": ".py",
   "mimetype": "text/x-python",
   "name": "python",
   "nbconvert_exporter": "python",
   "pygments_lexer": "ipython3",
   "version": "3.8.5"
  }
 },
 "nbformat": 4,
 "nbformat_minor": 4
}
