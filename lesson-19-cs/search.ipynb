{
 "cells": [
  {
   "cell_type": "markdown",
   "metadata": {},
   "source": [
    "### Binary Search"
   ]
  },
  {
   "cell_type": "code",
   "execution_count": 18,
   "metadata": {},
   "outputs": [],
   "source": [
    "def binary_search(sorted_collection, item):\n",
    "    \"\"\"Pure implementation of binary search algorithm in Python\n",
    "\n",
    "    Be careful collection must be sorted, otherwise result will be\n",
    "    unpredictable\n",
    "\n",
    "    :param sorted_collection: some sorted collection with comparable items\n",
    "    :param item: item value to search\n",
    "    :return: index of found item or None if item is not found\n",
    "\n",
    "    Examples:\n",
    "    >>> binary_search([0, 5, 7, 10, 15], 0)\n",
    "    0\n",
    "\n",
    "    >>> binary_search([0, 5, 7, 10, 15], 15)\n",
    "    4\n",
    "\n",
    "    >>> binary_search([0, 5, 7, 10, 15], 5)\n",
    "    1\n",
    "\n",
    "    >>> binary_search([0, 5, 7, 10, 15], 6)\n",
    "\n",
    "    \"\"\"\n",
    "    left = 0\n",
    "    right = len(sorted_collection) - 1\n",
    "\n",
    "    while left <= right:\n",
    "        midpoint = (left + right) // 2\n",
    "        current_item = sorted_collection[midpoint]\n",
    "        if current_item == item:\n",
    "            return midpoint\n",
    "        else:\n",
    "            if item < current_item:\n",
    "                right = midpoint - 1\n",
    "            else:\n",
    "                left = midpoint + 1\n",
    "    return None\n",
    "\n",
    "def binary_search_by_recursion(sorted_collection, item, left, right):\n",
    "\n",
    "    \"\"\"Pure implementation of binary search algorithm in Python by recursion\n",
    "\n",
    "    Be careful collection must be sorted, otherwise result will be\n",
    "    unpredictable\n",
    "    First recursion should be started with left=0 and right=(len(sorted_collection)-1)\n",
    "\n",
    "    :param sorted_collection: some sorted collection with comparable items\n",
    "    :param item: item value to search\n",
    "    :return: index of found item or None if item is not found\n",
    "\n",
    "    Examples:\n",
    "    >>> binary_search_std_lib([0, 5, 7, 10, 15], 0)\n",
    "    0\n",
    "\n",
    "    >>> binary_search_std_lib([0, 5, 7, 10, 15], 15)\n",
    "    4\n",
    "\n",
    "    >>> binary_search_std_lib([0, 5, 7, 10, 15], 5)\n",
    "    1\n",
    "\n",
    "    >>> binary_search_std_lib([0, 5, 7, 10, 15], 6)\n",
    "\n",
    "    \"\"\"\n",
    "    if (right < left):\n",
    "        return None\n",
    "    \n",
    "    midpoint = left + (right - left) // 2\n",
    "\n",
    "    if sorted_collection[midpoint] == item:\n",
    "        return midpoint\n",
    "    elif sorted_collection[midpoint] > item:\n",
    "        return binary_search_by_recursion(sorted_collection, item, left, midpoint-1)\n",
    "    else:\n",
    "        return binary_search_by_recursion(sorted_collection, item, midpoint+1, right)"
   ]
  },
  {
   "cell_type": "code",
   "execution_count": 11,
   "metadata": {},
   "outputs": [],
   "source": [
    "binary_search([0, 5, 7, 10, 15], 6)"
   ]
  },
  {
   "cell_type": "code",
   "execution_count": 12,
   "metadata": {},
   "outputs": [
    {
     "data": {
      "text/plain": [
       "4"
      ]
     },
     "execution_count": 12,
     "metadata": {},
     "output_type": "execute_result"
    }
   ],
   "source": [
    "binary_search([0, 5, 7, 10, 15], 15)"
   ]
  },
  {
   "cell_type": "code",
   "execution_count": 13,
   "metadata": {},
   "outputs": [
    {
     "data": {
      "text/plain": [
       "0"
      ]
     },
     "execution_count": 13,
     "metadata": {},
     "output_type": "execute_result"
    }
   ],
   "source": [
    "binary_search([0, 5, 7, 10, 15], 0)"
   ]
  },
  {
   "cell_type": "code",
   "execution_count": 16,
   "metadata": {},
   "outputs": [],
   "source": [
    "# 12 // 2, 11 // 2, 13 // 2"
   ]
  },
  {
   "cell_type": "code",
   "execution_count": 21,
   "metadata": {},
   "outputs": [
    {
     "data": {
      "text/plain": [
       "4"
      ]
     },
     "execution_count": 21,
     "metadata": {},
     "output_type": "execute_result"
    }
   ],
   "source": [
    "binary_search_by_recursion([0, 5, 7, 10, 15], 15, 0, len([0, 5, 7, 10, 15]))"
   ]
  },
  {
   "cell_type": "code",
   "execution_count": null,
   "metadata": {},
   "outputs": [],
   "source": []
  }
 ],
 "metadata": {
  "kernelspec": {
   "display_name": "Python 3",
   "language": "python",
   "name": "python3"
  },
  "language_info": {
   "codemirror_mode": {
    "name": "ipython",
    "version": 3
   },
   "file_extension": ".py",
   "mimetype": "text/x-python",
   "name": "python",
   "nbconvert_exporter": "python",
   "pygments_lexer": "ipython3",
   "version": "3.6.5"
  }
 },
 "nbformat": 4,
 "nbformat_minor": 2
}
