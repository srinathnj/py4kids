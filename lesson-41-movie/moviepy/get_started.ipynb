{
 "cells": [
  {
   "cell_type": "code",
   "execution_count": 1,
   "id": "9286a96d",
   "metadata": {},
   "outputs": [],
   "source": [
    "# Import everything needed to edit video clips\n",
    "from moviepy.editor import *\n",
    "from pathlib import Path "
   ]
  },
  {
   "cell_type": "code",
   "execution_count": 2,
   "id": "a4fb56fd",
   "metadata": {},
   "outputs": [],
   "source": [
    "turtle_mp4 = \"../data/yellow_head_turtle.mp4\""
   ]
  },
  {
   "cell_type": "code",
   "execution_count": 5,
   "id": "4b47960e",
   "metadata": {},
   "outputs": [],
   "source": [
    "# Load myHolidays.mp4 and select the subclip 00:00:50 - 00:00:60\n",
    "clip = VideoFileClip(turtle_mp4).subclip(10,20)"
   ]
  },
  {
   "cell_type": "code",
   "execution_count": 6,
   "id": "4e1b655d",
   "metadata": {
    "scrolled": true
   },
   "outputs": [],
   "source": [
    "# Reduce the audio volume (volume x 0.8)\n",
    "clip = clip.volumex(0.8)"
   ]
  },
  {
   "cell_type": "raw",
   "id": "6ef6a933",
   "metadata": {},
   "source": [
    "error with 2.0.0-dev version\n",
    "\n",
    "---------------------------------------------------------------------------\n",
    "AttributeError                            Traceback (most recent call last)\n",
    "~\\AppData\\Local\\Temp\\ipykernel_10956\\2911732016.py in <module>\n",
    "      1 # Reduce the audio volume (volume x 0.8)\n",
    "----> 2 clip = clip.volumex(0.8)\n",
    "\n",
    "AttributeError: 'VideoFileClip' object has no attribute 'volumex'"
   ]
  },
  {
   "cell_type": "code",
   "execution_count": 7,
   "id": "e447df49",
   "metadata": {},
   "outputs": [],
   "source": [
    "# Generate a text clip. You can customize the font, color, etc.\n",
    "txt_clip = TextClip(\"Yellow Head Turtle\",fontsize=70, color='red')"
   ]
  },
  {
   "cell_type": "code",
   "execution_count": 8,
   "id": "2fe7cd51",
   "metadata": {},
   "outputs": [],
   "source": [
    "# Say that you want it to appear 10s at the center of the screen\n",
    "txt_clip = txt_clip.set_pos('center').set_duration(6)"
   ]
  },
  {
   "cell_type": "code",
   "execution_count": 9,
   "id": "67f4e49d",
   "metadata": {},
   "outputs": [],
   "source": [
    "# Overlay the text clip on the first video clip\n",
    "video = CompositeVideoClip([clip, txt_clip])"
   ]
  },
  {
   "cell_type": "code",
   "execution_count": 11,
   "id": "bff6f9e4",
   "metadata": {},
   "outputs": [
    {
     "name": "stderr",
     "output_type": "stream",
     "text": [
      "t:   1%|▍                                                                  | 2/299 [00:37<1:33:44, 18.94s/it, now=None]"
     ]
    },
    {
     "name": "stdout",
     "output_type": "stream",
     "text": [
      "Moviepy - Building video tmp/edited.mp4.\n",
      "MoviePy - Writing audio in editedTEMP_MPY_wvf_snd.mp3\n"
     ]
    },
    {
     "name": "stderr",
     "output_type": "stream",
     "text": [
      "\n",
      "chunk:   0%|                                                                         | 0/221 [00:00<?, ?it/s, now=None]\u001b[A\n",
      "chunk:  14%|████████▌                                                      | 30/221 [00:00<00:00, 297.34it/s, now=None]\u001b[A\n",
      "chunk:  67%|█████████████████████████████████████████▏                    | 147/221 [00:00<00:00, 806.78it/s, now=None]\u001b[A\n",
      "t:   1%|▍                                                                  | 2/299 [00:38<1:34:26, 19.08s/it, now=None]\u001b[A"
     ]
    },
    {
     "name": "stdout",
     "output_type": "stream",
     "text": [
      "MoviePy - Done.\n",
      "Moviepy - Writing video tmp/edited.mp4\n",
      "\n"
     ]
    },
    {
     "name": "stderr",
     "output_type": "stream",
     "text": [
      "\n",
      "t:   0%|                                                                             | 0/299 [00:00<?, ?it/s, now=None]\u001b[A\n",
      "t:   1%|▉                                                                    | 4/299 [00:00<00:07, 39.40it/s, now=None]\u001b[A\n",
      "t:   7%|████▋                                                              | 21/299 [00:00<00:02, 115.33it/s, now=None]\u001b[A\n",
      "t:  13%|████████▌                                                          | 38/299 [00:00<00:01, 137.99it/s, now=None]\u001b[A\n",
      "t:  18%|████████████▎                                                      | 55/299 [00:00<00:01, 148.24it/s, now=None]\u001b[A\n",
      "t:  23%|███████████████▋                                                   | 70/299 [00:00<00:01, 148.37it/s, now=None]\u001b[A\n",
      "t:  28%|███████████████████                                                | 85/299 [00:00<00:01, 147.22it/s, now=None]\u001b[A\n",
      "t:  34%|██████████████████████▌                                           | 102/299 [00:00<00:01, 152.85it/s, now=None]\u001b[A\n",
      "t:  39%|██████████████████████████                                        | 118/299 [00:00<00:01, 152.75it/s, now=None]\u001b[A\n",
      "t:  45%|█████████████████████████████▌                                    | 134/299 [00:00<00:01, 152.25it/s, now=None]\u001b[A\n",
      "t:  50%|█████████████████████████████████                                 | 150/299 [00:01<00:00, 152.82it/s, now=None]\u001b[A\n",
      "t:  56%|████████████████████████████████████▋                             | 166/299 [00:01<00:00, 154.10it/s, now=None]\u001b[A\n",
      "t:  61%|████████████████████████████████████████▍                         | 183/299 [00:01<00:00, 158.25it/s, now=None]\u001b[A\n",
      "t:  71%|██████████████████████████████████████████████▌                   | 211/299 [00:01<00:00, 193.13it/s, now=None]\u001b[A\n",
      "t:  80%|████████████████████████████████████████████████████▌             | 238/299 [00:01<00:00, 215.34it/s, now=None]\u001b[A\n",
      "t:  88%|██████████████████████████████████████████████████████████▎       | 264/299 [00:01<00:00, 226.29it/s, now=None]\u001b[A\n",
      "t:  96%|███████████████████████████████████████████████████████████████▎  | 287/299 [00:01<00:00, 225.40it/s, now=None]\u001b[A\n",
      "t:   1%|▍                                                                  | 2/299 [00:40<1:39:05, 20.02s/it, now=None]\u001b[A"
     ]
    },
    {
     "name": "stdout",
     "output_type": "stream",
     "text": [
      "Moviepy - Done !\n",
      "Moviepy - video ready tmp/edited.mp4\n"
     ]
    }
   ],
   "source": [
    "# Write the result to a file (many options available !)\n",
    "video.write_videofile(\"tmp/edited.mp4\")"
   ]
  },
  {
   "cell_type": "code",
   "execution_count": null,
   "id": "4e4e6bac",
   "metadata": {},
   "outputs": [],
   "source": []
  }
 ],
 "metadata": {
  "kernelspec": {
   "display_name": "Python 3 (ipykernel)",
   "language": "python",
   "name": "python3"
  },
  "language_info": {
   "codemirror_mode": {
    "name": "ipython",
    "version": 3
   },
   "file_extension": ".py",
   "mimetype": "text/x-python",
   "name": "python",
   "nbconvert_exporter": "python",
   "pygments_lexer": "ipython3",
   "version": "3.9.13"
  },
  "nbTranslate": {
   "displayLangs": [
    "*"
   ],
   "hotkey": "alt-t",
   "langInMainMenu": true,
   "sourceLang": "en",
   "targetLang": "fr",
   "useGoogleTranslate": true
  },
  "toc": {
   "base_numbering": 1,
   "nav_menu": {},
   "number_sections": true,
   "sideBar": true,
   "skip_h1_title": false,
   "title_cell": "Table of Contents",
   "title_sidebar": "Contents",
   "toc_cell": false,
   "toc_position": {},
   "toc_section_display": true,
   "toc_window_display": false
  }
 },
 "nbformat": 4,
 "nbformat_minor": 5
}
