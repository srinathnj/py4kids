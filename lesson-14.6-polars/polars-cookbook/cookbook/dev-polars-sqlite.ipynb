{
 "cells": [
  {
   "cell_type": "markdown",
   "id": "6a9dc5d0",
   "metadata": {},
   "source": [
    "[connect to Sqlite on windows](https://github.com/sfu-db/connector-x/discussions/244)"
   ]
  },
  {
   "cell_type": "code",
   "execution_count": 1,
   "id": "69e5243d",
   "metadata": {},
   "outputs": [],
   "source": [
    "import connectorx as cx\n",
    "import urllib"
   ]
  },
  {
   "cell_type": "code",
   "execution_count": 2,
   "id": "25852a7e",
   "metadata": {},
   "outputs": [
    {
     "name": "stdout",
     "output_type": "stream",
     "text": [
      "sqlite://C%3A%5CUsers%5Cp2p2l%5Cprojects%5Cwgong%5Cwatchetf-dev-2022-10-30%5Cstooq%5Cdb_gwg.sqlite\n"
     ]
    }
   ],
   "source": [
    "path = urllib.parse.quote(r\"C:\\Users\\p2p2l\\projects\\wgong\\watchetf-dev-2022-10-30\\stooq\\db_gwg.sqlite\")\n",
    "url = f\"sqlite://{path}\"\n",
    "print(url)"
   ]
  },
  {
   "cell_type": "code",
   "execution_count": 6,
   "id": "1040bb51",
   "metadata": {},
   "outputs": [
    {
     "data": {
      "text/html": [
       "<div>\n",
       "<style scoped>\n",
       "    .dataframe tbody tr th:only-of-type {\n",
       "        vertical-align: middle;\n",
       "    }\n",
       "\n",
       "    .dataframe tbody tr th {\n",
       "        vertical-align: top;\n",
       "    }\n",
       "\n",
       "    .dataframe thead th {\n",
       "        text-align: right;\n",
       "    }\n",
       "</style>\n",
       "<table border=\"1\" class=\"dataframe\">\n",
       "  <thead>\n",
       "    <tr style=\"text-align: right;\">\n",
       "      <th></th>\n",
       "      <th>list</th>\n",
       "      <th>note</th>\n",
       "      <th>is_inactive</th>\n",
       "      <th>etf_ticker</th>\n",
       "      <th>count</th>\n",
       "      <th>sort_val</th>\n",
       "    </tr>\n",
       "  </thead>\n",
       "  <tbody>\n",
       "    <tr>\n",
       "      <th>0</th>\n",
       "      <td>SP500</td>\n",
       "      <td>3-S&amp;P</td>\n",
       "      <td>0</td>\n",
       "      <td>SPY</td>\n",
       "      <td>501.0</td>\n",
       "      <td>2</td>\n",
       "    </tr>\n",
       "    <tr>\n",
       "      <th>1</th>\n",
       "      <td>NASDAQ100</td>\n",
       "      <td>2-Nasdaq</td>\n",
       "      <td>0</td>\n",
       "      <td>QQQ</td>\n",
       "      <td>101.0</td>\n",
       "      <td>1</td>\n",
       "    </tr>\n",
       "    <tr>\n",
       "      <th>2</th>\n",
       "      <td>RUSSELL2000</td>\n",
       "      <td>4-Russell</td>\n",
       "      <td>0</td>\n",
       "      <td>IWM</td>\n",
       "      <td>2049.0</td>\n",
       "      <td>3</td>\n",
       "    </tr>\n",
       "    <tr>\n",
       "      <th>3</th>\n",
       "      <td>DOW30</td>\n",
       "      <td>1-Dow</td>\n",
       "      <td>0</td>\n",
       "      <td>DIA</td>\n",
       "      <td>32.0</td>\n",
       "      <td>4</td>\n",
       "    </tr>\n",
       "    <tr>\n",
       "      <th>4</th>\n",
       "      <td>sector-XLC_communication-services</td>\n",
       "      <td>Communication</td>\n",
       "      <td>0</td>\n",
       "      <td>XLC</td>\n",
       "      <td>270.0</td>\n",
       "      <td>43</td>\n",
       "    </tr>\n",
       "  </tbody>\n",
       "</table>\n",
       "</div>"
      ],
      "text/plain": [
       "                                list           note  is_inactive etf_ticker  \\\n",
       "0                              SP500          3-S&P            0        SPY   \n",
       "1                          NASDAQ100       2-Nasdaq            0        QQQ   \n",
       "2                        RUSSELL2000      4-Russell            0        IWM   \n",
       "3                              DOW30          1-Dow            0        DIA   \n",
       "4  sector-XLC_communication-services  Communication            0        XLC   \n",
       "\n",
       "    count  sort_val  \n",
       "0   501.0         2  \n",
       "1   101.0         1  \n",
       "2  2049.0         3  \n",
       "3    32.0         4  \n",
       "4   270.0        43  "
      ]
     },
     "execution_count": 6,
     "metadata": {},
     "output_type": "execute_result"
    }
   ],
   "source": [
    "query = f\"\"\"\n",
    "select * from list;\n",
    "\"\"\"\n",
    "\n",
    "df = cx.read_sql(url, query)\n",
    "df.head()"
   ]
  },
  {
   "cell_type": "code",
   "execution_count": 7,
   "id": "e2de0b6f",
   "metadata": {},
   "outputs": [
    {
     "data": {
      "text/html": [
       "<div>\n",
       "<style scoped>\n",
       "    .dataframe tbody tr th:only-of-type {\n",
       "        vertical-align: middle;\n",
       "    }\n",
       "\n",
       "    .dataframe tbody tr th {\n",
       "        vertical-align: top;\n",
       "    }\n",
       "\n",
       "    .dataframe thead th {\n",
       "        text-align: right;\n",
       "    }\n",
       "</style>\n",
       "<table border=\"1\" class=\"dataframe\">\n",
       "  <thead>\n",
       "    <tr style=\"text-align: right;\">\n",
       "      <th></th>\n",
       "      <th>count(*)</th>\n",
       "    </tr>\n",
       "  </thead>\n",
       "  <tbody>\n",
       "    <tr>\n",
       "      <th>0</th>\n",
       "      <td>22</td>\n",
       "    </tr>\n",
       "  </tbody>\n",
       "</table>\n",
       "</div>"
      ],
      "text/plain": [
       "   count(*)\n",
       "0        22"
      ]
     },
     "execution_count": 7,
     "metadata": {},
     "output_type": "execute_result"
    }
   ],
   "source": [
    "query = f\"\"\"\n",
    "select count(*) from list;\n",
    "\"\"\"\n",
    "\n",
    "df = cx.read_sql(url, query)\n",
    "df.head()"
   ]
  },
  {
   "cell_type": "code",
   "execution_count": 8,
   "id": "e010688f",
   "metadata": {},
   "outputs": [
    {
     "data": {
      "text/plain": [
       "pandas.core.frame.DataFrame"
      ]
     },
     "execution_count": 8,
     "metadata": {},
     "output_type": "execute_result"
    }
   ],
   "source": [
    "type(df)"
   ]
  },
  {
   "cell_type": "code",
   "execution_count": null,
   "id": "3646af8f",
   "metadata": {},
   "outputs": [],
   "source": []
  }
 ],
 "metadata": {
  "kernelspec": {
   "display_name": "Python 3 (ipykernel)",
   "language": "python",
   "name": "python3"
  },
  "language_info": {
   "codemirror_mode": {
    "name": "ipython",
    "version": 3
   },
   "file_extension": ".py",
   "mimetype": "text/x-python",
   "name": "python",
   "nbconvert_exporter": "python",
   "pygments_lexer": "ipython3",
   "version": "3.9.13"
  },
  "nbTranslate": {
   "displayLangs": [
    "*"
   ],
   "hotkey": "alt-t",
   "langInMainMenu": true,
   "sourceLang": "en",
   "targetLang": "fr",
   "useGoogleTranslate": true
  },
  "toc": {
   "base_numbering": 1,
   "nav_menu": {},
   "number_sections": true,
   "sideBar": true,
   "skip_h1_title": false,
   "title_cell": "Table of Contents",
   "title_sidebar": "Contents",
   "toc_cell": false,
   "toc_position": {},
   "toc_section_display": true,
   "toc_window_display": false
  }
 },
 "nbformat": 4,
 "nbformat_minor": 5
}
