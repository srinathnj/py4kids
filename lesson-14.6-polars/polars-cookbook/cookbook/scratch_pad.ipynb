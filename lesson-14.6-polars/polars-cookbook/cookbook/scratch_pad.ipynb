{
 "cells": [
  {
   "cell_type": "code",
   "execution_count": 7,
   "id": "45b03917",
   "metadata": {},
   "outputs": [],
   "source": [
    "import pandas as pd\n",
    "import polars as pl\n",
    "from pathlib import Path\n",
    "import os.path"
   ]
  },
  {
   "cell_type": "markdown",
   "id": "55e12a54",
   "metadata": {},
   "source": [
    "## multiply df"
   ]
  },
  {
   "cell_type": "code",
   "execution_count": 8,
   "id": "9e550667",
   "metadata": {},
   "outputs": [],
   "source": [
    "def read_data(lib, datafile, dataset, *args, **kwargs):\n",
    "    df = None\n",
    "    if not Path(datafile).exists():\n",
    "        print(f\"[Error] read_data(): datafile {datafile} not found\")\n",
    "        return df\n",
    "\n",
    "    if datafile.endswith(\"csv\") or datafile.endswith(\"csv.gz\"):\n",
    "        if lib == \"pandas\":\n",
    "            df = pd.read_csv(datafile)\n",
    "        elif lib == \"polars\":\n",
    "            df = pl.read_csv(datafile)\n",
    "    elif datafile.endswith(\"parquet\"):\n",
    "        if lib == \"pandas\":\n",
    "            df = pd.read_parquet(datafile, engine='pyarrow')\n",
    "        elif lib == \"polars\":\n",
    "            df = pl.read_parquet(datafile)\n",
    "    return df"
   ]
  },
  {
   "cell_type": "code",
   "execution_count": 42,
   "id": "ea9ff36b",
   "metadata": {},
   "outputs": [],
   "source": [
    "def df_multiply_by_n(lib, df, n_factor):\n",
    "    \"\"\"\n",
    "    Expand df rows by n_factor\n",
    "    \"\"\"\n",
    "    if lib not in [\"pandas\", \"polars\"] or df is None:\n",
    "        return None\n",
    "    \n",
    "    df_list = []\n",
    "    for i in range(n_factor):\n",
    "        df_list.append(df)\n",
    "    if lib == \"pandas\":\n",
    "        return pd.concat(df_list, ignore_index=True)\n",
    "    elif lib == \"polars\":\n",
    "        return pl.concat(df_list)"
   ]
  },
  {
   "cell_type": "code",
   "execution_count": 10,
   "id": "14edc2ad",
   "metadata": {},
   "outputs": [],
   "source": [
    "file_in = \"../data/uber-ride/polars/train.parquet\""
   ]
  },
  {
   "cell_type": "code",
   "execution_count": 11,
   "id": "d672ca22",
   "metadata": {},
   "outputs": [],
   "source": [
    "df = read_data(\"pandas\", datafile=file_in, dataset=\"\")"
   ]
  },
  {
   "cell_type": "code",
   "execution_count": 12,
   "id": "95623842",
   "metadata": {},
   "outputs": [
    {
     "data": {
      "text/plain": [
       "(701732, 11)"
      ]
     },
     "execution_count": 12,
     "metadata": {},
     "output_type": "execute_result"
    }
   ],
   "source": [
    "df.shape"
   ]
  },
  {
   "cell_type": "code",
   "execution_count": 29,
   "id": "754a4737",
   "metadata": {},
   "outputs": [],
   "source": [
    "df_new = df_multiply_by_n(\"pandas\", df, n_factor=2)"
   ]
  },
  {
   "cell_type": "code",
   "execution_count": 30,
   "id": "22620f37",
   "metadata": {},
   "outputs": [
    {
     "data": {
      "text/plain": [
       "(1403464, 11)"
      ]
     },
     "execution_count": 30,
     "metadata": {},
     "output_type": "execute_result"
    }
   ],
   "source": [
    "df_new.shape"
   ]
  },
  {
   "cell_type": "code",
   "execution_count": 31,
   "id": "6f08f7f1",
   "metadata": {},
   "outputs": [
    {
     "data": {
      "text/html": [
       "<div>\n",
       "<style scoped>\n",
       "    .dataframe tbody tr th:only-of-type {\n",
       "        vertical-align: middle;\n",
       "    }\n",
       "\n",
       "    .dataframe tbody tr th {\n",
       "        vertical-align: top;\n",
       "    }\n",
       "\n",
       "    .dataframe thead th {\n",
       "        text-align: right;\n",
       "    }\n",
       "</style>\n",
       "<table border=\"1\" class=\"dataframe\">\n",
       "  <thead>\n",
       "    <tr style=\"text-align: right;\">\n",
       "      <th></th>\n",
       "      <th>id</th>\n",
       "      <th>vendor_id</th>\n",
       "      <th>pickup_datetime</th>\n",
       "      <th>dropoff_datetime</th>\n",
       "      <th>passenger_count</th>\n",
       "      <th>pickup_longitude</th>\n",
       "      <th>pickup_latitude</th>\n",
       "      <th>dropoff_longitude</th>\n",
       "      <th>dropoff_latitude</th>\n",
       "      <th>store_and_fwd_flag</th>\n",
       "      <th>trip_duration</th>\n",
       "    </tr>\n",
       "  </thead>\n",
       "  <tbody>\n",
       "    <tr>\n",
       "      <th>1403459</th>\n",
       "      <td>id2319974</td>\n",
       "      <td>1</td>\n",
       "      <td>2016-03-19 20:36:59</td>\n",
       "      <td>2016-03-19 20:45:33</td>\n",
       "      <td>1</td>\n",
       "      <td>-73.970490</td>\n",
       "      <td>40.764458</td>\n",
       "      <td>-73.966064</td>\n",
       "      <td>40.754681</td>\n",
       "      <td>N</td>\n",
       "      <td>514</td>\n",
       "    </tr>\n",
       "    <tr>\n",
       "      <th>1403460</th>\n",
       "      <td>id1646709</td>\n",
       "      <td>2</td>\n",
       "      <td>2016-05-01 20:21:02</td>\n",
       "      <td>2016-05-01 20:34:51</td>\n",
       "      <td>1</td>\n",
       "      <td>-73.981949</td>\n",
       "      <td>40.749031</td>\n",
       "      <td>-73.984261</td>\n",
       "      <td>40.726391</td>\n",
       "      <td>N</td>\n",
       "      <td>829</td>\n",
       "    </tr>\n",
       "    <tr>\n",
       "      <th>1403461</th>\n",
       "      <td>id1383104</td>\n",
       "      <td>1</td>\n",
       "      <td>2016-02-15 15:51:34</td>\n",
       "      <td>2016-02-15 15:54:56</td>\n",
       "      <td>1</td>\n",
       "      <td>-73.976730</td>\n",
       "      <td>40.775352</td>\n",
       "      <td>-73.980103</td>\n",
       "      <td>40.780758</td>\n",
       "      <td>N</td>\n",
       "      <td>202</td>\n",
       "    </tr>\n",
       "    <tr>\n",
       "      <th>1403462</th>\n",
       "      <td>id2480124</td>\n",
       "      <td>2</td>\n",
       "      <td>2016-02-22 03:05:02</td>\n",
       "      <td>2016-02-22 03:12:44</td>\n",
       "      <td>1</td>\n",
       "      <td>-73.988770</td>\n",
       "      <td>40.722439</td>\n",
       "      <td>-74.008186</td>\n",
       "      <td>40.711529</td>\n",
       "      <td>N</td>\n",
       "      <td>462</td>\n",
       "    </tr>\n",
       "    <tr>\n",
       "      <th>1403463</th>\n",
       "      <td>id3026337</td>\n",
       "      <td>1</td>\n",
       "      <td>2016-04-17 17:00:03</td>\n",
       "      <td>2016-04-17 17:07:09</td>\n",
       "      <td>1</td>\n",
       "      <td>-73.982590</td>\n",
       "      <td>40.782562</td>\n",
       "      <td>-73.970024</td>\n",
       "      <td>40.799515</td>\n",
       "      <td>N</td>\n",
       "      <td>426</td>\n",
       "    </tr>\n",
       "  </tbody>\n",
       "</table>\n",
       "</div>"
      ],
      "text/plain": [
       "                id  vendor_id      pickup_datetime     dropoff_datetime  \\\n",
       "1403459  id2319974          1  2016-03-19 20:36:59  2016-03-19 20:45:33   \n",
       "1403460  id1646709          2  2016-05-01 20:21:02  2016-05-01 20:34:51   \n",
       "1403461  id1383104          1  2016-02-15 15:51:34  2016-02-15 15:54:56   \n",
       "1403462  id2480124          2  2016-02-22 03:05:02  2016-02-22 03:12:44   \n",
       "1403463  id3026337          1  2016-04-17 17:00:03  2016-04-17 17:07:09   \n",
       "\n",
       "         passenger_count  pickup_longitude  pickup_latitude  \\\n",
       "1403459                1        -73.970490        40.764458   \n",
       "1403460                1        -73.981949        40.749031   \n",
       "1403461                1        -73.976730        40.775352   \n",
       "1403462                1        -73.988770        40.722439   \n",
       "1403463                1        -73.982590        40.782562   \n",
       "\n",
       "         dropoff_longitude  dropoff_latitude store_and_fwd_flag  trip_duration  \n",
       "1403459         -73.966064         40.754681                  N            514  \n",
       "1403460         -73.984261         40.726391                  N            829  \n",
       "1403461         -73.980103         40.780758                  N            202  \n",
       "1403462         -74.008186         40.711529                  N            462  \n",
       "1403463         -73.970024         40.799515                  N            426  "
      ]
     },
     "execution_count": 31,
     "metadata": {},
     "output_type": "execute_result"
    }
   ],
   "source": [
    "df_new.tail()"
   ]
  },
  {
   "cell_type": "code",
   "execution_count": 43,
   "id": "1a20cf98",
   "metadata": {},
   "outputs": [
    {
     "data": {
      "text/plain": [
       "((1403464, 11), (701732, 11))"
      ]
     },
     "execution_count": 43,
     "metadata": {},
     "output_type": "execute_result"
    }
   ],
   "source": [
    "lib = \"polars\"\n",
    "df = read_data(lib, datafile=file_in, dataset=\"\")\n",
    "df_tmp = df_multiply_by_n(lib, df, n_factor=2)\n",
    "\n",
    "df_tmp.shape, df.shape"
   ]
  },
  {
   "cell_type": "code",
   "execution_count": 44,
   "id": "b683458d",
   "metadata": {},
   "outputs": [
    {
     "data": {
      "text/plain": [
       "((1403464, 11), (701732, 11))"
      ]
     },
     "execution_count": 44,
     "metadata": {},
     "output_type": "execute_result"
    }
   ],
   "source": [
    "lib = \"pandas\"\n",
    "df = read_data(lib, datafile=file_in, dataset=\"\")\n",
    "df_tmp = df_multiply_by_n(lib, df, n_factor=2)\n",
    "\n",
    "df_tmp.shape, df.shape"
   ]
  },
  {
   "cell_type": "code",
   "execution_count": null,
   "id": "8d1b7744",
   "metadata": {},
   "outputs": [],
   "source": []
  },
  {
   "cell_type": "code",
   "execution_count": null,
   "id": "b7f87f05",
   "metadata": {},
   "outputs": [],
   "source": []
  },
  {
   "cell_type": "code",
   "execution_count": 34,
   "id": "89affe25",
   "metadata": {},
   "outputs": [],
   "source": [
    "df1 = pl.DataFrame({\"a\": [1], \"b\": [3]})\n",
    "df2 = pl.DataFrame({\"a\": [2], \"b\": [4]})\n",
    "df12 = pl.concat([df1, df2])"
   ]
  },
  {
   "cell_type": "code",
   "execution_count": 35,
   "id": "8b0175e6",
   "metadata": {},
   "outputs": [
    {
     "data": {
      "text/html": [
       "<div>\n",
       "<style scoped>\n",
       "    .dataframe tbody tr th:only-of-type {\n",
       "        vertical-align: middle;\n",
       "    }\n",
       "\n",
       "    .dataframe tbody tr th {\n",
       "        vertical-align: top;\n",
       "    }\n",
       "\n",
       "    .dataframe thead th {\n",
       "        text-align: right;\n",
       "    }\n",
       "\n",
       "    .dataframe td {\n",
       "        white-space: pre;\n",
       "    }\n",
       "\n",
       "    .dataframe td {\n",
       "        padding-top: 0;\n",
       "    }\n",
       "\n",
       "    .dataframe td {\n",
       "        padding-bottom: 0;\n",
       "    }\n",
       "\n",
       "    .dataframe td {\n",
       "        line-height: 95%;\n",
       "    }\n",
       "</style>\n",
       "<table border=\"1\" class=\"dataframe\">\n",
       "<small>shape: (2, 2)</small>\n",
       "<thead>\n",
       "<tr>\n",
       "<th>\n",
       "a\n",
       "</th>\n",
       "<th>\n",
       "b\n",
       "</th>\n",
       "</tr>\n",
       "<tr>\n",
       "<td>\n",
       "i64\n",
       "</td>\n",
       "<td>\n",
       "i64\n",
       "</td>\n",
       "</tr>\n",
       "</thead>\n",
       "<tbody>\n",
       "<tr>\n",
       "<td>\n",
       "1\n",
       "</td>\n",
       "<td>\n",
       "3\n",
       "</td>\n",
       "</tr>\n",
       "<tr>\n",
       "<td>\n",
       "2\n",
       "</td>\n",
       "<td>\n",
       "4\n",
       "</td>\n",
       "</tr>\n",
       "</tbody>\n",
       "</table>\n",
       "</div>"
      ],
      "text/plain": [
       "shape: (2, 2)\n",
       "┌─────┬─────┐\n",
       "│ a   ┆ b   │\n",
       "│ --- ┆ --- │\n",
       "│ i64 ┆ i64 │\n",
       "╞═════╪═════╡\n",
       "│ 1   ┆ 3   │\n",
       "│ 2   ┆ 4   │\n",
       "└─────┴─────┘"
      ]
     },
     "execution_count": 35,
     "metadata": {},
     "output_type": "execute_result"
    }
   ],
   "source": [
    "df12"
   ]
  },
  {
   "cell_type": "code",
   "execution_count": 27,
   "id": "03b1bb41",
   "metadata": {},
   "outputs": [
    {
     "ename": "AttributeError",
     "evalue": "'DataFrame' object has no attribute 'copy'",
     "output_type": "error",
     "traceback": [
      "\u001b[1;31m---------------------------------------------------------------------------\u001b[0m",
      "\u001b[1;31mAttributeError\u001b[0m                            Traceback (most recent call last)",
      "\u001b[1;32m~\\AppData\\Local\\Temp\\ipykernel_15252\\1442671479.py\u001b[0m in \u001b[0;36m<module>\u001b[1;34m\u001b[0m\n\u001b[1;32m----> 1\u001b[1;33m \u001b[0mdf1_copy\u001b[0m \u001b[1;33m=\u001b[0m \u001b[0mdf1\u001b[0m\u001b[1;33m.\u001b[0m\u001b[0mcopy\u001b[0m\u001b[1;33m(\u001b[0m\u001b[1;33m)\u001b[0m\u001b[1;33m\u001b[0m\u001b[1;33m\u001b[0m\u001b[0m\n\u001b[0m",
      "\u001b[1;31mAttributeError\u001b[0m: 'DataFrame' object has no attribute 'copy'"
     ]
    }
   ],
   "source": [
    "df1_copy = df1.copy()"
   ]
  },
  {
   "cell_type": "code",
   "execution_count": null,
   "id": "1135cb98",
   "metadata": {},
   "outputs": [],
   "source": []
  },
  {
   "cell_type": "markdown",
   "id": "706fa5ed",
   "metadata": {},
   "source": [
    "## print_results_table"
   ]
  },
  {
   "cell_type": "code",
   "execution_count": 1,
   "id": "22e7179a",
   "metadata": {},
   "outputs": [
    {
     "data": {
      "text/plain": [
       "38"
      ]
     },
     "execution_count": 1,
     "metadata": {},
     "output_type": "execute_result"
    }
   ],
   "source": [
    "s = \"../data/uber-ride/polars/train.parquet\"\n",
    "len(s)"
   ]
  },
  {
   "cell_type": "code",
   "execution_count": 1,
   "id": "37a001dc",
   "metadata": {},
   "outputs": [
    {
     "data": {
      "text/plain": [
       "38"
      ]
     },
     "execution_count": 1,
     "metadata": {},
     "output_type": "execute_result"
    }
   ],
   "source": [
    "s = \"../data/uber-ride/polars/train.parquet\"\n",
    "len(s)"
   ]
  },
  {
   "cell_type": "code",
   "execution_count": 17,
   "id": "f70bf8db",
   "metadata": {},
   "outputs": [],
   "source": [
    "def pad_str(s, width=20, align=\"center\", pad_ch=' '):\n",
    "    len_s = len(s)\n",
    "    if len_s > width:\n",
    "        return s[:width]\n",
    "    \n",
    "    pad = (width-len_s)*pad_ch\n",
    "    if align == \"center\":\n",
    "        left = int((width - len_s)/2)*pad_ch\n",
    "        right = (width - len(left) - len_s)*pad_ch\n",
    "        s2 = f\"{left}{s}{right}\"\n",
    "    elif align == \"right\":\n",
    "        s2 = f\"{pad}{s}\"\n",
    "    else:\n",
    "        s2 = f\"{s}{pad}\"\n",
    "    return s2"
   ]
  },
  {
   "cell_type": "code",
   "execution_count": 21,
   "id": "21b8c67f",
   "metadata": {},
   "outputs": [
    {
     "name": "stdout",
     "output_type": "stream",
     "text": [
      "'     hello     '\n",
      "'hello          '\n",
      "'          hello'\n"
     ]
    }
   ],
   "source": [
    "x = pad_str(\"hello\", 15)\n",
    "print(\"'\" + x + \"'\")\n",
    "\n",
    "x = pad_str(\"hello\", 15, align=\"left\")\n",
    "print(\"'\" + x + \"'\")\n",
    "\n",
    "x = pad_str(\"hello\", 15, align=\"right\")\n",
    "print(\"'\" + x + \"'\")"
   ]
  },
  {
   "cell_type": "code",
   "execution_count": 22,
   "id": "75657083",
   "metadata": {},
   "outputs": [
    {
     "name": "stdout",
     "output_type": "stream",
     "text": [
      "'=====hello====='\n",
      "'hello=========='\n",
      "'==========hello'\n"
     ]
    }
   ],
   "source": [
    "x = pad_str(\"hello\", 15, pad_ch='=')\n",
    "print(\"'\" + x + \"'\")\n",
    "\n",
    "x = pad_str(\"hello\", 15, pad_ch='=', align=\"left\")\n",
    "print(\"'\" + x + \"'\")\n",
    "\n",
    "x = pad_str(\"hello\", 15, pad_ch='=', align=\"right\")\n",
    "print(\"'\" + x + \"'\")"
   ]
  },
  {
   "cell_type": "code",
   "execution_count": 23,
   "id": "56f25525",
   "metadata": {},
   "outputs": [],
   "source": [
    "COL_WIDTH = {\n",
    "    \"pandas\": 15,\n",
    "    \"polars\": 15,\n",
    "    \"use-case\": 52,\n",
    "    \"datafile\": 50,\n",
    "    \"dataset\": 15,\n",
    "}"
   ]
  },
  {
   "cell_type": "code",
   "execution_count": 24,
   "id": "9d3e2f76",
   "metadata": {},
   "outputs": [
    {
     "name": "stdout",
     "output_type": "stream",
     "text": [
      "    pandas      |     polars      |                       use-case                       |                      datafile                      |     dataset    \n"
     ]
    }
   ],
   "source": [
    "fmt_strs = []\n",
    "for c in COL_WIDTH.keys():\n",
    "    fmt_strs.append(pad_str(c, width=COL_WIDTH[c], align=\"center\", pad_ch=' '))\n",
    "print(\" | \".join(fmt_strs))"
   ]
  },
  {
   "cell_type": "code",
   "execution_count": 25,
   "id": "19bded20",
   "metadata": {},
   "outputs": [
    {
     "name": "stdout",
     "output_type": "stream",
     "text": [
      "=============== | =============== | ==================================================== | ================================================== | ===============\n"
     ]
    }
   ],
   "source": [
    "fmt_strs = []\n",
    "for c in COL_WIDTH.keys():\n",
    "    fmt_strs.append(pad_str(\"=\", width=COL_WIDTH[c], align=\"center\", pad_ch='='))\n",
    "print(\" | \".join(fmt_strs))"
   ]
  },
  {
   "cell_type": "code",
   "execution_count": 27,
   "id": "11dacb91",
   "metadata": {},
   "outputs": [
    {
     "name": "stdout",
     "output_type": "stream",
     "text": [
      "pandas          | polars          | use-case                                             | datafile                                           | dataset        \n"
     ]
    }
   ],
   "source": [
    "fmt_strs = []\n",
    "for c in COL_WIDTH.keys():\n",
    "    fmt_strs.append(pad_str(c, width=COL_WIDTH[c], align=\"left\", pad_ch=' '))\n",
    "print(\" | \".join(fmt_strs))"
   ]
  },
  {
   "cell_type": "code",
   "execution_count": null,
   "id": "c842bfc9",
   "metadata": {},
   "outputs": [],
   "source": []
  }
 ],
 "metadata": {
  "kernelspec": {
   "display_name": "Python 3 (ipykernel)",
   "language": "python",
   "name": "python3"
  },
  "language_info": {
   "codemirror_mode": {
    "name": "ipython",
    "version": 3
   },
   "file_extension": ".py",
   "mimetype": "text/x-python",
   "name": "python",
   "nbconvert_exporter": "python",
   "pygments_lexer": "ipython3",
   "version": "3.9.13"
  }
 },
 "nbformat": 4,
 "nbformat_minor": 5
}
