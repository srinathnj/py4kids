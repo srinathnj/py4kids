{
 "cells": [
  {
   "cell_type": "code",
   "execution_count": 1,
   "id": "22e7179a",
   "metadata": {},
   "outputs": [
    {
     "data": {
      "text/plain": [
       "38"
      ]
     },
     "execution_count": 1,
     "metadata": {},
     "output_type": "execute_result"
    }
   ],
   "source": [
    "s = \"../data/uber-ride/polars/train.parquet\"\n",
    "len(s)"
   ]
  },
  {
   "cell_type": "code",
   "execution_count": 1,
   "id": "37a001dc",
   "metadata": {},
   "outputs": [
    {
     "data": {
      "text/plain": [
       "38"
      ]
     },
     "execution_count": 1,
     "metadata": {},
     "output_type": "execute_result"
    }
   ],
   "source": [
    "s = \"../data/uber-ride/polars/train.parquet\"\n",
    "len(s)"
   ]
  },
  {
   "cell_type": "code",
   "execution_count": 17,
   "id": "f70bf8db",
   "metadata": {},
   "outputs": [],
   "source": [
    "def pad_str(s, width=20, align=\"center\", pad_ch=' '):\n",
    "    len_s = len(s)\n",
    "    if len_s > width:\n",
    "        return s[:width]\n",
    "    \n",
    "    pad = (width-len_s)*pad_ch\n",
    "    if align == \"center\":\n",
    "        left = int((width - len_s)/2)*pad_ch\n",
    "        right = (width - len(left) - len_s)*pad_ch\n",
    "        s2 = f\"{left}{s}{right}\"\n",
    "    elif align == \"right\":\n",
    "        s2 = f\"{pad}{s}\"\n",
    "    else:\n",
    "        s2 = f\"{s}{pad}\"\n",
    "    return s2"
   ]
  },
  {
   "cell_type": "code",
   "execution_count": 21,
   "id": "21b8c67f",
   "metadata": {},
   "outputs": [
    {
     "name": "stdout",
     "output_type": "stream",
     "text": [
      "'     hello     '\n",
      "'hello          '\n",
      "'          hello'\n"
     ]
    }
   ],
   "source": [
    "x = pad_str(\"hello\", 15)\n",
    "print(\"'\" + x + \"'\")\n",
    "\n",
    "x = pad_str(\"hello\", 15, align=\"left\")\n",
    "print(\"'\" + x + \"'\")\n",
    "\n",
    "x = pad_str(\"hello\", 15, align=\"right\")\n",
    "print(\"'\" + x + \"'\")"
   ]
  },
  {
   "cell_type": "code",
   "execution_count": 22,
   "id": "75657083",
   "metadata": {},
   "outputs": [
    {
     "name": "stdout",
     "output_type": "stream",
     "text": [
      "'=====hello====='\n",
      "'hello=========='\n",
      "'==========hello'\n"
     ]
    }
   ],
   "source": [
    "x = pad_str(\"hello\", 15, pad_ch='=')\n",
    "print(\"'\" + x + \"'\")\n",
    "\n",
    "x = pad_str(\"hello\", 15, pad_ch='=', align=\"left\")\n",
    "print(\"'\" + x + \"'\")\n",
    "\n",
    "x = pad_str(\"hello\", 15, pad_ch='=', align=\"right\")\n",
    "print(\"'\" + x + \"'\")"
   ]
  },
  {
   "cell_type": "code",
   "execution_count": 23,
   "id": "56f25525",
   "metadata": {},
   "outputs": [],
   "source": [
    "COL_WIDTH = {\n",
    "    \"pandas\": 15,\n",
    "    \"polars\": 15,\n",
    "    \"use-case\": 52,\n",
    "    \"datafile\": 50,\n",
    "    \"dataset\": 15,\n",
    "}"
   ]
  },
  {
   "cell_type": "code",
   "execution_count": 24,
   "id": "9d3e2f76",
   "metadata": {},
   "outputs": [
    {
     "name": "stdout",
     "output_type": "stream",
     "text": [
      "    pandas      |     polars      |                       use-case                       |                      datafile                      |     dataset    \n"
     ]
    }
   ],
   "source": [
    "fmt_strs = []\n",
    "for c in COL_WIDTH.keys():\n",
    "    fmt_strs.append(pad_str(c, width=COL_WIDTH[c], align=\"center\", pad_ch=' '))\n",
    "print(\" | \".join(fmt_strs))"
   ]
  },
  {
   "cell_type": "code",
   "execution_count": 25,
   "id": "19bded20",
   "metadata": {},
   "outputs": [
    {
     "name": "stdout",
     "output_type": "stream",
     "text": [
      "=============== | =============== | ==================================================== | ================================================== | ===============\n"
     ]
    }
   ],
   "source": [
    "fmt_strs = []\n",
    "for c in COL_WIDTH.keys():\n",
    "    fmt_strs.append(pad_str(\"=\", width=COL_WIDTH[c], align=\"center\", pad_ch='='))\n",
    "print(\" | \".join(fmt_strs))"
   ]
  },
  {
   "cell_type": "code",
   "execution_count": 27,
   "id": "11dacb91",
   "metadata": {},
   "outputs": [
    {
     "name": "stdout",
     "output_type": "stream",
     "text": [
      "pandas          | polars          | use-case                                             | datafile                                           | dataset        \n"
     ]
    }
   ],
   "source": [
    "fmt_strs = []\n",
    "for c in COL_WIDTH.keys():\n",
    "    fmt_strs.append(pad_str(c, width=COL_WIDTH[c], align=\"left\", pad_ch=' '))\n",
    "print(\" | \".join(fmt_strs))"
   ]
  },
  {
   "cell_type": "code",
   "execution_count": null,
   "id": "c842bfc9",
   "metadata": {},
   "outputs": [],
   "source": []
  }
 ],
 "metadata": {
  "kernelspec": {
   "display_name": "Python 3 (ipykernel)",
   "language": "python",
   "name": "python3"
  },
  "language_info": {
   "codemirror_mode": {
    "name": "ipython",
    "version": 3
   },
   "file_extension": ".py",
   "mimetype": "text/x-python",
   "name": "python",
   "nbconvert_exporter": "python",
   "pygments_lexer": "ipython3",
   "version": "3.9.13"
  }
 },
 "nbformat": 4,
 "nbformat_minor": 5
}
