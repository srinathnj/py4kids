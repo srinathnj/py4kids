{
 "cells": [
  {
   "cell_type": "code",
   "execution_count": 2,
   "id": "f70b332e",
   "metadata": {},
   "outputs": [],
   "source": [
    "from pytube import YouTube , Playlist"
   ]
  },
  {
   "cell_type": "markdown",
   "id": "65ba7373",
   "metadata": {},
   "source": [
    "https://pytube.io/en/latest/user/playlist.html#interacting-with-a-playlist"
   ]
  },
  {
   "cell_type": "code",
   "execution_count": 3,
   "id": "c2fb22f4",
   "metadata": {},
   "outputs": [],
   "source": [
    "plist_url = \"https://www.youtube.com/playlist?list=PLUvdvcyThWYwdKi_mPK_pw5pzh4R0EPZZ\"\n",
    "p = Playlist(plist_url)"
   ]
  },
  {
   "cell_type": "code",
   "execution_count": 4,
   "id": "41d87283",
   "metadata": {},
   "outputs": [
    {
     "name": "stdout",
     "output_type": "stream",
     "text": [
      "Downloading: Spanish/English/Chinese Class\n"
     ]
    }
   ],
   "source": [
    "print(f'Downloading: {p.title}')"
   ]
  },
  {
   "cell_type": "code",
   "execution_count": 6,
   "id": "eaf633e9",
   "metadata": {},
   "outputs": [
    {
     "name": "stdout",
     "output_type": "stream",
     "text": [
      "https://www.youtube.com/watch?v=2x_81ZeahH4\n",
      "https://www.youtube.com/watch?v=SAiZ7LE2D2E\n",
      "https://www.youtube.com/watch?v=Ngnwj8lUgJw\n",
      "https://www.youtube.com/watch?v=4jL0L8YZjO8\n",
      "https://www.youtube.com/watch?v=ZL43dW-dcXI\n",
      "https://www.youtube.com/watch?v=bdngYBIgt-g\n",
      "https://www.youtube.com/watch?v=xrs2C4sz4xw\n",
      "https://www.youtube.com/watch?v=Iw_M0Ts24Ns\n",
      "https://www.youtube.com/watch?v=a7ezvwTX9Ng\n",
      "https://www.youtube.com/watch?v=Yb2GV1DAAsY\n",
      "https://www.youtube.com/watch?v=CBHYG8JqNGs\n",
      "https://www.youtube.com/watch?v=xU98aoGCc7E\n",
      "https://www.youtube.com/watch?v=CzHtMyGI_wY\n",
      "https://www.youtube.com/watch?v=Q3RCOrpPsu0\n",
      "https://www.youtube.com/watch?v=UPS7Hsn3PuE\n",
      "https://www.youtube.com/watch?v=7p-hHGMAJy8\n",
      "https://www.youtube.com/watch?v=-hnnhBknXYs\n",
      "https://www.youtube.com/watch?v=49lyXCzb3QU\n",
      "https://www.youtube.com/watch?v=kpRKIhn9fIo\n",
      "https://www.youtube.com/watch?v=El4cz9V6Ra0\n",
      "https://www.youtube.com/watch?v=D8D3gg3zO1Q\n",
      "https://www.youtube.com/watch?v=-2lGItyu50o\n",
      "https://www.youtube.com/watch?v=qXnU0iWkrFs\n",
      "https://www.youtube.com/watch?v=BcD9CV69nqs\n",
      "https://www.youtube.com/watch?v=IgFXfjMsf1o\n",
      "https://www.youtube.com/watch?v=uTmRO61MTCM\n",
      "https://www.youtube.com/watch?v=raY6acTFq04\n",
      "https://www.youtube.com/watch?v=5LWIInBTaAs\n",
      "https://www.youtube.com/watch?v=vfb4339eyJE\n",
      "https://www.youtube.com/watch?v=SiXHhs3e-_4\n",
      "https://www.youtube.com/watch?v=iWKE7J3nawU\n",
      "https://www.youtube.com/watch?v=27ySSZ2C7LA\n",
      "https://www.youtube.com/watch?v=QomPchEP1HQ\n",
      "https://www.youtube.com/watch?v=lE7mwL8gxyU\n",
      "https://www.youtube.com/watch?v=45jicPFMlYo\n",
      "https://www.youtube.com/watch?v=vjUszF7eAiY\n",
      "https://www.youtube.com/watch?v=9UHULlBjhJk\n",
      "https://www.youtube.com/watch?v=XXepLwKVtNc\n",
      "https://www.youtube.com/watch?v=a_iKV7zSBqo\n"
     ]
    }
   ],
   "source": [
    "for url in p.video_urls:\n",
    "    print(url)"
   ]
  },
  {
   "cell_type": "code",
   "execution_count": null,
   "id": "63602ccb",
   "metadata": {},
   "outputs": [],
   "source": []
  }
 ],
 "metadata": {
  "kernelspec": {
   "display_name": "Python 3 (ipykernel)",
   "language": "python",
   "name": "python3"
  },
  "language_info": {
   "codemirror_mode": {
    "name": "ipython",
    "version": 3
   },
   "file_extension": ".py",
   "mimetype": "text/x-python",
   "name": "python",
   "nbconvert_exporter": "python",
   "pygments_lexer": "ipython3",
   "version": "3.9.13"
  },
  "nbTranslate": {
   "displayLangs": [
    "*"
   ],
   "hotkey": "alt-t",
   "langInMainMenu": true,
   "sourceLang": "en",
   "targetLang": "fr",
   "useGoogleTranslate": true
  },
  "toc": {
   "base_numbering": 1,
   "nav_menu": {},
   "number_sections": true,
   "sideBar": true,
   "skip_h1_title": false,
   "title_cell": "Table of Contents",
   "title_sidebar": "Contents",
   "toc_cell": false,
   "toc_position": {},
   "toc_section_display": true,
   "toc_window_display": false
  }
 },
 "nbformat": 4,
 "nbformat_minor": 5
}
