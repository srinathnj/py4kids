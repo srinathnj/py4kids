{
 "cells": [
  {
   "cell_type": "markdown",
   "id": "0f4de06d",
   "metadata": {},
   "source": [
    "[Top Free Text-to-speech (TTS) libraries](https://ulife.ai/stories/top-free-text-to-speech-tts-libraries-for-python)\n",
    "\n",
    "- use gTTS\n",
    "- pyttsx3 less quality"
   ]
  },
  {
   "cell_type": "markdown",
   "id": "9dc5ffce",
   "metadata": {},
   "source": [
    "## gTTS\n",
    "\n",
    "- [docs](https://gtts.readthedocs.io/en/latest/)\n",
    "- [Using a text-to-speech API for Python: A comprehensive tutorial](https://speechify.com/blog/using-text-to-speech-api-for-python/)"
   ]
  },
  {
   "cell_type": "code",
   "execution_count": 1,
   "id": "6b50e5f4",
   "metadata": {},
   "outputs": [
    {
     "name": "stdout",
     "output_type": "stream",
     "text": [
      "Requirement already satisfied: gTTS in c:\\users\\p2p2l\\anaconda3\\lib\\site-packages (2.3.2)\n",
      "Requirement already satisfied: requests<3,>=2.27 in c:\\users\\p2p2l\\anaconda3\\lib\\site-packages (from gTTS) (2.31.0)\n",
      "Requirement already satisfied: click<8.2,>=7.1 in c:\\users\\p2p2l\\anaconda3\\lib\\site-packages (from gTTS) (8.1.7)\n",
      "Requirement already satisfied: colorama in c:\\users\\p2p2l\\anaconda3\\lib\\site-packages (from click<8.2,>=7.1->gTTS) (0.4.4)\n",
      "Requirement already satisfied: charset-normalizer<4,>=2 in c:\\users\\p2p2l\\anaconda3\\lib\\site-packages (from requests<3,>=2.27->gTTS) (2.0.4)\n",
      "Requirement already satisfied: idna<4,>=2.5 in c:\\users\\p2p2l\\anaconda3\\lib\\site-packages (from requests<3,>=2.27->gTTS) (2.10)\n",
      "Requirement already satisfied: urllib3<3,>=1.21.1 in c:\\users\\p2p2l\\anaconda3\\lib\\site-packages (from requests<3,>=2.27->gTTS) (1.26.18)\n",
      "Requirement already satisfied: certifi>=2017.4.17 in c:\\users\\p2p2l\\anaconda3\\lib\\site-packages (from requests<3,>=2.27->gTTS) (2022.9.14)\n"
     ]
    },
    {
     "name": "stderr",
     "output_type": "stream",
     "text": [
      "WARNING: Ignoring invalid distribution - (c:\\users\\p2p2l\\anaconda3\\lib\\site-packages)\n",
      "WARNING: Ignoring invalid distribution -illow (c:\\users\\p2p2l\\anaconda3\\lib\\site-packages)\n",
      "WARNING: Ignoring invalid distribution -radio (c:\\users\\p2p2l\\anaconda3\\lib\\site-packages)\n",
      "WARNING: Ignoring invalid distribution -rotobuf (c:\\users\\p2p2l\\anaconda3\\lib\\site-packages)\n",
      "WARNING: Ignoring invalid distribution -treamlit (c:\\users\\p2p2l\\anaconda3\\lib\\site-packages)\n",
      "WARNING: Ignoring invalid distribution - (c:\\users\\p2p2l\\anaconda3\\lib\\site-packages)\n",
      "WARNING: Ignoring invalid distribution -illow (c:\\users\\p2p2l\\anaconda3\\lib\\site-packages)\n",
      "WARNING: Ignoring invalid distribution -radio (c:\\users\\p2p2l\\anaconda3\\lib\\site-packages)\n",
      "WARNING: Ignoring invalid distribution -rotobuf (c:\\users\\p2p2l\\anaconda3\\lib\\site-packages)\n",
      "WARNING: Ignoring invalid distribution -treamlit (c:\\users\\p2p2l\\anaconda3\\lib\\site-packages)\n"
     ]
    }
   ],
   "source": [
    "!pip install gTTS"
   ]
  },
  {
   "cell_type": "code",
   "execution_count": 34,
   "id": "e4c637a2",
   "metadata": {},
   "outputs": [],
   "source": [
    "from gtts import gTTS\n",
    "from IPython.display import Audio\n",
    "file_mp3=\"speech.mp3\""
   ]
  },
  {
   "cell_type": "code",
   "execution_count": 42,
   "id": "a84152b5-e3cf-425e-ab76-963a6bb7f684",
   "metadata": {},
   "outputs": [
    {
     "name": "stdout",
     "output_type": "stream",
     "text": [
      "{'af': 'Afrikaans', 'ar': 'Arabic', 'bg': 'Bulgarian', 'bn': 'Bengali', 'bs': 'Bosnian', 'ca': 'Catalan', 'cs': 'Czech', 'da': 'Danish', 'de': 'German', 'el': 'Greek', 'en': 'English', 'es': 'Spanish', 'et': 'Estonian', 'fi': 'Finnish', 'fr': 'French', 'gu': 'Gujarati', 'hi': 'Hindi', 'hr': 'Croatian', 'hu': 'Hungarian', 'id': 'Indonesian', 'is': 'Icelandic', 'it': 'Italian', 'iw': 'Hebrew', 'ja': 'Japanese', 'jw': 'Javanese', 'km': 'Khmer', 'kn': 'Kannada', 'ko': 'Korean', 'la': 'Latin', 'lv': 'Latvian', 'ml': 'Malayalam', 'mr': 'Marathi', 'ms': 'Malay', 'my': 'Myanmar (Burmese)', 'ne': 'Nepali', 'nl': 'Dutch', 'no': 'Norwegian', 'pl': 'Polish', 'pt': 'Portuguese', 'ro': 'Romanian', 'ru': 'Russian', 'si': 'Sinhala', 'sk': 'Slovak', 'sq': 'Albanian', 'sr': 'Serbian', 'su': 'Sundanese', 'sv': 'Swedish', 'sw': 'Swahili', 'ta': 'Tamil', 'te': 'Telugu', 'th': 'Thai', 'tl': 'Filipino', 'tr': 'Turkish', 'uk': 'Ukrainian', 'ur': 'Urdu', 'vi': 'Vietnamese', 'zh-CN': 'Chinese (Simplified)', 'zh-TW': 'Chinese (Mandarin/Taiwan)', 'zh': 'Chinese (Mandarin)'}\n"
     ]
    }
   ],
   "source": [
    "import gtts\n",
    "print(gtts.lang.tts_langs())"
   ]
  },
  {
   "cell_type": "code",
   "execution_count": 50,
   "id": "a45ed67c-72d0-464b-8f57-2f8f6a92209c",
   "metadata": {},
   "outputs": [],
   "source": [
    "def save_lang_dict(input_dict={}, file_csv=None):\n",
    "    if not input_dict: return\n",
    "        \n",
    "    sorted_codes = sorted(list(input_dict.keys()))\n",
    "    with open(file_csv, \"w\") as f:\n",
    "        f.write(f\"code, name\\n\")\n",
    "        for k in sorted_codes:\n",
    "            v = input_dict[k]\n",
    "            f.write(f\"{k}, {v}\\n\")\n",
    "\n",
    "save_lang_dict(input_dict=gtts.lang.tts_langs(), file_csv=\"gtts_langs.csv\")"
   ]
  },
  {
   "cell_type": "code",
   "execution_count": 38,
   "id": "9cc5f65c",
   "metadata": {},
   "outputs": [
    {
     "data": {
      "text/html": [
       "\n",
       "                <audio  controls=\"controls\" >\n",
       "                    <source src=\"data:audio/mpeg;base64,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\" type=\"audio/mpeg\" />\n",
       "                    Your browser does not support the audio element.\n",
       "                </audio>\n",
       "              "
      ],
      "text/plain": [
       "<IPython.lib.display.Audio object>"
      ]
     },
     "execution_count": 38,
     "metadata": {},
     "output_type": "execute_result"
    }
   ],
   "source": [
    "txt = \"Hello this is a normal text and i am a python package.\"\n",
    "tts = gTTS(txt, lang=\"en\", slow=False, lang_check=False)\n",
    "tts.save(file_mp3)\n",
    "Audio(file_mp3)"
   ]
  },
  {
   "cell_type": "code",
   "execution_count": 48,
   "id": "7b812362-e933-47d7-9949-5678b92e4336",
   "metadata": {},
   "outputs": [
    {
     "data": {
      "text/html": [
       "\n",
       "                <audio  controls=\"controls\" >\n",
       "                    <source src=\"data:audio/mpeg;base64,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\" type=\"audio/mpeg\" />\n",
       "                    Your browser does not support the audio element.\n",
       "                </audio>\n",
       "              "
      ],
      "text/plain": [
       "<IPython.lib.display.Audio object>"
      ]
     },
     "execution_count": 48,
     "metadata": {},
     "output_type": "execute_result"
    }
   ],
   "source": [
    "txt = \"你好，这是一个普通的文本，我是一个 python 包, Can you teach me Chinese? 你能教我中文吗 \"\n",
    "tts = gTTS(txt, lang=\"zh\")  # lang=zh also speaks English\n",
    "tts.save(file_mp3)\n",
    "Audio(file_mp3)"
   ]
  },
  {
   "cell_type": "markdown",
   "id": "abd9448f",
   "metadata": {},
   "source": [
    "## pyttsx3 - Text-to-Speech (depends on espeak)\n",
    "\n",
    "pyttsx3 is a Python text-to-speech (TTS) library that allows you to convert text to speech using a range of TTS engines, including the Microsoft Text-to-Speech API, the Festival, and the eSpeak TTS engine. pyttsx3 is designed to be easy to use and provides a range of options for controlling speech output.\n",
    "\n",
    "\n",
    "https://pypi.org/project/pyttsx3/\n",
    "\n",
    "- [How to Install FFmpeg on Ubuntu 22.04](https://gcore.com/learning/how-to-install-ffmpeg-on-ubuntu/)\n",
    "\n",
    "FFmpeg is a comprehensive, open-source software solution proficient in managing a vast array of video, audio, and other multimedia files and streams. Known for its versatility, FFmpeg equips you with the tools to convert media files across numerous formats, stream multimedia content over networks, and even capture and record media. A cornerstone in the field of media processing, FFmpeg supports an abundance of codecs and formats, enabling you to handle media processing tasks with accuracy and efficiency.\n",
    "```\n",
    "sudo apt update\n",
    "sudo apt install ffmpeg\n",
    "ffmpeg -version\n",
    "# ffmpeg version 4.4.2-0ubuntu0.22.04.1\n",
    "```\n",
    "\n",
    "- [Install eSpeak on Ubuntu](https://www.atlantic.net/dedicated-server-hosting/install-espeak-on-ubuntu/)\n",
    "eSpeak is free and open-source software that can be used to convert text to voice in English and other languages. It can be installed on Windows and Linux-based operating systems. eSpeak takes input from the string or files and generates an audio format file. You can play this file using any player.\n",
    "\n",
    "\n",
    "Gespeaker is a graphical interface for eSpeak. It is also used to play a text file in multiple languages. You can also record a text file in WAV format for future listening.\n",
    "\n",
    "```\n",
    "sudo apt-get install espeak -y\n",
    "espeak --version\n",
    "# eSpeak text-to-speech: 1.48.15\n",
    "\n",
    "# test\n",
    "espeak \"Hi Welcome to eSpeak\" -w file1.mp4 -g 60 -p 70 -s 100 -v en-us\n",
    "```"
   ]
  },
  {
   "cell_type": "code",
   "execution_count": 5,
   "id": "8dd95e93",
   "metadata": {},
   "outputs": [
    {
     "name": "stdout",
     "output_type": "stream",
     "text": [
      "^C\n"
     ]
    }
   ],
   "source": [
    "!pip install pyttsx3"
   ]
  },
  {
   "cell_type": "code",
   "execution_count": 1,
   "id": "513917f1",
   "metadata": {},
   "outputs": [],
   "source": [
    "import pyttsx3\n",
    "engine = pyttsx3.init()"
   ]
  },
  {
   "cell_type": "code",
   "execution_count": 21,
   "id": "b9cc7a94",
   "metadata": {},
   "outputs": [],
   "source": [
    "engine.say(\"Hello from a machine\")\n",
    "engine.runAndWait()"
   ]
  },
  {
   "cell_type": "markdown",
   "id": "645f3bdf-d0e3-450b-a3e4-bdbe05319603",
   "metadata": {},
   "source": [
    "### Changing Voice , Rate and Volume \n",
    "https://pypi.org/project/pyttsx3/"
   ]
  },
  {
   "cell_type": "code",
   "execution_count": 5,
   "id": "b60fb7cb-3e61-42f8-8c96-9396bf851a9a",
   "metadata": {},
   "outputs": [
    {
     "name": "stdout",
     "output_type": "stream",
     "text": [
      "200\n"
     ]
    }
   ],
   "source": [
    "rate = engine.getProperty('rate')   # getting details of current speaking rate\n",
    "print (rate)                        #printing current voice rate"
   ]
  },
  {
   "cell_type": "code",
   "execution_count": 8,
   "id": "afd69d25-d868-49ed-92d0-e9cf881f9060",
   "metadata": {},
   "outputs": [],
   "source": [
    "engine.setProperty('rate', 150)     # setting up new voice rate"
   ]
  },
  {
   "cell_type": "code",
   "execution_count": 10,
   "id": "15405e61-25a0-40a0-8ec7-ec6ede77e28f",
   "metadata": {},
   "outputs": [
    {
     "name": "stdout",
     "output_type": "stream",
     "text": [
      "1.0\n"
     ]
    }
   ],
   "source": [
    "volume = engine.getProperty('volume')   #getting to know current volume level (min=0 and max=1)\n",
    "print (volume)                          #printing current volume level"
   ]
  },
  {
   "cell_type": "code",
   "execution_count": 13,
   "id": "1401641a-5367-4929-9e45-98de52462e6f",
   "metadata": {},
   "outputs": [],
   "source": [
    "engine.setProperty('volume', 0.5)    # setting up volume level  between 0 and 1"
   ]
  },
  {
   "cell_type": "code",
   "execution_count": 16,
   "id": "2b83e161-6214-4069-a2e8-6466aef59856",
   "metadata": {},
   "outputs": [],
   "source": [
    "voices = engine.getProperty('voices')       #getting details of current voice\n",
    "# print (voices)  \n",
    "voice = voices[0]"
   ]
  },
  {
   "cell_type": "code",
   "execution_count": null,
   "id": "133e857d-4c10-4f47-a8b8-36f03515816a",
   "metadata": {},
   "outputs": [],
   "source": [
    "voice."
   ]
  },
  {
   "cell_type": "code",
   "execution_count": 24,
   "id": "944b03da-8323-4e34-a4a4-8200baf285f2",
   "metadata": {},
   "outputs": [],
   "source": [
    "voice_names = [(v.id, v.name, v.gender, v.languages) for v in voices]"
   ]
  },
  {
   "cell_type": "code",
   "execution_count": 25,
   "id": "b1d0ad8f-1f09-4759-b4e3-164cbedcdfee",
   "metadata": {},
   "outputs": [
    {
     "name": "stdout",
     "output_type": "stream",
     "text": [
      "[('afrikaans', 'afrikaans', 'male', [b'\\x05af']), ('aragonese', 'aragonese', 'male', [b'\\x05an']), ('bulgarian', 'bulgarian', None, [b'\\x05bg']), ('bengali', 'bengali', 'male', [b'\\x05bn']), ('bosnian', 'bosnian', 'male', [b'\\x05bs']), ('catalan', 'catalan', 'male', [b'\\x05ca']), ('czech', 'czech', 'male', [b'\\x05cs']), ('welsh', 'welsh', 'male', [b'\\x05cy']), ('danish', 'danish', 'male', [b'\\x05da']), ('german', 'german', 'male', [b'\\x05de']), ('greek', 'greek', 'male', [b'\\x05el']), ('default', 'default', 'male', [b'\\x05en']), ('english', 'english', 'male', [b'\\x02en-gb']), ('en-scottish', 'en-scottish', 'male', [b'\\x05en-sc']), ('english-north', 'english-north', 'male', [b'\\x05en-uk-north']), ('english_rp', 'english_rp', 'male', [b'\\x05en-uk-rp']), ('english_wmids', 'english_wmids', 'male', [b'\\x05en-uk-wmids']), ('english-us', 'english-us', 'male', [b'\\x02en-us']), ('en-westindies', 'en-westindies', 'male', [b'\\x05en-wi']), ('esperanto', 'esperanto', 'male', [b'\\x05eo']), ('spanish', 'spanish', 'male', [b'\\x05es']), ('spanish-latin-am', 'spanish-latin-am', 'male', [b'\\x05es-la']), ('estonian', 'estonian', None, [b'\\x05et']), ('basque-test', 'basque-test', None, [b'\\x05eu']), ('Persian+English-UK', 'Persian+English-UK', None, [b'\\x05fa']), ('Persian+English-US', 'Persian+English-US', None, [b'\\x05fa']), ('persian-pinglish', 'persian-pinglish', None, [b'\\x05fa-pin']), ('finnish', 'finnish', 'male', [b'\\x05fi']), ('french-Belgium', 'french-Belgium', 'male', [b'\\x05fr-be']), ('french', 'french', 'male', [b'\\x05fr-fr']), ('irish-gaeilge', 'irish-gaeilge', None, [b'\\x05ga']), ('greek-ancient', 'greek-ancient', 'male', [b'\\x05grc']), ('gujarati-test', 'gujarati-test', None, [b'\\x05gu']), ('hindi', 'hindi', 'male', [b'\\x05hi']), ('croatian', 'croatian', 'male', [b'\\x05hr']), ('hungarian', 'hungarian', 'male', [b'\\x05hu']), ('armenian', 'armenian', 'male', [b'\\x05hy']), ('armenian-west', 'armenian-west', 'male', [b'\\x05hy-west']), ('interlingua', 'interlingua', None, [b'\\x05ia']), ('indonesian', 'indonesian', 'male', [b'\\x05id']), ('icelandic', 'icelandic', 'male', [b'\\x05is']), ('italian', 'italian', 'male', [b'\\x05it']), ('lojban', 'lojban', None, [b'\\x05jbo']), ('georgian', 'georgian', None, [b'\\x05ka']), ('kannada', 'kannada', None, [b'\\x05kn']), ('kurdish', 'kurdish', 'male', [b'\\x05ku']), ('latin', 'latin', 'male', [b'\\x05la']), ('lingua_franca_nova', 'lingua_franca_nova', 'male', [b'\\x05lfn']), ('lithuanian', 'lithuanian', 'male', [b'\\x05lt']), ('latvian', 'latvian', 'male', [b'\\x05lv']), ('macedonian', 'macedonian', 'male', [b'\\x05mk']), ('malayalam', 'malayalam', 'male', [b'\\x05ml']), ('malay', 'malay', 'male', [b'\\x05ms']), ('nepali', 'nepali', 'male', [b'\\x05ne']), ('dutch', 'dutch', 'male', [b'\\x05nl']), ('norwegian', 'norwegian', 'male', [b'\\x05no']), ('punjabi', 'punjabi', None, [b'\\x05pa']), ('polish', 'polish', 'male', [b'\\x05pl']), ('brazil', 'brazil', 'male', [b'\\x05pt-br']), ('portugal', 'portugal', 'male', [b'\\x05pt-pt']), ('romanian', 'romanian', 'male', [b'\\x05ro']), ('russian', 'russian', 'male', [b'\\x05ru']), ('slovak', 'slovak', 'male', [b'\\x05sk']), ('albanian', 'albanian', 'male', [b'\\x05sq']), ('serbian', 'serbian', 'male', [b'\\x05sr']), ('swedish', 'swedish', 'male', [b'\\x05sv']), ('swahili-test', 'swahili-test', 'male', [b'\\x05sw']), ('tamil', 'tamil', 'male', [b'\\x05ta']), ('telugu-test', 'telugu-test', None, [b'\\x05te']), ('turkish', 'turkish', 'male', [b'\\x05tr']), ('vietnam', 'vietnam', 'male', [b'\\x05vi']), ('vietnam_hue', 'vietnam_hue', 'male', [b'\\x05vi-hue']), ('vietnam_sgn', 'vietnam_sgn', 'male', [b'\\x05vi-sgn']), ('Mandarin', 'Mandarin', 'male', [b'\\x05zh']), ('cantonese', 'cantonese', 'male', [b'\\x05zh-yue'])]\n"
     ]
    }
   ],
   "source": [
    "print(voice_names)"
   ]
  },
  {
   "cell_type": "code",
   "execution_count": null,
   "id": "34bc8c69-c81b-4847-bbfe-cb2e38daeb4b",
   "metadata": {},
   "outputs": [],
   "source": [
    "#engine.setProperty('voice', voices[0].id)  #changing index, changes voices. o for male"
   ]
  },
  {
   "cell_type": "code",
   "execution_count": 26,
   "id": "f1f7c1f6-950a-4201-b22a-820afb7cae78",
   "metadata": {},
   "outputs": [],
   "source": [
    "engine.setProperty('voice', 'Mandarin')   #changing index, changes voices. 1 for female"
   ]
  },
  {
   "cell_type": "code",
   "execution_count": 27,
   "id": "5b9eff95-b7d4-44a2-a1f7-5171ec17fbed",
   "metadata": {},
   "outputs": [],
   "source": [
    "engine.say(\"Hello from a machine\")\n",
    "engine.runAndWait()"
   ]
  },
  {
   "cell_type": "markdown",
   "id": "9150146e",
   "metadata": {},
   "source": [
    "## PocketSphinx  - speech recognition\n",
    "\n",
    "- https://cmusphinx.github.io/\n",
    "\n",
    "- [Learn how to setup PortAudio and PyAudio in ubuntu to play with Speech Recognition](https://medium.com/@niveditha.itengineer/learn-how-to-setup-portaudio-and-pyaudio-in-ubuntu-to-play-with-speech-recognition-8d2fff660e94)\n",
    "\n",
    "```\n",
    "mkdir portaudio\n",
    "cd portaudio\n",
    "sudo apt-get install libasound-dev\n",
    "\n",
    "# download \"pa_stable_v190700_20210406.tgz\" from https://files.portaudio.com/download.html\n",
    "sudo su root\n",
    "tar xvfz pa_stable_v190700_20210406.tgz\n",
    "cd portaudio\n",
    "./configure   # ensure ALSA …………………… yes\n",
    "make\n",
    "make install\n",
    "ldconfig\n",
    "exit\n",
    "\n",
    "# install python binding\n",
    "sudo pip install pyaudio\n",
    "```\n",
    "\n",
    "CMU Sphinx is speech (audio) to text transcription. In other words, it is a speech recognition engine. You are looking for what is known as speech synthesis or more commonly called Text To Speech (TTS). That technology takes text and creates an audio stream that sounds like a human being speaking the text.\n",
    "\n",
    "A very popular open source text to speech engine is the Festival TTS engine:"
   ]
  },
  {
   "cell_type": "raw",
   "id": "ba20d739-7d20-40b2-82b9-d3fec0f5e042",
   "metadata": {},
   "source": [
    "!pip3 install pocketsphinx"
   ]
  },
  {
   "cell_type": "code",
   "execution_count": 1,
   "id": "aa5579bc",
   "metadata": {},
   "outputs": [
    {
     "name": "stdout",
     "output_type": "stream",
     "text": [
      "no this is a test this is a test\n",
      "four\n",
      "what is the pop into ceramics\n",
      "how to use a pie studio\n",
      "how to use up higher quality of\n",
      "how to use a pirate all deal\n"
     ]
    }
   ],
   "source": [
    "from pocketsphinx import LiveSpeech\n",
    "for phrase in LiveSpeech():\n",
    "    print(phrase)"
   ]
  },
  {
   "cell_type": "markdown",
   "id": "089cdc7f-4646-43b7-9416-b2a58b9f956a",
   "metadata": {},
   "source": [
    "low quality"
   ]
  },
  {
   "cell_type": "code",
   "execution_count": null,
   "id": "fb8c6a3a-669f-484f-912e-211ae5d5c1d5",
   "metadata": {},
   "outputs": [],
   "source": []
  }
 ],
 "metadata": {
  "kernelspec": {
   "display_name": "Python 3 (ipykernel)",
   "language": "python",
   "name": "python3"
  },
  "language_info": {
   "codemirror_mode": {
    "name": "ipython",
    "version": 3
   },
   "file_extension": ".py",
   "mimetype": "text/x-python",
   "name": "python",
   "nbconvert_exporter": "python",
   "pygments_lexer": "ipython3",
   "version": "3.10.12"
  },
  "nbTranslate": {
   "displayLangs": [
    "*"
   ],
   "hotkey": "alt-t",
   "langInMainMenu": true,
   "sourceLang": "en",
   "targetLang": "fr",
   "useGoogleTranslate": true
  },
  "toc": {
   "base_numbering": 1,
   "nav_menu": {},
   "number_sections": true,
   "sideBar": true,
   "skip_h1_title": false,
   "title_cell": "Table of Contents",
   "title_sidebar": "Contents",
   "toc_cell": false,
   "toc_position": {},
   "toc_section_display": true,
   "toc_window_display": false
  }
 },
 "nbformat": 4,
 "nbformat_minor": 5
}
