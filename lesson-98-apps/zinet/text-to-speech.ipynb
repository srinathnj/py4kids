{
 "cells": [
  {
   "cell_type": "markdown",
   "id": "0f4de06d",
   "metadata": {},
   "source": [
    " - [Top Free Text-to-speech (TTS) libraries](https://ulife.ai/stories/top-free-text-to-speech-tts-libraries-for-python)"
   ]
  },
  {
   "cell_type": "markdown",
   "id": "9dc5ffce",
   "metadata": {},
   "source": [
    "## gTTS\n",
    "\n",
    "- [Using a text-to-speech API for Python: A comprehensive tutorial](https://speechify.com/blog/using-text-to-speech-api-for-python/)"
   ]
  },
  {
   "cell_type": "code",
   "execution_count": 1,
   "id": "6b50e5f4",
   "metadata": {},
   "outputs": [
    {
     "name": "stdout",
     "output_type": "stream",
     "text": [
      "Requirement already satisfied: gTTS in c:\\users\\p2p2l\\anaconda3\\lib\\site-packages (2.3.2)\n",
      "Requirement already satisfied: requests<3,>=2.27 in c:\\users\\p2p2l\\anaconda3\\lib\\site-packages (from gTTS) (2.31.0)\n",
      "Requirement already satisfied: click<8.2,>=7.1 in c:\\users\\p2p2l\\anaconda3\\lib\\site-packages (from gTTS) (8.1.7)\n",
      "Requirement already satisfied: colorama in c:\\users\\p2p2l\\anaconda3\\lib\\site-packages (from click<8.2,>=7.1->gTTS) (0.4.4)\n",
      "Requirement already satisfied: charset-normalizer<4,>=2 in c:\\users\\p2p2l\\anaconda3\\lib\\site-packages (from requests<3,>=2.27->gTTS) (2.0.4)\n",
      "Requirement already satisfied: idna<4,>=2.5 in c:\\users\\p2p2l\\anaconda3\\lib\\site-packages (from requests<3,>=2.27->gTTS) (2.10)\n",
      "Requirement already satisfied: urllib3<3,>=1.21.1 in c:\\users\\p2p2l\\anaconda3\\lib\\site-packages (from requests<3,>=2.27->gTTS) (1.26.18)\n",
      "Requirement already satisfied: certifi>=2017.4.17 in c:\\users\\p2p2l\\anaconda3\\lib\\site-packages (from requests<3,>=2.27->gTTS) (2022.9.14)\n"
     ]
    },
    {
     "name": "stderr",
     "output_type": "stream",
     "text": [
      "WARNING: Ignoring invalid distribution - (c:\\users\\p2p2l\\anaconda3\\lib\\site-packages)\n",
      "WARNING: Ignoring invalid distribution -illow (c:\\users\\p2p2l\\anaconda3\\lib\\site-packages)\n",
      "WARNING: Ignoring invalid distribution -radio (c:\\users\\p2p2l\\anaconda3\\lib\\site-packages)\n",
      "WARNING: Ignoring invalid distribution -rotobuf (c:\\users\\p2p2l\\anaconda3\\lib\\site-packages)\n",
      "WARNING: Ignoring invalid distribution -treamlit (c:\\users\\p2p2l\\anaconda3\\lib\\site-packages)\n",
      "WARNING: Ignoring invalid distribution - (c:\\users\\p2p2l\\anaconda3\\lib\\site-packages)\n",
      "WARNING: Ignoring invalid distribution -illow (c:\\users\\p2p2l\\anaconda3\\lib\\site-packages)\n",
      "WARNING: Ignoring invalid distribution -radio (c:\\users\\p2p2l\\anaconda3\\lib\\site-packages)\n",
      "WARNING: Ignoring invalid distribution -rotobuf (c:\\users\\p2p2l\\anaconda3\\lib\\site-packages)\n",
      "WARNING: Ignoring invalid distribution -treamlit (c:\\users\\p2p2l\\anaconda3\\lib\\site-packages)\n"
     ]
    }
   ],
   "source": [
    "!pip install gTTS"
   ]
  },
  {
   "cell_type": "code",
   "execution_count": null,
   "id": "e4c637a2",
   "metadata": {},
   "outputs": [],
   "source": [
    "from gtts import gTTS\n",
    "import IPython"
   ]
  },
  {
   "cell_type": "code",
   "execution_count": 2,
   "id": "9cc5f65c",
   "metadata": {},
   "outputs": [],
   "source": [
    "tts = gTTS(\"Hello this is a normal text and i am a python package.\")"
   ]
  },
  {
   "cell_type": "code",
   "execution_count": 3,
   "id": "77f314ab",
   "metadata": {},
   "outputs": [],
   "source": [
    "tts.save(\"speech.mp3\")"
   ]
  },
  {
   "cell_type": "code",
   "execution_count": 4,
   "id": "38f1c162",
   "metadata": {},
   "outputs": [
    {
     "data": {
      "text/html": [
       "\n",
       "                <audio  controls=\"controls\" >\n",
       "                    <source src=\"data:audio/mpeg;base64,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\" type=\"audio/mpeg\" />\n",
       "                    Your browser does not support the audio element.\n",
       "                </audio>\n",
       "              "
      ],
      "text/plain": [
       "<IPython.lib.display.Audio object>"
      ]
     },
     "execution_count": 4,
     "metadata": {},
     "output_type": "execute_result"
    }
   ],
   "source": [
    "IPython.display.Audio(\"speech.mp3\")"
   ]
  },
  {
   "cell_type": "markdown",
   "id": "abd9448f",
   "metadata": {},
   "source": [
    "## pyttsx3\n",
    "\n",
    "pyttsx3 is a Python text-to-speech (TTS) library that allows you to convert text to speech using a range of TTS engines, including the Microsoft Text-to-Speech API, the Festival, and the eSpeak TTS engine. pyttsx3 is designed to be easy to use and provides a range of options for controlling speech output."
   ]
  },
  {
   "cell_type": "code",
   "execution_count": 5,
   "id": "8dd95e93",
   "metadata": {},
   "outputs": [
    {
     "name": "stdout",
     "output_type": "stream",
     "text": [
      "^C\n"
     ]
    }
   ],
   "source": [
    "!pip install pyttsx3"
   ]
  },
  {
   "cell_type": "code",
   "execution_count": 1,
   "id": "513917f1",
   "metadata": {},
   "outputs": [],
   "source": [
    "import pyttsx3\n",
    "engine = pyttsx3.init()"
   ]
  },
  {
   "cell_type": "code",
   "execution_count": 2,
   "id": "b9cc7a94",
   "metadata": {},
   "outputs": [],
   "source": [
    "engine.say(\"Hello from a machine\")\n",
    "engine.runAndWait()"
   ]
  },
  {
   "cell_type": "markdown",
   "id": "9150146e",
   "metadata": {},
   "source": [
    "## PocketSphinx\n",
    "\n",
    "- https://cmusphinx.github.io/"
   ]
  },
  {
   "cell_type": "code",
   "execution_count": 3,
   "id": "68166d3c",
   "metadata": {},
   "outputs": [
    {
     "name": "stdout",
     "output_type": "stream",
     "text": [
      "Collecting pocketsphinx\n",
      "  Downloading pocketsphinx-5.0.3.tar.gz (34.1 MB)\n",
      "     --------------------------------------- 34.1/34.1 MB 12.8 MB/s eta 0:00:00\n",
      "  Installing build dependencies: started\n",
      "  Installing build dependencies: finished with status 'done'\n",
      "  Getting requirements to build wheel: started\n",
      "  Getting requirements to build wheel: finished with status 'done'\n",
      "  Installing backend dependencies: started\n",
      "  Installing backend dependencies: finished with status 'done'\n",
      "  Preparing metadata (pyproject.toml): started\n",
      "  Preparing metadata (pyproject.toml): finished with status 'done'\n",
      "Collecting sounddevice (from pocketsphinx)\n",
      "  Downloading sounddevice-0.4.6-py3-none-win_amd64.whl.metadata (1.4 kB)\n",
      "Requirement already satisfied: CFFI>=1.0 in c:\\users\\p2p2l\\anaconda3\\lib\\site-packages (from sounddevice->pocketsphinx) (1.15.1)\n",
      "Requirement already satisfied: pycparser in c:\\users\\p2p2l\\anaconda3\\lib\\site-packages (from CFFI>=1.0->sounddevice->pocketsphinx) (2.21)\n",
      "Downloading sounddevice-0.4.6-py3-none-win_amd64.whl (199 kB)\n",
      "   --------------------------------------- 199.7/199.7 kB 12.6 MB/s eta 0:00:00\n",
      "Building wheels for collected packages: pocketsphinx\n",
      "  Building wheel for pocketsphinx (pyproject.toml): started\n",
      "  Building wheel for pocketsphinx (pyproject.toml): finished with status 'error'\n",
      "Failed to build pocketsphinx\n"
     ]
    },
    {
     "name": "stderr",
     "output_type": "stream",
     "text": [
      "WARNING: Ignoring invalid distribution - (c:\\users\\p2p2l\\anaconda3\\lib\\site-packages)\n",
      "WARNING: Ignoring invalid distribution -illow (c:\\users\\p2p2l\\anaconda3\\lib\\site-packages)\n",
      "WARNING: Ignoring invalid distribution -radio (c:\\users\\p2p2l\\anaconda3\\lib\\site-packages)\n",
      "WARNING: Ignoring invalid distribution -rotobuf (c:\\users\\p2p2l\\anaconda3\\lib\\site-packages)\n",
      "WARNING: Ignoring invalid distribution -treamlit (c:\\users\\p2p2l\\anaconda3\\lib\\site-packages)\n",
      "  error: subprocess-exited-with-error\n",
      "  \n",
      "  Building wheel for pocketsphinx (pyproject.toml) did not run successfully.\n",
      "  exit code: 1\n",
      "  \n",
      "  [23 lines of output]\n",
      "  2024-03-29 21:58:15,761 - scikit_build_core - INFO - RUN: C:\\Users\\p2p2l\\AppData\\Local\\Temp\\pip-build-env-1jjk52p9\\normal\\Lib\\site-packages\\cmake\\data\\bin\\cmake --version\n",
      "  2024-03-29 21:58:15,793 - scikit_build_core - INFO - CMake version: 3.29.0\n",
      "  *** scikit-build-core 0.8.2 using CMake 3.29.0 (wheel)\n",
      "  2024-03-29 21:58:15,808 - scikit_build_core - INFO - Build directory: C:\\Users\\p2p2l\\AppData\\Local\\Temp\\tmppol4vhjf\\build\n",
      "  *** Configuring CMake...\n",
      "  2024-03-29 21:58:15,873 - scikit_build_core - WARNING - Can't find a Python library, got libdir=None, ldlibrary=None, multiarch=None, masd=None\n",
      "  2024-03-29 21:58:15,881 - scikit_build_core - INFO - RUN: C:\\Users\\p2p2l\\AppData\\Local\\Temp\\pip-build-env-1jjk52p9\\normal\\Lib\\site-packages\\cmake\\data\\bin\\cmake -S. -BC:\\Users\\p2p2l\\AppData\\Local\\Temp\\tmppol4vhjf\\build -CC:\\Users\\p2p2l\\AppData\\Local\\Temp\\tmppol4vhjf\\build\\CMakeInit.txt\n",
      "  loading initial cache file C:\\Users\\p2p2l\\AppData\\Local\\Temp\\tmppol4vhjf\\build\\CMakeInit.txt\n",
      "  -- Building for: NMake Makefiles\n",
      "  CMake Error at CMakeLists.txt:3 (project):\n",
      "    Running\n",
      "  \n",
      "     'nmake' '-?'\n",
      "  \n",
      "    failed with:\n",
      "  \n",
      "     no such file or directory\n",
      "  \n",
      "  \n",
      "  CMake Error: CMAKE_C_COMPILER not set, after EnableLanguage\n",
      "  -- Configuring incomplete, errors occurred!\n",
      "  \n",
      "  *** CMake configuration failed\n",
      "  [end of output]\n",
      "  \n",
      "  note: This error originates from a subprocess, and is likely not a problem with pip.\n",
      "  ERROR: Failed building wheel for pocketsphinx\n",
      "ERROR: Could not build wheels for pocketsphinx, which is required to install pyproject.toml-based projects\n"
     ]
    }
   ],
   "source": [
    "!pip3 install pocketsphinx"
   ]
  },
  {
   "cell_type": "code",
   "execution_count": null,
   "id": "aa5579bc",
   "metadata": {},
   "outputs": [],
   "source": []
  }
 ],
 "metadata": {
  "kernelspec": {
   "display_name": "Python 3 (ipykernel)",
   "language": "python",
   "name": "python3"
  },
  "language_info": {
   "codemirror_mode": {
    "name": "ipython",
    "version": 3
   },
   "file_extension": ".py",
   "mimetype": "text/x-python",
   "name": "python",
   "nbconvert_exporter": "python",
   "pygments_lexer": "ipython3",
   "version": "3.9.13"
  },
  "nbTranslate": {
   "displayLangs": [
    "*"
   ],
   "hotkey": "alt-t",
   "langInMainMenu": true,
   "sourceLang": "en",
   "targetLang": "fr",
   "useGoogleTranslate": true
  },
  "toc": {
   "base_numbering": 1,
   "nav_menu": {},
   "number_sections": true,
   "sideBar": true,
   "skip_h1_title": false,
   "title_cell": "Table of Contents",
   "title_sidebar": "Contents",
   "toc_cell": false,
   "toc_position": {},
   "toc_section_display": true,
   "toc_window_display": false
  }
 },
 "nbformat": 4,
 "nbformat_minor": 5
}
