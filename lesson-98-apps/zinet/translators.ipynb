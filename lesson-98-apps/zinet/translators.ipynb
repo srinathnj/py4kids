{
 "cells": [
  {
   "cell_type": "markdown",
   "id": "74cae11d",
   "metadata": {},
   "source": [
    "[Gemini](https://g.co/gemini/share/6a83c4d4260c) suggests the following services for machine translations:\n",
    "\n",
    "- [Google Cloud Translate](https://cloud.google.com/translate/docs/languages)\n",
    "- [Microsoft Translator API](https://learn.microsoft.com/en-us/azure/ai-services/translator/)\n",
    "- [DeepL Translate API](https://developers.deepl.com/)\n",
    "- [Amazon Translate API](https://aws.amazon.com/translate/)\n",
    "- [Hugging Face Transformers](https://huggingface.co/docs/transformers/tasks/translation)\n",
    "\n",
    "key aspects to consider when comparing/evaluating these translation APIs:\n",
    "\n",
    "- **Supported Languages**: How many languages does each API support and which ones are most relevant for your use case?\n",
    "- **Translation Quality**: Evaluate the accuracy and fluency of translations for your specific needs (technical documents vs. everyday conversations).\n",
    "- **Features**: Consider additional functionalities like document translation, speech translation, or language detection.\n",
    "- **Pricing**: Compare free tiers, usage-based pricing models, and any potential hidden costs.\n",
    "- **Ease of Use**: Evaluate the complexity of setting up the API and the available documentation and support resources."
   ]
  },
  {
   "cell_type": "markdown",
   "id": "35ccc0d7",
   "metadata": {},
   "source": [
    "## get API_KEY"
   ]
  },
  {
   "cell_type": "code",
   "execution_count": 2,
   "id": "17c966ed",
   "metadata": {},
   "outputs": [],
   "source": [
    "import api_key_store as aks\n",
    "\n",
    "key_store = aks.ApiKeyStore()\n",
    "\n",
    "deepl_api_key = key_store.get_api_key(\"DeepL\")"
   ]
  },
  {
   "cell_type": "raw",
   "id": "18fe460d-3681-4ca9-89c1-c65cff00820b",
   "metadata": {},
   "source": [
    "deepl_api_key"
   ]
  },
  {
   "cell_type": "markdown",
   "id": "57a6b5a4",
   "metadata": {},
   "source": [
    "## Googletrans\n",
    "\n",
    "- https://translate.google.com/\n",
    "- [Google Translate python API (free)](https://pypi.org/project/googletrans/)\n",
    "    - [docs](https://py-googletrans.readthedocs.io/en/latest/)\n",
    "    - `pip install googletrans==3.1.0a0`\n",
    "    - `pip install googletrans==4.0.0-rc1`\n",
    "    - https://stackoverflow.com/questions/52446811/why-googletrans-translator-suddenly-stopped-working/53577732#53577732\n",
    "- [Google Cloud Translation](https://cloud.google.com/translate/docs)"
   ]
  },
  {
   "cell_type": "raw",
   "id": "c6ed4f81",
   "metadata": {},
   "source": [
    "!pip install googletrans==3.1.0a0"
   ]
  },
  {
   "cell_type": "code",
   "execution_count": 1,
   "id": "69363df2",
   "metadata": {
    "scrolled": true
   },
   "outputs": [
    {
     "name": "stdout",
     "output_type": "stream",
     "text": [
      "Collecting googletrans==4.0.0-rc1\n",
      "  Using cached googletrans-4.0.0rc1-py3-none-any.whl\n",
      "Requirement already satisfied: httpx==0.13.3 in c:\\users\\p2p2l\\anaconda3\\lib\\site-packages (from googletrans==4.0.0-rc1) (0.13.3)\n",
      "Requirement already satisfied: certifi in c:\\users\\p2p2l\\anaconda3\\lib\\site-packages (from httpx==0.13.3->googletrans==4.0.0-rc1) (2022.9.14)\n",
      "Requirement already satisfied: hstspreload in c:\\users\\p2p2l\\anaconda3\\lib\\site-packages (from httpx==0.13.3->googletrans==4.0.0-rc1) (2023.1.1)\n",
      "Requirement already satisfied: sniffio in c:\\users\\p2p2l\\anaconda3\\lib\\site-packages (from httpx==0.13.3->googletrans==4.0.0-rc1) (1.2.0)\n",
      "Requirement already satisfied: chardet==3.* in c:\\users\\p2p2l\\anaconda3\\lib\\site-packages (from httpx==0.13.3->googletrans==4.0.0-rc1) (3.0.4)\n",
      "Requirement already satisfied: idna==2.* in c:\\users\\p2p2l\\anaconda3\\lib\\site-packages (from httpx==0.13.3->googletrans==4.0.0-rc1) (2.10)\n",
      "Requirement already satisfied: rfc3986<2,>=1.3 in c:\\users\\p2p2l\\anaconda3\\lib\\site-packages (from httpx==0.13.3->googletrans==4.0.0-rc1) (1.5.0)\n",
      "Requirement already satisfied: httpcore==0.9.* in c:\\users\\p2p2l\\anaconda3\\lib\\site-packages (from httpx==0.13.3->googletrans==4.0.0-rc1) (0.9.1)\n",
      "Requirement already satisfied: h11<0.10,>=0.8 in c:\\users\\p2p2l\\anaconda3\\lib\\site-packages (from httpcore==0.9.*->httpx==0.13.3->googletrans==4.0.0-rc1) (0.9.0)\n",
      "Requirement already satisfied: h2==3.* in c:\\users\\p2p2l\\anaconda3\\lib\\site-packages (from httpcore==0.9.*->httpx==0.13.3->googletrans==4.0.0-rc1) (3.2.0)\n",
      "Requirement already satisfied: hyperframe<6,>=5.2.0 in c:\\users\\p2p2l\\anaconda3\\lib\\site-packages (from h2==3.*->httpcore==0.9.*->httpx==0.13.3->googletrans==4.0.0-rc1) (5.2.0)\n",
      "Requirement already satisfied: hpack<4,>=3.0 in c:\\users\\p2p2l\\anaconda3\\lib\\site-packages (from h2==3.*->httpcore==0.9.*->httpx==0.13.3->googletrans==4.0.0-rc1) (3.0.0)\n",
      "Installing collected packages: googletrans\n",
      "  Attempting uninstall: googletrans\n",
      "    Found existing installation: googletrans 3.1.0a0\n",
      "    Uninstalling googletrans-3.1.0a0:\n",
      "      Successfully uninstalled googletrans-3.1.0a0\n",
      "Successfully installed googletrans-4.0.0rc1\n"
     ]
    },
    {
     "name": "stderr",
     "output_type": "stream",
     "text": [
      "WARNING: Ignoring invalid distribution - (c:\\users\\p2p2l\\anaconda3\\lib\\site-packages)\n",
      "WARNING: Ignoring invalid distribution -illow (c:\\users\\p2p2l\\anaconda3\\lib\\site-packages)\n",
      "WARNING: Ignoring invalid distribution -radio (c:\\users\\p2p2l\\anaconda3\\lib\\site-packages)\n",
      "WARNING: Ignoring invalid distribution -rotobuf (c:\\users\\p2p2l\\anaconda3\\lib\\site-packages)\n",
      "WARNING: Ignoring invalid distribution -treamlit (c:\\users\\p2p2l\\anaconda3\\lib\\site-packages)\n",
      "WARNING: Ignoring invalid distribution - (c:\\users\\p2p2l\\anaconda3\\lib\\site-packages)\n",
      "WARNING: Ignoring invalid distribution -illow (c:\\users\\p2p2l\\anaconda3\\lib\\site-packages)\n",
      "WARNING: Ignoring invalid distribution -radio (c:\\users\\p2p2l\\anaconda3\\lib\\site-packages)\n",
      "WARNING: Ignoring invalid distribution -rotobuf (c:\\users\\p2p2l\\anaconda3\\lib\\site-packages)\n",
      "WARNING: Ignoring invalid distribution -treamlit (c:\\users\\p2p2l\\anaconda3\\lib\\site-packages)\n"
     ]
    }
   ],
   "source": [
    "!pip install googletrans==4.0.0-rc1"
   ]
  },
  {
   "cell_type": "code",
   "execution_count": 4,
   "id": "f27cd1ee",
   "metadata": {},
   "outputs": [],
   "source": [
    "from googletrans import Translator"
   ]
  },
  {
   "cell_type": "code",
   "execution_count": 5,
   "id": "11086178",
   "metadata": {},
   "outputs": [
    {
     "data": {
      "text/plain": [
       "{'af': 'afrikaans',\n",
       " 'sq': 'albanian',\n",
       " 'am': 'amharic',\n",
       " 'ar': 'arabic',\n",
       " 'hy': 'armenian',\n",
       " 'az': 'azerbaijani',\n",
       " 'eu': 'basque',\n",
       " 'be': 'belarusian',\n",
       " 'bn': 'bengali',\n",
       " 'bs': 'bosnian',\n",
       " 'bg': 'bulgarian',\n",
       " 'ca': 'catalan',\n",
       " 'ceb': 'cebuano',\n",
       " 'ny': 'chichewa',\n",
       " 'zh-cn': 'chinese (simplified)',\n",
       " 'zh-tw': 'chinese (traditional)',\n",
       " 'co': 'corsican',\n",
       " 'hr': 'croatian',\n",
       " 'cs': 'czech',\n",
       " 'da': 'danish',\n",
       " 'nl': 'dutch',\n",
       " 'en': 'english',\n",
       " 'eo': 'esperanto',\n",
       " 'et': 'estonian',\n",
       " 'tl': 'filipino',\n",
       " 'fi': 'finnish',\n",
       " 'fr': 'french',\n",
       " 'fy': 'frisian',\n",
       " 'gl': 'galician',\n",
       " 'ka': 'georgian',\n",
       " 'de': 'german',\n",
       " 'el': 'greek',\n",
       " 'gu': 'gujarati',\n",
       " 'ht': 'haitian creole',\n",
       " 'ha': 'hausa',\n",
       " 'haw': 'hawaiian',\n",
       " 'iw': 'hebrew',\n",
       " 'he': 'hebrew',\n",
       " 'hi': 'hindi',\n",
       " 'hmn': 'hmong',\n",
       " 'hu': 'hungarian',\n",
       " 'is': 'icelandic',\n",
       " 'ig': 'igbo',\n",
       " 'id': 'indonesian',\n",
       " 'ga': 'irish',\n",
       " 'it': 'italian',\n",
       " 'ja': 'japanese',\n",
       " 'jw': 'javanese',\n",
       " 'kn': 'kannada',\n",
       " 'kk': 'kazakh',\n",
       " 'km': 'khmer',\n",
       " 'ko': 'korean',\n",
       " 'ku': 'kurdish (kurmanji)',\n",
       " 'ky': 'kyrgyz',\n",
       " 'lo': 'lao',\n",
       " 'la': 'latin',\n",
       " 'lv': 'latvian',\n",
       " 'lt': 'lithuanian',\n",
       " 'lb': 'luxembourgish',\n",
       " 'mk': 'macedonian',\n",
       " 'mg': 'malagasy',\n",
       " 'ms': 'malay',\n",
       " 'ml': 'malayalam',\n",
       " 'mt': 'maltese',\n",
       " 'mi': 'maori',\n",
       " 'mr': 'marathi',\n",
       " 'mn': 'mongolian',\n",
       " 'my': 'myanmar (burmese)',\n",
       " 'ne': 'nepali',\n",
       " 'no': 'norwegian',\n",
       " 'or': 'odia',\n",
       " 'ps': 'pashto',\n",
       " 'fa': 'persian',\n",
       " 'pl': 'polish',\n",
       " 'pt': 'portuguese',\n",
       " 'pa': 'punjabi',\n",
       " 'ro': 'romanian',\n",
       " 'ru': 'russian',\n",
       " 'sm': 'samoan',\n",
       " 'gd': 'scots gaelic',\n",
       " 'sr': 'serbian',\n",
       " 'st': 'sesotho',\n",
       " 'sn': 'shona',\n",
       " 'sd': 'sindhi',\n",
       " 'si': 'sinhala',\n",
       " 'sk': 'slovak',\n",
       " 'sl': 'slovenian',\n",
       " 'so': 'somali',\n",
       " 'es': 'spanish',\n",
       " 'su': 'sundanese',\n",
       " 'sw': 'swahili',\n",
       " 'sv': 'swedish',\n",
       " 'tg': 'tajik',\n",
       " 'ta': 'tamil',\n",
       " 'te': 'telugu',\n",
       " 'th': 'thai',\n",
       " 'tr': 'turkish',\n",
       " 'uk': 'ukrainian',\n",
       " 'ur': 'urdu',\n",
       " 'ug': 'uyghur',\n",
       " 'uz': 'uzbek',\n",
       " 'vi': 'vietnamese',\n",
       " 'cy': 'welsh',\n",
       " 'xh': 'xhosa',\n",
       " 'yi': 'yiddish',\n",
       " 'yo': 'yoruba',\n",
       " 'zu': 'zulu'}"
      ]
     },
     "execution_count": 5,
     "metadata": {},
     "output_type": "execute_result"
    }
   ],
   "source": [
    "import googletrans\n",
    "googletrans.LANGUAGES"
   ]
  },
  {
   "cell_type": "code",
   "execution_count": 41,
   "id": "d7d34c81-6a95-42c5-af1d-1e7413104d66",
   "metadata": {},
   "outputs": [],
   "source": [
    "def save_lang_dict(input_dict={}, file_csv=None):\n",
    "    if not input_dict: return\n",
    "        \n",
    "    sorted_codes = sorted(list(input_dict.keys()))\n",
    "    with open(file_csv, \"w\") as f:\n",
    "        f.write(f\"code, name\\n\")\n",
    "        for k in sorted_codes:\n",
    "            v = input_dict[k]\n",
    "            f.write(f\"{k}, {v}\\n\")"
   ]
  },
  {
   "cell_type": "code",
   "execution_count": 42,
   "id": "846d646c-50d4-4e89-a026-69e7ca6765af",
   "metadata": {},
   "outputs": [],
   "source": [
    "save_lang_dict(input_dict=googletrans.LANGUAGES, file_csv=\"googletrans_langs.csv\")"
   ]
  },
  {
   "cell_type": "code",
   "execution_count": 6,
   "id": "47864b1c",
   "metadata": {},
   "outputs": [],
   "source": [
    "translator = Translator()"
   ]
  },
  {
   "cell_type": "code",
   "execution_count": 7,
   "id": "24670272",
   "metadata": {},
   "outputs": [],
   "source": [
    "x = translator.detect(\"I like machine learning\")"
   ]
  },
  {
   "cell_type": "code",
   "execution_count": 8,
   "id": "d446f9fe",
   "metadata": {},
   "outputs": [
    {
     "data": {
      "text/plain": [
       "('en', None)"
      ]
     },
     "execution_count": 8,
     "metadata": {},
     "output_type": "execute_result"
    }
   ],
   "source": [
    "x.lang, x.confidence"
   ]
  },
  {
   "cell_type": "code",
   "execution_count": 9,
   "id": "aca4e7a4",
   "metadata": {},
   "outputs": [],
   "source": [
    "y = translator.translate('我喜欢机器翻译', dest='de')"
   ]
  },
  {
   "cell_type": "code",
   "execution_count": 10,
   "id": "c83aa321",
   "metadata": {},
   "outputs": [
    {
     "data": {
      "text/plain": [
       "('de', 'Ich mag maschinelle Übersetzung', None, 'zh-CN', '我喜欢机器翻译')"
      ]
     },
     "execution_count": 10,
     "metadata": {},
     "output_type": "execute_result"
    }
   ],
   "source": [
    "y.dest, y.text, y.pronunciation, y.src, y.origin"
   ]
  },
  {
   "cell_type": "code",
   "execution_count": 11,
   "id": "a9c5b3b7",
   "metadata": {},
   "outputs": [],
   "source": [
    "y = translator.translate(\"\\n\".join(['The quick brown fox', 'jumps over', 'the lazy dog']), dest='zh-cn')"
   ]
  },
  {
   "cell_type": "code",
   "execution_count": 12,
   "id": "81ff37eb",
   "metadata": {},
   "outputs": [
    {
     "data": {
      "text/plain": [
       "('zh-cn',\n",
       " '快速的棕色狐狸\\n跳过\\n懒狗',\n",
       " 'Kuàisù de zōngsè húlí\\ntiàoguò\\nlǎn gǒu',\n",
       " 'en',\n",
       " 'The quick brown fox\\njumps over\\nthe lazy dog')"
      ]
     },
     "execution_count": 12,
     "metadata": {},
     "output_type": "execute_result"
    }
   ],
   "source": [
    "y.dest, y.text, y.pronunciation, y.src, y.origin"
   ]
  },
  {
   "cell_type": "code",
   "execution_count": 13,
   "id": "eb32c078",
   "metadata": {},
   "outputs": [],
   "source": [
    "txt = \"haha, I was trying to say goodbye to you in Chinese, of course I know what 再见 means\"\n",
    "y = translator.translate(txt, src=\"en\", dest=\"zh-cn\")"
   ]
  },
  {
   "cell_type": "code",
   "execution_count": 14,
   "id": "6e379729",
   "metadata": {},
   "outputs": [
    {
     "data": {
      "text/plain": [
       "('zh-cn',\n",
       " '哈哈，我想用中文和你说再见，当然我知道再见',\n",
       " 'Hāhā, wǒ xiǎng yòng zhōngwén hé nǐ shuō zàijiàn, dāngrán wǒ zhīdào zàijiàn',\n",
       " 'en',\n",
       " 'haha, I was trying to say goodbye to you in Chinese, of course I know what 再见 means')"
      ]
     },
     "execution_count": 14,
     "metadata": {},
     "output_type": "execute_result"
    }
   ],
   "source": [
    "y.dest, y.text, y.pronunciation, y.src, y.origin"
   ]
  },
  {
   "cell_type": "markdown",
   "id": "ae35709e",
   "metadata": {},
   "source": [
    "## DeepL Translate\n",
    "\n",
    "Subscription (free tier) : Max. 500,000 characters/month\n",
    "\n",
    "DeepL translations are proven to be four times better than the competition, according to blind tests done by professional translators.\n",
    "\n",
    "`pip install --upgrade deepl`\n",
    "\n",
    "- [python API](https://github.com/DeepLcom/deepl-python)"
   ]
  },
  {
   "cell_type": "code",
   "execution_count": 15,
   "id": "49d670e3",
   "metadata": {},
   "outputs": [],
   "source": [
    "import deepl\n",
    "\n",
    "translator = deepl.Translator(deepl_api_key)"
   ]
  },
  {
   "cell_type": "code",
   "execution_count": 16,
   "id": "522d0111",
   "metadata": {},
   "outputs": [],
   "source": [
    "src_langs = translator.get_source_languages()\n",
    "tgt_langs = translator.get_target_languages()"
   ]
  },
  {
   "cell_type": "code",
   "execution_count": 32,
   "id": "3f6ff3c1",
   "metadata": {},
   "outputs": [],
   "source": [
    "src_lang_list = [(l.code.lower(),l.name) for l in src_langs]\n",
    "tgt_lang_list = [(l.code.lower(),l.name) for l in tgt_langs]"
   ]
  },
  {
   "cell_type": "code",
   "execution_count": 33,
   "id": "1fdfa51a",
   "metadata": {
    "scrolled": true
   },
   "outputs": [
    {
     "name": "stdout",
     "output_type": "stream",
     "text": [
      "[('bg', 'Bulgarian'), ('cs', 'Czech'), ('da', 'Danish'), ('de', 'German'), ('el', 'Greek'), ('en', 'English'), ('es', 'Spanish'), ('et', 'Estonian'), ('fi', 'Finnish'), ('fr', 'French'), ('hu', 'Hungarian'), ('id', 'Indonesian'), ('it', 'Italian'), ('ja', 'Japanese'), ('ko', 'Korean'), ('lt', 'Lithuanian'), ('lv', 'Latvian'), ('nb', 'Norwegian'), ('nl', 'Dutch'), ('pl', 'Polish'), ('pt', 'Portuguese'), ('ro', 'Romanian'), ('ru', 'Russian'), ('sk', 'Slovak'), ('sl', 'Slovenian'), ('sv', 'Swedish'), ('tr', 'Turkish'), ('uk', 'Ukrainian'), ('zh', 'Chinese')]\n"
     ]
    }
   ],
   "source": [
    "print(src_lang_list)"
   ]
  },
  {
   "cell_type": "code",
   "execution_count": 34,
   "id": "89fe6bb1",
   "metadata": {
    "scrolled": true
   },
   "outputs": [
    {
     "name": "stdout",
     "output_type": "stream",
     "text": [
      "[('bg', 'Bulgarian'), ('cs', 'Czech'), ('da', 'Danish'), ('de', 'German'), ('el', 'Greek'), ('en-gb', 'English (British)'), ('en-us', 'English (American)'), ('es', 'Spanish'), ('et', 'Estonian'), ('fi', 'Finnish'), ('fr', 'French'), ('hu', 'Hungarian'), ('id', 'Indonesian'), ('it', 'Italian'), ('ja', 'Japanese'), ('ko', 'Korean'), ('lt', 'Lithuanian'), ('lv', 'Latvian'), ('nb', 'Norwegian'), ('nl', 'Dutch'), ('pl', 'Polish'), ('pt-br', 'Portuguese (Brazilian)'), ('pt-pt', 'Portuguese (European)'), ('ro', 'Romanian'), ('ru', 'Russian'), ('sk', 'Slovak'), ('sl', 'Slovenian'), ('sv', 'Swedish'), ('tr', 'Turkish'), ('uk', 'Ukrainian'), ('zh', 'Chinese (simplified)')]\n"
     ]
    }
   ],
   "source": [
    "print(tgt_lang_list)"
   ]
  },
  {
   "cell_type": "code",
   "execution_count": 35,
   "id": "1c4c5d5e-df2a-443e-84f5-ab5e9919d5c0",
   "metadata": {
    "scrolled": true
   },
   "outputs": [
    {
     "data": {
      "text/plain": [
       "{'bg',\n",
       " 'cs',\n",
       " 'da',\n",
       " 'de',\n",
       " 'el',\n",
       " 'es',\n",
       " 'et',\n",
       " 'fi',\n",
       " 'fr',\n",
       " 'hu',\n",
       " 'id',\n",
       " 'it',\n",
       " 'ja',\n",
       " 'ko',\n",
       " 'lt',\n",
       " 'lv',\n",
       " 'nb',\n",
       " 'nl',\n",
       " 'pl',\n",
       " 'ro',\n",
       " 'ru',\n",
       " 'sk',\n",
       " 'sl',\n",
       " 'sv',\n",
       " 'tr',\n",
       " 'uk',\n",
       " 'zh'}"
      ]
     },
     "execution_count": 35,
     "metadata": {},
     "output_type": "execute_result"
    }
   ],
   "source": [
    "# common in source/target\n",
    "set([i[0] for i in src_lang_list]).intersection(set([i[0] for i in tgt_lang_list]))"
   ]
  },
  {
   "cell_type": "code",
   "execution_count": 36,
   "id": "b334e37e-a1e5-4a48-af98-da1c6c912c77",
   "metadata": {},
   "outputs": [
    {
     "data": {
      "text/plain": [
       "{'en', 'pt'}"
      ]
     },
     "execution_count": 36,
     "metadata": {},
     "output_type": "execute_result"
    }
   ],
   "source": [
    "# only in source\n",
    "set([i[0] for i in src_lang_list]).difference(set([i[0] for i in tgt_lang_list]))"
   ]
  },
  {
   "cell_type": "code",
   "execution_count": 37,
   "id": "55f0cd5c-b254-4fea-ae8a-7450d948e6a6",
   "metadata": {},
   "outputs": [
    {
     "data": {
      "text/plain": [
       "{'en-gb', 'en-us', 'pt-br', 'pt-pt'}"
      ]
     },
     "execution_count": 37,
     "metadata": {},
     "output_type": "execute_result"
    }
   ],
   "source": [
    "# only in target\n",
    "set([i[0] for i in tgt_lang_list]).difference(set([i[0] for i in src_lang_list]))"
   ]
  },
  {
   "cell_type": "code",
   "execution_count": 20,
   "id": "72064418",
   "metadata": {},
   "outputs": [
    {
     "name": "stdout",
     "output_type": "stream",
     "text": [
      "你好，DeepL！\n"
     ]
    }
   ],
   "source": [
    "result = translator.translate_text(\"Hello, world of DeepL !\", target_lang=\"ZH\")\n",
    "print(result.text)  # \"Bonjour, le monde !\""
   ]
  },
  {
   "cell_type": "code",
   "execution_count": null,
   "id": "e2e3141c",
   "metadata": {},
   "outputs": [],
   "source": []
  }
 ],
 "metadata": {
  "kernelspec": {
   "display_name": "Python 3 (ipykernel)",
   "language": "python",
   "name": "python3"
  },
  "language_info": {
   "codemirror_mode": {
    "name": "ipython",
    "version": 3
   },
   "file_extension": ".py",
   "mimetype": "text/x-python",
   "name": "python",
   "nbconvert_exporter": "python",
   "pygments_lexer": "ipython3",
   "version": "3.10.12"
  },
  "nbTranslate": {
   "displayLangs": [
    "*"
   ],
   "hotkey": "alt-t",
   "langInMainMenu": true,
   "sourceLang": "en",
   "targetLang": "fr",
   "useGoogleTranslate": true
  },
  "toc": {
   "base_numbering": 1,
   "nav_menu": {},
   "number_sections": true,
   "sideBar": true,
   "skip_h1_title": false,
   "title_cell": "Table of Contents",
   "title_sidebar": "Contents",
   "toc_cell": false,
   "toc_position": {},
   "toc_section_display": true,
   "toc_window_display": false
  }
 },
 "nbformat": 4,
 "nbformat_minor": 5
}
