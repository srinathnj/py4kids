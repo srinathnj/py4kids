{
 "cells": [
  {
   "cell_type": "code",
   "execution_count": 11,
   "metadata": {},
   "outputs": [],
   "source": [
    "import pyttsx3\n",
    "speaker = pyttsx3.init()"
   ]
  },
  {
   "cell_type": "code",
   "execution_count": 12,
   "metadata": {},
   "outputs": [],
   "source": [
    "book = open('of-human-bondage.txt')\n",
    "text = book.read()"
   ]
  },
  {
   "cell_type": "code",
   "execution_count": 13,
   "metadata": {},
   "outputs": [],
   "source": [
    "txt = []\n",
    "for t in text.split('\\n\\n'):\n",
    "    txt.append(t.replace('\\n', ' '))"
   ]
  },
  {
   "cell_type": "code",
   "execution_count": 14,
   "metadata": {},
   "outputs": [
    {
     "data": {
      "text/plain": [
       "['The Project Gutenberg EBook of Of Human Bondage, by W. Somerset Maugham',\n",
       " 'This eBook is for the use of anyone anywhere at no cost and with almost no restrictions whatsoever.  You may copy it, give it away or re-use it under the terms of the Project Gutenberg License included with this eBook or online at www.gutenberg.net',\n",
       " ' Title: Of Human Bondage',\n",
       " 'Author: W. Somerset Maugham',\n",
       " 'Release Date: May 6, 2008 [EBook #351]   [Original release date: October, 1995]   [Most recently updated: July 12, 2013]',\n",
       " 'Language: English',\n",
       " ' *** START OF THIS PROJECT GUTENBERG EBOOK OF HUMAN BONDAGE ***',\n",
       " '',\n",
       " '',\n",
       " '',\n",
       " '',\n",
       " '',\n",
       " ' OF HUMAN BONDAGE',\n",
       " ' BY',\n",
       " 'W. SOMERSET MAUGHAM',\n",
       " '',\n",
       " ' I',\n",
       " \"The day broke gray and dull. The clouds hung heavily, and there was a rawness in the air that suggested snow. A woman servant came into a room in which a child was sleeping and drew the curtains. She glanced mechanically at the house opposite, a stucco house with a portico, and went to the child's bed.\",\n",
       " '\"Wake up, Philip,\" she said.',\n",
       " 'She pulled down the bed-clothes, took him in her arms, and carried him downstairs. He was only half awake.',\n",
       " '\"Your mother wants you,\" she said.',\n",
       " 'She opened the door of a room on the floor below and took the child over to a bed in which a woman was lying. It was his mother. She stretched out her arms, and the child nestled by her side. He did not ask why he had been awakened. The woman kissed his eyes, and with thin, small hands felt the warm body through his white flannel nightgown. She pressed him closer to herself.',\n",
       " '\"Are you sleepy, darling?\" she said.',\n",
       " 'Her voice was so weak that it seemed to come already from a great distance. The child did not answer, but smiled comfortably. He was very happy in the large, warm bed, with those soft arms about him. He tried to make himself smaller still as he cuddled up against his mother, and he kissed her sleepily. In a moment he closed his eyes and was fast asleep. The doctor came forwards and stood by the bed-side.',\n",
       " '\"Oh, don\\'t take him away yet,\" she moaned.',\n",
       " 'The doctor, without answering, looked at her gravely. Knowing she would not be allowed to keep the child much longer, the woman kissed him again; and she passed her hand down his body till she came to his feet; she held the right foot in her hand and felt the five small toes; and then slowly passed her hand over the left one. She gave a sob.',\n",
       " '\"What\\'s the matter?\" said the doctor. \"You\\'re tired.\"',\n",
       " 'She shook her head, unable to speak, and the tears rolled down her cheeks. The doctor bent down.',\n",
       " '\"Let me take him.\"',\n",
       " 'She was too weak to resist his wish, and she gave the child up. The doctor handed him back to his nurse.',\n",
       " '\"You\\'d better put him back in his own bed.\"',\n",
       " '\"Very well, sir.\" The little boy, still sleeping, was taken away. His mother sobbed now broken-heartedly.',\n",
       " '\"What will happen to him, poor child?\"',\n",
       " 'The monthly nurse tried to quiet her, and presently, from exhaustion, the crying ceased. The doctor walked to a table on the other side of the room, upon which, under a towel, lay the body of a still-born child. He lifted the towel and looked. He was hidden from the bed by a screen, but the woman guessed what he was doing.',\n",
       " '\"Was it a girl or a boy?\" she whispered to the nurse.',\n",
       " '\"Another boy.\"',\n",
       " \"The woman did not answer. In a moment the child's nurse came back. She approached the bed.\",\n",
       " '\"Master Philip never woke up,\" she said. There was a pause. Then the doctor felt his patient\\'s pulse once more.',\n",
       " '\"I don\\'t think there\\'s anything I can do just now,\" he said. \"I\\'ll call again after breakfast.\"',\n",
       " '\"I\\'ll show you out, sir,\" said the child\\'s nurse.',\n",
       " 'They walked downstairs in silence. In the hall the doctor stopped.',\n",
       " '\"You\\'ve sent for Mrs. Carey\\'s brother-in-law, haven\\'t you?\"',\n",
       " '\"Yes, sir.\"',\n",
       " '\"D\\'you know at what time he\\'ll be here?\"',\n",
       " '\"No, sir, I\\'m expecting a telegram.\"',\n",
       " '\"What about the little boy? I should think he\\'d be better out of the way.\"',\n",
       " '\"Miss Watkin said she\\'d take him, sir.\"',\n",
       " '\"Who\\'s she?\"',\n",
       " '\"She\\'s his godmother, sir. D\\'you think Mrs. Carey will get over it, sir?\"',\n",
       " 'The doctor shook his head.',\n",
       " '',\n",
       " 'II',\n",
       " \"It was a week later. Philip was sitting on the floor in the drawing-room at Miss Watkin's house in Onslow gardens. He was an only child and used to amusing himself. The room was filled with massive furniture, and on each of the sofas were three big cushions. There was a cushion too in each arm-chair. All these he had taken and, with the help of the gilt rout chairs, light and easy to move, had made an elaborate cave in which he could hide himself from the Red Indians who were lurking behind the curtains. He put his ear to the floor and listened to the herd of buffaloes that raced across the prairie. Presently, hearing the door open, he held his breath so that he might not be discovered; but a violent hand pulled away a chair and the cushions fell down.\",\n",
       " '\"You naughty boy, Miss Watkin WILL be cross with you.\"',\n",
       " '\"Hulloa, Emma!\" he said.',\n",
       " 'The nurse bent down and kissed him, then began to shake out the cushions, and put them back in their places.',\n",
       " '\"Am I to come home?\" he asked.',\n",
       " '\"Yes, I\\'ve come to fetch you.\"',\n",
       " '\"You\\'ve got a new dress on.\"',\n",
       " 'It was in eighteen-eighty-five, and she wore a bustle. Her gown was of black velvet, with tight sleeves and sloping shoulders, and the skirt had three large flounces. She wore a black bonnet with velvet strings. She hesitated. The question she had expected did not come, and so she could not give the answer she had prepared.',\n",
       " '\"Aren\\'t you going to ask how your mamma is?\" she said at length.',\n",
       " '\"Oh, I forgot. How is mamma?\"',\n",
       " 'Now she was ready.',\n",
       " '\"Your mamma is quite well and happy.\"',\n",
       " '\"Oh, I am glad.\"',\n",
       " '\"Your mamma\\'s gone away. You won\\'t ever see her any more.\" Philip did not know what she meant.',\n",
       " '\"Why not?\"',\n",
       " '\"Your mamma\\'s in heaven.\"',\n",
       " 'She began to cry, and Philip, though he did not quite understand, cried too. Emma was a tall, big-boned woman, with fair hair and large features. She came from Devonshire and, notwithstanding her many years of service in London, had never lost the breadth of her accent. Her tears increased her emotion, and she pressed the little boy to her heart. She felt vaguely the pity of that child deprived of the only love in the world that is quite unselfish. It seemed dreadful that he must be handed over to strangers. But in a little while she pulled herself together.',\n",
       " '\"Your Uncle William is waiting in to see you,\" she said. \"Go and say good-bye to Miss Watkin, and we\\'ll go home.\"',\n",
       " '\"I don\\'t want to say good-bye,\" he answered, instinctively anxious to hide his tears.',\n",
       " '\"Very well, run upstairs and get your hat.\"',\n",
       " 'He fetched it, and when he came down Emma was waiting for him in the hall. He heard the sound of voices in the study behind the dining-room. He paused. He knew that Miss Watkin and her sister were talking to friends, and it seemed to him--he was nine years old--that if he went in they would be sorry for him.',\n",
       " '\"I think I\\'ll go and say good-bye to Miss Watkin.\"',\n",
       " '\"I think you\\'d better,\" said Emma.',\n",
       " '\"Go in and tell them I\\'m coming,\" he said.',\n",
       " 'He wished to make the most of his opportunity. Emma knocked at the door and walked in. He heard her speak.',\n",
       " '\"Master Philip wants to say good-bye to you, miss.\"',\n",
       " \"There was a sudden hush of the conversation, and Philip limped in. Henrietta Watkin was a stout woman, with a red face and dyed hair. In those days to dye the hair excited comment, and Philip had heard much gossip at home when his godmother's changed colour. She lived with an elder sister, who had resigned herself contentedly to old age. Two ladies, whom Philip did not know, were calling, and they looked at him curiously.\",\n",
       " '\"My poor child,\" said Miss Watkin, opening her arms.',\n",
       " 'She began to cry. Philip understood now why she had not been in to luncheon and why she wore a black dress. She could not speak.',\n",
       " '\"I\\'ve got to go home,\" said Philip, at last.',\n",
       " \"He disengaged himself from Miss Watkin's arms, and she kissed him again. Then he went to her sister and bade her good-bye too. One of the strange ladies asked if she might kiss him, and he gravely gave her permission. Though crying, he keenly enjoyed the sensation he was causing; he would have been glad to stay a little longer to be made much of, but felt they expected him to go, so he said that Emma was waiting for him. He went out of the room. Emma had gone downstairs to speak with a friend in the basement, and he waited for her on the landing. He heard Henrietta Watkin's voice.\",\n",
       " '\"His mother was my greatest friend. I can\\'t bear to think that she\\'s dead.\"',\n",
       " '\"You oughtn\\'t to have gone to the funeral, Henrietta,\" said her sister. \"I knew it would upset you.\"',\n",
       " 'Then one of the strangers spoke.',\n",
       " '\"Poor little boy, it\\'s dreadful to think of him quite alone in the world. I see he limps.\"',\n",
       " '\"Yes, he\\'s got a club-foot. It was such a grief to his mother.\"',\n",
       " 'Then Emma came back. They called a hansom, and she told the driver where to go.',\n",
       " '',\n",
       " 'III',\n",
       " ' When they reached the house Mrs. Carey had died in--it was in a dreary, respectable street between Notting Hill Gate and High Street, Kensington--Emma led Philip into the drawing-room. His uncle was writing letters of thanks for the wreaths which had been sent. One of them, which had arrived too late for the funeral, lay in its cardboard box on the hall-table.',\n",
       " '\"Here\\'s Master Philip,\" said Emma.',\n",
       " 'Mr. Carey stood up slowly and shook hands with the little boy. Then on second thoughts he bent down and kissed his forehead. He was a man of somewhat less than average height, inclined to corpulence, with his hair, worn long, arranged over the scalp so as to conceal his baldness. He was clean-shaven. His features were regular, and it was possible to imagine that in his youth he had been good-looking. On his watch-chain he wore a gold cross.',\n",
       " '\"You\\'re going to live with me now, Philip,\" said Mr. Carey. \"Shall you like that?\"',\n",
       " 'Two years before Philip had been sent down to stay at the vicarage after an attack of chicken-pox; but there remained with him a recollection of an attic and a large garden rather than of his uncle and aunt.',\n",
       " '\"Yes.\"',\n",
       " '\"You must look upon me and your Aunt Louisa as your father and mother.\"',\n",
       " \"The child's mouth trembled a little, he reddened, but did not answer.\",\n",
       " '\"Your dear mother left you in my charge.\"']"
      ]
     },
     "execution_count": 14,
     "metadata": {},
     "output_type": "execute_result"
    }
   ],
   "source": [
    "txt[:100]"
   ]
  },
  {
   "cell_type": "code",
   "execution_count": null,
   "metadata": {},
   "outputs": [
    {
     "name": "stderr",
     "output_type": "stream",
     "text": [
      "Exception ignored in: <function BSTR.__del__ at 0x00000287822C6AF0>\n",
      "Traceback (most recent call last):\n",
      "  File \"C:\\Users\\19197\\anaconda3\\lib\\site-packages\\comtypes\\__init__.py\", line 1005, in __del__\n",
      "    def __del__(self, _free=windll.oleaut32.SysFreeString):\n",
      "KeyboardInterrupt: \n",
      "Exception ignored in: <function BSTR.__del__ at 0x00000287822C6AF0>\n",
      "Traceback (most recent call last):\n",
      "  File \"C:\\Users\\19197\\anaconda3\\lib\\site-packages\\comtypes\\__init__.py\", line 1005, in __del__\n",
      "    def __del__(self, _free=windll.oleaut32.SysFreeString):\n",
      "KeyboardInterrupt: \n",
      "Exception ignored in: <function BSTR.__del__ at 0x00000287822C6AF0>\n",
      "Traceback (most recent call last):\n",
      "  File \"C:\\Users\\19197\\anaconda3\\lib\\site-packages\\comtypes\\__init__.py\", line 1005, in __del__\n",
      "    def __del__(self, _free=windll.oleaut32.SysFreeString):\n",
      "KeyboardInterrupt: \n"
     ]
    }
   ],
   "source": [
    "for para in txt[:100]:\n",
    "    speaker.say(para)\n",
    "    speaker.runAndWait()"
   ]
  },
  {
   "cell_type": "code",
   "execution_count": null,
   "metadata": {},
   "outputs": [],
   "source": []
  }
 ],
 "metadata": {
  "kernelspec": {
   "display_name": "Python 3",
   "language": "python",
   "name": "python3"
  },
  "language_info": {
   "codemirror_mode": {
    "name": "ipython",
    "version": 3
   },
   "file_extension": ".py",
   "mimetype": "text/x-python",
   "name": "python",
   "nbconvert_exporter": "python",
   "pygments_lexer": "ipython3",
   "version": "3.8.3"
  }
 },
 "nbformat": 4,
 "nbformat_minor": 4
}
