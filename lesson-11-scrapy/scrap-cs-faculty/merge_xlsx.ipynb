{
 "cells": [
  {
   "cell_type": "code",
   "execution_count": 1,
   "id": "ff9ca140",
   "metadata": {},
   "outputs": [],
   "source": [
    "import glob "
   ]
  },
  {
   "cell_type": "code",
   "execution_count": 2,
   "id": "436451d9",
   "metadata": {},
   "outputs": [],
   "source": [
    "import pandas as pd "
   ]
  },
  {
   "cell_type": "code",
   "execution_count": 3,
   "id": "91afdff1",
   "metadata": {},
   "outputs": [],
   "source": [
    "files = glob.glob(\"faculty-*.xlsx\")"
   ]
  },
  {
   "cell_type": "code",
   "execution_count": 4,
   "id": "9b00b40b",
   "metadata": {},
   "outputs": [],
   "source": [
    "file_out = \"CS-faculty.xlsx\""
   ]
  },
  {
   "cell_type": "code",
   "execution_count": 5,
   "id": "2b221dbe",
   "metadata": {},
   "outputs": [
    {
     "data": {
      "text/plain": [
       "['faculty-CMU-CS.xlsx',\n",
       " 'faculty-Cornell-CS.xlsx',\n",
       " 'faculty-MIT-AID.xlsx',\n",
       " 'faculty-MIT-CS.xlsx',\n",
       " 'faculty-Stanford-CS.xlsx',\n",
       " 'faculty-UCB-CS.xlsx',\n",
       " 'faculty-UIUC-CS.xlsx']"
      ]
     },
     "execution_count": 5,
     "metadata": {},
     "output_type": "execute_result"
    }
   ],
   "source": [
    "files"
   ]
  },
  {
   "cell_type": "code",
   "execution_count": 6,
   "id": "67536482",
   "metadata": {},
   "outputs": [],
   "source": [
    "has_research_groups = [\"MIT-AID\", \"MIT-CS\", \"UCB-CS\"]"
   ]
  },
  {
   "cell_type": "code",
   "execution_count": 7,
   "id": "412d136d",
   "metadata": {},
   "outputs": [],
   "source": [
    "sheets = [\"Faculty\", \"Research Groups\"]"
   ]
  },
  {
   "cell_type": "code",
   "execution_count": 8,
   "id": "e8755db2",
   "metadata": {},
   "outputs": [],
   "source": [
    "writer = pd.ExcelWriter(file_out, engine='xlsxwriter')"
   ]
  },
  {
   "cell_type": "markdown",
   "id": "3b3eb83e",
   "metadata": {},
   "source": [
    "## write Faculties"
   ]
  },
  {
   "cell_type": "code",
   "execution_count": 9,
   "id": "36a8183a",
   "metadata": {},
   "outputs": [],
   "source": [
    "for n, f_path in enumerate(files):\n",
    "    sheet_name = f_path.replace('.xlsx','').replace('faculty-','')\n",
    "    # if n > 0: break\n",
    "    xls = pd.ExcelFile(f_path)\n",
    "    df = pd.read_excel(xls, sheets[0], keep_default_na=False)\n",
    "    df.to_excel(writer, sheet_name=sheet_name, index=False)\n",
    "    "
   ]
  },
  {
   "cell_type": "markdown",
   "id": "64670a84",
   "metadata": {},
   "source": [
    "## write Research Groups"
   ]
  },
  {
   "cell_type": "code",
   "execution_count": 10,
   "id": "8af7fbe6",
   "metadata": {},
   "outputs": [],
   "source": [
    "research_groups = []\n",
    "for n, f_path in enumerate(files):\n",
    "    sheet_name = f_path.replace('.xlsx','').replace('faculty-','')\n",
    "    # if n > 0: break\n",
    "    xls = pd.ExcelFile(f_path)\n",
    "    if sheet_name in has_research_groups:\n",
    "        research_groups.append(pd.read_excel(xls, sheets[1], keep_default_na=False))"
   ]
  },
  {
   "cell_type": "code",
   "execution_count": 11,
   "id": "634ef8c3",
   "metadata": {},
   "outputs": [],
   "source": [
    "df_research_grp = pd.concat(research_groups, ignore_index=True)"
   ]
  },
  {
   "cell_type": "code",
   "execution_count": 12,
   "id": "8ab3f4d7",
   "metadata": {},
   "outputs": [],
   "source": [
    "df_research_grp.drop_duplicates(inplace=True)"
   ]
  },
  {
   "cell_type": "code",
   "execution_count": 13,
   "id": "17674a94",
   "metadata": {},
   "outputs": [],
   "source": [
    "df_research_grp.sort_values(\"research_group\", inplace=True)"
   ]
  },
  {
   "cell_type": "code",
   "execution_count": 14,
   "id": "eb277bc7",
   "metadata": {},
   "outputs": [],
   "source": [
    "df_research_grp = df_research_grp[[\"url\", \"research_group\"]]\n",
    "# df_research_grp"
   ]
  },
  {
   "cell_type": "code",
   "execution_count": 15,
   "id": "2611bdd6",
   "metadata": {},
   "outputs": [],
   "source": [
    "df_research_grp.to_excel(writer, sheet_name=\"Research-Groups\", index=False)"
   ]
  },
  {
   "cell_type": "code",
   "execution_count": 16,
   "id": "088fc734",
   "metadata": {},
   "outputs": [],
   "source": [
    "writer.save()"
   ]
  },
  {
   "cell_type": "code",
   "execution_count": null,
   "id": "a02cec23",
   "metadata": {},
   "outputs": [],
   "source": []
  }
 ],
 "metadata": {
  "kernelspec": {
   "display_name": "Python 3 (ipykernel)",
   "language": "python",
   "name": "python3"
  },
  "language_info": {
   "codemirror_mode": {
    "name": "ipython",
    "version": 3
   },
   "file_extension": ".py",
   "mimetype": "text/x-python",
   "name": "python",
   "nbconvert_exporter": "python",
   "pygments_lexer": "ipython3",
   "version": "3.9.13"
  },
  "nbTranslate": {
   "displayLangs": [
    "*"
   ],
   "hotkey": "alt-t",
   "langInMainMenu": true,
   "sourceLang": "en",
   "targetLang": "fr",
   "useGoogleTranslate": true
  },
  "toc": {
   "base_numbering": 1,
   "nav_menu": {},
   "number_sections": true,
   "sideBar": true,
   "skip_h1_title": false,
   "title_cell": "Table of Contents",
   "title_sidebar": "Contents",
   "toc_cell": false,
   "toc_position": {},
   "toc_section_display": true,
   "toc_window_display": false
  }
 },
 "nbformat": 4,
 "nbformat_minor": 5
}
