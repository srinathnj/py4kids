{
 "cells": [
  {
   "cell_type": "markdown",
   "id": "88a0ace9",
   "metadata": {},
   "source": [
    "This notebook merge individual spreadsheet from various schools into one"
   ]
  },
  {
   "cell_type": "code",
   "execution_count": 1,
   "id": "945a9c4e",
   "metadata": {},
   "outputs": [],
   "source": [
    "import glob \n",
    "import pandas as pd "
   ]
  },
  {
   "cell_type": "code",
   "execution_count": 2,
   "id": "ca114a48",
   "metadata": {},
   "outputs": [],
   "source": [
    "has_research_groups = [\"MIT-AID\", \"MIT-CS\", \"UCB-CS\"]\n",
    "\n",
    "sheets = [\"Faculty\", \"Research Groups\"]\n",
    "\n",
    "file_out = \"CS-faculty-2.xlsx\"\n",
    "\n",
    "files_in = glob.glob(\"faculty-*.xlsx\")"
   ]
  },
  {
   "cell_type": "code",
   "execution_count": 3,
   "id": "9e87a734",
   "metadata": {},
   "outputs": [
    {
     "data": {
      "text/plain": [
       "['faculty-CMU-CS.xlsx',\n",
       " 'faculty-Cornell-CS.xlsx',\n",
       " 'faculty-MIT-AID.xlsx',\n",
       " 'faculty-MIT-CS.xlsx',\n",
       " 'faculty-Stanford-CS.xlsx',\n",
       " 'faculty-UCB-CS.xlsx',\n",
       " 'faculty-UIUC-CS.xlsx']"
      ]
     },
     "execution_count": 3,
     "metadata": {},
     "output_type": "execute_result"
    }
   ],
   "source": [
    "files_in"
   ]
  },
  {
   "cell_type": "code",
   "execution_count": 4,
   "id": "425078c3",
   "metadata": {},
   "outputs": [],
   "source": [
    "writer = pd.ExcelWriter(file_out, engine='xlsxwriter')"
   ]
  },
  {
   "cell_type": "markdown",
   "id": "3d44ce90",
   "metadata": {},
   "source": [
    "## write Research Groups"
   ]
  },
  {
   "cell_type": "code",
   "execution_count": 5,
   "id": "272be230",
   "metadata": {},
   "outputs": [],
   "source": [
    "research_groups = []\n",
    "for n, f_path in enumerate(files_in):\n",
    "    sheet_name = f_path.replace('.xlsx','').replace('faculty-','')\n",
    "    # if n > 0: break\n",
    "    xls = pd.ExcelFile(f_path)\n",
    "    if sheet_name in has_research_groups:\n",
    "        research_groups.append(pd.read_excel(xls, sheets[1], keep_default_na=False))\n",
    "\n",
    "df_research_grp = pd.concat(research_groups, ignore_index=True)\n",
    "df_research_grp.drop_duplicates(inplace=True)\n",
    "df_research_grp.sort_values(\"research_group\", inplace=True)\n",
    "df_research_grp = df_research_grp[[\"url\", \"research_group\"]]\n",
    "# df_research_grp\n",
    "\n",
    "df_research_grp.to_excel(writer, sheet_name=\"Research-Groups\", index=False)"
   ]
  },
  {
   "cell_type": "markdown",
   "id": "9cbe6ecc",
   "metadata": {},
   "source": [
    "## write Faculties"
   ]
  },
  {
   "cell_type": "code",
   "execution_count": 6,
   "id": "1964d31b",
   "metadata": {},
   "outputs": [],
   "source": [
    "for n, f_path in enumerate(files_in):\n",
    "    sheet_name = f_path.replace('.xlsx','').replace('faculty-','')\n",
    "    # if n > 0: break\n",
    "    xls = pd.ExcelFile(f_path)\n",
    "    df = pd.read_excel(xls, sheets[0], keep_default_na=False)\n",
    "    \n",
    "    df.to_excel(writer, sheet_name=sheet_name, index=False)\n",
    "    "
   ]
  },
  {
   "cell_type": "markdown",
   "id": "e33f231f",
   "metadata": {},
   "source": [
    "## close xlsx"
   ]
  },
  {
   "cell_type": "code",
   "execution_count": 7,
   "id": "6fb0cea2",
   "metadata": {},
   "outputs": [],
   "source": [
    "writer.save()"
   ]
  },
  {
   "cell_type": "code",
   "execution_count": null,
   "id": "4882d39a",
   "metadata": {},
   "outputs": [],
   "source": []
  }
 ],
 "metadata": {
  "kernelspec": {
   "display_name": "Python 3 (ipykernel)",
   "language": "python",
   "name": "python3"
  },
  "language_info": {
   "codemirror_mode": {
    "name": "ipython",
    "version": 3
   },
   "file_extension": ".py",
   "mimetype": "text/x-python",
   "name": "python",
   "nbconvert_exporter": "python",
   "pygments_lexer": "ipython3",
   "version": "3.9.13"
  },
  "nbTranslate": {
   "displayLangs": [
    "*"
   ],
   "hotkey": "alt-t",
   "langInMainMenu": true,
   "sourceLang": "en",
   "targetLang": "fr",
   "useGoogleTranslate": true
  },
  "toc": {
   "base_numbering": 1,
   "nav_menu": {},
   "number_sections": true,
   "sideBar": true,
   "skip_h1_title": false,
   "title_cell": "Table of Contents",
   "title_sidebar": "Contents",
   "toc_cell": false,
   "toc_position": {},
   "toc_section_display": true,
   "toc_window_display": false
  }
 },
 "nbformat": 4,
 "nbformat_minor": 5
}
