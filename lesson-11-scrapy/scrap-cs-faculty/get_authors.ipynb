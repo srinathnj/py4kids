{
 "cells": [
  {
   "cell_type": "code",
   "execution_count": null,
   "id": "eb7df409",
   "metadata": {},
   "outputs": [],
   "source": [
    "import re"
   ]
  },
  {
   "cell_type": "code",
   "execution_count": 23,
   "id": "9c3e9192",
   "metadata": {},
   "outputs": [],
   "source": [
    "def extract_names_from_paper_title(title):\n",
    "    \n",
    "    names = []\n",
    "    for name in re.split(\"[\\,\\.]\", title):\n",
    "        if re.findall(r\"\\d\", name) or len(name) > 30:\n",
    "            break\n",
    "        names.append(name)\n",
    "    return [n.strip().replace(\"and \", \"\") for n in names if n.strip()]\n",
    "\n",
    "if False:\n",
    "    paper_title = \"\"\"Alexandra Bremers, Maria Teresa Parreira, Xuanyu Fang, Natalie Friedman, Adolfo Ramirez-Aristizabal, Alexandria Pabst, Mirjana Spasojevic, Michael Kuniavsky, and Wendy Ju. \"The Bystander Affect Detection (BAD) Dataset for Failure Detection in HRI.\" Accepted to IROS 2023. October 1-4, 2023. Detroit USA. arXiv preprint arXiv:2303.04835 (2023).\"\"\"\n",
    "    print(extract_names_from_paper_title(paper_title))"
   ]
  },
  {
   "cell_type": "code",
   "execution_count": 24,
   "id": "c1e77d88",
   "metadata": {},
   "outputs": [],
   "source": [
    "papers_str = \"\"\"\n",
    "Alexandra Bremers, Maria Teresa Parreira, Xuanyu Fang, Natalie Friedman, Adolfo Ramirez-Aristizabal, Alexandria Pabst, Mirjana Spasojevic, Michael Kuniavsky, and Wendy Ju. \"The Bystander Affect Detection (BAD) Dataset for Failure Detection in HRI.\" Accepted to IROS 2023. October 1-4, 2023. Detroit USA. arXiv preprint arXiv:2303.04835 (2023).\n",
    "\n",
    "Saki Suzuki, Ilan Mandel, Stacey Li, Wen-Ying Lee, Mark Colley, Wendy Ju. AdVANcing Design: Customizing Spaces for Vanlife. In Automotive User Interfaces 2023. September 18-21, 2023. Ingolstadt, Germany.\n",
    "\n",
    "Ilan Mandel, Wendy Ju. Recapturing Product as Material Supply: A Case Study around Hoverboards. In Designing Interactive Systems 2023. July 10-14, 2023. Pittsburgh.Honorable Mention Award\n",
    "\"\"\" \n",
    "\n",
    "titles = [i.strip() for i in papers_str.split(\"\\n\") if i.strip()]"
   ]
  },
  {
   "cell_type": "code",
   "execution_count": 25,
   "id": "9aa5d28e",
   "metadata": {},
   "outputs": [
    {
     "data": {
      "text/plain": [
       "{'Alexandra Bremers': 1,\n",
       " 'Maria Teresa Parreira': 1,\n",
       " 'Xuanyu Fang': 1,\n",
       " 'Natalie Friedman': 1,\n",
       " 'Adolfo Ramirez-Aristizabal': 1,\n",
       " 'Alexandria Pabst': 1,\n",
       " 'Mirjana Spasojevic': 1,\n",
       " 'Michael Kuniavsky': 1,\n",
       " 'Wendy Ju': 3,\n",
       " 'Saki Suzuki': 1,\n",
       " 'Ilan Mandel': 2,\n",
       " 'Stacey Li': 1,\n",
       " 'Wen-Ying Lee': 1,\n",
       " 'Mark Colley': 1}"
      ]
     },
     "execution_count": 25,
     "metadata": {},
     "output_type": "execute_result"
    }
   ],
   "source": [
    "author_count = {}\n",
    "for title in titles:\n",
    "    for author in extract_names_from_paper_title(title):\n",
    "        cnt = author_count.get(author,0)\n",
    "        author_count[author] = cnt + 1 \n",
    "author_count"
   ]
  },
  {
   "cell_type": "code",
   "execution_count": null,
   "id": "90ac35e1",
   "metadata": {},
   "outputs": [],
   "source": []
  }
 ],
 "metadata": {
  "kernelspec": {
   "display_name": "Python 3 (ipykernel)",
   "language": "python",
   "name": "python3"
  },
  "language_info": {
   "codemirror_mode": {
    "name": "ipython",
    "version": 3
   },
   "file_extension": ".py",
   "mimetype": "text/x-python",
   "name": "python",
   "nbconvert_exporter": "python",
   "pygments_lexer": "ipython3",
   "version": "3.9.13"
  },
  "nbTranslate": {
   "displayLangs": [
    "*"
   ],
   "hotkey": "alt-t",
   "langInMainMenu": true,
   "sourceLang": "en",
   "targetLang": "fr",
   "useGoogleTranslate": true
  },
  "toc": {
   "base_numbering": 1,
   "nav_menu": {},
   "number_sections": true,
   "sideBar": true,
   "skip_h1_title": false,
   "title_cell": "Table of Contents",
   "title_sidebar": "Contents",
   "toc_cell": false,
   "toc_position": {},
   "toc_section_display": true,
   "toc_window_display": false
  }
 },
 "nbformat": 4,
 "nbformat_minor": 5
}
