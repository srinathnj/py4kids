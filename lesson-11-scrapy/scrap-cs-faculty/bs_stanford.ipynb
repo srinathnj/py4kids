{
 "cells": [
  {
   "cell_type": "markdown",
   "id": "ef82f6a1",
   "metadata": {},
   "source": [
    "## US CS Faculty Dataset\n",
    "- [CS Faculty Composition and Hiring Trends (Blog)](https://jeffhuang.com/computer-science-open-data/#cs-faculty-composition-and-hiring-trends)\n",
    "- [2200 Computer Science Professors in 50 top US Graduate Programs](https://cs.brown.edu/people/apapouts/faculty_dataset.html)\n",
    "- [CS Professors (Data Explorer)](https://drafty.cs.brown.edu/csprofessors?src=csopendata)\n",
    "- [Drafty Project](https://drafty.cs.brown.edu/)"
   ]
  },
  {
   "cell_type": "markdown",
   "id": "46aa24ac",
   "metadata": {},
   "source": [
    "\n",
    "Use beautiful_soup to scrap CS Faculty info"
   ]
  },
  {
   "cell_type": "code",
   "execution_count": 1,
   "id": "559c3d46",
   "metadata": {},
   "outputs": [],
   "source": [
    "from scrap_cs_faculty import *"
   ]
  },
  {
   "cell_type": "code",
   "execution_count": 2,
   "id": "71ca0a66",
   "metadata": {},
   "outputs": [
    {
     "name": "stdout",
     "output_type": "stream",
     "text": [
      "https://cs.stanford.edu/directory/faculty\n"
     ]
    }
   ],
   "source": [
    "SCHOOL = \"Stanford-CS\"\n",
    "URL = SCHOOL_DICT[SCHOOL][\"url\"]  #  \"https://www.eecs.mit.edu/role/faculty-aid/\"\n",
    "print(URL)"
   ]
  },
  {
   "cell_type": "code",
   "execution_count": 3,
   "id": "301a55a0",
   "metadata": {},
   "outputs": [],
   "source": [
    "base_url = \"/\".join(URL.split(\"/\")[:3])"
   ]
  },
  {
   "cell_type": "code",
   "execution_count": 4,
   "id": "c376259d",
   "metadata": {},
   "outputs": [],
   "source": [
    "page = requests.get(URL, headers=BROWSER_HEADERS)"
   ]
  },
  {
   "cell_type": "raw",
   "id": "f7b53692",
   "metadata": {},
   "source": [
    "page"
   ]
  },
  {
   "cell_type": "code",
   "execution_count": 5,
   "id": "b247300f",
   "metadata": {},
   "outputs": [],
   "source": [
    "soup = BeautifulSoup(page.content, \"html.parser\")"
   ]
  },
  {
   "cell_type": "raw",
   "id": "d2e63f92",
   "metadata": {},
   "source": [
    "soup"
   ]
  },
  {
   "cell_type": "raw",
   "id": "dff5f4f9",
   "metadata": {},
   "source": [
    "results = soup.find(\"span\", class_=\"people-entry small-12 medium-6 large-4 larger-3 cell \")\n",
    "print(results.prettify())"
   ]
  },
  {
   "cell_type": "markdown",
   "id": "9fd61f3e",
   "metadata": {},
   "source": [
    "## Find Elements by HTML Class Name"
   ]
  },
  {
   "cell_type": "raw",
   "id": "fc1ad87d",
   "metadata": {},
   "source": [
    "cs_persons = soup.findAll(\"div\", {\"data-name\":\"people_index\"})"
   ]
  },
  {
   "cell_type": "raw",
   "id": "ed2eedb1",
   "metadata": {},
   "source": [
    "cs_persons = soup.find_all(\"div\", class_=\"media\")"
   ]
  },
  {
   "cell_type": "code",
   "execution_count": 6,
   "id": "e49b7450",
   "metadata": {},
   "outputs": [
    {
     "data": {
      "text/plain": [
       "6"
      ]
     },
     "execution_count": 6,
     "metadata": {},
     "output_type": "execute_result"
    }
   ],
   "source": [
    "cs_category = soup.find_all(\"h3\")\n",
    "\n",
    "len(cs_category)"
   ]
  },
  {
   "cell_type": "code",
   "execution_count": 7,
   "id": "cb6e6213",
   "metadata": {},
   "outputs": [],
   "source": [
    "faculty_cat = []"
   ]
  },
  {
   "cell_type": "code",
   "execution_count": 8,
   "id": "b898626b",
   "metadata": {},
   "outputs": [],
   "source": [
    "for cat in cs_category:\n",
    "    faculty_cat.append(cat.text.strip())"
   ]
  },
  {
   "cell_type": "code",
   "execution_count": 9,
   "id": "34cef524",
   "metadata": {},
   "outputs": [
    {
     "data": {
      "text/plain": [
       "['Regular Faculty',\n",
       " 'Lecturers',\n",
       " 'Emeritus Faculty',\n",
       " 'Courtesy Faculty',\n",
       " 'Adjunct Faculty',\n",
       " 'Visiting and Acting Faculty']"
      ]
     },
     "execution_count": 9,
     "metadata": {},
     "output_type": "execute_result"
    }
   ],
   "source": [
    "faculty_cat"
   ]
  },
  {
   "cell_type": "code",
   "execution_count": 10,
   "id": "2e3ceb6c",
   "metadata": {},
   "outputs": [
    {
     "data": {
      "text/plain": [
       "6"
      ]
     },
     "execution_count": 10,
     "metadata": {},
     "output_type": "execute_result"
    }
   ],
   "source": [
    "cs_tables = soup.find_all(\"table\")\n",
    "\n",
    "len(cs_tables) "
   ]
  },
  {
   "cell_type": "raw",
   "id": "ce67af51",
   "metadata": {},
   "source": [
    "itable = 0\n",
    "table = cs_tables[itable]\n",
    "\n",
    "cs_persons = table.find_all(\"tr\")\n",
    "len(cs_persons) \n",
    "\n",
    "cs_persons[0].find_all(\"th\")\n",
    "# cols = [\"name\", \"phone\", \"office\", \"email\"]"
   ]
  },
  {
   "cell_type": "markdown",
   "id": "86b393a8",
   "metadata": {},
   "source": [
    "### Extract Text From HTML Elements\n",
    "\n",
    "You can add .text to a Beautiful Soup object to return only the text content of the HTML elements that the object contains:"
   ]
  },
  {
   "cell_type": "code",
   "execution_count": 11,
   "id": "a4200a1c",
   "metadata": {},
   "outputs": [],
   "source": [
    "DEBUG =  False # True #  \n",
    "\n",
    "school, dept = map_school_dept(SCHOOL)\n",
    "data = []\n",
    "\n",
    "for itable in range(len(faculty_cat)):\n",
    "    cs_persons = cs_tables[itable].find_all(\"tr\")\n",
    "    for n, person in enumerate(cs_persons):\n",
    "        try:\n",
    "            data_dict = {\"school\": school, \n",
    "                         \"department\": dept,\n",
    "                         'job_title': faculty_cat[itable]\n",
    "                        } # default\n",
    "            if n < 1: continue # skip header\n",
    "\n",
    "#             if DEBUG and n > 10: break  # debug\n",
    "\n",
    "            td = person.find_all(\"td\")\n",
    "\n",
    "            data_dict['name'] = td[0].text.strip()\n",
    "            x_url = td[0].find(\"a\")\n",
    "            if x_url:\n",
    "                data_dict['url'] = x_url[\"href\"]\n",
    "            data_dict['phone'] = td[1].text.strip()\n",
    "            data_dict['office_address'] = td[2].text.strip()\n",
    "            email = td[3].text.strip()\n",
    "            data_dict['email'] = \"\" if \" \" in email else f\"{email}@stanford.edu\"\n",
    "\n",
    "\n",
    "            if DEBUG:\n",
    "                print(f\"\\nN={n}\\t=============\")\n",
    "                print(f\"name= {data_dict.get('name','')}\")\n",
    "                print(f\"job_title= {data_dict.get('job_title','')}\")\n",
    "                print(f\"phone= {data_dict.get('phone','')}\")\n",
    "                print(f\"office= {data_dict.get('office_address','')}\")\n",
    "                print(f\"email= {data_dict.get('email','')}\")\n",
    "                print(f\"url= {data_dict.get('url','')}\")\n",
    "                print(f\"img_url= {data_dict.get('img_url','')}\")\n",
    "                print(f\"phd_univ= {data_dict.get('phd_univ','')}\")\n",
    "                print(f\"phd_year= {data_dict.get('phd_year','')}\")\n",
    "                print(f\"research_area= {data_dict.get('research_area','')}\")\n",
    "                print(f\"department= {data_dict.get('department','')}\")\n",
    "\n",
    "            if data_dict:\n",
    "                row_data = []\n",
    "                for c in COLUMNS:\n",
    "                    cell = data_dict.get(c,\"\")\n",
    "                    row_data.append(cell)\n",
    "                data.append(row_data)\n",
    "        except Exception as e:\n",
    "            print(f\"[Error] {str(e)}\\n{person.prettify()}\")"
   ]
  },
  {
   "cell_type": "code",
   "execution_count": 12,
   "id": "792ac560",
   "metadata": {
    "scrolled": true
   },
   "outputs": [
    {
     "data": {
      "text/plain": [
       "(146,\n",
       " ['Zhikun Zhang',\n",
       "  'Visiting and Acting Faculty',\n",
       "  '',\n",
       "  '',\n",
       "  '',\n",
       "  '',\n",
       "  '',\n",
       "  'http://zhangzhk.com/',\n",
       "  '',\n",
       "  '',\n",
       "  'zhikun@stanford.edu',\n",
       "  '',\n",
       "  '',\n",
       "  'Computer Science',\n",
       "  'Stanford Univ'])"
      ]
     },
     "execution_count": 12,
     "metadata": {},
     "output_type": "execute_result"
    }
   ],
   "source": [
    "len(data) , data[-1]"
   ]
  },
  {
   "cell_type": "code",
   "execution_count": 13,
   "id": "3b0fddf8",
   "metadata": {},
   "outputs": [],
   "source": [
    "df = pd.DataFrame(data, columns=COLUMNS)"
   ]
  },
  {
   "cell_type": "code",
   "execution_count": 14,
   "id": "766e5c63",
   "metadata": {},
   "outputs": [
    {
     "name": "stdout",
     "output_type": "stream",
     "text": [
      "Number of faculties at Stanford-CS: 146\n"
     ]
    }
   ],
   "source": [
    "print(f\"Number of faculties at {SCHOOL}: {df.shape[0]}\")"
   ]
  },
  {
   "cell_type": "code",
   "execution_count": 15,
   "id": "16a4497c",
   "metadata": {
    "scrolled": true
   },
   "outputs": [
    {
     "data": {
      "text/html": [
       "<div>\n",
       "<style scoped>\n",
       "    .dataframe tbody tr th:only-of-type {\n",
       "        vertical-align: middle;\n",
       "    }\n",
       "\n",
       "    .dataframe tbody tr th {\n",
       "        vertical-align: top;\n",
       "    }\n",
       "\n",
       "    .dataframe thead th {\n",
       "        text-align: right;\n",
       "    }\n",
       "</style>\n",
       "<table border=\"1\" class=\"dataframe\">\n",
       "  <thead>\n",
       "    <tr style=\"text-align: right;\">\n",
       "      <th></th>\n",
       "      <th>name</th>\n",
       "      <th>job_title</th>\n",
       "      <th>phd_univ</th>\n",
       "      <th>phd_year</th>\n",
       "      <th>research_area</th>\n",
       "      <th>research_concentration</th>\n",
       "      <th>research_focus</th>\n",
       "      <th>url</th>\n",
       "      <th>img_url</th>\n",
       "      <th>phone</th>\n",
       "      <th>email</th>\n",
       "      <th>cell_phone</th>\n",
       "      <th>office_address</th>\n",
       "      <th>department</th>\n",
       "      <th>school</th>\n",
       "    </tr>\n",
       "  </thead>\n",
       "  <tbody>\n",
       "    <tr>\n",
       "      <th>0</th>\n",
       "      <td>Sara Achour</td>\n",
       "      <td>Regular Faculty</td>\n",
       "      <td></td>\n",
       "      <td></td>\n",
       "      <td></td>\n",
       "      <td></td>\n",
       "      <td></td>\n",
       "      <td></td>\n",
       "      <td></td>\n",
       "      <td></td>\n",
       "      <td>sachour@stanford.edu</td>\n",
       "      <td></td>\n",
       "      <td>Gates 484</td>\n",
       "      <td>Computer Science</td>\n",
       "      <td>Stanford Univ</td>\n",
       "    </tr>\n",
       "    <tr>\n",
       "      <th>1</th>\n",
       "      <td>Maneesh Agrawala</td>\n",
       "      <td>Regular Faculty</td>\n",
       "      <td></td>\n",
       "      <td></td>\n",
       "      <td></td>\n",
       "      <td></td>\n",
       "      <td></td>\n",
       "      <td>http://graphics.stanford.edu/~maneesh</td>\n",
       "      <td></td>\n",
       "      <td></td>\n",
       "      <td>@stanford.edu</td>\n",
       "      <td></td>\n",
       "      <td>Gates 364</td>\n",
       "      <td>Computer Science</td>\n",
       "      <td>Stanford Univ</td>\n",
       "    </tr>\n",
       "    <tr>\n",
       "      <th>2</th>\n",
       "      <td>Alex Aiken</td>\n",
       "      <td>Regular Faculty</td>\n",
       "      <td></td>\n",
       "      <td></td>\n",
       "      <td></td>\n",
       "      <td></td>\n",
       "      <td></td>\n",
       "      <td>http://theory.stanford.edu/~aiken</td>\n",
       "      <td></td>\n",
       "      <td>5-3359</td>\n",
       "      <td>aiken@stanford.edu</td>\n",
       "      <td></td>\n",
       "      <td>Gates  490</td>\n",
       "      <td>Computer Science</td>\n",
       "      <td>Stanford Univ</td>\n",
       "    </tr>\n",
       "    <tr>\n",
       "      <th>3</th>\n",
       "      <td>Nima Anari</td>\n",
       "      <td>Regular Faculty</td>\n",
       "      <td></td>\n",
       "      <td></td>\n",
       "      <td></td>\n",
       "      <td></td>\n",
       "      <td></td>\n",
       "      <td>https://nimaanari.com</td>\n",
       "      <td></td>\n",
       "      <td></td>\n",
       "      <td>nima.anari@stanford.edu</td>\n",
       "      <td></td>\n",
       "      <td>Gates 168A</td>\n",
       "      <td>Computer Science</td>\n",
       "      <td>Stanford Univ</td>\n",
       "    </tr>\n",
       "    <tr>\n",
       "      <th>4</th>\n",
       "      <td>Clark Barrett</td>\n",
       "      <td>Regular Faculty</td>\n",
       "      <td></td>\n",
       "      <td></td>\n",
       "      <td></td>\n",
       "      <td></td>\n",
       "      <td></td>\n",
       "      <td>http://theory.stanford.edu/~barrett</td>\n",
       "      <td></td>\n",
       "      <td>650-736-0822</td>\n",
       "      <td>barrett@stanford.edu</td>\n",
       "      <td></td>\n",
       "      <td>Gates 488</td>\n",
       "      <td>Computer Science</td>\n",
       "      <td>Stanford Univ</td>\n",
       "    </tr>\n",
       "    <tr>\n",
       "      <th>...</th>\n",
       "      <td>...</td>\n",
       "      <td>...</td>\n",
       "      <td>...</td>\n",
       "      <td>...</td>\n",
       "      <td>...</td>\n",
       "      <td>...</td>\n",
       "      <td>...</td>\n",
       "      <td>...</td>\n",
       "      <td>...</td>\n",
       "      <td>...</td>\n",
       "      <td>...</td>\n",
       "      <td>...</td>\n",
       "      <td>...</td>\n",
       "      <td>...</td>\n",
       "      <td>...</td>\n",
       "    </tr>\n",
       "    <tr>\n",
       "      <th>141</th>\n",
       "      <td>Chris Hahn</td>\n",
       "      <td>Visiting and Acting Faculty</td>\n",
       "      <td></td>\n",
       "      <td></td>\n",
       "      <td></td>\n",
       "      <td></td>\n",
       "      <td></td>\n",
       "      <td>http://www.christopherhahn.io</td>\n",
       "      <td></td>\n",
       "      <td></td>\n",
       "      <td>hahn@stanford.edu</td>\n",
       "      <td></td>\n",
       "      <td>Gates 481</td>\n",
       "      <td>Computer Science</td>\n",
       "      <td>Stanford Univ</td>\n",
       "    </tr>\n",
       "    <tr>\n",
       "      <th>142</th>\n",
       "      <td>Hamed Nemati</td>\n",
       "      <td>Visiting and Acting Faculty</td>\n",
       "      <td></td>\n",
       "      <td></td>\n",
       "      <td></td>\n",
       "      <td></td>\n",
       "      <td></td>\n",
       "      <td>https://hnemati.github.io/</td>\n",
       "      <td></td>\n",
       "      <td></td>\n",
       "      <td>hnnemati@stanford.edu</td>\n",
       "      <td></td>\n",
       "      <td>Gates 999</td>\n",
       "      <td>Computer Science</td>\n",
       "      <td>Stanford Univ</td>\n",
       "    </tr>\n",
       "    <tr>\n",
       "      <th>143</th>\n",
       "      <td>Dolière Francis Somé</td>\n",
       "      <td>Visiting and Acting Faculty</td>\n",
       "      <td></td>\n",
       "      <td></td>\n",
       "      <td></td>\n",
       "      <td></td>\n",
       "      <td></td>\n",
       "      <td></td>\n",
       "      <td></td>\n",
       "      <td></td>\n",
       "      <td>doliere@stanford.edu</td>\n",
       "      <td></td>\n",
       "      <td></td>\n",
       "      <td>Computer Science</td>\n",
       "      <td>Stanford Univ</td>\n",
       "    </tr>\n",
       "    <tr>\n",
       "      <th>144</th>\n",
       "      <td>Marco Vassena</td>\n",
       "      <td>Visiting and Acting Faculty</td>\n",
       "      <td></td>\n",
       "      <td></td>\n",
       "      <td></td>\n",
       "      <td></td>\n",
       "      <td></td>\n",
       "      <td>https://webspace.science.uu.nl/mvassena</td>\n",
       "      <td></td>\n",
       "      <td></td>\n",
       "      <td>vassena@stanford.edu</td>\n",
       "      <td></td>\n",
       "      <td>Gates 478</td>\n",
       "      <td>Computer Science</td>\n",
       "      <td>Stanford Univ</td>\n",
       "    </tr>\n",
       "    <tr>\n",
       "      <th>145</th>\n",
       "      <td>Zhikun Zhang</td>\n",
       "      <td>Visiting and Acting Faculty</td>\n",
       "      <td></td>\n",
       "      <td></td>\n",
       "      <td></td>\n",
       "      <td></td>\n",
       "      <td></td>\n",
       "      <td>http://zhangzhk.com/</td>\n",
       "      <td></td>\n",
       "      <td></td>\n",
       "      <td>zhikun@stanford.edu</td>\n",
       "      <td></td>\n",
       "      <td></td>\n",
       "      <td>Computer Science</td>\n",
       "      <td>Stanford Univ</td>\n",
       "    </tr>\n",
       "  </tbody>\n",
       "</table>\n",
       "<p>146 rows × 15 columns</p>\n",
       "</div>"
      ],
      "text/plain": [
       "                     name                    job_title phd_univ phd_year  \\\n",
       "0             Sara Achour              Regular Faculty                     \n",
       "1        Maneesh Agrawala              Regular Faculty                     \n",
       "2              Alex Aiken              Regular Faculty                     \n",
       "3              Nima Anari              Regular Faculty                     \n",
       "4           Clark Barrett              Regular Faculty                     \n",
       "..                    ...                          ...      ...      ...   \n",
       "141            Chris Hahn  Visiting and Acting Faculty                     \n",
       "142          Hamed Nemati  Visiting and Acting Faculty                     \n",
       "143  Dolière Francis Somé  Visiting and Acting Faculty                     \n",
       "144         Marco Vassena  Visiting and Acting Faculty                     \n",
       "145          Zhikun Zhang  Visiting and Acting Faculty                     \n",
       "\n",
       "    research_area research_concentration research_focus  \\\n",
       "0                                                         \n",
       "1                                                         \n",
       "2                                                         \n",
       "3                                                         \n",
       "4                                                         \n",
       "..            ...                    ...            ...   \n",
       "141                                                       \n",
       "142                                                       \n",
       "143                                                       \n",
       "144                                                       \n",
       "145                                                       \n",
       "\n",
       "                                         url img_url         phone  \\\n",
       "0                                                                    \n",
       "1      http://graphics.stanford.edu/~maneesh                         \n",
       "2          http://theory.stanford.edu/~aiken                5-3359   \n",
       "3                      https://nimaanari.com                         \n",
       "4        http://theory.stanford.edu/~barrett          650-736-0822   \n",
       "..                                       ...     ...           ...   \n",
       "141            http://www.christopherhahn.io                         \n",
       "142               https://hnemati.github.io/                         \n",
       "143                                                                  \n",
       "144  https://webspace.science.uu.nl/mvassena                         \n",
       "145                     http://zhangzhk.com/                         \n",
       "\n",
       "                       email cell_phone office_address        department  \\\n",
       "0       sachour@stanford.edu                 Gates 484  Computer Science   \n",
       "1              @stanford.edu                 Gates 364  Computer Science   \n",
       "2         aiken@stanford.edu                Gates  490  Computer Science   \n",
       "3    nima.anari@stanford.edu                Gates 168A  Computer Science   \n",
       "4       barrett@stanford.edu                 Gates 488  Computer Science   \n",
       "..                       ...        ...            ...               ...   \n",
       "141        hahn@stanford.edu                 Gates 481  Computer Science   \n",
       "142    hnnemati@stanford.edu                 Gates 999  Computer Science   \n",
       "143     doliere@stanford.edu                            Computer Science   \n",
       "144     vassena@stanford.edu                 Gates 478  Computer Science   \n",
       "145      zhikun@stanford.edu                            Computer Science   \n",
       "\n",
       "            school  \n",
       "0    Stanford Univ  \n",
       "1    Stanford Univ  \n",
       "2    Stanford Univ  \n",
       "3    Stanford Univ  \n",
       "4    Stanford Univ  \n",
       "..             ...  \n",
       "141  Stanford Univ  \n",
       "142  Stanford Univ  \n",
       "143  Stanford Univ  \n",
       "144  Stanford Univ  \n",
       "145  Stanford Univ  \n",
       "\n",
       "[146 rows x 15 columns]"
      ]
     },
     "execution_count": 15,
     "metadata": {},
     "output_type": "execute_result"
    }
   ],
   "source": [
    "df"
   ]
  },
  {
   "cell_type": "raw",
   "id": "9d7a4a11",
   "metadata": {},
   "source": [
    "df.to_csv(f\"faculty-{SCHOOL}.csv\", index=False)"
   ]
  },
  {
   "cell_type": "code",
   "execution_count": 16,
   "id": "7cf4a565",
   "metadata": {},
   "outputs": [],
   "source": [
    "# import xlsxwriter\n",
    "file_xlsx = f\"faculty-{SCHOOL}.xlsx\"\n",
    "writer = pd.ExcelWriter(file_xlsx, engine='xlsxwriter')\n",
    "df.to_excel(writer, sheet_name=\"Faculty\", index=False)\n",
    "\n",
    "writer.save()"
   ]
  },
  {
   "cell_type": "code",
   "execution_count": null,
   "id": "571dcecb",
   "metadata": {},
   "outputs": [],
   "source": []
  },
  {
   "cell_type": "code",
   "execution_count": null,
   "id": "101ba5e6",
   "metadata": {},
   "outputs": [],
   "source": []
  }
 ],
 "metadata": {
  "kernelspec": {
   "display_name": "Python 3 (ipykernel)",
   "language": "python",
   "name": "python3"
  },
  "language_info": {
   "codemirror_mode": {
    "name": "ipython",
    "version": 3
   },
   "file_extension": ".py",
   "mimetype": "text/x-python",
   "name": "python",
   "nbconvert_exporter": "python",
   "pygments_lexer": "ipython3",
   "version": "3.9.13"
  },
  "nbTranslate": {
   "displayLangs": [
    "*"
   ],
   "hotkey": "alt-t",
   "langInMainMenu": true,
   "sourceLang": "en",
   "targetLang": "fr",
   "useGoogleTranslate": true
  },
  "toc": {
   "base_numbering": 1,
   "nav_menu": {},
   "number_sections": true,
   "sideBar": true,
   "skip_h1_title": false,
   "title_cell": "Table of Contents",
   "title_sidebar": "Contents",
   "toc_cell": false,
   "toc_position": {},
   "toc_section_display": true,
   "toc_window_display": false
  }
 },
 "nbformat": 4,
 "nbformat_minor": 5
}
