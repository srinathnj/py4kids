{
 "cells": [
  {
   "cell_type": "code",
   "execution_count": 7,
   "id": "559c3d46",
   "metadata": {},
   "outputs": [
    {
     "data": {
      "text/markdown": [
       "## US CS Faculty Dataset\n",
       "- [CS Faculty Composition and Hiring Trends (Blog)](https://jeffhuang.com/computer-science-open-data/#cs-faculty-composition-and-hiring-trends)\n",
       "- [2200 Computer Science Professors in 50 top US Graduate Programs](https://cs.brown.edu/people/apapouts/faculty_dataset.html)\n",
       "- [CS Professors (Data Explorer)](https://drafty.cs.brown.edu/csprofessors?src=csopendata)\n",
       "- [Drafty Project](https://drafty.cs.brown.edu/)\n",
       "- [CSRankings.org](https://csrankings.org/#/fromyear/2011/toyear/2023/index?ai&vision&mlmining&nlp&inforet&act&crypt&log&us)\n"
      ],
      "text/plain": [
       "<IPython.core.display.Markdown object>"
      ]
     },
     "metadata": {},
     "output_type": "display_data"
    }
   ],
   "source": [
    "from IPython.display import display, Markdown, Latex\n",
    "from scrap_cs_faculty import *\n",
    "\n",
    "with open(\"readme.md\") as f:\n",
    "    readme_md = f.read()\n",
    "\n",
    "display(Markdown(readme_md)) "
   ]
  },
  {
   "cell_type": "markdown",
   "id": "46aa24ac",
   "metadata": {},
   "source": [
    "\n",
    "Use beautiful_soup to scrap CS Faculty info"
   ]
  },
  {
   "cell_type": "code",
   "execution_count": 2,
   "id": "71ca0a66",
   "metadata": {},
   "outputs": [
    {
     "data": {
      "text/plain": [
       "'https://cs.illinois.edu/about/people/department-faculty'"
      ]
     },
     "execution_count": 2,
     "metadata": {},
     "output_type": "execute_result"
    }
   ],
   "source": [
    "SCHOOL = \"UIUC-CS\"\n",
    "URL = SCHOOL_DICT[SCHOOL][\"url\"]  #  \"https://www.cs.cornell.edu/people/faculty\"\n",
    "URL"
   ]
  },
  {
   "cell_type": "code",
   "execution_count": 3,
   "id": "b247300f",
   "metadata": {},
   "outputs": [],
   "source": [
    "page = requests.get(URL, headers=BROWSER_HEADERS)\n",
    "soup = BeautifulSoup(page.content, \"html.parser\")"
   ]
  },
  {
   "cell_type": "raw",
   "id": "fd14e396",
   "metadata": {},
   "source": [
    "soup\n",
    "\n",
    "results = soup.find(id=\"ResultsContainer\")\n",
    "print(results.prettify())"
   ]
  },
  {
   "cell_type": "markdown",
   "id": "9fd61f3e",
   "metadata": {},
   "source": [
    "## Find Elements by HTML Class Name"
   ]
  },
  {
   "cell_type": "code",
   "execution_count": 4,
   "id": "3d59de89",
   "metadata": {},
   "outputs": [],
   "source": [
    "cs_persons = soup.find_all(\"div\", class_=\"details\")"
   ]
  },
  {
   "cell_type": "code",
   "execution_count": 5,
   "id": "43c8aac5",
   "metadata": {},
   "outputs": [
    {
     "data": {
      "text/plain": [
       "(121,\n",
       " <div class=\"details\">\n",
       " <div class=\"name\"><a href=\"/about/people/department-faculty/zaher\">Tarek  Abdelzaher</a></div>\n",
       " <div class=\"title\">Sohaib and Sara Abbasi Professor and Willett Faculty Scholar</div>\n",
       " <div class=\"contact\">\n",
       " <div class=\"phone\">\n",
       " <a href=\"tel:(217) 265-6793\">\n",
       " <span class=\"fa-stack fa-lg\">\n",
       " <i class=\"fa fa-circle fa-stack-2x\"></i>\n",
       " <i class=\"fa fa-phone fa-stack-1x fa-inverse\"></i>\n",
       " </span>\n",
       " </a>\n",
       " </div>\n",
       " <div class=\"email hide-empty\" data-value=\"zaher@illinois.edu\">\n",
       " <a href=\"mailto:zaher@illinois.edu\">\n",
       " <span class=\"fa-stack fa-lg\">\n",
       " <i class=\"fa fa-circle fa-stack-2x\"></i>\n",
       " <i class=\"fa fa-envelope fa-stack-1x fa-inverse\"></i>\n",
       " </span>\n",
       " </a>\n",
       " </div>\n",
       " </div>\n",
       " </div>)"
      ]
     },
     "execution_count": 5,
     "metadata": {},
     "output_type": "execute_result"
    }
   ],
   "source": [
    "len(cs_persons), cs_persons[0]"
   ]
  },
  {
   "cell_type": "markdown",
   "id": "86b393a8",
   "metadata": {},
   "source": [
    "### Extract Text From HTML Elements\n",
    "\n",
    "You can add .text to a Beautiful Soup object to return only the text content of the HTML elements that the object contains:"
   ]
  },
  {
   "cell_type": "code",
   "execution_count": 6,
   "id": "a4200a1c",
   "metadata": {},
   "outputs": [],
   "source": [
    "DEBUG = False # True # "
   ]
  },
  {
   "cell_type": "code",
   "execution_count": 7,
   "id": "46ac3ac4",
   "metadata": {},
   "outputs": [],
   "source": [
    "school, dept = map_school_dept(SCHOOL)\n",
    "data = []\n",
    "for n, person in enumerate(cs_persons):\n",
    "    try:\n",
    "        data_dict = {\"school\": school, \"department\": dept} # default\n",
    "        if DEBUG and n > 0: break  # debug\n",
    "        \n",
    "        # get name/url\n",
    "        x = person.find(\"div\", class_=\"name\")\n",
    "        name_x = x.find(\"a\")\n",
    "        data_dict['name'] = name_x.text.strip()\n",
    "        data_dict['job_title'] = person.find(\"div\", class_=\"title\").text.strip()\n",
    "\n",
    "        # get phone, email, url\n",
    "        for x in person.find_all(\"a\"):\n",
    "            if \"tel:\" in x[\"href\"]:\n",
    "                data_dict['phone'] = x[\"href\"].replace(\"tel:\", \"\")\n",
    "            elif \"mailto:\" in x[\"href\"]:\n",
    "                data_dict['email'] = x[\"href\"].replace(\"mailto:\", \"\")\n",
    "            else:\n",
    "                data_dict['url'] = uiuc_fix_url(x[\"href\"])\n",
    "\n",
    "        img_url = person.parent.find(\"div\", class_=\"photo\")[\"style\"]\n",
    "        data_dict['img_url'] = uiuc_match_img_url(img_url)\n",
    "\n",
    "        if DEBUG:\n",
    "            print(f\"n={n}\\t=============\")\n",
    "            print(f\"name= {data_dict.get('name','')}\")\n",
    "            print(f\"job_title= {data_dict.get('job_title','')}\")\n",
    "            print(f\"phone= {data_dict.get('phone','')}\")\n",
    "            print(f\"email= {data_dict.get('email','')}\")\n",
    "            print(f\"url= {data_dict.get('url','')}\")\n",
    "            print(f\"img_url= {data_dict.get('img_url','')}\")\n",
    "        \n",
    "        if data_dict:\n",
    "            row_data = []\n",
    "            for c in COLUMNS:\n",
    "                cell = data_dict.get(c,\"\")\n",
    "                row_data.append(cell)\n",
    "            data.append(row_data)\n",
    "    except Exception as e:\n",
    "        print(f\"[Error] {str(e)}\\n{person.prettify()}\")"
   ]
  },
  {
   "cell_type": "code",
   "execution_count": 8,
   "id": "792ac560",
   "metadata": {
    "scrolled": true
   },
   "outputs": [
    {
     "data": {
      "text/plain": [
       "['Craig Zilles',\n",
       " 'Professor and Severns Faculty Scholar',\n",
       " '',\n",
       " '',\n",
       " '',\n",
       " '',\n",
       " '',\n",
       " 'https://cs.illinois.edu/about/people/department-faculty/zilles',\n",
       " 'https://ws.engr.illinois.edu/directory/viewphoto.aspx?id=5020&s=400&type=portrait',\n",
       " '(217) 244-0553',\n",
       " 'zilles@illinois.edu',\n",
       " '',\n",
       " '',\n",
       " 'Computer Science',\n",
       " 'Univ Illinois Urbana-Champaign']"
      ]
     },
     "execution_count": 8,
     "metadata": {},
     "output_type": "execute_result"
    }
   ],
   "source": [
    "data[-1]"
   ]
  },
  {
   "cell_type": "code",
   "execution_count": 9,
   "id": "3b0fddf8",
   "metadata": {},
   "outputs": [],
   "source": [
    "df = pd.DataFrame(data, columns=COLUMNS)"
   ]
  },
  {
   "cell_type": "code",
   "execution_count": 10,
   "id": "766e5c63",
   "metadata": {},
   "outputs": [
    {
     "name": "stdout",
     "output_type": "stream",
     "text": [
      "Number of faculties at UIUC-CS: 121\n"
     ]
    }
   ],
   "source": [
    "print(f\"Number of faculties at {SCHOOL}: {df.shape[0]}\")"
   ]
  },
  {
   "cell_type": "code",
   "execution_count": 11,
   "id": "16a4497c",
   "metadata": {
    "scrolled": true
   },
   "outputs": [
    {
     "data": {
      "text/html": [
       "<div>\n",
       "<style scoped>\n",
       "    .dataframe tbody tr th:only-of-type {\n",
       "        vertical-align: middle;\n",
       "    }\n",
       "\n",
       "    .dataframe tbody tr th {\n",
       "        vertical-align: top;\n",
       "    }\n",
       "\n",
       "    .dataframe thead th {\n",
       "        text-align: right;\n",
       "    }\n",
       "</style>\n",
       "<table border=\"1\" class=\"dataframe\">\n",
       "  <thead>\n",
       "    <tr style=\"text-align: right;\">\n",
       "      <th></th>\n",
       "      <th>name</th>\n",
       "      <th>job_title</th>\n",
       "      <th>phd_univ</th>\n",
       "      <th>phd_year</th>\n",
       "      <th>research_area</th>\n",
       "      <th>research_concentration</th>\n",
       "      <th>research_focus</th>\n",
       "      <th>url</th>\n",
       "      <th>img_url</th>\n",
       "      <th>phone</th>\n",
       "      <th>email</th>\n",
       "      <th>cell_phone</th>\n",
       "      <th>office_address</th>\n",
       "      <th>department</th>\n",
       "      <th>school</th>\n",
       "    </tr>\n",
       "  </thead>\n",
       "  <tbody>\n",
       "    <tr>\n",
       "      <th>0</th>\n",
       "      <td>Tarek  Abdelzaher</td>\n",
       "      <td>Sohaib and Sara Abbasi Professor and Willett F...</td>\n",
       "      <td></td>\n",
       "      <td></td>\n",
       "      <td></td>\n",
       "      <td></td>\n",
       "      <td></td>\n",
       "      <td>https://cs.illinois.edu/about/people/departmen...</td>\n",
       "      <td>https://ws.engr.illinois.edu/directory/viewpho...</td>\n",
       "      <td>(217) 265-6793</td>\n",
       "      <td>zaher@illinois.edu</td>\n",
       "      <td></td>\n",
       "      <td></td>\n",
       "      <td>Computer Science</td>\n",
       "      <td>Univ Illinois Urbana-Champaign</td>\n",
       "    </tr>\n",
       "    <tr>\n",
       "      <th>1</th>\n",
       "      <td>Sarita V. Adve</td>\n",
       "      <td>Richard T. Cheng Professor</td>\n",
       "      <td></td>\n",
       "      <td></td>\n",
       "      <td></td>\n",
       "      <td></td>\n",
       "      <td></td>\n",
       "      <td>https://cs.illinois.edu/about/people/departmen...</td>\n",
       "      <td>https://ws.engr.illinois.edu/directory/viewpho...</td>\n",
       "      <td>(217) 333-8461</td>\n",
       "      <td>sadve@illinois.edu</td>\n",
       "      <td></td>\n",
       "      <td></td>\n",
       "      <td>Computer Science</td>\n",
       "      <td>Univ Illinois Urbana-Champaign</td>\n",
       "    </tr>\n",
       "    <tr>\n",
       "      <th>2</th>\n",
       "      <td>Vikram Adve</td>\n",
       "      <td>Donald B. Gillies Professor in Computer Science</td>\n",
       "      <td></td>\n",
       "      <td></td>\n",
       "      <td></td>\n",
       "      <td></td>\n",
       "      <td></td>\n",
       "      <td>https://cs.illinois.edu/about/people/departmen...</td>\n",
       "      <td>https://ws.engr.illinois.edu/directory/viewpho...</td>\n",
       "      <td>(217) 244-2016</td>\n",
       "      <td>vadve@illinois.edu</td>\n",
       "      <td></td>\n",
       "      <td></td>\n",
       "      <td>Computer Science</td>\n",
       "      <td>Univ Illinois Urbana-Champaign</td>\n",
       "    </tr>\n",
       "    <tr>\n",
       "      <th>3</th>\n",
       "      <td>Gul A. Agha</td>\n",
       "      <td>Research Professor and Professor Emeritus</td>\n",
       "      <td></td>\n",
       "      <td></td>\n",
       "      <td></td>\n",
       "      <td></td>\n",
       "      <td></td>\n",
       "      <td>https://cs.illinois.edu/about/people/departmen...</td>\n",
       "      <td>https://ws.engr.illinois.edu/directory/viewpho...</td>\n",
       "      <td>(217) 244-3087</td>\n",
       "      <td>agha@illinois.edu</td>\n",
       "      <td></td>\n",
       "      <td></td>\n",
       "      <td>Computer Science</td>\n",
       "      <td>Univ Illinois Urbana-Champaign</td>\n",
       "    </tr>\n",
       "    <tr>\n",
       "      <th>4</th>\n",
       "      <td>Ram Alagappan</td>\n",
       "      <td>Assistant Professor</td>\n",
       "      <td></td>\n",
       "      <td></td>\n",
       "      <td></td>\n",
       "      <td></td>\n",
       "      <td></td>\n",
       "      <td>https://cs.illinois.edu/about/people/departmen...</td>\n",
       "      <td>https://ws.engr.illinois.edu/directory/viewpho...</td>\n",
       "      <td></td>\n",
       "      <td>ramn@illinois.edu</td>\n",
       "      <td></td>\n",
       "      <td></td>\n",
       "      <td>Computer Science</td>\n",
       "      <td>Univ Illinois Urbana-Champaign</td>\n",
       "    </tr>\n",
       "    <tr>\n",
       "      <th>...</th>\n",
       "      <td>...</td>\n",
       "      <td>...</td>\n",
       "      <td>...</td>\n",
       "      <td>...</td>\n",
       "      <td>...</td>\n",
       "      <td>...</td>\n",
       "      <td>...</td>\n",
       "      <td>...</td>\n",
       "      <td>...</td>\n",
       "      <td>...</td>\n",
       "      <td>...</td>\n",
       "      <td>...</td>\n",
       "      <td>...</td>\n",
       "      <td>...</td>\n",
       "      <td>...</td>\n",
       "    </tr>\n",
       "    <tr>\n",
       "      <th>116</th>\n",
       "      <td>Wenzhen Yuan</td>\n",
       "      <td>Assistant Professor starting Fall 2023</td>\n",
       "      <td></td>\n",
       "      <td></td>\n",
       "      <td></td>\n",
       "      <td></td>\n",
       "      <td></td>\n",
       "      <td>https://cs.illinois.edu/about/people/departmen...</td>\n",
       "      <td>https://ws.engr.illinois.edu/directory/viewpho...</td>\n",
       "      <td></td>\n",
       "      <td>yuanwz@illinois.edu</td>\n",
       "      <td></td>\n",
       "      <td></td>\n",
       "      <td>Computer Science</td>\n",
       "      <td>Univ Illinois Urbana-Champaign</td>\n",
       "    </tr>\n",
       "    <tr>\n",
       "      <th>117</th>\n",
       "      <td>ChengXiang Zhai</td>\n",
       "      <td>Donald Biggar Willett Professor in Engineering</td>\n",
       "      <td></td>\n",
       "      <td></td>\n",
       "      <td></td>\n",
       "      <td></td>\n",
       "      <td></td>\n",
       "      <td>https://cs.illinois.edu/about/people/departmen...</td>\n",
       "      <td>https://ws.engr.illinois.edu/directory/viewpho...</td>\n",
       "      <td>(217) 244-4943</td>\n",
       "      <td>czhai@illinois.edu</td>\n",
       "      <td></td>\n",
       "      <td></td>\n",
       "      <td>Computer Science</td>\n",
       "      <td>Univ Illinois Urbana-Champaign</td>\n",
       "    </tr>\n",
       "    <tr>\n",
       "      <th>118</th>\n",
       "      <td>Lingming  Zhang</td>\n",
       "      <td>Associate Professor</td>\n",
       "      <td></td>\n",
       "      <td></td>\n",
       "      <td></td>\n",
       "      <td></td>\n",
       "      <td></td>\n",
       "      <td>https://cs.illinois.edu/about/people/departmen...</td>\n",
       "      <td>https://ws.engr.illinois.edu/directory/viewpho...</td>\n",
       "      <td>(217) 244-8921</td>\n",
       "      <td>lingming@illinois.edu</td>\n",
       "      <td></td>\n",
       "      <td></td>\n",
       "      <td>Computer Science</td>\n",
       "      <td>Univ Illinois Urbana-Champaign</td>\n",
       "    </tr>\n",
       "    <tr>\n",
       "      <th>119</th>\n",
       "      <td>Han Zhao</td>\n",
       "      <td>Assistant Professor</td>\n",
       "      <td></td>\n",
       "      <td></td>\n",
       "      <td></td>\n",
       "      <td></td>\n",
       "      <td></td>\n",
       "      <td>https://cs.illinois.edu/about/people/departmen...</td>\n",
       "      <td>https://ws.engr.illinois.edu/directory/viewpho...</td>\n",
       "      <td></td>\n",
       "      <td>hanzhao@illinois.edu</td>\n",
       "      <td></td>\n",
       "      <td></td>\n",
       "      <td>Computer Science</td>\n",
       "      <td>Univ Illinois Urbana-Champaign</td>\n",
       "    </tr>\n",
       "    <tr>\n",
       "      <th>120</th>\n",
       "      <td>Craig Zilles</td>\n",
       "      <td>Professor and Severns Faculty Scholar</td>\n",
       "      <td></td>\n",
       "      <td></td>\n",
       "      <td></td>\n",
       "      <td></td>\n",
       "      <td></td>\n",
       "      <td>https://cs.illinois.edu/about/people/departmen...</td>\n",
       "      <td>https://ws.engr.illinois.edu/directory/viewpho...</td>\n",
       "      <td>(217) 244-0553</td>\n",
       "      <td>zilles@illinois.edu</td>\n",
       "      <td></td>\n",
       "      <td></td>\n",
       "      <td>Computer Science</td>\n",
       "      <td>Univ Illinois Urbana-Champaign</td>\n",
       "    </tr>\n",
       "  </tbody>\n",
       "</table>\n",
       "<p>121 rows × 15 columns</p>\n",
       "</div>"
      ],
      "text/plain": [
       "                  name                                          job_title  \\\n",
       "0    Tarek  Abdelzaher  Sohaib and Sara Abbasi Professor and Willett F...   \n",
       "1       Sarita V. Adve                         Richard T. Cheng Professor   \n",
       "2          Vikram Adve    Donald B. Gillies Professor in Computer Science   \n",
       "3          Gul A. Agha          Research Professor and Professor Emeritus   \n",
       "4        Ram Alagappan                                Assistant Professor   \n",
       "..                 ...                                                ...   \n",
       "116       Wenzhen Yuan             Assistant Professor starting Fall 2023   \n",
       "117    ChengXiang Zhai     Donald Biggar Willett Professor in Engineering   \n",
       "118    Lingming  Zhang                                Associate Professor   \n",
       "119           Han Zhao                                Assistant Professor   \n",
       "120       Craig Zilles              Professor and Severns Faculty Scholar   \n",
       "\n",
       "    phd_univ phd_year research_area research_concentration research_focus  \\\n",
       "0                                                                           \n",
       "1                                                                           \n",
       "2                                                                           \n",
       "3                                                                           \n",
       "4                                                                           \n",
       "..       ...      ...           ...                    ...            ...   \n",
       "116                                                                         \n",
       "117                                                                         \n",
       "118                                                                         \n",
       "119                                                                         \n",
       "120                                                                         \n",
       "\n",
       "                                                   url  \\\n",
       "0    https://cs.illinois.edu/about/people/departmen...   \n",
       "1    https://cs.illinois.edu/about/people/departmen...   \n",
       "2    https://cs.illinois.edu/about/people/departmen...   \n",
       "3    https://cs.illinois.edu/about/people/departmen...   \n",
       "4    https://cs.illinois.edu/about/people/departmen...   \n",
       "..                                                 ...   \n",
       "116  https://cs.illinois.edu/about/people/departmen...   \n",
       "117  https://cs.illinois.edu/about/people/departmen...   \n",
       "118  https://cs.illinois.edu/about/people/departmen...   \n",
       "119  https://cs.illinois.edu/about/people/departmen...   \n",
       "120  https://cs.illinois.edu/about/people/departmen...   \n",
       "\n",
       "                                               img_url           phone  \\\n",
       "0    https://ws.engr.illinois.edu/directory/viewpho...  (217) 265-6793   \n",
       "1    https://ws.engr.illinois.edu/directory/viewpho...  (217) 333-8461   \n",
       "2    https://ws.engr.illinois.edu/directory/viewpho...  (217) 244-2016   \n",
       "3    https://ws.engr.illinois.edu/directory/viewpho...  (217) 244-3087   \n",
       "4    https://ws.engr.illinois.edu/directory/viewpho...                   \n",
       "..                                                 ...             ...   \n",
       "116  https://ws.engr.illinois.edu/directory/viewpho...                   \n",
       "117  https://ws.engr.illinois.edu/directory/viewpho...  (217) 244-4943   \n",
       "118  https://ws.engr.illinois.edu/directory/viewpho...  (217) 244-8921   \n",
       "119  https://ws.engr.illinois.edu/directory/viewpho...                   \n",
       "120  https://ws.engr.illinois.edu/directory/viewpho...  (217) 244-0553   \n",
       "\n",
       "                     email cell_phone office_address        department  \\\n",
       "0       zaher@illinois.edu                            Computer Science   \n",
       "1       sadve@illinois.edu                            Computer Science   \n",
       "2       vadve@illinois.edu                            Computer Science   \n",
       "3        agha@illinois.edu                            Computer Science   \n",
       "4        ramn@illinois.edu                            Computer Science   \n",
       "..                     ...        ...            ...               ...   \n",
       "116    yuanwz@illinois.edu                            Computer Science   \n",
       "117     czhai@illinois.edu                            Computer Science   \n",
       "118  lingming@illinois.edu                            Computer Science   \n",
       "119   hanzhao@illinois.edu                            Computer Science   \n",
       "120    zilles@illinois.edu                            Computer Science   \n",
       "\n",
       "                             school  \n",
       "0    Univ Illinois Urbana-Champaign  \n",
       "1    Univ Illinois Urbana-Champaign  \n",
       "2    Univ Illinois Urbana-Champaign  \n",
       "3    Univ Illinois Urbana-Champaign  \n",
       "4    Univ Illinois Urbana-Champaign  \n",
       "..                              ...  \n",
       "116  Univ Illinois Urbana-Champaign  \n",
       "117  Univ Illinois Urbana-Champaign  \n",
       "118  Univ Illinois Urbana-Champaign  \n",
       "119  Univ Illinois Urbana-Champaign  \n",
       "120  Univ Illinois Urbana-Champaign  \n",
       "\n",
       "[121 rows x 15 columns]"
      ]
     },
     "execution_count": 11,
     "metadata": {},
     "output_type": "execute_result"
    }
   ],
   "source": [
    "df"
   ]
  },
  {
   "cell_type": "raw",
   "id": "86a0ef7c",
   "metadata": {},
   "source": [
    "df.to_csv(f\"faculty-{SCHOOL}.csv\", index=False)\n",
    "df.to_excel(f\"faculty-{SCHOOL}.xlsx\", index=False)"
   ]
  },
  {
   "cell_type": "code",
   "execution_count": 12,
   "id": "7fa87b93",
   "metadata": {},
   "outputs": [],
   "source": [
    "# import xlsxwriter\n",
    "file_xlsx = f\"faculty-{SCHOOL}.xlsx\"\n",
    "writer = pd.ExcelWriter(file_xlsx, engine='xlsxwriter')\n",
    "df.to_excel(writer, sheet_name=\"Faculty\", index=False)\n",
    "# if not df_research.empty:\n",
    "#     df_research.to_excel(writer, sheet_name = \"Research Groups\", index=False)\n",
    "writer.save()"
   ]
  }
 ],
 "metadata": {
  "kernelspec": {
   "display_name": "Python 3 (ipykernel)",
   "language": "python",
   "name": "python3"
  },
  "language_info": {
   "codemirror_mode": {
    "name": "ipython",
    "version": 3
   },
   "file_extension": ".py",
   "mimetype": "text/x-python",
   "name": "python",
   "nbconvert_exporter": "python",
   "pygments_lexer": "ipython3",
   "version": "3.9.13"
  },
  "nbTranslate": {
   "displayLangs": [
    "*"
   ],
   "hotkey": "alt-t",
   "langInMainMenu": true,
   "sourceLang": "en",
   "targetLang": "fr",
   "useGoogleTranslate": true
  },
  "toc": {
   "base_numbering": 1,
   "nav_menu": {},
   "number_sections": true,
   "sideBar": true,
   "skip_h1_title": false,
   "title_cell": "Table of Contents",
   "title_sidebar": "Contents",
   "toc_cell": false,
   "toc_position": {},
   "toc_section_display": true,
   "toc_window_display": false
  }
 },
 "nbformat": 4,
 "nbformat_minor": 5
}
