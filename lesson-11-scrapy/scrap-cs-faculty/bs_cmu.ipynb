{
 "cells": [
  {
   "cell_type": "markdown",
   "id": "ef82f6a1",
   "metadata": {},
   "source": [
    "## US CS Faculty Dataset\n",
    "- [CS Faculty Composition and Hiring Trends (Blog)](https://jeffhuang.com/computer-science-open-data/#cs-faculty-composition-and-hiring-trends)\n",
    "- [2200 Computer Science Professors in 50 top US Graduate Programs](https://cs.brown.edu/people/apapouts/faculty_dataset.html)\n",
    "- [CS Professors (Data Explorer)](https://drafty.cs.brown.edu/csprofessors?src=csopendata)\n",
    "- [Drafty Project](https://drafty.cs.brown.edu/)"
   ]
  },
  {
   "cell_type": "markdown",
   "id": "46aa24ac",
   "metadata": {},
   "source": [
    "\n",
    "Use beautiful_soup to scrap CS Faculty info"
   ]
  },
  {
   "cell_type": "code",
   "execution_count": 1,
   "id": "559c3d46",
   "metadata": {},
   "outputs": [],
   "source": [
    "from scrap_cs_faculty import *"
   ]
  },
  {
   "cell_type": "code",
   "execution_count": 2,
   "id": "71ca0a66",
   "metadata": {},
   "outputs": [
    {
     "name": "stdout",
     "output_type": "stream",
     "text": [
      "https://csd.cmu.edu/people/faculty\n"
     ]
    }
   ],
   "source": [
    "SCHOOL = \"CMU-CS\"\n",
    "URL = SCHOOL_DICT[SCHOOL][\"url\"]  #  \"https://www.eecs.mit.edu/role/faculty-aid/\"\n",
    "print(URL)"
   ]
  },
  {
   "cell_type": "code",
   "execution_count": 3,
   "id": "c376259d",
   "metadata": {},
   "outputs": [],
   "source": [
    "page = requests.get(URL, headers=BROWSER_HEADERS)"
   ]
  },
  {
   "cell_type": "raw",
   "id": "f7b53692",
   "metadata": {},
   "source": [
    "page"
   ]
  },
  {
   "cell_type": "code",
   "execution_count": 4,
   "id": "b247300f",
   "metadata": {},
   "outputs": [],
   "source": [
    "soup = BeautifulSoup(page.content, \"html.parser\")"
   ]
  },
  {
   "cell_type": "raw",
   "id": "d2e63f92",
   "metadata": {},
   "source": [
    "soup"
   ]
  },
  {
   "cell_type": "raw",
   "id": "dff5f4f9",
   "metadata": {},
   "source": [
    "results = soup.find(\"span\", class_=\"people-entry small-12 medium-6 large-4 larger-3 cell \")\n",
    "print(results.prettify())"
   ]
  },
  {
   "cell_type": "markdown",
   "id": "9fd61f3e",
   "metadata": {},
   "source": [
    "## Find Elements by HTML Class Name"
   ]
  },
  {
   "cell_type": "raw",
   "id": "fc1ad87d",
   "metadata": {},
   "source": [
    "cs_persons = soup.findAll(\"div\", {\"data-name\":\"people_index\"})"
   ]
  },
  {
   "cell_type": "code",
   "execution_count": 5,
   "id": "93751345",
   "metadata": {},
   "outputs": [],
   "source": [
    "cs_persons = soup.find(\"tbody\").find_all(\"tr\")"
   ]
  },
  {
   "cell_type": "code",
   "execution_count": 6,
   "id": "43c8aac5",
   "metadata": {},
   "outputs": [
    {
     "data": {
      "text/plain": [
       "(120,\n",
       " <tr>\n",
       " <td class=\"views-field views-field-field-first-name\" data-label=\"\" headers=\"view-field-first-name-table-column\"><a href=\"/people/faculty/umut-acar\">Acar, Umut</a> </td>\n",
       " <td class=\"views-field views-field-field-professional-title-term\" data-label=\"\" headers=\"view-field-professional-title-term-table-column\">Associate Professor        </td>\n",
       " <td class=\"views-field views-field-nothing\" data-label=\"\" headers=\"view-nothing-table-column\">9101 Gates and Hillman Centers<br/>\n",
       " (412) 268-6791<br/>\n",
       " <a href=\"mailto:uacar@andrew.cmu.edu\">uacar@andrew.cmu.edu</a> </td>\n",
       " </tr>)"
      ]
     },
     "execution_count": 6,
     "metadata": {},
     "output_type": "execute_result"
    }
   ],
   "source": [
    "len(cs_persons) , cs_persons[0]"
   ]
  },
  {
   "cell_type": "markdown",
   "id": "86b393a8",
   "metadata": {},
   "source": [
    "### Extract Text From HTML Elements\n",
    "\n",
    "You can add .text to a Beautiful Soup object to return only the text content of the HTML elements that the object contains:"
   ]
  },
  {
   "cell_type": "code",
   "execution_count": 7,
   "id": "a4200a1c",
   "metadata": {},
   "outputs": [],
   "source": [
    "DEBUG =  False # True # \n",
    "\n",
    "school, dept = map_school_dept(SCHOOL)\n",
    "data = []\n",
    "all_research_dict = {}\n",
    "for n, person in enumerate(cs_persons):\n",
    "    try:\n",
    "        data_dict = {\"school\": school, \"department\": dept} # default\n",
    "        if DEBUG and n > 0: break  # debug\n",
    "        \n",
    "        for x in person.find_all(\"td\"):\n",
    "            # get name/url\n",
    "            name_x = x.find(\"a\")\n",
    "            if name_x:\n",
    "                if \"@\" in name_x.text.strip():\n",
    "                    data_dict['email'] = name_x.text.strip()\n",
    "                    for y in x.text.strip().split(\"\\n\"):\n",
    "                        if \"@\" not in y:\n",
    "                            y2 = str(y).replace(\"(\", \"\").replace(\")\", \"\").replace(\"-\", \"\")\n",
    "                            if re.match(r\"\\d{3}\\s*\\d{7}\", y2):\n",
    "                                data_dict['phone'] = y\n",
    "                            else:\n",
    "                                data_dict['office_address'] = y\n",
    "                else:  \n",
    "                    data_dict['name'] = name_x.text.strip()\n",
    "                    uid = name_x[\"href\"].split(\"/\")[-1]\n",
    "                    data_dict['url'] = f\"{URL}/{uid}\"\n",
    "        \n",
    "            if is_job_title(x.text.lower()):\n",
    "                data_dict['job_title'] = x.text.strip()\n",
    "                \n",
    "        if DEBUG:\n",
    "            print(f\"n={n}\\t=============\")\n",
    "            print(f\"name= {data_dict.get('name','')}\")\n",
    "            print(f\"job_title= {data_dict.get('job_title','')}\")\n",
    "            print(f\"phone= {data_dict.get('phone','')}\")\n",
    "            print(f\"office= {data_dict.get('office_address','')}\")\n",
    "            print(f\"email= {data_dict.get('email','')}\")\n",
    "            print(f\"url= {data_dict.get('url','')}\")\n",
    "            print(f\"img_url= {data_dict.get('img_url','')}\")\n",
    "            print(f\"research_area= {data_dict.get('research_area','')}\")\n",
    "            print(f\"department= {data_dict.get('department','')}\")\n",
    "        \n",
    "        if data_dict:\n",
    "            row_data = []\n",
    "            for c in COLUMNS:\n",
    "                cell = data_dict.get(c,\"\")\n",
    "                row_data.append(cell)\n",
    "            data.append(row_data)\n",
    "    except Exception as e:\n",
    "        print(f\"[Error] {str(e)}\\n{person.prettify()}\")"
   ]
  },
  {
   "cell_type": "code",
   "execution_count": 8,
   "id": "792ac560",
   "metadata": {
    "scrolled": true
   },
   "outputs": [
    {
     "data": {
      "text/plain": [
       "120"
      ]
     },
     "execution_count": 8,
     "metadata": {},
     "output_type": "execute_result"
    }
   ],
   "source": [
    "len(data) # data[-1]"
   ]
  },
  {
   "cell_type": "code",
   "execution_count": 9,
   "id": "3b0fddf8",
   "metadata": {},
   "outputs": [],
   "source": [
    "df = pd.DataFrame(data, columns=COLUMNS)"
   ]
  },
  {
   "cell_type": "code",
   "execution_count": 10,
   "id": "766e5c63",
   "metadata": {},
   "outputs": [
    {
     "name": "stdout",
     "output_type": "stream",
     "text": [
      "Number of faculties at CMU-CS: 120\n"
     ]
    }
   ],
   "source": [
    "print(f\"Number of faculties at {SCHOOL}: {df.shape[0]}\")"
   ]
  },
  {
   "cell_type": "code",
   "execution_count": 11,
   "id": "16a4497c",
   "metadata": {
    "scrolled": true
   },
   "outputs": [
    {
     "data": {
      "text/html": [
       "<div>\n",
       "<style scoped>\n",
       "    .dataframe tbody tr th:only-of-type {\n",
       "        vertical-align: middle;\n",
       "    }\n",
       "\n",
       "    .dataframe tbody tr th {\n",
       "        vertical-align: top;\n",
       "    }\n",
       "\n",
       "    .dataframe thead th {\n",
       "        text-align: right;\n",
       "    }\n",
       "</style>\n",
       "<table border=\"1\" class=\"dataframe\">\n",
       "  <thead>\n",
       "    <tr style=\"text-align: right;\">\n",
       "      <th></th>\n",
       "      <th>name</th>\n",
       "      <th>job_title</th>\n",
       "      <th>phd_univ</th>\n",
       "      <th>phd_year</th>\n",
       "      <th>research_area</th>\n",
       "      <th>research_concentration</th>\n",
       "      <th>research_focus</th>\n",
       "      <th>url</th>\n",
       "      <th>img_url</th>\n",
       "      <th>phone</th>\n",
       "      <th>email</th>\n",
       "      <th>cell_phone</th>\n",
       "      <th>office_address</th>\n",
       "      <th>department</th>\n",
       "      <th>school</th>\n",
       "    </tr>\n",
       "  </thead>\n",
       "  <tbody>\n",
       "    <tr>\n",
       "      <th>0</th>\n",
       "      <td>Acar, Umut</td>\n",
       "      <td>Associate Professor</td>\n",
       "      <td></td>\n",
       "      <td></td>\n",
       "      <td></td>\n",
       "      <td></td>\n",
       "      <td></td>\n",
       "      <td>https://csd.cmu.edu/people/faculty/umut-acar</td>\n",
       "      <td></td>\n",
       "      <td>(412) 268-6791</td>\n",
       "      <td>uacar@andrew.cmu.edu</td>\n",
       "      <td></td>\n",
       "      <td>9101 Gates and Hillman Centers</td>\n",
       "      <td>Computer Science</td>\n",
       "      <td>Carnegie Mellon Univ</td>\n",
       "    </tr>\n",
       "    <tr>\n",
       "      <th>1</th>\n",
       "      <td>Ada, Anil</td>\n",
       "      <td>Associate Teaching Professor</td>\n",
       "      <td></td>\n",
       "      <td></td>\n",
       "      <td></td>\n",
       "      <td></td>\n",
       "      <td></td>\n",
       "      <td>https://csd.cmu.edu/people/faculty/anil-ada</td>\n",
       "      <td></td>\n",
       "      <td>(412) 268-3835</td>\n",
       "      <td>aada@andrew.cmu.edu</td>\n",
       "      <td></td>\n",
       "      <td>6215 Gates and Hillman Centers</td>\n",
       "      <td>Computer Science</td>\n",
       "      <td>Carnegie Mellon Univ</td>\n",
       "    </tr>\n",
       "    <tr>\n",
       "      <th>2</th>\n",
       "      <td>Akoglu, Leman</td>\n",
       "      <td>Associate Professor, Affiliated Faculty</td>\n",
       "      <td></td>\n",
       "      <td></td>\n",
       "      <td></td>\n",
       "      <td></td>\n",
       "      <td></td>\n",
       "      <td>https://csd.cmu.edu/people/faculty/leman-akoglu</td>\n",
       "      <td></td>\n",
       "      <td>(412) 268-3043</td>\n",
       "      <td>lakoglu@andrew.cmu.edu</td>\n",
       "      <td></td>\n",
       "      <td>2118C Hamburg Hall</td>\n",
       "      <td>Computer Science</td>\n",
       "      <td>Carnegie Mellon Univ</td>\n",
       "    </tr>\n",
       "    <tr>\n",
       "      <th>3</th>\n",
       "      <td>Aldrich, Jonathan</td>\n",
       "      <td>Professor, Affiliated Faculty</td>\n",
       "      <td></td>\n",
       "      <td></td>\n",
       "      <td></td>\n",
       "      <td></td>\n",
       "      <td></td>\n",
       "      <td>https://csd.cmu.edu/people/faculty/jonathan-al...</td>\n",
       "      <td></td>\n",
       "      <td>(412) 268-7278</td>\n",
       "      <td>aldrich@cs.cmu.edu</td>\n",
       "      <td></td>\n",
       "      <td>422 TCS Hall</td>\n",
       "      <td>Computer Science</td>\n",
       "      <td>Carnegie Mellon Univ</td>\n",
       "    </tr>\n",
       "    <tr>\n",
       "      <th>4</th>\n",
       "      <td>Amvrosiadis, George</td>\n",
       "      <td>Assistant Research Professor, Affiliated Faculty</td>\n",
       "      <td></td>\n",
       "      <td></td>\n",
       "      <td></td>\n",
       "      <td></td>\n",
       "      <td></td>\n",
       "      <td>https://csd.cmu.edu/people/faculty/george-amvr...</td>\n",
       "      <td></td>\n",
       "      <td></td>\n",
       "      <td>gamvrosi@andrew.cmu.edu</td>\n",
       "      <td></td>\n",
       "      <td>2311 Mehrabian Collaborative Innovation Center</td>\n",
       "      <td>Computer Science</td>\n",
       "      <td>Carnegie Mellon Univ</td>\n",
       "    </tr>\n",
       "    <tr>\n",
       "      <th>...</th>\n",
       "      <td>...</td>\n",
       "      <td>...</td>\n",
       "      <td>...</td>\n",
       "      <td>...</td>\n",
       "      <td>...</td>\n",
       "      <td>...</td>\n",
       "      <td>...</td>\n",
       "      <td>...</td>\n",
       "      <td>...</td>\n",
       "      <td>...</td>\n",
       "      <td>...</td>\n",
       "      <td>...</td>\n",
       "      <td>...</td>\n",
       "      <td>...</td>\n",
       "      <td>...</td>\n",
       "    </tr>\n",
       "    <tr>\n",
       "      <th>115</th>\n",
       "      <td>Wing, Jeannette</td>\n",
       "      <td>Adjunct Faculty</td>\n",
       "      <td></td>\n",
       "      <td></td>\n",
       "      <td></td>\n",
       "      <td></td>\n",
       "      <td></td>\n",
       "      <td>https://csd.cmu.edu/people/faculty/jeannette-wing</td>\n",
       "      <td></td>\n",
       "      <td>(412) 268-2000</td>\n",
       "      <td>jw35@andrew.cmu.edu</td>\n",
       "      <td></td>\n",
       "      <td></td>\n",
       "      <td>Computer Science</td>\n",
       "      <td>Carnegie Mellon Univ</td>\n",
       "    </tr>\n",
       "    <tr>\n",
       "      <th>116</th>\n",
       "      <td>Woodruff, David</td>\n",
       "      <td>Professor</td>\n",
       "      <td></td>\n",
       "      <td></td>\n",
       "      <td></td>\n",
       "      <td></td>\n",
       "      <td></td>\n",
       "      <td>https://csd.cmu.edu/people/faculty/david-woodr...</td>\n",
       "      <td></td>\n",
       "      <td></td>\n",
       "      <td>dwoodruf@andrew.cmu.edu</td>\n",
       "      <td></td>\n",
       "      <td>7217 Gates and Hillman Centers</td>\n",
       "      <td>Computer Science</td>\n",
       "      <td>Carnegie Mellon Univ</td>\n",
       "    </tr>\n",
       "    <tr>\n",
       "      <th>117</th>\n",
       "      <td>Xhakaj, Franceska</td>\n",
       "      <td>Assistant Teaching Professor</td>\n",
       "      <td></td>\n",
       "      <td></td>\n",
       "      <td></td>\n",
       "      <td></td>\n",
       "      <td></td>\n",
       "      <td>https://csd.cmu.edu/people/faculty/franceska-x...</td>\n",
       "      <td></td>\n",
       "      <td></td>\n",
       "      <td>francesx@andrew.cmu.edu</td>\n",
       "      <td></td>\n",
       "      <td>4003 Gates and Hillman Centers</td>\n",
       "      <td>Computer Science</td>\n",
       "      <td>Carnegie Mellon Univ</td>\n",
       "    </tr>\n",
       "    <tr>\n",
       "      <th>118</th>\n",
       "      <td>Zhang, Hui</td>\n",
       "      <td>Consulting Professor</td>\n",
       "      <td></td>\n",
       "      <td></td>\n",
       "      <td></td>\n",
       "      <td></td>\n",
       "      <td></td>\n",
       "      <td>https://csd.cmu.edu/people/faculty/hui-zhang-0</td>\n",
       "      <td></td>\n",
       "      <td></td>\n",
       "      <td>huiz1@andrew.cmu.edu</td>\n",
       "      <td></td>\n",
       "      <td></td>\n",
       "      <td>Computer Science</td>\n",
       "      <td>Carnegie Mellon Univ</td>\n",
       "    </tr>\n",
       "    <tr>\n",
       "      <th>119</th>\n",
       "      <td>Zheng, Wenting</td>\n",
       "      <td>Assistant Professor</td>\n",
       "      <td></td>\n",
       "      <td></td>\n",
       "      <td></td>\n",
       "      <td></td>\n",
       "      <td></td>\n",
       "      <td>https://csd.cmu.edu/people/faculty/wenting-zheng</td>\n",
       "      <td></td>\n",
       "      <td></td>\n",
       "      <td>wzheng2@andrew.cmu.edu</td>\n",
       "      <td></td>\n",
       "      <td>9015 Gates and Hillman Centers</td>\n",
       "      <td>Computer Science</td>\n",
       "      <td>Carnegie Mellon Univ</td>\n",
       "    </tr>\n",
       "  </tbody>\n",
       "</table>\n",
       "<p>120 rows × 15 columns</p>\n",
       "</div>"
      ],
      "text/plain": [
       "                    name                                         job_title  \\\n",
       "0             Acar, Umut                               Associate Professor   \n",
       "1              Ada, Anil                      Associate Teaching Professor   \n",
       "2          Akoglu, Leman           Associate Professor, Affiliated Faculty   \n",
       "3      Aldrich, Jonathan                     Professor, Affiliated Faculty   \n",
       "4    Amvrosiadis, George  Assistant Research Professor, Affiliated Faculty   \n",
       "..                   ...                                               ...   \n",
       "115      Wing, Jeannette                                   Adjunct Faculty   \n",
       "116      Woodruff, David                                         Professor   \n",
       "117    Xhakaj, Franceska                      Assistant Teaching Professor   \n",
       "118           Zhang, Hui                              Consulting Professor   \n",
       "119       Zheng, Wenting                               Assistant Professor   \n",
       "\n",
       "    phd_univ phd_year research_area research_concentration research_focus  \\\n",
       "0                                                                           \n",
       "1                                                                           \n",
       "2                                                                           \n",
       "3                                                                           \n",
       "4                                                                           \n",
       "..       ...      ...           ...                    ...            ...   \n",
       "115                                                                         \n",
       "116                                                                         \n",
       "117                                                                         \n",
       "118                                                                         \n",
       "119                                                                         \n",
       "\n",
       "                                                   url img_url  \\\n",
       "0         https://csd.cmu.edu/people/faculty/umut-acar           \n",
       "1          https://csd.cmu.edu/people/faculty/anil-ada           \n",
       "2      https://csd.cmu.edu/people/faculty/leman-akoglu           \n",
       "3    https://csd.cmu.edu/people/faculty/jonathan-al...           \n",
       "4    https://csd.cmu.edu/people/faculty/george-amvr...           \n",
       "..                                                 ...     ...   \n",
       "115  https://csd.cmu.edu/people/faculty/jeannette-wing           \n",
       "116  https://csd.cmu.edu/people/faculty/david-woodr...           \n",
       "117  https://csd.cmu.edu/people/faculty/franceska-x...           \n",
       "118     https://csd.cmu.edu/people/faculty/hui-zhang-0           \n",
       "119   https://csd.cmu.edu/people/faculty/wenting-zheng           \n",
       "\n",
       "              phone                    email cell_phone  \\\n",
       "0    (412) 268-6791     uacar@andrew.cmu.edu              \n",
       "1    (412) 268-3835      aada@andrew.cmu.edu              \n",
       "2    (412) 268-3043   lakoglu@andrew.cmu.edu              \n",
       "3    (412) 268-7278       aldrich@cs.cmu.edu              \n",
       "4                    gamvrosi@andrew.cmu.edu              \n",
       "..              ...                      ...        ...   \n",
       "115  (412) 268-2000      jw35@andrew.cmu.edu              \n",
       "116                  dwoodruf@andrew.cmu.edu              \n",
       "117                  francesx@andrew.cmu.edu              \n",
       "118                     huiz1@andrew.cmu.edu              \n",
       "119                   wzheng2@andrew.cmu.edu              \n",
       "\n",
       "                                     office_address        department  \\\n",
       "0                    9101 Gates and Hillman Centers  Computer Science   \n",
       "1                    6215 Gates and Hillman Centers  Computer Science   \n",
       "2                                2118C Hamburg Hall  Computer Science   \n",
       "3                                      422 TCS Hall  Computer Science   \n",
       "4    2311 Mehrabian Collaborative Innovation Center  Computer Science   \n",
       "..                                              ...               ...   \n",
       "115                                                  Computer Science   \n",
       "116                  7217 Gates and Hillman Centers  Computer Science   \n",
       "117                  4003 Gates and Hillman Centers  Computer Science   \n",
       "118                                                  Computer Science   \n",
       "119                  9015 Gates and Hillman Centers  Computer Science   \n",
       "\n",
       "                   school  \n",
       "0    Carnegie Mellon Univ  \n",
       "1    Carnegie Mellon Univ  \n",
       "2    Carnegie Mellon Univ  \n",
       "3    Carnegie Mellon Univ  \n",
       "4    Carnegie Mellon Univ  \n",
       "..                    ...  \n",
       "115  Carnegie Mellon Univ  \n",
       "116  Carnegie Mellon Univ  \n",
       "117  Carnegie Mellon Univ  \n",
       "118  Carnegie Mellon Univ  \n",
       "119  Carnegie Mellon Univ  \n",
       "\n",
       "[120 rows x 15 columns]"
      ]
     },
     "execution_count": 11,
     "metadata": {},
     "output_type": "execute_result"
    }
   ],
   "source": [
    "df"
   ]
  },
  {
   "cell_type": "code",
   "execution_count": 12,
   "id": "cf641dc1",
   "metadata": {
    "scrolled": true
   },
   "outputs": [
    {
     "data": {
      "text/html": [
       "<div>\n",
       "<style scoped>\n",
       "    .dataframe tbody tr th:only-of-type {\n",
       "        vertical-align: middle;\n",
       "    }\n",
       "\n",
       "    .dataframe tbody tr th {\n",
       "        vertical-align: top;\n",
       "    }\n",
       "\n",
       "    .dataframe thead th {\n",
       "        text-align: right;\n",
       "    }\n",
       "</style>\n",
       "<table border=\"1\" class=\"dataframe\">\n",
       "  <thead>\n",
       "    <tr style=\"text-align: right;\">\n",
       "      <th></th>\n",
       "      <th>research_group</th>\n",
       "      <th>url</th>\n",
       "    </tr>\n",
       "  </thead>\n",
       "  <tbody>\n",
       "  </tbody>\n",
       "</table>\n",
       "</div>"
      ],
      "text/plain": [
       "Empty DataFrame\n",
       "Columns: [research_group, url]\n",
       "Index: []"
      ]
     },
     "execution_count": 12,
     "metadata": {},
     "output_type": "execute_result"
    }
   ],
   "source": [
    "# prepare research group dataframe\n",
    "cols = [\"research_group\", \"url\"]\n",
    "data = []\n",
    "for i in all_research_dict.keys():\n",
    "    data.append([i, all_research_dict.get(i,'')])\n",
    "    print(f\"{i}:\\t {all_research_dict.get(i,'')}\")\n",
    "\n",
    "df_research = pd.DataFrame(data, columns=cols)\n",
    "df_research"
   ]
  },
  {
   "cell_type": "raw",
   "id": "ec6ebb83",
   "metadata": {},
   "source": [
    "df.to_csv(f\"faculty-{SCHOOL}.csv\", index=False)"
   ]
  },
  {
   "cell_type": "code",
   "execution_count": 13,
   "id": "7cf4a565",
   "metadata": {},
   "outputs": [],
   "source": [
    "# import xlsxwriter\n",
    "file_xlsx = f\"faculty-{SCHOOL}.xlsx\"\n",
    "writer = pd.ExcelWriter(file_xlsx, engine='xlsxwriter')\n",
    "df.to_excel(writer, sheet_name=\"Faculty\", index=False)\n",
    "if not df_research.empty:\n",
    "    df_research.to_excel(writer, sheet_name = \"Research Groups\", index=False)\n",
    "writer.save()"
   ]
  },
  {
   "cell_type": "code",
   "execution_count": null,
   "id": "3783d819",
   "metadata": {},
   "outputs": [],
   "source": []
  }
 ],
 "metadata": {
  "kernelspec": {
   "display_name": "Python 3 (ipykernel)",
   "language": "python",
   "name": "python3"
  },
  "language_info": {
   "codemirror_mode": {
    "name": "ipython",
    "version": 3
   },
   "file_extension": ".py",
   "mimetype": "text/x-python",
   "name": "python",
   "nbconvert_exporter": "python",
   "pygments_lexer": "ipython3",
   "version": "3.9.13"
  },
  "nbTranslate": {
   "displayLangs": [
    "*"
   ],
   "hotkey": "alt-t",
   "langInMainMenu": true,
   "sourceLang": "en",
   "targetLang": "fr",
   "useGoogleTranslate": true
  },
  "toc": {
   "base_numbering": 1,
   "nav_menu": {},
   "number_sections": true,
   "sideBar": true,
   "skip_h1_title": false,
   "title_cell": "Table of Contents",
   "title_sidebar": "Contents",
   "toc_cell": false,
   "toc_position": {},
   "toc_section_display": true,
   "toc_window_display": false
  }
 },
 "nbformat": 4,
 "nbformat_minor": 5
}
