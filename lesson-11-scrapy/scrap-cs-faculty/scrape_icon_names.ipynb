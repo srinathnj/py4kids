{
 "cells": [
  {
   "cell_type": "code",
   "execution_count": 1,
   "id": "c0a343a5",
   "metadata": {},
   "outputs": [],
   "source": [
    "from IPython.display import display, Markdown, Latex\n",
    "from scrap_cs_faculty import *"
   ]
  },
  {
   "cell_type": "code",
   "execution_count": 9,
   "id": "b067f34d",
   "metadata": {},
   "outputs": [],
   "source": [
    "URL = \"https://fonts.google.com/icons?icon.set=Material+Icons\"\n",
    "\n",
    "URL = \"https://fonts.google.com/icons\"\n",
    "\n",
    "# from github\n",
    "# https://github.com/google/material-design-icons/tree/master/png/search/doorbell\n",
    "\n",
    "# Material Symbols\n",
    "# https://fonts.google.com/icons\n",
    "\n",
    "# Material Icons\n",
    "# https://fonts.google.com/icons?icon.set=Material+Icons"
   ]
  },
  {
   "cell_type": "code",
   "execution_count": 10,
   "id": "cf2e9892",
   "metadata": {},
   "outputs": [],
   "source": [
    "page = requests.get(URL, headers=BROWSER_HEADERS)\n",
    "soup = BeautifulSoup(page.content, \"html.parser\")"
   ]
  },
  {
   "cell_type": "code",
   "execution_count": 11,
   "id": "4550ff00",
   "metadata": {},
   "outputs": [
    {
     "data": {
      "text/plain": [
       "<!DOCTYPE html>\n",
       "<html lang=\"en\"><head><meta charset=\"utf-8\"/><meta content=\"Material Symbols are our newest icons consolidating over 2,500 glyphs in a single font file with a wide range of design variants.\" name=\"description\"/><meta content=\"Google Fonts\" property=\"og:site_name\"/><meta content=\"https://fonts.google.com/icons\" property=\"og:url\"/><meta content=\"Material Symbols and Icons - Google Fonts\" property=\"og:title\"/><meta content=\"Material Symbols are our newest icons consolidating over 2,500 glyphs in a single font file with a wide range of design variants.\" property=\"og:description\"/><meta content=\"https://www.gstatic.com/images/icons/material/apps/fonts/1x/material-symbols/material_symbols.jpg\" property=\"og:image\"/><meta content=\"1200\" property=\"og:image:width\"/><meta content=\"630\" property=\"og:image:height\"/><meta content=\"image/png\" property=\"og:image:type\"><meta content=\"summary_large_image\" name=\"twitter:card\"/><meta content=\"@googlefonts\" name=\"twitter:site\"/><meta content=\"Material Symbols and Icons - Google Fonts\" name=\"twitter:title\"/><meta content=\"Material Symbols are our newest icons consolidating over 2,500 glyphs in a single font file with a wide range of design variants.\" name=\"twitter:description\"/><meta content=\"https://www.gstatic.com/images/icons/material/apps/fonts/1x/material-symbols/material_symbols.jpg\" name=\"twitter:image\"/><meta content=\"website\" property=\"og:type\"><meta content=\"width=device-width, initial-scale=1\" name=\"viewport\"/><link href=\"https://www.gstatic.com/images/icons/material/apps/fonts/1x/catalog/v5/favicon.svg\" rel=\"icon\"/><meta content=\"yes\" name=\"apple-mobile-web-app-capable\"/><meta content=\"black-translucent\" name=\"apple-mobile-web-app-status-bar-style\"/><link href=\"https://www.gstatic.com/images/branding/product/1x/google_fonts_64dp.png\" rel=\"apple-touch-icon\"/><link href=\"https://www.gstatic.com/images/branding/product/1x/google_fonts_96dp.png\" rel=\"apple-touch-icon\" sizes=\"96x96\"/><link href=\"https://www.gstatic.com/images/branding/product/2x/google_fonts_64dp.png\" rel=\"apple-touch-icon\" sizes=\"128x128\"/><link href=\"https://www.gstatic.com/images/branding/product/2x/google_fonts_96dp.png\" rel=\"apple-touch-icon\" sizes=\"192x192\"/><link href=\"https://fonts.google.com/icons\" rel=\"canonical\"><link crossorigin=\"\" href=\"https://fonts.gstatic.com\" rel=\"preconnect\"/><style nonce=\"UFJi8n0YuBk0YKPS_HYe7Q\">@font-face{font-family:'Google Sans';font-style:normal;font-weight:400;font-display:block;src:url(//fonts.gstatic.com/s/googlesans/v29/4UaGrENHsxJlGDuGo1OIlL3Kwp5MKg.woff2)format('woff2');unicode-range:U+0301,U+0400-045F,U+0490-0491,U+04B0-04B1,U+2116;}@font-face{font-family:'Google Sans';font-style:normal;font-weight:400;font-display:block;src:url(//fonts.gstatic.com/s/googlesans/v29/4UaGrENHsxJlGDuGo1OIlL3Nwp5MKg.woff2)format('woff2');unicode-range:U+0370-03FF;}@font-face{font-family:'Google Sans';font-style:normal;font-weight:400;font-display:block;src:url(//fonts.gstatic.com/s/googlesans/v29/4UaGrENHsxJlGDuGo1OIlL3Mwp5MKg.woff2)format('woff2');unicode-range:U+0590-05FF,U+200C-2010,U+20AA,U+25CC,U+FB1D-FB4F;}@font-face{font-family:'Google Sans';font-style:normal;font-weight:400;font-display:block;src:url(//fonts.gstatic.com/s/googlesans/v29/4UaGrENHsxJlGDuGo1OIlL3Bwp5MKg.woff2)format('woff2');unicode-range:U+0102-0103,U+0110-0111,U+0128-0129,U+0168-0169,U+01A0-01A1,U+01AF-01B0,U+0300-0301,U+0303-0304,U+0308-0309,U+0323,U+0329,U+1EA0-1EF9,U+20AB;}@font-face{font-family:'Google Sans';font-style:normal;font-weight:400;font-display:block;src:url(//fonts.gstatic.com/s/googlesans/v29/4UaGrENHsxJlGDuGo1OIlL3Awp5MKg.woff2)format('woff2');unicode-range:U+0100-02AF,U+0304,U+0308,U+0329,U+1E00-1E9F,U+1EF2-1EFF,U+2020,U+20A0-20AB,U+20AD-20CF,U+2113,U+2C60-2C7F,U+A720-A7FF;}@font-face{font-family:'Google Sans';font-style:normal;font-weight:400;font-display:block;src:url(//fonts.gstatic.com/s/googlesans/v29/4UaGrENHsxJlGDuGo1OIlL3Owp4.woff2)format('woff2');unicode-range:U+0000-00FF,U+0131,U+0152-0153,U+02BB-02BC,U+02C6,U+02DA,U+02DC,U+0304,U+0308,U+0329,U+2000-206F,U+2074,U+20AC,U+2122,U+2191,U+2193,U+2212,U+2215,U+FEFF,U+FFFD;}@font-face{font-family:'Google Sans';font-style:normal;font-weight:500;font-display:block;src:url(//fonts.gstatic.com/s/googlesans/v29/4UaGrENHsxJlGDuGo1OIlL3Kwp5MKg.woff2)format('woff2');unicode-range:U+0301,U+0400-045F,U+0490-0491,U+04B0-04B1,U+2116;}@font-face{font-family:'Google Sans';font-style:normal;font-weight:500;font-display:block;src:url(//fonts.gstatic.com/s/googlesans/v29/4UaGrENHsxJlGDuGo1OIlL3Nwp5MKg.woff2)format('woff2');unicode-range:U+0370-03FF;}@font-face{font-family:'Google Sans';font-style:normal;font-weight:500;font-display:block;src:url(//fonts.gstatic.com/s/googlesans/v29/4UaGrENHsxJlGDuGo1OIlL3Mwp5MKg.woff2)format('woff2');unicode-range:U+0590-05FF,U+200C-2010,U+20AA,U+25CC,U+FB1D-FB4F;}@font-face{font-family:'Google Sans';font-style:normal;font-weight:500;font-display:block;src:url(//fonts.gstatic.com/s/googlesans/v29/4UaGrENHsxJlGDuGo1OIlL3Bwp5MKg.woff2)format('woff2');unicode-range:U+0102-0103,U+0110-0111,U+0128-0129,U+0168-0169,U+01A0-01A1,U+01AF-01B0,U+0300-0301,U+0303-0304,U+0308-0309,U+0323,U+0329,U+1EA0-1EF9,U+20AB;}@font-face{font-family:'Google Sans';font-style:normal;font-weight:500;font-display:block;src:url(//fonts.gstatic.com/s/googlesans/v29/4UaGrENHsxJlGDuGo1OIlL3Awp5MKg.woff2)format('woff2');unicode-range:U+0100-02AF,U+0304,U+0308,U+0329,U+1E00-1E9F,U+1EF2-1EFF,U+2020,U+20A0-20AB,U+20AD-20CF,U+2113,U+2C60-2C7F,U+A720-A7FF;}@font-face{font-family:'Google Sans';font-style:normal;font-weight:500;font-display:block;src:url(//fonts.gstatic.com/s/googlesans/v29/4UaGrENHsxJlGDuGo1OIlL3Owp4.woff2)format('woff2');unicode-range:U+0000-00FF,U+0131,U+0152-0153,U+02BB-02BC,U+02C6,U+02DA,U+02DC,U+0304,U+0308,U+0329,U+2000-206F,U+2074,U+20AC,U+2122,U+2191,U+2193,U+2212,U+2215,U+FEFF,U+FFFD;}@font-face{font-family:'Google Sans Mono';font-style:normal;font-weight:400;font-display:block;src:url(//fonts.gstatic.com/s/googlesansmono/v15/P5sZzYWFYtnZ_Cg-t0Uq_rfivrdYNYhsAg.woff2)format('woff2');unicode-range:U+0000-00FF,U+0131,U+0152-0153,U+02BB-02BC,U+02C6,U+02DA,U+02DC,U+0304,U+0308,U+0329,U+2000-206F,U+2074,U+20AC,U+2122,U+2191,U+2193,U+2212,U+2215,U+FEFF,U+FFFD;}@font-face{font-family:'Google Sans Mono';font-style:normal;font-weight:700;font-display:block;src:url(//fonts.gstatic.com/s/googlesansmono/v15/P5sZzYWFYtnZ_Cg-t0Uq_rfivrdYNYhsAg.woff2)format('woff2');unicode-range:U+0000-00FF,U+0131,U+0152-0153,U+02BB-02BC,U+02C6,U+02DA,U+02DC,U+0304,U+0308,U+0329,U+2000-206F,U+2074,U+20AC,U+2122,U+2191,U+2193,U+2212,U+2215,U+FEFF,U+FFFD;}</style><style nonce=\"UFJi8n0YuBk0YKPS_HYe7Q\">@font-face {font-family: Tofu;src: url(\"data:font/ttf;base64,AAEAAAAKAIAAAwAgT1MvMkWnTqsAAAEoAAAAYGNtYXAALvz2AAABkAAAAGRnbHlmO2FM+QAAAfwAAAAsaGVhZCSa2JAAAACsAAAANmhoZWEHbgNUAAAA5AAAACRobXR4BBoAAAAAAYgAAAAGbG9jYQAWAAAAAAH0AAAABm1heHAABAAMAAABCAAAACBuYW1l6hJPCQAAAigAAAFHcG9zdAADAAAAAANwAAAAIAABAAAAAQAAboUSyF8PPPUAAwQAAAAAAOEASjwAAAAA4QBKPACWAAAC7gMgAAAAAwACAAAAAAAAAAEAAAPo/zgAAAOEAJYAlgLuAAEAAAAAAAAAAAAAAAAAAAABAAEAAAACAAoAAQAAAAAAAgAAAAAAAAAAAAAAAAAAAAAAAwOEAZAABQAEAAAAAAAAAAAAAAAAAAAAAAAAAAAAAAAAAAAAAAAAAAD///////////////8H////Pz8/PwAAAAH//wPoAAAAAAPoAMgAAAAAAAAAAAAAAAAAAAAgAAADhAAAAJYAAAAAAAMAAAADAAAAHAADAAEAAAAcAAMACgAAADwABAAgAAAABAAEAAEAAAAB//8AAAAB//8AAAABAAAAAAANAAAAAAAoAAAAAAAAAAIAAAACAAD+DgAAAAEAAP4QABD//wAAAAEAAAAAABYAAAABAJYAAALuAyAACQAAMxEhESE3IREhEZYCWP2oMgH0/gwDIPzgMgK8/UQAAAAADACWAAEAAAAAAAEABAAAAAEAAAAAAAIABwAEAAEAAAAAAAMAGQALAAEAAAAAAAQADAAkAAEAAAAAAAUACwAwAAEAAAAAAAYADAAkAAMAAQQJAAEACAA7AAMAAQQJAAIADgBDAAMAAQQJAAMAMgBRAAMAAQQJAAQAGACDAAMAAQQJAAUAFgCbAAMAAQQJAAYAGACDVG9mdVJlZ3VsYXJmb250QnVpbGRlcjogVG9mdS5SZWd1bGFyVG9mdS1SZWd1bGFyVmVyc2lvbiAwLjEAVABvAGYAdQBSAGUAZwB1AGwAYQByAGYAbwBuAHQAQgB1AGkAbABkAGUAcgA6ACAAVABvAGYAdQAuAFIAZQBnAHUAbABhAHIAVABvAGYAdQAtAFIAZQBnAHUAbABhAHIAVgBlAHIAcwBpAG8AbgAgADAALgAxAAADAAAAAAAAAAAAAAAAAAAAAAAAAAAAAAAAAAAAAAAA\");}</style><link href=\"//www.gstatic.com/_/fonts/_/ss/k=fonts.app.F3ag6MfjufE.L.W.O/d=0/br=1/rs=AE60u5eae_a9RAYghMFt_em3v_0OkiXAqg\" id=\"app-css\" nonce=\"UFJi8n0YuBk0YKPS_HYe7Q\" rel=\"stylesheet\"/><title>Material Symbols and Icons - Google Fonts</title><base href=\"/\" target=\"_blank\"/><script async=\"\" nonce=\"ecIiK1pRw1CDuneCfX_jmQ\" src=\"https://www.googletagmanager.com/gtag/js?id=G-XPW1QSKFW4\"></script><script nonce=\"ecIiK1pRw1CDuneCfX_jmQ\">window.dataLayer = window.dataLayer || [];function gtag(){dataLayer.push(arguments);}window['GA_TRACKING_ID'] = 'G-XPW1QSKFW4'; gtag('js', new Date()); gtag('config', window['GA_TRACKING_ID'], {'anonymize_ip': true, 'referrer' : document.referrer.split('?')[0],});</script></link></meta></meta></head><body itemscope=\"\" itemtype=\"http://schema.org/WebPage\"><gf-root></gf-root><script nonce=\"ecIiK1pRw1CDuneCfX_jmQ\">window['CONFIG'] = 'WyJjb25maWciLFsiZmVhdHVyZXMiLDAsMCwwLDAsMSwxLDFdLCIvIiwiLyIsIi8vIiwiZm9udHMuZ29vZ2xlYXBpcy5jb20iLDAsMSwxLG51bGwsMCwwLDEsIjEwMjU2OTUiXQ\\x3d\\x3d';if ('serviceWorker' in navigator) {navigator.serviceWorker.register('/sw.js', {scope: '/'}) .then(registration => registration.update());}</script><script id=\"base-js\" nonce=\"ecIiK1pRw1CDuneCfX_jmQ\" src=\"//www.gstatic.com/_/fonts/_/js/k=fonts.app.en_US.F0hl6zozqb8.es6.O/d=1/br=1/rs=AE60u5frCb2dETWibqmRX4QfZ0tqcFxYMw/m=core\"></script><script async=\"\" nonce=\"ecIiK1pRw1CDuneCfX_jmQ\" src=\"https://ssl.gstatic.com/external_hosted/lottie/lottie_light.js\"></script></body></html>"
      ]
     },
     "execution_count": 11,
     "metadata": {},
     "output_type": "execute_result"
    }
   ],
   "source": [
    "soup"
   ]
  },
  {
   "cell_type": "raw",
   "id": "8bcb4472",
   "metadata": {},
   "source": [
    "<span _ngcontent-ng-c2556727664=\"\" class=\"icon-name mat-caption\">Accessible Forward</span>"
   ]
  },
  {
   "cell_type": "code",
   "execution_count": 12,
   "id": "6933ce70",
   "metadata": {},
   "outputs": [],
   "source": [
    "icons = soup.find_all(\"span\", class_=\"icon-name mat-caption\")"
   ]
  },
  {
   "cell_type": "code",
   "execution_count": 13,
   "id": "c01d2a7f",
   "metadata": {},
   "outputs": [
    {
     "ename": "IndexError",
     "evalue": "list index out of range",
     "output_type": "error",
     "traceback": [
      "\u001b[1;31m---------------------------------------------------------------------------\u001b[0m",
      "\u001b[1;31mIndexError\u001b[0m                                Traceback (most recent call last)",
      "\u001b[1;32m~\\AppData\\Local\\Temp\\ipykernel_15304\\3462519230.py\u001b[0m in \u001b[0;36m<module>\u001b[1;34m\u001b[0m\n\u001b[1;32m----> 1\u001b[1;33m \u001b[0mlen\u001b[0m\u001b[1;33m(\u001b[0m\u001b[0micons\u001b[0m\u001b[1;33m)\u001b[0m\u001b[1;33m,\u001b[0m \u001b[0micons\u001b[0m\u001b[1;33m[\u001b[0m\u001b[1;36m0\u001b[0m\u001b[1;33m]\u001b[0m\u001b[1;33m\u001b[0m\u001b[1;33m\u001b[0m\u001b[0m\n\u001b[0m",
      "\u001b[1;31mIndexError\u001b[0m: list index out of range"
     ]
    }
   ],
   "source": [
    "len(icons), icons[0]"
   ]
  },
  {
   "cell_type": "code",
   "execution_count": 6,
   "id": "53846419",
   "metadata": {},
   "outputs": [
    {
     "data": {
      "text/plain": [
       "[]"
      ]
     },
     "execution_count": 6,
     "metadata": {},
     "output_type": "execute_result"
    }
   ],
   "source": [
    "icons"
   ]
  },
  {
   "cell_type": "code",
   "execution_count": null,
   "id": "eb815f68",
   "metadata": {},
   "outputs": [],
   "source": []
  }
 ],
 "metadata": {
  "kernelspec": {
   "display_name": "Python 3 (ipykernel)",
   "language": "python",
   "name": "python3"
  },
  "language_info": {
   "codemirror_mode": {
    "name": "ipython",
    "version": 3
   },
   "file_extension": ".py",
   "mimetype": "text/x-python",
   "name": "python",
   "nbconvert_exporter": "python",
   "pygments_lexer": "ipython3",
   "version": "3.9.13"
  },
  "nbTranslate": {
   "displayLangs": [
    "*"
   ],
   "hotkey": "alt-t",
   "langInMainMenu": true,
   "sourceLang": "en",
   "targetLang": "fr",
   "useGoogleTranslate": true
  },
  "toc": {
   "base_numbering": 1,
   "nav_menu": {},
   "number_sections": true,
   "sideBar": true,
   "skip_h1_title": false,
   "title_cell": "Table of Contents",
   "title_sidebar": "Contents",
   "toc_cell": false,
   "toc_position": {},
   "toc_section_display": true,
   "toc_window_display": false
  }
 },
 "nbformat": 4,
 "nbformat_minor": 5
}
