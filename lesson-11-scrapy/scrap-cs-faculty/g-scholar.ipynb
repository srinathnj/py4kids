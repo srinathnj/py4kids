{
 "cells": [
  {
   "cell_type": "markdown",
   "id": "fd35f0cd",
   "metadata": {},
   "source": [
    "## my analysis on scraping google scholar\n",
    "\n",
    "simple scraping with requests/beautifulsoup will NOT work because Google detects scraping and enforces IP blocking. \n",
    "\n",
    "More robust solutions:\n",
    "    \n",
    "- [scholarly](https://github.com/scholarly-python-package/scholarly)\n",
    "    - free, no h-index, but useful for getting scholar_id and list of publications\n",
    "    - see [`scholarly.ipynb`](https://github.com/wgong/py4kids/blob/master/lesson-11-scrapy/scrap-cs-faculty/scholarly.ipynb)\n",
    "\n",
    "- [SerpAPI](https://serpapi.com/) - Scrape Google and other search engines from our fast, easy, and complete API (paid).\n",
    "    - A blog on scaping Google Scholar - https://plainenglish.io/blog/scrape-google-scholar-with-python-fc6898419305"
   ]
  },
  {
   "cell_type": "code",
   "execution_count": 1,
   "id": "459bc432",
   "metadata": {},
   "outputs": [],
   "source": [
    "from IPython.display import display, Markdown, Latex\n",
    "from scrap_cs_faculty import *"
   ]
  },
  {
   "cell_type": "code",
   "execution_count": 2,
   "id": "ce5d4748",
   "metadata": {},
   "outputs": [
    {
     "name": "stdout",
     "output_type": "stream",
     "text": [
      "https://scholar.google.com\n"
     ]
    }
   ],
   "source": [
    "URL = SCHOOL_DICT[\"Google-Scholar\"][\"url\"]  \n",
    "print(URL)"
   ]
  },
  {
   "cell_type": "code",
   "execution_count": 3,
   "id": "a9bbf01f",
   "metadata": {},
   "outputs": [],
   "source": [
    "def get_url_scholar(author_org, base_url=URL):\n",
    "    search_str = \"+\".join(author_org.split())\n",
    "    return f\"{base_url}/scholar?hl=en&as_sdt=0%2C34&q={search_str}\""
   ]
  },
  {
   "cell_type": "code",
   "execution_count": 4,
   "id": "e85acc1a",
   "metadata": {},
   "outputs": [],
   "source": [
    "def get_url_citation(href, base_url=URL):\n",
    "    return f\"{base_url}{href}\""
   ]
  },
  {
   "cell_type": "markdown",
   "id": "04fa534d",
   "metadata": {},
   "source": [
    "## search google scholar by name/org"
   ]
  },
  {
   "cell_type": "code",
   "execution_count": 6,
   "id": "4cab2e78",
   "metadata": {},
   "outputs": [],
   "source": [
    "author_org = \"Deborah Estrin cornell\"\n",
    "url = get_url_scholar(author_org)"
   ]
  },
  {
   "cell_type": "code",
   "execution_count": 7,
   "id": "3ee3d215",
   "metadata": {},
   "outputs": [],
   "source": [
    "page = requests.get(url, headers=BROWSER_HEADERS)"
   ]
  },
  {
   "cell_type": "code",
   "execution_count": 8,
   "id": "707d58c0",
   "metadata": {},
   "outputs": [],
   "source": [
    "soup = BeautifulSoup(page.content, \"html.parser\")"
   ]
  },
  {
   "cell_type": "code",
   "execution_count": 9,
   "id": "78270ad5",
   "metadata": {},
   "outputs": [],
   "source": [
    "citation_node = soup.find(\"h4\", class_=\"gs_rt2\")\n",
    "if citation_node is not None:\n",
    "    citation_url = results.find(\"a\")[\"href\"]\n",
    "    print(get_url_citation(citation_url))"
   ]
  },
  {
   "cell_type": "code",
   "execution_count": null,
   "id": "0e16e9f2",
   "metadata": {},
   "outputs": [],
   "source": []
  },
  {
   "cell_type": "markdown",
   "id": "96602e84",
   "metadata": {},
   "source": [
    "## get citation"
   ]
  },
  {
   "cell_type": "code",
   "execution_count": 40,
   "id": "8b48ac51",
   "metadata": {},
   "outputs": [],
   "source": [
    "url = get_url_citation(citation_url)\n",
    "page2 = requests.get(url, headers=BROWSER_HEADERS)\n",
    "soup2 = BeautifulSoup(page2.content, \"html.parser\")"
   ]
  },
  {
   "cell_type": "code",
   "execution_count": 43,
   "id": "dc2f3c4d",
   "metadata": {},
   "outputs": [],
   "source": [
    "hindex = soup2.find(\"table\", id_=\"gsc_rsb_st\")"
   ]
  },
  {
   "cell_type": "code",
   "execution_count": 44,
   "id": "eb1f435e",
   "metadata": {},
   "outputs": [],
   "source": [
    "hindex"
   ]
  },
  {
   "cell_type": "code",
   "execution_count": 45,
   "id": "8fef297b",
   "metadata": {
    "scrolled": true
   },
   "outputs": [
    {
     "name": "stdout",
     "output_type": "stream",
     "text": [
      "<!DOCTYPE html PUBLIC \"-//W3C//DTD HTML 4.01 Transitional//EN\">\n",
      "<html>\n",
      " <head>\n",
      "  <meta content=\"text/html; charset=utf-8\" http-equiv=\"content-type\"/>\n",
      "  <meta content=\"initial-scale=1\" name=\"viewport\"/>\n",
      "  <title>\n",
      "   https://scholar.google.com/citations?user=3_WYcR4AAAAJ&amp;hl=en&amp;oi=ao\n",
      "  </title>\n",
      " </head>\n",
      " <body onload=\"e=document.getElementById('captcha');if(e){e.focus();} if(solveSimpleChallenge) {solveSimpleChallenge(,);}\" style=\"font-family: arial, sans-serif; background-color: #fff; color: #000; padding:20px; font-size:18px; overscroll-behavior:contain;\">\n",
      "  <div style=\"max-width:400px;\">\n",
      "   <hr noshade=\"\" size=\"1\" style=\"color:#ccc; background-color:#ccc;\"/>\n",
      "   <br/>\n",
      "   <div style=\"font-size:13px;\">\n",
      "    Our systems have detected unusual traffic from your computer network.  Please try your request again later.\n",
      "    <a href=\"#\" onclick=\"document.getElementById('infoDiv0').style.display='block';\">\n",
      "     Why did this happen?\n",
      "    </a>\n",
      "    <br/>\n",
      "    <br/>\n",
      "    <div id=\"infoDiv0\" style=\"display:none; background-color:#eee; padding:10px; margin:0 0 15px 0; line-height:1.4em;\">\n",
      "     This page appears when Google automatically detects requests coming from your computer network which appear to be in violation of the\n",
      "     <a href=\"//www.google.com/policies/terms/\">\n",
      "      Terms of Service\n",
      "     </a>\n",
      "     . The block will expire shortly after those requests stop.\n",
      "     <br/>\n",
      "     <br/>\n",
      "     This traffic may have been sent by malicious software, a browser plug-in, or a script that sends automated requests.  If you share your network connection, ask your administrator for help — a different computer using the same IP address may be responsible.\n",
      "     <a href=\"//support.google.com/websearch/answer/86640\">\n",
      "      Learn more\n",
      "     </a>\n",
      "     <br/>\n",
      "     <br/>\n",
      "     Sometimes you may see this page if you are using advanced terms that robots are known to use, or sending requests very quickly.\n",
      "    </div>\n",
      "    <br/>\n",
      "    IP address: 99.111.153.200\n",
      "    <br/>\n",
      "    Time: 2023-09-04T13:01:20Z\n",
      "    <br/>\n",
      "    URL: https://scholar.google.com/citations?user=3_WYcR4AAAAJ&amp;hl=en&amp;oi=ao\n",
      "    <br/>\n",
      "   </div>\n",
      "  </div>\n",
      " </body>\n",
      "</html>\n",
      "\n"
     ]
    }
   ],
   "source": [
    "print(soup2.prettify())"
   ]
  },
  {
   "cell_type": "markdown",
   "id": "371dcd84",
   "metadata": {},
   "source": [
    "Blocking due to `Our systems have detected unusual traffic from your computer network.`"
   ]
  },
  {
   "cell_type": "code",
   "execution_count": null,
   "id": "cf2424e5",
   "metadata": {},
   "outputs": [],
   "source": []
  },
  {
   "cell_type": "code",
   "execution_count": null,
   "id": "1bd5a3b0",
   "metadata": {},
   "outputs": [],
   "source": []
  },
  {
   "cell_type": "markdown",
   "id": "c0550bd4",
   "metadata": {},
   "source": [
    "if user profiles exists,\n",
    "\n",
    "<h3 class=\"gs_rt\"><a href=\"/citations?view_op=search_authors&amp;mauthors=Deborah+Estrin+cornell&amp;hl=en&amp;oi=ao\">User profiles for <b>Deborah Estrin cornell</b></a></h3>\n",
    "\n",
    "\n",
    "hindex_url = https://scholar.google.com/citations?user=3_WYcR4AAAAJ&hl=en&oi=ao\n",
    "\n",
    "\n",
    "<h4 class=\"gs_rt2\"><a href=\"/citations?user=3_WYcR4AAAAJ&amp;hl=en&amp;oi=ao\"><b>Deborah Estrin</b></a></h4>\n",
    "\n",
    "grap URL within above element\n",
    "\n",
    "table element \n",
    "<table id=\"gsc_rsb_st\"><thead><tr><th class=\"gsc_rsb_sth\"></th><th class=\"gsc_rsb_sth\">All</th><th class=\"gsc_rsb_sth\">Since 2018</th></tr></thead><tbody><tr><td class=\"gsc_rsb_sc1\"><a href=\"javascript:void(0)\" class=\"gsc_rsb_f gs_ibl\" title=\"This is the number of citations to all publications. The second column has the &quot;recent&quot; version of this metric which is the number of new citations in the last 5 years to all publications.\">Citations</a></td><td class=\"gsc_rsb_std\">130042</td><td class=\"gsc_rsb_std\">16516</td></tr><tr><td class=\"gsc_rsb_sc1\"><a href=\"javascript:void(0)\" class=\"gsc_rsb_f gs_ibl\" title=\"h-index is the largest number h such that h publications have at least h citations. The second column has the &quot;recent&quot; version of this metric which is the largest number h such that h publications have at least h new citations in the last 5 years.\">h-index</a></td><td class=\"gsc_rsb_std\">138</td><td class=\"gsc_rsb_std\">60</td></tr><tr><td class=\"gsc_rsb_sc1\"><a href=\"javascript:void(0)\" class=\"gsc_rsb_f gs_ibl\" title=\"i10-index is the number of publications with at least 10 citations. The second column has the &quot;recent&quot; version of this metric which is the number of publications that have received at least 10 new citations in the last 5 years.\">i10-index</a></td><td class=\"gsc_rsb_std\">361</td><td class=\"gsc_rsb_std\">189</td></tr></tbody></table>\n",
    "\n",
    "\n",
    "actual h-index inside element\n",
    "\n",
    "<tr><td class=\"gsc_rsb_sc1\"><a href=\"javascript:void(0)\" class=\"gsc_rsb_f gs_ibl\" title=\"h-index is the largest number h such that h publications have at least h citations. The second column has the &quot;recent&quot; version of this metric which is the largest number h such that h publications have at least h new citations in the last 5 years.\">h-index</a></td><td class=\"gsc_rsb_std\">138</td><td class=\"gsc_rsb_std\">60</td></tr>\n"
   ]
  },
  {
   "cell_type": "code",
   "execution_count": null,
   "id": "4dc17c8e",
   "metadata": {},
   "outputs": [],
   "source": []
  }
 ],
 "metadata": {
  "kernelspec": {
   "display_name": "Python 3 (ipykernel)",
   "language": "python",
   "name": "python3"
  },
  "language_info": {
   "codemirror_mode": {
    "name": "ipython",
    "version": 3
   },
   "file_extension": ".py",
   "mimetype": "text/x-python",
   "name": "python",
   "nbconvert_exporter": "python",
   "pygments_lexer": "ipython3",
   "version": "3.9.13"
  },
  "nbTranslate": {
   "displayLangs": [
    "*"
   ],
   "hotkey": "alt-t",
   "langInMainMenu": true,
   "sourceLang": "en",
   "targetLang": "fr",
   "useGoogleTranslate": true
  },
  "toc": {
   "base_numbering": 1,
   "nav_menu": {},
   "number_sections": true,
   "sideBar": true,
   "skip_h1_title": false,
   "title_cell": "Table of Contents",
   "title_sidebar": "Contents",
   "toc_cell": false,
   "toc_position": {},
   "toc_section_display": true,
   "toc_window_display": false
  }
 },
 "nbformat": 4,
 "nbformat_minor": 5
}
