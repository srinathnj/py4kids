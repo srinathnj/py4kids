{
 "cells": [
  {
   "cell_type": "markdown",
   "metadata": {},
   "source": [
    "[py4kids](https://github.com/wgong/py4kids)"
   ]
  },
  {
   "cell_type": "markdown",
   "metadata": {},
   "source": [
    "# Scrapy- Crawl & Scrape the Web\n",
    "\n",
    "In this lesson we learn how to extract data from the web using powerful scrapy"
   ]
  },
  {
   "cell_type": "code",
   "execution_count": 1,
   "metadata": {},
   "outputs": [
    {
     "data": {
      "text/html": [
       "<div id=\"my_id_menu_nb\">run previous cell, wait for 2 seconds</div>\n",
       "<script>\n",
       "function repeat_indent_string(n){\n",
       "    var a = \"\" ;\n",
       "    for ( ; n > 0 ; --n) {\n",
       "        a += \"    \";\n",
       "    }\n",
       "    return a;\n",
       "}\n",
       "var update_menu_string = function(begin, lfirst, llast, sformat, send, keep_item) {\n",
       "    var anchors = document.getElementsByClassName(\"section\");\n",
       "    if (anchors.length == 0) {\n",
       "        anchors = document.getElementsByClassName(\"text_cell_render rendered_html\");\n",
       "    }\n",
       "    var i,t;\n",
       "    var text_menu = begin;\n",
       "    var text_memo = \"<pre>\\nlength:\" + anchors.length + \"\\n\";\n",
       "    var ind = \"\";\n",
       "    var memo_level = 1;\n",
       "    var href;\n",
       "    var tags = [];\n",
       "    var main_item = 0;\n",
       "    for (i = 0; i <= llast; i++) {\n",
       "        tags.push(\"h\" + i);\n",
       "    }\n",
       "\n",
       "    for (i = 0; i < anchors.length; i++) {\n",
       "        text_memo += \"**\" + anchors[i].id + \"--\\n\";\n",
       "\n",
       "        var child = null;\n",
       "        for(t = 0; t < tags.length; t++) {\n",
       "            var r = anchors[i].getElementsByTagName(tags[t]);\n",
       "            if (r.length > 0) {\n",
       "child = r[0];\n",
       "break;\n",
       "            }\n",
       "        }\n",
       "        if (child == null){\n",
       "            text_memo += \"null\\n\";\n",
       "            continue;\n",
       "        }\n",
       "        if (anchors[i].hasAttribute(\"id\")) {\n",
       "            // when converted in RST\n",
       "            href = anchors[i].id;\n",
       "            text_memo += \"#1-\" + href;\n",
       "            // passer à child suivant (le chercher)\n",
       "        }\n",
       "        else if (child.hasAttribute(\"id\")) {\n",
       "            // in a notebook\n",
       "            href = child.id;\n",
       "            text_memo += \"#2-\" + href;\n",
       "        }\n",
       "        else {\n",
       "            text_memo += \"#3-\" + \"*\" + \"\\n\";\n",
       "            continue;\n",
       "        }\n",
       "        var title = child.textContent;\n",
       "        var level = parseInt(child.tagName.substring(1,2));\n",
       "\n",
       "        text_memo += \"--\" + level + \"?\" + lfirst + \"--\" + title + \"\\n\";\n",
       "\n",
       "        if ((level < lfirst) || (level > llast)) {\n",
       "            continue ;\n",
       "        }\n",
       "        if (title.endsWith('¶')) {\n",
       "            title = title.substring(0,title.length-1).replace(\"<\", \"&lt;\").replace(\">\", \"&gt;\").replace(\"&\", \"&amp;\")\n",
       "        }\n",
       "\n",
       "        if (title.length == 0) {\n",
       "            continue;\n",
       "        }\n",
       "\n",
       "        while (level < memo_level) {\n",
       "            text_menu += \"</ul>\\n\";\n",
       "            memo_level -= 1;\n",
       "        }\n",
       "        if (level == lfirst) {\n",
       "            main_item += 1;\n",
       "        }\n",
       "        if (keep_item != -1 && main_item != keep_item + 1) {\n",
       "            // alert(main_item + \" - \" + level + \" - \" + keep_item);\n",
       "            continue;\n",
       "        }\n",
       "        while (level > memo_level) {\n",
       "            text_menu += \"<ul>\\n\";\n",
       "            memo_level += 1;\n",
       "        }\n",
       "        text_menu += repeat_indent_string(level-2) + sformat.replace(\"__HREF__\", href).replace(\"__TITLE__\", title);\n",
       "    }\n",
       "    while (1 < memo_level) {\n",
       "        text_menu += \"</ul>\\n\";\n",
       "        memo_level -= 1;\n",
       "    }\n",
       "    text_menu += send;\n",
       "    //text_menu += \"\\n\" + text_memo;\n",
       "    return text_menu;\n",
       "};\n",
       "var update_menu = function() {\n",
       "    var sbegin = \"\";\n",
       "    var sformat = '<li><a href=\"#__HREF__\">__TITLE__</a></li>';\n",
       "    var send = \"\";\n",
       "    var keep_item = -1;\n",
       "    var text_menu = update_menu_string(sbegin, 2, 4, sformat, send, keep_item);\n",
       "    var menu = document.getElementById(\"my_id_menu_nb\");\n",
       "    menu.innerHTML=text_menu;\n",
       "};\n",
       "window.setTimeout(update_menu,2000);\n",
       "            </script>"
      ],
      "text/plain": [
       "<IPython.core.display.HTML object>"
      ]
     },
     "execution_count": 1,
     "metadata": {},
     "output_type": "execute_result"
    }
   ],
   "source": [
    "from jyquickhelper import add_notebook_menu\n",
    "add_notebook_menu()"
   ]
  },
  {
   "cell_type": "markdown",
   "metadata": {},
   "source": [
    "## [Scrapy](https://scrapy.org/)\n",
    "\n",
    "<img src=../images/011-1-scrapy-logo.png width=30%>\n",
    "\n",
    "### Overview\n",
    "\n",
    "An open source and collaborative framework for extracting the data you need from websites\n",
    "in a fast, simple, yet extensible way.\n",
    "\n",
    "<img src=../images/011-2-scrapy-pro.JPG width=90%>\n",
    "\n",
    "### How does it work\n",
    "\n",
    "<img src=../images/011-2-scrapy-arch.jpg width=90%>\n",
    "\n",
    "### DOM tree in browser\n",
    "\n",
    "<img src=../images/011-3-dom-tree.JPG width=100%>\n",
    "\n"
   ]
  },
  {
   "cell_type": "markdown",
   "metadata": {},
   "source": [
    "### Install\n",
    "\n",
    "```\n",
    "cmd> conda install scrapy\n",
    "\n",
    "cmd> pip install scrapy\n",
    "```"
   ]
  },
  {
   "cell_type": "markdown",
   "metadata": {},
   "source": [
    "### Create a project\n",
    "\n",
    "* open a terminal window, \n",
    "* create a working folder, \n",
    "* type\n",
    "```\n",
    "cmd> scrapy startproject tutorial\n",
    "```\n",
    "\n",
    "<img src=../images/011-4-spider-project.JPG width=100%>"
   ]
  },
  {
   "cell_type": "markdown",
   "metadata": {},
   "source": [
    "### Customize spider\n",
    "\n",
    "* specify download web addresses (URL)\n",
    "* define parser logic\n",
    "\n",
    "<img src=../images/011-5-spider1.JPG width=100%>\n"
   ]
  },
  {
   "cell_type": "markdown",
   "metadata": {},
   "source": [
    "### Launch spider\n",
    "\n",
    "```\n",
    "CMD> scrapy crawl quotes\n",
    "```\n",
    "\n",
    "Two files will be created in the current folder:\n",
    "* quotes-1.html:\n",
    "    * [web copy](http://quotes.toscrape.com/page/1/)  \n",
    "    * <a href=./scrapy-tutorial/quotes-1.html> local copy</a>\n",
    "* quotes-2.html\n",
    "    * [web copy](http://quotes.toscrape.com/page/2/)\n",
    "    * <a href=./scrapy-tutorial/quotes-2.html> local copy</a>\n"
   ]
  },
  {
   "cell_type": "markdown",
   "metadata": {},
   "source": [
    "### Extract data\n",
    "\n",
    "```\n",
    "CMD> scrapy crawl quotes\n",
    "```\n",
    "\n",
    "Two files will be created in the current folder:\n",
    "* quotes-1.html:\n",
    "    * [web copy](http://quotes.toscrape.com/page/1/)  \n",
    "    * <a href=./scrapy-tutorial/quotes-1.html> local copy</a>\n",
    "* quotes-2.html\n",
    "    * [web copy](http://quotes.toscrape.com/page/2/)\n",
    "    * <a href=./scrapy-tutorial/quotes-2.html> local copy</a>\n",
    "    \n",
    "\n",
    "Extract data and save them into CSV file:\n",
    "\n",
    "<img src=../images/011-5-spider2.JPG width=100%>\n",
    "\n"
   ]
  },
  {
   "cell_type": "markdown",
   "metadata": {},
   "source": [
    "### Follow next link\n",
    "\n",
    "To download all the quotes, follow \"Next Page\" line recursively:\n",
    "\n",
    "<img src=../images/011-5-spider3.JPG width=100%>\n",
    "\n"
   ]
  },
  {
   "cell_type": "markdown",
   "metadata": {
    "collapsed": true
   },
   "source": [
    "## References\n",
    "\n",
    "* [Basic Tutorial](https://doc.scrapy.org/en/latest/intro/tutorial.html)\n",
    "\n",
    "* [Using Scrapy in Jupyter notebook](http://www.jitsejan.nl/using-scrapy-in-jupyter-notebook.html)\n",
    "\n",
    "* [Build your 1st web crawler](https://medium.com/python-pandemonium/develop-your-first-web-crawler-in-python-scrapy-6b2ee4baf954)\n",
    "\n",
    "* [How To Crawl A Web Page with Scrapy and Python](https://www.digitalocean.com/community/tutorials/how-to-crawl-a-web-page-with-scrapy-and-python-3)\n",
    "\n",
    "* [Scrapy Tutorial: Web Scraping Craigslist](http://python.gotrained.com/scrapy-tutorial-web-scraping-craigslist/)\n",
    "\n",
    "* [image crawlers](https://pypi.python.org/pypi/icrawler)\n"
   ]
  },
  {
   "cell_type": "markdown",
   "metadata": {
    "collapsed": true
   },
   "source": [
    "## Learn to learn\n",
    "\n",
    "* [google](https://www.google.com/)\n",
    "    * images\n",
    "    * YouTube, videos\n",
    "* [stackoverflow](https://stackoverflow.com/)\n",
    "* [quora](https://www.quora.com/)\n",
    "* [slideshare](https://www.slideshare.net/)\n",
    "* [learn anything](https://learn-anything.xyz/programming/programming-languages/python)"
   ]
  },
  {
   "cell_type": "code",
   "execution_count": null,
   "metadata": {
    "collapsed": true
   },
   "outputs": [],
   "source": []
  }
 ],
 "metadata": {
  "anaconda-cloud": {},
  "kernelspec": {
   "display_name": "Python 3 (ipykernel)",
   "language": "python",
   "name": "python3"
  },
  "language_info": {
   "codemirror_mode": {
    "name": "ipython",
    "version": 3
   },
   "file_extension": ".py",
   "mimetype": "text/x-python",
   "name": "python",
   "nbconvert_exporter": "python",
   "pygments_lexer": "ipython3",
   "version": "3.9.13"
  },
  "nbTranslate": {
   "displayLangs": [
    "*"
   ],
   "hotkey": "alt-t",
   "langInMainMenu": true,
   "sourceLang": "en",
   "targetLang": "fr",
   "useGoogleTranslate": true
  },
  "toc": {
   "base_numbering": 1,
   "nav_menu": {},
   "number_sections": true,
   "sideBar": true,
   "skip_h1_title": false,
   "title_cell": "Table of Contents",
   "title_sidebar": "Contents",
   "toc_cell": false,
   "toc_position": {},
   "toc_section_display": true,
   "toc_window_display": false
  }
 },
 "nbformat": 4,
 "nbformat_minor": 1
}
